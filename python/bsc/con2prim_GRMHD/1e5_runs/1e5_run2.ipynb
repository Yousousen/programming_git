{
  "cells": [
    {
      "cell_type": "markdown",
      "metadata": {
        "id": "TPvB1xoSUZhR"
      },
      "source": [
        "# Neural network to learn conservative-to-primitive conversion in relativistic hydrodynamics"
      ]
    },
    {
      "cell_type": "markdown",
      "metadata": {
        "id": "GQOAdSRnyUe_"
      },
      "source": [
        "## How to use this notebook\n",
        "\n",
        "### Local installation\n",
        "\n",
        "1. Install required packages with `pip install -r requirements.txt` to your desired environment.\n",
        "2. If a script version of this notebook is desired, comment (not uncomment) the first line of `nbconvert` cell.\n",
        "\n",
        "### Colab installation\n",
        "\n",
        "1.  Comment (not uncomment) the first line of the drive mounting cell.\n",
        "2.  Comment (not uncomment) the first line of the `pip install` cell.\n",
        "\n",
        "<!-- - For colab we also want to set the runtime to GPU by clicking _Change runtime_ in the _Runtime_ menu, and -->\n",
        "<!-- - We want to wait for the google drive connection popup to appear and follow the instructions. -->\n",
        "\n",
        "### Loading / Generating data\n",
        "3. Set `LOAD_DATA_FROM_CSV` to `True` / `False` to load data from csv files / generate data in this notebook.\n",
        "\n",
        "### Training without optimization\n",
        "\n",
        "4. Set `OPTIMIZE = False` in section _Constants and flags to set_.\n",
        "5. Run the entire notebook.\n",
        "\n",
        "### Training with optimization\n",
        "\n",
        "4. Set `OPTIMIZE = True` in section _Constants and flags to set_.\n",
        "5. Run the entire notebook.\n",
        "\n",
        "### Loading an already trained model\n",
        "\n",
        "4. Run cells in section _Initialization_.\n",
        "5. Run cells with definitions in section _Input data and labels_.\n",
        "6. Run cell with the definition of _Net_ in section _Defining the neural network_.\n",
        "7. Make sure the `net.pth`, `optimizer.pth`, `scheduler.pth`, `var_dict.json` and `train_output.csv` files are in the directory containing this notebook.\n",
        "8. Run the cells in section _Loading_ and continue from there.\n",
        "\n",
        "### Generating the C++ model\n",
        "\n",
        "9. Run section _Porting the model to C++_, this requires a model to be loaded.\n",
        "10. Set the path to the `net.pt` file in the C++ source file.\n",
        "11. `mkdir build && cd build`,\n",
        "12. Configure a `CMakeLists.txt` file as is done [here](https://pytorch.org/cppdocs/installing.html).\n",
        "13. `cmake -DCMAKE_PREFIX_PATH=/path/to/libtorch/ ..`,\n",
        "14. Compile and run, e.g. `cmake --build . --config release && ./<executable name>`"
      ]
    },
    {
      "cell_type": "markdown",
      "metadata": {
        "id": "fNr7wqgCz9VP"
      },
      "source": []
    },
    {
      "cell_type": "markdown",
      "metadata": {
        "id": "GQG-VpFLyUe_"
      },
      "source": [
        "## Initialization"
      ]
    },
    {
      "cell_type": "markdown",
      "metadata": {
        "id": "rasKmIzdyUe_"
      },
      "source": [
        "\n",
        "Use this first cell to **convert this notebook** to a python script."
      ]
    },
    {
      "cell_type": "code",
      "execution_count": null,
      "metadata": {
        "colab": {
          "base_uri": "https://localhost:8080/"
        },
        "id": "eqdgdNLHUZhV",
        "outputId": "b693777f-139a-41ff-aa1b-b37435dcfef7"
      },
      "outputs": [
        {
          "name": "stdout",
          "output_type": "stream",
          "text": [
            "skipping\n"
          ]
        }
      ],
      "source": [
        "%%script echo skipping\n",
        "\n",
        "!jupyter nbconvert pt1_before_restructuring.ipynb --TagRemovePreprocessor.enabled=True --TagRemovePreprocessor.remove_cell_tags='{\"remove_cell\"}' --to script"
      ]
    },
    {
      "cell_type": "markdown",
      "metadata": {
        "id": "nzcUr0LnUZhw"
      },
      "source": [
        "Next some cells for working on **google colab**,"
      ]
    },
    {
      "cell_type": "code",
      "execution_count": null,
      "metadata": {
        "id": "uLdZpOu4yUfB"
      },
      "outputs": [],
      "source": [
        "import os\n",
        "import shutil\n",
        "\n",
        "# check if the drive is mounted\n",
        "drive_mounted = os.path.exists(\"/content/drive\")\n",
        "# change this to your desired folder\n",
        "drive_folder = \"/content/drive/My Drive/bsc/con2prim_GRMHD/1e5_runs\"\n",
        "\n",
        "# define a function to save a file to the drive or the current directory\n",
        "def save_file(file_name):\n",
        "  if drive_mounted:\n",
        "    # save the file to the drive folder\n",
        "    file_path = os.path.join(drive_folder, file_name)\n",
        "    # copy the file from the current directory to the drive folder\n",
        "    shutil.copyfile(file_name, file_path)\n",
        "  else:\n",
        "    # do nothing as the file is already in the current directory\n",
        "    pass\n"
      ]
    },
    {
      "cell_type": "code",
      "execution_count": null,
      "metadata": {
        "colab": {
          "base_uri": "https://localhost:8080/"
        },
        "id": "ecHw2_xlUZhx",
        "outputId": "f2532eca-84fc-46e6-d81a-1969ff846297"
      },
      "outputs": [
        {
          "name": "stdout",
          "output_type": "stream",
          "text": [
            "Drive already mounted at /content/drive; to attempt to forcibly remount, call drive.mount(\"/content/drive\", force_remount=True).\n"
          ]
        }
      ],
      "source": [
        "# %%script echo skipping\n",
        "\n",
        "from google.colab import drive\n",
        "drive.mount('/content/drive')"
      ]
    },
    {
      "cell_type": "code",
      "execution_count": null,
      "metadata": {
        "id": "fxqdIxKBmzyt"
      },
      "outputs": [],
      "source": []
    },
    {
      "cell_type": "code",
      "execution_count": null,
      "metadata": {
        "colab": {
          "base_uri": "https://localhost:8080/"
        },
        "id": "T1rcStMLUZhy",
        "outputId": "8693fe40-2dab-4fa9-9c2e-ae1672c404bd"
      },
      "outputs": [
        {
          "name": "stdout",
          "output_type": "stream",
          "text": [
            "Looking in indexes: https://pypi.org/simple, https://us-python.pkg.dev/colab-wheels/public/simple/\n",
            "Requirement already satisfied: optuna in /usr/local/lib/python3.10/dist-packages (3.1.1)\n",
            "Requirement already satisfied: tensorboard in /usr/local/lib/python3.10/dist-packages (2.12.2)\n",
            "Requirement already satisfied: tensorboardX in /usr/local/lib/python3.10/dist-packages (2.6)\n",
            "Requirement already satisfied: alembic>=1.5.0 in /usr/local/lib/python3.10/dist-packages (from optuna) (1.11.1)\n",
            "Requirement already satisfied: cmaes>=0.9.1 in /usr/local/lib/python3.10/dist-packages (from optuna) (0.9.1)\n",
            "Requirement already satisfied: colorlog in /usr/local/lib/python3.10/dist-packages (from optuna) (6.7.0)\n",
            "Requirement already satisfied: numpy in /usr/local/lib/python3.10/dist-packages (from optuna) (1.22.4)\n",
            "Requirement already satisfied: packaging>=20.0 in /usr/local/lib/python3.10/dist-packages (from optuna) (23.1)\n",
            "Requirement already satisfied: sqlalchemy>=1.3.0 in /usr/local/lib/python3.10/dist-packages (from optuna) (2.0.10)\n",
            "Requirement already satisfied: tqdm in /usr/local/lib/python3.10/dist-packages (from optuna) (4.65.0)\n",
            "Requirement already satisfied: PyYAML in /usr/local/lib/python3.10/dist-packages (from optuna) (6.0)\n",
            "Requirement already satisfied: absl-py>=0.4 in /usr/local/lib/python3.10/dist-packages (from tensorboard) (1.4.0)\n",
            "Requirement already satisfied: grpcio>=1.48.2 in /usr/local/lib/python3.10/dist-packages (from tensorboard) (1.54.0)\n",
            "Requirement already satisfied: google-auth<3,>=1.6.3 in /usr/local/lib/python3.10/dist-packages (from tensorboard) (2.17.3)\n",
            "Requirement already satisfied: google-auth-oauthlib<1.1,>=0.5 in /usr/local/lib/python3.10/dist-packages (from tensorboard) (1.0.0)\n",
            "Requirement already satisfied: markdown>=2.6.8 in /usr/local/lib/python3.10/dist-packages (from tensorboard) (3.4.3)\n",
            "Requirement already satisfied: protobuf>=3.19.6 in /usr/local/lib/python3.10/dist-packages (from tensorboard) (3.20.3)\n",
            "Requirement already satisfied: requests<3,>=2.21.0 in /usr/local/lib/python3.10/dist-packages (from tensorboard) (2.27.1)\n",
            "Requirement already satisfied: setuptools>=41.0.0 in /usr/local/lib/python3.10/dist-packages (from tensorboard) (67.7.2)\n",
            "Requirement already satisfied: tensorboard-data-server<0.8.0,>=0.7.0 in /usr/local/lib/python3.10/dist-packages (from tensorboard) (0.7.0)\n",
            "Requirement already satisfied: tensorboard-plugin-wit>=1.6.0 in /usr/local/lib/python3.10/dist-packages (from tensorboard) (1.8.1)\n",
            "Requirement already satisfied: werkzeug>=1.0.1 in /usr/local/lib/python3.10/dist-packages (from tensorboard) (2.3.0)\n",
            "Requirement already satisfied: wheel>=0.26 in /usr/local/lib/python3.10/dist-packages (from tensorboard) (0.40.0)\n",
            "Requirement already satisfied: Mako in /usr/local/lib/python3.10/dist-packages (from alembic>=1.5.0->optuna) (1.2.4)\n",
            "Requirement already satisfied: typing-extensions>=4 in /usr/local/lib/python3.10/dist-packages (from alembic>=1.5.0->optuna) (4.5.0)\n",
            "Requirement already satisfied: cachetools<6.0,>=2.0.0 in /usr/local/lib/python3.10/dist-packages (from google-auth<3,>=1.6.3->tensorboard) (5.3.0)\n",
            "Requirement already satisfied: pyasn1-modules>=0.2.1 in /usr/local/lib/python3.10/dist-packages (from google-auth<3,>=1.6.3->tensorboard) (0.3.0)\n",
            "Requirement already satisfied: six>=1.9.0 in /usr/local/lib/python3.10/dist-packages (from google-auth<3,>=1.6.3->tensorboard) (1.16.0)\n",
            "Requirement already satisfied: rsa<5,>=3.1.4 in /usr/local/lib/python3.10/dist-packages (from google-auth<3,>=1.6.3->tensorboard) (4.9)\n",
            "Requirement already satisfied: requests-oauthlib>=0.7.0 in /usr/local/lib/python3.10/dist-packages (from google-auth-oauthlib<1.1,>=0.5->tensorboard) (1.3.1)\n",
            "Requirement already satisfied: urllib3<1.27,>=1.21.1 in /usr/local/lib/python3.10/dist-packages (from requests<3,>=2.21.0->tensorboard) (1.26.15)\n",
            "Requirement already satisfied: certifi>=2017.4.17 in /usr/local/lib/python3.10/dist-packages (from requests<3,>=2.21.0->tensorboard) (2022.12.7)\n",
            "Requirement already satisfied: charset-normalizer~=2.0.0 in /usr/local/lib/python3.10/dist-packages (from requests<3,>=2.21.0->tensorboard) (2.0.12)\n",
            "Requirement already satisfied: idna<4,>=2.5 in /usr/local/lib/python3.10/dist-packages (from requests<3,>=2.21.0->tensorboard) (3.4)\n",
            "Requirement already satisfied: greenlet!=0.4.17 in /usr/local/lib/python3.10/dist-packages (from sqlalchemy>=1.3.0->optuna) (2.0.2)\n",
            "Requirement already satisfied: MarkupSafe>=2.1.1 in /usr/local/lib/python3.10/dist-packages (from werkzeug>=1.0.1->tensorboard) (2.1.2)\n",
            "Requirement already satisfied: pyasn1<0.6.0,>=0.4.6 in /usr/local/lib/python3.10/dist-packages (from pyasn1-modules>=0.2.1->google-auth<3,>=1.6.3->tensorboard) (0.5.0)\n",
            "Requirement already satisfied: oauthlib>=3.0.0 in /usr/local/lib/python3.10/dist-packages (from requests-oauthlib>=0.7.0->google-auth-oauthlib<1.1,>=0.5->tensorboard) (3.2.2)\n"
          ]
        }
      ],
      "source": [
        "# %%script echo skipping\n",
        "\n",
        "!pip install optuna tensorboard tensorboardX"
      ]
    },
    {
      "cell_type": "markdown",
      "metadata": {
        "id": "nqDQetVPFyCw"
      },
      "source": []
    },
    {
      "cell_type": "markdown",
      "metadata": {
        "id": "cxXGIEp5FXQC"
      },
      "source": []
    },
    {
      "cell_type": "markdown",
      "metadata": {
        "id": "MA6uyFy0yUfC"
      },
      "source": [
        "Importing the **libraries**,"
      ]
    },
    {
      "cell_type": "code",
      "execution_count": null,
      "metadata": {
        "id": "tREdWQUVUZhz"
      },
      "outputs": [],
      "source": [
        "import numpy as np\n",
        "import matplotlib.pyplot as plt\n",
        "import torch\n",
        "import torch.nn as nn\n",
        "import torch.optim as optim\n",
        "import torch.nn.functional as F\n",
        "import optuna\n",
        "import tensorboardX as tbx\n",
        "import pandas as pd"
      ]
    },
    {
      "cell_type": "markdown",
      "metadata": {
        "id": "38GvmerjUZhz"
      },
      "source": [
        "### Constants and flags to set\n",
        "Defining some constants and parameters for convenience.\n",
        "\n",
        "**NOTE**: Some **subparameters** still need to be adjusted in the `create_model` function itself as of (Tue May 16 07:42:45 AM CEST 2023) in the case the model is being trained without optimization."
      ]
    },
    {
      "cell_type": "code",
      "execution_count": null,
      "metadata": {
        "id": "ei6VZDYKUZh0"
      },
      "outputs": [],
      "source": [
        "\n",
        "# Checking if GPU is available and setting the device accordingly\n",
        "device = torch.device(\"cuda\" if torch.cuda.is_available() else \"cpu\")\n",
        "\n",
        "N_TRIALS = 250 # Number of trials for hyperparameter optimization # NOTE: Set this properly.\n",
        "OPTIMIZE = True # Whether to optimize the hyperparameters or to use predetermined values. # NOTE: Set this properly.\n",
        "ZSCORE_NORMALIZATION = False # Whether to z-score normalize the input data.\n",
        "LOAD_DATA_FROM_CSV = False  # If not true we generate the data in this file and save to {x_train,y_train,x_test,y_test}.csv, otherwise we load the data from files of the same name. # NOTE: Set this before properly.\n",
        "\n",
        "csv_filenames = { # File names to load input data and labels from if LOAD_DATA_FROM_CSV is True.\n",
        "    \"x_train\": \"x_train.csv\",\n",
        "    \"x_val\": \"x_val.csv\",\n",
        "    \"x_test\": \"x_test.csv\",\n",
        "    \"y_train\": \"y_train.csv\",\n",
        "    \"y_val\": \"y_val.csv\",\n",
        "    \"y_test\": \"y_test.csv\",\n",
        "}\n",
        "\n",
        "# Values to use for hyperparameters if OPTIMIZE is False; set these to the best parameters found by Optuna.\n",
        "# NOTE: TODO: Currently (Sat May 27 05:16:57 PM CEST 2023) there are still subparameters to be set in create_model function.\n",
        "N_LAYERS_NO_OPT = 3\n",
        "N_UNITS_NO_OPT = [555, 458, 115]\n",
        "HIDDEN_ACTIVATION_NAME_NO_OPT = \"LeakyReLU\"\n",
        "OUTPUT_ACTIVATION_NAME_NO_OPT = \"Linear\"\n",
        "LOSS_NAME_NO_OPT = \"Huber\"\n",
        "OPTIMIZER_NAME_NO_OPT = \"RMSprop\"\n",
        "LR_NO_OPT = 0.000122770896701404\n",
        "BATCH_SIZE_NO_OPT = 49\n",
        "N_EPOCHS_NO_OPT = 400 # NOTE: Set this properly.\n",
        "SCHEDULER_NAME_NO_OPT = \"ReduceLROnPlateau\"\n",
        "DROPOUT_RATE_NO_OPT = 0.2\n",
        "\n",
        "N_INPUTS = 14  # Number of input features.\n",
        "N_OUTPUTS = 1  # Number of outputs.\n",
        "Gamma = 5/3  # Adiabatic index\n",
        "\n",
        "n_samples = 1e5 # NOTE: Set this properly.\n",
        "train_frac = 0.7  # 70% of data for training\n",
        "val_frac = 0.15  # 15% of data for validation, rest for testing\n",
        "\n",
        "rho_interval = (0, 2) \n",
        "epsilon_interval = (1e-2, 2000)  # Will be sampled in log space\n",
        "vx_interval = (0, 0.999)  \n",
        "vy_interval = (0, 0.999)  \n",
        "vz_interval = (0, 0.999)  \n",
        "Bx_interval = (-10, 10)  \n",
        "By_interval = (-10, 10)  \n",
        "Bz_interval = (-10, 10)  \n",
        "gxx_interval = (0.9, 1.1)\n",
        "gxy_interval = (0, 0.1)\n",
        "gxz_interval = (0, 0.1)\n",
        "gyy_interval = (0.9, 1.1)\n",
        "gyz_interval = (0, 0.1)\n",
        "gzz_interval = (0.9, 1.1)\n",
        "\n",
        "np.random.seed(62) # Comment for true random data.\n"
      ]
    },
    {
      "cell_type": "markdown",
      "metadata": {
        "id": "dlaP5UL2UZh1"
      },
      "source": [
        "## Input data and labels\n",
        "\n",
        "We either generate the data or load the data. First the definitions for generating the data come below."
      ]
    },
    {
      "cell_type": "code",
      "execution_count": null,
      "metadata": {
        "id": "s_EvGFZcUZh1"
      },
      "outputs": [],
      "source": [
        "# Defining an analytic equation of state (EOS) for an ideal gas\n",
        "def eos_analytic(rho, epsilon):\n",
        "    # Adding some assertions to check that the input tensors are valid and have \n",
        "    # the expected shape and type \n",
        "    assert isinstance(rho, torch.Tensor), \"rho must be a torch.Tensor\"\n",
        "    assert isinstance(epsilon, torch.Tensor), \"epsilon must be a torch.Tensor\"\n",
        "    print('rho.shape: ', rho.shape)\n",
        "    print('epsilon.shape: ', epsilon.shape)\n",
        "    assert rho.shape == epsilon.shape, \"rho and epsilon must have the same shape\"\n",
        "    assert rho.ndim == 1, \"rho and epsilon must be one-dimensional tensors\"\n",
        "    assert rho.dtype == torch.float32, \"rho and epsilon must have dtype torch.float32\"\n",
        "\n",
        "    return (Gamma - 1) * rho * epsilon\n",
        "\n",
        "def sample_primitive_variables_and_metric():\n",
        "    rho = np.random.uniform(*rho_interval)  \n",
        "    epsilon = np.random.uniform(*np.log10(epsilon_interval))\n",
        "    vx = np.random.uniform(*vx_interval)  \n",
        "    vy = np.random.uniform(*vy_interval)  \n",
        "    vz = np.random.uniform(*vz_interval)  \n",
        "    Bx = np.random.uniform(*Bx_interval)  \n",
        "    By = np.random.uniform(*By_interval)  \n",
        "    Bz = np.random.uniform(*Bz_interval)  \n",
        "    gxx = np.random.uniform(*gxx_interval)\n",
        "    gxy = np.random.uniform(*gxy_interval)\n",
        "    gxz = np.random.uniform(*gxz_interval)\n",
        "    gyy = np.random.uniform(*gyy_interval)\n",
        "    gyz = np.random.uniform(*gyz_interval)\n",
        "    gzz = np.random.uniform(*gzz_interval)\n",
        "\n",
        "    return rho, epsilon, vx, vy, vz, Bx, By, Bz, gxx, gxy, gxz, gyy, gyz, gzz\n",
        "\n",
        "def check_sample(rho, epsilon, vx, vy, vz, Bx, By, Bz, gxx, gxy, gxz, gyy, gyz, gzz):\n",
        "    wtemp_expr = 1 - (gxx * vx**2 + gyy * vy**2 + gzz * vz**2 + 2 * gxy * vx * vy + 2 * gxz * vx * vz + 2 * gyz * vy * vz)\n",
        "    sdet_expr = gxx * gyy * gzz + 2 * gxy * gxz * gyz - gxx * gyz ** 2 - gyy * gxz ** 2 - gzz * gxy ** 2\n",
        "    if vx**2 + vy**2 + vz**2 >= 1 or wtemp_expr < 0 or sdet_expr < 0:\n",
        "        # print(f\"Sample failed checks. vx^2+vy^2+vz^2: {vx**2 + vy**2 + vz**2}, wtemp_expr: {wtemp_expr}, sdet_expr: {sdet_expr}\")\n",
        "        return False\n",
        "    else:\n",
        "        # print(f\"Sample passed checks. vx^2+vy^2+vz^2: {vx**2 + vy**2 + vz**2}, wtemp_expr: {wtemp_expr}, sdet_expr: {sdet_expr}\")\n",
        "        return True\n",
        "\n",
        "def generate_samples(n_samples):\n",
        "    samples = []\n",
        "    while len(samples) < n_samples:\n",
        "        sample = sample_primitive_variables_and_metric()\n",
        "        if check_sample(*sample):\n",
        "            samples.append(sample)\n",
        "        # print(f\"Number of valid samples: {len(samples)}\")\n",
        "    return zip(*samples)\n",
        "def sdet(gxx, gxy, gxz, gyy, gyz, gzz):\n",
        "    # Determinant of the three metric.\n",
        "    return (gxx * gyy * gzz + 2 * gxy * gxz * gyz - gxx * gyz ** 2 - gyy * gxz ** 2 - gzz * gxy ** 2) ** 0.5\n",
        "\n",
        "# Defining a function that computes conserved variables from primitive variables and the metric\n",
        "# We follow the source code of GRaM-X: A new GPU-accelerated dynamical spacetime GRMHD code for Exascale\n",
        "# computing with the Einstein Toolkit of Shankar et al.\n",
        "def compute_conserved_variables(rho, epsilon, vx, vy, vz, Bx, By, Bz, gxx, gxy, gxz, gyy, gyz, gzz):\n",
        "    pres = eos_analytic(rho, epsilon)\n",
        "    wtemp = 1 / (1 - (gxx * vx**2 + gyy * vy**2 + gzz * vz**2 +\n",
        "        2 * gxy * vx * vy + 2 * gxz * vx * vz +\n",
        "        2 * gyz * vy * vz))**0.5\n",
        "\n",
        "    vlowx = gxx * vx + gxy * vy + gxz * vz\n",
        "    vlowy = gxy * vx + gyy * vy + gyz * vz\n",
        "    vlowz = gxz * vx + gyz * vy + gzz * vz\n",
        "\n",
        "    Bxlow = gxx * Bx + gxy * By + gxz * Bz\n",
        "    Bylow = gxy * Bx + gyy * By + gyz * Bz\n",
        "    Bzlow = gxz * Bx + gyz * By + gzz * Bz\n",
        "\n",
        "    B2 = Bxlow * Bx + Bylow * By + Bzlow * Bz\n",
        "\n",
        "    Bdotv = Bxlow * vx + Bylow * vy + Bzlow * vz\n",
        "    Bdotv2 = Bdotv * Bdotv\n",
        "    wtemp2 = wtemp * wtemp\n",
        "    b2 = B2 / wtemp2 + Bdotv2\n",
        "    ab0 = wtemp * Bdotv\n",
        "\n",
        "    blowx = (gxx * Bx + gxy * By + gxz * Bz) / wtemp + wtemp * Bdotv * vlowx\n",
        "    blowy = (gxy * Bx + gyy * By + gyz * Bz) / wtemp + wtemp * Bdotv * vlowy\n",
        "    blowz = (gxz * Bx + gyz * By + gzz * Bz) / wtemp + wtemp * Bdotv * vlowz\n",
        "\n",
        "    hrhow2 = (rho * (1 + epsilon) + pres + b2) * (wtemp) * (wtemp)\n",
        "\n",
        "    D = sdet(gxx, gxy, gxz, gyy, gyz, gzz) * rho * (wtemp)\n",
        "    Sx = sdet(gxx, gxy, gxz, gyy, gyz, gzz) * (hrhow2 * vlowx - ab0 * blowx)\n",
        "    Sy = sdet(gxx, gxy, gxz, gyy, gyz, gzz) * (hrhow2 * vlowy - ab0 * blowy)\n",
        "    Sz = sdet(gxx, gxy, gxz, gyy, gyz, gzz) * (hrhow2 * vlowz - ab0 * blowz)\n",
        "    tau = sdet(gxx, gxy, gxz, gyy, gyz, gzz) * (hrhow2 - pres - b2 / 2 - ab0 * ab0) - D\n",
        "    Bconsx = sdet(gxx, gxy, gxz, gyy, gyz, gzz) * Bx\n",
        "    Bconsy = sdet(gxx, gxy, gxz, gyy, gyz, gzz) * By\n",
        "    Bconsz = sdet(gxx, gxy, gxz, gyy, gyz, gzz) * Bz\n",
        "\n",
        "    return D, Sx, Sy, Sz, tau, Bconsx, Bconsy, Bconsz\n",
        "\n",
        "def generate_input_data(rho, epsilon, vx, vy, vz, Bx, By, Bz, gxx, gxy, gxz, gyy, gyz, gzz):\n",
        "    rho = torch.tensor(np.array(rho), dtype=torch.float32).to(device)\n",
        "    epsilon = torch.tensor(np.array(epsilon), dtype=torch.float32).to(device)\n",
        "    vx = torch.tensor(np.array(vx), dtype=torch.float32).to(device)\n",
        "    vy = torch.tensor(np.array(vy), dtype=torch.float32).to(device)\n",
        "    vz = torch.tensor(np.array(vz), dtype=torch.float32).to(device)\n",
        "    Bx = torch.tensor(np.array(Bx), dtype=torch.float32).to(device)\n",
        "    By = torch.tensor(np.array(By), dtype=torch.float32).to(device)\n",
        "    Bz = torch.tensor(np.array(Bz), dtype=torch.float32).to(device)\n",
        "    gxx = torch.tensor(np.array(gxx), dtype=torch.float32).to(device)\n",
        "    gxy = torch.tensor(np.array(gxy), dtype=torch.float32).to(device)\n",
        "    gxz = torch.tensor(np.array(gxz), dtype=torch.float32).to(device)\n",
        "    gyy = torch.tensor(np.array(gyy), dtype=torch.float32).to(device)\n",
        "    gyz = torch.tensor(np.array(gyz), dtype=torch.float32).to(device)\n",
        "    gzz = torch.tensor(np.array(gzz), dtype=torch.float32).to(device)\n",
        "\n",
        "    D, Sx, Sy, Sz, tau, Bscriptx, Bscripty, Bscriptz = compute_conserved_variables(\n",
        "        rho, epsilon, vx, vy, vz, Bx, By, Bz, gxx, gxy, gxz, gyy, gyz, gzz\n",
        "    ) \n",
        "\n",
        "    # Add gxx, gxy, gxz, gyy, gyz, gzz to the tensor\n",
        "    x = torch.stack([D, Sx, Sy, Sz, tau, Bscriptx, Bscripty, Bscriptz, gxx, gxy, gxz, gyy, gyz, gzz], axis=1)\n",
        "    return x\n",
        "\n",
        "# Defining a function that generates output data (labels) from given samples of primitive variables\n",
        "# We use the definitions as given in Recovery schemes for primitive variables in\n",
        "# general-relativistic magnetohydrodynamics of Siegel et al.\n",
        "def generate_labels(rho, epsilon, vx, vy, vz):\n",
        "    # Converting the numpy arrays to torch tensors and moving them to the device\n",
        "    rho = torch.tensor(np.array(rho), dtype=torch.float32).to(device)\n",
        "    epsilon = torch.tensor(np.array(epsilon), dtype=torch.float32).to(device)\n",
        "    vx = torch.tensor(np.array(vx), dtype=torch.float32).to(device)\n",
        "    vy = torch.tensor(np.array(vy), dtype=torch.float32).to(device)\n",
        "    vz = torch.tensor(np.array(vz), dtype=torch.float32).to(device)\n",
        "\n",
        "    # Computing the required quantities\n",
        "    pres = eos_analytic(rho, epsilon)\n",
        "    h = 1 + epsilon + pres / rho\n",
        "    W = 1 / torch.sqrt(1 - (vx * vx + vy * vy + vz * vz))\n",
        "\n",
        "    # Returning the output data tensor\n",
        "    return h * W"
      ]
    },
    {
      "cell_type": "markdown",
      "metadata": {
        "id": "rp_rRsvlyUfD"
      },
      "source": [
        "### Generating or loading input data and labels"
      ]
    },
    {
      "cell_type": "code",
      "execution_count": null,
      "metadata": {
        "id": "aSRavbz7yUfD"
      },
      "outputs": [],
      "source": [
        "%config InteractiveShell.ast_node_interactivity = \"all\""
      ]
    },
    {
      "cell_type": "code",
      "execution_count": null,
      "metadata": {
        "id": "cKubR6C8UZh4"
      },
      "outputs": [],
      "source": [
        "if LOAD_DATA_FROM_CSV:\n",
        "    # Load the data from CSV files\n",
        "    x_train = pd.read_csv(csv_filenames[\"x_train\"]).values\n",
        "    y_train = pd.read_csv(csv_filenames[\"y_train\"]).values.squeeze()  # reshape to 1D\n",
        "    x_val = pd.read_csv(csv_filenames[\"x_val\"]).values\n",
        "    y_val = pd.read_csv(csv_filenames[\"y_val\"]).values.squeeze()  # reshape to 1D\n",
        "    x_test = pd.read_csv(csv_filenames[\"x_test\"]).values\n",
        "    y_test = pd.read_csv(csv_filenames[\"y_test\"]).values.squeeze()  # reshape to 1D\n",
        "\n",
        "    # Convert numpy arrays to tensors\n",
        "    x_train = torch.from_numpy(x_train).float().to(device)\n",
        "    y_train = torch.from_numpy(y_train).float().to(device)\n",
        "    x_val = torch.from_numpy(x_val).float().to(device)\n",
        "    y_val = torch.from_numpy(y_val).float().to(device)\n",
        "    x_test = torch.from_numpy(x_test).float().to(device)\n",
        "    y_test = torch.from_numpy(y_test).float().to(device)\n",
        "\n",
        "    # This is an alternative to having if clauses around the cells that visualize these variables.\n",
        "    rho = epsilon = vx = vy = vz = Bx = By = Bz = gxx = gxy = gxz = gyy = gyz  = gzz = None"
      ]
    },
    {
      "cell_type": "code",
      "execution_count": null,
      "metadata": {
        "id": "BbbRZdtmyUfE"
      },
      "outputs": [],
      "source": [
        "if not LOAD_DATA_FROM_CSV:\n",
        "    # Sample primitive variables and metric\n",
        "    rho, epsilon, vx, vy, vz, Bx, By, Bz, gxx, gxy, gxz, gyy, gyz, gzz = generate_samples(n_samples)"
      ]
    },
    {
      "cell_type": "code",
      "execution_count": null,
      "metadata": {
        "colab": {
          "base_uri": "https://localhost:8080/"
        },
        "id": "QQpEH1iNyUfE",
        "outputId": "aafec95a-bd23-4c00-ad02-2ab926012ba2"
      },
      "outputs": [
        {
          "name": "stdout",
          "output_type": "stream",
          "text": [
            "rho.shape:  torch.Size([100000])\n",
            "epsilon.shape:  torch.Size([100000])\n",
            "rho.shape:  torch.Size([100000])\n",
            "epsilon.shape:  torch.Size([100000])\n"
          ]
        }
      ],
      "source": [
        "if not LOAD_DATA_FROM_CSV:\n",
        "    # Generate data and labels.\n",
        "    x = generate_input_data(rho, epsilon, vx, vy, vz, Bx, By, Bz, gxx, gxy, gxz, gyy, gyz, gzz)\n",
        "    y = generate_labels(rho, epsilon, vx, vy, vz)\n",
        "\n",
        "    # Calculate the number of samples in each set\n",
        "    n_train_samples = int(n_samples * train_frac)\n",
        "    n_val_samples = int(n_samples * val_frac)\n",
        "\n",
        "    # Create the data sets\n",
        "    x_train = x[:n_train_samples]\n",
        "    y_train = y[:n_train_samples]\n",
        "    x_val = x[n_train_samples : n_train_samples + n_val_samples]\n",
        "    y_val = y[n_train_samples : n_train_samples + n_val_samples]\n",
        "    x_test = x[n_train_samples + n_val_samples :]\n",
        "    y_test = y[n_train_samples + n_val_samples :]\n",
        "\n",
        "    # Save the data to CSV files; tensors need to be converted numpy arrays for saving in CSV.\n",
        "    pd.DataFrame(x_train.cpu().numpy()).to_csv(csv_filenames[\"x_train\"], index=False)\n",
        "    save_file(csv_filenames[\"x_train\"])\n",
        "    pd.DataFrame(y_train.cpu().numpy()).to_csv(csv_filenames[\"y_train\"], index=False)\n",
        "    save_file(csv_filenames[\"y_train\"])\n",
        "\n",
        "    pd.DataFrame(x_val.cpu().numpy()).to_csv(csv_filenames[\"x_val\"], index=False)\n",
        "    save_file(csv_filenames[\"x_val\"])\n",
        "    pd.DataFrame(y_val.cpu().numpy()).to_csv(csv_filenames[\"y_val\"], index=False)\n",
        "    save_file(csv_filenames[\"y_val\"])\n",
        "\n",
        "    pd.DataFrame(x_test.cpu().numpy()).to_csv(csv_filenames[\"x_test\"], index=False)\n",
        "    save_file(csv_filenames[\"x_test\"])\n",
        "    pd.DataFrame(y_test.cpu().numpy()).to_csv(csv_filenames[\"y_test\"], index=False)\n",
        "    save_file(csv_filenames[\"y_test\"])"
      ]
    },
    {
      "cell_type": "code",
      "execution_count": null,
      "metadata": {
        "colab": {
          "base_uri": "https://localhost:8080/"
        },
        "id": "FxEHi40RyUfE",
        "outputId": "bf26fbe1-03b8-45a6-b741-241d1d839780"
      },
      "outputs": [
        {
          "data": {
            "text/plain": [
              "torch.Size([70000, 14])"
            ]
          },
          "execution_count": 153,
          "metadata": {},
          "output_type": "execute_result"
        },
        {
          "data": {
            "text/plain": [
              "torch.Size([70000])"
            ]
          },
          "execution_count": 153,
          "metadata": {},
          "output_type": "execute_result"
        },
        {
          "data": {
            "text/plain": [
              "torch.Size([15000, 14])"
            ]
          },
          "execution_count": 153,
          "metadata": {},
          "output_type": "execute_result"
        },
        {
          "data": {
            "text/plain": [
              "torch.Size([15000])"
            ]
          },
          "execution_count": 153,
          "metadata": {},
          "output_type": "execute_result"
        },
        {
          "data": {
            "text/plain": [
              "torch.Size([15000, 14])"
            ]
          },
          "execution_count": 153,
          "metadata": {},
          "output_type": "execute_result"
        },
        {
          "data": {
            "text/plain": [
              "torch.Size([15000])"
            ]
          },
          "execution_count": 153,
          "metadata": {},
          "output_type": "execute_result"
        },
        {
          "data": {
            "text/plain": [
              "tensor([[ 8.5274e-01,  1.6012e+01,  1.6833e+01,  ...,  1.0548e+00,\n",
              "          5.9084e-02,  1.0775e+00],\n",
              "        [ 3.8671e+00,  1.6272e+02, -1.6921e+01,  ...,  1.0763e+00,\n",
              "          8.2593e-02,  9.9605e-01],\n",
              "        [ 2.3578e+00,  1.3731e+02, -1.1413e+01,  ...,  9.4061e-01,\n",
              "          4.1722e-02,  1.0314e+00],\n",
              "        ...,\n",
              "        [ 6.5232e-01,  1.6150e+01,  2.0636e+01,  ...,  9.6146e-01,\n",
              "          6.4176e-02,  1.0313e+00],\n",
              "        [ 2.3032e+00,  4.0970e+00,  2.5210e+01,  ...,  1.0312e+00,\n",
              "          4.8213e-02,  9.1956e-01],\n",
              "        [ 2.6636e+00,  7.7770e+01,  3.9155e+01,  ...,  9.0128e-01,\n",
              "          1.0505e-02,  1.0159e+00]], device='cuda:0')"
            ]
          },
          "execution_count": 153,
          "metadata": {},
          "output_type": "execute_result"
        },
        {
          "data": {
            "text/plain": [
              "tensor([ 0.3320,  3.8099,  8.3173,  ..., -1.8336, -1.4070, -0.5195],\n",
              "       device='cuda:0')"
            ]
          },
          "execution_count": 153,
          "metadata": {},
          "output_type": "execute_result"
        },
        {
          "data": {
            "text/plain": [
              "tensor([[2.9433e+00, 5.7213e+01, 2.8310e+01,  ..., 9.0650e-01, 4.8555e-02,\n",
              "         1.0985e+00],\n",
              "        [1.8271e+00, 8.6501e+01, 7.1869e+01,  ..., 9.8149e-01, 9.3475e-03,\n",
              "         1.0200e+00],\n",
              "        [4.3290e+00, 7.3452e+00, 2.0180e+01,  ..., 1.0354e+00, 2.3627e-02,\n",
              "         1.0611e+00],\n",
              "        ...,\n",
              "        [2.7607e+00, 3.9916e+00, 1.0946e+00,  ..., 1.0703e+00, 7.0854e-02,\n",
              "         9.3659e-01],\n",
              "        [1.6071e+00, 1.0898e+00, 2.3040e+00,  ..., 9.1170e-01, 6.5760e-03,\n",
              "         9.1241e-01],\n",
              "        [1.7121e+00, 9.4418e+00, 3.6195e+01,  ..., 9.0020e-01, 9.9950e-02,\n",
              "         9.9152e-01]], device='cuda:0')"
            ]
          },
          "execution_count": 153,
          "metadata": {},
          "output_type": "execute_result"
        },
        {
          "data": {
            "text/plain": [
              "tensor([ 9.8275,  2.3153, 10.1926,  ...,  1.0466, -0.8056,  5.1086],\n",
              "       device='cuda:0')"
            ]
          },
          "execution_count": 153,
          "metadata": {},
          "output_type": "execute_result"
        },
        {
          "data": {
            "text/plain": [
              "tensor([[ 1.6747e-01,  1.0879e+02,  8.4387e+01,  ...,  9.3413e-01,\n",
              "          7.0133e-02,  1.0052e+00],\n",
              "        [ 3.8555e-01,  5.1128e+01, -2.2905e+00,  ...,  1.0324e+00,\n",
              "          5.6346e-02,  9.1183e-01],\n",
              "        [ 7.0393e-01,  9.9952e+00,  4.1789e+01,  ...,  1.0555e+00,\n",
              "          7.3056e-02,  9.0060e-01],\n",
              "        ...,\n",
              "        [ 2.4784e+00, -4.2884e-01,  1.1346e+01,  ...,  1.0836e+00,\n",
              "          1.7698e-02,  1.0828e+00],\n",
              "        [ 2.0581e+01, -1.2650e+02, -7.6028e+01,  ...,  1.0781e+00,\n",
              "          4.4796e-02,  1.0769e+00],\n",
              "        [ 3.1342e+00,  5.6546e+01,  8.1935e+01,  ...,  1.0819e+00,\n",
              "          7.9504e-02,  1.0744e+00]], device='cuda:0')"
            ]
          },
          "execution_count": 153,
          "metadata": {},
          "output_type": "execute_result"
        },
        {
          "data": {
            "text/plain": [
              "tensor([ 1.0420,  8.5830,  8.6470,  ...,  6.2048, -4.7875, -3.5556],\n",
              "       device='cuda:0')"
            ]
          },
          "execution_count": 153,
          "metadata": {},
          "output_type": "execute_result"
        }
      ],
      "source": [
        "\n",
        "x_train.shape\n",
        "y_train.shape\n",
        "x_val.shape\n",
        "y_val.shape\n",
        "x_test.shape\n",
        "y_test.shape\n",
        "x_train\n",
        "y_train\n",
        "x_val\n",
        "y_val\n",
        "x_test\n",
        "y_test"
      ]
    },
    {
      "cell_type": "code",
      "execution_count": null,
      "metadata": {
        "colab": {
          "base_uri": "https://localhost:8080/"
        },
        "id": "kkEyiAXhyUfE",
        "outputId": "d1ba7942-ce2e-4990-8117-55cf3b296b39"
      },
      "outputs": [
        {
          "data": {
            "text/plain": [
              "tensor(False, device='cuda:0')"
            ]
          },
          "execution_count": 154,
          "metadata": {},
          "output_type": "execute_result"
        },
        {
          "data": {
            "text/plain": [
              "tensor(False, device='cuda:0')"
            ]
          },
          "execution_count": 154,
          "metadata": {},
          "output_type": "execute_result"
        },
        {
          "data": {
            "text/plain": [
              "tensor(False, device='cuda:0')"
            ]
          },
          "execution_count": 154,
          "metadata": {},
          "output_type": "execute_result"
        },
        {
          "data": {
            "text/plain": [
              "tensor(False, device='cuda:0')"
            ]
          },
          "execution_count": 154,
          "metadata": {},
          "output_type": "execute_result"
        },
        {
          "data": {
            "text/plain": [
              "tensor(False, device='cuda:0')"
            ]
          },
          "execution_count": 154,
          "metadata": {},
          "output_type": "execute_result"
        },
        {
          "data": {
            "text/plain": [
              "tensor(False, device='cuda:0')"
            ]
          },
          "execution_count": 154,
          "metadata": {},
          "output_type": "execute_result"
        }
      ],
      "source": [
        "torch.isnan(x_train).any()\n",
        "torch.isnan(x_val).any()\n",
        "torch.isnan(x_test).any()\n",
        "torch.isnan(y_train).any()\n",
        "torch.isnan(y_val).any()\n",
        "torch.isnan(y_test).any()"
      ]
    },
    {
      "cell_type": "code",
      "execution_count": null,
      "metadata": {
        "colab": {
          "base_uri": "https://localhost:8080/"
        },
        "id": "3XWXkFHxyUfF",
        "outputId": "7774ed59-3bd8-477c-a38f-5574130c3a06"
      },
      "outputs": [
        {
          "data": {
            "text/plain": [
              "(tensor([], device='cuda:0', dtype=torch.int64),\n",
              " tensor([], device='cuda:0', dtype=torch.int64))"
            ]
          },
          "execution_count": 155,
          "metadata": {},
          "output_type": "execute_result"
        },
        {
          "data": {
            "text/plain": [
              "(tensor([], device='cuda:0', dtype=torch.int64),\n",
              " tensor([], device='cuda:0', dtype=torch.int64))"
            ]
          },
          "execution_count": 155,
          "metadata": {},
          "output_type": "execute_result"
        },
        {
          "data": {
            "text/plain": [
              "(tensor([], device='cuda:0', dtype=torch.int64),\n",
              " tensor([], device='cuda:0', dtype=torch.int64))"
            ]
          },
          "execution_count": 155,
          "metadata": {},
          "output_type": "execute_result"
        }
      ],
      "source": [
        "nan_mask_train = torch.isnan(x_train)     # get a boolean mask indicating NaN values\n",
        "nan_indices_train = torch.where(nan_mask_train)  # get the indices of the NaN values\n",
        "nan_indices_train\n",
        "# len(nan_indices_train)\n",
        "\n",
        "nan_mask_val = torch.isnan(x_val)     # get a boolean mask indicating NaN values\n",
        "nan_indices_val = torch.where(nan_mask_val)  # get the indices of the NaN values\n",
        "nan_indices_val\n",
        "# len(nan_indices_test)\n",
        "\n",
        "nan_mask_test = torch.isnan(x_test)     # get a boolean mask indicating NaN values\n",
        "nan_indices_test = torch.where(nan_mask_test)  # get the indices of the NaN values\n",
        "nan_indices_test\n",
        "# len(nan_indices_test)"
      ]
    },
    {
      "cell_type": "markdown",
      "metadata": {
        "id": "DgbP6n8NyUfF"
      },
      "source": [
        "## Visualizing the data"
      ]
    },
    {
      "cell_type": "code",
      "execution_count": null,
      "metadata": {
        "id": "BZY02E-6puGW"
      },
      "outputs": [],
      "source": []
    },
    {
      "cell_type": "markdown",
      "metadata": {
        "id": "l2nFF6bKyUfF"
      },
      "source": [
        "### Visualizing sampled data"
      ]
    },
    {
      "cell_type": "code",
      "execution_count": null,
      "metadata": {
        "colab": {
          "base_uri": "https://localhost:8080/"
        },
        "id": "-YpNRz6pyUfG",
        "outputId": "c70e0ced-3a8b-4df7-ce0f-dd25a12fa2ba"
      },
      "outputs": [
        {
          "name": "stdout",
          "output_type": "stream",
          "text": [
            "skipping\n"
          ]
        }
      ],
      "source": [
        "%%script echo skipping\n",
        "\n",
        "if not LOAD_DATA_FROM_CSV:\n",
        "    rho\n",
        "    epsilon\n",
        "    vx\n",
        "    vy\n",
        "    vz \n",
        "    Bx\n",
        "    By\n",
        "    Bz\n",
        "    gxx\n",
        "    gxy\n",
        "    gxz\n",
        "    gyy\n",
        "    gyz\n",
        "    gzz "
      ]
    },
    {
      "cell_type": "markdown",
      "metadata": {
        "id": "Lmz-Ztc2mVyX"
      },
      "source": []
    },
    {
      "cell_type": "code",
      "execution_count": null,
      "metadata": {
        "colab": {
          "base_uri": "https://localhost:8080/"
        },
        "id": "naHhJF9OyUfG",
        "outputId": "067311e9-c9f7-4189-ccff-ca40d56d9926"
      },
      "outputs": [
        {
          "name": "stdout",
          "output_type": "stream",
          "text": [
            "100000\n",
            "100000\n",
            "100000\n",
            "100000\n",
            "100000\n",
            "100000\n",
            "100000\n",
            "100000\n",
            "\n",
            "100000\n",
            "100000\n",
            "100000\n",
            "100000\n",
            "100000\n",
            "100000\n"
          ]
        }
      ],
      "source": [
        "if not LOAD_DATA_FROM_CSV:\n",
        "    print(len(rho))\n",
        "    print(len(epsilon))\n",
        "    print(len(vx))\n",
        "    print(len(vy))\n",
        "    print(len(vz))\n",
        "    print(len(Bx))\n",
        "    print(len(By))\n",
        "    print(len(Bz))\n",
        "    print()\n",
        "    print(len(gxx))\n",
        "    print(len(gxy))\n",
        "    print(len(gxz))\n",
        "    print(len(gyy))\n",
        "    print(len(gyz))\n",
        "    print(len(gzz))"
      ]
    },
    {
      "cell_type": "code",
      "execution_count": null,
      "metadata": {
        "id": "VMp6XJ6RUZh4"
      },
      "outputs": [],
      "source": [
        "%config InteractiveShell.ast_node_interactivity = \"last_expr_or_assign\""
      ]
    },
    {
      "cell_type": "code",
      "execution_count": null,
      "metadata": {
        "colab": {
          "base_uri": "https://localhost:8080/"
        },
        "id": "FaQilworyUfH",
        "outputId": "07b1a1b0-b2cb-4bdc-eba9-6b3587bf7737"
      },
      "outputs": [
        {
          "name": "stdout",
          "output_type": "stream",
          "text": [
            "skipping\n"
          ]
        }
      ],
      "source": [
        "%%script echo skipping\n",
        "\n",
        "plt.hist([np.random.uniform(0, 0.999) for _ in range(n_train_samples)], bins=20)"
      ]
    },
    {
      "cell_type": "code",
      "execution_count": null,
      "metadata": {
        "colab": {
          "base_uri": "https://localhost:8080/"
        },
        "id": "GrQZUO22yUfH",
        "outputId": "09d569e1-3034-4f85-c02d-fd979a9b2e91"
      },
      "outputs": [
        {
          "name": "stdout",
          "output_type": "stream",
          "text": [
            "skipping\n"
          ]
        }
      ],
      "source": [
        "%%script echo skipping\n",
        "\n",
        "epsilon"
      ]
    },
    {
      "cell_type": "markdown",
      "metadata": {
        "id": "lAJHK1SZyUfH"
      },
      "source": [
        "The reason the sampling is not uniformly distributed in the following plots is due to the resampling and the fact that we certain values of e.g. velocity are more likely to violate the speed of light constraint than others."
      ]
    },
    {
      "cell_type": "code",
      "execution_count": null,
      "metadata": {
        "colab": {
          "base_uri": "https://localhost:8080/",
          "height": 1000
        },
        "id": "E5YFdqKjUZh5",
        "outputId": "bdbd3c2c-3094-4a1e-fa01-bb2d93ef9ec1"
      },
      "outputs": [
        {
          "data": {
            "image/png": "[encoded data removed]",
            "text/plain": [
              "<Figure size 2000x1600 with 14 Axes>"
            ]
          },
          "metadata": {},
          "output_type": "display_data"
        }
      ],
      "source": [
        "#%%script echo skipping\n",
        "\n",
        "if not LOAD_DATA_FROM_CSV:\n",
        "    def plot_histogram(data, xlabel, ylabel, position, bins=20, xlog_scale=False, ylog_scale=False):\n",
        "        plt.subplot(4, 5, position)\n",
        "        plt.hist(data, bins=bins)\n",
        "        plt.xlabel(xlabel)\n",
        "        plt.ylabel(ylabel)\n",
        "        if xlog_scale: # Setting does not work expected for epsilon.\n",
        "            plt.xscale(\"log\")\n",
        "        if ylog_scale: # Setting does not work expected for epsilon.\n",
        "            plt.yscale(\"log\")\n",
        "\n",
        "    # Plotting the histograms of rho, vx, epsilon, b0, b1, b2, and b3\n",
        "    bins = 20\n",
        "    plt.figure(figsize=(20, 16))\n",
        "\n",
        "    plot_histogram(rho, \"rho\", \"Frequency\", 1, bins=bins)\n",
        "    plot_histogram(epsilon, \"epsilon\", \"Frequency\", 2, bins=bins)\n",
        "    plot_histogram(vx, \"vx\", \"Frequency\", 3, bins=bins)\n",
        "    plot_histogram(vy, \"vy\", \"Frequency\", 4, bins=bins)\n",
        "    plot_histogram(vz, \"vz\", \"Frequency\", 5, bins=bins)\n",
        "    plot_histogram(Bx, \"Bx\", \"Frequency\", 6, bins=bins)\n",
        "    plot_histogram(By, \"By\", \"Frequency\", 7, bins=bins)\n",
        "    plot_histogram(Bz, \"Bz\", \"Frequency\", 8, bins=bins)\n",
        "\n",
        "    # Plot these\n",
        "    plot_histogram(gxx, \"gxx\", \"Frequency\", 9, bins=bins)\n",
        "    plot_histogram(gxy, \"gxy\", \"Frequency\", 10, bins=bins)\n",
        "    plot_histogram(gxz, \"gxz\", \"Frequency\", 11, bins=bins)\n",
        "    plot_histogram(gyy, \"gyy\", \"Frequency\", 12, bins=bins)\n",
        "    plot_histogram(gyz, \"gyz\", \"Frequency\", 13, bins=bins)\n",
        "    plot_histogram(gzz, \"gzz\", \"Frequency\", 14, bins=bins)\n",
        "\n",
        "\n",
        "    plt.suptitle(\"Primitive variables and metric\")\n",
        "    plt.tight_layout()\n",
        "    plt.show()\n"
      ]
    },
    {
      "cell_type": "code",
      "execution_count": null,
      "metadata": {
        "id": "gcEYWxrayUfI"
      },
      "outputs": [],
      "source": [
        "%config InteractiveShell.ast_node_interactivity = \"last_expr_or_assign\""
      ]
    },
    {
      "cell_type": "code",
      "execution_count": null,
      "metadata": {
        "colab": {
          "base_uri": "https://localhost:8080/",
          "height": 1000
        },
        "id": "cQqnwx5ayUfI",
        "outputId": "633d1577-cc07-4759-a52e-5dc0985478c6"
      },
      "outputs": [
        {
          "data": {
            "image/png": "[encoded data removed]",
            "text/plain": [
              "<Figure size 1600x1600 with 14 Axes>"
            ]
          },
          "metadata": {},
          "output_type": "display_data"
        }
      ],
      "source": [
        "#%%script echo skipping\n",
        "\n",
        "# Variable names\n",
        "variable_names = [\"D\", \"Sx\", \"Sy\", \"Sz\", \"tau\", \"Bconsx\", \"Bconsy\", \"Bconsz\", \"gxx\", \"gxy\", \"gxz\", \"gyy\", \"gyz\", \"gzz\"]\n",
        "\n",
        "# Plotting histograms of the input variables before z-score normalization\n",
        "plt.figure(figsize=(16, 16))\n",
        "plt.suptitle('Histograms of input variables before (or without at all) z-score normalization', y=1.03)\n",
        "\n",
        "for i in range(N_INPUTS):\n",
        "    plt.subplot(7, 2, i+1)\n",
        "    data = x_train[:, i].cpu().numpy() # Convert tensor to numpy array for percentile calculation\n",
        "    lower_bound, upper_bound = np.percentile(data, [1, 100]) # NOTE: Use this instead to visualize all the data.\n",
        "    # lower_bound, upper_bound = np.percentile(data, [1, 90]) # Calculate 1st and 99th percentile\n",
        "\n",
        "    plt.hist(data, bins=50, range=(lower_bound, upper_bound)) # Set range to the calculated percentile range\n",
        "    plt.xlabel(variable_names[i])\n",
        "    plt.xlim(lower_bound, upper_bound) # Set the x limit to match the range of the histogram\n",
        "\n",
        "plt.subplots_adjust(hspace=0.4, wspace=0.4)\n",
        "plt.show()\n",
        "\n",
        "# Same plotting but for the test data. Adjust the percentile range as needed to zoom in.\n",
        "# plt.figure(figsize=(16, 16))\n",
        "# plt.suptitle('Histograms of input variables before (or without at all) z-score normalization (test data)', y=1.03)\n",
        "\n",
        "# for i in range(14):\n",
        "#     plt.subplot(7, 2, i+1)\n",
        "#     data = x_test[:, i].cpu().numpy() # Convert tensor to numpy array for percentile calculation\n",
        "#     #lower_bound, upper_bound = np.percentile(data, [1, 100]) # NOTE: Use this instead to visualize all the data.\n",
        "#     lower_bound, upper_bound = np.percentile(data, [1, 99]) # Use this to zoom in.\n",
        "\n",
        "#     plt.hist(data, bins=50, range=(lower_bound, upper_bound)) # Set range to the calculated percentile range\n",
        "#     plt.xlabel(variable_names[i])\n",
        "#     plt.xlim(lower_bound, upper_bound) # Set the x limit to match the range of the histogram\n",
        "\n",
        "# plt.subplots_adjust(hspace=0.4, wspace=0.4)\n",
        "# plt.show()\n",
        "\n"
      ]
    },
    {
      "cell_type": "markdown",
      "metadata": {
        "id": "3C3jSavqlXa9"
      },
      "source": []
    },
    {
      "cell_type": "markdown",
      "metadata": {
        "id": "plEmGleqyUfJ"
      },
      "source": [
        "### Data normalization"
      ]
    },
    {
      "cell_type": "code",
      "execution_count": null,
      "metadata": {
        "colab": {
          "base_uri": "https://localhost:8080/"
        },
        "id": "S5ouzqffyUfJ",
        "outputId": "fc3b0b2a-ee1c-4bbd-a02f-a27cc4dcc1ee"
      },
      "outputs": [
        {
          "name": "stdout",
          "output_type": "stream",
          "text": [
            "Summary statistics of input variables before z-score normalization\n",
            "tensor([[ 4.5117e-06,  4.3111e+02,  2.3035e+00,  1.6752e+00,  4.2593e+00],\n",
            "        [-1.8105e+04,  2.3801e+05,  4.9721e+01,  2.1931e+01,  1.4821e+03],\n",
            "        [-3.3997e+04,  5.8912e+05,  5.0712e+01,  2.1729e+01,  2.4418e+03],\n",
            "        [-1.3673e+04,  2.7058e+05,  4.7566e+01,  2.2263e+01,  1.2803e+03],\n",
            "        [-3.8432e+04,  6.3403e+05,  1.1280e+02,  6.9650e+01,  3.0603e+03],\n",
            "        [-1.1171e+01,  1.1226e+01, -8.3158e-04, -2.9202e-02,  5.7394e+00],\n",
            "        [-1.1292e+01,  1.1280e+01,  3.0043e-02,  5.5120e-02,  5.7249e+00],\n",
            "        [-1.1251e+01,  1.1247e+01,  3.0361e-02,  9.7452e-02,  5.7237e+00],\n",
            "        [ 9.0000e-01,  1.1000e+00,  9.9869e-01,  9.9807e-01,  5.7720e-02],\n",
            "        [ 8.3550e-07,  9.9999e-02,  4.9532e-02,  4.9431e-02,  2.8902e-02],\n",
            "        [ 2.1299e-07,  9.9996e-02,  4.9560e-02,  4.9313e-02,  2.8922e-02],\n",
            "        [ 9.0001e-01,  1.1000e+00,  9.9875e-01,  9.9823e-01,  5.7643e-02],\n",
            "        [ 4.2071e-06,  9.9999e-02,  4.9649e-02,  4.9542e-02,  2.8990e-02],\n",
            "        [ 9.0000e-01,  1.1000e+00,  9.9865e-01,  9.9810e-01,  5.7681e-02]],\n",
            "       device='cuda:0')\n"
          ]
        }
      ],
      "source": [
        "# Computing summary statistics of the input variables before and after z-score normalization\n",
        "print('Summary statistics of input variables before z-score normalization')\n",
        "print(torch.stack([torch.min(x_train, dim=0).values, torch.max(x_train, dim=0).values, torch.nanmean(x_train, dim=0), torch.median(x_train, dim=0).values, torch.std(x_train, dim=0)], dim=1))"
      ]
    },
    {
      "cell_type": "markdown",
      "metadata": {
        "id": "xTEmkR1SUZh7"
      },
      "source": [
        "Perform z-score normalization"
      ]
    },
    {
      "cell_type": "code",
      "execution_count": null,
      "metadata": {
        "id": "n_ifIyZPyUfJ"
      },
      "outputs": [],
      "source": [
        "%config InteractiveShell.ast_node_interactivity = \"all\""
      ]
    },
    {
      "cell_type": "code",
      "execution_count": null,
      "metadata": {
        "id": "yPOv6DxhUZh7"
      },
      "outputs": [],
      "source": [
        "if ZSCORE_NORMALIZATION:\n",
        "    \n",
        "    # TODO: Add magnetic field variables to the normalization if I decide to use the old code that is commented out here.\n",
        "    # # Computing the median of each input variable from the training set using torch.nanmedian function\n",
        "    # D_median = torch.nanmedian(x_train[:, 0])\n",
        "    # Sx_median = torch.nanmedian(x_train[:, 1])\n",
        "    # Sy_median = torch.nanmedian(x_train[:, 2])\n",
        "    # Sz_median = torch.nanmedian(x_train[:, 3])\n",
        "    # tau_median = torch.nanmedian(x_train[:, 4])\n",
        "\n",
        "    # # Computing the standard deviation of each input variable from the training set using torch.std function with a boolean mask to ignore nan values\n",
        "    # D_std = torch.std(x_train[~torch.isnan(x_train[:, 0]), 0])\n",
        "    # Sx_std = torch.std(x_train[~torch.isnan(x_train[:, 1]), 1])\n",
        "    # Sy_std = torch.std(x_train[~torch.isnan(x_train[:, 2]), 2])\n",
        "    # Sz_std = torch.std(x_train[~torch.isnan(x_train[:, 3]), 3])\n",
        "    # tau_std = torch.std(x_train[~torch.isnan(x_train[:, 4]), 4])\n",
        "\n",
        "\n",
        "    # # Applying z-score normalization to both train and test sets using the statistics from the training set\n",
        "    # x_train[:, 0] = torch.sub(x_train[:, 0], D_median).div(D_std)\n",
        "    # x_train[:, 1] = torch.sub(x_train[:, 1], Sx_median).div(Sx_std)\n",
        "    # x_train[:, 2] = torch.sub(x_train[:, 2], Sy_median).div(Sy_std)\n",
        "    # x_train[:, 3] = torch.sub(x_train[:, 3], Sz_median).div(Sz_std)\n",
        "    # x_train[:, 4] = torch.sub(x_train[:, 4], tau_median).div(tau_std)\n",
        "\n",
        "    # x_test[:, 0] = torch.sub(x_test[:, 0], D_median).div(D_std)\n",
        "    # x_test[:, 1] = torch.sub(x_test[:, 1], Sx_median).div(Sx_std)\n",
        "    # x_test[:, 2] = torch.sub(x_test[:, 2], Sy_median).div(Sy_std)\n",
        "    # x_test[:, 3] = torch.sub(x_test[:, 3], Sz_median).div(Sz_std)\n",
        "    # x_test[:, 4] = torch.sub(x_test[:, 4], tau_median).div(tau_std)\n",
        "\n",
        "    # Computing the mean and standard deviation of each column\n",
        "    mean = x_train.mean(dim=0)\n",
        "    std = x_train.std(dim=0)\n",
        "\n",
        "    # Applying z-score normalization\n",
        "    x_train = (x_train - mean) / std\n",
        "    # Use the same mean and std from the training data as we don't want test data leakage.\n",
        "    x_test = (x_test - mean) / std\n",
        "\n"
      ]
    },
    {
      "cell_type": "markdown",
      "metadata": {
        "id": "fT2ZWWs_yUfV"
      },
      "source": [
        "Plotting the histograms of the input data after normalization if z-score normalization was performed."
      ]
    },
    {
      "cell_type": "code",
      "execution_count": null,
      "metadata": {
        "id": "tECmchuwyUfV"
      },
      "outputs": [],
      "source": [
        "%config InteractiveShell.ast_node_interactivity = \"last_expr_or_assign\""
      ]
    },
    {
      "cell_type": "code",
      "execution_count": null,
      "metadata": {
        "id": "YlPs0YzAyUfV"
      },
      "outputs": [],
      "source": [
        "if not LOAD_DATA_FROM_CSV:\n",
        "    if ZSCORE_NORMALIZATION:\n",
        "        # Variable names\n",
        "        variable_names = [\"D\", \"Sx\", \"Sy\", \"Sz\", \"tau\", \"Bconsx\", \"Bconsy\", \"Bconsz\", \"gxx\", \"gxy\", \"gxz\", \"gyy\", \"gyz\", \"gzz\"]\n",
        "\n",
        "        # Plotting histograms of the input variables before z-score normalization\n",
        "        plt.figure(figsize=(16, 16))\n",
        "        plt.suptitle('Histograms of input variables before (or without at all) z-score normalization', y=1.03)\n",
        "\n",
        "        for i in range(N_INPUTS):\n",
        "            plt.subplot(7, 2, i+1)\n",
        "            data = x_train[:, i].cpu().numpy() # Convert tensor to numpy array for percentile calculation\n",
        "            lower_bound, upper_bound = np.percentile(data, [1, 100]) # NOTE: Use this instead to visualize all the data.\n",
        "            # lower_bound, upper_bound = np.percentile(data, [1, 90]) # Calculate 1st and 99th percentile\n",
        "\n",
        "            plt.hist(data, bins=50, range=(lower_bound, upper_bound)) # Set range to the calculated percentile range\n",
        "            plt.xlabel(variable_names[i])\n",
        "            plt.xlim(lower_bound, upper_bound) # Set the x limit to match the range of the histogram\n",
        "\n",
        "        plt.subplots_adjust(hspace=0.4, wspace=0.4)\n",
        "        plt.show()"
      ]
    },
    {
      "cell_type": "code",
      "execution_count": null,
      "metadata": {
        "id": "3UR-wo0SyUfW"
      },
      "outputs": [],
      "source": [
        "if ZSCORE_NORMALIZATION:\n",
        "    # Computing summary statistics of the input variables after z-score normalization\n",
        "    print('Summary statistics of input variables after z-score normalization')\n",
        "    print(torch.stack([torch.min(x_train, dim=0).values, torch.max(x_train, dim=0).values, torch.mean(x_train, dim=0), torch.median(x_train, dim=0).values, torch.std(x_train, dim=0)], dim=1))\n"
      ]
    },
    {
      "cell_type": "markdown",
      "metadata": {
        "id": "JSKTD00gyUfW"
      },
      "source": [
        "### Visualizing input data and labels"
      ]
    },
    {
      "cell_type": "code",
      "execution_count": null,
      "metadata": {
        "colab": {
          "base_uri": "https://localhost:8080/"
        },
        "id": "D5zmSieOyUfW",
        "outputId": "1bb03946-752b-4b07-9ac1-5607a3c1ffd5"
      },
      "outputs": [
        {
          "data": {
            "text/plain": [
              "tensor([ 1.0420,  8.5830,  8.6470,  ...,  6.2048, -4.7875, -3.5556],\n",
              "       device='cuda:0')"
            ]
          },
          "execution_count": 170,
          "metadata": {},
          "output_type": "execute_result"
        }
      ],
      "source": [
        "x_train\n",
        "y_train\n",
        "x_val\n",
        "y_val\n",
        "x_test\n",
        "y_test"
      ]
    },
    {
      "cell_type": "markdown",
      "metadata": {
        "id": "E96p_MsOUZh9",
        "outputId": "4b95bad0-8f3a-4364-eed1-008e0ce2a5e3"
      },
      "source": [
        "Checking if our output is always positive ~~by plotting a histogram of y_train and y_test tensors~~"
      ]
    },
    {
      "cell_type": "code",
      "execution_count": null,
      "metadata": {
        "colab": {
          "base_uri": "https://localhost:8080/"
        },
        "id": "uXdQF0fdyUfW",
        "outputId": "ac05ccae-a232-48b8-bb48-03d59fdd837c"
      },
      "outputs": [
        {
          "name": "stdout",
          "output_type": "stream",
          "text": [
            "tensor(True)\n"
          ]
        }
      ],
      "source": [
        "import torch\n",
        "\n",
        "# Create a sample tensor\n",
        "tensor = torch.randn(80000, 14)  # Assuming a tensor of shape [80000, 14]\n",
        "tensor\n",
        "\n",
        "\n",
        "# Check if any element is negative\n",
        "any_negative = torch.any(tensor < 0)\n",
        "\n",
        "# Print the result\n",
        "print(any_negative)\n"
      ]
    },
    {
      "cell_type": "code",
      "execution_count": null,
      "metadata": {
        "colab": {
          "base_uri": "https://localhost:8080/"
        },
        "id": "zZ8DI737yUfX",
        "outputId": "bbcacd57-e9de-47df-adfd-2d37a2fc2901"
      },
      "outputs": [
        {
          "data": {
            "text/plain": [
              "tensor(True, device='cuda:0')"
            ]
          },
          "execution_count": 172,
          "metadata": {},
          "output_type": "execute_result"
        }
      ],
      "source": [
        "y_train.shape\n",
        "any_negative = torch.any(y_train < 0)\n",
        "any_negative\n",
        "\n",
        "y_test.shape\n",
        "any_negative = torch.any(y_test < 0)\n",
        "any_negative\n",
        "\n",
        "x_train.shape\n",
        "any_negative = torch.any(x_train < 0)\n",
        "any_negative"
      ]
    },
    {
      "cell_type": "code",
      "execution_count": null,
      "metadata": {
        "colab": {
          "base_uri": "https://localhost:8080/",
          "height": 407
        },
        "id": "ljSZWb-cyUfX",
        "outputId": "5f5d7527-99ed-46da-d816-1d564bdfebf7"
      },
      "outputs": [
        {
          "data": {
            "image/png": "[encoded data removed]",
            "text/plain": [
              "<Figure size 800x400 with 3 Axes>"
            ]
          },
          "metadata": {},
          "output_type": "display_data"
        }
      ],
      "source": [
        "#%%script echo skipping\n",
        "\n",
        "plt.figure(figsize=(8, 4))\n",
        "plt.subplot(1, 3, 1)\n",
        "plt.hist(y_train.cpu().numpy(), bins=100) # must be cpu here.\n",
        "plt.xlabel(\"y_train\")\n",
        "plt.ylabel(\"Frequency\")\n",
        "plt.xscale(\"log\")\n",
        "plt.subplot(1, 3, 2)\n",
        "plt.hist(y_val.cpu().numpy(), bins=100) # must be cpu here\n",
        "plt.xlabel(\"y_val\")\n",
        "plt.ylabel(\"Frequency\")\n",
        "plt.xscale(\"log\")\n",
        "plt.tight_layout()\n",
        "plt.subplot(1, 3, 3)\n",
        "plt.hist(y_test.cpu().numpy(), bins=100) # must be cpu here\n",
        "plt.xlabel(\"y_test\")\n",
        "plt.ylabel(\"Frequency\")\n",
        "plt.xscale(\"log\")\n",
        "plt.tight_layout()\n",
        "plt.show()\n"
      ]
    },
    {
      "cell_type": "code",
      "execution_count": null,
      "metadata": {
        "id": "FEgjk--AUZh9"
      },
      "outputs": [],
      "source": [
        "%config InteractiveShell.ast_node_interactivity = \"all\""
      ]
    },
    {
      "cell_type": "markdown",
      "metadata": {
        "id": "r2b9GecHUZh9"
      },
      "source": [
        "## Defining the neural network"
      ]
    },
    {
      "cell_type": "markdown",
      "metadata": {
        "id": "4l7rti5iHi_T"
      },
      "source": []
    },
    {
      "cell_type": "code",
      "execution_count": null,
      "metadata": {
        "id": "Iv8HA-ZXUZh-"
      },
      "outputs": [],
      "source": [
        "# Defining a class for the network\n",
        "class Net(nn.Module):\n",
        "    \"\"\"A class for creating a network with a\n",
        "    variable number of hidden layers and units.\n",
        "\n",
        "    Attributes:\n",
        "        n_layers (int): The number of hidden layers in the network.\n",
        "        n_units (list): A list of integers representing the number of units in each hidden layer.\n",
        "        hidden_activation (torch.nn.Module): The activation function for the hidden layers.\n",
        "        output_activation (torch.nn.Module): The activation function for the output layer.\n",
        "        layers (torch.nn.ModuleList): A list of linear layers in the network.\n",
        "    \"\"\"\n",
        "\n",
        "    def __init__(self, n_layers, n_units, hidden_activation, output_activation, dropout_rate):\n",
        "        \"\"\"Initializes the network with the given hyperparameters.\n",
        "\n",
        "        Args:\n",
        "            n_layers (int): The number of hidden layers in the network.\n",
        "            n_units (list): A list of integers representing the number of units in each hidden layer.\n",
        "            hidden_activation (torch.nn.Module): The activation function for the hidden layers.\n",
        "            output_activation (torch.nn.Module): The activation function for the output layer.\n",
        "            TODO: [ver. Copilot description] dropout_rate (float): The dropout rate to use for all layers.\n",
        "        \"\"\"\n",
        "        super().__init__()\n",
        "        self.n_layers = n_layers\n",
        "        self.n_units = n_units\n",
        "        self.hidden_activation = hidden_activation\n",
        "        self.output_activation = output_activation\n",
        "        self.dropout_rate = dropout_rate\n",
        "\n",
        "        # Creating a list of linear layers with different numbers of units for each layer\n",
        "        self.layers = nn.ModuleList()\n",
        "        self.dropouts = nn.ModuleList()\n",
        "\n",
        "        self.layers.append(nn.Linear(N_INPUTS, n_units[0]))\n",
        "        self.dropouts.append(nn.Dropout(p=dropout_rate))\n",
        "\n",
        "        for i in range(1, n_layers):\n",
        "            self.layers.append(nn.Linear(n_units[i - 1], n_units[i]))\n",
        "            self.dropouts.append(nn.Dropout(p=dropout_rate))\n",
        "\n",
        "        self.layers.append(nn.Linear(n_units[-1], N_OUTPUTS))\n",
        "\n",
        "        # Adding some assertions to check that the input arguments are valid\n",
        "        assert isinstance(n_layers, int) and n_layers > 0, \"n_layers must be a positive integer\"\n",
        "        assert isinstance(n_units, list) and len(n_units) == n_layers, \"n_units must be a list of length n_layers\"\n",
        "        assert all(isinstance(n, int) and n > 0 for n in n_units), \"n_units must contain positive integers\"\n",
        "        assert isinstance(hidden_activation, nn.Module), \"hidden_activation must be a torch.nn.Module\"\n",
        "        assert isinstance(output_activation, nn.Module), \"output_activation must be a torch.nn.Module\"\n",
        "\n",
        "    def forward(self, x):\n",
        "        \"\"\"Performs a forward pass on the input tensor.\n",
        "\n",
        "        Args:\n",
        "            x (torch.Tensor): The input tensor of shape (batch_size, N_INPUTS).\n",
        "\n",
        "        Returns:\n",
        "            torch.Tensor: The output tensor of shape (batch_size, N_OUTPUTS).\n",
        "        \"\"\"\n",
        "        # Adding an assertion to check that the input tensor has the expected shape and type\n",
        "        assert isinstance(x, torch.Tensor), \"x must be a torch.Tensor\"\n",
        "        assert x.shape[1] == N_INPUTS, f\"x must have shape (batch_size, {N_INPUTS})\"\n",
        "\n",
        "        for layer, dropout in zip(self.layers[:-1], self.dropouts):\n",
        "            x = dropout(self.hidden_activation(layer(x)))\n",
        "        # Applying the linear transformation and the activation function on the output layer\n",
        "        x = self.output_activation(self.layers[-1](x)) # No dropout at output layer\n",
        "\n",
        "        return x # Returning the output tensor\n"
      ]
    },
    {
      "cell_type": "code",
      "execution_count": null,
      "metadata": {
        "colab": {
          "base_uri": "https://localhost:8080/"
        },
        "id": "aVUQAVhzyUfY",
        "outputId": "1cc5c5af-51ef-4619-ed84-397388f5442c"
      },
      "outputs": [
        {
          "name": "stdout",
          "output_type": "stream",
          "text": [
            "skipping\n"
          ]
        }
      ],
      "source": [
        "%%script echo skipping\n",
        "\n",
        "[1,2,3]\n",
        "[1,2,3][:-1]"
      ]
    },
    {
      "cell_type": "code",
      "execution_count": null,
      "metadata": {
        "colab": {
          "base_uri": "https://localhost:8080/"
        },
        "id": "BEBudkK1yUfY",
        "outputId": "628f5f20-3122-42fe-a01d-b159e6bf7c97"
      },
      "outputs": [
        {
          "name": "stdout",
          "output_type": "stream",
          "text": [
            "1\n",
            "2\n"
          ]
        }
      ],
      "source": [
        "for x in [1,2,3][:-1]:\n",
        "    print(x)\n",
        "\n"
      ]
    },
    {
      "cell_type": "markdown",
      "metadata": {
        "id": "6GNvp55PUZh_"
      },
      "source": [
        "## Defining the model and search space"
      ]
    },
    {
      "cell_type": "code",
      "execution_count": null,
      "metadata": {
        "id": "9a1opluOUZh_"
      },
      "outputs": [],
      "source": [
        "# Defining a function to create a trial network and optimizer\n",
        "def create_model(trial, optimize):\n",
        "    \"\"\"Creates a trial network and optimizer based on the sampled hyperparameters.\n",
        "\n",
        "    Args:\n",
        "        trial (optuna.trial.Trial): The trial object that contains the hyperparameters.\n",
        "        optimize (boolean): Whether to optimize the hyperparameters or to use predefined values.\n",
        "\n",
        "    Returns:\n",
        "        tuple: A tuple of (net, loss_fn, optimizer, batch_size, n_epochs,\n",
        "            scheduler, loss_name, optimizer_name, scheduler_name,\n",
        "            n_units, n_layers, hidden_activation, output_activation),\n",
        "            where net is the trial network,\n",
        "            loss_fn is the loss function,\n",
        "            optimizer is the optimizer,\n",
        "            batch_size is the batch size,\n",
        "            n_epochs is the number of epochs,\n",
        "            scheduler is the learning rate scheduler,\n",
        "            loss_name is the name of the loss function,\n",
        "            optimizer_name is the name of the optimizer,\n",
        "            scheduler_name is the name of the scheduler,\n",
        "            n_units is a list of integers representing\n",
        "            the number of units in each hidden layer,\n",
        "            n_layers is an integer representing the number of hidden layers in the network,\n",
        "            hidden_activation is a torch.nn.Module representing the activation function for the hidden layers,\n",
        "            output_activation is a torch.nn.Module representing the activation function for the output layer,\n",
        "            lr is the (initial) learning rate.\n",
        "            dropout_rate is the dropout rate.\n",
        "    \"\"\"\n",
        "    # If optimize is True, sample the hyperparameters from the search space\n",
        "    if OPTIMIZE:\n",
        "        n_layers = trial.suggest_int(\"n_layers\", 2, 10)\n",
        "        n_units = [trial.suggest_int(f\"n_units_{i}\", 16, 4096) for i in range(n_layers)]\n",
        "\n",
        "        hidden_activation_name = trial.suggest_categorical(\n",
        "            \"hidden_activation\", [\"ReLU\", \"LeakyReLU\", \"ELU\", \"PReLU\", \"Swish\", \"GELU\", \"SoftPlus\"]\n",
        "        )\n",
        "        output_activation_name = trial.suggest_categorical( \"output_activation\", [\"Linear\"])\n",
        "\n",
        "        loss_name = trial.suggest_categorical( \"loss\", [\"MSE\", \"MAE\", \"Huber\", \"Quantile\"])  # Added Quantile loss\n",
        "\n",
        "        optimizer_name = trial.suggest_categorical( \"optimizer\", [\"Adam\", \"SGD\", \"RMSprop\", \"Adagrad\"] )\n",
        "\n",
        "        lr = trial.suggest_loguniform(\"lr\", 1e-6, 1)\n",
        "\n",
        "        batch_size_list = [32, 64, 128, 256, 512, 1024, 2048]\n",
        "        batch_size = trial.suggest_categorical(\"batch_size\", batch_size_list)\n",
        "        \n",
        "        n_epochs = trial.suggest_int(\"n_epochs\", 50, 150)\n",
        "\n",
        "        # scheduler_name = trial.suggest_categorical(\"scheduler\", [\"CosineAnnealingLR\", \"ReduceLROnPlateau\", \"StepLR\", \"CyclicLR\"])\n",
        "        scheduler_name = trial.suggest_categorical(\"scheduler\", [\"CosineAnnealingLR\", \"ReduceLROnPlateau\", \"StepLR\"])\n",
        "\n",
        "        # Creating the activation functions from their names\n",
        "        if hidden_activation_name == \"ReLU\":\n",
        "            hidden_activation = nn.ReLU()\n",
        "        elif hidden_activation_name == \"LeakyReLU\":\n",
        "            negative_slope = trial.suggest_uniform(\"leakyrelu_slope\", 0.01, 0.3)\n",
        "            hidden_activation = nn.LeakyReLU(negative_slope=negative_slope)\n",
        "        elif hidden_activation_name == \"ELU\":\n",
        "            hidden_activation = nn.ELU() \n",
        "        elif hidden_activation_name == \"PReLU\":\n",
        "            init = trial.suggest_uniform(\"prelu_init\", 0.1, 0.3)\n",
        "            hidden_activation = nn.PReLU(init=init)\n",
        "        elif hidden_activation_name == \"Swish\":\n",
        "            class Swish(nn.Module):\n",
        "                def forward(self, x):\n",
        "                    return x * torch.sigmoid(x)\n",
        "            hidden_activation = Swish()\n",
        "        elif hidden_activation_name == \"GELU\":\n",
        "            hidden_activation = nn.GELU()\n",
        "        elif hidden_activation_name == \"SoftPlus\":\n",
        "            beta = trial.suggest_uniform(\"softplus_beta\", 0.5, 1.5)\n",
        "            hidden_activation = nn.Softplus(beta=beta) # We don't optimize thresshold subparameters, as it's mainly for numerical stability.\n",
        "\n",
        "        dropout_rate = trial.suggest_uniform(\"dropout_rate\", 0.0, 0.5)\n",
        "\n",
        "\n",
        "    # If optimize is False, use the predefined values\n",
        "    else:\n",
        "        # Setting the hyperparameters to the predefined values\n",
        "        n_layers = N_LAYERS_NO_OPT\n",
        "        n_units = N_UNITS_NO_OPT\n",
        "        hidden_activation_name = HIDDEN_ACTIVATION_NAME_NO_OPT\n",
        "        output_activation_name = OUTPUT_ACTIVATION_NAME_NO_OPT\n",
        "        loss_name = LOSS_NAME_NO_OPT\n",
        "        optimizer_name = OPTIMIZER_NAME_NO_OPT\n",
        "        lr = LR_NO_OPT\n",
        "        batch_size = BATCH_SIZE_NO_OPT\n",
        "        n_epochs = N_EPOCHS_NO_OPT\n",
        "        scheduler_name = SCHEDULER_NAME_NO_OPT\n",
        "\n",
        "        # Creating the activation functions from their names\n",
        "        if hidden_activation_name == \"ReLU\":\n",
        "            hidden_activation = nn.ReLU()\n",
        "        elif hidden_activation_name == \"LeakyReLU\":\n",
        "            negative_slope = 0.01\n",
        "            hidden_activation = nn.LeakyReLU(negative_slope=negative_slope)\n",
        "        elif hidden_activation_name == \"ELU\":\n",
        "            hidden_activation = nn.ELU() \n",
        "        elif hidden_activation_name == \"PReLU\":\n",
        "            init = 0.25\n",
        "            hidden_activation = nn.PReLU(init=init)\n",
        "        elif hidden_activation_name == \"Swish\":\n",
        "            class Swish(nn.Module):\n",
        "                def forward(self, x):\n",
        "                    return x * torch.sigmoid(x)\n",
        "            hidden_activation = Swish()\n",
        "        elif hidden_activation_name == \"GELU\":\n",
        "            hidden_activation = nn.GELU()\n",
        "        elif hidden_activation_name == \"SoftPlus\":\n",
        "            beta = 1\n",
        "            hidden_activation = nn.Softplus(beta=beta) # We don't optimize threshold subparameter, as it's mainly for numerical stability.\n",
        "\n",
        "        dropout_rate = DROPOUT_RATE_NO_OPT\n",
        "\n",
        "\n",
        "    # We used to have options here, but since we have a regression problem with continuous output, we only use Linear.\n",
        "    output_activation = nn.Identity()\n",
        "\n",
        "    # Creating the loss function from its name\n",
        "    if loss_name == \"MSE\":\n",
        "        loss_fn = nn.MSELoss()\n",
        "    elif loss_name == \"MAE\":\n",
        "        loss_fn = nn.L1Loss()\n",
        "    elif loss_name == \"Huber\":\n",
        "        loss_fn = nn.SmoothL1Loss() \n",
        "    elif loss_name == \"Quantile\":\n",
        "        def quantile_loss(y_pred, y_true, q=0.5):\n",
        "            e = y_pred - y_true\n",
        "            return torch.mean(torch.max(q*e, (q-1)*e))\n",
        "        loss_fn = quantile_loss\n",
        "    else:\n",
        "        def log_cosh_loss(y_pred, y_true):\n",
        "            return torch.mean(torch.log(torch.cosh(y_pred - y_true)))\n",
        "        loss_fn = log_cosh_loss\n",
        "\n",
        "    # Creating the network with the sampled hyperparameters\n",
        "    net = Net(n_layers, n_units, hidden_activation, output_activation, dropout_rate).to(device)\n",
        "\n",
        "\n",
        "    if OPTIMIZE:\n",
        "        # Creating the optimizer from its name\n",
        "        if optimizer_name == \"SGD\":\n",
        "            weight_decay = trial.suggest_loguniform(\"weight_decay\", 1e-5, 1e-2)\n",
        "            momentum = trial.suggest_uniform(\"momentum\", 0.0, 0.99)\n",
        "            optimizer = optim.SGD(net.parameters(), lr=lr, weight_decay=weight_decay, momentum=momentum)\n",
        "        elif optimizer_name == \"Adam\":\n",
        "            weight_decay = trial.suggest_loguniform(\"weight_decay\", 1e-5, 1e-2)\n",
        "            beta1 = trial.suggest_uniform(\"beta1\", 0.9, 0.999)\n",
        "            beta2 = trial.suggest_uniform(\"beta2\", 0.999, 0.9999)\n",
        "            optimizer = optim.Adam(net.parameters(), lr=lr, weight_decay=weight_decay, betas=(beta1, beta2))\n",
        "        elif optimizer_name == \"RMSprop\":\n",
        "            optimizer = optim.RMSprop(net.parameters(), lr=lr)\n",
        "        else:\n",
        "            optimizer = optim.Adagrad(net.parameters(), lr=lr)\n",
        "\n",
        "        # Creating the learning rate scheduler from its name\n",
        "        if scheduler_name == \"StepLR\":\n",
        "            step_size = trial.suggest_int(\"step_size\", 5, 15)\n",
        "            gamma = trial.suggest_uniform(\"gamma\", 0.1, 0.5)\n",
        "            scheduler = optim.lr_scheduler.StepLR(optimizer, step_size=step_size, gamma=gamma)\n",
        "        elif scheduler_name == \"ExponentialLR\":\n",
        "            gamma = trial.suggest_uniform(\"gamma\", 0.8, 0.99)\n",
        "            scheduler = optim.lr_scheduler.ExponentialLR(optimizer, gamma=gamma)\n",
        "        elif scheduler_name == \"CosineAnnealingLR\":\n",
        "            if n_epochs < 150:\n",
        "                t_max_fraction = trial.suggest_uniform('t_max_fraction', 0.1, 0.3)\n",
        "            elif n_epochs > 250:\n",
        "                t_max_fraction = trial.suggest_uniform('t_max_fraction', 0.05, 0.1)\n",
        "            else:\n",
        "                t_max_fraction = trial.suggest_uniform('t_max_fraction', 0.1, 0.2)\n",
        "\n",
        "            T_max = int(n_epochs * t_max_fraction)\n",
        "            eta_min = trial.suggest_loguniform(\"eta_min\", 1e-7, 1e-2)\n",
        "            scheduler = optim.lr_scheduler.CosineAnnealingLR(optimizer, T_max=T_max, eta_min=eta_min)\n",
        "        elif scheduler_name == \"ReduceLROnPlateau\":\n",
        "            factor = trial.suggest_uniform(\"factor\", 0.1, 0.5)\n",
        "            patience = trial.suggest_int(\"patience\", 5, 10)\n",
        "            threshold = trial.suggest_loguniform(\"threshold\", 1e-4, 1e-2)\n",
        "            scheduler = optim.lr_scheduler.ReduceLROnPlateau(\n",
        "                optimizer, mode=\"min\", factor=factor, patience=patience, threshold=threshold\n",
        "            )\n",
        "        elif scheduler_name == \"CyclicLR\":\n",
        "            base_lr = trial.suggest_loguniform(\"base_lr\", 1e-6, 1e-2)\n",
        "            max_lr = trial.suggest_loguniform(\"max_lr\", 1e-4, 1)\n",
        "            step_size_up = trial.suggest_int(\"step_size_up\", 200, 2000)\n",
        "            scheduler = optim.lr_scheduler.CyclicLR(optimizer, base_lr=base_lr, max_lr=max_lr, step_size_up=step_size_up)\n",
        "        else:\n",
        "            scheduler = None\n",
        "    else:\n",
        "        # Creating the optimizer from its name\n",
        "        if optimizer_name == \"SGD\":\n",
        "            optimizer = optim.SGD(net.parameters(), lr=lr)\n",
        "        elif optimizer_name == \"Adam\":\n",
        "            optimizer = optim.Adam(net.parameters(), lr=lr)\n",
        "        elif optimizer_name == \"RMSprop\":\n",
        "            optimizer = optim.RMSprop(net.parameters(), lr=lr)\n",
        "        else:\n",
        "            optimizer = optim.Adagrad(net.parameters(), lr=lr)\n",
        "\n",
        "        # Creating the learning rate scheduler from its name\n",
        "        if scheduler_name == \"StepLR\":\n",
        "            scheduler = optim.lr_scheduler.StepLR(optimizer, step_size=10, gamma=0.1)\n",
        "        elif scheduler_name == \"ExponentialLR\":\n",
        "            scheduler = optim.lr_scheduler.ExponentialLR(optimizer, gamma=0.9)\n",
        "        elif scheduler_name == \"CosineAnnealingLR\":\n",
        "            scheduler = optim.lr_scheduler.CosineAnnealingLR(optimizer)\n",
        "        elif scheduler_name == \"ReduceLROnPlateau\":\n",
        "            scheduler = optim.lr_scheduler.ReduceLROnPlateau(\n",
        "                        optimizer, mode=\"min\", factor=0.18979341786654758, patience=11, threshold=0.0017197466122611932 #, min_lr=1e-6\n",
        "                    )\n",
        "        elif scheduler_name == \"CyclicLR\":\n",
        "            # TODO: Change these appropriately.\n",
        "            base_lr = 1e-6\n",
        "            max_lr = 1e-4\n",
        "            step_size_up = 200\n",
        "            scheduler = optim.lr_scheduler.CyclicLR(optimizer, base_lr=base_lr, max_lr=max_lr, step_size_up=step_size_up)\n",
        "        else:\n",
        "            scheduler = None\n",
        "\n",
        "    # Returning all variables needed for saving and loading\n",
        "    return net, loss_fn, optimizer, batch_size, n_epochs, scheduler, loss_name, optimizer_name, scheduler_name, n_units, n_layers, hidden_activation, output_activation, lr, dropout_rate\n",
        "\n",
        "\n"
      ]
    },
    {
      "cell_type": "markdown",
      "metadata": {
        "id": "l-czA7VvUZiD"
      },
      "source": [
        " ## The training and evaluation loop\n",
        "\n",
        " We first define a couple of functions used in the training and evaluation."
      ]
    },
    {
      "cell_type": "code",
      "execution_count": null,
      "metadata": {
        "id": "aD6FQNmxUZiD"
      },
      "outputs": [],
      "source": [
        "# Defining a function that computes loss and metrics for a given batch\n",
        "def compute_loss_and_metrics(y_pred, y_true, loss_fn):\n",
        "    \"\"\"Computes loss and metrics for a given batch.\n",
        "\n",
        "    Args:\n",
        "        y_pred (torch.Tensor): The predicted pressure tensor of shape (batch_size, 1).\n",
        "        y_true (torch.Tensor): The true pressure tensor of shape (batch_size,).\n",
        "        loss_fn (torch.nn.Module or function): The loss function to use.\n",
        "\n",
        "    Returns:\n",
        "        tuple: A tuple of (loss, l1_norm), where loss is a scalar tensor,\n",
        "            l1_norm is L1 norm for relative error of pressure,\n",
        "            each being a scalar tensor.\n",
        "            linf_norm is Linf norm for relative error of pressure.\n",
        "    \"\"\"\n",
        "    # Reshaping the target tensor to match the input tensor\n",
        "    y_true = y_true.view(-1, 1)\n",
        "\n",
        "    # Computing the loss using the loss function\n",
        "    loss = loss_fn(y_pred, y_true)\n",
        "\n",
        "    # Computing the relative error of pressure\n",
        "    rel_error = torch.abs((y_pred - y_true) / y_true)\n",
        "\n",
        "    # Computing the L1 norm for the relative error of pressure\n",
        "    l1_norm = torch.mean(rel_error) \n",
        "    # Computing the Linf norm for the relative error of pressure\n",
        "    linf_norm = torch.max(rel_error) \n",
        "\n",
        "    # Returning the loss and metrics\n",
        "    return loss, l1_norm, linf_norm\n",
        "\n",
        "\n",
        "# Defining a function that updates the learning rate scheduler with validation loss if applicable\n",
        "def update_scheduler(scheduler, test_loss):\n",
        "    \"\"\"Updates the learning rate scheduler with validation loss if applicable.\n",
        "\n",
        "    Args:\n",
        "        scheduler (torch.optim.lr_scheduler._LRScheduler or None): The learning rate scheduler to use.\n",
        "        test_loss (float): The validation loss to use.\n",
        "\n",
        "    Returns:\n",
        "        None\n",
        "    \"\"\"\n",
        "    # Checking if scheduler is not None\n",
        "    if scheduler is not None:\n",
        "        # Checking if scheduler is ReduceLROnPlateau\n",
        "        if isinstance(scheduler, optim.lr_scheduler.ReduceLROnPlateau):\n",
        "            # Updating the scheduler with test_loss\n",
        "            scheduler.step(test_loss)\n",
        "        else:\n",
        "            # Updating the scheduler without test_loss\n",
        "            scheduler.step()\n"
      ]
    },
    {
      "cell_type": "markdown",
      "metadata": {
        "id": "w1nE662UUZiE"
      },
      "source": [
        "Now for the actual training and evaluation loop,"
      ]
    },
    {
      "cell_type": "code",
      "execution_count": null,
      "metadata": {
        "id": "3DXNF8PPXL4U"
      },
      "outputs": [],
      "source": [
        "# Defining a function to train and evaluate a network\n",
        "def train_and_eval(net, loss_fn, optimizer, batch_size, n_epochs, scheduler, train_loader, val_loader, test_loader, trial=None):\n",
        "    # Initializing lists to store the losses and metrics for each epoch\n",
        "    train_losses = []\n",
        "    val_losses = []\n",
        "    test_losses = []\n",
        "    train_metrics = []\n",
        "    val_metrics = []\n",
        "    test_metrics = []\n",
        "\n",
        "\n",
        "    # Creating a SummaryWriter object to log data for tensorboard\n",
        "    writer = tbx.SummaryWriter()\n",
        "\n",
        "    # Looping over the epochs\n",
        "    for epoch in range(n_epochs):\n",
        "\n",
        "        # Setting the network to training mode\n",
        "        net.train()\n",
        "\n",
        "        # Initializing variables to store the total loss and metrics for the train set\n",
        "        train_loss = 0.0\n",
        "        train_l1_norm = 0.0\n",
        "        train_linf_norm = 0.0\n",
        "\n",
        "        # Looping over the batches in the train set\n",
        "        for x_batch, y_batch in train_loader:\n",
        "\n",
        "            # Moving the batch tensors to the device\n",
        "            x_batch = x_batch.to(device)\n",
        "            y_batch = y_batch.to(device)\n",
        "\n",
        "            # Zeroing the gradients\n",
        "            optimizer.zero_grad()\n",
        "\n",
        "            # Performing a forward pass and computing the loss and metrics\n",
        "            y_pred = net(x_batch)\n",
        "            loss, l1_norm, linf_norm = compute_loss_and_metrics(y_pred, y_batch, loss_fn)\n",
        "\n",
        "\n",
        "            # Performing a backward pass and updating the weights\n",
        "            loss.backward()\n",
        "            optimizer.step()\n",
        "\n",
        "            # Updating the total loss and metrics for the train set\n",
        "            train_loss += loss.item() * x_batch.size(0)\n",
        "            train_l1_norm += l1_norm.item() * x_batch.size(0)\n",
        "            train_linf_norm += linf_norm.item() * x_batch.size(0)\n",
        "\n",
        "        # Computing the average loss and metrics for the train set\n",
        "        train_loss /= len(train_loader.dataset)\n",
        "        train_l1_norm /= len(train_loader.dataset)\n",
        "        train_linf_norm /= len(train_loader.dataset)\n",
        "\n",
        "        # Appending the average loss and metrics for the train set to the lists\n",
        "        train_losses.append(train_loss)\n",
        "        train_metrics.append(\n",
        "            {\n",
        "                \"l1_norm\": train_l1_norm,\n",
        "                \"linf_norm\": train_linf_norm,\n",
        "            }\n",
        "        )\n",
        "\n",
        "        # Logging the average loss and metrics for the train set to tensorboard\n",
        "        writer.add_scalar(\"Loss/train\", train_loss, epoch)\n",
        "        writer.add_scalar(\"L1 norm/train\", train_l1_norm, epoch)\n",
        "        writer.add_scalar(\"Linf norm/train\", train_linf_norm, epoch)\n",
        "\n",
        "        if val_loader is not None:\n",
        "            net.eval()\n",
        "            val_loss = 0.0\n",
        "            val_l1_norm = 0.0\n",
        "            val_linf_norm = 0.0\n",
        "\n",
        "            with torch.no_grad():\n",
        "                for x_batch, y_batch in val_loader:\n",
        "                    x_batch = x_batch.to(device)\n",
        "                    y_batch = y_batch.to(device)\n",
        "                    y_pred = net(x_batch)\n",
        "                    loss, l1_norm, linf_norm = compute_loss_and_metrics(y_pred, y_batch, loss_fn)\n",
        "\n",
        "                    val_loss += loss.item() * x_batch.size(0)\n",
        "                    val_l1_norm += l1_norm.item() * x_batch.size(0)\n",
        "                    val_linf_norm += linf_norm.item() * x_batch.size(0)\n",
        "\n",
        "            val_loss /= len(val_loader.dataset)\n",
        "            val_l1_norm /= len(val_loader.dataset)\n",
        "            val_linf_norm /= len(val_loader.dataset)\n",
        "\n",
        "            val_losses.append(val_loss)\n",
        "            val_metrics.append(\n",
        "                {\n",
        "                    \"l1_norm\": val_l1_norm,\n",
        "                    \"linf_norm\": val_linf_norm,\n",
        "                }\n",
        "            )\n",
        "\n",
        "            writer.add_scalar(\"Loss/val\", val_loss, epoch)\n",
        "            writer.add_scalar(\"L1 norm/val\", val_l1_norm, epoch)\n",
        "            writer.add_scalar(\"Linf norm/val\", val_linf_norm, epoch)\n",
        "            print(f\"Epoch {epoch+1}/{n_epochs}.. Train loss: {train_loss:.3f}.. Val loss: {val_loss:.3f}.. Train L1 norm: {train_l1_norm:.3f}.. Val L1 norm: {val_l1_norm:.3f}.. Train Linf norm: {train_linf_norm:.3f}.. Val Linf norm: {val_linf_norm:.3f}\")\n",
        "\n",
        "\n",
        "            update_scheduler(scheduler, val_loss)\n",
        "\n",
        "        if test_loader is not None:\n",
        "            net.eval()\n",
        "            test_loss = 0.0\n",
        "            test_l1_norm = 0.0\n",
        "            test_linf_norm = 0.0\n",
        "\n",
        "            with torch.no_grad():\n",
        "                for x_batch, y_batch in test_loader:\n",
        "                    x_batch = x_batch.to(device)\n",
        "                    y_batch = y_batch.to(device)\n",
        "                    y_pred = net(x_batch)\n",
        "                    loss, l1_norm, linf_norm = compute_loss_and_metrics(y_pred, y_batch, loss_fn)\n",
        "\n",
        "                    test_loss += loss.item() * x_batch.size(0)\n",
        "                    test_l1_norm += l1_norm.item() * x_batch.size(0)\n",
        "                    test_linf_norm += linf_norm.item() * x_batch.size(0)\n",
        "\n",
        "            test_loss /= len(test_loader.dataset)\n",
        "            test_l1_norm /= len(test_loader.dataset)\n",
        "            test_linf_norm /= len(test_loader.dataset)\n",
        "\n",
        "            test_losses.append(test_loss)\n",
        "            test_metrics.append(\n",
        "                {\n",
        "                    \"l1_norm\": test_l1_norm,\n",
        "                    \"linf_norm\": test_linf_norm,\n",
        "                }\n",
        "            )\n",
        "\n",
        "            writer.add_scalar(\"Loss/test\", test_loss, epoch)\n",
        "            writer.add_scalar(\"L1 norm/test\", test_l1_norm, epoch)\n",
        "            writer.add_scalar(\"Linf norm/test\", test_linf_norm, epoch)\n",
        "            print(f\"Epoch {epoch+1}/{n_epochs}.. Train loss: {train_loss:.3f}.. Test loss: {test_loss:.3f}.. Train L1 norm: {train_l1_norm:.3f}.. Test L1 norm: {test_l1_norm:.3f}.. Train Linf norm: {train_linf_norm:.3f}.. Test Linf norm: {test_linf_norm:.3f}\")\n",
        "\n",
        "\n",
        "        # Reporting the intermediate metric value to Optuna if trial is not None\n",
        "        if trial is not None:\n",
        "            trial.report(val_l1_norm, epoch)\n",
        "\n",
        "            if trial.should_prune():\n",
        "                raise optuna.TrialPruned()\n",
        "\n",
        "    # Closing the SummaryWriter object\n",
        "    writer.close()\n",
        "\n",
        "    # Returning the losses and metrics lists\n",
        "    return train_losses, val_losses, test_losses, train_metrics, val_metrics, test_metrics\n"
      ]
    },
    {
      "cell_type": "code",
      "execution_count": null,
      "metadata": {
        "id": "fmRncQPuUZiR"
      },
      "outputs": [],
      "source": [
        "# Defining an objective function for Optuna to minimize\n",
        "def objective(trial):\n",
        "    \"\"\"Defines an objective function for Optuna to minimize.\n",
        "\n",
        "    Args:\n",
        "        trial (optuna.trial.Trial): The trial object that contains the hyperparameters.\n",
        "\n",
        "    Returns:\n",
        "        float: The validation L1 norm to minimize.\n",
        "    \"\"\"\n",
        "    # Creating a trial network and optimizer using the create_model function\n",
        "    net, \\\n",
        "    loss_fn, \\\n",
        "    optimizer, \\\n",
        "    batch_size, \\\n",
        "    n_epochs, \\\n",
        "    scheduler, \\\n",
        "    loss_name, \\\n",
        "    optimizer_name, \\\n",
        "    scheduler_name, \\\n",
        "    n_units, \\\n",
        "    n_layers, \\\n",
        "    hidden_activation, \\\n",
        "    output_activation, \\\n",
        "    lr, \\\n",
        "    dropout_rate = create_model(trial, optimize=True)\n",
        "\n",
        "    # Create separate data loaders for training and validation\n",
        "    train_loader = torch.utils.data.DataLoader(\n",
        "        torch.utils.data.TensorDataset(x_train, y_train), batch_size=batch_size, shuffle=True\n",
        "    )\n",
        "    val_loader = torch.utils.data.DataLoader(\n",
        "        torch.utils.data.TensorDataset(x_val, y_val), batch_size=batch_size\n",
        "    )\n",
        "    \n",
        "    _, _, _, _, val_metrics, _ = train_and_eval(\n",
        "        net, loss_fn, optimizer, batch_size, n_epochs, scheduler, train_loader, val_loader, None, trial\n",
        "    )\n",
        "\n",
        "    # Returning the last validation L1 norm as the objective value to minimize\n",
        "    return val_metrics[-1][\"l1_norm\"]"
      ]
    },
    {
      "cell_type": "code",
      "execution_count": null,
      "metadata": {
        "id": "4nRZqALKaf49"
      },
      "outputs": [],
      "source": []
    },
    {
      "cell_type": "code",
      "execution_count": null,
      "metadata": {
        "id": "2C6OKyfYgacH"
      },
      "outputs": [],
      "source": []
    },
    {
      "cell_type": "code",
      "execution_count": null,
      "metadata": {
        "id": "hmsjYi6sZyrF"
      },
      "outputs": [],
      "source": []
    },
    {
      "cell_type": "markdown",
      "metadata": {
        "id": "cPPcXFbKfEvw"
      },
      "source": []
    },
    {
      "cell_type": "code",
      "execution_count": null,
      "metadata": {
        "id": "AZ5YQOPwecB3"
      },
      "outputs": [],
      "source": []
    },
    {
      "cell_type": "code",
      "execution_count": null,
      "metadata": {
        "colab": {
          "background_save": true,
          "base_uri": "https://localhost:8080/"
        },
        "id": "GyES4NAyUZiS",
        "outputId": "8049eae0-0e38-495c-bf82-68bde27b72c1"
      },
      "outputs": [
        {
          "name": "stderr",
          "output_type": "stream",
          "text": [
            "\u001b[32m[I 2023-05-29 11:12:17,694]\u001b[0m A new study created in memory with name: no-name-22725c4f-22f8-46fb-8677-9d7b3a61aaed\u001b[0m\n",
            "<ipython-input-178-ddc3c9d46736>:44: FutureWarning: suggest_loguniform has been deprecated in v3.0.0. This feature will be removed in v6.0.0. See https://github.com/optuna/optuna/releases/tag/v3.0.0. Use :func:`~optuna.trial.Trial.suggest_float` instead.\n",
            "  lr = trial.suggest_loguniform(\"lr\", 1e-6, 1)\n",
            "<ipython-input-178-ddc3c9d46736>:76: FutureWarning: suggest_uniform has been deprecated in v3.0.0. This feature will be removed in v6.0.0. See https://github.com/optuna/optuna/releases/tag/v3.0.0. Use :func:`~optuna.trial.Trial.suggest_float` instead.\n",
            "  dropout_rate = trial.suggest_uniform(\"dropout_rate\", 0.0, 0.5)\n",
            "<ipython-input-178-ddc3c9d46736>:161: FutureWarning: suggest_uniform has been deprecated in v3.0.0. This feature will be removed in v6.0.0. See https://github.com/optuna/optuna/releases/tag/v3.0.0. Use :func:`~optuna.trial.Trial.suggest_float` instead.\n",
            "  gamma = trial.suggest_uniform(\"gamma\", 0.1, 0.5)\n"
          ]
        },
        {
          "name": "stdout",
          "output_type": "stream",
          "text": [
            "Epoch 1/71.. Train loss: 4.462.. Val loss: 4.091.. Train L1 norm: 8.071.. Val L1 norm: 3.568.. Train Linf norm: 1570.854.. Val Linf norm: 547.778\n",
            "Epoch 2/71.. Train loss: 4.621.. Val loss: 4.157.. Train L1 norm: 8.513.. Val L1 norm: 3.303.. Train Linf norm: 1713.968.. Val Linf norm: 497.745\n",
            "Epoch 3/71.. Train loss: 4.633.. Val loss: 4.293.. Train L1 norm: 5.209.. Val L1 norm: 2.872.. Train Linf norm: 858.415.. Val Linf norm: 408.364\n",
            "Epoch 4/71.. Train loss: 4.537.. Val loss: 4.321.. Train L1 norm: 8.518.. Val L1 norm: 2.869.. Train Linf norm: 1751.739.. Val Linf norm: 406.284\n",
            "Epoch 5/71.. Train loss: 4.578.. Val loss: 4.408.. Train L1 norm: 7.302.. Val L1 norm: 2.710.. Train Linf norm: 1427.518.. Val Linf norm: 367.803\n",
            "Epoch 6/71.. Train loss: 4.476.. Val loss: 4.479.. Train L1 norm: 8.970.. Val L1 norm: 2.612.. Train Linf norm: 1852.688.. Val Linf norm: 342.790\n",
            "Epoch 7/71.. Train loss: 4.432.. Val loss: 4.563.. Train L1 norm: 5.035.. Val L1 norm: 2.528.. Train Linf norm: 840.239.. Val Linf norm: 317.760\n",
            "Epoch 8/71.. Train loss: 4.430.. Val loss: 4.556.. Train L1 norm: 7.496.. Val L1 norm: 2.590.. Train Linf norm: 1498.789.. Val Linf norm: 330.776\n",
            "Epoch 9/71.. Train loss: 4.402.. Val loss: 4.580.. Train L1 norm: 7.476.. Val L1 norm: 2.580.. Train Linf norm: 1475.184.. Val Linf norm: 325.848\n",
            "Epoch 10/71.. Train loss: 4.361.. Val loss: 4.615.. Train L1 norm: 5.827.. Val L1 norm: 2.569.. Train Linf norm: 1071.715.. Val Linf norm: 319.998\n",
            "Epoch 11/71.. Train loss: 4.506.. Val loss: 4.648.. Train L1 norm: 6.190.. Val L1 norm: 2.569.. Train Linf norm: 1159.552.. Val Linf norm: 317.407\n",
            "Epoch 12/71.. Train loss: 4.637.. Val loss: 4.673.. Train L1 norm: 6.609.. Val L1 norm: 2.557.. Train Linf norm: 1256.097.. Val Linf norm: 312.648\n",
            "Epoch 13/71.. Train loss: 4.465.. Val loss: 4.743.. Train L1 norm: 6.346.. Val L1 norm: 2.477.. Train Linf norm: 1196.787.. Val Linf norm: 289.119\n",
            "Epoch 14/71.. Train loss: 4.650.. Val loss: 4.747.. Train L1 norm: 5.319.. Val L1 norm: 2.475.. Train Linf norm: 940.252.. Val Linf norm: 288.461\n",
            "Epoch 15/71.. Train loss: 4.368.. Val loss: 4.750.. Train L1 norm: 9.922.. Val L1 norm: 2.475.. Train Linf norm: 2119.549.. Val Linf norm: 288.151\n",
            "Epoch 16/71.. Train loss: 4.192.. Val loss: 4.727.. Train L1 norm: 5.673.. Val L1 norm: 2.509.. Train Linf norm: 1033.737.. Val Linf norm: 297.178\n",
            "Epoch 17/71.. Train loss: 4.446.. Val loss: 4.731.. Train L1 norm: 5.487.. Val L1 norm: 2.506.. Train Linf norm: 987.703.. Val Linf norm: 296.125\n",
            "Epoch 18/71.. Train loss: 4.419.. Val loss: 4.723.. Train L1 norm: 6.534.. Val L1 norm: 2.518.. Train Linf norm: 1254.953.. Val Linf norm: 299.405\n",
            "Epoch 19/71.. Train loss: 4.415.. Val loss: 4.723.. Train L1 norm: 5.484.. Val L1 norm: 2.519.. Train Linf norm: 980.048.. Val Linf norm: 299.485\n",
            "Epoch 20/71.. Train loss: 4.644.. Val loss: 4.725.. Train L1 norm: 5.510.. Val L1 norm: 2.518.. Train Linf norm: 985.874.. Val Linf norm: 299.087\n",
            "Epoch 21/71.. Train loss: 4.482.. Val loss: 4.716.. Train L1 norm: 6.837.. Val L1 norm: 2.531.. Train Linf norm: 1324.206.. Val Linf norm: 302.626\n",
            "Epoch 22/71.. Train loss: 4.627.. Val loss: 4.720.. Train L1 norm: 5.926.. Val L1 norm: 2.527.. Train Linf norm: 1094.316.. Val Linf norm: 301.440\n",
            "Epoch 23/71.. Train loss: 4.332.. Val loss: 4.704.. Train L1 norm: 5.214.. Val L1 norm: 2.550.. Train Linf norm: 908.124.. Val Linf norm: 307.395\n",
            "Epoch 24/71.. Train loss: 4.486.. Val loss: 4.695.. Train L1 norm: 8.152.. Val L1 norm: 2.563.. Train Linf norm: 1669.534.. Val Linf norm: 310.910\n",
            "Epoch 25/71.. Train loss: 4.629.. Val loss: 4.693.. Train L1 norm: 6.401.. Val L1 norm: 2.567.. Train Linf norm: 1214.175.. Val Linf norm: 311.949\n",
            "Epoch 26/71.. Train loss: 4.470.. Val loss: 4.691.. Train L1 norm: 7.681.. Val L1 norm: 2.572.. Train Linf norm: 1531.243.. Val Linf norm: 313.178\n",
            "Epoch 27/71.. Train loss: 4.603.. Val loss: 4.693.. Train L1 norm: 8.794.. Val L1 norm: 2.570.. Train Linf norm: 1824.975.. Val Linf norm: 312.712\n",
            "Epoch 28/71.. Train loss: 4.605.. Val loss: 4.694.. Train L1 norm: 7.004.. Val L1 norm: 2.568.. Train Linf norm: 1354.574.. Val Linf norm: 312.126\n",
            "Epoch 29/71.. Train loss: 4.275.. Val loss: 4.696.. Train L1 norm: 6.837.. Val L1 norm: 2.566.. Train Linf norm: 1328.266.. Val Linf norm: 311.596\n",
            "Epoch 30/71.. Train loss: 4.416.. Val loss: 4.697.. Train L1 norm: 7.227.. Val L1 norm: 2.565.. Train Linf norm: 1420.183.. Val Linf norm: 311.230\n",
            "Epoch 31/71.. Train loss: 4.218.. Val loss: 4.697.. Train L1 norm: 6.914.. Val L1 norm: 2.563.. Train Linf norm: 1339.022.. Val Linf norm: 310.874\n",
            "Epoch 32/71.. Train loss: 4.504.. Val loss: 4.698.. Train L1 norm: 6.715.. Val L1 norm: 2.563.. Train Linf norm: 1296.026.. Val Linf norm: 310.638\n",
            "Epoch 33/71.. Train loss: 4.213.. Val loss: 4.697.. Train L1 norm: 7.241.. Val L1 norm: 2.564.. Train Linf norm: 1428.603.. Val Linf norm: 310.946\n",
            "Epoch 34/71.. Train loss: 4.440.. Val loss: 4.698.. Train L1 norm: 6.143.. Val L1 norm: 2.563.. Train Linf norm: 1110.641.. Val Linf norm: 310.772\n",
            "Epoch 35/71.. Train loss: 4.332.. Val loss: 4.698.. Train L1 norm: 7.809.. Val L1 norm: 2.563.. Train Linf norm: 1571.364.. Val Linf norm: 310.741\n",
            "Epoch 36/71.. Train loss: 4.599.. Val loss: 4.699.. Train L1 norm: 4.972.. Val L1 norm: 2.562.. Train Linf norm: 843.551.. Val Linf norm: 310.437\n",
            "Epoch 37/71.. Train loss: 4.306.. Val loss: 4.700.. Train L1 norm: 6.576.. Val L1 norm: 2.560.. Train Linf norm: 1253.431.. Val Linf norm: 309.860\n",
            "Epoch 38/71.. Train loss: 4.357.. Val loss: 4.702.. Train L1 norm: 5.566.. Val L1 norm: 2.558.. Train Linf norm: 962.383.. Val Linf norm: 309.313\n",
            "Epoch 39/71.. Train loss: 4.328.. Val loss: 4.703.. Train L1 norm: 7.119.. Val L1 norm: 2.555.. Train Linf norm: 1394.606.. Val Linf norm: 308.701\n",
            "Epoch 40/71.. Train loss: 4.500.. Val loss: 4.704.. Train L1 norm: 7.489.. Val L1 norm: 2.555.. Train Linf norm: 1489.739.. Val Linf norm: 308.641\n",
            "Epoch 41/71.. Train loss: 4.386.. Val loss: 4.704.. Train L1 norm: 4.616.. Val L1 norm: 2.555.. Train Linf norm: 753.904.. Val Linf norm: 308.604\n",
            "Epoch 42/71.. Train loss: 4.352.. Val loss: 4.704.. Train L1 norm: 7.614.. Val L1 norm: 2.555.. Train Linf norm: 1521.528.. Val Linf norm: 308.574\n",
            "Epoch 43/71.. Train loss: 4.552.. Val loss: 4.704.. Train L1 norm: 8.075.. Val L1 norm: 2.555.. Train Linf norm: 1633.856.. Val Linf norm: 308.488\n",
            "Epoch 44/71.. Train loss: 4.590.. Val loss: 4.704.. Train L1 norm: 7.071.. Val L1 norm: 2.554.. Train Linf norm: 1372.810.. Val Linf norm: 308.412\n",
            "Epoch 45/71.. Train loss: 4.415.. Val loss: 4.704.. Train L1 norm: 5.809.. Val L1 norm: 2.554.. Train Linf norm: 1062.480.. Val Linf norm: 308.355\n",
            "Epoch 46/71.. Train loss: 4.476.. Val loss: 4.705.. Train L1 norm: 5.586.. Val L1 norm: 2.554.. Train Linf norm: 1009.618.. Val Linf norm: 308.273\n",
            "Epoch 47/71.. Train loss: 4.584.. Val loss: 4.705.. Train L1 norm: 7.448.. Val L1 norm: 2.554.. Train Linf norm: 1484.371.. Val Linf norm: 308.188\n",
            "Epoch 48/71.. Train loss: 4.575.. Val loss: 4.705.. Train L1 norm: 5.926.. Val L1 norm: 2.553.. Train Linf norm: 1090.074.. Val Linf norm: 308.114\n",
            "Epoch 49/71.. Train loss: 4.376.. Val loss: 4.705.. Train L1 norm: 7.011.. Val L1 norm: 2.553.. Train Linf norm: 1366.627.. Val Linf norm: 308.061\n",
            "Epoch 50/71.. Train loss: 4.434.. Val loss: 4.705.. Train L1 norm: 5.032.. Val L1 norm: 2.553.. Train Linf norm: 856.099.. Val Linf norm: 307.984\n",
            "Epoch 51/71.. Train loss: 4.353.. Val loss: 4.706.. Train L1 norm: 5.199.. Val L1 norm: 2.553.. Train Linf norm: 904.953.. Val Linf norm: 307.906\n",
            "Epoch 52/71.. Train loss: 4.390.. Val loss: 4.706.. Train L1 norm: 4.911.. Val L1 norm: 2.552.. Train Linf norm: 833.529.. Val Linf norm: 307.853\n",
            "Epoch 53/71.. Train loss: 4.686.. Val loss: 4.706.. Train L1 norm: 6.610.. Val L1 norm: 2.552.. Train Linf norm: 1269.676.. Val Linf norm: 307.850\n",
            "Epoch 54/71.. Train loss: 4.348.. Val loss: 4.706.. Train L1 norm: 6.517.. Val L1 norm: 2.552.. Train Linf norm: 1249.580.. Val Linf norm: 307.845\n",
            "Epoch 55/71.. Train loss: 4.374.. Val loss: 4.706.. Train L1 norm: 7.145.. Val L1 norm: 2.552.. Train Linf norm: 1402.901.. Val Linf norm: 307.843\n",
            "Epoch 56/71.. Train loss: 4.378.. Val loss: 4.706.. Train L1 norm: 7.212.. Val L1 norm: 2.552.. Train Linf norm: 1425.940.. Val Linf norm: 307.840\n",
            "Epoch 57/71.. Train loss: 4.283.. Val loss: 4.706.. Train L1 norm: 8.090.. Val L1 norm: 2.552.. Train Linf norm: 1646.295.. Val Linf norm: 307.837\n",
            "Epoch 58/71.. Train loss: 4.509.. Val loss: 4.706.. Train L1 norm: 6.556.. Val L1 norm: 2.552.. Train Linf norm: 1255.883.. Val Linf norm: 307.832\n",
            "Epoch 59/71.. Train loss: 4.449.. Val loss: 4.706.. Train L1 norm: 7.226.. Val L1 norm: 2.552.. Train Linf norm: 1420.540.. Val Linf norm: 307.826\n",
            "Epoch 60/71.. Train loss: 4.584.. Val loss: 4.706.. Train L1 norm: 6.571.. Val L1 norm: 2.552.. Train Linf norm: 1253.251.. Val Linf norm: 307.821\n",
            "Epoch 61/71.. Train loss: 4.311.. Val loss: 4.706.. Train L1 norm: 6.140.. Val L1 norm: 2.552.. Train Linf norm: 1141.533.. Val Linf norm: 307.816\n",
            "Epoch 62/71.. Train loss: 4.274.. Val loss: 4.706.. Train L1 norm: 6.597.. Val L1 norm: 2.552.. Train Linf norm: 1265.324.. Val Linf norm: 307.816\n",
            "Epoch 63/71.. Train loss: 4.468.. Val loss: 4.706.. Train L1 norm: 8.145.. Val L1 norm: 2.552.. Train Linf norm: 1655.820.. Val Linf norm: 307.811\n",
            "Epoch 64/71.. Train loss: 4.383.. Val loss: 4.706.. Train L1 norm: 7.189.. Val L1 norm: 2.552.. Train Linf norm: 1418.766.. Val Linf norm: 307.806\n",
            "Epoch 65/71.. Train loss: 4.489.. Val loss: 4.706.. Train L1 norm: 9.588.. Val L1 norm: 2.552.. Train Linf norm: 2027.377.. Val Linf norm: 307.801\n",
            "Epoch 66/71.. Train loss: 4.519.. Val loss: 4.706.. Train L1 norm: 4.908.. Val L1 norm: 2.552.. Train Linf norm: 822.932.. Val Linf norm: 307.801\n",
            "Epoch 67/71.. Train loss: 4.454.. Val loss: 4.706.. Train L1 norm: 7.423.. Val L1 norm: 2.552.. Train Linf norm: 1472.647.. Val Linf norm: 307.801\n",
            "Epoch 68/71.. Train loss: 4.537.. Val loss: 4.706.. Train L1 norm: 6.490.. Val L1 norm: 2.552.. Train Linf norm: 1241.487.. Val Linf norm: 307.800\n",
            "Epoch 69/71.. Train loss: 4.513.. Val loss: 4.706.. Train L1 norm: 6.959.. Val L1 norm: 2.552.. Train Linf norm: 1353.857.. Val Linf norm: 307.800\n",
            "Epoch 70/71.. Train loss: 4.547.. Val loss: 4.706.. Train L1 norm: 5.478.. Val L1 norm: 2.552.. Train Linf norm: 967.446.. Val Linf norm: 307.800\n"
          ]
        },
        {
          "name": "stderr",
          "output_type": "stream",
          "text": [
            "\u001b[32m[I 2023-05-29 11:19:34,484]\u001b[0m Trial 0 finished with value: 2.552163498687744 and parameters: {'n_layers': 4, 'n_units_0': 2053, 'n_units_1': 4059, 'n_units_2': 3727, 'n_units_3': 1257, 'hidden_activation': 'Swish', 'output_activation': 'Linear', 'loss': 'Huber', 'optimizer': 'Adagrad', 'lr': 2.6509087606842e-05, 'batch_size': 256, 'n_epochs': 71, 'scheduler': 'StepLR', 'dropout_rate': 0.36776303756520623, 'step_size': 13, 'gamma': 0.10642296288904758}. Best is trial 0 with value: 2.552163498687744.\u001b[0m\n"
          ]
        },
        {
          "name": "stdout",
          "output_type": "stream",
          "text": [
            "Epoch 71/71.. Train loss: 4.635.. Val loss: 4.706.. Train L1 norm: 7.586.. Val L1 norm: 2.552.. Train Linf norm: 1510.398.. Val Linf norm: 307.800\n"
          ]
        },
        {
          "name": "stderr",
          "output_type": "stream",
          "text": [
            "<ipython-input-178-ddc3c9d46736>:73: FutureWarning: suggest_uniform has been deprecated in v3.0.0. This feature will be removed in v6.0.0. See https://github.com/optuna/optuna/releases/tag/v3.0.0. Use :func:`~optuna.trial.Trial.suggest_float` instead.\n",
            "  beta = trial.suggest_uniform(\"softplus_beta\", 0.5, 1.5)\n"
          ]
        },
        {
          "name": "stdout",
          "output_type": "stream",
          "text": [
            "Epoch 1/129.. Train loss: 44.566.. Val loss: 4.409.. Train L1 norm: 61.327.. Val L1 norm: 4.677.. Train Linf norm: 16662.565.. Val Linf norm: 1436.471\n",
            "Epoch 2/129.. Train loss: 5.356.. Val loss: 4.140.. Train L1 norm: 9.544.. Val L1 norm: 6.796.. Train Linf norm: 3445.696.. Val Linf norm: 2284.547\n",
            "Epoch 3/129.. Train loss: 5.342.. Val loss: 4.365.. Train L1 norm: 8.034.. Val L1 norm: 4.915.. Train Linf norm: 2717.160.. Val Linf norm: 1511.348\n",
            "Epoch 4/129.. Train loss: 5.412.. Val loss: 4.570.. Train L1 norm: 11.114.. Val L1 norm: 4.832.. Train Linf norm: 4294.100.. Val Linf norm: 1500.535\n",
            "Epoch 5/129.. Train loss: 5.277.. Val loss: 4.476.. Train L1 norm: 8.211.. Val L1 norm: 3.487.. Train Linf norm: 2828.720.. Val Linf norm: 991.500\n",
            "Epoch 6/129.. Train loss: 4.888.. Val loss: 4.173.. Train L1 norm: 9.020.. Val L1 norm: 6.135.. Train Linf norm: 3229.859.. Val Linf norm: 2013.434\n",
            "Epoch 7/129.. Train loss: 5.362.. Val loss: 4.117.. Train L1 norm: 11.225.. Val L1 norm: 6.704.. Train Linf norm: 4433.277.. Val Linf norm: 2242.052\n",
            "Epoch 8/129.. Train loss: 5.049.. Val loss: 4.186.. Train L1 norm: 6.022.. Val L1 norm: 5.991.. Train Linf norm: 1796.090.. Val Linf norm: 1971.082\n",
            "Epoch 9/129.. Train loss: 4.844.. Val loss: 4.319.. Train L1 norm: 9.726.. Val L1 norm: 4.551.. Train Linf norm: 3373.503.. Val Linf norm: 1447.389\n",
            "Epoch 10/129.. Train loss: 5.390.. Val loss: 4.122.. Train L1 norm: 9.788.. Val L1 norm: 6.672.. Train Linf norm: 3722.465.. Val Linf norm: 2254.911\n",
            "Epoch 11/129.. Train loss: 4.958.. Val loss: 4.106.. Train L1 norm: 9.792.. Val L1 norm: 6.171.. Train Linf norm: 3745.355.. Val Linf norm: 2086.088\n",
            "Epoch 12/129.. Train loss: 4.784.. Val loss: 4.151.. Train L1 norm: 10.214.. Val L1 norm: 5.872.. Train Linf norm: 3913.496.. Val Linf norm: 1976.776\n",
            "Epoch 13/129.. Train loss: 4.544.. Val loss: 4.051.. Train L1 norm: 6.884.. Val L1 norm: 7.271.. Train Linf norm: 2209.558.. Val Linf norm: 2558.643\n",
            "Epoch 14/129.. Train loss: 4.632.. Val loss: 4.133.. Train L1 norm: 8.910.. Val L1 norm: 5.982.. Train Linf norm: 3220.571.. Val Linf norm: 2040.502\n",
            "Epoch 15/129.. Train loss: 4.589.. Val loss: 4.165.. Train L1 norm: 9.754.. Val L1 norm: 5.733.. Train Linf norm: 3657.534.. Val Linf norm: 1955.402\n",
            "Epoch 16/129.. Train loss: 4.363.. Val loss: 4.037.. Train L1 norm: 11.088.. Val L1 norm: 6.821.. Train Linf norm: 4320.619.. Val Linf norm: 2397.458\n",
            "Epoch 17/129.. Train loss: 4.670.. Val loss: 4.096.. Train L1 norm: 10.339.. Val L1 norm: 6.163.. Train Linf norm: 3931.347.. Val Linf norm: 2151.844\n",
            "Epoch 18/129.. Train loss: 4.626.. Val loss: 4.163.. Train L1 norm: 10.008.. Val L1 norm: 5.605.. Train Linf norm: 3789.304.. Val Linf norm: 1925.219\n",
            "Epoch 19/129.. Train loss: 4.593.. Val loss: 4.069.. Train L1 norm: 9.683.. Val L1 norm: 6.647.. Train Linf norm: 3640.475.. Val Linf norm: 2358.331\n",
            "Epoch 20/129.. Train loss: 4.671.. Val loss: 4.111.. Train L1 norm: 7.828.. Val L1 norm: 5.976.. Train Linf norm: 2668.750.. Val Linf norm: 2090.939\n",
            "Epoch 21/129.. Train loss: 4.243.. Val loss: 4.107.. Train L1 norm: 10.611.. Val L1 norm: 5.992.. Train Linf norm: 4085.838.. Val Linf norm: 2096.896\n",
            "Epoch 22/129.. Train loss: 4.254.. Val loss: 4.164.. Train L1 norm: 9.163.. Val L1 norm: 5.640.. Train Linf norm: 3360.788.. Val Linf norm: 1960.393\n",
            "Epoch 23/129.. Train loss: 4.315.. Val loss: 4.144.. Train L1 norm: 7.913.. Val L1 norm: 5.954.. Train Linf norm: 2735.234.. Val Linf norm: 2084.927\n",
            "Epoch 24/129.. Train loss: 4.334.. Val loss: 4.141.. Train L1 norm: 9.806.. Val L1 norm: 6.036.. Train Linf norm: 3674.071.. Val Linf norm: 2131.874\n",
            "Epoch 25/129.. Train loss: 4.268.. Val loss: 4.150.. Train L1 norm: 10.446.. Val L1 norm: 5.963.. Train Linf norm: 4006.684.. Val Linf norm: 2107.049\n",
            "Epoch 26/129.. Train loss: 4.194.. Val loss: 4.155.. Train L1 norm: 9.042.. Val L1 norm: 6.032.. Train Linf norm: 3292.456.. Val Linf norm: 2145.344\n",
            "Epoch 27/129.. Train loss: 4.380.. Val loss: 4.196.. Train L1 norm: 12.445.. Val L1 norm: 5.762.. Train Linf norm: 5035.958.. Val Linf norm: 2035.728\n",
            "Epoch 28/129.. Train loss: 4.126.. Val loss: 4.170.. Train L1 norm: 9.565.. Val L1 norm: 5.980.. Train Linf norm: 3509.505.. Val Linf norm: 2126.302\n",
            "Epoch 29/129.. Train loss: 4.269.. Val loss: 4.185.. Train L1 norm: 8.569.. Val L1 norm: 5.844.. Train Linf norm: 3048.388.. Val Linf norm: 2069.514\n",
            "Epoch 30/129.. Train loss: 4.210.. Val loss: 4.147.. Train L1 norm: 10.703.. Val L1 norm: 6.180.. Train Linf norm: 4119.878.. Val Linf norm: 2212.830\n",
            "Epoch 31/129.. Train loss: 4.266.. Val loss: 4.167.. Train L1 norm: 10.011.. Val L1 norm: 6.026.. Train Linf norm: 3741.063.. Val Linf norm: 2151.525\n",
            "Epoch 32/129.. Train loss: 4.356.. Val loss: 4.173.. Train L1 norm: 10.195.. Val L1 norm: 5.973.. Train Linf norm: 3849.382.. Val Linf norm: 2128.791\n",
            "Epoch 33/129.. Train loss: 4.105.. Val loss: 4.167.. Train L1 norm: 10.222.. Val L1 norm: 6.022.. Train Linf norm: 3809.689.. Val Linf norm: 2148.743\n",
            "Epoch 34/129.. Train loss: 4.165.. Val loss: 4.175.. Train L1 norm: 8.036.. Val L1 norm: 5.953.. Train Linf norm: 2739.202.. Val Linf norm: 2122.515\n",
            "Epoch 35/129.. Train loss: 4.176.. Val loss: 4.178.. Train L1 norm: 9.643.. Val L1 norm: 5.922.. Train Linf norm: 3584.974.. Val Linf norm: 2109.990\n",
            "Epoch 36/129.. Train loss: 4.132.. Val loss: 4.180.. Train L1 norm: 8.966.. Val L1 norm: 5.903.. Train Linf norm: 3228.179.. Val Linf norm: 2101.228\n",
            "Epoch 37/129.. Train loss: 4.298.. Val loss: 4.182.. Train L1 norm: 8.753.. Val L1 norm: 5.890.. Train Linf norm: 3074.627.. Val Linf norm: 2096.234\n",
            "Epoch 38/129.. Train loss: 4.244.. Val loss: 4.183.. Train L1 norm: 7.932.. Val L1 norm: 5.901.. Train Linf norm: 2706.395.. Val Linf norm: 2101.611\n",
            "Epoch 39/129.. Train loss: 4.006.. Val loss: 4.160.. Train L1 norm: 8.545.. Val L1 norm: 6.066.. Train Linf norm: 3033.725.. Val Linf norm: 2168.533\n",
            "Epoch 40/129.. Train loss: 4.261.. Val loss: 4.173.. Train L1 norm: 10.311.. Val L1 norm: 5.970.. Train Linf norm: 3869.480.. Val Linf norm: 2131.026\n",
            "Epoch 41/129.. Train loss: 4.084.. Val loss: 4.173.. Train L1 norm: 9.346.. Val L1 norm: 5.974.. Train Linf norm: 3433.766.. Val Linf norm: 2132.739\n",
            "Epoch 42/129.. Train loss: 4.109.. Val loss: 4.174.. Train L1 norm: 10.007.. Val L1 norm: 5.967.. Train Linf norm: 3755.627.. Val Linf norm: 2129.693\n",
            "Epoch 43/129.. Train loss: 4.124.. Val loss: 4.172.. Train L1 norm: 10.322.. Val L1 norm: 5.979.. Train Linf norm: 3975.843.. Val Linf norm: 2134.764\n",
            "Epoch 44/129.. Train loss: 4.123.. Val loss: 4.171.. Train L1 norm: 8.719.. Val L1 norm: 5.984.. Train Linf norm: 3045.911.. Val Linf norm: 2136.857\n",
            "Epoch 45/129.. Train loss: 4.185.. Val loss: 4.172.. Train L1 norm: 8.930.. Val L1 norm: 5.980.. Train Linf norm: 3214.272.. Val Linf norm: 2135.523\n",
            "Epoch 46/129.. Train loss: 4.480.. Val loss: 4.172.. Train L1 norm: 10.098.. Val L1 norm: 5.977.. Train Linf norm: 3778.455.. Val Linf norm: 2134.418\n",
            "Epoch 47/129.. Train loss: 4.204.. Val loss: 4.173.. Train L1 norm: 11.985.. Val L1 norm: 5.970.. Train Linf norm: 4786.156.. Val Linf norm: 2131.605\n",
            "Epoch 48/129.. Train loss: 4.262.. Val loss: 4.174.. Train L1 norm: 9.355.. Val L1 norm: 5.962.. Train Linf norm: 3430.203.. Val Linf norm: 2128.190\n",
            "Epoch 49/129.. Train loss: 4.260.. Val loss: 4.173.. Train L1 norm: 8.164.. Val L1 norm: 5.959.. Train Linf norm: 2714.215.. Val Linf norm: 2127.065\n",
            "Epoch 50/129.. Train loss: 4.228.. Val loss: 4.176.. Train L1 norm: 7.789.. Val L1 norm: 5.944.. Train Linf norm: 2202.332.. Val Linf norm: 2121.214\n",
            "Epoch 51/129.. Train loss: 4.083.. Val loss: 4.176.. Train L1 norm: 10.972.. Val L1 norm: 5.944.. Train Linf norm: 4268.789.. Val Linf norm: 2120.897\n",
            "Epoch 52/129.. Train loss: 4.071.. Val loss: 4.175.. Train L1 norm: 9.454.. Val L1 norm: 5.947.. Train Linf norm: 3507.159.. Val Linf norm: 2122.095\n",
            "Epoch 53/129.. Train loss: 4.102.. Val loss: 4.176.. Train L1 norm: 12.010.. Val L1 norm: 5.945.. Train Linf norm: 4810.972.. Val Linf norm: 2121.321\n",
            "Epoch 54/129.. Train loss: 4.335.. Val loss: 4.175.. Train L1 norm: 8.741.. Val L1 norm: 5.946.. Train Linf norm: 3138.294.. Val Linf norm: 2122.017\n",
            "Epoch 55/129.. Train loss: 4.173.. Val loss: 4.175.. Train L1 norm: 10.557.. Val L1 norm: 5.946.. Train Linf norm: 4073.064.. Val Linf norm: 2121.731\n",
            "Epoch 56/129.. Train loss: 4.176.. Val loss: 4.175.. Train L1 norm: 8.885.. Val L1 norm: 5.947.. Train Linf norm: 3168.977.. Val Linf norm: 2122.175\n",
            "Epoch 57/129.. Train loss: 4.113.. Val loss: 4.175.. Train L1 norm: 9.018.. Val L1 norm: 5.948.. Train Linf norm: 3260.917.. Val Linf norm: 2122.510\n",
            "Epoch 58/129.. Train loss: 4.114.. Val loss: 4.175.. Train L1 norm: 9.682.. Val L1 norm: 5.945.. Train Linf norm: 3597.454.. Val Linf norm: 2121.530\n",
            "Epoch 59/129.. Train loss: 4.094.. Val loss: 4.175.. Train L1 norm: 8.827.. Val L1 norm: 5.946.. Train Linf norm: 3170.764.. Val Linf norm: 2121.765\n",
            "Epoch 60/129.. Train loss: 4.204.. Val loss: 4.175.. Train L1 norm: 9.245.. Val L1 norm: 5.947.. Train Linf norm: 3381.297.. Val Linf norm: 2122.250\n",
            "Epoch 61/129.. Train loss: 4.107.. Val loss: 4.175.. Train L1 norm: 8.519.. Val L1 norm: 5.947.. Train Linf norm: 2992.607.. Val Linf norm: 2122.226\n",
            "Epoch 62/129.. Train loss: 4.146.. Val loss: 4.175.. Train L1 norm: 9.930.. Val L1 norm: 5.947.. Train Linf norm: 3733.971.. Val Linf norm: 2122.322\n",
            "Epoch 63/129.. Train loss: 4.132.. Val loss: 4.175.. Train L1 norm: 8.746.. Val L1 norm: 5.947.. Train Linf norm: 3146.525.. Val Linf norm: 2122.446\n",
            "Epoch 64/129.. Train loss: 4.135.. Val loss: 4.175.. Train L1 norm: 10.103.. Val L1 norm: 5.947.. Train Linf norm: 3812.221.. Val Linf norm: 2122.323\n",
            "Epoch 65/129.. Train loss: 4.060.. Val loss: 4.175.. Train L1 norm: 10.155.. Val L1 norm: 5.947.. Train Linf norm: 3869.906.. Val Linf norm: 2122.437\n",
            "Epoch 66/129.. Train loss: 4.169.. Val loss: 4.175.. Train L1 norm: 11.121.. Val L1 norm: 5.947.. Train Linf norm: 4359.840.. Val Linf norm: 2122.513\n",
            "Epoch 67/129.. Train loss: 4.332.. Val loss: 4.175.. Train L1 norm: 9.767.. Val L1 norm: 5.947.. Train Linf norm: 3620.283.. Val Linf norm: 2122.557\n",
            "Epoch 68/129.. Train loss: 4.349.. Val loss: 4.175.. Train L1 norm: 8.462.. Val L1 norm: 5.947.. Train Linf norm: 2842.110.. Val Linf norm: 2122.520\n",
            "Epoch 69/129.. Train loss: 4.114.. Val loss: 4.175.. Train L1 norm: 9.296.. Val L1 norm: 5.947.. Train Linf norm: 3036.112.. Val Linf norm: 2122.472\n",
            "Epoch 70/129.. Train loss: 4.242.. Val loss: 4.175.. Train L1 norm: 9.509.. Val L1 norm: 5.947.. Train Linf norm: 3545.271.. Val Linf norm: 2122.542\n",
            "Epoch 71/129.. Train loss: 4.186.. Val loss: 4.175.. Train L1 norm: 11.565.. Val L1 norm: 5.947.. Train Linf norm: 4572.145.. Val Linf norm: 2122.502\n",
            "Epoch 72/129.. Train loss: 4.147.. Val loss: 4.175.. Train L1 norm: 9.826.. Val L1 norm: 5.947.. Train Linf norm: 3670.647.. Val Linf norm: 2122.438\n",
            "Epoch 73/129.. Train loss: 4.213.. Val loss: 4.175.. Train L1 norm: 10.778.. Val L1 norm: 5.947.. Train Linf norm: 4186.618.. Val Linf norm: 2122.388\n",
            "Epoch 74/129.. Train loss: 4.123.. Val loss: 4.175.. Train L1 norm: 10.044.. Val L1 norm: 5.947.. Train Linf norm: 3784.112.. Val Linf norm: 2122.328\n",
            "Epoch 75/129.. Train loss: 4.120.. Val loss: 4.175.. Train L1 norm: 9.077.. Val L1 norm: 5.947.. Train Linf norm: 3312.873.. Val Linf norm: 2122.271\n",
            "Epoch 76/129.. Train loss: 4.235.. Val loss: 4.175.. Train L1 norm: 8.899.. Val L1 norm: 5.947.. Train Linf norm: 3179.549.. Val Linf norm: 2122.222\n",
            "Epoch 77/129.. Train loss: 4.242.. Val loss: 4.175.. Train L1 norm: 7.869.. Val L1 norm: 5.946.. Train Linf norm: 2649.696.. Val Linf norm: 2122.170\n",
            "Epoch 78/129.. Train loss: 4.095.. Val loss: 4.175.. Train L1 norm: 10.127.. Val L1 norm: 5.946.. Train Linf norm: 3855.177.. Val Linf norm: 2122.134\n",
            "Epoch 79/129.. Train loss: 4.200.. Val loss: 4.175.. Train L1 norm: 9.662.. Val L1 norm: 5.946.. Train Linf norm: 3586.103.. Val Linf norm: 2122.069\n",
            "Epoch 80/129.. Train loss: 4.260.. Val loss: 4.175.. Train L1 norm: 7.970.. Val L1 norm: 5.946.. Train Linf norm: 2709.221.. Val Linf norm: 2122.011\n",
            "Epoch 81/129.. Train loss: 4.054.. Val loss: 4.175.. Train L1 norm: 9.394.. Val L1 norm: 5.946.. Train Linf norm: 3486.837.. Val Linf norm: 2122.002\n",
            "Epoch 82/129.. Train loss: 4.206.. Val loss: 4.175.. Train L1 norm: 11.914.. Val L1 norm: 5.946.. Train Linf norm: 4757.629.. Val Linf norm: 2121.988\n",
            "Epoch 83/129.. Train loss: 4.119.. Val loss: 4.175.. Train L1 norm: 7.989.. Val L1 norm: 5.946.. Train Linf norm: 2755.386.. Val Linf norm: 2121.981\n",
            "Epoch 84/129.. Train loss: 4.187.. Val loss: 4.175.. Train L1 norm: 10.489.. Val L1 norm: 5.946.. Train Linf norm: 4039.257.. Val Linf norm: 2121.968\n",
            "Epoch 85/129.. Train loss: 4.141.. Val loss: 4.175.. Train L1 norm: 8.721.. Val L1 norm: 5.946.. Train Linf norm: 3112.615.. Val Linf norm: 2121.957\n",
            "Epoch 86/129.. Train loss: 4.254.. Val loss: 4.175.. Train L1 norm: 9.013.. Val L1 norm: 5.946.. Train Linf norm: 3253.352.. Val Linf norm: 2121.946\n",
            "Epoch 87/129.. Train loss: 4.129.. Val loss: 4.175.. Train L1 norm: 8.935.. Val L1 norm: 5.946.. Train Linf norm: 3236.582.. Val Linf norm: 2121.933\n",
            "Epoch 88/129.. Train loss: 4.211.. Val loss: 4.175.. Train L1 norm: 9.614.. Val L1 norm: 5.946.. Train Linf norm: 3584.613.. Val Linf norm: 2121.921\n",
            "Epoch 89/129.. Train loss: 4.198.. Val loss: 4.175.. Train L1 norm: 11.817.. Val L1 norm: 5.946.. Train Linf norm: 4693.795.. Val Linf norm: 2121.909\n",
            "Epoch 90/129.. Train loss: 4.066.. Val loss: 4.175.. Train L1 norm: 7.739.. Val L1 norm: 5.946.. Train Linf norm: 2595.879.. Val Linf norm: 2121.899\n",
            "Epoch 91/129.. Train loss: 4.135.. Val loss: 4.175.. Train L1 norm: 7.065.. Val L1 norm: 5.946.. Train Linf norm: 2273.971.. Val Linf norm: 2121.899\n",
            "Epoch 92/129.. Train loss: 4.167.. Val loss: 4.175.. Train L1 norm: 6.906.. Val L1 norm: 5.946.. Train Linf norm: 2173.211.. Val Linf norm: 2121.898\n",
            "Epoch 93/129.. Train loss: 4.173.. Val loss: 4.175.. Train L1 norm: 9.417.. Val L1 norm: 5.946.. Train Linf norm: 3465.201.. Val Linf norm: 2121.897\n",
            "Epoch 94/129.. Train loss: 4.123.. Val loss: 4.175.. Train L1 norm: 9.624.. Val L1 norm: 5.946.. Train Linf norm: 3556.303.. Val Linf norm: 2121.897\n",
            "Epoch 95/129.. Train loss: 4.224.. Val loss: 4.175.. Train L1 norm: 10.425.. Val L1 norm: 5.946.. Train Linf norm: 3997.959.. Val Linf norm: 2121.896\n",
            "Epoch 96/129.. Train loss: 4.174.. Val loss: 4.175.. Train L1 norm: 8.493.. Val L1 norm: 5.946.. Train Linf norm: 3019.010.. Val Linf norm: 2121.896\n",
            "Epoch 97/129.. Train loss: 4.197.. Val loss: 4.175.. Train L1 norm: 8.680.. Val L1 norm: 5.946.. Train Linf norm: 3112.047.. Val Linf norm: 2121.895\n",
            "Epoch 98/129.. Train loss: 4.092.. Val loss: 4.175.. Train L1 norm: 9.259.. Val L1 norm: 5.946.. Train Linf norm: 3368.158.. Val Linf norm: 2121.894\n",
            "Epoch 99/129.. Train loss: 4.179.. Val loss: 4.175.. Train L1 norm: 9.560.. Val L1 norm: 5.946.. Train Linf norm: 3570.334.. Val Linf norm: 2121.893\n",
            "Epoch 100/129.. Train loss: 4.202.. Val loss: 4.175.. Train L1 norm: 11.810.. Val L1 norm: 5.946.. Train Linf norm: 4732.225.. Val Linf norm: 2121.892\n",
            "Epoch 101/129.. Train loss: 4.206.. Val loss: 4.175.. Train L1 norm: 8.729.. Val L1 norm: 5.946.. Train Linf norm: 3114.117.. Val Linf norm: 2121.892\n",
            "Epoch 102/129.. Train loss: 4.103.. Val loss: 4.175.. Train L1 norm: 9.242.. Val L1 norm: 5.946.. Train Linf norm: 3373.248.. Val Linf norm: 2121.892\n",
            "Epoch 103/129.. Train loss: 4.145.. Val loss: 4.175.. Train L1 norm: 10.954.. Val L1 norm: 5.946.. Train Linf norm: 4270.998.. Val Linf norm: 2121.892\n",
            "Epoch 104/129.. Train loss: 4.114.. Val loss: 4.175.. Train L1 norm: 10.215.. Val L1 norm: 5.946.. Train Linf norm: 3855.223.. Val Linf norm: 2121.892\n",
            "Epoch 105/129.. Train loss: 4.118.. Val loss: 4.175.. Train L1 norm: 9.970.. Val L1 norm: 5.946.. Train Linf norm: 3748.686.. Val Linf norm: 2121.892\n",
            "Epoch 106/129.. Train loss: 4.171.. Val loss: 4.175.. Train L1 norm: 9.583.. Val L1 norm: 5.946.. Train Linf norm: 3547.867.. Val Linf norm: 2121.892\n",
            "Epoch 107/129.. Train loss: 4.115.. Val loss: 4.175.. Train L1 norm: 8.853.. Val L1 norm: 5.946.. Train Linf norm: 3204.574.. Val Linf norm: 2121.892\n",
            "Epoch 108/129.. Train loss: 4.129.. Val loss: 4.175.. Train L1 norm: 10.983.. Val L1 norm: 5.946.. Train Linf norm: 4269.889.. Val Linf norm: 2121.892\n",
            "Epoch 109/129.. Train loss: 4.231.. Val loss: 4.175.. Train L1 norm: 9.567.. Val L1 norm: 5.946.. Train Linf norm: 3543.230.. Val Linf norm: 2121.892\n",
            "Epoch 110/129.. Train loss: 4.166.. Val loss: 4.175.. Train L1 norm: 9.745.. Val L1 norm: 5.946.. Train Linf norm: 3621.690.. Val Linf norm: 2121.892\n",
            "Epoch 111/129.. Train loss: 4.312.. Val loss: 4.175.. Train L1 norm: 9.481.. Val L1 norm: 5.946.. Train Linf norm: 3484.842.. Val Linf norm: 2121.892\n",
            "Epoch 112/129.. Train loss: 4.343.. Val loss: 4.175.. Train L1 norm: 9.146.. Val L1 norm: 5.946.. Train Linf norm: 3317.630.. Val Linf norm: 2121.892\n",
            "Epoch 113/129.. Train loss: 4.107.. Val loss: 4.175.. Train L1 norm: 10.401.. Val L1 norm: 5.946.. Train Linf norm: 3982.796.. Val Linf norm: 2121.892\n",
            "Epoch 114/129.. Train loss: 4.100.. Val loss: 4.175.. Train L1 norm: 8.313.. Val L1 norm: 5.946.. Train Linf norm: 2894.939.. Val Linf norm: 2121.892\n",
            "Epoch 115/129.. Train loss: 4.267.. Val loss: 4.175.. Train L1 norm: 10.538.. Val L1 norm: 5.946.. Train Linf norm: 3831.792.. Val Linf norm: 2121.892\n",
            "Epoch 116/129.. Train loss: 4.119.. Val loss: 4.175.. Train L1 norm: 10.677.. Val L1 norm: 5.946.. Train Linf norm: 4027.658.. Val Linf norm: 2121.892\n",
            "Epoch 117/129.. Train loss: 4.082.. Val loss: 4.175.. Train L1 norm: 9.647.. Val L1 norm: 5.946.. Train Linf norm: 3589.606.. Val Linf norm: 2121.892\n",
            "Epoch 118/129.. Train loss: 4.165.. Val loss: 4.175.. Train L1 norm: 9.534.. Val L1 norm: 5.946.. Train Linf norm: 3528.509.. Val Linf norm: 2121.892\n",
            "Epoch 119/129.. Train loss: 4.275.. Val loss: 4.175.. Train L1 norm: 9.686.. Val L1 norm: 5.946.. Train Linf norm: 3637.182.. Val Linf norm: 2121.892\n",
            "Epoch 120/129.. Train loss: 4.113.. Val loss: 4.175.. Train L1 norm: 6.570.. Val L1 norm: 5.946.. Train Linf norm: 2035.463.. Val Linf norm: 2121.892\n",
            "Epoch 121/129.. Train loss: 4.177.. Val loss: 4.175.. Train L1 norm: 9.517.. Val L1 norm: 5.946.. Train Linf norm: 3516.227.. Val Linf norm: 2121.892\n",
            "Epoch 122/129.. Train loss: 4.257.. Val loss: 4.175.. Train L1 norm: 8.549.. Val L1 norm: 5.946.. Train Linf norm: 3020.508.. Val Linf norm: 2121.892\n",
            "Epoch 123/129.. Train loss: 4.237.. Val loss: 4.175.. Train L1 norm: 8.843.. Val L1 norm: 5.946.. Train Linf norm: 3171.810.. Val Linf norm: 2121.892\n",
            "Epoch 124/129.. Train loss: 4.269.. Val loss: 4.175.. Train L1 norm: 10.626.. Val L1 norm: 5.946.. Train Linf norm: 4087.961.. Val Linf norm: 2121.892\n",
            "Epoch 125/129.. Train loss: 4.165.. Val loss: 4.175.. Train L1 norm: 9.455.. Val L1 norm: 5.946.. Train Linf norm: 3451.888.. Val Linf norm: 2121.892\n",
            "Epoch 126/129.. Train loss: 4.145.. Val loss: 4.175.. Train L1 norm: 11.873.. Val L1 norm: 5.946.. Train Linf norm: 4747.483.. Val Linf norm: 2121.892\n",
            "Epoch 127/129.. Train loss: 4.265.. Val loss: 4.175.. Train L1 norm: 10.217.. Val L1 norm: 5.946.. Train Linf norm: 3886.328.. Val Linf norm: 2121.892\n",
            "Epoch 128/129.. Train loss: 4.188.. Val loss: 4.175.. Train L1 norm: 9.409.. Val L1 norm: 5.946.. Train Linf norm: 3442.258.. Val Linf norm: 2121.892\n"
          ]
        },
        {
          "name": "stderr",
          "output_type": "stream",
          "text": [
            "\u001b[32m[I 2023-05-29 11:24:05,795]\u001b[0m Trial 1 finished with value: 5.94577004292806 and parameters: {'n_layers': 3, 'n_units_0': 2268, 'n_units_1': 1775, 'n_units_2': 3284, 'hidden_activation': 'SoftPlus', 'output_activation': 'Linear', 'loss': 'MAE', 'optimizer': 'RMSprop', 'lr': 0.0005021164706187672, 'batch_size': 512, 'n_epochs': 129, 'scheduler': 'StepLR', 'softplus_beta': 0.7617702056213549, 'dropout_rate': 0.44684468825290435, 'step_size': 10, 'gamma': 0.15537786595917602}. Best is trial 0 with value: 2.552163498687744.\u001b[0m\n"
          ]
        },
        {
          "name": "stdout",
          "output_type": "stream",
          "text": [
            "Epoch 129/129.. Train loss: 4.187.. Val loss: 4.175.. Train L1 norm: 11.170.. Val L1 norm: 5.946.. Train Linf norm: 4345.657.. Val Linf norm: 2121.892\n",
            "Epoch 1/57.. Train loss: 186716.366.. Val loss: 3.841.. Train L1 norm: 112806.092.. Val L1 norm: 7.309.. Train Linf norm: 688776.227.. Val Linf norm: 342.598\n",
            "Epoch 2/57.. Train loss: 3.830.. Val loss: 3.872.. Train L1 norm: 10.966.. Val L1 norm: 6.476.. Train Linf norm: 561.234.. Val Linf norm: 300.013\n",
            "Epoch 3/57.. Train loss: 290.518.. Val loss: 3.834.. Train L1 norm: 147.853.. Val L1 norm: 7.609.. Train Linf norm: 3675.667.. Val Linf norm: 357.928\n",
            "Epoch 4/57.. Train loss: 3.831.. Val loss: 3.838.. Train L1 norm: 10.439.. Val L1 norm: 9.291.. Train Linf norm: 529.242.. Val Linf norm: 442.891\n",
            "Epoch 5/57.. Train loss: 3.828.. Val loss: 3.829.. Train L1 norm: 10.484.. Val L1 norm: 8.734.. Train Linf norm: 532.455.. Val Linf norm: 414.870\n",
            "Epoch 6/57.. Train loss: 3.826.. Val loss: 3.828.. Train L1 norm: 10.510.. Val L1 norm: 8.641.. Train Linf norm: 533.145.. Val Linf norm: 410.174\n",
            "Epoch 7/57.. Train loss: 3.825.. Val loss: 3.837.. Train L1 norm: 10.908.. Val L1 norm: 7.468.. Train Linf norm: 560.445.. Val Linf norm: 350.716\n",
            "Epoch 8/57.. Train loss: 3.824.. Val loss: 3.827.. Train L1 norm: 10.495.. Val L1 norm: 8.381.. Train Linf norm: 532.407.. Val Linf norm: 397.047\n",
            "Epoch 9/57.. Train loss: 3.824.. Val loss: 3.828.. Train L1 norm: 10.485.. Val L1 norm: 8.096.. Train Linf norm: 530.853.. Val Linf norm: 382.629\n",
            "Epoch 10/57.. Train loss: 3.823.. Val loss: 3.827.. Train L1 norm: 10.878.. Val L1 norm: 8.426.. Train Linf norm: 555.654.. Val Linf norm: 399.318\n",
            "Epoch 11/57.. Train loss: 3.823.. Val loss: 3.831.. Train L1 norm: 10.955.. Val L1 norm: 7.816.. Train Linf norm: 560.767.. Val Linf norm: 368.442\n",
            "Epoch 12/57.. Train loss: 3.822.. Val loss: 3.827.. Train L1 norm: 10.338.. Val L1 norm: 8.310.. Train Linf norm: 521.654.. Val Linf norm: 393.446\n",
            "Epoch 13/57.. Train loss: 3.821.. Val loss: 3.828.. Train L1 norm: 10.627.. Val L1 norm: 8.489.. Train Linf norm: 537.843.. Val Linf norm: 402.494\n",
            "Epoch 14/57.. Train loss: 3.822.. Val loss: 3.827.. Train L1 norm: 10.824.. Val L1 norm: 8.458.. Train Linf norm: 555.194.. Val Linf norm: 400.918\n",
            "Epoch 15/57.. Train loss: 3.822.. Val loss: 3.831.. Train L1 norm: 10.798.. Val L1 norm: 8.883.. Train Linf norm: 551.768.. Val Linf norm: 422.392\n",
            "Epoch 16/57.. Train loss: 3.820.. Val loss: 3.828.. Train L1 norm: 10.700.. Val L1 norm: 8.113.. Train Linf norm: 546.668.. Val Linf norm: 383.471\n",
            "Epoch 17/57.. Train loss: 3.820.. Val loss: 3.828.. Train L1 norm: 10.594.. Val L1 norm: 8.155.. Train Linf norm: 539.134.. Val Linf norm: 385.601\n",
            "Epoch 18/57.. Train loss: 3.820.. Val loss: 3.827.. Train L1 norm: 10.639.. Val L1 norm: 8.238.. Train Linf norm: 534.304.. Val Linf norm: 389.807\n",
            "Epoch 19/57.. Train loss: 3.820.. Val loss: 3.827.. Train L1 norm: 10.670.. Val L1 norm: 8.441.. Train Linf norm: 543.927.. Val Linf norm: 400.081\n",
            "Epoch 20/57.. Train loss: 3.820.. Val loss: 3.829.. Train L1 norm: 10.674.. Val L1 norm: 8.715.. Train Linf norm: 542.306.. Val Linf norm: 413.926\n",
            "Epoch 21/57.. Train loss: 3.820.. Val loss: 3.827.. Train L1 norm: 10.702.. Val L1 norm: 8.480.. Train Linf norm: 545.166.. Val Linf norm: 402.026\n",
            "Epoch 22/57.. Train loss: 3.820.. Val loss: 3.829.. Train L1 norm: 10.740.. Val L1 norm: 8.036.. Train Linf norm: 546.174.. Val Linf norm: 379.602\n",
            "Epoch 23/57.. Train loss: 3.820.. Val loss: 3.828.. Train L1 norm: 10.580.. Val L1 norm: 8.104.. Train Linf norm: 538.488.. Val Linf norm: 383.053\n",
            "Epoch 24/57.. Train loss: 3.820.. Val loss: 3.828.. Train L1 norm: 10.614.. Val L1 norm: 8.204.. Train Linf norm: 539.565.. Val Linf norm: 388.106\n",
            "Epoch 25/57.. Train loss: 3.820.. Val loss: 3.828.. Train L1 norm: 10.445.. Val L1 norm: 8.218.. Train Linf norm: 515.440.. Val Linf norm: 388.808\n",
            "Epoch 26/57.. Train loss: 3.820.. Val loss: 3.828.. Train L1 norm: 10.570.. Val L1 norm: 8.162.. Train Linf norm: 536.812.. Val Linf norm: 385.982\n",
            "Epoch 27/57.. Train loss: 3.820.. Val loss: 3.828.. Train L1 norm: 10.624.. Val L1 norm: 8.515.. Train Linf norm: 540.765.. Val Linf norm: 403.833\n",
            "Epoch 28/57.. Train loss: 3.820.. Val loss: 3.828.. Train L1 norm: 10.662.. Val L1 norm: 8.203.. Train Linf norm: 543.607.. Val Linf norm: 388.028\n",
            "Epoch 29/57.. Train loss: 3.820.. Val loss: 3.828.. Train L1 norm: 10.513.. Val L1 norm: 8.164.. Train Linf norm: 532.935.. Val Linf norm: 386.064\n",
            "Epoch 30/57.. Train loss: 3.820.. Val loss: 3.828.. Train L1 norm: 10.775.. Val L1 norm: 8.099.. Train Linf norm: 549.927.. Val Linf norm: 382.786\n",
            "Epoch 31/57.. Train loss: 3.820.. Val loss: 3.827.. Train L1 norm: 10.541.. Val L1 norm: 8.271.. Train Linf norm: 536.420.. Val Linf norm: 391.510\n",
            "Epoch 32/57.. Train loss: 3.820.. Val loss: 3.827.. Train L1 norm: 10.623.. Val L1 norm: 8.292.. Train Linf norm: 541.489.. Val Linf norm: 392.531\n",
            "Epoch 33/57.. Train loss: 3.819.. Val loss: 3.828.. Train L1 norm: 10.646.. Val L1 norm: 8.208.. Train Linf norm: 538.448.. Val Linf norm: 388.316\n",
            "Epoch 34/57.. Train loss: 3.820.. Val loss: 3.827.. Train L1 norm: 10.533.. Val L1 norm: 8.305.. Train Linf norm: 537.103.. Val Linf norm: 393.217\n",
            "Epoch 35/57.. Train loss: 3.820.. Val loss: 3.827.. Train L1 norm: 10.628.. Val L1 norm: 8.288.. Train Linf norm: 540.856.. Val Linf norm: 392.360\n",
            "Epoch 36/57.. Train loss: 3.820.. Val loss: 3.827.. Train L1 norm: 10.622.. Val L1 norm: 8.298.. Train Linf norm: 538.788.. Val Linf norm: 392.872\n",
            "Epoch 37/57.. Train loss: 3.820.. Val loss: 3.827.. Train L1 norm: 10.604.. Val L1 norm: 8.247.. Train Linf norm: 537.618.. Val Linf norm: 390.294\n",
            "Epoch 38/57.. Train loss: 3.819.. Val loss: 3.827.. Train L1 norm: 10.654.. Val L1 norm: 8.260.. Train Linf norm: 519.584.. Val Linf norm: 390.929\n",
            "Epoch 39/57.. Train loss: 3.819.. Val loss: 3.827.. Train L1 norm: 10.640.. Val L1 norm: 8.291.. Train Linf norm: 542.726.. Val Linf norm: 392.476\n",
            "Epoch 40/57.. Train loss: 3.820.. Val loss: 3.827.. Train L1 norm: 10.618.. Val L1 norm: 8.270.. Train Linf norm: 541.176.. Val Linf norm: 391.459\n",
            "Epoch 41/57.. Train loss: 3.820.. Val loss: 3.827.. Train L1 norm: 10.599.. Val L1 norm: 8.281.. Train Linf norm: 538.770.. Val Linf norm: 392.002\n",
            "Epoch 42/57.. Train loss: 3.819.. Val loss: 3.827.. Train L1 norm: 10.536.. Val L1 norm: 8.252.. Train Linf norm: 535.671.. Val Linf norm: 390.519\n",
            "Epoch 43/57.. Train loss: 3.820.. Val loss: 3.828.. Train L1 norm: 10.640.. Val L1 norm: 8.222.. Train Linf norm: 540.683.. Val Linf norm: 388.995\n",
            "Epoch 44/57.. Train loss: 3.820.. Val loss: 3.828.. Train L1 norm: 10.706.. Val L1 norm: 8.197.. Train Linf norm: 546.697.. Val Linf norm: 387.747\n",
            "Epoch 45/57.. Train loss: 3.820.. Val loss: 3.827.. Train L1 norm: 10.548.. Val L1 norm: 8.339.. Train Linf norm: 536.201.. Val Linf norm: 394.948\n",
            "Epoch 46/57.. Train loss: 3.820.. Val loss: 3.827.. Train L1 norm: 10.727.. Val L1 norm: 8.315.. Train Linf norm: 543.173.. Val Linf norm: 393.726\n",
            "Epoch 47/57.. Train loss: 3.820.. Val loss: 3.827.. Train L1 norm: 10.704.. Val L1 norm: 8.298.. Train Linf norm: 546.007.. Val Linf norm: 392.851\n",
            "Epoch 48/57.. Train loss: 3.819.. Val loss: 3.827.. Train L1 norm: 10.683.. Val L1 norm: 8.289.. Train Linf norm: 544.009.. Val Linf norm: 392.418\n",
            "Epoch 49/57.. Train loss: 3.820.. Val loss: 3.827.. Train L1 norm: 10.649.. Val L1 norm: 8.285.. Train Linf norm: 541.996.. Val Linf norm: 392.185\n",
            "Epoch 50/57.. Train loss: 3.820.. Val loss: 3.827.. Train L1 norm: 10.650.. Val L1 norm: 8.288.. Train Linf norm: 541.987.. Val Linf norm: 392.354\n",
            "Epoch 51/57.. Train loss: 3.819.. Val loss: 3.827.. Train L1 norm: 10.610.. Val L1 norm: 8.289.. Train Linf norm: 540.646.. Val Linf norm: 392.394\n",
            "Epoch 52/57.. Train loss: 3.820.. Val loss: 3.827.. Train L1 norm: 10.630.. Val L1 norm: 8.286.. Train Linf norm: 540.387.. Val Linf norm: 392.255\n",
            "Epoch 53/57.. Train loss: 3.819.. Val loss: 3.827.. Train L1 norm: 10.687.. Val L1 norm: 8.279.. Train Linf norm: 542.904.. Val Linf norm: 391.893\n",
            "Epoch 54/57.. Train loss: 3.820.. Val loss: 3.827.. Train L1 norm: 10.585.. Val L1 norm: 8.280.. Train Linf norm: 538.591.. Val Linf norm: 391.949\n",
            "Epoch 55/57.. Train loss: 3.819.. Val loss: 3.827.. Train L1 norm: 10.628.. Val L1 norm: 8.281.. Train Linf norm: 540.436.. Val Linf norm: 391.989\n",
            "Epoch 56/57.. Train loss: 3.820.. Val loss: 3.827.. Train L1 norm: 10.660.. Val L1 norm: 8.283.. Train Linf norm: 542.547.. Val Linf norm: 392.082\n"
          ]
        },
        {
          "name": "stderr",
          "output_type": "stream",
          "text": [
            "\u001b[32m[I 2023-05-29 11:34:58,416]\u001b[0m Trial 2 finished with value: 8.281688825003306 and parameters: {'n_layers': 7, 'n_units_0': 2371, 'n_units_1': 2529, 'n_units_2': 1888, 'n_units_3': 2104, 'n_units_4': 75, 'n_units_5': 3232, 'n_units_6': 3153, 'hidden_activation': 'ReLU', 'output_activation': 'Linear', 'loss': 'Huber', 'optimizer': 'RMSprop', 'lr': 0.0018224540342191714, 'batch_size': 64, 'n_epochs': 57, 'scheduler': 'StepLR', 'dropout_rate': 0.013897737867710813, 'step_size': 15, 'gamma': 0.1891374658626017}. Best is trial 0 with value: 2.552163498687744.\u001b[0m\n"
          ]
        },
        {
          "name": "stdout",
          "output_type": "stream",
          "text": [
            "Epoch 57/57.. Train loss: 3.820.. Val loss: 3.827.. Train L1 norm: 10.688.. Val L1 norm: 8.282.. Train Linf norm: 537.320.. Val Linf norm: 392.025\n"
          ]
        },
        {
          "name": "stderr",
          "output_type": "stream",
          "text": [
            "<ipython-input-178-ddc3c9d46736>:58: FutureWarning: suggest_uniform has been deprecated in v3.0.0. This feature will be removed in v6.0.0. See https://github.com/optuna/optuna/releases/tag/v3.0.0. Use :func:`~optuna.trial.Trial.suggest_float` instead.\n",
            "  negative_slope = trial.suggest_uniform(\"leakyrelu_slope\", 0.01, 0.3)\n",
            "<ipython-input-178-ddc3c9d46736>:145: FutureWarning: suggest_loguniform has been deprecated in v3.0.0. This feature will be removed in v6.0.0. See https://github.com/optuna/optuna/releases/tag/v3.0.0. Use :func:`~optuna.trial.Trial.suggest_float` instead.\n",
            "  weight_decay = trial.suggest_loguniform(\"weight_decay\", 1e-5, 1e-2)\n",
            "<ipython-input-178-ddc3c9d46736>:146: FutureWarning: suggest_uniform has been deprecated in v3.0.0. This feature will be removed in v6.0.0. See https://github.com/optuna/optuna/releases/tag/v3.0.0. Use :func:`~optuna.trial.Trial.suggest_float` instead.\n",
            "  momentum = trial.suggest_uniform(\"momentum\", 0.0, 0.99)\n",
            "<ipython-input-178-ddc3c9d46736>:168: FutureWarning: suggest_uniform has been deprecated in v3.0.0. This feature will be removed in v6.0.0. See https://github.com/optuna/optuna/releases/tag/v3.0.0. Use :func:`~optuna.trial.Trial.suggest_float` instead.\n",
            "  t_max_fraction = trial.suggest_uniform('t_max_fraction', 0.1, 0.3)\n",
            "<ipython-input-178-ddc3c9d46736>:175: FutureWarning: suggest_loguniform has been deprecated in v3.0.0. This feature will be removed in v6.0.0. See https://github.com/optuna/optuna/releases/tag/v3.0.0. Use :func:`~optuna.trial.Trial.suggest_float` instead.\n",
            "  eta_min = trial.suggest_loguniform(\"eta_min\", 1e-7, 1e-2)\n",
            "WARNING:tensorboardX.x2num:NaN or Inf found in input tensor.\n",
            "WARNING:tensorboardX.x2num:NaN or Inf found in input tensor.\n",
            "WARNING:tensorboardX.x2num:NaN or Inf found in input tensor.\n",
            "WARNING:tensorboardX.x2num:NaN or Inf found in input tensor.\n",
            "WARNING:tensorboardX.x2num:NaN or Inf found in input tensor.\n",
            "WARNING:tensorboardX.x2num:NaN or Inf found in input tensor.\n"
          ]
        },
        {
          "name": "stdout",
          "output_type": "stream",
          "text": [
            "Epoch 1/61.. Train loss: nan.. Val loss: nan.. Train L1 norm: nan.. Val L1 norm: nan.. Train Linf norm: nan.. Val Linf norm: nan\n"
          ]
        },
        {
          "name": "stderr",
          "output_type": "stream",
          "text": [
            "WARNING:tensorboardX.x2num:NaN or Inf found in input tensor.\n",
            "WARNING:tensorboardX.x2num:NaN or Inf found in input tensor.\n",
            "WARNING:tensorboardX.x2num:NaN or Inf found in input tensor.\n",
            "WARNING:tensorboardX.x2num:NaN or Inf found in input tensor.\n",
            "WARNING:tensorboardX.x2num:NaN or Inf found in input tensor.\n",
            "WARNING:tensorboardX.x2num:NaN or Inf found in input tensor.\n"
          ]
        },
        {
          "name": "stdout",
          "output_type": "stream",
          "text": [
            "Epoch 2/61.. Train loss: nan.. Val loss: nan.. Train L1 norm: nan.. Val L1 norm: nan.. Train Linf norm: nan.. Val Linf norm: nan\n"
          ]
        },
        {
          "name": "stderr",
          "output_type": "stream",
          "text": [
            "WARNING:tensorboardX.x2num:NaN or Inf found in input tensor.\n",
            "WARNING:tensorboardX.x2num:NaN or Inf found in input tensor.\n",
            "WARNING:tensorboardX.x2num:NaN or Inf found in input tensor.\n",
            "WARNING:tensorboardX.x2num:NaN or Inf found in input tensor.\n",
            "WARNING:tensorboardX.x2num:NaN or Inf found in input tensor.\n",
            "WARNING:tensorboardX.x2num:NaN or Inf found in input tensor.\n"
          ]
        },
        {
          "name": "stdout",
          "output_type": "stream",
          "text": [
            "Epoch 3/61.. Train loss: nan.. Val loss: nan.. Train L1 norm: nan.. Val L1 norm: nan.. Train Linf norm: nan.. Val Linf norm: nan\n"
          ]
        },
        {
          "name": "stderr",
          "output_type": "stream",
          "text": [
            "WARNING:tensorboardX.x2num:NaN or Inf found in input tensor.\n",
            "WARNING:tensorboardX.x2num:NaN or Inf found in input tensor.\n",
            "WARNING:tensorboardX.x2num:NaN or Inf found in input tensor.\n",
            "WARNING:tensorboardX.x2num:NaN or Inf found in input tensor.\n",
            "WARNING:tensorboardX.x2num:NaN or Inf found in input tensor.\n",
            "WARNING:tensorboardX.x2num:NaN or Inf found in input tensor.\n"
          ]
        },
        {
          "name": "stdout",
          "output_type": "stream",
          "text": [
            "Epoch 4/61.. Train loss: nan.. Val loss: nan.. Train L1 norm: nan.. Val L1 norm: nan.. Train Linf norm: nan.. Val Linf norm: nan\n"
          ]
        },
        {
          "name": "stderr",
          "output_type": "stream",
          "text": [
            "WARNING:tensorboardX.x2num:NaN or Inf found in input tensor.\n",
            "WARNING:tensorboardX.x2num:NaN or Inf found in input tensor.\n",
            "WARNING:tensorboardX.x2num:NaN or Inf found in input tensor.\n",
            "WARNING:tensorboardX.x2num:NaN or Inf found in input tensor.\n",
            "WARNING:tensorboardX.x2num:NaN or Inf found in input tensor.\n",
            "WARNING:tensorboardX.x2num:NaN or Inf found in input tensor.\n"
          ]
        },
        {
          "name": "stdout",
          "output_type": "stream",
          "text": [
            "Epoch 5/61.. Train loss: nan.. Val loss: nan.. Train L1 norm: nan.. Val L1 norm: nan.. Train Linf norm: nan.. Val Linf norm: nan\n"
          ]
        },
        {
          "name": "stderr",
          "output_type": "stream",
          "text": [
            "WARNING:tensorboardX.x2num:NaN or Inf found in input tensor.\n",
            "WARNING:tensorboardX.x2num:NaN or Inf found in input tensor.\n",
            "WARNING:tensorboardX.x2num:NaN or Inf found in input tensor.\n",
            "WARNING:tensorboardX.x2num:NaN or Inf found in input tensor.\n",
            "WARNING:tensorboardX.x2num:NaN or Inf found in input tensor.\n",
            "WARNING:tensorboardX.x2num:NaN or Inf found in input tensor.\n"
          ]
        },
        {
          "name": "stdout",
          "output_type": "stream",
          "text": [
            "Epoch 6/61.. Train loss: nan.. Val loss: nan.. Train L1 norm: nan.. Val L1 norm: nan.. Train Linf norm: nan.. Val Linf norm: nan\n"
          ]
        },
        {
          "name": "stderr",
          "output_type": "stream",
          "text": [
            "WARNING:tensorboardX.x2num:NaN or Inf found in input tensor.\n",
            "WARNING:tensorboardX.x2num:NaN or Inf found in input tensor.\n",
            "WARNING:tensorboardX.x2num:NaN or Inf found in input tensor.\n",
            "WARNING:tensorboardX.x2num:NaN or Inf found in input tensor.\n",
            "WARNING:tensorboardX.x2num:NaN or Inf found in input tensor.\n",
            "WARNING:tensorboardX.x2num:NaN or Inf found in input tensor.\n"
          ]
        },
        {
          "name": "stdout",
          "output_type": "stream",
          "text": [
            "Epoch 7/61.. Train loss: nan.. Val loss: nan.. Train L1 norm: nan.. Val L1 norm: nan.. Train Linf norm: nan.. Val Linf norm: nan\n"
          ]
        },
        {
          "name": "stderr",
          "output_type": "stream",
          "text": [
            "WARNING:tensorboardX.x2num:NaN or Inf found in input tensor.\n",
            "WARNING:tensorboardX.x2num:NaN or Inf found in input tensor.\n",
            "WARNING:tensorboardX.x2num:NaN or Inf found in input tensor.\n",
            "WARNING:tensorboardX.x2num:NaN or Inf found in input tensor.\n",
            "WARNING:tensorboardX.x2num:NaN or Inf found in input tensor.\n",
            "WARNING:tensorboardX.x2num:NaN or Inf found in input tensor.\n"
          ]
        },
        {
          "name": "stdout",
          "output_type": "stream",
          "text": [
            "Epoch 8/61.. Train loss: nan.. Val loss: nan.. Train L1 norm: nan.. Val L1 norm: nan.. Train Linf norm: nan.. Val Linf norm: nan\n"
          ]
        },
        {
          "name": "stderr",
          "output_type": "stream",
          "text": [
            "WARNING:tensorboardX.x2num:NaN or Inf found in input tensor.\n",
            "WARNING:tensorboardX.x2num:NaN or Inf found in input tensor.\n",
            "WARNING:tensorboardX.x2num:NaN or Inf found in input tensor.\n",
            "WARNING:tensorboardX.x2num:NaN or Inf found in input tensor.\n",
            "WARNING:tensorboardX.x2num:NaN or Inf found in input tensor.\n",
            "WARNING:tensorboardX.x2num:NaN or Inf found in input tensor.\n"
          ]
        },
        {
          "name": "stdout",
          "output_type": "stream",
          "text": [
            "Epoch 9/61.. Train loss: nan.. Val loss: nan.. Train L1 norm: nan.. Val L1 norm: nan.. Train Linf norm: nan.. Val Linf norm: nan\n"
          ]
        },
        {
          "name": "stderr",
          "output_type": "stream",
          "text": [
            "WARNING:tensorboardX.x2num:NaN or Inf found in input tensor.\n",
            "WARNING:tensorboardX.x2num:NaN or Inf found in input tensor.\n",
            "WARNING:tensorboardX.x2num:NaN or Inf found in input tensor.\n",
            "WARNING:tensorboardX.x2num:NaN or Inf found in input tensor.\n",
            "WARNING:tensorboardX.x2num:NaN or Inf found in input tensor.\n",
            "WARNING:tensorboardX.x2num:NaN or Inf found in input tensor.\n"
          ]
        },
        {
          "name": "stdout",
          "output_type": "stream",
          "text": [
            "Epoch 10/61.. Train loss: nan.. Val loss: nan.. Train L1 norm: nan.. Val L1 norm: nan.. Train Linf norm: nan.. Val Linf norm: nan\n"
          ]
        },
        {
          "name": "stderr",
          "output_type": "stream",
          "text": [
            "WARNING:tensorboardX.x2num:NaN or Inf found in input tensor.\n",
            "WARNING:tensorboardX.x2num:NaN or Inf found in input tensor.\n",
            "WARNING:tensorboardX.x2num:NaN or Inf found in input tensor.\n",
            "WARNING:tensorboardX.x2num:NaN or Inf found in input tensor.\n",
            "WARNING:tensorboardX.x2num:NaN or Inf found in input tensor.\n",
            "WARNING:tensorboardX.x2num:NaN or Inf found in input tensor.\n"
          ]
        },
        {
          "name": "stdout",
          "output_type": "stream",
          "text": [
            "Epoch 11/61.. Train loss: nan.. Val loss: nan.. Train L1 norm: nan.. Val L1 norm: nan.. Train Linf norm: nan.. Val Linf norm: nan\n"
          ]
        },
        {
          "name": "stderr",
          "output_type": "stream",
          "text": [
            "WARNING:tensorboardX.x2num:NaN or Inf found in input tensor.\n",
            "WARNING:tensorboardX.x2num:NaN or Inf found in input tensor.\n",
            "WARNING:tensorboardX.x2num:NaN or Inf found in input tensor.\n",
            "WARNING:tensorboardX.x2num:NaN or Inf found in input tensor.\n",
            "WARNING:tensorboardX.x2num:NaN or Inf found in input tensor.\n",
            "WARNING:tensorboardX.x2num:NaN or Inf found in input tensor.\n"
          ]
        },
        {
          "name": "stdout",
          "output_type": "stream",
          "text": [
            "Epoch 12/61.. Train loss: nan.. Val loss: nan.. Train L1 norm: nan.. Val L1 norm: nan.. Train Linf norm: nan.. Val Linf norm: nan\n"
          ]
        },
        {
          "name": "stderr",
          "output_type": "stream",
          "text": [
            "WARNING:tensorboardX.x2num:NaN or Inf found in input tensor.\n",
            "WARNING:tensorboardX.x2num:NaN or Inf found in input tensor.\n",
            "WARNING:tensorboardX.x2num:NaN or Inf found in input tensor.\n",
            "WARNING:tensorboardX.x2num:NaN or Inf found in input tensor.\n",
            "WARNING:tensorboardX.x2num:NaN or Inf found in input tensor.\n",
            "WARNING:tensorboardX.x2num:NaN or Inf found in input tensor.\n"
          ]
        },
        {
          "name": "stdout",
          "output_type": "stream",
          "text": [
            "Epoch 13/61.. Train loss: nan.. Val loss: nan.. Train L1 norm: nan.. Val L1 norm: nan.. Train Linf norm: nan.. Val Linf norm: nan\n"
          ]
        },
        {
          "name": "stderr",
          "output_type": "stream",
          "text": [
            "WARNING:tensorboardX.x2num:NaN or Inf found in input tensor.\n",
            "WARNING:tensorboardX.x2num:NaN or Inf found in input tensor.\n",
            "WARNING:tensorboardX.x2num:NaN or Inf found in input tensor.\n",
            "WARNING:tensorboardX.x2num:NaN or Inf found in input tensor.\n",
            "WARNING:tensorboardX.x2num:NaN or Inf found in input tensor.\n",
            "WARNING:tensorboardX.x2num:NaN or Inf found in input tensor.\n"
          ]
        },
        {
          "name": "stdout",
          "output_type": "stream",
          "text": [
            "Epoch 14/61.. Train loss: nan.. Val loss: nan.. Train L1 norm: nan.. Val L1 norm: nan.. Train Linf norm: nan.. Val Linf norm: nan\n"
          ]
        },
        {
          "name": "stderr",
          "output_type": "stream",
          "text": [
            "WARNING:tensorboardX.x2num:NaN or Inf found in input tensor.\n",
            "WARNING:tensorboardX.x2num:NaN or Inf found in input tensor.\n",
            "WARNING:tensorboardX.x2num:NaN or Inf found in input tensor.\n",
            "WARNING:tensorboardX.x2num:NaN or Inf found in input tensor.\n",
            "WARNING:tensorboardX.x2num:NaN or Inf found in input tensor.\n",
            "WARNING:tensorboardX.x2num:NaN or Inf found in input tensor.\n"
          ]
        },
        {
          "name": "stdout",
          "output_type": "stream",
          "text": [
            "Epoch 15/61.. Train loss: nan.. Val loss: nan.. Train L1 norm: nan.. Val L1 norm: nan.. Train Linf norm: nan.. Val Linf norm: nan\n"
          ]
        },
        {
          "name": "stderr",
          "output_type": "stream",
          "text": [
            "WARNING:tensorboardX.x2num:NaN or Inf found in input tensor.\n",
            "WARNING:tensorboardX.x2num:NaN or Inf found in input tensor.\n",
            "WARNING:tensorboardX.x2num:NaN or Inf found in input tensor.\n",
            "WARNING:tensorboardX.x2num:NaN or Inf found in input tensor.\n",
            "WARNING:tensorboardX.x2num:NaN or Inf found in input tensor.\n",
            "WARNING:tensorboardX.x2num:NaN or Inf found in input tensor.\n"
          ]
        },
        {
          "name": "stdout",
          "output_type": "stream",
          "text": [
            "Epoch 16/61.. Train loss: nan.. Val loss: nan.. Train L1 norm: nan.. Val L1 norm: nan.. Train Linf norm: nan.. Val Linf norm: nan\n"
          ]
        },
        {
          "name": "stderr",
          "output_type": "stream",
          "text": [
            "WARNING:tensorboardX.x2num:NaN or Inf found in input tensor.\n",
            "WARNING:tensorboardX.x2num:NaN or Inf found in input tensor.\n",
            "WARNING:tensorboardX.x2num:NaN or Inf found in input tensor.\n",
            "WARNING:tensorboardX.x2num:NaN or Inf found in input tensor.\n",
            "WARNING:tensorboardX.x2num:NaN or Inf found in input tensor.\n",
            "WARNING:tensorboardX.x2num:NaN or Inf found in input tensor.\n"
          ]
        },
        {
          "name": "stdout",
          "output_type": "stream",
          "text": [
            "Epoch 17/61.. Train loss: nan.. Val loss: nan.. Train L1 norm: nan.. Val L1 norm: nan.. Train Linf norm: nan.. Val Linf norm: nan\n"
          ]
        },
        {
          "name": "stderr",
          "output_type": "stream",
          "text": [
            "WARNING:tensorboardX.x2num:NaN or Inf found in input tensor.\n",
            "WARNING:tensorboardX.x2num:NaN or Inf found in input tensor.\n",
            "WARNING:tensorboardX.x2num:NaN or Inf found in input tensor.\n",
            "WARNING:tensorboardX.x2num:NaN or Inf found in input tensor.\n",
            "WARNING:tensorboardX.x2num:NaN or Inf found in input tensor.\n",
            "WARNING:tensorboardX.x2num:NaN or Inf found in input tensor.\n"
          ]
        },
        {
          "name": "stdout",
          "output_type": "stream",
          "text": [
            "Epoch 18/61.. Train loss: nan.. Val loss: nan.. Train L1 norm: nan.. Val L1 norm: nan.. Train Linf norm: nan.. Val Linf norm: nan\n"
          ]
        },
        {
          "name": "stderr",
          "output_type": "stream",
          "text": [
            "WARNING:tensorboardX.x2num:NaN or Inf found in input tensor.\n",
            "WARNING:tensorboardX.x2num:NaN or Inf found in input tensor.\n",
            "WARNING:tensorboardX.x2num:NaN or Inf found in input tensor.\n",
            "WARNING:tensorboardX.x2num:NaN or Inf found in input tensor.\n",
            "WARNING:tensorboardX.x2num:NaN or Inf found in input tensor.\n",
            "WARNING:tensorboardX.x2num:NaN or Inf found in input tensor.\n"
          ]
        },
        {
          "name": "stdout",
          "output_type": "stream",
          "text": [
            "Epoch 19/61.. Train loss: nan.. Val loss: nan.. Train L1 norm: nan.. Val L1 norm: nan.. Train Linf norm: nan.. Val Linf norm: nan\n"
          ]
        },
        {
          "name": "stderr",
          "output_type": "stream",
          "text": [
            "WARNING:tensorboardX.x2num:NaN or Inf found in input tensor.\n",
            "WARNING:tensorboardX.x2num:NaN or Inf found in input tensor.\n",
            "WARNING:tensorboardX.x2num:NaN or Inf found in input tensor.\n",
            "WARNING:tensorboardX.x2num:NaN or Inf found in input tensor.\n",
            "WARNING:tensorboardX.x2num:NaN or Inf found in input tensor.\n",
            "WARNING:tensorboardX.x2num:NaN or Inf found in input tensor.\n"
          ]
        },
        {
          "name": "stdout",
          "output_type": "stream",
          "text": [
            "Epoch 20/61.. Train loss: nan.. Val loss: nan.. Train L1 norm: nan.. Val L1 norm: nan.. Train Linf norm: nan.. Val Linf norm: nan\n"
          ]
        },
        {
          "name": "stderr",
          "output_type": "stream",
          "text": [
            "WARNING:tensorboardX.x2num:NaN or Inf found in input tensor.\n",
            "WARNING:tensorboardX.x2num:NaN or Inf found in input tensor.\n",
            "WARNING:tensorboardX.x2num:NaN or Inf found in input tensor.\n",
            "WARNING:tensorboardX.x2num:NaN or Inf found in input tensor.\n",
            "WARNING:tensorboardX.x2num:NaN or Inf found in input tensor.\n",
            "WARNING:tensorboardX.x2num:NaN or Inf found in input tensor.\n"
          ]
        },
        {
          "name": "stdout",
          "output_type": "stream",
          "text": [
            "Epoch 21/61.. Train loss: nan.. Val loss: nan.. Train L1 norm: nan.. Val L1 norm: nan.. Train Linf norm: nan.. Val Linf norm: nan\n"
          ]
        },
        {
          "name": "stderr",
          "output_type": "stream",
          "text": [
            "WARNING:tensorboardX.x2num:NaN or Inf found in input tensor.\n",
            "WARNING:tensorboardX.x2num:NaN or Inf found in input tensor.\n",
            "WARNING:tensorboardX.x2num:NaN or Inf found in input tensor.\n",
            "WARNING:tensorboardX.x2num:NaN or Inf found in input tensor.\n",
            "WARNING:tensorboardX.x2num:NaN or Inf found in input tensor.\n",
            "WARNING:tensorboardX.x2num:NaN or Inf found in input tensor.\n"
          ]
        },
        {
          "name": "stdout",
          "output_type": "stream",
          "text": [
            "Epoch 22/61.. Train loss: nan.. Val loss: nan.. Train L1 norm: nan.. Val L1 norm: nan.. Train Linf norm: nan.. Val Linf norm: nan\n"
          ]
        },
        {
          "name": "stderr",
          "output_type": "stream",
          "text": [
            "WARNING:tensorboardX.x2num:NaN or Inf found in input tensor.\n",
            "WARNING:tensorboardX.x2num:NaN or Inf found in input tensor.\n",
            "WARNING:tensorboardX.x2num:NaN or Inf found in input tensor.\n",
            "WARNING:tensorboardX.x2num:NaN or Inf found in input tensor.\n",
            "WARNING:tensorboardX.x2num:NaN or Inf found in input tensor.\n",
            "WARNING:tensorboardX.x2num:NaN or Inf found in input tensor.\n"
          ]
        },
        {
          "name": "stdout",
          "output_type": "stream",
          "text": [
            "Epoch 23/61.. Train loss: nan.. Val loss: nan.. Train L1 norm: nan.. Val L1 norm: nan.. Train Linf norm: nan.. Val Linf norm: nan\n"
          ]
        },
        {
          "name": "stderr",
          "output_type": "stream",
          "text": [
            "WARNING:tensorboardX.x2num:NaN or Inf found in input tensor.\n",
            "WARNING:tensorboardX.x2num:NaN or Inf found in input tensor.\n",
            "WARNING:tensorboardX.x2num:NaN or Inf found in input tensor.\n",
            "WARNING:tensorboardX.x2num:NaN or Inf found in input tensor.\n",
            "WARNING:tensorboardX.x2num:NaN or Inf found in input tensor.\n",
            "WARNING:tensorboardX.x2num:NaN or Inf found in input tensor.\n"
          ]
        },
        {
          "name": "stdout",
          "output_type": "stream",
          "text": [
            "Epoch 24/61.. Train loss: nan.. Val loss: nan.. Train L1 norm: nan.. Val L1 norm: nan.. Train Linf norm: nan.. Val Linf norm: nan\n"
          ]
        },
        {
          "name": "stderr",
          "output_type": "stream",
          "text": [
            "WARNING:tensorboardX.x2num:NaN or Inf found in input tensor.\n",
            "WARNING:tensorboardX.x2num:NaN or Inf found in input tensor.\n",
            "WARNING:tensorboardX.x2num:NaN or Inf found in input tensor.\n",
            "WARNING:tensorboardX.x2num:NaN or Inf found in input tensor.\n",
            "WARNING:tensorboardX.x2num:NaN or Inf found in input tensor.\n",
            "WARNING:tensorboardX.x2num:NaN or Inf found in input tensor.\n"
          ]
        },
        {
          "name": "stdout",
          "output_type": "stream",
          "text": [
            "Epoch 25/61.. Train loss: nan.. Val loss: nan.. Train L1 norm: nan.. Val L1 norm: nan.. Train Linf norm: nan.. Val Linf norm: nan\n"
          ]
        },
        {
          "name": "stderr",
          "output_type": "stream",
          "text": [
            "WARNING:tensorboardX.x2num:NaN or Inf found in input tensor.\n",
            "WARNING:tensorboardX.x2num:NaN or Inf found in input tensor.\n",
            "WARNING:tensorboardX.x2num:NaN or Inf found in input tensor.\n",
            "WARNING:tensorboardX.x2num:NaN or Inf found in input tensor.\n",
            "WARNING:tensorboardX.x2num:NaN or Inf found in input tensor.\n",
            "WARNING:tensorboardX.x2num:NaN or Inf found in input tensor.\n"
          ]
        },
        {
          "name": "stdout",
          "output_type": "stream",
          "text": [
            "Epoch 26/61.. Train loss: nan.. Val loss: nan.. Train L1 norm: nan.. Val L1 norm: nan.. Train Linf norm: nan.. Val Linf norm: nan\n"
          ]
        },
        {
          "name": "stderr",
          "output_type": "stream",
          "text": [
            "WARNING:tensorboardX.x2num:NaN or Inf found in input tensor.\n",
            "WARNING:tensorboardX.x2num:NaN or Inf found in input tensor.\n",
            "WARNING:tensorboardX.x2num:NaN or Inf found in input tensor.\n",
            "WARNING:tensorboardX.x2num:NaN or Inf found in input tensor.\n",
            "WARNING:tensorboardX.x2num:NaN or Inf found in input tensor.\n",
            "WARNING:tensorboardX.x2num:NaN or Inf found in input tensor.\n"
          ]
        },
        {
          "name": "stdout",
          "output_type": "stream",
          "text": [
            "Epoch 27/61.. Train loss: nan.. Val loss: nan.. Train L1 norm: nan.. Val L1 norm: nan.. Train Linf norm: nan.. Val Linf norm: nan\n"
          ]
        },
        {
          "name": "stderr",
          "output_type": "stream",
          "text": [
            "WARNING:tensorboardX.x2num:NaN or Inf found in input tensor.\n",
            "WARNING:tensorboardX.x2num:NaN or Inf found in input tensor.\n",
            "WARNING:tensorboardX.x2num:NaN or Inf found in input tensor.\n",
            "WARNING:tensorboardX.x2num:NaN or Inf found in input tensor.\n",
            "WARNING:tensorboardX.x2num:NaN or Inf found in input tensor.\n",
            "WARNING:tensorboardX.x2num:NaN or Inf found in input tensor.\n"
          ]
        },
        {
          "name": "stdout",
          "output_type": "stream",
          "text": [
            "Epoch 28/61.. Train loss: nan.. Val loss: nan.. Train L1 norm: nan.. Val L1 norm: nan.. Train Linf norm: nan.. Val Linf norm: nan\n"
          ]
        },
        {
          "name": "stderr",
          "output_type": "stream",
          "text": [
            "WARNING:tensorboardX.x2num:NaN or Inf found in input tensor.\n",
            "WARNING:tensorboardX.x2num:NaN or Inf found in input tensor.\n",
            "WARNING:tensorboardX.x2num:NaN or Inf found in input tensor.\n",
            "WARNING:tensorboardX.x2num:NaN or Inf found in input tensor.\n",
            "WARNING:tensorboardX.x2num:NaN or Inf found in input tensor.\n",
            "WARNING:tensorboardX.x2num:NaN or Inf found in input tensor.\n"
          ]
        },
        {
          "name": "stdout",
          "output_type": "stream",
          "text": [
            "Epoch 29/61.. Train loss: nan.. Val loss: nan.. Train L1 norm: nan.. Val L1 norm: nan.. Train Linf norm: nan.. Val Linf norm: nan\n"
          ]
        },
        {
          "name": "stderr",
          "output_type": "stream",
          "text": [
            "WARNING:tensorboardX.x2num:NaN or Inf found in input tensor.\n",
            "WARNING:tensorboardX.x2num:NaN or Inf found in input tensor.\n",
            "WARNING:tensorboardX.x2num:NaN or Inf found in input tensor.\n",
            "WARNING:tensorboardX.x2num:NaN or Inf found in input tensor.\n",
            "WARNING:tensorboardX.x2num:NaN or Inf found in input tensor.\n",
            "WARNING:tensorboardX.x2num:NaN or Inf found in input tensor.\n"
          ]
        },
        {
          "name": "stdout",
          "output_type": "stream",
          "text": [
            "Epoch 30/61.. Train loss: nan.. Val loss: nan.. Train L1 norm: nan.. Val L1 norm: nan.. Train Linf norm: nan.. Val Linf norm: nan\n"
          ]
        },
        {
          "name": "stderr",
          "output_type": "stream",
          "text": [
            "WARNING:tensorboardX.x2num:NaN or Inf found in input tensor.\n",
            "WARNING:tensorboardX.x2num:NaN or Inf found in input tensor.\n",
            "WARNING:tensorboardX.x2num:NaN or Inf found in input tensor.\n",
            "WARNING:tensorboardX.x2num:NaN or Inf found in input tensor.\n",
            "WARNING:tensorboardX.x2num:NaN or Inf found in input tensor.\n",
            "WARNING:tensorboardX.x2num:NaN or Inf found in input tensor.\n"
          ]
        },
        {
          "name": "stdout",
          "output_type": "stream",
          "text": [
            "Epoch 31/61.. Train loss: nan.. Val loss: nan.. Train L1 norm: nan.. Val L1 norm: nan.. Train Linf norm: nan.. Val Linf norm: nan\n"
          ]
        },
        {
          "name": "stderr",
          "output_type": "stream",
          "text": [
            "WARNING:tensorboardX.x2num:NaN or Inf found in input tensor.\n",
            "WARNING:tensorboardX.x2num:NaN or Inf found in input tensor.\n",
            "WARNING:tensorboardX.x2num:NaN or Inf found in input tensor.\n",
            "WARNING:tensorboardX.x2num:NaN or Inf found in input tensor.\n",
            "WARNING:tensorboardX.x2num:NaN or Inf found in input tensor.\n",
            "WARNING:tensorboardX.x2num:NaN or Inf found in input tensor.\n"
          ]
        },
        {
          "name": "stdout",
          "output_type": "stream",
          "text": [
            "Epoch 32/61.. Train loss: nan.. Val loss: nan.. Train L1 norm: nan.. Val L1 norm: nan.. Train Linf norm: nan.. Val Linf norm: nan\n"
          ]
        },
        {
          "name": "stderr",
          "output_type": "stream",
          "text": [
            "WARNING:tensorboardX.x2num:NaN or Inf found in input tensor.\n",
            "WARNING:tensorboardX.x2num:NaN or Inf found in input tensor.\n",
            "WARNING:tensorboardX.x2num:NaN or Inf found in input tensor.\n",
            "WARNING:tensorboardX.x2num:NaN or Inf found in input tensor.\n",
            "WARNING:tensorboardX.x2num:NaN or Inf found in input tensor.\n",
            "WARNING:tensorboardX.x2num:NaN or Inf found in input tensor.\n"
          ]
        },
        {
          "name": "stdout",
          "output_type": "stream",
          "text": [
            "Epoch 33/61.. Train loss: nan.. Val loss: nan.. Train L1 norm: nan.. Val L1 norm: nan.. Train Linf norm: nan.. Val Linf norm: nan\n"
          ]
        },
        {
          "name": "stderr",
          "output_type": "stream",
          "text": [
            "WARNING:tensorboardX.x2num:NaN or Inf found in input tensor.\n",
            "WARNING:tensorboardX.x2num:NaN or Inf found in input tensor.\n",
            "WARNING:tensorboardX.x2num:NaN or Inf found in input tensor.\n",
            "WARNING:tensorboardX.x2num:NaN or Inf found in input tensor.\n",
            "WARNING:tensorboardX.x2num:NaN or Inf found in input tensor.\n",
            "WARNING:tensorboardX.x2num:NaN or Inf found in input tensor.\n"
          ]
        },
        {
          "name": "stdout",
          "output_type": "stream",
          "text": [
            "Epoch 34/61.. Train loss: nan.. Val loss: nan.. Train L1 norm: nan.. Val L1 norm: nan.. Train Linf norm: nan.. Val Linf norm: nan\n"
          ]
        },
        {
          "name": "stderr",
          "output_type": "stream",
          "text": [
            "WARNING:tensorboardX.x2num:NaN or Inf found in input tensor.\n",
            "WARNING:tensorboardX.x2num:NaN or Inf found in input tensor.\n",
            "WARNING:tensorboardX.x2num:NaN or Inf found in input tensor.\n",
            "WARNING:tensorboardX.x2num:NaN or Inf found in input tensor.\n",
            "WARNING:tensorboardX.x2num:NaN or Inf found in input tensor.\n",
            "WARNING:tensorboardX.x2num:NaN or Inf found in input tensor.\n"
          ]
        },
        {
          "name": "stdout",
          "output_type": "stream",
          "text": [
            "Epoch 35/61.. Train loss: nan.. Val loss: nan.. Train L1 norm: nan.. Val L1 norm: nan.. Train Linf norm: nan.. Val Linf norm: nan\n"
          ]
        },
        {
          "name": "stderr",
          "output_type": "stream",
          "text": [
            "WARNING:tensorboardX.x2num:NaN or Inf found in input tensor.\n",
            "WARNING:tensorboardX.x2num:NaN or Inf found in input tensor.\n",
            "WARNING:tensorboardX.x2num:NaN or Inf found in input tensor.\n",
            "WARNING:tensorboardX.x2num:NaN or Inf found in input tensor.\n",
            "WARNING:tensorboardX.x2num:NaN or Inf found in input tensor.\n",
            "WARNING:tensorboardX.x2num:NaN or Inf found in input tensor.\n"
          ]
        },
        {
          "name": "stdout",
          "output_type": "stream",
          "text": [
            "Epoch 36/61.. Train loss: nan.. Val loss: nan.. Train L1 norm: nan.. Val L1 norm: nan.. Train Linf norm: nan.. Val Linf norm: nan\n"
          ]
        },
        {
          "name": "stderr",
          "output_type": "stream",
          "text": [
            "WARNING:tensorboardX.x2num:NaN or Inf found in input tensor.\n",
            "WARNING:tensorboardX.x2num:NaN or Inf found in input tensor.\n",
            "WARNING:tensorboardX.x2num:NaN or Inf found in input tensor.\n",
            "WARNING:tensorboardX.x2num:NaN or Inf found in input tensor.\n",
            "WARNING:tensorboardX.x2num:NaN or Inf found in input tensor.\n",
            "WARNING:tensorboardX.x2num:NaN or Inf found in input tensor.\n"
          ]
        },
        {
          "name": "stdout",
          "output_type": "stream",
          "text": [
            "Epoch 37/61.. Train loss: nan.. Val loss: nan.. Train L1 norm: nan.. Val L1 norm: nan.. Train Linf norm: nan.. Val Linf norm: nan\n"
          ]
        },
        {
          "name": "stderr",
          "output_type": "stream",
          "text": [
            "WARNING:tensorboardX.x2num:NaN or Inf found in input tensor.\n",
            "WARNING:tensorboardX.x2num:NaN or Inf found in input tensor.\n",
            "WARNING:tensorboardX.x2num:NaN or Inf found in input tensor.\n",
            "WARNING:tensorboardX.x2num:NaN or Inf found in input tensor.\n",
            "WARNING:tensorboardX.x2num:NaN or Inf found in input tensor.\n",
            "WARNING:tensorboardX.x2num:NaN or Inf found in input tensor.\n"
          ]
        },
        {
          "name": "stdout",
          "output_type": "stream",
          "text": [
            "Epoch 38/61.. Train loss: nan.. Val loss: nan.. Train L1 norm: nan.. Val L1 norm: nan.. Train Linf norm: nan.. Val Linf norm: nan\n"
          ]
        },
        {
          "name": "stderr",
          "output_type": "stream",
          "text": [
            "WARNING:tensorboardX.x2num:NaN or Inf found in input tensor.\n",
            "WARNING:tensorboardX.x2num:NaN or Inf found in input tensor.\n",
            "WARNING:tensorboardX.x2num:NaN or Inf found in input tensor.\n",
            "WARNING:tensorboardX.x2num:NaN or Inf found in input tensor.\n",
            "WARNING:tensorboardX.x2num:NaN or Inf found in input tensor.\n",
            "WARNING:tensorboardX.x2num:NaN or Inf found in input tensor.\n"
          ]
        },
        {
          "name": "stdout",
          "output_type": "stream",
          "text": [
            "Epoch 39/61.. Train loss: nan.. Val loss: nan.. Train L1 norm: nan.. Val L1 norm: nan.. Train Linf norm: nan.. Val Linf norm: nan\n"
          ]
        },
        {
          "name": "stderr",
          "output_type": "stream",
          "text": [
            "WARNING:tensorboardX.x2num:NaN or Inf found in input tensor.\n",
            "WARNING:tensorboardX.x2num:NaN or Inf found in input tensor.\n",
            "WARNING:tensorboardX.x2num:NaN or Inf found in input tensor.\n",
            "WARNING:tensorboardX.x2num:NaN or Inf found in input tensor.\n",
            "WARNING:tensorboardX.x2num:NaN or Inf found in input tensor.\n",
            "WARNING:tensorboardX.x2num:NaN or Inf found in input tensor.\n"
          ]
        },
        {
          "name": "stdout",
          "output_type": "stream",
          "text": [
            "Epoch 40/61.. Train loss: nan.. Val loss: nan.. Train L1 norm: nan.. Val L1 norm: nan.. Train Linf norm: nan.. Val Linf norm: nan\n"
          ]
        },
        {
          "name": "stderr",
          "output_type": "stream",
          "text": [
            "WARNING:tensorboardX.x2num:NaN or Inf found in input tensor.\n",
            "WARNING:tensorboardX.x2num:NaN or Inf found in input tensor.\n",
            "WARNING:tensorboardX.x2num:NaN or Inf found in input tensor.\n",
            "WARNING:tensorboardX.x2num:NaN or Inf found in input tensor.\n",
            "WARNING:tensorboardX.x2num:NaN or Inf found in input tensor.\n",
            "WARNING:tensorboardX.x2num:NaN or Inf found in input tensor.\n"
          ]
        },
        {
          "name": "stdout",
          "output_type": "stream",
          "text": [
            "Epoch 41/61.. Train loss: nan.. Val loss: nan.. Train L1 norm: nan.. Val L1 norm: nan.. Train Linf norm: nan.. Val Linf norm: nan\n"
          ]
        },
        {
          "name": "stderr",
          "output_type": "stream",
          "text": [
            "WARNING:tensorboardX.x2num:NaN or Inf found in input tensor.\n",
            "WARNING:tensorboardX.x2num:NaN or Inf found in input tensor.\n",
            "WARNING:tensorboardX.x2num:NaN or Inf found in input tensor.\n",
            "WARNING:tensorboardX.x2num:NaN or Inf found in input tensor.\n",
            "WARNING:tensorboardX.x2num:NaN or Inf found in input tensor.\n",
            "WARNING:tensorboardX.x2num:NaN or Inf found in input tensor.\n"
          ]
        },
        {
          "name": "stdout",
          "output_type": "stream",
          "text": [
            "Epoch 42/61.. Train loss: nan.. Val loss: nan.. Train L1 norm: nan.. Val L1 norm: nan.. Train Linf norm: nan.. Val Linf norm: nan\n"
          ]
        },
        {
          "name": "stderr",
          "output_type": "stream",
          "text": [
            "WARNING:tensorboardX.x2num:NaN or Inf found in input tensor.\n",
            "WARNING:tensorboardX.x2num:NaN or Inf found in input tensor.\n",
            "WARNING:tensorboardX.x2num:NaN or Inf found in input tensor.\n",
            "WARNING:tensorboardX.x2num:NaN or Inf found in input tensor.\n",
            "WARNING:tensorboardX.x2num:NaN or Inf found in input tensor.\n",
            "WARNING:tensorboardX.x2num:NaN or Inf found in input tensor.\n"
          ]
        },
        {
          "name": "stdout",
          "output_type": "stream",
          "text": [
            "Epoch 43/61.. Train loss: nan.. Val loss: nan.. Train L1 norm: nan.. Val L1 norm: nan.. Train Linf norm: nan.. Val Linf norm: nan\n"
          ]
        },
        {
          "name": "stderr",
          "output_type": "stream",
          "text": [
            "WARNING:tensorboardX.x2num:NaN or Inf found in input tensor.\n",
            "WARNING:tensorboardX.x2num:NaN or Inf found in input tensor.\n",
            "WARNING:tensorboardX.x2num:NaN or Inf found in input tensor.\n",
            "WARNING:tensorboardX.x2num:NaN or Inf found in input tensor.\n",
            "WARNING:tensorboardX.x2num:NaN or Inf found in input tensor.\n",
            "WARNING:tensorboardX.x2num:NaN or Inf found in input tensor.\n"
          ]
        },
        {
          "name": "stdout",
          "output_type": "stream",
          "text": [
            "Epoch 44/61.. Train loss: nan.. Val loss: nan.. Train L1 norm: nan.. Val L1 norm: nan.. Train Linf norm: nan.. Val Linf norm: nan\n"
          ]
        },
        {
          "name": "stderr",
          "output_type": "stream",
          "text": [
            "WARNING:tensorboardX.x2num:NaN or Inf found in input tensor.\n",
            "WARNING:tensorboardX.x2num:NaN or Inf found in input tensor.\n",
            "WARNING:tensorboardX.x2num:NaN or Inf found in input tensor.\n",
            "WARNING:tensorboardX.x2num:NaN or Inf found in input tensor.\n",
            "WARNING:tensorboardX.x2num:NaN or Inf found in input tensor.\n",
            "WARNING:tensorboardX.x2num:NaN or Inf found in input tensor.\n"
          ]
        },
        {
          "name": "stdout",
          "output_type": "stream",
          "text": [
            "Epoch 45/61.. Train loss: nan.. Val loss: nan.. Train L1 norm: nan.. Val L1 norm: nan.. Train Linf norm: nan.. Val Linf norm: nan\n"
          ]
        },
        {
          "name": "stderr",
          "output_type": "stream",
          "text": [
            "WARNING:tensorboardX.x2num:NaN or Inf found in input tensor.\n",
            "WARNING:tensorboardX.x2num:NaN or Inf found in input tensor.\n",
            "WARNING:tensorboardX.x2num:NaN or Inf found in input tensor.\n",
            "WARNING:tensorboardX.x2num:NaN or Inf found in input tensor.\n",
            "WARNING:tensorboardX.x2num:NaN or Inf found in input tensor.\n",
            "WARNING:tensorboardX.x2num:NaN or Inf found in input tensor.\n"
          ]
        },
        {
          "name": "stdout",
          "output_type": "stream",
          "text": [
            "Epoch 46/61.. Train loss: nan.. Val loss: nan.. Train L1 norm: nan.. Val L1 norm: nan.. Train Linf norm: nan.. Val Linf norm: nan\n"
          ]
        },
        {
          "name": "stderr",
          "output_type": "stream",
          "text": [
            "WARNING:tensorboardX.x2num:NaN or Inf found in input tensor.\n",
            "WARNING:tensorboardX.x2num:NaN or Inf found in input tensor.\n",
            "WARNING:tensorboardX.x2num:NaN or Inf found in input tensor.\n",
            "WARNING:tensorboardX.x2num:NaN or Inf found in input tensor.\n",
            "WARNING:tensorboardX.x2num:NaN or Inf found in input tensor.\n",
            "WARNING:tensorboardX.x2num:NaN or Inf found in input tensor.\n"
          ]
        },
        {
          "name": "stdout",
          "output_type": "stream",
          "text": [
            "Epoch 47/61.. Train loss: nan.. Val loss: nan.. Train L1 norm: nan.. Val L1 norm: nan.. Train Linf norm: nan.. Val Linf norm: nan\n"
          ]
        },
        {
          "name": "stderr",
          "output_type": "stream",
          "text": [
            "WARNING:tensorboardX.x2num:NaN or Inf found in input tensor.\n",
            "WARNING:tensorboardX.x2num:NaN or Inf found in input tensor.\n",
            "WARNING:tensorboardX.x2num:NaN or Inf found in input tensor.\n",
            "WARNING:tensorboardX.x2num:NaN or Inf found in input tensor.\n",
            "WARNING:tensorboardX.x2num:NaN or Inf found in input tensor.\n",
            "WARNING:tensorboardX.x2num:NaN or Inf found in input tensor.\n"
          ]
        },
        {
          "name": "stdout",
          "output_type": "stream",
          "text": [
            "Epoch 48/61.. Train loss: nan.. Val loss: nan.. Train L1 norm: nan.. Val L1 norm: nan.. Train Linf norm: nan.. Val Linf norm: nan\n"
          ]
        },
        {
          "name": "stderr",
          "output_type": "stream",
          "text": [
            "WARNING:tensorboardX.x2num:NaN or Inf found in input tensor.\n",
            "WARNING:tensorboardX.x2num:NaN or Inf found in input tensor.\n",
            "WARNING:tensorboardX.x2num:NaN or Inf found in input tensor.\n",
            "WARNING:tensorboardX.x2num:NaN or Inf found in input tensor.\n",
            "WARNING:tensorboardX.x2num:NaN or Inf found in input tensor.\n",
            "WARNING:tensorboardX.x2num:NaN or Inf found in input tensor.\n"
          ]
        },
        {
          "name": "stdout",
          "output_type": "stream",
          "text": [
            "Epoch 49/61.. Train loss: nan.. Val loss: nan.. Train L1 norm: nan.. Val L1 norm: nan.. Train Linf norm: nan.. Val Linf norm: nan\n"
          ]
        },
        {
          "name": "stderr",
          "output_type": "stream",
          "text": [
            "WARNING:tensorboardX.x2num:NaN or Inf found in input tensor.\n",
            "WARNING:tensorboardX.x2num:NaN or Inf found in input tensor.\n",
            "WARNING:tensorboardX.x2num:NaN or Inf found in input tensor.\n",
            "WARNING:tensorboardX.x2num:NaN or Inf found in input tensor.\n",
            "WARNING:tensorboardX.x2num:NaN or Inf found in input tensor.\n",
            "WARNING:tensorboardX.x2num:NaN or Inf found in input tensor.\n"
          ]
        },
        {
          "name": "stdout",
          "output_type": "stream",
          "text": [
            "Epoch 50/61.. Train loss: nan.. Val loss: nan.. Train L1 norm: nan.. Val L1 norm: nan.. Train Linf norm: nan.. Val Linf norm: nan\n"
          ]
        },
        {
          "name": "stderr",
          "output_type": "stream",
          "text": [
            "WARNING:tensorboardX.x2num:NaN or Inf found in input tensor.\n",
            "WARNING:tensorboardX.x2num:NaN or Inf found in input tensor.\n",
            "WARNING:tensorboardX.x2num:NaN or Inf found in input tensor.\n",
            "WARNING:tensorboardX.x2num:NaN or Inf found in input tensor.\n",
            "WARNING:tensorboardX.x2num:NaN or Inf found in input tensor.\n",
            "WARNING:tensorboardX.x2num:NaN or Inf found in input tensor.\n"
          ]
        },
        {
          "name": "stdout",
          "output_type": "stream",
          "text": [
            "Epoch 51/61.. Train loss: nan.. Val loss: nan.. Train L1 norm: nan.. Val L1 norm: nan.. Train Linf norm: nan.. Val Linf norm: nan\n"
          ]
        },
        {
          "name": "stderr",
          "output_type": "stream",
          "text": [
            "WARNING:tensorboardX.x2num:NaN or Inf found in input tensor.\n",
            "WARNING:tensorboardX.x2num:NaN or Inf found in input tensor.\n",
            "WARNING:tensorboardX.x2num:NaN or Inf found in input tensor.\n",
            "WARNING:tensorboardX.x2num:NaN or Inf found in input tensor.\n",
            "WARNING:tensorboardX.x2num:NaN or Inf found in input tensor.\n",
            "WARNING:tensorboardX.x2num:NaN or Inf found in input tensor.\n"
          ]
        },
        {
          "name": "stdout",
          "output_type": "stream",
          "text": [
            "Epoch 52/61.. Train loss: nan.. Val loss: nan.. Train L1 norm: nan.. Val L1 norm: nan.. Train Linf norm: nan.. Val Linf norm: nan\n"
          ]
        },
        {
          "name": "stderr",
          "output_type": "stream",
          "text": [
            "WARNING:tensorboardX.x2num:NaN or Inf found in input tensor.\n",
            "WARNING:tensorboardX.x2num:NaN or Inf found in input tensor.\n",
            "WARNING:tensorboardX.x2num:NaN or Inf found in input tensor.\n",
            "WARNING:tensorboardX.x2num:NaN or Inf found in input tensor.\n",
            "WARNING:tensorboardX.x2num:NaN or Inf found in input tensor.\n",
            "WARNING:tensorboardX.x2num:NaN or Inf found in input tensor.\n"
          ]
        },
        {
          "name": "stdout",
          "output_type": "stream",
          "text": [
            "Epoch 53/61.. Train loss: nan.. Val loss: nan.. Train L1 norm: nan.. Val L1 norm: nan.. Train Linf norm: nan.. Val Linf norm: nan\n"
          ]
        },
        {
          "name": "stderr",
          "output_type": "stream",
          "text": [
            "WARNING:tensorboardX.x2num:NaN or Inf found in input tensor.\n",
            "WARNING:tensorboardX.x2num:NaN or Inf found in input tensor.\n",
            "WARNING:tensorboardX.x2num:NaN or Inf found in input tensor.\n",
            "WARNING:tensorboardX.x2num:NaN or Inf found in input tensor.\n",
            "WARNING:tensorboardX.x2num:NaN or Inf found in input tensor.\n",
            "WARNING:tensorboardX.x2num:NaN or Inf found in input tensor.\n"
          ]
        },
        {
          "name": "stdout",
          "output_type": "stream",
          "text": [
            "Epoch 54/61.. Train loss: nan.. Val loss: nan.. Train L1 norm: nan.. Val L1 norm: nan.. Train Linf norm: nan.. Val Linf norm: nan\n"
          ]
        },
        {
          "name": "stderr",
          "output_type": "stream",
          "text": [
            "WARNING:tensorboardX.x2num:NaN or Inf found in input tensor.\n",
            "WARNING:tensorboardX.x2num:NaN or Inf found in input tensor.\n",
            "WARNING:tensorboardX.x2num:NaN or Inf found in input tensor.\n",
            "WARNING:tensorboardX.x2num:NaN or Inf found in input tensor.\n",
            "WARNING:tensorboardX.x2num:NaN or Inf found in input tensor.\n",
            "WARNING:tensorboardX.x2num:NaN or Inf found in input tensor.\n"
          ]
        },
        {
          "name": "stdout",
          "output_type": "stream",
          "text": [
            "Epoch 55/61.. Train loss: nan.. Val loss: nan.. Train L1 norm: nan.. Val L1 norm: nan.. Train Linf norm: nan.. Val Linf norm: nan\n"
          ]
        },
        {
          "name": "stderr",
          "output_type": "stream",
          "text": [
            "WARNING:tensorboardX.x2num:NaN or Inf found in input tensor.\n",
            "WARNING:tensorboardX.x2num:NaN or Inf found in input tensor.\n",
            "WARNING:tensorboardX.x2num:NaN or Inf found in input tensor.\n",
            "WARNING:tensorboardX.x2num:NaN or Inf found in input tensor.\n",
            "WARNING:tensorboardX.x2num:NaN or Inf found in input tensor.\n",
            "WARNING:tensorboardX.x2num:NaN or Inf found in input tensor.\n"
          ]
        },
        {
          "name": "stdout",
          "output_type": "stream",
          "text": [
            "Epoch 56/61.. Train loss: nan.. Val loss: nan.. Train L1 norm: nan.. Val L1 norm: nan.. Train Linf norm: nan.. Val Linf norm: nan\n"
          ]
        },
        {
          "name": "stderr",
          "output_type": "stream",
          "text": [
            "WARNING:tensorboardX.x2num:NaN or Inf found in input tensor.\n",
            "WARNING:tensorboardX.x2num:NaN or Inf found in input tensor.\n",
            "WARNING:tensorboardX.x2num:NaN or Inf found in input tensor.\n",
            "WARNING:tensorboardX.x2num:NaN or Inf found in input tensor.\n",
            "WARNING:tensorboardX.x2num:NaN or Inf found in input tensor.\n",
            "WARNING:tensorboardX.x2num:NaN or Inf found in input tensor.\n"
          ]
        },
        {
          "name": "stdout",
          "output_type": "stream",
          "text": [
            "Epoch 57/61.. Train loss: nan.. Val loss: nan.. Train L1 norm: nan.. Val L1 norm: nan.. Train Linf norm: nan.. Val Linf norm: nan\n"
          ]
        },
        {
          "name": "stderr",
          "output_type": "stream",
          "text": [
            "WARNING:tensorboardX.x2num:NaN or Inf found in input tensor.\n",
            "WARNING:tensorboardX.x2num:NaN or Inf found in input tensor.\n",
            "WARNING:tensorboardX.x2num:NaN or Inf found in input tensor.\n",
            "WARNING:tensorboardX.x2num:NaN or Inf found in input tensor.\n",
            "WARNING:tensorboardX.x2num:NaN or Inf found in input tensor.\n",
            "WARNING:tensorboardX.x2num:NaN or Inf found in input tensor.\n"
          ]
        },
        {
          "name": "stdout",
          "output_type": "stream",
          "text": [
            "Epoch 58/61.. Train loss: nan.. Val loss: nan.. Train L1 norm: nan.. Val L1 norm: nan.. Train Linf norm: nan.. Val Linf norm: nan\n"
          ]
        },
        {
          "name": "stderr",
          "output_type": "stream",
          "text": [
            "WARNING:tensorboardX.x2num:NaN or Inf found in input tensor.\n",
            "WARNING:tensorboardX.x2num:NaN or Inf found in input tensor.\n",
            "WARNING:tensorboardX.x2num:NaN or Inf found in input tensor.\n",
            "WARNING:tensorboardX.x2num:NaN or Inf found in input tensor.\n",
            "WARNING:tensorboardX.x2num:NaN or Inf found in input tensor.\n",
            "WARNING:tensorboardX.x2num:NaN or Inf found in input tensor.\n"
          ]
        },
        {
          "name": "stdout",
          "output_type": "stream",
          "text": [
            "Epoch 59/61.. Train loss: nan.. Val loss: nan.. Train L1 norm: nan.. Val L1 norm: nan.. Train Linf norm: nan.. Val Linf norm: nan\n"
          ]
        },
        {
          "name": "stderr",
          "output_type": "stream",
          "text": [
            "WARNING:tensorboardX.x2num:NaN or Inf found in input tensor.\n",
            "WARNING:tensorboardX.x2num:NaN or Inf found in input tensor.\n",
            "WARNING:tensorboardX.x2num:NaN or Inf found in input tensor.\n",
            "WARNING:tensorboardX.x2num:NaN or Inf found in input tensor.\n",
            "WARNING:tensorboardX.x2num:NaN or Inf found in input tensor.\n",
            "WARNING:tensorboardX.x2num:NaN or Inf found in input tensor.\n"
          ]
        },
        {
          "name": "stdout",
          "output_type": "stream",
          "text": [
            "Epoch 60/61.. Train loss: nan.. Val loss: nan.. Train L1 norm: nan.. Val L1 norm: nan.. Train Linf norm: nan.. Val Linf norm: nan\n"
          ]
        },
        {
          "name": "stderr",
          "output_type": "stream",
          "text": [
            "WARNING:tensorboardX.x2num:NaN or Inf found in input tensor.\n",
            "WARNING:tensorboardX.x2num:NaN or Inf found in input tensor.\n",
            "WARNING:tensorboardX.x2num:NaN or Inf found in input tensor.\n",
            "WARNING:tensorboardX.x2num:NaN or Inf found in input tensor.\n",
            "WARNING:tensorboardX.x2num:NaN or Inf found in input tensor.\n",
            "WARNING:tensorboardX.x2num:NaN or Inf found in input tensor.\n",
            "\u001b[33m[W 2023-05-29 11:36:42,057]\u001b[0m Trial 3 failed with parameters: {'n_layers': 4, 'n_units_0': 1387, 'n_units_1': 1567, 'n_units_2': 2294, 'n_units_3': 708, 'hidden_activation': 'LeakyReLU', 'output_activation': 'Linear', 'loss': 'Quantile', 'optimizer': 'SGD', 'lr': 0.7495032860814487, 'batch_size': 512, 'n_epochs': 61, 'scheduler': 'CosineAnnealingLR', 'leakyrelu_slope': 0.21987210123735673, 'dropout_rate': 0.28420253053887057, 'weight_decay': 0.0005661931887439569, 'momentum': 0.42294019040190944, 't_max_fraction': 0.27503241747787555, 'eta_min': 0.00013539963655338525} because of the following error: The value nan is not acceptable..\u001b[0m\n",
            "\u001b[33m[W 2023-05-29 11:36:42,059]\u001b[0m Trial 3 failed with value nan.\u001b[0m\n"
          ]
        },
        {
          "name": "stdout",
          "output_type": "stream",
          "text": [
            "Epoch 61/61.. Train loss: nan.. Val loss: nan.. Train L1 norm: nan.. Val L1 norm: nan.. Train Linf norm: nan.. Val Linf norm: nan\n"
          ]
        },
        {
          "name": "stderr",
          "output_type": "stream",
          "text": [
            "<ipython-input-178-ddc3c9d46736>:178: FutureWarning: suggest_uniform has been deprecated in v3.0.0. This feature will be removed in v6.0.0. See https://github.com/optuna/optuna/releases/tag/v3.0.0. Use :func:`~optuna.trial.Trial.suggest_float` instead.\n",
            "  factor = trial.suggest_uniform(\"factor\", 0.1, 0.5)\n",
            "<ipython-input-178-ddc3c9d46736>:180: FutureWarning: suggest_loguniform has been deprecated in v3.0.0. This feature will be removed in v6.0.0. See https://github.com/optuna/optuna/releases/tag/v3.0.0. Use :func:`~optuna.trial.Trial.suggest_float` instead.\n",
            "  threshold = trial.suggest_loguniform(\"threshold\", 1e-4, 1e-2)\n"
          ]
        },
        {
          "name": "stdout",
          "output_type": "stream",
          "text": [
            "Epoch 1/85.. Train loss: 71101728.430.. Val loss: 94.126.. Train L1 norm: 382.063.. Val L1 norm: 1.949.. Train Linf norm: 9262.646.. Val Linf norm: 27.500\n",
            "Epoch 2/85.. Train loss: 778828.388.. Val loss: 514.861.. Train L1 norm: 77.699.. Val L1 norm: 4.767.. Train Linf norm: 2381.042.. Val Linf norm: 110.342\n",
            "Epoch 3/85.. Train loss: 1235794.501.. Val loss: 576.752.. Train L1 norm: 15.946.. Val L1 norm: 17.594.. Train Linf norm: 379.934.. Val Linf norm: 452.589\n",
            "Epoch 4/85.. Train loss: 19842994.913.. Val loss: 2865.924.. Train L1 norm: 67.404.. Val L1 norm: 9.735.. Train Linf norm: 1713.374.. Val Linf norm: 236.441\n",
            "Epoch 5/85.. Train loss: 164667670.518.. Val loss: 392500.971.. Train L1 norm: 282.290.. Val L1 norm: 430.868.. Train Linf norm: 7680.633.. Val Linf norm: 11116.882\n",
            "Epoch 6/85.. Train loss: 373253896.298.. Val loss: 11150.975.. Train L1 norm: 579.454.. Val L1 norm: 67.828.. Train Linf norm: 16241.158.. Val Linf norm: 1694.699\n",
            "Epoch 7/85.. Train loss: 321137796.415.. Val loss: 49621.480.. Train L1 norm: 768.102.. Val L1 norm: 193.367.. Train Linf norm: 22096.426.. Val Linf norm: 4858.378\n",
            "Epoch 8/85.. Train loss: 162910616.701.. Val loss: 47.838.. Train L1 norm: 350.388.. Val L1 norm: 13.501.. Train Linf norm: 10248.016.. Val Linf norm: 341.115\n",
            "Epoch 9/85.. Train loss: 2784422580.909.. Val loss: 51.195.. Train L1 norm: 46.625.. Val L1 norm: 15.521.. Train Linf norm: 1412.102.. Val Linf norm: 392.781\n",
            "Epoch 10/85.. Train loss: 1003466.049.. Val loss: 45.541.. Train L1 norm: 14.095.. Val L1 norm: 8.490.. Train Linf norm: 382.754.. Val Linf norm: 210.683\n",
            "Epoch 11/85.. Train loss: 176409.176.. Val loss: 45.543.. Train L1 norm: 15.687.. Val L1 norm: 10.886.. Train Linf norm: 435.249.. Val Linf norm: 273.500\n",
            "Epoch 12/85.. Train loss: 1179454693.517.. Val loss: 59420.088.. Train L1 norm: 51.125.. Val L1 norm: 9.143.. Train Linf norm: 1565.467.. Val Linf norm: 228.767\n",
            "Epoch 13/85.. Train loss: 45827.602.. Val loss: 45.290.. Train L1 norm: 14.175.. Val L1 norm: 9.515.. Train Linf norm: 385.250.. Val Linf norm: 237.677\n",
            "Epoch 14/85.. Train loss: 1758957488.710.. Val loss: 45.618.. Train L1 norm: 64.489.. Val L1 norm: 8.323.. Train Linf norm: 1478.116.. Val Linf norm: 206.264\n",
            "Epoch 15/85.. Train loss: 372.578.. Val loss: 45.526.. Train L1 norm: 10.765.. Val L1 norm: 8.526.. Train Linf norm: 277.711.. Val Linf norm: 211.629\n",
            "Epoch 16/85.. Train loss: 13345702723620.016.. Val loss: 45.293.. Train L1 norm: 1761.104.. Val L1 norm: 9.468.. Train Linf norm: 56286.028.. Val Linf norm: 236.432\n",
            "Epoch 17/85.. Train loss: 34892767709.311.. Val loss: 45.327.. Train L1 norm: 115.460.. Val L1 norm: 9.196.. Train Linf norm: 3629.603.. Val Linf norm: 229.280\n",
            "Epoch 18/85.. Train loss: 652221.667.. Val loss: 45.320.. Train L1 norm: 14.131.. Val L1 norm: 10.123.. Train Linf norm: 382.941.. Val Linf norm: 253.596\n",
            "Epoch 19/85.. Train loss: 3187737751.446.. Val loss: 45.574.. Train L1 norm: 236.933.. Val L1 norm: 8.416.. Train Linf norm: 7514.300.. Val Linf norm: 208.729\n",
            "Epoch 20/85.. Train loss: 38207251.383.. Val loss: 45.333.. Train L1 norm: 22.936.. Val L1 norm: 9.163.. Train Linf norm: 662.014.. Val Linf norm: 228.420\n",
            "Epoch 21/85.. Train loss: 96953.230.. Val loss: 45.289.. Train L1 norm: 13.979.. Val L1 norm: 9.526.. Train Linf norm: 379.490.. Val Linf norm: 237.950\n",
            "Epoch 22/85.. Train loss: 7461981.238.. Val loss: 45.294.. Train L1 norm: 17.132.. Val L1 norm: 9.456.. Train Linf norm: 480.671.. Val Linf norm: 236.111\n",
            "Epoch 23/85.. Train loss: 2288720.254.. Val loss: 45.360.. Train L1 norm: 14.428.. Val L1 norm: 10.016.. Train Linf norm: 392.264.. Val Linf norm: 250.792\n",
            "Epoch 24/85.. Train loss: 612903.992.. Val loss: 45.736.. Train L1 norm: 14.486.. Val L1 norm: 11.277.. Train Linf norm: 395.724.. Val Linf norm: 283.659\n",
            "Epoch 25/85.. Train loss: 8184.761.. Val loss: 45.866.. Train L1 norm: 10.747.. Val L1 norm: 11.494.. Train Linf norm: 276.739.. Val Linf norm: 289.301\n",
            "Epoch 26/85.. Train loss: 61174.173.. Val loss: 46.130.. Train L1 norm: 10.387.. Val L1 norm: 7.523.. Train Linf norm: 263.858.. Val Linf norm: 185.037\n",
            "Epoch 27/85.. Train loss: 1992424.639.. Val loss: 45.415.. Train L1 norm: 22.761.. Val L1 norm: 8.832.. Train Linf norm: 654.753.. Val Linf norm: 219.693\n",
            "Epoch 28/85.. Train loss: 1346447.151.. Val loss: 45.293.. Train L1 norm: 15.625.. Val L1 norm: 9.896.. Train Linf norm: 425.434.. Val Linf norm: 247.641\n",
            "Epoch 29/85.. Train loss: 6914751.440.. Val loss: 45.312.. Train L1 norm: 26.349.. Val L1 norm: 9.295.. Train Linf norm: 775.026.. Val Linf norm: 231.890\n",
            "Epoch 30/85.. Train loss: 1145502.729.. Val loss: 45.366.. Train L1 norm: 12.832.. Val L1 norm: 9.012.. Train Linf norm: 345.911.. Val Linf norm: 224.439\n",
            "Epoch 31/85.. Train loss: 233403.033.. Val loss: 45.375.. Train L1 norm: 11.391.. Val L1 norm: 8.976.. Train Linf norm: 297.908.. Val Linf norm: 223.497\n",
            "Epoch 32/85.. Train loss: 354220.223.. Val loss: 45.293.. Train L1 norm: 11.591.. Val L1 norm: 9.475.. Train Linf norm: 303.715.. Val Linf norm: 236.619\n",
            "Epoch 33/85.. Train loss: 98943.156.. Val loss: 45.295.. Train L1 norm: 11.270.. Val L1 norm: 9.441.. Train Linf norm: 293.526.. Val Linf norm: 235.722\n",
            "Epoch 34/85.. Train loss: 373670722.850.. Val loss: 45.336.. Train L1 norm: 20.203.. Val L1 norm: 9.149.. Train Linf norm: 579.524.. Val Linf norm: 228.044\n",
            "Epoch 35/85.. Train loss: 42089643.352.. Val loss: 45.307.. Train L1 norm: 14.188.. Val L1 norm: 9.335.. Train Linf norm: 383.598.. Val Linf norm: 232.930\n",
            "Epoch 36/85.. Train loss: 39426.705.. Val loss: 45.294.. Train L1 norm: 15.177.. Val L1 norm: 9.455.. Train Linf norm: 419.178.. Val Linf norm: 236.098\n",
            "Epoch 37/85.. Train loss: 2971.126.. Val loss: 45.547.. Train L1 norm: 12.007.. Val L1 norm: 10.897.. Train Linf norm: 316.877.. Val Linf norm: 273.769\n",
            "Epoch 38/85.. Train loss: 43885974492.970.. Val loss: 46.309.. Train L1 norm: 146.371.. Val L1 norm: 7.308.. Train Linf norm: 4617.891.. Val Linf norm: 179.305\n",
            "Epoch 39/85.. Train loss: 783.716.. Val loss: 45.286.. Train L1 norm: 8.555.. Val L1 norm: 9.765.. Train Linf norm: 208.159.. Val Linf norm: 244.230\n",
            "Epoch 40/85.. Train loss: 32123.629.. Val loss: 45.286.. Train L1 norm: 13.302.. Val L1 norm: 9.732.. Train Linf norm: 358.977.. Val Linf norm: 243.348\n",
            "Epoch 41/85.. Train loss: 9096.018.. Val loss: 45.350.. Train L1 norm: 13.268.. Val L1 norm: 10.287.. Train Linf norm: 357.745.. Val Linf norm: 257.886\n",
            "Epoch 42/85.. Train loss: 12753.312.. Val loss: 45.294.. Train L1 norm: 13.458.. Val L1 norm: 9.454.. Train Linf norm: 363.256.. Val Linf norm: 236.068\n",
            "Epoch 43/85.. Train loss: 43.629.. Val loss: 45.377.. Train L1 norm: 10.420.. Val L1 norm: 8.967.. Train Linf norm: 267.295.. Val Linf norm: 223.264\n",
            "Epoch 44/85.. Train loss: 244.838.. Val loss: 45.306.. Train L1 norm: 10.000.. Val L1 norm: 10.020.. Train Linf norm: 253.179.. Val Linf norm: 250.904\n",
            "Epoch 45/85.. Train loss: 185298.473.. Val loss: 45.383.. Train L1 norm: 13.831.. Val L1 norm: 8.944.. Train Linf norm: 375.918.. Val Linf norm: 222.650\n",
            "Epoch 46/85.. Train loss: 25316.178.. Val loss: 45.286.. Train L1 norm: 13.905.. Val L1 norm: 9.745.. Train Linf norm: 378.809.. Val Linf norm: 243.702\n",
            "Epoch 47/85.. Train loss: 50.150.. Val loss: 45.286.. Train L1 norm: 12.698.. Val L1 norm: 9.730.. Train Linf norm: 339.956.. Val Linf norm: 243.317\n",
            "Epoch 48/85.. Train loss: 29651.346.. Val loss: 45.339.. Train L1 norm: 12.305.. Val L1 norm: 9.136.. Train Linf norm: 327.896.. Val Linf norm: 227.709\n",
            "Epoch 49/85.. Train loss: 220237649.969.. Val loss: 45.289.. Train L1 norm: 18.654.. Val L1 norm: 9.833.. Train Linf norm: 530.398.. Val Linf norm: 246.007\n",
            "Epoch 50/85.. Train loss: 22931.592.. Val loss: 45.311.. Train L1 norm: 16.708.. Val L1 norm: 9.304.. Train Linf norm: 468.485.. Val Linf norm: 232.126\n",
            "Epoch 51/85.. Train loss: 128.654.. Val loss: 45.299.. Train L1 norm: 13.403.. Val L1 norm: 9.400.. Train Linf norm: 362.843.. Val Linf norm: 234.646\n",
            "Epoch 52/85.. Train loss: 43.247.. Val loss: 45.290.. Train L1 norm: 12.038.. Val L1 norm: 9.855.. Train Linf norm: 318.948.. Val Linf norm: 246.576\n",
            "Epoch 53/85.. Train loss: 7043529.560.. Val loss: 45.352.. Train L1 norm: 14.728.. Val L1 norm: 9.073.. Train Linf norm: 402.848.. Val Linf norm: 226.045\n",
            "Epoch 54/85.. Train loss: 1616138.970.. Val loss: 45.285.. Train L1 norm: 11.584.. Val L1 norm: 9.656.. Train Linf norm: 304.992.. Val Linf norm: 241.359\n",
            "Epoch 55/85.. Train loss: 66.370.. Val loss: 45.419.. Train L1 norm: 13.573.. Val L1 norm: 8.818.. Train Linf norm: 367.725.. Val Linf norm: 219.330\n",
            "Epoch 56/85.. Train loss: 3687292.763.. Val loss: 45.312.. Train L1 norm: 14.802.. Val L1 norm: 10.071.. Train Linf norm: 406.828.. Val Linf norm: 252.220\n",
            "Epoch 57/85.. Train loss: 41.942.. Val loss: 45.291.. Train L1 norm: 12.665.. Val L1 norm: 9.502.. Train Linf norm: 337.696.. Val Linf norm: 237.333\n",
            "Epoch 58/85.. Train loss: 634.171.. Val loss: 45.290.. Train L1 norm: 12.356.. Val L1 norm: 9.840.. Train Linf norm: 328.637.. Val Linf norm: 246.175\n",
            "Epoch 59/85.. Train loss: 58433.314.. Val loss: 45.290.. Train L1 norm: 12.945.. Val L1 norm: 9.852.. Train Linf norm: 347.353.. Val Linf norm: 246.500\n",
            "Epoch 60/85.. Train loss: 41.781.. Val loss: 45.286.. Train L1 norm: 12.940.. Val L1 norm: 9.763.. Train Linf norm: 347.248.. Val Linf norm: 244.174\n",
            "Epoch 61/85.. Train loss: 286.408.. Val loss: 45.302.. Train L1 norm: 11.889.. Val L1 norm: 9.371.. Train Linf norm: 313.229.. Val Linf norm: 233.878\n",
            "Epoch 62/85.. Train loss: 371817.209.. Val loss: 45.286.. Train L1 norm: 14.432.. Val L1 norm: 9.595.. Train Linf norm: 394.607.. Val Linf norm: 239.755\n",
            "Epoch 63/85.. Train loss: 25925.548.. Val loss: 45.288.. Train L1 norm: 11.682.. Val L1 norm: 9.812.. Train Linf norm: 307.688.. Val Linf norm: 245.448\n",
            "Epoch 64/85.. Train loss: 1513999865.449.. Val loss: 45.285.. Train L1 norm: 33.767.. Val L1 norm: 9.658.. Train Linf norm: 1013.742.. Val Linf norm: 241.413\n",
            "Epoch 65/85.. Train loss: 24807.185.. Val loss: 45.320.. Train L1 norm: 11.425.. Val L1 norm: 9.241.. Train Linf norm: 298.686.. Val Linf norm: 230.482\n",
            "Epoch 66/85.. Train loss: 41.846.. Val loss: 45.316.. Train L1 norm: 12.255.. Val L1 norm: 9.269.. Train Linf norm: 324.385.. Val Linf norm: 231.203\n",
            "Epoch 67/85.. Train loss: 41.714.. Val loss: 45.291.. Train L1 norm: 12.975.. Val L1 norm: 9.502.. Train Linf norm: 348.804.. Val Linf norm: 237.322\n",
            "Epoch 68/85.. Train loss: 20849182244.530.. Val loss: 45.285.. Train L1 norm: 46.383.. Val L1 norm: 9.705.. Train Linf norm: 1418.052.. Val Linf norm: 242.653\n",
            "Epoch 69/85.. Train loss: 1351379.446.. Val loss: 45.294.. Train L1 norm: 14.689.. Val L1 norm: 9.901.. Train Linf norm: 401.501.. Val Linf norm: 247.775\n",
            "Epoch 70/85.. Train loss: 42.221.. Val loss: 45.286.. Train L1 norm: 12.313.. Val L1 norm: 9.630.. Train Linf norm: 327.227.. Val Linf norm: 240.679\n",
            "Epoch 71/85.. Train loss: 15281.730.. Val loss: 45.322.. Train L1 norm: 12.563.. Val L1 norm: 10.135.. Train Linf norm: 334.815.. Val Linf norm: 253.891\n",
            "Epoch 72/85.. Train loss: 100.258.. Val loss: 45.314.. Train L1 norm: 12.375.. Val L1 norm: 10.087.. Train Linf norm: 329.644.. Val Linf norm: 252.659\n",
            "Epoch 73/85.. Train loss: 5095413.577.. Val loss: 45.307.. Train L1 norm: 13.921.. Val L1 norm: 9.332.. Train Linf norm: 379.060.. Val Linf norm: 232.868\n",
            "Epoch 74/85.. Train loss: 80.636.. Val loss: 45.290.. Train L1 norm: 11.865.. Val L1 norm: 9.518.. Train Linf norm: 313.229.. Val Linf norm: 237.737\n",
            "Epoch 75/85.. Train loss: 254.740.. Val loss: 45.286.. Train L1 norm: 11.549.. Val L1 norm: 9.606.. Train Linf norm: 302.503.. Val Linf norm: 240.064\n",
            "Epoch 76/85.. Train loss: 41.831.. Val loss: 45.285.. Train L1 norm: 12.667.. Val L1 norm: 9.677.. Train Linf norm: 337.436.. Val Linf norm: 241.921\n",
            "Epoch 77/85.. Train loss: 41.821.. Val loss: 45.292.. Train L1 norm: 13.095.. Val L1 norm: 9.487.. Train Linf norm: 352.622.. Val Linf norm: 236.929\n",
            "Epoch 78/85.. Train loss: 42.764.. Val loss: 45.285.. Train L1 norm: 12.924.. Val L1 norm: 9.669.. Train Linf norm: 346.979.. Val Linf norm: 241.708\n",
            "Epoch 79/85.. Train loss: 41.760.. Val loss: 45.286.. Train L1 norm: 12.923.. Val L1 norm: 9.603.. Train Linf norm: 347.229.. Val Linf norm: 239.971\n",
            "Epoch 80/85.. Train loss: 48.608.. Val loss: 45.294.. Train L1 norm: 13.859.. Val L1 norm: 9.458.. Train Linf norm: 376.685.. Val Linf norm: 236.163\n",
            "Epoch 81/85.. Train loss: 59046.532.. Val loss: 45.290.. Train L1 norm: 12.579.. Val L1 norm: 9.517.. Train Linf norm: 335.117.. Val Linf norm: 237.726\n",
            "Epoch 82/85.. Train loss: 41.619.. Val loss: 45.287.. Train L1 norm: 13.419.. Val L1 norm: 9.777.. Train Linf norm: 362.690.. Val Linf norm: 244.533\n",
            "Epoch 83/85.. Train loss: 200.513.. Val loss: 45.287.. Train L1 norm: 12.079.. Val L1 norm: 9.592.. Train Linf norm: 319.066.. Val Linf norm: 239.688\n",
            "Epoch 84/85.. Train loss: 346042.574.. Val loss: 45.286.. Train L1 norm: 13.088.. Val L1 norm: 9.603.. Train Linf norm: 352.269.. Val Linf norm: 239.983\n"
          ]
        },
        {
          "name": "stderr",
          "output_type": "stream",
          "text": [
            "\u001b[32m[I 2023-05-29 12:10:12,571]\u001b[0m Trial 4 finished with value: 9.445874138132732 and parameters: {'n_layers': 5, 'n_units_0': 4043, 'n_units_1': 2262, 'n_units_2': 3902, 'n_units_3': 1598, 'n_units_4': 3824, 'hidden_activation': 'ELU', 'output_activation': 'Linear', 'loss': 'MSE', 'optimizer': 'RMSprop', 'lr': 0.0006904955569226454, 'batch_size': 32, 'n_epochs': 85, 'scheduler': 'ReduceLROnPlateau', 'dropout_rate': 0.42946926530338664, 'factor': 0.47341426538909503, 'patience': 9, 'threshold': 0.00737493307319516}. Best is trial 0 with value: 2.552163498687744.\u001b[0m\n"
          ]
        },
        {
          "name": "stdout",
          "output_type": "stream",
          "text": [
            "Epoch 85/85.. Train loss: 41.899.. Val loss: 45.295.. Train L1 norm: 11.532.. Val L1 norm: 9.446.. Train Linf norm: 301.351.. Val Linf norm: 235.853\n",
            "Epoch 1/135.. Train loss: 22.963.. Val loss: 10.710.. Train L1 norm: 44.424.. Val L1 norm: 13.839.. Train Linf norm: 1015.964.. Val Linf norm: 351.198\n",
            "Epoch 2/135.. Train loss: 2544.173.. Val loss: 2.680.. Train L1 norm: 1366.758.. Val L1 norm: 2.147.. Train Linf norm: 21720.845.. Val Linf norm: 36.455\n",
            "Epoch 3/135.. Train loss: 4.814.. Val loss: 2.296.. Train L1 norm: 4.663.. Val L1 norm: 3.350.. Train Linf norm: 106.534.. Val Linf norm: 72.446\n",
            "Epoch 4/135.. Train loss: 3.585.. Val loss: 2.423.. Train L1 norm: 8.465.. Val L1 norm: 2.397.. Train Linf norm: 228.149.. Val Linf norm: 43.809\n",
            "Epoch 5/135.. Train loss: 2.650.. Val loss: 2.366.. Train L1 norm: 4.409.. Val L1 norm: 2.992.. Train Linf norm: 103.487.. Val Linf norm: 61.055\n",
            "Epoch 6/135.. Train loss: 2.861.. Val loss: 2.321.. Train L1 norm: 4.776.. Val L1 norm: 3.578.. Train Linf norm: 114.586.. Val Linf norm: 77.664\n",
            "Epoch 7/135.. Train loss: 2.402.. Val loss: 2.282.. Train L1 norm: 5.944.. Val L1 norm: 4.081.. Train Linf norm: 149.495.. Val Linf norm: 91.689\n",
            "Epoch 8/135.. Train loss: 2.390.. Val loss: 2.252.. Train L1 norm: 5.770.. Val L1 norm: 4.608.. Train Linf norm: 144.370.. Val Linf norm: 106.293\n",
            "Epoch 9/135.. Train loss: 4.179.. Val loss: 2.155.. Train L1 norm: 7.855.. Val L1 norm: 5.788.. Train Linf norm: 207.277.. Val Linf norm: 139.062\n",
            "Epoch 10/135.. Train loss: 2.268.. Val loss: 2.213.. Train L1 norm: 6.894.. Val L1 norm: 5.418.. Train Linf norm: 176.031.. Val Linf norm: 128.496\n",
            "Epoch 11/135.. Train loss: 2.428.. Val loss: 2.202.. Train L1 norm: 7.392.. Val L1 norm: 5.741.. Train Linf norm: 189.799.. Val Linf norm: 137.264\n",
            "Epoch 12/135.. Train loss: 2.222.. Val loss: 2.190.. Train L1 norm: 7.504.. Val L1 norm: 6.082.. Train Linf norm: 193.104.. Val Linf norm: 146.546\n",
            "Epoch 13/135.. Train loss: 2.244.. Val loss: 2.183.. Train L1 norm: 8.035.. Val L1 norm: 6.363.. Train Linf norm: 207.672.. Val Linf norm: 154.027\n",
            "Epoch 14/135.. Train loss: 2.227.. Val loss: 2.174.. Train L1 norm: 8.387.. Val L1 norm: 6.594.. Train Linf norm: 218.034.. Val Linf norm: 160.243\n",
            "Epoch 15/135.. Train loss: 4.057.. Val loss: 2.172.. Train L1 norm: 9.269.. Val L1 norm: 6.817.. Train Linf norm: 245.456.. Val Linf norm: 166.190\n",
            "Epoch 16/135.. Train loss: 2.175.. Val loss: 2.166.. Train L1 norm: 8.761.. Val L1 norm: 7.002.. Train Linf norm: 228.897.. Val Linf norm: 171.192\n",
            "Epoch 17/135.. Train loss: 2.212.. Val loss: 2.163.. Train L1 norm: 9.090.. Val L1 norm: 7.049.. Train Linf norm: 238.473.. Val Linf norm: 172.531\n",
            "Epoch 18/135.. Train loss: 2.264.. Val loss: 2.159.. Train L1 norm: 8.832.. Val L1 norm: 7.098.. Train Linf norm: 230.763.. Val Linf norm: 173.938\n",
            "Epoch 19/135.. Train loss: 2.164.. Val loss: 2.158.. Train L1 norm: 9.032.. Val L1 norm: 7.158.. Train Linf norm: 235.683.. Val Linf norm: 175.574\n",
            "Epoch 20/135.. Train loss: 2.167.. Val loss: 2.157.. Train L1 norm: 9.272.. Val L1 norm: 7.210.. Train Linf norm: 243.492.. Val Linf norm: 176.948\n",
            "Epoch 21/135.. Train loss: 2.159.. Val loss: 2.155.. Train L1 norm: 9.311.. Val L1 norm: 7.278.. Train Linf norm: 244.996.. Val Linf norm: 178.803\n",
            "Epoch 22/135.. Train loss: 2.154.. Val loss: 2.155.. Train L1 norm: 9.232.. Val L1 norm: 7.330.. Train Linf norm: 240.594.. Val Linf norm: 180.098\n",
            "Epoch 23/135.. Train loss: 2.162.. Val loss: 2.153.. Train L1 norm: 9.237.. Val L1 norm: 7.369.. Train Linf norm: 241.255.. Val Linf norm: 181.230\n",
            "Epoch 24/135.. Train loss: 2.152.. Val loss: 2.151.. Train L1 norm: 9.310.. Val L1 norm: 7.366.. Train Linf norm: 243.188.. Val Linf norm: 181.285\n",
            "Epoch 25/135.. Train loss: 2.164.. Val loss: 2.153.. Train L1 norm: 9.568.. Val L1 norm: 7.400.. Train Linf norm: 251.374.. Val Linf norm: 182.049\n",
            "Epoch 26/135.. Train loss: 2.147.. Val loss: 2.151.. Train L1 norm: 9.379.. Val L1 norm: 7.396.. Train Linf norm: 246.227.. Val Linf norm: 182.100\n",
            "Epoch 27/135.. Train loss: 2.153.. Val loss: 2.151.. Train L1 norm: 9.473.. Val L1 norm: 7.424.. Train Linf norm: 248.242.. Val Linf norm: 182.798\n",
            "Epoch 28/135.. Train loss: 2.170.. Val loss: 2.152.. Train L1 norm: 9.302.. Val L1 norm: 7.461.. Train Linf norm: 243.579.. Val Linf norm: 183.651\n",
            "Epoch 29/135.. Train loss: 2.162.. Val loss: 2.150.. Train L1 norm: 9.515.. Val L1 norm: 7.457.. Train Linf norm: 250.255.. Val Linf norm: 183.687\n",
            "Epoch 30/135.. Train loss: 2.183.. Val loss: 2.149.. Train L1 norm: 9.620.. Val L1 norm: 7.466.. Train Linf norm: 253.586.. Val Linf norm: 183.997\n",
            "Epoch 31/135.. Train loss: 2.175.. Val loss: 2.111.. Train L1 norm: 9.558.. Val L1 norm: 8.095.. Train Linf norm: 251.328.. Val Linf norm: 201.217\n",
            "Epoch 32/135.. Train loss: 2.276.. Val loss: 2.148.. Train L1 norm: 9.577.. Val L1 norm: 7.487.. Train Linf norm: 251.140.. Val Linf norm: 184.609\n",
            "Epoch 33/135.. Train loss: 2.148.. Val loss: 2.148.. Train L1 norm: 9.607.. Val L1 norm: 7.490.. Train Linf norm: 252.928.. Val Linf norm: 184.762\n",
            "Epoch 34/135.. Train loss: 2.157.. Val loss: 2.147.. Train L1 norm: 9.548.. Val L1 norm: 7.518.. Train Linf norm: 250.859.. Val Linf norm: 185.462\n",
            "Epoch 35/135.. Train loss: 2.150.. Val loss: 2.147.. Train L1 norm: 9.521.. Val L1 norm: 7.529.. Train Linf norm: 251.073.. Val Linf norm: 185.747\n",
            "Epoch 36/135.. Train loss: 2.159.. Val loss: 2.146.. Train L1 norm: 9.801.. Val L1 norm: 7.552.. Train Linf norm: 258.933.. Val Linf norm: 186.303\n",
            "Epoch 37/135.. Train loss: 2.222.. Val loss: 2.149.. Train L1 norm: 9.558.. Val L1 norm: 7.573.. Train Linf norm: 251.799.. Val Linf norm: 186.767\n",
            "Epoch 38/135.. Train loss: 2.173.. Val loss: 2.149.. Train L1 norm: 9.640.. Val L1 norm: 7.587.. Train Linf norm: 252.283.. Val Linf norm: 187.122\n",
            "Epoch 39/135.. Train loss: 2.172.. Val loss: 2.147.. Train L1 norm: 9.833.. Val L1 norm: 7.558.. Train Linf norm: 258.453.. Val Linf norm: 186.568\n",
            "Epoch 40/135.. Train loss: 2.150.. Val loss: 2.147.. Train L1 norm: 9.597.. Val L1 norm: 7.587.. Train Linf norm: 252.988.. Val Linf norm: 187.230\n",
            "Epoch 41/135.. Train loss: 2.156.. Val loss: 2.147.. Train L1 norm: 9.690.. Val L1 norm: 7.588.. Train Linf norm: 254.023.. Val Linf norm: 187.269\n",
            "Epoch 42/135.. Train loss: 2.156.. Val loss: 2.148.. Train L1 norm: 9.647.. Val L1 norm: 7.605.. Train Linf norm: 254.411.. Val Linf norm: 187.663\n",
            "Epoch 43/135.. Train loss: 2.185.. Val loss: 2.147.. Train L1 norm: 9.469.. Val L1 norm: 7.605.. Train Linf norm: 248.247.. Val Linf norm: 187.693\n",
            "Epoch 44/135.. Train loss: 2.167.. Val loss: 2.146.. Train L1 norm: 9.800.. Val L1 norm: 7.600.. Train Linf norm: 257.966.. Val Linf norm: 187.630\n",
            "Epoch 45/135.. Train loss: 2.145.. Val loss: 2.146.. Train L1 norm: 9.393.. Val L1 norm: 7.608.. Train Linf norm: 245.718.. Val Linf norm: 187.845\n",
            "Epoch 46/135.. Train loss: 2.184.. Val loss: 2.146.. Train L1 norm: 9.656.. Val L1 norm: 7.612.. Train Linf norm: 254.342.. Val Linf norm: 187.941\n",
            "Epoch 47/135.. Train loss: 2.188.. Val loss: 2.146.. Train L1 norm: 9.709.. Val L1 norm: 7.620.. Train Linf norm: 256.004.. Val Linf norm: 188.117\n",
            "Epoch 48/135.. Train loss: 2.157.. Val loss: 2.146.. Train L1 norm: 9.775.. Val L1 norm: 7.625.. Train Linf norm: 257.825.. Val Linf norm: 188.243\n",
            "Epoch 49/135.. Train loss: 2.167.. Val loss: 2.146.. Train L1 norm: 9.847.. Val L1 norm: 7.620.. Train Linf norm: 259.662.. Val Linf norm: 188.144\n",
            "Epoch 50/135.. Train loss: 2.149.. Val loss: 2.146.. Train L1 norm: 9.704.. Val L1 norm: 7.628.. Train Linf norm: 255.445.. Val Linf norm: 188.329\n",
            "Epoch 51/135.. Train loss: 2.158.. Val loss: 2.145.. Train L1 norm: 9.664.. Val L1 norm: 7.614.. Train Linf norm: 254.042.. Val Linf norm: 188.044\n",
            "Epoch 52/135.. Train loss: 2.291.. Val loss: 2.146.. Train L1 norm: 9.839.. Val L1 norm: 7.631.. Train Linf norm: 259.382.. Val Linf norm: 188.405\n",
            "Epoch 53/135.. Train loss: 2.148.. Val loss: 2.146.. Train L1 norm: 9.586.. Val L1 norm: 7.632.. Train Linf norm: 251.757.. Val Linf norm: 188.438\n",
            "Epoch 54/135.. Train loss: 2.158.. Val loss: 2.146.. Train L1 norm: 9.821.. Val L1 norm: 7.633.. Train Linf norm: 259.500.. Val Linf norm: 188.450\n",
            "Epoch 55/135.. Train loss: 2.292.. Val loss: 2.146.. Train L1 norm: 9.966.. Val L1 norm: 7.635.. Train Linf norm: 264.058.. Val Linf norm: 188.502\n",
            "Epoch 56/135.. Train loss: 2.152.. Val loss: 2.146.. Train L1 norm: 9.688.. Val L1 norm: 7.635.. Train Linf norm: 255.517.. Val Linf norm: 188.516\n",
            "Epoch 57/135.. Train loss: 2.147.. Val loss: 2.146.. Train L1 norm: 9.560.. Val L1 norm: 7.634.. Train Linf norm: 251.669.. Val Linf norm: 188.503\n",
            "Epoch 58/135.. Train loss: 2.165.. Val loss: 2.146.. Train L1 norm: 9.690.. Val L1 norm: 7.635.. Train Linf norm: 254.407.. Val Linf norm: 188.516\n",
            "Epoch 59/135.. Train loss: 2.175.. Val loss: 2.146.. Train L1 norm: 9.762.. Val L1 norm: 7.634.. Train Linf norm: 257.425.. Val Linf norm: 188.499\n",
            "Epoch 60/135.. Train loss: 2.167.. Val loss: 2.146.. Train L1 norm: 9.610.. Val L1 norm: 7.635.. Train Linf norm: 252.394.. Val Linf norm: 188.519\n",
            "Epoch 61/135.. Train loss: 2.140.. Val loss: 2.146.. Train L1 norm: 9.462.. Val L1 norm: 7.634.. Train Linf norm: 248.027.. Val Linf norm: 188.503\n",
            "Epoch 62/135.. Train loss: 2.156.. Val loss: 2.146.. Train L1 norm: 9.542.. Val L1 norm: 7.634.. Train Linf norm: 249.619.. Val Linf norm: 188.515\n",
            "Epoch 63/135.. Train loss: 2.152.. Val loss: 2.146.. Train L1 norm: 9.594.. Val L1 norm: 7.634.. Train Linf norm: 252.879.. Val Linf norm: 188.505\n",
            "Epoch 64/135.. Train loss: 2.203.. Val loss: 2.146.. Train L1 norm: 9.719.. Val L1 norm: 7.635.. Train Linf norm: 255.095.. Val Linf norm: 188.527\n",
            "Epoch 65/135.. Train loss: 2.189.. Val loss: 2.146.. Train L1 norm: 9.471.. Val L1 norm: 7.635.. Train Linf norm: 248.558.. Val Linf norm: 188.535\n",
            "Epoch 66/135.. Train loss: 2.148.. Val loss: 2.146.. Train L1 norm: 9.760.. Val L1 norm: 7.636.. Train Linf norm: 257.601.. Val Linf norm: 188.556\n",
            "Epoch 67/135.. Train loss: 2.163.. Val loss: 2.146.. Train L1 norm: 9.743.. Val L1 norm: 7.636.. Train Linf norm: 255.459.. Val Linf norm: 188.551\n",
            "Epoch 68/135.. Train loss: 2.311.. Val loss: 2.146.. Train L1 norm: 9.713.. Val L1 norm: 7.636.. Train Linf norm: 255.679.. Val Linf norm: 188.561\n",
            "Epoch 69/135.. Train loss: 2.167.. Val loss: 2.146.. Train L1 norm: 9.570.. Val L1 norm: 7.637.. Train Linf norm: 251.871.. Val Linf norm: 188.565\n",
            "Epoch 70/135.. Train loss: 2.149.. Val loss: 2.146.. Train L1 norm: 9.662.. Val L1 norm: 7.636.. Train Linf norm: 253.717.. Val Linf norm: 188.562\n",
            "Epoch 71/135.. Train loss: 2.281.. Val loss: 2.146.. Train L1 norm: 9.825.. Val L1 norm: 7.636.. Train Linf norm: 259.776.. Val Linf norm: 188.555\n",
            "Epoch 72/135.. Train loss: 2.150.. Val loss: 2.146.. Train L1 norm: 9.440.. Val L1 norm: 7.636.. Train Linf norm: 247.654.. Val Linf norm: 188.563\n",
            "Epoch 73/135.. Train loss: 2.155.. Val loss: 2.146.. Train L1 norm: 9.697.. Val L1 norm: 7.636.. Train Linf norm: 255.266.. Val Linf norm: 188.557\n",
            "Epoch 74/135.. Train loss: 2.151.. Val loss: 2.146.. Train L1 norm: 9.645.. Val L1 norm: 7.636.. Train Linf norm: 253.869.. Val Linf norm: 188.555\n",
            "Epoch 75/135.. Train loss: 2.158.. Val loss: 2.146.. Train L1 norm: 9.837.. Val L1 norm: 7.636.. Train Linf norm: 260.064.. Val Linf norm: 188.557\n",
            "Epoch 76/135.. Train loss: 2.167.. Val loss: 2.146.. Train L1 norm: 9.762.. Val L1 norm: 7.636.. Train Linf norm: 257.725.. Val Linf norm: 188.553\n",
            "Epoch 77/135.. Train loss: 2.146.. Val loss: 2.146.. Train L1 norm: 9.779.. Val L1 norm: 7.636.. Train Linf norm: 258.237.. Val Linf norm: 188.552\n",
            "Epoch 78/135.. Train loss: 2.203.. Val loss: 2.146.. Train L1 norm: 9.715.. Val L1 norm: 7.636.. Train Linf norm: 255.981.. Val Linf norm: 188.554\n",
            "Epoch 79/135.. Train loss: 2.147.. Val loss: 2.146.. Train L1 norm: 9.628.. Val L1 norm: 7.636.. Train Linf norm: 252.320.. Val Linf norm: 188.554\n",
            "Epoch 80/135.. Train loss: 2.161.. Val loss: 2.146.. Train L1 norm: 10.126.. Val L1 norm: 7.636.. Train Linf norm: 269.680.. Val Linf norm: 188.558\n",
            "Epoch 81/135.. Train loss: 2.152.. Val loss: 2.146.. Train L1 norm: 9.556.. Val L1 norm: 7.636.. Train Linf norm: 249.635.. Val Linf norm: 188.560\n",
            "Epoch 82/135.. Train loss: 2.147.. Val loss: 2.146.. Train L1 norm: 9.760.. Val L1 norm: 7.636.. Train Linf norm: 257.852.. Val Linf norm: 188.561\n",
            "Epoch 83/135.. Train loss: 2.150.. Val loss: 2.146.. Train L1 norm: 9.709.. Val L1 norm: 7.636.. Train Linf norm: 255.887.. Val Linf norm: 188.562\n",
            "Epoch 84/135.. Train loss: 2.146.. Val loss: 2.146.. Train L1 norm: 9.495.. Val L1 norm: 7.636.. Train Linf norm: 248.705.. Val Linf norm: 188.562\n",
            "Epoch 85/135.. Train loss: 2.192.. Val loss: 2.146.. Train L1 norm: 9.622.. Val L1 norm: 7.636.. Train Linf norm: 252.897.. Val Linf norm: 188.561\n",
            "Epoch 86/135.. Train loss: 2.206.. Val loss: 2.146.. Train L1 norm: 9.678.. Val L1 norm: 7.636.. Train Linf norm: 254.763.. Val Linf norm: 188.561\n",
            "Epoch 87/135.. Train loss: 2.347.. Val loss: 2.146.. Train L1 norm: 9.818.. Val L1 norm: 7.636.. Train Linf norm: 259.411.. Val Linf norm: 188.561\n",
            "Epoch 88/135.. Train loss: 2.154.. Val loss: 2.146.. Train L1 norm: 9.670.. Val L1 norm: 7.636.. Train Linf norm: 254.728.. Val Linf norm: 188.561\n",
            "Epoch 89/135.. Train loss: 2.147.. Val loss: 2.146.. Train L1 norm: 9.650.. Val L1 norm: 7.636.. Train Linf norm: 253.699.. Val Linf norm: 188.561\n",
            "Epoch 90/135.. Train loss: 2.151.. Val loss: 2.146.. Train L1 norm: 9.354.. Val L1 norm: 7.636.. Train Linf norm: 244.444.. Val Linf norm: 188.560\n",
            "Epoch 91/135.. Train loss: 2.230.. Val loss: 2.146.. Train L1 norm: 9.598.. Val L1 norm: 7.636.. Train Linf norm: 252.612.. Val Linf norm: 188.560\n",
            "Epoch 92/135.. Train loss: 2.155.. Val loss: 2.146.. Train L1 norm: 9.622.. Val L1 norm: 7.636.. Train Linf norm: 252.582.. Val Linf norm: 188.560\n",
            "Epoch 93/135.. Train loss: 2.181.. Val loss: 2.146.. Train L1 norm: 9.806.. Val L1 norm: 7.636.. Train Linf norm: 259.111.. Val Linf norm: 188.560\n",
            "Epoch 94/135.. Train loss: 2.151.. Val loss: 2.146.. Train L1 norm: 9.662.. Val L1 norm: 7.636.. Train Linf norm: 254.760.. Val Linf norm: 188.560\n",
            "Epoch 95/135.. Train loss: 2.174.. Val loss: 2.146.. Train L1 norm: 9.711.. Val L1 norm: 7.636.. Train Linf norm: 255.490.. Val Linf norm: 188.560\n",
            "Epoch 96/135.. Train loss: 2.178.. Val loss: 2.146.. Train L1 norm: 9.770.. Val L1 norm: 7.636.. Train Linf norm: 257.231.. Val Linf norm: 188.560\n",
            "Epoch 97/135.. Train loss: 2.146.. Val loss: 2.146.. Train L1 norm: 9.365.. Val L1 norm: 7.636.. Train Linf norm: 245.892.. Val Linf norm: 188.560\n",
            "Epoch 98/135.. Train loss: 2.145.. Val loss: 2.146.. Train L1 norm: 9.450.. Val L1 norm: 7.636.. Train Linf norm: 247.555.. Val Linf norm: 188.560\n",
            "Epoch 99/135.. Train loss: 2.152.. Val loss: 2.146.. Train L1 norm: 9.731.. Val L1 norm: 7.636.. Train Linf norm: 257.754.. Val Linf norm: 188.560\n",
            "Epoch 100/135.. Train loss: 2.300.. Val loss: 2.146.. Train L1 norm: 9.753.. Val L1 norm: 7.636.. Train Linf norm: 257.444.. Val Linf norm: 188.560\n",
            "Epoch 101/135.. Train loss: 2.214.. Val loss: 2.146.. Train L1 norm: 9.627.. Val L1 norm: 7.636.. Train Linf norm: 253.778.. Val Linf norm: 188.561\n",
            "Epoch 102/135.. Train loss: 2.147.. Val loss: 2.146.. Train L1 norm: 9.724.. Val L1 norm: 7.636.. Train Linf norm: 256.663.. Val Linf norm: 188.561\n",
            "Epoch 103/135.. Train loss: 2.149.. Val loss: 2.146.. Train L1 norm: 9.682.. Val L1 norm: 7.636.. Train Linf norm: 254.450.. Val Linf norm: 188.561\n",
            "Epoch 104/135.. Train loss: 2.158.. Val loss: 2.146.. Train L1 norm: 9.679.. Val L1 norm: 7.636.. Train Linf norm: 254.675.. Val Linf norm: 188.561\n",
            "Epoch 105/135.. Train loss: 2.180.. Val loss: 2.146.. Train L1 norm: 9.713.. Val L1 norm: 7.636.. Train Linf norm: 255.846.. Val Linf norm: 188.561\n",
            "Epoch 106/135.. Train loss: 2.145.. Val loss: 2.146.. Train L1 norm: 9.538.. Val L1 norm: 7.636.. Train Linf norm: 249.912.. Val Linf norm: 188.561\n",
            "Epoch 107/135.. Train loss: 2.146.. Val loss: 2.146.. Train L1 norm: 9.778.. Val L1 norm: 7.636.. Train Linf norm: 257.712.. Val Linf norm: 188.560\n",
            "Epoch 108/135.. Train loss: 2.166.. Val loss: 2.146.. Train L1 norm: 9.559.. Val L1 norm: 7.636.. Train Linf norm: 251.966.. Val Linf norm: 188.560\n",
            "Epoch 109/135.. Train loss: 2.168.. Val loss: 2.146.. Train L1 norm: 9.780.. Val L1 norm: 7.636.. Train Linf norm: 258.315.. Val Linf norm: 188.560\n",
            "Epoch 110/135.. Train loss: 2.154.. Val loss: 2.146.. Train L1 norm: 9.772.. Val L1 norm: 7.636.. Train Linf norm: 257.431.. Val Linf norm: 188.560\n",
            "Epoch 111/135.. Train loss: 2.148.. Val loss: 2.146.. Train L1 norm: 9.648.. Val L1 norm: 7.636.. Train Linf norm: 254.110.. Val Linf norm: 188.560\n",
            "Epoch 112/135.. Train loss: 2.176.. Val loss: 2.146.. Train L1 norm: 9.806.. Val L1 norm: 7.636.. Train Linf norm: 259.296.. Val Linf norm: 188.560\n",
            "Epoch 113/135.. Train loss: 2.155.. Val loss: 2.146.. Train L1 norm: 9.652.. Val L1 norm: 7.636.. Train Linf norm: 253.816.. Val Linf norm: 188.560\n",
            "Epoch 114/135.. Train loss: 2.149.. Val loss: 2.146.. Train L1 norm: 9.750.. Val L1 norm: 7.636.. Train Linf norm: 257.816.. Val Linf norm: 188.560\n",
            "Epoch 115/135.. Train loss: 2.153.. Val loss: 2.146.. Train L1 norm: 9.452.. Val L1 norm: 7.636.. Train Linf norm: 247.354.. Val Linf norm: 188.560\n",
            "Epoch 116/135.. Train loss: 2.190.. Val loss: 2.146.. Train L1 norm: 9.649.. Val L1 norm: 7.636.. Train Linf norm: 254.101.. Val Linf norm: 188.560\n",
            "Epoch 117/135.. Train loss: 2.177.. Val loss: 2.146.. Train L1 norm: 9.795.. Val L1 norm: 7.636.. Train Linf norm: 258.375.. Val Linf norm: 188.560\n",
            "Epoch 118/135.. Train loss: 2.156.. Val loss: 2.146.. Train L1 norm: 9.556.. Val L1 norm: 7.636.. Train Linf norm: 251.312.. Val Linf norm: 188.560\n",
            "Epoch 119/135.. Train loss: 2.161.. Val loss: 2.146.. Train L1 norm: 9.542.. Val L1 norm: 7.636.. Train Linf norm: 250.964.. Val Linf norm: 188.561\n",
            "Epoch 120/135.. Train loss: 2.158.. Val loss: 2.146.. Train L1 norm: 10.691.. Val L1 norm: 7.636.. Train Linf norm: 286.547.. Val Linf norm: 188.561\n",
            "Epoch 121/135.. Train loss: 2.166.. Val loss: 2.146.. Train L1 norm: 9.279.. Val L1 norm: 7.636.. Train Linf norm: 242.109.. Val Linf norm: 188.561\n",
            "Epoch 122/135.. Train loss: 2.152.. Val loss: 2.146.. Train L1 norm: 9.570.. Val L1 norm: 7.636.. Train Linf norm: 251.307.. Val Linf norm: 188.561\n",
            "Epoch 123/135.. Train loss: 2.147.. Val loss: 2.146.. Train L1 norm: 9.710.. Val L1 norm: 7.636.. Train Linf norm: 255.716.. Val Linf norm: 188.561\n",
            "Epoch 124/135.. Train loss: 2.154.. Val loss: 2.146.. Train L1 norm: 9.692.. Val L1 norm: 7.636.. Train Linf norm: 255.114.. Val Linf norm: 188.561\n",
            "Epoch 125/135.. Train loss: 2.158.. Val loss: 2.146.. Train L1 norm: 9.735.. Val L1 norm: 7.636.. Train Linf norm: 255.887.. Val Linf norm: 188.561\n",
            "Epoch 126/135.. Train loss: 2.155.. Val loss: 2.146.. Train L1 norm: 9.689.. Val L1 norm: 7.636.. Train Linf norm: 255.691.. Val Linf norm: 188.561\n",
            "Epoch 127/135.. Train loss: 2.171.. Val loss: 2.146.. Train L1 norm: 9.836.. Val L1 norm: 7.636.. Train Linf norm: 260.024.. Val Linf norm: 188.561\n",
            "Epoch 128/135.. Train loss: 2.159.. Val loss: 2.146.. Train L1 norm: 9.538.. Val L1 norm: 7.636.. Train Linf norm: 250.144.. Val Linf norm: 188.561\n",
            "Epoch 129/135.. Train loss: 2.200.. Val loss: 2.146.. Train L1 norm: 9.825.. Val L1 norm: 7.636.. Train Linf norm: 259.808.. Val Linf norm: 188.561\n",
            "Epoch 130/135.. Train loss: 2.150.. Val loss: 2.146.. Train L1 norm: 9.772.. Val L1 norm: 7.636.. Train Linf norm: 257.732.. Val Linf norm: 188.561\n",
            "Epoch 131/135.. Train loss: 2.154.. Val loss: 2.146.. Train L1 norm: 9.769.. Val L1 norm: 7.636.. Train Linf norm: 257.300.. Val Linf norm: 188.560\n",
            "Epoch 132/135.. Train loss: 2.166.. Val loss: 2.146.. Train L1 norm: 9.694.. Val L1 norm: 7.636.. Train Linf norm: 255.617.. Val Linf norm: 188.560\n",
            "Epoch 133/135.. Train loss: 2.163.. Val loss: 2.146.. Train L1 norm: 9.776.. Val L1 norm: 7.636.. Train Linf norm: 258.151.. Val Linf norm: 188.561\n",
            "Epoch 134/135.. Train loss: 2.150.. Val loss: 2.146.. Train L1 norm: 9.585.. Val L1 norm: 7.636.. Train Linf norm: 251.413.. Val Linf norm: 188.561\n"
          ]
        },
        {
          "name": "stderr",
          "output_type": "stream",
          "text": [
            "\u001b[32m[I 2023-05-29 12:23:51,331]\u001b[0m Trial 5 finished with value: 7.6363470174789425 and parameters: {'n_layers': 2, 'n_units_0': 1273, 'n_units_1': 1809, 'hidden_activation': 'Swish', 'output_activation': 'Linear', 'loss': 'Quantile', 'optimizer': 'SGD', 'lr': 0.00015039909912584152, 'batch_size': 32, 'n_epochs': 135, 'scheduler': 'ReduceLROnPlateau', 'dropout_rate': 0.34500769019583016, 'weight_decay': 2.188978914255183e-05, 'momentum': 0.8315313234846106, 'factor': 0.3724005911265402, 'patience': 6, 'threshold': 0.0015182763445746425}. Best is trial 0 with value: 2.552163498687744.\u001b[0m\n"
          ]
        },
        {
          "name": "stdout",
          "output_type": "stream",
          "text": [
            "Epoch 135/135.. Train loss: 2.171.. Val loss: 2.146.. Train L1 norm: 9.479.. Val L1 norm: 7.636.. Train Linf norm: 248.740.. Val Linf norm: 188.561\n",
            "Epoch 1/72.. Train loss: 8.170.. Val loss: 4.573.. Train L1 norm: 19.278.. Val L1 norm: 4.529.. Train Linf norm: 4130.353.. Val Linf norm: 690.026\n",
            "Epoch 2/72.. Train loss: 8.542.. Val loss: 6.411.. Train L1 norm: 15.011.. Val L1 norm: 4.145.. Train Linf norm: 3072.132.. Val Linf norm: 569.591\n",
            "Epoch 3/72.. Train loss: 8.694.. Val loss: 4.384.. Train L1 norm: 12.897.. Val L1 norm: 6.461.. Train Linf norm: 2346.897.. Val Linf norm: 1136.853\n",
            "Epoch 4/72.. Train loss: 8.992.. Val loss: 4.379.. Train L1 norm: 11.786.. Val L1 norm: 6.005.. Train Linf norm: 2086.492.. Val Linf norm: 1020.615\n"
          ]
        },
        {
          "name": "stderr",
          "output_type": "stream",
          "text": [
            "\u001b[32m[I 2023-05-29 12:23:58,660]\u001b[0m Trial 6 pruned. \u001b[0m\n"
          ]
        },
        {
          "name": "stdout",
          "output_type": "stream",
          "text": [
            "Epoch 5/72.. Train loss: 9.537.. Val loss: 4.492.. Train L1 norm: 21.733.. Val L1 norm: 10.893.. Train Linf norm: 4543.123.. Val Linf norm: 2003.641\n"
          ]
        },
        {
          "name": "stderr",
          "output_type": "stream",
          "text": [
            "WARNING:tensorboardX.x2num:NaN or Inf found in input tensor.\n",
            "WARNING:tensorboardX.x2num:NaN or Inf found in input tensor.\n",
            "WARNING:tensorboardX.x2num:NaN or Inf found in input tensor.\n",
            "WARNING:tensorboardX.x2num:NaN or Inf found in input tensor.\n",
            "WARNING:tensorboardX.x2num:NaN or Inf found in input tensor.\n",
            "WARNING:tensorboardX.x2num:NaN or Inf found in input tensor.\n",
            "/usr/local/lib/python3.10/dist-packages/optuna/pruners/_percentile.py:21: RuntimeWarning: All-NaN slice encountered\n",
            "  return np.nanmin(values)\n",
            "\u001b[32m[I 2023-05-29 12:24:04,084]\u001b[0m Trial 7 pruned. \u001b[0m\n"
          ]
        },
        {
          "name": "stdout",
          "output_type": "stream",
          "text": [
            "Epoch 1/113.. Train loss: nan.. Val loss: nan.. Train L1 norm: nan.. Val L1 norm: nan.. Train Linf norm: nan.. Val Linf norm: nan\n"
          ]
        },
        {
          "name": "stderr",
          "output_type": "stream",
          "text": [
            "<ipython-input-178-ddc3c9d46736>:149: FutureWarning: suggest_loguniform has been deprecated in v3.0.0. This feature will be removed in v6.0.0. See https://github.com/optuna/optuna/releases/tag/v3.0.0. Use :func:`~optuna.trial.Trial.suggest_float` instead.\n",
            "  weight_decay = trial.suggest_loguniform(\"weight_decay\", 1e-5, 1e-2)\n",
            "<ipython-input-178-ddc3c9d46736>:150: FutureWarning: suggest_uniform has been deprecated in v3.0.0. This feature will be removed in v6.0.0. See https://github.com/optuna/optuna/releases/tag/v3.0.0. Use :func:`~optuna.trial.Trial.suggest_float` instead.\n",
            "  beta1 = trial.suggest_uniform(\"beta1\", 0.9, 0.999)\n",
            "<ipython-input-178-ddc3c9d46736>:151: FutureWarning: suggest_uniform has been deprecated in v3.0.0. This feature will be removed in v6.0.0. See https://github.com/optuna/optuna/releases/tag/v3.0.0. Use :func:`~optuna.trial.Trial.suggest_float` instead.\n",
            "  beta2 = trial.suggest_uniform(\"beta2\", 0.999, 0.9999)\n"
          ]
        },
        {
          "name": "stdout",
          "output_type": "stream",
          "text": [
            "Epoch 1/57.. Train loss: 4.489.. Val loss: 3.899.. Train L1 norm: 5.722.. Val L1 norm: 4.141.. Train Linf norm: 282.689.. Val Linf norm: 182.727\n",
            "Epoch 2/57.. Train loss: 4.135.. Val loss: 3.777.. Train L1 norm: 8.429.. Val L1 norm: 5.096.. Train Linf norm: 432.650.. Val Linf norm: 234.784\n",
            "Epoch 3/57.. Train loss: 3.907.. Val loss: 3.719.. Train L1 norm: 8.735.. Val L1 norm: 5.686.. Train Linf norm: 446.914.. Val Linf norm: 266.405\n",
            "Epoch 4/57.. Train loss: 3.867.. Val loss: 3.708.. Train L1 norm: 9.246.. Val L1 norm: 5.770.. Train Linf norm: 476.070.. Val Linf norm: 270.784\n"
          ]
        },
        {
          "name": "stderr",
          "output_type": "stream",
          "text": [
            "\u001b[32m[I 2023-05-29 12:26:00,493]\u001b[0m Trial 8 pruned. \u001b[0m\n"
          ]
        },
        {
          "name": "stdout",
          "output_type": "stream",
          "text": [
            "Epoch 5/57.. Train loss: 3.836.. Val loss: 3.704.. Train L1 norm: 9.208.. Val L1 norm: 5.791.. Train Linf norm: 470.293.. Val Linf norm: 271.804\n"
          ]
        },
        {
          "name": "stderr",
          "output_type": "stream",
          "text": [
            "<ipython-input-178-ddc3c9d46736>:63: FutureWarning: suggest_uniform has been deprecated in v3.0.0. This feature will be removed in v6.0.0. See https://github.com/optuna/optuna/releases/tag/v3.0.0. Use :func:`~optuna.trial.Trial.suggest_float` instead.\n",
            "  init = trial.suggest_uniform(\"prelu_init\", 0.1, 0.3)\n"
          ]
        },
        {
          "name": "stdout",
          "output_type": "stream",
          "text": [
            "Epoch 1/80.. Train loss: 2.709.. Val loss: 2.465.. Train L1 norm: 6.275.. Val L1 norm: 1.598.. Train Linf norm: 2304.239.. Val Linf norm: 261.258\n",
            "Epoch 2/80.. Train loss: 2.381.. Val loss: 2.182.. Train L1 norm: 3.480.. Val L1 norm: 5.282.. Train Linf norm: 983.666.. Val Linf norm: 1704.902\n",
            "Epoch 3/80.. Train loss: 2.434.. Val loss: 2.184.. Train L1 norm: 4.687.. Val L1 norm: 6.131.. Train Linf norm: 1311.167.. Val Linf norm: 2046.995\n",
            "Epoch 4/80.. Train loss: 2.447.. Val loss: 2.099.. Train L1 norm: 7.428.. Val L1 norm: 6.987.. Train Linf norm: 2793.105.. Val Linf norm: 2347.827\n",
            "Epoch 5/80.. Train loss: 2.330.. Val loss: 2.358.. Train L1 norm: 8.323.. Val L1 norm: 2.725.. Train Linf norm: 3125.929.. Val Linf norm: 700.503\n",
            "Epoch 6/80.. Train loss: 2.204.. Val loss: 2.171.. Train L1 norm: 6.109.. Val L1 norm: 5.128.. Train Linf norm: 1945.476.. Val Linf norm: 1617.682\n",
            "Epoch 7/80.. Train loss: 2.128.. Val loss: 2.025.. Train L1 norm: 8.731.. Val L1 norm: 8.358.. Train Linf norm: 3096.345.. Val Linf norm: 2827.935\n",
            "Epoch 8/80.. Train loss: 2.034.. Val loss: 1.948.. Train L1 norm: 7.121.. Val L1 norm: 10.165.. Train Linf norm: 2118.035.. Val Linf norm: 3586.296\n",
            "Epoch 9/80.. Train loss: 2.022.. Val loss: 1.972.. Train L1 norm: 10.678.. Val L1 norm: 9.365.. Train Linf norm: 3954.605.. Val Linf norm: 3199.892\n",
            "Epoch 10/80.. Train loss: 2.026.. Val loss: 1.954.. Train L1 norm: 11.171.. Val L1 norm: 10.136.. Train Linf norm: 3630.000.. Val Linf norm: 3526.299\n",
            "Epoch 11/80.. Train loss: 1.918.. Val loss: 1.964.. Train L1 norm: 10.653.. Val L1 norm: 6.727.. Train Linf norm: 3926.135.. Val Linf norm: 2402.984\n",
            "Epoch 12/80.. Train loss: 1.840.. Val loss: 1.654.. Train L1 norm: 7.161.. Val L1 norm: 7.936.. Train Linf norm: 2009.450.. Val Linf norm: 2772.181\n",
            "Epoch 13/80.. Train loss: 1.528.. Val loss: 1.444.. Train L1 norm: 7.607.. Val L1 norm: 8.603.. Train Linf norm: 2783.351.. Val Linf norm: 3099.178\n",
            "Epoch 14/80.. Train loss: 1.475.. Val loss: 1.361.. Train L1 norm: 5.844.. Val L1 norm: 8.114.. Train Linf norm: 1455.157.. Val Linf norm: 3104.429\n",
            "Epoch 15/80.. Train loss: 1.449.. Val loss: 1.395.. Train L1 norm: 6.064.. Val L1 norm: 8.227.. Train Linf norm: 2037.004.. Val Linf norm: 3027.733\n",
            "Epoch 16/80.. Train loss: 1.434.. Val loss: 1.361.. Train L1 norm: 6.288.. Val L1 norm: 8.917.. Train Linf norm: 2175.046.. Val Linf norm: 3337.981\n",
            "Epoch 17/80.. Train loss: 1.419.. Val loss: 1.338.. Train L1 norm: 6.207.. Val L1 norm: 7.903.. Train Linf norm: 2124.770.. Val Linf norm: 3051.237\n",
            "Epoch 18/80.. Train loss: 1.410.. Val loss: 1.289.. Train L1 norm: 7.706.. Val L1 norm: 8.453.. Train Linf norm: 2883.629.. Val Linf norm: 3290.278\n",
            "Epoch 19/80.. Train loss: 1.390.. Val loss: 1.368.. Train L1 norm: 5.143.. Val L1 norm: 9.667.. Train Linf norm: 1618.022.. Val Linf norm: 3700.097\n",
            "Epoch 20/80.. Train loss: 1.388.. Val loss: 1.352.. Train L1 norm: 5.986.. Val L1 norm: 5.588.. Train Linf norm: 2046.898.. Val Linf norm: 2158.828\n",
            "Epoch 21/80.. Train loss: 1.370.. Val loss: 1.281.. Train L1 norm: 4.960.. Val L1 norm: 8.013.. Train Linf norm: 1492.914.. Val Linf norm: 3103.760\n",
            "Epoch 22/80.. Train loss: 1.369.. Val loss: 1.298.. Train L1 norm: 6.425.. Val L1 norm: 8.315.. Train Linf norm: 2308.743.. Val Linf norm: 3106.676\n",
            "Epoch 23/80.. Train loss: 1.351.. Val loss: 1.203.. Train L1 norm: 7.117.. Val L1 norm: 6.220.. Train Linf norm: 2637.319.. Val Linf norm: 2427.318\n",
            "Epoch 24/80.. Train loss: 1.344.. Val loss: 1.332.. Train L1 norm: 5.732.. Val L1 norm: 9.403.. Train Linf norm: 1951.001.. Val Linf norm: 3559.914\n",
            "Epoch 25/80.. Train loss: 1.295.. Val loss: 1.176.. Train L1 norm: 7.836.. Val L1 norm: 7.139.. Train Linf norm: 3068.246.. Val Linf norm: 2803.054\n",
            "Epoch 26/80.. Train loss: 1.287.. Val loss: 1.180.. Train L1 norm: 5.689.. Val L1 norm: 7.501.. Train Linf norm: 1929.580.. Val Linf norm: 2909.140\n",
            "Epoch 27/80.. Train loss: 1.279.. Val loss: 1.150.. Train L1 norm: 7.622.. Val L1 norm: 6.494.. Train Linf norm: 2965.642.. Val Linf norm: 2567.790\n",
            "Epoch 28/80.. Train loss: 1.276.. Val loss: 1.149.. Train L1 norm: 3.583.. Val L1 norm: 7.127.. Train Linf norm: 904.382.. Val Linf norm: 2812.154\n",
            "Epoch 29/80.. Train loss: 1.268.. Val loss: 1.157.. Train L1 norm: 5.929.. Val L1 norm: 7.890.. Train Linf norm: 2121.669.. Val Linf norm: 3138.165\n",
            "Epoch 30/80.. Train loss: 1.268.. Val loss: 1.158.. Train L1 norm: 5.248.. Val L1 norm: 8.324.. Train Linf norm: 1758.446.. Val Linf norm: 3336.198\n",
            "Epoch 31/80.. Train loss: 1.263.. Val loss: 1.140.. Train L1 norm: 4.781.. Val L1 norm: 6.899.. Train Linf norm: 1532.354.. Val Linf norm: 2737.497\n",
            "Epoch 32/80.. Train loss: 1.263.. Val loss: 1.171.. Train L1 norm: 4.885.. Val L1 norm: 7.637.. Train Linf norm: 1602.208.. Val Linf norm: 2977.115\n",
            "Epoch 33/80.. Train loss: 1.257.. Val loss: 1.172.. Train L1 norm: 5.514.. Val L1 norm: 8.336.. Train Linf norm: 1897.475.. Val Linf norm: 3314.305\n",
            "Epoch 34/80.. Train loss: 1.259.. Val loss: 1.144.. Train L1 norm: 6.067.. Val L1 norm: 7.137.. Train Linf norm: 2198.669.. Val Linf norm: 2806.528\n",
            "Epoch 35/80.. Train loss: 1.253.. Val loss: 1.120.. Train L1 norm: 6.626.. Val L1 norm: 6.784.. Train Linf norm: 2487.996.. Val Linf norm: 2717.473\n",
            "Epoch 36/80.. Train loss: 1.250.. Val loss: 1.113.. Train L1 norm: 6.274.. Val L1 norm: 6.896.. Train Linf norm: 2303.846.. Val Linf norm: 2759.339\n",
            "Epoch 37/80.. Train loss: 1.243.. Val loss: 1.120.. Train L1 norm: 6.128.. Val L1 norm: 7.241.. Train Linf norm: 2241.496.. Val Linf norm: 2866.090\n",
            "Epoch 38/80.. Train loss: 1.244.. Val loss: 1.125.. Train L1 norm: 6.227.. Val L1 norm: 7.332.. Train Linf norm: 2278.263.. Val Linf norm: 2888.725\n",
            "Epoch 39/80.. Train loss: 1.236.. Val loss: 1.126.. Train L1 norm: 5.382.. Val L1 norm: 7.299.. Train Linf norm: 1882.685.. Val Linf norm: 2876.381\n",
            "Epoch 40/80.. Train loss: 1.236.. Val loss: 1.121.. Train L1 norm: 5.140.. Val L1 norm: 7.371.. Train Linf norm: 1755.448.. Val Linf norm: 2919.363\n",
            "Epoch 41/80.. Train loss: 1.233.. Val loss: 1.122.. Train L1 norm: 5.423.. Val L1 norm: 7.257.. Train Linf norm: 1882.089.. Val Linf norm: 2857.492\n",
            "Epoch 42/80.. Train loss: 1.237.. Val loss: 1.109.. Train L1 norm: 5.580.. Val L1 norm: 7.067.. Train Linf norm: 1764.229.. Val Linf norm: 2801.139\n",
            "Epoch 43/80.. Train loss: 1.240.. Val loss: 1.131.. Train L1 norm: 4.991.. Val L1 norm: 7.557.. Train Linf norm: 1690.391.. Val Linf norm: 2982.286\n",
            "Epoch 44/80.. Train loss: 1.240.. Val loss: 1.116.. Train L1 norm: 5.109.. Val L1 norm: 7.399.. Train Linf norm: 1728.153.. Val Linf norm: 2950.605\n",
            "Epoch 45/80.. Train loss: 1.236.. Val loss: 1.113.. Train L1 norm: 6.233.. Val L1 norm: 7.292.. Train Linf norm: 2305.679.. Val Linf norm: 2888.133\n",
            "Epoch 46/80.. Train loss: 1.234.. Val loss: 1.111.. Train L1 norm: 5.343.. Val L1 norm: 7.223.. Train Linf norm: 1812.911.. Val Linf norm: 2864.752\n",
            "Epoch 47/80.. Train loss: 1.237.. Val loss: 1.110.. Train L1 norm: 4.580.. Val L1 norm: 7.205.. Train Linf norm: 1460.539.. Val Linf norm: 2859.428\n",
            "Epoch 48/80.. Train loss: 1.237.. Val loss: 1.116.. Train L1 norm: 5.781.. Val L1 norm: 7.444.. Train Linf norm: 2071.220.. Val Linf norm: 2950.832\n",
            "Epoch 49/80.. Train loss: 1.236.. Val loss: 1.110.. Train L1 norm: 6.045.. Val L1 norm: 7.255.. Train Linf norm: 2197.488.. Val Linf norm: 2881.355\n",
            "Epoch 50/80.. Train loss: 1.238.. Val loss: 1.117.. Train L1 norm: 4.655.. Val L1 norm: 7.376.. Train Linf norm: 1492.879.. Val Linf norm: 2923.558\n",
            "Epoch 51/80.. Train loss: 1.232.. Val loss: 1.111.. Train L1 norm: 4.090.. Val L1 norm: 7.105.. Train Linf norm: 1221.465.. Val Linf norm: 2810.936\n",
            "Epoch 52/80.. Train loss: 1.232.. Val loss: 1.113.. Train L1 norm: 4.636.. Val L1 norm: 7.285.. Train Linf norm: 1480.904.. Val Linf norm: 2886.639\n",
            "Epoch 53/80.. Train loss: 1.232.. Val loss: 1.116.. Train L1 norm: 5.604.. Val L1 norm: 7.408.. Train Linf norm: 1986.814.. Val Linf norm: 2935.175\n",
            "Epoch 54/80.. Train loss: 1.234.. Val loss: 1.110.. Train L1 norm: 5.347.. Val L1 norm: 7.304.. Train Linf norm: 1798.473.. Val Linf norm: 2902.138\n",
            "Epoch 55/80.. Train loss: 1.238.. Val loss: 1.115.. Train L1 norm: 4.758.. Val L1 norm: 7.306.. Train Linf norm: 1524.671.. Val Linf norm: 2891.962\n",
            "Epoch 56/80.. Train loss: 1.233.. Val loss: 1.115.. Train L1 norm: 4.775.. Val L1 norm: 7.357.. Train Linf norm: 1565.181.. Val Linf norm: 2909.051\n",
            "Epoch 57/80.. Train loss: 1.237.. Val loss: 1.112.. Train L1 norm: 3.980.. Val L1 norm: 7.200.. Train Linf norm: 1142.110.. Val Linf norm: 2841.926\n",
            "Epoch 58/80.. Train loss: 1.236.. Val loss: 1.111.. Train L1 norm: 5.479.. Val L1 norm: 7.212.. Train Linf norm: 1912.869.. Val Linf norm: 2851.160\n",
            "Epoch 59/80.. Train loss: 1.233.. Val loss: 1.110.. Train L1 norm: 5.048.. Val L1 norm: 7.116.. Train Linf norm: 1674.694.. Val Linf norm: 2807.812\n",
            "Epoch 60/80.. Train loss: 1.233.. Val loss: 1.111.. Train L1 norm: 6.100.. Val L1 norm: 7.220.. Train Linf norm: 2226.602.. Val Linf norm: 2857.657\n",
            "Epoch 61/80.. Train loss: 1.232.. Val loss: 1.111.. Train L1 norm: 5.141.. Val L1 norm: 7.215.. Train Linf norm: 1716.596.. Val Linf norm: 2852.993\n",
            "Epoch 62/80.. Train loss: 1.232.. Val loss: 1.111.. Train L1 norm: 4.678.. Val L1 norm: 7.209.. Train Linf norm: 1510.634.. Val Linf norm: 2852.018\n",
            "Epoch 63/80.. Train loss: 1.227.. Val loss: 1.110.. Train L1 norm: 5.733.. Val L1 norm: 7.190.. Train Linf norm: 2069.164.. Val Linf norm: 2843.069\n",
            "Epoch 64/80.. Train loss: 1.229.. Val loss: 1.109.. Train L1 norm: 6.002.. Val L1 norm: 7.172.. Train Linf norm: 2173.943.. Val Linf norm: 2838.711\n",
            "Epoch 65/80.. Train loss: 1.227.. Val loss: 1.109.. Train L1 norm: 7.083.. Val L1 norm: 7.157.. Train Linf norm: 2710.928.. Val Linf norm: 2830.138\n",
            "Epoch 66/80.. Train loss: 1.231.. Val loss: 1.110.. Train L1 norm: 4.075.. Val L1 norm: 7.192.. Train Linf norm: 1194.601.. Val Linf norm: 2843.899\n",
            "Epoch 67/80.. Train loss: 1.229.. Val loss: 1.110.. Train L1 norm: 5.500.. Val L1 norm: 7.193.. Train Linf norm: 1947.979.. Val Linf norm: 2844.434\n",
            "Epoch 68/80.. Train loss: 1.231.. Val loss: 1.109.. Train L1 norm: 6.950.. Val L1 norm: 7.176.. Train Linf norm: 2664.967.. Val Linf norm: 2838.398\n",
            "Epoch 69/80.. Train loss: 1.228.. Val loss: 1.109.. Train L1 norm: 6.406.. Val L1 norm: 7.200.. Train Linf norm: 2401.975.. Val Linf norm: 2850.022\n",
            "Epoch 70/80.. Train loss: 1.232.. Val loss: 1.110.. Train L1 norm: 5.517.. Val L1 norm: 7.223.. Train Linf norm: 1884.469.. Val Linf norm: 2858.116\n",
            "Epoch 71/80.. Train loss: 1.229.. Val loss: 1.110.. Train L1 norm: 4.877.. Val L1 norm: 7.235.. Train Linf norm: 1593.938.. Val Linf norm: 2864.067\n",
            "Epoch 72/80.. Train loss: 1.231.. Val loss: 1.110.. Train L1 norm: 5.251.. Val L1 norm: 7.234.. Train Linf norm: 1786.141.. Val Linf norm: 2863.160\n",
            "Epoch 73/80.. Train loss: 1.235.. Val loss: 1.110.. Train L1 norm: 7.316.. Val L1 norm: 7.220.. Train Linf norm: 2849.815.. Val Linf norm: 2858.266\n",
            "Epoch 74/80.. Train loss: 1.232.. Val loss: 1.110.. Train L1 norm: 5.541.. Val L1 norm: 7.223.. Train Linf norm: 1930.293.. Val Linf norm: 2858.786\n",
            "Epoch 75/80.. Train loss: 1.227.. Val loss: 1.110.. Train L1 norm: 5.164.. Val L1 norm: 7.220.. Train Linf norm: 1772.128.. Val Linf norm: 2857.852\n",
            "Epoch 76/80.. Train loss: 1.231.. Val loss: 1.109.. Train L1 norm: 5.542.. Val L1 norm: 7.214.. Train Linf norm: 1937.156.. Val Linf norm: 2856.106\n",
            "Epoch 77/80.. Train loss: 1.232.. Val loss: 1.109.. Train L1 norm: 5.440.. Val L1 norm: 7.202.. Train Linf norm: 1879.471.. Val Linf norm: 2851.307\n",
            "Epoch 78/80.. Train loss: 1.229.. Val loss: 1.109.. Train L1 norm: 4.595.. Val L1 norm: 7.207.. Train Linf norm: 1481.899.. Val Linf norm: 2853.397\n",
            "Epoch 79/80.. Train loss: 1.229.. Val loss: 1.109.. Train L1 norm: 5.207.. Val L1 norm: 7.218.. Train Linf norm: 1748.181.. Val Linf norm: 2857.654\n"
          ]
        },
        {
          "name": "stderr",
          "output_type": "stream",
          "text": [
            "\u001b[32m[I 2023-05-29 12:29:00,091]\u001b[0m Trial 9 finished with value: 7.221909285990397 and parameters: {'n_layers': 9, 'n_units_0': 1079, 'n_units_1': 138, 'n_units_2': 598, 'n_units_3': 4018, 'n_units_4': 277, 'n_units_5': 2016, 'n_units_6': 1140, 'n_units_7': 945, 'n_units_8': 1533, 'hidden_activation': 'PReLU', 'output_activation': 'Linear', 'loss': 'Quantile', 'optimizer': 'RMSprop', 'lr': 0.00012644103291808062, 'batch_size': 512, 'n_epochs': 80, 'scheduler': 'StepLR', 'prelu_init': 0.1314780150983471, 'dropout_rate': 0.014379708322539653, 'step_size': 12, 'gamma': 0.23142844393833426}. Best is trial 0 with value: 2.552163498687744.\u001b[0m\n"
          ]
        },
        {
          "name": "stdout",
          "output_type": "stream",
          "text": [
            "Epoch 80/80.. Train loss: 1.228.. Val loss: 1.110.. Train L1 norm: 4.566.. Val L1 norm: 7.222.. Train Linf norm: 1442.877.. Val Linf norm: 2858.823\n",
            "Epoch 1/141.. Train loss: 2.391.. Val loss: 2.365.. Train L1 norm: 3.405.. Val L1 norm: 2.718.. Train Linf norm: 1989.493.. Val Linf norm: 1297.170\n",
            "Epoch 2/141.. Train loss: 2.383.. Val loss: 2.352.. Train L1 norm: 3.478.. Val L1 norm: 2.872.. Train Linf norm: 1971.755.. Val Linf norm: 1405.779\n",
            "Epoch 3/141.. Train loss: 2.365.. Val loss: 2.345.. Train L1 norm: 4.645.. Val L1 norm: 2.963.. Train Linf norm: 2995.098.. Val Linf norm: 1469.486\n",
            "Epoch 4/141.. Train loss: 2.388.. Val loss: 2.340.. Train L1 norm: 4.196.. Val L1 norm: 3.031.. Train Linf norm: 2607.618.. Val Linf norm: 1516.803\n",
            "Epoch 5/141.. Train loss: 2.356.. Val loss: 2.336.. Train L1 norm: 3.409.. Val L1 norm: 3.085.. Train Linf norm: 1811.648.. Val Linf norm: 1554.557\n",
            "Epoch 6/141.. Train loss: 2.347.. Val loss: 2.335.. Train L1 norm: 3.784.. Val L1 norm: 3.092.. Train Linf norm: 2151.708.. Val Linf norm: 1559.125\n",
            "Epoch 7/141.. Train loss: 2.348.. Val loss: 2.335.. Train L1 norm: 3.767.. Val L1 norm: 3.097.. Train Linf norm: 2099.667.. Val Linf norm: 1563.066\n",
            "Epoch 8/141.. Train loss: 2.347.. Val loss: 2.334.. Train L1 norm: 4.305.. Val L1 norm: 3.102.. Train Linf norm: 2344.106.. Val Linf norm: 1566.487\n",
            "Epoch 9/141.. Train loss: 2.365.. Val loss: 2.334.. Train L1 norm: 4.531.. Val L1 norm: 3.107.. Train Linf norm: 2919.886.. Val Linf norm: 1569.705\n",
            "Epoch 10/141.. Train loss: 2.363.. Val loss: 2.334.. Train L1 norm: 3.673.. Val L1 norm: 3.111.. Train Linf norm: 2069.900.. Val Linf norm: 1572.336\n",
            "Epoch 11/141.. Train loss: 2.366.. Val loss: 2.334.. Train L1 norm: 4.302.. Val L1 norm: 3.111.. Train Linf norm: 2652.991.. Val Linf norm: 1572.530\n",
            "Epoch 12/141.. Train loss: 2.361.. Val loss: 2.334.. Train L1 norm: 4.190.. Val L1 norm: 3.111.. Train Linf norm: 2245.905.. Val Linf norm: 1572.700\n",
            "Epoch 13/141.. Train loss: 2.366.. Val loss: 2.334.. Train L1 norm: 4.860.. Val L1 norm: 3.111.. Train Linf norm: 3289.511.. Val Linf norm: 1572.840\n",
            "Epoch 14/141.. Train loss: 2.361.. Val loss: 2.334.. Train L1 norm: 3.448.. Val L1 norm: 3.112.. Train Linf norm: 1835.334.. Val Linf norm: 1572.950\n",
            "Epoch 15/141.. Train loss: 2.349.. Val loss: 2.334.. Train L1 norm: 3.479.. Val L1 norm: 3.112.. Train Linf norm: 1839.929.. Val Linf norm: 1573.059\n",
            "Epoch 16/141.. Train loss: 2.352.. Val loss: 2.334.. Train L1 norm: 4.323.. Val L1 norm: 3.112.. Train Linf norm: 2746.955.. Val Linf norm: 1573.052\n",
            "Epoch 17/141.. Train loss: 2.355.. Val loss: 2.334.. Train L1 norm: 4.437.. Val L1 norm: 3.112.. Train Linf norm: 2814.924.. Val Linf norm: 1573.042\n",
            "Epoch 18/141.. Train loss: 2.392.. Val loss: 2.334.. Train L1 norm: 3.609.. Val L1 norm: 3.112.. Train Linf norm: 1837.428.. Val Linf norm: 1573.033\n",
            "Epoch 19/141.. Train loss: 2.350.. Val loss: 2.334.. Train L1 norm: 4.098.. Val L1 norm: 3.112.. Train Linf norm: 2480.176.. Val Linf norm: 1573.026\n",
            "Epoch 20/141.. Train loss: 2.384.. Val loss: 2.334.. Train L1 norm: 4.470.. Val L1 norm: 3.112.. Train Linf norm: 2863.519.. Val Linf norm: 1573.017\n",
            "Epoch 21/141.. Train loss: 2.349.. Val loss: 2.334.. Train L1 norm: 4.809.. Val L1 norm: 3.112.. Train Linf norm: 3222.449.. Val Linf norm: 1573.016\n",
            "Epoch 22/141.. Train loss: 2.357.. Val loss: 2.334.. Train L1 norm: 3.772.. Val L1 norm: 3.112.. Train Linf norm: 2020.736.. Val Linf norm: 1573.015\n",
            "Epoch 23/141.. Train loss: 2.358.. Val loss: 2.334.. Train L1 norm: 4.079.. Val L1 norm: 3.112.. Train Linf norm: 2487.964.. Val Linf norm: 1573.015\n",
            "Epoch 24/141.. Train loss: 2.361.. Val loss: 2.334.. Train L1 norm: 4.006.. Val L1 norm: 3.112.. Train Linf norm: 2315.931.. Val Linf norm: 1573.014\n",
            "Epoch 25/141.. Train loss: 2.360.. Val loss: 2.334.. Train L1 norm: 3.728.. Val L1 norm: 3.112.. Train Linf norm: 2094.702.. Val Linf norm: 1573.014\n",
            "Epoch 26/141.. Train loss: 2.376.. Val loss: 2.334.. Train L1 norm: 3.559.. Val L1 norm: 3.112.. Train Linf norm: 1578.712.. Val Linf norm: 1573.014\n",
            "Epoch 27/141.. Train loss: 2.334.. Val loss: 2.334.. Train L1 norm: 4.066.. Val L1 norm: 3.112.. Train Linf norm: 2451.203.. Val Linf norm: 1573.014\n",
            "Epoch 28/141.. Train loss: 2.347.. Val loss: 2.334.. Train L1 norm: 4.228.. Val L1 norm: 3.112.. Train Linf norm: 2618.493.. Val Linf norm: 1573.014\n",
            "Epoch 29/141.. Train loss: 2.357.. Val loss: 2.334.. Train L1 norm: 4.130.. Val L1 norm: 3.112.. Train Linf norm: 2440.698.. Val Linf norm: 1573.014\n",
            "Epoch 30/141.. Train loss: 2.349.. Val loss: 2.334.. Train L1 norm: 3.631.. Val L1 norm: 3.112.. Train Linf norm: 1928.075.. Val Linf norm: 1573.014\n",
            "Epoch 31/141.. Train loss: 2.374.. Val loss: 2.334.. Train L1 norm: 4.035.. Val L1 norm: 3.112.. Train Linf norm: 2416.139.. Val Linf norm: 1573.014\n",
            "Epoch 32/141.. Train loss: 2.367.. Val loss: 2.334.. Train L1 norm: 3.742.. Val L1 norm: 3.112.. Train Linf norm: 1859.294.. Val Linf norm: 1573.014\n",
            "Epoch 33/141.. Train loss: 2.373.. Val loss: 2.334.. Train L1 norm: 3.443.. Val L1 norm: 3.112.. Train Linf norm: 1832.367.. Val Linf norm: 1573.014\n",
            "Epoch 34/141.. Train loss: 2.376.. Val loss: 2.334.. Train L1 norm: 4.518.. Val L1 norm: 3.112.. Train Linf norm: 2884.715.. Val Linf norm: 1573.014\n",
            "Epoch 35/141.. Train loss: 2.350.. Val loss: 2.334.. Train L1 norm: 3.523.. Val L1 norm: 3.112.. Train Linf norm: 1728.994.. Val Linf norm: 1573.014\n",
            "Epoch 36/141.. Train loss: 2.343.. Val loss: 2.334.. Train L1 norm: 3.833.. Val L1 norm: 3.112.. Train Linf norm: 2206.005.. Val Linf norm: 1573.014\n",
            "Epoch 37/141.. Train loss: 2.335.. Val loss: 2.334.. Train L1 norm: 4.157.. Val L1 norm: 3.112.. Train Linf norm: 2464.111.. Val Linf norm: 1573.014\n",
            "Epoch 38/141.. Train loss: 2.354.. Val loss: 2.334.. Train L1 norm: 3.937.. Val L1 norm: 3.112.. Train Linf norm: 2313.519.. Val Linf norm: 1573.014\n",
            "Epoch 39/141.. Train loss: 2.368.. Val loss: 2.334.. Train L1 norm: 4.347.. Val L1 norm: 3.112.. Train Linf norm: 2746.471.. Val Linf norm: 1573.014\n",
            "Epoch 40/141.. Train loss: 2.353.. Val loss: 2.334.. Train L1 norm: 4.455.. Val L1 norm: 3.112.. Train Linf norm: 2810.548.. Val Linf norm: 1573.014\n",
            "Epoch 41/141.. Train loss: 2.377.. Val loss: 2.334.. Train L1 norm: 3.929.. Val L1 norm: 3.112.. Train Linf norm: 2308.614.. Val Linf norm: 1573.014\n",
            "Epoch 42/141.. Train loss: 2.350.. Val loss: 2.334.. Train L1 norm: 3.768.. Val L1 norm: 3.112.. Train Linf norm: 2073.306.. Val Linf norm: 1573.014\n",
            "Epoch 43/141.. Train loss: 2.366.. Val loss: 2.334.. Train L1 norm: 3.643.. Val L1 norm: 3.112.. Train Linf norm: 2008.506.. Val Linf norm: 1573.014\n",
            "Epoch 44/141.. Train loss: 2.361.. Val loss: 2.334.. Train L1 norm: 4.540.. Val L1 norm: 3.112.. Train Linf norm: 2928.648.. Val Linf norm: 1573.014\n",
            "Epoch 45/141.. Train loss: 2.349.. Val loss: 2.334.. Train L1 norm: 3.686.. Val L1 norm: 3.112.. Train Linf norm: 2094.146.. Val Linf norm: 1573.014\n",
            "Epoch 46/141.. Train loss: 2.354.. Val loss: 2.334.. Train L1 norm: 4.259.. Val L1 norm: 3.112.. Train Linf norm: 2613.565.. Val Linf norm: 1573.014\n",
            "Epoch 47/141.. Train loss: 2.357.. Val loss: 2.334.. Train L1 norm: 4.009.. Val L1 norm: 3.112.. Train Linf norm: 2387.823.. Val Linf norm: 1573.014\n",
            "Epoch 48/141.. Train loss: 2.382.. Val loss: 2.334.. Train L1 norm: 4.014.. Val L1 norm: 3.112.. Train Linf norm: 2278.825.. Val Linf norm: 1573.014\n",
            "Epoch 49/141.. Train loss: 2.348.. Val loss: 2.334.. Train L1 norm: 4.192.. Val L1 norm: 3.112.. Train Linf norm: 2543.581.. Val Linf norm: 1573.014\n",
            "Epoch 50/141.. Train loss: 2.355.. Val loss: 2.334.. Train L1 norm: 3.959.. Val L1 norm: 3.112.. Train Linf norm: 2364.045.. Val Linf norm: 1573.014\n",
            "Epoch 51/141.. Train loss: 2.361.. Val loss: 2.334.. Train L1 norm: 5.223.. Val L1 norm: 3.112.. Train Linf norm: 3635.426.. Val Linf norm: 1573.014\n",
            "Epoch 52/141.. Train loss: 2.351.. Val loss: 2.334.. Train L1 norm: 4.135.. Val L1 norm: 3.112.. Train Linf norm: 2527.588.. Val Linf norm: 1573.014\n",
            "Epoch 53/141.. Train loss: 2.358.. Val loss: 2.334.. Train L1 norm: 5.105.. Val L1 norm: 3.112.. Train Linf norm: 3260.033.. Val Linf norm: 1573.014\n",
            "Epoch 54/141.. Train loss: 2.345.. Val loss: 2.334.. Train L1 norm: 3.592.. Val L1 norm: 3.112.. Train Linf norm: 1901.895.. Val Linf norm: 1573.014\n",
            "Epoch 55/141.. Train loss: 2.374.. Val loss: 2.334.. Train L1 norm: 4.696.. Val L1 norm: 3.112.. Train Linf norm: 3110.334.. Val Linf norm: 1573.014\n",
            "Epoch 56/141.. Train loss: 2.387.. Val loss: 2.334.. Train L1 norm: 3.862.. Val L1 norm: 3.112.. Train Linf norm: 2241.165.. Val Linf norm: 1573.014\n",
            "Epoch 57/141.. Train loss: 2.374.. Val loss: 2.334.. Train L1 norm: 4.799.. Val L1 norm: 3.112.. Train Linf norm: 3224.042.. Val Linf norm: 1573.014\n",
            "Epoch 58/141.. Train loss: 2.365.. Val loss: 2.334.. Train L1 norm: 4.418.. Val L1 norm: 3.112.. Train Linf norm: 2837.410.. Val Linf norm: 1573.014\n",
            "Epoch 59/141.. Train loss: 2.368.. Val loss: 2.334.. Train L1 norm: 3.629.. Val L1 norm: 3.112.. Train Linf norm: 1837.584.. Val Linf norm: 1573.014\n",
            "Epoch 60/141.. Train loss: 2.348.. Val loss: 2.334.. Train L1 norm: 5.084.. Val L1 norm: 3.112.. Train Linf norm: 3497.828.. Val Linf norm: 1573.014\n",
            "Epoch 61/141.. Train loss: 2.369.. Val loss: 2.334.. Train L1 norm: 3.051.. Val L1 norm: 3.112.. Train Linf norm: 1389.589.. Val Linf norm: 1573.014\n",
            "Epoch 62/141.. Train loss: 2.362.. Val loss: 2.334.. Train L1 norm: 3.618.. Val L1 norm: 3.112.. Train Linf norm: 2010.837.. Val Linf norm: 1573.014\n",
            "Epoch 63/141.. Train loss: 2.366.. Val loss: 2.334.. Train L1 norm: 3.689.. Val L1 norm: 3.112.. Train Linf norm: 2093.770.. Val Linf norm: 1573.014\n",
            "Epoch 64/141.. Train loss: 2.372.. Val loss: 2.334.. Train L1 norm: 4.747.. Val L1 norm: 3.112.. Train Linf norm: 3035.476.. Val Linf norm: 1573.014\n",
            "Epoch 65/141.. Train loss: 2.365.. Val loss: 2.334.. Train L1 norm: 4.002.. Val L1 norm: 3.112.. Train Linf norm: 2336.394.. Val Linf norm: 1573.014\n",
            "Epoch 66/141.. Train loss: 2.342.. Val loss: 2.334.. Train L1 norm: 4.168.. Val L1 norm: 3.112.. Train Linf norm: 2556.357.. Val Linf norm: 1573.014\n",
            "Epoch 67/141.. Train loss: 2.361.. Val loss: 2.334.. Train L1 norm: 3.896.. Val L1 norm: 3.112.. Train Linf norm: 2211.761.. Val Linf norm: 1573.014\n",
            "Epoch 68/141.. Train loss: 2.374.. Val loss: 2.334.. Train L1 norm: 4.420.. Val L1 norm: 3.112.. Train Linf norm: 2805.734.. Val Linf norm: 1573.014\n",
            "Epoch 69/141.. Train loss: 2.351.. Val loss: 2.334.. Train L1 norm: 4.830.. Val L1 norm: 3.112.. Train Linf norm: 3256.180.. Val Linf norm: 1573.014\n",
            "Epoch 70/141.. Train loss: 2.334.. Val loss: 2.334.. Train L1 norm: 3.825.. Val L1 norm: 3.112.. Train Linf norm: 2203.660.. Val Linf norm: 1573.014\n",
            "Epoch 71/141.. Train loss: 2.363.. Val loss: 2.334.. Train L1 norm: 4.025.. Val L1 norm: 3.112.. Train Linf norm: 2265.244.. Val Linf norm: 1573.014\n",
            "Epoch 72/141.. Train loss: 2.369.. Val loss: 2.334.. Train L1 norm: 4.236.. Val L1 norm: 3.112.. Train Linf norm: 2529.048.. Val Linf norm: 1573.014\n",
            "Epoch 73/141.. Train loss: 2.355.. Val loss: 2.334.. Train L1 norm: 4.452.. Val L1 norm: 3.112.. Train Linf norm: 2874.313.. Val Linf norm: 1573.014\n",
            "Epoch 74/141.. Train loss: 2.359.. Val loss: 2.334.. Train L1 norm: 4.396.. Val L1 norm: 3.112.. Train Linf norm: 2817.981.. Val Linf norm: 1573.014\n",
            "Epoch 75/141.. Train loss: 2.357.. Val loss: 2.334.. Train L1 norm: 3.288.. Val L1 norm: 3.112.. Train Linf norm: 1659.984.. Val Linf norm: 1573.014\n",
            "Epoch 76/141.. Train loss: 2.355.. Val loss: 2.334.. Train L1 norm: 4.190.. Val L1 norm: 3.112.. Train Linf norm: 2520.828.. Val Linf norm: 1573.014\n",
            "Epoch 77/141.. Train loss: 2.332.. Val loss: 2.334.. Train L1 norm: 4.326.. Val L1 norm: 3.112.. Train Linf norm: 2731.221.. Val Linf norm: 1573.014\n",
            "Epoch 78/141.. Train loss: 2.358.. Val loss: 2.334.. Train L1 norm: 4.824.. Val L1 norm: 3.112.. Train Linf norm: 3197.394.. Val Linf norm: 1573.014\n",
            "Epoch 79/141.. Train loss: 2.355.. Val loss: 2.334.. Train L1 norm: 4.582.. Val L1 norm: 3.112.. Train Linf norm: 2707.601.. Val Linf norm: 1573.014\n",
            "Epoch 80/141.. Train loss: 2.386.. Val loss: 2.334.. Train L1 norm: 3.480.. Val L1 norm: 3.112.. Train Linf norm: 1855.354.. Val Linf norm: 1573.014\n",
            "Epoch 81/141.. Train loss: 2.348.. Val loss: 2.334.. Train L1 norm: 4.346.. Val L1 norm: 3.112.. Train Linf norm: 2743.860.. Val Linf norm: 1573.014\n",
            "Epoch 82/141.. Train loss: 2.369.. Val loss: 2.334.. Train L1 norm: 3.364.. Val L1 norm: 3.112.. Train Linf norm: 1736.047.. Val Linf norm: 1573.014\n",
            "Epoch 83/141.. Train loss: 2.361.. Val loss: 2.334.. Train L1 norm: 4.756.. Val L1 norm: 3.112.. Train Linf norm: 3158.658.. Val Linf norm: 1573.014\n",
            "Epoch 84/141.. Train loss: 2.364.. Val loss: 2.334.. Train L1 norm: 4.924.. Val L1 norm: 3.112.. Train Linf norm: 3322.615.. Val Linf norm: 1573.014\n",
            "Epoch 85/141.. Train loss: 2.363.. Val loss: 2.334.. Train L1 norm: 3.567.. Val L1 norm: 3.112.. Train Linf norm: 1833.473.. Val Linf norm: 1573.014\n",
            "Epoch 86/141.. Train loss: 2.357.. Val loss: 2.334.. Train L1 norm: 3.777.. Val L1 norm: 3.112.. Train Linf norm: 2116.852.. Val Linf norm: 1573.014\n",
            "Epoch 87/141.. Train loss: 2.340.. Val loss: 2.334.. Train L1 norm: 4.044.. Val L1 norm: 3.112.. Train Linf norm: 2337.231.. Val Linf norm: 1573.014\n",
            "Epoch 88/141.. Train loss: 2.362.. Val loss: 2.334.. Train L1 norm: 4.567.. Val L1 norm: 3.112.. Train Linf norm: 2873.954.. Val Linf norm: 1573.014\n",
            "Epoch 89/141.. Train loss: 2.353.. Val loss: 2.334.. Train L1 norm: 3.917.. Val L1 norm: 3.112.. Train Linf norm: 2288.704.. Val Linf norm: 1573.014\n",
            "Epoch 90/141.. Train loss: 2.345.. Val loss: 2.334.. Train L1 norm: 3.819.. Val L1 norm: 3.112.. Train Linf norm: 2161.929.. Val Linf norm: 1573.014\n",
            "Epoch 91/141.. Train loss: 2.380.. Val loss: 2.334.. Train L1 norm: 4.045.. Val L1 norm: 3.112.. Train Linf norm: 2437.303.. Val Linf norm: 1573.014\n",
            "Epoch 92/141.. Train loss: 2.359.. Val loss: 2.334.. Train L1 norm: 3.638.. Val L1 norm: 3.112.. Train Linf norm: 2011.682.. Val Linf norm: 1573.014\n",
            "Epoch 93/141.. Train loss: 2.365.. Val loss: 2.334.. Train L1 norm: 3.511.. Val L1 norm: 3.112.. Train Linf norm: 1893.988.. Val Linf norm: 1573.014\n",
            "Epoch 94/141.. Train loss: 2.351.. Val loss: 2.334.. Train L1 norm: 3.776.. Val L1 norm: 3.112.. Train Linf norm: 2142.620.. Val Linf norm: 1573.014\n",
            "Epoch 95/141.. Train loss: 2.351.. Val loss: 2.334.. Train L1 norm: 4.292.. Val L1 norm: 3.112.. Train Linf norm: 2622.738.. Val Linf norm: 1573.014\n",
            "Epoch 96/141.. Train loss: 2.370.. Val loss: 2.334.. Train L1 norm: 4.763.. Val L1 norm: 3.112.. Train Linf norm: 3174.611.. Val Linf norm: 1573.014\n",
            "Epoch 97/141.. Train loss: 2.350.. Val loss: 2.334.. Train L1 norm: 4.215.. Val L1 norm: 3.112.. Train Linf norm: 2553.046.. Val Linf norm: 1573.014\n",
            "Epoch 98/141.. Train loss: 2.358.. Val loss: 2.334.. Train L1 norm: 3.646.. Val L1 norm: 3.112.. Train Linf norm: 2034.395.. Val Linf norm: 1573.014\n",
            "Epoch 99/141.. Train loss: 2.370.. Val loss: 2.334.. Train L1 norm: 3.311.. Val L1 norm: 3.112.. Train Linf norm: 1690.432.. Val Linf norm: 1573.014\n",
            "Epoch 100/141.. Train loss: 2.345.. Val loss: 2.334.. Train L1 norm: 4.410.. Val L1 norm: 3.112.. Train Linf norm: 2779.674.. Val Linf norm: 1573.014\n",
            "Epoch 101/141.. Train loss: 2.358.. Val loss: 2.334.. Train L1 norm: 4.729.. Val L1 norm: 3.112.. Train Linf norm: 3139.081.. Val Linf norm: 1573.014\n",
            "Epoch 102/141.. Train loss: 2.363.. Val loss: 2.334.. Train L1 norm: 4.146.. Val L1 norm: 3.112.. Train Linf norm: 2547.484.. Val Linf norm: 1573.014\n",
            "Epoch 103/141.. Train loss: 2.353.. Val loss: 2.334.. Train L1 norm: 3.997.. Val L1 norm: 3.112.. Train Linf norm: 2379.818.. Val Linf norm: 1573.014\n",
            "Epoch 104/141.. Train loss: 2.363.. Val loss: 2.334.. Train L1 norm: 3.706.. Val L1 norm: 3.112.. Train Linf norm: 2107.724.. Val Linf norm: 1573.014\n",
            "Epoch 105/141.. Train loss: 2.375.. Val loss: 2.334.. Train L1 norm: 3.707.. Val L1 norm: 3.112.. Train Linf norm: 1775.108.. Val Linf norm: 1573.014\n",
            "Epoch 106/141.. Train loss: 2.367.. Val loss: 2.334.. Train L1 norm: 4.482.. Val L1 norm: 3.112.. Train Linf norm: 2893.186.. Val Linf norm: 1573.014\n",
            "Epoch 107/141.. Train loss: 2.352.. Val loss: 2.334.. Train L1 norm: 4.349.. Val L1 norm: 3.112.. Train Linf norm: 2759.228.. Val Linf norm: 1573.014\n",
            "Epoch 108/141.. Train loss: 2.360.. Val loss: 2.334.. Train L1 norm: 4.094.. Val L1 norm: 3.112.. Train Linf norm: 2410.713.. Val Linf norm: 1573.014\n",
            "Epoch 109/141.. Train loss: 2.365.. Val loss: 2.334.. Train L1 norm: 3.988.. Val L1 norm: 3.112.. Train Linf norm: 2375.611.. Val Linf norm: 1573.014\n",
            "Epoch 110/141.. Train loss: 2.347.. Val loss: 2.334.. Train L1 norm: 3.919.. Val L1 norm: 3.112.. Train Linf norm: 2279.730.. Val Linf norm: 1573.014\n",
            "Epoch 111/141.. Train loss: 2.360.. Val loss: 2.334.. Train L1 norm: 4.429.. Val L1 norm: 3.112.. Train Linf norm: 2835.564.. Val Linf norm: 1573.014\n",
            "Epoch 112/141.. Train loss: 2.368.. Val loss: 2.334.. Train L1 norm: 4.230.. Val L1 norm: 3.112.. Train Linf norm: 2624.959.. Val Linf norm: 1573.014\n",
            "Epoch 113/141.. Train loss: 2.404.. Val loss: 2.334.. Train L1 norm: 4.380.. Val L1 norm: 3.112.. Train Linf norm: 2781.283.. Val Linf norm: 1573.014\n",
            "Epoch 114/141.. Train loss: 2.353.. Val loss: 2.334.. Train L1 norm: 3.965.. Val L1 norm: 3.112.. Train Linf norm: 2340.604.. Val Linf norm: 1573.014\n",
            "Epoch 115/141.. Train loss: 2.375.. Val loss: 2.334.. Train L1 norm: 4.428.. Val L1 norm: 3.112.. Train Linf norm: 2667.423.. Val Linf norm: 1573.014\n",
            "Epoch 116/141.. Train loss: 2.357.. Val loss: 2.334.. Train L1 norm: 3.839.. Val L1 norm: 3.112.. Train Linf norm: 2055.422.. Val Linf norm: 1573.014\n",
            "Epoch 117/141.. Train loss: 2.350.. Val loss: 2.334.. Train L1 norm: 3.630.. Val L1 norm: 3.112.. Train Linf norm: 2039.484.. Val Linf norm: 1573.014\n",
            "Epoch 118/141.. Train loss: 2.368.. Val loss: 2.334.. Train L1 norm: 3.888.. Val L1 norm: 3.112.. Train Linf norm: 2140.567.. Val Linf norm: 1573.014\n",
            "Epoch 119/141.. Train loss: 2.356.. Val loss: 2.334.. Train L1 norm: 3.997.. Val L1 norm: 3.112.. Train Linf norm: 2400.061.. Val Linf norm: 1573.014\n",
            "Epoch 120/141.. Train loss: 2.337.. Val loss: 2.334.. Train L1 norm: 4.352.. Val L1 norm: 3.112.. Train Linf norm: 2774.033.. Val Linf norm: 1573.014\n",
            "Epoch 121/141.. Train loss: 2.359.. Val loss: 2.334.. Train L1 norm: 5.015.. Val L1 norm: 3.112.. Train Linf norm: 3421.208.. Val Linf norm: 1573.014\n",
            "Epoch 122/141.. Train loss: 2.383.. Val loss: 2.334.. Train L1 norm: 3.003.. Val L1 norm: 3.112.. Train Linf norm: 1204.325.. Val Linf norm: 1573.014\n",
            "Epoch 123/141.. Train loss: 2.340.. Val loss: 2.334.. Train L1 norm: 4.500.. Val L1 norm: 3.112.. Train Linf norm: 2742.811.. Val Linf norm: 1573.014\n",
            "Epoch 124/141.. Train loss: 2.358.. Val loss: 2.334.. Train L1 norm: 3.526.. Val L1 norm: 3.112.. Train Linf norm: 1909.219.. Val Linf norm: 1573.014\n",
            "Epoch 125/141.. Train loss: 2.363.. Val loss: 2.334.. Train L1 norm: 4.005.. Val L1 norm: 3.112.. Train Linf norm: 2383.049.. Val Linf norm: 1573.014\n",
            "Epoch 126/141.. Train loss: 2.357.. Val loss: 2.334.. Train L1 norm: 4.206.. Val L1 norm: 3.112.. Train Linf norm: 2573.931.. Val Linf norm: 1573.014\n",
            "Epoch 127/141.. Train loss: 2.359.. Val loss: 2.334.. Train L1 norm: 3.972.. Val L1 norm: 3.112.. Train Linf norm: 2366.622.. Val Linf norm: 1573.014\n",
            "Epoch 128/141.. Train loss: 2.367.. Val loss: 2.334.. Train L1 norm: 3.461.. Val L1 norm: 3.112.. Train Linf norm: 1855.395.. Val Linf norm: 1573.014\n",
            "Epoch 129/141.. Train loss: 2.355.. Val loss: 2.334.. Train L1 norm: 3.739.. Val L1 norm: 3.112.. Train Linf norm: 2091.189.. Val Linf norm: 1573.014\n",
            "Epoch 130/141.. Train loss: 2.346.. Val loss: 2.334.. Train L1 norm: 4.130.. Val L1 norm: 3.112.. Train Linf norm: 2521.402.. Val Linf norm: 1573.014\n",
            "Epoch 131/141.. Train loss: 2.364.. Val loss: 2.334.. Train L1 norm: 4.163.. Val L1 norm: 3.112.. Train Linf norm: 2558.919.. Val Linf norm: 1573.014\n",
            "Epoch 132/141.. Train loss: 2.366.. Val loss: 2.334.. Train L1 norm: 4.290.. Val L1 norm: 3.112.. Train Linf norm: 2476.887.. Val Linf norm: 1573.014\n",
            "Epoch 133/141.. Train loss: 2.363.. Val loss: 2.334.. Train L1 norm: 3.765.. Val L1 norm: 3.112.. Train Linf norm: 2120.525.. Val Linf norm: 1573.014\n",
            "Epoch 134/141.. Train loss: 2.366.. Val loss: 2.334.. Train L1 norm: 4.308.. Val L1 norm: 3.112.. Train Linf norm: 1748.736.. Val Linf norm: 1573.014\n",
            "Epoch 135/141.. Train loss: 2.378.. Val loss: 2.334.. Train L1 norm: 4.274.. Val L1 norm: 3.112.. Train Linf norm: 2690.159.. Val Linf norm: 1573.014\n",
            "Epoch 136/141.. Train loss: 2.371.. Val loss: 2.334.. Train L1 norm: 4.629.. Val L1 norm: 3.112.. Train Linf norm: 3046.395.. Val Linf norm: 1573.014\n",
            "Epoch 137/141.. Train loss: 2.348.. Val loss: 2.334.. Train L1 norm: 4.185.. Val L1 norm: 3.112.. Train Linf norm: 2498.794.. Val Linf norm: 1573.014\n",
            "Epoch 138/141.. Train loss: 2.368.. Val loss: 2.334.. Train L1 norm: 3.794.. Val L1 norm: 3.112.. Train Linf norm: 2156.608.. Val Linf norm: 1573.014\n",
            "Epoch 139/141.. Train loss: 2.365.. Val loss: 2.334.. Train L1 norm: 4.598.. Val L1 norm: 3.112.. Train Linf norm: 3013.746.. Val Linf norm: 1573.014\n",
            "Epoch 140/141.. Train loss: 2.362.. Val loss: 2.334.. Train L1 norm: 4.108.. Val L1 norm: 3.112.. Train Linf norm: 2497.167.. Val Linf norm: 1573.014\n"
          ]
        },
        {
          "name": "stderr",
          "output_type": "stream",
          "text": [
            "\u001b[32m[I 2023-05-29 12:37:50,172]\u001b[0m Trial 10 finished with value: 3.1116695780436197 and parameters: {'n_layers': 8, 'n_units_0': 3325, 'n_units_1': 543, 'n_units_2': 659, 'n_units_3': 627, 'n_units_4': 2777, 'n_units_5': 3303, 'n_units_6': 2230, 'n_units_7': 783, 'hidden_activation': 'SoftPlus', 'output_activation': 'Linear', 'loss': 'Quantile', 'optimizer': 'Adagrad', 'lr': 1.2284395904877148e-06, 'batch_size': 1024, 'n_epochs': 141, 'scheduler': 'StepLR', 'softplus_beta': 1.1728352618485394, 'dropout_rate': 0.48064704761509275, 'step_size': 5, 'gamma': 0.15283190271307212}. Best is trial 0 with value: 2.552163498687744.\u001b[0m\n"
          ]
        },
        {
          "name": "stdout",
          "output_type": "stream",
          "text": [
            "Epoch 141/141.. Train loss: 2.349.. Val loss: 2.334.. Train L1 norm: 3.902.. Val L1 norm: 3.112.. Train Linf norm: 2301.205.. Val Linf norm: 1573.014\n"
          ]
        },
        {
          "name": "stderr",
          "output_type": "stream",
          "text": [
            "\u001b[32m[I 2023-05-29 12:37:52,135]\u001b[0m Trial 11 pruned. \u001b[0m\n"
          ]
        },
        {
          "name": "stdout",
          "output_type": "stream",
          "text": [
            "Epoch 1/104.. Train loss: 4.608.. Val loss: 3.986.. Train L1 norm: 5.612.. Val L1 norm: 3.868.. Train Linf norm: 6908.213.. Val Linf norm: 3182.515\n",
            "Epoch 1/150.. Train loss: 2.573.. Val loss: 2.553.. Train L1 norm: 1.326.. Val L1 norm: 1.137.. Train Linf norm: 285.714.. Val Linf norm: 117.663\n",
            "Epoch 2/150.. Train loss: 2.566.. Val loss: 2.551.. Train L1 norm: 1.353.. Val L1 norm: 1.133.. Train Linf norm: 319.475.. Val Linf norm: 114.401\n",
            "Epoch 3/150.. Train loss: 2.562.. Val loss: 2.550.. Train L1 norm: 1.314.. Val L1 norm: 1.130.. Train Linf norm: 278.336.. Val Linf norm: 112.364\n",
            "Epoch 4/150.. Train loss: 2.580.. Val loss: 2.550.. Train L1 norm: 1.378.. Val L1 norm: 1.129.. Train Linf norm: 343.083.. Val Linf norm: 111.131\n",
            "Epoch 5/150.. Train loss: 2.545.. Val loss: 2.550.. Train L1 norm: 1.251.. Val L1 norm: 1.127.. Train Linf norm: 207.692.. Val Linf norm: 110.141\n",
            "Epoch 6/150.. Train loss: 2.557.. Val loss: 2.550.. Train L1 norm: 1.529.. Val L1 norm: 1.127.. Train Linf norm: 498.984.. Val Linf norm: 110.055\n",
            "Epoch 7/150.. Train loss: 2.567.. Val loss: 2.550.. Train L1 norm: 1.303.. Val L1 norm: 1.127.. Train Linf norm: 266.037.. Val Linf norm: 109.991\n",
            "Epoch 8/150.. Train loss: 2.543.. Val loss: 2.550.. Train L1 norm: 1.379.. Val L1 norm: 1.127.. Train Linf norm: 345.270.. Val Linf norm: 109.931\n",
            "Epoch 9/150.. Train loss: 2.583.. Val loss: 2.549.. Train L1 norm: 1.376.. Val L1 norm: 1.127.. Train Linf norm: 323.967.. Val Linf norm: 109.885\n",
            "Epoch 10/150.. Train loss: 2.550.. Val loss: 2.549.. Train L1 norm: 1.345.. Val L1 norm: 1.127.. Train Linf norm: 299.204.. Val Linf norm: 109.839\n",
            "Epoch 11/150.. Train loss: 2.590.. Val loss: 2.549.. Train L1 norm: 1.424.. Val L1 norm: 1.127.. Train Linf norm: 392.577.. Val Linf norm: 109.837\n",
            "Epoch 12/150.. Train loss: 2.560.. Val loss: 2.549.. Train L1 norm: 1.423.. Val L1 norm: 1.127.. Train Linf norm: 364.540.. Val Linf norm: 109.836\n",
            "Epoch 13/150.. Train loss: 2.594.. Val loss: 2.549.. Train L1 norm: 1.717.. Val L1 norm: 1.127.. Train Linf norm: 688.928.. Val Linf norm: 109.837\n",
            "Epoch 14/150.. Train loss: 2.543.. Val loss: 2.549.. Train L1 norm: 1.411.. Val L1 norm: 1.127.. Train Linf norm: 376.117.. Val Linf norm: 109.836\n",
            "Epoch 15/150.. Train loss: 2.587.. Val loss: 2.549.. Train L1 norm: 1.378.. Val L1 norm: 1.127.. Train Linf norm: 340.557.. Val Linf norm: 109.836\n",
            "Epoch 16/150.. Train loss: 2.567.. Val loss: 2.549.. Train L1 norm: 1.351.. Val L1 norm: 1.127.. Train Linf norm: 315.336.. Val Linf norm: 109.836\n",
            "Epoch 17/150.. Train loss: 2.557.. Val loss: 2.549.. Train L1 norm: 1.713.. Val L1 norm: 1.127.. Train Linf norm: 683.141.. Val Linf norm: 109.836\n",
            "Epoch 18/150.. Train loss: 2.583.. Val loss: 2.549.. Train L1 norm: 1.250.. Val L1 norm: 1.127.. Train Linf norm: 210.523.. Val Linf norm: 109.836\n",
            "Epoch 19/150.. Train loss: 2.570.. Val loss: 2.549.. Train L1 norm: 1.293.. Val L1 norm: 1.127.. Train Linf norm: 255.941.. Val Linf norm: 109.836\n",
            "Epoch 20/150.. Train loss: 2.544.. Val loss: 2.549.. Train L1 norm: 1.208.. Val L1 norm: 1.127.. Train Linf norm: 171.000.. Val Linf norm: 109.836\n",
            "Epoch 21/150.. Train loss: 2.536.. Val loss: 2.549.. Train L1 norm: 1.342.. Val L1 norm: 1.127.. Train Linf norm: 310.079.. Val Linf norm: 109.836\n",
            "Epoch 22/150.. Train loss: 2.565.. Val loss: 2.549.. Train L1 norm: 1.188.. Val L1 norm: 1.127.. Train Linf norm: 147.383.. Val Linf norm: 109.836\n",
            "Epoch 23/150.. Train loss: 2.552.. Val loss: 2.549.. Train L1 norm: 1.460.. Val L1 norm: 1.127.. Train Linf norm: 430.696.. Val Linf norm: 109.836\n",
            "Epoch 24/150.. Train loss: 2.546.. Val loss: 2.549.. Train L1 norm: 1.173.. Val L1 norm: 1.127.. Train Linf norm: 132.978.. Val Linf norm: 109.836\n",
            "Epoch 25/150.. Train loss: 2.563.. Val loss: 2.549.. Train L1 norm: 1.221.. Val L1 norm: 1.127.. Train Linf norm: 180.432.. Val Linf norm: 109.836\n",
            "Epoch 26/150.. Train loss: 2.559.. Val loss: 2.549.. Train L1 norm: 1.471.. Val L1 norm: 1.127.. Train Linf norm: 438.053.. Val Linf norm: 109.836\n",
            "Epoch 27/150.. Train loss: 2.555.. Val loss: 2.549.. Train L1 norm: 1.276.. Val L1 norm: 1.127.. Train Linf norm: 238.818.. Val Linf norm: 109.836\n",
            "Epoch 28/150.. Train loss: 2.570.. Val loss: 2.549.. Train L1 norm: 1.289.. Val L1 norm: 1.127.. Train Linf norm: 253.677.. Val Linf norm: 109.836\n",
            "Epoch 29/150.. Train loss: 2.553.. Val loss: 2.549.. Train L1 norm: 1.176.. Val L1 norm: 1.127.. Train Linf norm: 137.172.. Val Linf norm: 109.836\n",
            "Epoch 30/150.. Train loss: 2.572.. Val loss: 2.549.. Train L1 norm: 1.163.. Val L1 norm: 1.127.. Train Linf norm: 114.275.. Val Linf norm: 109.836\n",
            "Epoch 31/150.. Train loss: 2.551.. Val loss: 2.549.. Train L1 norm: 1.497.. Val L1 norm: 1.127.. Train Linf norm: 457.871.. Val Linf norm: 109.836\n",
            "Epoch 32/150.. Train loss: 2.548.. Val loss: 2.549.. Train L1 norm: 1.799.. Val L1 norm: 1.127.. Train Linf norm: 771.483.. Val Linf norm: 109.836\n",
            "Epoch 33/150.. Train loss: 2.563.. Val loss: 2.549.. Train L1 norm: 1.234.. Val L1 norm: 1.127.. Train Linf norm: 180.928.. Val Linf norm: 109.836\n",
            "Epoch 34/150.. Train loss: 2.561.. Val loss: 2.549.. Train L1 norm: 1.180.. Val L1 norm: 1.127.. Train Linf norm: 138.953.. Val Linf norm: 109.836\n",
            "Epoch 35/150.. Train loss: 2.577.. Val loss: 2.549.. Train L1 norm: 1.203.. Val L1 norm: 1.127.. Train Linf norm: 156.548.. Val Linf norm: 109.836\n",
            "Epoch 36/150.. Train loss: 2.579.. Val loss: 2.549.. Train L1 norm: 1.154.. Val L1 norm: 1.127.. Train Linf norm: 116.804.. Val Linf norm: 109.836\n",
            "Epoch 37/150.. Train loss: 2.545.. Val loss: 2.549.. Train L1 norm: 1.287.. Val L1 norm: 1.127.. Train Linf norm: 228.327.. Val Linf norm: 109.836\n",
            "Epoch 38/150.. Train loss: 2.543.. Val loss: 2.549.. Train L1 norm: 1.240.. Val L1 norm: 1.127.. Train Linf norm: 202.859.. Val Linf norm: 109.836\n",
            "Epoch 39/150.. Train loss: 2.562.. Val loss: 2.549.. Train L1 norm: 1.436.. Val L1 norm: 1.127.. Train Linf norm: 377.796.. Val Linf norm: 109.836\n",
            "Epoch 40/150.. Train loss: 2.542.. Val loss: 2.549.. Train L1 norm: 1.409.. Val L1 norm: 1.127.. Train Linf norm: 376.403.. Val Linf norm: 109.836\n",
            "Epoch 41/150.. Train loss: 2.559.. Val loss: 2.549.. Train L1 norm: 1.180.. Val L1 norm: 1.127.. Train Linf norm: 137.721.. Val Linf norm: 109.836\n",
            "Epoch 42/150.. Train loss: 2.537.. Val loss: 2.549.. Train L1 norm: 1.189.. Val L1 norm: 1.127.. Train Linf norm: 154.521.. Val Linf norm: 109.836\n",
            "Epoch 43/150.. Train loss: 2.536.. Val loss: 2.549.. Train L1 norm: 1.431.. Val L1 norm: 1.127.. Train Linf norm: 400.323.. Val Linf norm: 109.836\n",
            "Epoch 44/150.. Train loss: 2.559.. Val loss: 2.549.. Train L1 norm: 1.236.. Val L1 norm: 1.127.. Train Linf norm: 199.281.. Val Linf norm: 109.836\n",
            "Epoch 45/150.. Train loss: 2.574.. Val loss: 2.549.. Train L1 norm: 1.170.. Val L1 norm: 1.127.. Train Linf norm: 125.776.. Val Linf norm: 109.836\n",
            "Epoch 46/150.. Train loss: 2.545.. Val loss: 2.549.. Train L1 norm: 1.165.. Val L1 norm: 1.127.. Train Linf norm: 127.891.. Val Linf norm: 109.836\n",
            "Epoch 47/150.. Train loss: 2.538.. Val loss: 2.549.. Train L1 norm: 1.205.. Val L1 norm: 1.127.. Train Linf norm: 169.941.. Val Linf norm: 109.836\n",
            "Epoch 48/150.. Train loss: 2.532.. Val loss: 2.549.. Train L1 norm: 1.236.. Val L1 norm: 1.127.. Train Linf norm: 197.594.. Val Linf norm: 109.836\n",
            "Epoch 49/150.. Train loss: 2.555.. Val loss: 2.549.. Train L1 norm: 1.388.. Val L1 norm: 1.127.. Train Linf norm: 351.439.. Val Linf norm: 109.836\n",
            "Epoch 50/150.. Train loss: 2.607.. Val loss: 2.549.. Train L1 norm: 1.200.. Val L1 norm: 1.127.. Train Linf norm: 160.661.. Val Linf norm: 109.836\n",
            "Epoch 51/150.. Train loss: 2.580.. Val loss: 2.549.. Train L1 norm: 1.262.. Val L1 norm: 1.127.. Train Linf norm: 219.694.. Val Linf norm: 109.836\n",
            "Epoch 52/150.. Train loss: 2.532.. Val loss: 2.549.. Train L1 norm: 1.475.. Val L1 norm: 1.127.. Train Linf norm: 440.015.. Val Linf norm: 109.836\n",
            "Epoch 53/150.. Train loss: 2.552.. Val loss: 2.549.. Train L1 norm: 1.252.. Val L1 norm: 1.127.. Train Linf norm: 212.228.. Val Linf norm: 109.836\n",
            "Epoch 54/150.. Train loss: 2.563.. Val loss: 2.549.. Train L1 norm: 1.277.. Val L1 norm: 1.127.. Train Linf norm: 240.913.. Val Linf norm: 109.836\n",
            "Epoch 55/150.. Train loss: 2.556.. Val loss: 2.549.. Train L1 norm: 1.181.. Val L1 norm: 1.127.. Train Linf norm: 137.154.. Val Linf norm: 109.836\n",
            "Epoch 56/150.. Train loss: 2.604.. Val loss: 2.549.. Train L1 norm: 1.258.. Val L1 norm: 1.127.. Train Linf norm: 216.569.. Val Linf norm: 109.836\n",
            "Epoch 57/150.. Train loss: 2.542.. Val loss: 2.549.. Train L1 norm: 1.333.. Val L1 norm: 1.127.. Train Linf norm: 292.567.. Val Linf norm: 109.836\n",
            "Epoch 58/150.. Train loss: 2.555.. Val loss: 2.549.. Train L1 norm: 1.523.. Val L1 norm: 1.127.. Train Linf norm: 485.879.. Val Linf norm: 109.836\n",
            "Epoch 59/150.. Train loss: 2.581.. Val loss: 2.549.. Train L1 norm: 1.279.. Val L1 norm: 1.127.. Train Linf norm: 244.115.. Val Linf norm: 109.836\n",
            "Epoch 60/150.. Train loss: 2.570.. Val loss: 2.549.. Train L1 norm: 1.190.. Val L1 norm: 1.127.. Train Linf norm: 152.665.. Val Linf norm: 109.836\n",
            "Epoch 61/150.. Train loss: 2.571.. Val loss: 2.549.. Train L1 norm: 1.556.. Val L1 norm: 1.127.. Train Linf norm: 529.171.. Val Linf norm: 109.836\n",
            "Epoch 62/150.. Train loss: 2.541.. Val loss: 2.549.. Train L1 norm: 1.328.. Val L1 norm: 1.127.. Train Linf norm: 294.378.. Val Linf norm: 109.836\n",
            "Epoch 63/150.. Train loss: 2.592.. Val loss: 2.549.. Train L1 norm: 1.237.. Val L1 norm: 1.127.. Train Linf norm: 191.925.. Val Linf norm: 109.836\n",
            "Epoch 64/150.. Train loss: 2.555.. Val loss: 2.549.. Train L1 norm: 1.315.. Val L1 norm: 1.127.. Train Linf norm: 275.539.. Val Linf norm: 109.836\n",
            "Epoch 65/150.. Train loss: 2.563.. Val loss: 2.549.. Train L1 norm: 1.198.. Val L1 norm: 1.127.. Train Linf norm: 151.148.. Val Linf norm: 109.836\n",
            "Epoch 66/150.. Train loss: 2.557.. Val loss: 2.549.. Train L1 norm: 1.450.. Val L1 norm: 1.127.. Train Linf norm: 423.281.. Val Linf norm: 109.836\n",
            "Epoch 67/150.. Train loss: 2.564.. Val loss: 2.549.. Train L1 norm: 1.313.. Val L1 norm: 1.127.. Train Linf norm: 274.379.. Val Linf norm: 109.836\n",
            "Epoch 68/150.. Train loss: 2.558.. Val loss: 2.549.. Train L1 norm: 1.271.. Val L1 norm: 1.127.. Train Linf norm: 201.067.. Val Linf norm: 109.836\n",
            "Epoch 69/150.. Train loss: 2.544.. Val loss: 2.549.. Train L1 norm: 1.413.. Val L1 norm: 1.127.. Train Linf norm: 374.485.. Val Linf norm: 109.836\n",
            "Epoch 70/150.. Train loss: 2.592.. Val loss: 2.549.. Train L1 norm: 1.410.. Val L1 norm: 1.127.. Train Linf norm: 350.317.. Val Linf norm: 109.836\n",
            "Epoch 71/150.. Train loss: 2.579.. Val loss: 2.549.. Train L1 norm: 1.411.. Val L1 norm: 1.127.. Train Linf norm: 377.735.. Val Linf norm: 109.836\n",
            "Epoch 72/150.. Train loss: 2.544.. Val loss: 2.549.. Train L1 norm: 1.198.. Val L1 norm: 1.127.. Train Linf norm: 157.960.. Val Linf norm: 109.836\n",
            "Epoch 73/150.. Train loss: 2.567.. Val loss: 2.549.. Train L1 norm: 1.195.. Val L1 norm: 1.127.. Train Linf norm: 154.235.. Val Linf norm: 109.836\n",
            "Epoch 74/150.. Train loss: 2.572.. Val loss: 2.549.. Train L1 norm: 1.346.. Val L1 norm: 1.127.. Train Linf norm: 296.849.. Val Linf norm: 109.836\n",
            "Epoch 75/150.. Train loss: 2.561.. Val loss: 2.549.. Train L1 norm: 1.232.. Val L1 norm: 1.127.. Train Linf norm: 194.047.. Val Linf norm: 109.836\n",
            "Epoch 76/150.. Train loss: 2.562.. Val loss: 2.549.. Train L1 norm: 1.376.. Val L1 norm: 1.127.. Train Linf norm: 331.925.. Val Linf norm: 109.836\n",
            "Epoch 77/150.. Train loss: 2.598.. Val loss: 2.549.. Train L1 norm: 1.521.. Val L1 norm: 1.127.. Train Linf norm: 488.509.. Val Linf norm: 109.836\n",
            "Epoch 78/150.. Train loss: 2.538.. Val loss: 2.549.. Train L1 norm: 1.196.. Val L1 norm: 1.127.. Train Linf norm: 153.192.. Val Linf norm: 109.836\n",
            "Epoch 79/150.. Train loss: 2.527.. Val loss: 2.549.. Train L1 norm: 1.217.. Val L1 norm: 1.127.. Train Linf norm: 182.140.. Val Linf norm: 109.836\n",
            "Epoch 80/150.. Train loss: 2.574.. Val loss: 2.549.. Train L1 norm: 1.451.. Val L1 norm: 1.127.. Train Linf norm: 408.836.. Val Linf norm: 109.836\n",
            "Epoch 81/150.. Train loss: 2.530.. Val loss: 2.549.. Train L1 norm: 1.442.. Val L1 norm: 1.127.. Train Linf norm: 410.536.. Val Linf norm: 109.836\n",
            "Epoch 82/150.. Train loss: 2.578.. Val loss: 2.549.. Train L1 norm: 1.435.. Val L1 norm: 1.127.. Train Linf norm: 389.000.. Val Linf norm: 109.836\n",
            "Epoch 83/150.. Train loss: 2.561.. Val loss: 2.549.. Train L1 norm: 1.543.. Val L1 norm: 1.127.. Train Linf norm: 509.476.. Val Linf norm: 109.836\n",
            "Epoch 84/150.. Train loss: 2.551.. Val loss: 2.549.. Train L1 norm: 1.477.. Val L1 norm: 1.127.. Train Linf norm: 441.016.. Val Linf norm: 109.836\n",
            "Epoch 85/150.. Train loss: 2.573.. Val loss: 2.549.. Train L1 norm: 1.187.. Val L1 norm: 1.127.. Train Linf norm: 123.178.. Val Linf norm: 109.836\n",
            "Epoch 86/150.. Train loss: 2.567.. Val loss: 2.549.. Train L1 norm: 1.218.. Val L1 norm: 1.127.. Train Linf norm: 163.493.. Val Linf norm: 109.836\n",
            "Epoch 87/150.. Train loss: 2.545.. Val loss: 2.549.. Train L1 norm: 1.305.. Val L1 norm: 1.127.. Train Linf norm: 269.864.. Val Linf norm: 109.836\n",
            "Epoch 88/150.. Train loss: 2.582.. Val loss: 2.549.. Train L1 norm: 1.413.. Val L1 norm: 1.127.. Train Linf norm: 383.403.. Val Linf norm: 109.836\n",
            "Epoch 89/150.. Train loss: 2.549.. Val loss: 2.549.. Train L1 norm: 1.180.. Val L1 norm: 1.127.. Train Linf norm: 144.049.. Val Linf norm: 109.836\n",
            "Epoch 90/150.. Train loss: 2.537.. Val loss: 2.549.. Train L1 norm: 1.273.. Val L1 norm: 1.127.. Train Linf norm: 230.704.. Val Linf norm: 109.836\n",
            "Epoch 91/150.. Train loss: 2.580.. Val loss: 2.549.. Train L1 norm: 1.341.. Val L1 norm: 1.127.. Train Linf norm: 291.552.. Val Linf norm: 109.836\n",
            "Epoch 92/150.. Train loss: 2.567.. Val loss: 2.549.. Train L1 norm: 1.336.. Val L1 norm: 1.127.. Train Linf norm: 298.984.. Val Linf norm: 109.836\n",
            "Epoch 93/150.. Train loss: 2.532.. Val loss: 2.549.. Train L1 norm: 1.372.. Val L1 norm: 1.127.. Train Linf norm: 336.921.. Val Linf norm: 109.836\n",
            "Epoch 94/150.. Train loss: 2.573.. Val loss: 2.549.. Train L1 norm: 1.425.. Val L1 norm: 1.127.. Train Linf norm: 388.183.. Val Linf norm: 109.836\n",
            "Epoch 95/150.. Train loss: 2.572.. Val loss: 2.549.. Train L1 norm: 1.267.. Val L1 norm: 1.127.. Train Linf norm: 226.372.. Val Linf norm: 109.836\n",
            "Epoch 96/150.. Train loss: 2.570.. Val loss: 2.549.. Train L1 norm: 1.673.. Val L1 norm: 1.127.. Train Linf norm: 642.292.. Val Linf norm: 109.836\n",
            "Epoch 97/150.. Train loss: 2.580.. Val loss: 2.549.. Train L1 norm: 1.213.. Val L1 norm: 1.127.. Train Linf norm: 164.078.. Val Linf norm: 109.836\n",
            "Epoch 98/150.. Train loss: 2.603.. Val loss: 2.549.. Train L1 norm: 1.345.. Val L1 norm: 1.127.. Train Linf norm: 278.583.. Val Linf norm: 109.836\n",
            "Epoch 99/150.. Train loss: 2.578.. Val loss: 2.549.. Train L1 norm: 1.455.. Val L1 norm: 1.127.. Train Linf norm: 422.956.. Val Linf norm: 109.836\n",
            "Epoch 100/150.. Train loss: 2.560.. Val loss: 2.549.. Train L1 norm: 1.477.. Val L1 norm: 1.127.. Train Linf norm: 435.150.. Val Linf norm: 109.836\n",
            "Epoch 101/150.. Train loss: 2.555.. Val loss: 2.549.. Train L1 norm: 1.614.. Val L1 norm: 1.127.. Train Linf norm: 588.601.. Val Linf norm: 109.836\n",
            "Epoch 102/150.. Train loss: 2.544.. Val loss: 2.549.. Train L1 norm: 1.285.. Val L1 norm: 1.127.. Train Linf norm: 246.809.. Val Linf norm: 109.836\n",
            "Epoch 103/150.. Train loss: 2.542.. Val loss: 2.549.. Train L1 norm: 1.286.. Val L1 norm: 1.127.. Train Linf norm: 251.502.. Val Linf norm: 109.836\n",
            "Epoch 104/150.. Train loss: 2.560.. Val loss: 2.549.. Train L1 norm: 1.273.. Val L1 norm: 1.127.. Train Linf norm: 238.582.. Val Linf norm: 109.836\n",
            "Epoch 105/150.. Train loss: 2.564.. Val loss: 2.549.. Train L1 norm: 1.367.. Val L1 norm: 1.127.. Train Linf norm: 330.572.. Val Linf norm: 109.836\n",
            "Epoch 106/150.. Train loss: 2.577.. Val loss: 2.549.. Train L1 norm: 1.151.. Val L1 norm: 1.127.. Train Linf norm: 110.518.. Val Linf norm: 109.836\n",
            "Epoch 107/150.. Train loss: 2.548.. Val loss: 2.549.. Train L1 norm: 1.398.. Val L1 norm: 1.127.. Train Linf norm: 353.331.. Val Linf norm: 109.836\n",
            "Epoch 108/150.. Train loss: 2.570.. Val loss: 2.549.. Train L1 norm: 1.353.. Val L1 norm: 1.127.. Train Linf norm: 305.902.. Val Linf norm: 109.836\n",
            "Epoch 109/150.. Train loss: 2.565.. Val loss: 2.549.. Train L1 norm: 1.533.. Val L1 norm: 1.127.. Train Linf norm: 498.902.. Val Linf norm: 109.836\n",
            "Epoch 110/150.. Train loss: 2.552.. Val loss: 2.549.. Train L1 norm: 1.401.. Val L1 norm: 1.127.. Train Linf norm: 366.868.. Val Linf norm: 109.836\n",
            "Epoch 111/150.. Train loss: 2.596.. Val loss: 2.549.. Train L1 norm: 1.305.. Val L1 norm: 1.127.. Train Linf norm: 268.485.. Val Linf norm: 109.836\n",
            "Epoch 112/150.. Train loss: 2.546.. Val loss: 2.549.. Train L1 norm: 1.155.. Val L1 norm: 1.127.. Train Linf norm: 118.068.. Val Linf norm: 109.836\n",
            "Epoch 113/150.. Train loss: 2.561.. Val loss: 2.549.. Train L1 norm: 1.173.. Val L1 norm: 1.127.. Train Linf norm: 138.425.. Val Linf norm: 109.836\n",
            "Epoch 114/150.. Train loss: 2.548.. Val loss: 2.549.. Train L1 norm: 1.259.. Val L1 norm: 1.127.. Train Linf norm: 222.897.. Val Linf norm: 109.836\n",
            "Epoch 115/150.. Train loss: 2.563.. Val loss: 2.549.. Train L1 norm: 1.640.. Val L1 norm: 1.127.. Train Linf norm: 616.462.. Val Linf norm: 109.836\n",
            "Epoch 116/150.. Train loss: 2.541.. Val loss: 2.549.. Train L1 norm: 1.320.. Val L1 norm: 1.127.. Train Linf norm: 287.682.. Val Linf norm: 109.836\n",
            "Epoch 117/150.. Train loss: 2.554.. Val loss: 2.549.. Train L1 norm: 1.427.. Val L1 norm: 1.127.. Train Linf norm: 397.002.. Val Linf norm: 109.836\n",
            "Epoch 118/150.. Train loss: 2.569.. Val loss: 2.549.. Train L1 norm: 1.207.. Val L1 norm: 1.127.. Train Linf norm: 154.607.. Val Linf norm: 109.836\n",
            "Epoch 119/150.. Train loss: 2.567.. Val loss: 2.549.. Train L1 norm: 1.182.. Val L1 norm: 1.127.. Train Linf norm: 110.010.. Val Linf norm: 109.836\n",
            "Epoch 120/150.. Train loss: 2.546.. Val loss: 2.549.. Train L1 norm: 1.369.. Val L1 norm: 1.127.. Train Linf norm: 334.387.. Val Linf norm: 109.836\n",
            "Epoch 121/150.. Train loss: 2.559.. Val loss: 2.549.. Train L1 norm: 1.222.. Val L1 norm: 1.127.. Train Linf norm: 185.337.. Val Linf norm: 109.836\n",
            "Epoch 122/150.. Train loss: 2.567.. Val loss: 2.549.. Train L1 norm: 1.321.. Val L1 norm: 1.127.. Train Linf norm: 270.158.. Val Linf norm: 109.836\n",
            "Epoch 123/150.. Train loss: 2.556.. Val loss: 2.549.. Train L1 norm: 1.270.. Val L1 norm: 1.127.. Train Linf norm: 217.198.. Val Linf norm: 109.836\n",
            "Epoch 124/150.. Train loss: 2.558.. Val loss: 2.549.. Train L1 norm: 1.379.. Val L1 norm: 1.127.. Train Linf norm: 327.379.. Val Linf norm: 109.836\n",
            "Epoch 125/150.. Train loss: 2.585.. Val loss: 2.549.. Train L1 norm: 1.355.. Val L1 norm: 1.127.. Train Linf norm: 318.344.. Val Linf norm: 109.836\n",
            "Epoch 126/150.. Train loss: 2.574.. Val loss: 2.549.. Train L1 norm: 1.288.. Val L1 norm: 1.127.. Train Linf norm: 253.050.. Val Linf norm: 109.836\n",
            "Epoch 127/150.. Train loss: 2.554.. Val loss: 2.549.. Train L1 norm: 1.401.. Val L1 norm: 1.127.. Train Linf norm: 367.061.. Val Linf norm: 109.836\n",
            "Epoch 128/150.. Train loss: 2.546.. Val loss: 2.549.. Train L1 norm: 1.532.. Val L1 norm: 1.127.. Train Linf norm: 502.314.. Val Linf norm: 109.836\n",
            "Epoch 129/150.. Train loss: 2.569.. Val loss: 2.549.. Train L1 norm: 1.373.. Val L1 norm: 1.127.. Train Linf norm: 341.097.. Val Linf norm: 109.836\n",
            "Epoch 130/150.. Train loss: 2.584.. Val loss: 2.549.. Train L1 norm: 1.227.. Val L1 norm: 1.127.. Train Linf norm: 181.399.. Val Linf norm: 109.836\n",
            "Epoch 131/150.. Train loss: 2.544.. Val loss: 2.549.. Train L1 norm: 1.291.. Val L1 norm: 1.127.. Train Linf norm: 247.094.. Val Linf norm: 109.836\n",
            "Epoch 132/150.. Train loss: 2.592.. Val loss: 2.549.. Train L1 norm: 1.168.. Val L1 norm: 1.127.. Train Linf norm: 128.285.. Val Linf norm: 109.836\n",
            "Epoch 133/150.. Train loss: 2.541.. Val loss: 2.549.. Train L1 norm: 1.330.. Val L1 norm: 1.127.. Train Linf norm: 296.229.. Val Linf norm: 109.836\n",
            "Epoch 134/150.. Train loss: 2.564.. Val loss: 2.549.. Train L1 norm: 1.223.. Val L1 norm: 1.127.. Train Linf norm: 178.065.. Val Linf norm: 109.836\n",
            "Epoch 135/150.. Train loss: 2.532.. Val loss: 2.549.. Train L1 norm: 1.349.. Val L1 norm: 1.127.. Train Linf norm: 295.845.. Val Linf norm: 109.836\n",
            "Epoch 136/150.. Train loss: 2.547.. Val loss: 2.549.. Train L1 norm: 1.248.. Val L1 norm: 1.127.. Train Linf norm: 178.689.. Val Linf norm: 109.836\n",
            "Epoch 137/150.. Train loss: 2.556.. Val loss: 2.549.. Train L1 norm: 1.195.. Val L1 norm: 1.127.. Train Linf norm: 155.250.. Val Linf norm: 109.836\n",
            "Epoch 138/150.. Train loss: 2.551.. Val loss: 2.549.. Train L1 norm: 1.314.. Val L1 norm: 1.127.. Train Linf norm: 266.329.. Val Linf norm: 109.836\n",
            "Epoch 139/150.. Train loss: 2.547.. Val loss: 2.549.. Train L1 norm: 1.550.. Val L1 norm: 1.127.. Train Linf norm: 504.881.. Val Linf norm: 109.836\n",
            "Epoch 140/150.. Train loss: 2.579.. Val loss: 2.549.. Train L1 norm: 1.194.. Val L1 norm: 1.127.. Train Linf norm: 154.651.. Val Linf norm: 109.836\n",
            "Epoch 141/150.. Train loss: 2.561.. Val loss: 2.549.. Train L1 norm: 1.303.. Val L1 norm: 1.127.. Train Linf norm: 267.764.. Val Linf norm: 109.836\n",
            "Epoch 142/150.. Train loss: 2.546.. Val loss: 2.549.. Train L1 norm: 1.314.. Val L1 norm: 1.127.. Train Linf norm: 264.293.. Val Linf norm: 109.836\n",
            "Epoch 143/150.. Train loss: 2.532.. Val loss: 2.549.. Train L1 norm: 1.222.. Val L1 norm: 1.127.. Train Linf norm: 188.453.. Val Linf norm: 109.836\n",
            "Epoch 144/150.. Train loss: 2.563.. Val loss: 2.549.. Train L1 norm: 1.400.. Val L1 norm: 1.127.. Train Linf norm: 367.445.. Val Linf norm: 109.836\n",
            "Epoch 145/150.. Train loss: 2.568.. Val loss: 2.549.. Train L1 norm: 1.187.. Val L1 norm: 1.127.. Train Linf norm: 145.307.. Val Linf norm: 109.836\n",
            "Epoch 146/150.. Train loss: 2.545.. Val loss: 2.549.. Train L1 norm: 1.246.. Val L1 norm: 1.127.. Train Linf norm: 206.589.. Val Linf norm: 109.836\n",
            "Epoch 147/150.. Train loss: 2.584.. Val loss: 2.549.. Train L1 norm: 1.266.. Val L1 norm: 1.127.. Train Linf norm: 226.647.. Val Linf norm: 109.836\n",
            "Epoch 148/150.. Train loss: 2.538.. Val loss: 2.549.. Train L1 norm: 1.406.. Val L1 norm: 1.127.. Train Linf norm: 374.582.. Val Linf norm: 109.836\n",
            "Epoch 149/150.. Train loss: 2.570.. Val loss: 2.549.. Train L1 norm: 1.599.. Val L1 norm: 1.127.. Train Linf norm: 575.356.. Val Linf norm: 109.836\n"
          ]
        },
        {
          "name": "stderr",
          "output_type": "stream",
          "text": [
            "\u001b[32m[I 2023-05-29 12:46:49,719]\u001b[0m Trial 12 finished with value: 1.1268444461822509 and parameters: {'n_layers': 7, 'n_units_0': 3224, 'n_units_1': 3068, 'n_units_2': 400, 'n_units_3': 238, 'n_units_4': 2051, 'n_units_5': 4080, 'n_units_6': 115, 'hidden_activation': 'Swish', 'output_activation': 'Linear', 'loss': 'Quantile', 'optimizer': 'Adagrad', 'lr': 1.4062302204880328e-06, 'batch_size': 1024, 'n_epochs': 150, 'scheduler': 'StepLR', 'dropout_rate': 0.48461304180459536, 'step_size': 5, 'gamma': 0.10708399382224112}. Best is trial 12 with value: 1.1268444461822509.\u001b[0m\n"
          ]
        },
        {
          "name": "stdout",
          "output_type": "stream",
          "text": [
            "Epoch 150/150.. Train loss: 2.585.. Val loss: 2.549.. Train L1 norm: 1.292.. Val L1 norm: 1.127.. Train Linf norm: 254.999.. Val Linf norm: 109.836\n",
            "Epoch 1/150.. Train loss: 427.675.. Val loss: 58.419.. Train L1 norm: 1.695.. Val L1 norm: 1.148.. Train Linf norm: 307.849.. Val Linf norm: 135.263\n",
            "Epoch 2/150.. Train loss: 642.139.. Val loss: 58.526.. Train L1 norm: 1.688.. Val L1 norm: 1.156.. Train Linf norm: 593.111.. Val Linf norm: 142.705\n",
            "Epoch 3/150.. Train loss: 740.409.. Val loss: 58.727.. Train L1 norm: 1.648.. Val L1 norm: 1.150.. Train Linf norm: 574.972.. Val Linf norm: 138.227\n",
            "Epoch 4/150.. Train loss: 274.112.. Val loss: 58.845.. Train L1 norm: 1.793.. Val L1 norm: 1.148.. Train Linf norm: 730.808.. Val Linf norm: 136.411\n",
            "Epoch 5/150.. Train loss: 179.825.. Val loss: 58.920.. Train L1 norm: 2.225.. Val L1 norm: 1.149.. Train Linf norm: 578.089.. Val Linf norm: 136.960\n",
            "Epoch 6/150.. Train loss: 158.277.. Val loss: 58.932.. Train L1 norm: 1.717.. Val L1 norm: 1.149.. Train Linf norm: 663.348.. Val Linf norm: 136.852\n",
            "Epoch 7/150.. Train loss: 127.577.. Val loss: 58.943.. Train L1 norm: 1.760.. Val L1 norm: 1.149.. Train Linf norm: 693.967.. Val Linf norm: 136.970\n",
            "Epoch 8/150.. Train loss: 117.079.. Val loss: 58.942.. Train L1 norm: 1.276.. Val L1 norm: 1.149.. Train Linf norm: 206.228.. Val Linf norm: 137.151\n",
            "Epoch 9/150.. Train loss: 208.171.. Val loss: 58.956.. Train L1 norm: 1.468.. Val L1 norm: 1.149.. Train Linf norm: 407.727.. Val Linf norm: 136.956\n",
            "Epoch 10/150.. Train loss: 83.477.. Val loss: 58.958.. Train L1 norm: 1.457.. Val L1 norm: 1.149.. Train Linf norm: 399.957.. Val Linf norm: 137.226\n",
            "Epoch 11/150.. Train loss: 331.306.. Val loss: 58.960.. Train L1 norm: 1.540.. Val L1 norm: 1.149.. Train Linf norm: 480.707.. Val Linf norm: 137.224\n",
            "Epoch 12/150.. Train loss: 117.753.. Val loss: 58.961.. Train L1 norm: 1.590.. Val L1 norm: 1.149.. Train Linf norm: 519.123.. Val Linf norm: 137.217\n",
            "Epoch 13/150.. Train loss: 969.493.. Val loss: 58.964.. Train L1 norm: 1.417.. Val L1 norm: 1.149.. Train Linf norm: 360.408.. Val Linf norm: 137.075\n",
            "Epoch 14/150.. Train loss: 82.934.. Val loss: 58.963.. Train L1 norm: 1.943.. Val L1 norm: 1.149.. Train Linf norm: 884.465.. Val Linf norm: 137.112\n",
            "Epoch 15/150.. Train loss: 171.375.. Val loss: 58.963.. Train L1 norm: 1.576.. Val L1 norm: 1.149.. Train Linf norm: 515.766.. Val Linf norm: 137.149\n",
            "Epoch 16/150.. Train loss: 124.297.. Val loss: 58.963.. Train L1 norm: 1.510.. Val L1 norm: 1.149.. Train Linf norm: 452.961.. Val Linf norm: 137.151\n",
            "Epoch 17/150.. Train loss: 74.221.. Val loss: 58.963.. Train L1 norm: 1.453.. Val L1 norm: 1.149.. Train Linf norm: 386.242.. Val Linf norm: 137.152\n",
            "Epoch 18/150.. Train loss: 305.332.. Val loss: 58.963.. Train L1 norm: 1.923.. Val L1 norm: 1.149.. Train Linf norm: 861.771.. Val Linf norm: 137.151\n",
            "Epoch 19/150.. Train loss: 300.315.. Val loss: 58.963.. Train L1 norm: 1.426.. Val L1 norm: 1.149.. Train Linf norm: 365.443.. Val Linf norm: 137.145\n",
            "Epoch 20/150.. Train loss: 110.227.. Val loss: 58.963.. Train L1 norm: 1.260.. Val L1 norm: 1.149.. Train Linf norm: 199.143.. Val Linf norm: 137.146\n",
            "Epoch 21/150.. Train loss: 172.987.. Val loss: 58.963.. Train L1 norm: 1.845.. Val L1 norm: 1.149.. Train Linf norm: 791.608.. Val Linf norm: 137.145\n",
            "Epoch 22/150.. Train loss: 168.355.. Val loss: 58.963.. Train L1 norm: 1.402.. Val L1 norm: 1.149.. Train Linf norm: 328.115.. Val Linf norm: 137.145\n",
            "Epoch 23/150.. Train loss: 86.099.. Val loss: 58.963.. Train L1 norm: 1.573.. Val L1 norm: 1.149.. Train Linf norm: 508.877.. Val Linf norm: 137.145\n",
            "Epoch 24/150.. Train loss: 340.396.. Val loss: 58.963.. Train L1 norm: 1.246.. Val L1 norm: 1.149.. Train Linf norm: 178.415.. Val Linf norm: 137.143\n",
            "Epoch 25/150.. Train loss: 162.853.. Val loss: 58.963.. Train L1 norm: 1.263.. Val L1 norm: 1.149.. Train Linf norm: 200.739.. Val Linf norm: 137.143\n",
            "Epoch 26/150.. Train loss: 86.930.. Val loss: 58.963.. Train L1 norm: 2.011.. Val L1 norm: 1.149.. Train Linf norm: 959.729.. Val Linf norm: 137.143\n",
            "Epoch 27/150.. Train loss: 159.782.. Val loss: 58.963.. Train L1 norm: 2.152.. Val L1 norm: 1.149.. Train Linf norm: 1108.429.. Val Linf norm: 137.143\n",
            "Epoch 28/150.. Train loss: 226.089.. Val loss: 58.963.. Train L1 norm: 1.384.. Val L1 norm: 1.149.. Train Linf norm: 320.636.. Val Linf norm: 137.143\n",
            "Epoch 29/150.. Train loss: 180.915.. Val loss: 58.963.. Train L1 norm: 1.359.. Val L1 norm: 1.149.. Train Linf norm: 288.960.. Val Linf norm: 137.143\n",
            "Epoch 30/150.. Train loss: 395.898.. Val loss: 58.963.. Train L1 norm: 1.897.. Val L1 norm: 1.149.. Train Linf norm: 847.021.. Val Linf norm: 137.143\n",
            "Epoch 31/150.. Train loss: 266.813.. Val loss: 58.963.. Train L1 norm: 1.772.. Val L1 norm: 1.149.. Train Linf norm: 712.718.. Val Linf norm: 137.143\n",
            "Epoch 32/150.. Train loss: 390.497.. Val loss: 58.963.. Train L1 norm: 1.467.. Val L1 norm: 1.149.. Train Linf norm: 402.222.. Val Linf norm: 137.143\n",
            "Epoch 33/150.. Train loss: 109.888.. Val loss: 58.963.. Train L1 norm: 1.469.. Val L1 norm: 1.149.. Train Linf norm: 407.405.. Val Linf norm: 137.143\n",
            "Epoch 34/150.. Train loss: 219.516.. Val loss: 58.963.. Train L1 norm: 1.674.. Val L1 norm: 1.149.. Train Linf norm: 616.230.. Val Linf norm: 137.143\n",
            "Epoch 35/150.. Train loss: 70.927.. Val loss: 58.963.. Train L1 norm: 1.548.. Val L1 norm: 1.149.. Train Linf norm: 485.885.. Val Linf norm: 137.143\n",
            "Epoch 36/150.. Train loss: 138.134.. Val loss: 58.963.. Train L1 norm: 1.863.. Val L1 norm: 1.149.. Train Linf norm: 713.721.. Val Linf norm: 137.143\n",
            "Epoch 37/150.. Train loss: 209.779.. Val loss: 58.963.. Train L1 norm: 1.433.. Val L1 norm: 1.149.. Train Linf norm: 377.257.. Val Linf norm: 137.143\n",
            "Epoch 38/150.. Train loss: 63.662.. Val loss: 58.963.. Train L1 norm: 1.504.. Val L1 norm: 1.149.. Train Linf norm: 441.438.. Val Linf norm: 137.143\n",
            "Epoch 39/150.. Train loss: 178.602.. Val loss: 58.963.. Train L1 norm: 1.471.. Val L1 norm: 1.149.. Train Linf norm: 412.331.. Val Linf norm: 137.143\n",
            "Epoch 40/150.. Train loss: 140.702.. Val loss: 58.963.. Train L1 norm: 1.551.. Val L1 norm: 1.149.. Train Linf norm: 496.292.. Val Linf norm: 137.143\n",
            "Epoch 41/150.. Train loss: 201.703.. Val loss: 58.963.. Train L1 norm: 1.689.. Val L1 norm: 1.149.. Train Linf norm: 633.343.. Val Linf norm: 137.143\n",
            "Epoch 42/150.. Train loss: 323.901.. Val loss: 58.963.. Train L1 norm: 1.539.. Val L1 norm: 1.149.. Train Linf norm: 480.936.. Val Linf norm: 137.143\n",
            "Epoch 43/150.. Train loss: 120.326.. Val loss: 58.963.. Train L1 norm: 1.424.. Val L1 norm: 1.149.. Train Linf norm: 357.832.. Val Linf norm: 137.143\n",
            "Epoch 44/150.. Train loss: 101.962.. Val loss: 58.963.. Train L1 norm: 1.538.. Val L1 norm: 1.149.. Train Linf norm: 457.627.. Val Linf norm: 137.143\n",
            "Epoch 45/150.. Train loss: 153.097.. Val loss: 58.963.. Train L1 norm: 2.036.. Val L1 norm: 1.149.. Train Linf norm: 985.546.. Val Linf norm: 137.143\n",
            "Epoch 46/150.. Train loss: 119.958.. Val loss: 58.963.. Train L1 norm: 1.787.. Val L1 norm: 1.149.. Train Linf norm: 737.043.. Val Linf norm: 137.143\n",
            "Epoch 47/150.. Train loss: 215.057.. Val loss: 58.963.. Train L1 norm: 1.521.. Val L1 norm: 1.149.. Train Linf norm: 457.542.. Val Linf norm: 137.143\n",
            "Epoch 48/150.. Train loss: 77.596.. Val loss: 58.963.. Train L1 norm: 1.453.. Val L1 norm: 1.149.. Train Linf norm: 391.845.. Val Linf norm: 137.143\n",
            "Epoch 49/150.. Train loss: 166.794.. Val loss: 58.963.. Train L1 norm: 1.316.. Val L1 norm: 1.149.. Train Linf norm: 254.923.. Val Linf norm: 137.143\n",
            "Epoch 50/150.. Train loss: 159.277.. Val loss: 58.963.. Train L1 norm: 1.384.. Val L1 norm: 1.149.. Train Linf norm: 317.426.. Val Linf norm: 137.143\n",
            "Epoch 51/150.. Train loss: 162.446.. Val loss: 58.963.. Train L1 norm: 1.876.. Val L1 norm: 1.149.. Train Linf norm: 815.575.. Val Linf norm: 137.143\n",
            "Epoch 52/150.. Train loss: 123.922.. Val loss: 58.963.. Train L1 norm: 1.658.. Val L1 norm: 1.149.. Train Linf norm: 599.172.. Val Linf norm: 137.143\n",
            "Epoch 53/150.. Train loss: 133.731.. Val loss: 58.963.. Train L1 norm: 1.389.. Val L1 norm: 1.149.. Train Linf norm: 322.579.. Val Linf norm: 137.143\n",
            "Epoch 54/150.. Train loss: 106.504.. Val loss: 58.963.. Train L1 norm: 1.703.. Val L1 norm: 1.149.. Train Linf norm: 648.335.. Val Linf norm: 137.143\n",
            "Epoch 55/150.. Train loss: 192.928.. Val loss: 58.963.. Train L1 norm: 1.850.. Val L1 norm: 1.149.. Train Linf norm: 792.199.. Val Linf norm: 137.143\n",
            "Epoch 56/150.. Train loss: 118.202.. Val loss: 58.963.. Train L1 norm: 1.564.. Val L1 norm: 1.149.. Train Linf norm: 509.011.. Val Linf norm: 137.143\n",
            "Epoch 57/150.. Train loss: 182.264.. Val loss: 58.963.. Train L1 norm: 1.473.. Val L1 norm: 1.149.. Train Linf norm: 419.703.. Val Linf norm: 137.143\n",
            "Epoch 58/150.. Train loss: 99.916.. Val loss: 58.963.. Train L1 norm: 1.593.. Val L1 norm: 1.149.. Train Linf norm: 534.024.. Val Linf norm: 137.143\n",
            "Epoch 59/150.. Train loss: 137.295.. Val loss: 58.963.. Train L1 norm: 1.730.. Val L1 norm: 1.149.. Train Linf norm: 673.142.. Val Linf norm: 137.143\n",
            "Epoch 60/150.. Train loss: 247.148.. Val loss: 58.963.. Train L1 norm: 1.374.. Val L1 norm: 1.149.. Train Linf norm: 314.640.. Val Linf norm: 137.143\n",
            "Epoch 61/150.. Train loss: 108.255.. Val loss: 58.963.. Train L1 norm: 1.452.. Val L1 norm: 1.149.. Train Linf norm: 383.915.. Val Linf norm: 137.143\n",
            "Epoch 62/150.. Train loss: 114.131.. Val loss: 58.963.. Train L1 norm: 1.783.. Val L1 norm: 1.149.. Train Linf norm: 724.300.. Val Linf norm: 137.143\n",
            "Epoch 63/150.. Train loss: 94.315.. Val loss: 58.963.. Train L1 norm: 2.247.. Val L1 norm: 1.149.. Train Linf norm: 1161.158.. Val Linf norm: 137.143\n",
            "Epoch 64/150.. Train loss: 121.954.. Val loss: 58.963.. Train L1 norm: 1.734.. Val L1 norm: 1.149.. Train Linf norm: 683.604.. Val Linf norm: 137.143\n",
            "Epoch 65/150.. Train loss: 201.166.. Val loss: 58.963.. Train L1 norm: 1.570.. Val L1 norm: 1.149.. Train Linf norm: 491.201.. Val Linf norm: 137.143\n",
            "Epoch 66/150.. Train loss: 175.304.. Val loss: 58.963.. Train L1 norm: 1.409.. Val L1 norm: 1.149.. Train Linf norm: 331.814.. Val Linf norm: 137.143\n",
            "Epoch 67/150.. Train loss: 148.525.. Val loss: 58.963.. Train L1 norm: 1.212.. Val L1 norm: 1.149.. Train Linf norm: 141.001.. Val Linf norm: 137.143\n",
            "Epoch 68/150.. Train loss: 131.744.. Val loss: 58.963.. Train L1 norm: 1.519.. Val L1 norm: 1.149.. Train Linf norm: 448.236.. Val Linf norm: 137.143\n",
            "Epoch 69/150.. Train loss: 85.407.. Val loss: 58.963.. Train L1 norm: 2.146.. Val L1 norm: 1.149.. Train Linf norm: 1102.148.. Val Linf norm: 137.143\n",
            "Epoch 70/150.. Train loss: 189.492.. Val loss: 58.963.. Train L1 norm: 1.837.. Val L1 norm: 1.149.. Train Linf norm: 791.859.. Val Linf norm: 137.143\n",
            "Epoch 71/150.. Train loss: 85.986.. Val loss: 58.963.. Train L1 norm: 1.845.. Val L1 norm: 1.149.. Train Linf norm: 797.564.. Val Linf norm: 137.143\n",
            "Epoch 72/150.. Train loss: 380.156.. Val loss: 58.963.. Train L1 norm: 1.530.. Val L1 norm: 1.149.. Train Linf norm: 460.524.. Val Linf norm: 137.143\n",
            "Epoch 73/150.. Train loss: 111.060.. Val loss: 58.963.. Train L1 norm: 1.491.. Val L1 norm: 1.149.. Train Linf norm: 420.509.. Val Linf norm: 137.143\n",
            "Epoch 74/150.. Train loss: 89.231.. Val loss: 58.963.. Train L1 norm: 1.384.. Val L1 norm: 1.149.. Train Linf norm: 307.579.. Val Linf norm: 137.143\n",
            "Epoch 75/150.. Train loss: 207.635.. Val loss: 58.963.. Train L1 norm: 1.447.. Val L1 norm: 1.149.. Train Linf norm: 284.863.. Val Linf norm: 137.143\n",
            "Epoch 76/150.. Train loss: 138.060.. Val loss: 58.963.. Train L1 norm: 1.838.. Val L1 norm: 1.149.. Train Linf norm: 768.397.. Val Linf norm: 137.143\n",
            "Epoch 77/150.. Train loss: 137.946.. Val loss: 58.963.. Train L1 norm: 1.535.. Val L1 norm: 1.149.. Train Linf norm: 471.513.. Val Linf norm: 137.143\n",
            "Epoch 78/150.. Train loss: 154.658.. Val loss: 58.963.. Train L1 norm: 1.547.. Val L1 norm: 1.149.. Train Linf norm: 479.907.. Val Linf norm: 137.143\n",
            "Epoch 79/150.. Train loss: 123.057.. Val loss: 58.963.. Train L1 norm: 1.713.. Val L1 norm: 1.149.. Train Linf norm: 661.658.. Val Linf norm: 137.143\n",
            "Epoch 80/150.. Train loss: 157.655.. Val loss: 58.963.. Train L1 norm: 1.475.. Val L1 norm: 1.149.. Train Linf norm: 400.292.. Val Linf norm: 137.143\n",
            "Epoch 81/150.. Train loss: 316.377.. Val loss: 58.963.. Train L1 norm: 1.493.. Val L1 norm: 1.149.. Train Linf norm: 432.606.. Val Linf norm: 137.143\n",
            "Epoch 82/150.. Train loss: 172.756.. Val loss: 58.963.. Train L1 norm: 1.761.. Val L1 norm: 1.149.. Train Linf norm: 703.895.. Val Linf norm: 137.143\n",
            "Epoch 83/150.. Train loss: 115.254.. Val loss: 58.963.. Train L1 norm: 1.759.. Val L1 norm: 1.149.. Train Linf norm: 698.287.. Val Linf norm: 137.143\n",
            "Epoch 84/150.. Train loss: 62.470.. Val loss: 58.963.. Train L1 norm: 1.424.. Val L1 norm: 1.149.. Train Linf norm: 346.934.. Val Linf norm: 137.143\n",
            "Epoch 85/150.. Train loss: 278.777.. Val loss: 58.963.. Train L1 norm: 1.381.. Val L1 norm: 1.149.. Train Linf norm: 319.628.. Val Linf norm: 137.143\n",
            "Epoch 86/150.. Train loss: 124.542.. Val loss: 58.963.. Train L1 norm: 1.816.. Val L1 norm: 1.149.. Train Linf norm: 763.696.. Val Linf norm: 137.143\n",
            "Epoch 87/150.. Train loss: 135.521.. Val loss: 58.963.. Train L1 norm: 1.594.. Val L1 norm: 1.149.. Train Linf norm: 537.451.. Val Linf norm: 137.143\n",
            "Epoch 88/150.. Train loss: 113.034.. Val loss: 58.963.. Train L1 norm: 1.690.. Val L1 norm: 1.149.. Train Linf norm: 639.617.. Val Linf norm: 137.143\n",
            "Epoch 89/150.. Train loss: 72.860.. Val loss: 58.963.. Train L1 norm: 1.436.. Val L1 norm: 1.149.. Train Linf norm: 371.328.. Val Linf norm: 137.143\n",
            "Epoch 90/150.. Train loss: 200.482.. Val loss: 58.963.. Train L1 norm: 1.554.. Val L1 norm: 1.149.. Train Linf norm: 500.577.. Val Linf norm: 137.143\n",
            "Epoch 91/150.. Train loss: 119.306.. Val loss: 58.963.. Train L1 norm: 1.687.. Val L1 norm: 1.149.. Train Linf norm: 583.513.. Val Linf norm: 137.143\n",
            "Epoch 92/150.. Train loss: 161.547.. Val loss: 58.963.. Train L1 norm: 1.396.. Val L1 norm: 1.149.. Train Linf norm: 332.419.. Val Linf norm: 137.143\n",
            "Epoch 93/150.. Train loss: 257.856.. Val loss: 58.963.. Train L1 norm: 1.638.. Val L1 norm: 1.149.. Train Linf norm: 309.159.. Val Linf norm: 137.143\n",
            "Epoch 94/150.. Train loss: 233.997.. Val loss: 58.963.. Train L1 norm: 1.941.. Val L1 norm: 1.149.. Train Linf norm: 891.171.. Val Linf norm: 137.143\n",
            "Epoch 95/150.. Train loss: 88.069.. Val loss: 58.963.. Train L1 norm: 1.583.. Val L1 norm: 1.149.. Train Linf norm: 527.444.. Val Linf norm: 137.143\n",
            "Epoch 96/150.. Train loss: 78.460.. Val loss: 58.963.. Train L1 norm: 1.467.. Val L1 norm: 1.149.. Train Linf norm: 406.322.. Val Linf norm: 137.143\n",
            "Epoch 97/150.. Train loss: 96.961.. Val loss: 58.963.. Train L1 norm: 1.630.. Val L1 norm: 1.149.. Train Linf norm: 571.222.. Val Linf norm: 137.143\n",
            "Epoch 98/150.. Train loss: 80.597.. Val loss: 58.963.. Train L1 norm: 1.661.. Val L1 norm: 1.149.. Train Linf norm: 603.916.. Val Linf norm: 137.143\n",
            "Epoch 99/150.. Train loss: 255.491.. Val loss: 58.963.. Train L1 norm: 1.543.. Val L1 norm: 1.149.. Train Linf norm: 486.110.. Val Linf norm: 137.143\n",
            "Epoch 100/150.. Train loss: 67.150.. Val loss: 58.963.. Train L1 norm: 2.008.. Val L1 norm: 1.149.. Train Linf norm: 958.137.. Val Linf norm: 137.143\n",
            "Epoch 101/150.. Train loss: 121.784.. Val loss: 58.963.. Train L1 norm: 1.252.. Val L1 norm: 1.149.. Train Linf norm: 187.166.. Val Linf norm: 137.143\n",
            "Epoch 102/150.. Train loss: 106.519.. Val loss: 58.963.. Train L1 norm: 1.685.. Val L1 norm: 1.149.. Train Linf norm: 633.332.. Val Linf norm: 137.143\n",
            "Epoch 103/150.. Train loss: 77.414.. Val loss: 58.963.. Train L1 norm: 1.634.. Val L1 norm: 1.149.. Train Linf norm: 573.025.. Val Linf norm: 137.143\n",
            "Epoch 104/150.. Train loss: 344.558.. Val loss: 58.963.. Train L1 norm: 1.773.. Val L1 norm: 1.149.. Train Linf norm: 713.619.. Val Linf norm: 137.143\n",
            "Epoch 105/150.. Train loss: 259.965.. Val loss: 58.963.. Train L1 norm: 1.769.. Val L1 norm: 1.149.. Train Linf norm: 716.040.. Val Linf norm: 137.143\n",
            "Epoch 106/150.. Train loss: 220.643.. Val loss: 58.963.. Train L1 norm: 1.421.. Val L1 norm: 1.149.. Train Linf norm: 350.997.. Val Linf norm: 137.143\n",
            "Epoch 107/150.. Train loss: 214.379.. Val loss: 58.963.. Train L1 norm: 1.649.. Val L1 norm: 1.149.. Train Linf norm: 570.890.. Val Linf norm: 137.143\n",
            "Epoch 108/150.. Train loss: 135.793.. Val loss: 58.963.. Train L1 norm: 1.750.. Val L1 norm: 1.149.. Train Linf norm: 679.058.. Val Linf norm: 137.143\n",
            "Epoch 109/150.. Train loss: 126.448.. Val loss: 58.963.. Train L1 norm: 1.826.. Val L1 norm: 1.149.. Train Linf norm: 769.287.. Val Linf norm: 137.143\n",
            "Epoch 110/150.. Train loss: 339.290.. Val loss: 58.963.. Train L1 norm: 1.319.. Val L1 norm: 1.149.. Train Linf norm: 251.989.. Val Linf norm: 137.143\n",
            "Epoch 111/150.. Train loss: 118.358.. Val loss: 58.963.. Train L1 norm: 1.361.. Val L1 norm: 1.149.. Train Linf norm: 300.979.. Val Linf norm: 137.143\n",
            "Epoch 112/150.. Train loss: 161.520.. Val loss: 58.963.. Train L1 norm: 1.802.. Val L1 norm: 1.149.. Train Linf norm: 743.447.. Val Linf norm: 137.143\n",
            "Epoch 113/150.. Train loss: 166.856.. Val loss: 58.963.. Train L1 norm: 1.489.. Val L1 norm: 1.149.. Train Linf norm: 419.442.. Val Linf norm: 137.143\n",
            "Epoch 114/150.. Train loss: 70.669.. Val loss: 58.963.. Train L1 norm: 1.522.. Val L1 norm: 1.149.. Train Linf norm: 464.377.. Val Linf norm: 137.143\n",
            "Epoch 115/150.. Train loss: 130.498.. Val loss: 58.963.. Train L1 norm: 1.496.. Val L1 norm: 1.149.. Train Linf norm: 436.135.. Val Linf norm: 137.143\n",
            "Epoch 116/150.. Train loss: 77.453.. Val loss: 58.963.. Train L1 norm: 1.460.. Val L1 norm: 1.149.. Train Linf norm: 364.899.. Val Linf norm: 137.143\n",
            "Epoch 117/150.. Train loss: 461.044.. Val loss: 58.963.. Train L1 norm: 1.241.. Val L1 norm: 1.149.. Train Linf norm: 168.113.. Val Linf norm: 137.143\n",
            "Epoch 118/150.. Train loss: 147.191.. Val loss: 58.963.. Train L1 norm: 1.463.. Val L1 norm: 1.149.. Train Linf norm: 395.478.. Val Linf norm: 137.143\n",
            "Epoch 119/150.. Train loss: 123.847.. Val loss: 58.963.. Train L1 norm: 1.822.. Val L1 norm: 1.149.. Train Linf norm: 761.557.. Val Linf norm: 137.143\n",
            "Epoch 120/150.. Train loss: 202.311.. Val loss: 58.963.. Train L1 norm: 1.626.. Val L1 norm: 1.149.. Train Linf norm: 562.372.. Val Linf norm: 137.143\n",
            "Epoch 121/150.. Train loss: 135.988.. Val loss: 58.963.. Train L1 norm: 1.612.. Val L1 norm: 1.149.. Train Linf norm: 554.591.. Val Linf norm: 137.143\n",
            "Epoch 122/150.. Train loss: 132.369.. Val loss: 58.963.. Train L1 norm: 1.907.. Val L1 norm: 1.149.. Train Linf norm: 850.575.. Val Linf norm: 137.143\n",
            "Epoch 123/150.. Train loss: 161.639.. Val loss: 58.963.. Train L1 norm: 1.304.. Val L1 norm: 1.149.. Train Linf norm: 234.394.. Val Linf norm: 137.143\n",
            "Epoch 124/150.. Train loss: 106.018.. Val loss: 58.963.. Train L1 norm: 1.285.. Val L1 norm: 1.149.. Train Linf norm: 219.530.. Val Linf norm: 137.143\n",
            "Epoch 125/150.. Train loss: 161.506.. Val loss: 58.963.. Train L1 norm: 1.599.. Val L1 norm: 1.149.. Train Linf norm: 536.235.. Val Linf norm: 137.143\n",
            "Epoch 126/150.. Train loss: 216.362.. Val loss: 58.963.. Train L1 norm: 1.682.. Val L1 norm: 1.149.. Train Linf norm: 625.208.. Val Linf norm: 137.143\n",
            "Epoch 127/150.. Train loss: 97.198.. Val loss: 58.963.. Train L1 norm: 1.491.. Val L1 norm: 1.149.. Train Linf norm: 429.377.. Val Linf norm: 137.143\n",
            "Epoch 128/150.. Train loss: 553.790.. Val loss: 58.963.. Train L1 norm: 1.559.. Val L1 norm: 1.149.. Train Linf norm: 493.049.. Val Linf norm: 137.143\n",
            "Epoch 129/150.. Train loss: 71.127.. Val loss: 58.963.. Train L1 norm: 1.611.. Val L1 norm: 1.149.. Train Linf norm: 556.376.. Val Linf norm: 137.143\n",
            "Epoch 130/150.. Train loss: 474.343.. Val loss: 58.963.. Train L1 norm: 1.552.. Val L1 norm: 1.149.. Train Linf norm: 488.668.. Val Linf norm: 137.143\n",
            "Epoch 131/150.. Train loss: 92.104.. Val loss: 58.963.. Train L1 norm: 1.458.. Val L1 norm: 1.149.. Train Linf norm: 397.093.. Val Linf norm: 137.143\n",
            "Epoch 132/150.. Train loss: 104.579.. Val loss: 58.963.. Train L1 norm: 1.546.. Val L1 norm: 1.149.. Train Linf norm: 488.725.. Val Linf norm: 137.143\n",
            "Epoch 133/150.. Train loss: 259.803.. Val loss: 58.963.. Train L1 norm: 1.544.. Val L1 norm: 1.149.. Train Linf norm: 484.564.. Val Linf norm: 137.143\n",
            "Epoch 134/150.. Train loss: 93.723.. Val loss: 58.963.. Train L1 norm: 1.453.. Val L1 norm: 1.149.. Train Linf norm: 392.329.. Val Linf norm: 137.143\n",
            "Epoch 135/150.. Train loss: 608.655.. Val loss: 58.963.. Train L1 norm: 1.378.. Val L1 norm: 1.149.. Train Linf norm: 319.207.. Val Linf norm: 137.143\n",
            "Epoch 136/150.. Train loss: 694.408.. Val loss: 58.963.. Train L1 norm: 1.727.. Val L1 norm: 1.149.. Train Linf norm: 664.375.. Val Linf norm: 137.143\n",
            "Epoch 137/150.. Train loss: 353.223.. Val loss: 58.963.. Train L1 norm: 1.441.. Val L1 norm: 1.149.. Train Linf norm: 368.705.. Val Linf norm: 137.143\n",
            "Epoch 138/150.. Train loss: 92.748.. Val loss: 58.963.. Train L1 norm: 1.346.. Val L1 norm: 1.149.. Train Linf norm: 278.383.. Val Linf norm: 137.143\n",
            "Epoch 139/150.. Train loss: 487.232.. Val loss: 58.963.. Train L1 norm: 1.457.. Val L1 norm: 1.149.. Train Linf norm: 345.542.. Val Linf norm: 137.143\n",
            "Epoch 140/150.. Train loss: 332.620.. Val loss: 58.963.. Train L1 norm: 1.635.. Val L1 norm: 1.149.. Train Linf norm: 579.834.. Val Linf norm: 137.143\n",
            "Epoch 141/150.. Train loss: 98.821.. Val loss: 58.963.. Train L1 norm: 1.490.. Val L1 norm: 1.149.. Train Linf norm: 426.635.. Val Linf norm: 137.143\n"
          ]
        },
        {
          "name": "stderr",
          "output_type": "stream",
          "text": [
            "\u001b[32m[I 2023-05-29 12:53:24,619]\u001b[0m Trial 13 pruned. \u001b[0m\n"
          ]
        },
        {
          "name": "stdout",
          "output_type": "stream",
          "text": [
            "Epoch 142/150.. Train loss: 66.370.. Val loss: 58.963.. Train L1 norm: 1.882.. Val L1 norm: 1.149.. Train Linf norm: 832.299.. Val Linf norm: 137.143\n",
            "Epoch 1/118.. Train loss: 2.482.. Val loss: 2.398.. Train L1 norm: 2.157.. Val L1 norm: 1.709.. Train Linf norm: 139.496.. Val Linf norm: 85.613\n",
            "Epoch 2/118.. Train loss: 2.508.. Val loss: 2.372.. Train L1 norm: 3.351.. Val L1 norm: 1.930.. Train Linf norm: 283.309.. Val Linf norm: 110.212\n",
            "Epoch 3/118.. Train loss: 2.506.. Val loss: 2.362.. Train L1 norm: 3.179.. Val L1 norm: 2.026.. Train Linf norm: 257.844.. Val Linf norm: 120.833\n",
            "Epoch 4/118.. Train loss: 2.463.. Val loss: 2.354.. Train L1 norm: 3.480.. Val L1 norm: 2.098.. Train Linf norm: 290.061.. Val Linf norm: 128.835\n",
            "Epoch 5/118.. Train loss: 2.517.. Val loss: 2.351.. Train L1 norm: 3.462.. Val L1 norm: 2.136.. Train Linf norm: 292.615.. Val Linf norm: 132.982\n",
            "Epoch 6/118.. Train loss: 2.474.. Val loss: 2.347.. Train L1 norm: 3.602.. Val L1 norm: 2.172.. Train Linf norm: 305.125.. Val Linf norm: 137.048\n",
            "Epoch 7/118.. Train loss: 2.471.. Val loss: 2.345.. Train L1 norm: 3.533.. Val L1 norm: 2.202.. Train Linf norm: 298.808.. Val Linf norm: 140.331\n",
            "Epoch 8/118.. Train loss: 2.511.. Val loss: 2.342.. Train L1 norm: 3.231.. Val L1 norm: 2.225.. Train Linf norm: 259.926.. Val Linf norm: 142.871\n",
            "Epoch 9/118.. Train loss: 2.482.. Val loss: 2.342.. Train L1 norm: 3.352.. Val L1 norm: 2.227.. Train Linf norm: 274.570.. Val Linf norm: 143.068\n",
            "Epoch 10/118.. Train loss: 2.447.. Val loss: 2.342.. Train L1 norm: 4.284.. Val L1 norm: 2.229.. Train Linf norm: 392.275.. Val Linf norm: 143.297\n",
            "Epoch 11/118.. Train loss: 2.520.. Val loss: 2.342.. Train L1 norm: 3.791.. Val L1 norm: 2.230.. Train Linf norm: 332.113.. Val Linf norm: 143.394\n",
            "Epoch 12/118.. Train loss: 2.532.. Val loss: 2.342.. Train L1 norm: 3.756.. Val L1 norm: 2.230.. Train Linf norm: 326.623.. Val Linf norm: 143.484\n",
            "Epoch 13/118.. Train loss: 2.483.. Val loss: 2.342.. Train L1 norm: 3.498.. Val L1 norm: 2.232.. Train Linf norm: 292.720.. Val Linf norm: 143.602\n",
            "Epoch 14/118.. Train loss: 2.473.. Val loss: 2.342.. Train L1 norm: 3.606.. Val L1 norm: 2.233.. Train Linf norm: 307.173.. Val Linf norm: 143.718\n",
            "Epoch 15/118.. Train loss: 2.528.. Val loss: 2.342.. Train L1 norm: 3.569.. Val L1 norm: 2.233.. Train Linf norm: 299.303.. Val Linf norm: 143.770\n",
            "Epoch 16/118.. Train loss: 2.452.. Val loss: 2.342.. Train L1 norm: 3.987.. Val L1 norm: 2.234.. Train Linf norm: 356.349.. Val Linf norm: 143.881\n",
            "Epoch 17/118.. Train loss: 2.499.. Val loss: 2.342.. Train L1 norm: 3.223.. Val L1 norm: 2.234.. Train Linf norm: 256.563.. Val Linf norm: 143.854\n",
            "Epoch 18/118.. Train loss: 2.481.. Val loss: 2.342.. Train L1 norm: 3.781.. Val L1 norm: 2.234.. Train Linf norm: 329.690.. Val Linf norm: 143.830\n",
            "Epoch 19/118.. Train loss: 2.517.. Val loss: 2.342.. Train L1 norm: 4.959.. Val L1 norm: 2.233.. Train Linf norm: 480.569.. Val Linf norm: 143.803\n",
            "Epoch 20/118.. Train loss: 2.535.. Val loss: 2.342.. Train L1 norm: 3.429.. Val L1 norm: 2.233.. Train Linf norm: 285.205.. Val Linf norm: 143.779\n",
            "Epoch 21/118.. Train loss: 2.468.. Val loss: 2.342.. Train L1 norm: 3.907.. Val L1 norm: 2.233.. Train Linf norm: 343.752.. Val Linf norm: 143.758\n",
            "Epoch 22/118.. Train loss: 2.430.. Val loss: 2.342.. Train L1 norm: 4.323.. Val L1 norm: 2.233.. Train Linf norm: 397.803.. Val Linf norm: 143.741\n",
            "Epoch 23/118.. Train loss: 2.464.. Val loss: 2.342.. Train L1 norm: 4.011.. Val L1 norm: 2.233.. Train Linf norm: 358.009.. Val Linf norm: 143.723\n",
            "Epoch 24/118.. Train loss: 2.471.. Val loss: 2.342.. Train L1 norm: 3.531.. Val L1 norm: 2.232.. Train Linf norm: 297.005.. Val Linf norm: 143.704\n",
            "Epoch 25/118.. Train loss: 2.533.. Val loss: 2.342.. Train L1 norm: 3.271.. Val L1 norm: 2.232.. Train Linf norm: 265.142.. Val Linf norm: 143.702\n",
            "Epoch 26/118.. Train loss: 2.452.. Val loss: 2.342.. Train L1 norm: 3.234.. Val L1 norm: 2.232.. Train Linf norm: 259.391.. Val Linf norm: 143.700\n",
            "Epoch 27/118.. Train loss: 2.554.. Val loss: 2.342.. Train L1 norm: 4.699.. Val L1 norm: 2.232.. Train Linf norm: 447.473.. Val Linf norm: 143.697\n",
            "Epoch 28/118.. Train loss: 2.445.. Val loss: 2.342.. Train L1 norm: 3.327.. Val L1 norm: 2.232.. Train Linf norm: 271.508.. Val Linf norm: 143.695\n",
            "Epoch 29/118.. Train loss: 2.437.. Val loss: 2.342.. Train L1 norm: 4.202.. Val L1 norm: 2.232.. Train Linf norm: 383.246.. Val Linf norm: 143.693\n",
            "Epoch 30/118.. Train loss: 2.501.. Val loss: 2.342.. Train L1 norm: 3.732.. Val L1 norm: 2.232.. Train Linf norm: 322.078.. Val Linf norm: 143.690\n",
            "Epoch 31/118.. Train loss: 2.481.. Val loss: 2.342.. Train L1 norm: 4.283.. Val L1 norm: 2.232.. Train Linf norm: 392.046.. Val Linf norm: 143.688\n",
            "Epoch 32/118.. Train loss: 2.490.. Val loss: 2.342.. Train L1 norm: 3.575.. Val L1 norm: 2.232.. Train Linf norm: 303.789.. Val Linf norm: 143.686\n",
            "Epoch 33/118.. Train loss: 2.431.. Val loss: 2.342.. Train L1 norm: 3.328.. Val L1 norm: 2.232.. Train Linf norm: 272.946.. Val Linf norm: 143.686\n",
            "Epoch 34/118.. Train loss: 2.478.. Val loss: 2.342.. Train L1 norm: 3.014.. Val L1 norm: 2.232.. Train Linf norm: 230.372.. Val Linf norm: 143.686\n",
            "Epoch 35/118.. Train loss: 2.442.. Val loss: 2.342.. Train L1 norm: 3.403.. Val L1 norm: 2.232.. Train Linf norm: 280.064.. Val Linf norm: 143.686\n",
            "Epoch 36/118.. Train loss: 2.521.. Val loss: 2.342.. Train L1 norm: 3.898.. Val L1 norm: 2.232.. Train Linf norm: 345.519.. Val Linf norm: 143.686\n",
            "Epoch 37/118.. Train loss: 2.491.. Val loss: 2.342.. Train L1 norm: 3.202.. Val L1 norm: 2.232.. Train Linf norm: 253.978.. Val Linf norm: 143.686\n",
            "Epoch 38/118.. Train loss: 2.450.. Val loss: 2.342.. Train L1 norm: 3.751.. Val L1 norm: 2.232.. Train Linf norm: 326.410.. Val Linf norm: 143.686\n",
            "Epoch 39/118.. Train loss: 2.484.. Val loss: 2.342.. Train L1 norm: 3.397.. Val L1 norm: 2.232.. Train Linf norm: 279.754.. Val Linf norm: 143.685\n",
            "Epoch 40/118.. Train loss: 2.515.. Val loss: 2.342.. Train L1 norm: 3.772.. Val L1 norm: 2.232.. Train Linf norm: 324.448.. Val Linf norm: 143.685\n",
            "Epoch 41/118.. Train loss: 2.489.. Val loss: 2.342.. Train L1 norm: 3.367.. Val L1 norm: 2.232.. Train Linf norm: 275.935.. Val Linf norm: 143.685\n",
            "Epoch 42/118.. Train loss: 2.512.. Val loss: 2.342.. Train L1 norm: 3.918.. Val L1 norm: 2.232.. Train Linf norm: 347.744.. Val Linf norm: 143.685\n",
            "Epoch 43/118.. Train loss: 2.491.. Val loss: 2.342.. Train L1 norm: 3.901.. Val L1 norm: 2.232.. Train Linf norm: 345.034.. Val Linf norm: 143.685\n",
            "Epoch 44/118.. Train loss: 2.472.. Val loss: 2.342.. Train L1 norm: 3.952.. Val L1 norm: 2.232.. Train Linf norm: 351.098.. Val Linf norm: 143.685\n",
            "Epoch 45/118.. Train loss: 2.487.. Val loss: 2.342.. Train L1 norm: 3.148.. Val L1 norm: 2.232.. Train Linf norm: 248.607.. Val Linf norm: 143.685\n",
            "Epoch 46/118.. Train loss: 2.488.. Val loss: 2.342.. Train L1 norm: 3.604.. Val L1 norm: 2.232.. Train Linf norm: 305.577.. Val Linf norm: 143.685\n",
            "Epoch 47/118.. Train loss: 2.454.. Val loss: 2.342.. Train L1 norm: 3.281.. Val L1 norm: 2.232.. Train Linf norm: 265.027.. Val Linf norm: 143.685\n",
            "Epoch 48/118.. Train loss: 2.492.. Val loss: 2.342.. Train L1 norm: 3.997.. Val L1 norm: 2.232.. Train Linf norm: 355.606.. Val Linf norm: 143.685\n",
            "Epoch 49/118.. Train loss: 2.479.. Val loss: 2.342.. Train L1 norm: 3.161.. Val L1 norm: 2.232.. Train Linf norm: 250.162.. Val Linf norm: 143.685\n",
            "Epoch 50/118.. Train loss: 2.466.. Val loss: 2.342.. Train L1 norm: 3.873.. Val L1 norm: 2.232.. Train Linf norm: 340.584.. Val Linf norm: 143.685\n",
            "Epoch 51/118.. Train loss: 2.497.. Val loss: 2.342.. Train L1 norm: 3.792.. Val L1 norm: 2.232.. Train Linf norm: 331.816.. Val Linf norm: 143.685\n",
            "Epoch 52/118.. Train loss: 2.505.. Val loss: 2.342.. Train L1 norm: 4.216.. Val L1 norm: 2.232.. Train Linf norm: 385.821.. Val Linf norm: 143.685\n",
            "Epoch 53/118.. Train loss: 2.424.. Val loss: 2.342.. Train L1 norm: 3.617.. Val L1 norm: 2.232.. Train Linf norm: 309.285.. Val Linf norm: 143.685\n",
            "Epoch 54/118.. Train loss: 2.486.. Val loss: 2.342.. Train L1 norm: 3.707.. Val L1 norm: 2.232.. Train Linf norm: 320.614.. Val Linf norm: 143.685\n",
            "Epoch 55/118.. Train loss: 2.414.. Val loss: 2.342.. Train L1 norm: 3.650.. Val L1 norm: 2.232.. Train Linf norm: 314.105.. Val Linf norm: 143.685\n",
            "Epoch 56/118.. Train loss: 2.508.. Val loss: 2.342.. Train L1 norm: 4.158.. Val L1 norm: 2.232.. Train Linf norm: 377.303.. Val Linf norm: 143.685\n",
            "Epoch 57/118.. Train loss: 2.472.. Val loss: 2.342.. Train L1 norm: 3.687.. Val L1 norm: 2.232.. Train Linf norm: 317.096.. Val Linf norm: 143.685\n",
            "Epoch 58/118.. Train loss: 2.498.. Val loss: 2.342.. Train L1 norm: 3.278.. Val L1 norm: 2.232.. Train Linf norm: 263.302.. Val Linf norm: 143.685\n",
            "Epoch 59/118.. Train loss: 2.431.. Val loss: 2.342.. Train L1 norm: 3.720.. Val L1 norm: 2.232.. Train Linf norm: 322.375.. Val Linf norm: 143.685\n",
            "Epoch 60/118.. Train loss: 2.516.. Val loss: 2.342.. Train L1 norm: 4.898.. Val L1 norm: 2.232.. Train Linf norm: 473.588.. Val Linf norm: 143.685\n",
            "Epoch 61/118.. Train loss: 2.462.. Val loss: 2.342.. Train L1 norm: 3.591.. Val L1 norm: 2.232.. Train Linf norm: 305.611.. Val Linf norm: 143.685\n",
            "Epoch 62/118.. Train loss: 2.474.. Val loss: 2.342.. Train L1 norm: 3.954.. Val L1 norm: 2.232.. Train Linf norm: 351.072.. Val Linf norm: 143.685\n",
            "Epoch 63/118.. Train loss: 2.437.. Val loss: 2.342.. Train L1 norm: 3.789.. Val L1 norm: 2.232.. Train Linf norm: 331.458.. Val Linf norm: 143.685\n",
            "Epoch 64/118.. Train loss: 2.480.. Val loss: 2.342.. Train L1 norm: 3.905.. Val L1 norm: 2.232.. Train Linf norm: 345.422.. Val Linf norm: 143.685\n",
            "Epoch 65/118.. Train loss: 2.537.. Val loss: 2.342.. Train L1 norm: 3.846.. Val L1 norm: 2.232.. Train Linf norm: 338.348.. Val Linf norm: 143.685\n",
            "Epoch 66/118.. Train loss: 2.487.. Val loss: 2.342.. Train L1 norm: 3.616.. Val L1 norm: 2.232.. Train Linf norm: 307.259.. Val Linf norm: 143.685\n",
            "Epoch 67/118.. Train loss: 2.471.. Val loss: 2.342.. Train L1 norm: 3.148.. Val L1 norm: 2.232.. Train Linf norm: 249.080.. Val Linf norm: 143.685\n",
            "Epoch 68/118.. Train loss: 2.456.. Val loss: 2.342.. Train L1 norm: 4.101.. Val L1 norm: 2.232.. Train Linf norm: 368.987.. Val Linf norm: 143.685\n",
            "Epoch 69/118.. Train loss: 2.472.. Val loss: 2.342.. Train L1 norm: 3.891.. Val L1 norm: 2.232.. Train Linf norm: 343.370.. Val Linf norm: 143.685\n",
            "Epoch 70/118.. Train loss: 2.441.. Val loss: 2.342.. Train L1 norm: 3.690.. Val L1 norm: 2.232.. Train Linf norm: 317.732.. Val Linf norm: 143.685\n",
            "Epoch 71/118.. Train loss: 2.451.. Val loss: 2.342.. Train L1 norm: 3.737.. Val L1 norm: 2.232.. Train Linf norm: 323.144.. Val Linf norm: 143.685\n",
            "Epoch 72/118.. Train loss: 2.456.. Val loss: 2.342.. Train L1 norm: 4.072.. Val L1 norm: 2.232.. Train Linf norm: 367.772.. Val Linf norm: 143.685\n",
            "Epoch 73/118.. Train loss: 2.472.. Val loss: 2.342.. Train L1 norm: 3.141.. Val L1 norm: 2.232.. Train Linf norm: 247.715.. Val Linf norm: 143.685\n",
            "Epoch 74/118.. Train loss: 2.488.. Val loss: 2.342.. Train L1 norm: 3.806.. Val L1 norm: 2.232.. Train Linf norm: 332.925.. Val Linf norm: 143.685\n",
            "Epoch 75/118.. Train loss: 2.542.. Val loss: 2.342.. Train L1 norm: 3.346.. Val L1 norm: 2.232.. Train Linf norm: 274.198.. Val Linf norm: 143.685\n",
            "Epoch 76/118.. Train loss: 2.497.. Val loss: 2.342.. Train L1 norm: 3.992.. Val L1 norm: 2.232.. Train Linf norm: 354.966.. Val Linf norm: 143.685\n",
            "Epoch 77/118.. Train loss: 2.454.. Val loss: 2.342.. Train L1 norm: 2.999.. Val L1 norm: 2.232.. Train Linf norm: 229.831.. Val Linf norm: 143.685\n",
            "Epoch 78/118.. Train loss: 2.514.. Val loss: 2.342.. Train L1 norm: 3.864.. Val L1 norm: 2.232.. Train Linf norm: 339.086.. Val Linf norm: 143.685\n",
            "Epoch 79/118.. Train loss: 2.498.. Val loss: 2.342.. Train L1 norm: 3.277.. Val L1 norm: 2.232.. Train Linf norm: 264.423.. Val Linf norm: 143.685\n",
            "Epoch 80/118.. Train loss: 2.487.. Val loss: 2.342.. Train L1 norm: 3.733.. Val L1 norm: 2.232.. Train Linf norm: 322.980.. Val Linf norm: 143.685\n",
            "Epoch 81/118.. Train loss: 2.476.. Val loss: 2.342.. Train L1 norm: 3.439.. Val L1 norm: 2.232.. Train Linf norm: 284.883.. Val Linf norm: 143.685\n",
            "Epoch 82/118.. Train loss: 2.485.. Val loss: 2.342.. Train L1 norm: 3.433.. Val L1 norm: 2.232.. Train Linf norm: 284.628.. Val Linf norm: 143.685\n",
            "Epoch 83/118.. Train loss: 2.518.. Val loss: 2.342.. Train L1 norm: 3.590.. Val L1 norm: 2.232.. Train Linf norm: 304.656.. Val Linf norm: 143.685\n",
            "Epoch 84/118.. Train loss: 2.463.. Val loss: 2.342.. Train L1 norm: 3.447.. Val L1 norm: 2.232.. Train Linf norm: 284.461.. Val Linf norm: 143.685\n",
            "Epoch 85/118.. Train loss: 2.495.. Val loss: 2.342.. Train L1 norm: 3.171.. Val L1 norm: 2.232.. Train Linf norm: 251.071.. Val Linf norm: 143.685\n",
            "Epoch 86/118.. Train loss: 2.467.. Val loss: 2.342.. Train L1 norm: 3.794.. Val L1 norm: 2.232.. Train Linf norm: 332.061.. Val Linf norm: 143.685\n",
            "Epoch 87/118.. Train loss: 2.513.. Val loss: 2.342.. Train L1 norm: 4.067.. Val L1 norm: 2.232.. Train Linf norm: 366.423.. Val Linf norm: 143.685\n",
            "Epoch 88/118.. Train loss: 2.501.. Val loss: 2.342.. Train L1 norm: 3.990.. Val L1 norm: 2.232.. Train Linf norm: 355.671.. Val Linf norm: 143.685\n",
            "Epoch 89/118.. Train loss: 2.472.. Val loss: 2.342.. Train L1 norm: 4.013.. Val L1 norm: 2.232.. Train Linf norm: 358.885.. Val Linf norm: 143.685\n",
            "Epoch 90/118.. Train loss: 2.503.. Val loss: 2.342.. Train L1 norm: 3.662.. Val L1 norm: 2.232.. Train Linf norm: 311.660.. Val Linf norm: 143.685\n",
            "Epoch 91/118.. Train loss: 2.431.. Val loss: 2.342.. Train L1 norm: 3.481.. Val L1 norm: 2.232.. Train Linf norm: 290.936.. Val Linf norm: 143.685\n",
            "Epoch 92/118.. Train loss: 2.479.. Val loss: 2.342.. Train L1 norm: 4.104.. Val L1 norm: 2.232.. Train Linf norm: 369.977.. Val Linf norm: 143.685\n",
            "Epoch 93/118.. Train loss: 2.438.. Val loss: 2.342.. Train L1 norm: 3.692.. Val L1 norm: 2.232.. Train Linf norm: 318.373.. Val Linf norm: 143.685\n",
            "Epoch 94/118.. Train loss: 2.488.. Val loss: 2.342.. Train L1 norm: 3.473.. Val L1 norm: 2.232.. Train Linf norm: 290.819.. Val Linf norm: 143.685\n",
            "Epoch 95/118.. Train loss: 2.485.. Val loss: 2.342.. Train L1 norm: 3.653.. Val L1 norm: 2.232.. Train Linf norm: 314.273.. Val Linf norm: 143.685\n",
            "Epoch 96/118.. Train loss: 2.470.. Val loss: 2.342.. Train L1 norm: 3.488.. Val L1 norm: 2.232.. Train Linf norm: 292.397.. Val Linf norm: 143.685\n",
            "Epoch 97/118.. Train loss: 2.462.. Val loss: 2.342.. Train L1 norm: 4.152.. Val L1 norm: 2.232.. Train Linf norm: 377.030.. Val Linf norm: 143.685\n",
            "Epoch 98/118.. Train loss: 2.507.. Val loss: 2.342.. Train L1 norm: 3.405.. Val L1 norm: 2.232.. Train Linf norm: 280.453.. Val Linf norm: 143.685\n",
            "Epoch 99/118.. Train loss: 2.465.. Val loss: 2.342.. Train L1 norm: 3.595.. Val L1 norm: 2.232.. Train Linf norm: 303.478.. Val Linf norm: 143.685\n",
            "Epoch 100/118.. Train loss: 2.475.. Val loss: 2.342.. Train L1 norm: 3.556.. Val L1 norm: 2.232.. Train Linf norm: 300.444.. Val Linf norm: 143.685\n",
            "Epoch 101/118.. Train loss: 2.432.. Val loss: 2.342.. Train L1 norm: 3.100.. Val L1 norm: 2.232.. Train Linf norm: 242.195.. Val Linf norm: 143.685\n",
            "Epoch 102/118.. Train loss: 2.493.. Val loss: 2.342.. Train L1 norm: 3.918.. Val L1 norm: 2.232.. Train Linf norm: 346.659.. Val Linf norm: 143.685\n",
            "Epoch 103/118.. Train loss: 2.442.. Val loss: 2.342.. Train L1 norm: 3.680.. Val L1 norm: 2.232.. Train Linf norm: 315.705.. Val Linf norm: 143.685\n",
            "Epoch 104/118.. Train loss: 2.495.. Val loss: 2.342.. Train L1 norm: 3.387.. Val L1 norm: 2.232.. Train Linf norm: 278.841.. Val Linf norm: 143.685\n",
            "Epoch 105/118.. Train loss: 2.457.. Val loss: 2.342.. Train L1 norm: 3.678.. Val L1 norm: 2.232.. Train Linf norm: 316.200.. Val Linf norm: 143.685\n",
            "Epoch 106/118.. Train loss: 2.468.. Val loss: 2.342.. Train L1 norm: 3.962.. Val L1 norm: 2.232.. Train Linf norm: 351.511.. Val Linf norm: 143.685\n",
            "Epoch 107/118.. Train loss: 2.512.. Val loss: 2.342.. Train L1 norm: 3.290.. Val L1 norm: 2.232.. Train Linf norm: 265.130.. Val Linf norm: 143.685\n",
            "Epoch 108/118.. Train loss: 2.483.. Val loss: 2.342.. Train L1 norm: 2.935.. Val L1 norm: 2.232.. Train Linf norm: 221.307.. Val Linf norm: 143.685\n",
            "Epoch 109/118.. Train loss: 2.476.. Val loss: 2.342.. Train L1 norm: 3.565.. Val L1 norm: 2.232.. Train Linf norm: 300.189.. Val Linf norm: 143.685\n",
            "Epoch 110/118.. Train loss: 2.462.. Val loss: 2.342.. Train L1 norm: 3.794.. Val L1 norm: 2.232.. Train Linf norm: 329.199.. Val Linf norm: 143.685\n",
            "Epoch 111/118.. Train loss: 2.460.. Val loss: 2.342.. Train L1 norm: 3.272.. Val L1 norm: 2.232.. Train Linf norm: 264.115.. Val Linf norm: 143.685\n",
            "Epoch 112/118.. Train loss: 2.517.. Val loss: 2.342.. Train L1 norm: 4.692.. Val L1 norm: 2.232.. Train Linf norm: 442.475.. Val Linf norm: 143.685\n",
            "Epoch 113/118.. Train loss: 2.497.. Val loss: 2.342.. Train L1 norm: 3.876.. Val L1 norm: 2.232.. Train Linf norm: 341.478.. Val Linf norm: 143.685\n",
            "Epoch 114/118.. Train loss: 2.454.. Val loss: 2.342.. Train L1 norm: 3.132.. Val L1 norm: 2.232.. Train Linf norm: 246.775.. Val Linf norm: 143.685\n",
            "Epoch 115/118.. Train loss: 2.471.. Val loss: 2.342.. Train L1 norm: 3.592.. Val L1 norm: 2.232.. Train Linf norm: 303.710.. Val Linf norm: 143.685\n",
            "Epoch 116/118.. Train loss: 2.504.. Val loss: 2.342.. Train L1 norm: 3.180.. Val L1 norm: 2.232.. Train Linf norm: 252.694.. Val Linf norm: 143.685\n",
            "Epoch 117/118.. Train loss: 2.519.. Val loss: 2.342.. Train L1 norm: 3.229.. Val L1 norm: 2.232.. Train Linf norm: 255.569.. Val Linf norm: 143.685\n"
          ]
        },
        {
          "name": "stderr",
          "output_type": "stream",
          "text": [
            "\u001b[32m[I 2023-05-29 13:05:21,375]\u001b[0m Trial 14 finished with value: 2.232180579630534 and parameters: {'n_layers': 7, 'n_units_0': 3172, 'n_units_1': 3119, 'n_units_2': 1262, 'n_units_3': 404, 'n_units_4': 1476, 'n_units_5': 2076, 'n_units_6': 91, 'hidden_activation': 'Swish', 'output_activation': 'Linear', 'loss': 'Quantile', 'optimizer': 'Adagrad', 'lr': 1.134146956466598e-05, 'batch_size': 128, 'n_epochs': 118, 'scheduler': 'StepLR', 'dropout_rate': 0.3838698368247281, 'step_size': 8, 'gamma': 0.10618558777291492}. Best is trial 12 with value: 1.1268444461822509.\u001b[0m\n"
          ]
        },
        {
          "name": "stdout",
          "output_type": "stream",
          "text": [
            "Epoch 118/118.. Train loss: 2.490.. Val loss: 2.342.. Train L1 norm: 3.485.. Val L1 norm: 2.232.. Train Linf norm: 290.547.. Val Linf norm: 143.685\n",
            "Epoch 1/120.. Train loss: 2.571.. Val loss: 2.549.. Train L1 norm: 1.152.. Val L1 norm: 1.131.. Train Linf norm: 18.813.. Val Linf norm: 17.295\n",
            "Epoch 2/120.. Train loss: 2.564.. Val loss: 2.547.. Train L1 norm: 1.193.. Val L1 norm: 1.126.. Train Linf norm: 24.074.. Val Linf norm: 16.699\n",
            "Epoch 3/120.. Train loss: 2.551.. Val loss: 2.547.. Train L1 norm: 1.345.. Val L1 norm: 1.123.. Train Linf norm: 43.680.. Val Linf norm: 16.400\n",
            "Epoch 4/120.. Train loss: 2.569.. Val loss: 2.546.. Train L1 norm: 1.617.. Val L1 norm: 1.121.. Train Linf norm: 78.718.. Val Linf norm: 16.112\n",
            "Epoch 5/120.. Train loss: 2.565.. Val loss: 2.545.. Train L1 norm: 1.367.. Val L1 norm: 1.120.. Train Linf norm: 46.877.. Val Linf norm: 15.939\n",
            "Epoch 6/120.. Train loss: 2.561.. Val loss: 2.545.. Train L1 norm: 1.162.. Val L1 norm: 1.119.. Train Linf norm: 20.533.. Val Linf norm: 15.824\n",
            "Epoch 7/120.. Train loss: 2.579.. Val loss: 2.545.. Train L1 norm: 1.206.. Val L1 norm: 1.117.. Train Linf norm: 26.170.. Val Linf norm: 15.680\n",
            "Epoch 8/120.. Train loss: 2.568.. Val loss: 2.545.. Train L1 norm: 1.313.. Val L1 norm: 1.116.. Train Linf norm: 39.790.. Val Linf norm: 15.546\n",
            "Epoch 9/120.. Train loss: 2.564.. Val loss: 2.545.. Train L1 norm: 1.132.. Val L1 norm: 1.116.. Train Linf norm: 16.975.. Val Linf norm: 15.516\n",
            "Epoch 10/120.. Train loss: 2.566.. Val loss: 2.545.. Train L1 norm: 1.219.. Val L1 norm: 1.116.. Train Linf norm: 28.174.. Val Linf norm: 15.495\n",
            "Epoch 11/120.. Train loss: 2.562.. Val loss: 2.544.. Train L1 norm: 1.194.. Val L1 norm: 1.115.. Train Linf norm: 24.706.. Val Linf norm: 15.471\n",
            "Epoch 12/120.. Train loss: 2.554.. Val loss: 2.544.. Train L1 norm: 1.257.. Val L1 norm: 1.115.. Train Linf norm: 32.875.. Val Linf norm: 15.449\n",
            "Epoch 13/120.. Train loss: 2.571.. Val loss: 2.544.. Train L1 norm: 1.210.. Val L1 norm: 1.115.. Train Linf norm: 26.969.. Val Linf norm: 15.426\n",
            "Epoch 14/120.. Train loss: 2.558.. Val loss: 2.544.. Train L1 norm: 1.314.. Val L1 norm: 1.115.. Train Linf norm: 39.794.. Val Linf norm: 15.410\n",
            "Epoch 15/120.. Train loss: 2.551.. Val loss: 2.544.. Train L1 norm: 1.124.. Val L1 norm: 1.115.. Train Linf norm: 15.823.. Val Linf norm: 15.398\n",
            "Epoch 16/120.. Train loss: 2.555.. Val loss: 2.544.. Train L1 norm: 1.200.. Val L1 norm: 1.115.. Train Linf norm: 25.199.. Val Linf norm: 15.382\n",
            "Epoch 17/120.. Train loss: 2.556.. Val loss: 2.544.. Train L1 norm: 1.184.. Val L1 norm: 1.115.. Train Linf norm: 23.377.. Val Linf norm: 15.381\n",
            "Epoch 18/120.. Train loss: 2.587.. Val loss: 2.544.. Train L1 norm: 1.206.. Val L1 norm: 1.115.. Train Linf norm: 26.241.. Val Linf norm: 15.381\n",
            "Epoch 19/120.. Train loss: 2.556.. Val loss: 2.544.. Train L1 norm: 1.144.. Val L1 norm: 1.115.. Train Linf norm: 18.439.. Val Linf norm: 15.379\n",
            "Epoch 20/120.. Train loss: 2.560.. Val loss: 2.544.. Train L1 norm: 1.228.. Val L1 norm: 1.115.. Train Linf norm: 29.082.. Val Linf norm: 15.378\n",
            "Epoch 21/120.. Train loss: 2.555.. Val loss: 2.544.. Train L1 norm: 1.216.. Val L1 norm: 1.115.. Train Linf norm: 27.546.. Val Linf norm: 15.379\n",
            "Epoch 22/120.. Train loss: 2.560.. Val loss: 2.544.. Train L1 norm: 1.364.. Val L1 norm: 1.115.. Train Linf norm: 46.472.. Val Linf norm: 15.380\n",
            "Epoch 23/120.. Train loss: 2.574.. Val loss: 2.544.. Train L1 norm: 1.254.. Val L1 norm: 1.115.. Train Linf norm: 32.513.. Val Linf norm: 15.378\n",
            "Epoch 24/120.. Train loss: 2.552.. Val loss: 2.544.. Train L1 norm: 1.239.. Val L1 norm: 1.115.. Train Linf norm: 30.388.. Val Linf norm: 15.377\n",
            "Epoch 25/120.. Train loss: 2.578.. Val loss: 2.544.. Train L1 norm: 1.408.. Val L1 norm: 1.115.. Train Linf norm: 52.390.. Val Linf norm: 15.377\n",
            "Epoch 26/120.. Train loss: 2.548.. Val loss: 2.544.. Train L1 norm: 1.407.. Val L1 norm: 1.115.. Train Linf norm: 52.024.. Val Linf norm: 15.377\n",
            "Epoch 27/120.. Train loss: 2.553.. Val loss: 2.544.. Train L1 norm: 1.143.. Val L1 norm: 1.115.. Train Linf norm: 18.134.. Val Linf norm: 15.377\n",
            "Epoch 28/120.. Train loss: 2.560.. Val loss: 2.544.. Train L1 norm: 1.289.. Val L1 norm: 1.115.. Train Linf norm: 36.887.. Val Linf norm: 15.377\n",
            "Epoch 29/120.. Train loss: 2.554.. Val loss: 2.544.. Train L1 norm: 1.161.. Val L1 norm: 1.115.. Train Linf norm: 20.470.. Val Linf norm: 15.377\n",
            "Epoch 30/120.. Train loss: 2.552.. Val loss: 2.544.. Train L1 norm: 1.148.. Val L1 norm: 1.115.. Train Linf norm: 19.017.. Val Linf norm: 15.377\n",
            "Epoch 31/120.. Train loss: 2.563.. Val loss: 2.544.. Train L1 norm: 1.354.. Val L1 norm: 1.115.. Train Linf norm: 45.305.. Val Linf norm: 15.377\n",
            "Epoch 32/120.. Train loss: 2.554.. Val loss: 2.544.. Train L1 norm: 1.209.. Val L1 norm: 1.115.. Train Linf norm: 26.707.. Val Linf norm: 15.377\n",
            "Epoch 33/120.. Train loss: 2.568.. Val loss: 2.544.. Train L1 norm: 1.141.. Val L1 norm: 1.115.. Train Linf norm: 17.832.. Val Linf norm: 15.377\n",
            "Epoch 34/120.. Train loss: 2.554.. Val loss: 2.544.. Train L1 norm: 1.216.. Val L1 norm: 1.115.. Train Linf norm: 27.633.. Val Linf norm: 15.377\n",
            "Epoch 35/120.. Train loss: 2.551.. Val loss: 2.544.. Train L1 norm: 1.211.. Val L1 norm: 1.115.. Train Linf norm: 26.939.. Val Linf norm: 15.377\n",
            "Epoch 36/120.. Train loss: 2.550.. Val loss: 2.544.. Train L1 norm: 1.153.. Val L1 norm: 1.115.. Train Linf norm: 19.521.. Val Linf norm: 15.377\n",
            "Epoch 37/120.. Train loss: 2.588.. Val loss: 2.544.. Train L1 norm: 1.249.. Val L1 norm: 1.115.. Train Linf norm: 31.732.. Val Linf norm: 15.377\n",
            "Epoch 38/120.. Train loss: 2.579.. Val loss: 2.544.. Train L1 norm: 1.261.. Val L1 norm: 1.115.. Train Linf norm: 33.166.. Val Linf norm: 15.377\n",
            "Epoch 39/120.. Train loss: 2.562.. Val loss: 2.544.. Train L1 norm: 1.308.. Val L1 norm: 1.115.. Train Linf norm: 39.329.. Val Linf norm: 15.377\n",
            "Epoch 40/120.. Train loss: 2.566.. Val loss: 2.544.. Train L1 norm: 1.151.. Val L1 norm: 1.115.. Train Linf norm: 19.174.. Val Linf norm: 15.377\n",
            "Epoch 41/120.. Train loss: 2.571.. Val loss: 2.544.. Train L1 norm: 1.299.. Val L1 norm: 1.115.. Train Linf norm: 38.116.. Val Linf norm: 15.377\n",
            "Epoch 42/120.. Train loss: 2.583.. Val loss: 2.544.. Train L1 norm: 1.267.. Val L1 norm: 1.115.. Train Linf norm: 33.961.. Val Linf norm: 15.377\n",
            "Epoch 43/120.. Train loss: 2.549.. Val loss: 2.544.. Train L1 norm: 1.206.. Val L1 norm: 1.115.. Train Linf norm: 26.181.. Val Linf norm: 15.377\n",
            "Epoch 44/120.. Train loss: 2.559.. Val loss: 2.544.. Train L1 norm: 1.595.. Val L1 norm: 1.115.. Train Linf norm: 75.832.. Val Linf norm: 15.377\n",
            "Epoch 45/120.. Train loss: 2.557.. Val loss: 2.544.. Train L1 norm: 1.127.. Val L1 norm: 1.115.. Train Linf norm: 16.001.. Val Linf norm: 15.377\n",
            "Epoch 46/120.. Train loss: 2.563.. Val loss: 2.544.. Train L1 norm: 1.329.. Val L1 norm: 1.115.. Train Linf norm: 42.316.. Val Linf norm: 15.377\n",
            "Epoch 47/120.. Train loss: 2.546.. Val loss: 2.544.. Train L1 norm: 1.280.. Val L1 norm: 1.115.. Train Linf norm: 35.873.. Val Linf norm: 15.377\n",
            "Epoch 48/120.. Train loss: 2.550.. Val loss: 2.544.. Train L1 norm: 1.314.. Val L1 norm: 1.115.. Train Linf norm: 40.081.. Val Linf norm: 15.377\n",
            "Epoch 49/120.. Train loss: 2.552.. Val loss: 2.544.. Train L1 norm: 1.390.. Val L1 norm: 1.115.. Train Linf norm: 49.832.. Val Linf norm: 15.377\n",
            "Epoch 50/120.. Train loss: 2.557.. Val loss: 2.544.. Train L1 norm: 1.236.. Val L1 norm: 1.115.. Train Linf norm: 30.185.. Val Linf norm: 15.377\n",
            "Epoch 51/120.. Train loss: 2.555.. Val loss: 2.544.. Train L1 norm: 1.199.. Val L1 norm: 1.115.. Train Linf norm: 25.255.. Val Linf norm: 15.377\n",
            "Epoch 52/120.. Train loss: 2.555.. Val loss: 2.544.. Train L1 norm: 1.447.. Val L1 norm: 1.115.. Train Linf norm: 57.198.. Val Linf norm: 15.377\n",
            "Epoch 53/120.. Train loss: 2.566.. Val loss: 2.544.. Train L1 norm: 1.203.. Val L1 norm: 1.115.. Train Linf norm: 25.955.. Val Linf norm: 15.377\n",
            "Epoch 54/120.. Train loss: 2.570.. Val loss: 2.544.. Train L1 norm: 1.257.. Val L1 norm: 1.115.. Train Linf norm: 32.823.. Val Linf norm: 15.377\n",
            "Epoch 55/120.. Train loss: 2.556.. Val loss: 2.544.. Train L1 norm: 1.149.. Val L1 norm: 1.115.. Train Linf norm: 18.994.. Val Linf norm: 15.377\n",
            "Epoch 56/120.. Train loss: 2.552.. Val loss: 2.544.. Train L1 norm: 1.173.. Val L1 norm: 1.115.. Train Linf norm: 21.999.. Val Linf norm: 15.377\n",
            "Epoch 57/120.. Train loss: 2.549.. Val loss: 2.544.. Train L1 norm: 1.154.. Val L1 norm: 1.115.. Train Linf norm: 19.557.. Val Linf norm: 15.377\n",
            "Epoch 58/120.. Train loss: 2.567.. Val loss: 2.544.. Train L1 norm: 1.316.. Val L1 norm: 1.115.. Train Linf norm: 40.181.. Val Linf norm: 15.377\n",
            "Epoch 59/120.. Train loss: 2.562.. Val loss: 2.544.. Train L1 norm: 1.476.. Val L1 norm: 1.115.. Train Linf norm: 60.743.. Val Linf norm: 15.377\n",
            "Epoch 60/120.. Train loss: 2.553.. Val loss: 2.544.. Train L1 norm: 1.220.. Val L1 norm: 1.115.. Train Linf norm: 28.149.. Val Linf norm: 15.377\n",
            "Epoch 61/120.. Train loss: 2.544.. Val loss: 2.544.. Train L1 norm: 1.236.. Val L1 norm: 1.115.. Train Linf norm: 30.352.. Val Linf norm: 15.377\n",
            "Epoch 62/120.. Train loss: 2.567.. Val loss: 2.544.. Train L1 norm: 1.398.. Val L1 norm: 1.115.. Train Linf norm: 50.879.. Val Linf norm: 15.377\n",
            "Epoch 63/120.. Train loss: 2.571.. Val loss: 2.544.. Train L1 norm: 1.303.. Val L1 norm: 1.115.. Train Linf norm: 38.689.. Val Linf norm: 15.377\n",
            "Epoch 64/120.. Train loss: 2.571.. Val loss: 2.544.. Train L1 norm: 1.468.. Val L1 norm: 1.115.. Train Linf norm: 60.065.. Val Linf norm: 15.377\n",
            "Epoch 65/120.. Train loss: 2.554.. Val loss: 2.544.. Train L1 norm: 1.228.. Val L1 norm: 1.115.. Train Linf norm: 28.958.. Val Linf norm: 15.377\n",
            "Epoch 66/120.. Train loss: 2.582.. Val loss: 2.544.. Train L1 norm: 1.346.. Val L1 norm: 1.115.. Train Linf norm: 44.304.. Val Linf norm: 15.377\n",
            "Epoch 67/120.. Train loss: 2.555.. Val loss: 2.544.. Train L1 norm: 1.254.. Val L1 norm: 1.115.. Train Linf norm: 32.434.. Val Linf norm: 15.377\n",
            "Epoch 68/120.. Train loss: 2.552.. Val loss: 2.544.. Train L1 norm: 1.524.. Val L1 norm: 1.115.. Train Linf norm: 66.850.. Val Linf norm: 15.377\n",
            "Epoch 69/120.. Train loss: 2.550.. Val loss: 2.544.. Train L1 norm: 1.245.. Val L1 norm: 1.115.. Train Linf norm: 31.236.. Val Linf norm: 15.377\n",
            "Epoch 70/120.. Train loss: 2.562.. Val loss: 2.544.. Train L1 norm: 1.262.. Val L1 norm: 1.115.. Train Linf norm: 33.603.. Val Linf norm: 15.377\n",
            "Epoch 71/120.. Train loss: 2.552.. Val loss: 2.544.. Train L1 norm: 1.227.. Val L1 norm: 1.115.. Train Linf norm: 29.047.. Val Linf norm: 15.377\n",
            "Epoch 72/120.. Train loss: 2.553.. Val loss: 2.544.. Train L1 norm: 1.299.. Val L1 norm: 1.115.. Train Linf norm: 38.217.. Val Linf norm: 15.377\n",
            "Epoch 73/120.. Train loss: 2.564.. Val loss: 2.544.. Train L1 norm: 1.403.. Val L1 norm: 1.115.. Train Linf norm: 51.645.. Val Linf norm: 15.377\n",
            "Epoch 74/120.. Train loss: 2.558.. Val loss: 2.544.. Train L1 norm: 1.306.. Val L1 norm: 1.115.. Train Linf norm: 39.228.. Val Linf norm: 15.377\n",
            "Epoch 75/120.. Train loss: 2.559.. Val loss: 2.544.. Train L1 norm: 1.210.. Val L1 norm: 1.115.. Train Linf norm: 26.963.. Val Linf norm: 15.377\n",
            "Epoch 76/120.. Train loss: 2.552.. Val loss: 2.544.. Train L1 norm: 1.394.. Val L1 norm: 1.115.. Train Linf norm: 50.390.. Val Linf norm: 15.377\n",
            "Epoch 77/120.. Train loss: 2.562.. Val loss: 2.544.. Train L1 norm: 1.250.. Val L1 norm: 1.115.. Train Linf norm: 31.706.. Val Linf norm: 15.377\n",
            "Epoch 78/120.. Train loss: 2.550.. Val loss: 2.544.. Train L1 norm: 1.289.. Val L1 norm: 1.115.. Train Linf norm: 37.009.. Val Linf norm: 15.377\n",
            "Epoch 79/120.. Train loss: 2.552.. Val loss: 2.544.. Train L1 norm: 1.275.. Val L1 norm: 1.115.. Train Linf norm: 34.991.. Val Linf norm: 15.377\n",
            "Epoch 80/120.. Train loss: 2.572.. Val loss: 2.544.. Train L1 norm: 1.165.. Val L1 norm: 1.115.. Train Linf norm: 21.097.. Val Linf norm: 15.377\n",
            "Epoch 81/120.. Train loss: 2.574.. Val loss: 2.544.. Train L1 norm: 1.169.. Val L1 norm: 1.115.. Train Linf norm: 21.655.. Val Linf norm: 15.377\n",
            "Epoch 82/120.. Train loss: 2.565.. Val loss: 2.544.. Train L1 norm: 1.150.. Val L1 norm: 1.115.. Train Linf norm: 18.894.. Val Linf norm: 15.377\n",
            "Epoch 83/120.. Train loss: 2.560.. Val loss: 2.544.. Train L1 norm: 1.203.. Val L1 norm: 1.115.. Train Linf norm: 25.790.. Val Linf norm: 15.377\n",
            "Epoch 84/120.. Train loss: 2.560.. Val loss: 2.544.. Train L1 norm: 1.127.. Val L1 norm: 1.115.. Train Linf norm: 15.851.. Val Linf norm: 15.377\n",
            "Epoch 85/120.. Train loss: 2.555.. Val loss: 2.544.. Train L1 norm: 1.156.. Val L1 norm: 1.115.. Train Linf norm: 20.043.. Val Linf norm: 15.377\n",
            "Epoch 86/120.. Train loss: 2.562.. Val loss: 2.544.. Train L1 norm: 1.251.. Val L1 norm: 1.115.. Train Linf norm: 32.235.. Val Linf norm: 15.377\n",
            "Epoch 87/120.. Train loss: 2.559.. Val loss: 2.544.. Train L1 norm: 1.333.. Val L1 norm: 1.115.. Train Linf norm: 42.612.. Val Linf norm: 15.377\n",
            "Epoch 88/120.. Train loss: 2.559.. Val loss: 2.544.. Train L1 norm: 1.589.. Val L1 norm: 1.115.. Train Linf norm: 75.389.. Val Linf norm: 15.377\n",
            "Epoch 89/120.. Train loss: 2.568.. Val loss: 2.544.. Train L1 norm: 1.271.. Val L1 norm: 1.115.. Train Linf norm: 34.453.. Val Linf norm: 15.377\n",
            "Epoch 90/120.. Train loss: 2.557.. Val loss: 2.544.. Train L1 norm: 1.196.. Val L1 norm: 1.115.. Train Linf norm: 25.031.. Val Linf norm: 15.377\n",
            "Epoch 91/120.. Train loss: 2.568.. Val loss: 2.544.. Train L1 norm: 1.268.. Val L1 norm: 1.115.. Train Linf norm: 34.476.. Val Linf norm: 15.377\n",
            "Epoch 92/120.. Train loss: 2.592.. Val loss: 2.544.. Train L1 norm: 1.262.. Val L1 norm: 1.115.. Train Linf norm: 33.504.. Val Linf norm: 15.377\n",
            "Epoch 93/120.. Train loss: 2.566.. Val loss: 2.544.. Train L1 norm: 1.253.. Val L1 norm: 1.115.. Train Linf norm: 32.292.. Val Linf norm: 15.377\n",
            "Epoch 94/120.. Train loss: 2.572.. Val loss: 2.544.. Train L1 norm: 1.376.. Val L1 norm: 1.115.. Train Linf norm: 47.772.. Val Linf norm: 15.377\n",
            "Epoch 95/120.. Train loss: 2.554.. Val loss: 2.544.. Train L1 norm: 1.317.. Val L1 norm: 1.115.. Train Linf norm: 40.557.. Val Linf norm: 15.377\n",
            "Epoch 96/120.. Train loss: 2.551.. Val loss: 2.544.. Train L1 norm: 1.341.. Val L1 norm: 1.115.. Train Linf norm: 43.549.. Val Linf norm: 15.377\n",
            "Epoch 97/120.. Train loss: 2.551.. Val loss: 2.544.. Train L1 norm: 1.306.. Val L1 norm: 1.115.. Train Linf norm: 38.572.. Val Linf norm: 15.377\n",
            "Epoch 98/120.. Train loss: 2.555.. Val loss: 2.544.. Train L1 norm: 1.460.. Val L1 norm: 1.115.. Train Linf norm: 58.806.. Val Linf norm: 15.377\n",
            "Epoch 99/120.. Train loss: 2.573.. Val loss: 2.544.. Train L1 norm: 1.173.. Val L1 norm: 1.115.. Train Linf norm: 21.876.. Val Linf norm: 15.377\n",
            "Epoch 100/120.. Train loss: 2.556.. Val loss: 2.544.. Train L1 norm: 1.211.. Val L1 norm: 1.115.. Train Linf norm: 27.096.. Val Linf norm: 15.377\n",
            "Epoch 101/120.. Train loss: 2.552.. Val loss: 2.544.. Train L1 norm: 1.204.. Val L1 norm: 1.115.. Train Linf norm: 26.053.. Val Linf norm: 15.377\n",
            "Epoch 102/120.. Train loss: 2.574.. Val loss: 2.544.. Train L1 norm: 1.183.. Val L1 norm: 1.115.. Train Linf norm: 22.766.. Val Linf norm: 15.377\n",
            "Epoch 103/120.. Train loss: 2.559.. Val loss: 2.544.. Train L1 norm: 1.209.. Val L1 norm: 1.115.. Train Linf norm: 26.781.. Val Linf norm: 15.377\n",
            "Epoch 104/120.. Train loss: 2.559.. Val loss: 2.544.. Train L1 norm: 1.147.. Val L1 norm: 1.115.. Train Linf norm: 18.717.. Val Linf norm: 15.377\n",
            "Epoch 105/120.. Train loss: 2.560.. Val loss: 2.544.. Train L1 norm: 1.285.. Val L1 norm: 1.115.. Train Linf norm: 36.403.. Val Linf norm: 15.377\n",
            "Epoch 106/120.. Train loss: 2.559.. Val loss: 2.544.. Train L1 norm: 1.259.. Val L1 norm: 1.115.. Train Linf norm: 33.087.. Val Linf norm: 15.377\n",
            "Epoch 107/120.. Train loss: 2.558.. Val loss: 2.544.. Train L1 norm: 1.270.. Val L1 norm: 1.115.. Train Linf norm: 34.492.. Val Linf norm: 15.377\n",
            "Epoch 108/120.. Train loss: 2.567.. Val loss: 2.544.. Train L1 norm: 1.453.. Val L1 norm: 1.115.. Train Linf norm: 57.849.. Val Linf norm: 15.377\n",
            "Epoch 109/120.. Train loss: 2.564.. Val loss: 2.544.. Train L1 norm: 1.411.. Val L1 norm: 1.115.. Train Linf norm: 52.476.. Val Linf norm: 15.377\n",
            "Epoch 110/120.. Train loss: 2.558.. Val loss: 2.544.. Train L1 norm: 1.320.. Val L1 norm: 1.115.. Train Linf norm: 40.462.. Val Linf norm: 15.377\n",
            "Epoch 111/120.. Train loss: 2.553.. Val loss: 2.544.. Train L1 norm: 1.454.. Val L1 norm: 1.115.. Train Linf norm: 58.204.. Val Linf norm: 15.377\n",
            "Epoch 112/120.. Train loss: 2.553.. Val loss: 2.544.. Train L1 norm: 1.264.. Val L1 norm: 1.115.. Train Linf norm: 33.832.. Val Linf norm: 15.377\n",
            "Epoch 113/120.. Train loss: 2.551.. Val loss: 2.544.. Train L1 norm: 1.148.. Val L1 norm: 1.115.. Train Linf norm: 19.125.. Val Linf norm: 15.377\n",
            "Epoch 114/120.. Train loss: 2.559.. Val loss: 2.544.. Train L1 norm: 1.141.. Val L1 norm: 1.115.. Train Linf norm: 17.993.. Val Linf norm: 15.377\n",
            "Epoch 115/120.. Train loss: 2.564.. Val loss: 2.544.. Train L1 norm: 1.208.. Val L1 norm: 1.115.. Train Linf norm: 26.690.. Val Linf norm: 15.377\n",
            "Epoch 116/120.. Train loss: 2.563.. Val loss: 2.544.. Train L1 norm: 1.293.. Val L1 norm: 1.115.. Train Linf norm: 37.731.. Val Linf norm: 15.377\n",
            "Epoch 117/120.. Train loss: 2.575.. Val loss: 2.544.. Train L1 norm: 1.280.. Val L1 norm: 1.115.. Train Linf norm: 35.848.. Val Linf norm: 15.377\n",
            "Epoch 118/120.. Train loss: 2.577.. Val loss: 2.544.. Train L1 norm: 1.294.. Val L1 norm: 1.115.. Train Linf norm: 37.366.. Val Linf norm: 15.377\n",
            "Epoch 119/120.. Train loss: 2.562.. Val loss: 2.544.. Train L1 norm: 1.153.. Val L1 norm: 1.115.. Train Linf norm: 19.242.. Val Linf norm: 15.377\n"
          ]
        },
        {
          "name": "stderr",
          "output_type": "stream",
          "text": [
            "\u001b[32m[I 2023-05-29 13:15:49,318]\u001b[0m Trial 15 finished with value: 1.1146586100896199 and parameters: {'n_layers': 7, 'n_units_0': 3148, 'n_units_1': 2988, 'n_units_2': 1264, 'n_units_3': 330, 'n_units_4': 1583, 'n_units_5': 157, 'n_units_6': 22, 'hidden_activation': 'Swish', 'output_activation': 'Linear', 'loss': 'Quantile', 'optimizer': 'Adagrad', 'lr': 2.64154048801672e-06, 'batch_size': 128, 'n_epochs': 120, 'scheduler': 'StepLR', 'dropout_rate': 0.42442040633836087, 'step_size': 8, 'gamma': 0.27159366953571057}. Best is trial 15 with value: 1.1146586100896199.\u001b[0m\n"
          ]
        },
        {
          "name": "stdout",
          "output_type": "stream",
          "text": [
            "Epoch 120/120.. Train loss: 2.548.. Val loss: 2.544.. Train L1 norm: 1.406.. Val L1 norm: 1.115.. Train Linf norm: 51.844.. Val Linf norm: 15.377\n",
            "Epoch 1/126.. Train loss: 2.545.. Val loss: 2.541.. Train L1 norm: 1.024.. Val L1 norm: 1.002.. Train Linf norm: 4.237.. Val Linf norm: 1.230\n",
            "Epoch 2/126.. Train loss: 2.533.. Val loss: 2.537.. Train L1 norm: 1.059.. Val L1 norm: 1.024.. Train Linf norm: 8.939.. Val Linf norm: 4.336\n",
            "Epoch 3/126.. Train loss: 2.527.. Val loss: 2.533.. Train L1 norm: 1.087.. Val L1 norm: 1.049.. Train Linf norm: 12.780.. Val Linf norm: 7.650\n",
            "Epoch 4/126.. Train loss: 2.527.. Val loss: 2.529.. Train L1 norm: 1.128.. Val L1 norm: 1.073.. Train Linf norm: 17.892.. Val Linf norm: 10.774\n",
            "Epoch 5/126.. Train loss: 2.520.. Val loss: 2.525.. Train L1 norm: 1.159.. Val L1 norm: 1.097.. Train Linf norm: 21.840.. Val Linf norm: 13.930\n",
            "Epoch 6/126.. Train loss: 2.517.. Val loss: 2.521.. Train L1 norm: 1.202.. Val L1 norm: 1.122.. Train Linf norm: 27.216.. Val Linf norm: 17.072\n",
            "Epoch 7/126.. Train loss: 2.517.. Val loss: 2.517.. Train L1 norm: 1.292.. Val L1 norm: 1.148.. Train Linf norm: 36.414.. Val Linf norm: 20.275\n",
            "Epoch 8/126.. Train loss: 2.503.. Val loss: 2.512.. Train L1 norm: 1.268.. Val L1 norm: 1.176.. Train Linf norm: 34.937.. Val Linf norm: 23.664\n",
            "Epoch 9/126.. Train loss: 2.504.. Val loss: 2.506.. Train L1 norm: 1.344.. Val L1 norm: 1.207.. Train Linf norm: 44.425.. Val Linf norm: 27.439\n",
            "Epoch 10/126.. Train loss: 2.494.. Val loss: 2.499.. Train L1 norm: 1.461.. Val L1 norm: 1.244.. Train Linf norm: 58.872.. Val Linf norm: 31.931\n",
            "Epoch 11/126.. Train loss: 2.498.. Val loss: 2.490.. Train L1 norm: 1.554.. Val L1 norm: 1.290.. Train Linf norm: 69.673.. Val Linf norm: 37.321\n",
            "Epoch 12/126.. Train loss: 2.465.. Val loss: 2.477.. Train L1 norm: 1.768.. Val L1 norm: 1.356.. Train Linf norm: 95.744.. Val Linf norm: 45.146\n",
            "Epoch 13/126.. Train loss: 2.468.. Val loss: 2.456.. Train L1 norm: 1.997.. Val L1 norm: 1.475.. Train Linf norm: 123.124.. Val Linf norm: 58.925\n",
            "Epoch 14/126.. Train loss: 2.455.. Val loss: 2.433.. Train L1 norm: 2.200.. Val L1 norm: 1.630.. Train Linf norm: 145.467.. Val Linf norm: 76.793\n",
            "Epoch 15/126.. Train loss: 2.424.. Val loss: 2.401.. Train L1 norm: 2.401.. Val L1 norm: 1.875.. Train Linf norm: 167.173.. Val Linf norm: 104.523\n",
            "Epoch 16/126.. Train loss: 2.412.. Val loss: 2.366.. Train L1 norm: 3.340.. Val L1 norm: 2.175.. Train Linf norm: 279.443.. Val Linf norm: 138.032\n",
            "Epoch 17/126.. Train loss: 2.406.. Val loss: 2.332.. Train L1 norm: 3.458.. Val L1 norm: 2.499.. Train Linf norm: 286.315.. Val Linf norm: 173.677\n",
            "Epoch 18/126.. Train loss: 2.382.. Val loss: 2.300.. Train L1 norm: 4.467.. Val L1 norm: 2.841.. Train Linf norm: 407.862.. Val Linf norm: 210.867\n",
            "Epoch 19/126.. Train loss: 2.396.. Val loss: 2.272.. Train L1 norm: 4.593.. Val L1 norm: 3.178.. Train Linf norm: 416.758.. Val Linf norm: 246.983\n",
            "Epoch 20/126.. Train loss: 2.353.. Val loss: 2.251.. Train L1 norm: 4.436.. Val L1 norm: 3.450.. Train Linf norm: 387.216.. Val Linf norm: 275.863\n",
            "Epoch 21/126.. Train loss: 2.312.. Val loss: 2.240.. Train L1 norm: 5.770.. Val L1 norm: 3.613.. Train Linf norm: 551.442.. Val Linf norm: 293.165\n",
            "Epoch 22/126.. Train loss: 2.393.. Val loss: 2.233.. Train L1 norm: 5.670.. Val L1 norm: 3.713.. Train Linf norm: 532.861.. Val Linf norm: 303.750\n",
            "Epoch 23/126.. Train loss: 2.423.. Val loss: 2.233.. Train L1 norm: 5.894.. Val L1 norm: 3.723.. Train Linf norm: 562.883.. Val Linf norm: 304.888\n",
            "Epoch 24/126.. Train loss: 2.408.. Val loss: 2.228.. Train L1 norm: 5.960.. Val L1 norm: 3.803.. Train Linf norm: 569.163.. Val Linf norm: 313.401\n",
            "Epoch 25/126.. Train loss: 2.300.. Val loss: 2.222.. Train L1 norm: 5.151.. Val L1 norm: 3.904.. Train Linf norm: 465.186.. Val Linf norm: 324.008\n",
            "Epoch 26/126.. Train loss: 2.368.. Val loss: 2.215.. Train L1 norm: 4.943.. Val L1 norm: 4.016.. Train Linf norm: 433.148.. Val Linf norm: 335.822\n",
            "Epoch 27/126.. Train loss: 2.369.. Val loss: 2.216.. Train L1 norm: 5.418.. Val L1 norm: 4.002.. Train Linf norm: 496.404.. Val Linf norm: 334.391\n",
            "Epoch 28/126.. Train loss: 2.459.. Val loss: 2.219.. Train L1 norm: 6.193.. Val L1 norm: 3.939.. Train Linf norm: 587.993.. Val Linf norm: 327.912\n",
            "Epoch 29/126.. Train loss: 2.335.. Val loss: 2.216.. Train L1 norm: 4.531.. Val L1 norm: 3.996.. Train Linf norm: 384.749.. Val Linf norm: 333.962\n",
            "Epoch 30/126.. Train loss: 2.329.. Val loss: 2.215.. Train L1 norm: 5.114.. Val L1 norm: 4.016.. Train Linf norm: 458.777.. Val Linf norm: 336.111\n",
            "Epoch 31/126.. Train loss: 2.401.. Val loss: 2.217.. Train L1 norm: 5.891.. Val L1 norm: 3.991.. Train Linf norm: 557.386.. Val Linf norm: 333.560\n",
            "Epoch 32/126.. Train loss: 2.303.. Val loss: 2.213.. Train L1 norm: 6.694.. Val L1 norm: 4.058.. Train Linf norm: 659.122.. Val Linf norm: 340.548\n",
            "Epoch 33/126.. Train loss: 2.301.. Val loss: 2.211.. Train L1 norm: 5.404.. Val L1 norm: 4.085.. Train Linf norm: 497.176.. Val Linf norm: 343.487\n",
            "Epoch 34/126.. Train loss: 2.316.. Val loss: 2.208.. Train L1 norm: 6.163.. Val L1 norm: 4.137.. Train Linf norm: 590.181.. Val Linf norm: 348.885\n",
            "Epoch 35/126.. Train loss: 2.291.. Val loss: 2.201.. Train L1 norm: 6.257.. Val L1 norm: 4.257.. Train Linf norm: 600.501.. Val Linf norm: 361.505\n",
            "Epoch 36/126.. Train loss: 2.256.. Val loss: 2.191.. Train L1 norm: 6.031.. Val L1 norm: 4.442.. Train Linf norm: 567.213.. Val Linf norm: 380.982\n",
            "Epoch 37/126.. Train loss: 2.264.. Val loss: 2.183.. Train L1 norm: 6.006.. Val L1 norm: 4.591.. Train Linf norm: 561.953.. Val Linf norm: 396.505\n",
            "Epoch 38/126.. Train loss: 2.269.. Val loss: 2.175.. Train L1 norm: 5.144.. Val L1 norm: 4.734.. Train Linf norm: 446.891.. Val Linf norm: 411.432\n",
            "Epoch 39/126.. Train loss: 2.278.. Val loss: 2.173.. Train L1 norm: 7.523.. Val L1 norm: 4.770.. Train Linf norm: 747.672.. Val Linf norm: 415.210\n",
            "Epoch 40/126.. Train loss: 2.246.. Val loss: 2.172.. Train L1 norm: 7.124.. Val L1 norm: 4.771.. Train Linf norm: 697.652.. Val Linf norm: 415.478\n",
            "Epoch 41/126.. Train loss: 2.322.. Val loss: 2.165.. Train L1 norm: 8.521.. Val L1 norm: 4.921.. Train Linf norm: 868.455.. Val Linf norm: 431.050\n",
            "Epoch 42/126.. Train loss: 2.234.. Val loss: 2.167.. Train L1 norm: 7.034.. Val L1 norm: 4.856.. Train Linf norm: 683.065.. Val Linf norm: 424.476\n",
            "Epoch 43/126.. Train loss: 2.313.. Val loss: 2.166.. Train L1 norm: 7.573.. Val L1 norm: 4.859.. Train Linf norm: 752.494.. Val Linf norm: 424.888\n",
            "Epoch 44/126.. Train loss: 2.291.. Val loss: 2.168.. Train L1 norm: 8.143.. Val L1 norm: 4.824.. Train Linf norm: 829.216.. Val Linf norm: 421.292\n",
            "Epoch 45/126.. Train loss: 2.268.. Val loss: 2.163.. Train L1 norm: 7.895.. Val L1 norm: 4.922.. Train Linf norm: 795.716.. Val Linf norm: 431.499\n",
            "Epoch 46/126.. Train loss: 2.240.. Val loss: 2.157.. Train L1 norm: 6.657.. Val L1 norm: 5.043.. Train Linf norm: 634.383.. Val Linf norm: 444.159\n",
            "Epoch 47/126.. Train loss: 2.231.. Val loss: 2.153.. Train L1 norm: 7.141.. Val L1 norm: 5.117.. Train Linf norm: 694.436.. Val Linf norm: 451.961\n",
            "Epoch 48/126.. Train loss: 2.255.. Val loss: 2.151.. Train L1 norm: 7.979.. Val L1 norm: 5.165.. Train Linf norm: 796.792.. Val Linf norm: 456.919\n",
            "Epoch 49/126.. Train loss: 2.221.. Val loss: 2.149.. Train L1 norm: 7.879.. Val L1 norm: 5.199.. Train Linf norm: 782.297.. Val Linf norm: 460.612\n",
            "Epoch 50/126.. Train loss: 2.270.. Val loss: 2.148.. Train L1 norm: 6.804.. Val L1 norm: 5.201.. Train Linf norm: 648.785.. Val Linf norm: 460.900\n",
            "Epoch 51/126.. Train loss: 2.196.. Val loss: 2.149.. Train L1 norm: 6.853.. Val L1 norm: 5.168.. Train Linf norm: 656.038.. Val Linf norm: 457.587\n",
            "Epoch 52/126.. Train loss: 2.254.. Val loss: 2.150.. Train L1 norm: 7.113.. Val L1 norm: 5.134.. Train Linf norm: 689.282.. Val Linf norm: 454.134\n",
            "Epoch 53/126.. Train loss: 2.289.. Val loss: 2.147.. Train L1 norm: 6.870.. Val L1 norm: 5.198.. Train Linf norm: 655.676.. Val Linf norm: 460.834\n",
            "Epoch 54/126.. Train loss: 2.255.. Val loss: 2.149.. Train L1 norm: 7.833.. Val L1 norm: 5.141.. Train Linf norm: 784.050.. Val Linf norm: 454.932\n",
            "Epoch 55/126.. Train loss: 2.309.. Val loss: 2.146.. Train L1 norm: 7.442.. Val L1 norm: 5.200.. Train Linf norm: 728.828.. Val Linf norm: 461.165\n",
            "Epoch 56/126.. Train loss: 2.229.. Val loss: 2.154.. Train L1 norm: 6.474.. Val L1 norm: 5.030.. Train Linf norm: 606.543.. Val Linf norm: 443.600\n",
            "Epoch 57/126.. Train loss: 2.266.. Val loss: 2.146.. Train L1 norm: 6.780.. Val L1 norm: 5.203.. Train Linf norm: 647.715.. Val Linf norm: 461.727\n",
            "Epoch 58/126.. Train loss: 2.195.. Val loss: 2.143.. Train L1 norm: 7.300.. Val L1 norm: 5.264.. Train Linf norm: 712.152.. Val Linf norm: 468.075\n",
            "Epoch 59/126.. Train loss: 2.344.. Val loss: 2.140.. Train L1 norm: 6.356.. Val L1 norm: 5.330.. Train Linf norm: 587.596.. Val Linf norm: 475.074\n",
            "Epoch 60/126.. Train loss: 2.229.. Val loss: 2.143.. Train L1 norm: 6.846.. Val L1 norm: 5.228.. Train Linf norm: 649.435.. Val Linf norm: 464.513\n",
            "Epoch 61/126.. Train loss: 2.201.. Val loss: 2.143.. Train L1 norm: 8.741.. Val L1 norm: 5.221.. Train Linf norm: 894.976.. Val Linf norm: 463.917\n",
            "Epoch 62/126.. Train loss: 2.279.. Val loss: 2.140.. Train L1 norm: 6.507.. Val L1 norm: 5.300.. Train Linf norm: 608.978.. Val Linf norm: 472.066\n",
            "Epoch 63/126.. Train loss: 2.247.. Val loss: 2.138.. Train L1 norm: 6.713.. Val L1 norm: 5.322.. Train Linf norm: 631.875.. Val Linf norm: 474.440\n",
            "Epoch 64/126.. Train loss: 2.179.. Val loss: 2.132.. Train L1 norm: 8.913.. Val L1 norm: 5.478.. Train Linf norm: 913.810.. Val Linf norm: 490.790\n",
            "Epoch 65/126.. Train loss: 2.217.. Val loss: 2.128.. Train L1 norm: 7.666.. Val L1 norm: 5.545.. Train Linf norm: 748.913.. Val Linf norm: 497.831\n",
            "Epoch 66/126.. Train loss: 2.192.. Val loss: 2.125.. Train L1 norm: 6.918.. Val L1 norm: 5.617.. Train Linf norm: 655.728.. Val Linf norm: 505.473\n",
            "Epoch 67/126.. Train loss: 2.231.. Val loss: 2.125.. Train L1 norm: 7.854.. Val L1 norm: 5.607.. Train Linf norm: 772.960.. Val Linf norm: 504.640\n",
            "Epoch 68/126.. Train loss: 2.176.. Val loss: 2.125.. Train L1 norm: 7.620.. Val L1 norm: 5.587.. Train Linf norm: 738.021.. Val Linf norm: 502.692\n",
            "Epoch 69/126.. Train loss: 2.160.. Val loss: 2.119.. Train L1 norm: 8.214.. Val L1 norm: 5.733.. Train Linf norm: 809.725.. Val Linf norm: 518.075\n",
            "Epoch 70/126.. Train loss: 2.167.. Val loss: 2.116.. Train L1 norm: 9.186.. Val L1 norm: 5.788.. Train Linf norm: 940.372.. Val Linf norm: 524.139\n",
            "Epoch 71/126.. Train loss: 2.184.. Val loss: 2.112.. Train L1 norm: 7.699.. Val L1 norm: 5.864.. Train Linf norm: 683.373.. Val Linf norm: 532.167\n",
            "Epoch 72/126.. Train loss: 2.177.. Val loss: 2.109.. Train L1 norm: 8.622.. Val L1 norm: 5.925.. Train Linf norm: 866.301.. Val Linf norm: 538.788\n",
            "Epoch 73/126.. Train loss: 2.204.. Val loss: 2.110.. Train L1 norm: 8.015.. Val L1 norm: 5.856.. Train Linf norm: 786.595.. Val Linf norm: 531.972\n",
            "Epoch 74/126.. Train loss: 2.189.. Val loss: 2.111.. Train L1 norm: 7.652.. Val L1 norm: 5.827.. Train Linf norm: 742.372.. Val Linf norm: 529.187\n",
            "Epoch 75/126.. Train loss: 2.229.. Val loss: 2.113.. Train L1 norm: 7.685.. Val L1 norm: 5.728.. Train Linf norm: 747.133.. Val Linf norm: 518.932\n",
            "Epoch 76/126.. Train loss: 2.217.. Val loss: 2.114.. Train L1 norm: 8.504.. Val L1 norm: 5.690.. Train Linf norm: 850.914.. Val Linf norm: 515.133\n",
            "Epoch 77/126.. Train loss: 2.221.. Val loss: 2.108.. Train L1 norm: 8.316.. Val L1 norm: 5.833.. Train Linf norm: 825.826.. Val Linf norm: 530.327\n",
            "Epoch 78/126.. Train loss: 2.184.. Val loss: 2.110.. Train L1 norm: 6.946.. Val L1 norm: 5.757.. Train Linf norm: 653.974.. Val Linf norm: 522.554\n",
            "Epoch 79/126.. Train loss: 2.182.. Val loss: 2.107.. Train L1 norm: 7.158.. Val L1 norm: 5.807.. Train Linf norm: 681.297.. Val Linf norm: 527.934\n",
            "Epoch 80/126.. Train loss: 2.176.. Val loss: 2.105.. Train L1 norm: 7.168.. Val L1 norm: 5.839.. Train Linf norm: 678.767.. Val Linf norm: 531.472\n",
            "Epoch 81/126.. Train loss: 2.194.. Val loss: 2.096.. Train L1 norm: 7.728.. Val L1 norm: 6.087.. Train Linf norm: 744.209.. Val Linf norm: 557.664\n",
            "Epoch 82/126.. Train loss: 2.177.. Val loss: 2.100.. Train L1 norm: 7.701.. Val L1 norm: 5.921.. Train Linf norm: 744.393.. Val Linf norm: 540.851\n",
            "Epoch 83/126.. Train loss: 2.159.. Val loss: 2.094.. Train L1 norm: 7.807.. Val L1 norm: 6.067.. Train Linf norm: 753.017.. Val Linf norm: 556.135\n",
            "Epoch 84/126.. Train loss: 2.166.. Val loss: 2.096.. Train L1 norm: 8.685.. Val L1 norm: 5.977.. Train Linf norm: 868.178.. Val Linf norm: 547.068\n",
            "Epoch 85/126.. Train loss: 2.217.. Val loss: 2.100.. Train L1 norm: 7.832.. Val L1 norm: 5.834.. Train Linf norm: 759.527.. Val Linf norm: 532.367\n",
            "Epoch 86/126.. Train loss: 2.182.. Val loss: 2.100.. Train L1 norm: 8.418.. Val L1 norm: 5.820.. Train Linf norm: 840.970.. Val Linf norm: 531.124\n",
            "Epoch 87/126.. Train loss: 2.191.. Val loss: 2.094.. Train L1 norm: 7.718.. Val L1 norm: 5.988.. Train Linf norm: 743.740.. Val Linf norm: 548.676\n",
            "Epoch 88/126.. Train loss: 2.145.. Val loss: 2.092.. Train L1 norm: 7.773.. Val L1 norm: 6.027.. Train Linf norm: 749.694.. Val Linf norm: 552.982\n",
            "Epoch 89/126.. Train loss: 2.152.. Val loss: 2.090.. Train L1 norm: 7.489.. Val L1 norm: 6.034.. Train Linf norm: 716.853.. Val Linf norm: 554.383\n",
            "Epoch 90/126.. Train loss: 2.168.. Val loss: 2.086.. Train L1 norm: 8.559.. Val L1 norm: 6.148.. Train Linf norm: 853.930.. Val Linf norm: 566.576\n",
            "Epoch 91/126.. Train loss: 2.194.. Val loss: 2.093.. Train L1 norm: 8.825.. Val L1 norm: 5.916.. Train Linf norm: 890.452.. Val Linf norm: 542.687\n",
            "Epoch 92/126.. Train loss: 2.162.. Val loss: 2.085.. Train L1 norm: 7.198.. Val L1 norm: 6.134.. Train Linf norm: 679.001.. Val Linf norm: 565.341\n",
            "Epoch 93/126.. Train loss: 2.133.. Val loss: 2.080.. Train L1 norm: 8.215.. Val L1 norm: 6.249.. Train Linf norm: 785.188.. Val Linf norm: 577.812\n",
            "Epoch 94/126.. Train loss: 2.159.. Val loss: 2.084.. Train L1 norm: 7.466.. Val L1 norm: 6.101.. Train Linf norm: 710.933.. Val Linf norm: 563.013\n",
            "Epoch 95/126.. Train loss: 2.119.. Val loss: 2.078.. Train L1 norm: 7.876.. Val L1 norm: 6.266.. Train Linf norm: 765.140.. Val Linf norm: 580.243\n",
            "Epoch 96/126.. Train loss: 2.140.. Val loss: 2.073.. Train L1 norm: 8.849.. Val L1 norm: 6.394.. Train Linf norm: 886.016.. Val Linf norm: 593.954\n",
            "Epoch 97/126.. Train loss: 2.165.. Val loss: 2.076.. Train L1 norm: 7.459.. Val L1 norm: 6.286.. Train Linf norm: 703.937.. Val Linf norm: 583.281\n",
            "Epoch 98/126.. Train loss: 2.121.. Val loss: 2.069.. Train L1 norm: 7.970.. Val L1 norm: 6.478.. Train Linf norm: 775.102.. Val Linf norm: 603.564\n",
            "Epoch 99/126.. Train loss: 2.135.. Val loss: 2.066.. Train L1 norm: 8.229.. Val L1 norm: 6.563.. Train Linf norm: 800.455.. Val Linf norm: 613.230\n",
            "Epoch 100/126.. Train loss: 2.159.. Val loss: 2.069.. Train L1 norm: 7.912.. Val L1 norm: 6.431.. Train Linf norm: 763.892.. Val Linf norm: 599.856\n",
            "Epoch 101/126.. Train loss: 2.140.. Val loss: 2.072.. Train L1 norm: 8.007.. Val L1 norm: 6.352.. Train Linf norm: 768.022.. Val Linf norm: 591.377\n",
            "Epoch 102/126.. Train loss: 2.138.. Val loss: 2.072.. Train L1 norm: 8.008.. Val L1 norm: 6.327.. Train Linf norm: 772.227.. Val Linf norm: 588.863\n",
            "Epoch 103/126.. Train loss: 2.140.. Val loss: 2.065.. Train L1 norm: 7.946.. Val L1 norm: 6.539.. Train Linf norm: 765.613.. Val Linf norm: 611.296\n",
            "Epoch 104/126.. Train loss: 2.131.. Val loss: 2.065.. Train L1 norm: 8.413.. Val L1 norm: 6.518.. Train Linf norm: 815.602.. Val Linf norm: 609.658\n",
            "Epoch 105/126.. Train loss: 2.111.. Val loss: 2.059.. Train L1 norm: 8.655.. Val L1 norm: 6.689.. Train Linf norm: 857.107.. Val Linf norm: 627.769\n",
            "Epoch 106/126.. Train loss: 2.129.. Val loss: 2.053.. Train L1 norm: 8.643.. Val L1 norm: 6.880.. Train Linf norm: 842.330.. Val Linf norm: 648.561\n",
            "Epoch 107/126.. Train loss: 2.098.. Val loss: 2.057.. Train L1 norm: 8.366.. Val L1 norm: 6.733.. Train Linf norm: 813.047.. Val Linf norm: 633.705\n",
            "Epoch 108/126.. Train loss: 2.092.. Val loss: 2.047.. Train L1 norm: 9.209.. Val L1 norm: 7.049.. Train Linf norm: 921.246.. Val Linf norm: 666.807\n",
            "Epoch 109/126.. Train loss: 2.104.. Val loss: 2.047.. Train L1 norm: 8.544.. Val L1 norm: 7.028.. Train Linf norm: 836.426.. Val Linf norm: 665.606\n",
            "Epoch 110/126.. Train loss: 2.117.. Val loss: 2.048.. Train L1 norm: 8.631.. Val L1 norm: 6.967.. Train Linf norm: 837.180.. Val Linf norm: 659.838\n",
            "Epoch 111/126.. Train loss: 2.114.. Val loss: 2.048.. Train L1 norm: 9.337.. Val L1 norm: 6.977.. Train Linf norm: 938.600.. Val Linf norm: 660.603\n",
            "Epoch 112/126.. Train loss: 2.107.. Val loss: 2.047.. Train L1 norm: 9.287.. Val L1 norm: 6.987.. Train Linf norm: 928.205.. Val Linf norm: 661.747\n",
            "Epoch 113/126.. Train loss: 2.101.. Val loss: 2.046.. Train L1 norm: 9.240.. Val L1 norm: 7.024.. Train Linf norm: 925.230.. Val Linf norm: 666.139\n",
            "Epoch 114/126.. Train loss: 2.122.. Val loss: 2.047.. Train L1 norm: 8.039.. Val L1 norm: 7.024.. Train Linf norm: 774.596.. Val Linf norm: 666.340\n",
            "Epoch 115/126.. Train loss: 2.138.. Val loss: 2.046.. Train L1 norm: 9.067.. Val L1 norm: 7.054.. Train Linf norm: 898.408.. Val Linf norm: 669.942\n",
            "Epoch 116/126.. Train loss: 2.107.. Val loss: 2.042.. Train L1 norm: 8.702.. Val L1 norm: 7.166.. Train Linf norm: 850.804.. Val Linf norm: 681.833\n",
            "Epoch 117/126.. Train loss: 2.106.. Val loss: 2.048.. Train L1 norm: 8.730.. Val L1 norm: 6.977.. Train Linf norm: 859.698.. Val Linf norm: 662.362\n",
            "Epoch 118/126.. Train loss: 2.099.. Val loss: 2.043.. Train L1 norm: 9.045.. Val L1 norm: 7.166.. Train Linf norm: 898.611.. Val Linf norm: 682.550\n",
            "Epoch 119/126.. Train loss: 2.111.. Val loss: 2.046.. Train L1 norm: 9.361.. Val L1 norm: 7.071.. Train Linf norm: 942.968.. Val Linf norm: 673.630\n",
            "Epoch 120/126.. Train loss: 2.099.. Val loss: 2.039.. Train L1 norm: 8.679.. Val L1 norm: 7.300.. Train Linf norm: 853.100.. Val Linf norm: 697.389\n",
            "Epoch 121/126.. Train loss: 2.102.. Val loss: 2.038.. Train L1 norm: 8.787.. Val L1 norm: 7.322.. Train Linf norm: 864.540.. Val Linf norm: 700.797\n",
            "Epoch 122/126.. Train loss: 2.078.. Val loss: 2.034.. Train L1 norm: 9.482.. Val L1 norm: 7.467.. Train Linf norm: 949.228.. Val Linf norm: 716.165\n",
            "Epoch 123/126.. Train loss: 2.089.. Val loss: 2.028.. Train L1 norm: 9.278.. Val L1 norm: 7.703.. Train Linf norm: 918.866.. Val Linf norm: 741.835\n",
            "Epoch 124/126.. Train loss: 2.087.. Val loss: 2.034.. Train L1 norm: 7.870.. Val L1 norm: 7.461.. Train Linf norm: 732.935.. Val Linf norm: 716.983\n",
            "Epoch 125/126.. Train loss: 2.117.. Val loss: 2.033.. Train L1 norm: 8.639.. Val L1 norm: 7.510.. Train Linf norm: 840.203.. Val Linf norm: 722.181\n"
          ]
        },
        {
          "name": "stderr",
          "output_type": "stream",
          "text": [
            "\u001b[32m[I 2023-05-29 13:36:31,811]\u001b[0m Trial 16 finished with value: 7.357594332059224 and parameters: {'n_layers': 10, 'n_units_0': 4054, 'n_units_1': 2908, 'n_units_2': 1071, 'n_units_3': 2129, 'n_units_4': 2352, 'n_units_5': 402, 'n_units_6': 296, 'n_units_7': 4055, 'n_units_8': 103, 'n_units_9': 1923, 'hidden_activation': 'Swish', 'output_activation': 'Linear', 'loss': 'Quantile', 'optimizer': 'Adam', 'lr': 1.4368967345747019e-06, 'batch_size': 128, 'n_epochs': 126, 'scheduler': 'ReduceLROnPlateau', 'dropout_rate': 0.48165158670624597, 'weight_decay': 0.008921703564807034, 'beta1': 0.9970813104389141, 'beta2': 0.9990541889252061, 'factor': 0.1083668688269458, 'patience': 10, 'threshold': 0.00014209495243458476}. Best is trial 15 with value: 1.1146586100896199.\u001b[0m\n"
          ]
        },
        {
          "name": "stdout",
          "output_type": "stream",
          "text": [
            "Epoch 126/126.. Train loss: 2.096.. Val loss: 2.038.. Train L1 norm: 7.829.. Val L1 norm: 7.358.. Train Linf norm: 737.840.. Val Linf norm: 706.777\n",
            "Epoch 1/149.. Train loss: 2.561.. Val loss: 2.532.. Train L1 norm: 1.577.. Val L1 norm: 1.035.. Train Linf norm: 483.310.. Val Linf norm: 37.264\n",
            "Epoch 2/149.. Train loss: 2.549.. Val loss: 2.530.. Train L1 norm: 1.807.. Val L1 norm: 1.043.. Train Linf norm: 734.195.. Val Linf norm: 44.735\n",
            "Epoch 3/149.. Train loss: 2.570.. Val loss: 2.529.. Train L1 norm: 1.789.. Val L1 norm: 1.048.. Train Linf norm: 710.461.. Val Linf norm: 49.269\n",
            "Epoch 4/149.. Train loss: 2.535.. Val loss: 2.528.. Train L1 norm: 1.299.. Val L1 norm: 1.051.. Train Linf norm: 202.073.. Val Linf norm: 52.279\n",
            "Epoch 5/149.. Train loss: 2.575.. Val loss: 2.528.. Train L1 norm: 1.761.. Val L1 norm: 1.054.. Train Linf norm: 681.428.. Val Linf norm: 54.602\n",
            "Epoch 6/149.. Train loss: 2.591.. Val loss: 2.527.. Train L1 norm: 1.487.. Val L1 norm: 1.056.. Train Linf norm: 399.498.. Val Linf norm: 56.535\n",
            "Epoch 7/149.. Train loss: 2.566.. Val loss: 2.527.. Train L1 norm: 1.906.. Val L1 norm: 1.057.. Train Linf norm: 833.193.. Val Linf norm: 57.848\n",
            "Epoch 8/149.. Train loss: 2.519.. Val loss: 2.527.. Train L1 norm: 1.977.. Val L1 norm: 1.058.. Train Linf norm: 898.084.. Val Linf norm: 58.316\n",
            "Epoch 9/149.. Train loss: 2.581.. Val loss: 2.527.. Train L1 norm: 1.518.. Val L1 norm: 1.058.. Train Linf norm: 436.245.. Val Linf norm: 58.714\n",
            "Epoch 10/149.. Train loss: 2.537.. Val loss: 2.526.. Train L1 norm: 1.394.. Val L1 norm: 1.058.. Train Linf norm: 309.916.. Val Linf norm: 59.013\n",
            "Epoch 11/149.. Train loss: 2.522.. Val loss: 2.526.. Train L1 norm: 1.346.. Val L1 norm: 1.059.. Train Linf norm: 254.516.. Val Linf norm: 59.286\n",
            "Epoch 12/149.. Train loss: 2.531.. Val loss: 2.526.. Train L1 norm: 1.457.. Val L1 norm: 1.059.. Train Linf norm: 361.782.. Val Linf norm: 59.480\n",
            "Epoch 13/149.. Train loss: 2.535.. Val loss: 2.526.. Train L1 norm: 1.879.. Val L1 norm: 1.059.. Train Linf norm: 806.574.. Val Linf norm: 59.799\n",
            "Epoch 14/149.. Train loss: 2.588.. Val loss: 2.526.. Train L1 norm: 1.644.. Val L1 norm: 1.059.. Train Linf norm: 559.667.. Val Linf norm: 59.918\n",
            "Epoch 15/149.. Train loss: 2.525.. Val loss: 2.526.. Train L1 norm: 1.847.. Val L1 norm: 1.059.. Train Linf norm: 768.936.. Val Linf norm: 59.959\n",
            "Epoch 16/149.. Train loss: 2.527.. Val loss: 2.526.. Train L1 norm: 1.353.. Val L1 norm: 1.060.. Train Linf norm: 272.550.. Val Linf norm: 60.023\n",
            "Epoch 17/149.. Train loss: 2.541.. Val loss: 2.526.. Train L1 norm: 1.499.. Val L1 norm: 1.060.. Train Linf norm: 420.362.. Val Linf norm: 60.046\n",
            "Epoch 18/149.. Train loss: 2.541.. Val loss: 2.526.. Train L1 norm: 1.393.. Val L1 norm: 1.060.. Train Linf norm: 306.589.. Val Linf norm: 60.085\n",
            "Epoch 19/149.. Train loss: 2.513.. Val loss: 2.526.. Train L1 norm: 1.425.. Val L1 norm: 1.060.. Train Linf norm: 346.157.. Val Linf norm: 60.114\n",
            "Epoch 20/149.. Train loss: 2.527.. Val loss: 2.526.. Train L1 norm: 1.821.. Val L1 norm: 1.060.. Train Linf norm: 749.842.. Val Linf norm: 60.102\n",
            "Epoch 21/149.. Train loss: 2.575.. Val loss: 2.526.. Train L1 norm: 1.778.. Val L1 norm: 1.060.. Train Linf norm: 701.982.. Val Linf norm: 60.113\n",
            "Epoch 22/149.. Train loss: 2.626.. Val loss: 2.526.. Train L1 norm: 1.487.. Val L1 norm: 1.060.. Train Linf norm: 393.559.. Val Linf norm: 60.107\n",
            "Epoch 23/149.. Train loss: 2.528.. Val loss: 2.526.. Train L1 norm: 2.552.. Val L1 norm: 1.060.. Train Linf norm: 1474.159.. Val Linf norm: 60.108\n",
            "Epoch 24/149.. Train loss: 2.585.. Val loss: 2.526.. Train L1 norm: 1.644.. Val L1 norm: 1.060.. Train Linf norm: 560.540.. Val Linf norm: 60.101\n",
            "Epoch 25/149.. Train loss: 2.580.. Val loss: 2.526.. Train L1 norm: 2.592.. Val L1 norm: 1.060.. Train Linf norm: 1530.355.. Val Linf norm: 60.101\n",
            "Epoch 26/149.. Train loss: 2.533.. Val loss: 2.526.. Train L1 norm: 1.473.. Val L1 norm: 1.060.. Train Linf norm: 388.566.. Val Linf norm: 60.099\n",
            "Epoch 27/149.. Train loss: 2.537.. Val loss: 2.526.. Train L1 norm: 1.790.. Val L1 norm: 1.060.. Train Linf norm: 693.948.. Val Linf norm: 60.097\n",
            "Epoch 28/149.. Train loss: 2.548.. Val loss: 2.526.. Train L1 norm: 1.473.. Val L1 norm: 1.060.. Train Linf norm: 387.990.. Val Linf norm: 60.094\n",
            "Epoch 29/149.. Train loss: 2.542.. Val loss: 2.526.. Train L1 norm: 1.439.. Val L1 norm: 1.060.. Train Linf norm: 337.896.. Val Linf norm: 60.093\n",
            "Epoch 30/149.. Train loss: 2.529.. Val loss: 2.526.. Train L1 norm: 1.443.. Val L1 norm: 1.060.. Train Linf norm: 358.829.. Val Linf norm: 60.093\n",
            "Epoch 31/149.. Train loss: 2.541.. Val loss: 2.526.. Train L1 norm: 1.590.. Val L1 norm: 1.060.. Train Linf norm: 505.499.. Val Linf norm: 60.093\n",
            "Epoch 32/149.. Train loss: 2.526.. Val loss: 2.526.. Train L1 norm: 1.456.. Val L1 norm: 1.060.. Train Linf norm: 374.269.. Val Linf norm: 60.092\n",
            "Epoch 33/149.. Train loss: 2.517.. Val loss: 2.526.. Train L1 norm: 1.423.. Val L1 norm: 1.060.. Train Linf norm: 328.388.. Val Linf norm: 60.092\n",
            "Epoch 34/149.. Train loss: 2.538.. Val loss: 2.526.. Train L1 norm: 2.108.. Val L1 norm: 1.060.. Train Linf norm: 1030.737.. Val Linf norm: 60.091\n",
            "Epoch 35/149.. Train loss: 2.581.. Val loss: 2.526.. Train L1 norm: 1.722.. Val L1 norm: 1.060.. Train Linf norm: 634.068.. Val Linf norm: 60.090\n",
            "Epoch 36/149.. Train loss: 2.530.. Val loss: 2.526.. Train L1 norm: 2.390.. Val L1 norm: 1.060.. Train Linf norm: 1325.470.. Val Linf norm: 60.090\n",
            "Epoch 37/149.. Train loss: 2.573.. Val loss: 2.526.. Train L1 norm: 1.464.. Val L1 norm: 1.060.. Train Linf norm: 379.167.. Val Linf norm: 60.090\n",
            "Epoch 38/149.. Train loss: 2.526.. Val loss: 2.526.. Train L1 norm: 1.804.. Val L1 norm: 1.060.. Train Linf norm: 729.647.. Val Linf norm: 60.089\n",
            "Epoch 39/149.. Train loss: 2.520.. Val loss: 2.526.. Train L1 norm: 1.570.. Val L1 norm: 1.060.. Train Linf norm: 484.435.. Val Linf norm: 60.089\n",
            "Epoch 40/149.. Train loss: 2.547.. Val loss: 2.526.. Train L1 norm: 1.637.. Val L1 norm: 1.060.. Train Linf norm: 503.805.. Val Linf norm: 60.089\n",
            "Epoch 41/149.. Train loss: 2.531.. Val loss: 2.526.. Train L1 norm: 2.277.. Val L1 norm: 1.060.. Train Linf norm: 1199.957.. Val Linf norm: 60.089\n",
            "Epoch 42/149.. Train loss: 2.540.. Val loss: 2.526.. Train L1 norm: 1.740.. Val L1 norm: 1.060.. Train Linf norm: 643.091.. Val Linf norm: 60.089\n",
            "Epoch 43/149.. Train loss: 2.536.. Val loss: 2.526.. Train L1 norm: 1.321.. Val L1 norm: 1.060.. Train Linf norm: 230.291.. Val Linf norm: 60.089\n",
            "Epoch 44/149.. Train loss: 2.553.. Val loss: 2.526.. Train L1 norm: 1.571.. Val L1 norm: 1.060.. Train Linf norm: 482.042.. Val Linf norm: 60.089\n",
            "Epoch 45/149.. Train loss: 2.552.. Val loss: 2.526.. Train L1 norm: 1.721.. Val L1 norm: 1.060.. Train Linf norm: 639.084.. Val Linf norm: 60.089\n",
            "Epoch 46/149.. Train loss: 2.576.. Val loss: 2.526.. Train L1 norm: 2.411.. Val L1 norm: 1.060.. Train Linf norm: 1348.536.. Val Linf norm: 60.089\n",
            "Epoch 47/149.. Train loss: 2.563.. Val loss: 2.526.. Train L1 norm: 2.039.. Val L1 norm: 1.060.. Train Linf norm: 958.904.. Val Linf norm: 60.089\n",
            "Epoch 48/149.. Train loss: 2.564.. Val loss: 2.526.. Train L1 norm: 1.608.. Val L1 norm: 1.060.. Train Linf norm: 510.394.. Val Linf norm: 60.089\n",
            "Epoch 49/149.. Train loss: 2.537.. Val loss: 2.526.. Train L1 norm: 2.296.. Val L1 norm: 1.060.. Train Linf norm: 1229.363.. Val Linf norm: 60.089\n",
            "Epoch 50/149.. Train loss: 2.526.. Val loss: 2.526.. Train L1 norm: 1.766.. Val L1 norm: 1.060.. Train Linf norm: 657.704.. Val Linf norm: 60.089\n",
            "Epoch 51/149.. Train loss: 2.536.. Val loss: 2.526.. Train L1 norm: 1.570.. Val L1 norm: 1.060.. Train Linf norm: 488.998.. Val Linf norm: 60.089\n",
            "Epoch 52/149.. Train loss: 2.542.. Val loss: 2.526.. Train L1 norm: 1.448.. Val L1 norm: 1.060.. Train Linf norm: 354.860.. Val Linf norm: 60.089\n",
            "Epoch 53/149.. Train loss: 2.519.. Val loss: 2.526.. Train L1 norm: 1.315.. Val L1 norm: 1.060.. Train Linf norm: 213.233.. Val Linf norm: 60.089\n",
            "Epoch 54/149.. Train loss: 2.573.. Val loss: 2.526.. Train L1 norm: 1.449.. Val L1 norm: 1.060.. Train Linf norm: 362.310.. Val Linf norm: 60.089\n",
            "Epoch 55/149.. Train loss: 2.550.. Val loss: 2.526.. Train L1 norm: 1.752.. Val L1 norm: 1.060.. Train Linf norm: 678.814.. Val Linf norm: 60.089\n",
            "Epoch 56/149.. Train loss: 2.533.. Val loss: 2.526.. Train L1 norm: 1.656.. Val L1 norm: 1.060.. Train Linf norm: 574.014.. Val Linf norm: 60.089\n",
            "Epoch 57/149.. Train loss: 2.526.. Val loss: 2.526.. Train L1 norm: 1.493.. Val L1 norm: 1.060.. Train Linf norm: 409.989.. Val Linf norm: 60.089\n",
            "Epoch 58/149.. Train loss: 2.561.. Val loss: 2.526.. Train L1 norm: 1.680.. Val L1 norm: 1.060.. Train Linf norm: 595.126.. Val Linf norm: 60.089\n",
            "Epoch 59/149.. Train loss: 2.531.. Val loss: 2.526.. Train L1 norm: 1.510.. Val L1 norm: 1.060.. Train Linf norm: 421.273.. Val Linf norm: 60.089\n",
            "Epoch 60/149.. Train loss: 2.553.. Val loss: 2.526.. Train L1 norm: 1.833.. Val L1 norm: 1.060.. Train Linf norm: 757.712.. Val Linf norm: 60.089\n",
            "Epoch 61/149.. Train loss: 2.548.. Val loss: 2.526.. Train L1 norm: 1.273.. Val L1 norm: 1.060.. Train Linf norm: 186.886.. Val Linf norm: 60.089\n",
            "Epoch 62/149.. Train loss: 2.558.. Val loss: 2.526.. Train L1 norm: 1.751.. Val L1 norm: 1.060.. Train Linf norm: 667.217.. Val Linf norm: 60.089\n",
            "Epoch 63/149.. Train loss: 2.564.. Val loss: 2.526.. Train L1 norm: 1.557.. Val L1 norm: 1.060.. Train Linf norm: 456.823.. Val Linf norm: 60.089\n",
            "Epoch 64/149.. Train loss: 2.594.. Val loss: 2.526.. Train L1 norm: 1.342.. Val L1 norm: 1.060.. Train Linf norm: 250.100.. Val Linf norm: 60.089\n",
            "Epoch 65/149.. Train loss: 2.533.. Val loss: 2.526.. Train L1 norm: 1.967.. Val L1 norm: 1.060.. Train Linf norm: 893.872.. Val Linf norm: 60.089\n",
            "Epoch 66/149.. Train loss: 2.528.. Val loss: 2.526.. Train L1 norm: 1.654.. Val L1 norm: 1.060.. Train Linf norm: 578.311.. Val Linf norm: 60.089\n",
            "Epoch 67/149.. Train loss: 2.541.. Val loss: 2.526.. Train L1 norm: 1.622.. Val L1 norm: 1.060.. Train Linf norm: 522.317.. Val Linf norm: 60.089\n",
            "Epoch 68/149.. Train loss: 2.531.. Val loss: 2.526.. Train L1 norm: 1.647.. Val L1 norm: 1.060.. Train Linf norm: 493.848.. Val Linf norm: 60.089\n",
            "Epoch 69/149.. Train loss: 2.547.. Val loss: 2.526.. Train L1 norm: 1.640.. Val L1 norm: 1.060.. Train Linf norm: 542.330.. Val Linf norm: 60.089\n",
            "Epoch 70/149.. Train loss: 2.529.. Val loss: 2.526.. Train L1 norm: 1.391.. Val L1 norm: 1.060.. Train Linf norm: 295.772.. Val Linf norm: 60.089\n",
            "Epoch 71/149.. Train loss: 2.549.. Val loss: 2.526.. Train L1 norm: 1.902.. Val L1 norm: 1.060.. Train Linf norm: 824.160.. Val Linf norm: 60.089\n",
            "Epoch 72/149.. Train loss: 2.532.. Val loss: 2.526.. Train L1 norm: 2.112.. Val L1 norm: 1.060.. Train Linf norm: 1035.204.. Val Linf norm: 60.089\n",
            "Epoch 73/149.. Train loss: 2.533.. Val loss: 2.526.. Train L1 norm: 2.235.. Val L1 norm: 1.060.. Train Linf norm: 1158.867.. Val Linf norm: 60.089\n",
            "Epoch 74/149.. Train loss: 2.524.. Val loss: 2.526.. Train L1 norm: 1.398.. Val L1 norm: 1.060.. Train Linf norm: 305.529.. Val Linf norm: 60.089\n",
            "Epoch 75/149.. Train loss: 2.531.. Val loss: 2.526.. Train L1 norm: 1.758.. Val L1 norm: 1.060.. Train Linf norm: 670.894.. Val Linf norm: 60.089\n",
            "Epoch 76/149.. Train loss: 2.549.. Val loss: 2.526.. Train L1 norm: 2.349.. Val L1 norm: 1.060.. Train Linf norm: 1291.297.. Val Linf norm: 60.089\n",
            "Epoch 77/149.. Train loss: 2.552.. Val loss: 2.526.. Train L1 norm: 1.377.. Val L1 norm: 1.060.. Train Linf norm: 275.550.. Val Linf norm: 60.089\n",
            "Epoch 78/149.. Train loss: 2.551.. Val loss: 2.526.. Train L1 norm: 1.875.. Val L1 norm: 1.060.. Train Linf norm: 799.762.. Val Linf norm: 60.089\n",
            "Epoch 79/149.. Train loss: 2.570.. Val loss: 2.526.. Train L1 norm: 1.758.. Val L1 norm: 1.060.. Train Linf norm: 680.884.. Val Linf norm: 60.089\n",
            "Epoch 80/149.. Train loss: 2.537.. Val loss: 2.526.. Train L1 norm: 1.682.. Val L1 norm: 1.060.. Train Linf norm: 596.083.. Val Linf norm: 60.089\n",
            "Epoch 81/149.. Train loss: 2.611.. Val loss: 2.526.. Train L1 norm: 1.336.. Val L1 norm: 1.060.. Train Linf norm: 256.733.. Val Linf norm: 60.089\n",
            "Epoch 82/149.. Train loss: 2.536.. Val loss: 2.526.. Train L1 norm: 1.343.. Val L1 norm: 1.060.. Train Linf norm: 238.940.. Val Linf norm: 60.089\n",
            "Epoch 83/149.. Train loss: 2.556.. Val loss: 2.526.. Train L1 norm: 1.586.. Val L1 norm: 1.060.. Train Linf norm: 500.212.. Val Linf norm: 60.089\n",
            "Epoch 84/149.. Train loss: 2.565.. Val loss: 2.526.. Train L1 norm: 1.844.. Val L1 norm: 1.060.. Train Linf norm: 769.690.. Val Linf norm: 60.089\n",
            "Epoch 85/149.. Train loss: 2.558.. Val loss: 2.526.. Train L1 norm: 1.303.. Val L1 norm: 1.060.. Train Linf norm: 223.327.. Val Linf norm: 60.089\n",
            "Epoch 86/149.. Train loss: 2.558.. Val loss: 2.526.. Train L1 norm: 1.644.. Val L1 norm: 1.060.. Train Linf norm: 554.867.. Val Linf norm: 60.089\n",
            "Epoch 87/149.. Train loss: 2.512.. Val loss: 2.526.. Train L1 norm: 1.699.. Val L1 norm: 1.060.. Train Linf norm: 604.377.. Val Linf norm: 60.089\n",
            "Epoch 88/149.. Train loss: 2.533.. Val loss: 2.526.. Train L1 norm: 1.684.. Val L1 norm: 1.060.. Train Linf norm: 607.576.. Val Linf norm: 60.089\n",
            "Epoch 89/149.. Train loss: 2.518.. Val loss: 2.526.. Train L1 norm: 1.424.. Val L1 norm: 1.060.. Train Linf norm: 350.213.. Val Linf norm: 60.089\n",
            "Epoch 90/149.. Train loss: 2.554.. Val loss: 2.526.. Train L1 norm: 1.515.. Val L1 norm: 1.060.. Train Linf norm: 415.380.. Val Linf norm: 60.089\n",
            "Epoch 91/149.. Train loss: 2.536.. Val loss: 2.526.. Train L1 norm: 1.970.. Val L1 norm: 1.060.. Train Linf norm: 879.290.. Val Linf norm: 60.089\n",
            "Epoch 92/149.. Train loss: 2.533.. Val loss: 2.526.. Train L1 norm: 1.536.. Val L1 norm: 1.060.. Train Linf norm: 454.165.. Val Linf norm: 60.089\n",
            "Epoch 93/149.. Train loss: 2.514.. Val loss: 2.526.. Train L1 norm: 1.438.. Val L1 norm: 1.060.. Train Linf norm: 357.188.. Val Linf norm: 60.089\n",
            "Epoch 94/149.. Train loss: 2.540.. Val loss: 2.526.. Train L1 norm: 1.599.. Val L1 norm: 1.060.. Train Linf norm: 520.148.. Val Linf norm: 60.089\n",
            "Epoch 95/149.. Train loss: 2.527.. Val loss: 2.526.. Train L1 norm: 1.551.. Val L1 norm: 1.060.. Train Linf norm: 469.097.. Val Linf norm: 60.089\n",
            "Epoch 96/149.. Train loss: 2.536.. Val loss: 2.526.. Train L1 norm: 1.439.. Val L1 norm: 1.060.. Train Linf norm: 341.701.. Val Linf norm: 60.089\n",
            "Epoch 97/149.. Train loss: 2.538.. Val loss: 2.526.. Train L1 norm: 1.318.. Val L1 norm: 1.060.. Train Linf norm: 221.864.. Val Linf norm: 60.089\n",
            "Epoch 98/149.. Train loss: 2.526.. Val loss: 2.526.. Train L1 norm: 2.119.. Val L1 norm: 1.060.. Train Linf norm: 1039.675.. Val Linf norm: 60.089\n",
            "Epoch 99/149.. Train loss: 2.532.. Val loss: 2.526.. Train L1 norm: 1.791.. Val L1 norm: 1.060.. Train Linf norm: 713.683.. Val Linf norm: 60.089\n",
            "Epoch 100/149.. Train loss: 2.531.. Val loss: 2.526.. Train L1 norm: 1.556.. Val L1 norm: 1.060.. Train Linf norm: 463.576.. Val Linf norm: 60.089\n",
            "Epoch 101/149.. Train loss: 2.536.. Val loss: 2.526.. Train L1 norm: 1.638.. Val L1 norm: 1.060.. Train Linf norm: 551.050.. Val Linf norm: 60.089\n",
            "Epoch 102/149.. Train loss: 2.547.. Val loss: 2.526.. Train L1 norm: 1.603.. Val L1 norm: 1.060.. Train Linf norm: 522.943.. Val Linf norm: 60.089\n",
            "Epoch 103/149.. Train loss: 2.532.. Val loss: 2.526.. Train L1 norm: 1.646.. Val L1 norm: 1.060.. Train Linf norm: 565.412.. Val Linf norm: 60.089\n",
            "Epoch 104/149.. Train loss: 2.601.. Val loss: 2.526.. Train L1 norm: 1.902.. Val L1 norm: 1.060.. Train Linf norm: 822.602.. Val Linf norm: 60.089\n",
            "Epoch 105/149.. Train loss: 2.527.. Val loss: 2.526.. Train L1 norm: 1.362.. Val L1 norm: 1.060.. Train Linf norm: 262.666.. Val Linf norm: 60.089\n",
            "Epoch 106/149.. Train loss: 2.533.. Val loss: 2.526.. Train L1 norm: 2.073.. Val L1 norm: 1.060.. Train Linf norm: 1003.326.. Val Linf norm: 60.089\n",
            "Epoch 107/149.. Train loss: 2.514.. Val loss: 2.526.. Train L1 norm: 1.847.. Val L1 norm: 1.060.. Train Linf norm: 770.806.. Val Linf norm: 60.089\n",
            "Epoch 108/149.. Train loss: 2.549.. Val loss: 2.526.. Train L1 norm: 1.449.. Val L1 norm: 1.060.. Train Linf norm: 359.415.. Val Linf norm: 60.089\n",
            "Epoch 109/149.. Train loss: 2.561.. Val loss: 2.526.. Train L1 norm: 1.759.. Val L1 norm: 1.060.. Train Linf norm: 676.301.. Val Linf norm: 60.089\n",
            "Epoch 110/149.. Train loss: 2.528.. Val loss: 2.526.. Train L1 norm: 1.535.. Val L1 norm: 1.060.. Train Linf norm: 448.926.. Val Linf norm: 60.089\n",
            "Epoch 111/149.. Train loss: 2.525.. Val loss: 2.526.. Train L1 norm: 1.319.. Val L1 norm: 1.060.. Train Linf norm: 231.474.. Val Linf norm: 60.089\n",
            "Epoch 112/149.. Train loss: 2.529.. Val loss: 2.526.. Train L1 norm: 1.675.. Val L1 norm: 1.060.. Train Linf norm: 601.860.. Val Linf norm: 60.089\n",
            "Epoch 113/149.. Train loss: 2.517.. Val loss: 2.526.. Train L1 norm: 1.409.. Val L1 norm: 1.060.. Train Linf norm: 317.623.. Val Linf norm: 60.089\n",
            "Epoch 114/149.. Train loss: 2.553.. Val loss: 2.526.. Train L1 norm: 2.149.. Val L1 norm: 1.060.. Train Linf norm: 1066.515.. Val Linf norm: 60.089\n",
            "Epoch 115/149.. Train loss: 2.581.. Val loss: 2.526.. Train L1 norm: 1.530.. Val L1 norm: 1.060.. Train Linf norm: 404.449.. Val Linf norm: 60.089\n",
            "Epoch 116/149.. Train loss: 2.523.. Val loss: 2.526.. Train L1 norm: 1.849.. Val L1 norm: 1.060.. Train Linf norm: 777.104.. Val Linf norm: 60.089\n",
            "Epoch 117/149.. Train loss: 2.537.. Val loss: 2.526.. Train L1 norm: 2.014.. Val L1 norm: 1.060.. Train Linf norm: 935.293.. Val Linf norm: 60.089\n",
            "Epoch 118/149.. Train loss: 2.588.. Val loss: 2.526.. Train L1 norm: 1.380.. Val L1 norm: 1.060.. Train Linf norm: 281.553.. Val Linf norm: 60.089\n",
            "Epoch 119/149.. Train loss: 2.518.. Val loss: 2.526.. Train L1 norm: 1.646.. Val L1 norm: 1.060.. Train Linf norm: 564.377.. Val Linf norm: 60.089\n",
            "Epoch 120/149.. Train loss: 2.518.. Val loss: 2.526.. Train L1 norm: 2.607.. Val L1 norm: 1.060.. Train Linf norm: 1551.200.. Val Linf norm: 60.089\n",
            "Epoch 121/149.. Train loss: 2.533.. Val loss: 2.526.. Train L1 norm: 2.416.. Val L1 norm: 1.060.. Train Linf norm: 1354.625.. Val Linf norm: 60.089\n",
            "Epoch 122/149.. Train loss: 2.528.. Val loss: 2.526.. Train L1 norm: 1.583.. Val L1 norm: 1.060.. Train Linf norm: 498.075.. Val Linf norm: 60.089\n",
            "Epoch 123/149.. Train loss: 2.572.. Val loss: 2.526.. Train L1 norm: 1.437.. Val L1 norm: 1.060.. Train Linf norm: 332.344.. Val Linf norm: 60.089\n",
            "Epoch 124/149.. Train loss: 2.535.. Val loss: 2.526.. Train L1 norm: 1.389.. Val L1 norm: 1.060.. Train Linf norm: 278.879.. Val Linf norm: 60.089\n",
            "Epoch 125/149.. Train loss: 2.569.. Val loss: 2.526.. Train L1 norm: 1.367.. Val L1 norm: 1.060.. Train Linf norm: 283.114.. Val Linf norm: 60.089\n",
            "Epoch 126/149.. Train loss: 2.534.. Val loss: 2.526.. Train L1 norm: 2.242.. Val L1 norm: 1.060.. Train Linf norm: 1174.331.. Val Linf norm: 60.089\n",
            "Epoch 127/149.. Train loss: 2.559.. Val loss: 2.526.. Train L1 norm: 1.619.. Val L1 norm: 1.060.. Train Linf norm: 545.097.. Val Linf norm: 60.089\n",
            "Epoch 128/149.. Train loss: 2.539.. Val loss: 2.526.. Train L1 norm: 1.735.. Val L1 norm: 1.060.. Train Linf norm: 651.434.. Val Linf norm: 60.089\n",
            "Epoch 129/149.. Train loss: 2.531.. Val loss: 2.526.. Train L1 norm: 1.802.. Val L1 norm: 1.060.. Train Linf norm: 728.808.. Val Linf norm: 60.089\n",
            "Epoch 130/149.. Train loss: 2.558.. Val loss: 2.526.. Train L1 norm: 2.299.. Val L1 norm: 1.060.. Train Linf norm: 1228.619.. Val Linf norm: 60.089\n",
            "Epoch 131/149.. Train loss: 2.526.. Val loss: 2.526.. Train L1 norm: 2.003.. Val L1 norm: 1.060.. Train Linf norm: 935.173.. Val Linf norm: 60.089\n",
            "Epoch 132/149.. Train loss: 2.561.. Val loss: 2.526.. Train L1 norm: 1.742.. Val L1 norm: 1.060.. Train Linf norm: 663.274.. Val Linf norm: 60.089\n",
            "Epoch 133/149.. Train loss: 2.538.. Val loss: 2.526.. Train L1 norm: 1.543.. Val L1 norm: 1.060.. Train Linf norm: 452.005.. Val Linf norm: 60.089\n",
            "Epoch 134/149.. Train loss: 2.519.. Val loss: 2.526.. Train L1 norm: 1.564.. Val L1 norm: 1.060.. Train Linf norm: 453.181.. Val Linf norm: 60.089\n",
            "Epoch 135/149.. Train loss: 2.534.. Val loss: 2.526.. Train L1 norm: 1.533.. Val L1 norm: 1.060.. Train Linf norm: 344.955.. Val Linf norm: 60.089\n",
            "Epoch 136/149.. Train loss: 2.593.. Val loss: 2.526.. Train L1 norm: 1.806.. Val L1 norm: 1.060.. Train Linf norm: 738.936.. Val Linf norm: 60.089\n",
            "Epoch 137/149.. Train loss: 2.553.. Val loss: 2.526.. Train L1 norm: 1.707.. Val L1 norm: 1.060.. Train Linf norm: 634.213.. Val Linf norm: 60.089\n",
            "Epoch 138/149.. Train loss: 2.536.. Val loss: 2.526.. Train L1 norm: 1.292.. Val L1 norm: 1.060.. Train Linf norm: 190.094.. Val Linf norm: 60.089\n",
            "Epoch 139/149.. Train loss: 2.522.. Val loss: 2.526.. Train L1 norm: 1.756.. Val L1 norm: 1.060.. Train Linf norm: 597.972.. Val Linf norm: 60.089\n",
            "Epoch 140/149.. Train loss: 2.568.. Val loss: 2.526.. Train L1 norm: 1.802.. Val L1 norm: 1.060.. Train Linf norm: 580.208.. Val Linf norm: 60.089\n",
            "Epoch 141/149.. Train loss: 2.536.. Val loss: 2.526.. Train L1 norm: 1.857.. Val L1 norm: 1.060.. Train Linf norm: 781.531.. Val Linf norm: 60.089\n",
            "Epoch 142/149.. Train loss: 2.544.. Val loss: 2.526.. Train L1 norm: 1.752.. Val L1 norm: 1.060.. Train Linf norm: 670.109.. Val Linf norm: 60.089\n",
            "Epoch 143/149.. Train loss: 2.573.. Val loss: 2.526.. Train L1 norm: 1.738.. Val L1 norm: 1.060.. Train Linf norm: 652.297.. Val Linf norm: 60.089\n",
            "Epoch 144/149.. Train loss: 2.549.. Val loss: 2.526.. Train L1 norm: 1.372.. Val L1 norm: 1.060.. Train Linf norm: 275.172.. Val Linf norm: 60.089\n",
            "Epoch 145/149.. Train loss: 2.569.. Val loss: 2.526.. Train L1 norm: 1.612.. Val L1 norm: 1.060.. Train Linf norm: 494.922.. Val Linf norm: 60.089\n",
            "Epoch 146/149.. Train loss: 2.543.. Val loss: 2.526.. Train L1 norm: 1.612.. Val L1 norm: 1.060.. Train Linf norm: 514.623.. Val Linf norm: 60.089\n",
            "Epoch 147/149.. Train loss: 2.546.. Val loss: 2.526.. Train L1 norm: 1.595.. Val L1 norm: 1.060.. Train Linf norm: 511.741.. Val Linf norm: 60.089\n",
            "Epoch 148/149.. Train loss: 2.542.. Val loss: 2.526.. Train L1 norm: 1.722.. Val L1 norm: 1.060.. Train Linf norm: 642.371.. Val Linf norm: 60.089\n"
          ]
        },
        {
          "name": "stderr",
          "output_type": "stream",
          "text": [
            "\u001b[32m[I 2023-05-29 13:42:24,406]\u001b[0m Trial 17 finished with value: 1.059615451812744 and parameters: {'n_layers': 7, 'n_units_0': 2796, 'n_units_1': 3240, 'n_units_2': 88, 'n_units_3': 61, 'n_units_4': 1179, 'n_units_5': 1556, 'n_units_6': 1168, 'hidden_activation': 'ReLU', 'output_activation': 'Linear', 'loss': 'Quantile', 'optimizer': 'Adagrad', 'lr': 1.0242217473973947e-06, 'batch_size': 1024, 'n_epochs': 149, 'scheduler': 'StepLR', 'dropout_rate': 0.4995829180835174, 'step_size': 7, 'gamma': 0.2918691285498852}. Best is trial 17 with value: 1.059615451812744.\u001b[0m\n"
          ]
        },
        {
          "name": "stdout",
          "output_type": "stream",
          "text": [
            "Epoch 149/149.. Train loss: 2.560.. Val loss: 2.526.. Train L1 norm: 1.692.. Val L1 norm: 1.060.. Train Linf norm: 593.390.. Val Linf norm: 60.089\n"
          ]
        },
        {
          "name": "stderr",
          "output_type": "stream",
          "text": [
            "\u001b[32m[I 2023-05-29 13:42:31,251]\u001b[0m Trial 18 pruned. \u001b[0m\n"
          ]
        },
        {
          "name": "stdout",
          "output_type": "stream",
          "text": [
            "Epoch 1/97.. Train loss: 2.490.. Val loss: 2.359.. Train L1 norm: 2.212.. Val L1 norm: 2.144.. Train Linf norm: 145.916.. Val Linf norm: 133.820\n",
            "Epoch 1/117.. Train loss: 2.544.. Val loss: 2.537.. Train L1 norm: 1.111.. Val L1 norm: 1.011.. Train Linf norm: 177.946.. Val Linf norm: 16.870\n",
            "Epoch 2/117.. Train loss: 2.517.. Val loss: 2.532.. Train L1 norm: 1.104.. Val L1 norm: 1.028.. Train Linf norm: 167.865.. Val Linf norm: 43.131\n",
            "Epoch 3/117.. Train loss: 2.521.. Val loss: 2.530.. Train L1 norm: 1.242.. Val L1 norm: 1.037.. Train Linf norm: 435.594.. Val Linf norm: 56.615\n",
            "Epoch 4/117.. Train loss: 2.516.. Val loss: 2.528.. Train L1 norm: 1.248.. Val L1 norm: 1.045.. Train Linf norm: 439.877.. Val Linf norm: 69.194\n",
            "Epoch 5/117.. Train loss: 2.503.. Val loss: 2.526.. Train L1 norm: 1.246.. Val L1 norm: 1.052.. Train Linf norm: 392.705.. Val Linf norm: 79.070\n",
            "Epoch 6/117.. Train loss: 2.500.. Val loss: 2.525.. Train L1 norm: 1.462.. Val L1 norm: 1.057.. Train Linf norm: 854.467.. Val Linf norm: 85.256\n",
            "Epoch 7/117.. Train loss: 2.510.. Val loss: 2.524.. Train L1 norm: 1.575.. Val L1 norm: 1.062.. Train Linf norm: 1067.875.. Val Linf norm: 92.803\n",
            "Epoch 8/117.. Train loss: 2.510.. Val loss: 2.523.. Train L1 norm: 1.524.. Val L1 norm: 1.066.. Train Linf norm: 948.327.. Val Linf norm: 98.042\n",
            "Epoch 9/117.. Train loss: 2.519.. Val loss: 2.522.. Train L1 norm: 1.293.. Val L1 norm: 1.068.. Train Linf norm: 490.285.. Val Linf norm: 102.119\n",
            "Epoch 10/117.. Train loss: 2.502.. Val loss: 2.521.. Train L1 norm: 1.450.. Val L1 norm: 1.072.. Train Linf norm: 729.028.. Val Linf norm: 106.906\n",
            "Epoch 11/117.. Train loss: 2.511.. Val loss: 2.521.. Train L1 norm: 1.436.. Val L1 norm: 1.075.. Train Linf norm: 738.745.. Val Linf norm: 110.735\n",
            "Epoch 12/117.. Train loss: 2.497.. Val loss: 2.520.. Train L1 norm: 1.502.. Val L1 norm: 1.077.. Train Linf norm: 898.079.. Val Linf norm: 114.344\n",
            "Epoch 13/117.. Train loss: 2.500.. Val loss: 2.520.. Train L1 norm: 1.416.. Val L1 norm: 1.080.. Train Linf norm: 719.282.. Val Linf norm: 117.699\n",
            "Epoch 14/117.. Train loss: 2.495.. Val loss: 2.519.. Train L1 norm: 1.346.. Val L1 norm: 1.083.. Train Linf norm: 541.290.. Val Linf norm: 122.066\n",
            "Epoch 15/117.. Train loss: 2.511.. Val loss: 2.519.. Train L1 norm: 1.470.. Val L1 norm: 1.085.. Train Linf norm: 829.437.. Val Linf norm: 124.734\n",
            "Epoch 16/117.. Train loss: 2.502.. Val loss: 2.518.. Train L1 norm: 1.483.. Val L1 norm: 1.087.. Train Linf norm: 842.763.. Val Linf norm: 127.614\n",
            "Epoch 17/117.. Train loss: 2.499.. Val loss: 2.518.. Train L1 norm: 1.483.. Val L1 norm: 1.089.. Train Linf norm: 846.172.. Val Linf norm: 130.346\n",
            "Epoch 18/117.. Train loss: 2.493.. Val loss: 2.517.. Train L1 norm: 1.591.. Val L1 norm: 1.091.. Train Linf norm: 1040.353.. Val Linf norm: 133.078\n",
            "Epoch 19/117.. Train loss: 2.512.. Val loss: 2.517.. Train L1 norm: 1.472.. Val L1 norm: 1.092.. Train Linf norm: 815.189.. Val Linf norm: 135.437\n",
            "Epoch 20/117.. Train loss: 2.500.. Val loss: 2.516.. Train L1 norm: 1.558.. Val L1 norm: 1.094.. Train Linf norm: 989.574.. Val Linf norm: 138.048\n",
            "Epoch 21/117.. Train loss: 2.499.. Val loss: 2.516.. Train L1 norm: 1.274.. Val L1 norm: 1.096.. Train Linf norm: 393.058.. Val Linf norm: 140.322\n",
            "Epoch 22/117.. Train loss: 2.492.. Val loss: 2.516.. Train L1 norm: 1.597.. Val L1 norm: 1.098.. Train Linf norm: 1044.590.. Val Linf norm: 143.059\n",
            "Epoch 23/117.. Train loss: 2.508.. Val loss: 2.515.. Train L1 norm: 1.721.. Val L1 norm: 1.099.. Train Linf norm: 1310.958.. Val Linf norm: 144.874\n",
            "Epoch 24/117.. Train loss: 2.491.. Val loss: 2.515.. Train L1 norm: 1.310.. Val L1 norm: 1.101.. Train Linf norm: 463.798.. Val Linf norm: 147.304\n",
            "Epoch 25/117.. Train loss: 2.491.. Val loss: 2.515.. Train L1 norm: 1.484.. Val L1 norm: 1.102.. Train Linf norm: 799.904.. Val Linf norm: 148.546\n",
            "Epoch 26/117.. Train loss: 2.500.. Val loss: 2.514.. Train L1 norm: 1.639.. Val L1 norm: 1.104.. Train Linf norm: 1117.198.. Val Linf norm: 150.777\n",
            "Epoch 27/117.. Train loss: 2.498.. Val loss: 2.514.. Train L1 norm: 1.678.. Val L1 norm: 1.105.. Train Linf norm: 1210.150.. Val Linf norm: 152.316\n",
            "Epoch 28/117.. Train loss: 2.489.. Val loss: 2.514.. Train L1 norm: 1.589.. Val L1 norm: 1.106.. Train Linf norm: 1026.401.. Val Linf norm: 154.458\n",
            "Epoch 29/117.. Train loss: 2.483.. Val loss: 2.513.. Train L1 norm: 1.675.. Val L1 norm: 1.108.. Train Linf norm: 1172.942.. Val Linf norm: 156.734\n",
            "Epoch 30/117.. Train loss: 2.499.. Val loss: 2.513.. Train L1 norm: 1.559.. Val L1 norm: 1.109.. Train Linf norm: 964.512.. Val Linf norm: 158.666\n",
            "Epoch 31/117.. Train loss: 2.509.. Val loss: 2.513.. Train L1 norm: 1.328.. Val L1 norm: 1.110.. Train Linf norm: 424.405.. Val Linf norm: 160.022\n",
            "Epoch 32/117.. Train loss: 2.485.. Val loss: 2.513.. Train L1 norm: 1.791.. Val L1 norm: 1.112.. Train Linf norm: 1416.649.. Val Linf norm: 161.831\n",
            "Epoch 33/117.. Train loss: 2.507.. Val loss: 2.512.. Train L1 norm: 1.720.. Val L1 norm: 1.113.. Train Linf norm: 1258.916.. Val Linf norm: 163.168\n",
            "Epoch 34/117.. Train loss: 2.514.. Val loss: 2.512.. Train L1 norm: 1.441.. Val L1 norm: 1.114.. Train Linf norm: 716.726.. Val Linf norm: 164.393\n",
            "Epoch 35/117.. Train loss: 2.499.. Val loss: 2.512.. Train L1 norm: 1.951.. Val L1 norm: 1.115.. Train Linf norm: 1743.240.. Val Linf norm: 166.212\n",
            "Epoch 36/117.. Train loss: 2.490.. Val loss: 2.512.. Train L1 norm: 1.668.. Val L1 norm: 1.117.. Train Linf norm: 1156.130.. Val Linf norm: 168.073\n",
            "Epoch 37/117.. Train loss: 2.521.. Val loss: 2.512.. Train L1 norm: 1.657.. Val L1 norm: 1.117.. Train Linf norm: 1026.837.. Val Linf norm: 168.870\n",
            "Epoch 38/117.. Train loss: 2.496.. Val loss: 2.511.. Train L1 norm: 1.358.. Val L1 norm: 1.118.. Train Linf norm: 524.001.. Val Linf norm: 170.535\n",
            "Epoch 39/117.. Train loss: 2.514.. Val loss: 2.511.. Train L1 norm: 1.646.. Val L1 norm: 1.119.. Train Linf norm: 1133.850.. Val Linf norm: 171.718\n",
            "Epoch 40/117.. Train loss: 2.489.. Val loss: 2.511.. Train L1 norm: 1.654.. Val L1 norm: 1.120.. Train Linf norm: 1142.761.. Val Linf norm: 173.141\n",
            "Epoch 41/117.. Train loss: 2.499.. Val loss: 2.511.. Train L1 norm: 1.655.. Val L1 norm: 1.121.. Train Linf norm: 1126.794.. Val Linf norm: 174.628\n",
            "Epoch 42/117.. Train loss: 2.499.. Val loss: 2.510.. Train L1 norm: 1.502.. Val L1 norm: 1.123.. Train Linf norm: 740.283.. Val Linf norm: 176.357\n",
            "Epoch 43/117.. Train loss: 2.490.. Val loss: 2.510.. Train L1 norm: 1.583.. Val L1 norm: 1.124.. Train Linf norm: 961.885.. Val Linf norm: 177.664\n",
            "Epoch 44/117.. Train loss: 2.493.. Val loss: 2.510.. Train L1 norm: 1.879.. Val L1 norm: 1.125.. Train Linf norm: 1555.805.. Val Linf norm: 179.168\n",
            "Epoch 45/117.. Train loss: 2.491.. Val loss: 2.510.. Train L1 norm: 1.450.. Val L1 norm: 1.126.. Train Linf norm: 708.543.. Val Linf norm: 180.530\n",
            "Epoch 46/117.. Train loss: 2.489.. Val loss: 2.510.. Train L1 norm: 1.979.. Val L1 norm: 1.127.. Train Linf norm: 1778.047.. Val Linf norm: 181.701\n",
            "Epoch 47/117.. Train loss: 2.499.. Val loss: 2.509.. Train L1 norm: 1.740.. Val L1 norm: 1.128.. Train Linf norm: 1281.132.. Val Linf norm: 183.367\n",
            "Epoch 48/117.. Train loss: 2.480.. Val loss: 2.509.. Train L1 norm: 1.556.. Val L1 norm: 1.129.. Train Linf norm: 464.920.. Val Linf norm: 184.713\n",
            "Epoch 49/117.. Train loss: 2.495.. Val loss: 2.509.. Train L1 norm: 1.964.. Val L1 norm: 1.130.. Train Linf norm: 1712.246.. Val Linf norm: 186.100\n",
            "Epoch 50/117.. Train loss: 2.487.. Val loss: 2.509.. Train L1 norm: 1.544.. Val L1 norm: 1.131.. Train Linf norm: 784.253.. Val Linf norm: 187.627\n",
            "Epoch 51/117.. Train loss: 2.501.. Val loss: 2.509.. Train L1 norm: 1.603.. Val L1 norm: 1.132.. Train Linf norm: 861.944.. Val Linf norm: 188.430\n",
            "Epoch 52/117.. Train loss: 2.477.. Val loss: 2.508.. Train L1 norm: 1.588.. Val L1 norm: 1.133.. Train Linf norm: 961.412.. Val Linf norm: 190.024\n",
            "Epoch 53/117.. Train loss: 2.519.. Val loss: 2.508.. Train L1 norm: 2.033.. Val L1 norm: 1.133.. Train Linf norm: 1863.689.. Val Linf norm: 190.016\n",
            "Epoch 54/117.. Train loss: 2.487.. Val loss: 2.508.. Train L1 norm: 1.700.. Val L1 norm: 1.134.. Train Linf norm: 1190.494.. Val Linf norm: 191.325\n",
            "Epoch 55/117.. Train loss: 2.496.. Val loss: 2.508.. Train L1 norm: 1.665.. Val L1 norm: 1.135.. Train Linf norm: 1138.088.. Val Linf norm: 192.561\n",
            "Epoch 56/117.. Train loss: 2.483.. Val loss: 2.508.. Train L1 norm: 1.663.. Val L1 norm: 1.136.. Train Linf norm: 1113.986.. Val Linf norm: 193.791\n",
            "Epoch 57/117.. Train loss: 2.481.. Val loss: 2.508.. Train L1 norm: 1.876.. Val L1 norm: 1.137.. Train Linf norm: 1461.670.. Val Linf norm: 195.116\n",
            "Epoch 58/117.. Train loss: 2.509.. Val loss: 2.508.. Train L1 norm: 1.605.. Val L1 norm: 1.137.. Train Linf norm: 1001.772.. Val Linf norm: 195.305\n",
            "Epoch 59/117.. Train loss: 2.493.. Val loss: 2.508.. Train L1 norm: 1.744.. Val L1 norm: 1.138.. Train Linf norm: 1276.798.. Val Linf norm: 196.227\n",
            "Epoch 60/117.. Train loss: 2.477.. Val loss: 2.507.. Train L1 norm: 1.635.. Val L1 norm: 1.139.. Train Linf norm: 1066.707.. Val Linf norm: 197.803\n",
            "Epoch 61/117.. Train loss: 2.489.. Val loss: 2.507.. Train L1 norm: 1.747.. Val L1 norm: 1.140.. Train Linf norm: 1285.015.. Val Linf norm: 198.857\n",
            "Epoch 62/117.. Train loss: 2.494.. Val loss: 2.507.. Train L1 norm: 1.689.. Val L1 norm: 1.140.. Train Linf norm: 1128.831.. Val Linf norm: 199.958\n",
            "Epoch 63/117.. Train loss: 2.491.. Val loss: 2.507.. Train L1 norm: 1.850.. Val L1 norm: 1.141.. Train Linf norm: 1489.591.. Val Linf norm: 200.107\n",
            "Epoch 64/117.. Train loss: 2.485.. Val loss: 2.507.. Train L1 norm: 1.509.. Val L1 norm: 1.141.. Train Linf norm: 811.985.. Val Linf norm: 200.359\n",
            "Epoch 65/117.. Train loss: 2.492.. Val loss: 2.507.. Train L1 norm: 1.870.. Val L1 norm: 1.141.. Train Linf norm: 1509.260.. Val Linf norm: 200.542\n",
            "Epoch 66/117.. Train loss: 2.493.. Val loss: 2.507.. Train L1 norm: 2.227.. Val L1 norm: 1.141.. Train Linf norm: 2281.669.. Val Linf norm: 200.787\n",
            "Epoch 67/117.. Train loss: 2.482.. Val loss: 2.507.. Train L1 norm: 1.505.. Val L1 norm: 1.141.. Train Linf norm: 751.226.. Val Linf norm: 201.136\n",
            "Epoch 68/117.. Train loss: 2.519.. Val loss: 2.507.. Train L1 norm: 1.728.. Val L1 norm: 1.141.. Train Linf norm: 1251.038.. Val Linf norm: 201.279\n",
            "Epoch 69/117.. Train loss: 2.488.. Val loss: 2.507.. Train L1 norm: 1.676.. Val L1 norm: 1.142.. Train Linf norm: 1062.920.. Val Linf norm: 201.476\n",
            "Epoch 70/117.. Train loss: 2.495.. Val loss: 2.507.. Train L1 norm: 1.606.. Val L1 norm: 1.142.. Train Linf norm: 1017.800.. Val Linf norm: 201.683\n",
            "Epoch 71/117.. Train loss: 2.489.. Val loss: 2.507.. Train L1 norm: 1.585.. Val L1 norm: 1.142.. Train Linf norm: 947.373.. Val Linf norm: 201.913\n",
            "Epoch 72/117.. Train loss: 2.495.. Val loss: 2.507.. Train L1 norm: 1.875.. Val L1 norm: 1.142.. Train Linf norm: 1555.108.. Val Linf norm: 202.104\n",
            "Epoch 73/117.. Train loss: 2.497.. Val loss: 2.507.. Train L1 norm: 1.718.. Val L1 norm: 1.142.. Train Linf norm: 1242.593.. Val Linf norm: 202.116\n",
            "Epoch 74/117.. Train loss: 2.486.. Val loss: 2.507.. Train L1 norm: 1.684.. Val L1 norm: 1.142.. Train Linf norm: 1161.874.. Val Linf norm: 202.139\n",
            "Epoch 75/117.. Train loss: 2.502.. Val loss: 2.507.. Train L1 norm: 2.231.. Val L1 norm: 1.142.. Train Linf norm: 2229.988.. Val Linf norm: 202.154\n",
            "Epoch 76/117.. Train loss: 2.497.. Val loss: 2.507.. Train L1 norm: 1.562.. Val L1 norm: 1.142.. Train Linf norm: 923.131.. Val Linf norm: 202.163\n",
            "Epoch 77/117.. Train loss: 2.499.. Val loss: 2.507.. Train L1 norm: 1.706.. Val L1 norm: 1.142.. Train Linf norm: 1212.170.. Val Linf norm: 202.177\n",
            "Epoch 78/117.. Train loss: 2.489.. Val loss: 2.507.. Train L1 norm: 1.907.. Val L1 norm: 1.142.. Train Linf norm: 1627.725.. Val Linf norm: 202.188\n",
            "Epoch 79/117.. Train loss: 2.486.. Val loss: 2.507.. Train L1 norm: 1.639.. Val L1 norm: 1.142.. Train Linf norm: 1071.598.. Val Linf norm: 202.183\n",
            "Epoch 80/117.. Train loss: 2.487.. Val loss: 2.507.. Train L1 norm: 1.669.. Val L1 norm: 1.142.. Train Linf norm: 1135.283.. Val Linf norm: 202.178\n",
            "Epoch 81/117.. Train loss: 2.502.. Val loss: 2.507.. Train L1 norm: 1.638.. Val L1 norm: 1.142.. Train Linf norm: 1062.191.. Val Linf norm: 202.171\n",
            "Epoch 82/117.. Train loss: 2.493.. Val loss: 2.507.. Train L1 norm: 2.053.. Val L1 norm: 1.142.. Train Linf norm: 1908.936.. Val Linf norm: 202.167\n",
            "Epoch 83/117.. Train loss: 2.504.. Val loss: 2.507.. Train L1 norm: 1.993.. Val L1 norm: 1.142.. Train Linf norm: 1803.973.. Val Linf norm: 202.161\n",
            "Epoch 84/117.. Train loss: 2.494.. Val loss: 2.507.. Train L1 norm: 1.853.. Val L1 norm: 1.142.. Train Linf norm: 1479.301.. Val Linf norm: 202.154\n",
            "Epoch 85/117.. Train loss: 2.490.. Val loss: 2.507.. Train L1 norm: 1.647.. Val L1 norm: 1.142.. Train Linf norm: 1099.246.. Val Linf norm: 202.153\n",
            "Epoch 86/117.. Train loss: 2.493.. Val loss: 2.507.. Train L1 norm: 1.594.. Val L1 norm: 1.142.. Train Linf norm: 972.841.. Val Linf norm: 202.152\n",
            "Epoch 87/117.. Train loss: 2.485.. Val loss: 2.507.. Train L1 norm: 2.039.. Val L1 norm: 1.142.. Train Linf norm: 1888.228.. Val Linf norm: 202.151\n",
            "Epoch 88/117.. Train loss: 2.501.. Val loss: 2.507.. Train L1 norm: 1.617.. Val L1 norm: 1.142.. Train Linf norm: 1030.364.. Val Linf norm: 202.149\n",
            "Epoch 89/117.. Train loss: 2.480.. Val loss: 2.507.. Train L1 norm: 1.746.. Val L1 norm: 1.142.. Train Linf norm: 1291.628.. Val Linf norm: 202.149\n",
            "Epoch 90/117.. Train loss: 2.499.. Val loss: 2.507.. Train L1 norm: 1.747.. Val L1 norm: 1.142.. Train Linf norm: 1233.536.. Val Linf norm: 202.147\n",
            "Epoch 91/117.. Train loss: 2.486.. Val loss: 2.507.. Train L1 norm: 1.790.. Val L1 norm: 1.142.. Train Linf norm: 1256.021.. Val Linf norm: 202.146\n",
            "Epoch 92/117.. Train loss: 2.481.. Val loss: 2.507.. Train L1 norm: 1.936.. Val L1 norm: 1.142.. Train Linf norm: 1667.575.. Val Linf norm: 202.145\n",
            "Epoch 93/117.. Train loss: 2.501.. Val loss: 2.507.. Train L1 norm: 1.753.. Val L1 norm: 1.142.. Train Linf norm: 1300.890.. Val Linf norm: 202.144\n",
            "Epoch 94/117.. Train loss: 2.483.. Val loss: 2.507.. Train L1 norm: 1.648.. Val L1 norm: 1.142.. Train Linf norm: 1101.756.. Val Linf norm: 202.143\n",
            "Epoch 95/117.. Train loss: 2.485.. Val loss: 2.507.. Train L1 norm: 1.564.. Val L1 norm: 1.142.. Train Linf norm: 853.713.. Val Linf norm: 202.141\n",
            "Epoch 96/117.. Train loss: 2.491.. Val loss: 2.507.. Train L1 norm: 1.644.. Val L1 norm: 1.142.. Train Linf norm: 1037.254.. Val Linf norm: 202.140\n",
            "Epoch 97/117.. Train loss: 2.496.. Val loss: 2.507.. Train L1 norm: 1.854.. Val L1 norm: 1.142.. Train Linf norm: 1427.355.. Val Linf norm: 202.139\n",
            "Epoch 98/117.. Train loss: 2.481.. Val loss: 2.507.. Train L1 norm: 1.795.. Val L1 norm: 1.142.. Train Linf norm: 1340.914.. Val Linf norm: 202.138\n",
            "Epoch 99/117.. Train loss: 2.497.. Val loss: 2.507.. Train L1 norm: 1.572.. Val L1 norm: 1.142.. Train Linf norm: 931.215.. Val Linf norm: 202.137\n",
            "Epoch 100/117.. Train loss: 2.495.. Val loss: 2.507.. Train L1 norm: 1.885.. Val L1 norm: 1.142.. Train Linf norm: 1514.037.. Val Linf norm: 202.136\n",
            "Epoch 101/117.. Train loss: 2.494.. Val loss: 2.507.. Train L1 norm: 1.473.. Val L1 norm: 1.142.. Train Linf norm: 745.060.. Val Linf norm: 202.134\n",
            "Epoch 102/117.. Train loss: 2.491.. Val loss: 2.507.. Train L1 norm: 1.561.. Val L1 norm: 1.142.. Train Linf norm: 902.549.. Val Linf norm: 202.133\n",
            "Epoch 103/117.. Train loss: 2.488.. Val loss: 2.507.. Train L1 norm: 1.528.. Val L1 norm: 1.142.. Train Linf norm: 835.625.. Val Linf norm: 202.132\n",
            "Epoch 104/117.. Train loss: 2.483.. Val loss: 2.507.. Train L1 norm: 1.994.. Val L1 norm: 1.142.. Train Linf norm: 1771.864.. Val Linf norm: 202.131\n",
            "Epoch 105/117.. Train loss: 2.487.. Val loss: 2.507.. Train L1 norm: 1.691.. Val L1 norm: 1.142.. Train Linf norm: 1190.109.. Val Linf norm: 202.130\n",
            "Epoch 106/117.. Train loss: 2.486.. Val loss: 2.507.. Train L1 norm: 1.977.. Val L1 norm: 1.142.. Train Linf norm: 1773.844.. Val Linf norm: 202.129\n",
            "Epoch 107/117.. Train loss: 2.500.. Val loss: 2.507.. Train L1 norm: 1.867.. Val L1 norm: 1.142.. Train Linf norm: 1503.679.. Val Linf norm: 202.127\n",
            "Epoch 108/117.. Train loss: 2.489.. Val loss: 2.507.. Train L1 norm: 1.571.. Val L1 norm: 1.142.. Train Linf norm: 916.235.. Val Linf norm: 202.126\n",
            "Epoch 109/117.. Train loss: 2.483.. Val loss: 2.507.. Train L1 norm: 1.724.. Val L1 norm: 1.142.. Train Linf norm: 1241.078.. Val Linf norm: 202.125\n",
            "Epoch 110/117.. Train loss: 2.488.. Val loss: 2.507.. Train L1 norm: 1.779.. Val L1 norm: 1.142.. Train Linf norm: 1344.447.. Val Linf norm: 202.123\n",
            "Epoch 111/117.. Train loss: 2.495.. Val loss: 2.507.. Train L1 norm: 1.876.. Val L1 norm: 1.142.. Train Linf norm: 1551.095.. Val Linf norm: 202.122\n",
            "Epoch 112/117.. Train loss: 2.494.. Val loss: 2.507.. Train L1 norm: 2.000.. Val L1 norm: 1.142.. Train Linf norm: 1621.698.. Val Linf norm: 202.121\n",
            "Epoch 113/117.. Train loss: 2.489.. Val loss: 2.507.. Train L1 norm: 1.847.. Val L1 norm: 1.142.. Train Linf norm: 1494.839.. Val Linf norm: 202.121\n",
            "Epoch 114/117.. Train loss: 2.487.. Val loss: 2.507.. Train L1 norm: 1.890.. Val L1 norm: 1.142.. Train Linf norm: 1599.921.. Val Linf norm: 202.120\n",
            "Epoch 115/117.. Train loss: 2.504.. Val loss: 2.507.. Train L1 norm: 1.473.. Val L1 norm: 1.142.. Train Linf norm: 733.046.. Val Linf norm: 202.118\n",
            "Epoch 116/117.. Train loss: 2.499.. Val loss: 2.507.. Train L1 norm: 1.918.. Val L1 norm: 1.142.. Train Linf norm: 1574.993.. Val Linf norm: 202.118\n"
          ]
        },
        {
          "name": "stderr",
          "output_type": "stream",
          "text": [
            "\u001b[32m[I 2023-05-29 13:47:23,323]\u001b[0m Trial 19 finished with value: 1.1420103935241699 and parameters: {'n_layers': 8, 'n_units_0': 1718, 'n_units_1': 2601, 'n_units_2': 1210, 'n_units_3': 48, 'n_units_4': 923, 'n_units_5': 1337, 'n_units_6': 1298, 'n_units_7': 2247, 'hidden_activation': 'ReLU', 'output_activation': 'Linear', 'loss': 'Quantile', 'optimizer': 'Adagrad', 'lr': 4.868302609601456e-06, 'batch_size': 2048, 'n_epochs': 117, 'scheduler': 'ReduceLROnPlateau', 'dropout_rate': 0.4253393447723499, 'factor': 0.19822254425578656, 'patience': 5, 'threshold': 0.0003093288502197238}. Best is trial 17 with value: 1.059615451812744.\u001b[0m\n"
          ]
        },
        {
          "name": "stdout",
          "output_type": "stream",
          "text": [
            "Epoch 117/117.. Train loss: 2.495.. Val loss: 2.507.. Train L1 norm: 1.407.. Val L1 norm: 1.142.. Train Linf norm: 612.343.. Val Linf norm: 202.116\n",
            "Epoch 1/140.. Train loss: 672.147.. Val loss: 67.303.. Train L1 norm: 2.972.. Val L1 norm: 1.395.. Train Linf norm: 1778.212.. Val Linf norm: 307.171\n",
            "Epoch 2/140.. Train loss: 248.066.. Val loss: 58.042.. Train L1 norm: 1.550.. Val L1 norm: 1.473.. Train Linf norm: 411.026.. Val Linf norm: 397.576\n",
            "Epoch 3/140.. Train loss: 2568.246.. Val loss: 54.638.. Train L1 norm: 2.418.. Val L1 norm: 2.487.. Train Linf norm: 1152.569.. Val Linf norm: 1160.724\n",
            "Epoch 4/140.. Train loss: 1500.308.. Val loss: 68.248.. Train L1 norm: 2.600.. Val L1 norm: 1.323.. Train Linf norm: 1156.837.. Val Linf norm: 220.211\n",
            "Epoch 5/140.. Train loss: 39581.320.. Val loss: 667.426.. Train L1 norm: 10.725.. Val L1 norm: 8.047.. Train Linf norm: 5732.936.. Val Linf norm: 4858.908\n",
            "Epoch 6/140.. Train loss: 251405.446.. Val loss: 560.057.. Train L1 norm: 48.689.. Val L1 norm: 11.609.. Train Linf norm: 36464.517.. Val Linf norm: 7505.921\n",
            "Epoch 7/140.. Train loss: 2275327.680.. Val loss: 28403.054.. Train L1 norm: 57.019.. Val L1 norm: 30.306.. Train Linf norm: 27305.278.. Val Linf norm: 18671.394\n",
            "Epoch 8/140.. Train loss: 16555803.748.. Val loss: 747579.231.. Train L1 norm: 134.478.. Val L1 norm: 390.255.. Train Linf norm: 71283.520.. Val Linf norm: 242435.094\n",
            "Epoch 9/140.. Train loss: 101564586.996.. Val loss: 931037.389.. Train L1 norm: 663.691.. Val L1 norm: 117.380.. Train Linf norm: 390353.374.. Val Linf norm: 70108.873\n",
            "Epoch 10/140.. Train loss: 581532249.722.. Val loss: 11315147.002.. Train L1 norm: 2070.755.. Val L1 norm: 1225.068.. Train Linf norm: 1678785.794.. Val Linf norm: 745371.675\n",
            "Epoch 11/140.. Train loss: 4914327026.460.. Val loss: 3658068.891.. Train L1 norm: 3378.952.. Val L1 norm: 376.392.. Train Linf norm: 2693227.412.. Val Linf norm: 215672.801\n",
            "Epoch 12/140.. Train loss: 17796306260.195.. Val loss: 874953941.606.. Train L1 norm: 16028.711.. Val L1 norm: 12193.280.. Train Linf norm: 15006196.955.. Val Linf norm: 7644481.310\n",
            "Epoch 13/140.. Train loss: 128112749448.163.. Val loss: 5049107701.914.. Train L1 norm: 96875.410.. Val L1 norm: 22380.014.. Train Linf norm: 81319679.885.. Val Linf norm: 13342858.057\n",
            "Epoch 14/140.. Train loss: 2280099278270.347.. Val loss: 112308586599.219.. Train L1 norm: 455175.222.. Val L1 norm: 67114.642.. Train Linf norm: 415907276.419.. Val Linf norm: 28222929.221\n",
            "Epoch 15/140.. Train loss: 53589052772635.680.. Val loss: 37927720606.106.. Train L1 norm: 261783.672.. Val L1 norm: 54169.791.. Train Linf norm: 191706347.592.. Val Linf norm: 21799595.192\n",
            "Epoch 16/140.. Train loss: 21244971156811.660.. Val loss: 782063051402.991.. Train L1 norm: 214686.411.. Val L1 norm: 330205.721.. Train Linf norm: 111841585.324.. Val Linf norm: 195871049.326\n",
            "Epoch 17/140.. Train loss: 2831195862522.734.. Val loss: 115090649968.367.. Train L1 norm: 242533.353.. Val L1 norm: 141857.192.. Train Linf norm: 166789822.286.. Val Linf norm: 76255797.806\n",
            "Epoch 18/140.. Train loss: 198106902166683.188.. Val loss: 255435344777.489.. Train L1 norm: 465711.046.. Val L1 norm: 153078.276.. Train Linf norm: 312191384.543.. Val Linf norm: 66157033.188\n",
            "Epoch 19/140.. Train loss: 119504849817357.516.. Val loss: 202184937308.160.. Train L1 norm: 2087276.486.. Val L1 norm: 142157.109.. Train Linf norm: 1771267011.817.. Val Linf norm: 76037883.338\n",
            "Epoch 20/140.. Train loss: 38727230545643.812.. Val loss: 152851786650.965.. Train L1 norm: 727155.704.. Val L1 norm: 169504.590.. Train Linf norm: 530464365.770.. Val Linf norm: 102527565.732\n",
            "Epoch 21/140.. Train loss: 94485394871594.891.. Val loss: 1349784691.610.. Train L1 norm: 649896.230.. Val L1 norm: 11424.532.. Train Linf norm: 400959382.396.. Val Linf norm: 5883376.855\n",
            "Epoch 22/140.. Train loss: 3000697638003.390.. Val loss: 128878650.678.. Train L1 norm: 240018.913.. Val L1 norm: 3568.811.. Train Linf norm: 174742503.160.. Val Linf norm: 1421380.418\n",
            "Epoch 23/140.. Train loss: 3963681808945.679.. Val loss: 6737861750.647.. Train L1 norm: 118636.713.. Val L1 norm: 30112.902.. Train Linf norm: 102720169.100.. Val Linf norm: 17486123.790\n",
            "Epoch 24/140.. Train loss: 2806416290261.753.. Val loss: 11010710399.932.. Train L1 norm: 135691.737.. Val L1 norm: 43268.016.. Train Linf norm: 66845058.098.. Val Linf norm: 26703557.994\n",
            "Epoch 25/140.. Train loss: 2229134867564.720.. Val loss: 114031328.009.. Train L1 norm: 49695.076.. Val L1 norm: 3646.464.. Train Linf norm: 27106267.399.. Val Linf norm: 1966593.064\n",
            "Epoch 26/140.. Train loss: 157892443622.619.. Val loss: 2496455530.564.. Train L1 norm: 33920.623.. Val L1 norm: 14301.014.. Train Linf norm: 24995785.314.. Val Linf norm: 7293685.016\n",
            "Epoch 27/140.. Train loss: 36693131861.658.. Val loss: 1088919831.211.. Train L1 norm: 16353.907.. Val L1 norm: 8872.515.. Train Linf norm: 8219796.897.. Val Linf norm: 4502898.906\n",
            "Epoch 28/140.. Train loss: 80292950207.459.. Val loss: 114492986.142.. Train L1 norm: 23637.441.. Val L1 norm: 1660.851.. Train Linf norm: 17815537.801.. Val Linf norm: 712753.008\n",
            "Epoch 29/140.. Train loss: 34018856173.681.. Val loss: 4147606.640.. Train L1 norm: 23136.111.. Val L1 norm: 320.058.. Train Linf norm: 16781948.727.. Val Linf norm: 99896.230\n",
            "Epoch 30/140.. Train loss: 13619581848.863.. Val loss: 48786465.200.. Train L1 norm: 18774.919.. Val L1 norm: 1757.643.. Train Linf norm: 14528700.849.. Val Linf norm: 1002024.957\n",
            "Epoch 31/140.. Train loss: 7080589894.967.. Val loss: 11551829.161.. Train L1 norm: 11868.458.. Val L1 norm: 740.228.. Train Linf norm: 8327364.572.. Val Linf norm: 419126.843\n",
            "Epoch 32/140.. Train loss: 56841481609.355.. Val loss: 66549195.188.. Train L1 norm: 9180.137.. Val L1 norm: 1779.633.. Train Linf norm: 5018067.885.. Val Linf norm: 941821.105\n",
            "Epoch 33/140.. Train loss: 22739116192.541.. Val loss: 42508008.745.. Train L1 norm: 17642.408.. Val L1 norm: 2792.453.. Train Linf norm: 11679446.996.. Val Linf norm: 1747945.570\n",
            "Epoch 34/140.. Train loss: 66277765501.338.. Val loss: 57101327.222.. Train L1 norm: 15928.695.. Val L1 norm: 2508.566.. Train Linf norm: 10783665.835.. Val Linf norm: 1424091.158\n",
            "Epoch 35/140.. Train loss: 31496913925.179.. Val loss: 10707443.556.. Train L1 norm: 18311.057.. Val L1 norm: 651.866.. Train Linf norm: 14065101.481.. Val Linf norm: 338482.392\n",
            "Epoch 36/140.. Train loss: 752313490542.533.. Val loss: 1923996481.604.. Train L1 norm: 23756.538.. Val L1 norm: 16946.238.. Train Linf norm: 17563517.794.. Val Linf norm: 9941373.399\n",
            "Epoch 37/140.. Train loss: 616282188020.239.. Val loss: 26248888333.653.. Train L1 norm: 81567.910.. Val L1 norm: 61701.230.. Train Linf norm: 62015638.512.. Val Linf norm: 37798786.565\n",
            "Epoch 38/140.. Train loss: 1544725180430.043.. Val loss: 1185899049.131.. Train L1 norm: 25892.886.. Val L1 norm: 14091.931.. Train Linf norm: 15993913.415.. Val Linf norm: 8458983.936\n",
            "Epoch 39/140.. Train loss: 843085454240.329.. Val loss: 2067403119.957.. Train L1 norm: 35961.163.. Val L1 norm: 19047.600.. Train Linf norm: 23665308.935.. Val Linf norm: 11668671.197\n",
            "Epoch 40/140.. Train loss: 89321728231.548.. Val loss: 42076350.123.. Train L1 norm: 16007.516.. Val L1 norm: 2512.037.. Train Linf norm: 9783940.701.. Val Linf norm: 1465475.676\n",
            "Epoch 41/140.. Train loss: 17306804212.815.. Val loss: 90251304.685.. Train L1 norm: 8809.014.. Val L1 norm: 3711.895.. Train Linf norm: 5766448.764.. Val Linf norm: 2185058.180\n",
            "Epoch 42/140.. Train loss: 306481137335.867.. Val loss: 156687154.231.. Train L1 norm: 16465.938.. Val L1 norm: 4938.448.. Train Linf norm: 11720756.237.. Val Linf norm: 2967390.848\n",
            "Epoch 43/140.. Train loss: 132280365234.061.. Val loss: 520696853.931.. Train L1 norm: 9581.864.. Val L1 norm: 8295.286.. Train Linf norm: 5333751.096.. Val Linf norm: 4963018.427\n",
            "Epoch 44/140.. Train loss: 151138516577.405.. Val loss: 24165621.108.. Train L1 norm: 9043.010.. Val L1 norm: 1742.138.. Train Linf norm: 5111070.512.. Val Linf norm: 1055241.321\n",
            "Epoch 45/140.. Train loss: 118476559348.012.. Val loss: 330625.548.. Train L1 norm: 5547.120.. Val L1 norm: 172.889.. Train Linf norm: 2515432.038.. Val Linf norm: 81253.966\n",
            "Epoch 46/140.. Train loss: 852715789.592.. Val loss: 4556446.137.. Train L1 norm: 6364.647.. Val L1 norm: 658.526.. Train Linf norm: 5297168.002.. Val Linf norm: 333182.068\n",
            "Epoch 47/140.. Train loss: 3708198839.818.. Val loss: 5129903.866.. Train L1 norm: 2566.299.. Val L1 norm: 699.825.. Train Linf norm: 1428524.339.. Val Linf norm: 357315.125\n",
            "Epoch 48/140.. Train loss: 1561667985.744.. Val loss: 6297880.441.. Train L1 norm: 1980.210.. Val L1 norm: 761.753.. Train Linf norm: 890646.519.. Val Linf norm: 399663.216\n",
            "Epoch 49/140.. Train loss: 2866992477.038.. Val loss: 5504539.123.. Train L1 norm: 2363.201.. Val L1 norm: 718.330.. Train Linf norm: 1310778.695.. Val Linf norm: 375180.886\n",
            "Epoch 50/140.. Train loss: 385229153.749.. Val loss: 5019943.191.. Train L1 norm: 2546.666.. Val L1 norm: 701.011.. Train Linf norm: 1507273.184.. Val Linf norm: 362317.137\n",
            "Epoch 51/140.. Train loss: 1037299369.362.. Val loss: 3923966.915.. Train L1 norm: 3474.451.. Val L1 norm: 620.284.. Train Linf norm: 2477526.969.. Val Linf norm: 317698.954\n",
            "Epoch 52/140.. Train loss: 962495270.159.. Val loss: 3431248.072.. Train L1 norm: 2901.176.. Val L1 norm: 592.748.. Train Linf norm: 1890848.189.. Val Linf norm: 303113.881\n",
            "Epoch 53/140.. Train loss: 31125349493.702.. Val loss: 6342252.191.. Train L1 norm: 6780.894.. Val L1 norm: 676.488.. Train Linf norm: 5960758.574.. Val Linf norm: 347482.027\n",
            "Epoch 54/140.. Train loss: 1708604254.821.. Val loss: 5841969.844.. Train L1 norm: 1810.052.. Val L1 norm: 652.853.. Train Linf norm: 966570.065.. Val Linf norm: 340868.651\n",
            "Epoch 55/140.. Train loss: 2315548603.794.. Val loss: 6556732.895.. Train L1 norm: 1853.220.. Val L1 norm: 691.264.. Train Linf norm: 825704.146.. Val Linf norm: 357016.778\n",
            "Epoch 56/140.. Train loss: 3693993874.909.. Val loss: 3597859.343.. Train L1 norm: 4732.785.. Val L1 norm: 504.427.. Train Linf norm: 3946136.572.. Val Linf norm: 268029.755\n",
            "Epoch 57/140.. Train loss: 1149091173.186.. Val loss: 3296140.844.. Train L1 norm: 2554.292.. Val L1 norm: 476.052.. Train Linf norm: 1707787.575.. Val Linf norm: 253979.313\n",
            "Epoch 58/140.. Train loss: 2343564229.176.. Val loss: 2799878.487.. Train L1 norm: 3489.253.. Val L1 norm: 438.873.. Train Linf norm: 2741912.149.. Val Linf norm: 234181.744\n",
            "Epoch 59/140.. Train loss: 338120936.773.. Val loss: 3152042.058.. Train L1 norm: 5521.332.. Val L1 norm: 468.189.. Train Linf norm: 4841277.688.. Val Linf norm: 250276.768\n",
            "Epoch 60/140.. Train loss: 5881446995.843.. Val loss: 1750455.224.. Train L1 norm: 3171.287.. Val L1 norm: 316.970.. Train Linf norm: 2390855.962.. Val Linf norm: 165497.210\n",
            "Epoch 61/140.. Train loss: 744205772.347.. Val loss: 1773544.967.. Train L1 norm: 2718.350.. Val L1 norm: 314.635.. Train Linf norm: 1952256.327.. Val Linf norm: 163115.196\n",
            "Epoch 62/140.. Train loss: 1406784050.113.. Val loss: 1434514.639.. Train L1 norm: 2355.361.. Val L1 norm: 278.097.. Train Linf norm: 1598166.510.. Val Linf norm: 142401.331\n",
            "Epoch 63/140.. Train loss: 3997528934.099.. Val loss: 2611687.707.. Train L1 norm: 9986.163.. Val L1 norm: 431.813.. Train Linf norm: 9396197.838.. Val Linf norm: 220194.975\n",
            "Epoch 64/140.. Train loss: 6314449759.037.. Val loss: 148892.955.. Train L1 norm: 4124.489.. Val L1 norm: 98.641.. Train Linf norm: 3405859.811.. Val Linf norm: 48200.913\n",
            "Epoch 65/140.. Train loss: 1261850142.624.. Val loss: 204865.496.. Train L1 norm: 2838.416.. Val L1 norm: 108.110.. Train Linf norm: 2090489.745.. Val Linf norm: 49390.812\n",
            "Epoch 66/140.. Train loss: 3410596548.603.. Val loss: 898601.664.. Train L1 norm: 2375.197.. Val L1 norm: 269.284.. Train Linf norm: 1603265.535.. Val Linf norm: 134889.147\n",
            "Epoch 67/140.. Train loss: 1076283007.528.. Val loss: 835670.036.. Train L1 norm: 3039.242.. Val L1 norm: 260.653.. Train Linf norm: 2334235.895.. Val Linf norm: 130676.597\n",
            "Epoch 68/140.. Train loss: 831124339.194.. Val loss: 720166.115.. Train L1 norm: 5102.937.. Val L1 norm: 246.049.. Train Linf norm: 4463464.537.. Val Linf norm: 122479.862\n",
            "Epoch 69/140.. Train loss: 2150890880.252.. Val loss: 1462598.529.. Train L1 norm: 4382.316.. Val L1 norm: 353.966.. Train Linf norm: 3776403.670.. Val Linf norm: 179017.655\n",
            "Epoch 70/140.. Train loss: 3850659200.804.. Val loss: 635410.463.. Train L1 norm: 2456.358.. Val L1 norm: 239.170.. Train Linf norm: 1775468.870.. Val Linf norm: 117731.167\n",
            "Epoch 71/140.. Train loss: 1910965401.883.. Val loss: 805305.345.. Train L1 norm: 3382.514.. Val L1 norm: 272.174.. Train Linf norm: 2744454.794.. Val Linf norm: 134579.130\n",
            "Epoch 72/140.. Train loss: 954541714.422.. Val loss: 817711.521.. Train L1 norm: 3068.373.. Val L1 norm: 274.652.. Train Linf norm: 2424193.504.. Val Linf norm: 135837.618\n",
            "Epoch 73/140.. Train loss: 1565842122.493.. Val loss: 544817.178.. Train L1 norm: 1866.164.. Val L1 norm: 227.263.. Train Linf norm: 1200070.761.. Val Linf norm: 111553.745\n",
            "Epoch 74/140.. Train loss: 968753447.980.. Val loss: 536081.172.. Train L1 norm: 2092.235.. Val L1 norm: 226.182.. Train Linf norm: 1443392.649.. Val Linf norm: 110898.422\n",
            "Epoch 75/140.. Train loss: 682747088.396.. Val loss: 633201.083.. Train L1 norm: 1373.205.. Val L1 norm: 246.083.. Train Linf norm: 580671.601.. Val Linf norm: 121555.093\n",
            "Epoch 76/140.. Train loss: 331579967.676.. Val loss: 649846.687.. Train L1 norm: 3206.779.. Val L1 norm: 249.152.. Train Linf norm: 2588847.215.. Val Linf norm: 123106.960\n",
            "Epoch 77/140.. Train loss: 3033407830.831.. Val loss: 809338.343.. Train L1 norm: 1502.944.. Val L1 norm: 281.208.. Train Linf norm: 834937.864.. Val Linf norm: 139540.530\n",
            "Epoch 78/140.. Train loss: 752756321.750.. Val loss: 831990.125.. Train L1 norm: 1668.503.. Val L1 norm: 286.002.. Train Linf norm: 691841.686.. Val Linf norm: 142053.162\n",
            "Epoch 79/140.. Train loss: 1752229718.894.. Val loss: 838455.353.. Train L1 norm: 1344.955.. Val L1 norm: 287.469.. Train Linf norm: 709233.333.. Val Linf norm: 142889.386\n",
            "Epoch 80/140.. Train loss: 545413829.072.. Val loss: 838039.447.. Train L1 norm: 1249.886.. Val L1 norm: 287.412.. Train Linf norm: 571340.411.. Val Linf norm: 142878.554\n",
            "Epoch 81/140.. Train loss: 543085783.450.. Val loss: 851540.849.. Train L1 norm: 1485.297.. Val L1 norm: 289.379.. Train Linf norm: 672074.651.. Val Linf norm: 143856.537\n",
            "Epoch 82/140.. Train loss: 506137085.091.. Val loss: 859132.063.. Train L1 norm: 1582.815.. Val L1 norm: 290.666.. Train Linf norm: 871453.101.. Val Linf norm: 144525.256\n",
            "Epoch 83/140.. Train loss: 536603839.762.. Val loss: 872116.794.. Train L1 norm: 2546.805.. Val L1 norm: 292.803.. Train Linf norm: 1903030.770.. Val Linf norm: 145608.546\n",
            "Epoch 84/140.. Train loss: 506530200.486.. Val loss: 875393.218.. Train L1 norm: 1616.752.. Val L1 norm: 293.300.. Train Linf norm: 941261.430.. Val Linf norm: 145894.078\n",
            "Epoch 85/140.. Train loss: 228717878.137.. Val loss: 873702.809.. Train L1 norm: 1530.647.. Val L1 norm: 293.027.. Train Linf norm: 873706.601.. Val Linf norm: 145759.246\n",
            "Epoch 86/140.. Train loss: 637230518.203.. Val loss: 842248.614.. Train L1 norm: 1823.043.. Val L1 norm: 288.187.. Train Linf norm: 1131765.881.. Val Linf norm: 143274.466\n",
            "Epoch 87/140.. Train loss: 800681615.647.. Val loss: 844621.381.. Train L1 norm: 1211.388.. Val L1 norm: 288.309.. Train Linf norm: 537575.366.. Val Linf norm: 143359.065\n",
            "Epoch 88/140.. Train loss: 2098380778.050.. Val loss: 923004.639.. Train L1 norm: 2888.987.. Val L1 norm: 298.754.. Train Linf norm: 2220144.633.. Val Linf norm: 148678.228\n",
            "Epoch 89/140.. Train loss: 337426971.444.. Val loss: 898414.572.. Train L1 norm: 1870.661.. Val L1 norm: 294.372.. Train Linf norm: 1240008.993.. Val Linf norm: 146598.329\n",
            "Epoch 90/140.. Train loss: 2280414236.317.. Val loss: 1013575.304.. Train L1 norm: 2620.542.. Val L1 norm: 307.734.. Train Linf norm: 2016577.856.. Val Linf norm: 153066.663\n",
            "Epoch 91/140.. Train loss: 2302511750.839.. Val loss: 728610.531.. Train L1 norm: 4205.298.. Val L1 norm: 261.459.. Train Linf norm: 3611333.142.. Val Linf norm: 128928.661\n",
            "Epoch 92/140.. Train loss: 213389993.149.. Val loss: 736554.047.. Train L1 norm: 1932.685.. Val L1 norm: 261.721.. Train Linf norm: 1292514.074.. Val Linf norm: 128768.154\n",
            "Epoch 93/140.. Train loss: 7195390041.900.. Val loss: 1494179.092.. Train L1 norm: 1713.061.. Val L1 norm: 381.039.. Train Linf norm: 1090971.607.. Val Linf norm: 192427.756\n",
            "Epoch 94/140.. Train loss: 6972005684.403.. Val loss: 2001087.423.. Train L1 norm: 1373.425.. Val L1 norm: 436.511.. Train Linf norm: 720536.217.. Val Linf norm: 222313.220\n",
            "Epoch 95/140.. Train loss: 318573263.984.. Val loss: 2241118.427.. Train L1 norm: 2293.127.. Val L1 norm: 458.974.. Train Linf norm: 1646546.288.. Val Linf norm: 234649.764\n",
            "Epoch 96/140.. Train loss: 816489486.455.. Val loss: 2084530.186.. Train L1 norm: 2630.031.. Val L1 norm: 441.448.. Train Linf norm: 2025687.501.. Val Linf norm: 225380.422\n",
            "Epoch 97/140.. Train loss: 241584338.772.. Val loss: 1949805.072.. Train L1 norm: 1337.282.. Val L1 norm: 426.758.. Train Linf norm: 698721.361.. Val Linf norm: 217671.741\n",
            "Epoch 98/140.. Train loss: 2191827997.888.. Val loss: 2611003.473.. Train L1 norm: 6225.176.. Val L1 norm: 491.533.. Train Linf norm: 5695844.260.. Val Linf norm: 251489.811\n",
            "Epoch 99/140.. Train loss: 471099507.302.. Val loss: 3193863.331.. Train L1 norm: 2111.282.. Val L1 norm: 541.640.. Train Linf norm: 1462703.484.. Val Linf norm: 277327.438\n",
            "Epoch 100/140.. Train loss: 545162918.817.. Val loss: 2597671.221.. Train L1 norm: 1305.940.. Val L1 norm: 486.787.. Train Linf norm: 669212.367.. Val Linf norm: 248158.240\n",
            "Epoch 101/140.. Train loss: 7954218386.309.. Val loss: 3796187.923.. Train L1 norm: 2143.211.. Val L1 norm: 609.515.. Train Linf norm: 1469994.273.. Val Linf norm: 317899.035\n",
            "Epoch 102/140.. Train loss: 748728222.444.. Val loss: 6442307.656.. Train L1 norm: 2734.210.. Val L1 norm: 865.140.. Train Linf norm: 1998428.395.. Val Linf norm: 476496.367\n",
            "Epoch 103/140.. Train loss: 4319845353.886.. Val loss: 1509710.745.. Train L1 norm: 2491.846.. Val L1 norm: 408.429.. Train Linf norm: 1815007.376.. Val Linf norm: 221075.764\n",
            "Epoch 104/140.. Train loss: 2746036170.402.. Val loss: 1059726.588.. Train L1 norm: 1562.219.. Val L1 norm: 339.434.. Train Linf norm: 975597.110.. Val Linf norm: 184006.256\n",
            "Epoch 105/140.. Train loss: 2092622762.300.. Val loss: 1157083.345.. Train L1 norm: 3830.584.. Val L1 norm: 303.971.. Train Linf norm: 3303765.800.. Val Linf norm: 160836.300\n",
            "Epoch 106/140.. Train loss: 1685643122.034.. Val loss: 784330.828.. Train L1 norm: 1028.581.. Val L1 norm: 239.966.. Train Linf norm: 440437.568.. Val Linf norm: 124738.082\n",
            "Epoch 107/140.. Train loss: 1570258081.944.. Val loss: 638125.080.. Train L1 norm: 1448.578.. Val L1 norm: 214.677.. Train Linf norm: 864412.665.. Val Linf norm: 110298.289\n",
            "Epoch 108/140.. Train loss: 866865970.211.. Val loss: 318838.988.. Train L1 norm: 3064.520.. Val L1 norm: 155.988.. Train Linf norm: 2574794.202.. Val Linf norm: 80998.010\n",
            "Epoch 109/140.. Train loss: 1919709759.279.. Val loss: 788834.018.. Train L1 norm: 1997.924.. Val L1 norm: 278.385.. Train Linf norm: 1443341.863.. Val Linf norm: 152916.790\n",
            "Epoch 110/140.. Train loss: 375801439.275.. Val loss: 833436.814.. Train L1 norm: 1302.115.. Val L1 norm: 282.053.. Train Linf norm: 780265.701.. Val Linf norm: 153708.779\n",
            "Epoch 111/140.. Train loss: 82194255.542.. Val loss: 878020.102.. Train L1 norm: 1900.994.. Val L1 norm: 290.007.. Train Linf norm: 1369399.711.. Val Linf norm: 157704.774\n",
            "Epoch 112/140.. Train loss: 212608183.218.. Val loss: 652554.808.. Train L1 norm: 1396.362.. Val L1 norm: 239.269.. Train Linf norm: 902290.752.. Val Linf norm: 127835.124\n",
            "Epoch 113/140.. Train loss: 815220148.067.. Val loss: 79203.777.. Train L1 norm: 1187.056.. Val L1 norm: 48.303.. Train Linf norm: 677907.851.. Val Linf norm: 12418.465\n",
            "Epoch 114/140.. Train loss: 380582001.419.. Val loss: 135373.642.. Train L1 norm: 1287.720.. Val L1 norm: 71.329.. Train Linf norm: 740563.101.. Val Linf norm: 27806.258\n",
            "Epoch 115/140.. Train loss: 534578776.000.. Val loss: 321435.596.. Train L1 norm: 1354.260.. Val L1 norm: 149.239.. Train Linf norm: 824047.187.. Val Linf norm: 76938.420\n",
            "Epoch 116/140.. Train loss: 232382900.202.. Val loss: 1015278.267.. Train L1 norm: 1115.278.. Val L1 norm: 309.151.. Train Linf norm: 621078.410.. Val Linf norm: 167959.841\n",
            "Epoch 117/140.. Train loss: 1592019434.476.. Val loss: 2046054.866.. Train L1 norm: 1632.305.. Val L1 norm: 473.192.. Train Linf norm: 1138125.936.. Val Linf norm: 264894.224\n",
            "Epoch 118/140.. Train loss: 748601549.224.. Val loss: 1346035.071.. Train L1 norm: 1585.554.. Val L1 norm: 378.086.. Train Linf norm: 1020665.652.. Val Linf norm: 210231.581\n",
            "Epoch 119/140.. Train loss: 681054455.941.. Val loss: 388559.642.. Train L1 norm: 1199.242.. Val L1 norm: 179.456.. Train Linf norm: 747530.814.. Val Linf norm: 93610.490\n",
            "Epoch 120/140.. Train loss: 2817456277.821.. Val loss: 2135060.140.. Train L1 norm: 1948.694.. Val L1 norm: 469.005.. Train Linf norm: 1522885.734.. Val Linf norm: 259583.727\n",
            "Epoch 121/140.. Train loss: 288664138.348.. Val loss: 2715519.544.. Train L1 norm: 2526.127.. Val L1 norm: 535.229.. Train Linf norm: 2053911.782.. Val Linf norm: 298471.955\n",
            "Epoch 122/140.. Train loss: 493747419.273.. Val loss: 4215999.490.. Train L1 norm: 1173.876.. Val L1 norm: 715.141.. Train Linf norm: 653584.221.. Val Linf norm: 411303.002\n",
            "Epoch 123/140.. Train loss: 561369489.773.. Val loss: 2624282.096.. Train L1 norm: 6191.480.. Val L1 norm: 551.678.. Train Linf norm: 5816873.807.. Val Linf norm: 314619.922\n",
            "Epoch 124/140.. Train loss: 1020900113.756.. Val loss: 1289841.264.. Train L1 norm: 2182.145.. Val L1 norm: 358.867.. Train Linf norm: 1775169.207.. Val Linf norm: 198553.382\n",
            "Epoch 125/140.. Train loss: 711391686.130.. Val loss: 1050059.755.. Train L1 norm: 1793.921.. Val L1 norm: 329.143.. Train Linf norm: 1388789.862.. Val Linf norm: 182185.730\n",
            "Epoch 126/140.. Train loss: 128400906.234.. Val loss: 926849.614.. Train L1 norm: 683.317.. Val L1 norm: 317.977.. Train Linf norm: 247328.659.. Val Linf norm: 176990.556\n",
            "Epoch 127/140.. Train loss: 157064519.700.. Val loss: 750414.600.. Train L1 norm: 916.236.. Val L1 norm: 285.610.. Train Linf norm: 538414.979.. Val Linf norm: 158586.207\n",
            "Epoch 128/140.. Train loss: 747800788.060.. Val loss: 155697.931.. Train L1 norm: 1270.541.. Val L1 norm: 124.610.. Train Linf norm: 850118.040.. Val Linf norm: 68175.224\n",
            "Epoch 129/140.. Train loss: 450419472.924.. Val loss: 912465.099.. Train L1 norm: 3915.907.. Val L1 norm: 394.663.. Train Linf norm: 3528682.732.. Val Linf norm: 218683.264\n",
            "Epoch 130/140.. Train loss: 136685492.430.. Val loss: 1394133.276.. Train L1 norm: 1430.750.. Val L1 norm: 489.774.. Train Linf norm: 963627.013.. Val Linf norm: 271545.781\n",
            "Epoch 131/140.. Train loss: 226976056.737.. Val loss: 908802.051.. Train L1 norm: 1642.688.. Val L1 norm: 390.188.. Train Linf norm: 1178235.250.. Val Linf norm: 215155.640\n",
            "Epoch 132/140.. Train loss: 285907985.505.. Val loss: 747848.515.. Train L1 norm: 2603.462.. Val L1 norm: 342.109.. Train Linf norm: 2193412.008.. Val Linf norm: 186622.571\n",
            "Epoch 133/140.. Train loss: 186895125.714.. Val loss: 907759.892.. Train L1 norm: 1828.000.. Val L1 norm: 357.083.. Train Linf norm: 1416288.524.. Val Linf norm: 194261.412\n",
            "Epoch 134/140.. Train loss: 171824648.799.. Val loss: 1010174.435.. Train L1 norm: 2652.339.. Val L1 norm: 373.019.. Train Linf norm: 2268007.545.. Val Linf norm: 204053.384\n",
            "Epoch 135/140.. Train loss: 2974959619.911.. Val loss: 4667291.516.. Train L1 norm: 1422.992.. Val L1 norm: 771.187.. Train Linf norm: 900173.606.. Val Linf norm: 434283.940\n"
          ]
        },
        {
          "name": "stderr",
          "output_type": "stream",
          "text": [
            "\u001b[32m[I 2023-05-29 13:54:17,568]\u001b[0m Trial 20 pruned. \u001b[0m\n"
          ]
        },
        {
          "name": "stdout",
          "output_type": "stream",
          "text": [
            "Epoch 136/140.. Train loss: 348362124.643.. Val loss: 4140611.985.. Train L1 norm: 2383.914.. Val L1 norm: 714.645.. Train Linf norm: 1819308.044.. Val Linf norm: 410889.913\n",
            "Epoch 1/97.. Train loss: 2.484.. Val loss: 2.470.. Train L1 norm: 1.566.. Val L1 norm: 1.436.. Train Linf norm: 70.294.. Val Linf norm: 54.168\n",
            "Epoch 2/97.. Train loss: 2.468.. Val loss: 2.451.. Train L1 norm: 2.085.. Val L1 norm: 1.565.. Train Linf norm: 132.107.. Val Linf norm: 68.797\n",
            "Epoch 3/97.. Train loss: 2.459.. Val loss: 2.442.. Train L1 norm: 2.344.. Val L1 norm: 1.632.. Train Linf norm: 151.837.. Val Linf norm: 76.313\n",
            "Epoch 4/97.. Train loss: 2.452.. Val loss: 2.435.. Train L1 norm: 2.353.. Val L1 norm: 1.685.. Train Linf norm: 162.908.. Val Linf norm: 82.258\n",
            "Epoch 5/97.. Train loss: 2.442.. Val loss: 2.430.. Train L1 norm: 2.428.. Val L1 norm: 1.727.. Train Linf norm: 170.533.. Val Linf norm: 86.884\n",
            "Epoch 6/97.. Train loss: 2.441.. Val loss: 2.426.. Train L1 norm: 2.492.. Val L1 norm: 1.759.. Train Linf norm: 177.940.. Val Linf norm: 90.442\n",
            "Epoch 7/97.. Train loss: 2.446.. Val loss: 2.423.. Train L1 norm: 2.482.. Val L1 norm: 1.787.. Train Linf norm: 176.345.. Val Linf norm: 93.448\n",
            "Epoch 8/97.. Train loss: 2.441.. Val loss: 2.419.. Train L1 norm: 2.629.. Val L1 norm: 1.812.. Train Linf norm: 194.160.. Val Linf norm: 96.226\n",
            "Epoch 9/97.. Train loss: 2.441.. Val loss: 2.419.. Train L1 norm: 2.583.. Val L1 norm: 1.818.. Train Linf norm: 187.768.. Val Linf norm: 96.879\n",
            "Epoch 10/97.. Train loss: 2.437.. Val loss: 2.418.. Train L1 norm: 2.704.. Val L1 norm: 1.823.. Train Linf norm: 202.621.. Val Linf norm: 97.497\n",
            "Epoch 11/97.. Train loss: 2.439.. Val loss: 2.417.. Train L1 norm: 2.577.. Val L1 norm: 1.828.. Train Linf norm: 186.171.. Val Linf norm: 98.042\n",
            "Epoch 12/97.. Train loss: 2.437.. Val loss: 2.417.. Train L1 norm: 2.571.. Val L1 norm: 1.833.. Train Linf norm: 185.662.. Val Linf norm: 98.559\n",
            "Epoch 13/97.. Train loss: 2.451.. Val loss: 2.416.. Train L1 norm: 2.527.. Val L1 norm: 1.837.. Train Linf norm: 179.945.. Val Linf norm: 98.995\n",
            "Epoch 14/97.. Train loss: 2.439.. Val loss: 2.416.. Train L1 norm: 2.887.. Val L1 norm: 1.841.. Train Linf norm: 225.022.. Val Linf norm: 99.438\n",
            "Epoch 15/97.. Train loss: 2.432.. Val loss: 2.415.. Train L1 norm: 2.818.. Val L1 norm: 1.845.. Train Linf norm: 217.238.. Val Linf norm: 99.884\n",
            "Epoch 16/97.. Train loss: 2.437.. Val loss: 2.415.. Train L1 norm: 2.704.. Val L1 norm: 1.849.. Train Linf norm: 200.245.. Val Linf norm: 100.297\n",
            "Epoch 17/97.. Train loss: 2.441.. Val loss: 2.415.. Train L1 norm: 2.884.. Val L1 norm: 1.850.. Train Linf norm: 225.062.. Val Linf norm: 100.371\n",
            "Epoch 18/97.. Train loss: 2.438.. Val loss: 2.415.. Train L1 norm: 2.668.. Val L1 norm: 1.850.. Train Linf norm: 196.505.. Val Linf norm: 100.447\n",
            "Epoch 19/97.. Train loss: 2.442.. Val loss: 2.415.. Train L1 norm: 2.766.. Val L1 norm: 1.851.. Train Linf norm: 209.646.. Val Linf norm: 100.504\n",
            "Epoch 20/97.. Train loss: 2.445.. Val loss: 2.415.. Train L1 norm: 2.856.. Val L1 norm: 1.851.. Train Linf norm: 222.116.. Val Linf norm: 100.553\n",
            "Epoch 21/97.. Train loss: 2.440.. Val loss: 2.415.. Train L1 norm: 2.754.. Val L1 norm: 1.852.. Train Linf norm: 208.009.. Val Linf norm: 100.607\n",
            "Epoch 22/97.. Train loss: 2.433.. Val loss: 2.415.. Train L1 norm: 2.795.. Val L1 norm: 1.852.. Train Linf norm: 213.489.. Val Linf norm: 100.665\n",
            "Epoch 23/97.. Train loss: 2.444.. Val loss: 2.415.. Train L1 norm: 2.822.. Val L1 norm: 1.853.. Train Linf norm: 216.342.. Val Linf norm: 100.712\n",
            "Epoch 24/97.. Train loss: 2.441.. Val loss: 2.415.. Train L1 norm: 2.704.. Val L1 norm: 1.853.. Train Linf norm: 202.220.. Val Linf norm: 100.758\n",
            "Epoch 25/97.. Train loss: 2.442.. Val loss: 2.415.. Train L1 norm: 2.811.. Val L1 norm: 1.853.. Train Linf norm: 214.942.. Val Linf norm: 100.744\n",
            "Epoch 26/97.. Train loss: 2.439.. Val loss: 2.415.. Train L1 norm: 2.790.. Val L1 norm: 1.853.. Train Linf norm: 212.529.. Val Linf norm: 100.731\n",
            "Epoch 27/97.. Train loss: 2.432.. Val loss: 2.415.. Train L1 norm: 2.741.. Val L1 norm: 1.853.. Train Linf norm: 207.611.. Val Linf norm: 100.719\n",
            "Epoch 28/97.. Train loss: 2.441.. Val loss: 2.415.. Train L1 norm: 2.803.. Val L1 norm: 1.853.. Train Linf norm: 213.401.. Val Linf norm: 100.705\n",
            "Epoch 29/97.. Train loss: 2.435.. Val loss: 2.415.. Train L1 norm: 2.828.. Val L1 norm: 1.852.. Train Linf norm: 218.075.. Val Linf norm: 100.693\n",
            "Epoch 30/97.. Train loss: 2.439.. Val loss: 2.415.. Train L1 norm: 2.721.. Val L1 norm: 1.852.. Train Linf norm: 199.567.. Val Linf norm: 100.678\n",
            "Epoch 31/97.. Train loss: 2.439.. Val loss: 2.415.. Train L1 norm: 2.908.. Val L1 norm: 1.852.. Train Linf norm: 227.437.. Val Linf norm: 100.665\n",
            "Epoch 32/97.. Train loss: 2.437.. Val loss: 2.415.. Train L1 norm: 2.840.. Val L1 norm: 1.852.. Train Linf norm: 217.787.. Val Linf norm: 100.652\n",
            "Epoch 33/97.. Train loss: 2.436.. Val loss: 2.415.. Train L1 norm: 2.807.. Val L1 norm: 1.852.. Train Linf norm: 215.531.. Val Linf norm: 100.646\n",
            "Epoch 34/97.. Train loss: 2.445.. Val loss: 2.415.. Train L1 norm: 2.726.. Val L1 norm: 1.852.. Train Linf norm: 202.775.. Val Linf norm: 100.640\n",
            "Epoch 35/97.. Train loss: 2.442.. Val loss: 2.415.. Train L1 norm: 2.676.. Val L1 norm: 1.852.. Train Linf norm: 196.073.. Val Linf norm: 100.634\n",
            "Epoch 36/97.. Train loss: 2.432.. Val loss: 2.415.. Train L1 norm: 2.727.. Val L1 norm: 1.852.. Train Linf norm: 204.488.. Val Linf norm: 100.629\n",
            "Epoch 37/97.. Train loss: 2.438.. Val loss: 2.415.. Train L1 norm: 2.884.. Val L1 norm: 1.852.. Train Linf norm: 225.519.. Val Linf norm: 100.623\n",
            "Epoch 38/97.. Train loss: 2.437.. Val loss: 2.415.. Train L1 norm: 2.789.. Val L1 norm: 1.852.. Train Linf norm: 212.367.. Val Linf norm: 100.617\n",
            "Epoch 39/97.. Train loss: 2.434.. Val loss: 2.415.. Train L1 norm: 2.765.. Val L1 norm: 1.852.. Train Linf norm: 210.032.. Val Linf norm: 100.612\n",
            "Epoch 40/97.. Train loss: 2.427.. Val loss: 2.415.. Train L1 norm: 2.881.. Val L1 norm: 1.852.. Train Linf norm: 225.231.. Val Linf norm: 100.607\n",
            "Epoch 41/97.. Train loss: 2.432.. Val loss: 2.415.. Train L1 norm: 2.759.. Val L1 norm: 1.852.. Train Linf norm: 208.892.. Val Linf norm: 100.606\n",
            "Epoch 42/97.. Train loss: 2.439.. Val loss: 2.415.. Train L1 norm: 2.773.. Val L1 norm: 1.852.. Train Linf norm: 210.818.. Val Linf norm: 100.604\n",
            "Epoch 43/97.. Train loss: 2.447.. Val loss: 2.415.. Train L1 norm: 2.874.. Val L1 norm: 1.852.. Train Linf norm: 223.287.. Val Linf norm: 100.603\n",
            "Epoch 44/97.. Train loss: 2.443.. Val loss: 2.415.. Train L1 norm: 2.723.. Val L1 norm: 1.852.. Train Linf norm: 204.456.. Val Linf norm: 100.601\n",
            "Epoch 45/97.. Train loss: 2.444.. Val loss: 2.415.. Train L1 norm: 2.759.. Val L1 norm: 1.852.. Train Linf norm: 209.247.. Val Linf norm: 100.599\n",
            "Epoch 46/97.. Train loss: 2.439.. Val loss: 2.415.. Train L1 norm: 2.888.. Val L1 norm: 1.852.. Train Linf norm: 225.938.. Val Linf norm: 100.598\n",
            "Epoch 47/97.. Train loss: 2.439.. Val loss: 2.415.. Train L1 norm: 2.860.. Val L1 norm: 1.852.. Train Linf norm: 222.164.. Val Linf norm: 100.596\n",
            "Epoch 48/97.. Train loss: 2.438.. Val loss: 2.415.. Train L1 norm: 2.773.. Val L1 norm: 1.852.. Train Linf norm: 211.378.. Val Linf norm: 100.595\n",
            "Epoch 49/97.. Train loss: 2.440.. Val loss: 2.415.. Train L1 norm: 2.658.. Val L1 norm: 1.852.. Train Linf norm: 196.124.. Val Linf norm: 100.595\n",
            "Epoch 50/97.. Train loss: 2.438.. Val loss: 2.415.. Train L1 norm: 2.795.. Val L1 norm: 1.852.. Train Linf norm: 213.761.. Val Linf norm: 100.594\n",
            "Epoch 51/97.. Train loss: 2.436.. Val loss: 2.415.. Train L1 norm: 2.666.. Val L1 norm: 1.852.. Train Linf norm: 197.758.. Val Linf norm: 100.594\n",
            "Epoch 52/97.. Train loss: 2.441.. Val loss: 2.415.. Train L1 norm: 2.683.. Val L1 norm: 1.852.. Train Linf norm: 200.552.. Val Linf norm: 100.594\n",
            "Epoch 53/97.. Train loss: 2.446.. Val loss: 2.415.. Train L1 norm: 2.752.. Val L1 norm: 1.852.. Train Linf norm: 207.465.. Val Linf norm: 100.593\n",
            "Epoch 54/97.. Train loss: 2.436.. Val loss: 2.415.. Train L1 norm: 2.799.. Val L1 norm: 1.852.. Train Linf norm: 214.178.. Val Linf norm: 100.593\n",
            "Epoch 55/97.. Train loss: 2.435.. Val loss: 2.415.. Train L1 norm: 2.715.. Val L1 norm: 1.852.. Train Linf norm: 202.055.. Val Linf norm: 100.593\n",
            "Epoch 56/97.. Train loss: 2.441.. Val loss: 2.415.. Train L1 norm: 2.758.. Val L1 norm: 1.852.. Train Linf norm: 209.918.. Val Linf norm: 100.593\n",
            "Epoch 57/97.. Train loss: 2.439.. Val loss: 2.415.. Train L1 norm: 2.649.. Val L1 norm: 1.852.. Train Linf norm: 195.172.. Val Linf norm: 100.593\n",
            "Epoch 58/97.. Train loss: 2.439.. Val loss: 2.415.. Train L1 norm: 2.797.. Val L1 norm: 1.852.. Train Linf norm: 214.544.. Val Linf norm: 100.593\n",
            "Epoch 59/97.. Train loss: 2.431.. Val loss: 2.415.. Train L1 norm: 2.840.. Val L1 norm: 1.852.. Train Linf norm: 220.206.. Val Linf norm: 100.592\n",
            "Epoch 60/97.. Train loss: 2.442.. Val loss: 2.415.. Train L1 norm: 2.749.. Val L1 norm: 1.852.. Train Linf norm: 208.098.. Val Linf norm: 100.592\n",
            "Epoch 61/97.. Train loss: 2.442.. Val loss: 2.415.. Train L1 norm: 2.669.. Val L1 norm: 1.852.. Train Linf norm: 198.160.. Val Linf norm: 100.592\n",
            "Epoch 62/97.. Train loss: 2.438.. Val loss: 2.415.. Train L1 norm: 2.718.. Val L1 norm: 1.852.. Train Linf norm: 203.841.. Val Linf norm: 100.592\n",
            "Epoch 63/97.. Train loss: 2.440.. Val loss: 2.415.. Train L1 norm: 2.785.. Val L1 norm: 1.852.. Train Linf norm: 212.066.. Val Linf norm: 100.592\n",
            "Epoch 64/97.. Train loss: 2.444.. Val loss: 2.415.. Train L1 norm: 2.846.. Val L1 norm: 1.852.. Train Linf norm: 220.128.. Val Linf norm: 100.592\n",
            "Epoch 65/97.. Train loss: 2.433.. Val loss: 2.415.. Train L1 norm: 2.761.. Val L1 norm: 1.852.. Train Linf norm: 209.735.. Val Linf norm: 100.592\n",
            "Epoch 66/97.. Train loss: 2.437.. Val loss: 2.415.. Train L1 norm: 2.798.. Val L1 norm: 1.852.. Train Linf norm: 213.856.. Val Linf norm: 100.592\n",
            "Epoch 67/97.. Train loss: 2.436.. Val loss: 2.415.. Train L1 norm: 2.730.. Val L1 norm: 1.852.. Train Linf norm: 205.740.. Val Linf norm: 100.592\n",
            "Epoch 68/97.. Train loss: 2.441.. Val loss: 2.415.. Train L1 norm: 2.659.. Val L1 norm: 1.852.. Train Linf norm: 196.880.. Val Linf norm: 100.592\n",
            "Epoch 69/97.. Train loss: 2.443.. Val loss: 2.415.. Train L1 norm: 2.844.. Val L1 norm: 1.852.. Train Linf norm: 220.237.. Val Linf norm: 100.592\n",
            "Epoch 70/97.. Train loss: 2.439.. Val loss: 2.415.. Train L1 norm: 2.661.. Val L1 norm: 1.852.. Train Linf norm: 196.032.. Val Linf norm: 100.592\n",
            "Epoch 71/97.. Train loss: 2.439.. Val loss: 2.415.. Train L1 norm: 2.630.. Val L1 norm: 1.852.. Train Linf norm: 191.101.. Val Linf norm: 100.592\n",
            "Epoch 72/97.. Train loss: 2.440.. Val loss: 2.415.. Train L1 norm: 2.819.. Val L1 norm: 1.852.. Train Linf norm: 216.925.. Val Linf norm: 100.592\n",
            "Epoch 73/97.. Train loss: 2.442.. Val loss: 2.415.. Train L1 norm: 2.892.. Val L1 norm: 1.852.. Train Linf norm: 224.927.. Val Linf norm: 100.592\n",
            "Epoch 74/97.. Train loss: 2.429.. Val loss: 2.415.. Train L1 norm: 2.776.. Val L1 norm: 1.852.. Train Linf norm: 211.765.. Val Linf norm: 100.592\n",
            "Epoch 75/97.. Train loss: 2.434.. Val loss: 2.415.. Train L1 norm: 2.744.. Val L1 norm: 1.852.. Train Linf norm: 206.660.. Val Linf norm: 100.592\n",
            "Epoch 76/97.. Train loss: 2.442.. Val loss: 2.415.. Train L1 norm: 2.743.. Val L1 norm: 1.852.. Train Linf norm: 207.330.. Val Linf norm: 100.592\n",
            "Epoch 77/97.. Train loss: 2.444.. Val loss: 2.415.. Train L1 norm: 2.920.. Val L1 norm: 1.852.. Train Linf norm: 229.877.. Val Linf norm: 100.592\n",
            "Epoch 78/97.. Train loss: 2.443.. Val loss: 2.415.. Train L1 norm: 2.722.. Val L1 norm: 1.852.. Train Linf norm: 204.584.. Val Linf norm: 100.592\n",
            "Epoch 79/97.. Train loss: 2.441.. Val loss: 2.415.. Train L1 norm: 2.801.. Val L1 norm: 1.852.. Train Linf norm: 213.821.. Val Linf norm: 100.592\n",
            "Epoch 80/97.. Train loss: 2.435.. Val loss: 2.415.. Train L1 norm: 2.874.. Val L1 norm: 1.852.. Train Linf norm: 224.671.. Val Linf norm: 100.592\n",
            "Epoch 81/97.. Train loss: 2.433.. Val loss: 2.415.. Train L1 norm: 2.715.. Val L1 norm: 1.852.. Train Linf norm: 203.032.. Val Linf norm: 100.592\n",
            "Epoch 82/97.. Train loss: 2.431.. Val loss: 2.415.. Train L1 norm: 2.687.. Val L1 norm: 1.852.. Train Linf norm: 200.735.. Val Linf norm: 100.592\n",
            "Epoch 83/97.. Train loss: 2.441.. Val loss: 2.415.. Train L1 norm: 2.641.. Val L1 norm: 1.852.. Train Linf norm: 194.629.. Val Linf norm: 100.592\n",
            "Epoch 84/97.. Train loss: 2.450.. Val loss: 2.415.. Train L1 norm: 2.689.. Val L1 norm: 1.852.. Train Linf norm: 199.707.. Val Linf norm: 100.592\n",
            "Epoch 85/97.. Train loss: 2.431.. Val loss: 2.415.. Train L1 norm: 2.697.. Val L1 norm: 1.852.. Train Linf norm: 201.257.. Val Linf norm: 100.592\n",
            "Epoch 86/97.. Train loss: 2.439.. Val loss: 2.415.. Train L1 norm: 2.859.. Val L1 norm: 1.852.. Train Linf norm: 206.214.. Val Linf norm: 100.592\n",
            "Epoch 87/97.. Train loss: 2.436.. Val loss: 2.415.. Train L1 norm: 2.756.. Val L1 norm: 1.852.. Train Linf norm: 209.015.. Val Linf norm: 100.592\n",
            "Epoch 88/97.. Train loss: 2.437.. Val loss: 2.415.. Train L1 norm: 2.881.. Val L1 norm: 1.852.. Train Linf norm: 225.735.. Val Linf norm: 100.592\n",
            "Epoch 89/97.. Train loss: 2.444.. Val loss: 2.415.. Train L1 norm: 2.677.. Val L1 norm: 1.852.. Train Linf norm: 199.431.. Val Linf norm: 100.592\n",
            "Epoch 90/97.. Train loss: 2.439.. Val loss: 2.415.. Train L1 norm: 2.727.. Val L1 norm: 1.852.. Train Linf norm: 205.553.. Val Linf norm: 100.592\n",
            "Epoch 91/97.. Train loss: 2.439.. Val loss: 2.415.. Train L1 norm: 2.813.. Val L1 norm: 1.852.. Train Linf norm: 215.680.. Val Linf norm: 100.592\n",
            "Epoch 92/97.. Train loss: 2.442.. Val loss: 2.415.. Train L1 norm: 2.626.. Val L1 norm: 1.852.. Train Linf norm: 191.532.. Val Linf norm: 100.592\n",
            "Epoch 93/97.. Train loss: 2.431.. Val loss: 2.415.. Train L1 norm: 2.776.. Val L1 norm: 1.852.. Train Linf norm: 210.375.. Val Linf norm: 100.592\n",
            "Epoch 94/97.. Train loss: 2.435.. Val loss: 2.415.. Train L1 norm: 2.780.. Val L1 norm: 1.852.. Train Linf norm: 212.646.. Val Linf norm: 100.592\n",
            "Epoch 95/97.. Train loss: 2.439.. Val loss: 2.415.. Train L1 norm: 2.878.. Val L1 norm: 1.852.. Train Linf norm: 224.231.. Val Linf norm: 100.592\n",
            "Epoch 96/97.. Train loss: 2.444.. Val loss: 2.415.. Train L1 norm: 2.733.. Val L1 norm: 1.852.. Train Linf norm: 205.295.. Val Linf norm: 100.592\n"
          ]
        },
        {
          "name": "stderr",
          "output_type": "stream",
          "text": [
            "\u001b[32m[I 2023-05-29 14:11:05,133]\u001b[0m Trial 21 finished with value: 1.8515874045689902 and parameters: {'n_layers': 10, 'n_units_0': 2834, 'n_units_1': 3559, 'n_units_2': 814, 'n_units_3': 1115, 'n_units_4': 1921, 'n_units_5': 757, 'n_units_6': 1989, 'n_units_7': 184, 'n_units_8': 4084, 'n_units_9': 3667, 'hidden_activation': 'LeakyReLU', 'output_activation': 'Linear', 'loss': 'Quantile', 'optimizer': 'Adagrad', 'lr': 5.379884505422021e-06, 'batch_size': 128, 'n_epochs': 97, 'scheduler': 'StepLR', 'leakyrelu_slope': 0.010922998743112033, 'dropout_rate': 0.2677780049194333, 'step_size': 8, 'gamma': 0.2978668768055142}. Best is trial 17 with value: 1.059615451812744.\u001b[0m\n"
          ]
        },
        {
          "name": "stdout",
          "output_type": "stream",
          "text": [
            "Epoch 97/97.. Train loss: 2.436.. Val loss: 2.415.. Train L1 norm: 2.882.. Val L1 norm: 1.852.. Train Linf norm: 224.431.. Val Linf norm: 100.592\n",
            "Epoch 1/150.. Train loss: 2.532.. Val loss: 2.526.. Train L1 norm: 1.437.. Val L1 norm: 1.065.. Train Linf norm: 371.489.. Val Linf norm: 63.250\n",
            "Epoch 2/150.. Train loss: 2.582.. Val loss: 2.525.. Train L1 norm: 1.467.. Val L1 norm: 1.068.. Train Linf norm: 383.741.. Val Linf norm: 66.209\n",
            "Epoch 3/150.. Train loss: 2.561.. Val loss: 2.524.. Train L1 norm: 1.321.. Val L1 norm: 1.070.. Train Linf norm: 245.686.. Val Linf norm: 68.094\n",
            "Epoch 4/150.. Train loss: 2.541.. Val loss: 2.523.. Train L1 norm: 1.434.. Val L1 norm: 1.072.. Train Linf norm: 358.344.. Val Linf norm: 69.243\n",
            "Epoch 5/150.. Train loss: 2.501.. Val loss: 2.523.. Train L1 norm: 1.740.. Val L1 norm: 1.073.. Train Linf norm: 676.436.. Val Linf norm: 70.248\n",
            "Epoch 6/150.. Train loss: 2.518.. Val loss: 2.523.. Train L1 norm: 1.349.. Val L1 norm: 1.074.. Train Linf norm: 266.692.. Val Linf norm: 71.384\n",
            "Epoch 7/150.. Train loss: 2.534.. Val loss: 2.522.. Train L1 norm: 1.760.. Val L1 norm: 1.075.. Train Linf norm: 653.046.. Val Linf norm: 71.982\n",
            "Epoch 8/150.. Train loss: 2.521.. Val loss: 2.522.. Train L1 norm: 1.804.. Val L1 norm: 1.075.. Train Linf norm: 725.409.. Val Linf norm: 72.100\n",
            "Epoch 9/150.. Train loss: 2.520.. Val loss: 2.522.. Train L1 norm: 1.544.. Val L1 norm: 1.075.. Train Linf norm: 468.258.. Val Linf norm: 72.240\n",
            "Epoch 10/150.. Train loss: 2.522.. Val loss: 2.522.. Train L1 norm: 1.865.. Val L1 norm: 1.075.. Train Linf norm: 797.531.. Val Linf norm: 72.332\n",
            "Epoch 11/150.. Train loss: 2.594.. Val loss: 2.522.. Train L1 norm: 1.945.. Val L1 norm: 1.075.. Train Linf norm: 880.784.. Val Linf norm: 72.424\n",
            "Epoch 12/150.. Train loss: 2.532.. Val loss: 2.522.. Train L1 norm: 1.386.. Val L1 norm: 1.075.. Train Linf norm: 288.377.. Val Linf norm: 72.538\n",
            "Epoch 13/150.. Train loss: 2.543.. Val loss: 2.522.. Train L1 norm: 1.397.. Val L1 norm: 1.075.. Train Linf norm: 315.148.. Val Linf norm: 72.617\n",
            "Epoch 14/150.. Train loss: 2.508.. Val loss: 2.522.. Train L1 norm: 1.414.. Val L1 norm: 1.076.. Train Linf norm: 342.705.. Val Linf norm: 72.706\n",
            "Epoch 15/150.. Train loss: 2.534.. Val loss: 2.522.. Train L1 norm: 1.686.. Val L1 norm: 1.076.. Train Linf norm: 615.377.. Val Linf norm: 72.717\n",
            "Epoch 16/150.. Train loss: 2.523.. Val loss: 2.522.. Train L1 norm: 2.117.. Val L1 norm: 1.076.. Train Linf norm: 1057.598.. Val Linf norm: 72.730\n",
            "Epoch 17/150.. Train loss: 2.544.. Val loss: 2.522.. Train L1 norm: 1.797.. Val L1 norm: 1.076.. Train Linf norm: 728.351.. Val Linf norm: 72.734\n",
            "Epoch 18/150.. Train loss: 2.532.. Val loss: 2.522.. Train L1 norm: 2.112.. Val L1 norm: 1.076.. Train Linf norm: 1048.173.. Val Linf norm: 72.738\n",
            "Epoch 19/150.. Train loss: 2.554.. Val loss: 2.522.. Train L1 norm: 1.934.. Val L1 norm: 1.076.. Train Linf norm: 849.139.. Val Linf norm: 72.747\n",
            "Epoch 20/150.. Train loss: 2.503.. Val loss: 2.522.. Train L1 norm: 1.318.. Val L1 norm: 1.076.. Train Linf norm: 228.732.. Val Linf norm: 72.751\n",
            "Epoch 21/150.. Train loss: 2.514.. Val loss: 2.522.. Train L1 norm: 1.680.. Val L1 norm: 1.076.. Train Linf norm: 604.196.. Val Linf norm: 72.753\n",
            "Epoch 22/150.. Train loss: 2.506.. Val loss: 2.522.. Train L1 norm: 1.985.. Val L1 norm: 1.076.. Train Linf norm: 919.608.. Val Linf norm: 72.754\n",
            "Epoch 23/150.. Train loss: 2.528.. Val loss: 2.522.. Train L1 norm: 1.820.. Val L1 norm: 1.076.. Train Linf norm: 750.233.. Val Linf norm: 72.753\n"
          ]
        }
      ],
      "source": [
        "if OPTIMIZE:\n",
        "    # Creating a study object with Optuna with TPE sampler and median pruner \n",
        "    study = optuna.create_study(direction=\"minimize\", sampler=optuna.samplers.TPESampler(), pruner=optuna.pruners.MedianPruner())\n",
        "\n",
        "    # Running Optuna with 100 trials when we are optimizing.\n",
        "    study.optimize(objective, n_trials=N_TRIALS)\n",
        "\n",
        "    # Printing the best trial information\n",
        "    print(\"Best trial:\")\n",
        "    trial = study.best_trial\n",
        "    print(\"  Value: \", trial.value)\n",
        "    print(\"  Params: \")\n",
        "    for key, value in trial.params.items():\n",
        "        print(f\"    {key}: {value}\")\n"
      ]
    },
    {
      "cell_type": "markdown",
      "metadata": {
        "id": "RVl1j4fMsq0K"
      },
      "source": []
    },
    {
      "cell_type": "markdown",
      "metadata": {
        "id": "Y_KmYluJtxGv"
      },
      "source": []
    },
    {
      "cell_type": "markdown",
      "metadata": {
        "id": "jmMfE9_dUZiS"
      },
      "source": [
        "## Training the model"
      ]
    },
    {
      "cell_type": "code",
      "execution_count": null,
      "metadata": {
        "id": "phyiHlWEUZiT"
      },
      "outputs": [],
      "source": [
        "# Creating the best network and optimizer using the best hyperparameters\n",
        "if OPTIMIZE:\n",
        "    net, \\\n",
        "    loss_fn, \\\n",
        "    optimizer, \\\n",
        "    batch_size, \\\n",
        "    n_epochs, \\\n",
        "    scheduler, \\\n",
        "    loss_name, \\\n",
        "    optimizer_name, \\\n",
        "    scheduler_name, \\\n",
        "    n_units, \\\n",
        "    n_layers, \\\n",
        "    hidden_activation, \\\n",
        "    output_activation, \\\n",
        "    lr, \\\n",
        "    dropout_rate = create_model(trial, optimize=True)\n",
        "\n",
        "# Creating the network with predefined hyperparameters\n",
        "else:\n",
        "    net, \\\n",
        "    loss_fn, \\\n",
        "    optimizer, \\\n",
        "    batch_size, \\\n",
        "    n_epochs, \\\n",
        "    scheduler, \\\n",
        "    loss_name, \\\n",
        "    optimizer_name, \\\n",
        "    scheduler_name, \\\n",
        "    n_units, \\\n",
        "    n_layers, \\\n",
        "    hidden_activation, \\\n",
        "    output_activation, \\\n",
        "    lr, \\\n",
        "    dropout_rate = create_model(trial=None, optimize=True)"
      ]
    },
    {
      "cell_type": "code",
      "execution_count": null,
      "metadata": {
        "id": "_yq-oY81UZiU"
      },
      "outputs": [],
      "source": [
        "print(\"loss_fn:\", net)\n",
        "print(\"loss_fn:\", loss_fn)\n",
        "print(\"batch_size:\", batch_size)\n",
        "print(\"n_epochs:\", n_epochs)\n",
        "print(\"scheduler:\", scheduler)\n",
        "print(\"loss_name:\", loss_name)\n",
        "print(\"optimizer_name:\", optimizer_name)\n",
        "print(\"scheduler_name:\", scheduler_name)\n",
        "print(\"n_units:\", n_units)\n",
        "print(\"n_layers:\", n_layers)\n",
        "print(\"hidden_activation:\", hidden_activation)\n",
        "print(\"output_activation:\", output_activation)\n",
        "print(\"lr\", lr)\n",
        "print(\"dropout_rate\", dropout_rate)"
      ]
    },
    {
      "cell_type": "markdown",
      "metadata": {
        "id": "E7aLWdZyUZiW",
        "outputId": "8fb1e8c6-5aa3-43a1-a255-712cf9396d0c"
      },
      "source": [
        "After optimizing with Optuna and deciding on the best hyperparameters, we combine the training and validatin set, using that as the new training set for training the model, and then evaluate the model on the test set"
      ]
    },
    {
      "cell_type": "code",
      "execution_count": null,
      "metadata": {
        "id": "wTPX6lHCyUfc"
      },
      "outputs": [],
      "source": [
        "x_train_val = torch.cat((x_train, x_val), 0)\n",
        "y_train_val = torch.cat((y_train, y_val), 0)\n",
        "\n",
        "train_val_loader = torch.utils.data.DataLoader(\n",
        "    torch.utils.data.TensorDataset(x_train_val, y_train_val), batch_size=batch_size, shuffle=True\n",
        ")\n",
        "test_loader = torch.utils.data.DataLoader(\n",
        "    torch.utils.data.TensorDataset(x_test, y_test), batch_size=batch_size\n",
        ")\n",
        "\n",
        "train_losses, _, test_losses, train_metrics, _, test_metrics, = train_and_eval(\n",
        "    net, loss_fn, optimizer, batch_size, n_epochs, scheduler, train_val_loader, None, test_loader, None\n",
        ")"
      ]
    },
    {
      "cell_type": "markdown",
      "metadata": {
        "id": "akNucrgMUZiW"
      },
      "source": [
        "## Saving"
      ]
    },
    {
      "cell_type": "code",
      "execution_count": null,
      "metadata": {
        "id": "LHsrs2Y-UZic"
      },
      "outputs": [],
      "source": [
        "# create a dictionary to store the rest of the variables\n",
        "import json\n",
        "\n",
        "# save the network to a .pth file\n",
        "torch.save(net.state_dict(), \"net.pth\")\n",
        "save_file(\"net.pth\")\n",
        "\n",
        "# save the optimizer to a .pth file\n",
        "torch.save(optimizer.state_dict(), \"optimizer.pth\")\n",
        "save_file(\"optimizer.pth\")\n",
        "\n",
        "# save the scheduler to a .pth file if it is not None\n",
        "if scheduler is not None:\n",
        "  torch.save(scheduler.state_dict(), \"scheduler.pth\")\n",
        "  save_file(\"scheduler.pth\")\n",
        "\n",
        "# create a dictionary to store the rest of the variables\n",
        "if isinstance(hidden_activation.__class__.__name__, list):\n",
        "    hidden_activation_name = hidden_activation.__class__.__name__[0]\n",
        "else:\n",
        "    hidden_activation_name = hidden_activation.__class__.__name__\n",
        "\n",
        "if isinstance(output_activation.__class__.__name__, list):\n",
        "    output_activation_name = output_activation.__class__.__name__[0]\n",
        "else:\n",
        "    output_activation_name = output_activation.__class__.__name__\n",
        "\n",
        "var_dict = {\n",
        "  \"batch_size\": batch_size,\n",
        "  \"n_epochs\": n_epochs,\n",
        "  \"loss_name\": loss_name,\n",
        "  \"optimizer_name\": optimizer_name,\n",
        "  \"scheduler_name\": scheduler_name,\n",
        "  \"n_units\": n_units,\n",
        "  \"n_layers\": n_layers,\n",
        "  \"hidden_activation_name\": hidden_activation_name,\n",
        "  \"output_activation_name\": output_activation_name,\n",
        "  \"lr\": lr,\n",
        "  \"dropout_rate\": dropout_rate\n",
        "}\n",
        "\n",
        "# Adding the subparameters to the var_dict for saving\n",
        "if hidden_activation_name == \"LeakyReLU\":\n",
        "  var_dict[\"leakyrelu_slope\"] = hidden_activation.negative_slope\n",
        "elif hidden_activation_name == \"PReLU\":\n",
        "  var_dict[\"prelu_init\"] = hidden_activation.weight.item()  # .item() is needed because weight is a tensor\n",
        "elif hidden_activation_name == \"SoftPlus\":\n",
        "  var_dict[\"softplus_beta\"] = hidden_activation.beta\n",
        "\n",
        "# save the dictionary to a .json file\n",
        "with open(\"var_dict.json\", \"w\") as f:\n",
        "  json.dump(var_dict, f)\n",
        "save_file(\"var_dict.json\")\n",
        "\n",
        "# Saving the output of the training using pandas\n",
        "train_df = pd.DataFrame(\n",
        "    {\n",
        "        \"train_loss\": train_losses,\n",
        "        \"test_loss\": test_losses,\n",
        "        \"train_l1_norm\": [m[\"l1_norm\"] for m in train_metrics],\n",
        "        \"test_l1_norm\": [m[\"l1_norm\"] for m in test_metrics],\n",
        "        \"train_linf_norm\": [m[\"linf_norm\"] for m in train_metrics],\n",
        "        \"test_linf_norm\": [m[\"linf_norm\"] for m in test_metrics],\n",
        "    }\n",
        ")\n",
        "train_df.to_csv(\"train_output.csv\", index=False)\n",
        "save_file(\"train_output.csv\")"
      ]
    },
    {
      "cell_type": "code",
      "execution_count": null,
      "metadata": {
        "id": "DYdsif-7yUfe"
      },
      "outputs": [],
      "source": [
        "[key for key in var_dict.keys()]"
      ]
    },
    {
      "cell_type": "code",
      "execution_count": null,
      "metadata": {
        "id": "-a2djZAjyUfe"
      },
      "outputs": [],
      "source": [
        "#%%script echo skipping\n",
        "\n",
        "hidden_activation_name\n",
        "output_activation_name"
      ]
    },
    {
      "cell_type": "markdown",
      "metadata": {
        "id": "qU23l7dIUZie"
      },
      "source": [
        "## Visualizing the results"
      ]
    },
    {
      "cell_type": "code",
      "execution_count": null,
      "metadata": {
        "id": "cippWZS6UZie"
      },
      "outputs": [],
      "source": [
        "# Plotting the losses and metrics for the best network \n",
        "plt.figure(figsize=(12, 8))\n",
        "#plt.subplot(2, 2, 1)\n",
        "#plt.plot(train_losses, label=\"Train Loss\")\n",
        "#plt.plot(test_losses, label=\"Test Loss\")\n",
        "#plt.xlabel(\"Epoch\")\n",
        "#plt.ylabel(\"Loss\")\n",
        "#plt.legend()\n",
        "plt.subplot(2, 2, 2)\n",
        "plt.plot([m[\"l1_norm\"] for m in train_metrics], label=\"Train L1 Norm\")\n",
        "plt.plot([m[\"l1_norm\"] for m in test_metrics], label=\"Test L1 Norm\")\n",
        "plt.xlabel(\"Epoch\")\n",
        "plt.ylabel(\"L1 Norm\")\n",
        "# Added setting the vertical axis to be in powers of 10\n",
        "plt.yscale(\"log\")\n",
        "# Added setting the vertical axis limits to be from 10^-7 to 10^0\n",
        "plt.ylim(1e-3, 1e2)\n",
        "plt.legend()\n",
        "plt.subplot(2, 2, 3)\n",
        "plt.plot([m[\"linf_norm\"] for m in train_metrics], label=\"Train Linf Norm\")\n",
        "plt.plot([m[\"linf_norm\"] for m in test_metrics], label=\"Test Linf Norm\")\n",
        "plt.xlabel(\"Epoch\")\n",
        "plt.ylabel(\"Linf Norm\")\n",
        "# Added setting the vertical axis to be in powers of 10\n",
        "plt.yscale(\"log\")\n",
        "# Added setting the vertical axis limits to be from 10^-7 to 10^0\n",
        "plt.ylim(1e-3, 1e2)\n",
        "plt.legend()\n",
        "plt.tight_layout()\n",
        "plt.show()\n",
        "\n",
        "# Added plotting MSE of training data and MSE of test data in one plot \n",
        "plt.figure(figsize=(8, 6))\n",
        "plt.plot(train_losses,label=\"training data\")\n",
        "plt.plot(test_losses,label=\"test data\")\n",
        "#if scheduler is not None:\n",
        "#    plt.plot([scheduler.get_last_lr()[0] for _ in range(n_epochs)], label=\"Learning rate\") \n",
        "plt.xlabel(\"Epoch\")\n",
        "plt.ylabel(f\"{loss_name} Loss\")\n",
        "# Added setting the vertical axis to be in powers of 10\n",
        "plt.yscale(\"log\")\n",
        "# Added setting the vertical axis limits to be from 10^-7 to 10^0\n",
        "plt.ylim(1e-7, 1e0)\n",
        "plt.legend()\n",
        "plt.show()"
      ]
    },
    {
      "cell_type": "markdown",
      "metadata": {
        "id": "tiEDutxIUZig"
      },
      "source": [
        "## Loading"
      ]
    },
    {
      "cell_type": "code",
      "execution_count": null,
      "metadata": {
        "id": "p7Mj990wUZih"
      },
      "outputs": [],
      "source": [
        "import json\n",
        "import pandas as pd\n",
        "\n",
        "# load the dictionary from the .json file\n",
        "with open(\"var_dict.json\", \"r\") as f:\n",
        "  var_dict_loaded = json.load(f)\n",
        "\n",
        "# extract the variables from the dictionary\n",
        "batch_size_loaded = var_dict_loaded[\"batch_size\"]\n",
        "n_epochs_loaded = var_dict_loaded[\"n_epochs\"]\n",
        "loss_name_loaded = var_dict_loaded[\"loss_name\"]\n",
        "optimizer_name_loaded = var_dict_loaded[\"optimizer_name\"]\n",
        "scheduler_name_loaded = var_dict_loaded[\"scheduler_name\"]\n",
        "n_units_loaded = var_dict_loaded[\"n_units\"]\n",
        "n_layers_loaded = var_dict_loaded[\"n_layers\"]\n",
        "hidden_activation_name_loaded = var_dict_loaded[\"hidden_activation_name\"]\n",
        "output_activation_name_loaded = var_dict_loaded[\"output_activation_name\"]\n",
        "lr_loaded = var_dict_loaded[\"lr\"]\n",
        "dropout_rate_loaded = var_dict_loaded[\"dropout_rate\"]\n",
        "\n",
        "# Loading the activation functions with subparameters\n",
        "if hidden_activation_name_loaded == \"ReLU\":\n",
        "  hidden_activation_loaded = nn.ReLU()\n",
        "elif hidden_activation_name_loaded == \"LeakyReLU\":\n",
        "  negative_slope_loaded = var_dict_loaded.get(\"leakyrelu_slope\", 0.01)  # For backwards compatibiltiy with earlier models; default to 0.01 if not present\n",
        "  hidden_activation_loaded = nn.LeakyReLU(negative_slope=negative_slope_loaded)\n",
        "elif hidden_activation_name_loaded == \"ELU\":\n",
        "  hidden_activation_loaded = nn.ELU()\n",
        "elif hidden_activation_name_loaded == \"PReLU\":\n",
        "  init_loaded = var_dict_loaded.get(\"prelu_init\", 0.25)  # Default to 0.25 if not present\n",
        "  hidden_activation_loaded = nn.PReLU(init=init_loaded)\n",
        "elif hidden_activation_name_loaded == \"Swish\":\n",
        "    class Swish(nn.Module):\n",
        "        def forward(self, x):\n",
        "            return x * torch.sigmoid(x)\n",
        "    hidden_activation_loaded = Swish()\n",
        "elif hidden_activation_name_loaded == \"GELU\":\n",
        "    hidden_activation_loaded = nn.GELU()\n",
        "elif hidden_activation_name_loaded == \"SoftPlus\":\n",
        "  beta_loaded = var_dict_loaded.get(\"softplus_beta\", 1)  # Default to 1 if not present\n",
        "  hidden_activation_loaded = nn.Softplus(beta=beta_loaded)\n",
        "\n",
        "\n",
        "\n",
        "# We used to have options here, but since we have a regression problem with continuous output, we only use Linear.\n",
        "output_activation_loaded = nn.Identity()\n",
        "\n",
        "# load the network from the .pth file\n",
        "net_loaded = Net(\n",
        "    n_layers_loaded, \n",
        "    n_units_loaded, \n",
        "    hidden_activation_loaded, \n",
        "    output_activation_loaded, \n",
        "    dropout_rate_loaded\n",
        ").to(device)\n",
        "\n",
        "if torch.cuda.is_available():\n",
        " net_loaded.load_state_dict(torch.load(\"net.pth\"))\n",
        "else: \n",
        "  net_loaded.load_state_dict(torch.load(\"net.pth\", map_location=torch.device('cpu')))\n",
        "\n",
        "\n",
        "# Creating the loss function from its name\n",
        "if loss_name_loaded == \"MSE\":\n",
        "    loss_fn_loaded = nn.MSELoss()\n",
        "elif loss_name_loaded == \"MAE\":\n",
        "    loss_fn_loaded = nn.L1Loss()\n",
        "elif loss_name_loaded == \"Huber\":\n",
        "    loss_fn_loaded = nn.SmoothL1Loss() \n",
        "elif loss_name_loaded == \"Quantile\":\n",
        "    def quantile_loss(y_pred, y_true, q=0.5):\n",
        "        e = y_pred - y_true\n",
        "        return torch.mean(torch.max(q*e, (q-1)*e))\n",
        "    loss_fn_loaded = quantile_loss\n",
        "\n",
        "# load the optimizer from the .pth file\n",
        "if torch.cuda.is_available():\n",
        "  optimizer_loaded_state_dict = torch.load(\"optimizer.pth\")\n",
        "else:\n",
        "  optimizer_loaded_state_dict = torch.load(\"optimizer.pth\", map_location=torch.device('cpu'))\n",
        "\n",
        "if optimizer_name_loaded == \"SGD\":\n",
        "  # Added getting the weight decay and momentum parameters from the state dict\n",
        "  weight_decay_loaded = optimizer_loaded_state_dict[\"param_groups\"][0][\"weight_decay\"]\n",
        "  momentum_loaded = optimizer_loaded_state_dict[\"param_groups\"][0][\"momentum\"]\n",
        "  optimizer_loaded = optim.SGD(net_loaded.parameters(), lr=lr_loaded, weight_decay=weight_decay_loaded, momentum=momentum_loaded)\n",
        "elif optimizer_name_loaded == \"Adam\":\n",
        "  # Added getting the weight decay and beta parameters from the state dict\n",
        "  weight_decay_loaded = optimizer_loaded_state_dict[\"param_groups\"][0][\"weight_decay\"]\n",
        "  beta1_loaded = optimizer_loaded_state_dict[\"param_groups\"][0][\"betas\"][0]\n",
        "  beta2_loaded = optimizer_loaded_state_dict[\"param_groups\"][0][\"betas\"][1]\n",
        "  optimizer_loaded = optim.Adam(net_loaded.parameters(), lr=lr_loaded, weight_decay=weight_decay_loaded, betas=(beta1_loaded, beta2_loaded))\n",
        "elif optimizer_name_loaded == \"RMSprop\":\n",
        "  optimizer_loaded = optim.RMSprop(net_loaded.parameters(), lr=lr_loaded)\n",
        "elif optimizer_name_loaded == \"Adagrad\":\n",
        "  # Added loading the Adagrad optimizer\n",
        "  optimizer_loaded = optim.Adagrad(net_loaded.parameters(), lr=lr_loaded)\n",
        "optimizer_loaded.load_state_dict(optimizer_loaded_state_dict)\n",
        "\n",
        "# load the scheduler from the .pth file\n",
        "if torch.cuda.is_available():\n",
        "  scheduler_loaded_state_dict = torch.load(\"scheduler.pth\")\n",
        "else: \n",
        "  scheduler_loaded_state_dict = torch.load(\"scheduler.pth\", map_location=torch.device('cpu'))\n",
        "\n",
        "if scheduler_name_loaded == \"StepLR\":\n",
        "  # Added getting the step_size and gamma parameters from the state dict\n",
        "  step_size_loaded = scheduler_loaded_state_dict[\"step_size\"]\n",
        "  gamma_loaded = scheduler_loaded_state_dict[\"gamma\"]\n",
        "  scheduler_loaded = optim.lr_scheduler.StepLR(optimizer_loaded, step_size=step_size_loaded, gamma=gamma_loaded)\n",
        "elif scheduler_name_loaded == \"ExponentialLR\":\n",
        "  # Added getting the gamma parameter from the state dict\n",
        "  gamma_loaded = scheduler_loaded_state_dict[\"gamma\"]\n",
        "  scheduler_loaded = optim.lr_scheduler.ExponentialLR(optimizer_loaded, gamma=gamma_loaded)\n",
        "elif scheduler_name_loaded == \"CosineAnnealingLR\":\n",
        "  # Added getting the T_max parameter from the state dict\n",
        "  T_max_loaded = scheduler_loaded_state_dict[\"T_max\"]\n",
        "  scheduler_loaded = optim.lr_scheduler.CosineAnnealingLR(optimizer_loaded, T_max=T_max_loaded)\n",
        "elif scheduler_name_loaded == \"ReduceLROnPlateau\":\n",
        "  # Added getting the mode, factor, patience, threshold and min_lr parameters from the state dict\n",
        "  mode_loaded = scheduler_loaded_state_dict[\"mode\"]\n",
        "  factor_loaded = scheduler_loaded_state_dict[\"factor\"]\n",
        "  patience_loaded = scheduler_loaded_state_dict[\"patience\"]\n",
        "  threshold_loaded = scheduler_loaded_state_dict[\"threshold\"]\n",
        "  min_lr_loaded = scheduler_loaded_state_dict[\"min_lrs\"][0]\n",
        "  scheduler_loaded = optim.lr_scheduler.ReduceLROnPlateau(\n",
        "                    optimizer_loaded, mode=mode_loaded, factor=factor_loaded, patience=patience_loaded, threshold=threshold_loaded, min_lr=min_lr_loaded\n",
        "                )\n",
        "elif scheduler_name_loaded == \"CyclicLR\":  # Added CyclicLR\n",
        "    base_lr_loaded = scheduler_loaded_state_dict[\"base_lr\"]\n",
        "    max_lr_loaded = scheduler_loaded_state_dict[\"max_lr\"]\n",
        "    step_size_up_loaded = scheduler_loaded_state_dict[\"step_size_up\"]\n",
        "    scheduler_loaded = optim.lr_scheduler.CyclicLR(\n",
        "                    optimizer, base_lr=base_lr_loaded, max_lr=max_lr_loaded, step_size_up=step_size_up_loaded\n",
        "                )\n",
        "else:\n",
        "  scheduler_loaded = None\n",
        "\n",
        "if scheduler_loaded is not None:\n",
        "  # Added loading the state dict to the scheduler_loaded\n",
        "  scheduler_loaded.load_state_dict(scheduler_loaded_state_dict)\n",
        "\n",
        "# Loading the output of the training using pandas\n",
        "train_df_loaded = pd.read_csv(\"train_output.csv\")\n",
        "train_losses_loaded = train_df_loaded[\"train_loss\"].tolist()\n",
        "test_losses_loaded = train_df_loaded[\"test_loss\"].tolist()\n",
        "train_metrics_loaded = [\n",
        "    {\n",
        "        \"l1_norm\": train_df_loaded[\"train_l1_norm\"][i],\n",
        "        \"linf_norm\": train_df_loaded[\"train_linf_norm\"][i],\n",
        "    }\n",
        "    for i in range(len(train_df_loaded))\n",
        "]\n",
        "test_metrics_loaded = [\n",
        "    {\n",
        "        \"l1_norm\": train_df_loaded[\"test_l1_norm\"][i],\n",
        "        \"linf_norm\": train_df_loaded[\"test_linf_norm\"][i],\n",
        "    }\n",
        "    for i in range(len(train_df_loaded))\n",
        "]"
      ]
    },
    {
      "cell_type": "code",
      "execution_count": null,
      "metadata": {
        "id": "MlZ11zTlyUfg"
      },
      "outputs": [],
      "source": [
        "# %%script echo skipping\n",
        "\n",
        "var_dict_loaded[\"batch_size\"]\n",
        "var_dict_loaded[\"n_epochs\"]\n",
        "var_dict_loaded[\"loss_name\"]\n",
        "var_dict_loaded[\"optimizer_name\"]\n",
        "var_dict_loaded[\"scheduler_name\"]\n",
        "var_dict_loaded[\"n_units\"]\n",
        "var_dict_loaded[\"n_layers\"]\n",
        "var_dict_loaded[\"hidden_activation_name\"]\n",
        "var_dict_loaded[\"output_activation_name\"]\n",
        "var_dict_loaded[\"lr\"]\n",
        "var_dict_loaded[\"dropout_rate\"]"
      ]
    },
    {
      "cell_type": "code",
      "execution_count": null,
      "metadata": {
        "id": "jissHfjkyUfg"
      },
      "outputs": [],
      "source": [
        "%%script echo skipping\n",
        "\n",
        "scheduler_loaded_state_dict[\"mode\"]\n",
        "scheduler_loaded_state_dict[\"factor\"]\n",
        "scheduler_loaded_state_dict[\"patience\"]\n",
        "scheduler_loaded_state_dict[\"threshold\"]\n",
        "scheduler_loaded_state_dict[\"min_lrs\"]\n",
        "\n",
        "\n",
        "scheduler_loaded_state_dict[\"base_lr\"]\n",
        "scheduler_loaded_state_dict[\"max_lr\"]\n",
        "scheduler_loaded_state_dict[\"step_size_up\"]"
      ]
    },
    {
      "cell_type": "code",
      "execution_count": null,
      "metadata": {
        "id": "9QTzUSU6yUfh"
      },
      "outputs": [],
      "source": [
        "# %%script echo skipping\n",
        "\n",
        "var_dict\n",
        "hidden_activation_name_loaded"
      ]
    },
    {
      "cell_type": "code",
      "execution_count": null,
      "metadata": {
        "id": "GQ_fcj7zUZii"
      },
      "outputs": [],
      "source": [
        "# %%script echo skipping\n",
        "\n",
        "if hidden_activation_name_loaded == \"LeakyReLU\":\n",
        "  var_dict_loaded[\"leakyrelu_slope\"]\n",
        "if hidden_activation_name_loaded == \"PReLU\":\n",
        "  var_dict_loaded[\"prelu_init\"]\n",
        "elif hidden_activation_name_loaded == \"SoftPlus\":\n",
        "  var_dict_loaded[\"softplus_beta\"]\n",
        "\n",
        "batch_size_loaded\n",
        "n_epochs_loaded\n",
        "loss_name_loaded\n",
        "optimizer_name_loaded\n",
        "scheduler_name_loaded\n",
        "n_units_loaded\n",
        "n_layers_loaded\n",
        "hidden_activation_name_loaded\n",
        "output_activation_name_loaded\n",
        "lr_loaded\n",
        "dropout_rate_loaded\n",
        "hidden_activation_loaded\n",
        "output_activation_loaded\n",
        "net_loaded\n",
        "net_loaded.__dict__ # print the subparameters of the network\n",
        "loss_fn_loaded\n",
        "optimizer_loaded\n",
        "optimizer_loaded.__dict__ # print the subparameters of the optimizer\n",
        "if scheduler_loaded is not None:\n",
        "  scheduler_loaded\n",
        "  scheduler_loaded.__dict__ # print the subparameters of the scheduler\n",
        "train_losses_loaded\n",
        "test_losses_loaded\n",
        "train_metrics_loaded\n",
        "test_metrics_loaded\n"
      ]
    },
    {
      "cell_type": "code",
      "execution_count": null,
      "metadata": {
        "id": "xTLhVihYyUfh"
      },
      "outputs": [],
      "source": [
        "train_losses_loaded[-1]\n",
        "test_losses_loaded[-1]\n",
        "test_metrics_loaded[-1]['l1_norm']\n",
        "test_metrics_loaded[-1]['linf_norm']\n",
        "# print(f'Error is {test_metrics_loaded[-1][\"l1_norm\"] / (3.84e-4)} times bigger than in Dieselhorst et al.')\n",
        "# print(f'Error is {test_metrics_loaded[-1][\"linf_norm\"] / (8.14e-3)} times bigger than in Dieselhorst et al.')"
      ]
    },
    {
      "cell_type": "markdown",
      "metadata": {
        "id": "QTRl12RVra2L"
      },
      "source": []
    },
    {
      "cell_type": "markdown",
      "metadata": {
        "id": "8ICitDHLyUfh"
      },
      "source": [
        "### Visualize loaded results"
      ]
    },
    {
      "cell_type": "markdown",
      "metadata": {
        "id": "vwLGR1aSUZik"
      },
      "source": [
        "Let us verify correct loading of the train and test metrics by visualizing them again but now through the loaded values. Likewise for the train and test losses."
      ]
    },
    {
      "cell_type": "code",
      "execution_count": null,
      "metadata": {
        "id": "sXiNgLsmUZil"
      },
      "outputs": [],
      "source": [
        "%config InteractiveShell.ast_node_interactivity = \"last_expr_or_assign\""
      ]
    },
    {
      "cell_type": "code",
      "execution_count": null,
      "metadata": {
        "id": "sgq4WfSiUZil"
      },
      "outputs": [],
      "source": [
        "# Plotting the losses and metrics for the best network plt.figure(figsize=(12, \n",
        "#plt.subplot(2, 2, 1)\n",
        "#plt.plot(train_losses_loaded, label=\"Train Loss\")\n",
        "#plt.plot(test_losses_loaded, label=\"Test Loss\")\n",
        "#plt.xlabel(\"Epoch\")\n",
        "#plt.ylabel(\"Loss\")\n",
        "#plt.legend()\n",
        "plt.subplot(2, 2, 2)\n",
        "plt.plot([m[\"l1_norm\"] for m in train_metrics_loaded], label=\"Train L1 Norm\")\n",
        "plt.plot([m[\"l1_norm\"] for m in test_metrics_loaded], label=\"Test L1 Norm\")\n",
        "plt.xlabel(\"Epoch\")\n",
        "plt.ylabel(\"L1 Norm\")\n",
        "# Added setting the vertical axis to be in powers of 10\n",
        "plt.yscale(\"log\")\n",
        "# Added setting the vertical axis limits to be from 10^-7 to 10^0\n",
        "plt.ylim(1e-3, 1e2)\n",
        "plt.legend()\n",
        "plt.subplot(2, 2, 3)\n",
        "plt.plot([m[\"linf_norm\"] for m in train_metrics_loaded], label=\"Train Linf Norm\")\n",
        "plt.plot([m[\"linf_norm\"] for m in test_metrics_loaded], label=\"Test Linf Norm\")\n",
        "plt.xlabel(\"Epoch\")\n",
        "plt.ylabel(\"Linf Norm\")\n",
        "# Added setting the vertical axis to be in powers of 10\n",
        "plt.yscale(\"log\")\n",
        "# Added setting the vertical axis limits to be from 10^-7 to 10^0\n",
        "plt.ylim(1e-3, 1e2)\n",
        "plt.legend()\n",
        "plt.tight_layout()\n",
        "plt.show()\n",
        "\n",
        "# Added plotting MSE of training data and MSE of test data in one plot \n",
        "plt.figure(figsize=(8, 6))\n",
        "plt.plot(train_losses_loaded,label=\"training data\")\n",
        "plt.plot(test_losses_loaded,label=\"test data\")\n",
        "#if scheduler is not None:\n",
        "#    plt.plot([scheduler.get_last_lr()[0] for _ in range(n_epochs)], label=\"Learning rate\") \n",
        "plt.xlabel(\"Epoch\")\n",
        "plt.ylabel(f\"{loss_name_loaded} Loss\")\n",
        "# Added setting the vertical axis to be in powers of 10\n",
        "plt.yscale(\"log\")\n",
        "# Added setting the vertical axis limits to be from 10^-7 to 10^0\n",
        "plt.ylim(1e-7, 1e0)\n",
        "plt.legend()\n",
        "plt.show()\n"
      ]
    },
    {
      "cell_type": "code",
      "execution_count": null,
      "metadata": {
        "id": "lkgLqJ_UUZim"
      },
      "outputs": [],
      "source": [
        "%config InteractiveShell.ast_node_interactivity = \"all\""
      ]
    },
    {
      "cell_type": "markdown",
      "metadata": {
        "id": "CwOy5TMuyUfi"
      },
      "source": [
        "## Counting the number of parameters in the network."
      ]
    },
    {
      "cell_type": "code",
      "execution_count": null,
      "metadata": {
        "id": "YaawajExyUfi"
      },
      "outputs": [],
      "source": [
        "net_loaded.eval()\n",
        "def count_parameters(model):\n",
        "    return sum(p.numel() for p in model.parameters() if p.requires_grad)\n",
        "print(f'The model has {count_parameters(net_loaded)} parameters.')"
      ]
    },
    {
      "cell_type": "markdown",
      "metadata": {
        "id": "SxuzVSnlUZin"
      },
      "source": [
        "## Evaluating the network on arbirary input\n",
        "### Comparing `net` and `net_loaded`\n",
        "\n",
        "We compare `net` and `net_loaded` to confirm correct loading of the network. Note that `net` is only available if we have trained the model in this session."
      ]
    },
    {
      "cell_type": "code",
      "execution_count": null,
      "metadata": {
        "id": "BTJjqz9DxBJf"
      },
      "outputs": [],
      "source": []
    },
    {
      "cell_type": "code",
      "execution_count": null,
      "metadata": {
        "id": "hQxEmL6SyUfj"
      },
      "outputs": [],
      "source": [
        "#%%script echo skipping\n",
        "\n",
        "# Set the network to evaluation mode\n",
        "net.eval()"
      ]
    },
    {
      "cell_type": "code",
      "execution_count": null,
      "metadata": {
        "id": "o_YG8acPyUfj"
      },
      "outputs": [],
      "source": [
        "# Set the network to evaluation mode\n",
        "net_loaded.eval"
      ]
    },
    {
      "cell_type": "code",
      "execution_count": null,
      "metadata": {
        "id": "sKhTNVrpyUfj"
      },
      "outputs": [],
      "source": [
        "for p1, p2 in zip(net.parameters(), net_loaded.parameters()):\n",
        "    if p1.data.ne(p2.data).sum() > 0:\n",
        "        print(\"Parameters are NOT the same.\")\n",
        "        break\n",
        "else:\n",
        "    print(\"Parameters are the same.\")\n",
        "\n",
        "print(\"Net device:\", next(net.parameters()).device)\n",
        "print(\"Net_loaded device:\", next(net_loaded.parameters()).device)"
      ]
    },
    {
      "cell_type": "code",
      "execution_count": null,
      "metadata": {
        "id": "C0PLAA0DUZin"
      },
      "outputs": [],
      "source": [
        "#%%script echo skipping\n",
        "\n",
        "print(list(net.parameters()))"
      ]
    },
    {
      "cell_type": "code",
      "execution_count": null,
      "metadata": {
        "id": "1NZ8iVA7UZio"
      },
      "outputs": [],
      "source": [
        "print(list(net_loaded.parameters()))"
      ]
    },
    {
      "cell_type": "code",
      "execution_count": null,
      "metadata": {
        "id": "InGW0Xq6UZip"
      },
      "outputs": [],
      "source": [
        "rho_example, epsilon_example, vx_example, vy_example, vz_example, Bx_example, By_example, Bz_example, gxx_example, gxy_example, gxz_example, gyy_example, gyz_example, gzz_example = generate_samples(20)\n",
        "\n",
        "inputs =  generate_input_data(rho_example, epsilon_example, vx_example, vy_example, vz_example, Bx_example, By_example, Bz_example, gxx_example, gxy_example, gxz_example, gyy_example, gyz_example, gzz_example)\n",
        "inputs\n"
      ]
    },
    {
      "cell_type": "code",
      "execution_count": null,
      "metadata": {
        "id": "QVa1upmFUZip"
      },
      "outputs": [],
      "source": [
        "#%%script echo skipping\n",
        "\n",
        "# Pass the inputs to the network and get the outputs\n",
        "outputs = [net(input.unsqueeze(0)) for input in inputs]\n",
        "# Print the outputs\n",
        "outputs"
      ]
    },
    {
      "cell_type": "code",
      "execution_count": null,
      "metadata": {
        "id": "E-Xjfo7VUZir"
      },
      "outputs": [],
      "source": [
        "\n",
        "# Pass the inputs to the network and get the outputs\n",
        "outputs = [net_loaded(input.unsqueeze(0)) for input in inputs]\n",
        "# Print the outputs\n",
        "outputs"
      ]
    },
    {
      "cell_type": "markdown",
      "metadata": {
        "id": "xjpIvdybUZis"
      },
      "source": [
        "## Porting the model to C++"
      ]
    },
    {
      "cell_type": "code",
      "execution_count": null,
      "metadata": {
        "id": "VMlEd4RoUZis"
      },
      "outputs": [],
      "source": [
        "import torch.jit\n",
        "\n",
        "# Creating a dummy input tensor of shape (1, 5) to trace the model\n",
        "dummy_input = torch.randn(1, N_INPUTS).to(device)\n",
        "\n",
        "# Ensure that net_loaded is in evaluation mode.\n",
        "net_loaded.eval()\n",
        "\n",
        "# Tracing the model using the torch.jit.trace function\n",
        "traced_model = torch.jit.trace(net_loaded, dummy_input)\n",
        "\n",
        "# Saving the traced model to a file named \"net.pt\"\n",
        "traced_model.save(\"net.pt\")\n",
        "save_file(\"net.pt\")\n",
        "\n",
        "example_input_to_validate_correct_export_and_import = generate_input_data(*generate_samples(1))\n",
        "print(\"input shape: \", example_input_to_validate_correct_export_and_import.shape)\n",
        "print(\"input: \", example_input_to_validate_correct_export_and_import)\n",
        "print(\"Output:\", net_loaded(example_input_to_validate_correct_export_and_import))"
      ]
    },
    {
      "cell_type": "code",
      "execution_count": null,
      "metadata": {
        "id": "x4BxmMpXvnIf"
      },
      "outputs": [],
      "source": []
    }
  ],
  "metadata": {
    "accelerator": "GPU",
    "colab": {
      "provenance": [],
      "toc_visible": true
    },
    "kernelspec": {
      "display_name": "Python 3",
      "name": "python3"
    },
    "language_info": {
      "codemirror_mode": {
        "name": "ipython",
        "version": 3
      },
      "file_extension": ".py",
      "mimetype": "text/x-python",
      "name": "python",
      "nbconvert_exporter": "python",
      "pygments_lexer": "ipython3",
      "version": "3.11.3"
    }
  },
  "nbformat": 4,
  "nbformat_minor": 0
}