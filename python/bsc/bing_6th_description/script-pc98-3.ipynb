{
 "cells": [
  {
   "cell_type": "code",
   "execution_count": 45,
   "metadata": {},
   "outputs": [
    {
     "data": {
      "text/plain": [
       "<torch._C.Generator at 0x25629c98750>"
      ]
     },
     "execution_count": 45,
     "metadata": {},
     "output_type": "execute_result"
    }
   ],
   "source": [
    "# Importing the necessary modules\n",
    "import torch # For creating tensors and neural network\n",
    "import torch.nn as nn # For creating layers and activation functions\n",
    "import torch.optim as optim # For creating optimizer\n",
    "import numpy as np # For creating arrays and sampling data\n",
    "import matplotlib.pyplot as plt # For plotting results\n",
    "\n",
    "# Setting the random seed for reproducibility\n",
    "torch.manual_seed(0)\n",
    "np.random.seed(0)\n",
    "\n",
    "# Checking if GPU is available and setting the device accordingly\n",
    "device = torch.device(\"cuda:0\" if torch.cuda.is_available() else \"cpu\")\n",
    "\n",
    "# Defining the constants for the neural network\n",
    "#NUM_EPOCHS = 400 # Number of epochs for training\n",
    "NUM_EPOCHS = 200 # Number of epochs for training\n",
    "NUM_INPUTS = 3 # Number of inputs: D, S_x, tau\n",
    "NUM_OUTPUTS = 1 # Number of outputs: p\n",
    "NUM_HIDDEN1 = 600 # Number of neurons in the first hidden layer\n",
    "NUM_HIDDEN2 = 200 # Number of neurons in the second hidden layer\n",
    "BATCH_SIZE = 32 # Size of mini-batches for gradient descent\n",
    "INIT_LR = 6e-4 # Initial learning rate for training\n",
    "LR_FACTOR = 0.5 # Factor to multiply learning rate when adapting\n",
    "LR_PATIENCE = 5 # Number of epochs to wait before adapting learning rate\n",
    "LR_THRESHOLD = 0.0005 # Threshold to check improvement in loss before adapting learning rate\n",
    "LR_COOLDOWN = 10 # Number of epochs to wait after adapting learning rate\n",
    "\n",
    "# Defining the constants for the data generation\n",
    "TRAIN_SIZE = 80000 # Number of samples in the training dataset\n",
    "TEST_SIZE = 10000 # Number of samples in the test dataset\n",
    "RHO_MIN = 0.0 # Minimum value of rho (density) for sampling\n",
    "RHO_MAX = 10.1 # Maximum value of rho (density) for sampling\n",
    "EPS_MIN = 0.0 # Minimum value of eps (specific internal energy) for sampling\n",
    "EPS_MAX = 2.02 # Maximum value of eps (specific internal energy) for sampling\n",
    "VX_MIN = 0.0 # Minimum value of v_x (velocity in x direction) for sampling\n",
    "VX_MAX = 0.721 # Maximum value of v_x (velocity in x direction) for sampling\n"
   ]
  },
  {
   "cell_type": "code",
   "execution_count": 46,
   "metadata": {},
   "outputs": [],
   "source": [
    "\n",
    "# Defining a function to generate data from primitive variables to conservative variables\n",
    "def generate_data(size):\n",
    "    \"\"\"\n",
    "    Generates data from primitive variables to conservative variables.\n",
    "\n",
    "    Parameters:\n",
    "        size (int): The number of samples to generate.\n",
    "\n",
    "    Returns:\n",
    "        X (torch.Tensor): The tensor of shape (size, NUM_INPUTS) containing the conservative variables D, S_x, tau.\n",
    "        y (torch.Tensor): The tensor of shape (size, NUM_OUTPUTS) containing the primitive variable p.\n",
    "    \"\"\"\n",
    "    # Sampling primitive variables from uniform distributions over given intervals\n",
    "    rho = np.random.uniform(RHO_MIN, RHO_MAX, size) # Density\n",
    "    eps = np.random.uniform(EPS_MIN, EPS_MAX, size) # Specific internal energy\n",
    "    vx = np.random.uniform(VX_MIN, VX_MAX, size) # Velocity in x direction\n",
    "\n",
    "    # Calculating primitive variable p (pressure) from equation of state (EOS)\n",
    "    gamma = 4/3 # Adiabatic index for ultra-relativistic gas EOS\n",
    "    p = rho * eps * (gamma - 1) # Pressure\n",
    "\n",
    "    # Calculating conservative variables from primitive variables using equations (2) from Dieseldorst et al.\n",
    "    W = 1 / np.sqrt(1 - vx**2) # Lorentz factor\n",
    "    h = 1 + eps + p / rho # Specific enthalpy\n",
    "    D = rho * W # Conserved density\n",
    "    Sx = rho * h * W**2 * vx # Conserved momentum in x direction\n",
    "    tau = rho * h * W**2 - p - D # Conserved energy density\n",
    "\n",
    "    # Converting numpy arrays to torch tensors and moving them to device\n",
    "    X = torch.tensor(np.stack([D, Sx, tau], axis=1), dtype=torch.float32).to(device) # Conservative variables\n",
    "    y = torch.tensor(p, dtype=torch.float32).unsqueeze(1).to(device) # Primitive variable p\n",
    "\n",
    "    # Returning X and y\n",
    "    return X, y\n"
   ]
  },
  {
   "cell_type": "code",
   "execution_count": 47,
   "metadata": {},
   "outputs": [],
   "source": [
    "\n",
    "# Generating training and test datasets using the generate_data function\n",
    "X_train, y_train = generate_data(TRAIN_SIZE)\n",
    "X_test, y_test = generate_data(TEST_SIZE)\n"
   ]
  },
  {
   "cell_type": "code",
   "execution_count": 48,
   "metadata": {},
   "outputs": [],
   "source": [
    "\n",
    "# Defining a class for the neural network model\n",
    "class NeuralNetwork(nn.Module):\n",
    "    \"\"\"\n",
    "    A class for the neural network model that performs conservative-to-primitive inversion.\n",
    "\n",
    "    Attributes:\n",
    "        fc1 (nn.Linear): The first fully connected layer with NUM_INPUTS inputs and NUM_HIDDEN1 outputs.\n",
    "        fc2 (nn.Linear): The second fully connected layer with NUM_HIDDEN1 inputs and NUM_HIDDEN2 outputs.\n",
    "        fc3 (nn.Linear): The third fully connected layer with NUM_HIDDEN2 inputs and NUM_OUTPUTS outputs.\n",
    "        sigmoid (nn.Sigmoid): The sigmoid activation function for the hidden layers.\n",
    "        relu (nn.ReLU): The ReLU activation function for the output layer.\n",
    "\n",
    "    Methods:\n",
    "        forward(x): Performs the forward pass of the neural network on the input x and returns the output y.\n",
    "    \"\"\"\n",
    "    def __init__(self):\n",
    "        \"\"\"\n",
    "        Initializes the neural network model with the attributes defined above.\n",
    "        \"\"\"\n",
    "        super(NeuralNetwork, self).__init__() # Calling the superclass constructor\n",
    "        self.fc1 = nn.Linear(NUM_INPUTS, NUM_HIDDEN1) # First fully connected layer\n",
    "        self.fc2 = nn.Linear(NUM_HIDDEN1, NUM_HIDDEN2) # Second fully connected layer\n",
    "        self.fc3 = nn.Linear(NUM_HIDDEN2, NUM_OUTPUTS) # Third fully connected layer\n",
    "        self.sigmoid = nn.Sigmoid() # Sigmoid activation function\n",
    "        self.relu = nn.ReLU() # ReLU activation function\n",
    "\n",
    "    def forward(self, x):\n",
    "        \"\"\"\n",
    "        Performs the forward pass of the neural network on the input x and returns the output y.\n",
    "\n",
    "        Parameters:\n",
    "            x (torch.Tensor): The input tensor of shape (batch_size, NUM_INPUTS) containing the conservative variables.\n",
    "\n",
    "        Returns:\n",
    "            y (torch.Tensor): The output tensor of shape (batch_size, NUM_OUTPUTS) containing the primitive variable p.\n",
    "        \"\"\"\n",
    "        x = self.fc1(x) # Passing x through the first fully connected layer\n",
    "        x = self.sigmoid(x) # Applying sigmoid activation function\n",
    "        x = self.fc2(x) # Passing x through the second fully connected layer\n",
    "        x = self.sigmoid(x) # Applying sigmoid activation function\n",
    "        y = self.fc3(x) # Passing x through the third fully connected layer\n",
    "        y = self.relu(y) # Applying ReLU activation function\n",
    "        return y\n"
   ]
  },
  {
   "cell_type": "code",
   "execution_count": 49,
   "metadata": {},
   "outputs": [],
   "source": [
    "\n",
    "# Creating an instance of the neural network model and moving it to device\n",
    "model = NeuralNetwork().to(device)\n",
    "\n",
    "# Defining the loss function as mean squared error\n",
    "criterion = nn.MSELoss()\n",
    "\n",
    "# Defining the optimizer as Adam with initial learning rate\n",
    "optimizer = optim.Adam(model.parameters(), lr=INIT_LR)\n"
   ]
  },
  {
   "cell_type": "code",
   "execution_count": 50,
   "metadata": {},
   "outputs": [],
   "source": [
    "\n",
    "# Defining a function to calculate other primitive variables from p using equations (A2), (A3), (A4), (A5) from Dieseldorst et al.\n",
    "def calculate_primitives(X, p):\n",
    "    \"\"\"\n",
    "    Calculates other primitive variables from p using equations (A2), (A3), (A4), (A5) from Dieseldorst et al.\n",
    "\n",
    "    Parameters:\n",
    "        X (torch.Tensor): The tensor of shape (batch_size, NUM_INPUTS) containing the conservative variables D, S_x, tau.\n",
    "        p (torch.Tensor): The tensor of shape (batch_size, NUM_OUTPUTS) containing the primitive variable p.\n",
    "\n",
    "    Returns:\n",
    "        rho (torch.Tensor): The tensor of shape (batch_size, 1) containing the primitive variable rho (density).\n",
    "        eps (torch.Tensor): The tensor of shape (batch_size, 1) containing the primitive variable eps (specific internal energy).\n",
    "        vx (torch.Tensor): The tensor of shape (batch_size, 1) containing the primitive variable v_x (velocity in x direction).\n",
    "    \"\"\"\n",
    "    # Extracting conservative variables from X\n",
    "    D = X[:, 0].unsqueeze(1) # Conserved density\n",
    "    Sx = X[:, 1].unsqueeze(1) # Conserved momentum in x direction\n",
    "    tau = X[:, 2].unsqueeze(1) # Conserved energy density\n",
    "\n",
    "    # Calculating primitive variable v_x\n",
    "    vx = Sx / (tau + D + p) # Velocity in x direction\n",
    "\n",
    "    # Calculating primitive variable W (Lorentz factor)\n",
    "    W = 1 / torch.sqrt(1 - vx**2) # Lorentz factor\n",
    "\n",
    "    # Calculating primitive variable eps (specific internal energy)\n",
    "    eps = (tau + D * (1 - W) + p * (1 - W**2)) / (D * W) # Specific internal energy\n",
    "\n",
    "    # Calculating primitive variable rho (density)\n",
    "    rho = D / W # Density\n",
    "\n",
    "    # Returning rho, eps, vx\n",
    "    return rho, eps, vx\n"
   ]
  },
  {
   "cell_type": "code",
   "execution_count": 51,
   "metadata": {},
   "outputs": [],
   "source": [
    "\n",
    "# Defining a function to calculate the L1 and L_inf norms of the error between two tensors\n",
    "def calculate_error(y_true, y_pred):\n",
    "    \"\"\"\n",
    "    Calculates the L1 and L_inf norms of the error between two tensors.\n",
    "\n",
    "    Parameters:\n",
    "        y_true (torch.Tensor): The tensor of shape (batch_size, 1) containing the true values.\n",
    "        y_pred (torch.Tensor): The tensor of shape (batch_size, 1) containing the predicted values.\n",
    "\n",
    "    Returns:\n",
    "        L1 (float): The L1 norm of the error.\n",
    "        Linf (float): The L_inf norm of the error.\n",
    "    \"\"\"\n",
    "    # Calculating the absolute error\n",
    "    error = torch.abs(y_true - y_pred)\n",
    "\n",
    "    # Calculating the L1 norm by taking the mean of the error\n",
    "    L1 = torch.mean(error).item()\n",
    "\n",
    "    # Calculating the L_inf norm by taking the maximum of the error\n",
    "    Linf = torch.max(error).item()\n",
    "\n",
    "    # Returning L1 and Linf\n",
    "    return L1, Linf\n"
   ]
  },
  {
   "cell_type": "code",
   "execution_count": 52,
   "metadata": {},
   "outputs": [
    {
     "name": "stdout",
     "output_type": "stream",
     "text": [
      "Epoch 1/200\n",
      "Learning rate: 0.0006\n"
     ]
    },
    {
     "data": {
      "text/plain": [
       "NeuralNetwork(\n",
       "  (fc1): Linear(in_features=3, out_features=600, bias=True)\n",
       "  (fc2): Linear(in_features=600, out_features=200, bias=True)\n",
       "  (fc3): Linear(in_features=200, out_features=1, bias=True)\n",
       "  (sigmoid): Sigmoid()\n",
       "  (relu): ReLU()\n",
       ")"
      ]
     },
     "execution_count": 52,
     "metadata": {},
     "output_type": "execute_result"
    },
    {
     "name": "stdout",
     "output_type": "stream",
     "text": [
      "Training loss: 0.0589\n"
     ]
    },
    {
     "data": {
      "text/plain": [
       "NeuralNetwork(\n",
       "  (fc1): Linear(in_features=3, out_features=600, bias=True)\n",
       "  (fc2): Linear(in_features=600, out_features=200, bias=True)\n",
       "  (fc3): Linear(in_features=200, out_features=1, bias=True)\n",
       "  (sigmoid): Sigmoid()\n",
       "  (relu): ReLU()\n",
       ")"
      ]
     },
     "execution_count": 52,
     "metadata": {},
     "output_type": "execute_result"
    },
    {
     "name": "stdout",
     "output_type": "stream",
     "text": [
      "Test loss: 0.0006\n",
      "Test error for rho: L1 = 0.0015, Linf = 0.0304\n",
      "Test error for eps: L1 = 0.0003, Linf = 0.1234\n",
      "Test error for vx: L1 = 0.0011, Linf = 0.2164\n",
      "Test error for p: L1 = 0.0170, Linf = 0.2427\n",
      "Training error for rho: L1 = 0.0015, Linf = 0.0407\n",
      "Training error for eps: L1 = 0.0003, Linf = 0.2771\n",
      "Training error for vx: L1 = 0.0011, Linf = 0.4619\n",
      "Training error for p: L1 = 0.0173, Linf = 0.4398\n",
      "Epoch 2/200\n",
      "Learning rate: 0.0006\n"
     ]
    },
    {
     "data": {
      "text/plain": [
       "NeuralNetwork(\n",
       "  (fc1): Linear(in_features=3, out_features=600, bias=True)\n",
       "  (fc2): Linear(in_features=600, out_features=200, bias=True)\n",
       "  (fc3): Linear(in_features=200, out_features=1, bias=True)\n",
       "  (sigmoid): Sigmoid()\n",
       "  (relu): ReLU()\n",
       ")"
      ]
     },
     "execution_count": 52,
     "metadata": {},
     "output_type": "execute_result"
    },
    {
     "name": "stdout",
     "output_type": "stream",
     "text": [
      "Training loss: 0.0004\n"
     ]
    },
    {
     "data": {
      "text/plain": [
       "NeuralNetwork(\n",
       "  (fc1): Linear(in_features=3, out_features=600, bias=True)\n",
       "  (fc2): Linear(in_features=600, out_features=200, bias=True)\n",
       "  (fc3): Linear(in_features=200, out_features=1, bias=True)\n",
       "  (sigmoid): Sigmoid()\n",
       "  (relu): ReLU()\n",
       ")"
      ]
     },
     "execution_count": 52,
     "metadata": {},
     "output_type": "execute_result"
    },
    {
     "name": "stdout",
     "output_type": "stream",
     "text": [
      "Test loss: 0.0001\n",
      "Test error for rho: L1 = 0.0005, Linf = 0.0119\n",
      "Test error for eps: L1 = 0.0001, Linf = 0.0443\n",
      "Test error for vx: L1 = 0.0005, Linf = 0.1056\n",
      "Test error for p: L1 = 0.0059, Linf = 0.0852\n",
      "Training error for rho: L1 = 0.0005, Linf = 0.0183\n",
      "Training error for eps: L1 = 0.0001, Linf = 0.1367\n",
      "Training error for vx: L1 = 0.0005, Linf = 0.2973\n",
      "Training error for p: L1 = 0.0060, Linf = 0.1849\n",
      "Epoch 3/200\n",
      "Learning rate: 0.0006\n"
     ]
    },
    {
     "data": {
      "text/plain": [
       "NeuralNetwork(\n",
       "  (fc1): Linear(in_features=3, out_features=600, bias=True)\n",
       "  (fc2): Linear(in_features=600, out_features=200, bias=True)\n",
       "  (fc3): Linear(in_features=200, out_features=1, bias=True)\n",
       "  (sigmoid): Sigmoid()\n",
       "  (relu): ReLU()\n",
       ")"
      ]
     },
     "execution_count": 52,
     "metadata": {},
     "output_type": "execute_result"
    },
    {
     "name": "stdout",
     "output_type": "stream",
     "text": [
      "Training loss: 0.0003\n"
     ]
    },
    {
     "data": {
      "text/plain": [
       "NeuralNetwork(\n",
       "  (fc1): Linear(in_features=3, out_features=600, bias=True)\n",
       "  (fc2): Linear(in_features=600, out_features=200, bias=True)\n",
       "  (fc3): Linear(in_features=200, out_features=1, bias=True)\n",
       "  (sigmoid): Sigmoid()\n",
       "  (relu): ReLU()\n",
       ")"
      ]
     },
     "execution_count": 52,
     "metadata": {},
     "output_type": "execute_result"
    },
    {
     "name": "stdout",
     "output_type": "stream",
     "text": [
      "Test loss: 0.0002\n",
      "Test error for rho: L1 = 0.0009, Linf = 0.0121\n",
      "Test error for eps: L1 = 0.0001, Linf = 0.0218\n",
      "Test error for vx: L1 = 0.0004, Linf = 0.0257\n",
      "Test error for p: L1 = 0.0111, Linf = 0.0557\n",
      "Training error for rho: L1 = 0.0009, Linf = 0.0137\n",
      "Training error for eps: L1 = 0.0001, Linf = 0.0305\n",
      "Training error for vx: L1 = 0.0004, Linf = 0.0326\n",
      "Training error for p: L1 = 0.0112, Linf = 0.1279\n",
      "Epoch 4/200\n",
      "Learning rate: 0.0006\n"
     ]
    },
    {
     "data": {
      "text/plain": [
       "NeuralNetwork(\n",
       "  (fc1): Linear(in_features=3, out_features=600, bias=True)\n",
       "  (fc2): Linear(in_features=600, out_features=200, bias=True)\n",
       "  (fc3): Linear(in_features=200, out_features=1, bias=True)\n",
       "  (sigmoid): Sigmoid()\n",
       "  (relu): ReLU()\n",
       ")"
      ]
     },
     "execution_count": 52,
     "metadata": {},
     "output_type": "execute_result"
    },
    {
     "name": "stdout",
     "output_type": "stream",
     "text": [
      "Training loss: 0.0003\n"
     ]
    },
    {
     "data": {
      "text/plain": [
       "NeuralNetwork(\n",
       "  (fc1): Linear(in_features=3, out_features=600, bias=True)\n",
       "  (fc2): Linear(in_features=600, out_features=200, bias=True)\n",
       "  (fc3): Linear(in_features=200, out_features=1, bias=True)\n",
       "  (sigmoid): Sigmoid()\n",
       "  (relu): ReLU()\n",
       ")"
      ]
     },
     "execution_count": 52,
     "metadata": {},
     "output_type": "execute_result"
    },
    {
     "name": "stdout",
     "output_type": "stream",
     "text": [
      "Test loss: 0.0002\n",
      "Test error for rho: L1 = 0.0010, Linf = 0.0110\n",
      "Test error for eps: L1 = 0.0001, Linf = 0.0301\n",
      "Test error for vx: L1 = 0.0008, Linf = 0.0774\n",
      "Test error for p: L1 = 0.0119, Linf = 0.0557\n",
      "Training error for rho: L1 = 0.0010, Linf = 0.0126\n",
      "Training error for eps: L1 = 0.0001, Linf = 0.0229\n",
      "Training error for vx: L1 = 0.0007, Linf = 0.0787\n",
      "Training error for p: L1 = 0.0120, Linf = 0.1113\n",
      "Epoch 5/200\n",
      "Learning rate: 0.0006\n"
     ]
    },
    {
     "data": {
      "text/plain": [
       "NeuralNetwork(\n",
       "  (fc1): Linear(in_features=3, out_features=600, bias=True)\n",
       "  (fc2): Linear(in_features=600, out_features=200, bias=True)\n",
       "  (fc3): Linear(in_features=200, out_features=1, bias=True)\n",
       "  (sigmoid): Sigmoid()\n",
       "  (relu): ReLU()\n",
       ")"
      ]
     },
     "execution_count": 52,
     "metadata": {},
     "output_type": "execute_result"
    },
    {
     "name": "stdout",
     "output_type": "stream",
     "text": [
      "Training loss: 0.0002\n"
     ]
    },
    {
     "data": {
      "text/plain": [
       "NeuralNetwork(\n",
       "  (fc1): Linear(in_features=3, out_features=600, bias=True)\n",
       "  (fc2): Linear(in_features=600, out_features=200, bias=True)\n",
       "  (fc3): Linear(in_features=200, out_features=1, bias=True)\n",
       "  (sigmoid): Sigmoid()\n",
       "  (relu): ReLU()\n",
       ")"
      ]
     },
     "execution_count": 52,
     "metadata": {},
     "output_type": "execute_result"
    },
    {
     "name": "stdout",
     "output_type": "stream",
     "text": [
      "Test loss: 0.0001\n",
      "Test error for rho: L1 = 0.0005, Linf = 0.0087\n",
      "Test error for eps: L1 = 0.0001, Linf = 0.0301\n",
      "Test error for vx: L1 = 0.0006, Linf = 0.0774\n",
      "Test error for p: L1 = 0.0060, Linf = 0.0320\n",
      "Training error for rho: L1 = 0.0005, Linf = 0.0101\n",
      "Training error for eps: L1 = 0.0001, Linf = 0.0229\n",
      "Training error for vx: L1 = 0.0006, Linf = 0.0787\n",
      "Training error for p: L1 = 0.0061, Linf = 0.0843\n",
      "Epoch 6/200\n",
      "Learning rate: 0.0006\n"
     ]
    },
    {
     "data": {
      "text/plain": [
       "NeuralNetwork(\n",
       "  (fc1): Linear(in_features=3, out_features=600, bias=True)\n",
       "  (fc2): Linear(in_features=600, out_features=200, bias=True)\n",
       "  (fc3): Linear(in_features=200, out_features=1, bias=True)\n",
       "  (sigmoid): Sigmoid()\n",
       "  (relu): ReLU()\n",
       ")"
      ]
     },
     "execution_count": 52,
     "metadata": {},
     "output_type": "execute_result"
    },
    {
     "name": "stdout",
     "output_type": "stream",
     "text": [
      "Training loss: 0.0002\n"
     ]
    },
    {
     "data": {
      "text/plain": [
       "NeuralNetwork(\n",
       "  (fc1): Linear(in_features=3, out_features=600, bias=True)\n",
       "  (fc2): Linear(in_features=600, out_features=200, bias=True)\n",
       "  (fc3): Linear(in_features=200, out_features=1, bias=True)\n",
       "  (sigmoid): Sigmoid()\n",
       "  (relu): ReLU()\n",
       ")"
      ]
     },
     "execution_count": 52,
     "metadata": {},
     "output_type": "execute_result"
    },
    {
     "name": "stdout",
     "output_type": "stream",
     "text": [
      "Test loss: 0.0001\n",
      "Test error for rho: L1 = 0.0006, Linf = 0.0093\n",
      "Test error for eps: L1 = 0.0001, Linf = 0.0610\n",
      "Test error for vx: L1 = 0.0005, Linf = 0.1327\n",
      "Test error for p: L1 = 0.0059, Linf = 0.0410\n",
      "Training error for rho: L1 = 0.0006, Linf = 0.0105\n",
      "Training error for eps: L1 = 0.0001, Linf = 0.1727\n",
      "Training error for vx: L1 = 0.0005, Linf = 0.3460\n",
      "Training error for p: L1 = 0.0060, Linf = 0.0409\n",
      "Epoch 7/200\n",
      "Learning rate: 0.0006\n"
     ]
    },
    {
     "data": {
      "text/plain": [
       "NeuralNetwork(\n",
       "  (fc1): Linear(in_features=3, out_features=600, bias=True)\n",
       "  (fc2): Linear(in_features=600, out_features=200, bias=True)\n",
       "  (fc3): Linear(in_features=200, out_features=1, bias=True)\n",
       "  (sigmoid): Sigmoid()\n",
       "  (relu): ReLU()\n",
       ")"
      ]
     },
     "execution_count": 52,
     "metadata": {},
     "output_type": "execute_result"
    },
    {
     "name": "stdout",
     "output_type": "stream",
     "text": [
      "Training loss: 0.0002\n"
     ]
    },
    {
     "data": {
      "text/plain": [
       "NeuralNetwork(\n",
       "  (fc1): Linear(in_features=3, out_features=600, bias=True)\n",
       "  (fc2): Linear(in_features=600, out_features=200, bias=True)\n",
       "  (fc3): Linear(in_features=200, out_features=1, bias=True)\n",
       "  (sigmoid): Sigmoid()\n",
       "  (relu): ReLU()\n",
       ")"
      ]
     },
     "execution_count": 52,
     "metadata": {},
     "output_type": "execute_result"
    },
    {
     "name": "stdout",
     "output_type": "stream",
     "text": [
      "Test loss: 0.0000\n",
      "Test error for rho: L1 = 0.0003, Linf = 0.0097\n",
      "Test error for eps: L1 = 0.0001, Linf = 0.0184\n",
      "Test error for vx: L1 = 0.0004, Linf = 0.0704\n",
      "Test error for p: L1 = 0.0035, Linf = 0.0678\n",
      "Training error for rho: L1 = 0.0003, Linf = 0.0131\n",
      "Training error for eps: L1 = 0.0001, Linf = 0.0220\n",
      "Training error for vx: L1 = 0.0004, Linf = 0.0787\n",
      "Training error for p: L1 = 0.0036, Linf = 0.0919\n",
      "Epoch 8/200\n",
      "Learning rate: 0.0006\n"
     ]
    },
    {
     "data": {
      "text/plain": [
       "NeuralNetwork(\n",
       "  (fc1): Linear(in_features=3, out_features=600, bias=True)\n",
       "  (fc2): Linear(in_features=600, out_features=200, bias=True)\n",
       "  (fc3): Linear(in_features=200, out_features=1, bias=True)\n",
       "  (sigmoid): Sigmoid()\n",
       "  (relu): ReLU()\n",
       ")"
      ]
     },
     "execution_count": 52,
     "metadata": {},
     "output_type": "execute_result"
    },
    {
     "name": "stdout",
     "output_type": "stream",
     "text": [
      "Training loss: 0.0002\n"
     ]
    },
    {
     "data": {
      "text/plain": [
       "NeuralNetwork(\n",
       "  (fc1): Linear(in_features=3, out_features=600, bias=True)\n",
       "  (fc2): Linear(in_features=600, out_features=200, bias=True)\n",
       "  (fc3): Linear(in_features=200, out_features=1, bias=True)\n",
       "  (sigmoid): Sigmoid()\n",
       "  (relu): ReLU()\n",
       ")"
      ]
     },
     "execution_count": 52,
     "metadata": {},
     "output_type": "execute_result"
    },
    {
     "name": "stdout",
     "output_type": "stream",
     "text": [
      "Test loss: 0.0000\n",
      "Test error for rho: L1 = 0.0003, Linf = 0.0088\n",
      "Test error for eps: L1 = 0.0001, Linf = 0.0197\n",
      "Test error for vx: L1 = 0.0003, Linf = 0.0662\n",
      "Test error for p: L1 = 0.0035, Linf = 0.0631\n",
      "Training error for rho: L1 = 0.0003, Linf = 0.0121\n",
      "Training error for eps: L1 = 0.0001, Linf = 0.0285\n",
      "Training error for vx: L1 = 0.0003, Linf = 0.0722\n",
      "Training error for p: L1 = 0.0035, Linf = 0.0844\n",
      "Epoch 9/200\n",
      "Learning rate: 0.0006\n"
     ]
    },
    {
     "data": {
      "text/plain": [
       "NeuralNetwork(\n",
       "  (fc1): Linear(in_features=3, out_features=600, bias=True)\n",
       "  (fc2): Linear(in_features=600, out_features=200, bias=True)\n",
       "  (fc3): Linear(in_features=200, out_features=1, bias=True)\n",
       "  (sigmoid): Sigmoid()\n",
       "  (relu): ReLU()\n",
       ")"
      ]
     },
     "execution_count": 52,
     "metadata": {},
     "output_type": "execute_result"
    },
    {
     "name": "stdout",
     "output_type": "stream",
     "text": [
      "Training loss: 0.0002\n"
     ]
    },
    {
     "data": {
      "text/plain": [
       "NeuralNetwork(\n",
       "  (fc1): Linear(in_features=3, out_features=600, bias=True)\n",
       "  (fc2): Linear(in_features=600, out_features=200, bias=True)\n",
       "  (fc3): Linear(in_features=200, out_features=1, bias=True)\n",
       "  (sigmoid): Sigmoid()\n",
       "  (relu): ReLU()\n",
       ")"
      ]
     },
     "execution_count": 52,
     "metadata": {},
     "output_type": "execute_result"
    },
    {
     "name": "stdout",
     "output_type": "stream",
     "text": [
      "Test loss: 0.0000\n",
      "Test error for rho: L1 = 0.0002, Linf = 0.0063\n",
      "Test error for eps: L1 = 0.0001, Linf = 0.0179\n",
      "Test error for vx: L1 = 0.0004, Linf = 0.0704\n",
      "Test error for p: L1 = 0.0025, Linf = 0.0181\n",
      "Training error for rho: L1 = 0.0002, Linf = 0.0058\n",
      "Training error for eps: L1 = 0.0001, Linf = 0.0220\n",
      "Training error for vx: L1 = 0.0003, Linf = 0.0787\n",
      "Training error for p: L1 = 0.0025, Linf = 0.0392\n",
      "Epoch 10/200\n",
      "Learning rate: 0.0006\n"
     ]
    },
    {
     "data": {
      "text/plain": [
       "NeuralNetwork(\n",
       "  (fc1): Linear(in_features=3, out_features=600, bias=True)\n",
       "  (fc2): Linear(in_features=600, out_features=200, bias=True)\n",
       "  (fc3): Linear(in_features=200, out_features=1, bias=True)\n",
       "  (sigmoid): Sigmoid()\n",
       "  (relu): ReLU()\n",
       ")"
      ]
     },
     "execution_count": 52,
     "metadata": {},
     "output_type": "execute_result"
    },
    {
     "name": "stdout",
     "output_type": "stream",
     "text": [
      "Training loss: 0.0002\n"
     ]
    },
    {
     "data": {
      "text/plain": [
       "NeuralNetwork(\n",
       "  (fc1): Linear(in_features=3, out_features=600, bias=True)\n",
       "  (fc2): Linear(in_features=600, out_features=200, bias=True)\n",
       "  (fc3): Linear(in_features=200, out_features=1, bias=True)\n",
       "  (sigmoid): Sigmoid()\n",
       "  (relu): ReLU()\n",
       ")"
      ]
     },
     "execution_count": 52,
     "metadata": {},
     "output_type": "execute_result"
    },
    {
     "name": "stdout",
     "output_type": "stream",
     "text": [
      "Test loss: 0.0000\n",
      "Test error for rho: L1 = 0.0004, Linf = 0.0075\n",
      "Test error for eps: L1 = 0.0001, Linf = 0.0182\n",
      "Test error for vx: L1 = 0.0004, Linf = 0.0704\n",
      "Test error for p: L1 = 0.0050, Linf = 0.0534\n",
      "Training error for rho: L1 = 0.0004, Linf = 0.0102\n",
      "Training error for eps: L1 = 0.0001, Linf = 0.0220\n",
      "Training error for vx: L1 = 0.0004, Linf = 0.0787\n",
      "Training error for p: L1 = 0.0052, Linf = 0.0747\n",
      "Epoch 11/200\n",
      "Learning rate: 0.0006\n"
     ]
    },
    {
     "data": {
      "text/plain": [
       "NeuralNetwork(\n",
       "  (fc1): Linear(in_features=3, out_features=600, bias=True)\n",
       "  (fc2): Linear(in_features=600, out_features=200, bias=True)\n",
       "  (fc3): Linear(in_features=200, out_features=1, bias=True)\n",
       "  (sigmoid): Sigmoid()\n",
       "  (relu): ReLU()\n",
       ")"
      ]
     },
     "execution_count": 52,
     "metadata": {},
     "output_type": "execute_result"
    },
    {
     "name": "stdout",
     "output_type": "stream",
     "text": [
      "Training loss: 0.0001\n"
     ]
    },
    {
     "data": {
      "text/plain": [
       "NeuralNetwork(\n",
       "  (fc1): Linear(in_features=3, out_features=600, bias=True)\n",
       "  (fc2): Linear(in_features=600, out_features=200, bias=True)\n",
       "  (fc3): Linear(in_features=200, out_features=1, bias=True)\n",
       "  (sigmoid): Sigmoid()\n",
       "  (relu): ReLU()\n",
       ")"
      ]
     },
     "execution_count": 52,
     "metadata": {},
     "output_type": "execute_result"
    },
    {
     "name": "stdout",
     "output_type": "stream",
     "text": [
      "Test loss: 0.0000\n",
      "Test error for rho: L1 = 0.0003, Linf = 0.0063\n",
      "Test error for eps: L1 = 0.0001, Linf = 0.0261\n",
      "Test error for vx: L1 = 0.0004, Linf = 0.0704\n",
      "Test error for p: L1 = 0.0039, Linf = 0.0444\n",
      "Training error for rho: L1 = 0.0003, Linf = 0.0098\n",
      "Training error for eps: L1 = 0.0001, Linf = 0.0229\n",
      "Training error for vx: L1 = 0.0004, Linf = 0.0787\n",
      "Training error for p: L1 = 0.0040, Linf = 0.0743\n",
      "Epoch 12/200\n",
      "Learning rate: 0.0006\n"
     ]
    },
    {
     "data": {
      "text/plain": [
       "NeuralNetwork(\n",
       "  (fc1): Linear(in_features=3, out_features=600, bias=True)\n",
       "  (fc2): Linear(in_features=600, out_features=200, bias=True)\n",
       "  (fc3): Linear(in_features=200, out_features=1, bias=True)\n",
       "  (sigmoid): Sigmoid()\n",
       "  (relu): ReLU()\n",
       ")"
      ]
     },
     "execution_count": 52,
     "metadata": {},
     "output_type": "execute_result"
    },
    {
     "name": "stdout",
     "output_type": "stream",
     "text": [
      "Training loss: 0.0001\n"
     ]
    },
    {
     "data": {
      "text/plain": [
       "NeuralNetwork(\n",
       "  (fc1): Linear(in_features=3, out_features=600, bias=True)\n",
       "  (fc2): Linear(in_features=600, out_features=200, bias=True)\n",
       "  (fc3): Linear(in_features=200, out_features=1, bias=True)\n",
       "  (sigmoid): Sigmoid()\n",
       "  (relu): ReLU()\n",
       ")"
      ]
     },
     "execution_count": 52,
     "metadata": {},
     "output_type": "execute_result"
    },
    {
     "name": "stdout",
     "output_type": "stream",
     "text": [
      "Test loss: 0.0000\n",
      "Test error for rho: L1 = 0.0003, Linf = 0.0059\n",
      "Test error for eps: L1 = 0.0001, Linf = 0.0283\n",
      "Test error for vx: L1 = 0.0005, Linf = 0.0721\n",
      "Test error for p: L1 = 0.0046, Linf = 0.0241\n",
      "Training error for rho: L1 = 0.0003, Linf = 0.0066\n",
      "Training error for eps: L1 = 0.0001, Linf = 0.0229\n",
      "Training error for vx: L1 = 0.0004, Linf = 0.0787\n",
      "Training error for p: L1 = 0.0047, Linf = 0.0506\n",
      "Epoch 13/200\n",
      "Learning rate: 0.0006\n"
     ]
    },
    {
     "data": {
      "text/plain": [
       "NeuralNetwork(\n",
       "  (fc1): Linear(in_features=3, out_features=600, bias=True)\n",
       "  (fc2): Linear(in_features=600, out_features=200, bias=True)\n",
       "  (fc3): Linear(in_features=200, out_features=1, bias=True)\n",
       "  (sigmoid): Sigmoid()\n",
       "  (relu): ReLU()\n",
       ")"
      ]
     },
     "execution_count": 52,
     "metadata": {},
     "output_type": "execute_result"
    },
    {
     "name": "stdout",
     "output_type": "stream",
     "text": [
      "Training loss: 0.0002\n"
     ]
    },
    {
     "data": {
      "text/plain": [
       "NeuralNetwork(\n",
       "  (fc1): Linear(in_features=3, out_features=600, bias=True)\n",
       "  (fc2): Linear(in_features=600, out_features=200, bias=True)\n",
       "  (fc3): Linear(in_features=200, out_features=1, bias=True)\n",
       "  (sigmoid): Sigmoid()\n",
       "  (relu): ReLU()\n",
       ")"
      ]
     },
     "execution_count": 52,
     "metadata": {},
     "output_type": "execute_result"
    },
    {
     "name": "stdout",
     "output_type": "stream",
     "text": [
      "Test loss: 0.0000\n",
      "Test error for rho: L1 = 0.0005, Linf = 0.0060\n",
      "Test error for eps: L1 = 0.0002, Linf = 0.0890\n",
      "Test error for vx: L1 = 0.0006, Linf = 0.1723\n",
      "Test error for p: L1 = 0.0052, Linf = 0.0721\n",
      "Training error for rho: L1 = 0.0005, Linf = 0.0088\n",
      "Training error for eps: L1 = 0.0002, Linf = 0.2224\n",
      "Training error for vx: L1 = 0.0006, Linf = 0.4069\n",
      "Training error for p: L1 = 0.0051, Linf = 0.0727\n",
      "Epoch 14/200\n",
      "Learning rate: 0.0006\n"
     ]
    },
    {
     "data": {
      "text/plain": [
       "NeuralNetwork(\n",
       "  (fc1): Linear(in_features=3, out_features=600, bias=True)\n",
       "  (fc2): Linear(in_features=600, out_features=200, bias=True)\n",
       "  (fc3): Linear(in_features=200, out_features=1, bias=True)\n",
       "  (sigmoid): Sigmoid()\n",
       "  (relu): ReLU()\n",
       ")"
      ]
     },
     "execution_count": 52,
     "metadata": {},
     "output_type": "execute_result"
    },
    {
     "name": "stdout",
     "output_type": "stream",
     "text": [
      "Training loss: 0.0001\n"
     ]
    },
    {
     "data": {
      "text/plain": [
       "NeuralNetwork(\n",
       "  (fc1): Linear(in_features=3, out_features=600, bias=True)\n",
       "  (fc2): Linear(in_features=600, out_features=200, bias=True)\n",
       "  (fc3): Linear(in_features=200, out_features=1, bias=True)\n",
       "  (sigmoid): Sigmoid()\n",
       "  (relu): ReLU()\n",
       ")"
      ]
     },
     "execution_count": 52,
     "metadata": {},
     "output_type": "execute_result"
    },
    {
     "name": "stdout",
     "output_type": "stream",
     "text": [
      "Test loss: 0.0000\n",
      "Test error for rho: L1 = 0.0004, Linf = 0.0060\n",
      "Test error for eps: L1 = 0.0001, Linf = 0.0301\n",
      "Test error for vx: L1 = 0.0005, Linf = 0.0774\n",
      "Test error for p: L1 = 0.0044, Linf = 0.0345\n",
      "Training error for rho: L1 = 0.0004, Linf = 0.0071\n",
      "Training error for eps: L1 = 0.0001, Linf = 0.0229\n",
      "Training error for vx: L1 = 0.0005, Linf = 0.0787\n",
      "Training error for p: L1 = 0.0045, Linf = 0.0539\n",
      "Epoch 15/200\n",
      "Learning rate: 0.0006\n"
     ]
    },
    {
     "data": {
      "text/plain": [
       "NeuralNetwork(\n",
       "  (fc1): Linear(in_features=3, out_features=600, bias=True)\n",
       "  (fc2): Linear(in_features=600, out_features=200, bias=True)\n",
       "  (fc3): Linear(in_features=200, out_features=1, bias=True)\n",
       "  (sigmoid): Sigmoid()\n",
       "  (relu): ReLU()\n",
       ")"
      ]
     },
     "execution_count": 52,
     "metadata": {},
     "output_type": "execute_result"
    },
    {
     "name": "stdout",
     "output_type": "stream",
     "text": [
      "Training loss: 0.0002\n"
     ]
    },
    {
     "data": {
      "text/plain": [
       "NeuralNetwork(\n",
       "  (fc1): Linear(in_features=3, out_features=600, bias=True)\n",
       "  (fc2): Linear(in_features=600, out_features=200, bias=True)\n",
       "  (fc3): Linear(in_features=200, out_features=1, bias=True)\n",
       "  (sigmoid): Sigmoid()\n",
       "  (relu): ReLU()\n",
       ")"
      ]
     },
     "execution_count": 52,
     "metadata": {},
     "output_type": "execute_result"
    },
    {
     "name": "stdout",
     "output_type": "stream",
     "text": [
      "Test loss: 0.0000\n",
      "Test error for rho: L1 = 0.0002, Linf = 0.0065\n",
      "Test error for eps: L1 = 0.0001, Linf = 0.0269\n",
      "Test error for vx: L1 = 0.0004, Linf = 0.0721\n",
      "Test error for p: L1 = 0.0032, Linf = 0.0452\n",
      "Training error for rho: L1 = 0.0002, Linf = 0.0095\n",
      "Training error for eps: L1 = 0.0001, Linf = 0.0229\n",
      "Training error for vx: L1 = 0.0003, Linf = 0.0787\n",
      "Training error for p: L1 = 0.0033, Linf = 0.0724\n",
      "Epoch 16/200\n",
      "Learning rate: 0.0006\n"
     ]
    },
    {
     "data": {
      "text/plain": [
       "NeuralNetwork(\n",
       "  (fc1): Linear(in_features=3, out_features=600, bias=True)\n",
       "  (fc2): Linear(in_features=600, out_features=200, bias=True)\n",
       "  (fc3): Linear(in_features=200, out_features=1, bias=True)\n",
       "  (sigmoid): Sigmoid()\n",
       "  (relu): ReLU()\n",
       ")"
      ]
     },
     "execution_count": 52,
     "metadata": {},
     "output_type": "execute_result"
    },
    {
     "name": "stdout",
     "output_type": "stream",
     "text": [
      "Training loss: 0.0001\n"
     ]
    },
    {
     "data": {
      "text/plain": [
       "NeuralNetwork(\n",
       "  (fc1): Linear(in_features=3, out_features=600, bias=True)\n",
       "  (fc2): Linear(in_features=600, out_features=200, bias=True)\n",
       "  (fc3): Linear(in_features=200, out_features=1, bias=True)\n",
       "  (sigmoid): Sigmoid()\n",
       "  (relu): ReLU()\n",
       ")"
      ]
     },
     "execution_count": 52,
     "metadata": {},
     "output_type": "execute_result"
    },
    {
     "name": "stdout",
     "output_type": "stream",
     "text": [
      "Test loss: 0.0000\n",
      "Test error for rho: L1 = 0.0002, Linf = 0.0052\n",
      "Test error for eps: L1 = 0.0001, Linf = 0.0301\n",
      "Test error for vx: L1 = 0.0005, Linf = 0.0774\n",
      "Test error for p: L1 = 0.0026, Linf = 0.0225\n",
      "Training error for rho: L1 = 0.0002, Linf = 0.0051\n",
      "Training error for eps: L1 = 0.0001, Linf = 0.0229\n",
      "Training error for vx: L1 = 0.0005, Linf = 0.0787\n",
      "Training error for p: L1 = 0.0026, Linf = 0.0385\n",
      "Epoch 17/200\n",
      "Learning rate: 0.0006\n"
     ]
    },
    {
     "data": {
      "text/plain": [
       "NeuralNetwork(\n",
       "  (fc1): Linear(in_features=3, out_features=600, bias=True)\n",
       "  (fc2): Linear(in_features=600, out_features=200, bias=True)\n",
       "  (fc3): Linear(in_features=200, out_features=1, bias=True)\n",
       "  (sigmoid): Sigmoid()\n",
       "  (relu): ReLU()\n",
       ")"
      ]
     },
     "execution_count": 52,
     "metadata": {},
     "output_type": "execute_result"
    },
    {
     "name": "stdout",
     "output_type": "stream",
     "text": [
      "Training loss: 0.0001\n"
     ]
    },
    {
     "data": {
      "text/plain": [
       "NeuralNetwork(\n",
       "  (fc1): Linear(in_features=3, out_features=600, bias=True)\n",
       "  (fc2): Linear(in_features=600, out_features=200, bias=True)\n",
       "  (fc3): Linear(in_features=200, out_features=1, bias=True)\n",
       "  (sigmoid): Sigmoid()\n",
       "  (relu): ReLU()\n",
       ")"
      ]
     },
     "execution_count": 52,
     "metadata": {},
     "output_type": "execute_result"
    },
    {
     "name": "stdout",
     "output_type": "stream",
     "text": [
      "Test loss: 0.0000\n",
      "Test error for rho: L1 = 0.0003, Linf = 0.0083\n",
      "Test error for eps: L1 = 0.0001, Linf = 0.0301\n",
      "Test error for vx: L1 = 0.0005, Linf = 0.0769\n",
      "Test error for p: L1 = 0.0041, Linf = 0.0574\n",
      "Training error for rho: L1 = 0.0003, Linf = 0.0115\n",
      "Training error for eps: L1 = 0.0001, Linf = 0.0229\n",
      "Training error for vx: L1 = 0.0004, Linf = 0.0787\n",
      "Training error for p: L1 = 0.0040, Linf = 0.0839\n",
      "Epoch 18/200\n",
      "Learning rate: 0.0006\n"
     ]
    },
    {
     "data": {
      "text/plain": [
       "NeuralNetwork(\n",
       "  (fc1): Linear(in_features=3, out_features=600, bias=True)\n",
       "  (fc2): Linear(in_features=600, out_features=200, bias=True)\n",
       "  (fc3): Linear(in_features=200, out_features=1, bias=True)\n",
       "  (sigmoid): Sigmoid()\n",
       "  (relu): ReLU()\n",
       ")"
      ]
     },
     "execution_count": 52,
     "metadata": {},
     "output_type": "execute_result"
    },
    {
     "name": "stdout",
     "output_type": "stream",
     "text": [
      "Training loss: 0.0001\n"
     ]
    },
    {
     "data": {
      "text/plain": [
       "NeuralNetwork(\n",
       "  (fc1): Linear(in_features=3, out_features=600, bias=True)\n",
       "  (fc2): Linear(in_features=600, out_features=200, bias=True)\n",
       "  (fc3): Linear(in_features=200, out_features=1, bias=True)\n",
       "  (sigmoid): Sigmoid()\n",
       "  (relu): ReLU()\n",
       ")"
      ]
     },
     "execution_count": 52,
     "metadata": {},
     "output_type": "execute_result"
    },
    {
     "name": "stdout",
     "output_type": "stream",
     "text": [
      "Test loss: 0.0001\n",
      "Test error for rho: L1 = 0.0007, Linf = 0.0080\n",
      "Test error for eps: L1 = 0.0001, Linf = 0.0301\n",
      "Test error for vx: L1 = 0.0010, Linf = 0.0774\n",
      "Test error for p: L1 = 0.0071, Linf = 0.0301\n",
      "Training error for rho: L1 = 0.0007, Linf = 0.0090\n",
      "Training error for eps: L1 = 0.0001, Linf = 0.0310\n",
      "Training error for vx: L1 = 0.0009, Linf = 0.0789\n",
      "Training error for p: L1 = 0.0071, Linf = 0.0594\n",
      "Epoch 19/200\n",
      "Learning rate: 0.0006\n"
     ]
    },
    {
     "data": {
      "text/plain": [
       "NeuralNetwork(\n",
       "  (fc1): Linear(in_features=3, out_features=600, bias=True)\n",
       "  (fc2): Linear(in_features=600, out_features=200, bias=True)\n",
       "  (fc3): Linear(in_features=200, out_features=1, bias=True)\n",
       "  (sigmoid): Sigmoid()\n",
       "  (relu): ReLU()\n",
       ")"
      ]
     },
     "execution_count": 52,
     "metadata": {},
     "output_type": "execute_result"
    },
    {
     "name": "stdout",
     "output_type": "stream",
     "text": [
      "Training loss: 0.0002\n"
     ]
    },
    {
     "data": {
      "text/plain": [
       "NeuralNetwork(\n",
       "  (fc1): Linear(in_features=3, out_features=600, bias=True)\n",
       "  (fc2): Linear(in_features=600, out_features=200, bias=True)\n",
       "  (fc3): Linear(in_features=200, out_features=1, bias=True)\n",
       "  (sigmoid): Sigmoid()\n",
       "  (relu): ReLU()\n",
       ")"
      ]
     },
     "execution_count": 52,
     "metadata": {},
     "output_type": "execute_result"
    },
    {
     "name": "stdout",
     "output_type": "stream",
     "text": [
      "Test loss: 0.0000\n",
      "Test error for rho: L1 = 0.0002, Linf = 0.0117\n",
      "Test error for eps: L1 = 0.0001, Linf = 0.0273\n",
      "Test error for vx: L1 = 0.0004, Linf = 0.0721\n",
      "Test error for p: L1 = 0.0024, Linf = 0.0815\n",
      "Training error for rho: L1 = 0.0002, Linf = 0.0159\n",
      "Training error for eps: L1 = 0.0001, Linf = 0.0229\n",
      "Training error for vx: L1 = 0.0003, Linf = 0.0787\n",
      "Training error for p: L1 = 0.0024, Linf = 0.1129\n",
      "Epoch 20/200\n",
      "Learning rate: 0.0006\n"
     ]
    },
    {
     "data": {
      "text/plain": [
       "NeuralNetwork(\n",
       "  (fc1): Linear(in_features=3, out_features=600, bias=True)\n",
       "  (fc2): Linear(in_features=600, out_features=200, bias=True)\n",
       "  (fc3): Linear(in_features=200, out_features=1, bias=True)\n",
       "  (sigmoid): Sigmoid()\n",
       "  (relu): ReLU()\n",
       ")"
      ]
     },
     "execution_count": 52,
     "metadata": {},
     "output_type": "execute_result"
    },
    {
     "name": "stdout",
     "output_type": "stream",
     "text": [
      "Training loss: 0.0001\n"
     ]
    },
    {
     "data": {
      "text/plain": [
       "NeuralNetwork(\n",
       "  (fc1): Linear(in_features=3, out_features=600, bias=True)\n",
       "  (fc2): Linear(in_features=600, out_features=200, bias=True)\n",
       "  (fc3): Linear(in_features=200, out_features=1, bias=True)\n",
       "  (sigmoid): Sigmoid()\n",
       "  (relu): ReLU()\n",
       ")"
      ]
     },
     "execution_count": 52,
     "metadata": {},
     "output_type": "execute_result"
    },
    {
     "name": "stdout",
     "output_type": "stream",
     "text": [
      "Test loss: 0.0000\n",
      "Test error for rho: L1 = 0.0004, Linf = 0.0054\n",
      "Test error for eps: L1 = 0.0001, Linf = 0.0301\n",
      "Test error for vx: L1 = 0.0006, Linf = 0.0774\n",
      "Test error for p: L1 = 0.0042, Linf = 0.0394\n",
      "Training error for rho: L1 = 0.0004, Linf = 0.0081\n",
      "Training error for eps: L1 = 0.0001, Linf = 0.0229\n",
      "Training error for vx: L1 = 0.0005, Linf = 0.0787\n",
      "Training error for p: L1 = 0.0042, Linf = 0.0470\n",
      "Epoch 21/200\n",
      "Learning rate: 0.0006\n"
     ]
    },
    {
     "data": {
      "text/plain": [
       "NeuralNetwork(\n",
       "  (fc1): Linear(in_features=3, out_features=600, bias=True)\n",
       "  (fc2): Linear(in_features=600, out_features=200, bias=True)\n",
       "  (fc3): Linear(in_features=200, out_features=1, bias=True)\n",
       "  (sigmoid): Sigmoid()\n",
       "  (relu): ReLU()\n",
       ")"
      ]
     },
     "execution_count": 52,
     "metadata": {},
     "output_type": "execute_result"
    },
    {
     "name": "stdout",
     "output_type": "stream",
     "text": [
      "Training loss: 0.0001\n"
     ]
    },
    {
     "data": {
      "text/plain": [
       "NeuralNetwork(\n",
       "  (fc1): Linear(in_features=3, out_features=600, bias=True)\n",
       "  (fc2): Linear(in_features=600, out_features=200, bias=True)\n",
       "  (fc3): Linear(in_features=200, out_features=1, bias=True)\n",
       "  (sigmoid): Sigmoid()\n",
       "  (relu): ReLU()\n",
       ")"
      ]
     },
     "execution_count": 52,
     "metadata": {},
     "output_type": "execute_result"
    },
    {
     "name": "stdout",
     "output_type": "stream",
     "text": [
      "Test loss: 0.0000\n",
      "Test error for rho: L1 = 0.0004, Linf = 0.0066\n",
      "Test error for eps: L1 = 0.0001, Linf = 0.0206\n",
      "Test error for vx: L1 = 0.0004, Linf = 0.0704\n",
      "Test error for p: L1 = 0.0043, Linf = 0.0462\n",
      "Training error for rho: L1 = 0.0004, Linf = 0.0096\n",
      "Training error for eps: L1 = 0.0001, Linf = 0.0220\n",
      "Training error for vx: L1 = 0.0003, Linf = 0.0787\n",
      "Training error for p: L1 = 0.0043, Linf = 0.0713\n",
      "Epoch 22/200\n",
      "Learning rate: 0.0006\n"
     ]
    },
    {
     "data": {
      "text/plain": [
       "NeuralNetwork(\n",
       "  (fc1): Linear(in_features=3, out_features=600, bias=True)\n",
       "  (fc2): Linear(in_features=600, out_features=200, bias=True)\n",
       "  (fc3): Linear(in_features=200, out_features=1, bias=True)\n",
       "  (sigmoid): Sigmoid()\n",
       "  (relu): ReLU()\n",
       ")"
      ]
     },
     "execution_count": 52,
     "metadata": {},
     "output_type": "execute_result"
    },
    {
     "name": "stdout",
     "output_type": "stream",
     "text": [
      "Training loss: 0.0001\n"
     ]
    },
    {
     "data": {
      "text/plain": [
       "NeuralNetwork(\n",
       "  (fc1): Linear(in_features=3, out_features=600, bias=True)\n",
       "  (fc2): Linear(in_features=600, out_features=200, bias=True)\n",
       "  (fc3): Linear(in_features=200, out_features=1, bias=True)\n",
       "  (sigmoid): Sigmoid()\n",
       "  (relu): ReLU()\n",
       ")"
      ]
     },
     "execution_count": 52,
     "metadata": {},
     "output_type": "execute_result"
    },
    {
     "name": "stdout",
     "output_type": "stream",
     "text": [
      "Test loss: 0.0000\n",
      "Test error for rho: L1 = 0.0002, Linf = 0.0092\n",
      "Test error for eps: L1 = 0.0001, Linf = 0.0199\n",
      "Test error for vx: L1 = 0.0003, Linf = 0.0704\n",
      "Test error for p: L1 = 0.0020, Linf = 0.0636\n",
      "Training error for rho: L1 = 0.0002, Linf = 0.0121\n",
      "Training error for eps: L1 = 0.0000, Linf = 0.0220\n",
      "Training error for vx: L1 = 0.0003, Linf = 0.0787\n",
      "Training error for p: L1 = 0.0020, Linf = 0.0913\n",
      "Epoch 23/200\n",
      "Learning rate: 0.0006\n"
     ]
    },
    {
     "data": {
      "text/plain": [
       "NeuralNetwork(\n",
       "  (fc1): Linear(in_features=3, out_features=600, bias=True)\n",
       "  (fc2): Linear(in_features=600, out_features=200, bias=True)\n",
       "  (fc3): Linear(in_features=200, out_features=1, bias=True)\n",
       "  (sigmoid): Sigmoid()\n",
       "  (relu): ReLU()\n",
       ")"
      ]
     },
     "execution_count": 52,
     "metadata": {},
     "output_type": "execute_result"
    },
    {
     "name": "stdout",
     "output_type": "stream",
     "text": [
      "Training loss: 0.0001\n"
     ]
    },
    {
     "data": {
      "text/plain": [
       "NeuralNetwork(\n",
       "  (fc1): Linear(in_features=3, out_features=600, bias=True)\n",
       "  (fc2): Linear(in_features=600, out_features=200, bias=True)\n",
       "  (fc3): Linear(in_features=200, out_features=1, bias=True)\n",
       "  (sigmoid): Sigmoid()\n",
       "  (relu): ReLU()\n",
       ")"
      ]
     },
     "execution_count": 52,
     "metadata": {},
     "output_type": "execute_result"
    },
    {
     "name": "stdout",
     "output_type": "stream",
     "text": [
      "Test loss: 0.0000\n",
      "Test error for rho: L1 = 0.0005, Linf = 0.0072\n",
      "Test error for eps: L1 = 0.0001, Linf = 0.0301\n",
      "Test error for vx: L1 = 0.0007, Linf = 0.0774\n",
      "Test error for p: L1 = 0.0055, Linf = 0.0367\n",
      "Training error for rho: L1 = 0.0006, Linf = 0.0066\n",
      "Training error for eps: L1 = 0.0001, Linf = 0.0229\n",
      "Training error for vx: L1 = 0.0007, Linf = 0.0787\n",
      "Training error for p: L1 = 0.0056, Linf = 0.0659\n",
      "Epoch 24/200\n",
      "Learning rate: 0.0006\n"
     ]
    },
    {
     "data": {
      "text/plain": [
       "NeuralNetwork(\n",
       "  (fc1): Linear(in_features=3, out_features=600, bias=True)\n",
       "  (fc2): Linear(in_features=600, out_features=200, bias=True)\n",
       "  (fc3): Linear(in_features=200, out_features=1, bias=True)\n",
       "  (sigmoid): Sigmoid()\n",
       "  (relu): ReLU()\n",
       ")"
      ]
     },
     "execution_count": 52,
     "metadata": {},
     "output_type": "execute_result"
    },
    {
     "name": "stdout",
     "output_type": "stream",
     "text": [
      "Training loss: 0.0001\n"
     ]
    },
    {
     "data": {
      "text/plain": [
       "NeuralNetwork(\n",
       "  (fc1): Linear(in_features=3, out_features=600, bias=True)\n",
       "  (fc2): Linear(in_features=600, out_features=200, bias=True)\n",
       "  (fc3): Linear(in_features=200, out_features=1, bias=True)\n",
       "  (sigmoid): Sigmoid()\n",
       "  (relu): ReLU()\n",
       ")"
      ]
     },
     "execution_count": 52,
     "metadata": {},
     "output_type": "execute_result"
    },
    {
     "name": "stdout",
     "output_type": "stream",
     "text": [
      "Test loss: 0.0000\n",
      "Test error for rho: L1 = 0.0002, Linf = 0.0039\n",
      "Test error for eps: L1 = 0.0001, Linf = 0.0220\n",
      "Test error for vx: L1 = 0.0003, Linf = 0.0704\n",
      "Test error for p: L1 = 0.0021, Linf = 0.0219\n",
      "Training error for rho: L1 = 0.0002, Linf = 0.0057\n",
      "Training error for eps: L1 = 0.0000, Linf = 0.0220\n",
      "Training error for vx: L1 = 0.0003, Linf = 0.0787\n",
      "Training error for p: L1 = 0.0021, Linf = 0.0395\n",
      "Epoch 25/200\n",
      "Learning rate: 0.0006\n"
     ]
    },
    {
     "data": {
      "text/plain": [
       "NeuralNetwork(\n",
       "  (fc1): Linear(in_features=3, out_features=600, bias=True)\n",
       "  (fc2): Linear(in_features=600, out_features=200, bias=True)\n",
       "  (fc3): Linear(in_features=200, out_features=1, bias=True)\n",
       "  (sigmoid): Sigmoid()\n",
       "  (relu): ReLU()\n",
       ")"
      ]
     },
     "execution_count": 52,
     "metadata": {},
     "output_type": "execute_result"
    },
    {
     "name": "stdout",
     "output_type": "stream",
     "text": [
      "Training loss: 0.0001\n"
     ]
    },
    {
     "data": {
      "text/plain": [
       "NeuralNetwork(\n",
       "  (fc1): Linear(in_features=3, out_features=600, bias=True)\n",
       "  (fc2): Linear(in_features=600, out_features=200, bias=True)\n",
       "  (fc3): Linear(in_features=200, out_features=1, bias=True)\n",
       "  (sigmoid): Sigmoid()\n",
       "  (relu): ReLU()\n",
       ")"
      ]
     },
     "execution_count": 52,
     "metadata": {},
     "output_type": "execute_result"
    },
    {
     "name": "stdout",
     "output_type": "stream",
     "text": [
      "Test loss: 0.0000\n",
      "Test error for rho: L1 = 0.0003, Linf = 0.0049\n",
      "Test error for eps: L1 = 0.0001, Linf = 0.0228\n",
      "Test error for vx: L1 = 0.0004, Linf = 0.0704\n",
      "Test error for p: L1 = 0.0034, Linf = 0.0233\n",
      "Training error for rho: L1 = 0.0003, Linf = 0.0051\n",
      "Training error for eps: L1 = 0.0001, Linf = 0.0222\n",
      "Training error for vx: L1 = 0.0004, Linf = 0.0787\n",
      "Training error for p: L1 = 0.0034, Linf = 0.0428\n",
      "Epoch 26/200\n",
      "Learning rate: 0.0006\n"
     ]
    },
    {
     "data": {
      "text/plain": [
       "NeuralNetwork(\n",
       "  (fc1): Linear(in_features=3, out_features=600, bias=True)\n",
       "  (fc2): Linear(in_features=600, out_features=200, bias=True)\n",
       "  (fc3): Linear(in_features=200, out_features=1, bias=True)\n",
       "  (sigmoid): Sigmoid()\n",
       "  (relu): ReLU()\n",
       ")"
      ]
     },
     "execution_count": 52,
     "metadata": {},
     "output_type": "execute_result"
    },
    {
     "name": "stdout",
     "output_type": "stream",
     "text": [
      "Training loss: 0.0001\n"
     ]
    },
    {
     "data": {
      "text/plain": [
       "NeuralNetwork(\n",
       "  (fc1): Linear(in_features=3, out_features=600, bias=True)\n",
       "  (fc2): Linear(in_features=600, out_features=200, bias=True)\n",
       "  (fc3): Linear(in_features=200, out_features=1, bias=True)\n",
       "  (sigmoid): Sigmoid()\n",
       "  (relu): ReLU()\n",
       ")"
      ]
     },
     "execution_count": 52,
     "metadata": {},
     "output_type": "execute_result"
    },
    {
     "name": "stdout",
     "output_type": "stream",
     "text": [
      "Test loss: 0.0000\n",
      "Test error for rho: L1 = 0.0003, Linf = 0.0045\n",
      "Test error for eps: L1 = 0.0001, Linf = 0.0220\n",
      "Test error for vx: L1 = 0.0004, Linf = 0.0704\n",
      "Test error for p: L1 = 0.0032, Linf = 0.0223\n",
      "Training error for rho: L1 = 0.0003, Linf = 0.0062\n",
      "Training error for eps: L1 = 0.0001, Linf = 0.0220\n",
      "Training error for vx: L1 = 0.0004, Linf = 0.0787\n",
      "Training error for p: L1 = 0.0032, Linf = 0.0473\n",
      "Epoch 27/200\n",
      "Learning rate: 0.0006\n"
     ]
    },
    {
     "data": {
      "text/plain": [
       "NeuralNetwork(\n",
       "  (fc1): Linear(in_features=3, out_features=600, bias=True)\n",
       "  (fc2): Linear(in_features=600, out_features=200, bias=True)\n",
       "  (fc3): Linear(in_features=200, out_features=1, bias=True)\n",
       "  (sigmoid): Sigmoid()\n",
       "  (relu): ReLU()\n",
       ")"
      ]
     },
     "execution_count": 52,
     "metadata": {},
     "output_type": "execute_result"
    },
    {
     "name": "stdout",
     "output_type": "stream",
     "text": [
      "Training loss: 0.0001\n"
     ]
    },
    {
     "data": {
      "text/plain": [
       "NeuralNetwork(\n",
       "  (fc1): Linear(in_features=3, out_features=600, bias=True)\n",
       "  (fc2): Linear(in_features=600, out_features=200, bias=True)\n",
       "  (fc3): Linear(in_features=200, out_features=1, bias=True)\n",
       "  (sigmoid): Sigmoid()\n",
       "  (relu): ReLU()\n",
       ")"
      ]
     },
     "execution_count": 52,
     "metadata": {},
     "output_type": "execute_result"
    },
    {
     "name": "stdout",
     "output_type": "stream",
     "text": [
      "Test loss: 0.0000\n",
      "Test error for rho: L1 = 0.0003, Linf = 0.0051\n",
      "Test error for eps: L1 = 0.0001, Linf = 0.0213\n",
      "Test error for vx: L1 = 0.0004, Linf = 0.0704\n",
      "Test error for p: L1 = 0.0026, Linf = 0.0238\n",
      "Training error for rho: L1 = 0.0003, Linf = 0.0064\n",
      "Training error for eps: L1 = 0.0001, Linf = 0.0220\n",
      "Training error for vx: L1 = 0.0004, Linf = 0.0787\n",
      "Training error for p: L1 = 0.0026, Linf = 0.0489\n",
      "Epoch 28/200\n",
      "Learning rate: 0.0006\n"
     ]
    },
    {
     "data": {
      "text/plain": [
       "NeuralNetwork(\n",
       "  (fc1): Linear(in_features=3, out_features=600, bias=True)\n",
       "  (fc2): Linear(in_features=600, out_features=200, bias=True)\n",
       "  (fc3): Linear(in_features=200, out_features=1, bias=True)\n",
       "  (sigmoid): Sigmoid()\n",
       "  (relu): ReLU()\n",
       ")"
      ]
     },
     "execution_count": 52,
     "metadata": {},
     "output_type": "execute_result"
    },
    {
     "name": "stdout",
     "output_type": "stream",
     "text": [
      "Training loss: 0.0001\n"
     ]
    },
    {
     "data": {
      "text/plain": [
       "NeuralNetwork(\n",
       "  (fc1): Linear(in_features=3, out_features=600, bias=True)\n",
       "  (fc2): Linear(in_features=600, out_features=200, bias=True)\n",
       "  (fc3): Linear(in_features=200, out_features=1, bias=True)\n",
       "  (sigmoid): Sigmoid()\n",
       "  (relu): ReLU()\n",
       ")"
      ]
     },
     "execution_count": 52,
     "metadata": {},
     "output_type": "execute_result"
    },
    {
     "name": "stdout",
     "output_type": "stream",
     "text": [
      "Test loss: 0.0000\n",
      "Test error for rho: L1 = 0.0003, Linf = 0.0056\n",
      "Test error for eps: L1 = 0.0000, Linf = 0.0200\n",
      "Test error for vx: L1 = 0.0002, Linf = 0.0252\n",
      "Test error for p: L1 = 0.0036, Linf = 0.0383\n",
      "Training error for rho: L1 = 0.0003, Linf = 0.0062\n",
      "Training error for eps: L1 = 0.0000, Linf = 0.0284\n",
      "Training error for vx: L1 = 0.0002, Linf = 0.0369\n",
      "Training error for p: L1 = 0.0038, Linf = 0.0416\n",
      "Epoch 29/200\n",
      "Learning rate: 0.0006\n"
     ]
    },
    {
     "data": {
      "text/plain": [
       "NeuralNetwork(\n",
       "  (fc1): Linear(in_features=3, out_features=600, bias=True)\n",
       "  (fc2): Linear(in_features=600, out_features=200, bias=True)\n",
       "  (fc3): Linear(in_features=200, out_features=1, bias=True)\n",
       "  (sigmoid): Sigmoid()\n",
       "  (relu): ReLU()\n",
       ")"
      ]
     },
     "execution_count": 52,
     "metadata": {},
     "output_type": "execute_result"
    },
    {
     "name": "stdout",
     "output_type": "stream",
     "text": [
      "Training loss: 0.0001\n"
     ]
    },
    {
     "data": {
      "text/plain": [
       "NeuralNetwork(\n",
       "  (fc1): Linear(in_features=3, out_features=600, bias=True)\n",
       "  (fc2): Linear(in_features=600, out_features=200, bias=True)\n",
       "  (fc3): Linear(in_features=200, out_features=1, bias=True)\n",
       "  (sigmoid): Sigmoid()\n",
       "  (relu): ReLU()\n",
       ")"
      ]
     },
     "execution_count": 52,
     "metadata": {},
     "output_type": "execute_result"
    },
    {
     "name": "stdout",
     "output_type": "stream",
     "text": [
      "Test loss: 0.0000\n",
      "Test error for rho: L1 = 0.0003, Linf = 0.0037\n",
      "Test error for eps: L1 = 0.0000, Linf = 0.0118\n",
      "Test error for vx: L1 = 0.0002, Linf = 0.0662\n",
      "Test error for p: L1 = 0.0031, Linf = 0.0266\n",
      "Training error for rho: L1 = 0.0003, Linf = 0.0054\n",
      "Training error for eps: L1 = 0.0000, Linf = 0.0195\n",
      "Training error for vx: L1 = 0.0002, Linf = 0.0722\n",
      "Training error for p: L1 = 0.0031, Linf = 0.0277\n",
      "Epoch 30/200\n",
      "Learning rate: 0.0003\n"
     ]
    },
    {
     "data": {
      "text/plain": [
       "NeuralNetwork(\n",
       "  (fc1): Linear(in_features=3, out_features=600, bias=True)\n",
       "  (fc2): Linear(in_features=600, out_features=200, bias=True)\n",
       "  (fc3): Linear(in_features=200, out_features=1, bias=True)\n",
       "  (sigmoid): Sigmoid()\n",
       "  (relu): ReLU()\n",
       ")"
      ]
     },
     "execution_count": 52,
     "metadata": {},
     "output_type": "execute_result"
    },
    {
     "name": "stdout",
     "output_type": "stream",
     "text": [
      "Training loss: 0.0000\n"
     ]
    },
    {
     "data": {
      "text/plain": [
       "NeuralNetwork(\n",
       "  (fc1): Linear(in_features=3, out_features=600, bias=True)\n",
       "  (fc2): Linear(in_features=600, out_features=200, bias=True)\n",
       "  (fc3): Linear(in_features=200, out_features=1, bias=True)\n",
       "  (sigmoid): Sigmoid()\n",
       "  (relu): ReLU()\n",
       ")"
      ]
     },
     "execution_count": 52,
     "metadata": {},
     "output_type": "execute_result"
    },
    {
     "name": "stdout",
     "output_type": "stream",
     "text": [
      "Test loss: 0.0000\n",
      "Test error for rho: L1 = 0.0005, Linf = 0.0049\n",
      "Test error for eps: L1 = 0.0001, Linf = 0.0152\n",
      "Test error for vx: L1 = 0.0003, Linf = 0.0662\n",
      "Test error for p: L1 = 0.0049, Linf = 0.0194\n",
      "Training error for rho: L1 = 0.0005, Linf = 0.0054\n",
      "Training error for eps: L1 = 0.0001, Linf = 0.0236\n",
      "Training error for vx: L1 = 0.0003, Linf = 0.0722\n",
      "Training error for p: L1 = 0.0049, Linf = 0.0316\n",
      "Epoch 31/200\n",
      "Learning rate: 0.0003\n"
     ]
    },
    {
     "data": {
      "text/plain": [
       "NeuralNetwork(\n",
       "  (fc1): Linear(in_features=3, out_features=600, bias=True)\n",
       "  (fc2): Linear(in_features=600, out_features=200, bias=True)\n",
       "  (fc3): Linear(in_features=200, out_features=1, bias=True)\n",
       "  (sigmoid): Sigmoid()\n",
       "  (relu): ReLU()\n",
       ")"
      ]
     },
     "execution_count": 52,
     "metadata": {},
     "output_type": "execute_result"
    },
    {
     "name": "stdout",
     "output_type": "stream",
     "text": [
      "Training loss: 0.0000\n"
     ]
    },
    {
     "data": {
      "text/plain": [
       "NeuralNetwork(\n",
       "  (fc1): Linear(in_features=3, out_features=600, bias=True)\n",
       "  (fc2): Linear(in_features=600, out_features=200, bias=True)\n",
       "  (fc3): Linear(in_features=200, out_features=1, bias=True)\n",
       "  (sigmoid): Sigmoid()\n",
       "  (relu): ReLU()\n",
       ")"
      ]
     },
     "execution_count": 52,
     "metadata": {},
     "output_type": "execute_result"
    },
    {
     "name": "stdout",
     "output_type": "stream",
     "text": [
      "Test loss: 0.0000\n",
      "Test error for rho: L1 = 0.0004, Linf = 0.0052\n",
      "Test error for eps: L1 = 0.0001, Linf = 0.0186\n",
      "Test error for vx: L1 = 0.0002, Linf = 0.0662\n",
      "Test error for p: L1 = 0.0046, Linf = 0.0207\n",
      "Training error for rho: L1 = 0.0004, Linf = 0.0057\n",
      "Training error for eps: L1 = 0.0001, Linf = 0.0268\n",
      "Training error for vx: L1 = 0.0002, Linf = 0.0722\n",
      "Training error for p: L1 = 0.0046, Linf = 0.0353\n",
      "Epoch 32/200\n",
      "Learning rate: 0.0003\n"
     ]
    },
    {
     "data": {
      "text/plain": [
       "NeuralNetwork(\n",
       "  (fc1): Linear(in_features=3, out_features=600, bias=True)\n",
       "  (fc2): Linear(in_features=600, out_features=200, bias=True)\n",
       "  (fc3): Linear(in_features=200, out_features=1, bias=True)\n",
       "  (sigmoid): Sigmoid()\n",
       "  (relu): ReLU()\n",
       ")"
      ]
     },
     "execution_count": 52,
     "metadata": {},
     "output_type": "execute_result"
    },
    {
     "name": "stdout",
     "output_type": "stream",
     "text": [
      "Training loss: 0.0000\n"
     ]
    },
    {
     "data": {
      "text/plain": [
       "NeuralNetwork(\n",
       "  (fc1): Linear(in_features=3, out_features=600, bias=True)\n",
       "  (fc2): Linear(in_features=600, out_features=200, bias=True)\n",
       "  (fc3): Linear(in_features=200, out_features=1, bias=True)\n",
       "  (sigmoid): Sigmoid()\n",
       "  (relu): ReLU()\n",
       ")"
      ]
     },
     "execution_count": 52,
     "metadata": {},
     "output_type": "execute_result"
    },
    {
     "name": "stdout",
     "output_type": "stream",
     "text": [
      "Test loss: 0.0000\n",
      "Test error for rho: L1 = 0.0003, Linf = 0.0046\n",
      "Test error for eps: L1 = 0.0000, Linf = 0.0142\n",
      "Test error for vx: L1 = 0.0002, Linf = 0.0662\n",
      "Test error for p: L1 = 0.0036, Linf = 0.0171\n",
      "Training error for rho: L1 = 0.0003, Linf = 0.0064\n",
      "Training error for eps: L1 = 0.0000, Linf = 0.0220\n",
      "Training error for vx: L1 = 0.0002, Linf = 0.0722\n",
      "Training error for p: L1 = 0.0036, Linf = 0.0291\n",
      "Epoch 33/200\n",
      "Learning rate: 0.0003\n"
     ]
    },
    {
     "data": {
      "text/plain": [
       "NeuralNetwork(\n",
       "  (fc1): Linear(in_features=3, out_features=600, bias=True)\n",
       "  (fc2): Linear(in_features=600, out_features=200, bias=True)\n",
       "  (fc3): Linear(in_features=200, out_features=1, bias=True)\n",
       "  (sigmoid): Sigmoid()\n",
       "  (relu): ReLU()\n",
       ")"
      ]
     },
     "execution_count": 52,
     "metadata": {},
     "output_type": "execute_result"
    },
    {
     "name": "stdout",
     "output_type": "stream",
     "text": [
      "Training loss: 0.0000\n"
     ]
    },
    {
     "data": {
      "text/plain": [
       "NeuralNetwork(\n",
       "  (fc1): Linear(in_features=3, out_features=600, bias=True)\n",
       "  (fc2): Linear(in_features=600, out_features=200, bias=True)\n",
       "  (fc3): Linear(in_features=200, out_features=1, bias=True)\n",
       "  (sigmoid): Sigmoid()\n",
       "  (relu): ReLU()\n",
       ")"
      ]
     },
     "execution_count": 52,
     "metadata": {},
     "output_type": "execute_result"
    },
    {
     "name": "stdout",
     "output_type": "stream",
     "text": [
      "Test loss: 0.0000\n",
      "Test error for rho: L1 = 0.0001, Linf = 0.0034\n",
      "Test error for eps: L1 = 0.0000, Linf = 0.0157\n",
      "Test error for vx: L1 = 0.0002, Linf = 0.0662\n",
      "Test error for p: L1 = 0.0019, Linf = 0.0252\n",
      "Training error for rho: L1 = 0.0001, Linf = 0.0037\n",
      "Training error for eps: L1 = 0.0000, Linf = 0.0230\n",
      "Training error for vx: L1 = 0.0002, Linf = 0.0722\n",
      "Training error for p: L1 = 0.0019, Linf = 0.0260\n",
      "Epoch 34/200\n",
      "Learning rate: 0.0003\n"
     ]
    },
    {
     "data": {
      "text/plain": [
       "NeuralNetwork(\n",
       "  (fc1): Linear(in_features=3, out_features=600, bias=True)\n",
       "  (fc2): Linear(in_features=600, out_features=200, bias=True)\n",
       "  (fc3): Linear(in_features=200, out_features=1, bias=True)\n",
       "  (sigmoid): Sigmoid()\n",
       "  (relu): ReLU()\n",
       ")"
      ]
     },
     "execution_count": 52,
     "metadata": {},
     "output_type": "execute_result"
    },
    {
     "name": "stdout",
     "output_type": "stream",
     "text": [
      "Training loss: 0.0000\n"
     ]
    },
    {
     "data": {
      "text/plain": [
       "NeuralNetwork(\n",
       "  (fc1): Linear(in_features=3, out_features=600, bias=True)\n",
       "  (fc2): Linear(in_features=600, out_features=200, bias=True)\n",
       "  (fc3): Linear(in_features=200, out_features=1, bias=True)\n",
       "  (sigmoid): Sigmoid()\n",
       "  (relu): ReLU()\n",
       ")"
      ]
     },
     "execution_count": 52,
     "metadata": {},
     "output_type": "execute_result"
    },
    {
     "name": "stdout",
     "output_type": "stream",
     "text": [
      "Test loss: 0.0000\n",
      "Test error for rho: L1 = 0.0002, Linf = 0.0043\n",
      "Test error for eps: L1 = 0.0000, Linf = 0.0154\n",
      "Test error for vx: L1 = 0.0003, Linf = 0.0662\n",
      "Test error for p: L1 = 0.0021, Linf = 0.0194\n",
      "Training error for rho: L1 = 0.0002, Linf = 0.0041\n",
      "Training error for eps: L1 = 0.0000, Linf = 0.0190\n",
      "Training error for vx: L1 = 0.0003, Linf = 0.0722\n",
      "Training error for p: L1 = 0.0021, Linf = 0.0209\n",
      "Epoch 35/200\n",
      "Learning rate: 0.0003\n"
     ]
    },
    {
     "data": {
      "text/plain": [
       "NeuralNetwork(\n",
       "  (fc1): Linear(in_features=3, out_features=600, bias=True)\n",
       "  (fc2): Linear(in_features=600, out_features=200, bias=True)\n",
       "  (fc3): Linear(in_features=200, out_features=1, bias=True)\n",
       "  (sigmoid): Sigmoid()\n",
       "  (relu): ReLU()\n",
       ")"
      ]
     },
     "execution_count": 52,
     "metadata": {},
     "output_type": "execute_result"
    },
    {
     "name": "stdout",
     "output_type": "stream",
     "text": [
      "Training loss: 0.0000\n"
     ]
    },
    {
     "data": {
      "text/plain": [
       "NeuralNetwork(\n",
       "  (fc1): Linear(in_features=3, out_features=600, bias=True)\n",
       "  (fc2): Linear(in_features=600, out_features=200, bias=True)\n",
       "  (fc3): Linear(in_features=200, out_features=1, bias=True)\n",
       "  (sigmoid): Sigmoid()\n",
       "  (relu): ReLU()\n",
       ")"
      ]
     },
     "execution_count": 52,
     "metadata": {},
     "output_type": "execute_result"
    },
    {
     "name": "stdout",
     "output_type": "stream",
     "text": [
      "Test loss: 0.0000\n",
      "Test error for rho: L1 = 0.0001, Linf = 0.0033\n",
      "Test error for eps: L1 = 0.0000, Linf = 0.0176\n",
      "Test error for vx: L1 = 0.0002, Linf = 0.0662\n",
      "Test error for p: L1 = 0.0016, Linf = 0.0246\n",
      "Training error for rho: L1 = 0.0001, Linf = 0.0039\n",
      "Training error for eps: L1 = 0.0000, Linf = 0.0249\n",
      "Training error for vx: L1 = 0.0002, Linf = 0.0722\n",
      "Training error for p: L1 = 0.0016, Linf = 0.0271\n",
      "Epoch 36/200\n",
      "Learning rate: 0.0003\n"
     ]
    },
    {
     "data": {
      "text/plain": [
       "NeuralNetwork(\n",
       "  (fc1): Linear(in_features=3, out_features=600, bias=True)\n",
       "  (fc2): Linear(in_features=600, out_features=200, bias=True)\n",
       "  (fc3): Linear(in_features=200, out_features=1, bias=True)\n",
       "  (sigmoid): Sigmoid()\n",
       "  (relu): ReLU()\n",
       ")"
      ]
     },
     "execution_count": 52,
     "metadata": {},
     "output_type": "execute_result"
    },
    {
     "name": "stdout",
     "output_type": "stream",
     "text": [
      "Training loss: 0.0000\n"
     ]
    },
    {
     "data": {
      "text/plain": [
       "NeuralNetwork(\n",
       "  (fc1): Linear(in_features=3, out_features=600, bias=True)\n",
       "  (fc2): Linear(in_features=600, out_features=200, bias=True)\n",
       "  (fc3): Linear(in_features=200, out_features=1, bias=True)\n",
       "  (sigmoid): Sigmoid()\n",
       "  (relu): ReLU()\n",
       ")"
      ]
     },
     "execution_count": 52,
     "metadata": {},
     "output_type": "execute_result"
    },
    {
     "name": "stdout",
     "output_type": "stream",
     "text": [
      "Test loss: 0.0000\n",
      "Test error for rho: L1 = 0.0002, Linf = 0.0037\n",
      "Test error for eps: L1 = 0.0000, Linf = 0.0154\n",
      "Test error for vx: L1 = 0.0002, Linf = 0.0662\n",
      "Test error for p: L1 = 0.0018, Linf = 0.0250\n",
      "Training error for rho: L1 = 0.0002, Linf = 0.0050\n",
      "Training error for eps: L1 = 0.0000, Linf = 0.0242\n",
      "Training error for vx: L1 = 0.0002, Linf = 0.0722\n",
      "Training error for p: L1 = 0.0018, Linf = 0.0384\n",
      "Epoch 37/200\n",
      "Learning rate: 0.0003\n"
     ]
    },
    {
     "data": {
      "text/plain": [
       "NeuralNetwork(\n",
       "  (fc1): Linear(in_features=3, out_features=600, bias=True)\n",
       "  (fc2): Linear(in_features=600, out_features=200, bias=True)\n",
       "  (fc3): Linear(in_features=200, out_features=1, bias=True)\n",
       "  (sigmoid): Sigmoid()\n",
       "  (relu): ReLU()\n",
       ")"
      ]
     },
     "execution_count": 52,
     "metadata": {},
     "output_type": "execute_result"
    },
    {
     "name": "stdout",
     "output_type": "stream",
     "text": [
      "Training loss: 0.0000\n"
     ]
    },
    {
     "data": {
      "text/plain": [
       "NeuralNetwork(\n",
       "  (fc1): Linear(in_features=3, out_features=600, bias=True)\n",
       "  (fc2): Linear(in_features=600, out_features=200, bias=True)\n",
       "  (fc3): Linear(in_features=200, out_features=1, bias=True)\n",
       "  (sigmoid): Sigmoid()\n",
       "  (relu): ReLU()\n",
       ")"
      ]
     },
     "execution_count": 52,
     "metadata": {},
     "output_type": "execute_result"
    },
    {
     "name": "stdout",
     "output_type": "stream",
     "text": [
      "Test loss: 0.0000\n",
      "Test error for rho: L1 = 0.0002, Linf = 0.0038\n",
      "Test error for eps: L1 = 0.0000, Linf = 0.0144\n",
      "Test error for vx: L1 = 0.0002, Linf = 0.0662\n",
      "Test error for p: L1 = 0.0018, Linf = 0.0178\n",
      "Training error for rho: L1 = 0.0002, Linf = 0.0036\n",
      "Training error for eps: L1 = 0.0000, Linf = 0.0194\n",
      "Training error for vx: L1 = 0.0002, Linf = 0.0722\n",
      "Training error for p: L1 = 0.0019, Linf = 0.0187\n",
      "Epoch 38/200\n",
      "Learning rate: 0.0003\n"
     ]
    },
    {
     "data": {
      "text/plain": [
       "NeuralNetwork(\n",
       "  (fc1): Linear(in_features=3, out_features=600, bias=True)\n",
       "  (fc2): Linear(in_features=600, out_features=200, bias=True)\n",
       "  (fc3): Linear(in_features=200, out_features=1, bias=True)\n",
       "  (sigmoid): Sigmoid()\n",
       "  (relu): ReLU()\n",
       ")"
      ]
     },
     "execution_count": 52,
     "metadata": {},
     "output_type": "execute_result"
    },
    {
     "name": "stdout",
     "output_type": "stream",
     "text": [
      "Training loss: 0.0000\n"
     ]
    },
    {
     "data": {
      "text/plain": [
       "NeuralNetwork(\n",
       "  (fc1): Linear(in_features=3, out_features=600, bias=True)\n",
       "  (fc2): Linear(in_features=600, out_features=200, bias=True)\n",
       "  (fc3): Linear(in_features=200, out_features=1, bias=True)\n",
       "  (sigmoid): Sigmoid()\n",
       "  (relu): ReLU()\n",
       ")"
      ]
     },
     "execution_count": 52,
     "metadata": {},
     "output_type": "execute_result"
    },
    {
     "name": "stdout",
     "output_type": "stream",
     "text": [
      "Test loss: 0.0000\n",
      "Test error for rho: L1 = 0.0001, Linf = 0.0028\n",
      "Test error for eps: L1 = 0.0000, Linf = 0.0180\n",
      "Test error for vx: L1 = 0.0002, Linf = 0.0662\n",
      "Test error for p: L1 = 0.0017, Linf = 0.0194\n",
      "Training error for rho: L1 = 0.0001, Linf = 0.0029\n",
      "Training error for eps: L1 = 0.0000, Linf = 0.0254\n",
      "Training error for vx: L1 = 0.0002, Linf = 0.0722\n",
      "Training error for p: L1 = 0.0017, Linf = 0.0204\n",
      "Epoch 39/200\n",
      "Learning rate: 0.0003\n"
     ]
    },
    {
     "data": {
      "text/plain": [
       "NeuralNetwork(\n",
       "  (fc1): Linear(in_features=3, out_features=600, bias=True)\n",
       "  (fc2): Linear(in_features=600, out_features=200, bias=True)\n",
       "  (fc3): Linear(in_features=200, out_features=1, bias=True)\n",
       "  (sigmoid): Sigmoid()\n",
       "  (relu): ReLU()\n",
       ")"
      ]
     },
     "execution_count": 52,
     "metadata": {},
     "output_type": "execute_result"
    },
    {
     "name": "stdout",
     "output_type": "stream",
     "text": [
      "Training loss: 0.0000\n"
     ]
    },
    {
     "data": {
      "text/plain": [
       "NeuralNetwork(\n",
       "  (fc1): Linear(in_features=3, out_features=600, bias=True)\n",
       "  (fc2): Linear(in_features=600, out_features=200, bias=True)\n",
       "  (fc3): Linear(in_features=200, out_features=1, bias=True)\n",
       "  (sigmoid): Sigmoid()\n",
       "  (relu): ReLU()\n",
       ")"
      ]
     },
     "execution_count": 52,
     "metadata": {},
     "output_type": "execute_result"
    },
    {
     "name": "stdout",
     "output_type": "stream",
     "text": [
      "Test loss: 0.0000\n",
      "Test error for rho: L1 = 0.0001, Linf = 0.0033\n",
      "Test error for eps: L1 = 0.0000, Linf = 0.0156\n",
      "Test error for vx: L1 = 0.0002, Linf = 0.0662\n",
      "Test error for p: L1 = 0.0017, Linf = 0.0140\n",
      "Training error for rho: L1 = 0.0001, Linf = 0.0032\n",
      "Training error for eps: L1 = 0.0000, Linf = 0.0228\n",
      "Training error for vx: L1 = 0.0002, Linf = 0.0722\n",
      "Training error for p: L1 = 0.0017, Linf = 0.0158\n",
      "Epoch 40/200\n",
      "Learning rate: 0.0003\n"
     ]
    },
    {
     "data": {
      "text/plain": [
       "NeuralNetwork(\n",
       "  (fc1): Linear(in_features=3, out_features=600, bias=True)\n",
       "  (fc2): Linear(in_features=600, out_features=200, bias=True)\n",
       "  (fc3): Linear(in_features=200, out_features=1, bias=True)\n",
       "  (sigmoid): Sigmoid()\n",
       "  (relu): ReLU()\n",
       ")"
      ]
     },
     "execution_count": 52,
     "metadata": {},
     "output_type": "execute_result"
    },
    {
     "name": "stdout",
     "output_type": "stream",
     "text": [
      "Training loss: 0.0000\n"
     ]
    },
    {
     "data": {
      "text/plain": [
       "NeuralNetwork(\n",
       "  (fc1): Linear(in_features=3, out_features=600, bias=True)\n",
       "  (fc2): Linear(in_features=600, out_features=200, bias=True)\n",
       "  (fc3): Linear(in_features=200, out_features=1, bias=True)\n",
       "  (sigmoid): Sigmoid()\n",
       "  (relu): ReLU()\n",
       ")"
      ]
     },
     "execution_count": 52,
     "metadata": {},
     "output_type": "execute_result"
    },
    {
     "name": "stdout",
     "output_type": "stream",
     "text": [
      "Test loss: 0.0000\n",
      "Test error for rho: L1 = 0.0001, Linf = 0.0034\n",
      "Test error for eps: L1 = 0.0000, Linf = 0.0150\n",
      "Test error for vx: L1 = 0.0002, Linf = 0.0662\n",
      "Test error for p: L1 = 0.0015, Linf = 0.0175\n",
      "Training error for rho: L1 = 0.0001, Linf = 0.0034\n",
      "Training error for eps: L1 = 0.0000, Linf = 0.0223\n",
      "Training error for vx: L1 = 0.0002, Linf = 0.0722\n",
      "Training error for p: L1 = 0.0015, Linf = 0.0184\n",
      "Epoch 41/200\n",
      "Learning rate: 0.0003\n"
     ]
    },
    {
     "data": {
      "text/plain": [
       "NeuralNetwork(\n",
       "  (fc1): Linear(in_features=3, out_features=600, bias=True)\n",
       "  (fc2): Linear(in_features=600, out_features=200, bias=True)\n",
       "  (fc3): Linear(in_features=200, out_features=1, bias=True)\n",
       "  (sigmoid): Sigmoid()\n",
       "  (relu): ReLU()\n",
       ")"
      ]
     },
     "execution_count": 52,
     "metadata": {},
     "output_type": "execute_result"
    },
    {
     "name": "stdout",
     "output_type": "stream",
     "text": [
      "Training loss: 0.0000\n"
     ]
    },
    {
     "data": {
      "text/plain": [
       "NeuralNetwork(\n",
       "  (fc1): Linear(in_features=3, out_features=600, bias=True)\n",
       "  (fc2): Linear(in_features=600, out_features=200, bias=True)\n",
       "  (fc3): Linear(in_features=200, out_features=1, bias=True)\n",
       "  (sigmoid): Sigmoid()\n",
       "  (relu): ReLU()\n",
       ")"
      ]
     },
     "execution_count": 52,
     "metadata": {},
     "output_type": "execute_result"
    },
    {
     "name": "stdout",
     "output_type": "stream",
     "text": [
      "Test loss: 0.0000\n",
      "Test error for rho: L1 = 0.0002, Linf = 0.0028\n",
      "Test error for eps: L1 = 0.0000, Linf = 0.0201\n",
      "Test error for vx: L1 = 0.0002, Linf = 0.0662\n",
      "Test error for p: L1 = 0.0023, Linf = 0.0126\n",
      "Training error for rho: L1 = 0.0002, Linf = 0.0033\n",
      "Training error for eps: L1 = 0.0000, Linf = 0.0286\n",
      "Training error for vx: L1 = 0.0002, Linf = 0.0722\n",
      "Training error for p: L1 = 0.0023, Linf = 0.0164\n",
      "Epoch 42/200\n",
      "Learning rate: 0.0003\n"
     ]
    },
    {
     "data": {
      "text/plain": [
       "NeuralNetwork(\n",
       "  (fc1): Linear(in_features=3, out_features=600, bias=True)\n",
       "  (fc2): Linear(in_features=600, out_features=200, bias=True)\n",
       "  (fc3): Linear(in_features=200, out_features=1, bias=True)\n",
       "  (sigmoid): Sigmoid()\n",
       "  (relu): ReLU()\n",
       ")"
      ]
     },
     "execution_count": 52,
     "metadata": {},
     "output_type": "execute_result"
    },
    {
     "name": "stdout",
     "output_type": "stream",
     "text": [
      "Training loss: 0.0000\n"
     ]
    },
    {
     "data": {
      "text/plain": [
       "NeuralNetwork(\n",
       "  (fc1): Linear(in_features=3, out_features=600, bias=True)\n",
       "  (fc2): Linear(in_features=600, out_features=200, bias=True)\n",
       "  (fc3): Linear(in_features=200, out_features=1, bias=True)\n",
       "  (sigmoid): Sigmoid()\n",
       "  (relu): ReLU()\n",
       ")"
      ]
     },
     "execution_count": 52,
     "metadata": {},
     "output_type": "execute_result"
    },
    {
     "name": "stdout",
     "output_type": "stream",
     "text": [
      "Test loss: 0.0000\n",
      "Test error for rho: L1 = 0.0003, Linf = 0.0031\n",
      "Test error for eps: L1 = 0.0000, Linf = 0.0200\n",
      "Test error for vx: L1 = 0.0002, Linf = 0.0662\n",
      "Test error for p: L1 = 0.0030, Linf = 0.0164\n",
      "Training error for rho: L1 = 0.0003, Linf = 0.0036\n",
      "Training error for eps: L1 = 0.0000, Linf = 0.0284\n",
      "Training error for vx: L1 = 0.0002, Linf = 0.0722\n",
      "Training error for p: L1 = 0.0030, Linf = 0.0191\n",
      "Epoch 43/200\n",
      "Learning rate: 0.0003\n"
     ]
    },
    {
     "data": {
      "text/plain": [
       "NeuralNetwork(\n",
       "  (fc1): Linear(in_features=3, out_features=600, bias=True)\n",
       "  (fc2): Linear(in_features=600, out_features=200, bias=True)\n",
       "  (fc3): Linear(in_features=200, out_features=1, bias=True)\n",
       "  (sigmoid): Sigmoid()\n",
       "  (relu): ReLU()\n",
       ")"
      ]
     },
     "execution_count": 52,
     "metadata": {},
     "output_type": "execute_result"
    },
    {
     "name": "stdout",
     "output_type": "stream",
     "text": [
      "Training loss: 0.0000\n"
     ]
    },
    {
     "data": {
      "text/plain": [
       "NeuralNetwork(\n",
       "  (fc1): Linear(in_features=3, out_features=600, bias=True)\n",
       "  (fc2): Linear(in_features=600, out_features=200, bias=True)\n",
       "  (fc3): Linear(in_features=200, out_features=1, bias=True)\n",
       "  (sigmoid): Sigmoid()\n",
       "  (relu): ReLU()\n",
       ")"
      ]
     },
     "execution_count": 52,
     "metadata": {},
     "output_type": "execute_result"
    },
    {
     "name": "stdout",
     "output_type": "stream",
     "text": [
      "Test loss: 0.0000\n",
      "Test error for rho: L1 = 0.0001, Linf = 0.0027\n",
      "Test error for eps: L1 = 0.0000, Linf = 0.0167\n",
      "Test error for vx: L1 = 0.0002, Linf = 0.0662\n",
      "Test error for p: L1 = 0.0009, Linf = 0.0198\n",
      "Training error for rho: L1 = 0.0001, Linf = 0.0047\n",
      "Training error for eps: L1 = 0.0000, Linf = 0.0245\n",
      "Training error for vx: L1 = 0.0002, Linf = 0.0722\n",
      "Training error for p: L1 = 0.0009, Linf = 0.0356\n",
      "Epoch 44/200\n",
      "Learning rate: 0.0003\n"
     ]
    },
    {
     "data": {
      "text/plain": [
       "NeuralNetwork(\n",
       "  (fc1): Linear(in_features=3, out_features=600, bias=True)\n",
       "  (fc2): Linear(in_features=600, out_features=200, bias=True)\n",
       "  (fc3): Linear(in_features=200, out_features=1, bias=True)\n",
       "  (sigmoid): Sigmoid()\n",
       "  (relu): ReLU()\n",
       ")"
      ]
     },
     "execution_count": 52,
     "metadata": {},
     "output_type": "execute_result"
    },
    {
     "name": "stdout",
     "output_type": "stream",
     "text": [
      "Training loss: 0.0000\n"
     ]
    },
    {
     "data": {
      "text/plain": [
       "NeuralNetwork(\n",
       "  (fc1): Linear(in_features=3, out_features=600, bias=True)\n",
       "  (fc2): Linear(in_features=600, out_features=200, bias=True)\n",
       "  (fc3): Linear(in_features=200, out_features=1, bias=True)\n",
       "  (sigmoid): Sigmoid()\n",
       "  (relu): ReLU()\n",
       ")"
      ]
     },
     "execution_count": 52,
     "metadata": {},
     "output_type": "execute_result"
    },
    {
     "name": "stdout",
     "output_type": "stream",
     "text": [
      "Test loss: 0.0000\n",
      "Test error for rho: L1 = 0.0001, Linf = 0.0023\n",
      "Test error for eps: L1 = 0.0000, Linf = 0.0191\n",
      "Test error for vx: L1 = 0.0002, Linf = 0.0662\n",
      "Test error for p: L1 = 0.0015, Linf = 0.0171\n",
      "Training error for rho: L1 = 0.0001, Linf = 0.0036\n",
      "Training error for eps: L1 = 0.0000, Linf = 0.0272\n",
      "Training error for vx: L1 = 0.0002, Linf = 0.0722\n",
      "Training error for p: L1 = 0.0014, Linf = 0.0272\n",
      "Epoch 45/200\n",
      "Learning rate: 0.0003\n"
     ]
    },
    {
     "data": {
      "text/plain": [
       "NeuralNetwork(\n",
       "  (fc1): Linear(in_features=3, out_features=600, bias=True)\n",
       "  (fc2): Linear(in_features=600, out_features=200, bias=True)\n",
       "  (fc3): Linear(in_features=200, out_features=1, bias=True)\n",
       "  (sigmoid): Sigmoid()\n",
       "  (relu): ReLU()\n",
       ")"
      ]
     },
     "execution_count": 52,
     "metadata": {},
     "output_type": "execute_result"
    },
    {
     "name": "stdout",
     "output_type": "stream",
     "text": [
      "Training loss: 0.0000\n"
     ]
    },
    {
     "data": {
      "text/plain": [
       "NeuralNetwork(\n",
       "  (fc1): Linear(in_features=3, out_features=600, bias=True)\n",
       "  (fc2): Linear(in_features=600, out_features=200, bias=True)\n",
       "  (fc3): Linear(in_features=200, out_features=1, bias=True)\n",
       "  (sigmoid): Sigmoid()\n",
       "  (relu): ReLU()\n",
       ")"
      ]
     },
     "execution_count": 52,
     "metadata": {},
     "output_type": "execute_result"
    },
    {
     "name": "stdout",
     "output_type": "stream",
     "text": [
      "Test loss: 0.0000\n",
      "Test error for rho: L1 = 0.0002, Linf = 0.0030\n",
      "Test error for eps: L1 = 0.0000, Linf = 0.0163\n",
      "Test error for vx: L1 = 0.0002, Linf = 0.0662\n",
      "Test error for p: L1 = 0.0020, Linf = 0.0173\n",
      "Training error for rho: L1 = 0.0002, Linf = 0.0029\n",
      "Training error for eps: L1 = 0.0000, Linf = 0.0243\n",
      "Training error for vx: L1 = 0.0002, Linf = 0.0722\n",
      "Training error for p: L1 = 0.0020, Linf = 0.0180\n",
      "Epoch 46/200\n",
      "Learning rate: 0.00015\n"
     ]
    },
    {
     "data": {
      "text/plain": [
       "NeuralNetwork(\n",
       "  (fc1): Linear(in_features=3, out_features=600, bias=True)\n",
       "  (fc2): Linear(in_features=600, out_features=200, bias=True)\n",
       "  (fc3): Linear(in_features=200, out_features=1, bias=True)\n",
       "  (sigmoid): Sigmoid()\n",
       "  (relu): ReLU()\n",
       ")"
      ]
     },
     "execution_count": 52,
     "metadata": {},
     "output_type": "execute_result"
    },
    {
     "name": "stdout",
     "output_type": "stream",
     "text": [
      "Training loss: 0.0000\n"
     ]
    },
    {
     "data": {
      "text/plain": [
       "NeuralNetwork(\n",
       "  (fc1): Linear(in_features=3, out_features=600, bias=True)\n",
       "  (fc2): Linear(in_features=600, out_features=200, bias=True)\n",
       "  (fc3): Linear(in_features=200, out_features=1, bias=True)\n",
       "  (sigmoid): Sigmoid()\n",
       "  (relu): ReLU()\n",
       ")"
      ]
     },
     "execution_count": 52,
     "metadata": {},
     "output_type": "execute_result"
    },
    {
     "name": "stdout",
     "output_type": "stream",
     "text": [
      "Test loss: 0.0000\n",
      "Test error for rho: L1 = 0.0001, Linf = 0.0027\n",
      "Test error for eps: L1 = 0.0000, Linf = 0.0171\n",
      "Test error for vx: L1 = 0.0002, Linf = 0.0662\n",
      "Test error for p: L1 = 0.0007, Linf = 0.0090\n",
      "Training error for rho: L1 = 0.0001, Linf = 0.0026\n",
      "Training error for eps: L1 = 0.0000, Linf = 0.0246\n",
      "Training error for vx: L1 = 0.0001, Linf = 0.0722\n",
      "Training error for p: L1 = 0.0007, Linf = 0.0159\n",
      "Epoch 47/200\n",
      "Learning rate: 0.00015\n"
     ]
    },
    {
     "data": {
      "text/plain": [
       "NeuralNetwork(\n",
       "  (fc1): Linear(in_features=3, out_features=600, bias=True)\n",
       "  (fc2): Linear(in_features=600, out_features=200, bias=True)\n",
       "  (fc3): Linear(in_features=200, out_features=1, bias=True)\n",
       "  (sigmoid): Sigmoid()\n",
       "  (relu): ReLU()\n",
       ")"
      ]
     },
     "execution_count": 52,
     "metadata": {},
     "output_type": "execute_result"
    },
    {
     "name": "stdout",
     "output_type": "stream",
     "text": [
      "Training loss: 0.0000\n"
     ]
    },
    {
     "data": {
      "text/plain": [
       "NeuralNetwork(\n",
       "  (fc1): Linear(in_features=3, out_features=600, bias=True)\n",
       "  (fc2): Linear(in_features=600, out_features=200, bias=True)\n",
       "  (fc3): Linear(in_features=200, out_features=1, bias=True)\n",
       "  (sigmoid): Sigmoid()\n",
       "  (relu): ReLU()\n",
       ")"
      ]
     },
     "execution_count": 52,
     "metadata": {},
     "output_type": "execute_result"
    },
    {
     "name": "stdout",
     "output_type": "stream",
     "text": [
      "Test loss: 0.0000\n",
      "Test error for rho: L1 = 0.0001, Linf = 0.0027\n",
      "Test error for eps: L1 = 0.0000, Linf = 0.0164\n",
      "Test error for vx: L1 = 0.0002, Linf = 0.0662\n",
      "Test error for p: L1 = 0.0009, Linf = 0.0082\n",
      "Training error for rho: L1 = 0.0001, Linf = 0.0026\n",
      "Training error for eps: L1 = 0.0000, Linf = 0.0241\n",
      "Training error for vx: L1 = 0.0001, Linf = 0.0722\n",
      "Training error for p: L1 = 0.0009, Linf = 0.0127\n",
      "Epoch 48/200\n",
      "Learning rate: 0.00015\n"
     ]
    },
    {
     "data": {
      "text/plain": [
       "NeuralNetwork(\n",
       "  (fc1): Linear(in_features=3, out_features=600, bias=True)\n",
       "  (fc2): Linear(in_features=600, out_features=200, bias=True)\n",
       "  (fc3): Linear(in_features=200, out_features=1, bias=True)\n",
       "  (sigmoid): Sigmoid()\n",
       "  (relu): ReLU()\n",
       ")"
      ]
     },
     "execution_count": 52,
     "metadata": {},
     "output_type": "execute_result"
    },
    {
     "name": "stdout",
     "output_type": "stream",
     "text": [
      "Training loss: 0.0000\n"
     ]
    },
    {
     "data": {
      "text/plain": [
       "NeuralNetwork(\n",
       "  (fc1): Linear(in_features=3, out_features=600, bias=True)\n",
       "  (fc2): Linear(in_features=600, out_features=200, bias=True)\n",
       "  (fc3): Linear(in_features=200, out_features=1, bias=True)\n",
       "  (sigmoid): Sigmoid()\n",
       "  (relu): ReLU()\n",
       ")"
      ]
     },
     "execution_count": 52,
     "metadata": {},
     "output_type": "execute_result"
    },
    {
     "name": "stdout",
     "output_type": "stream",
     "text": [
      "Test loss: 0.0000\n",
      "Test error for rho: L1 = 0.0001, Linf = 0.0026\n",
      "Test error for eps: L1 = 0.0000, Linf = 0.0167\n",
      "Test error for vx: L1 = 0.0002, Linf = 0.0662\n",
      "Test error for p: L1 = 0.0009, Linf = 0.0083\n",
      "Training error for rho: L1 = 0.0001, Linf = 0.0025\n",
      "Training error for eps: L1 = 0.0000, Linf = 0.0244\n",
      "Training error for vx: L1 = 0.0001, Linf = 0.0722\n",
      "Training error for p: L1 = 0.0009, Linf = 0.0134\n",
      "Epoch 49/200\n",
      "Learning rate: 0.00015\n"
     ]
    },
    {
     "data": {
      "text/plain": [
       "NeuralNetwork(\n",
       "  (fc1): Linear(in_features=3, out_features=600, bias=True)\n",
       "  (fc2): Linear(in_features=600, out_features=200, bias=True)\n",
       "  (fc3): Linear(in_features=200, out_features=1, bias=True)\n",
       "  (sigmoid): Sigmoid()\n",
       "  (relu): ReLU()\n",
       ")"
      ]
     },
     "execution_count": 52,
     "metadata": {},
     "output_type": "execute_result"
    },
    {
     "name": "stdout",
     "output_type": "stream",
     "text": [
      "Training loss: 0.0000\n"
     ]
    },
    {
     "data": {
      "text/plain": [
       "NeuralNetwork(\n",
       "  (fc1): Linear(in_features=3, out_features=600, bias=True)\n",
       "  (fc2): Linear(in_features=600, out_features=200, bias=True)\n",
       "  (fc3): Linear(in_features=200, out_features=1, bias=True)\n",
       "  (sigmoid): Sigmoid()\n",
       "  (relu): ReLU()\n",
       ")"
      ]
     },
     "execution_count": 52,
     "metadata": {},
     "output_type": "execute_result"
    },
    {
     "name": "stdout",
     "output_type": "stream",
     "text": [
      "Test loss: 0.0000\n",
      "Test error for rho: L1 = 0.0001, Linf = 0.0025\n",
      "Test error for eps: L1 = 0.0000, Linf = 0.0166\n",
      "Test error for vx: L1 = 0.0002, Linf = 0.0662\n",
      "Test error for p: L1 = 0.0009, Linf = 0.0082\n",
      "Training error for rho: L1 = 0.0001, Linf = 0.0024\n",
      "Training error for eps: L1 = 0.0000, Linf = 0.0242\n",
      "Training error for vx: L1 = 0.0001, Linf = 0.0722\n",
      "Training error for p: L1 = 0.0009, Linf = 0.0133\n",
      "Epoch 50/200\n",
      "Learning rate: 0.00015\n"
     ]
    },
    {
     "data": {
      "text/plain": [
       "NeuralNetwork(\n",
       "  (fc1): Linear(in_features=3, out_features=600, bias=True)\n",
       "  (fc2): Linear(in_features=600, out_features=200, bias=True)\n",
       "  (fc3): Linear(in_features=200, out_features=1, bias=True)\n",
       "  (sigmoid): Sigmoid()\n",
       "  (relu): ReLU()\n",
       ")"
      ]
     },
     "execution_count": 52,
     "metadata": {},
     "output_type": "execute_result"
    },
    {
     "name": "stdout",
     "output_type": "stream",
     "text": [
      "Training loss: 0.0000\n"
     ]
    },
    {
     "data": {
      "text/plain": [
       "NeuralNetwork(\n",
       "  (fc1): Linear(in_features=3, out_features=600, bias=True)\n",
       "  (fc2): Linear(in_features=600, out_features=200, bias=True)\n",
       "  (fc3): Linear(in_features=200, out_features=1, bias=True)\n",
       "  (sigmoid): Sigmoid()\n",
       "  (relu): ReLU()\n",
       ")"
      ]
     },
     "execution_count": 52,
     "metadata": {},
     "output_type": "execute_result"
    },
    {
     "name": "stdout",
     "output_type": "stream",
     "text": [
      "Test loss: 0.0000\n",
      "Test error for rho: L1 = 0.0001, Linf = 0.0027\n",
      "Test error for eps: L1 = 0.0000, Linf = 0.0148\n",
      "Test error for vx: L1 = 0.0002, Linf = 0.0662\n",
      "Test error for p: L1 = 0.0011, Linf = 0.0100\n",
      "Training error for rho: L1 = 0.0001, Linf = 0.0026\n",
      "Training error for eps: L1 = 0.0000, Linf = 0.0224\n",
      "Training error for vx: L1 = 0.0002, Linf = 0.0722\n",
      "Training error for p: L1 = 0.0011, Linf = 0.0181\n",
      "Epoch 51/200\n",
      "Learning rate: 0.00015\n"
     ]
    },
    {
     "data": {
      "text/plain": [
       "NeuralNetwork(\n",
       "  (fc1): Linear(in_features=3, out_features=600, bias=True)\n",
       "  (fc2): Linear(in_features=600, out_features=200, bias=True)\n",
       "  (fc3): Linear(in_features=200, out_features=1, bias=True)\n",
       "  (sigmoid): Sigmoid()\n",
       "  (relu): ReLU()\n",
       ")"
      ]
     },
     "execution_count": 52,
     "metadata": {},
     "output_type": "execute_result"
    },
    {
     "name": "stdout",
     "output_type": "stream",
     "text": [
      "Training loss: 0.0000\n"
     ]
    },
    {
     "data": {
      "text/plain": [
       "NeuralNetwork(\n",
       "  (fc1): Linear(in_features=3, out_features=600, bias=True)\n",
       "  (fc2): Linear(in_features=600, out_features=200, bias=True)\n",
       "  (fc3): Linear(in_features=200, out_features=1, bias=True)\n",
       "  (sigmoid): Sigmoid()\n",
       "  (relu): ReLU()\n",
       ")"
      ]
     },
     "execution_count": 52,
     "metadata": {},
     "output_type": "execute_result"
    },
    {
     "name": "stdout",
     "output_type": "stream",
     "text": [
      "Test loss: 0.0000\n",
      "Test error for rho: L1 = 0.0001, Linf = 0.0028\n",
      "Test error for eps: L1 = 0.0000, Linf = 0.0163\n",
      "Test error for vx: L1 = 0.0002, Linf = 0.0662\n",
      "Test error for p: L1 = 0.0014, Linf = 0.0089\n",
      "Training error for rho: L1 = 0.0001, Linf = 0.0027\n",
      "Training error for eps: L1 = 0.0000, Linf = 0.0238\n",
      "Training error for vx: L1 = 0.0002, Linf = 0.0722\n",
      "Training error for p: L1 = 0.0014, Linf = 0.0129\n",
      "Epoch 52/200\n",
      "Learning rate: 0.00015\n"
     ]
    },
    {
     "data": {
      "text/plain": [
       "NeuralNetwork(\n",
       "  (fc1): Linear(in_features=3, out_features=600, bias=True)\n",
       "  (fc2): Linear(in_features=600, out_features=200, bias=True)\n",
       "  (fc3): Linear(in_features=200, out_features=1, bias=True)\n",
       "  (sigmoid): Sigmoid()\n",
       "  (relu): ReLU()\n",
       ")"
      ]
     },
     "execution_count": 52,
     "metadata": {},
     "output_type": "execute_result"
    },
    {
     "name": "stdout",
     "output_type": "stream",
     "text": [
      "Training loss: 0.0000\n"
     ]
    },
    {
     "data": {
      "text/plain": [
       "NeuralNetwork(\n",
       "  (fc1): Linear(in_features=3, out_features=600, bias=True)\n",
       "  (fc2): Linear(in_features=600, out_features=200, bias=True)\n",
       "  (fc3): Linear(in_features=200, out_features=1, bias=True)\n",
       "  (sigmoid): Sigmoid()\n",
       "  (relu): ReLU()\n",
       ")"
      ]
     },
     "execution_count": 52,
     "metadata": {},
     "output_type": "execute_result"
    },
    {
     "name": "stdout",
     "output_type": "stream",
     "text": [
      "Test loss: 0.0000\n",
      "Test error for rho: L1 = 0.0001, Linf = 0.0025\n",
      "Test error for eps: L1 = 0.0000, Linf = 0.0169\n",
      "Test error for vx: L1 = 0.0002, Linf = 0.0662\n",
      "Test error for p: L1 = 0.0012, Linf = 0.0103\n",
      "Training error for rho: L1 = 0.0001, Linf = 0.0024\n",
      "Training error for eps: L1 = 0.0000, Linf = 0.0239\n",
      "Training error for vx: L1 = 0.0001, Linf = 0.0722\n",
      "Training error for p: L1 = 0.0012, Linf = 0.0113\n",
      "Epoch 53/200\n",
      "Learning rate: 0.00015\n"
     ]
    },
    {
     "data": {
      "text/plain": [
       "NeuralNetwork(\n",
       "  (fc1): Linear(in_features=3, out_features=600, bias=True)\n",
       "  (fc2): Linear(in_features=600, out_features=200, bias=True)\n",
       "  (fc3): Linear(in_features=200, out_features=1, bias=True)\n",
       "  (sigmoid): Sigmoid()\n",
       "  (relu): ReLU()\n",
       ")"
      ]
     },
     "execution_count": 52,
     "metadata": {},
     "output_type": "execute_result"
    },
    {
     "name": "stdout",
     "output_type": "stream",
     "text": [
      "Training loss: 0.0000\n"
     ]
    },
    {
     "data": {
      "text/plain": [
       "NeuralNetwork(\n",
       "  (fc1): Linear(in_features=3, out_features=600, bias=True)\n",
       "  (fc2): Linear(in_features=600, out_features=200, bias=True)\n",
       "  (fc3): Linear(in_features=200, out_features=1, bias=True)\n",
       "  (sigmoid): Sigmoid()\n",
       "  (relu): ReLU()\n",
       ")"
      ]
     },
     "execution_count": 52,
     "metadata": {},
     "output_type": "execute_result"
    },
    {
     "name": "stdout",
     "output_type": "stream",
     "text": [
      "Test loss: 0.0000\n",
      "Test error for rho: L1 = 0.0001, Linf = 0.0028\n",
      "Test error for eps: L1 = 0.0000, Linf = 0.0147\n",
      "Test error for vx: L1 = 0.0002, Linf = 0.0662\n",
      "Test error for p: L1 = 0.0010, Linf = 0.0109\n",
      "Training error for rho: L1 = 0.0001, Linf = 0.0027\n",
      "Training error for eps: L1 = 0.0000, Linf = 0.0221\n",
      "Training error for vx: L1 = 0.0002, Linf = 0.0722\n",
      "Training error for p: L1 = 0.0010, Linf = 0.0183\n",
      "Epoch 54/200\n",
      "Learning rate: 0.00015\n"
     ]
    },
    {
     "data": {
      "text/plain": [
       "NeuralNetwork(\n",
       "  (fc1): Linear(in_features=3, out_features=600, bias=True)\n",
       "  (fc2): Linear(in_features=600, out_features=200, bias=True)\n",
       "  (fc3): Linear(in_features=200, out_features=1, bias=True)\n",
       "  (sigmoid): Sigmoid()\n",
       "  (relu): ReLU()\n",
       ")"
      ]
     },
     "execution_count": 52,
     "metadata": {},
     "output_type": "execute_result"
    },
    {
     "name": "stdout",
     "output_type": "stream",
     "text": [
      "Training loss: 0.0000\n"
     ]
    },
    {
     "data": {
      "text/plain": [
       "NeuralNetwork(\n",
       "  (fc1): Linear(in_features=3, out_features=600, bias=True)\n",
       "  (fc2): Linear(in_features=600, out_features=200, bias=True)\n",
       "  (fc3): Linear(in_features=200, out_features=1, bias=True)\n",
       "  (sigmoid): Sigmoid()\n",
       "  (relu): ReLU()\n",
       ")"
      ]
     },
     "execution_count": 52,
     "metadata": {},
     "output_type": "execute_result"
    },
    {
     "name": "stdout",
     "output_type": "stream",
     "text": [
      "Test loss: 0.0000\n",
      "Test error for rho: L1 = 0.0001, Linf = 0.0021\n",
      "Test error for eps: L1 = 0.0000, Linf = 0.0176\n",
      "Test error for vx: L1 = 0.0002, Linf = 0.0662\n",
      "Test error for p: L1 = 0.0009, Linf = 0.0133\n",
      "Training error for rho: L1 = 0.0001, Linf = 0.0023\n",
      "Training error for eps: L1 = 0.0000, Linf = 0.0251\n",
      "Training error for vx: L1 = 0.0001, Linf = 0.0722\n",
      "Training error for p: L1 = 0.0009, Linf = 0.0157\n",
      "Epoch 55/200\n",
      "Learning rate: 0.00015\n"
     ]
    },
    {
     "data": {
      "text/plain": [
       "NeuralNetwork(\n",
       "  (fc1): Linear(in_features=3, out_features=600, bias=True)\n",
       "  (fc2): Linear(in_features=600, out_features=200, bias=True)\n",
       "  (fc3): Linear(in_features=200, out_features=1, bias=True)\n",
       "  (sigmoid): Sigmoid()\n",
       "  (relu): ReLU()\n",
       ")"
      ]
     },
     "execution_count": 52,
     "metadata": {},
     "output_type": "execute_result"
    },
    {
     "name": "stdout",
     "output_type": "stream",
     "text": [
      "Training loss: 0.0000\n"
     ]
    },
    {
     "data": {
      "text/plain": [
       "NeuralNetwork(\n",
       "  (fc1): Linear(in_features=3, out_features=600, bias=True)\n",
       "  (fc2): Linear(in_features=600, out_features=200, bias=True)\n",
       "  (fc3): Linear(in_features=200, out_features=1, bias=True)\n",
       "  (sigmoid): Sigmoid()\n",
       "  (relu): ReLU()\n",
       ")"
      ]
     },
     "execution_count": 52,
     "metadata": {},
     "output_type": "execute_result"
    },
    {
     "name": "stdout",
     "output_type": "stream",
     "text": [
      "Test loss: 0.0000\n",
      "Test error for rho: L1 = 0.0002, Linf = 0.0026\n",
      "Test error for eps: L1 = 0.0000, Linf = 0.0196\n",
      "Test error for vx: L1 = 0.0002, Linf = 0.0662\n",
      "Test error for p: L1 = 0.0026, Linf = 0.0107\n",
      "Training error for rho: L1 = 0.0002, Linf = 0.0032\n",
      "Training error for eps: L1 = 0.0000, Linf = 0.0268\n",
      "Training error for vx: L1 = 0.0002, Linf = 0.0722\n",
      "Training error for p: L1 = 0.0026, Linf = 0.0132\n",
      "Epoch 56/200\n",
      "Learning rate: 0.00015\n"
     ]
    },
    {
     "data": {
      "text/plain": [
       "NeuralNetwork(\n",
       "  (fc1): Linear(in_features=3, out_features=600, bias=True)\n",
       "  (fc2): Linear(in_features=600, out_features=200, bias=True)\n",
       "  (fc3): Linear(in_features=200, out_features=1, bias=True)\n",
       "  (sigmoid): Sigmoid()\n",
       "  (relu): ReLU()\n",
       ")"
      ]
     },
     "execution_count": 52,
     "metadata": {},
     "output_type": "execute_result"
    },
    {
     "name": "stdout",
     "output_type": "stream",
     "text": [
      "Training loss: 0.0000\n"
     ]
    },
    {
     "data": {
      "text/plain": [
       "NeuralNetwork(\n",
       "  (fc1): Linear(in_features=3, out_features=600, bias=True)\n",
       "  (fc2): Linear(in_features=600, out_features=200, bias=True)\n",
       "  (fc3): Linear(in_features=200, out_features=1, bias=True)\n",
       "  (sigmoid): Sigmoid()\n",
       "  (relu): ReLU()\n",
       ")"
      ]
     },
     "execution_count": 52,
     "metadata": {},
     "output_type": "execute_result"
    },
    {
     "name": "stdout",
     "output_type": "stream",
     "text": [
      "Test loss: 0.0000\n",
      "Test error for rho: L1 = 0.0001, Linf = 0.0027\n",
      "Test error for eps: L1 = 0.0000, Linf = 0.0139\n",
      "Test error for vx: L1 = 0.0002, Linf = 0.0662\n",
      "Test error for p: L1 = 0.0009, Linf = 0.0090\n",
      "Training error for rho: L1 = 0.0001, Linf = 0.0026\n",
      "Training error for eps: L1 = 0.0000, Linf = 0.0208\n",
      "Training error for vx: L1 = 0.0002, Linf = 0.0722\n",
      "Training error for p: L1 = 0.0009, Linf = 0.0099\n",
      "Epoch 57/200\n",
      "Learning rate: 0.00015\n"
     ]
    },
    {
     "data": {
      "text/plain": [
       "NeuralNetwork(\n",
       "  (fc1): Linear(in_features=3, out_features=600, bias=True)\n",
       "  (fc2): Linear(in_features=600, out_features=200, bias=True)\n",
       "  (fc3): Linear(in_features=200, out_features=1, bias=True)\n",
       "  (sigmoid): Sigmoid()\n",
       "  (relu): ReLU()\n",
       ")"
      ]
     },
     "execution_count": 52,
     "metadata": {},
     "output_type": "execute_result"
    },
    {
     "name": "stdout",
     "output_type": "stream",
     "text": [
      "Training loss: 0.0000\n"
     ]
    },
    {
     "data": {
      "text/plain": [
       "NeuralNetwork(\n",
       "  (fc1): Linear(in_features=3, out_features=600, bias=True)\n",
       "  (fc2): Linear(in_features=600, out_features=200, bias=True)\n",
       "  (fc3): Linear(in_features=200, out_features=1, bias=True)\n",
       "  (sigmoid): Sigmoid()\n",
       "  (relu): ReLU()\n",
       ")"
      ]
     },
     "execution_count": 52,
     "metadata": {},
     "output_type": "execute_result"
    },
    {
     "name": "stdout",
     "output_type": "stream",
     "text": [
      "Test loss: 0.0000\n",
      "Test error for rho: L1 = 0.0001, Linf = 0.0027\n",
      "Test error for eps: L1 = 0.0000, Linf = 0.0146\n",
      "Test error for vx: L1 = 0.0002, Linf = 0.0662\n",
      "Test error for p: L1 = 0.0010, Linf = 0.0104\n",
      "Training error for rho: L1 = 0.0001, Linf = 0.0026\n",
      "Training error for eps: L1 = 0.0000, Linf = 0.0217\n",
      "Training error for vx: L1 = 0.0001, Linf = 0.0722\n",
      "Training error for p: L1 = 0.0009, Linf = 0.0178\n",
      "Epoch 58/200\n",
      "Learning rate: 0.00015\n"
     ]
    },
    {
     "data": {
      "text/plain": [
       "NeuralNetwork(\n",
       "  (fc1): Linear(in_features=3, out_features=600, bias=True)\n",
       "  (fc2): Linear(in_features=600, out_features=200, bias=True)\n",
       "  (fc3): Linear(in_features=200, out_features=1, bias=True)\n",
       "  (sigmoid): Sigmoid()\n",
       "  (relu): ReLU()\n",
       ")"
      ]
     },
     "execution_count": 52,
     "metadata": {},
     "output_type": "execute_result"
    },
    {
     "name": "stdout",
     "output_type": "stream",
     "text": [
      "Training loss: 0.0000\n"
     ]
    },
    {
     "data": {
      "text/plain": [
       "NeuralNetwork(\n",
       "  (fc1): Linear(in_features=3, out_features=600, bias=True)\n",
       "  (fc2): Linear(in_features=600, out_features=200, bias=True)\n",
       "  (fc3): Linear(in_features=200, out_features=1, bias=True)\n",
       "  (sigmoid): Sigmoid()\n",
       "  (relu): ReLU()\n",
       ")"
      ]
     },
     "execution_count": 52,
     "metadata": {},
     "output_type": "execute_result"
    },
    {
     "name": "stdout",
     "output_type": "stream",
     "text": [
      "Test loss: 0.0000\n",
      "Test error for rho: L1 = 0.0001, Linf = 0.0026\n",
      "Test error for eps: L1 = 0.0000, Linf = 0.0156\n",
      "Test error for vx: L1 = 0.0002, Linf = 0.0662\n",
      "Test error for p: L1 = 0.0009, Linf = 0.0100\n",
      "Training error for rho: L1 = 0.0001, Linf = 0.0024\n",
      "Training error for eps: L1 = 0.0000, Linf = 0.0226\n",
      "Training error for vx: L1 = 0.0001, Linf = 0.0722\n",
      "Training error for p: L1 = 0.0009, Linf = 0.0114\n",
      "Epoch 59/200\n",
      "Learning rate: 0.00015\n"
     ]
    },
    {
     "data": {
      "text/plain": [
       "NeuralNetwork(\n",
       "  (fc1): Linear(in_features=3, out_features=600, bias=True)\n",
       "  (fc2): Linear(in_features=600, out_features=200, bias=True)\n",
       "  (fc3): Linear(in_features=200, out_features=1, bias=True)\n",
       "  (sigmoid): Sigmoid()\n",
       "  (relu): ReLU()\n",
       ")"
      ]
     },
     "execution_count": 52,
     "metadata": {},
     "output_type": "execute_result"
    },
    {
     "name": "stdout",
     "output_type": "stream",
     "text": [
      "Training loss: 0.0000\n"
     ]
    },
    {
     "data": {
      "text/plain": [
       "NeuralNetwork(\n",
       "  (fc1): Linear(in_features=3, out_features=600, bias=True)\n",
       "  (fc2): Linear(in_features=600, out_features=200, bias=True)\n",
       "  (fc3): Linear(in_features=200, out_features=1, bias=True)\n",
       "  (sigmoid): Sigmoid()\n",
       "  (relu): ReLU()\n",
       ")"
      ]
     },
     "execution_count": 52,
     "metadata": {},
     "output_type": "execute_result"
    },
    {
     "name": "stdout",
     "output_type": "stream",
     "text": [
      "Test loss: 0.0000\n",
      "Test error for rho: L1 = 0.0001, Linf = 0.0026\n",
      "Test error for eps: L1 = 0.0000, Linf = 0.0157\n",
      "Test error for vx: L1 = 0.0002, Linf = 0.0662\n",
      "Test error for p: L1 = 0.0011, Linf = 0.0083\n",
      "Training error for rho: L1 = 0.0001, Linf = 0.0025\n",
      "Training error for eps: L1 = 0.0000, Linf = 0.0227\n",
      "Training error for vx: L1 = 0.0001, Linf = 0.0722\n",
      "Training error for p: L1 = 0.0010, Linf = 0.0142\n",
      "Epoch 60/200\n",
      "Learning rate: 0.00015\n"
     ]
    },
    {
     "data": {
      "text/plain": [
       "NeuralNetwork(\n",
       "  (fc1): Linear(in_features=3, out_features=600, bias=True)\n",
       "  (fc2): Linear(in_features=600, out_features=200, bias=True)\n",
       "  (fc3): Linear(in_features=200, out_features=1, bias=True)\n",
       "  (sigmoid): Sigmoid()\n",
       "  (relu): ReLU()\n",
       ")"
      ]
     },
     "execution_count": 52,
     "metadata": {},
     "output_type": "execute_result"
    },
    {
     "name": "stdout",
     "output_type": "stream",
     "text": [
      "Training loss: 0.0000\n"
     ]
    },
    {
     "data": {
      "text/plain": [
       "NeuralNetwork(\n",
       "  (fc1): Linear(in_features=3, out_features=600, bias=True)\n",
       "  (fc2): Linear(in_features=600, out_features=200, bias=True)\n",
       "  (fc3): Linear(in_features=200, out_features=1, bias=True)\n",
       "  (sigmoid): Sigmoid()\n",
       "  (relu): ReLU()\n",
       ")"
      ]
     },
     "execution_count": 52,
     "metadata": {},
     "output_type": "execute_result"
    },
    {
     "name": "stdout",
     "output_type": "stream",
     "text": [
      "Test loss: 0.0000\n",
      "Test error for rho: L1 = 0.0001, Linf = 0.0025\n",
      "Test error for eps: L1 = 0.0000, Linf = 0.0159\n",
      "Test error for vx: L1 = 0.0002, Linf = 0.0662\n",
      "Test error for p: L1 = 0.0017, Linf = 0.0084\n",
      "Training error for rho: L1 = 0.0001, Linf = 0.0023\n",
      "Training error for eps: L1 = 0.0000, Linf = 0.0229\n",
      "Training error for vx: L1 = 0.0002, Linf = 0.0722\n",
      "Training error for p: L1 = 0.0017, Linf = 0.0092\n",
      "Epoch 61/200\n",
      "Learning rate: 0.00015\n"
     ]
    },
    {
     "data": {
      "text/plain": [
       "NeuralNetwork(\n",
       "  (fc1): Linear(in_features=3, out_features=600, bias=True)\n",
       "  (fc2): Linear(in_features=600, out_features=200, bias=True)\n",
       "  (fc3): Linear(in_features=200, out_features=1, bias=True)\n",
       "  (sigmoid): Sigmoid()\n",
       "  (relu): ReLU()\n",
       ")"
      ]
     },
     "execution_count": 52,
     "metadata": {},
     "output_type": "execute_result"
    },
    {
     "name": "stdout",
     "output_type": "stream",
     "text": [
      "Training loss: 0.0000\n"
     ]
    },
    {
     "data": {
      "text/plain": [
       "NeuralNetwork(\n",
       "  (fc1): Linear(in_features=3, out_features=600, bias=True)\n",
       "  (fc2): Linear(in_features=600, out_features=200, bias=True)\n",
       "  (fc3): Linear(in_features=200, out_features=1, bias=True)\n",
       "  (sigmoid): Sigmoid()\n",
       "  (relu): ReLU()\n",
       ")"
      ]
     },
     "execution_count": 52,
     "metadata": {},
     "output_type": "execute_result"
    },
    {
     "name": "stdout",
     "output_type": "stream",
     "text": [
      "Test loss: 0.0000\n",
      "Test error for rho: L1 = 0.0001, Linf = 0.0026\n",
      "Test error for eps: L1 = 0.0000, Linf = 0.0155\n",
      "Test error for vx: L1 = 0.0002, Linf = 0.0662\n",
      "Test error for p: L1 = 0.0010, Linf = 0.0087\n",
      "Training error for rho: L1 = 0.0001, Linf = 0.0025\n",
      "Training error for eps: L1 = 0.0000, Linf = 0.0224\n",
      "Training error for vx: L1 = 0.0001, Linf = 0.0722\n",
      "Training error for p: L1 = 0.0010, Linf = 0.0152\n",
      "Epoch 62/200\n",
      "Learning rate: 7.5e-05\n"
     ]
    },
    {
     "data": {
      "text/plain": [
       "NeuralNetwork(\n",
       "  (fc1): Linear(in_features=3, out_features=600, bias=True)\n",
       "  (fc2): Linear(in_features=600, out_features=200, bias=True)\n",
       "  (fc3): Linear(in_features=200, out_features=1, bias=True)\n",
       "  (sigmoid): Sigmoid()\n",
       "  (relu): ReLU()\n",
       ")"
      ]
     },
     "execution_count": 52,
     "metadata": {},
     "output_type": "execute_result"
    },
    {
     "name": "stdout",
     "output_type": "stream",
     "text": [
      "Training loss: 0.0000\n"
     ]
    },
    {
     "data": {
      "text/plain": [
       "NeuralNetwork(\n",
       "  (fc1): Linear(in_features=3, out_features=600, bias=True)\n",
       "  (fc2): Linear(in_features=600, out_features=200, bias=True)\n",
       "  (fc3): Linear(in_features=200, out_features=1, bias=True)\n",
       "  (sigmoid): Sigmoid()\n",
       "  (relu): ReLU()\n",
       ")"
      ]
     },
     "execution_count": 52,
     "metadata": {},
     "output_type": "execute_result"
    },
    {
     "name": "stdout",
     "output_type": "stream",
     "text": [
      "Test loss: 0.0000\n",
      "Test error for rho: L1 = 0.0001, Linf = 0.0024\n",
      "Test error for eps: L1 = 0.0000, Linf = 0.0160\n",
      "Test error for vx: L1 = 0.0001, Linf = 0.0662\n",
      "Test error for p: L1 = 0.0006, Linf = 0.0068\n",
      "Training error for rho: L1 = 0.0001, Linf = 0.0023\n",
      "Training error for eps: L1 = 0.0000, Linf = 0.0228\n",
      "Training error for vx: L1 = 0.0001, Linf = 0.0722\n",
      "Training error for p: L1 = 0.0006, Linf = 0.0080\n",
      "Epoch 63/200\n",
      "Learning rate: 7.5e-05\n"
     ]
    },
    {
     "data": {
      "text/plain": [
       "NeuralNetwork(\n",
       "  (fc1): Linear(in_features=3, out_features=600, bias=True)\n",
       "  (fc2): Linear(in_features=600, out_features=200, bias=True)\n",
       "  (fc3): Linear(in_features=200, out_features=1, bias=True)\n",
       "  (sigmoid): Sigmoid()\n",
       "  (relu): ReLU()\n",
       ")"
      ]
     },
     "execution_count": 52,
     "metadata": {},
     "output_type": "execute_result"
    },
    {
     "name": "stdout",
     "output_type": "stream",
     "text": [
      "Training loss: 0.0000\n"
     ]
    },
    {
     "data": {
      "text/plain": [
       "NeuralNetwork(\n",
       "  (fc1): Linear(in_features=3, out_features=600, bias=True)\n",
       "  (fc2): Linear(in_features=600, out_features=200, bias=True)\n",
       "  (fc3): Linear(in_features=200, out_features=1, bias=True)\n",
       "  (sigmoid): Sigmoid()\n",
       "  (relu): ReLU()\n",
       ")"
      ]
     },
     "execution_count": 52,
     "metadata": {},
     "output_type": "execute_result"
    },
    {
     "name": "stdout",
     "output_type": "stream",
     "text": [
      "Test loss: 0.0000\n",
      "Test error for rho: L1 = 0.0001, Linf = 0.0021\n",
      "Test error for eps: L1 = 0.0000, Linf = 0.0171\n",
      "Test error for vx: L1 = 0.0001, Linf = 0.0662\n",
      "Test error for p: L1 = 0.0008, Linf = 0.0097\n",
      "Training error for rho: L1 = 0.0001, Linf = 0.0020\n",
      "Training error for eps: L1 = 0.0000, Linf = 0.0239\n",
      "Training error for vx: L1 = 0.0001, Linf = 0.0722\n",
      "Training error for p: L1 = 0.0008, Linf = 0.0101\n",
      "Epoch 64/200\n",
      "Learning rate: 7.5e-05\n"
     ]
    },
    {
     "data": {
      "text/plain": [
       "NeuralNetwork(\n",
       "  (fc1): Linear(in_features=3, out_features=600, bias=True)\n",
       "  (fc2): Linear(in_features=600, out_features=200, bias=True)\n",
       "  (fc3): Linear(in_features=200, out_features=1, bias=True)\n",
       "  (sigmoid): Sigmoid()\n",
       "  (relu): ReLU()\n",
       ")"
      ]
     },
     "execution_count": 52,
     "metadata": {},
     "output_type": "execute_result"
    },
    {
     "name": "stdout",
     "output_type": "stream",
     "text": [
      "Training loss: 0.0000\n"
     ]
    },
    {
     "data": {
      "text/plain": [
       "NeuralNetwork(\n",
       "  (fc1): Linear(in_features=3, out_features=600, bias=True)\n",
       "  (fc2): Linear(in_features=600, out_features=200, bias=True)\n",
       "  (fc3): Linear(in_features=200, out_features=1, bias=True)\n",
       "  (sigmoid): Sigmoid()\n",
       "  (relu): ReLU()\n",
       ")"
      ]
     },
     "execution_count": 52,
     "metadata": {},
     "output_type": "execute_result"
    },
    {
     "name": "stdout",
     "output_type": "stream",
     "text": [
      "Test loss: 0.0000\n",
      "Test error for rho: L1 = 0.0001, Linf = 0.0021\n",
      "Test error for eps: L1 = 0.0000, Linf = 0.0169\n",
      "Test error for vx: L1 = 0.0001, Linf = 0.0662\n",
      "Test error for p: L1 = 0.0008, Linf = 0.0096\n",
      "Training error for rho: L1 = 0.0001, Linf = 0.0020\n",
      "Training error for eps: L1 = 0.0000, Linf = 0.0236\n",
      "Training error for vx: L1 = 0.0001, Linf = 0.0722\n",
      "Training error for p: L1 = 0.0008, Linf = 0.0100\n",
      "Epoch 65/200\n",
      "Learning rate: 7.5e-05\n"
     ]
    },
    {
     "data": {
      "text/plain": [
       "NeuralNetwork(\n",
       "  (fc1): Linear(in_features=3, out_features=600, bias=True)\n",
       "  (fc2): Linear(in_features=600, out_features=200, bias=True)\n",
       "  (fc3): Linear(in_features=200, out_features=1, bias=True)\n",
       "  (sigmoid): Sigmoid()\n",
       "  (relu): ReLU()\n",
       ")"
      ]
     },
     "execution_count": 52,
     "metadata": {},
     "output_type": "execute_result"
    },
    {
     "name": "stdout",
     "output_type": "stream",
     "text": [
      "Training loss: 0.0000\n"
     ]
    },
    {
     "data": {
      "text/plain": [
       "NeuralNetwork(\n",
       "  (fc1): Linear(in_features=3, out_features=600, bias=True)\n",
       "  (fc2): Linear(in_features=600, out_features=200, bias=True)\n",
       "  (fc3): Linear(in_features=200, out_features=1, bias=True)\n",
       "  (sigmoid): Sigmoid()\n",
       "  (relu): ReLU()\n",
       ")"
      ]
     },
     "execution_count": 52,
     "metadata": {},
     "output_type": "execute_result"
    },
    {
     "name": "stdout",
     "output_type": "stream",
     "text": [
      "Test loss: 0.0000\n",
      "Test error for rho: L1 = 0.0001, Linf = 0.0020\n",
      "Test error for eps: L1 = 0.0000, Linf = 0.0169\n",
      "Test error for vx: L1 = 0.0001, Linf = 0.0662\n",
      "Test error for p: L1 = 0.0008, Linf = 0.0097\n",
      "Training error for rho: L1 = 0.0001, Linf = 0.0019\n",
      "Training error for eps: L1 = 0.0000, Linf = 0.0236\n",
      "Training error for vx: L1 = 0.0001, Linf = 0.0722\n",
      "Training error for p: L1 = 0.0008, Linf = 0.0101\n",
      "Epoch 66/200\n",
      "Learning rate: 7.5e-05\n"
     ]
    },
    {
     "data": {
      "text/plain": [
       "NeuralNetwork(\n",
       "  (fc1): Linear(in_features=3, out_features=600, bias=True)\n",
       "  (fc2): Linear(in_features=600, out_features=200, bias=True)\n",
       "  (fc3): Linear(in_features=200, out_features=1, bias=True)\n",
       "  (sigmoid): Sigmoid()\n",
       "  (relu): ReLU()\n",
       ")"
      ]
     },
     "execution_count": 52,
     "metadata": {},
     "output_type": "execute_result"
    },
    {
     "name": "stdout",
     "output_type": "stream",
     "text": [
      "Training loss: 0.0000\n"
     ]
    },
    {
     "data": {
      "text/plain": [
       "NeuralNetwork(\n",
       "  (fc1): Linear(in_features=3, out_features=600, bias=True)\n",
       "  (fc2): Linear(in_features=600, out_features=200, bias=True)\n",
       "  (fc3): Linear(in_features=200, out_features=1, bias=True)\n",
       "  (sigmoid): Sigmoid()\n",
       "  (relu): ReLU()\n",
       ")"
      ]
     },
     "execution_count": 52,
     "metadata": {},
     "output_type": "execute_result"
    },
    {
     "name": "stdout",
     "output_type": "stream",
     "text": [
      "Test loss: 0.0000\n",
      "Test error for rho: L1 = 0.0001, Linf = 0.0020\n",
      "Test error for eps: L1 = 0.0000, Linf = 0.0169\n",
      "Test error for vx: L1 = 0.0001, Linf = 0.0662\n",
      "Test error for p: L1 = 0.0007, Linf = 0.0100\n",
      "Training error for rho: L1 = 0.0001, Linf = 0.0019\n",
      "Training error for eps: L1 = 0.0000, Linf = 0.0236\n",
      "Training error for vx: L1 = 0.0001, Linf = 0.0722\n",
      "Training error for p: L1 = 0.0007, Linf = 0.0105\n",
      "Epoch 67/200\n",
      "Learning rate: 7.5e-05\n"
     ]
    },
    {
     "data": {
      "text/plain": [
       "NeuralNetwork(\n",
       "  (fc1): Linear(in_features=3, out_features=600, bias=True)\n",
       "  (fc2): Linear(in_features=600, out_features=200, bias=True)\n",
       "  (fc3): Linear(in_features=200, out_features=1, bias=True)\n",
       "  (sigmoid): Sigmoid()\n",
       "  (relu): ReLU()\n",
       ")"
      ]
     },
     "execution_count": 52,
     "metadata": {},
     "output_type": "execute_result"
    },
    {
     "name": "stdout",
     "output_type": "stream",
     "text": [
      "Training loss: 0.0000\n"
     ]
    },
    {
     "data": {
      "text/plain": [
       "NeuralNetwork(\n",
       "  (fc1): Linear(in_features=3, out_features=600, bias=True)\n",
       "  (fc2): Linear(in_features=600, out_features=200, bias=True)\n",
       "  (fc3): Linear(in_features=200, out_features=1, bias=True)\n",
       "  (sigmoid): Sigmoid()\n",
       "  (relu): ReLU()\n",
       ")"
      ]
     },
     "execution_count": 52,
     "metadata": {},
     "output_type": "execute_result"
    },
    {
     "name": "stdout",
     "output_type": "stream",
     "text": [
      "Test loss: 0.0000\n",
      "Test error for rho: L1 = 0.0001, Linf = 0.0019\n",
      "Test error for eps: L1 = 0.0000, Linf = 0.0170\n",
      "Test error for vx: L1 = 0.0001, Linf = 0.0662\n",
      "Test error for p: L1 = 0.0006, Linf = 0.0103\n",
      "Training error for rho: L1 = 0.0001, Linf = 0.0019\n",
      "Training error for eps: L1 = 0.0000, Linf = 0.0237\n",
      "Training error for vx: L1 = 0.0001, Linf = 0.0722\n",
      "Training error for p: L1 = 0.0006, Linf = 0.0109\n",
      "Epoch 68/200\n",
      "Learning rate: 7.5e-05\n"
     ]
    },
    {
     "data": {
      "text/plain": [
       "NeuralNetwork(\n",
       "  (fc1): Linear(in_features=3, out_features=600, bias=True)\n",
       "  (fc2): Linear(in_features=600, out_features=200, bias=True)\n",
       "  (fc3): Linear(in_features=200, out_features=1, bias=True)\n",
       "  (sigmoid): Sigmoid()\n",
       "  (relu): ReLU()\n",
       ")"
      ]
     },
     "execution_count": 52,
     "metadata": {},
     "output_type": "execute_result"
    },
    {
     "name": "stdout",
     "output_type": "stream",
     "text": [
      "Training loss: 0.0000\n"
     ]
    },
    {
     "data": {
      "text/plain": [
       "NeuralNetwork(\n",
       "  (fc1): Linear(in_features=3, out_features=600, bias=True)\n",
       "  (fc2): Linear(in_features=600, out_features=200, bias=True)\n",
       "  (fc3): Linear(in_features=200, out_features=1, bias=True)\n",
       "  (sigmoid): Sigmoid()\n",
       "  (relu): ReLU()\n",
       ")"
      ]
     },
     "execution_count": 52,
     "metadata": {},
     "output_type": "execute_result"
    },
    {
     "name": "stdout",
     "output_type": "stream",
     "text": [
      "Test loss: 0.0000\n",
      "Test error for rho: L1 = 0.0001, Linf = 0.0019\n",
      "Test error for eps: L1 = 0.0000, Linf = 0.0171\n",
      "Test error for vx: L1 = 0.0001, Linf = 0.0662\n",
      "Test error for p: L1 = 0.0007, Linf = 0.0111\n",
      "Training error for rho: L1 = 0.0001, Linf = 0.0019\n",
      "Training error for eps: L1 = 0.0000, Linf = 0.0236\n",
      "Training error for vx: L1 = 0.0001, Linf = 0.0722\n",
      "Training error for p: L1 = 0.0007, Linf = 0.0118\n",
      "Epoch 69/200\n",
      "Learning rate: 7.5e-05\n"
     ]
    },
    {
     "data": {
      "text/plain": [
       "NeuralNetwork(\n",
       "  (fc1): Linear(in_features=3, out_features=600, bias=True)\n",
       "  (fc2): Linear(in_features=600, out_features=200, bias=True)\n",
       "  (fc3): Linear(in_features=200, out_features=1, bias=True)\n",
       "  (sigmoid): Sigmoid()\n",
       "  (relu): ReLU()\n",
       ")"
      ]
     },
     "execution_count": 52,
     "metadata": {},
     "output_type": "execute_result"
    },
    {
     "name": "stdout",
     "output_type": "stream",
     "text": [
      "Training loss: 0.0000\n"
     ]
    },
    {
     "data": {
      "text/plain": [
       "NeuralNetwork(\n",
       "  (fc1): Linear(in_features=3, out_features=600, bias=True)\n",
       "  (fc2): Linear(in_features=600, out_features=200, bias=True)\n",
       "  (fc3): Linear(in_features=200, out_features=1, bias=True)\n",
       "  (sigmoid): Sigmoid()\n",
       "  (relu): ReLU()\n",
       ")"
      ]
     },
     "execution_count": 52,
     "metadata": {},
     "output_type": "execute_result"
    },
    {
     "name": "stdout",
     "output_type": "stream",
     "text": [
      "Test loss: 0.0000\n",
      "Test error for rho: L1 = 0.0001, Linf = 0.0022\n",
      "Test error for eps: L1 = 0.0000, Linf = 0.0162\n",
      "Test error for vx: L1 = 0.0001, Linf = 0.0662\n",
      "Test error for p: L1 = 0.0010, Linf = 0.0096\n",
      "Training error for rho: L1 = 0.0001, Linf = 0.0021\n",
      "Training error for eps: L1 = 0.0000, Linf = 0.0226\n",
      "Training error for vx: L1 = 0.0001, Linf = 0.0722\n",
      "Training error for p: L1 = 0.0010, Linf = 0.0100\n",
      "Epoch 70/200\n",
      "Learning rate: 7.5e-05\n"
     ]
    },
    {
     "data": {
      "text/plain": [
       "NeuralNetwork(\n",
       "  (fc1): Linear(in_features=3, out_features=600, bias=True)\n",
       "  (fc2): Linear(in_features=600, out_features=200, bias=True)\n",
       "  (fc3): Linear(in_features=200, out_features=1, bias=True)\n",
       "  (sigmoid): Sigmoid()\n",
       "  (relu): ReLU()\n",
       ")"
      ]
     },
     "execution_count": 52,
     "metadata": {},
     "output_type": "execute_result"
    },
    {
     "name": "stdout",
     "output_type": "stream",
     "text": [
      "Training loss: 0.0000\n"
     ]
    },
    {
     "data": {
      "text/plain": [
       "NeuralNetwork(\n",
       "  (fc1): Linear(in_features=3, out_features=600, bias=True)\n",
       "  (fc2): Linear(in_features=600, out_features=200, bias=True)\n",
       "  (fc3): Linear(in_features=200, out_features=1, bias=True)\n",
       "  (sigmoid): Sigmoid()\n",
       "  (relu): ReLU()\n",
       ")"
      ]
     },
     "execution_count": 52,
     "metadata": {},
     "output_type": "execute_result"
    },
    {
     "name": "stdout",
     "output_type": "stream",
     "text": [
      "Test loss: 0.0000\n",
      "Test error for rho: L1 = 0.0001, Linf = 0.0022\n",
      "Test error for eps: L1 = 0.0000, Linf = 0.0150\n",
      "Test error for vx: L1 = 0.0001, Linf = 0.0662\n",
      "Test error for p: L1 = 0.0008, Linf = 0.0062\n",
      "Training error for rho: L1 = 0.0001, Linf = 0.0021\n",
      "Training error for eps: L1 = 0.0000, Linf = 0.0214\n",
      "Training error for vx: L1 = 0.0001, Linf = 0.0722\n",
      "Training error for p: L1 = 0.0007, Linf = 0.0075\n",
      "Epoch 71/200\n",
      "Learning rate: 7.5e-05\n"
     ]
    },
    {
     "data": {
      "text/plain": [
       "NeuralNetwork(\n",
       "  (fc1): Linear(in_features=3, out_features=600, bias=True)\n",
       "  (fc2): Linear(in_features=600, out_features=200, bias=True)\n",
       "  (fc3): Linear(in_features=200, out_features=1, bias=True)\n",
       "  (sigmoid): Sigmoid()\n",
       "  (relu): ReLU()\n",
       ")"
      ]
     },
     "execution_count": 52,
     "metadata": {},
     "output_type": "execute_result"
    },
    {
     "name": "stdout",
     "output_type": "stream",
     "text": [
      "Training loss: 0.0000\n"
     ]
    },
    {
     "data": {
      "text/plain": [
       "NeuralNetwork(\n",
       "  (fc1): Linear(in_features=3, out_features=600, bias=True)\n",
       "  (fc2): Linear(in_features=600, out_features=200, bias=True)\n",
       "  (fc3): Linear(in_features=200, out_features=1, bias=True)\n",
       "  (sigmoid): Sigmoid()\n",
       "  (relu): ReLU()\n",
       ")"
      ]
     },
     "execution_count": 52,
     "metadata": {},
     "output_type": "execute_result"
    },
    {
     "name": "stdout",
     "output_type": "stream",
     "text": [
      "Test loss: 0.0000\n",
      "Test error for rho: L1 = 0.0000, Linf = 0.0022\n",
      "Test error for eps: L1 = 0.0000, Linf = 0.0153\n",
      "Test error for vx: L1 = 0.0001, Linf = 0.0662\n",
      "Test error for p: L1 = 0.0005, Linf = 0.0062\n",
      "Training error for rho: L1 = 0.0000, Linf = 0.0021\n",
      "Training error for eps: L1 = 0.0000, Linf = 0.0217\n",
      "Training error for vx: L1 = 0.0001, Linf = 0.0722\n",
      "Training error for p: L1 = 0.0005, Linf = 0.0075\n",
      "Epoch 72/200\n",
      "Learning rate: 7.5e-05\n"
     ]
    },
    {
     "data": {
      "text/plain": [
       "NeuralNetwork(\n",
       "  (fc1): Linear(in_features=3, out_features=600, bias=True)\n",
       "  (fc2): Linear(in_features=600, out_features=200, bias=True)\n",
       "  (fc3): Linear(in_features=200, out_features=1, bias=True)\n",
       "  (sigmoid): Sigmoid()\n",
       "  (relu): ReLU()\n",
       ")"
      ]
     },
     "execution_count": 52,
     "metadata": {},
     "output_type": "execute_result"
    },
    {
     "name": "stdout",
     "output_type": "stream",
     "text": [
      "Training loss: 0.0000\n"
     ]
    },
    {
     "data": {
      "text/plain": [
       "NeuralNetwork(\n",
       "  (fc1): Linear(in_features=3, out_features=600, bias=True)\n",
       "  (fc2): Linear(in_features=600, out_features=200, bias=True)\n",
       "  (fc3): Linear(in_features=200, out_features=1, bias=True)\n",
       "  (sigmoid): Sigmoid()\n",
       "  (relu): ReLU()\n",
       ")"
      ]
     },
     "execution_count": 52,
     "metadata": {},
     "output_type": "execute_result"
    },
    {
     "name": "stdout",
     "output_type": "stream",
     "text": [
      "Test loss: 0.0000\n",
      "Test error for rho: L1 = 0.0001, Linf = 0.0022\n",
      "Test error for eps: L1 = 0.0000, Linf = 0.0150\n",
      "Test error for vx: L1 = 0.0001, Linf = 0.0662\n",
      "Test error for p: L1 = 0.0006, Linf = 0.0061\n",
      "Training error for rho: L1 = 0.0001, Linf = 0.0021\n",
      "Training error for eps: L1 = 0.0000, Linf = 0.0213\n",
      "Training error for vx: L1 = 0.0001, Linf = 0.0722\n",
      "Training error for p: L1 = 0.0006, Linf = 0.0074\n",
      "Epoch 73/200\n",
      "Learning rate: 7.5e-05\n"
     ]
    },
    {
     "data": {
      "text/plain": [
       "NeuralNetwork(\n",
       "  (fc1): Linear(in_features=3, out_features=600, bias=True)\n",
       "  (fc2): Linear(in_features=600, out_features=200, bias=True)\n",
       "  (fc3): Linear(in_features=200, out_features=1, bias=True)\n",
       "  (sigmoid): Sigmoid()\n",
       "  (relu): ReLU()\n",
       ")"
      ]
     },
     "execution_count": 52,
     "metadata": {},
     "output_type": "execute_result"
    },
    {
     "name": "stdout",
     "output_type": "stream",
     "text": [
      "Training loss: 0.0000\n"
     ]
    },
    {
     "data": {
      "text/plain": [
       "NeuralNetwork(\n",
       "  (fc1): Linear(in_features=3, out_features=600, bias=True)\n",
       "  (fc2): Linear(in_features=600, out_features=200, bias=True)\n",
       "  (fc3): Linear(in_features=200, out_features=1, bias=True)\n",
       "  (sigmoid): Sigmoid()\n",
       "  (relu): ReLU()\n",
       ")"
      ]
     },
     "execution_count": 52,
     "metadata": {},
     "output_type": "execute_result"
    },
    {
     "name": "stdout",
     "output_type": "stream",
     "text": [
      "Test loss: 0.0000\n",
      "Test error for rho: L1 = 0.0001, Linf = 0.0022\n",
      "Test error for eps: L1 = 0.0000, Linf = 0.0149\n",
      "Test error for vx: L1 = 0.0001, Linf = 0.0662\n",
      "Test error for p: L1 = 0.0007, Linf = 0.0061\n",
      "Training error for rho: L1 = 0.0001, Linf = 0.0021\n",
      "Training error for eps: L1 = 0.0000, Linf = 0.0212\n",
      "Training error for vx: L1 = 0.0001, Linf = 0.0722\n",
      "Training error for p: L1 = 0.0007, Linf = 0.0074\n",
      "Epoch 74/200\n",
      "Learning rate: 7.5e-05\n"
     ]
    },
    {
     "data": {
      "text/plain": [
       "NeuralNetwork(\n",
       "  (fc1): Linear(in_features=3, out_features=600, bias=True)\n",
       "  (fc2): Linear(in_features=600, out_features=200, bias=True)\n",
       "  (fc3): Linear(in_features=200, out_features=1, bias=True)\n",
       "  (sigmoid): Sigmoid()\n",
       "  (relu): ReLU()\n",
       ")"
      ]
     },
     "execution_count": 52,
     "metadata": {},
     "output_type": "execute_result"
    },
    {
     "name": "stdout",
     "output_type": "stream",
     "text": [
      "Training loss: 0.0000\n"
     ]
    },
    {
     "data": {
      "text/plain": [
       "NeuralNetwork(\n",
       "  (fc1): Linear(in_features=3, out_features=600, bias=True)\n",
       "  (fc2): Linear(in_features=600, out_features=200, bias=True)\n",
       "  (fc3): Linear(in_features=200, out_features=1, bias=True)\n",
       "  (sigmoid): Sigmoid()\n",
       "  (relu): ReLU()\n",
       ")"
      ]
     },
     "execution_count": 52,
     "metadata": {},
     "output_type": "execute_result"
    },
    {
     "name": "stdout",
     "output_type": "stream",
     "text": [
      "Test loss: 0.0000\n",
      "Test error for rho: L1 = 0.0000, Linf = 0.0021\n",
      "Test error for eps: L1 = 0.0000, Linf = 0.0150\n",
      "Test error for vx: L1 = 0.0001, Linf = 0.0662\n",
      "Test error for p: L1 = 0.0006, Linf = 0.0060\n",
      "Training error for rho: L1 = 0.0000, Linf = 0.0021\n",
      "Training error for eps: L1 = 0.0000, Linf = 0.0213\n",
      "Training error for vx: L1 = 0.0001, Linf = 0.0722\n",
      "Training error for p: L1 = 0.0006, Linf = 0.0073\n",
      "Epoch 75/200\n",
      "Learning rate: 7.5e-05\n"
     ]
    },
    {
     "data": {
      "text/plain": [
       "NeuralNetwork(\n",
       "  (fc1): Linear(in_features=3, out_features=600, bias=True)\n",
       "  (fc2): Linear(in_features=600, out_features=200, bias=True)\n",
       "  (fc3): Linear(in_features=200, out_features=1, bias=True)\n",
       "  (sigmoid): Sigmoid()\n",
       "  (relu): ReLU()\n",
       ")"
      ]
     },
     "execution_count": 52,
     "metadata": {},
     "output_type": "execute_result"
    },
    {
     "name": "stdout",
     "output_type": "stream",
     "text": [
      "Training loss: 0.0000\n"
     ]
    },
    {
     "data": {
      "text/plain": [
       "NeuralNetwork(\n",
       "  (fc1): Linear(in_features=3, out_features=600, bias=True)\n",
       "  (fc2): Linear(in_features=600, out_features=200, bias=True)\n",
       "  (fc3): Linear(in_features=200, out_features=1, bias=True)\n",
       "  (sigmoid): Sigmoid()\n",
       "  (relu): ReLU()\n",
       ")"
      ]
     },
     "execution_count": 52,
     "metadata": {},
     "output_type": "execute_result"
    },
    {
     "name": "stdout",
     "output_type": "stream",
     "text": [
      "Test loss: 0.0000\n",
      "Test error for rho: L1 = 0.0001, Linf = 0.0021\n",
      "Test error for eps: L1 = 0.0000, Linf = 0.0149\n",
      "Test error for vx: L1 = 0.0001, Linf = 0.0662\n",
      "Test error for p: L1 = 0.0007, Linf = 0.0060\n",
      "Training error for rho: L1 = 0.0001, Linf = 0.0021\n",
      "Training error for eps: L1 = 0.0000, Linf = 0.0211\n",
      "Training error for vx: L1 = 0.0001, Linf = 0.0722\n",
      "Training error for p: L1 = 0.0007, Linf = 0.0073\n",
      "Epoch 76/200\n",
      "Learning rate: 7.5e-05\n"
     ]
    },
    {
     "data": {
      "text/plain": [
       "NeuralNetwork(\n",
       "  (fc1): Linear(in_features=3, out_features=600, bias=True)\n",
       "  (fc2): Linear(in_features=600, out_features=200, bias=True)\n",
       "  (fc3): Linear(in_features=200, out_features=1, bias=True)\n",
       "  (sigmoid): Sigmoid()\n",
       "  (relu): ReLU()\n",
       ")"
      ]
     },
     "execution_count": 52,
     "metadata": {},
     "output_type": "execute_result"
    },
    {
     "name": "stdout",
     "output_type": "stream",
     "text": [
      "Training loss: 0.0000\n"
     ]
    },
    {
     "data": {
      "text/plain": [
       "NeuralNetwork(\n",
       "  (fc1): Linear(in_features=3, out_features=600, bias=True)\n",
       "  (fc2): Linear(in_features=600, out_features=200, bias=True)\n",
       "  (fc3): Linear(in_features=200, out_features=1, bias=True)\n",
       "  (sigmoid): Sigmoid()\n",
       "  (relu): ReLU()\n",
       ")"
      ]
     },
     "execution_count": 52,
     "metadata": {},
     "output_type": "execute_result"
    },
    {
     "name": "stdout",
     "output_type": "stream",
     "text": [
      "Test loss: 0.0000\n",
      "Test error for rho: L1 = 0.0000, Linf = 0.0021\n",
      "Test error for eps: L1 = 0.0000, Linf = 0.0153\n",
      "Test error for vx: L1 = 0.0001, Linf = 0.0662\n",
      "Test error for p: L1 = 0.0005, Linf = 0.0060\n",
      "Training error for rho: L1 = 0.0000, Linf = 0.0020\n",
      "Training error for eps: L1 = 0.0000, Linf = 0.0215\n",
      "Training error for vx: L1 = 0.0001, Linf = 0.0722\n",
      "Training error for p: L1 = 0.0005, Linf = 0.0073\n",
      "Epoch 77/200\n",
      "Learning rate: 7.5e-05\n"
     ]
    },
    {
     "data": {
      "text/plain": [
       "NeuralNetwork(\n",
       "  (fc1): Linear(in_features=3, out_features=600, bias=True)\n",
       "  (fc2): Linear(in_features=600, out_features=200, bias=True)\n",
       "  (fc3): Linear(in_features=200, out_features=1, bias=True)\n",
       "  (sigmoid): Sigmoid()\n",
       "  (relu): ReLU()\n",
       ")"
      ]
     },
     "execution_count": 52,
     "metadata": {},
     "output_type": "execute_result"
    },
    {
     "name": "stdout",
     "output_type": "stream",
     "text": [
      "Training loss: 0.0000\n"
     ]
    },
    {
     "data": {
      "text/plain": [
       "NeuralNetwork(\n",
       "  (fc1): Linear(in_features=3, out_features=600, bias=True)\n",
       "  (fc2): Linear(in_features=600, out_features=200, bias=True)\n",
       "  (fc3): Linear(in_features=200, out_features=1, bias=True)\n",
       "  (sigmoid): Sigmoid()\n",
       "  (relu): ReLU()\n",
       ")"
      ]
     },
     "execution_count": 52,
     "metadata": {},
     "output_type": "execute_result"
    },
    {
     "name": "stdout",
     "output_type": "stream",
     "text": [
      "Test loss: 0.0000\n",
      "Test error for rho: L1 = 0.0001, Linf = 0.0018\n",
      "Test error for eps: L1 = 0.0000, Linf = 0.0167\n",
      "Test error for vx: L1 = 0.0001, Linf = 0.0662\n",
      "Test error for p: L1 = 0.0009, Linf = 0.0108\n",
      "Training error for rho: L1 = 0.0001, Linf = 0.0018\n",
      "Training error for eps: L1 = 0.0000, Linf = 0.0229\n",
      "Training error for vx: L1 = 0.0001, Linf = 0.0722\n",
      "Training error for p: L1 = 0.0009, Linf = 0.0114\n",
      "Epoch 78/200\n",
      "Learning rate: 3.75e-05\n"
     ]
    },
    {
     "data": {
      "text/plain": [
       "NeuralNetwork(\n",
       "  (fc1): Linear(in_features=3, out_features=600, bias=True)\n",
       "  (fc2): Linear(in_features=600, out_features=200, bias=True)\n",
       "  (fc3): Linear(in_features=200, out_features=1, bias=True)\n",
       "  (sigmoid): Sigmoid()\n",
       "  (relu): ReLU()\n",
       ")"
      ]
     },
     "execution_count": 52,
     "metadata": {},
     "output_type": "execute_result"
    },
    {
     "name": "stdout",
     "output_type": "stream",
     "text": [
      "Training loss: 0.0000\n"
     ]
    },
    {
     "data": {
      "text/plain": [
       "NeuralNetwork(\n",
       "  (fc1): Linear(in_features=3, out_features=600, bias=True)\n",
       "  (fc2): Linear(in_features=600, out_features=200, bias=True)\n",
       "  (fc3): Linear(in_features=200, out_features=1, bias=True)\n",
       "  (sigmoid): Sigmoid()\n",
       "  (relu): ReLU()\n",
       ")"
      ]
     },
     "execution_count": 52,
     "metadata": {},
     "output_type": "execute_result"
    },
    {
     "name": "stdout",
     "output_type": "stream",
     "text": [
      "Test loss: 0.0000\n",
      "Test error for rho: L1 = 0.0000, Linf = 0.0020\n",
      "Test error for eps: L1 = 0.0000, Linf = 0.0158\n",
      "Test error for vx: L1 = 0.0001, Linf = 0.0662\n",
      "Test error for p: L1 = 0.0005, Linf = 0.0062\n",
      "Training error for rho: L1 = 0.0000, Linf = 0.0019\n",
      "Training error for eps: L1 = 0.0000, Linf = 0.0220\n",
      "Training error for vx: L1 = 0.0001, Linf = 0.0722\n",
      "Training error for p: L1 = 0.0005, Linf = 0.0076\n",
      "Epoch 79/200\n",
      "Learning rate: 3.75e-05\n"
     ]
    },
    {
     "data": {
      "text/plain": [
       "NeuralNetwork(\n",
       "  (fc1): Linear(in_features=3, out_features=600, bias=True)\n",
       "  (fc2): Linear(in_features=600, out_features=200, bias=True)\n",
       "  (fc3): Linear(in_features=200, out_features=1, bias=True)\n",
       "  (sigmoid): Sigmoid()\n",
       "  (relu): ReLU()\n",
       ")"
      ]
     },
     "execution_count": 52,
     "metadata": {},
     "output_type": "execute_result"
    },
    {
     "name": "stdout",
     "output_type": "stream",
     "text": [
      "Training loss: 0.0000\n"
     ]
    },
    {
     "data": {
      "text/plain": [
       "NeuralNetwork(\n",
       "  (fc1): Linear(in_features=3, out_features=600, bias=True)\n",
       "  (fc2): Linear(in_features=600, out_features=200, bias=True)\n",
       "  (fc3): Linear(in_features=200, out_features=1, bias=True)\n",
       "  (sigmoid): Sigmoid()\n",
       "  (relu): ReLU()\n",
       ")"
      ]
     },
     "execution_count": 52,
     "metadata": {},
     "output_type": "execute_result"
    },
    {
     "name": "stdout",
     "output_type": "stream",
     "text": [
      "Test loss: 0.0000\n",
      "Test error for rho: L1 = 0.0000, Linf = 0.0020\n",
      "Test error for eps: L1 = 0.0000, Linf = 0.0158\n",
      "Test error for vx: L1 = 0.0001, Linf = 0.0662\n",
      "Test error for p: L1 = 0.0005, Linf = 0.0062\n",
      "Training error for rho: L1 = 0.0000, Linf = 0.0020\n",
      "Training error for eps: L1 = 0.0000, Linf = 0.0220\n",
      "Training error for vx: L1 = 0.0001, Linf = 0.0722\n",
      "Training error for p: L1 = 0.0005, Linf = 0.0075\n",
      "Epoch 80/200\n",
      "Learning rate: 3.75e-05\n"
     ]
    },
    {
     "data": {
      "text/plain": [
       "NeuralNetwork(\n",
       "  (fc1): Linear(in_features=3, out_features=600, bias=True)\n",
       "  (fc2): Linear(in_features=600, out_features=200, bias=True)\n",
       "  (fc3): Linear(in_features=200, out_features=1, bias=True)\n",
       "  (sigmoid): Sigmoid()\n",
       "  (relu): ReLU()\n",
       ")"
      ]
     },
     "execution_count": 52,
     "metadata": {},
     "output_type": "execute_result"
    }
   ],
   "source": [
    "\n",
    "# Creating lists to store the training and test losses and errors for each epoch\n",
    "train_losses = [] # List to store the training losses\n",
    "test_losses = [] # List to store the test losses\n",
    "train_errors_L1 = [] # List to store the training errors in L1 norm\n",
    "test_errors_L1 = [] # List to store the test errors in L1 norm\n",
    "train_errors_Linf = [] # List to store the training errors in L_inf norm\n",
    "test_errors_Linf = [] # List to store the test errors in L_inf norm\n",
    "\n",
    "# Creating a scheduler to adapt the learning rate based on the training loss\n",
    "scheduler = optim.lr_scheduler.ReduceLROnPlateau(optimizer, mode='min', factor=LR_FACTOR, patience=LR_PATIENCE, threshold=LR_THRESHOLD, cooldown=LR_COOLDOWN)\n",
    "\n",
    "# Creating a loop for training the neural network for a given number of epochs\n",
    "for epoch in range(NUM_EPOCHS):\n",
    "    \n",
    "    # Printing the current epoch and learning rate\n",
    "    print(f\"Epoch {epoch+1}/{NUM_EPOCHS}\")\n",
    "    print(f\"Learning rate: {optimizer.param_groups[0]['lr']}\")\n",
    "\n",
    "    # Setting the model to training mode\n",
    "    model.train()\n",
    "\n",
    "    # Initializing the running loss for training data\n",
    "    running_loss = 0.0\n",
    "\n",
    "    # Creating a loop for processing each mini-batch of training data\n",
    "    for i in range(0, TRAIN_SIZE, BATCH_SIZE):\n",
    "\n",
    "        # Getting the mini-batch of training data and labels\n",
    "        X_batch = X_train[i:i+BATCH_SIZE] # Mini-batch of conservative variables\n",
    "        y_batch = y_train[i:i+BATCH_SIZE] # Mini-batch of primitive variable p\n",
    "\n",
    "        # Zeroing the parameter gradients\n",
    "        optimizer.zero_grad()\n",
    "\n",
    "        # Performing a forward pass through the neural network and getting the output\n",
    "        y_pred = model(X_batch) # Predicted primitive variable p\n",
    "\n",
    "        # Calculating the loss using the criterion\n",
    "        loss = criterion(y_pred, y_batch)\n",
    "\n",
    "        # Performing a backward pass through the neural network and calculating the gradients\n",
    "        loss.backward()\n",
    "\n",
    "        # Updating the parameters using the optimizer\n",
    "        optimizer.step()\n",
    "\n",
    "        # Updating the running loss for training data\n",
    "        running_loss += loss.item()\n",
    "\n",
    "    # Calculating and printing the average loss for training data\n",
    "    train_loss = running_loss / (TRAIN_SIZE / BATCH_SIZE)\n",
    "    print(f\"Training loss: {train_loss:.4f}\")\n",
    "\n",
    "    # Appending the training loss to the list\n",
    "    train_losses.append(train_loss)\n",
    "\n",
    "    # Setting the model to evaluation mode\n",
    "    model.eval()\n",
    "\n",
    "    # Performing a forward pass through the neural network on the test data and getting the output\n",
    "    y_test_pred = model(X_test) # Predicted primitive variable p for test data\n",
    "\n",
    "    # Calculating the loss for test data using the criterion\n",
    "    test_loss = criterion(y_test_pred, y_test).item()\n",
    "\n",
    "    # Printing the loss for test data\n",
    "    print(f\"Test loss: {test_loss:.4f}\")\n",
    "\n",
    "    # Appending the test loss to the list\n",
    "    test_losses.append(test_loss)\n",
    "\n",
    "    # Calculating other primitive variables for test data using the calculate_primitives function\n",
    "    rho_test_pred, eps_test_pred, vx_test_pred = calculate_primitives(X_test, y_test_pred)\n",
    "\n",
    "    # Calculating other primitive variables for test labels using the calculate_primitives function\n",
    "    rho_test_true, eps_test_true, vx_test_true = calculate_primitives(X_test, y_test)\n",
    "\n",
    "    # Calculating and printing the L1 and L_inf errors for test data for each primitive variable\n",
    "    rho_error_L1, rho_error_Linf = calculate_error(rho_test_true, rho_test_pred)\n",
    "    print(f\"Test error for rho: L1 = {rho_error_L1:.4f}, Linf = {rho_error_Linf:.4f}\")\n",
    "    eps_error_L1, eps_error_Linf = calculate_error(eps_test_true, eps_test_pred)\n",
    "    print(f\"Test error for eps: L1 = {eps_error_L1:.4f}, Linf = {eps_error_Linf:.4f}\")\n",
    "    vx_error_L1, vx_error_Linf = calculate_error(vx_test_true, vx_test_pred)\n",
    "    print(f\"Test error for vx: L1 = {vx_error_L1:.4f}, Linf = {vx_error_Linf:.4f}\")\n",
    "    p_error_L1, p_error_Linf = calculate_error(y_test, y_test_pred)\n",
    "    print(f\"Test error for p: L1 = {p_error_L1:.4f}, Linf = {p_error_Linf:.4f}\")\n",
    "\n",
    "    # Appending the L1 and L_inf errors for test data to the lists\n",
    "    test_errors_L1.append([rho_error_L1, eps_error_L1, vx_error_L1, p_error_L1])\n",
    "    test_errors_Linf.append([rho_error_Linf, eps_error_Linf, vx_error_Linf, p_error_Linf])\n",
    "\n",
    "    # Calculating other primitive variables for training data using the calculate_primitives function\n",
    "    y_train_pred = model(X_train) # Predicted primitive variable p for training data\n",
    "    rho_train_pred, eps_train_pred, vx_train_pred = calculate_primitives(X_train, y_train_pred)\n",
    "\n",
    "    # Calculating other primitive variables for training labels using the calculate_primitives function\n",
    "    rho_train_true, eps_train_true, vx_train_true = calculate_primitives(X_train, y_train)\n",
    "\n",
    "    # Calculating and printing the L1 and L_inf errors for training data for each primitive variable\n",
    "    rho_error_L1, rho_error_Linf = calculate_error(rho_train_true, rho_train_pred)\n",
    "    print(f\"Training error for rho: L1 = {rho_error_L1:.4f}, Linf = {rho_error_Linf:.4f}\")\n",
    "    eps_error_L1, eps_error_Linf = calculate_error(eps_train_true, eps_train_pred)\n",
    "    print(f\"Training error for eps: L1 = {eps_error_L1:.4f}, Linf = {eps_error_Linf:.4f}\")\n",
    "    vx_error_L1, vx_error_Linf = calculate_error(vx_train_true, vx_train_pred)\n",
    "    print(f\"Training error for vx: L1 = {vx_error_L1:.4f}, Linf = {vx_error_Linf:.4f}\")\n",
    "    p_error_L1, p_error_Linf = calculate_error(y_train, y_train_pred)\n",
    "    print(f\"Training error for p: L1 = {p_error_L1:.4f}, Linf = {p_error_Linf:.4f}\")\n",
    "\n",
    "    # Appending the L1 and L_inf errors for training data to the lists\n",
    "    train_errors_L1.append([rho_error_L1, eps_error_L1, vx_error_L1, p_error_L1])\n",
    "    train_errors_Linf.append([rho_error_Linf, eps_error_Linf, vx_error_Linf, p_error_Linf])\n",
    "\n",
    "    # Adapting the learning rate based on the training loss using the scheduler\n",
    "    scheduler.step(train_loss)\n"
   ]
  },
  {
   "cell_type": "code",
   "execution_count": null,
   "metadata": {},
   "outputs": [
    {
     "data": {
      "text/plain": [
       "<Figure size 640x480 with 0 Axes>"
      ]
     },
     "execution_count": 44,
     "metadata": {},
     "output_type": "execute_result"
    },
    {
     "data": {
      "text/plain": [
       "[<matplotlib.lines.Line2D at 0x256373f0730>]"
      ]
     },
     "execution_count": 44,
     "metadata": {},
     "output_type": "execute_result"
    },
    {
     "data": {
      "text/plain": [
       "[<matplotlib.lines.Line2D at 0x256373f0790>]"
      ]
     },
     "execution_count": 44,
     "metadata": {},
     "output_type": "execute_result"
    },
    {
     "data": {
      "text/plain": [
       "Text(0.5, 0, 'Epoch')"
      ]
     },
     "execution_count": 44,
     "metadata": {},
     "output_type": "execute_result"
    },
    {
     "data": {
      "text/plain": [
       "Text(0, 0.5, 'Loss')"
      ]
     },
     "execution_count": 44,
     "metadata": {},
     "output_type": "execute_result"
    },
    {
     "data": {
      "text/plain": [
       "Text(0.5, 1.0, 'Loss vs Epoch')"
      ]
     },
     "execution_count": 44,
     "metadata": {},
     "output_type": "execute_result"
    },
    {
     "data": {
      "text/plain": [
       "<matplotlib.legend.Legend at 0x25637327f10>"
      ]
     },
     "execution_count": 44,
     "metadata": {},
     "output_type": "execute_result"
    },
    {
     "data": {
      "text/plain": [
       "<Figure size 640x480 with 0 Axes>"
      ]
     },
     "execution_count": 44,
     "metadata": {},
     "output_type": "execute_result"
    },
    {
     "data": {
      "text/plain": [
       "[<matplotlib.lines.Line2D at 0x2563438d390>]"
      ]
     },
     "execution_count": 44,
     "metadata": {},
     "output_type": "execute_result"
    },
    {
     "data": {
      "text/plain": [
       "[<matplotlib.lines.Line2D at 0x2563438d3f0>]"
      ]
     },
     "execution_count": 44,
     "metadata": {},
     "output_type": "execute_result"
    },
    {
     "data": {
      "text/plain": [
       "[<matplotlib.lines.Line2D at 0x2563438d7e0>]"
      ]
     },
     "execution_count": 44,
     "metadata": {},
     "output_type": "execute_result"
    },
    {
     "data": {
      "text/plain": [
       "[<matplotlib.lines.Line2D at 0x256373f3dc0>]"
      ]
     },
     "execution_count": 44,
     "metadata": {},
     "output_type": "execute_result"
    },
    {
     "data": {
      "text/plain": [
       "[<matplotlib.lines.Line2D at 0x2563438d990>]"
      ]
     },
     "execution_count": 44,
     "metadata": {},
     "output_type": "execute_result"
    },
    {
     "data": {
      "text/plain": [
       "[<matplotlib.lines.Line2D at 0x2563438dc90>]"
      ]
     },
     "execution_count": 44,
     "metadata": {},
     "output_type": "execute_result"
    },
    {
     "data": {
      "text/plain": [
       "[<matplotlib.lines.Line2D at 0x2563438df30>]"
      ]
     },
     "execution_count": 44,
     "metadata": {},
     "output_type": "execute_result"
    },
    {
     "data": {
      "text/plain": [
       "[<matplotlib.lines.Line2D at 0x2563438e1d0>]"
      ]
     },
     "execution_count": 44,
     "metadata": {},
     "output_type": "execute_result"
    },
    {
     "data": {
      "text/plain": [
       "Text(0.5, 0, 'Epoch')"
      ]
     },
     "execution_count": 44,
     "metadata": {},
     "output_type": "execute_result"
    },
    {
     "data": {
      "text/plain": [
       "Text(0, 0.5, 'Error (L1 norm)')"
      ]
     },
     "execution_count": 44,
     "metadata": {},
     "output_type": "execute_result"
    },
    {
     "data": {
      "text/plain": [
       "Text(0.5, 1.0, 'Error (L1 norm) vs Epoch')"
      ]
     },
     "execution_count": 44,
     "metadata": {},
     "output_type": "execute_result"
    },
    {
     "data": {
      "text/plain": [
       "<matplotlib.legend.Legend at 0x25637375d80>"
      ]
     },
     "execution_count": 44,
     "metadata": {},
     "output_type": "execute_result"
    },
    {
     "data": {
      "text/plain": [
       "<Figure size 640x480 with 0 Axes>"
      ]
     },
     "execution_count": 44,
     "metadata": {},
     "output_type": "execute_result"
    },
    {
     "data": {
      "text/plain": [
       "[<matplotlib.lines.Line2D at 0x25634435120>]"
      ]
     },
     "execution_count": 44,
     "metadata": {},
     "output_type": "execute_result"
    },
    {
     "data": {
      "text/plain": [
       "[<matplotlib.lines.Line2D at 0x25634435330>]"
      ]
     },
     "execution_count": 44,
     "metadata": {},
     "output_type": "execute_result"
    },
    {
     "data": {
      "text/plain": [
       "[<matplotlib.lines.Line2D at 0x25634435570>]"
      ]
     },
     "execution_count": 44,
     "metadata": {},
     "output_type": "execute_result"
    },
    {
     "data": {
      "text/plain": [
       "[<matplotlib.lines.Line2D at 0x25634435870>]"
      ]
     },
     "execution_count": 44,
     "metadata": {},
     "output_type": "execute_result"
    },
    {
     "data": {
      "text/plain": [
       "[<matplotlib.lines.Line2D at 0x25634435b10>]"
      ]
     },
     "execution_count": 44,
     "metadata": {},
     "output_type": "execute_result"
    },
    {
     "data": {
      "text/plain": [
       "[<matplotlib.lines.Line2D at 0x25634435db0>]"
      ]
     },
     "execution_count": 44,
     "metadata": {},
     "output_type": "execute_result"
    },
    {
     "data": {
      "text/plain": [
       "[<matplotlib.lines.Line2D at 0x25634435ff0>]"
      ]
     },
     "execution_count": 44,
     "metadata": {},
     "output_type": "execute_result"
    },
    {
     "data": {
      "text/plain": [
       "[<matplotlib.lines.Line2D at 0x25634436320>]"
      ]
     },
     "execution_count": 44,
     "metadata": {},
     "output_type": "execute_result"
    },
    {
     "data": {
      "text/plain": [
       "Text(0.5, 0, 'Epoch')"
      ]
     },
     "execution_count": 44,
     "metadata": {},
     "output_type": "execute_result"
    },
    {
     "data": {
      "text/plain": [
       "Text(0, 0.5, 'Error (L_inf norm)')"
      ]
     },
     "execution_count": 44,
     "metadata": {},
     "output_type": "execute_result"
    },
    {
     "data": {
      "text/plain": [
       "Text(0.5, 1.0, 'Error (L_inf norm) vs Epoch')"
      ]
     },
     "execution_count": 44,
     "metadata": {},
     "output_type": "execute_result"
    },
    {
     "data": {
      "text/plain": [
       "<matplotlib.legend.Legend at 0x2563440c610>"
      ]
     },
     "execution_count": 44,
     "metadata": {},
     "output_type": "execute_result"
    },
    {
     "name": "stdout",
     "output_type": "stream",
     "text": [
      "The code has finished running.\n"
     ]
    },
    {
     "data": {
      "image/png": "[encoded data removed]",
      "text/plain": [
       "<Figure size 640x480 with 1 Axes>"
      ]
     },
     "metadata": {},
     "output_type": "display_data"
    },
    {
     "data": {
      "image/png": "[encoded data removed]",
      "text/plain": [
       "<Figure size 640x480 with 1 Axes>"
      ]
     },
     "metadata": {},
     "output_type": "display_data"
    },
    {
     "data": {
      "image/png": "[encoded data removed]",
      "text/plain": [
       "<Figure size 640x480 with 1 Axes>"
      ]
     },
     "metadata": {},
     "output_type": "display_data"
    }
   ],
   "source": [
    "\n",
    "# Converting the lists of errors to numpy arrays for easier indexing\n",
    "train_errors_L1 = np.array(train_errors_L1)\n",
    "test_errors_L1 = np.array(test_errors_L1)\n",
    "train_errors_Linf = np.array(train_errors_Linf)\n",
    "test_errors_Linf = np.array(test_errors_Linf)\n",
    "\n",
    "# Plotting the training and test losses against epochs\n",
    "plt.figure()\n",
    "plt.plot(range(1, NUM_EPOCHS+1), train_losses, label='Training loss')\n",
    "plt.plot(range(1, NUM_EPOCHS+1), test_losses, label='Test loss')\n",
    "plt.xlabel('Epoch')\n",
    "plt.ylabel('Loss')\n",
    "plt.title('Loss vs Epoch')\n",
    "plt.legend()\n",
    "plt.savefig('loss.png')\n",
    "\n",
    "# Plotting the training and test errors in L1 norm against epochs for each primitive variable\n",
    "plt.figure()\n",
    "plt.plot(range(1, NUM_EPOCHS+1), train_errors_L1[:, 0], label='Training error for rho')\n",
    "plt.plot(range(1, NUM_EPOCHS+1), test_errors_L1[:, 0], label='Test error for rho')\n",
    "plt.plot(range(1, NUM_EPOCHS+1), train_errors_L1[:, 1], label='Training error for eps')\n",
    "plt.plot(range(1, NUM_EPOCHS+1), test_errors_L1[:, 1], label='Test error for eps')\n",
    "plt.plot(range(1, NUM_EPOCHS+1), train_errors_L1[:, 2], label='Training error for vx')\n",
    "plt.plot(range(1, NUM_EPOCHS+1), test_errors_L1[:, 2], label='Test error for vx')\n",
    "plt.plot(range(1, NUM_EPOCHS+1), train_errors_L1[:, 3], label='Training error for p')\n",
    "plt.plot(range(1, NUM_EPOCHS+1), test_errors_L1[:, 3], label='Test error for p')\n",
    "plt.xlabel('Epoch')\n",
    "plt.ylabel('Error (L1 norm)')\n",
    "plt.title('Error (L1 norm) vs Epoch')\n",
    "plt.legend()\n",
    "plt.savefig('error_L1.png')\n",
    "\n",
    "# Plotting the training and test errors in L_inf norm against epochs for each primitive variable\n",
    "plt.figure()\n",
    "plt.plot(range(1, NUM_EPOCHS+1), train_errors_Linf[:, 0], label='Training error for rho')\n",
    "plt.plot(range(1, NUM_EPOCHS+1), test_errors_Linf[:, 0], label='Test error for rho')\n",
    "plt.plot(range(1, NUM_EPOCHS+1), train_errors_Linf[:, 1], label='Training error for eps')\n",
    "plt.plot(range(1, NUM_EPOCHS+1), test_errors_Linf[:, 1], label='Test error for eps')\n",
    "plt.plot(range(1, NUM_EPOCHS+1), train_errors_Linf[:, 2], label='Training error for vx')\n",
    "plt.plot(range(1, NUM_EPOCHS+1), test_errors_Linf[:, 2], label='Test error for vx')\n",
    "plt.plot(range(1, NUM_EPOCHS+1), train_errors_Linf[:, 3], label='Training error for p')\n",
    "plt.plot(range(1, NUM_EPOCHS+1), test_errors_Linf[:, 3], label='Test error for p')\n",
    "plt.xlabel('Epoch')\n",
    "plt.ylabel('Error (L_inf norm)')\n",
    "plt.title('Error (L_inf norm) vs Epoch')\n",
    "plt.legend()\n",
    "plt.savefig('error_Linf.png')\n",
    "\n",
    "# Saving the model parameters to a file\n",
    "torch.save(model.state_dict(), 'model.pth')\n",
    "\n",
    "# Printing a message to indicate the end of the code\n",
    "print(\"The code has finished running.\")\n"
   ]
  }
 ],
 "metadata": {
  "kernelspec": {
   "display_name": "BScPhysics",
   "language": "python",
   "name": "python3"
  },
  "language_info": {
   "codemirror_mode": {
    "name": "ipython",
    "version": 3
   },
   "file_extension": ".py",
   "mimetype": "text/x-python",
   "name": "python",
   "nbconvert_exporter": "python",
   "pygments_lexer": "ipython3",
   "version": "3.10.9"
  },
  "orig_nbformat": 4
 },
 "nbformat": 4,
 "nbformat_minor": 2
}
