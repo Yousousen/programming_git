{
 "cells": [
  {
   "attachments": {},
   "cell_type": "markdown",
   "metadata": {},
   "source": [
    "# Neural network to learn conservative-to-primitive conversion in relativistic hydrodynamics\n",
    "We use Optuna to do a type of Bayesian optimization of the hyperparameters of the model. We then train the model using these hyperparameters to recover the primitive pressure from the conserved variables.\n",
    "\n",
    "Use this first cell to convert this notebook to a python script."
   ]
  },
  {
   "cell_type": "code",
   "execution_count": 12,
   "metadata": {
    "tags": [
     "remove_cell"
    ]
   },
   "outputs": [
    {
     "name": "stderr",
     "output_type": "stream",
     "text": [
      "C:\\Users\\bvptr\\anaconda3\\envs\\bsc\\Lib\\site-packages\\traitlets\\traitlets.py:2548: FutureWarning: Supporting extra quotes around strings is deprecated in traitlets 5.0. You can use 'remove_cell' instead of \"'remove_cell'\" if you require traitlets >=5.\n",
      "  warn(\n",
      "[NbConvertApp] Converting notebook pt3.ipynb to script\n",
      "[NbConvertApp] Writing 32574 bytes to pt3.py\n"
     ]
    }
   ],
   "source": [
    "!jupyter nbconvert pt3.ipynb --TagRemovePreprocessor.enabled=True --TagRemovePreprocessor.remove_cell_tags='{\"remove_cell\"}' --to script"
   ]
  },
  {
   "cell_type": "code",
   "execution_count": 13,
   "metadata": {},
   "outputs": [],
   "source": [
    "# Importing the libraries\n",
    "import numpy as np\n",
    "import matplotlib.pyplot as plt\n",
    "import torch\n",
    "import torch.nn as nn\n",
    "import torch.optim as optim\n",
    "import torch.nn.functional as F\n",
    "import optuna\n",
    "import tensorboardX as tbx"
   ]
  },
  {
   "cell_type": "markdown",
   "metadata": {},
   "source": [
    "## Generating the data"
   ]
  },
  {
   "cell_type": "code",
   "execution_count": 14,
   "metadata": {},
   "outputs": [],
   "source": [
    "# Checking if GPU is available and setting the device accordingly\n",
    "device = torch.device(\"cuda\" if torch.cuda.is_available() else \"cpu\")\n",
    "\n",
    "# Defining some constants or parameters for convenience\n",
    "OPTIMIZE = False # Whether to optimize the hyperparameters or to use predetermined values from Dieseldorst et al..\n",
    "c = 1  # Speed of light (used in compute_conserved_variables and sample_primitive_variables functions)\n",
    "gamma = 5 / 3  # Adiabatic index (used in eos_analytic function)\n",
    "n_train_samples = 80000 # Number of training samples (used in generate_input_data and generate_labels functions)\n",
    "n_test_samples = 10000 # Number of test samples (used in generate_input_data and generate_labels functions)\n",
    "rho_interval = (0, 10.1) # Sampling interval for rest-mass density (used in sample_primitive_variables function)\n",
    "vx_interval = (0, 0.721 * c) # Sampling interval for velocity in x-direction (used in sample_primitive_variables function)\n",
    "epsilon_interval = (0, 2.02) # Sampling interval for specific internal energy (used in sample_primitive_variables function)\n",
    "\n",
    "# Uncomment for pseudorandom data.\n",
    "np.random.seed(0)\n",
    "\n",
    "# Defining an analytic equation of state (EOS) for an ideal gas\n",
    "def eos_analytic(rho, epsilon):\n",
    "    \"\"\"Computes the pressure from rest-mass density and specific internal energy using an analytic EOS.\n",
    "\n",
    "    Args:\n",
    "        rho (torch.Tensor): The rest-mass density tensor of shape (n_samples,).\n",
    "        epsilon (torch.Tensor): The specific internal energy tensor of shape (n_samples,).\n",
    "\n",
    "    Returns:\n",
    "        torch.Tensor: The pressure tensor of shape (n_samples,).\n",
    "    \"\"\"\n",
    "    # Adding some assertions to check that the input tensors are valid and have the expected shape and type \n",
    "    assert isinstance(rho, torch.Tensor), \"rho must be a torch.Tensor\"\n",
    "    assert isinstance(epsilon, torch.Tensor), \"epsilon must be a torch.Tensor\"\n",
    "    assert rho.shape == epsilon.shape, \"rho and epsilon must have the same shape\"\n",
    "    assert rho.ndim == 1, \"rho and epsilon must be one-dimensional tensors\"\n",
    "    assert rho.dtype == torch.float32, \"rho and epsilon must have dtype torch.float32\"\n",
    "\n",
    "    return (gamma - 1) * rho * epsilon\n",
    "\n",
    "\n",
    "# Defining a function that samples primitive variables from uniform distributions\n",
    "def sample_primitive_variables(n_samples):\n",
    "    \"\"\"Samples primitive variables from uniform distributions.\n",
    "\n",
    "    Args:\n",
    "        n_samples (int): The number of samples to generate.\n",
    "\n",
    "    Returns:\n",
    "        tuple: A tuple of (rho, vx, epsilon), where rho is rest-mass density,\n",
    "            vx is velocity in x-direction,\n",
    "            epsilon is specific internal energy,\n",
    "            each being a numpy array of shape (n_samples,).\n",
    "    \"\"\"\n",
    "    # Sampling from uniform distributions with intervals matching Dieseldorst et al.\n",
    "    rho = np.random.uniform(*rho_interval, size=n_samples)  # Rest-mass density\n",
    "    vx = np.random.uniform(*vx_interval, size=n_samples)  # Velocity in x-direction\n",
    "    epsilon = np.random.uniform(*epsilon_interval, size=n_samples)  # Specific internal energy\n",
    "\n",
    "    # Returning the primitive variables\n",
    "    return rho, vx, epsilon\n",
    "\n",
    "\n",
    "# Defining a function that computes conserved variables from primitive variables\n",
    "def compute_conserved_variables(rho, vx, epsilon):\n",
    "    \"\"\"Computes conserved variables from primitive variables.\n",
    "\n",
    "    Args:\n",
    "        rho (torch.Tensor): The rest-mass density tensor of shape (n_samples,).\n",
    "        vx (torch.Tensor): The velocity in x-direction tensor of shape (n_samples,).\n",
    "        epsilon (torch.Tensor): The specific internal energy tensor of shape (n_samples,).\n",
    "\n",
    "    Returns:\n",
    "        tuple: A tuple of (D, Sx, tau), where D is conserved density,\n",
    "            Sx is conserved momentum in x-direction,\n",
    "            tau is conserved energy density,\n",
    "            each being a torch tensor of shape (n_samples,).\n",
    "    \"\"\"\n",
    "\n",
    "    # Computing the pressure from the primitive variables using the EOS\n",
    "    p = eos_analytic(rho, epsilon)\n",
    "    # Computing the Lorentz factor from the velocity.\n",
    "    W = 1 / torch.sqrt(1 - vx ** 2 / c ** 2)\n",
    "    # Specific enthalpy\n",
    "    h = 1 + epsilon + p / rho  \n",
    "\n",
    "    # Computing the conserved variables from the primitive variables\n",
    "    D = rho * W  # Conserved density\n",
    "    Sx = rho * h * W ** 2 * vx  # Conserved momentum in x-direction\n",
    "    tau = rho * h * W ** 2 - p - D  # Conserved energy density\n",
    "\n",
    "    # Returning the conserved variables\n",
    "    return D, Sx, tau\n",
    "\n",
    "\n",
    "# Defining a function that generates input data (conserved variables) from random samples of primitive variables\n",
    "def generate_input_data(n_samples):\n",
    "    \"\"\"Generates input data (conserved variables) from random samples of primitive variables.\n",
    "\n",
    "    Args:\n",
    "        n_samples (int): The number of samples to generate.\n",
    "\n",
    "    Returns:\n",
    "        torch.Tensor: The input data tensor of shape (n_samples, 3).\n",
    "    \"\"\"\n",
    "    # Sampling the primitive variables using the sample_primitive_variables function\n",
    "    rho, vx, epsilon = sample_primitive_variables(n_samples)\n",
    "\n",
    "    # Converting the numpy arrays to torch tensors and moving them to the device\n",
    "    rho = torch.tensor(rho, dtype=torch.float32).to(device)\n",
    "    vx = torch.tensor(vx, dtype=torch.float32).to(device)\n",
    "    epsilon = torch.tensor(epsilon, dtype=torch.float32).to(device)\n",
    "\n",
    "    # Computing the conserved variables using the compute_conserved_variables function\n",
    "    D, Sx, tau = compute_conserved_variables(rho, vx, epsilon)\n",
    "\n",
    "    # Stacking the conserved variables into a torch tensor\n",
    "    x = torch.stack([D, Sx, tau], axis=1)\n",
    "\n",
    "    # Returning the input data tensor\n",
    "    return x\n",
    "\n",
    "# Defining a function that generates output data (labels) from random samples of primitive variables\n",
    "def generate_labels(n_samples):\n",
    "    \"\"\"Generates output data (labels) from random samples of primitive variables.\n",
    "\n",
    "    Args:\n",
    "        n_samples (int): The number of samples to generate.\n",
    "\n",
    "    Returns:\n",
    "        torch.Tensor: The output data tensor of shape (n_samples,).\n",
    "    \"\"\"\n",
    "    # Sampling the primitive variables using the sample_primitive_variables function\n",
    "    rho, _, epsilon = sample_primitive_variables(n_samples)\n",
    "\n",
    "    # Converting the numpy arrays to torch tensors and moving them to the device\n",
    "    rho = torch.tensor(rho, dtype=torch.float32).to(device)\n",
    "    epsilon = torch.tensor(epsilon, dtype=torch.float32).to(device)\n",
    "\n",
    "    # Computing the pressure from the primitive variables using the EOS\n",
    "    p = eos_analytic(rho, epsilon)\n",
    "\n",
    "    # Returning the output data tensor\n",
    "    return p\n"
   ]
  },
  {
   "cell_type": "code",
   "execution_count": 15,
   "metadata": {},
   "outputs": [
    {
     "data": {
      "text/plain": [
       "<Figure size 800x400 with 0 Axes>"
      ]
     },
     "execution_count": 15,
     "metadata": {},
     "output_type": "execute_result"
    },
    {
     "data": {
      "text/plain": [
       "<Axes: >"
      ]
     },
     "execution_count": 15,
     "metadata": {},
     "output_type": "execute_result"
    },
    {
     "data": {
      "text/plain": [
       "(array([16008., 10447.,  8413.,  6973.,  5797.,  5255.,  4566.,  3807.,\n",
       "         3448.,  2976.,  2544.,  2202.,  1843.,  1586.,  1301.,  1045.,\n",
       "          784.,   538.,   339.,   128.]),\n",
       " array([1.22714064e-05, 6.75812483e-01, 1.35161269e+00, 2.02741289e+00,\n",
       "        2.70321321e+00, 3.37901354e+00, 4.05481386e+00, 4.73061371e+00,\n",
       "        5.40641403e+00, 6.08221436e+00, 6.75801468e+00, 7.43381500e+00,\n",
       "        8.10961533e+00, 8.78541565e+00, 9.46121597e+00, 1.01370153e+01,\n",
       "        1.08128157e+01, 1.14886160e+01, 1.21644163e+01, 1.28402166e+01,\n",
       "        1.35160170e+01]),\n",
       " <BarContainer object of 20 artists>)"
      ]
     },
     "execution_count": 15,
     "metadata": {},
     "output_type": "execute_result"
    },
    {
     "data": {
      "text/plain": [
       "Text(0.5, 0, 'y_train')"
      ]
     },
     "execution_count": 15,
     "metadata": {},
     "output_type": "execute_result"
    },
    {
     "data": {
      "text/plain": [
       "Text(0, 0.5, 'Frequency')"
      ]
     },
     "execution_count": 15,
     "metadata": {},
     "output_type": "execute_result"
    },
    {
     "data": {
      "text/plain": [
       "<Axes: >"
      ]
     },
     "execution_count": 15,
     "metadata": {},
     "output_type": "execute_result"
    },
    {
     "data": {
      "text/plain": [
       "(array([2035., 1215., 1028.,  837.,  693.,  683.,  570.,  504.,  461.,\n",
       "         370.,  304.,  274.,  230.,  217.,  180.,  167.,  101.,   68.,\n",
       "          43.,   20.]),\n",
       " array([1.02815415e-04, 6.66673183e-01, 1.33324361e+00, 1.99981403e+00,\n",
       "        2.66638446e+00, 3.33295465e+00, 3.99952507e+00, 4.66609573e+00,\n",
       "        5.33266592e+00, 5.99923611e+00, 6.66580677e+00, 7.33237696e+00,\n",
       "        7.99894762e+00, 8.66551781e+00, 9.33208847e+00, 9.99865818e+00,\n",
       "        1.06652288e+01, 1.13317995e+01, 1.19983702e+01, 1.26649399e+01,\n",
       "        1.33315105e+01]),\n",
       " <BarContainer object of 20 artists>)"
      ]
     },
     "execution_count": 15,
     "metadata": {},
     "output_type": "execute_result"
    },
    {
     "data": {
      "text/plain": [
       "Text(0.5, 0, 'y_test')"
      ]
     },
     "execution_count": 15,
     "metadata": {},
     "output_type": "execute_result"
    },
    {
     "data": {
      "text/plain": [
       "Text(0, 0.5, 'Frequency')"
      ]
     },
     "execution_count": 15,
     "metadata": {},
     "output_type": "execute_result"
    },
    {
     "data": {
      "image/png": "[encoded data removed]",
      "text/plain": [
       "<Figure size 800x400 with 2 Axes>"
      ]
     },
     "metadata": {},
     "output_type": "display_data"
    },
    {
     "name": "stdout",
     "output_type": "stream",
     "text": [
      "Shape of x_train: torch.Size([80000, 3])\n",
      "Shape of y_train: torch.Size([80000])\n",
      "Shape of x_test: torch.Size([10000, 3])\n",
      "Shape of y_test: torch.Size([10000])\n"
     ]
    }
   ],
   "source": [
    "\n",
    "# Generating the input and output data for train and test sets using the functions defined\n",
    "# Using the same number of samples as Dieseldorst et al.\n",
    "x_train = generate_input_data(n_train_samples)\n",
    "y_train = generate_labels(n_train_samples) \n",
    "x_test = generate_input_data(n_test_samples) \n",
    "y_test = generate_labels(n_test_samples) \n",
    "\n",
    "# Checking if our output is always positive by plotting a histogram of y_train and y_test tensors \n",
    "plt.figure(figsize=(8, 4))\n",
    "plt.subplot(1, 2, 1)\n",
    "plt.hist(y_train.cpu().numpy(), bins=20)\n",
    "plt.xlabel(\"y_train\")\n",
    "plt.ylabel(\"Frequency\")\n",
    "plt.subplot(1, 2, 2)\n",
    "plt.hist(y_test.cpu().numpy(), bins=20)\n",
    "plt.xlabel(\"y_test\")\n",
    "plt.ylabel(\"Frequency\")\n",
    "plt.tight_layout()\n",
    "plt.show()\n",
    "\n",
    "# Checking the shapes of the data tensors\n",
    "print(\"Shape of x_train:\", x_train.shape)\n",
    "print(\"Shape of y_train:\", y_train.shape)\n",
    "print(\"Shape of x_test:\", x_test.shape)\n",
    "print(\"Shape of y_test:\", y_test.shape)"
   ]
  },
  {
   "cell_type": "markdown",
   "metadata": {},
   "source": [
    "## Defining the neural network"
   ]
  },
  {
   "cell_type": "code",
   "execution_count": 16,
   "metadata": {},
   "outputs": [],
   "source": [
    "# Defining a class for the network\n",
    "class Net(nn.Module):\n",
    "    \"\"\"A class for creating a network with a\n",
    "    variable number of hidden layers and units.\n",
    "\n",
    "    Attributes:\n",
    "        n_layers (int): The number of hidden layers in the network.\n",
    "        n_units (list): A list of integers representing the number of units in each hidden layer.\n",
    "        hidden_activation (torch.nn.Module): The activation function for the hidden layers.\n",
    "        output_activation (torch.nn.Module): The activation function for the output layer.\n",
    "        layers (torch.nn.ModuleList): A list of linear layers in the network.\n",
    "    \"\"\"\n",
    "\n",
    "    def __init__(self, n_layers, n_units, hidden_activation, output_activation):\n",
    "        \"\"\"Initializes the network with the given hyperparameters.\n",
    "\n",
    "        Args:\n",
    "            n_layers (int): The number of hidden layers in the network.\n",
    "            n_units (list): A list of integers representing the number of units in each hidden layer.\n",
    "            hidden_activation (torch.nn.Module): The activation function for the hidden layers.\n",
    "            output_activation (torch.nn.Module): The activation function for the output layer.\n",
    "        \"\"\"\n",
    "        super().__init__()\n",
    "        self.n_layers = n_layers\n",
    "        self.n_units = n_units\n",
    "        self.hidden_activation = hidden_activation\n",
    "        self.output_activation = output_activation\n",
    "\n",
    "        # Creating a list of linear layers with different numbers of units for each layer\n",
    "        self.layers = nn.ModuleList([nn.Linear(3, n_units[0])])\n",
    "        for i in range(1, n_layers):\n",
    "            self.layers.append(nn.Linear(n_units[i - 1], n_units[i]))\n",
    "        self.layers.append(nn.Linear(n_units[-1], 1))\n",
    "\n",
    "        # Adding some assertions to check that the input arguments are valid # CHANGED: Added assertions and comments\n",
    "        assert isinstance(n_layers, int) and n_layers > 0, \"n_layers must be a positive integer\"\n",
    "        assert isinstance(n_units, list) and len(n_units) == n_layers, \"n_units must be a list of length n_layers\"\n",
    "        assert all(isinstance(n, int) and n > 0 for n in n_units), \"n_units must contain positive integers\"\n",
    "        assert isinstance(hidden_activation, nn.Module), \"hidden_activation must be a torch.nn.Module\"\n",
    "        assert isinstance(output_activation, nn.Module), \"output_activation must be a torch.nn.Module\"\n",
    "\n",
    "    def forward(self, x):\n",
    "        \"\"\"Performs a forward pass on the input tensor.\n",
    "\n",
    "        Args:\n",
    "            x (torch.Tensor): The input tensor of shape (batch_size, 3).\n",
    "\n",
    "        Returns:\n",
    "            torch.Tensor: The output tensor of shape (batch_size, 1).\n",
    "        \"\"\"\n",
    "        # Looping over the hidden layers and applying the linear transformation and the activation function\n",
    "        for layer in self.layers[:-1]:\n",
    "            x = self.hidden_activation(layer(x))\n",
    "        # Applying the linear transformation and the activation function on the output layer\n",
    "        x = self.output_activation(self.layers[-1](x))\n",
    "\n",
    "        # Returning the output tensor\n",
    "        return x"
   ]
  },
  {
   "cell_type": "markdown",
   "metadata": {},
   "source": [
    "## Defining the model and search space"
   ]
  },
  {
   "cell_type": "code",
   "execution_count": 17,
   "metadata": {},
   "outputs": [],
   "source": [
    "# Defining a function to create a trial network and optimizer\n",
    "def create_model(trial, optimize):\n",
    "    \"\"\"Creates a trial network and optimizer based on the sampled hyperparameters.\n",
    "\n",
    "    Args:\n",
    "        trial (optuna.trial.Trial): The trial object that contains the hyperparameters.\n",
    "        optimize (boolean): Whether to optimize the hyperparameters or to use predefined values.\n",
    "\n",
    "    Returns:\n",
    "        tuple: A tuple of (net, loss_fn, optimizer, batch_size, n_epochs,\n",
    "            scheduler, loss_name, optimizer_name, scheduler_name,\n",
    "            n_units, n_layers, hidden_activation, output_activation),\n",
    "            where net is the trial network,\n",
    "            loss_fn is the loss function,\n",
    "            optimizer is the optimizer,\n",
    "            batch_size is the batch size,\n",
    "            n_epochs is the number of epochs,\n",
    "            scheduler is the learning rate scheduler,\n",
    "            loss_name is the name of the loss function,\n",
    "            optimizer_name is the name of the optimizer,\n",
    "            scheduler_name is the name of the scheduler,\n",
    "            n_units is a list of integers representing\n",
    "            the number of units in each hidden layer,\n",
    "            n_layers is an integer representing the number of hidden layers in the network,\n",
    "            hidden_activation is a torch.nn.Module representing the activation function for the hidden layers,\n",
    "            output_activation is a torch.nn.Module representing the activation function for the output layer.\n",
    "    \"\"\"\n",
    "    # If optimize is True, sample the hyperparameters from the search space\n",
    "    if optimize:\n",
    "        # Sampling the hyperparameters from the search space\n",
    "        n_layers = trial.suggest_int(\"n_layers\", 1, 3)\n",
    "        n_units = [trial.suggest_int(f\"n_units_{i}\", 16, 256) for i in range(n_layers)] \n",
    "        hidden_activation_name = trial.suggest_categorical(\n",
    "            \"hidden_activation\", [\"ReLU\", \"LeakyReLU\", \"ELU\", \"Tanh\", \"Sigmoid\"]\n",
    "        )\n",
    "        output_activation_name = trial.suggest_categorical(\n",
    "            \"output_activation\", [\"Linear\", \"ReLU\"]\n",
    "        ) \n",
    "        loss_name = trial.suggest_categorical(\n",
    "            \"loss\", [\"MSE\", \"MAE\", \"Huber\", \"LogCosh\"] \n",
    "        )\n",
    "        optimizer_name = trial.suggest_categorical(\n",
    "            \"optimizer\", [\"Adam\", \"SGD\", \"RMSprop\", \"Adagrad\"] \n",
    "        )\n",
    "        lr = trial.suggest_loguniform(\"lr\", 1e-4, 1e-2) \n",
    "        batch_size = trial.suggest_int(\"batch_size\", 32, 256)\n",
    "        n_epochs = trial.suggest_int(\"n_epochs\", 50, 100) \n",
    "        scheduler_name = trial.suggest_categorical(\n",
    "            \"scheduler\",\n",
    "            [\"None\", \"CosineAnnealingLR\", \"ReduceLROnPlateau\", \"StepLR\", \"ExponentialLR\"],\n",
    "        )\n",
    "    # If optimize is False, use the predefined values\n",
    "    else:\n",
    "        # Setting the hyperparameters to the predefined values\n",
    "        n_layers = 2\n",
    "        n_units = [600, 200]\n",
    "        hidden_activation_name = \"Sigmoid\"\n",
    "        output_activation_name = \"ReLU\"\n",
    "        loss_name = \"MSE\"\n",
    "        optimizer_name = \"Adam\"\n",
    "        lr = 6e-4\n",
    "        batch_size = 32\n",
    "        n_epochs = 100\n",
    "        scheduler_name = \"ReduceLROnPlateau\"\n",
    "\n",
    "    # Creating the activation functions from their names\n",
    "    if hidden_activation_name == \"ReLU\":\n",
    "        hidden_activation = nn.ReLU()\n",
    "    elif hidden_activation_name == \"LeakyReLU\":\n",
    "        hidden_activation = nn.LeakyReLU() \n",
    "    elif hidden_activation_name == \"ELU\":\n",
    "        hidden_activation = nn.ELU() \n",
    "    elif hidden_activation_name == \"Tanh\":\n",
    "        hidden_activation = nn.Tanh()\n",
    "    else:\n",
    "        hidden_activation = nn.Sigmoid()\n",
    "\n",
    "    if output_activation_name == \"ReLU\":\n",
    "        output_activation = nn.ReLU()\n",
    "    else:\n",
    "        output_activation = nn.Identity()\n",
    "\n",
    "    # Creating the loss function from its name\n",
    "    if loss_name == \"MSE\":\n",
    "        loss_fn = nn.MSELoss()\n",
    "    elif loss_name == \"MAE\":\n",
    "        loss_fn = nn.L1Loss()\n",
    "    elif loss_name == \"Huber\":\n",
    "        loss_fn = nn.SmoothL1Loss() \n",
    "    else:\n",
    "        # Creating the log-cosh loss function\n",
    "        def log_cosh_loss(y_pred, y_true):\n",
    "            return torch.mean(torch.log(torch.cosh(y_pred - y_true)))\n",
    "            \n",
    "        loss_fn = log_cosh_loss\n",
    "\n",
    "    # Creating the network with the sampled hyperparameters\n",
    "    net = Net(\n",
    "        n_layers, n_units, hidden_activation, output_activation\n",
    "    ).to(device)\n",
    "\n",
    "    # Creating the optimizer from its name\n",
    "    if optimizer_name == \"SGD\":\n",
    "        optimizer = optim.SGD(net.parameters(), lr=lr)\n",
    "    elif optimizer_name == \"Adam\":\n",
    "        optimizer = optim.Adam(net.parameters(), lr=lr)\n",
    "    elif optimizer_name == \"RMSprop\":\n",
    "        optimizer = optim.RMSprop(net.parameters(), lr=lr)\n",
    "    else:\n",
    "        # Added creating the Adagrad optimizer\n",
    "        optimizer = optim.Adagrad(net.parameters(), lr=lr)\n",
    "\n",
    "    # Creating the learning rate scheduler from its name\n",
    "    if scheduler_name == \"StepLR\":\n",
    "        scheduler = optim.lr_scheduler.StepLR(optimizer, step_size=10, gamma=0.1)\n",
    "    elif scheduler_name == \"ExponentialLR\":\n",
    "        scheduler = optim.lr_scheduler.ExponentialLR(optimizer, gamma=0.9)\n",
    "    elif scheduler_name == \"CosineAnnealingLR\":\n",
    "        # Added creating the CosineAnnealingLR scheduler\n",
    "        scheduler = optim.lr_scheduler.CosineAnnealingLR(optimizer, T_max=10)\n",
    "    elif scheduler_name == \"ReduceLROnPlateau\":\n",
    "        # Added creating the ReduceLROnPlateau scheduler\n",
    "        # Creating the ReduceLROnPlateau scheduler with a threshold value of 0.01\n",
    "        #scheduler = optim.lr_scheduler.ReduceLROnPlateau(\n",
    "        #    optimizer, mode=\"min\", factor=0.1, patience=10, threshold=0.01\n",
    "        #)\n",
    "        # Use Dieseldorst et al. settings and add to that a minimum lr.\n",
    "        scheduler = optim.lr_scheduler.ReduceLROnPlateau(\n",
    "                    optimizer, mode=\"min\", factor=0.5, patience=5, threshold=0.0005, min_lr=1e-6\n",
    "                )\n",
    "    else:\n",
    "        scheduler = None\n",
    "\n",
    "    # Returning all variables needed for saving and loading\n",
    "    return net, loss_fn, optimizer, batch_size, n_epochs, scheduler, loss_name, optimizer_name, scheduler_name, n_units, n_layers, hidden_activation, output_activation\n"
   ]
  },
  {
   "attachments": {},
   "cell_type": "markdown",
   "metadata": {},
   "source": [
    " ## The training and evaluation loop\n",
    "\n",
    " We first define a couple of functions used in the training and evaluation."
   ]
  },
  {
   "cell_type": "code",
   "execution_count": 18,
   "metadata": {},
   "outputs": [],
   "source": [
    "# Defining a function that computes loss and metrics for a given batch\n",
    "def compute_loss_and_metrics(y_pred, y_true, loss_fn):\n",
    "    \"\"\"Computes loss and metrics for a given batch.\n",
    "\n",
    "    Args:\n",
    "        y_pred (torch.Tensor): The predicted pressure tensor of shape (batch_size, 1).\n",
    "        y_true (torch.Tensor): The true pressure tensor of shape (batch_size,).\n",
    "        loss_fn (torch.nn.Module or function): The loss function to use.\n",
    "\n",
    "    Returns:\n",
    "        tuple: A tuple of (loss, l1_norm), where loss is a scalar tensor,\n",
    "            l1_norm is L1 norm for relative error of pressure,\n",
    "            each being a scalar tensor.\n",
    "            linf_norm is Linf norm for relative error of pressure.\n",
    "    \"\"\"\n",
    "    # Reshaping the target tensor to match the input tensor\n",
    "    y_true = y_true.view(-1, 1)\n",
    "\n",
    "    # Computing the loss using the loss function\n",
    "    loss = loss_fn(y_pred, y_true)\n",
    "\n",
    "    # Computing the relative error of pressure\n",
    "    rel_error = torch.abs((y_pred - y_true) / y_true)\n",
    "\n",
    "    # Computing the L1 norm for the relative error of pressure\n",
    "    l1_norm = torch.mean(rel_error) \n",
    "    # Computing the Linf norm for the relative error of pressure\n",
    "    linf_norm = torch.max(rel_error) \n",
    "\n",
    "    # Returning the loss and metrics\n",
    "    return loss, l1_norm, linf_norm\n",
    "\n",
    "\n",
    "# Defining a function that updates the learning rate scheduler with validation loss if applicable\n",
    "def update_scheduler(scheduler, test_loss):\n",
    "    \"\"\"Updates the learning rate scheduler with validation loss if applicable.\n",
    "\n",
    "    Args:\n",
    "        scheduler (torch.optim.lr_scheduler._LRScheduler or None): The learning rate scheduler to use.\n",
    "        test_loss (float): The validation loss to use.\n",
    "\n",
    "    Returns:\n",
    "        None\n",
    "    \"\"\"\n",
    "    # Checking if scheduler is not None\n",
    "    if scheduler is not None:\n",
    "        # Checking if scheduler is ReduceLROnPlateau\n",
    "        if isinstance(scheduler, optim.lr_scheduler.ReduceLROnPlateau):\n",
    "            # Updating the scheduler with test_loss\n",
    "            scheduler.step(test_loss)\n",
    "        else:\n",
    "            # Updating the scheduler without test_loss\n",
    "            scheduler.step()\n"
   ]
  },
  {
   "attachments": {},
   "cell_type": "markdown",
   "metadata": {},
   "source": [
    "Now for the actual training and evaluation loop,"
   ]
  },
  {
   "cell_type": "code",
   "execution_count": 19,
   "metadata": {},
   "outputs": [],
   "source": [
    "# Defining a function to train and evaluate a network\n",
    "def train_and_eval(net, loss_fn, optimizer, batch_size, n_epochs, scheduler, trial=None):\n",
    "    \"\"\"Trains and evaluates a network.\n",
    "\n",
    "    Args:\n",
    "        net (torch.nn.Module): The network to train and evaluate.\n",
    "        loss_fn (torch.nn.Module or function): The loss function.\n",
    "        optimizer (torch.optim.Optimizer): The optimizer.\n",
    "        batch_size (int): The batch size.\n",
    "        n_epochs (int): The number of epochs.\n",
    "        scheduler (torch.optim.lr_scheduler._LRScheduler or None): The learning rate scheduler.\n",
    "    Returns:\n",
    "        tuple: A tuple of (train_losses, test_losses, train_metrics, test_metrics), where\n",
    "            train_losses is a list of training losses for each epoch,\n",
    "            test_losses is a list of validation losses for each epoch,\n",
    "            train_metrics is a list of dictionaries containing training metrics for each epoch,\n",
    "            test_metrics is a list of dictionaries containing validation metrics for each epoch.\n",
    "    \"\"\"\n",
    "    # Creating data loaders for train and test sets\n",
    "    train_loader = torch.utils.data.DataLoader(\n",
    "        torch.utils.data.TensorDataset(x_train, y_train), batch_size=batch_size, shuffle=True\n",
    "    )\n",
    "    test_loader = torch.utils.data.DataLoader(\n",
    "        torch.utils.data.TensorDataset(x_test, y_test), batch_size=batch_size\n",
    "    )\n",
    "\n",
    "    # Initializing lists to store the losses and metrics for each epoch\n",
    "    train_losses = []\n",
    "    test_losses = []\n",
    "    train_metrics = []\n",
    "    test_metrics = []\n",
    "\n",
    "    # Creating a SummaryWriter object to log data for tensorboard\n",
    "    writer = tbx.SummaryWriter()\n",
    "\n",
    "    # Looping over the epochs\n",
    "    for epoch in range(n_epochs):\n",
    "\n",
    "        # Setting the network to training mode\n",
    "        net.train()\n",
    "\n",
    "        # Initializing variables to store the total loss and metrics for the train set\n",
    "        train_loss = 0.0\n",
    "        train_l1_norm = 0.0\n",
    "        train_linf_norm = 0.0\n",
    "\n",
    "        # Looping over the batches in the train set\n",
    "        for x_batch, y_batch in train_loader:\n",
    "\n",
    "            # Moving the batch tensors to the device\n",
    "            x_batch = x_batch.to(device)\n",
    "            y_batch = y_batch.to(device)\n",
    "\n",
    "            # Zeroing the gradients\n",
    "            optimizer.zero_grad()\n",
    "\n",
    "            # Performing a forward pass and computing the loss and metrics\n",
    "            y_pred = net(x_batch)\n",
    "            loss, l1_norm, linf_norm = compute_loss_and_metrics(\n",
    "                y_pred, y_batch, loss_fn\n",
    "            )\n",
    "\n",
    "\n",
    "            # Performing a backward pass and updating the weights\n",
    "            loss.backward()\n",
    "            optimizer.step()\n",
    "\n",
    "            # Updating the total loss and metrics for the train set\n",
    "            train_loss += loss.item() * x_batch.size(0)\n",
    "            train_l1_norm += l1_norm.item() * x_batch.size(0)\n",
    "            train_linf_norm += linf_norm.item() * x_batch.size(0)\n",
    "\n",
    "        # Computing the average loss and metrics for the train set\n",
    "        train_loss /= len(train_loader.dataset)\n",
    "        train_l1_norm /= len(train_loader.dataset)\n",
    "        train_linf_norm /= len(train_loader.dataset)\n",
    "\n",
    "        # Appending the average loss and metrics for the train set to the lists\n",
    "        train_losses.append(train_loss)\n",
    "        train_metrics.append(\n",
    "            {\n",
    "                \"l1_norm\": train_l1_norm,\n",
    "                \"linf_norm\": train_linf_norm,\n",
    "            }\n",
    "        )\n",
    "\n",
    "        # Logging the average loss and metrics for the train set to tensorboard\n",
    "        writer.add_scalar(\"Loss/train\", train_loss, epoch)\n",
    "        writer.add_scalar(\"L1 norm/train\", train_l1_norm, epoch)\n",
    "        writer.add_scalar(\"Linf norm/train\", train_linf_norm, epoch)\n",
    "\n",
    "        # Setting the network to evaluation mode\n",
    "        net.eval()\n",
    "\n",
    "        # Initializing variables to store the total loss and metrics for the test set\n",
    "        test_loss = 0.0\n",
    "        test_l1_norm = 0.0\n",
    "        test_linf_norm = 0.0\n",
    "\n",
    "        # Looping over the batches in the test set\n",
    "        with torch.no_grad():\n",
    "            for x_batch, y_batch in test_loader:\n",
    "\n",
    "                # Moving the batch tensors to the device\n",
    "                x_batch = x_batch.to(device)\n",
    "                y_batch = y_batch.to(device)\n",
    "\n",
    "                # Performing a forward pass and computing the loss and metrics\n",
    "                y_pred = net(x_batch)\n",
    "                loss, l1_norm, linf_norm = compute_loss_and_metrics(\n",
    "                    y_pred, y_batch, loss_fn\n",
    "                )\n",
    "\n",
    "\n",
    "                # Updating the total loss and metrics for the test set\n",
    "                test_loss += loss.item() * x_batch.size(0)\n",
    "                test_l1_norm += l1_norm.item() * x_batch.size(0)\n",
    "                test_linf_norm += linf_norm.item() * x_batch.size(0)\n",
    "\n",
    "        # Computing the average loss and metrics for the test set\n",
    "        test_loss /= len(test_loader.dataset)\n",
    "        test_l1_norm /= len(test_loader.dataset)\n",
    "        test_linf_norm /= len(test_loader.dataset)\n",
    "\n",
    "        # Appending the average loss and metrics for the test set to the lists\n",
    "        test_losses.append(test_loss)\n",
    "        test_metrics.append(\n",
    "            {\n",
    "                \"l1_norm\": test_l1_norm,\n",
    "                \"linf_norm\": test_linf_norm,\n",
    "            }\n",
    "        )\n",
    "\n",
    "        # Logging the average loss and metrics for the test set to tensorboard\n",
    "        writer.add_scalar(\"Loss/test\", test_loss, epoch)\n",
    "        writer.add_scalar(\"L1 norm/test\", test_l1_norm, epoch)\n",
    "        writer.add_scalar(\"Linf norm/test\", test_linf_norm, epoch)\n",
    "\n",
    "        # Printing the average loss and metrics for both sets for this epoch\n",
    "        print(\n",
    "            f\"Epoch {epoch + 1}: Train Loss: {train_loss:.4f}, Test Loss: {test_loss:.4f}, \"\n",
    "            f\"Train L1 Norm: {train_l1_norm:.4f}, Test L1 Norm: {test_l1_norm:.4f}, \"\n",
    "            f\"Train Linf Norm: {train_linf_norm:.4f}, Test Linf Norm: {test_linf_norm:.4f}\"\n",
    "        )\n",
    "\n",
    "        # Updating the learning rate scheduler with validation loss if applicable\n",
    "        update_scheduler(scheduler, test_loss)\n",
    "\n",
    "        # Reporting the intermediate metric value to Optuna if trial is not None\n",
    "        if trial is not None:\n",
    "            trial.report(test_metrics[-1][\"l1_norm\"], epoch)\n",
    "\n",
    "            # Checking if the trial should be pruned based on the intermediate value if trial is not None\n",
    "            if trial.should_prune():\n",
    "                raise optuna.TrialPruned()\n",
    "\n",
    "    # Closing the SummaryWriter object\n",
    "    writer.close()\n",
    "\n",
    "    # Returning the losses and metrics lists\n",
    "    return train_losses, test_losses, train_metrics, test_metrics"
   ]
  },
  {
   "cell_type": "markdown",
   "metadata": {},
   "source": [
    "## The objective function and hyperparameter tuning"
   ]
  },
  {
   "cell_type": "code",
   "execution_count": 20,
   "metadata": {},
   "outputs": [],
   "source": [
    "# Defining an objective function for Optuna to minimize\n",
    "def objective(trial):\n",
    "    \"\"\"Defines an objective function for Optuna to minimize.\n",
    "\n",
    "    Args:\n",
    "        trial (optuna.trial.Trial): The trial object that contains the hyperparameters.\n",
    "\n",
    "    Returns:\n",
    "        float: The validation L1 norm to minimize.\n",
    "    \"\"\"\n",
    "    # Creating a trial network and optimizer using the create_model function\n",
    "    net, \\\n",
    "    loss_fn, \\\n",
    "    optimizer, \\\n",
    "    batch_size, \\\n",
    "    n_epochs, \\\n",
    "    scheduler, \\\n",
    "    loss_name, \\\n",
    "    optimizer_name, \\\n",
    "    scheduler_name, \\\n",
    "    n_units, \\\n",
    "    n_layers, \\\n",
    "    hidden_activation, \\\n",
    "    output_activation = create_model(trial)\n",
    "\n",
    "    # Training and evaluating the network using the train_and_eval function\n",
    "    _, _, _, test_metrics = train_and_eval(\n",
    "        net, loss_fn, optimizer, batch_size, n_epochs, scheduler, trial\n",
    "    )\n",
    "\n",
    "    # Returning the last validation L1 norm as the objective value to minimize\n",
    "    return test_metrics[-1][\"l1_norm\"]"
   ]
  },
  {
   "cell_type": "code",
   "execution_count": 21,
   "metadata": {},
   "outputs": [],
   "source": [
    "if OPTIMIZE:\n",
    "    # Creating a study object with Optuna with TPE sampler and median pruner \n",
    "    study = optuna.create_study(direction=\"minimize\", sampler=optuna.samplers.TPESampler(), pruner=optuna.pruners.MedianPruner())\n",
    "\n",
    "    # Running Optuna with 100 trials when we are optimizing.\n",
    "    study.optimize(objective, n_trials=100)\n",
    "\n",
    "    # Printing the best trial information\n",
    "    print(\"Best trial:\")\n",
    "    trial = study.best_trial\n",
    "    print(\"  Value: \", trial.value)\n",
    "    print(\"  Params: \")\n",
    "    for key, value in trial.params.items():\n",
    "        print(f\"    {key}: {value}\")\n"
   ]
  },
  {
   "cell_type": "markdown",
   "metadata": {},
   "source": [
    "## Training with the best hyperparameters"
   ]
  },
  {
   "cell_type": "code",
   "execution_count": 22,
   "metadata": {},
   "outputs": [
    {
     "name": "stdout",
     "output_type": "stream",
     "text": [
      "Epoch 1: Train Loss: 9.0059, Test Loss: 9.0541, Train L1 Norm: 32.4559, Test L1 Norm: 22.5389, Train Linf Norm: 905.0239, Test Linf Norm: 577.5315\n",
      "Epoch 2: Train Loss: 8.9853, Test Loss: 9.0574, Train L1 Norm: 32.7270, Test L1 Norm: 22.1184, Train Linf Norm: 920.2443, Test Linf Norm: 566.8100\n",
      "Epoch 3: Train Loss: 8.9842, Test Loss: 9.0697, Train L1 Norm: 32.3003, Test L1 Norm: 21.6681, Train Linf Norm: 898.7717, Test Linf Norm: 555.3067\n",
      "Epoch 4: Train Loss: 8.9826, Test Loss: 9.0622, Train L1 Norm: 32.6678, Test L1 Norm: 21.8986, Train Linf Norm: 911.5445, Test Linf Norm: 561.1733\n",
      "Epoch 5: Train Loss: 8.9845, Test Loss: 9.0545, Train L1 Norm: 32.5388, Test L1 Norm: 22.6539, Train Linf Norm: 912.5963, Test Linf Norm: 580.4058\n",
      "Epoch 6: Train Loss: 8.9831, Test Loss: 9.0588, Train L1 Norm: 32.6268, Test L1 Norm: 22.9694, Train Linf Norm: 912.7870, Test Linf Norm: 588.4662\n",
      "Epoch 7: Train Loss: 8.9810, Test Loss: 9.0591, Train L1 Norm: 32.5318, Test L1 Norm: 22.0244, Train Linf Norm: 910.4808, Test Linf Norm: 564.3724\n",
      "Epoch 8: Train Loss: 8.9763, Test Loss: 9.0572, Train L1 Norm: 32.4877, Test L1 Norm: 22.8786, Train Linf Norm: 906.5298, Test Linf Norm: 586.1293\n",
      "Epoch 9: Train Loss: 8.9767, Test Loss: 9.0543, Train L1 Norm: 32.4499, Test L1 Norm: 22.6415, Train Linf Norm: 904.9852, Test Linf Norm: 580.1583\n",
      "Epoch 10: Train Loss: 8.9773, Test Loss: 9.0539, Train L1 Norm: 32.5121, Test L1 Norm: 22.4474, Train Linf Norm: 908.8493, Test Linf Norm: 575.2706\n",
      "Epoch 11: Train Loss: 8.9756, Test Loss: 9.0585, Train L1 Norm: 32.4193, Test L1 Norm: 22.0585, Train Linf Norm: 909.6917, Test Linf Norm: 565.3769\n",
      "Epoch 12: Train Loss: 8.9753, Test Loss: 9.0625, Train L1 Norm: 32.4476, Test L1 Norm: 21.8915, Train Linf Norm: 903.4560, Test Linf Norm: 561.1118\n",
      "Epoch 13: Train Loss: 8.9771, Test Loss: 9.0626, Train L1 Norm: 32.6642, Test L1 Norm: 21.9012, Train Linf Norm: 917.6766, Test Linf Norm: 561.4700\n",
      "Epoch 14: Train Loss: 8.9731, Test Loss: 9.0538, Train L1 Norm: 32.5583, Test L1 Norm: 22.4494, Train Linf Norm: 913.7523, Test Linf Norm: 575.4489\n",
      "Epoch 15: Train Loss: 8.9718, Test Loss: 9.0546, Train L1 Norm: 32.3988, Test L1 Norm: 22.7247, Train Linf Norm: 905.3557, Test Linf Norm: 582.4045\n",
      "Epoch 16: Train Loss: 8.9720, Test Loss: 9.0610, Train L1 Norm: 32.6384, Test L1 Norm: 21.9526, Train Linf Norm: 914.5618, Test Linf Norm: 562.8101\n",
      "Epoch 17: Train Loss: 8.9723, Test Loss: 9.0596, Train L1 Norm: 32.6524, Test L1 Norm: 22.0102, Train Linf Norm: 912.0546, Test Linf Norm: 564.2872\n",
      "Epoch 18: Train Loss: 8.9721, Test Loss: 9.0598, Train L1 Norm: 32.4359, Test L1 Norm: 22.0052, Train Linf Norm: 896.1831, Test Linf Norm: 564.2028\n",
      "Epoch 19: Train Loss: 8.9724, Test Loss: 9.0535, Train L1 Norm: 32.5358, Test L1 Norm: 22.5639, Train Linf Norm: 911.9907, Test Linf Norm: 578.3954\n",
      "Epoch 20: Train Loss: 8.9706, Test Loss: 9.0554, Train L1 Norm: 32.4911, Test L1 Norm: 22.2380, Train Linf Norm: 904.7987, Test Linf Norm: 570.1248\n",
      "Epoch 21: Train Loss: 8.9705, Test Loss: 9.0679, Train L1 Norm: 32.5032, Test L1 Norm: 21.7311, Train Linf Norm: 908.0777, Test Linf Norm: 557.1870\n",
      "Epoch 22: Train Loss: 8.9704, Test Loss: 9.0547, Train L1 Norm: 32.4504, Test L1 Norm: 22.2946, Train Linf Norm: 907.2499, Test Linf Norm: 571.5769\n",
      "Epoch 23: Train Loss: 8.9705, Test Loss: 9.0569, Train L1 Norm: 32.5591, Test L1 Norm: 22.1360, Train Linf Norm: 910.8650, Test Linf Norm: 567.5179\n",
      "Epoch 24: Train Loss: 8.9706, Test Loss: 9.0566, Train L1 Norm: 32.6304, Test L1 Norm: 22.1544, Train Linf Norm: 915.5250, Test Linf Norm: 568.0293\n",
      "Epoch 25: Train Loss: 8.9707, Test Loss: 9.0571, Train L1 Norm: 32.5356, Test L1 Norm: 22.1290, Train Linf Norm: 907.1232, Test Linf Norm: 567.3998\n",
      "Epoch 26: Train Loss: 8.9699, Test Loss: 9.0536, Train L1 Norm: 32.5233, Test L1 Norm: 22.4364, Train Linf Norm: 911.4481, Test Linf Norm: 575.2419\n",
      "Epoch 27: Train Loss: 8.9701, Test Loss: 9.0534, Train L1 Norm: 32.5604, Test L1 Norm: 22.5058, Train Linf Norm: 915.1261, Test Linf Norm: 577.0136\n",
      "Epoch 28: Train Loss: 8.9700, Test Loss: 9.0557, Train L1 Norm: 32.5240, Test L1 Norm: 22.2159, Train Linf Norm: 908.7394, Test Linf Norm: 569.6329\n",
      "Epoch 29: Train Loss: 8.9698, Test Loss: 9.0544, Train L1 Norm: 32.4977, Test L1 Norm: 22.3207, Train Linf Norm: 910.3337, Test Linf Norm: 572.3000\n",
      "Epoch 30: Train Loss: 8.9698, Test Loss: 9.0577, Train L1 Norm: 32.5646, Test L1 Norm: 22.0988, Train Linf Norm: 912.4246, Test Linf Norm: 566.6529\n",
      "Epoch 31: Train Loss: 8.9701, Test Loss: 9.0574, Train L1 Norm: 32.5479, Test L1 Norm: 22.1109, Train Linf Norm: 893.2056, Test Linf Norm: 566.9522\n",
      "Epoch 32: Train Loss: 8.9691, Test Loss: 9.0541, Train L1 Norm: 32.5183, Test L1 Norm: 22.3513, Train Linf Norm: 909.4140, Test Linf Norm: 573.0858\n",
      "Epoch 33: Train Loss: 8.9693, Test Loss: 9.0545, Train L1 Norm: 32.5404, Test L1 Norm: 22.3089, Train Linf Norm: 912.0596, Test Linf Norm: 572.0117\n",
      "Epoch 34: Train Loss: 8.9693, Test Loss: 9.0572, Train L1 Norm: 32.5997, Test L1 Norm: 22.1216, Train Linf Norm: 912.3790, Test Linf Norm: 567.2395\n",
      "Epoch 35: Train Loss: 8.9693, Test Loss: 9.0547, Train L1 Norm: 32.5262, Test L1 Norm: 22.2925, Train Linf Norm: 912.4325, Test Linf Norm: 571.5984\n",
      "Epoch 36: Train Loss: 8.9693, Test Loss: 9.0559, Train L1 Norm: 32.5565, Test L1 Norm: 22.2019, Train Linf Norm: 911.2088, Test Linf Norm: 569.2883\n",
      "Epoch 37: Train Loss: 8.9693, Test Loss: 9.0558, Train L1 Norm: 32.5618, Test L1 Norm: 22.2052, Train Linf Norm: 914.0149, Test Linf Norm: 569.3765\n",
      "Epoch 38: Train Loss: 8.9692, Test Loss: 9.0546, Train L1 Norm: 32.5304, Test L1 Norm: 22.2996, Train Linf Norm: 904.0398, Test Linf Norm: 571.7811\n",
      "Epoch 39: Train Loss: 8.9691, Test Loss: 9.0544, Train L1 Norm: 32.5514, Test L1 Norm: 22.3194, Train Linf Norm: 907.3417, Test Linf Norm: 572.2883\n",
      "Epoch 40: Train Loss: 8.9691, Test Loss: 9.0540, Train L1 Norm: 32.5301, Test L1 Norm: 22.3712, Train Linf Norm: 914.8787, Test Linf Norm: 573.6076\n",
      "Epoch 41: Train Loss: 8.9693, Test Loss: 9.0548, Train L1 Norm: 32.5870, Test L1 Norm: 22.2810, Train Linf Norm: 914.0636, Test Linf Norm: 571.3104\n",
      "Epoch 42: Train Loss: 8.9692, Test Loss: 9.0551, Train L1 Norm: 32.5574, Test L1 Norm: 22.2545, Train Linf Norm: 908.8747, Test Linf Norm: 570.6349\n",
      "Epoch 43: Train Loss: 8.9691, Test Loss: 9.0551, Train L1 Norm: 32.5704, Test L1 Norm: 22.2540, Train Linf Norm: 912.4313, Test Linf Norm: 570.6241\n",
      "Epoch 44: Train Loss: 8.9690, Test Loss: 9.0553, Train L1 Norm: 32.5645, Test L1 Norm: 22.2455, Train Linf Norm: 913.6588, Test Linf Norm: 570.4064\n",
      "Epoch 45: Train Loss: 8.9690, Test Loss: 9.0549, Train L1 Norm: 32.5082, Test L1 Norm: 22.2790, Train Linf Norm: 914.1916, Test Linf Norm: 571.2621\n",
      "Epoch 46: Train Loss: 8.9690, Test Loss: 9.0545, Train L1 Norm: 32.5255, Test L1 Norm: 22.3083, Train Linf Norm: 908.7938, Test Linf Norm: 572.0099\n",
      "Epoch 47: Train Loss: 8.9689, Test Loss: 9.0551, Train L1 Norm: 32.5896, Test L1 Norm: 22.2572, Train Linf Norm: 911.6992, Test Linf Norm: 570.7081\n",
      "Epoch 48: Train Loss: 8.9690, Test Loss: 9.0550, Train L1 Norm: 32.5358, Test L1 Norm: 22.2660, Train Linf Norm: 914.8721, Test Linf Norm: 570.9305\n",
      "Epoch 49: Train Loss: 8.9690, Test Loss: 9.0546, Train L1 Norm: 32.5198, Test L1 Norm: 22.3038, Train Linf Norm: 908.2879, Test Linf Norm: 571.8944\n",
      "Epoch 50: Train Loss: 8.9689, Test Loss: 9.0546, Train L1 Norm: 32.5465, Test L1 Norm: 22.3043, Train Linf Norm: 910.6206, Test Linf Norm: 571.9082\n",
      "Epoch 51: Train Loss: 8.9689, Test Loss: 9.0544, Train L1 Norm: 32.5212, Test L1 Norm: 22.3199, Train Linf Norm: 910.5228, Test Linf Norm: 572.3069\n",
      "Epoch 52: Train Loss: 8.9689, Test Loss: 9.0545, Train L1 Norm: 32.5661, Test L1 Norm: 22.3137, Train Linf Norm: 897.6356, Test Linf Norm: 572.1485\n",
      "Epoch 53: Train Loss: 8.9689, Test Loss: 9.0549, Train L1 Norm: 32.6049, Test L1 Norm: 22.2773, Train Linf Norm: 913.7763, Test Linf Norm: 571.2214\n",
      "Epoch 54: Train Loss: 8.9689, Test Loss: 9.0547, Train L1 Norm: 32.5243, Test L1 Norm: 22.2909, Train Linf Norm: 906.4092, Test Linf Norm: 571.5662\n",
      "Epoch 55: Train Loss: 8.9689, Test Loss: 9.0548, Train L1 Norm: 32.5678, Test L1 Norm: 22.2807, Train Linf Norm: 913.0088, Test Linf Norm: 571.3068\n",
      "Epoch 56: Train Loss: 8.9689, Test Loss: 9.0548, Train L1 Norm: 32.5409, Test L1 Norm: 22.2818, Train Linf Norm: 906.8119, Test Linf Norm: 571.3343\n",
      "Epoch 57: Train Loss: 8.9689, Test Loss: 9.0548, Train L1 Norm: 32.5562, Test L1 Norm: 22.2792, Train Linf Norm: 908.0954, Test Linf Norm: 571.2690\n",
      "Epoch 58: Train Loss: 8.9689, Test Loss: 9.0547, Train L1 Norm: 32.5298, Test L1 Norm: 22.2885, Train Linf Norm: 906.7050, Test Linf Norm: 571.5060\n",
      "Epoch 59: Train Loss: 8.9689, Test Loss: 9.0548, Train L1 Norm: 32.5419, Test L1 Norm: 22.2870, Train Linf Norm: 910.2885, Test Linf Norm: 571.4676\n",
      "Epoch 60: Train Loss: 8.9689, Test Loss: 9.0547, Train L1 Norm: 32.5229, Test L1 Norm: 22.2922, Train Linf Norm: 907.9880, Test Linf Norm: 571.6013\n",
      "Epoch 61: Train Loss: 8.9689, Test Loss: 9.0547, Train L1 Norm: 32.5522, Test L1 Norm: 22.2943, Train Linf Norm: 913.0109, Test Linf Norm: 571.6555\n",
      "Epoch 62: Train Loss: 8.9689, Test Loss: 9.0547, Train L1 Norm: 32.5535, Test L1 Norm: 22.2913, Train Linf Norm: 913.5152, Test Linf Norm: 571.5791\n",
      "Epoch 63: Train Loss: 8.9689, Test Loss: 9.0547, Train L1 Norm: 32.5434, Test L1 Norm: 22.2909, Train Linf Norm: 909.5432, Test Linf Norm: 571.5679\n",
      "Epoch 64: Train Loss: 8.9689, Test Loss: 9.0547, Train L1 Norm: 32.5456, Test L1 Norm: 22.2922, Train Linf Norm: 912.9489, Test Linf Norm: 571.6025\n",
      "Epoch 65: Train Loss: 8.9689, Test Loss: 9.0547, Train L1 Norm: 32.5541, Test L1 Norm: 22.2911, Train Linf Norm: 911.9910, Test Linf Norm: 571.5741\n",
      "Epoch 66: Train Loss: 8.9689, Test Loss: 9.0547, Train L1 Norm: 32.5431, Test L1 Norm: 22.2919, Train Linf Norm: 913.7449, Test Linf Norm: 571.5953\n",
      "Epoch 67: Train Loss: 8.9689, Test Loss: 9.0547, Train L1 Norm: 32.5541, Test L1 Norm: 22.2904, Train Linf Norm: 906.2156, Test Linf Norm: 571.5563\n",
      "Epoch 68: Train Loss: 8.9689, Test Loss: 9.0547, Train L1 Norm: 32.5453, Test L1 Norm: 22.2890, Train Linf Norm: 911.7219, Test Linf Norm: 571.5217\n",
      "Epoch 69: Train Loss: 8.9689, Test Loss: 9.0547, Train L1 Norm: 32.5387, Test L1 Norm: 22.2917, Train Linf Norm: 906.3694, Test Linf Norm: 571.5884\n",
      "Epoch 70: Train Loss: 8.9689, Test Loss: 9.0547, Train L1 Norm: 32.5491, Test L1 Norm: 22.2953, Train Linf Norm: 901.9296, Test Linf Norm: 571.6803\n",
      "Epoch 71: Train Loss: 8.9689, Test Loss: 9.0546, Train L1 Norm: 32.5354, Test L1 Norm: 22.2983, Train Linf Norm: 908.7680, Test Linf Norm: 571.7568\n",
      "Epoch 72: Train Loss: 8.9689, Test Loss: 9.0547, Train L1 Norm: 32.5460, Test L1 Norm: 22.2971, Train Linf Norm: 908.2848, Test Linf Norm: 571.7260\n",
      "Epoch 73: Train Loss: 8.9689, Test Loss: 9.0546, Train L1 Norm: 32.5412, Test L1 Norm: 22.2998, Train Linf Norm: 906.6877, Test Linf Norm: 571.7960\n",
      "Epoch 74: Train Loss: 8.9689, Test Loss: 9.0546, Train L1 Norm: 32.5489, Test L1 Norm: 22.2985, Train Linf Norm: 906.1754, Test Linf Norm: 571.7624\n",
      "Epoch 75: Train Loss: 8.9689, Test Loss: 9.0546, Train L1 Norm: 32.5566, Test L1 Norm: 22.2982, Train Linf Norm: 912.6500, Test Linf Norm: 571.7547\n",
      "Epoch 76: Train Loss: 8.9689, Test Loss: 9.0546, Train L1 Norm: 32.5445, Test L1 Norm: 22.2974, Train Linf Norm: 911.1966, Test Linf Norm: 571.7343\n",
      "Epoch 77: Train Loss: 8.9689, Test Loss: 9.0546, Train L1 Norm: 32.5266, Test L1 Norm: 22.3014, Train Linf Norm: 911.3664, Test Linf Norm: 571.8375\n",
      "Epoch 78: Train Loss: 8.9689, Test Loss: 9.0546, Train L1 Norm: 32.5481, Test L1 Norm: 22.3006, Train Linf Norm: 907.4788, Test Linf Norm: 571.8176\n",
      "Epoch 79: Train Loss: 8.9689, Test Loss: 9.0547, Train L1 Norm: 32.5680, Test L1 Norm: 22.2953, Train Linf Norm: 910.8316, Test Linf Norm: 571.6813\n",
      "Epoch 80: Train Loss: 8.9689, Test Loss: 9.0547, Train L1 Norm: 32.5406, Test L1 Norm: 22.2962, Train Linf Norm: 914.5830, Test Linf Norm: 571.7046\n",
      "Epoch 81: Train Loss: 8.9689, Test Loss: 9.0547, Train L1 Norm: 32.5619, Test L1 Norm: 22.2945, Train Linf Norm: 907.8068, Test Linf Norm: 571.6621\n",
      "Epoch 82: Train Loss: 8.9689, Test Loss: 9.0547, Train L1 Norm: 32.5565, Test L1 Norm: 22.2892, Train Linf Norm: 915.2028, Test Linf Norm: 571.5259\n",
      "Epoch 83: Train Loss: 8.9689, Test Loss: 9.0547, Train L1 Norm: 32.5389, Test L1 Norm: 22.2920, Train Linf Norm: 903.7471, Test Linf Norm: 571.5971\n",
      "Epoch 84: Train Loss: 8.9689, Test Loss: 9.0547, Train L1 Norm: 32.5361, Test L1 Norm: 22.2959, Train Linf Norm: 911.2828, Test Linf Norm: 571.6970\n",
      "Epoch 85: Train Loss: 8.9689, Test Loss: 9.0547, Train L1 Norm: 32.5424, Test L1 Norm: 22.2962, Train Linf Norm: 910.5686, Test Linf Norm: 571.7063\n",
      "Epoch 86: Train Loss: 8.9689, Test Loss: 9.0546, Train L1 Norm: 32.5287, Test L1 Norm: 22.2995, Train Linf Norm: 880.7616, Test Linf Norm: 571.7898\n",
      "Epoch 87: Train Loss: 8.9689, Test Loss: 9.0546, Train L1 Norm: 32.5549, Test L1 Norm: 22.2976, Train Linf Norm: 906.9978, Test Linf Norm: 571.7414\n",
      "Epoch 88: Train Loss: 8.9689, Test Loss: 9.0546, Train L1 Norm: 32.5516, Test L1 Norm: 22.2981, Train Linf Norm: 909.5295, Test Linf Norm: 571.7547\n",
      "Epoch 89: Train Loss: 8.9689, Test Loss: 9.0546, Train L1 Norm: 32.5500, Test L1 Norm: 22.2980, Train Linf Norm: 911.6965, Test Linf Norm: 571.7516\n",
      "Epoch 90: Train Loss: 8.9689, Test Loss: 9.0546, Train L1 Norm: 32.5521, Test L1 Norm: 22.2984, Train Linf Norm: 912.1316, Test Linf Norm: 571.7615\n",
      "Epoch 91: Train Loss: 8.9689, Test Loss: 9.0546, Train L1 Norm: 32.5406, Test L1 Norm: 22.2983, Train Linf Norm: 914.4108, Test Linf Norm: 571.7596\n",
      "Epoch 92: Train Loss: 8.9689, Test Loss: 9.0547, Train L1 Norm: 32.5766, Test L1 Norm: 22.2943, Train Linf Norm: 905.9493, Test Linf Norm: 571.6570\n",
      "Epoch 93: Train Loss: 8.9689, Test Loss: 9.0547, Train L1 Norm: 32.5465, Test L1 Norm: 22.2932, Train Linf Norm: 906.1256, Test Linf Norm: 571.6304\n",
      "Epoch 94: Train Loss: 8.9689, Test Loss: 9.0547, Train L1 Norm: 32.5503, Test L1 Norm: 22.2908, Train Linf Norm: 913.5625, Test Linf Norm: 571.5688\n",
      "Epoch 95: Train Loss: 8.9689, Test Loss: 9.0547, Train L1 Norm: 32.5476, Test L1 Norm: 22.2930, Train Linf Norm: 909.6942, Test Linf Norm: 571.6243\n",
      "Epoch 96: Train Loss: 8.9689, Test Loss: 9.0547, Train L1 Norm: 32.5403, Test L1 Norm: 22.2927, Train Linf Norm: 913.5691, Test Linf Norm: 571.6180\n",
      "Epoch 97: Train Loss: 8.9689, Test Loss: 9.0547, Train L1 Norm: 32.5454, Test L1 Norm: 22.2951, Train Linf Norm: 912.8127, Test Linf Norm: 571.6789\n",
      "Epoch 98: Train Loss: 8.9689, Test Loss: 9.0547, Train L1 Norm: 32.5461, Test L1 Norm: 22.2954, Train Linf Norm: 910.4857, Test Linf Norm: 571.6867\n",
      "Epoch 99: Train Loss: 8.9689, Test Loss: 9.0547, Train L1 Norm: 32.5442, Test L1 Norm: 22.2947, Train Linf Norm: 912.6578, Test Linf Norm: 571.6690\n",
      "Epoch 100: Train Loss: 8.9689, Test Loss: 9.0546, Train L1 Norm: 32.5460, Test L1 Norm: 22.2988, Train Linf Norm: 913.1823, Test Linf Norm: 571.7733\n"
     ]
    }
   ],
   "source": [
    "# Creating the best network and optimizer using the best hyperparameters\n",
    "if OPTIMIZE:\n",
    "    net, \\\n",
    "    loss_fn, \\\n",
    "    optimizer, \\\n",
    "    batch_size, \\\n",
    "    n_epochs, \\\n",
    "    scheduler, \\\n",
    "    loss_name, \\\n",
    "    optimizer_name, \\\n",
    "    scheduler_name, \\\n",
    "    n_units, \\\n",
    "    n_layers, \\\n",
    "    hidden_activation, \\\n",
    "    output_activation = create_model(trial, optimize=True)\n",
    "# Creating the network with predefined hyperparameters\n",
    "else:\n",
    "    net, \\\n",
    "    loss_fn, \\\n",
    "    optimizer, \\\n",
    "    batch_size, \\\n",
    "    n_epochs, \\\n",
    "    scheduler, \\\n",
    "    loss_name, \\\n",
    "    optimizer_name, \\\n",
    "    scheduler_name, \\\n",
    "    n_units, \\\n",
    "    n_layers, \\\n",
    "    hidden_activation, \\\n",
    "    output_activation = create_model(trial=None, optimize=False)\n",
    "\n",
    "\n",
    "# Training and evaluating the best network using the train_and_eval function\n",
    "train_losses, test_losses, train_metrics, test_metrics = train_and_eval(\n",
    "    net, loss_fn, optimizer, batch_size, n_epochs, scheduler\n",
    ")"
   ]
  },
  {
   "cell_type": "markdown",
   "metadata": {},
   "source": [
    "## Visualizing the results"
   ]
  },
  {
   "cell_type": "code",
   "execution_count": 24,
   "metadata": {},
   "outputs": [
    {
     "data": {
      "text/plain": [
       "<Figure size 1200x800 with 0 Axes>"
      ]
     },
     "execution_count": 24,
     "metadata": {},
     "output_type": "execute_result"
    },
    {
     "data": {
      "text/plain": [
       "<Axes: >"
      ]
     },
     "execution_count": 24,
     "metadata": {},
     "output_type": "execute_result"
    },
    {
     "data": {
      "text/plain": [
       "[<matplotlib.lines.Line2D at 0x282a267cf10>]"
      ]
     },
     "execution_count": 24,
     "metadata": {},
     "output_type": "execute_result"
    },
    {
     "data": {
      "text/plain": [
       "[<matplotlib.lines.Line2D at 0x282a267cb50>]"
      ]
     },
     "execution_count": 24,
     "metadata": {},
     "output_type": "execute_result"
    },
    {
     "data": {
      "text/plain": [
       "Text(0.5, 0, 'Epoch')"
      ]
     },
     "execution_count": 24,
     "metadata": {},
     "output_type": "execute_result"
    },
    {
     "data": {
      "text/plain": [
       "Text(0, 0.5, 'Loss')"
      ]
     },
     "execution_count": 24,
     "metadata": {},
     "output_type": "execute_result"
    },
    {
     "data": {
      "text/plain": [
       "<matplotlib.legend.Legend at 0x282a15e8550>"
      ]
     },
     "execution_count": 24,
     "metadata": {},
     "output_type": "execute_result"
    },
    {
     "data": {
      "text/plain": [
       "<Axes: >"
      ]
     },
     "execution_count": 24,
     "metadata": {},
     "output_type": "execute_result"
    },
    {
     "data": {
      "text/plain": [
       "[<matplotlib.lines.Line2D at 0x282a15f3ed0>]"
      ]
     },
     "execution_count": 24,
     "metadata": {},
     "output_type": "execute_result"
    },
    {
     "data": {
      "text/plain": [
       "[<matplotlib.lines.Line2D at 0x282a26c1e90>]"
      ]
     },
     "execution_count": 24,
     "metadata": {},
     "output_type": "execute_result"
    },
    {
     "data": {
      "text/plain": [
       "Text(0.5, 0, 'Epoch')"
      ]
     },
     "execution_count": 24,
     "metadata": {},
     "output_type": "execute_result"
    },
    {
     "data": {
      "text/plain": [
       "Text(0, 0.5, 'L1 Norm')"
      ]
     },
     "execution_count": 24,
     "metadata": {},
     "output_type": "execute_result"
    },
    {
     "data": {
      "text/plain": [
       "<matplotlib.legend.Legend at 0x282a267f790>"
      ]
     },
     "execution_count": 24,
     "metadata": {},
     "output_type": "execute_result"
    },
    {
     "data": {
      "text/plain": [
       "<Axes: >"
      ]
     },
     "execution_count": 24,
     "metadata": {},
     "output_type": "execute_result"
    },
    {
     "data": {
      "text/plain": [
       "[<matplotlib.lines.Line2D at 0x282a26d5550>]"
      ]
     },
     "execution_count": 24,
     "metadata": {},
     "output_type": "execute_result"
    },
    {
     "data": {
      "text/plain": [
       "[<matplotlib.lines.Line2D at 0x282a26f1250>]"
      ]
     },
     "execution_count": 24,
     "metadata": {},
     "output_type": "execute_result"
    },
    {
     "data": {
      "text/plain": [
       "Text(0.5, 0, 'Epoch')"
      ]
     },
     "execution_count": 24,
     "metadata": {},
     "output_type": "execute_result"
    },
    {
     "data": {
      "text/plain": [
       "Text(0, 0.5, 'Linf Norm')"
      ]
     },
     "execution_count": 24,
     "metadata": {},
     "output_type": "execute_result"
    },
    {
     "data": {
      "text/plain": [
       "<matplotlib.legend.Legend at 0x282a26f38d0>"
      ]
     },
     "execution_count": 24,
     "metadata": {},
     "output_type": "execute_result"
    },
    {
     "data": {
      "image/png": "[encoded data removed]",
      "text/plain": [
       "<Figure size 1200x800 with 3 Axes>"
      ]
     },
     "metadata": {},
     "output_type": "display_data"
    },
    {
     "data": {
      "text/plain": [
       "<Figure size 800x600 with 0 Axes>"
      ]
     },
     "execution_count": 24,
     "metadata": {},
     "output_type": "execute_result"
    },
    {
     "data": {
      "text/plain": [
       "[<matplotlib.lines.Line2D at 0x282a2769c50>]"
      ]
     },
     "execution_count": 24,
     "metadata": {},
     "output_type": "execute_result"
    },
    {
     "data": {
      "text/plain": [
       "[<matplotlib.lines.Line2D at 0x282a27b3cd0>]"
      ]
     },
     "execution_count": 24,
     "metadata": {},
     "output_type": "execute_result"
    },
    {
     "data": {
      "text/plain": [
       "Text(0.5, 0, 'Epoch')"
      ]
     },
     "execution_count": 24,
     "metadata": {},
     "output_type": "execute_result"
    },
    {
     "data": {
      "text/plain": [
       "Text(0, 0.5, 'MSE')"
      ]
     },
     "execution_count": 24,
     "metadata": {},
     "output_type": "execute_result"
    },
    {
     "data": {
      "text/plain": [
       "<matplotlib.legend.Legend at 0x282a2726690>"
      ]
     },
     "execution_count": 24,
     "metadata": {},
     "output_type": "execute_result"
    },
    {
     "data": {
      "image/png": "[encoded data removed]",
      "text/plain": [
       "<Figure size 800x600 with 1 Axes>"
      ]
     },
     "metadata": {},
     "output_type": "display_data"
    }
   ],
   "source": [
    "# Plotting the losses and metrics for the best network \n",
    "plt.figure(figsize=(12, 8))\n",
    "plt.subplot(2, 2, 1)\n",
    "plt.plot(train_losses, label=\"Train Loss\")\n",
    "plt.plot(test_losses, label=\"Test Loss\")\n",
    "plt.xlabel(\"Epoch\")\n",
    "plt.ylabel(\"Loss\")\n",
    "plt.legend()\n",
    "plt.subplot(2, 2, 2)\n",
    "plt.plot([m[\"l1_norm\"] for m in train_metrics], label=\"Train L1 Norm\")\n",
    "plt.plot([m[\"l1_norm\"] for m in test_metrics], label=\"Test L1 Norm\")\n",
    "plt.xlabel(\"Epoch\")\n",
    "plt.ylabel(\"L1 Norm\")\n",
    "plt.legend()\n",
    "plt.subplot(2, 2, 3)\n",
    "plt.plot([m[\"linf_norm\"] for m in train_metrics], label=\"Train Linf Norm\")\n",
    "plt.plot([m[\"linf_norm\"] for m in test_metrics], label=\"Test Linf Norm\")\n",
    "plt.xlabel(\"Epoch\")\n",
    "plt.ylabel(\"Linf Norm\")\n",
    "plt.legend()\n",
    "plt.tight_layout()\n",
    "plt.show()\n",
    "\n",
    "# Added plotting MSE of training data and MSE of test data in one plot \n",
    "plt.figure(figsize=(8, 6))\n",
    "plt.plot(train_losses,label=\"training data\")\n",
    "plt.plot(test_losses,label=\"test data\")\n",
    "#if scheduler is not None:\n",
    "#    plt.plot([scheduler.get_last_lr()[0] for _ in range(n_epochs)], label=\"Learning rate\") \n",
    "plt.xlabel(\"Epoch\")\n",
    "plt.ylabel(\"MSE\")\n",
    "plt.legend()\n",
    "plt.show()"
   ]
  },
  {
   "cell_type": "markdown",
   "metadata": {},
   "source": [
    "## Saving"
   ]
  },
  {
   "cell_type": "code",
   "execution_count": 25,
   "metadata": {},
   "outputs": [],
   "source": [
    "import pickle\n",
    "import pandas as pd\n",
    "\n",
    "# Saving the best network state dictionary using torch.save\n",
    "torch.save(net.state_dict(), \"best_net.pth\")\n",
    "\n",
    "# Saving the loss function name using pickle\n",
    "with open(\"loss_fn.pkl\", \"wb\") as f:\n",
    "    pickle.dump(loss_name, f)\n",
    "\n",
    "# Saving the optimizer name and parameters using pickle\n",
    "with open(\"optimizer.pkl\", \"wb\") as f:\n",
    "    pickle.dump((optimizer_name, optimizer.state_dict()), f)\n",
    "\n",
    "# Saving the best number of epochs using pickle\n",
    "with open(\"n_epochs.pkl\", \"wb\") as f:\n",
    "    pickle.dump(n_epochs, f)\n",
    "\n",
    "# Saving the scheduler name and parameters using pickle\n",
    "with open(\"scheduler.pkl\", \"wb\") as f:\n",
    "    pickle.dump((scheduler_name, scheduler.state_dict()), f)\n",
    "\n",
    "# Saving the number of units for each hidden layer using pickle\n",
    "with open(\"n_units.pkl\", \"wb\") as f:\n",
    "    pickle.dump(n_units, f)\n",
    "\n",
    "# Saving the output of create_model using pickle\n",
    "with open(\"create_model.pkl\", \"wb\") as f:\n",
    "    pickle.dump((net, loss_fn, optimizer, batch_size, n_epochs, scheduler), f)\n",
    "\n",
    "# Saving the output of the training using pandas\n",
    "train_df = pd.DataFrame(\n",
    "    {\n",
    "        \"train_loss\": train_losses,\n",
    "        \"test_loss\": test_losses,\n",
    "        \"train_l1_norm\": [m[\"l1_norm\"] for m in train_metrics],\n",
    "        \"test_l1_norm\": [m[\"l1_norm\"] for m in test_metrics],\n",
    "        \"train_linf_norm\": [m[\"linf_norm\"] for m in train_metrics],\n",
    "        \"test_linf_norm\": [m[\"linf_norm\"] for m in test_metrics],\n",
    "    }\n",
    ")\n",
    "train_df.to_csv(\"train_output.csv\", index=False)"
   ]
  },
  {
   "cell_type": "markdown",
   "metadata": {},
   "source": [
    "## Loading"
   ]
  },
  {
   "cell_type": "code",
   "execution_count": 26,
   "metadata": {},
   "outputs": [
    {
     "data": {
      "text/plain": [
       "<All keys matched successfully>"
      ]
     },
     "execution_count": 26,
     "metadata": {},
     "output_type": "execute_result"
    }
   ],
   "source": [
    "## Loading the best network state dictionary using torch.load\n",
    "state_dict = torch.load(\"best_net.pth\")\n",
    "\n",
    "# Loading the state dictionary into a new network instance using net.load_state_dict\n",
    "new_net = Net(n_layers, n_units, hidden_activation, output_activation).to(device)\n",
    "new_net.load_state_dict(state_dict)\n",
    "\n",
    "\n",
    "# In[ ]:\n",
    "\n",
    "\n",
    "# Loading the loss function name using pickle\n",
    "with open(\"loss_fn.pkl\", \"rb\") as f:\n",
    "    loss_name = pickle.load(f)\n",
    "\n",
    "# Loading the optimizer name and parameters using pickle\n",
    "with open(\"optimizer.pkl\", \"rb\") as f:\n",
    "    optimizer_name, optimizer_state_dict = pickle.load(f)\n",
    "\n",
    "# Loading the best number of epochs using pickle\n",
    "with open(\"n_epochs.pkl\", \"rb\") as f:\n",
    "    n_epochs = pickle.load(f)\n",
    "\n",
    "# Loading the scheduler name and parameters using pickle\n",
    "with open(\"scheduler.pkl\", \"rb\") as f:\n",
    "    scheduler_name, scheduler_state_dict = pickle.load(f)\n",
    "\n",
    "# Loading the number of units for each hidden layer using pickle\n",
    "with open(\"n_units.pkl\", \"rb\") as f:\n",
    "    n_units = pickle.load(f)\n",
    "\n",
    "# Loading the output of create_model using pickle\n",
    "with open(\"create_model.pkl\", \"rb\") as f:\n",
    "    net, loss_fn, optimizer, batch_size, n_epochs, scheduler = pickle.load(f)\n",
    "\n",
    "# Loading the output of the training using pandas\n",
    "train_df = pd.read_csv(\"train_output.csv\")\n",
    "train_losses = train_df[\"train_loss\"].tolist()\n",
    "test_losses = train_df[\"test_loss\"].tolist()\n",
    "train_metrics = [\n",
    "    {\n",
    "        \"l1_norm\": train_df[\"train_l1_norm\"][i],\n",
    "        \"linf_norm\": train_df[\"train_linf_norm\"][i],\n",
    "    }\n",
    "    for i in range(len(train_df))\n",
    "]\n",
    "test_metrics = [\n",
    "    {\n",
    "        \"l1_norm\": train_df[\"test_l1_norm\"][i],\n",
    "        \"linf_norm\": train_df[\"test_linf_norm\"][i],\n",
    "    }\n",
    "    for i in range(len(train_df))\n",
    "]"
   ]
  }
 ],
 "metadata": {
  "kernelspec": {
   "display_name": "bsc",
   "language": "python",
   "name": "python3"
  },
  "language_info": {
   "codemirror_mode": {
    "name": "ipython",
    "version": 3
   },
   "file_extension": ".py",
   "mimetype": "text/x-python",
   "name": "python",
   "nbconvert_exporter": "python",
   "pygments_lexer": "ipython3",
   "version": "3.11.3"
  },
  "orig_nbformat": 4
 },
 "nbformat": 4,
 "nbformat_minor": 2
}
