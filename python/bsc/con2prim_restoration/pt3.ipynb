{
 "cells": [
  {
   "attachments": {},
   "cell_type": "markdown",
   "metadata": {},
   "source": [
    "# Neural network to learn conservative-to-primitive conversion in relativistic hydrodynamics\n",
    "We use Optuna to do a type of Bayesian optimization of the hyperparameters of the model. We then train the model using these hyperparameters to recover the primitive pressure from the conserved variables.\n",
    "\n",
    "Use this first cell to convert this notebook to a python script."
   ]
  },
  {
   "cell_type": "code",
   "execution_count": 1,
   "metadata": {
    "tags": [
     "remove_cell"
    ]
   },
   "outputs": [
    {
     "name": "stderr",
     "output_type": "stream",
     "text": [
      "C:\\Users\\bvptr\\anaconda3\\envs\\bsc\\Lib\\site-packages\\traitlets\\traitlets.py:2548: FutureWarning: Supporting extra quotes around strings is deprecated in traitlets 5.0. You can use 'remove_cell' instead of \"'remove_cell'\" if you require traitlets >=5.\n",
      "  warn(\n",
      "[NbConvertApp] Converting notebook pt3.ipynb to script\n",
      "[NbConvertApp] Writing 36980 bytes to pt3.py\n"
     ]
    }
   ],
   "source": [
    "!jupyter nbconvert pt3.ipynb --TagRemovePreprocessor.enabled=True --TagRemovePreprocessor.remove_cell_tags='{\"remove_cell\"}' --to script"
   ]
  },
  {
   "cell_type": "code",
   "execution_count": 1,
   "metadata": {},
   "outputs": [],
   "source": [
    "# Importing the libraries\n",
    "import numpy as np\n",
    "import matplotlib.pyplot as plt\n",
    "import torch\n",
    "import torch.nn as nn\n",
    "import torch.optim as optim\n",
    "import torch.nn.functional as F\n",
    "import optuna\n",
    "import tensorboardX as tbx\n",
    "\n",
    "# Checking if GPU is available and setting the device accordingly\n",
    "device = torch.device(\"cuda\" if torch.cuda.is_available() else \"cpu\")\n"
   ]
  },
  {
   "attachments": {},
   "cell_type": "markdown",
   "metadata": {},
   "source": [
    "## Constants and flags to set\n",
    "Defining some constants and parameters for convenience."
   ]
  },
  {
   "cell_type": "code",
   "execution_count": 2,
   "metadata": {},
   "outputs": [],
   "source": [
    "\n",
    "N_TRIALS = 100 # Number of trials for hyperparameter optimization\n",
    "OPTIMIZE = False # Whether to optimize the hyperparameters or to use predetermined values from Dieseldorst et al..\n",
    "\n",
    "# Hyperparameters when no hyperparameter optimization is performed. \n",
    "N_LAYERS_NO_OPT = 2\n",
    "N_UNITS_NO_OPT = [600, 200]\n",
    "HIDDEN_ACTIVATION_NAME_NO_OPT = \"Sigmoid\"\n",
    "OUTPUT_ACTIVATION_NAME_NO_OPT = \"ReLU\"\n",
    "LOSS_NAME_NO_OPT = \"MSE\"\n",
    "OPTIMIZER_NAME_NO_OPT = \"Adam\"\n",
    "LR_NO_OPT = 6e-4\n",
    "BATCH_SIZE_NO_OPT = 32\n",
    "N_EPOCHS_NO_OPT = 30\n",
    "SCHEDULER_NAME_NO_OPT = \"ReduceLROnPlateau\"\n",
    "\n",
    "c = 1  # Speed of light (used in compute_conserved_variables and sample_primitive_variables functions)\n",
    "gamma = 5 / 3  # Adiabatic index (used in eos_analytic function)\n",
    "n_train_samples = 80000 # Number of training samples (used in generate_input_data and generate_labels functions)\n",
    "n_test_samples = 10000 # Number of test samples (used in generate_input_data and generate_labels functions)\n",
    "rho_interval = (0, 10.1) # Sampling interval for rest-mass density (used in sample_primitive_variables function)\n",
    "vx_interval = (0, 0.721 * c) # Sampling interval for velocity in x-direction (used in sample_primitive_variables function)\n",
    "epsilon_interval = (0, 2.02) # Sampling interval for specific internal energy (used in sample_primitive_variables function)\n",
    "\n",
    "np.random.seed(1) # Uncomment for pseudorandom data."
   ]
  },
  {
   "cell_type": "markdown",
   "metadata": {},
   "source": [
    "## Generating the data"
   ]
  },
  {
   "cell_type": "code",
   "execution_count": 3,
   "metadata": {},
   "outputs": [],
   "source": [
    "\n",
    "# Defining an analytic equation of state (EOS) for an ideal gas\n",
    "def eos_analytic(rho, epsilon):\n",
    "    \"\"\"Computes the pressure from rest-mass density and specific internal energy using an analytic EOS.\n",
    "\n",
    "    Args:\n",
    "        rho (torch.Tensor): The rest-mass density tensor of shape (n_samples,).\n",
    "        epsilon (torch.Tensor): The specific internal energy tensor of shape (n_samples,).\n",
    "\n",
    "    Returns:\n",
    "        torch.Tensor: The pressure tensor of shape (n_samples,).\n",
    "    \"\"\"\n",
    "    # Adding some assertions to check that the input tensors are valid and have the expected shape and type \n",
    "    assert isinstance(rho, torch.Tensor), \"rho must be a torch.Tensor\"\n",
    "    assert isinstance(epsilon, torch.Tensor), \"epsilon must be a torch.Tensor\"\n",
    "    assert rho.shape == epsilon.shape, \"rho and epsilon must have the same shape\"\n",
    "    assert rho.ndim == 1, \"rho and epsilon must be one-dimensional tensors\"\n",
    "    assert rho.dtype == torch.float32, \"rho and epsilon must have dtype torch.float32\"\n",
    "\n",
    "    return (gamma - 1) * rho * epsilon\n",
    "\n",
    "\n",
    "# Defining a function that samples primitive variables from uniform distributions\n",
    "def sample_primitive_variables(n_samples):\n",
    "    \"\"\"Samples primitive variables from uniform distributions.\n",
    "\n",
    "    Args:\n",
    "        n_samples (int): The number of samples to generate.\n",
    "\n",
    "    Returns:\n",
    "        tuple: A tuple of (rho, vx, epsilon), where rho is rest-mass density,\n",
    "            vx is velocity in x-direction,\n",
    "            epsilon is specific internal energy,\n",
    "            each being a numpy array of shape (n_samples,).\n",
    "    \"\"\"\n",
    "    # Sampling from uniform distributions with intervals matching Dieseldorst et al.\n",
    "    rho = np.random.uniform(*rho_interval, size=n_samples)  # Rest-mass density\n",
    "    vx = np.random.uniform(*vx_interval, size=n_samples)  # Velocity in x-direction\n",
    "    epsilon = np.random.uniform(*epsilon_interval, size=n_samples)  # Specific internal energy\n",
    "\n",
    "    # Returning the primitive variables\n",
    "    return rho, vx, epsilon\n",
    "\n",
    "\n",
    "# Defining a function that computes conserved variables from primitive variables\n",
    "def compute_conserved_variables(rho, vx, epsilon):\n",
    "    \"\"\"Computes conserved variables from primitive variables.\n",
    "\n",
    "    Args:\n",
    "        rho (torch.Tensor): The rest-mass density tensor of shape (n_samples,).\n",
    "        vx (torch.Tensor): The velocity in x-direction tensor of shape (n_samples,).\n",
    "        epsilon (torch.Tensor): The specific internal energy tensor of shape (n_samples,).\n",
    "\n",
    "    Returns:\n",
    "        tuple: A tuple of (D, Sx, tau), where D is conserved density,\n",
    "            Sx is conserved momentum in x-direction,\n",
    "            tau is conserved energy density,\n",
    "            each being a torch tensor of shape (n_samples,).\n",
    "    \"\"\"\n",
    "\n",
    "    # Computing the pressure from the primitive variables using the EOS\n",
    "    p = eos_analytic(rho, epsilon)\n",
    "    # Computing the Lorentz factor from the velocity.\n",
    "    W = 1 / torch.sqrt(1 - vx ** 2 / c ** 2)\n",
    "    # Specific enthalpy\n",
    "    h = 1 + epsilon + p / rho  \n",
    "\n",
    "    # Computing the conserved variables from the primitive variables\n",
    "    D = rho * W  # Conserved density\n",
    "    Sx = rho * h * W ** 2 * vx  # Conserved momentum in x-direction\n",
    "    tau = rho * h * W ** 2 - p - D  # Conserved energy density\n",
    "\n",
    "    # Returning the conserved variables\n",
    "    return D, Sx, tau\n",
    "\n",
    "\n",
    "# Defining a function that generates input data (conserved variables) from random samples of primitive variables\n",
    "def generate_input_data(n_samples):\n",
    "    \"\"\"Generates input data (conserved variables) from random samples of primitive variables.\n",
    "\n",
    "    Args:\n",
    "        n_samples (int): The number of samples to generate.\n",
    "\n",
    "    Returns:\n",
    "        torch.Tensor: The input data tensor of shape (n_samples, 3).\n",
    "    \"\"\"\n",
    "    # Sampling the primitive variables using the sample_primitive_variables function\n",
    "    rho, vx, epsilon = sample_primitive_variables(n_samples)\n",
    "\n",
    "    # Converting the numpy arrays to torch tensors and moving them to the device\n",
    "    rho = torch.tensor(rho, dtype=torch.float32).to(device)\n",
    "    vx = torch.tensor(vx, dtype=torch.float32).to(device)\n",
    "    epsilon = torch.tensor(epsilon, dtype=torch.float32).to(device)\n",
    "\n",
    "    # Computing the conserved variables using the compute_conserved_variables function\n",
    "    D, Sx, tau = compute_conserved_variables(rho, vx, epsilon)\n",
    "\n",
    "    # Stacking the conserved variables into a torch tensor\n",
    "    x = torch.stack([D, Sx, tau], axis=1)\n",
    "\n",
    "    # Returning the input data tensor\n",
    "    return x\n",
    "\n",
    "# Defining a function that generates output data (labels) from random samples of primitive variables\n",
    "def generate_labels(n_samples):\n",
    "    \"\"\"Generates output data (labels) from random samples of primitive variables.\n",
    "\n",
    "    Args:\n",
    "        n_samples (int): The number of samples to generate.\n",
    "\n",
    "    Returns:\n",
    "        torch.Tensor: The output data tensor of shape (n_samples,).\n",
    "    \"\"\"\n",
    "    # Sampling the primitive variables using the sample_primitive_variables function\n",
    "    rho, _, epsilon = sample_primitive_variables(n_samples)\n",
    "\n",
    "    # Converting the numpy arrays to torch tensors and moving them to the device\n",
    "    rho = torch.tensor(rho, dtype=torch.float32).to(device)\n",
    "    epsilon = torch.tensor(epsilon, dtype=torch.float32).to(device)\n",
    "\n",
    "    # Computing the pressure from the primitive variables using the EOS\n",
    "    p = eos_analytic(rho, epsilon)\n",
    "\n",
    "    # Returning the output data tensor\n",
    "    return p\n"
   ]
  },
  {
   "cell_type": "code",
   "execution_count": 5,
   "metadata": {},
   "outputs": [
    {
     "data": {
      "text/plain": [
       "<Figure size 800x400 with 0 Axes>"
      ]
     },
     "execution_count": 5,
     "metadata": {},
     "output_type": "execute_result"
    },
    {
     "data": {
      "text/plain": [
       "<Axes: >"
      ]
     },
     "execution_count": 5,
     "metadata": {},
     "output_type": "execute_result"
    },
    {
     "data": {
      "text/plain": [
       "(array([15765., 10500.,  8450.,  6929.,  5916.,  5065.,  4505.,  3999.,\n",
       "         3422.,  3019.,  2558.,  2218.,  1873.,  1538.,  1293.,  1042.,\n",
       "          775.,   593.,   376.,   164.]),\n",
       " array([4.71082276e-05, 6.71799541e-01, 1.34355199e+00, 2.01530433e+00,\n",
       "        2.68705678e+00, 3.35880923e+00, 4.03056192e+00, 4.70231438e+00,\n",
       "        5.37406635e+00, 6.04581881e+00, 6.71757126e+00, 7.38932371e+00,\n",
       "        8.06107616e+00, 8.73282909e+00, 9.40458107e+00, 1.00763340e+01,\n",
       "        1.07480860e+01, 1.14198389e+01, 1.20915909e+01, 1.27633438e+01,\n",
       "        1.34350958e+01]),\n",
       " <BarContainer object of 20 artists>)"
      ]
     },
     "execution_count": 5,
     "metadata": {},
     "output_type": "execute_result"
    },
    {
     "data": {
      "text/plain": [
       "Text(0.5, 0, 'y_train')"
      ]
     },
     "execution_count": 5,
     "metadata": {},
     "output_type": "execute_result"
    },
    {
     "data": {
      "text/plain": [
       "Text(0, 0.5, 'Frequency')"
      ]
     },
     "execution_count": 5,
     "metadata": {},
     "output_type": "execute_result"
    },
    {
     "data": {
      "text/plain": [
       "<Axes: >"
      ]
     },
     "execution_count": 5,
     "metadata": {},
     "output_type": "execute_result"
    },
    {
     "data": {
      "text/plain": [
       "(array([1926., 1245., 1056.,  896.,  764.,  651.,  511.,  496.,  425.,\n",
       "         383.,  329.,  281.,  275.,  208.,  167.,  127.,   94.,   77.,\n",
       "          58.,   31.]),\n",
       " array([9.00165905e-05, 6.63420200e-01, 1.32675040e+00, 1.99008060e+00,\n",
       "        2.65341091e+00, 3.31674099e+00, 3.98007131e+00, 4.64340162e+00,\n",
       "        5.30673170e+00, 5.97006178e+00, 6.63339186e+00, 7.29672241e+00,\n",
       "        7.96005249e+00, 8.62338257e+00, 9.28671265e+00, 9.95004272e+00,\n",
       "        1.06133728e+01, 1.12767038e+01, 1.19400339e+01, 1.26033640e+01,\n",
       "        1.32666941e+01]),\n",
       " <BarContainer object of 20 artists>)"
      ]
     },
     "execution_count": 5,
     "metadata": {},
     "output_type": "execute_result"
    },
    {
     "data": {
      "text/plain": [
       "Text(0.5, 0, 'y_test')"
      ]
     },
     "execution_count": 5,
     "metadata": {},
     "output_type": "execute_result"
    },
    {
     "data": {
      "text/plain": [
       "Text(0, 0.5, 'Frequency')"
      ]
     },
     "execution_count": 5,
     "metadata": {},
     "output_type": "execute_result"
    },
    {
     "data": {
      "image/png": "[encoded data removed]",
      "text/plain": [
       "<Figure size 800x400 with 2 Axes>"
      ]
     },
     "metadata": {},
     "output_type": "display_data"
    },
    {
     "name": "stdout",
     "output_type": "stream",
     "text": [
      "Shape of x_train: torch.Size([80000, 3])\n",
      "Shape of y_train: torch.Size([80000])\n",
      "Shape of x_test: torch.Size([10000, 3])\n",
      "Shape of y_test: torch.Size([10000])\n"
     ]
    }
   ],
   "source": [
    "\n",
    "# Generating the input and output data for train and test sets using the functions defined\n",
    "# Using the same number of samples as Dieseldorst et al.\n",
    "x_train = generate_input_data(n_train_samples)\n",
    "y_train = generate_labels(n_train_samples) \n",
    "x_test = generate_input_data(n_test_samples) \n",
    "y_test = generate_labels(n_test_samples) \n",
    "\n",
    "# Checking if our output is always positive by plotting a histogram of y_train and y_test tensors \n",
    "plt.figure(figsize=(8, 4))\n",
    "plt.subplot(1, 2, 1)\n",
    "plt.hist(y_train.cpu().numpy(), bins=20)\n",
    "plt.xlabel(\"y_train\")\n",
    "plt.ylabel(\"Frequency\")\n",
    "plt.subplot(1, 2, 2)\n",
    "plt.hist(y_test.cpu().numpy(), bins=20)\n",
    "plt.xlabel(\"y_test\")\n",
    "plt.ylabel(\"Frequency\")\n",
    "plt.tight_layout()\n",
    "plt.show()\n",
    "\n",
    "# Checking the shapes of the data tensors\n",
    "print(\"Shape of x_train:\", x_train.shape)\n",
    "print(\"Shape of y_train:\", y_train.shape)\n",
    "print(\"Shape of x_test:\", x_test.shape)\n",
    "print(\"Shape of y_test:\", y_test.shape)"
   ]
  },
  {
   "cell_type": "markdown",
   "metadata": {},
   "source": [
    "## Defining the neural network"
   ]
  },
  {
   "cell_type": "code",
   "execution_count": 6,
   "metadata": {},
   "outputs": [],
   "source": [
    "# Defining a class for the network\n",
    "class Net(nn.Module):\n",
    "    \"\"\"A class for creating a network with a\n",
    "    variable number of hidden layers and units.\n",
    "\n",
    "    Attributes:\n",
    "        n_layers (int): The number of hidden layers in the network.\n",
    "        n_units (list): A list of integers representing the number of units in each hidden layer.\n",
    "        hidden_activation (torch.nn.Module): The activation function for the hidden layers.\n",
    "        output_activation (torch.nn.Module): The activation function for the output layer.\n",
    "        layers (torch.nn.ModuleList): A list of linear layers in the network.\n",
    "    \"\"\"\n",
    "\n",
    "    def __init__(self, n_layers, n_units, hidden_activation, output_activation):\n",
    "        \"\"\"Initializes the network with the given hyperparameters.\n",
    "\n",
    "        Args:\n",
    "            n_layers (int): The number of hidden layers in the network.\n",
    "            n_units (list): A list of integers representing the number of units in each hidden layer.\n",
    "            hidden_activation (torch.nn.Module): The activation function for the hidden layers.\n",
    "            output_activation (torch.nn.Module): The activation function for the output layer.\n",
    "        \"\"\"\n",
    "        super().__init__()\n",
    "        self.n_layers = n_layers\n",
    "        self.n_units = n_units\n",
    "        self.hidden_activation = hidden_activation\n",
    "        self.output_activation = output_activation\n",
    "\n",
    "        # Creating a list of linear layers with different numbers of units for each layer\n",
    "        self.layers = nn.ModuleList([nn.Linear(3, n_units[0])])\n",
    "        for i in range(1, n_layers):\n",
    "            self.layers.append(nn.Linear(n_units[i - 1], n_units[i]))\n",
    "        self.layers.append(nn.Linear(n_units[-1], 1))\n",
    "\n",
    "        # Adding some assertions to check that the input arguments are valid\n",
    "        assert isinstance(n_layers, int) and n_layers > 0, \"n_layers must be a positive integer\"\n",
    "        assert isinstance(n_units, list) and len(n_units) == n_layers, \"n_units must be a list of length n_layers\"\n",
    "        assert all(isinstance(n, int) and n > 0 for n in n_units), \"n_units must contain positive integers\"\n",
    "        assert isinstance(hidden_activation, nn.Module), \"hidden_activation must be a torch.nn.Module\"\n",
    "        assert isinstance(output_activation, nn.Module), \"output_activation must be a torch.nn.Module\"\n",
    "\n",
    "    #@torch.jit.script_method\n",
    "    def forward(self, x):\n",
    "        \"\"\"Performs a forward pass on the input tensor.\n",
    "\n",
    "        Args:\n",
    "            x (torch.Tensor): The input tensor of shape (batch_size, 3).\n",
    "\n",
    "        Returns:\n",
    "            torch.Tensor: The output tensor of shape (batch_size, 1).\n",
    "        \"\"\"\n",
    "        # Looping over the hidden layers and applying the linear transformation and the activation function\n",
    "        for layer in self.layers[:-1]:\n",
    "            x = self.hidden_activation(layer(x))\n",
    "        # Applying the linear transformation and the activation function on the output layer\n",
    "        x = self.output_activation(self.layers[-1](x))\n",
    "\n",
    "        # Returning the output tensor\n",
    "        return x"
   ]
  },
  {
   "cell_type": "markdown",
   "metadata": {},
   "source": [
    "## Defining the model and search space"
   ]
  },
  {
   "cell_type": "code",
   "execution_count": 4,
   "metadata": {},
   "outputs": [],
   "source": [
    "# Defining a function to create a trial network and optimizer\n",
    "def create_model(trial, optimize):\n",
    "    \"\"\"Creates a trial network and optimizer based on the sampled hyperparameters.\n",
    "\n",
    "    Args:\n",
    "        trial (optuna.trial.Trial): The trial object that contains the hyperparameters.\n",
    "        optimize (boolean): Whether to optimize the hyperparameters or to use predefined values.\n",
    "\n",
    "    Returns:\n",
    "        tuple: A tuple of (net, loss_fn, optimizer, batch_size, n_epochs,\n",
    "            scheduler, loss_name, optimizer_name, scheduler_name,\n",
    "            n_units, n_layers, hidden_activation, output_activation),\n",
    "            where net is the trial network,\n",
    "            loss_fn is the loss function,\n",
    "            optimizer is the optimizer,\n",
    "            batch_size is the batch size,\n",
    "            n_epochs is the number of epochs,\n",
    "            scheduler is the learning rate scheduler,\n",
    "            loss_name is the name of the loss function,\n",
    "            optimizer_name is the name of the optimizer,\n",
    "            scheduler_name is the name of the scheduler,\n",
    "            n_units is a list of integers representing\n",
    "            the number of units in each hidden layer,\n",
    "            n_layers is an integer representing the number of hidden layers in the network,\n",
    "            hidden_activation is a torch.nn.Module representing the activation function for the hidden layers,\n",
    "            output_activation is a torch.nn.Module representing the activation function for the output layer,\n",
    "            lr is the (initial) learning rate.\n",
    "    \"\"\"\n",
    "    # If optimize is True, sample the hyperparameters from the search space\n",
    "    if optimize:\n",
    "        # Sampling the hyperparameters from the search space\n",
    "        n_layers = trial.suggest_int(\"n_layers\", 1, 3)\n",
    "        n_units = [trial.suggest_int(f\"n_units_{i}\", 16, 256) for i in range(n_layers)] \n",
    "        hidden_activation_name = trial.suggest_categorical(\n",
    "            \"hidden_activation\", [\"ReLU\", \"LeakyReLU\", \"ELU\", \"Tanh\", \"Sigmoid\"]\n",
    "        )\n",
    "        output_activation_name = trial.suggest_categorical(\n",
    "            \"output_activation\", [\"Linear\", \"ReLU\"]\n",
    "        ) \n",
    "        loss_name = trial.suggest_categorical(\n",
    "            \"loss\", [\"MSE\", \"MAE\", \"Huber\", \"LogCosh\"] \n",
    "        )\n",
    "        optimizer_name = trial.suggest_categorical(\n",
    "            \"optimizer\", [\"Adam\", \"SGD\", \"RMSprop\", \"Adagrad\"] \n",
    "        )\n",
    "        lr = trial.suggest_loguniform(\"lr\", 1e-4, 1e-2) \n",
    "        batch_size = trial.suggest_int(\"batch_size\", 32, 256)\n",
    "        n_epochs = trial.suggest_int(\"n_epochs\", 50, 100) \n",
    "        scheduler_name = trial.suggest_categorical(\n",
    "            \"scheduler\",\n",
    "            [\"None\", \"CosineAnnealingLR\", \"ReduceLROnPlateau\", \"StepLR\", \"ExponentialLR\"],\n",
    "        )\n",
    "    # If optimize is False, use the predefined values\n",
    "    else:\n",
    "        # Setting the hyperparameters to the predefined values\n",
    "        n_layers = N_LAYERS_NO_OPT\n",
    "        n_units = N_UNITS_NO_OPT\n",
    "        hidden_activation_name = HIDDEN_ACTIVATION_NAME_NO_OPT\n",
    "        output_activation_name = OUTPUT_ACTIVATION_NAME_NO_OPT\n",
    "        loss_name = LOSS_NAME_NO_OPT\n",
    "        optimizer_name = OPTIMIZER_NAME_NO_OPT\n",
    "        lr = LR_NO_OPT\n",
    "        batch_size = BATCH_SIZE_NO_OPT\n",
    "        n_epochs = N_EPOCHS_NO_OPT\n",
    "        scheduler_name = SCHEDULER_NAME_NO_OPT\n",
    "\n",
    "\n",
    "    # Creating the activation functions from their names\n",
    "    if hidden_activation_name == \"ReLU\":\n",
    "        hidden_activation = nn.ReLU()\n",
    "    elif hidden_activation_name == \"LeakyReLU\":\n",
    "        hidden_activation = nn.LeakyReLU() \n",
    "    elif hidden_activation_name == \"ELU\":\n",
    "        hidden_activation = nn.ELU() \n",
    "    elif hidden_activation_name == \"Tanh\":\n",
    "        hidden_activation = nn.Tanh()\n",
    "    else:\n",
    "        hidden_activation = nn.Sigmoid()\n",
    "\n",
    "    if output_activation_name == \"ReLU\":\n",
    "        output_activation = nn.ReLU()\n",
    "    else:\n",
    "        output_activation = nn.Identity()\n",
    "\n",
    "    # Creating the loss function from its name\n",
    "    if loss_name == \"MSE\":\n",
    "        loss_fn = nn.MSELoss()\n",
    "    elif loss_name == \"MAE\":\n",
    "        loss_fn = nn.L1Loss()\n",
    "    elif loss_name == \"Huber\":\n",
    "        loss_fn = nn.SmoothL1Loss() \n",
    "    else:\n",
    "        # Creating the log-cosh loss function\n",
    "        def log_cosh_loss(y_pred, y_true):\n",
    "            return torch.mean(torch.log(torch.cosh(y_pred - y_true)))\n",
    "            \n",
    "        loss_fn = log_cosh_loss\n",
    "\n",
    "    # Creating the network with the sampled hyperparameters\n",
    "    net = Net(\n",
    "        n_layers, n_units, hidden_activation, output_activation\n",
    "    ).to(device)\n",
    "\n",
    "    # Creating the optimizer from its name\n",
    "    if optimizer_name == \"SGD\":\n",
    "        optimizer = optim.SGD(net.parameters(), lr=lr)\n",
    "    elif optimizer_name == \"Adam\":\n",
    "        optimizer = optim.Adam(net.parameters(), lr=lr)\n",
    "    elif optimizer_name == \"RMSprop\":\n",
    "        optimizer = optim.RMSprop(net.parameters(), lr=lr)\n",
    "    else:\n",
    "        # Added creating the Adagrad optimizer\n",
    "        optimizer = optim.Adagrad(net.parameters(), lr=lr)\n",
    "\n",
    "    # Creating the learning rate scheduler from its name\n",
    "    if scheduler_name == \"StepLR\":\n",
    "        scheduler = optim.lr_scheduler.StepLR(optimizer, step_size=10, gamma=0.1)\n",
    "    elif scheduler_name == \"ExponentialLR\":\n",
    "        scheduler = optim.lr_scheduler.ExponentialLR(optimizer, gamma=0.9)\n",
    "    elif scheduler_name == \"CosineAnnealingLR\":\n",
    "        # Added creating the CosineAnnealingLR scheduler\n",
    "        scheduler = optim.lr_scheduler.CosineAnnealingLR(optimizer, T_max=10)\n",
    "    elif scheduler_name == \"ReduceLROnPlateau\":\n",
    "        # Added creating the ReduceLROnPlateau scheduler\n",
    "        # Creating the ReduceLROnPlateau scheduler with a threshold value of 0.01\n",
    "        #scheduler = optim.lr_scheduler.ReduceLROnPlateau(\n",
    "        #    optimizer, mode=\"min\", factor=0.1, patience=10, threshold=0.01\n",
    "        #)\n",
    "        # Use Dieseldorst et al. settings and add to that a minimum lr.\n",
    "        scheduler = optim.lr_scheduler.ReduceLROnPlateau(\n",
    "                    optimizer, mode=\"min\", factor=0.5, patience=5, threshold=0.0005, min_lr=1e-6\n",
    "                )\n",
    "    else:\n",
    "        scheduler = None\n",
    "\n",
    "    # Returning all variables needed for saving and loading\n",
    "    return net, loss_fn, optimizer, batch_size, n_epochs, scheduler, loss_name, optimizer_name, scheduler_name, n_units, n_layers, hidden_activation, output_activation, lr\n"
   ]
  },
  {
   "attachments": {},
   "cell_type": "markdown",
   "metadata": {},
   "source": [
    " ## The training and evaluation loop\n",
    "\n",
    " We first define a couple of functions used in the training and evaluation."
   ]
  },
  {
   "cell_type": "code",
   "execution_count": 8,
   "metadata": {},
   "outputs": [],
   "source": [
    "# Defining a function that computes loss and metrics for a given batch\n",
    "def compute_loss_and_metrics(y_pred, y_true, loss_fn):\n",
    "    \"\"\"Computes loss and metrics for a given batch.\n",
    "\n",
    "    Args:\n",
    "        y_pred (torch.Tensor): The predicted pressure tensor of shape (batch_size, 1).\n",
    "        y_true (torch.Tensor): The true pressure tensor of shape (batch_size,).\n",
    "        loss_fn (torch.nn.Module or function): The loss function to use.\n",
    "\n",
    "    Returns:\n",
    "        tuple: A tuple of (loss, l1_norm), where loss is a scalar tensor,\n",
    "            l1_norm is L1 norm for relative error of pressure,\n",
    "            each being a scalar tensor.\n",
    "            linf_norm is Linf norm for relative error of pressure.\n",
    "    \"\"\"\n",
    "    # Reshaping the target tensor to match the input tensor\n",
    "    y_true = y_true.view(-1, 1)\n",
    "\n",
    "    # Computing the loss using the loss function\n",
    "    loss = loss_fn(y_pred, y_true)\n",
    "\n",
    "    # Computing the relative error of pressure\n",
    "    rel_error = torch.abs((y_pred - y_true) / y_true)\n",
    "\n",
    "    # Computing the L1 norm for the relative error of pressure\n",
    "    l1_norm = torch.mean(rel_error) \n",
    "    # Computing the Linf norm for the relative error of pressure\n",
    "    linf_norm = torch.max(rel_error) \n",
    "\n",
    "    # Returning the loss and metrics\n",
    "    return loss, l1_norm, linf_norm\n",
    "\n",
    "\n",
    "# Defining a function that updates the learning rate scheduler with validation loss if applicable\n",
    "def update_scheduler(scheduler, test_loss):\n",
    "    \"\"\"Updates the learning rate scheduler with validation loss if applicable.\n",
    "\n",
    "    Args:\n",
    "        scheduler (torch.optim.lr_scheduler._LRScheduler or None): The learning rate scheduler to use.\n",
    "        test_loss (float): The validation loss to use.\n",
    "\n",
    "    Returns:\n",
    "        None\n",
    "    \"\"\"\n",
    "    # Checking if scheduler is not None\n",
    "    if scheduler is not None:\n",
    "        # Checking if scheduler is ReduceLROnPlateau\n",
    "        if isinstance(scheduler, optim.lr_scheduler.ReduceLROnPlateau):\n",
    "            # Updating the scheduler with test_loss\n",
    "            scheduler.step(test_loss)\n",
    "        else:\n",
    "            # Updating the scheduler without test_loss\n",
    "            scheduler.step()\n"
   ]
  },
  {
   "attachments": {},
   "cell_type": "markdown",
   "metadata": {},
   "source": [
    "Now for the actual training and evaluation loop,"
   ]
  },
  {
   "cell_type": "code",
   "execution_count": 9,
   "metadata": {},
   "outputs": [],
   "source": [
    "# Defining a function to train and evaluate a network\n",
    "def train_and_eval(net, loss_fn, optimizer, batch_size, n_epochs, scheduler, trial=None):\n",
    "    \"\"\"Trains and evaluates a network.\n",
    "\n",
    "    Args:\n",
    "        net (torch.nn.Module): The network to train and evaluate.\n",
    "        loss_fn (torch.nn.Module or function): The loss function.\n",
    "        optimizer (torch.optim.Optimizer): The optimizer.\n",
    "        batch_size (int): The batch size.\n",
    "        n_epochs (int): The number of epochs.\n",
    "        scheduler (torch.optim.lr_scheduler._LRScheduler or None): The learning rate scheduler.\n",
    "    Returns:\n",
    "        tuple: A tuple of (train_losses, test_losses, train_metrics, test_metrics), where\n",
    "            train_losses is a list of training losses for each epoch,\n",
    "            test_losses is a list of validation losses for each epoch,\n",
    "            train_metrics is a list of dictionaries containing training metrics for each epoch,\n",
    "            test_metrics is a list of dictionaries containing validation metrics for each epoch.\n",
    "    \"\"\"\n",
    "    # Creating data loaders for train and test sets\n",
    "    train_loader = torch.utils.data.DataLoader(\n",
    "        torch.utils.data.TensorDataset(x_train, y_train), batch_size=batch_size, shuffle=True\n",
    "    )\n",
    "    test_loader = torch.utils.data.DataLoader(\n",
    "        torch.utils.data.TensorDataset(x_test, y_test), batch_size=batch_size\n",
    "    )\n",
    "\n",
    "    # Initializing lists to store the losses and metrics for each epoch\n",
    "    train_losses = []\n",
    "    test_losses = []\n",
    "    train_metrics = []\n",
    "    test_metrics = []\n",
    "\n",
    "    # Creating a SummaryWriter object to log data for tensorboard\n",
    "    writer = tbx.SummaryWriter()\n",
    "\n",
    "    # Looping over the epochs\n",
    "    for epoch in range(n_epochs):\n",
    "\n",
    "        # Setting the network to training mode\n",
    "        net.train()\n",
    "\n",
    "        # Initializing variables to store the total loss and metrics for the train set\n",
    "        train_loss = 0.0\n",
    "        train_l1_norm = 0.0\n",
    "        train_linf_norm = 0.0\n",
    "\n",
    "        # Looping over the batches in the train set\n",
    "        for x_batch, y_batch in train_loader:\n",
    "\n",
    "            # Moving the batch tensors to the device\n",
    "            x_batch = x_batch.to(device)\n",
    "            y_batch = y_batch.to(device)\n",
    "\n",
    "            # Zeroing the gradients\n",
    "            optimizer.zero_grad()\n",
    "\n",
    "            # Performing a forward pass and computing the loss and metrics\n",
    "            y_pred = net(x_batch)\n",
    "            loss, l1_norm, linf_norm = compute_loss_and_metrics(\n",
    "                y_pred, y_batch, loss_fn\n",
    "            )\n",
    "\n",
    "\n",
    "            # Performing a backward pass and updating the weights\n",
    "            loss.backward()\n",
    "            optimizer.step()\n",
    "\n",
    "            # Updating the total loss and metrics for the train set\n",
    "            train_loss += loss.item() * x_batch.size(0)\n",
    "            train_l1_norm += l1_norm.item() * x_batch.size(0)\n",
    "            train_linf_norm += linf_norm.item() * x_batch.size(0)\n",
    "\n",
    "        # Computing the average loss and metrics for the train set\n",
    "        train_loss /= len(train_loader.dataset)\n",
    "        train_l1_norm /= len(train_loader.dataset)\n",
    "        train_linf_norm /= len(train_loader.dataset)\n",
    "\n",
    "        # Appending the average loss and metrics for the train set to the lists\n",
    "        train_losses.append(train_loss)\n",
    "        train_metrics.append(\n",
    "            {\n",
    "                \"l1_norm\": train_l1_norm,\n",
    "                \"linf_norm\": train_linf_norm,\n",
    "            }\n",
    "        )\n",
    "\n",
    "        # Logging the average loss and metrics for the train set to tensorboard\n",
    "        writer.add_scalar(\"Loss/train\", train_loss, epoch)\n",
    "        writer.add_scalar(\"L1 norm/train\", train_l1_norm, epoch)\n",
    "        writer.add_scalar(\"Linf norm/train\", train_linf_norm, epoch)\n",
    "\n",
    "        # Setting the network to evaluation mode\n",
    "        net.eval()\n",
    "\n",
    "        # Initializing variables to store the total loss and metrics for the test set\n",
    "        test_loss = 0.0\n",
    "        test_l1_norm = 0.0\n",
    "        test_linf_norm = 0.0\n",
    "\n",
    "        # Looping over the batches in the test set\n",
    "        with torch.no_grad():\n",
    "            for x_batch, y_batch in test_loader:\n",
    "\n",
    "                # Moving the batch tensors to the device\n",
    "                x_batch = x_batch.to(device)\n",
    "                y_batch = y_batch.to(device)\n",
    "\n",
    "                # Performing a forward pass and computing the loss and metrics\n",
    "                y_pred = net(x_batch)\n",
    "                loss, l1_norm, linf_norm = compute_loss_and_metrics(\n",
    "                    y_pred, y_batch, loss_fn\n",
    "                )\n",
    "\n",
    "\n",
    "                # Updating the total loss and metrics for the test set\n",
    "                test_loss += loss.item() * x_batch.size(0)\n",
    "                test_l1_norm += l1_norm.item() * x_batch.size(0)\n",
    "                test_linf_norm += linf_norm.item() * x_batch.size(0)\n",
    "\n",
    "        # Computing the average loss and metrics for the test set\n",
    "        test_loss /= len(test_loader.dataset)\n",
    "        test_l1_norm /= len(test_loader.dataset)\n",
    "        test_linf_norm /= len(test_loader.dataset)\n",
    "\n",
    "        # Appending the average loss and metrics for the test set to the lists\n",
    "        test_losses.append(test_loss)\n",
    "        test_metrics.append(\n",
    "            {\n",
    "                \"l1_norm\": test_l1_norm,\n",
    "                \"linf_norm\": test_linf_norm,\n",
    "            }\n",
    "        )\n",
    "\n",
    "        # Logging the average loss and metrics for the test set to tensorboard\n",
    "        writer.add_scalar(\"Loss/test\", test_loss, epoch)\n",
    "        writer.add_scalar(\"L1 norm/test\", test_l1_norm, epoch)\n",
    "        writer.add_scalar(\"Linf norm/test\", test_linf_norm, epoch)\n",
    "\n",
    "        # Printing the average loss and metrics for both sets for this epoch\n",
    "        print(\n",
    "            f\"Epoch {epoch + 1}: Train Loss: {train_loss:.4f}, Test Loss: {test_loss:.4f}, \"\n",
    "            f\"Train L1 Norm: {train_l1_norm:.4f}, Test L1 Norm: {test_l1_norm:.4f}, \"\n",
    "            f\"Train Linf Norm: {train_linf_norm:.4f}, Test Linf Norm: {test_linf_norm:.4f}\"\n",
    "        )\n",
    "\n",
    "        # Updating the learning rate scheduler with validation loss if applicable\n",
    "        update_scheduler(scheduler, test_loss)\n",
    "\n",
    "        # Reporting the intermediate metric value to Optuna if trial is not None\n",
    "        if trial is not None:\n",
    "            trial.report(test_metrics[-1][\"l1_norm\"], epoch)\n",
    "\n",
    "            # Checking if the trial should be pruned based on the intermediate value if trial is not None\n",
    "            if trial.should_prune():\n",
    "                raise optuna.TrialPruned()\n",
    "\n",
    "    # Closing the SummaryWriter object\n",
    "    writer.close()\n",
    "\n",
    "    # Returning the losses and metrics lists\n",
    "    return train_losses, test_losses, train_metrics, test_metrics"
   ]
  },
  {
   "cell_type": "markdown",
   "metadata": {},
   "source": [
    "## The objective function and hyperparameter tuning"
   ]
  },
  {
   "cell_type": "code",
   "execution_count": 10,
   "metadata": {},
   "outputs": [],
   "source": [
    "# Defining an objective function for Optuna to minimize\n",
    "def objective(trial):\n",
    "    \"\"\"Defines an objective function for Optuna to minimize.\n",
    "\n",
    "    Args:\n",
    "        trial (optuna.trial.Trial): The trial object that contains the hyperparameters.\n",
    "\n",
    "    Returns:\n",
    "        float: The validation L1 norm to minimize.\n",
    "    \"\"\"\n",
    "    # Creating a trial network and optimizer using the create_model function\n",
    "    net, \\\n",
    "    loss_fn, \\\n",
    "    optimizer, \\\n",
    "    batch_size, \\\n",
    "    n_epochs, \\\n",
    "    scheduler, \\\n",
    "    loss_name, \\\n",
    "    optimizer_name, \\\n",
    "    scheduler_name, \\\n",
    "    n_units, \\\n",
    "    n_layers, \\\n",
    "    hidden_activation, \\\n",
    "    output_activation, \\\n",
    "    lr = create_model(trial, optimize=True)\n",
    "\n",
    "    # Training and evaluating the network using the train_and_eval function\n",
    "    _, _, _, test_metrics = train_and_eval(\n",
    "        net, loss_fn, optimizer, batch_size, n_epochs, scheduler, trial\n",
    "    )\n",
    "\n",
    "    # Returning the last validation L1 norm as the objective value to minimize\n",
    "    return test_metrics[-1][\"l1_norm\"]"
   ]
  },
  {
   "cell_type": "code",
   "execution_count": 11,
   "metadata": {},
   "outputs": [],
   "source": [
    "if OPTIMIZE:\n",
    "    # Creating a study object with Optuna with TPE sampler and median pruner \n",
    "    study = optuna.create_study(direction=\"minimize\", sampler=optuna.samplers.TPESampler(), pruner=optuna.pruners.MedianPruner())\n",
    "\n",
    "    # Running Optuna with 100 trials when we are optimizing.\n",
    "    study.optimize(objective, n_trials=N_TRIALS)\n",
    "\n",
    "    # Printing the best trial information\n",
    "    print(\"Best trial:\")\n",
    "    trial = study.best_trial\n",
    "    print(\"  Value: \", trial.value)\n",
    "    print(\"  Params: \")\n",
    "    for key, value in trial.params.items():\n",
    "        print(f\"    {key}: {value}\")\n"
   ]
  },
  {
   "attachments": {},
   "cell_type": "markdown",
   "metadata": {},
   "source": [
    "## Training the model"
   ]
  },
  {
   "cell_type": "code",
   "execution_count": 12,
   "metadata": {},
   "outputs": [],
   "source": [
    "# Creating the best network and optimizer using the best hyperparameters\n",
    "if OPTIMIZE:\n",
    "    net, \\\n",
    "    loss_fn, \\\n",
    "    optimizer, \\\n",
    "    batch_size, \\\n",
    "    n_epochs, \\\n",
    "    scheduler, \\\n",
    "    loss_name, \\\n",
    "    optimizer_name, \\\n",
    "    scheduler_name, \\\n",
    "    n_units, \\\n",
    "    n_layers, \\\n",
    "    hidden_activation, \\\n",
    "    output_activation, \\\n",
    "    lr = create_model(trial, optimize=True)\n",
    "# Creating the network with predefined hyperparameters\n",
    "else:\n",
    "    net, \\\n",
    "    loss_fn, \\\n",
    "    optimizer, \\\n",
    "    batch_size, \\\n",
    "    n_epochs, \\\n",
    "    scheduler, \\\n",
    "    loss_name, \\\n",
    "    optimizer_name, \\\n",
    "    scheduler_name, \\\n",
    "    n_units, \\\n",
    "    n_layers, \\\n",
    "    hidden_activation, \\\n",
    "    output_activation, \\\n",
    "    lr = create_model(trial=None, optimize=False)"
   ]
  },
  {
   "cell_type": "code",
   "execution_count": 13,
   "metadata": {},
   "outputs": [
    {
     "name": "stdout",
     "output_type": "stream",
     "text": [
      "loss_fn: MSELoss()\n",
      "batch_size: 32\n",
      "n_epochs: 30\n",
      "scheduler: <torch.optim.lr_scheduler.ReduceLROnPlateau object at 0x0000026B26D98110>\n",
      "loss_name: MSE\n",
      "optimizer_name: Adam\n",
      "scheduler_name: ReduceLROnPlateau\n",
      "n_units: [600, 200]\n",
      "n_layers: 2\n",
      "hidden_activation: Sigmoid()\n",
      "output_activation: ReLU()\n"
     ]
    }
   ],
   "source": [
    "print(\"loss_fn:\", loss_fn)\n",
    "print(\"batch_size:\", batch_size)\n",
    "print(\"n_epochs:\", n_epochs)\n",
    "print(\"scheduler:\", scheduler)\n",
    "print(\"loss_name:\", loss_name)\n",
    "print(\"optimizer_name:\", optimizer_name)\n",
    "print(\"scheduler_name:\", scheduler_name)\n",
    "print(\"n_units:\", n_units)\n",
    "print(\"n_layers:\", n_layers)\n",
    "print(\"hidden_activation:\", hidden_activation)\n",
    "print(\"output_activation:\", output_activation)"
   ]
  },
  {
   "cell_type": "code",
   "execution_count": 14,
   "metadata": {},
   "outputs": [
    {
     "name": "stdout",
     "output_type": "stream",
     "text": [
      "Epoch 1: Train Loss: 8.9873, Test Loss: 9.0199, Train L1 Norm: 19.7203, Test L1 Norm: 22.2694, Train Linf Norm: 502.9959, Test Linf Norm: 579.5040\n",
      "Epoch 2: Train Loss: 8.9716, Test Loss: 9.0437, Train L1 Norm: 19.7125, Test L1 Norm: 21.4414, Train Linf Norm: 501.5727, Test Linf Norm: 557.9644\n",
      "Epoch 3: Train Loss: 8.9692, Test Loss: 9.0528, Train L1 Norm: 19.6914, Test L1 Norm: 21.2623, Train Linf Norm: 502.3955, Test Linf Norm: 553.2940\n",
      "Epoch 4: Train Loss: 8.9678, Test Loss: 9.0206, Train L1 Norm: 19.6691, Test L1 Norm: 22.6670, Train Linf Norm: 503.8956, Test Linf Norm: 589.5961\n",
      "Epoch 5: Train Loss: 8.9698, Test Loss: 9.0783, Train L1 Norm: 19.7271, Test L1 Norm: 20.8628, Train Linf Norm: 503.8446, Test Linf Norm: 542.9392\n",
      "Epoch 6: Train Loss: 8.9747, Test Loss: 9.0285, Train L1 Norm: 19.6445, Test L1 Norm: 23.0838, Train Linf Norm: 502.7225, Test Linf Norm: 600.3415\n",
      "Epoch 7: Train Loss: 8.9699, Test Loss: 9.0350, Train L1 Norm: 19.7453, Test L1 Norm: 21.6475, Train Linf Norm: 499.1767, Test Linf Norm: 563.2388\n",
      "Epoch 8: Train Loss: 8.9643, Test Loss: 9.0282, Train L1 Norm: 19.7309, Test L1 Norm: 23.0724, Train Linf Norm: 504.0058, Test Linf Norm: 600.0493\n",
      "Epoch 9: Train Loss: 8.9628, Test Loss: 9.0408, Train L1 Norm: 19.7713, Test L1 Norm: 21.5033, Train Linf Norm: 500.3040, Test Linf Norm: 559.5104\n",
      "Epoch 10: Train Loss: 8.9637, Test Loss: 9.0334, Train L1 Norm: 19.6454, Test L1 Norm: 21.6919, Train Linf Norm: 497.3464, Test Linf Norm: 564.3881\n",
      "Epoch 11: Train Loss: 8.9643, Test Loss: 9.0221, Train L1 Norm: 19.7750, Test L1 Norm: 22.1406, Train Linf Norm: 509.8829, Test Linf Norm: 575.9858\n",
      "Epoch 12: Train Loss: 8.9626, Test Loss: 9.0210, Train L1 Norm: 19.7324, Test L1 Norm: 22.6943, Train Linf Norm: 508.2804, Test Linf Norm: 590.2884\n",
      "Epoch 13: Train Loss: 8.9638, Test Loss: 9.0199, Train L1 Norm: 19.7670, Test L1 Norm: 22.5469, Train Linf Norm: 504.6006, Test Linf Norm: 586.4792\n",
      "Epoch 14: Train Loss: 8.9626, Test Loss: 9.0230, Train L1 Norm: 19.7011, Test L1 Norm: 22.8427, Train Linf Norm: 502.4217, Test Linf Norm: 594.1226\n",
      "Epoch 15: Train Loss: 8.9606, Test Loss: 9.0199, Train L1 Norm: 19.6873, Test L1 Norm: 22.3713, Train Linf Norm: 500.1088, Test Linf Norm: 581.9507\n",
      "Epoch 16: Train Loss: 8.9613, Test Loss: 9.0204, Train L1 Norm: 19.7387, Test L1 Norm: 22.2995, Train Linf Norm: 503.9851, Test Linf Norm: 580.1772\n",
      "Epoch 17: Train Loss: 8.9602, Test Loss: 9.0197, Train L1 Norm: 19.7175, Test L1 Norm: 22.5122, Train Linf Norm: 506.7697, Test Linf Norm: 585.7579\n",
      "Epoch 18: Train Loss: 8.9612, Test Loss: 9.0255, Train L1 Norm: 19.7493, Test L1 Norm: 21.9696, Train Linf Norm: 506.5398, Test Linf Norm: 571.6590\n",
      "Epoch 19: Train Loss: 8.9610, Test Loss: 9.0202, Train L1 Norm: 19.7833, Test L1 Norm: 22.3207, Train Linf Norm: 504.9344, Test Linf Norm: 580.7295\n",
      "Epoch 20: Train Loss: 8.9588, Test Loss: 9.0201, Train L1 Norm: 19.7014, Test L1 Norm: 22.3382, Train Linf Norm: 504.1526, Test Linf Norm: 581.2069\n",
      "Epoch 21: Train Loss: 8.9577, Test Loss: 9.0197, Train L1 Norm: 19.7361, Test L1 Norm: 22.5061, Train Linf Norm: 506.4628, Test Linf Norm: 585.5584\n",
      "Epoch 22: Train Loss: 8.9579, Test Loss: 9.0197, Train L1 Norm: 19.7320, Test L1 Norm: 22.4690, Train Linf Norm: 504.9312, Test Linf Norm: 584.6120\n",
      "Epoch 23: Train Loss: 8.9584, Test Loss: 9.0198, Train L1 Norm: 19.7414, Test L1 Norm: 22.4170, Train Linf Norm: 503.6564, Test Linf Norm: 583.2961\n",
      "Epoch 24: Train Loss: 8.9583, Test Loss: 9.0203, Train L1 Norm: 19.7156, Test L1 Norm: 22.3230, Train Linf Norm: 505.9484, Test Linf Norm: 580.8451\n",
      "Epoch 25: Train Loss: 8.9582, Test Loss: 9.0205, Train L1 Norm: 19.7144, Test L1 Norm: 22.3477, Train Linf Norm: 505.1191, Test Linf Norm: 581.6073\n",
      "Epoch 26: Train Loss: 8.9570, Test Loss: 9.0199, Train L1 Norm: 19.7064, Test L1 Norm: 22.5606, Train Linf Norm: 499.4941, Test Linf Norm: 587.0503\n",
      "Epoch 27: Train Loss: 8.9574, Test Loss: 9.0269, Train L1 Norm: 19.7596, Test L1 Norm: 21.9403, Train Linf Norm: 508.1297, Test Linf Norm: 571.0459\n",
      "Epoch 28: Train Loss: 8.9576, Test Loss: 9.0205, Train L1 Norm: 19.7014, Test L1 Norm: 22.3395, Train Linf Norm: 501.4091, Test Linf Norm: 581.3556\n",
      "Epoch 29: Train Loss: 8.9575, Test Loss: 9.0207, Train L1 Norm: 19.7065, Test L1 Norm: 22.3004, Train Linf Norm: 504.2266, Test Linf Norm: 580.3348\n",
      "Epoch 30: Train Loss: 8.9575, Test Loss: 9.0260, Train L1 Norm: 19.7394, Test L1 Norm: 21.9755, Train Linf Norm: 505.9263, Test Linf Norm: 571.9276\n"
     ]
    }
   ],
   "source": [
    "# Training and evaluating the network using the train_and_eval function\n",
    "train_losses, test_losses, train_metrics, test_metrics = train_and_eval(\n",
    "    net, loss_fn, optimizer, batch_size, n_epochs, scheduler\n",
    ")"
   ]
  },
  {
   "cell_type": "markdown",
   "metadata": {},
   "source": [
    "## Visualizing the results"
   ]
  },
  {
   "cell_type": "code",
   "execution_count": 15,
   "metadata": {},
   "outputs": [
    {
     "data": {
      "text/plain": [
       "<Figure size 1200x800 with 0 Axes>"
      ]
     },
     "execution_count": 15,
     "metadata": {},
     "output_type": "execute_result"
    },
    {
     "data": {
      "text/plain": [
       "<Axes: >"
      ]
     },
     "execution_count": 15,
     "metadata": {},
     "output_type": "execute_result"
    },
    {
     "data": {
      "text/plain": [
       "[<matplotlib.lines.Line2D at 0x26b26e3f050>]"
      ]
     },
     "execution_count": 15,
     "metadata": {},
     "output_type": "execute_result"
    },
    {
     "data": {
      "text/plain": [
       "[<matplotlib.lines.Line2D at 0x26b26fc3950>]"
      ]
     },
     "execution_count": 15,
     "metadata": {},
     "output_type": "execute_result"
    },
    {
     "data": {
      "text/plain": [
       "Text(0.5, 0, 'Epoch')"
      ]
     },
     "execution_count": 15,
     "metadata": {},
     "output_type": "execute_result"
    },
    {
     "data": {
      "text/plain": [
       "Text(0, 0.5, 'Loss')"
      ]
     },
     "execution_count": 15,
     "metadata": {},
     "output_type": "execute_result"
    },
    {
     "data": {
      "text/plain": [
       "<matplotlib.legend.Legend at 0x26b24bf37d0>"
      ]
     },
     "execution_count": 15,
     "metadata": {},
     "output_type": "execute_result"
    },
    {
     "data": {
      "text/plain": [
       "<Axes: >"
      ]
     },
     "execution_count": 15,
     "metadata": {},
     "output_type": "execute_result"
    },
    {
     "data": {
      "text/plain": [
       "[<matplotlib.lines.Line2D at 0x26b26fed690>]"
      ]
     },
     "execution_count": 15,
     "metadata": {},
     "output_type": "execute_result"
    },
    {
     "data": {
      "text/plain": [
       "[<matplotlib.lines.Line2D at 0x26b27031550>]"
      ]
     },
     "execution_count": 15,
     "metadata": {},
     "output_type": "execute_result"
    },
    {
     "data": {
      "text/plain": [
       "Text(0.5, 0, 'Epoch')"
      ]
     },
     "execution_count": 15,
     "metadata": {},
     "output_type": "execute_result"
    },
    {
     "data": {
      "text/plain": [
       "Text(0, 0.5, 'L1 Norm')"
      ]
     },
     "execution_count": 15,
     "metadata": {},
     "output_type": "execute_result"
    },
    {
     "data": {
      "text/plain": [
       "<matplotlib.legend.Legend at 0x26b270325d0>"
      ]
     },
     "execution_count": 15,
     "metadata": {},
     "output_type": "execute_result"
    },
    {
     "data": {
      "text/plain": [
       "<Axes: >"
      ]
     },
     "execution_count": 15,
     "metadata": {},
     "output_type": "execute_result"
    },
    {
     "data": {
      "text/plain": [
       "[<matplotlib.lines.Line2D at 0x26b27067f10>]"
      ]
     },
     "execution_count": 15,
     "metadata": {},
     "output_type": "execute_result"
    },
    {
     "data": {
      "text/plain": [
       "[<matplotlib.lines.Line2D at 0x26b27078850>]"
      ]
     },
     "execution_count": 15,
     "metadata": {},
     "output_type": "execute_result"
    },
    {
     "data": {
      "text/plain": [
       "Text(0.5, 0, 'Epoch')"
      ]
     },
     "execution_count": 15,
     "metadata": {},
     "output_type": "execute_result"
    },
    {
     "data": {
      "text/plain": [
       "Text(0, 0.5, 'Linf Norm')"
      ]
     },
     "execution_count": 15,
     "metadata": {},
     "output_type": "execute_result"
    },
    {
     "data": {
      "text/plain": [
       "<matplotlib.legend.Legend at 0x26b27066150>"
      ]
     },
     "execution_count": 15,
     "metadata": {},
     "output_type": "execute_result"
    },
    {
     "data": {
      "image/png": "[encoded data removed]",
      "text/plain": [
       "<Figure size 1200x800 with 3 Axes>"
      ]
     },
     "metadata": {},
     "output_type": "display_data"
    },
    {
     "data": {
      "text/plain": [
       "<Figure size 800x600 with 0 Axes>"
      ]
     },
     "execution_count": 15,
     "metadata": {},
     "output_type": "execute_result"
    },
    {
     "data": {
      "text/plain": [
       "[<matplotlib.lines.Line2D at 0x26b24c37650>]"
      ]
     },
     "execution_count": 15,
     "metadata": {},
     "output_type": "execute_result"
    },
    {
     "data": {
      "text/plain": [
       "[<matplotlib.lines.Line2D at 0x26b24c33010>]"
      ]
     },
     "execution_count": 15,
     "metadata": {},
     "output_type": "execute_result"
    },
    {
     "data": {
      "text/plain": [
       "Text(0.5, 0, 'Epoch')"
      ]
     },
     "execution_count": 15,
     "metadata": {},
     "output_type": "execute_result"
    },
    {
     "data": {
      "text/plain": [
       "Text(0, 0.5, 'MSE')"
      ]
     },
     "execution_count": 15,
     "metadata": {},
     "output_type": "execute_result"
    },
    {
     "data": {
      "text/plain": [
       "<matplotlib.legend.Legend at 0x26b24c36a50>"
      ]
     },
     "execution_count": 15,
     "metadata": {},
     "output_type": "execute_result"
    },
    {
     "data": {
      "image/png": "[encoded data removed]",
      "text/plain": [
       "<Figure size 800x600 with 1 Axes>"
      ]
     },
     "metadata": {},
     "output_type": "display_data"
    }
   ],
   "source": [
    "# Plotting the losses and metrics for the best network \n",
    "plt.figure(figsize=(12, 8))\n",
    "plt.subplot(2, 2, 1)\n",
    "plt.plot(train_losses, label=\"Train Loss\")\n",
    "plt.plot(test_losses, label=\"Test Loss\")\n",
    "plt.xlabel(\"Epoch\")\n",
    "plt.ylabel(\"Loss\")\n",
    "plt.legend()\n",
    "plt.subplot(2, 2, 2)\n",
    "plt.plot([m[\"l1_norm\"] for m in train_metrics], label=\"Train L1 Norm\")\n",
    "plt.plot([m[\"l1_norm\"] for m in test_metrics], label=\"Test L1 Norm\")\n",
    "plt.xlabel(\"Epoch\")\n",
    "plt.ylabel(\"L1 Norm\")\n",
    "plt.legend()\n",
    "plt.subplot(2, 2, 3)\n",
    "plt.plot([m[\"linf_norm\"] for m in train_metrics], label=\"Train Linf Norm\")\n",
    "plt.plot([m[\"linf_norm\"] for m in test_metrics], label=\"Test Linf Norm\")\n",
    "plt.xlabel(\"Epoch\")\n",
    "plt.ylabel(\"Linf Norm\")\n",
    "plt.legend()\n",
    "plt.tight_layout()\n",
    "plt.show()\n",
    "\n",
    "# Added plotting MSE of training data and MSE of test data in one plot \n",
    "plt.figure(figsize=(8, 6))\n",
    "plt.plot(train_losses,label=\"training data\")\n",
    "plt.plot(test_losses,label=\"test data\")\n",
    "#if scheduler is not None:\n",
    "#    plt.plot([scheduler.get_last_lr()[0] for _ in range(n_epochs)], label=\"Learning rate\") \n",
    "plt.xlabel(\"Epoch\")\n",
    "plt.ylabel(\"MSE\")\n",
    "plt.legend()\n",
    "plt.show()"
   ]
  },
  {
   "cell_type": "markdown",
   "metadata": {},
   "source": [
    "## Saving"
   ]
  },
  {
   "cell_type": "code",
   "execution_count": 16,
   "metadata": {},
   "outputs": [],
   "source": [
    "import json\n",
    "import pandas as pd\n",
    "\n",
    "# save the network to a .pth file\n",
    "torch.save(net.state_dict(), \"net.pth\")\n",
    "\n",
    "# save the optimizer to a .pth file\n",
    "torch.save(optimizer.state_dict(), \"optimizer.pth\")\n",
    "\n",
    "# save the scheduler to a .pth file if it is not None\n",
    "if scheduler is not None:\n",
    "  torch.save(scheduler.state_dict(), \"scheduler.pth\")\n",
    "\n",
    "# create a dictionary to store the rest of the variables\n",
    "var_dict = {\n",
    "  \"batch_size\": batch_size,\n",
    "  \"n_epochs\": n_epochs,\n",
    "  \"loss_name\": loss_name,\n",
    "  \"optimizer_name\": optimizer_name,\n",
    "  \"scheduler_name\": scheduler_name,\n",
    "  \"n_units\": n_units,\n",
    "  \"n_layers\": n_layers,\n",
    "  \"hidden_activation_name\": hidden_activation.__class__.__name__,\n",
    "  \"output_activation_name\": output_activation.__class__.__name__,\n",
    "  \"lr\": lr,\n",
    "}\n",
    "\n",
    "# save the dictionary to a .json file\n",
    "with open(\"var_dict.json\", \"w\") as f:\n",
    "  json.dump(var_dict, f)\n",
    "\n",
    "# Saving the output of the training using pandas\n",
    "train_df = pd.DataFrame(\n",
    "    {\n",
    "        \"train_loss\": train_losses,\n",
    "        \"test_loss\": test_losses,\n",
    "        \"train_l1_norm\": [m[\"l1_norm\"] for m in train_metrics],\n",
    "        \"test_l1_norm\": [m[\"l1_norm\"] for m in test_metrics],\n",
    "        \"train_linf_norm\": [m[\"linf_norm\"] for m in train_metrics],\n",
    "        \"test_linf_norm\": [m[\"linf_norm\"] for m in test_metrics],\n",
    "    }\n",
    ")\n",
    "train_df.to_csv(\"train_output.csv\", index=False)\n"
   ]
  },
  {
   "cell_type": "markdown",
   "metadata": {},
   "source": [
    "## Loading"
   ]
  },
  {
   "cell_type": "code",
   "execution_count": 7,
   "metadata": {},
   "outputs": [
    {
     "data": {
      "text/plain": [
       "<All keys matched successfully>"
      ]
     },
     "execution_count": 7,
     "metadata": {},
     "output_type": "execute_result"
    }
   ],
   "source": [
    "import json\n",
    "import pandas as pd\n",
    "\n",
    "# load the dictionary from the .json file\n",
    "with open(\"var_dict.json\", \"r\") as f:\n",
    "  var_dict_loaded = json.load(f)\n",
    "\n",
    "# extract the variables from the dictionary\n",
    "batch_size_loaded = var_dict_loaded[\"batch_size\"]\n",
    "n_epochs_loaded = var_dict_loaded[\"n_epochs\"]\n",
    "loss_name_loaded = var_dict_loaded[\"loss_name\"]\n",
    "optimizer_name_loaded = var_dict_loaded[\"optimizer_name\"]\n",
    "scheduler_name_loaded = var_dict_loaded[\"scheduler_name\"]\n",
    "n_units_loaded = var_dict_loaded[\"n_units\"]\n",
    "n_layers_loaded = var_dict_loaded[\"n_layers\"]\n",
    "hidden_activation_name_loaded = var_dict_loaded[\"hidden_activation_name\"]\n",
    "output_activation_name_loaded = var_dict_loaded[\"output_activation_name\"]\n",
    "lr_loaded = var_dict_loaded[\"lr\"]\n",
    "\n",
    "# create the activation functions from their names\n",
    "if hidden_activation_name_loaded == \"ReLU\":\n",
    "  hidden_activation_loaded = nn.ReLU()\n",
    "elif hidden_activation_name_loaded == \"LeakyReLU\":\n",
    "  hidden_activation_loaded = nn.LeakyReLU() \n",
    "elif hidden_activation_name_loaded == \"ELU\":\n",
    "  hidden_activation_loaded = nn.ELU() \n",
    "elif hidden_activation_name_loaded == \"Tanh\":\n",
    "  hidden_activation_loaded = nn.Tanh()\n",
    "else:\n",
    "  hidden_activation_loaded = nn.Sigmoid()\n",
    "\n",
    "if output_activation_name_loaded == \"ReLU\":\n",
    "  output_activation_loaded = nn.ReLU()\n",
    "else:\n",
    "  output_activation_loaded = nn.Identity()\n",
    "\n",
    "# load the network from the .pth file\n",
    "net_loaded = Net(n_layers_loaded, n_units_loaded, hidden_activation_loaded, output_activation_loaded).to(device)\n",
    "net_loaded.load_state_dict(torch.load(\"net.pth\"))\n",
    "\n",
    "# create the loss function from its name\n",
    "if loss_name_loaded == \"MSE\":\n",
    "  loss_fn_loaded = nn.MSELoss()\n",
    "elif loss_name_loaded == \"MAE\":\n",
    "  loss_fn_loaded = nn.L1Loss()\n",
    "elif loss_name_loaded == \"Huber\":\n",
    "  loss_fn_loaded = nn.SmoothL1Loss() \n",
    "else:\n",
    "  # create the log-cosh loss function\n",
    "  def log_cosh_loss_loaded(y_pred, y_true):\n",
    "    return torch.mean(torch.log(torch.cosh(y_pred - y_true)))\n",
    "  loss_fn_loaded = log_cosh_loss_loaded\n",
    "\n",
    "# load the optimizer from the .pth file\n",
    "if optimizer_name_loaded == \"SGD\":\n",
    "  optimizer_loaded = optim.SGD(net_loaded.parameters(), lr=lr_loaded)\n",
    "elif optimizer_name_loaded == \"Adam\":\n",
    "  optimizer_loaded = optim.Adam(net_loaded.parameters(), lr=lr_loaded)\n",
    "elif optimizer_name_loaded == \"RMSprop\":\n",
    "  optimizer_loaded = optim.RMSprop(net_loaded.parameters(), lr=lr_loaded)\n",
    "else:\n",
    "  # Added loading the Adagrad optimizer\n",
    "  optimizer_loaded = optim.Adagrad(net_loaded.parameters(), lr=lr_loaded)\n",
    "optimizer_loaded.load_state_dict(torch.load(\"optimizer.pth\"))\n",
    "\n",
    "if scheduler_name_loaded == \"StepLR\":\n",
    "  scheduler_loaded = optim.lr_scheduler.StepLR(optimizer_loaded, step_size=10, gamma=0.1)\n",
    "elif scheduler_name_loaded == \"ExponentialLR\":\n",
    "  scheduler_loaded = optim.lr_scheduler.ExponentialLR(optimizer_loaded, gamma=0.9)\n",
    "elif scheduler_name_loaded == \"CosineAnnealingLR\":\n",
    "  scheduler_loaded = optim.lr_scheduler.CosineAnnealingLR(optimizer_loaded, T_max=10)\n",
    "elif scheduler_name_loaded == \"ReduceLROnPlateau\":\n",
    "  scheduler_loaded = optim.lr_scheduler.ReduceLROnPlateau(\n",
    "                    optimizer_loaded, mode=\"min\", factor=0.5, patience=5, threshold=0.0005, min_lr=1e-6\n",
    "                )\n",
    "else:\n",
    "  scheduler_loaded = None\n",
    "\n",
    "if scheduler_loaded is not None:\n",
    "  scheduler_loaded.load_state_dict(torch.load(\"scheduler.pth\"))\n",
    "            \n",
    "\n",
    "# Loading the output of the training using pandas\n",
    "train_df_loaded = pd.read_csv(\"train_output.csv\")\n",
    "train_losses_loaded = train_df_loaded[\"train_loss\"].tolist()\n",
    "test_losses_loaded = train_df_loaded[\"test_loss\"].tolist()\n",
    "train_metrics_loaded = [\n",
    "    {\n",
    "        \"l1_norm\": train_df_loaded[\"train_l1_norm\"][i],\n",
    "        \"linf_norm\": train_df_loaded[\"train_linf_norm\"][i],\n",
    "    }\n",
    "    for i in range(len(train_df_loaded))\n",
    "]\n",
    "test_metrics_loaded = [\n",
    "    {\n",
    "        \"l1_norm\": train_df_loaded[\"test_l1_norm\"][i],\n",
    "        \"linf_norm\": train_df_loaded[\"test_linf_norm\"][i],\n",
    "    }\n",
    "    for i in range(len(train_df_loaded))\n",
    "]"
   ]
  },
  {
   "cell_type": "code",
   "execution_count": 9,
   "metadata": {},
   "outputs": [
    {
     "data": {
      "text/plain": [
       "32"
      ]
     },
     "execution_count": 9,
     "metadata": {},
     "output_type": "execute_result"
    },
    {
     "data": {
      "text/plain": [
       "30"
      ]
     },
     "execution_count": 9,
     "metadata": {},
     "output_type": "execute_result"
    },
    {
     "data": {
      "text/plain": [
       "'MSE'"
      ]
     },
     "execution_count": 9,
     "metadata": {},
     "output_type": "execute_result"
    },
    {
     "data": {
      "text/plain": [
       "'Adam'"
      ]
     },
     "execution_count": 9,
     "metadata": {},
     "output_type": "execute_result"
    },
    {
     "data": {
      "text/plain": [
       "'ReduceLROnPlateau'"
      ]
     },
     "execution_count": 9,
     "metadata": {},
     "output_type": "execute_result"
    },
    {
     "data": {
      "text/plain": [
       "[600, 200]"
      ]
     },
     "execution_count": 9,
     "metadata": {},
     "output_type": "execute_result"
    },
    {
     "data": {
      "text/plain": [
       "2"
      ]
     },
     "execution_count": 9,
     "metadata": {},
     "output_type": "execute_result"
    },
    {
     "data": {
      "text/plain": [
       "'Sigmoid'"
      ]
     },
     "execution_count": 9,
     "metadata": {},
     "output_type": "execute_result"
    },
    {
     "data": {
      "text/plain": [
       "'ReLU'"
      ]
     },
     "execution_count": 9,
     "metadata": {},
     "output_type": "execute_result"
    },
    {
     "data": {
      "text/plain": [
       "0.0006"
      ]
     },
     "execution_count": 9,
     "metadata": {},
     "output_type": "execute_result"
    },
    {
     "data": {
      "text/plain": [
       "Sigmoid()"
      ]
     },
     "execution_count": 9,
     "metadata": {},
     "output_type": "execute_result"
    },
    {
     "data": {
      "text/plain": [
       "ReLU()"
      ]
     },
     "execution_count": 9,
     "metadata": {},
     "output_type": "execute_result"
    },
    {
     "data": {
      "text/plain": [
       "Net(\n",
       "  (hidden_activation): Sigmoid()\n",
       "  (output_activation): ReLU()\n",
       "  (layers): ModuleList(\n",
       "    (0): Linear(in_features=3, out_features=600, bias=True)\n",
       "    (1): Linear(in_features=600, out_features=200, bias=True)\n",
       "    (2): Linear(in_features=200, out_features=1, bias=True)\n",
       "  )\n",
       ")"
      ]
     },
     "execution_count": 9,
     "metadata": {},
     "output_type": "execute_result"
    },
    {
     "data": {
      "text/plain": [
       "MSELoss()"
      ]
     },
     "execution_count": 9,
     "metadata": {},
     "output_type": "execute_result"
    },
    {
     "data": {
      "text/plain": [
       "Adam (\n",
       "Parameter Group 0\n",
       "    amsgrad: False\n",
       "    betas: (0.9, 0.999)\n",
       "    capturable: False\n",
       "    differentiable: False\n",
       "    eps: 1e-08\n",
       "    foreach: None\n",
       "    fused: None\n",
       "    lr: 3.75e-05\n",
       "    maximize: False\n",
       "    weight_decay: 0\n",
       ")"
      ]
     },
     "execution_count": 9,
     "metadata": {},
     "output_type": "execute_result"
    },
    {
     "data": {
      "text/plain": [
       "<torch.optim.lr_scheduler.ReduceLROnPlateau at 0x160a607d190>"
      ]
     },
     "execution_count": 9,
     "metadata": {},
     "output_type": "execute_result"
    }
   ],
   "source": [
    "batch_size_loaded\n",
    "n_epochs_loaded\n",
    "loss_name_loaded\n",
    "optimizer_name_loaded\n",
    "scheduler_name_loaded\n",
    "n_units_loaded\n",
    "n_layers_loaded\n",
    "hidden_activation_name_loaded\n",
    "output_activation_name_loaded\n",
    "lr_loaded\n",
    "hidden_activation_loaded\n",
    "output_activation_loaded\n",
    "net_loaded\n",
    "loss_fn_loaded\n",
    "optimizer_loaded\n",
    "scheduler_loaded\n",
    "#train_losses_loaded\n",
    "#test_losses_loaded\n",
    "#train_metrics_loaded\n",
    "#test_metrics_loaded"
   ]
  },
  {
   "attachments": {},
   "cell_type": "markdown",
   "metadata": {},
   "source": [
    "## Evaluating the network on arbirary input\n",
    "### Comparing `net` and `net_loaded`\n",
    "\n",
    "We compare `net` and `net_loaded` to confirm correct loading of the network."
   ]
  },
  {
   "cell_type": "code",
   "execution_count": 20,
   "metadata": {},
   "outputs": [
    {
     "name": "stdout",
     "output_type": "stream",
     "text": [
      "[Parameter containing:\n",
      "tensor([[-0.5874,  0.5272, -0.4296],\n",
      "        [-0.0217, -0.2780,  0.4861],\n",
      "        [-0.0721,  0.5034, -0.3416],\n",
      "        ...,\n",
      "        [ 0.1354,  0.3344, -0.1488],\n",
      "        [-0.5607, -0.5604, -0.7513],\n",
      "        [ 0.1590,  0.5065, -0.1858]], requires_grad=True), Parameter containing:\n",
      "tensor([-3.5765e-01, -4.9754e-01,  5.0419e-01, -5.0240e-01, -3.4886e-01,\n",
      "        -1.0604e-02,  2.7707e-01,  5.8201e-02, -3.3711e-01,  5.1167e-01,\n",
      "         4.8763e-01, -5.3461e-01,  4.4090e-01,  2.5003e-01, -8.6046e-02,\n",
      "         1.6579e-01, -5.1556e-01, -6.7001e-02, -3.8594e-01, -2.4223e-01,\n",
      "        -6.8862e-01,  1.6325e-01, -5.6939e-02, -8.6556e-02, -9.0481e-02,\n",
      "        -4.8587e-02,  1.7100e-01, -3.8399e-01,  2.0883e-01, -4.9076e-01,\n",
      "         2.4381e-01, -5.7831e-01,  4.3689e-01, -3.1459e-01,  3.6366e-01,\n",
      "        -3.8810e-01, -4.7556e-01, -3.0733e-01,  5.5272e-01,  2.2170e-01,\n",
      "         3.9570e-01,  2.2226e-01, -3.4000e-01,  2.8809e-01,  9.1295e-02,\n",
      "        -3.9281e-01,  3.2779e-01, -5.4391e-01, -4.8373e-01, -4.9336e-02,\n",
      "         1.3746e-01,  1.7562e-01,  3.4600e-01,  4.4402e-01, -1.0476e-01,\n",
      "        -4.5480e-01, -2.8738e-01,  4.4216e-01,  1.1669e-02,  2.7836e-01,\n",
      "         4.7701e-01, -5.6781e-02, -1.3931e-01, -3.6588e-01,  3.1210e-01,\n",
      "         1.1364e-03, -2.8756e-01, -5.9571e-01, -5.5963e-01,  4.8008e-01,\n",
      "         1.4102e-01, -2.3976e-01, -5.4428e-01,  5.0740e-02, -3.9656e-01,\n",
      "         3.5492e-01,  1.1370e-01,  3.4458e-01,  2.5709e-01, -5.1090e-01,\n",
      "         2.0262e-02, -7.8742e-02, -2.5265e-01,  6.0056e-02,  1.6768e-01,\n",
      "        -4.7233e-01,  2.1535e-01, -1.9220e-02,  9.1226e-02, -5.3460e-02,\n",
      "         2.2453e-01, -1.0618e-01,  6.9720e-02,  2.0486e-02,  9.0024e-02,\n",
      "         1.2654e-01, -5.2113e-01, -4.0468e-01, -1.1582e-01,  2.5748e-01,\n",
      "         1.2122e-01,  5.2496e-01,  1.8727e-01,  6.4212e-02, -2.0914e-01,\n",
      "         2.6147e-02, -1.6864e-01,  5.7427e-02, -3.1173e-01, -2.7354e-01,\n",
      "         4.2474e-02, -2.1646e-01, -5.6240e-01,  2.3539e-03, -2.3096e-01,\n",
      "        -3.0029e-01, -1.6137e-01,  4.1702e-02,  5.3502e-01, -4.1169e-01,\n",
      "        -2.0610e-01, -2.9269e-01,  4.5174e-01,  3.6434e-01, -1.8464e-02,\n",
      "        -2.1048e-01,  2.8609e-01, -3.8765e-01, -3.0433e-01,  7.2833e-02,\n",
      "        -4.7823e-01, -3.5320e-01,  3.1326e-02,  1.3024e-01,  2.4920e-01,\n",
      "        -5.8005e-01, -6.4056e-02, -4.5312e-01,  9.5670e-02,  3.7667e-01,\n",
      "        -2.1507e-01,  4.6082e-01,  5.8043e-02, -4.4168e-01, -2.7432e-01,\n",
      "         1.3907e-01, -5.6278e-01, -4.3534e-01, -7.9175e-03,  3.8652e-01,\n",
      "        -5.6069e-01, -4.7895e-01,  1.2468e-01,  7.3169e-03,  2.6276e-01,\n",
      "         1.9846e-01,  4.6931e-01,  4.5460e-01, -1.9772e-02, -4.0931e-01,\n",
      "         1.8950e-01,  3.0804e-01, -1.1806e-01, -1.7654e-01, -1.9826e-01,\n",
      "         3.3568e-01,  4.5783e-01, -1.2565e-01,  3.7443e-01, -2.0032e-01,\n",
      "        -2.4693e-01,  2.9053e-01, -5.3396e-02, -3.4021e-01,  4.7419e-01,\n",
      "        -1.0290e-01, -1.7288e-01, -2.0752e-01,  2.4830e-01, -3.0113e-01,\n",
      "        -3.9820e-01, -3.6946e-01,  4.8082e-01,  2.2462e-01, -3.4155e-01,\n",
      "         4.9256e-01,  5.6234e-02, -7.2009e-02,  4.3227e-01,  1.6759e-02,\n",
      "        -4.3071e-01, -6.0657e-01, -1.3117e-01, -2.2187e-01,  1.5129e-01,\n",
      "         9.4250e-02, -1.4318e-02,  1.6876e-01,  2.1199e-02,  2.5081e-01,\n",
      "        -4.6875e-01, -3.0567e-01,  4.6112e-01, -4.7915e-01,  4.9294e-01,\n",
      "        -5.9490e-01,  4.5015e-01, -6.2009e-01,  1.7105e-01,  4.2724e-03,\n",
      "         4.1033e-01,  3.5197e-01,  1.8518e-01,  1.8419e-01, -6.5409e-02,\n",
      "        -3.7113e-01,  2.3380e-01, -2.8770e-01, -1.1914e-01,  3.8630e-01,\n",
      "        -2.2620e-01,  2.3961e-01, -2.2827e-01, -5.3908e-01, -5.0977e-01,\n",
      "        -3.0466e-01, -6.2420e-01, -5.1653e-01,  4.1603e-01, -8.6124e-02,\n",
      "         2.6298e-01,  3.8665e-01,  3.0790e-01,  2.7882e-01, -8.0338e-02,\n",
      "        -5.4653e-01,  4.6451e-01, -5.9236e-01, -1.2914e-01,  6.6301e-02,\n",
      "         1.1689e-02, -1.4437e-01,  1.1376e-01,  4.6549e-01,  3.3611e-02,\n",
      "        -5.2579e-01, -2.5022e-01,  1.3772e-01,  9.2695e-02,  2.8767e-01,\n",
      "        -4.9412e-02, -2.0428e-01, -3.5294e-01, -3.7860e-01,  4.4883e-01,\n",
      "        -4.1762e-01,  3.1631e-01, -5.0509e-01,  4.6980e-01,  4.8974e-01,\n",
      "         1.9111e-01,  1.0078e-01, -3.7039e-01,  1.1558e-01,  4.5424e-01,\n",
      "         3.3748e-01, -5.2045e-01,  5.0023e-01,  4.3138e-01,  2.4188e-01,\n",
      "        -2.9182e-01,  1.9195e-03, -4.8811e-01,  2.7681e-01,  6.3695e-03,\n",
      "         3.9998e-02,  4.7262e-01,  2.9294e-02, -3.1892e-01, -3.4340e-01,\n",
      "        -2.5010e-01,  4.8502e-01, -3.1917e-01,  4.1615e-01, -6.3357e-01,\n",
      "        -3.3584e-01,  4.1038e-01, -2.5821e-01,  9.8925e-02,  1.5980e-01,\n",
      "         1.1818e-01,  4.6796e-01, -7.2159e-01, -3.7889e-01, -2.2109e-01,\n",
      "        -4.9665e-01, -4.3673e-01,  1.1300e-01, -1.6363e-01,  3.3928e-01,\n",
      "        -4.7637e-01, -3.5921e-02,  9.4911e-02, -5.0983e-01, -2.2344e-01,\n",
      "        -5.8680e-01, -1.6259e-01,  3.1692e-01, -5.3328e-01,  5.1096e-01,\n",
      "         7.3255e-02, -2.9979e-01, -3.5087e-01, -9.4125e-02, -5.4515e-01,\n",
      "        -3.9649e-02,  4.2263e-01,  2.5618e-01,  4.9567e-01,  3.4928e-01,\n",
      "         4.7350e-01,  1.2879e-01, -9.3735e-02,  1.4198e-01, -1.5802e-01,\n",
      "        -2.7877e-01, -4.0014e-02,  4.8872e-01, -8.3505e-02, -3.6217e-01,\n",
      "        -4.4627e-01, -2.8568e-01,  2.6919e-01, -1.8534e-01,  4.6811e-01,\n",
      "        -3.4349e-01, -5.8198e-01, -3.6473e-01,  3.9525e-01,  2.3600e-01,\n",
      "         1.7448e-01,  1.2593e-01,  3.0073e-01,  3.8436e-01, -3.5417e-01,\n",
      "         3.8780e-01,  3.1356e-01, -4.7576e-01,  3.5105e-01, -1.9661e-01,\n",
      "         4.8112e-01,  1.7945e-01, -1.3071e-01, -2.0342e-01, -4.3069e-03,\n",
      "         5.4810e-01,  2.9944e-01,  1.1867e-01, -2.7484e-01,  4.2177e-01,\n",
      "        -5.5688e-01,  3.4575e-01, -1.9192e-01, -5.4643e-01,  4.1435e-01,\n",
      "         1.7647e-01, -2.6506e-01,  4.3665e-01, -1.8586e-01, -4.0786e-01,\n",
      "        -4.8339e-01,  1.3005e-01, -5.9115e-01,  2.2583e-01, -5.0722e-01,\n",
      "         3.3273e-01, -1.7505e-01, -2.5151e-01, -4.8350e-01, -4.8771e-01,\n",
      "         3.2863e-01, -2.4491e-01,  1.6369e-01,  2.6892e-01, -2.7144e-01,\n",
      "        -4.8680e-01, -3.6457e-01, -5.1660e-01, -2.9295e-01,  1.8591e-01,\n",
      "         3.8940e-01,  2.0407e-01, -1.1748e-01, -1.8499e-01,  1.5518e-01,\n",
      "         4.2869e-01, -2.4377e-01, -2.1493e-01, -1.3744e-01, -1.3315e-03,\n",
      "         3.9259e-01, -2.6100e-01,  1.1463e-01, -2.2537e-01,  5.2040e-01,\n",
      "        -4.3568e-01, -1.5108e-01, -5.0008e-02, -3.2352e-01, -5.0832e-01,\n",
      "         1.1798e-01,  3.0216e-01,  5.5704e-01,  1.0606e-01,  1.6792e-01,\n",
      "         7.4085e-02,  3.1671e-01, -8.3228e-02, -6.5472e-02,  1.2052e-01,\n",
      "        -1.1418e-01, -2.1084e-01,  4.9251e-01, -5.2188e-01, -3.6991e-01,\n",
      "         1.5089e-02, -2.2063e-01,  3.2996e-01, -3.4673e-01, -4.8356e-01,\n",
      "        -2.0225e-01,  7.8298e-02,  8.8461e-02, -8.5331e-02, -2.2259e-01,\n",
      "        -5.6981e-01,  4.5286e-01, -2.3153e-01,  5.0299e-01, -1.7201e-01,\n",
      "        -4.9694e-01, -6.2007e-02, -5.6560e-01,  4.0186e-01, -1.6372e-01,\n",
      "         4.6287e-01, -6.6629e-01,  2.0321e-01, -3.8244e-01,  3.8298e-02,\n",
      "        -4.2484e-02, -4.0739e-01, -5.7717e-02, -5.3526e-01, -3.6787e-01,\n",
      "        -1.6835e-01, -4.0818e-01,  4.1574e-01, -2.7818e-01,  3.7561e-01,\n",
      "        -2.5589e-02, -3.8040e-01, -1.5923e-01,  3.0155e-01,  1.5672e-01,\n",
      "        -3.7185e-01,  2.7490e-01, -4.9981e-01, -5.0073e-01, -5.0758e-01,\n",
      "        -2.9869e-04, -6.4194e-02, -6.7475e-02, -5.9482e-01,  4.8303e-02,\n",
      "         4.2975e-01, -4.0447e-01, -4.1294e-01,  1.7840e-01,  2.7125e-01,\n",
      "        -6.3801e-01, -6.0144e-01, -1.7901e-01,  2.2423e-01,  3.7452e-01,\n",
      "        -4.0569e-01,  2.8934e-02, -2.1305e-01,  4.3435e-01, -1.2523e-01,\n",
      "        -6.1472e-01, -2.2509e-01,  3.0213e-01, -5.0185e-01, -3.0434e-01,\n",
      "        -1.6663e-01, -4.2679e-01,  3.4262e-02,  1.8910e-01,  5.2910e-01,\n",
      "        -5.9132e-01,  3.6489e-01,  2.4290e-01,  5.0570e-01,  1.2595e-01,\n",
      "        -4.0170e-01,  3.3356e-01, -1.3067e-01,  4.7014e-01, -4.1230e-01,\n",
      "         8.3469e-02, -3.3928e-01,  1.9401e-01, -1.7839e-01,  3.8013e-01,\n",
      "        -8.9708e-02, -3.3672e-01,  1.7602e-01,  2.8533e-01,  5.4671e-02,\n",
      "        -6.5910e-02,  3.3866e-01, -4.3357e-01, -4.7447e-01, -4.1045e-01,\n",
      "        -7.3029e-02, -2.8945e-01, -2.2923e-01,  2.1411e-01, -4.2006e-01,\n",
      "         3.5521e-01, -3.2650e-01,  4.5044e-01,  8.4072e-02,  5.0575e-01,\n",
      "        -3.0113e-01, -5.4394e-01, -4.6510e-01, -5.5727e-01, -2.6286e-01,\n",
      "        -3.0756e-01, -5.9800e-01,  5.5119e-01, -3.5154e-01,  1.4879e-01,\n",
      "        -1.1587e-01,  4.4620e-01,  5.5918e-01, -9.2280e-02,  1.9848e-01,\n",
      "        -4.9693e-01, -1.4112e-01, -5.3388e-01,  5.1160e-01,  3.6383e-01,\n",
      "         1.9567e-02, -1.4043e-01, -3.5652e-01, -5.2501e-01,  1.4246e-01,\n",
      "        -1.8752e-01,  2.1660e-01, -2.3885e-02, -4.0768e-01,  1.9854e-01,\n",
      "         3.6398e-01, -5.1601e-01,  3.6701e-01, -1.6801e-02, -4.2301e-02,\n",
      "        -4.6812e-02,  2.7047e-01, -5.4933e-01, -2.3813e-01, -4.3753e-01,\n",
      "         4.4183e-01, -5.0213e-01, -9.5262e-02, -7.5867e-02, -2.0008e-01,\n",
      "         2.4666e-01,  2.1999e-01,  2.7011e-01,  2.3322e-01, -2.1198e-01,\n",
      "        -1.5596e-01,  3.3340e-02, -2.1086e-01,  3.8554e-01, -6.5995e-01,\n",
      "        -2.8276e-01, -6.0874e-01, -5.1086e-01,  2.4597e-01, -5.1436e-01,\n",
      "        -4.4563e-01,  1.5365e-01,  3.7163e-02, -2.7996e-01, -6.1370e-01],\n",
      "       requires_grad=True), Parameter containing:\n",
      "tensor([[-0.1123,  0.0564, -0.0153,  ...,  0.0391,  0.0359,  0.0172],\n",
      "        [ 0.0039, -0.0347, -0.0237,  ..., -0.0335, -0.0794, -0.0533],\n",
      "        [ 0.0669, -0.0104, -0.0123,  ..., -0.0142, -0.0326, -0.0792],\n",
      "        ...,\n",
      "        [-0.0633,  0.0338,  0.0005,  ...,  0.0140,  0.0246,  0.0199],\n",
      "        [ 0.0818, -0.0676, -0.0203,  ...,  0.0069, -0.0656, -0.0271],\n",
      "        [ 0.0156, -0.0194, -0.0290,  ..., -0.0006, -0.0416, -0.0646]],\n",
      "       requires_grad=True), Parameter containing:\n",
      "tensor([ 1.5467e-02, -1.3799e-03, -6.0127e-02, -2.0129e-02,  1.8436e-02,\n",
      "        -4.3558e-02, -2.5912e-02,  3.4605e-02, -2.4537e-02,  3.9178e-02,\n",
      "        -5.5148e-02,  1.0850e-02,  2.5574e-02, -3.1568e-02, -2.4932e-02,\n",
      "        -5.7351e-03, -5.1178e-02,  4.0570e-02, -2.0752e-03,  1.1272e-03,\n",
      "        -2.1758e-02, -5.4999e-02, -4.2151e-02,  1.6832e-03, -4.8947e-03,\n",
      "         4.5538e-02, -2.4216e-02,  2.3383e-02, -4.7145e-02, -3.5115e-02,\n",
      "         1.1871e-02,  1.2214e-02, -5.4390e-02, -2.5422e-02,  2.5487e-02,\n",
      "        -1.9220e-02,  2.9848e-03, -5.4348e-02,  1.6566e-02,  7.6784e-03,\n",
      "         3.8466e-02, -9.6335e-03, -1.5149e-02, -2.5949e-02, -1.7855e-02,\n",
      "         4.2811e-02,  3.3628e-02, -3.6088e-02,  1.1084e-02, -5.9082e-02,\n",
      "         3.7521e-02,  2.5800e-02, -3.6635e-02,  1.5387e-02,  1.9556e-02,\n",
      "         1.6489e-02, -2.0016e-02, -1.7915e-02, -9.1042e-05,  2.0769e-02,\n",
      "        -5.6165e-03,  3.3893e-02, -1.8998e-02,  3.7054e-02, -1.1077e-02,\n",
      "        -3.8940e-03, -2.2002e-02, -2.4475e-02,  4.0278e-02, -1.7379e-02,\n",
      "         4.1664e-02,  3.6393e-02, -2.2094e-02, -6.0701e-03, -3.8919e-02,\n",
      "         9.1691e-04,  4.0448e-02, -6.1309e-02, -5.3813e-02,  2.7122e-02,\n",
      "         2.7638e-02,  2.0597e-02,  1.5817e-02, -2.0592e-02,  5.0246e-02,\n",
      "        -1.2357e-02, -1.9787e-02, -4.7111e-02, -5.4690e-03, -4.3459e-02,\n",
      "         1.7520e-02, -3.0266e-02, -5.9328e-02, -3.6723e-02, -1.8258e-02,\n",
      "         1.9112e-02, -1.6696e-02,  3.3419e-02,  1.9533e-03, -1.6981e-02,\n",
      "        -1.7633e-02,  4.3715e-03,  1.2212e-02, -1.0600e-02,  4.4888e-04,\n",
      "         1.6087e-02, -1.8560e-03,  6.8463e-03, -7.2413e-03,  1.5810e-02,\n",
      "        -2.5599e-02,  3.0382e-02,  1.4481e-02,  1.2070e-02, -1.8730e-02,\n",
      "        -4.0687e-02, -5.4301e-02,  3.3562e-02,  3.9402e-03, -3.4363e-02,\n",
      "        -2.6277e-02,  2.6184e-02, -7.9828e-03, -5.2113e-02, -4.6031e-03,\n",
      "        -2.7907e-02,  4.6807e-02,  2.0877e-03, -5.5494e-02, -2.9482e-03,\n",
      "         1.1091e-02, -2.2522e-03, -4.7954e-03,  5.1963e-02, -2.6309e-02,\n",
      "        -1.5137e-02,  9.2636e-03,  1.2672e-03,  1.5918e-02, -2.5662e-02,\n",
      "         3.5157e-02,  3.1652e-02,  2.3026e-02, -4.2482e-02,  3.8803e-02,\n",
      "        -2.3743e-03,  7.5214e-03, -2.8924e-02, -6.0627e-02,  3.5699e-04,\n",
      "        -5.2007e-02,  3.7919e-02, -1.4933e-02,  1.6870e-02, -1.5307e-02,\n",
      "        -3.7015e-02, -1.4044e-02,  5.7120e-03,  9.0923e-03, -4.0705e-03,\n",
      "        -5.3914e-03, -1.4584e-03,  5.5545e-02,  2.7726e-02, -1.6012e-02,\n",
      "        -1.6088e-02, -6.8828e-03,  5.2200e-02, -1.5047e-02, -3.2642e-02,\n",
      "        -2.3866e-02, -6.5832e-03, -1.0187e-02, -1.2718e-02, -8.0989e-04,\n",
      "        -2.1354e-02, -5.4739e-02, -4.1611e-02,  1.6752e-02, -5.4552e-02,\n",
      "        -2.0404e-02, -5.3564e-02,  5.2269e-03,  1.6369e-02, -4.7689e-02,\n",
      "        -4.3002e-02,  1.5796e-02, -2.2585e-02,  2.0166e-02,  1.1773e-02,\n",
      "        -6.4184e-02,  2.0668e-02, -1.5345e-03,  1.3959e-02,  2.4197e-03,\n",
      "         4.7050e-02, -1.3765e-02,  2.0244e-02,  2.1990e-03, -2.2724e-02],\n",
      "       requires_grad=True), Parameter containing:\n",
      "tensor([[ 0.0345, -0.0437, -0.0616, -0.0467,  0.0378, -0.0450, -0.0721,  0.0296,\n",
      "         -0.0550,  0.0159, -0.0610, -0.0481,  0.0102,  0.0434,  0.0492,  0.0225,\n",
      "         -0.0320,  0.0201, -0.0473, -0.0434, -0.0538, -0.0525, -0.0454, -0.0448,\n",
      "         -0.0443,  0.0137, -0.0473, -0.0687, -0.0418, -0.0007, -0.0499,  0.0466,\n",
      "         -0.0348,  0.0607,  0.0391,  0.0153, -0.0516, -0.0385, -0.0561, -0.0453,\n",
      "          0.0186,  0.0334,  0.0628,  0.0359,  0.0385,  0.0190,  0.0221, -0.0537,\n",
      "         -0.0536, -0.0427,  0.0565, -0.0537, -0.0490,  0.0617,  0.0183, -0.0596,\n",
      "         -0.0520,  0.0626, -0.0477, -0.0566,  0.0203,  0.0193,  0.0385,  0.0357,\n",
      "         -0.0693, -0.0529, -0.0441, -0.0524,  0.0277, -0.0473,  0.0180,  0.0441,\n",
      "         -0.0746,  0.0201, -0.0503,  0.0189,  0.0306, -0.0454, -0.0262,  0.0356,\n",
      "         -0.0710, -0.0525, -0.0661,  0.0279,  0.0564, -0.0404, -0.0466, -0.0450,\n",
      "          0.0200, -0.0393, -0.0527, -0.0401, -0.0450, -0.0615, -0.0477, -0.0528,\n",
      "          0.0646,  0.0567, -0.0277, -0.0431,  0.0382,  0.0145,  0.0433, -0.0468,\n",
      "          0.0509, -0.0467, -0.0464, -0.0446,  0.0467,  0.0260,  0.0373,  0.0395,\n",
      "         -0.0452, -0.0641,  0.0548, -0.0534, -0.0451,  0.0224,  0.0286,  0.0049,\n",
      "         -0.0401,  0.0282, -0.0467, -0.0481, -0.0644,  0.0376,  0.0715, -0.0523,\n",
      "         -0.0377, -0.0484,  0.0358,  0.0581,  0.0183,  0.0270,  0.0683, -0.0463,\n",
      "          0.0279, -0.0475,  0.0450,  0.0622,  0.0170,  0.0555, -0.0506, -0.0437,\n",
      "          0.0674, -0.0510,  0.0681,  0.0359, -0.0449,  0.0326, -0.0504,  0.0097,\n",
      "         -0.0594, -0.0465,  0.0068,  0.0123, -0.0597, -0.0445,  0.0680,  0.0271,\n",
      "          0.0554, -0.0656,  0.0584,  0.0204, -0.0460, -0.0456, -0.0552,  0.0654,\n",
      "         -0.0416,  0.0190,  0.0550,  0.0249, -0.0572,  0.0333,  0.0062, -0.0354,\n",
      "         -0.0465, -0.0698,  0.0419, -0.0475, -0.0437, -0.0445,  0.0540, -0.0554,\n",
      "         -0.0471, -0.0436, -0.0493,  0.0125, -0.0487, -0.0450, -0.0434, -0.0469,\n",
      "         -0.0749,  0.0641,  0.0568,  0.0161, -0.0445,  0.0511, -0.0497, -0.0492]],\n",
      "       requires_grad=True), Parameter containing:\n",
      "tensor([0.0467], requires_grad=True)]\n"
     ]
    }
   ],
   "source": [
    "print(list(net.parameters()))"
   ]
  },
  {
   "cell_type": "code",
   "execution_count": 10,
   "metadata": {},
   "outputs": [
    {
     "name": "stdout",
     "output_type": "stream",
     "text": [
      "[Parameter containing:\n",
      "tensor([[-0.5874,  0.5272, -0.4296],\n",
      "        [-0.0217, -0.2780,  0.4861],\n",
      "        [-0.0721,  0.5034, -0.3416],\n",
      "        ...,\n",
      "        [ 0.1354,  0.3344, -0.1488],\n",
      "        [-0.5607, -0.5604, -0.7513],\n",
      "        [ 0.1590,  0.5065, -0.1858]], requires_grad=True), Parameter containing:\n",
      "tensor([-3.5765e-01, -4.9754e-01,  5.0419e-01, -5.0240e-01, -3.4886e-01,\n",
      "        -1.0604e-02,  2.7707e-01,  5.8201e-02, -3.3711e-01,  5.1167e-01,\n",
      "         4.8763e-01, -5.3461e-01,  4.4090e-01,  2.5003e-01, -8.6046e-02,\n",
      "         1.6579e-01, -5.1556e-01, -6.7001e-02, -3.8594e-01, -2.4223e-01,\n",
      "        -6.8862e-01,  1.6325e-01, -5.6939e-02, -8.6556e-02, -9.0481e-02,\n",
      "        -4.8587e-02,  1.7100e-01, -3.8399e-01,  2.0883e-01, -4.9076e-01,\n",
      "         2.4381e-01, -5.7831e-01,  4.3689e-01, -3.1459e-01,  3.6366e-01,\n",
      "        -3.8810e-01, -4.7556e-01, -3.0733e-01,  5.5272e-01,  2.2170e-01,\n",
      "         3.9570e-01,  2.2226e-01, -3.4000e-01,  2.8809e-01,  9.1295e-02,\n",
      "        -3.9281e-01,  3.2779e-01, -5.4391e-01, -4.8373e-01, -4.9336e-02,\n",
      "         1.3746e-01,  1.7562e-01,  3.4600e-01,  4.4402e-01, -1.0476e-01,\n",
      "        -4.5480e-01, -2.8738e-01,  4.4216e-01,  1.1669e-02,  2.7836e-01,\n",
      "         4.7701e-01, -5.6781e-02, -1.3931e-01, -3.6588e-01,  3.1210e-01,\n",
      "         1.1364e-03, -2.8756e-01, -5.9571e-01, -5.5963e-01,  4.8008e-01,\n",
      "         1.4102e-01, -2.3976e-01, -5.4428e-01,  5.0740e-02, -3.9656e-01,\n",
      "         3.5492e-01,  1.1370e-01,  3.4458e-01,  2.5709e-01, -5.1090e-01,\n",
      "         2.0262e-02, -7.8742e-02, -2.5265e-01,  6.0056e-02,  1.6768e-01,\n",
      "        -4.7233e-01,  2.1535e-01, -1.9220e-02,  9.1226e-02, -5.3460e-02,\n",
      "         2.2453e-01, -1.0618e-01,  6.9720e-02,  2.0486e-02,  9.0024e-02,\n",
      "         1.2654e-01, -5.2113e-01, -4.0468e-01, -1.1582e-01,  2.5748e-01,\n",
      "         1.2122e-01,  5.2496e-01,  1.8727e-01,  6.4212e-02, -2.0914e-01,\n",
      "         2.6147e-02, -1.6864e-01,  5.7427e-02, -3.1173e-01, -2.7354e-01,\n",
      "         4.2474e-02, -2.1646e-01, -5.6240e-01,  2.3539e-03, -2.3096e-01,\n",
      "        -3.0029e-01, -1.6137e-01,  4.1702e-02,  5.3502e-01, -4.1169e-01,\n",
      "        -2.0610e-01, -2.9269e-01,  4.5174e-01,  3.6434e-01, -1.8464e-02,\n",
      "        -2.1048e-01,  2.8609e-01, -3.8765e-01, -3.0433e-01,  7.2833e-02,\n",
      "        -4.7823e-01, -3.5320e-01,  3.1326e-02,  1.3024e-01,  2.4920e-01,\n",
      "        -5.8005e-01, -6.4056e-02, -4.5312e-01,  9.5670e-02,  3.7667e-01,\n",
      "        -2.1507e-01,  4.6082e-01,  5.8043e-02, -4.4168e-01, -2.7432e-01,\n",
      "         1.3907e-01, -5.6278e-01, -4.3534e-01, -7.9175e-03,  3.8652e-01,\n",
      "        -5.6069e-01, -4.7895e-01,  1.2468e-01,  7.3169e-03,  2.6276e-01,\n",
      "         1.9846e-01,  4.6931e-01,  4.5460e-01, -1.9772e-02, -4.0931e-01,\n",
      "         1.8950e-01,  3.0804e-01, -1.1806e-01, -1.7654e-01, -1.9826e-01,\n",
      "         3.3568e-01,  4.5783e-01, -1.2565e-01,  3.7443e-01, -2.0032e-01,\n",
      "        -2.4693e-01,  2.9053e-01, -5.3396e-02, -3.4021e-01,  4.7419e-01,\n",
      "        -1.0290e-01, -1.7288e-01, -2.0752e-01,  2.4830e-01, -3.0113e-01,\n",
      "        -3.9820e-01, -3.6946e-01,  4.8082e-01,  2.2462e-01, -3.4155e-01,\n",
      "         4.9256e-01,  5.6234e-02, -7.2009e-02,  4.3227e-01,  1.6759e-02,\n",
      "        -4.3071e-01, -6.0657e-01, -1.3117e-01, -2.2187e-01,  1.5129e-01,\n",
      "         9.4250e-02, -1.4318e-02,  1.6876e-01,  2.1199e-02,  2.5081e-01,\n",
      "        -4.6875e-01, -3.0567e-01,  4.6112e-01, -4.7915e-01,  4.9294e-01,\n",
      "        -5.9490e-01,  4.5015e-01, -6.2009e-01,  1.7105e-01,  4.2724e-03,\n",
      "         4.1033e-01,  3.5197e-01,  1.8518e-01,  1.8419e-01, -6.5409e-02,\n",
      "        -3.7113e-01,  2.3380e-01, -2.8770e-01, -1.1914e-01,  3.8630e-01,\n",
      "        -2.2620e-01,  2.3961e-01, -2.2827e-01, -5.3908e-01, -5.0977e-01,\n",
      "        -3.0466e-01, -6.2420e-01, -5.1653e-01,  4.1603e-01, -8.6124e-02,\n",
      "         2.6298e-01,  3.8665e-01,  3.0790e-01,  2.7882e-01, -8.0338e-02,\n",
      "        -5.4653e-01,  4.6451e-01, -5.9236e-01, -1.2914e-01,  6.6301e-02,\n",
      "         1.1689e-02, -1.4437e-01,  1.1376e-01,  4.6549e-01,  3.3611e-02,\n",
      "        -5.2579e-01, -2.5022e-01,  1.3772e-01,  9.2695e-02,  2.8767e-01,\n",
      "        -4.9412e-02, -2.0428e-01, -3.5294e-01, -3.7860e-01,  4.4883e-01,\n",
      "        -4.1762e-01,  3.1631e-01, -5.0509e-01,  4.6980e-01,  4.8974e-01,\n",
      "         1.9111e-01,  1.0078e-01, -3.7039e-01,  1.1558e-01,  4.5424e-01,\n",
      "         3.3748e-01, -5.2045e-01,  5.0023e-01,  4.3138e-01,  2.4188e-01,\n",
      "        -2.9182e-01,  1.9195e-03, -4.8811e-01,  2.7681e-01,  6.3695e-03,\n",
      "         3.9998e-02,  4.7262e-01,  2.9294e-02, -3.1892e-01, -3.4340e-01,\n",
      "        -2.5010e-01,  4.8502e-01, -3.1917e-01,  4.1615e-01, -6.3357e-01,\n",
      "        -3.3584e-01,  4.1038e-01, -2.5821e-01,  9.8925e-02,  1.5980e-01,\n",
      "         1.1818e-01,  4.6796e-01, -7.2159e-01, -3.7889e-01, -2.2109e-01,\n",
      "        -4.9665e-01, -4.3673e-01,  1.1300e-01, -1.6363e-01,  3.3928e-01,\n",
      "        -4.7637e-01, -3.5921e-02,  9.4911e-02, -5.0983e-01, -2.2344e-01,\n",
      "        -5.8680e-01, -1.6259e-01,  3.1692e-01, -5.3328e-01,  5.1096e-01,\n",
      "         7.3255e-02, -2.9979e-01, -3.5087e-01, -9.4125e-02, -5.4515e-01,\n",
      "        -3.9649e-02,  4.2263e-01,  2.5618e-01,  4.9567e-01,  3.4928e-01,\n",
      "         4.7350e-01,  1.2879e-01, -9.3735e-02,  1.4198e-01, -1.5802e-01,\n",
      "        -2.7877e-01, -4.0014e-02,  4.8872e-01, -8.3505e-02, -3.6217e-01,\n",
      "        -4.4627e-01, -2.8568e-01,  2.6919e-01, -1.8534e-01,  4.6811e-01,\n",
      "        -3.4349e-01, -5.8198e-01, -3.6473e-01,  3.9525e-01,  2.3600e-01,\n",
      "         1.7448e-01,  1.2593e-01,  3.0073e-01,  3.8436e-01, -3.5417e-01,\n",
      "         3.8780e-01,  3.1356e-01, -4.7576e-01,  3.5105e-01, -1.9661e-01,\n",
      "         4.8112e-01,  1.7945e-01, -1.3071e-01, -2.0342e-01, -4.3069e-03,\n",
      "         5.4810e-01,  2.9944e-01,  1.1867e-01, -2.7484e-01,  4.2177e-01,\n",
      "        -5.5688e-01,  3.4575e-01, -1.9192e-01, -5.4643e-01,  4.1435e-01,\n",
      "         1.7647e-01, -2.6506e-01,  4.3665e-01, -1.8586e-01, -4.0786e-01,\n",
      "        -4.8339e-01,  1.3005e-01, -5.9115e-01,  2.2583e-01, -5.0722e-01,\n",
      "         3.3273e-01, -1.7505e-01, -2.5151e-01, -4.8350e-01, -4.8771e-01,\n",
      "         3.2863e-01, -2.4491e-01,  1.6369e-01,  2.6892e-01, -2.7144e-01,\n",
      "        -4.8680e-01, -3.6457e-01, -5.1660e-01, -2.9295e-01,  1.8591e-01,\n",
      "         3.8940e-01,  2.0407e-01, -1.1748e-01, -1.8499e-01,  1.5518e-01,\n",
      "         4.2869e-01, -2.4377e-01, -2.1493e-01, -1.3744e-01, -1.3315e-03,\n",
      "         3.9259e-01, -2.6100e-01,  1.1463e-01, -2.2537e-01,  5.2040e-01,\n",
      "        -4.3568e-01, -1.5108e-01, -5.0008e-02, -3.2352e-01, -5.0832e-01,\n",
      "         1.1798e-01,  3.0216e-01,  5.5704e-01,  1.0606e-01,  1.6792e-01,\n",
      "         7.4085e-02,  3.1671e-01, -8.3228e-02, -6.5472e-02,  1.2052e-01,\n",
      "        -1.1418e-01, -2.1084e-01,  4.9251e-01, -5.2188e-01, -3.6991e-01,\n",
      "         1.5089e-02, -2.2063e-01,  3.2996e-01, -3.4673e-01, -4.8356e-01,\n",
      "        -2.0225e-01,  7.8298e-02,  8.8461e-02, -8.5331e-02, -2.2259e-01,\n",
      "        -5.6981e-01,  4.5286e-01, -2.3153e-01,  5.0299e-01, -1.7201e-01,\n",
      "        -4.9694e-01, -6.2007e-02, -5.6560e-01,  4.0186e-01, -1.6372e-01,\n",
      "         4.6287e-01, -6.6629e-01,  2.0321e-01, -3.8244e-01,  3.8298e-02,\n",
      "        -4.2484e-02, -4.0739e-01, -5.7717e-02, -5.3526e-01, -3.6787e-01,\n",
      "        -1.6835e-01, -4.0818e-01,  4.1574e-01, -2.7818e-01,  3.7561e-01,\n",
      "        -2.5589e-02, -3.8040e-01, -1.5923e-01,  3.0155e-01,  1.5672e-01,\n",
      "        -3.7185e-01,  2.7490e-01, -4.9981e-01, -5.0073e-01, -5.0758e-01,\n",
      "        -2.9869e-04, -6.4194e-02, -6.7475e-02, -5.9482e-01,  4.8303e-02,\n",
      "         4.2975e-01, -4.0447e-01, -4.1294e-01,  1.7840e-01,  2.7125e-01,\n",
      "        -6.3801e-01, -6.0144e-01, -1.7901e-01,  2.2423e-01,  3.7452e-01,\n",
      "        -4.0569e-01,  2.8934e-02, -2.1305e-01,  4.3435e-01, -1.2523e-01,\n",
      "        -6.1472e-01, -2.2509e-01,  3.0213e-01, -5.0185e-01, -3.0434e-01,\n",
      "        -1.6663e-01, -4.2679e-01,  3.4262e-02,  1.8910e-01,  5.2910e-01,\n",
      "        -5.9132e-01,  3.6489e-01,  2.4290e-01,  5.0570e-01,  1.2595e-01,\n",
      "        -4.0170e-01,  3.3356e-01, -1.3067e-01,  4.7014e-01, -4.1230e-01,\n",
      "         8.3469e-02, -3.3928e-01,  1.9401e-01, -1.7839e-01,  3.8013e-01,\n",
      "        -8.9708e-02, -3.3672e-01,  1.7602e-01,  2.8533e-01,  5.4671e-02,\n",
      "        -6.5910e-02,  3.3866e-01, -4.3357e-01, -4.7447e-01, -4.1045e-01,\n",
      "        -7.3029e-02, -2.8945e-01, -2.2923e-01,  2.1411e-01, -4.2006e-01,\n",
      "         3.5521e-01, -3.2650e-01,  4.5044e-01,  8.4072e-02,  5.0575e-01,\n",
      "        -3.0113e-01, -5.4394e-01, -4.6510e-01, -5.5727e-01, -2.6286e-01,\n",
      "        -3.0756e-01, -5.9800e-01,  5.5119e-01, -3.5154e-01,  1.4879e-01,\n",
      "        -1.1587e-01,  4.4620e-01,  5.5918e-01, -9.2280e-02,  1.9848e-01,\n",
      "        -4.9693e-01, -1.4112e-01, -5.3388e-01,  5.1160e-01,  3.6383e-01,\n",
      "         1.9567e-02, -1.4043e-01, -3.5652e-01, -5.2501e-01,  1.4246e-01,\n",
      "        -1.8752e-01,  2.1660e-01, -2.3885e-02, -4.0768e-01,  1.9854e-01,\n",
      "         3.6398e-01, -5.1601e-01,  3.6701e-01, -1.6801e-02, -4.2301e-02,\n",
      "        -4.6812e-02,  2.7047e-01, -5.4933e-01, -2.3813e-01, -4.3753e-01,\n",
      "         4.4183e-01, -5.0213e-01, -9.5262e-02, -7.5867e-02, -2.0008e-01,\n",
      "         2.4666e-01,  2.1999e-01,  2.7011e-01,  2.3322e-01, -2.1198e-01,\n",
      "        -1.5596e-01,  3.3340e-02, -2.1086e-01,  3.8554e-01, -6.5995e-01,\n",
      "        -2.8276e-01, -6.0874e-01, -5.1086e-01,  2.4597e-01, -5.1436e-01,\n",
      "        -4.4563e-01,  1.5365e-01,  3.7163e-02, -2.7996e-01, -6.1370e-01],\n",
      "       requires_grad=True), Parameter containing:\n",
      "tensor([[-0.1123,  0.0564, -0.0153,  ...,  0.0391,  0.0359,  0.0172],\n",
      "        [ 0.0039, -0.0347, -0.0237,  ..., -0.0335, -0.0794, -0.0533],\n",
      "        [ 0.0669, -0.0104, -0.0123,  ..., -0.0142, -0.0326, -0.0792],\n",
      "        ...,\n",
      "        [-0.0633,  0.0338,  0.0005,  ...,  0.0140,  0.0246,  0.0199],\n",
      "        [ 0.0818, -0.0676, -0.0203,  ...,  0.0069, -0.0656, -0.0271],\n",
      "        [ 0.0156, -0.0194, -0.0290,  ..., -0.0006, -0.0416, -0.0646]],\n",
      "       requires_grad=True), Parameter containing:\n",
      "tensor([ 1.5467e-02, -1.3799e-03, -6.0127e-02, -2.0129e-02,  1.8436e-02,\n",
      "        -4.3558e-02, -2.5912e-02,  3.4605e-02, -2.4537e-02,  3.9178e-02,\n",
      "        -5.5148e-02,  1.0850e-02,  2.5574e-02, -3.1568e-02, -2.4932e-02,\n",
      "        -5.7351e-03, -5.1178e-02,  4.0570e-02, -2.0752e-03,  1.1272e-03,\n",
      "        -2.1758e-02, -5.4999e-02, -4.2151e-02,  1.6832e-03, -4.8947e-03,\n",
      "         4.5538e-02, -2.4216e-02,  2.3383e-02, -4.7145e-02, -3.5115e-02,\n",
      "         1.1871e-02,  1.2214e-02, -5.4390e-02, -2.5422e-02,  2.5487e-02,\n",
      "        -1.9220e-02,  2.9848e-03, -5.4348e-02,  1.6566e-02,  7.6784e-03,\n",
      "         3.8466e-02, -9.6335e-03, -1.5149e-02, -2.5949e-02, -1.7855e-02,\n",
      "         4.2811e-02,  3.3628e-02, -3.6088e-02,  1.1084e-02, -5.9082e-02,\n",
      "         3.7521e-02,  2.5800e-02, -3.6635e-02,  1.5387e-02,  1.9556e-02,\n",
      "         1.6489e-02, -2.0016e-02, -1.7915e-02, -9.1042e-05,  2.0769e-02,\n",
      "        -5.6165e-03,  3.3893e-02, -1.8998e-02,  3.7054e-02, -1.1077e-02,\n",
      "        -3.8940e-03, -2.2002e-02, -2.4475e-02,  4.0278e-02, -1.7379e-02,\n",
      "         4.1664e-02,  3.6393e-02, -2.2094e-02, -6.0701e-03, -3.8919e-02,\n",
      "         9.1691e-04,  4.0448e-02, -6.1309e-02, -5.3813e-02,  2.7122e-02,\n",
      "         2.7638e-02,  2.0597e-02,  1.5817e-02, -2.0592e-02,  5.0246e-02,\n",
      "        -1.2357e-02, -1.9787e-02, -4.7111e-02, -5.4690e-03, -4.3459e-02,\n",
      "         1.7520e-02, -3.0266e-02, -5.9328e-02, -3.6723e-02, -1.8258e-02,\n",
      "         1.9112e-02, -1.6696e-02,  3.3419e-02,  1.9533e-03, -1.6981e-02,\n",
      "        -1.7633e-02,  4.3715e-03,  1.2212e-02, -1.0600e-02,  4.4888e-04,\n",
      "         1.6087e-02, -1.8560e-03,  6.8463e-03, -7.2413e-03,  1.5810e-02,\n",
      "        -2.5599e-02,  3.0382e-02,  1.4481e-02,  1.2070e-02, -1.8730e-02,\n",
      "        -4.0687e-02, -5.4301e-02,  3.3562e-02,  3.9402e-03, -3.4363e-02,\n",
      "        -2.6277e-02,  2.6184e-02, -7.9828e-03, -5.2113e-02, -4.6031e-03,\n",
      "        -2.7907e-02,  4.6807e-02,  2.0877e-03, -5.5494e-02, -2.9482e-03,\n",
      "         1.1091e-02, -2.2522e-03, -4.7954e-03,  5.1963e-02, -2.6309e-02,\n",
      "        -1.5137e-02,  9.2636e-03,  1.2672e-03,  1.5918e-02, -2.5662e-02,\n",
      "         3.5157e-02,  3.1652e-02,  2.3026e-02, -4.2482e-02,  3.8803e-02,\n",
      "        -2.3743e-03,  7.5214e-03, -2.8924e-02, -6.0627e-02,  3.5699e-04,\n",
      "        -5.2007e-02,  3.7919e-02, -1.4933e-02,  1.6870e-02, -1.5307e-02,\n",
      "        -3.7015e-02, -1.4044e-02,  5.7120e-03,  9.0923e-03, -4.0705e-03,\n",
      "        -5.3914e-03, -1.4584e-03,  5.5545e-02,  2.7726e-02, -1.6012e-02,\n",
      "        -1.6088e-02, -6.8828e-03,  5.2200e-02, -1.5047e-02, -3.2642e-02,\n",
      "        -2.3866e-02, -6.5832e-03, -1.0187e-02, -1.2718e-02, -8.0989e-04,\n",
      "        -2.1354e-02, -5.4739e-02, -4.1611e-02,  1.6752e-02, -5.4552e-02,\n",
      "        -2.0404e-02, -5.3564e-02,  5.2269e-03,  1.6369e-02, -4.7689e-02,\n",
      "        -4.3002e-02,  1.5796e-02, -2.2585e-02,  2.0166e-02,  1.1773e-02,\n",
      "        -6.4184e-02,  2.0668e-02, -1.5345e-03,  1.3959e-02,  2.4197e-03,\n",
      "         4.7050e-02, -1.3765e-02,  2.0244e-02,  2.1990e-03, -2.2724e-02],\n",
      "       requires_grad=True), Parameter containing:\n",
      "tensor([[ 0.0345, -0.0437, -0.0616, -0.0467,  0.0378, -0.0450, -0.0721,  0.0296,\n",
      "         -0.0550,  0.0159, -0.0610, -0.0481,  0.0102,  0.0434,  0.0492,  0.0225,\n",
      "         -0.0320,  0.0201, -0.0473, -0.0434, -0.0538, -0.0525, -0.0454, -0.0448,\n",
      "         -0.0443,  0.0137, -0.0473, -0.0687, -0.0418, -0.0007, -0.0499,  0.0466,\n",
      "         -0.0348,  0.0607,  0.0391,  0.0153, -0.0516, -0.0385, -0.0561, -0.0453,\n",
      "          0.0186,  0.0334,  0.0628,  0.0359,  0.0385,  0.0190,  0.0221, -0.0537,\n",
      "         -0.0536, -0.0427,  0.0565, -0.0537, -0.0490,  0.0617,  0.0183, -0.0596,\n",
      "         -0.0520,  0.0626, -0.0477, -0.0566,  0.0203,  0.0193,  0.0385,  0.0357,\n",
      "         -0.0693, -0.0529, -0.0441, -0.0524,  0.0277, -0.0473,  0.0180,  0.0441,\n",
      "         -0.0746,  0.0201, -0.0503,  0.0189,  0.0306, -0.0454, -0.0262,  0.0356,\n",
      "         -0.0710, -0.0525, -0.0661,  0.0279,  0.0564, -0.0404, -0.0466, -0.0450,\n",
      "          0.0200, -0.0393, -0.0527, -0.0401, -0.0450, -0.0615, -0.0477, -0.0528,\n",
      "          0.0646,  0.0567, -0.0277, -0.0431,  0.0382,  0.0145,  0.0433, -0.0468,\n",
      "          0.0509, -0.0467, -0.0464, -0.0446,  0.0467,  0.0260,  0.0373,  0.0395,\n",
      "         -0.0452, -0.0641,  0.0548, -0.0534, -0.0451,  0.0224,  0.0286,  0.0049,\n",
      "         -0.0401,  0.0282, -0.0467, -0.0481, -0.0644,  0.0376,  0.0715, -0.0523,\n",
      "         -0.0377, -0.0484,  0.0358,  0.0581,  0.0183,  0.0270,  0.0683, -0.0463,\n",
      "          0.0279, -0.0475,  0.0450,  0.0622,  0.0170,  0.0555, -0.0506, -0.0437,\n",
      "          0.0674, -0.0510,  0.0681,  0.0359, -0.0449,  0.0326, -0.0504,  0.0097,\n",
      "         -0.0594, -0.0465,  0.0068,  0.0123, -0.0597, -0.0445,  0.0680,  0.0271,\n",
      "          0.0554, -0.0656,  0.0584,  0.0204, -0.0460, -0.0456, -0.0552,  0.0654,\n",
      "         -0.0416,  0.0190,  0.0550,  0.0249, -0.0572,  0.0333,  0.0062, -0.0354,\n",
      "         -0.0465, -0.0698,  0.0419, -0.0475, -0.0437, -0.0445,  0.0540, -0.0554,\n",
      "         -0.0471, -0.0436, -0.0493,  0.0125, -0.0487, -0.0450, -0.0434, -0.0469,\n",
      "         -0.0749,  0.0641,  0.0568,  0.0161, -0.0445,  0.0511, -0.0497, -0.0492]],\n",
      "       requires_grad=True), Parameter containing:\n",
      "tensor([0.0467], requires_grad=True)]\n"
     ]
    }
   ],
   "source": [
    "print(list(net_loaded.parameters()))"
   ]
  },
  {
   "cell_type": "code",
   "execution_count": null,
   "metadata": {},
   "outputs": [],
   "source": [
    "# Set the network to evaluation mode\n",
    "net.eval()"
   ]
  },
  {
   "cell_type": "code",
   "execution_count": 20,
   "metadata": {},
   "outputs": [
    {
     "data": {
      "text/plain": [
       "tensor([[ 4.9706,  0.3188,  8.5965],\n",
       "        [ 7.9518,  5.3166,  4.3170],\n",
       "        [ 5.8308, 14.7490, 14.6609],\n",
       "        [ 4.6200,  0.0829,  2.7031],\n",
       "        [ 1.5898,  3.1772,  3.5144],\n",
       "        [ 0.1266,  0.1761,  0.1656],\n",
       "        [ 8.0950, 10.3077, 15.3977],\n",
       "        [ 4.2992,  8.2627,  6.6898],\n",
       "        [11.2275, 10.1282,  7.7118],\n",
       "        [ 2.2244,  0.0301,  3.4477],\n",
       "        [ 3.6509,  2.7749,  2.8721],\n",
       "        [ 6.7411, 18.4558, 17.8222],\n",
       "        [ 9.5191, 24.9498, 24.5091],\n",
       "        [ 5.3015,  4.9007,  3.7724],\n",
       "        [ 1.4423,  1.3792,  1.0336],\n",
       "        [ 3.4728,  2.6612,  2.0619],\n",
       "        [ 5.1982,  1.5509,  1.6710],\n",
       "        [ 7.4406,  7.4610,  7.5647],\n",
       "        [ 8.8908,  5.3629,  1.9034],\n",
       "        [ 1.3611,  0.4911,  0.3751]])"
      ]
     },
     "execution_count": 20,
     "metadata": {},
     "output_type": "execute_result"
    }
   ],
   "source": [
    "# Create arbitrary input\n",
    "inputs =  generate_input_data(20)\n",
    "inputs"
   ]
  },
  {
   "cell_type": "code",
   "execution_count": 23,
   "metadata": {},
   "outputs": [
    {
     "data": {
      "text/plain": [
       "[tensor([3.3479], grad_fn=<ReluBackward0>),\n",
       " tensor([3.3522], grad_fn=<ReluBackward0>),\n",
       " tensor([3.3520], grad_fn=<ReluBackward0>),\n",
       " tensor([3.3556], grad_fn=<ReluBackward0>),\n",
       " tensor([3.3552], grad_fn=<ReluBackward0>),\n",
       " tensor([3.3480], grad_fn=<ReluBackward0>),\n",
       " tensor([3.3549], grad_fn=<ReluBackward0>),\n",
       " tensor([3.3547], grad_fn=<ReluBackward0>),\n",
       " tensor([3.3330], grad_fn=<ReluBackward0>),\n",
       " tensor([3.3561], grad_fn=<ReluBackward0>),\n",
       " tensor([3.3564], grad_fn=<ReluBackward0>),\n",
       " tensor([3.3471], grad_fn=<ReluBackward0>),\n",
       " tensor([3.3508], grad_fn=<ReluBackward0>),\n",
       " tensor([3.3485], grad_fn=<ReluBackward0>),\n",
       " tensor([3.2875], grad_fn=<ReluBackward0>),\n",
       " tensor([3.3565], grad_fn=<ReluBackward0>),\n",
       " tensor([3.3523], grad_fn=<ReluBackward0>),\n",
       " tensor([3.2854], grad_fn=<ReluBackward0>),\n",
       " tensor([3.3557], grad_fn=<ReluBackward0>),\n",
       " tensor([3.3520], grad_fn=<ReluBackward0>)]"
      ]
     },
     "execution_count": 23,
     "metadata": {},
     "output_type": "execute_result"
    }
   ],
   "source": [
    "# Pass the inputs to the network and get the outputs\n",
    "outputs = [net(input) for input in inputs]\n",
    "# Print the outputs\n",
    "outputs"
   ]
  },
  {
   "cell_type": "code",
   "execution_count": 24,
   "metadata": {},
   "outputs": [
    {
     "data": {
      "text/plain": [
       "Net(\n",
       "  (hidden_activation): Sigmoid()\n",
       "  (output_activation): ReLU()\n",
       "  (layers): ModuleList(\n",
       "    (0): Linear(in_features=3, out_features=600, bias=True)\n",
       "    (1): Linear(in_features=600, out_features=200, bias=True)\n",
       "    (2): Linear(in_features=200, out_features=1, bias=True)\n",
       "  )\n",
       ")"
      ]
     },
     "execution_count": 24,
     "metadata": {},
     "output_type": "execute_result"
    },
    {
     "data": {
      "text/plain": [
       "[tensor([3.3479], grad_fn=<ReluBackward0>),\n",
       " tensor([3.3522], grad_fn=<ReluBackward0>),\n",
       " tensor([3.3520], grad_fn=<ReluBackward0>),\n",
       " tensor([3.3556], grad_fn=<ReluBackward0>),\n",
       " tensor([3.3552], grad_fn=<ReluBackward0>),\n",
       " tensor([3.3480], grad_fn=<ReluBackward0>),\n",
       " tensor([3.3549], grad_fn=<ReluBackward0>),\n",
       " tensor([3.3547], grad_fn=<ReluBackward0>),\n",
       " tensor([3.3330], grad_fn=<ReluBackward0>),\n",
       " tensor([3.3561], grad_fn=<ReluBackward0>),\n",
       " tensor([3.3564], grad_fn=<ReluBackward0>),\n",
       " tensor([3.3471], grad_fn=<ReluBackward0>),\n",
       " tensor([3.3508], grad_fn=<ReluBackward0>),\n",
       " tensor([3.3485], grad_fn=<ReluBackward0>),\n",
       " tensor([3.2875], grad_fn=<ReluBackward0>),\n",
       " tensor([3.3565], grad_fn=<ReluBackward0>),\n",
       " tensor([3.3523], grad_fn=<ReluBackward0>),\n",
       " tensor([3.2854], grad_fn=<ReluBackward0>),\n",
       " tensor([3.3557], grad_fn=<ReluBackward0>),\n",
       " tensor([3.3520], grad_fn=<ReluBackward0>)]"
      ]
     },
     "execution_count": 24,
     "metadata": {},
     "output_type": "execute_result"
    }
   ],
   "source": [
    "# Set the network to evaluation mode\n",
    "net_loaded.eval()\n",
    "# Pass the inputs to the network and get the outputs\n",
    "outputs = [net_loaded(input) for input in inputs]\n",
    "# Print the outputs\n",
    "outputs"
   ]
  },
  {
   "attachments": {},
   "cell_type": "markdown",
   "metadata": {},
   "source": [
    "## Porting the model to C++"
   ]
  },
  {
   "cell_type": "code",
   "execution_count": 30,
   "metadata": {},
   "outputs": [
    {
     "ename": "RuntimeError",
     "evalue": "Can't redefine method: forward on class: __torch__.Net (of Python compilation unit at: 0000026B1D40DDD0)",
     "output_type": "error",
     "traceback": [
      "\u001b[1;31m---------------------------------------------------------------------------\u001b[0m",
      "\u001b[1;31mRuntimeError\u001b[0m                              Traceback (most recent call last)",
      "Cell \u001b[1;32mIn[30], line 2\u001b[0m\n\u001b[0;32m      1\u001b[0m \u001b[39m# Scripting the network using torch.jit.script\u001b[39;00m\n\u001b[1;32m----> 2\u001b[0m net_scripted \u001b[39m=\u001b[39m torch\u001b[39m.\u001b[39;49mjit\u001b[39m.\u001b[39;49mscript(net_loaded)\n\u001b[0;32m      4\u001b[0m \u001b[39m# Saving the scripted module to a file using the save method\u001b[39;00m\n\u001b[0;32m      5\u001b[0m net_scripted\u001b[39m.\u001b[39msave(\u001b[39m'\u001b[39m\u001b[39mnet_scripted.pt\u001b[39m\u001b[39m'\u001b[39m)\n",
      "File \u001b[1;32mc:\\Users\\bvptr\\anaconda3\\envs\\bsc\\Lib\\site-packages\\torch\\jit\\_script.py:1284\u001b[0m, in \u001b[0;36mscript\u001b[1;34m(obj, optimize, _frames_up, _rcb, example_inputs)\u001b[0m\n\u001b[0;32m   1282\u001b[0m \u001b[39mif\u001b[39;00m \u001b[39misinstance\u001b[39m(obj, torch\u001b[39m.\u001b[39mnn\u001b[39m.\u001b[39mModule):\n\u001b[0;32m   1283\u001b[0m     obj \u001b[39m=\u001b[39m call_prepare_scriptable_func(obj)\n\u001b[1;32m-> 1284\u001b[0m     \u001b[39mreturn\u001b[39;00m torch\u001b[39m.\u001b[39;49mjit\u001b[39m.\u001b[39;49m_recursive\u001b[39m.\u001b[39;49mcreate_script_module(\n\u001b[0;32m   1285\u001b[0m         obj, torch\u001b[39m.\u001b[39;49mjit\u001b[39m.\u001b[39;49m_recursive\u001b[39m.\u001b[39;49minfer_methods_to_compile\n\u001b[0;32m   1286\u001b[0m     )\n\u001b[0;32m   1288\u001b[0m \u001b[39mif\u001b[39;00m \u001b[39misinstance\u001b[39m(obj, \u001b[39mdict\u001b[39m):\n\u001b[0;32m   1289\u001b[0m     \u001b[39mreturn\u001b[39;00m create_script_dict(obj)\n",
      "File \u001b[1;32mc:\\Users\\bvptr\\anaconda3\\envs\\bsc\\Lib\\site-packages\\torch\\jit\\_recursive.py:480\u001b[0m, in \u001b[0;36mcreate_script_module\u001b[1;34m(nn_module, stubs_fn, share_types, is_tracing)\u001b[0m\n\u001b[0;32m    478\u001b[0m \u001b[39mif\u001b[39;00m \u001b[39mnot\u001b[39;00m is_tracing:\n\u001b[0;32m    479\u001b[0m     AttributeTypeIsSupportedChecker()\u001b[39m.\u001b[39mcheck(nn_module)\n\u001b[1;32m--> 480\u001b[0m \u001b[39mreturn\u001b[39;00m create_script_module_impl(nn_module, concrete_type, stubs_fn)\n",
      "File \u001b[1;32mc:\\Users\\bvptr\\anaconda3\\envs\\bsc\\Lib\\site-packages\\torch\\jit\\_recursive.py:546\u001b[0m, in \u001b[0;36mcreate_script_module_impl\u001b[1;34m(nn_module, concrete_type, stubs_fn)\u001b[0m\n\u001b[0;32m    544\u001b[0m \u001b[39m# Compile methods if necessary\u001b[39;00m\n\u001b[0;32m    545\u001b[0m \u001b[39mif\u001b[39;00m concrete_type \u001b[39mnot\u001b[39;00m \u001b[39min\u001b[39;00m concrete_type_store\u001b[39m.\u001b[39mmethods_compiled:\n\u001b[1;32m--> 546\u001b[0m     create_methods_and_properties_from_stubs(concrete_type, method_stubs, property_stubs)\n\u001b[0;32m    547\u001b[0m     \u001b[39m# Create hooks after methods to ensure no name collisions between hooks and methods.\u001b[39;00m\n\u001b[0;32m    548\u001b[0m     \u001b[39m# If done before, hooks can overshadow methods that aren't exported.\u001b[39;00m\n\u001b[0;32m    549\u001b[0m     create_hooks_from_stubs(concrete_type, hook_stubs, pre_hook_stubs)\n",
      "File \u001b[1;32mc:\\Users\\bvptr\\anaconda3\\envs\\bsc\\Lib\\site-packages\\torch\\jit\\_recursive.py:397\u001b[0m, in \u001b[0;36mcreate_methods_and_properties_from_stubs\u001b[1;34m(concrete_type, method_stubs, property_stubs)\u001b[0m\n\u001b[0;32m    394\u001b[0m property_defs \u001b[39m=\u001b[39m [p\u001b[39m.\u001b[39mdef_ \u001b[39mfor\u001b[39;00m p \u001b[39min\u001b[39;00m property_stubs]\n\u001b[0;32m    395\u001b[0m property_rcbs \u001b[39m=\u001b[39m [p\u001b[39m.\u001b[39mresolution_callback \u001b[39mfor\u001b[39;00m p \u001b[39min\u001b[39;00m property_stubs]\n\u001b[1;32m--> 397\u001b[0m concrete_type\u001b[39m.\u001b[39;49m_create_methods_and_properties(property_defs, property_rcbs, method_defs, method_rcbs, method_defaults)\n",
      "\u001b[1;31mRuntimeError\u001b[0m: Can't redefine method: forward on class: __torch__.Net (of Python compilation unit at: 0000026B1D40DDD0)"
     ]
    }
   ],
   "source": [
    "# Scripting the network using torch.jit.script\n",
    "net_scripted = torch.jit.script(net_loaded)\n",
    "\n",
    "# Saving the scripted module to a file using the save method\n",
    "net_scripted.save('net_scripted.pt')"
   ]
  }
 ],
 "metadata": {
  "kernelspec": {
   "display_name": "bsc",
   "language": "python",
   "name": "python3"
  },
  "language_info": {
   "codemirror_mode": {
    "name": "ipython",
    "version": 3
   },
   "file_extension": ".py",
   "mimetype": "text/x-python",
   "name": "python",
   "nbconvert_exporter": "python",
   "pygments_lexer": "ipython3",
   "version": "3.11.3"
  },
  "orig_nbformat": 4
 },
 "nbformat": 4,
 "nbformat_minor": 2
}
