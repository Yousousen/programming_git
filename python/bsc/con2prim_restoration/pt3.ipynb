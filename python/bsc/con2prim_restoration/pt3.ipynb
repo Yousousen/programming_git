{
 "cells": [
  {
   "attachments": {},
   "cell_type": "markdown",
   "metadata": {},
   "source": [
    "# Neural network to learn conservative-to-primitive conversion in relativistic hydrodynamics\n",
    "We use Optuna to do a type of Bayesian optimization of the hyperparameters of the model. We then train the model using these hyperparameters to recover the primitive pressure from the conserved variables.\n",
    "\n",
    "Use this first cell to convert this notebook to a python script."
   ]
  },
  {
   "cell_type": "code",
   "execution_count": 66,
   "metadata": {
    "tags": [
     "remove_cell"
    ]
   },
   "outputs": [
    {
     "name": "stderr",
     "output_type": "stream",
     "text": [
      "C:\\Users\\bvptr\\anaconda3\\envs\\bsc\\Lib\\site-packages\\traitlets\\traitlets.py:2548: FutureWarning: Supporting extra quotes around strings is deprecated in traitlets 5.0. You can use 'remove_cell' instead of \"'remove_cell'\" if you require traitlets >=5.\n",
      "  warn(\n",
      "[NbConvertApp] Converting notebook pt3.ipynb to script\n",
      "[NbConvertApp] Writing 34986 bytes to pt3.py\n"
     ]
    }
   ],
   "source": [
    "!jupyter nbconvert pt3.ipynb --TagRemovePreprocessor.enabled=True --TagRemovePreprocessor.remove_cell_tags='{\"remove_cell\"}' --to script"
   ]
  },
  {
   "cell_type": "code",
   "execution_count": 67,
   "metadata": {},
   "outputs": [],
   "source": [
    "# Importing the libraries\n",
    "import numpy as np\n",
    "import matplotlib.pyplot as plt\n",
    "import torch\n",
    "import torch.nn as nn\n",
    "import torch.optim as optim\n",
    "import torch.nn.functional as F\n",
    "import optuna\n",
    "import tensorboardX as tbx"
   ]
  },
  {
   "attachments": {},
   "cell_type": "markdown",
   "metadata": {},
   "source": [
    "## Constants and flags to set\n",
    "Defining some constants and parameters for convenience."
   ]
  },
  {
   "cell_type": "code",
   "execution_count": 68,
   "metadata": {},
   "outputs": [],
   "source": [
    "# Number of trials for hyperparameter optimization\n",
    "N_TRIALS = 1\n",
    "OPTIMIZE = True # Whether to optimize the hyperparameters or to use predetermined values from Dieseldorst et al..\n",
    "\n",
    "# Hyperparameters when no hyperparameter optimization is performed. \n",
    "N_LAYERS_NO_OPT = 2\n",
    "N_UNITS_NO_OPT = [600, 200]\n",
    "HIDDEN_ACTIVATION_NAME_NO_OPT = \"Sigmoid\"\n",
    "OUTPUT_ACTIVATION_NAME_NO_OPT = \"ReLU\"\n",
    "LOSS_NAME_NO_OPT = \"MSE\"\n",
    "OPTIMIZER_NAME_NO_OPT = \"Adam\"\n",
    "LR_NO_OPT = 6e-4\n",
    "BATCH_SIZE_NO_OPT = 32\n",
    "N_EPOCHS_NO_OPT = 10\n",
    "SCHEDULER_NAME_NO_OPT = \"ReduceLROnPlateau\"\n",
    "\n",
    "c = 1  # Speed of light (used in compute_conserved_variables and sample_primitive_variables functions)\n",
    "gamma = 5 / 3  # Adiabatic index (used in eos_analytic function)\n",
    "n_train_samples = 80000 # Number of training samples (used in generate_input_data and generate_labels functions)\n",
    "n_test_samples = 10000 # Number of test samples (used in generate_input_data and generate_labels functions)\n",
    "rho_interval = (0, 10.1) # Sampling interval for rest-mass density (used in sample_primitive_variables function)\n",
    "vx_interval = (0, 0.721 * c) # Sampling interval for velocity in x-direction (used in sample_primitive_variables function)\n",
    "epsilon_interval = (0, 2.02) # Sampling interval for specific internal energy (used in sample_primitive_variables function)\n",
    "\n",
    "np.random.seed(1) # Uncomment for pseudorandom data."
   ]
  },
  {
   "cell_type": "markdown",
   "metadata": {},
   "source": [
    "## Generating the data"
   ]
  },
  {
   "cell_type": "code",
   "execution_count": 69,
   "metadata": {},
   "outputs": [],
   "source": [
    "\n",
    "# Checking if GPU is available and setting the device accordingly\n",
    "device = torch.device(\"cuda\" if torch.cuda.is_available() else \"cpu\")\n",
    "\n",
    "# Defining an analytic equation of state (EOS) for an ideal gas\n",
    "def eos_analytic(rho, epsilon):\n",
    "    \"\"\"Computes the pressure from rest-mass density and specific internal energy using an analytic EOS.\n",
    "\n",
    "    Args:\n",
    "        rho (torch.Tensor): The rest-mass density tensor of shape (n_samples,).\n",
    "        epsilon (torch.Tensor): The specific internal energy tensor of shape (n_samples,).\n",
    "\n",
    "    Returns:\n",
    "        torch.Tensor: The pressure tensor of shape (n_samples,).\n",
    "    \"\"\"\n",
    "    # Adding some assertions to check that the input tensors are valid and have the expected shape and type \n",
    "    assert isinstance(rho, torch.Tensor), \"rho must be a torch.Tensor\"\n",
    "    assert isinstance(epsilon, torch.Tensor), \"epsilon must be a torch.Tensor\"\n",
    "    assert rho.shape == epsilon.shape, \"rho and epsilon must have the same shape\"\n",
    "    assert rho.ndim == 1, \"rho and epsilon must be one-dimensional tensors\"\n",
    "    assert rho.dtype == torch.float32, \"rho and epsilon must have dtype torch.float32\"\n",
    "\n",
    "    return (gamma - 1) * rho * epsilon\n",
    "\n",
    "\n",
    "# Defining a function that samples primitive variables from uniform distributions\n",
    "def sample_primitive_variables(n_samples):\n",
    "    \"\"\"Samples primitive variables from uniform distributions.\n",
    "\n",
    "    Args:\n",
    "        n_samples (int): The number of samples to generate.\n",
    "\n",
    "    Returns:\n",
    "        tuple: A tuple of (rho, vx, epsilon), where rho is rest-mass density,\n",
    "            vx is velocity in x-direction,\n",
    "            epsilon is specific internal energy,\n",
    "            each being a numpy array of shape (n_samples,).\n",
    "    \"\"\"\n",
    "    # Sampling from uniform distributions with intervals matching Dieseldorst et al.\n",
    "    rho = np.random.uniform(*rho_interval, size=n_samples)  # Rest-mass density\n",
    "    vx = np.random.uniform(*vx_interval, size=n_samples)  # Velocity in x-direction\n",
    "    epsilon = np.random.uniform(*epsilon_interval, size=n_samples)  # Specific internal energy\n",
    "\n",
    "    # Returning the primitive variables\n",
    "    return rho, vx, epsilon\n",
    "\n",
    "\n",
    "# Defining a function that computes conserved variables from primitive variables\n",
    "def compute_conserved_variables(rho, vx, epsilon):\n",
    "    \"\"\"Computes conserved variables from primitive variables.\n",
    "\n",
    "    Args:\n",
    "        rho (torch.Tensor): The rest-mass density tensor of shape (n_samples,).\n",
    "        vx (torch.Tensor): The velocity in x-direction tensor of shape (n_samples,).\n",
    "        epsilon (torch.Tensor): The specific internal energy tensor of shape (n_samples,).\n",
    "\n",
    "    Returns:\n",
    "        tuple: A tuple of (D, Sx, tau), where D is conserved density,\n",
    "            Sx is conserved momentum in x-direction,\n",
    "            tau is conserved energy density,\n",
    "            each being a torch tensor of shape (n_samples,).\n",
    "    \"\"\"\n",
    "\n",
    "    # Computing the pressure from the primitive variables using the EOS\n",
    "    p = eos_analytic(rho, epsilon)\n",
    "    # Computing the Lorentz factor from the velocity.\n",
    "    W = 1 / torch.sqrt(1 - vx ** 2 / c ** 2)\n",
    "    # Specific enthalpy\n",
    "    h = 1 + epsilon + p / rho  \n",
    "\n",
    "    # Computing the conserved variables from the primitive variables\n",
    "    D = rho * W  # Conserved density\n",
    "    Sx = rho * h * W ** 2 * vx  # Conserved momentum in x-direction\n",
    "    tau = rho * h * W ** 2 - p - D  # Conserved energy density\n",
    "\n",
    "    # Returning the conserved variables\n",
    "    return D, Sx, tau\n",
    "\n",
    "\n",
    "# Defining a function that generates input data (conserved variables) from random samples of primitive variables\n",
    "def generate_input_data(n_samples):\n",
    "    \"\"\"Generates input data (conserved variables) from random samples of primitive variables.\n",
    "\n",
    "    Args:\n",
    "        n_samples (int): The number of samples to generate.\n",
    "\n",
    "    Returns:\n",
    "        torch.Tensor: The input data tensor of shape (n_samples, 3).\n",
    "    \"\"\"\n",
    "    # Sampling the primitive variables using the sample_primitive_variables function\n",
    "    rho, vx, epsilon = sample_primitive_variables(n_samples)\n",
    "\n",
    "    # Converting the numpy arrays to torch tensors and moving them to the device\n",
    "    rho = torch.tensor(rho, dtype=torch.float32).to(device)\n",
    "    vx = torch.tensor(vx, dtype=torch.float32).to(device)\n",
    "    epsilon = torch.tensor(epsilon, dtype=torch.float32).to(device)\n",
    "\n",
    "    # Computing the conserved variables using the compute_conserved_variables function\n",
    "    D, Sx, tau = compute_conserved_variables(rho, vx, epsilon)\n",
    "\n",
    "    # Stacking the conserved variables into a torch tensor\n",
    "    x = torch.stack([D, Sx, tau], axis=1)\n",
    "\n",
    "    # Returning the input data tensor\n",
    "    return x\n",
    "\n",
    "# Defining a function that generates output data (labels) from random samples of primitive variables\n",
    "def generate_labels(n_samples):\n",
    "    \"\"\"Generates output data (labels) from random samples of primitive variables.\n",
    "\n",
    "    Args:\n",
    "        n_samples (int): The number of samples to generate.\n",
    "\n",
    "    Returns:\n",
    "        torch.Tensor: The output data tensor of shape (n_samples,).\n",
    "    \"\"\"\n",
    "    # Sampling the primitive variables using the sample_primitive_variables function\n",
    "    rho, _, epsilon = sample_primitive_variables(n_samples)\n",
    "\n",
    "    # Converting the numpy arrays to torch tensors and moving them to the device\n",
    "    rho = torch.tensor(rho, dtype=torch.float32).to(device)\n",
    "    epsilon = torch.tensor(epsilon, dtype=torch.float32).to(device)\n",
    "\n",
    "    # Computing the pressure from the primitive variables using the EOS\n",
    "    p = eos_analytic(rho, epsilon)\n",
    "\n",
    "    # Returning the output data tensor\n",
    "    return p\n"
   ]
  },
  {
   "cell_type": "code",
   "execution_count": 70,
   "metadata": {},
   "outputs": [
    {
     "data": {
      "text/plain": [
       "<Figure size 800x400 with 0 Axes>"
      ]
     },
     "execution_count": 70,
     "metadata": {},
     "output_type": "execute_result"
    },
    {
     "data": {
      "text/plain": [
       "<Axes: >"
      ]
     },
     "execution_count": 70,
     "metadata": {},
     "output_type": "execute_result"
    },
    {
     "data": {
      "text/plain": [
       "(array([15765., 10500.,  8450.,  6929.,  5916.,  5065.,  4505.,  3999.,\n",
       "         3422.,  3019.,  2558.,  2218.,  1873.,  1538.,  1293.,  1042.,\n",
       "          775.,   593.,   376.,   164.]),\n",
       " array([4.71082276e-05, 6.71799541e-01, 1.34355199e+00, 2.01530433e+00,\n",
       "        2.68705678e+00, 3.35880923e+00, 4.03056192e+00, 4.70231438e+00,\n",
       "        5.37406635e+00, 6.04581881e+00, 6.71757126e+00, 7.38932371e+00,\n",
       "        8.06107616e+00, 8.73282909e+00, 9.40458107e+00, 1.00763340e+01,\n",
       "        1.07480860e+01, 1.14198389e+01, 1.20915909e+01, 1.27633438e+01,\n",
       "        1.34350958e+01]),\n",
       " <BarContainer object of 20 artists>)"
      ]
     },
     "execution_count": 70,
     "metadata": {},
     "output_type": "execute_result"
    },
    {
     "data": {
      "text/plain": [
       "Text(0.5, 0, 'y_train')"
      ]
     },
     "execution_count": 70,
     "metadata": {},
     "output_type": "execute_result"
    },
    {
     "data": {
      "text/plain": [
       "Text(0, 0.5, 'Frequency')"
      ]
     },
     "execution_count": 70,
     "metadata": {},
     "output_type": "execute_result"
    },
    {
     "data": {
      "text/plain": [
       "<Axes: >"
      ]
     },
     "execution_count": 70,
     "metadata": {},
     "output_type": "execute_result"
    },
    {
     "data": {
      "text/plain": [
       "(array([1926., 1245., 1056.,  896.,  764.,  651.,  511.,  496.,  425.,\n",
       "         383.,  329.,  281.,  275.,  208.,  167.,  127.,   94.,   77.,\n",
       "          58.,   31.]),\n",
       " array([9.00165905e-05, 6.63420200e-01, 1.32675040e+00, 1.99008060e+00,\n",
       "        2.65341091e+00, 3.31674099e+00, 3.98007131e+00, 4.64340162e+00,\n",
       "        5.30673170e+00, 5.97006178e+00, 6.63339186e+00, 7.29672241e+00,\n",
       "        7.96005249e+00, 8.62338257e+00, 9.28671265e+00, 9.95004272e+00,\n",
       "        1.06133728e+01, 1.12767038e+01, 1.19400339e+01, 1.26033640e+01,\n",
       "        1.32666941e+01]),\n",
       " <BarContainer object of 20 artists>)"
      ]
     },
     "execution_count": 70,
     "metadata": {},
     "output_type": "execute_result"
    },
    {
     "data": {
      "text/plain": [
       "Text(0.5, 0, 'y_test')"
      ]
     },
     "execution_count": 70,
     "metadata": {},
     "output_type": "execute_result"
    },
    {
     "data": {
      "text/plain": [
       "Text(0, 0.5, 'Frequency')"
      ]
     },
     "execution_count": 70,
     "metadata": {},
     "output_type": "execute_result"
    },
    {
     "data": {
      "image/png": "[encoded data removed]",
      "text/plain": [
       "<Figure size 800x400 with 2 Axes>"
      ]
     },
     "metadata": {},
     "output_type": "display_data"
    },
    {
     "name": "stdout",
     "output_type": "stream",
     "text": [
      "Shape of x_train: torch.Size([80000, 3])\n",
      "Shape of y_train: torch.Size([80000])\n",
      "Shape of x_test: torch.Size([10000, 3])\n",
      "Shape of y_test: torch.Size([10000])\n"
     ]
    }
   ],
   "source": [
    "\n",
    "# Generating the input and output data for train and test sets using the functions defined\n",
    "# Using the same number of samples as Dieseldorst et al.\n",
    "x_train = generate_input_data(n_train_samples)\n",
    "y_train = generate_labels(n_train_samples) \n",
    "x_test = generate_input_data(n_test_samples) \n",
    "y_test = generate_labels(n_test_samples) \n",
    "\n",
    "# Checking if our output is always positive by plotting a histogram of y_train and y_test tensors \n",
    "plt.figure(figsize=(8, 4))\n",
    "plt.subplot(1, 2, 1)\n",
    "plt.hist(y_train.cpu().numpy(), bins=20)\n",
    "plt.xlabel(\"y_train\")\n",
    "plt.ylabel(\"Frequency\")\n",
    "plt.subplot(1, 2, 2)\n",
    "plt.hist(y_test.cpu().numpy(), bins=20)\n",
    "plt.xlabel(\"y_test\")\n",
    "plt.ylabel(\"Frequency\")\n",
    "plt.tight_layout()\n",
    "plt.show()\n",
    "\n",
    "# Checking the shapes of the data tensors\n",
    "print(\"Shape of x_train:\", x_train.shape)\n",
    "print(\"Shape of y_train:\", y_train.shape)\n",
    "print(\"Shape of x_test:\", x_test.shape)\n",
    "print(\"Shape of y_test:\", y_test.shape)"
   ]
  },
  {
   "cell_type": "markdown",
   "metadata": {},
   "source": [
    "## Defining the neural network"
   ]
  },
  {
   "cell_type": "code",
   "execution_count": 71,
   "metadata": {},
   "outputs": [],
   "source": [
    "# Defining a class for the network\n",
    "class Net(nn.Module):\n",
    "    \"\"\"A class for creating a network with a\n",
    "    variable number of hidden layers and units.\n",
    "\n",
    "    Attributes:\n",
    "        n_layers (int): The number of hidden layers in the network.\n",
    "        n_units (list): A list of integers representing the number of units in each hidden layer.\n",
    "        hidden_activation (torch.nn.Module): The activation function for the hidden layers.\n",
    "        output_activation (torch.nn.Module): The activation function for the output layer.\n",
    "        layers (torch.nn.ModuleList): A list of linear layers in the network.\n",
    "    \"\"\"\n",
    "\n",
    "    def __init__(self, n_layers, n_units, hidden_activation, output_activation):\n",
    "        \"\"\"Initializes the network with the given hyperparameters.\n",
    "\n",
    "        Args:\n",
    "            n_layers (int): The number of hidden layers in the network.\n",
    "            n_units (list): A list of integers representing the number of units in each hidden layer.\n",
    "            hidden_activation (torch.nn.Module): The activation function for the hidden layers.\n",
    "            output_activation (torch.nn.Module): The activation function for the output layer.\n",
    "        \"\"\"\n",
    "        super().__init__()\n",
    "        self.n_layers = n_layers\n",
    "        self.n_units = n_units\n",
    "        self.hidden_activation = hidden_activation\n",
    "        self.output_activation = output_activation\n",
    "\n",
    "        # Creating a list of linear layers with different numbers of units for each layer\n",
    "        self.layers = nn.ModuleList([nn.Linear(3, n_units[0])])\n",
    "        for i in range(1, n_layers):\n",
    "            self.layers.append(nn.Linear(n_units[i - 1], n_units[i]))\n",
    "        self.layers.append(nn.Linear(n_units[-1], 1))\n",
    "\n",
    "        # Adding some assertions to check that the input arguments are valid\n",
    "        assert isinstance(n_layers, int) and n_layers > 0, \"n_layers must be a positive integer\"\n",
    "        assert isinstance(n_units, list) and len(n_units) == n_layers, \"n_units must be a list of length n_layers\"\n",
    "        assert all(isinstance(n, int) and n > 0 for n in n_units), \"n_units must contain positive integers\"\n",
    "        assert isinstance(hidden_activation, nn.Module), \"hidden_activation must be a torch.nn.Module\"\n",
    "        assert isinstance(output_activation, nn.Module), \"output_activation must be a torch.nn.Module\"\n",
    "\n",
    "    def forward(self, x):\n",
    "        \"\"\"Performs a forward pass on the input tensor.\n",
    "\n",
    "        Args:\n",
    "            x (torch.Tensor): The input tensor of shape (batch_size, 3).\n",
    "\n",
    "        Returns:\n",
    "            torch.Tensor: The output tensor of shape (batch_size, 1).\n",
    "        \"\"\"\n",
    "        # Looping over the hidden layers and applying the linear transformation and the activation function\n",
    "        for layer in self.layers[:-1]:\n",
    "            x = self.hidden_activation(layer(x))\n",
    "        # Applying the linear transformation and the activation function on the output layer\n",
    "        x = self.output_activation(self.layers[-1](x))\n",
    "\n",
    "        # Returning the output tensor\n",
    "        return x"
   ]
  },
  {
   "cell_type": "markdown",
   "metadata": {},
   "source": [
    "## Defining the model and search space"
   ]
  },
  {
   "cell_type": "code",
   "execution_count": 72,
   "metadata": {},
   "outputs": [],
   "source": [
    "# Defining a function to create a trial network and optimizer\n",
    "def create_model(trial, optimize):\n",
    "    \"\"\"Creates a trial network and optimizer based on the sampled hyperparameters.\n",
    "\n",
    "    Args:\n",
    "        trial (optuna.trial.Trial): The trial object that contains the hyperparameters.\n",
    "        optimize (boolean): Whether to optimize the hyperparameters or to use predefined values.\n",
    "\n",
    "    Returns:\n",
    "        tuple: A tuple of (net, loss_fn, optimizer, batch_size, n_epochs,\n",
    "            scheduler, loss_name, optimizer_name, scheduler_name,\n",
    "            n_units, n_layers, hidden_activation, output_activation),\n",
    "            where net is the trial network,\n",
    "            loss_fn is the loss function,\n",
    "            optimizer is the optimizer,\n",
    "            batch_size is the batch size,\n",
    "            n_epochs is the number of epochs,\n",
    "            scheduler is the learning rate scheduler,\n",
    "            loss_name is the name of the loss function,\n",
    "            optimizer_name is the name of the optimizer,\n",
    "            scheduler_name is the name of the scheduler,\n",
    "            n_units is a list of integers representing\n",
    "            the number of units in each hidden layer,\n",
    "            n_layers is an integer representing the number of hidden layers in the network,\n",
    "            hidden_activation is a torch.nn.Module representing the activation function for the hidden layers,\n",
    "            output_activation is a torch.nn.Module representing the activation function for the output layer,\n",
    "            lr is the (initial) learning rate.\n",
    "    \"\"\"\n",
    "    # If optimize is True, sample the hyperparameters from the search space\n",
    "    if optimize:\n",
    "        # Sampling the hyperparameters from the search space\n",
    "        n_layers = trial.suggest_int(\"n_layers\", 1, 3)\n",
    "        n_units = [trial.suggest_int(f\"n_units_{i}\", 16, 256) for i in range(n_layers)] \n",
    "        hidden_activation_name = trial.suggest_categorical(\n",
    "            \"hidden_activation\", [\"ReLU\", \"LeakyReLU\", \"ELU\", \"Tanh\", \"Sigmoid\"]\n",
    "        )\n",
    "        output_activation_name = trial.suggest_categorical(\n",
    "            \"output_activation\", [\"Linear\", \"ReLU\"]\n",
    "        ) \n",
    "        loss_name = trial.suggest_categorical(\n",
    "            \"loss\", [\"MSE\", \"MAE\", \"Huber\", \"LogCosh\"] \n",
    "        )\n",
    "        optimizer_name = trial.suggest_categorical(\n",
    "            \"optimizer\", [\"Adam\", \"SGD\", \"RMSprop\", \"Adagrad\"] \n",
    "        )\n",
    "        lr = trial.suggest_loguniform(\"lr\", 1e-4, 1e-2) \n",
    "        batch_size = trial.suggest_int(\"batch_size\", 32, 256)\n",
    "        n_epochs = trial.suggest_int(\"n_epochs\", 50, 100) \n",
    "        scheduler_name = trial.suggest_categorical(\n",
    "            \"scheduler\",\n",
    "            [\"None\", \"CosineAnnealingLR\", \"ReduceLROnPlateau\", \"StepLR\", \"ExponentialLR\"],\n",
    "        )\n",
    "    # If optimize is False, use the predefined values\n",
    "    else:\n",
    "        # Setting the hyperparameters to the predefined values\n",
    "        n_layers = N_LAYERS_NO_OPT\n",
    "        n_units = N_UNITS_NO_OPT\n",
    "        hidden_activation_name = HIDDEN_ACTIVATION_NAME_NO_OPT\n",
    "        output_activation_name = OUTPUT_ACTIVATION_NAME_NO_OPT\n",
    "        loss_name = LOSS_NAME_NO_OPT\n",
    "        optimizer_name = OPTIMIZER_NAME_NO_OPT\n",
    "        lr = LR_NO_OPT\n",
    "        batch_size = BATCH_SIZE_NO_OPT\n",
    "        n_epochs = N_EPOCHS_NO_OPT\n",
    "        scheduler_name = SCHEDULER_NAME_NO_OPT\n",
    "\n",
    "\n",
    "    # Creating the activation functions from their names\n",
    "    if hidden_activation_name == \"ReLU\":\n",
    "        hidden_activation = nn.ReLU()\n",
    "    elif hidden_activation_name == \"LeakyReLU\":\n",
    "        hidden_activation = nn.LeakyReLU() \n",
    "    elif hidden_activation_name == \"ELU\":\n",
    "        hidden_activation = nn.ELU() \n",
    "    elif hidden_activation_name == \"Tanh\":\n",
    "        hidden_activation = nn.Tanh()\n",
    "    else:\n",
    "        hidden_activation = nn.Sigmoid()\n",
    "\n",
    "    if output_activation_name == \"ReLU\":\n",
    "        output_activation = nn.ReLU()\n",
    "    else:\n",
    "        output_activation = nn.Identity()\n",
    "\n",
    "    # Creating the loss function from its name\n",
    "    if loss_name == \"MSE\":\n",
    "        loss_fn = nn.MSELoss()\n",
    "    elif loss_name == \"MAE\":\n",
    "        loss_fn = nn.L1Loss()\n",
    "    elif loss_name == \"Huber\":\n",
    "        loss_fn = nn.SmoothL1Loss() \n",
    "    else:\n",
    "        # Creating the log-cosh loss function\n",
    "        def log_cosh_loss(y_pred, y_true):\n",
    "            return torch.mean(torch.log(torch.cosh(y_pred - y_true)))\n",
    "            \n",
    "        loss_fn = log_cosh_loss\n",
    "\n",
    "    # Creating the network with the sampled hyperparameters\n",
    "    net = Net(\n",
    "        n_layers, n_units, hidden_activation, output_activation\n",
    "    ).to(device)\n",
    "\n",
    "    # Creating the optimizer from its name\n",
    "    if optimizer_name == \"SGD\":\n",
    "        optimizer = optim.SGD(net.parameters(), lr=lr)\n",
    "    elif optimizer_name == \"Adam\":\n",
    "        optimizer = optim.Adam(net.parameters(), lr=lr)\n",
    "    elif optimizer_name == \"RMSprop\":\n",
    "        optimizer = optim.RMSprop(net.parameters(), lr=lr)\n",
    "    else:\n",
    "        # Added creating the Adagrad optimizer\n",
    "        optimizer = optim.Adagrad(net.parameters(), lr=lr)\n",
    "\n",
    "    # Creating the learning rate scheduler from its name\n",
    "    if scheduler_name == \"StepLR\":\n",
    "        scheduler = optim.lr_scheduler.StepLR(optimizer, step_size=10, gamma=0.1)\n",
    "    elif scheduler_name == \"ExponentialLR\":\n",
    "        scheduler = optim.lr_scheduler.ExponentialLR(optimizer, gamma=0.9)\n",
    "    elif scheduler_name == \"CosineAnnealingLR\":\n",
    "        # Added creating the CosineAnnealingLR scheduler\n",
    "        scheduler = optim.lr_scheduler.CosineAnnealingLR(optimizer, T_max=10)\n",
    "    elif scheduler_name == \"ReduceLROnPlateau\":\n",
    "        # Added creating the ReduceLROnPlateau scheduler\n",
    "        # Creating the ReduceLROnPlateau scheduler with a threshold value of 0.01\n",
    "        #scheduler = optim.lr_scheduler.ReduceLROnPlateau(\n",
    "        #    optimizer, mode=\"min\", factor=0.1, patience=10, threshold=0.01\n",
    "        #)\n",
    "        # Use Dieseldorst et al. settings and add to that a minimum lr.\n",
    "        scheduler = optim.lr_scheduler.ReduceLROnPlateau(\n",
    "                    optimizer, mode=\"min\", factor=0.5, patience=5, threshold=0.0005, min_lr=1e-6\n",
    "                )\n",
    "    else:\n",
    "        scheduler = None\n",
    "\n",
    "    # Returning all variables needed for saving and loading\n",
    "    return net, loss_fn, optimizer, batch_size, n_epochs, scheduler, loss_name, optimizer_name, scheduler_name, n_units, n_layers, hidden_activation, output_activation, lr\n"
   ]
  },
  {
   "attachments": {},
   "cell_type": "markdown",
   "metadata": {},
   "source": [
    " ## The training and evaluation loop\n",
    "\n",
    " We first define a couple of functions used in the training and evaluation."
   ]
  },
  {
   "cell_type": "code",
   "execution_count": 73,
   "metadata": {},
   "outputs": [],
   "source": [
    "# Defining a function that computes loss and metrics for a given batch\n",
    "def compute_loss_and_metrics(y_pred, y_true, loss_fn):\n",
    "    \"\"\"Computes loss and metrics for a given batch.\n",
    "\n",
    "    Args:\n",
    "        y_pred (torch.Tensor): The predicted pressure tensor of shape (batch_size, 1).\n",
    "        y_true (torch.Tensor): The true pressure tensor of shape (batch_size,).\n",
    "        loss_fn (torch.nn.Module or function): The loss function to use.\n",
    "\n",
    "    Returns:\n",
    "        tuple: A tuple of (loss, l1_norm), where loss is a scalar tensor,\n",
    "            l1_norm is L1 norm for relative error of pressure,\n",
    "            each being a scalar tensor.\n",
    "            linf_norm is Linf norm for relative error of pressure.\n",
    "    \"\"\"\n",
    "    # Reshaping the target tensor to match the input tensor\n",
    "    y_true = y_true.view(-1, 1)\n",
    "\n",
    "    # Computing the loss using the loss function\n",
    "    loss = loss_fn(y_pred, y_true)\n",
    "\n",
    "    # Computing the relative error of pressure\n",
    "    rel_error = torch.abs((y_pred - y_true) / y_true)\n",
    "\n",
    "    # Computing the L1 norm for the relative error of pressure\n",
    "    l1_norm = torch.mean(rel_error) \n",
    "    # Computing the Linf norm for the relative error of pressure\n",
    "    linf_norm = torch.max(rel_error) \n",
    "\n",
    "    # Returning the loss and metrics\n",
    "    return loss, l1_norm, linf_norm\n",
    "\n",
    "\n",
    "# Defining a function that updates the learning rate scheduler with validation loss if applicable\n",
    "def update_scheduler(scheduler, test_loss):\n",
    "    \"\"\"Updates the learning rate scheduler with validation loss if applicable.\n",
    "\n",
    "    Args:\n",
    "        scheduler (torch.optim.lr_scheduler._LRScheduler or None): The learning rate scheduler to use.\n",
    "        test_loss (float): The validation loss to use.\n",
    "\n",
    "    Returns:\n",
    "        None\n",
    "    \"\"\"\n",
    "    # Checking if scheduler is not None\n",
    "    if scheduler is not None:\n",
    "        # Checking if scheduler is ReduceLROnPlateau\n",
    "        if isinstance(scheduler, optim.lr_scheduler.ReduceLROnPlateau):\n",
    "            # Updating the scheduler with test_loss\n",
    "            scheduler.step(test_loss)\n",
    "        else:\n",
    "            # Updating the scheduler without test_loss\n",
    "            scheduler.step()\n"
   ]
  },
  {
   "attachments": {},
   "cell_type": "markdown",
   "metadata": {},
   "source": [
    "Now for the actual training and evaluation loop,"
   ]
  },
  {
   "cell_type": "code",
   "execution_count": 74,
   "metadata": {},
   "outputs": [],
   "source": [
    "# Defining a function to train and evaluate a network\n",
    "def train_and_eval(net, loss_fn, optimizer, batch_size, n_epochs, scheduler, trial=None):\n",
    "    \"\"\"Trains and evaluates a network.\n",
    "\n",
    "    Args:\n",
    "        net (torch.nn.Module): The network to train and evaluate.\n",
    "        loss_fn (torch.nn.Module or function): The loss function.\n",
    "        optimizer (torch.optim.Optimizer): The optimizer.\n",
    "        batch_size (int): The batch size.\n",
    "        n_epochs (int): The number of epochs.\n",
    "        scheduler (torch.optim.lr_scheduler._LRScheduler or None): The learning rate scheduler.\n",
    "    Returns:\n",
    "        tuple: A tuple of (train_losses, test_losses, train_metrics, test_metrics), where\n",
    "            train_losses is a list of training losses for each epoch,\n",
    "            test_losses is a list of validation losses for each epoch,\n",
    "            train_metrics is a list of dictionaries containing training metrics for each epoch,\n",
    "            test_metrics is a list of dictionaries containing validation metrics for each epoch.\n",
    "    \"\"\"\n",
    "    # Creating data loaders for train and test sets\n",
    "    train_loader = torch.utils.data.DataLoader(\n",
    "        torch.utils.data.TensorDataset(x_train, y_train), batch_size=batch_size, shuffle=True\n",
    "    )\n",
    "    test_loader = torch.utils.data.DataLoader(\n",
    "        torch.utils.data.TensorDataset(x_test, y_test), batch_size=batch_size\n",
    "    )\n",
    "\n",
    "    # Initializing lists to store the losses and metrics for each epoch\n",
    "    train_losses = []\n",
    "    test_losses = []\n",
    "    train_metrics = []\n",
    "    test_metrics = []\n",
    "\n",
    "    # Creating a SummaryWriter object to log data for tensorboard\n",
    "    writer = tbx.SummaryWriter()\n",
    "\n",
    "    # Looping over the epochs\n",
    "    for epoch in range(n_epochs):\n",
    "\n",
    "        # Setting the network to training mode\n",
    "        net.train()\n",
    "\n",
    "        # Initializing variables to store the total loss and metrics for the train set\n",
    "        train_loss = 0.0\n",
    "        train_l1_norm = 0.0\n",
    "        train_linf_norm = 0.0\n",
    "\n",
    "        # Looping over the batches in the train set\n",
    "        for x_batch, y_batch in train_loader:\n",
    "\n",
    "            # Moving the batch tensors to the device\n",
    "            x_batch = x_batch.to(device)\n",
    "            y_batch = y_batch.to(device)\n",
    "\n",
    "            # Zeroing the gradients\n",
    "            optimizer.zero_grad()\n",
    "\n",
    "            # Performing a forward pass and computing the loss and metrics\n",
    "            y_pred = net(x_batch)\n",
    "            loss, l1_norm, linf_norm = compute_loss_and_metrics(\n",
    "                y_pred, y_batch, loss_fn\n",
    "            )\n",
    "\n",
    "\n",
    "            # Performing a backward pass and updating the weights\n",
    "            loss.backward()\n",
    "            optimizer.step()\n",
    "\n",
    "            # Updating the total loss and metrics for the train set\n",
    "            train_loss += loss.item() * x_batch.size(0)\n",
    "            train_l1_norm += l1_norm.item() * x_batch.size(0)\n",
    "            train_linf_norm += linf_norm.item() * x_batch.size(0)\n",
    "\n",
    "        # Computing the average loss and metrics for the train set\n",
    "        train_loss /= len(train_loader.dataset)\n",
    "        train_l1_norm /= len(train_loader.dataset)\n",
    "        train_linf_norm /= len(train_loader.dataset)\n",
    "\n",
    "        # Appending the average loss and metrics for the train set to the lists\n",
    "        train_losses.append(train_loss)\n",
    "        train_metrics.append(\n",
    "            {\n",
    "                \"l1_norm\": train_l1_norm,\n",
    "                \"linf_norm\": train_linf_norm,\n",
    "            }\n",
    "        )\n",
    "\n",
    "        # Logging the average loss and metrics for the train set to tensorboard\n",
    "        writer.add_scalar(\"Loss/train\", train_loss, epoch)\n",
    "        writer.add_scalar(\"L1 norm/train\", train_l1_norm, epoch)\n",
    "        writer.add_scalar(\"Linf norm/train\", train_linf_norm, epoch)\n",
    "\n",
    "        # Setting the network to evaluation mode\n",
    "        net.eval()\n",
    "\n",
    "        # Initializing variables to store the total loss and metrics for the test set\n",
    "        test_loss = 0.0\n",
    "        test_l1_norm = 0.0\n",
    "        test_linf_norm = 0.0\n",
    "\n",
    "        # Looping over the batches in the test set\n",
    "        with torch.no_grad():\n",
    "            for x_batch, y_batch in test_loader:\n",
    "\n",
    "                # Moving the batch tensors to the device\n",
    "                x_batch = x_batch.to(device)\n",
    "                y_batch = y_batch.to(device)\n",
    "\n",
    "                # Performing a forward pass and computing the loss and metrics\n",
    "                y_pred = net(x_batch)\n",
    "                loss, l1_norm, linf_norm = compute_loss_and_metrics(\n",
    "                    y_pred, y_batch, loss_fn\n",
    "                )\n",
    "\n",
    "\n",
    "                # Updating the total loss and metrics for the test set\n",
    "                test_loss += loss.item() * x_batch.size(0)\n",
    "                test_l1_norm += l1_norm.item() * x_batch.size(0)\n",
    "                test_linf_norm += linf_norm.item() * x_batch.size(0)\n",
    "\n",
    "        # Computing the average loss and metrics for the test set\n",
    "        test_loss /= len(test_loader.dataset)\n",
    "        test_l1_norm /= len(test_loader.dataset)\n",
    "        test_linf_norm /= len(test_loader.dataset)\n",
    "\n",
    "        # Appending the average loss and metrics for the test set to the lists\n",
    "        test_losses.append(test_loss)\n",
    "        test_metrics.append(\n",
    "            {\n",
    "                \"l1_norm\": test_l1_norm,\n",
    "                \"linf_norm\": test_linf_norm,\n",
    "            }\n",
    "        )\n",
    "\n",
    "        # Logging the average loss and metrics for the test set to tensorboard\n",
    "        writer.add_scalar(\"Loss/test\", test_loss, epoch)\n",
    "        writer.add_scalar(\"L1 norm/test\", test_l1_norm, epoch)\n",
    "        writer.add_scalar(\"Linf norm/test\", test_linf_norm, epoch)\n",
    "\n",
    "        # Printing the average loss and metrics for both sets for this epoch\n",
    "        print(\n",
    "            f\"Epoch {epoch + 1}: Train Loss: {train_loss:.4f}, Test Loss: {test_loss:.4f}, \"\n",
    "            f\"Train L1 Norm: {train_l1_norm:.4f}, Test L1 Norm: {test_l1_norm:.4f}, \"\n",
    "            f\"Train Linf Norm: {train_linf_norm:.4f}, Test Linf Norm: {test_linf_norm:.4f}\"\n",
    "        )\n",
    "\n",
    "        # Updating the learning rate scheduler with validation loss if applicable\n",
    "        update_scheduler(scheduler, test_loss)\n",
    "\n",
    "        # Reporting the intermediate metric value to Optuna if trial is not None\n",
    "        if trial is not None:\n",
    "            trial.report(test_metrics[-1][\"l1_norm\"], epoch)\n",
    "\n",
    "            # Checking if the trial should be pruned based on the intermediate value if trial is not None\n",
    "            if trial.should_prune():\n",
    "                raise optuna.TrialPruned()\n",
    "\n",
    "    # Closing the SummaryWriter object\n",
    "    writer.close()\n",
    "\n",
    "    # Returning the losses and metrics lists\n",
    "    return train_losses, test_losses, train_metrics, test_metrics"
   ]
  },
  {
   "cell_type": "markdown",
   "metadata": {},
   "source": [
    "## The objective function and hyperparameter tuning"
   ]
  },
  {
   "cell_type": "code",
   "execution_count": 75,
   "metadata": {},
   "outputs": [],
   "source": [
    "# Defining an objective function for Optuna to minimize\n",
    "def objective(trial):\n",
    "    \"\"\"Defines an objective function for Optuna to minimize.\n",
    "\n",
    "    Args:\n",
    "        trial (optuna.trial.Trial): The trial object that contains the hyperparameters.\n",
    "\n",
    "    Returns:\n",
    "        float: The validation L1 norm to minimize.\n",
    "    \"\"\"\n",
    "    # Creating a trial network and optimizer using the create_model function\n",
    "    net, \\\n",
    "    loss_fn, \\\n",
    "    optimizer, \\\n",
    "    batch_size, \\\n",
    "    n_epochs, \\\n",
    "    scheduler, \\\n",
    "    loss_name, \\\n",
    "    optimizer_name, \\\n",
    "    scheduler_name, \\\n",
    "    n_units, \\\n",
    "    n_layers, \\\n",
    "    hidden_activation, \\\n",
    "    output_activation, \\\n",
    "    lr = create_model(trial, optimize=True)\n",
    "\n",
    "    # Training and evaluating the network using the train_and_eval function\n",
    "    _, _, _, test_metrics = train_and_eval(\n",
    "        net, loss_fn, optimizer, batch_size, n_epochs, scheduler, trial\n",
    "    )\n",
    "\n",
    "    # Returning the last validation L1 norm as the objective value to minimize\n",
    "    return test_metrics[-1][\"l1_norm\"]"
   ]
  },
  {
   "cell_type": "code",
   "execution_count": 76,
   "metadata": {},
   "outputs": [
    {
     "name": "stderr",
     "output_type": "stream",
     "text": [
      "\u001b[32m[I 2023-05-08 14:51:24,994]\u001b[0m A new study created in memory with name: no-name-df240495-fc27-4b17-acf2-9f065a4227b1\u001b[0m\n",
      "C:\\Users\\bvptr\\AppData\\Local\\Temp\\ipykernel_27788\\2821262908.py:46: FutureWarning: suggest_loguniform has been deprecated in v3.0.0. This feature will be removed in v6.0.0. See https://github.com/optuna/optuna/releases/tag/v3.0.0. Use :func:`~optuna.trial.Trial.suggest_float` instead.\n",
      "  lr = trial.suggest_loguniform(\"lr\", 1e-4, 1e-2)\n"
     ]
    },
    {
     "name": "stdout",
     "output_type": "stream",
     "text": [
      "Epoch 1: Train Loss: 10.9980, Test Loss: 9.1198, Train L1 Norm: 19.0568, Test L1 Norm: 23.8188, Train Linf Norm: 1553.5132, Test Linf Norm: 2022.6502\n",
      "Epoch 2: Train Loss: 9.1125, Test Loss: 9.5099, Train L1 Norm: 18.9544, Test L1 Norm: 17.8753, Train Linf Norm: 1527.2114, Test Linf Norm: 1516.8028\n",
      "Epoch 3: Train Loss: 9.0300, Test Loss: 9.0715, Train L1 Norm: 19.7386, Test L1 Norm: 23.9138, Train Linf Norm: 1612.7550, Test Linf Norm: 2030.3723\n",
      "Epoch 4: Train Loss: 8.9935, Test Loss: 9.0693, Train L1 Norm: 19.5109, Test L1 Norm: 21.1276, Train Linf Norm: 1544.8728, Test Linf Norm: 1794.7685\n",
      "Epoch 5: Train Loss: 8.9936, Test Loss: 9.0313, Train L1 Norm: 19.7224, Test L1 Norm: 23.2057, Train Linf Norm: 1620.1999, Test Linf Norm: 1967.8095\n",
      "Epoch 6: Train Loss: 8.9797, Test Loss: 9.0253, Train L1 Norm: 19.7314, Test L1 Norm: 22.1893, Train Linf Norm: 1624.5405, Test Linf Norm: 1884.2480\n",
      "Epoch 7: Train Loss: 8.9754, Test Loss: 9.0245, Train L1 Norm: 19.6088, Test L1 Norm: 22.2224, Train Linf Norm: 1596.6477, Test Linf Norm: 1886.3310\n",
      "Epoch 8: Train Loss: 9.0090, Test Loss: 9.0511, Train L1 Norm: 19.6596, Test L1 Norm: 23.7388, Train Linf Norm: 1598.9744, Test Linf Norm: 2013.3599\n",
      "Epoch 9: Train Loss: 8.9856, Test Loss: 9.0286, Train L1 Norm: 19.6887, Test L1 Norm: 23.1480, Train Linf Norm: 1592.8457, Test Linf Norm: 1960.7500\n",
      "Epoch 10: Train Loss: 8.9971, Test Loss: 9.0176, Train L1 Norm: 19.5994, Test L1 Norm: 22.6462, Train Linf Norm: 1608.0195, Test Linf Norm: 1923.1349\n",
      "Epoch 11: Train Loss: 8.9594, Test Loss: 9.0198, Train L1 Norm: 19.7322, Test L1 Norm: 22.2245, Train Linf Norm: 1628.3876, Test Linf Norm: 1884.1357\n",
      "Epoch 12: Train Loss: 8.9589, Test Loss: 9.0193, Train L1 Norm: 19.7331, Test L1 Norm: 22.4894, Train Linf Norm: 1607.1673, Test Linf Norm: 1905.7638\n",
      "Epoch 13: Train Loss: 8.9583, Test Loss: 9.0195, Train L1 Norm: 19.7040, Test L1 Norm: 22.3615, Train Linf Norm: 1602.0179, Test Linf Norm: 1895.1651\n",
      "Epoch 14: Train Loss: 8.9577, Test Loss: 9.0206, Train L1 Norm: 19.7039, Test L1 Norm: 22.3026, Train Linf Norm: 1605.9309, Test Linf Norm: 1889.3705\n",
      "Epoch 15: Train Loss: 8.9579, Test Loss: 9.0308, Train L1 Norm: 19.7550, Test L1 Norm: 21.7736, Train Linf Norm: 1605.9455, Test Linf Norm: 1843.9618\n",
      "Epoch 16: Train Loss: 8.9588, Test Loss: 9.0194, Train L1 Norm: 19.6869, Test L1 Norm: 22.2998, Train Linf Norm: 1603.8504, Test Linf Norm: 1889.8813\n",
      "Epoch 17: Train Loss: 8.9582, Test Loss: 9.0196, Train L1 Norm: 19.6814, Test L1 Norm: 22.2957, Train Linf Norm: 1598.3234, Test Linf Norm: 1889.1117\n",
      "Epoch 18: Train Loss: 8.9583, Test Loss: 9.0216, Train L1 Norm: 19.6958, Test L1 Norm: 22.1323, Train Linf Norm: 1617.1304, Test Linf Norm: 1875.0837\n",
      "Epoch 19: Train Loss: 8.9578, Test Loss: 9.0199, Train L1 Norm: 19.6687, Test L1 Norm: 22.4181, Train Linf Norm: 1593.9623, Test Linf Norm: 1899.0278\n",
      "Epoch 20: Train Loss: 8.9578, Test Loss: 9.0226, Train L1 Norm: 19.7170, Test L1 Norm: 22.1208, Train Linf Norm: 1587.5623, Test Linf Norm: 1874.6316\n",
      "Epoch 21: Train Loss: 8.9562, Test Loss: 9.0210, Train L1 Norm: 19.6477, Test L1 Norm: 22.2374, Train Linf Norm: 1555.9848, Test Linf Norm: 1884.4325\n",
      "Epoch 22: Train Loss: 8.9560, Test Loss: 9.0207, Train L1 Norm: 19.6906, Test L1 Norm: 22.2736, Train Linf Norm: 1602.2028, Test Linf Norm: 1887.4178\n",
      "Epoch 23: Train Loss: 8.9558, Test Loss: 9.0217, Train L1 Norm: 19.7394, Test L1 Norm: 22.1869, Train Linf Norm: 1617.4881, Test Linf Norm: 1879.9457\n",
      "Epoch 24: Train Loss: 8.9558, Test Loss: 9.0222, Train L1 Norm: 19.7160, Test L1 Norm: 22.1546, Train Linf Norm: 1608.2001, Test Linf Norm: 1877.1651\n",
      "Epoch 25: Train Loss: 8.9558, Test Loss: 9.0212, Train L1 Norm: 19.6755, Test L1 Norm: 22.2276, Train Linf Norm: 1599.7098, Test Linf Norm: 1883.3710\n",
      "Epoch 26: Train Loss: 8.9558, Test Loss: 9.0211, Train L1 Norm: 19.7037, Test L1 Norm: 22.2347, Train Linf Norm: 1606.0094, Test Linf Norm: 1883.9308\n",
      "Epoch 27: Train Loss: 8.9556, Test Loss: 9.0219, Train L1 Norm: 19.7356, Test L1 Norm: 22.1783, Train Linf Norm: 1635.5613, Test Linf Norm: 1879.1473\n",
      "Epoch 28: Train Loss: 8.9556, Test Loss: 9.0223, Train L1 Norm: 19.7097, Test L1 Norm: 22.1461, Train Linf Norm: 1622.3413, Test Linf Norm: 1876.4022\n",
      "Epoch 29: Train Loss: 8.9556, Test Loss: 9.0205, Train L1 Norm: 19.6515, Test L1 Norm: 22.2943, Train Linf Norm: 1590.9572, Test Linf Norm: 1889.0226\n",
      "Epoch 30: Train Loss: 8.9557, Test Loss: 9.0207, Train L1 Norm: 19.7183, Test L1 Norm: 22.2689, Train Linf Norm: 1590.2373, Test Linf Norm: 1886.9034\n",
      "Epoch 31: Train Loss: 8.9554, Test Loss: 9.0208, Train L1 Norm: 19.7334, Test L1 Norm: 22.2616, Train Linf Norm: 1624.0555, Test Linf Norm: 1886.2870\n",
      "Epoch 32: Train Loss: 8.9554, Test Loss: 9.0208, Train L1 Norm: 19.7265, Test L1 Norm: 22.2564, Train Linf Norm: 1617.4394, Test Linf Norm: 1885.8445\n",
      "Epoch 33: Train Loss: 8.9554, Test Loss: 9.0209, Train L1 Norm: 19.7178, Test L1 Norm: 22.2529, Train Linf Norm: 1608.3900, Test Linf Norm: 1885.5572\n",
      "Epoch 34: Train Loss: 8.9553, Test Loss: 9.0209, Train L1 Norm: 19.7208, Test L1 Norm: 22.2474, Train Linf Norm: 1614.0154, Test Linf Norm: 1885.0833\n",
      "Epoch 35: Train Loss: 8.9553, Test Loss: 9.0210, Train L1 Norm: 19.7116, Test L1 Norm: 22.2453, Train Linf Norm: 1571.0815, Test Linf Norm: 1884.9036\n",
      "Epoch 36: Train Loss: 8.9553, Test Loss: 9.0210, Train L1 Norm: 19.7085, Test L1 Norm: 22.2430, Train Linf Norm: 1603.7065, Test Linf Norm: 1884.7068\n",
      "Epoch 37: Train Loss: 8.9553, Test Loss: 9.0210, Train L1 Norm: 19.7077, Test L1 Norm: 22.2414, Train Linf Norm: 1590.0093, Test Linf Norm: 1884.5741\n",
      "Epoch 38: Train Loss: 8.9553, Test Loss: 9.0210, Train L1 Norm: 19.7091, Test L1 Norm: 22.2393, Train Linf Norm: 1592.3157, Test Linf Norm: 1884.3905\n",
      "Epoch 39: Train Loss: 8.9553, Test Loss: 9.0210, Train L1 Norm: 19.7056, Test L1 Norm: 22.2384, Train Linf Norm: 1617.3270, Test Linf Norm: 1884.3106\n",
      "Epoch 40: Train Loss: 8.9553, Test Loss: 9.0210, Train L1 Norm: 19.6984, Test L1 Norm: 22.2403, Train Linf Norm: 1580.8145, Test Linf Norm: 1884.4690\n",
      "Epoch 41: Train Loss: 8.9553, Test Loss: 9.0210, Train L1 Norm: 19.7053, Test L1 Norm: 22.2401, Train Linf Norm: 1596.2281, Test Linf Norm: 1884.4516\n",
      "Epoch 42: Train Loss: 8.9553, Test Loss: 9.0210, Train L1 Norm: 19.7067, Test L1 Norm: 22.2400, Train Linf Norm: 1617.8664, Test Linf Norm: 1884.4456\n",
      "Epoch 43: Train Loss: 8.9553, Test Loss: 9.0210, Train L1 Norm: 19.7065, Test L1 Norm: 22.2399, Train Linf Norm: 1601.7067, Test Linf Norm: 1884.4402\n",
      "Epoch 44: Train Loss: 8.9553, Test Loss: 9.0210, Train L1 Norm: 19.7057, Test L1 Norm: 22.2398, Train Linf Norm: 1614.9455, Test Linf Norm: 1884.4330\n",
      "Epoch 45: Train Loss: 8.9553, Test Loss: 9.0210, Train L1 Norm: 19.7067, Test L1 Norm: 22.2396, Train Linf Norm: 1597.2484, Test Linf Norm: 1884.4103\n",
      "Epoch 46: Train Loss: 8.9553, Test Loss: 9.0210, Train L1 Norm: 19.7059, Test L1 Norm: 22.2394, Train Linf Norm: 1599.4918, Test Linf Norm: 1884.3991\n",
      "Epoch 47: Train Loss: 8.9553, Test Loss: 9.0210, Train L1 Norm: 19.7052, Test L1 Norm: 22.2394, Train Linf Norm: 1607.5236, Test Linf Norm: 1884.3913\n",
      "Epoch 48: Train Loss: 8.9553, Test Loss: 9.0210, Train L1 Norm: 19.7058, Test L1 Norm: 22.2394, Train Linf Norm: 1615.0127, Test Linf Norm: 1884.3935\n",
      "Epoch 49: Train Loss: 8.9553, Test Loss: 9.0210, Train L1 Norm: 19.7065, Test L1 Norm: 22.2393, Train Linf Norm: 1606.5902, Test Linf Norm: 1884.3900\n",
      "Epoch 50: Train Loss: 8.9553, Test Loss: 9.0210, Train L1 Norm: 19.7062, Test L1 Norm: 22.2393, Train Linf Norm: 1622.8118, Test Linf Norm: 1884.3864\n",
      "Epoch 51: Train Loss: 8.9553, Test Loss: 9.0210, Train L1 Norm: 19.7058, Test L1 Norm: 22.2393, Train Linf Norm: 1616.8575, Test Linf Norm: 1884.3862\n",
      "Epoch 52: Train Loss: 8.9553, Test Loss: 9.0210, Train L1 Norm: 19.7058, Test L1 Norm: 22.2393, Train Linf Norm: 1610.4679, Test Linf Norm: 1884.3845\n",
      "Epoch 53: Train Loss: 8.9553, Test Loss: 9.0210, Train L1 Norm: 19.7058, Test L1 Norm: 22.2393, Train Linf Norm: 1616.6517, Test Linf Norm: 1884.3825\n",
      "Epoch 54: Train Loss: 8.9553, Test Loss: 9.0210, Train L1 Norm: 19.7058, Test L1 Norm: 22.2392, Train Linf Norm: 1590.0277, Test Linf Norm: 1884.3817\n",
      "Epoch 55: Train Loss: 8.9553, Test Loss: 9.0210, Train L1 Norm: 19.7057, Test L1 Norm: 22.2392, Train Linf Norm: 1611.3345, Test Linf Norm: 1884.3811\n",
      "Epoch 56: Train Loss: 8.9553, Test Loss: 9.0210, Train L1 Norm: 19.7057, Test L1 Norm: 22.2392, Train Linf Norm: 1629.9639, Test Linf Norm: 1884.3808\n",
      "Epoch 57: Train Loss: 8.9553, Test Loss: 9.0210, Train L1 Norm: 19.7057, Test L1 Norm: 22.2392, Train Linf Norm: 1548.2439, Test Linf Norm: 1884.3820\n",
      "Epoch 58: Train Loss: 8.9553, Test Loss: 9.0210, Train L1 Norm: 19.7057, Test L1 Norm: 22.2392, Train Linf Norm: 1619.2271, Test Linf Norm: 1884.3801\n",
      "Epoch 59: Train Loss: 8.9553, Test Loss: 9.0210, Train L1 Norm: 19.7057, Test L1 Norm: 22.2392, Train Linf Norm: 1617.9469, Test Linf Norm: 1884.3790\n",
      "Epoch 60: Train Loss: 8.9553, Test Loss: 9.0210, Train L1 Norm: 19.7058, Test L1 Norm: 22.2392, Train Linf Norm: 1593.4364, Test Linf Norm: 1884.3783\n",
      "Epoch 61: Train Loss: 8.9553, Test Loss: 9.0210, Train L1 Norm: 19.7057, Test L1 Norm: 22.2392, Train Linf Norm: 1611.4012, Test Linf Norm: 1884.3786\n",
      "Epoch 62: Train Loss: 8.9553, Test Loss: 9.0210, Train L1 Norm: 19.7057, Test L1 Norm: 22.2392, Train Linf Norm: 1599.9467, Test Linf Norm: 1884.3791\n",
      "Epoch 63: Train Loss: 8.9553, Test Loss: 9.0210, Train L1 Norm: 19.7057, Test L1 Norm: 22.2392, Train Linf Norm: 1586.4316, Test Linf Norm: 1884.3793\n",
      "Epoch 64: Train Loss: 8.9553, Test Loss: 9.0210, Train L1 Norm: 19.7057, Test L1 Norm: 22.2392, Train Linf Norm: 1595.7662, Test Linf Norm: 1884.3794\n",
      "Epoch 65: Train Loss: 8.9553, Test Loss: 9.0210, Train L1 Norm: 19.7057, Test L1 Norm: 22.2392, Train Linf Norm: 1619.7937, Test Linf Norm: 1884.3798\n",
      "Epoch 66: Train Loss: 8.9553, Test Loss: 9.0210, Train L1 Norm: 19.7057, Test L1 Norm: 22.2392, Train Linf Norm: 1588.0401, Test Linf Norm: 1884.3801\n",
      "Epoch 67: Train Loss: 8.9553, Test Loss: 9.0210, Train L1 Norm: 19.7057, Test L1 Norm: 22.2392, Train Linf Norm: 1587.6895, Test Linf Norm: 1884.3805\n",
      "Epoch 68: Train Loss: 8.9553, Test Loss: 9.0210, Train L1 Norm: 19.7057, Test L1 Norm: 22.2392, Train Linf Norm: 1626.3876, Test Linf Norm: 1884.3807\n",
      "Epoch 69: Train Loss: 8.9553, Test Loss: 9.0210, Train L1 Norm: 19.7057, Test L1 Norm: 22.2392, Train Linf Norm: 1626.7909, Test Linf Norm: 1884.3817\n",
      "Epoch 70: Train Loss: 8.9553, Test Loss: 9.0210, Train L1 Norm: 19.7057, Test L1 Norm: 22.2392, Train Linf Norm: 1620.2345, Test Linf Norm: 1884.3819\n",
      "Epoch 71: Train Loss: 8.9553, Test Loss: 9.0210, Train L1 Norm: 19.7057, Test L1 Norm: 22.2392, Train Linf Norm: 1612.4622, Test Linf Norm: 1884.3820\n",
      "Epoch 72: Train Loss: 8.9553, Test Loss: 9.0210, Train L1 Norm: 19.7057, Test L1 Norm: 22.2392, Train Linf Norm: 1621.0824, Test Linf Norm: 1884.3820\n",
      "Epoch 73: Train Loss: 8.9553, Test Loss: 9.0210, Train L1 Norm: 19.7057, Test L1 Norm: 22.2392, Train Linf Norm: 1615.9284, Test Linf Norm: 1884.3820\n",
      "Epoch 74: Train Loss: 8.9553, Test Loss: 9.0210, Train L1 Norm: 19.7057, Test L1 Norm: 22.2392, Train Linf Norm: 1609.0911, Test Linf Norm: 1884.3820\n",
      "Epoch 75: Train Loss: 8.9553, Test Loss: 9.0210, Train L1 Norm: 19.7057, Test L1 Norm: 22.2392, Train Linf Norm: 1596.5513, Test Linf Norm: 1884.3820\n",
      "Epoch 76: Train Loss: 8.9553, Test Loss: 9.0210, Train L1 Norm: 19.7057, Test L1 Norm: 22.2392, Train Linf Norm: 1619.2168, Test Linf Norm: 1884.3821\n",
      "Epoch 77: Train Loss: 8.9553, Test Loss: 9.0210, Train L1 Norm: 19.7057, Test L1 Norm: 22.2392, Train Linf Norm: 1595.3296, Test Linf Norm: 1884.3821\n",
      "Epoch 78: Train Loss: 8.9553, Test Loss: 9.0210, Train L1 Norm: 19.7057, Test L1 Norm: 22.2392, Train Linf Norm: 1609.4003, Test Linf Norm: 1884.3821\n",
      "Epoch 79: Train Loss: 8.9553, Test Loss: 9.0210, Train L1 Norm: 19.7057, Test L1 Norm: 22.2392, Train Linf Norm: 1599.8760, Test Linf Norm: 1884.3821\n",
      "Epoch 80: Train Loss: 8.9553, Test Loss: 9.0210, Train L1 Norm: 19.7057, Test L1 Norm: 22.2393, Train Linf Norm: 1582.1780, Test Linf Norm: 1884.3822\n",
      "Epoch 81: Train Loss: 8.9553, Test Loss: 9.0210, Train L1 Norm: 19.7057, Test L1 Norm: 22.2393, Train Linf Norm: 1576.5528, Test Linf Norm: 1884.3822\n",
      "Epoch 82: Train Loss: 8.9553, Test Loss: 9.0210, Train L1 Norm: 19.7057, Test L1 Norm: 22.2393, Train Linf Norm: 1608.0495, Test Linf Norm: 1884.3822\n",
      "Epoch 83: Train Loss: 8.9553, Test Loss: 9.0210, Train L1 Norm: 19.7057, Test L1 Norm: 22.2393, Train Linf Norm: 1599.8178, Test Linf Norm: 1884.3822\n",
      "Epoch 84: Train Loss: 8.9553, Test Loss: 9.0210, Train L1 Norm: 19.7057, Test L1 Norm: 22.2393, Train Linf Norm: 1619.8514, Test Linf Norm: 1884.3822\n",
      "Epoch 85: Train Loss: 8.9553, Test Loss: 9.0210, Train L1 Norm: 19.7057, Test L1 Norm: 22.2393, Train Linf Norm: 1522.2369, Test Linf Norm: 1884.3822\n",
      "Epoch 86: Train Loss: 8.9553, Test Loss: 9.0210, Train L1 Norm: 19.7057, Test L1 Norm: 22.2393, Train Linf Norm: 1550.6806, Test Linf Norm: 1884.3822\n",
      "Epoch 87: Train Loss: 8.9553, Test Loss: 9.0210, Train L1 Norm: 19.7057, Test L1 Norm: 22.2393, Train Linf Norm: 1618.2510, Test Linf Norm: 1884.3822\n",
      "Epoch 88: Train Loss: 8.9553, Test Loss: 9.0210, Train L1 Norm: 19.7057, Test L1 Norm: 22.2393, Train Linf Norm: 1593.4426, Test Linf Norm: 1884.3822\n",
      "Epoch 89: Train Loss: 8.9553, Test Loss: 9.0210, Train L1 Norm: 19.7057, Test L1 Norm: 22.2393, Train Linf Norm: 1602.3518, Test Linf Norm: 1884.3822\n",
      "Epoch 90: Train Loss: 8.9553, Test Loss: 9.0210, Train L1 Norm: 19.7057, Test L1 Norm: 22.2393, Train Linf Norm: 1608.7975, Test Linf Norm: 1884.3822\n",
      "Epoch 91: Train Loss: 8.9553, Test Loss: 9.0210, Train L1 Norm: 19.7057, Test L1 Norm: 22.2393, Train Linf Norm: 1616.1385, Test Linf Norm: 1884.3822\n",
      "Epoch 92: Train Loss: 8.9553, Test Loss: 9.0210, Train L1 Norm: 19.7057, Test L1 Norm: 22.2393, Train Linf Norm: 1508.5241, Test Linf Norm: 1884.3822\n"
     ]
    },
    {
     "name": "stderr",
     "output_type": "stream",
     "text": [
      "\u001b[32m[I 2023-05-08 14:54:40,337]\u001b[0m Trial 0 finished with value: 22.239250121450425 and parameters: {'n_layers': 2, 'n_units_0': 30, 'n_units_1': 228, 'hidden_activation': 'LeakyReLU', 'output_activation': 'Linear', 'loss': 'MSE', 'optimizer': 'RMSprop', 'lr': 0.0058415287555354, 'batch_size': 122, 'n_epochs': 93, 'scheduler': 'StepLR'}. Best is trial 0 with value: 22.239250121450425.\u001b[0m\n"
     ]
    },
    {
     "name": "stdout",
     "output_type": "stream",
     "text": [
      "Epoch 93: Train Loss: 8.9553, Test Loss: 9.0210, Train L1 Norm: 19.7057, Test L1 Norm: 22.2393, Train Linf Norm: 1620.7571, Test Linf Norm: 1884.3822\n",
      "Best trial:\n",
      "  Value:  22.239250121450425\n",
      "  Params: \n",
      "    n_layers: 2\n",
      "    n_units_0: 30\n",
      "    n_units_1: 228\n",
      "    hidden_activation: LeakyReLU\n",
      "    output_activation: Linear\n",
      "    loss: MSE\n",
      "    optimizer: RMSprop\n",
      "    lr: 0.0058415287555354\n",
      "    batch_size: 122\n",
      "    n_epochs: 93\n",
      "    scheduler: StepLR\n"
     ]
    }
   ],
   "source": [
    "if OPTIMIZE:\n",
    "    # Creating a study object with Optuna with TPE sampler and median pruner \n",
    "    study = optuna.create_study(direction=\"minimize\", sampler=optuna.samplers.TPESampler(), pruner=optuna.pruners.MedianPruner())\n",
    "\n",
    "    # Running Optuna with 100 trials when we are optimizing.\n",
    "    study.optimize(objective, n_trials=N_TRIALS)\n",
    "\n",
    "    # Printing the best trial information\n",
    "    print(\"Best trial:\")\n",
    "    trial = study.best_trial\n",
    "    print(\"  Value: \", trial.value)\n",
    "    print(\"  Params: \")\n",
    "    for key, value in trial.params.items():\n",
    "        print(f\"    {key}: {value}\")\n"
   ]
  },
  {
   "cell_type": "markdown",
   "metadata": {},
   "source": [
    "## Training with the best hyperparameters"
   ]
  },
  {
   "cell_type": "code",
   "execution_count": 77,
   "metadata": {},
   "outputs": [
    {
     "name": "stderr",
     "output_type": "stream",
     "text": [
      "C:\\Users\\bvptr\\AppData\\Local\\Temp\\ipykernel_27788\\2821262908.py:46: FutureWarning: suggest_loguniform has been deprecated in v3.0.0. This feature will be removed in v6.0.0. See https://github.com/optuna/optuna/releases/tag/v3.0.0. Use :func:`~optuna.trial.FrozenTrial.suggest_float` instead.\n",
      "  lr = trial.suggest_loguniform(\"lr\", 1e-4, 1e-2)\n"
     ]
    }
   ],
   "source": [
    "# Creating the best network and optimizer using the best hyperparameters\n",
    "if OPTIMIZE:\n",
    "    net, \\\n",
    "    loss_fn, \\\n",
    "    optimizer, \\\n",
    "    batch_size, \\\n",
    "    n_epochs, \\\n",
    "    scheduler, \\\n",
    "    loss_name, \\\n",
    "    optimizer_name, \\\n",
    "    scheduler_name, \\\n",
    "    n_units, \\\n",
    "    n_layers, \\\n",
    "    hidden_activation, \\\n",
    "    output_activation, \\\n",
    "    lr = create_model(trial, optimize=True)\n",
    "# Creating the network with predefined hyperparameters\n",
    "else:\n",
    "    net, \\\n",
    "    loss_fn, \\\n",
    "    optimizer, \\\n",
    "    batch_size, \\\n",
    "    n_epochs, \\\n",
    "    scheduler, \\\n",
    "    loss_name, \\\n",
    "    optimizer_name, \\\n",
    "    scheduler_name, \\\n",
    "    n_units, \\\n",
    "    n_layers, \\\n",
    "    hidden_activation, \\\n",
    "    output_activation, \\\n",
    "    lr = create_model(trial=None, optimize=False)"
   ]
  },
  {
   "cell_type": "code",
   "execution_count": 78,
   "metadata": {},
   "outputs": [
    {
     "name": "stdout",
     "output_type": "stream",
     "text": [
      "loss_fn: MSELoss()\n",
      "batch_size: 122\n",
      "n_epochs: 93\n",
      "scheduler: <torch.optim.lr_scheduler.StepLR object at 0x000002A83F123A90>\n",
      "loss_name: MSE\n",
      "optimizer_name: RMSprop\n",
      "scheduler_name: StepLR\n",
      "n_units: [30, 228]\n",
      "n_layers: 2\n",
      "hidden_activation: LeakyReLU(negative_slope=0.01)\n",
      "output_activation: Identity()\n"
     ]
    }
   ],
   "source": [
    "print(\"loss_fn:\", loss_fn)\n",
    "print(\"batch_size:\", batch_size)\n",
    "print(\"n_epochs:\", n_epochs)\n",
    "print(\"scheduler:\", scheduler)\n",
    "print(\"loss_name:\", loss_name)\n",
    "print(\"optimizer_name:\", optimizer_name)\n",
    "print(\"scheduler_name:\", scheduler_name)\n",
    "print(\"n_units:\", n_units)\n",
    "print(\"n_layers:\", n_layers)\n",
    "print(\"hidden_activation:\", hidden_activation)\n",
    "print(\"output_activation:\", output_activation)"
   ]
  },
  {
   "cell_type": "code",
   "execution_count": 79,
   "metadata": {},
   "outputs": [
    {
     "name": "stdout",
     "output_type": "stream",
     "text": [
      "Epoch 1: Train Loss: 13.1490, Test Loss: 9.1824, Train L1 Norm: 19.4548, Test L1 Norm: 20.8158, Train Linf Norm: 1593.4484, Test Linf Norm: 1784.0286\n",
      "Epoch 2: Train Loss: 9.0952, Test Loss: 9.0841, Train L1 Norm: 19.6487, Test L1 Norm: 24.2913, Train Linf Norm: 1597.0315, Test Linf Norm: 2062.2807\n",
      "Epoch 3: Train Loss: 8.9991, Test Loss: 9.0349, Train L1 Norm: 19.7322, Test L1 Norm: 23.4738, Train Linf Norm: 1603.1913, Test Linf Norm: 1991.5704\n",
      "Epoch 4: Train Loss: 8.9854, Test Loss: 9.2166, Train L1 Norm: 19.4900, Test L1 Norm: 19.9298, Train Linf Norm: 1522.5892, Test Linf Norm: 1681.9349\n",
      "Epoch 5: Train Loss: 8.9907, Test Loss: 9.0259, Train L1 Norm: 19.7350, Test L1 Norm: 22.2001, Train Linf Norm: 1600.4675, Test Linf Norm: 1880.2951\n",
      "Epoch 6: Train Loss: 8.9778, Test Loss: 9.0431, Train L1 Norm: 19.6887, Test L1 Norm: 23.6264, Train Linf Norm: 1638.4832, Test Linf Norm: 2004.9120\n",
      "Epoch 7: Train Loss: 8.9814, Test Loss: 9.0367, Train L1 Norm: 19.6323, Test L1 Norm: 21.6676, Train Linf Norm: 1611.4112, Test Linf Norm: 1838.1450\n",
      "Epoch 8: Train Loss: 8.9743, Test Loss: 9.1240, Train L1 Norm: 19.7371, Test L1 Norm: 24.6703, Train Linf Norm: 1632.3632, Test Linf Norm: 2089.9102\n",
      "Epoch 9: Train Loss: 8.9744, Test Loss: 9.0266, Train L1 Norm: 19.6186, Test L1 Norm: 22.0820, Train Linf Norm: 1589.5765, Test Linf Norm: 1868.4943\n",
      "Epoch 10: Train Loss: 8.9720, Test Loss: 9.0255, Train L1 Norm: 19.7486, Test L1 Norm: 22.2318, Train Linf Norm: 1621.8085, Test Linf Norm: 1882.3801\n",
      "Epoch 11: Train Loss: 8.9582, Test Loss: 9.0210, Train L1 Norm: 19.7145, Test L1 Norm: 22.2438, Train Linf Norm: 1602.8139, Test Linf Norm: 1884.7941\n",
      "Epoch 12: Train Loss: 8.9581, Test Loss: 9.0197, Train L1 Norm: 19.7094, Test L1 Norm: 22.6558, Train Linf Norm: 1602.7657, Test Linf Norm: 1919.5347\n",
      "Epoch 13: Train Loss: 8.9575, Test Loss: 9.0185, Train L1 Norm: 19.6977, Test L1 Norm: 22.4567, Train Linf Norm: 1595.8663, Test Linf Norm: 1903.1999\n",
      "Epoch 14: Train Loss: 8.9576, Test Loss: 9.0176, Train L1 Norm: 19.6859, Test L1 Norm: 22.4929, Train Linf Norm: 1610.8603, Test Linf Norm: 1906.8811\n",
      "Epoch 15: Train Loss: 8.9572, Test Loss: 9.0197, Train L1 Norm: 19.7268, Test L1 Norm: 22.1952, Train Linf Norm: 1614.7875, Test Linf Norm: 1881.7711\n",
      "Epoch 16: Train Loss: 8.9575, Test Loss: 9.0174, Train L1 Norm: 19.6868, Test L1 Norm: 22.4699, Train Linf Norm: 1614.8154, Test Linf Norm: 1904.7613\n",
      "Epoch 17: Train Loss: 8.9577, Test Loss: 9.0186, Train L1 Norm: 19.7073, Test L1 Norm: 22.3864, Train Linf Norm: 1604.8119, Test Linf Norm: 1897.4300\n",
      "Epoch 18: Train Loss: 8.9580, Test Loss: 9.0165, Train L1 Norm: 19.7037, Test L1 Norm: 22.5668, Train Linf Norm: 1606.1443, Test Linf Norm: 1913.6184\n",
      "Epoch 19: Train Loss: 8.9570, Test Loss: 9.0219, Train L1 Norm: 19.7472, Test L1 Norm: 22.0630, Train Linf Norm: 1600.3358, Test Linf Norm: 1870.4504\n",
      "Epoch 20: Train Loss: 8.9570, Test Loss: 9.0175, Train L1 Norm: 19.6595, Test L1 Norm: 22.6849, Train Linf Norm: 1588.7657, Test Linf Norm: 1923.8101\n",
      "Epoch 21: Train Loss: 8.9561, Test Loss: 9.0181, Train L1 Norm: 19.8726, Test L1 Norm: 22.3119, Train Linf Norm: 1638.7783, Test Linf Norm: 1892.0774\n",
      "Epoch 22: Train Loss: 8.9549, Test Loss: 9.0189, Train L1 Norm: 19.7335, Test L1 Norm: 22.2396, Train Linf Norm: 1586.5080, Test Linf Norm: 1885.8743\n",
      "Epoch 23: Train Loss: 8.9547, Test Loss: 9.0181, Train L1 Norm: 19.6606, Test L1 Norm: 22.3203, Train Linf Norm: 1621.8305, Test Linf Norm: 1892.6794\n",
      "Epoch 24: Train Loss: 8.9548, Test Loss: 9.0185, Train L1 Norm: 19.7235, Test L1 Norm: 22.2865, Train Linf Norm: 1593.1921, Test Linf Norm: 1889.7646\n",
      "Epoch 25: Train Loss: 8.9548, Test Loss: 9.0186, Train L1 Norm: 19.7059, Test L1 Norm: 22.2831, Train Linf Norm: 1607.9201, Test Linf Norm: 1889.4649\n",
      "Epoch 26: Train Loss: 8.9547, Test Loss: 9.0187, Train L1 Norm: 19.7070, Test L1 Norm: 22.2707, Train Linf Norm: 1620.7070, Test Linf Norm: 1888.3540\n",
      "Epoch 27: Train Loss: 8.9547, Test Loss: 9.0188, Train L1 Norm: 19.7121, Test L1 Norm: 22.2604, Train Linf Norm: 1608.4764, Test Linf Norm: 1887.5043\n",
      "Epoch 28: Train Loss: 8.9545, Test Loss: 9.0197, Train L1 Norm: 19.7377, Test L1 Norm: 22.1955, Train Linf Norm: 1584.4660, Test Linf Norm: 1881.9613\n",
      "Epoch 29: Train Loss: 8.9546, Test Loss: 9.0195, Train L1 Norm: 19.7009, Test L1 Norm: 22.2056, Train Linf Norm: 1566.8844, Test Linf Norm: 1882.9206\n",
      "Epoch 30: Train Loss: 8.9546, Test Loss: 9.0197, Train L1 Norm: 19.7041, Test L1 Norm: 22.1890, Train Linf Norm: 1600.9790, Test Linf Norm: 1881.5237\n",
      "Epoch 31: Train Loss: 8.9544, Test Loss: 9.0195, Train L1 Norm: 19.6493, Test L1 Norm: 22.2005, Train Linf Norm: 1598.1165, Test Linf Norm: 1882.4982\n",
      "Epoch 32: Train Loss: 8.9543, Test Loss: 9.0194, Train L1 Norm: 19.6479, Test L1 Norm: 22.2132, Train Linf Norm: 1615.3140, Test Linf Norm: 1883.5703\n",
      "Epoch 33: Train Loss: 8.9543, Test Loss: 9.0193, Train L1 Norm: 19.6673, Test L1 Norm: 22.2213, Train Linf Norm: 1584.2559, Test Linf Norm: 1884.2618\n",
      "Epoch 34: Train Loss: 8.9543, Test Loss: 9.0192, Train L1 Norm: 19.6739, Test L1 Norm: 22.2275, Train Linf Norm: 1604.7910, Test Linf Norm: 1884.7871\n",
      "Epoch 35: Train Loss: 8.9543, Test Loss: 9.0191, Train L1 Norm: 19.6800, Test L1 Norm: 22.2332, Train Linf Norm: 1622.0063, Test Linf Norm: 1885.2666\n",
      "Epoch 36: Train Loss: 8.9543, Test Loss: 9.0191, Train L1 Norm: 19.6801, Test L1 Norm: 22.2388, Train Linf Norm: 1574.1940, Test Linf Norm: 1885.7366\n",
      "Epoch 37: Train Loss: 8.9543, Test Loss: 9.0190, Train L1 Norm: 19.6837, Test L1 Norm: 22.2427, Train Linf Norm: 1603.6495, Test Linf Norm: 1886.0617\n",
      "Epoch 38: Train Loss: 8.9542, Test Loss: 9.0190, Train L1 Norm: 19.6887, Test L1 Norm: 22.2466, Train Linf Norm: 1559.5632, Test Linf Norm: 1886.3913\n",
      "Epoch 39: Train Loss: 8.9542, Test Loss: 9.0189, Train L1 Norm: 19.6920, Test L1 Norm: 22.2500, Train Linf Norm: 1587.4789, Test Linf Norm: 1886.6727\n",
      "Epoch 40: Train Loss: 8.9542, Test Loss: 9.0189, Train L1 Norm: 19.6961, Test L1 Norm: 22.2521, Train Linf Norm: 1625.9807, Test Linf Norm: 1886.8469\n",
      "Epoch 41: Train Loss: 8.9542, Test Loss: 9.0189, Train L1 Norm: 19.6963, Test L1 Norm: 22.2522, Train Linf Norm: 1625.1264, Test Linf Norm: 1886.8588\n",
      "Epoch 42: Train Loss: 8.9542, Test Loss: 9.0189, Train L1 Norm: 19.6969, Test L1 Norm: 22.2524, Train Linf Norm: 1614.2402, Test Linf Norm: 1886.8680\n",
      "Epoch 43: Train Loss: 8.9542, Test Loss: 9.0189, Train L1 Norm: 19.6972, Test L1 Norm: 22.2526, Train Linf Norm: 1601.1575, Test Linf Norm: 1886.8896\n",
      "Epoch 44: Train Loss: 8.9542, Test Loss: 9.0189, Train L1 Norm: 19.6970, Test L1 Norm: 22.2529, Train Linf Norm: 1627.6723, Test Linf Norm: 1886.9097\n",
      "Epoch 45: Train Loss: 8.9542, Test Loss: 9.0189, Train L1 Norm: 19.6975, Test L1 Norm: 22.2530, Train Linf Norm: 1619.9946, Test Linf Norm: 1886.9252\n",
      "Epoch 46: Train Loss: 8.9542, Test Loss: 9.0189, Train L1 Norm: 19.6973, Test L1 Norm: 22.2532, Train Linf Norm: 1588.1619, Test Linf Norm: 1886.9374\n",
      "Epoch 47: Train Loss: 8.9542, Test Loss: 9.0189, Train L1 Norm: 19.6977, Test L1 Norm: 22.2534, Train Linf Norm: 1572.2197, Test Linf Norm: 1886.9541\n",
      "Epoch 48: Train Loss: 8.9542, Test Loss: 9.0189, Train L1 Norm: 19.6979, Test L1 Norm: 22.2535, Train Linf Norm: 1626.0722, Test Linf Norm: 1886.9675\n",
      "Epoch 49: Train Loss: 8.9542, Test Loss: 9.0189, Train L1 Norm: 19.6979, Test L1 Norm: 22.2538, Train Linf Norm: 1600.5548, Test Linf Norm: 1886.9859\n",
      "Epoch 50: Train Loss: 8.9542, Test Loss: 9.0189, Train L1 Norm: 19.6980, Test L1 Norm: 22.2540, Train Linf Norm: 1601.2752, Test Linf Norm: 1887.0033\n",
      "Epoch 51: Train Loss: 8.9542, Test Loss: 9.0189, Train L1 Norm: 19.6982, Test L1 Norm: 22.2540, Train Linf Norm: 1613.0433, Test Linf Norm: 1887.0051\n",
      "Epoch 52: Train Loss: 8.9542, Test Loss: 9.0189, Train L1 Norm: 19.6982, Test L1 Norm: 22.2540, Train Linf Norm: 1584.0775, Test Linf Norm: 1887.0070\n",
      "Epoch 53: Train Loss: 8.9542, Test Loss: 9.0189, Train L1 Norm: 19.6982, Test L1 Norm: 22.2540, Train Linf Norm: 1620.3873, Test Linf Norm: 1887.0091\n",
      "Epoch 54: Train Loss: 8.9542, Test Loss: 9.0189, Train L1 Norm: 19.6983, Test L1 Norm: 22.2541, Train Linf Norm: 1588.9914, Test Linf Norm: 1887.0121\n",
      "Epoch 55: Train Loss: 8.9542, Test Loss: 9.0189, Train L1 Norm: 19.6982, Test L1 Norm: 22.2541, Train Linf Norm: 1592.3994, Test Linf Norm: 1887.0125\n",
      "Epoch 56: Train Loss: 8.9542, Test Loss: 9.0189, Train L1 Norm: 19.6983, Test L1 Norm: 22.2541, Train Linf Norm: 1564.2475, Test Linf Norm: 1887.0133\n",
      "Epoch 57: Train Loss: 8.9542, Test Loss: 9.0189, Train L1 Norm: 19.6983, Test L1 Norm: 22.2541, Train Linf Norm: 1607.3714, Test Linf Norm: 1887.0172\n",
      "Epoch 58: Train Loss: 8.9542, Test Loss: 9.0189, Train L1 Norm: 19.6984, Test L1 Norm: 22.2541, Train Linf Norm: 1605.5082, Test Linf Norm: 1887.0162\n",
      "Epoch 59: Train Loss: 8.9542, Test Loss: 9.0189, Train L1 Norm: 19.6983, Test L1 Norm: 22.2541, Train Linf Norm: 1624.3940, Test Linf Norm: 1887.0166\n",
      "Epoch 60: Train Loss: 8.9542, Test Loss: 9.0189, Train L1 Norm: 19.6983, Test L1 Norm: 22.2541, Train Linf Norm: 1584.5438, Test Linf Norm: 1887.0160\n",
      "Epoch 61: Train Loss: 8.9542, Test Loss: 9.0189, Train L1 Norm: 19.6983, Test L1 Norm: 22.2541, Train Linf Norm: 1592.9024, Test Linf Norm: 1887.0166\n",
      "Epoch 62: Train Loss: 8.9542, Test Loss: 9.0189, Train L1 Norm: 19.6983, Test L1 Norm: 22.2541, Train Linf Norm: 1606.6070, Test Linf Norm: 1887.0172\n",
      "Epoch 63: Train Loss: 8.9542, Test Loss: 9.0189, Train L1 Norm: 19.6983, Test L1 Norm: 22.2541, Train Linf Norm: 1608.3673, Test Linf Norm: 1887.0175\n",
      "Epoch 64: Train Loss: 8.9542, Test Loss: 9.0189, Train L1 Norm: 19.6983, Test L1 Norm: 22.2541, Train Linf Norm: 1604.3402, Test Linf Norm: 1887.0174\n",
      "Epoch 65: Train Loss: 8.9542, Test Loss: 9.0189, Train L1 Norm: 19.6983, Test L1 Norm: 22.2541, Train Linf Norm: 1614.6438, Test Linf Norm: 1887.0173\n",
      "Epoch 66: Train Loss: 8.9542, Test Loss: 9.0189, Train L1 Norm: 19.6983, Test L1 Norm: 22.2541, Train Linf Norm: 1601.5404, Test Linf Norm: 1887.0175\n",
      "Epoch 67: Train Loss: 8.9542, Test Loss: 9.0189, Train L1 Norm: 19.6983, Test L1 Norm: 22.2541, Train Linf Norm: 1598.8838, Test Linf Norm: 1887.0176\n",
      "Epoch 68: Train Loss: 8.9542, Test Loss: 9.0189, Train L1 Norm: 19.6983, Test L1 Norm: 22.2541, Train Linf Norm: 1590.6359, Test Linf Norm: 1887.0179\n",
      "Epoch 69: Train Loss: 8.9542, Test Loss: 9.0189, Train L1 Norm: 19.6983, Test L1 Norm: 22.2542, Train Linf Norm: 1601.6819, Test Linf Norm: 1887.0185\n",
      "Epoch 70: Train Loss: 8.9542, Test Loss: 9.0189, Train L1 Norm: 19.6983, Test L1 Norm: 22.2542, Train Linf Norm: 1587.1060, Test Linf Norm: 1887.0190\n",
      "Epoch 71: Train Loss: 8.9542, Test Loss: 9.0189, Train L1 Norm: 19.6983, Test L1 Norm: 22.2542, Train Linf Norm: 1605.0365, Test Linf Norm: 1887.0190\n",
      "Epoch 72: Train Loss: 8.9542, Test Loss: 9.0189, Train L1 Norm: 19.6983, Test L1 Norm: 22.2542, Train Linf Norm: 1622.5813, Test Linf Norm: 1887.0190\n",
      "Epoch 73: Train Loss: 8.9542, Test Loss: 9.0189, Train L1 Norm: 19.6983, Test L1 Norm: 22.2542, Train Linf Norm: 1588.7797, Test Linf Norm: 1887.0190\n",
      "Epoch 74: Train Loss: 8.9542, Test Loss: 9.0189, Train L1 Norm: 19.6983, Test L1 Norm: 22.2542, Train Linf Norm: 1569.8160, Test Linf Norm: 1887.0190\n",
      "Epoch 75: Train Loss: 8.9542, Test Loss: 9.0189, Train L1 Norm: 19.6983, Test L1 Norm: 22.2542, Train Linf Norm: 1607.6633, Test Linf Norm: 1887.0190\n",
      "Epoch 76: Train Loss: 8.9542, Test Loss: 9.0189, Train L1 Norm: 19.6983, Test L1 Norm: 22.2542, Train Linf Norm: 1624.4382, Test Linf Norm: 1887.0190\n",
      "Epoch 77: Train Loss: 8.9542, Test Loss: 9.0189, Train L1 Norm: 19.6983, Test L1 Norm: 22.2542, Train Linf Norm: 1609.0302, Test Linf Norm: 1887.0190\n",
      "Epoch 78: Train Loss: 8.9542, Test Loss: 9.0189, Train L1 Norm: 19.6983, Test L1 Norm: 22.2542, Train Linf Norm: 1613.9240, Test Linf Norm: 1887.0190\n",
      "Epoch 79: Train Loss: 8.9542, Test Loss: 9.0189, Train L1 Norm: 19.6983, Test L1 Norm: 22.2542, Train Linf Norm: 1619.0944, Test Linf Norm: 1887.0191\n",
      "Epoch 80: Train Loss: 8.9542, Test Loss: 9.0189, Train L1 Norm: 19.6983, Test L1 Norm: 22.2542, Train Linf Norm: 1583.3548, Test Linf Norm: 1887.0191\n",
      "Epoch 81: Train Loss: 8.9542, Test Loss: 9.0189, Train L1 Norm: 19.6983, Test L1 Norm: 22.2542, Train Linf Norm: 1608.0149, Test Linf Norm: 1887.0191\n",
      "Epoch 82: Train Loss: 8.9542, Test Loss: 9.0189, Train L1 Norm: 19.6983, Test L1 Norm: 22.2542, Train Linf Norm: 1602.7872, Test Linf Norm: 1887.0191\n",
      "Epoch 83: Train Loss: 8.9542, Test Loss: 9.0189, Train L1 Norm: 19.6983, Test L1 Norm: 22.2542, Train Linf Norm: 1601.9355, Test Linf Norm: 1887.0191\n",
      "Epoch 84: Train Loss: 8.9542, Test Loss: 9.0189, Train L1 Norm: 19.6983, Test L1 Norm: 22.2542, Train Linf Norm: 1601.0477, Test Linf Norm: 1887.0191\n",
      "Epoch 85: Train Loss: 8.9542, Test Loss: 9.0189, Train L1 Norm: 19.6983, Test L1 Norm: 22.2542, Train Linf Norm: 1606.0916, Test Linf Norm: 1887.0191\n",
      "Epoch 86: Train Loss: 8.9542, Test Loss: 9.0189, Train L1 Norm: 19.6983, Test L1 Norm: 22.2542, Train Linf Norm: 1605.3067, Test Linf Norm: 1887.0191\n",
      "Epoch 87: Train Loss: 8.9542, Test Loss: 9.0189, Train L1 Norm: 19.6983, Test L1 Norm: 22.2542, Train Linf Norm: 1597.1150, Test Linf Norm: 1887.0191\n",
      "Epoch 88: Train Loss: 8.9542, Test Loss: 9.0189, Train L1 Norm: 19.6983, Test L1 Norm: 22.2542, Train Linf Norm: 1618.9419, Test Linf Norm: 1887.0191\n",
      "Epoch 89: Train Loss: 8.9542, Test Loss: 9.0189, Train L1 Norm: 19.6983, Test L1 Norm: 22.2542, Train Linf Norm: 1621.3801, Test Linf Norm: 1887.0191\n",
      "Epoch 90: Train Loss: 8.9542, Test Loss: 9.0189, Train L1 Norm: 19.6983, Test L1 Norm: 22.2542, Train Linf Norm: 1596.1144, Test Linf Norm: 1887.0191\n",
      "Epoch 91: Train Loss: 8.9542, Test Loss: 9.0189, Train L1 Norm: 19.6983, Test L1 Norm: 22.2542, Train Linf Norm: 1593.7216, Test Linf Norm: 1887.0191\n",
      "Epoch 92: Train Loss: 8.9542, Test Loss: 9.0189, Train L1 Norm: 19.6983, Test L1 Norm: 22.2542, Train Linf Norm: 1614.7008, Test Linf Norm: 1887.0191\n",
      "Epoch 93: Train Loss: 8.9542, Test Loss: 9.0189, Train L1 Norm: 19.6983, Test L1 Norm: 22.2542, Train Linf Norm: 1586.8726, Test Linf Norm: 1887.0191\n"
     ]
    }
   ],
   "source": [
    "\n",
    "# Training and evaluating the best network using the train_and_eval function\n",
    "train_losses, test_losses, train_metrics, test_metrics = train_and_eval(\n",
    "    net, loss_fn, optimizer, batch_size, n_epochs, scheduler\n",
    ")"
   ]
  },
  {
   "cell_type": "markdown",
   "metadata": {},
   "source": [
    "## Visualizing the results"
   ]
  },
  {
   "cell_type": "code",
   "execution_count": 80,
   "metadata": {},
   "outputs": [
    {
     "data": {
      "text/plain": [
       "<Figure size 1200x800 with 0 Axes>"
      ]
     },
     "execution_count": 80,
     "metadata": {},
     "output_type": "execute_result"
    },
    {
     "data": {
      "text/plain": [
       "<Axes: >"
      ]
     },
     "execution_count": 80,
     "metadata": {},
     "output_type": "execute_result"
    },
    {
     "data": {
      "text/plain": [
       "[<matplotlib.lines.Line2D at 0x2a83da97dd0>]"
      ]
     },
     "execution_count": 80,
     "metadata": {},
     "output_type": "execute_result"
    },
    {
     "data": {
      "text/plain": [
       "[<matplotlib.lines.Line2D at 0x2a83fcbbfd0>]"
      ]
     },
     "execution_count": 80,
     "metadata": {},
     "output_type": "execute_result"
    },
    {
     "data": {
      "text/plain": [
       "Text(0.5, 0, 'Epoch')"
      ]
     },
     "execution_count": 80,
     "metadata": {},
     "output_type": "execute_result"
    },
    {
     "data": {
      "text/plain": [
       "Text(0, 0.5, 'Loss')"
      ]
     },
     "execution_count": 80,
     "metadata": {},
     "output_type": "execute_result"
    },
    {
     "data": {
      "text/plain": [
       "<matplotlib.legend.Legend at 0x2a83f8b23d0>"
      ]
     },
     "execution_count": 80,
     "metadata": {},
     "output_type": "execute_result"
    },
    {
     "data": {
      "text/plain": [
       "<Axes: >"
      ]
     },
     "execution_count": 80,
     "metadata": {},
     "output_type": "execute_result"
    },
    {
     "data": {
      "text/plain": [
       "[<matplotlib.lines.Line2D at 0x2a83fce90d0>]"
      ]
     },
     "execution_count": 80,
     "metadata": {},
     "output_type": "execute_result"
    },
    {
     "data": {
      "text/plain": [
       "[<matplotlib.lines.Line2D at 0x2a83fcef190>]"
      ]
     },
     "execution_count": 80,
     "metadata": {},
     "output_type": "execute_result"
    },
    {
     "data": {
      "text/plain": [
       "Text(0.5, 0, 'Epoch')"
      ]
     },
     "execution_count": 80,
     "metadata": {},
     "output_type": "execute_result"
    },
    {
     "data": {
      "text/plain": [
       "Text(0, 0.5, 'L1 Norm')"
      ]
     },
     "execution_count": 80,
     "metadata": {},
     "output_type": "execute_result"
    },
    {
     "data": {
      "text/plain": [
       "<matplotlib.legend.Legend at 0x2a83f88a010>"
      ]
     },
     "execution_count": 80,
     "metadata": {},
     "output_type": "execute_result"
    },
    {
     "data": {
      "text/plain": [
       "<Axes: >"
      ]
     },
     "execution_count": 80,
     "metadata": {},
     "output_type": "execute_result"
    },
    {
     "data": {
      "text/plain": [
       "[<matplotlib.lines.Line2D at 0x2a83fc74190>]"
      ]
     },
     "execution_count": 80,
     "metadata": {},
     "output_type": "execute_result"
    },
    {
     "data": {
      "text/plain": [
       "[<matplotlib.lines.Line2D at 0x2a83fc806d0>]"
      ]
     },
     "execution_count": 80,
     "metadata": {},
     "output_type": "execute_result"
    },
    {
     "data": {
      "text/plain": [
       "Text(0.5, 0, 'Epoch')"
      ]
     },
     "execution_count": 80,
     "metadata": {},
     "output_type": "execute_result"
    },
    {
     "data": {
      "text/plain": [
       "Text(0, 0.5, 'Linf Norm')"
      ]
     },
     "execution_count": 80,
     "metadata": {},
     "output_type": "execute_result"
    },
    {
     "data": {
      "text/plain": [
       "<matplotlib.legend.Legend at 0x2a83fce8790>"
      ]
     },
     "execution_count": 80,
     "metadata": {},
     "output_type": "execute_result"
    },
    {
     "data": {
      "image/png": "[encoded data removed]",
      "text/plain": [
       "<Figure size 1200x800 with 3 Axes>"
      ]
     },
     "metadata": {},
     "output_type": "display_data"
    },
    {
     "data": {
      "text/plain": [
       "<Figure size 800x600 with 0 Axes>"
      ]
     },
     "execution_count": 80,
     "metadata": {},
     "output_type": "execute_result"
    },
    {
     "data": {
      "text/plain": [
       "[<matplotlib.lines.Line2D at 0x2a83fc83f90>]"
      ]
     },
     "execution_count": 80,
     "metadata": {},
     "output_type": "execute_result"
    },
    {
     "data": {
      "text/plain": [
       "[<matplotlib.lines.Line2D at 0x2a83fba5810>]"
      ]
     },
     "execution_count": 80,
     "metadata": {},
     "output_type": "execute_result"
    },
    {
     "data": {
      "text/plain": [
       "Text(0.5, 0, 'Epoch')"
      ]
     },
     "execution_count": 80,
     "metadata": {},
     "output_type": "execute_result"
    },
    {
     "data": {
      "text/plain": [
       "Text(0, 0.5, 'MSE')"
      ]
     },
     "execution_count": 80,
     "metadata": {},
     "output_type": "execute_result"
    },
    {
     "data": {
      "text/plain": [
       "<matplotlib.legend.Legend at 0x2a83fbf3d90>"
      ]
     },
     "execution_count": 80,
     "metadata": {},
     "output_type": "execute_result"
    },
    {
     "data": {
      "image/png": "[encoded data removed]",
      "text/plain": [
       "<Figure size 800x600 with 1 Axes>"
      ]
     },
     "metadata": {},
     "output_type": "display_data"
    }
   ],
   "source": [
    "# Plotting the losses and metrics for the best network \n",
    "plt.figure(figsize=(12, 8))\n",
    "plt.subplot(2, 2, 1)\n",
    "plt.plot(train_losses, label=\"Train Loss\")\n",
    "plt.plot(test_losses, label=\"Test Loss\")\n",
    "plt.xlabel(\"Epoch\")\n",
    "plt.ylabel(\"Loss\")\n",
    "plt.legend()\n",
    "plt.subplot(2, 2, 2)\n",
    "plt.plot([m[\"l1_norm\"] for m in train_metrics], label=\"Train L1 Norm\")\n",
    "plt.plot([m[\"l1_norm\"] for m in test_metrics], label=\"Test L1 Norm\")\n",
    "plt.xlabel(\"Epoch\")\n",
    "plt.ylabel(\"L1 Norm\")\n",
    "plt.legend()\n",
    "plt.subplot(2, 2, 3)\n",
    "plt.plot([m[\"linf_norm\"] for m in train_metrics], label=\"Train Linf Norm\")\n",
    "plt.plot([m[\"linf_norm\"] for m in test_metrics], label=\"Test Linf Norm\")\n",
    "plt.xlabel(\"Epoch\")\n",
    "plt.ylabel(\"Linf Norm\")\n",
    "plt.legend()\n",
    "plt.tight_layout()\n",
    "plt.show()\n",
    "\n",
    "# Added plotting MSE of training data and MSE of test data in one plot \n",
    "plt.figure(figsize=(8, 6))\n",
    "plt.plot(train_losses,label=\"training data\")\n",
    "plt.plot(test_losses,label=\"test data\")\n",
    "#if scheduler is not None:\n",
    "#    plt.plot([scheduler.get_last_lr()[0] for _ in range(n_epochs)], label=\"Learning rate\") \n",
    "plt.xlabel(\"Epoch\")\n",
    "plt.ylabel(\"MSE\")\n",
    "plt.legend()\n",
    "plt.show()"
   ]
  },
  {
   "cell_type": "markdown",
   "metadata": {},
   "source": [
    "## Saving"
   ]
  },
  {
   "cell_type": "code",
   "execution_count": 81,
   "metadata": {},
   "outputs": [],
   "source": [
    "import json\n",
    "import pandas as pd\n",
    "\n",
    "# save the network to a .pth file\n",
    "torch.save(net.state_dict(), \"net.pth\")\n",
    "\n",
    "# save the optimizer to a .pth file\n",
    "torch.save(optimizer.state_dict(), \"optimizer.pth\")\n",
    "\n",
    "# save the scheduler to a .pth file if it is not None\n",
    "if scheduler is not None:\n",
    "  torch.save(scheduler.state_dict(), \"scheduler.pth\")\n",
    "\n",
    "# create a dictionary to store the rest of the variables\n",
    "var_dict = {\n",
    "  \"batch_size\": batch_size,\n",
    "  \"n_epochs\": n_epochs,\n",
    "  \"loss_name\": loss_name,\n",
    "  \"optimizer_name\": optimizer_name,\n",
    "  \"scheduler_name\": scheduler_name,\n",
    "  \"n_units\": n_units,\n",
    "  \"n_layers\": n_layers,\n",
    "  \"hidden_activation_name\": hidden_activation.__class__.__name__,\n",
    "  \"output_activation_name\": output_activation.__class__.__name__,\n",
    "  \"lr\": lr,\n",
    "}\n",
    "\n",
    "# save the dictionary to a .json file\n",
    "with open(\"var_dict.json\", \"w\") as f:\n",
    "  json.dump(var_dict, f)"
   ]
  },
  {
   "cell_type": "markdown",
   "metadata": {},
   "source": [
    "## Loading"
   ]
  },
  {
   "cell_type": "code",
   "execution_count": 82,
   "metadata": {},
   "outputs": [
    {
     "data": {
      "text/plain": [
       "<All keys matched successfully>"
      ]
     },
     "execution_count": 82,
     "metadata": {},
     "output_type": "execute_result"
    }
   ],
   "source": [
    "# Load the network from the .pth file\n",
    "net = Net(n_layers, n_units, hidden_activation, output_activation).to(device)\n",
    "net.load_state_dict(torch.load(\"net.pth\"))\n",
    "\n",
    "# load the optimizer from the .pth file\n",
    "if optimizer_name == \"SGD\":\n",
    "  optimizer = optim.SGD(net.parameters(), lr=lr)\n",
    "elif optimizer_name == \"Adam\":\n",
    "  optimizer = optim.Adam(net.parameters(), lr=lr)\n",
    "elif optimizer_name == \"RMSprop\":\n",
    "  optimizer = optim.RMSprop(net.parameters(), lr=lr)\n",
    "else:\n",
    "  # Added loading the Adagrad optimizer\n",
    "  optimizer = optim.Adagrad(net.parameters(), lr=lr)\n",
    "optimizer.load_state_dict(torch.load(\"optimizer.pth\"))\n",
    "\n",
    "# load the scheduler from the .pth file if it is not None\n",
    "if scheduler_name == \"StepLR\":\n",
    "  scheduler = optim.lr_scheduler.StepLR(optimizer, step_size=10, gamma=0.1)\n",
    "elif scheduler_name == \"ExponentialLR\":\n",
    "  scheduler = optim.lr_scheduler.ExponentialLR(optimizer, gamma=0.9)\n",
    "elif scheduler_name == \"CosineAnnealingLR\":\n",
    "  # Added loading the CosineAnnealingLR scheduler\n",
    "  scheduler = optim.lr_scheduler.CosineAnnealingLR(optimizer, T_max=10)\n",
    "elif scheduler_name == \"ReduceLROnPlateau\":\n",
    "  # Added loading the ReduceLROnPlateau scheduler with a threshold value of 0.01\n",
    "  #scheduler = optim.lr_scheduler.ReduceLROnPlateau(\n",
    "  #    optimizer, mode=\"min\", factor=0.1, patience=10, threshold=0.01\n",
    "  #)\n",
    "  # Use Dieseldorst et al. settings and add to that a minimum lr.\n",
    "        scheduler = optim.lr_scheduler.ReduceLROnPlateau(\n",
    "                    optimizer, mode=\"min\", factor=0.5, patience=5, threshold=0.0005, min_lr=1e-6\n",
    "                )\n",
    "else:\n",
    "  scheduler = None\n",
    "\n",
    "if scheduler is not None:\n",
    "  scheduler.load_state_dict(torch.load(\"scheduler.pth\"))\n",
    "\n",
    "\n",
    "# load the dictionary from the .json file\n",
    "with open(\"var_dict.json\", \"r\") as f:\n",
    "  var_dict = json.load(f)\n",
    "\n",
    "# extract the variables from the dictionary\n",
    "batch_size = var_dict[\"batch_size\"]\n",
    "n_epochs = var_dict[\"n_epochs\"]\n",
    "loss_name = var_dict[\"loss_name\"]\n",
    "optimizer_name = var_dict[\"optimizer_name\"]\n",
    "scheduler_name = var_dict[\"scheduler_name\"]\n",
    "n_units = var_dict[\"n_units\"]\n",
    "n_layers = var_dict[\"n_layers\"]\n",
    "hidden_activation_name = var_dict[\"hidden_activation_name\"]\n",
    "output_activation_name = var_dict[\"output_activation_name\"]\n",
    "lr = var_dict[\"lr\"]\n",
    "\n",
    "# create the activation functions from their names\n",
    "if hidden_activation_name == \"ReLU\":\n",
    "  hidden_activation = nn.ReLU()\n",
    "elif hidden_activation_name == \"LeakyReLU\":\n",
    "  hidden_activation = nn.LeakyReLU() \n",
    "elif hidden_activation_name == \"ELU\":\n",
    "  hidden_activation = nn.ELU() \n",
    "elif hidden_activation_name == \"Tanh\":\n",
    "  hidden_activation = nn.Tanh()\n",
    "else:\n",
    "  hidden_activation = nn.Sigmoid()\n",
    "\n",
    "if output_activation_name == \"ReLU\":\n",
    "  output_activation = nn\n",
    "\n",
    "\n",
    "# Saving the output of the training using pandas\n",
    "train_df = pd.DataFrame(\n",
    "    {\n",
    "        \"train_loss\": train_losses,\n",
    "        \"test_loss\": test_losses,\n",
    "        \"train_l1_norm\": [m[\"l1_norm\"] for m in train_metrics],\n",
    "        \"test_l1_norm\": [m[\"l1_norm\"] for m in test_metrics],\n",
    "        \"train_linf_norm\": [m[\"linf_norm\"] for m in train_metrics],\n",
    "        \"test_linf_norm\": [m[\"linf_norm\"] for m in test_metrics],\n",
    "    }\n",
    ")\n",
    "train_df.to_csv(\"train_output.csv\", index=False)\n",
    "\n",
    "# Loading the output of the training using pandas\n",
    "train_df = pd.read_csv(\"train_output.csv\")\n",
    "train_losses = train_df[\"train_loss\"].tolist()\n",
    "test_losses = train_df[\"test_loss\"].tolist()\n",
    "train_metrics = [\n",
    "    {\n",
    "        \"l1_norm\": train_df[\"train_l1_norm\"][i],\n",
    "        \"linf_norm\": train_df[\"train_linf_norm\"][i],\n",
    "    }\n",
    "    for i in range(len(train_df))\n",
    "]\n",
    "test_metrics = [\n",
    "    {\n",
    "        \"l1_norm\": train_df[\"test_l1_norm\"][i],\n",
    "        \"linf_norm\": train_df[\"test_linf_norm\"][i],\n",
    "    }\n",
    "    for i in range(len(train_df))\n",
    "]"
   ]
  },
  {
   "cell_type": "code",
   "execution_count": 91,
   "metadata": {},
   "outputs": [
    {
     "name": "stdout",
     "output_type": "stream",
     "text": [
      "Couldn't find program: 'echo'\n"
     ]
    }
   ],
   "source": [
    "%%script echo skipping\n",
    "\n",
    "net\n",
    "optimizer\n",
    "scheduler\n",
    "var_dict\n",
    "batch_size\n",
    "n_epochs\n",
    "loss_name\n",
    "optimizer_name\n",
    "scheduler_name\n",
    "n_units\n",
    "n_layers\n",
    "hidden_activation_name\n",
    "output_activation_name\n",
    "lr\n",
    "hidden_activation\n",
    "output_activation\n",
    "train_df\n",
    "train_losses\n",
    "test_losses\n",
    "train_metrics\n",
    "test_metrics"
   ]
  },
  {
   "attachments": {},
   "cell_type": "markdown",
   "metadata": {},
   "source": [
    "## Porting the model to C++"
   ]
  }
 ],
 "metadata": {
  "kernelspec": {
   "display_name": "bsc",
   "language": "python",
   "name": "python3"
  },
  "language_info": {
   "codemirror_mode": {
    "name": "ipython",
    "version": 3
   },
   "file_extension": ".py",
   "mimetype": "text/x-python",
   "name": "python",
   "nbconvert_exporter": "python",
   "pygments_lexer": "ipython3",
   "version": "3.11.3"
  },
  "orig_nbformat": 4
 },
 "nbformat": 4,
 "nbformat_minor": 2
}
