{
 "cells": [
  {
   "attachments": {},
   "cell_type": "markdown",
   "metadata": {},
   "source": [
    "# Neural network to learn conservative-to-primitive conversion in relativistic hydrodynamics\n",
    "We use Optuna to do a type of Bayesian optimization of the hyperparameters of the model. We then train the model using these hyperparameters to recover the primitive pressure from the conserved variables.\n",
    "\n",
    "Use this first cell to convert this notebook to a python script."
   ]
  },
  {
   "cell_type": "code",
   "execution_count": 40,
   "metadata": {
    "tags": [
     "remove_cell"
    ]
   },
   "outputs": [
    {
     "name": "stdout",
     "output_type": "stream",
     "text": [
      "Couldn't find program: 'echo'\n"
     ]
    }
   ],
   "source": [
    "%%script echo skipping\n",
    "\n",
    "!jupyter nbconvert pt3.ipynb --TagRemovePreprocessor.enabled=True --TagRemovePreprocessor.remove_cell_tags='{\"remove_cell\"}' --to script"
   ]
  },
  {
   "cell_type": "code",
   "execution_count": 16,
   "metadata": {},
   "outputs": [],
   "source": [
    "# Importing the libraries\n",
    "import numpy as np\n",
    "import matplotlib.pyplot as plt\n",
    "import torch\n",
    "import torch.nn as nn\n",
    "import torch.optim as optim\n",
    "import torch.nn.functional as F\n",
    "import optuna\n",
    "import tensorboardX as tbx\n",
    "\n",
    "# Checking if GPU is available and setting the device accordingly\n",
    "device = torch.device(\"cuda\" if torch.cuda.is_available() else \"cpu\")\n"
   ]
  },
  {
   "attachments": {},
   "cell_type": "markdown",
   "metadata": {},
   "source": [
    "## Constants and flags to set\n",
    "Defining some constants and parameters for convenience."
   ]
  },
  {
   "cell_type": "code",
   "execution_count": 17,
   "metadata": {},
   "outputs": [],
   "source": [
    "\n",
    "N_TRIALS = 100 # Number of trials for hyperparameter optimization\n",
    "OPTIMIZE = False # Whether to optimize the hyperparameters or to use predetermined values from Dieseldorst et al..\n",
    "\n",
    "# Hyperparameters when no hyperparameter optimization is performed. \n",
    "N_LAYERS_NO_OPT = 2\n",
    "N_UNITS_NO_OPT = [600, 200]\n",
    "HIDDEN_ACTIVATION_NAME_NO_OPT = \"Sigmoid\"\n",
    "OUTPUT_ACTIVATION_NAME_NO_OPT = \"ReLU\"\n",
    "LOSS_NAME_NO_OPT = \"MSE\"\n",
    "OPTIMIZER_NAME_NO_OPT = \"Adam\"\n",
    "LR_NO_OPT = 6e-3\n",
    "BATCH_SIZE_NO_OPT = 32\n",
    "N_EPOCHS_NO_OPT = 30\n",
    "SCHEDULER_NAME_NO_OPT = \"ReduceLROnPlateau\"\n",
    "\n",
    "c = 1  # Speed of light (used in compute_conserved_variables and sample_primitive_variables functions)\n",
    "gamma = 5 / 3  # Adiabatic index (used in eos_analytic function)\n",
    "n_train_samples = 80000 # Number of training samples (used in generate_input_data and generate_labels functions)\n",
    "n_test_samples = 10000 # Number of test samples (used in generate_input_data and generate_labels functions)\n",
    "rho_interval = (0, 10.1) # Sampling interval for rest-mass density (used in sample_primitive_variables function)\n",
    "vx_interval = (0, 0.721 * c) # Sampling interval for velocity in x-direction (used in sample_primitive_variables function)\n",
    "epsilon_interval = (0, 2.02) # Sampling interval for specific internal energy (used in sample_primitive_variables function)\n",
    "\n",
    "np.random.seed(1) # Uncomment for pseudorandom data."
   ]
  },
  {
   "cell_type": "markdown",
   "metadata": {},
   "source": [
    "## Generating the data"
   ]
  },
  {
   "cell_type": "code",
   "execution_count": 18,
   "metadata": {},
   "outputs": [],
   "source": [
    "\n",
    "# Defining an analytic equation of state (EOS) for an ideal gas\n",
    "def eos_analytic(rho, epsilon):\n",
    "    \"\"\"Computes the pressure from rest-mass density and specific internal energy using an analytic EOS.\n",
    "\n",
    "    Args:\n",
    "        rho (torch.Tensor): The rest-mass density tensor of shape (n_samples,).\n",
    "        epsilon (torch.Tensor): The specific internal energy tensor of shape (n_samples,).\n",
    "\n",
    "    Returns:\n",
    "        torch.Tensor: The pressure tensor of shape (n_samples,).\n",
    "    \"\"\"\n",
    "    # Adding some assertions to check that the input tensors are valid and have the expected shape and type \n",
    "    assert isinstance(rho, torch.Tensor), \"rho must be a torch.Tensor\"\n",
    "    assert isinstance(epsilon, torch.Tensor), \"epsilon must be a torch.Tensor\"\n",
    "    assert rho.shape == epsilon.shape, \"rho and epsilon must have the same shape\"\n",
    "    assert rho.ndim == 1, \"rho and epsilon must be one-dimensional tensors\"\n",
    "    assert rho.dtype == torch.float32, \"rho and epsilon must have dtype torch.float32\"\n",
    "\n",
    "    return (gamma - 1) * rho * epsilon\n",
    "\n",
    "\n",
    "# Defining a function that samples primitive variables from uniform distributions\n",
    "def sample_primitive_variables(n_samples):\n",
    "    \"\"\"Samples primitive variables from uniform distributions.\n",
    "\n",
    "    Args:\n",
    "        n_samples (int): The number of samples to generate.\n",
    "\n",
    "    Returns:\n",
    "        tuple: A tuple of (rho, vx, epsilon), where rho is rest-mass density,\n",
    "            vx is velocity in x-direction,\n",
    "            epsilon is specific internal energy,\n",
    "            each being a numpy array of shape (n_samples,).\n",
    "    \"\"\"\n",
    "    # Sampling from uniform distributions with intervals matching Dieseldorst et al.\n",
    "    rho = np.random.uniform(*rho_interval, size=n_samples)  # Rest-mass density\n",
    "    vx = np.random.uniform(*vx_interval, size=n_samples)  # Velocity in x-direction\n",
    "    epsilon = np.random.uniform(*epsilon_interval, size=n_samples)  # Specific internal energy\n",
    "\n",
    "    # Returning the primitive variables\n",
    "    return rho, vx, epsilon\n",
    "\n",
    "\n",
    "# Defining a function that computes conserved variables from primitive variables\n",
    "def compute_conserved_variables(rho, vx, epsilon):\n",
    "    \"\"\"Computes conserved variables from primitive variables.\n",
    "\n",
    "    Args:\n",
    "        rho (torch.Tensor): The rest-mass density tensor of shape (n_samples,).\n",
    "        vx (torch.Tensor): The velocity in x-direction tensor of shape (n_samples,).\n",
    "        epsilon (torch.Tensor): The specific internal energy tensor of shape (n_samples,).\n",
    "\n",
    "    Returns:\n",
    "        tuple: A tuple of (D, Sx, tau), where D is conserved density,\n",
    "            Sx is conserved momentum in x-direction,\n",
    "            tau is conserved energy density,\n",
    "            each being a torch tensor of shape (n_samples,).\n",
    "    \"\"\"\n",
    "\n",
    "    # Computing the pressure from the primitive variables using the EOS\n",
    "    p = eos_analytic(rho, epsilon)\n",
    "    # Computing the Lorentz factor from the velocity.\n",
    "    W = 1 / torch.sqrt(1 - vx ** 2 / c ** 2)\n",
    "    # Specific enthalpy\n",
    "    h = 1 + epsilon + p / rho  \n",
    "\n",
    "    # Computing the conserved variables from the primitive variables\n",
    "    D = rho * W  # Conserved density\n",
    "    Sx = rho * h * W ** 2 * vx  # Conserved momentum in x-direction\n",
    "    tau = rho * h * W ** 2 - p - D  # Conserved energy density\n",
    "\n",
    "    # Returning the conserved variables\n",
    "    return D, Sx, tau\n",
    "\n",
    "\n",
    "# Defining a function that generates input data (conserved variables) from random samples of primitive variables\n",
    "def generate_input_data(n_samples):\n",
    "    \"\"\"Generates input data (conserved variables) from random samples of primitive variables.\n",
    "\n",
    "    Args:\n",
    "        n_samples (int): The number of samples to generate.\n",
    "\n",
    "    Returns:\n",
    "        torch.Tensor: The input data tensor of shape (n_samples, 3).\n",
    "    \"\"\"\n",
    "    # Sampling the primitive variables using the sample_primitive_variables function\n",
    "    rho, vx, epsilon = sample_primitive_variables(n_samples)\n",
    "\n",
    "    # Converting the numpy arrays to torch tensors and moving them to the device\n",
    "    rho = torch.tensor(rho, dtype=torch.float32).to(device)\n",
    "    vx = torch.tensor(vx, dtype=torch.float32).to(device)\n",
    "    epsilon = torch.tensor(epsilon, dtype=torch.float32).to(device)\n",
    "\n",
    "    # Computing the conserved variables using the compute_conserved_variables function\n",
    "    D, Sx, tau = compute_conserved_variables(rho, vx, epsilon)\n",
    "\n",
    "    # Stacking the conserved variables into a torch tensor\n",
    "    x = torch.stack([D, Sx, tau], axis=1)\n",
    "\n",
    "    # Returning the input data tensor\n",
    "    return x\n",
    "\n",
    "# Defining a function that generates output data (labels) from random samples of primitive variables\n",
    "def generate_labels(n_samples):\n",
    "    \"\"\"Generates output data (labels) from random samples of primitive variables.\n",
    "\n",
    "    Args:\n",
    "        n_samples (int): The number of samples to generate.\n",
    "\n",
    "    Returns:\n",
    "        torch.Tensor: The output data tensor of shape (n_samples,).\n",
    "    \"\"\"\n",
    "    # Sampling the primitive variables using the sample_primitive_variables function\n",
    "    rho, _, epsilon = sample_primitive_variables(n_samples)\n",
    "\n",
    "    # Converting the numpy arrays to torch tensors and moving them to the device\n",
    "    rho = torch.tensor(rho, dtype=torch.float32).to(device)\n",
    "    epsilon = torch.tensor(epsilon, dtype=torch.float32).to(device)\n",
    "\n",
    "    # Computing the pressure from the primitive variables using the EOS\n",
    "    p = eos_analytic(rho, epsilon)\n",
    "\n",
    "    # Returning the output data tensor\n",
    "    return p\n"
   ]
  },
  {
   "cell_type": "code",
   "execution_count": 19,
   "metadata": {},
   "outputs": [
    {
     "data": {
      "text/plain": [
       "<Figure size 800x400 with 0 Axes>"
      ]
     },
     "execution_count": 19,
     "metadata": {},
     "output_type": "execute_result"
    },
    {
     "data": {
      "text/plain": [
       "<Axes: >"
      ]
     },
     "execution_count": 19,
     "metadata": {},
     "output_type": "execute_result"
    },
    {
     "data": {
      "text/plain": [
       "(array([15765., 10500.,  8450.,  6929.,  5916.,  5065.,  4505.,  3999.,\n",
       "         3422.,  3019.,  2558.,  2218.,  1873.,  1538.,  1293.,  1042.,\n",
       "          775.,   593.,   376.,   164.]),\n",
       " array([4.71082276e-05, 6.71799541e-01, 1.34355199e+00, 2.01530433e+00,\n",
       "        2.68705678e+00, 3.35880923e+00, 4.03056192e+00, 4.70231438e+00,\n",
       "        5.37406635e+00, 6.04581881e+00, 6.71757126e+00, 7.38932371e+00,\n",
       "        8.06107616e+00, 8.73282909e+00, 9.40458107e+00, 1.00763340e+01,\n",
       "        1.07480860e+01, 1.14198389e+01, 1.20915909e+01, 1.27633438e+01,\n",
       "        1.34350958e+01]),\n",
       " <BarContainer object of 20 artists>)"
      ]
     },
     "execution_count": 19,
     "metadata": {},
     "output_type": "execute_result"
    },
    {
     "data": {
      "text/plain": [
       "Text(0.5, 0, 'y_train')"
      ]
     },
     "execution_count": 19,
     "metadata": {},
     "output_type": "execute_result"
    },
    {
     "data": {
      "text/plain": [
       "Text(0, 0.5, 'Frequency')"
      ]
     },
     "execution_count": 19,
     "metadata": {},
     "output_type": "execute_result"
    },
    {
     "data": {
      "text/plain": [
       "<Axes: >"
      ]
     },
     "execution_count": 19,
     "metadata": {},
     "output_type": "execute_result"
    },
    {
     "data": {
      "text/plain": [
       "(array([1926., 1245., 1056.,  896.,  764.,  651.,  511.,  496.,  425.,\n",
       "         383.,  329.,  281.,  275.,  208.,  167.,  127.,   94.,   77.,\n",
       "          58.,   31.]),\n",
       " array([9.00165905e-05, 6.63420200e-01, 1.32675040e+00, 1.99008060e+00,\n",
       "        2.65341091e+00, 3.31674099e+00, 3.98007131e+00, 4.64340162e+00,\n",
       "        5.30673170e+00, 5.97006178e+00, 6.63339186e+00, 7.29672241e+00,\n",
       "        7.96005249e+00, 8.62338257e+00, 9.28671265e+00, 9.95004272e+00,\n",
       "        1.06133728e+01, 1.12767038e+01, 1.19400339e+01, 1.26033640e+01,\n",
       "        1.32666941e+01]),\n",
       " <BarContainer object of 20 artists>)"
      ]
     },
     "execution_count": 19,
     "metadata": {},
     "output_type": "execute_result"
    },
    {
     "data": {
      "text/plain": [
       "Text(0.5, 0, 'y_test')"
      ]
     },
     "execution_count": 19,
     "metadata": {},
     "output_type": "execute_result"
    },
    {
     "data": {
      "text/plain": [
       "Text(0, 0.5, 'Frequency')"
      ]
     },
     "execution_count": 19,
     "metadata": {},
     "output_type": "execute_result"
    },
    {
     "data": {
      "image/png": "[encoded data removed]",
      "text/plain": [
       "<Figure size 800x400 with 2 Axes>"
      ]
     },
     "metadata": {},
     "output_type": "display_data"
    },
    {
     "name": "stdout",
     "output_type": "stream",
     "text": [
      "Shape of x_train: torch.Size([80000, 3])\n",
      "Shape of y_train: torch.Size([80000])\n",
      "Shape of x_test: torch.Size([10000, 3])\n",
      "Shape of y_test: torch.Size([10000])\n"
     ]
    }
   ],
   "source": [
    "\n",
    "# Generating the input and output data for train and test sets using the functions defined\n",
    "# Using the same number of samples as Dieseldorst et al.\n",
    "x_train = generate_input_data(n_train_samples)\n",
    "y_train = generate_labels(n_train_samples) \n",
    "x_test = generate_input_data(n_test_samples) \n",
    "y_test = generate_labels(n_test_samples) \n",
    "\n",
    "# Checking if our output is always positive by plotting a histogram of y_train and y_test tensors \n",
    "plt.figure(figsize=(8, 4))\n",
    "plt.subplot(1, 2, 1)\n",
    "plt.hist(y_train.cpu().numpy(), bins=20)\n",
    "plt.xlabel(\"y_train\")\n",
    "plt.ylabel(\"Frequency\")\n",
    "plt.subplot(1, 2, 2)\n",
    "plt.hist(y_test.cpu().numpy(), bins=20)\n",
    "plt.xlabel(\"y_test\")\n",
    "plt.ylabel(\"Frequency\")\n",
    "plt.tight_layout()\n",
    "plt.show()\n",
    "\n",
    "# Checking the shapes of the data tensors\n",
    "print(\"Shape of x_train:\", x_train.shape)\n",
    "print(\"Shape of y_train:\", y_train.shape)\n",
    "print(\"Shape of x_test:\", x_test.shape)\n",
    "print(\"Shape of y_test:\", y_test.shape)"
   ]
  },
  {
   "cell_type": "markdown",
   "metadata": {},
   "source": [
    "## Defining the neural network"
   ]
  },
  {
   "cell_type": "code",
   "execution_count": 20,
   "metadata": {},
   "outputs": [],
   "source": [
    "# Defining a class for the network\n",
    "class Net(nn.Module):\n",
    "    \"\"\"A class for creating a network with a\n",
    "    variable number of hidden layers and units.\n",
    "\n",
    "    Attributes:\n",
    "        n_layers (int): The number of hidden layers in the network.\n",
    "        n_units (list): A list of integers representing the number of units in each hidden layer.\n",
    "        hidden_activation (torch.nn.Module): The activation function for the hidden layers.\n",
    "        output_activation (torch.nn.Module): The activation function for the output layer.\n",
    "        layers (torch.nn.ModuleList): A list of linear layers in the network.\n",
    "    \"\"\"\n",
    "\n",
    "    def __init__(self, n_layers, n_units, hidden_activation, output_activation):\n",
    "        \"\"\"Initializes the network with the given hyperparameters.\n",
    "\n",
    "        Args:\n",
    "            n_layers (int): The number of hidden layers in the network.\n",
    "            n_units (list): A list of integers representing the number of units in each hidden layer.\n",
    "            hidden_activation (torch.nn.Module): The activation function for the hidden layers.\n",
    "            output_activation (torch.nn.Module): The activation function for the output layer.\n",
    "        \"\"\"\n",
    "        super().__init__()\n",
    "        self.n_layers = n_layers\n",
    "        self.n_units = n_units\n",
    "        self.hidden_activation = hidden_activation\n",
    "        self.output_activation = output_activation\n",
    "\n",
    "        # Creating a list of linear layers with different numbers of units for each layer\n",
    "        self.layers = nn.ModuleList([nn.Linear(3, n_units[0])])\n",
    "        for i in range(1, n_layers):\n",
    "            self.layers.append(nn.Linear(n_units[i - 1], n_units[i]))\n",
    "        self.layers.append(nn.Linear(n_units[-1], 1))\n",
    "\n",
    "        # Adding some assertions to check that the input arguments are valid\n",
    "        assert isinstance(n_layers, int) and n_layers > 0, \"n_layers must be a positive integer\"\n",
    "        assert isinstance(n_units, list) and len(n_units) == n_layers, \"n_units must be a list of length n_layers\"\n",
    "        assert all(isinstance(n, int) and n > 0 for n in n_units), \"n_units must contain positive integers\"\n",
    "        assert isinstance(hidden_activation, nn.Module), \"hidden_activation must be a torch.nn.Module\"\n",
    "        assert isinstance(output_activation, nn.Module), \"output_activation must be a torch.nn.Module\"\n",
    "\n",
    "    def forward(self, x):\n",
    "        \"\"\"Performs a forward pass on the input tensor.\n",
    "\n",
    "        Args:\n",
    "            x (torch.Tensor): The input tensor of shape (batch_size, 3).\n",
    "\n",
    "        Returns:\n",
    "            torch.Tensor: The output tensor of shape (batch_size, 1).\n",
    "        \"\"\"\n",
    "        # Looping over the hidden layers and applying the linear transformation and the activation function\n",
    "        for layer in self.layers[:-1]:\n",
    "            x = self.hidden_activation(layer(x))\n",
    "        # Applying the linear transformation and the activation function on the output layer\n",
    "        x = self.output_activation(self.layers[-1](x))\n",
    "\n",
    "        # Returning the output tensor\n",
    "        return x"
   ]
  },
  {
   "cell_type": "markdown",
   "metadata": {},
   "source": [
    "## Defining the model and search space"
   ]
  },
  {
   "cell_type": "code",
   "execution_count": 21,
   "metadata": {},
   "outputs": [],
   "source": [
    "# Defining a function to create a trial network and optimizer\n",
    "def create_model(trial, optimize):\n",
    "    \"\"\"Creates a trial network and optimizer based on the sampled hyperparameters.\n",
    "\n",
    "    Args:\n",
    "        trial (optuna.trial.Trial): The trial object that contains the hyperparameters.\n",
    "        optimize (boolean): Whether to optimize the hyperparameters or to use predefined values.\n",
    "\n",
    "    Returns:\n",
    "        tuple: A tuple of (net, loss_fn, optimizer, batch_size, n_epochs,\n",
    "            scheduler, loss_name, optimizer_name, scheduler_name,\n",
    "            n_units, n_layers, hidden_activation, output_activation),\n",
    "            where net is the trial network,\n",
    "            loss_fn is the loss function,\n",
    "            optimizer is the optimizer,\n",
    "            batch_size is the batch size,\n",
    "            n_epochs is the number of epochs,\n",
    "            scheduler is the learning rate scheduler,\n",
    "            loss_name is the name of the loss function,\n",
    "            optimizer_name is the name of the optimizer,\n",
    "            scheduler_name is the name of the scheduler,\n",
    "            n_units is a list of integers representing\n",
    "            the number of units in each hidden layer,\n",
    "            n_layers is an integer representing the number of hidden layers in the network,\n",
    "            hidden_activation is a torch.nn.Module representing the activation function for the hidden layers,\n",
    "            output_activation is a torch.nn.Module representing the activation function for the output layer,\n",
    "            lr is the (initial) learning rate.\n",
    "    \"\"\"\n",
    "    # If optimize is True, sample the hyperparameters from the search space\n",
    "    if optimize:\n",
    "        # Sampling the hyperparameters from the search space\n",
    "        n_layers = trial.suggest_int(\"n_layers\", 1, 3)\n",
    "        n_units = [trial.suggest_int(f\"n_units_{i}\", 16, 256) for i in range(n_layers)] \n",
    "        hidden_activation_name = trial.suggest_categorical(\n",
    "            \"hidden_activation\", [\"ReLU\", \"LeakyReLU\", \"ELU\", \"Tanh\", \"Sigmoid\"]\n",
    "        )\n",
    "        output_activation_name = trial.suggest_categorical(\n",
    "            \"output_activation\", [\"Linear\", \"ReLU\"]\n",
    "        ) \n",
    "        loss_name = trial.suggest_categorical(\n",
    "            \"loss\", [\"MSE\", \"MAE\", \"Huber\", \"LogCosh\"] \n",
    "        )\n",
    "        optimizer_name = trial.suggest_categorical(\n",
    "            \"optimizer\", [\"Adam\", \"SGD\", \"RMSprop\", \"Adagrad\"] \n",
    "        )\n",
    "        lr = trial.suggest_loguniform(\"lr\", 1e-4, 1e-2) \n",
    "        batch_size = trial.suggest_int(\"batch_size\", 32, 256)\n",
    "        n_epochs = trial.suggest_int(\"n_epochs\", 50, 100) \n",
    "        scheduler_name = trial.suggest_categorical(\n",
    "            \"scheduler\",\n",
    "            [\"None\", \"CosineAnnealingLR\", \"ReduceLROnPlateau\", \"StepLR\", \"ExponentialLR\"],\n",
    "        )\n",
    "    # If optimize is False, use the predefined values\n",
    "    else:\n",
    "        # Setting the hyperparameters to the predefined values\n",
    "        n_layers = N_LAYERS_NO_OPT\n",
    "        n_units = N_UNITS_NO_OPT\n",
    "        hidden_activation_name = HIDDEN_ACTIVATION_NAME_NO_OPT\n",
    "        output_activation_name = OUTPUT_ACTIVATION_NAME_NO_OPT\n",
    "        loss_name = LOSS_NAME_NO_OPT\n",
    "        optimizer_name = OPTIMIZER_NAME_NO_OPT\n",
    "        lr = LR_NO_OPT\n",
    "        batch_size = BATCH_SIZE_NO_OPT\n",
    "        n_epochs = N_EPOCHS_NO_OPT\n",
    "        scheduler_name = SCHEDULER_NAME_NO_OPT\n",
    "\n",
    "\n",
    "    # Creating the activation functions from their names\n",
    "    if hidden_activation_name == \"ReLU\":\n",
    "        hidden_activation = nn.ReLU()\n",
    "    elif hidden_activation_name == \"LeakyReLU\":\n",
    "        hidden_activation = nn.LeakyReLU() \n",
    "    elif hidden_activation_name == \"ELU\":\n",
    "        hidden_activation = nn.ELU() \n",
    "    elif hidden_activation_name == \"Tanh\":\n",
    "        hidden_activation = nn.Tanh()\n",
    "    else:\n",
    "        hidden_activation = nn.Sigmoid()\n",
    "\n",
    "    if output_activation_name == \"ReLU\":\n",
    "        output_activation = nn.ReLU()\n",
    "    else:\n",
    "        output_activation = nn.Identity()\n",
    "\n",
    "    # Creating the loss function from its name\n",
    "    if loss_name == \"MSE\":\n",
    "        loss_fn = nn.MSELoss()\n",
    "    elif loss_name == \"MAE\":\n",
    "        loss_fn = nn.L1Loss()\n",
    "    elif loss_name == \"Huber\":\n",
    "        loss_fn = nn.SmoothL1Loss() \n",
    "    else:\n",
    "        # Creating the log-cosh loss function\n",
    "        def log_cosh_loss(y_pred, y_true):\n",
    "            return torch.mean(torch.log(torch.cosh(y_pred - y_true)))\n",
    "            \n",
    "        loss_fn = log_cosh_loss\n",
    "\n",
    "    # Creating the network with the sampled hyperparameters\n",
    "    net = Net(\n",
    "        n_layers, n_units, hidden_activation, output_activation\n",
    "    ).to(device)\n",
    "\n",
    "    # Creating the optimizer from its name\n",
    "    if optimizer_name == \"SGD\":\n",
    "        optimizer = optim.SGD(net.parameters(), lr=lr)\n",
    "    elif optimizer_name == \"Adam\":\n",
    "        optimizer = optim.Adam(net.parameters(), lr=lr)\n",
    "    elif optimizer_name == \"RMSprop\":\n",
    "        optimizer = optim.RMSprop(net.parameters(), lr=lr)\n",
    "    else:\n",
    "        # Added creating the Adagrad optimizer\n",
    "        optimizer = optim.Adagrad(net.parameters(), lr=lr)\n",
    "\n",
    "    # Creating the learning rate scheduler from its name\n",
    "    if scheduler_name == \"StepLR\":\n",
    "        scheduler = optim.lr_scheduler.StepLR(optimizer, step_size=10, gamma=0.1)\n",
    "    elif scheduler_name == \"ExponentialLR\":\n",
    "        scheduler = optim.lr_scheduler.ExponentialLR(optimizer, gamma=0.9)\n",
    "    elif scheduler_name == \"CosineAnnealingLR\":\n",
    "        # Added creating the CosineAnnealingLR scheduler\n",
    "        scheduler = optim.lr_scheduler.CosineAnnealingLR(optimizer, T_max=10)\n",
    "    elif scheduler_name == \"ReduceLROnPlateau\":\n",
    "        # Added creating the ReduceLROnPlateau scheduler\n",
    "        # Creating the ReduceLROnPlateau scheduler with a threshold value of 0.01\n",
    "        #scheduler = optim.lr_scheduler.ReduceLROnPlateau(\n",
    "        #    optimizer, mode=\"min\", factor=0.1, patience=10, threshold=0.01\n",
    "        #)\n",
    "        # Use Dieseldorst et al. settings and add to that a minimum lr.\n",
    "        scheduler = optim.lr_scheduler.ReduceLROnPlateau(\n",
    "                    optimizer, mode=\"min\", factor=0.5, patience=5, threshold=0.0005, min_lr=1e-6\n",
    "                )\n",
    "    else:\n",
    "        scheduler = None\n",
    "\n",
    "    # Returning all variables needed for saving and loading\n",
    "    return net, loss_fn, optimizer, batch_size, n_epochs, scheduler, loss_name, optimizer_name, scheduler_name, n_units, n_layers, hidden_activation, output_activation, lr\n"
   ]
  },
  {
   "attachments": {},
   "cell_type": "markdown",
   "metadata": {},
   "source": [
    " ## The training and evaluation loop\n",
    "\n",
    " We first define a couple of functions used in the training and evaluation."
   ]
  },
  {
   "cell_type": "code",
   "execution_count": 22,
   "metadata": {},
   "outputs": [],
   "source": [
    "# Defining a function that computes loss and metrics for a given batch\n",
    "def compute_loss_and_metrics(y_pred, y_true, loss_fn):\n",
    "    \"\"\"Computes loss and metrics for a given batch.\n",
    "\n",
    "    Args:\n",
    "        y_pred (torch.Tensor): The predicted pressure tensor of shape (batch_size, 1).\n",
    "        y_true (torch.Tensor): The true pressure tensor of shape (batch_size,).\n",
    "        loss_fn (torch.nn.Module or function): The loss function to use.\n",
    "\n",
    "    Returns:\n",
    "        tuple: A tuple of (loss, l1_norm), where loss is a scalar tensor,\n",
    "            l1_norm is L1 norm for relative error of pressure,\n",
    "            each being a scalar tensor.\n",
    "            linf_norm is Linf norm for relative error of pressure.\n",
    "    \"\"\"\n",
    "    # Reshaping the target tensor to match the input tensor\n",
    "    y_true = y_true.view(-1, 1)\n",
    "\n",
    "    # Computing the loss using the loss function\n",
    "    loss = loss_fn(y_pred, y_true)\n",
    "\n",
    "    # Computing the relative error of pressure\n",
    "    rel_error = torch.abs((y_pred - y_true) / y_true)\n",
    "\n",
    "    # Computing the L1 norm for the relative error of pressure\n",
    "    l1_norm = torch.mean(rel_error) \n",
    "    # Computing the Linf norm for the relative error of pressure\n",
    "    linf_norm = torch.max(rel_error) \n",
    "\n",
    "    # Returning the loss and metrics\n",
    "    return loss, l1_norm, linf_norm\n",
    "\n",
    "\n",
    "# Defining a function that updates the learning rate scheduler with validation loss if applicable\n",
    "def update_scheduler(scheduler, test_loss):\n",
    "    \"\"\"Updates the learning rate scheduler with validation loss if applicable.\n",
    "\n",
    "    Args:\n",
    "        scheduler (torch.optim.lr_scheduler._LRScheduler or None): The learning rate scheduler to use.\n",
    "        test_loss (float): The validation loss to use.\n",
    "\n",
    "    Returns:\n",
    "        None\n",
    "    \"\"\"\n",
    "    # Checking if scheduler is not None\n",
    "    if scheduler is not None:\n",
    "        # Checking if scheduler is ReduceLROnPlateau\n",
    "        if isinstance(scheduler, optim.lr_scheduler.ReduceLROnPlateau):\n",
    "            # Updating the scheduler with test_loss\n",
    "            scheduler.step(test_loss)\n",
    "        else:\n",
    "            # Updating the scheduler without test_loss\n",
    "            scheduler.step()\n"
   ]
  },
  {
   "attachments": {},
   "cell_type": "markdown",
   "metadata": {},
   "source": [
    "Now for the actual training and evaluation loop,"
   ]
  },
  {
   "cell_type": "code",
   "execution_count": 23,
   "metadata": {},
   "outputs": [],
   "source": [
    "# Defining a function to train and evaluate a network\n",
    "def train_and_eval(net, loss_fn, optimizer, batch_size, n_epochs, scheduler, trial=None):\n",
    "    \"\"\"Trains and evaluates a network.\n",
    "\n",
    "    Args:\n",
    "        net (torch.nn.Module): The network to train and evaluate.\n",
    "        loss_fn (torch.nn.Module or function): The loss function.\n",
    "        optimizer (torch.optim.Optimizer): The optimizer.\n",
    "        batch_size (int): The batch size.\n",
    "        n_epochs (int): The number of epochs.\n",
    "        scheduler (torch.optim.lr_scheduler._LRScheduler or None): The learning rate scheduler.\n",
    "    Returns:\n",
    "        tuple: A tuple of (train_losses, test_losses, train_metrics, test_metrics), where\n",
    "            train_losses is a list of training losses for each epoch,\n",
    "            test_losses is a list of validation losses for each epoch,\n",
    "            train_metrics is a list of dictionaries containing training metrics for each epoch,\n",
    "            test_metrics is a list of dictionaries containing validation metrics for each epoch.\n",
    "    \"\"\"\n",
    "    # Creating data loaders for train and test sets\n",
    "    train_loader = torch.utils.data.DataLoader(\n",
    "        torch.utils.data.TensorDataset(x_train, y_train), batch_size=batch_size, shuffle=True\n",
    "    )\n",
    "    test_loader = torch.utils.data.DataLoader(\n",
    "        torch.utils.data.TensorDataset(x_test, y_test), batch_size=batch_size\n",
    "    )\n",
    "\n",
    "    # Initializing lists to store the losses and metrics for each epoch\n",
    "    train_losses = []\n",
    "    test_losses = []\n",
    "    train_metrics = []\n",
    "    test_metrics = []\n",
    "\n",
    "    # Creating a SummaryWriter object to log data for tensorboard\n",
    "    writer = tbx.SummaryWriter()\n",
    "\n",
    "    # Looping over the epochs\n",
    "    for epoch in range(n_epochs):\n",
    "\n",
    "        # Setting the network to training mode\n",
    "        net.train()\n",
    "\n",
    "        # Initializing variables to store the total loss and metrics for the train set\n",
    "        train_loss = 0.0\n",
    "        train_l1_norm = 0.0\n",
    "        train_linf_norm = 0.0\n",
    "\n",
    "        # Looping over the batches in the train set\n",
    "        for x_batch, y_batch in train_loader:\n",
    "\n",
    "            # Moving the batch tensors to the device\n",
    "            x_batch = x_batch.to(device)\n",
    "            y_batch = y_batch.to(device)\n",
    "\n",
    "            # Zeroing the gradients\n",
    "            optimizer.zero_grad()\n",
    "\n",
    "            # Performing a forward pass and computing the loss and metrics\n",
    "            y_pred = net(x_batch)\n",
    "            loss, l1_norm, linf_norm = compute_loss_and_metrics(\n",
    "                y_pred, y_batch, loss_fn\n",
    "            )\n",
    "\n",
    "\n",
    "            # Performing a backward pass and updating the weights\n",
    "            loss.backward()\n",
    "            optimizer.step()\n",
    "\n",
    "            # Updating the total loss and metrics for the train set\n",
    "            train_loss += loss.item() * x_batch.size(0)\n",
    "            train_l1_norm += l1_norm.item() * x_batch.size(0)\n",
    "            train_linf_norm += linf_norm.item() * x_batch.size(0)\n",
    "\n",
    "        # Computing the average loss and metrics for the train set\n",
    "        train_loss /= len(train_loader.dataset)\n",
    "        train_l1_norm /= len(train_loader.dataset)\n",
    "        train_linf_norm /= len(train_loader.dataset)\n",
    "\n",
    "        # Appending the average loss and metrics for the train set to the lists\n",
    "        train_losses.append(train_loss)\n",
    "        train_metrics.append(\n",
    "            {\n",
    "                \"l1_norm\": train_l1_norm,\n",
    "                \"linf_norm\": train_linf_norm,\n",
    "            }\n",
    "        )\n",
    "\n",
    "        # Logging the average loss and metrics for the train set to tensorboard\n",
    "        writer.add_scalar(\"Loss/train\", train_loss, epoch)\n",
    "        writer.add_scalar(\"L1 norm/train\", train_l1_norm, epoch)\n",
    "        writer.add_scalar(\"Linf norm/train\", train_linf_norm, epoch)\n",
    "\n",
    "        # Setting the network to evaluation mode\n",
    "        net.eval()\n",
    "\n",
    "        # Initializing variables to store the total loss and metrics for the test set\n",
    "        test_loss = 0.0\n",
    "        test_l1_norm = 0.0\n",
    "        test_linf_norm = 0.0\n",
    "\n",
    "        # Looping over the batches in the test set\n",
    "        with torch.no_grad():\n",
    "            for x_batch, y_batch in test_loader:\n",
    "\n",
    "                # Moving the batch tensors to the device\n",
    "                x_batch = x_batch.to(device)\n",
    "                y_batch = y_batch.to(device)\n",
    "\n",
    "                # Performing a forward pass and computing the loss and metrics\n",
    "                y_pred = net(x_batch)\n",
    "                loss, l1_norm, linf_norm = compute_loss_and_metrics(\n",
    "                    y_pred, y_batch, loss_fn\n",
    "                )\n",
    "\n",
    "\n",
    "                # Updating the total loss and metrics for the test set\n",
    "                test_loss += loss.item() * x_batch.size(0)\n",
    "                test_l1_norm += l1_norm.item() * x_batch.size(0)\n",
    "                test_linf_norm += linf_norm.item() * x_batch.size(0)\n",
    "\n",
    "        # Computing the average loss and metrics for the test set\n",
    "        test_loss /= len(test_loader.dataset)\n",
    "        test_l1_norm /= len(test_loader.dataset)\n",
    "        test_linf_norm /= len(test_loader.dataset)\n",
    "\n",
    "        # Appending the average loss and metrics for the test set to the lists\n",
    "        test_losses.append(test_loss)\n",
    "        test_metrics.append(\n",
    "            {\n",
    "                \"l1_norm\": test_l1_norm,\n",
    "                \"linf_norm\": test_linf_norm,\n",
    "            }\n",
    "        )\n",
    "\n",
    "        # Logging the average loss and metrics for the test set to tensorboard\n",
    "        writer.add_scalar(\"Loss/test\", test_loss, epoch)\n",
    "        writer.add_scalar(\"L1 norm/test\", test_l1_norm, epoch)\n",
    "        writer.add_scalar(\"Linf norm/test\", test_linf_norm, epoch)\n",
    "\n",
    "        # Printing the average loss and metrics for both sets for this epoch\n",
    "        print(\n",
    "            f\"Epoch {epoch + 1}: Train Loss: {train_loss:.4f}, Test Loss: {test_loss:.4f}, \"\n",
    "            f\"Train L1 Norm: {train_l1_norm:.4f}, Test L1 Norm: {test_l1_norm:.4f}, \"\n",
    "            f\"Train Linf Norm: {train_linf_norm:.4f}, Test Linf Norm: {test_linf_norm:.4f}\"\n",
    "        )\n",
    "\n",
    "        # Updating the learning rate scheduler with validation loss if applicable\n",
    "        update_scheduler(scheduler, test_loss)\n",
    "\n",
    "        # Reporting the intermediate metric value to Optuna if trial is not None\n",
    "        if trial is not None:\n",
    "            trial.report(test_metrics[-1][\"l1_norm\"], epoch)\n",
    "\n",
    "            # Checking if the trial should be pruned based on the intermediate value if trial is not None\n",
    "            if trial.should_prune():\n",
    "                raise optuna.TrialPruned()\n",
    "\n",
    "    # Closing the SummaryWriter object\n",
    "    writer.close()\n",
    "\n",
    "    # Returning the losses and metrics lists\n",
    "    return train_losses, test_losses, train_metrics, test_metrics"
   ]
  },
  {
   "cell_type": "markdown",
   "metadata": {},
   "source": [
    "## The objective function and hyperparameter tuning"
   ]
  },
  {
   "cell_type": "code",
   "execution_count": 24,
   "metadata": {},
   "outputs": [],
   "source": [
    "# Defining an objective function for Optuna to minimize\n",
    "def objective(trial):\n",
    "    \"\"\"Defines an objective function for Optuna to minimize.\n",
    "\n",
    "    Args:\n",
    "        trial (optuna.trial.Trial): The trial object that contains the hyperparameters.\n",
    "\n",
    "    Returns:\n",
    "        float: The validation L1 norm to minimize.\n",
    "    \"\"\"\n",
    "    # Creating a trial network and optimizer using the create_model function\n",
    "    net, \\\n",
    "    loss_fn, \\\n",
    "    optimizer, \\\n",
    "    batch_size, \\\n",
    "    n_epochs, \\\n",
    "    scheduler, \\\n",
    "    loss_name, \\\n",
    "    optimizer_name, \\\n",
    "    scheduler_name, \\\n",
    "    n_units, \\\n",
    "    n_layers, \\\n",
    "    hidden_activation, \\\n",
    "    output_activation, \\\n",
    "    lr = create_model(trial, optimize=True)\n",
    "\n",
    "    # Training and evaluating the network using the train_and_eval function\n",
    "    _, _, _, test_metrics = train_and_eval(\n",
    "        net, loss_fn, optimizer, batch_size, n_epochs, scheduler, trial\n",
    "    )\n",
    "\n",
    "    # Returning the last validation L1 norm as the objective value to minimize\n",
    "    return test_metrics[-1][\"l1_norm\"]"
   ]
  },
  {
   "cell_type": "code",
   "execution_count": 25,
   "metadata": {},
   "outputs": [],
   "source": [
    "if OPTIMIZE:\n",
    "    # Creating a study object with Optuna with TPE sampler and median pruner \n",
    "    study = optuna.create_study(direction=\"minimize\", sampler=optuna.samplers.TPESampler(), pruner=optuna.pruners.MedianPruner())\n",
    "\n",
    "    # Running Optuna with 100 trials when we are optimizing.\n",
    "    study.optimize(objective, n_trials=N_TRIALS)\n",
    "\n",
    "    # Printing the best trial information\n",
    "    print(\"Best trial:\")\n",
    "    trial = study.best_trial\n",
    "    print(\"  Value: \", trial.value)\n",
    "    print(\"  Params: \")\n",
    "    for key, value in trial.params.items():\n",
    "        print(f\"    {key}: {value}\")\n"
   ]
  },
  {
   "attachments": {},
   "cell_type": "markdown",
   "metadata": {},
   "source": [
    "## Training the model"
   ]
  },
  {
   "cell_type": "code",
   "execution_count": 26,
   "metadata": {},
   "outputs": [],
   "source": [
    "# Creating the best network and optimizer using the best hyperparameters\n",
    "if OPTIMIZE:\n",
    "    net, \\\n",
    "    loss_fn, \\\n",
    "    optimizer, \\\n",
    "    batch_size, \\\n",
    "    n_epochs, \\\n",
    "    scheduler, \\\n",
    "    loss_name, \\\n",
    "    optimizer_name, \\\n",
    "    scheduler_name, \\\n",
    "    n_units, \\\n",
    "    n_layers, \\\n",
    "    hidden_activation, \\\n",
    "    output_activation, \\\n",
    "    lr = create_model(trial, optimize=True)\n",
    "# Creating the network with predefined hyperparameters\n",
    "else:\n",
    "    net, \\\n",
    "    loss_fn, \\\n",
    "    optimizer, \\\n",
    "    batch_size, \\\n",
    "    n_epochs, \\\n",
    "    scheduler, \\\n",
    "    loss_name, \\\n",
    "    optimizer_name, \\\n",
    "    scheduler_name, \\\n",
    "    n_units, \\\n",
    "    n_layers, \\\n",
    "    hidden_activation, \\\n",
    "    output_activation, \\\n",
    "    lr = create_model(trial=None, optimize=False)"
   ]
  },
  {
   "cell_type": "code",
   "execution_count": 27,
   "metadata": {},
   "outputs": [
    {
     "name": "stdout",
     "output_type": "stream",
     "text": [
      "loss_fn: MSELoss()\n",
      "batch_size: 32\n",
      "n_epochs: 30\n",
      "scheduler: <torch.optim.lr_scheduler.ReduceLROnPlateau object at 0x000001C607C0DD90>\n",
      "loss_name: MSE\n",
      "optimizer_name: Adam\n",
      "scheduler_name: ReduceLROnPlateau\n",
      "n_units: [600, 200]\n",
      "n_layers: 2\n",
      "hidden_activation: Sigmoid()\n",
      "output_activation: ReLU()\n"
     ]
    }
   ],
   "source": [
    "print(\"loss_fn:\", loss_fn)\n",
    "print(\"batch_size:\", batch_size)\n",
    "print(\"n_epochs:\", n_epochs)\n",
    "print(\"scheduler:\", scheduler)\n",
    "print(\"loss_name:\", loss_name)\n",
    "print(\"optimizer_name:\", optimizer_name)\n",
    "print(\"scheduler_name:\", scheduler_name)\n",
    "print(\"n_units:\", n_units)\n",
    "print(\"n_layers:\", n_layers)\n",
    "print(\"hidden_activation:\", hidden_activation)\n",
    "print(\"output_activation:\", output_activation)"
   ]
  },
  {
   "cell_type": "code",
   "execution_count": 28,
   "metadata": {},
   "outputs": [
    {
     "name": "stdout",
     "output_type": "stream",
     "text": [
      "Epoch 1: Train Loss: 9.0755, Test Loss: 9.1888, Train L1 Norm: 19.6342, Test L1 Norm: 19.7470, Train Linf Norm: 501.6111, Test Linf Norm: 514.0203\n",
      "Epoch 2: Train Loss: 9.0517, Test Loss: 9.1406, Train L1 Norm: 19.6636, Test L1 Norm: 20.1651, Train Linf Norm: 500.8606, Test Linf Norm: 524.8621\n",
      "Epoch 3: Train Loss: 9.0444, Test Loss: 9.0235, Train L1 Norm: 19.9552, Test L1 Norm: 22.8654, Train Linf Norm: 512.6126, Test Linf Norm: 594.7040\n",
      "Epoch 4: Train Loss: 9.0479, Test Loss: 9.0342, Train L1 Norm: 19.5995, Test L1 Norm: 23.2590, Train Linf Norm: 494.8122, Test Linf Norm: 604.8619\n",
      "Epoch 5: Train Loss: 9.0542, Test Loss: 9.0413, Train L1 Norm: 19.4997, Test L1 Norm: 21.4912, Train Linf Norm: 493.4836, Test Linf Norm: 559.1943\n",
      "Epoch 6: Train Loss: 9.0411, Test Loss: 9.1361, Train L1 Norm: 19.6104, Test L1 Norm: 20.2082, Train Linf Norm: 497.9456, Test Linf Norm: 525.9788\n",
      "Epoch 7: Train Loss: 9.0450, Test Loss: 9.0675, Train L1 Norm: 19.9322, Test L1 Norm: 21.0179, Train Linf Norm: 514.7011, Test Linf Norm: 546.9494\n",
      "Epoch 8: Train Loss: 9.0453, Test Loss: 9.0254, Train L1 Norm: 19.6238, Test L1 Norm: 22.9604, Train Linf Norm: 505.3323, Test Linf Norm: 597.1547\n",
      "Epoch 9: Train Loss: 9.0400, Test Loss: 9.0759, Train L1 Norm: 19.4436, Test L1 Norm: 24.0329, Train Linf Norm: 497.3543, Test Linf Norm: 624.8210\n",
      "Epoch 10: Train Loss: 8.9970, Test Loss: 9.1705, Train L1 Norm: 19.4672, Test L1 Norm: 19.8977, Train Linf Norm: 492.0109, Test Linf Norm: 517.9303\n",
      "Epoch 11: Train Loss: 9.0010, Test Loss: 9.0968, Train L1 Norm: 19.6203, Test L1 Norm: 20.6277, Train Linf Norm: 498.4167, Test Linf Norm: 536.8463\n",
      "Epoch 12: Train Loss: 8.9963, Test Loss: 9.1000, Train L1 Norm: 19.7646, Test L1 Norm: 20.5906, Train Linf Norm: 503.1615, Test Linf Norm: 535.8857\n",
      "Epoch 13: Train Loss: 9.0020, Test Loss: 9.0991, Train L1 Norm: 19.6442, Test L1 Norm: 20.6004, Train Linf Norm: 503.6892, Test Linf Norm: 536.1414\n",
      "Epoch 14: Train Loss: 9.0052, Test Loss: 9.0249, Train L1 Norm: 19.6707, Test L1 Norm: 22.9363, Train Linf Norm: 500.8655, Test Linf Norm: 596.5325\n",
      "Epoch 15: Train Loss: 9.0012, Test Loss: 9.0416, Train L1 Norm: 19.5057, Test L1 Norm: 21.4855, Train Linf Norm: 495.7688, Test Linf Norm: 559.0467\n",
      "Epoch 16: Train Loss: 8.9811, Test Loss: 9.0281, Train L1 Norm: 19.6400, Test L1 Norm: 21.8605, Train Linf Norm: 503.3408, Test Linf Norm: 568.7428\n",
      "Epoch 17: Train Loss: 8.9808, Test Loss: 9.0306, Train L1 Norm: 19.9663, Test L1 Norm: 21.7752, Train Linf Norm: 511.4231, Test Linf Norm: 566.5383\n",
      "Epoch 18: Train Loss: 8.9829, Test Loss: 9.0841, Train L1 Norm: 19.7271, Test L1 Norm: 24.1439, Train Linf Norm: 506.7535, Test Linf Norm: 627.6811\n",
      "Epoch 19: Train Loss: 8.9812, Test Loss: 9.0201, Train L1 Norm: 19.8331, Test L1 Norm: 22.5878, Train Linf Norm: 505.4003, Test Linf Norm: 587.5354\n",
      "Epoch 20: Train Loss: 8.9798, Test Loss: 9.0199, Train L1 Norm: 19.5898, Test L1 Norm: 22.5248, Train Linf Norm: 500.6532, Test Linf Norm: 585.9087\n",
      "Epoch 21: Train Loss: 8.9781, Test Loss: 9.0434, Train L1 Norm: 19.6580, Test L1 Norm: 23.4809, Train Linf Norm: 501.2868, Test Linf Norm: 610.5870\n",
      "Epoch 22: Train Loss: 8.9654, Test Loss: 9.0198, Train L1 Norm: 19.7350, Test L1 Norm: 22.4547, Train Linf Norm: 501.8694, Test Linf Norm: 584.0964\n",
      "Epoch 23: Train Loss: 8.9692, Test Loss: 9.0208, Train L1 Norm: 19.7354, Test L1 Norm: 22.6789, Train Linf Norm: 506.4824, Test Linf Norm: 589.8870\n",
      "Epoch 24: Train Loss: 8.9691, Test Loss: 9.0425, Train L1 Norm: 19.7207, Test L1 Norm: 23.4619, Train Linf Norm: 502.8251, Test Linf Norm: 610.0971\n",
      "Epoch 25: Train Loss: 8.9689, Test Loss: 9.0404, Train L1 Norm: 19.7305, Test L1 Norm: 21.5124, Train Linf Norm: 503.8805, Test Linf Norm: 559.7424\n",
      "Epoch 26: Train Loss: 8.9675, Test Loss: 9.0287, Train L1 Norm: 19.6819, Test L1 Norm: 21.8366, Train Linf Norm: 503.9182, Test Linf Norm: 568.1264\n",
      "Epoch 27: Train Loss: 8.9696, Test Loss: 9.0239, Train L1 Norm: 19.6146, Test L1 Norm: 22.0401, Train Linf Norm: 491.7066, Test Linf Norm: 573.3846\n",
      "Epoch 28: Train Loss: 8.9630, Test Loss: 9.0198, Train L1 Norm: 19.7388, Test L1 Norm: 22.4574, Train Linf Norm: 504.8843, Test Linf Norm: 584.1662\n",
      "Epoch 29: Train Loss: 8.9632, Test Loss: 9.0207, Train L1 Norm: 19.6873, Test L1 Norm: 22.2597, Train Linf Norm: 503.8516, Test Linf Norm: 579.0595\n",
      "Epoch 30: Train Loss: 8.9637, Test Loss: 9.0212, Train L1 Norm: 19.7742, Test L1 Norm: 22.7142, Train Linf Norm: 504.5792, Test Linf Norm: 590.7991\n"
     ]
    }
   ],
   "source": [
    "# Training and evaluating the network using the train_and_eval function\n",
    "train_losses, test_losses, train_metrics, test_metrics = train_and_eval(\n",
    "    net, loss_fn, optimizer, batch_size, n_epochs, scheduler\n",
    ")"
   ]
  },
  {
   "cell_type": "markdown",
   "metadata": {},
   "source": [
    "## Visualizing the results"
   ]
  },
  {
   "cell_type": "code",
   "execution_count": 29,
   "metadata": {},
   "outputs": [
    {
     "data": {
      "text/plain": [
       "<Figure size 1200x800 with 0 Axes>"
      ]
     },
     "execution_count": 29,
     "metadata": {},
     "output_type": "execute_result"
    },
    {
     "data": {
      "text/plain": [
       "<Axes: >"
      ]
     },
     "execution_count": 29,
     "metadata": {},
     "output_type": "execute_result"
    },
    {
     "data": {
      "text/plain": [
       "[<matplotlib.lines.Line2D at 0x1c607c73050>]"
      ]
     },
     "execution_count": 29,
     "metadata": {},
     "output_type": "execute_result"
    },
    {
     "data": {
      "text/plain": [
       "[<matplotlib.lines.Line2D at 0x1c607e01ed0>]"
      ]
     },
     "execution_count": 29,
     "metadata": {},
     "output_type": "execute_result"
    },
    {
     "data": {
      "text/plain": [
       "Text(0.5, 0, 'Epoch')"
      ]
     },
     "execution_count": 29,
     "metadata": {},
     "output_type": "execute_result"
    },
    {
     "data": {
      "text/plain": [
       "Text(0, 0.5, 'Loss')"
      ]
     },
     "execution_count": 29,
     "metadata": {},
     "output_type": "execute_result"
    },
    {
     "data": {
      "text/plain": [
       "<matplotlib.legend.Legend at 0x1c607dd3fd0>"
      ]
     },
     "execution_count": 29,
     "metadata": {},
     "output_type": "execute_result"
    },
    {
     "data": {
      "text/plain": [
       "<Axes: >"
      ]
     },
     "execution_count": 29,
     "metadata": {},
     "output_type": "execute_result"
    },
    {
     "data": {
      "text/plain": [
       "[<matplotlib.lines.Line2D at 0x1c6080c2b50>]"
      ]
     },
     "execution_count": 29,
     "metadata": {},
     "output_type": "execute_result"
    },
    {
     "data": {
      "text/plain": [
       "[<matplotlib.lines.Line2D at 0x1c608111a50>]"
      ]
     },
     "execution_count": 29,
     "metadata": {},
     "output_type": "execute_result"
    },
    {
     "data": {
      "text/plain": [
       "Text(0.5, 0, 'Epoch')"
      ]
     },
     "execution_count": 29,
     "metadata": {},
     "output_type": "execute_result"
    },
    {
     "data": {
      "text/plain": [
       "Text(0, 0.5, 'L1 Norm')"
      ]
     },
     "execution_count": 29,
     "metadata": {},
     "output_type": "execute_result"
    },
    {
     "data": {
      "text/plain": [
       "<matplotlib.legend.Legend at 0x1c6080be210>"
      ]
     },
     "execution_count": 29,
     "metadata": {},
     "output_type": "execute_result"
    },
    {
     "data": {
      "text/plain": [
       "<Axes: >"
      ]
     },
     "execution_count": 29,
     "metadata": {},
     "output_type": "execute_result"
    },
    {
     "data": {
      "text/plain": [
       "[<matplotlib.lines.Line2D at 0x1c608134dd0>]"
      ]
     },
     "execution_count": 29,
     "metadata": {},
     "output_type": "execute_result"
    },
    {
     "data": {
      "text/plain": [
       "[<matplotlib.lines.Line2D at 0x1c608158510>]"
      ]
     },
     "execution_count": 29,
     "metadata": {},
     "output_type": "execute_result"
    },
    {
     "data": {
      "text/plain": [
       "Text(0.5, 0, 'Epoch')"
      ]
     },
     "execution_count": 29,
     "metadata": {},
     "output_type": "execute_result"
    },
    {
     "data": {
      "text/plain": [
       "Text(0, 0.5, 'Linf Norm')"
      ]
     },
     "execution_count": 29,
     "metadata": {},
     "output_type": "execute_result"
    },
    {
     "data": {
      "text/plain": [
       "<matplotlib.legend.Legend at 0x1c608129a10>"
      ]
     },
     "execution_count": 29,
     "metadata": {},
     "output_type": "execute_result"
    },
    {
     "data": {
      "image/png": "[encoded data removed]",
      "text/plain": [
       "<Figure size 1200x800 with 3 Axes>"
      ]
     },
     "metadata": {},
     "output_type": "display_data"
    },
    {
     "data": {
      "text/plain": [
       "<Figure size 800x600 with 0 Axes>"
      ]
     },
     "execution_count": 29,
     "metadata": {},
     "output_type": "execute_result"
    },
    {
     "data": {
      "text/plain": [
       "[<matplotlib.lines.Line2D at 0x1c608256a50>]"
      ]
     },
     "execution_count": 29,
     "metadata": {},
     "output_type": "execute_result"
    },
    {
     "data": {
      "text/plain": [
       "[<matplotlib.lines.Line2D at 0x1c608243510>]"
      ]
     },
     "execution_count": 29,
     "metadata": {},
     "output_type": "execute_result"
    },
    {
     "data": {
      "text/plain": [
       "Text(0.5, 0, 'Epoch')"
      ]
     },
     "execution_count": 29,
     "metadata": {},
     "output_type": "execute_result"
    },
    {
     "data": {
      "text/plain": [
       "Text(0, 0.5, 'MSE')"
      ]
     },
     "execution_count": 29,
     "metadata": {},
     "output_type": "execute_result"
    },
    {
     "data": {
      "text/plain": [
       "<matplotlib.legend.Legend at 0x1c608111250>"
      ]
     },
     "execution_count": 29,
     "metadata": {},
     "output_type": "execute_result"
    },
    {
     "data": {
      "image/png": "[encoded data removed]",
      "text/plain": [
       "<Figure size 800x600 with 1 Axes>"
      ]
     },
     "metadata": {},
     "output_type": "display_data"
    }
   ],
   "source": [
    "# Plotting the losses and metrics for the best network \n",
    "plt.figure(figsize=(12, 8))\n",
    "plt.subplot(2, 2, 1)\n",
    "plt.plot(train_losses, label=\"Train Loss\")\n",
    "plt.plot(test_losses, label=\"Test Loss\")\n",
    "plt.xlabel(\"Epoch\")\n",
    "plt.ylabel(\"Loss\")\n",
    "plt.legend()\n",
    "plt.subplot(2, 2, 2)\n",
    "plt.plot([m[\"l1_norm\"] for m in train_metrics], label=\"Train L1 Norm\")\n",
    "plt.plot([m[\"l1_norm\"] for m in test_metrics], label=\"Test L1 Norm\")\n",
    "plt.xlabel(\"Epoch\")\n",
    "plt.ylabel(\"L1 Norm\")\n",
    "plt.legend()\n",
    "plt.subplot(2, 2, 3)\n",
    "plt.plot([m[\"linf_norm\"] for m in train_metrics], label=\"Train Linf Norm\")\n",
    "plt.plot([m[\"linf_norm\"] for m in test_metrics], label=\"Test Linf Norm\")\n",
    "plt.xlabel(\"Epoch\")\n",
    "plt.ylabel(\"Linf Norm\")\n",
    "plt.legend()\n",
    "plt.tight_layout()\n",
    "plt.show()\n",
    "\n",
    "# Added plotting MSE of training data and MSE of test data in one plot \n",
    "plt.figure(figsize=(8, 6))\n",
    "plt.plot(train_losses,label=\"training data\")\n",
    "plt.plot(test_losses,label=\"test data\")\n",
    "#if scheduler is not None:\n",
    "#    plt.plot([scheduler.get_last_lr()[0] for _ in range(n_epochs)], label=\"Learning rate\") \n",
    "plt.xlabel(\"Epoch\")\n",
    "plt.ylabel(\"MSE\")\n",
    "plt.legend()\n",
    "plt.show()"
   ]
  },
  {
   "cell_type": "markdown",
   "metadata": {},
   "source": [
    "## Saving"
   ]
  },
  {
   "cell_type": "code",
   "execution_count": 30,
   "metadata": {},
   "outputs": [],
   "source": [
    "import json\n",
    "import pandas as pd\n",
    "\n",
    "# save the network to a .pth file\n",
    "torch.save(net.state_dict(), \"net.pth\")\n",
    "\n",
    "# save the optimizer to a .pth file\n",
    "torch.save(optimizer.state_dict(), \"optimizer.pth\")\n",
    "\n",
    "# save the scheduler to a .pth file if it is not None\n",
    "if scheduler is not None:\n",
    "  torch.save(scheduler.state_dict(), \"scheduler.pth\")\n",
    "\n",
    "# create a dictionary to store the rest of the variables\n",
    "var_dict = {\n",
    "  \"batch_size\": batch_size,\n",
    "  \"n_epochs\": n_epochs,\n",
    "  \"loss_name\": loss_name,\n",
    "  \"optimizer_name\": optimizer_name,\n",
    "  \"scheduler_name\": scheduler_name,\n",
    "  \"n_units\": n_units,\n",
    "  \"n_layers\": n_layers,\n",
    "  \"hidden_activation_name\": hidden_activation.__class__.__name__,\n",
    "  \"output_activation_name\": output_activation.__class__.__name__,\n",
    "  \"lr\": lr,\n",
    "}\n",
    "\n",
    "# save the dictionary to a .json file\n",
    "with open(\"var_dict.json\", \"w\") as f:\n",
    "  json.dump(var_dict, f)\n",
    "\n",
    "# Saving the output of the training using pandas\n",
    "train_df = pd.DataFrame(\n",
    "    {\n",
    "        \"train_loss\": train_losses,\n",
    "        \"test_loss\": test_losses,\n",
    "        \"train_l1_norm\": [m[\"l1_norm\"] for m in train_metrics],\n",
    "        \"test_l1_norm\": [m[\"l1_norm\"] for m in test_metrics],\n",
    "        \"train_linf_norm\": [m[\"linf_norm\"] for m in train_metrics],\n",
    "        \"test_linf_norm\": [m[\"linf_norm\"] for m in test_metrics],\n",
    "    }\n",
    ")\n",
    "train_df.to_csv(\"train_output.csv\", index=False)\n"
   ]
  },
  {
   "cell_type": "markdown",
   "metadata": {},
   "source": [
    "## Loading"
   ]
  },
  {
   "cell_type": "code",
   "execution_count": 31,
   "metadata": {},
   "outputs": [
    {
     "data": {
      "text/plain": [
       "<All keys matched successfully>"
      ]
     },
     "execution_count": 31,
     "metadata": {},
     "output_type": "execute_result"
    }
   ],
   "source": [
    "import json\n",
    "import pandas as pd\n",
    "\n",
    "# load the dictionary from the .json file\n",
    "with open(\"var_dict.json\", \"r\") as f:\n",
    "  var_dict_loaded = json.load(f)\n",
    "\n",
    "# extract the variables from the dictionary\n",
    "batch_size_loaded = var_dict_loaded[\"batch_size\"]\n",
    "n_epochs_loaded = var_dict_loaded[\"n_epochs\"]\n",
    "loss_name_loaded = var_dict_loaded[\"loss_name\"]\n",
    "optimizer_name_loaded = var_dict_loaded[\"optimizer_name\"]\n",
    "scheduler_name_loaded = var_dict_loaded[\"scheduler_name\"]\n",
    "n_units_loaded = var_dict_loaded[\"n_units\"]\n",
    "n_layers_loaded = var_dict_loaded[\"n_layers\"]\n",
    "hidden_activation_name_loaded = var_dict_loaded[\"hidden_activation_name\"]\n",
    "output_activation_name_loaded = var_dict_loaded[\"output_activation_name\"]\n",
    "lr_loaded = var_dict_loaded[\"lr\"]\n",
    "\n",
    "# create the activation functions from their names\n",
    "if hidden_activation_name_loaded == \"ReLU\":\n",
    "  hidden_activation_loaded = nn.ReLU()\n",
    "elif hidden_activation_name_loaded == \"LeakyReLU\":\n",
    "  hidden_activation_loaded = nn.LeakyReLU() \n",
    "elif hidden_activation_name_loaded == \"ELU\":\n",
    "  hidden_activation_loaded = nn.ELU() \n",
    "elif hidden_activation_name_loaded == \"Tanh\":\n",
    "  hidden_activation_loaded = nn.Tanh()\n",
    "else:\n",
    "  hidden_activation_loaded = nn.Sigmoid()\n",
    "\n",
    "if output_activation_name_loaded == \"ReLU\":\n",
    "  output_activation_loaded = nn.ReLU()\n",
    "else:\n",
    "  output_activation_loaded = nn.Identity()\n",
    "\n",
    "# load the network from the .pth file\n",
    "net_loaded = Net(n_layers_loaded, n_units_loaded, hidden_activation_loaded, output_activation_loaded).to(device)\n",
    "net_loaded.load_state_dict(torch.load(\"net.pth\"))\n",
    "\n",
    "# create the loss function from its name\n",
    "if loss_name_loaded == \"MSE\":\n",
    "  loss_fn_loaded = nn.MSELoss()\n",
    "elif loss_name_loaded == \"MAE\":\n",
    "  loss_fn_loaded = nn.L1Loss()\n",
    "elif loss_name_loaded == \"Huber\":\n",
    "  loss_fn_loaded = nn.SmoothL1Loss() \n",
    "else:\n",
    "  # create the log-cosh loss function\n",
    "  def log_cosh_loss_loaded(y_pred, y_true):\n",
    "    return torch.mean(torch.log(torch.cosh(y_pred - y_true)))\n",
    "  loss_fn_loaded = log_cosh_loss_loaded\n",
    "\n",
    "# load the optimizer from the .pth file\n",
    "if optimizer_name_loaded == \"SGD\":\n",
    "  optimizer_loaded = optim.SGD(net_loaded.parameters(), lr=lr_loaded)\n",
    "elif optimizer_name_loaded == \"Adam\":\n",
    "  optimizer_loaded = optim.Adam(net_loaded.parameters(), lr=lr_loaded)\n",
    "elif optimizer_name_loaded == \"RMSprop\":\n",
    "  optimizer_loaded = optim.RMSprop(net_loaded.parameters(), lr=lr_loaded)\n",
    "else:\n",
    "  # Added loading the Adagrad optimizer\n",
    "  optimizer_loaded = optim.Adagrad(net_loaded.parameters(), lr=lr_loaded)\n",
    "optimizer_loaded.load_state_dict(torch.load(\"optimizer.pth\"))\n",
    "\n",
    "if scheduler_name_loaded == \"StepLR\":\n",
    "  scheduler_loaded = optim.lr_scheduler.StepLR(optimizer_loaded, step_size=10, gamma=0.1)\n",
    "elif scheduler_name_loaded == \"ExponentialLR\":\n",
    "  scheduler_loaded = optim.lr_scheduler.ExponentialLR(optimizer_loaded, gamma=0.9)\n",
    "elif scheduler_name_loaded == \"CosineAnnealingLR\":\n",
    "  scheduler_loaded = optim.lr_scheduler.CosineAnnealingLR(optimizer_loaded, T_max=10)\n",
    "elif scheduler_name_loaded == \"ReduceLROnPlateau\":\n",
    "  scheduler_loaded = optim.lr_scheduler.ReduceLROnPlateau(\n",
    "                    optimizer_loaded, mode=\"min\", factor=0.5, patience=5, threshold=0.0005, min_lr=1e-6\n",
    "                )\n",
    "else:\n",
    "  scheduler_loaded = None\n",
    "\n",
    "if scheduler_loaded is not None:\n",
    "  scheduler_loaded.load_state_dict(torch.load(\"scheduler.pth\"))\n",
    "            \n",
    "\n",
    "# Loading the output of the training using pandas\n",
    "train_df_loaded = pd.read_csv(\"train_output.csv\")\n",
    "train_losses_loaded = train_df_loaded[\"train_loss\"].tolist()\n",
    "test_losses_loaded = train_df_loaded[\"test_loss\"].tolist()\n",
    "train_metrics_loaded = [\n",
    "    {\n",
    "        \"l1_norm\": train_df_loaded[\"train_l1_norm\"][i],\n",
    "        \"linf_norm\": train_df_loaded[\"train_linf_norm\"][i],\n",
    "    }\n",
    "    for i in range(len(train_df_loaded))\n",
    "]\n",
    "test_metrics_loaded = [\n",
    "    {\n",
    "        \"l1_norm\": train_df_loaded[\"test_l1_norm\"][i],\n",
    "        \"linf_norm\": train_df_loaded[\"test_linf_norm\"][i],\n",
    "    }\n",
    "    for i in range(len(train_df_loaded))\n",
    "]"
   ]
  },
  {
   "cell_type": "code",
   "execution_count": 32,
   "metadata": {},
   "outputs": [
    {
     "data": {
      "text/plain": [
       "32"
      ]
     },
     "execution_count": 32,
     "metadata": {},
     "output_type": "execute_result"
    },
    {
     "data": {
      "text/plain": [
       "30"
      ]
     },
     "execution_count": 32,
     "metadata": {},
     "output_type": "execute_result"
    },
    {
     "data": {
      "text/plain": [
       "'MSE'"
      ]
     },
     "execution_count": 32,
     "metadata": {},
     "output_type": "execute_result"
    },
    {
     "data": {
      "text/plain": [
       "'Adam'"
      ]
     },
     "execution_count": 32,
     "metadata": {},
     "output_type": "execute_result"
    },
    {
     "data": {
      "text/plain": [
       "'ReduceLROnPlateau'"
      ]
     },
     "execution_count": 32,
     "metadata": {},
     "output_type": "execute_result"
    },
    {
     "data": {
      "text/plain": [
       "[600, 200]"
      ]
     },
     "execution_count": 32,
     "metadata": {},
     "output_type": "execute_result"
    },
    {
     "data": {
      "text/plain": [
       "2"
      ]
     },
     "execution_count": 32,
     "metadata": {},
     "output_type": "execute_result"
    },
    {
     "data": {
      "text/plain": [
       "'Sigmoid'"
      ]
     },
     "execution_count": 32,
     "metadata": {},
     "output_type": "execute_result"
    },
    {
     "data": {
      "text/plain": [
       "'ReLU'"
      ]
     },
     "execution_count": 32,
     "metadata": {},
     "output_type": "execute_result"
    },
    {
     "data": {
      "text/plain": [
       "0.006"
      ]
     },
     "execution_count": 32,
     "metadata": {},
     "output_type": "execute_result"
    },
    {
     "data": {
      "text/plain": [
       "Sigmoid()"
      ]
     },
     "execution_count": 32,
     "metadata": {},
     "output_type": "execute_result"
    },
    {
     "data": {
      "text/plain": [
       "ReLU()"
      ]
     },
     "execution_count": 32,
     "metadata": {},
     "output_type": "execute_result"
    },
    {
     "data": {
      "text/plain": [
       "Net(\n",
       "  (hidden_activation): Sigmoid()\n",
       "  (output_activation): ReLU()\n",
       "  (layers): ModuleList(\n",
       "    (0): Linear(in_features=3, out_features=600, bias=True)\n",
       "    (1): Linear(in_features=600, out_features=200, bias=True)\n",
       "    (2): Linear(in_features=200, out_features=1, bias=True)\n",
       "  )\n",
       ")"
      ]
     },
     "execution_count": 32,
     "metadata": {},
     "output_type": "execute_result"
    },
    {
     "data": {
      "text/plain": [
       "MSELoss()"
      ]
     },
     "execution_count": 32,
     "metadata": {},
     "output_type": "execute_result"
    },
    {
     "data": {
      "text/plain": [
       "Adam (\n",
       "Parameter Group 0\n",
       "    amsgrad: False\n",
       "    betas: (0.9, 0.999)\n",
       "    capturable: False\n",
       "    differentiable: False\n",
       "    eps: 1e-08\n",
       "    foreach: None\n",
       "    fused: None\n",
       "    lr: 0.000375\n",
       "    maximize: False\n",
       "    weight_decay: 0\n",
       ")"
      ]
     },
     "execution_count": 32,
     "metadata": {},
     "output_type": "execute_result"
    },
    {
     "data": {
      "text/plain": [
       "<torch.optim.lr_scheduler.ReduceLROnPlateau at 0x1c60a1fbad0>"
      ]
     },
     "execution_count": 32,
     "metadata": {},
     "output_type": "execute_result"
    }
   ],
   "source": [
    "batch_size_loaded\n",
    "n_epochs_loaded\n",
    "loss_name_loaded\n",
    "optimizer_name_loaded\n",
    "scheduler_name_loaded\n",
    "n_units_loaded\n",
    "n_layers_loaded\n",
    "hidden_activation_name_loaded\n",
    "output_activation_name_loaded\n",
    "lr_loaded\n",
    "hidden_activation_loaded\n",
    "output_activation_loaded\n",
    "net_loaded\n",
    "loss_fn_loaded\n",
    "optimizer_loaded\n",
    "scheduler_loaded\n",
    "#train_losses_loaded\n",
    "#test_losses_loaded\n",
    "#train_metrics_loaded\n",
    "#test_metrics_loaded"
   ]
  },
  {
   "attachments": {},
   "cell_type": "markdown",
   "metadata": {},
   "source": [
    "## Evaluating the network on arbirary input\n",
    "### Comparing `net` and `net_loaded`\n",
    "\n",
    "We compare `net` and `net_loaded` to confirm correct loading of the network."
   ]
  },
  {
   "cell_type": "code",
   "execution_count": 33,
   "metadata": {},
   "outputs": [
    {
     "name": "stdout",
     "output_type": "stream",
     "text": [
      "[Parameter containing:\n",
      "tensor([[ 0.9887, -0.4273,  0.2643],\n",
      "        [ 0.2428,  0.0462,  0.2796],\n",
      "        [-0.9244, -0.6041,  0.1286],\n",
      "        ...,\n",
      "        [-0.2677,  0.2487, -0.5183],\n",
      "        [ 0.1792, -0.1531,  0.4387],\n",
      "        [-0.2126,  0.5167,  0.2042]], requires_grad=True), Parameter containing:\n",
      "tensor([ 1.1904e-01,  6.7614e-01, -8.4680e-01, -5.1554e-01,  2.7572e-02,\n",
      "        -4.5595e-01, -4.5601e-02,  7.4211e-02,  2.6079e-01,  3.0072e-01,\n",
      "         3.5281e-01, -3.3332e-01,  4.0445e-01,  2.0769e-01,  6.2183e-02,\n",
      "         4.4856e-02,  6.3571e-01, -3.2752e-02, -4.2531e-01,  3.6487e-01,\n",
      "        -2.7918e-01, -5.2457e-02, -1.6597e-01, -3.0621e-01, -1.8450e-01,\n",
      "         4.3136e-01,  2.3506e-01,  6.0460e-02, -2.4202e-01, -3.3307e-01,\n",
      "         1.8679e-01,  1.5186e-01, -4.4805e-01, -4.8418e-01,  6.0139e-01,\n",
      "         7.2760e-01, -3.1510e-01,  4.9937e-01,  5.4187e-02,  3.4602e-01,\n",
      "         1.4260e-01, -2.6353e-02, -2.2888e-01, -2.3302e-01,  4.6002e-02,\n",
      "        -6.2294e-01, -1.6648e-03, -2.2391e-03, -7.9278e-01, -4.3082e-01,\n",
      "        -1.2700e-01,  5.9688e-01,  2.8542e-01, -2.3973e-01, -3.4789e-01,\n",
      "        -6.1866e-01,  2.1622e-01,  5.2876e-01, -1.7230e-01,  3.2154e-01,\n",
      "         4.9878e-01, -2.9956e-01,  3.1945e-01, -4.2691e-01,  8.3268e-01,\n",
      "         5.2735e-01,  1.2794e-01, -7.1302e-02,  1.8961e-01,  6.3110e-02,\n",
      "         3.1930e-01,  2.5625e-01, -6.4155e-02,  5.3431e-01, -7.0218e-01,\n",
      "        -5.4304e-01, -5.8693e-01,  2.9780e-01, -4.5149e-01, -3.4168e-01,\n",
      "        -1.4621e-01,  2.0948e-01,  2.1732e-01, -1.4128e-01,  4.0344e-01,\n",
      "         2.8747e-01,  3.9372e-01, -3.1292e-01,  2.4392e-01,  1.1970e-01,\n",
      "        -7.5462e-02,  4.0306e-01,  2.0921e-01,  1.8013e-01, -1.0392e+00,\n",
      "        -8.5744e-02,  1.8538e-01,  3.2307e-01,  6.9650e-01,  8.0237e-01,\n",
      "         2.7559e-01,  1.1011e-01,  5.6704e-01,  8.3095e-01, -2.9971e-01,\n",
      "         9.4795e-01,  6.5072e-01,  2.8464e-01, -1.1232e+00,  5.8336e-01,\n",
      "         5.5159e-01, -3.6584e-01, -3.1277e-02, -7.6215e-01, -4.2050e-01,\n",
      "        -3.2338e-02,  4.6822e-01,  5.4793e-01, -4.3384e-01,  8.1853e-01,\n",
      "         1.5300e-01,  8.0526e-02,  9.2853e-02, -5.4166e-01, -4.0368e-01,\n",
      "         3.2871e-01,  2.2645e-01,  2.7316e-01,  5.4559e-01, -1.6613e-02,\n",
      "        -4.4954e-01, -2.2176e-01, -5.6003e-01,  3.0890e-01, -1.4935e-02,\n",
      "         5.2466e-01, -5.3152e-01,  7.3748e-01, -3.3522e-01, -5.0951e-01,\n",
      "        -6.6121e-01, -4.5355e-01, -3.2825e-01, -3.0314e-01, -2.3268e-01,\n",
      "        -4.8601e-01,  5.0746e-01, -3.4439e-01, -3.1402e-01,  3.3691e-01,\n",
      "         3.9854e-02,  4.6685e-01,  2.3948e-01, -6.0165e-01, -4.8621e-01,\n",
      "         2.6700e-01,  2.8980e-01,  6.8318e-02,  3.2334e-01, -7.8827e-01,\n",
      "         1.1061e-01, -5.0811e-01,  8.6046e-01, -2.6374e-01,  2.1863e-01,\n",
      "         4.8316e-01, -1.6235e-01, -1.9083e-01,  1.3795e-01,  6.5810e-04,\n",
      "        -2.9976e-02, -2.1037e-01,  1.6864e-01, -2.1656e-01,  3.5634e-01,\n",
      "        -2.2912e-02, -7.7685e-01,  2.8117e-01, -1.0177e-01, -3.3343e-01,\n",
      "        -3.5823e-01, -3.8301e-01,  1.8684e-01,  2.2722e-01,  3.6455e-01,\n",
      "        -3.0284e-01, -1.2389e-01,  5.4028e-01, -9.4175e-03,  7.8287e-01,\n",
      "         2.7159e-01, -3.5673e-01, -1.2498e-01,  3.2115e-02, -1.4034e-01,\n",
      "         7.9715e-01,  7.8679e-01,  1.6728e-01, -3.2322e-01, -7.9688e-02,\n",
      "        -3.1237e-01, -7.5206e-01, -3.6513e-01,  8.6278e-01,  1.8358e-01,\n",
      "        -9.3285e-01,  3.7913e-01,  1.2205e+00,  4.7166e-01, -8.9417e-02,\n",
      "         6.9567e-04,  2.3266e-01,  6.7992e-01, -8.3586e-01,  7.0585e-01,\n",
      "         3.1852e-01,  7.8876e-01, -1.7421e-01, -5.3459e-01, -8.2815e-02,\n",
      "         6.2544e-01, -6.6049e-01,  2.2575e-01,  1.1715e-01,  1.0562e+00,\n",
      "         6.5693e-01,  6.2470e-01,  2.3475e-01, -3.9422e-01,  2.2040e-01,\n",
      "        -2.8863e-01,  3.6985e-01,  4.5013e-01,  3.3991e-02, -4.9183e-02,\n",
      "         2.5803e-01, -6.0163e-01,  3.9525e-01, -2.3185e-01,  7.5450e-01,\n",
      "        -3.6519e-01,  2.8851e-01,  3.8073e-01, -3.2179e-01,  6.5560e-01,\n",
      "        -1.8586e-01,  8.9920e-01,  3.0710e-02, -1.1595e+00,  5.0067e-01,\n",
      "         3.6330e-01,  2.4023e-01,  7.7339e-01,  4.1852e-01, -3.9747e-01,\n",
      "         7.7109e-01, -7.9493e-01,  1.5263e-01,  3.6685e-01, -4.5167e-01,\n",
      "         5.9954e-01,  3.2850e-01, -1.9347e-01, -4.3040e-01,  9.7297e-02,\n",
      "         8.3269e-01,  1.3524e-01,  4.9403e-01, -5.2777e-01,  5.2295e-01,\n",
      "        -3.6739e-01, -7.3919e-01,  7.0053e-01, -3.4569e-01,  6.4199e-02,\n",
      "         6.1591e-01,  6.5258e-01,  2.6099e-01,  3.3907e-01, -3.7705e-01,\n",
      "         3.7149e-01, -1.0323e+00,  3.3876e-01,  2.5350e-01,  6.6640e-02,\n",
      "        -4.9029e-01,  9.9538e-01, -8.0673e-01,  5.1845e-01, -8.8879e-01,\n",
      "         1.7239e-01, -4.8273e-01,  2.6084e-01, -3.4732e-01, -7.5119e-01,\n",
      "        -1.5768e-01, -9.5561e-03, -2.6122e-01, -4.1158e-01,  4.0459e-01,\n",
      "        -3.3630e-01,  8.9989e-02,  1.9649e-01, -2.5527e-02, -7.3486e-01,\n",
      "        -4.2103e-01, -1.6710e-01, -2.5238e-01, -8.3831e-01,  5.5532e-01,\n",
      "        -2.5585e-02, -2.2217e-01,  4.5004e-01, -7.8229e-01, -3.4648e-01,\n",
      "         1.0524e-01,  7.0798e-01,  2.5381e-01,  5.0187e-01, -2.9383e-01,\n",
      "        -2.2215e-01, -4.3567e-01,  6.5436e-01,  2.0383e-01, -6.4408e-01,\n",
      "        -8.0923e-01, -3.8892e-02,  4.7330e-01,  9.8693e-02,  4.2589e-01,\n",
      "         1.7709e-01, -2.8974e-01,  5.2421e-01,  1.5829e-02,  1.8332e-01,\n",
      "         2.7608e-01,  2.7877e-01,  5.4089e-03,  4.9327e-01,  4.5019e-02,\n",
      "         4.4043e-01,  2.6532e-02,  1.2667e+00, -1.5312e-01,  3.8715e-01,\n",
      "        -2.4319e-01, -5.1445e-02, -3.3188e-01,  1.9689e-01, -8.1941e-01,\n",
      "         7.0554e-02, -1.0990e-01,  5.1790e-02, -5.8679e-01,  1.2947e-01,\n",
      "         3.1311e-01,  2.6189e-01,  2.4308e-01, -2.9350e-03,  2.8263e-01,\n",
      "         3.8924e-01, -3.9731e-01,  1.0377e+00, -5.8005e-01,  1.2680e-01,\n",
      "        -9.5194e-01,  4.0699e-01, -7.9565e-01, -7.2752e-01,  5.1282e-01,\n",
      "        -9.6065e-02, -2.5785e-01, -1.1314e-01, -2.1646e-01,  4.4257e-01,\n",
      "         3.3476e-01,  8.5089e-01, -9.9944e-02,  4.9228e-01,  1.7012e-01,\n",
      "        -3.2274e-01, -3.7089e-01,  1.6193e-01, -4.8037e-02, -6.1303e-02,\n",
      "         8.1948e-01,  3.5566e-01,  2.7798e-01,  1.2383e-01,  8.5411e-01,\n",
      "         3.1741e-01, -1.0624e-01,  3.7501e-01,  1.5985e-02,  7.1546e-02,\n",
      "         5.4083e-01, -6.4911e-01,  7.9168e-01, -6.3276e-01,  3.8814e-01,\n",
      "        -1.1858e-01, -2.5816e-01,  6.1303e-01, -8.0352e-01, -1.4456e-01,\n",
      "        -2.8263e-01,  1.1842e-01,  1.1004e-01, -1.9511e-01,  6.1865e-01,\n",
      "         3.3335e-01,  5.6857e-01, -1.2646e-01,  8.3894e-01,  6.6704e-02,\n",
      "        -1.8977e-01,  2.2850e-01, -6.8961e-01,  1.8870e-01, -4.5022e-01,\n",
      "         2.9012e-01,  7.5890e-01, -1.9485e-01,  5.1679e-01,  4.9405e-01,\n",
      "         5.6845e-01,  4.0043e-01, -2.4175e-01, -3.6946e-01,  3.7890e-01,\n",
      "         5.3182e-01,  2.1775e-01,  1.5655e-01, -6.5773e-01, -2.1576e-01,\n",
      "        -3.6421e-01, -3.7985e-01,  4.5258e-01, -1.5406e-01, -4.8925e-01,\n",
      "        -7.2254e-01,  2.9332e-01,  5.6161e-01,  2.7446e-01, -3.1923e-01,\n",
      "         6.8446e-02,  2.3309e-01,  9.7352e-01,  5.3121e-03,  1.0335e-02,\n",
      "        -1.5422e-01,  1.5991e-01,  6.2389e-02,  6.6206e-02, -8.4271e-02,\n",
      "        -1.6072e-01,  1.3520e-01,  2.8228e-01,  1.0654e-02,  2.0204e-03,\n",
      "         4.7126e-01,  2.7306e-01,  3.5551e-01, -2.6493e-01, -6.6990e-01,\n",
      "         1.7078e-01,  6.9302e-01, -4.6593e-01,  4.6290e-01, -2.9910e-01,\n",
      "        -3.0773e-01,  3.6440e-01,  1.1705e-01,  8.1055e-01, -9.3197e-01,\n",
      "         6.2285e-02, -5.1928e-01, -9.0759e-02,  5.0155e-02, -2.4601e-01,\n",
      "        -1.2757e+00, -9.7430e-02,  9.1277e-02,  7.5005e-01,  6.7786e-01,\n",
      "        -3.7003e-01, -4.1011e-01,  4.6384e-01, -8.8761e-02, -2.8662e-01,\n",
      "        -7.9105e-01,  2.4649e-02,  4.9202e-01, -5.5020e-01, -4.2882e-01,\n",
      "        -8.3599e-01, -5.7811e-02,  2.0584e-01, -3.1411e-01,  2.3199e-01,\n",
      "         4.4204e-01, -2.2542e-02, -2.5464e-01,  6.9329e-02, -1.7868e-01,\n",
      "        -2.0088e-01, -7.2026e-01,  3.2312e-01,  9.9845e-02, -2.5226e-01,\n",
      "        -1.7269e-01,  6.3560e-01,  1.8283e-01, -2.9208e-01, -2.9642e-01,\n",
      "        -3.7363e-02,  7.7825e-01,  3.5679e-01, -7.1926e-01, -6.6802e-02,\n",
      "        -4.8982e-01,  4.5263e-01, -1.4076e-01,  3.5409e-01, -5.5084e-01,\n",
      "         3.9090e-01, -6.3789e-02, -2.3109e-01, -2.4247e-01,  4.1917e-02,\n",
      "         4.2208e-01,  6.4207e-01, -6.3049e-01,  8.8959e-01, -7.7358e-02,\n",
      "        -4.9286e-01,  5.4093e-01,  3.5884e-01,  4.2929e-01,  2.9686e-01,\n",
      "         2.7668e-01, -8.4246e-02,  7.6079e-01,  2.4844e-01, -3.6529e-01,\n",
      "         9.7946e-01,  2.4301e-01,  4.3411e-01,  5.3216e-01, -2.8105e-01,\n",
      "        -5.0055e-01, -4.4762e-01,  5.9562e-01,  6.7402e-01, -3.1278e-01,\n",
      "         7.4714e-02, -1.4703e-01,  5.3019e-01,  4.7800e-01,  8.4013e-02,\n",
      "        -8.5537e-01,  2.6439e-01,  4.2088e-01, -1.9843e-01, -1.3684e-02,\n",
      "         6.6048e-01,  5.3832e-01,  8.2307e-01, -5.9162e-01, -3.6344e-01,\n",
      "         3.4618e-01,  2.8089e-01,  1.9354e-01,  7.9905e-02,  4.2882e-02,\n",
      "        -3.7108e-03,  9.6407e-01,  1.4641e-01,  5.5970e-01,  6.9980e-01,\n",
      "         5.7739e-02, -2.0410e-01, -6.5423e-02, -1.5570e-01,  7.2906e-01,\n",
      "         5.9992e-01,  1.2165e+00, -2.7342e-01,  5.9520e-01,  4.6195e-01,\n",
      "        -7.7120e-02,  7.2359e-01, -1.4398e-01,  2.2244e-01, -3.9207e-01,\n",
      "         4.5451e-01, -1.7553e-01,  1.1043e-01, -4.7120e-01,  4.0730e-01],\n",
      "       requires_grad=True), Parameter containing:\n",
      "tensor([[-0.1088, -0.0098, -0.0862,  ..., -0.0487, -0.1897, -0.0357],\n",
      "        [-0.0600, -0.0757, -0.0245,  ..., -0.0546, -0.0730, -0.0573],\n",
      "        [-0.0637, -0.0530,  0.0201,  ..., -0.0606, -0.1221, -0.0251],\n",
      "        ...,\n",
      "        [-0.1209, -0.0247, -0.0748,  ..., -0.0648, -0.0910, -0.0805],\n",
      "        [ 0.1120,  0.0512,  0.0744,  ...,  0.0936,  0.0978,  0.0477],\n",
      "        [-0.0706, -0.0973, -0.0703,  ..., -0.0537, -0.0930, -0.0716]],\n",
      "       requires_grad=True), Parameter containing:\n",
      "tensor([-0.0344, -0.0264, -0.0903, -0.0374, -0.0771, -0.0222, -0.0302, -0.0158,\n",
      "         0.0586,  0.0380,  0.0499,  0.0803, -0.0787, -0.0197, -0.2265, -0.0234,\n",
      "        -0.0482, -0.0830, -0.0220, -0.0357, -0.0480,  0.0568,  0.0743, -0.0466,\n",
      "        -0.0220, -0.1290, -0.0107,  0.1372,  0.0707, -0.0215,  0.0817, -0.0446,\n",
      "        -0.0306, -0.1201, -0.0219, -0.1582, -0.0600, -0.0215, -0.0190, -0.0611,\n",
      "        -0.0554,  0.0504, -0.0042,  0.0690, -0.0920, -0.0199, -0.0569, -0.0451,\n",
      "        -0.0832,  0.0591,  0.0790, -0.0451,  0.0368, -0.0069, -0.0776, -0.0627,\n",
      "        -0.0180, -0.0592, -0.0504, -0.1184, -0.0348,  0.0750, -0.0695, -0.0484,\n",
      "        -0.0231, -0.0542,  0.0554, -0.0367, -0.0479, -0.1638, -0.0569,  0.0586,\n",
      "         0.1659, -0.0065, -0.0226, -0.0828, -0.0224, -0.0558,  0.0290, -0.0791,\n",
      "        -0.0463, -0.0688, -0.0565,  0.2260, -0.0046, -0.0975, -0.0686, -0.0529,\n",
      "         0.0373, -0.0434,  0.0343, -0.0739,  0.0669,  0.0411, -0.0065, -0.0444,\n",
      "         0.1175, -0.0449, -0.0616, -0.0719,  0.0708, -0.0729, -0.0439,  0.0343,\n",
      "        -0.0763, -0.0092,  0.1006, -0.0284, -0.0434,  0.2137, -0.0745, -0.0764,\n",
      "         0.1474, -0.0042, -0.0420, -0.1185, -0.2865,  0.0664, -0.0223,  0.0903,\n",
      "        -0.0717,  0.0948,  0.0537, -0.0545, -0.0567,  0.1990,  0.1106, -0.0148,\n",
      "        -0.0166, -0.0096, -0.0614,  0.0797, -0.0284, -0.1756, -0.0419, -0.0740,\n",
      "        -0.1010,  0.0861,  0.0495, -0.0270, -0.0601, -0.0460, -0.1042,  0.0299,\n",
      "         0.1347, -0.0052, -0.0583, -0.0384, -0.0377, -0.0865,  0.0638,  0.2102,\n",
      "        -0.0574,  0.0684, -0.0545, -0.0654,  0.0753, -0.0137,  0.2035,  0.1479,\n",
      "        -0.1714,  0.0253, -0.1184, -0.0832, -0.0718,  0.0798,  0.0363, -0.0319,\n",
      "        -0.0722, -0.0430, -0.0330, -0.0158, -0.0920, -0.2526, -0.0157, -0.0678,\n",
      "        -0.0591, -0.0343, -0.0130,  0.0849, -0.0435,  0.0424, -0.0731,  0.0827,\n",
      "         0.1746, -0.0584,  0.0533, -0.0378, -0.0647,  0.0636, -0.0621,  0.0499,\n",
      "         0.1076, -0.0696, -0.0861,  0.1026,  0.1652, -0.0753,  0.0759, -0.0327],\n",
      "       requires_grad=True), Parameter containing:\n",
      "tensor([[-0.0544, -0.1354, -0.1469, -0.0160, -0.1602, -0.1594, -0.0853, -0.1521,\n",
      "          0.0620,  0.0457,  0.0821,  0.0751,  0.0053, -0.1563, -0.0034, -0.1348,\n",
      "         -0.1475, -0.1683, -0.1486, -0.1260,  0.0022,  0.0534,  0.0367, -0.0499,\n",
      "         -0.1674,  0.0085, -0.0568,  0.0588,  0.0802, -0.1418,  0.0391, -0.1563,\n",
      "         -0.1695, -0.0162, -0.1563,  0.0041, -0.1418, -0.1293, -0.1335, -0.1600,\n",
      "         -0.1414,  0.0560, -0.1374,  0.0399,  0.0106,  0.0056,  0.0014,  0.0056,\n",
      "         -0.1431,  0.0411,  0.0653, -0.1447,  0.0685,  0.0003,  0.0119, -0.1246,\n",
      "         -0.1560, -0.1437,  0.0108,  0.0236,  0.0014,  0.0809, -0.1583,  0.0160,\n",
      "         -0.1470, -0.0079,  0.0691, -0.1552, -0.1405,  0.0156, -0.1380,  0.0692,\n",
      "          0.0397, -0.0630, -0.1557,  0.0087, -0.1425, -0.1362,  0.0733, -0.1091,\n",
      "         -0.0524, -0.1576,  0.0020,  0.0509, -0.1299,  0.0062, -0.1656, -0.1498,\n",
      "          0.0493, -0.1339,  0.0601, -0.0492,  0.0372,  0.0523, -0.1390, -0.1341,\n",
      "          0.0272,  0.0002,  0.0069, -0.1634,  0.0770,  0.0083, -0.1420,  0.0631,\n",
      "         -0.1580, -0.0450,  0.0567, -0.1528, -0.1325,  0.0362, -0.1226,  0.0092,\n",
      "          0.0731, -0.1418, -0.0051,  0.0105,  0.0158,  0.0549, -0.1305,  0.0764,\n",
      "          0.0078,  0.0663,  0.0751, -0.1703,  0.0079,  0.0390,  0.0411, -0.0143,\n",
      "         -0.1210, -0.1486, -0.1311,  0.0518, -0.1382,  0.0170, -0.1645, -0.0085,\n",
      "          0.0060,  0.0159,  0.0537, -0.1674, -0.1587, -0.1489,  0.0017,  0.0779,\n",
      "          0.0756, -0.1138, -0.1389, -0.1302, -0.1693,  0.0143,  0.0633,  0.0520,\n",
      "         -0.0255,  0.0455, -0.1626, -0.1500,  0.0698, -0.1593,  0.0386,  0.0536,\n",
      "          0.0204,  0.0536, -0.0060, -0.1339, -0.1258,  0.0304,  0.0220, -0.1621,\n",
      "          0.0153, -0.1590, -0.1418, -0.1556,  0.0170,  0.0315, -0.1336, -0.1565,\n",
      "          0.0146, -0.1408, -0.1402,  0.0420, -0.1407,  0.0347,  0.0023,  0.0760,\n",
      "          0.0764, -0.0169,  0.0439, -0.1452,  0.0100,  0.0621, -0.1376,  0.0395,\n",
      "          0.0580, -0.0262,  0.0128,  0.0695,  0.0546,  0.0125,  0.0349,  0.0197]],\n",
      "       requires_grad=True), Parameter containing:\n",
      "tensor([0.0937], requires_grad=True)]\n"
     ]
    }
   ],
   "source": [
    "print(list(net.parameters()))"
   ]
  },
  {
   "cell_type": "code",
   "execution_count": 34,
   "metadata": {},
   "outputs": [
    {
     "name": "stdout",
     "output_type": "stream",
     "text": [
      "[Parameter containing:\n",
      "tensor([[ 0.9887, -0.4273,  0.2643],\n",
      "        [ 0.2428,  0.0462,  0.2796],\n",
      "        [-0.9244, -0.6041,  0.1286],\n",
      "        ...,\n",
      "        [-0.2677,  0.2487, -0.5183],\n",
      "        [ 0.1792, -0.1531,  0.4387],\n",
      "        [-0.2126,  0.5167,  0.2042]], requires_grad=True), Parameter containing:\n",
      "tensor([ 1.1904e-01,  6.7614e-01, -8.4680e-01, -5.1554e-01,  2.7572e-02,\n",
      "        -4.5595e-01, -4.5601e-02,  7.4211e-02,  2.6079e-01,  3.0072e-01,\n",
      "         3.5281e-01, -3.3332e-01,  4.0445e-01,  2.0769e-01,  6.2183e-02,\n",
      "         4.4856e-02,  6.3571e-01, -3.2752e-02, -4.2531e-01,  3.6487e-01,\n",
      "        -2.7918e-01, -5.2457e-02, -1.6597e-01, -3.0621e-01, -1.8450e-01,\n",
      "         4.3136e-01,  2.3506e-01,  6.0460e-02, -2.4202e-01, -3.3307e-01,\n",
      "         1.8679e-01,  1.5186e-01, -4.4805e-01, -4.8418e-01,  6.0139e-01,\n",
      "         7.2760e-01, -3.1510e-01,  4.9937e-01,  5.4187e-02,  3.4602e-01,\n",
      "         1.4260e-01, -2.6353e-02, -2.2888e-01, -2.3302e-01,  4.6002e-02,\n",
      "        -6.2294e-01, -1.6648e-03, -2.2391e-03, -7.9278e-01, -4.3082e-01,\n",
      "        -1.2700e-01,  5.9688e-01,  2.8542e-01, -2.3973e-01, -3.4789e-01,\n",
      "        -6.1866e-01,  2.1622e-01,  5.2876e-01, -1.7230e-01,  3.2154e-01,\n",
      "         4.9878e-01, -2.9956e-01,  3.1945e-01, -4.2691e-01,  8.3268e-01,\n",
      "         5.2735e-01,  1.2794e-01, -7.1302e-02,  1.8961e-01,  6.3110e-02,\n",
      "         3.1930e-01,  2.5625e-01, -6.4155e-02,  5.3431e-01, -7.0218e-01,\n",
      "        -5.4304e-01, -5.8693e-01,  2.9780e-01, -4.5149e-01, -3.4168e-01,\n",
      "        -1.4621e-01,  2.0948e-01,  2.1732e-01, -1.4128e-01,  4.0344e-01,\n",
      "         2.8747e-01,  3.9372e-01, -3.1292e-01,  2.4392e-01,  1.1970e-01,\n",
      "        -7.5462e-02,  4.0306e-01,  2.0921e-01,  1.8013e-01, -1.0392e+00,\n",
      "        -8.5744e-02,  1.8538e-01,  3.2307e-01,  6.9650e-01,  8.0237e-01,\n",
      "         2.7559e-01,  1.1011e-01,  5.6704e-01,  8.3095e-01, -2.9971e-01,\n",
      "         9.4795e-01,  6.5072e-01,  2.8464e-01, -1.1232e+00,  5.8336e-01,\n",
      "         5.5159e-01, -3.6584e-01, -3.1277e-02, -7.6215e-01, -4.2050e-01,\n",
      "        -3.2338e-02,  4.6822e-01,  5.4793e-01, -4.3384e-01,  8.1853e-01,\n",
      "         1.5300e-01,  8.0526e-02,  9.2853e-02, -5.4166e-01, -4.0368e-01,\n",
      "         3.2871e-01,  2.2645e-01,  2.7316e-01,  5.4559e-01, -1.6613e-02,\n",
      "        -4.4954e-01, -2.2176e-01, -5.6003e-01,  3.0890e-01, -1.4935e-02,\n",
      "         5.2466e-01, -5.3152e-01,  7.3748e-01, -3.3522e-01, -5.0951e-01,\n",
      "        -6.6121e-01, -4.5355e-01, -3.2825e-01, -3.0314e-01, -2.3268e-01,\n",
      "        -4.8601e-01,  5.0746e-01, -3.4439e-01, -3.1402e-01,  3.3691e-01,\n",
      "         3.9854e-02,  4.6685e-01,  2.3948e-01, -6.0165e-01, -4.8621e-01,\n",
      "         2.6700e-01,  2.8980e-01,  6.8318e-02,  3.2334e-01, -7.8827e-01,\n",
      "         1.1061e-01, -5.0811e-01,  8.6046e-01, -2.6374e-01,  2.1863e-01,\n",
      "         4.8316e-01, -1.6235e-01, -1.9083e-01,  1.3795e-01,  6.5810e-04,\n",
      "        -2.9976e-02, -2.1037e-01,  1.6864e-01, -2.1656e-01,  3.5634e-01,\n",
      "        -2.2912e-02, -7.7685e-01,  2.8117e-01, -1.0177e-01, -3.3343e-01,\n",
      "        -3.5823e-01, -3.8301e-01,  1.8684e-01,  2.2722e-01,  3.6455e-01,\n",
      "        -3.0284e-01, -1.2389e-01,  5.4028e-01, -9.4175e-03,  7.8287e-01,\n",
      "         2.7159e-01, -3.5673e-01, -1.2498e-01,  3.2115e-02, -1.4034e-01,\n",
      "         7.9715e-01,  7.8679e-01,  1.6728e-01, -3.2322e-01, -7.9688e-02,\n",
      "        -3.1237e-01, -7.5206e-01, -3.6513e-01,  8.6278e-01,  1.8358e-01,\n",
      "        -9.3285e-01,  3.7913e-01,  1.2205e+00,  4.7166e-01, -8.9417e-02,\n",
      "         6.9567e-04,  2.3266e-01,  6.7992e-01, -8.3586e-01,  7.0585e-01,\n",
      "         3.1852e-01,  7.8876e-01, -1.7421e-01, -5.3459e-01, -8.2815e-02,\n",
      "         6.2544e-01, -6.6049e-01,  2.2575e-01,  1.1715e-01,  1.0562e+00,\n",
      "         6.5693e-01,  6.2470e-01,  2.3475e-01, -3.9422e-01,  2.2040e-01,\n",
      "        -2.8863e-01,  3.6985e-01,  4.5013e-01,  3.3991e-02, -4.9183e-02,\n",
      "         2.5803e-01, -6.0163e-01,  3.9525e-01, -2.3185e-01,  7.5450e-01,\n",
      "        -3.6519e-01,  2.8851e-01,  3.8073e-01, -3.2179e-01,  6.5560e-01,\n",
      "        -1.8586e-01,  8.9920e-01,  3.0710e-02, -1.1595e+00,  5.0067e-01,\n",
      "         3.6330e-01,  2.4023e-01,  7.7339e-01,  4.1852e-01, -3.9747e-01,\n",
      "         7.7109e-01, -7.9493e-01,  1.5263e-01,  3.6685e-01, -4.5167e-01,\n",
      "         5.9954e-01,  3.2850e-01, -1.9347e-01, -4.3040e-01,  9.7297e-02,\n",
      "         8.3269e-01,  1.3524e-01,  4.9403e-01, -5.2777e-01,  5.2295e-01,\n",
      "        -3.6739e-01, -7.3919e-01,  7.0053e-01, -3.4569e-01,  6.4199e-02,\n",
      "         6.1591e-01,  6.5258e-01,  2.6099e-01,  3.3907e-01, -3.7705e-01,\n",
      "         3.7149e-01, -1.0323e+00,  3.3876e-01,  2.5350e-01,  6.6640e-02,\n",
      "        -4.9029e-01,  9.9538e-01, -8.0673e-01,  5.1845e-01, -8.8879e-01,\n",
      "         1.7239e-01, -4.8273e-01,  2.6084e-01, -3.4732e-01, -7.5119e-01,\n",
      "        -1.5768e-01, -9.5561e-03, -2.6122e-01, -4.1158e-01,  4.0459e-01,\n",
      "        -3.3630e-01,  8.9989e-02,  1.9649e-01, -2.5527e-02, -7.3486e-01,\n",
      "        -4.2103e-01, -1.6710e-01, -2.5238e-01, -8.3831e-01,  5.5532e-01,\n",
      "        -2.5585e-02, -2.2217e-01,  4.5004e-01, -7.8229e-01, -3.4648e-01,\n",
      "         1.0524e-01,  7.0798e-01,  2.5381e-01,  5.0187e-01, -2.9383e-01,\n",
      "        -2.2215e-01, -4.3567e-01,  6.5436e-01,  2.0383e-01, -6.4408e-01,\n",
      "        -8.0923e-01, -3.8892e-02,  4.7330e-01,  9.8693e-02,  4.2589e-01,\n",
      "         1.7709e-01, -2.8974e-01,  5.2421e-01,  1.5829e-02,  1.8332e-01,\n",
      "         2.7608e-01,  2.7877e-01,  5.4089e-03,  4.9327e-01,  4.5019e-02,\n",
      "         4.4043e-01,  2.6532e-02,  1.2667e+00, -1.5312e-01,  3.8715e-01,\n",
      "        -2.4319e-01, -5.1445e-02, -3.3188e-01,  1.9689e-01, -8.1941e-01,\n",
      "         7.0554e-02, -1.0990e-01,  5.1790e-02, -5.8679e-01,  1.2947e-01,\n",
      "         3.1311e-01,  2.6189e-01,  2.4308e-01, -2.9350e-03,  2.8263e-01,\n",
      "         3.8924e-01, -3.9731e-01,  1.0377e+00, -5.8005e-01,  1.2680e-01,\n",
      "        -9.5194e-01,  4.0699e-01, -7.9565e-01, -7.2752e-01,  5.1282e-01,\n",
      "        -9.6065e-02, -2.5785e-01, -1.1314e-01, -2.1646e-01,  4.4257e-01,\n",
      "         3.3476e-01,  8.5089e-01, -9.9944e-02,  4.9228e-01,  1.7012e-01,\n",
      "        -3.2274e-01, -3.7089e-01,  1.6193e-01, -4.8037e-02, -6.1303e-02,\n",
      "         8.1948e-01,  3.5566e-01,  2.7798e-01,  1.2383e-01,  8.5411e-01,\n",
      "         3.1741e-01, -1.0624e-01,  3.7501e-01,  1.5985e-02,  7.1546e-02,\n",
      "         5.4083e-01, -6.4911e-01,  7.9168e-01, -6.3276e-01,  3.8814e-01,\n",
      "        -1.1858e-01, -2.5816e-01,  6.1303e-01, -8.0352e-01, -1.4456e-01,\n",
      "        -2.8263e-01,  1.1842e-01,  1.1004e-01, -1.9511e-01,  6.1865e-01,\n",
      "         3.3335e-01,  5.6857e-01, -1.2646e-01,  8.3894e-01,  6.6704e-02,\n",
      "        -1.8977e-01,  2.2850e-01, -6.8961e-01,  1.8870e-01, -4.5022e-01,\n",
      "         2.9012e-01,  7.5890e-01, -1.9485e-01,  5.1679e-01,  4.9405e-01,\n",
      "         5.6845e-01,  4.0043e-01, -2.4175e-01, -3.6946e-01,  3.7890e-01,\n",
      "         5.3182e-01,  2.1775e-01,  1.5655e-01, -6.5773e-01, -2.1576e-01,\n",
      "        -3.6421e-01, -3.7985e-01,  4.5258e-01, -1.5406e-01, -4.8925e-01,\n",
      "        -7.2254e-01,  2.9332e-01,  5.6161e-01,  2.7446e-01, -3.1923e-01,\n",
      "         6.8446e-02,  2.3309e-01,  9.7352e-01,  5.3121e-03,  1.0335e-02,\n",
      "        -1.5422e-01,  1.5991e-01,  6.2389e-02,  6.6206e-02, -8.4271e-02,\n",
      "        -1.6072e-01,  1.3520e-01,  2.8228e-01,  1.0654e-02,  2.0204e-03,\n",
      "         4.7126e-01,  2.7306e-01,  3.5551e-01, -2.6493e-01, -6.6990e-01,\n",
      "         1.7078e-01,  6.9302e-01, -4.6593e-01,  4.6290e-01, -2.9910e-01,\n",
      "        -3.0773e-01,  3.6440e-01,  1.1705e-01,  8.1055e-01, -9.3197e-01,\n",
      "         6.2285e-02, -5.1928e-01, -9.0759e-02,  5.0155e-02, -2.4601e-01,\n",
      "        -1.2757e+00, -9.7430e-02,  9.1277e-02,  7.5005e-01,  6.7786e-01,\n",
      "        -3.7003e-01, -4.1011e-01,  4.6384e-01, -8.8761e-02, -2.8662e-01,\n",
      "        -7.9105e-01,  2.4649e-02,  4.9202e-01, -5.5020e-01, -4.2882e-01,\n",
      "        -8.3599e-01, -5.7811e-02,  2.0584e-01, -3.1411e-01,  2.3199e-01,\n",
      "         4.4204e-01, -2.2542e-02, -2.5464e-01,  6.9329e-02, -1.7868e-01,\n",
      "        -2.0088e-01, -7.2026e-01,  3.2312e-01,  9.9845e-02, -2.5226e-01,\n",
      "        -1.7269e-01,  6.3560e-01,  1.8283e-01, -2.9208e-01, -2.9642e-01,\n",
      "        -3.7363e-02,  7.7825e-01,  3.5679e-01, -7.1926e-01, -6.6802e-02,\n",
      "        -4.8982e-01,  4.5263e-01, -1.4076e-01,  3.5409e-01, -5.5084e-01,\n",
      "         3.9090e-01, -6.3789e-02, -2.3109e-01, -2.4247e-01,  4.1917e-02,\n",
      "         4.2208e-01,  6.4207e-01, -6.3049e-01,  8.8959e-01, -7.7358e-02,\n",
      "        -4.9286e-01,  5.4093e-01,  3.5884e-01,  4.2929e-01,  2.9686e-01,\n",
      "         2.7668e-01, -8.4246e-02,  7.6079e-01,  2.4844e-01, -3.6529e-01,\n",
      "         9.7946e-01,  2.4301e-01,  4.3411e-01,  5.3216e-01, -2.8105e-01,\n",
      "        -5.0055e-01, -4.4762e-01,  5.9562e-01,  6.7402e-01, -3.1278e-01,\n",
      "         7.4714e-02, -1.4703e-01,  5.3019e-01,  4.7800e-01,  8.4013e-02,\n",
      "        -8.5537e-01,  2.6439e-01,  4.2088e-01, -1.9843e-01, -1.3684e-02,\n",
      "         6.6048e-01,  5.3832e-01,  8.2307e-01, -5.9162e-01, -3.6344e-01,\n",
      "         3.4618e-01,  2.8089e-01,  1.9354e-01,  7.9905e-02,  4.2882e-02,\n",
      "        -3.7108e-03,  9.6407e-01,  1.4641e-01,  5.5970e-01,  6.9980e-01,\n",
      "         5.7739e-02, -2.0410e-01, -6.5423e-02, -1.5570e-01,  7.2906e-01,\n",
      "         5.9992e-01,  1.2165e+00, -2.7342e-01,  5.9520e-01,  4.6195e-01,\n",
      "        -7.7120e-02,  7.2359e-01, -1.4398e-01,  2.2244e-01, -3.9207e-01,\n",
      "         4.5451e-01, -1.7553e-01,  1.1043e-01, -4.7120e-01,  4.0730e-01],\n",
      "       requires_grad=True), Parameter containing:\n",
      "tensor([[-0.1088, -0.0098, -0.0862,  ..., -0.0487, -0.1897, -0.0357],\n",
      "        [-0.0600, -0.0757, -0.0245,  ..., -0.0546, -0.0730, -0.0573],\n",
      "        [-0.0637, -0.0530,  0.0201,  ..., -0.0606, -0.1221, -0.0251],\n",
      "        ...,\n",
      "        [-0.1209, -0.0247, -0.0748,  ..., -0.0648, -0.0910, -0.0805],\n",
      "        [ 0.1120,  0.0512,  0.0744,  ...,  0.0936,  0.0978,  0.0477],\n",
      "        [-0.0706, -0.0973, -0.0703,  ..., -0.0537, -0.0930, -0.0716]],\n",
      "       requires_grad=True), Parameter containing:\n",
      "tensor([-0.0344, -0.0264, -0.0903, -0.0374, -0.0771, -0.0222, -0.0302, -0.0158,\n",
      "         0.0586,  0.0380,  0.0499,  0.0803, -0.0787, -0.0197, -0.2265, -0.0234,\n",
      "        -0.0482, -0.0830, -0.0220, -0.0357, -0.0480,  0.0568,  0.0743, -0.0466,\n",
      "        -0.0220, -0.1290, -0.0107,  0.1372,  0.0707, -0.0215,  0.0817, -0.0446,\n",
      "        -0.0306, -0.1201, -0.0219, -0.1582, -0.0600, -0.0215, -0.0190, -0.0611,\n",
      "        -0.0554,  0.0504, -0.0042,  0.0690, -0.0920, -0.0199, -0.0569, -0.0451,\n",
      "        -0.0832,  0.0591,  0.0790, -0.0451,  0.0368, -0.0069, -0.0776, -0.0627,\n",
      "        -0.0180, -0.0592, -0.0504, -0.1184, -0.0348,  0.0750, -0.0695, -0.0484,\n",
      "        -0.0231, -0.0542,  0.0554, -0.0367, -0.0479, -0.1638, -0.0569,  0.0586,\n",
      "         0.1659, -0.0065, -0.0226, -0.0828, -0.0224, -0.0558,  0.0290, -0.0791,\n",
      "        -0.0463, -0.0688, -0.0565,  0.2260, -0.0046, -0.0975, -0.0686, -0.0529,\n",
      "         0.0373, -0.0434,  0.0343, -0.0739,  0.0669,  0.0411, -0.0065, -0.0444,\n",
      "         0.1175, -0.0449, -0.0616, -0.0719,  0.0708, -0.0729, -0.0439,  0.0343,\n",
      "        -0.0763, -0.0092,  0.1006, -0.0284, -0.0434,  0.2137, -0.0745, -0.0764,\n",
      "         0.1474, -0.0042, -0.0420, -0.1185, -0.2865,  0.0664, -0.0223,  0.0903,\n",
      "        -0.0717,  0.0948,  0.0537, -0.0545, -0.0567,  0.1990,  0.1106, -0.0148,\n",
      "        -0.0166, -0.0096, -0.0614,  0.0797, -0.0284, -0.1756, -0.0419, -0.0740,\n",
      "        -0.1010,  0.0861,  0.0495, -0.0270, -0.0601, -0.0460, -0.1042,  0.0299,\n",
      "         0.1347, -0.0052, -0.0583, -0.0384, -0.0377, -0.0865,  0.0638,  0.2102,\n",
      "        -0.0574,  0.0684, -0.0545, -0.0654,  0.0753, -0.0137,  0.2035,  0.1479,\n",
      "        -0.1714,  0.0253, -0.1184, -0.0832, -0.0718,  0.0798,  0.0363, -0.0319,\n",
      "        -0.0722, -0.0430, -0.0330, -0.0158, -0.0920, -0.2526, -0.0157, -0.0678,\n",
      "        -0.0591, -0.0343, -0.0130,  0.0849, -0.0435,  0.0424, -0.0731,  0.0827,\n",
      "         0.1746, -0.0584,  0.0533, -0.0378, -0.0647,  0.0636, -0.0621,  0.0499,\n",
      "         0.1076, -0.0696, -0.0861,  0.1026,  0.1652, -0.0753,  0.0759, -0.0327],\n",
      "       requires_grad=True), Parameter containing:\n",
      "tensor([[-0.0544, -0.1354, -0.1469, -0.0160, -0.1602, -0.1594, -0.0853, -0.1521,\n",
      "          0.0620,  0.0457,  0.0821,  0.0751,  0.0053, -0.1563, -0.0034, -0.1348,\n",
      "         -0.1475, -0.1683, -0.1486, -0.1260,  0.0022,  0.0534,  0.0367, -0.0499,\n",
      "         -0.1674,  0.0085, -0.0568,  0.0588,  0.0802, -0.1418,  0.0391, -0.1563,\n",
      "         -0.1695, -0.0162, -0.1563,  0.0041, -0.1418, -0.1293, -0.1335, -0.1600,\n",
      "         -0.1414,  0.0560, -0.1374,  0.0399,  0.0106,  0.0056,  0.0014,  0.0056,\n",
      "         -0.1431,  0.0411,  0.0653, -0.1447,  0.0685,  0.0003,  0.0119, -0.1246,\n",
      "         -0.1560, -0.1437,  0.0108,  0.0236,  0.0014,  0.0809, -0.1583,  0.0160,\n",
      "         -0.1470, -0.0079,  0.0691, -0.1552, -0.1405,  0.0156, -0.1380,  0.0692,\n",
      "          0.0397, -0.0630, -0.1557,  0.0087, -0.1425, -0.1362,  0.0733, -0.1091,\n",
      "         -0.0524, -0.1576,  0.0020,  0.0509, -0.1299,  0.0062, -0.1656, -0.1498,\n",
      "          0.0493, -0.1339,  0.0601, -0.0492,  0.0372,  0.0523, -0.1390, -0.1341,\n",
      "          0.0272,  0.0002,  0.0069, -0.1634,  0.0770,  0.0083, -0.1420,  0.0631,\n",
      "         -0.1580, -0.0450,  0.0567, -0.1528, -0.1325,  0.0362, -0.1226,  0.0092,\n",
      "          0.0731, -0.1418, -0.0051,  0.0105,  0.0158,  0.0549, -0.1305,  0.0764,\n",
      "          0.0078,  0.0663,  0.0751, -0.1703,  0.0079,  0.0390,  0.0411, -0.0143,\n",
      "         -0.1210, -0.1486, -0.1311,  0.0518, -0.1382,  0.0170, -0.1645, -0.0085,\n",
      "          0.0060,  0.0159,  0.0537, -0.1674, -0.1587, -0.1489,  0.0017,  0.0779,\n",
      "          0.0756, -0.1138, -0.1389, -0.1302, -0.1693,  0.0143,  0.0633,  0.0520,\n",
      "         -0.0255,  0.0455, -0.1626, -0.1500,  0.0698, -0.1593,  0.0386,  0.0536,\n",
      "          0.0204,  0.0536, -0.0060, -0.1339, -0.1258,  0.0304,  0.0220, -0.1621,\n",
      "          0.0153, -0.1590, -0.1418, -0.1556,  0.0170,  0.0315, -0.1336, -0.1565,\n",
      "          0.0146, -0.1408, -0.1402,  0.0420, -0.1407,  0.0347,  0.0023,  0.0760,\n",
      "          0.0764, -0.0169,  0.0439, -0.1452,  0.0100,  0.0621, -0.1376,  0.0395,\n",
      "          0.0580, -0.0262,  0.0128,  0.0695,  0.0546,  0.0125,  0.0349,  0.0197]],\n",
      "       requires_grad=True), Parameter containing:\n",
      "tensor([0.0937], requires_grad=True)]\n"
     ]
    }
   ],
   "source": [
    "print(list(net_loaded.parameters()))"
   ]
  },
  {
   "cell_type": "code",
   "execution_count": 35,
   "metadata": {},
   "outputs": [
    {
     "data": {
      "text/plain": [
       "Net(\n",
       "  (hidden_activation): Sigmoid()\n",
       "  (output_activation): ReLU()\n",
       "  (layers): ModuleList(\n",
       "    (0): Linear(in_features=3, out_features=600, bias=True)\n",
       "    (1): Linear(in_features=600, out_features=200, bias=True)\n",
       "    (2): Linear(in_features=200, out_features=1, bias=True)\n",
       "  )\n",
       ")"
      ]
     },
     "execution_count": 35,
     "metadata": {},
     "output_type": "execute_result"
    }
   ],
   "source": [
    "# Set the network to evaluation mode\n",
    "net.eval()"
   ]
  },
  {
   "cell_type": "code",
   "execution_count": 36,
   "metadata": {},
   "outputs": [
    {
     "data": {
      "text/plain": [
       "tensor([[ 4.4148,  2.2461,  7.7232],\n",
       "        [ 4.5615,  2.8062,  2.5601],\n",
       "        [ 4.6115,  4.7067,  5.3550],\n",
       "        [ 7.4809,  7.6491,  6.6493],\n",
       "        [ 7.6179, 16.1361, 12.6272],\n",
       "        [ 3.9206,  4.5115,  3.9290],\n",
       "        [ 6.5130,  4.0845,  2.7381],\n",
       "        [ 8.4218, 10.8905,  6.9696],\n",
       "        [ 2.2650,  3.5398,  4.6413],\n",
       "        [ 8.1331,  6.6640,  6.4733],\n",
       "        [ 8.7344,  5.2213,  8.2069],\n",
       "        [ 3.4224,  1.8378,  3.9014],\n",
       "        [ 6.6424,  2.5870, 11.2393],\n",
       "        [ 3.8987,  0.2893,  4.6605],\n",
       "        [ 1.1499,  3.1129,  3.2729],\n",
       "        [10.5205, 35.1793, 32.4296],\n",
       "        [ 4.7260,  3.5116,  4.0765],\n",
       "        [ 0.2343,  0.4278,  0.5801],\n",
       "        [ 8.1514,  2.0571,  7.0866],\n",
       "        [ 4.3425,  8.5269,  8.6405]])"
      ]
     },
     "execution_count": 36,
     "metadata": {},
     "output_type": "execute_result"
    }
   ],
   "source": [
    "# Create arbitrary input\n",
    "inputs =  generate_input_data(20)\n",
    "inputs"
   ]
  },
  {
   "cell_type": "code",
   "execution_count": 37,
   "metadata": {},
   "outputs": [
    {
     "data": {
      "text/plain": [
       "[tensor([3.4608], grad_fn=<ReluBackward0>),\n",
       " tensor([3.4608], grad_fn=<ReluBackward0>),\n",
       " tensor([3.4608], grad_fn=<ReluBackward0>),\n",
       " tensor([3.4608], grad_fn=<ReluBackward0>),\n",
       " tensor([3.4608], grad_fn=<ReluBackward0>),\n",
       " tensor([3.4608], grad_fn=<ReluBackward0>),\n",
       " tensor([3.4608], grad_fn=<ReluBackward0>),\n",
       " tensor([3.4608], grad_fn=<ReluBackward0>),\n",
       " tensor([3.4608], grad_fn=<ReluBackward0>),\n",
       " tensor([3.4608], grad_fn=<ReluBackward0>),\n",
       " tensor([3.4608], grad_fn=<ReluBackward0>),\n",
       " tensor([3.4608], grad_fn=<ReluBackward0>),\n",
       " tensor([3.4608], grad_fn=<ReluBackward0>),\n",
       " tensor([3.4608], grad_fn=<ReluBackward0>),\n",
       " tensor([3.4608], grad_fn=<ReluBackward0>),\n",
       " tensor([3.4608], grad_fn=<ReluBackward0>),\n",
       " tensor([3.4608], grad_fn=<ReluBackward0>),\n",
       " tensor([3.4608], grad_fn=<ReluBackward0>),\n",
       " tensor([3.4608], grad_fn=<ReluBackward0>),\n",
       " tensor([3.4608], grad_fn=<ReluBackward0>)]"
      ]
     },
     "execution_count": 37,
     "metadata": {},
     "output_type": "execute_result"
    }
   ],
   "source": [
    "# Pass the inputs to the network and get the outputs\n",
    "outputs = [net(input) for input in inputs]\n",
    "# Print the outputs\n",
    "outputs"
   ]
  },
  {
   "cell_type": "code",
   "execution_count": 38,
   "metadata": {},
   "outputs": [
    {
     "data": {
      "text/plain": [
       "Net(\n",
       "  (hidden_activation): Sigmoid()\n",
       "  (output_activation): ReLU()\n",
       "  (layers): ModuleList(\n",
       "    (0): Linear(in_features=3, out_features=600, bias=True)\n",
       "    (1): Linear(in_features=600, out_features=200, bias=True)\n",
       "    (2): Linear(in_features=200, out_features=1, bias=True)\n",
       "  )\n",
       ")"
      ]
     },
     "execution_count": 38,
     "metadata": {},
     "output_type": "execute_result"
    },
    {
     "data": {
      "text/plain": [
       "[tensor([3.4608], grad_fn=<ReluBackward0>),\n",
       " tensor([3.4608], grad_fn=<ReluBackward0>),\n",
       " tensor([3.4608], grad_fn=<ReluBackward0>),\n",
       " tensor([3.4608], grad_fn=<ReluBackward0>),\n",
       " tensor([3.4608], grad_fn=<ReluBackward0>),\n",
       " tensor([3.4608], grad_fn=<ReluBackward0>),\n",
       " tensor([3.4608], grad_fn=<ReluBackward0>),\n",
       " tensor([3.4608], grad_fn=<ReluBackward0>),\n",
       " tensor([3.4608], grad_fn=<ReluBackward0>),\n",
       " tensor([3.4608], grad_fn=<ReluBackward0>),\n",
       " tensor([3.4608], grad_fn=<ReluBackward0>),\n",
       " tensor([3.4608], grad_fn=<ReluBackward0>),\n",
       " tensor([3.4608], grad_fn=<ReluBackward0>),\n",
       " tensor([3.4608], grad_fn=<ReluBackward0>),\n",
       " tensor([3.4608], grad_fn=<ReluBackward0>),\n",
       " tensor([3.4608], grad_fn=<ReluBackward0>),\n",
       " tensor([3.4608], grad_fn=<ReluBackward0>),\n",
       " tensor([3.4608], grad_fn=<ReluBackward0>),\n",
       " tensor([3.4608], grad_fn=<ReluBackward0>),\n",
       " tensor([3.4608], grad_fn=<ReluBackward0>)]"
      ]
     },
     "execution_count": 38,
     "metadata": {},
     "output_type": "execute_result"
    }
   ],
   "source": [
    "# Set the network to evaluation mode\n",
    "net_loaded.eval()\n",
    "# Pass the inputs to the network and get the outputs\n",
    "outputs = [net_loaded(input) for input in inputs]\n",
    "# Print the outputs\n",
    "outputs"
   ]
  },
  {
   "attachments": {},
   "cell_type": "markdown",
   "metadata": {},
   "source": [
    "## Porting the model to C++"
   ]
  },
  {
   "cell_type": "code",
   "execution_count": 39,
   "metadata": {},
   "outputs": [
    {
     "data": {
      "text/plain": [
       "tensor([[-1.7572,  0.2603,  0.0984]])"
      ]
     },
     "execution_count": 39,
     "metadata": {},
     "output_type": "execute_result"
    },
    {
     "data": {
      "text/plain": [
       "tensor([[11.5635, 26.7850, 30.1721]])"
      ]
     },
     "execution_count": 39,
     "metadata": {},
     "output_type": "execute_result"
    },
    {
     "data": {
      "text/plain": [
       "tensor([[3.4608]], grad_fn=<ReluBackward0>)"
      ]
     },
     "execution_count": 39,
     "metadata": {},
     "output_type": "execute_result"
    }
   ],
   "source": [
    "import torch.jit\n",
    "\n",
    "# Creating a dummy input tensor of shape (1, 3) to trace the model\n",
    "dummy_input = torch.randn(1, 3).to(device)\n",
    "dummy_input\n",
    "\n",
    "# Tracing the model using the torch.jit.trace function\n",
    "traced_model = torch.jit.trace(net_loaded, dummy_input)\n",
    "\n",
    "# Saving the traced model to a file named \"net.pt\"\n",
    "traced_model.save(\"cpp/build/net.pt\")\n",
    "\n",
    "\n",
    "example_input_to_validate_correct_export_and_import = generate_input_data(1)\n",
    "example_input_to_validate_correct_export_and_import\n",
    "net_loaded(example_input_to_validate_correct_export_and_import)"
   ]
  }
 ],
 "metadata": {
  "kernelspec": {
   "display_name": "bsc",
   "language": "python",
   "name": "python3"
  },
  "language_info": {
   "codemirror_mode": {
    "name": "ipython",
    "version": 3
   },
   "file_extension": ".py",
   "mimetype": "text/x-python",
   "name": "python",
   "nbconvert_exporter": "python",
   "pygments_lexer": "ipython3",
   "version": "3.11.3"
  },
  "orig_nbformat": 4
 },
 "nbformat": 4,
 "nbformat_minor": 2
}
