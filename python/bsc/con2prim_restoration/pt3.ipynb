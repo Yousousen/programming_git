{
 "cells": [
  {
   "attachments": {},
   "cell_type": "markdown",
   "metadata": {},
   "source": [
    "# Neural network to learn conservative-to-primitive conversion in relativistic hydrodynamics\n",
    "We use Optuna to do a type of Bayesian optimization of the hyperparameters of the model. We then train the model using these hyperparameters to recover the primitive pressure from the conserved variables.\n",
    "\n",
    "Use this first cell to convert this notebook to a python script."
   ]
  },
  {
   "cell_type": "code",
   "execution_count": 11,
   "metadata": {
    "tags": [
     "remove_cell"
    ]
   },
   "outputs": [
    {
     "name": "stdout",
     "output_type": "stream",
     "text": [
      "[NbConvertApp] Converting notebook pt3.ipynb to script\n",
      "[NbConvertApp] Writing 36887 bytes to pt3.py\n"
     ]
    }
   ],
   "source": [
    "!jupyter nbconvert pt3.ipynb --TagRemovePreprocessor.enabled=True --TagRemovePreprocessor.remove_cell_tags='{\"remove_cell\"}' --to script"
   ]
  },
  {
   "cell_type": "code",
   "execution_count": 12,
   "metadata": {},
   "outputs": [],
   "source": [
    "# Importing the libraries\n",
    "import numpy as np\n",
    "import matplotlib.pyplot as plt\n",
    "import torch\n",
    "import torch.nn as nn\n",
    "import torch.optim as optim\n",
    "import torch.nn.functional as F\n",
    "import optuna\n",
    "import tensorboardX as tbx\n",
    "\n",
    "# Checking if GPU is available and setting the device accordingly\n",
    "device = torch.device(\"cuda\" if torch.cuda.is_available() else \"cpu\")\n"
   ]
  },
  {
   "attachments": {},
   "cell_type": "markdown",
   "metadata": {},
   "source": [
    "## Constants and flags to set\n",
    "Defining some constants and parameters for convenience."
   ]
  },
  {
   "cell_type": "code",
   "execution_count": 13,
   "metadata": {},
   "outputs": [],
   "source": [
    "\n",
    "N_TRIALS = 100 # Number of trials for hyperparameter optimization\n",
    "OPTIMIZE = False # Whether to optimize the hyperparameters or to use predetermined values from Dieseldorst et al..\n",
    "\n",
    "# Hyperparameters when no hyperparameter optimization is performed. \n",
    "N_LAYERS_NO_OPT = 2\n",
    "N_UNITS_NO_OPT = [600, 200]\n",
    "HIDDEN_ACTIVATION_NAME_NO_OPT = \"Sigmoid\"\n",
    "OUTPUT_ACTIVATION_NAME_NO_OPT = \"ReLU\"\n",
    "LOSS_NAME_NO_OPT = \"MSE\"\n",
    "OPTIMIZER_NAME_NO_OPT = \"Adam\"\n",
    "LR_NO_OPT = 6e-4\n",
    "BATCH_SIZE_NO_OPT = 32\n",
    "N_EPOCHS_NO_OPT = 10\n",
    "SCHEDULER_NAME_NO_OPT = \"ReduceLROnPlateau\"\n",
    "\n",
    "c = 1  # Speed of light (used in compute_conserved_variables and sample_primitive_variables functions)\n",
    "gamma = 5 / 3  # Adiabatic index (used in eos_analytic function)\n",
    "n_train_samples = 80000 # Number of training samples (used in generate_input_data and generate_labels functions)\n",
    "n_test_samples = 10000 # Number of test samples (used in generate_input_data and generate_labels functions)\n",
    "rho_interval = (0, 10.1) # Sampling interval for rest-mass density (used in sample_primitive_variables function)\n",
    "vx_interval = (0, 0.721 * c) # Sampling interval for velocity in x-direction (used in sample_primitive_variables function)\n",
    "epsilon_interval = (0, 2.02) # Sampling interval for specific internal energy (used in sample_primitive_variables function)\n",
    "\n",
    "np.random.seed(1) # Uncomment for pseudorandom data."
   ]
  },
  {
   "cell_type": "markdown",
   "metadata": {},
   "source": [
    "## Generating the data"
   ]
  },
  {
   "cell_type": "code",
   "execution_count": 14,
   "metadata": {},
   "outputs": [],
   "source": [
    "\n",
    "# Defining an analytic equation of state (EOS) for an ideal gas\n",
    "def eos_analytic(rho, epsilon):\n",
    "    \"\"\"Computes the pressure from rest-mass density and specific internal energy using an analytic EOS.\n",
    "\n",
    "    Args:\n",
    "        rho (torch.Tensor): The rest-mass density tensor of shape (n_samples,).\n",
    "        epsilon (torch.Tensor): The specific internal energy tensor of shape (n_samples,).\n",
    "\n",
    "    Returns:\n",
    "        torch.Tensor: The pressure tensor of shape (n_samples,).\n",
    "    \"\"\"\n",
    "    # Adding some assertions to check that the input tensors are valid and have the expected shape and type \n",
    "    assert isinstance(rho, torch.Tensor), \"rho must be a torch.Tensor\"\n",
    "    assert isinstance(epsilon, torch.Tensor), \"epsilon must be a torch.Tensor\"\n",
    "    assert rho.shape == epsilon.shape, \"rho and epsilon must have the same shape\"\n",
    "    assert rho.ndim == 1, \"rho and epsilon must be one-dimensional tensors\"\n",
    "    assert rho.dtype == torch.float32, \"rho and epsilon must have dtype torch.float32\"\n",
    "\n",
    "    return (gamma - 1) * rho * epsilon\n",
    "\n",
    "\n",
    "# Defining a function that samples primitive variables from uniform distributions\n",
    "def sample_primitive_variables(n_samples):\n",
    "    \"\"\"Samples primitive variables from uniform distributions.\n",
    "\n",
    "    Args:\n",
    "        n_samples (int): The number of samples to generate.\n",
    "\n",
    "    Returns:\n",
    "        tuple: A tuple of (rho, vx, epsilon), where rho is rest-mass density,\n",
    "            vx is velocity in x-direction,\n",
    "            epsilon is specific internal energy,\n",
    "            each being a numpy array of shape (n_samples,).\n",
    "    \"\"\"\n",
    "    # Sampling from uniform distributions with intervals matching Dieseldorst et al.\n",
    "    rho = np.random.uniform(*rho_interval, size=n_samples)  # Rest-mass density\n",
    "    vx = np.random.uniform(*vx_interval, size=n_samples)  # Velocity in x-direction\n",
    "    epsilon = np.random.uniform(*epsilon_interval, size=n_samples)  # Specific internal energy\n",
    "\n",
    "    # Returning the primitive variables\n",
    "    return rho, vx, epsilon\n",
    "\n",
    "\n",
    "# Defining a function that computes conserved variables from primitive variables\n",
    "def compute_conserved_variables(rho, vx, epsilon):\n",
    "    \"\"\"Computes conserved variables from primitive variables.\n",
    "\n",
    "    Args:\n",
    "        rho (torch.Tensor): The rest-mass density tensor of shape (n_samples,).\n",
    "        vx (torch.Tensor): The velocity in x-direction tensor of shape (n_samples,).\n",
    "        epsilon (torch.Tensor): The specific internal energy tensor of shape (n_samples,).\n",
    "\n",
    "    Returns:\n",
    "        tuple: A tuple of (D, Sx, tau), where D is conserved density,\n",
    "            Sx is conserved momentum in x-direction,\n",
    "            tau is conserved energy density,\n",
    "            each being a torch tensor of shape (n_samples,).\n",
    "    \"\"\"\n",
    "\n",
    "    # Computing the pressure from the primitive variables using the EOS\n",
    "    p = eos_analytic(rho, epsilon)\n",
    "    # Computing the Lorentz factor from the velocity.\n",
    "    W = 1 / torch.sqrt(1 - vx ** 2 / c ** 2)\n",
    "    # Specific enthalpy\n",
    "    h = 1 + epsilon + p / rho  \n",
    "\n",
    "    # Computing the conserved variables from the primitive variables\n",
    "    D = rho * W  # Conserved density\n",
    "    Sx = rho * h * W ** 2 * vx  # Conserved momentum in x-direction\n",
    "    tau = rho * h * W ** 2 - p - D  # Conserved energy density\n",
    "\n",
    "    # Returning the conserved variables\n",
    "    return D, Sx, tau\n",
    "\n",
    "\n",
    "# Defining a function that generates input data (conserved variables) from random samples of primitive variables\n",
    "def generate_input_data(n_samples):\n",
    "    \"\"\"Generates input data (conserved variables) from random samples of primitive variables.\n",
    "\n",
    "    Args:\n",
    "        n_samples (int): The number of samples to generate.\n",
    "\n",
    "    Returns:\n",
    "        torch.Tensor: The input data tensor of shape (n_samples, 3).\n",
    "    \"\"\"\n",
    "    # Sampling the primitive variables using the sample_primitive_variables function\n",
    "    rho, vx, epsilon = sample_primitive_variables(n_samples)\n",
    "\n",
    "    # Converting the numpy arrays to torch tensors and moving them to the device\n",
    "    rho = torch.tensor(rho, dtype=torch.float32).to(device)\n",
    "    vx = torch.tensor(vx, dtype=torch.float32).to(device)\n",
    "    epsilon = torch.tensor(epsilon, dtype=torch.float32).to(device)\n",
    "\n",
    "    # Computing the conserved variables using the compute_conserved_variables function\n",
    "    D, Sx, tau = compute_conserved_variables(rho, vx, epsilon)\n",
    "\n",
    "    # Stacking the conserved variables into a torch tensor\n",
    "    x = torch.stack([D, Sx, tau], axis=1)\n",
    "\n",
    "    # Returning the input data tensor\n",
    "    return x\n",
    "\n",
    "# Defining a function that generates output data (labels) from random samples of primitive variables\n",
    "def generate_labels(n_samples):\n",
    "    \"\"\"Generates output data (labels) from random samples of primitive variables.\n",
    "\n",
    "    Args:\n",
    "        n_samples (int): The number of samples to generate.\n",
    "\n",
    "    Returns:\n",
    "        torch.Tensor: The output data tensor of shape (n_samples,).\n",
    "    \"\"\"\n",
    "    # Sampling the primitive variables using the sample_primitive_variables function\n",
    "    rho, _, epsilon = sample_primitive_variables(n_samples)\n",
    "\n",
    "    # Converting the numpy arrays to torch tensors and moving them to the device\n",
    "    rho = torch.tensor(rho, dtype=torch.float32).to(device)\n",
    "    epsilon = torch.tensor(epsilon, dtype=torch.float32).to(device)\n",
    "\n",
    "    # Computing the pressure from the primitive variables using the EOS\n",
    "    p = eos_analytic(rho, epsilon)\n",
    "\n",
    "    # Returning the output data tensor\n",
    "    return p\n"
   ]
  },
  {
   "cell_type": "code",
   "execution_count": 15,
   "metadata": {},
   "outputs": [
    {
     "data": {
      "text/plain": [
       "<Figure size 800x400 with 0 Axes>"
      ]
     },
     "execution_count": 15,
     "metadata": {},
     "output_type": "execute_result"
    },
    {
     "data": {
      "text/plain": [
       "<Axes: >"
      ]
     },
     "execution_count": 15,
     "metadata": {},
     "output_type": "execute_result"
    },
    {
     "data": {
      "text/plain": [
       "(array([15765., 10500.,  8450.,  6929.,  5916.,  5065.,  4505.,  3999.,\n",
       "         3422.,  3019.,  2558.,  2218.,  1873.,  1538.,  1293.,  1042.,\n",
       "          775.,   593.,   376.,   164.]),\n",
       " array([4.71082276e-05, 6.71799541e-01, 1.34355199e+00, 2.01530433e+00,\n",
       "        2.68705678e+00, 3.35880923e+00, 4.03056192e+00, 4.70231438e+00,\n",
       "        5.37406635e+00, 6.04581881e+00, 6.71757126e+00, 7.38932371e+00,\n",
       "        8.06107616e+00, 8.73282909e+00, 9.40458107e+00, 1.00763340e+01,\n",
       "        1.07480860e+01, 1.14198389e+01, 1.20915909e+01, 1.27633438e+01,\n",
       "        1.34350958e+01]),\n",
       " <BarContainer object of 20 artists>)"
      ]
     },
     "execution_count": 15,
     "metadata": {},
     "output_type": "execute_result"
    },
    {
     "data": {
      "text/plain": [
       "Text(0.5, 0, 'y_train')"
      ]
     },
     "execution_count": 15,
     "metadata": {},
     "output_type": "execute_result"
    },
    {
     "data": {
      "text/plain": [
       "Text(0, 0.5, 'Frequency')"
      ]
     },
     "execution_count": 15,
     "metadata": {},
     "output_type": "execute_result"
    },
    {
     "data": {
      "text/plain": [
       "<Axes: >"
      ]
     },
     "execution_count": 15,
     "metadata": {},
     "output_type": "execute_result"
    },
    {
     "data": {
      "text/plain": [
       "(array([1926., 1245., 1056.,  896.,  764.,  651.,  511.,  496.,  425.,\n",
       "         383.,  329.,  281.,  275.,  208.,  167.,  127.,   94.,   77.,\n",
       "          58.,   31.]),\n",
       " array([9.00165905e-05, 6.63420200e-01, 1.32675040e+00, 1.99008060e+00,\n",
       "        2.65341091e+00, 3.31674099e+00, 3.98007131e+00, 4.64340162e+00,\n",
       "        5.30673170e+00, 5.97006178e+00, 6.63339186e+00, 7.29672241e+00,\n",
       "        7.96005249e+00, 8.62338257e+00, 9.28671265e+00, 9.95004272e+00,\n",
       "        1.06133728e+01, 1.12767038e+01, 1.19400339e+01, 1.26033640e+01,\n",
       "        1.32666941e+01]),\n",
       " <BarContainer object of 20 artists>)"
      ]
     },
     "execution_count": 15,
     "metadata": {},
     "output_type": "execute_result"
    },
    {
     "data": {
      "text/plain": [
       "Text(0.5, 0, 'y_test')"
      ]
     },
     "execution_count": 15,
     "metadata": {},
     "output_type": "execute_result"
    },
    {
     "data": {
      "text/plain": [
       "Text(0, 0.5, 'Frequency')"
      ]
     },
     "execution_count": 15,
     "metadata": {},
     "output_type": "execute_result"
    },
    {
     "data": {
      "image/png": "[encoded data removed]",
      "text/plain": [
       "<Figure size 800x400 with 2 Axes>"
      ]
     },
     "metadata": {},
     "output_type": "display_data"
    },
    {
     "name": "stdout",
     "output_type": "stream",
     "text": [
      "Shape of x_train: torch.Size([80000, 3])\n",
      "Shape of y_train: torch.Size([80000])\n",
      "Shape of x_test: torch.Size([10000, 3])\n",
      "Shape of y_test: torch.Size([10000])\n"
     ]
    }
   ],
   "source": [
    "\n",
    "# Generating the input and output data for train and test sets using the functions defined\n",
    "# Using the same number of samples as Dieseldorst et al.\n",
    "x_train = generate_input_data(n_train_samples)\n",
    "y_train = generate_labels(n_train_samples) \n",
    "x_test = generate_input_data(n_test_samples) \n",
    "y_test = generate_labels(n_test_samples) \n",
    "\n",
    "# Checking if our output is always positive by plotting a histogram of y_train and y_test tensors \n",
    "plt.figure(figsize=(8, 4))\n",
    "plt.subplot(1, 2, 1)\n",
    "plt.hist(y_train.cpu().numpy(), bins=20)\n",
    "plt.xlabel(\"y_train\")\n",
    "plt.ylabel(\"Frequency\")\n",
    "plt.subplot(1, 2, 2)\n",
    "plt.hist(y_test.cpu().numpy(), bins=20)\n",
    "plt.xlabel(\"y_test\")\n",
    "plt.ylabel(\"Frequency\")\n",
    "plt.tight_layout()\n",
    "plt.show()\n",
    "\n",
    "# Checking the shapes of the data tensors\n",
    "print(\"Shape of x_train:\", x_train.shape)\n",
    "print(\"Shape of y_train:\", y_train.shape)\n",
    "print(\"Shape of x_test:\", x_test.shape)\n",
    "print(\"Shape of y_test:\", y_test.shape)"
   ]
  },
  {
   "cell_type": "markdown",
   "metadata": {},
   "source": [
    "## Defining the neural network"
   ]
  },
  {
   "cell_type": "code",
   "execution_count": 16,
   "metadata": {},
   "outputs": [],
   "source": [
    "# Defining a class for the network\n",
    "class Net(nn.Module):\n",
    "    \"\"\"A class for creating a network with a\n",
    "    variable number of hidden layers and units.\n",
    "\n",
    "    Attributes:\n",
    "        n_layers (int): The number of hidden layers in the network.\n",
    "        n_units (list): A list of integers representing the number of units in each hidden layer.\n",
    "        hidden_activation (torch.nn.Module): The activation function for the hidden layers.\n",
    "        output_activation (torch.nn.Module): The activation function for the output layer.\n",
    "        layers (torch.nn.ModuleList): A list of linear layers in the network.\n",
    "    \"\"\"\n",
    "\n",
    "    def __init__(self, n_layers, n_units, hidden_activation, output_activation):\n",
    "        \"\"\"Initializes the network with the given hyperparameters.\n",
    "\n",
    "        Args:\n",
    "            n_layers (int): The number of hidden layers in the network.\n",
    "            n_units (list): A list of integers representing the number of units in each hidden layer.\n",
    "            hidden_activation (torch.nn.Module): The activation function for the hidden layers.\n",
    "            output_activation (torch.nn.Module): The activation function for the output layer.\n",
    "        \"\"\"\n",
    "        super().__init__()\n",
    "        self.n_layers = n_layers\n",
    "        self.n_units = n_units\n",
    "        self.hidden_activation = hidden_activation\n",
    "        self.output_activation = output_activation\n",
    "\n",
    "        # Creating a list of linear layers with different numbers of units for each layer\n",
    "        self.layers = nn.ModuleList([nn.Linear(3, n_units[0])])\n",
    "        for i in range(1, n_layers):\n",
    "            self.layers.append(nn.Linear(n_units[i - 1], n_units[i]))\n",
    "        self.layers.append(nn.Linear(n_units[-1], 1))\n",
    "\n",
    "        # Adding some assertions to check that the input arguments are valid\n",
    "        assert isinstance(n_layers, int) and n_layers > 0, \"n_layers must be a positive integer\"\n",
    "        assert isinstance(n_units, list) and len(n_units) == n_layers, \"n_units must be a list of length n_layers\"\n",
    "        assert all(isinstance(n, int) and n > 0 for n in n_units), \"n_units must contain positive integers\"\n",
    "        assert isinstance(hidden_activation, nn.Module), \"hidden_activation must be a torch.nn.Module\"\n",
    "        assert isinstance(output_activation, nn.Module), \"output_activation must be a torch.nn.Module\"\n",
    "\n",
    "    #@torch.jit.script_method\n",
    "    def forward(self, x):\n",
    "        \"\"\"Performs a forward pass on the input tensor.\n",
    "\n",
    "        Args:\n",
    "            x (torch.Tensor): The input tensor of shape (batch_size, 3).\n",
    "\n",
    "        Returns:\n",
    "            torch.Tensor: The output tensor of shape (batch_size, 1).\n",
    "        \"\"\"\n",
    "        # Looping over the hidden layers and applying the linear transformation and the activation function\n",
    "        for layer in self.layers[:-1]:\n",
    "            x = self.hidden_activation(layer(x))\n",
    "        # Applying the linear transformation and the activation function on the output layer\n",
    "        x = self.output_activation(self.layers[-1](x))\n",
    "\n",
    "        # Returning the output tensor\n",
    "        return x"
   ]
  },
  {
   "cell_type": "markdown",
   "metadata": {},
   "source": [
    "## Defining the model and search space"
   ]
  },
  {
   "cell_type": "code",
   "execution_count": 17,
   "metadata": {},
   "outputs": [],
   "source": [
    "# Defining a function to create a trial network and optimizer\n",
    "def create_model(trial, optimize):\n",
    "    \"\"\"Creates a trial network and optimizer based on the sampled hyperparameters.\n",
    "\n",
    "    Args:\n",
    "        trial (optuna.trial.Trial): The trial object that contains the hyperparameters.\n",
    "        optimize (boolean): Whether to optimize the hyperparameters or to use predefined values.\n",
    "\n",
    "    Returns:\n",
    "        tuple: A tuple of (net, loss_fn, optimizer, batch_size, n_epochs,\n",
    "            scheduler, loss_name, optimizer_name, scheduler_name,\n",
    "            n_units, n_layers, hidden_activation, output_activation),\n",
    "            where net is the trial network,\n",
    "            loss_fn is the loss function,\n",
    "            optimizer is the optimizer,\n",
    "            batch_size is the batch size,\n",
    "            n_epochs is the number of epochs,\n",
    "            scheduler is the learning rate scheduler,\n",
    "            loss_name is the name of the loss function,\n",
    "            optimizer_name is the name of the optimizer,\n",
    "            scheduler_name is the name of the scheduler,\n",
    "            n_units is a list of integers representing\n",
    "            the number of units in each hidden layer,\n",
    "            n_layers is an integer representing the number of hidden layers in the network,\n",
    "            hidden_activation is a torch.nn.Module representing the activation function for the hidden layers,\n",
    "            output_activation is a torch.nn.Module representing the activation function for the output layer,\n",
    "            lr is the (initial) learning rate.\n",
    "    \"\"\"\n",
    "    # If optimize is True, sample the hyperparameters from the search space\n",
    "    if optimize:\n",
    "        # Sampling the hyperparameters from the search space\n",
    "        n_layers = trial.suggest_int(\"n_layers\", 1, 3)\n",
    "        n_units = [trial.suggest_int(f\"n_units_{i}\", 16, 256) for i in range(n_layers)] \n",
    "        hidden_activation_name = trial.suggest_categorical(\n",
    "            \"hidden_activation\", [\"ReLU\", \"LeakyReLU\", \"ELU\", \"Tanh\", \"Sigmoid\"]\n",
    "        )\n",
    "        output_activation_name = trial.suggest_categorical(\n",
    "            \"output_activation\", [\"Linear\", \"ReLU\"]\n",
    "        ) \n",
    "        loss_name = trial.suggest_categorical(\n",
    "            \"loss\", [\"MSE\", \"MAE\", \"Huber\", \"LogCosh\"] \n",
    "        )\n",
    "        optimizer_name = trial.suggest_categorical(\n",
    "            \"optimizer\", [\"Adam\", \"SGD\", \"RMSprop\", \"Adagrad\"] \n",
    "        )\n",
    "        lr = trial.suggest_loguniform(\"lr\", 1e-4, 1e-2) \n",
    "        batch_size = trial.suggest_int(\"batch_size\", 32, 256)\n",
    "        n_epochs = trial.suggest_int(\"n_epochs\", 50, 100) \n",
    "        scheduler_name = trial.suggest_categorical(\n",
    "            \"scheduler\",\n",
    "            [\"None\", \"CosineAnnealingLR\", \"ReduceLROnPlateau\", \"StepLR\", \"ExponentialLR\"],\n",
    "        )\n",
    "    # If optimize is False, use the predefined values\n",
    "    else:\n",
    "        # Setting the hyperparameters to the predefined values\n",
    "        n_layers = N_LAYERS_NO_OPT\n",
    "        n_units = N_UNITS_NO_OPT\n",
    "        hidden_activation_name = HIDDEN_ACTIVATION_NAME_NO_OPT\n",
    "        output_activation_name = OUTPUT_ACTIVATION_NAME_NO_OPT\n",
    "        loss_name = LOSS_NAME_NO_OPT\n",
    "        optimizer_name = OPTIMIZER_NAME_NO_OPT\n",
    "        lr = LR_NO_OPT\n",
    "        batch_size = BATCH_SIZE_NO_OPT\n",
    "        n_epochs = N_EPOCHS_NO_OPT\n",
    "        scheduler_name = SCHEDULER_NAME_NO_OPT\n",
    "\n",
    "\n",
    "    # Creating the activation functions from their names\n",
    "    if hidden_activation_name == \"ReLU\":\n",
    "        hidden_activation = nn.ReLU()\n",
    "    elif hidden_activation_name == \"LeakyReLU\":\n",
    "        hidden_activation = nn.LeakyReLU() \n",
    "    elif hidden_activation_name == \"ELU\":\n",
    "        hidden_activation = nn.ELU() \n",
    "    elif hidden_activation_name == \"Tanh\":\n",
    "        hidden_activation = nn.Tanh()\n",
    "    else:\n",
    "        hidden_activation = nn.Sigmoid()\n",
    "\n",
    "    if output_activation_name == \"ReLU\":\n",
    "        output_activation = nn.ReLU()\n",
    "    else:\n",
    "        output_activation = nn.Identity()\n",
    "\n",
    "    # Creating the loss function from its name\n",
    "    if loss_name == \"MSE\":\n",
    "        loss_fn = nn.MSELoss()\n",
    "    elif loss_name == \"MAE\":\n",
    "        loss_fn = nn.L1Loss()\n",
    "    elif loss_name == \"Huber\":\n",
    "        loss_fn = nn.SmoothL1Loss() \n",
    "    else:\n",
    "        # Creating the log-cosh loss function\n",
    "        def log_cosh_loss(y_pred, y_true):\n",
    "            return torch.mean(torch.log(torch.cosh(y_pred - y_true)))\n",
    "            \n",
    "        loss_fn = log_cosh_loss\n",
    "\n",
    "    # Creating the network with the sampled hyperparameters\n",
    "    net = Net(\n",
    "        n_layers, n_units, hidden_activation, output_activation\n",
    "    ).to(device)\n",
    "\n",
    "    # Creating the optimizer from its name\n",
    "    if optimizer_name == \"SGD\":\n",
    "        optimizer = optim.SGD(net.parameters(), lr=lr)\n",
    "    elif optimizer_name == \"Adam\":\n",
    "        optimizer = optim.Adam(net.parameters(), lr=lr)\n",
    "    elif optimizer_name == \"RMSprop\":\n",
    "        optimizer = optim.RMSprop(net.parameters(), lr=lr)\n",
    "    else:\n",
    "        # Added creating the Adagrad optimizer\n",
    "        optimizer = optim.Adagrad(net.parameters(), lr=lr)\n",
    "\n",
    "    # Creating the learning rate scheduler from its name\n",
    "    if scheduler_name == \"StepLR\":\n",
    "        scheduler = optim.lr_scheduler.StepLR(optimizer, step_size=10, gamma=0.1)\n",
    "    elif scheduler_name == \"ExponentialLR\":\n",
    "        scheduler = optim.lr_scheduler.ExponentialLR(optimizer, gamma=0.9)\n",
    "    elif scheduler_name == \"CosineAnnealingLR\":\n",
    "        # Added creating the CosineAnnealingLR scheduler\n",
    "        scheduler = optim.lr_scheduler.CosineAnnealingLR(optimizer, T_max=10)\n",
    "    elif scheduler_name == \"ReduceLROnPlateau\":\n",
    "        # Added creating the ReduceLROnPlateau scheduler\n",
    "        # Creating the ReduceLROnPlateau scheduler with a threshold value of 0.01\n",
    "        #scheduler = optim.lr_scheduler.ReduceLROnPlateau(\n",
    "        #    optimizer, mode=\"min\", factor=0.1, patience=10, threshold=0.01\n",
    "        #)\n",
    "        # Use Dieseldorst et al. settings and add to that a minimum lr.\n",
    "        scheduler = optim.lr_scheduler.ReduceLROnPlateau(\n",
    "                    optimizer, mode=\"min\", factor=0.5, patience=5, threshold=0.0005, min_lr=1e-6\n",
    "                )\n",
    "    else:\n",
    "        scheduler = None\n",
    "\n",
    "    # Returning all variables needed for saving and loading\n",
    "    return net, loss_fn, optimizer, batch_size, n_epochs, scheduler, loss_name, optimizer_name, scheduler_name, n_units, n_layers, hidden_activation, output_activation, lr\n"
   ]
  },
  {
   "attachments": {},
   "cell_type": "markdown",
   "metadata": {},
   "source": [
    " ## The training and evaluation loop\n",
    "\n",
    " We first define a couple of functions used in the training and evaluation."
   ]
  },
  {
   "cell_type": "code",
   "execution_count": 18,
   "metadata": {},
   "outputs": [],
   "source": [
    "# Defining a function that computes loss and metrics for a given batch\n",
    "def compute_loss_and_metrics(y_pred, y_true, loss_fn):\n",
    "    \"\"\"Computes loss and metrics for a given batch.\n",
    "\n",
    "    Args:\n",
    "        y_pred (torch.Tensor): The predicted pressure tensor of shape (batch_size, 1).\n",
    "        y_true (torch.Tensor): The true pressure tensor of shape (batch_size,).\n",
    "        loss_fn (torch.nn.Module or function): The loss function to use.\n",
    "\n",
    "    Returns:\n",
    "        tuple: A tuple of (loss, l1_norm), where loss is a scalar tensor,\n",
    "            l1_norm is L1 norm for relative error of pressure,\n",
    "            each being a scalar tensor.\n",
    "            linf_norm is Linf norm for relative error of pressure.\n",
    "    \"\"\"\n",
    "    # Reshaping the target tensor to match the input tensor\n",
    "    y_true = y_true.view(-1, 1)\n",
    "\n",
    "    # Computing the loss using the loss function\n",
    "    loss = loss_fn(y_pred, y_true)\n",
    "\n",
    "    # Computing the relative error of pressure\n",
    "    rel_error = torch.abs((y_pred - y_true) / y_true)\n",
    "\n",
    "    # Computing the L1 norm for the relative error of pressure\n",
    "    l1_norm = torch.mean(rel_error) \n",
    "    # Computing the Linf norm for the relative error of pressure\n",
    "    linf_norm = torch.max(rel_error) \n",
    "\n",
    "    # Returning the loss and metrics\n",
    "    return loss, l1_norm, linf_norm\n",
    "\n",
    "\n",
    "# Defining a function that updates the learning rate scheduler with validation loss if applicable\n",
    "def update_scheduler(scheduler, test_loss):\n",
    "    \"\"\"Updates the learning rate scheduler with validation loss if applicable.\n",
    "\n",
    "    Args:\n",
    "        scheduler (torch.optim.lr_scheduler._LRScheduler or None): The learning rate scheduler to use.\n",
    "        test_loss (float): The validation loss to use.\n",
    "\n",
    "    Returns:\n",
    "        None\n",
    "    \"\"\"\n",
    "    # Checking if scheduler is not None\n",
    "    if scheduler is not None:\n",
    "        # Checking if scheduler is ReduceLROnPlateau\n",
    "        if isinstance(scheduler, optim.lr_scheduler.ReduceLROnPlateau):\n",
    "            # Updating the scheduler with test_loss\n",
    "            scheduler.step(test_loss)\n",
    "        else:\n",
    "            # Updating the scheduler without test_loss\n",
    "            scheduler.step()\n"
   ]
  },
  {
   "attachments": {},
   "cell_type": "markdown",
   "metadata": {},
   "source": [
    "Now for the actual training and evaluation loop,"
   ]
  },
  {
   "cell_type": "code",
   "execution_count": 19,
   "metadata": {},
   "outputs": [],
   "source": [
    "# Defining a function to train and evaluate a network\n",
    "def train_and_eval(net, loss_fn, optimizer, batch_size, n_epochs, scheduler, trial=None):\n",
    "    \"\"\"Trains and evaluates a network.\n",
    "\n",
    "    Args:\n",
    "        net (torch.nn.Module): The network to train and evaluate.\n",
    "        loss_fn (torch.nn.Module or function): The loss function.\n",
    "        optimizer (torch.optim.Optimizer): The optimizer.\n",
    "        batch_size (int): The batch size.\n",
    "        n_epochs (int): The number of epochs.\n",
    "        scheduler (torch.optim.lr_scheduler._LRScheduler or None): The learning rate scheduler.\n",
    "    Returns:\n",
    "        tuple: A tuple of (train_losses, test_losses, train_metrics, test_metrics), where\n",
    "            train_losses is a list of training losses for each epoch,\n",
    "            test_losses is a list of validation losses for each epoch,\n",
    "            train_metrics is a list of dictionaries containing training metrics for each epoch,\n",
    "            test_metrics is a list of dictionaries containing validation metrics for each epoch.\n",
    "    \"\"\"\n",
    "    # Creating data loaders for train and test sets\n",
    "    train_loader = torch.utils.data.DataLoader(\n",
    "        torch.utils.data.TensorDataset(x_train, y_train), batch_size=batch_size, shuffle=True\n",
    "    )\n",
    "    test_loader = torch.utils.data.DataLoader(\n",
    "        torch.utils.data.TensorDataset(x_test, y_test), batch_size=batch_size\n",
    "    )\n",
    "\n",
    "    # Initializing lists to store the losses and metrics for each epoch\n",
    "    train_losses = []\n",
    "    test_losses = []\n",
    "    train_metrics = []\n",
    "    test_metrics = []\n",
    "\n",
    "    # Creating a SummaryWriter object to log data for tensorboard\n",
    "    writer = tbx.SummaryWriter()\n",
    "\n",
    "    # Looping over the epochs\n",
    "    for epoch in range(n_epochs):\n",
    "\n",
    "        # Setting the network to training mode\n",
    "        net.train()\n",
    "\n",
    "        # Initializing variables to store the total loss and metrics for the train set\n",
    "        train_loss = 0.0\n",
    "        train_l1_norm = 0.0\n",
    "        train_linf_norm = 0.0\n",
    "\n",
    "        # Looping over the batches in the train set\n",
    "        for x_batch, y_batch in train_loader:\n",
    "\n",
    "            # Moving the batch tensors to the device\n",
    "            x_batch = x_batch.to(device)\n",
    "            y_batch = y_batch.to(device)\n",
    "\n",
    "            # Zeroing the gradients\n",
    "            optimizer.zero_grad()\n",
    "\n",
    "            # Performing a forward pass and computing the loss and metrics\n",
    "            y_pred = net(x_batch)\n",
    "            loss, l1_norm, linf_norm = compute_loss_and_metrics(\n",
    "                y_pred, y_batch, loss_fn\n",
    "            )\n",
    "\n",
    "\n",
    "            # Performing a backward pass and updating the weights\n",
    "            loss.backward()\n",
    "            optimizer.step()\n",
    "\n",
    "            # Updating the total loss and metrics for the train set\n",
    "            train_loss += loss.item() * x_batch.size(0)\n",
    "            train_l1_norm += l1_norm.item() * x_batch.size(0)\n",
    "            train_linf_norm += linf_norm.item() * x_batch.size(0)\n",
    "\n",
    "        # Computing the average loss and metrics for the train set\n",
    "        train_loss /= len(train_loader.dataset)\n",
    "        train_l1_norm /= len(train_loader.dataset)\n",
    "        train_linf_norm /= len(train_loader.dataset)\n",
    "\n",
    "        # Appending the average loss and metrics for the train set to the lists\n",
    "        train_losses.append(train_loss)\n",
    "        train_metrics.append(\n",
    "            {\n",
    "                \"l1_norm\": train_l1_norm,\n",
    "                \"linf_norm\": train_linf_norm,\n",
    "            }\n",
    "        )\n",
    "\n",
    "        # Logging the average loss and metrics for the train set to tensorboard\n",
    "        writer.add_scalar(\"Loss/train\", train_loss, epoch)\n",
    "        writer.add_scalar(\"L1 norm/train\", train_l1_norm, epoch)\n",
    "        writer.add_scalar(\"Linf norm/train\", train_linf_norm, epoch)\n",
    "\n",
    "        # Setting the network to evaluation mode\n",
    "        net.eval()\n",
    "\n",
    "        # Initializing variables to store the total loss and metrics for the test set\n",
    "        test_loss = 0.0\n",
    "        test_l1_norm = 0.0\n",
    "        test_linf_norm = 0.0\n",
    "\n",
    "        # Looping over the batches in the test set\n",
    "        with torch.no_grad():\n",
    "            for x_batch, y_batch in test_loader:\n",
    "\n",
    "                # Moving the batch tensors to the device\n",
    "                x_batch = x_batch.to(device)\n",
    "                y_batch = y_batch.to(device)\n",
    "\n",
    "                # Performing a forward pass and computing the loss and metrics\n",
    "                y_pred = net(x_batch)\n",
    "                loss, l1_norm, linf_norm = compute_loss_and_metrics(\n",
    "                    y_pred, y_batch, loss_fn\n",
    "                )\n",
    "\n",
    "\n",
    "                # Updating the total loss and metrics for the test set\n",
    "                test_loss += loss.item() * x_batch.size(0)\n",
    "                test_l1_norm += l1_norm.item() * x_batch.size(0)\n",
    "                test_linf_norm += linf_norm.item() * x_batch.size(0)\n",
    "\n",
    "        # Computing the average loss and metrics for the test set\n",
    "        test_loss /= len(test_loader.dataset)\n",
    "        test_l1_norm /= len(test_loader.dataset)\n",
    "        test_linf_norm /= len(test_loader.dataset)\n",
    "\n",
    "        # Appending the average loss and metrics for the test set to the lists\n",
    "        test_losses.append(test_loss)\n",
    "        test_metrics.append(\n",
    "            {\n",
    "                \"l1_norm\": test_l1_norm,\n",
    "                \"linf_norm\": test_linf_norm,\n",
    "            }\n",
    "        )\n",
    "\n",
    "        # Logging the average loss and metrics for the test set to tensorboard\n",
    "        writer.add_scalar(\"Loss/test\", test_loss, epoch)\n",
    "        writer.add_scalar(\"L1 norm/test\", test_l1_norm, epoch)\n",
    "        writer.add_scalar(\"Linf norm/test\", test_linf_norm, epoch)\n",
    "\n",
    "        # Printing the average loss and metrics for both sets for this epoch\n",
    "        print(\n",
    "            f\"Epoch {epoch + 1}: Train Loss: {train_loss:.4f}, Test Loss: {test_loss:.4f}, \"\n",
    "            f\"Train L1 Norm: {train_l1_norm:.4f}, Test L1 Norm: {test_l1_norm:.4f}, \"\n",
    "            f\"Train Linf Norm: {train_linf_norm:.4f}, Test Linf Norm: {test_linf_norm:.4f}\"\n",
    "        )\n",
    "\n",
    "        # Updating the learning rate scheduler with validation loss if applicable\n",
    "        update_scheduler(scheduler, test_loss)\n",
    "\n",
    "        # Reporting the intermediate metric value to Optuna if trial is not None\n",
    "        if trial is not None:\n",
    "            trial.report(test_metrics[-1][\"l1_norm\"], epoch)\n",
    "\n",
    "            # Checking if the trial should be pruned based on the intermediate value if trial is not None\n",
    "            if trial.should_prune():\n",
    "                raise optuna.TrialPruned()\n",
    "\n",
    "    # Closing the SummaryWriter object\n",
    "    writer.close()\n",
    "\n",
    "    # Returning the losses and metrics lists\n",
    "    return train_losses, test_losses, train_metrics, test_metrics"
   ]
  },
  {
   "cell_type": "markdown",
   "metadata": {},
   "source": [
    "## The objective function and hyperparameter tuning"
   ]
  },
  {
   "cell_type": "code",
   "execution_count": 20,
   "metadata": {},
   "outputs": [],
   "source": [
    "# Defining an objective function for Optuna to minimize\n",
    "def objective(trial):\n",
    "    \"\"\"Defines an objective function for Optuna to minimize.\n",
    "\n",
    "    Args:\n",
    "        trial (optuna.trial.Trial): The trial object that contains the hyperparameters.\n",
    "\n",
    "    Returns:\n",
    "        float: The validation L1 norm to minimize.\n",
    "    \"\"\"\n",
    "    # Creating a trial network and optimizer using the create_model function\n",
    "    net, \\\n",
    "    loss_fn, \\\n",
    "    optimizer, \\\n",
    "    batch_size, \\\n",
    "    n_epochs, \\\n",
    "    scheduler, \\\n",
    "    loss_name, \\\n",
    "    optimizer_name, \\\n",
    "    scheduler_name, \\\n",
    "    n_units, \\\n",
    "    n_layers, \\\n",
    "    hidden_activation, \\\n",
    "    output_activation, \\\n",
    "    lr = create_model(trial, optimize=True)\n",
    "\n",
    "    # Training and evaluating the network using the train_and_eval function\n",
    "    _, _, _, test_metrics = train_and_eval(\n",
    "        net, loss_fn, optimizer, batch_size, n_epochs, scheduler, trial\n",
    "    )\n",
    "\n",
    "    # Returning the last validation L1 norm as the objective value to minimize\n",
    "    return test_metrics[-1][\"l1_norm\"]"
   ]
  },
  {
   "cell_type": "code",
   "execution_count": 21,
   "metadata": {},
   "outputs": [],
   "source": [
    "if OPTIMIZE:\n",
    "    # Creating a study object with Optuna with TPE sampler and median pruner \n",
    "    study = optuna.create_study(direction=\"minimize\", sampler=optuna.samplers.TPESampler(), pruner=optuna.pruners.MedianPruner())\n",
    "\n",
    "    # Running Optuna with 100 trials when we are optimizing.\n",
    "    study.optimize(objective, n_trials=N_TRIALS)\n",
    "\n",
    "    # Printing the best trial information\n",
    "    print(\"Best trial:\")\n",
    "    trial = study.best_trial\n",
    "    print(\"  Value: \", trial.value)\n",
    "    print(\"  Params: \")\n",
    "    for key, value in trial.params.items():\n",
    "        print(f\"    {key}: {value}\")\n"
   ]
  },
  {
   "attachments": {},
   "cell_type": "markdown",
   "metadata": {},
   "source": [
    "## Training the model"
   ]
  },
  {
   "cell_type": "code",
   "execution_count": 22,
   "metadata": {},
   "outputs": [],
   "source": [
    "# Creating the best network and optimizer using the best hyperparameters\n",
    "if OPTIMIZE:\n",
    "    net, \\\n",
    "    loss_fn, \\\n",
    "    optimizer, \\\n",
    "    batch_size, \\\n",
    "    n_epochs, \\\n",
    "    scheduler, \\\n",
    "    loss_name, \\\n",
    "    optimizer_name, \\\n",
    "    scheduler_name, \\\n",
    "    n_units, \\\n",
    "    n_layers, \\\n",
    "    hidden_activation, \\\n",
    "    output_activation, \\\n",
    "    lr = create_model(trial, optimize=True)\n",
    "# Creating the network with predefined hyperparameters\n",
    "else:\n",
    "    net, \\\n",
    "    loss_fn, \\\n",
    "    optimizer, \\\n",
    "    batch_size, \\\n",
    "    n_epochs, \\\n",
    "    scheduler, \\\n",
    "    loss_name, \\\n",
    "    optimizer_name, \\\n",
    "    scheduler_name, \\\n",
    "    n_units, \\\n",
    "    n_layers, \\\n",
    "    hidden_activation, \\\n",
    "    output_activation, \\\n",
    "    lr = create_model(trial=None, optimize=False)"
   ]
  },
  {
   "cell_type": "code",
   "execution_count": 23,
   "metadata": {},
   "outputs": [
    {
     "name": "stdout",
     "output_type": "stream",
     "text": [
      "loss_fn: MSELoss()\n",
      "batch_size: 32\n",
      "n_epochs: 10\n",
      "scheduler: <torch.optim.lr_scheduler.ReduceLROnPlateau object at 0x7eff89a51a90>\n",
      "loss_name: MSE\n",
      "optimizer_name: Adam\n",
      "scheduler_name: ReduceLROnPlateau\n",
      "n_units: [600, 200]\n",
      "n_layers: 2\n",
      "hidden_activation: Sigmoid()\n",
      "output_activation: ReLU()\n"
     ]
    }
   ],
   "source": [
    "print(\"loss_fn:\", loss_fn)\n",
    "print(\"batch_size:\", batch_size)\n",
    "print(\"n_epochs:\", n_epochs)\n",
    "print(\"scheduler:\", scheduler)\n",
    "print(\"loss_name:\", loss_name)\n",
    "print(\"optimizer_name:\", optimizer_name)\n",
    "print(\"scheduler_name:\", scheduler_name)\n",
    "print(\"n_units:\", n_units)\n",
    "print(\"n_layers:\", n_layers)\n",
    "print(\"hidden_activation:\", hidden_activation)\n",
    "print(\"output_activation:\", output_activation)"
   ]
  },
  {
   "cell_type": "code",
   "execution_count": 24,
   "metadata": {},
   "outputs": [
    {
     "name": "stdout",
     "output_type": "stream",
     "text": [
      "Epoch 1: Train Loss: 20.4272, Test Loss: 20.7357, Train L1 Norm: 1.0000, Test L1 Norm: 1.0000, Train Linf Norm: 1.0000, Test Linf Norm: 1.0000\n",
      "Epoch 2: Train Loss: 20.4272, Test Loss: 20.7357, Train L1 Norm: 1.0000, Test L1 Norm: 1.0000, Train Linf Norm: 1.0000, Test Linf Norm: 1.0000\n",
      "Epoch 3: Train Loss: 20.4272, Test Loss: 20.7357, Train L1 Norm: 1.0000, Test L1 Norm: 1.0000, Train Linf Norm: 1.0000, Test Linf Norm: 1.0000\n",
      "Epoch 4: Train Loss: 20.4272, Test Loss: 20.7357, Train L1 Norm: 1.0000, Test L1 Norm: 1.0000, Train Linf Norm: 1.0000, Test Linf Norm: 1.0000\n",
      "Epoch 5: Train Loss: 20.4272, Test Loss: 20.7357, Train L1 Norm: 1.0000, Test L1 Norm: 1.0000, Train Linf Norm: 1.0000, Test Linf Norm: 1.0000\n",
      "Epoch 6: Train Loss: 20.4272, Test Loss: 20.7357, Train L1 Norm: 1.0000, Test L1 Norm: 1.0000, Train Linf Norm: 1.0000, Test Linf Norm: 1.0000\n",
      "Epoch 7: Train Loss: 20.4272, Test Loss: 20.7357, Train L1 Norm: 1.0000, Test L1 Norm: 1.0000, Train Linf Norm: 1.0000, Test Linf Norm: 1.0000\n",
      "Epoch 8: Train Loss: 20.4272, Test Loss: 20.7357, Train L1 Norm: 1.0000, Test L1 Norm: 1.0000, Train Linf Norm: 1.0000, Test Linf Norm: 1.0000\n",
      "Epoch 9: Train Loss: 20.4272, Test Loss: 20.7357, Train L1 Norm: 1.0000, Test L1 Norm: 1.0000, Train Linf Norm: 1.0000, Test Linf Norm: 1.0000\n",
      "Epoch 10: Train Loss: 20.4272, Test Loss: 20.7357, Train L1 Norm: 1.0000, Test L1 Norm: 1.0000, Train Linf Norm: 1.0000, Test Linf Norm: 1.0000\n"
     ]
    }
   ],
   "source": [
    "# Training and evaluating the network using the train_and_eval function\n",
    "train_losses, test_losses, train_metrics, test_metrics = train_and_eval(\n",
    "    net, loss_fn, optimizer, batch_size, n_epochs, scheduler\n",
    ")"
   ]
  },
  {
   "cell_type": "markdown",
   "metadata": {},
   "source": [
    "## Visualizing the results"
   ]
  },
  {
   "cell_type": "code",
   "execution_count": 25,
   "metadata": {},
   "outputs": [
    {
     "data": {
      "text/plain": [
       "<Figure size 1200x800 with 0 Axes>"
      ]
     },
     "execution_count": 25,
     "metadata": {},
     "output_type": "execute_result"
    },
    {
     "data": {
      "text/plain": [
       "<Axes: >"
      ]
     },
     "execution_count": 25,
     "metadata": {},
     "output_type": "execute_result"
    },
    {
     "data": {
      "text/plain": [
       "[<matplotlib.lines.Line2D at 0x7eff89905290>]"
      ]
     },
     "execution_count": 25,
     "metadata": {},
     "output_type": "execute_result"
    },
    {
     "data": {
      "text/plain": [
       "[<matplotlib.lines.Line2D at 0x7eff89ad0950>]"
      ]
     },
     "execution_count": 25,
     "metadata": {},
     "output_type": "execute_result"
    },
    {
     "data": {
      "text/plain": [
       "Text(0.5, 0, 'Epoch')"
      ]
     },
     "execution_count": 25,
     "metadata": {},
     "output_type": "execute_result"
    },
    {
     "data": {
      "text/plain": [
       "Text(0, 0.5, 'Loss')"
      ]
     },
     "execution_count": 25,
     "metadata": {},
     "output_type": "execute_result"
    },
    {
     "data": {
      "text/plain": [
       "<matplotlib.legend.Legend at 0x7eff89900490>"
      ]
     },
     "execution_count": 25,
     "metadata": {},
     "output_type": "execute_result"
    },
    {
     "data": {
      "text/plain": [
       "<Axes: >"
      ]
     },
     "execution_count": 25,
     "metadata": {},
     "output_type": "execute_result"
    },
    {
     "data": {
      "text/plain": [
       "[<matplotlib.lines.Line2D at 0x7eff899ec790>]"
      ]
     },
     "execution_count": 25,
     "metadata": {},
     "output_type": "execute_result"
    },
    {
     "data": {
      "text/plain": [
       "[<matplotlib.lines.Line2D at 0x7eff8900f650>]"
      ]
     },
     "execution_count": 25,
     "metadata": {},
     "output_type": "execute_result"
    },
    {
     "data": {
      "text/plain": [
       "Text(0.5, 0, 'Epoch')"
      ]
     },
     "execution_count": 25,
     "metadata": {},
     "output_type": "execute_result"
    },
    {
     "data": {
      "text/plain": [
       "Text(0, 0.5, 'L1 Norm')"
      ]
     },
     "execution_count": 25,
     "metadata": {},
     "output_type": "execute_result"
    },
    {
     "data": {
      "text/plain": [
       "<matplotlib.legend.Legend at 0x7eff89ad1ed0>"
      ]
     },
     "execution_count": 25,
     "metadata": {},
     "output_type": "execute_result"
    },
    {
     "data": {
      "text/plain": [
       "<Axes: >"
      ]
     },
     "execution_count": 25,
     "metadata": {},
     "output_type": "execute_result"
    },
    {
     "data": {
      "text/plain": [
       "[<matplotlib.lines.Line2D at 0x7eff8900fbd0>]"
      ]
     },
     "execution_count": 25,
     "metadata": {},
     "output_type": "execute_result"
    },
    {
     "data": {
      "text/plain": [
       "[<matplotlib.lines.Line2D at 0x7eff89061650>]"
      ]
     },
     "execution_count": 25,
     "metadata": {},
     "output_type": "execute_result"
    },
    {
     "data": {
      "text/plain": [
       "Text(0.5, 0, 'Epoch')"
      ]
     },
     "execution_count": 25,
     "metadata": {},
     "output_type": "execute_result"
    },
    {
     "data": {
      "text/plain": [
       "Text(0, 0.5, 'Linf Norm')"
      ]
     },
     "execution_count": 25,
     "metadata": {},
     "output_type": "execute_result"
    },
    {
     "data": {
      "text/plain": [
       "<matplotlib.legend.Legend at 0x7eff89032dd0>"
      ]
     },
     "execution_count": 25,
     "metadata": {},
     "output_type": "execute_result"
    },
    {
     "data": {
      "image/png": "[encoded data removed]",
      "text/plain": [
       "<Figure size 1200x800 with 3 Axes>"
      ]
     },
     "metadata": {},
     "output_type": "display_data"
    },
    {
     "data": {
      "text/plain": [
       "<Figure size 800x600 with 0 Axes>"
      ]
     },
     "execution_count": 25,
     "metadata": {},
     "output_type": "execute_result"
    },
    {
     "data": {
      "text/plain": [
       "[<matplotlib.lines.Line2D at 0x7eff88f3d610>]"
      ]
     },
     "execution_count": 25,
     "metadata": {},
     "output_type": "execute_result"
    },
    {
     "data": {
      "text/plain": [
       "[<matplotlib.lines.Line2D at 0x7eff88f15490>]"
      ]
     },
     "execution_count": 25,
     "metadata": {},
     "output_type": "execute_result"
    },
    {
     "data": {
      "text/plain": [
       "Text(0.5, 0, 'Epoch')"
      ]
     },
     "execution_count": 25,
     "metadata": {},
     "output_type": "execute_result"
    },
    {
     "data": {
      "text/plain": [
       "Text(0, 0.5, 'MSE')"
      ]
     },
     "execution_count": 25,
     "metadata": {},
     "output_type": "execute_result"
    },
    {
     "data": {
      "text/plain": [
       "<matplotlib.legend.Legend at 0x7eff8907d410>"
      ]
     },
     "execution_count": 25,
     "metadata": {},
     "output_type": "execute_result"
    },
    {
     "data": {
      "image/png": "[encoded data removed]",
      "text/plain": [
       "<Figure size 800x600 with 1 Axes>"
      ]
     },
     "metadata": {},
     "output_type": "display_data"
    }
   ],
   "source": [
    "# Plotting the losses and metrics for the best network \n",
    "plt.figure(figsize=(12, 8))\n",
    "plt.subplot(2, 2, 1)\n",
    "plt.plot(train_losses, label=\"Train Loss\")\n",
    "plt.plot(test_losses, label=\"Test Loss\")\n",
    "plt.xlabel(\"Epoch\")\n",
    "plt.ylabel(\"Loss\")\n",
    "plt.legend()\n",
    "plt.subplot(2, 2, 2)\n",
    "plt.plot([m[\"l1_norm\"] for m in train_metrics], label=\"Train L1 Norm\")\n",
    "plt.plot([m[\"l1_norm\"] for m in test_metrics], label=\"Test L1 Norm\")\n",
    "plt.xlabel(\"Epoch\")\n",
    "plt.ylabel(\"L1 Norm\")\n",
    "plt.legend()\n",
    "plt.subplot(2, 2, 3)\n",
    "plt.plot([m[\"linf_norm\"] for m in train_metrics], label=\"Train Linf Norm\")\n",
    "plt.plot([m[\"linf_norm\"] for m in test_metrics], label=\"Test Linf Norm\")\n",
    "plt.xlabel(\"Epoch\")\n",
    "plt.ylabel(\"Linf Norm\")\n",
    "plt.legend()\n",
    "plt.tight_layout()\n",
    "plt.show()\n",
    "\n",
    "# Added plotting MSE of training data and MSE of test data in one plot \n",
    "plt.figure(figsize=(8, 6))\n",
    "plt.plot(train_losses,label=\"training data\")\n",
    "plt.plot(test_losses,label=\"test data\")\n",
    "#if scheduler is not None:\n",
    "#    plt.plot([scheduler.get_last_lr()[0] for _ in range(n_epochs)], label=\"Learning rate\") \n",
    "plt.xlabel(\"Epoch\")\n",
    "plt.ylabel(\"MSE\")\n",
    "plt.legend()\n",
    "plt.show()"
   ]
  },
  {
   "cell_type": "markdown",
   "metadata": {},
   "source": [
    "## Saving"
   ]
  },
  {
   "cell_type": "code",
   "execution_count": 26,
   "metadata": {},
   "outputs": [],
   "source": [
    "import json\n",
    "import pandas as pd\n",
    "\n",
    "# save the network to a .pth file\n",
    "torch.save(net.state_dict(), \"net.pth\")\n",
    "\n",
    "# save the optimizer to a .pth file\n",
    "torch.save(optimizer.state_dict(), \"optimizer.pth\")\n",
    "\n",
    "# save the scheduler to a .pth file if it is not None\n",
    "if scheduler is not None:\n",
    "  torch.save(scheduler.state_dict(), \"scheduler.pth\")\n",
    "\n",
    "# create a dictionary to store the rest of the variables\n",
    "var_dict = {\n",
    "  \"batch_size\": batch_size,\n",
    "  \"n_epochs\": n_epochs,\n",
    "  \"loss_name\": loss_name,\n",
    "  \"optimizer_name\": optimizer_name,\n",
    "  \"scheduler_name\": scheduler_name,\n",
    "  \"n_units\": n_units,\n",
    "  \"n_layers\": n_layers,\n",
    "  \"hidden_activation_name\": hidden_activation.__class__.__name__,\n",
    "  \"output_activation_name\": output_activation.__class__.__name__,\n",
    "  \"lr\": lr,\n",
    "}\n",
    "\n",
    "# save the dictionary to a .json file\n",
    "with open(\"var_dict.json\", \"w\") as f:\n",
    "  json.dump(var_dict, f)\n",
    "\n",
    "# Saving the output of the training using pandas\n",
    "train_df = pd.DataFrame(\n",
    "    {\n",
    "        \"train_loss\": train_losses,\n",
    "        \"test_loss\": test_losses,\n",
    "        \"train_l1_norm\": [m[\"l1_norm\"] for m in train_metrics],\n",
    "        \"test_l1_norm\": [m[\"l1_norm\"] for m in test_metrics],\n",
    "        \"train_linf_norm\": [m[\"linf_norm\"] for m in train_metrics],\n",
    "        \"test_linf_norm\": [m[\"linf_norm\"] for m in test_metrics],\n",
    "    }\n",
    ")\n",
    "train_df.to_csv(\"train_output.csv\", index=False)\n"
   ]
  },
  {
   "cell_type": "markdown",
   "metadata": {},
   "source": [
    "## Loading"
   ]
  },
  {
   "cell_type": "code",
   "execution_count": 27,
   "metadata": {},
   "outputs": [
    {
     "data": {
      "text/plain": [
       "<All keys matched successfully>"
      ]
     },
     "execution_count": 27,
     "metadata": {},
     "output_type": "execute_result"
    }
   ],
   "source": [
    "import json\n",
    "import pandas as pd\n",
    "\n",
    "# load the dictionary from the .json file\n",
    "with open(\"var_dict.json\", \"r\") as f:\n",
    "  var_dict_loaded = json.load(f)\n",
    "\n",
    "# extract the variables from the dictionary\n",
    "batch_size_loaded = var_dict_loaded[\"batch_size\"]\n",
    "n_epochs_loaded = var_dict_loaded[\"n_epochs\"]\n",
    "loss_name_loaded = var_dict_loaded[\"loss_name\"]\n",
    "optimizer_name_loaded = var_dict_loaded[\"optimizer_name\"]\n",
    "scheduler_name_loaded = var_dict_loaded[\"scheduler_name\"]\n",
    "n_units_loaded = var_dict_loaded[\"n_units\"]\n",
    "n_layers_loaded = var_dict_loaded[\"n_layers\"]\n",
    "hidden_activation_name_loaded = var_dict_loaded[\"hidden_activation_name\"]\n",
    "output_activation_name_loaded = var_dict_loaded[\"output_activation_name\"]\n",
    "lr_loaded = var_dict_loaded[\"lr\"]\n",
    "\n",
    "# create the activation functions from their names\n",
    "if hidden_activation_name_loaded == \"ReLU\":\n",
    "  hidden_activation_loaded = nn.ReLU()\n",
    "elif hidden_activation_name_loaded == \"LeakyReLU\":\n",
    "  hidden_activation_loaded = nn.LeakyReLU() \n",
    "elif hidden_activation_name_loaded == \"ELU\":\n",
    "  hidden_activation_loaded = nn.ELU() \n",
    "elif hidden_activation_name_loaded == \"Tanh\":\n",
    "  hidden_activation_loaded = nn.Tanh()\n",
    "else:\n",
    "  hidden_activation_loaded = nn.Sigmoid()\n",
    "\n",
    "if output_activation_name_loaded == \"ReLU\":\n",
    "  output_activation_loaded = nn.ReLU()\n",
    "else:\n",
    "  output_activation_loaded = nn.Identity()\n",
    "\n",
    "# load the network from the .pth file\n",
    "net_loaded = Net(n_layers_loaded, n_units_loaded, hidden_activation_loaded, output_activation_loaded).to(device)\n",
    "net_loaded.load_state_dict(torch.load(\"net.pth\"))\n",
    "\n",
    "# create the loss function from its name\n",
    "if loss_name_loaded == \"MSE\":\n",
    "  loss_fn_loaded = nn.MSELoss()\n",
    "elif loss_name_loaded == \"MAE\":\n",
    "  loss_fn_loaded = nn.L1Loss()\n",
    "elif loss_name_loaded == \"Huber\":\n",
    "  loss_fn_loaded = nn.SmoothL1Loss() \n",
    "else:\n",
    "  # create the log-cosh loss function\n",
    "  def log_cosh_loss_loaded(y_pred, y_true):\n",
    "    return torch.mean(torch.log(torch.cosh(y_pred - y_true)))\n",
    "  loss_fn_loaded = log_cosh_loss_loaded\n",
    "\n",
    "# load the optimizer from the .pth file\n",
    "if optimizer_name_loaded == \"SGD\":\n",
    "  optimizer_loaded = optim.SGD(net_loaded.parameters(), lr=lr_loaded)\n",
    "elif optimizer_name_loaded == \"Adam\":\n",
    "  optimizer_loaded = optim.Adam(net_loaded.parameters(), lr=lr_loaded)\n",
    "elif optimizer_name_loaded == \"RMSprop\":\n",
    "  optimizer_loaded = optim.RMSprop(net_loaded.parameters(), lr=lr_loaded)\n",
    "else:\n",
    "  # Added loading the Adagrad optimizer\n",
    "  optimizer_loaded = optim.Adagrad(net_loaded.parameters(), lr=lr_loaded)\n",
    "optimizer_loaded.load_state_dict(torch.load(\"optimizer.pth\"))\n",
    "\n",
    "if scheduler_name_loaded == \"StepLR\":\n",
    "  scheduler_loaded = optim.lr_scheduler.StepLR(optimizer_loaded, step_size=10, gamma=0.1)\n",
    "elif scheduler_name_loaded == \"ExponentialLR\":\n",
    "  scheduler_loaded = optim.lr_scheduler.ExponentialLR(optimizer_loaded, gamma=0.9)\n",
    "elif scheduler_name_loaded == \"CosineAnnealingLR\":\n",
    "  scheduler_loaded = optim.lr_scheduler.CosineAnnealingLR(optimizer_loaded, T_max=10)\n",
    "elif scheduler_name_loaded == \"ReduceLROnPlateau\":\n",
    "  scheduler_loaded = optim.lr_scheduler.ReduceLROnPlateau(\n",
    "                    optimizer_loaded, mode=\"min\", factor=0.5, patience=5, threshold=0.0005, min_lr=1e-6\n",
    "                )\n",
    "else:\n",
    "  scheduler_loaded = None\n",
    "\n",
    "if scheduler_loaded is not None:\n",
    "  scheduler_loaded.load_state_dict(torch.load(\"scheduler.pth\"))\n",
    "            \n",
    "\n",
    "# Loading the output of the training using pandas\n",
    "train_df_loaded = pd.read_csv(\"train_output.csv\")\n",
    "train_losses_loaded = train_df_loaded[\"train_loss\"].tolist()\n",
    "test_losses_loaded = train_df_loaded[\"test_loss\"].tolist()\n",
    "train_metrics_loaded = [\n",
    "    {\n",
    "        \"l1_norm\": train_df_loaded[\"train_l1_norm\"][i],\n",
    "        \"linf_norm\": train_df_loaded[\"train_linf_norm\"][i],\n",
    "    }\n",
    "    for i in range(len(train_df_loaded))\n",
    "]\n",
    "test_metrics_loaded = [\n",
    "    {\n",
    "        \"l1_norm\": train_df_loaded[\"test_l1_norm\"][i],\n",
    "        \"linf_norm\": train_df_loaded[\"test_linf_norm\"][i],\n",
    "    }\n",
    "    for i in range(len(train_df_loaded))\n",
    "]"
   ]
  },
  {
   "cell_type": "code",
   "execution_count": 1,
   "metadata": {},
   "outputs": [
    {
     "ename": "NameError",
     "evalue": "name 'batch_size_loaded' is not defined",
     "output_type": "error",
     "traceback": [
      "\u001b[0;31m---------------------------------------------------------------------------\u001b[0m",
      "\u001b[0;31mNameError\u001b[0m                                 Traceback (most recent call last)",
      "Cell \u001b[0;32mIn[1], line 1\u001b[0m\n\u001b[0;32m----> 1\u001b[0m batch_size_loaded\n\u001b[1;32m      2\u001b[0m n_epochs_loaded\n\u001b[1;32m      3\u001b[0m loss_name_loaded\n",
      "\u001b[0;31mNameError\u001b[0m: name 'batch_size_loaded' is not defined"
     ]
    }
   ],
   "source": [
    "batch_size_loaded\n",
    "n_epochs_loaded\n",
    "loss_name_loaded\n",
    "optimizer_name_loaded\n",
    "scheduler_name_loaded\n",
    "n_units_loaded\n",
    "n_layers_loaded\n",
    "hidden_activation_name_loaded\n",
    "output_activation_name_loaded\n",
    "lr_loaded\n",
    "hidden_activation_loaded\n",
    "output_activation_loaded\n",
    "net_loaded\n",
    "loss_fn_loaded\n",
    "optimizer_loaded\n",
    "scheduler_loaded\n",
    "#train_losses_loaded\n",
    "#test_losses_loaded\n",
    "#train_metrics_loaded\n",
    "#test_metrics_loaded"
   ]
  },
  {
   "attachments": {},
   "cell_type": "markdown",
   "metadata": {},
   "source": [
    "## Porting the model to C++"
   ]
  },
  {
   "cell_type": "code",
   "execution_count": 31,
   "metadata": {},
   "outputs": [
    {
     "ename": "RuntimeError",
     "evalue": "\n'__torch__.torch.nn.modules.linear.Linear (of Python compilation unit at: 0x562331d8b7d0)' object has no attribute or method '__call__'. Did you forget to initialize an attribute in __init__()?:\n  File \"/tmp/ipykernel_85599/558493000.py\", line 54\n        # Looping over the hidden layers and applying the linear transformation and the activation function\n        for layer in self.layers[:-1]:\n            x = self.hidden_activation(layer(x))\n                                       ~~~~~ <--- HERE\n        # Applying the linear transformation and the activation function on the output layer\n        x = self.output_activation(self.layers[-1](x))\n",
     "output_type": "error",
     "traceback": [
      "\u001b[0;31m---------------------------------------------------------------------------\u001b[0m",
      "\u001b[0;31mRuntimeError\u001b[0m                              Traceback (most recent call last)",
      "Cell \u001b[0;32mIn[31], line 2\u001b[0m\n\u001b[1;32m      1\u001b[0m \u001b[39m# Scripting the network using torch.jit.script\u001b[39;00m\n\u001b[0;32m----> 2\u001b[0m net_scripted \u001b[39m=\u001b[39m torch\u001b[39m.\u001b[39;49mjit\u001b[39m.\u001b[39;49mscript(net_loaded)\n\u001b[1;32m      4\u001b[0m \u001b[39m# Saving the scripted module to a file using the save method\u001b[39;00m\n\u001b[1;32m      5\u001b[0m net_scripted\u001b[39m.\u001b[39msave(\u001b[39m'\u001b[39m\u001b[39mnet_scripted.pt\u001b[39m\u001b[39m'\u001b[39m)\n",
      "File \u001b[0;32m~/.local/lib/python3.11/site-packages/torch/jit/_script.py:1284\u001b[0m, in \u001b[0;36mscript\u001b[0;34m(obj, optimize, _frames_up, _rcb, example_inputs)\u001b[0m\n\u001b[1;32m   1282\u001b[0m \u001b[39mif\u001b[39;00m \u001b[39misinstance\u001b[39m(obj, torch\u001b[39m.\u001b[39mnn\u001b[39m.\u001b[39mModule):\n\u001b[1;32m   1283\u001b[0m     obj \u001b[39m=\u001b[39m call_prepare_scriptable_func(obj)\n\u001b[0;32m-> 1284\u001b[0m     \u001b[39mreturn\u001b[39;00m torch\u001b[39m.\u001b[39;49mjit\u001b[39m.\u001b[39;49m_recursive\u001b[39m.\u001b[39;49mcreate_script_module(\n\u001b[1;32m   1285\u001b[0m         obj, torch\u001b[39m.\u001b[39;49mjit\u001b[39m.\u001b[39;49m_recursive\u001b[39m.\u001b[39;49minfer_methods_to_compile\n\u001b[1;32m   1286\u001b[0m     )\n\u001b[1;32m   1288\u001b[0m \u001b[39mif\u001b[39;00m \u001b[39misinstance\u001b[39m(obj, \u001b[39mdict\u001b[39m):\n\u001b[1;32m   1289\u001b[0m     \u001b[39mreturn\u001b[39;00m create_script_dict(obj)\n",
      "File \u001b[0;32m~/.local/lib/python3.11/site-packages/torch/jit/_recursive.py:480\u001b[0m, in \u001b[0;36mcreate_script_module\u001b[0;34m(nn_module, stubs_fn, share_types, is_tracing)\u001b[0m\n\u001b[1;32m    478\u001b[0m \u001b[39mif\u001b[39;00m \u001b[39mnot\u001b[39;00m is_tracing:\n\u001b[1;32m    479\u001b[0m     AttributeTypeIsSupportedChecker()\u001b[39m.\u001b[39mcheck(nn_module)\n\u001b[0;32m--> 480\u001b[0m \u001b[39mreturn\u001b[39;00m create_script_module_impl(nn_module, concrete_type, stubs_fn)\n",
      "File \u001b[0;32m~/.local/lib/python3.11/site-packages/torch/jit/_recursive.py:546\u001b[0m, in \u001b[0;36mcreate_script_module_impl\u001b[0;34m(nn_module, concrete_type, stubs_fn)\u001b[0m\n\u001b[1;32m    544\u001b[0m \u001b[39m# Compile methods if necessary\u001b[39;00m\n\u001b[1;32m    545\u001b[0m \u001b[39mif\u001b[39;00m concrete_type \u001b[39mnot\u001b[39;00m \u001b[39min\u001b[39;00m concrete_type_store\u001b[39m.\u001b[39mmethods_compiled:\n\u001b[0;32m--> 546\u001b[0m     create_methods_and_properties_from_stubs(concrete_type, method_stubs, property_stubs)\n\u001b[1;32m    547\u001b[0m     \u001b[39m# Create hooks after methods to ensure no name collisions between hooks and methods.\u001b[39;00m\n\u001b[1;32m    548\u001b[0m     \u001b[39m# If done before, hooks can overshadow methods that aren't exported.\u001b[39;00m\n\u001b[1;32m    549\u001b[0m     create_hooks_from_stubs(concrete_type, hook_stubs, pre_hook_stubs)\n",
      "File \u001b[0;32m~/.local/lib/python3.11/site-packages/torch/jit/_recursive.py:397\u001b[0m, in \u001b[0;36mcreate_methods_and_properties_from_stubs\u001b[0;34m(concrete_type, method_stubs, property_stubs)\u001b[0m\n\u001b[1;32m    394\u001b[0m property_defs \u001b[39m=\u001b[39m [p\u001b[39m.\u001b[39mdef_ \u001b[39mfor\u001b[39;00m p \u001b[39min\u001b[39;00m property_stubs]\n\u001b[1;32m    395\u001b[0m property_rcbs \u001b[39m=\u001b[39m [p\u001b[39m.\u001b[39mresolution_callback \u001b[39mfor\u001b[39;00m p \u001b[39min\u001b[39;00m property_stubs]\n\u001b[0;32m--> 397\u001b[0m concrete_type\u001b[39m.\u001b[39;49m_create_methods_and_properties(property_defs, property_rcbs, method_defs, method_rcbs, method_defaults)\n",
      "\u001b[0;31mRuntimeError\u001b[0m: \n'__torch__.torch.nn.modules.linear.Linear (of Python compilation unit at: 0x562331d8b7d0)' object has no attribute or method '__call__'. Did you forget to initialize an attribute in __init__()?:\n  File \"/tmp/ipykernel_85599/558493000.py\", line 54\n        # Looping over the hidden layers and applying the linear transformation and the activation function\n        for layer in self.layers[:-1]:\n            x = self.hidden_activation(layer(x))\n                                       ~~~~~ <--- HERE\n        # Applying the linear transformation and the activation function on the output layer\n        x = self.output_activation(self.layers[-1](x))\n"
     ]
    }
   ],
   "source": [
    "# Scripting the network using torch.jit.script\n",
    "net_scripted = torch.jit.script(net_loaded)\n",
    "\n",
    "# Saving the scripted module to a file using the save method\n",
    "net_scripted.save('net_scripted.pt')"
   ]
  }
 ],
 "metadata": {
  "kernelspec": {
   "display_name": "bsc",
   "language": "python",
   "name": "python3"
  },
  "language_info": {
   "codemirror_mode": {
    "name": "ipython",
    "version": 3
   },
   "file_extension": ".py",
   "mimetype": "text/x-python",
   "name": "python",
   "nbconvert_exporter": "python",
   "pygments_lexer": "ipython3",
   "version": "3.11.3"
  },
  "orig_nbformat": 4
 },
 "nbformat": 4,
 "nbformat_minor": 2
}
