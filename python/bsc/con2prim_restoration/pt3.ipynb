{
 "cells": [
  {
   "attachments": {},
   "cell_type": "markdown",
   "metadata": {},
   "source": [
    "# Neural network to learn conservative-to-primitive conversion in relativistic hydrodynamics\n",
    "We use Optuna to do a type of Bayesian optimization of the hyperparameters of the model. We then train the model using these hyperparameters to recover the primitive pressure from the conserved variables.\n",
    "\n",
    "Use this first cell to convert this notebook to a python script."
   ]
  },
  {
   "cell_type": "code",
<<<<<<< HEAD
   "execution_count": 3,
=======
   "execution_count": 102,
>>>>>>> 0712b3e9a6145fc46dc4a4dc1cb5bdc792efd7ec
   "metadata": {
    "tags": [
     "remove_cell"
    ]
   },
   "outputs": [
    {
     "name": "stderr",
     "output_type": "stream",
     "text": [
      "C:\\Users\\bvptr\\anaconda3\\envs\\bsc\\Lib\\site-packages\\traitlets\\traitlets.py:2548: FutureWarning: Supporting extra quotes around strings is deprecated in traitlets 5.0. You can use 'remove_cell' instead of \"'remove_cell'\" if you require traitlets >=5.\n",
      "  warn(\n",
      "[NbConvertApp] Converting notebook pt3.ipynb to script\n",
<<<<<<< HEAD
      "[NbConvertApp] Writing 32961 bytes to pt3.py\n"
=======
      "[NbConvertApp] Writing 38951 bytes to pt3.py\n"
>>>>>>> 0712b3e9a6145fc46dc4a4dc1cb5bdc792efd7ec
     ]
    }
   ],
   "source": [
    "!jupyter nbconvert pt3.ipynb --TagRemovePreprocessor.enabled=True --TagRemovePreprocessor.remove_cell_tags='{\"remove_cell\"}' --to script"
   ]
  },
  {
   "cell_type": "code",
<<<<<<< HEAD
   "execution_count": 4,
=======
   "execution_count": 103,
>>>>>>> 0712b3e9a6145fc46dc4a4dc1cb5bdc792efd7ec
   "metadata": {},
   "outputs": [],
   "source": [
    "# Importing the libraries\n",
    "import numpy as np\n",
    "import matplotlib.pyplot as plt\n",
    "import torch\n",
    "import torch.nn as nn\n",
    "import torch.optim as optim\n",
    "import torch.nn.functional as F\n",
    "import optuna\n",
    "import tensorboardX as tbx"
   ]
  },
  {
   "attachments": {},
   "cell_type": "markdown",
   "metadata": {},
   "source": [
    "## Constants and flags to set\n",
    "Defining some constants and parameters for convenience."
   ]
  },
  {
   "cell_type": "code",
<<<<<<< HEAD
   "execution_count": 5,
=======
   "execution_count": 104,
>>>>>>> 0712b3e9a6145fc46dc4a4dc1cb5bdc792efd7ec
   "metadata": {},
   "outputs": [],
   "source": [
    "\n",
    "N_TRIALS = 100 # Number of trials for hyperparameter optimization\n",
    "OPTIMIZE = False # Whether to optimize the hyperparameters or to use predetermined values from Dieseldorst et al..\n",
    "TRAIN = False # Whether to train the model or to load a pretrained model.\n",
    "\n",
    "# Hyperparameters when no hyperparameter optimization is performed. \n",
    "N_LAYERS_NO_OPT = 2\n",
    "N_UNITS_NO_OPT = [600, 200]\n",
    "HIDDEN_ACTIVATION_NAME_NO_OPT = \"Sigmoid\"\n",
    "OUTPUT_ACTIVATION_NAME_NO_OPT = \"ReLU\"\n",
    "LOSS_NAME_NO_OPT = \"MSE\"\n",
    "OPTIMIZER_NAME_NO_OPT = \"Adam\"\n",
    "LR_NO_OPT = 6e-4\n",
    "BATCH_SIZE_NO_OPT = 32\n",
    "N_EPOCHS_NO_OPT = 10\n",
    "SCHEDULER_NAME_NO_OPT = \"ReduceLROnPlateau\"\n",
    "\n",
    "c = 1  # Speed of light (used in compute_conserved_variables and sample_primitive_variables functions)\n",
    "gamma = 5 / 3  # Adiabatic index (used in eos_analytic function)\n",
    "n_train_samples = 80000 # Number of training samples (used in generate_input_data and generate_labels functions)\n",
    "n_test_samples = 10000 # Number of test samples (used in generate_input_data and generate_labels functions)\n",
    "rho_interval = (0, 10.1) # Sampling interval for rest-mass density (used in sample_primitive_variables function)\n",
    "vx_interval = (0, 0.721 * c) # Sampling interval for velocity in x-direction (used in sample_primitive_variables function)\n",
    "epsilon_interval = (0, 2.02) # Sampling interval for specific internal energy (used in sample_primitive_variables function)\n",
    "\n",
    "np.random.seed(1) # Uncomment for pseudorandom data."
   ]
  },
  {
   "cell_type": "markdown",
   "metadata": {},
   "source": [
    "## Generating the data"
   ]
  },
  {
   "cell_type": "code",
<<<<<<< HEAD
   "execution_count": 6,
=======
   "execution_count": 105,
>>>>>>> 0712b3e9a6145fc46dc4a4dc1cb5bdc792efd7ec
   "metadata": {},
   "outputs": [],
   "source": [
    "\n",
    "# Checking if GPU is available and setting the device accordingly\n",
    "device = torch.device(\"cuda\" if torch.cuda.is_available() else \"cpu\")\n",
    "\n",
    "# Defining an analytic equation of state (EOS) for an ideal gas\n",
    "def eos_analytic(rho, epsilon):\n",
    "    \"\"\"Computes the pressure from rest-mass density and specific internal energy using an analytic EOS.\n",
    "\n",
    "    Args:\n",
    "        rho (torch.Tensor): The rest-mass density tensor of shape (n_samples,).\n",
    "        epsilon (torch.Tensor): The specific internal energy tensor of shape (n_samples,).\n",
    "\n",
    "    Returns:\n",
    "        torch.Tensor: The pressure tensor of shape (n_samples,).\n",
    "    \"\"\"\n",
    "    # Adding some assertions to check that the input tensors are valid and have the expected shape and type \n",
    "    assert isinstance(rho, torch.Tensor), \"rho must be a torch.Tensor\"\n",
    "    assert isinstance(epsilon, torch.Tensor), \"epsilon must be a torch.Tensor\"\n",
    "    assert rho.shape == epsilon.shape, \"rho and epsilon must have the same shape\"\n",
    "    assert rho.ndim == 1, \"rho and epsilon must be one-dimensional tensors\"\n",
    "    assert rho.dtype == torch.float32, \"rho and epsilon must have dtype torch.float32\"\n",
    "\n",
    "    return (gamma - 1) * rho * epsilon\n",
    "\n",
    "\n",
    "# Defining a function that samples primitive variables from uniform distributions\n",
    "def sample_primitive_variables(n_samples):\n",
    "    \"\"\"Samples primitive variables from uniform distributions.\n",
    "\n",
    "    Args:\n",
    "        n_samples (int): The number of samples to generate.\n",
    "\n",
    "    Returns:\n",
    "        tuple: A tuple of (rho, vx, epsilon), where rho is rest-mass density,\n",
    "            vx is velocity in x-direction,\n",
    "            epsilon is specific internal energy,\n",
    "            each being a numpy array of shape (n_samples,).\n",
    "    \"\"\"\n",
    "    # Sampling from uniform distributions with intervals matching Dieseldorst et al.\n",
    "    rho = np.random.uniform(*rho_interval, size=n_samples)  # Rest-mass density\n",
    "    vx = np.random.uniform(*vx_interval, size=n_samples)  # Velocity in x-direction\n",
    "    epsilon = np.random.uniform(*epsilon_interval, size=n_samples)  # Specific internal energy\n",
    "\n",
    "    # Returning the primitive variables\n",
    "    return rho, vx, epsilon\n",
    "\n",
    "\n",
    "# Defining a function that computes conserved variables from primitive variables\n",
    "def compute_conserved_variables(rho, vx, epsilon):\n",
    "    \"\"\"Computes conserved variables from primitive variables.\n",
    "\n",
    "    Args:\n",
    "        rho (torch.Tensor): The rest-mass density tensor of shape (n_samples,).\n",
    "        vx (torch.Tensor): The velocity in x-direction tensor of shape (n_samples,).\n",
    "        epsilon (torch.Tensor): The specific internal energy tensor of shape (n_samples,).\n",
    "\n",
    "    Returns:\n",
    "        tuple: A tuple of (D, Sx, tau), where D is conserved density,\n",
    "            Sx is conserved momentum in x-direction,\n",
    "            tau is conserved energy density,\n",
    "            each being a torch tensor of shape (n_samples,).\n",
    "    \"\"\"\n",
    "\n",
    "    # Computing the pressure from the primitive variables using the EOS\n",
    "    p = eos_analytic(rho, epsilon)\n",
    "    # Computing the Lorentz factor from the velocity.\n",
    "    W = 1 / torch.sqrt(1 - vx ** 2 / c ** 2)\n",
    "    # Specific enthalpy\n",
    "    h = 1 + epsilon + p / rho  \n",
    "\n",
    "    # Computing the conserved variables from the primitive variables\n",
    "    D = rho * W  # Conserved density\n",
    "    Sx = rho * h * W ** 2 * vx  # Conserved momentum in x-direction\n",
    "    tau = rho * h * W ** 2 - p - D  # Conserved energy density\n",
    "\n",
    "    # Returning the conserved variables\n",
    "    return D, Sx, tau\n",
    "\n",
    "\n",
    "# Defining a function that generates input data (conserved variables) from random samples of primitive variables\n",
    "def generate_input_data(n_samples):\n",
    "    \"\"\"Generates input data (conserved variables) from random samples of primitive variables.\n",
    "\n",
    "    Args:\n",
    "        n_samples (int): The number of samples to generate.\n",
    "\n",
    "    Returns:\n",
    "        torch.Tensor: The input data tensor of shape (n_samples, 3).\n",
    "    \"\"\"\n",
    "    # Sampling the primitive variables using the sample_primitive_variables function\n",
    "    rho, vx, epsilon = sample_primitive_variables(n_samples)\n",
    "\n",
    "    # Converting the numpy arrays to torch tensors and moving them to the device\n",
    "    rho = torch.tensor(rho, dtype=torch.float32).to(device)\n",
    "    vx = torch.tensor(vx, dtype=torch.float32).to(device)\n",
    "    epsilon = torch.tensor(epsilon, dtype=torch.float32).to(device)\n",
    "\n",
    "    # Computing the conserved variables using the compute_conserved_variables function\n",
    "    D, Sx, tau = compute_conserved_variables(rho, vx, epsilon)\n",
    "\n",
    "    # Stacking the conserved variables into a torch tensor\n",
    "    x = torch.stack([D, Sx, tau], axis=1)\n",
    "\n",
    "    # Returning the input data tensor\n",
    "    return x\n",
    "\n",
    "# Defining a function that generates output data (labels) from random samples of primitive variables\n",
    "def generate_labels(n_samples):\n",
    "    \"\"\"Generates output data (labels) from random samples of primitive variables.\n",
    "\n",
    "    Args:\n",
    "        n_samples (int): The number of samples to generate.\n",
    "\n",
    "    Returns:\n",
    "        torch.Tensor: The output data tensor of shape (n_samples,).\n",
    "    \"\"\"\n",
    "    # Sampling the primitive variables using the sample_primitive_variables function\n",
    "    rho, _, epsilon = sample_primitive_variables(n_samples)\n",
    "\n",
    "    # Converting the numpy arrays to torch tensors and moving them to the device\n",
    "    rho = torch.tensor(rho, dtype=torch.float32).to(device)\n",
    "    epsilon = torch.tensor(epsilon, dtype=torch.float32).to(device)\n",
    "\n",
    "    # Computing the pressure from the primitive variables using the EOS\n",
    "    p = eos_analytic(rho, epsilon)\n",
    "\n",
    "    # Returning the output data tensor\n",
    "    return p\n"
   ]
  },
  {
   "cell_type": "code",
<<<<<<< HEAD
   "execution_count": 7,
=======
   "execution_count": 106,
>>>>>>> 0712b3e9a6145fc46dc4a4dc1cb5bdc792efd7ec
   "metadata": {},
   "outputs": [
    {
     "data": {
      "text/plain": [
       "<Figure size 800x400 with 0 Axes>"
      ]
     },
<<<<<<< HEAD
     "execution_count": 7,
=======
     "execution_count": 106,
>>>>>>> 0712b3e9a6145fc46dc4a4dc1cb5bdc792efd7ec
     "metadata": {},
     "output_type": "execute_result"
    },
    {
     "data": {
      "text/plain": [
       "<Axes: >"
      ]
     },
<<<<<<< HEAD
     "execution_count": 7,
=======
     "execution_count": 106,
>>>>>>> 0712b3e9a6145fc46dc4a4dc1cb5bdc792efd7ec
     "metadata": {},
     "output_type": "execute_result"
    },
    {
     "data": {
      "text/plain": [
       "(array([15765., 10500.,  8450.,  6929.,  5916.,  5065.,  4505.,  3999.,\n",
       "         3422.,  3019.,  2558.,  2218.,  1873.,  1538.,  1293.,  1042.,\n",
       "          775.,   593.,   376.,   164.]),\n",
       " array([4.71082276e-05, 6.71799541e-01, 1.34355199e+00, 2.01530433e+00,\n",
       "        2.68705678e+00, 3.35880923e+00, 4.03056192e+00, 4.70231438e+00,\n",
       "        5.37406635e+00, 6.04581881e+00, 6.71757126e+00, 7.38932371e+00,\n",
       "        8.06107616e+00, 8.73282909e+00, 9.40458107e+00, 1.00763340e+01,\n",
       "        1.07480860e+01, 1.14198389e+01, 1.20915909e+01, 1.27633438e+01,\n",
       "        1.34350958e+01]),\n",
       " <BarContainer object of 20 artists>)"
      ]
     },
<<<<<<< HEAD
     "execution_count": 7,
=======
     "execution_count": 106,
>>>>>>> 0712b3e9a6145fc46dc4a4dc1cb5bdc792efd7ec
     "metadata": {},
     "output_type": "execute_result"
    },
    {
     "data": {
      "text/plain": [
       "Text(0.5, 0, 'y_train')"
      ]
     },
<<<<<<< HEAD
     "execution_count": 7,
=======
     "execution_count": 106,
>>>>>>> 0712b3e9a6145fc46dc4a4dc1cb5bdc792efd7ec
     "metadata": {},
     "output_type": "execute_result"
    },
    {
     "data": {
      "text/plain": [
       "Text(0, 0.5, 'Frequency')"
      ]
     },
<<<<<<< HEAD
     "execution_count": 7,
=======
     "execution_count": 106,
>>>>>>> 0712b3e9a6145fc46dc4a4dc1cb5bdc792efd7ec
     "metadata": {},
     "output_type": "execute_result"
    },
    {
     "data": {
      "text/plain": [
       "<Axes: >"
      ]
     },
<<<<<<< HEAD
     "execution_count": 7,
=======
     "execution_count": 106,
>>>>>>> 0712b3e9a6145fc46dc4a4dc1cb5bdc792efd7ec
     "metadata": {},
     "output_type": "execute_result"
    },
    {
     "data": {
      "text/plain": [
       "(array([1926., 1245., 1056.,  896.,  764.,  651.,  511.,  496.,  425.,\n",
       "         383.,  329.,  281.,  275.,  208.,  167.,  127.,   94.,   77.,\n",
       "          58.,   31.]),\n",
       " array([9.00165905e-05, 6.63420200e-01, 1.32675040e+00, 1.99008060e+00,\n",
       "        2.65341091e+00, 3.31674099e+00, 3.98007131e+00, 4.64340162e+00,\n",
       "        5.30673170e+00, 5.97006178e+00, 6.63339186e+00, 7.29672241e+00,\n",
       "        7.96005249e+00, 8.62338257e+00, 9.28671265e+00, 9.95004272e+00,\n",
       "        1.06133728e+01, 1.12767038e+01, 1.19400339e+01, 1.26033640e+01,\n",
       "        1.32666941e+01]),\n",
       " <BarContainer object of 20 artists>)"
      ]
     },
<<<<<<< HEAD
     "execution_count": 7,
=======
     "execution_count": 106,
>>>>>>> 0712b3e9a6145fc46dc4a4dc1cb5bdc792efd7ec
     "metadata": {},
     "output_type": "execute_result"
    },
    {
     "data": {
      "text/plain": [
       "Text(0.5, 0, 'y_test')"
      ]
     },
<<<<<<< HEAD
     "execution_count": 7,
=======
     "execution_count": 106,
>>>>>>> 0712b3e9a6145fc46dc4a4dc1cb5bdc792efd7ec
     "metadata": {},
     "output_type": "execute_result"
    },
    {
     "data": {
      "text/plain": [
       "Text(0, 0.5, 'Frequency')"
      ]
     },
<<<<<<< HEAD
     "execution_count": 7,
=======
     "execution_count": 106,
>>>>>>> 0712b3e9a6145fc46dc4a4dc1cb5bdc792efd7ec
     "metadata": {},
     "output_type": "execute_result"
    },
    {
     "data": {
      "image/png": "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",
      "text/plain": [
       "<Figure size 800x400 with 2 Axes>"
      ]
     },
     "metadata": {},
     "output_type": "display_data"
    },
    {
     "name": "stdout",
     "output_type": "stream",
     "text": [
      "Shape of x_train: torch.Size([80000, 3])\n",
      "Shape of y_train: torch.Size([80000])\n",
      "Shape of x_test: torch.Size([10000, 3])\n",
      "Shape of y_test: torch.Size([10000])\n"
     ]
    }
   ],
   "source": [
    "\n",
    "# Generating the input and output data for train and test sets using the functions defined\n",
    "# Using the same number of samples as Dieseldorst et al.\n",
    "x_train = generate_input_data(n_train_samples)\n",
    "y_train = generate_labels(n_train_samples) \n",
    "x_test = generate_input_data(n_test_samples) \n",
    "y_test = generate_labels(n_test_samples) \n",
    "\n",
    "# Checking if our output is always positive by plotting a histogram of y_train and y_test tensors \n",
    "plt.figure(figsize=(8, 4))\n",
    "plt.subplot(1, 2, 1)\n",
    "plt.hist(y_train.cpu().numpy(), bins=20)\n",
    "plt.xlabel(\"y_train\")\n",
    "plt.ylabel(\"Frequency\")\n",
    "plt.subplot(1, 2, 2)\n",
    "plt.hist(y_test.cpu().numpy(), bins=20)\n",
    "plt.xlabel(\"y_test\")\n",
    "plt.ylabel(\"Frequency\")\n",
    "plt.tight_layout()\n",
    "plt.show()\n",
    "\n",
    "# Checking the shapes of the data tensors\n",
    "print(\"Shape of x_train:\", x_train.shape)\n",
    "print(\"Shape of y_train:\", y_train.shape)\n",
    "print(\"Shape of x_test:\", x_test.shape)\n",
    "print(\"Shape of y_test:\", y_test.shape)"
   ]
  },
  {
   "cell_type": "markdown",
   "metadata": {},
   "source": [
    "## Defining the neural network"
   ]
  },
  {
   "cell_type": "code",
<<<<<<< HEAD
   "execution_count": 8,
=======
   "execution_count": 107,
>>>>>>> 0712b3e9a6145fc46dc4a4dc1cb5bdc792efd7ec
   "metadata": {},
   "outputs": [],
   "source": [
    "# Defining a class for the network\n",
    "class Net(nn.Module):\n",
    "    \"\"\"A class for creating a network with a\n",
    "    variable number of hidden layers and units.\n",
    "\n",
    "    Attributes:\n",
    "        n_layers (int): The number of hidden layers in the network.\n",
    "        n_units (list): A list of integers representing the number of units in each hidden layer.\n",
    "        hidden_activation (torch.nn.Module): The activation function for the hidden layers.\n",
    "        output_activation (torch.nn.Module): The activation function for the output layer.\n",
    "        layers (torch.nn.ModuleList): A list of linear layers in the network.\n",
    "    \"\"\"\n",
    "\n",
    "    def __init__(self, n_layers, n_units, hidden_activation, output_activation):\n",
    "        \"\"\"Initializes the network with the given hyperparameters.\n",
    "\n",
    "        Args:\n",
    "            n_layers (int): The number of hidden layers in the network.\n",
    "            n_units (list): A list of integers representing the number of units in each hidden layer.\n",
    "            hidden_activation (torch.nn.Module): The activation function for the hidden layers.\n",
    "            output_activation (torch.nn.Module): The activation function for the output layer.\n",
    "        \"\"\"\n",
    "        super().__init__()\n",
    "        self.n_layers = n_layers\n",
    "        self.n_units = n_units\n",
    "        self.hidden_activation = hidden_activation\n",
    "        self.output_activation = output_activation\n",
    "\n",
    "        # Creating a list of linear layers with different numbers of units for each layer\n",
    "        self.layers = nn.ModuleList([nn.Linear(3, n_units[0])])\n",
    "        for i in range(1, n_layers):\n",
    "            self.layers.append(nn.Linear(n_units[i - 1], n_units[i]))\n",
    "        self.layers.append(nn.Linear(n_units[-1], 1))\n",
    "\n",
<<<<<<< HEAD
    "        # Adding some assertions to check that the input arguments are valid.\n",
=======
    "        # Adding some assertions to check that the input arguments are valid\n",
>>>>>>> 0712b3e9a6145fc46dc4a4dc1cb5bdc792efd7ec
    "        assert isinstance(n_layers, int) and n_layers > 0, \"n_layers must be a positive integer\"\n",
    "        assert isinstance(n_units, list) and len(n_units) == n_layers, \"n_units must be a list of length n_layers\"\n",
    "        assert all(isinstance(n, int) and n > 0 for n in n_units), \"n_units must contain positive integers\"\n",
    "        assert isinstance(hidden_activation, nn.Module), \"hidden_activation must be a torch.nn.Module\"\n",
    "        assert isinstance(output_activation, nn.Module), \"output_activation must be a torch.nn.Module\"\n",
    "\n",
    "    def forward(self, x):\n",
    "        \"\"\"Performs a forward pass on the input tensor.\n",
    "\n",
    "        Args:\n",
    "            x (torch.Tensor): The input tensor of shape (batch_size, 3).\n",
    "\n",
    "        Returns:\n",
    "            torch.Tensor: The output tensor of shape (batch_size, 1).\n",
    "        \"\"\"\n",
    "        # Looping over the hidden layers and applying the linear transformation and the activation function\n",
    "        for layer in self.layers[:-1]:\n",
    "            x = self.hidden_activation(layer(x))\n",
    "        # Applying the linear transformation and the activation function on the output layer\n",
    "        x = self.output_activation(self.layers[-1](x))\n",
    "\n",
    "        # Returning the output tensor\n",
    "        return x"
   ]
  },
  {
   "cell_type": "markdown",
   "metadata": {},
   "source": [
    "## Defining the model and search space"
   ]
  },
  {
   "cell_type": "code",
   "execution_count": 108,
   "metadata": {},
   "outputs": [],
   "source": [
    "# Defining a function to create a trial network and optimizer\n",
    "def create_model(trial, optimize):\n",
    "    \"\"\"Creates a trial network and optimizer based on the sampled hyperparameters.\n",
    "\n",
    "    Args:\n",
    "        trial (optuna.trial.Trial): The trial object that contains the hyperparameters.\n",
    "        optimize (boolean): Whether to optimize the hyperparameters or to use predefined values.\n",
    "\n",
    "    Returns:\n",
    "        tuple: A tuple of (net, loss_fn, optimizer, batch_size, n_epochs,\n",
    "            scheduler, loss_name, optimizer_name, scheduler_name,\n",
    "            n_units, n_layers, hidden_activation, output_activation),\n",
    "            where net is the trial network,\n",
    "            loss_fn is the loss function,\n",
    "            optimizer is the optimizer,\n",
    "            batch_size is the batch size,\n",
    "            n_epochs is the number of epochs,\n",
    "            scheduler is the learning rate scheduler,\n",
    "            loss_name is the name of the loss function,\n",
    "            optimizer_name is the name of the optimizer,\n",
    "            scheduler_name is the name of the scheduler,\n",
    "            n_units is a list of integers representing\n",
    "            the number of units in each hidden layer,\n",
    "            n_layers is an integer representing the number of hidden layers in the network,\n",
    "            hidden_activation is a torch.nn.Module representing the activation function for the hidden layers,\n",
    "            output_activation is a torch.nn.Module representing the activation function for the output layer,\n",
    "            lr is the (initial) learning rate.\n",
    "    \"\"\"\n",
    "    # If optimize is True, sample the hyperparameters from the search space\n",
    "    if optimize:\n",
    "        # Sampling the hyperparameters from the search space\n",
    "        n_layers = trial.suggest_int(\"n_layers\", 1, 3)\n",
    "        n_units = [trial.suggest_int(f\"n_units_{i}\", 16, 256) for i in range(n_layers)] \n",
    "        hidden_activation_name = trial.suggest_categorical(\n",
    "            \"hidden_activation\", [\"ReLU\", \"LeakyReLU\", \"ELU\", \"Tanh\", \"Sigmoid\"]\n",
    "        )\n",
    "        output_activation_name = trial.suggest_categorical(\n",
    "            \"output_activation\", [\"Linear\", \"ReLU\"]\n",
    "        ) \n",
    "        loss_name = trial.suggest_categorical(\n",
    "            \"loss\", [\"MSE\", \"MAE\", \"Huber\", \"LogCosh\"] \n",
    "        )\n",
    "        optimizer_name = trial.suggest_categorical(\n",
    "            \"optimizer\", [\"Adam\", \"SGD\", \"RMSprop\", \"Adagrad\"] \n",
    "        )\n",
    "        lr = trial.suggest_loguniform(\"lr\", 1e-4, 1e-2) \n",
    "        batch_size = trial.suggest_int(\"batch_size\", 32, 256)\n",
    "        n_epochs = trial.suggest_int(\"n_epochs\", 50, 100) \n",
    "        scheduler_name = trial.suggest_categorical(\n",
    "            \"scheduler\",\n",
    "            [\"None\", \"CosineAnnealingLR\", \"ReduceLROnPlateau\", \"StepLR\", \"ExponentialLR\"],\n",
    "        )\n",
    "    # If optimize is False, use the predefined values\n",
    "    else:\n",
    "        # Setting the hyperparameters to the predefined values\n",
    "        n_layers = N_LAYERS_NO_OPT\n",
    "        n_units = N_UNITS_NO_OPT\n",
    "        hidden_activation_name = HIDDEN_ACTIVATION_NAME_NO_OPT\n",
    "        output_activation_name = OUTPUT_ACTIVATION_NAME_NO_OPT\n",
    "        loss_name = LOSS_NAME_NO_OPT\n",
    "        optimizer_name = OPTIMIZER_NAME_NO_OPT\n",
    "        lr = LR_NO_OPT\n",
    "        batch_size = BATCH_SIZE_NO_OPT\n",
    "        n_epochs = N_EPOCHS_NO_OPT\n",
    "        scheduler_name = SCHEDULER_NAME_NO_OPT\n",
    "\n",
    "\n",
    "    # Creating the activation functions from their names\n",
    "    if hidden_activation_name == \"ReLU\":\n",
    "        hidden_activation = nn.ReLU()\n",
    "    elif hidden_activation_name == \"LeakyReLU\":\n",
    "        hidden_activation = nn.LeakyReLU() \n",
    "    elif hidden_activation_name == \"ELU\":\n",
    "        hidden_activation = nn.ELU() \n",
    "    elif hidden_activation_name == \"Tanh\":\n",
    "        hidden_activation = nn.Tanh()\n",
    "    else:\n",
    "        hidden_activation = nn.Sigmoid()\n",
    "\n",
    "    if output_activation_name == \"ReLU\":\n",
    "        output_activation = nn.ReLU()\n",
    "    else:\n",
    "        output_activation = nn.Identity()\n",
    "\n",
    "    # Creating the loss function from its name\n",
    "    if loss_name == \"MSE\":\n",
    "        loss_fn = nn.MSELoss()\n",
    "    elif loss_name == \"MAE\":\n",
    "        loss_fn = nn.L1Loss()\n",
    "    elif loss_name == \"Huber\":\n",
    "        loss_fn = nn.SmoothL1Loss() \n",
    "    else:\n",
    "        # Creating the log-cosh loss function\n",
    "        def log_cosh_loss(y_pred, y_true):\n",
    "            return torch.mean(torch.log(torch.cosh(y_pred - y_true)))\n",
    "            \n",
    "        loss_fn = log_cosh_loss\n",
    "\n",
    "    # Creating the network with the sampled hyperparameters\n",
    "    net = Net(\n",
    "        n_layers, n_units, hidden_activation, output_activation\n",
    "    ).to(device)\n",
    "\n",
    "    # Creating the optimizer from its name\n",
    "    if optimizer_name == \"SGD\":\n",
    "        optimizer = optim.SGD(net.parameters(), lr=lr)\n",
    "    elif optimizer_name == \"Adam\":\n",
    "        optimizer = optim.Adam(net.parameters(), lr=lr)\n",
    "    elif optimizer_name == \"RMSprop\":\n",
    "        optimizer = optim.RMSprop(net.parameters(), lr=lr)\n",
    "    else:\n",
    "        # Added creating the Adagrad optimizer\n",
    "        optimizer = optim.Adagrad(net.parameters(), lr=lr)\n",
    "\n",
    "    # Creating the learning rate scheduler from its name\n",
    "    if scheduler_name == \"StepLR\":\n",
    "        scheduler = optim.lr_scheduler.StepLR(optimizer, step_size=10, gamma=0.1)\n",
    "    elif scheduler_name == \"ExponentialLR\":\n",
    "        scheduler = optim.lr_scheduler.ExponentialLR(optimizer, gamma=0.9)\n",
    "    elif scheduler_name == \"CosineAnnealingLR\":\n",
    "        # Added creating the CosineAnnealingLR scheduler\n",
    "        scheduler = optim.lr_scheduler.CosineAnnealingLR(optimizer, T_max=10)\n",
    "    elif scheduler_name == \"ReduceLROnPlateau\":\n",
    "        # Added creating the ReduceLROnPlateau scheduler\n",
    "        # Creating the ReduceLROnPlateau scheduler with a threshold value of 0.01\n",
    "        #scheduler = optim.lr_scheduler.ReduceLROnPlateau(\n",
    "        #    optimizer, mode=\"min\", factor=0.1, patience=10, threshold=0.01\n",
    "        #)\n",
    "        # Use Dieseldorst et al. settings and add to that a minimum lr.\n",
    "        scheduler = optim.lr_scheduler.ReduceLROnPlateau(\n",
    "                    optimizer, mode=\"min\", factor=0.5, patience=5, threshold=0.0005, min_lr=1e-6\n",
    "                )\n",
    "    else:\n",
    "        scheduler = None\n",
    "\n",
    "    # Returning all variables needed for saving and loading\n",
    "    return net, loss_fn, optimizer, batch_size, n_epochs, scheduler, loss_name, optimizer_name, scheduler_name, n_units, n_layers, hidden_activation, output_activation, lr\n"
   ]
  },
  {
   "attachments": {},
   "cell_type": "markdown",
   "metadata": {},
   "source": [
    " ## The training and evaluation loop\n",
    "\n",
    " We first define a couple of functions used in the training and evaluation."
   ]
  },
  {
   "cell_type": "code",
   "execution_count": 109,
   "metadata": {},
   "outputs": [],
   "source": [
    "# Defining a function that computes loss and metrics for a given batch\n",
    "def compute_loss_and_metrics(y_pred, y_true, loss_fn):\n",
    "    \"\"\"Computes loss and metrics for a given batch.\n",
    "\n",
    "    Args:\n",
    "        y_pred (torch.Tensor): The predicted pressure tensor of shape (batch_size, 1).\n",
    "        y_true (torch.Tensor): The true pressure tensor of shape (batch_size,).\n",
    "        loss_fn (torch.nn.Module or function): The loss function to use.\n",
    "\n",
    "    Returns:\n",
    "        tuple: A tuple of (loss, l1_norm), where loss is a scalar tensor,\n",
    "            l1_norm is L1 norm for relative error of pressure,\n",
    "            each being a scalar tensor.\n",
    "            linf_norm is Linf norm for relative error of pressure.\n",
    "    \"\"\"\n",
    "    # Reshaping the target tensor to match the input tensor\n",
    "    y_true = y_true.view(-1, 1)\n",
    "\n",
    "    # Computing the loss using the loss function\n",
    "    loss = loss_fn(y_pred, y_true)\n",
    "\n",
    "    # Computing the relative error of pressure\n",
    "    rel_error = torch.abs((y_pred - y_true) / y_true)\n",
    "\n",
    "    # Computing the L1 norm for the relative error of pressure\n",
    "    l1_norm = torch.mean(rel_error) \n",
    "    # Computing the Linf norm for the relative error of pressure\n",
    "    linf_norm = torch.max(rel_error) \n",
    "\n",
    "    # Returning the loss and metrics\n",
    "    return loss, l1_norm, linf_norm\n",
    "\n",
    "\n",
    "# Defining a function that updates the learning rate scheduler with validation loss if applicable\n",
    "def update_scheduler(scheduler, test_loss):\n",
    "    \"\"\"Updates the learning rate scheduler with validation loss if applicable.\n",
    "\n",
    "    Args:\n",
    "        scheduler (torch.optim.lr_scheduler._LRScheduler or None): The learning rate scheduler to use.\n",
    "        test_loss (float): The validation loss to use.\n",
    "\n",
    "    Returns:\n",
    "        None\n",
    "    \"\"\"\n",
    "    # Checking if scheduler is not None\n",
    "    if scheduler is not None:\n",
    "        # Checking if scheduler is ReduceLROnPlateau\n",
    "        if isinstance(scheduler, optim.lr_scheduler.ReduceLROnPlateau):\n",
    "            # Updating the scheduler with test_loss\n",
    "            scheduler.step(test_loss)\n",
    "        else:\n",
    "            # Updating the scheduler without test_loss\n",
    "            scheduler.step()\n"
   ]
  },
  {
   "attachments": {},
   "cell_type": "markdown",
   "metadata": {},
   "source": [
    "Now for the actual training and evaluation loop,"
   ]
  },
  {
   "cell_type": "code",
   "execution_count": 110,
   "metadata": {},
   "outputs": [],
   "source": [
    "# Defining a function to train and evaluate a network\n",
    "def train_and_eval(net, loss_fn, optimizer, batch_size, n_epochs, scheduler, trial=None):\n",
    "    \"\"\"Trains and evaluates a network.\n",
    "\n",
    "    Args:\n",
    "        net (torch.nn.Module): The network to train and evaluate.\n",
    "        loss_fn (torch.nn.Module or function): The loss function.\n",
    "        optimizer (torch.optim.Optimizer): The optimizer.\n",
    "        batch_size (int): The batch size.\n",
    "        n_epochs (int): The number of epochs.\n",
    "        scheduler (torch.optim.lr_scheduler._LRScheduler or None): The learning rate scheduler.\n",
    "    Returns:\n",
    "        tuple: A tuple of (train_losses, test_losses, train_metrics, test_metrics), where\n",
    "            train_losses is a list of training losses for each epoch,\n",
    "            test_losses is a list of validation losses for each epoch,\n",
    "            train_metrics is a list of dictionaries containing training metrics for each epoch,\n",
    "            test_metrics is a list of dictionaries containing validation metrics for each epoch.\n",
    "    \"\"\"\n",
    "    # Creating data loaders for train and test sets\n",
    "    train_loader = torch.utils.data.DataLoader(\n",
    "        torch.utils.data.TensorDataset(x_train, y_train), batch_size=batch_size, shuffle=True\n",
    "    )\n",
    "    test_loader = torch.utils.data.DataLoader(\n",
    "        torch.utils.data.TensorDataset(x_test, y_test), batch_size=batch_size\n",
    "    )\n",
    "\n",
    "    # Initializing lists to store the losses and metrics for each epoch\n",
    "    train_losses = []\n",
    "    test_losses = []\n",
    "    train_metrics = []\n",
    "    test_metrics = []\n",
    "\n",
    "    # Creating a SummaryWriter object to log data for tensorboard\n",
    "    writer = tbx.SummaryWriter()\n",
    "\n",
    "    # Looping over the epochs\n",
    "    for epoch in range(n_epochs):\n",
    "\n",
    "        # Setting the network to training mode\n",
    "        net.train()\n",
    "\n",
    "        # Initializing variables to store the total loss and metrics for the train set\n",
    "        train_loss = 0.0\n",
    "        train_l1_norm = 0.0\n",
    "        train_linf_norm = 0.0\n",
    "\n",
    "        # Looping over the batches in the train set\n",
    "        for x_batch, y_batch in train_loader:\n",
    "\n",
    "            # Moving the batch tensors to the device\n",
    "            x_batch = x_batch.to(device)\n",
    "            y_batch = y_batch.to(device)\n",
    "\n",
    "            # Zeroing the gradients\n",
    "            optimizer.zero_grad()\n",
    "\n",
    "            # Performing a forward pass and computing the loss and metrics\n",
    "            y_pred = net(x_batch)\n",
    "            loss, l1_norm, linf_norm = compute_loss_and_metrics(\n",
    "                y_pred, y_batch, loss_fn\n",
    "            )\n",
    "\n",
    "\n",
    "            # Performing a backward pass and updating the weights\n",
    "            loss.backward()\n",
    "            optimizer.step()\n",
    "\n",
    "            # Updating the total loss and metrics for the train set\n",
    "            train_loss += loss.item() * x_batch.size(0)\n",
    "            train_l1_norm += l1_norm.item() * x_batch.size(0)\n",
    "            train_linf_norm += linf_norm.item() * x_batch.size(0)\n",
    "\n",
    "        # Computing the average loss and metrics for the train set\n",
    "        train_loss /= len(train_loader.dataset)\n",
    "        train_l1_norm /= len(train_loader.dataset)\n",
    "        train_linf_norm /= len(train_loader.dataset)\n",
    "\n",
    "        # Appending the average loss and metrics for the train set to the lists\n",
    "        train_losses.append(train_loss)\n",
    "        train_metrics.append(\n",
    "            {\n",
    "                \"l1_norm\": train_l1_norm,\n",
    "                \"linf_norm\": train_linf_norm,\n",
    "            }\n",
    "        )\n",
    "\n",
    "        # Logging the average loss and metrics for the train set to tensorboard\n",
    "        writer.add_scalar(\"Loss/train\", train_loss, epoch)\n",
    "        writer.add_scalar(\"L1 norm/train\", train_l1_norm, epoch)\n",
    "        writer.add_scalar(\"Linf norm/train\", train_linf_norm, epoch)\n",
    "\n",
    "        # Setting the network to evaluation mode\n",
    "        net.eval()\n",
    "\n",
    "        # Initializing variables to store the total loss and metrics for the test set\n",
    "        test_loss = 0.0\n",
    "        test_l1_norm = 0.0\n",
    "        test_linf_norm = 0.0\n",
    "\n",
    "        # Looping over the batches in the test set\n",
    "        with torch.no_grad():\n",
    "            for x_batch, y_batch in test_loader:\n",
    "\n",
    "                # Moving the batch tensors to the device\n",
    "                x_batch = x_batch.to(device)\n",
    "                y_batch = y_batch.to(device)\n",
    "\n",
    "                # Performing a forward pass and computing the loss and metrics\n",
    "                y_pred = net(x_batch)\n",
    "                loss, l1_norm, linf_norm = compute_loss_and_metrics(\n",
    "                    y_pred, y_batch, loss_fn\n",
    "                )\n",
    "\n",
    "\n",
    "                # Updating the total loss and metrics for the test set\n",
    "                test_loss += loss.item() * x_batch.size(0)\n",
    "                test_l1_norm += l1_norm.item() * x_batch.size(0)\n",
    "                test_linf_norm += linf_norm.item() * x_batch.size(0)\n",
    "\n",
    "        # Computing the average loss and metrics for the test set\n",
    "        test_loss /= len(test_loader.dataset)\n",
    "        test_l1_norm /= len(test_loader.dataset)\n",
    "        test_linf_norm /= len(test_loader.dataset)\n",
    "\n",
    "        # Appending the average loss and metrics for the test set to the lists\n",
    "        test_losses.append(test_loss)\n",
    "        test_metrics.append(\n",
    "            {\n",
    "                \"l1_norm\": test_l1_norm,\n",
    "                \"linf_norm\": test_linf_norm,\n",
    "            }\n",
    "        )\n",
    "\n",
    "        # Logging the average loss and metrics for the test set to tensorboard\n",
    "        writer.add_scalar(\"Loss/test\", test_loss, epoch)\n",
    "        writer.add_scalar(\"L1 norm/test\", test_l1_norm, epoch)\n",
    "        writer.add_scalar(\"Linf norm/test\", test_linf_norm, epoch)\n",
    "\n",
    "        # Printing the average loss and metrics for both sets for this epoch\n",
    "        print(\n",
    "            f\"Epoch {epoch + 1}: Train Loss: {train_loss:.4f}, Test Loss: {test_loss:.4f}, \"\n",
    "            f\"Train L1 Norm: {train_l1_norm:.4f}, Test L1 Norm: {test_l1_norm:.4f}, \"\n",
    "            f\"Train Linf Norm: {train_linf_norm:.4f}, Test Linf Norm: {test_linf_norm:.4f}\"\n",
    "        )\n",
    "\n",
    "        # Updating the learning rate scheduler with validation loss if applicable\n",
    "        update_scheduler(scheduler, test_loss)\n",
    "\n",
    "        # Reporting the intermediate metric value to Optuna if trial is not None\n",
    "        if trial is not None:\n",
    "            trial.report(test_metrics[-1][\"l1_norm\"], epoch)\n",
    "\n",
    "            # Checking if the trial should be pruned based on the intermediate value if trial is not None\n",
    "            if trial.should_prune():\n",
    "                raise optuna.TrialPruned()\n",
    "\n",
    "    # Closing the SummaryWriter object\n",
    "    writer.close()\n",
    "\n",
    "    # Returning the losses and metrics lists\n",
    "    return train_losses, test_losses, train_metrics, test_metrics"
   ]
  },
  {
   "cell_type": "markdown",
   "metadata": {},
   "source": [
    "## The objective function and hyperparameter tuning"
   ]
  },
  {
   "cell_type": "code",
   "execution_count": 111,
   "metadata": {},
   "outputs": [],
   "source": [
    "# Defining an objective function for Optuna to minimize\n",
    "def objective(trial):\n",
    "    \"\"\"Defines an objective function for Optuna to minimize.\n",
    "\n",
    "    Args:\n",
    "        trial (optuna.trial.Trial): The trial object that contains the hyperparameters.\n",
    "\n",
    "    Returns:\n",
    "        float: The validation L1 norm to minimize.\n",
    "    \"\"\"\n",
    "    # Creating a trial network and optimizer using the create_model function\n",
    "    net, \\\n",
    "    loss_fn, \\\n",
    "    optimizer, \\\n",
    "    batch_size, \\\n",
    "    n_epochs, \\\n",
    "    scheduler, \\\n",
    "    loss_name, \\\n",
    "    optimizer_name, \\\n",
    "    scheduler_name, \\\n",
    "    n_units, \\\n",
    "    n_layers, \\\n",
    "    hidden_activation, \\\n",
    "    output_activation, \\\n",
    "    lr = create_model(trial, optimize=True)\n",
    "\n",
    "    # Training and evaluating the network using the train_and_eval function\n",
    "    _, _, _, test_metrics = train_and_eval(\n",
    "        net, loss_fn, optimizer, batch_size, n_epochs, scheduler, trial\n",
    "    )\n",
    "\n",
    "    # Returning the last validation L1 norm as the objective value to minimize\n",
    "    return test_metrics[-1][\"l1_norm\"]"
   ]
  },
  {
   "cell_type": "code",
   "execution_count": 112,
   "metadata": {},
   "outputs": [],
   "source": [
    "if OPTIMIZE:\n",
    "    # Creating a study object with Optuna with TPE sampler and median pruner \n",
    "    study = optuna.create_study(direction=\"minimize\", sampler=optuna.samplers.TPESampler(), pruner=optuna.pruners.MedianPruner())\n",
    "\n",
    "    # Running Optuna with 100 trials when we are optimizing.\n",
    "    study.optimize(objective, n_trials=N_TRIALS)\n",
    "\n",
    "    # Printing the best trial information\n",
    "    print(\"Best trial:\")\n",
    "    trial = study.best_trial\n",
    "    print(\"  Value: \", trial.value)\n",
    "    print(\"  Params: \")\n",
    "    for key, value in trial.params.items():\n",
    "        print(f\"    {key}: {value}\")\n"
   ]
  },
  {
   "attachments": {},
   "cell_type": "markdown",
   "metadata": {},
   "source": [
    "## Training the model"
   ]
  },
  {
   "cell_type": "code",
   "execution_count": 113,
   "metadata": {},
   "outputs": [],
   "source": [
    "# Creating the best network and optimizer using the best hyperparameters\n",
    "if OPTIMIZE:\n",
    "    net, \\\n",
    "    loss_fn, \\\n",
    "    optimizer, \\\n",
    "    batch_size, \\\n",
    "    n_epochs, \\\n",
    "    scheduler, \\\n",
    "    loss_name, \\\n",
    "    optimizer_name, \\\n",
    "    scheduler_name, \\\n",
    "    n_units, \\\n",
    "    n_layers, \\\n",
    "    hidden_activation, \\\n",
    "    output_activation, \\\n",
    "    lr = create_model(trial, optimize=True)\n",
    "# Creating the network with predefined hyperparameters\n",
    "else:\n",
    "    net, \\\n",
    "    loss_fn, \\\n",
    "    optimizer, \\\n",
    "    batch_size, \\\n",
    "    n_epochs, \\\n",
    "    scheduler, \\\n",
    "    loss_name, \\\n",
    "    optimizer_name, \\\n",
    "    scheduler_name, \\\n",
    "    n_units, \\\n",
    "    n_layers, \\\n",
    "    hidden_activation, \\\n",
    "    output_activation, \\\n",
    "    lr = create_model(trial=None, optimize=False)"
   ]
  },
  {
   "cell_type": "code",
   "execution_count": 114,
   "metadata": {},
   "outputs": [
    {
     "name": "stdout",
     "output_type": "stream",
     "text": [
      "loss_fn: MSELoss()\n",
      "batch_size: 32\n",
      "n_epochs: 10\n",
      "scheduler: <torch.optim.lr_scheduler.ReduceLROnPlateau object at 0x000002A83F8B98D0>\n",
      "loss_name: MSE\n",
      "optimizer_name: Adam\n",
      "scheduler_name: ReduceLROnPlateau\n",
      "n_units: [600, 200]\n",
      "n_layers: 2\n",
      "hidden_activation: Sigmoid()\n",
      "output_activation: ReLU()\n"
     ]
    }
   ],
   "source": [
    "print(\"loss_fn:\", loss_fn)\n",
    "print(\"batch_size:\", batch_size)\n",
    "print(\"n_epochs:\", n_epochs)\n",
    "print(\"scheduler:\", scheduler)\n",
    "print(\"loss_name:\", loss_name)\n",
    "print(\"optimizer_name:\", optimizer_name)\n",
    "print(\"scheduler_name:\", scheduler_name)\n",
    "print(\"n_units:\", n_units)\n",
    "print(\"n_layers:\", n_layers)\n",
    "print(\"hidden_activation:\", hidden_activation)\n",
    "print(\"output_activation:\", output_activation)"
   ]
  },
  {
   "cell_type": "code",
   "execution_count": 115,
   "metadata": {},
   "outputs": [
    {
     "name": "stdout",
     "output_type": "stream",
     "text": [
      "Epoch 1: Train Loss: 8.9931, Test Loss: 9.0194, Train L1 Norm: 19.7043, Test L1 Norm: 22.4847, Train Linf Norm: 504.6916, Test Linf Norm: 584.9374\n",
      "Epoch 2: Train Loss: 8.9711, Test Loss: 9.0256, Train L1 Norm: 19.6772, Test L1 Norm: 21.9508, Train Linf Norm: 502.7838, Test Linf Norm: 571.1253\n",
      "Epoch 3: Train Loss: 8.9703, Test Loss: 9.0289, Train L1 Norm: 19.8242, Test L1 Norm: 21.8287, Train Linf Norm: 507.7647, Test Linf Norm: 567.9405\n",
      "Epoch 4: Train Loss: 8.9681, Test Loss: 9.0639, Train L1 Norm: 19.6251, Test L1 Norm: 21.0732, Train Linf Norm: 499.9388, Test Linf Norm: 548.3928\n",
      "Epoch 5: Train Loss: 8.9706, Test Loss: 9.1044, Train L1 Norm: 19.7136, Test L1 Norm: 20.5395, Train Linf Norm: 504.5236, Test Linf Norm: 534.5693\n",
      "Epoch 6: Train Loss: 8.9706, Test Loss: 9.0282, Train L1 Norm: 19.6596, Test L1 Norm: 21.8569, Train Linf Norm: 493.7970, Test Linf Norm: 568.6533\n",
      "Epoch 7: Train Loss: 8.9685, Test Loss: 9.0220, Train L1 Norm: 19.6142, Test L1 Norm: 22.7742, Train Linf Norm: 500.8470, Test Linf Norm: 592.3508\n",
      "Epoch 8: Train Loss: 8.9636, Test Loss: 9.0199, Train L1 Norm: 19.6703, Test L1 Norm: 22.5470, Train Linf Norm: 501.9015, Test Linf Norm: 586.4826\n",
      "Epoch 9: Train Loss: 8.9641, Test Loss: 9.0314, Train L1 Norm: 19.6997, Test L1 Norm: 21.7498, Train Linf Norm: 499.4836, Test Linf Norm: 565.8839\n",
      "Epoch 10: Train Loss: 8.9633, Test Loss: 9.0233, Train L1 Norm: 19.6666, Test L1 Norm: 22.8581, Train Linf Norm: 503.1719, Test Linf Norm: 594.5155\n"
     ]
    }
   ],
   "source": [
    "# Training and evaluating the network using the train_and_eval function\n",
    "train_losses, test_losses, train_metrics, test_metrics = train_and_eval(\n",
    "    net, loss_fn, optimizer, batch_size, n_epochs, scheduler\n",
    ")"
   ]
  },
  {
   "cell_type": "markdown",
   "metadata": {},
   "source": [
    "## Visualizing the results"
   ]
  },
  {
   "cell_type": "code",
   "execution_count": 116,
   "metadata": {},
   "outputs": [
    {
     "data": {
      "text/plain": [
       "<Figure size 1200x800 with 0 Axes>"
      ]
     },
     "execution_count": 116,
     "metadata": {},
     "output_type": "execute_result"
    },
    {
     "data": {
      "text/plain": [
       "<Axes: >"
      ]
     },
     "execution_count": 116,
     "metadata": {},
     "output_type": "execute_result"
    },
    {
     "data": {
      "text/plain": [
       "[<matplotlib.lines.Line2D at 0x2a83fcb9910>]"
      ]
     },
     "execution_count": 116,
     "metadata": {},
     "output_type": "execute_result"
    },
    {
     "data": {
      "text/plain": [
       "[<matplotlib.lines.Line2D at 0x2a841441210>]"
      ]
     },
     "execution_count": 116,
     "metadata": {},
     "output_type": "execute_result"
    },
    {
     "data": {
      "text/plain": [
       "Text(0.5, 0, 'Epoch')"
      ]
     },
     "execution_count": 116,
     "metadata": {},
     "output_type": "execute_result"
    },
    {
     "data": {
      "text/plain": [
       "Text(0, 0.5, 'Loss')"
      ]
     },
     "execution_count": 116,
     "metadata": {},
     "output_type": "execute_result"
    },
    {
     "data": {
      "text/plain": [
       "<matplotlib.legend.Legend at 0x2a8404b3e10>"
      ]
     },
     "execution_count": 116,
     "metadata": {},
     "output_type": "execute_result"
    },
    {
     "data": {
      "text/plain": [
       "<Axes: >"
      ]
     },
     "execution_count": 116,
     "metadata": {},
     "output_type": "execute_result"
    },
    {
     "data": {
      "text/plain": [
       "[<matplotlib.lines.Line2D at 0x2a8414a8e90>]"
      ]
     },
     "execution_count": 116,
     "metadata": {},
     "output_type": "execute_result"
    },
    {
     "data": {
      "text/plain": [
       "[<matplotlib.lines.Line2D at 0x2a8414cc790>]"
      ]
     },
     "execution_count": 116,
     "metadata": {},
     "output_type": "execute_result"
    },
    {
     "data": {
      "text/plain": [
       "Text(0.5, 0, 'Epoch')"
      ]
     },
     "execution_count": 116,
     "metadata": {},
     "output_type": "execute_result"
    },
    {
     "data": {
      "text/plain": [
       "Text(0, 0.5, 'L1 Norm')"
      ]
     },
     "execution_count": 116,
     "metadata": {},
     "output_type": "execute_result"
    },
    {
     "data": {
      "text/plain": [
       "<matplotlib.legend.Legend at 0x2a83fbd7f90>"
      ]
     },
     "execution_count": 116,
     "metadata": {},
     "output_type": "execute_result"
    },
    {
     "data": {
      "text/plain": [
       "<Axes: >"
      ]
     },
     "execution_count": 116,
     "metadata": {},
     "output_type": "execute_result"
    },
    {
     "data": {
      "text/plain": [
       "[<matplotlib.lines.Line2D at 0x2a8414e7010>]"
      ]
     },
     "execution_count": 116,
     "metadata": {},
     "output_type": "execute_result"
    },
    {
     "data": {
      "text/plain": [
       "[<matplotlib.lines.Line2D at 0x2a8414fab10>]"
      ]
     },
     "execution_count": 116,
     "metadata": {},
     "output_type": "execute_result"
    },
    {
     "data": {
      "text/plain": [
       "Text(0.5, 0, 'Epoch')"
      ]
     },
     "execution_count": 116,
     "metadata": {},
     "output_type": "execute_result"
    },
    {
     "data": {
      "text/plain": [
       "Text(0, 0.5, 'Linf Norm')"
      ]
     },
     "execution_count": 116,
     "metadata": {},
     "output_type": "execute_result"
    },
    {
     "data": {
      "text/plain": [
       "<matplotlib.legend.Legend at 0x2a84147b6d0>"
      ]
     },
     "execution_count": 116,
     "metadata": {},
     "output_type": "execute_result"
    },
    {
     "data": {
      "image/png": "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",
      "text/plain": [
       "<Figure size 1200x800 with 3 Axes>"
      ]
     },
     "metadata": {},
     "output_type": "display_data"
    },
    {
     "data": {
      "text/plain": [
       "<Figure size 800x600 with 0 Axes>"
      ]
     },
     "execution_count": 116,
     "metadata": {},
     "output_type": "execute_result"
    },
    {
     "data": {
      "text/plain": [
       "[<matplotlib.lines.Line2D at 0x2a8405a1210>]"
      ]
     },
     "execution_count": 116,
     "metadata": {},
     "output_type": "execute_result"
    },
    {
     "data": {
      "text/plain": [
       "[<matplotlib.lines.Line2D at 0x2a8405c2690>]"
      ]
     },
     "execution_count": 116,
     "metadata": {},
     "output_type": "execute_result"
    },
    {
     "data": {
      "text/plain": [
       "Text(0.5, 0, 'Epoch')"
      ]
     },
     "execution_count": 116,
     "metadata": {},
     "output_type": "execute_result"
    },
    {
     "data": {
      "text/plain": [
       "Text(0, 0.5, 'MSE')"
      ]
     },
     "execution_count": 116,
     "metadata": {},
     "output_type": "execute_result"
    },
    {
     "data": {
      "text/plain": [
       "<matplotlib.legend.Legend at 0x2a8405c1a10>"
      ]
     },
     "execution_count": 116,
     "metadata": {},
     "output_type": "execute_result"
    },
    {
     "data": {
      "image/png": "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",
      "text/plain": [
       "<Figure size 800x600 with 1 Axes>"
      ]
     },
     "metadata": {},
     "output_type": "display_data"
    }
   ],
   "source": [
    "# Plotting the losses and metrics for the best network \n",
    "plt.figure(figsize=(12, 8))\n",
    "plt.subplot(2, 2, 1)\n",
    "plt.plot(train_losses, label=\"Train Loss\")\n",
    "plt.plot(test_losses, label=\"Test Loss\")\n",
    "plt.xlabel(\"Epoch\")\n",
    "plt.ylabel(\"Loss\")\n",
    "plt.legend()\n",
    "plt.subplot(2, 2, 2)\n",
    "plt.plot([m[\"l1_norm\"] for m in train_metrics], label=\"Train L1 Norm\")\n",
    "plt.plot([m[\"l1_norm\"] for m in test_metrics], label=\"Test L1 Norm\")\n",
    "plt.xlabel(\"Epoch\")\n",
    "plt.ylabel(\"L1 Norm\")\n",
    "plt.legend()\n",
    "plt.subplot(2, 2, 3)\n",
    "plt.plot([m[\"linf_norm\"] for m in train_metrics], label=\"Train Linf Norm\")\n",
    "plt.plot([m[\"linf_norm\"] for m in test_metrics], label=\"Test Linf Norm\")\n",
    "plt.xlabel(\"Epoch\")\n",
    "plt.ylabel(\"Linf Norm\")\n",
    "plt.legend()\n",
    "plt.tight_layout()\n",
    "plt.show()\n",
    "\n",
    "# Added plotting MSE of training data and MSE of test data in one plot \n",
    "plt.figure(figsize=(8, 6))\n",
    "plt.plot(train_losses,label=\"training data\")\n",
    "plt.plot(test_losses,label=\"test data\")\n",
    "#if scheduler is not None:\n",
    "#    plt.plot([scheduler.get_last_lr()[0] for _ in range(n_epochs)], label=\"Learning rate\") \n",
    "plt.xlabel(\"Epoch\")\n",
    "plt.ylabel(\"MSE\")\n",
    "plt.legend()\n",
    "plt.show()"
   ]
  },
  {
   "cell_type": "markdown",
   "metadata": {},
   "source": [
    "## Saving"
   ]
  },
  {
   "cell_type": "code",
   "execution_count": 117,
   "metadata": {},
   "outputs": [],
   "source": [
    "import json\n",
    "import pandas as pd\n",
    "\n",
    "# save the network to a .pth file\n",
    "torch.save(net.state_dict(), \"net.pth\")\n",
    "\n",
    "# save the optimizer to a .pth file\n",
    "torch.save(optimizer.state_dict(), \"optimizer.pth\")\n",
    "\n",
    "# save the scheduler to a .pth file if it is not None\n",
    "if scheduler is not None:\n",
    "  torch.save(scheduler.state_dict(), \"scheduler.pth\")\n",
    "\n",
    "# create a dictionary to store the rest of the variables\n",
    "var_dict = {\n",
    "  \"batch_size\": batch_size,\n",
    "  \"n_epochs\": n_epochs,\n",
    "  \"loss_name\": loss_name,\n",
    "  \"optimizer_name\": optimizer_name,\n",
    "  \"scheduler_name\": scheduler_name,\n",
    "  \"n_units\": n_units,\n",
    "  \"n_layers\": n_layers,\n",
    "  \"hidden_activation_name\": hidden_activation.__class__.__name__,\n",
    "  \"output_activation_name\": output_activation.__class__.__name__,\n",
    "  \"lr\": lr,\n",
    "}\n",
    "\n",
    "# save the dictionary to a .json file\n",
    "with open(\"var_dict.json\", \"w\") as f:\n",
    "  json.dump(var_dict, f)\n",
    "\n",
    "# Saving the output of the training using pandas\n",
    "train_df = pd.DataFrame(\n",
    "    {\n",
    "        \"train_loss\": train_losses,\n",
    "        \"test_loss\": test_losses,\n",
    "        \"train_l1_norm\": [m[\"l1_norm\"] for m in train_metrics],\n",
    "        \"test_l1_norm\": [m[\"l1_norm\"] for m in test_metrics],\n",
    "        \"train_linf_norm\": [m[\"linf_norm\"] for m in train_metrics],\n",
    "        \"test_linf_norm\": [m[\"linf_norm\"] for m in test_metrics],\n",
    "    }\n",
    ")\n",
    "train_df.to_csv(\"train_output.csv\", index=False)\n"
   ]
  },
  {
   "cell_type": "markdown",
   "metadata": {},
   "source": [
    "## Loading"
   ]
  },
  {
   "cell_type": "code",
<<<<<<< HEAD
   "execution_count": 14,
   "metadata": {},
   "outputs": [
    {
     "ename": "KeyError",
     "evalue": "'n_layers'",
     "output_type": "error",
     "traceback": [
      "\u001b[0;31m---------------------------------------------------------------------------\u001b[0m",
      "\u001b[0;31mKeyError\u001b[0m                                  Traceback (most recent call last)",
      "Cell \u001b[0;32mIn[14], line 5\u001b[0m\n\u001b[1;32m      2\u001b[0m state_dict \u001b[39m=\u001b[39m torch\u001b[39m.\u001b[39mload(\u001b[39m\"\u001b[39m\u001b[39mbest_net.pth\u001b[39m\u001b[39m\"\u001b[39m)\n\u001b[1;32m      4\u001b[0m \u001b[39m# access the parameters by their names\u001b[39;00m\n\u001b[0;32m----> 5\u001b[0m \u001b[39mprint\u001b[39m(state_dict[\u001b[39m\"\u001b[39;49m\u001b[39mn_layers\u001b[39;49m\u001b[39m\"\u001b[39;49m]) \u001b[39m# print the weight matrix of the first layer\u001b[39;00m\n",
      "\u001b[0;31mKeyError\u001b[0m: 'n_layers'"
     ]
    }
   ],
   "source": [
    "# load the state_dict from the file\n",
    "state_dict = torch.load(\"best_net.pth\")\n",
    "\n",
    "# access the parameters by their names\n",
    "print(state_dict[\"n_layers\"]) # print the weight matrix of the first layer\n"
   ]
  },
  {
   "cell_type": "code",
   "execution_count": 10,
   "metadata": {},
   "outputs": [
    {
     "ename": "NameError",
     "evalue": "name 'n_layers' is not defined",
     "output_type": "error",
     "traceback": [
      "\u001b[0;31m---------------------------------------------------------------------------\u001b[0m",
      "\u001b[0;31mNameError\u001b[0m                                 Traceback (most recent call last)",
      "Cell \u001b[0;32mIn[10], line 5\u001b[0m\n\u001b[1;32m      2\u001b[0m state_dict \u001b[39m=\u001b[39m torch\u001b[39m.\u001b[39mload(\u001b[39m\"\u001b[39m\u001b[39mbest_net.pth\u001b[39m\u001b[39m\"\u001b[39m)\n\u001b[1;32m      4\u001b[0m \u001b[39m# Loading the state dictionary into a new network instance using net.load_state_dict\u001b[39;00m\n\u001b[0;32m----> 5\u001b[0m new_net \u001b[39m=\u001b[39m Net(n_layers, n_units, hidden_activation, output_activation)\u001b[39m.\u001b[39mto(device)\n\u001b[1;32m      6\u001b[0m new_net\u001b[39m.\u001b[39mload_state_dict(state_dict)\n\u001b[1;32m      9\u001b[0m \u001b[39m# In[ ]:\u001b[39;00m\n\u001b[1;32m     10\u001b[0m \n\u001b[1;32m     11\u001b[0m \n\u001b[1;32m     12\u001b[0m \u001b[39m# Loading the loss function name using pickle\u001b[39;00m\n",
      "\u001b[0;31mNameError\u001b[0m: name 'n_layers' is not defined"
     ]
    }
   ],
   "source": [
    "## Loading the best network state dictionary using torch.load\n",
    "state_dict = torch.load(\"best_net.pth\")\n",
=======
   "execution_count": 126,
   "metadata": {},
   "outputs": [
    {
     "data": {
      "text/plain": [
       "<All keys matched successfully>"
      ]
     },
     "execution_count": 126,
     "metadata": {},
     "output_type": "execute_result"
    }
   ],
   "source": [
    "# load the dictionary from the .json file\n",
    "\n",
    "with open(\"var_dict.json\", \"r\") as f:\n",
    "  var_dict_loaded = json.load(f)\n",
>>>>>>> 0712b3e9a6145fc46dc4a4dc1cb5bdc792efd7ec
    "\n",
    "# extract the variables from the dictionary\n",
    "batch_size_loaded = var_dict_loaded[\"batch_size\"]\n",
    "n_epochs_loaded = var_dict_loaded[\"n_epochs\"]\n",
    "loss_name_loaded = var_dict_loaded[\"loss_name\"]\n",
    "optimizer_name_loaded = var_dict_loaded[\"optimizer_name\"]\n",
    "scheduler_name_loaded = var_dict_loaded[\"scheduler_name\"]\n",
    "n_units_loaded = var_dict_loaded[\"n_units\"]\n",
    "n_layers_loaded = var_dict_loaded[\"n_layers\"]\n",
    "hidden_activation_name_loaded = var_dict_loaded[\"hidden_activation_name\"]\n",
    "output_activation_name_loaded = var_dict_loaded[\"output_activation_name\"]\n",
    "lr_loaded = var_dict_loaded[\"lr\"]\n",
    "\n",
    "# create the activation functions from their names\n",
    "if hidden_activation_name_loaded == \"ReLU\":\n",
    "  hidden_activation_loaded = nn.ReLU()\n",
    "elif hidden_activation_name_loaded == \"LeakyReLU\":\n",
    "  hidden_activation_loaded = nn.LeakyReLU() \n",
    "elif hidden_activation_name_loaded == \"ELU\":\n",
    "  hidden_activation_loaded = nn.ELU() \n",
    "elif hidden_activation_name_loaded == \"Tanh\":\n",
    "  hidden_activation_loaded = nn.Tanh()\n",
    "else:\n",
    "  hidden_activation_loaded = nn.Sigmoid()\n",
    "\n",
    "if output_activation_name_loaded == \"ReLU\":\n",
    "  output_activation_loaded = nn.ReLU()\n",
    "else:\n",
    "  output_activation_loaded = nn.Identity()\n",
    "\n",
    "# load the network from the .pth file\n",
    "net_loaded = Net(n_layers_loaded, n_units_loaded, hidden_activation_loaded, output_activation_loaded).to(device)\n",
    "net_loaded.load_state_dict(torch.load(\"net.pth\"))\n",
    "\n",
    "# create the loss function from its name\n",
    "if loss_name_loaded == \"MSE\":\n",
    "  loss_fn_loaded = nn.MSELoss()\n",
    "elif loss_name_loaded == \"MAE\":\n",
    "  loss_fn_loaded = nn.L1Loss()\n",
    "elif loss_name_loaded == \"Huber\":\n",
    "  loss_fn_loaded = nn.SmoothL1Loss() \n",
    "else:\n",
    "  # create the log-cosh loss function\n",
    "  def log_cosh_loss_loaded(y_pred, y_true):\n",
    "    return torch.mean(torch.log(torch.cosh(y_pred - y_true)))\n",
    "  loss_fn_loaded = log_cosh_loss_loaded\n",
    "\n",
    "# load the optimizer from the .pth file\n",
    "if optimizer_name_loaded == \"SGD\":\n",
    "  optimizer_loaded = optim.SGD(net_loaded.parameters(), lr=lr_loaded)\n",
    "elif optimizer_name_loaded == \"Adam\":\n",
    "  optimizer_loaded = optim.Adam(net_loaded.parameters(), lr=lr_loaded)\n",
    "elif optimizer_name_loaded == \"RMSprop\":\n",
    "  optimizer_loaded = optim.RMSprop(net_loaded.parameters(), lr=lr_loaded)\n",
    "else:\n",
    "  # Added loading the Adagrad optimizer\n",
    "  optimizer_loaded = optim.Adagrad(net_loaded.parameters(), lr=lr_loaded)\n",
    "optimizer_loaded.load_state_dict(torch.load(\"optimizer.pth\"))\n",
    "\n",
    "if scheduler_name_loaded == \"StepLR\":\n",
    "  scheduler_loaded = optim.lr_scheduler.StepLR(optimizer_loaded, step_size=10, gamma=0.1)\n",
    "elif scheduler_name_loaded == \"ExponentialLR\":\n",
    "  scheduler_loaded = optim.lr_scheduler.ExponentialLR(optimizer_loaded, gamma=0.9)\n",
    "elif scheduler_name_loaded == \"CosineAnnealingLR\":\n",
    "  scheduler_loaded = optim.lr_scheduler.CosineAnnealingLR(optimizer_loaded, T_max=10)\n",
    "elif scheduler_name_loaded == \"ReduceLROnPlateau\":\n",
    "  scheduler_loaded = optim.lr_scheduler.ReduceLROnPlateau(\n",
    "                    optimizer_loaded, mode=\"min\", factor=0.5, patience=5, threshold=0.0005, min_lr=1e-6\n",
    "                )\n",
    "else:\n",
    "  scheduler_loaded = None\n",
    "\n",
    "if scheduler_loaded is not None:\n",
    "  scheduler_loaded.load_state_dict(torch.load(\"scheduler.pth\"))\n",
    "            \n",
    "# Saving the output of the training using pandas\n",
    "train_df_loaded = pd.DataFrame(\n",
    "    {\n",
    "        \"train_loss\": train_losses,\n",
    "        \"test_loss\": test_losses,\n",
    "        \"train_l1_norm\": [m[\"l1_norm\"] for m in train_metrics],\n",
    "        \"test_l1_norm\": [m[\"l1_norm\"] for m in test_metrics],\n",
    "        \"train_linf_norm\": [m[\"linf_norm\"] for m in train_metrics],\n",
    "        \"test_linf_norm\": [m[\"linf_norm\"] for m in test_metrics],\n",
    "    }\n",
    ")\n",
    "train_df_loaded.to_csv(\"train_output.csv\", index=False)\n",
    "\n",
    "# Loading the output of the training using pandas\n",
    "train_df_loaded = pd.read_csv(\"train_output.csv\")\n",
    "train_losses_loaded = train_df_loaded[\"train_loss\"].tolist()\n",
    "test_losses_loaded = train_df_loaded[\"test_loss\"].tolist()\n",
    "train_metrics_loaded = [\n",
    "    {\n",
    "        \"l1_norm\": train_df_loaded[\"train_l1_norm\"][i],\n",
    "        \"linf_norm\": train_df_loaded[\"train_linf_norm\"][i],\n",
    "    }\n",
    "    for i in range(len(train_df_loaded))\n",
    "]\n",
    "test_metrics_loaded = [\n",
    "    {\n",
    "        \"l1_norm\": train_df_loaded[\"test_l1_norm\"][i],\n",
    "        \"linf_norm\": train_df_loaded[\"test_linf_norm\"][i],\n",
    "    }\n",
    "    for i in range(len(train_df_loaded))\n",
    "]"
   ]
  },
  {
   "cell_type": "code",
   "execution_count": 122,
   "metadata": {},
   "outputs": [
    {
     "data": {
      "text/plain": [
       "32"
      ]
     },
     "execution_count": 122,
     "metadata": {},
     "output_type": "execute_result"
    },
    {
     "data": {
      "text/plain": [
       "10"
      ]
     },
     "execution_count": 122,
     "metadata": {},
     "output_type": "execute_result"
    },
    {
     "data": {
      "text/plain": [
       "'MSE'"
      ]
     },
     "execution_count": 122,
     "metadata": {},
     "output_type": "execute_result"
    },
    {
     "data": {
      "text/plain": [
       "'Adam'"
      ]
     },
     "execution_count": 122,
     "metadata": {},
     "output_type": "execute_result"
    },
    {
     "data": {
      "text/plain": [
       "'ReduceLROnPlateau'"
      ]
     },
     "execution_count": 122,
     "metadata": {},
     "output_type": "execute_result"
    },
    {
     "data": {
      "text/plain": [
       "[600, 200]"
      ]
     },
     "execution_count": 122,
     "metadata": {},
     "output_type": "execute_result"
    },
    {
     "data": {
      "text/plain": [
       "2"
      ]
     },
     "execution_count": 122,
     "metadata": {},
     "output_type": "execute_result"
    },
    {
     "data": {
      "text/plain": [
       "'Sigmoid'"
      ]
     },
     "execution_count": 122,
     "metadata": {},
     "output_type": "execute_result"
    },
    {
     "data": {
      "text/plain": [
       "'ReLU'"
      ]
     },
     "execution_count": 122,
     "metadata": {},
     "output_type": "execute_result"
    },
    {
     "data": {
      "text/plain": [
       "0.0006"
      ]
     },
     "execution_count": 122,
     "metadata": {},
     "output_type": "execute_result"
    },
    {
     "data": {
      "text/plain": [
       "Sigmoid()"
      ]
     },
     "execution_count": 122,
     "metadata": {},
     "output_type": "execute_result"
    },
    {
     "data": {
      "text/plain": [
       "ReLU()"
      ]
     },
     "execution_count": 122,
     "metadata": {},
     "output_type": "execute_result"
    },
    {
     "data": {
      "text/plain": [
       "Net(\n",
       "  (hidden_activation): Sigmoid()\n",
       "  (output_activation): ReLU()\n",
       "  (layers): ModuleList(\n",
       "    (0): Linear(in_features=3, out_features=600, bias=True)\n",
       "    (1): Linear(in_features=600, out_features=200, bias=True)\n",
       "    (2): Linear(in_features=200, out_features=1, bias=True)\n",
       "  )\n",
       ")"
      ]
     },
     "execution_count": 122,
     "metadata": {},
     "output_type": "execute_result"
    },
    {
     "data": {
      "text/plain": [
       "MSELoss()"
      ]
     },
     "execution_count": 122,
     "metadata": {},
     "output_type": "execute_result"
    },
    {
     "data": {
      "text/plain": [
       "Adam (\n",
       "Parameter Group 0\n",
       "    amsgrad: False\n",
       "    betas: (0.9, 0.999)\n",
       "    capturable: False\n",
       "    differentiable: False\n",
       "    eps: 1e-08\n",
       "    foreach: None\n",
       "    fused: None\n",
       "    lr: 0.0003\n",
       "    maximize: False\n",
       "    weight_decay: 0\n",
       ")"
      ]
     },
     "execution_count": 122,
     "metadata": {},
     "output_type": "execute_result"
    },
    {
     "data": {
      "text/plain": [
       "<torch.optim.lr_scheduler.ReduceLROnPlateau at 0x2a840513450>"
      ]
     },
     "execution_count": 122,
     "metadata": {},
     "output_type": "execute_result"
    }
   ],
   "source": [
    "batch_size_loaded\n",
    "n_epochs_loaded\n",
    "loss_name_loaded\n",
    "optimizer_name_loaded\n",
    "scheduler_name_loaded\n",
    "n_units_loaded\n",
    "n_layers_loaded\n",
    "hidden_activation_name_loaded\n",
    "output_activation_name_loaded\n",
    "lr_loaded\n",
    "hidden_activation_loaded\n",
    "output_activation_loaded\n",
    "net_loaded\n",
    "loss_fn_loaded\n",
    "optimizer_loaded\n",
    "scheduler_loaded\n",
    "#train_losses_loaded\n",
    "#test_losses_loaded\n",
    "#train_metrics_loaded\n",
    "#test_metrics_loaded"
   ]
  },
  {
   "attachments": {},
   "cell_type": "markdown",
   "metadata": {},
   "source": [
    "## Porting the model to C++"
   ]
  },
  {
   "cell_type": "code",
   "execution_count": 129,
   "metadata": {},
   "outputs": [],
   "source": [
    "%% script echo skipping\n",
    "# Creating an instance of the network class with the same parameters as before\n",
    "n_layers = len(n_units)\n",
    "hidden_activation = getattr(torch.nn, hidden_activation_name)()\n",
    "output_activation = getattr(torch.nn, output_activation_name)()\n",
    "net = Net(n_layers, n_units, hidden_activation, output_activation)\n"
   ]
  },
  {
   "cell_type": "code",
   "execution_count": 131,
   "metadata": {},
   "outputs": [
    {
     "data": {
      "text/plain": [
       "2"
      ]
     },
     "execution_count": 131,
     "metadata": {},
     "output_type": "execute_result"
    },
    {
     "data": {
      "text/plain": [
       "LeakyReLU(negative_slope=0.01)"
      ]
     },
     "execution_count": 131,
     "metadata": {},
     "output_type": "execute_result"
    },
    {
     "data": {
      "text/plain": [
       "Identity()"
      ]
     },
     "execution_count": 131,
     "metadata": {},
     "output_type": "execute_result"
    }
   ],
   "source": [
    "%% script echo skipping\n",
    "n_layers\n",
    "hidden_activation\n",
    "output_activation"
   ]
  },
  {
   "cell_type": "code",
   "execution_count": 132,
   "metadata": {},
   "outputs": [
    {
     "ename": "RuntimeError",
     "evalue": "Can't redefine method: forward on class: __torch__.___torch_mangle_6.Net (of Python compilation unit at: 000002A8328BCF50)",
     "output_type": "error",
     "traceback": [
      "\u001b[1;31m---------------------------------------------------------------------------\u001b[0m",
      "\u001b[1;31mRuntimeError\u001b[0m                              Traceback (most recent call last)",
      "Cell \u001b[1;32mIn[132], line 2\u001b[0m\n\u001b[0;32m      1\u001b[0m \u001b[39m# Scripting the network using torch.jit.script\u001b[39;00m\n\u001b[1;32m----> 2\u001b[0m net_scripted \u001b[39m=\u001b[39m torch\u001b[39m.\u001b[39;49mjit\u001b[39m.\u001b[39;49mscript(net_loaded)\n\u001b[0;32m      4\u001b[0m \u001b[39m# Saving the scripted module to a file using the save method\u001b[39;00m\n\u001b[0;32m      5\u001b[0m net_scripted\u001b[39m.\u001b[39msave(\u001b[39m'\u001b[39m\u001b[39mnet_scripted.pt\u001b[39m\u001b[39m'\u001b[39m)\n",
      "File \u001b[1;32mc:\\Users\\bvptr\\anaconda3\\envs\\bsc\\Lib\\site-packages\\torch\\jit\\_script.py:1284\u001b[0m, in \u001b[0;36mscript\u001b[1;34m(obj, optimize, _frames_up, _rcb, example_inputs)\u001b[0m\n\u001b[0;32m   1282\u001b[0m \u001b[39mif\u001b[39;00m \u001b[39misinstance\u001b[39m(obj, torch\u001b[39m.\u001b[39mnn\u001b[39m.\u001b[39mModule):\n\u001b[0;32m   1283\u001b[0m     obj \u001b[39m=\u001b[39m call_prepare_scriptable_func(obj)\n\u001b[1;32m-> 1284\u001b[0m     \u001b[39mreturn\u001b[39;00m torch\u001b[39m.\u001b[39;49mjit\u001b[39m.\u001b[39;49m_recursive\u001b[39m.\u001b[39;49mcreate_script_module(\n\u001b[0;32m   1285\u001b[0m         obj, torch\u001b[39m.\u001b[39;49mjit\u001b[39m.\u001b[39;49m_recursive\u001b[39m.\u001b[39;49minfer_methods_to_compile\n\u001b[0;32m   1286\u001b[0m     )\n\u001b[0;32m   1288\u001b[0m \u001b[39mif\u001b[39;00m \u001b[39misinstance\u001b[39m(obj, \u001b[39mdict\u001b[39m):\n\u001b[0;32m   1289\u001b[0m     \u001b[39mreturn\u001b[39;00m create_script_dict(obj)\n",
      "File \u001b[1;32mc:\\Users\\bvptr\\anaconda3\\envs\\bsc\\Lib\\site-packages\\torch\\jit\\_recursive.py:480\u001b[0m, in \u001b[0;36mcreate_script_module\u001b[1;34m(nn_module, stubs_fn, share_types, is_tracing)\u001b[0m\n\u001b[0;32m    478\u001b[0m \u001b[39mif\u001b[39;00m \u001b[39mnot\u001b[39;00m is_tracing:\n\u001b[0;32m    479\u001b[0m     AttributeTypeIsSupportedChecker()\u001b[39m.\u001b[39mcheck(nn_module)\n\u001b[1;32m--> 480\u001b[0m \u001b[39mreturn\u001b[39;00m create_script_module_impl(nn_module, concrete_type, stubs_fn)\n",
      "File \u001b[1;32mc:\\Users\\bvptr\\anaconda3\\envs\\bsc\\Lib\\site-packages\\torch\\jit\\_recursive.py:546\u001b[0m, in \u001b[0;36mcreate_script_module_impl\u001b[1;34m(nn_module, concrete_type, stubs_fn)\u001b[0m\n\u001b[0;32m    544\u001b[0m \u001b[39m# Compile methods if necessary\u001b[39;00m\n\u001b[0;32m    545\u001b[0m \u001b[39mif\u001b[39;00m concrete_type \u001b[39mnot\u001b[39;00m \u001b[39min\u001b[39;00m concrete_type_store\u001b[39m.\u001b[39mmethods_compiled:\n\u001b[1;32m--> 546\u001b[0m     create_methods_and_properties_from_stubs(concrete_type, method_stubs, property_stubs)\n\u001b[0;32m    547\u001b[0m     \u001b[39m# Create hooks after methods to ensure no name collisions between hooks and methods.\u001b[39;00m\n\u001b[0;32m    548\u001b[0m     \u001b[39m# If done before, hooks can overshadow methods that aren't exported.\u001b[39;00m\n\u001b[0;32m    549\u001b[0m     create_hooks_from_stubs(concrete_type, hook_stubs, pre_hook_stubs)\n",
      "File \u001b[1;32mc:\\Users\\bvptr\\anaconda3\\envs\\bsc\\Lib\\site-packages\\torch\\jit\\_recursive.py:397\u001b[0m, in \u001b[0;36mcreate_methods_and_properties_from_stubs\u001b[1;34m(concrete_type, method_stubs, property_stubs)\u001b[0m\n\u001b[0;32m    394\u001b[0m property_defs \u001b[39m=\u001b[39m [p\u001b[39m.\u001b[39mdef_ \u001b[39mfor\u001b[39;00m p \u001b[39min\u001b[39;00m property_stubs]\n\u001b[0;32m    395\u001b[0m property_rcbs \u001b[39m=\u001b[39m [p\u001b[39m.\u001b[39mresolution_callback \u001b[39mfor\u001b[39;00m p \u001b[39min\u001b[39;00m property_stubs]\n\u001b[1;32m--> 397\u001b[0m concrete_type\u001b[39m.\u001b[39;49m_create_methods_and_properties(property_defs, property_rcbs, method_defs, method_rcbs, method_defaults)\n",
      "\u001b[1;31mRuntimeError\u001b[0m: Can't redefine method: forward on class: __torch__.___torch_mangle_6.Net (of Python compilation unit at: 000002A8328BCF50)"
     ]
    }
   ],
   "source": [
    "# Scripting the network using torch.jit.script\n",
    "net_scripted = torch.jit.script(net_loaded)\n",
    "\n",
    "# Saving the scripted module to a file using the save method\n",
    "net_scripted.save('net_scripted.pt')"
   ]
  }
 ],
 "metadata": {
  "kernelspec": {
   "display_name": "bsc",
   "language": "python",
   "name": "python3"
  },
  "language_info": {
   "codemirror_mode": {
    "name": "ipython",
    "version": 3
   },
   "file_extension": ".py",
   "mimetype": "text/x-python",
   "name": "python",
   "nbconvert_exporter": "python",
   "pygments_lexer": "ipython3",
   "version": "3.11.3"
  },
  "orig_nbformat": 4
 },
 "nbformat": 4,
 "nbformat_minor": 2
}
