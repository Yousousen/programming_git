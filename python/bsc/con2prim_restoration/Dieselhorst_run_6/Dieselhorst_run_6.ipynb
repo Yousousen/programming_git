{
  "cells": [
    {
      "cell_type": "markdown",
      "metadata": {
        "id": "BgK3dFlOIj29"
      },
      "source": [
        "# Neural network to learn conservative-to-primitive conversion in relativistic hydrodynamics\n",
        "We use Optuna to do a type of Bayesian optimization of the hyperparameters of the model. We then train the model using these hyperparameters to recover the primitive pressure from the conserved variables.\n",
        "\n",
        "Use this first cell to convert this notebook to a python script."
      ]
    },
    {
      "cell_type": "code",
      "execution_count": null,
      "metadata": {
        "tags": [
          "remove_cell"
        ],
        "id": "m1e0sttiIj3O",
        "outputId": "cb75a990-0fc4-4231-a9f7-a1bb3b9e0b79",
        "colab": {
          "base_uri": "https://localhost:8080/"
        }
      },
      "outputs": [
        {
          "output_type": "stream",
          "name": "stdout",
          "text": [
            "skipping\n"
          ]
        }
      ],
      "source": [
        "%%script echo skipping\n",
        "\n",
        "!jupyter nbconvert pt7.ipynb --TagRemovePreprocessor.enabled=True --TagRemovePreprocessor.remove_cell_tags='{\"remove_cell\"}' --to script"
      ]
    },
    {
      "cell_type": "markdown",
      "metadata": {
        "id": "s-d_oULAIj3T"
      },
      "source": [
        "Next some cells for working on google colab,"
      ]
    },
    {
      "cell_type": "code",
      "execution_count": null,
      "metadata": {
        "id": "o4W4msvKIj3U",
        "outputId": "927f9c53-3fc2-4af7-8035-480e2a97da8a",
        "colab": {
          "base_uri": "https://localhost:8080/"
        }
      },
      "outputs": [
        {
          "output_type": "stream",
          "name": "stdout",
          "text": [
            "Drive already mounted at /content/drive; to attempt to forcibly remount, call drive.mount(\"/content/drive\", force_remount=True).\n"
          ]
        }
      ],
      "source": [
        "#%%script echo skipping\n",
        "\n",
        "from google.colab import drive\n",
        "drive.mount('/content/drive')"
      ]
    },
    {
      "cell_type": "code",
      "execution_count": null,
      "metadata": {
        "id": "lV9ZXKWvIj3X",
        "outputId": "cb247717-ef7c-4e52-9878-568539959158",
        "colab": {
          "base_uri": "https://localhost:8080/"
        }
      },
      "outputs": [
        {
          "output_type": "stream",
          "name": "stdout",
          "text": [
            "Looking in indexes: https://pypi.org/simple, https://us-python.pkg.dev/colab-wheels/public/simple/\n",
            "Requirement already satisfied: optuna in /usr/local/lib/python3.10/dist-packages (3.1.1)\n",
            "Requirement already satisfied: tensorboard in /usr/local/lib/python3.10/dist-packages (2.12.2)\n",
            "Requirement already satisfied: tensorboardX in /usr/local/lib/python3.10/dist-packages (2.6)\n",
            "Requirement already satisfied: alembic>=1.5.0 in /usr/local/lib/python3.10/dist-packages (from optuna) (1.10.4)\n",
            "Requirement already satisfied: cmaes>=0.9.1 in /usr/local/lib/python3.10/dist-packages (from optuna) (0.9.1)\n",
            "Requirement already satisfied: colorlog in /usr/local/lib/python3.10/dist-packages (from optuna) (6.7.0)\n",
            "Requirement already satisfied: numpy in /usr/local/lib/python3.10/dist-packages (from optuna) (1.22.4)\n",
            "Requirement already satisfied: packaging>=20.0 in /usr/local/lib/python3.10/dist-packages (from optuna) (23.1)\n",
            "Requirement already satisfied: sqlalchemy>=1.3.0 in /usr/local/lib/python3.10/dist-packages (from optuna) (2.0.10)\n",
            "Requirement already satisfied: tqdm in /usr/local/lib/python3.10/dist-packages (from optuna) (4.65.0)\n",
            "Requirement already satisfied: PyYAML in /usr/local/lib/python3.10/dist-packages (from optuna) (6.0)\n",
            "Requirement already satisfied: absl-py>=0.4 in /usr/local/lib/python3.10/dist-packages (from tensorboard) (1.4.0)\n",
            "Requirement already satisfied: grpcio>=1.48.2 in /usr/local/lib/python3.10/dist-packages (from tensorboard) (1.54.0)\n",
            "Requirement already satisfied: google-auth<3,>=1.6.3 in /usr/local/lib/python3.10/dist-packages (from tensorboard) (2.17.3)\n",
            "Requirement already satisfied: google-auth-oauthlib<1.1,>=0.5 in /usr/local/lib/python3.10/dist-packages (from tensorboard) (1.0.0)\n",
            "Requirement already satisfied: markdown>=2.6.8 in /usr/local/lib/python3.10/dist-packages (from tensorboard) (3.4.3)\n",
            "Requirement already satisfied: protobuf>=3.19.6 in /usr/local/lib/python3.10/dist-packages (from tensorboard) (3.20.3)\n",
            "Requirement already satisfied: requests<3,>=2.21.0 in /usr/local/lib/python3.10/dist-packages (from tensorboard) (2.27.1)\n",
            "Requirement already satisfied: setuptools>=41.0.0 in /usr/local/lib/python3.10/dist-packages (from tensorboard) (67.7.2)\n",
            "Requirement already satisfied: tensorboard-data-server<0.8.0,>=0.7.0 in /usr/local/lib/python3.10/dist-packages (from tensorboard) (0.7.0)\n",
            "Requirement already satisfied: tensorboard-plugin-wit>=1.6.0 in /usr/local/lib/python3.10/dist-packages (from tensorboard) (1.8.1)\n",
            "Requirement already satisfied: werkzeug>=1.0.1 in /usr/local/lib/python3.10/dist-packages (from tensorboard) (2.3.0)\n",
            "Requirement already satisfied: wheel>=0.26 in /usr/local/lib/python3.10/dist-packages (from tensorboard) (0.40.0)\n",
            "Requirement already satisfied: Mako in /usr/local/lib/python3.10/dist-packages (from alembic>=1.5.0->optuna) (1.2.4)\n",
            "Requirement already satisfied: typing-extensions>=4 in /usr/local/lib/python3.10/dist-packages (from alembic>=1.5.0->optuna) (4.5.0)\n",
            "Requirement already satisfied: cachetools<6.0,>=2.0.0 in /usr/local/lib/python3.10/dist-packages (from google-auth<3,>=1.6.3->tensorboard) (5.3.0)\n",
            "Requirement already satisfied: pyasn1-modules>=0.2.1 in /usr/local/lib/python3.10/dist-packages (from google-auth<3,>=1.6.3->tensorboard) (0.3.0)\n",
            "Requirement already satisfied: six>=1.9.0 in /usr/local/lib/python3.10/dist-packages (from google-auth<3,>=1.6.3->tensorboard) (1.16.0)\n",
            "Requirement already satisfied: rsa<5,>=3.1.4 in /usr/local/lib/python3.10/dist-packages (from google-auth<3,>=1.6.3->tensorboard) (4.9)\n",
            "Requirement already satisfied: requests-oauthlib>=0.7.0 in /usr/local/lib/python3.10/dist-packages (from google-auth-oauthlib<1.1,>=0.5->tensorboard) (1.3.1)\n",
            "Requirement already satisfied: urllib3<1.27,>=1.21.1 in /usr/local/lib/python3.10/dist-packages (from requests<3,>=2.21.0->tensorboard) (1.26.15)\n",
            "Requirement already satisfied: certifi>=2017.4.17 in /usr/local/lib/python3.10/dist-packages (from requests<3,>=2.21.0->tensorboard) (2022.12.7)\n",
            "Requirement already satisfied: charset-normalizer~=2.0.0 in /usr/local/lib/python3.10/dist-packages (from requests<3,>=2.21.0->tensorboard) (2.0.12)\n",
            "Requirement already satisfied: idna<4,>=2.5 in /usr/local/lib/python3.10/dist-packages (from requests<3,>=2.21.0->tensorboard) (3.4)\n",
            "Requirement already satisfied: greenlet!=0.4.17 in /usr/local/lib/python3.10/dist-packages (from sqlalchemy>=1.3.0->optuna) (2.0.2)\n",
            "Requirement already satisfied: MarkupSafe>=2.1.1 in /usr/local/lib/python3.10/dist-packages (from werkzeug>=1.0.1->tensorboard) (2.1.2)\n",
            "Requirement already satisfied: pyasn1<0.6.0,>=0.4.6 in /usr/local/lib/python3.10/dist-packages (from pyasn1-modules>=0.2.1->google-auth<3,>=1.6.3->tensorboard) (0.5.0)\n",
            "Requirement already satisfied: oauthlib>=3.0.0 in /usr/local/lib/python3.10/dist-packages (from requests-oauthlib>=0.7.0->google-auth-oauthlib<1.1,>=0.5->tensorboard) (3.2.2)\n"
          ]
        }
      ],
      "source": [
        "#%%script echo skipping\n",
        "\n",
        "!pip install optuna tensorboard tensorboardX"
      ]
    },
    {
      "cell_type": "code",
      "execution_count": null,
      "metadata": {
        "id": "MTTbMuS7Ij3Z"
      },
      "outputs": [],
      "source": [
        "# Importing the libraries\n",
        "import numpy as np\n",
        "import matplotlib.pyplot as plt\n",
        "import torch\n",
        "import torch.nn as nn\n",
        "import torch.optim as optim\n",
        "import torch.nn.functional as F\n",
        "import optuna\n",
        "import tensorboardX as tbx\n",
        "\n",
        "# Checking if GPU is available and setting the device accordingly\n",
        "device = torch.device(\"cuda\" if torch.cuda.is_available() else \"cpu\")\n"
      ]
    },
    {
      "cell_type": "markdown",
      "metadata": {
        "id": "bSTsKF_BIj3c"
      },
      "source": [
        "## Constants and flags to set\n",
        "Defining some constants and parameters for convenience."
      ]
    },
    {
      "cell_type": "code",
      "execution_count": null,
      "metadata": {
        "id": "hJNobmAkIj3d"
      },
      "outputs": [],
      "source": [
        "\n",
        "N_TRIALS = 200 # Number of trials for hyperparameter optimization\n",
        "OPTIMIZE = False # Whether to optimize the hyperparameters or to use predetermined values from Dieseldorst et al..\n",
        "\n",
        "# I try out here the values as obtained in Optuna run 5, but I will increase the number of epochs.\n",
        "# N_LAYERS_NO_OPT = 3\n",
        "# N_UNITS_NO_OPT = [78, 193, 99]\n",
        "# HIDDEN_ACTIVATION_NAME_NO_OPT = \"ReLU\"\n",
        "# OUTPUT_ACTIVATION_NAME_NO_OPT = \"Linear\"\n",
        "# LOSS_NAME_NO_OPT = \"MSE\"\n",
        "# OPTIMIZER_NAME_NO_OPT = \"Adam\"\n",
        "# LR_NO_OPT = 0.00036516467819506355\n",
        "# BATCH_SIZE_NO_OPT = 170\n",
        "# N_EPOCHS_NO_OPT = 400\n",
        "# SCHEDULER_NAME_NO_OPT = \"ReduceLROnPlateau\"\n",
        "\n",
        "# Dieselhorst hyperparameters\n",
        "N_LAYERS_NO_OPT = 2\n",
        "N_UNITS_NO_OPT = [600, 200]\n",
        "HIDDEN_ACTIVATION_NAME_NO_OPT = \"Sigmoid\"\n",
        "OUTPUT_ACTIVATION_NAME_NO_OPT = \"ReLU\"\n",
        "LOSS_NAME_NO_OPT = \"MSE\"\n",
        "OPTIMIZER_NAME_NO_OPT = \"Adam\"\n",
        "LR_NO_OPT = 6e-3\n",
        "BATCH_SIZE_NO_OPT = 32\n",
        "N_EPOCHS_NO_OPT = 400\n",
        "SCHEDULER_NAME_NO_OPT = \"ReduceLROnPlateau\"\n",
        "\n",
        "\n",
        "c = 1  # Speed of light (used in compute_conserved_variables and sample_primitive_variables functions)\n",
        "gamma = 5 / 3  # Adiabatic index (used in eos_analytic function)\n",
        "n_train_samples = 80000 # Number of training samples (used in generate_input_data and generate_labels functions)\n",
        "n_test_samples = 10000 # Number of test samples (used in generate_input_data and generate_labels functions)\n",
        "rho_interval = (0, 10.1) # Sampling interval for rest-mass density (used in sample_primitive_variables function)\n",
        "vx_interval = (0, 0.721 * c) # Sampling interval for velocity in x-direction (used in sample_primitive_variables function)\n",
        "epsilon_interval = (0, 2.02) # Sampling interval for specific internal energy (used in sample_primitive_variables function)\n",
        "\n",
        "np.random.seed(2) # Uncomment for pseudorandom data."
      ]
    },
    {
      "cell_type": "markdown",
      "metadata": {
        "id": "H0bt_-VJIj3i"
      },
      "source": [
        "## Generating the data"
      ]
    },
    {
      "cell_type": "code",
      "execution_count": null,
      "metadata": {
        "id": "jas4_TdYIj3k"
      },
      "outputs": [],
      "source": [
        "\n",
        "# Defining an analytic equation of state (EOS) for an ideal gas\n",
        "def eos_analytic(rho, epsilon):\n",
        "    \"\"\"Computes the pressure from rest-mass density and specific internal energy using an analytic EOS.\n",
        "\n",
        "    Args:\n",
        "        rho (torch.Tensor): The rest-mass density tensor of shape (n_samples,).\n",
        "        epsilon (torch.Tensor): The specific internal energy tensor of shape (n_samples,).\n",
        "\n",
        "    Returns:\n",
        "        torch.Tensor: The pressure tensor of shape (n_samples,).\n",
        "    \"\"\"\n",
        "    # Adding some assertions to check that the input tensors are valid and have the expected shape and type \n",
        "    assert isinstance(rho, torch.Tensor), \"rho must be a torch.Tensor\"\n",
        "    assert isinstance(epsilon, torch.Tensor), \"epsilon must be a torch.Tensor\"\n",
        "    assert rho.shape == epsilon.shape, \"rho and epsilon must have the same shape\"\n",
        "    assert rho.ndim == 1, \"rho and epsilon must be one-dimensional tensors\"\n",
        "    assert rho.dtype == torch.float32, \"rho and epsilon must have dtype torch.float32\"\n",
        "\n",
        "    return (gamma - 1) * rho * epsilon\n",
        "\n",
        "\n",
        "# Defining a function that samples primitive variables from uniform distributions\n",
        "def sample_primitive_variables(n_samples):\n",
        "    \"\"\"Samples primitive variables from uniform distributions.\n",
        "\n",
        "    Args:\n",
        "        n_samples (int): The number of samples to generate.\n",
        "\n",
        "    Returns:\n",
        "        tuple: A tuple of (rho, vx, epsilon), where rho is rest-mass density,\n",
        "            vx is velocity in x-direction,\n",
        "            epsilon is specific internal energy,\n",
        "            each being a numpy array of shape (n_samples,).\n",
        "    \"\"\"\n",
        "    # Sampling from uniform distributions with intervals matching Dieseldorst et al.\n",
        "    rho = np.random.uniform(*rho_interval, size=n_samples)  # Rest-mass density\n",
        "    vx = np.random.uniform(*vx_interval, size=n_samples)  # Velocity in x-direction\n",
        "    epsilon = np.random.uniform(*epsilon_interval, size=n_samples)  # Specific internal energy\n",
        "\n",
        "    # Returning the primitive variables\n",
        "    return rho, vx, epsilon\n",
        "\n",
        "\n",
        "# Defining a function that computes conserved variables from primitive variables\n",
        "def compute_conserved_variables(rho, vx, epsilon):\n",
        "    \"\"\"Computes conserved variables from primitive variables.\n",
        "\n",
        "    Args:\n",
        "        rho (torch.Tensor): The rest-mass density tensor of shape (n_samples,).\n",
        "        vx (torch.Tensor): The velocity in x-direction tensor of shape (n_samples,).\n",
        "        epsilon (torch.Tensor): The specific internal energy tensor of shape (n_samples,).\n",
        "\n",
        "    Returns:\n",
        "        tuple: A tuple of (D, Sx, tau), where D is conserved density,\n",
        "            Sx is conserved momentum in x-direction,\n",
        "            tau is conserved energy density,\n",
        "            each being a torch tensor of shape (n_samples,).\n",
        "    \"\"\"\n",
        "\n",
        "    # Computing the pressure from the primitive variables using the EOS\n",
        "    p = eos_analytic(rho, epsilon)\n",
        "    # Computing the Lorentz factor from the velocity.\n",
        "    W = 1 / torch.sqrt(1 - vx ** 2 / c ** 2)\n",
        "    # Specific enthalpy\n",
        "    h = 1 + epsilon + p / rho  \n",
        "\n",
        "    # Computing the conserved variables from the primitive variables\n",
        "    D = rho * W  # Conserved density\n",
        "    Sx = rho * h * W ** 2 * vx  # Conserved momentum in x-direction\n",
        "    tau = rho * h * W ** 2 - p - D  # Conserved energy density\n",
        "\n",
        "    # Returning the conserved variables\n",
        "    return D, Sx, tau\n",
        "\n",
        "# Defining a function that generates input data (conserved variables) from given samples of primitive variables\n",
        "def generate_input_data(rho, vx, epsilon):\n",
        "    # Converting the numpy arrays to torch tensors and moving them to the device\n",
        "    rho = torch.tensor(rho, dtype=torch.float32).to(device)\n",
        "    vx = torch.tensor(vx, dtype=torch.float32).to(device)\n",
        "    epsilon = torch.tensor(epsilon, dtype=torch.float32).to(device)\n",
        "\n",
        "    # Computing the conserved variables using the compute_conserved_variables function\n",
        "    D, Sx, tau = compute_conserved_variables(rho, vx, epsilon)\n",
        "\n",
        "    # Stacking the conserved variables into a torch tensor\n",
        "    x = torch.stack([D, Sx, tau], axis=1)\n",
        "\n",
        "    # Returning the input data tensor\n",
        "    return x\n",
        "\n",
        "# Defining a function that generates output data (labels) from given samples of primitive variables\n",
        "def generate_labels(rho, epsilon):\n",
        "    # Converting the numpy arrays to torch tensors and moving them to the device\n",
        "    rho = torch.tensor(rho, dtype=torch.float32).to(device)\n",
        "    epsilon = torch.tensor(epsilon, dtype=torch.float32).to(device)\n",
        "\n",
        "    # Computing the pressure from the primitive variables using the EOS\n",
        "    p = eos_analytic(rho, epsilon)\n",
        "\n",
        "    # Returning the output data tensor\n",
        "    return p"
      ]
    },
    {
      "cell_type": "markdown",
      "metadata": {
        "id": "2Z2LAeVRIj3n"
      },
      "source": [
        "Sampling the primitive variables using the sample_primitive_variables function"
      ]
    },
    {
      "cell_type": "code",
      "execution_count": null,
      "metadata": {
        "id": "6h_cc04GIj3p"
      },
      "outputs": [],
      "source": [
        "rho_train, vx_train, epsilon_train = sample_primitive_variables(n_train_samples)\n",
        "rho_test, vx_test, epsilon_test = sample_primitive_variables(n_test_samples)\n"
      ]
    },
    {
      "cell_type": "code",
      "execution_count": null,
      "metadata": {
        "id": "SYpA_h9GIj3r"
      },
      "outputs": [],
      "source": [
        "%config InteractiveShell.ast_node_interactivity = \"last_expr_or_assign\""
      ]
    },
    {
      "cell_type": "code",
      "execution_count": null,
      "metadata": {
        "id": "KbWEjaHLIj3s",
        "outputId": "12cef64d-4920-47ce-bc57-26fb6b60567a",
        "colab": {
          "base_uri": "https://localhost:8080/",
          "height": 413
        }
      },
      "outputs": [
        {
          "output_type": "display_data",
          "data": {
            "text/plain": [
              "<Figure size 1200x400 with 3 Axes>"
            ],
            "image/png": "[encoded data removed]"
          },
          "metadata": {}
        }
      ],
      "source": [
        "# Plotting the histograms of rho, vx and epsilon\n",
        "plt.figure(figsize=(12, 4))\n",
        "plt.subplot(1, 3, 1)\n",
        "plt.hist(rho_train, bins=20)\n",
        "plt.xlabel(\"rho\")\n",
        "plt.ylabel(\"Frequency\")\n",
        "#plt.yscale(\"log\")\n",
        "plt.subplot(1, 3, 2)\n",
        "plt.hist(vx_train, bins=20)\n",
        "plt.xlabel(\"vx\")\n",
        "plt.ylabel(\"Frequency\")\n",
        "#plt.yscale(\"log\")\n",
        "plt.subplot(1, 3, 3)\n",
        "plt.hist(epsilon_train, bins=20)\n",
        "plt.xlabel(\"epsilon\")\n",
        "plt.ylabel(\"Frequency\")\n",
        "#plt.yscale(\"log\")\n",
        "plt.suptitle(\"Primitive variables\")\n",
        "plt.tight_layout()\n",
        "plt.show()\n",
        "\n"
      ]
    },
    {
      "cell_type": "code",
      "execution_count": null,
      "metadata": {
        "id": "GuBqXAcmIj3u",
        "outputId": "a4188fa3-1809-49e6-adf0-0b1430eac2fe",
        "colab": {
          "base_uri": "https://localhost:8080/"
        }
      },
      "outputs": [
        {
          "output_type": "execute_result",
          "data": {
            "text/plain": [
              "tensor([1.9220, 2.2925, 1.3112,  ..., 1.3882, 1.4931, 5.2596], device='cuda:0')"
            ]
          },
          "metadata": {},
          "execution_count": 32
        }
      ],
      "source": [
        "\n",
        "# Generating the input and output data for train and test sets.\n",
        "x_train = generate_input_data(rho_train, vx_train, epsilon_train)\n",
        "y_train = generate_labels(rho_train, epsilon_train) \n",
        "x_test = generate_input_data(rho_test, vx_test, epsilon_test) \n",
        "y_test = generate_labels(rho_test, epsilon_test) \n"
      ]
    },
    {
      "cell_type": "code",
      "execution_count": null,
      "metadata": {
        "id": "M3wyicm3Ij3v",
        "outputId": "908ca04d-6831-4486-adf3-d7c16b02af52",
        "colab": {
          "base_uri": "https://localhost:8080/",
          "height": 413
        }
      },
      "outputs": [
        {
          "output_type": "display_data",
          "data": {
            "text/plain": [
              "<Figure size 1200x400 with 3 Axes>"
            ],
            "image/png": "[encoded data removed]"
          },
          "metadata": {}
        }
      ],
      "source": [
        "# Plotting the histograms of the input data before normalization\n",
        "plt.figure(figsize=(12, 4))\n",
        "plt.subplot(1, 3, 1)\n",
        "plt.hist(x_train[:, 0].cpu().numpy(), bins=20)\n",
        "plt.xlabel(\"D\")\n",
        "plt.ylabel(\"Frequency\")\n",
        "plt.yscale(\"log\")\n",
        "plt.subplot(1, 3, 2)\n",
        "plt.hist(x_train[:, 1].cpu().numpy(), bins=20)\n",
        "plt.xlabel(\"Sx\")\n",
        "plt.ylabel(\"Frequency\")\n",
        "plt.yscale(\"log\")\n",
        "plt.subplot(1, 3, 3)\n",
        "plt.hist(x_train[:, 2].cpu().numpy(), bins=20)\n",
        "plt.xlabel(\"tau\")\n",
        "plt.ylabel(\"Frequency\")\n",
        "plt.yscale(\"log\")\n",
        "plt.suptitle(\"Input data before normalization\")\n",
        "plt.tight_layout()\n",
        "plt.show()\n"
      ]
    },
    {
      "cell_type": "markdown",
      "metadata": {
        "id": "BALIdBxmIj3w"
      },
      "source": [
        "Perform z-score normalization"
      ]
    },
    {
      "cell_type": "code",
      "execution_count": null,
      "metadata": {
        "id": "wA7VR-oxIj3x"
      },
      "outputs": [],
      "source": [
        "\n",
        "# # Computing the mean and standard deviation of each input variable from the training set\n",
        "# D_mean = torch.mean(x_train[:, 0])\n",
        "# D_std = torch.std(x_train[:, 0])\n",
        "# Sx_mean = torch.mean(x_train[:, 1])\n",
        "# Sx_std = torch.std(x_train[:, 1])\n",
        "# tau_mean = torch.mean(x_train[:, 2])\n",
        "# tau_std = torch.std(x_train[:, 2])\n",
        "\n",
        "# # Applying z-score normalization to both train and test sets using the statistics from the training set\n",
        "# x_train[:, 0] = torch.sub(x_train[:, 0], D_mean).div(D_std)\n",
        "# x_train[:, 1] = torch.sub(x_train[:, 1], Sx_mean).div(Sx_std)\n",
        "# x_train[:, 2] = torch.sub(x_train[:, 2], tau_mean).div(tau_std)\n",
        "# x_test[:, 0] = torch.sub(x_test[:, 0], D_mean).div(D_std)\n",
        "# x_test[:, 1] = torch.sub(x_test[:, 1], Sx_mean).div(Sx_std)\n",
        "# x_test[:, 2] = torch.sub(x_test[:, 2], tau_mean).div(tau_std)\n"
      ]
    },
    {
      "cell_type": "code",
      "execution_count": null,
      "metadata": {
        "id": "2EdE9_MDIj3y",
        "outputId": "768b70ea-410a-4fb1-fa3a-3b4c430990c5",
        "colab": {
          "base_uri": "https://localhost:8080/",
          "height": 517
        }
      },
      "outputs": [
        {
          "output_type": "stream",
          "name": "stdout",
          "text": [
            "tensor(5.6259, device='cuda:0')\n",
            "tensor(3.3305, device='cuda:0')\n",
            "tensor(6.8267, device='cuda:0')\n",
            "tensor(8.0801, device='cuda:0')\n",
            "tensor(8.0068, device='cuda:0')\n",
            "tensor(7.8406, device='cuda:0')\n"
          ]
        },
        {
          "output_type": "display_data",
          "data": {
            "text/plain": [
              "<Figure size 1200x400 with 3 Axes>"
            ],
            "image/png": "[encoded data removed]"
          },
          "metadata": {}
        }
      ],
      "source": [
        "\n",
        "# Verifying that the means and the stds of the input data are close to 0 and 1 respectively.\n",
        "print(torch.mean(x_train[:, 0]))\n",
        "print(torch.std(x_train[:, 0]))\n",
        "print(torch.mean(x_train[:, 1]))\n",
        "print(torch.std(x_train[:, 1]))\n",
        "print(torch.mean(x_train[:, 2]))\n",
        "print(torch.std(x_train[:, 2]))\n",
        "\n",
        "# Plotting the histograms of the input data after normalization\n",
        "plt.figure(figsize=(12, 4))\n",
        "plt.subplot(1, 3, 1)\n",
        "plt.hist(x_train[:, 0].cpu().numpy(), bins=20)\n",
        "plt.xlabel(\"D\")\n",
        "plt.ylabel(\"Frequency\")\n",
        "plt.yscale(\"log\")\n",
        "plt.subplot(1, 3, 2)\n",
        "plt.hist(x_train[:, 1].cpu().numpy(), bins=20)\n",
        "plt.xlabel(\"Sx\")\n",
        "plt.ylabel(\"Frequency\")\n",
        "plt.yscale(\"log\")\n",
        "plt.subplot(1, 3, 3)\n",
        "plt.hist(x_train[:, 2].cpu().numpy(), bins=20)\n",
        "plt.xlabel(\"tau\")\n",
        "plt.ylabel(\"Frequency\")\n",
        "plt.yscale(\"log\")\n",
        "plt.suptitle(\"Input data after normalization\")\n",
        "plt.tight_layout()\n",
        "plt.show()\n"
      ]
    },
    {
      "cell_type": "markdown",
      "metadata": {
        "id": "nEevJS-2Ij30"
      },
      "source": []
    },
    {
      "cell_type": "code",
      "execution_count": null,
      "metadata": {
        "id": "Z9yIzNLkIj30",
        "outputId": "b6980ad4-4016-407d-d3ba-5d3e2be65df8",
        "colab": {
          "base_uri": "https://localhost:8080/",
          "height": 407
        }
      },
      "outputs": [
        {
          "output_type": "display_data",
          "data": {
            "text/plain": [
              "<Figure size 800x400 with 2 Axes>"
            ],
            "image/png": "[encoded data removed]"
          },
          "metadata": {}
        }
      ],
      "source": [
        "# Checking if our output is always positive by plotting a histogram of y_train and y_test tensors \n",
        "plt.figure(figsize=(8, 4))\n",
        "plt.subplot(1, 2, 1)\n",
        "plt.hist(y_train.cpu().numpy(), bins=20) # must be cpu here.\n",
        "plt.xlabel(\"y_train\")\n",
        "plt.ylabel(\"Frequency\")\n",
        "plt.yscale(\"log\")\n",
        "plt.subplot(1, 2, 2)\n",
        "plt.hist(y_test.cpu().numpy(), bins=20) # must be cpu here\n",
        "plt.xlabel(\"y_test\")\n",
        "plt.ylabel(\"Frequency\")\n",
        "plt.yscale(\"log\")\n",
        "plt.tight_layout()\n",
        "plt.show()\n"
      ]
    },
    {
      "cell_type": "code",
      "execution_count": null,
      "metadata": {
        "id": "_vIrNu0tIj31"
      },
      "outputs": [],
      "source": [
        "%config InteractiveShell.ast_node_interactivity = \"all\""
      ]
    },
    {
      "cell_type": "markdown",
      "metadata": {
        "id": "K3A1q53gIj31"
      },
      "source": [
        "## Defining the neural network"
      ]
    },
    {
      "cell_type": "code",
      "execution_count": null,
      "metadata": {
        "id": "ijcVDaxzIj31"
      },
      "outputs": [],
      "source": [
        "# Defining a class for the network\n",
        "class Net(nn.Module):\n",
        "    \"\"\"A class for creating a network with a\n",
        "    variable number of hidden layers and units.\n",
        "\n",
        "    Attributes:\n",
        "        n_layers (int): The number of hidden layers in the network.\n",
        "        n_units (list): A list of integers representing the number of units in each hidden layer.\n",
        "        hidden_activation (torch.nn.Module): The activation function for the hidden layers.\n",
        "        output_activation (torch.nn.Module): The activation function for the output layer.\n",
        "        layers (torch.nn.ModuleList): A list of linear layers in the network.\n",
        "    \"\"\"\n",
        "\n",
        "    def __init__(self, n_layers, n_units, hidden_activation, output_activation):\n",
        "        \"\"\"Initializes the network with the given hyperparameters.\n",
        "\n",
        "        Args:\n",
        "            n_layers (int): The number of hidden layers in the network.\n",
        "            n_units (list): A list of integers representing the number of units in each hidden layer.\n",
        "            hidden_activation (torch.nn.Module): The activation function for the hidden layers.\n",
        "            output_activation (torch.nn.Module): The activation function for the output layer.\n",
        "        \"\"\"\n",
        "        super().__init__()\n",
        "        self.n_layers = n_layers\n",
        "        self.n_units = n_units\n",
        "        self.hidden_activation = hidden_activation\n",
        "        self.output_activation = output_activation\n",
        "\n",
        "        # Creating a list of linear layers with different numbers of units for each layer\n",
        "        self.layers = nn.ModuleList([nn.Linear(3, n_units[0])])\n",
        "        for i in range(1, n_layers):\n",
        "            self.layers.append(nn.Linear(n_units[i - 1], n_units[i]))\n",
        "        self.layers.append(nn.Linear(n_units[-1], 1))\n",
        "\n",
        "        # Adding some assertions to check that the input arguments are valid\n",
        "        assert isinstance(n_layers, int) and n_layers > 0, \"n_layers must be a positive integer\"\n",
        "        assert isinstance(n_units, list) and len(n_units) == n_layers, \"n_units must be a list of length n_layers\"\n",
        "        assert all(isinstance(n, int) and n > 0 for n in n_units), \"n_units must contain positive integers\"\n",
        "        assert isinstance(hidden_activation, nn.Module), \"hidden_activation must be a torch.nn.Module\"\n",
        "        assert isinstance(output_activation, nn.Module), \"output_activation must be a torch.nn.Module\"\n",
        "\n",
        "    def forward(self, x):\n",
        "        \"\"\"Performs a forward pass on the input tensor.\n",
        "\n",
        "        Args:\n",
        "            x (torch.Tensor): The input tensor of shape (batch_size, 3).\n",
        "\n",
        "        Returns:\n",
        "            torch.Tensor: The output tensor of shape (batch_size, 1).\n",
        "        \"\"\"\n",
        "        # Looping over the hidden layers and applying the linear transformation and the activation function\n",
        "        for layer in self.layers[:-1]:\n",
        "            x = self.hidden_activation(layer(x))\n",
        "        # Applying the linear transformation and the activation function on the output layer\n",
        "        x = self.output_activation(self.layers[-1](x))\n",
        "\n",
        "        # Returning the output tensor\n",
        "        return x"
      ]
    },
    {
      "cell_type": "markdown",
      "metadata": {
        "id": "NeXqpDy2Ij32"
      },
      "source": [
        "## Defining the model and search space"
      ]
    },
    {
      "cell_type": "code",
      "execution_count": null,
      "metadata": {
        "id": "6-wtLxUFIj33"
      },
      "outputs": [],
      "source": [
        "# Defining a function to create a trial network and optimizer\n",
        "def create_model(trial, optimize):\n",
        "    \"\"\"Creates a trial network and optimizer based on the sampled hyperparameters.\n",
        "\n",
        "    Args:\n",
        "        trial (optuna.trial.Trial): The trial object that contains the hyperparameters.\n",
        "        optimize (boolean): Whether to optimize the hyperparameters or to use predefined values.\n",
        "\n",
        "    Returns:\n",
        "        tuple: A tuple of (net, loss_fn, optimizer, batch_size, n_epochs,\n",
        "            scheduler, loss_name, optimizer_name, scheduler_name,\n",
        "            n_units, n_layers, hidden_activation, output_activation),\n",
        "            where net is the trial network,\n",
        "            loss_fn is the loss function,\n",
        "            optimizer is the optimizer,\n",
        "            batch_size is the batch size,\n",
        "            n_epochs is the number of epochs,\n",
        "            scheduler is the learning rate scheduler,\n",
        "            loss_name is the name of the loss function,\n",
        "            optimizer_name is the name of the optimizer,\n",
        "            scheduler_name is the name of the scheduler,\n",
        "            n_units is a list of integers representing\n",
        "            the number of units in each hidden layer,\n",
        "            n_layers is an integer representing the number of hidden layers in the network,\n",
        "            hidden_activation is a torch.nn.Module representing the activation function for the hidden layers,\n",
        "            output_activation is a torch.nn.Module representing the activation function for the output layer,\n",
        "            lr is the (initial) learning rate.\n",
        "    \"\"\"\n",
        "    # If optimize is True, sample the hyperparameters from the search space\n",
        "    if optimize:\n",
        "        # Sampling the hyperparameters from the search space\n",
        "        n_layers = trial.suggest_int(\"n_layers\", 1, 3)\n",
        "        n_units = [trial.suggest_int(f\"n_units_{i}\", 16, 256) for i in range(n_layers)] \n",
        "        hidden_activation_name = trial.suggest_categorical(\n",
        "            \"hidden_activation\", [\"ReLU\", \"LeakyReLU\", \"ELU\", \"Tanh\", \"Sigmoid\"]\n",
        "        )\n",
        "        output_activation_name = trial.suggest_categorical(\n",
        "            #\"output_activation\", [\"Linear\", \"ReLU\", \"Softplus\"]\n",
        "            # Assuming pressure cannot be negative, linear output activation is not an option.\n",
        "            \"output_activation\", [\"ReLU\", \"Softplus\"]\n",
        "        ) \n",
        "        loss_name = trial.suggest_categorical(\n",
        "            \"loss\", [\"MSE\", \"MAE\", \"Huber\", \"LogCosh\"] \n",
        "        )\n",
        "        optimizer_name = trial.suggest_categorical(\n",
        "            \"optimizer\", [\"Adam\", \"SGD\", \"RMSprop\", \"Adagrad\"] \n",
        "        )\n",
        "        lr = trial.suggest_loguniform(\"lr\", 1e-4, 1e-2) \n",
        "        batch_size = trial.suggest_int(\"batch_size\", 32, 256)\n",
        "        n_epochs = trial.suggest_int(\"n_epochs\", 50, 100) \n",
        "        scheduler_name = trial.suggest_categorical(\n",
        "            \"scheduler\",\n",
        "            [\"None\", \"CosineAnnealingLR\", \"ReduceLROnPlateau\", \"StepLR\", \"ExponentialLR\",\"OneCycleLR\"],\n",
        "        )\n",
        "\n",
        "    # If optimize is False, use the predefined values\n",
        "    else:\n",
        "        # Setting the hyperparameters to the predefined values\n",
        "        n_layers = N_LAYERS_NO_OPT\n",
        "        n_units = N_UNITS_NO_OPT\n",
        "        hidden_activation_name = HIDDEN_ACTIVATION_NAME_NO_OPT\n",
        "        output_activation_name = OUTPUT_ACTIVATION_NAME_NO_OPT\n",
        "        loss_name = LOSS_NAME_NO_OPT\n",
        "        optimizer_name = OPTIMIZER_NAME_NO_OPT\n",
        "        lr = LR_NO_OPT\n",
        "        batch_size = BATCH_SIZE_NO_OPT\n",
        "        n_epochs = N_EPOCHS_NO_OPT\n",
        "        scheduler_name = SCHEDULER_NAME_NO_OPT\n",
        "\n",
        "\n",
        "    # Creating the activation functions from their names\n",
        "    if hidden_activation_name == \"ReLU\":\n",
        "        hidden_activation = nn.ReLU()\n",
        "    elif hidden_activation_name == \"LeakyReLU\":\n",
        "        hidden_activation = nn.LeakyReLU() \n",
        "    elif hidden_activation_name == \"ELU\":\n",
        "        hidden_activation = nn.ELU() \n",
        "    elif hidden_activation_name == \"Tanh\":\n",
        "        hidden_activation = nn.Tanh()\n",
        "    else:\n",
        "        hidden_activation = nn.Sigmoid()\n",
        "\n",
        "    if output_activation_name == \"ReLU\":\n",
        "        output_activation = nn.ReLU()\n",
        "    elif output_activation_name == \"Softplus\":\n",
        "        output_activation = nn.Softplus()\n",
        "    else:\n",
        "        output_activation = nn.Identity()\n",
        "\n",
        "    # Creating the loss function from its name\n",
        "    if loss_name == \"MSE\":\n",
        "        loss_fn = nn.MSELoss()\n",
        "    elif loss_name == \"MAE\":\n",
        "        loss_fn = nn.L1Loss()\n",
        "    elif loss_name == \"Huber\":\n",
        "        loss_fn = nn.SmoothL1Loss() \n",
        "    else:\n",
        "        # Creating the log-cosh loss function\n",
        "        def log_cosh_loss(y_pred, y_true):\n",
        "            return torch.mean(torch.log(torch.cosh(y_pred - y_true)))\n",
        "            \n",
        "        loss_fn = log_cosh_loss\n",
        "\n",
        "    # Creating the network with the sampled hyperparameters\n",
        "    net = Net(\n",
        "        n_layers, n_units, hidden_activation, output_activation\n",
        "    ).to(device)\n",
        "\n",
        "    if optimize:\n",
        "      # Creating the optimizer from its name\n",
        "      if optimizer_name == \"SGD\":\n",
        "          # Added sampling the weight decay and momentum for SGD\n",
        "          weight_decay = trial.suggest_loguniform(\"weight_decay\", 1e-5, 1e-2)\n",
        "          momentum = trial.suggest_uniform(\"momentum\", 0.0, 0.99)\n",
        "          optimizer = optim.SGD(net.parameters(), lr=lr, weight_decay=weight_decay, momentum=momentum)\n",
        "      elif optimizer_name == \"Adam\":\n",
        "          # Added sampling the weight decay and beta parameters for Adam\n",
        "          weight_decay = trial.suggest_loguniform(\"weight_decay\", 1e-5, 1e-2)\n",
        "          beta1 = trial.suggest_uniform(\"beta1\", 0.5, 0.99)\n",
        "          beta2 = trial.suggest_uniform(\"beta2\", 0.9, 0.999)\n",
        "          optimizer = optim.Adam(net.parameters(), lr=lr, weight_decay=weight_decay, betas=(beta1, beta2))\n",
        "      elif optimizer_name == \"RMSprop\":\n",
        "          optimizer = optim.RMSprop(net.parameters(), lr=lr)\n",
        "      else:\n",
        "          # Added creating the Adagrad optimizer\n",
        "          optimizer = optim.Adagrad(net.parameters(), lr=lr)\n",
        "  \n",
        "      # Creating the learning rate scheduler from its name\n",
        "      if scheduler_name == \"StepLR\":\n",
        "          # Added sampling the step_size and gamma for StepLR\n",
        "          step_size = trial.suggest_int(\"step_size\", 5, 15)\n",
        "          gamma = trial.suggest_uniform(\"gamma\", 0.05, 0.5)\n",
        "          scheduler = optim.lr_scheduler.StepLR(optimizer, step_size=step_size, gamma=gamma)\n",
        "      elif scheduler_name == \"ExponentialLR\":\n",
        "          # Added sampling the gamma for ExponentialLR\n",
        "          gamma = trial.suggest_uniform(\"gamma\", 0.8, 0.99)\n",
        "          scheduler = optim.lr_scheduler.ExponentialLR(optimizer, gamma=gamma)\n",
        "      elif scheduler_name == \"CosineAnnealingLR\":\n",
        "          # Added sampling the T_max for CosineAnnealingLR\n",
        "          T_max = trial.suggest_int(\"T_max\", 5, 15)\n",
        "          scheduler = optim.lr_scheduler.CosineAnnealingLR(optimizer, T_max=T_max)\n",
        "      elif scheduler_name == \"ReduceLROnPlateau\":\n",
        "          # Added sampling the factor, patience and threshold for ReduceLROnPlateau\n",
        "          factor = trial.suggest_uniform(\"factor\", 0.1, 0.9)\n",
        "          patience = trial.suggest_int(\"patience\", 5, 15)\n",
        "          threshold = trial.suggest_loguniform(\"threshold\", 1e-4, 1e-2)\n",
        "          scheduler = optim.lr_scheduler.ReduceLROnPlateau(\n",
        "              optimizer, mode=\"min\", factor=factor, patience=patience, threshold=threshold\n",
        "          )\n",
        "      # # Added using OneCycleLR scheduler as an option\n",
        "      # elif scheduler_name == \"OneCycleLR\":\n",
        "      #         # Added sampling the max_lr and pct_start for OneCycleLR\n",
        "      #         max_lr = trial.suggest_loguniform(\"max_lr\", lr, 10 * lr) \n",
        "      #         pct_start = trial.suggest_uniform(\"pct_start\", 0.1, 0.9)\n",
        "      #         scheduler = optim.lr_scheduler.OneCycleLR(\n",
        "      #             optimizer,\n",
        "      #             max_lr=max_lr,\n",
        "      #             epochs=n_epochs,\n",
        "      #             steps_per_epoch=len(train_loader),\n",
        "      #             pct_start=pct_start,\n",
        "      #         )\n",
        "      else:\n",
        "          scheduler = None\n",
        "    else:\n",
        "        # Creating the optimizer from its name\n",
        "        if optimizer_name == \"SGD\":\n",
        "            optimizer = optim.SGD(net.parameters(), lr=lr)\n",
        "        elif optimizer_name == \"Adam\":\n",
        "            optimizer = optim.Adam(net.parameters(), lr=lr)\n",
        "        elif optimizer_name == \"RMSprop\":\n",
        "            optimizer = optim.RMSprop(net.parameters(), lr=lr)\n",
        "        else:\n",
        "            # Added creating the Adagrad optimizer\n",
        "            optimizer = optim.Adagrad(net.parameters(), lr=lr)\n",
        "\n",
        "        # Creating the learning rate scheduler from its name\n",
        "        if scheduler_name == \"StepLR\":\n",
        "            scheduler = optim.lr_scheduler.StepLR(optimizer, step_size=10, gamma=0.1)\n",
        "        elif scheduler_name == \"ExponentialLR\":\n",
        "            scheduler = optim.lr_scheduler.ExponentialLR(optimizer, gamma=0.9)\n",
        "        elif scheduler_name == \"CosineAnnealingLR\":\n",
        "            # Added creating the CosineAnnealingLR scheduler\n",
        "            scheduler = optim.lr_scheduler.CosineAnnealingLR(optimizer, T_max=10)\n",
        "        elif scheduler_name == \"ReduceLROnPlateau\":\n",
        "            # Added creating the ReduceLROnPlateau scheduler\n",
        "            # Creating the ReduceLROnPlateau scheduler with a threshold value of 0.01\n",
        "            #scheduler = optim.lr_scheduler.ReduceLROnPlateau(\n",
        "            #    optimizer, mode=\"min\", factor=0.1, patience=10, threshold=0.01\n",
        "            #)\n",
        "            # Use Dieseldorst et al. settings and add to that a minimum lr.\n",
        "            scheduler = optim.lr_scheduler.ReduceLROnPlateau(\n",
        "                        optimizer, mode=\"min\", factor=0.5, patience=5, threshold=0.0005, min_lr=1e-6\n",
        "                    )\n",
        "        else:\n",
        "            scheduler = None\n",
        "\n",
        "\n",
        "    # Returning all variables needed for saving and loading\n",
        "    return net, loss_fn, optimizer, batch_size, n_epochs, scheduler, loss_name, optimizer_name, scheduler_name, n_units, n_layers, hidden_activation, output_activation, lr\n",
        "\n"
      ]
    },
    {
      "cell_type": "markdown",
      "metadata": {
        "id": "MKqFgdWzIj35"
      },
      "source": [
        " ## The training and evaluation loop\n",
        "\n",
        " We first define a couple of functions used in the training and evaluation."
      ]
    },
    {
      "cell_type": "code",
      "execution_count": null,
      "metadata": {
        "id": "E1XWfjLjIj35"
      },
      "outputs": [],
      "source": [
        "# Defining a function that computes loss and metrics for a given batch\n",
        "def compute_loss_and_metrics(y_pred, y_true, loss_fn):\n",
        "    \"\"\"Computes loss and metrics for a given batch.\n",
        "\n",
        "    Args:\n",
        "        y_pred (torch.Tensor): The predicted pressure tensor of shape (batch_size, 1).\n",
        "        y_true (torch.Tensor): The true pressure tensor of shape (batch_size,).\n",
        "        loss_fn (torch.nn.Module or function): The loss function to use.\n",
        "\n",
        "    Returns:\n",
        "        tuple: A tuple of (loss, l1_norm), where loss is a scalar tensor,\n",
        "            l1_norm is L1 norm for relative error of pressure,\n",
        "            each being a scalar tensor.\n",
        "            linf_norm is Linf norm for relative error of pressure.\n",
        "    \"\"\"\n",
        "    # Reshaping the target tensor to match the input tensor\n",
        "    y_true = y_true.view(-1, 1)\n",
        "\n",
        "    # Computing the loss using the loss function\n",
        "    loss = loss_fn(y_pred, y_true)\n",
        "\n",
        "    # Computing the relative error of pressure\n",
        "    rel_error = torch.abs((y_pred - y_true) / y_true)\n",
        "\n",
        "    # Computing the L1 norm for the relative error of pressure\n",
        "    l1_norm = torch.mean(rel_error) \n",
        "    # Computing the Linf norm for the relative error of pressure\n",
        "    linf_norm = torch.max(rel_error) \n",
        "\n",
        "    # Returning the loss and metrics\n",
        "    return loss, l1_norm, linf_norm\n",
        "\n",
        "\n",
        "# Defining a function that updates the learning rate scheduler with validation loss if applicable\n",
        "def update_scheduler(scheduler, test_loss):\n",
        "    \"\"\"Updates the learning rate scheduler with validation loss if applicable.\n",
        "\n",
        "    Args:\n",
        "        scheduler (torch.optim.lr_scheduler._LRScheduler or None): The learning rate scheduler to use.\n",
        "        test_loss (float): The validation loss to use.\n",
        "\n",
        "    Returns:\n",
        "        None\n",
        "    \"\"\"\n",
        "    # Checking if scheduler is not None\n",
        "    if scheduler is not None:\n",
        "        # Checking if scheduler is ReduceLROnPlateau\n",
        "        if isinstance(scheduler, optim.lr_scheduler.ReduceLROnPlateau):\n",
        "            # Updating the scheduler with test_loss\n",
        "            scheduler.step(test_loss)\n",
        "        else:\n",
        "            # Updating the scheduler without test_loss\n",
        "            scheduler.step()\n"
      ]
    },
    {
      "cell_type": "markdown",
      "metadata": {
        "id": "FhPZ2HjiIj36"
      },
      "source": [
        "Now for the actual training and evaluation loop,"
      ]
    },
    {
      "cell_type": "code",
      "execution_count": null,
      "metadata": {
        "id": "a9F5P1FIIj37"
      },
      "outputs": [],
      "source": [
        "# Defining a function to train and evaluate a network\n",
        "def train_and_eval(net, loss_fn, optimizer, batch_size, n_epochs, scheduler, trial=None):\n",
        "    \"\"\"Trains and evaluates a network.\n",
        "\n",
        "    Args:\n",
        "        net (torch.nn.Module): The network to train and evaluate.\n",
        "        loss_fn (torch.nn.Module or function): The loss function.\n",
        "        optimizer (torch.optim.Optimizer): The optimizer.\n",
        "        batch_size (int): The batch size.\n",
        "        n_epochs (int): The number of epochs.\n",
        "        scheduler (torch.optim.lr_scheduler._LRScheduler or None): The learning rate scheduler.\n",
        "    Returns:\n",
        "        tuple: A tuple of (train_losses, test_losses, train_metrics, test_metrics), where\n",
        "            train_losses is a list of training losses for each epoch,\n",
        "            test_losses is a list of validation losses for each epoch,\n",
        "            train_metrics is a list of dictionaries containing training metrics for each epoch,\n",
        "            test_metrics is a list of dictionaries containing validation metrics for each epoch.\n",
        "    \"\"\"\n",
        "    # Creating data loaders for train and test sets\n",
        "    train_loader = torch.utils.data.DataLoader(\n",
        "        torch.utils.data.TensorDataset(x_train, y_train), batch_size=batch_size, shuffle=True\n",
        "    )\n",
        "    test_loader = torch.utils.data.DataLoader(\n",
        "        torch.utils.data.TensorDataset(x_test, y_test), batch_size=batch_size\n",
        "    )\n",
        "\n",
        "    # Initializing lists to store the losses and metrics for each epoch\n",
        "    train_losses = []\n",
        "    test_losses = []\n",
        "    train_metrics = []\n",
        "    test_metrics = []\n",
        "\n",
        "    # Creating a SummaryWriter object to log data for tensorboard\n",
        "    writer = tbx.SummaryWriter()\n",
        "\n",
        "    # Looping over the epochs\n",
        "    for epoch in range(n_epochs):\n",
        "\n",
        "        # Setting the network to training mode\n",
        "        net.train()\n",
        "\n",
        "        # Initializing variables to store the total loss and metrics for the train set\n",
        "        train_loss = 0.0\n",
        "        train_l1_norm = 0.0\n",
        "        train_linf_norm = 0.0\n",
        "\n",
        "        # Looping over the batches in the train set\n",
        "        for x_batch, y_batch in train_loader:\n",
        "\n",
        "            # Moving the batch tensors to the device\n",
        "            x_batch = x_batch.to(device)\n",
        "            y_batch = y_batch.to(device)\n",
        "\n",
        "            # Zeroing the gradients\n",
        "            optimizer.zero_grad()\n",
        "\n",
        "            # Performing a forward pass and computing the loss and metrics\n",
        "            y_pred = net(x_batch)\n",
        "            loss, l1_norm, linf_norm = compute_loss_and_metrics(\n",
        "                y_pred, y_batch, loss_fn\n",
        "            )\n",
        "\n",
        "\n",
        "            # Performing a backward pass and updating the weights\n",
        "            loss.backward()\n",
        "            optimizer.step()\n",
        "\n",
        "            # Updating the total loss and metrics for the train set\n",
        "            train_loss += loss.item() * x_batch.size(0)\n",
        "            train_l1_norm += l1_norm.item() * x_batch.size(0)\n",
        "            train_linf_norm += linf_norm.item() * x_batch.size(0)\n",
        "\n",
        "        # Computing the average loss and metrics for the train set\n",
        "        train_loss /= len(train_loader.dataset)\n",
        "        train_l1_norm /= len(train_loader.dataset)\n",
        "        train_linf_norm /= len(train_loader.dataset)\n",
        "\n",
        "        # Appending the average loss and metrics for the train set to the lists\n",
        "        train_losses.append(train_loss)\n",
        "        train_metrics.append(\n",
        "            {\n",
        "                \"l1_norm\": train_l1_norm,\n",
        "                \"linf_norm\": train_linf_norm,\n",
        "            }\n",
        "        )\n",
        "\n",
        "        # Logging the average loss and metrics for the train set to tensorboard\n",
        "        writer.add_scalar(\"Loss/train\", train_loss, epoch)\n",
        "        writer.add_scalar(\"L1 norm/train\", train_l1_norm, epoch)\n",
        "        writer.add_scalar(\"Linf norm/train\", train_linf_norm, epoch)\n",
        "\n",
        "        # Setting the network to evaluation mode\n",
        "        net.eval()\n",
        "\n",
        "        # Initializing variables to store the total loss and metrics for the test set\n",
        "        test_loss = 0.0\n",
        "        test_l1_norm = 0.0\n",
        "        test_linf_norm = 0.0\n",
        "\n",
        "        # Looping over the batches in the test set\n",
        "        with torch.no_grad():\n",
        "            for x_batch, y_batch in test_loader:\n",
        "\n",
        "                # Moving the batch tensors to the device\n",
        "                x_batch = x_batch.to(device)\n",
        "                y_batch = y_batch.to(device)\n",
        "\n",
        "                # Performing a forward pass and computing the loss and metrics\n",
        "                y_pred = net(x_batch)\n",
        "                loss, l1_norm, linf_norm = compute_loss_and_metrics(\n",
        "                    y_pred, y_batch, loss_fn\n",
        "                )\n",
        "\n",
        "\n",
        "                # Updating the total loss and metrics for the test set\n",
        "                test_loss += loss.item() * x_batch.size(0)\n",
        "                test_l1_norm += l1_norm.item() * x_batch.size(0)\n",
        "                test_linf_norm += linf_norm.item() * x_batch.size(0)\n",
        "\n",
        "        # Computing the average loss and metrics for the test set\n",
        "        test_loss /= len(test_loader.dataset)\n",
        "        test_l1_norm /= len(test_loader.dataset)\n",
        "        test_linf_norm /= len(test_loader.dataset)\n",
        "\n",
        "        # Appending the average loss and metrics for the test set to the lists\n",
        "        test_losses.append(test_loss)\n",
        "        test_metrics.append(\n",
        "            {\n",
        "                \"l1_norm\": test_l1_norm,\n",
        "                \"linf_norm\": test_linf_norm,\n",
        "            }\n",
        "        )\n",
        "\n",
        "        # Logging the average loss and metrics for the test set to tensorboard\n",
        "        writer.add_scalar(\"Loss/test\", test_loss, epoch)\n",
        "        writer.add_scalar(\"L1 norm/test\", test_l1_norm, epoch)\n",
        "        writer.add_scalar(\"Linf norm/test\", test_linf_norm, epoch)\n",
        "\n",
        "        # Printing the average loss and metrics for both sets for this epoch\n",
        "        print(\n",
        "            f\"Epoch {epoch + 1}: Train Loss: {train_loss:.4f}, Test Loss: {test_loss:.4f}, \"\n",
        "            f\"Train L1 Norm: {train_l1_norm:.4f}, Test L1 Norm: {test_l1_norm:.4f}, \"\n",
        "            f\"Train Linf Norm: {train_linf_norm:.4f}, Test Linf Norm: {test_linf_norm:.4f}\"\n",
        "        )\n",
        "\n",
        "        # Updating the learning rate scheduler with validation loss if applicable\n",
        "        update_scheduler(scheduler, test_loss)\n",
        "\n",
        "        # Reporting the intermediate metric value to Optuna if trial is not None\n",
        "        if trial is not None:\n",
        "            trial.report(test_metrics[-1][\"l1_norm\"], epoch)\n",
        "\n",
        "            # Checking if the trial should be pruned based on the intermediate value if trial is not None\n",
        "            if trial.should_prune():\n",
        "                raise optuna.TrialPruned()\n",
        "\n",
        "    # Closing the SummaryWriter object\n",
        "    writer.close()\n",
        "\n",
        "    # Returning the losses and metrics lists\n",
        "    return train_losses, test_losses, train_metrics, test_metrics"
      ]
    },
    {
      "cell_type": "markdown",
      "metadata": {
        "id": "OSJkBro4Ij38"
      },
      "source": [
        "## The objective function and hyperparameter tuning"
      ]
    },
    {
      "cell_type": "code",
      "execution_count": null,
      "metadata": {
        "id": "0LXd3ISCIj39"
      },
      "outputs": [],
      "source": [
        "# Defining an objective function for Optuna to minimize\n",
        "def objective(trial):\n",
        "    \"\"\"Defines an objective function for Optuna to minimize.\n",
        "\n",
        "    Args:\n",
        "        trial (optuna.trial.Trial): The trial object that contains the hyperparameters.\n",
        "\n",
        "    Returns:\n",
        "        float: The validation L1 norm to minimize.\n",
        "    \"\"\"\n",
        "    # Creating a trial network and optimizer using the create_model function\n",
        "    net, \\\n",
        "    loss_fn, \\\n",
        "    optimizer, \\\n",
        "    batch_size, \\\n",
        "    n_epochs, \\\n",
        "    scheduler, \\\n",
        "    loss_name, \\\n",
        "    optimizer_name, \\\n",
        "    scheduler_name, \\\n",
        "    n_units, \\\n",
        "    n_layers, \\\n",
        "    hidden_activation, \\\n",
        "    output_activation, \\\n",
        "    lr = create_model(trial, optimize=True)\n",
        "\n",
        "    # Training and evaluating the network using the train_and_eval function\n",
        "    _, _, _, test_metrics = train_and_eval(\n",
        "        net, loss_fn, optimizer, batch_size, n_epochs, scheduler, trial\n",
        "    )\n",
        "\n",
        "    # Returning the last validation L1 norm as the objective value to minimize\n",
        "    return test_metrics[-1][\"l1_norm\"]"
      ]
    },
    {
      "cell_type": "code",
      "execution_count": null,
      "metadata": {
        "id": "B7Hid5kDIj3-"
      },
      "outputs": [],
      "source": [
        "if OPTIMIZE:\n",
        "    # Creating a study object with Optuna with TPE sampler and median pruner \n",
        "    study = optuna.create_study(direction=\"minimize\", sampler=optuna.samplers.TPESampler(), pruner=optuna.pruners.MedianPruner())\n",
        "\n",
        "    # Running Optuna with 100 trials when we are optimizing.\n",
        "    study.optimize(objective, n_trials=N_TRIALS)\n",
        "\n",
        "    # Printing the best trial information\n",
        "    print(\"Best trial:\")\n",
        "    trial = study.best_trial\n",
        "    print(\"  Value: \", trial.value)\n",
        "    print(\"  Params: \")\n",
        "    for key, value in trial.params.items():\n",
        "        print(f\"    {key}: {value}\")\n"
      ]
    },
    {
      "cell_type": "markdown",
      "metadata": {
        "id": "LnHLIVC_Ij3_"
      },
      "source": [
        "## Training the model"
      ]
    },
    {
      "cell_type": "code",
      "execution_count": null,
      "metadata": {
        "id": "A2zBbom2Ij4A"
      },
      "outputs": [],
      "source": [
        "# Creating the best network and optimizer using the best hyperparameters\n",
        "if OPTIMIZE:\n",
        "    net, \\\n",
        "    loss_fn, \\\n",
        "    optimizer, \\\n",
        "    batch_size, \\\n",
        "    n_epochs, \\\n",
        "    scheduler, \\\n",
        "    loss_name, \\\n",
        "    optimizer_name, \\\n",
        "    scheduler_name, \\\n",
        "    n_units, \\\n",
        "    n_layers, \\\n",
        "    hidden_activation, \\\n",
        "    output_activation, \\\n",
        "    lr = create_model(trial, optimize=True)\n",
        "# Creating the network with predefined hyperparameters\n",
        "else:\n",
        "    net, \\\n",
        "    loss_fn, \\\n",
        "    optimizer, \\\n",
        "    batch_size, \\\n",
        "    n_epochs, \\\n",
        "    scheduler, \\\n",
        "    loss_name, \\\n",
        "    optimizer_name, \\\n",
        "    scheduler_name, \\\n",
        "    n_units, \\\n",
        "    n_layers, \\\n",
        "    hidden_activation, \\\n",
        "    output_activation, \\\n",
        "    lr = create_model(trial=None, optimize=False)"
      ]
    },
    {
      "cell_type": "code",
      "execution_count": null,
      "metadata": {
        "id": "fnc86ohAIj4A",
        "outputId": "8a50cada-0bc7-495b-b1e6-13a37ad20157",
        "colab": {
          "base_uri": "https://localhost:8080/"
        }
      },
      "outputs": [
        {
          "output_type": "stream",
          "name": "stdout",
          "text": [
            "loss_fn: MSELoss()\n",
            "batch_size: 32\n",
            "n_epochs: 400\n",
            "scheduler: <torch.optim.lr_scheduler.ReduceLROnPlateau object at 0x7f9721696560>\n",
            "loss_name: MSE\n",
            "optimizer_name: Adam\n",
            "scheduler_name: ReduceLROnPlateau\n",
            "n_units: [600, 200]\n",
            "n_layers: 2\n",
            "hidden_activation: Sigmoid()\n",
            "output_activation: ReLU()\n"
          ]
        }
      ],
      "source": [
        "print(\"loss_fn:\", loss_fn)\n",
        "print(\"batch_size:\", batch_size)\n",
        "print(\"n_epochs:\", n_epochs)\n",
        "print(\"scheduler:\", scheduler)\n",
        "print(\"loss_name:\", loss_name)\n",
        "print(\"optimizer_name:\", optimizer_name)\n",
        "print(\"scheduler_name:\", scheduler_name)\n",
        "print(\"n_units:\", n_units)\n",
        "print(\"n_layers:\", n_layers)\n",
        "print(\"hidden_activation:\", hidden_activation)\n",
        "print(\"output_activation:\", output_activation)"
      ]
    },
    {
      "cell_type": "code",
      "execution_count": null,
      "metadata": {
        "id": "3iUCb_j5Ij4B",
        "outputId": "9a4715b3-4270-475b-9dee-4c62023c4e12",
        "colab": {
          "base_uri": "https://localhost:8080/"
        }
      },
      "outputs": [
        {
          "output_type": "stream",
          "name": "stdout",
          "text": [
            "Epoch 1: Train Loss: 0.0953, Test Loss: 0.0121, Train L1 Norm: 0.4112, Test L1 Norm: 0.1613, Train Linf Norm: 9.9780, Test Linf Norm: 0.9566\n",
            "Epoch 2: Train Loss: 0.0132, Test Loss: 0.0038, Train L1 Norm: 0.1502, Test L1 Norm: 0.0682, Train Linf Norm: 2.8887, Test Linf Norm: 1.0718\n",
            "Epoch 3: Train Loss: 0.0117, Test Loss: 0.0022, Train L1 Norm: 0.1633, Test L1 Norm: 0.0671, Train Linf Norm: 3.3925, Test Linf Norm: 0.8534\n",
            "Epoch 4: Train Loss: 0.0094, Test Loss: 0.0104, Train L1 Norm: 0.1284, Test L1 Norm: 0.2114, Train Linf Norm: 2.3599, Test Linf Norm: 3.9692\n",
            "Epoch 5: Train Loss: 0.0068, Test Loss: 0.0054, Train L1 Norm: 0.1821, Test L1 Norm: 0.3702, Train Linf Norm: 4.2938, Test Linf Norm: 7.7491\n",
            "Epoch 6: Train Loss: 0.0068, Test Loss: 0.0074, Train L1 Norm: 0.1770, Test L1 Norm: 0.1150, Train Linf Norm: 4.1070, Test Linf Norm: 0.9261\n",
            "Epoch 7: Train Loss: 0.0065, Test Loss: 0.0065, Train L1 Norm: 0.1551, Test L1 Norm: 0.1415, Train Linf Norm: 3.5004, Test Linf Norm: 2.7172\n",
            "Epoch 8: Train Loss: 0.0044, Test Loss: 0.0074, Train L1 Norm: 0.0967, Test L1 Norm: 0.1089, Train Linf Norm: 1.8546, Test Linf Norm: 0.9309\n",
            "Epoch 9: Train Loss: 0.0061, Test Loss: 0.0020, Train L1 Norm: 0.1359, Test L1 Norm: 0.0689, Train Linf Norm: 3.0381, Test Linf Norm: 0.9364\n",
            "Epoch 10: Train Loss: 0.0040, Test Loss: 0.0009, Train L1 Norm: 0.1002, Test L1 Norm: 0.1909, Train Linf Norm: 2.0491, Test Linf Norm: 4.1301\n",
            "Epoch 11: Train Loss: 0.0074, Test Loss: 0.0017, Train L1 Norm: 0.1168, Test L1 Norm: 0.0997, Train Linf Norm: 2.5379, Test Linf Norm: 2.2403\n",
            "Epoch 12: Train Loss: 0.0054, Test Loss: 0.0007, Train L1 Norm: 0.1309, Test L1 Norm: 0.0659, Train Linf Norm: 2.9168, Test Linf Norm: 1.1238\n",
            "Epoch 13: Train Loss: 0.0040, Test Loss: 0.0006, Train L1 Norm: 0.0741, Test L1 Norm: 0.0447, Train Linf Norm: 1.3099, Test Linf Norm: 0.7728\n",
            "Epoch 14: Train Loss: 0.0032, Test Loss: 0.0062, Train L1 Norm: 0.1370, Test L1 Norm: 0.1675, Train Linf Norm: 3.4270, Test Linf Norm: 3.2492\n",
            "Epoch 15: Train Loss: 0.0042, Test Loss: 0.0015, Train L1 Norm: 0.0928, Test L1 Norm: 0.0442, Train Linf Norm: 1.9314, Test Linf Norm: 0.7393\n",
            "Epoch 16: Train Loss: 0.0041, Test Loss: 0.0032, Train L1 Norm: 0.0937, Test L1 Norm: 0.1637, Train Linf Norm: 1.9138, Test Linf Norm: 2.7998\n",
            "Epoch 17: Train Loss: 0.0033, Test Loss: 0.0010, Train L1 Norm: 0.0841, Test L1 Norm: 0.0712, Train Linf Norm: 1.5348, Test Linf Norm: 1.2355\n",
            "Epoch 18: Train Loss: 0.0032, Test Loss: 0.0002, Train L1 Norm: 0.0785, Test L1 Norm: 0.0950, Train Linf Norm: 1.4962, Test Linf Norm: 2.1397\n",
            "Epoch 19: Train Loss: 0.0039, Test Loss: 0.0020, Train L1 Norm: 0.1519, Test L1 Norm: 0.0477, Train Linf Norm: 3.8374, Test Linf Norm: 0.7933\n",
            "Epoch 20: Train Loss: 0.0046, Test Loss: 0.0002, Train L1 Norm: 0.0690, Test L1 Norm: 0.0265, Train Linf Norm: 1.2334, Test Linf Norm: 0.4530\n",
            "Epoch 21: Train Loss: 0.0056, Test Loss: 0.0003, Train L1 Norm: 0.0758, Test L1 Norm: 0.0429, Train Linf Norm: 1.3710, Test Linf Norm: 0.6802\n",
            "Epoch 22: Train Loss: 0.0017, Test Loss: 0.0007, Train L1 Norm: 0.0859, Test L1 Norm: 0.0386, Train Linf Norm: 1.9125, Test Linf Norm: 0.6002\n",
            "Epoch 23: Train Loss: 0.0028, Test Loss: 0.0100, Train L1 Norm: 0.1226, Test L1 Norm: 0.0651, Train Linf Norm: 2.9540, Test Linf Norm: 0.8680\n",
            "Epoch 24: Train Loss: 0.0035, Test Loss: 0.0005, Train L1 Norm: 0.0941, Test L1 Norm: 0.0311, Train Linf Norm: 2.0252, Test Linf Norm: 0.4625\n",
            "Epoch 25: Train Loss: 0.0042, Test Loss: 0.0537, Train L1 Norm: 0.0738, Test L1 Norm: 0.2696, Train Linf Norm: 1.3790, Test Linf Norm: 4.6989\n",
            "Epoch 26: Train Loss: 0.0024, Test Loss: 0.0008, Train L1 Norm: 0.0871, Test L1 Norm: 0.0790, Train Linf Norm: 1.9165, Test Linf Norm: 1.7639\n",
            "Epoch 27: Train Loss: 0.0006, Test Loss: 0.0002, Train L1 Norm: 0.0970, Test L1 Norm: 0.0490, Train Linf Norm: 2.6504, Test Linf Norm: 1.0081\n",
            "Epoch 28: Train Loss: 0.0007, Test Loss: 0.0013, Train L1 Norm: 0.0724, Test L1 Norm: 0.0368, Train Linf Norm: 1.8264, Test Linf Norm: 0.4930\n",
            "Epoch 29: Train Loss: 0.0008, Test Loss: 0.0002, Train L1 Norm: 0.0691, Test L1 Norm: 0.0263, Train Linf Norm: 1.6559, Test Linf Norm: 0.4602\n",
            "Epoch 30: Train Loss: 0.0010, Test Loss: 0.0001, Train L1 Norm: 0.0587, Test L1 Norm: 0.0266, Train Linf Norm: 1.3299, Test Linf Norm: 0.5071\n",
            "Epoch 31: Train Loss: 0.0006, Test Loss: 0.0022, Train L1 Norm: 0.0628, Test L1 Norm: 0.2182, Train Linf Norm: 1.5460, Test Linf Norm: 4.7418\n",
            "Epoch 32: Train Loss: 0.0008, Test Loss: 0.0007, Train L1 Norm: 0.0577, Test L1 Norm: 0.0467, Train Linf Norm: 1.2972, Test Linf Norm: 0.6766\n",
            "Epoch 33: Train Loss: 0.0006, Test Loss: 0.0002, Train L1 Norm: 0.0572, Test L1 Norm: 0.0495, Train Linf Norm: 1.3509, Test Linf Norm: 1.1203\n",
            "Epoch 34: Train Loss: 0.0008, Test Loss: 0.0001, Train L1 Norm: 0.0590, Test L1 Norm: 0.0615, Train Linf Norm: 1.4329, Test Linf Norm: 1.5026\n",
            "Epoch 35: Train Loss: 0.0009, Test Loss: 0.0002, Train L1 Norm: 0.0554, Test L1 Norm: 0.0325, Train Linf Norm: 1.3157, Test Linf Norm: 0.5563\n",
            "Epoch 36: Train Loss: 0.0007, Test Loss: 0.0002, Train L1 Norm: 0.0472, Test L1 Norm: 0.0523, Train Linf Norm: 1.0159, Test Linf Norm: 1.2239\n",
            "Epoch 37: Train Loss: 0.0007, Test Loss: 0.0002, Train L1 Norm: 0.0539, Test L1 Norm: 0.0280, Train Linf Norm: 1.1970, Test Linf Norm: 0.4633\n",
            "Epoch 38: Train Loss: 0.0006, Test Loss: 0.0003, Train L1 Norm: 0.0675, Test L1 Norm: 0.1513, Train Linf Norm: 1.6928, Test Linf Norm: 3.7141\n",
            "Epoch 39: Train Loss: 0.0007, Test Loss: 0.0001, Train L1 Norm: 0.0653, Test L1 Norm: 0.0821, Train Linf Norm: 1.5446, Test Linf Norm: 1.9540\n",
            "Epoch 40: Train Loss: 0.0009, Test Loss: 0.0003, Train L1 Norm: 0.0568, Test L1 Norm: 0.0388, Train Linf Norm: 1.3339, Test Linf Norm: 0.6054\n",
            "Epoch 41: Train Loss: 0.0001, Test Loss: 0.0003, Train L1 Norm: 0.0415, Test L1 Norm: 0.0368, Train Linf Norm: 1.0877, Test Linf Norm: 0.5724\n",
            "Epoch 42: Train Loss: 0.0002, Test Loss: 0.0008, Train L1 Norm: 0.0477, Test L1 Norm: 0.0214, Train Linf Norm: 1.2501, Test Linf Norm: 0.3242\n",
            "Epoch 43: Train Loss: 0.0003, Test Loss: 0.0001, Train L1 Norm: 0.0536, Test L1 Norm: 0.0225, Train Linf Norm: 1.4112, Test Linf Norm: 0.3984\n",
            "Epoch 44: Train Loss: 0.0002, Test Loss: 0.0000, Train L1 Norm: 0.0430, Test L1 Norm: 0.0160, Train Linf Norm: 1.1013, Test Linf Norm: 0.3150\n",
            "Epoch 45: Train Loss: 0.0002, Test Loss: 0.0007, Train L1 Norm: 0.0443, Test L1 Norm: 0.0311, Train Linf Norm: 1.1565, Test Linf Norm: 0.4393\n",
            "Epoch 46: Train Loss: 0.0002, Test Loss: 0.0001, Train L1 Norm: 0.0451, Test L1 Norm: 0.0242, Train Linf Norm: 1.1507, Test Linf Norm: 0.4831\n",
            "Epoch 47: Train Loss: 0.0002, Test Loss: 0.0000, Train L1 Norm: 0.0440, Test L1 Norm: 0.0215, Train Linf Norm: 1.1533, Test Linf Norm: 0.4858\n",
            "Epoch 48: Train Loss: 0.0002, Test Loss: 0.0005, Train L1 Norm: 0.0376, Test L1 Norm: 0.0445, Train Linf Norm: 0.9514, Test Linf Norm: 0.5786\n",
            "Epoch 49: Train Loss: 0.0002, Test Loss: 0.0000, Train L1 Norm: 0.0350, Test L1 Norm: 0.0291, Train Linf Norm: 0.8617, Test Linf Norm: 0.7133\n",
            "Epoch 50: Train Loss: 0.0002, Test Loss: 0.0001, Train L1 Norm: 0.0363, Test L1 Norm: 0.0203, Train Linf Norm: 0.8901, Test Linf Norm: 0.3365\n",
            "Epoch 51: Train Loss: 0.0002, Test Loss: 0.0002, Train L1 Norm: 0.0359, Test L1 Norm: 0.0858, Train Linf Norm: 0.8534, Test Linf Norm: 1.9629\n",
            "Epoch 52: Train Loss: 0.0002, Test Loss: 0.0001, Train L1 Norm: 0.0360, Test L1 Norm: 0.0704, Train Linf Norm: 0.8856, Test Linf Norm: 1.6839\n",
            "Epoch 53: Train Loss: 0.0002, Test Loss: 0.0000, Train L1 Norm: 0.0438, Test L1 Norm: 0.0182, Train Linf Norm: 1.1307, Test Linf Norm: 0.3388\n",
            "Epoch 54: Train Loss: 0.0002, Test Loss: 0.0000, Train L1 Norm: 0.0405, Test L1 Norm: 0.0175, Train Linf Norm: 1.0001, Test Linf Norm: 0.3931\n",
            "Epoch 55: Train Loss: 0.0002, Test Loss: 0.0024, Train L1 Norm: 0.0379, Test L1 Norm: 0.0555, Train Linf Norm: 0.9554, Test Linf Norm: 0.6474\n",
            "Epoch 56: Train Loss: 0.0000, Test Loss: 0.0000, Train L1 Norm: 0.0373, Test L1 Norm: 0.0248, Train Linf Norm: 1.0503, Test Linf Norm: 0.6363\n",
            "Epoch 57: Train Loss: 0.0001, Test Loss: 0.0001, Train L1 Norm: 0.0313, Test L1 Norm: 0.0184, Train Linf Norm: 0.8349, Test Linf Norm: 0.3850\n",
            "Epoch 58: Train Loss: 0.0001, Test Loss: 0.0001, Train L1 Norm: 0.0268, Test L1 Norm: 0.0130, Train Linf Norm: 0.6929, Test Linf Norm: 0.2476\n",
            "Epoch 59: Train Loss: 0.0001, Test Loss: 0.0001, Train L1 Norm: 0.0341, Test L1 Norm: 0.0288, Train Linf Norm: 0.9229, Test Linf Norm: 0.7127\n",
            "Epoch 60: Train Loss: 0.0000, Test Loss: 0.0000, Train L1 Norm: 0.0293, Test L1 Norm: 0.0285, Train Linf Norm: 0.7817, Test Linf Norm: 0.6956\n",
            "Epoch 61: Train Loss: 0.0001, Test Loss: 0.0000, Train L1 Norm: 0.0393, Test L1 Norm: 0.0360, Train Linf Norm: 1.1064, Test Linf Norm: 0.9182\n",
            "Epoch 62: Train Loss: 0.0001, Test Loss: 0.0000, Train L1 Norm: 0.0321, Test L1 Norm: 0.0435, Train Linf Norm: 0.8618, Test Linf Norm: 1.1451\n",
            "Epoch 63: Train Loss: 0.0000, Test Loss: 0.0000, Train L1 Norm: 0.0330, Test L1 Norm: 0.0153, Train Linf Norm: 0.9039, Test Linf Norm: 0.3594\n",
            "Epoch 64: Train Loss: 0.0001, Test Loss: 0.0001, Train L1 Norm: 0.0425, Test L1 Norm: 0.0288, Train Linf Norm: 1.2054, Test Linf Norm: 0.6870\n",
            "Epoch 65: Train Loss: 0.0001, Test Loss: 0.0002, Train L1 Norm: 0.0282, Test L1 Norm: 0.0529, Train Linf Norm: 0.7468, Test Linf Norm: 1.2633\n",
            "Epoch 66: Train Loss: 0.0001, Test Loss: 0.0000, Train L1 Norm: 0.0239, Test L1 Norm: 0.0178, Train Linf Norm: 0.6164, Test Linf Norm: 0.4167\n",
            "Epoch 67: Train Loss: 0.0000, Test Loss: 0.0001, Train L1 Norm: 0.0264, Test L1 Norm: 0.0351, Train Linf Norm: 0.6923, Test Linf Norm: 0.8994\n",
            "Epoch 68: Train Loss: 0.0001, Test Loss: 0.0000, Train L1 Norm: 0.0209, Test L1 Norm: 0.0198, Train Linf Norm: 0.5213, Test Linf Norm: 0.4691\n",
            "Epoch 69: Train Loss: 0.0000, Test Loss: 0.0000, Train L1 Norm: 0.0294, Test L1 Norm: 0.0226, Train Linf Norm: 0.8325, Test Linf Norm: 0.5888\n",
            "Epoch 70: Train Loss: 0.0000, Test Loss: 0.0000, Train L1 Norm: 0.0280, Test L1 Norm: 0.0191, Train Linf Norm: 0.7901, Test Linf Norm: 0.4806\n",
            "Epoch 71: Train Loss: 0.0000, Test Loss: 0.0000, Train L1 Norm: 0.0216, Test L1 Norm: 0.0213, Train Linf Norm: 0.5828, Test Linf Norm: 0.5569\n",
            "Epoch 72: Train Loss: 0.0000, Test Loss: 0.0000, Train L1 Norm: 0.0217, Test L1 Norm: 0.0127, Train Linf Norm: 0.5890, Test Linf Norm: 0.2855\n",
            "Epoch 73: Train Loss: 0.0000, Test Loss: 0.0000, Train L1 Norm: 0.0231, Test L1 Norm: 0.0206, Train Linf Norm: 0.6385, Test Linf Norm: 0.5118\n",
            "Epoch 74: Train Loss: 0.0000, Test Loss: 0.0000, Train L1 Norm: 0.0207, Test L1 Norm: 0.0142, Train Linf Norm: 0.5585, Test Linf Norm: 0.3559\n",
            "Epoch 75: Train Loss: 0.0000, Test Loss: 0.0000, Train L1 Norm: 0.0261, Test L1 Norm: 0.0089, Train Linf Norm: 0.7360, Test Linf Norm: 0.1873\n",
            "Epoch 76: Train Loss: 0.0000, Test Loss: 0.0000, Train L1 Norm: 0.0219, Test L1 Norm: 0.0113, Train Linf Norm: 0.5984, Test Linf Norm: 0.2461\n",
            "Epoch 77: Train Loss: 0.0000, Test Loss: 0.0000, Train L1 Norm: 0.0237, Test L1 Norm: 0.0130, Train Linf Norm: 0.6577, Test Linf Norm: 0.2808\n",
            "Epoch 78: Train Loss: 0.0000, Test Loss: 0.0000, Train L1 Norm: 0.0162, Test L1 Norm: 0.0144, Train Linf Norm: 0.4433, Test Linf Norm: 0.3637\n",
            "Epoch 79: Train Loss: 0.0000, Test Loss: 0.0000, Train L1 Norm: 0.0191, Test L1 Norm: 0.0159, Train Linf Norm: 0.5324, Test Linf Norm: 0.4122\n",
            "Epoch 80: Train Loss: 0.0000, Test Loss: 0.0000, Train L1 Norm: 0.0175, Test L1 Norm: 0.0174, Train Linf Norm: 0.4855, Test Linf Norm: 0.4544\n",
            "Epoch 81: Train Loss: 0.0000, Test Loss: 0.0000, Train L1 Norm: 0.0218, Test L1 Norm: 0.0159, Train Linf Norm: 0.6203, Test Linf Norm: 0.4098\n",
            "Epoch 82: Train Loss: 0.0000, Test Loss: 0.0000, Train L1 Norm: 0.0213, Test L1 Norm: 0.0221, Train Linf Norm: 0.6043, Test Linf Norm: 0.5806\n",
            "Epoch 83: Train Loss: 0.0000, Test Loss: 0.0000, Train L1 Norm: 0.0213, Test L1 Norm: 0.0244, Train Linf Norm: 0.5994, Test Linf Norm: 0.6376\n",
            "Epoch 84: Train Loss: 0.0000, Test Loss: 0.0000, Train L1 Norm: 0.0202, Test L1 Norm: 0.0116, Train Linf Norm: 0.5711, Test Linf Norm: 0.2779\n",
            "Epoch 85: Train Loss: 0.0000, Test Loss: 0.0000, Train L1 Norm: 0.0203, Test L1 Norm: 0.0142, Train Linf Norm: 0.5693, Test Linf Norm: 0.3454\n",
            "Epoch 86: Train Loss: 0.0000, Test Loss: 0.0000, Train L1 Norm: 0.0183, Test L1 Norm: 0.0116, Train Linf Norm: 0.5060, Test Linf Norm: 0.2823\n",
            "Epoch 87: Train Loss: 0.0000, Test Loss: 0.0000, Train L1 Norm: 0.0209, Test L1 Norm: 0.0099, Train Linf Norm: 0.5942, Test Linf Norm: 0.2334\n",
            "Epoch 88: Train Loss: 0.0000, Test Loss: 0.0000, Train L1 Norm: 0.0180, Test L1 Norm: 0.0097, Train Linf Norm: 0.5021, Test Linf Norm: 0.1972\n",
            "Epoch 89: Train Loss: 0.0000, Test Loss: 0.0000, Train L1 Norm: 0.0201, Test L1 Norm: 0.0137, Train Linf Norm: 0.5694, Test Linf Norm: 0.3459\n",
            "Epoch 90: Train Loss: 0.0000, Test Loss: 0.0000, Train L1 Norm: 0.0180, Test L1 Norm: 0.0147, Train Linf Norm: 0.5135, Test Linf Norm: 0.3856\n",
            "Epoch 91: Train Loss: 0.0000, Test Loss: 0.0000, Train L1 Norm: 0.0178, Test L1 Norm: 0.0099, Train Linf Norm: 0.5061, Test Linf Norm: 0.2416\n",
            "Epoch 92: Train Loss: 0.0000, Test Loss: 0.0000, Train L1 Norm: 0.0168, Test L1 Norm: 0.0109, Train Linf Norm: 0.4736, Test Linf Norm: 0.2603\n",
            "Epoch 93: Train Loss: 0.0000, Test Loss: 0.0000, Train L1 Norm: 0.0185, Test L1 Norm: 0.0129, Train Linf Norm: 0.5269, Test Linf Norm: 0.3325\n",
            "Epoch 94: Train Loss: 0.0000, Test Loss: 0.0000, Train L1 Norm: 0.0150, Test L1 Norm: 0.0108, Train Linf Norm: 0.4142, Test Linf Norm: 0.2680\n",
            "Epoch 95: Train Loss: 0.0000, Test Loss: 0.0000, Train L1 Norm: 0.0189, Test L1 Norm: 0.0134, Train Linf Norm: 0.5440, Test Linf Norm: 0.3361\n",
            "Epoch 96: Train Loss: 0.0000, Test Loss: 0.0000, Train L1 Norm: 0.0175, Test L1 Norm: 0.0130, Train Linf Norm: 0.4965, Test Linf Norm: 0.3361\n",
            "Epoch 97: Train Loss: 0.0000, Test Loss: 0.0000, Train L1 Norm: 0.0180, Test L1 Norm: 0.0112, Train Linf Norm: 0.5153, Test Linf Norm: 0.2839\n",
            "Epoch 98: Train Loss: 0.0000, Test Loss: 0.0000, Train L1 Norm: 0.0162, Test L1 Norm: 0.0153, Train Linf Norm: 0.4581, Test Linf Norm: 0.3963\n",
            "Epoch 99: Train Loss: 0.0000, Test Loss: 0.0000, Train L1 Norm: 0.0175, Test L1 Norm: 0.0135, Train Linf Norm: 0.4993, Test Linf Norm: 0.3510\n",
            "Epoch 100: Train Loss: 0.0000, Test Loss: 0.0000, Train L1 Norm: 0.0179, Test L1 Norm: 0.0135, Train Linf Norm: 0.5107, Test Linf Norm: 0.3518\n",
            "Epoch 101: Train Loss: 0.0000, Test Loss: 0.0000, Train L1 Norm: 0.0182, Test L1 Norm: 0.0155, Train Linf Norm: 0.5218, Test Linf Norm: 0.4074\n",
            "Epoch 102: Train Loss: 0.0000, Test Loss: 0.0000, Train L1 Norm: 0.0174, Test L1 Norm: 0.0132, Train Linf Norm: 0.5012, Test Linf Norm: 0.3398\n",
            "Epoch 103: Train Loss: 0.0000, Test Loss: 0.0000, Train L1 Norm: 0.0148, Test L1 Norm: 0.0191, Train Linf Norm: 0.4187, Test Linf Norm: 0.5020\n",
            "Epoch 104: Train Loss: 0.0000, Test Loss: 0.0000, Train L1 Norm: 0.0153, Test L1 Norm: 0.0171, Train Linf Norm: 0.4342, Test Linf Norm: 0.4422\n",
            "Epoch 105: Train Loss: 0.0000, Test Loss: 0.0000, Train L1 Norm: 0.0164, Test L1 Norm: 0.0112, Train Linf Norm: 0.4705, Test Linf Norm: 0.2850\n",
            "Epoch 106: Train Loss: 0.0000, Test Loss: 0.0000, Train L1 Norm: 0.0156, Test L1 Norm: 0.0129, Train Linf Norm: 0.4445, Test Linf Norm: 0.3365\n",
            "Epoch 107: Train Loss: 0.0000, Test Loss: 0.0000, Train L1 Norm: 0.0159, Test L1 Norm: 0.0166, Train Linf Norm: 0.4549, Test Linf Norm: 0.4442\n",
            "Epoch 108: Train Loss: 0.0000, Test Loss: 0.0000, Train L1 Norm: 0.0144, Test L1 Norm: 0.0102, Train Linf Norm: 0.4069, Test Linf Norm: 0.2564\n",
            "Epoch 109: Train Loss: 0.0000, Test Loss: 0.0000, Train L1 Norm: 0.0148, Test L1 Norm: 0.0135, Train Linf Norm: 0.4203, Test Linf Norm: 0.3549\n",
            "Epoch 110: Train Loss: 0.0000, Test Loss: 0.0000, Train L1 Norm: 0.0169, Test L1 Norm: 0.0113, Train Linf Norm: 0.4851, Test Linf Norm: 0.2908\n",
            "Epoch 111: Train Loss: 0.0000, Test Loss: 0.0000, Train L1 Norm: 0.0157, Test L1 Norm: 0.0139, Train Linf Norm: 0.4488, Test Linf Norm: 0.3650\n",
            "Epoch 112: Train Loss: 0.0000, Test Loss: 0.0000, Train L1 Norm: 0.0157, Test L1 Norm: 0.0127, Train Linf Norm: 0.4499, Test Linf Norm: 0.3295\n",
            "Epoch 113: Train Loss: 0.0000, Test Loss: 0.0000, Train L1 Norm: 0.0152, Test L1 Norm: 0.0131, Train Linf Norm: 0.4365, Test Linf Norm: 0.3400\n",
            "Epoch 114: Train Loss: 0.0000, Test Loss: 0.0000, Train L1 Norm: 0.0151, Test L1 Norm: 0.0091, Train Linf Norm: 0.4326, Test Linf Norm: 0.2227\n",
            "Epoch 115: Train Loss: 0.0000, Test Loss: 0.0000, Train L1 Norm: 0.0152, Test L1 Norm: 0.0110, Train Linf Norm: 0.4349, Test Linf Norm: 0.2842\n",
            "Epoch 116: Train Loss: 0.0000, Test Loss: 0.0000, Train L1 Norm: 0.0156, Test L1 Norm: 0.0119, Train Linf Norm: 0.4472, Test Linf Norm: 0.3110\n",
            "Epoch 117: Train Loss: 0.0000, Test Loss: 0.0000, Train L1 Norm: 0.0151, Test L1 Norm: 0.0124, Train Linf Norm: 0.4289, Test Linf Norm: 0.3237\n",
            "Epoch 118: Train Loss: 0.0000, Test Loss: 0.0000, Train L1 Norm: 0.0161, Test L1 Norm: 0.0137, Train Linf Norm: 0.4615, Test Linf Norm: 0.3618\n",
            "Epoch 119: Train Loss: 0.0000, Test Loss: 0.0000, Train L1 Norm: 0.0144, Test L1 Norm: 0.0103, Train Linf Norm: 0.4097, Test Linf Norm: 0.2623\n",
            "Epoch 120: Train Loss: 0.0000, Test Loss: 0.0000, Train L1 Norm: 0.0152, Test L1 Norm: 0.0156, Train Linf Norm: 0.4306, Test Linf Norm: 0.4157\n",
            "Epoch 121: Train Loss: 0.0000, Test Loss: 0.0000, Train L1 Norm: 0.0144, Test L1 Norm: 0.0123, Train Linf Norm: 0.4097, Test Linf Norm: 0.3210\n",
            "Epoch 122: Train Loss: 0.0000, Test Loss: 0.0000, Train L1 Norm: 0.0154, Test L1 Norm: 0.0133, Train Linf Norm: 0.4444, Test Linf Norm: 0.3495\n",
            "Epoch 123: Train Loss: 0.0000, Test Loss: 0.0000, Train L1 Norm: 0.0140, Test L1 Norm: 0.0114, Train Linf Norm: 0.3986, Test Linf Norm: 0.2953\n",
            "Epoch 124: Train Loss: 0.0000, Test Loss: 0.0000, Train L1 Norm: 0.0145, Test L1 Norm: 0.0098, Train Linf Norm: 0.4164, Test Linf Norm: 0.2460\n",
            "Epoch 125: Train Loss: 0.0000, Test Loss: 0.0000, Train L1 Norm: 0.0150, Test L1 Norm: 0.0130, Train Linf Norm: 0.4287, Test Linf Norm: 0.3442\n",
            "Epoch 126: Train Loss: 0.0000, Test Loss: 0.0000, Train L1 Norm: 0.0150, Test L1 Norm: 0.0114, Train Linf Norm: 0.4313, Test Linf Norm: 0.2953\n",
            "Epoch 127: Train Loss: 0.0000, Test Loss: 0.0000, Train L1 Norm: 0.0155, Test L1 Norm: 0.0101, Train Linf Norm: 0.4468, Test Linf Norm: 0.2584\n",
            "Epoch 128: Train Loss: 0.0000, Test Loss: 0.0000, Train L1 Norm: 0.0140, Test L1 Norm: 0.0102, Train Linf Norm: 0.3948, Test Linf Norm: 0.2585\n",
            "Epoch 129: Train Loss: 0.0000, Test Loss: 0.0000, Train L1 Norm: 0.0151, Test L1 Norm: 0.0108, Train Linf Norm: 0.4313, Test Linf Norm: 0.2802\n",
            "Epoch 130: Train Loss: 0.0000, Test Loss: 0.0000, Train L1 Norm: 0.0152, Test L1 Norm: 0.0113, Train Linf Norm: 0.4386, Test Linf Norm: 0.2922\n",
            "Epoch 131: Train Loss: 0.0000, Test Loss: 0.0000, Train L1 Norm: 0.0144, Test L1 Norm: 0.0124, Train Linf Norm: 0.4120, Test Linf Norm: 0.3270\n",
            "Epoch 132: Train Loss: 0.0000, Test Loss: 0.0000, Train L1 Norm: 0.0152, Test L1 Norm: 0.0125, Train Linf Norm: 0.4373, Test Linf Norm: 0.3285\n",
            "Epoch 133: Train Loss: 0.0000, Test Loss: 0.0000, Train L1 Norm: 0.0147, Test L1 Norm: 0.0104, Train Linf Norm: 0.4203, Test Linf Norm: 0.2681\n",
            "Epoch 134: Train Loss: 0.0000, Test Loss: 0.0000, Train L1 Norm: 0.0147, Test L1 Norm: 0.0117, Train Linf Norm: 0.4158, Test Linf Norm: 0.3043\n",
            "Epoch 135: Train Loss: 0.0000, Test Loss: 0.0000, Train L1 Norm: 0.0148, Test L1 Norm: 0.0112, Train Linf Norm: 0.4223, Test Linf Norm: 0.2914\n",
            "Epoch 136: Train Loss: 0.0000, Test Loss: 0.0000, Train L1 Norm: 0.0144, Test L1 Norm: 0.0109, Train Linf Norm: 0.4149, Test Linf Norm: 0.2837\n",
            "Epoch 137: Train Loss: 0.0000, Test Loss: 0.0000, Train L1 Norm: 0.0145, Test L1 Norm: 0.0101, Train Linf Norm: 0.4140, Test Linf Norm: 0.2570\n",
            "Epoch 138: Train Loss: 0.0000, Test Loss: 0.0000, Train L1 Norm: 0.0146, Test L1 Norm: 0.0101, Train Linf Norm: 0.4151, Test Linf Norm: 0.2554\n",
            "Epoch 139: Train Loss: 0.0000, Test Loss: 0.0000, Train L1 Norm: 0.0150, Test L1 Norm: 0.0108, Train Linf Norm: 0.4303, Test Linf Norm: 0.2782\n",
            "Epoch 140: Train Loss: 0.0000, Test Loss: 0.0000, Train L1 Norm: 0.0144, Test L1 Norm: 0.0108, Train Linf Norm: 0.4094, Test Linf Norm: 0.2792\n",
            "Epoch 141: Train Loss: 0.0000, Test Loss: 0.0000, Train L1 Norm: 0.0143, Test L1 Norm: 0.0114, Train Linf Norm: 0.4077, Test Linf Norm: 0.2978\n",
            "Epoch 142: Train Loss: 0.0000, Test Loss: 0.0000, Train L1 Norm: 0.0147, Test L1 Norm: 0.0112, Train Linf Norm: 0.4209, Test Linf Norm: 0.2905\n",
            "Epoch 143: Train Loss: 0.0000, Test Loss: 0.0000, Train L1 Norm: 0.0147, Test L1 Norm: 0.0109, Train Linf Norm: 0.4219, Test Linf Norm: 0.2832\n",
            "Epoch 144: Train Loss: 0.0000, Test Loss: 0.0000, Train L1 Norm: 0.0143, Test L1 Norm: 0.0112, Train Linf Norm: 0.4096, Test Linf Norm: 0.2912\n",
            "Epoch 145: Train Loss: 0.0000, Test Loss: 0.0000, Train L1 Norm: 0.0149, Test L1 Norm: 0.0109, Train Linf Norm: 0.4298, Test Linf Norm: 0.2826\n",
            "Epoch 146: Train Loss: 0.0000, Test Loss: 0.0000, Train L1 Norm: 0.0145, Test L1 Norm: 0.0107, Train Linf Norm: 0.4164, Test Linf Norm: 0.2768\n",
            "Epoch 147: Train Loss: 0.0000, Test Loss: 0.0000, Train L1 Norm: 0.0143, Test L1 Norm: 0.0109, Train Linf Norm: 0.4115, Test Linf Norm: 0.2828\n",
            "Epoch 148: Train Loss: 0.0000, Test Loss: 0.0000, Train L1 Norm: 0.0146, Test L1 Norm: 0.0112, Train Linf Norm: 0.4160, Test Linf Norm: 0.2909\n",
            "Epoch 149: Train Loss: 0.0000, Test Loss: 0.0000, Train L1 Norm: 0.0145, Test L1 Norm: 0.0106, Train Linf Norm: 0.4165, Test Linf Norm: 0.2748\n",
            "Epoch 150: Train Loss: 0.0000, Test Loss: 0.0000, Train L1 Norm: 0.0149, Test L1 Norm: 0.0119, Train Linf Norm: 0.4295, Test Linf Norm: 0.3120\n",
            "Epoch 151: Train Loss: 0.0000, Test Loss: 0.0000, Train L1 Norm: 0.0145, Test L1 Norm: 0.0101, Train Linf Norm: 0.4150, Test Linf Norm: 0.2571\n",
            "Epoch 152: Train Loss: 0.0000, Test Loss: 0.0000, Train L1 Norm: 0.0147, Test L1 Norm: 0.0101, Train Linf Norm: 0.4235, Test Linf Norm: 0.2563\n",
            "Epoch 153: Train Loss: 0.0000, Test Loss: 0.0000, Train L1 Norm: 0.0141, Test L1 Norm: 0.0110, Train Linf Norm: 0.4036, Test Linf Norm: 0.2841\n",
            "Epoch 154: Train Loss: 0.0000, Test Loss: 0.0000, Train L1 Norm: 0.0146, Test L1 Norm: 0.0104, Train Linf Norm: 0.4177, Test Linf Norm: 0.2678\n",
            "Epoch 155: Train Loss: 0.0000, Test Loss: 0.0000, Train L1 Norm: 0.0150, Test L1 Norm: 0.0117, Train Linf Norm: 0.4336, Test Linf Norm: 0.3057\n",
            "Epoch 156: Train Loss: 0.0000, Test Loss: 0.0000, Train L1 Norm: 0.0145, Test L1 Norm: 0.0107, Train Linf Norm: 0.4171, Test Linf Norm: 0.2758\n",
            "Epoch 157: Train Loss: 0.0000, Test Loss: 0.0000, Train L1 Norm: 0.0145, Test L1 Norm: 0.0113, Train Linf Norm: 0.4174, Test Linf Norm: 0.2935\n",
            "Epoch 158: Train Loss: 0.0000, Test Loss: 0.0000, Train L1 Norm: 0.0149, Test L1 Norm: 0.0110, Train Linf Norm: 0.4263, Test Linf Norm: 0.2862\n",
            "Epoch 159: Train Loss: 0.0000, Test Loss: 0.0000, Train L1 Norm: 0.0142, Test L1 Norm: 0.0117, Train Linf Norm: 0.4035, Test Linf Norm: 0.3051\n",
            "Epoch 160: Train Loss: 0.0000, Test Loss: 0.0000, Train L1 Norm: 0.0146, Test L1 Norm: 0.0113, Train Linf Norm: 0.4236, Test Linf Norm: 0.2937\n",
            "Epoch 161: Train Loss: 0.0000, Test Loss: 0.0000, Train L1 Norm: 0.0143, Test L1 Norm: 0.0116, Train Linf Norm: 0.4102, Test Linf Norm: 0.3031\n",
            "Epoch 162: Train Loss: 0.0000, Test Loss: 0.0000, Train L1 Norm: 0.0143, Test L1 Norm: 0.0107, Train Linf Norm: 0.4094, Test Linf Norm: 0.2777\n",
            "Epoch 163: Train Loss: 0.0000, Test Loss: 0.0000, Train L1 Norm: 0.0142, Test L1 Norm: 0.0116, Train Linf Norm: 0.4053, Test Linf Norm: 0.3025\n",
            "Epoch 164: Train Loss: 0.0000, Test Loss: 0.0000, Train L1 Norm: 0.0147, Test L1 Norm: 0.0107, Train Linf Norm: 0.4224, Test Linf Norm: 0.2763\n",
            "Epoch 165: Train Loss: 0.0000, Test Loss: 0.0000, Train L1 Norm: 0.0144, Test L1 Norm: 0.0116, Train Linf Norm: 0.4151, Test Linf Norm: 0.3031\n",
            "Epoch 166: Train Loss: 0.0000, Test Loss: 0.0000, Train L1 Norm: 0.0145, Test L1 Norm: 0.0117, Train Linf Norm: 0.4126, Test Linf Norm: 0.3055\n",
            "Epoch 167: Train Loss: 0.0000, Test Loss: 0.0000, Train L1 Norm: 0.0144, Test L1 Norm: 0.0107, Train Linf Norm: 0.4164, Test Linf Norm: 0.2780\n",
            "Epoch 168: Train Loss: 0.0000, Test Loss: 0.0000, Train L1 Norm: 0.0144, Test L1 Norm: 0.0113, Train Linf Norm: 0.4155, Test Linf Norm: 0.2940\n",
            "Epoch 169: Train Loss: 0.0000, Test Loss: 0.0000, Train L1 Norm: 0.0145, Test L1 Norm: 0.0110, Train Linf Norm: 0.4161, Test Linf Norm: 0.2867\n",
            "Epoch 170: Train Loss: 0.0000, Test Loss: 0.0000, Train L1 Norm: 0.0147, Test L1 Norm: 0.0110, Train Linf Norm: 0.4192, Test Linf Norm: 0.2851\n",
            "Epoch 171: Train Loss: 0.0000, Test Loss: 0.0000, Train L1 Norm: 0.0144, Test L1 Norm: 0.0110, Train Linf Norm: 0.4147, Test Linf Norm: 0.2863\n",
            "Epoch 172: Train Loss: 0.0000, Test Loss: 0.0000, Train L1 Norm: 0.0145, Test L1 Norm: 0.0108, Train Linf Norm: 0.4157, Test Linf Norm: 0.2806\n",
            "Epoch 173: Train Loss: 0.0000, Test Loss: 0.0000, Train L1 Norm: 0.0143, Test L1 Norm: 0.0108, Train Linf Norm: 0.4120, Test Linf Norm: 0.2800\n",
            "Epoch 174: Train Loss: 0.0000, Test Loss: 0.0000, Train L1 Norm: 0.0147, Test L1 Norm: 0.0108, Train Linf Norm: 0.4246, Test Linf Norm: 0.2807\n",
            "Epoch 175: Train Loss: 0.0000, Test Loss: 0.0000, Train L1 Norm: 0.0142, Test L1 Norm: 0.0111, Train Linf Norm: 0.4063, Test Linf Norm: 0.2896\n",
            "Epoch 176: Train Loss: 0.0000, Test Loss: 0.0000, Train L1 Norm: 0.0146, Test L1 Norm: 0.0107, Train Linf Norm: 0.4194, Test Linf Norm: 0.2778\n",
            "Epoch 177: Train Loss: 0.0000, Test Loss: 0.0000, Train L1 Norm: 0.0144, Test L1 Norm: 0.0104, Train Linf Norm: 0.4090, Test Linf Norm: 0.2689\n",
            "Epoch 178: Train Loss: 0.0000, Test Loss: 0.0000, Train L1 Norm: 0.0142, Test L1 Norm: 0.0105, Train Linf Norm: 0.4075, Test Linf Norm: 0.2696\n",
            "Epoch 179: Train Loss: 0.0000, Test Loss: 0.0000, Train L1 Norm: 0.0145, Test L1 Norm: 0.0115, Train Linf Norm: 0.4140, Test Linf Norm: 0.2994\n",
            "Epoch 180: Train Loss: 0.0000, Test Loss: 0.0000, Train L1 Norm: 0.0146, Test L1 Norm: 0.0111, Train Linf Norm: 0.4169, Test Linf Norm: 0.2892\n",
            "Epoch 181: Train Loss: 0.0000, Test Loss: 0.0000, Train L1 Norm: 0.0143, Test L1 Norm: 0.0107, Train Linf Norm: 0.4115, Test Linf Norm: 0.2776\n",
            "Epoch 182: Train Loss: 0.0000, Test Loss: 0.0000, Train L1 Norm: 0.0144, Test L1 Norm: 0.0110, Train Linf Norm: 0.4141, Test Linf Norm: 0.2846\n",
            "Epoch 183: Train Loss: 0.0000, Test Loss: 0.0000, Train L1 Norm: 0.0145, Test L1 Norm: 0.0106, Train Linf Norm: 0.4165, Test Linf Norm: 0.2728\n",
            "Epoch 184: Train Loss: 0.0000, Test Loss: 0.0000, Train L1 Norm: 0.0142, Test L1 Norm: 0.0112, Train Linf Norm: 0.4111, Test Linf Norm: 0.2930\n",
            "Epoch 185: Train Loss: 0.0000, Test Loss: 0.0000, Train L1 Norm: 0.0143, Test L1 Norm: 0.0113, Train Linf Norm: 0.4102, Test Linf Norm: 0.2953\n",
            "Epoch 186: Train Loss: 0.0000, Test Loss: 0.0000, Train L1 Norm: 0.0144, Test L1 Norm: 0.0109, Train Linf Norm: 0.4153, Test Linf Norm: 0.2835\n",
            "Epoch 187: Train Loss: 0.0000, Test Loss: 0.0000, Train L1 Norm: 0.0145, Test L1 Norm: 0.0111, Train Linf Norm: 0.4163, Test Linf Norm: 0.2888\n",
            "Epoch 188: Train Loss: 0.0000, Test Loss: 0.0000, Train L1 Norm: 0.0144, Test L1 Norm: 0.0111, Train Linf Norm: 0.4136, Test Linf Norm: 0.2897\n",
            "Epoch 189: Train Loss: 0.0000, Test Loss: 0.0000, Train L1 Norm: 0.0145, Test L1 Norm: 0.0113, Train Linf Norm: 0.4165, Test Linf Norm: 0.2958\n",
            "Epoch 190: Train Loss: 0.0000, Test Loss: 0.0000, Train L1 Norm: 0.0145, Test L1 Norm: 0.0106, Train Linf Norm: 0.4188, Test Linf Norm: 0.2731\n",
            "Epoch 191: Train Loss: 0.0000, Test Loss: 0.0000, Train L1 Norm: 0.0143, Test L1 Norm: 0.0110, Train Linf Norm: 0.4095, Test Linf Norm: 0.2875\n",
            "Epoch 192: Train Loss: 0.0000, Test Loss: 0.0000, Train L1 Norm: 0.0144, Test L1 Norm: 0.0109, Train Linf Norm: 0.4139, Test Linf Norm: 0.2819\n",
            "Epoch 193: Train Loss: 0.0000, Test Loss: 0.0000, Train L1 Norm: 0.0144, Test L1 Norm: 0.0106, Train Linf Norm: 0.4116, Test Linf Norm: 0.2730\n",
            "Epoch 194: Train Loss: 0.0000, Test Loss: 0.0000, Train L1 Norm: 0.0142, Test L1 Norm: 0.0105, Train Linf Norm: 0.4048, Test Linf Norm: 0.2722\n",
            "Epoch 195: Train Loss: 0.0000, Test Loss: 0.0000, Train L1 Norm: 0.0142, Test L1 Norm: 0.0107, Train Linf Norm: 0.4067, Test Linf Norm: 0.2761\n",
            "Epoch 196: Train Loss: 0.0000, Test Loss: 0.0000, Train L1 Norm: 0.0143, Test L1 Norm: 0.0112, Train Linf Norm: 0.4061, Test Linf Norm: 0.2911\n",
            "Epoch 197: Train Loss: 0.0000, Test Loss: 0.0000, Train L1 Norm: 0.0144, Test L1 Norm: 0.0110, Train Linf Norm: 0.4161, Test Linf Norm: 0.2864\n",
            "Epoch 198: Train Loss: 0.0000, Test Loss: 0.0000, Train L1 Norm: 0.0143, Test L1 Norm: 0.0110, Train Linf Norm: 0.4121, Test Linf Norm: 0.2868\n",
            "Epoch 199: Train Loss: 0.0000, Test Loss: 0.0000, Train L1 Norm: 0.0142, Test L1 Norm: 0.0107, Train Linf Norm: 0.4100, Test Linf Norm: 0.2784\n",
            "Epoch 200: Train Loss: 0.0000, Test Loss: 0.0000, Train L1 Norm: 0.0144, Test L1 Norm: 0.0107, Train Linf Norm: 0.4140, Test Linf Norm: 0.2768\n",
            "Epoch 201: Train Loss: 0.0000, Test Loss: 0.0000, Train L1 Norm: 0.0142, Test L1 Norm: 0.0109, Train Linf Norm: 0.4098, Test Linf Norm: 0.2840\n",
            "Epoch 202: Train Loss: 0.0000, Test Loss: 0.0000, Train L1 Norm: 0.0145, Test L1 Norm: 0.0108, Train Linf Norm: 0.4164, Test Linf Norm: 0.2815\n",
            "Epoch 203: Train Loss: 0.0000, Test Loss: 0.0000, Train L1 Norm: 0.0145, Test L1 Norm: 0.0109, Train Linf Norm: 0.4138, Test Linf Norm: 0.2832\n",
            "Epoch 204: Train Loss: 0.0000, Test Loss: 0.0000, Train L1 Norm: 0.0142, Test L1 Norm: 0.0113, Train Linf Norm: 0.4074, Test Linf Norm: 0.2954\n",
            "Epoch 205: Train Loss: 0.0000, Test Loss: 0.0000, Train L1 Norm: 0.0144, Test L1 Norm: 0.0108, Train Linf Norm: 0.4099, Test Linf Norm: 0.2790\n",
            "Epoch 206: Train Loss: 0.0000, Test Loss: 0.0000, Train L1 Norm: 0.0145, Test L1 Norm: 0.0108, Train Linf Norm: 0.4143, Test Linf Norm: 0.2799\n",
            "Epoch 207: Train Loss: 0.0000, Test Loss: 0.0000, Train L1 Norm: 0.0145, Test L1 Norm: 0.0108, Train Linf Norm: 0.4167, Test Linf Norm: 0.2802\n",
            "Epoch 208: Train Loss: 0.0000, Test Loss: 0.0000, Train L1 Norm: 0.0145, Test L1 Norm: 0.0106, Train Linf Norm: 0.4151, Test Linf Norm: 0.2742\n",
            "Epoch 209: Train Loss: 0.0000, Test Loss: 0.0000, Train L1 Norm: 0.0144, Test L1 Norm: 0.0108, Train Linf Norm: 0.4134, Test Linf Norm: 0.2790\n",
            "Epoch 210: Train Loss: 0.0000, Test Loss: 0.0000, Train L1 Norm: 0.0142, Test L1 Norm: 0.0110, Train Linf Norm: 0.4089, Test Linf Norm: 0.2860\n",
            "Epoch 211: Train Loss: 0.0000, Test Loss: 0.0000, Train L1 Norm: 0.0144, Test L1 Norm: 0.0108, Train Linf Norm: 0.4121, Test Linf Norm: 0.2804\n",
            "Epoch 212: Train Loss: 0.0000, Test Loss: 0.0000, Train L1 Norm: 0.0143, Test L1 Norm: 0.0109, Train Linf Norm: 0.4107, Test Linf Norm: 0.2820\n",
            "Epoch 213: Train Loss: 0.0000, Test Loss: 0.0000, Train L1 Norm: 0.0143, Test L1 Norm: 0.0109, Train Linf Norm: 0.4103, Test Linf Norm: 0.2848\n",
            "Epoch 214: Train Loss: 0.0000, Test Loss: 0.0000, Train L1 Norm: 0.0145, Test L1 Norm: 0.0111, Train Linf Norm: 0.4170, Test Linf Norm: 0.2900\n",
            "Epoch 215: Train Loss: 0.0000, Test Loss: 0.0000, Train L1 Norm: 0.0143, Test L1 Norm: 0.0109, Train Linf Norm: 0.4132, Test Linf Norm: 0.2825\n",
            "Epoch 216: Train Loss: 0.0000, Test Loss: 0.0000, Train L1 Norm: 0.0144, Test L1 Norm: 0.0107, Train Linf Norm: 0.4137, Test Linf Norm: 0.2784\n",
            "Epoch 217: Train Loss: 0.0000, Test Loss: 0.0000, Train L1 Norm: 0.0143, Test L1 Norm: 0.0109, Train Linf Norm: 0.4125, Test Linf Norm: 0.2820\n",
            "Epoch 218: Train Loss: 0.0000, Test Loss: 0.0000, Train L1 Norm: 0.0143, Test L1 Norm: 0.0104, Train Linf Norm: 0.4090, Test Linf Norm: 0.2682\n",
            "Epoch 219: Train Loss: 0.0000, Test Loss: 0.0000, Train L1 Norm: 0.0141, Test L1 Norm: 0.0109, Train Linf Norm: 0.4047, Test Linf Norm: 0.2827\n",
            "Epoch 220: Train Loss: 0.0000, Test Loss: 0.0000, Train L1 Norm: 0.0143, Test L1 Norm: 0.0107, Train Linf Norm: 0.4131, Test Linf Norm: 0.2780\n",
            "Epoch 221: Train Loss: 0.0000, Test Loss: 0.0000, Train L1 Norm: 0.0143, Test L1 Norm: 0.0110, Train Linf Norm: 0.4096, Test Linf Norm: 0.2850\n",
            "Epoch 222: Train Loss: 0.0000, Test Loss: 0.0000, Train L1 Norm: 0.0144, Test L1 Norm: 0.0109, Train Linf Norm: 0.4168, Test Linf Norm: 0.2845\n",
            "Epoch 223: Train Loss: 0.0000, Test Loss: 0.0000, Train L1 Norm: 0.0146, Test L1 Norm: 0.0106, Train Linf Norm: 0.4182, Test Linf Norm: 0.2731\n",
            "Epoch 224: Train Loss: 0.0000, Test Loss: 0.0000, Train L1 Norm: 0.0144, Test L1 Norm: 0.0106, Train Linf Norm: 0.4138, Test Linf Norm: 0.2742\n",
            "Epoch 225: Train Loss: 0.0000, Test Loss: 0.0000, Train L1 Norm: 0.0142, Test L1 Norm: 0.0112, Train Linf Norm: 0.4062, Test Linf Norm: 0.2920\n",
            "Epoch 226: Train Loss: 0.0000, Test Loss: 0.0000, Train L1 Norm: 0.0144, Test L1 Norm: 0.0107, Train Linf Norm: 0.4128, Test Linf Norm: 0.2768\n",
            "Epoch 227: Train Loss: 0.0000, Test Loss: 0.0000, Train L1 Norm: 0.0143, Test L1 Norm: 0.0108, Train Linf Norm: 0.4106, Test Linf Norm: 0.2808\n",
            "Epoch 228: Train Loss: 0.0000, Test Loss: 0.0000, Train L1 Norm: 0.0143, Test L1 Norm: 0.0107, Train Linf Norm: 0.4108, Test Linf Norm: 0.2762\n",
            "Epoch 229: Train Loss: 0.0000, Test Loss: 0.0000, Train L1 Norm: 0.0144, Test L1 Norm: 0.0107, Train Linf Norm: 0.4147, Test Linf Norm: 0.2765\n",
            "Epoch 230: Train Loss: 0.0000, Test Loss: 0.0000, Train L1 Norm: 0.0145, Test L1 Norm: 0.0108, Train Linf Norm: 0.4176, Test Linf Norm: 0.2807\n",
            "Epoch 231: Train Loss: 0.0000, Test Loss: 0.0000, Train L1 Norm: 0.0142, Test L1 Norm: 0.0106, Train Linf Norm: 0.4072, Test Linf Norm: 0.2744\n",
            "Epoch 232: Train Loss: 0.0000, Test Loss: 0.0000, Train L1 Norm: 0.0142, Test L1 Norm: 0.0112, Train Linf Norm: 0.4082, Test Linf Norm: 0.2921\n",
            "Epoch 233: Train Loss: 0.0000, Test Loss: 0.0000, Train L1 Norm: 0.0144, Test L1 Norm: 0.0106, Train Linf Norm: 0.4155, Test Linf Norm: 0.2756\n",
            "Epoch 234: Train Loss: 0.0000, Test Loss: 0.0000, Train L1 Norm: 0.0143, Test L1 Norm: 0.0106, Train Linf Norm: 0.4109, Test Linf Norm: 0.2749\n",
            "Epoch 235: Train Loss: 0.0000, Test Loss: 0.0000, Train L1 Norm: 0.0143, Test L1 Norm: 0.0104, Train Linf Norm: 0.4082, Test Linf Norm: 0.2678\n",
            "Epoch 236: Train Loss: 0.0000, Test Loss: 0.0000, Train L1 Norm: 0.0142, Test L1 Norm: 0.0111, Train Linf Norm: 0.4061, Test Linf Norm: 0.2897\n",
            "Epoch 237: Train Loss: 0.0000, Test Loss: 0.0000, Train L1 Norm: 0.0145, Test L1 Norm: 0.0110, Train Linf Norm: 0.4181, Test Linf Norm: 0.2868\n",
            "Epoch 238: Train Loss: 0.0000, Test Loss: 0.0000, Train L1 Norm: 0.0143, Test L1 Norm: 0.0108, Train Linf Norm: 0.4073, Test Linf Norm: 0.2811\n",
            "Epoch 239: Train Loss: 0.0000, Test Loss: 0.0000, Train L1 Norm: 0.0144, Test L1 Norm: 0.0109, Train Linf Norm: 0.4155, Test Linf Norm: 0.2837\n",
            "Epoch 240: Train Loss: 0.0000, Test Loss: 0.0000, Train L1 Norm: 0.0143, Test L1 Norm: 0.0106, Train Linf Norm: 0.4097, Test Linf Norm: 0.2744\n",
            "Epoch 241: Train Loss: 0.0000, Test Loss: 0.0000, Train L1 Norm: 0.0143, Test L1 Norm: 0.0109, Train Linf Norm: 0.4107, Test Linf Norm: 0.2846\n",
            "Epoch 242: Train Loss: 0.0000, Test Loss: 0.0000, Train L1 Norm: 0.0143, Test L1 Norm: 0.0109, Train Linf Norm: 0.4101, Test Linf Norm: 0.2821\n",
            "Epoch 243: Train Loss: 0.0000, Test Loss: 0.0000, Train L1 Norm: 0.0143, Test L1 Norm: 0.0112, Train Linf Norm: 0.4107, Test Linf Norm: 0.2918\n",
            "Epoch 244: Train Loss: 0.0000, Test Loss: 0.0000, Train L1 Norm: 0.0143, Test L1 Norm: 0.0108, Train Linf Norm: 0.4107, Test Linf Norm: 0.2813\n",
            "Epoch 245: Train Loss: 0.0000, Test Loss: 0.0000, Train L1 Norm: 0.0143, Test L1 Norm: 0.0110, Train Linf Norm: 0.4124, Test Linf Norm: 0.2853\n",
            "Epoch 246: Train Loss: 0.0000, Test Loss: 0.0000, Train L1 Norm: 0.0143, Test L1 Norm: 0.0110, Train Linf Norm: 0.4097, Test Linf Norm: 0.2855\n",
            "Epoch 247: Train Loss: 0.0000, Test Loss: 0.0000, Train L1 Norm: 0.0143, Test L1 Norm: 0.0108, Train Linf Norm: 0.4103, Test Linf Norm: 0.2811\n",
            "Epoch 248: Train Loss: 0.0000, Test Loss: 0.0000, Train L1 Norm: 0.0143, Test L1 Norm: 0.0107, Train Linf Norm: 0.4104, Test Linf Norm: 0.2767\n",
            "Epoch 249: Train Loss: 0.0000, Test Loss: 0.0000, Train L1 Norm: 0.0143, Test L1 Norm: 0.0108, Train Linf Norm: 0.4105, Test Linf Norm: 0.2810\n",
            "Epoch 250: Train Loss: 0.0000, Test Loss: 0.0000, Train L1 Norm: 0.0143, Test L1 Norm: 0.0107, Train Linf Norm: 0.4104, Test Linf Norm: 0.2774\n",
            "Epoch 251: Train Loss: 0.0000, Test Loss: 0.0000, Train L1 Norm: 0.0144, Test L1 Norm: 0.0110, Train Linf Norm: 0.4152, Test Linf Norm: 0.2856\n",
            "Epoch 252: Train Loss: 0.0000, Test Loss: 0.0000, Train L1 Norm: 0.0145, Test L1 Norm: 0.0109, Train Linf Norm: 0.4185, Test Linf Norm: 0.2829\n",
            "Epoch 253: Train Loss: 0.0000, Test Loss: 0.0000, Train L1 Norm: 0.0143, Test L1 Norm: 0.0112, Train Linf Norm: 0.4117, Test Linf Norm: 0.2927\n",
            "Epoch 254: Train Loss: 0.0000, Test Loss: 0.0000, Train L1 Norm: 0.0143, Test L1 Norm: 0.0103, Train Linf Norm: 0.4114, Test Linf Norm: 0.2659\n",
            "Epoch 255: Train Loss: 0.0000, Test Loss: 0.0000, Train L1 Norm: 0.0141, Test L1 Norm: 0.0106, Train Linf Norm: 0.4019, Test Linf Norm: 0.2737\n",
            "Epoch 256: Train Loss: 0.0000, Test Loss: 0.0000, Train L1 Norm: 0.0143, Test L1 Norm: 0.0105, Train Linf Norm: 0.4113, Test Linf Norm: 0.2716\n",
            "Epoch 257: Train Loss: 0.0000, Test Loss: 0.0000, Train L1 Norm: 0.0144, Test L1 Norm: 0.0106, Train Linf Norm: 0.4137, Test Linf Norm: 0.2753\n",
            "Epoch 258: Train Loss: 0.0000, Test Loss: 0.0000, Train L1 Norm: 0.0143, Test L1 Norm: 0.0105, Train Linf Norm: 0.4096, Test Linf Norm: 0.2711\n",
            "Epoch 259: Train Loss: 0.0000, Test Loss: 0.0000, Train L1 Norm: 0.0143, Test L1 Norm: 0.0103, Train Linf Norm: 0.4088, Test Linf Norm: 0.2650\n",
            "Epoch 260: Train Loss: 0.0000, Test Loss: 0.0000, Train L1 Norm: 0.0143, Test L1 Norm: 0.0109, Train Linf Norm: 0.4103, Test Linf Norm: 0.2841\n",
            "Epoch 261: Train Loss: 0.0000, Test Loss: 0.0000, Train L1 Norm: 0.0143, Test L1 Norm: 0.0111, Train Linf Norm: 0.4130, Test Linf Norm: 0.2890\n",
            "Epoch 262: Train Loss: 0.0000, Test Loss: 0.0000, Train L1 Norm: 0.0144, Test L1 Norm: 0.0111, Train Linf Norm: 0.4145, Test Linf Norm: 0.2880\n",
            "Epoch 263: Train Loss: 0.0000, Test Loss: 0.0000, Train L1 Norm: 0.0142, Test L1 Norm: 0.0100, Train Linf Norm: 0.4106, Test Linf Norm: 0.2568\n",
            "Epoch 264: Train Loss: 0.0000, Test Loss: 0.0000, Train L1 Norm: 0.0144, Test L1 Norm: 0.0102, Train Linf Norm: 0.4145, Test Linf Norm: 0.2628\n",
            "Epoch 265: Train Loss: 0.0000, Test Loss: 0.0000, Train L1 Norm: 0.0142, Test L1 Norm: 0.0108, Train Linf Norm: 0.4064, Test Linf Norm: 0.2803\n",
            "Epoch 266: Train Loss: 0.0000, Test Loss: 0.0000, Train L1 Norm: 0.0142, Test L1 Norm: 0.0108, Train Linf Norm: 0.4082, Test Linf Norm: 0.2812\n",
            "Epoch 267: Train Loss: 0.0000, Test Loss: 0.0000, Train L1 Norm: 0.0142, Test L1 Norm: 0.0114, Train Linf Norm: 0.4089, Test Linf Norm: 0.2978\n",
            "Epoch 268: Train Loss: 0.0000, Test Loss: 0.0000, Train L1 Norm: 0.0142, Test L1 Norm: 0.0107, Train Linf Norm: 0.4089, Test Linf Norm: 0.2781\n",
            "Epoch 269: Train Loss: 0.0000, Test Loss: 0.0000, Train L1 Norm: 0.0143, Test L1 Norm: 0.0108, Train Linf Norm: 0.4095, Test Linf Norm: 0.2803\n",
            "Epoch 270: Train Loss: 0.0000, Test Loss: 0.0000, Train L1 Norm: 0.0144, Test L1 Norm: 0.0105, Train Linf Norm: 0.4123, Test Linf Norm: 0.2705\n",
            "Epoch 271: Train Loss: 0.0000, Test Loss: 0.0000, Train L1 Norm: 0.0142, Test L1 Norm: 0.0108, Train Linf Norm: 0.4066, Test Linf Norm: 0.2793\n",
            "Epoch 272: Train Loss: 0.0000, Test Loss: 0.0000, Train L1 Norm: 0.0143, Test L1 Norm: 0.0106, Train Linf Norm: 0.4034, Test Linf Norm: 0.2743\n",
            "Epoch 273: Train Loss: 0.0000, Test Loss: 0.0000, Train L1 Norm: 0.0144, Test L1 Norm: 0.0109, Train Linf Norm: 0.4129, Test Linf Norm: 0.2831\n",
            "Epoch 274: Train Loss: 0.0000, Test Loss: 0.0000, Train L1 Norm: 0.0143, Test L1 Norm: 0.0109, Train Linf Norm: 0.4112, Test Linf Norm: 0.2824\n",
            "Epoch 275: Train Loss: 0.0000, Test Loss: 0.0000, Train L1 Norm: 0.0144, Test L1 Norm: 0.0108, Train Linf Norm: 0.4125, Test Linf Norm: 0.2803\n",
            "Epoch 276: Train Loss: 0.0000, Test Loss: 0.0000, Train L1 Norm: 0.0144, Test L1 Norm: 0.0109, Train Linf Norm: 0.4124, Test Linf Norm: 0.2826\n",
            "Epoch 277: Train Loss: 0.0000, Test Loss: 0.0000, Train L1 Norm: 0.0143, Test L1 Norm: 0.0108, Train Linf Norm: 0.4091, Test Linf Norm: 0.2821\n",
            "Epoch 278: Train Loss: 0.0000, Test Loss: 0.0000, Train L1 Norm: 0.0144, Test L1 Norm: 0.0106, Train Linf Norm: 0.4150, Test Linf Norm: 0.2761\n",
            "Epoch 279: Train Loss: 0.0000, Test Loss: 0.0000, Train L1 Norm: 0.0145, Test L1 Norm: 0.0104, Train Linf Norm: 0.4123, Test Linf Norm: 0.2698\n",
            "Epoch 280: Train Loss: 0.0000, Test Loss: 0.0000, Train L1 Norm: 0.0144, Test L1 Norm: 0.0106, Train Linf Norm: 0.4170, Test Linf Norm: 0.2760\n",
            "Epoch 281: Train Loss: 0.0000, Test Loss: 0.0000, Train L1 Norm: 0.0142, Test L1 Norm: 0.0107, Train Linf Norm: 0.4097, Test Linf Norm: 0.2777\n",
            "Epoch 282: Train Loss: 0.0000, Test Loss: 0.0000, Train L1 Norm: 0.0145, Test L1 Norm: 0.0107, Train Linf Norm: 0.4099, Test Linf Norm: 0.2775\n",
            "Epoch 283: Train Loss: 0.0000, Test Loss: 0.0000, Train L1 Norm: 0.0144, Test L1 Norm: 0.0109, Train Linf Norm: 0.4121, Test Linf Norm: 0.2840\n",
            "Epoch 284: Train Loss: 0.0000, Test Loss: 0.0000, Train L1 Norm: 0.0142, Test L1 Norm: 0.0103, Train Linf Norm: 0.4056, Test Linf Norm: 0.2663\n",
            "Epoch 285: Train Loss: 0.0000, Test Loss: 0.0000, Train L1 Norm: 0.0143, Test L1 Norm: 0.0106, Train Linf Norm: 0.4130, Test Linf Norm: 0.2736\n",
            "Epoch 286: Train Loss: 0.0000, Test Loss: 0.0000, Train L1 Norm: 0.0143, Test L1 Norm: 0.0108, Train Linf Norm: 0.4080, Test Linf Norm: 0.2812\n",
            "Epoch 287: Train Loss: 0.0000, Test Loss: 0.0000, Train L1 Norm: 0.0143, Test L1 Norm: 0.0108, Train Linf Norm: 0.4124, Test Linf Norm: 0.2819\n",
            "Epoch 288: Train Loss: 0.0000, Test Loss: 0.0000, Train L1 Norm: 0.0143, Test L1 Norm: 0.0113, Train Linf Norm: 0.4109, Test Linf Norm: 0.2948\n",
            "Epoch 289: Train Loss: 0.0000, Test Loss: 0.0000, Train L1 Norm: 0.0145, Test L1 Norm: 0.0108, Train Linf Norm: 0.4164, Test Linf Norm: 0.2801\n",
            "Epoch 290: Train Loss: 0.0000, Test Loss: 0.0000, Train L1 Norm: 0.0144, Test L1 Norm: 0.0112, Train Linf Norm: 0.4158, Test Linf Norm: 0.2936\n",
            "Epoch 291: Train Loss: 0.0000, Test Loss: 0.0000, Train L1 Norm: 0.0143, Test L1 Norm: 0.0108, Train Linf Norm: 0.4109, Test Linf Norm: 0.2801\n",
            "Epoch 292: Train Loss: 0.0000, Test Loss: 0.0000, Train L1 Norm: 0.0143, Test L1 Norm: 0.0107, Train Linf Norm: 0.4096, Test Linf Norm: 0.2775\n",
            "Epoch 293: Train Loss: 0.0000, Test Loss: 0.0000, Train L1 Norm: 0.0141, Test L1 Norm: 0.0106, Train Linf Norm: 0.4051, Test Linf Norm: 0.2751\n",
            "Epoch 294: Train Loss: 0.0000, Test Loss: 0.0000, Train L1 Norm: 0.0142, Test L1 Norm: 0.0110, Train Linf Norm: 0.4067, Test Linf Norm: 0.2860\n",
            "Epoch 295: Train Loss: 0.0000, Test Loss: 0.0000, Train L1 Norm: 0.0140, Test L1 Norm: 0.0107, Train Linf Norm: 0.4025, Test Linf Norm: 0.2786\n",
            "Epoch 296: Train Loss: 0.0000, Test Loss: 0.0000, Train L1 Norm: 0.0142, Test L1 Norm: 0.0108, Train Linf Norm: 0.4082, Test Linf Norm: 0.2820\n",
            "Epoch 297: Train Loss: 0.0000, Test Loss: 0.0000, Train L1 Norm: 0.0143, Test L1 Norm: 0.0111, Train Linf Norm: 0.4124, Test Linf Norm: 0.2910\n",
            "Epoch 298: Train Loss: 0.0000, Test Loss: 0.0000, Train L1 Norm: 0.0143, Test L1 Norm: 0.0107, Train Linf Norm: 0.4113, Test Linf Norm: 0.2788\n",
            "Epoch 299: Train Loss: 0.0000, Test Loss: 0.0000, Train L1 Norm: 0.0143, Test L1 Norm: 0.0104, Train Linf Norm: 0.4123, Test Linf Norm: 0.2675\n",
            "Epoch 300: Train Loss: 0.0000, Test Loss: 0.0000, Train L1 Norm: 0.0140, Test L1 Norm: 0.0108, Train Linf Norm: 0.4021, Test Linf Norm: 0.2806\n",
            "Epoch 301: Train Loss: 0.0000, Test Loss: 0.0000, Train L1 Norm: 0.0140, Test L1 Norm: 0.0109, Train Linf Norm: 0.4036, Test Linf Norm: 0.2835\n",
            "Epoch 302: Train Loss: 0.0000, Test Loss: 0.0000, Train L1 Norm: 0.0145, Test L1 Norm: 0.0112, Train Linf Norm: 0.4157, Test Linf Norm: 0.2926\n",
            "Epoch 303: Train Loss: 0.0000, Test Loss: 0.0000, Train L1 Norm: 0.0143, Test L1 Norm: 0.0105, Train Linf Norm: 0.4085, Test Linf Norm: 0.2716\n",
            "Epoch 304: Train Loss: 0.0000, Test Loss: 0.0000, Train L1 Norm: 0.0142, Test L1 Norm: 0.0108, Train Linf Norm: 0.4083, Test Linf Norm: 0.2820\n",
            "Epoch 305: Train Loss: 0.0000, Test Loss: 0.0000, Train L1 Norm: 0.0142, Test L1 Norm: 0.0105, Train Linf Norm: 0.4071, Test Linf Norm: 0.2715\n",
            "Epoch 306: Train Loss: 0.0000, Test Loss: 0.0000, Train L1 Norm: 0.0143, Test L1 Norm: 0.0108, Train Linf Norm: 0.4122, Test Linf Norm: 0.2813\n",
            "Epoch 307: Train Loss: 0.0000, Test Loss: 0.0000, Train L1 Norm: 0.0143, Test L1 Norm: 0.0110, Train Linf Norm: 0.4125, Test Linf Norm: 0.2865\n",
            "Epoch 308: Train Loss: 0.0000, Test Loss: 0.0000, Train L1 Norm: 0.0143, Test L1 Norm: 0.0107, Train Linf Norm: 0.4144, Test Linf Norm: 0.2772\n",
            "Epoch 309: Train Loss: 0.0000, Test Loss: 0.0000, Train L1 Norm: 0.0143, Test L1 Norm: 0.0106, Train Linf Norm: 0.4112, Test Linf Norm: 0.2736\n",
            "Epoch 310: Train Loss: 0.0000, Test Loss: 0.0000, Train L1 Norm: 0.0141, Test L1 Norm: 0.0112, Train Linf Norm: 0.4066, Test Linf Norm: 0.2927\n",
            "Epoch 311: Train Loss: 0.0000, Test Loss: 0.0000, Train L1 Norm: 0.0142, Test L1 Norm: 0.0114, Train Linf Norm: 0.4076, Test Linf Norm: 0.2969\n",
            "Epoch 312: Train Loss: 0.0000, Test Loss: 0.0000, Train L1 Norm: 0.0144, Test L1 Norm: 0.0110, Train Linf Norm: 0.4123, Test Linf Norm: 0.2877\n",
            "Epoch 313: Train Loss: 0.0000, Test Loss: 0.0000, Train L1 Norm: 0.0144, Test L1 Norm: 0.0106, Train Linf Norm: 0.4142, Test Linf Norm: 0.2758\n",
            "Epoch 314: Train Loss: 0.0000, Test Loss: 0.0000, Train L1 Norm: 0.0144, Test L1 Norm: 0.0106, Train Linf Norm: 0.4125, Test Linf Norm: 0.2751\n",
            "Epoch 315: Train Loss: 0.0000, Test Loss: 0.0000, Train L1 Norm: 0.0143, Test L1 Norm: 0.0105, Train Linf Norm: 0.4102, Test Linf Norm: 0.2725\n",
            "Epoch 316: Train Loss: 0.0000, Test Loss: 0.0000, Train L1 Norm: 0.0139, Test L1 Norm: 0.0112, Train Linf Norm: 0.3992, Test Linf Norm: 0.2913\n",
            "Epoch 317: Train Loss: 0.0000, Test Loss: 0.0000, Train L1 Norm: 0.0141, Test L1 Norm: 0.0111, Train Linf Norm: 0.4055, Test Linf Norm: 0.2885\n",
            "Epoch 318: Train Loss: 0.0000, Test Loss: 0.0000, Train L1 Norm: 0.0141, Test L1 Norm: 0.0108, Train Linf Norm: 0.4034, Test Linf Norm: 0.2807\n",
            "Epoch 319: Train Loss: 0.0000, Test Loss: 0.0000, Train L1 Norm: 0.0143, Test L1 Norm: 0.0107, Train Linf Norm: 0.4093, Test Linf Norm: 0.2774\n",
            "Epoch 320: Train Loss: 0.0000, Test Loss: 0.0000, Train L1 Norm: 0.0143, Test L1 Norm: 0.0109, Train Linf Norm: 0.4109, Test Linf Norm: 0.2848\n",
            "Epoch 321: Train Loss: 0.0000, Test Loss: 0.0000, Train L1 Norm: 0.0143, Test L1 Norm: 0.0109, Train Linf Norm: 0.4128, Test Linf Norm: 0.2848\n",
            "Epoch 322: Train Loss: 0.0000, Test Loss: 0.0000, Train L1 Norm: 0.0142, Test L1 Norm: 0.0107, Train Linf Norm: 0.4083, Test Linf Norm: 0.2769\n",
            "Epoch 323: Train Loss: 0.0000, Test Loss: 0.0000, Train L1 Norm: 0.0143, Test L1 Norm: 0.0108, Train Linf Norm: 0.4116, Test Linf Norm: 0.2822\n",
            "Epoch 324: Train Loss: 0.0000, Test Loss: 0.0000, Train L1 Norm: 0.0144, Test L1 Norm: 0.0110, Train Linf Norm: 0.4129, Test Linf Norm: 0.2854\n",
            "Epoch 325: Train Loss: 0.0000, Test Loss: 0.0000, Train L1 Norm: 0.0142, Test L1 Norm: 0.0110, Train Linf Norm: 0.4070, Test Linf Norm: 0.2859\n",
            "Epoch 326: Train Loss: 0.0000, Test Loss: 0.0000, Train L1 Norm: 0.0145, Test L1 Norm: 0.0103, Train Linf Norm: 0.4165, Test Linf Norm: 0.2671\n",
            "Epoch 327: Train Loss: 0.0000, Test Loss: 0.0000, Train L1 Norm: 0.0141, Test L1 Norm: 0.0106, Train Linf Norm: 0.4043, Test Linf Norm: 0.2763\n",
            "Epoch 328: Train Loss: 0.0000, Test Loss: 0.0000, Train L1 Norm: 0.0142, Test L1 Norm: 0.0108, Train Linf Norm: 0.4051, Test Linf Norm: 0.2801\n",
            "Epoch 329: Train Loss: 0.0000, Test Loss: 0.0000, Train L1 Norm: 0.0141, Test L1 Norm: 0.0108, Train Linf Norm: 0.4012, Test Linf Norm: 0.2812\n",
            "Epoch 330: Train Loss: 0.0000, Test Loss: 0.0000, Train L1 Norm: 0.0143, Test L1 Norm: 0.0108, Train Linf Norm: 0.4108, Test Linf Norm: 0.2819\n",
            "Epoch 331: Train Loss: 0.0000, Test Loss: 0.0000, Train L1 Norm: 0.0141, Test L1 Norm: 0.0108, Train Linf Norm: 0.4050, Test Linf Norm: 0.2802\n",
            "Epoch 332: Train Loss: 0.0000, Test Loss: 0.0000, Train L1 Norm: 0.0146, Test L1 Norm: 0.0106, Train Linf Norm: 0.4192, Test Linf Norm: 0.2762\n",
            "Epoch 333: Train Loss: 0.0000, Test Loss: 0.0000, Train L1 Norm: 0.0142, Test L1 Norm: 0.0106, Train Linf Norm: 0.4080, Test Linf Norm: 0.2754\n",
            "Epoch 334: Train Loss: 0.0000, Test Loss: 0.0000, Train L1 Norm: 0.0142, Test L1 Norm: 0.0106, Train Linf Norm: 0.4092, Test Linf Norm: 0.2764\n",
            "Epoch 335: Train Loss: 0.0000, Test Loss: 0.0000, Train L1 Norm: 0.0142, Test L1 Norm: 0.0107, Train Linf Norm: 0.4092, Test Linf Norm: 0.2784\n",
            "Epoch 336: Train Loss: 0.0000, Test Loss: 0.0000, Train L1 Norm: 0.0142, Test L1 Norm: 0.0109, Train Linf Norm: 0.4082, Test Linf Norm: 0.2847\n",
            "Epoch 337: Train Loss: 0.0000, Test Loss: 0.0000, Train L1 Norm: 0.0142, Test L1 Norm: 0.0106, Train Linf Norm: 0.4078, Test Linf Norm: 0.2751\n",
            "Epoch 338: Train Loss: 0.0000, Test Loss: 0.0000, Train L1 Norm: 0.0140, Test L1 Norm: 0.0110, Train Linf Norm: 0.4008, Test Linf Norm: 0.2867\n",
            "Epoch 339: Train Loss: 0.0000, Test Loss: 0.0000, Train L1 Norm: 0.0142, Test L1 Norm: 0.0104, Train Linf Norm: 0.4069, Test Linf Norm: 0.2685\n",
            "Epoch 340: Train Loss: 0.0000, Test Loss: 0.0000, Train L1 Norm: 0.0141, Test L1 Norm: 0.0106, Train Linf Norm: 0.4042, Test Linf Norm: 0.2767\n",
            "Epoch 341: Train Loss: 0.0000, Test Loss: 0.0000, Train L1 Norm: 0.0141, Test L1 Norm: 0.0113, Train Linf Norm: 0.4060, Test Linf Norm: 0.2967\n",
            "Epoch 342: Train Loss: 0.0000, Test Loss: 0.0000, Train L1 Norm: 0.0140, Test L1 Norm: 0.0103, Train Linf Norm: 0.4031, Test Linf Norm: 0.2674\n",
            "Epoch 343: Train Loss: 0.0000, Test Loss: 0.0000, Train L1 Norm: 0.0140, Test L1 Norm: 0.0108, Train Linf Norm: 0.4018, Test Linf Norm: 0.2808\n",
            "Epoch 344: Train Loss: 0.0000, Test Loss: 0.0000, Train L1 Norm: 0.0142, Test L1 Norm: 0.0108, Train Linf Norm: 0.4089, Test Linf Norm: 0.2798\n",
            "Epoch 345: Train Loss: 0.0000, Test Loss: 0.0000, Train L1 Norm: 0.0143, Test L1 Norm: 0.0110, Train Linf Norm: 0.4106, Test Linf Norm: 0.2877\n",
            "Epoch 346: Train Loss: 0.0000, Test Loss: 0.0000, Train L1 Norm: 0.0142, Test L1 Norm: 0.0108, Train Linf Norm: 0.4071, Test Linf Norm: 0.2800\n",
            "Epoch 347: Train Loss: 0.0000, Test Loss: 0.0000, Train L1 Norm: 0.0142, Test L1 Norm: 0.0108, Train Linf Norm: 0.4062, Test Linf Norm: 0.2801\n",
            "Epoch 348: Train Loss: 0.0000, Test Loss: 0.0000, Train L1 Norm: 0.0142, Test L1 Norm: 0.0104, Train Linf Norm: 0.4097, Test Linf Norm: 0.2701\n",
            "Epoch 349: Train Loss: 0.0000, Test Loss: 0.0000, Train L1 Norm: 0.0141, Test L1 Norm: 0.0109, Train Linf Norm: 0.4032, Test Linf Norm: 0.2837\n",
            "Epoch 350: Train Loss: 0.0000, Test Loss: 0.0000, Train L1 Norm: 0.0142, Test L1 Norm: 0.0106, Train Linf Norm: 0.4079, Test Linf Norm: 0.2741\n",
            "Epoch 351: Train Loss: 0.0000, Test Loss: 0.0000, Train L1 Norm: 0.0141, Test L1 Norm: 0.0110, Train Linf Norm: 0.4032, Test Linf Norm: 0.2872\n",
            "Epoch 352: Train Loss: 0.0000, Test Loss: 0.0000, Train L1 Norm: 0.0142, Test L1 Norm: 0.0109, Train Linf Norm: 0.4088, Test Linf Norm: 0.2826\n",
            "Epoch 353: Train Loss: 0.0000, Test Loss: 0.0000, Train L1 Norm: 0.0140, Test L1 Norm: 0.0105, Train Linf Norm: 0.4035, Test Linf Norm: 0.2730\n",
            "Epoch 354: Train Loss: 0.0000, Test Loss: 0.0000, Train L1 Norm: 0.0142, Test L1 Norm: 0.0106, Train Linf Norm: 0.4055, Test Linf Norm: 0.2749\n",
            "Epoch 355: Train Loss: 0.0000, Test Loss: 0.0000, Train L1 Norm: 0.0141, Test L1 Norm: 0.0108, Train Linf Norm: 0.4054, Test Linf Norm: 0.2812\n",
            "Epoch 356: Train Loss: 0.0000, Test Loss: 0.0000, Train L1 Norm: 0.0143, Test L1 Norm: 0.0106, Train Linf Norm: 0.4125, Test Linf Norm: 0.2749\n",
            "Epoch 357: Train Loss: 0.0000, Test Loss: 0.0000, Train L1 Norm: 0.0141, Test L1 Norm: 0.0108, Train Linf Norm: 0.4054, Test Linf Norm: 0.2799\n",
            "Epoch 358: Train Loss: 0.0000, Test Loss: 0.0000, Train L1 Norm: 0.0142, Test L1 Norm: 0.0108, Train Linf Norm: 0.4092, Test Linf Norm: 0.2810\n",
            "Epoch 359: Train Loss: 0.0000, Test Loss: 0.0000, Train L1 Norm: 0.0141, Test L1 Norm: 0.0109, Train Linf Norm: 0.4021, Test Linf Norm: 0.2839\n",
            "Epoch 360: Train Loss: 0.0000, Test Loss: 0.0000, Train L1 Norm: 0.0142, Test L1 Norm: 0.0104, Train Linf Norm: 0.4047, Test Linf Norm: 0.2699\n",
            "Epoch 361: Train Loss: 0.0000, Test Loss: 0.0000, Train L1 Norm: 0.0142, Test L1 Norm: 0.0103, Train Linf Norm: 0.4090, Test Linf Norm: 0.2656\n",
            "Epoch 362: Train Loss: 0.0000, Test Loss: 0.0000, Train L1 Norm: 0.0141, Test L1 Norm: 0.0106, Train Linf Norm: 0.4067, Test Linf Norm: 0.2740\n",
            "Epoch 363: Train Loss: 0.0000, Test Loss: 0.0000, Train L1 Norm: 0.0143, Test L1 Norm: 0.0105, Train Linf Norm: 0.4101, Test Linf Norm: 0.2720\n",
            "Epoch 364: Train Loss: 0.0000, Test Loss: 0.0000, Train L1 Norm: 0.0143, Test L1 Norm: 0.0106, Train Linf Norm: 0.4125, Test Linf Norm: 0.2754\n",
            "Epoch 365: Train Loss: 0.0000, Test Loss: 0.0000, Train L1 Norm: 0.0141, Test L1 Norm: 0.0107, Train Linf Norm: 0.4050, Test Linf Norm: 0.2774\n",
            "Epoch 366: Train Loss: 0.0000, Test Loss: 0.0000, Train L1 Norm: 0.0143, Test L1 Norm: 0.0105, Train Linf Norm: 0.4042, Test Linf Norm: 0.2721\n",
            "Epoch 367: Train Loss: 0.0000, Test Loss: 0.0000, Train L1 Norm: 0.0141, Test L1 Norm: 0.0107, Train Linf Norm: 0.3982, Test Linf Norm: 0.2775\n",
            "Epoch 368: Train Loss: 0.0000, Test Loss: 0.0000, Train L1 Norm: 0.0142, Test L1 Norm: 0.0107, Train Linf Norm: 0.4082, Test Linf Norm: 0.2796\n",
            "Epoch 369: Train Loss: 0.0000, Test Loss: 0.0000, Train L1 Norm: 0.0143, Test L1 Norm: 0.0101, Train Linf Norm: 0.4106, Test Linf Norm: 0.2612\n",
            "Epoch 370: Train Loss: 0.0000, Test Loss: 0.0000, Train L1 Norm: 0.0140, Test L1 Norm: 0.0107, Train Linf Norm: 0.4026, Test Linf Norm: 0.2788\n",
            "Epoch 371: Train Loss: 0.0000, Test Loss: 0.0000, Train L1 Norm: 0.0144, Test L1 Norm: 0.0106, Train Linf Norm: 0.4129, Test Linf Norm: 0.2749\n",
            "Epoch 372: Train Loss: 0.0000, Test Loss: 0.0000, Train L1 Norm: 0.0141, Test L1 Norm: 0.0105, Train Linf Norm: 0.4053, Test Linf Norm: 0.2709\n",
            "Epoch 373: Train Loss: 0.0000, Test Loss: 0.0000, Train L1 Norm: 0.0141, Test L1 Norm: 0.0105, Train Linf Norm: 0.4057, Test Linf Norm: 0.2724\n",
            "Epoch 374: Train Loss: 0.0000, Test Loss: 0.0000, Train L1 Norm: 0.0143, Test L1 Norm: 0.0102, Train Linf Norm: 0.4126, Test Linf Norm: 0.2618\n",
            "Epoch 375: Train Loss: 0.0000, Test Loss: 0.0000, Train L1 Norm: 0.0141, Test L1 Norm: 0.0108, Train Linf Norm: 0.4039, Test Linf Norm: 0.2805\n",
            "Epoch 376: Train Loss: 0.0000, Test Loss: 0.0000, Train L1 Norm: 0.0142, Test L1 Norm: 0.0104, Train Linf Norm: 0.4088, Test Linf Norm: 0.2692\n",
            "Epoch 377: Train Loss: 0.0000, Test Loss: 0.0000, Train L1 Norm: 0.0141, Test L1 Norm: 0.0103, Train Linf Norm: 0.4061, Test Linf Norm: 0.2659\n",
            "Epoch 378: Train Loss: 0.0000, Test Loss: 0.0000, Train L1 Norm: 0.0141, Test L1 Norm: 0.0108, Train Linf Norm: 0.4043, Test Linf Norm: 0.2812\n",
            "Epoch 379: Train Loss: 0.0000, Test Loss: 0.0000, Train L1 Norm: 0.0141, Test L1 Norm: 0.0107, Train Linf Norm: 0.4050, Test Linf Norm: 0.2770\n",
            "Epoch 380: Train Loss: 0.0000, Test Loss: 0.0000, Train L1 Norm: 0.0141, Test L1 Norm: 0.0110, Train Linf Norm: 0.4071, Test Linf Norm: 0.2864\n",
            "Epoch 381: Train Loss: 0.0000, Test Loss: 0.0000, Train L1 Norm: 0.0142, Test L1 Norm: 0.0099, Train Linf Norm: 0.4092, Test Linf Norm: 0.2550\n",
            "Epoch 382: Train Loss: 0.0000, Test Loss: 0.0000, Train L1 Norm: 0.0139, Test L1 Norm: 0.0108, Train Linf Norm: 0.4000, Test Linf Norm: 0.2827\n",
            "Epoch 383: Train Loss: 0.0000, Test Loss: 0.0000, Train L1 Norm: 0.0141, Test L1 Norm: 0.0106, Train Linf Norm: 0.4048, Test Linf Norm: 0.2761\n",
            "Epoch 384: Train Loss: 0.0000, Test Loss: 0.0000, Train L1 Norm: 0.0141, Test L1 Norm: 0.0109, Train Linf Norm: 0.4072, Test Linf Norm: 0.2842\n",
            "Epoch 385: Train Loss: 0.0000, Test Loss: 0.0000, Train L1 Norm: 0.0137, Test L1 Norm: 0.0112, Train Linf Norm: 0.3941, Test Linf Norm: 0.2915\n",
            "Epoch 386: Train Loss: 0.0000, Test Loss: 0.0000, Train L1 Norm: 0.0142, Test L1 Norm: 0.0109, Train Linf Norm: 0.4099, Test Linf Norm: 0.2840\n",
            "Epoch 387: Train Loss: 0.0000, Test Loss: 0.0000, Train L1 Norm: 0.0140, Test L1 Norm: 0.0106, Train Linf Norm: 0.4026, Test Linf Norm: 0.2740\n",
            "Epoch 388: Train Loss: 0.0000, Test Loss: 0.0000, Train L1 Norm: 0.0141, Test L1 Norm: 0.0101, Train Linf Norm: 0.4058, Test Linf Norm: 0.2614\n",
            "Epoch 389: Train Loss: 0.0000, Test Loss: 0.0000, Train L1 Norm: 0.0141, Test L1 Norm: 0.0109, Train Linf Norm: 0.4020, Test Linf Norm: 0.2846\n",
            "Epoch 390: Train Loss: 0.0000, Test Loss: 0.0000, Train L1 Norm: 0.0141, Test L1 Norm: 0.0105, Train Linf Norm: 0.4059, Test Linf Norm: 0.2723\n",
            "Epoch 391: Train Loss: 0.0000, Test Loss: 0.0000, Train L1 Norm: 0.0142, Test L1 Norm: 0.0106, Train Linf Norm: 0.4074, Test Linf Norm: 0.2764\n",
            "Epoch 392: Train Loss: 0.0000, Test Loss: 0.0000, Train L1 Norm: 0.0143, Test L1 Norm: 0.0103, Train Linf Norm: 0.4072, Test Linf Norm: 0.2670\n",
            "Epoch 393: Train Loss: 0.0000, Test Loss: 0.0000, Train L1 Norm: 0.0142, Test L1 Norm: 0.0109, Train Linf Norm: 0.4064, Test Linf Norm: 0.2852\n",
            "Epoch 394: Train Loss: 0.0000, Test Loss: 0.0000, Train L1 Norm: 0.0141, Test L1 Norm: 0.0110, Train Linf Norm: 0.4034, Test Linf Norm: 0.2881\n",
            "Epoch 395: Train Loss: 0.0000, Test Loss: 0.0000, Train L1 Norm: 0.0144, Test L1 Norm: 0.0101, Train Linf Norm: 0.4148, Test Linf Norm: 0.2616\n",
            "Epoch 396: Train Loss: 0.0000, Test Loss: 0.0000, Train L1 Norm: 0.0141, Test L1 Norm: 0.0105, Train Linf Norm: 0.4034, Test Linf Norm: 0.2712\n",
            "Epoch 397: Train Loss: 0.0000, Test Loss: 0.0000, Train L1 Norm: 0.0142, Test L1 Norm: 0.0107, Train Linf Norm: 0.4090, Test Linf Norm: 0.2795\n",
            "Epoch 398: Train Loss: 0.0000, Test Loss: 0.0000, Train L1 Norm: 0.0143, Test L1 Norm: 0.0107, Train Linf Norm: 0.4080, Test Linf Norm: 0.2796\n",
            "Epoch 399: Train Loss: 0.0000, Test Loss: 0.0000, Train L1 Norm: 0.0140, Test L1 Norm: 0.0106, Train Linf Norm: 0.4020, Test Linf Norm: 0.2750\n",
            "Epoch 400: Train Loss: 0.0000, Test Loss: 0.0000, Train L1 Norm: 0.0143, Test L1 Norm: 0.0105, Train Linf Norm: 0.4067, Test Linf Norm: 0.2733\n"
          ]
        }
      ],
      "source": [
        "# Training and evaluating the network using the train_and_eval function\n",
        "train_losses, test_losses, train_metrics, test_metrics = train_and_eval(\n",
        "    net, loss_fn, optimizer, batch_size, n_epochs, scheduler\n",
        ")"
      ]
    },
    {
      "cell_type": "markdown",
      "metadata": {
        "id": "qhBneZSrIj4C"
      },
      "source": [
        "## Saving"
      ]
    },
    {
      "cell_type": "code",
      "execution_count": null,
      "metadata": {
        "id": "xJGmeVJVIj4C"
      },
      "outputs": [],
      "source": [
        "import json\n",
        "import pandas as pd\n",
        "import os\n",
        "import shutil\n",
        "\n",
        "# check if the drive is mounted\n",
        "drive_mounted = os.path.exists(\"/content/drive\")\n",
        "\n",
        "# define a function to save a file to the drive or the current directory\n",
        "def save_file(file_name):\n",
        "  if drive_mounted:\n",
        "    # save the file to the drive folder\n",
        "    drive_folder = \"/content/drive/My Drive/bsc/con2prim_restoration/Dieselhorst_run_6\" # change this to your desired folder\n",
        "    file_path = os.path.join(drive_folder, file_name)\n",
        "    # copy the file from the current directory to the drive folder\n",
        "    shutil.copyfile(file_name, file_path)\n",
        "  else:\n",
        "    # do nothing as the file is already in the current directory\n",
        "    pass\n"
      ]
    },
    {
      "cell_type": "code",
      "execution_count": null,
      "metadata": {
        "id": "SoFb6PYtIj4Q"
      },
      "outputs": [],
      "source": [
        "\n",
        "# save the network to a .pth file\n",
        "torch.save(net.state_dict(), \"net.pth\")\n",
        "save_file(\"net.pth\")\n",
        "\n",
        "# save the optimizer to a .pth file\n",
        "torch.save(optimizer.state_dict(), \"optimizer.pth\")\n",
        "save_file(\"optimizer.pth\")\n",
        "\n",
        "# save the scheduler to a .pth file if it is not None\n",
        "if scheduler is not None:\n",
        "  torch.save(scheduler.state_dict(), \"scheduler.pth\")\n",
        "  save_file(\"scheduler.pth\")\n",
        "\n",
        "# create a dictionary to store the rest of the variables\n",
        "var_dict = {\n",
        "  \"batch_size\": batch_size,\n",
        "  \"n_epochs\": n_epochs,\n",
        "  \"loss_name\": loss_name,\n",
        "  \"optimizer_name\": optimizer_name,\n",
        "  \"scheduler_name\": scheduler_name,\n",
        "  \"n_units\": n_units,\n",
        "  \"n_layers\": n_layers,\n",
        "  \"hidden_activation_name\": hidden_activation.__class__.__name__,\n",
        "  \"output_activation_name\": output_activation.__class__.__name__,\n",
        "  \"lr\": lr,\n",
        "}\n",
        "\n",
        "# save the dictionary to a .json file\n",
        "with open(\"var_dict.json\", \"w\") as f:\n",
        "  json.dump(var_dict, f)\n",
        "save_file(\"var_dict.json\")\n",
        "\n",
        "# Saving the output of the training using pandas\n",
        "train_df = pd.DataFrame(\n",
        "    {\n",
        "        \"train_loss\": train_losses,\n",
        "        \"test_loss\": test_losses,\n",
        "        \"train_l1_norm\": [m[\"l1_norm\"] for m in train_metrics],\n",
        "        \"test_l1_norm\": [m[\"l1_norm\"] for m in test_metrics],\n",
        "        \"train_linf_norm\": [m[\"linf_norm\"] for m in train_metrics],\n",
        "        \"test_linf_norm\": [m[\"linf_norm\"] for m in test_metrics],\n",
        "    }\n",
        ")\n",
        "train_df.to_csv(\"train_output.csv\", index=False)\n",
        "save_file(\"train_output.csv\")\n"
      ]
    },
    {
      "cell_type": "markdown",
      "metadata": {
        "id": "iThjAYWvIj4R"
      },
      "source": [
        "## Visualizing the results"
      ]
    },
    {
      "cell_type": "code",
      "execution_count": null,
      "metadata": {
        "id": "Rm1ShiDdIj4S",
        "outputId": "6ee48133-5f20-462a-dd1f-a7bd9299d4c0",
        "colab": {
          "base_uri": "https://localhost:8080/",
          "height": 1000
        }
      },
      "outputs": [
        {
          "output_type": "execute_result",
          "data": {
            "text/plain": [
              "<Figure size 1200x800 with 0 Axes>"
            ]
          },
          "metadata": {},
          "execution_count": 51
        },
        {
          "output_type": "execute_result",
          "data": {
            "text/plain": [
              "<Axes: >"
            ]
          },
          "metadata": {},
          "execution_count": 51
        },
        {
          "output_type": "execute_result",
          "data": {
            "text/plain": [
              "[<matplotlib.lines.Line2D at 0x7f96e0149de0>]"
            ]
          },
          "metadata": {},
          "execution_count": 51
        },
        {
          "output_type": "execute_result",
          "data": {
            "text/plain": [
              "[<matplotlib.lines.Line2D at 0x7f96e014a0b0>]"
            ]
          },
          "metadata": {},
          "execution_count": 51
        },
        {
          "output_type": "execute_result",
          "data": {
            "text/plain": [
              "Text(0.5, 0, 'Epoch')"
            ]
          },
          "metadata": {},
          "execution_count": 51
        },
        {
          "output_type": "execute_result",
          "data": {
            "text/plain": [
              "Text(0, 0.5, 'L1 Norm')"
            ]
          },
          "metadata": {},
          "execution_count": 51
        },
        {
          "output_type": "execute_result",
          "data": {
            "text/plain": [
              "(0.001, 100.0)"
            ]
          },
          "metadata": {},
          "execution_count": 51
        },
        {
          "output_type": "execute_result",
          "data": {
            "text/plain": [
              "<matplotlib.legend.Legend at 0x7f97f79a2320>"
            ]
          },
          "metadata": {},
          "execution_count": 51
        },
        {
          "output_type": "execute_result",
          "data": {
            "text/plain": [
              "<Axes: >"
            ]
          },
          "metadata": {},
          "execution_count": 51
        },
        {
          "output_type": "execute_result",
          "data": {
            "text/plain": [
              "[<matplotlib.lines.Line2D at 0x7f96e017f010>]"
            ]
          },
          "metadata": {},
          "execution_count": 51
        },
        {
          "output_type": "execute_result",
          "data": {
            "text/plain": [
              "[<matplotlib.lines.Line2D at 0x7f96cdf0c250>]"
            ]
          },
          "metadata": {},
          "execution_count": 51
        },
        {
          "output_type": "execute_result",
          "data": {
            "text/plain": [
              "Text(0.5, 0, 'Epoch')"
            ]
          },
          "metadata": {},
          "execution_count": 51
        },
        {
          "output_type": "execute_result",
          "data": {
            "text/plain": [
              "Text(0, 0.5, 'Linf Norm')"
            ]
          },
          "metadata": {},
          "execution_count": 51
        },
        {
          "output_type": "execute_result",
          "data": {
            "text/plain": [
              "(0.001, 100.0)"
            ]
          },
          "metadata": {},
          "execution_count": 51
        },
        {
          "output_type": "execute_result",
          "data": {
            "text/plain": [
              "<matplotlib.legend.Legend at 0x7f97219b9870>"
            ]
          },
          "metadata": {},
          "execution_count": 51
        },
        {
          "output_type": "display_data",
          "data": {
            "text/plain": [
              "<Figure size 1200x800 with 2 Axes>"
            ],
            "image/png": "[encoded data removed]"
          },
          "metadata": {}
        },
        {
          "output_type": "execute_result",
          "data": {
            "text/plain": [
              "<Figure size 800x600 with 0 Axes>"
            ]
          },
          "metadata": {},
          "execution_count": 51
        },
        {
          "output_type": "execute_result",
          "data": {
            "text/plain": [
              "[<matplotlib.lines.Line2D at 0x7f97320f20b0>]"
            ]
          },
          "metadata": {},
          "execution_count": 51
        },
        {
          "output_type": "execute_result",
          "data": {
            "text/plain": [
              "[<matplotlib.lines.Line2D at 0x7f97320f10f0>]"
            ]
          },
          "metadata": {},
          "execution_count": 51
        },
        {
          "output_type": "execute_result",
          "data": {
            "text/plain": [
              "Text(0.5, 0, 'Epoch')"
            ]
          },
          "metadata": {},
          "execution_count": 51
        },
        {
          "output_type": "execute_result",
          "data": {
            "text/plain": [
              "Text(0, 0.5, 'MSE')"
            ]
          },
          "metadata": {},
          "execution_count": 51
        },
        {
          "output_type": "execute_result",
          "data": {
            "text/plain": [
              "(1e-07, 1.0)"
            ]
          },
          "metadata": {},
          "execution_count": 51
        },
        {
          "output_type": "execute_result",
          "data": {
            "text/plain": [
              "<matplotlib.legend.Legend at 0x7f96cdf6dcf0>"
            ]
          },
          "metadata": {},
          "execution_count": 51
        },
        {
          "output_type": "display_data",
          "data": {
            "text/plain": [
              "<Figure size 800x600 with 1 Axes>"
            ],
            "image/png": "[encoded data removed]"
          },
          "metadata": {}
        }
      ],
      "source": [
        "# Plotting the losses and metrics for the best network \n",
        "plt.figure(figsize=(12, 8))\n",
        "#plt.subplot(2, 2, 1)\n",
        "#plt.plot(train_losses, label=\"Train Loss\")\n",
        "#plt.plot(test_losses, label=\"Test Loss\")\n",
        "#plt.xlabel(\"Epoch\")\n",
        "#plt.ylabel(\"Loss\")\n",
        "#plt.legend()\n",
        "plt.subplot(2, 2, 2)\n",
        "plt.plot([m[\"l1_norm\"] for m in train_metrics], label=\"Train L1 Norm\")\n",
        "plt.plot([m[\"l1_norm\"] for m in test_metrics], label=\"Test L1 Norm\")\n",
        "plt.xlabel(\"Epoch\")\n",
        "plt.ylabel(\"L1 Norm\")\n",
        "# Added setting the vertical axis to be in powers of 10\n",
        "plt.yscale(\"log\")\n",
        "# Added setting the vertical axis limits to be from 10^-7 to 10^0\n",
        "plt.ylim(1e-3, 1e2)\n",
        "plt.legend()\n",
        "plt.subplot(2, 2, 3)\n",
        "plt.plot([m[\"linf_norm\"] for m in train_metrics], label=\"Train Linf Norm\")\n",
        "plt.plot([m[\"linf_norm\"] for m in test_metrics], label=\"Test Linf Norm\")\n",
        "plt.xlabel(\"Epoch\")\n",
        "plt.ylabel(\"Linf Norm\")\n",
        "# Added setting the vertical axis to be in powers of 10\n",
        "plt.yscale(\"log\")\n",
        "# Added setting the vertical axis limits to be from 10^-7 to 10^0\n",
        "plt.ylim(1e-3, 1e2)\n",
        "plt.legend()\n",
        "plt.tight_layout()\n",
        "plt.show()\n",
        "\n",
        "# Added plotting MSE of training data and MSE of test data in one plot \n",
        "plt.figure(figsize=(8, 6))\n",
        "plt.plot(train_losses,label=\"training data\")\n",
        "plt.plot(test_losses,label=\"test data\")\n",
        "#if scheduler is not None:\n",
        "#    plt.plot([scheduler.get_last_lr()[0] for _ in range(n_epochs)], label=\"Learning rate\") \n",
        "plt.xlabel(\"Epoch\")\n",
        "plt.ylabel(\"MSE\")\n",
        "# Added setting the vertical axis to be in powers of 10\n",
        "plt.yscale(\"log\")\n",
        "# Added setting the vertical axis limits to be from 10^-7 to 10^0\n",
        "plt.ylim(1e-7, 1e0)\n",
        "plt.legend()\n",
        "plt.show()"
      ]
    },
    {
      "cell_type": "markdown",
      "metadata": {
        "id": "ur-wnU12Ij4T"
      },
      "source": [
        "## Loading"
      ]
    },
    {
      "cell_type": "code",
      "execution_count": null,
      "metadata": {
        "id": "lcQYVPnoIj4U",
        "outputId": "3180d7bc-5f63-4e1b-b08e-416eb78c6515",
        "colab": {
          "base_uri": "https://localhost:8080/"
        }
      },
      "outputs": [
        {
          "output_type": "execute_result",
          "data": {
            "text/plain": [
              "<All keys matched successfully>"
            ]
          },
          "metadata": {},
          "execution_count": 52
        }
      ],
      "source": [
        "import json\n",
        "import pandas as pd\n",
        "\n",
        "# load the dictionary from the .json file\n",
        "with open(\"var_dict.json\", \"r\") as f:\n",
        "  var_dict_loaded = json.load(f)\n",
        "\n",
        "# extract the variables from the dictionary\n",
        "batch_size_loaded = var_dict_loaded[\"batch_size\"]\n",
        "n_epochs_loaded = var_dict_loaded[\"n_epochs\"]\n",
        "loss_name_loaded = var_dict_loaded[\"loss_name\"]\n",
        "optimizer_name_loaded = var_dict_loaded[\"optimizer_name\"]\n",
        "scheduler_name_loaded = var_dict_loaded[\"scheduler_name\"]\n",
        "n_units_loaded = var_dict_loaded[\"n_units\"]\n",
        "n_layers_loaded = var_dict_loaded[\"n_layers\"]\n",
        "hidden_activation_name_loaded = var_dict_loaded[\"hidden_activation_name\"]\n",
        "output_activation_name_loaded = var_dict_loaded[\"output_activation_name\"]\n",
        "lr_loaded = var_dict_loaded[\"lr\"]\n",
        "\n",
        "# create the activation functions from their names\n",
        "if hidden_activation_name_loaded == \"ReLU\":\n",
        "  hidden_activation_loaded = nn.ReLU()\n",
        "elif hidden_activation_name_loaded == \"LeakyReLU\":\n",
        "  hidden_activation_loaded = nn.LeakyReLU() \n",
        "elif hidden_activation_name_loaded == \"ELU\":\n",
        "  hidden_activation_loaded = nn.ELU() \n",
        "elif hidden_activation_name_loaded == \"Tanh\":\n",
        "  hidden_activation_loaded = nn.Tanh()\n",
        "else:\n",
        "  hidden_activation_loaded = nn.Sigmoid()\n",
        "\n",
        "if output_activation_name_loaded == \"ReLU\":\n",
        "    output_activation_loaded = nn.ReLU()\n",
        "elif output_activation_name_loaded == \"Softplus\":\n",
        "    output_activation_loaded = nn.Softplus()\n",
        "else:\n",
        "    output_activation_loaded = nn.Identity()\n",
        "\n",
        "\n",
        "\n",
        "# load the network from the .pth file\n",
        "net_loaded = Net(n_layers_loaded, n_units_loaded, hidden_activation_loaded, output_activation_loaded).to(device)\n",
        "net_loaded.load_state_dict(torch.load(\"net.pth\"))\n",
        "\n",
        "# create the loss function from its name\n",
        "if loss_name_loaded == \"MSE\":\n",
        "  loss_fn_loaded = nn.MSELoss()\n",
        "elif loss_name_loaded == \"MAE\":\n",
        "  loss_fn_loaded = nn.L1Loss()\n",
        "elif loss_name_loaded == \"Huber\":\n",
        "  loss_fn_loaded = nn.SmoothL1Loss() \n",
        "else:\n",
        "  # create the log-cosh loss function\n",
        "  def log_cosh_loss_loaded(y_pred, y_true):\n",
        "    return torch.mean(torch.log(torch.cosh(y_pred - y_true)))\n",
        "  loss_fn_loaded = log_cosh_loss_loaded\n",
        "\n",
        "# load the optimizer from the .pth file\n",
        "optimizer_loaded_state_dict = torch.load(\"optimizer.pth\")\n",
        "if optimizer_name_loaded == \"SGD\":\n",
        "  # Added getting the weight decay and momentum parameters from the state dict\n",
        "  weight_decay_loaded = optimizer_loaded_state_dict[\"param_groups\"][0][\"weight_decay\"]\n",
        "  momentum_loaded = optimizer_loaded_state_dict[\"param_groups\"][0][\"momentum\"]\n",
        "  optimizer_loaded = optim.SGD(net_loaded.parameters(), lr=lr_loaded, weight_decay=weight_decay_loaded, momentum=momentum_loaded)\n",
        "elif optimizer_name_loaded == \"Adam\":\n",
        "  # Added getting the weight decay and beta parameters from the state dict\n",
        "  weight_decay_loaded = optimizer_loaded_state_dict[\"param_groups\"][0][\"weight_decay\"]\n",
        "  beta1_loaded = optimizer_loaded_state_dict[\"param_groups\"][0][\"betas\"][0]\n",
        "  beta2_loaded = optimizer_loaded_state_dict[\"param_groups\"][0][\"betas\"][1]\n",
        "  optimizer_loaded = optim.Adam(net_loaded.parameters(), lr=lr_loaded, weight_decay=weight_decay_loaded, betas=(beta1_loaded, beta2_loaded))\n",
        "elif optimizer_name_loaded == \"RMSprop\":\n",
        "  optimizer_loaded = optim.RMSprop(net_loaded.parameters(), lr=lr_loaded)\n",
        "else:\n",
        "  # Added loading the Adagrad optimizer\n",
        "  optimizer_loaded = optim.Adagrad(net_loaded.parameters(), lr=lr_loaded)\n",
        "optimizer_loaded.load_state_dict(optimizer_loaded_state_dict)\n",
        "\n",
        "# load the scheduler from the .pth file\n",
        "scheduler_loaded_state_dict = torch.load(\"scheduler.pth\")\n",
        "if scheduler_name_loaded == \"StepLR\":\n",
        "  # Added getting the step_size and gamma parameters from the state dict\n",
        "  step_size_loaded = scheduler_loaded_state_dict[\"step_size\"]\n",
        "  gamma_loaded = scheduler_loaded_state_dict[\"gamma\"]\n",
        "  scheduler_loaded = optim.lr_scheduler.StepLR(optimizer_loaded, step_size=step_size_loaded, gamma=gamma_loaded)\n",
        "elif scheduler_name_loaded == \"ExponentialLR\":\n",
        "  # Added getting the gamma parameter from the state dict\n",
        "  gamma_loaded = scheduler_loaded_state_dict[\"gamma\"]\n",
        "  scheduler_loaded = optim.lr_scheduler.ExponentialLR(optimizer_loaded, gamma=gamma_loaded)\n",
        "elif scheduler_name_loaded == \"CosineAnnealingLR\":\n",
        "  # Added getting the T_max parameter from the state dict\n",
        "  T_max_loaded = scheduler_loaded_state_dict[\"T_max\"]\n",
        "  scheduler_loaded = optim.lr_scheduler.CosineAnnealingLR(optimizer_loaded, T_max=T_max_loaded)\n",
        "elif scheduler_name_loaded == \"ReduceLROnPlateau\":\n",
        "  # Added getting the mode, factor, patience, threshold and min_lr parameters from the state dict\n",
        "  mode_loaded = scheduler_loaded_state_dict[\"mode\"]\n",
        "  factor_loaded = scheduler_loaded_state_dict[\"factor\"]\n",
        "  patience_loaded = scheduler_loaded_state_dict[\"patience\"]\n",
        "  threshold_loaded = scheduler_loaded_state_dict[\"threshold\"]\n",
        "  min_lr_loaded = scheduler_loaded_state_dict[\"min_lrs\"][0]\n",
        "  scheduler_loaded = optim.lr_scheduler.ReduceLROnPlateau(\n",
        "                    optimizer_loaded, mode=mode_loaded, factor=factor_loaded, patience=patience_loaded, threshold=threshold_loaded, min_lr=min_lr_loaded\n",
        "                )\n",
        "# elif scheduler_name_loaded == \"OneCycleLR\":\n",
        "#   max_lr_loaded = scheduler_loaded_state_dict[\"max_lr\"]\n",
        "#   epochs_loaded = scheduler_loaded_state_dict[\"epochs\"]\n",
        "#   steps_per_epoch_loaded = scheduler_loaded_state_dict[\"steps_per_epoch\"]\n",
        "#   pct_start_loaded = scheduler_loaded_state_dict[\"pct_start\"]\n",
        "#   max_lr_loaded = scheduler_loaded_state_dict[\"max_lr\"]\n",
        "#   scheduler_loaded = optim.lr_scheduler.OneCycleLR(\n",
        "#                     optimizer_loaded, max_lr=max_lr_loaded, epochs=epochs_loaded, steps_per_epoch=steps_per_epoch_loaded, pct_start=pct_start_loaded\n",
        "#                 )\n",
        "else:\n",
        "  scheduler_loaded = None\n",
        "\n",
        "if scheduler_loaded is not None:\n",
        "  # Added loading the state dict to the scheduler_loaded\n",
        "  scheduler_loaded.load_state_dict(scheduler_loaded_state_dict)\n",
        "\n",
        "# Loading the output of the training using pandas\n",
        "train_df_loaded = pd.read_csv(\"train_output.csv\")\n",
        "train_losses_loaded = train_df_loaded[\"train_loss\"].tolist()\n",
        "test_losses_loaded = train_df_loaded[\"test_loss\"].tolist()\n",
        "train_metrics_loaded = [\n",
        "    {\n",
        "        \"l1_norm\": train_df_loaded[\"train_l1_norm\"][i],\n",
        "        \"linf_norm\": train_df_loaded[\"train_linf_norm\"][i],\n",
        "    }\n",
        "    for i in range(len(train_df_loaded))\n",
        "]\n",
        "test_metrics_loaded = [\n",
        "    {\n",
        "        \"l1_norm\": train_df_loaded[\"test_l1_norm\"][i],\n",
        "        \"linf_norm\": train_df_loaded[\"test_linf_norm\"][i],\n",
        "    }\n",
        "    for i in range(len(train_df_loaded))\n",
        "]"
      ]
    },
    {
      "cell_type": "code",
      "execution_count": null,
      "metadata": {
        "id": "X6e8q0glIj4V",
        "outputId": "acbeffd3-04fd-4597-eafb-e42727786a50",
        "colab": {
          "base_uri": "https://localhost:8080/",
          "height": 1000
        }
      },
      "outputs": [
        {
          "output_type": "execute_result",
          "data": {
            "text/plain": [
              "32"
            ]
          },
          "metadata": {},
          "execution_count": 53
        },
        {
          "output_type": "execute_result",
          "data": {
            "text/plain": [
              "400"
            ]
          },
          "metadata": {},
          "execution_count": 53
        },
        {
          "output_type": "execute_result",
          "data": {
            "text/plain": [
              "'MSE'"
            ],
            "application/vnd.google.colaboratory.intrinsic+json": {
              "type": "string"
            }
          },
          "metadata": {},
          "execution_count": 53
        },
        {
          "output_type": "execute_result",
          "data": {
            "text/plain": [
              "'Adam'"
            ],
            "application/vnd.google.colaboratory.intrinsic+json": {
              "type": "string"
            }
          },
          "metadata": {},
          "execution_count": 53
        },
        {
          "output_type": "execute_result",
          "data": {
            "text/plain": [
              "'ReduceLROnPlateau'"
            ],
            "application/vnd.google.colaboratory.intrinsic+json": {
              "type": "string"
            }
          },
          "metadata": {},
          "execution_count": 53
        },
        {
          "output_type": "execute_result",
          "data": {
            "text/plain": [
              "[600, 200]"
            ]
          },
          "metadata": {},
          "execution_count": 53
        },
        {
          "output_type": "execute_result",
          "data": {
            "text/plain": [
              "2"
            ]
          },
          "metadata": {},
          "execution_count": 53
        },
        {
          "output_type": "execute_result",
          "data": {
            "text/plain": [
              "'Sigmoid'"
            ],
            "application/vnd.google.colaboratory.intrinsic+json": {
              "type": "string"
            }
          },
          "metadata": {},
          "execution_count": 53
        },
        {
          "output_type": "execute_result",
          "data": {
            "text/plain": [
              "'ReLU'"
            ],
            "application/vnd.google.colaboratory.intrinsic+json": {
              "type": "string"
            }
          },
          "metadata": {},
          "execution_count": 53
        },
        {
          "output_type": "execute_result",
          "data": {
            "text/plain": [
              "0.006"
            ]
          },
          "metadata": {},
          "execution_count": 53
        },
        {
          "output_type": "execute_result",
          "data": {
            "text/plain": [
              "Sigmoid()"
            ]
          },
          "metadata": {},
          "execution_count": 53
        },
        {
          "output_type": "execute_result",
          "data": {
            "text/plain": [
              "ReLU()"
            ]
          },
          "metadata": {},
          "execution_count": 53
        },
        {
          "output_type": "execute_result",
          "data": {
            "text/plain": [
              "Net(\n",
              "  (hidden_activation): Sigmoid()\n",
              "  (output_activation): ReLU()\n",
              "  (layers): ModuleList(\n",
              "    (0): Linear(in_features=3, out_features=600, bias=True)\n",
              "    (1): Linear(in_features=600, out_features=200, bias=True)\n",
              "    (2): Linear(in_features=200, out_features=1, bias=True)\n",
              "  )\n",
              ")"
            ]
          },
          "metadata": {},
          "execution_count": 53
        },
        {
          "output_type": "execute_result",
          "data": {
            "text/plain": [
              "{'training': True,\n",
              " '_parameters': OrderedDict(),\n",
              " '_buffers': OrderedDict(),\n",
              " '_non_persistent_buffers_set': set(),\n",
              " '_backward_pre_hooks': OrderedDict(),\n",
              " '_backward_hooks': OrderedDict(),\n",
              " '_is_full_backward_hook': None,\n",
              " '_forward_hooks': OrderedDict(),\n",
              " '_forward_hooks_with_kwargs': OrderedDict(),\n",
              " '_forward_pre_hooks': OrderedDict(),\n",
              " '_forward_pre_hooks_with_kwargs': OrderedDict(),\n",
              " '_state_dict_hooks': OrderedDict(),\n",
              " '_state_dict_pre_hooks': OrderedDict(),\n",
              " '_load_state_dict_pre_hooks': OrderedDict(),\n",
              " '_load_state_dict_post_hooks': OrderedDict(),\n",
              " '_modules': OrderedDict([('hidden_activation', Sigmoid()),\n",
              "              ('output_activation', ReLU()),\n",
              "              ('layers',\n",
              "               ModuleList(\n",
              "                 (0): Linear(in_features=3, out_features=600, bias=True)\n",
              "                 (1): Linear(in_features=600, out_features=200, bias=True)\n",
              "                 (2): Linear(in_features=200, out_features=1, bias=True)\n",
              "               ))]),\n",
              " 'n_layers': 2,\n",
              " 'n_units': [600, 200]}"
            ]
          },
          "metadata": {},
          "execution_count": 53
        },
        {
          "output_type": "execute_result",
          "data": {
            "text/plain": [
              "MSELoss()"
            ]
          },
          "metadata": {},
          "execution_count": 53
        },
        {
          "output_type": "execute_result",
          "data": {
            "text/plain": [
              "Adam (\n",
              "Parameter Group 0\n",
              "    amsgrad: False\n",
              "    betas: (0.9, 0.999)\n",
              "    capturable: False\n",
              "    differentiable: False\n",
              "    eps: 1e-08\n",
              "    foreach: None\n",
              "    fused: None\n",
              "    lr: 1e-06\n",
              "    maximize: False\n",
              "    weight_decay: 0\n",
              ")"
            ]
          },
          "metadata": {},
          "execution_count": 53
        },
        {
          "output_type": "execute_result",
          "data": {
            "text/plain": [
              "{'defaults': {'lr': 0.006,\n",
              "  'betas': (0.9, 0.999),\n",
              "  'eps': 1e-08,\n",
              "  'weight_decay': 0,\n",
              "  'amsgrad': False,\n",
              "  'maximize': False,\n",
              "  'foreach': None,\n",
              "  'capturable': False,\n",
              "  'differentiable': False,\n",
              "  'fused': None},\n",
              " '_optimizer_step_pre_hooks': OrderedDict(),\n",
              " '_optimizer_step_post_hooks': OrderedDict(),\n",
              " '_zero_grad_profile_name': 'Optimizer.zero_grad#Adam.zero_grad',\n",
              " 'state': defaultdict(dict,\n",
              "             {Parameter containing:\n",
              "              tensor([[-0.2722, -0.0705, -1.5562],\n",
              "                      [-0.0172,  0.1825, -0.4055],\n",
              "                      [-2.6687, -1.1891, -2.5993],\n",
              "                      ...,\n",
              "                      [-1.3661, -0.0781, -0.1538],\n",
              "                      [-1.6899, -0.3346, -1.9093],\n",
              "                      [-2.5615, -2.2108, -1.3045]], device='cuda:0', requires_grad=True): {'step': tensor(1000000.),\n",
              "               'exp_avg': tensor([[-8.3400e-09, -2.7079e-08, -2.1070e-08],\n",
              "                       [-3.0181e-05,  5.0157e-05, -3.5670e-06],\n",
              "                       [-5.9216e-10,  3.6701e-09,  3.5775e-09],\n",
              "                       ...,\n",
              "                       [ 8.4211e-09, -4.8017e-08, -1.7088e-08],\n",
              "                       [-1.3010e-11,  4.0687e-10, -6.0860e-10],\n",
              "                       [ 2.3253e-12,  1.0611e-10,  8.3341e-11]], device='cuda:0'),\n",
              "               'exp_avg_sq': tensor([[4.2542e-13, 4.5039e-14, 1.0391e-13],\n",
              "                       [4.4836e-08, 7.1718e-08, 1.5515e-07],\n",
              "                       [2.3681e-15, 1.6531e-15, 1.9501e-15],\n",
              "                       ...,\n",
              "                       [3.0959e-14, 2.3208e-14, 7.9621e-14],\n",
              "                       [3.8895e-16, 1.9099e-16, 3.0166e-16],\n",
              "                       [1.2039e-18, 8.4203e-19, 9.9856e-19]], device='cuda:0')},\n",
              "              Parameter containing:\n",
              "              tensor([-7.8624e-01,  3.1567e+00, -1.3269e+00, -2.8109e+00, -5.1094e+00,\n",
              "                      -3.1416e+00, -1.2849e-01, -2.9757e+00, -1.5537e+00,  9.2435e-01,\n",
              "                      -2.7367e+00,  9.9552e-01, -4.0528e+00, -6.0111e+00, -5.3704e-01,\n",
              "                       3.4808e+00, -1.5455e+00, -3.0227e+00, -2.8856e+00,  8.4397e-01,\n",
              "                      -3.6928e+00, -4.1940e+00, -4.0101e+00, -2.6662e+00,  2.7377e+00,\n",
              "                      -4.8101e+00,  1.3717e+00,  5.2679e-01, -2.6176e+00, -4.3976e+00,\n",
              "                       2.7426e+00, -7.9713e-01, -2.4712e+00, -3.1090e+00, -4.4395e+00,\n",
              "                      -5.5351e-02, -1.9874e+00, -5.7510e+00, -1.4007e+00, -1.2942e+00,\n",
              "                      -2.9856e-01,  1.6236e+00, -1.8571e+00, -3.0420e+00, -2.8026e+00,\n",
              "                      -4.2604e+00, -2.7382e+00,  1.1320e+00, -2.0415e+00, -3.6208e+00,\n",
              "                      -3.6999e+00, -1.9195e+00, -1.2300e+00,  2.0642e+00,  1.2669e+00,\n",
              "                       2.6251e+00, -2.9073e+00, -4.4743e+00, -1.4101e+00,  2.1696e+00,\n",
              "                      -3.8908e+00, -9.1786e-01, -5.2837e+00, -2.2446e+00, -5.7104e+00,\n",
              "                      -3.0193e+00, -1.4152e+00, -4.3862e+00, -3.1073e+00, -6.1302e-01,\n",
              "                      -1.7259e+00, -5.6155e+00, -9.2849e-01, -1.5436e+00, -4.1214e+00,\n",
              "                      -3.0737e+00,  1.3747e+00, -4.5736e+00,  2.6357e+00,  3.1766e+00,\n",
              "                       1.8881e+00, -6.8497e+00, -4.9727e+00, -4.2758e+00, -4.1210e+00,\n",
              "                      -5.3823e+00, -5.0875e-01, -2.9729e+00,  6.5385e-01,  9.6130e-01,\n",
              "                      -1.8151e+00, -1.6066e+00, -5.3457e+00, -4.0116e+00,  1.0999e+00,\n",
              "                      -4.6919e+00,  2.9649e+00, -3.1043e+00,  9.3726e-01, -1.5402e+00,\n",
              "                      -2.6544e+00, -4.6181e+00, -1.7855e+00, -2.5008e+00, -5.2209e+00,\n",
              "                      -2.3409e+00, -5.8093e+00, -2.0173e+00,  1.8067e-01, -2.0841e+00,\n",
              "                      -1.1300e+00, -2.8737e+00, -2.3127e+00, -2.4460e+00, -3.8410e+00,\n",
              "                      -2.4969e-02, -1.4156e-01, -8.0025e-01, -2.2427e+00, -4.2033e+00,\n",
              "                      -3.7886e+00, -9.4104e-01,  5.8921e-01, -2.1138e+00, -1.4209e+00,\n",
              "                      -2.3447e+00, -5.7709e+00, -8.8977e-02,  1.7496e+00,  3.4158e+00,\n",
              "                      -2.6041e+00, -1.9404e+00, -4.5169e+00, -2.6272e+00, -2.5060e+00,\n",
              "                      -5.9486e+00,  9.8520e-01, -7.0522e-01, -4.9046e+00, -5.5716e+00,\n",
              "                      -2.1920e+00, -4.9192e+00, -2.2436e+00, -5.2071e+00, -3.3976e+00,\n",
              "                      -9.1640e-01, -8.8137e-01, -4.3886e+00, -5.0229e+00,  1.6731e-01,\n",
              "                      -2.3109e+00, -1.5931e+00, -2.0339e+00, -2.3101e+00,  1.7848e-01,\n",
              "                      -1.1998e+00,  1.9240e+00, -5.8547e+00, -3.9710e+00, -1.2172e+00,\n",
              "                      -2.7936e+00, -1.1023e+00, -6.0543e-01, -1.3211e+00, -1.1869e+00,\n",
              "                      -2.1086e+00, -3.7146e+00, -9.1936e-01, -2.1445e+00, -1.2666e+00,\n",
              "                      -5.5141e+00,  1.9490e+00, -7.1113e-01, -6.6038e-02, -6.0452e+00,\n",
              "                      -4.1070e+00, -4.3015e+00, -2.8646e+00, -2.9829e+00, -1.8511e+00,\n",
              "                      -2.3772e-01, -2.0599e+00,  1.0787e+00,  2.0407e+00, -5.7501e+00,\n",
              "                      -2.8869e+00, -3.4279e+00, -2.3408e+00, -3.5812e+00, -1.9976e+00,\n",
              "                       2.1959e+00, -3.1192e+00,  3.0127e+00, -5.9417e+00, -2.7826e+00,\n",
              "                      -6.2359e-01,  2.4392e+00,  1.4515e+00, -5.6857e-01, -2.5201e+00,\n",
              "                      -6.0676e+00, -5.0850e+00, -1.1264e+00, -5.1636e+00, -2.6391e+00,\n",
              "                      -5.7686e+00, -2.2865e+00, -1.1981e+00, -1.1288e+00, -6.7340e-01,\n",
              "                      -2.7398e+00, -4.0956e+00, -9.0136e-01, -1.1161e+00, -5.9937e+00,\n",
              "                       1.5171e+00, -3.6298e+00,  1.9669e+00,  1.9454e+00,  1.1896e+00,\n",
              "                      -1.5605e+00, -6.1181e+00, -4.8664e+00, -1.4571e+00,  1.9842e+00,\n",
              "                       2.0335e+00,  1.5034e+00, -3.1585e+00, -1.4009e+00,  1.8765e+00,\n",
              "                      -1.7579e+00, -2.3613e+00, -9.1517e-01, -1.8871e+00, -2.1200e+00,\n",
              "                      -1.4448e+00, -2.0211e+00, -1.0062e+00, -3.1664e+00, -2.2256e+00,\n",
              "                      -2.1201e+00,  2.3456e+00, -1.7605e+00, -3.1409e-01, -1.3165e+00,\n",
              "                       1.3389e+00, -1.1297e+00, -2.9893e+00, -1.3609e+00, -1.4722e+00,\n",
              "                      -3.9673e+00, -7.4825e-01, -2.0217e+00,  3.5040e-01, -5.7551e+00,\n",
              "                      -2.4170e-01, -1.8551e+00,  7.9941e-01, -1.0737e+00, -2.5882e+00,\n",
              "                      -2.7308e+00, -6.3780e+00,  4.9462e-01, -1.2970e+00, -2.3838e+00,\n",
              "                      -2.1955e+00,  2.8599e+00, -5.3515e+00, -2.7535e+00, -1.4498e+00,\n",
              "                      -3.2511e-01, -2.6447e+00, -2.5458e+00,  1.2518e+00, -2.9705e+00,\n",
              "                      -4.6366e+00,  9.3322e-02, -1.5081e+00, -2.8151e+00,  1.0636e+00,\n",
              "                      -1.2168e+00, -1.1770e+00, -2.6015e+00, -1.8791e+00, -9.6303e-01,\n",
              "                      -6.3277e+00,  4.7267e-01,  5.4254e-01, -1.2464e+00,  8.6547e-01,\n",
              "                       2.7022e+00, -2.1919e+00, -1.7797e+00, -1.2467e+00, -8.2668e-01,\n",
              "                      -1.7619e+00, -1.3374e+00,  4.3975e-01, -1.1502e+00, -3.9301e+00,\n",
              "                      -1.6323e+00, -4.7055e+00, -1.3795e+00, -5.1548e+00, -5.1216e+00,\n",
              "                      -5.9894e+00, -2.0135e+00,  1.0220e+00, -2.3883e+00, -5.4399e+00,\n",
              "                      -6.2396e-01, -2.1559e+00, -2.7251e+00,  1.3036e+00, -1.2802e+00,\n",
              "                      -5.7139e+00, -3.9780e+00, -1.2263e+00, -5.2516e+00, -3.1121e-01,\n",
              "                      -2.9792e+00,  2.5471e+00, -3.7495e+00, -6.4787e+00, -3.0362e+00,\n",
              "                      -4.6158e+00, -3.7840e+00, -2.0126e+00, -1.0390e+00, -3.3562e+00,\n",
              "                       2.4376e-01, -2.3459e+00,  1.8357e+00, -1.4846e+00, -2.1751e+00,\n",
              "                       8.6133e-01, -1.4046e+00, -4.6082e+00, -2.6691e+00, -3.3581e+00,\n",
              "                      -7.5542e-01, -5.3090e+00, -1.0418e+00, -3.4711e+00, -2.6267e+00,\n",
              "                      -5.8864e+00, -3.9576e+00, -2.5904e-01,  3.3909e+00, -1.1283e+00,\n",
              "                      -5.3160e+00,  9.8410e-03, -5.0716e+00,  5.3489e-02, -4.4700e+00,\n",
              "                      -2.5464e+00, -2.3294e+00, -5.3164e-01,  2.7115e+00, -5.5902e+00,\n",
              "                      -2.6499e+00,  1.2093e+00, -3.5167e+00, -5.0930e+00, -1.1975e+00,\n",
              "                      -3.7677e+00, -5.1955e+00,  2.8371e+00, -2.1400e+00, -1.1394e+00,\n",
              "                      -3.9211e+00,  1.6667e-01, -1.4815e+00, -1.2979e+00,  2.7953e+00,\n",
              "                       2.9387e+00,  2.7780e+00,  1.9988e+00, -7.2438e-01, -2.5008e+00,\n",
              "                       2.6227e+00, -4.5927e+00, -2.1065e+00, -1.0457e+00, -1.0770e+00,\n",
              "                      -1.4345e+00, -3.0443e+00,  2.7719e+00, -4.1298e+00, -2.3700e-01,\n",
              "                      -4.0260e+00,  2.6298e-01, -5.1462e-01, -1.6919e+00, -2.4932e+00,\n",
              "                      -3.4496e-01, -4.0848e+00, -2.1913e+00, -1.1049e+00, -6.0132e+00,\n",
              "                       1.2549e+00, -4.5719e+00, -1.7076e+00,  4.8189e-01, -3.5647e+00,\n",
              "                      -1.8250e-01, -5.0175e+00, -5.8732e+00,  1.4485e+00, -4.0357e+00,\n",
              "                      -2.1295e+00, -4.3688e+00, -5.5040e+00, -2.4022e+00, -2.1389e+00,\n",
              "                      -8.9794e-02, -2.3690e+00, -5.7524e+00, -6.8422e-01, -4.2803e+00,\n",
              "                      -4.0733e+00, -3.0363e+00, -3.5815e-01, -2.5498e-01, -2.8037e+00,\n",
              "                       5.4541e-02, -2.6620e+00, -7.6482e-01, -2.7162e+00, -1.6220e+00,\n",
              "                      -2.1207e+00,  2.4149e+00, -2.1100e+00, -4.1554e+00, -1.7330e+00,\n",
              "                      -1.9583e+00,  2.3847e-01, -3.7058e+00, -1.2963e+00, -2.6440e+00,\n",
              "                      -3.6430e+00, -5.1435e+00, -1.9171e+00, -3.1346e+00, -4.5042e+00,\n",
              "                      -4.0837e+00, -1.8931e+00, -1.8018e+00, -1.9456e+00, -3.7728e+00,\n",
              "                      -4.9819e+00, -4.3125e+00, -7.6318e-01, -4.1845e+00,  4.8320e-02,\n",
              "                      -1.8412e+00, -1.5269e+00, -5.5388e+00, -3.0296e+00, -2.2053e+00,\n",
              "                      -3.4922e+00, -1.0274e+00, -1.6122e+00, -2.7439e+00, -4.5145e+00,\n",
              "                      -9.7456e-01,  2.0531e+00, -3.2584e+00, -1.5137e+00, -5.9879e-02,\n",
              "                      -2.3721e+00, -2.6127e-01, -1.9507e+00,  8.9341e-01,  1.3876e+00,\n",
              "                      -3.2928e+00, -9.2275e-01,  2.8066e+00,  2.3472e+00, -4.0992e+00,\n",
              "                      -4.8308e+00,  1.6389e-01, -6.4060e+00, -1.3167e+00, -3.7419e+00,\n",
              "                      -2.1903e+00,  6.5382e-03, -4.8001e-01, -3.9763e+00, -1.6969e+00,\n",
              "                      -1.1607e+00, -3.6681e+00, -2.7645e-01,  2.2676e+00, -9.2136e-01,\n",
              "                      -5.0099e+00, -3.8368e+00,  2.1256e+00, -4.0795e+00, -1.2863e+00,\n",
              "                      -1.0710e+00, -2.9470e+00,  1.1895e+00, -3.6466e+00, -5.4541e+00,\n",
              "                      -6.1202e+00, -9.6161e-01, -5.2095e+00,  1.1914e+00, -2.8441e+00,\n",
              "                      -3.6204e+00, -2.1755e+00, -2.0045e+00,  3.5485e-01, -4.7674e-01,\n",
              "                      -4.0229e+00, -6.0799e+00, -9.7767e-01,  9.3275e-02, -5.9095e+00,\n",
              "                      -4.8930e+00, -3.1160e+00, -2.6225e-01, -2.6143e-01, -1.3205e+00,\n",
              "                      -2.8143e+00, -3.1068e+00,  3.5257e+00, -3.6277e+00, -5.6710e+00,\n",
              "                      -2.1837e+00, -1.7056e+00, -6.5983e+00, -2.0368e+00,  1.1565e-01,\n",
              "                      -3.4745e+00, -1.7323e+00, -4.8718e+00, -1.7357e+00, -2.8528e+00,\n",
              "                       1.1808e+00, -8.9450e-01,  2.4145e-02, -5.1826e+00, -1.5470e+00,\n",
              "                      -3.6800e+00, -6.7588e-01, -4.8153e+00, -3.5172e+00, -3.7557e+00,\n",
              "                       1.0695e+00, -1.8568e+00,  1.1899e+00, -4.5674e+00, -3.1626e+00,\n",
              "                       1.3944e+00, -5.6758e+00, -1.2934e+00, -2.3790e-01, -2.8364e+00,\n",
              "                      -2.5227e+00, -2.0930e+00, -2.0050e+00, -4.0487e+00, -3.6489e+00,\n",
              "                      -6.7875e+00, -1.0637e+00,  1.0406e+00, -3.5590e+00, -3.4566e+00,\n",
              "                       1.7111e+00, -1.9206e+00, -4.9706e-01, -5.5258e-01,  1.6484e+00,\n",
              "                      -5.1877e+00,  2.8495e+00, -1.1851e+00, -3.4222e+00, -1.6747e+00,\n",
              "                      -2.9321e+00, -8.9165e-01,  1.4519e+00, -8.6471e-01, -2.4651e+00,\n",
              "                       1.9079e+00, -3.8618e+00, -6.3645e+00, -3.9515e+00,  5.0015e-01,\n",
              "                      -1.8623e+00, -6.2729e+00, -5.6247e+00, -5.7058e+00, -4.1105e+00,\n",
              "                       1.2008e+00, -5.1131e+00, -2.9587e+00, -3.0577e+00, -4.9235e+00],\n",
              "                     device='cuda:0', requires_grad=True): {'step': tensor(1000000.),\n",
              "               'exp_avg': tensor([ 2.0247e-08, -2.0041e-06,  1.5392e-08,  1.8011e-09,  2.8541e-10,\n",
              "                        2.6148e-09,  1.5642e-08,  3.0911e-09,  1.3617e-07, -1.8935e-06,\n",
              "                        3.2716e-09,  1.0353e-06,  9.2144e-10, -2.0521e-09, -9.1159e-07,\n",
              "                        1.8815e-07,  4.5399e-09, -4.3670e-09,  2.9205e-09,  5.7546e-07,\n",
              "                        1.2360e-09,  5.1441e-10,  5.6719e-10,  3.7069e-09, -4.6853e-06,\n",
              "                        3.8245e-10,  2.0506e-06,  3.4891e-08,  3.4807e-09,  7.6536e-10,\n",
              "                       -6.9454e-07, -1.0829e-08,  4.6870e-09,  2.8573e-09,  6.3974e-10,\n",
              "                        2.7731e-07,  8.5145e-09,  1.3396e-10, -1.7432e-08,  2.0247e-08,\n",
              "                       -2.9216e-07, -2.0371e-06,  3.0179e-10,  2.8300e-09, -5.3687e-08,\n",
              "                        7.7340e-10,  3.9096e-09, -4.5955e-08, -1.6410e-07,  1.4324e-09,\n",
              "                        9.2831e-11,  1.8351e-08,  8.6307e-09, -1.4818e-06,  1.7027e-06,\n",
              "                        4.4355e-06, -3.9672e-09,  3.6131e-10,  1.3120e-08, -2.4257e-06,\n",
              "                        1.1386e-09,  4.3828e-10,  2.5457e-10,  5.1691e-09,  1.4663e-10,\n",
              "                        2.7477e-09,  1.0171e-08,  1.8014e-10,  2.7164e-09,  4.2101e-07,\n",
              "                       -3.0981e-08,  1.8212e-10,  7.0681e-09, -1.5746e-07,  8.9305e-10,\n",
              "                        2.9015e-09,  1.2114e-06,  4.0823e-10, -5.7387e-07, -5.7364e-06,\n",
              "                        2.5825e-06,  5.1941e-11,  1.3389e-10,  7.9955e-10,  9.4494e-10,\n",
              "                        3.4168e-12,  8.6028e-08,  3.0119e-09, -1.7448e-06, -5.7260e-07,\n",
              "                        3.0038e-08,  3.1050e-09,  1.9489e-10,  1.0698e-09,  1.4412e-06,\n",
              "                        5.2063e-10,  6.3180e-06, -8.3326e-10,  1.3807e-06,  9.8257e-09,\n",
              "                        4.5644e-09,  5.7405e-10,  4.9349e-08,  4.9361e-09,  2.0149e-10,\n",
              "                        4.9428e-10,  1.3028e-10,  4.0729e-09,  5.6158e-07, -1.5621e-07,\n",
              "                        1.2793e-09,  4.4800e-09,  7.0271e-09,  5.7239e-09,  1.1817e-09,\n",
              "                        2.8817e-07,  2.1568e-08,  3.6531e-09,  9.2007e-09, -4.8571e-11,\n",
              "                        1.3136e-09,  1.2676e-08,  1.4148e-06,  4.7530e-09, -1.2848e-08,\n",
              "                       -1.1436e-06,  1.5461e-10, -7.6656e-08, -8.5439e-07, -3.8392e-06,\n",
              "                        4.3080e-09,  1.0131e-08,  6.5126e-10, -2.2319e-09,  4.7449e-09,\n",
              "                       -1.6625e-09, -2.3520e-07,  1.2352e-08,  4.4553e-11,  1.8595e-10,\n",
              "                       -7.5733e-07,  1.6662e-10,  6.1822e-09,  1.3220e-10, -1.3866e-09,\n",
              "                        1.4040e-08,  6.1835e-09,  6.4145e-10,  2.4468e-10,  1.0986e-06,\n",
              "                       -1.6062e-07,  7.7362e-08, -4.5239e-08,  5.8763e-09,  8.2693e-08,\n",
              "                        3.2174e-08,  2.8294e-06,  7.4502e-11, -2.9694e-07,  6.4275e-09,\n",
              "                        4.0688e-09,  2.8098e-07,  4.2152e-09, -1.5719e-08, -3.7693e-06,\n",
              "                        2.5383e-08, -2.0910e-08,  2.3168e-08,  5.8478e-09,  1.0096e-07,\n",
              "                        1.7989e-10, -2.1347e-06,  1.7586e-08,  4.8690e-07,  1.1366e-10,\n",
              "                        1.0025e-09, -1.0714e-10, -1.7671e-08, -4.1035e-09,  5.3983e-09,\n",
              "                        1.1279e-09,  8.5408e-09, -1.3181e-06, -1.4947e-06,  1.4907e-10,\n",
              "                        3.6247e-09,  1.8342e-09,  5.8453e-09,  1.5641e-09,  1.0428e-09,\n",
              "                       -2.0501e-06,  2.2874e-09, -9.3917e-07,  1.1903e-10,  3.3509e-09,\n",
              "                       -2.7088e-07, -3.4078e-06, -3.7525e-08,  3.6196e-09,  4.7272e-09,\n",
              "                        1.0283e-10,  3.2782e-10, -6.1762e-08,  2.9097e-10,  4.5619e-09,\n",
              "                        1.7655e-10,  8.8528e-09,  1.1900e-08,  1.6434e-08,  8.5345e-08,\n",
              "                        3.0817e-09,  1.0646e-09,  1.2801e-08,  5.1857e-08,  1.1917e-10,\n",
              "                        2.6127e-06,  1.3996e-09,  9.2683e-07, -2.0229e-06, -2.8068e-06,\n",
              "                        8.9200e-09,  8.8704e-11,  3.6226e-11, -4.0466e-08, -1.6903e-06,\n",
              "                       -1.3466e-06, -2.4499e-07,  2.7723e-09,  9.5517e-09,  2.4096e-06,\n",
              "                        7.2715e-09,  1.9578e-09,  1.3525e-08,  8.3209e-09,  4.2996e-09,\n",
              "                        3.4751e-09,  4.7474e-09,  6.9532e-09,  2.8883e-09,  6.5203e-09,\n",
              "                       -3.9108e-08,  2.6327e-06, -5.1290e-10, -5.0385e-08,  5.5120e-09,\n",
              "                       -1.5961e-07,  3.3236e-07,  1.7746e-09,  9.8846e-10,  5.7645e-10,\n",
              "                        1.0420e-09, -9.4271e-09, -1.5938e-10,  8.7358e-07,  1.5271e-10,\n",
              "                        1.1209e-08,  2.8062e-08, -6.6637e-07,  6.1605e-08,  4.1602e-09,\n",
              "                        3.7543e-09,  7.9216e-11, -1.4453e-07,  7.0295e-07, -1.1359e-07,\n",
              "                        2.9142e-06,  5.9411e-06,  2.4107e-10, -1.0628e-08,  3.1649e-09,\n",
              "                        5.4625e-09,  4.3758e-09,  5.3225e-09,  1.5255e-06, -1.6743e-09,\n",
              "                        5.8386e-10,  2.0374e-08,  5.9455e-09,  3.3679e-09,  1.3497e-06,\n",
              "                        6.9196e-09,  9.9416e-09, -5.8139e-10,  3.1470e-09, -2.2662e-06,\n",
              "                        4.9231e-11,  1.7322e-09, -5.8438e-09, -7.1074e-08,  1.0914e-07,\n",
              "                        4.3318e-06,  2.2503e-09, -1.8916e-08, -5.1078e-10, -7.0769e-09,\n",
              "                        6.7241e-09, -3.1959e-08,  6.2071e-08,  3.3012e-08,  2.9956e-12,\n",
              "                        8.1627e-09,  5.3039e-10,  2.4286e-08,  3.2663e-10, -7.1582e-11,\n",
              "                       -2.6159e-09,  3.7456e-09, -8.3197e-07,  9.2738e-09,  2.2040e-10,\n",
              "                       -8.0347e-07,  5.5365e-09,  4.2853e-09,  1.4393e-06, -4.4289e-08,\n",
              "                        1.6362e-10,  1.0980e-09,  9.5866e-09,  2.5820e-10, -2.6126e-07,\n",
              "                        3.0475e-09,  7.4034e-07,  1.4829e-09,  6.0848e-11, -5.2774e-08,\n",
              "                        5.3529e-10,  1.2451e-09,  8.5025e-09,  1.0862e-07,  2.2660e-09,\n",
              "                        2.5217e-06,  5.3434e-09,  4.7899e-07,  7.6731e-09,  3.6603e-09,\n",
              "                        1.2200e-06, -3.6302e-06,  5.8768e-10,  2.1465e-09,  2.1187e-09,\n",
              "                        6.1365e-09,  2.0101e-10,  4.4359e-09,  1.8264e-09,  2.7019e-09,\n",
              "                        1.3043e-10,  9.7431e-10,  4.1302e-09,  9.5873e-07,  6.6837e-09,\n",
              "                        2.4504e-10,  7.3236e-07,  3.2794e-10,  6.7457e-09,  1.3798e-10,\n",
              "                        5.3893e-09,  5.5582e-09,  1.1957e-08,  5.2472e-06, -2.7835e-09,\n",
              "                        3.3059e-09, -1.9694e-07, -9.3072e-09,  3.1887e-10,  6.3865e-08,\n",
              "                        1.4073e-09,  3.0305e-10,  5.4293e-06,  1.5038e-06,  6.1357e-08,\n",
              "                        1.2730e-09, -7.5678e-08, -3.2980e-06,  9.1906e-09, -5.0428e-06,\n",
              "                        5.0696e-06,  3.8639e-06,  2.4739e-06,  4.1412e-07,  3.4194e-09,\n",
              "                       -4.7882e-06,  5.1167e-10, -2.5621e-08,  6.3765e-09, -2.0307e-07,\n",
              "                       -2.9696e-08,  4.5744e-07, -4.9545e-06,  9.2010e-10, -4.1157e-07,\n",
              "                        1.1292e-09,  5.6092e-08,  1.0603e-08,  9.3689e-09,  3.4869e-09,\n",
              "                       -1.2930e-07,  8.8991e-10,  1.5582e-09,  1.0827e-07,  9.0571e-11,\n",
              "                        1.7144e-08,  5.9541e-10, -2.7960e-08,  3.6473e-08, -3.8606e-10,\n",
              "                       -9.5081e-07,  3.5254e-10, -2.8081e-09,  2.1762e-06, -1.8381e-09,\n",
              "                        4.7540e-09,  6.7394e-10,  1.9600e-10,  5.8308e-09,  7.2757e-09,\n",
              "                        1.2376e-08,  6.1311e-09,  1.5312e-10, -1.0705e-07,  7.6163e-10,\n",
              "                        1.0661e-09,  4.1109e-09,  1.5098e-08,  2.3285e-08,  3.5305e-09,\n",
              "                       -1.0211e-07,  3.0326e-09,  8.1138e-09,  3.8425e-09,  7.7299e-09,\n",
              "                        4.0959e-09, -4.3918e-06,  3.2497e-09,  9.4088e-10, -2.8245e-08,\n",
              "                        4.7096e-08, -2.7868e-09, -3.0967e-08,  1.3804e-08,  7.2309e-09,\n",
              "                        1.5658e-09,  2.8930e-10,  4.0180e-09, -8.4762e-10, -3.0447e-10,\n",
              "                        9.3557e-10,  1.4303e-07,  3.7190e-10,  1.6103e-09,  1.2943e-09,\n",
              "                        2.7136e-10,  8.3842e-10,  1.3932e-08,  9.1842e-10, -2.9308e-08,\n",
              "                        6.4257e-09,  5.0340e-09,  1.8234e-10, -2.2555e-10, -1.5407e-09,\n",
              "                        1.8169e-09,  1.9416e-07,  1.0711e-08, -1.1762e-09, -1.4530e-10,\n",
              "                       -1.4473e-08, -2.3624e-06,  2.5008e-09, -1.3662e-06, -3.9832e-08,\n",
              "                        1.4822e-09, -3.9027e-07,  8.0699e-09,  1.3126e-06,  1.6243e-06,\n",
              "                        2.0595e-09,  5.9201e-08,  4.6549e-06, -3.3198e-06,  1.1731e-10,\n",
              "                        4.4527e-10, -7.4587e-07, -1.4508e-09,  1.3298e-08,  1.2945e-09,\n",
              "                       -7.9830e-10,  3.4776e-08,  1.7322e-07,  1.1495e-09,  7.6488e-09,\n",
              "                        1.4196e-09,  1.6186e-09,  1.2367e-06,  1.9087e-06,  1.3964e-09,\n",
              "                        3.6264e-10,  1.1941e-09, -2.1710e-06,  1.1013e-09,  6.3720e-10,\n",
              "                       -7.5516e-07,  3.0239e-09,  1.3713e-06,  1.5863e-09,  2.2303e-10,\n",
              "                        6.3037e-11, -2.0736e-08,  2.4192e-10, -7.9292e-08, -3.6105e-08,\n",
              "                        3.0578e-09,  6.4715e-09,  5.4574e-09, -1.2581e-07, -1.3249e-08,\n",
              "                        5.8543e-10,  8.4647e-11,  1.4878e-08, -1.6764e-08,  4.3974e-12,\n",
              "                        2.1755e-10,  2.6205e-09,  1.2288e-08,  1.7893e-09,  8.4007e-09,\n",
              "                        3.6046e-09,  2.5836e-09, -1.4146e-06,  1.5929e-09,  5.3719e-11,\n",
              "                       -1.8353e-08, -1.6678e-08,  4.2891e-11,  3.1402e-09, -7.8380e-08,\n",
              "                        1.7476e-09, -2.4930e-08,  3.2587e-10,  7.0402e-09,  3.4077e-09,\n",
              "                        2.8025e-06, -2.1743e-06,  2.1023e-08,  3.0116e-10, -2.5909e-08,\n",
              "                        1.4838e-09,  5.7983e-07,  1.7190e-10,  1.6984e-09,  2.8629e-10,\n",
              "                       -1.2443e-07, -2.0227e-09,  7.6140e-08,  5.2689e-10,  2.3911e-09,\n",
              "                        1.3418e-06, -2.3763e-09,  8.1515e-09,  2.1299e-06,  3.8621e-09,\n",
              "                        5.2898e-09,  2.7519e-09,  7.4763e-10, -2.6958e-09,  1.6844e-09,\n",
              "                        5.2183e-11,  1.0786e-08, -1.8843e-08, -3.4656e-09, -1.8162e-09,\n",
              "                       -2.6585e-06,  7.1027e-09,  1.9827e-08, -4.1161e-06,  1.9361e-06,\n",
              "                        6.7838e-12,  2.1959e-06,  1.7293e-07,  1.7499e-09, -1.3784e-06,\n",
              "                        1.9245e-09, -1.2599e-06,  2.0424e-06,  7.7945e-08,  3.4163e-09,\n",
              "                       -9.1441e-07, -3.6828e-09,  4.0237e-11,  5.9546e-10,  6.6235e-08,\n",
              "                        6.3082e-09,  2.0889e-11,  1.1275e-10,  1.6833e-10,  1.0663e-09,\n",
              "                        8.3999e-07,  3.2250e-10,  3.0773e-09,  2.6780e-09,  3.9746e-10],\n",
              "                      device='cuda:0'),\n",
              "               'exp_avg_sq': tensor([2.6408e-13, 5.6054e-10, 1.3776e-13, 3.8499e-15, 6.5936e-17, 4.5078e-15,\n",
              "                       4.2050e-14, 2.3542e-14, 7.8756e-13, 2.9986e-11, 3.4730e-15, 2.3747e-11,\n",
              "                       6.0412e-16, 1.3403e-16, 1.6053e-11, 1.1006e-10, 3.4134e-14, 1.2630e-13,\n",
              "                       7.2327e-15, 4.0905e-12, 8.3117e-16, 2.5843e-16, 3.9255e-16, 1.7382e-14,\n",
              "                       2.4407e-10, 1.1449e-16, 9.6271e-11, 3.0919e-13, 1.0483e-14, 3.8062e-16,\n",
              "                       6.4940e-11, 1.5421e-13, 1.5034e-14, 5.5182e-15, 2.9928e-16, 1.1293e-12,\n",
              "                       7.7957e-14, 1.4704e-17, 3.5818e-13, 6.6121e-13, 1.3016e-11, 7.2342e-11,\n",
              "                       2.4364e-15, 9.4268e-15, 9.8867e-14, 3.9520e-16, 1.1850e-14, 3.9658e-11,\n",
              "                       7.9569e-13, 1.9707e-15, 3.0995e-14, 1.7280e-13, 8.0988e-14, 1.6821e-11,\n",
              "                       5.3657e-11, 4.7101e-10, 1.1506e-15, 1.4102e-16, 1.1869e-13, 5.8761e-11,\n",
              "                       8.4939e-16, 1.4707e-13, 5.3440e-17, 7.1309e-15, 1.5912e-17, 6.2382e-15,\n",
              "                       9.1012e-14, 3.6953e-17, 5.6560e-15, 5.4077e-12, 3.6347e-13, 2.2586e-17,\n",
              "                       7.3353e-14, 1.7482e-12, 5.4879e-16, 5.6271e-15, 2.9119e-11, 1.3671e-16,\n",
              "                       2.9536e-10, 8.8502e-10, 1.8331e-10, 1.8153e-18, 4.3647e-17, 3.9488e-16,\n",
              "                       5.8206e-16, 3.0475e-19, 2.9952e-12, 6.5773e-15, 2.7100e-11, 3.9865e-12,\n",
              "                       3.1011e-13, 2.6421e-14, 2.7550e-17, 8.2975e-16, 2.9622e-11, 1.4813e-16,\n",
              "                       1.1243e-09, 1.4319e-15, 3.0329e-11, 7.6913e-14, 1.7794e-14, 2.3300e-16,\n",
              "                       2.5177e-13, 2.2898e-14, 3.7619e-17, 6.8596e-15, 1.3591e-17, 8.0869e-14,\n",
              "                       4.9139e-12, 7.4203e-13, 1.0355e-13, 3.0116e-14, 3.4322e-14, 1.9221e-14,\n",
              "                       9.4447e-16, 8.7730e-13, 1.4733e-13, 3.8225e-13, 2.8620e-14, 1.3168e-16,\n",
              "                       1.3179e-15, 1.2500e-13, 3.4042e-11, 2.2339e-14, 6.3407e-15, 8.2071e-12,\n",
              "                       1.4859e-17, 4.7782e-14, 6.2704e-12, 1.5257e-09, 1.4620e-14, 5.6163e-14,\n",
              "                       2.9149e-16, 6.6353e-14, 1.4754e-14, 9.5987e-17, 1.3372e-11, 1.8332e-13,\n",
              "                       1.4712e-17, 2.4320e-17, 3.3512e-11, 3.3648e-17, 2.4705e-14, 1.8924e-17,\n",
              "                       1.8065e-16, 1.8169e-13, 1.6410e-13, 2.4463e-16, 5.4060e-17, 2.5565e-11,\n",
              "                       8.8872e-13, 1.1310e-12, 3.8610e-14, 3.0105e-14, 7.5190e-12, 3.2528e-13,\n",
              "                       1.6822e-10, 9.3111e-18, 6.4786e-12, 7.3323e-14, 9.9094e-15, 2.2773e-12,\n",
              "                       2.4938e-13, 1.3134e-14, 1.6016e-10, 1.9294e-13, 5.7093e-15, 9.3756e-13,\n",
              "                       3.6207e-14, 9.0059e-13, 2.8364e-17, 4.3801e-11, 1.6764e-13, 1.0758e-11,\n",
              "                       9.2846e-18, 5.4306e-16, 5.5823e-17, 1.1451e-14, 2.1177e-15, 3.2572e-14,\n",
              "                       1.6854e-12, 4.3574e-14, 9.3769e-12, 1.1711e-10, 1.7127e-17, 1.1511e-14,\n",
              "                       3.2101e-15, 2.3394e-14, 1.4812e-15, 1.5836e-13, 4.6050e-11, 4.0732e-15,\n",
              "                       1.7859e-10, 1.0278e-17, 8.1287e-15, 6.3400e-12, 1.2387e-10, 9.3689e-13,\n",
              "                       2.6913e-13, 2.7551e-14, 8.1800e-18, 7.6552e-17, 6.6225e-13, 6.0700e-17,\n",
              "                       1.4321e-14, 2.0047e-17, 2.8090e-14, 9.2218e-14, 1.7098e-13, 4.5566e-12,\n",
              "                       8.1792e-15, 7.8129e-16, 1.6460e-13, 5.1575e-13, 1.0324e-17, 2.4484e-10,\n",
              "                       1.4613e-15, 1.2549e-11, 3.7650e-11, 7.7446e-11, 2.5065e-13, 5.7647e-18,\n",
              "                       3.7309e-17, 5.3944e-13, 2.1815e-11, 1.4833e-11, 1.2326e-12, 4.2772e-15,\n",
              "                       8.2768e-14, 1.7318e-10, 4.8701e-14, 1.2412e-14, 1.6188e-13, 4.3026e-14,\n",
              "                       1.0189e-13, 7.1397e-14, 2.5663e-14, 1.5111e-13, 4.5494e-15, 2.5897e-14,\n",
              "                       8.2713e-14, 1.6115e-10, 3.5904e-15, 4.9635e-13, 1.1911e-13, 9.8300e-13,\n",
              "                       3.1422e-12, 3.4682e-15, 4.1908e-14, 1.1052e-12, 7.6954e-16, 1.7549e-13,\n",
              "                       5.9074e-15, 7.2580e-12, 1.6972e-17, 1.1987e-13, 1.6195e-13, 4.1648e-12,\n",
              "                       4.5434e-13, 1.3359e-14, 1.8548e-14, 5.3159e-18, 5.7931e-12, 4.9266e-12,\n",
              "                       2.3589e-13, 8.4218e-11, 8.9479e-10, 4.6173e-17, 9.6078e-15, 9.0893e-13,\n",
              "                       9.6923e-14, 1.6195e-14, 1.7747e-14, 4.0281e-11, 2.7201e-16, 2.2110e-16,\n",
              "                       3.4074e-13, 5.8422e-14, 7.3396e-15, 2.9365e-11, 8.5500e-14, 1.1035e-13,\n",
              "                       3.1294e-13, 3.0062e-14, 1.4323e-10, 5.1807e-18, 3.8153e-13, 3.8507e-13,\n",
              "                       5.9541e-11, 2.3144e-13, 5.3432e-10, 9.9053e-15, 1.7280e-13, 3.7527e-13,\n",
              "                       1.3087e-14, 3.8830e-14, 3.1895e-13, 3.3291e-13, 1.4021e-12, 9.4338e-18,\n",
              "                       6.2653e-14, 1.7594e-16, 4.1978e-13, 7.4662e-17, 9.0905e-18, 2.0931e-16,\n",
              "                       2.2151e-14, 6.1887e-11, 3.5436e-14, 3.3427e-17, 3.0085e-11, 2.5866e-14,\n",
              "                       9.2465e-15, 3.6609e-11, 5.1105e-13, 1.8777e-17, 9.0639e-16, 1.0123e-13,\n",
              "                       5.6146e-17, 7.4924e-13, 6.1770e-15, 1.4742e-10, 1.5921e-15, 2.7297e-18,\n",
              "                       1.0738e-13, 2.0049e-16, 1.0338e-15, 3.8750e-14, 1.3305e-12, 3.2413e-15,\n",
              "                       7.3083e-11, 5.7440e-14, 5.7227e-11, 6.7747e-14, 1.6465e-14, 2.6264e-11,\n",
              "                       1.3572e-10, 1.9409e-16, 5.9920e-15, 3.1101e-15, 4.4166e-14, 3.3555e-17,\n",
              "                       3.9291e-14, 2.7010e-15, 7.9134e-15, 1.2150e-17, 5.6091e-16, 9.5932e-14,\n",
              "                       2.2143e-11, 1.2066e-13, 4.7210e-17, 7.8811e-12, 8.6218e-17, 8.3297e-14,\n",
              "                       3.5154e-17, 3.7569e-14, 1.5245e-14, 2.3936e-13, 6.6206e-10, 1.3904e-16,\n",
              "                       1.9722e-14, 8.6250e-13, 1.2191e-14, 7.1415e-17, 1.5698e-12, 1.3754e-15,\n",
              "                       6.5566e-17, 8.3455e-10, 7.4562e-11, 6.5275e-13, 8.7465e-16, 7.6109e-12,\n",
              "                       1.8240e-10, 6.7424e-14, 4.0790e-10, 8.3364e-10, 5.7040e-10, 1.0566e-10,\n",
              "                       2.4042e-12, 1.1187e-14, 4.4791e-10, 1.6894e-16, 4.6390e-14, 2.7279e-13,\n",
              "                       3.0255e-12, 2.5071e-13, 7.9626e-11, 3.2076e-10, 5.5323e-16, 7.8753e-13,\n",
              "                       6.2255e-16, 4.3196e-13, 2.9692e-13, 3.3167e-14, 7.3110e-14, 4.4414e-13,\n",
              "                       6.7374e-16, 9.2935e-15, 5.6466e-13, 6.4289e-18, 5.1750e-13, 2.0862e-16,\n",
              "                       4.1982e-13, 1.0220e-12, 1.2615e-16, 7.7105e-12, 7.0845e-17, 2.4724e-16,\n",
              "                       1.4582e-10, 3.5980e-16, 2.1023e-14, 2.9186e-16, 3.2289e-17, 4.2267e-14,\n",
              "                       3.6234e-14, 4.2003e-13, 2.3381e-14, 1.6264e-17, 1.8808e-13, 3.6991e-16,\n",
              "                       6.6647e-16, 8.3544e-14, 1.7903e-13, 1.5654e-13, 1.1006e-14, 4.5406e-13,\n",
              "                       8.9667e-15, 1.7928e-13, 1.1103e-14, 5.5720e-14, 2.1457e-14, 2.5763e-10,\n",
              "                       2.0989e-14, 6.2024e-16, 1.4922e-13, 3.5121e-13, 3.3351e-13, 1.5676e-14,\n",
              "                       1.2453e-13, 1.8104e-14, 1.6673e-15, 4.9398e-17, 3.0293e-14, 9.0159e-17,\n",
              "                       6.4534e-17, 7.2449e-16, 6.6617e-13, 1.1220e-13, 2.7502e-14, 1.0953e-15,\n",
              "                       3.4478e-17, 4.9143e-16, 1.9675e-13, 5.9668e-16, 9.0792e-13, 3.0609e-14,\n",
              "                       4.8983e-14, 3.0785e-17, 2.2297e-15, 2.9693e-14, 2.5398e-15, 2.6538e-12,\n",
              "                       7.2470e-14, 2.9443e-15, 8.5761e-17, 1.2995e-13, 6.7317e-11, 4.4520e-15,\n",
              "                       6.3640e-11, 2.6262e-12, 2.2702e-14, 2.4114e-11, 4.2925e-14, 4.2363e-11,\n",
              "                       8.1297e-11, 3.1040e-15, 1.6600e-12, 6.6779e-10, 1.4730e-10, 2.6999e-17,\n",
              "                       1.3873e-16, 5.5081e-12, 3.5468e-17, 9.2213e-14, 1.0861e-15, 4.9623e-16,\n",
              "                       2.6121e-13, 1.0157e-12, 8.2932e-16, 5.7453e-14, 2.0156e-14, 1.4431e-15,\n",
              "                       2.3230e-11, 1.0631e-10, 1.6177e-14, 9.5881e-17, 9.7129e-16, 3.6118e-11,\n",
              "                       7.9277e-16, 8.8525e-15, 4.9173e-11, 6.9411e-15, 4.3040e-11, 1.4155e-15,\n",
              "                       3.5921e-17, 3.8905e-18, 2.6192e-13, 4.8148e-17, 5.6365e-13, 4.3418e-14,\n",
              "                       2.0307e-14, 2.7189e-14, 2.9059e-14, 2.0182e-11, 3.7225e-14, 4.0188e-16,\n",
              "                       5.7677e-18, 1.8949e-13, 4.6579e-13, 1.4687e-20, 6.2201e-17, 7.3804e-15,\n",
              "                       4.7482e-13, 3.4923e-13, 8.2237e-14, 1.2873e-14, 4.5453e-15, 1.7525e-09,\n",
              "                       1.8312e-15, 9.5440e-18, 8.8344e-14, 4.1044e-13, 1.4006e-18, 2.4298e-14,\n",
              "                       9.3874e-13, 2.5375e-15, 1.1955e-13, 4.9441e-17, 4.7059e-14, 6.9908e-15,\n",
              "                       7.3335e-11, 9.2734e-11, 1.0400e-13, 5.1578e-17, 1.6995e-13, 1.3823e-15,\n",
              "                       7.1795e-12, 5.9183e-17, 2.5316e-15, 3.4920e-16, 4.8385e-13, 1.1167e-13,\n",
              "                       5.0718e-13, 2.2416e-16, 3.8700e-15, 4.8514e-11, 1.5438e-16, 9.1712e-14,\n",
              "                       3.0779e-11, 2.2990e-14, 1.9154e-14, 4.5036e-14, 1.3693e-15, 3.4949e-16,\n",
              "                       1.3663e-15, 2.0461e-18, 1.2390e-13, 2.3813e-11, 1.0082e-15, 2.7180e-16,\n",
              "                       4.1781e-11, 3.7075e-14, 2.8368e-13, 1.6404e-10, 1.1243e-10, 1.1066e-17,\n",
              "                       1.9855e-10, 9.6312e-13, 2.6684e-15, 8.8411e-11, 4.3481e-15, 6.0045e-11,\n",
              "                       7.9636e-11, 1.7733e-12, 1.2521e-14, 7.0589e-12, 6.4517e-16, 4.1730e-18,\n",
              "                       4.5841e-16, 1.2110e-13, 3.4929e-14, 6.6253e-19, 1.2106e-17, 1.8840e-17,\n",
              "                       6.8532e-16, 1.2769e-11, 5.6156e-17, 5.7102e-14, 8.9306e-15, 9.3331e-17],\n",
              "                      device='cuda:0')},\n",
              "              Parameter containing:\n",
              "              tensor([[-1.4807, -3.0792, -1.4696,  ..., -0.0655, -0.1233, -0.0864],\n",
              "                      [-0.1692, -0.3519, -0.4784,  ..., -0.7172, -0.5945, -0.3973],\n",
              "                      [-1.3087, -2.7299, -0.7351,  ..., -0.0371, -0.0838, -0.0738],\n",
              "                      ...,\n",
              "                      [ 0.0829,  0.3505,  0.3335,  ...,  0.4026,  0.2575,  0.0924],\n",
              "                      [-0.5473, -2.3958, -0.4829,  ..., -0.0912, -0.0382, -0.0219],\n",
              "                      [-0.1310, -2.4629, -0.1878,  ..., -0.2408, -0.2127, -0.1036]],\n",
              "                     device='cuda:0', requires_grad=True): {'step': tensor(1000000.),\n",
              "               'exp_avg': tensor([[ 8.0342e-21,  3.0003e-11,  9.7119e-35,  ...,  2.1521e-17,\n",
              "                         1.2200e-29,  1.2582e-29],\n",
              "                       [-1.0965e-17, -1.9089e-09,  5.4886e-24,  ..., -2.2550e-14,\n",
              "                        -1.1841e-22,  1.0798e-25],\n",
              "                       [ 9.9313e-22,  7.2562e-12,  3.6224e-35,  ...,  7.6354e-18,\n",
              "                        -1.5135e-30,  7.2558e-30],\n",
              "                       ...,\n",
              "                       [ 7.7498e-16, -2.2755e-12,  6.9538e-24,  ...,  1.7312e-19,\n",
              "                         7.3507e-21,  6.5257e-26],\n",
              "                       [ 2.1231e-21,  2.4262e-12, -3.0958e-35,  ...,  4.6824e-18,\n",
              "                        -1.7139e-29,  1.6783e-29],\n",
              "                       [ 2.2748e-22, -1.8561e-11, -1.3283e-35,  ..., -6.9695e-19,\n",
              "                        -5.0607e-30,  2.2948e-30]], device='cuda:0'),\n",
              "               'exp_avg_sq': tensor([[1.9655e-40, 1.1129e-19, 7.0065e-43,  ..., 1.4946e-32, 7.0065e-43,\n",
              "                        7.0065e-43],\n",
              "                       [9.3941e-33, 2.3947e-14, 7.0065e-43,  ..., 1.7204e-27, 7.0065e-43,\n",
              "                        7.0065e-43],\n",
              "                       [1.0126e-41, 1.4936e-20, 7.0065e-43,  ..., 2.0774e-33, 7.0065e-43,\n",
              "                        7.0065e-43],\n",
              "                       ...,\n",
              "                       [6.2709e-28, 2.7762e-23, 7.0065e-43,  ..., 2.2425e-35, 1.9567e-38,\n",
              "                        7.0065e-43],\n",
              "                       [1.3651e-41, 5.2665e-21, 7.0065e-43,  ..., 9.2692e-34, 7.0065e-43,\n",
              "                        7.0065e-43],\n",
              "                       [7.0485e-43, 4.8296e-19, 7.0065e-43,  ..., 8.5189e-34, 7.0065e-43,\n",
              "                        7.0065e-43]], device='cuda:0')},\n",
              "              Parameter containing:\n",
              "              tensor([-0.3108,  0.1056, -0.3442, -0.1101, -0.2362, -0.4080, -0.1975, -0.2309,\n",
              "                      -0.3549, -0.4241,  0.7127, -0.6505, -0.1178, -0.2765, -0.1970, -0.4270,\n",
              "                      -0.1024, -0.2004, -0.3537, -0.4613, -0.1778, -0.6460, -0.2269, -0.4068,\n",
              "                       0.9702, -0.1913, -0.3541,  0.2141, -0.3582,  0.8082, -0.3805, -0.1699,\n",
              "                      -0.3043, -0.2395, -0.6797, -0.2218, -0.1362, -0.7413, -0.3981, -0.4213,\n",
              "                      -0.3685, -0.4181, -0.5971, -0.2940, -0.4100, -0.8065, -0.3516,  0.8790,\n",
              "                      -0.1317, -0.4661, -0.1807, -0.3597, -0.3487, -0.1963, -0.4260, -0.3666,\n",
              "                      -0.2179, -0.2639, -0.4388, -0.4179, -0.3540, -0.1993, -0.2605, -0.4112,\n",
              "                      -0.1386, -0.3954, -0.3820, -0.1677, -0.2406, -0.2562, -0.4020, -0.4546,\n",
              "                      -0.1203, -0.0579,  0.0246,  0.0841, -0.0393, -0.3689, -0.3715, -0.2130,\n",
              "                      -0.1431, -0.8813, -0.4665, -0.4312,  0.3874, -0.4703, -0.4200, -0.4148,\n",
              "                      -0.1213, -0.4258, -1.0101, -0.4391, -0.2410, -0.3381, -0.3533, -0.4768,\n",
              "                      -0.4252, -0.1089, -0.3873, -0.4039, -0.3606, -0.4321, -0.3408, -0.3407,\n",
              "                      -0.3673, -0.2021, -0.1304, -0.3268, -0.2227, -0.3620, -0.3900, -0.9699,\n",
              "                       0.3264, -0.4030, -0.0588, -0.6871, -0.1659, -0.4022, -0.2335, -0.2852,\n",
              "                       0.7315, -0.2987, -0.2037, -0.4156,  1.0193, -0.1807, -0.4153, -0.3898,\n",
              "                      -0.4056, -0.1564, -0.3030, -0.2398, -0.0949, -0.5578, -0.4100, -0.4045,\n",
              "                      -0.3854, -0.4377, -0.3882, -0.4278, -0.2026, -0.8243, -0.1463, -0.7565,\n",
              "                      -0.1618, -0.0798, -0.3315,  0.9206, -0.2920,  1.0341, -0.1514, -0.4543,\n",
              "                      -0.2504, -0.2325, -0.3689,  0.7830,  0.0430, -0.1967, -0.1920,  0.9053,\n",
              "                      -0.3714, -0.4235, -0.6352, -0.1716, -0.3946, -0.2265, -0.8623,  0.7697,\n",
              "                      -0.4293, -0.2644, -0.7522, -0.1752, -0.2296, -0.3911, -0.9663, -0.1543,\n",
              "                      -0.7937, -0.3609, -0.0219, -0.3906, -0.3212, -0.2729, -0.2019, -0.2529,\n",
              "                       0.9038, -0.8925, -0.3907, -0.2193, -0.3833,  0.4743, -0.2082, -0.2674,\n",
              "                      -0.0989, -0.6660, -0.3603,  0.9298, -0.1320,  0.8324, -0.4220, -0.0137],\n",
              "                     device='cuda:0', requires_grad=True): {'step': tensor(1000000.),\n",
              "               'exp_avg': tensor([ 2.5936e-09, -2.7769e-08,  1.0473e-09, -8.8842e-09,  9.9847e-09,\n",
              "                        6.8019e-10,  1.4915e-09,  2.2040e-08,  1.2849e-09,  3.4616e-09,\n",
              "                       -1.1055e-06,  1.0787e-07, -4.6269e-09,  7.4373e-09,  6.7138e-10,\n",
              "                        1.0672e-09,  1.1329e-09, -1.6978e-10,  1.1482e-09,  9.9556e-10,\n",
              "                        7.1238e-07,  2.2355e-06, -1.4549e-10,  5.3831e-10, -4.2340e-10,\n",
              "                        5.7721e-10,  6.5410e-10,  4.0637e-06,  1.1773e-09, -9.4057e-07,\n",
              "                        5.4615e-10,  1.6109e-09, -2.7906e-10,  9.5042e-09,  7.4192e-08,\n",
              "                       -6.8953e-10,  1.9626e-06,  1.9249e-06,  7.3637e-10,  6.5337e-10,\n",
              "                        1.0794e-09,  1.8000e-09,  7.6523e-08,  9.1153e-09,  4.4349e-10,\n",
              "                       -1.6978e-07,  8.0159e-10,  5.2353e-12,  2.2253e-08,  7.1278e-10,\n",
              "                        3.0561e-08,  5.4937e-10,  9.6649e-10,  8.3922e-10,  5.9191e-10,\n",
              "                        7.0980e-10,  5.9672e-07,  8.9836e-09,  4.6936e-10,  4.4870e-10,\n",
              "                        5.8349e-10,  6.7112e-08,  7.2651e-09,  3.9989e-10,  2.3186e-09,\n",
              "                        7.4274e-10,  6.3776e-10,  7.8117e-10,  1.5936e-08,  7.0707e-09,\n",
              "                        7.6039e-10,  7.1613e-10, -1.1067e-06,  6.4606e-09,  1.2176e-06,\n",
              "                        2.0704e-06,  2.4309e-08,  1.1428e-09,  5.2844e-10,  1.5331e-08,\n",
              "                        3.8521e-06,  1.8561e-06,  1.1062e-09,  1.1203e-09,  2.7952e-06,\n",
              "                        8.5819e-10,  7.2475e-10,  3.4189e-10,  3.2868e-06,  6.0170e-10,\n",
              "                        7.5902e-10,  8.0785e-10,  1.1163e-08,  7.1629e-10,  1.0062e-09,\n",
              "                        7.5908e-10,  5.0437e-10, -4.4859e-09,  1.3332e-09,  1.0491e-09,\n",
              "                        8.6434e-10,  3.5072e-09,  1.3582e-08,  1.0116e-09,  1.1492e-09,\n",
              "                        1.6543e-08,  2.0529e-06,  7.8339e-09,  5.5591e-09,  5.3471e-10,\n",
              "                        6.0226e-10,  4.2370e-15,  6.2220e-06,  3.5803e-10,  7.6380e-09,\n",
              "                       -6.7871e-07,  1.9276e-07,  4.3258e-10,  1.1788e-08,  3.4518e-09,\n",
              "                        2.4287e-13,  9.4751e-09,  1.4450e-08,  5.3426e-10,  7.7241e-12,\n",
              "                        1.0526e-07,  8.0281e-10,  5.7123e-10,  6.5744e-10,  1.3965e-07,\n",
              "                        2.4037e-08,  4.5198e-11, -2.0763e-06,  1.0100e-09,  9.8302e-10,\n",
              "                        9.7394e-10,  4.7350e-10,  3.9893e-10,  6.9411e-10,  7.9284e-10,\n",
              "                        4.6331e-10,  8.0159e-13,  1.8659e-09,  2.4392e-13,  2.0505e-08,\n",
              "                       -1.8552e-08,  1.6454e-09, -7.3345e-14,  2.4283e-09,  9.6007e-12,\n",
              "                       -2.4624e-10,  4.6137e-10,  1.0638e-08,  1.2256e-09,  5.7459e-10,\n",
              "                       -3.5887e-06, -2.5727e-06, -1.8189e-09,  8.4765e-10, -5.6778e-10,\n",
              "                        9.5687e-10,  3.3539e-10, -4.9044e-07,  1.4054e-09,  8.0140e-10,\n",
              "                        1.5667e-08,  3.2490e-07, -3.7914e-08,  6.5591e-10,  5.4710e-09,\n",
              "                        5.0342e-07,  5.7511e-10,  6.9421e-08,  6.0505e-10, -2.2850e-07,\n",
              "                        2.6919e-08,  1.9138e-14,  1.2970e-09, -5.2434e-06,  6.6891e-10,\n",
              "                        3.6212e-09,  1.1497e-08,  1.3942e-09,  7.7977e-08, -2.3989e-12,\n",
              "                       -1.7432e-06,  1.2488e-09,  1.1214e-09,  2.3548e-09, -1.4831e-06,\n",
              "                        1.3738e-08, -3.6220e-10,  3.5218e-09,  1.6675e-06,  1.2781e-09,\n",
              "                       -6.2305e-09,  3.4551e-08, -2.1920e-12,  7.2171e-10,  9.5727e-09],\n",
              "                      device='cuda:0'),\n",
              "               'exp_avg_sq': tensor([1.4799e-15, 2.4862e-13, 2.9639e-16, 3.7286e-14, 2.3517e-14, 1.1482e-16,\n",
              "                       5.9153e-16, 2.0634e-15, 4.1891e-16, 3.2402e-15, 3.6572e-11, 1.3837e-10,\n",
              "                       2.8805e-14, 6.6173e-15, 7.4148e-17, 3.2490e-16, 2.1596e-16, 5.1433e-16,\n",
              "                       3.6778e-16, 2.8455e-16, 7.2028e-12, 2.6828e-10, 4.4742e-16, 6.1160e-17,\n",
              "                       2.0317e-18, 1.7651e-16, 9.5912e-17, 4.5046e-10, 3.7153e-16, 1.6616e-11,\n",
              "                       6.1182e-17, 5.3045e-16, 3.2780e-16, 1.9344e-14, 2.4212e-10, 6.3281e-16,\n",
              "                       6.9098e-10, 2.6505e-10, 1.2983e-16, 1.0482e-16, 3.2041e-16, 9.1528e-16,\n",
              "                       3.6382e-13, 7.6582e-16, 3.8619e-17, 1.0695e-11, 1.4992e-16, 2.1221e-22,\n",
              "                       2.3963e-13, 1.4424e-16, 6.6668e-13, 6.4404e-17, 2.4954e-16, 2.9310e-16,\n",
              "                       7.5345e-17, 1.1875e-16, 7.7936e-13, 8.9042e-15, 6.4642e-17, 1.5382e-17,\n",
              "                       7.5800e-17, 1.0231e-14, 2.6029e-15, 3.5545e-17, 4.7566e-15, 1.3015e-16,\n",
              "                       1.0700e-16, 4.8118e-16, 5.7442e-14, 9.3703e-15, 1.6024e-16, 1.4333e-16,\n",
              "                       7.2389e-10, 1.0186e-13, 4.8728e-10, 5.7403e-10, 3.0222e-12, 3.4943e-16,\n",
              "                       5.9442e-17, 5.7292e-14, 1.7740e-09, 6.6686e-11, 3.0529e-16, 3.4337e-16,\n",
              "                       5.4916e-10, 1.9314e-16, 1.4795e-16, 2.5076e-17, 1.8419e-09, 8.5151e-17,\n",
              "                       5.7317e-15, 1.8221e-16, 7.9667e-15, 1.1997e-16, 7.2757e-17, 1.6309e-16,\n",
              "                       5.7126e-17, 1.5754e-13, 4.8786e-16, 2.7251e-16, 2.1918e-16, 2.1996e-15,\n",
              "                       6.1753e-16, 2.9442e-16, 3.7530e-16, 6.9417e-14, 7.2705e-10, 1.3339e-16,\n",
              "                       1.4763e-15, 6.0777e-17, 1.5171e-17, 9.2738e-27, 5.1117e-10, 2.5403e-17,\n",
              "                       8.6596e-15, 2.1252e-10, 1.1924e-13, 4.4252e-17, 1.7543e-14, 1.7128e-16,\n",
              "                       6.4807e-24, 1.0355e-14, 6.2928e-14, 5.9134e-17, 2.8165e-22, 4.9743e-14,\n",
              "                       1.8237e-16, 7.7501e-17, 1.1522e-16, 5.5283e-10, 1.3375e-13, 5.9070e-16,\n",
              "                       8.5786e-10, 2.6906e-16, 2.8011e-16, 2.4973e-16, 4.4501e-17, 3.6884e-17,\n",
              "                       1.0594e-16, 1.7686e-16, 4.1291e-16, 6.8587e-23, 1.0026e-15, 1.6359e-23,\n",
              "                       1.9201e-13, 1.6450e-13, 7.9030e-17, 2.1349e-24, 1.4033e-15, 2.5838e-22,\n",
              "                       1.0909e-15, 4.8812e-17, 1.7776e-14, 2.6846e-16, 7.0576e-17, 5.2000e-11,\n",
              "                       6.9449e-10, 8.7105e-16, 2.5372e-15, 6.0205e-18, 2.5446e-16, 2.2192e-17,\n",
              "                       2.5813e-10, 4.3945e-16, 1.6445e-16, 1.3789e-13, 3.5001e-12, 1.1539e-11,\n",
              "                       1.1723e-16, 5.3978e-16, 5.6030e-11, 1.9503e-15, 1.0043e-14, 8.1519e-17,\n",
              "                       8.8806e-12, 2.4611e-13, 2.5224e-24, 4.8310e-16, 8.2665e-10, 1.0395e-16,\n",
              "                       8.4292e-17, 2.3830e-14, 4.3985e-16, 1.1816e-14, 4.1529e-23, 1.1141e-10,\n",
              "                       4.3804e-16, 7.8775e-16, 1.5964e-16, 5.3090e-10, 7.4438e-15, 4.7400e-16,\n",
              "                       8.6865e-15, 1.9830e-10, 4.0761e-16, 1.8459e-14, 8.6469e-13, 4.2820e-23,\n",
              "                       1.2803e-16, 1.3734e-14], device='cuda:0')},\n",
              "              Parameter containing:\n",
              "              tensor([[ 0.7574,  1.2190,  0.7531,  1.0889,  0.8528,  0.7572,  1.0380,  0.9062,\n",
              "                        0.7463,  0.4054,  0.2310, -0.3608,  1.0874,  0.8339,  0.9107,  0.7636,\n",
              "                        0.9883,  0.9510,  0.7691,  0.4827,  0.9269, -0.5013,  0.9899,  0.7755,\n",
              "                        0.3824,  0.9917,  0.7733,  0.7117,  0.7337,  0.1781,  0.7679,  0.9998,\n",
              "                        0.9276,  0.8509, -0.4432,  0.9775,  1.4871, -0.4836,  0.7597,  0.7742,\n",
              "                        0.7479,  0.7250, -0.6704,  0.8504,  0.7690, -0.1542,  0.7659,  0.3866,\n",
              "                        0.8792,  0.6499,  0.8939,  0.7637,  0.7298,  1.0038,  0.7742,  0.7745,\n",
              "                        0.8736,  0.8415,  0.6298,  0.8049,  0.7625,  0.9185,  0.8355,  0.7495,\n",
              "                        1.0289,  0.7632,  0.7393,  0.9814,  0.8535,  0.8211,  0.7206,  0.7096,\n",
              "                        0.6249,  1.1305,  0.4826,  0.8113,  0.7412,  0.7462,  0.7575,  0.8548,\n",
              "                        1.0505, -0.2895,  0.5620,  0.7170,  0.6963,  0.6236,  0.6434,  0.7359,\n",
              "                        2.3686,  0.7564, -0.4649,  0.6538,  0.8550,  0.7706,  0.8671,  0.6311,\n",
              "                        0.7562,  1.0866,  0.7461,  0.6272,  0.7130,  0.5433,  0.7945,  0.7481,\n",
              "                        0.7259,  0.8420,  1.5485,  0.7848,  0.9388,  0.7591,  0.7658, -0.1367,\n",
              "                        0.6920,  0.7538,  1.1161, -0.4151,  0.9242,  0.7350,  0.8423,  0.8307,\n",
              "                        0.3980,  0.7720,  0.8460,  0.7745,  0.4142,  0.9062,  0.7091,  0.7561,\n",
              "                        0.7278,  0.5845,  0.7423,  0.9935,  0.6901,  0.5005,  0.7225,  0.7171,\n",
              "                        0.7757,  0.7418,  0.7716,  0.7110,  0.9571, -0.1539,  0.9806, -0.2467,\n",
              "                        0.8717,  1.0559,  0.8348,  0.4030,  0.7434,  0.3697,  1.0091,  0.7606,\n",
              "                        0.8438,  0.9443,  0.7683,  0.2614,  0.8210,  0.9860,  1.0119,  0.4045,\n",
              "                        0.7212,  0.7450, -0.4829,  0.9959,  0.7558,  0.8655, -0.0953,  0.1488,\n",
              "                        0.7366,  0.8818, -0.2629,  0.9866,  0.9030,  0.7646, -0.1136,  0.8756,\n",
              "                       -0.2523,  0.7834,  0.7532,  0.7633,  0.8447,  0.8629,  0.9934,  0.8465,\n",
              "                        0.4096, -0.3499,  0.7386,  0.9905,  0.8677,  0.6499,  0.8762,  0.9601,\n",
              "                        1.0241, -0.4334,  0.7795,  0.4081,  0.9115,  0.3856,  0.7563,  1.1086]],\n",
              "                     device='cuda:0', requires_grad=True): {'step': tensor(1000000.),\n",
              "               'exp_avg': tensor([[ 3.4251e-09, -2.2856e-08,  1.3909e-09, -8.1691e-09,  1.1740e-08,\n",
              "                         8.9843e-10,  1.4374e-09,  2.4329e-08,  1.7218e-09,  8.5466e-09,\n",
              "                        -5.7785e-05, -7.8372e-05, -4.2590e-09,  8.9284e-09,  7.3735e-10,\n",
              "                         1.3977e-09,  1.1465e-09, -1.7847e-10,  1.4931e-09,  2.0628e-09,\n",
              "                         7.8673e-07, -8.5266e-05, -1.4687e-10,  6.9418e-10, -8.1453e-05,\n",
              "                         5.8221e-10,  8.4598e-10, -7.7050e-06,  1.6049e-09, -7.2042e-05,\n",
              "                         7.1128e-10,  1.6118e-09, -3.0086e-10,  1.1196e-08, -7.1946e-05,\n",
              "                        -7.0549e-10,  1.4501e-06, -7.9860e-05,  9.6941e-10,  8.4407e-10,\n",
              "                         1.4434e-09,  2.4830e-09, -1.2002e-07,  1.0721e-08,  5.7672e-10,\n",
              "                        -1.0202e-05,  1.0467e-09, -8.1454e-05,  2.5562e-08,  1.0968e-09,\n",
              "                         3.4910e-08,  7.1944e-10,  1.3245e-09,  8.3630e-10,  7.6462e-10,\n",
              "                         9.1655e-10,  6.8876e-07,  1.0690e-08,  7.4524e-10,  5.5751e-10,\n",
              "                         7.6532e-10,  7.3142e-08,  8.7002e-09,  5.3359e-10,  2.2559e-09,\n",
              "                         9.7334e-10,  8.6275e-10,  7.9637e-10,  1.8740e-08,  8.6251e-09,\n",
              "                         1.0553e-09,  1.0092e-09,  2.1823e-06,  5.7593e-09,  1.1170e-05,\n",
              "                        -1.8347e-05,  3.3847e-08,  1.5317e-09,  6.9769e-10,  1.7997e-08,\n",
              "                         7.8467e-06, -8.4173e-05,  1.9686e-09,  1.5625e-09,  2.3003e-05,\n",
              "                         1.3762e-09,  1.1266e-09,  4.6463e-10,  1.5389e-06,  7.9556e-10,\n",
              "                        -1.6332e-09,  1.2358e-09,  1.3066e-08,  9.2959e-10,  1.1605e-09,\n",
              "                         1.2029e-09,  6.6702e-10, -4.1321e-09,  1.7871e-09,  1.6728e-09,\n",
              "                         1.2124e-09,  6.4575e-09,  1.7101e-08,  1.3524e-09,  1.5832e-09,\n",
              "                         1.9736e-08,  1.4598e-06,  9.9830e-09,  5.9240e-09,  7.0442e-10,\n",
              "                         7.8646e-10, -3.1003e-14,  1.3171e-05,  4.7499e-10,  6.8526e-09,\n",
              "                        -7.8763e-05,  2.0903e-07,  5.8862e-10,  1.4016e-08,  4.1559e-09,\n",
              "                        -8.1454e-05,  1.2293e-08,  1.7159e-08,  6.8991e-10, -8.1454e-05,\n",
              "                         1.1629e-07,  1.1323e-09,  7.5553e-10,  9.0335e-10,  2.7791e-06,\n",
              "                         3.2434e-08,  4.5715e-11,  2.1336e-06,  2.0181e-09,  1.3607e-09,\n",
              "                         1.3582e-09,  6.1049e-10,  5.3783e-10,  8.9974e-10,  1.1151e-09,\n",
              "                         4.8434e-10, -5.2090e-12,  1.9039e-09, -9.8876e-13,  2.3716e-08,\n",
              "                        -1.7620e-08,  1.9711e-09, -8.1454e-05,  3.2668e-09, -8.1454e-05,\n",
              "                        -2.4383e-10,  6.0667e-10,  1.2628e-08,  1.2983e-09,  7.4795e-10,\n",
              "                        -2.5769e-05, -1.8976e-05, -1.8451e-09,  8.3882e-10, -8.1453e-05,\n",
              "                         1.3268e-09,  4.5019e-10, -8.1325e-05,  1.4117e-09,  1.0605e-09,\n",
              "                         1.8261e-08, -4.9501e-06, -6.0547e-05,  8.9051e-10,  6.2054e-09,\n",
              "                        -7.7209e-05,  5.8346e-10,  7.6956e-08,  7.9143e-10, -6.9335e-06,\n",
              "                         3.1014e-08, -7.5847e-14,  1.6559e-09, -1.2633e-05,  8.7645e-10,\n",
              "                         4.2873e-09,  1.3351e-08,  1.4040e-09,  9.2225e-08, -8.1454e-05,\n",
              "                        -9.2867e-05,  1.6909e-09,  1.1327e-09,  2.7141e-09,  2.2661e-05,\n",
              "                         1.5692e-08, -3.7724e-10,  3.4434e-09, -9.4234e-05,  1.6399e-09,\n",
              "                        -8.1439e-05,  3.8920e-08, -8.1454e-05,  9.5434e-10,  8.6495e-09]],\n",
              "                      device='cuda:0'),\n",
              "               'exp_avg_sq': tensor([[2.5818e-15, 1.6899e-13, 5.2285e-16, 3.1590e-14, 3.2410e-14, 2.0032e-16,\n",
              "                        5.4933e-16, 2.5139e-15, 7.5241e-16, 1.9757e-14, 3.2799e-07, 1.2088e-07,\n",
              "                        2.4434e-14, 9.5275e-15, 8.9432e-17, 5.5741e-16, 2.2119e-16, 5.6900e-16,\n",
              "                        6.2204e-16, 1.2218e-15, 8.9607e-12, 2.1905e-07, 4.5677e-16, 1.0171e-16,\n",
              "                        3.9620e-07, 1.7955e-16, 1.6044e-16, 6.5610e-08, 6.9056e-16, 3.4902e-07,\n",
              "                        1.0377e-16, 5.3100e-16, 3.8115e-16, 2.6773e-14, 1.6144e-07, 6.6266e-16,\n",
              "                        4.4582e-10, 1.8218e-07, 2.2502e-16, 1.7494e-16, 5.7308e-16, 1.7424e-15,\n",
              "                        8.8210e-13, 1.0596e-15, 6.5309e-17, 2.2692e-08, 2.5562e-16, 3.9620e-07,\n",
              "                        3.1191e-13, 3.4157e-16, 8.4319e-13, 1.1045e-16, 4.6873e-16, 2.9101e-16,\n",
              "                        1.2573e-16, 1.9801e-16, 1.0342e-12, 1.2592e-14, 1.6298e-16, 2.3747e-17,\n",
              "                        1.3041e-16, 1.2149e-14, 3.7321e-15, 6.3285e-17, 4.4988e-15, 2.2351e-16,\n",
              "                        1.9582e-16, 4.9992e-16, 7.9091e-14, 1.3920e-14, 3.0864e-16, 2.8470e-16,\n",
              "                        8.7119e-09, 8.0127e-14, 1.9392e-08, 5.2072e-08, 5.8734e-12, 6.2777e-16,\n",
              "                        1.0362e-16, 7.8657e-14, 4.9886e-09, 9.1227e-08, 9.6705e-16, 6.6816e-16,\n",
              "                        9.9396e-08, 4.9677e-16, 3.5755e-16, 4.6313e-17, 4.7385e-10, 1.4886e-16,\n",
              "                        2.7850e-14, 4.2643e-16, 1.0912e-14, 2.0206e-16, 9.6785e-17, 4.0966e-16,\n",
              "                        9.9912e-17, 1.3502e-13, 8.7681e-16, 6.9308e-16, 4.3128e-16, 7.4599e-15,\n",
              "                        9.7896e-16, 5.2632e-16, 7.1249e-16, 9.8250e-14, 4.2973e-10, 2.1661e-16,\n",
              "                        1.6767e-15, 1.0548e-16, 2.5870e-17, 4.9655e-25, 8.0680e-08, 4.4711e-17,\n",
              "                        6.9696e-15, 1.3925e-07, 1.4031e-13, 8.1936e-17, 2.4775e-14, 2.4829e-16,\n",
              "                        3.9620e-07, 1.7407e-14, 8.8223e-14, 9.8609e-17, 3.9620e-07, 6.0748e-14,\n",
              "                        3.6285e-16, 1.3558e-16, 2.1756e-16, 4.9861e-09, 2.4459e-13, 5.9879e-16,\n",
              "                        1.2628e-08, 1.0745e-15, 5.3677e-16, 4.8579e-16, 7.3974e-17, 6.7040e-17,\n",
              "                        1.7801e-16, 3.4992e-16, 4.5098e-16, 2.8963e-21, 1.0436e-15, 2.6882e-22,\n",
              "                        2.5405e-13, 1.4893e-13, 1.1342e-16, 3.9620e-07, 2.5410e-15, 3.9620e-07,\n",
              "                        1.0719e-15, 8.4397e-17, 2.5015e-14, 3.0125e-16, 1.1959e-16, 3.1278e-07,\n",
              "                        3.8131e-08, 8.9661e-16, 2.4805e-15, 3.9620e-07, 4.8937e-16, 3.9985e-17,\n",
              "                        2.0080e-07, 4.4336e-16, 2.8799e-16, 1.8500e-13, 1.5259e-08, 3.3892e-07,\n",
              "                        2.1610e-16, 6.9453e-16, 7.7661e-08, 2.0054e-15, 1.2333e-14, 1.3948e-16,\n",
              "                        4.1807e-09, 3.2293e-13, 3.9618e-23, 7.8762e-16, 2.6162e-08, 1.7845e-16,\n",
              "                        1.1816e-16, 3.2073e-14, 4.4599e-16, 1.6514e-14, 3.9620e-07, 1.0561e-07,\n",
              "                        8.0329e-16, 8.0341e-16, 2.1209e-16, 1.1882e-07, 9.7124e-15, 5.1450e-16,\n",
              "                        8.2957e-15, 2.3926e-07, 6.7115e-16, 3.9619e-07, 1.0541e-12, 3.9620e-07,\n",
              "                        2.2387e-16, 1.1212e-14]], device='cuda:0')},\n",
              "              Parameter containing:\n",
              "              tensor([0.4020], device='cuda:0', requires_grad=True): {'step': tensor(1000000.),\n",
              "               'exp_avg': tensor([-8.1454e-05], device='cuda:0'),\n",
              "               'exp_avg_sq': tensor([3.9620e-07], device='cuda:0')}}),\n",
              " 'param_groups': [{'lr': 1e-06,\n",
              "   'betas': (0.9, 0.999),\n",
              "   'eps': 1e-08,\n",
              "   'weight_decay': 0,\n",
              "   'amsgrad': False,\n",
              "   'maximize': False,\n",
              "   'foreach': None,\n",
              "   'capturable': False,\n",
              "   'differentiable': False,\n",
              "   'fused': None,\n",
              "   'params': [Parameter containing:\n",
              "    tensor([[-0.2722, -0.0705, -1.5562],\n",
              "            [-0.0172,  0.1825, -0.4055],\n",
              "            [-2.6687, -1.1891, -2.5993],\n",
              "            ...,\n",
              "            [-1.3661, -0.0781, -0.1538],\n",
              "            [-1.6899, -0.3346, -1.9093],\n",
              "            [-2.5615, -2.2108, -1.3045]], device='cuda:0', requires_grad=True),\n",
              "    Parameter containing:\n",
              "    tensor([-7.8624e-01,  3.1567e+00, -1.3269e+00, -2.8109e+00, -5.1094e+00,\n",
              "            -3.1416e+00, -1.2849e-01, -2.9757e+00, -1.5537e+00,  9.2435e-01,\n",
              "            -2.7367e+00,  9.9552e-01, -4.0528e+00, -6.0111e+00, -5.3704e-01,\n",
              "             3.4808e+00, -1.5455e+00, -3.0227e+00, -2.8856e+00,  8.4397e-01,\n",
              "            -3.6928e+00, -4.1940e+00, -4.0101e+00, -2.6662e+00,  2.7377e+00,\n",
              "            -4.8101e+00,  1.3717e+00,  5.2679e-01, -2.6176e+00, -4.3976e+00,\n",
              "             2.7426e+00, -7.9713e-01, -2.4712e+00, -3.1090e+00, -4.4395e+00,\n",
              "            -5.5351e-02, -1.9874e+00, -5.7510e+00, -1.4007e+00, -1.2942e+00,\n",
              "            -2.9856e-01,  1.6236e+00, -1.8571e+00, -3.0420e+00, -2.8026e+00,\n",
              "            -4.2604e+00, -2.7382e+00,  1.1320e+00, -2.0415e+00, -3.6208e+00,\n",
              "            -3.6999e+00, -1.9195e+00, -1.2300e+00,  2.0642e+00,  1.2669e+00,\n",
              "             2.6251e+00, -2.9073e+00, -4.4743e+00, -1.4101e+00,  2.1696e+00,\n",
              "            -3.8908e+00, -9.1786e-01, -5.2837e+00, -2.2446e+00, -5.7104e+00,\n",
              "            -3.0193e+00, -1.4152e+00, -4.3862e+00, -3.1073e+00, -6.1302e-01,\n",
              "            -1.7259e+00, -5.6155e+00, -9.2849e-01, -1.5436e+00, -4.1214e+00,\n",
              "            -3.0737e+00,  1.3747e+00, -4.5736e+00,  2.6357e+00,  3.1766e+00,\n",
              "             1.8881e+00, -6.8497e+00, -4.9727e+00, -4.2758e+00, -4.1210e+00,\n",
              "            -5.3823e+00, -5.0875e-01, -2.9729e+00,  6.5385e-01,  9.6130e-01,\n",
              "            -1.8151e+00, -1.6066e+00, -5.3457e+00, -4.0116e+00,  1.0999e+00,\n",
              "            -4.6919e+00,  2.9649e+00, -3.1043e+00,  9.3726e-01, -1.5402e+00,\n",
              "            -2.6544e+00, -4.6181e+00, -1.7855e+00, -2.5008e+00, -5.2209e+00,\n",
              "            -2.3409e+00, -5.8093e+00, -2.0173e+00,  1.8067e-01, -2.0841e+00,\n",
              "            -1.1300e+00, -2.8737e+00, -2.3127e+00, -2.4460e+00, -3.8410e+00,\n",
              "            -2.4969e-02, -1.4156e-01, -8.0025e-01, -2.2427e+00, -4.2033e+00,\n",
              "            -3.7886e+00, -9.4104e-01,  5.8921e-01, -2.1138e+00, -1.4209e+00,\n",
              "            -2.3447e+00, -5.7709e+00, -8.8977e-02,  1.7496e+00,  3.4158e+00,\n",
              "            -2.6041e+00, -1.9404e+00, -4.5169e+00, -2.6272e+00, -2.5060e+00,\n",
              "            -5.9486e+00,  9.8520e-01, -7.0522e-01, -4.9046e+00, -5.5716e+00,\n",
              "            -2.1920e+00, -4.9192e+00, -2.2436e+00, -5.2071e+00, -3.3976e+00,\n",
              "            -9.1640e-01, -8.8137e-01, -4.3886e+00, -5.0229e+00,  1.6731e-01,\n",
              "            -2.3109e+00, -1.5931e+00, -2.0339e+00, -2.3101e+00,  1.7848e-01,\n",
              "            -1.1998e+00,  1.9240e+00, -5.8547e+00, -3.9710e+00, -1.2172e+00,\n",
              "            -2.7936e+00, -1.1023e+00, -6.0543e-01, -1.3211e+00, -1.1869e+00,\n",
              "            -2.1086e+00, -3.7146e+00, -9.1936e-01, -2.1445e+00, -1.2666e+00,\n",
              "            -5.5141e+00,  1.9490e+00, -7.1113e-01, -6.6038e-02, -6.0452e+00,\n",
              "            -4.1070e+00, -4.3015e+00, -2.8646e+00, -2.9829e+00, -1.8511e+00,\n",
              "            -2.3772e-01, -2.0599e+00,  1.0787e+00,  2.0407e+00, -5.7501e+00,\n",
              "            -2.8869e+00, -3.4279e+00, -2.3408e+00, -3.5812e+00, -1.9976e+00,\n",
              "             2.1959e+00, -3.1192e+00,  3.0127e+00, -5.9417e+00, -2.7826e+00,\n",
              "            -6.2359e-01,  2.4392e+00,  1.4515e+00, -5.6857e-01, -2.5201e+00,\n",
              "            -6.0676e+00, -5.0850e+00, -1.1264e+00, -5.1636e+00, -2.6391e+00,\n",
              "            -5.7686e+00, -2.2865e+00, -1.1981e+00, -1.1288e+00, -6.7340e-01,\n",
              "            -2.7398e+00, -4.0956e+00, -9.0136e-01, -1.1161e+00, -5.9937e+00,\n",
              "             1.5171e+00, -3.6298e+00,  1.9669e+00,  1.9454e+00,  1.1896e+00,\n",
              "            -1.5605e+00, -6.1181e+00, -4.8664e+00, -1.4571e+00,  1.9842e+00,\n",
              "             2.0335e+00,  1.5034e+00, -3.1585e+00, -1.4009e+00,  1.8765e+00,\n",
              "            -1.7579e+00, -2.3613e+00, -9.1517e-01, -1.8871e+00, -2.1200e+00,\n",
              "            -1.4448e+00, -2.0211e+00, -1.0062e+00, -3.1664e+00, -2.2256e+00,\n",
              "            -2.1201e+00,  2.3456e+00, -1.7605e+00, -3.1409e-01, -1.3165e+00,\n",
              "             1.3389e+00, -1.1297e+00, -2.9893e+00, -1.3609e+00, -1.4722e+00,\n",
              "            -3.9673e+00, -7.4825e-01, -2.0217e+00,  3.5040e-01, -5.7551e+00,\n",
              "            -2.4170e-01, -1.8551e+00,  7.9941e-01, -1.0737e+00, -2.5882e+00,\n",
              "            -2.7308e+00, -6.3780e+00,  4.9462e-01, -1.2970e+00, -2.3838e+00,\n",
              "            -2.1955e+00,  2.8599e+00, -5.3515e+00, -2.7535e+00, -1.4498e+00,\n",
              "            -3.2511e-01, -2.6447e+00, -2.5458e+00,  1.2518e+00, -2.9705e+00,\n",
              "            -4.6366e+00,  9.3322e-02, -1.5081e+00, -2.8151e+00,  1.0636e+00,\n",
              "            -1.2168e+00, -1.1770e+00, -2.6015e+00, -1.8791e+00, -9.6303e-01,\n",
              "            -6.3277e+00,  4.7267e-01,  5.4254e-01, -1.2464e+00,  8.6547e-01,\n",
              "             2.7022e+00, -2.1919e+00, -1.7797e+00, -1.2467e+00, -8.2668e-01,\n",
              "            -1.7619e+00, -1.3374e+00,  4.3975e-01, -1.1502e+00, -3.9301e+00,\n",
              "            -1.6323e+00, -4.7055e+00, -1.3795e+00, -5.1548e+00, -5.1216e+00,\n",
              "            -5.9894e+00, -2.0135e+00,  1.0220e+00, -2.3883e+00, -5.4399e+00,\n",
              "            -6.2396e-01, -2.1559e+00, -2.7251e+00,  1.3036e+00, -1.2802e+00,\n",
              "            -5.7139e+00, -3.9780e+00, -1.2263e+00, -5.2516e+00, -3.1121e-01,\n",
              "            -2.9792e+00,  2.5471e+00, -3.7495e+00, -6.4787e+00, -3.0362e+00,\n",
              "            -4.6158e+00, -3.7840e+00, -2.0126e+00, -1.0390e+00, -3.3562e+00,\n",
              "             2.4376e-01, -2.3459e+00,  1.8357e+00, -1.4846e+00, -2.1751e+00,\n",
              "             8.6133e-01, -1.4046e+00, -4.6082e+00, -2.6691e+00, -3.3581e+00,\n",
              "            -7.5542e-01, -5.3090e+00, -1.0418e+00, -3.4711e+00, -2.6267e+00,\n",
              "            -5.8864e+00, -3.9576e+00, -2.5904e-01,  3.3909e+00, -1.1283e+00,\n",
              "            -5.3160e+00,  9.8410e-03, -5.0716e+00,  5.3489e-02, -4.4700e+00,\n",
              "            -2.5464e+00, -2.3294e+00, -5.3164e-01,  2.7115e+00, -5.5902e+00,\n",
              "            -2.6499e+00,  1.2093e+00, -3.5167e+00, -5.0930e+00, -1.1975e+00,\n",
              "            -3.7677e+00, -5.1955e+00,  2.8371e+00, -2.1400e+00, -1.1394e+00,\n",
              "            -3.9211e+00,  1.6667e-01, -1.4815e+00, -1.2979e+00,  2.7953e+00,\n",
              "             2.9387e+00,  2.7780e+00,  1.9988e+00, -7.2438e-01, -2.5008e+00,\n",
              "             2.6227e+00, -4.5927e+00, -2.1065e+00, -1.0457e+00, -1.0770e+00,\n",
              "            -1.4345e+00, -3.0443e+00,  2.7719e+00, -4.1298e+00, -2.3700e-01,\n",
              "            -4.0260e+00,  2.6298e-01, -5.1462e-01, -1.6919e+00, -2.4932e+00,\n",
              "            -3.4496e-01, -4.0848e+00, -2.1913e+00, -1.1049e+00, -6.0132e+00,\n",
              "             1.2549e+00, -4.5719e+00, -1.7076e+00,  4.8189e-01, -3.5647e+00,\n",
              "            -1.8250e-01, -5.0175e+00, -5.8732e+00,  1.4485e+00, -4.0357e+00,\n",
              "            -2.1295e+00, -4.3688e+00, -5.5040e+00, -2.4022e+00, -2.1389e+00,\n",
              "            -8.9794e-02, -2.3690e+00, -5.7524e+00, -6.8422e-01, -4.2803e+00,\n",
              "            -4.0733e+00, -3.0363e+00, -3.5815e-01, -2.5498e-01, -2.8037e+00,\n",
              "             5.4541e-02, -2.6620e+00, -7.6482e-01, -2.7162e+00, -1.6220e+00,\n",
              "            -2.1207e+00,  2.4149e+00, -2.1100e+00, -4.1554e+00, -1.7330e+00,\n",
              "            -1.9583e+00,  2.3847e-01, -3.7058e+00, -1.2963e+00, -2.6440e+00,\n",
              "            -3.6430e+00, -5.1435e+00, -1.9171e+00, -3.1346e+00, -4.5042e+00,\n",
              "            -4.0837e+00, -1.8931e+00, -1.8018e+00, -1.9456e+00, -3.7728e+00,\n",
              "            -4.9819e+00, -4.3125e+00, -7.6318e-01, -4.1845e+00,  4.8320e-02,\n",
              "            -1.8412e+00, -1.5269e+00, -5.5388e+00, -3.0296e+00, -2.2053e+00,\n",
              "            -3.4922e+00, -1.0274e+00, -1.6122e+00, -2.7439e+00, -4.5145e+00,\n",
              "            -9.7456e-01,  2.0531e+00, -3.2584e+00, -1.5137e+00, -5.9879e-02,\n",
              "            -2.3721e+00, -2.6127e-01, -1.9507e+00,  8.9341e-01,  1.3876e+00,\n",
              "            -3.2928e+00, -9.2275e-01,  2.8066e+00,  2.3472e+00, -4.0992e+00,\n",
              "            -4.8308e+00,  1.6389e-01, -6.4060e+00, -1.3167e+00, -3.7419e+00,\n",
              "            -2.1903e+00,  6.5382e-03, -4.8001e-01, -3.9763e+00, -1.6969e+00,\n",
              "            -1.1607e+00, -3.6681e+00, -2.7645e-01,  2.2676e+00, -9.2136e-01,\n",
              "            -5.0099e+00, -3.8368e+00,  2.1256e+00, -4.0795e+00, -1.2863e+00,\n",
              "            -1.0710e+00, -2.9470e+00,  1.1895e+00, -3.6466e+00, -5.4541e+00,\n",
              "            -6.1202e+00, -9.6161e-01, -5.2095e+00,  1.1914e+00, -2.8441e+00,\n",
              "            -3.6204e+00, -2.1755e+00, -2.0045e+00,  3.5485e-01, -4.7674e-01,\n",
              "            -4.0229e+00, -6.0799e+00, -9.7767e-01,  9.3275e-02, -5.9095e+00,\n",
              "            -4.8930e+00, -3.1160e+00, -2.6225e-01, -2.6143e-01, -1.3205e+00,\n",
              "            -2.8143e+00, -3.1068e+00,  3.5257e+00, -3.6277e+00, -5.6710e+00,\n",
              "            -2.1837e+00, -1.7056e+00, -6.5983e+00, -2.0368e+00,  1.1565e-01,\n",
              "            -3.4745e+00, -1.7323e+00, -4.8718e+00, -1.7357e+00, -2.8528e+00,\n",
              "             1.1808e+00, -8.9450e-01,  2.4145e-02, -5.1826e+00, -1.5470e+00,\n",
              "            -3.6800e+00, -6.7588e-01, -4.8153e+00, -3.5172e+00, -3.7557e+00,\n",
              "             1.0695e+00, -1.8568e+00,  1.1899e+00, -4.5674e+00, -3.1626e+00,\n",
              "             1.3944e+00, -5.6758e+00, -1.2934e+00, -2.3790e-01, -2.8364e+00,\n",
              "            -2.5227e+00, -2.0930e+00, -2.0050e+00, -4.0487e+00, -3.6489e+00,\n",
              "            -6.7875e+00, -1.0637e+00,  1.0406e+00, -3.5590e+00, -3.4566e+00,\n",
              "             1.7111e+00, -1.9206e+00, -4.9706e-01, -5.5258e-01,  1.6484e+00,\n",
              "            -5.1877e+00,  2.8495e+00, -1.1851e+00, -3.4222e+00, -1.6747e+00,\n",
              "            -2.9321e+00, -8.9165e-01,  1.4519e+00, -8.6471e-01, -2.4651e+00,\n",
              "             1.9079e+00, -3.8618e+00, -6.3645e+00, -3.9515e+00,  5.0015e-01,\n",
              "            -1.8623e+00, -6.2729e+00, -5.6247e+00, -5.7058e+00, -4.1105e+00,\n",
              "             1.2008e+00, -5.1131e+00, -2.9587e+00, -3.0577e+00, -4.9235e+00],\n",
              "           device='cuda:0', requires_grad=True),\n",
              "    Parameter containing:\n",
              "    tensor([[-1.4807, -3.0792, -1.4696,  ..., -0.0655, -0.1233, -0.0864],\n",
              "            [-0.1692, -0.3519, -0.4784,  ..., -0.7172, -0.5945, -0.3973],\n",
              "            [-1.3087, -2.7299, -0.7351,  ..., -0.0371, -0.0838, -0.0738],\n",
              "            ...,\n",
              "            [ 0.0829,  0.3505,  0.3335,  ...,  0.4026,  0.2575,  0.0924],\n",
              "            [-0.5473, -2.3958, -0.4829,  ..., -0.0912, -0.0382, -0.0219],\n",
              "            [-0.1310, -2.4629, -0.1878,  ..., -0.2408, -0.2127, -0.1036]],\n",
              "           device='cuda:0', requires_grad=True),\n",
              "    Parameter containing:\n",
              "    tensor([-0.3108,  0.1056, -0.3442, -0.1101, -0.2362, -0.4080, -0.1975, -0.2309,\n",
              "            -0.3549, -0.4241,  0.7127, -0.6505, -0.1178, -0.2765, -0.1970, -0.4270,\n",
              "            -0.1024, -0.2004, -0.3537, -0.4613, -0.1778, -0.6460, -0.2269, -0.4068,\n",
              "             0.9702, -0.1913, -0.3541,  0.2141, -0.3582,  0.8082, -0.3805, -0.1699,\n",
              "            -0.3043, -0.2395, -0.6797, -0.2218, -0.1362, -0.7413, -0.3981, -0.4213,\n",
              "            -0.3685, -0.4181, -0.5971, -0.2940, -0.4100, -0.8065, -0.3516,  0.8790,\n",
              "            -0.1317, -0.4661, -0.1807, -0.3597, -0.3487, -0.1963, -0.4260, -0.3666,\n",
              "            -0.2179, -0.2639, -0.4388, -0.4179, -0.3540, -0.1993, -0.2605, -0.4112,\n",
              "            -0.1386, -0.3954, -0.3820, -0.1677, -0.2406, -0.2562, -0.4020, -0.4546,\n",
              "            -0.1203, -0.0579,  0.0246,  0.0841, -0.0393, -0.3689, -0.3715, -0.2130,\n",
              "            -0.1431, -0.8813, -0.4665, -0.4312,  0.3874, -0.4703, -0.4200, -0.4148,\n",
              "            -0.1213, -0.4258, -1.0101, -0.4391, -0.2410, -0.3381, -0.3533, -0.4768,\n",
              "            -0.4252, -0.1089, -0.3873, -0.4039, -0.3606, -0.4321, -0.3408, -0.3407,\n",
              "            -0.3673, -0.2021, -0.1304, -0.3268, -0.2227, -0.3620, -0.3900, -0.9699,\n",
              "             0.3264, -0.4030, -0.0588, -0.6871, -0.1659, -0.4022, -0.2335, -0.2852,\n",
              "             0.7315, -0.2987, -0.2037, -0.4156,  1.0193, -0.1807, -0.4153, -0.3898,\n",
              "            -0.4056, -0.1564, -0.3030, -0.2398, -0.0949, -0.5578, -0.4100, -0.4045,\n",
              "            -0.3854, -0.4377, -0.3882, -0.4278, -0.2026, -0.8243, -0.1463, -0.7565,\n",
              "            -0.1618, -0.0798, -0.3315,  0.9206, -0.2920,  1.0341, -0.1514, -0.4543,\n",
              "            -0.2504, -0.2325, -0.3689,  0.7830,  0.0430, -0.1967, -0.1920,  0.9053,\n",
              "            -0.3714, -0.4235, -0.6352, -0.1716, -0.3946, -0.2265, -0.8623,  0.7697,\n",
              "            -0.4293, -0.2644, -0.7522, -0.1752, -0.2296, -0.3911, -0.9663, -0.1543,\n",
              "            -0.7937, -0.3609, -0.0219, -0.3906, -0.3212, -0.2729, -0.2019, -0.2529,\n",
              "             0.9038, -0.8925, -0.3907, -0.2193, -0.3833,  0.4743, -0.2082, -0.2674,\n",
              "            -0.0989, -0.6660, -0.3603,  0.9298, -0.1320,  0.8324, -0.4220, -0.0137],\n",
              "           device='cuda:0', requires_grad=True),\n",
              "    Parameter containing:\n",
              "    tensor([[ 0.7574,  1.2190,  0.7531,  1.0889,  0.8528,  0.7572,  1.0380,  0.9062,\n",
              "              0.7463,  0.4054,  0.2310, -0.3608,  1.0874,  0.8339,  0.9107,  0.7636,\n",
              "              0.9883,  0.9510,  0.7691,  0.4827,  0.9269, -0.5013,  0.9899,  0.7755,\n",
              "              0.3824,  0.9917,  0.7733,  0.7117,  0.7337,  0.1781,  0.7679,  0.9998,\n",
              "              0.9276,  0.8509, -0.4432,  0.9775,  1.4871, -0.4836,  0.7597,  0.7742,\n",
              "              0.7479,  0.7250, -0.6704,  0.8504,  0.7690, -0.1542,  0.7659,  0.3866,\n",
              "              0.8792,  0.6499,  0.8939,  0.7637,  0.7298,  1.0038,  0.7742,  0.7745,\n",
              "              0.8736,  0.8415,  0.6298,  0.8049,  0.7625,  0.9185,  0.8355,  0.7495,\n",
              "              1.0289,  0.7632,  0.7393,  0.9814,  0.8535,  0.8211,  0.7206,  0.7096,\n",
              "              0.6249,  1.1305,  0.4826,  0.8113,  0.7412,  0.7462,  0.7575,  0.8548,\n",
              "              1.0505, -0.2895,  0.5620,  0.7170,  0.6963,  0.6236,  0.6434,  0.7359,\n",
              "              2.3686,  0.7564, -0.4649,  0.6538,  0.8550,  0.7706,  0.8671,  0.6311,\n",
              "              0.7562,  1.0866,  0.7461,  0.6272,  0.7130,  0.5433,  0.7945,  0.7481,\n",
              "              0.7259,  0.8420,  1.5485,  0.7848,  0.9388,  0.7591,  0.7658, -0.1367,\n",
              "              0.6920,  0.7538,  1.1161, -0.4151,  0.9242,  0.7350,  0.8423,  0.8307,\n",
              "              0.3980,  0.7720,  0.8460,  0.7745,  0.4142,  0.9062,  0.7091,  0.7561,\n",
              "              0.7278,  0.5845,  0.7423,  0.9935,  0.6901,  0.5005,  0.7225,  0.7171,\n",
              "              0.7757,  0.7418,  0.7716,  0.7110,  0.9571, -0.1539,  0.9806, -0.2467,\n",
              "              0.8717,  1.0559,  0.8348,  0.4030,  0.7434,  0.3697,  1.0091,  0.7606,\n",
              "              0.8438,  0.9443,  0.7683,  0.2614,  0.8210,  0.9860,  1.0119,  0.4045,\n",
              "              0.7212,  0.7450, -0.4829,  0.9959,  0.7558,  0.8655, -0.0953,  0.1488,\n",
              "              0.7366,  0.8818, -0.2629,  0.9866,  0.9030,  0.7646, -0.1136,  0.8756,\n",
              "             -0.2523,  0.7834,  0.7532,  0.7633,  0.8447,  0.8629,  0.9934,  0.8465,\n",
              "              0.4096, -0.3499,  0.7386,  0.9905,  0.8677,  0.6499,  0.8762,  0.9601,\n",
              "              1.0241, -0.4334,  0.7795,  0.4081,  0.9115,  0.3856,  0.7563,  1.1086]],\n",
              "           device='cuda:0', requires_grad=True),\n",
              "    Parameter containing:\n",
              "    tensor([0.4020], device='cuda:0', requires_grad=True)]}],\n",
              " '_warned_capturable_if_run_uncaptured': True}"
            ]
          },
          "metadata": {},
          "execution_count": 53
        },
        {
          "output_type": "execute_result",
          "data": {
            "text/plain": [
              "<torch.optim.lr_scheduler.ReduceLROnPlateau at 0x7f9721c85b70>"
            ]
          },
          "metadata": {},
          "execution_count": 53
        },
        {
          "output_type": "execute_result",
          "data": {
            "text/plain": [
              "{'factor': 0.5,\n",
              " 'optimizer': Adam (\n",
              " Parameter Group 0\n",
              "     amsgrad: False\n",
              "     betas: (0.9, 0.999)\n",
              "     capturable: False\n",
              "     differentiable: False\n",
              "     eps: 1e-08\n",
              "     foreach: None\n",
              "     fused: None\n",
              "     lr: 1e-06\n",
              "     maximize: False\n",
              "     weight_decay: 0\n",
              " ),\n",
              " 'min_lrs': [1e-06],\n",
              " 'patience': 5,\n",
              " 'verbose': False,\n",
              " 'cooldown': 0,\n",
              " 'cooldown_counter': 0,\n",
              " 'mode': 'min',\n",
              " 'threshold': 0.0005,\n",
              " 'threshold_mode': 'rel',\n",
              " 'best': 2.9601822247059316e-06,\n",
              " 'num_bad_epochs': 0,\n",
              " 'mode_worse': inf,\n",
              " 'eps': 1e-08,\n",
              " 'last_epoch': 400,\n",
              " '_last_lr': [1e-06]}"
            ]
          },
          "metadata": {},
          "execution_count": 53
        }
      ],
      "source": [
        "batch_size_loaded\n",
        "n_epochs_loaded\n",
        "loss_name_loaded\n",
        "optimizer_name_loaded\n",
        "scheduler_name_loaded\n",
        "n_units_loaded\n",
        "n_layers_loaded\n",
        "hidden_activation_name_loaded\n",
        "output_activation_name_loaded\n",
        "lr_loaded\n",
        "hidden_activation_loaded\n",
        "output_activation_loaded\n",
        "net_loaded\n",
        "net_loaded.__dict__ # print the subparameters of the network\n",
        "loss_fn_loaded\n",
        "optimizer_loaded\n",
        "optimizer_loaded.__dict__ # print the subparameters of the optimizer\n",
        "scheduler_loaded\n",
        "scheduler_loaded.__dict__ # print the subparameters of the scheduler\n",
        "#train_losses_loaded\n",
        "#test_losses_loaded\n",
        "#train_metrics_loaded\n",
        "#test_metrics_loaded"
      ]
    },
    {
      "cell_type": "markdown",
      "metadata": {
        "id": "vLk5KuILIj4W"
      },
      "source": [
        "Let us verify correct loading of the train and test metrics by visualizing them again but now through the loaded values. Likewise for the train and test losses."
      ]
    },
    {
      "cell_type": "code",
      "execution_count": null,
      "metadata": {
        "id": "Fds1-2S1Ij4W"
      },
      "outputs": [],
      "source": [
        "%config InteractiveShell.ast_node_interactivity = \"last_expr_or_assign\"\n"
      ]
    },
    {
      "cell_type": "code",
      "execution_count": null,
      "metadata": {
        "id": "q2fzdGCWIj4X",
        "outputId": "8adf56aa-fe43-43ce-c3c3-60f1628436bb",
        "colab": {
          "base_uri": "https://localhost:8080/",
          "height": 1000
        }
      },
      "outputs": [
        {
          "output_type": "display_data",
          "data": {
            "text/plain": [
              "<Figure size 640x480 with 2 Axes>"
            ],
            "image/png": "[encoded data removed]"
          },
          "metadata": {}
        },
        {
          "output_type": "display_data",
          "data": {
            "text/plain": [
              "<Figure size 800x600 with 1 Axes>"
            ],
            "image/png": "[encoded data removed]"
          },
          "metadata": {}
        }
      ],
      "source": [
        "\n",
        "# Plotting the losses and metrics for the best network plt.figure(figsize=(12, \n",
        "#plt.subplot(2, 2, 1)\n",
        "#plt.plot(train_losses_loaded, label=\"Train Loss\")\n",
        "#plt.plot(test_losses_loaded, label=\"Test Loss\")\n",
        "#plt.xlabel(\"Epoch\")\n",
        "#plt.ylabel(\"Loss\")\n",
        "#plt.legend()\n",
        "plt.subplot(2, 2, 2)\n",
        "plt.plot([m[\"l1_norm\"] for m in train_metrics_loaded], label=\"Train L1 Norm\")\n",
        "plt.plot([m[\"l1_norm\"] for m in test_metrics_loaded], label=\"Test L1 Norm\")\n",
        "plt.xlabel(\"Epoch\")\n",
        "plt.ylabel(\"L1 Norm\")\n",
        "# Added setting the vertical axis to be in powers of 10\n",
        "plt.yscale(\"log\")\n",
        "# Added setting the vertical axis limits to be from 10^-7 to 10^0\n",
        "plt.ylim(1e-3, 1e2)\n",
        "plt.legend()\n",
        "plt.subplot(2, 2, 3)\n",
        "plt.plot([m[\"linf_norm\"] for m in train_metrics_loaded], label=\"Train Linf Norm\")\n",
        "plt.plot([m[\"linf_norm\"] for m in test_metrics_loaded], label=\"Test Linf Norm\")\n",
        "plt.xlabel(\"Epoch\")\n",
        "plt.ylabel(\"Linf Norm\")\n",
        "# Added setting the vertical axis to be in powers of 10\n",
        "plt.yscale(\"log\")\n",
        "# Added setting the vertical axis limits to be from 10^-7 to 10^0\n",
        "plt.ylim(1e-3, 1e2)\n",
        "plt.legend()\n",
        "plt.tight_layout()\n",
        "plt.show()\n",
        "\n",
        "# Added plotting MSE of training data and MSE of test data in one plot \n",
        "plt.figure(figsize=(8, 6))\n",
        "plt.plot(train_losses_loaded,label=\"training data\")\n",
        "plt.plot(test_losses_loaded,label=\"test data\")\n",
        "#if scheduler is not None:\n",
        "#    plt.plot([scheduler.get_last_lr()[0] for _ in range(n_epochs)], label=\"Learning rate\") \n",
        "plt.xlabel(\"Epoch\")\n",
        "plt.ylabel(\"MSE\")\n",
        "# Added setting the vertical axis to be in powers of 10\n",
        "plt.yscale(\"log\")\n",
        "# Added setting the vertical axis limits to be from 10^-7 to 10^0\n",
        "plt.ylim(1e-7, 1e0)\n",
        "plt.legend()\n",
        "plt.show()\n"
      ]
    },
    {
      "cell_type": "code",
      "execution_count": null,
      "metadata": {
        "id": "M1xrb9wNIj4Y"
      },
      "outputs": [],
      "source": [
        "%config InteractiveShell.ast_node_interactivity = \"all\""
      ]
    },
    {
      "cell_type": "markdown",
      "metadata": {
        "id": "lEq_NweXIj4Y"
      },
      "source": [
        "## Evaluating the network on arbirary input\n",
        "### Comparing `net` and `net_loaded`\n",
        "\n",
        "We compare `net` and `net_loaded` to confirm correct loading of the network."
      ]
    },
    {
      "cell_type": "code",
      "execution_count": null,
      "metadata": {
        "id": "A6DNZHoKIj4Z"
      },
      "outputs": [],
      "source": [
        "print(list(net.parameters()))"
      ]
    },
    {
      "cell_type": "code",
      "execution_count": null,
      "metadata": {
        "id": "oQBVuFG3Ij4Z"
      },
      "outputs": [],
      "source": [
        "print(list(net_loaded.parameters()))"
      ]
    },
    {
      "cell_type": "code",
      "execution_count": null,
      "metadata": {
        "id": "fyUGIXiMIj4b"
      },
      "outputs": [],
      "source": [
        "# Set the network to evaluation mode\n",
        "net.eval()"
      ]
    },
    {
      "cell_type": "code",
      "execution_count": null,
      "metadata": {
        "id": "RcuMMXwdIj4c"
      },
      "outputs": [],
      "source": [
        "rho_example, vx_example, epsilon_example = sample_primitive_variables(20)\n",
        "\n",
        "# Create arbitrary input\n",
        "inputs =  generate_input_data(rho_example, vx_example, epsilon_example)\n",
        "inputs"
      ]
    },
    {
      "cell_type": "code",
      "execution_count": null,
      "metadata": {
        "id": "nveyymP9Ij4c"
      },
      "outputs": [],
      "source": [
        "# Pass the inputs to the network and get the outputs\n",
        "outputs = [net(input) for input in inputs]\n",
        "# Print the outputs\n",
        "outputs"
      ]
    },
    {
      "cell_type": "code",
      "execution_count": null,
      "metadata": {
        "id": "FuG2Qvg-Ij4d"
      },
      "outputs": [],
      "source": [
        "# Set the network to evaluation mode\n",
        "net_loaded.eval()\n"
      ]
    },
    {
      "cell_type": "code",
      "execution_count": null,
      "metadata": {
        "id": "alYehOWmIj4d"
      },
      "outputs": [],
      "source": [
        "\n",
        "# Pass the inputs to the network and get the outputs\n",
        "outputs = [net_loaded(input) for input in inputs]\n",
        "# Print the outputs\n",
        "outputs"
      ]
    },
    {
      "cell_type": "markdown",
      "metadata": {
        "id": "OOiQ2CvoIj4e"
      },
      "source": [
        "## Porting the model to C++"
      ]
    },
    {
      "cell_type": "code",
      "execution_count": null,
      "metadata": {
        "id": "uT5eho9eIj4e",
        "outputId": "b74bc139-c40c-4e9b-f91b-4ec792b24b63",
        "colab": {
          "base_uri": "https://localhost:8080/"
        }
      },
      "outputs": [
        {
          "output_type": "execute_result",
          "data": {
            "text/plain": [
              "tensor([[-1.2807, -0.5989,  3.2677]], device='cuda:0')"
            ]
          },
          "metadata": {},
          "execution_count": 57
        },
        {
          "output_type": "execute_result",
          "data": {
            "text/plain": [
              "tensor([[ 9.3984, 18.2380, 22.1755]], device='cuda:0')"
            ]
          },
          "metadata": {},
          "execution_count": 57
        },
        {
          "output_type": "execute_result",
          "data": {
            "text/plain": [
              "tensor([[10.0940]], device='cuda:0', grad_fn=<ReluBackward0>)"
            ]
          },
          "metadata": {},
          "execution_count": 57
        }
      ],
      "source": [
        "import torch.jit\n",
        "\n",
        "# Creating a dummy input tensor of shape (1, 3) to trace the model\n",
        "dummy_input = torch.randn(1, 3).to(device)\n",
        "dummy_input\n",
        "\n",
        "# Tracing the model using the torch.jit.trace function\n",
        "traced_model = torch.jit.trace(net_loaded, dummy_input)\n",
        "\n",
        "# Saving the traced model to a file named \"net.pt\"\n",
        "traced_model.save(\"net.pt\")\n",
        "save_file(\"net.pt\")\n",
        "\n",
        "example_input_to_validate_correct_export_and_import = generate_input_data(*sample_primitive_variables(1))\n",
        "example_input_to_validate_correct_export_and_import\n",
        "net_loaded(example_input_to_validate_correct_export_and_import)"
      ]
    }
  ],
  "metadata": {
    "kernelspec": {
      "display_name": "bsc",
      "language": "python",
      "name": "python3"
    },
    "language_info": {
      "codemirror_mode": {
        "name": "ipython",
        "version": 3
      },
      "file_extension": ".py",
      "mimetype": "text/x-python",
      "name": "python",
      "nbconvert_exporter": "python",
      "pygments_lexer": "ipython3",
      "version": "3.11.3"
    },
    "orig_nbformat": 4,
    "colab": {
      "provenance": [],
      "gpuType": "T4"
    },
    "accelerator": "GPU",
    "gpuClass": "standard"
  },
  "nbformat": 4,
  "nbformat_minor": 0
}