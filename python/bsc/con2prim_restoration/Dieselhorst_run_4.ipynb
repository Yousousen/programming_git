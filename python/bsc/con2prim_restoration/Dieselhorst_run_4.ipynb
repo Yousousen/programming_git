{
  "cells": [
    {
      "cell_type": "markdown",
      "metadata": {
        "id": "Fccp8EB7Ne7T"
      },
      "source": [
        "# Neural network to learn conservative-to-primitive conversion in relativistic hydrodynamics\n",
        "We use Optuna to do a type of Bayesian optimization of the hyperparameters of the model. We then train the model using these hyperparameters to recover the primitive pressure from the conserved variables.\n",
        "\n",
        "Use this first cell to convert this notebook to a python script."
      ]
    },
    {
      "cell_type": "code",
      "execution_count": 8,
      "metadata": {
        "colab": {
          "base_uri": "https://localhost:8080/"
        },
        "id": "Xk7l7k73Ne7c",
        "outputId": "26fdd75a-8383-48a2-974d-2c067996c8ad",
        "tags": [
          "remove_cell"
        ]
      },
      "outputs": [
        {
          "name": "stdout",
          "output_type": "stream",
          "text": [
            "skipping\n"
          ]
        }
      ],
      "source": [
        "%%script echo skipping\n",
        "\n",
        "!jupyter nbconvert pt4.ipynb --TagRemovePreprocessor.enabled=True --TagRemovePreprocessor.remove_cell_tags='{\"remove_cell\"}' --to script"
      ]
    },
    {
      "cell_type": "code",
      "execution_count": 9,
      "metadata": {
        "colab": {
          "base_uri": "https://localhost:8080/"
        },
        "id": "L-Fe_NZbNe7g",
        "outputId": "a396d068-cccb-443d-de8d-2927e238ccc1"
      },
      "outputs": [
        {
          "name": "stdout",
          "output_type": "stream",
          "text": [
            "Defaulting to user installation because normal site-packages is not writeable\n",
            "Requirement already satisfied: optuna in /home/yousousen/.local/lib/python3.11/site-packages (3.1.1)\n",
            "Requirement already satisfied: tensorboard in /home/yousousen/.local/lib/python3.11/site-packages (2.13.0)\n",
            "Requirement already satisfied: tensorboardX in /home/yousousen/.local/lib/python3.11/site-packages (2.5)\n",
            "Requirement already satisfied: alembic>=1.5.0 in /home/yousousen/.local/lib/python3.11/site-packages (from optuna) (1.10.4)\n",
            "Requirement already satisfied: cmaes>=0.9.1 in /home/yousousen/.local/lib/python3.11/site-packages (from optuna) (0.9.1)\n",
            "Requirement already satisfied: colorlog in /home/yousousen/.local/lib/python3.11/site-packages (from optuna) (6.7.0)\n",
            "Requirement already satisfied: numpy in /usr/lib/python3.11/site-packages (from optuna) (1.24.3)\n",
            "Requirement already satisfied: packaging>=20.0 in /usr/lib/python3.11/site-packages (from optuna) (23.1)\n",
            "Requirement already satisfied: sqlalchemy>=1.3.0 in /home/yousousen/.local/lib/python3.11/site-packages (from optuna) (2.0.12)\n",
            "Requirement already satisfied: tqdm in /home/yousousen/.local/lib/python3.11/site-packages (from optuna) (4.65.0)\n",
            "Requirement already satisfied: PyYAML in /usr/lib/python3.11/site-packages (from optuna) (6.0)\n",
            "Requirement already satisfied: absl-py>=0.4 in /home/yousousen/.local/lib/python3.11/site-packages (from tensorboard) (1.4.0)\n",
            "Requirement already satisfied: grpcio>=1.48.2 in /home/yousousen/.local/lib/python3.11/site-packages (from tensorboard) (1.51.3)\n",
            "Requirement already satisfied: google-auth<3,>=1.6.3 in /home/yousousen/.local/lib/python3.11/site-packages (from tensorboard) (2.17.3)\n",
            "Requirement already satisfied: google-auth-oauthlib<1.1,>=0.5 in /home/yousousen/.local/lib/python3.11/site-packages (from tensorboard) (1.0.0)\n",
            "Requirement already satisfied: markdown>=2.6.8 in /usr/lib/python3.11/site-packages (from tensorboard) (3.4.3)\n",
            "Requirement already satisfied: protobuf>=3.19.6 in /usr/lib/python3.11/site-packages (from tensorboard) (4.21.12)\n",
            "Requirement already satisfied: requests<3,>=2.21.0 in /usr/lib/python3.11/site-packages (from tensorboard) (2.28.2)\n",
            "Requirement already satisfied: setuptools>=41.0.0 in /usr/lib/python3.11/site-packages (from tensorboard) (67.8.0)\n",
            "Requirement already satisfied: tensorboard-data-server<0.8.0,>=0.7.0 in /home/yousousen/.local/lib/python3.11/site-packages (from tensorboard) (0.7.0)\n",
            "Requirement already satisfied: werkzeug>=1.0.1 in /usr/lib/python3.11/site-packages (from tensorboard) (2.3.2)\n",
            "Requirement already satisfied: wheel>=0.26 in /usr/lib/python3.11/site-packages (from tensorboard) (0.40.0)\n",
            "Requirement already satisfied: six in /usr/lib/python3.11/site-packages (from tensorboardX) (1.16.0)\n",
            "Requirement already satisfied: Mako in /home/yousousen/.local/lib/python3.11/site-packages (from alembic>=1.5.0->optuna) (1.2.4)\n",
            "Requirement already satisfied: typing-extensions>=4 in /usr/lib/python3.11/site-packages (from alembic>=1.5.0->optuna) (4.6.2)\n",
            "Requirement already satisfied: cachetools<6.0,>=2.0.0 in /home/yousousen/.local/lib/python3.11/site-packages (from google-auth<3,>=1.6.3->tensorboard) (5.3.0)\n",
            "Requirement already satisfied: pyasn1-modules>=0.2.1 in /home/yousousen/.local/lib/python3.11/site-packages (from google-auth<3,>=1.6.3->tensorboard) (0.3.0)\n",
            "Requirement already satisfied: rsa<5,>=3.1.4 in /home/yousousen/.local/lib/python3.11/site-packages (from google-auth<3,>=1.6.3->tensorboard) (4.9)\n",
            "Requirement already satisfied: requests-oauthlib>=0.7.0 in /home/yousousen/.local/lib/python3.11/site-packages (from google-auth-oauthlib<1.1,>=0.5->tensorboard) (1.3.1)\n",
            "Requirement already satisfied: idna<4,>=2.5 in /usr/lib/python3.11/site-packages (from requests<3,>=2.21.0->tensorboard) (3.4)\n",
            "Requirement already satisfied: urllib3<1.27,>=1.21.1 in /usr/lib/python3.11/site-packages (from requests<3,>=2.21.0->tensorboard) (1.26.15)\n",
            "Requirement already satisfied: platformdirs in /usr/lib/python3.11/site-packages (from setuptools>=41.0.0->tensorboard) (3.5.1)\n",
            "Requirement already satisfied: jaraco.text in /usr/lib/python3.11/site-packages (from setuptools>=41.0.0->tensorboard) (3.11.1)\n",
            "Requirement already satisfied: more-itertools in /usr/lib/python3.11/site-packages (from setuptools>=41.0.0->tensorboard) (9.1.0)\n",
            "Requirement already satisfied: ordered-set in /usr/lib/python3.11/site-packages (from setuptools>=41.0.0->tensorboard) (4.1.0)\n",
            "Requirement already satisfied: tomli in /usr/lib/python3.11/site-packages (from setuptools>=41.0.0->tensorboard) (2.0.1)\n",
            "Requirement already satisfied: validate-pyproject in /usr/lib/python3.11/site-packages (from setuptools>=41.0.0->tensorboard) (0.13.post1.dev0+gb752273.d20230520)\n",
            "Requirement already satisfied: greenlet!=0.4.17 in /home/yousousen/.local/lib/python3.11/site-packages (from sqlalchemy>=1.3.0->optuna) (2.0.2)\n",
            "Requirement already satisfied: MarkupSafe>=2.1.1 in /usr/lib/python3.11/site-packages (from werkzeug>=1.0.1->tensorboard) (2.1.2)\n",
            "Requirement already satisfied: pyasn1<0.6.0,>=0.4.6 in /home/yousousen/.local/lib/python3.11/site-packages (from pyasn1-modules>=0.2.1->google-auth<3,>=1.6.3->tensorboard) (0.5.0)\n",
            "Requirement already satisfied: oauthlib>=3.0.0 in /home/yousousen/.local/lib/python3.11/site-packages (from requests-oauthlib>=0.7.0->google-auth-oauthlib<1.1,>=0.5->tensorboard) (3.2.2)\n",
            "Requirement already satisfied: jaraco.functools in /usr/lib/python3.11/site-packages (from jaraco.text->setuptools>=41.0.0->tensorboard) (3.6.0)\n",
            "Requirement already satisfied: jaraco.context>=4.1 in /usr/lib/python3.11/site-packages (from jaraco.text->setuptools>=41.0.0->tensorboard) (4.3.0)\n",
            "Requirement already satisfied: autocommand in /usr/lib/python3.11/site-packages (from jaraco.text->setuptools>=41.0.0->tensorboard) (2.2.2)\n",
            "Requirement already satisfied: inflect in /usr/lib/python3.11/site-packages (from jaraco.text->setuptools>=41.0.0->tensorboard) (6.0.4)\n",
            "Requirement already satisfied: fastjsonschema<=3,>=2.16.2 in /usr/lib/python3.11/site-packages (from validate-pyproject->setuptools>=41.0.0->tensorboard) (2.17.1)\n",
            "Requirement already satisfied: pydantic>=1.9.1 in /usr/lib/python3.11/site-packages (from inflect->jaraco.text->setuptools>=41.0.0->tensorboard) (1.10.8)\n"
          ]
        }
      ],
      "source": [
        "!pip install optuna tensorboard tensorboardX"
      ]
    },
    {
      "cell_type": "code",
      "execution_count": 10,
      "metadata": {
        "id": "B5wBLc_lNe7i"
      },
      "outputs": [],
      "source": [
        "# Importing the libraries\n",
        "import numpy as np\n",
        "import matplotlib.pyplot as plt\n",
        "import torch\n",
        "import torch.nn as nn\n",
        "import torch.optim as optim\n",
        "import torch.nn.functional as F\n",
        "import optuna\n",
        "import tensorboardX as tbx\n",
        "\n",
        "# Checking if GPU is available and setting the device accordingly\n",
        "device = torch.device(\"cuda\" if torch.cuda.is_available() else \"cpu\")\n"
      ]
    },
    {
      "cell_type": "markdown",
      "metadata": {
        "id": "wSHj6PkDNe7j"
      },
      "source": [
        "## Constants and flags to set\n",
        "Defining some constants and parameters for convenience."
      ]
    },
    {
      "cell_type": "code",
      "execution_count": 11,
      "metadata": {
        "id": "v4QEHD71Ne7k"
      },
      "outputs": [],
      "source": [
        "\n",
        "N_TRIALS = 150 # Number of trials for hyperparameter optimization\n",
        "OPTIMIZE = False # Whether to optimize the hyperparameters or to use predetermined values from Dieseldorst et al..\n",
        "\n",
        "# Hyperparameters when no hyperparameter optimization is performed. \n",
        "N_LAYERS_NO_OPT = 2\n",
        "N_UNITS_NO_OPT = [600, 200]\n",
        "HIDDEN_ACTIVATION_NAME_NO_OPT = \"Sigmoid\"\n",
        "OUTPUT_ACTIVATION_NAME_NO_OPT = \"ReLU\"\n",
        "LOSS_NAME_NO_OPT = \"MSE\"\n",
        "OPTIMIZER_NAME_NO_OPT = \"Adam\"\n",
        "LR_NO_OPT = 6e-3\n",
        "BATCH_SIZE_NO_OPT = 32\n",
        "N_EPOCHS_NO_OPT = 400\n",
        "SCHEDULER_NAME_NO_OPT = \"ReduceLROnPlateau\"\n",
        "\n",
        "c = 1  # Speed of light (used in compute_conserved_variables and sample_primitive_variables functions)\n",
        "gamma = 5 / 3  # Adiabatic index (used in eos_analytic function)\n",
        "n_train_samples = 80000 # Number of training samples (used in generate_input_data and generate_labels functions)\n",
        "n_test_samples = 10000 # Number of test samples (used in generate_input_data and generate_labels functions)\n",
        "rho_interval = (0, 10.1) # Sampling interval for rest-mass density (used in sample_primitive_variables function)\n",
        "vx_interval = (0, 0.721 * c) # Sampling interval for velocity in x-direction (used in sample_primitive_variables function)\n",
        "epsilon_interval = (0, 2.02) # Sampling interval for specific internal energy (used in sample_primitive_variables function)\n",
        "\n",
        "np.random.seed(2) # Uncomment for pseudorandom data."
      ]
    },
    {
      "cell_type": "markdown",
      "metadata": {
        "id": "9lyOAIF_Ne7m"
      },
      "source": [
        "## Generating the data"
      ]
    },
    {
      "cell_type": "code",
      "execution_count": 12,
      "metadata": {
        "id": "cL9SPQMANe7n"
      },
      "outputs": [],
      "source": [
        "\n",
        "# Defining an analytic equation of state (EOS) for an ideal gas\n",
        "def eos_analytic(rho, epsilon):\n",
        "    \"\"\"Computes the pressure from rest-mass density and specific internal energy using an analytic EOS.\n",
        "\n",
        "    Args:\n",
        "        rho (torch.Tensor): The rest-mass density tensor of shape (n_samples,).\n",
        "        epsilon (torch.Tensor): The specific internal energy tensor of shape (n_samples,).\n",
        "\n",
        "    Returns:\n",
        "        torch.Tensor: The pressure tensor of shape (n_samples,).\n",
        "    \"\"\"\n",
        "    # Adding some assertions to check that the input tensors are valid and have the expected shape and type \n",
        "    assert isinstance(rho, torch.Tensor), \"rho must be a torch.Tensor\"\n",
        "    assert isinstance(epsilon, torch.Tensor), \"epsilon must be a torch.Tensor\"\n",
        "    assert rho.shape == epsilon.shape, \"rho and epsilon must have the same shape\"\n",
        "    assert rho.ndim == 1, \"rho and epsilon must be one-dimensional tensors\"\n",
        "    assert rho.dtype == torch.float32, \"rho and epsilon must have dtype torch.float32\"\n",
        "\n",
        "    return (gamma - 1) * rho * epsilon\n",
        "\n",
        "\n",
        "# Defining a function that samples primitive variables from uniform distributions\n",
        "def sample_primitive_variables(n_samples):\n",
        "    \"\"\"Samples primitive variables from uniform distributions.\n",
        "\n",
        "    Args:\n",
        "        n_samples (int): The number of samples to generate.\n",
        "\n",
        "    Returns:\n",
        "        tuple: A tuple of (rho, vx, epsilon), where rho is rest-mass density,\n",
        "            vx is velocity in x-direction,\n",
        "            epsilon is specific internal energy,\n",
        "            each being a numpy array of shape (n_samples,).\n",
        "    \"\"\"\n",
        "    # Sampling from uniform distributions with intervals matching Dieseldorst et al.\n",
        "    rho = np.random.uniform(*rho_interval, size=n_samples)  # Rest-mass density\n",
        "    vx = np.random.uniform(*vx_interval, size=n_samples)  # Velocity in x-direction\n",
        "    epsilon = np.random.uniform(*epsilon_interval, size=n_samples)  # Specific internal energy\n",
        "\n",
        "    # Returning the primitive variables\n",
        "    return rho, vx, epsilon\n",
        "\n",
        "\n",
        "# Defining a function that computes conserved variables from primitive variables\n",
        "def compute_conserved_variables(rho, vx, epsilon):\n",
        "    \"\"\"Computes conserved variables from primitive variables.\n",
        "\n",
        "    Args:\n",
        "        rho (torch.Tensor): The rest-mass density tensor of shape (n_samples,).\n",
        "        vx (torch.Tensor): The velocity in x-direction tensor of shape (n_samples,).\n",
        "        epsilon (torch.Tensor): The specific internal energy tensor of shape (n_samples,).\n",
        "\n",
        "    Returns:\n",
        "        tuple: A tuple of (D, Sx, tau), where D is conserved density,\n",
        "            Sx is conserved momentum in x-direction,\n",
        "            tau is conserved energy density,\n",
        "            each being a torch tensor of shape (n_samples,).\n",
        "    \"\"\"\n",
        "\n",
        "    # Computing the pressure from the primitive variables using the EOS\n",
        "    p = eos_analytic(rho, epsilon)\n",
        "    # Computing the Lorentz factor from the velocity.\n",
        "    W = 1 / torch.sqrt(1 - vx ** 2 / c ** 2)\n",
        "    # Specific enthalpy\n",
        "    h = 1 + epsilon + p / rho  \n",
        "\n",
        "    # Computing the conserved variables from the primitive variables\n",
        "    D = rho * W  # Conserved density\n",
        "    Sx = rho * h * W ** 2 * vx  # Conserved momentum in x-direction\n",
        "    tau = rho * h * W ** 2 - p - D  # Conserved energy density\n",
        "\n",
        "    # Returning the conserved variables\n",
        "    return D, Sx, tau\n",
        "\n",
        "# Defining a function that generates input data (conserved variables) from given samples of primitive variables\n",
        "def generate_input_data(rho, vx, epsilon):\n",
        "    # Converting the numpy arrays to torch tensors and moving them to the device\n",
        "    rho = torch.tensor(rho, dtype=torch.float32).to(device)\n",
        "    vx = torch.tensor(vx, dtype=torch.float32).to(device)\n",
        "    epsilon = torch.tensor(epsilon, dtype=torch.float32).to(device)\n",
        "\n",
        "    # Computing the conserved variables using the compute_conserved_variables function\n",
        "    D, Sx, tau = compute_conserved_variables(rho, vx, epsilon)\n",
        "\n",
        "    # Stacking the conserved variables into a torch tensor\n",
        "    x = torch.stack([D, Sx, tau], axis=1)\n",
        "\n",
        "    # Returning the input data tensor\n",
        "    return x\n",
        "\n",
        "# Defining a function that generates output data (labels) from given samples of primitive variables\n",
        "def generate_labels(rho, epsilon):\n",
        "    # Converting the numpy arrays to torch tensors and moving them to the device\n",
        "    rho = torch.tensor(rho, dtype=torch.float32).to(device)\n",
        "    epsilon = torch.tensor(epsilon, dtype=torch.float32).to(device)\n",
        "\n",
        "    # Computing the pressure from the primitive variables using the EOS\n",
        "    p = eos_analytic(rho, epsilon)\n",
        "\n",
        "    # Returning the output data tensor\n",
        "    return p"
      ]
    },
    {
      "cell_type": "code",
      "execution_count": 51,
      "metadata": {
        "colab": {
          "base_uri": "https://localhost:8080/",
          "height": 476
        },
        "id": "qhc1l4SGNe7q",
        "outputId": "387826fb-f0fb-47f2-8387-ce94186b0bfa"
      },
      "outputs": [
        {
          "data": {
            "image/png": "[encoded data removed]",
            "text/plain": [
              "<Figure size 800x400 with 2 Axes>"
            ]
          },
          "metadata": {},
          "output_type": "display_data"
        },
        {
          "name": "stdout",
          "output_type": "stream",
          "text": [
            "Shape of x_train: torch.Size([80000, 3])\n",
            "Shape of y_train: torch.Size([80000])\n",
            "Shape of x_test: torch.Size([10000, 3])\n",
            "Shape of y_test: torch.Size([10000])\n"
          ]
        }
      ],
      "source": [
        "# Sampling the primitive variables using the sample_primitive_variables function\n",
        "rho_train, vx_train, epsilon_train = sample_primitive_variables(n_train_samples)\n",
        "rho_test, vx_test, epsilon_test = sample_primitive_variables(n_test_samples)\n",
        "\n",
        "# Generating the input and output data for train and test sets using the modified functions\n",
        "x_train = generate_input_data(rho_train, vx_train, epsilon_train)\n",
        "y_train = generate_labels(rho_train, epsilon_train) \n",
        "x_test = generate_input_data(rho_test, vx_test, epsilon_test) \n",
        "y_test = generate_labels(rho_test, epsilon_test) \n",
        "\n",
        "# Checking if our output is always positive by plotting a histogram of y_train and y_test tensors \n",
        "plt.figure(figsize=(8, 4))\n",
        "plt.subplot(1, 2, 1)\n",
        "plt.hist(y_train.cpu().numpy(), bins=20)\n",
        "plt.xlabel(\"y_train\")\n",
        "plt.ylabel(\"Frequency\")\n",
        "plt.subplot(1, 2, 2)\n",
        "plt.hist(y_test.cpu().numpy(), bins=20)\n",
        "plt.xlabel(\"y_test\")\n",
        "plt.ylabel(\"Frequency\")\n",
        "plt.tight_layout()\n",
        "plt.show()\n",
        "\n",
        "# Checking the shapes of the data tensors\n",
        "print(\"Shape of x_train:\", x_train.shape)\n",
        "print(\"Shape of y_train:\", y_train.shape)\n",
        "print(\"Shape of x_test:\", x_test.shape)\n",
        "print(\"Shape of y_test:\", y_test.shape)"
      ]
    },
    {
      "cell_type": "markdown",
      "metadata": {
        "id": "aqBCVz6VNe7r"
      },
      "source": [
        "## Defining the neural network"
      ]
    },
    {
      "cell_type": "code",
      "execution_count": 13,
      "metadata": {
        "id": "t-mMXEvLNe7s"
      },
      "outputs": [],
      "source": [
        "# Defining a class for the network\n",
        "class Net(nn.Module):\n",
        "    \"\"\"A class for creating a network with a\n",
        "    variable number of hidden layers and units.\n",
        "\n",
        "    Attributes:\n",
        "        n_layers (int): The number of hidden layers in the network.\n",
        "        n_units (list): A list of integers representing the number of units in each hidden layer.\n",
        "        hidden_activation (torch.nn.Module): The activation function for the hidden layers.\n",
        "        output_activation (torch.nn.Module): The activation function for the output layer.\n",
        "        layers (torch.nn.ModuleList): A list of linear layers in the network.\n",
        "    \"\"\"\n",
        "\n",
        "    def __init__(self, n_layers, n_units, hidden_activation, output_activation):\n",
        "        \"\"\"Initializes the network with the given hyperparameters.\n",
        "\n",
        "        Args:\n",
        "            n_layers (int): The number of hidden layers in the network.\n",
        "            n_units (list): A list of integers representing the number of units in each hidden layer.\n",
        "            hidden_activation (torch.nn.Module): The activation function for the hidden layers.\n",
        "            output_activation (torch.nn.Module): The activation function for the output layer.\n",
        "        \"\"\"\n",
        "        super().__init__()\n",
        "        self.n_layers = n_layers\n",
        "        self.n_units = n_units\n",
        "        self.hidden_activation = hidden_activation\n",
        "        self.output_activation = output_activation\n",
        "\n",
        "        # Creating a list of linear layers with different numbers of units for each layer\n",
        "        self.layers = nn.ModuleList([nn.Linear(3, n_units[0])])\n",
        "        for i in range(1, n_layers):\n",
        "            self.layers.append(nn.Linear(n_units[i - 1], n_units[i]))\n",
        "        self.layers.append(nn.Linear(n_units[-1], 1))\n",
        "\n",
        "        # Adding some assertions to check that the input arguments are valid\n",
        "        assert isinstance(n_layers, int) and n_layers > 0, \"n_layers must be a positive integer\"\n",
        "        assert isinstance(n_units, list) and len(n_units) == n_layers, \"n_units must be a list of length n_layers\"\n",
        "        assert all(isinstance(n, int) and n > 0 for n in n_units), \"n_units must contain positive integers\"\n",
        "        assert isinstance(hidden_activation, nn.Module), \"hidden_activation must be a torch.nn.Module\"\n",
        "        assert isinstance(output_activation, nn.Module), \"output_activation must be a torch.nn.Module\"\n",
        "\n",
        "    def forward(self, x):\n",
        "        \"\"\"Performs a forward pass on the input tensor.\n",
        "\n",
        "        Args:\n",
        "            x (torch.Tensor): The input tensor of shape (batch_size, 3).\n",
        "\n",
        "        Returns:\n",
        "            torch.Tensor: The output tensor of shape (batch_size, 1).\n",
        "        \"\"\"\n",
        "        # Looping over the hidden layers and applying the linear transformation and the activation function\n",
        "        for layer in self.layers[:-1]:\n",
        "            x = self.hidden_activation(layer(x))\n",
        "        # Applying the linear transformation and the activation function on the output layer\n",
        "        x = self.output_activation(self.layers[-1](x))\n",
        "\n",
        "        # Returning the output tensor\n",
        "        return x"
      ]
    },
    {
      "cell_type": "markdown",
      "metadata": {
        "id": "zGwY3Kf1Ne7t"
      },
      "source": [
        "## Defining the model and search space"
      ]
    },
    {
      "cell_type": "code",
      "execution_count": 53,
      "metadata": {
        "id": "tLf6EEljNe7t"
      },
      "outputs": [],
      "source": [
        "# Defining a function to create a trial network and optimizer\n",
        "def create_model(trial, optimize):\n",
        "    \"\"\"Creates a trial network and optimizer based on the sampled hyperparameters.\n",
        "\n",
        "    Args:\n",
        "        trial (optuna.trial.Trial): The trial object that contains the hyperparameters.\n",
        "        optimize (boolean): Whether to optimize the hyperparameters or to use predefined values.\n",
        "\n",
        "    Returns:\n",
        "        tuple: A tuple of (net, loss_fn, optimizer, batch_size, n_epochs,\n",
        "            scheduler, loss_name, optimizer_name, scheduler_name,\n",
        "            n_units, n_layers, hidden_activation, output_activation),\n",
        "            where net is the trial network,\n",
        "            loss_fn is the loss function,\n",
        "            optimizer is the optimizer,\n",
        "            batch_size is the batch size,\n",
        "            n_epochs is the number of epochs,\n",
        "            scheduler is the learning rate scheduler,\n",
        "            loss_name is the name of the loss function,\n",
        "            optimizer_name is the name of the optimizer,\n",
        "            scheduler_name is the name of the scheduler,\n",
        "            n_units is a list of integers representing\n",
        "            the number of units in each hidden layer,\n",
        "            n_layers is an integer representing the number of hidden layers in the network,\n",
        "            hidden_activation is a torch.nn.Module representing the activation function for the hidden layers,\n",
        "            output_activation is a torch.nn.Module representing the activation function for the output layer,\n",
        "            lr is the (initial) learning rate.\n",
        "    \"\"\"\n",
        "    # If optimize is True, sample the hyperparameters from the search space\n",
        "    if optimize:\n",
        "        # Sampling the hyperparameters from the search space\n",
        "        n_layers = trial.suggest_int(\"n_layers\", 1, 3)\n",
        "        n_units = [trial.suggest_int(f\"n_units_{i}\", 16, 256) for i in range(n_layers)] \n",
        "        hidden_activation_name = trial.suggest_categorical(\n",
        "            \"hidden_activation\", [\"ReLU\", \"LeakyReLU\", \"ELU\", \"Tanh\", \"Sigmoid\"]\n",
        "        )\n",
        "        output_activation_name = trial.suggest_categorical(\n",
        "            \"output_activation\", [\"Linear\", \"ReLU\"]\n",
        "        ) \n",
        "        loss_name = trial.suggest_categorical(\n",
        "            \"loss\", [\"MSE\", \"MAE\", \"Huber\", \"LogCosh\"] \n",
        "        )\n",
        "        optimizer_name = trial.suggest_categorical(\n",
        "            \"optimizer\", [\"Adam\", \"SGD\", \"RMSprop\", \"Adagrad\"] \n",
        "        )\n",
        "        lr = trial.suggest_loguniform(\"lr\", 1e-4, 1e-2) \n",
        "        batch_size = trial.suggest_int(\"batch_size\", 32, 256)\n",
        "        n_epochs = trial.suggest_int(\"n_epochs\", 50, 100) \n",
        "        scheduler_name = trial.suggest_categorical(\n",
        "            \"scheduler\",\n",
        "            [\"None\", \"CosineAnnealingLR\", \"ReduceLROnPlateau\", \"StepLR\", \"ExponentialLR\"],\n",
        "        )\n",
        "    # If optimize is False, use the predefined values\n",
        "    else:\n",
        "        # Setting the hyperparameters to the predefined values\n",
        "        n_layers = N_LAYERS_NO_OPT\n",
        "        n_units = N_UNITS_NO_OPT\n",
        "        hidden_activation_name = HIDDEN_ACTIVATION_NAME_NO_OPT\n",
        "        output_activation_name = OUTPUT_ACTIVATION_NAME_NO_OPT\n",
        "        loss_name = LOSS_NAME_NO_OPT\n",
        "        optimizer_name = OPTIMIZER_NAME_NO_OPT\n",
        "        lr = LR_NO_OPT\n",
        "        batch_size = BATCH_SIZE_NO_OPT\n",
        "        n_epochs = N_EPOCHS_NO_OPT\n",
        "        scheduler_name = SCHEDULER_NAME_NO_OPT\n",
        "\n",
        "\n",
        "    # Creating the activation functions from their names\n",
        "    if hidden_activation_name == \"ReLU\":\n",
        "        hidden_activation = nn.ReLU()\n",
        "    elif hidden_activation_name == \"LeakyReLU\":\n",
        "        hidden_activation = nn.LeakyReLU() \n",
        "    elif hidden_activation_name == \"ELU\":\n",
        "        hidden_activation = nn.ELU() \n",
        "    elif hidden_activation_name == \"Tanh\":\n",
        "        hidden_activation = nn.Tanh()\n",
        "    else:\n",
        "        hidden_activation = nn.Sigmoid()\n",
        "\n",
        "    if output_activation_name == \"ReLU\":\n",
        "        output_activation = nn.ReLU()\n",
        "    else:\n",
        "        output_activation = nn.Identity()\n",
        "\n",
        "    # Creating the loss function from its name\n",
        "    if loss_name == \"MSE\":\n",
        "        loss_fn = nn.MSELoss()\n",
        "    elif loss_name == \"MAE\":\n",
        "        loss_fn = nn.L1Loss()\n",
        "    elif loss_name == \"Huber\":\n",
        "        loss_fn = nn.SmoothL1Loss() \n",
        "    else:\n",
        "        # Creating the log-cosh loss function\n",
        "        def log_cosh_loss(y_pred, y_true):\n",
        "            return torch.mean(torch.log(torch.cosh(y_pred - y_true)))\n",
        "            \n",
        "        loss_fn = log_cosh_loss\n",
        "\n",
        "    # Creating the network with the sampled hyperparameters\n",
        "    net = Net(\n",
        "        n_layers, n_units, hidden_activation, output_activation\n",
        "    ).to(device)\n",
        "\n",
        "    # Creating the optimizer from its name\n",
        "    if optimizer_name == \"SGD\":\n",
        "        optimizer = optim.SGD(net.parameters(), lr=lr)\n",
        "    elif optimizer_name == \"Adam\":\n",
        "        optimizer = optim.Adam(net.parameters(), lr=lr)\n",
        "    elif optimizer_name == \"RMSprop\":\n",
        "        optimizer = optim.RMSprop(net.parameters(), lr=lr)\n",
        "    else:\n",
        "        # Added creating the Adagrad optimizer\n",
        "        optimizer = optim.Adagrad(net.parameters(), lr=lr)\n",
        "\n",
        "    # Creating the learning rate scheduler from its name\n",
        "    if scheduler_name == \"StepLR\":\n",
        "        scheduler = optim.lr_scheduler.StepLR(optimizer, step_size=10, gamma=0.1)\n",
        "    elif scheduler_name == \"ExponentialLR\":\n",
        "        scheduler = optim.lr_scheduler.ExponentialLR(optimizer, gamma=0.9)\n",
        "    elif scheduler_name == \"CosineAnnealingLR\":\n",
        "        # Added creating the CosineAnnealingLR scheduler\n",
        "        scheduler = optim.lr_scheduler.CosineAnnealingLR(optimizer, T_max=10)\n",
        "    elif scheduler_name == \"ReduceLROnPlateau\":\n",
        "        # Added creating the ReduceLROnPlateau scheduler\n",
        "        # Creating the ReduceLROnPlateau scheduler with a threshold value of 0.01\n",
        "        #scheduler = optim.lr_scheduler.ReduceLROnPlateau(\n",
        "        #    optimizer, mode=\"min\", factor=0.1, patience=10, threshold=0.01\n",
        "        #)\n",
        "        # Use Dieseldorst et al. settings and add to that a minimum lr.\n",
        "        scheduler = optim.lr_scheduler.ReduceLROnPlateau(\n",
        "                    optimizer, mode=\"min\", factor=0.5, patience=5, threshold=0.0005, min_lr=1e-6\n",
        "                )\n",
        "    else:\n",
        "        scheduler = None\n",
        "\n",
        "    # Returning all variables needed for saving and loading\n",
        "    return net, loss_fn, optimizer, batch_size, n_epochs, scheduler, loss_name, optimizer_name, scheduler_name, n_units, n_layers, hidden_activation, output_activation, lr\n"
      ]
    },
    {
      "cell_type": "markdown",
      "metadata": {
        "id": "mMWdmy5DNe7v"
      },
      "source": [
        " ## The training and evaluation loop\n",
        "\n",
        " We first define a couple of functions used in the training and evaluation."
      ]
    },
    {
      "cell_type": "code",
      "execution_count": 54,
      "metadata": {
        "id": "x2W3EObHNe7x"
      },
      "outputs": [],
      "source": [
        "# Defining a function that computes loss and metrics for a given batch\n",
        "def compute_loss_and_metrics(y_pred, y_true, loss_fn):\n",
        "    \"\"\"Computes loss and metrics for a given batch.\n",
        "\n",
        "    Args:\n",
        "        y_pred (torch.Tensor): The predicted pressure tensor of shape (batch_size, 1).\n",
        "        y_true (torch.Tensor): The true pressure tensor of shape (batch_size,).\n",
        "        loss_fn (torch.nn.Module or function): The loss function to use.\n",
        "\n",
        "    Returns:\n",
        "        tuple: A tuple of (loss, l1_norm), where loss is a scalar tensor,\n",
        "            l1_norm is L1 norm for relative error of pressure,\n",
        "            each being a scalar tensor.\n",
        "            linf_norm is Linf norm for relative error of pressure.\n",
        "    \"\"\"\n",
        "    # Reshaping the target tensor to match the input tensor\n",
        "    y_true = y_true.view(-1, 1)\n",
        "\n",
        "    # Computing the loss using the loss function\n",
        "    loss = loss_fn(y_pred, y_true)\n",
        "\n",
        "    # Computing the relative error of pressure\n",
        "    rel_error = torch.abs((y_pred - y_true) / y_true)\n",
        "\n",
        "    # Computing the L1 norm for the relative error of pressure\n",
        "    l1_norm = torch.mean(rel_error) \n",
        "    # Computing the Linf norm for the relative error of pressure\n",
        "    linf_norm = torch.max(rel_error) \n",
        "\n",
        "    # Returning the loss and metrics\n",
        "    return loss, l1_norm, linf_norm\n",
        "\n",
        "\n",
        "# Defining a function that updates the learning rate scheduler with validation loss if applicable\n",
        "def update_scheduler(scheduler, test_loss):\n",
        "    \"\"\"Updates the learning rate scheduler with validation loss if applicable.\n",
        "\n",
        "    Args:\n",
        "        scheduler (torch.optim.lr_scheduler._LRScheduler or None): The learning rate scheduler to use.\n",
        "        test_loss (float): The validation loss to use.\n",
        "\n",
        "    Returns:\n",
        "        None\n",
        "    \"\"\"\n",
        "    # Checking if scheduler is not None\n",
        "    if scheduler is not None:\n",
        "        # Checking if scheduler is ReduceLROnPlateau\n",
        "        if isinstance(scheduler, optim.lr_scheduler.ReduceLROnPlateau):\n",
        "            # Updating the scheduler with test_loss\n",
        "            scheduler.step(test_loss)\n",
        "        else:\n",
        "            # Updating the scheduler without test_loss\n",
        "            scheduler.step()\n"
      ]
    },
    {
      "cell_type": "markdown",
      "metadata": {
        "id": "dKr3Q7laNe7y"
      },
      "source": [
        "Now for the actual training and evaluation loop,"
      ]
    },
    {
      "cell_type": "code",
      "execution_count": 55,
      "metadata": {
        "id": "6IG_w9WNNe7y"
      },
      "outputs": [],
      "source": [
        "# Defining a function to train and evaluate a network\n",
        "def train_and_eval(net, loss_fn, optimizer, batch_size, n_epochs, scheduler, trial=None):\n",
        "    \"\"\"Trains and evaluates a network.\n",
        "\n",
        "    Args:\n",
        "        net (torch.nn.Module): The network to train and evaluate.\n",
        "        loss_fn (torch.nn.Module or function): The loss function.\n",
        "        optimizer (torch.optim.Optimizer): The optimizer.\n",
        "        batch_size (int): The batch size.\n",
        "        n_epochs (int): The number of epochs.\n",
        "        scheduler (torch.optim.lr_scheduler._LRScheduler or None): The learning rate scheduler.\n",
        "    Returns:\n",
        "        tuple: A tuple of (train_losses, test_losses, train_metrics, test_metrics), where\n",
        "            train_losses is a list of training losses for each epoch,\n",
        "            test_losses is a list of validation losses for each epoch,\n",
        "            train_metrics is a list of dictionaries containing training metrics for each epoch,\n",
        "            test_metrics is a list of dictionaries containing validation metrics for each epoch.\n",
        "    \"\"\"\n",
        "    # Creating data loaders for train and test sets\n",
        "    train_loader = torch.utils.data.DataLoader(\n",
        "        torch.utils.data.TensorDataset(x_train, y_train), batch_size=batch_size, shuffle=True\n",
        "    )\n",
        "    test_loader = torch.utils.data.DataLoader(\n",
        "        torch.utils.data.TensorDataset(x_test, y_test), batch_size=batch_size\n",
        "    )\n",
        "\n",
        "    # Initializing lists to store the losses and metrics for each epoch\n",
        "    train_losses = []\n",
        "    test_losses = []\n",
        "    train_metrics = []\n",
        "    test_metrics = []\n",
        "\n",
        "    # Creating a SummaryWriter object to log data for tensorboard\n",
        "    writer = tbx.SummaryWriter()\n",
        "\n",
        "    # Looping over the epochs\n",
        "    for epoch in range(n_epochs):\n",
        "\n",
        "        # Setting the network to training mode\n",
        "        net.train()\n",
        "\n",
        "        # Initializing variables to store the total loss and metrics for the train set\n",
        "        train_loss = 0.0\n",
        "        train_l1_norm = 0.0\n",
        "        train_linf_norm = 0.0\n",
        "\n",
        "        # Looping over the batches in the train set\n",
        "        for x_batch, y_batch in train_loader:\n",
        "\n",
        "            # Moving the batch tensors to the device\n",
        "            x_batch = x_batch.to(device)\n",
        "            y_batch = y_batch.to(device)\n",
        "\n",
        "            # Zeroing the gradients\n",
        "            optimizer.zero_grad()\n",
        "\n",
        "            # Performing a forward pass and computing the loss and metrics\n",
        "            y_pred = net(x_batch)\n",
        "            loss, l1_norm, linf_norm = compute_loss_and_metrics(\n",
        "                y_pred, y_batch, loss_fn\n",
        "            )\n",
        "\n",
        "\n",
        "            # Performing a backward pass and updating the weights\n",
        "            loss.backward()\n",
        "            optimizer.step()\n",
        "\n",
        "            # Updating the total loss and metrics for the train set\n",
        "            train_loss += loss.item() * x_batch.size(0)\n",
        "            train_l1_norm += l1_norm.item() * x_batch.size(0)\n",
        "            train_linf_norm += linf_norm.item() * x_batch.size(0)\n",
        "\n",
        "        # Computing the average loss and metrics for the train set\n",
        "        train_loss /= len(train_loader.dataset)\n",
        "        train_l1_norm /= len(train_loader.dataset)\n",
        "        train_linf_norm /= len(train_loader.dataset)\n",
        "\n",
        "        # Appending the average loss and metrics for the train set to the lists\n",
        "        train_losses.append(train_loss)\n",
        "        train_metrics.append(\n",
        "            {\n",
        "                \"l1_norm\": train_l1_norm,\n",
        "                \"linf_norm\": train_linf_norm,\n",
        "            }\n",
        "        )\n",
        "\n",
        "        # Logging the average loss and metrics for the train set to tensorboard\n",
        "        writer.add_scalar(\"Loss/train\", train_loss, epoch)\n",
        "        writer.add_scalar(\"L1 norm/train\", train_l1_norm, epoch)\n",
        "        writer.add_scalar(\"Linf norm/train\", train_linf_norm, epoch)\n",
        "\n",
        "        # Setting the network to evaluation mode\n",
        "        net.eval()\n",
        "\n",
        "        # Initializing variables to store the total loss and metrics for the test set\n",
        "        test_loss = 0.0\n",
        "        test_l1_norm = 0.0\n",
        "        test_linf_norm = 0.0\n",
        "\n",
        "        # Looping over the batches in the test set\n",
        "        with torch.no_grad():\n",
        "            for x_batch, y_batch in test_loader:\n",
        "\n",
        "                # Moving the batch tensors to the device\n",
        "                x_batch = x_batch.to(device)\n",
        "                y_batch = y_batch.to(device)\n",
        "\n",
        "                # Performing a forward pass and computing the loss and metrics\n",
        "                y_pred = net(x_batch)\n",
        "                loss, l1_norm, linf_norm = compute_loss_and_metrics(\n",
        "                    y_pred, y_batch, loss_fn\n",
        "                )\n",
        "\n",
        "\n",
        "                # Updating the total loss and metrics for the test set\n",
        "                test_loss += loss.item() * x_batch.size(0)\n",
        "                test_l1_norm += l1_norm.item() * x_batch.size(0)\n",
        "                test_linf_norm += linf_norm.item() * x_batch.size(0)\n",
        "\n",
        "        # Computing the average loss and metrics for the test set\n",
        "        test_loss /= len(test_loader.dataset)\n",
        "        test_l1_norm /= len(test_loader.dataset)\n",
        "        test_linf_norm /= len(test_loader.dataset)\n",
        "\n",
        "        # Appending the average loss and metrics for the test set to the lists\n",
        "        test_losses.append(test_loss)\n",
        "        test_metrics.append(\n",
        "            {\n",
        "                \"l1_norm\": test_l1_norm,\n",
        "                \"linf_norm\": test_linf_norm,\n",
        "            }\n",
        "        )\n",
        "\n",
        "        # Logging the average loss and metrics for the test set to tensorboard\n",
        "        writer.add_scalar(\"Loss/test\", test_loss, epoch)\n",
        "        writer.add_scalar(\"L1 norm/test\", test_l1_norm, epoch)\n",
        "        writer.add_scalar(\"Linf norm/test\", test_linf_norm, epoch)\n",
        "\n",
        "        # Printing the average loss and metrics for both sets for this epoch\n",
        "        print(\n",
        "            f\"Epoch {epoch + 1}: Train Loss: {train_loss:.4f}, Test Loss: {test_loss:.4f}, \"\n",
        "            f\"Train L1 Norm: {train_l1_norm:.4f}, Test L1 Norm: {test_l1_norm:.4f}, \"\n",
        "            f\"Train Linf Norm: {train_linf_norm:.4f}, Test Linf Norm: {test_linf_norm:.4f}\"\n",
        "        )\n",
        "\n",
        "        # Updating the learning rate scheduler with validation loss if applicable\n",
        "        update_scheduler(scheduler, test_loss)\n",
        "\n",
        "        # Reporting the intermediate metric value to Optuna if trial is not None\n",
        "        if trial is not None:\n",
        "            trial.report(test_metrics[-1][\"l1_norm\"], epoch)\n",
        "\n",
        "            # Checking if the trial should be pruned based on the intermediate value if trial is not None\n",
        "            if trial.should_prune():\n",
        "                raise optuna.TrialPruned()\n",
        "\n",
        "    # Closing the SummaryWriter object\n",
        "    writer.close()\n",
        "\n",
        "    # Returning the losses and metrics lists\n",
        "    return train_losses, test_losses, train_metrics, test_metrics"
      ]
    },
    {
      "cell_type": "markdown",
      "metadata": {
        "id": "U5xxy-hgNe7z"
      },
      "source": [
        "## The objective function and hyperparameter tuning"
      ]
    },
    {
      "cell_type": "code",
      "execution_count": 56,
      "metadata": {
        "id": "O6vggJN_Ne7z"
      },
      "outputs": [],
      "source": [
        "# Defining an objective function for Optuna to minimize\n",
        "def objective(trial):\n",
        "    \"\"\"Defines an objective function for Optuna to minimize.\n",
        "\n",
        "    Args:\n",
        "        trial (optuna.trial.Trial): The trial object that contains the hyperparameters.\n",
        "\n",
        "    Returns:\n",
        "        float: The validation L1 norm to minimize.\n",
        "    \"\"\"\n",
        "    # Creating a trial network and optimizer using the create_model function\n",
        "    net, \\\n",
        "    loss_fn, \\\n",
        "    optimizer, \\\n",
        "    batch_size, \\\n",
        "    n_epochs, \\\n",
        "    scheduler, \\\n",
        "    loss_name, \\\n",
        "    optimizer_name, \\\n",
        "    scheduler_name, \\\n",
        "    n_units, \\\n",
        "    n_layers, \\\n",
        "    hidden_activation, \\\n",
        "    output_activation, \\\n",
        "    lr = create_model(trial, optimize=True)\n",
        "\n",
        "    # Training and evaluating the network using the train_and_eval function\n",
        "    _, _, _, test_metrics = train_and_eval(\n",
        "        net, loss_fn, optimizer, batch_size, n_epochs, scheduler, trial\n",
        "    )\n",
        "\n",
        "    # Returning the last validation L1 norm as the objective value to minimize\n",
        "    return test_metrics[-1][\"l1_norm\"]"
      ]
    },
    {
      "cell_type": "code",
      "execution_count": 57,
      "metadata": {
        "id": "V__DcghINe70"
      },
      "outputs": [],
      "source": [
        "if OPTIMIZE:\n",
        "    # Creating a study object with Optuna with TPE sampler and median pruner \n",
        "    study = optuna.create_study(direction=\"minimize\", sampler=optuna.samplers.TPESampler(), pruner=optuna.pruners.MedianPruner())\n",
        "\n",
        "    # Running Optuna with 100 trials when we are optimizing.\n",
        "    study.optimize(objective, n_trials=N_TRIALS)\n",
        "\n",
        "    # Printing the best trial information\n",
        "    print(\"Best trial:\")\n",
        "    trial = study.best_trial\n",
        "    print(\"  Value: \", trial.value)\n",
        "    print(\"  Params: \")\n",
        "    for key, value in trial.params.items():\n",
        "        print(f\"    {key}: {value}\")\n"
      ]
    },
    {
      "cell_type": "markdown",
      "metadata": {
        "id": "b7ncc-YkNe70"
      },
      "source": [
        "## Training the model"
      ]
    },
    {
      "cell_type": "code",
      "execution_count": 58,
      "metadata": {
        "id": "aWauv_ybNe70"
      },
      "outputs": [],
      "source": [
        "# Creating the best network and optimizer using the best hyperparameters\n",
        "if OPTIMIZE:\n",
        "    net, \\\n",
        "    loss_fn, \\\n",
        "    optimizer, \\\n",
        "    batch_size, \\\n",
        "    n_epochs, \\\n",
        "    scheduler, \\\n",
        "    loss_name, \\\n",
        "    optimizer_name, \\\n",
        "    scheduler_name, \\\n",
        "    n_units, \\\n",
        "    n_layers, \\\n",
        "    hidden_activation, \\\n",
        "    output_activation, \\\n",
        "    lr = create_model(trial, optimize=True)\n",
        "# Creating the network with predefined hyperparameters\n",
        "else:\n",
        "    net, \\\n",
        "    loss_fn, \\\n",
        "    optimizer, \\\n",
        "    batch_size, \\\n",
        "    n_epochs, \\\n",
        "    scheduler, \\\n",
        "    loss_name, \\\n",
        "    optimizer_name, \\\n",
        "    scheduler_name, \\\n",
        "    n_units, \\\n",
        "    n_layers, \\\n",
        "    hidden_activation, \\\n",
        "    output_activation, \\\n",
        "    lr = create_model(trial=None, optimize=False)"
      ]
    },
    {
      "cell_type": "code",
      "execution_count": 59,
      "metadata": {
        "colab": {
          "base_uri": "https://localhost:8080/"
        },
        "id": "AAbAsPMvNe71",
        "outputId": "1864461d-cf23-446a-bd31-7d12b64000ee"
      },
      "outputs": [
        {
          "name": "stdout",
          "output_type": "stream",
          "text": [
            "loss_fn: MSELoss()\n",
            "batch_size: 32\n",
            "n_epochs: 400\n",
            "scheduler: <torch.optim.lr_scheduler.ReduceLROnPlateau object at 0x7f4806cafa90>\n",
            "loss_name: MSE\n",
            "optimizer_name: Adam\n",
            "scheduler_name: ReduceLROnPlateau\n",
            "n_units: [600, 200]\n",
            "n_layers: 2\n",
            "hidden_activation: Sigmoid()\n",
            "output_activation: ReLU()\n"
          ]
        }
      ],
      "source": [
        "print(\"loss_fn:\", loss_fn)\n",
        "print(\"batch_size:\", batch_size)\n",
        "print(\"n_epochs:\", n_epochs)\n",
        "print(\"scheduler:\", scheduler)\n",
        "print(\"loss_name:\", loss_name)\n",
        "print(\"optimizer_name:\", optimizer_name)\n",
        "print(\"scheduler_name:\", scheduler_name)\n",
        "print(\"n_units:\", n_units)\n",
        "print(\"n_layers:\", n_layers)\n",
        "print(\"hidden_activation:\", hidden_activation)\n",
        "print(\"output_activation:\", output_activation)"
      ]
    },
    {
      "cell_type": "code",
      "execution_count": 60,
      "metadata": {
        "colab": {
          "base_uri": "https://localhost:8080/"
        },
        "id": "hbJEEeucNe71",
        "outputId": "68da65db-a481-410c-a33c-1a6aed6138e1"
      },
      "outputs": [
        {
          "name": "stdout",
          "output_type": "stream",
          "text": [
            "Epoch 1: Train Loss: 0.1158, Test Loss: 0.0097, Train L1 Norm: 0.3502, Test L1 Norm: 0.3125, Train Linf Norm: 7.8556, Test Linf Norm: 6.2464\n",
            "Epoch 2: Train Loss: 0.0113, Test Loss: 0.0048, Train L1 Norm: 0.1940, Test L1 Norm: 0.1883, Train Linf Norm: 4.5487, Test Linf Norm: 3.9648\n",
            "Epoch 3: Train Loss: 0.0095, Test Loss: 0.0007, Train L1 Norm: 0.1516, Test L1 Norm: 0.0660, Train Linf Norm: 3.2492, Test Linf Norm: 1.0335\n",
            "Epoch 4: Train Loss: 0.0104, Test Loss: 0.0015, Train L1 Norm: 0.1951, Test L1 Norm: 0.0914, Train Linf Norm: 4.6099, Test Linf Norm: 1.2202\n",
            "Epoch 5: Train Loss: 0.0067, Test Loss: 0.0012, Train L1 Norm: 0.1484, Test L1 Norm: 0.0854, Train Linf Norm: 3.2942, Test Linf Norm: 1.5105\n",
            "Epoch 6: Train Loss: 0.0069, Test Loss: 0.0082, Train L1 Norm: 0.1181, Test L1 Norm: 0.1829, Train Linf Norm: 2.3686, Test Linf Norm: 2.3747\n",
            "Epoch 7: Train Loss: 0.0047, Test Loss: 0.0040, Train L1 Norm: 0.1098, Test L1 Norm: 0.1003, Train Linf Norm: 2.2034, Test Linf Norm: 1.1727\n",
            "Epoch 8: Train Loss: 0.0074, Test Loss: 0.0023, Train L1 Norm: 0.1108, Test L1 Norm: 0.2841, Train Linf Norm: 2.0903, Test Linf Norm: 6.2828\n",
            "Epoch 9: Train Loss: 0.0036, Test Loss: 0.0056, Train L1 Norm: 0.1315, Test L1 Norm: 0.0946, Train Linf Norm: 3.0981, Test Linf Norm: 1.1923\n",
            "Epoch 10: Train Loss: 0.0007, Test Loss: 0.0010, Train L1 Norm: 0.0953, Test L1 Norm: 0.1117, Train Linf Norm: 2.4885, Test Linf Norm: 2.4722\n",
            "Epoch 11: Train Loss: 0.0012, Test Loss: 0.0003, Train L1 Norm: 0.0863, Test L1 Norm: 0.0723, Train Linf Norm: 2.1057, Test Linf Norm: 1.6406\n",
            "Epoch 12: Train Loss: 0.0013, Test Loss: 0.0009, Train L1 Norm: 0.1007, Test L1 Norm: 0.0905, Train Linf Norm: 2.5563, Test Linf Norm: 1.9854\n",
            "Epoch 13: Train Loss: 0.0013, Test Loss: 0.0002, Train L1 Norm: 0.0603, Test L1 Norm: 0.0504, Train Linf Norm: 1.2702, Test Linf Norm: 0.9109\n",
            "Epoch 14: Train Loss: 0.0011, Test Loss: 0.0009, Train L1 Norm: 0.0711, Test L1 Norm: 0.1285, Train Linf Norm: 1.6303, Test Linf Norm: 2.7929\n",
            "Epoch 15: Train Loss: 0.0011, Test Loss: 0.0147, Train L1 Norm: 0.0635, Test L1 Norm: 0.1205, Train Linf Norm: 1.4150, Test Linf Norm: 1.1057\n",
            "Epoch 16: Train Loss: 0.0011, Test Loss: 0.0017, Train L1 Norm: 0.0633, Test L1 Norm: 0.1060, Train Linf Norm: 1.4064, Test Linf Norm: 2.0745\n",
            "Epoch 17: Train Loss: 0.0011, Test Loss: 0.0003, Train L1 Norm: 0.0580, Test L1 Norm: 0.0964, Train Linf Norm: 1.2394, Test Linf Norm: 2.2106\n",
            "Epoch 18: Train Loss: 0.0014, Test Loss: 0.0001, Train L1 Norm: 0.0656, Test L1 Norm: 0.0644, Train Linf Norm: 1.5102, Test Linf Norm: 1.2173\n",
            "Epoch 19: Train Loss: 0.0013, Test Loss: 0.0002, Train L1 Norm: 0.0652, Test L1 Norm: 0.0446, Train Linf Norm: 1.4768, Test Linf Norm: 0.7597\n",
            "Epoch 20: Train Loss: 0.0010, Test Loss: 0.0003, Train L1 Norm: 0.0617, Test L1 Norm: 0.0497, Train Linf Norm: 1.3978, Test Linf Norm: 0.9351\n",
            "Epoch 21: Train Loss: 0.0013, Test Loss: 0.0001, Train L1 Norm: 0.0526, Test L1 Norm: 0.0407, Train Linf Norm: 1.0995, Test Linf Norm: 0.7110\n",
            "Epoch 22: Train Loss: 0.0013, Test Loss: 0.0002, Train L1 Norm: 0.0925, Test L1 Norm: 0.0559, Train Linf Norm: 2.4054, Test Linf Norm: 1.3098\n",
            "Epoch 23: Train Loss: 0.0013, Test Loss: 0.0003, Train L1 Norm: 0.0788, Test L1 Norm: 0.0438, Train Linf Norm: 1.9250, Test Linf Norm: 1.0430\n",
            "Epoch 24: Train Loss: 0.0009, Test Loss: 0.0003, Train L1 Norm: 0.0741, Test L1 Norm: 0.0559, Train Linf Norm: 1.8532, Test Linf Norm: 1.2021\n",
            "Epoch 25: Train Loss: 0.0002, Test Loss: 0.0003, Train L1 Norm: 0.0423, Test L1 Norm: 0.0863, Train Linf Norm: 1.0594, Test Linf Norm: 1.9954\n",
            "Epoch 26: Train Loss: 0.0003, Test Loss: 0.0001, Train L1 Norm: 0.0449, Test L1 Norm: 0.0377, Train Linf Norm: 1.1055, Test Linf Norm: 0.7612\n",
            "Epoch 27: Train Loss: 0.0002, Test Loss: 0.0001, Train L1 Norm: 0.0371, Test L1 Norm: 0.0335, Train Linf Norm: 0.8728, Test Linf Norm: 0.5607\n",
            "Epoch 28: Train Loss: 0.0003, Test Loss: 0.0004, Train L1 Norm: 0.0310, Test L1 Norm: 0.0417, Train Linf Norm: 0.6696, Test Linf Norm: 0.7445\n",
            "Epoch 29: Train Loss: 0.0002, Test Loss: 0.0002, Train L1 Norm: 0.0268, Test L1 Norm: 0.0344, Train Linf Norm: 0.5642, Test Linf Norm: 0.5946\n",
            "Epoch 30: Train Loss: 0.0003, Test Loss: 0.0001, Train L1 Norm: 0.0307, Test L1 Norm: 0.0202, Train Linf Norm: 0.6718, Test Linf Norm: 0.3488\n",
            "Epoch 31: Train Loss: 0.0004, Test Loss: 0.0001, Train L1 Norm: 0.0287, Test L1 Norm: 0.0333, Train Linf Norm: 0.5888, Test Linf Norm: 0.6402\n",
            "Epoch 32: Train Loss: 0.0002, Test Loss: 0.0038, Train L1 Norm: 0.0267, Test L1 Norm: 0.0623, Train Linf Norm: 0.5499, Test Linf Norm: 0.9369\n",
            "Epoch 33: Train Loss: 0.0000, Test Loss: 0.0001, Train L1 Norm: 0.0186, Test L1 Norm: 0.0236, Train Linf Norm: 0.4305, Test Linf Norm: 0.4333\n",
            "Epoch 34: Train Loss: 0.0001, Test Loss: 0.0000, Train L1 Norm: 0.0196, Test L1 Norm: 0.0202, Train Linf Norm: 0.4266, Test Linf Norm: 0.4113\n",
            "Epoch 35: Train Loss: 0.0001, Test Loss: 0.0001, Train L1 Norm: 0.0198, Test L1 Norm: 0.0450, Train Linf Norm: 0.4466, Test Linf Norm: 0.9629\n",
            "Epoch 36: Train Loss: 0.0001, Test Loss: 0.0000, Train L1 Norm: 0.0176, Test L1 Norm: 0.0120, Train Linf Norm: 0.3818, Test Linf Norm: 0.2709\n",
            "Epoch 37: Train Loss: 0.0001, Test Loss: 0.0000, Train L1 Norm: 0.0196, Test L1 Norm: 0.0118, Train Linf Norm: 0.4400, Test Linf Norm: 0.2582\n",
            "Epoch 38: Train Loss: 0.0001, Test Loss: 0.0000, Train L1 Norm: 0.0179, Test L1 Norm: 0.0154, Train Linf Norm: 0.3835, Test Linf Norm: 0.3289\n",
            "Epoch 39: Train Loss: 0.0001, Test Loss: 0.0000, Train L1 Norm: 0.0189, Test L1 Norm: 0.0163, Train Linf Norm: 0.4309, Test Linf Norm: 0.2902\n",
            "Epoch 40: Train Loss: 0.0001, Test Loss: 0.0000, Train L1 Norm: 0.0189, Test L1 Norm: 0.0138, Train Linf Norm: 0.4252, Test Linf Norm: 0.2793\n",
            "Epoch 41: Train Loss: 0.0001, Test Loss: 0.0000, Train L1 Norm: 0.0172, Test L1 Norm: 0.0135, Train Linf Norm: 0.3715, Test Linf Norm: 0.2828\n",
            "Epoch 42: Train Loss: 0.0001, Test Loss: 0.0003, Train L1 Norm: 0.0225, Test L1 Norm: 0.0469, Train Linf Norm: 0.5505, Test Linf Norm: 1.0609\n",
            "Epoch 43: Train Loss: 0.0000, Test Loss: 0.0000, Train L1 Norm: 0.0123, Test L1 Norm: 0.0105, Train Linf Norm: 0.2847, Test Linf Norm: 0.2379\n",
            "Epoch 44: Train Loss: 0.0000, Test Loss: 0.0000, Train L1 Norm: 0.0137, Test L1 Norm: 0.0106, Train Linf Norm: 0.3173, Test Linf Norm: 0.2442\n",
            "Epoch 45: Train Loss: 0.0000, Test Loss: 0.0000, Train L1 Norm: 0.0133, Test L1 Norm: 0.0125, Train Linf Norm: 0.3076, Test Linf Norm: 0.2891\n",
            "Epoch 46: Train Loss: 0.0000, Test Loss: 0.0000, Train L1 Norm: 0.0119, Test L1 Norm: 0.0096, Train Linf Norm: 0.2666, Test Linf Norm: 0.2060\n",
            "Epoch 47: Train Loss: 0.0000, Test Loss: 0.0000, Train L1 Norm: 0.0142, Test L1 Norm: 0.0107, Train Linf Norm: 0.3360, Test Linf Norm: 0.2213\n",
            "Epoch 48: Train Loss: 0.0000, Test Loss: 0.0000, Train L1 Norm: 0.0115, Test L1 Norm: 0.0101, Train Linf Norm: 0.2566, Test Linf Norm: 0.2203\n",
            "Epoch 49: Train Loss: 0.0000, Test Loss: 0.0000, Train L1 Norm: 0.0132, Test L1 Norm: 0.0080, Train Linf Norm: 0.3080, Test Linf Norm: 0.1815\n",
            "Epoch 50: Train Loss: 0.0000, Test Loss: 0.0000, Train L1 Norm: 0.0121, Test L1 Norm: 0.0102, Train Linf Norm: 0.2739, Test Linf Norm: 0.2303\n",
            "Epoch 51: Train Loss: 0.0000, Test Loss: 0.0000, Train L1 Norm: 0.0109, Test L1 Norm: 0.0101, Train Linf Norm: 0.2383, Test Linf Norm: 0.2161\n",
            "Epoch 52: Train Loss: 0.0000, Test Loss: 0.0000, Train L1 Norm: 0.0104, Test L1 Norm: 0.0090, Train Linf Norm: 0.2191, Test Linf Norm: 0.2017\n",
            "Epoch 53: Train Loss: 0.0000, Test Loss: 0.0000, Train L1 Norm: 0.0117, Test L1 Norm: 0.0113, Train Linf Norm: 0.2638, Test Linf Norm: 0.2498\n",
            "Epoch 54: Train Loss: 0.0000, Test Loss: 0.0000, Train L1 Norm: 0.0112, Test L1 Norm: 0.0101, Train Linf Norm: 0.2582, Test Linf Norm: 0.1985\n",
            "Epoch 55: Train Loss: 0.0000, Test Loss: 0.0000, Train L1 Norm: 0.0111, Test L1 Norm: 0.0102, Train Linf Norm: 0.2441, Test Linf Norm: 0.2263\n",
            "Epoch 56: Train Loss: 0.0000, Test Loss: 0.0000, Train L1 Norm: 0.0106, Test L1 Norm: 0.0092, Train Linf Norm: 0.2419, Test Linf Norm: 0.2015\n",
            "Epoch 57: Train Loss: 0.0000, Test Loss: 0.0000, Train L1 Norm: 0.0119, Test L1 Norm: 0.0095, Train Linf Norm: 0.2677, Test Linf Norm: 0.2074\n",
            "Epoch 58: Train Loss: 0.0000, Test Loss: 0.0000, Train L1 Norm: 0.0182, Test L1 Norm: 0.0078, Train Linf Norm: 0.4811, Test Linf Norm: 0.1796\n",
            "Epoch 59: Train Loss: 0.0000, Test Loss: 0.0000, Train L1 Norm: 0.0109, Test L1 Norm: 0.0085, Train Linf Norm: 0.2503, Test Linf Norm: 0.1814\n",
            "Epoch 60: Train Loss: 0.0000, Test Loss: 0.0000, Train L1 Norm: 0.0094, Test L1 Norm: 0.0078, Train Linf Norm: 0.2250, Test Linf Norm: 0.1783\n",
            "Epoch 61: Train Loss: 0.0000, Test Loss: 0.0000, Train L1 Norm: 0.0097, Test L1 Norm: 0.0103, Train Linf Norm: 0.2301, Test Linf Norm: 0.2276\n",
            "Epoch 62: Train Loss: 0.0000, Test Loss: 0.0000, Train L1 Norm: 0.0096, Test L1 Norm: 0.0074, Train Linf Norm: 0.2275, Test Linf Norm: 0.1679\n",
            "Epoch 63: Train Loss: 0.0000, Test Loss: 0.0000, Train L1 Norm: 0.0095, Test L1 Norm: 0.0085, Train Linf Norm: 0.2254, Test Linf Norm: 0.1923\n",
            "Epoch 64: Train Loss: 0.0000, Test Loss: 0.0000, Train L1 Norm: 0.0086, Test L1 Norm: 0.0082, Train Linf Norm: 0.1972, Test Linf Norm: 0.1862\n",
            "Epoch 65: Train Loss: 0.0000, Test Loss: 0.0000, Train L1 Norm: 0.0089, Test L1 Norm: 0.0082, Train Linf Norm: 0.2062, Test Linf Norm: 0.1689\n",
            "Epoch 66: Train Loss: 0.0000, Test Loss: 0.0000, Train L1 Norm: 0.0088, Test L1 Norm: 0.0167, Train Linf Norm: 0.2090, Test Linf Norm: 0.4428\n",
            "Epoch 67: Train Loss: 0.0000, Test Loss: 0.0000, Train L1 Norm: 0.0090, Test L1 Norm: 0.0088, Train Linf Norm: 0.2136, Test Linf Norm: 0.1981\n",
            "Epoch 68: Train Loss: 0.0000, Test Loss: 0.0000, Train L1 Norm: 0.0087, Test L1 Norm: 0.0097, Train Linf Norm: 0.2032, Test Linf Norm: 0.2226\n",
            "Epoch 69: Train Loss: 0.0000, Test Loss: 0.0000, Train L1 Norm: 0.0079, Test L1 Norm: 0.0071, Train Linf Norm: 0.1779, Test Linf Norm: 0.1626\n",
            "Epoch 70: Train Loss: 0.0000, Test Loss: 0.0000, Train L1 Norm: 0.0085, Test L1 Norm: 0.0071, Train Linf Norm: 0.1985, Test Linf Norm: 0.1539\n",
            "Epoch 71: Train Loss: 0.0000, Test Loss: 0.0000, Train L1 Norm: 0.0093, Test L1 Norm: 0.0080, Train Linf Norm: 0.2217, Test Linf Norm: 0.1807\n",
            "Epoch 72: Train Loss: 0.0000, Test Loss: 0.0000, Train L1 Norm: 0.0092, Test L1 Norm: 0.0086, Train Linf Norm: 0.2233, Test Linf Norm: 0.2018\n",
            "Epoch 73: Train Loss: 0.0000, Test Loss: 0.0000, Train L1 Norm: 0.0087, Test L1 Norm: 0.0071, Train Linf Norm: 0.2068, Test Linf Norm: 0.1593\n",
            "Epoch 74: Train Loss: 0.0000, Test Loss: 0.0000, Train L1 Norm: 0.0096, Test L1 Norm: 0.0080, Train Linf Norm: 0.2366, Test Linf Norm: 0.1772\n",
            "Epoch 75: Train Loss: 0.0000, Test Loss: 0.0000, Train L1 Norm: 0.0097, Test L1 Norm: 0.0077, Train Linf Norm: 0.2377, Test Linf Norm: 0.1865\n",
            "Epoch 76: Train Loss: 0.0000, Test Loss: 0.0000, Train L1 Norm: 0.0109, Test L1 Norm: 0.0084, Train Linf Norm: 0.2809, Test Linf Norm: 0.1745\n",
            "Epoch 77: Train Loss: 0.0000, Test Loss: 0.0000, Train L1 Norm: 0.0083, Test L1 Norm: 0.0076, Train Linf Norm: 0.1969, Test Linf Norm: 0.1660\n",
            "Epoch 78: Train Loss: 0.0000, Test Loss: 0.0000, Train L1 Norm: 0.0084, Test L1 Norm: 0.0089, Train Linf Norm: 0.1959, Test Linf Norm: 0.1906\n",
            "Epoch 79: Train Loss: 0.0000, Test Loss: 0.0000, Train L1 Norm: 0.0078, Test L1 Norm: 0.0102, Train Linf Norm: 0.1823, Test Linf Norm: 0.2202\n",
            "Epoch 80: Train Loss: 0.0000, Test Loss: 0.0000, Train L1 Norm: 0.0084, Test L1 Norm: 0.0073, Train Linf Norm: 0.1989, Test Linf Norm: 0.1525\n",
            "Epoch 81: Train Loss: 0.0000, Test Loss: 0.0000, Train L1 Norm: 0.0080, Test L1 Norm: 0.0068, Train Linf Norm: 0.1882, Test Linf Norm: 0.1450\n",
            "Epoch 82: Train Loss: 0.0000, Test Loss: 0.0000, Train L1 Norm: 0.0066, Test L1 Norm: 0.0059, Train Linf Norm: 0.1544, Test Linf Norm: 0.1330\n",
            "Epoch 83: Train Loss: 0.0000, Test Loss: 0.0000, Train L1 Norm: 0.0070, Test L1 Norm: 0.0078, Train Linf Norm: 0.1684, Test Linf Norm: 0.1799\n",
            "Epoch 84: Train Loss: 0.0000, Test Loss: 0.0000, Train L1 Norm: 0.0067, Test L1 Norm: 0.0058, Train Linf Norm: 0.1543, Test Linf Norm: 0.1295\n",
            "Epoch 85: Train Loss: 0.0000, Test Loss: 0.0000, Train L1 Norm: 0.0071, Test L1 Norm: 0.0106, Train Linf Norm: 0.1675, Test Linf Norm: 0.2440\n",
            "Epoch 86: Train Loss: 0.0000, Test Loss: 0.0000, Train L1 Norm: 0.0067, Test L1 Norm: 0.0056, Train Linf Norm: 0.1585, Test Linf Norm: 0.1261\n",
            "Epoch 87: Train Loss: 0.0000, Test Loss: 0.0000, Train L1 Norm: 0.0065, Test L1 Norm: 0.0060, Train Linf Norm: 0.1522, Test Linf Norm: 0.1365\n",
            "Epoch 88: Train Loss: 0.0000, Test Loss: 0.0000, Train L1 Norm: 0.0071, Test L1 Norm: 0.0053, Train Linf Norm: 0.1705, Test Linf Norm: 0.1179\n",
            "Epoch 89: Train Loss: 0.0000, Test Loss: 0.0000, Train L1 Norm: 0.0068, Test L1 Norm: 0.0071, Train Linf Norm: 0.1610, Test Linf Norm: 0.1599\n",
            "Epoch 90: Train Loss: 0.0000, Test Loss: 0.0000, Train L1 Norm: 0.0065, Test L1 Norm: 0.0064, Train Linf Norm: 0.1531, Test Linf Norm: 0.1475\n",
            "Epoch 91: Train Loss: 0.0000, Test Loss: 0.0000, Train L1 Norm: 0.0065, Test L1 Norm: 0.0058, Train Linf Norm: 0.1542, Test Linf Norm: 0.1343\n",
            "Epoch 92: Train Loss: 0.0000, Test Loss: 0.0000, Train L1 Norm: 0.0093, Test L1 Norm: 0.0076, Train Linf Norm: 0.2408, Test Linf Norm: 0.1790\n",
            "Epoch 93: Train Loss: 0.0000, Test Loss: 0.0000, Train L1 Norm: 0.0067, Test L1 Norm: 0.0061, Train Linf Norm: 0.1592, Test Linf Norm: 0.1393\n",
            "Epoch 94: Train Loss: 0.0000, Test Loss: 0.0000, Train L1 Norm: 0.0062, Test L1 Norm: 0.0053, Train Linf Norm: 0.1452, Test Linf Norm: 0.1124\n",
            "Epoch 95: Train Loss: 0.0000, Test Loss: 0.0000, Train L1 Norm: 0.0064, Test L1 Norm: 0.0057, Train Linf Norm: 0.1513, Test Linf Norm: 0.1277\n",
            "Epoch 96: Train Loss: 0.0000, Test Loss: 0.0000, Train L1 Norm: 0.0069, Test L1 Norm: 0.0075, Train Linf Norm: 0.1647, Test Linf Norm: 0.1780\n",
            "Epoch 97: Train Loss: 0.0000, Test Loss: 0.0000, Train L1 Norm: 0.0064, Test L1 Norm: 0.0070, Train Linf Norm: 0.1506, Test Linf Norm: 0.1630\n",
            "Epoch 98: Train Loss: 0.0000, Test Loss: 0.0000, Train L1 Norm: 0.0065, Test L1 Norm: 0.0053, Train Linf Norm: 0.1554, Test Linf Norm: 0.1141\n",
            "Epoch 99: Train Loss: 0.0000, Test Loss: 0.0000, Train L1 Norm: 0.0068, Test L1 Norm: 0.0075, Train Linf Norm: 0.1610, Test Linf Norm: 0.1644\n",
            "Epoch 100: Train Loss: 0.0000, Test Loss: 0.0000, Train L1 Norm: 0.0062, Test L1 Norm: 0.0057, Train Linf Norm: 0.1466, Test Linf Norm: 0.1260\n",
            "Epoch 101: Train Loss: 0.0000, Test Loss: 0.0000, Train L1 Norm: 0.0074, Test L1 Norm: 0.0062, Train Linf Norm: 0.1834, Test Linf Norm: 0.1458\n",
            "Epoch 102: Train Loss: 0.0000, Test Loss: 0.0000, Train L1 Norm: 0.0064, Test L1 Norm: 0.0089, Train Linf Norm: 0.1539, Test Linf Norm: 0.2038\n",
            "Epoch 103: Train Loss: 0.0000, Test Loss: 0.0000, Train L1 Norm: 0.0060, Test L1 Norm: 0.0058, Train Linf Norm: 0.1403, Test Linf Norm: 0.1357\n",
            "Epoch 104: Train Loss: 0.0000, Test Loss: 0.0000, Train L1 Norm: 0.0062, Test L1 Norm: 0.0067, Train Linf Norm: 0.1480, Test Linf Norm: 0.1546\n",
            "Epoch 105: Train Loss: 0.0000, Test Loss: 0.0000, Train L1 Norm: 0.0060, Test L1 Norm: 0.0063, Train Linf Norm: 0.1390, Test Linf Norm: 0.1297\n",
            "Epoch 106: Train Loss: 0.0000, Test Loss: 0.0000, Train L1 Norm: 0.0072, Test L1 Norm: 0.0078, Train Linf Norm: 0.1773, Test Linf Norm: 0.1800\n",
            "Epoch 107: Train Loss: 0.0000, Test Loss: 0.0000, Train L1 Norm: 0.0060, Test L1 Norm: 0.0069, Train Linf Norm: 0.1373, Test Linf Norm: 0.1635\n",
            "Epoch 108: Train Loss: 0.0000, Test Loss: 0.0000, Train L1 Norm: 0.0056, Test L1 Norm: 0.0054, Train Linf Norm: 0.1319, Test Linf Norm: 0.1192\n",
            "Epoch 109: Train Loss: 0.0000, Test Loss: 0.0000, Train L1 Norm: 0.0056, Test L1 Norm: 0.0052, Train Linf Norm: 0.1319, Test Linf Norm: 0.1204\n",
            "Epoch 110: Train Loss: 0.0000, Test Loss: 0.0000, Train L1 Norm: 0.0056, Test L1 Norm: 0.0051, Train Linf Norm: 0.1335, Test Linf Norm: 0.1162\n",
            "Epoch 111: Train Loss: 0.0000, Test Loss: 0.0000, Train L1 Norm: 0.0058, Test L1 Norm: 0.0049, Train Linf Norm: 0.1376, Test Linf Norm: 0.1113\n",
            "Epoch 112: Train Loss: 0.0000, Test Loss: 0.0000, Train L1 Norm: 0.0056, Test L1 Norm: 0.0055, Train Linf Norm: 0.1348, Test Linf Norm: 0.1273\n",
            "Epoch 113: Train Loss: 0.0000, Test Loss: 0.0000, Train L1 Norm: 0.0071, Test L1 Norm: 0.0061, Train Linf Norm: 0.1838, Test Linf Norm: 0.1414\n",
            "Epoch 114: Train Loss: 0.0000, Test Loss: 0.0000, Train L1 Norm: 0.0059, Test L1 Norm: 0.0049, Train Linf Norm: 0.1452, Test Linf Norm: 0.1088\n",
            "Epoch 115: Train Loss: 0.0000, Test Loss: 0.0000, Train L1 Norm: 0.0053, Test L1 Norm: 0.0054, Train Linf Norm: 0.1246, Test Linf Norm: 0.1246\n",
            "Epoch 116: Train Loss: 0.0000, Test Loss: 0.0000, Train L1 Norm: 0.0056, Test L1 Norm: 0.0059, Train Linf Norm: 0.1343, Test Linf Norm: 0.1331\n",
            "Epoch 117: Train Loss: 0.0000, Test Loss: 0.0000, Train L1 Norm: 0.0053, Test L1 Norm: 0.0049, Train Linf Norm: 0.1240, Test Linf Norm: 0.1118\n",
            "Epoch 118: Train Loss: 0.0000, Test Loss: 0.0000, Train L1 Norm: 0.0056, Test L1 Norm: 0.0056, Train Linf Norm: 0.1326, Test Linf Norm: 0.1323\n",
            "Epoch 119: Train Loss: 0.0000, Test Loss: 0.0000, Train L1 Norm: 0.0052, Test L1 Norm: 0.0043, Train Linf Norm: 0.1258, Test Linf Norm: 0.0956\n",
            "Epoch 120: Train Loss: 0.0000, Test Loss: 0.0000, Train L1 Norm: 0.0054, Test L1 Norm: 0.0051, Train Linf Norm: 0.1284, Test Linf Norm: 0.1174\n",
            "Epoch 121: Train Loss: 0.0000, Test Loss: 0.0000, Train L1 Norm: 0.0053, Test L1 Norm: 0.0061, Train Linf Norm: 0.1251, Test Linf Norm: 0.1417\n",
            "Epoch 122: Train Loss: 0.0000, Test Loss: 0.0000, Train L1 Norm: 0.0052, Test L1 Norm: 0.0064, Train Linf Norm: 0.1226, Test Linf Norm: 0.1442\n",
            "Epoch 123: Train Loss: 0.0000, Test Loss: 0.0000, Train L1 Norm: 0.0052, Test L1 Norm: 0.0048, Train Linf Norm: 0.1250, Test Linf Norm: 0.1094\n",
            "Epoch 124: Train Loss: 0.0000, Test Loss: 0.0000, Train L1 Norm: 0.0052, Test L1 Norm: 0.0056, Train Linf Norm: 0.1243, Test Linf Norm: 0.1317\n",
            "Epoch 125: Train Loss: 0.0000, Test Loss: 0.0000, Train L1 Norm: 0.0052, Test L1 Norm: 0.0044, Train Linf Norm: 0.1247, Test Linf Norm: 0.0981\n",
            "Epoch 126: Train Loss: 0.0000, Test Loss: 0.0000, Train L1 Norm: 0.0054, Test L1 Norm: 0.0053, Train Linf Norm: 0.1309, Test Linf Norm: 0.1231\n",
            "Epoch 127: Train Loss: 0.0000, Test Loss: 0.0000, Train L1 Norm: 0.0051, Test L1 Norm: 0.0052, Train Linf Norm: 0.1217, Test Linf Norm: 0.1212\n",
            "Epoch 128: Train Loss: 0.0000, Test Loss: 0.0000, Train L1 Norm: 0.0050, Test L1 Norm: 0.0060, Train Linf Norm: 0.1161, Test Linf Norm: 0.1416\n",
            "Epoch 129: Train Loss: 0.0000, Test Loss: 0.0000, Train L1 Norm: 0.0050, Test L1 Norm: 0.0048, Train Linf Norm: 0.1198, Test Linf Norm: 0.1092\n",
            "Epoch 130: Train Loss: 0.0000, Test Loss: 0.0000, Train L1 Norm: 0.0052, Test L1 Norm: 0.0046, Train Linf Norm: 0.1250, Test Linf Norm: 0.1047\n",
            "Epoch 131: Train Loss: 0.0000, Test Loss: 0.0000, Train L1 Norm: 0.0052, Test L1 Norm: 0.0047, Train Linf Norm: 0.1247, Test Linf Norm: 0.1083\n",
            "Epoch 132: Train Loss: 0.0000, Test Loss: 0.0000, Train L1 Norm: 0.0051, Test L1 Norm: 0.0051, Train Linf Norm: 0.1245, Test Linf Norm: 0.1198\n",
            "Epoch 133: Train Loss: 0.0000, Test Loss: 0.0000, Train L1 Norm: 0.0051, Test L1 Norm: 0.0045, Train Linf Norm: 0.1219, Test Linf Norm: 0.1004\n",
            "Epoch 134: Train Loss: 0.0000, Test Loss: 0.0000, Train L1 Norm: 0.0052, Test L1 Norm: 0.0047, Train Linf Norm: 0.1265, Test Linf Norm: 0.1078\n",
            "Epoch 135: Train Loss: 0.0000, Test Loss: 0.0000, Train L1 Norm: 0.0049, Test L1 Norm: 0.0059, Train Linf Norm: 0.1177, Test Linf Norm: 0.1375\n",
            "Epoch 136: Train Loss: 0.0000, Test Loss: 0.0000, Train L1 Norm: 0.0051, Test L1 Norm: 0.0053, Train Linf Norm: 0.1227, Test Linf Norm: 0.1244\n",
            "Epoch 137: Train Loss: 0.0000, Test Loss: 0.0000, Train L1 Norm: 0.0051, Test L1 Norm: 0.0052, Train Linf Norm: 0.1224, Test Linf Norm: 0.1200\n",
            "Epoch 138: Train Loss: 0.0000, Test Loss: 0.0000, Train L1 Norm: 0.0050, Test L1 Norm: 0.0051, Train Linf Norm: 0.1200, Test Linf Norm: 0.1183\n",
            "Epoch 139: Train Loss: 0.0000, Test Loss: 0.0000, Train L1 Norm: 0.0051, Test L1 Norm: 0.0049, Train Linf Norm: 0.1228, Test Linf Norm: 0.1143\n",
            "Epoch 140: Train Loss: 0.0000, Test Loss: 0.0000, Train L1 Norm: 0.0051, Test L1 Norm: 0.0045, Train Linf Norm: 0.1214, Test Linf Norm: 0.1027\n",
            "Epoch 141: Train Loss: 0.0000, Test Loss: 0.0000, Train L1 Norm: 0.0050, Test L1 Norm: 0.0054, Train Linf Norm: 0.1198, Test Linf Norm: 0.1257\n",
            "Epoch 142: Train Loss: 0.0000, Test Loss: 0.0000, Train L1 Norm: 0.0050, Test L1 Norm: 0.0046, Train Linf Norm: 0.1217, Test Linf Norm: 0.1062\n",
            "Epoch 143: Train Loss: 0.0000, Test Loss: 0.0000, Train L1 Norm: 0.0051, Test L1 Norm: 0.0049, Train Linf Norm: 0.1227, Test Linf Norm: 0.1139\n",
            "Epoch 144: Train Loss: 0.0000, Test Loss: 0.0000, Train L1 Norm: 0.0050, Test L1 Norm: 0.0047, Train Linf Norm: 0.1208, Test Linf Norm: 0.1071\n",
            "Epoch 145: Train Loss: 0.0000, Test Loss: 0.0000, Train L1 Norm: 0.0050, Test L1 Norm: 0.0044, Train Linf Norm: 0.1206, Test Linf Norm: 0.1002\n",
            "Epoch 146: Train Loss: 0.0000, Test Loss: 0.0000, Train L1 Norm: 0.0049, Test L1 Norm: 0.0054, Train Linf Norm: 0.1193, Test Linf Norm: 0.1255\n",
            "Epoch 147: Train Loss: 0.0000, Test Loss: 0.0000, Train L1 Norm: 0.0050, Test L1 Norm: 0.0048, Train Linf Norm: 0.1199, Test Linf Norm: 0.1102\n",
            "Epoch 148: Train Loss: 0.0000, Test Loss: 0.0000, Train L1 Norm: 0.0050, Test L1 Norm: 0.0051, Train Linf Norm: 0.1203, Test Linf Norm: 0.1185\n",
            "Epoch 149: Train Loss: 0.0000, Test Loss: 0.0000, Train L1 Norm: 0.0050, Test L1 Norm: 0.0050, Train Linf Norm: 0.1190, Test Linf Norm: 0.1172\n",
            "Epoch 150: Train Loss: 0.0000, Test Loss: 0.0000, Train L1 Norm: 0.0049, Test L1 Norm: 0.0044, Train Linf Norm: 0.1192, Test Linf Norm: 0.0957\n",
            "Epoch 151: Train Loss: 0.0000, Test Loss: 0.0000, Train L1 Norm: 0.0049, Test L1 Norm: 0.0049, Train Linf Norm: 0.1182, Test Linf Norm: 0.1138\n",
            "Epoch 152: Train Loss: 0.0000, Test Loss: 0.0000, Train L1 Norm: 0.0050, Test L1 Norm: 0.0046, Train Linf Norm: 0.1209, Test Linf Norm: 0.1040\n",
            "Epoch 153: Train Loss: 0.0000, Test Loss: 0.0000, Train L1 Norm: 0.0049, Test L1 Norm: 0.0049, Train Linf Norm: 0.1187, Test Linf Norm: 0.1130\n",
            "Epoch 154: Train Loss: 0.0000, Test Loss: 0.0000, Train L1 Norm: 0.0050, Test L1 Norm: 0.0050, Train Linf Norm: 0.1200, Test Linf Norm: 0.1166\n",
            "Epoch 155: Train Loss: 0.0000, Test Loss: 0.0000, Train L1 Norm: 0.0049, Test L1 Norm: 0.0049, Train Linf Norm: 0.1176, Test Linf Norm: 0.1148\n",
            "Epoch 156: Train Loss: 0.0000, Test Loss: 0.0000, Train L1 Norm: 0.0050, Test L1 Norm: 0.0046, Train Linf Norm: 0.1201, Test Linf Norm: 0.1054\n",
            "Epoch 157: Train Loss: 0.0000, Test Loss: 0.0000, Train L1 Norm: 0.0049, Test L1 Norm: 0.0049, Train Linf Norm: 0.1176, Test Linf Norm: 0.1131\n",
            "Epoch 158: Train Loss: 0.0000, Test Loss: 0.0000, Train L1 Norm: 0.0049, Test L1 Norm: 0.0049, Train Linf Norm: 0.1194, Test Linf Norm: 0.1152\n",
            "Epoch 159: Train Loss: 0.0000, Test Loss: 0.0000, Train L1 Norm: 0.0049, Test L1 Norm: 0.0047, Train Linf Norm: 0.1195, Test Linf Norm: 0.1088\n",
            "Epoch 160: Train Loss: 0.0000, Test Loss: 0.0000, Train L1 Norm: 0.0049, Test L1 Norm: 0.0046, Train Linf Norm: 0.1187, Test Linf Norm: 0.1057\n",
            "Epoch 161: Train Loss: 0.0000, Test Loss: 0.0000, Train L1 Norm: 0.0049, Test L1 Norm: 0.0049, Train Linf Norm: 0.1178, Test Linf Norm: 0.1130\n",
            "Epoch 162: Train Loss: 0.0000, Test Loss: 0.0000, Train L1 Norm: 0.0049, Test L1 Norm: 0.0051, Train Linf Norm: 0.1181, Test Linf Norm: 0.1205\n",
            "Epoch 163: Train Loss: 0.0000, Test Loss: 0.0000, Train L1 Norm: 0.0050, Test L1 Norm: 0.0049, Train Linf Norm: 0.1195, Test Linf Norm: 0.1129\n",
            "Epoch 164: Train Loss: 0.0000, Test Loss: 0.0000, Train L1 Norm: 0.0049, Test L1 Norm: 0.0047, Train Linf Norm: 0.1191, Test Linf Norm: 0.1068\n",
            "Epoch 165: Train Loss: 0.0000, Test Loss: 0.0000, Train L1 Norm: 0.0049, Test L1 Norm: 0.0049, Train Linf Norm: 0.1183, Test Linf Norm: 0.1148\n",
            "Epoch 166: Train Loss: 0.0000, Test Loss: 0.0000, Train L1 Norm: 0.0049, Test L1 Norm: 0.0047, Train Linf Norm: 0.1176, Test Linf Norm: 0.1085\n",
            "Epoch 167: Train Loss: 0.0000, Test Loss: 0.0000, Train L1 Norm: 0.0049, Test L1 Norm: 0.0049, Train Linf Norm: 0.1181, Test Linf Norm: 0.1134\n",
            "Epoch 168: Train Loss: 0.0000, Test Loss: 0.0000, Train L1 Norm: 0.0049, Test L1 Norm: 0.0047, Train Linf Norm: 0.1181, Test Linf Norm: 0.1071\n",
            "Epoch 169: Train Loss: 0.0000, Test Loss: 0.0000, Train L1 Norm: 0.0049, Test L1 Norm: 0.0050, Train Linf Norm: 0.1169, Test Linf Norm: 0.1176\n",
            "Epoch 170: Train Loss: 0.0000, Test Loss: 0.0000, Train L1 Norm: 0.0049, Test L1 Norm: 0.0050, Train Linf Norm: 0.1190, Test Linf Norm: 0.1174\n",
            "Epoch 171: Train Loss: 0.0000, Test Loss: 0.0000, Train L1 Norm: 0.0049, Test L1 Norm: 0.0048, Train Linf Norm: 0.1203, Test Linf Norm: 0.1122\n",
            "Epoch 172: Train Loss: 0.0000, Test Loss: 0.0000, Train L1 Norm: 0.0049, Test L1 Norm: 0.0050, Train Linf Norm: 0.1178, Test Linf Norm: 0.1173\n",
            "Epoch 173: Train Loss: 0.0000, Test Loss: 0.0000, Train L1 Norm: 0.0049, Test L1 Norm: 0.0047, Train Linf Norm: 0.1175, Test Linf Norm: 0.1096\n",
            "Epoch 174: Train Loss: 0.0000, Test Loss: 0.0000, Train L1 Norm: 0.0049, Test L1 Norm: 0.0049, Train Linf Norm: 0.1199, Test Linf Norm: 0.1133\n",
            "Epoch 175: Train Loss: 0.0000, Test Loss: 0.0000, Train L1 Norm: 0.0049, Test L1 Norm: 0.0051, Train Linf Norm: 0.1172, Test Linf Norm: 0.1204\n",
            "Epoch 176: Train Loss: 0.0000, Test Loss: 0.0000, Train L1 Norm: 0.0049, Test L1 Norm: 0.0046, Train Linf Norm: 0.1208, Test Linf Norm: 0.1067\n",
            "Epoch 177: Train Loss: 0.0000, Test Loss: 0.0000, Train L1 Norm: 0.0049, Test L1 Norm: 0.0050, Train Linf Norm: 0.1196, Test Linf Norm: 0.1171\n",
            "Epoch 178: Train Loss: 0.0000, Test Loss: 0.0000, Train L1 Norm: 0.0049, Test L1 Norm: 0.0049, Train Linf Norm: 0.1191, Test Linf Norm: 0.1148\n",
            "Epoch 179: Train Loss: 0.0000, Test Loss: 0.0000, Train L1 Norm: 0.0049, Test L1 Norm: 0.0050, Train Linf Norm: 0.1178, Test Linf Norm: 0.1172\n",
            "Epoch 180: Train Loss: 0.0000, Test Loss: 0.0000, Train L1 Norm: 0.0049, Test L1 Norm: 0.0048, Train Linf Norm: 0.1193, Test Linf Norm: 0.1124\n",
            "Epoch 181: Train Loss: 0.0000, Test Loss: 0.0000, Train L1 Norm: 0.0049, Test L1 Norm: 0.0050, Train Linf Norm: 0.1186, Test Linf Norm: 0.1162\n",
            "Epoch 182: Train Loss: 0.0000, Test Loss: 0.0000, Train L1 Norm: 0.0049, Test L1 Norm: 0.0047, Train Linf Norm: 0.1189, Test Linf Norm: 0.1084\n",
            "Epoch 183: Train Loss: 0.0000, Test Loss: 0.0000, Train L1 Norm: 0.0049, Test L1 Norm: 0.0049, Train Linf Norm: 0.1188, Test Linf Norm: 0.1151\n",
            "Epoch 184: Train Loss: 0.0000, Test Loss: 0.0000, Train L1 Norm: 0.0049, Test L1 Norm: 0.0047, Train Linf Norm: 0.1196, Test Linf Norm: 0.1093\n",
            "Epoch 185: Train Loss: 0.0000, Test Loss: 0.0000, Train L1 Norm: 0.0049, Test L1 Norm: 0.0048, Train Linf Norm: 0.1173, Test Linf Norm: 0.1100\n",
            "Epoch 186: Train Loss: 0.0000, Test Loss: 0.0000, Train L1 Norm: 0.0049, Test L1 Norm: 0.0049, Train Linf Norm: 0.1167, Test Linf Norm: 0.1130\n",
            "Epoch 187: Train Loss: 0.0000, Test Loss: 0.0000, Train L1 Norm: 0.0049, Test L1 Norm: 0.0049, Train Linf Norm: 0.1182, Test Linf Norm: 0.1146\n",
            "Epoch 188: Train Loss: 0.0000, Test Loss: 0.0000, Train L1 Norm: 0.0049, Test L1 Norm: 0.0049, Train Linf Norm: 0.1184, Test Linf Norm: 0.1140\n",
            "Epoch 189: Train Loss: 0.0000, Test Loss: 0.0000, Train L1 Norm: 0.0049, Test L1 Norm: 0.0047, Train Linf Norm: 0.1177, Test Linf Norm: 0.1094\n",
            "Epoch 190: Train Loss: 0.0000, Test Loss: 0.0000, Train L1 Norm: 0.0049, Test L1 Norm: 0.0049, Train Linf Norm: 0.1177, Test Linf Norm: 0.1136\n",
            "Epoch 191: Train Loss: 0.0000, Test Loss: 0.0000, Train L1 Norm: 0.0049, Test L1 Norm: 0.0048, Train Linf Norm: 0.1199, Test Linf Norm: 0.1102\n",
            "Epoch 192: Train Loss: 0.0000, Test Loss: 0.0000, Train L1 Norm: 0.0049, Test L1 Norm: 0.0048, Train Linf Norm: 0.1174, Test Linf Norm: 0.1116\n",
            "Epoch 193: Train Loss: 0.0000, Test Loss: 0.0000, Train L1 Norm: 0.0049, Test L1 Norm: 0.0048, Train Linf Norm: 0.1173, Test Linf Norm: 0.1122\n",
            "Epoch 194: Train Loss: 0.0000, Test Loss: 0.0000, Train L1 Norm: 0.0049, Test L1 Norm: 0.0047, Train Linf Norm: 0.1186, Test Linf Norm: 0.1096\n",
            "Epoch 195: Train Loss: 0.0000, Test Loss: 0.0000, Train L1 Norm: 0.0049, Test L1 Norm: 0.0051, Train Linf Norm: 0.1165, Test Linf Norm: 0.1183\n",
            "Epoch 196: Train Loss: 0.0000, Test Loss: 0.0000, Train L1 Norm: 0.0049, Test L1 Norm: 0.0050, Train Linf Norm: 0.1183, Test Linf Norm: 0.1155\n",
            "Epoch 197: Train Loss: 0.0000, Test Loss: 0.0000, Train L1 Norm: 0.0049, Test L1 Norm: 0.0047, Train Linf Norm: 0.1171, Test Linf Norm: 0.1071\n",
            "Epoch 198: Train Loss: 0.0000, Test Loss: 0.0000, Train L1 Norm: 0.0049, Test L1 Norm: 0.0050, Train Linf Norm: 0.1174, Test Linf Norm: 0.1156\n",
            "Epoch 199: Train Loss: 0.0000, Test Loss: 0.0000, Train L1 Norm: 0.0049, Test L1 Norm: 0.0048, Train Linf Norm: 0.1194, Test Linf Norm: 0.1120\n",
            "Epoch 200: Train Loss: 0.0000, Test Loss: 0.0000, Train L1 Norm: 0.0049, Test L1 Norm: 0.0049, Train Linf Norm: 0.1173, Test Linf Norm: 0.1150\n",
            "Epoch 201: Train Loss: 0.0000, Test Loss: 0.0000, Train L1 Norm: 0.0049, Test L1 Norm: 0.0050, Train Linf Norm: 0.1192, Test Linf Norm: 0.1159\n",
            "Epoch 202: Train Loss: 0.0000, Test Loss: 0.0000, Train L1 Norm: 0.0049, Test L1 Norm: 0.0048, Train Linf Norm: 0.1202, Test Linf Norm: 0.1104\n",
            "Epoch 203: Train Loss: 0.0000, Test Loss: 0.0000, Train L1 Norm: 0.0049, Test L1 Norm: 0.0046, Train Linf Norm: 0.1166, Test Linf Norm: 0.1066\n",
            "Epoch 204: Train Loss: 0.0000, Test Loss: 0.0000, Train L1 Norm: 0.0049, Test L1 Norm: 0.0048, Train Linf Norm: 0.1188, Test Linf Norm: 0.1113\n",
            "Epoch 205: Train Loss: 0.0000, Test Loss: 0.0000, Train L1 Norm: 0.0049, Test L1 Norm: 0.0050, Train Linf Norm: 0.1178, Test Linf Norm: 0.1163\n",
            "Epoch 206: Train Loss: 0.0000, Test Loss: 0.0000, Train L1 Norm: 0.0048, Test L1 Norm: 0.0050, Train Linf Norm: 0.1182, Test Linf Norm: 0.1162\n",
            "Epoch 207: Train Loss: 0.0000, Test Loss: 0.0000, Train L1 Norm: 0.0049, Test L1 Norm: 0.0049, Train Linf Norm: 0.1188, Test Linf Norm: 0.1153\n",
            "Epoch 208: Train Loss: 0.0000, Test Loss: 0.0000, Train L1 Norm: 0.0049, Test L1 Norm: 0.0050, Train Linf Norm: 0.1185, Test Linf Norm: 0.1159\n",
            "Epoch 209: Train Loss: 0.0000, Test Loss: 0.0000, Train L1 Norm: 0.0049, Test L1 Norm: 0.0049, Train Linf Norm: 0.1191, Test Linf Norm: 0.1147\n",
            "Epoch 210: Train Loss: 0.0000, Test Loss: 0.0000, Train L1 Norm: 0.0049, Test L1 Norm: 0.0049, Train Linf Norm: 0.1164, Test Linf Norm: 0.1137\n",
            "Epoch 211: Train Loss: 0.0000, Test Loss: 0.0000, Train L1 Norm: 0.0049, Test L1 Norm: 0.0049, Train Linf Norm: 0.1168, Test Linf Norm: 0.1129\n",
            "Epoch 212: Train Loss: 0.0000, Test Loss: 0.0000, Train L1 Norm: 0.0049, Test L1 Norm: 0.0049, Train Linf Norm: 0.1175, Test Linf Norm: 0.1150\n",
            "Epoch 213: Train Loss: 0.0000, Test Loss: 0.0000, Train L1 Norm: 0.0049, Test L1 Norm: 0.0050, Train Linf Norm: 0.1186, Test Linf Norm: 0.1164\n",
            "Epoch 214: Train Loss: 0.0000, Test Loss: 0.0000, Train L1 Norm: 0.0049, Test L1 Norm: 0.0049, Train Linf Norm: 0.1176, Test Linf Norm: 0.1128\n",
            "Epoch 215: Train Loss: 0.0000, Test Loss: 0.0000, Train L1 Norm: 0.0049, Test L1 Norm: 0.0049, Train Linf Norm: 0.1165, Test Linf Norm: 0.1149\n",
            "Epoch 216: Train Loss: 0.0000, Test Loss: 0.0000, Train L1 Norm: 0.0049, Test L1 Norm: 0.0047, Train Linf Norm: 0.1177, Test Linf Norm: 0.1084\n",
            "Epoch 217: Train Loss: 0.0000, Test Loss: 0.0000, Train L1 Norm: 0.0049, Test L1 Norm: 0.0045, Train Linf Norm: 0.1174, Test Linf Norm: 0.1038\n",
            "Epoch 218: Train Loss: 0.0000, Test Loss: 0.0000, Train L1 Norm: 0.0049, Test L1 Norm: 0.0049, Train Linf Norm: 0.1171, Test Linf Norm: 0.1144\n",
            "Epoch 219: Train Loss: 0.0000, Test Loss: 0.0000, Train L1 Norm: 0.0049, Test L1 Norm: 0.0049, Train Linf Norm: 0.1182, Test Linf Norm: 0.1144\n",
            "Epoch 220: Train Loss: 0.0000, Test Loss: 0.0000, Train L1 Norm: 0.0049, Test L1 Norm: 0.0049, Train Linf Norm: 0.1170, Test Linf Norm: 0.1132\n",
            "Epoch 221: Train Loss: 0.0000, Test Loss: 0.0000, Train L1 Norm: 0.0049, Test L1 Norm: 0.0047, Train Linf Norm: 0.1181, Test Linf Norm: 0.1088\n",
            "Epoch 222: Train Loss: 0.0000, Test Loss: 0.0000, Train L1 Norm: 0.0049, Test L1 Norm: 0.0047, Train Linf Norm: 0.1190, Test Linf Norm: 0.1081\n",
            "Epoch 223: Train Loss: 0.0000, Test Loss: 0.0000, Train L1 Norm: 0.0049, Test L1 Norm: 0.0050, Train Linf Norm: 0.1166, Test Linf Norm: 0.1168\n",
            "Epoch 224: Train Loss: 0.0000, Test Loss: 0.0000, Train L1 Norm: 0.0049, Test L1 Norm: 0.0048, Train Linf Norm: 0.1186, Test Linf Norm: 0.1114\n",
            "Epoch 225: Train Loss: 0.0000, Test Loss: 0.0000, Train L1 Norm: 0.0049, Test L1 Norm: 0.0046, Train Linf Norm: 0.1185, Test Linf Norm: 0.1064\n",
            "Epoch 226: Train Loss: 0.0000, Test Loss: 0.0000, Train L1 Norm: 0.0049, Test L1 Norm: 0.0047, Train Linf Norm: 0.1168, Test Linf Norm: 0.1072\n",
            "Epoch 227: Train Loss: 0.0000, Test Loss: 0.0000, Train L1 Norm: 0.0049, Test L1 Norm: 0.0049, Train Linf Norm: 0.1163, Test Linf Norm: 0.1133\n",
            "Epoch 228: Train Loss: 0.0000, Test Loss: 0.0000, Train L1 Norm: 0.0049, Test L1 Norm: 0.0049, Train Linf Norm: 0.1160, Test Linf Norm: 0.1141\n",
            "Epoch 229: Train Loss: 0.0000, Test Loss: 0.0000, Train L1 Norm: 0.0049, Test L1 Norm: 0.0047, Train Linf Norm: 0.1183, Test Linf Norm: 0.1078\n",
            "Epoch 230: Train Loss: 0.0000, Test Loss: 0.0000, Train L1 Norm: 0.0049, Test L1 Norm: 0.0048, Train Linf Norm: 0.1190, Test Linf Norm: 0.1127\n",
            "Epoch 231: Train Loss: 0.0000, Test Loss: 0.0000, Train L1 Norm: 0.0049, Test L1 Norm: 0.0047, Train Linf Norm: 0.1188, Test Linf Norm: 0.1095\n",
            "Epoch 232: Train Loss: 0.0000, Test Loss: 0.0000, Train L1 Norm: 0.0049, Test L1 Norm: 0.0049, Train Linf Norm: 0.1179, Test Linf Norm: 0.1133\n",
            "Epoch 233: Train Loss: 0.0000, Test Loss: 0.0000, Train L1 Norm: 0.0049, Test L1 Norm: 0.0047, Train Linf Norm: 0.1166, Test Linf Norm: 0.1086\n",
            "Epoch 234: Train Loss: 0.0000, Test Loss: 0.0000, Train L1 Norm: 0.0049, Test L1 Norm: 0.0050, Train Linf Norm: 0.1183, Test Linf Norm: 0.1172\n",
            "Epoch 235: Train Loss: 0.0000, Test Loss: 0.0000, Train L1 Norm: 0.0049, Test L1 Norm: 0.0049, Train Linf Norm: 0.1172, Test Linf Norm: 0.1143\n",
            "Epoch 236: Train Loss: 0.0000, Test Loss: 0.0000, Train L1 Norm: 0.0049, Test L1 Norm: 0.0048, Train Linf Norm: 0.1172, Test Linf Norm: 0.1101\n",
            "Epoch 237: Train Loss: 0.0000, Test Loss: 0.0000, Train L1 Norm: 0.0049, Test L1 Norm: 0.0049, Train Linf Norm: 0.1191, Test Linf Norm: 0.1136\n",
            "Epoch 238: Train Loss: 0.0000, Test Loss: 0.0000, Train L1 Norm: 0.0049, Test L1 Norm: 0.0048, Train Linf Norm: 0.1183, Test Linf Norm: 0.1120\n",
            "Epoch 239: Train Loss: 0.0000, Test Loss: 0.0000, Train L1 Norm: 0.0049, Test L1 Norm: 0.0049, Train Linf Norm: 0.1164, Test Linf Norm: 0.1134\n",
            "Epoch 240: Train Loss: 0.0000, Test Loss: 0.0000, Train L1 Norm: 0.0049, Test L1 Norm: 0.0047, Train Linf Norm: 0.1185, Test Linf Norm: 0.1087\n",
            "Epoch 241: Train Loss: 0.0000, Test Loss: 0.0000, Train L1 Norm: 0.0049, Test L1 Norm: 0.0047, Train Linf Norm: 0.1193, Test Linf Norm: 0.1098\n",
            "Epoch 242: Train Loss: 0.0000, Test Loss: 0.0000, Train L1 Norm: 0.0049, Test L1 Norm: 0.0048, Train Linf Norm: 0.1175, Test Linf Norm: 0.1112\n",
            "Epoch 243: Train Loss: 0.0000, Test Loss: 0.0000, Train L1 Norm: 0.0049, Test L1 Norm: 0.0046, Train Linf Norm: 0.1184, Test Linf Norm: 0.1045\n",
            "Epoch 244: Train Loss: 0.0000, Test Loss: 0.0000, Train L1 Norm: 0.0048, Test L1 Norm: 0.0048, Train Linf Norm: 0.1176, Test Linf Norm: 0.1118\n",
            "Epoch 245: Train Loss: 0.0000, Test Loss: 0.0000, Train L1 Norm: 0.0049, Test L1 Norm: 0.0047, Train Linf Norm: 0.1167, Test Linf Norm: 0.1098\n",
            "Epoch 246: Train Loss: 0.0000, Test Loss: 0.0000, Train L1 Norm: 0.0049, Test L1 Norm: 0.0047, Train Linf Norm: 0.1191, Test Linf Norm: 0.1083\n",
            "Epoch 247: Train Loss: 0.0000, Test Loss: 0.0000, Train L1 Norm: 0.0049, Test L1 Norm: 0.0048, Train Linf Norm: 0.1181, Test Linf Norm: 0.1109\n",
            "Epoch 248: Train Loss: 0.0000, Test Loss: 0.0000, Train L1 Norm: 0.0048, Test L1 Norm: 0.0050, Train Linf Norm: 0.1169, Test Linf Norm: 0.1162\n",
            "Epoch 249: Train Loss: 0.0000, Test Loss: 0.0000, Train L1 Norm: 0.0049, Test L1 Norm: 0.0049, Train Linf Norm: 0.1169, Test Linf Norm: 0.1133\n",
            "Epoch 250: Train Loss: 0.0000, Test Loss: 0.0000, Train L1 Norm: 0.0049, Test L1 Norm: 0.0048, Train Linf Norm: 0.1175, Test Linf Norm: 0.1119\n",
            "Epoch 251: Train Loss: 0.0000, Test Loss: 0.0000, Train L1 Norm: 0.0048, Test L1 Norm: 0.0048, Train Linf Norm: 0.1173, Test Linf Norm: 0.1106\n",
            "Epoch 252: Train Loss: 0.0000, Test Loss: 0.0000, Train L1 Norm: 0.0049, Test L1 Norm: 0.0048, Train Linf Norm: 0.1181, Test Linf Norm: 0.1119\n",
            "Epoch 253: Train Loss: 0.0000, Test Loss: 0.0000, Train L1 Norm: 0.0049, Test L1 Norm: 0.0047, Train Linf Norm: 0.1179, Test Linf Norm: 0.1091\n",
            "Epoch 254: Train Loss: 0.0000, Test Loss: 0.0000, Train L1 Norm: 0.0049, Test L1 Norm: 0.0047, Train Linf Norm: 0.1175, Test Linf Norm: 0.1095\n",
            "Epoch 255: Train Loss: 0.0000, Test Loss: 0.0000, Train L1 Norm: 0.0049, Test L1 Norm: 0.0047, Train Linf Norm: 0.1182, Test Linf Norm: 0.1099\n",
            "Epoch 256: Train Loss: 0.0000, Test Loss: 0.0000, Train L1 Norm: 0.0048, Test L1 Norm: 0.0050, Train Linf Norm: 0.1167, Test Linf Norm: 0.1168\n",
            "Epoch 257: Train Loss: 0.0000, Test Loss: 0.0000, Train L1 Norm: 0.0048, Test L1 Norm: 0.0050, Train Linf Norm: 0.1168, Test Linf Norm: 0.1165\n",
            "Epoch 258: Train Loss: 0.0000, Test Loss: 0.0000, Train L1 Norm: 0.0049, Test L1 Norm: 0.0047, Train Linf Norm: 0.1180, Test Linf Norm: 0.1098\n",
            "Epoch 259: Train Loss: 0.0000, Test Loss: 0.0000, Train L1 Norm: 0.0049, Test L1 Norm: 0.0049, Train Linf Norm: 0.1181, Test Linf Norm: 0.1144\n",
            "Epoch 260: Train Loss: 0.0000, Test Loss: 0.0000, Train L1 Norm: 0.0049, Test L1 Norm: 0.0048, Train Linf Norm: 0.1187, Test Linf Norm: 0.1104\n",
            "Epoch 261: Train Loss: 0.0000, Test Loss: 0.0000, Train L1 Norm: 0.0048, Test L1 Norm: 0.0049, Train Linf Norm: 0.1153, Test Linf Norm: 0.1135\n",
            "Epoch 262: Train Loss: 0.0000, Test Loss: 0.0000, Train L1 Norm: 0.0049, Test L1 Norm: 0.0048, Train Linf Norm: 0.1167, Test Linf Norm: 0.1124\n",
            "Epoch 263: Train Loss: 0.0000, Test Loss: 0.0000, Train L1 Norm: 0.0049, Test L1 Norm: 0.0047, Train Linf Norm: 0.1157, Test Linf Norm: 0.1098\n",
            "Epoch 264: Train Loss: 0.0000, Test Loss: 0.0000, Train L1 Norm: 0.0049, Test L1 Norm: 0.0049, Train Linf Norm: 0.1162, Test Linf Norm: 0.1143\n",
            "Epoch 265: Train Loss: 0.0000, Test Loss: 0.0000, Train L1 Norm: 0.0048, Test L1 Norm: 0.0048, Train Linf Norm: 0.1174, Test Linf Norm: 0.1104\n",
            "Epoch 266: Train Loss: 0.0000, Test Loss: 0.0000, Train L1 Norm: 0.0049, Test L1 Norm: 0.0048, Train Linf Norm: 0.1190, Test Linf Norm: 0.1127\n",
            "Epoch 267: Train Loss: 0.0000, Test Loss: 0.0000, Train L1 Norm: 0.0049, Test L1 Norm: 0.0046, Train Linf Norm: 0.1191, Test Linf Norm: 0.1069\n",
            "Epoch 268: Train Loss: 0.0000, Test Loss: 0.0000, Train L1 Norm: 0.0049, Test L1 Norm: 0.0046, Train Linf Norm: 0.1176, Test Linf Norm: 0.1062\n",
            "Epoch 269: Train Loss: 0.0000, Test Loss: 0.0000, Train L1 Norm: 0.0049, Test L1 Norm: 0.0048, Train Linf Norm: 0.1181, Test Linf Norm: 0.1113\n",
            "Epoch 270: Train Loss: 0.0000, Test Loss: 0.0000, Train L1 Norm: 0.0048, Test L1 Norm: 0.0047, Train Linf Norm: 0.1165, Test Linf Norm: 0.1080\n",
            "Epoch 271: Train Loss: 0.0000, Test Loss: 0.0000, Train L1 Norm: 0.0048, Test L1 Norm: 0.0048, Train Linf Norm: 0.1152, Test Linf Norm: 0.1114\n",
            "Epoch 272: Train Loss: 0.0000, Test Loss: 0.0000, Train L1 Norm: 0.0049, Test L1 Norm: 0.0047, Train Linf Norm: 0.1185, Test Linf Norm: 0.1075\n",
            "Epoch 273: Train Loss: 0.0000, Test Loss: 0.0000, Train L1 Norm: 0.0049, Test L1 Norm: 0.0048, Train Linf Norm: 0.1191, Test Linf Norm: 0.1122\n",
            "Epoch 274: Train Loss: 0.0000, Test Loss: 0.0000, Train L1 Norm: 0.0048, Test L1 Norm: 0.0047, Train Linf Norm: 0.1150, Test Linf Norm: 0.1080\n",
            "Epoch 275: Train Loss: 0.0000, Test Loss: 0.0000, Train L1 Norm: 0.0049, Test L1 Norm: 0.0048, Train Linf Norm: 0.1191, Test Linf Norm: 0.1120\n",
            "Epoch 276: Train Loss: 0.0000, Test Loss: 0.0000, Train L1 Norm: 0.0049, Test L1 Norm: 0.0049, Train Linf Norm: 0.1172, Test Linf Norm: 0.1138\n",
            "Epoch 277: Train Loss: 0.0000, Test Loss: 0.0000, Train L1 Norm: 0.0049, Test L1 Norm: 0.0048, Train Linf Norm: 0.1188, Test Linf Norm: 0.1106\n",
            "Epoch 278: Train Loss: 0.0000, Test Loss: 0.0000, Train L1 Norm: 0.0049, Test L1 Norm: 0.0047, Train Linf Norm: 0.1184, Test Linf Norm: 0.1093\n",
            "Epoch 279: Train Loss: 0.0000, Test Loss: 0.0000, Train L1 Norm: 0.0049, Test L1 Norm: 0.0047, Train Linf Norm: 0.1188, Test Linf Norm: 0.1090\n",
            "Epoch 280: Train Loss: 0.0000, Test Loss: 0.0000, Train L1 Norm: 0.0049, Test L1 Norm: 0.0049, Train Linf Norm: 0.1176, Test Linf Norm: 0.1144\n",
            "Epoch 281: Train Loss: 0.0000, Test Loss: 0.0000, Train L1 Norm: 0.0049, Test L1 Norm: 0.0049, Train Linf Norm: 0.1167, Test Linf Norm: 0.1148\n",
            "Epoch 282: Train Loss: 0.0000, Test Loss: 0.0000, Train L1 Norm: 0.0049, Test L1 Norm: 0.0049, Train Linf Norm: 0.1165, Test Linf Norm: 0.1143\n",
            "Epoch 283: Train Loss: 0.0000, Test Loss: 0.0000, Train L1 Norm: 0.0049, Test L1 Norm: 0.0048, Train Linf Norm: 0.1170, Test Linf Norm: 0.1101\n",
            "Epoch 284: Train Loss: 0.0000, Test Loss: 0.0000, Train L1 Norm: 0.0048, Test L1 Norm: 0.0048, Train Linf Norm: 0.1174, Test Linf Norm: 0.1114\n",
            "Epoch 285: Train Loss: 0.0000, Test Loss: 0.0000, Train L1 Norm: 0.0049, Test L1 Norm: 0.0048, Train Linf Norm: 0.1170, Test Linf Norm: 0.1117\n",
            "Epoch 286: Train Loss: 0.0000, Test Loss: 0.0000, Train L1 Norm: 0.0049, Test L1 Norm: 0.0049, Train Linf Norm: 0.1171, Test Linf Norm: 0.1137\n",
            "Epoch 287: Train Loss: 0.0000, Test Loss: 0.0000, Train L1 Norm: 0.0049, Test L1 Norm: 0.0049, Train Linf Norm: 0.1188, Test Linf Norm: 0.1135\n",
            "Epoch 288: Train Loss: 0.0000, Test Loss: 0.0000, Train L1 Norm: 0.0048, Test L1 Norm: 0.0048, Train Linf Norm: 0.1161, Test Linf Norm: 0.1122\n",
            "Epoch 289: Train Loss: 0.0000, Test Loss: 0.0000, Train L1 Norm: 0.0049, Test L1 Norm: 0.0050, Train Linf Norm: 0.1173, Test Linf Norm: 0.1175\n",
            "Epoch 290: Train Loss: 0.0000, Test Loss: 0.0000, Train L1 Norm: 0.0049, Test L1 Norm: 0.0049, Train Linf Norm: 0.1185, Test Linf Norm: 0.1145\n",
            "Epoch 291: Train Loss: 0.0000, Test Loss: 0.0000, Train L1 Norm: 0.0049, Test L1 Norm: 0.0049, Train Linf Norm: 0.1178, Test Linf Norm: 0.1130\n",
            "Epoch 292: Train Loss: 0.0000, Test Loss: 0.0000, Train L1 Norm: 0.0049, Test L1 Norm: 0.0048, Train Linf Norm: 0.1181, Test Linf Norm: 0.1109\n",
            "Epoch 293: Train Loss: 0.0000, Test Loss: 0.0000, Train L1 Norm: 0.0048, Test L1 Norm: 0.0049, Train Linf Norm: 0.1170, Test Linf Norm: 0.1133\n",
            "Epoch 294: Train Loss: 0.0000, Test Loss: 0.0000, Train L1 Norm: 0.0049, Test L1 Norm: 0.0049, Train Linf Norm: 0.1164, Test Linf Norm: 0.1149\n",
            "Epoch 295: Train Loss: 0.0000, Test Loss: 0.0000, Train L1 Norm: 0.0049, Test L1 Norm: 0.0048, Train Linf Norm: 0.1184, Test Linf Norm: 0.1115\n",
            "Epoch 296: Train Loss: 0.0000, Test Loss: 0.0000, Train L1 Norm: 0.0048, Test L1 Norm: 0.0048, Train Linf Norm: 0.1164, Test Linf Norm: 0.1113\n",
            "Epoch 297: Train Loss: 0.0000, Test Loss: 0.0000, Train L1 Norm: 0.0049, Test L1 Norm: 0.0047, Train Linf Norm: 0.1172, Test Linf Norm: 0.1096\n",
            "Epoch 298: Train Loss: 0.0000, Test Loss: 0.0000, Train L1 Norm: 0.0049, Test L1 Norm: 0.0049, Train Linf Norm: 0.1189, Test Linf Norm: 0.1151\n",
            "Epoch 299: Train Loss: 0.0000, Test Loss: 0.0000, Train L1 Norm: 0.0049, Test L1 Norm: 0.0049, Train Linf Norm: 0.1170, Test Linf Norm: 0.1136\n",
            "Epoch 300: Train Loss: 0.0000, Test Loss: 0.0000, Train L1 Norm: 0.0049, Test L1 Norm: 0.0046, Train Linf Norm: 0.1173, Test Linf Norm: 0.1065\n",
            "Epoch 301: Train Loss: 0.0000, Test Loss: 0.0000, Train L1 Norm: 0.0049, Test L1 Norm: 0.0048, Train Linf Norm: 0.1175, Test Linf Norm: 0.1110\n",
            "Epoch 302: Train Loss: 0.0000, Test Loss: 0.0000, Train L1 Norm: 0.0049, Test L1 Norm: 0.0048, Train Linf Norm: 0.1183, Test Linf Norm: 0.1123\n",
            "Epoch 303: Train Loss: 0.0000, Test Loss: 0.0000, Train L1 Norm: 0.0048, Test L1 Norm: 0.0048, Train Linf Norm: 0.1163, Test Linf Norm: 0.1108\n",
            "Epoch 304: Train Loss: 0.0000, Test Loss: 0.0000, Train L1 Norm: 0.0048, Test L1 Norm: 0.0049, Train Linf Norm: 0.1165, Test Linf Norm: 0.1136\n",
            "Epoch 305: Train Loss: 0.0000, Test Loss: 0.0000, Train L1 Norm: 0.0048, Test L1 Norm: 0.0046, Train Linf Norm: 0.1167, Test Linf Norm: 0.1052\n",
            "Epoch 306: Train Loss: 0.0000, Test Loss: 0.0000, Train L1 Norm: 0.0048, Test L1 Norm: 0.0047, Train Linf Norm: 0.1173, Test Linf Norm: 0.1099\n",
            "Epoch 307: Train Loss: 0.0000, Test Loss: 0.0000, Train L1 Norm: 0.0048, Test L1 Norm: 0.0048, Train Linf Norm: 0.1159, Test Linf Norm: 0.1100\n",
            "Epoch 308: Train Loss: 0.0000, Test Loss: 0.0000, Train L1 Norm: 0.0049, Test L1 Norm: 0.0048, Train Linf Norm: 0.1163, Test Linf Norm: 0.1121\n",
            "Epoch 309: Train Loss: 0.0000, Test Loss: 0.0000, Train L1 Norm: 0.0049, Test L1 Norm: 0.0049, Train Linf Norm: 0.1180, Test Linf Norm: 0.1135\n",
            "Epoch 310: Train Loss: 0.0000, Test Loss: 0.0000, Train L1 Norm: 0.0049, Test L1 Norm: 0.0050, Train Linf Norm: 0.1153, Test Linf Norm: 0.1176\n",
            "Epoch 311: Train Loss: 0.0000, Test Loss: 0.0000, Train L1 Norm: 0.0048, Test L1 Norm: 0.0048, Train Linf Norm: 0.1160, Test Linf Norm: 0.1113\n",
            "Epoch 312: Train Loss: 0.0000, Test Loss: 0.0000, Train L1 Norm: 0.0049, Test L1 Norm: 0.0049, Train Linf Norm: 0.1181, Test Linf Norm: 0.1141\n",
            "Epoch 313: Train Loss: 0.0000, Test Loss: 0.0000, Train L1 Norm: 0.0049, Test L1 Norm: 0.0049, Train Linf Norm: 0.1178, Test Linf Norm: 0.1134\n",
            "Epoch 314: Train Loss: 0.0000, Test Loss: 0.0000, Train L1 Norm: 0.0049, Test L1 Norm: 0.0048, Train Linf Norm: 0.1174, Test Linf Norm: 0.1109\n",
            "Epoch 315: Train Loss: 0.0000, Test Loss: 0.0000, Train L1 Norm: 0.0049, Test L1 Norm: 0.0047, Train Linf Norm: 0.1173, Test Linf Norm: 0.1087\n",
            "Epoch 316: Train Loss: 0.0000, Test Loss: 0.0000, Train L1 Norm: 0.0049, Test L1 Norm: 0.0046, Train Linf Norm: 0.1151, Test Linf Norm: 0.1064\n",
            "Epoch 317: Train Loss: 0.0000, Test Loss: 0.0000, Train L1 Norm: 0.0049, Test L1 Norm: 0.0050, Train Linf Norm: 0.1176, Test Linf Norm: 0.1169\n",
            "Epoch 318: Train Loss: 0.0000, Test Loss: 0.0000, Train L1 Norm: 0.0048, Test L1 Norm: 0.0049, Train Linf Norm: 0.1158, Test Linf Norm: 0.1148\n",
            "Epoch 319: Train Loss: 0.0000, Test Loss: 0.0000, Train L1 Norm: 0.0049, Test L1 Norm: 0.0049, Train Linf Norm: 0.1176, Test Linf Norm: 0.1155\n",
            "Epoch 320: Train Loss: 0.0000, Test Loss: 0.0000, Train L1 Norm: 0.0048, Test L1 Norm: 0.0048, Train Linf Norm: 0.1165, Test Linf Norm: 0.1120\n",
            "Epoch 321: Train Loss: 0.0000, Test Loss: 0.0000, Train L1 Norm: 0.0048, Test L1 Norm: 0.0050, Train Linf Norm: 0.1157, Test Linf Norm: 0.1158\n",
            "Epoch 322: Train Loss: 0.0000, Test Loss: 0.0000, Train L1 Norm: 0.0049, Test L1 Norm: 0.0047, Train Linf Norm: 0.1179, Test Linf Norm: 0.1095\n",
            "Epoch 323: Train Loss: 0.0000, Test Loss: 0.0000, Train L1 Norm: 0.0048, Test L1 Norm: 0.0048, Train Linf Norm: 0.1178, Test Linf Norm: 0.1108\n",
            "Epoch 324: Train Loss: 0.0000, Test Loss: 0.0000, Train L1 Norm: 0.0048, Test L1 Norm: 0.0050, Train Linf Norm: 0.1155, Test Linf Norm: 0.1176\n",
            "Epoch 325: Train Loss: 0.0000, Test Loss: 0.0000, Train L1 Norm: 0.0049, Test L1 Norm: 0.0048, Train Linf Norm: 0.1181, Test Linf Norm: 0.1104\n",
            "Epoch 326: Train Loss: 0.0000, Test Loss: 0.0000, Train L1 Norm: 0.0049, Test L1 Norm: 0.0047, Train Linf Norm: 0.1175, Test Linf Norm: 0.1096\n",
            "Epoch 327: Train Loss: 0.0000, Test Loss: 0.0000, Train L1 Norm: 0.0049, Test L1 Norm: 0.0047, Train Linf Norm: 0.1173, Test Linf Norm: 0.1093\n",
            "Epoch 328: Train Loss: 0.0000, Test Loss: 0.0000, Train L1 Norm: 0.0048, Test L1 Norm: 0.0049, Train Linf Norm: 0.1179, Test Linf Norm: 0.1142\n",
            "Epoch 329: Train Loss: 0.0000, Test Loss: 0.0000, Train L1 Norm: 0.0049, Test L1 Norm: 0.0047, Train Linf Norm: 0.1191, Test Linf Norm: 0.1097\n",
            "Epoch 330: Train Loss: 0.0000, Test Loss: 0.0000, Train L1 Norm: 0.0049, Test L1 Norm: 0.0048, Train Linf Norm: 0.1169, Test Linf Norm: 0.1106\n",
            "Epoch 331: Train Loss: 0.0000, Test Loss: 0.0000, Train L1 Norm: 0.0048, Test L1 Norm: 0.0049, Train Linf Norm: 0.1176, Test Linf Norm: 0.1143\n",
            "Epoch 332: Train Loss: 0.0000, Test Loss: 0.0000, Train L1 Norm: 0.0049, Test L1 Norm: 0.0047, Train Linf Norm: 0.1176, Test Linf Norm: 0.1098\n",
            "Epoch 333: Train Loss: 0.0000, Test Loss: 0.0000, Train L1 Norm: 0.0049, Test L1 Norm: 0.0047, Train Linf Norm: 0.1189, Test Linf Norm: 0.1096\n",
            "Epoch 334: Train Loss: 0.0000, Test Loss: 0.0000, Train L1 Norm: 0.0049, Test L1 Norm: 0.0049, Train Linf Norm: 0.1174, Test Linf Norm: 0.1147\n",
            "Epoch 335: Train Loss: 0.0000, Test Loss: 0.0000, Train L1 Norm: 0.0049, Test L1 Norm: 0.0050, Train Linf Norm: 0.1171, Test Linf Norm: 0.1156\n",
            "Epoch 336: Train Loss: 0.0000, Test Loss: 0.0000, Train L1 Norm: 0.0049, Test L1 Norm: 0.0046, Train Linf Norm: 0.1175, Test Linf Norm: 0.1065\n",
            "Epoch 337: Train Loss: 0.0000, Test Loss: 0.0000, Train L1 Norm: 0.0049, Test L1 Norm: 0.0047, Train Linf Norm: 0.1176, Test Linf Norm: 0.1082\n",
            "Epoch 338: Train Loss: 0.0000, Test Loss: 0.0000, Train L1 Norm: 0.0049, Test L1 Norm: 0.0049, Train Linf Norm: 0.1170, Test Linf Norm: 0.1131\n",
            "Epoch 339: Train Loss: 0.0000, Test Loss: 0.0000, Train L1 Norm: 0.0048, Test L1 Norm: 0.0048, Train Linf Norm: 0.1177, Test Linf Norm: 0.1119\n",
            "Epoch 340: Train Loss: 0.0000, Test Loss: 0.0000, Train L1 Norm: 0.0048, Test L1 Norm: 0.0049, Train Linf Norm: 0.1177, Test Linf Norm: 0.1141\n",
            "Epoch 341: Train Loss: 0.0000, Test Loss: 0.0000, Train L1 Norm: 0.0048, Test L1 Norm: 0.0047, Train Linf Norm: 0.1157, Test Linf Norm: 0.1088\n",
            "Epoch 342: Train Loss: 0.0000, Test Loss: 0.0000, Train L1 Norm: 0.0049, Test L1 Norm: 0.0049, Train Linf Norm: 0.1174, Test Linf Norm: 0.1130\n",
            "Epoch 343: Train Loss: 0.0000, Test Loss: 0.0000, Train L1 Norm: 0.0048, Test L1 Norm: 0.0049, Train Linf Norm: 0.1179, Test Linf Norm: 0.1145\n",
            "Epoch 344: Train Loss: 0.0000, Test Loss: 0.0000, Train L1 Norm: 0.0048, Test L1 Norm: 0.0051, Train Linf Norm: 0.1160, Test Linf Norm: 0.1183\n",
            "Epoch 345: Train Loss: 0.0000, Test Loss: 0.0000, Train L1 Norm: 0.0049, Test L1 Norm: 0.0046, Train Linf Norm: 0.1176, Test Linf Norm: 0.1066\n",
            "Epoch 346: Train Loss: 0.0000, Test Loss: 0.0000, Train L1 Norm: 0.0048, Test L1 Norm: 0.0049, Train Linf Norm: 0.1168, Test Linf Norm: 0.1143\n",
            "Epoch 347: Train Loss: 0.0000, Test Loss: 0.0000, Train L1 Norm: 0.0048, Test L1 Norm: 0.0049, Train Linf Norm: 0.1158, Test Linf Norm: 0.1131\n",
            "Epoch 348: Train Loss: 0.0000, Test Loss: 0.0000, Train L1 Norm: 0.0048, Test L1 Norm: 0.0049, Train Linf Norm: 0.1166, Test Linf Norm: 0.1141\n",
            "Epoch 349: Train Loss: 0.0000, Test Loss: 0.0000, Train L1 Norm: 0.0048, Test L1 Norm: 0.0046, Train Linf Norm: 0.1173, Test Linf Norm: 0.1065\n",
            "Epoch 350: Train Loss: 0.0000, Test Loss: 0.0000, Train L1 Norm: 0.0048, Test L1 Norm: 0.0048, Train Linf Norm: 0.1158, Test Linf Norm: 0.1122\n",
            "Epoch 351: Train Loss: 0.0000, Test Loss: 0.0000, Train L1 Norm: 0.0048, Test L1 Norm: 0.0048, Train Linf Norm: 0.1168, Test Linf Norm: 0.1127\n",
            "Epoch 352: Train Loss: 0.0000, Test Loss: 0.0000, Train L1 Norm: 0.0049, Test L1 Norm: 0.0048, Train Linf Norm: 0.1182, Test Linf Norm: 0.1107\n",
            "Epoch 353: Train Loss: 0.0000, Test Loss: 0.0000, Train L1 Norm: 0.0048, Test L1 Norm: 0.0048, Train Linf Norm: 0.1180, Test Linf Norm: 0.1115\n",
            "Epoch 354: Train Loss: 0.0000, Test Loss: 0.0000, Train L1 Norm: 0.0049, Test L1 Norm: 0.0045, Train Linf Norm: 0.1181, Test Linf Norm: 0.1034\n",
            "Epoch 355: Train Loss: 0.0000, Test Loss: 0.0000, Train L1 Norm: 0.0048, Test L1 Norm: 0.0047, Train Linf Norm: 0.1156, Test Linf Norm: 0.1098\n",
            "Epoch 356: Train Loss: 0.0000, Test Loss: 0.0000, Train L1 Norm: 0.0049, Test L1 Norm: 0.0045, Train Linf Norm: 0.1183, Test Linf Norm: 0.1035\n",
            "Epoch 357: Train Loss: 0.0000, Test Loss: 0.0000, Train L1 Norm: 0.0048, Test L1 Norm: 0.0046, Train Linf Norm: 0.1156, Test Linf Norm: 0.1058\n",
            "Epoch 358: Train Loss: 0.0000, Test Loss: 0.0000, Train L1 Norm: 0.0048, Test L1 Norm: 0.0048, Train Linf Norm: 0.1176, Test Linf Norm: 0.1127\n",
            "Epoch 359: Train Loss: 0.0000, Test Loss: 0.0000, Train L1 Norm: 0.0049, Test L1 Norm: 0.0049, Train Linf Norm: 0.1185, Test Linf Norm: 0.1132\n",
            "Epoch 360: Train Loss: 0.0000, Test Loss: 0.0000, Train L1 Norm: 0.0048, Test L1 Norm: 0.0045, Train Linf Norm: 0.1171, Test Linf Norm: 0.1042\n",
            "Epoch 361: Train Loss: 0.0000, Test Loss: 0.0000, Train L1 Norm: 0.0048, Test L1 Norm: 0.0048, Train Linf Norm: 0.1161, Test Linf Norm: 0.1117\n",
            "Epoch 362: Train Loss: 0.0000, Test Loss: 0.0000, Train L1 Norm: 0.0048, Test L1 Norm: 0.0048, Train Linf Norm: 0.1157, Test Linf Norm: 0.1129\n",
            "Epoch 363: Train Loss: 0.0000, Test Loss: 0.0000, Train L1 Norm: 0.0048, Test L1 Norm: 0.0047, Train Linf Norm: 0.1161, Test Linf Norm: 0.1090\n",
            "Epoch 364: Train Loss: 0.0000, Test Loss: 0.0000, Train L1 Norm: 0.0048, Test L1 Norm: 0.0049, Train Linf Norm: 0.1171, Test Linf Norm: 0.1142\n",
            "Epoch 365: Train Loss: 0.0000, Test Loss: 0.0000, Train L1 Norm: 0.0048, Test L1 Norm: 0.0049, Train Linf Norm: 0.1175, Test Linf Norm: 0.1140\n",
            "Epoch 366: Train Loss: 0.0000, Test Loss: 0.0000, Train L1 Norm: 0.0049, Test L1 Norm: 0.0046, Train Linf Norm: 0.1185, Test Linf Norm: 0.1064\n",
            "Epoch 367: Train Loss: 0.0000, Test Loss: 0.0000, Train L1 Norm: 0.0048, Test L1 Norm: 0.0046, Train Linf Norm: 0.1172, Test Linf Norm: 0.1059\n",
            "Epoch 368: Train Loss: 0.0000, Test Loss: 0.0000, Train L1 Norm: 0.0048, Test L1 Norm: 0.0048, Train Linf Norm: 0.1172, Test Linf Norm: 0.1114\n",
            "Epoch 369: Train Loss: 0.0000, Test Loss: 0.0000, Train L1 Norm: 0.0048, Test L1 Norm: 0.0048, Train Linf Norm: 0.1173, Test Linf Norm: 0.1118\n",
            "Epoch 370: Train Loss: 0.0000, Test Loss: 0.0000, Train L1 Norm: 0.0048, Test L1 Norm: 0.0046, Train Linf Norm: 0.1168, Test Linf Norm: 0.1065\n",
            "Epoch 371: Train Loss: 0.0000, Test Loss: 0.0000, Train L1 Norm: 0.0048, Test L1 Norm: 0.0048, Train Linf Norm: 0.1171, Test Linf Norm: 0.1115\n",
            "Epoch 372: Train Loss: 0.0000, Test Loss: 0.0000, Train L1 Norm: 0.0048, Test L1 Norm: 0.0049, Train Linf Norm: 0.1176, Test Linf Norm: 0.1154\n",
            "Epoch 373: Train Loss: 0.0000, Test Loss: 0.0000, Train L1 Norm: 0.0048, Test L1 Norm: 0.0047, Train Linf Norm: 0.1180, Test Linf Norm: 0.1094\n",
            "Epoch 374: Train Loss: 0.0000, Test Loss: 0.0000, Train L1 Norm: 0.0048, Test L1 Norm: 0.0048, Train Linf Norm: 0.1183, Test Linf Norm: 0.1105\n",
            "Epoch 375: Train Loss: 0.0000, Test Loss: 0.0000, Train L1 Norm: 0.0048, Test L1 Norm: 0.0049, Train Linf Norm: 0.1155, Test Linf Norm: 0.1152\n",
            "Epoch 376: Train Loss: 0.0000, Test Loss: 0.0000, Train L1 Norm: 0.0048, Test L1 Norm: 0.0052, Train Linf Norm: 0.1162, Test Linf Norm: 0.1209\n",
            "Epoch 377: Train Loss: 0.0000, Test Loss: 0.0000, Train L1 Norm: 0.0049, Test L1 Norm: 0.0049, Train Linf Norm: 0.1168, Test Linf Norm: 0.1129\n",
            "Epoch 378: Train Loss: 0.0000, Test Loss: 0.0000, Train L1 Norm: 0.0048, Test L1 Norm: 0.0048, Train Linf Norm: 0.1153, Test Linf Norm: 0.1107\n",
            "Epoch 379: Train Loss: 0.0000, Test Loss: 0.0000, Train L1 Norm: 0.0049, Test L1 Norm: 0.0048, Train Linf Norm: 0.1181, Test Linf Norm: 0.1119\n",
            "Epoch 380: Train Loss: 0.0000, Test Loss: 0.0000, Train L1 Norm: 0.0048, Test L1 Norm: 0.0049, Train Linf Norm: 0.1179, Test Linf Norm: 0.1148\n",
            "Epoch 381: Train Loss: 0.0000, Test Loss: 0.0000, Train L1 Norm: 0.0048, Test L1 Norm: 0.0047, Train Linf Norm: 0.1178, Test Linf Norm: 0.1085\n",
            "Epoch 382: Train Loss: 0.0000, Test Loss: 0.0000, Train L1 Norm: 0.0048, Test L1 Norm: 0.0048, Train Linf Norm: 0.1174, Test Linf Norm: 0.1117\n",
            "Epoch 383: Train Loss: 0.0000, Test Loss: 0.0000, Train L1 Norm: 0.0048, Test L1 Norm: 0.0049, Train Linf Norm: 0.1165, Test Linf Norm: 0.1132\n",
            "Epoch 384: Train Loss: 0.0000, Test Loss: 0.0000, Train L1 Norm: 0.0048, Test L1 Norm: 0.0048, Train Linf Norm: 0.1165, Test Linf Norm: 0.1103\n",
            "Epoch 385: Train Loss: 0.0000, Test Loss: 0.0000, Train L1 Norm: 0.0048, Test L1 Norm: 0.0049, Train Linf Norm: 0.1156, Test Linf Norm: 0.1132\n",
            "Epoch 386: Train Loss: 0.0000, Test Loss: 0.0000, Train L1 Norm: 0.0048, Test L1 Norm: 0.0049, Train Linf Norm: 0.1171, Test Linf Norm: 0.1131\n",
            "Epoch 387: Train Loss: 0.0000, Test Loss: 0.0000, Train L1 Norm: 0.0048, Test L1 Norm: 0.0046, Train Linf Norm: 0.1166, Test Linf Norm: 0.1073\n",
            "Epoch 388: Train Loss: 0.0000, Test Loss: 0.0000, Train L1 Norm: 0.0048, Test L1 Norm: 0.0047, Train Linf Norm: 0.1173, Test Linf Norm: 0.1079\n",
            "Epoch 389: Train Loss: 0.0000, Test Loss: 0.0000, Train L1 Norm: 0.0048, Test L1 Norm: 0.0046, Train Linf Norm: 0.1164, Test Linf Norm: 0.1047\n",
            "Epoch 390: Train Loss: 0.0000, Test Loss: 0.0000, Train L1 Norm: 0.0048, Test L1 Norm: 0.0048, Train Linf Norm: 0.1157, Test Linf Norm: 0.1128\n",
            "Epoch 391: Train Loss: 0.0000, Test Loss: 0.0000, Train L1 Norm: 0.0048, Test L1 Norm: 0.0048, Train Linf Norm: 0.1178, Test Linf Norm: 0.1115\n",
            "Epoch 392: Train Loss: 0.0000, Test Loss: 0.0000, Train L1 Norm: 0.0048, Test L1 Norm: 0.0047, Train Linf Norm: 0.1164, Test Linf Norm: 0.1101\n",
            "Epoch 393: Train Loss: 0.0000, Test Loss: 0.0000, Train L1 Norm: 0.0048, Test L1 Norm: 0.0048, Train Linf Norm: 0.1163, Test Linf Norm: 0.1117\n",
            "Epoch 394: Train Loss: 0.0000, Test Loss: 0.0000, Train L1 Norm: 0.0049, Test L1 Norm: 0.0045, Train Linf Norm: 0.1173, Test Linf Norm: 0.1033\n",
            "Epoch 395: Train Loss: 0.0000, Test Loss: 0.0000, Train L1 Norm: 0.0048, Test L1 Norm: 0.0046, Train Linf Norm: 0.1175, Test Linf Norm: 0.1062\n",
            "Epoch 396: Train Loss: 0.0000, Test Loss: 0.0000, Train L1 Norm: 0.0048, Test L1 Norm: 0.0048, Train Linf Norm: 0.1167, Test Linf Norm: 0.1123\n",
            "Epoch 397: Train Loss: 0.0000, Test Loss: 0.0000, Train L1 Norm: 0.0048, Test L1 Norm: 0.0047, Train Linf Norm: 0.1160, Test Linf Norm: 0.1093\n",
            "Epoch 398: Train Loss: 0.0000, Test Loss: 0.0000, Train L1 Norm: 0.0048, Test L1 Norm: 0.0048, Train Linf Norm: 0.1167, Test Linf Norm: 0.1123\n",
            "Epoch 399: Train Loss: 0.0000, Test Loss: 0.0000, Train L1 Norm: 0.0048, Test L1 Norm: 0.0048, Train Linf Norm: 0.1166, Test Linf Norm: 0.1115\n",
            "Epoch 400: Train Loss: 0.0000, Test Loss: 0.0000, Train L1 Norm: 0.0048, Test L1 Norm: 0.0047, Train Linf Norm: 0.1177, Test Linf Norm: 0.1089\n"
          ]
        }
      ],
      "source": [
        "# Training and evaluating the network using the train_and_eval function\n",
        "train_losses, test_losses, train_metrics, test_metrics = train_and_eval(\n",
        "    net, loss_fn, optimizer, batch_size, n_epochs, scheduler\n",
        ")"
      ]
    },
    {
      "cell_type": "markdown",
      "metadata": {
        "id": "lku_AdxmNe71"
      },
      "source": [
        "## Visualizing the results"
      ]
    },
    {
      "cell_type": "code",
      "execution_count": 61,
      "metadata": {
        "colab": {
          "base_uri": "https://localhost:8080/",
          "height": 1000
        },
        "id": "KWTumLIbNe72",
        "outputId": "c82e1c84-65b0-4998-aa9c-3491fa1b4b78"
      },
      "outputs": [
        {
          "data": {
            "image/png": "[encoded data removed]",
            "text/plain": [
              "<Figure size 1200x800 with 3 Axes>"
            ]
          },
          "metadata": {},
          "output_type": "display_data"
        },
        {
          "data": {
            "image/png": "[encoded data removed]",
            "text/plain": [
              "<Figure size 800x600 with 1 Axes>"
            ]
          },
          "metadata": {},
          "output_type": "display_data"
        }
      ],
      "source": [
        "# Plotting the losses and metrics for the best network \n",
        "plt.figure(figsize=(12, 8))\n",
        "plt.subplot(2, 2, 1)\n",
        "plt.plot(train_losses, label=\"Train Loss\")\n",
        "plt.plot(test_losses, label=\"Test Loss\")\n",
        "plt.xlabel(\"Epoch\")\n",
        "plt.ylabel(\"Loss\")\n",
        "plt.legend()\n",
        "plt.subplot(2, 2, 2)\n",
        "plt.plot([m[\"l1_norm\"] for m in train_metrics], label=\"Train L1 Norm\")\n",
        "plt.plot([m[\"l1_norm\"] for m in test_metrics], label=\"Test L1 Norm\")\n",
        "plt.xlabel(\"Epoch\")\n",
        "plt.ylabel(\"L1 Norm\")\n",
        "# Added setting the vertical axis to be in powers of 10\n",
        "plt.yscale(\"log\")\n",
        "# Added setting the vertical axis limits to be from 10^-7 to 10^0\n",
        "plt.ylim(1e-3, 1e2)\n",
        "plt.legend()\n",
        "plt.subplot(2, 2, 3)\n",
        "plt.plot([m[\"linf_norm\"] for m in train_metrics], label=\"Train Linf Norm\")\n",
        "plt.plot([m[\"linf_norm\"] for m in test_metrics], label=\"Test Linf Norm\")\n",
        "plt.xlabel(\"Epoch\")\n",
        "plt.ylabel(\"Linf Norm\")\n",
        "# Added setting the vertical axis to be in powers of 10\n",
        "plt.yscale(\"log\")\n",
        "# Added setting the vertical axis limits to be from 10^-7 to 10^0\n",
        "plt.ylim(1e-3, 1e2)\n",
        "plt.legend()\n",
        "plt.tight_layout()\n",
        "plt.show()\n",
        "\n",
        "# Added plotting MSE of training data and MSE of test data in one plot \n",
        "plt.figure(figsize=(8, 6))\n",
        "plt.plot(train_losses,label=\"training data\")\n",
        "plt.plot(test_losses,label=\"test data\")\n",
        "#if scheduler is not None:\n",
        "#    plt.plot([scheduler.get_last_lr()[0] for _ in range(n_epochs)], label=\"Learning rate\") \n",
        "plt.xlabel(\"Epoch\")\n",
        "plt.ylabel(\"MSE\")\n",
        "# Added setting the vertical axis to be in powers of 10\n",
        "plt.yscale(\"log\")\n",
        "# Added setting the vertical axis limits to be from 10^-7 to 10^0\n",
        "plt.ylim(1e-7, 1e0)\n",
        "plt.legend()\n",
        "plt.show()\n"
      ]
    },
    {
      "cell_type": "markdown",
      "metadata": {
        "id": "DId0g1OINe72"
      },
      "source": [
        "## Saving"
      ]
    },
    {
      "cell_type": "code",
      "execution_count": 62,
      "metadata": {
        "id": "zj053-KpNe73"
      },
      "outputs": [],
      "source": [
        "import json\n",
        "import pandas as pd\n",
        "\n",
        "# save the network to a .pth file\n",
        "torch.save(net.state_dict(), \"net.pth\")\n",
        "\n",
        "# save the optimizer to a .pth file\n",
        "torch.save(optimizer.state_dict(), \"optimizer.pth\")\n",
        "\n",
        "# save the scheduler to a .pth file if it is not None\n",
        "if scheduler is not None:\n",
        "  torch.save(scheduler.state_dict(), \"scheduler.pth\")\n",
        "\n",
        "# create a dictionary to store the rest of the variables\n",
        "var_dict = {\n",
        "  \"batch_size\": batch_size,\n",
        "  \"n_epochs\": n_epochs,\n",
        "  \"loss_name\": loss_name,\n",
        "  \"optimizer_name\": optimizer_name,\n",
        "  \"scheduler_name\": scheduler_name,\n",
        "  \"n_units\": n_units,\n",
        "  \"n_layers\": n_layers,\n",
        "  \"hidden_activation_name\": hidden_activation.__class__.__name__,\n",
        "  \"output_activation_name\": output_activation.__class__.__name__,\n",
        "  \"lr\": lr,\n",
        "}\n",
        "\n",
        "# save the dictionary to a .json file\n",
        "with open(\"var_dict.json\", \"w\") as f:\n",
        "  json.dump(var_dict, f)\n",
        "\n",
        "# Saving the output of the training using pandas\n",
        "train_df = pd.DataFrame(\n",
        "    {\n",
        "        \"train_loss\": train_losses,\n",
        "        \"test_loss\": test_losses,\n",
        "        \"train_l1_norm\": [m[\"l1_norm\"] for m in train_metrics],\n",
        "        \"test_l1_norm\": [m[\"l1_norm\"] for m in test_metrics],\n",
        "        \"train_linf_norm\": [m[\"linf_norm\"] for m in train_metrics],\n",
        "        \"test_linf_norm\": [m[\"linf_norm\"] for m in test_metrics],\n",
        "    }\n",
        ")\n",
        "train_df.to_csv(\"train_output.csv\", index=False)\n"
      ]
    },
    {
      "cell_type": "markdown",
      "metadata": {
        "id": "adNu0SmkNe73"
      },
      "source": [
        "## Loading"
      ]
    },
    {
      "cell_type": "code",
      "execution_count": 5,
      "metadata": {
        "id": "aQR6Zn4yNe73"
      },
      "outputs": [
        {
          "data": {
            "text/plain": [
              "<All keys matched successfully>"
            ]
          },
          "execution_count": 5,
          "metadata": {},
          "output_type": "execute_result"
        }
      ],
      "source": [
        "import json\n",
        "import pandas as pd\n",
        "\n",
        "# load the dictionary from the .json file\n",
        "with open(\"var_dict.json\", \"r\") as f:\n",
        "  var_dict_loaded = json.load(f)\n",
        "\n",
        "# extract the variables from the dictionary\n",
        "batch_size_loaded = var_dict_loaded[\"batch_size\"]\n",
        "n_epochs_loaded = var_dict_loaded[\"n_epochs\"]\n",
        "loss_name_loaded = var_dict_loaded[\"loss_name\"]\n",
        "optimizer_name_loaded = var_dict_loaded[\"optimizer_name\"]\n",
        "scheduler_name_loaded = var_dict_loaded[\"scheduler_name\"]\n",
        "n_units_loaded = var_dict_loaded[\"n_units\"]\n",
        "n_layers_loaded = var_dict_loaded[\"n_layers\"]\n",
        "hidden_activation_name_loaded = var_dict_loaded[\"hidden_activation_name\"]\n",
        "output_activation_name_loaded = var_dict_loaded[\"output_activation_name\"]\n",
        "lr_loaded = var_dict_loaded[\"lr\"]\n",
        "\n",
        "# create the activation functions from their names\n",
        "if hidden_activation_name_loaded == \"ReLU\":\n",
        "  hidden_activation_loaded = nn.ReLU()\n",
        "elif hidden_activation_name_loaded == \"LeakyReLU\":\n",
        "  hidden_activation_loaded = nn.LeakyReLU() \n",
        "elif hidden_activation_name_loaded == \"ELU\":\n",
        "  hidden_activation_loaded = nn.ELU() \n",
        "elif hidden_activation_name_loaded == \"Tanh\":\n",
        "  hidden_activation_loaded = nn.Tanh()\n",
        "else:\n",
        "  hidden_activation_loaded = nn.Sigmoid()\n",
        "\n",
        "if output_activation_name_loaded == \"ReLU\":\n",
        "  output_activation_loaded = nn.ReLU()\n",
        "else:\n",
        "  output_activation_loaded = nn.Identity()\n",
        "\n",
        "# load the network from the .pth file\n",
        "net_loaded = Net(n_layers_loaded, n_units_loaded, hidden_activation_loaded, output_activation_loaded).to(device)\n",
        "if torch.cuda.is_available():\n",
        " net_loaded.load_state_dict(torch.load(\"net.pth\"))\n",
        "else: \n",
        "  net_loaded.load_state_dict(torch.load(\"net.pth\", map_location=torch.device('cpu')))\n",
        "\n",
        "# create the loss function from its name\n",
        "if loss_name_loaded == \"MSE\":\n",
        "  loss_fn_loaded = nn.MSELoss()\n",
        "elif loss_name_loaded == \"MAE\":\n",
        "  loss_fn_loaded = nn.L1Loss()\n",
        "elif loss_name_loaded == \"Huber\":\n",
        "  loss_fn_loaded = nn.SmoothL1Loss() \n",
        "else:\n",
        "  # create the log-cosh loss function\n",
        "  def log_cosh_loss_loaded(y_pred, y_true):\n",
        "    return torch.mean(torch.log(torch.cosh(y_pred - y_true)))\n",
        "  loss_fn_loaded = log_cosh_loss_loaded\n",
        "\n",
        "# load the optimizer from the .pth file\n",
        "if optimizer_name_loaded == \"SGD\":\n",
        "  optimizer_loaded = optim.SGD(net_loaded.parameters(), lr=lr_loaded)\n",
        "elif optimizer_name_loaded == \"Adam\":\n",
        "  optimizer_loaded = optim.Adam(net_loaded.parameters(), lr=lr_loaded)\n",
        "elif optimizer_name_loaded == \"RMSprop\":\n",
        "  optimizer_loaded = optim.RMSprop(net_loaded.parameters(), lr=lr_loaded)\n",
        "else:\n",
        "  # Added loading the Adagrad optimizer\n",
        "  optimizer_loaded = optim.Adagrad(net_loaded.parameters(), lr=lr_loaded)\n",
        "if torch.cuda.is_available():\n",
        "  optimizer_loaded_state_dict = torch.load(\"optimizer.pth\")\n",
        "else:\n",
        "  optimizer_loaded_state_dict = torch.load(\"optimizer.pth\", map_location=torch.device('cpu'))\n",
        "\n",
        "if scheduler_name_loaded == \"StepLR\":\n",
        "  scheduler_loaded = optim.lr_scheduler.StepLR(optimizer_loaded, step_size=10, gamma=0.1)\n",
        "elif scheduler_name_loaded == \"ExponentialLR\":\n",
        "  scheduler_loaded = optim.lr_scheduler.ExponentialLR(optimizer_loaded, gamma=0.9)\n",
        "elif scheduler_name_loaded == \"CosineAnnealingLR\":\n",
        "  scheduler_loaded = optim.lr_scheduler.CosineAnnealingLR(optimizer_loaded, T_max=10)\n",
        "elif scheduler_name_loaded == \"ReduceLROnPlateau\":\n",
        "  scheduler_loaded = optim.lr_scheduler.ReduceLROnPlateau(\n",
        "                    optimizer_loaded, mode=\"min\", factor=0.5, patience=5, threshold=0.0005, min_lr=1e-6\n",
        "                )\n",
        "else:\n",
        "  scheduler_loaded = None\n",
        "\n",
        "if scheduler_loaded is not None:\n",
        "  if torch.cuda.is_available():\n",
        "    scheduler_loaded_state_dict = torch.load(\"scheduler.pth\")\n",
        "  else: \n",
        "    scheduler_loaded_state_dict = torch.load(\"scheduler.pth\", map_location=torch.device('cpu'))\n",
        "\n",
        "            \n",
        "\n",
        "# Loading the output of the training using pandas\n",
        "train_df_loaded = pd.read_csv(\"train_output.csv\")\n",
        "train_losses_loaded = train_df_loaded[\"train_loss\"].tolist()\n",
        "test_losses_loaded = train_df_loaded[\"test_loss\"].tolist()\n",
        "train_metrics_loaded = [\n",
        "    {\n",
        "        \"l1_norm\": train_df_loaded[\"train_l1_norm\"][i],\n",
        "        \"linf_norm\": train_df_loaded[\"train_linf_norm\"][i],\n",
        "    }\n",
        "    for i in range(len(train_df_loaded))\n",
        "]\n",
        "test_metrics_loaded = [\n",
        "    {\n",
        "        \"l1_norm\": train_df_loaded[\"test_l1_norm\"][i],\n",
        "        \"linf_norm\": train_df_loaded[\"test_linf_norm\"][i],\n",
        "    }\n",
        "    for i in range(len(train_df_loaded))\n",
        "]"
      ]
    },
    {
      "cell_type": "code",
      "execution_count": 6,
      "metadata": {
        "colab": {
          "base_uri": "https://localhost:8080/"
        },
        "id": "REKb4ErbNe74",
        "outputId": "706a3365-e703-4ef8-e5d6-aa1954dc7c09"
      },
      "outputs": [
        {
          "data": {
            "text/plain": [
              "49"
            ]
          },
          "execution_count": 6,
          "metadata": {},
          "output_type": "execute_result"
        },
        {
          "data": {
            "text/plain": [
              "400"
            ]
          },
          "execution_count": 6,
          "metadata": {},
          "output_type": "execute_result"
        },
        {
          "data": {
            "text/plain": [
              "'Huber'"
            ]
          },
          "execution_count": 6,
          "metadata": {},
          "output_type": "execute_result"
        },
        {
          "data": {
            "text/plain": [
              "'RMSprop'"
            ]
          },
          "execution_count": 6,
          "metadata": {},
          "output_type": "execute_result"
        },
        {
          "data": {
            "text/plain": [
              "'ReduceLROnPlateau'"
            ]
          },
          "execution_count": 6,
          "metadata": {},
          "output_type": "execute_result"
        },
        {
          "data": {
            "text/plain": [
              "[555, 458, 115]"
            ]
          },
          "execution_count": 6,
          "metadata": {},
          "output_type": "execute_result"
        },
        {
          "data": {
            "text/plain": [
              "3"
            ]
          },
          "execution_count": 6,
          "metadata": {},
          "output_type": "execute_result"
        },
        {
          "data": {
            "text/plain": [
              "'ReLU'"
            ]
          },
          "execution_count": 6,
          "metadata": {},
          "output_type": "execute_result"
        },
        {
          "data": {
            "text/plain": [
              "'ReLU'"
            ]
          },
          "execution_count": 6,
          "metadata": {},
          "output_type": "execute_result"
        },
        {
          "data": {
            "text/plain": [
              "0.000122770896701404"
            ]
          },
          "execution_count": 6,
          "metadata": {},
          "output_type": "execute_result"
        },
        {
          "data": {
            "text/plain": [
              "ReLU()"
            ]
          },
          "execution_count": 6,
          "metadata": {},
          "output_type": "execute_result"
        },
        {
          "data": {
            "text/plain": [
              "ReLU()"
            ]
          },
          "execution_count": 6,
          "metadata": {},
          "output_type": "execute_result"
        },
        {
          "data": {
            "text/plain": [
              "Net(\n",
              "  (hidden_activation): ReLU()\n",
              "  (output_activation): ReLU()\n",
              "  (layers): ModuleList(\n",
              "    (0): Linear(in_features=3, out_features=555, bias=True)\n",
              "    (1): Linear(in_features=555, out_features=458, bias=True)\n",
              "    (2): Linear(in_features=458, out_features=115, bias=True)\n",
              "    (3): Linear(in_features=115, out_features=1, bias=True)\n",
              "  )\n",
              ")"
            ]
          },
          "execution_count": 6,
          "metadata": {},
          "output_type": "execute_result"
        },
        {
          "data": {
            "text/plain": [
              "SmoothL1Loss()"
            ]
          },
          "execution_count": 6,
          "metadata": {},
          "output_type": "execute_result"
        },
        {
          "data": {
            "text/plain": [
              "RMSprop (\n",
              "Parameter Group 0\n",
              "    alpha: 0.99\n",
              "    centered: False\n",
              "    differentiable: False\n",
              "    eps: 1e-08\n",
              "    foreach: None\n",
              "    lr: 0.000122770896701404\n",
              "    maximize: False\n",
              "    momentum: 0\n",
              "    weight_decay: 0\n",
              ")"
            ]
          },
          "execution_count": 6,
          "metadata": {},
          "output_type": "execute_result"
        },
        {
          "data": {
            "text/plain": [
              "<torch.optim.lr_scheduler.ReduceLROnPlateau at 0x7fd689da7c50>"
            ]
          },
          "execution_count": 6,
          "metadata": {},
          "output_type": "execute_result"
        }
      ],
      "source": [
        "\n",
        "batch_size_loaded\n",
        "n_epochs_loaded\n",
        "loss_name_loaded\n",
        "optimizer_name_loaded\n",
        "scheduler_name_loaded\n",
        "n_units_loaded\n",
        "n_layers_loaded\n",
        "hidden_activation_name_loaded\n",
        "output_activation_name_loaded\n",
        "lr_loaded\n",
        "hidden_activation_loaded\n",
        "output_activation_loaded\n",
        "net_loaded\n",
        "loss_fn_loaded\n",
        "optimizer_loaded\n",
        "scheduler_loaded\n",
        "#train_losses_loaded\n",
        "#test_losses_loaded\n",
        "#train_metrics_loaded\n",
        "#test_metrics_loaded"
      ]
    },
    {
      "attachments": {},
      "cell_type": "markdown",
      "metadata": {},
      "source": [
        "---\n",
        "## Thesis\n",
        "\n",
        "**NOTE** This is invalid, it just shows the .0027 run values that we tested a lot with in the end. What we need is the saved values from a directory, so our choice is between run 5 and run 6 here, which we will now go to."
      ]
    },
    {
      "cell_type": "code",
      "execution_count": 7,
      "metadata": {},
      "outputs": [
        {
          "data": {
            "text/plain": [
              "[{'l1_norm': 0.0022186224903212, 'linf_norm': 0.0546024134881794},\n",
              " {'l1_norm': 0.0022199902478605, 'linf_norm': 0.0546706795711535},\n",
              " {'l1_norm': 0.0022224649951327, 'linf_norm': 0.0547885040138615},\n",
              " {'l1_norm': 0.0022175174614996, 'linf_norm': 0.0545488889846717},\n",
              " {'l1_norm': 0.0022181980716064, 'linf_norm': 0.0545816637545358},\n",
              " {'l1_norm': 0.0022238071093044, 'linf_norm': 0.0548578918644692},\n",
              " {'l1_norm': 0.0022167960174265, 'linf_norm': 0.0545130415395135},\n",
              " {'l1_norm': 0.0022149948239093, 'linf_norm': 0.0544260875162668},\n",
              " {'l1_norm': 0.0022183812001312, 'linf_norm': 0.0545930465473793},\n",
              " {'l1_norm': 0.0022153822122083, 'linf_norm': 0.0544400130941066}]"
            ]
          },
          "execution_count": 7,
          "metadata": {},
          "output_type": "execute_result"
        }
      ],
      "source": [
        "test_metrics_loaded[-10:]"
      ]
    },
    {
      "cell_type": "code",
      "execution_count": 14,
      "metadata": {},
      "outputs": [
        {
          "data": {
            "text/plain": [
              "<Figure size 1200x800 with 0 Axes>"
            ]
          },
          "execution_count": 14,
          "metadata": {},
          "output_type": "execute_result"
        },
        {
          "data": {
            "text/plain": [
              "<Axes: >"
            ]
          },
          "execution_count": 14,
          "metadata": {},
          "output_type": "execute_result"
        },
        {
          "data": {
            "text/plain": [
              "[<matplotlib.lines.Line2D at 0x7fd68a19bed0>]"
            ]
          },
          "execution_count": 14,
          "metadata": {},
          "output_type": "execute_result"
        },
        {
          "data": {
            "text/plain": [
              "[<matplotlib.lines.Line2D at 0x7fd686fce910>]"
            ]
          },
          "execution_count": 14,
          "metadata": {},
          "output_type": "execute_result"
        },
        {
          "data": {
            "text/plain": [
              "Text(0.5, 0, 'Epoch')"
            ]
          },
          "execution_count": 14,
          "metadata": {},
          "output_type": "execute_result"
        },
        {
          "data": {
            "text/plain": [
              "Text(0, 0.5, 'Loss')"
            ]
          },
          "execution_count": 14,
          "metadata": {},
          "output_type": "execute_result"
        },
        {
          "data": {
            "text/plain": [
              "<matplotlib.legend.Legend at 0x7fd68a158490>"
            ]
          },
          "execution_count": 14,
          "metadata": {},
          "output_type": "execute_result"
        },
        {
          "data": {
            "text/plain": [
              "<Axes: >"
            ]
          },
          "execution_count": 14,
          "metadata": {},
          "output_type": "execute_result"
        },
        {
          "data": {
            "text/plain": [
              "[<matplotlib.lines.Line2D at 0x7fd686fee410>]"
            ]
          },
          "execution_count": 14,
          "metadata": {},
          "output_type": "execute_result"
        },
        {
          "data": {
            "text/plain": [
              "[<matplotlib.lines.Line2D at 0x7fd687015590>]"
            ]
          },
          "execution_count": 14,
          "metadata": {},
          "output_type": "execute_result"
        },
        {
          "data": {
            "text/plain": [
              "Text(0.5, 0, 'Epoch')"
            ]
          },
          "execution_count": 14,
          "metadata": {},
          "output_type": "execute_result"
        },
        {
          "data": {
            "text/plain": [
              "Text(0, 0.5, 'L1 Norm')"
            ]
          },
          "execution_count": 14,
          "metadata": {},
          "output_type": "execute_result"
        },
        {
          "data": {
            "text/plain": [
              "(0.001, 100.0)"
            ]
          },
          "execution_count": 14,
          "metadata": {},
          "output_type": "execute_result"
        },
        {
          "data": {
            "text/plain": [
              "<matplotlib.legend.Legend at 0x7fd686fcfa50>"
            ]
          },
          "execution_count": 14,
          "metadata": {},
          "output_type": "execute_result"
        },
        {
          "data": {
            "text/plain": [
              "<Axes: >"
            ]
          },
          "execution_count": 14,
          "metadata": {},
          "output_type": "execute_result"
        },
        {
          "data": {
            "text/plain": [
              "[<matplotlib.lines.Line2D at 0x7fd687016ed0>]"
            ]
          },
          "execution_count": 14,
          "metadata": {},
          "output_type": "execute_result"
        },
        {
          "data": {
            "text/plain": [
              "[<matplotlib.lines.Line2D at 0x7fd687055450>]"
            ]
          },
          "execution_count": 14,
          "metadata": {},
          "output_type": "execute_result"
        },
        {
          "data": {
            "text/plain": [
              "Text(0.5, 0, 'Epoch')"
            ]
          },
          "execution_count": 14,
          "metadata": {},
          "output_type": "execute_result"
        },
        {
          "data": {
            "text/plain": [
              "Text(0, 0.5, 'Linf Norm')"
            ]
          },
          "execution_count": 14,
          "metadata": {},
          "output_type": "execute_result"
        },
        {
          "data": {
            "text/plain": [
              "(0.001, 100.0)"
            ]
          },
          "execution_count": 14,
          "metadata": {},
          "output_type": "execute_result"
        },
        {
          "data": {
            "text/plain": [
              "<matplotlib.legend.Legend at 0x7fd686ff6a50>"
            ]
          },
          "execution_count": 14,
          "metadata": {},
          "output_type": "execute_result"
        },
        {
          "data": {
            "image/png": "[encoded data removed]",
            "text/plain": [
              "<Figure size 1200x800 with 3 Axes>"
            ]
          },
          "metadata": {},
          "output_type": "display_data"
        },
        {
          "data": {
            "text/plain": [
              "<Figure size 800x600 with 0 Axes>"
            ]
          },
          "execution_count": 14,
          "metadata": {},
          "output_type": "execute_result"
        },
        {
          "data": {
            "text/plain": [
              "[<matplotlib.lines.Line2D at 0x7fd6857ba4d0>]"
            ]
          },
          "execution_count": 14,
          "metadata": {},
          "output_type": "execute_result"
        },
        {
          "data": {
            "text/plain": [
              "[<matplotlib.lines.Line2D at 0x7fd685835a10>]"
            ]
          },
          "execution_count": 14,
          "metadata": {},
          "output_type": "execute_result"
        },
        {
          "data": {
            "text/plain": [
              "Text(0.5, 0, 'Epoch')"
            ]
          },
          "execution_count": 14,
          "metadata": {},
          "output_type": "execute_result"
        },
        {
          "data": {
            "text/plain": [
              "Text(0, 0.5, 'MSE')"
            ]
          },
          "execution_count": 14,
          "metadata": {},
          "output_type": "execute_result"
        },
        {
          "data": {
            "text/plain": [
              "(1e-07, 1.0)"
            ]
          },
          "execution_count": 14,
          "metadata": {},
          "output_type": "execute_result"
        },
        {
          "data": {
            "text/plain": [
              "<matplotlib.legend.Legend at 0x7fd6857d4c90>"
            ]
          },
          "execution_count": 14,
          "metadata": {},
          "output_type": "execute_result"
        },
        {
          "data": {
            "image/png": "[encoded data removed]",
            "text/plain": [
              "<Figure size 800x600 with 1 Axes>"
            ]
          },
          "metadata": {},
          "output_type": "display_data"
        }
      ],
      "source": [
        "\n",
        "# Plotting the losses and metrics for the best network \n",
        "plt.figure(figsize=(12, 8))\n",
        "plt.subplot(2, 2, 1)\n",
        "plt.plot(train_losses_loaded, label=\"Train Loss\")\n",
        "plt.plot(test_losses_loaded, label=\"Test Loss\")\n",
        "plt.xlabel(\"Epoch\")\n",
        "plt.ylabel(\"Loss\")\n",
        "plt.legend()\n",
        "plt.subplot(2, 2, 2)\n",
        "plt.plot([m[\"l1_norm\"] for m in train_metrics_loaded], label=\"Train L1 Norm\")\n",
        "plt.plot([m[\"l1_norm\"] for m in test_metrics_loaded], label=\"Test L1 Norm\")\n",
        "plt.xlabel(\"Epoch\")\n",
        "plt.ylabel(\"L1 Norm\")\n",
        "# Added setting the vertical axis to be in powers of 10\n",
        "plt.yscale(\"log\")\n",
        "# Added setting the vertical axis limits to be from 10^-7 to 10^0\n",
        "plt.ylim(1e-3, 1e2)\n",
        "plt.legend()\n",
        "plt.subplot(2, 2, 3)\n",
        "plt.plot([m[\"linf_norm\"] for m in train_metrics_loaded], label=\"Train Linf Norm\")\n",
        "plt.plot([m[\"linf_norm\"] for m in test_metrics_loaded], label=\"Test Linf Norm\")\n",
        "plt.xlabel(\"Epoch\")\n",
        "plt.ylabel(\"Linf Norm\")\n",
        "# Added setting the vertical axis to be in powers of 10\n",
        "plt.yscale(\"log\")\n",
        "# Added setting the vertical axis limits to be from 10^-7 to 10^0\n",
        "plt.ylim(1e-3, 1e2)\n",
        "plt.legend()\n",
        "plt.tight_layout()\n",
        "plt.show()\n",
        "\n",
        "# Added plotting MSE of training data and MSE of test data in one plot \n",
        "plt.figure(figsize=(8, 6))\n",
        "plt.plot(train_losses_loaded,label=\"training data\")\n",
        "plt.plot(test_losses_loaded,label=\"test data\")\n",
        "#if scheduler is not None:\n",
        "#    plt.plot([scheduler.get_last_lr()[0] for _ in range(n_epochs)], label=\"Learning rate\") \n",
        "plt.xlabel(\"Epoch\")\n",
        "plt.ylabel(\"MSE\")\n",
        "# Added setting the vertical axis to be in powers of 10\n",
        "plt.yscale(\"log\")\n",
        "# Added setting the vertical axis limits to be from 10^-7 to 10^0\n",
        "plt.ylim(1e-7, 1e0)\n",
        "plt.legend()\n",
        "plt.show()\n"
      ]
    },
    {
      "attachments": {},
      "cell_type": "markdown",
      "metadata": {},
      "source": [
        "---"
      ]
    },
    {
      "cell_type": "markdown",
      "metadata": {
        "id": "5JZ8ujVhNe74"
      },
      "source": [
        "## Evaluating the network on arbirary input\n",
        "### Comparing `net` and `net_loaded`\n",
        "\n",
        "We compare `net` and `net_loaded` to confirm correct loading of the network."
      ]
    },
    {
      "cell_type": "code",
      "execution_count": 65,
      "metadata": {
        "colab": {
          "base_uri": "https://localhost:8080/"
        },
        "id": "T1B3mD0bNe74",
        "outputId": "7f5a5ee6-d51a-4961-f7fb-ed0c9ec8646f"
      },
      "outputs": [
        {
          "name": "stdout",
          "output_type": "stream",
          "text": [
            "[Parameter containing:\n",
            "tensor([[-0.5980, -0.4655, -0.9569],\n",
            "        [-0.1106, -0.0325, -0.2453],\n",
            "        [-0.1004, -0.3075,  0.7358],\n",
            "        ...,\n",
            "        [-0.1069,  0.1926, -0.3311],\n",
            "        [-1.5283, -1.0922, -0.8798],\n",
            "        [-0.7344, -0.3120, -0.4523]], device='cuda:0', requires_grad=True), Parameter containing:\n",
            "tensor([-5.2985e-01,  1.3618e+00, -5.4156e-01,  1.3583e+00, -1.9028e+00,\n",
            "        -1.4434e+00, -4.0972e+00, -6.8328e-01, -1.7929e-01, -2.1293e+00,\n",
            "        -1.4041e+00, -6.9376e-01, -3.4413e+00, -1.8035e+00,  1.6071e+00,\n",
            "        -2.0611e-01, -1.6180e+00, -2.1787e+00, -2.5841e-01, -2.2571e+00,\n",
            "         1.2176e+00,  1.1721e+00, -5.1932e+00, -1.2201e+00,  2.0278e+00,\n",
            "        -2.4878e+00, -1.7676e+00,  6.9153e-01, -1.3191e+00, -1.3053e+00,\n",
            "        -2.9670e-01, -2.3915e+00, -4.5709e+00,  1.3884e+00, -1.3367e+00,\n",
            "        -2.0259e+00, -1.1571e+00,  1.9817e-01, -2.6087e+00, -1.5423e+00,\n",
            "         1.1854e+00, -5.5379e-01, -1.3747e+00,  9.3790e-01,  3.0820e-02,\n",
            "         1.7847e+00, -1.2682e+00, -2.0075e+00, -1.3842e+00, -4.6558e+00,\n",
            "        -2.2596e+00,  7.3458e-02,  9.4042e-01,  1.0682e+00, -1.5169e+00,\n",
            "         3.5354e-01, -1.9908e+00, -5.8991e-02,  2.1348e-02, -3.6578e+00,\n",
            "        -5.7476e-01, -2.0813e+00, -2.6244e-01,  7.4572e-01,  3.0195e-01,\n",
            "         3.5049e-01, -3.3931e+00, -2.4675e+00, -9.9750e-01, -2.2600e+00,\n",
            "        -8.7143e-01, -1.6058e+00, -7.3616e-01, -2.4370e-02,  1.2381e+00,\n",
            "        -1.8854e+00,  1.4998e+00, -1.5435e+00, -2.1590e+00, -2.3899e+00,\n",
            "        -3.0604e+00,  3.5734e-01, -2.1340e+00,  1.1917e+00, -2.0429e+00,\n",
            "         9.7464e-01, -2.4244e+00,  4.9879e-01, -2.7153e+00, -9.9246e-01,\n",
            "        -1.4835e+00, -1.3319e+00, -5.2872e-01, -2.2779e+00, -2.0641e+00,\n",
            "        -3.2870e+00, -1.7483e+00,  8.6735e-01, -1.0794e+00, -3.6475e-01,\n",
            "        -3.4069e+00, -4.1656e+00, -7.7958e-01,  1.0308e+00, -2.3517e+00,\n",
            "        -5.0404e-01, -1.2452e+00,  2.1781e+00, -2.9257e+00, -2.8985e+00,\n",
            "        -1.7914e+00, -1.2459e+00,  2.2979e+00, -3.6361e-01, -1.2753e+00,\n",
            "        -9.9480e-01, -1.8488e+00,  2.0669e+00, -3.2545e+00,  9.1711e-01,\n",
            "        -1.5763e+00,  5.6071e-01,  7.0770e-01, -1.8053e+00,  4.2237e-01,\n",
            "        -1.9477e+00, -1.2348e+00, -2.1811e+00, -2.0268e+00, -4.5345e+00,\n",
            "        -1.5427e+00,  1.3115e+00,  1.6595e-03, -1.4782e+00, -2.1171e+00,\n",
            "        -2.4855e+00,  1.3467e+00, -4.6292e+00,  9.3515e-01, -1.4280e+00,\n",
            "         6.4721e-01,  5.1287e-01, -2.2363e+00, -2.9270e+00, -2.3760e+00,\n",
            "         3.6916e-01, -2.2891e+00, -4.8603e+00, -2.7610e+00, -3.8155e+00,\n",
            "        -1.4893e+00, -2.0949e+00, -3.0016e+00,  1.3583e+00, -2.2700e+00,\n",
            "        -1.7940e+00,  1.4934e+00,  3.4650e-02,  9.6350e-01, -2.0304e+00,\n",
            "        -2.3625e-01, -8.7844e-01, -7.0859e-01,  1.6231e+00, -1.7356e+00,\n",
            "        -3.6914e+00, -1.3616e+00,  1.0446e+00,  5.8747e-01,  2.1486e-01,\n",
            "        -2.4461e+00,  1.5978e+00,  5.1458e-01,  4.7003e-01,  1.1069e+00,\n",
            "        -3.9226e+00,  1.0139e-01, -2.6764e+00, -1.3628e-01, -1.8297e+00,\n",
            "        -1.8798e+00, -2.5043e+00,  1.9954e+00,  1.8262e+00, -1.0820e+00,\n",
            "         1.4013e+00, -6.1751e-01,  5.2459e-02, -1.7235e+00, -1.6984e+00,\n",
            "        -5.1122e+00, -6.0329e-01,  1.2262e+00,  2.1901e+00, -1.6682e+00,\n",
            "        -1.0038e+00,  1.6588e+00, -2.6442e-02, -2.0396e+00, -1.4337e+00,\n",
            "         5.9609e-01, -2.5151e+00, -1.9846e+00,  1.1116e+00, -4.8012e-01,\n",
            "        -2.8027e+00, -2.0056e+00,  1.7211e+00, -3.5702e+00, -2.5314e+00,\n",
            "         2.1831e+00, -3.1446e+00, -2.5658e+00, -8.1978e-01, -4.5697e+00,\n",
            "        -2.3778e+00, -2.8524e-01, -2.9338e+00, -2.1010e+00, -1.3675e+00,\n",
            "        -3.9725e-01,  3.8116e-01, -3.7867e+00,  8.9964e-02, -2.6674e+00,\n",
            "        -2.0615e+00, -1.5992e+00, -2.9793e+00,  2.1612e+00,  8.8547e-01,\n",
            "        -1.1875e+00, -1.5880e+00, -1.2343e+00,  3.9747e-01,  7.7830e-01,\n",
            "        -1.5393e+00, -2.0998e+00,  6.6900e-01, -7.5808e-01,  5.1751e-01,\n",
            "         1.7502e+00,  2.0745e+00, -8.6401e-01, -7.4387e-01, -1.9129e+00,\n",
            "        -2.2672e+00, -8.7616e-01, -2.3598e+00,  4.0746e-01, -5.5797e-01,\n",
            "        -7.1299e-01,  1.3697e+00, -3.0494e+00, -9.0465e-01, -1.3039e+00,\n",
            "        -2.8989e+00,  1.5483e+00,  1.5569e+00,  7.6253e-01, -5.8451e-01,\n",
            "        -4.1868e-02,  4.0968e-01,  7.7153e-02, -2.3049e+00, -2.4722e+00,\n",
            "         8.1162e-01, -8.4457e-01, -4.5635e+00, -2.4056e+00, -6.4056e-01,\n",
            "        -2.6292e+00, -1.3368e+00, -3.4111e+00, -1.5407e+00,  1.1266e-01,\n",
            "        -2.6902e+00, -1.0080e+00,  8.3004e-01, -2.3948e+00, -7.8785e-01,\n",
            "        -1.8402e+00, -1.3511e+00,  1.4517e+00, -4.5375e-01, -4.9805e+00,\n",
            "        -2.3023e+00,  1.2080e+00,  1.9150e+00, -2.3135e+00,  9.1319e-01,\n",
            "        -1.3272e-01, -1.4498e+00, -5.3365e+00, -1.3146e+00, -2.3256e+00,\n",
            "         5.4517e-01, -2.3475e+00, -1.9978e+00,  1.4553e+00, -9.7669e-01,\n",
            "        -1.3299e+00, -3.4610e-01, -2.7412e+00,  7.7748e-01, -2.6966e+00,\n",
            "        -2.6577e+00, -8.0866e-01, -1.2798e+00, -2.7330e+00, -1.9419e+00,\n",
            "        -3.1995e+00, -8.9877e-01,  8.7451e-01,  4.8537e-01,  1.5850e+00,\n",
            "        -2.9926e+00, -2.1961e+00,  1.3969e+00, -1.2191e+00,  1.6681e-01,\n",
            "        -4.0731e+00, -3.7016e+00, -6.0786e-01, -7.6972e-01, -3.9491e-01,\n",
            "        -1.4055e+00,  9.9437e-02, -9.2057e-01, -2.2578e-01, -3.9973e+00,\n",
            "        -9.5235e-01,  8.3700e-01, -1.6381e-01, -1.0057e+00, -2.6019e+00,\n",
            "        -1.8160e+00,  2.1614e-01, -1.4388e+00, -9.0167e-01, -1.6088e+00,\n",
            "        -1.9622e+00,  1.5085e+00, -1.9969e+00,  2.1587e+00, -2.4660e+00,\n",
            "         1.0176e+00, -3.5100e-01,  3.5760e-01, -2.3004e+00, -1.3802e+00,\n",
            "        -1.5705e+00, -2.8474e+00, -2.1018e+00, -1.6395e+00, -9.6137e-01,\n",
            "         7.6072e-01, -2.5065e+00, -3.1268e+00,  1.1341e-01, -1.1535e-01,\n",
            "        -2.9334e+00,  9.1868e-01, -7.2874e-01, -2.2731e+00, -2.1842e+00,\n",
            "        -5.4265e-01, -2.2421e-01, -2.9238e+00,  1.9232e+00, -2.1989e+00,\n",
            "         6.5720e-01, -3.1638e+00, -1.4854e-01, -1.5922e+00,  2.1587e+00,\n",
            "        -3.4783e+00, -1.1402e+00, -2.5744e+00, -3.4659e-01,  1.8589e+00,\n",
            "         5.8749e-02, -2.3149e+00,  1.1457e+00, -2.5428e+00, -4.7842e+00,\n",
            "        -3.7029e-01, -1.0332e+00, -1.7234e+00, -3.2356e+00,  9.6817e-02,\n",
            "        -1.1788e+00, -3.8482e+00, -9.4600e-02, -2.1330e+00, -1.7852e+00,\n",
            "        -2.5231e+00,  8.9865e-01,  2.2824e+00, -2.5969e+00, -2.3603e+00,\n",
            "        -1.1421e+00, -2.7468e+00,  2.0487e+00, -2.1606e+00, -1.4343e+00,\n",
            "        -1.2907e-01,  1.3344e-01, -1.4242e+00, -1.9682e+00,  4.6374e-01,\n",
            "         1.6598e+00, -6.8647e-01,  1.3355e+00, -2.4383e+00,  1.3865e+00,\n",
            "        -1.1301e+00,  5.1225e-01, -1.2125e+00,  4.3455e-01, -1.3874e+00,\n",
            "        -2.1299e+00, -1.3486e+00, -3.7647e-01,  1.0215e+00, -1.4196e+00,\n",
            "        -8.7789e-02, -6.2933e-01, -1.5157e+00, -1.1302e+00, -6.6129e-01,\n",
            "        -2.5622e+00, -6.9398e-01, -2.6463e+00, -4.0585e-04, -6.4825e-01,\n",
            "        -2.1571e+00, -2.7598e+00, -3.7510e+00, -1.1713e+00,  3.5856e-01,\n",
            "         1.9785e+00,  4.4962e-01, -1.9058e+00, -2.8797e+00, -9.3318e-01,\n",
            "        -2.2799e+00, -2.1677e+00, -1.8826e+00, -8.8583e-01, -1.6003e+00,\n",
            "        -2.1685e+00, -2.0018e+00,  7.5372e-01, -2.3023e+00,  1.8200e+00,\n",
            "        -1.6388e-01, -2.4016e+00,  1.2010e+00, -9.6410e-01,  1.2751e+00,\n",
            "        -2.5411e+00,  1.3999e+00, -1.6904e+00, -1.6741e+00,  6.8479e-01,\n",
            "        -1.4357e+00,  2.8717e-02, -1.0177e+00,  1.1704e+00, -2.3332e+00,\n",
            "         1.7654e+00, -7.8791e-02, -6.5873e-01,  5.9824e-01, -2.2916e+00,\n",
            "         1.2705e+00, -1.4684e+00,  1.0563e+00, -1.8780e+00, -1.8076e+00,\n",
            "        -2.7785e-01, -1.3507e+00, -3.7651e+00,  1.4837e+00, -9.6023e-01,\n",
            "        -3.5602e+00, -6.0788e-01,  9.0773e-01, -2.2221e-01, -2.1363e+00,\n",
            "        -1.7608e+00, -1.8248e+00, -1.3856e+00,  2.9765e-01, -1.6097e+00,\n",
            "         2.6209e-01,  1.7616e-02, -2.9670e+00,  1.2220e+00,  5.6374e-01,\n",
            "        -1.3284e+00, -3.6333e+00,  8.9585e-01, -2.7161e+00, -1.8746e+00,\n",
            "        -1.6188e+00,  1.1102e+00, -3.3532e+00,  1.6024e+00, -3.1399e+00,\n",
            "        -2.4259e+00, -1.7780e+00, -2.1767e-01, -3.7830e+00, -2.8984e+00,\n",
            "        -5.2255e-01, -3.6215e-01, -1.2869e+00, -2.3940e+00, -4.2558e+00,\n",
            "        -2.3421e+00, -9.0479e-01, -4.6897e+00, -2.5681e+00, -2.1645e+00,\n",
            "        -2.0733e+00, -1.6865e+00, -2.4382e-02, -7.0011e-01,  1.3212e+00,\n",
            "         1.7289e+00, -4.6133e+00, -1.4414e+00, -9.9453e-01, -1.5849e+00,\n",
            "        -8.4199e-01, -4.5937e+00, -1.0720e+00, -2.2269e+00, -1.8896e+00,\n",
            "        -2.8856e-02, -1.7592e+00,  6.7421e-01,  1.4252e+00, -2.3604e+00,\n",
            "        -2.0022e+00, -1.3264e+00, -1.7646e+00,  3.6407e-01, -1.1003e+00,\n",
            "        -2.5783e+00, -1.9301e+00, -7.3362e-01,  1.3518e+00, -1.4041e+00,\n",
            "        -3.5216e+00, -2.5386e+00, -1.2692e+00, -2.1184e+00, -2.7612e-02,\n",
            "        -2.1170e+00, -3.7693e+00, -7.1252e-02, -8.8944e-01, -2.1071e+00,\n",
            "        -2.2801e+00, -1.3622e+00,  1.2069e+00, -3.4104e+00,  1.2705e+00,\n",
            "        -8.7203e-01,  1.6896e+00,  1.3708e+00, -1.1475e+00, -2.7578e+00,\n",
            "        -1.4056e+00, -1.2479e+00, -2.3562e+00,  1.0025e+00,  2.1396e+00,\n",
            "        -1.0947e+00, -1.7946e+00, -3.0520e+00, -1.9476e+00, -1.2021e+00,\n",
            "        -2.0652e+00, -3.3238e+00,  7.1788e-01, -2.0301e+00, -3.1010e+00,\n",
            "         1.4237e+00, -1.3698e-01, -2.6073e+00, -2.1562e+00, -1.0336e+00,\n",
            "        -3.3327e+00,  1.9065e+00,  1.3541e+00, -1.8471e+00, -1.9178e+00],\n",
            "       device='cuda:0', requires_grad=True), Parameter containing:\n",
            "tensor([[-5.1326e-01, -1.6160e+00, -3.2703e-01,  ..., -2.2128e+00,\n",
            "          1.9797e-03, -2.6550e-02],\n",
            "        [-1.1959e-01, -1.5083e+00, -8.3163e-02,  ..., -9.6568e-01,\n",
            "         -5.3868e-02, -3.5669e-01],\n",
            "        [-1.8247e-01, -4.0669e-01, -4.3515e-01,  ..., -2.9434e-01,\n",
            "         -3.8370e-02, -3.2287e-01],\n",
            "        ...,\n",
            "        [-1.8084e+00, -2.4039e+00, -9.5463e-02,  ..., -2.9048e+00,\n",
            "         -1.3066e-01, -3.5109e-01],\n",
            "        [-1.0926e-01, -1.5766e+00, -1.1256e-01,  ..., -1.1805e+00,\n",
            "         -3.6201e-02, -3.6185e-01],\n",
            "        [-1.3505e-01, -1.2963e+00, -3.0904e-01,  ..., -6.9291e-01,\n",
            "         -7.2816e-02, -3.0413e-01]], device='cuda:0', requires_grad=True), Parameter containing:\n",
            "tensor([-0.3324, -0.1584, -0.3461, -0.4229, -0.4053, -0.4279, -0.3600, -0.1343,\n",
            "        -0.1539,  0.4192, -0.3703,  0.3170, -0.3242, -0.0398, -0.0548, -0.3069,\n",
            "        -0.3174,  0.5910, -0.3020,  0.6861, -0.2880, -0.3953, -0.3685, -0.1978,\n",
            "         0.6952, -0.3768, -0.4119, -0.3023, -0.3311, -0.3715, -0.1571, -0.2431,\n",
            "        -0.1659, -0.4011, -0.3984, -0.3510, -0.3938, -0.2971, -0.4285, -0.5052,\n",
            "        -0.3963, -0.4046, -0.1931, -0.0296, -0.3400, -0.3534, -0.3649, -0.4483,\n",
            "        -0.3816,  0.4837, -0.5211, -0.3570, -0.3088, -0.2041, -0.3777,  0.7224,\n",
            "        -0.0743, -0.3120, -0.4582, -0.3961, -0.1664, -0.4057, -0.3956, -0.3976,\n",
            "        -0.5388, -0.5139, -0.4435, -0.1350, -0.3655, -0.3638, -0.1613,  0.6892,\n",
            "        -0.1849, -0.3250, -0.3915, -0.4487, -0.4132, -0.3527, -0.3263, -0.3312,\n",
            "        -0.3571, -0.3819, -0.3244, -0.2015, -0.4417, -0.4231, -0.4126, -0.3774,\n",
            "         0.1654, -0.3094, -0.3147, -0.3730, -0.3567, -0.3480, -0.3631,  0.3578,\n",
            "        -0.3632, -0.3030, -0.4336, -0.3857, -0.2130,  0.7393, -0.4149, -0.0127,\n",
            "        -0.3886, -0.3925, -0.3457, -0.3043, -0.4251, -0.3088, -0.3779, -0.3621,\n",
            "        -0.5685, -0.3937, -0.2843, -0.3457, -0.4127, -0.1566, -0.4038, -0.2960,\n",
            "         0.7127, -0.3799, -0.2544, -0.4271, -0.3867, -0.5687, -0.3445, -0.3510,\n",
            "        -0.3844, -0.3458, -0.1381, -0.4191, -0.3554, -0.1143,  0.5593,  0.0316,\n",
            "        -0.4382, -0.4060, -0.3362, -0.4120, -0.3748, -0.2612, -0.1819, -0.4195,\n",
            "        -0.3629, -0.3790, -0.3230, -0.2894, -0.3209, -0.3525,  0.2996,  0.0416,\n",
            "        -0.3421, -0.4002, -0.3595, -0.4234, -0.3076, -0.3125, -0.3648, -0.4340,\n",
            "         0.1659, -0.1037, -0.3572,  0.3331, -0.3635, -0.3764, -0.4322, -0.4464,\n",
            "         0.4659, -0.1491, -0.2024, -0.4768, -0.4108, -0.2880, -0.3920, -0.5876,\n",
            "        -0.4005, -0.4348, -0.2185, -0.4349, -0.3885, -0.3850, -0.3828, -0.2495,\n",
            "        -0.2033, -0.3591, -0.3561, -0.4116, -0.3605, -0.5136, -0.3709, -0.3741,\n",
            "        -0.3192, -0.2246,  0.0043, -0.3497, -0.3802, -0.1525, -0.1139, -0.2542],\n",
            "       device='cuda:0', requires_grad=True), Parameter containing:\n",
            "tensor([[ 0.3511,  0.5067,  0.2774,  0.2664,  0.3464,  0.3479,  0.3482,  0.5175,\n",
            "          0.5330,  0.1456,  0.2878,  0.5643,  0.3484,  0.7863,  0.5778,  0.3789,\n",
            "          0.3500,  0.3989,  0.3002,  0.3772,  0.3305,  0.3717,  0.3856,  0.5550,\n",
            "          0.3891,  0.2616, -0.3902,  0.3511,  0.3393,  0.2273,  0.9369,  0.4022,\n",
            "          0.4759, -0.3631,  0.2624,  0.3572,  0.3142,  0.3481,  0.3120, -0.2929,\n",
            "          0.2947,  0.2831,  0.4422,  0.5709,  0.3132,  0.3172,  0.3683,  0.3586,\n",
            "          0.3162,  0.1711, -0.3521,  0.3593,  0.3511,  0.4089,  0.2617,  0.3646,\n",
            "          0.3544,  0.2879,  0.1681,  0.3732,  0.4957,  0.3562,  0.3408,  0.3350,\n",
            "         -0.0685, -0.3428,  0.3503,  0.5177,  0.3648,  0.3486,  0.5078,  0.3818,\n",
            "          0.7516,  0.3240,  0.3464,  0.2487,  0.2884,  0.2588,  0.2307,  0.3282,\n",
            "          0.3306,  0.3611,  0.3553,  0.4193,  0.2881,  0.3126,  0.3580,  0.3451,\n",
            "          0.6155,  0.3006,  0.3498,  0.2938,  0.2464,  0.3618,  0.3314,  0.5731,\n",
            "          0.3190,  0.3345,  0.2856,  0.2895,  0.4457,  0.3606,  0.2467,  0.5895,\n",
            "          0.3740,  0.3627,  0.3573,  0.3613,  0.3663,  0.3532,  0.2955, -0.3848,\n",
            "         -0.1100,  0.2769,  0.3973,  0.3802,  0.2907,  0.5066,  0.3386,  0.3401,\n",
            "          0.3930,  0.3504,  0.3907,  0.2756,  0.3501, -0.2387,  0.3318,  0.3601,\n",
            "          0.3270,  0.3221,  0.6303, -0.2511,  0.3704,  0.8284,  0.4053,  0.6272,\n",
            "          0.2487,  0.2328,  0.3417,  0.2872,  0.3508,  0.4327,  0.4663,  0.2750,\n",
            "          0.3497,  0.3399,  0.2803,  0.3878,  0.3636,  0.3756,  0.5739,  0.6589,\n",
            "          0.4051,  0.2656,  0.3697,  0.2374,  0.4261,  0.3068,  0.3334,  0.3327,\n",
            "          0.6306,  0.5708,  0.3500,  0.5268,  0.3612,  0.2435,  0.3716, -0.3941,\n",
            "          0.1741,  0.8486,  0.5648, -0.3903,  0.2770,  0.3391,  0.2552, -0.1235,\n",
            "          0.3715,  0.2209,  0.4529,  0.3499,  0.3486,  0.4101,  0.3738,  0.3879,\n",
            "          0.5855,  0.3471,  0.2789,  0.2971,  0.2303, -0.3644,  0.3145,  0.3667,\n",
            "          0.3520,  0.4356,  0.6540,  0.3458,  0.2976,  0.6704,  0.5111,  0.3383]],\n",
            "       device='cuda:0', requires_grad=True), Parameter containing:\n",
            "tensor([0.3928], device='cuda:0', requires_grad=True)]\n"
          ]
        }
      ],
      "source": [
        "print(list(net.parameters()))"
      ]
    },
    {
      "cell_type": "code",
      "execution_count": 66,
      "metadata": {
        "colab": {
          "base_uri": "https://localhost:8080/"
        },
        "id": "wH4YwNS3Ne75",
        "outputId": "6cfb4eba-10ef-41ce-fe80-c70e6e9df85f"
      },
      "outputs": [
        {
          "name": "stdout",
          "output_type": "stream",
          "text": [
            "[Parameter containing:\n",
            "tensor([[-0.5980, -0.4655, -0.9569],\n",
            "        [-0.1106, -0.0325, -0.2453],\n",
            "        [-0.1004, -0.3075,  0.7358],\n",
            "        ...,\n",
            "        [-0.1069,  0.1926, -0.3311],\n",
            "        [-1.5283, -1.0922, -0.8798],\n",
            "        [-0.7344, -0.3120, -0.4523]], device='cuda:0', requires_grad=True), Parameter containing:\n",
            "tensor([-5.2985e-01,  1.3618e+00, -5.4156e-01,  1.3583e+00, -1.9028e+00,\n",
            "        -1.4434e+00, -4.0972e+00, -6.8328e-01, -1.7929e-01, -2.1293e+00,\n",
            "        -1.4041e+00, -6.9376e-01, -3.4413e+00, -1.8035e+00,  1.6071e+00,\n",
            "        -2.0611e-01, -1.6180e+00, -2.1787e+00, -2.5841e-01, -2.2571e+00,\n",
            "         1.2176e+00,  1.1721e+00, -5.1932e+00, -1.2201e+00,  2.0278e+00,\n",
            "        -2.4878e+00, -1.7676e+00,  6.9153e-01, -1.3191e+00, -1.3053e+00,\n",
            "        -2.9670e-01, -2.3915e+00, -4.5709e+00,  1.3884e+00, -1.3367e+00,\n",
            "        -2.0259e+00, -1.1571e+00,  1.9817e-01, -2.6087e+00, -1.5423e+00,\n",
            "         1.1854e+00, -5.5379e-01, -1.3747e+00,  9.3790e-01,  3.0820e-02,\n",
            "         1.7847e+00, -1.2682e+00, -2.0075e+00, -1.3842e+00, -4.6558e+00,\n",
            "        -2.2596e+00,  7.3458e-02,  9.4042e-01,  1.0682e+00, -1.5169e+00,\n",
            "         3.5354e-01, -1.9908e+00, -5.8991e-02,  2.1348e-02, -3.6578e+00,\n",
            "        -5.7476e-01, -2.0813e+00, -2.6244e-01,  7.4572e-01,  3.0195e-01,\n",
            "         3.5049e-01, -3.3931e+00, -2.4675e+00, -9.9750e-01, -2.2600e+00,\n",
            "        -8.7143e-01, -1.6058e+00, -7.3616e-01, -2.4370e-02,  1.2381e+00,\n",
            "        -1.8854e+00,  1.4998e+00, -1.5435e+00, -2.1590e+00, -2.3899e+00,\n",
            "        -3.0604e+00,  3.5734e-01, -2.1340e+00,  1.1917e+00, -2.0429e+00,\n",
            "         9.7464e-01, -2.4244e+00,  4.9879e-01, -2.7153e+00, -9.9246e-01,\n",
            "        -1.4835e+00, -1.3319e+00, -5.2872e-01, -2.2779e+00, -2.0641e+00,\n",
            "        -3.2870e+00, -1.7483e+00,  8.6735e-01, -1.0794e+00, -3.6475e-01,\n",
            "        -3.4069e+00, -4.1656e+00, -7.7958e-01,  1.0308e+00, -2.3517e+00,\n",
            "        -5.0404e-01, -1.2452e+00,  2.1781e+00, -2.9257e+00, -2.8985e+00,\n",
            "        -1.7914e+00, -1.2459e+00,  2.2979e+00, -3.6361e-01, -1.2753e+00,\n",
            "        -9.9480e-01, -1.8488e+00,  2.0669e+00, -3.2545e+00,  9.1711e-01,\n",
            "        -1.5763e+00,  5.6071e-01,  7.0770e-01, -1.8053e+00,  4.2237e-01,\n",
            "        -1.9477e+00, -1.2348e+00, -2.1811e+00, -2.0268e+00, -4.5345e+00,\n",
            "        -1.5427e+00,  1.3115e+00,  1.6595e-03, -1.4782e+00, -2.1171e+00,\n",
            "        -2.4855e+00,  1.3467e+00, -4.6292e+00,  9.3515e-01, -1.4280e+00,\n",
            "         6.4721e-01,  5.1287e-01, -2.2363e+00, -2.9270e+00, -2.3760e+00,\n",
            "         3.6916e-01, -2.2891e+00, -4.8603e+00, -2.7610e+00, -3.8155e+00,\n",
            "        -1.4893e+00, -2.0949e+00, -3.0016e+00,  1.3583e+00, -2.2700e+00,\n",
            "        -1.7940e+00,  1.4934e+00,  3.4650e-02,  9.6350e-01, -2.0304e+00,\n",
            "        -2.3625e-01, -8.7844e-01, -7.0859e-01,  1.6231e+00, -1.7356e+00,\n",
            "        -3.6914e+00, -1.3616e+00,  1.0446e+00,  5.8747e-01,  2.1486e-01,\n",
            "        -2.4461e+00,  1.5978e+00,  5.1458e-01,  4.7003e-01,  1.1069e+00,\n",
            "        -3.9226e+00,  1.0139e-01, -2.6764e+00, -1.3628e-01, -1.8297e+00,\n",
            "        -1.8798e+00, -2.5043e+00,  1.9954e+00,  1.8262e+00, -1.0820e+00,\n",
            "         1.4013e+00, -6.1751e-01,  5.2459e-02, -1.7235e+00, -1.6984e+00,\n",
            "        -5.1122e+00, -6.0329e-01,  1.2262e+00,  2.1901e+00, -1.6682e+00,\n",
            "        -1.0038e+00,  1.6588e+00, -2.6442e-02, -2.0396e+00, -1.4337e+00,\n",
            "         5.9609e-01, -2.5151e+00, -1.9846e+00,  1.1116e+00, -4.8012e-01,\n",
            "        -2.8027e+00, -2.0056e+00,  1.7211e+00, -3.5702e+00, -2.5314e+00,\n",
            "         2.1831e+00, -3.1446e+00, -2.5658e+00, -8.1978e-01, -4.5697e+00,\n",
            "        -2.3778e+00, -2.8524e-01, -2.9338e+00, -2.1010e+00, -1.3675e+00,\n",
            "        -3.9725e-01,  3.8116e-01, -3.7867e+00,  8.9964e-02, -2.6674e+00,\n",
            "        -2.0615e+00, -1.5992e+00, -2.9793e+00,  2.1612e+00,  8.8547e-01,\n",
            "        -1.1875e+00, -1.5880e+00, -1.2343e+00,  3.9747e-01,  7.7830e-01,\n",
            "        -1.5393e+00, -2.0998e+00,  6.6900e-01, -7.5808e-01,  5.1751e-01,\n",
            "         1.7502e+00,  2.0745e+00, -8.6401e-01, -7.4387e-01, -1.9129e+00,\n",
            "        -2.2672e+00, -8.7616e-01, -2.3598e+00,  4.0746e-01, -5.5797e-01,\n",
            "        -7.1299e-01,  1.3697e+00, -3.0494e+00, -9.0465e-01, -1.3039e+00,\n",
            "        -2.8989e+00,  1.5483e+00,  1.5569e+00,  7.6253e-01, -5.8451e-01,\n",
            "        -4.1868e-02,  4.0968e-01,  7.7153e-02, -2.3049e+00, -2.4722e+00,\n",
            "         8.1162e-01, -8.4457e-01, -4.5635e+00, -2.4056e+00, -6.4056e-01,\n",
            "        -2.6292e+00, -1.3368e+00, -3.4111e+00, -1.5407e+00,  1.1266e-01,\n",
            "        -2.6902e+00, -1.0080e+00,  8.3004e-01, -2.3948e+00, -7.8785e-01,\n",
            "        -1.8402e+00, -1.3511e+00,  1.4517e+00, -4.5375e-01, -4.9805e+00,\n",
            "        -2.3023e+00,  1.2080e+00,  1.9150e+00, -2.3135e+00,  9.1319e-01,\n",
            "        -1.3272e-01, -1.4498e+00, -5.3365e+00, -1.3146e+00, -2.3256e+00,\n",
            "         5.4517e-01, -2.3475e+00, -1.9978e+00,  1.4553e+00, -9.7669e-01,\n",
            "        -1.3299e+00, -3.4610e-01, -2.7412e+00,  7.7748e-01, -2.6966e+00,\n",
            "        -2.6577e+00, -8.0866e-01, -1.2798e+00, -2.7330e+00, -1.9419e+00,\n",
            "        -3.1995e+00, -8.9877e-01,  8.7451e-01,  4.8537e-01,  1.5850e+00,\n",
            "        -2.9926e+00, -2.1961e+00,  1.3969e+00, -1.2191e+00,  1.6681e-01,\n",
            "        -4.0731e+00, -3.7016e+00, -6.0786e-01, -7.6972e-01, -3.9491e-01,\n",
            "        -1.4055e+00,  9.9437e-02, -9.2057e-01, -2.2578e-01, -3.9973e+00,\n",
            "        -9.5235e-01,  8.3700e-01, -1.6381e-01, -1.0057e+00, -2.6019e+00,\n",
            "        -1.8160e+00,  2.1614e-01, -1.4388e+00, -9.0167e-01, -1.6088e+00,\n",
            "        -1.9622e+00,  1.5085e+00, -1.9969e+00,  2.1587e+00, -2.4660e+00,\n",
            "         1.0176e+00, -3.5100e-01,  3.5760e-01, -2.3004e+00, -1.3802e+00,\n",
            "        -1.5705e+00, -2.8474e+00, -2.1018e+00, -1.6395e+00, -9.6137e-01,\n",
            "         7.6072e-01, -2.5065e+00, -3.1268e+00,  1.1341e-01, -1.1535e-01,\n",
            "        -2.9334e+00,  9.1868e-01, -7.2874e-01, -2.2731e+00, -2.1842e+00,\n",
            "        -5.4265e-01, -2.2421e-01, -2.9238e+00,  1.9232e+00, -2.1989e+00,\n",
            "         6.5720e-01, -3.1638e+00, -1.4854e-01, -1.5922e+00,  2.1587e+00,\n",
            "        -3.4783e+00, -1.1402e+00, -2.5744e+00, -3.4659e-01,  1.8589e+00,\n",
            "         5.8749e-02, -2.3149e+00,  1.1457e+00, -2.5428e+00, -4.7842e+00,\n",
            "        -3.7029e-01, -1.0332e+00, -1.7234e+00, -3.2356e+00,  9.6817e-02,\n",
            "        -1.1788e+00, -3.8482e+00, -9.4600e-02, -2.1330e+00, -1.7852e+00,\n",
            "        -2.5231e+00,  8.9865e-01,  2.2824e+00, -2.5969e+00, -2.3603e+00,\n",
            "        -1.1421e+00, -2.7468e+00,  2.0487e+00, -2.1606e+00, -1.4343e+00,\n",
            "        -1.2907e-01,  1.3344e-01, -1.4242e+00, -1.9682e+00,  4.6374e-01,\n",
            "         1.6598e+00, -6.8647e-01,  1.3355e+00, -2.4383e+00,  1.3865e+00,\n",
            "        -1.1301e+00,  5.1225e-01, -1.2125e+00,  4.3455e-01, -1.3874e+00,\n",
            "        -2.1299e+00, -1.3486e+00, -3.7647e-01,  1.0215e+00, -1.4196e+00,\n",
            "        -8.7789e-02, -6.2933e-01, -1.5157e+00, -1.1302e+00, -6.6129e-01,\n",
            "        -2.5622e+00, -6.9398e-01, -2.6463e+00, -4.0585e-04, -6.4825e-01,\n",
            "        -2.1571e+00, -2.7598e+00, -3.7510e+00, -1.1713e+00,  3.5856e-01,\n",
            "         1.9785e+00,  4.4962e-01, -1.9058e+00, -2.8797e+00, -9.3318e-01,\n",
            "        -2.2799e+00, -2.1677e+00, -1.8826e+00, -8.8583e-01, -1.6003e+00,\n",
            "        -2.1685e+00, -2.0018e+00,  7.5372e-01, -2.3023e+00,  1.8200e+00,\n",
            "        -1.6388e-01, -2.4016e+00,  1.2010e+00, -9.6410e-01,  1.2751e+00,\n",
            "        -2.5411e+00,  1.3999e+00, -1.6904e+00, -1.6741e+00,  6.8479e-01,\n",
            "        -1.4357e+00,  2.8717e-02, -1.0177e+00,  1.1704e+00, -2.3332e+00,\n",
            "         1.7654e+00, -7.8791e-02, -6.5873e-01,  5.9824e-01, -2.2916e+00,\n",
            "         1.2705e+00, -1.4684e+00,  1.0563e+00, -1.8780e+00, -1.8076e+00,\n",
            "        -2.7785e-01, -1.3507e+00, -3.7651e+00,  1.4837e+00, -9.6023e-01,\n",
            "        -3.5602e+00, -6.0788e-01,  9.0773e-01, -2.2221e-01, -2.1363e+00,\n",
            "        -1.7608e+00, -1.8248e+00, -1.3856e+00,  2.9765e-01, -1.6097e+00,\n",
            "         2.6209e-01,  1.7616e-02, -2.9670e+00,  1.2220e+00,  5.6374e-01,\n",
            "        -1.3284e+00, -3.6333e+00,  8.9585e-01, -2.7161e+00, -1.8746e+00,\n",
            "        -1.6188e+00,  1.1102e+00, -3.3532e+00,  1.6024e+00, -3.1399e+00,\n",
            "        -2.4259e+00, -1.7780e+00, -2.1767e-01, -3.7830e+00, -2.8984e+00,\n",
            "        -5.2255e-01, -3.6215e-01, -1.2869e+00, -2.3940e+00, -4.2558e+00,\n",
            "        -2.3421e+00, -9.0479e-01, -4.6897e+00, -2.5681e+00, -2.1645e+00,\n",
            "        -2.0733e+00, -1.6865e+00, -2.4382e-02, -7.0011e-01,  1.3212e+00,\n",
            "         1.7289e+00, -4.6133e+00, -1.4414e+00, -9.9453e-01, -1.5849e+00,\n",
            "        -8.4199e-01, -4.5937e+00, -1.0720e+00, -2.2269e+00, -1.8896e+00,\n",
            "        -2.8856e-02, -1.7592e+00,  6.7421e-01,  1.4252e+00, -2.3604e+00,\n",
            "        -2.0022e+00, -1.3264e+00, -1.7646e+00,  3.6407e-01, -1.1003e+00,\n",
            "        -2.5783e+00, -1.9301e+00, -7.3362e-01,  1.3518e+00, -1.4041e+00,\n",
            "        -3.5216e+00, -2.5386e+00, -1.2692e+00, -2.1184e+00, -2.7612e-02,\n",
            "        -2.1170e+00, -3.7693e+00, -7.1252e-02, -8.8944e-01, -2.1071e+00,\n",
            "        -2.2801e+00, -1.3622e+00,  1.2069e+00, -3.4104e+00,  1.2705e+00,\n",
            "        -8.7203e-01,  1.6896e+00,  1.3708e+00, -1.1475e+00, -2.7578e+00,\n",
            "        -1.4056e+00, -1.2479e+00, -2.3562e+00,  1.0025e+00,  2.1396e+00,\n",
            "        -1.0947e+00, -1.7946e+00, -3.0520e+00, -1.9476e+00, -1.2021e+00,\n",
            "        -2.0652e+00, -3.3238e+00,  7.1788e-01, -2.0301e+00, -3.1010e+00,\n",
            "         1.4237e+00, -1.3698e-01, -2.6073e+00, -2.1562e+00, -1.0336e+00,\n",
            "        -3.3327e+00,  1.9065e+00,  1.3541e+00, -1.8471e+00, -1.9178e+00],\n",
            "       device='cuda:0', requires_grad=True), Parameter containing:\n",
            "tensor([[-5.1326e-01, -1.6160e+00, -3.2703e-01,  ..., -2.2128e+00,\n",
            "          1.9797e-03, -2.6550e-02],\n",
            "        [-1.1959e-01, -1.5083e+00, -8.3163e-02,  ..., -9.6568e-01,\n",
            "         -5.3868e-02, -3.5669e-01],\n",
            "        [-1.8247e-01, -4.0669e-01, -4.3515e-01,  ..., -2.9434e-01,\n",
            "         -3.8370e-02, -3.2287e-01],\n",
            "        ...,\n",
            "        [-1.8084e+00, -2.4039e+00, -9.5463e-02,  ..., -2.9048e+00,\n",
            "         -1.3066e-01, -3.5109e-01],\n",
            "        [-1.0926e-01, -1.5766e+00, -1.1256e-01,  ..., -1.1805e+00,\n",
            "         -3.6201e-02, -3.6185e-01],\n",
            "        [-1.3505e-01, -1.2963e+00, -3.0904e-01,  ..., -6.9291e-01,\n",
            "         -7.2816e-02, -3.0413e-01]], device='cuda:0', requires_grad=True), Parameter containing:\n",
            "tensor([-0.3324, -0.1584, -0.3461, -0.4229, -0.4053, -0.4279, -0.3600, -0.1343,\n",
            "        -0.1539,  0.4192, -0.3703,  0.3170, -0.3242, -0.0398, -0.0548, -0.3069,\n",
            "        -0.3174,  0.5910, -0.3020,  0.6861, -0.2880, -0.3953, -0.3685, -0.1978,\n",
            "         0.6952, -0.3768, -0.4119, -0.3023, -0.3311, -0.3715, -0.1571, -0.2431,\n",
            "        -0.1659, -0.4011, -0.3984, -0.3510, -0.3938, -0.2971, -0.4285, -0.5052,\n",
            "        -0.3963, -0.4046, -0.1931, -0.0296, -0.3400, -0.3534, -0.3649, -0.4483,\n",
            "        -0.3816,  0.4837, -0.5211, -0.3570, -0.3088, -0.2041, -0.3777,  0.7224,\n",
            "        -0.0743, -0.3120, -0.4582, -0.3961, -0.1664, -0.4057, -0.3956, -0.3976,\n",
            "        -0.5388, -0.5139, -0.4435, -0.1350, -0.3655, -0.3638, -0.1613,  0.6892,\n",
            "        -0.1849, -0.3250, -0.3915, -0.4487, -0.4132, -0.3527, -0.3263, -0.3312,\n",
            "        -0.3571, -0.3819, -0.3244, -0.2015, -0.4417, -0.4231, -0.4126, -0.3774,\n",
            "         0.1654, -0.3094, -0.3147, -0.3730, -0.3567, -0.3480, -0.3631,  0.3578,\n",
            "        -0.3632, -0.3030, -0.4336, -0.3857, -0.2130,  0.7393, -0.4149, -0.0127,\n",
            "        -0.3886, -0.3925, -0.3457, -0.3043, -0.4251, -0.3088, -0.3779, -0.3621,\n",
            "        -0.5685, -0.3937, -0.2843, -0.3457, -0.4127, -0.1566, -0.4038, -0.2960,\n",
            "         0.7127, -0.3799, -0.2544, -0.4271, -0.3867, -0.5687, -0.3445, -0.3510,\n",
            "        -0.3844, -0.3458, -0.1381, -0.4191, -0.3554, -0.1143,  0.5593,  0.0316,\n",
            "        -0.4382, -0.4060, -0.3362, -0.4120, -0.3748, -0.2612, -0.1819, -0.4195,\n",
            "        -0.3629, -0.3790, -0.3230, -0.2894, -0.3209, -0.3525,  0.2996,  0.0416,\n",
            "        -0.3421, -0.4002, -0.3595, -0.4234, -0.3076, -0.3125, -0.3648, -0.4340,\n",
            "         0.1659, -0.1037, -0.3572,  0.3331, -0.3635, -0.3764, -0.4322, -0.4464,\n",
            "         0.4659, -0.1491, -0.2024, -0.4768, -0.4108, -0.2880, -0.3920, -0.5876,\n",
            "        -0.4005, -0.4348, -0.2185, -0.4349, -0.3885, -0.3850, -0.3828, -0.2495,\n",
            "        -0.2033, -0.3591, -0.3561, -0.4116, -0.3605, -0.5136, -0.3709, -0.3741,\n",
            "        -0.3192, -0.2246,  0.0043, -0.3497, -0.3802, -0.1525, -0.1139, -0.2542],\n",
            "       device='cuda:0', requires_grad=True), Parameter containing:\n",
            "tensor([[ 0.3511,  0.5067,  0.2774,  0.2664,  0.3464,  0.3479,  0.3482,  0.5175,\n",
            "          0.5330,  0.1456,  0.2878,  0.5643,  0.3484,  0.7863,  0.5778,  0.3789,\n",
            "          0.3500,  0.3989,  0.3002,  0.3772,  0.3305,  0.3717,  0.3856,  0.5550,\n",
            "          0.3891,  0.2616, -0.3902,  0.3511,  0.3393,  0.2273,  0.9369,  0.4022,\n",
            "          0.4759, -0.3631,  0.2624,  0.3572,  0.3142,  0.3481,  0.3120, -0.2929,\n",
            "          0.2947,  0.2831,  0.4422,  0.5709,  0.3132,  0.3172,  0.3683,  0.3586,\n",
            "          0.3162,  0.1711, -0.3521,  0.3593,  0.3511,  0.4089,  0.2617,  0.3646,\n",
            "          0.3544,  0.2879,  0.1681,  0.3732,  0.4957,  0.3562,  0.3408,  0.3350,\n",
            "         -0.0685, -0.3428,  0.3503,  0.5177,  0.3648,  0.3486,  0.5078,  0.3818,\n",
            "          0.7516,  0.3240,  0.3464,  0.2487,  0.2884,  0.2588,  0.2307,  0.3282,\n",
            "          0.3306,  0.3611,  0.3553,  0.4193,  0.2881,  0.3126,  0.3580,  0.3451,\n",
            "          0.6155,  0.3006,  0.3498,  0.2938,  0.2464,  0.3618,  0.3314,  0.5731,\n",
            "          0.3190,  0.3345,  0.2856,  0.2895,  0.4457,  0.3606,  0.2467,  0.5895,\n",
            "          0.3740,  0.3627,  0.3573,  0.3613,  0.3663,  0.3532,  0.2955, -0.3848,\n",
            "         -0.1100,  0.2769,  0.3973,  0.3802,  0.2907,  0.5066,  0.3386,  0.3401,\n",
            "          0.3930,  0.3504,  0.3907,  0.2756,  0.3501, -0.2387,  0.3318,  0.3601,\n",
            "          0.3270,  0.3221,  0.6303, -0.2511,  0.3704,  0.8284,  0.4053,  0.6272,\n",
            "          0.2487,  0.2328,  0.3417,  0.2872,  0.3508,  0.4327,  0.4663,  0.2750,\n",
            "          0.3497,  0.3399,  0.2803,  0.3878,  0.3636,  0.3756,  0.5739,  0.6589,\n",
            "          0.4051,  0.2656,  0.3697,  0.2374,  0.4261,  0.3068,  0.3334,  0.3327,\n",
            "          0.6306,  0.5708,  0.3500,  0.5268,  0.3612,  0.2435,  0.3716, -0.3941,\n",
            "          0.1741,  0.8486,  0.5648, -0.3903,  0.2770,  0.3391,  0.2552, -0.1235,\n",
            "          0.3715,  0.2209,  0.4529,  0.3499,  0.3486,  0.4101,  0.3738,  0.3879,\n",
            "          0.5855,  0.3471,  0.2789,  0.2971,  0.2303, -0.3644,  0.3145,  0.3667,\n",
            "          0.3520,  0.4356,  0.6540,  0.3458,  0.2976,  0.6704,  0.5111,  0.3383]],\n",
            "       device='cuda:0', requires_grad=True), Parameter containing:\n",
            "tensor([0.3928], device='cuda:0', requires_grad=True)]\n"
          ]
        }
      ],
      "source": [
        "print(list(net_loaded.parameters()))"
      ]
    },
    {
      "cell_type": "code",
      "execution_count": 67,
      "metadata": {
        "colab": {
          "base_uri": "https://localhost:8080/"
        },
        "id": "hIrFxjMuNe75",
        "outputId": "5ef153d7-1994-478e-d825-911e2324a689"
      },
      "outputs": [
        {
          "data": {
            "text/plain": [
              "Net(\n",
              "  (hidden_activation): Sigmoid()\n",
              "  (output_activation): ReLU()\n",
              "  (layers): ModuleList(\n",
              "    (0): Linear(in_features=3, out_features=600, bias=True)\n",
              "    (1): Linear(in_features=600, out_features=200, bias=True)\n",
              "    (2): Linear(in_features=200, out_features=1, bias=True)\n",
              "  )\n",
              ")"
            ]
          },
          "execution_count": 67,
          "metadata": {},
          "output_type": "execute_result"
        }
      ],
      "source": [
        "# Set the network to evaluation mode\n",
        "net.eval()"
      ]
    },
    {
      "cell_type": "code",
      "execution_count": 68,
      "metadata": {
        "colab": {
          "base_uri": "https://localhost:8080/"
        },
        "id": "PI3crOkrNe76",
        "outputId": "bbf79db5-24c7-4981-d94a-5a836a2e1144"
      },
      "outputs": [
        {
          "data": {
            "text/plain": [
              "tensor([[ 8.4823,  1.2874,  3.8433],\n",
              "        [ 6.3628,  4.5830,  6.8709],\n",
              "        [ 9.5007, 10.5686, 14.5369],\n",
              "        [ 2.7702,  9.1947,  8.4208],\n",
              "        [ 8.1549,  8.1288,  4.1824],\n",
              "        [ 2.8599,  0.6266,  5.7706],\n",
              "        [ 9.4994, 24.8554, 24.3957],\n",
              "        [ 5.9511,  6.8335,  5.0241],\n",
              "        [ 1.0827,  0.7347,  1.1826],\n",
              "        [ 3.3039,  4.2094,  4.9122],\n",
              "        [ 5.1887, 10.3858,  9.6000],\n",
              "        [ 8.6661, 16.7210, 16.3864],\n",
              "        [ 6.5375,  1.9848,  7.9297],\n",
              "        [ 9.7648, 31.8522, 29.5890],\n",
              "        [12.9340, 11.8892,  5.2417],\n",
              "        [ 9.3644,  3.6599,  3.9022],\n",
              "        [ 3.9849, 10.0192,  8.5279],\n",
              "        [ 0.7702,  1.3431,  0.9888],\n",
              "        [ 9.5696,  0.1444,  2.6998],\n",
              "        [ 7.7714, 11.4869, 16.6507]], device='cuda:0')"
            ]
          },
          "execution_count": 68,
          "metadata": {},
          "output_type": "execute_result"
        }
      ],
      "source": [
        "rho_example, vx_example, epsilon_example = sample_primitive_variables(20)\n",
        "\n",
        "# Create arbitrary input\n",
        "inputs =  generate_input_data(rho_example, vx_example, epsilon_example)\n",
        "inputs"
      ]
    },
    {
      "cell_type": "code",
      "execution_count": 69,
      "metadata": {
        "colab": {
          "base_uri": "https://localhost:8080/"
        },
        "id": "q70M928rNe76",
        "outputId": "a764ee0f-c6e3-4a8c-f83a-2e04c31d0962"
      },
      "outputs": [
        {
          "data": {
            "text/plain": [
              "[tensor([2.5094], device='cuda:0', grad_fn=<ReluBackward0>),\n",
              " tensor([3.9198], device='cuda:0', grad_fn=<ReluBackward0>),\n",
              " tensor([7.7067], device='cuda:0', grad_fn=<ReluBackward0>),\n",
              " tensor([1.8229], device='cuda:0', grad_fn=<ReluBackward0>),\n",
              " tensor([0.5899], device='cuda:0', grad_fn=<ReluBackward0>),\n",
              " tensor([3.8316], device='cuda:0', grad_fn=<ReluBackward0>),\n",
              " tensor([7.5995], device='cuda:0', grad_fn=<ReluBackward0>),\n",
              " tensor([1.5025], device='cuda:0', grad_fn=<ReluBackward0>),\n",
              " tensor([0.6894], device='cuda:0', grad_fn=<ReluBackward0>),\n",
              " tensor([2.3387], device='cuda:0', grad_fn=<ReluBackward0>),\n",
              " tensor([3.0099], device='cuda:0', grad_fn=<ReluBackward0>),\n",
              " tensor([5.8061], device='cuda:0', grad_fn=<ReluBackward0>),\n",
              " tensor([5.1753], device='cuda:0', grad_fn=<ReluBackward0>),\n",
              " tensor([6.8895], device='cuda:0', grad_fn=<ReluBackward0>),\n",
              " tensor([0.4187], device='cuda:0', grad_fn=<ReluBackward0>),\n",
              " tensor([2.2003], device='cuda:0', grad_fn=<ReluBackward0>),\n",
              " tensor([1.7618], device='cuda:0', grad_fn=<ReluBackward0>),\n",
              " tensor([0.1838], device='cuda:0', grad_fn=<ReluBackward0>),\n",
              " tensor([1.8009], device='cuda:0', grad_fn=<ReluBackward0>),\n",
              " tensor([8.7708], device='cuda:0', grad_fn=<ReluBackward0>)]"
            ]
          },
          "execution_count": 69,
          "metadata": {},
          "output_type": "execute_result"
        }
      ],
      "source": [
        "# Pass the inputs to the network and get the outputs\n",
        "outputs = [net(input) for input in inputs]\n",
        "# Print the outputs\n",
        "outputs"
      ]
    },
    {
      "cell_type": "code",
      "execution_count": 70,
      "metadata": {
        "colab": {
          "base_uri": "https://localhost:8080/"
        },
        "id": "U-92erIINe76",
        "outputId": "8b3c38f4-5260-4c59-9e68-8327cd471252"
      },
      "outputs": [
        {
          "data": {
            "text/plain": [
              "[tensor([2.5094], device='cuda:0', grad_fn=<ReluBackward0>),\n",
              " tensor([3.9198], device='cuda:0', grad_fn=<ReluBackward0>),\n",
              " tensor([7.7067], device='cuda:0', grad_fn=<ReluBackward0>),\n",
              " tensor([1.8229], device='cuda:0', grad_fn=<ReluBackward0>),\n",
              " tensor([0.5899], device='cuda:0', grad_fn=<ReluBackward0>),\n",
              " tensor([3.8316], device='cuda:0', grad_fn=<ReluBackward0>),\n",
              " tensor([7.5995], device='cuda:0', grad_fn=<ReluBackward0>),\n",
              " tensor([1.5025], device='cuda:0', grad_fn=<ReluBackward0>),\n",
              " tensor([0.6894], device='cuda:0', grad_fn=<ReluBackward0>),\n",
              " tensor([2.3387], device='cuda:0', grad_fn=<ReluBackward0>),\n",
              " tensor([3.0099], device='cuda:0', grad_fn=<ReluBackward0>),\n",
              " tensor([5.8061], device='cuda:0', grad_fn=<ReluBackward0>),\n",
              " tensor([5.1753], device='cuda:0', grad_fn=<ReluBackward0>),\n",
              " tensor([6.8895], device='cuda:0', grad_fn=<ReluBackward0>),\n",
              " tensor([0.4187], device='cuda:0', grad_fn=<ReluBackward0>),\n",
              " tensor([2.2003], device='cuda:0', grad_fn=<ReluBackward0>),\n",
              " tensor([1.7618], device='cuda:0', grad_fn=<ReluBackward0>),\n",
              " tensor([0.1838], device='cuda:0', grad_fn=<ReluBackward0>),\n",
              " tensor([1.8009], device='cuda:0', grad_fn=<ReluBackward0>),\n",
              " tensor([8.7708], device='cuda:0', grad_fn=<ReluBackward0>)]"
            ]
          },
          "execution_count": 70,
          "metadata": {},
          "output_type": "execute_result"
        }
      ],
      "source": [
        "# Set the network to evaluation mode\n",
        "net_loaded.eval()\n",
        "# Pass the inputs to the network and get the outputs\n",
        "outputs = [net_loaded(input) for input in inputs]\n",
        "# Print the outputs\n",
        "outputs"
      ]
    },
    {
      "cell_type": "markdown",
      "metadata": {
        "id": "ElWQivmgNe76"
      },
      "source": [
        "## Porting the model to C++"
      ]
    },
    {
      "cell_type": "code",
      "execution_count": 71,
      "metadata": {
        "colab": {
          "base_uri": "https://localhost:8080/"
        },
        "id": "jHT3Wq0WNe8G",
        "outputId": "748438fb-d006-4bc3-8078-ebedb2ee3f55"
      },
      "outputs": [
        {
          "data": {
            "text/plain": [
              "tensor([[2.4319]], device='cuda:0', grad_fn=<ReluBackward0>)"
            ]
          },
          "execution_count": 71,
          "metadata": {},
          "output_type": "execute_result"
        }
      ],
      "source": [
        "import torch.jit\n",
        "\n",
        "# Creating a dummy input tensor of shape (1, 3) to trace the model\n",
        "dummy_input = torch.randn(1, 3).to(device)\n",
        "dummy_input\n",
        "\n",
        "# Tracing the model using the torch.jit.trace function\n",
        "traced_model = torch.jit.trace(net_loaded, dummy_input)\n",
        "\n",
        "# Saving the traced model to a file named \"net.pt\"\n",
        "traced_model.save(\"net.pt\")\n",
        "\n",
        "example_input_to_validate_correct_export_and_import = generate_input_data(*sample_primitive_variables(1))\n",
        "example_input_to_validate_correct_export_and_import\n",
        "net_loaded(example_input_to_validate_correct_export_and_import)"
      ]
    },
    {
      "cell_type": "code",
      "execution_count": 71,
      "metadata": {
        "id": "_uSxpmeyNe8H"
      },
      "outputs": [],
      "source": []
    }
  ],
  "metadata": {
    "accelerator": "GPU",
    "colab": {
      "gpuType": "T4",
      "provenance": []
    },
    "gpuClass": "standard",
    "kernelspec": {
      "display_name": "bsc",
      "language": "python",
      "name": "python3"
    },
    "language_info": {
      "codemirror_mode": {
        "name": "ipython",
        "version": 3
      },
      "file_extension": ".py",
      "mimetype": "text/x-python",
      "name": "python",
      "nbconvert_exporter": "python",
      "pygments_lexer": "ipython3",
      "version": "3.11.3"
    },
    "orig_nbformat": 4
  },
  "nbformat": 4,
  "nbformat_minor": 0
}
