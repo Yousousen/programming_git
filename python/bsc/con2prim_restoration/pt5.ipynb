{
 "cells": [
  {
   "attachments": {},
   "cell_type": "markdown",
   "metadata": {},
   "source": [
    "# Neural network to learn conservative-to-primitive conversion in relativistic hydrodynamics\n",
    "We use Optuna to do a type of Bayesian optimization of the hyperparameters of the model. We then train the model using these hyperparameters to recover the primitive pressure from the conserved variables.\n",
    "\n",
    "Use this first cell to convert this notebook to a python script."
   ]
  },
  {
   "cell_type": "code",
   "execution_count": 1,
   "metadata": {
    "tags": [
     "remove_cell"
    ]
   },
   "outputs": [
    {
     "name": "stdout",
     "output_type": "stream",
     "text": [
      "Couldn't find program: 'echo'\n"
     ]
    }
   ],
   "source": [
    "%%script echo skipping\n",
    "\n",
    "!jupyter nbconvert pt4.ipynb --TagRemovePreprocessor.enabled=True --TagRemovePreprocessor.remove_cell_tags='{\"remove_cell\"}' --to script"
   ]
  },
  {
   "cell_type": "code",
   "execution_count": 2,
   "metadata": {},
   "outputs": [
    {
     "name": "stdout",
     "output_type": "stream",
     "text": [
      "Couldn't find program: 'echo'\n"
     ]
    }
   ],
   "source": [
    "%%script echo skipping\n",
    "\n",
    "!pip install optuna tensorboard tensorboardX"
   ]
  },
  {
   "cell_type": "code",
   "execution_count": 3,
   "metadata": {},
   "outputs": [],
   "source": [
    "# Importing the libraries\n",
    "import numpy as np\n",
    "import matplotlib.pyplot as plt\n",
    "import torch\n",
    "import torch.nn as nn\n",
    "import torch.optim as optim\n",
    "import torch.nn.functional as F\n",
    "import optuna\n",
    "import tensorboardX as tbx\n",
    "\n",
    "# Checking if GPU is available and setting the device accordingly\n",
    "device = torch.device(\"cuda\" if torch.cuda.is_available() else \"cpu\")\n"
   ]
  },
  {
   "attachments": {},
   "cell_type": "markdown",
   "metadata": {},
   "source": [
    "## Constants and flags to set\n",
    "Defining some constants and parameters for convenience."
   ]
  },
  {
   "cell_type": "code",
   "execution_count": 4,
   "metadata": {},
   "outputs": [],
   "source": [
    "\n",
    "N_TRIALS = 150 # Number of trials for hyperparameter optimization\n",
    "OPTIMIZE = False # Whether to optimize the hyperparameters or to use predetermined values from Dieseldorst et al..\n",
    "\n",
    "# I try out here the values as obtained in Optuna run 5, but I will increase the number of epochs.\n",
    "N_LAYERS_NO_OPT = 3\n",
    "N_UNITS_NO_OPT = [78, 193, 99]\n",
    "HIDDEN_ACTIVATION_NAME_NO_OPT = \"ReLU\"\n",
    "OUTPUT_ACTIVATION_NAME_NO_OPT = \"Linear\"\n",
    "LOSS_NAME_NO_OPT = \"MSE\"\n",
    "OPTIMIZER_NAME_NO_OPT = \"Adam\"\n",
    "LR_NO_OPT = 0.00036516467819506355\n",
    "BATCH_SIZE_NO_OPT = 170\n",
    "N_EPOCHS_NO_OPT = 400\n",
    "SCHEDULER_NAME_NO_OPT = \"ReduceLROnPlateau\"\n",
    "\n",
    "c = 1  # Speed of light (used in compute_conserved_variables and sample_primitive_variables functions)\n",
    "gamma = 5 / 3  # Adiabatic index (used in eos_analytic function)\n",
    "n_train_samples = 80000 # Number of training samples (used in generate_input_data and generate_labels functions)\n",
    "n_test_samples = 10000 # Number of test samples (used in generate_input_data and generate_labels functions)\n",
    "rho_interval = (0, 10.1) # Sampling interval for rest-mass density (used in sample_primitive_variables function)\n",
    "vx_interval = (0, 0.721 * c) # Sampling interval for velocity in x-direction (used in sample_primitive_variables function)\n",
    "epsilon_interval = (0, 2.02) # Sampling interval for specific internal energy (used in sample_primitive_variables function)\n",
    "\n",
    "np.random.seed(1) # Uncomment for pseudorandom data."
   ]
  },
  {
   "cell_type": "markdown",
   "metadata": {},
   "source": [
    "## Generating the data"
   ]
  },
  {
   "cell_type": "code",
   "execution_count": 5,
   "metadata": {},
   "outputs": [],
   "source": [
    "\n",
    "# Defining an analytic equation of state (EOS) for an ideal gas\n",
    "def eos_analytic(rho, epsilon):\n",
    "    \"\"\"Computes the pressure from rest-mass density and specific internal energy using an analytic EOS.\n",
    "\n",
    "    Args:\n",
    "        rho (torch.Tensor): The rest-mass density tensor of shape (n_samples,).\n",
    "        epsilon (torch.Tensor): The specific internal energy tensor of shape (n_samples,).\n",
    "\n",
    "    Returns:\n",
    "        torch.Tensor: The pressure tensor of shape (n_samples,).\n",
    "    \"\"\"\n",
    "    # Adding some assertions to check that the input tensors are valid and have the expected shape and type \n",
    "    assert isinstance(rho, torch.Tensor), \"rho must be a torch.Tensor\"\n",
    "    assert isinstance(epsilon, torch.Tensor), \"epsilon must be a torch.Tensor\"\n",
    "    assert rho.shape == epsilon.shape, \"rho and epsilon must have the same shape\"\n",
    "    assert rho.ndim == 1, \"rho and epsilon must be one-dimensional tensors\"\n",
    "    assert rho.dtype == torch.float32, \"rho and epsilon must have dtype torch.float32\"\n",
    "\n",
    "    return (gamma - 1) * rho * epsilon\n",
    "\n",
    "\n",
    "# Defining a function that samples primitive variables from uniform distributions\n",
    "def sample_primitive_variables(n_samples):\n",
    "    \"\"\"Samples primitive variables from uniform distributions.\n",
    "\n",
    "    Args:\n",
    "        n_samples (int): The number of samples to generate.\n",
    "\n",
    "    Returns:\n",
    "        tuple: A tuple of (rho, vx, epsilon), where rho is rest-mass density,\n",
    "            vx is velocity in x-direction,\n",
    "            epsilon is specific internal energy,\n",
    "            each being a numpy array of shape (n_samples,).\n",
    "    \"\"\"\n",
    "    # Sampling from uniform distributions with intervals matching Dieseldorst et al.\n",
    "    rho = np.random.uniform(*rho_interval, size=n_samples)  # Rest-mass density\n",
    "    vx = np.random.uniform(*vx_interval, size=n_samples)  # Velocity in x-direction\n",
    "    epsilon = np.random.uniform(*epsilon_interval, size=n_samples)  # Specific internal energy\n",
    "\n",
    "    # Returning the primitive variables\n",
    "    return rho, vx, epsilon\n",
    "\n",
    "\n",
    "# Defining a function that computes conserved variables from primitive variables\n",
    "def compute_conserved_variables(rho, vx, epsilon):\n",
    "    \"\"\"Computes conserved variables from primitive variables.\n",
    "\n",
    "    Args:\n",
    "        rho (torch.Tensor): The rest-mass density tensor of shape (n_samples,).\n",
    "        vx (torch.Tensor): The velocity in x-direction tensor of shape (n_samples,).\n",
    "        epsilon (torch.Tensor): The specific internal energy tensor of shape (n_samples,).\n",
    "\n",
    "    Returns:\n",
    "        tuple: A tuple of (D, Sx, tau), where D is conserved density,\n",
    "            Sx is conserved momentum in x-direction,\n",
    "            tau is conserved energy density,\n",
    "            each being a torch tensor of shape (n_samples,).\n",
    "    \"\"\"\n",
    "\n",
    "    # Computing the pressure from the primitive variables using the EOS\n",
    "    p = eos_analytic(rho, epsilon)\n",
    "    # Computing the Lorentz factor from the velocity.\n",
    "    W = 1 / torch.sqrt(1 - vx ** 2 / c ** 2)\n",
    "    # Specific enthalpy\n",
    "    h = 1 + epsilon + p / rho  \n",
    "\n",
    "    # Computing the conserved variables from the primitive variables\n",
    "    D = rho * W  # Conserved density\n",
    "    Sx = rho * h * W ** 2 * vx  # Conserved momentum in x-direction\n",
    "    tau = rho * h * W ** 2 - p - D  # Conserved energy density\n",
    "\n",
    "    # Returning the conserved variables\n",
    "    return D, Sx, tau\n",
    "\n",
    "# Defining a function that generates input data (conserved variables) from given samples of primitive variables\n",
    "def generate_input_data(rho, vx, epsilon):\n",
    "    # Converting the numpy arrays to torch tensors and moving them to the device\n",
    "    rho = torch.tensor(rho, dtype=torch.float32).to(device)\n",
    "    vx = torch.tensor(vx, dtype=torch.float32).to(device)\n",
    "    epsilon = torch.tensor(epsilon, dtype=torch.float32).to(device)\n",
    "\n",
    "    # Computing the conserved variables using the compute_conserved_variables function\n",
    "    D, Sx, tau = compute_conserved_variables(rho, vx, epsilon)\n",
    "\n",
    "    # Stacking the conserved variables into a torch tensor\n",
    "    x = torch.stack([D, Sx, tau], axis=1)\n",
    "\n",
    "    # Returning the input data tensor\n",
    "    return x\n",
    "\n",
    "# Defining a function that generates output data (labels) from given samples of primitive variables\n",
    "def generate_labels(rho, epsilon):\n",
    "    # Converting the numpy arrays to torch tensors and moving them to the device\n",
    "    rho = torch.tensor(rho, dtype=torch.float32).to(device)\n",
    "    epsilon = torch.tensor(epsilon, dtype=torch.float32).to(device)\n",
    "\n",
    "    # Computing the pressure from the primitive variables using the EOS\n",
    "    p = eos_analytic(rho, epsilon)\n",
    "\n",
    "    # Returning the output data tensor\n",
    "    return p"
   ]
  },
  {
   "cell_type": "code",
   "execution_count": 6,
   "metadata": {},
   "outputs": [
    {
     "data": {
      "text/plain": [
       "<Figure size 800x400 with 0 Axes>"
      ]
     },
     "execution_count": 6,
     "metadata": {},
     "output_type": "execute_result"
    },
    {
     "data": {
      "text/plain": [
       "<Axes: >"
      ]
     },
     "execution_count": 6,
     "metadata": {},
     "output_type": "execute_result"
    },
    {
     "data": {
      "text/plain": [
       "(array([16075., 10471.,  8322.,  6924.,  5904.,  5091.,  4568.,  3922.,\n",
       "         3463.,  2955.,  2616.,  2195.,  1959.,  1535.,  1217.,  1030.,\n",
       "          803.,   514.,   316.,   120.]),\n",
       " array([3.66740605e-05, 6.77788556e-01, 1.35554051e+00, 2.03329229e+00,\n",
       "        2.71104431e+00, 3.38879609e+00, 4.06654787e+00, 4.74429989e+00,\n",
       "        5.42205191e+00, 6.09980392e+00, 6.77755547e+00, 7.45530748e+00,\n",
       "        8.13305950e+00, 8.81081104e+00, 9.48856354e+00, 1.01663151e+01,\n",
       "        1.08440666e+01, 1.15218191e+01, 1.21995707e+01, 1.28773232e+01,\n",
       "        1.35550747e+01]),\n",
       " <BarContainer object of 20 artists>)"
      ]
     },
     "execution_count": 6,
     "metadata": {},
     "output_type": "execute_result"
    },
    {
     "data": {
      "text/plain": [
       "Text(0.5, 0, 'y_train')"
      ]
     },
     "execution_count": 6,
     "metadata": {},
     "output_type": "execute_result"
    },
    {
     "data": {
      "text/plain": [
       "Text(0, 0.5, 'Frequency')"
      ]
     },
     "execution_count": 6,
     "metadata": {},
     "output_type": "execute_result"
    },
    {
     "data": {
      "text/plain": [
       "<Axes: >"
      ]
     },
     "execution_count": 6,
     "metadata": {},
     "output_type": "execute_result"
    },
    {
     "data": {
      "text/plain": [
       "(array([1973., 1301., 1061.,  873.,  743.,  658.,  509.,  468.,  449.,\n",
       "         357.,  335.,  294.,  228.,  179.,  174.,  156.,  104.,   69.,\n",
       "          51.,   18.]),\n",
       " array([1.94879860e-04, 6.72783136e-01, 1.34537137e+00, 2.01795959e+00,\n",
       "        2.69054794e+00, 3.36313605e+00, 4.03572416e+00, 4.70831251e+00,\n",
       "        5.38090086e+00, 6.05348921e+00, 6.72607708e+00, 7.39866543e+00,\n",
       "        8.07125378e+00, 8.74384212e+00, 9.41643047e+00, 1.00890188e+01,\n",
       "        1.07616062e+01, 1.14341946e+01, 1.21067829e+01, 1.27793713e+01,\n",
       "        1.34519596e+01]),\n",
       " <BarContainer object of 20 artists>)"
      ]
     },
     "execution_count": 6,
     "metadata": {},
     "output_type": "execute_result"
    },
    {
     "data": {
      "text/plain": [
       "Text(0.5, 0, 'y_test')"
      ]
     },
     "execution_count": 6,
     "metadata": {},
     "output_type": "execute_result"
    },
    {
     "data": {
      "text/plain": [
       "Text(0, 0.5, 'Frequency')"
      ]
     },
     "execution_count": 6,
     "metadata": {},
     "output_type": "execute_result"
    },
    {
     "data": {
      "image/png": "[encoded data removed]",
      "text/plain": [
       "<Figure size 800x400 with 2 Axes>"
      ]
     },
     "metadata": {},
     "output_type": "display_data"
    },
    {
     "name": "stdout",
     "output_type": "stream",
     "text": [
      "Shape of x_train: torch.Size([80000, 3])\n",
      "Shape of y_train: torch.Size([80000])\n",
      "Shape of x_test: torch.Size([10000, 3])\n",
      "Shape of y_test: torch.Size([10000])\n"
     ]
    }
   ],
   "source": [
    "# Sampling the primitive variables using the sample_primitive_variables function\n",
    "rho_train, vx_train, epsilon_train = sample_primitive_variables(n_train_samples)\n",
    "rho_test, vx_test, epsilon_test = sample_primitive_variables(n_test_samples)\n",
    "\n",
    "# Generating the input and output data for train and test sets using the modified functions\n",
    "x_train = generate_input_data(rho_train, vx_train, epsilon_train)\n",
    "y_train = generate_labels(rho_train, epsilon_train) \n",
    "x_test = generate_input_data(rho_test, vx_test, epsilon_test) \n",
    "y_test = generate_labels(rho_test, epsilon_test) \n",
    "\n",
    "# Checking if our output is always positive by plotting a histogram of y_train and y_test tensors \n",
    "plt.figure(figsize=(8, 4))\n",
    "plt.subplot(1, 2, 1)\n",
    "plt.hist(y_train.cpu().numpy(), bins=20)\n",
    "plt.xlabel(\"y_train\")\n",
    "plt.ylabel(\"Frequency\")\n",
    "plt.subplot(1, 2, 2)\n",
    "plt.hist(y_test.cpu().numpy(), bins=20)\n",
    "plt.xlabel(\"y_test\")\n",
    "plt.ylabel(\"Frequency\")\n",
    "plt.tight_layout()\n",
    "plt.show()\n",
    "\n",
    "# Checking the shapes of the data tensors\n",
    "print(\"Shape of x_train:\", x_train.shape)\n",
    "print(\"Shape of y_train:\", y_train.shape)\n",
    "print(\"Shape of x_test:\", x_test.shape)\n",
    "print(\"Shape of y_test:\", y_test.shape)"
   ]
  },
  {
   "cell_type": "markdown",
   "metadata": {},
   "source": [
    "## Defining the neural network"
   ]
  },
  {
   "cell_type": "code",
   "execution_count": 7,
   "metadata": {},
   "outputs": [],
   "source": [
    "# Defining a class for the network\n",
    "class Net(nn.Module):\n",
    "    \"\"\"A class for creating a network with a\n",
    "    variable number of hidden layers and units.\n",
    "\n",
    "    Attributes:\n",
    "        n_layers (int): The number of hidden layers in the network.\n",
    "        n_units (list): A list of integers representing the number of units in each hidden layer.\n",
    "        hidden_activation (torch.nn.Module): The activation function for the hidden layers.\n",
    "        output_activation (torch.nn.Module): The activation function for the output layer.\n",
    "        layers (torch.nn.ModuleList): A list of linear layers in the network.\n",
    "    \"\"\"\n",
    "\n",
    "    def __init__(self, n_layers, n_units, hidden_activation, output_activation):\n",
    "        \"\"\"Initializes the network with the given hyperparameters.\n",
    "\n",
    "        Args:\n",
    "            n_layers (int): The number of hidden layers in the network.\n",
    "            n_units (list): A list of integers representing the number of units in each hidden layer.\n",
    "            hidden_activation (torch.nn.Module): The activation function for the hidden layers.\n",
    "            output_activation (torch.nn.Module): The activation function for the output layer.\n",
    "        \"\"\"\n",
    "        super().__init__()\n",
    "        self.n_layers = n_layers\n",
    "        self.n_units = n_units\n",
    "        self.hidden_activation = hidden_activation\n",
    "        self.output_activation = output_activation\n",
    "\n",
    "        # Creating a list of linear layers with different numbers of units for each layer\n",
    "        self.layers = nn.ModuleList([nn.Linear(3, n_units[0])])\n",
    "        for i in range(1, n_layers):\n",
    "            self.layers.append(nn.Linear(n_units[i - 1], n_units[i]))\n",
    "        self.layers.append(nn.Linear(n_units[-1], 1))\n",
    "\n",
    "        # Adding some assertions to check that the input arguments are valid\n",
    "        assert isinstance(n_layers, int) and n_layers > 0, \"n_layers must be a positive integer\"\n",
    "        assert isinstance(n_units, list) and len(n_units) == n_layers, \"n_units must be a list of length n_layers\"\n",
    "        assert all(isinstance(n, int) and n > 0 for n in n_units), \"n_units must contain positive integers\"\n",
    "        assert isinstance(hidden_activation, nn.Module), \"hidden_activation must be a torch.nn.Module\"\n",
    "        assert isinstance(output_activation, nn.Module), \"output_activation must be a torch.nn.Module\"\n",
    "\n",
    "    def forward(self, x):\n",
    "        \"\"\"Performs a forward pass on the input tensor.\n",
    "\n",
    "        Args:\n",
    "            x (torch.Tensor): The input tensor of shape (batch_size, 3).\n",
    "\n",
    "        Returns:\n",
    "            torch.Tensor: The output tensor of shape (batch_size, 1).\n",
    "        \"\"\"\n",
    "        # Looping over the hidden layers and applying the linear transformation and the activation function\n",
    "        for layer in self.layers[:-1]:\n",
    "            x = self.hidden_activation(layer(x))\n",
    "        # Applying the linear transformation and the activation function on the output layer\n",
    "        x = self.output_activation(self.layers[-1](x))\n",
    "\n",
    "        # Returning the output tensor\n",
    "        return x"
   ]
  },
  {
   "cell_type": "markdown",
   "metadata": {},
   "source": [
    "## Defining the model and search space"
   ]
  },
  {
   "cell_type": "code",
   "execution_count": 8,
   "metadata": {},
   "outputs": [],
   "source": [
    "# Defining a function to create a trial network and optimizer\n",
    "def create_model(trial, optimize):\n",
    "    \"\"\"Creates a trial network and optimizer based on the sampled hyperparameters.\n",
    "\n",
    "    Args:\n",
    "        trial (optuna.trial.Trial): The trial object that contains the hyperparameters.\n",
    "        optimize (boolean): Whether to optimize the hyperparameters or to use predefined values.\n",
    "\n",
    "    Returns:\n",
    "        tuple: A tuple of (net, loss_fn, optimizer, batch_size, n_epochs,\n",
    "            scheduler, loss_name, optimizer_name, scheduler_name,\n",
    "            n_units, n_layers, hidden_activation, output_activation),\n",
    "            where net is the trial network,\n",
    "            loss_fn is the loss function,\n",
    "            optimizer is the optimizer,\n",
    "            batch_size is the batch size,\n",
    "            n_epochs is the number of epochs,\n",
    "            scheduler is the learning rate scheduler,\n",
    "            loss_name is the name of the loss function,\n",
    "            optimizer_name is the name of the optimizer,\n",
    "            scheduler_name is the name of the scheduler,\n",
    "            n_units is a list of integers representing\n",
    "            the number of units in each hidden layer,\n",
    "            n_layers is an integer representing the number of hidden layers in the network,\n",
    "            hidden_activation is a torch.nn.Module representing the activation function for the hidden layers,\n",
    "            output_activation is a torch.nn.Module representing the activation function for the output layer,\n",
    "            lr is the (initial) learning rate.\n",
    "    \"\"\"\n",
    "    # If optimize is True, sample the hyperparameters from the search space\n",
    "    if optimize:\n",
    "        # Sampling the hyperparameters from the search space\n",
    "        n_layers = trial.suggest_int(\"n_layers\", 1, 3)\n",
    "        n_units = [trial.suggest_int(f\"n_units_{i}\", 16, 256) for i in range(n_layers)] \n",
    "        hidden_activation_name = trial.suggest_categorical(\n",
    "            \"hidden_activation\", [\"ReLU\", \"LeakyReLU\", \"ELU\", \"Tanh\", \"Sigmoid\"]\n",
    "        )\n",
    "        output_activation_name = trial.suggest_categorical(\n",
    "            \"output_activation\", [\"Linear\", \"ReLU\"]\n",
    "        ) \n",
    "        loss_name = trial.suggest_categorical(\n",
    "            \"loss\", [\"MSE\", \"MAE\", \"Huber\", \"LogCosh\"] \n",
    "        )\n",
    "        optimizer_name = trial.suggest_categorical(\n",
    "            \"optimizer\", [\"Adam\", \"SGD\", \"RMSprop\", \"Adagrad\"] \n",
    "        )\n",
    "        lr = trial.suggest_loguniform(\"lr\", 1e-4, 1e-2) \n",
    "        batch_size = trial.suggest_int(\"batch_size\", 32, 256)\n",
    "        n_epochs = trial.suggest_int(\"n_epochs\", 50, 100) \n",
    "        scheduler_name = trial.suggest_categorical(\n",
    "            \"scheduler\",\n",
    "            [\"None\", \"CosineAnnealingLR\", \"ReduceLROnPlateau\", \"StepLR\", \"ExponentialLR\"],\n",
    "        )\n",
    "    # If optimize is False, use the predefined values\n",
    "    else:\n",
    "        # Setting the hyperparameters to the predefined values\n",
    "        n_layers = N_LAYERS_NO_OPT\n",
    "        n_units = N_UNITS_NO_OPT\n",
    "        hidden_activation_name = HIDDEN_ACTIVATION_NAME_NO_OPT\n",
    "        output_activation_name = OUTPUT_ACTIVATION_NAME_NO_OPT\n",
    "        loss_name = LOSS_NAME_NO_OPT\n",
    "        optimizer_name = OPTIMIZER_NAME_NO_OPT\n",
    "        lr = LR_NO_OPT\n",
    "        batch_size = BATCH_SIZE_NO_OPT\n",
    "        n_epochs = N_EPOCHS_NO_OPT\n",
    "        scheduler_name = SCHEDULER_NAME_NO_OPT\n",
    "\n",
    "\n",
    "    # Creating the activation functions from their names\n",
    "    if hidden_activation_name == \"ReLU\":\n",
    "        hidden_activation = nn.ReLU()\n",
    "    elif hidden_activation_name == \"LeakyReLU\":\n",
    "        hidden_activation = nn.LeakyReLU() \n",
    "    elif hidden_activation_name == \"ELU\":\n",
    "        hidden_activation = nn.ELU() \n",
    "    elif hidden_activation_name == \"Tanh\":\n",
    "        hidden_activation = nn.Tanh()\n",
    "    else:\n",
    "        hidden_activation = nn.Sigmoid()\n",
    "\n",
    "    if output_activation_name == \"ReLU\":\n",
    "        output_activation = nn.ReLU()\n",
    "    else:\n",
    "        output_activation = nn.Identity()\n",
    "\n",
    "    # Creating the loss function from its name\n",
    "    if loss_name == \"MSE\":\n",
    "        loss_fn = nn.MSELoss()\n",
    "    elif loss_name == \"MAE\":\n",
    "        loss_fn = nn.L1Loss()\n",
    "    elif loss_name == \"Huber\":\n",
    "        loss_fn = nn.SmoothL1Loss() \n",
    "    else:\n",
    "        # Creating the log-cosh loss function\n",
    "        def log_cosh_loss(y_pred, y_true):\n",
    "            return torch.mean(torch.log(torch.cosh(y_pred - y_true)))\n",
    "            \n",
    "        loss_fn = log_cosh_loss\n",
    "\n",
    "    # Creating the network with the sampled hyperparameters\n",
    "    net = Net(\n",
    "        n_layers, n_units, hidden_activation, output_activation\n",
    "    ).to(device)\n",
    "\n",
    "    # Creating the optimizer from its name\n",
    "    if optimizer_name == \"SGD\":\n",
    "        optimizer = optim.SGD(net.parameters(), lr=lr)\n",
    "    elif optimizer_name == \"Adam\":\n",
    "        optimizer = optim.Adam(net.parameters(), lr=lr)\n",
    "    elif optimizer_name == \"RMSprop\":\n",
    "        optimizer = optim.RMSprop(net.parameters(), lr=lr)\n",
    "    else:\n",
    "        # Added creating the Adagrad optimizer\n",
    "        optimizer = optim.Adagrad(net.parameters(), lr=lr)\n",
    "\n",
    "    # Creating the learning rate scheduler from its name\n",
    "    if scheduler_name == \"StepLR\":\n",
    "        scheduler = optim.lr_scheduler.StepLR(optimizer, step_size=10, gamma=0.1)\n",
    "    elif scheduler_name == \"ExponentialLR\":\n",
    "        scheduler = optim.lr_scheduler.ExponentialLR(optimizer, gamma=0.9)\n",
    "    elif scheduler_name == \"CosineAnnealingLR\":\n",
    "        # Added creating the CosineAnnealingLR scheduler\n",
    "        scheduler = optim.lr_scheduler.CosineAnnealingLR(optimizer, T_max=10)\n",
    "    elif scheduler_name == \"ReduceLROnPlateau\":\n",
    "        # Added creating the ReduceLROnPlateau scheduler\n",
    "        # Creating the ReduceLROnPlateau scheduler with a threshold value of 0.01\n",
    "        #scheduler = optim.lr_scheduler.ReduceLROnPlateau(\n",
    "        #    optimizer, mode=\"min\", factor=0.1, patience=10, threshold=0.01\n",
    "        #)\n",
    "        # Use Dieseldorst et al. settings and add to that a minimum lr.\n",
    "        scheduler = optim.lr_scheduler.ReduceLROnPlateau(\n",
    "                    optimizer, mode=\"min\", factor=0.5, patience=5, threshold=0.0005, min_lr=1e-6\n",
    "                )\n",
    "    else:\n",
    "        scheduler = None\n",
    "\n",
    "    # Returning all variables needed for saving and loading\n",
    "    return net, loss_fn, optimizer, batch_size, n_epochs, scheduler, loss_name, optimizer_name, scheduler_name, n_units, n_layers, hidden_activation, output_activation, lr\n"
   ]
  },
  {
   "attachments": {},
   "cell_type": "markdown",
   "metadata": {},
   "source": [
    " ## The training and evaluation loop\n",
    "\n",
    " We first define a couple of functions used in the training and evaluation."
   ]
  },
  {
   "cell_type": "code",
   "execution_count": 9,
   "metadata": {},
   "outputs": [],
   "source": [
    "# Defining a function that computes loss and metrics for a given batch\n",
    "def compute_loss_and_metrics(y_pred, y_true, loss_fn):\n",
    "    \"\"\"Computes loss and metrics for a given batch.\n",
    "\n",
    "    Args:\n",
    "        y_pred (torch.Tensor): The predicted pressure tensor of shape (batch_size, 1).\n",
    "        y_true (torch.Tensor): The true pressure tensor of shape (batch_size,).\n",
    "        loss_fn (torch.nn.Module or function): The loss function to use.\n",
    "\n",
    "    Returns:\n",
    "        tuple: A tuple of (loss, l1_norm), where loss is a scalar tensor,\n",
    "            l1_norm is L1 norm for relative error of pressure,\n",
    "            each being a scalar tensor.\n",
    "            linf_norm is Linf norm for relative error of pressure.\n",
    "    \"\"\"\n",
    "    # Reshaping the target tensor to match the input tensor\n",
    "    y_true = y_true.view(-1, 1)\n",
    "\n",
    "    # Computing the loss using the loss function\n",
    "    loss = loss_fn(y_pred, y_true)\n",
    "\n",
    "    # Computing the relative error of pressure\n",
    "    rel_error = torch.abs((y_pred - y_true) / y_true)\n",
    "\n",
    "    # Computing the L1 norm for the relative error of pressure\n",
    "    l1_norm = torch.mean(rel_error) \n",
    "    # Computing the Linf norm for the relative error of pressure\n",
    "    linf_norm = torch.max(rel_error) \n",
    "\n",
    "    # Returning the loss and metrics\n",
    "    return loss, l1_norm, linf_norm\n",
    "\n",
    "\n",
    "# Defining a function that updates the learning rate scheduler with validation loss if applicable\n",
    "def update_scheduler(scheduler, test_loss):\n",
    "    \"\"\"Updates the learning rate scheduler with validation loss if applicable.\n",
    "\n",
    "    Args:\n",
    "        scheduler (torch.optim.lr_scheduler._LRScheduler or None): The learning rate scheduler to use.\n",
    "        test_loss (float): The validation loss to use.\n",
    "\n",
    "    Returns:\n",
    "        None\n",
    "    \"\"\"\n",
    "    # Checking if scheduler is not None\n",
    "    if scheduler is not None:\n",
    "        # Checking if scheduler is ReduceLROnPlateau\n",
    "        if isinstance(scheduler, optim.lr_scheduler.ReduceLROnPlateau):\n",
    "            # Updating the scheduler with test_loss\n",
    "            scheduler.step(test_loss)\n",
    "        else:\n",
    "            # Updating the scheduler without test_loss\n",
    "            scheduler.step()\n"
   ]
  },
  {
   "attachments": {},
   "cell_type": "markdown",
   "metadata": {},
   "source": [
    "Now for the actual training and evaluation loop,"
   ]
  },
  {
   "cell_type": "code",
   "execution_count": 10,
   "metadata": {},
   "outputs": [],
   "source": [
    "# Defining a function to train and evaluate a network\n",
    "def train_and_eval(net, loss_fn, optimizer, batch_size, n_epochs, scheduler, trial=None):\n",
    "    \"\"\"Trains and evaluates a network.\n",
    "\n",
    "    Args:\n",
    "        net (torch.nn.Module): The network to train and evaluate.\n",
    "        loss_fn (torch.nn.Module or function): The loss function.\n",
    "        optimizer (torch.optim.Optimizer): The optimizer.\n",
    "        batch_size (int): The batch size.\n",
    "        n_epochs (int): The number of epochs.\n",
    "        scheduler (torch.optim.lr_scheduler._LRScheduler or None): The learning rate scheduler.\n",
    "    Returns:\n",
    "        tuple: A tuple of (train_losses, test_losses, train_metrics, test_metrics), where\n",
    "            train_losses is a list of training losses for each epoch,\n",
    "            test_losses is a list of validation losses for each epoch,\n",
    "            train_metrics is a list of dictionaries containing training metrics for each epoch,\n",
    "            test_metrics is a list of dictionaries containing validation metrics for each epoch.\n",
    "    \"\"\"\n",
    "    # Creating data loaders for train and test sets\n",
    "    train_loader = torch.utils.data.DataLoader(\n",
    "        torch.utils.data.TensorDataset(x_train, y_train), batch_size=batch_size, shuffle=True\n",
    "    )\n",
    "    test_loader = torch.utils.data.DataLoader(\n",
    "        torch.utils.data.TensorDataset(x_test, y_test), batch_size=batch_size\n",
    "    )\n",
    "\n",
    "    # Initializing lists to store the losses and metrics for each epoch\n",
    "    train_losses = []\n",
    "    test_losses = []\n",
    "    train_metrics = []\n",
    "    test_metrics = []\n",
    "\n",
    "    # Creating a SummaryWriter object to log data for tensorboard\n",
    "    writer = tbx.SummaryWriter()\n",
    "\n",
    "    # Looping over the epochs\n",
    "    for epoch in range(n_epochs):\n",
    "\n",
    "        # Setting the network to training mode\n",
    "        net.train()\n",
    "\n",
    "        # Initializing variables to store the total loss and metrics for the train set\n",
    "        train_loss = 0.0\n",
    "        train_l1_norm = 0.0\n",
    "        train_linf_norm = 0.0\n",
    "\n",
    "        # Looping over the batches in the train set\n",
    "        for x_batch, y_batch in train_loader:\n",
    "\n",
    "            # Moving the batch tensors to the device\n",
    "            x_batch = x_batch.to(device)\n",
    "            y_batch = y_batch.to(device)\n",
    "\n",
    "            # Zeroing the gradients\n",
    "            optimizer.zero_grad()\n",
    "\n",
    "            # Performing a forward pass and computing the loss and metrics\n",
    "            y_pred = net(x_batch)\n",
    "            loss, l1_norm, linf_norm = compute_loss_and_metrics(\n",
    "                y_pred, y_batch, loss_fn\n",
    "            )\n",
    "\n",
    "\n",
    "            # Performing a backward pass and updating the weights\n",
    "            loss.backward()\n",
    "            optimizer.step()\n",
    "\n",
    "            # Updating the total loss and metrics for the train set\n",
    "            train_loss += loss.item() * x_batch.size(0)\n",
    "            train_l1_norm += l1_norm.item() * x_batch.size(0)\n",
    "            train_linf_norm += linf_norm.item() * x_batch.size(0)\n",
    "\n",
    "        # Computing the average loss and metrics for the train set\n",
    "        train_loss /= len(train_loader.dataset)\n",
    "        train_l1_norm /= len(train_loader.dataset)\n",
    "        train_linf_norm /= len(train_loader.dataset)\n",
    "\n",
    "        # Appending the average loss and metrics for the train set to the lists\n",
    "        train_losses.append(train_loss)\n",
    "        train_metrics.append(\n",
    "            {\n",
    "                \"l1_norm\": train_l1_norm,\n",
    "                \"linf_norm\": train_linf_norm,\n",
    "            }\n",
    "        )\n",
    "\n",
    "        # Logging the average loss and metrics for the train set to tensorboard\n",
    "        writer.add_scalar(\"Loss/train\", train_loss, epoch)\n",
    "        writer.add_scalar(\"L1 norm/train\", train_l1_norm, epoch)\n",
    "        writer.add_scalar(\"Linf norm/train\", train_linf_norm, epoch)\n",
    "\n",
    "        # Setting the network to evaluation mode\n",
    "        net.eval()\n",
    "\n",
    "        # Initializing variables to store the total loss and metrics for the test set\n",
    "        test_loss = 0.0\n",
    "        test_l1_norm = 0.0\n",
    "        test_linf_norm = 0.0\n",
    "\n",
    "        # Looping over the batches in the test set\n",
    "        with torch.no_grad():\n",
    "            for x_batch, y_batch in test_loader:\n",
    "\n",
    "                # Moving the batch tensors to the device\n",
    "                x_batch = x_batch.to(device)\n",
    "                y_batch = y_batch.to(device)\n",
    "\n",
    "                # Performing a forward pass and computing the loss and metrics\n",
    "                y_pred = net(x_batch)\n",
    "                loss, l1_norm, linf_norm = compute_loss_and_metrics(\n",
    "                    y_pred, y_batch, loss_fn\n",
    "                )\n",
    "\n",
    "\n",
    "                # Updating the total loss and metrics for the test set\n",
    "                test_loss += loss.item() * x_batch.size(0)\n",
    "                test_l1_norm += l1_norm.item() * x_batch.size(0)\n",
    "                test_linf_norm += linf_norm.item() * x_batch.size(0)\n",
    "\n",
    "        # Computing the average loss and metrics for the test set\n",
    "        test_loss /= len(test_loader.dataset)\n",
    "        test_l1_norm /= len(test_loader.dataset)\n",
    "        test_linf_norm /= len(test_loader.dataset)\n",
    "\n",
    "        # Appending the average loss and metrics for the test set to the lists\n",
    "        test_losses.append(test_loss)\n",
    "        test_metrics.append(\n",
    "            {\n",
    "                \"l1_norm\": test_l1_norm,\n",
    "                \"linf_norm\": test_linf_norm,\n",
    "            }\n",
    "        )\n",
    "\n",
    "        # Logging the average loss and metrics for the test set to tensorboard\n",
    "        writer.add_scalar(\"Loss/test\", test_loss, epoch)\n",
    "        writer.add_scalar(\"L1 norm/test\", test_l1_norm, epoch)\n",
    "        writer.add_scalar(\"Linf norm/test\", test_linf_norm, epoch)\n",
    "\n",
    "        # Printing the average loss and metrics for both sets for this epoch\n",
    "        print(\n",
    "            f\"Epoch {epoch + 1}: Train Loss: {train_loss:.4f}, Test Loss: {test_loss:.4f}, \"\n",
    "            f\"Train L1 Norm: {train_l1_norm:.4f}, Test L1 Norm: {test_l1_norm:.4f}, \"\n",
    "            f\"Train Linf Norm: {train_linf_norm:.4f}, Test Linf Norm: {test_linf_norm:.4f}\"\n",
    "        )\n",
    "\n",
    "        # Updating the learning rate scheduler with validation loss if applicable\n",
    "        update_scheduler(scheduler, test_loss)\n",
    "\n",
    "        # Reporting the intermediate metric value to Optuna if trial is not None\n",
    "        if trial is not None:\n",
    "            trial.report(test_metrics[-1][\"l1_norm\"], epoch)\n",
    "\n",
    "            # Checking if the trial should be pruned based on the intermediate value if trial is not None\n",
    "            if trial.should_prune():\n",
    "                raise optuna.TrialPruned()\n",
    "\n",
    "    # Closing the SummaryWriter object\n",
    "    writer.close()\n",
    "\n",
    "    # Returning the losses and metrics lists\n",
    "    return train_losses, test_losses, train_metrics, test_metrics"
   ]
  },
  {
   "cell_type": "markdown",
   "metadata": {},
   "source": [
    "## The objective function and hyperparameter tuning"
   ]
  },
  {
   "cell_type": "code",
   "execution_count": 11,
   "metadata": {},
   "outputs": [],
   "source": [
    "# Defining an objective function for Optuna to minimize\n",
    "def objective(trial):\n",
    "    \"\"\"Defines an objective function for Optuna to minimize.\n",
    "\n",
    "    Args:\n",
    "        trial (optuna.trial.Trial): The trial object that contains the hyperparameters.\n",
    "\n",
    "    Returns:\n",
    "        float: The validation L1 norm to minimize.\n",
    "    \"\"\"\n",
    "    # Creating a trial network and optimizer using the create_model function\n",
    "    net, \\\n",
    "    loss_fn, \\\n",
    "    optimizer, \\\n",
    "    batch_size, \\\n",
    "    n_epochs, \\\n",
    "    scheduler, \\\n",
    "    loss_name, \\\n",
    "    optimizer_name, \\\n",
    "    scheduler_name, \\\n",
    "    n_units, \\\n",
    "    n_layers, \\\n",
    "    hidden_activation, \\\n",
    "    output_activation, \\\n",
    "    lr = create_model(trial, optimize=True)\n",
    "\n",
    "    # Training and evaluating the network using the train_and_eval function\n",
    "    _, _, _, test_metrics = train_and_eval(\n",
    "        net, loss_fn, optimizer, batch_size, n_epochs, scheduler, trial\n",
    "    )\n",
    "\n",
    "    # Returning the last validation L1 norm as the objective value to minimize\n",
    "    return test_metrics[-1][\"l1_norm\"]"
   ]
  },
  {
   "cell_type": "code",
   "execution_count": 12,
   "metadata": {},
   "outputs": [],
   "source": [
    "if OPTIMIZE:\n",
    "    # Creating a study object with Optuna with TPE sampler and median pruner \n",
    "    study = optuna.create_study(direction=\"minimize\", sampler=optuna.samplers.TPESampler(), pruner=optuna.pruners.MedianPruner())\n",
    "\n",
    "    # Running Optuna with 100 trials when we are optimizing.\n",
    "    study.optimize(objective, n_trials=N_TRIALS)\n",
    "\n",
    "    # Printing the best trial information\n",
    "    print(\"Best trial:\")\n",
    "    trial = study.best_trial\n",
    "    print(\"  Value: \", trial.value)\n",
    "    print(\"  Params: \")\n",
    "    for key, value in trial.params.items():\n",
    "        print(f\"    {key}: {value}\")\n"
   ]
  },
  {
   "attachments": {},
   "cell_type": "markdown",
   "metadata": {},
   "source": [
    "## Training the model"
   ]
  },
  {
   "cell_type": "code",
   "execution_count": 13,
   "metadata": {},
   "outputs": [],
   "source": [
    "# Creating the best network and optimizer using the best hyperparameters\n",
    "if OPTIMIZE:\n",
    "    net, \\\n",
    "    loss_fn, \\\n",
    "    optimizer, \\\n",
    "    batch_size, \\\n",
    "    n_epochs, \\\n",
    "    scheduler, \\\n",
    "    loss_name, \\\n",
    "    optimizer_name, \\\n",
    "    scheduler_name, \\\n",
    "    n_units, \\\n",
    "    n_layers, \\\n",
    "    hidden_activation, \\\n",
    "    output_activation, \\\n",
    "    lr = create_model(trial, optimize=True)\n",
    "# Creating the network with predefined hyperparameters\n",
    "else:\n",
    "    net, \\\n",
    "    loss_fn, \\\n",
    "    optimizer, \\\n",
    "    batch_size, \\\n",
    "    n_epochs, \\\n",
    "    scheduler, \\\n",
    "    loss_name, \\\n",
    "    optimizer_name, \\\n",
    "    scheduler_name, \\\n",
    "    n_units, \\\n",
    "    n_layers, \\\n",
    "    hidden_activation, \\\n",
    "    output_activation, \\\n",
    "    lr = create_model(trial=None, optimize=False)"
   ]
  },
  {
   "cell_type": "code",
   "execution_count": 14,
   "metadata": {},
   "outputs": [
    {
     "name": "stdout",
     "output_type": "stream",
     "text": [
      "loss_fn: MSELoss()\n",
      "batch_size: 170\n",
      "n_epochs: 400\n",
      "scheduler: <torch.optim.lr_scheduler.ReduceLROnPlateau object at 0x00000213476AA950>\n",
      "loss_name: MSE\n",
      "optimizer_name: Adam\n",
      "scheduler_name: ReduceLROnPlateau\n",
      "n_units: [78, 193, 99]\n",
      "n_layers: 3\n",
      "hidden_activation: ReLU()\n",
      "output_activation: Identity()\n"
     ]
    }
   ],
   "source": [
    "print(\"loss_fn:\", loss_fn)\n",
    "print(\"batch_size:\", batch_size)\n",
    "print(\"n_epochs:\", n_epochs)\n",
    "print(\"scheduler:\", scheduler)\n",
    "print(\"loss_name:\", loss_name)\n",
    "print(\"optimizer_name:\", optimizer_name)\n",
    "print(\"scheduler_name:\", scheduler_name)\n",
    "print(\"n_units:\", n_units)\n",
    "print(\"n_layers:\", n_layers)\n",
    "print(\"hidden_activation:\", hidden_activation)\n",
    "print(\"output_activation:\", output_activation)"
   ]
  },
  {
   "cell_type": "code",
   "execution_count": 15,
   "metadata": {},
   "outputs": [
    {
     "name": "stdout",
     "output_type": "stream",
     "text": [
      "Epoch 1: Train Loss: 0.5263, Test Loss: 0.0006, Train L1 Norm: 0.4642, Test L1 Norm: 0.0493, Train Linf Norm: 45.6907, Test Linf Norm: 4.6627\n",
      "Epoch 2: Train Loss: 0.0003, Test Loss: 0.0002, Train L1 Norm: 0.0441, Test L1 Norm: 0.0232, Train Linf Norm: 4.4984, Test Linf Norm: 1.9287\n",
      "Epoch 3: Train Loss: 0.0002, Test Loss: 0.0003, Train L1 Norm: 0.0284, Test L1 Norm: 0.0309, Train Linf Norm: 2.5006, Test Linf Norm: 2.7786\n",
      "Epoch 4: Train Loss: 0.0003, Test Loss: 0.0001, Train L1 Norm: 0.0312, Test L1 Norm: 0.0172, Train Linf Norm: 3.1452, Test Linf Norm: 1.4688\n",
      "Epoch 5: Train Loss: 0.0003, Test Loss: 0.0003, Train L1 Norm: 0.0296, Test L1 Norm: 0.0190, Train Linf Norm: 2.9799, Test Linf Norm: 1.2752\n",
      "Epoch 6: Train Loss: 0.0003, Test Loss: 0.0001, Train L1 Norm: 0.0322, Test L1 Norm: 0.0162, Train Linf Norm: 3.3922, Test Linf Norm: 1.3241\n",
      "Epoch 7: Train Loss: 0.0008, Test Loss: 0.0001, Train L1 Norm: 0.0360, Test L1 Norm: 0.0137, Train Linf Norm: 3.6823, Test Linf Norm: 1.0932\n",
      "Epoch 8: Train Loss: 0.0007, Test Loss: 0.0001, Train L1 Norm: 0.0305, Test L1 Norm: 0.0271, Train Linf Norm: 3.0331, Test Linf Norm: 2.9744\n",
      "Epoch 9: Train Loss: 0.0002, Test Loss: 0.0001, Train L1 Norm: 0.0239, Test L1 Norm: 0.0129, Train Linf Norm: 2.3949, Test Linf Norm: 1.0612\n",
      "Epoch 10: Train Loss: 0.0005, Test Loss: 0.0022, Train L1 Norm: 0.0311, Test L1 Norm: 0.0295, Train Linf Norm: 3.3937, Test Linf Norm: 2.2027\n",
      "Epoch 11: Train Loss: 0.0014, Test Loss: 0.0001, Train L1 Norm: 0.0304, Test L1 Norm: 0.0121, Train Linf Norm: 2.8554, Test Linf Norm: 0.9810\n",
      "Epoch 12: Train Loss: 0.0001, Test Loss: 0.0001, Train L1 Norm: 0.0201, Test L1 Norm: 0.0113, Train Linf Norm: 2.0440, Test Linf Norm: 0.8601\n",
      "Epoch 13: Train Loss: 0.0005, Test Loss: 0.0013, Train L1 Norm: 0.0273, Test L1 Norm: 0.0353, Train Linf Norm: 2.6017, Test Linf Norm: 2.6308\n",
      "Epoch 14: Train Loss: 0.0007, Test Loss: 0.0001, Train L1 Norm: 0.0268, Test L1 Norm: 0.0167, Train Linf Norm: 2.5805, Test Linf Norm: 1.7308\n",
      "Epoch 15: Train Loss: 0.0008, Test Loss: 0.0123, Train L1 Norm: 0.0261, Test L1 Norm: 0.0488, Train Linf Norm: 2.5715, Test Linf Norm: 2.7543\n",
      "Epoch 16: Train Loss: 0.0006, Test Loss: 0.0001, Train L1 Norm: 0.0304, Test L1 Norm: 0.0140, Train Linf Norm: 3.3257, Test Linf Norm: 1.3064\n",
      "Epoch 17: Train Loss: 0.0004, Test Loss: 0.0001, Train L1 Norm: 0.0213, Test L1 Norm: 0.0113, Train Linf Norm: 1.9882, Test Linf Norm: 0.9181\n",
      "Epoch 18: Train Loss: 0.0001, Test Loss: 0.0001, Train L1 Norm: 0.0143, Test L1 Norm: 0.0110, Train Linf Norm: 1.3775, Test Linf Norm: 0.9915\n",
      "Epoch 19: Train Loss: 0.0001, Test Loss: 0.0005, Train L1 Norm: 0.0162, Test L1 Norm: 0.0204, Train Linf Norm: 1.7004, Test Linf Norm: 1.5054\n",
      "Epoch 20: Train Loss: 0.0001, Test Loss: 0.0000, Train L1 Norm: 0.0153, Test L1 Norm: 0.0099, Train Linf Norm: 1.4542, Test Linf Norm: 0.8282\n",
      "Epoch 21: Train Loss: 0.0001, Test Loss: 0.0000, Train L1 Norm: 0.0141, Test L1 Norm: 0.0099, Train Linf Norm: 1.3172, Test Linf Norm: 0.8611\n",
      "Epoch 22: Train Loss: 0.0002, Test Loss: 0.0001, Train L1 Norm: 0.0185, Test L1 Norm: 0.0113, Train Linf Norm: 1.8282, Test Linf Norm: 0.9753\n",
      "Epoch 23: Train Loss: 0.0001, Test Loss: 0.0001, Train L1 Norm: 0.0181, Test L1 Norm: 0.0115, Train Linf Norm: 1.8452, Test Linf Norm: 1.0459\n",
      "Epoch 24: Train Loss: 0.0002, Test Loss: 0.0000, Train L1 Norm: 0.0193, Test L1 Norm: 0.0092, Train Linf Norm: 1.9615, Test Linf Norm: 0.7932\n",
      "Epoch 25: Train Loss: 0.0001, Test Loss: 0.0001, Train L1 Norm: 0.0151, Test L1 Norm: 0.0113, Train Linf Norm: 1.5172, Test Linf Norm: 0.9390\n",
      "Epoch 26: Train Loss: 0.0003, Test Loss: 0.0000, Train L1 Norm: 0.0173, Test L1 Norm: 0.0091, Train Linf Norm: 1.6274, Test Linf Norm: 0.8469\n",
      "Epoch 27: Train Loss: 0.0001, Test Loss: 0.0001, Train L1 Norm: 0.0129, Test L1 Norm: 0.0129, Train Linf Norm: 1.2751, Test Linf Norm: 1.0895\n",
      "Epoch 28: Train Loss: 0.0004, Test Loss: 0.0000, Train L1 Norm: 0.0204, Test L1 Norm: 0.0111, Train Linf Norm: 1.9822, Test Linf Norm: 1.0779\n",
      "Epoch 29: Train Loss: 0.0000, Test Loss: 0.0000, Train L1 Norm: 0.0125, Test L1 Norm: 0.0092, Train Linf Norm: 1.2868, Test Linf Norm: 0.8487\n",
      "Epoch 30: Train Loss: 0.0002, Test Loss: 0.0000, Train L1 Norm: 0.0181, Test L1 Norm: 0.0089, Train Linf Norm: 1.8732, Test Linf Norm: 0.8209\n",
      "Epoch 31: Train Loss: 0.0001, Test Loss: 0.0001, Train L1 Norm: 0.0144, Test L1 Norm: 0.0079, Train Linf Norm: 1.4516, Test Linf Norm: 0.6478\n",
      "Epoch 32: Train Loss: 0.0003, Test Loss: 0.0000, Train L1 Norm: 0.0263, Test L1 Norm: 0.0087, Train Linf Norm: 3.1410, Test Linf Norm: 0.7610\n",
      "Epoch 33: Train Loss: 0.0000, Test Loss: 0.0001, Train L1 Norm: 0.0108, Test L1 Norm: 0.0106, Train Linf Norm: 1.0561, Test Linf Norm: 0.8996\n",
      "Epoch 34: Train Loss: 0.0001, Test Loss: 0.0002, Train L1 Norm: 0.0157, Test L1 Norm: 0.0112, Train Linf Norm: 1.5257, Test Linf Norm: 0.9279\n",
      "Epoch 35: Train Loss: 0.0001, Test Loss: 0.0000, Train L1 Norm: 0.0178, Test L1 Norm: 0.0121, Train Linf Norm: 1.8956, Test Linf Norm: 1.2310\n",
      "Epoch 36: Train Loss: 0.0001, Test Loss: 0.0001, Train L1 Norm: 0.0145, Test L1 Norm: 0.0106, Train Linf Norm: 1.5200, Test Linf Norm: 0.8889\n",
      "Epoch 37: Train Loss: 0.0000, Test Loss: 0.0000, Train L1 Norm: 0.0114, Test L1 Norm: 0.0078, Train Linf Norm: 1.2438, Test Linf Norm: 0.5681\n",
      "Epoch 38: Train Loss: 0.0000, Test Loss: 0.0001, Train L1 Norm: 0.0113, Test L1 Norm: 0.0086, Train Linf Norm: 1.1754, Test Linf Norm: 0.6235\n",
      "Epoch 39: Train Loss: 0.0000, Test Loss: 0.0000, Train L1 Norm: 0.0110, Test L1 Norm: 0.0100, Train Linf Norm: 1.1083, Test Linf Norm: 0.9420\n",
      "Epoch 40: Train Loss: 0.0000, Test Loss: 0.0000, Train L1 Norm: 0.0128, Test L1 Norm: 0.0070, Train Linf Norm: 1.3799, Test Linf Norm: 0.4886\n",
      "Epoch 41: Train Loss: 0.0001, Test Loss: 0.0000, Train L1 Norm: 0.0124, Test L1 Norm: 0.0071, Train Linf Norm: 1.1972, Test Linf Norm: 0.6002\n",
      "Epoch 42: Train Loss: 0.0000, Test Loss: 0.0000, Train L1 Norm: 0.0118, Test L1 Norm: 0.0069, Train Linf Norm: 1.2723, Test Linf Norm: 0.5424\n",
      "Epoch 43: Train Loss: 0.0000, Test Loss: 0.0000, Train L1 Norm: 0.0108, Test L1 Norm: 0.0066, Train Linf Norm: 1.1242, Test Linf Norm: 0.5197\n",
      "Epoch 44: Train Loss: 0.0000, Test Loss: 0.0000, Train L1 Norm: 0.0114, Test L1 Norm: 0.0087, Train Linf Norm: 1.1956, Test Linf Norm: 0.7206\n",
      "Epoch 45: Train Loss: 0.0001, Test Loss: 0.0000, Train L1 Norm: 0.0136, Test L1 Norm: 0.0084, Train Linf Norm: 1.4262, Test Linf Norm: 0.6986\n",
      "Epoch 46: Train Loss: 0.0000, Test Loss: 0.0000, Train L1 Norm: 0.0132, Test L1 Norm: 0.0071, Train Linf Norm: 1.4477, Test Linf Norm: 0.5712\n",
      "Epoch 47: Train Loss: 0.0001, Test Loss: 0.0002, Train L1 Norm: 0.0124, Test L1 Norm: 0.0095, Train Linf Norm: 1.2794, Test Linf Norm: 0.6541\n",
      "Epoch 48: Train Loss: 0.0000, Test Loss: 0.0000, Train L1 Norm: 0.0159, Test L1 Norm: 0.0075, Train Linf Norm: 1.8969, Test Linf Norm: 0.6184\n",
      "Epoch 49: Train Loss: 0.0000, Test Loss: 0.0000, Train L1 Norm: 0.0133, Test L1 Norm: 0.0066, Train Linf Norm: 1.4966, Test Linf Norm: 0.5222\n",
      "Epoch 50: Train Loss: 0.0001, Test Loss: 0.0000, Train L1 Norm: 0.0121, Test L1 Norm: 0.0061, Train Linf Norm: 1.2425, Test Linf Norm: 0.4899\n",
      "Epoch 51: Train Loss: 0.0000, Test Loss: 0.0000, Train L1 Norm: 0.0100, Test L1 Norm: 0.0061, Train Linf Norm: 0.9872, Test Linf Norm: 0.4649\n",
      "Epoch 52: Train Loss: 0.0000, Test Loss: 0.0001, Train L1 Norm: 0.0111, Test L1 Norm: 0.0097, Train Linf Norm: 1.1273, Test Linf Norm: 0.8278\n",
      "Epoch 53: Train Loss: 0.0000, Test Loss: 0.0000, Train L1 Norm: 0.0110, Test L1 Norm: 0.0058, Train Linf Norm: 1.0527, Test Linf Norm: 0.4314\n",
      "Epoch 54: Train Loss: 0.0001, Test Loss: 0.0002, Train L1 Norm: 0.0124, Test L1 Norm: 0.0096, Train Linf Norm: 1.3076, Test Linf Norm: 0.5388\n",
      "Epoch 55: Train Loss: 0.0001, Test Loss: 0.0000, Train L1 Norm: 0.0108, Test L1 Norm: 0.0065, Train Linf Norm: 1.0757, Test Linf Norm: 0.5377\n",
      "Epoch 56: Train Loss: 0.0000, Test Loss: 0.0000, Train L1 Norm: 0.0104, Test L1 Norm: 0.0067, Train Linf Norm: 1.0634, Test Linf Norm: 0.5826\n",
      "Epoch 57: Train Loss: 0.0000, Test Loss: 0.0000, Train L1 Norm: 0.0102, Test L1 Norm: 0.0062, Train Linf Norm: 1.0293, Test Linf Norm: 0.5204\n",
      "Epoch 58: Train Loss: 0.0000, Test Loss: 0.0000, Train L1 Norm: 0.0091, Test L1 Norm: 0.0051, Train Linf Norm: 0.9576, Test Linf Norm: 0.3811\n",
      "Epoch 59: Train Loss: 0.0000, Test Loss: 0.0001, Train L1 Norm: 0.0092, Test L1 Norm: 0.0105, Train Linf Norm: 0.9747, Test Linf Norm: 0.9152\n",
      "Epoch 60: Train Loss: 0.0000, Test Loss: 0.0000, Train L1 Norm: 0.0096, Test L1 Norm: 0.0079, Train Linf Norm: 0.9962, Test Linf Norm: 0.6538\n",
      "Epoch 61: Train Loss: 0.0000, Test Loss: 0.0000, Train L1 Norm: 0.0093, Test L1 Norm: 0.0060, Train Linf Norm: 0.9252, Test Linf Norm: 0.4729\n",
      "Epoch 62: Train Loss: 0.0000, Test Loss: 0.0000, Train L1 Norm: 0.0095, Test L1 Norm: 0.0081, Train Linf Norm: 0.9956, Test Linf Norm: 0.7464\n",
      "Epoch 63: Train Loss: 0.0000, Test Loss: 0.0000, Train L1 Norm: 0.0086, Test L1 Norm: 0.0054, Train Linf Norm: 0.8727, Test Linf Norm: 0.3790\n",
      "Epoch 64: Train Loss: 0.0000, Test Loss: 0.0000, Train L1 Norm: 0.0088, Test L1 Norm: 0.0059, Train Linf Norm: 0.8766, Test Linf Norm: 0.4849\n",
      "Epoch 65: Train Loss: 0.0000, Test Loss: 0.0000, Train L1 Norm: 0.0087, Test L1 Norm: 0.0060, Train Linf Norm: 0.9376, Test Linf Norm: 0.5354\n",
      "Epoch 66: Train Loss: 0.0000, Test Loss: 0.0000, Train L1 Norm: 0.0084, Test L1 Norm: 0.0058, Train Linf Norm: 0.8828, Test Linf Norm: 0.4960\n",
      "Epoch 67: Train Loss: 0.0000, Test Loss: 0.0000, Train L1 Norm: 0.0090, Test L1 Norm: 0.0056, Train Linf Norm: 0.9775, Test Linf Norm: 0.4668\n",
      "Epoch 68: Train Loss: 0.0000, Test Loss: 0.0000, Train L1 Norm: 0.0084, Test L1 Norm: 0.0051, Train Linf Norm: 0.8583, Test Linf Norm: 0.3494\n",
      "Epoch 69: Train Loss: 0.0000, Test Loss: 0.0000, Train L1 Norm: 0.0085, Test L1 Norm: 0.0051, Train Linf Norm: 0.8954, Test Linf Norm: 0.4063\n",
      "Epoch 70: Train Loss: 0.0000, Test Loss: 0.0000, Train L1 Norm: 0.0080, Test L1 Norm: 0.0068, Train Linf Norm: 0.8167, Test Linf Norm: 0.6178\n",
      "Epoch 71: Train Loss: 0.0000, Test Loss: 0.0000, Train L1 Norm: 0.0082, Test L1 Norm: 0.0054, Train Linf Norm: 0.8525, Test Linf Norm: 0.3809\n",
      "Epoch 72: Train Loss: 0.0000, Test Loss: 0.0000, Train L1 Norm: 0.0087, Test L1 Norm: 0.0067, Train Linf Norm: 0.9240, Test Linf Norm: 0.6123\n",
      "Epoch 73: Train Loss: 0.0000, Test Loss: 0.0000, Train L1 Norm: 0.0086, Test L1 Norm: 0.0061, Train Linf Norm: 0.9040, Test Linf Norm: 0.4231\n",
      "Epoch 74: Train Loss: 0.0000, Test Loss: 0.0000, Train L1 Norm: 0.0079, Test L1 Norm: 0.0049, Train Linf Norm: 0.7989, Test Linf Norm: 0.3707\n",
      "Epoch 75: Train Loss: 0.0000, Test Loss: 0.0000, Train L1 Norm: 0.0083, Test L1 Norm: 0.0056, Train Linf Norm: 0.8617, Test Linf Norm: 0.4804\n",
      "Epoch 76: Train Loss: 0.0000, Test Loss: 0.0000, Train L1 Norm: 0.0077, Test L1 Norm: 0.0051, Train Linf Norm: 0.7817, Test Linf Norm: 0.4039\n",
      "Epoch 77: Train Loss: 0.0000, Test Loss: 0.0000, Train L1 Norm: 0.0071, Test L1 Norm: 0.0053, Train Linf Norm: 0.7012, Test Linf Norm: 0.4422\n",
      "Epoch 78: Train Loss: 0.0000, Test Loss: 0.0000, Train L1 Norm: 0.0076, Test L1 Norm: 0.0050, Train Linf Norm: 0.7598, Test Linf Norm: 0.3584\n",
      "Epoch 79: Train Loss: 0.0000, Test Loss: 0.0000, Train L1 Norm: 0.0074, Test L1 Norm: 0.0049, Train Linf Norm: 0.7284, Test Linf Norm: 0.3712\n",
      "Epoch 80: Train Loss: 0.0000, Test Loss: 0.0000, Train L1 Norm: 0.0081, Test L1 Norm: 0.0050, Train Linf Norm: 0.8381, Test Linf Norm: 0.3992\n",
      "Epoch 81: Train Loss: 0.0000, Test Loss: 0.0000, Train L1 Norm: 0.0072, Test L1 Norm: 0.0049, Train Linf Norm: 0.6817, Test Linf Norm: 0.3731\n",
      "Epoch 82: Train Loss: 0.0000, Test Loss: 0.0000, Train L1 Norm: 0.0072, Test L1 Norm: 0.0049, Train Linf Norm: 0.7119, Test Linf Norm: 0.3699\n",
      "Epoch 83: Train Loss: 0.0000, Test Loss: 0.0000, Train L1 Norm: 0.0081, Test L1 Norm: 0.0049, Train Linf Norm: 0.8796, Test Linf Norm: 0.3733\n",
      "Epoch 84: Train Loss: 0.0000, Test Loss: 0.0000, Train L1 Norm: 0.0076, Test L1 Norm: 0.0048, Train Linf Norm: 0.7389, Test Linf Norm: 0.3709\n",
      "Epoch 85: Train Loss: 0.0000, Test Loss: 0.0000, Train L1 Norm: 0.0072, Test L1 Norm: 0.0051, Train Linf Norm: 0.6998, Test Linf Norm: 0.4292\n",
      "Epoch 86: Train Loss: 0.0000, Test Loss: 0.0000, Train L1 Norm: 0.0078, Test L1 Norm: 0.0048, Train Linf Norm: 0.8012, Test Linf Norm: 0.3669\n",
      "Epoch 87: Train Loss: 0.0000, Test Loss: 0.0000, Train L1 Norm: 0.0075, Test L1 Norm: 0.0050, Train Linf Norm: 0.7586, Test Linf Norm: 0.3869\n",
      "Epoch 88: Train Loss: 0.0000, Test Loss: 0.0000, Train L1 Norm: 0.0078, Test L1 Norm: 0.0055, Train Linf Norm: 0.8096, Test Linf Norm: 0.4751\n",
      "Epoch 89: Train Loss: 0.0000, Test Loss: 0.0000, Train L1 Norm: 0.0075, Test L1 Norm: 0.0058, Train Linf Norm: 0.7762, Test Linf Norm: 0.4853\n",
      "Epoch 90: Train Loss: 0.0000, Test Loss: 0.0000, Train L1 Norm: 0.0073, Test L1 Norm: 0.0052, Train Linf Norm: 0.7456, Test Linf Norm: 0.4357\n",
      "Epoch 91: Train Loss: 0.0000, Test Loss: 0.0000, Train L1 Norm: 0.0074, Test L1 Norm: 0.0053, Train Linf Norm: 0.7349, Test Linf Norm: 0.4582\n",
      "Epoch 92: Train Loss: 0.0000, Test Loss: 0.0000, Train L1 Norm: 0.0073, Test L1 Norm: 0.0050, Train Linf Norm: 0.7401, Test Linf Norm: 0.3942\n",
      "Epoch 93: Train Loss: 0.0000, Test Loss: 0.0000, Train L1 Norm: 0.0074, Test L1 Norm: 0.0051, Train Linf Norm: 0.7615, Test Linf Norm: 0.4109\n",
      "Epoch 94: Train Loss: 0.0000, Test Loss: 0.0000, Train L1 Norm: 0.0074, Test L1 Norm: 0.0053, Train Linf Norm: 0.7656, Test Linf Norm: 0.4353\n",
      "Epoch 95: Train Loss: 0.0000, Test Loss: 0.0000, Train L1 Norm: 0.0072, Test L1 Norm: 0.0052, Train Linf Norm: 0.7103, Test Linf Norm: 0.4295\n",
      "Epoch 96: Train Loss: 0.0000, Test Loss: 0.0000, Train L1 Norm: 0.0075, Test L1 Norm: 0.0051, Train Linf Norm: 0.7492, Test Linf Norm: 0.4219\n",
      "Epoch 97: Train Loss: 0.0000, Test Loss: 0.0000, Train L1 Norm: 0.0072, Test L1 Norm: 0.0051, Train Linf Norm: 0.7390, Test Linf Norm: 0.3730\n",
      "Epoch 98: Train Loss: 0.0000, Test Loss: 0.0000, Train L1 Norm: 0.0070, Test L1 Norm: 0.0051, Train Linf Norm: 0.6918, Test Linf Norm: 0.4207\n",
      "Epoch 99: Train Loss: 0.0000, Test Loss: 0.0000, Train L1 Norm: 0.0069, Test L1 Norm: 0.0053, Train Linf Norm: 0.6830, Test Linf Norm: 0.4623\n",
      "Epoch 100: Train Loss: 0.0000, Test Loss: 0.0000, Train L1 Norm: 0.0070, Test L1 Norm: 0.0054, Train Linf Norm: 0.6578, Test Linf Norm: 0.4758\n",
      "Epoch 101: Train Loss: 0.0000, Test Loss: 0.0000, Train L1 Norm: 0.0070, Test L1 Norm: 0.0050, Train Linf Norm: 0.6609, Test Linf Norm: 0.4090\n",
      "Epoch 102: Train Loss: 0.0000, Test Loss: 0.0000, Train L1 Norm: 0.0070, Test L1 Norm: 0.0050, Train Linf Norm: 0.7032, Test Linf Norm: 0.4045\n",
      "Epoch 103: Train Loss: 0.0000, Test Loss: 0.0000, Train L1 Norm: 0.0071, Test L1 Norm: 0.0050, Train Linf Norm: 0.7157, Test Linf Norm: 0.3969\n",
      "Epoch 104: Train Loss: 0.0000, Test Loss: 0.0000, Train L1 Norm: 0.0069, Test L1 Norm: 0.0050, Train Linf Norm: 0.6919, Test Linf Norm: 0.4086\n",
      "Epoch 105: Train Loss: 0.0000, Test Loss: 0.0000, Train L1 Norm: 0.0070, Test L1 Norm: 0.0051, Train Linf Norm: 0.7020, Test Linf Norm: 0.3932\n",
      "Epoch 106: Train Loss: 0.0000, Test Loss: 0.0000, Train L1 Norm: 0.0068, Test L1 Norm: 0.0052, Train Linf Norm: 0.6754, Test Linf Norm: 0.4406\n",
      "Epoch 107: Train Loss: 0.0000, Test Loss: 0.0000, Train L1 Norm: 0.0068, Test L1 Norm: 0.0051, Train Linf Norm: 0.6784, Test Linf Norm: 0.4339\n",
      "Epoch 108: Train Loss: 0.0000, Test Loss: 0.0000, Train L1 Norm: 0.0068, Test L1 Norm: 0.0051, Train Linf Norm: 0.6813, Test Linf Norm: 0.4110\n",
      "Epoch 109: Train Loss: 0.0000, Test Loss: 0.0000, Train L1 Norm: 0.0068, Test L1 Norm: 0.0051, Train Linf Norm: 0.6756, Test Linf Norm: 0.4310\n",
      "Epoch 110: Train Loss: 0.0000, Test Loss: 0.0000, Train L1 Norm: 0.0068, Test L1 Norm: 0.0051, Train Linf Norm: 0.6786, Test Linf Norm: 0.4373\n",
      "Epoch 111: Train Loss: 0.0000, Test Loss: 0.0000, Train L1 Norm: 0.0070, Test L1 Norm: 0.0051, Train Linf Norm: 0.7109, Test Linf Norm: 0.4357\n",
      "Epoch 112: Train Loss: 0.0000, Test Loss: 0.0000, Train L1 Norm: 0.0068, Test L1 Norm: 0.0052, Train Linf Norm: 0.6849, Test Linf Norm: 0.4452\n",
      "Epoch 113: Train Loss: 0.0000, Test Loss: 0.0000, Train L1 Norm: 0.0067, Test L1 Norm: 0.0052, Train Linf Norm: 0.6662, Test Linf Norm: 0.4376\n",
      "Epoch 114: Train Loss: 0.0000, Test Loss: 0.0000, Train L1 Norm: 0.0070, Test L1 Norm: 0.0050, Train Linf Norm: 0.7134, Test Linf Norm: 0.4059\n",
      "Epoch 115: Train Loss: 0.0000, Test Loss: 0.0000, Train L1 Norm: 0.0070, Test L1 Norm: 0.0054, Train Linf Norm: 0.7244, Test Linf Norm: 0.4826\n",
      "Epoch 116: Train Loss: 0.0000, Test Loss: 0.0000, Train L1 Norm: 0.0068, Test L1 Norm: 0.0051, Train Linf Norm: 0.6671, Test Linf Norm: 0.4295\n",
      "Epoch 117: Train Loss: 0.0000, Test Loss: 0.0000, Train L1 Norm: 0.0069, Test L1 Norm: 0.0053, Train Linf Norm: 0.6969, Test Linf Norm: 0.4673\n",
      "Epoch 118: Train Loss: 0.0000, Test Loss: 0.0000, Train L1 Norm: 0.0071, Test L1 Norm: 0.0054, Train Linf Norm: 0.7264, Test Linf Norm: 0.4928\n",
      "Epoch 119: Train Loss: 0.0000, Test Loss: 0.0000, Train L1 Norm: 0.0066, Test L1 Norm: 0.0052, Train Linf Norm: 0.6488, Test Linf Norm: 0.4406\n",
      "Epoch 120: Train Loss: 0.0000, Test Loss: 0.0000, Train L1 Norm: 0.0069, Test L1 Norm: 0.0052, Train Linf Norm: 0.6726, Test Linf Norm: 0.4464\n",
      "Epoch 121: Train Loss: 0.0000, Test Loss: 0.0000, Train L1 Norm: 0.0070, Test L1 Norm: 0.0052, Train Linf Norm: 0.7231, Test Linf Norm: 0.4523\n",
      "Epoch 122: Train Loss: 0.0000, Test Loss: 0.0000, Train L1 Norm: 0.0069, Test L1 Norm: 0.0052, Train Linf Norm: 0.7046, Test Linf Norm: 0.4435\n",
      "Epoch 123: Train Loss: 0.0000, Test Loss: 0.0000, Train L1 Norm: 0.0068, Test L1 Norm: 0.0053, Train Linf Norm: 0.6772, Test Linf Norm: 0.4729\n",
      "Epoch 124: Train Loss: 0.0000, Test Loss: 0.0000, Train L1 Norm: 0.0070, Test L1 Norm: 0.0055, Train Linf Norm: 0.7004, Test Linf Norm: 0.5085\n",
      "Epoch 125: Train Loss: 0.0000, Test Loss: 0.0000, Train L1 Norm: 0.0068, Test L1 Norm: 0.0051, Train Linf Norm: 0.6926, Test Linf Norm: 0.4279\n",
      "Epoch 126: Train Loss: 0.0000, Test Loss: 0.0000, Train L1 Norm: 0.0068, Test L1 Norm: 0.0052, Train Linf Norm: 0.7031, Test Linf Norm: 0.4463\n",
      "Epoch 127: Train Loss: 0.0000, Test Loss: 0.0000, Train L1 Norm: 0.0067, Test L1 Norm: 0.0053, Train Linf Norm: 0.6759, Test Linf Norm: 0.4723\n",
      "Epoch 128: Train Loss: 0.0000, Test Loss: 0.0000, Train L1 Norm: 0.0067, Test L1 Norm: 0.0053, Train Linf Norm: 0.6820, Test Linf Norm: 0.4801\n",
      "Epoch 129: Train Loss: 0.0000, Test Loss: 0.0000, Train L1 Norm: 0.0067, Test L1 Norm: 0.0054, Train Linf Norm: 0.6694, Test Linf Norm: 0.4879\n",
      "Epoch 130: Train Loss: 0.0000, Test Loss: 0.0000, Train L1 Norm: 0.0066, Test L1 Norm: 0.0052, Train Linf Norm: 0.6620, Test Linf Norm: 0.4567\n",
      "Epoch 131: Train Loss: 0.0000, Test Loss: 0.0000, Train L1 Norm: 0.0067, Test L1 Norm: 0.0053, Train Linf Norm: 0.6732, Test Linf Norm: 0.4693\n",
      "Epoch 132: Train Loss: 0.0000, Test Loss: 0.0000, Train L1 Norm: 0.0067, Test L1 Norm: 0.0052, Train Linf Norm: 0.6448, Test Linf Norm: 0.4270\n",
      "Epoch 133: Train Loss: 0.0000, Test Loss: 0.0000, Train L1 Norm: 0.0066, Test L1 Norm: 0.0052, Train Linf Norm: 0.6642, Test Linf Norm: 0.4581\n",
      "Epoch 134: Train Loss: 0.0000, Test Loss: 0.0000, Train L1 Norm: 0.0066, Test L1 Norm: 0.0053, Train Linf Norm: 0.6578, Test Linf Norm: 0.4685\n",
      "Epoch 135: Train Loss: 0.0000, Test Loss: 0.0000, Train L1 Norm: 0.0067, Test L1 Norm: 0.0052, Train Linf Norm: 0.6779, Test Linf Norm: 0.4444\n",
      "Epoch 136: Train Loss: 0.0000, Test Loss: 0.0000, Train L1 Norm: 0.0066, Test L1 Norm: 0.0053, Train Linf Norm: 0.6459, Test Linf Norm: 0.4698\n",
      "Epoch 137: Train Loss: 0.0000, Test Loss: 0.0000, Train L1 Norm: 0.0066, Test L1 Norm: 0.0052, Train Linf Norm: 0.6507, Test Linf Norm: 0.4622\n",
      "Epoch 138: Train Loss: 0.0000, Test Loss: 0.0000, Train L1 Norm: 0.0067, Test L1 Norm: 0.0052, Train Linf Norm: 0.6499, Test Linf Norm: 0.4436\n",
      "Epoch 139: Train Loss: 0.0000, Test Loss: 0.0000, Train L1 Norm: 0.0066, Test L1 Norm: 0.0052, Train Linf Norm: 0.6573, Test Linf Norm: 0.4586\n",
      "Epoch 140: Train Loss: 0.0000, Test Loss: 0.0000, Train L1 Norm: 0.0065, Test L1 Norm: 0.0052, Train Linf Norm: 0.6410, Test Linf Norm: 0.4462\n",
      "Epoch 141: Train Loss: 0.0000, Test Loss: 0.0000, Train L1 Norm: 0.0068, Test L1 Norm: 0.0052, Train Linf Norm: 0.6961, Test Linf Norm: 0.4596\n",
      "Epoch 142: Train Loss: 0.0000, Test Loss: 0.0000, Train L1 Norm: 0.0066, Test L1 Norm: 0.0052, Train Linf Norm: 0.6576, Test Linf Norm: 0.4460\n",
      "Epoch 143: Train Loss: 0.0000, Test Loss: 0.0000, Train L1 Norm: 0.0066, Test L1 Norm: 0.0052, Train Linf Norm: 0.6525, Test Linf Norm: 0.4565\n",
      "Epoch 144: Train Loss: 0.0000, Test Loss: 0.0000, Train L1 Norm: 0.0066, Test L1 Norm: 0.0052, Train Linf Norm: 0.6555, Test Linf Norm: 0.4602\n",
      "Epoch 145: Train Loss: 0.0000, Test Loss: 0.0000, Train L1 Norm: 0.0065, Test L1 Norm: 0.0052, Train Linf Norm: 0.6549, Test Linf Norm: 0.4514\n",
      "Epoch 146: Train Loss: 0.0000, Test Loss: 0.0000, Train L1 Norm: 0.0068, Test L1 Norm: 0.0053, Train Linf Norm: 0.6930, Test Linf Norm: 0.4673\n",
      "Epoch 147: Train Loss: 0.0000, Test Loss: 0.0000, Train L1 Norm: 0.0066, Test L1 Norm: 0.0052, Train Linf Norm: 0.6688, Test Linf Norm: 0.4405\n",
      "Epoch 148: Train Loss: 0.0000, Test Loss: 0.0000, Train L1 Norm: 0.0067, Test L1 Norm: 0.0052, Train Linf Norm: 0.6674, Test Linf Norm: 0.4548\n",
      "Epoch 149: Train Loss: 0.0000, Test Loss: 0.0000, Train L1 Norm: 0.0066, Test L1 Norm: 0.0054, Train Linf Norm: 0.6695, Test Linf Norm: 0.4821\n",
      "Epoch 150: Train Loss: 0.0000, Test Loss: 0.0000, Train L1 Norm: 0.0066, Test L1 Norm: 0.0053, Train Linf Norm: 0.6716, Test Linf Norm: 0.4725\n",
      "Epoch 151: Train Loss: 0.0000, Test Loss: 0.0000, Train L1 Norm: 0.0067, Test L1 Norm: 0.0053, Train Linf Norm: 0.6732, Test Linf Norm: 0.4817\n",
      "Epoch 152: Train Loss: 0.0000, Test Loss: 0.0000, Train L1 Norm: 0.0066, Test L1 Norm: 0.0053, Train Linf Norm: 0.6748, Test Linf Norm: 0.4707\n",
      "Epoch 153: Train Loss: 0.0000, Test Loss: 0.0000, Train L1 Norm: 0.0067, Test L1 Norm: 0.0053, Train Linf Norm: 0.6719, Test Linf Norm: 0.4755\n",
      "Epoch 154: Train Loss: 0.0000, Test Loss: 0.0000, Train L1 Norm: 0.0066, Test L1 Norm: 0.0054, Train Linf Norm: 0.6552, Test Linf Norm: 0.4906\n",
      "Epoch 155: Train Loss: 0.0000, Test Loss: 0.0000, Train L1 Norm: 0.0066, Test L1 Norm: 0.0053, Train Linf Norm: 0.6535, Test Linf Norm: 0.4698\n",
      "Epoch 156: Train Loss: 0.0000, Test Loss: 0.0000, Train L1 Norm: 0.0065, Test L1 Norm: 0.0054, Train Linf Norm: 0.6524, Test Linf Norm: 0.4837\n",
      "Epoch 157: Train Loss: 0.0000, Test Loss: 0.0000, Train L1 Norm: 0.0067, Test L1 Norm: 0.0052, Train Linf Norm: 0.6706, Test Linf Norm: 0.4612\n",
      "Epoch 158: Train Loss: 0.0000, Test Loss: 0.0000, Train L1 Norm: 0.0066, Test L1 Norm: 0.0054, Train Linf Norm: 0.6516, Test Linf Norm: 0.4903\n",
      "Epoch 159: Train Loss: 0.0000, Test Loss: 0.0000, Train L1 Norm: 0.0066, Test L1 Norm: 0.0054, Train Linf Norm: 0.6395, Test Linf Norm: 0.4988\n",
      "Epoch 160: Train Loss: 0.0000, Test Loss: 0.0000, Train L1 Norm: 0.0066, Test L1 Norm: 0.0052, Train Linf Norm: 0.6697, Test Linf Norm: 0.4611\n",
      "Epoch 161: Train Loss: 0.0000, Test Loss: 0.0000, Train L1 Norm: 0.0067, Test L1 Norm: 0.0052, Train Linf Norm: 0.6888, Test Linf Norm: 0.4610\n",
      "Epoch 162: Train Loss: 0.0000, Test Loss: 0.0000, Train L1 Norm: 0.0067, Test L1 Norm: 0.0052, Train Linf Norm: 0.6831, Test Linf Norm: 0.4588\n",
      "Epoch 163: Train Loss: 0.0000, Test Loss: 0.0000, Train L1 Norm: 0.0065, Test L1 Norm: 0.0054, Train Linf Norm: 0.6402, Test Linf Norm: 0.4930\n",
      "Epoch 164: Train Loss: 0.0000, Test Loss: 0.0000, Train L1 Norm: 0.0066, Test L1 Norm: 0.0052, Train Linf Norm: 0.6644, Test Linf Norm: 0.4567\n",
      "Epoch 165: Train Loss: 0.0000, Test Loss: 0.0000, Train L1 Norm: 0.0066, Test L1 Norm: 0.0053, Train Linf Norm: 0.6525, Test Linf Norm: 0.4607\n",
      "Epoch 166: Train Loss: 0.0000, Test Loss: 0.0000, Train L1 Norm: 0.0065, Test L1 Norm: 0.0054, Train Linf Norm: 0.6475, Test Linf Norm: 0.4848\n",
      "Epoch 167: Train Loss: 0.0000, Test Loss: 0.0000, Train L1 Norm: 0.0065, Test L1 Norm: 0.0053, Train Linf Norm: 0.6456, Test Linf Norm: 0.4803\n",
      "Epoch 168: Train Loss: 0.0000, Test Loss: 0.0000, Train L1 Norm: 0.0065, Test L1 Norm: 0.0053, Train Linf Norm: 0.6584, Test Linf Norm: 0.4797\n",
      "Epoch 169: Train Loss: 0.0000, Test Loss: 0.0000, Train L1 Norm: 0.0066, Test L1 Norm: 0.0053, Train Linf Norm: 0.6628, Test Linf Norm: 0.4717\n",
      "Epoch 170: Train Loss: 0.0000, Test Loss: 0.0000, Train L1 Norm: 0.0066, Test L1 Norm: 0.0053, Train Linf Norm: 0.6628, Test Linf Norm: 0.4775\n",
      "Epoch 171: Train Loss: 0.0000, Test Loss: 0.0000, Train L1 Norm: 0.0066, Test L1 Norm: 0.0053, Train Linf Norm: 0.6655, Test Linf Norm: 0.4705\n",
      "Epoch 172: Train Loss: 0.0000, Test Loss: 0.0000, Train L1 Norm: 0.0066, Test L1 Norm: 0.0054, Train Linf Norm: 0.6515, Test Linf Norm: 0.4891\n",
      "Epoch 173: Train Loss: 0.0000, Test Loss: 0.0000, Train L1 Norm: 0.0066, Test L1 Norm: 0.0053, Train Linf Norm: 0.6757, Test Linf Norm: 0.4723\n",
      "Epoch 174: Train Loss: 0.0000, Test Loss: 0.0000, Train L1 Norm: 0.0067, Test L1 Norm: 0.0054, Train Linf Norm: 0.6696, Test Linf Norm: 0.4819\n",
      "Epoch 175: Train Loss: 0.0000, Test Loss: 0.0000, Train L1 Norm: 0.0066, Test L1 Norm: 0.0053, Train Linf Norm: 0.6648, Test Linf Norm: 0.4788\n",
      "Epoch 176: Train Loss: 0.0000, Test Loss: 0.0000, Train L1 Norm: 0.0065, Test L1 Norm: 0.0054, Train Linf Norm: 0.6515, Test Linf Norm: 0.4987\n",
      "Epoch 177: Train Loss: 0.0000, Test Loss: 0.0000, Train L1 Norm: 0.0066, Test L1 Norm: 0.0053, Train Linf Norm: 0.6581, Test Linf Norm: 0.4705\n",
      "Epoch 178: Train Loss: 0.0000, Test Loss: 0.0000, Train L1 Norm: 0.0066, Test L1 Norm: 0.0052, Train Linf Norm: 0.6629, Test Linf Norm: 0.4589\n",
      "Epoch 179: Train Loss: 0.0000, Test Loss: 0.0000, Train L1 Norm: 0.0066, Test L1 Norm: 0.0052, Train Linf Norm: 0.6653, Test Linf Norm: 0.4579\n",
      "Epoch 180: Train Loss: 0.0000, Test Loss: 0.0000, Train L1 Norm: 0.0066, Test L1 Norm: 0.0053, Train Linf Norm: 0.6742, Test Linf Norm: 0.4753\n",
      "Epoch 181: Train Loss: 0.0000, Test Loss: 0.0000, Train L1 Norm: 0.0065, Test L1 Norm: 0.0053, Train Linf Norm: 0.6538, Test Linf Norm: 0.4702\n",
      "Epoch 182: Train Loss: 0.0000, Test Loss: 0.0000, Train L1 Norm: 0.0066, Test L1 Norm: 0.0053, Train Linf Norm: 0.6494, Test Linf Norm: 0.4690\n",
      "Epoch 183: Train Loss: 0.0000, Test Loss: 0.0000, Train L1 Norm: 0.0065, Test L1 Norm: 0.0053, Train Linf Norm: 0.6454, Test Linf Norm: 0.4646\n",
      "Epoch 184: Train Loss: 0.0000, Test Loss: 0.0000, Train L1 Norm: 0.0065, Test L1 Norm: 0.0055, Train Linf Norm: 0.6447, Test Linf Norm: 0.5034\n",
      "Epoch 185: Train Loss: 0.0000, Test Loss: 0.0000, Train L1 Norm: 0.0065, Test L1 Norm: 0.0053, Train Linf Norm: 0.6423, Test Linf Norm: 0.4657\n",
      "Epoch 186: Train Loss: 0.0000, Test Loss: 0.0000, Train L1 Norm: 0.0065, Test L1 Norm: 0.0054, Train Linf Norm: 0.6542, Test Linf Norm: 0.5019\n",
      "Epoch 187: Train Loss: 0.0000, Test Loss: 0.0000, Train L1 Norm: 0.0066, Test L1 Norm: 0.0054, Train Linf Norm: 0.6455, Test Linf Norm: 0.4886\n",
      "Epoch 188: Train Loss: 0.0000, Test Loss: 0.0000, Train L1 Norm: 0.0064, Test L1 Norm: 0.0053, Train Linf Norm: 0.6327, Test Linf Norm: 0.4734\n",
      "Epoch 189: Train Loss: 0.0000, Test Loss: 0.0000, Train L1 Norm: 0.0067, Test L1 Norm: 0.0053, Train Linf Norm: 0.6773, Test Linf Norm: 0.4677\n",
      "Epoch 190: Train Loss: 0.0000, Test Loss: 0.0000, Train L1 Norm: 0.0066, Test L1 Norm: 0.0054, Train Linf Norm: 0.6569, Test Linf Norm: 0.4921\n",
      "Epoch 191: Train Loss: 0.0000, Test Loss: 0.0000, Train L1 Norm: 0.0066, Test L1 Norm: 0.0053, Train Linf Norm: 0.6560, Test Linf Norm: 0.4629\n",
      "Epoch 192: Train Loss: 0.0000, Test Loss: 0.0000, Train L1 Norm: 0.0066, Test L1 Norm: 0.0054, Train Linf Norm: 0.6658, Test Linf Norm: 0.4968\n",
      "Epoch 193: Train Loss: 0.0000, Test Loss: 0.0000, Train L1 Norm: 0.0066, Test L1 Norm: 0.0053, Train Linf Norm: 0.6657, Test Linf Norm: 0.4809\n",
      "Epoch 194: Train Loss: 0.0000, Test Loss: 0.0000, Train L1 Norm: 0.0067, Test L1 Norm: 0.0054, Train Linf Norm: 0.6834, Test Linf Norm: 0.4961\n",
      "Epoch 195: Train Loss: 0.0000, Test Loss: 0.0000, Train L1 Norm: 0.0066, Test L1 Norm: 0.0054, Train Linf Norm: 0.6735, Test Linf Norm: 0.4837\n",
      "Epoch 196: Train Loss: 0.0000, Test Loss: 0.0000, Train L1 Norm: 0.0067, Test L1 Norm: 0.0054, Train Linf Norm: 0.6730, Test Linf Norm: 0.4844\n",
      "Epoch 197: Train Loss: 0.0000, Test Loss: 0.0000, Train L1 Norm: 0.0067, Test L1 Norm: 0.0053, Train Linf Norm: 0.6597, Test Linf Norm: 0.4760\n",
      "Epoch 198: Train Loss: 0.0000, Test Loss: 0.0000, Train L1 Norm: 0.0066, Test L1 Norm: 0.0053, Train Linf Norm: 0.6618, Test Linf Norm: 0.4816\n",
      "Epoch 199: Train Loss: 0.0000, Test Loss: 0.0000, Train L1 Norm: 0.0065, Test L1 Norm: 0.0054, Train Linf Norm: 0.6368, Test Linf Norm: 0.4973\n",
      "Epoch 200: Train Loss: 0.0000, Test Loss: 0.0000, Train L1 Norm: 0.0066, Test L1 Norm: 0.0053, Train Linf Norm: 0.6442, Test Linf Norm: 0.4655\n",
      "Epoch 201: Train Loss: 0.0000, Test Loss: 0.0000, Train L1 Norm: 0.0065, Test L1 Norm: 0.0054, Train Linf Norm: 0.6500, Test Linf Norm: 0.4938\n",
      "Epoch 202: Train Loss: 0.0000, Test Loss: 0.0000, Train L1 Norm: 0.0067, Test L1 Norm: 0.0055, Train Linf Norm: 0.6650, Test Linf Norm: 0.5145\n",
      "Epoch 203: Train Loss: 0.0000, Test Loss: 0.0000, Train L1 Norm: 0.0065, Test L1 Norm: 0.0054, Train Linf Norm: 0.6390, Test Linf Norm: 0.4845\n",
      "Epoch 204: Train Loss: 0.0000, Test Loss: 0.0000, Train L1 Norm: 0.0067, Test L1 Norm: 0.0054, Train Linf Norm: 0.6515, Test Linf Norm: 0.4953\n",
      "Epoch 205: Train Loss: 0.0000, Test Loss: 0.0000, Train L1 Norm: 0.0067, Test L1 Norm: 0.0053, Train Linf Norm: 0.6784, Test Linf Norm: 0.4693\n",
      "Epoch 206: Train Loss: 0.0000, Test Loss: 0.0000, Train L1 Norm: 0.0066, Test L1 Norm: 0.0055, Train Linf Norm: 0.6698, Test Linf Norm: 0.5031\n",
      "Epoch 207: Train Loss: 0.0000, Test Loss: 0.0000, Train L1 Norm: 0.0067, Test L1 Norm: 0.0054, Train Linf Norm: 0.6609, Test Linf Norm: 0.4991\n",
      "Epoch 208: Train Loss: 0.0000, Test Loss: 0.0000, Train L1 Norm: 0.0064, Test L1 Norm: 0.0054, Train Linf Norm: 0.6342, Test Linf Norm: 0.4946\n",
      "Epoch 209: Train Loss: 0.0000, Test Loss: 0.0000, Train L1 Norm: 0.0066, Test L1 Norm: 0.0054, Train Linf Norm: 0.6718, Test Linf Norm: 0.4888\n",
      "Epoch 210: Train Loss: 0.0000, Test Loss: 0.0000, Train L1 Norm: 0.0066, Test L1 Norm: 0.0053, Train Linf Norm: 0.6614, Test Linf Norm: 0.4783\n",
      "Epoch 211: Train Loss: 0.0000, Test Loss: 0.0000, Train L1 Norm: 0.0066, Test L1 Norm: 0.0055, Train Linf Norm: 0.6719, Test Linf Norm: 0.5225\n",
      "Epoch 212: Train Loss: 0.0000, Test Loss: 0.0000, Train L1 Norm: 0.0065, Test L1 Norm: 0.0054, Train Linf Norm: 0.6302, Test Linf Norm: 0.4940\n",
      "Epoch 213: Train Loss: 0.0000, Test Loss: 0.0000, Train L1 Norm: 0.0065, Test L1 Norm: 0.0054, Train Linf Norm: 0.6510, Test Linf Norm: 0.4898\n",
      "Epoch 214: Train Loss: 0.0000, Test Loss: 0.0000, Train L1 Norm: 0.0064, Test L1 Norm: 0.0054, Train Linf Norm: 0.6130, Test Linf Norm: 0.4899\n",
      "Epoch 215: Train Loss: 0.0000, Test Loss: 0.0000, Train L1 Norm: 0.0065, Test L1 Norm: 0.0054, Train Linf Norm: 0.6543, Test Linf Norm: 0.4911\n",
      "Epoch 216: Train Loss: 0.0000, Test Loss: 0.0000, Train L1 Norm: 0.0065, Test L1 Norm: 0.0053, Train Linf Norm: 0.6476, Test Linf Norm: 0.4804\n",
      "Epoch 217: Train Loss: 0.0000, Test Loss: 0.0000, Train L1 Norm: 0.0066, Test L1 Norm: 0.0054, Train Linf Norm: 0.6601, Test Linf Norm: 0.4879\n",
      "Epoch 218: Train Loss: 0.0000, Test Loss: 0.0000, Train L1 Norm: 0.0064, Test L1 Norm: 0.0054, Train Linf Norm: 0.6098, Test Linf Norm: 0.5027\n",
      "Epoch 219: Train Loss: 0.0000, Test Loss: 0.0000, Train L1 Norm: 0.0066, Test L1 Norm: 0.0054, Train Linf Norm: 0.6566, Test Linf Norm: 0.4663\n",
      "Epoch 220: Train Loss: 0.0000, Test Loss: 0.0000, Train L1 Norm: 0.0066, Test L1 Norm: 0.0053, Train Linf Norm: 0.6817, Test Linf Norm: 0.4795\n",
      "Epoch 221: Train Loss: 0.0000, Test Loss: 0.0000, Train L1 Norm: 0.0067, Test L1 Norm: 0.0053, Train Linf Norm: 0.6788, Test Linf Norm: 0.4781\n",
      "Epoch 222: Train Loss: 0.0000, Test Loss: 0.0000, Train L1 Norm: 0.0065, Test L1 Norm: 0.0055, Train Linf Norm: 0.6468, Test Linf Norm: 0.5053\n",
      "Epoch 223: Train Loss: 0.0000, Test Loss: 0.0000, Train L1 Norm: 0.0066, Test L1 Norm: 0.0054, Train Linf Norm: 0.6601, Test Linf Norm: 0.5008\n",
      "Epoch 224: Train Loss: 0.0000, Test Loss: 0.0000, Train L1 Norm: 0.0065, Test L1 Norm: 0.0053, Train Linf Norm: 0.6534, Test Linf Norm: 0.4729\n",
      "Epoch 225: Train Loss: 0.0000, Test Loss: 0.0000, Train L1 Norm: 0.0064, Test L1 Norm: 0.0055, Train Linf Norm: 0.6237, Test Linf Norm: 0.5198\n",
      "Epoch 226: Train Loss: 0.0000, Test Loss: 0.0000, Train L1 Norm: 0.0065, Test L1 Norm: 0.0054, Train Linf Norm: 0.6541, Test Linf Norm: 0.4922\n",
      "Epoch 227: Train Loss: 0.0000, Test Loss: 0.0000, Train L1 Norm: 0.0064, Test L1 Norm: 0.0055, Train Linf Norm: 0.6503, Test Linf Norm: 0.5187\n",
      "Epoch 228: Train Loss: 0.0000, Test Loss: 0.0000, Train L1 Norm: 0.0065, Test L1 Norm: 0.0053, Train Linf Norm: 0.6453, Test Linf Norm: 0.4867\n",
      "Epoch 229: Train Loss: 0.0000, Test Loss: 0.0000, Train L1 Norm: 0.0066, Test L1 Norm: 0.0053, Train Linf Norm: 0.6667, Test Linf Norm: 0.4696\n",
      "Epoch 230: Train Loss: 0.0000, Test Loss: 0.0000, Train L1 Norm: 0.0065, Test L1 Norm: 0.0054, Train Linf Norm: 0.6574, Test Linf Norm: 0.4930\n",
      "Epoch 231: Train Loss: 0.0000, Test Loss: 0.0000, Train L1 Norm: 0.0066, Test L1 Norm: 0.0053, Train Linf Norm: 0.6656, Test Linf Norm: 0.4718\n",
      "Epoch 232: Train Loss: 0.0000, Test Loss: 0.0000, Train L1 Norm: 0.0065, Test L1 Norm: 0.0055, Train Linf Norm: 0.6514, Test Linf Norm: 0.5156\n",
      "Epoch 233: Train Loss: 0.0000, Test Loss: 0.0000, Train L1 Norm: 0.0066, Test L1 Norm: 0.0055, Train Linf Norm: 0.6651, Test Linf Norm: 0.5159\n",
      "Epoch 234: Train Loss: 0.0000, Test Loss: 0.0000, Train L1 Norm: 0.0065, Test L1 Norm: 0.0055, Train Linf Norm: 0.6652, Test Linf Norm: 0.5142\n",
      "Epoch 235: Train Loss: 0.0000, Test Loss: 0.0000, Train L1 Norm: 0.0065, Test L1 Norm: 0.0054, Train Linf Norm: 0.6547, Test Linf Norm: 0.4938\n",
      "Epoch 236: Train Loss: 0.0000, Test Loss: 0.0000, Train L1 Norm: 0.0064, Test L1 Norm: 0.0055, Train Linf Norm: 0.6335, Test Linf Norm: 0.5089\n",
      "Epoch 237: Train Loss: 0.0000, Test Loss: 0.0000, Train L1 Norm: 0.0064, Test L1 Norm: 0.0054, Train Linf Norm: 0.6474, Test Linf Norm: 0.4901\n",
      "Epoch 238: Train Loss: 0.0000, Test Loss: 0.0000, Train L1 Norm: 0.0065, Test L1 Norm: 0.0054, Train Linf Norm: 0.6622, Test Linf Norm: 0.5026\n",
      "Epoch 239: Train Loss: 0.0000, Test Loss: 0.0000, Train L1 Norm: 0.0065, Test L1 Norm: 0.0053, Train Linf Norm: 0.6528, Test Linf Norm: 0.4704\n",
      "Epoch 240: Train Loss: 0.0000, Test Loss: 0.0000, Train L1 Norm: 0.0065, Test L1 Norm: 0.0053, Train Linf Norm: 0.6587, Test Linf Norm: 0.4852\n",
      "Epoch 241: Train Loss: 0.0000, Test Loss: 0.0000, Train L1 Norm: 0.0065, Test L1 Norm: 0.0054, Train Linf Norm: 0.6375, Test Linf Norm: 0.4980\n",
      "Epoch 242: Train Loss: 0.0000, Test Loss: 0.0000, Train L1 Norm: 0.0064, Test L1 Norm: 0.0055, Train Linf Norm: 0.6317, Test Linf Norm: 0.5122\n",
      "Epoch 243: Train Loss: 0.0000, Test Loss: 0.0000, Train L1 Norm: 0.0066, Test L1 Norm: 0.0054, Train Linf Norm: 0.6650, Test Linf Norm: 0.4969\n",
      "Epoch 244: Train Loss: 0.0000, Test Loss: 0.0000, Train L1 Norm: 0.0066, Test L1 Norm: 0.0054, Train Linf Norm: 0.6728, Test Linf Norm: 0.4917\n",
      "Epoch 245: Train Loss: 0.0000, Test Loss: 0.0000, Train L1 Norm: 0.0066, Test L1 Norm: 0.0054, Train Linf Norm: 0.6651, Test Linf Norm: 0.4805\n",
      "Epoch 246: Train Loss: 0.0000, Test Loss: 0.0000, Train L1 Norm: 0.0065, Test L1 Norm: 0.0055, Train Linf Norm: 0.6465, Test Linf Norm: 0.5207\n",
      "Epoch 247: Train Loss: 0.0000, Test Loss: 0.0000, Train L1 Norm: 0.0065, Test L1 Norm: 0.0054, Train Linf Norm: 0.6523, Test Linf Norm: 0.5007\n",
      "Epoch 248: Train Loss: 0.0000, Test Loss: 0.0000, Train L1 Norm: 0.0066, Test L1 Norm: 0.0055, Train Linf Norm: 0.6598, Test Linf Norm: 0.5239\n",
      "Epoch 249: Train Loss: 0.0000, Test Loss: 0.0000, Train L1 Norm: 0.0064, Test L1 Norm: 0.0055, Train Linf Norm: 0.6448, Test Linf Norm: 0.5130\n",
      "Epoch 250: Train Loss: 0.0000, Test Loss: 0.0000, Train L1 Norm: 0.0064, Test L1 Norm: 0.0054, Train Linf Norm: 0.6410, Test Linf Norm: 0.5046\n",
      "Epoch 251: Train Loss: 0.0000, Test Loss: 0.0000, Train L1 Norm: 0.0064, Test L1 Norm: 0.0054, Train Linf Norm: 0.6380, Test Linf Norm: 0.5016\n",
      "Epoch 252: Train Loss: 0.0000, Test Loss: 0.0000, Train L1 Norm: 0.0065, Test L1 Norm: 0.0055, Train Linf Norm: 0.6654, Test Linf Norm: 0.5120\n",
      "Epoch 253: Train Loss: 0.0000, Test Loss: 0.0000, Train L1 Norm: 0.0066, Test L1 Norm: 0.0054, Train Linf Norm: 0.6711, Test Linf Norm: 0.4963\n",
      "Epoch 254: Train Loss: 0.0000, Test Loss: 0.0000, Train L1 Norm: 0.0065, Test L1 Norm: 0.0056, Train Linf Norm: 0.6484, Test Linf Norm: 0.5333\n",
      "Epoch 255: Train Loss: 0.0000, Test Loss: 0.0000, Train L1 Norm: 0.0066, Test L1 Norm: 0.0053, Train Linf Norm: 0.6810, Test Linf Norm: 0.4815\n",
      "Epoch 256: Train Loss: 0.0000, Test Loss: 0.0000, Train L1 Norm: 0.0066, Test L1 Norm: 0.0054, Train Linf Norm: 0.6527, Test Linf Norm: 0.4923\n",
      "Epoch 257: Train Loss: 0.0000, Test Loss: 0.0000, Train L1 Norm: 0.0064, Test L1 Norm: 0.0054, Train Linf Norm: 0.6395, Test Linf Norm: 0.5014\n",
      "Epoch 258: Train Loss: 0.0000, Test Loss: 0.0000, Train L1 Norm: 0.0067, Test L1 Norm: 0.0053, Train Linf Norm: 0.6859, Test Linf Norm: 0.4801\n",
      "Epoch 259: Train Loss: 0.0000, Test Loss: 0.0000, Train L1 Norm: 0.0066, Test L1 Norm: 0.0054, Train Linf Norm: 0.6654, Test Linf Norm: 0.4863\n",
      "Epoch 260: Train Loss: 0.0000, Test Loss: 0.0000, Train L1 Norm: 0.0065, Test L1 Norm: 0.0054, Train Linf Norm: 0.6482, Test Linf Norm: 0.4829\n",
      "Epoch 261: Train Loss: 0.0000, Test Loss: 0.0000, Train L1 Norm: 0.0066, Test L1 Norm: 0.0054, Train Linf Norm: 0.6688, Test Linf Norm: 0.5010\n",
      "Epoch 262: Train Loss: 0.0000, Test Loss: 0.0000, Train L1 Norm: 0.0065, Test L1 Norm: 0.0054, Train Linf Norm: 0.6588, Test Linf Norm: 0.5013\n",
      "Epoch 263: Train Loss: 0.0000, Test Loss: 0.0000, Train L1 Norm: 0.0066, Test L1 Norm: 0.0054, Train Linf Norm: 0.6607, Test Linf Norm: 0.5027\n",
      "Epoch 264: Train Loss: 0.0000, Test Loss: 0.0000, Train L1 Norm: 0.0066, Test L1 Norm: 0.0054, Train Linf Norm: 0.6602, Test Linf Norm: 0.4988\n",
      "Epoch 265: Train Loss: 0.0000, Test Loss: 0.0000, Train L1 Norm: 0.0065, Test L1 Norm: 0.0054, Train Linf Norm: 0.6480, Test Linf Norm: 0.4911\n",
      "Epoch 266: Train Loss: 0.0000, Test Loss: 0.0000, Train L1 Norm: 0.0065, Test L1 Norm: 0.0055, Train Linf Norm: 0.6546, Test Linf Norm: 0.5196\n",
      "Epoch 267: Train Loss: 0.0000, Test Loss: 0.0000, Train L1 Norm: 0.0064, Test L1 Norm: 0.0055, Train Linf Norm: 0.6201, Test Linf Norm: 0.5189\n",
      "Epoch 268: Train Loss: 0.0000, Test Loss: 0.0000, Train L1 Norm: 0.0064, Test L1 Norm: 0.0055, Train Linf Norm: 0.6396, Test Linf Norm: 0.5160\n",
      "Epoch 269: Train Loss: 0.0000, Test Loss: 0.0000, Train L1 Norm: 0.0066, Test L1 Norm: 0.0055, Train Linf Norm: 0.6631, Test Linf Norm: 0.5231\n",
      "Epoch 270: Train Loss: 0.0000, Test Loss: 0.0000, Train L1 Norm: 0.0066, Test L1 Norm: 0.0054, Train Linf Norm: 0.6619, Test Linf Norm: 0.4990\n",
      "Epoch 271: Train Loss: 0.0000, Test Loss: 0.0000, Train L1 Norm: 0.0065, Test L1 Norm: 0.0054, Train Linf Norm: 0.6528, Test Linf Norm: 0.4988\n",
      "Epoch 272: Train Loss: 0.0000, Test Loss: 0.0000, Train L1 Norm: 0.0065, Test L1 Norm: 0.0054, Train Linf Norm: 0.6543, Test Linf Norm: 0.5044\n",
      "Epoch 273: Train Loss: 0.0000, Test Loss: 0.0000, Train L1 Norm: 0.0065, Test L1 Norm: 0.0056, Train Linf Norm: 0.6520, Test Linf Norm: 0.5286\n",
      "Epoch 274: Train Loss: 0.0000, Test Loss: 0.0000, Train L1 Norm: 0.0065, Test L1 Norm: 0.0054, Train Linf Norm: 0.6487, Test Linf Norm: 0.5067\n",
      "Epoch 275: Train Loss: 0.0000, Test Loss: 0.0000, Train L1 Norm: 0.0065, Test L1 Norm: 0.0054, Train Linf Norm: 0.6468, Test Linf Norm: 0.4899\n",
      "Epoch 276: Train Loss: 0.0000, Test Loss: 0.0000, Train L1 Norm: 0.0064, Test L1 Norm: 0.0054, Train Linf Norm: 0.6271, Test Linf Norm: 0.4964\n",
      "Epoch 277: Train Loss: 0.0000, Test Loss: 0.0000, Train L1 Norm: 0.0065, Test L1 Norm: 0.0054, Train Linf Norm: 0.6715, Test Linf Norm: 0.4954\n",
      "Epoch 278: Train Loss: 0.0000, Test Loss: 0.0000, Train L1 Norm: 0.0065, Test L1 Norm: 0.0055, Train Linf Norm: 0.6490, Test Linf Norm: 0.5135\n",
      "Epoch 279: Train Loss: 0.0000, Test Loss: 0.0000, Train L1 Norm: 0.0066, Test L1 Norm: 0.0054, Train Linf Norm: 0.6670, Test Linf Norm: 0.4902\n",
      "Epoch 280: Train Loss: 0.0000, Test Loss: 0.0000, Train L1 Norm: 0.0064, Test L1 Norm: 0.0055, Train Linf Norm: 0.6405, Test Linf Norm: 0.5122\n",
      "Epoch 281: Train Loss: 0.0000, Test Loss: 0.0000, Train L1 Norm: 0.0066, Test L1 Norm: 0.0053, Train Linf Norm: 0.6621, Test Linf Norm: 0.4866\n",
      "Epoch 282: Train Loss: 0.0000, Test Loss: 0.0000, Train L1 Norm: 0.0065, Test L1 Norm: 0.0054, Train Linf Norm: 0.6532, Test Linf Norm: 0.5057\n",
      "Epoch 283: Train Loss: 0.0000, Test Loss: 0.0000, Train L1 Norm: 0.0065, Test L1 Norm: 0.0054, Train Linf Norm: 0.6442, Test Linf Norm: 0.4982\n",
      "Epoch 284: Train Loss: 0.0000, Test Loss: 0.0000, Train L1 Norm: 0.0065, Test L1 Norm: 0.0053, Train Linf Norm: 0.6463, Test Linf Norm: 0.4864\n",
      "Epoch 285: Train Loss: 0.0000, Test Loss: 0.0000, Train L1 Norm: 0.0066, Test L1 Norm: 0.0053, Train Linf Norm: 0.6756, Test Linf Norm: 0.4877\n",
      "Epoch 286: Train Loss: 0.0000, Test Loss: 0.0000, Train L1 Norm: 0.0066, Test L1 Norm: 0.0054, Train Linf Norm: 0.6757, Test Linf Norm: 0.5068\n",
      "Epoch 287: Train Loss: 0.0000, Test Loss: 0.0000, Train L1 Norm: 0.0065, Test L1 Norm: 0.0055, Train Linf Norm: 0.6504, Test Linf Norm: 0.5111\n",
      "Epoch 288: Train Loss: 0.0000, Test Loss: 0.0000, Train L1 Norm: 0.0064, Test L1 Norm: 0.0054, Train Linf Norm: 0.6377, Test Linf Norm: 0.4902\n",
      "Epoch 289: Train Loss: 0.0000, Test Loss: 0.0000, Train L1 Norm: 0.0064, Test L1 Norm: 0.0056, Train Linf Norm: 0.6313, Test Linf Norm: 0.5333\n",
      "Epoch 290: Train Loss: 0.0000, Test Loss: 0.0000, Train L1 Norm: 0.0065, Test L1 Norm: 0.0054, Train Linf Norm: 0.6611, Test Linf Norm: 0.4989\n",
      "Epoch 291: Train Loss: 0.0000, Test Loss: 0.0000, Train L1 Norm: 0.0064, Test L1 Norm: 0.0054, Train Linf Norm: 0.6430, Test Linf Norm: 0.4949\n",
      "Epoch 292: Train Loss: 0.0000, Test Loss: 0.0000, Train L1 Norm: 0.0065, Test L1 Norm: 0.0055, Train Linf Norm: 0.6612, Test Linf Norm: 0.5242\n",
      "Epoch 293: Train Loss: 0.0000, Test Loss: 0.0000, Train L1 Norm: 0.0064, Test L1 Norm: 0.0054, Train Linf Norm: 0.6302, Test Linf Norm: 0.4926\n",
      "Epoch 294: Train Loss: 0.0000, Test Loss: 0.0000, Train L1 Norm: 0.0065, Test L1 Norm: 0.0055, Train Linf Norm: 0.6503, Test Linf Norm: 0.5149\n",
      "Epoch 295: Train Loss: 0.0000, Test Loss: 0.0000, Train L1 Norm: 0.0065, Test L1 Norm: 0.0054, Train Linf Norm: 0.6571, Test Linf Norm: 0.4870\n",
      "Epoch 296: Train Loss: 0.0000, Test Loss: 0.0000, Train L1 Norm: 0.0066, Test L1 Norm: 0.0056, Train Linf Norm: 0.6702, Test Linf Norm: 0.5289\n",
      "Epoch 297: Train Loss: 0.0000, Test Loss: 0.0000, Train L1 Norm: 0.0065, Test L1 Norm: 0.0054, Train Linf Norm: 0.6555, Test Linf Norm: 0.5057\n",
      "Epoch 298: Train Loss: 0.0000, Test Loss: 0.0000, Train L1 Norm: 0.0064, Test L1 Norm: 0.0054, Train Linf Norm: 0.6390, Test Linf Norm: 0.4992\n",
      "Epoch 299: Train Loss: 0.0000, Test Loss: 0.0000, Train L1 Norm: 0.0065, Test L1 Norm: 0.0055, Train Linf Norm: 0.6591, Test Linf Norm: 0.5225\n",
      "Epoch 300: Train Loss: 0.0000, Test Loss: 0.0000, Train L1 Norm: 0.0065, Test L1 Norm: 0.0054, Train Linf Norm: 0.6489, Test Linf Norm: 0.5000\n",
      "Epoch 301: Train Loss: 0.0000, Test Loss: 0.0000, Train L1 Norm: 0.0064, Test L1 Norm: 0.0054, Train Linf Norm: 0.6442, Test Linf Norm: 0.4978\n",
      "Epoch 302: Train Loss: 0.0000, Test Loss: 0.0000, Train L1 Norm: 0.0064, Test L1 Norm: 0.0055, Train Linf Norm: 0.6382, Test Linf Norm: 0.5119\n",
      "Epoch 303: Train Loss: 0.0000, Test Loss: 0.0000, Train L1 Norm: 0.0065, Test L1 Norm: 0.0054, Train Linf Norm: 0.6523, Test Linf Norm: 0.4939\n",
      "Epoch 304: Train Loss: 0.0000, Test Loss: 0.0000, Train L1 Norm: 0.0065, Test L1 Norm: 0.0054, Train Linf Norm: 0.6438, Test Linf Norm: 0.5017\n",
      "Epoch 305: Train Loss: 0.0000, Test Loss: 0.0000, Train L1 Norm: 0.0064, Test L1 Norm: 0.0054, Train Linf Norm: 0.6379, Test Linf Norm: 0.5066\n",
      "Epoch 306: Train Loss: 0.0000, Test Loss: 0.0000, Train L1 Norm: 0.0065, Test L1 Norm: 0.0054, Train Linf Norm: 0.6445, Test Linf Norm: 0.5088\n",
      "Epoch 307: Train Loss: 0.0000, Test Loss: 0.0000, Train L1 Norm: 0.0066, Test L1 Norm: 0.0055, Train Linf Norm: 0.6732, Test Linf Norm: 0.5163\n",
      "Epoch 308: Train Loss: 0.0000, Test Loss: 0.0000, Train L1 Norm: 0.0064, Test L1 Norm: 0.0054, Train Linf Norm: 0.6382, Test Linf Norm: 0.5042\n",
      "Epoch 309: Train Loss: 0.0000, Test Loss: 0.0000, Train L1 Norm: 0.0064, Test L1 Norm: 0.0054, Train Linf Norm: 0.6378, Test Linf Norm: 0.4927\n",
      "Epoch 310: Train Loss: 0.0000, Test Loss: 0.0000, Train L1 Norm: 0.0064, Test L1 Norm: 0.0055, Train Linf Norm: 0.6500, Test Linf Norm: 0.5157\n",
      "Epoch 311: Train Loss: 0.0000, Test Loss: 0.0000, Train L1 Norm: 0.0065, Test L1 Norm: 0.0054, Train Linf Norm: 0.6511, Test Linf Norm: 0.5038\n",
      "Epoch 312: Train Loss: 0.0000, Test Loss: 0.0000, Train L1 Norm: 0.0065, Test L1 Norm: 0.0054, Train Linf Norm: 0.6566, Test Linf Norm: 0.5003\n",
      "Epoch 313: Train Loss: 0.0000, Test Loss: 0.0000, Train L1 Norm: 0.0064, Test L1 Norm: 0.0056, Train Linf Norm: 0.6343, Test Linf Norm: 0.5344\n",
      "Epoch 314: Train Loss: 0.0000, Test Loss: 0.0000, Train L1 Norm: 0.0066, Test L1 Norm: 0.0055, Train Linf Norm: 0.6530, Test Linf Norm: 0.5123\n",
      "Epoch 315: Train Loss: 0.0000, Test Loss: 0.0000, Train L1 Norm: 0.0064, Test L1 Norm: 0.0055, Train Linf Norm: 0.6440, Test Linf Norm: 0.5221\n",
      "Epoch 316: Train Loss: 0.0000, Test Loss: 0.0000, Train L1 Norm: 0.0064, Test L1 Norm: 0.0053, Train Linf Norm: 0.6397, Test Linf Norm: 0.4885\n",
      "Epoch 317: Train Loss: 0.0000, Test Loss: 0.0000, Train L1 Norm: 0.0063, Test L1 Norm: 0.0054, Train Linf Norm: 0.6266, Test Linf Norm: 0.5078\n",
      "Epoch 318: Train Loss: 0.0000, Test Loss: 0.0000, Train L1 Norm: 0.0064, Test L1 Norm: 0.0054, Train Linf Norm: 0.6351, Test Linf Norm: 0.4996\n",
      "Epoch 319: Train Loss: 0.0000, Test Loss: 0.0000, Train L1 Norm: 0.0066, Test L1 Norm: 0.0055, Train Linf Norm: 0.6591, Test Linf Norm: 0.5140\n",
      "Epoch 320: Train Loss: 0.0000, Test Loss: 0.0000, Train L1 Norm: 0.0064, Test L1 Norm: 0.0055, Train Linf Norm: 0.6574, Test Linf Norm: 0.5177\n",
      "Epoch 321: Train Loss: 0.0000, Test Loss: 0.0000, Train L1 Norm: 0.0063, Test L1 Norm: 0.0055, Train Linf Norm: 0.6280, Test Linf Norm: 0.5107\n",
      "Epoch 322: Train Loss: 0.0000, Test Loss: 0.0000, Train L1 Norm: 0.0066, Test L1 Norm: 0.0055, Train Linf Norm: 0.6687, Test Linf Norm: 0.5219\n",
      "Epoch 323: Train Loss: 0.0000, Test Loss: 0.0000, Train L1 Norm: 0.0064, Test L1 Norm: 0.0055, Train Linf Norm: 0.6332, Test Linf Norm: 0.5212\n",
      "Epoch 324: Train Loss: 0.0000, Test Loss: 0.0000, Train L1 Norm: 0.0065, Test L1 Norm: 0.0054, Train Linf Norm: 0.6658, Test Linf Norm: 0.4907\n",
      "Epoch 325: Train Loss: 0.0000, Test Loss: 0.0000, Train L1 Norm: 0.0064, Test L1 Norm: 0.0055, Train Linf Norm: 0.6578, Test Linf Norm: 0.5292\n",
      "Epoch 326: Train Loss: 0.0000, Test Loss: 0.0000, Train L1 Norm: 0.0065, Test L1 Norm: 0.0055, Train Linf Norm: 0.6735, Test Linf Norm: 0.5278\n",
      "Epoch 327: Train Loss: 0.0000, Test Loss: 0.0000, Train L1 Norm: 0.0065, Test L1 Norm: 0.0053, Train Linf Norm: 0.6449, Test Linf Norm: 0.4822\n",
      "Epoch 328: Train Loss: 0.0000, Test Loss: 0.0000, Train L1 Norm: 0.0065, Test L1 Norm: 0.0055, Train Linf Norm: 0.6615, Test Linf Norm: 0.5209\n",
      "Epoch 329: Train Loss: 0.0000, Test Loss: 0.0000, Train L1 Norm: 0.0064, Test L1 Norm: 0.0055, Train Linf Norm: 0.6565, Test Linf Norm: 0.5238\n",
      "Epoch 330: Train Loss: 0.0000, Test Loss: 0.0000, Train L1 Norm: 0.0065, Test L1 Norm: 0.0055, Train Linf Norm: 0.6456, Test Linf Norm: 0.5136\n",
      "Epoch 331: Train Loss: 0.0000, Test Loss: 0.0000, Train L1 Norm: 0.0064, Test L1 Norm: 0.0053, Train Linf Norm: 0.6359, Test Linf Norm: 0.4888\n",
      "Epoch 332: Train Loss: 0.0000, Test Loss: 0.0000, Train L1 Norm: 0.0066, Test L1 Norm: 0.0054, Train Linf Norm: 0.6723, Test Linf Norm: 0.5058\n",
      "Epoch 333: Train Loss: 0.0000, Test Loss: 0.0000, Train L1 Norm: 0.0064, Test L1 Norm: 0.0055, Train Linf Norm: 0.6347, Test Linf Norm: 0.5245\n",
      "Epoch 334: Train Loss: 0.0000, Test Loss: 0.0000, Train L1 Norm: 0.0065, Test L1 Norm: 0.0054, Train Linf Norm: 0.6620, Test Linf Norm: 0.4942\n",
      "Epoch 335: Train Loss: 0.0000, Test Loss: 0.0000, Train L1 Norm: 0.0065, Test L1 Norm: 0.0053, Train Linf Norm: 0.6593, Test Linf Norm: 0.4898\n",
      "Epoch 336: Train Loss: 0.0000, Test Loss: 0.0000, Train L1 Norm: 0.0065, Test L1 Norm: 0.0054, Train Linf Norm: 0.6618, Test Linf Norm: 0.5115\n",
      "Epoch 337: Train Loss: 0.0000, Test Loss: 0.0000, Train L1 Norm: 0.0065, Test L1 Norm: 0.0055, Train Linf Norm: 0.6394, Test Linf Norm: 0.5287\n",
      "Epoch 338: Train Loss: 0.0000, Test Loss: 0.0000, Train L1 Norm: 0.0065, Test L1 Norm: 0.0054, Train Linf Norm: 0.6497, Test Linf Norm: 0.5034\n",
      "Epoch 339: Train Loss: 0.0000, Test Loss: 0.0000, Train L1 Norm: 0.0064, Test L1 Norm: 0.0055, Train Linf Norm: 0.6495, Test Linf Norm: 0.5213\n",
      "Epoch 340: Train Loss: 0.0000, Test Loss: 0.0000, Train L1 Norm: 0.0064, Test L1 Norm: 0.0054, Train Linf Norm: 0.6492, Test Linf Norm: 0.5080\n",
      "Epoch 341: Train Loss: 0.0000, Test Loss: 0.0000, Train L1 Norm: 0.0063, Test L1 Norm: 0.0054, Train Linf Norm: 0.6045, Test Linf Norm: 0.4996\n",
      "Epoch 342: Train Loss: 0.0000, Test Loss: 0.0000, Train L1 Norm: 0.0065, Test L1 Norm: 0.0053, Train Linf Norm: 0.6664, Test Linf Norm: 0.4728\n",
      "Epoch 343: Train Loss: 0.0000, Test Loss: 0.0000, Train L1 Norm: 0.0066, Test L1 Norm: 0.0054, Train Linf Norm: 0.6841, Test Linf Norm: 0.5059\n",
      "Epoch 344: Train Loss: 0.0000, Test Loss: 0.0000, Train L1 Norm: 0.0065, Test L1 Norm: 0.0054, Train Linf Norm: 0.6604, Test Linf Norm: 0.5082\n",
      "Epoch 345: Train Loss: 0.0000, Test Loss: 0.0000, Train L1 Norm: 0.0065, Test L1 Norm: 0.0053, Train Linf Norm: 0.6451, Test Linf Norm: 0.4910\n",
      "Epoch 346: Train Loss: 0.0000, Test Loss: 0.0000, Train L1 Norm: 0.0065, Test L1 Norm: 0.0054, Train Linf Norm: 0.6602, Test Linf Norm: 0.5116\n",
      "Epoch 347: Train Loss: 0.0000, Test Loss: 0.0000, Train L1 Norm: 0.0065, Test L1 Norm: 0.0055, Train Linf Norm: 0.6566, Test Linf Norm: 0.5322\n",
      "Epoch 348: Train Loss: 0.0000, Test Loss: 0.0000, Train L1 Norm: 0.0064, Test L1 Norm: 0.0054, Train Linf Norm: 0.6420, Test Linf Norm: 0.5078\n",
      "Epoch 349: Train Loss: 0.0000, Test Loss: 0.0000, Train L1 Norm: 0.0064, Test L1 Norm: 0.0053, Train Linf Norm: 0.6405, Test Linf Norm: 0.4816\n",
      "Epoch 350: Train Loss: 0.0000, Test Loss: 0.0000, Train L1 Norm: 0.0065, Test L1 Norm: 0.0056, Train Linf Norm: 0.6462, Test Linf Norm: 0.5321\n",
      "Epoch 351: Train Loss: 0.0000, Test Loss: 0.0000, Train L1 Norm: 0.0064, Test L1 Norm: 0.0054, Train Linf Norm: 0.6362, Test Linf Norm: 0.5029\n",
      "Epoch 352: Train Loss: 0.0000, Test Loss: 0.0000, Train L1 Norm: 0.0064, Test L1 Norm: 0.0055, Train Linf Norm: 0.6422, Test Linf Norm: 0.5263\n",
      "Epoch 353: Train Loss: 0.0000, Test Loss: 0.0000, Train L1 Norm: 0.0064, Test L1 Norm: 0.0054, Train Linf Norm: 0.6257, Test Linf Norm: 0.4924\n",
      "Epoch 354: Train Loss: 0.0000, Test Loss: 0.0000, Train L1 Norm: 0.0064, Test L1 Norm: 0.0055, Train Linf Norm: 0.6480, Test Linf Norm: 0.5288\n",
      "Epoch 355: Train Loss: 0.0000, Test Loss: 0.0000, Train L1 Norm: 0.0064, Test L1 Norm: 0.0054, Train Linf Norm: 0.6136, Test Linf Norm: 0.5037\n",
      "Epoch 356: Train Loss: 0.0000, Test Loss: 0.0000, Train L1 Norm: 0.0064, Test L1 Norm: 0.0055, Train Linf Norm: 0.6445, Test Linf Norm: 0.5250\n",
      "Epoch 357: Train Loss: 0.0000, Test Loss: 0.0000, Train L1 Norm: 0.0064, Test L1 Norm: 0.0054, Train Linf Norm: 0.6328, Test Linf Norm: 0.5068\n",
      "Epoch 358: Train Loss: 0.0000, Test Loss: 0.0000, Train L1 Norm: 0.0064, Test L1 Norm: 0.0054, Train Linf Norm: 0.6510, Test Linf Norm: 0.5043\n",
      "Epoch 359: Train Loss: 0.0000, Test Loss: 0.0000, Train L1 Norm: 0.0065, Test L1 Norm: 0.0054, Train Linf Norm: 0.6576, Test Linf Norm: 0.5055\n",
      "Epoch 360: Train Loss: 0.0000, Test Loss: 0.0000, Train L1 Norm: 0.0065, Test L1 Norm: 0.0054, Train Linf Norm: 0.6567, Test Linf Norm: 0.5004\n",
      "Epoch 361: Train Loss: 0.0000, Test Loss: 0.0000, Train L1 Norm: 0.0064, Test L1 Norm: 0.0054, Train Linf Norm: 0.6364, Test Linf Norm: 0.5052\n",
      "Epoch 362: Train Loss: 0.0000, Test Loss: 0.0000, Train L1 Norm: 0.0064, Test L1 Norm: 0.0054, Train Linf Norm: 0.6472, Test Linf Norm: 0.4963\n",
      "Epoch 363: Train Loss: 0.0000, Test Loss: 0.0000, Train L1 Norm: 0.0064, Test L1 Norm: 0.0055, Train Linf Norm: 0.6430, Test Linf Norm: 0.5153\n",
      "Epoch 364: Train Loss: 0.0000, Test Loss: 0.0000, Train L1 Norm: 0.0066, Test L1 Norm: 0.0054, Train Linf Norm: 0.6692, Test Linf Norm: 0.5087\n",
      "Epoch 365: Train Loss: 0.0000, Test Loss: 0.0000, Train L1 Norm: 0.0064, Test L1 Norm: 0.0055, Train Linf Norm: 0.6417, Test Linf Norm: 0.5187\n",
      "Epoch 366: Train Loss: 0.0000, Test Loss: 0.0000, Train L1 Norm: 0.0062, Test L1 Norm: 0.0054, Train Linf Norm: 0.6083, Test Linf Norm: 0.5061\n",
      "Epoch 367: Train Loss: 0.0000, Test Loss: 0.0000, Train L1 Norm: 0.0065, Test L1 Norm: 0.0055, Train Linf Norm: 0.6546, Test Linf Norm: 0.5248\n",
      "Epoch 368: Train Loss: 0.0000, Test Loss: 0.0000, Train L1 Norm: 0.0064, Test L1 Norm: 0.0055, Train Linf Norm: 0.6422, Test Linf Norm: 0.5165\n",
      "Epoch 369: Train Loss: 0.0000, Test Loss: 0.0000, Train L1 Norm: 0.0064, Test L1 Norm: 0.0054, Train Linf Norm: 0.6262, Test Linf Norm: 0.5156\n",
      "Epoch 370: Train Loss: 0.0000, Test Loss: 0.0000, Train L1 Norm: 0.0064, Test L1 Norm: 0.0054, Train Linf Norm: 0.6521, Test Linf Norm: 0.5142\n",
      "Epoch 371: Train Loss: 0.0000, Test Loss: 0.0000, Train L1 Norm: 0.0063, Test L1 Norm: 0.0054, Train Linf Norm: 0.6263, Test Linf Norm: 0.5107\n",
      "Epoch 372: Train Loss: 0.0000, Test Loss: 0.0000, Train L1 Norm: 0.0064, Test L1 Norm: 0.0055, Train Linf Norm: 0.6139, Test Linf Norm: 0.5252\n",
      "Epoch 373: Train Loss: 0.0000, Test Loss: 0.0000, Train L1 Norm: 0.0065, Test L1 Norm: 0.0055, Train Linf Norm: 0.6666, Test Linf Norm: 0.5312\n",
      "Epoch 374: Train Loss: 0.0000, Test Loss: 0.0000, Train L1 Norm: 0.0065, Test L1 Norm: 0.0054, Train Linf Norm: 0.6588, Test Linf Norm: 0.4960\n",
      "Epoch 375: Train Loss: 0.0000, Test Loss: 0.0000, Train L1 Norm: 0.0064, Test L1 Norm: 0.0055, Train Linf Norm: 0.6516, Test Linf Norm: 0.5291\n",
      "Epoch 376: Train Loss: 0.0000, Test Loss: 0.0000, Train L1 Norm: 0.0065, Test L1 Norm: 0.0054, Train Linf Norm: 0.6754, Test Linf Norm: 0.5020\n",
      "Epoch 377: Train Loss: 0.0000, Test Loss: 0.0000, Train L1 Norm: 0.0064, Test L1 Norm: 0.0054, Train Linf Norm: 0.6386, Test Linf Norm: 0.5002\n",
      "Epoch 378: Train Loss: 0.0000, Test Loss: 0.0000, Train L1 Norm: 0.0063, Test L1 Norm: 0.0053, Train Linf Norm: 0.6433, Test Linf Norm: 0.4848\n",
      "Epoch 379: Train Loss: 0.0000, Test Loss: 0.0000, Train L1 Norm: 0.0065, Test L1 Norm: 0.0054, Train Linf Norm: 0.6397, Test Linf Norm: 0.5034\n",
      "Epoch 380: Train Loss: 0.0000, Test Loss: 0.0000, Train L1 Norm: 0.0064, Test L1 Norm: 0.0054, Train Linf Norm: 0.6466, Test Linf Norm: 0.5138\n",
      "Epoch 381: Train Loss: 0.0000, Test Loss: 0.0000, Train L1 Norm: 0.0064, Test L1 Norm: 0.0054, Train Linf Norm: 0.6252, Test Linf Norm: 0.5142\n",
      "Epoch 382: Train Loss: 0.0000, Test Loss: 0.0000, Train L1 Norm: 0.0064, Test L1 Norm: 0.0053, Train Linf Norm: 0.6488, Test Linf Norm: 0.4809\n",
      "Epoch 383: Train Loss: 0.0000, Test Loss: 0.0000, Train L1 Norm: 0.0064, Test L1 Norm: 0.0054, Train Linf Norm: 0.6421, Test Linf Norm: 0.5101\n",
      "Epoch 384: Train Loss: 0.0000, Test Loss: 0.0000, Train L1 Norm: 0.0063, Test L1 Norm: 0.0055, Train Linf Norm: 0.6209, Test Linf Norm: 0.5328\n",
      "Epoch 385: Train Loss: 0.0000, Test Loss: 0.0000, Train L1 Norm: 0.0064, Test L1 Norm: 0.0055, Train Linf Norm: 0.6430, Test Linf Norm: 0.5204\n",
      "Epoch 386: Train Loss: 0.0000, Test Loss: 0.0000, Train L1 Norm: 0.0064, Test L1 Norm: 0.0053, Train Linf Norm: 0.6348, Test Linf Norm: 0.4873\n",
      "Epoch 387: Train Loss: 0.0000, Test Loss: 0.0000, Train L1 Norm: 0.0065, Test L1 Norm: 0.0053, Train Linf Norm: 0.6404, Test Linf Norm: 0.4899\n",
      "Epoch 388: Train Loss: 0.0000, Test Loss: 0.0000, Train L1 Norm: 0.0065, Test L1 Norm: 0.0054, Train Linf Norm: 0.6690, Test Linf Norm: 0.5048\n",
      "Epoch 389: Train Loss: 0.0000, Test Loss: 0.0000, Train L1 Norm: 0.0065, Test L1 Norm: 0.0054, Train Linf Norm: 0.6633, Test Linf Norm: 0.4975\n",
      "Epoch 390: Train Loss: 0.0000, Test Loss: 0.0000, Train L1 Norm: 0.0064, Test L1 Norm: 0.0054, Train Linf Norm: 0.6516, Test Linf Norm: 0.4972\n",
      "Epoch 391: Train Loss: 0.0000, Test Loss: 0.0000, Train L1 Norm: 0.0064, Test L1 Norm: 0.0054, Train Linf Norm: 0.6297, Test Linf Norm: 0.5153\n",
      "Epoch 392: Train Loss: 0.0000, Test Loss: 0.0000, Train L1 Norm: 0.0064, Test L1 Norm: 0.0054, Train Linf Norm: 0.6337, Test Linf Norm: 0.5150\n",
      "Epoch 393: Train Loss: 0.0000, Test Loss: 0.0000, Train L1 Norm: 0.0064, Test L1 Norm: 0.0054, Train Linf Norm: 0.6464, Test Linf Norm: 0.5054\n",
      "Epoch 394: Train Loss: 0.0000, Test Loss: 0.0000, Train L1 Norm: 0.0064, Test L1 Norm: 0.0054, Train Linf Norm: 0.6543, Test Linf Norm: 0.5055\n",
      "Epoch 395: Train Loss: 0.0000, Test Loss: 0.0000, Train L1 Norm: 0.0064, Test L1 Norm: 0.0055, Train Linf Norm: 0.6437, Test Linf Norm: 0.5278\n",
      "Epoch 396: Train Loss: 0.0000, Test Loss: 0.0000, Train L1 Norm: 0.0064, Test L1 Norm: 0.0053, Train Linf Norm: 0.6423, Test Linf Norm: 0.4847\n",
      "Epoch 397: Train Loss: 0.0000, Test Loss: 0.0000, Train L1 Norm: 0.0063, Test L1 Norm: 0.0054, Train Linf Norm: 0.6369, Test Linf Norm: 0.5034\n",
      "Epoch 398: Train Loss: 0.0000, Test Loss: 0.0000, Train L1 Norm: 0.0065, Test L1 Norm: 0.0055, Train Linf Norm: 0.6554, Test Linf Norm: 0.5167\n",
      "Epoch 399: Train Loss: 0.0000, Test Loss: 0.0000, Train L1 Norm: 0.0064, Test L1 Norm: 0.0054, Train Linf Norm: 0.6481, Test Linf Norm: 0.4996\n",
      "Epoch 400: Train Loss: 0.0000, Test Loss: 0.0000, Train L1 Norm: 0.0063, Test L1 Norm: 0.0054, Train Linf Norm: 0.6178, Test Linf Norm: 0.5013\n"
     ]
    }
   ],
   "source": [
    "# Training and evaluating the network using the train_and_eval function\n",
    "train_losses, test_losses, train_metrics, test_metrics = train_and_eval(\n",
    "    net, loss_fn, optimizer, batch_size, n_epochs, scheduler\n",
    ")"
   ]
  },
  {
   "cell_type": "markdown",
   "metadata": {},
   "source": [
    "## Saving"
   ]
  },
  {
   "cell_type": "code",
   "execution_count": 21,
   "metadata": {},
   "outputs": [],
   "source": [
    "import json\n",
    "import pandas as pd\n",
    "import os\n",
    "import shutil\n",
    "\n",
    "# check if the drive is mounted\n",
    "drive_mounted = os.path.exists(\"/content/drive\")\n",
    "\n",
    "# define a function to save a file to the drive or the current directory\n",
    "def save_file(file_name):\n",
    "  if drive_mounted:\n",
    "    # save the file to the drive folder\n",
    "    drive_folder = \"/content/drive/My Drive\" # change this to your desired folder\n",
    "    file_path = os.path.join(drive_folder, file_name)\n",
    "    # copy the file from the current directory to the drive folder\n",
    "    shutil.copyfile(file_name, file_path)\n",
    "  else:\n",
    "    # do nothing as the file is already in the current directory\n",
    "    pass\n",
    "\n",
    "# save the network to a .pth file\n",
    "torch.save(net.state_dict(), \"net.pth\")\n",
    "save_file(\"net.pth\")\n",
    "\n",
    "# save the optimizer to a .pth file\n",
    "torch.save(optimizer.state_dict(), \"optimizer.pth\")\n",
    "save_file(\"optimizer.pth\")\n",
    "\n",
    "# save the scheduler to a .pth file if it is not None\n",
    "if scheduler is not None:\n",
    "  torch.save(scheduler.state_dict(), \"scheduler.pth\")\n",
    "  save_file(\"scheduler.pth\")\n",
    "\n",
    "# create a dictionary to store the rest of the variables\n",
    "var_dict = {\n",
    "  \"batch_size\": batch_size,\n",
    "  \"n_epochs\": n_epochs,\n",
    "  \"loss_name\": loss_name,\n",
    "  \"optimizer_name\": optimizer_name,\n",
    "  \"scheduler_name\": scheduler_name,\n",
    "  \"n_units\": n_units,\n",
    "  \"n_layers\": n_layers,\n",
    "  \"hidden_activation_name\": hidden_activation.__class__.__name__,\n",
    "  \"output_activation_name\": output_activation.__class__.__name__,\n",
    "  \"lr\": lr,\n",
    "}\n",
    "\n",
    "# save the dictionary to a .json file\n",
    "with open(\"var_dict.json\", \"w\") as f:\n",
    "  json.dump(var_dict, f)\n",
    "save_file(\"var_dict.json\")\n",
    "\n",
    "# Saving the output of the training using pandas\n",
    "train_df = pd.DataFrame(\n",
    "    {\n",
    "        \"train_loss\": train_losses,\n",
    "        \"test_loss\": test_losses,\n",
    "        \"train_l1_norm\": [m[\"l1_norm\"] for m in train_metrics],\n",
    "        \"test_l1_norm\": [m[\"l1_norm\"] for m in test_metrics],\n",
    "        \"train_linf_norm\": [m[\"linf_norm\"] for m in train_metrics],\n",
    "        \"test_linf_norm\": [m[\"linf_norm\"] for m in test_metrics],\n",
    "    }\n",
    ")\n",
    "train_df.to_csv(\"train_output.csv\", index=False)\n",
    "save_file(\"train_output.csv\")\n"
   ]
  },
  {
   "cell_type": "markdown",
   "metadata": {},
   "source": [
    "## Visualizing the results"
   ]
  },
  {
   "cell_type": "code",
   "execution_count": 27,
   "metadata": {},
   "outputs": [
    {
     "data": {
      "text/plain": [
       "<Figure size 1200x800 with 0 Axes>"
      ]
     },
     "execution_count": 27,
     "metadata": {},
     "output_type": "execute_result"
    },
    {
     "data": {
      "text/plain": [
       "<Axes: >"
      ]
     },
     "execution_count": 27,
     "metadata": {},
     "output_type": "execute_result"
    },
    {
     "data": {
      "text/plain": [
       "[<matplotlib.lines.Line2D at 0x2134f457a10>]"
      ]
     },
     "execution_count": 27,
     "metadata": {},
     "output_type": "execute_result"
    },
    {
     "data": {
      "text/plain": [
       "[<matplotlib.lines.Line2D at 0x2134f581d10>]"
      ]
     },
     "execution_count": 27,
     "metadata": {},
     "output_type": "execute_result"
    },
    {
     "data": {
      "text/plain": [
       "Text(0.5, 0, 'Epoch')"
      ]
     },
     "execution_count": 27,
     "metadata": {},
     "output_type": "execute_result"
    },
    {
     "data": {
      "text/plain": [
       "Text(0, 0.5, 'L1 Norm')"
      ]
     },
     "execution_count": 27,
     "metadata": {},
     "output_type": "execute_result"
    },
    {
     "data": {
      "text/plain": [
       "(0.001, 100.0)"
      ]
     },
     "execution_count": 27,
     "metadata": {},
     "output_type": "execute_result"
    },
    {
     "data": {
      "text/plain": [
       "<matplotlib.legend.Legend at 0x2134d7f5690>"
      ]
     },
     "execution_count": 27,
     "metadata": {},
     "output_type": "execute_result"
    },
    {
     "data": {
      "text/plain": [
       "<Axes: >"
      ]
     },
     "execution_count": 27,
     "metadata": {},
     "output_type": "execute_result"
    },
    {
     "data": {
      "text/plain": [
       "[<matplotlib.lines.Line2D at 0x2134f50e410>]"
      ]
     },
     "execution_count": 27,
     "metadata": {},
     "output_type": "execute_result"
    },
    {
     "data": {
      "text/plain": [
       "[<matplotlib.lines.Line2D at 0x2134f5ad2d0>]"
      ]
     },
     "execution_count": 27,
     "metadata": {},
     "output_type": "execute_result"
    },
    {
     "data": {
      "text/plain": [
       "Text(0.5, 0, 'Epoch')"
      ]
     },
     "execution_count": 27,
     "metadata": {},
     "output_type": "execute_result"
    },
    {
     "data": {
      "text/plain": [
       "Text(0, 0.5, 'Linf Norm')"
      ]
     },
     "execution_count": 27,
     "metadata": {},
     "output_type": "execute_result"
    },
    {
     "data": {
      "text/plain": [
       "(0.001, 100.0)"
      ]
     },
     "execution_count": 27,
     "metadata": {},
     "output_type": "execute_result"
    },
    {
     "data": {
      "text/plain": [
       "<matplotlib.legend.Legend at 0x2134ee1e6d0>"
      ]
     },
     "execution_count": 27,
     "metadata": {},
     "output_type": "execute_result"
    },
    {
     "data": {
      "image/png": "[encoded data removed]",
      "text/plain": [
       "<Figure size 1200x800 with 2 Axes>"
      ]
     },
     "metadata": {},
     "output_type": "display_data"
    },
    {
     "data": {
      "text/plain": [
       "<Figure size 800x600 with 0 Axes>"
      ]
     },
     "execution_count": 27,
     "metadata": {},
     "output_type": "execute_result"
    },
    {
     "data": {
      "text/plain": [
       "[<matplotlib.lines.Line2D at 0x2134ede3090>]"
      ]
     },
     "execution_count": 27,
     "metadata": {},
     "output_type": "execute_result"
    },
    {
     "data": {
      "text/plain": [
       "[<matplotlib.lines.Line2D at 0x2134fde1790>]"
      ]
     },
     "execution_count": 27,
     "metadata": {},
     "output_type": "execute_result"
    },
    {
     "data": {
      "text/plain": [
       "Text(0.5, 0, 'Epoch')"
      ]
     },
     "execution_count": 27,
     "metadata": {},
     "output_type": "execute_result"
    },
    {
     "data": {
      "text/plain": [
       "Text(0, 0.5, 'MSE')"
      ]
     },
     "execution_count": 27,
     "metadata": {},
     "output_type": "execute_result"
    },
    {
     "data": {
      "text/plain": [
       "(1e-07, 1.0)"
      ]
     },
     "execution_count": 27,
     "metadata": {},
     "output_type": "execute_result"
    },
    {
     "data": {
      "text/plain": [
       "<matplotlib.legend.Legend at 0x2134e279d50>"
      ]
     },
     "execution_count": 27,
     "metadata": {},
     "output_type": "execute_result"
    },
    {
     "data": {
      "image/png": "[encoded data removed]",
      "text/plain": [
       "<Figure size 800x600 with 1 Axes>"
      ]
     },
     "metadata": {},
     "output_type": "display_data"
    }
   ],
   "source": [
    "# Plotting the losses and metrics for the best network \n",
    "plt.figure(figsize=(12, 8))\n",
    "#plt.subplot(2, 2, 1)\n",
    "#plt.plot(train_losses, label=\"Train Loss\")\n",
    "#plt.plot(test_losses, label=\"Test Loss\")\n",
    "#plt.xlabel(\"Epoch\")\n",
    "#plt.ylabel(\"Loss\")\n",
    "#plt.legend()\n",
    "plt.subplot(2, 2, 2)\n",
    "plt.plot([m[\"l1_norm\"] for m in train_metrics], label=\"Train L1 Norm\")\n",
    "plt.plot([m[\"l1_norm\"] for m in test_metrics], label=\"Test L1 Norm\")\n",
    "plt.xlabel(\"Epoch\")\n",
    "plt.ylabel(\"L1 Norm\")\n",
    "# Added setting the vertical axis to be in powers of 10\n",
    "plt.yscale(\"log\")\n",
    "# Added setting the vertical axis limits to be from 10^-7 to 10^0\n",
    "plt.ylim(1e-3, 1e2)\n",
    "plt.legend()\n",
    "plt.subplot(2, 2, 3)\n",
    "plt.plot([m[\"linf_norm\"] for m in train_metrics], label=\"Train Linf Norm\")\n",
    "plt.plot([m[\"linf_norm\"] for m in test_metrics], label=\"Test Linf Norm\")\n",
    "plt.xlabel(\"Epoch\")\n",
    "plt.ylabel(\"Linf Norm\")\n",
    "# Added setting the vertical axis to be in powers of 10\n",
    "plt.yscale(\"log\")\n",
    "# Added setting the vertical axis limits to be from 10^-7 to 10^0\n",
    "plt.ylim(1e-3, 1e2)\n",
    "plt.legend()\n",
    "plt.tight_layout()\n",
    "plt.show()\n",
    "\n",
    "# Added plotting MSE of training data and MSE of test data in one plot \n",
    "plt.figure(figsize=(8, 6))\n",
    "plt.plot(train_losses,label=\"training data\")\n",
    "plt.plot(test_losses,label=\"test data\")\n",
    "#if scheduler is not None:\n",
    "#    plt.plot([scheduler.get_last_lr()[0] for _ in range(n_epochs)], label=\"Learning rate\") \n",
    "plt.xlabel(\"Epoch\")\n",
    "plt.ylabel(\"MSE\")\n",
    "# Added setting the vertical axis to be in powers of 10\n",
    "plt.yscale(\"log\")\n",
    "# Added setting the vertical axis limits to be from 10^-7 to 10^0\n",
    "plt.ylim(1e-7, 1e0)\n",
    "plt.legend()\n",
    "plt.show()"
   ]
  },
  {
   "cell_type": "markdown",
   "metadata": {},
   "source": [
    "## Loading"
   ]
  },
  {
   "cell_type": "code",
   "execution_count": 30,
   "metadata": {},
   "outputs": [
    {
     "data": {
      "text/plain": [
       "<All keys matched successfully>"
      ]
     },
     "execution_count": 30,
     "metadata": {},
     "output_type": "execute_result"
    }
   ],
   "source": [
    "import json\n",
    "import pandas as pd\n",
    "\n",
    "# load the dictionary from the .json file\n",
    "with open(\"var_dict.json\", \"r\") as f:\n",
    "  var_dict_loaded = json.load(f)\n",
    "\n",
    "# extract the variables from the dictionary\n",
    "batch_size_loaded = var_dict_loaded[\"batch_size\"]\n",
    "n_epochs_loaded = var_dict_loaded[\"n_epochs\"]\n",
    "loss_name_loaded = var_dict_loaded[\"loss_name\"]\n",
    "optimizer_name_loaded = var_dict_loaded[\"optimizer_name\"]\n",
    "scheduler_name_loaded = var_dict_loaded[\"scheduler_name\"]\n",
    "n_units_loaded = var_dict_loaded[\"n_units\"]\n",
    "n_layers_loaded = var_dict_loaded[\"n_layers\"]\n",
    "hidden_activation_name_loaded = var_dict_loaded[\"hidden_activation_name\"]\n",
    "output_activation_name_loaded = var_dict_loaded[\"output_activation_name\"]\n",
    "lr_loaded = var_dict_loaded[\"lr\"]\n",
    "\n",
    "# create the activation functions from their names\n",
    "if hidden_activation_name_loaded == \"ReLU\":\n",
    "  hidden_activation_loaded = nn.ReLU()\n",
    "elif hidden_activation_name_loaded == \"LeakyReLU\":\n",
    "  hidden_activation_loaded = nn.LeakyReLU() \n",
    "elif hidden_activation_name_loaded == \"ELU\":\n",
    "  hidden_activation_loaded = nn.ELU() \n",
    "elif hidden_activation_name_loaded == \"Tanh\":\n",
    "  hidden_activation_loaded = nn.Tanh()\n",
    "else:\n",
    "  hidden_activation_loaded = nn.Sigmoid()\n",
    "\n",
    "if output_activation_name_loaded == \"ReLU\":\n",
    "  output_activation_loaded = nn.ReLU()\n",
    "else:\n",
    "  output_activation_loaded = nn.Identity()\n",
    "\n",
    "# load the network from the .pth file\n",
    "net_loaded = Net(n_layers_loaded, n_units_loaded, hidden_activation_loaded, output_activation_loaded).to(device)\n",
    "net_loaded.load_state_dict(torch.load(\"net.pth\"))\n",
    "\n",
    "# create the loss function from its name\n",
    "if loss_name_loaded == \"MSE\":\n",
    "  loss_fn_loaded = nn.MSELoss()\n",
    "elif loss_name_loaded == \"MAE\":\n",
    "  loss_fn_loaded = nn.L1Loss()\n",
    "elif loss_name_loaded == \"Huber\":\n",
    "  loss_fn_loaded = nn.SmoothL1Loss() \n",
    "else:\n",
    "  # create the log-cosh loss function\n",
    "  def log_cosh_loss_loaded(y_pred, y_true):\n",
    "    return torch.mean(torch.log(torch.cosh(y_pred - y_true)))\n",
    "  loss_fn_loaded = log_cosh_loss_loaded\n",
    "\n",
    "# load the optimizer from the .pth file\n",
    "if optimizer_name_loaded == \"SGD\":\n",
    "  optimizer_loaded = optim.SGD(net_loaded.parameters(), lr=lr_loaded)\n",
    "elif optimizer_name_loaded == \"Adam\":\n",
    "  optimizer_loaded = optim.Adam(net_loaded.parameters(), lr=lr_loaded)\n",
    "elif optimizer_name_loaded == \"RMSprop\":\n",
    "  optimizer_loaded = optim.RMSprop(net_loaded.parameters(), lr=lr_loaded)\n",
    "else:\n",
    "  # Added loading the Adagrad optimizer\n",
    "  optimizer_loaded = optim.Adagrad(net_loaded.parameters(), lr=lr_loaded)\n",
    "optimizer_loaded.load_state_dict(torch.load(\"optimizer.pth\"))\n",
    "\n",
    "# load the scheduler from the .pth file\n",
    "scheduler_loaded_state_dict = torch.load(\"scheduler.pth\")\n",
    "if scheduler_name_loaded == \"StepLR\":\n",
    "  # Added getting the step_size and gamma parameters from the state dict\n",
    "  step_size = scheduler_loaded_state_dict[\"step_size\"]\n",
    "  gamma = scheduler_loaded_state_dict[\"gamma\"]\n",
    "  scheduler_loaded = optim.lr_scheduler.StepLR(optimizer, step_size=step_size, gamma=gamma)\n",
    "elif scheduler_name_loaded == \"ExponentialLR\":\n",
    "  # Added getting the gamma parameter from the state dict\n",
    "  gamma = scheduler_loaded_state_dict[\"gamma\"]\n",
    "  scheduler_loaded = optim.lr_scheduler.ExponentialLR(optimizer, gamma=gamma)\n",
    "elif scheduler_name_loaded == \"CosineAnnealingLR\":\n",
    "  # Added getting the T_max parameter from the state dict\n",
    "  T_max = scheduler_loaded_state_dict[\"T_max\"]\n",
    "  scheduler_loaded = optim.lr_scheduler.CosineAnnealingLR(optimizer, T_max=T_max)\n",
    "elif scheduler_name_loaded == \"ReduceLROnPlateau\":\n",
    "  # Added getting the mode, factor, patience, threshold and min_lr parameters from the state dict\n",
    "  mode = scheduler_loaded_state_dict[\"mode\"]\n",
    "  factor = scheduler_loaded_state_dict[\"factor\"]\n",
    "  patience = scheduler_loaded_state_dict[\"patience\"]\n",
    "  threshold = scheduler_loaded_state_dict[\"threshold\"]\n",
    "  min_lr = scheduler_loaded_state_dict[\"min_lrs\"][0]\n",
    "  scheduler_loaded = optim.lr_scheduler.ReduceLROnPlateau(\n",
    "                    optimizer, mode=mode, factor=factor, patience=patience, threshold=threshold, min_lr=min_lr\n",
    "                )\n",
    "else:\n",
    "  scheduler_loaded = None\n",
    "\n",
    "if scheduler_loaded is not None:\n",
    "  # Added loading the state dict to the scheduler_loaded\n",
    "  scheduler_loaded.load_state_dict(scheduler_loaded_state_dict)\n",
    "\n",
    "# Loading the output of the training using pandas\n",
    "train_df_loaded = pd.read_csv(\"train_output.csv\")\n",
    "train_losses_loaded = train_df_loaded[\"train_loss\"].tolist()\n",
    "test_losses_loaded = train_df_loaded[\"test_loss\"].tolist()\n",
    "train_metrics_loaded = [\n",
    "    {\n",
    "        \"l1_norm\": train_df_loaded[\"train_l1_norm\"][i],\n",
    "        \"linf_norm\": train_df_loaded[\"train_linf_norm\"][i],\n",
    "    }\n",
    "    for i in range(len(train_df_loaded))\n",
    "]\n",
    "test_metrics_loaded = [\n",
    "    {\n",
    "        \"l1_norm\": train_df_loaded[\"test_l1_norm\"][i],\n",
    "        \"linf_norm\": train_df_loaded[\"test_linf_norm\"][i],\n",
    "    }\n",
    "    for i in range(len(train_df_loaded))\n",
    "]"
   ]
  },
  {
   "cell_type": "code",
   "execution_count": 36,
   "metadata": {},
   "outputs": [
    {
     "data": {
      "text/plain": [
       "170"
      ]
     },
     "execution_count": 36,
     "metadata": {},
     "output_type": "execute_result"
    },
    {
     "data": {
      "text/plain": [
       "400"
      ]
     },
     "execution_count": 36,
     "metadata": {},
     "output_type": "execute_result"
    },
    {
     "data": {
      "text/plain": [
       "'MSE'"
      ]
     },
     "execution_count": 36,
     "metadata": {},
     "output_type": "execute_result"
    },
    {
     "data": {
      "text/plain": [
       "'Adam'"
      ]
     },
     "execution_count": 36,
     "metadata": {},
     "output_type": "execute_result"
    },
    {
     "data": {
      "text/plain": [
       "'ReduceLROnPlateau'"
      ]
     },
     "execution_count": 36,
     "metadata": {},
     "output_type": "execute_result"
    },
    {
     "data": {
      "text/plain": [
       "[78, 193, 99]"
      ]
     },
     "execution_count": 36,
     "metadata": {},
     "output_type": "execute_result"
    },
    {
     "data": {
      "text/plain": [
       "3"
      ]
     },
     "execution_count": 36,
     "metadata": {},
     "output_type": "execute_result"
    },
    {
     "data": {
      "text/plain": [
       "'ReLU'"
      ]
     },
     "execution_count": 36,
     "metadata": {},
     "output_type": "execute_result"
    },
    {
     "data": {
      "text/plain": [
       "'Identity'"
      ]
     },
     "execution_count": 36,
     "metadata": {},
     "output_type": "execute_result"
    },
    {
     "data": {
      "text/plain": [
       "0.00036516467819506355"
      ]
     },
     "execution_count": 36,
     "metadata": {},
     "output_type": "execute_result"
    },
    {
     "data": {
      "text/plain": [
       "ReLU()"
      ]
     },
     "execution_count": 36,
     "metadata": {},
     "output_type": "execute_result"
    },
    {
     "data": {
      "text/plain": [
       "Identity()"
      ]
     },
     "execution_count": 36,
     "metadata": {},
     "output_type": "execute_result"
    },
    {
     "data": {
      "text/plain": [
       "Net(\n",
       "  (hidden_activation): ReLU()\n",
       "  (output_activation): Identity()\n",
       "  (layers): ModuleList(\n",
       "    (0): Linear(in_features=3, out_features=78, bias=True)\n",
       "    (1): Linear(in_features=78, out_features=193, bias=True)\n",
       "    (2): Linear(in_features=193, out_features=99, bias=True)\n",
       "    (3): Linear(in_features=99, out_features=1, bias=True)\n",
       "  )\n",
       ")"
      ]
     },
     "execution_count": 36,
     "metadata": {},
     "output_type": "execute_result"
    },
    {
     "data": {
      "text/plain": [
       "{'training': True,\n",
       " '_parameters': OrderedDict(),\n",
       " '_buffers': OrderedDict(),\n",
       " '_non_persistent_buffers_set': set(),\n",
       " '_backward_pre_hooks': OrderedDict(),\n",
       " '_backward_hooks': OrderedDict(),\n",
       " '_is_full_backward_hook': None,\n",
       " '_forward_hooks': OrderedDict(),\n",
       " '_forward_hooks_with_kwargs': OrderedDict(),\n",
       " '_forward_pre_hooks': OrderedDict(),\n",
       " '_forward_pre_hooks_with_kwargs': OrderedDict(),\n",
       " '_state_dict_hooks': OrderedDict(),\n",
       " '_state_dict_pre_hooks': OrderedDict(),\n",
       " '_load_state_dict_pre_hooks': OrderedDict(),\n",
       " '_load_state_dict_post_hooks': OrderedDict(),\n",
       " '_modules': OrderedDict([('hidden_activation', ReLU()),\n",
       "              ('output_activation', Identity()),\n",
       "              ('layers',\n",
       "               ModuleList(\n",
       "                 (0): Linear(in_features=3, out_features=78, bias=True)\n",
       "                 (1): Linear(in_features=78, out_features=193, bias=True)\n",
       "                 (2): Linear(in_features=193, out_features=99, bias=True)\n",
       "                 (3): Linear(in_features=99, out_features=1, bias=True)\n",
       "               ))]),\n",
       " 'n_layers': 3,\n",
       " 'n_units': [78, 193, 99]}"
      ]
     },
     "execution_count": 36,
     "metadata": {},
     "output_type": "execute_result"
    },
    {
     "data": {
      "text/plain": [
       "MSELoss()"
      ]
     },
     "execution_count": 36,
     "metadata": {},
     "output_type": "execute_result"
    },
    {
     "data": {
      "text/plain": [
       "Adam (\n",
       "Parameter Group 0\n",
       "    amsgrad: False\n",
       "    betas: (0.9, 0.999)\n",
       "    capturable: False\n",
       "    differentiable: False\n",
       "    eps: 1e-08\n",
       "    foreach: None\n",
       "    fused: None\n",
       "    lr: 1e-06\n",
       "    maximize: False\n",
       "    weight_decay: 0\n",
       ")"
      ]
     },
     "execution_count": 36,
     "metadata": {},
     "output_type": "execute_result"
    },
    {
     "data": {
      "text/plain": [
       "{'defaults': {'lr': 0.00036516467819506355,\n",
       "  'betas': (0.9, 0.999),\n",
       "  'eps': 1e-08,\n",
       "  'weight_decay': 0,\n",
       "  'amsgrad': False,\n",
       "  'maximize': False,\n",
       "  'foreach': None,\n",
       "  'capturable': False,\n",
       "  'differentiable': False,\n",
       "  'fused': None},\n",
       " '_optimizer_step_pre_hooks': OrderedDict(),\n",
       " '_optimizer_step_post_hooks': OrderedDict(),\n",
       " '_zero_grad_profile_name': 'Optimizer.zero_grad#Adam.zero_grad',\n",
       " 'state': defaultdict(dict,\n",
       "             {Parameter containing:\n",
       "              tensor([[-0.4380, -0.2706,  0.3878],\n",
       "                      [-0.1040, -0.2838,  0.4201],\n",
       "                      [ 0.0125, -0.0713,  0.0258],\n",
       "                      [-0.5718,  0.1444, -0.0363],\n",
       "                      [ 0.4210,  0.4313,  0.2001],\n",
       "                      [ 0.0133, -0.2909,  0.1019],\n",
       "                      [ 0.4692, -0.3755, -0.1862],\n",
       "                      [-0.3415, -0.2920,  0.4948],\n",
       "                      [-0.4000, -0.0958,  0.3481],\n",
       "                      [ 0.5668,  0.3422,  0.5395],\n",
       "                      [ 0.0391, -0.3294, -0.3175],\n",
       "                      [-0.2565, -0.5176, -0.0354],\n",
       "                      [ 0.4540, -0.1403,  0.2564],\n",
       "                      [-0.1359,  0.2099,  0.0190],\n",
       "                      [ 0.1730, -0.2769,  0.1570],\n",
       "                      [-0.0820,  0.3469, -0.2130],\n",
       "                      [-0.3044, -0.2031,  0.3373],\n",
       "                      [ 0.0217,  0.2304,  0.0685],\n",
       "                      [ 0.0296,  0.3610, -0.0420],\n",
       "                      [ 0.0303,  0.2130,  0.4744],\n",
       "                      [ 0.1349,  0.3468,  0.5453],\n",
       "                      [ 0.3109, -0.2942,  0.3839],\n",
       "                      [ 0.4388,  0.5204,  0.0363],\n",
       "                      [-0.3358,  0.4620,  0.4427],\n",
       "                      [-0.4249,  0.2407, -0.3637],\n",
       "                      [-0.3585,  0.4685,  0.3555],\n",
       "                      [ 0.1745, -0.6940, -0.1733],\n",
       "                      [-0.2612,  0.4034, -0.1012],\n",
       "                      [ 0.2572,  0.5447,  0.4207],\n",
       "                      [-0.0183,  0.4322,  0.3214],\n",
       "                      [ 0.0653,  0.4560,  0.1499],\n",
       "                      [-0.4669,  0.5479, -0.2491],\n",
       "                      [ 0.0602,  0.0813,  0.0101],\n",
       "                      [-0.4473, -0.3426,  0.4943],\n",
       "                      [ 0.2647, -0.1774, -0.0539],\n",
       "                      [ 0.1291,  0.4422,  0.2390],\n",
       "                      [ 0.2892, -0.2613, -0.1033],\n",
       "                      [ 0.0909,  0.3962, -0.3610],\n",
       "                      [ 0.4553, -0.2295, -0.3394],\n",
       "                      [-0.4034, -0.3592,  0.1927],\n",
       "                      [ 0.0176, -0.4194,  0.5834],\n",
       "                      [ 0.5203, -0.0330,  0.2664],\n",
       "                      [-0.0018,  0.3850,  0.1108],\n",
       "                      [-0.5258,  0.4542, -0.0539],\n",
       "                      [-0.3766,  0.5634, -0.5283],\n",
       "                      [ 0.5510,  0.5027, -0.0636],\n",
       "                      [-0.2598,  0.5284,  0.0318],\n",
       "                      [-0.3697, -0.4529,  0.5649],\n",
       "                      [-0.5421, -0.4920, -0.0784],\n",
       "                      [ 0.5254,  0.2706, -0.2973],\n",
       "                      [ 0.3021, -0.4424,  0.3811],\n",
       "                      [ 0.2226, -0.0098,  0.1096],\n",
       "                      [-0.2739,  0.1640,  0.0677],\n",
       "                      [ 0.5131, -0.3013,  0.4693],\n",
       "                      [ 0.2774, -0.5416, -0.0958],\n",
       "                      [ 0.0034,  0.5082,  0.1339],\n",
       "                      [ 0.5760, -0.0131,  0.1798],\n",
       "                      [-0.2518,  0.1630,  0.0901],\n",
       "                      [-0.3685, -0.1609,  0.5119],\n",
       "                      [-0.3391, -0.1027, -0.3240],\n",
       "                      [ 0.4718,  0.5210, -0.2996],\n",
       "                      [ 0.0924, -0.1013,  0.3991],\n",
       "                      [-0.3259, -0.4280,  0.0559],\n",
       "                      [-0.4253,  0.5345, -0.4082],\n",
       "                      [ 0.1749,  0.2245,  0.5818],\n",
       "                      [-0.0091,  0.0895,  0.0085],\n",
       "                      [ 0.5580, -0.1077, -0.3132],\n",
       "                      [ 0.4845, -0.3874,  0.2824],\n",
       "                      [-0.4790, -0.1287,  0.2465],\n",
       "                      [ 0.1348, -0.6901, -0.0195],\n",
       "                      [ 0.2313,  0.0542, -0.0770],\n",
       "                      [ 0.4004,  0.0618, -0.1684],\n",
       "                      [ 0.1362,  0.4049,  0.4831],\n",
       "                      [-0.1671,  0.5269, -0.4943],\n",
       "                      [ 0.5348,  0.0218, -0.1771],\n",
       "                      [-0.1963, -0.1230, -0.5433],\n",
       "                      [-0.0594,  0.0998,  0.1466],\n",
       "                      [ 0.2125, -0.0846, -0.4284]], requires_grad=True): {'step': tensor(188400.),\n",
       "               'exp_avg': tensor([[ 1.3494e-05,  1.0603e-05,  2.2479e-05],\n",
       "                       [ 6.9245e-05,  2.1808e-05,  8.2997e-05],\n",
       "                       [-7.7824e-06, -1.3155e-05, -1.6808e-05],\n",
       "                       [ 0.0000e+00,  0.0000e+00,  0.0000e+00],\n",
       "                       [-3.3056e-06, -2.7414e-05, -1.4246e-05],\n",
       "                       [-3.0585e-06, -2.0356e-06, -4.2484e-06],\n",
       "                       [ 1.2985e-05,  2.7665e-06,  7.4812e-07],\n",
       "                       [ 1.9038e-05, -6.1512e-06,  1.4091e-05],\n",
       "                       [ 5.9255e-05,  5.1919e-05,  8.7804e-05],\n",
       "                       [ 1.0953e-05, -3.8996e-06,  3.8456e-05],\n",
       "                       [-2.3116e-06, -4.9760e-07, -3.3752e-07],\n",
       "                       [ 0.0000e+00,  0.0000e+00,  0.0000e+00],\n",
       "                       [ 1.0678e-05, -2.4032e-05,  2.0633e-05],\n",
       "                       [-3.1526e-05,  2.8222e-05, -1.7024e-05],\n",
       "                       [-1.6555e-06,  4.9644e-06,  1.8272e-05],\n",
       "                       [ 4.1933e-05,  1.0450e-04,  8.9347e-05],\n",
       "                       [ 3.1482e-05,  1.5339e-05,  4.4889e-05],\n",
       "                       [ 1.0084e-05,  3.5520e-05,  3.6777e-05],\n",
       "                       [ 1.1713e-05,  4.0261e-05,  5.6567e-06],\n",
       "                       [-2.0407e-06, -2.2369e-05,  7.5316e-06],\n",
       "                       [ 3.4054e-05,  4.7716e-05,  7.8625e-05],\n",
       "                       [-1.3796e-06, -7.0576e-05,  1.8698e-05],\n",
       "                       [ 1.5582e-05,  4.2509e-07,  1.0705e-05],\n",
       "                       [ 1.7642e-05,  1.9971e-05,  3.2878e-05],\n",
       "                       [-9.3625e-07, -9.1669e-07, -1.1921e-06],\n",
       "                       [ 2.4233e-05,  4.4459e-05,  5.2604e-05],\n",
       "                       [ 3.9649e-06,  3.8277e-07,  8.5114e-07],\n",
       "                       [-3.5560e-05,  2.1226e-05, -1.4885e-05],\n",
       "                       [ 6.1395e-06,  4.2977e-06,  2.6648e-05],\n",
       "                       [ 1.0982e-05,  2.5357e-05,  4.8948e-05],\n",
       "                       [ 5.2061e-06,  8.1047e-06,  9.8350e-06],\n",
       "                       [ 7.2142e-06,  6.7932e-05,  5.0866e-05],\n",
       "                       [-7.3590e-06, -1.0772e-05, -3.0194e-05],\n",
       "                       [ 6.6473e-06, -1.1923e-05, -1.4944e-06],\n",
       "                       [ 4.0315e-05,  2.1045e-05,  1.6739e-05],\n",
       "                       [-1.6546e-05, -5.7000e-06, -3.4238e-05],\n",
       "                       [ 6.2199e-06, -3.7494e-06, -3.3255e-06],\n",
       "                       [ 5.1342e-05,  9.6052e-05,  7.6109e-05],\n",
       "                       [ 2.7779e-05,  1.0148e-05,  1.1666e-05],\n",
       "                       [ 0.0000e+00,  0.0000e+00,  0.0000e+00],\n",
       "                       [ 2.2800e-05, -2.1541e-05,  4.4511e-05],\n",
       "                       [-1.7503e-05, -4.3682e-05, -2.8964e-05],\n",
       "                       [-5.4874e-06, -5.6883e-07,  2.7930e-05],\n",
       "                       [-1.1131e-05,  3.5730e-05,  1.4402e-05],\n",
       "                       [ 0.0000e+00,  0.0000e+00,  0.0000e+00],\n",
       "                       [-1.0622e-06, -3.9178e-06, -4.2114e-05],\n",
       "                       [-8.7434e-06,  2.2048e-05, -1.1665e-05],\n",
       "                       [ 3.0228e-05,  2.7296e-05,  5.3459e-05],\n",
       "                       [ 0.0000e+00,  0.0000e+00,  0.0000e+00],\n",
       "                       [-4.3689e-05, -2.2406e-05, -1.1023e-04],\n",
       "                       [-8.3493e-07, -6.4811e-05,  4.7329e-06],\n",
       "                       [ 1.3304e-05, -7.0606e-06,  4.9961e-05],\n",
       "                       [-1.1458e-05,  2.6402e-06, -4.2875e-06],\n",
       "                       [ 2.0328e-05, -9.3324e-06,  6.6330e-05],\n",
       "                       [ 9.7307e-06,  1.8811e-06, -9.8509e-07],\n",
       "                       [ 2.9342e-05,  3.8774e-05,  6.6899e-05],\n",
       "                       [ 7.5779e-06,  3.3759e-06,  1.7065e-05],\n",
       "                       [-5.8002e-06,  5.9566e-06, -3.3847e-06],\n",
       "                       [ 2.9415e-05,  5.5987e-06,  2.6720e-05],\n",
       "                       [ 0.0000e+00,  0.0000e+00,  0.0000e+00],\n",
       "                       [-7.7630e-06, -3.7749e-06, -5.0335e-05],\n",
       "                       [ 1.8176e-06, -2.5062e-05,  6.4669e-06],\n",
       "                       [ 0.0000e+00,  0.0000e+00,  0.0000e+00],\n",
       "                       [ 8.5681e-05,  3.0084e-04,  2.8573e-04],\n",
       "                       [ 2.8679e-06, -1.1491e-05,  3.1976e-05],\n",
       "                       [ 8.2138e-06,  1.4102e-05,  3.3261e-06],\n",
       "                       [ 3.5952e-05,  3.2703e-05,  1.5718e-05],\n",
       "                       [ 6.4881e-06, -3.1566e-05,  1.7828e-05],\n",
       "                       [-3.0567e-06, -1.3178e-06, -6.6795e-06],\n",
       "                       [ 7.9681e-06,  4.1523e-07, -2.7589e-06],\n",
       "                       [-1.5177e-05, -3.8595e-05, -4.8465e-05],\n",
       "                       [ 1.0611e-06,  1.7806e-06, -1.6829e-05],\n",
       "                       [-2.4376e-07,  4.3130e-06,  1.8041e-05],\n",
       "                       [ 3.5735e-05,  1.2902e-04,  1.1883e-04],\n",
       "                       [-2.6970e-05, -4.5560e-05, -7.0782e-05],\n",
       "                       [ 0.0000e+00,  0.0000e+00,  0.0000e+00],\n",
       "                       [ 1.2262e-05, -9.8828e-06,  1.5349e-05],\n",
       "                       [ 6.4427e-06, -3.6909e-06, -1.2370e-07]]),\n",
       "               'exp_avg_sq': tensor([[3.0632e-09, 3.9347e-09, 1.2706e-08],\n",
       "                       [4.0021e-07, 1.8383e-06, 1.9308e-06],\n",
       "                       [3.7970e-09, 2.0520e-09, 5.1165e-09],\n",
       "                       [0.0000e+00, 0.0000e+00, 0.0000e+00],\n",
       "                       [1.6323e-08, 8.1266e-08, 7.6908e-08],\n",
       "                       [1.0647e-09, 1.8295e-10, 2.2476e-09],\n",
       "                       [3.1261e-09, 5.2744e-10, 1.9000e-09],\n",
       "                       [2.7805e-08, 1.9178e-07, 2.0093e-07],\n",
       "                       [8.6070e-08, 4.1206e-07, 4.6623e-07],\n",
       "                       [1.5986e-07, 6.1183e-07, 6.3855e-07],\n",
       "                       [3.2493e-10, 2.5311e-12, 2.4566e-12],\n",
       "                       [0.0000e+00, 0.0000e+00, 0.0000e+00],\n",
       "                       [1.9568e-07, 8.7159e-07, 8.6664e-07],\n",
       "                       [1.8650e-07, 9.9120e-07, 9.3263e-07],\n",
       "                       [6.5711e-09, 5.2201e-09, 1.0373e-08],\n",
       "                       [2.6090e-07, 1.3479e-06, 1.2114e-06],\n",
       "                       [2.1718e-08, 9.9871e-08, 1.3094e-07],\n",
       "                       [4.6615e-09, 3.3400e-08, 2.9656e-08],\n",
       "                       [1.6620e-07, 6.9265e-07, 6.5061e-07],\n",
       "                       [1.0235e-07, 4.0349e-07, 4.0860e-07],\n",
       "                       [3.9541e-08, 7.4517e-08, 1.1411e-07],\n",
       "                       [8.3687e-07, 3.2432e-06, 3.2431e-06],\n",
       "                       [4.5247e-09, 1.2896e-08, 1.7174e-08],\n",
       "                       [1.4458e-08, 5.3308e-08, 5.8868e-08],\n",
       "                       [1.8434e-11, 3.8068e-11, 2.7725e-11],\n",
       "                       [2.0007e-09, 7.7987e-09, 8.2588e-09],\n",
       "                       [8.2213e-11, 2.3666e-13, 9.1385e-12],\n",
       "                       [2.9129e-07, 1.5049e-06, 1.4110e-06],\n",
       "                       [3.9120e-08, 9.9987e-08, 1.2116e-07],\n",
       "                       [4.1059e-08, 7.2864e-08, 9.3787e-08],\n",
       "                       [9.8551e-10, 2.1269e-09, 1.7533e-09],\n",
       "                       [1.1382e-07, 8.4613e-07, 7.6052e-07],\n",
       "                       [3.6573e-08, 9.8840e-08, 1.0840e-07],\n",
       "                       [3.5437e-09, 2.9765e-08, 3.1866e-08],\n",
       "                       [2.7534e-08, 1.0083e-08, 2.3014e-08],\n",
       "                       [4.8146e-08, 1.7143e-07, 1.8998e-07],\n",
       "                       [9.0977e-09, 2.0977e-09, 1.0698e-08],\n",
       "                       [3.8710e-07, 1.8474e-06, 1.6554e-06],\n",
       "                       [4.0320e-09, 9.5385e-10, 1.0889e-09],\n",
       "                       [0.0000e+00, 0.0000e+00, 0.0000e+00],\n",
       "                       [4.2245e-07, 1.8699e-06, 1.9236e-06],\n",
       "                       [3.5223e-08, 1.8349e-07, 1.6303e-07],\n",
       "                       [5.3078e-08, 7.1327e-08, 1.0778e-07],\n",
       "                       [9.7979e-08, 6.9254e-07, 6.4167e-07],\n",
       "                       [0.0000e+00, 0.0000e+00, 0.0000e+00],\n",
       "                       [1.6425e-07, 5.0519e-07, 5.1071e-07],\n",
       "                       [2.0420e-07, 1.0213e-06, 9.8548e-07],\n",
       "                       [7.1667e-09, 7.5329e-09, 2.5297e-08],\n",
       "                       [0.0000e+00, 0.0000e+00, 0.0000e+00],\n",
       "                       [3.5948e-07, 1.2053e-06, 1.2978e-06],\n",
       "                       [5.6525e-07, 2.3856e-06, 2.3719e-06],\n",
       "                       [2.6202e-07, 9.0655e-07, 9.7414e-07],\n",
       "                       [2.1123e-08, 1.4603e-07, 1.4069e-07],\n",
       "                       [5.0476e-07, 1.8859e-06, 1.9670e-06],\n",
       "                       [1.4917e-09, 1.0448e-10, 1.2470e-09],\n",
       "                       [2.5274e-08, 2.9141e-08, 7.2953e-08],\n",
       "                       [3.1526e-08, 1.1100e-07, 1.1662e-07],\n",
       "                       [6.9905e-09, 4.5240e-08, 4.3500e-08],\n",
       "                       [7.9060e-08, 4.5709e-07, 4.5067e-07],\n",
       "                       [0.0000e+00, 0.0000e+00, 0.0000e+00],\n",
       "                       [2.2258e-07, 7.5454e-07, 7.5880e-07],\n",
       "                       [1.2625e-07, 5.6795e-07, 5.5992e-07],\n",
       "                       [0.0000e+00, 0.0000e+00, 0.0000e+00],\n",
       "                       [7.4507e-08, 8.2533e-07, 7.2755e-07],\n",
       "                       [1.9419e-07, 6.2451e-07, 6.6539e-07],\n",
       "                       [1.7771e-08, 6.0419e-08, 5.8426e-08],\n",
       "                       [2.2724e-08, 1.5740e-08, 1.5682e-08],\n",
       "                       [2.9396e-07, 1.3005e-06, 1.2983e-06],\n",
       "                       [4.2171e-10, 1.3097e-10, 1.6656e-09],\n",
       "                       [1.9204e-09, 1.6872e-11, 1.7456e-09],\n",
       "                       [1.0931e-08, 2.1837e-08, 2.8408e-08],\n",
       "                       [3.7808e-08, 1.2103e-07, 1.2713e-07],\n",
       "                       [1.8000e-08, 3.8483e-08, 4.1086e-08],\n",
       "                       [3.9924e-08, 2.4896e-07, 1.9921e-07],\n",
       "                       [3.2352e-08, 6.7770e-08, 8.8488e-08],\n",
       "                       [0.0000e+00, 0.0000e+00, 0.0000e+00],\n",
       "                       [6.8145e-08, 3.0700e-07, 2.9664e-07],\n",
       "                       [2.8425e-09, 7.8855e-10, 2.2802e-10]])},\n",
       "              Parameter containing:\n",
       "              tensor([ 0.3648,  0.4284,  0.3205, -0.2665,  0.4815,  0.2868, -0.2126, -0.3549,\n",
       "                       0.5185, -0.0194,  0.2370, -0.2040,  0.3065, -0.0056, -0.1235,  0.0032,\n",
       "                       0.0091,  0.2095, -0.2229, -0.5217, -0.0878,  0.3964, -0.1428, -0.4403,\n",
       "                       0.4116,  0.2251, -0.3126,  0.1101,  0.1269,  0.2541, -0.4813, -0.0314,\n",
       "                       0.1935,  0.3589, -0.2621,  0.4153,  0.4235,  0.1771, -0.2383, -0.1669,\n",
       "                       0.0261,  0.1727,  0.4132,  0.1230, -0.1629, -0.3646,  0.2882, -0.4171,\n",
       "                      -0.3832,  0.2008,  0.5285, -0.2818, -0.3517, -0.5081,  0.5435, -0.3287,\n",
       "                       0.0918, -0.4287,  0.0229, -0.0870,  0.3092, -0.0782, -0.1391,  0.0540,\n",
       "                      -0.5342,  0.4812, -0.0878,  0.4405,  0.4498,  0.0959,  0.0480,  0.0178,\n",
       "                       0.3483,  0.0731, -0.4935, -0.1826, -0.3545,  0.2489],\n",
       "                     requires_grad=True): {'step': tensor(188400.),\n",
       "               'exp_avg': tensor([ 2.0325e-06,  9.8896e-06, -2.1128e-06,  0.0000e+00,  6.3776e-07,\n",
       "                       -1.2772e-06,  1.7888e-06,  1.0810e-06,  6.7741e-06,  3.2200e-06,\n",
       "                       -1.4039e-06,  0.0000e+00,  1.9647e-06, -6.1110e-06, -6.6281e-07,\n",
       "                        5.5767e-06,  3.6465e-06,  1.6348e-06,  8.5394e-07, -1.1278e-06,\n",
       "                        4.3806e-06,  4.0918e-06,  7.6236e-07,  1.4730e-06, -2.7503e-06,\n",
       "                        2.4897e-06,  4.9726e-07, -5.7418e-06,  1.0245e-07,  2.6612e-06,\n",
       "                        2.6787e-07, -4.8298e-07, -2.2880e-06,  2.2960e-06,  5.1938e-06,\n",
       "                       -1.6355e-06, -1.1968e-06,  2.5192e-06,  3.2515e-06,  0.0000e+00,\n",
       "                        3.4353e-06, -1.1801e-06,  4.2573e-07, -2.3149e-06,  0.0000e+00,\n",
       "                       -5.4369e-07, -2.3369e-07,  3.4488e-06,  0.0000e+00, -6.0615e-06,\n",
       "                        2.6138e-06,  1.3966e-06, -4.3081e-07,  2.4857e-06,  4.6772e-07,\n",
       "                        2.2580e-06,  9.6719e-07, -5.6623e-07,  3.3193e-06,  0.0000e+00,\n",
       "                       -2.3808e-06,  2.3841e-06,  0.0000e+00,  7.1955e-06, -3.9620e-07,\n",
       "                        9.5453e-08,  3.5139e-06,  2.3187e-06,  2.6880e-07,  6.7265e-07,\n",
       "                       -1.6335e-06, -3.5764e-07,  4.6285e-07,  3.3349e-06, -2.4538e-06,\n",
       "                        0.0000e+00,  6.2729e-07, -7.0792e-07]),\n",
       "               'exp_avg_sq': tensor([6.8538e-11, 6.5087e-09, 9.8292e-11, 0.0000e+00, 2.5216e-10, 3.0709e-11,\n",
       "                       6.4668e-11, 3.6775e-10, 1.3821e-09, 2.5462e-09, 1.2026e-11, 0.0000e+00,\n",
       "                       2.9571e-09, 2.6721e-09, 1.1870e-10, 3.6174e-09, 3.4955e-10, 6.9310e-11,\n",
       "                       2.4360e-09, 1.5551e-09, 7.3556e-10, 1.3030e-08, 7.1865e-11, 2.3893e-10,\n",
       "                       4.6238e-11, 3.9031e-11, 1.4822e-12, 4.2056e-09, 6.6880e-10, 7.3980e-10,\n",
       "                       1.4791e-11, 1.4476e-09, 6.1475e-10, 6.1022e-11, 4.6888e-10, 7.5584e-10,\n",
       "                       2.3557e-10, 5.5551e-09, 7.2765e-11, 0.0000e+00, 6.5144e-09, 4.8432e-10,\n",
       "                       9.8424e-10, 1.3364e-09, 0.0000e+00, 2.6430e-09, 3.0515e-09, 1.2659e-10,\n",
       "                       0.0000e+00, 5.8508e-09, 8.5335e-09, 4.1416e-09, 2.6868e-10, 7.9399e-09,\n",
       "                       4.2742e-11, 4.7798e-10, 5.1495e-10, 9.0261e-11, 1.1186e-09, 0.0000e+00,\n",
       "                       3.5693e-09, 1.9458e-09, 0.0000e+00, 8.8242e-10, 3.1132e-09, 2.7069e-10,\n",
       "                       3.9915e-10, 4.5576e-09, 1.7203e-11, 4.3065e-11, 1.7560e-10, 6.0576e-10,\n",
       "                       2.8786e-10, 5.0570e-10, 5.2476e-10, 0.0000e+00, 9.5126e-10, 6.4811e-11])},\n",
       "              Parameter containing:\n",
       "              tensor([[ 0.0454,  0.0719, -0.0168,  ..., -0.0725, -0.0565,  0.0752],\n",
       "                      [-0.0530,  0.0332,  0.0299,  ...,  0.0074, -0.0091,  0.1081],\n",
       "                      [-0.0504,  0.0888,  0.1025,  ..., -0.1034, -0.0394,  0.0524],\n",
       "                      ...,\n",
       "                      [ 0.0060,  0.0672,  0.0812,  ...,  0.0673, -0.0155,  0.0943],\n",
       "                      [-0.0074, -0.0151, -0.0428,  ..., -0.0103, -0.0911, -0.0689],\n",
       "                      [-0.0993,  0.0968, -0.0003,  ...,  0.1007,  0.0432, -0.0552]],\n",
       "                     requires_grad=True): {'step': tensor(188400.),\n",
       "               'exp_avg': tensor([[ 2.6390e-06,  2.0887e-05,  1.8928e-06,  ...,  0.0000e+00,\n",
       "                         8.9510e-06,  2.2403e-07],\n",
       "                       [-2.4561e-06, -1.8184e-05, -6.3385e-07,  ...,  0.0000e+00,\n",
       "                        -4.8331e-06,  2.1281e-06],\n",
       "                       [ 1.7806e-06,  1.3298e-05,  5.2984e-07,  ...,  0.0000e+00,\n",
       "                         4.7151e-06, -1.1381e-06],\n",
       "                       ...,\n",
       "                       [ 8.6678e-08,  1.0843e-06,  2.1884e-07,  ...,  0.0000e+00,\n",
       "                         4.8022e-07, -6.5774e-09],\n",
       "                       [ 5.6052e-45,  5.6052e-45,  5.6052e-45,  ...,  0.0000e+00,\n",
       "                         5.6052e-45,  5.6052e-45],\n",
       "                       [-5.6052e-45,  5.6052e-45, -5.6052e-45,  ...,  0.0000e+00,\n",
       "                         5.6052e-45, -5.6052e-45]]),\n",
       "               'exp_avg_sq': tensor([[3.5104e-10, 1.2437e-08, 9.4299e-11,  ..., 0.0000e+00, 2.1873e-08,\n",
       "                        1.9641e-12],\n",
       "                       [2.5087e-10, 1.3508e-08, 9.4418e-11,  ..., 0.0000e+00, 3.0402e-08,\n",
       "                        7.5797e-11],\n",
       "                       [1.4905e-10, 4.6084e-09, 3.9746e-11,  ..., 0.0000e+00, 7.4898e-09,\n",
       "                        1.7219e-11],\n",
       "                       ...,\n",
       "                       [4.7175e-12, 1.3602e-10, 1.3778e-12,  ..., 0.0000e+00, 9.9369e-11,\n",
       "                        3.0448e-16],\n",
       "                       [7.0065e-43, 7.0065e-43, 7.0065e-43,  ..., 0.0000e+00, 7.0065e-43,\n",
       "                        7.0065e-43],\n",
       "                       [7.0065e-43, 7.0065e-43, 7.0065e-43,  ..., 0.0000e+00, 7.0065e-43,\n",
       "                        7.0065e-43]])},\n",
       "              Parameter containing:\n",
       "              tensor([-0.0809,  0.0575,  0.0718,  0.0576,  0.1072, -0.1118, -0.0847, -0.0663,\n",
       "                       0.0828,  0.1224,  0.0744, -0.1616,  0.0198, -0.0864,  0.0822,  0.0687,\n",
       "                       0.1059, -0.0052,  0.1348, -0.0396,  0.0893, -0.0589, -0.0193, -0.0898,\n",
       "                       0.0310, -0.0194,  0.0217,  0.0881,  0.0875, -0.0808,  0.0737,  0.0943,\n",
       "                      -0.0206, -0.0848, -0.0195, -0.0310,  0.0303, -0.0620, -0.0685,  0.0789,\n",
       "                      -0.0697, -0.0930, -0.0205, -0.1001, -0.0347,  0.0412,  0.0276,  0.0313,\n",
       "                       0.0970,  0.0293,  0.0640,  0.0718, -0.0959,  0.0592,  0.1084, -0.0548,\n",
       "                       0.1242,  0.0125, -0.0529,  0.0885, -0.0019, -0.1292, -0.0376, -0.0608,\n",
       "                      -0.0079, -0.0303, -0.0664,  0.0180,  0.0598,  0.0095,  0.0865, -0.0177,\n",
       "                      -0.0954, -0.0964, -0.0736,  0.0580,  0.0686, -0.0370, -0.0406,  0.0495,\n",
       "                       0.0664, -0.0132, -0.0837, -0.1080, -0.1119,  0.0315, -0.0504, -0.0534,\n",
       "                      -0.0190, -0.0678,  0.0303, -0.1158,  0.0485, -0.0726, -0.0755,  0.0487,\n",
       "                      -0.0519, -0.0168, -0.0449,  0.0321, -0.0281, -0.0614,  0.0965, -0.0518,\n",
       "                       0.0522,  0.0967,  0.0813,  0.0381,  0.0132, -0.0383, -0.0122,  0.0424,\n",
       "                       0.0178,  0.0389,  0.0240,  0.1389,  0.1181,  0.0847, -0.0004,  0.0333,\n",
       "                       0.0668, -0.0043, -0.1290,  0.0135,  0.1013,  0.0714,  0.0670, -0.0711,\n",
       "                      -0.0658, -0.0193, -0.0088, -0.0204,  0.0373,  0.0144, -0.0736,  0.0628,\n",
       "                      -0.0621,  0.0415,  0.0254,  0.0177, -0.0741,  0.0046,  0.0804, -0.0299,\n",
       "                       0.0086, -0.0434, -0.0337,  0.1096, -0.0235, -0.0158,  0.1544, -0.1106,\n",
       "                       0.0080, -0.0765, -0.0486, -0.0301,  0.0787,  0.0468,  0.0436,  0.0576,\n",
       "                       0.0374, -0.0367, -0.0613, -0.0954,  0.0773,  0.1012, -0.0873, -0.0718,\n",
       "                       0.0902, -0.1046,  0.0164, -0.1117, -0.0693, -0.0556,  0.0707, -0.0399,\n",
       "                      -0.0255, -0.0371, -0.0424, -0.0648,  0.0633,  0.0149,  0.0620,  0.0883,\n",
       "                       0.0741,  0.0376,  0.0224,  0.0326,  0.0952, -0.0442,  0.0479, -0.0247,\n",
       "                      -0.1165], requires_grad=True): {'step': tensor(188400.),\n",
       "               'exp_avg': tensor([ 8.5051e-06, -2.7873e-06,  2.3338e-06, -2.8726e-06, -5.3448e-07,\n",
       "                        5.6052e-45, -1.4097e-06,  5.6052e-45,  1.6555e-07,  1.6239e-08,\n",
       "                       -2.3860e-07,  3.4524e-06,  1.3380e-06,  0.0000e+00,  8.5206e-07,\n",
       "                        1.2143e-06,  0.0000e+00, -2.3877e-07,  3.0717e-06,  8.0423e-07,\n",
       "                       -8.1674e-07,  1.5526e-06, -9.5355e-07, -1.3051e-06, -2.1433e-06,\n",
       "                       -3.5074e-07, -2.4460e-06,  5.6052e-45,  0.0000e+00,  0.0000e+00,\n",
       "                        0.0000e+00,  0.0000e+00,  1.3759e-08,  8.8479e-07,  0.0000e+00,\n",
       "                       -1.0117e-07,  1.9662e-06,  2.4261e-06,  6.4551e-07, -9.1622e-07,\n",
       "                       -5.1966e-06, -2.6106e-07,  5.9141e-07,  0.0000e+00,  5.6052e-45,\n",
       "                        1.3664e-07,  0.0000e+00,  6.0911e-07,  1.5951e-06,  1.3071e-06,\n",
       "                       -1.1798e-06, -1.4058e-06,  5.6052e-45, -1.1034e-06,  8.2472e-07,\n",
       "                        2.9909e-06,  2.4291e-06,  1.6467e-06,  3.2108e-06,  1.2774e-06,\n",
       "                        4.9774e-07, -1.2950e-07,  6.7665e-07,  1.4320e-06, -5.4067e-07,\n",
       "                        1.9736e-07,  0.0000e+00,  1.8023e-06,  1.5197e-06,  5.6052e-45,\n",
       "                        0.0000e+00,  1.1013e-06,  6.0717e-07,  5.6052e-45,  0.0000e+00,\n",
       "                        2.8241e-06,  8.5424e-07,  0.0000e+00, -2.3596e-06,  5.3430e-07,\n",
       "                       -8.4528e-07, -7.0100e-07, -1.0321e-06,  3.3736e-07,  0.0000e+00,\n",
       "                       -8.0542e-08,  1.0150e-07,  1.6374e-06, -4.8659e-06,  1.0586e-06,\n",
       "                        2.0224e-06,  5.6052e-45,  3.5114e-07,  1.6813e-06,  6.7977e-06,\n",
       "                        1.1250e-06,  0.0000e+00, -1.6945e-06,  0.0000e+00, -3.5223e-07,\n",
       "                        0.0000e+00,  1.6554e-06, -9.3473e-08,  8.6901e-07,  4.0650e-07,\n",
       "                        0.0000e+00,  1.5112e-06, -3.2817e-07,  0.0000e+00,  0.0000e+00,\n",
       "                       -1.6731e-06, -1.6764e-06,  5.6052e-45,  5.6052e-45, -8.9881e-07,\n",
       "                        1.9861e-06,  2.3443e-06,  5.9502e-07,  2.4835e-06,  5.6052e-45,\n",
       "                        3.8899e-07,  8.9742e-07,  3.6035e-07,  2.1792e-06,  1.9610e-07,\n",
       "                        2.6006e-06,  1.5860e-08,  9.9474e-07,  0.0000e+00,  2.4950e-06,\n",
       "                        6.6797e-07,  1.3605e-07,  0.0000e+00,  0.0000e+00,  0.0000e+00,\n",
       "                       -8.8075e-07,  0.0000e+00,  4.3364e-06,  4.7376e-07,  5.6033e-07,\n",
       "                        4.8620e-07, -3.8283e-07, -1.1881e-06,  2.6883e-06,  4.6583e-07,\n",
       "                        5.6052e-45,  1.2966e-06,  5.6052e-45,  0.0000e+00,  1.1670e-06,\n",
       "                        1.1494e-07,  0.0000e+00, -5.0149e-07,  0.0000e+00,  9.7205e-07,\n",
       "                        0.0000e+00,  1.9822e-06,  1.4109e-06,  1.0759e-06,  2.6957e-06,\n",
       "                        2.4060e-07,  0.0000e+00, -4.2282e-07,  3.1302e-06, -8.0846e-07,\n",
       "                       -1.3054e-06,  0.0000e+00,  1.2395e-06,  0.0000e+00,  0.0000e+00,\n",
       "                        1.2282e-07,  1.1523e-06,  1.4322e-06,  0.0000e+00,  1.5691e-06,\n",
       "                        2.2237e-06, -2.7324e-07,  7.4417e-07,  1.4868e-07,  5.1773e-07,\n",
       "                        0.0000e+00,  5.6052e-45, -1.0589e-06,  1.1430e-06,  2.5585e-06,\n",
       "                        5.6052e-45,  3.8290e-07,  1.4577e-06,  4.6740e-07,  3.2486e-06,\n",
       "                        9.6086e-07,  5.6052e-45,  5.6052e-45]),\n",
       "               'exp_avg_sq': tensor([2.4183e-09, 3.4394e-09, 9.5420e-10, 1.6342e-09, 1.5039e-09, 7.0065e-43,\n",
       "                       1.9736e-11, 7.0065e-43, 3.3913e-12, 2.5730e-10, 4.3277e-11, 1.6162e-10,\n",
       "                       6.2882e-10, 0.0000e+00, 1.2394e-10, 2.0492e-10, 0.0000e+00, 3.0126e-10,\n",
       "                       3.5049e-09, 4.1128e-11, 2.0967e-11, 3.1780e-09, 8.5359e-11, 7.2785e-12,\n",
       "                       3.9843e-10, 1.3386e-11, 2.3721e-09, 7.0065e-43, 0.0000e+00, 0.0000e+00,\n",
       "                       0.0000e+00, 0.0000e+00, 2.9195e-10, 6.4678e-10, 0.0000e+00, 9.3883e-11,\n",
       "                       1.9105e-10, 1.1921e-09, 2.9085e-11, 5.2953e-10, 2.2367e-09, 5.3190e-12,\n",
       "                       2.8493e-11, 0.0000e+00, 7.0065e-43, 3.8413e-11, 0.0000e+00, 4.4060e-10,\n",
       "                       1.7649e-10, 7.3127e-10, 7.2665e-10, 1.4528e-11, 7.0065e-43, 6.3803e-12,\n",
       "                       6.1991e-12, 3.2346e-09, 1.4640e-09, 2.0448e-11, 3.5422e-09, 1.2652e-11,\n",
       "                       2.0935e-11, 1.7475e-11, 9.8770e-10, 1.1937e-10, 6.5837e-12, 6.7994e-12,\n",
       "                       0.0000e+00, 9.6633e-10, 2.8543e-10, 7.0065e-43, 0.0000e+00, 6.6859e-10,\n",
       "                       2.3630e-10, 7.0065e-43, 0.0000e+00, 2.6144e-09, 2.3622e-10, 0.0000e+00,\n",
       "                       7.8746e-10, 1.0372e-11, 2.6417e-10, 1.8155e-11, 3.5082e-11, 8.5851e-11,\n",
       "                       0.0000e+00, 4.6968e-12, 8.8517e-12, 3.6850e-10, 1.7158e-09, 9.6381e-10,\n",
       "                       3.8763e-10, 7.0065e-43, 1.0979e-09, 3.1290e-11, 4.9018e-10, 1.3276e-09,\n",
       "                       0.0000e+00, 1.1413e-09, 0.0000e+00, 8.3253e-11, 0.0000e+00, 5.6984e-10,\n",
       "                       3.2136e-10, 2.1087e-10, 1.2007e-10, 0.0000e+00, 1.4296e-09, 2.4734e-12,\n",
       "                       0.0000e+00, 0.0000e+00, 4.6432e-11, 1.8949e-10, 7.0065e-43, 7.0065e-43,\n",
       "                       5.1314e-10, 6.9825e-10, 1.2328e-09, 2.4710e-09, 1.2540e-09, 7.0065e-43,\n",
       "                       3.8066e-10, 5.0009e-11, 7.6713e-12, 9.1282e-10, 7.8515e-11, 1.0586e-09,\n",
       "                       6.9228e-15, 2.4766e-10, 0.0000e+00, 1.3039e-10, 7.5209e-10, 1.9959e-11,\n",
       "                       0.0000e+00, 0.0000e+00, 0.0000e+00, 2.0290e-10, 0.0000e+00, 1.1766e-09,\n",
       "                       1.3648e-12, 1.4877e-10, 2.7736e-11, 5.6500e-11, 6.4928e-12, 6.4739e-11,\n",
       "                       1.3189e-10, 7.0065e-43, 1.2914e-09, 7.0065e-43, 0.0000e+00, 4.6785e-10,\n",
       "                       8.5676e-11, 0.0000e+00, 2.4343e-11, 0.0000e+00, 6.0349e-10, 0.0000e+00,\n",
       "                       1.2564e-09, 1.3583e-09, 2.2672e-09, 2.1905e-09, 4.4015e-11, 0.0000e+00,\n",
       "                       1.5065e-11, 2.1200e-09, 6.9662e-12, 8.6114e-10, 0.0000e+00, 1.3565e-10,\n",
       "                       0.0000e+00, 0.0000e+00, 8.0264e-12, 3.3543e-11, 4.4662e-10, 0.0000e+00,\n",
       "                       2.4228e-10, 5.9179e-10, 2.1370e-11, 8.3817e-11, 4.9639e-11, 3.1651e-10,\n",
       "                       0.0000e+00, 7.0065e-43, 3.0761e-09, 3.8378e-11, 2.8220e-09, 7.0065e-43,\n",
       "                       2.2321e-10, 1.5916e-11, 5.4787e-10, 3.8636e-10, 2.8833e-11, 7.0065e-43,\n",
       "                       7.0065e-43])},\n",
       "              Parameter containing:\n",
       "              tensor([[-0.0018, -0.0266, -0.0364,  ..., -0.0362,  0.0181, -0.0408],\n",
       "                      [ 0.0019, -0.0303,  0.0682,  ..., -0.0572,  0.0459,  0.0112],\n",
       "                      [-0.0483, -0.0616,  0.0707,  ...,  0.0719,  0.0454, -0.0402],\n",
       "                      ...,\n",
       "                      [-0.0501, -0.0551, -0.0062,  ...,  0.0387, -0.0318, -0.0247],\n",
       "                      [ 0.0444, -0.0585,  0.0323,  ..., -0.0054,  0.0305, -0.0434],\n",
       "                      [ 0.0161, -0.0783,  0.0051,  ..., -0.0046,  0.0130, -0.0447]],\n",
       "                     requires_grad=True): {'step': tensor(188400.),\n",
       "               'exp_avg': tensor([[ 5.6052e-45,  5.6052e-45,  5.6052e-45,  ...,  5.6052e-45,\n",
       "                         5.6052e-45,  5.6052e-45],\n",
       "                       [ 1.5453e-05, -1.2546e-05,  1.5053e-05,  ...,  5.1042e-09,\n",
       "                         5.6052e-45, -5.6052e-45],\n",
       "                       [ 1.1468e-05, -9.3785e-06,  1.1174e-05,  ...,  3.7899e-09,\n",
       "                         5.6052e-45, -5.6052e-45],\n",
       "                       ...,\n",
       "                       [-5.6052e-45,  5.6052e-45,  5.6052e-45,  ...,  5.6052e-45,\n",
       "                         5.6052e-45,  5.6052e-45],\n",
       "                       [ 2.0462e-05,  9.0739e-06,  1.5184e-05,  ...,  3.0961e-09,\n",
       "                         5.6052e-45,  5.6052e-45],\n",
       "                       [ 0.0000e+00,  5.6052e-45,  5.6052e-45,  ...,  0.0000e+00,\n",
       "                         0.0000e+00,  0.0000e+00]]),\n",
       "               'exp_avg_sq': tensor([[7.0065e-43, 7.0065e-43, 7.0065e-43,  ..., 7.0065e-43, 7.0065e-43,\n",
       "                        7.0065e-43],\n",
       "                       [1.0646e-08, 1.4646e-08, 1.3781e-08,  ..., 2.6436e-12, 7.0065e-43,\n",
       "                        7.0065e-43],\n",
       "                       [5.8669e-09, 8.0047e-09, 7.5654e-09,  ..., 1.4570e-12, 7.0065e-43,\n",
       "                        7.0065e-43],\n",
       "                       ...,\n",
       "                       [7.0065e-43, 7.0065e-43, 7.0065e-43,  ..., 7.0065e-43, 7.0065e-43,\n",
       "                        7.0065e-43],\n",
       "                       [2.6452e-09, 2.1136e-09, 4.6223e-09,  ..., 1.1006e-12, 7.0065e-43,\n",
       "                        7.0065e-43],\n",
       "                       [0.0000e+00, 7.0065e-43, 7.0065e-43,  ..., 0.0000e+00, 0.0000e+00,\n",
       "                        0.0000e+00]])},\n",
       "              Parameter containing:\n",
       "              tensor([ 0.0387,  0.0261,  0.0701,  0.0775, -0.0258, -0.0059, -0.0586, -0.0575,\n",
       "                       0.0672,  0.0334,  0.0744,  0.0380,  0.0314,  0.0445, -0.0681, -0.0545,\n",
       "                      -0.0761,  0.0368, -0.0075,  0.0514, -0.0283,  0.0417,  0.0057, -0.0588,\n",
       "                       0.0602, -0.0036,  0.0057,  0.0335, -0.0397,  0.0587, -0.0627,  0.0052,\n",
       "                      -0.0125, -0.0152,  0.0062, -0.0653, -0.0692,  0.0284, -0.0376,  0.0767,\n",
       "                       0.0006,  0.0365, -0.0513,  0.0345,  0.0638, -0.0319,  0.0696,  0.0267,\n",
       "                      -0.0227, -0.0411, -0.0336,  0.0488,  0.0680, -0.0567,  0.0112,  0.0411,\n",
       "                      -0.0286, -0.0202,  0.0326,  0.0448,  0.0123, -0.0113,  0.0641, -0.0087,\n",
       "                       0.0534, -0.0508,  0.0452, -0.0696,  0.0646, -0.0766, -0.0170,  0.0189,\n",
       "                      -0.0647,  0.0239, -0.0410, -0.0157,  0.0554, -0.0562,  0.0071, -0.0544,\n",
       "                      -0.0380,  0.0079,  0.0431, -0.0515, -0.0667,  0.0240, -0.0503,  0.0711,\n",
       "                       0.0138, -0.0236, -0.0632, -0.0029, -0.0735, -0.0414,  0.0232, -0.0659,\n",
       "                      -0.0470, -0.0075, -0.0751], requires_grad=True): {'step': tensor(188400.),\n",
       "               'exp_avg': tensor([ 5.6052e-45,  4.2432e-06,  3.3062e-06,  2.7268e-06,  0.0000e+00,\n",
       "                        5.6052e-45,  7.0444e-07,  5.6052e-45,  2.7392e-06,  4.2538e-06,\n",
       "                        2.3958e-06,  3.7899e-06,  1.4053e-08,  6.4375e-07,  5.6052e-45,\n",
       "                        5.6052e-45,  5.6052e-45,  3.5453e-06,  4.1204e-06,  5.6052e-45,\n",
       "                        1.1976e-06,  7.5667e-07, -1.2096e-06,  5.6052e-45,  5.6052e-45,\n",
       "                        4.0132e-06,  3.4784e-06,  1.8033e-06,  3.3961e-06,  5.6052e-45,\n",
       "                        5.6052e-45,  4.3080e-07,  5.6052e-45,  5.6052e-45,  1.8095e-06,\n",
       "                        5.8952e-07,  5.6052e-45,  5.6052e-45,  3.2820e-06,  3.9064e-06,\n",
       "                        2.6008e-06,  1.5775e-06,  0.0000e+00,  5.6052e-45, -5.6052e-45,\n",
       "                        5.6052e-45,  1.0956e-06,  5.6052e-45,  3.6721e-06,  0.0000e+00,\n",
       "                        3.8482e-06,  4.0087e-06, -2.6185e-06, -4.3623e-07,  1.9123e-06,\n",
       "                       -3.6447e-06,  1.2265e-07,  5.6052e-45, -8.6195e-07,  5.6052e-45,\n",
       "                        2.0074e-06,  1.0675e-06,  3.3436e-06, -3.4561e-06,  1.1338e-07,\n",
       "                        0.0000e+00,  5.6052e-45,  5.6052e-45,  1.2278e-06,  5.6052e-45,\n",
       "                        5.6052e-45,  0.0000e+00,  5.6052e-45,  4.5786e-06,  5.6052e-45,\n",
       "                        1.6418e-06,  5.6052e-45,  5.6052e-45,  3.5632e-06,  3.8481e-06,\n",
       "                        5.6052e-45,  3.5835e-06,  5.6052e-45,  3.0904e-06,  5.6052e-45,\n",
       "                        0.0000e+00,  8.0320e-07,  1.2938e-06, -4.4033e-06, -4.1842e-07,\n",
       "                        0.0000e+00,  3.2613e-06,  5.6052e-45,  1.0751e-06,  5.6052e-45,\n",
       "                        2.4285e-06,  5.6052e-45,  7.7005e-06,  5.6052e-45]),\n",
       "               'exp_avg_sq': tensor([7.0065e-43, 4.5870e-09, 2.4978e-09, 1.8945e-09, 0.0000e+00, 7.0065e-43,\n",
       "                       1.0251e-10, 7.0065e-43, 1.9116e-09, 1.8115e-09, 1.4622e-09, 3.6592e-09,\n",
       "                       4.2413e-11, 3.0926e-10, 7.0065e-43, 7.0065e-43, 7.0065e-43, 3.2022e-09,\n",
       "                       4.3252e-09, 7.0065e-43, 3.6533e-10, 1.3038e-10, 1.0185e-09, 7.0065e-43,\n",
       "                       5.4637e-19, 4.1033e-09, 3.0825e-09, 1.4502e-10, 3.6394e-09, 7.0065e-43,\n",
       "                       7.0065e-43, 4.7265e-11, 7.0065e-43, 7.0065e-43, 9.3555e-10, 2.3659e-10,\n",
       "                       7.0065e-43, 7.0065e-43, 2.0073e-09, 3.8877e-09, 1.7232e-09, 1.1108e-11,\n",
       "                       0.0000e+00, 7.0065e-43, 7.0065e-43, 7.0065e-43, 5.8561e-11, 7.0065e-43,\n",
       "                       1.2621e-09, 0.0000e+00, 3.8923e-09, 3.9636e-09, 5.9111e-11, 9.6520e-11,\n",
       "                       1.8730e-10, 1.3328e-10, 1.0027e-11, 7.0065e-43, 5.0309e-11, 7.0065e-43,\n",
       "                       2.4866e-09, 2.9025e-10, 2.1201e-09, 1.5752e-10, 4.3272e-13, 0.0000e+00,\n",
       "                       7.0065e-43, 7.0065e-43, 2.0412e-10, 7.0065e-43, 7.0065e-43, 0.0000e+00,\n",
       "                       7.0065e-43, 5.3409e-09, 7.0065e-43, 9.7764e-10, 7.0065e-43, 7.0065e-43,\n",
       "                       3.2346e-09, 3.4945e-09, 7.0065e-43, 3.2715e-09, 7.0065e-43, 2.2605e-09,\n",
       "                       7.0065e-43, 0.0000e+00, 1.0604e-09, 4.2639e-10, 4.9729e-09, 2.9125e-09,\n",
       "                       0.0000e+00, 2.7097e-09, 7.0065e-43, 1.4280e-10, 7.0065e-43, 1.4084e-10,\n",
       "                       7.0065e-43, 1.4025e-09, 7.0065e-43])},\n",
       "              Parameter containing:\n",
       "              tensor([[-0.0889,  0.0994,  0.0738,  0.0639,  0.0941, -0.0104,  0.0155, -0.0265,\n",
       "                        0.0642,  0.0685,  0.0561,  0.0888, -0.0243, -0.0338, -0.0317, -0.0824,\n",
       "                        0.0561,  0.0831,  0.0965, -0.0601,  0.0281,  0.0168, -0.0916, -0.0369,\n",
       "                       -0.0504,  0.0940,  0.0815, -0.0818,  0.0889, -0.0608, -0.0413,  0.0101,\n",
       "                        0.0201,  0.0259,  0.0449,  0.0226, -0.0675, -0.0523,  0.0797,  0.0915,\n",
       "                        0.0609,  0.0726, -0.0936, -0.0806, -0.0564,  0.0133, -0.0679, -0.0658,\n",
       "                        0.0556, -0.0398,  0.0916,  0.0925, -0.0495, -0.0490, -0.0337, -0.0939,\n",
       "                        0.0047, -0.0218, -0.0147,  0.0026, -0.1093,  0.0250, -0.0809, -0.0552,\n",
       "                       -0.0459, -0.0640, -0.0165, -0.0417,  0.1220, -0.0866, -0.0498, -0.0719,\n",
       "                       -0.0035,  0.1073, -0.0945, -0.0733, -0.0363, -0.0887,  0.0835,  0.0868,\n",
       "                       -0.0757,  0.0840,  0.0406,  0.0700, -0.0181, -0.0476,  0.0482,  0.0303,\n",
       "                       -0.1049, -0.0896, -0.0293,  0.0764, -0.0088,  0.0186, -0.0338, -0.0528,\n",
       "                       -0.0053,  0.0642,  0.0241]], requires_grad=True): {'step': tensor(188400.),\n",
       "               'exp_avg': tensor([[-5.6052e-45,  3.7199e-04,  2.0026e-04,  3.9016e-04,  0.0000e+00,\n",
       "                        -5.6052e-45,  2.5171e-04, -5.6052e-45,  3.2465e-04,  1.3883e-04,\n",
       "                         2.4379e-04,  2.7198e-04,  1.7177e-05, -9.0831e-05, -5.6052e-45,\n",
       "                        -5.6052e-45,  5.6052e-45,  2.8224e-04,  2.8231e-04, -5.6052e-45,\n",
       "                         3.0455e-04,  2.4948e-04, -6.8823e-05, -5.6052e-45, -5.6052e-45,\n",
       "                         3.0822e-04,  2.0139e-04, -2.5000e-06,  2.3309e-04, -5.6052e-45,\n",
       "                        -5.6052e-45,  2.8432e-04,  5.6052e-45,  5.6052e-45,  1.5196e-04,\n",
       "                         1.4606e-04, -5.6052e-45, -5.6052e-45,  8.9436e-05,  2.6608e-04,\n",
       "                         2.5320e-04,  1.5780e-06,  0.0000e+00, -5.6052e-45, -5.6052e-45,\n",
       "                         5.6052e-45, -7.6531e-06, -5.6052e-45,  2.9492e-04,  0.0000e+00,\n",
       "                         3.1018e-04,  2.6594e-04,  3.0153e-06, -1.1952e-05, -3.6269e-05,\n",
       "                         2.6900e-06,  2.1111e-04, -5.6052e-45, -1.2936e-05, -5.6052e-45,\n",
       "                        -1.0505e-04,  1.9531e-04, -7.0579e-05,  1.7942e-05, -1.7941e-08,\n",
       "                         0.0000e+00, -5.6052e-45, -5.6052e-45, -8.1589e-07, -5.6052e-45,\n",
       "                        -5.6052e-45,  0.0000e+00, -5.6052e-45,  3.2555e-04, -5.6052e-45,\n",
       "                        -5.2093e-05, -5.6052e-45, -5.6052e-45,  2.7705e-04,  2.5464e-04,\n",
       "                        -5.6052e-45,  2.9660e-04,  5.6052e-45,  3.7048e-04, -5.6052e-45,\n",
       "                         0.0000e+00,  2.0909e-04,  3.4860e-04,  7.8503e-06, -8.9020e-05,\n",
       "                         0.0000e+00,  3.2682e-04, -5.6052e-45,  2.2425e-04, -5.6052e-45,\n",
       "                        -6.2564e-05, -5.6052e-45,  1.7942e-04,  5.6052e-45]]),\n",
       "               'exp_avg_sq': tensor([[7.0065e-43, 7.6902e-06, 2.1177e-06, 5.3271e-06, 0.0000e+00, 7.0065e-43,\n",
       "                        1.9421e-06, 7.0065e-43, 3.0336e-06, 1.1431e-06, 1.8932e-06, 3.4695e-06,\n",
       "                        3.6282e-08, 4.0549e-07, 7.0065e-43, 7.0065e-43, 7.0065e-43, 3.7822e-06,\n",
       "                        5.4014e-06, 7.0065e-43, 4.5666e-06, 2.3884e-06, 1.2801e-07, 7.0065e-43,\n",
       "                        2.4624e-26, 2.8499e-06, 3.8136e-06, 3.7763e-09, 3.1563e-06, 7.0065e-43,\n",
       "                        7.0065e-43, 3.9247e-06, 7.0065e-43, 7.0065e-43, 1.4241e-06, 7.2260e-07,\n",
       "                        7.0065e-43, 7.0065e-43, 9.4066e-07, 2.2514e-06, 3.7169e-06, 1.2066e-11,\n",
       "                        0.0000e+00, 7.0065e-43, 7.0065e-43, 7.0065e-43, 9.2818e-10, 7.0065e-43,\n",
       "                        1.4992e-06, 0.0000e+00, 3.6403e-06, 2.2271e-06, 1.2392e-10, 2.7605e-09,\n",
       "                        2.6059e-08, 4.3522e-11, 1.9603e-06, 7.0065e-43, 9.9309e-08, 7.0065e-43,\n",
       "                        9.8450e-07, 1.4041e-06, 1.4575e-07, 3.7799e-09, 1.3429e-13, 0.0000e+00,\n",
       "                        7.0065e-43, 7.0065e-43, 1.8971e-11, 7.0065e-43, 7.0065e-43, 0.0000e+00,\n",
       "                        7.0065e-43, 3.5093e-06, 7.0065e-43, 9.6005e-08, 7.0065e-43, 7.0065e-43,\n",
       "                        4.9773e-06, 5.1873e-06, 7.0065e-43, 2.3229e-06, 7.0065e-43, 4.5573e-06,\n",
       "                        7.0065e-43, 0.0000e+00, 1.3283e-06, 1.2178e-05, 3.4129e-07, 5.4712e-07,\n",
       "                        0.0000e+00, 7.4684e-06, 7.0065e-43, 1.6371e-06, 7.0065e-43, 4.5633e-08,\n",
       "                        7.0065e-43, 5.0053e-07, 7.0065e-43]])},\n",
       "              Parameter containing:\n",
       "              tensor([-0.0742], requires_grad=True): {'step': tensor(188400.),\n",
       "               'exp_avg': tensor([4.2676e-05]),\n",
       "               'exp_avg_sq': tensor([4.6401e-07])}}),\n",
       " 'param_groups': [{'lr': 1e-06,\n",
       "   'betas': (0.9, 0.999),\n",
       "   'eps': 1e-08,\n",
       "   'weight_decay': 0,\n",
       "   'amsgrad': False,\n",
       "   'maximize': False,\n",
       "   'foreach': None,\n",
       "   'capturable': False,\n",
       "   'differentiable': False,\n",
       "   'fused': None,\n",
       "   'params': [Parameter containing:\n",
       "    tensor([[-0.4380, -0.2706,  0.3878],\n",
       "            [-0.1040, -0.2838,  0.4201],\n",
       "            [ 0.0125, -0.0713,  0.0258],\n",
       "            [-0.5718,  0.1444, -0.0363],\n",
       "            [ 0.4210,  0.4313,  0.2001],\n",
       "            [ 0.0133, -0.2909,  0.1019],\n",
       "            [ 0.4692, -0.3755, -0.1862],\n",
       "            [-0.3415, -0.2920,  0.4948],\n",
       "            [-0.4000, -0.0958,  0.3481],\n",
       "            [ 0.5668,  0.3422,  0.5395],\n",
       "            [ 0.0391, -0.3294, -0.3175],\n",
       "            [-0.2565, -0.5176, -0.0354],\n",
       "            [ 0.4540, -0.1403,  0.2564],\n",
       "            [-0.1359,  0.2099,  0.0190],\n",
       "            [ 0.1730, -0.2769,  0.1570],\n",
       "            [-0.0820,  0.3469, -0.2130],\n",
       "            [-0.3044, -0.2031,  0.3373],\n",
       "            [ 0.0217,  0.2304,  0.0685],\n",
       "            [ 0.0296,  0.3610, -0.0420],\n",
       "            [ 0.0303,  0.2130,  0.4744],\n",
       "            [ 0.1349,  0.3468,  0.5453],\n",
       "            [ 0.3109, -0.2942,  0.3839],\n",
       "            [ 0.4388,  0.5204,  0.0363],\n",
       "            [-0.3358,  0.4620,  0.4427],\n",
       "            [-0.4249,  0.2407, -0.3637],\n",
       "            [-0.3585,  0.4685,  0.3555],\n",
       "            [ 0.1745, -0.6940, -0.1733],\n",
       "            [-0.2612,  0.4034, -0.1012],\n",
       "            [ 0.2572,  0.5447,  0.4207],\n",
       "            [-0.0183,  0.4322,  0.3214],\n",
       "            [ 0.0653,  0.4560,  0.1499],\n",
       "            [-0.4669,  0.5479, -0.2491],\n",
       "            [ 0.0602,  0.0813,  0.0101],\n",
       "            [-0.4473, -0.3426,  0.4943],\n",
       "            [ 0.2647, -0.1774, -0.0539],\n",
       "            [ 0.1291,  0.4422,  0.2390],\n",
       "            [ 0.2892, -0.2613, -0.1033],\n",
       "            [ 0.0909,  0.3962, -0.3610],\n",
       "            [ 0.4553, -0.2295, -0.3394],\n",
       "            [-0.4034, -0.3592,  0.1927],\n",
       "            [ 0.0176, -0.4194,  0.5834],\n",
       "            [ 0.5203, -0.0330,  0.2664],\n",
       "            [-0.0018,  0.3850,  0.1108],\n",
       "            [-0.5258,  0.4542, -0.0539],\n",
       "            [-0.3766,  0.5634, -0.5283],\n",
       "            [ 0.5510,  0.5027, -0.0636],\n",
       "            [-0.2598,  0.5284,  0.0318],\n",
       "            [-0.3697, -0.4529,  0.5649],\n",
       "            [-0.5421, -0.4920, -0.0784],\n",
       "            [ 0.5254,  0.2706, -0.2973],\n",
       "            [ 0.3021, -0.4424,  0.3811],\n",
       "            [ 0.2226, -0.0098,  0.1096],\n",
       "            [-0.2739,  0.1640,  0.0677],\n",
       "            [ 0.5131, -0.3013,  0.4693],\n",
       "            [ 0.2774, -0.5416, -0.0958],\n",
       "            [ 0.0034,  0.5082,  0.1339],\n",
       "            [ 0.5760, -0.0131,  0.1798],\n",
       "            [-0.2518,  0.1630,  0.0901],\n",
       "            [-0.3685, -0.1609,  0.5119],\n",
       "            [-0.3391, -0.1027, -0.3240],\n",
       "            [ 0.4718,  0.5210, -0.2996],\n",
       "            [ 0.0924, -0.1013,  0.3991],\n",
       "            [-0.3259, -0.4280,  0.0559],\n",
       "            [-0.4253,  0.5345, -0.4082],\n",
       "            [ 0.1749,  0.2245,  0.5818],\n",
       "            [-0.0091,  0.0895,  0.0085],\n",
       "            [ 0.5580, -0.1077, -0.3132],\n",
       "            [ 0.4845, -0.3874,  0.2824],\n",
       "            [-0.4790, -0.1287,  0.2465],\n",
       "            [ 0.1348, -0.6901, -0.0195],\n",
       "            [ 0.2313,  0.0542, -0.0770],\n",
       "            [ 0.4004,  0.0618, -0.1684],\n",
       "            [ 0.1362,  0.4049,  0.4831],\n",
       "            [-0.1671,  0.5269, -0.4943],\n",
       "            [ 0.5348,  0.0218, -0.1771],\n",
       "            [-0.1963, -0.1230, -0.5433],\n",
       "            [-0.0594,  0.0998,  0.1466],\n",
       "            [ 0.2125, -0.0846, -0.4284]], requires_grad=True),\n",
       "    Parameter containing:\n",
       "    tensor([ 0.3648,  0.4284,  0.3205, -0.2665,  0.4815,  0.2868, -0.2126, -0.3549,\n",
       "             0.5185, -0.0194,  0.2370, -0.2040,  0.3065, -0.0056, -0.1235,  0.0032,\n",
       "             0.0091,  0.2095, -0.2229, -0.5217, -0.0878,  0.3964, -0.1428, -0.4403,\n",
       "             0.4116,  0.2251, -0.3126,  0.1101,  0.1269,  0.2541, -0.4813, -0.0314,\n",
       "             0.1935,  0.3589, -0.2621,  0.4153,  0.4235,  0.1771, -0.2383, -0.1669,\n",
       "             0.0261,  0.1727,  0.4132,  0.1230, -0.1629, -0.3646,  0.2882, -0.4171,\n",
       "            -0.3832,  0.2008,  0.5285, -0.2818, -0.3517, -0.5081,  0.5435, -0.3287,\n",
       "             0.0918, -0.4287,  0.0229, -0.0870,  0.3092, -0.0782, -0.1391,  0.0540,\n",
       "            -0.5342,  0.4812, -0.0878,  0.4405,  0.4498,  0.0959,  0.0480,  0.0178,\n",
       "             0.3483,  0.0731, -0.4935, -0.1826, -0.3545,  0.2489],\n",
       "           requires_grad=True),\n",
       "    Parameter containing:\n",
       "    tensor([[ 0.0454,  0.0719, -0.0168,  ..., -0.0725, -0.0565,  0.0752],\n",
       "            [-0.0530,  0.0332,  0.0299,  ...,  0.0074, -0.0091,  0.1081],\n",
       "            [-0.0504,  0.0888,  0.1025,  ..., -0.1034, -0.0394,  0.0524],\n",
       "            ...,\n",
       "            [ 0.0060,  0.0672,  0.0812,  ...,  0.0673, -0.0155,  0.0943],\n",
       "            [-0.0074, -0.0151, -0.0428,  ..., -0.0103, -0.0911, -0.0689],\n",
       "            [-0.0993,  0.0968, -0.0003,  ...,  0.1007,  0.0432, -0.0552]],\n",
       "           requires_grad=True),\n",
       "    Parameter containing:\n",
       "    tensor([-0.0809,  0.0575,  0.0718,  0.0576,  0.1072, -0.1118, -0.0847, -0.0663,\n",
       "             0.0828,  0.1224,  0.0744, -0.1616,  0.0198, -0.0864,  0.0822,  0.0687,\n",
       "             0.1059, -0.0052,  0.1348, -0.0396,  0.0893, -0.0589, -0.0193, -0.0898,\n",
       "             0.0310, -0.0194,  0.0217,  0.0881,  0.0875, -0.0808,  0.0737,  0.0943,\n",
       "            -0.0206, -0.0848, -0.0195, -0.0310,  0.0303, -0.0620, -0.0685,  0.0789,\n",
       "            -0.0697, -0.0930, -0.0205, -0.1001, -0.0347,  0.0412,  0.0276,  0.0313,\n",
       "             0.0970,  0.0293,  0.0640,  0.0718, -0.0959,  0.0592,  0.1084, -0.0548,\n",
       "             0.1242,  0.0125, -0.0529,  0.0885, -0.0019, -0.1292, -0.0376, -0.0608,\n",
       "            -0.0079, -0.0303, -0.0664,  0.0180,  0.0598,  0.0095,  0.0865, -0.0177,\n",
       "            -0.0954, -0.0964, -0.0736,  0.0580,  0.0686, -0.0370, -0.0406,  0.0495,\n",
       "             0.0664, -0.0132, -0.0837, -0.1080, -0.1119,  0.0315, -0.0504, -0.0534,\n",
       "            -0.0190, -0.0678,  0.0303, -0.1158,  0.0485, -0.0726, -0.0755,  0.0487,\n",
       "            -0.0519, -0.0168, -0.0449,  0.0321, -0.0281, -0.0614,  0.0965, -0.0518,\n",
       "             0.0522,  0.0967,  0.0813,  0.0381,  0.0132, -0.0383, -0.0122,  0.0424,\n",
       "             0.0178,  0.0389,  0.0240,  0.1389,  0.1181,  0.0847, -0.0004,  0.0333,\n",
       "             0.0668, -0.0043, -0.1290,  0.0135,  0.1013,  0.0714,  0.0670, -0.0711,\n",
       "            -0.0658, -0.0193, -0.0088, -0.0204,  0.0373,  0.0144, -0.0736,  0.0628,\n",
       "            -0.0621,  0.0415,  0.0254,  0.0177, -0.0741,  0.0046,  0.0804, -0.0299,\n",
       "             0.0086, -0.0434, -0.0337,  0.1096, -0.0235, -0.0158,  0.1544, -0.1106,\n",
       "             0.0080, -0.0765, -0.0486, -0.0301,  0.0787,  0.0468,  0.0436,  0.0576,\n",
       "             0.0374, -0.0367, -0.0613, -0.0954,  0.0773,  0.1012, -0.0873, -0.0718,\n",
       "             0.0902, -0.1046,  0.0164, -0.1117, -0.0693, -0.0556,  0.0707, -0.0399,\n",
       "            -0.0255, -0.0371, -0.0424, -0.0648,  0.0633,  0.0149,  0.0620,  0.0883,\n",
       "             0.0741,  0.0376,  0.0224,  0.0326,  0.0952, -0.0442,  0.0479, -0.0247,\n",
       "            -0.1165], requires_grad=True),\n",
       "    Parameter containing:\n",
       "    tensor([[-0.0018, -0.0266, -0.0364,  ..., -0.0362,  0.0181, -0.0408],\n",
       "            [ 0.0019, -0.0303,  0.0682,  ..., -0.0572,  0.0459,  0.0112],\n",
       "            [-0.0483, -0.0616,  0.0707,  ...,  0.0719,  0.0454, -0.0402],\n",
       "            ...,\n",
       "            [-0.0501, -0.0551, -0.0062,  ...,  0.0387, -0.0318, -0.0247],\n",
       "            [ 0.0444, -0.0585,  0.0323,  ..., -0.0054,  0.0305, -0.0434],\n",
       "            [ 0.0161, -0.0783,  0.0051,  ..., -0.0046,  0.0130, -0.0447]],\n",
       "           requires_grad=True),\n",
       "    Parameter containing:\n",
       "    tensor([ 0.0387,  0.0261,  0.0701,  0.0775, -0.0258, -0.0059, -0.0586, -0.0575,\n",
       "             0.0672,  0.0334,  0.0744,  0.0380,  0.0314,  0.0445, -0.0681, -0.0545,\n",
       "            -0.0761,  0.0368, -0.0075,  0.0514, -0.0283,  0.0417,  0.0057, -0.0588,\n",
       "             0.0602, -0.0036,  0.0057,  0.0335, -0.0397,  0.0587, -0.0627,  0.0052,\n",
       "            -0.0125, -0.0152,  0.0062, -0.0653, -0.0692,  0.0284, -0.0376,  0.0767,\n",
       "             0.0006,  0.0365, -0.0513,  0.0345,  0.0638, -0.0319,  0.0696,  0.0267,\n",
       "            -0.0227, -0.0411, -0.0336,  0.0488,  0.0680, -0.0567,  0.0112,  0.0411,\n",
       "            -0.0286, -0.0202,  0.0326,  0.0448,  0.0123, -0.0113,  0.0641, -0.0087,\n",
       "             0.0534, -0.0508,  0.0452, -0.0696,  0.0646, -0.0766, -0.0170,  0.0189,\n",
       "            -0.0647,  0.0239, -0.0410, -0.0157,  0.0554, -0.0562,  0.0071, -0.0544,\n",
       "            -0.0380,  0.0079,  0.0431, -0.0515, -0.0667,  0.0240, -0.0503,  0.0711,\n",
       "             0.0138, -0.0236, -0.0632, -0.0029, -0.0735, -0.0414,  0.0232, -0.0659,\n",
       "            -0.0470, -0.0075, -0.0751], requires_grad=True),\n",
       "    Parameter containing:\n",
       "    tensor([[-0.0889,  0.0994,  0.0738,  0.0639,  0.0941, -0.0104,  0.0155, -0.0265,\n",
       "              0.0642,  0.0685,  0.0561,  0.0888, -0.0243, -0.0338, -0.0317, -0.0824,\n",
       "              0.0561,  0.0831,  0.0965, -0.0601,  0.0281,  0.0168, -0.0916, -0.0369,\n",
       "             -0.0504,  0.0940,  0.0815, -0.0818,  0.0889, -0.0608, -0.0413,  0.0101,\n",
       "              0.0201,  0.0259,  0.0449,  0.0226, -0.0675, -0.0523,  0.0797,  0.0915,\n",
       "              0.0609,  0.0726, -0.0936, -0.0806, -0.0564,  0.0133, -0.0679, -0.0658,\n",
       "              0.0556, -0.0398,  0.0916,  0.0925, -0.0495, -0.0490, -0.0337, -0.0939,\n",
       "              0.0047, -0.0218, -0.0147,  0.0026, -0.1093,  0.0250, -0.0809, -0.0552,\n",
       "             -0.0459, -0.0640, -0.0165, -0.0417,  0.1220, -0.0866, -0.0498, -0.0719,\n",
       "             -0.0035,  0.1073, -0.0945, -0.0733, -0.0363, -0.0887,  0.0835,  0.0868,\n",
       "             -0.0757,  0.0840,  0.0406,  0.0700, -0.0181, -0.0476,  0.0482,  0.0303,\n",
       "             -0.1049, -0.0896, -0.0293,  0.0764, -0.0088,  0.0186, -0.0338, -0.0528,\n",
       "             -0.0053,  0.0642,  0.0241]], requires_grad=True),\n",
       "    Parameter containing:\n",
       "    tensor([-0.0742], requires_grad=True)]}],\n",
       " '_warned_capturable_if_run_uncaptured': True}"
      ]
     },
     "execution_count": 36,
     "metadata": {},
     "output_type": "execute_result"
    },
    {
     "data": {
      "text/plain": [
       "<torch.optim.lr_scheduler.ReduceLROnPlateau at 0x2134fdb4090>"
      ]
     },
     "execution_count": 36,
     "metadata": {},
     "output_type": "execute_result"
    },
    {
     "data": {
      "text/plain": [
       "{'factor': 0.5,\n",
       " 'optimizer': Adam (\n",
       " Parameter Group 0\n",
       "     amsgrad: False\n",
       "     betas: (0.9, 0.999)\n",
       "     capturable: False\n",
       "     differentiable: False\n",
       "     eps: 1e-08\n",
       "     foreach: None\n",
       "     fused: None\n",
       "     lr: 1e-06\n",
       "     maximize: False\n",
       "     weight_decay: 0\n",
       " ),\n",
       " 'min_lrs': [1e-06],\n",
       " 'patience': 5,\n",
       " 'verbose': False,\n",
       " 'cooldown': 0,\n",
       " 'cooldown_counter': 0,\n",
       " 'mode': 'min',\n",
       " 'threshold': 0.0005,\n",
       " 'threshold_mode': 'rel',\n",
       " 'best': 9.023455327606202,\n",
       " 'num_bad_epochs': 3,\n",
       " 'mode_worse': inf,\n",
       " 'eps': 1e-08,\n",
       " 'last_epoch': 30,\n",
       " '_last_lr': [0.000375]}"
      ]
     },
     "execution_count": 36,
     "metadata": {},
     "output_type": "execute_result"
    }
   ],
   "source": [
    "batch_size_loaded\n",
    "n_epochs_loaded\n",
    "loss_name_loaded\n",
    "optimizer_name_loaded\n",
    "scheduler_name_loaded\n",
    "n_units_loaded\n",
    "n_layers_loaded\n",
    "hidden_activation_name_loaded\n",
    "output_activation_name_loaded\n",
    "lr_loaded\n",
    "hidden_activation_loaded\n",
    "output_activation_loaded\n",
    "net_loaded\n",
    "net_loaded.__dict__ # print the subparameters of the network\n",
    "loss_fn_loaded\n",
    "optimizer_loaded\n",
    "optimizer_loaded.__dict__ # print the subparameters of the optimizer\n",
    "scheduler_loaded\n",
    "scheduler_loaded.__dict__ # print the subparameters of the scheduler\n",
    "#train_losses_loaded\n",
    "#test_losses_loaded\n",
    "#train_metrics_loaded\n",
    "#test_metrics_loaded"
   ]
  },
  {
   "attachments": {},
   "cell_type": "markdown",
   "metadata": {},
   "source": [
    "Let us verify correct loading of the train and test metrics by visualizing them again but now through the loaded values. Likewise for the train and test losses."
   ]
  },
  {
   "cell_type": "code",
   "execution_count": 32,
   "metadata": {},
   "outputs": [
    {
     "data": {
      "text/plain": [
       "<Figure size 1200x800 with 0 Axes>"
      ]
     },
     "execution_count": 32,
     "metadata": {},
     "output_type": "execute_result"
    },
    {
     "data": {
      "text/plain": [
       "<Axes: >"
      ]
     },
     "execution_count": 32,
     "metadata": {},
     "output_type": "execute_result"
    },
    {
     "data": {
      "text/plain": [
       "[<matplotlib.lines.Line2D at 0x21350453090>]"
      ]
     },
     "execution_count": 32,
     "metadata": {},
     "output_type": "execute_result"
    },
    {
     "data": {
      "text/plain": [
       "[<matplotlib.lines.Line2D at 0x2134d81f750>]"
      ]
     },
     "execution_count": 32,
     "metadata": {},
     "output_type": "execute_result"
    },
    {
     "data": {
      "text/plain": [
       "Text(0.5, 0, 'Epoch')"
      ]
     },
     "execution_count": 32,
     "metadata": {},
     "output_type": "execute_result"
    },
    {
     "data": {
      "text/plain": [
       "Text(0, 0.5, 'L1 Norm')"
      ]
     },
     "execution_count": 32,
     "metadata": {},
     "output_type": "execute_result"
    },
    {
     "data": {
      "text/plain": [
       "(0.001, 100.0)"
      ]
     },
     "execution_count": 32,
     "metadata": {},
     "output_type": "execute_result"
    },
    {
     "data": {
      "text/plain": [
       "<matplotlib.legend.Legend at 0x2134fdb4e90>"
      ]
     },
     "execution_count": 32,
     "metadata": {},
     "output_type": "execute_result"
    },
    {
     "data": {
      "text/plain": [
       "<Axes: >"
      ]
     },
     "execution_count": 32,
     "metadata": {},
     "output_type": "execute_result"
    },
    {
     "data": {
      "text/plain": [
       "[<matplotlib.lines.Line2D at 0x2134d81fb10>]"
      ]
     },
     "execution_count": 32,
     "metadata": {},
     "output_type": "execute_result"
    },
    {
     "data": {
      "text/plain": [
       "[<matplotlib.lines.Line2D at 0x213505bfb50>]"
      ]
     },
     "execution_count": 32,
     "metadata": {},
     "output_type": "execute_result"
    },
    {
     "data": {
      "text/plain": [
       "Text(0.5, 0, 'Epoch')"
      ]
     },
     "execution_count": 32,
     "metadata": {},
     "output_type": "execute_result"
    },
    {
     "data": {
      "text/plain": [
       "Text(0, 0.5, 'Linf Norm')"
      ]
     },
     "execution_count": 32,
     "metadata": {},
     "output_type": "execute_result"
    },
    {
     "data": {
      "text/plain": [
       "(0.001, 100.0)"
      ]
     },
     "execution_count": 32,
     "metadata": {},
     "output_type": "execute_result"
    },
    {
     "data": {
      "text/plain": [
       "<matplotlib.legend.Legend at 0x213504b5690>"
      ]
     },
     "execution_count": 32,
     "metadata": {},
     "output_type": "execute_result"
    },
    {
     "data": {
      "image/png": "[encoded data removed]",
      "text/plain": [
       "<Figure size 1200x800 with 2 Axes>"
      ]
     },
     "metadata": {},
     "output_type": "display_data"
    },
    {
     "data": {
      "text/plain": [
       "<Figure size 800x600 with 0 Axes>"
      ]
     },
     "execution_count": 32,
     "metadata": {},
     "output_type": "execute_result"
    },
    {
     "data": {
      "text/plain": [
       "[<matplotlib.lines.Line2D at 0x2134f49ce50>]"
      ]
     },
     "execution_count": 32,
     "metadata": {},
     "output_type": "execute_result"
    },
    {
     "data": {
      "text/plain": [
       "[<matplotlib.lines.Line2D at 0x2134f52af90>]"
      ]
     },
     "execution_count": 32,
     "metadata": {},
     "output_type": "execute_result"
    },
    {
     "data": {
      "text/plain": [
       "Text(0.5, 0, 'Epoch')"
      ]
     },
     "execution_count": 32,
     "metadata": {},
     "output_type": "execute_result"
    },
    {
     "data": {
      "text/plain": [
       "Text(0, 0.5, 'MSE')"
      ]
     },
     "execution_count": 32,
     "metadata": {},
     "output_type": "execute_result"
    },
    {
     "data": {
      "text/plain": [
       "(1e-07, 1.0)"
      ]
     },
     "execution_count": 32,
     "metadata": {},
     "output_type": "execute_result"
    },
    {
     "data": {
      "text/plain": [
       "<matplotlib.legend.Legend at 0x2134fd04e90>"
      ]
     },
     "execution_count": 32,
     "metadata": {},
     "output_type": "execute_result"
    },
    {
     "data": {
      "image/png": "[encoded data removed]",
      "text/plain": [
       "<Figure size 800x600 with 1 Axes>"
      ]
     },
     "metadata": {},
     "output_type": "display_data"
    }
   ],
   "source": [
    "# Plotting the losses and metrics for the best network \n",
    "plt.figure(figsize=(12, 8))\n",
    "#plt.subplot(2, 2, 1)\n",
    "#plt.plot(train_losses_loaded, label=\"Train Loss\")\n",
    "#plt.plot(test_losses_loaded, label=\"Test Loss\")\n",
    "#plt.xlabel(\"Epoch\")\n",
    "#plt.ylabel(\"Loss\")\n",
    "#plt.legend()\n",
    "plt.subplot(2, 2, 2)\n",
    "plt.plot([m[\"l1_norm\"] for m in train_metrics_loaded], label=\"Train L1 Norm\")\n",
    "plt.plot([m[\"l1_norm\"] for m in test_metrics_loaded], label=\"Test L1 Norm\")\n",
    "plt.xlabel(\"Epoch\")\n",
    "plt.ylabel(\"L1 Norm\")\n",
    "# Added setting the vertical axis to be in powers of 10\n",
    "plt.yscale(\"log\")\n",
    "# Added setting the vertical axis limits to be from 10^-7 to 10^0\n",
    "plt.ylim(1e-3, 1e2)\n",
    "plt.legend()\n",
    "plt.subplot(2, 2, 3)\n",
    "plt.plot([m[\"linf_norm\"] for m in train_metrics_loaded], label=\"Train Linf Norm\")\n",
    "plt.plot([m[\"linf_norm\"] for m in test_metrics_loaded], label=\"Test Linf Norm\")\n",
    "plt.xlabel(\"Epoch\")\n",
    "plt.ylabel(\"Linf Norm\")\n",
    "# Added setting the vertical axis to be in powers of 10\n",
    "plt.yscale(\"log\")\n",
    "# Added setting the vertical axis limits to be from 10^-7 to 10^0\n",
    "plt.ylim(1e-3, 1e2)\n",
    "plt.legend()\n",
    "plt.tight_layout()\n",
    "plt.show()\n",
    "\n",
    "# Added plotting MSE of training data and MSE of test data in one plot \n",
    "plt.figure(figsize=(8, 6))\n",
    "plt.plot(train_losses_loaded,label=\"training data\")\n",
    "plt.plot(test_losses_loaded,label=\"test data\")\n",
    "#if scheduler is not None:\n",
    "#    plt.plot([scheduler.get_last_lr()[0] for _ in range(n_epochs)], label=\"Learning rate\") \n",
    "plt.xlabel(\"Epoch\")\n",
    "plt.ylabel(\"MSE\")\n",
    "# Added setting the vertical axis to be in powers of 10\n",
    "plt.yscale(\"log\")\n",
    "# Added setting the vertical axis limits to be from 10^-7 to 10^0\n",
    "plt.ylim(1e-7, 1e0)\n",
    "plt.legend()\n",
    "plt.show()"
   ]
  },
  {
   "attachments": {},
   "cell_type": "markdown",
   "metadata": {},
   "source": [
    "## Evaluating the network on arbirary input\n",
    "### Comparing `net` and `net_loaded`\n",
    "\n",
    "We compare `net` and `net_loaded` to confirm correct loading of the network."
   ]
  },
  {
   "cell_type": "code",
   "execution_count": null,
   "metadata": {},
   "outputs": [
    {
     "ename": "NameError",
     "evalue": "name 'net' is not defined",
     "output_type": "error",
     "traceback": [
      "\u001b[1;31m---------------------------------------------------------------------------\u001b[0m",
      "\u001b[1;31mNameError\u001b[0m                                 Traceback (most recent call last)",
      "Cell \u001b[1;32mIn[12], line 1\u001b[0m\n\u001b[1;32m----> 1\u001b[0m \u001b[39mprint\u001b[39m(\u001b[39mlist\u001b[39m(net\u001b[39m.\u001b[39mparameters()))\n",
      "\u001b[1;31mNameError\u001b[0m: name 'net' is not defined"
     ]
    }
   ],
   "source": [
    "print(list(net.parameters()))"
   ]
  },
  {
   "cell_type": "code",
   "execution_count": null,
   "metadata": {},
   "outputs": [
    {
     "name": "stdout",
     "output_type": "stream",
     "text": [
      "[Parameter containing:\n",
      "tensor([[ 0.9887, -0.4273,  0.2643],\n",
      "        [ 0.2428,  0.0462,  0.2796],\n",
      "        [-0.9244, -0.6041,  0.1286],\n",
      "        ...,\n",
      "        [-0.2677,  0.2487, -0.5183],\n",
      "        [ 0.1792, -0.1531,  0.4387],\n",
      "        [-0.2126,  0.5167,  0.2042]], requires_grad=True), Parameter containing:\n",
      "tensor([ 1.1904e-01,  6.7614e-01, -8.4680e-01, -5.1554e-01,  2.7572e-02,\n",
      "        -4.5595e-01, -4.5601e-02,  7.4211e-02,  2.6079e-01,  3.0072e-01,\n",
      "         3.5281e-01, -3.3332e-01,  4.0445e-01,  2.0769e-01,  6.2183e-02,\n",
      "         4.4856e-02,  6.3571e-01, -3.2752e-02, -4.2531e-01,  3.6487e-01,\n",
      "        -2.7918e-01, -5.2457e-02, -1.6597e-01, -3.0621e-01, -1.8450e-01,\n",
      "         4.3136e-01,  2.3506e-01,  6.0460e-02, -2.4202e-01, -3.3307e-01,\n",
      "         1.8679e-01,  1.5186e-01, -4.4805e-01, -4.8418e-01,  6.0139e-01,\n",
      "         7.2760e-01, -3.1510e-01,  4.9937e-01,  5.4187e-02,  3.4602e-01,\n",
      "         1.4260e-01, -2.6353e-02, -2.2888e-01, -2.3302e-01,  4.6002e-02,\n",
      "        -6.2294e-01, -1.6648e-03, -2.2391e-03, -7.9278e-01, -4.3082e-01,\n",
      "        -1.2700e-01,  5.9688e-01,  2.8542e-01, -2.3973e-01, -3.4789e-01,\n",
      "        -6.1866e-01,  2.1622e-01,  5.2876e-01, -1.7230e-01,  3.2154e-01,\n",
      "         4.9878e-01, -2.9956e-01,  3.1945e-01, -4.2691e-01,  8.3268e-01,\n",
      "         5.2735e-01,  1.2794e-01, -7.1302e-02,  1.8961e-01,  6.3110e-02,\n",
      "         3.1930e-01,  2.5625e-01, -6.4155e-02,  5.3431e-01, -7.0218e-01,\n",
      "        -5.4304e-01, -5.8693e-01,  2.9780e-01, -4.5149e-01, -3.4168e-01,\n",
      "        -1.4621e-01,  2.0948e-01,  2.1732e-01, -1.4128e-01,  4.0344e-01,\n",
      "         2.8747e-01,  3.9372e-01, -3.1292e-01,  2.4392e-01,  1.1970e-01,\n",
      "        -7.5462e-02,  4.0306e-01,  2.0921e-01,  1.8013e-01, -1.0392e+00,\n",
      "        -8.5744e-02,  1.8538e-01,  3.2307e-01,  6.9650e-01,  8.0237e-01,\n",
      "         2.7559e-01,  1.1011e-01,  5.6704e-01,  8.3095e-01, -2.9971e-01,\n",
      "         9.4795e-01,  6.5072e-01,  2.8464e-01, -1.1232e+00,  5.8336e-01,\n",
      "         5.5159e-01, -3.6584e-01, -3.1277e-02, -7.6215e-01, -4.2050e-01,\n",
      "        -3.2338e-02,  4.6822e-01,  5.4793e-01, -4.3384e-01,  8.1853e-01,\n",
      "         1.5300e-01,  8.0526e-02,  9.2853e-02, -5.4166e-01, -4.0368e-01,\n",
      "         3.2871e-01,  2.2645e-01,  2.7316e-01,  5.4559e-01, -1.6613e-02,\n",
      "        -4.4954e-01, -2.2176e-01, -5.6003e-01,  3.0890e-01, -1.4935e-02,\n",
      "         5.2466e-01, -5.3152e-01,  7.3748e-01, -3.3522e-01, -5.0951e-01,\n",
      "        -6.6121e-01, -4.5355e-01, -3.2825e-01, -3.0314e-01, -2.3268e-01,\n",
      "        -4.8601e-01,  5.0746e-01, -3.4439e-01, -3.1402e-01,  3.3691e-01,\n",
      "         3.9854e-02,  4.6685e-01,  2.3948e-01, -6.0165e-01, -4.8621e-01,\n",
      "         2.6700e-01,  2.8980e-01,  6.8318e-02,  3.2334e-01, -7.8827e-01,\n",
      "         1.1061e-01, -5.0811e-01,  8.6046e-01, -2.6374e-01,  2.1863e-01,\n",
      "         4.8316e-01, -1.6235e-01, -1.9083e-01,  1.3795e-01,  6.5810e-04,\n",
      "        -2.9976e-02, -2.1037e-01,  1.6864e-01, -2.1656e-01,  3.5634e-01,\n",
      "        -2.2912e-02, -7.7685e-01,  2.8117e-01, -1.0177e-01, -3.3343e-01,\n",
      "        -3.5823e-01, -3.8301e-01,  1.8684e-01,  2.2722e-01,  3.6455e-01,\n",
      "        -3.0284e-01, -1.2389e-01,  5.4028e-01, -9.4175e-03,  7.8287e-01,\n",
      "         2.7159e-01, -3.5673e-01, -1.2498e-01,  3.2115e-02, -1.4034e-01,\n",
      "         7.9715e-01,  7.8679e-01,  1.6728e-01, -3.2322e-01, -7.9688e-02,\n",
      "        -3.1237e-01, -7.5206e-01, -3.6513e-01,  8.6278e-01,  1.8358e-01,\n",
      "        -9.3285e-01,  3.7913e-01,  1.2205e+00,  4.7166e-01, -8.9417e-02,\n",
      "         6.9567e-04,  2.3266e-01,  6.7992e-01, -8.3586e-01,  7.0585e-01,\n",
      "         3.1852e-01,  7.8876e-01, -1.7421e-01, -5.3459e-01, -8.2815e-02,\n",
      "         6.2544e-01, -6.6049e-01,  2.2575e-01,  1.1715e-01,  1.0562e+00,\n",
      "         6.5693e-01,  6.2470e-01,  2.3475e-01, -3.9422e-01,  2.2040e-01,\n",
      "        -2.8863e-01,  3.6985e-01,  4.5013e-01,  3.3991e-02, -4.9183e-02,\n",
      "         2.5803e-01, -6.0163e-01,  3.9525e-01, -2.3185e-01,  7.5450e-01,\n",
      "        -3.6519e-01,  2.8851e-01,  3.8073e-01, -3.2179e-01,  6.5560e-01,\n",
      "        -1.8586e-01,  8.9920e-01,  3.0710e-02, -1.1595e+00,  5.0067e-01,\n",
      "         3.6330e-01,  2.4023e-01,  7.7339e-01,  4.1852e-01, -3.9747e-01,\n",
      "         7.7109e-01, -7.9493e-01,  1.5263e-01,  3.6685e-01, -4.5167e-01,\n",
      "         5.9954e-01,  3.2850e-01, -1.9347e-01, -4.3040e-01,  9.7297e-02,\n",
      "         8.3269e-01,  1.3524e-01,  4.9403e-01, -5.2777e-01,  5.2295e-01,\n",
      "        -3.6739e-01, -7.3919e-01,  7.0053e-01, -3.4569e-01,  6.4199e-02,\n",
      "         6.1591e-01,  6.5258e-01,  2.6099e-01,  3.3907e-01, -3.7705e-01,\n",
      "         3.7149e-01, -1.0323e+00,  3.3876e-01,  2.5350e-01,  6.6640e-02,\n",
      "        -4.9029e-01,  9.9538e-01, -8.0673e-01,  5.1845e-01, -8.8879e-01,\n",
      "         1.7239e-01, -4.8273e-01,  2.6084e-01, -3.4732e-01, -7.5119e-01,\n",
      "        -1.5768e-01, -9.5561e-03, -2.6122e-01, -4.1158e-01,  4.0459e-01,\n",
      "        -3.3630e-01,  8.9989e-02,  1.9649e-01, -2.5527e-02, -7.3486e-01,\n",
      "        -4.2103e-01, -1.6710e-01, -2.5238e-01, -8.3831e-01,  5.5532e-01,\n",
      "        -2.5585e-02, -2.2217e-01,  4.5004e-01, -7.8229e-01, -3.4648e-01,\n",
      "         1.0524e-01,  7.0798e-01,  2.5381e-01,  5.0187e-01, -2.9383e-01,\n",
      "        -2.2215e-01, -4.3567e-01,  6.5436e-01,  2.0383e-01, -6.4408e-01,\n",
      "        -8.0923e-01, -3.8892e-02,  4.7330e-01,  9.8693e-02,  4.2589e-01,\n",
      "         1.7709e-01, -2.8974e-01,  5.2421e-01,  1.5829e-02,  1.8332e-01,\n",
      "         2.7608e-01,  2.7877e-01,  5.4089e-03,  4.9327e-01,  4.5019e-02,\n",
      "         4.4043e-01,  2.6532e-02,  1.2667e+00, -1.5312e-01,  3.8715e-01,\n",
      "        -2.4319e-01, -5.1445e-02, -3.3188e-01,  1.9689e-01, -8.1941e-01,\n",
      "         7.0554e-02, -1.0990e-01,  5.1790e-02, -5.8679e-01,  1.2947e-01,\n",
      "         3.1311e-01,  2.6189e-01,  2.4308e-01, -2.9350e-03,  2.8263e-01,\n",
      "         3.8924e-01, -3.9731e-01,  1.0377e+00, -5.8005e-01,  1.2680e-01,\n",
      "        -9.5194e-01,  4.0699e-01, -7.9565e-01, -7.2752e-01,  5.1282e-01,\n",
      "        -9.6065e-02, -2.5785e-01, -1.1314e-01, -2.1646e-01,  4.4257e-01,\n",
      "         3.3476e-01,  8.5089e-01, -9.9944e-02,  4.9228e-01,  1.7012e-01,\n",
      "        -3.2274e-01, -3.7089e-01,  1.6193e-01, -4.8037e-02, -6.1303e-02,\n",
      "         8.1948e-01,  3.5566e-01,  2.7798e-01,  1.2383e-01,  8.5411e-01,\n",
      "         3.1741e-01, -1.0624e-01,  3.7501e-01,  1.5985e-02,  7.1546e-02,\n",
      "         5.4083e-01, -6.4911e-01,  7.9168e-01, -6.3276e-01,  3.8814e-01,\n",
      "        -1.1858e-01, -2.5816e-01,  6.1303e-01, -8.0352e-01, -1.4456e-01,\n",
      "        -2.8263e-01,  1.1842e-01,  1.1004e-01, -1.9511e-01,  6.1865e-01,\n",
      "         3.3335e-01,  5.6857e-01, -1.2646e-01,  8.3894e-01,  6.6704e-02,\n",
      "        -1.8977e-01,  2.2850e-01, -6.8961e-01,  1.8870e-01, -4.5022e-01,\n",
      "         2.9012e-01,  7.5890e-01, -1.9485e-01,  5.1679e-01,  4.9405e-01,\n",
      "         5.6845e-01,  4.0043e-01, -2.4175e-01, -3.6946e-01,  3.7890e-01,\n",
      "         5.3182e-01,  2.1775e-01,  1.5655e-01, -6.5773e-01, -2.1576e-01,\n",
      "        -3.6421e-01, -3.7985e-01,  4.5258e-01, -1.5406e-01, -4.8925e-01,\n",
      "        -7.2254e-01,  2.9332e-01,  5.6161e-01,  2.7446e-01, -3.1923e-01,\n",
      "         6.8446e-02,  2.3309e-01,  9.7352e-01,  5.3121e-03,  1.0335e-02,\n",
      "        -1.5422e-01,  1.5991e-01,  6.2389e-02,  6.6206e-02, -8.4271e-02,\n",
      "        -1.6072e-01,  1.3520e-01,  2.8228e-01,  1.0654e-02,  2.0204e-03,\n",
      "         4.7126e-01,  2.7306e-01,  3.5551e-01, -2.6493e-01, -6.6990e-01,\n",
      "         1.7078e-01,  6.9302e-01, -4.6593e-01,  4.6290e-01, -2.9910e-01,\n",
      "        -3.0773e-01,  3.6440e-01,  1.1705e-01,  8.1055e-01, -9.3197e-01,\n",
      "         6.2285e-02, -5.1928e-01, -9.0759e-02,  5.0155e-02, -2.4601e-01,\n",
      "        -1.2757e+00, -9.7430e-02,  9.1277e-02,  7.5005e-01,  6.7786e-01,\n",
      "        -3.7003e-01, -4.1011e-01,  4.6384e-01, -8.8761e-02, -2.8662e-01,\n",
      "        -7.9105e-01,  2.4649e-02,  4.9202e-01, -5.5020e-01, -4.2882e-01,\n",
      "        -8.3599e-01, -5.7811e-02,  2.0584e-01, -3.1411e-01,  2.3199e-01,\n",
      "         4.4204e-01, -2.2542e-02, -2.5464e-01,  6.9329e-02, -1.7868e-01,\n",
      "        -2.0088e-01, -7.2026e-01,  3.2312e-01,  9.9845e-02, -2.5226e-01,\n",
      "        -1.7269e-01,  6.3560e-01,  1.8283e-01, -2.9208e-01, -2.9642e-01,\n",
      "        -3.7363e-02,  7.7825e-01,  3.5679e-01, -7.1926e-01, -6.6802e-02,\n",
      "        -4.8982e-01,  4.5263e-01, -1.4076e-01,  3.5409e-01, -5.5084e-01,\n",
      "         3.9090e-01, -6.3789e-02, -2.3109e-01, -2.4247e-01,  4.1917e-02,\n",
      "         4.2208e-01,  6.4207e-01, -6.3049e-01,  8.8959e-01, -7.7358e-02,\n",
      "        -4.9286e-01,  5.4093e-01,  3.5884e-01,  4.2929e-01,  2.9686e-01,\n",
      "         2.7668e-01, -8.4246e-02,  7.6079e-01,  2.4844e-01, -3.6529e-01,\n",
      "         9.7946e-01,  2.4301e-01,  4.3411e-01,  5.3216e-01, -2.8105e-01,\n",
      "        -5.0055e-01, -4.4762e-01,  5.9562e-01,  6.7402e-01, -3.1278e-01,\n",
      "         7.4714e-02, -1.4703e-01,  5.3019e-01,  4.7800e-01,  8.4013e-02,\n",
      "        -8.5537e-01,  2.6439e-01,  4.2088e-01, -1.9843e-01, -1.3684e-02,\n",
      "         6.6048e-01,  5.3832e-01,  8.2307e-01, -5.9162e-01, -3.6344e-01,\n",
      "         3.4618e-01,  2.8089e-01,  1.9354e-01,  7.9905e-02,  4.2882e-02,\n",
      "        -3.7108e-03,  9.6407e-01,  1.4641e-01,  5.5970e-01,  6.9980e-01,\n",
      "         5.7739e-02, -2.0410e-01, -6.5423e-02, -1.5570e-01,  7.2906e-01,\n",
      "         5.9992e-01,  1.2165e+00, -2.7342e-01,  5.9520e-01,  4.6195e-01,\n",
      "        -7.7120e-02,  7.2359e-01, -1.4398e-01,  2.2244e-01, -3.9207e-01,\n",
      "         4.5451e-01, -1.7553e-01,  1.1043e-01, -4.7120e-01,  4.0730e-01],\n",
      "       requires_grad=True), Parameter containing:\n",
      "tensor([[-0.1088, -0.0098, -0.0862,  ..., -0.0487, -0.1897, -0.0357],\n",
      "        [-0.0600, -0.0757, -0.0245,  ..., -0.0546, -0.0730, -0.0573],\n",
      "        [-0.0637, -0.0530,  0.0201,  ..., -0.0606, -0.1221, -0.0251],\n",
      "        ...,\n",
      "        [-0.1209, -0.0247, -0.0748,  ..., -0.0648, -0.0910, -0.0805],\n",
      "        [ 0.1120,  0.0512,  0.0744,  ...,  0.0936,  0.0978,  0.0477],\n",
      "        [-0.0706, -0.0973, -0.0703,  ..., -0.0537, -0.0930, -0.0716]],\n",
      "       requires_grad=True), Parameter containing:\n",
      "tensor([-0.0344, -0.0264, -0.0903, -0.0374, -0.0771, -0.0222, -0.0302, -0.0158,\n",
      "         0.0586,  0.0380,  0.0499,  0.0803, -0.0787, -0.0197, -0.2265, -0.0234,\n",
      "        -0.0482, -0.0830, -0.0220, -0.0357, -0.0480,  0.0568,  0.0743, -0.0466,\n",
      "        -0.0220, -0.1290, -0.0107,  0.1372,  0.0707, -0.0215,  0.0817, -0.0446,\n",
      "        -0.0306, -0.1201, -0.0219, -0.1582, -0.0600, -0.0215, -0.0190, -0.0611,\n",
      "        -0.0554,  0.0504, -0.0042,  0.0690, -0.0920, -0.0199, -0.0569, -0.0451,\n",
      "        -0.0832,  0.0591,  0.0790, -0.0451,  0.0368, -0.0069, -0.0776, -0.0627,\n",
      "        -0.0180, -0.0592, -0.0504, -0.1184, -0.0348,  0.0750, -0.0695, -0.0484,\n",
      "        -0.0231, -0.0542,  0.0554, -0.0367, -0.0479, -0.1638, -0.0569,  0.0586,\n",
      "         0.1659, -0.0065, -0.0226, -0.0828, -0.0224, -0.0558,  0.0290, -0.0791,\n",
      "        -0.0463, -0.0688, -0.0565,  0.2260, -0.0046, -0.0975, -0.0686, -0.0529,\n",
      "         0.0373, -0.0434,  0.0343, -0.0739,  0.0669,  0.0411, -0.0065, -0.0444,\n",
      "         0.1175, -0.0449, -0.0616, -0.0719,  0.0708, -0.0729, -0.0439,  0.0343,\n",
      "        -0.0763, -0.0092,  0.1006, -0.0284, -0.0434,  0.2137, -0.0745, -0.0764,\n",
      "         0.1474, -0.0042, -0.0420, -0.1185, -0.2865,  0.0664, -0.0223,  0.0903,\n",
      "        -0.0717,  0.0948,  0.0537, -0.0545, -0.0567,  0.1990,  0.1106, -0.0148,\n",
      "        -0.0166, -0.0096, -0.0614,  0.0797, -0.0284, -0.1756, -0.0419, -0.0740,\n",
      "        -0.1010,  0.0861,  0.0495, -0.0270, -0.0601, -0.0460, -0.1042,  0.0299,\n",
      "         0.1347, -0.0052, -0.0583, -0.0384, -0.0377, -0.0865,  0.0638,  0.2102,\n",
      "        -0.0574,  0.0684, -0.0545, -0.0654,  0.0753, -0.0137,  0.2035,  0.1479,\n",
      "        -0.1714,  0.0253, -0.1184, -0.0832, -0.0718,  0.0798,  0.0363, -0.0319,\n",
      "        -0.0722, -0.0430, -0.0330, -0.0158, -0.0920, -0.2526, -0.0157, -0.0678,\n",
      "        -0.0591, -0.0343, -0.0130,  0.0849, -0.0435,  0.0424, -0.0731,  0.0827,\n",
      "         0.1746, -0.0584,  0.0533, -0.0378, -0.0647,  0.0636, -0.0621,  0.0499,\n",
      "         0.1076, -0.0696, -0.0861,  0.1026,  0.1652, -0.0753,  0.0759, -0.0327],\n",
      "       requires_grad=True), Parameter containing:\n",
      "tensor([[-0.0544, -0.1354, -0.1469, -0.0160, -0.1602, -0.1594, -0.0853, -0.1521,\n",
      "          0.0620,  0.0457,  0.0821,  0.0751,  0.0053, -0.1563, -0.0034, -0.1348,\n",
      "         -0.1475, -0.1683, -0.1486, -0.1260,  0.0022,  0.0534,  0.0367, -0.0499,\n",
      "         -0.1674,  0.0085, -0.0568,  0.0588,  0.0802, -0.1418,  0.0391, -0.1563,\n",
      "         -0.1695, -0.0162, -0.1563,  0.0041, -0.1418, -0.1293, -0.1335, -0.1600,\n",
      "         -0.1414,  0.0560, -0.1374,  0.0399,  0.0106,  0.0056,  0.0014,  0.0056,\n",
      "         -0.1431,  0.0411,  0.0653, -0.1447,  0.0685,  0.0003,  0.0119, -0.1246,\n",
      "         -0.1560, -0.1437,  0.0108,  0.0236,  0.0014,  0.0809, -0.1583,  0.0160,\n",
      "         -0.1470, -0.0079,  0.0691, -0.1552, -0.1405,  0.0156, -0.1380,  0.0692,\n",
      "          0.0397, -0.0630, -0.1557,  0.0087, -0.1425, -0.1362,  0.0733, -0.1091,\n",
      "         -0.0524, -0.1576,  0.0020,  0.0509, -0.1299,  0.0062, -0.1656, -0.1498,\n",
      "          0.0493, -0.1339,  0.0601, -0.0492,  0.0372,  0.0523, -0.1390, -0.1341,\n",
      "          0.0272,  0.0002,  0.0069, -0.1634,  0.0770,  0.0083, -0.1420,  0.0631,\n",
      "         -0.1580, -0.0450,  0.0567, -0.1528, -0.1325,  0.0362, -0.1226,  0.0092,\n",
      "          0.0731, -0.1418, -0.0051,  0.0105,  0.0158,  0.0549, -0.1305,  0.0764,\n",
      "          0.0078,  0.0663,  0.0751, -0.1703,  0.0079,  0.0390,  0.0411, -0.0143,\n",
      "         -0.1210, -0.1486, -0.1311,  0.0518, -0.1382,  0.0170, -0.1645, -0.0085,\n",
      "          0.0060,  0.0159,  0.0537, -0.1674, -0.1587, -0.1489,  0.0017,  0.0779,\n",
      "          0.0756, -0.1138, -0.1389, -0.1302, -0.1693,  0.0143,  0.0633,  0.0520,\n",
      "         -0.0255,  0.0455, -0.1626, -0.1500,  0.0698, -0.1593,  0.0386,  0.0536,\n",
      "          0.0204,  0.0536, -0.0060, -0.1339, -0.1258,  0.0304,  0.0220, -0.1621,\n",
      "          0.0153, -0.1590, -0.1418, -0.1556,  0.0170,  0.0315, -0.1336, -0.1565,\n",
      "          0.0146, -0.1408, -0.1402,  0.0420, -0.1407,  0.0347,  0.0023,  0.0760,\n",
      "          0.0764, -0.0169,  0.0439, -0.1452,  0.0100,  0.0621, -0.1376,  0.0395,\n",
      "          0.0580, -0.0262,  0.0128,  0.0695,  0.0546,  0.0125,  0.0349,  0.0197]],\n",
      "       requires_grad=True), Parameter containing:\n",
      "tensor([0.0937], requires_grad=True)]\n"
     ]
    }
   ],
   "source": [
    "print(list(net_loaded.parameters()))"
   ]
  },
  {
   "cell_type": "code",
   "execution_count": null,
   "metadata": {},
   "outputs": [
    {
     "ename": "NameError",
     "evalue": "name 'net' is not defined",
     "output_type": "error",
     "traceback": [
      "\u001b[1;31m---------------------------------------------------------------------------\u001b[0m",
      "\u001b[1;31mNameError\u001b[0m                                 Traceback (most recent call last)",
      "Cell \u001b[1;32mIn[15], line 2\u001b[0m\n\u001b[0;32m      1\u001b[0m \u001b[39m# Set the network to evaluation mode\u001b[39;00m\n\u001b[1;32m----> 2\u001b[0m net\u001b[39m.\u001b[39meval()\n",
      "\u001b[1;31mNameError\u001b[0m: name 'net' is not defined"
     ]
    }
   ],
   "source": [
    "# Set the network to evaluation mode\n",
    "net.eval()"
   ]
  },
  {
   "cell_type": "code",
   "execution_count": null,
   "metadata": {},
   "outputs": [
    {
     "data": {
      "text/plain": [
       "tensor([[10.1588,  9.8831, 14.4961],\n",
       "        [11.5457, 15.7093, 10.8330],\n",
       "        [ 7.0412,  3.4319,  3.3166],\n",
       "        [ 7.3073,  1.0524,  3.4916],\n",
       "        [ 7.3664,  6.4149,  3.4382],\n",
       "        [ 5.8061,  1.8218,  2.9277],\n",
       "        [ 1.8201,  1.0985,  1.8799],\n",
       "        [ 8.8289,  1.5228,  2.4887],\n",
       "        [ 4.1171,  6.2922,  4.7041],\n",
       "        [10.0273,  5.6213, 18.5256],\n",
       "        [ 1.5369,  0.8019,  0.6702],\n",
       "        [ 0.7968,  0.4608,  0.3384],\n",
       "        [ 8.0472, 15.8943, 12.1140],\n",
       "        [ 8.3138,  1.1167,  1.3626],\n",
       "        [12.4783, 34.9983, 34.1324],\n",
       "        [ 2.9598,  1.0919,  0.4657],\n",
       "        [10.5434,  9.5605,  5.4033],\n",
       "        [ 1.7182,  1.1161,  1.5269],\n",
       "        [ 1.2905,  2.7248,  2.5802],\n",
       "        [ 3.3545,  4.1875,  5.7451]])"
      ]
     },
     "execution_count": 16,
     "metadata": {},
     "output_type": "execute_result"
    }
   ],
   "source": [
    "rho_example, vx_example, epsilon_example = sample_primitive_variables(20)\n",
    "\n",
    "# Create arbitrary input\n",
    "inputs =  generate_input_data(rho_example, vx_example, epsilon_example)\n",
    "inputs"
   ]
  },
  {
   "cell_type": "code",
   "execution_count": null,
   "metadata": {},
   "outputs": [
    {
     "ename": "NameError",
     "evalue": "name 'net' is not defined",
     "output_type": "error",
     "traceback": [
      "\u001b[1;31m---------------------------------------------------------------------------\u001b[0m",
      "\u001b[1;31mNameError\u001b[0m                                 Traceback (most recent call last)",
      "Cell \u001b[1;32mIn[17], line 2\u001b[0m\n\u001b[0;32m      1\u001b[0m \u001b[39m# Pass the inputs to the network and get the outputs\u001b[39;00m\n\u001b[1;32m----> 2\u001b[0m outputs \u001b[39m=\u001b[39m [net(\u001b[39minput\u001b[39;49m) \u001b[39mfor\u001b[39;49;00m \u001b[39minput\u001b[39;49m \u001b[39min\u001b[39;49;00m inputs]\n\u001b[0;32m      3\u001b[0m \u001b[39m# Print the outputs\u001b[39;00m\n\u001b[0;32m      4\u001b[0m outputs\n",
      "Cell \u001b[1;32mIn[17], line 2\u001b[0m, in \u001b[0;36m<listcomp>\u001b[1;34m(.0)\u001b[0m\n\u001b[0;32m      1\u001b[0m \u001b[39m# Pass the inputs to the network and get the outputs\u001b[39;00m\n\u001b[1;32m----> 2\u001b[0m outputs \u001b[39m=\u001b[39m [net(\u001b[39minput\u001b[39m) \u001b[39mfor\u001b[39;00m \u001b[39minput\u001b[39m \u001b[39min\u001b[39;00m inputs]\n\u001b[0;32m      3\u001b[0m \u001b[39m# Print the outputs\u001b[39;00m\n\u001b[0;32m      4\u001b[0m outputs\n",
      "\u001b[1;31mNameError\u001b[0m: name 'net' is not defined"
     ]
    }
   ],
   "source": [
    "# Pass the inputs to the network and get the outputs\n",
    "outputs = [net(input) for input in inputs]\n",
    "# Print the outputs\n",
    "outputs"
   ]
  },
  {
   "cell_type": "code",
   "execution_count": null,
   "metadata": {},
   "outputs": [
    {
     "data": {
      "text/plain": [
       "Net(\n",
       "  (hidden_activation): Sigmoid()\n",
       "  (output_activation): ReLU()\n",
       "  (layers): ModuleList(\n",
       "    (0): Linear(in_features=3, out_features=600, bias=True)\n",
       "    (1): Linear(in_features=600, out_features=200, bias=True)\n",
       "    (2): Linear(in_features=200, out_features=1, bias=True)\n",
       "  )\n",
       ")"
      ]
     },
     "execution_count": 18,
     "metadata": {},
     "output_type": "execute_result"
    },
    {
     "data": {
      "text/plain": [
       "[tensor([3.4608], grad_fn=<ReluBackward0>),\n",
       " tensor([3.4608], grad_fn=<ReluBackward0>),\n",
       " tensor([3.4608], grad_fn=<ReluBackward0>),\n",
       " tensor([3.4608], grad_fn=<ReluBackward0>),\n",
       " tensor([3.4608], grad_fn=<ReluBackward0>),\n",
       " tensor([3.4608], grad_fn=<ReluBackward0>),\n",
       " tensor([3.4608], grad_fn=<ReluBackward0>),\n",
       " tensor([3.4608], grad_fn=<ReluBackward0>),\n",
       " tensor([3.4608], grad_fn=<ReluBackward0>),\n",
       " tensor([3.4608], grad_fn=<ReluBackward0>),\n",
       " tensor([3.4608], grad_fn=<ReluBackward0>),\n",
       " tensor([3.4608], grad_fn=<ReluBackward0>),\n",
       " tensor([3.4608], grad_fn=<ReluBackward0>),\n",
       " tensor([3.4608], grad_fn=<ReluBackward0>),\n",
       " tensor([3.4608], grad_fn=<ReluBackward0>),\n",
       " tensor([3.4608], grad_fn=<ReluBackward0>),\n",
       " tensor([3.4608], grad_fn=<ReluBackward0>),\n",
       " tensor([3.4608], grad_fn=<ReluBackward0>),\n",
       " tensor([3.4608], grad_fn=<ReluBackward0>),\n",
       " tensor([3.4608], grad_fn=<ReluBackward0>)]"
      ]
     },
     "execution_count": 18,
     "metadata": {},
     "output_type": "execute_result"
    }
   ],
   "source": [
    "# Set the network to evaluation mode\n",
    "net_loaded.eval()\n",
    "# Pass the inputs to the network and get the outputs\n",
    "outputs = [net_loaded(input) for input in inputs]\n",
    "# Print the outputs\n",
    "outputs"
   ]
  },
  {
   "attachments": {},
   "cell_type": "markdown",
   "metadata": {},
   "source": [
    "## Porting the model to C++"
   ]
  },
  {
   "cell_type": "code",
   "execution_count": null,
   "metadata": {},
   "outputs": [
    {
     "data": {
      "text/plain": [
       "tensor([[-0.8422, -0.6738,  1.4319]])"
      ]
     },
     "execution_count": 20,
     "metadata": {},
     "output_type": "execute_result"
    },
    {
     "data": {
      "text/plain": [
       "tensor([[4.8001, 1.9455, 2.1659]])"
      ]
     },
     "execution_count": 20,
     "metadata": {},
     "output_type": "execute_result"
    },
    {
     "data": {
      "text/plain": [
       "tensor([[3.4608]], grad_fn=<ReluBackward0>)"
      ]
     },
     "execution_count": 20,
     "metadata": {},
     "output_type": "execute_result"
    }
   ],
   "source": [
    "import torch.jit\n",
    "\n",
    "# Creating a dummy input tensor of shape (1, 3) to trace the model\n",
    "dummy_input = torch.randn(1, 3).to(device)\n",
    "dummy_input\n",
    "\n",
    "# Tracing the model using the torch.jit.trace function\n",
    "traced_model = torch.jit.trace(net_loaded, dummy_input)\n",
    "\n",
    "# Saving the traced model to a file named \"net.pt\"\n",
    "traced_model.save(\"cpp/build/net.pt\")\n",
    "\n",
    "example_input_to_validate_correct_export_and_import = generate_input_data(*sample_primitive_variables(1))\n",
    "example_input_to_validate_correct_export_and_import\n",
    "net_loaded(example_input_to_validate_correct_export_and_import)"
   ]
  },
  {
   "cell_type": "code",
   "execution_count": null,
   "metadata": {},
   "outputs": [],
   "source": []
  }
 ],
 "metadata": {
  "kernelspec": {
   "display_name": "bsc",
   "language": "python",
   "name": "python3"
  },
  "language_info": {
   "codemirror_mode": {
    "name": "ipython",
    "version": 3
   },
   "file_extension": ".py",
   "mimetype": "text/x-python",
   "name": "python",
   "nbconvert_exporter": "python",
   "pygments_lexer": "ipython3",
   "version": "3.11.3"
  },
  "orig_nbformat": 4
 },
 "nbformat": 4,
 "nbformat_minor": 2
}
