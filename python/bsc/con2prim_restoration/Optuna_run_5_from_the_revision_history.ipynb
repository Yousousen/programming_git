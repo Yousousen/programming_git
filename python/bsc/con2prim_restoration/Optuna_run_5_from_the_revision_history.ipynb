{
  "cells": [
    {
      "cell_type": "markdown",
      "metadata": {
        "id": "GL3RVTXEQ3wQ"
      },
      "source": [
        "# Neural network to learn conservative-to-primitive conversion in relativistic hydrodynamics\n",
        "We use Optuna to do a type of Bayesian optimization of the hyperparameters of the model. We then train the model using these hyperparameters to recover the primitive pressure from the conserved variables.\n",
        "\n",
        "Use this first cell to convert this notebook to a python script.\n",
        "\n",
        "test"
      ]
    },
    {
      "cell_type": "code",
      "execution_count": null,
      "metadata": {
        "colab": {
          "base_uri": "https://localhost:8080/"
        },
        "id": "vEWpYQS4Q3wV",
        "outputId": "00237b3d-cbff-4c45-f8fb-c5026821eb0b"
      },
      "outputs": [
        {
          "output_type": "stream",
          "name": "stdout",
          "text": [
            "skipping\n"
          ]
        }
      ],
      "source": [
        "%%script echo skipping\n",
        "\n",
        "!jupyter nbconvert pt4.ipynb --TagRemovePreprocessor.enabled=True --TagRemovePreprocessor.remove_cell_tags='{\"remove_cell\"}' --to script"
      ]
    },
    {
      "cell_type": "code",
      "execution_count": null,
      "metadata": {
        "colab": {
          "base_uri": "https://localhost:8080/"
        },
        "id": "0mHv5BPlQ3wY",
        "outputId": "30fb5f95-0a5c-4d0c-ba63-1fbd9c2e037b"
      },
      "outputs": [
        {
          "output_type": "stream",
          "name": "stdout",
          "text": [
            "Looking in indexes: https://pypi.org/simple, https://us-python.pkg.dev/colab-wheels/public/simple/\n",
            "Collecting optuna\n",
            "  Downloading optuna-3.1.1-py3-none-any.whl (365 kB)\n",
            "\u001b[2K     \u001b[90m━━━━━━━━━━━━━━━━━━━━━━━━━━━━━━━━━━━━━━━\u001b[0m \u001b[32m365.7/365.7 kB\u001b[0m \u001b[31m7.9 MB/s\u001b[0m eta \u001b[36m0:00:00\u001b[0m\n",
            "\u001b[?25hRequirement already satisfied: tensorboard in /usr/local/lib/python3.10/dist-packages (2.12.2)\n",
            "Collecting tensorboardX\n",
            "  Downloading tensorboardX-2.6-py2.py3-none-any.whl (114 kB)\n",
            "\u001b[2K     \u001b[90m━━━━━━━━━━━━━━━━━━━━━━━━━━━━━━━━━━━━━━\u001b[0m \u001b[32m114.5/114.5 kB\u001b[0m \u001b[31m16.7 MB/s\u001b[0m eta \u001b[36m0:00:00\u001b[0m\n",
            "\u001b[?25hCollecting alembic>=1.5.0 (from optuna)\n",
            "  Downloading alembic-1.10.4-py3-none-any.whl (212 kB)\n",
            "\u001b[2K     \u001b[90m━━━━━━━━━━━━━━━━━━━━━━━━━━━━━━━━━━━━━━\u001b[0m \u001b[32m212.9/212.9 kB\u001b[0m \u001b[31m24.9 MB/s\u001b[0m eta \u001b[36m0:00:00\u001b[0m\n",
            "\u001b[?25hCollecting cmaes>=0.9.1 (from optuna)\n",
            "  Downloading cmaes-0.9.1-py3-none-any.whl (21 kB)\n",
            "Collecting colorlog (from optuna)\n",
            "  Downloading colorlog-6.7.0-py2.py3-none-any.whl (11 kB)\n",
            "Requirement already satisfied: numpy in /usr/local/lib/python3.10/dist-packages (from optuna) (1.22.4)\n",
            "Requirement already satisfied: packaging>=20.0 in /usr/local/lib/python3.10/dist-packages (from optuna) (23.1)\n",
            "Requirement already satisfied: sqlalchemy>=1.3.0 in /usr/local/lib/python3.10/dist-packages (from optuna) (2.0.10)\n",
            "Requirement already satisfied: tqdm in /usr/local/lib/python3.10/dist-packages (from optuna) (4.65.0)\n",
            "Requirement already satisfied: PyYAML in /usr/local/lib/python3.10/dist-packages (from optuna) (6.0)\n",
            "Requirement already satisfied: absl-py>=0.4 in /usr/local/lib/python3.10/dist-packages (from tensorboard) (1.4.0)\n",
            "Requirement already satisfied: grpcio>=1.48.2 in /usr/local/lib/python3.10/dist-packages (from tensorboard) (1.54.0)\n",
            "Requirement already satisfied: google-auth<3,>=1.6.3 in /usr/local/lib/python3.10/dist-packages (from tensorboard) (2.17.3)\n",
            "Requirement already satisfied: google-auth-oauthlib<1.1,>=0.5 in /usr/local/lib/python3.10/dist-packages (from tensorboard) (1.0.0)\n",
            "Requirement already satisfied: markdown>=2.6.8 in /usr/local/lib/python3.10/dist-packages (from tensorboard) (3.4.3)\n",
            "Requirement already satisfied: protobuf>=3.19.6 in /usr/local/lib/python3.10/dist-packages (from tensorboard) (3.20.3)\n",
            "Requirement already satisfied: requests<3,>=2.21.0 in /usr/local/lib/python3.10/dist-packages (from tensorboard) (2.27.1)\n",
            "Requirement already satisfied: setuptools>=41.0.0 in /usr/local/lib/python3.10/dist-packages (from tensorboard) (67.7.2)\n",
            "Requirement already satisfied: tensorboard-data-server<0.8.0,>=0.7.0 in /usr/local/lib/python3.10/dist-packages (from tensorboard) (0.7.0)\n",
            "Requirement already satisfied: tensorboard-plugin-wit>=1.6.0 in /usr/local/lib/python3.10/dist-packages (from tensorboard) (1.8.1)\n",
            "Requirement already satisfied: werkzeug>=1.0.1 in /usr/local/lib/python3.10/dist-packages (from tensorboard) (2.3.0)\n",
            "Requirement already satisfied: wheel>=0.26 in /usr/local/lib/python3.10/dist-packages (from tensorboard) (0.40.0)\n",
            "Collecting Mako (from alembic>=1.5.0->optuna)\n",
            "  Downloading Mako-1.2.4-py3-none-any.whl (78 kB)\n",
            "\u001b[2K     \u001b[90m━━━━━━━━━━━━━━━━━━━━━━━━━━━━━━━━━━━━━━━━\u001b[0m \u001b[32m78.7/78.7 kB\u001b[0m \u001b[31m10.7 MB/s\u001b[0m eta \u001b[36m0:00:00\u001b[0m\n",
            "\u001b[?25hRequirement already satisfied: typing-extensions>=4 in /usr/local/lib/python3.10/dist-packages (from alembic>=1.5.0->optuna) (4.5.0)\n",
            "Requirement already satisfied: cachetools<6.0,>=2.0.0 in /usr/local/lib/python3.10/dist-packages (from google-auth<3,>=1.6.3->tensorboard) (5.3.0)\n",
            "Requirement already satisfied: pyasn1-modules>=0.2.1 in /usr/local/lib/python3.10/dist-packages (from google-auth<3,>=1.6.3->tensorboard) (0.3.0)\n",
            "Requirement already satisfied: six>=1.9.0 in /usr/local/lib/python3.10/dist-packages (from google-auth<3,>=1.6.3->tensorboard) (1.16.0)\n",
            "Requirement already satisfied: rsa<5,>=3.1.4 in /usr/local/lib/python3.10/dist-packages (from google-auth<3,>=1.6.3->tensorboard) (4.9)\n",
            "Requirement already satisfied: requests-oauthlib>=0.7.0 in /usr/local/lib/python3.10/dist-packages (from google-auth-oauthlib<1.1,>=0.5->tensorboard) (1.3.1)\n",
            "Requirement already satisfied: urllib3<1.27,>=1.21.1 in /usr/local/lib/python3.10/dist-packages (from requests<3,>=2.21.0->tensorboard) (1.26.15)\n",
            "Requirement already satisfied: certifi>=2017.4.17 in /usr/local/lib/python3.10/dist-packages (from requests<3,>=2.21.0->tensorboard) (2022.12.7)\n",
            "Requirement already satisfied: charset-normalizer~=2.0.0 in /usr/local/lib/python3.10/dist-packages (from requests<3,>=2.21.0->tensorboard) (2.0.12)\n",
            "Requirement already satisfied: idna<4,>=2.5 in /usr/local/lib/python3.10/dist-packages (from requests<3,>=2.21.0->tensorboard) (3.4)\n",
            "Requirement already satisfied: greenlet!=0.4.17 in /usr/local/lib/python3.10/dist-packages (from sqlalchemy>=1.3.0->optuna) (2.0.2)\n",
            "Requirement already satisfied: MarkupSafe>=2.1.1 in /usr/local/lib/python3.10/dist-packages (from werkzeug>=1.0.1->tensorboard) (2.1.2)\n",
            "Requirement already satisfied: pyasn1<0.6.0,>=0.4.6 in /usr/local/lib/python3.10/dist-packages (from pyasn1-modules>=0.2.1->google-auth<3,>=1.6.3->tensorboard) (0.5.0)\n",
            "Requirement already satisfied: oauthlib>=3.0.0 in /usr/local/lib/python3.10/dist-packages (from requests-oauthlib>=0.7.0->google-auth-oauthlib<1.1,>=0.5->tensorboard) (3.2.2)\n",
            "Installing collected packages: tensorboardX, Mako, colorlog, cmaes, alembic, optuna\n",
            "Successfully installed Mako-1.2.4 alembic-1.10.4 cmaes-0.9.1 colorlog-6.7.0 optuna-3.1.1 tensorboardX-2.6\n"
          ]
        }
      ],
      "source": [
        "#%%script echo skipping\n",
        "\n",
        "!pip install optuna tensorboard tensorboardX"
      ]
    },
    {
      "cell_type": "code",
      "execution_count": null,
      "metadata": {
        "id": "mTCxERL7Q3wY"
      },
      "outputs": [],
      "source": [
        "# Importing the libraries\n",
        "import numpy as np\n",
        "import matplotlib.pyplot as plt\n",
        "import torch\n",
        "import torch.nn as nn\n",
        "import torch.optim as optim\n",
        "import torch.nn.functional as F\n",
        "import optuna\n",
        "import tensorboardX as tbx\n",
        "\n",
        "# Checking if GPU is available and setting the device accordingly\n",
        "device = torch.device(\"cuda\" if torch.cuda.is_available() else \"cpu\")\n"
      ]
    },
    {
      "cell_type": "markdown",
      "metadata": {
        "id": "8an8BQzgQ3wZ"
      },
      "source": [
        "## Constants and flags to set\n",
        "Defining some constants and parameters for convenience."
      ]
    },
    {
      "cell_type": "code",
      "execution_count": null,
      "metadata": {
        "id": "TPkeG0KhQ3wZ"
      },
      "outputs": [],
      "source": [
        "\n",
        "N_TRIALS = 150 # Number of trials for hyperparameter optimization\n",
        "OPTIMIZE = True # Whether to optimize the hyperparameters or to use predetermined values from Dieseldorst et al..\n",
        "\n",
        "# Hyperparameters when no hyperparameter optimization is performed. \n",
        "N_LAYERS_NO_OPT = 2\n",
        "N_UNITS_NO_OPT = [600, 200]\n",
        "HIDDEN_ACTIVATION_NAME_NO_OPT = \"Sigmoid\"\n",
        "OUTPUT_ACTIVATION_NAME_NO_OPT = \"ReLU\"\n",
        "LOSS_NAME_NO_OPT = \"MSE\"\n",
        "OPTIMIZER_NAME_NO_OPT = \"Adam\"\n",
        "LR_NO_OPT = 6e-3\n",
        "BATCH_SIZE_NO_OPT = 32\n",
        "N_EPOCHS_NO_OPT = 400\n",
        "SCHEDULER_NAME_NO_OPT = \"ReduceLROnPlateau\"\n",
        "\n",
        "c = 1  # Speed of light (used in compute_conserved_variables and sample_primitive_variables functions)\n",
        "gamma = 5 / 3  # Adiabatic index (used in eos_analytic function)\n",
        "n_train_samples = 80000 # Number of training samples (used in generate_input_data and generate_labels functions)\n",
        "n_test_samples = 10000 # Number of test samples (used in generate_input_data and generate_labels functions)\n",
        "rho_interval = (0, 10.1) # Sampling interval for rest-mass density (used in sample_primitive_variables function)\n",
        "vx_interval = (0, 0.721 * c) # Sampling interval for velocity in x-direction (used in sample_primitive_variables function)\n",
        "epsilon_interval = (0, 2.02) # Sampling interval for specific internal energy (used in sample_primitive_variables function)\n",
        "\n",
        "np.random.seed(2) # Uncomment for pseudorandom data."
      ]
    },
    {
      "cell_type": "markdown",
      "metadata": {
        "id": "TehJEkPZQ3wa"
      },
      "source": [
        "## Generating the data"
      ]
    },
    {
      "cell_type": "code",
      "execution_count": null,
      "metadata": {
        "id": "mPfM0GjoQ3wa"
      },
      "outputs": [],
      "source": [
        "\n",
        "# Defining an analytic equation of state (EOS) for an ideal gas\n",
        "def eos_analytic(rho, epsilon):\n",
        "    \"\"\"Computes the pressure from rest-mass density and specific internal energy using an analytic EOS.\n",
        "\n",
        "    Args:\n",
        "        rho (torch.Tensor): The rest-mass density tensor of shape (n_samples,).\n",
        "        epsilon (torch.Tensor): The specific internal energy tensor of shape (n_samples,).\n",
        "\n",
        "    Returns:\n",
        "        torch.Tensor: The pressure tensor of shape (n_samples,).\n",
        "    \"\"\"\n",
        "    # Adding some assertions to check that the input tensors are valid and have the expected shape and type \n",
        "    assert isinstance(rho, torch.Tensor), \"rho must be a torch.Tensor\"\n",
        "    assert isinstance(epsilon, torch.Tensor), \"epsilon must be a torch.Tensor\"\n",
        "    assert rho.shape == epsilon.shape, \"rho and epsilon must have the same shape\"\n",
        "    assert rho.ndim == 1, \"rho and epsilon must be one-dimensional tensors\"\n",
        "    assert rho.dtype == torch.float32, \"rho and epsilon must have dtype torch.float32\"\n",
        "\n",
        "    return (gamma - 1) * rho * epsilon\n",
        "\n",
        "\n",
        "# Defining a function that samples primitive variables from uniform distributions\n",
        "def sample_primitive_variables(n_samples):\n",
        "    \"\"\"Samples primitive variables from uniform distributions.\n",
        "\n",
        "    Args:\n",
        "        n_samples (int): The number of samples to generate.\n",
        "\n",
        "    Returns:\n",
        "        tuple: A tuple of (rho, vx, epsilon), where rho is rest-mass density,\n",
        "            vx is velocity in x-direction,\n",
        "            epsilon is specific internal energy,\n",
        "            each being a numpy array of shape (n_samples,).\n",
        "    \"\"\"\n",
        "    # Sampling from uniform distributions with intervals matching Dieseldorst et al.\n",
        "    rho = np.random.uniform(*rho_interval, size=n_samples)  # Rest-mass density\n",
        "    vx = np.random.uniform(*vx_interval, size=n_samples)  # Velocity in x-direction\n",
        "    epsilon = np.random.uniform(*epsilon_interval, size=n_samples)  # Specific internal energy\n",
        "\n",
        "    # Returning the primitive variables\n",
        "    return rho, vx, epsilon\n",
        "\n",
        "\n",
        "# Defining a function that computes conserved variables from primitive variables\n",
        "def compute_conserved_variables(rho, vx, epsilon):\n",
        "    \"\"\"Computes conserved variables from primitive variables.\n",
        "\n",
        "    Args:\n",
        "        rho (torch.Tensor): The rest-mass density tensor of shape (n_samples,).\n",
        "        vx (torch.Tensor): The velocity in x-direction tensor of shape (n_samples,).\n",
        "        epsilon (torch.Tensor): The specific internal energy tensor of shape (n_samples,).\n",
        "\n",
        "    Returns:\n",
        "        tuple: A tuple of (D, Sx, tau), where D is conserved density,\n",
        "            Sx is conserved momentum in x-direction,\n",
        "            tau is conserved energy density,\n",
        "            each being a torch tensor of shape (n_samples,).\n",
        "    \"\"\"\n",
        "\n",
        "    # Computing the pressure from the primitive variables using the EOS\n",
        "    p = eos_analytic(rho, epsilon)\n",
        "    # Computing the Lorentz factor from the velocity.\n",
        "    W = 1 / torch.sqrt(1 - vx ** 2 / c ** 2)\n",
        "    # Specific enthalpy\n",
        "    h = 1 + epsilon + p / rho  \n",
        "\n",
        "    # Computing the conserved variables from the primitive variables\n",
        "    D = rho * W  # Conserved density\n",
        "    Sx = rho * h * W ** 2 * vx  # Conserved momentum in x-direction\n",
        "    tau = rho * h * W ** 2 - p - D  # Conserved energy density\n",
        "\n",
        "    # Returning the conserved variables\n",
        "    return D, Sx, tau\n",
        "\n",
        "# Defining a function that generates input data (conserved variables) from given samples of primitive variables\n",
        "def generate_input_data(rho, vx, epsilon):\n",
        "    # Converting the numpy arrays to torch tensors and moving them to the device\n",
        "    rho = torch.tensor(rho, dtype=torch.float32).to(device)\n",
        "    vx = torch.tensor(vx, dtype=torch.float32).to(device)\n",
        "    epsilon = torch.tensor(epsilon, dtype=torch.float32).to(device)\n",
        "\n",
        "    # Computing the conserved variables using the compute_conserved_variables function\n",
        "    D, Sx, tau = compute_conserved_variables(rho, vx, epsilon)\n",
        "\n",
        "    # Stacking the conserved variables into a torch tensor\n",
        "    x = torch.stack([D, Sx, tau], axis=1)\n",
        "\n",
        "    # Returning the input data tensor\n",
        "    return x\n",
        "\n",
        "# Defining a function that generates output data (labels) from given samples of primitive variables\n",
        "def generate_labels(rho, epsilon):\n",
        "    # Converting the numpy arrays to torch tensors and moving them to the device\n",
        "    rho = torch.tensor(rho, dtype=torch.float32).to(device)\n",
        "    epsilon = torch.tensor(epsilon, dtype=torch.float32).to(device)\n",
        "\n",
        "    # Computing the pressure from the primitive variables using the EOS\n",
        "    p = eos_analytic(rho, epsilon)\n",
        "\n",
        "    # Returning the output data tensor\n",
        "    return p"
      ]
    },
    {
      "cell_type": "code",
      "execution_count": null,
      "metadata": {
        "colab": {
          "base_uri": "https://localhost:8080/",
          "height": 476
        },
        "id": "kA2IRjl3Q3wc",
        "outputId": "147ef75f-a444-4315-dc39-f638dd54d966"
      },
      "outputs": [
        {
          "output_type": "display_data",
          "data": {
            "text/plain": [
              "<Figure size 800x400 with 2 Axes>"
            ],
            "image/png": "[encoded data removed]"
          },
          "metadata": {}
        },
        {
          "output_type": "stream",
          "name": "stdout",
          "text": [
            "Shape of x_train: torch.Size([80000, 3])\n",
            "Shape of y_train: torch.Size([80000])\n",
            "Shape of x_test: torch.Size([10000, 3])\n",
            "Shape of y_test: torch.Size([10000])\n"
          ]
        }
      ],
      "source": [
        "# Sampling the primitive variables using the sample_primitive_variables function\n",
        "rho_train, vx_train, epsilon_train = sample_primitive_variables(n_train_samples)\n",
        "rho_test, vx_test, epsilon_test = sample_primitive_variables(n_test_samples)\n",
        "\n",
        "# Generating the input and output data for train and test sets using the modified functions\n",
        "x_train = generate_input_data(rho_train, vx_train, epsilon_train)\n",
        "y_train = generate_labels(rho_train, epsilon_train) \n",
        "x_test = generate_input_data(rho_test, vx_test, epsilon_test) \n",
        "y_test = generate_labels(rho_test, epsilon_test) \n",
        "\n",
        "# Checking if our output is always positive by plotting a histogram of y_train and y_test tensors \n",
        "plt.figure(figsize=(8, 4))\n",
        "plt.subplot(1, 2, 1)\n",
        "plt.hist(y_train.cpu().numpy(), bins=20)\n",
        "plt.xlabel(\"y_train\")\n",
        "plt.ylabel(\"Frequency\")\n",
        "plt.subplot(1, 2, 2)\n",
        "plt.hist(y_test.cpu().numpy(), bins=20)\n",
        "plt.xlabel(\"y_test\")\n",
        "plt.ylabel(\"Frequency\")\n",
        "plt.tight_layout()\n",
        "plt.show()\n",
        "\n",
        "# Checking the shapes of the data tensors\n",
        "print(\"Shape of x_train:\", x_train.shape)\n",
        "print(\"Shape of y_train:\", y_train.shape)\n",
        "print(\"Shape of x_test:\", x_test.shape)\n",
        "print(\"Shape of y_test:\", y_test.shape)"
      ]
    },
    {
      "cell_type": "markdown",
      "metadata": {
        "id": "kz-MI7IFQ3wd"
      },
      "source": [
        "## Defining the neural network"
      ]
    },
    {
      "cell_type": "code",
      "execution_count": null,
      "metadata": {
        "id": "mUqpsbpJQ3wd"
      },
      "outputs": [],
      "source": [
        "# Defining a class for the network\n",
        "class Net(nn.Module):\n",
        "    \"\"\"A class for creating a network with a\n",
        "    variable number of hidden layers and units.\n",
        "\n",
        "    Attributes:\n",
        "        n_layers (int): The number of hidden layers in the network.\n",
        "        n_units (list): A list of integers representing the number of units in each hidden layer.\n",
        "        hidden_activation (torch.nn.Module): The activation function for the hidden layers.\n",
        "        output_activation (torch.nn.Module): The activation function for the output layer.\n",
        "        layers (torch.nn.ModuleList): A list of linear layers in the network.\n",
        "    \"\"\"\n",
        "\n",
        "    def __init__(self, n_layers, n_units, hidden_activation, output_activation):\n",
        "        \"\"\"Initializes the network with the given hyperparameters.\n",
        "\n",
        "        Args:\n",
        "            n_layers (int): The number of hidden layers in the network.\n",
        "            n_units (list): A list of integers representing the number of units in each hidden layer.\n",
        "            hidden_activation (torch.nn.Module): The activation function for the hidden layers.\n",
        "            output_activation (torch.nn.Module): The activation function for the output layer.\n",
        "        \"\"\"\n",
        "        super().__init__()\n",
        "        self.n_layers = n_layers\n",
        "        self.n_units = n_units\n",
        "        self.hidden_activation = hidden_activation\n",
        "        self.output_activation = output_activation\n",
        "\n",
        "        # Creating a list of linear layers with different numbers of units for each layer\n",
        "        self.layers = nn.ModuleList([nn.Linear(3, n_units[0])])\n",
        "        for i in range(1, n_layers):\n",
        "            self.layers.append(nn.Linear(n_units[i - 1], n_units[i]))\n",
        "        self.layers.append(nn.Linear(n_units[-1], 1))\n",
        "\n",
        "        # Adding some assertions to check that the input arguments are valid\n",
        "        assert isinstance(n_layers, int) and n_layers > 0, \"n_layers must be a positive integer\"\n",
        "        assert isinstance(n_units, list) and len(n_units) == n_layers, \"n_units must be a list of length n_layers\"\n",
        "        assert all(isinstance(n, int) and n > 0 for n in n_units), \"n_units must contain positive integers\"\n",
        "        assert isinstance(hidden_activation, nn.Module), \"hidden_activation must be a torch.nn.Module\"\n",
        "        assert isinstance(output_activation, nn.Module), \"output_activation must be a torch.nn.Module\"\n",
        "\n",
        "    def forward(self, x):\n",
        "        \"\"\"Performs a forward pass on the input tensor.\n",
        "\n",
        "        Args:\n",
        "            x (torch.Tensor): The input tensor of shape (batch_size, 3).\n",
        "\n",
        "        Returns:\n",
        "            torch.Tensor: The output tensor of shape (batch_size, 1).\n",
        "        \"\"\"\n",
        "        # Looping over the hidden layers and applying the linear transformation and the activation function\n",
        "        for layer in self.layers[:-1]:\n",
        "            x = self.hidden_activation(layer(x))\n",
        "        # Applying the linear transformation and the activation function on the output layer\n",
        "        x = self.output_activation(self.layers[-1](x))\n",
        "\n",
        "        # Returning the output tensor\n",
        "        return x"
      ]
    },
    {
      "cell_type": "markdown",
      "metadata": {
        "id": "-W2hTthkQ3we"
      },
      "source": [
        "## Defining the model and search space"
      ]
    },
    {
      "cell_type": "code",
      "execution_count": null,
      "metadata": {
        "id": "J4eYzn8NQ3we"
      },
      "outputs": [],
      "source": [
        "# Defining a function to create a trial network and optimizer\n",
        "def create_model(trial, optimize):\n",
        "    \"\"\"Creates a trial network and optimizer based on the sampled hyperparameters.\n",
        "\n",
        "    Args:\n",
        "        trial (optuna.trial.Trial): The trial object that contains the hyperparameters.\n",
        "        optimize (boolean): Whether to optimize the hyperparameters or to use predefined values.\n",
        "\n",
        "    Returns:\n",
        "        tuple: A tuple of (net, loss_fn, optimizer, batch_size, n_epochs,\n",
        "            scheduler, loss_name, optimizer_name, scheduler_name,\n",
        "            n_units, n_layers, hidden_activation, output_activation),\n",
        "            where net is the trial network,\n",
        "            loss_fn is the loss function,\n",
        "            optimizer is the optimizer,\n",
        "            batch_size is the batch size,\n",
        "            n_epochs is the number of epochs,\n",
        "            scheduler is the learning rate scheduler,\n",
        "            loss_name is the name of the loss function,\n",
        "            optimizer_name is the name of the optimizer,\n",
        "            scheduler_name is the name of the scheduler,\n",
        "            n_units is a list of integers representing\n",
        "            the number of units in each hidden layer,\n",
        "            n_layers is an integer representing the number of hidden layers in the network,\n",
        "            hidden_activation is a torch.nn.Module representing the activation function for the hidden layers,\n",
        "            output_activation is a torch.nn.Module representing the activation function for the output layer,\n",
        "            lr is the (initial) learning rate.\n",
        "    \"\"\"\n",
        "    # If optimize is True, sample the hyperparameters from the search space\n",
        "    if optimize:\n",
        "        # Sampling the hyperparameters from the search space\n",
        "        n_layers = trial.suggest_int(\"n_layers\", 1, 3)\n",
        "        n_units = [trial.suggest_int(f\"n_units_{i}\", 16, 256) for i in range(n_layers)] \n",
        "        hidden_activation_name = trial.suggest_categorical(\n",
        "            \"hidden_activation\", [\"ReLU\", \"LeakyReLU\", \"ELU\", \"Tanh\", \"Sigmoid\"]\n",
        "        )\n",
        "        output_activation_name = trial.suggest_categorical(\n",
        "            \"output_activation\", [\"Linear\", \"ReLU\"]\n",
        "        ) \n",
        "        loss_name = trial.suggest_categorical(\n",
        "            \"loss\", [\"MSE\", \"MAE\", \"Huber\", \"LogCosh\"] \n",
        "        )\n",
        "        optimizer_name = trial.suggest_categorical(\n",
        "            \"optimizer\", [\"Adam\", \"SGD\", \"RMSprop\", \"Adagrad\"] \n",
        "        )\n",
        "        lr = trial.suggest_loguniform(\"lr\", 1e-4, 1e-2) \n",
        "        batch_size = trial.suggest_int(\"batch_size\", 32, 256)\n",
        "        n_epochs = trial.suggest_int(\"n_epochs\", 50, 100) \n",
        "        scheduler_name = trial.suggest_categorical(\n",
        "            \"scheduler\",\n",
        "            [\"None\", \"CosineAnnealingLR\", \"ReduceLROnPlateau\", \"StepLR\", \"ExponentialLR\"],\n",
        "        )\n",
        "    # If optimize is False, use the predefined values\n",
        "    else:\n",
        "        # Setting the hyperparameters to the predefined values\n",
        "        n_layers = N_LAYERS_NO_OPT\n",
        "        n_units = N_UNITS_NO_OPT\n",
        "        hidden_activation_name = HIDDEN_ACTIVATION_NAME_NO_OPT\n",
        "        output_activation_name = OUTPUT_ACTIVATION_NAME_NO_OPT\n",
        "        loss_name = LOSS_NAME_NO_OPT\n",
        "        optimizer_name = OPTIMIZER_NAME_NO_OPT\n",
        "        lr = LR_NO_OPT\n",
        "        batch_size = BATCH_SIZE_NO_OPT\n",
        "        n_epochs = N_EPOCHS_NO_OPT\n",
        "        scheduler_name = SCHEDULER_NAME_NO_OPT\n",
        "\n",
        "\n",
        "    # Creating the activation functions from their names\n",
        "    if hidden_activation_name == \"ReLU\":\n",
        "        hidden_activation = nn.ReLU()\n",
        "    elif hidden_activation_name == \"LeakyReLU\":\n",
        "        hidden_activation = nn.LeakyReLU() \n",
        "    elif hidden_activation_name == \"ELU\":\n",
        "        hidden_activation = nn.ELU() \n",
        "    elif hidden_activation_name == \"Tanh\":\n",
        "        hidden_activation = nn.Tanh()\n",
        "    else:\n",
        "        hidden_activation = nn.Sigmoid()\n",
        "\n",
        "    if output_activation_name == \"ReLU\":\n",
        "        output_activation = nn.ReLU()\n",
        "    else:\n",
        "        output_activation = nn.Identity()\n",
        "\n",
        "    # Creating the loss function from its name\n",
        "    if loss_name == \"MSE\":\n",
        "        loss_fn = nn.MSELoss()\n",
        "    elif loss_name == \"MAE\":\n",
        "        loss_fn = nn.L1Loss()\n",
        "    elif loss_name == \"Huber\":\n",
        "        loss_fn = nn.SmoothL1Loss() \n",
        "    else:\n",
        "        # Creating the log-cosh loss function\n",
        "        def log_cosh_loss(y_pred, y_true):\n",
        "            return torch.mean(torch.log(torch.cosh(y_pred - y_true)))\n",
        "            \n",
        "        loss_fn = log_cosh_loss\n",
        "\n",
        "    # Creating the network with the sampled hyperparameters\n",
        "    net = Net(\n",
        "        n_layers, n_units, hidden_activation, output_activation\n",
        "    ).to(device)\n",
        "\n",
        "    # Creating the optimizer from its name\n",
        "    if optimizer_name == \"SGD\":\n",
        "        optimizer = optim.SGD(net.parameters(), lr=lr)\n",
        "    elif optimizer_name == \"Adam\":\n",
        "        optimizer = optim.Adam(net.parameters(), lr=lr)\n",
        "    elif optimizer_name == \"RMSprop\":\n",
        "        optimizer = optim.RMSprop(net.parameters(), lr=lr)\n",
        "    else:\n",
        "        # Added creating the Adagrad optimizer\n",
        "        optimizer = optim.Adagrad(net.parameters(), lr=lr)\n",
        "\n",
        "    # Creating the learning rate scheduler from its name\n",
        "    if scheduler_name == \"StepLR\":\n",
        "        scheduler = optim.lr_scheduler.StepLR(optimizer, step_size=10, gamma=0.1)\n",
        "    elif scheduler_name == \"ExponentialLR\":\n",
        "        scheduler = optim.lr_scheduler.ExponentialLR(optimizer, gamma=0.9)\n",
        "    elif scheduler_name == \"CosineAnnealingLR\":\n",
        "        # Added creating the CosineAnnealingLR scheduler\n",
        "        scheduler = optim.lr_scheduler.CosineAnnealingLR(optimizer, T_max=10)\n",
        "    elif scheduler_name == \"ReduceLROnPlateau\":\n",
        "        # Added creating the ReduceLROnPlateau scheduler\n",
        "        # Creating the ReduceLROnPlateau scheduler with a threshold value of 0.01\n",
        "        #scheduler = optim.lr_scheduler.ReduceLROnPlateau(\n",
        "        #    optimizer, mode=\"min\", factor=0.1, patience=10, threshold=0.01\n",
        "        #)\n",
        "        # Use Dieseldorst et al. settings and add to that a minimum lr.\n",
        "        scheduler = optim.lr_scheduler.ReduceLROnPlateau(\n",
        "                    optimizer, mode=\"min\", factor=0.5, patience=5, threshold=0.0005, min_lr=1e-6\n",
        "                )\n",
        "    else:\n",
        "        scheduler = None\n",
        "\n",
        "    # Returning all variables needed for saving and loading\n",
        "    return net, loss_fn, optimizer, batch_size, n_epochs, scheduler, loss_name, optimizer_name, scheduler_name, n_units, n_layers, hidden_activation, output_activation, lr\n"
      ]
    },
    {
      "cell_type": "markdown",
      "metadata": {
        "id": "lZttIOlrQ3wf"
      },
      "source": [
        " ## The training and evaluation loop\n",
        "\n",
        " We first define a couple of functions used in the training and evaluation."
      ]
    },
    {
      "cell_type": "code",
      "execution_count": null,
      "metadata": {
        "id": "EnFOx8vkQ3wf"
      },
      "outputs": [],
      "source": [
        "# Defining a function that computes loss and metrics for a given batch\n",
        "def compute_loss_and_metrics(y_pred, y_true, loss_fn):\n",
        "    \"\"\"Computes loss and metrics for a given batch.\n",
        "\n",
        "    Args:\n",
        "        y_pred (torch.Tensor): The predicted pressure tensor of shape (batch_size, 1).\n",
        "        y_true (torch.Tensor): The true pressure tensor of shape (batch_size,).\n",
        "        loss_fn (torch.nn.Module or function): The loss function to use.\n",
        "\n",
        "    Returns:\n",
        "        tuple: A tuple of (loss, l1_norm), where loss is a scalar tensor,\n",
        "            l1_norm is L1 norm for relative error of pressure,\n",
        "            each being a scalar tensor.\n",
        "            linf_norm is Linf norm for relative error of pressure.\n",
        "    \"\"\"\n",
        "    # Reshaping the target tensor to match the input tensor\n",
        "    y_true = y_true.view(-1, 1)\n",
        "\n",
        "    # Computing the loss using the loss function\n",
        "    loss = loss_fn(y_pred, y_true)\n",
        "\n",
        "    # Computing the relative error of pressure\n",
        "    rel_error = torch.abs((y_pred - y_true) / y_true)\n",
        "\n",
        "    # Computing the L1 norm for the relative error of pressure\n",
        "    l1_norm = torch.mean(rel_error) \n",
        "    # Computing the Linf norm for the relative error of pressure\n",
        "    linf_norm = torch.max(rel_error) \n",
        "\n",
        "    # Returning the loss and metrics\n",
        "    return loss, l1_norm, linf_norm\n",
        "\n",
        "\n",
        "# Defining a function that updates the learning rate scheduler with validation loss if applicable\n",
        "def update_scheduler(scheduler, test_loss):\n",
        "    \"\"\"Updates the learning rate scheduler with validation loss if applicable.\n",
        "\n",
        "    Args:\n",
        "        scheduler (torch.optim.lr_scheduler._LRScheduler or None): The learning rate scheduler to use.\n",
        "        test_loss (float): The validation loss to use.\n",
        "\n",
        "    Returns:\n",
        "        None\n",
        "    \"\"\"\n",
        "    # Checking if scheduler is not None\n",
        "    if scheduler is not None:\n",
        "        # Checking if scheduler is ReduceLROnPlateau\n",
        "        if isinstance(scheduler, optim.lr_scheduler.ReduceLROnPlateau):\n",
        "            # Updating the scheduler with test_loss\n",
        "            scheduler.step(test_loss)\n",
        "        else:\n",
        "            # Updating the scheduler without test_loss\n",
        "            scheduler.step()\n"
      ]
    },
    {
      "cell_type": "markdown",
      "metadata": {
        "id": "VFDKWU6gQ3wf"
      },
      "source": [
        "Now for the actual training and evaluation loop,"
      ]
    },
    {
      "cell_type": "code",
      "execution_count": null,
      "metadata": {
        "id": "xjQal1KlQ3wf"
      },
      "outputs": [],
      "source": [
        "# Defining a function to train and evaluate a network\n",
        "def train_and_eval(net, loss_fn, optimizer, batch_size, n_epochs, scheduler, trial=None):\n",
        "    \"\"\"Trains and evaluates a network.\n",
        "\n",
        "    Args:\n",
        "        net (torch.nn.Module): The network to train and evaluate.\n",
        "        loss_fn (torch.nn.Module or function): The loss function.\n",
        "        optimizer (torch.optim.Optimizer): The optimizer.\n",
        "        batch_size (int): The batch size.\n",
        "        n_epochs (int): The number of epochs.\n",
        "        scheduler (torch.optim.lr_scheduler._LRScheduler or None): The learning rate scheduler.\n",
        "    Returns:\n",
        "        tuple: A tuple of (train_losses, test_losses, train_metrics, test_metrics), where\n",
        "            train_losses is a list of training losses for each epoch,\n",
        "            test_losses is a list of validation losses for each epoch,\n",
        "            train_metrics is a list of dictionaries containing training metrics for each epoch,\n",
        "            test_metrics is a list of dictionaries containing validation metrics for each epoch.\n",
        "    \"\"\"\n",
        "    # Creating data loaders for train and test sets\n",
        "    train_loader = torch.utils.data.DataLoader(\n",
        "        torch.utils.data.TensorDataset(x_train, y_train), batch_size=batch_size, shuffle=True\n",
        "    )\n",
        "    test_loader = torch.utils.data.DataLoader(\n",
        "        torch.utils.data.TensorDataset(x_test, y_test), batch_size=batch_size\n",
        "    )\n",
        "\n",
        "    # Initializing lists to store the losses and metrics for each epoch\n",
        "    train_losses = []\n",
        "    test_losses = []\n",
        "    train_metrics = []\n",
        "    test_metrics = []\n",
        "\n",
        "    # Creating a SummaryWriter object to log data for tensorboard\n",
        "    writer = tbx.SummaryWriter()\n",
        "\n",
        "    # Looping over the epochs\n",
        "    for epoch in range(n_epochs):\n",
        "\n",
        "        # Setting the network to training mode\n",
        "        net.train()\n",
        "\n",
        "        # Initializing variables to store the total loss and metrics for the train set\n",
        "        train_loss = 0.0\n",
        "        train_l1_norm = 0.0\n",
        "        train_linf_norm = 0.0\n",
        "\n",
        "        # Looping over the batches in the train set\n",
        "        for x_batch, y_batch in train_loader:\n",
        "\n",
        "            # Moving the batch tensors to the device\n",
        "            x_batch = x_batch.to(device)\n",
        "            y_batch = y_batch.to(device)\n",
        "\n",
        "            # Zeroing the gradients\n",
        "            optimizer.zero_grad()\n",
        "\n",
        "            # Performing a forward pass and computing the loss and metrics\n",
        "            y_pred = net(x_batch)\n",
        "            loss, l1_norm, linf_norm = compute_loss_and_metrics(\n",
        "                y_pred, y_batch, loss_fn\n",
        "            )\n",
        "\n",
        "\n",
        "            # Performing a backward pass and updating the weights\n",
        "            loss.backward()\n",
        "            optimizer.step()\n",
        "\n",
        "            # Updating the total loss and metrics for the train set\n",
        "            train_loss += loss.item() * x_batch.size(0)\n",
        "            train_l1_norm += l1_norm.item() * x_batch.size(0)\n",
        "            train_linf_norm += linf_norm.item() * x_batch.size(0)\n",
        "\n",
        "        # Computing the average loss and metrics for the train set\n",
        "        train_loss /= len(train_loader.dataset)\n",
        "        train_l1_norm /= len(train_loader.dataset)\n",
        "        train_linf_norm /= len(train_loader.dataset)\n",
        "\n",
        "        # Appending the average loss and metrics for the train set to the lists\n",
        "        train_losses.append(train_loss)\n",
        "        train_metrics.append(\n",
        "            {\n",
        "                \"l1_norm\": train_l1_norm,\n",
        "                \"linf_norm\": train_linf_norm,\n",
        "            }\n",
        "        )\n",
        "\n",
        "        # Logging the average loss and metrics for the train set to tensorboard\n",
        "        writer.add_scalar(\"Loss/train\", train_loss, epoch)\n",
        "        writer.add_scalar(\"L1 norm/train\", train_l1_norm, epoch)\n",
        "        writer.add_scalar(\"Linf norm/train\", train_linf_norm, epoch)\n",
        "\n",
        "        # Setting the network to evaluation mode\n",
        "        net.eval()\n",
        "\n",
        "        # Initializing variables to store the total loss and metrics for the test set\n",
        "        test_loss = 0.0\n",
        "        test_l1_norm = 0.0\n",
        "        test_linf_norm = 0.0\n",
        "\n",
        "        # Looping over the batches in the test set\n",
        "        with torch.no_grad():\n",
        "            for x_batch, y_batch in test_loader:\n",
        "\n",
        "                # Moving the batch tensors to the device\n",
        "                x_batch = x_batch.to(device)\n",
        "                y_batch = y_batch.to(device)\n",
        "\n",
        "                # Performing a forward pass and computing the loss and metrics\n",
        "                y_pred = net(x_batch)\n",
        "                loss, l1_norm, linf_norm = compute_loss_and_metrics(\n",
        "                    y_pred, y_batch, loss_fn\n",
        "                )\n",
        "\n",
        "\n",
        "                # Updating the total loss and metrics for the test set\n",
        "                test_loss += loss.item() * x_batch.size(0)\n",
        "                test_l1_norm += l1_norm.item() * x_batch.size(0)\n",
        "                test_linf_norm += linf_norm.item() * x_batch.size(0)\n",
        "\n",
        "        # Computing the average loss and metrics for the test set\n",
        "        test_loss /= len(test_loader.dataset)\n",
        "        test_l1_norm /= len(test_loader.dataset)\n",
        "        test_linf_norm /= len(test_loader.dataset)\n",
        "\n",
        "        # Appending the average loss and metrics for the test set to the lists\n",
        "        test_losses.append(test_loss)\n",
        "        test_metrics.append(\n",
        "            {\n",
        "                \"l1_norm\": test_l1_norm,\n",
        "                \"linf_norm\": test_linf_norm,\n",
        "            }\n",
        "        )\n",
        "\n",
        "        # Logging the average loss and metrics for the test set to tensorboard\n",
        "        writer.add_scalar(\"Loss/test\", test_loss, epoch)\n",
        "        writer.add_scalar(\"L1 norm/test\", test_l1_norm, epoch)\n",
        "        writer.add_scalar(\"Linf norm/test\", test_linf_norm, epoch)\n",
        "\n",
        "        # Printing the average loss and metrics for both sets for this epoch\n",
        "        print(\n",
        "            f\"Epoch {epoch + 1}: Train Loss: {train_loss:.4f}, Test Loss: {test_loss:.4f}, \"\n",
        "            f\"Train L1 Norm: {train_l1_norm:.4f}, Test L1 Norm: {test_l1_norm:.4f}, \"\n",
        "            f\"Train Linf Norm: {train_linf_norm:.4f}, Test Linf Norm: {test_linf_norm:.4f}\"\n",
        "        )\n",
        "\n",
        "        # Updating the learning rate scheduler with validation loss if applicable\n",
        "        update_scheduler(scheduler, test_loss)\n",
        "\n",
        "        # Reporting the intermediate metric value to Optuna if trial is not None\n",
        "        if trial is not None:\n",
        "            trial.report(test_metrics[-1][\"l1_norm\"], epoch)\n",
        "\n",
        "            # Checking if the trial should be pruned based on the intermediate value if trial is not None\n",
        "            if trial.should_prune():\n",
        "                raise optuna.TrialPruned()\n",
        "\n",
        "    # Closing the SummaryWriter object\n",
        "    writer.close()\n",
        "\n",
        "    # Returning the losses and metrics lists\n",
        "    return train_losses, test_losses, train_metrics, test_metrics"
      ]
    },
    {
      "cell_type": "markdown",
      "metadata": {
        "id": "RI-S6kzhQ3wg"
      },
      "source": [
        "## The objective function and hyperparameter tuning"
      ]
    },
    {
      "cell_type": "code",
      "execution_count": null,
      "metadata": {
        "id": "PGmPCk9IQ3wg"
      },
      "outputs": [],
      "source": [
        "# Defining an objective function for Optuna to minimize\n",
        "def objective(trial):\n",
        "    \"\"\"Defines an objective function for Optuna to minimize.\n",
        "\n",
        "    Args:\n",
        "        trial (optuna.trial.Trial): The trial object that contains the hyperparameters.\n",
        "\n",
        "    Returns:\n",
        "        float: The validation L1 norm to minimize.\n",
        "    \"\"\"\n",
        "    # Creating a trial network and optimizer using the create_model function\n",
        "    net, \\\n",
        "    loss_fn, \\\n",
        "    optimizer, \\\n",
        "    batch_size, \\\n",
        "    n_epochs, \\\n",
        "    scheduler, \\\n",
        "    loss_name, \\\n",
        "    optimizer_name, \\\n",
        "    scheduler_name, \\\n",
        "    n_units, \\\n",
        "    n_layers, \\\n",
        "    hidden_activation, \\\n",
        "    output_activation, \\\n",
        "    lr = create_model(trial, optimize=True)\n",
        "\n",
        "    # Training and evaluating the network using the train_and_eval function\n",
        "    _, _, _, test_metrics = train_and_eval(\n",
        "        net, loss_fn, optimizer, batch_size, n_epochs, scheduler, trial\n",
        "    )\n",
        "\n",
        "    # Returning the last validation L1 norm as the objective value to minimize\n",
        "    return test_metrics[-1][\"l1_norm\"]"
      ]
    },
    {
      "cell_type": "code",
      "execution_count": null,
      "metadata": {
        "colab": {
          "base_uri": "https://localhost:8080/"
        },
        "id": "CuZwon4gQ3wg",
        "outputId": "e52722c1-b890-4537-a2a9-ebe6e04bf082"
      },
      "outputs": [
        {
          "output_type": "stream",
          "name": "stderr",
          "text": [
            "\u001b[32m[I 2023-05-13 12:59:57,198]\u001b[0m A new study created in memory with name: no-name-0a26b0b9-e16e-4aec-90f4-90cf1f99e304\u001b[0m\n",
            "<ipython-input-11-bd4fe74facdf>:46: FutureWarning: suggest_loguniform has been deprecated in v3.0.0. This feature will be removed in v6.0.0. See https://github.com/optuna/optuna/releases/tag/v3.0.0. Use :func:`~optuna.trial.Trial.suggest_float` instead.\n",
            "  lr = trial.suggest_loguniform(\"lr\", 1e-4, 1e-2)\n"
          ]
        },
        {
          "output_type": "stream",
          "name": "stdout",
          "text": [
            "Epoch 1: Train Loss: 0.8753, Test Loss: 0.1212, Train L1 Norm: 1.7944, Test L1 Norm: 0.4412, Train Linf Norm: 174.4829, Test Linf Norm: 30.3003\n",
            "Epoch 2: Train Loss: 0.3429, Test Loss: 0.1893, Train L1 Norm: 0.9073, Test L1 Norm: 0.7962, Train Linf Norm: 87.3479, Test Linf Norm: 52.8811\n",
            "Epoch 3: Train Loss: 0.1294, Test Loss: 0.0607, Train L1 Norm: 0.6551, Test L1 Norm: 0.5575, Train Linf Norm: 68.7484, Test Linf Norm: 39.0456\n",
            "Epoch 4: Train Loss: 0.0321, Test Loss: 0.0091, Train L1 Norm: 0.4261, Test L1 Norm: 0.4391, Train Linf Norm: 41.4916, Test Linf Norm: 25.4289\n",
            "Epoch 5: Train Loss: 0.0082, Test Loss: 0.0060, Train L1 Norm: 0.2797, Test L1 Norm: 0.3863, Train Linf Norm: 27.3551, Test Linf Norm: 21.2541\n",
            "Epoch 6: Train Loss: 0.0061, Test Loss: 0.0059, Train L1 Norm: 0.2279, Test L1 Norm: 0.3578, Train Linf Norm: 21.5777, Test Linf Norm: 19.1322\n",
            "Epoch 7: Train Loss: 0.0053, Test Loss: 0.0048, Train L1 Norm: 0.2264, Test L1 Norm: 0.3629, Train Linf Norm: 21.5370, Test Linf Norm: 19.4520\n",
            "Epoch 8: Train Loss: 0.0050, Test Loss: 0.0046, Train L1 Norm: 0.2383, Test L1 Norm: 0.3615, Train Linf Norm: 23.6365, Test Linf Norm: 19.9864\n",
            "Epoch 9: Train Loss: 0.0047, Test Loss: 0.0045, Train L1 Norm: 0.2436, Test L1 Norm: 0.3613, Train Linf Norm: 24.3558, Test Linf Norm: 20.3419\n",
            "Epoch 10: Train Loss: 0.0047, Test Loss: 0.0044, Train L1 Norm: 0.2455, Test L1 Norm: 0.3625, Train Linf Norm: 24.8761, Test Linf Norm: 20.4966\n",
            "Epoch 11: Train Loss: 0.0047, Test Loss: 0.0044, Train L1 Norm: 0.2463, Test L1 Norm: 0.3625, Train Linf Norm: 24.9710, Test Linf Norm: 20.4966\n",
            "Epoch 12: Train Loss: 0.0046, Test Loss: 0.0044, Train L1 Norm: 0.2464, Test L1 Norm: 0.3623, Train Linf Norm: 25.2846, Test Linf Norm: 20.5883\n",
            "Epoch 13: Train Loss: 0.0046, Test Loss: 0.0044, Train L1 Norm: 0.2497, Test L1 Norm: 0.3611, Train Linf Norm: 25.8608, Test Linf Norm: 20.8010\n",
            "Epoch 14: Train Loss: 0.0045, Test Loss: 0.0042, Train L1 Norm: 0.2561, Test L1 Norm: 0.3635, Train Linf Norm: 27.2174, Test Linf Norm: 21.6677\n",
            "Epoch 15: Train Loss: 0.0043, Test Loss: 0.0039, Train L1 Norm: 0.2653, Test L1 Norm: 0.3697, Train Linf Norm: 29.1610, Test Linf Norm: 23.1258\n",
            "Epoch 16: Train Loss: 0.0040, Test Loss: 0.0039, Train L1 Norm: 0.2707, Test L1 Norm: 0.3608, Train Linf Norm: 29.3976, Test Linf Norm: 23.8881\n",
            "Epoch 17: Train Loss: 0.0044, Test Loss: 0.0032, Train L1 Norm: 0.2851, Test L1 Norm: 0.3756, Train Linf Norm: 31.8985, Test Linf Norm: 26.2688\n",
            "Epoch 18: Train Loss: 0.0294, Test Loss: 0.0462, Train L1 Norm: 0.4007, Test L1 Norm: 0.3713, Train Linf Norm: 45.4872, Test Linf Norm: 25.7814\n",
            "Epoch 19: Train Loss: 0.0624, Test Loss: 0.0756, Train L1 Norm: 0.4841, Test L1 Norm: 0.3886, Train Linf Norm: 52.8709, Test Linf Norm: 27.6060\n",
            "Epoch 20: Train Loss: 0.0574, Test Loss: 0.0275, Train L1 Norm: 0.5038, Test L1 Norm: 0.4119, Train Linf Norm: 56.2244, Test Linf Norm: 31.1508\n",
            "Epoch 21: Train Loss: 0.0361, Test Loss: 0.0205, Train L1 Norm: 0.4827, Test L1 Norm: 0.4135, Train Linf Norm: 57.5786, Test Linf Norm: 32.0335\n",
            "Epoch 22: Train Loss: 0.0123, Test Loss: 0.0044, Train L1 Norm: 0.4017, Test L1 Norm: 0.4628, Train Linf Norm: 47.9009, Test Linf Norm: 37.6835\n",
            "Epoch 23: Train Loss: 0.0033, Test Loss: 0.0063, Train L1 Norm: 0.3910, Test L1 Norm: 0.4235, Train Linf Norm: 50.5143, Test Linf Norm: 35.3424\n",
            "Epoch 24: Train Loss: 0.0023, Test Loss: 0.0019, Train L1 Norm: 0.3834, Test L1 Norm: 0.4294, Train Linf Norm: 48.5338, Test Linf Norm: 37.1443\n",
            "Epoch 25: Train Loss: 0.0020, Test Loss: 0.0026, Train L1 Norm: 0.3858, Test L1 Norm: 0.4427, Train Linf Norm: 49.0202, Test Linf Norm: 38.0165\n",
            "Epoch 26: Train Loss: 0.0018, Test Loss: 0.0017, Train L1 Norm: 0.3873, Test L1 Norm: 0.4269, Train Linf Norm: 50.3484, Test Linf Norm: 37.2690\n",
            "Epoch 27: Train Loss: 0.0017, Test Loss: 0.0017, Train L1 Norm: 0.3859, Test L1 Norm: 0.4257, Train Linf Norm: 49.7817, Test Linf Norm: 37.2539\n",
            "Epoch 28: Train Loss: 0.0017, Test Loss: 0.0016, Train L1 Norm: 0.3846, Test L1 Norm: 0.4255, Train Linf Norm: 49.1855, Test Linf Norm: 37.2762\n",
            "Epoch 29: Train Loss: 0.0017, Test Loss: 0.0016, Train L1 Norm: 0.3842, Test L1 Norm: 0.4254, Train Linf Norm: 49.3035, Test Linf Norm: 37.3518\n",
            "Epoch 30: Train Loss: 0.0017, Test Loss: 0.0016, Train L1 Norm: 0.3844, Test L1 Norm: 0.4248, Train Linf Norm: 49.1371, Test Linf Norm: 37.3087\n",
            "Epoch 31: Train Loss: 0.0017, Test Loss: 0.0016, Train L1 Norm: 0.3842, Test L1 Norm: 0.4248, Train Linf Norm: 49.8302, Test Linf Norm: 37.3087\n",
            "Epoch 32: Train Loss: 0.0017, Test Loss: 0.0016, Train L1 Norm: 0.3846, Test L1 Norm: 0.4249, Train Linf Norm: 49.2695, Test Linf Norm: 37.3280\n",
            "Epoch 33: Train Loss: 0.0016, Test Loss: 0.0016, Train L1 Norm: 0.3841, Test L1 Norm: 0.4222, Train Linf Norm: 49.5184, Test Linf Norm: 37.1931\n",
            "Epoch 34: Train Loss: 0.0016, Test Loss: 0.0016, Train L1 Norm: 0.3836, Test L1 Norm: 0.4227, Train Linf Norm: 44.9943, Test Linf Norm: 37.2625\n",
            "Epoch 35: Train Loss: 0.0016, Test Loss: 0.0015, Train L1 Norm: 0.3831, Test L1 Norm: 0.4227, Train Linf Norm: 49.4938, Test Linf Norm: 37.2636\n",
            "Epoch 36: Train Loss: 0.0016, Test Loss: 0.0015, Train L1 Norm: 0.3828, Test L1 Norm: 0.4202, Train Linf Norm: 49.1526, Test Linf Norm: 37.2322\n",
            "Epoch 37: Train Loss: 0.0015, Test Loss: 0.0014, Train L1 Norm: 0.3782, Test L1 Norm: 0.4127, Train Linf Norm: 49.3972, Test Linf Norm: 36.9787\n",
            "Epoch 38: Train Loss: 0.0015, Test Loss: 0.0013, Train L1 Norm: 0.3748, Test L1 Norm: 0.4085, Train Linf Norm: 48.5821, Test Linf Norm: 36.6674\n",
            "Epoch 39: Train Loss: 0.0029, Test Loss: 0.0027, Train L1 Norm: 0.3758, Test L1 Norm: 0.4240, Train Linf Norm: 48.6134, Test Linf Norm: 37.4155\n",
            "Epoch 40: Train Loss: 0.0123, Test Loss: 0.0107, Train L1 Norm: 0.4121, Test L1 Norm: 0.3892, Train Linf Norm: 50.9621, Test Linf Norm: 33.8499\n",
            "Epoch 41: Train Loss: 0.0139, Test Loss: 0.0027, Train L1 Norm: 0.4168, Test L1 Norm: 0.4259, Train Linf Norm: 50.5707, Test Linf Norm: 37.5684\n",
            "Epoch 42: Train Loss: 0.0045, Test Loss: 0.0018, Train L1 Norm: 0.3858, Test L1 Norm: 0.3774, Train Linf Norm: 48.8781, Test Linf Norm: 34.7082\n",
            "Epoch 43: Train Loss: 0.0016, Test Loss: 0.0142, Train L1 Norm: 0.3622, Test L1 Norm: 0.4568, Train Linf Norm: 47.1533, Test Linf Norm: 38.1603\n",
            "Epoch 44: Train Loss: 0.0012, Test Loss: 0.0012, Train L1 Norm: 0.3531, Test L1 Norm: 0.3681, Train Linf Norm: 46.4416, Test Linf Norm: 34.0856\n",
            "Epoch 45: Train Loss: 0.0011, Test Loss: 0.0010, Train L1 Norm: 0.3481, Test L1 Norm: 0.3697, Train Linf Norm: 46.2136, Test Linf Norm: 34.0740\n",
            "Epoch 46: Train Loss: 0.0010, Test Loss: 0.0010, Train L1 Norm: 0.3427, Test L1 Norm: 0.3655, Train Linf Norm: 45.0062, Test Linf Norm: 33.7333\n",
            "Epoch 47: Train Loss: 0.0010, Test Loss: 0.0009, Train L1 Norm: 0.3414, Test L1 Norm: 0.3650, Train Linf Norm: 45.3026, Test Linf Norm: 33.6936\n",
            "Epoch 48: Train Loss: 0.0010, Test Loss: 0.0009, Train L1 Norm: 0.3391, Test L1 Norm: 0.3635, Train Linf Norm: 44.5101, Test Linf Norm: 33.4982\n",
            "Epoch 49: Train Loss: 0.0010, Test Loss: 0.0009, Train L1 Norm: 0.3387, Test L1 Norm: 0.3632, Train Linf Norm: 45.4303, Test Linf Norm: 33.4589\n",
            "Epoch 50: Train Loss: 0.0010, Test Loss: 0.0009, Train L1 Norm: 0.3382, Test L1 Norm: 0.3614, Train Linf Norm: 44.2024, Test Linf Norm: 33.3675\n",
            "Epoch 51: Train Loss: 0.0009, Test Loss: 0.0009, Train L1 Norm: 0.3379, Test L1 Norm: 0.3614, Train Linf Norm: 44.2225, Test Linf Norm: 33.3675\n",
            "Epoch 52: Train Loss: 0.0009, Test Loss: 0.0009, Train L1 Norm: 0.3379, Test L1 Norm: 0.3611, Train Linf Norm: 44.7103, Test Linf Norm: 33.3578\n",
            "Epoch 53: Train Loss: 0.0009, Test Loss: 0.0009, Train L1 Norm: 0.3373, Test L1 Norm: 0.3611, Train Linf Norm: 43.7337, Test Linf Norm: 33.3488\n",
            "Epoch 54: Train Loss: 0.0009, Test Loss: 0.0009, Train L1 Norm: 0.3369, Test L1 Norm: 0.3598, Train Linf Norm: 44.1018, Test Linf Norm: 33.2483\n",
            "Epoch 55: Train Loss: 0.0009, Test Loss: 0.0009, Train L1 Norm: 0.3355, Test L1 Norm: 0.3534, Train Linf Norm: 43.8451, Test Linf Norm: 32.8084\n",
            "Epoch 56: Train Loss: 0.0009, Test Loss: 0.0009, Train L1 Norm: 0.3335, Test L1 Norm: 0.3506, Train Linf Norm: 44.0223, Test Linf Norm: 32.5107\n",
            "Epoch 57: Train Loss: 0.0009, Test Loss: 0.0009, Train L1 Norm: 0.3289, Test L1 Norm: 0.3439, Train Linf Norm: 43.1350, Test Linf Norm: 32.0346\n",
            "Epoch 58: Train Loss: 0.0010, Test Loss: 0.0008, Train L1 Norm: 0.3266, Test L1 Norm: 0.3432, Train Linf Norm: 43.6542, Test Linf Norm: 31.9337\n",
            "Epoch 59: Train Loss: 0.0011, Test Loss: 0.0008, Train L1 Norm: 0.3209, Test L1 Norm: 0.3355, Train Linf Norm: 42.1271, Test Linf Norm: 31.2644\n",
            "Epoch 60: Train Loss: 0.0038, Test Loss: 0.0008, Train L1 Norm: 0.3324, Test L1 Norm: 0.3242, Train Linf Norm: 42.0080, Test Linf Norm: 30.5881\n",
            "Epoch 61: Train Loss: 0.0092, Test Loss: 0.0009, Train L1 Norm: 0.3565, Test L1 Norm: 0.3317, Train Linf Norm: 44.0904, Test Linf Norm: 30.6935\n",
            "Epoch 62: Train Loss: 0.0012, Test Loss: 0.0083, Train L1 Norm: 0.3070, Test L1 Norm: 0.3121, Train Linf Norm: 39.9708, Test Linf Norm: 27.7819\n",
            "Epoch 63: Train Loss: 0.0009, Test Loss: 0.0008, Train L1 Norm: 0.2982, Test L1 Norm: 0.3126, Train Linf Norm: 38.8253, Test Linf Norm: 29.3005\n",
            "Epoch 64: Train Loss: 0.0007, Test Loss: 0.0007, Train L1 Norm: 0.2939, Test L1 Norm: 0.3115, Train Linf Norm: 38.8142, Test Linf Norm: 29.0199\n",
            "Epoch 65: Train Loss: 0.0007, Test Loss: 0.0006, Train L1 Norm: 0.2898, Test L1 Norm: 0.3036, Train Linf Norm: 37.4722, Test Linf Norm: 28.5733\n",
            "Epoch 66: Train Loss: 0.0007, Test Loss: 0.0006, Train L1 Norm: 0.2867, Test L1 Norm: 0.3026, Train Linf Norm: 37.8397, Test Linf Norm: 28.4122\n",
            "Epoch 67: Train Loss: 0.0006, Test Loss: 0.0006, Train L1 Norm: 0.2849, Test L1 Norm: 0.2980, Train Linf Norm: 37.2973, Test Linf Norm: 28.1130\n",
            "Epoch 68: Train Loss: 0.0006, Test Loss: 0.0006, Train L1 Norm: 0.2843, Test L1 Norm: 0.2999, Train Linf Norm: 35.8706, Test Linf Norm: 28.1333\n",
            "Epoch 69: Train Loss: 0.0006, Test Loss: 0.0006, Train L1 Norm: 0.2826, Test L1 Norm: 0.3000, Train Linf Norm: 37.5923, Test Linf Norm: 28.1221\n",
            "Epoch 70: Train Loss: 0.0006, Test Loss: 0.0006, Train L1 Norm: 0.2827, Test L1 Norm: 0.2997, Train Linf Norm: 37.4377, Test Linf Norm: 28.0851\n",
            "Epoch 71: Train Loss: 0.0006, Test Loss: 0.0006, Train L1 Norm: 0.2827, Test L1 Norm: 0.2997, Train Linf Norm: 37.2087, Test Linf Norm: 28.0851\n",
            "Epoch 72: Train Loss: 0.0006, Test Loss: 0.0006, Train L1 Norm: 0.2825, Test L1 Norm: 0.2995, Train Linf Norm: 37.3361, Test Linf Norm: 28.0737\n",
            "Epoch 73: Train Loss: 0.0006, Test Loss: 0.0006, Train L1 Norm: 0.2826, Test L1 Norm: 0.2983, Train Linf Norm: 37.3553, Test Linf Norm: 28.0106\n",
            "Epoch 74: Train Loss: 0.0006, Test Loss: 0.0006, Train L1 Norm: 0.2817, Test L1 Norm: 0.2965, Train Linf Norm: 37.3788, Test Linf Norm: 27.8818\n",
            "Epoch 75: Train Loss: 0.0006, Test Loss: 0.0006, Train L1 Norm: 0.2801, Test L1 Norm: 0.2941, Train Linf Norm: 36.7224, Test Linf Norm: 27.6816\n",
            "Epoch 76: Train Loss: 0.0006, Test Loss: 0.0006, Train L1 Norm: 0.2780, Test L1 Norm: 0.2926, Train Linf Norm: 36.4242, Test Linf Norm: 27.5131\n",
            "Epoch 77: Train Loss: 0.0006, Test Loss: 0.0006, Train L1 Norm: 0.2757, Test L1 Norm: 0.2878, Train Linf Norm: 36.2671, Test Linf Norm: 27.1679\n",
            "Epoch 78: Train Loss: 0.0006, Test Loss: 0.0006, Train L1 Norm: 0.2713, Test L1 Norm: 0.2796, Train Linf Norm: 35.1059, Test Linf Norm: 26.4227\n",
            "Epoch 79: Train Loss: 0.0007, Test Loss: 0.0005, Train L1 Norm: 0.2727, Test L1 Norm: 0.2813, Train Linf Norm: 35.9657, Test Linf Norm: 26.3450\n",
            "Epoch 80: Train Loss: 0.0033, Test Loss: 0.0005, Train L1 Norm: 0.2885, Test L1 Norm: 0.2810, Train Linf Norm: 37.2071, Test Linf Norm: 26.1847\n",
            "Epoch 81: Train Loss: 0.0060, Test Loss: 0.0026, Train L1 Norm: 0.2965, Test L1 Norm: 0.3071, Train Linf Norm: 36.9751, Test Linf Norm: 27.1826\n",
            "Epoch 82: Train Loss: 0.0018, Test Loss: 0.0014, Train L1 Norm: 0.2621, Test L1 Norm: 0.2615, Train Linf Norm: 33.7310, Test Linf Norm: 24.4438\n"
          ]
        },
        {
          "output_type": "stream",
          "name": "stderr",
          "text": [
            "\u001b[32m[I 2023-05-13 13:01:54,876]\u001b[0m Trial 0 finished with value: 0.2666031016021967 and parameters: {'n_layers': 1, 'n_units_0': 116, 'hidden_activation': 'ELU', 'output_activation': 'Linear', 'loss': 'LogCosh', 'optimizer': 'SGD', 'lr': 0.003377330990564352, 'batch_size': 178, 'n_epochs': 83, 'scheduler': 'CosineAnnealingLR'}. Best is trial 0 with value: 0.2666031016021967.\u001b[0m\n"
          ]
        },
        {
          "output_type": "stream",
          "name": "stdout",
          "text": [
            "Epoch 83: Train Loss: 0.0006, Test Loss: 0.0005, Train L1 Norm: 0.2547, Test L1 Norm: 0.2666, Train Linf Norm: 33.1871, Test Linf Norm: 24.8669\n",
            "Epoch 1: Train Loss: 0.1285, Test Loss: 0.0281, Train L1 Norm: 0.2789, Test L1 Norm: 0.0959, Train Linf Norm: 25.5395, Test Linf Norm: 8.2524\n",
            "Epoch 2: Train Loss: 0.0431, Test Loss: 0.0328, Train L1 Norm: 0.0732, Test L1 Norm: 0.0384, Train Linf Norm: 6.3384, Test Linf Norm: 2.4796\n",
            "Epoch 3: Train Loss: 0.0356, Test Loss: 0.0120, Train L1 Norm: 0.0705, Test L1 Norm: 0.0325, Train Linf Norm: 6.6854, Test Linf Norm: 2.0749\n",
            "Epoch 4: Train Loss: 0.0327, Test Loss: 0.0577, Train L1 Norm: 0.0607, Test L1 Norm: 0.0932, Train Linf Norm: 5.6556, Test Linf Norm: 6.5428\n",
            "Epoch 5: Train Loss: 0.0304, Test Loss: 0.0289, Train L1 Norm: 0.0546, Test L1 Norm: 0.0493, Train Linf Norm: 5.0432, Test Linf Norm: 2.7999\n",
            "Epoch 6: Train Loss: 0.0302, Test Loss: 0.0398, Train L1 Norm: 0.0550, Test L1 Norm: 0.1029, Train Linf Norm: 5.2726, Test Linf Norm: 7.5701\n",
            "Epoch 7: Train Loss: 0.0290, Test Loss: 0.0203, Train L1 Norm: 0.0501, Test L1 Norm: 0.0413, Train Linf Norm: 4.5252, Test Linf Norm: 3.1114\n",
            "Epoch 8: Train Loss: 0.0286, Test Loss: 0.0186, Train L1 Norm: 0.0444, Test L1 Norm: 0.0300, Train Linf Norm: 3.7617, Test Linf Norm: 2.3597\n",
            "Epoch 9: Train Loss: 0.0287, Test Loss: 0.0430, Train L1 Norm: 0.0548, Test L1 Norm: 0.0549, Train Linf Norm: 5.3655, Test Linf Norm: 3.4352\n",
            "Epoch 10: Train Loss: 0.0281, Test Loss: 0.0101, Train L1 Norm: 0.0462, Test L1 Norm: 0.0335, Train Linf Norm: 3.9861, Test Linf Norm: 2.7689\n",
            "Epoch 11: Train Loss: 0.0285, Test Loss: 0.0149, Train L1 Norm: 0.0372, Test L1 Norm: 0.0211, Train Linf Norm: 2.9763, Test Linf Norm: 1.3967\n",
            "Epoch 12: Train Loss: 0.0288, Test Loss: 0.0113, Train L1 Norm: 0.0441, Test L1 Norm: 0.0225, Train Linf Norm: 3.5679, Test Linf Norm: 1.2535\n",
            "Epoch 13: Train Loss: 0.0248, Test Loss: 0.0489, Train L1 Norm: 0.0434, Test L1 Norm: 0.0550, Train Linf Norm: 3.8880, Test Linf Norm: 3.9386\n",
            "Epoch 14: Train Loss: 0.0252, Test Loss: 0.0146, Train L1 Norm: 0.0399, Test L1 Norm: 0.0302, Train Linf Norm: 3.5408, Test Linf Norm: 2.1889\n",
            "Epoch 15: Train Loss: 0.0257, Test Loss: 0.0112, Train L1 Norm: 0.0445, Test L1 Norm: 0.0412, Train Linf Norm: 4.1569, Test Linf Norm: 3.4734\n",
            "Epoch 16: Train Loss: 0.0226, Test Loss: 0.0280, Train L1 Norm: 0.0411, Test L1 Norm: 0.0242, Train Linf Norm: 3.8329, Test Linf Norm: 1.4134\n",
            "Epoch 17: Train Loss: 0.0248, Test Loss: 0.0302, Train L1 Norm: 0.0428, Test L1 Norm: 0.0577, Train Linf Norm: 3.7564, Test Linf Norm: 4.3712\n",
            "Epoch 18: Train Loss: 0.0267, Test Loss: 0.0172, Train L1 Norm: 0.0396, Test L1 Norm: 0.0166, Train Linf Norm: 3.4638, Test Linf Norm: 0.9185\n",
            "Epoch 19: Train Loss: 0.0236, Test Loss: 0.0089, Train L1 Norm: 0.0384, Test L1 Norm: 0.0182, Train Linf Norm: 3.5263, Test Linf Norm: 1.3342\n",
            "Epoch 20: Train Loss: 0.0212, Test Loss: 0.0080, Train L1 Norm: 0.0339, Test L1 Norm: 0.0311, Train Linf Norm: 2.9822, Test Linf Norm: 2.5987\n",
            "Epoch 21: Train Loss: 0.0213, Test Loss: 0.0270, Train L1 Norm: 0.0382, Test L1 Norm: 0.0259, Train Linf Norm: 3.6267, Test Linf Norm: 1.4232\n",
            "Epoch 22: Train Loss: 0.0188, Test Loss: 0.0122, Train L1 Norm: 0.0294, Test L1 Norm: 0.0154, Train Linf Norm: 2.4820, Test Linf Norm: 0.8975\n",
            "Epoch 23: Train Loss: 0.0230, Test Loss: 0.0277, Train L1 Norm: 0.0418, Test L1 Norm: 0.0322, Train Linf Norm: 4.0300, Test Linf Norm: 2.1085\n",
            "Epoch 24: Train Loss: 0.0186, Test Loss: 0.0229, Train L1 Norm: 0.0296, Test L1 Norm: 0.0241, Train Linf Norm: 2.4394, Test Linf Norm: 1.2697\n",
            "Epoch 25: Train Loss: 0.0228, Test Loss: 0.0285, Train L1 Norm: 0.0384, Test L1 Norm: 0.0354, Train Linf Norm: 3.5923, Test Linf Norm: 1.3803\n",
            "Epoch 26: Train Loss: 0.0209, Test Loss: 0.0122, Train L1 Norm: 0.0334, Test L1 Norm: 0.0182, Train Linf Norm: 2.9606, Test Linf Norm: 0.9785\n",
            "Epoch 27: Train Loss: 0.0202, Test Loss: 0.0312, Train L1 Norm: 0.0351, Test L1 Norm: 0.0255, Train Linf Norm: 3.2322, Test Linf Norm: 1.2971\n",
            "Epoch 28: Train Loss: 0.0218, Test Loss: 0.0161, Train L1 Norm: 0.0296, Test L1 Norm: 0.0340, Train Linf Norm: 2.3519, Test Linf Norm: 2.4778\n",
            "Epoch 29: Train Loss: 0.0177, Test Loss: 0.0068, Train L1 Norm: 0.0292, Test L1 Norm: 0.0178, Train Linf Norm: 2.5733, Test Linf Norm: 1.3869\n",
            "Epoch 30: Train Loss: 0.0213, Test Loss: 0.0092, Train L1 Norm: 0.0341, Test L1 Norm: 0.0450, Train Linf Norm: 3.0847, Test Linf Norm: 3.6538\n",
            "Epoch 31: Train Loss: 0.0188, Test Loss: 0.0153, Train L1 Norm: 0.0258, Test L1 Norm: 0.0266, Train Linf Norm: 2.0401, Test Linf Norm: 1.8046\n",
            "Epoch 32: Train Loss: 0.0174, Test Loss: 0.0114, Train L1 Norm: 0.0273, Test L1 Norm: 0.0232, Train Linf Norm: 2.3608, Test Linf Norm: 1.6471\n",
            "Epoch 33: Train Loss: 0.0190, Test Loss: 0.0262, Train L1 Norm: 0.0300, Test L1 Norm: 0.0310, Train Linf Norm: 2.6418, Test Linf Norm: 1.8508\n",
            "Epoch 34: Train Loss: 0.0176, Test Loss: 0.0225, Train L1 Norm: 0.0292, Test L1 Norm: 0.0342, Train Linf Norm: 2.6584, Test Linf Norm: 2.4750\n",
            "Epoch 35: Train Loss: 0.0215, Test Loss: 0.0496, Train L1 Norm: 0.0336, Test L1 Norm: 0.0349, Train Linf Norm: 2.9559, Test Linf Norm: 1.0122\n",
            "Epoch 36: Train Loss: 0.0190, Test Loss: 0.0079, Train L1 Norm: 0.0314, Test L1 Norm: 0.0300, Train Linf Norm: 2.9027, Test Linf Norm: 2.2724\n",
            "Epoch 37: Train Loss: 0.0185, Test Loss: 0.0267, Train L1 Norm: 0.0281, Test L1 Norm: 0.0263, Train Linf Norm: 2.4215, Test Linf Norm: 1.3692\n",
            "Epoch 38: Train Loss: 0.0184, Test Loss: 0.0444, Train L1 Norm: 0.0298, Test L1 Norm: 0.0529, Train Linf Norm: 2.5963, Test Linf Norm: 3.1860\n",
            "Epoch 39: Train Loss: 0.0176, Test Loss: 0.0104, Train L1 Norm: 0.0267, Test L1 Norm: 0.0246, Train Linf Norm: 2.2844, Test Linf Norm: 1.9046\n",
            "Epoch 40: Train Loss: 0.0150, Test Loss: 0.0161, Train L1 Norm: 0.0271, Test L1 Norm: 0.0398, Train Linf Norm: 2.5250, Test Linf Norm: 2.3482\n",
            "Epoch 41: Train Loss: 0.0166, Test Loss: 0.0180, Train L1 Norm: 0.0282, Test L1 Norm: 0.0303, Train Linf Norm: 2.5315, Test Linf Norm: 2.3222\n",
            "Epoch 42: Train Loss: 0.0193, Test Loss: 0.0215, Train L1 Norm: 0.0289, Test L1 Norm: 0.0298, Train Linf Norm: 2.5014, Test Linf Norm: 1.9429\n",
            "Epoch 43: Train Loss: 0.0179, Test Loss: 0.0260, Train L1 Norm: 0.0273, Test L1 Norm: 0.0239, Train Linf Norm: 2.3361, Test Linf Norm: 1.2015\n",
            "Epoch 44: Train Loss: 0.0186, Test Loss: 0.0425, Train L1 Norm: 0.0287, Test L1 Norm: 0.0814, Train Linf Norm: 2.4752, Test Linf Norm: 5.4120\n",
            "Epoch 45: Train Loss: 0.0168, Test Loss: 0.0210, Train L1 Norm: 0.0252, Test L1 Norm: 0.0510, Train Linf Norm: 2.1036, Test Linf Norm: 3.8185\n",
            "Epoch 46: Train Loss: 0.0171, Test Loss: 0.0226, Train L1 Norm: 0.0255, Test L1 Norm: 0.0256, Train Linf Norm: 2.1991, Test Linf Norm: 1.3379\n",
            "Epoch 47: Train Loss: 0.0188, Test Loss: 0.0242, Train L1 Norm: 0.0258, Test L1 Norm: 0.0263, Train Linf Norm: 2.0851, Test Linf Norm: 1.5792\n",
            "Epoch 48: Train Loss: 0.0186, Test Loss: 0.0054, Train L1 Norm: 0.0288, Test L1 Norm: 0.0285, Train Linf Norm: 2.3832, Test Linf Norm: 2.4069\n",
            "Epoch 49: Train Loss: 0.0138, Test Loss: 0.0178, Train L1 Norm: 0.0202, Test L1 Norm: 0.0208, Train Linf Norm: 1.5668, Test Linf Norm: 1.3727\n",
            "Epoch 50: Train Loss: 0.0181, Test Loss: 0.0412, Train L1 Norm: 0.0252, Test L1 Norm: 0.0619, Train Linf Norm: 2.0504, Test Linf Norm: 4.2300\n",
            "Epoch 51: Train Loss: 0.0157, Test Loss: 0.0241, Train L1 Norm: 0.0250, Test L1 Norm: 0.0292, Train Linf Norm: 2.1781, Test Linf Norm: 2.0665\n",
            "Epoch 52: Train Loss: 0.0180, Test Loss: 0.0254, Train L1 Norm: 0.0283, Test L1 Norm: 0.0228, Train Linf Norm: 2.4863, Test Linf Norm: 1.2554\n",
            "Epoch 53: Train Loss: 0.0149, Test Loss: 0.0073, Train L1 Norm: 0.0246, Test L1 Norm: 0.0177, Train Linf Norm: 2.1771, Test Linf Norm: 1.2341\n",
            "Epoch 54: Train Loss: 0.0154, Test Loss: 0.0190, Train L1 Norm: 0.0215, Test L1 Norm: 0.0163, Train Linf Norm: 1.7570, Test Linf Norm: 0.9159\n",
            "Epoch 55: Train Loss: 0.0158, Test Loss: 0.0382, Train L1 Norm: 0.0254, Test L1 Norm: 0.0249, Train Linf Norm: 2.2531, Test Linf Norm: 1.2638\n",
            "Epoch 56: Train Loss: 0.0147, Test Loss: 0.0147, Train L1 Norm: 0.0225, Test L1 Norm: 0.0171, Train Linf Norm: 1.9590, Test Linf Norm: 1.0766\n",
            "Epoch 57: Train Loss: 0.0170, Test Loss: 0.0106, Train L1 Norm: 0.0296, Test L1 Norm: 0.0160, Train Linf Norm: 2.6650, Test Linf Norm: 1.0230\n",
            "Epoch 58: Train Loss: 0.0168, Test Loss: 0.0135, Train L1 Norm: 0.0243, Test L1 Norm: 0.0164, Train Linf Norm: 2.0020, Test Linf Norm: 0.9737\n",
            "Epoch 59: Train Loss: 0.0151, Test Loss: 0.0164, Train L1 Norm: 0.0280, Test L1 Norm: 0.0251, Train Linf Norm: 2.6798, Test Linf Norm: 1.7217\n",
            "Epoch 60: Train Loss: 0.0163, Test Loss: 0.0499, Train L1 Norm: 0.0259, Test L1 Norm: 0.0628, Train Linf Norm: 2.2914, Test Linf Norm: 3.4972\n",
            "Epoch 61: Train Loss: 0.0160, Test Loss: 0.0100, Train L1 Norm: 0.0258, Test L1 Norm: 0.0285, Train Linf Norm: 2.3507, Test Linf Norm: 2.2381\n",
            "Epoch 62: Train Loss: 0.0159, Test Loss: 0.0079, Train L1 Norm: 0.0235, Test L1 Norm: 0.0118, Train Linf Norm: 1.9473, Test Linf Norm: 0.7026\n",
            "Epoch 63: Train Loss: 0.0146, Test Loss: 0.0173, Train L1 Norm: 0.0222, Test L1 Norm: 0.0249, Train Linf Norm: 1.8918, Test Linf Norm: 1.3183\n",
            "Epoch 64: Train Loss: 0.0139, Test Loss: 0.0181, Train L1 Norm: 0.0198, Test L1 Norm: 0.0174, Train Linf Norm: 1.4934, Test Linf Norm: 0.9077\n",
            "Epoch 65: Train Loss: 0.0128, Test Loss: 0.0137, Train L1 Norm: 0.0200, Test L1 Norm: 0.0277, Train Linf Norm: 1.7123, Test Linf Norm: 1.7516\n",
            "Epoch 66: Train Loss: 0.0156, Test Loss: 0.0159, Train L1 Norm: 0.0244, Test L1 Norm: 0.0371, Train Linf Norm: 2.1596, Test Linf Norm: 2.7659\n",
            "Epoch 67: Train Loss: 0.0146, Test Loss: 0.0087, Train L1 Norm: 0.0217, Test L1 Norm: 0.0093, Train Linf Norm: 1.8567, Test Linf Norm: 0.4799\n",
            "Epoch 68: Train Loss: 0.0153, Test Loss: 0.0225, Train L1 Norm: 0.0227, Test L1 Norm: 0.0294, Train Linf Norm: 1.9230, Test Linf Norm: 1.9499\n",
            "Epoch 69: Train Loss: 0.0138, Test Loss: 0.0296, Train L1 Norm: 0.0213, Test L1 Norm: 0.0224, Train Linf Norm: 1.8335, Test Linf Norm: 0.9291\n",
            "Epoch 70: Train Loss: 0.0129, Test Loss: 0.0087, Train L1 Norm: 0.0219, Test L1 Norm: 0.0209, Train Linf Norm: 1.9695, Test Linf Norm: 1.7372\n"
          ]
        },
        {
          "output_type": "stream",
          "name": "stderr",
          "text": [
            "\u001b[32m[I 2023-05-13 13:03:59,081]\u001b[0m Trial 1 finished with value: 0.012162298429012298 and parameters: {'n_layers': 3, 'n_units_0': 69, 'n_units_1': 185, 'n_units_2': 123, 'hidden_activation': 'ReLU', 'output_activation': 'Linear', 'loss': 'MAE', 'optimizer': 'Adam', 'lr': 0.0008636066951271179, 'batch_size': 148, 'n_epochs': 71, 'scheduler': 'None'}. Best is trial 1 with value: 0.012162298429012298.\u001b[0m\n"
          ]
        },
        {
          "output_type": "stream",
          "name": "stdout",
          "text": [
            "Epoch 71: Train Loss: 0.0173, Test Loss: 0.0105, Train L1 Norm: 0.0246, Test L1 Norm: 0.0122, Train Linf Norm: 2.0320, Test Linf Norm: 0.7859\n",
            "Epoch 1: Train Loss: 0.2600, Test Loss: 0.0384, Train L1 Norm: 0.3952, Test L1 Norm: 0.2009, Train Linf Norm: 9.7175, Test Linf Norm: 3.7135\n",
            "Epoch 2: Train Loss: 0.1226, Test Loss: 0.0344, Train L1 Norm: 0.2983, Test L1 Norm: 0.1608, Train Linf Norm: 8.1090, Test Linf Norm: 1.0000\n",
            "Epoch 3: Train Loss: 0.0993, Test Loss: 0.0256, Train L1 Norm: 0.2325, Test L1 Norm: 0.1572, Train Linf Norm: 3.1624, Test Linf Norm: 1.8703\n",
            "Epoch 4: Train Loss: 0.0894, Test Loss: 0.0900, Train L1 Norm: 0.2769, Test L1 Norm: 0.1913, Train Linf Norm: 8.3358, Test Linf Norm: 1.0000\n",
            "Epoch 5: Train Loss: 0.0806, Test Loss: 0.0452, Train L1 Norm: 0.2123, Test L1 Norm: 0.2455, Train Linf Norm: 1.6561, Test Linf Norm: 1.0000\n",
            "Epoch 6: Train Loss: 0.0758, Test Loss: 0.0645, Train L1 Norm: 0.2281, Test L1 Norm: 0.1935, Train Linf Norm: 3.6720, Test Linf Norm: 1.0791\n",
            "Epoch 7: Train Loss: 0.0690, Test Loss: 0.0625, Train L1 Norm: 0.3834, Test L1 Norm: 0.3378, Train Linf Norm: 21.3103, Test Linf Norm: 21.2876\n",
            "Epoch 8: Train Loss: 0.0644, Test Loss: 0.1842, Train L1 Norm: 0.2141, Test L1 Norm: 0.5826, Train Linf Norm: 3.8758, Test Linf Norm: 28.8462\n",
            "Epoch 9: Train Loss: 0.0604, Test Loss: 0.0397, Train L1 Norm: 0.2008, Test L1 Norm: 0.1699, Train Linf Norm: 1.6328, Test Linf Norm: 2.0462\n",
            "Epoch 10: Train Loss: 0.0581, Test Loss: 0.0303, Train L1 Norm: 0.2126, Test L1 Norm: 0.1565, Train Linf Norm: 3.6944, Test Linf Norm: 1.0062\n",
            "Epoch 11: Train Loss: 0.0554, Test Loss: 0.0234, Train L1 Norm: 0.1890, Test L1 Norm: 0.1481, Train Linf Norm: 1.4827, Test Linf Norm: 1.1029\n",
            "Epoch 12: Train Loss: 0.0522, Test Loss: 0.0637, Train L1 Norm: 0.1877, Test L1 Norm: 0.2474, Train Linf Norm: 1.8632, Test Linf Norm: 1.0000\n",
            "Epoch 13: Train Loss: 0.0526, Test Loss: 0.2952, Train L1 Norm: 0.1879, Test L1 Norm: 0.2228, Train Linf Norm: 1.5550, Test Linf Norm: 1.0291\n",
            "Epoch 14: Train Loss: 0.0512, Test Loss: 0.0756, Train L1 Norm: 0.1842, Test L1 Norm: 0.2234, Train Linf Norm: 1.5102, Test Linf Norm: 1.0000\n",
            "Epoch 15: Train Loss: 0.0479, Test Loss: 0.0203, Train L1 Norm: 0.1832, Test L1 Norm: 0.1446, Train Linf Norm: 1.3915, Test Linf Norm: 1.3226\n",
            "Epoch 16: Train Loss: 0.0486, Test Loss: 0.1116, Train L1 Norm: 0.1854, Test L1 Norm: 0.1654, Train Linf Norm: 1.3213, Test Linf Norm: 1.0000\n",
            "Epoch 17: Train Loss: 0.0477, Test Loss: 0.0155, Train L1 Norm: 0.1861, Test L1 Norm: 0.1569, Train Linf Norm: 1.4558, Test Linf Norm: 1.0976\n",
            "Epoch 18: Train Loss: 0.0450, Test Loss: 0.0873, Train L1 Norm: 0.1865, Test L1 Norm: 0.2811, Train Linf Norm: 1.3281, Test Linf Norm: 1.0000\n",
            "Epoch 19: Train Loss: 0.0461, Test Loss: 0.0130, Train L1 Norm: 0.1983, Test L1 Norm: 0.1525, Train Linf Norm: 1.7844, Test Linf Norm: 1.1073\n",
            "Epoch 20: Train Loss: 0.0455, Test Loss: 0.0619, Train L1 Norm: 0.1944, Test L1 Norm: 0.2021, Train Linf Norm: 1.3841, Test Linf Norm: 1.1441\n",
            "Epoch 21: Train Loss: 0.0430, Test Loss: 0.0156, Train L1 Norm: 0.1870, Test L1 Norm: 0.1651, Train Linf Norm: 1.3487, Test Linf Norm: 1.0138\n",
            "Epoch 22: Train Loss: 0.0401, Test Loss: 0.1643, Train L1 Norm: 0.1809, Test L1 Norm: 0.1807, Train Linf Norm: 1.2193, Test Linf Norm: 1.3992\n",
            "Epoch 23: Train Loss: 0.0413, Test Loss: 0.0583, Train L1 Norm: 0.1805, Test L1 Norm: 0.2605, Train Linf Norm: 1.2737, Test Linf Norm: 1.6500\n",
            "Epoch 24: Train Loss: 0.0411, Test Loss: 0.0329, Train L1 Norm: 0.1877, Test L1 Norm: 0.1657, Train Linf Norm: 1.4583, Test Linf Norm: 1.0000\n",
            "Epoch 25: Train Loss: 0.0401, Test Loss: 0.1486, Train L1 Norm: 0.1867, Test L1 Norm: 0.3471, Train Linf Norm: 1.3677, Test Linf Norm: 2.1882\n",
            "Epoch 26: Train Loss: 0.0376, Test Loss: 0.0108, Train L1 Norm: 0.1812, Test L1 Norm: 0.1328, Train Linf Norm: 1.9838, Test Linf Norm: 1.4511\n",
            "Epoch 27: Train Loss: 0.0364, Test Loss: 0.1748, Train L1 Norm: 0.1854, Test L1 Norm: 0.2820, Train Linf Norm: 3.2300, Test Linf Norm: 1.2109\n",
            "Epoch 28: Train Loss: 0.0369, Test Loss: 0.0139, Train L1 Norm: 0.1834, Test L1 Norm: 0.1432, Train Linf Norm: 2.3319, Test Linf Norm: 1.0331\n",
            "Epoch 29: Train Loss: 0.0363, Test Loss: 0.1449, Train L1 Norm: 0.2107, Test L1 Norm: 0.2939, Train Linf Norm: 5.7507, Test Linf Norm: 1.0000\n",
            "Epoch 30: Train Loss: 0.0371, Test Loss: 0.0161, Train L1 Norm: 0.1825, Test L1 Norm: 0.1742, Train Linf Norm: 2.1819, Test Linf Norm: 2.1595\n",
            "Epoch 31: Train Loss: 0.0375, Test Loss: 0.0164, Train L1 Norm: 0.1797, Test L1 Norm: 0.1505, Train Linf Norm: 1.7144, Test Linf Norm: 1.0002\n",
            "Epoch 32: Train Loss: 0.0371, Test Loss: 0.0321, Train L1 Norm: 0.1761, Test L1 Norm: 0.1991, Train Linf Norm: 1.4464, Test Linf Norm: 1.1439\n",
            "Epoch 33: Train Loss: 0.0366, Test Loss: 0.0174, Train L1 Norm: 0.1754, Test L1 Norm: 0.1547, Train Linf Norm: 1.4180, Test Linf Norm: 1.7933\n",
            "Epoch 34: Train Loss: 0.0378, Test Loss: 0.0126, Train L1 Norm: 0.1806, Test L1 Norm: 0.1553, Train Linf Norm: 1.3917, Test Linf Norm: 1.7660\n",
            "Epoch 35: Train Loss: 0.0365, Test Loss: 0.0145, Train L1 Norm: 0.1822, Test L1 Norm: 0.1545, Train Linf Norm: 1.5295, Test Linf Norm: 1.0128\n",
            "Epoch 36: Train Loss: 0.0356, Test Loss: 0.1048, Train L1 Norm: 0.1787, Test L1 Norm: 0.2909, Train Linf Norm: 1.5577, Test Linf Norm: 1.0000\n",
            "Epoch 37: Train Loss: 0.0359, Test Loss: 0.1575, Train L1 Norm: 0.1846, Test L1 Norm: 0.2101, Train Linf Norm: 1.5337, Test Linf Norm: 1.5372\n",
            "Epoch 38: Train Loss: 0.0338, Test Loss: 0.0120, Train L1 Norm: 0.1743, Test L1 Norm: 0.1465, Train Linf Norm: 1.2678, Test Linf Norm: 1.0015\n",
            "Epoch 39: Train Loss: 0.0342, Test Loss: 0.0174, Train L1 Norm: 0.1751, Test L1 Norm: 0.1612, Train Linf Norm: 1.4565, Test Linf Norm: 1.1277\n",
            "Epoch 40: Train Loss: 0.0355, Test Loss: 0.0166, Train L1 Norm: 0.1743, Test L1 Norm: 0.1448, Train Linf Norm: 1.6417, Test Linf Norm: 1.1883\n",
            "Epoch 41: Train Loss: 0.0324, Test Loss: 0.0205, Train L1 Norm: 0.1719, Test L1 Norm: 0.1511, Train Linf Norm: 1.3701, Test Linf Norm: 1.7465\n",
            "Epoch 42: Train Loss: 0.0333, Test Loss: 0.0650, Train L1 Norm: 0.1930, Test L1 Norm: 0.1681, Train Linf Norm: 3.7966, Test Linf Norm: 1.0007\n",
            "Epoch 43: Train Loss: 0.0323, Test Loss: 0.0139, Train L1 Norm: 0.1739, Test L1 Norm: 0.1491, Train Linf Norm: 1.2656, Test Linf Norm: 1.0000\n",
            "Epoch 44: Train Loss: 0.0328, Test Loss: 0.0104, Train L1 Norm: 0.1684, Test L1 Norm: 0.1290, Train Linf Norm: 1.3220, Test Linf Norm: 1.5086\n",
            "Epoch 45: Train Loss: 0.0315, Test Loss: 0.0217, Train L1 Norm: 0.1631, Test L1 Norm: 0.1585, Train Linf Norm: 1.3030, Test Linf Norm: 1.5546\n",
            "Epoch 46: Train Loss: 0.0336, Test Loss: 0.0305, Train L1 Norm: 0.1754, Test L1 Norm: 0.1908, Train Linf Norm: 1.8106, Test Linf Norm: 1.0361\n",
            "Epoch 47: Train Loss: 0.0340, Test Loss: 0.0179, Train L1 Norm: 0.1801, Test L1 Norm: 0.1658, Train Linf Norm: 1.2349, Test Linf Norm: 1.1723\n",
            "Epoch 48: Train Loss: 0.0316, Test Loss: 0.0146, Train L1 Norm: 0.1716, Test L1 Norm: 0.1541, Train Linf Norm: 1.2988, Test Linf Norm: 1.1408\n",
            "Epoch 49: Train Loss: 0.0319, Test Loss: 0.0298, Train L1 Norm: 0.1749, Test L1 Norm: 0.1934, Train Linf Norm: 1.2037, Test Linf Norm: 1.8748\n",
            "Epoch 50: Train Loss: 0.0312, Test Loss: 0.0876, Train L1 Norm: 0.1709, Test L1 Norm: 0.2342, Train Linf Norm: 1.2063, Test Linf Norm: 1.8259\n",
            "Epoch 51: Train Loss: 0.0315, Test Loss: 0.0740, Train L1 Norm: 0.1756, Test L1 Norm: 0.3192, Train Linf Norm: 1.4844, Test Linf Norm: 1.0000\n",
            "Epoch 52: Train Loss: 0.0315, Test Loss: 0.0156, Train L1 Norm: 0.1723, Test L1 Norm: 0.1927, Train Linf Norm: 1.2141, Test Linf Norm: 3.6238\n",
            "Epoch 53: Train Loss: 0.0307, Test Loss: 0.0510, Train L1 Norm: 0.1763, Test L1 Norm: 0.1773, Train Linf Norm: 1.3848, Test Linf Norm: 1.9626\n",
            "Epoch 54: Train Loss: 0.0311, Test Loss: 0.0527, Train L1 Norm: 0.1730, Test L1 Norm: 0.1932, Train Linf Norm: 1.3663, Test Linf Norm: 1.3965\n",
            "Epoch 55: Train Loss: 0.0310, Test Loss: 0.0155, Train L1 Norm: 0.1736, Test L1 Norm: 0.1534, Train Linf Norm: 1.2870, Test Linf Norm: 1.0004\n",
            "Epoch 56: Train Loss: 0.0315, Test Loss: 0.0150, Train L1 Norm: 0.2153, Test L1 Norm: 0.1510, Train Linf Norm: 5.8402, Test Linf Norm: 1.2543\n",
            "Epoch 57: Train Loss: 0.0321, Test Loss: 0.0210, Train L1 Norm: 0.1787, Test L1 Norm: 0.1594, Train Linf Norm: 1.3699, Test Linf Norm: 1.0857\n",
            "Epoch 58: Train Loss: 0.0307, Test Loss: 0.0242, Train L1 Norm: 0.1746, Test L1 Norm: 0.1695, Train Linf Norm: 1.2584, Test Linf Norm: 1.0008\n",
            "Epoch 59: Train Loss: 0.0295, Test Loss: 0.0281, Train L1 Norm: 0.1828, Test L1 Norm: 0.1755, Train Linf Norm: 2.1364, Test Linf Norm: 1.4402\n",
            "Epoch 60: Train Loss: 0.0296, Test Loss: 0.0276, Train L1 Norm: 0.1744, Test L1 Norm: 0.1456, Train Linf Norm: 1.4422, Test Linf Norm: 1.0000\n",
            "Epoch 61: Train Loss: 0.0305, Test Loss: 0.0260, Train L1 Norm: 0.1712, Test L1 Norm: 0.1647, Train Linf Norm: 1.3066, Test Linf Norm: 1.4915\n",
            "Epoch 62: Train Loss: 0.0301, Test Loss: 0.0392, Train L1 Norm: 0.2132, Test L1 Norm: 0.2040, Train Linf Norm: 5.4641, Test Linf Norm: 1.0000\n",
            "Epoch 63: Train Loss: 0.0298, Test Loss: 0.0865, Train L1 Norm: 0.2269, Test L1 Norm: 0.2790, Train Linf Norm: 7.6253, Test Linf Norm: 1.2496\n",
            "Epoch 64: Train Loss: 0.0293, Test Loss: 0.0146, Train L1 Norm: 0.1716, Test L1 Norm: 0.1312, Train Linf Norm: 1.2897, Test Linf Norm: 1.0091\n",
            "Epoch 65: Train Loss: 0.0300, Test Loss: 0.0162, Train L1 Norm: 0.1686, Test L1 Norm: 0.1326, Train Linf Norm: 1.5504, Test Linf Norm: 1.5868\n",
            "Epoch 66: Train Loss: 0.0312, Test Loss: 0.0292, Train L1 Norm: 0.1722, Test L1 Norm: 0.1700, Train Linf Norm: 1.1919, Test Linf Norm: 1.0000\n",
            "Epoch 67: Train Loss: 0.0302, Test Loss: 0.0300, Train L1 Norm: 0.2114, Test L1 Norm: 0.1792, Train Linf Norm: 5.7661, Test Linf Norm: 1.3654\n",
            "Epoch 68: Train Loss: 0.0292, Test Loss: 0.0224, Train L1 Norm: 0.1705, Test L1 Norm: 0.1518, Train Linf Norm: 1.3870, Test Linf Norm: 1.0317\n",
            "Epoch 69: Train Loss: 0.0304, Test Loss: 0.0254, Train L1 Norm: 0.2045, Test L1 Norm: 0.1762, Train Linf Norm: 5.0377, Test Linf Norm: 1.3128\n"
          ]
        },
        {
          "output_type": "stream",
          "name": "stderr",
          "text": [
            "\u001b[32m[I 2023-05-13 13:06:02,341]\u001b[0m Trial 2 finished with value: 0.15276658617705108 and parameters: {'n_layers': 2, 'n_units_0': 134, 'n_units_1': 31, 'hidden_activation': 'Tanh', 'output_activation': 'ReLU', 'loss': 'Huber', 'optimizer': 'RMSprop', 'lr': 0.008241743821984265, 'batch_size': 110, 'n_epochs': 70, 'scheduler': 'None'}. Best is trial 1 with value: 0.012162298429012298.\u001b[0m\n"
          ]
        },
        {
          "output_type": "stream",
          "name": "stdout",
          "text": [
            "Epoch 70: Train Loss: 0.0302, Test Loss: 0.0129, Train L1 Norm: 0.1773, Test L1 Norm: 0.1528, Train Linf Norm: 1.2902, Test Linf Norm: 1.0045\n",
            "Epoch 1: Train Loss: 1.6417, Test Loss: 1.2943, Train L1 Norm: 3.6255, Test L1 Norm: 2.7636, Train Linf Norm: 454.4988, Test Linf Norm: 276.8031\n",
            "Epoch 2: Train Loss: 1.1562, Test Loss: 1.0468, Train L1 Norm: 4.1541, Test L1 Norm: 3.6981, Train Linf Norm: 617.3304, Test Linf Norm: 441.8863\n",
            "Epoch 3: Train Loss: 0.9840, Test Loss: 0.9249, Train L1 Norm: 4.6978, Test L1 Norm: 4.3033, Train Linf Norm: 713.1599, Test Linf Norm: 521.0179\n",
            "Epoch 4: Train Loss: 0.8831, Test Loss: 0.8409, Train L1 Norm: 4.9538, Test L1 Norm: 4.3240, Train Linf Norm: 753.4308, Test Linf Norm: 521.7095\n",
            "Epoch 5: Train Loss: 0.8112, Test Loss: 0.7785, Train L1 Norm: 4.7848, Test L1 Norm: 4.0287, Train Linf Norm: 736.5158, Test Linf Norm: 483.7067\n",
            "Epoch 6: Train Loss: 0.7581, Test Loss: 0.7341, Train L1 Norm: 4.3865, Test L1 Norm: 3.7008, Train Linf Norm: 668.2146, Test Linf Norm: 441.8028\n",
            "Epoch 7: Train Loss: 0.7227, Test Loss: 0.7068, Train L1 Norm: 4.0649, Test L1 Norm: 3.4332, Train Linf Norm: 595.4232, Test Linf Norm: 407.6710\n",
            "Epoch 8: Train Loss: 0.7016, Test Loss: 0.6911, Train L1 Norm: 3.7999, Test L1 Norm: 3.2531, Train Linf Norm: 568.7988, Test Linf Norm: 384.6834\n",
            "Epoch 9: Train Loss: 0.6903, Test Loss: 0.6842, Train L1 Norm: 3.6490, Test L1 Norm: 3.1707, Train Linf Norm: 543.6778, Test Linf Norm: 374.0575\n",
            "Epoch 10: Train Loss: 0.6859, Test Loss: 0.6823, Train L1 Norm: 3.5885, Test L1 Norm: 3.1475, Train Linf Norm: 531.1374, Test Linf Norm: 371.0919\n",
            "Epoch 11: Train Loss: 0.6850, Test Loss: 0.6823, Train L1 Norm: 3.5756, Test L1 Norm: 3.1475, Train Linf Norm: 535.3913, Test Linf Norm: 371.0919\n",
            "Epoch 12: Train Loss: 0.6841, Test Loss: 0.6806, Train L1 Norm: 3.5642, Test L1 Norm: 3.1249, Train Linf Norm: 537.4377, Test Linf Norm: 368.2022\n",
            "Epoch 13: Train Loss: 0.6798, Test Loss: 0.6737, Train L1 Norm: 3.5095, Test L1 Norm: 3.0367, Train Linf Norm: 525.8575, Test Linf Norm: 356.9259\n",
            "Epoch 14: Train Loss: 0.6692, Test Loss: 0.6591, Train L1 Norm: 3.3332, Test L1 Norm: 2.8390, Train Linf Norm: 495.5377, Test Linf Norm: 331.5915\n",
            "Epoch 15: Train Loss: 0.6504, Test Loss: 0.6358, Train L1 Norm: 3.0490, Test L1 Norm: 2.4956, Train Linf Norm: 452.4112, Test Linf Norm: 287.7214\n",
            "Epoch 16: Train Loss: 0.6228, Test Loss: 0.6033, Train L1 Norm: 2.5171, Test L1 Norm: 1.9588, Train Linf Norm: 372.6956, Test Linf Norm: 219.4368\n",
            "Epoch 17: Train Loss: 0.5870, Test Loss: 0.5631, Train L1 Norm: 1.7334, Test L1 Norm: 1.2706, Train Linf Norm: 245.0560, Test Linf Norm: 132.1166\n",
            "Epoch 18: Train Loss: 0.5449, Test Loss: 0.5186, Train L1 Norm: 1.0055, Test L1 Norm: 0.5694, Train Linf Norm: 134.7403, Test Linf Norm: 44.2012\n",
            "Epoch 19: Train Loss: 0.5020, Test Loss: 0.4769, Train L1 Norm: 0.4274, Test L1 Norm: 0.3663, Train Linf Norm: 41.4235, Test Linf Norm: 19.8085\n",
            "Epoch 20: Train Loss: 0.4633, Test Loss: 0.4398, Train L1 Norm: 0.3544, Test L1 Norm: 0.3544, Train Linf Norm: 31.4857, Test Linf Norm: 19.3373\n",
            "Epoch 21: Train Loss: 0.4283, Test Loss: 0.4068, Train L1 Norm: 0.3194, Test L1 Norm: 0.3477, Train Linf Norm: 27.4935, Test Linf Norm: 19.8233\n",
            "Epoch 22: Train Loss: 0.3972, Test Loss: 0.3768, Train L1 Norm: 0.3176, Test L1 Norm: 0.3403, Train Linf Norm: 29.7357, Test Linf Norm: 20.9117\n",
            "Epoch 23: Train Loss: 0.3703, Test Loss: 0.3520, Train L1 Norm: 0.3386, Test L1 Norm: 0.3392, Train Linf Norm: 36.2707, Test Linf Norm: 22.9541\n",
            "Epoch 24: Train Loss: 0.3483, Test Loss: 0.3328, Train L1 Norm: 0.3582, Test L1 Norm: 0.3313, Train Linf Norm: 41.9493, Test Linf Norm: 26.0440\n",
            "Epoch 25: Train Loss: 0.3314, Test Loss: 0.3181, Train L1 Norm: 0.3856, Test L1 Norm: 0.3602, Train Linf Norm: 47.6078, Test Linf Norm: 31.0093\n",
            "Epoch 26: Train Loss: 0.3190, Test Loss: 0.3076, Train L1 Norm: 0.4128, Test L1 Norm: 0.3771, Train Linf Norm: 52.5204, Test Linf Norm: 34.7950\n",
            "Epoch 27: Train Loss: 0.3104, Test Loss: 0.3006, Train L1 Norm: 0.4333, Test L1 Norm: 0.3862, Train Linf Norm: 56.6455, Test Linf Norm: 35.7328\n",
            "Epoch 28: Train Loss: 0.3049, Test Loss: 0.2967, Train L1 Norm: 0.4442, Test L1 Norm: 0.3950, Train Linf Norm: 58.5866, Test Linf Norm: 37.4357\n",
            "Epoch 29: Train Loss: 0.3021, Test Loss: 0.2948, Train L1 Norm: 0.4513, Test L1 Norm: 0.4017, Train Linf Norm: 57.9044, Test Linf Norm: 38.2198\n",
            "Epoch 30: Train Loss: 0.3009, Test Loss: 0.2944, Train L1 Norm: 0.4550, Test L1 Norm: 0.4004, Train Linf Norm: 61.6495, Test Linf Norm: 38.2722\n",
            "Epoch 31: Train Loss: 0.3007, Test Loss: 0.2944, Train L1 Norm: 0.4551, Test L1 Norm: 0.4004, Train Linf Norm: 61.7548, Test Linf Norm: 38.2722\n",
            "Epoch 32: Train Loss: 0.3005, Test Loss: 0.2940, Train L1 Norm: 0.4551, Test L1 Norm: 0.4000, Train Linf Norm: 61.5872, Test Linf Norm: 38.3778\n",
            "Epoch 33: Train Loss: 0.2994, Test Loss: 0.2926, Train L1 Norm: 0.4594, Test L1 Norm: 0.3976, Train Linf Norm: 61.6649, Test Linf Norm: 38.7140\n",
            "Epoch 34: Train Loss: 0.2967, Test Loss: 0.2887, Train L1 Norm: 0.4685, Test L1 Norm: 0.4075, Train Linf Norm: 63.7200, Test Linf Norm: 40.2639\n",
            "Epoch 35: Train Loss: 0.2919, Test Loss: 0.2823, Train L1 Norm: 0.4818, Test L1 Norm: 0.4288, Train Linf Norm: 66.5586, Test Linf Norm: 43.1285\n",
            "Epoch 36: Train Loss: 0.2847, Test Loss: 0.2741, Train L1 Norm: 0.5048, Test L1 Norm: 0.4364, Train Linf Norm: 71.2714, Test Linf Norm: 45.7908\n",
            "Epoch 37: Train Loss: 0.2754, Test Loss: 0.2637, Train L1 Norm: 0.5417, Test L1 Norm: 0.4663, Train Linf Norm: 77.5779, Test Linf Norm: 51.4473\n",
            "Epoch 38: Train Loss: 0.2645, Test Loss: 0.2522, Train L1 Norm: 0.5888, Test L1 Norm: 0.5175, Train Linf Norm: 86.4313, Test Linf Norm: 58.6788\n",
            "Epoch 39: Train Loss: 0.2524, Test Loss: 0.2449, Train L1 Norm: 0.6333, Test L1 Norm: 0.5375, Train Linf Norm: 95.5481, Test Linf Norm: 64.6588\n",
            "Epoch 40: Train Loss: 0.2405, Test Loss: 0.2296, Train L1 Norm: 0.6920, Test L1 Norm: 0.5969, Train Linf Norm: 105.5604, Test Linf Norm: 73.7428\n",
            "Epoch 41: Train Loss: 0.2287, Test Loss: 0.2205, Train L1 Norm: 0.7465, Test L1 Norm: 0.6449, Train Linf Norm: 111.6890, Test Linf Norm: 81.9848\n",
            "Epoch 42: Train Loss: 0.2178, Test Loss: 0.2064, Train L1 Norm: 0.8295, Test L1 Norm: 0.7059, Train Linf Norm: 129.9977, Test Linf Norm: 90.7085\n",
            "Epoch 43: Train Loss: 0.2080, Test Loss: 0.1976, Train L1 Norm: 0.8699, Test L1 Norm: 0.7360, Train Linf Norm: 136.9269, Test Linf Norm: 94.6721\n",
            "Epoch 44: Train Loss: 0.1993, Test Loss: 0.1900, Train L1 Norm: 0.9258, Test L1 Norm: 0.7859, Train Linf Norm: 148.2570, Test Linf Norm: 103.5686\n",
            "Epoch 45: Train Loss: 0.1924, Test Loss: 0.1845, Train L1 Norm: 0.9725, Test L1 Norm: 0.8377, Train Linf Norm: 156.9579, Test Linf Norm: 110.6322\n",
            "Epoch 46: Train Loss: 0.1870, Test Loss: 0.1801, Train L1 Norm: 1.0182, Test L1 Norm: 0.8519, Train Linf Norm: 163.6963, Test Linf Norm: 113.8785\n",
            "Epoch 47: Train Loss: 0.1832, Test Loss: 0.1772, Train L1 Norm: 1.0299, Test L1 Norm: 0.8844, Train Linf Norm: 166.7722, Test Linf Norm: 117.7230\n",
            "Epoch 48: Train Loss: 0.1806, Test Loss: 0.1754, Train L1 Norm: 1.0563, Test L1 Norm: 0.8775, Train Linf Norm: 171.6275, Test Linf Norm: 117.8860\n",
            "Epoch 49: Train Loss: 0.1793, Test Loss: 0.1746, Train L1 Norm: 1.0635, Test L1 Norm: 0.8846, Train Linf Norm: 173.5949, Test Linf Norm: 118.8427\n",
            "Epoch 50: Train Loss: 0.1787, Test Loss: 0.1742, Train L1 Norm: 1.0648, Test L1 Norm: 0.8871, Train Linf Norm: 172.5762, Test Linf Norm: 119.2356\n",
            "Epoch 51: Train Loss: 0.1786, Test Loss: 0.1742, Train L1 Norm: 1.0666, Test L1 Norm: 0.8871, Train Linf Norm: 173.1382, Test Linf Norm: 119.2356\n",
            "Epoch 52: Train Loss: 0.1785, Test Loss: 0.1740, Train L1 Norm: 1.0677, Test L1 Norm: 0.8892, Train Linf Norm: 173.6814, Test Linf Norm: 119.5443\n",
            "Epoch 53: Train Loss: 0.1780, Test Loss: 0.1732, Train L1 Norm: 1.0727, Test L1 Norm: 0.8986, Train Linf Norm: 174.9865, Test Linf Norm: 120.5842\n",
            "Epoch 54: Train Loss: 0.1769, Test Loss: 0.1715, Train L1 Norm: 1.0797, Test L1 Norm: 0.9049, Train Linf Norm: 175.6091, Test Linf Norm: 122.0284\n",
            "Epoch 55: Train Loss: 0.1747, Test Loss: 0.1688, Train L1 Norm: 1.0968, Test L1 Norm: 0.9230, Train Linf Norm: 180.4404, Test Linf Norm: 125.1190\n",
            "Epoch 56: Train Loss: 0.1715, Test Loss: 0.1648, Train L1 Norm: 1.1227, Test L1 Norm: 0.9421, Train Linf Norm: 182.2239, Test Linf Norm: 127.7371\n",
            "Epoch 57: Train Loss: 0.1672, Test Loss: 0.1607, Train L1 Norm: 1.1546, Test L1 Norm: 0.9655, Train Linf Norm: 187.8410, Test Linf Norm: 132.0204\n",
            "Epoch 58: Train Loss: 0.1618, Test Loss: 0.1613, Train L1 Norm: 1.1953, Test L1 Norm: 1.0420, Train Linf Norm: 195.5494, Test Linf Norm: 140.2725\n",
            "Epoch 59: Train Loss: 0.1568, Test Loss: 0.1490, Train L1 Norm: 1.2339, Test L1 Norm: 1.0474, Train Linf Norm: 205.8081, Test Linf Norm: 145.1324\n",
            "Epoch 60: Train Loss: 0.1527, Test Loss: 0.1539, Train L1 Norm: 1.2775, Test L1 Norm: 1.0796, Train Linf Norm: 209.3110, Test Linf Norm: 150.4927\n",
            "Epoch 61: Train Loss: 0.1491, Test Loss: 0.1380, Train L1 Norm: 1.3144, Test L1 Norm: 1.1342, Train Linf Norm: 221.1013, Test Linf Norm: 157.3020\n",
            "Epoch 62: Train Loss: 0.1440, Test Loss: 0.1468, Train L1 Norm: 1.3573, Test L1 Norm: 1.1889, Train Linf Norm: 230.0859, Test Linf Norm: 161.2924\n",
            "Epoch 63: Train Loss: 0.1388, Test Loss: 0.1644, Train L1 Norm: 1.3878, Test L1 Norm: 1.1688, Train Linf Norm: 231.2361, Test Linf Norm: 163.3652\n",
            "Epoch 64: Train Loss: 0.1318, Test Loss: 0.1241, Train L1 Norm: 1.4056, Test L1 Norm: 1.2080, Train Linf Norm: 239.0918, Test Linf Norm: 168.3060\n",
            "Epoch 65: Train Loss: 0.1254, Test Loss: 0.1246, Train L1 Norm: 1.4308, Test L1 Norm: 1.2285, Train Linf Norm: 241.3802, Test Linf Norm: 171.1220\n",
            "Epoch 66: Train Loss: 0.1218, Test Loss: 0.1179, Train L1 Norm: 1.4369, Test L1 Norm: 1.2343, Train Linf Norm: 244.3668, Test Linf Norm: 174.0174\n",
            "Epoch 67: Train Loss: 0.1188, Test Loss: 0.1155, Train L1 Norm: 1.4592, Test L1 Norm: 1.2377, Train Linf Norm: 247.3828, Test Linf Norm: 174.4608\n",
            "Epoch 68: Train Loss: 0.1173, Test Loss: 0.1141, Train L1 Norm: 1.4656, Test L1 Norm: 1.2470, Train Linf Norm: 248.9774, Test Linf Norm: 175.7832\n",
            "Epoch 69: Train Loss: 0.1164, Test Loss: 0.1137, Train L1 Norm: 1.4708, Test L1 Norm: 1.2469, Train Linf Norm: 252.8126, Test Linf Norm: 176.0234\n",
            "Epoch 70: Train Loss: 0.1161, Test Loss: 0.1135, Train L1 Norm: 1.4721, Test L1 Norm: 1.2506, Train Linf Norm: 252.8616, Test Linf Norm: 176.3231\n",
            "Epoch 71: Train Loss: 0.1160, Test Loss: 0.1135, Train L1 Norm: 1.4723, Test L1 Norm: 1.2506, Train Linf Norm: 250.7812, Test Linf Norm: 176.3231\n",
            "Epoch 72: Train Loss: 0.1159, Test Loss: 0.1133, Train L1 Norm: 1.4731, Test L1 Norm: 1.2512, Train Linf Norm: 249.2984, Test Linf Norm: 176.4388\n",
            "Epoch 73: Train Loss: 0.1157, Test Loss: 0.1129, Train L1 Norm: 1.4740, Test L1 Norm: 1.2554, Train Linf Norm: 253.0638, Test Linf Norm: 177.0437\n",
            "Epoch 74: Train Loss: 0.1151, Test Loss: 0.1122, Train L1 Norm: 1.4803, Test L1 Norm: 1.2620, Train Linf Norm: 254.3034, Test Linf Norm: 178.1185\n",
            "Epoch 75: Train Loss: 0.1142, Test Loss: 0.1128, Train L1 Norm: 1.4861, Test L1 Norm: 1.2604, Train Linf Norm: 250.7363, Test Linf Norm: 178.4637\n",
            "Epoch 76: Train Loss: 0.1130, Test Loss: 0.1087, Train L1 Norm: 1.4974, Test L1 Norm: 1.2745, Train Linf Norm: 253.6351, Test Linf Norm: 179.9156\n",
            "Epoch 77: Train Loss: 0.1142, Test Loss: 0.1110, Train L1 Norm: 1.5074, Test L1 Norm: 1.2814, Train Linf Norm: 259.6052, Test Linf Norm: 181.7253\n",
            "Epoch 78: Train Loss: 0.1271, Test Loss: 0.1066, Train L1 Norm: 1.5213, Test L1 Norm: 1.2609, Train Linf Norm: 259.7384, Test Linf Norm: 177.4764\n",
            "Epoch 79: Train Loss: 0.1423, Test Loss: 0.1431, Train L1 Norm: 1.5044, Test L1 Norm: 1.2119, Train Linf Norm: 253.5992, Test Linf Norm: 170.3836\n",
            "Epoch 80: Train Loss: 0.1514, Test Loss: 0.1483, Train L1 Norm: 1.4437, Test L1 Norm: 1.2161, Train Linf Norm: 239.2631, Test Linf Norm: 167.3940\n",
            "Epoch 81: Train Loss: 0.1522, Test Loss: 0.1561, Train L1 Norm: 1.3988, Test L1 Norm: 1.1428, Train Linf Norm: 234.8236, Test Linf Norm: 158.2244\n",
            "Epoch 82: Train Loss: 0.1487, Test Loss: 0.1183, Train L1 Norm: 1.3943, Test L1 Norm: 1.0851, Train Linf Norm: 230.3509, Test Linf Norm: 154.2186\n",
            "Epoch 83: Train Loss: 0.1373, Test Loss: 0.1713, Train L1 Norm: 1.3672, Test L1 Norm: 1.1776, Train Linf Norm: 225.9429, Test Linf Norm: 157.8064\n",
            "Epoch 84: Train Loss: 0.1232, Test Loss: 0.1086, Train L1 Norm: 1.3686, Test L1 Norm: 1.1199, Train Linf Norm: 232.1414, Test Linf Norm: 159.5544\n",
            "Epoch 85: Train Loss: 0.1055, Test Loss: 0.0915, Train L1 Norm: 1.3714, Test L1 Norm: 1.1508, Train Linf Norm: 231.4103, Test Linf Norm: 163.6659\n",
            "Epoch 86: Train Loss: 0.0947, Test Loss: 0.1029, Train L1 Norm: 1.3802, Test L1 Norm: 1.1949, Train Linf Norm: 236.7486, Test Linf Norm: 168.5947\n",
            "Epoch 87: Train Loss: 0.0905, Test Loss: 0.0873, Train L1 Norm: 1.4031, Test L1 Norm: 1.1814, Train Linf Norm: 241.4632, Test Linf Norm: 168.9548\n",
            "Epoch 88: Train Loss: 0.0889, Test Loss: 0.0874, Train L1 Norm: 1.4100, Test L1 Norm: 1.1844, Train Linf Norm: 239.2154, Test Linf Norm: 169.4206\n",
            "Epoch 89: Train Loss: 0.0882, Test Loss: 0.0865, Train L1 Norm: 1.4143, Test L1 Norm: 1.1875, Train Linf Norm: 247.3475, Test Linf Norm: 169.8864\n"
          ]
        },
        {
          "output_type": "stream",
          "name": "stderr",
          "text": [
            "\u001b[32m[I 2023-05-13 13:07:50,066]\u001b[0m Trial 3 finished with value: 1.1908909585677088 and parameters: {'n_layers': 1, 'n_units_0': 246, 'hidden_activation': 'Tanh', 'output_activation': 'Linear', 'loss': 'MAE', 'optimizer': 'SGD', 'lr': 0.0007264697181499317, 'batch_size': 207, 'n_epochs': 90, 'scheduler': 'CosineAnnealingLR'}. Best is trial 1 with value: 0.012162298429012298.\u001b[0m\n"
          ]
        },
        {
          "output_type": "stream",
          "name": "stdout",
          "text": [
            "Epoch 90: Train Loss: 0.0879, Test Loss: 0.0861, Train L1 Norm: 1.4115, Test L1 Norm: 1.1909, Train Linf Norm: 247.4672, Test Linf Norm: 170.2325\n",
            "Epoch 1: Train Loss: 0.1988, Test Loss: 0.0491, Train L1 Norm: 0.7972, Test L1 Norm: 0.6625, Train Linf Norm: 96.0523, Test Linf Norm: 86.0021\n",
            "Epoch 2: Train Loss: 0.0590, Test Loss: 0.0267, Train L1 Norm: 0.5049, Test L1 Norm: 0.3208, Train Linf Norm: 72.9013, Test Linf Norm: 41.5822\n",
            "Epoch 3: Train Loss: 0.0420, Test Loss: 0.0514, Train L1 Norm: 0.4034, Test L1 Norm: 0.2267, Train Linf Norm: 53.9812, Test Linf Norm: 25.8618\n",
            "Epoch 4: Train Loss: 0.0368, Test Loss: 0.0313, Train L1 Norm: 0.3409, Test L1 Norm: 0.3012, Train Linf Norm: 43.1833, Test Linf Norm: 34.2043\n",
            "Epoch 5: Train Loss: 0.0309, Test Loss: 0.0083, Train L1 Norm: 0.3296, Test L1 Norm: 0.3165, Train Linf Norm: 43.4709, Test Linf Norm: 44.2488\n",
            "Epoch 6: Train Loss: 0.0268, Test Loss: 0.0023, Train L1 Norm: 0.2750, Test L1 Norm: 0.1166, Train Linf Norm: 33.2975, Test Linf Norm: 15.4860\n",
            "Epoch 7: Train Loss: 0.0240, Test Loss: 0.0219, Train L1 Norm: 0.2306, Test L1 Norm: 0.1504, Train Linf Norm: 26.6210, Test Linf Norm: 10.5341\n",
            "Epoch 8: Train Loss: 0.0216, Test Loss: 0.0146, Train L1 Norm: 0.2637, Test L1 Norm: 0.2865, Train Linf Norm: 36.4843, Test Linf Norm: 36.3096\n",
            "Epoch 9: Train Loss: 0.0213, Test Loss: 0.0396, Train L1 Norm: 0.2483, Test L1 Norm: 0.1641, Train Linf Norm: 32.5959, Test Linf Norm: 13.7050\n",
            "Epoch 10: Train Loss: 0.0190, Test Loss: 0.0037, Train L1 Norm: 0.2331, Test L1 Norm: 0.1413, Train Linf Norm: 29.6402, Test Linf Norm: 18.4004\n",
            "Epoch 11: Train Loss: 0.0009, Test Loss: 0.0009, Train L1 Norm: 0.0759, Test L1 Norm: 0.0685, Train Linf Norm: 9.9531, Test Linf Norm: 7.4047\n",
            "Epoch 12: Train Loss: 0.0009, Test Loss: 0.0006, Train L1 Norm: 0.0693, Test L1 Norm: 0.0770, Train Linf Norm: 8.2513, Test Linf Norm: 9.0175\n",
            "Epoch 13: Train Loss: 0.0007, Test Loss: 0.0009, Train L1 Norm: 0.0858, Test L1 Norm: 0.0941, Train Linf Norm: 12.1374, Test Linf Norm: 11.9942\n",
            "Epoch 14: Train Loss: 0.0007, Test Loss: 0.0004, Train L1 Norm: 0.0876, Test L1 Norm: 0.0813, Train Linf Norm: 12.2284, Test Linf Norm: 9.8538\n",
            "Epoch 15: Train Loss: 0.0006, Test Loss: 0.0009, Train L1 Norm: 0.0848, Test L1 Norm: 0.0851, Train Linf Norm: 12.1088, Test Linf Norm: 10.2946\n",
            "Epoch 16: Train Loss: 0.0005, Test Loss: 0.0004, Train L1 Norm: 0.0956, Test L1 Norm: 0.0800, Train Linf Norm: 14.8395, Test Linf Norm: 9.4451\n",
            "Epoch 17: Train Loss: 0.0005, Test Loss: 0.0010, Train L1 Norm: 0.0869, Test L1 Norm: 0.0865, Train Linf Norm: 13.0518, Test Linf Norm: 9.8327\n",
            "Epoch 18: Train Loss: 0.0004, Test Loss: 0.0003, Train L1 Norm: 0.0779, Test L1 Norm: 0.0871, Train Linf Norm: 10.8658, Test Linf Norm: 11.1625\n",
            "Epoch 19: Train Loss: 0.0004, Test Loss: 0.0023, Train L1 Norm: 0.0888, Test L1 Norm: 0.1002, Train Linf Norm: 12.2796, Test Linf Norm: 9.6771\n",
            "Epoch 20: Train Loss: 0.0004, Test Loss: 0.0002, Train L1 Norm: 0.0740, Test L1 Norm: 0.0671, Train Linf Norm: 10.1356, Test Linf Norm: 8.1027\n",
            "Epoch 21: Train Loss: 0.0002, Test Loss: 0.0002, Train L1 Norm: 0.0715, Test L1 Norm: 0.0648, Train Linf Norm: 10.7984, Test Linf Norm: 7.8558\n",
            "Epoch 22: Train Loss: 0.0002, Test Loss: 0.0002, Train L1 Norm: 0.0755, Test L1 Norm: 0.0659, Train Linf Norm: 11.5077, Test Linf Norm: 8.0908\n",
            "Epoch 23: Train Loss: 0.0002, Test Loss: 0.0002, Train L1 Norm: 0.0772, Test L1 Norm: 0.0645, Train Linf Norm: 11.9414, Test Linf Norm: 7.8365\n",
            "Epoch 24: Train Loss: 0.0002, Test Loss: 0.0002, Train L1 Norm: 0.0766, Test L1 Norm: 0.0585, Train Linf Norm: 11.4889, Test Linf Norm: 6.6976\n",
            "Epoch 25: Train Loss: 0.0002, Test Loss: 0.0001, Train L1 Norm: 0.0774, Test L1 Norm: 0.0620, Train Linf Norm: 12.2142, Test Linf Norm: 7.4937\n",
            "Epoch 26: Train Loss: 0.0001, Test Loss: 0.0001, Train L1 Norm: 0.0752, Test L1 Norm: 0.0641, Train Linf Norm: 11.7044, Test Linf Norm: 7.8462\n",
            "Epoch 27: Train Loss: 0.0001, Test Loss: 0.0001, Train L1 Norm: 0.0747, Test L1 Norm: 0.0633, Train Linf Norm: 11.4803, Test Linf Norm: 7.5646\n",
            "Epoch 28: Train Loss: 0.0001, Test Loss: 0.0001, Train L1 Norm: 0.0738, Test L1 Norm: 0.0511, Train Linf Norm: 11.3830, Test Linf Norm: 5.7788\n",
            "Epoch 29: Train Loss: 0.0001, Test Loss: 0.0001, Train L1 Norm: 0.0706, Test L1 Norm: 0.0617, Train Linf Norm: 10.7315, Test Linf Norm: 7.3962\n",
            "Epoch 30: Train Loss: 0.0001, Test Loss: 0.0001, Train L1 Norm: 0.0700, Test L1 Norm: 0.0589, Train Linf Norm: 10.5908, Test Linf Norm: 7.0858\n",
            "Epoch 31: Train Loss: 0.0001, Test Loss: 0.0001, Train L1 Norm: 0.0702, Test L1 Norm: 0.0551, Train Linf Norm: 10.5811, Test Linf Norm: 6.3748\n",
            "Epoch 32: Train Loss: 0.0001, Test Loss: 0.0001, Train L1 Norm: 0.0702, Test L1 Norm: 0.0553, Train Linf Norm: 10.7391, Test Linf Norm: 6.4306\n",
            "Epoch 33: Train Loss: 0.0001, Test Loss: 0.0001, Train L1 Norm: 0.0705, Test L1 Norm: 0.0544, Train Linf Norm: 10.3841, Test Linf Norm: 6.2942\n",
            "Epoch 34: Train Loss: 0.0001, Test Loss: 0.0001, Train L1 Norm: 0.0698, Test L1 Norm: 0.0562, Train Linf Norm: 10.5245, Test Linf Norm: 6.5638\n",
            "Epoch 35: Train Loss: 0.0001, Test Loss: 0.0001, Train L1 Norm: 0.0698, Test L1 Norm: 0.0554, Train Linf Norm: 10.6985, Test Linf Norm: 6.4543\n",
            "Epoch 36: Train Loss: 0.0001, Test Loss: 0.0001, Train L1 Norm: 0.0699, Test L1 Norm: 0.0560, Train Linf Norm: 10.6964, Test Linf Norm: 6.5628\n",
            "Epoch 37: Train Loss: 0.0001, Test Loss: 0.0001, Train L1 Norm: 0.0689, Test L1 Norm: 0.0567, Train Linf Norm: 10.5678, Test Linf Norm: 6.6414\n",
            "Epoch 38: Train Loss: 0.0001, Test Loss: 0.0001, Train L1 Norm: 0.0700, Test L1 Norm: 0.0560, Train Linf Norm: 10.0700, Test Linf Norm: 6.5363\n",
            "Epoch 39: Train Loss: 0.0001, Test Loss: 0.0001, Train L1 Norm: 0.0699, Test L1 Norm: 0.0548, Train Linf Norm: 10.3670, Test Linf Norm: 6.3303\n",
            "Epoch 40: Train Loss: 0.0001, Test Loss: 0.0001, Train L1 Norm: 0.0691, Test L1 Norm: 0.0562, Train Linf Norm: 10.3877, Test Linf Norm: 6.5653\n",
            "Epoch 41: Train Loss: 0.0001, Test Loss: 0.0001, Train L1 Norm: 0.0703, Test L1 Norm: 0.0555, Train Linf Norm: 10.6345, Test Linf Norm: 6.4664\n",
            "Epoch 42: Train Loss: 0.0001, Test Loss: 0.0001, Train L1 Norm: 0.0695, Test L1 Norm: 0.0551, Train Linf Norm: 10.6973, Test Linf Norm: 6.4129\n",
            "Epoch 43: Train Loss: 0.0001, Test Loss: 0.0001, Train L1 Norm: 0.0694, Test L1 Norm: 0.0547, Train Linf Norm: 10.7015, Test Linf Norm: 6.3484\n",
            "Epoch 44: Train Loss: 0.0001, Test Loss: 0.0001, Train L1 Norm: 0.0691, Test L1 Norm: 0.0547, Train Linf Norm: 10.3678, Test Linf Norm: 6.3443\n",
            "Epoch 45: Train Loss: 0.0001, Test Loss: 0.0001, Train L1 Norm: 0.0691, Test L1 Norm: 0.0549, Train Linf Norm: 10.4334, Test Linf Norm: 6.3805\n",
            "Epoch 46: Train Loss: 0.0001, Test Loss: 0.0001, Train L1 Norm: 0.0691, Test L1 Norm: 0.0547, Train Linf Norm: 10.5068, Test Linf Norm: 6.3435\n",
            "Epoch 47: Train Loss: 0.0001, Test Loss: 0.0001, Train L1 Norm: 0.0691, Test L1 Norm: 0.0547, Train Linf Norm: 10.7221, Test Linf Norm: 6.3424\n",
            "Epoch 48: Train Loss: 0.0001, Test Loss: 0.0001, Train L1 Norm: 0.0690, Test L1 Norm: 0.0546, Train Linf Norm: 10.6459, Test Linf Norm: 6.3319\n",
            "Epoch 49: Train Loss: 0.0001, Test Loss: 0.0001, Train L1 Norm: 0.0692, Test L1 Norm: 0.0547, Train Linf Norm: 10.3555, Test Linf Norm: 6.3407\n",
            "Epoch 50: Train Loss: 0.0001, Test Loss: 0.0001, Train L1 Norm: 0.0691, Test L1 Norm: 0.0547, Train Linf Norm: 10.2199, Test Linf Norm: 6.3403\n",
            "Epoch 51: Train Loss: 0.0001, Test Loss: 0.0001, Train L1 Norm: 0.0692, Test L1 Norm: 0.0547, Train Linf Norm: 10.3433, Test Linf Norm: 6.3357\n",
            "Epoch 52: Train Loss: 0.0001, Test Loss: 0.0001, Train L1 Norm: 0.0692, Test L1 Norm: 0.0546, Train Linf Norm: 10.4444, Test Linf Norm: 6.3351\n",
            "Epoch 53: Train Loss: 0.0001, Test Loss: 0.0001, Train L1 Norm: 0.0692, Test L1 Norm: 0.0547, Train Linf Norm: 10.1219, Test Linf Norm: 6.3364\n",
            "Epoch 54: Train Loss: 0.0001, Test Loss: 0.0001, Train L1 Norm: 0.0692, Test L1 Norm: 0.0547, Train Linf Norm: 9.5200, Test Linf Norm: 6.3367\n",
            "Epoch 55: Train Loss: 0.0001, Test Loss: 0.0001, Train L1 Norm: 0.0692, Test L1 Norm: 0.0546, Train Linf Norm: 10.1489, Test Linf Norm: 6.3355\n",
            "Epoch 56: Train Loss: 0.0001, Test Loss: 0.0001, Train L1 Norm: 0.0692, Test L1 Norm: 0.0546, Train Linf Norm: 10.6372, Test Linf Norm: 6.3352\n",
            "Epoch 57: Train Loss: 0.0001, Test Loss: 0.0001, Train L1 Norm: 0.0692, Test L1 Norm: 0.0546, Train Linf Norm: 10.6169, Test Linf Norm: 6.3328\n",
            "Epoch 58: Train Loss: 0.0001, Test Loss: 0.0001, Train L1 Norm: 0.0692, Test L1 Norm: 0.0546, Train Linf Norm: 10.6100, Test Linf Norm: 6.3329\n",
            "Epoch 59: Train Loss: 0.0001, Test Loss: 0.0001, Train L1 Norm: 0.0692, Test L1 Norm: 0.0546, Train Linf Norm: 10.3850, Test Linf Norm: 6.3317\n",
            "Epoch 60: Train Loss: 0.0001, Test Loss: 0.0001, Train L1 Norm: 0.0691, Test L1 Norm: 0.0546, Train Linf Norm: 10.5290, Test Linf Norm: 6.3317\n",
            "Epoch 61: Train Loss: 0.0001, Test Loss: 0.0001, Train L1 Norm: 0.0692, Test L1 Norm: 0.0546, Train Linf Norm: 10.4657, Test Linf Norm: 6.3314\n",
            "Epoch 62: Train Loss: 0.0001, Test Loss: 0.0001, Train L1 Norm: 0.0692, Test L1 Norm: 0.0546, Train Linf Norm: 10.3246, Test Linf Norm: 6.3314\n",
            "Epoch 63: Train Loss: 0.0001, Test Loss: 0.0001, Train L1 Norm: 0.0692, Test L1 Norm: 0.0546, Train Linf Norm: 10.5467, Test Linf Norm: 6.3314\n",
            "Epoch 64: Train Loss: 0.0001, Test Loss: 0.0001, Train L1 Norm: 0.0692, Test L1 Norm: 0.0546, Train Linf Norm: 10.3240, Test Linf Norm: 6.3313\n",
            "Epoch 65: Train Loss: 0.0001, Test Loss: 0.0001, Train L1 Norm: 0.0691, Test L1 Norm: 0.0546, Train Linf Norm: 10.5658, Test Linf Norm: 6.3313\n",
            "Epoch 66: Train Loss: 0.0001, Test Loss: 0.0001, Train L1 Norm: 0.0692, Test L1 Norm: 0.0546, Train Linf Norm: 10.0033, Test Linf Norm: 6.3314\n",
            "Epoch 67: Train Loss: 0.0001, Test Loss: 0.0001, Train L1 Norm: 0.0691, Test L1 Norm: 0.0546, Train Linf Norm: 10.6051, Test Linf Norm: 6.3313\n",
            "Epoch 68: Train Loss: 0.0001, Test Loss: 0.0001, Train L1 Norm: 0.0691, Test L1 Norm: 0.0546, Train Linf Norm: 10.4175, Test Linf Norm: 6.3311\n",
            "Epoch 69: Train Loss: 0.0001, Test Loss: 0.0001, Train L1 Norm: 0.0691, Test L1 Norm: 0.0546, Train Linf Norm: 10.3396, Test Linf Norm: 6.3310\n",
            "Epoch 70: Train Loss: 0.0001, Test Loss: 0.0001, Train L1 Norm: 0.0691, Test L1 Norm: 0.0546, Train Linf Norm: 10.2476, Test Linf Norm: 6.3310\n",
            "Epoch 71: Train Loss: 0.0001, Test Loss: 0.0001, Train L1 Norm: 0.0691, Test L1 Norm: 0.0546, Train Linf Norm: 10.4681, Test Linf Norm: 6.3310\n",
            "Epoch 72: Train Loss: 0.0001, Test Loss: 0.0001, Train L1 Norm: 0.0691, Test L1 Norm: 0.0546, Train Linf Norm: 10.5472, Test Linf Norm: 6.3310\n",
            "Epoch 73: Train Loss: 0.0001, Test Loss: 0.0001, Train L1 Norm: 0.0691, Test L1 Norm: 0.0546, Train Linf Norm: 10.4332, Test Linf Norm: 6.3310\n",
            "Epoch 74: Train Loss: 0.0001, Test Loss: 0.0001, Train L1 Norm: 0.0691, Test L1 Norm: 0.0546, Train Linf Norm: 10.2721, Test Linf Norm: 6.3310\n",
            "Epoch 75: Train Loss: 0.0001, Test Loss: 0.0001, Train L1 Norm: 0.0691, Test L1 Norm: 0.0546, Train Linf Norm: 10.2364, Test Linf Norm: 6.3310\n",
            "Epoch 76: Train Loss: 0.0001, Test Loss: 0.0001, Train L1 Norm: 0.0691, Test L1 Norm: 0.0546, Train Linf Norm: 10.3573, Test Linf Norm: 6.3310\n",
            "Epoch 77: Train Loss: 0.0001, Test Loss: 0.0001, Train L1 Norm: 0.0691, Test L1 Norm: 0.0546, Train Linf Norm: 10.3577, Test Linf Norm: 6.3310\n",
            "Epoch 78: Train Loss: 0.0001, Test Loss: 0.0001, Train L1 Norm: 0.0691, Test L1 Norm: 0.0546, Train Linf Norm: 10.5709, Test Linf Norm: 6.3310\n",
            "Epoch 79: Train Loss: 0.0001, Test Loss: 0.0001, Train L1 Norm: 0.0691, Test L1 Norm: 0.0546, Train Linf Norm: 10.5719, Test Linf Norm: 6.3310\n",
            "Epoch 80: Train Loss: 0.0001, Test Loss: 0.0001, Train L1 Norm: 0.0691, Test L1 Norm: 0.0546, Train Linf Norm: 10.4882, Test Linf Norm: 6.3310\n",
            "Epoch 81: Train Loss: 0.0001, Test Loss: 0.0001, Train L1 Norm: 0.0691, Test L1 Norm: 0.0546, Train Linf Norm: 10.0982, Test Linf Norm: 6.3310\n",
            "Epoch 82: Train Loss: 0.0001, Test Loss: 0.0001, Train L1 Norm: 0.0691, Test L1 Norm: 0.0546, Train Linf Norm: 10.1874, Test Linf Norm: 6.3310\n",
            "Epoch 83: Train Loss: 0.0001, Test Loss: 0.0001, Train L1 Norm: 0.0691, Test L1 Norm: 0.0546, Train Linf Norm: 10.6839, Test Linf Norm: 6.3310\n",
            "Epoch 84: Train Loss: 0.0001, Test Loss: 0.0001, Train L1 Norm: 0.0691, Test L1 Norm: 0.0546, Train Linf Norm: 10.4701, Test Linf Norm: 6.3310\n",
            "Epoch 85: Train Loss: 0.0001, Test Loss: 0.0001, Train L1 Norm: 0.0691, Test L1 Norm: 0.0546, Train Linf Norm: 10.4401, Test Linf Norm: 6.3310\n",
            "Epoch 86: Train Loss: 0.0001, Test Loss: 0.0001, Train L1 Norm: 0.0691, Test L1 Norm: 0.0546, Train Linf Norm: 10.3677, Test Linf Norm: 6.3310\n",
            "Epoch 87: Train Loss: 0.0001, Test Loss: 0.0001, Train L1 Norm: 0.0691, Test L1 Norm: 0.0546, Train Linf Norm: 10.4216, Test Linf Norm: 6.3310\n",
            "Epoch 88: Train Loss: 0.0001, Test Loss: 0.0001, Train L1 Norm: 0.0691, Test L1 Norm: 0.0546, Train Linf Norm: 10.5728, Test Linf Norm: 6.3310\n",
            "Epoch 89: Train Loss: 0.0001, Test Loss: 0.0001, Train L1 Norm: 0.0691, Test L1 Norm: 0.0546, Train Linf Norm: 10.4738, Test Linf Norm: 6.3310\n",
            "Epoch 90: Train Loss: 0.0001, Test Loss: 0.0001, Train L1 Norm: 0.0691, Test L1 Norm: 0.0546, Train Linf Norm: 10.4747, Test Linf Norm: 6.3310\n",
            "Epoch 91: Train Loss: 0.0001, Test Loss: 0.0001, Train L1 Norm: 0.0691, Test L1 Norm: 0.0546, Train Linf Norm: 10.5822, Test Linf Norm: 6.3310\n",
            "Epoch 92: Train Loss: 0.0001, Test Loss: 0.0001, Train L1 Norm: 0.0691, Test L1 Norm: 0.0546, Train Linf Norm: 10.5489, Test Linf Norm: 6.3310\n",
            "Epoch 93: Train Loss: 0.0001, Test Loss: 0.0001, Train L1 Norm: 0.0691, Test L1 Norm: 0.0546, Train Linf Norm: 10.2844, Test Linf Norm: 6.3310\n",
            "Epoch 94: Train Loss: 0.0001, Test Loss: 0.0001, Train L1 Norm: 0.0691, Test L1 Norm: 0.0546, Train Linf Norm: 10.5781, Test Linf Norm: 6.3310\n"
          ]
        },
        {
          "output_type": "stream",
          "name": "stderr",
          "text": [
            "\u001b[32m[I 2023-05-13 13:09:39,876]\u001b[0m Trial 4 finished with value: 0.05460544927883893 and parameters: {'n_layers': 1, 'n_units_0': 219, 'hidden_activation': 'ELU', 'output_activation': 'Linear', 'loss': 'LogCosh', 'optimizer': 'RMSprop', 'lr': 0.002311865998988452, 'batch_size': 245, 'n_epochs': 95, 'scheduler': 'StepLR'}. Best is trial 1 with value: 0.012162298429012298.\u001b[0m\n"
          ]
        },
        {
          "output_type": "stream",
          "name": "stdout",
          "text": [
            "Epoch 95: Train Loss: 0.0001, Test Loss: 0.0001, Train L1 Norm: 0.0691, Test L1 Norm: 0.0546, Train Linf Norm: 10.6309, Test Linf Norm: 6.3310\n",
            "Epoch 1: Train Loss: 0.3444, Test Loss: 0.0263, Train L1 Norm: 1.3099, Test L1 Norm: 0.3661, Train Linf Norm: 89.3756, Test Linf Norm: 18.7099\n"
          ]
        },
        {
          "output_type": "stream",
          "name": "stderr",
          "text": [
            "\u001b[32m[I 2023-05-13 13:09:43,930]\u001b[0m Trial 5 pruned. \u001b[0m\n"
          ]
        },
        {
          "output_type": "stream",
          "name": "stdout",
          "text": [
            "Epoch 2: Train Loss: 0.0974, Test Loss: 0.0224, Train L1 Norm: 0.6263, Test L1 Norm: 0.5955, Train Linf Norm: 40.0184, Test Linf Norm: 31.4455\n",
            "Epoch 1: Train Loss: 0.6379, Test Loss: 0.0899, Train L1 Norm: 0.5649, Test L1 Norm: 0.3392, Train Linf Norm: 22.3560, Test Linf Norm: 15.1918\n",
            "Epoch 2: Train Loss: 0.0535, Test Loss: 0.0513, Train L1 Norm: 0.1952, Test L1 Norm: 0.1634, Train Linf Norm: 5.2629, Test Linf Norm: 1.0186\n",
            "Epoch 3: Train Loss: 0.0277, Test Loss: 0.0109, Train L1 Norm: 0.1559, Test L1 Norm: 0.0998, Train Linf Norm: 3.9813, Test Linf Norm: 1.0649\n",
            "Epoch 4: Train Loss: 0.0196, Test Loss: 0.0068, Train L1 Norm: 0.1427, Test L1 Norm: 0.0762, Train Linf Norm: 4.3769, Test Linf Norm: 1.0316\n",
            "Epoch 5: Train Loss: 0.0156, Test Loss: 0.0207, Train L1 Norm: 0.1116, Test L1 Norm: 0.1102, Train Linf Norm: 2.4989, Test Linf Norm: 0.9864\n",
            "Epoch 6: Train Loss: 0.0139, Test Loss: 0.0058, Train L1 Norm: 0.1125, Test L1 Norm: 0.0665, Train Linf Norm: 3.2948, Test Linf Norm: 1.5246\n",
            "Epoch 7: Train Loss: 0.0121, Test Loss: 0.0070, Train L1 Norm: 0.1037, Test L1 Norm: 0.1346, Train Linf Norm: 3.1386, Test Linf Norm: 6.5082\n",
            "Epoch 8: Train Loss: 0.0109, Test Loss: 0.0074, Train L1 Norm: 0.0924, Test L1 Norm: 0.1198, Train Linf Norm: 2.5154, Test Linf Norm: 4.7429\n",
            "Epoch 9: Train Loss: 0.0099, Test Loss: 0.0035, Train L1 Norm: 0.0868, Test L1 Norm: 0.0564, Train Linf Norm: 2.2127, Test Linf Norm: 1.3466\n",
            "Epoch 10: Train Loss: 0.0095, Test Loss: 0.0025, Train L1 Norm: 0.0833, Test L1 Norm: 0.0568, Train Linf Norm: 2.1661, Test Linf Norm: 1.2233\n",
            "Epoch 11: Train Loss: 0.0088, Test Loss: 0.0016, Train L1 Norm: 0.0850, Test L1 Norm: 0.0522, Train Linf Norm: 2.5255, Test Linf Norm: 1.7539\n",
            "Epoch 12: Train Loss: 0.0083, Test Loss: 0.0011, Train L1 Norm: 0.0823, Test L1 Norm: 0.0389, Train Linf Norm: 2.4667, Test Linf Norm: 0.9546\n",
            "Epoch 13: Train Loss: 0.0077, Test Loss: 0.0013, Train L1 Norm: 0.0682, Test L1 Norm: 0.0402, Train Linf Norm: 1.6039, Test Linf Norm: 0.9804\n",
            "Epoch 14: Train Loss: 0.0074, Test Loss: 0.0008, Train L1 Norm: 0.0672, Test L1 Norm: 0.0355, Train Linf Norm: 1.6520, Test Linf Norm: 0.8986\n",
            "Epoch 15: Train Loss: 0.0069, Test Loss: 0.0048, Train L1 Norm: 0.0716, Test L1 Norm: 0.0568, Train Linf Norm: 2.2103, Test Linf Norm: 0.9222\n",
            "Epoch 16: Train Loss: 0.0069, Test Loss: 0.0014, Train L1 Norm: 0.0685, Test L1 Norm: 0.0428, Train Linf Norm: 1.9010, Test Linf Norm: 1.2755\n",
            "Epoch 17: Train Loss: 0.0063, Test Loss: 0.0008, Train L1 Norm: 0.0851, Test L1 Norm: 0.0304, Train Linf Norm: 3.6614, Test Linf Norm: 0.8728\n",
            "Epoch 18: Train Loss: 0.0058, Test Loss: 0.0067, Train L1 Norm: 0.0652, Test L1 Norm: 0.0968, Train Linf Norm: 2.0200, Test Linf Norm: 3.6677\n",
            "Epoch 19: Train Loss: 0.0060, Test Loss: 0.0006, Train L1 Norm: 0.0573, Test L1 Norm: 0.0354, Train Linf Norm: 1.3133, Test Linf Norm: 1.4918\n",
            "Epoch 20: Train Loss: 0.0058, Test Loss: 0.0077, Train L1 Norm: 0.0553, Test L1 Norm: 0.1450, Train Linf Norm: 1.3559, Test Linf Norm: 6.9453\n",
            "Epoch 21: Train Loss: 0.0052, Test Loss: 0.0037, Train L1 Norm: 0.0547, Test L1 Norm: 0.0687, Train Linf Norm: 1.4059, Test Linf Norm: 0.9567\n",
            "Epoch 22: Train Loss: 0.0055, Test Loss: 0.0004, Train L1 Norm: 0.0534, Test L1 Norm: 0.0278, Train Linf Norm: 1.2015, Test Linf Norm: 0.8559\n",
            "Epoch 23: Train Loss: 0.0052, Test Loss: 0.0011, Train L1 Norm: 0.0567, Test L1 Norm: 0.0396, Train Linf Norm: 1.7445, Test Linf Norm: 0.8723\n",
            "Epoch 24: Train Loss: 0.0049, Test Loss: 0.0006, Train L1 Norm: 0.0545, Test L1 Norm: 0.0482, Train Linf Norm: 1.4655, Test Linf Norm: 2.4384\n",
            "Epoch 25: Train Loss: 0.0050, Test Loss: 0.0005, Train L1 Norm: 0.0571, Test L1 Norm: 0.0283, Train Linf Norm: 1.6754, Test Linf Norm: 0.8677\n",
            "Epoch 26: Train Loss: 0.0046, Test Loss: 0.0051, Train L1 Norm: 0.0676, Test L1 Norm: 0.0668, Train Linf Norm: 2.8656, Test Linf Norm: 0.9347\n",
            "Epoch 27: Train Loss: 0.0048, Test Loss: 0.0123, Train L1 Norm: 0.0591, Test L1 Norm: 0.1033, Train Linf Norm: 1.9936, Test Linf Norm: 0.9855\n",
            "Epoch 28: Train Loss: 0.0048, Test Loss: 0.0004, Train L1 Norm: 0.0549, Test L1 Norm: 0.0266, Train Linf Norm: 1.9679, Test Linf Norm: 0.8364\n",
            "Epoch 29: Train Loss: 0.0043, Test Loss: 0.0003, Train L1 Norm: 0.0486, Test L1 Norm: 0.0225, Train Linf Norm: 1.4523, Test Linf Norm: 0.7587\n",
            "Epoch 30: Train Loss: 0.0044, Test Loss: 0.0003, Train L1 Norm: 0.0613, Test L1 Norm: 0.0247, Train Linf Norm: 2.4404, Test Linf Norm: 0.7997\n",
            "Epoch 31: Train Loss: 0.0043, Test Loss: 0.0006, Train L1 Norm: 0.0544, Test L1 Norm: 0.0267, Train Linf Norm: 1.7846, Test Linf Norm: 0.8058\n",
            "Epoch 32: Train Loss: 0.0043, Test Loss: 0.0099, Train L1 Norm: 0.0595, Test L1 Norm: 0.0749, Train Linf Norm: 2.1738, Test Linf Norm: 0.9509\n",
            "Epoch 33: Train Loss: 0.0042, Test Loss: 0.0006, Train L1 Norm: 0.0477, Test L1 Norm: 0.0286, Train Linf Norm: 1.2098, Test Linf Norm: 1.0941\n",
            "Epoch 34: Train Loss: 0.0041, Test Loss: 0.0003, Train L1 Norm: 0.0580, Test L1 Norm: 0.0213, Train Linf Norm: 2.3144, Test Linf Norm: 0.7492\n",
            "Epoch 35: Train Loss: 0.0039, Test Loss: 0.0015, Train L1 Norm: 0.0485, Test L1 Norm: 0.0282, Train Linf Norm: 1.3974, Test Linf Norm: 0.7929\n",
            "Epoch 36: Train Loss: 0.0040, Test Loss: 0.0130, Train L1 Norm: 0.0537, Test L1 Norm: 0.1112, Train Linf Norm: 1.8474, Test Linf Norm: 3.9381\n",
            "Epoch 37: Train Loss: 0.0039, Test Loss: 0.0003, Train L1 Norm: 0.0541, Test L1 Norm: 0.0332, Train Linf Norm: 1.8240, Test Linf Norm: 1.7529\n",
            "Epoch 38: Train Loss: 0.0037, Test Loss: 0.0043, Train L1 Norm: 0.0521, Test L1 Norm: 0.0555, Train Linf Norm: 1.7646, Test Linf Norm: 1.9983\n",
            "Epoch 39: Train Loss: 0.0038, Test Loss: 0.0003, Train L1 Norm: 0.0573, Test L1 Norm: 0.0227, Train Linf Norm: 2.2646, Test Linf Norm: 0.7569\n",
            "Epoch 40: Train Loss: 0.0037, Test Loss: 0.0010, Train L1 Norm: 0.0446, Test L1 Norm: 0.0393, Train Linf Norm: 1.1787, Test Linf Norm: 0.8545\n",
            "Epoch 41: Train Loss: 0.0036, Test Loss: 0.0026, Train L1 Norm: 0.0472, Test L1 Norm: 0.0367, Train Linf Norm: 1.5542, Test Linf Norm: 0.8316\n",
            "Epoch 42: Train Loss: 0.0036, Test Loss: 0.0015, Train L1 Norm: 0.0474, Test L1 Norm: 0.0373, Train Linf Norm: 1.6023, Test Linf Norm: 0.8321\n",
            "Epoch 43: Train Loss: 0.0036, Test Loss: 0.0025, Train L1 Norm: 0.0442, Test L1 Norm: 0.0720, Train Linf Norm: 1.3564, Test Linf Norm: 0.9477\n",
            "Epoch 44: Train Loss: 0.0035, Test Loss: 0.0002, Train L1 Norm: 0.0526, Test L1 Norm: 0.0201, Train Linf Norm: 2.0312, Test Linf Norm: 0.6933\n",
            "Epoch 45: Train Loss: 0.0035, Test Loss: 0.0010, Train L1 Norm: 0.0444, Test L1 Norm: 0.0589, Train Linf Norm: 1.2727, Test Linf Norm: 3.1670\n",
            "Epoch 46: Train Loss: 0.0035, Test Loss: 0.0007, Train L1 Norm: 0.0458, Test L1 Norm: 0.0442, Train Linf Norm: 1.3147, Test Linf Norm: 2.5203\n",
            "Epoch 47: Train Loss: 0.0034, Test Loss: 0.0005, Train L1 Norm: 0.0572, Test L1 Norm: 0.0288, Train Linf Norm: 2.3375, Test Linf Norm: 0.7922\n",
            "Epoch 48: Train Loss: 0.0032, Test Loss: 0.0002, Train L1 Norm: 0.0477, Test L1 Norm: 0.0232, Train Linf Norm: 1.7858, Test Linf Norm: 1.0649\n",
            "Epoch 49: Train Loss: 0.0033, Test Loss: 0.0004, Train L1 Norm: 0.0416, Test L1 Norm: 0.0250, Train Linf Norm: 1.1425, Test Linf Norm: 0.7552\n",
            "Epoch 50: Train Loss: 0.0033, Test Loss: 0.0030, Train L1 Norm: 0.0459, Test L1 Norm: 0.0512, Train Linf Norm: 1.3520, Test Linf Norm: 0.8901\n",
            "Epoch 51: Train Loss: 0.0032, Test Loss: 0.0002, Train L1 Norm: 0.0471, Test L1 Norm: 0.0192, Train Linf Norm: 1.7207, Test Linf Norm: 0.7175\n",
            "Epoch 52: Train Loss: 0.0032, Test Loss: 0.0003, Train L1 Norm: 0.0507, Test L1 Norm: 0.0291, Train Linf Norm: 1.7919, Test Linf Norm: 1.3870\n",
            "Epoch 53: Train Loss: 0.0031, Test Loss: 0.0003, Train L1 Norm: 0.0446, Test L1 Norm: 0.0344, Train Linf Norm: 1.4759, Test Linf Norm: 1.9739\n",
            "Epoch 54: Train Loss: 0.0030, Test Loss: 0.0054, Train L1 Norm: 0.0428, Test L1 Norm: 0.0973, Train Linf Norm: 1.2325, Test Linf Norm: 4.5564\n",
            "Epoch 55: Train Loss: 0.0031, Test Loss: 0.0063, Train L1 Norm: 0.0436, Test L1 Norm: 0.0896, Train Linf Norm: 1.4307, Test Linf Norm: 0.9795\n",
            "Epoch 56: Train Loss: 0.0031, Test Loss: 0.0095, Train L1 Norm: 0.0507, Test L1 Norm: 0.0977, Train Linf Norm: 2.0338, Test Linf Norm: 0.9780\n",
            "Epoch 57: Train Loss: 0.0030, Test Loss: 0.0053, Train L1 Norm: 0.0509, Test L1 Norm: 0.0700, Train Linf Norm: 1.8842, Test Linf Norm: 0.9463\n",
            "Epoch 58: Train Loss: 0.0029, Test Loss: 0.0003, Train L1 Norm: 0.0436, Test L1 Norm: 0.0275, Train Linf Norm: 1.4843, Test Linf Norm: 0.7770\n",
            "Epoch 59: Train Loss: 0.0029, Test Loss: 0.0048, Train L1 Norm: 0.0497, Test L1 Norm: 0.0536, Train Linf Norm: 1.9644, Test Linf Norm: 0.8814\n",
            "Epoch 60: Train Loss: 0.0030, Test Loss: 0.0035, Train L1 Norm: 0.0464, Test L1 Norm: 0.0908, Train Linf Norm: 1.5949, Test Linf Norm: 4.6502\n",
            "Epoch 61: Train Loss: 0.0028, Test Loss: 0.0002, Train L1 Norm: 0.0410, Test L1 Norm: 0.0228, Train Linf Norm: 1.1129, Test Linf Norm: 0.9644\n",
            "Epoch 62: Train Loss: 0.0028, Test Loss: 0.0059, Train L1 Norm: 0.0434, Test L1 Norm: 0.0615, Train Linf Norm: 1.3985, Test Linf Norm: 0.9129\n",
            "Epoch 63: Train Loss: 0.0030, Test Loss: 0.0002, Train L1 Norm: 0.0444, Test L1 Norm: 0.0282, Train Linf Norm: 1.4315, Test Linf Norm: 1.5034\n",
            "Epoch 64: Train Loss: 0.0026, Test Loss: 0.0074, Train L1 Norm: 0.0442, Test L1 Norm: 0.3032, Train Linf Norm: 1.4335, Test Linf Norm: 15.9068\n",
            "Epoch 65: Train Loss: 0.0028, Test Loss: 0.0173, Train L1 Norm: 0.0425, Test L1 Norm: 0.1016, Train Linf Norm: 1.3031, Test Linf Norm: 0.9714\n",
            "Epoch 66: Train Loss: 0.0028, Test Loss: 0.0005, Train L1 Norm: 0.0470, Test L1 Norm: 0.0373, Train Linf Norm: 2.0083, Test Linf Norm: 2.1205\n"
          ]
        },
        {
          "output_type": "stream",
          "name": "stderr",
          "text": [
            "\u001b[32m[I 2023-05-13 13:12:03,036]\u001b[0m Trial 6 finished with value: 0.10186370426788927 and parameters: {'n_layers': 2, 'n_units_0': 223, 'n_units_1': 164, 'hidden_activation': 'Tanh', 'output_activation': 'ReLU', 'loss': 'MSE', 'optimizer': 'RMSprop', 'lr': 0.0001702752375191126, 'batch_size': 90, 'n_epochs': 67, 'scheduler': 'None'}. Best is trial 1 with value: 0.012162298429012298.\u001b[0m\n"
          ]
        },
        {
          "output_type": "stream",
          "name": "stdout",
          "text": [
            "Epoch 67: Train Loss: 0.0028, Test Loss: 0.0085, Train L1 Norm: 0.0474, Test L1 Norm: 0.1019, Train Linf Norm: 1.6959, Test Linf Norm: 0.9847\n"
          ]
        },
        {
          "output_type": "stream",
          "name": "stderr",
          "text": [
            "\u001b[32m[I 2023-05-13 13:12:04,686]\u001b[0m Trial 7 pruned. \u001b[0m\n"
          ]
        },
        {
          "output_type": "stream",
          "name": "stdout",
          "text": [
            "Epoch 1: Train Loss: 2.8128, Test Loss: 2.8210, Train L1 Norm: 1.0000, Test L1 Norm: 1.0000, Train Linf Norm: 1.0000, Test Linf Norm: 1.0000\n"
          ]
        },
        {
          "output_type": "stream",
          "name": "stderr",
          "text": [
            "\u001b[32m[I 2023-05-13 13:12:06,191]\u001b[0m Trial 8 pruned. \u001b[0m\n"
          ]
        },
        {
          "output_type": "stream",
          "name": "stdout",
          "text": [
            "Epoch 1: Train Loss: 2.0979, Test Loss: 1.8959, Train L1 Norm: 11.7428, Test L1 Norm: 14.8307, Train Linf Norm: 1069.5862, Test Linf Norm: 1094.2465\n",
            "Epoch 1: Train Loss: 0.2093, Test Loss: 0.1393, Train L1 Norm: 0.3226, Test L1 Norm: 0.1451, Train Linf Norm: 32.2645, Test Linf Norm: 10.5770\n",
            "Epoch 2: Train Loss: 0.1359, Test Loss: 0.1835, Train L1 Norm: 0.2438, Test L1 Norm: 0.2345, Train Linf Norm: 28.1060, Test Linf Norm: 19.6228\n",
            "Epoch 3: Train Loss: 0.1306, Test Loss: 0.1149, Train L1 Norm: 0.2228, Test L1 Norm: 0.2454, Train Linf Norm: 24.6027, Test Linf Norm: 24.7980\n",
            "Epoch 4: Train Loss: 0.1266, Test Loss: 0.0588, Train L1 Norm: 0.2167, Test L1 Norm: 0.0730, Train Linf Norm: 23.6977, Test Linf Norm: 5.5693\n",
            "Epoch 5: Train Loss: 0.1232, Test Loss: 0.0467, Train L1 Norm: 0.2272, Test L1 Norm: 0.1106, Train Linf Norm: 26.2711, Test Linf Norm: 11.0904\n",
            "Epoch 6: Train Loss: 0.1206, Test Loss: 0.1009, Train L1 Norm: 0.2012, Test L1 Norm: 0.2054, Train Linf Norm: 21.9453, Test Linf Norm: 18.1385\n",
            "Epoch 7: Train Loss: 0.1172, Test Loss: 0.1972, Train L1 Norm: 0.2002, Test L1 Norm: 0.2816, Train Linf Norm: 21.6629, Test Linf Norm: 25.3780\n",
            "Epoch 8: Train Loss: 0.1146, Test Loss: 0.0525, Train L1 Norm: 0.2021, Test L1 Norm: 0.1202, Train Linf Norm: 23.0049, Test Linf Norm: 11.5831\n",
            "Epoch 9: Train Loss: 0.1127, Test Loss: 0.1332, Train L1 Norm: 0.1809, Test L1 Norm: 0.2021, Train Linf Norm: 18.8074, Test Linf Norm: 19.6063\n",
            "Epoch 10: Train Loss: 0.1091, Test Loss: 0.1975, Train L1 Norm: 0.2085, Test L1 Norm: 0.2047, Train Linf Norm: 22.3657, Test Linf Norm: 15.1501\n",
            "Epoch 11: Train Loss: 0.1066, Test Loss: 0.1122, Train L1 Norm: 0.1900, Test L1 Norm: 0.2296, Train Linf Norm: 21.4410, Test Linf Norm: 22.7402\n",
            "Epoch 12: Train Loss: 0.0543, Test Loss: 0.0539, Train L1 Norm: 0.0942, Test L1 Norm: 0.0638, Train Linf Norm: 10.2231, Test Linf Norm: 4.8007\n",
            "Epoch 13: Train Loss: 0.0539, Test Loss: 0.0403, Train L1 Norm: 0.0981, Test L1 Norm: 0.1053, Train Linf Norm: 11.0140, Test Linf Norm: 11.3970\n",
            "Epoch 14: Train Loss: 0.0527, Test Loss: 0.0482, Train L1 Norm: 0.1001, Test L1 Norm: 0.0649, Train Linf Norm: 11.6878, Test Linf Norm: 5.0530\n",
            "Epoch 15: Train Loss: 0.0530, Test Loss: 0.0350, Train L1 Norm: 0.0988, Test L1 Norm: 0.1078, Train Linf Norm: 10.9253, Test Linf Norm: 12.0789\n",
            "Epoch 16: Train Loss: 0.0523, Test Loss: 0.0360, Train L1 Norm: 0.0979, Test L1 Norm: 0.0406, Train Linf Norm: 11.2657, Test Linf Norm: 2.5355\n",
            "Epoch 17: Train Loss: 0.0518, Test Loss: 0.0305, Train L1 Norm: 0.0879, Test L1 Norm: 0.1459, Train Linf Norm: 9.5079, Test Linf Norm: 16.2939\n",
            "Epoch 18: Train Loss: 0.0516, Test Loss: 0.0841, Train L1 Norm: 0.0940, Test L1 Norm: 0.0739, Train Linf Norm: 10.6627, Test Linf Norm: 5.4726\n",
            "Epoch 19: Train Loss: 0.0513, Test Loss: 0.0250, Train L1 Norm: 0.1038, Test L1 Norm: 0.0639, Train Linf Norm: 12.7580, Test Linf Norm: 6.7472\n",
            "Epoch 20: Train Loss: 0.0510, Test Loss: 0.0199, Train L1 Norm: 0.0948, Test L1 Norm: 0.0740, Train Linf Norm: 10.9083, Test Linf Norm: 8.0828\n",
            "Epoch 21: Train Loss: 0.0506, Test Loss: 0.0385, Train L1 Norm: 0.0848, Test L1 Norm: 0.0995, Train Linf Norm: 9.1301, Test Linf Norm: 10.4760\n",
            "Epoch 22: Train Loss: 0.0504, Test Loss: 0.0305, Train L1 Norm: 0.0921, Test L1 Norm: 0.0723, Train Linf Norm: 10.6031, Test Linf Norm: 7.0423\n",
            "Epoch 23: Train Loss: 0.0502, Test Loss: 0.0491, Train L1 Norm: 0.0870, Test L1 Norm: 0.1080, Train Linf Norm: 9.6513, Test Linf Norm: 11.3187\n",
            "Epoch 24: Train Loss: 0.0498, Test Loss: 0.0568, Train L1 Norm: 0.0901, Test L1 Norm: 0.0973, Train Linf Norm: 10.1767, Test Linf Norm: 8.8832\n",
            "Epoch 25: Train Loss: 0.0497, Test Loss: 0.0680, Train L1 Norm: 0.0879, Test L1 Norm: 0.1186, Train Linf Norm: 9.7893, Test Linf Norm: 11.6591\n",
            "Epoch 26: Train Loss: 0.0494, Test Loss: 0.0757, Train L1 Norm: 0.0937, Test L1 Norm: 0.0734, Train Linf Norm: 11.0212, Test Linf Norm: 5.4034\n",
            "Epoch 27: Train Loss: 0.0255, Test Loss: 0.0304, Train L1 Norm: 0.0561, Test L1 Norm: 0.0989, Train Linf Norm: 6.8031, Test Linf Norm: 10.9744\n",
            "Epoch 28: Train Loss: 0.0262, Test Loss: 0.0295, Train L1 Norm: 0.0540, Test L1 Norm: 0.0372, Train Linf Norm: 6.2918, Test Linf Norm: 2.7047\n",
            "Epoch 29: Train Loss: 0.0260, Test Loss: 0.0264, Train L1 Norm: 0.0493, Test L1 Norm: 0.0619, Train Linf Norm: 5.5027, Test Linf Norm: 6.5378\n",
            "Epoch 30: Train Loss: 0.0258, Test Loss: 0.0157, Train L1 Norm: 0.0509, Test L1 Norm: 0.0304, Train Linf Norm: 5.8383, Test Linf Norm: 2.4728\n",
            "Epoch 31: Train Loss: 0.0257, Test Loss: 0.0218, Train L1 Norm: 0.0489, Test L1 Norm: 0.0899, Train Linf Norm: 5.3981, Test Linf Norm: 9.9329\n",
            "Epoch 32: Train Loss: 0.0256, Test Loss: 0.0226, Train L1 Norm: 0.0509, Test L1 Norm: 0.0291, Train Linf Norm: 5.8377, Test Linf Norm: 2.0841\n",
            "Epoch 33: Train Loss: 0.0254, Test Loss: 0.0437, Train L1 Norm: 0.0488, Test L1 Norm: 0.0821, Train Linf Norm: 5.5179, Test Linf Norm: 8.3242\n",
            "Epoch 34: Train Loss: 0.0254, Test Loss: 0.0190, Train L1 Norm: 0.0503, Test L1 Norm: 0.0360, Train Linf Norm: 5.8711, Test Linf Norm: 3.0864\n",
            "Epoch 35: Train Loss: 0.0253, Test Loss: 0.0310, Train L1 Norm: 0.0486, Test L1 Norm: 0.0886, Train Linf Norm: 5.4359, Test Linf Norm: 9.3853\n",
            "Epoch 36: Train Loss: 0.0252, Test Loss: 0.0368, Train L1 Norm: 0.0519, Test L1 Norm: 0.0382, Train Linf Norm: 6.2126, Test Linf Norm: 2.7244\n",
            "Epoch 37: Train Loss: 0.0147, Test Loss: 0.0126, Train L1 Norm: 0.0361, Test L1 Norm: 0.0430, Train Linf Norm: 4.3794, Test Linf Norm: 4.5524\n",
            "Epoch 38: Train Loss: 0.0151, Test Loss: 0.0163, Train L1 Norm: 0.0395, Test L1 Norm: 0.0399, Train Linf Norm: 4.9113, Test Linf Norm: 4.0190\n",
            "Epoch 39: Train Loss: 0.0149, Test Loss: 0.0103, Train L1 Norm: 0.0390, Test L1 Norm: 0.0262, Train Linf Norm: 4.9198, Test Linf Norm: 2.4021\n",
            "Epoch 40: Train Loss: 0.0148, Test Loss: 0.0108, Train L1 Norm: 0.0321, Test L1 Norm: 0.0232, Train Linf Norm: 3.6155, Test Linf Norm: 1.9729\n",
            "Epoch 41: Train Loss: 0.0146, Test Loss: 0.0097, Train L1 Norm: 0.0386, Test L1 Norm: 0.0237, Train Linf Norm: 4.8209, Test Linf Norm: 1.9914\n",
            "Epoch 42: Train Loss: 0.0145, Test Loss: 0.0173, Train L1 Norm: 0.0321, Test L1 Norm: 0.0363, Train Linf Norm: 3.6340, Test Linf Norm: 3.5510\n",
            "Epoch 43: Train Loss: 0.0145, Test Loss: 0.0192, Train L1 Norm: 0.0364, Test L1 Norm: 0.0509, Train Linf Norm: 4.3921, Test Linf Norm: 5.1200\n",
            "Epoch 44: Train Loss: 0.0145, Test Loss: 0.0158, Train L1 Norm: 0.0336, Test L1 Norm: 0.0309, Train Linf Norm: 3.9263, Test Linf Norm: 2.8642\n",
            "Epoch 45: Train Loss: 0.0143, Test Loss: 0.0147, Train L1 Norm: 0.0385, Test L1 Norm: 0.0230, Train Linf Norm: 4.8674, Test Linf Norm: 1.8740\n",
            "Epoch 46: Train Loss: 0.0142, Test Loss: 0.0129, Train L1 Norm: 0.0396, Test L1 Norm: 0.0313, Train Linf Norm: 5.1738, Test Linf Norm: 3.0897\n",
            "Epoch 47: Train Loss: 0.0142, Test Loss: 0.0097, Train L1 Norm: 0.0360, Test L1 Norm: 0.0218, Train Linf Norm: 4.4574, Test Linf Norm: 1.6778\n",
            "Epoch 48: Train Loss: 0.0142, Test Loss: 0.0178, Train L1 Norm: 0.0368, Test L1 Norm: 0.0443, Train Linf Norm: 4.6083, Test Linf Norm: 4.5852\n",
            "Epoch 49: Train Loss: 0.0141, Test Loss: 0.0120, Train L1 Norm: 0.0367, Test L1 Norm: 0.0235, Train Linf Norm: 4.5358, Test Linf Norm: 2.1063\n",
            "Epoch 50: Train Loss: 0.0140, Test Loss: 0.0087, Train L1 Norm: 0.0327, Test L1 Norm: 0.0251, Train Linf Norm: 3.8547, Test Linf Norm: 2.4288\n",
            "Epoch 51: Train Loss: 0.0141, Test Loss: 0.0216, Train L1 Norm: 0.0367, Test L1 Norm: 0.0538, Train Linf Norm: 4.2634, Test Linf Norm: 5.5725\n",
            "Epoch 52: Train Loss: 0.0139, Test Loss: 0.0089, Train L1 Norm: 0.0337, Test L1 Norm: 0.0237, Train Linf Norm: 3.9400, Test Linf Norm: 2.2134\n",
            "Epoch 53: Train Loss: 0.0139, Test Loss: 0.0175, Train L1 Norm: 0.0314, Test L1 Norm: 0.0333, Train Linf Norm: 3.5965, Test Linf Norm: 3.1812\n",
            "Epoch 54: Train Loss: 0.0140, Test Loss: 0.0086, Train L1 Norm: 0.0340, Test L1 Norm: 0.0201, Train Linf Norm: 4.0660, Test Linf Norm: 1.6486\n",
            "Epoch 55: Train Loss: 0.0138, Test Loss: 0.0226, Train L1 Norm: 0.0321, Test L1 Norm: 0.0453, Train Linf Norm: 3.7351, Test Linf Norm: 4.3919\n",
            "Epoch 56: Train Loss: 0.0139, Test Loss: 0.0129, Train L1 Norm: 0.0353, Test L1 Norm: 0.0265, Train Linf Norm: 4.2205, Test Linf Norm: 2.2645\n",
            "Epoch 57: Train Loss: 0.0138, Test Loss: 0.0149, Train L1 Norm: 0.0333, Test L1 Norm: 0.0605, Train Linf Norm: 3.9660, Test Linf Norm: 6.6891\n",
            "Epoch 58: Train Loss: 0.0138, Test Loss: 0.0136, Train L1 Norm: 0.0339, Test L1 Norm: 0.0260, Train Linf Norm: 4.0597, Test Linf Norm: 2.1983\n",
            "Epoch 59: Train Loss: 0.0137, Test Loss: 0.0142, Train L1 Norm: 0.0365, Test L1 Norm: 0.0530, Train Linf Norm: 4.5973, Test Linf Norm: 5.7143\n",
            "Epoch 60: Train Loss: 0.0138, Test Loss: 0.0081, Train L1 Norm: 0.0317, Test L1 Norm: 0.0200, Train Linf Norm: 3.6375, Test Linf Norm: 1.7519\n",
            "Epoch 61: Train Loss: 0.0137, Test Loss: 0.0175, Train L1 Norm: 0.0351, Test L1 Norm: 0.0493, Train Linf Norm: 4.3042, Test Linf Norm: 5.2583\n",
            "Epoch 62: Train Loss: 0.0137, Test Loss: 0.0094, Train L1 Norm: 0.0321, Test L1 Norm: 0.0195, Train Linf Norm: 3.6685, Test Linf Norm: 1.5789\n",
            "Epoch 63: Train Loss: 0.0136, Test Loss: 0.0083, Train L1 Norm: 0.0339, Test L1 Norm: 0.0268, Train Linf Norm: 4.0842, Test Linf Norm: 2.6770\n",
            "Epoch 64: Train Loss: 0.0137, Test Loss: 0.0120, Train L1 Norm: 0.0335, Test L1 Norm: 0.0352, Train Linf Norm: 4.0032, Test Linf Norm: 3.6920\n",
            "Epoch 65: Train Loss: 0.0136, Test Loss: 0.0085, Train L1 Norm: 0.0299, Test L1 Norm: 0.0287, Train Linf Norm: 3.3984, Test Linf Norm: 2.6879\n"
          ]
        },
        {
          "output_type": "stream",
          "name": "stderr",
          "text": [
            "\u001b[32m[I 2023-05-13 13:13:30,026]\u001b[0m Trial 9 finished with value: 0.030238904572091996 and parameters: {'n_layers': 1, 'n_units_0': 145, 'hidden_activation': 'ReLU', 'output_activation': 'Linear', 'loss': 'MAE', 'optimizer': 'RMSprop', 'lr': 0.0007859634379848667, 'batch_size': 197, 'n_epochs': 66, 'scheduler': 'ReduceLROnPlateau'}. Best is trial 1 with value: 0.012162298429012298.\u001b[0m\n"
          ]
        },
        {
          "output_type": "stream",
          "name": "stdout",
          "text": [
            "Epoch 66: Train Loss: 0.0135, Test Loss: 0.0183, Train L1 Norm: 0.0316, Test L1 Norm: 0.0302, Train Linf Norm: 3.6292, Test Linf Norm: 2.4258\n"
          ]
        },
        {
          "output_type": "stream",
          "name": "stderr",
          "text": [
            "\u001b[32m[I 2023-05-13 13:13:35,830]\u001b[0m Trial 10 pruned. \u001b[0m\n"
          ]
        },
        {
          "output_type": "stream",
          "name": "stdout",
          "text": [
            "Epoch 1: Train Loss: 2.3143, Test Loss: 1.6959, Train L1 Norm: 3.2532, Test L1 Norm: 4.4621, Train Linf Norm: 76.5366, Test Linf Norm: 90.0117\n",
            "Epoch 1: Train Loss: 0.1776, Test Loss: 0.0270, Train L1 Norm: 0.3669, Test L1 Norm: 0.0583, Train Linf Norm: 39.3818, Test Linf Norm: 6.1259\n",
            "Epoch 2: Train Loss: 0.0413, Test Loss: 0.0395, Train L1 Norm: 0.0779, Test L1 Norm: 0.0434, Train Linf Norm: 10.2586, Test Linf Norm: 3.4990\n",
            "Epoch 3: Train Loss: 0.0358, Test Loss: 0.0138, Train L1 Norm: 0.0792, Test L1 Norm: 0.0393, Train Linf Norm: 11.2836, Test Linf Norm: 4.2569\n",
            "Epoch 4: Train Loss: 0.0329, Test Loss: 0.0318, Train L1 Norm: 0.0645, Test L1 Norm: 0.0623, Train Linf Norm: 8.7525, Test Linf Norm: 6.9865\n",
            "Epoch 5: Train Loss: 0.0322, Test Loss: 0.0261, Train L1 Norm: 0.0630, Test L1 Norm: 0.0699, Train Linf Norm: 8.4253, Test Linf Norm: 8.1080\n",
            "Epoch 6: Train Loss: 0.0284, Test Loss: 0.0182, Train L1 Norm: 0.0604, Test L1 Norm: 0.0604, Train Linf Norm: 8.6996, Test Linf Norm: 7.3795\n",
            "Epoch 7: Train Loss: 0.0339, Test Loss: 0.0232, Train L1 Norm: 0.0618, Test L1 Norm: 0.0687, Train Linf Norm: 8.5346, Test Linf Norm: 8.1207\n",
            "Epoch 8: Train Loss: 0.0263, Test Loss: 0.0384, Train L1 Norm: 0.0550, Test L1 Norm: 0.0373, Train Linf Norm: 7.7266, Test Linf Norm: 2.3465\n",
            "Epoch 9: Train Loss: 0.0253, Test Loss: 0.0400, Train L1 Norm: 0.0517, Test L1 Norm: 0.0514, Train Linf Norm: 7.3142, Test Linf Norm: 4.8901\n",
            "Epoch 10: Train Loss: 0.0130, Test Loss: 0.0127, Train L1 Norm: 0.0304, Test L1 Norm: 0.0419, Train Linf Norm: 4.1878, Test Linf Norm: 4.9021\n",
            "Epoch 11: Train Loss: 0.0159, Test Loss: 0.0093, Train L1 Norm: 0.0319, Test L1 Norm: 0.0219, Train Linf Norm: 4.1598, Test Linf Norm: 2.2666\n",
            "Epoch 12: Train Loss: 0.0104, Test Loss: 0.0244, Train L1 Norm: 0.0253, Test L1 Norm: 0.0222, Train Linf Norm: 3.5290, Test Linf Norm: 1.4779\n",
            "Epoch 13: Train Loss: 0.0152, Test Loss: 0.0232, Train L1 Norm: 0.0296, Test L1 Norm: 0.0422, Train Linf Norm: 3.9406, Test Linf Norm: 4.2268\n",
            "Epoch 14: Train Loss: 0.0149, Test Loss: 0.0113, Train L1 Norm: 0.0314, Test L1 Norm: 0.0265, Train Linf Norm: 4.2445, Test Linf Norm: 3.1253\n",
            "Epoch 15: Train Loss: 0.0134, Test Loss: 0.0086, Train L1 Norm: 0.0272, Test L1 Norm: 0.0276, Train Linf Norm: 3.6725, Test Linf Norm: 3.2696\n",
            "Epoch 16: Train Loss: 0.0136, Test Loss: 0.0217, Train L1 Norm: 0.0245, Test L1 Norm: 0.0320, Train Linf Norm: 3.0563, Test Linf Norm: 3.1834\n",
            "Epoch 17: Train Loss: 0.0157, Test Loss: 0.0097, Train L1 Norm: 0.0301, Test L1 Norm: 0.0280, Train Linf Norm: 4.0292, Test Linf Norm: 3.2179\n",
            "Epoch 18: Train Loss: 0.0112, Test Loss: 0.0214, Train L1 Norm: 0.0199, Test L1 Norm: 0.0169, Train Linf Norm: 2.4807, Test Linf Norm: 1.3936\n",
            "Epoch 19: Train Loss: 0.0153, Test Loss: 0.0173, Train L1 Norm: 0.0317, Test L1 Norm: 0.0440, Train Linf Norm: 4.4418, Test Linf Norm: 4.6200\n",
            "Epoch 20: Train Loss: 0.0154, Test Loss: 0.0354, Train L1 Norm: 0.0283, Test L1 Norm: 0.0697, Train Linf Norm: 3.6265, Test Linf Norm: 6.6967\n",
            "Epoch 21: Train Loss: 0.0128, Test Loss: 0.0216, Train L1 Norm: 0.0259, Test L1 Norm: 0.0281, Train Linf Norm: 3.3796, Test Linf Norm: 2.0478\n",
            "Epoch 22: Train Loss: 0.0060, Test Loss: 0.0071, Train L1 Norm: 0.0135, Test L1 Norm: 0.0103, Train Linf Norm: 1.7179, Test Linf Norm: 0.8500\n",
            "Epoch 23: Train Loss: 0.0051, Test Loss: 0.0114, Train L1 Norm: 0.0148, Test L1 Norm: 0.0168, Train Linf Norm: 2.1824, Test Linf Norm: 1.6670\n",
            "Epoch 24: Train Loss: 0.0059, Test Loss: 0.0044, Train L1 Norm: 0.0134, Test L1 Norm: 0.0114, Train Linf Norm: 1.7623, Test Linf Norm: 1.1807\n",
            "Epoch 25: Train Loss: 0.0070, Test Loss: 0.0078, Train L1 Norm: 0.0164, Test L1 Norm: 0.0146, Train Linf Norm: 2.2860, Test Linf Norm: 1.5233\n",
            "Epoch 26: Train Loss: 0.0061, Test Loss: 0.0039, Train L1 Norm: 0.0125, Test L1 Norm: 0.0072, Train Linf Norm: 1.5207, Test Linf Norm: 0.6255\n",
            "Epoch 27: Train Loss: 0.0057, Test Loss: 0.0039, Train L1 Norm: 0.0121, Test L1 Norm: 0.0100, Train Linf Norm: 1.5165, Test Linf Norm: 0.9676\n",
            "Epoch 28: Train Loss: 0.0060, Test Loss: 0.0040, Train L1 Norm: 0.0130, Test L1 Norm: 0.0088, Train Linf Norm: 1.7157, Test Linf Norm: 0.8843\n",
            "Epoch 29: Train Loss: 0.0066, Test Loss: 0.0045, Train L1 Norm: 0.0139, Test L1 Norm: 0.0085, Train Linf Norm: 1.7805, Test Linf Norm: 0.7727\n",
            "Epoch 30: Train Loss: 0.0066, Test Loss: 0.0042, Train L1 Norm: 0.0143, Test L1 Norm: 0.0097, Train Linf Norm: 1.8648, Test Linf Norm: 0.9334\n",
            "Epoch 31: Train Loss: 0.0057, Test Loss: 0.0072, Train L1 Norm: 0.0157, Test L1 Norm: 0.0202, Train Linf Norm: 2.2738, Test Linf Norm: 2.1427\n",
            "Epoch 32: Train Loss: 0.0055, Test Loss: 0.0037, Train L1 Norm: 0.0133, Test L1 Norm: 0.0080, Train Linf Norm: 1.8310, Test Linf Norm: 0.7176\n",
            "Epoch 33: Train Loss: 0.0069, Test Loss: 0.0082, Train L1 Norm: 0.0139, Test L1 Norm: 0.0105, Train Linf Norm: 1.8234, Test Linf Norm: 0.8669\n",
            "Epoch 34: Train Loss: 0.0077, Test Loss: 0.0049, Train L1 Norm: 0.0160, Test L1 Norm: 0.0085, Train Linf Norm: 2.1824, Test Linf Norm: 0.8002\n",
            "Epoch 35: Train Loss: 0.0061, Test Loss: 0.0108, Train L1 Norm: 0.0138, Test L1 Norm: 0.0129, Train Linf Norm: 1.9223, Test Linf Norm: 1.0967\n",
            "Epoch 36: Train Loss: 0.0051, Test Loss: 0.0060, Train L1 Norm: 0.0119, Test L1 Norm: 0.0100, Train Linf Norm: 1.5841, Test Linf Norm: 0.8684\n",
            "Epoch 37: Train Loss: 0.0074, Test Loss: 0.0047, Train L1 Norm: 0.0141, Test L1 Norm: 0.0130, Train Linf Norm: 1.7787, Test Linf Norm: 1.5133\n",
            "Epoch 38: Train Loss: 0.0063, Test Loss: 0.0033, Train L1 Norm: 0.0142, Test L1 Norm: 0.0156, Train Linf Norm: 1.8682, Test Linf Norm: 1.9220\n",
            "Epoch 39: Train Loss: 0.0072, Test Loss: 0.0109, Train L1 Norm: 0.0132, Test L1 Norm: 0.0120, Train Linf Norm: 1.6810, Test Linf Norm: 0.9154\n",
            "Epoch 40: Train Loss: 0.0052, Test Loss: 0.0078, Train L1 Norm: 0.0106, Test L1 Norm: 0.0077, Train Linf Norm: 1.3062, Test Linf Norm: 0.5483\n",
            "Epoch 41: Train Loss: 0.0055, Test Loss: 0.0055, Train L1 Norm: 0.0119, Test L1 Norm: 0.0069, Train Linf Norm: 1.5246, Test Linf Norm: 0.4408\n",
            "Epoch 42: Train Loss: 0.0075, Test Loss: 0.0088, Train L1 Norm: 0.0139, Test L1 Norm: 0.0110, Train Linf Norm: 1.8065, Test Linf Norm: 1.1059\n",
            "Epoch 43: Train Loss: 0.0065, Test Loss: 0.0041, Train L1 Norm: 0.0152, Test L1 Norm: 0.0086, Train Linf Norm: 2.0806, Test Linf Norm: 0.8712\n",
            "Epoch 44: Train Loss: 0.0071, Test Loss: 0.0064, Train L1 Norm: 0.0157, Test L1 Norm: 0.0268, Train Linf Norm: 2.2177, Test Linf Norm: 3.0388\n",
            "Epoch 45: Train Loss: 0.0033, Test Loss: 0.0028, Train L1 Norm: 0.0082, Test L1 Norm: 0.0088, Train Linf Norm: 1.1051, Test Linf Norm: 0.9786\n",
            "Epoch 46: Train Loss: 0.0035, Test Loss: 0.0036, Train L1 Norm: 0.0075, Test L1 Norm: 0.0058, Train Linf Norm: 0.9742, Test Linf Norm: 0.4830\n",
            "Epoch 47: Train Loss: 0.0034, Test Loss: 0.0027, Train L1 Norm: 0.0081, Test L1 Norm: 0.0058, Train Linf Norm: 1.0793, Test Linf Norm: 0.5442\n",
            "Epoch 48: Train Loss: 0.0036, Test Loss: 0.0034, Train L1 Norm: 0.0102, Test L1 Norm: 0.0102, Train Linf Norm: 1.4997, Test Linf Norm: 1.0751\n",
            "Epoch 49: Train Loss: 0.0032, Test Loss: 0.0029, Train L1 Norm: 0.0084, Test L1 Norm: 0.0057, Train Linf Norm: 1.1454, Test Linf Norm: 0.5374\n",
            "Epoch 50: Train Loss: 0.0035, Test Loss: 0.0032, Train L1 Norm: 0.0082, Test L1 Norm: 0.0061, Train Linf Norm: 1.0596, Test Linf Norm: 0.5565\n",
            "Epoch 51: Train Loss: 0.0032, Test Loss: 0.0075, Train L1 Norm: 0.0079, Test L1 Norm: 0.0068, Train Linf Norm: 1.0548, Test Linf Norm: 0.5179\n",
            "Epoch 52: Train Loss: 0.0034, Test Loss: 0.0046, Train L1 Norm: 0.0090, Test L1 Norm: 0.0071, Train Linf Norm: 1.2648, Test Linf Norm: 0.6414\n",
            "Epoch 53: Train Loss: 0.0037, Test Loss: 0.0030, Train L1 Norm: 0.0079, Test L1 Norm: 0.0068, Train Linf Norm: 0.9840, Test Linf Norm: 0.6618\n",
            "Epoch 54: Train Loss: 0.0026, Test Loss: 0.0024, Train L1 Norm: 0.0065, Test L1 Norm: 0.0067, Train Linf Norm: 0.8776, Test Linf Norm: 0.7065\n",
            "Epoch 55: Train Loss: 0.0026, Test Loss: 0.0025, Train L1 Norm: 0.0065, Test L1 Norm: 0.0064, Train Linf Norm: 0.8549, Test Linf Norm: 0.6407\n",
            "Epoch 56: Train Loss: 0.0026, Test Loss: 0.0033, Train L1 Norm: 0.0079, Test L1 Norm: 0.0064, Train Linf Norm: 1.1522, Test Linf Norm: 0.6199\n",
            "Epoch 57: Train Loss: 0.0026, Test Loss: 0.0024, Train L1 Norm: 0.0064, Test L1 Norm: 0.0063, Train Linf Norm: 0.8265, Test Linf Norm: 0.6053\n",
            "Epoch 58: Train Loss: 0.0026, Test Loss: 0.0028, Train L1 Norm: 0.0067, Test L1 Norm: 0.0068, Train Linf Norm: 0.8841, Test Linf Norm: 0.6759\n",
            "Epoch 59: Train Loss: 0.0027, Test Loss: 0.0025, Train L1 Norm: 0.0074, Test L1 Norm: 0.0068, Train Linf Norm: 1.0553, Test Linf Norm: 0.7259\n",
            "Epoch 60: Train Loss: 0.0026, Test Loss: 0.0029, Train L1 Norm: 0.0072, Test L1 Norm: 0.0079, Train Linf Norm: 0.9791, Test Linf Norm: 0.8576\n",
            "Epoch 61: Train Loss: 0.0026, Test Loss: 0.0036, Train L1 Norm: 0.0065, Test L1 Norm: 0.0064, Train Linf Norm: 0.8749, Test Linf Norm: 0.5704\n"
          ]
        },
        {
          "output_type": "stream",
          "name": "stderr",
          "text": [
            "\u001b[32m[I 2023-05-13 13:15:04,989]\u001b[0m Trial 11 finished with value: 0.00621732673086226 and parameters: {'n_layers': 3, 'n_units_0': 71, 'n_units_1': 213, 'n_units_2': 102, 'hidden_activation': 'ReLU', 'output_activation': 'Linear', 'loss': 'MAE', 'optimizer': 'Adam', 'lr': 0.0008291796700587207, 'batch_size': 224, 'n_epochs': 62, 'scheduler': 'ReduceLROnPlateau'}. Best is trial 11 with value: 0.00621732673086226.\u001b[0m\n"
          ]
        },
        {
          "output_type": "stream",
          "name": "stdout",
          "text": [
            "Epoch 62: Train Loss: 0.0027, Test Loss: 0.0032, Train L1 Norm: 0.0067, Test L1 Norm: 0.0062, Train Linf Norm: 0.9103, Test Linf Norm: 0.5974\n",
            "Epoch 1: Train Loss: 0.2713, Test Loss: 0.0244, Train L1 Norm: 0.6873, Test L1 Norm: 0.0482, Train Linf Norm: 108.6601, Test Linf Norm: 4.7368\n",
            "Epoch 2: Train Loss: 0.0299, Test Loss: 0.0559, Train L1 Norm: 0.0552, Test L1 Norm: 0.0501, Train Linf Norm: 7.3568, Test Linf Norm: 2.9869\n",
            "Epoch 3: Train Loss: 0.0287, Test Loss: 0.0115, Train L1 Norm: 0.0600, Test L1 Norm: 0.0486, Train Linf Norm: 8.2692, Test Linf Norm: 5.1655\n",
            "Epoch 4: Train Loss: 0.0218, Test Loss: 0.0110, Train L1 Norm: 0.0562, Test L1 Norm: 0.0665, Train Linf Norm: 8.9080, Test Linf Norm: 7.0465\n",
            "Epoch 5: Train Loss: 0.0191, Test Loss: 0.0123, Train L1 Norm: 0.0492, Test L1 Norm: 0.0569, Train Linf Norm: 7.7314, Test Linf Norm: 6.7829\n",
            "Epoch 6: Train Loss: 0.0251, Test Loss: 0.0102, Train L1 Norm: 0.0463, Test L1 Norm: 0.0350, Train Linf Norm: 6.3852, Test Linf Norm: 3.7344\n",
            "Epoch 7: Train Loss: 0.0243, Test Loss: 0.0217, Train L1 Norm: 0.0412, Test L1 Norm: 0.0860, Train Linf Norm: 5.3629, Test Linf Norm: 9.1569\n",
            "Epoch 8: Train Loss: 0.0193, Test Loss: 0.0304, Train L1 Norm: 0.0408, Test L1 Norm: 0.0339, Train Linf Norm: 5.8473, Test Linf Norm: 3.0802\n",
            "Epoch 9: Train Loss: 0.0278, Test Loss: 0.0354, Train L1 Norm: 0.0498, Test L1 Norm: 0.0435, Train Linf Norm: 6.8828, Test Linf Norm: 4.0834\n",
            "Epoch 10: Train Loss: 0.0191, Test Loss: 0.0204, Train L1 Norm: 0.0358, Test L1 Norm: 0.0650, Train Linf Norm: 4.9011, Test Linf Norm: 6.8885\n",
            "Epoch 11: Train Loss: 0.0161, Test Loss: 0.0101, Train L1 Norm: 0.0364, Test L1 Norm: 0.0337, Train Linf Norm: 5.4106, Test Linf Norm: 3.5129\n",
            "Epoch 12: Train Loss: 0.0157, Test Loss: 0.0187, Train L1 Norm: 0.0412, Test L1 Norm: 0.0349, Train Linf Norm: 6.6235, Test Linf Norm: 3.4355\n",
            "Epoch 13: Train Loss: 0.0188, Test Loss: 0.0135, Train L1 Norm: 0.0385, Test L1 Norm: 0.0530, Train Linf Norm: 5.5924, Test Linf Norm: 5.6996\n",
            "Epoch 14: Train Loss: 0.0181, Test Loss: 0.0432, Train L1 Norm: 0.0354, Test L1 Norm: 0.0672, Train Linf Norm: 5.1078, Test Linf Norm: 5.5355\n",
            "Epoch 15: Train Loss: 0.0196, Test Loss: 0.0150, Train L1 Norm: 0.0369, Test L1 Norm: 0.0634, Train Linf Norm: 5.2329, Test Linf Norm: 7.0498\n",
            "Epoch 16: Train Loss: 0.0196, Test Loss: 0.0301, Train L1 Norm: 0.0379, Test L1 Norm: 0.0289, Train Linf Norm: 5.4796, Test Linf Norm: 1.4535\n",
            "Epoch 17: Train Loss: 0.0204, Test Loss: 0.0223, Train L1 Norm: 0.0388, Test L1 Norm: 0.0443, Train Linf Norm: 5.5822, Test Linf Norm: 4.5389\n",
            "Epoch 18: Train Loss: 0.0079, Test Loss: 0.0062, Train L1 Norm: 0.0193, Test L1 Norm: 0.0240, Train Linf Norm: 2.8854, Test Linf Norm: 2.6686\n",
            "Epoch 19: Train Loss: 0.0073, Test Loss: 0.0093, Train L1 Norm: 0.0180, Test L1 Norm: 0.0192, Train Linf Norm: 2.7043, Test Linf Norm: 1.9294\n",
            "Epoch 20: Train Loss: 0.0078, Test Loss: 0.0064, Train L1 Norm: 0.0189, Test L1 Norm: 0.0268, Train Linf Norm: 2.8812, Test Linf Norm: 2.8983\n",
            "Epoch 21: Train Loss: 0.0105, Test Loss: 0.0053, Train L1 Norm: 0.0223, Test L1 Norm: 0.0170, Train Linf Norm: 3.2052, Test Linf Norm: 1.7465\n",
            "Epoch 22: Train Loss: 0.0085, Test Loss: 0.0051, Train L1 Norm: 0.0182, Test L1 Norm: 0.0184, Train Linf Norm: 2.5671, Test Linf Norm: 1.9723\n",
            "Epoch 23: Train Loss: 0.0117, Test Loss: 0.0212, Train L1 Norm: 0.0232, Test L1 Norm: 0.0207, Train Linf Norm: 3.1954, Test Linf Norm: 1.7899\n",
            "Epoch 24: Train Loss: 0.0088, Test Loss: 0.0147, Train L1 Norm: 0.0200, Test L1 Norm: 0.0205, Train Linf Norm: 2.8798, Test Linf Norm: 1.7764\n",
            "Epoch 25: Train Loss: 0.0081, Test Loss: 0.0054, Train L1 Norm: 0.0177, Test L1 Norm: 0.0169, Train Linf Norm: 2.5706, Test Linf Norm: 1.7619\n",
            "Epoch 26: Train Loss: 0.0076, Test Loss: 0.0064, Train L1 Norm: 0.0182, Test L1 Norm: 0.0216, Train Linf Norm: 2.7195, Test Linf Norm: 2.3348\n",
            "Epoch 27: Train Loss: 0.0082, Test Loss: 0.0080, Train L1 Norm: 0.0199, Test L1 Norm: 0.0149, Train Linf Norm: 2.9906, Test Linf Norm: 1.3640\n",
            "Epoch 28: Train Loss: 0.0085, Test Loss: 0.0056, Train L1 Norm: 0.0180, Test L1 Norm: 0.0155, Train Linf Norm: 2.6166, Test Linf Norm: 1.5602\n",
            "Epoch 29: Train Loss: 0.0047, Test Loss: 0.0044, Train L1 Norm: 0.0117, Test L1 Norm: 0.0117, Train Linf Norm: 1.6825, Test Linf Norm: 1.0850\n",
            "Epoch 30: Train Loss: 0.0045, Test Loss: 0.0036, Train L1 Norm: 0.0113, Test L1 Norm: 0.0161, Train Linf Norm: 1.6096, Test Linf Norm: 1.7499\n",
            "Epoch 31: Train Loss: 0.0050, Test Loss: 0.0046, Train L1 Norm: 0.0127, Test L1 Norm: 0.0083, Train Linf Norm: 1.9174, Test Linf Norm: 0.7226\n",
            "Epoch 32: Train Loss: 0.0048, Test Loss: 0.0052, Train L1 Norm: 0.0112, Test L1 Norm: 0.0142, Train Linf Norm: 1.5824, Test Linf Norm: 1.5732\n",
            "Epoch 33: Train Loss: 0.0053, Test Loss: 0.0039, Train L1 Norm: 0.0134, Test L1 Norm: 0.0112, Train Linf Norm: 2.0642, Test Linf Norm: 1.1219\n",
            "Epoch 34: Train Loss: 0.0045, Test Loss: 0.0065, Train L1 Norm: 0.0125, Test L1 Norm: 0.0235, Train Linf Norm: 1.9244, Test Linf Norm: 2.4879\n",
            "Epoch 35: Train Loss: 0.0059, Test Loss: 0.0054, Train L1 Norm: 0.0127, Test L1 Norm: 0.0118, Train Linf Norm: 1.7567, Test Linf Norm: 1.1730\n",
            "Epoch 36: Train Loss: 0.0049, Test Loss: 0.0041, Train L1 Norm: 0.0112, Test L1 Norm: 0.0124, Train Linf Norm: 1.4987, Test Linf Norm: 1.2437\n",
            "Epoch 37: Train Loss: 0.0033, Test Loss: 0.0030, Train L1 Norm: 0.0092, Test L1 Norm: 0.0076, Train Linf Norm: 1.3290, Test Linf Norm: 0.7822\n",
            "Epoch 38: Train Loss: 0.0032, Test Loss: 0.0030, Train L1 Norm: 0.0100, Test L1 Norm: 0.0086, Train Linf Norm: 1.5518, Test Linf Norm: 0.8365\n",
            "Epoch 39: Train Loss: 0.0034, Test Loss: 0.0031, Train L1 Norm: 0.0100, Test L1 Norm: 0.0078, Train Linf Norm: 1.5341, Test Linf Norm: 0.7612\n",
            "Epoch 40: Train Loss: 0.0033, Test Loss: 0.0051, Train L1 Norm: 0.0096, Test L1 Norm: 0.0086, Train Linf Norm: 1.4611, Test Linf Norm: 0.7941\n",
            "Epoch 41: Train Loss: 0.0034, Test Loss: 0.0028, Train L1 Norm: 0.0096, Test L1 Norm: 0.0083, Train Linf Norm: 1.4243, Test Linf Norm: 0.8327\n",
            "Epoch 42: Train Loss: 0.0031, Test Loss: 0.0026, Train L1 Norm: 0.0090, Test L1 Norm: 0.0079, Train Linf Norm: 1.3185, Test Linf Norm: 0.7989\n",
            "Epoch 43: Train Loss: 0.0034, Test Loss: 0.0032, Train L1 Norm: 0.0094, Test L1 Norm: 0.0057, Train Linf Norm: 1.3613, Test Linf Norm: 0.4758\n",
            "Epoch 44: Train Loss: 0.0033, Test Loss: 0.0036, Train L1 Norm: 0.0088, Test L1 Norm: 0.0074, Train Linf Norm: 1.2798, Test Linf Norm: 0.7178\n",
            "Epoch 45: Train Loss: 0.0033, Test Loss: 0.0027, Train L1 Norm: 0.0091, Test L1 Norm: 0.0070, Train Linf Norm: 1.3425, Test Linf Norm: 0.7489\n",
            "Epoch 46: Train Loss: 0.0031, Test Loss: 0.0026, Train L1 Norm: 0.0085, Test L1 Norm: 0.0066, Train Linf Norm: 1.2053, Test Linf Norm: 0.6459\n",
            "Epoch 47: Train Loss: 0.0031, Test Loss: 0.0058, Train L1 Norm: 0.0083, Test L1 Norm: 0.0170, Train Linf Norm: 1.1607, Test Linf Norm: 2.0383\n",
            "Epoch 48: Train Loss: 0.0031, Test Loss: 0.0041, Train L1 Norm: 0.0089, Test L1 Norm: 0.0065, Train Linf Norm: 1.3375, Test Linf Norm: 0.5698\n",
            "Epoch 49: Train Loss: 0.0034, Test Loss: 0.0026, Train L1 Norm: 0.0090, Test L1 Norm: 0.0104, Train Linf Norm: 1.3204, Test Linf Norm: 1.1421\n",
            "Epoch 50: Train Loss: 0.0033, Test Loss: 0.0027, Train L1 Norm: 0.0076, Test L1 Norm: 0.0059, Train Linf Norm: 1.0292, Test Linf Norm: 0.5689\n",
            "Epoch 51: Train Loss: 0.0030, Test Loss: 0.0024, Train L1 Norm: 0.0080, Test L1 Norm: 0.0061, Train Linf Norm: 1.1500, Test Linf Norm: 0.5973\n",
            "Epoch 52: Train Loss: 0.0033, Test Loss: 0.0025, Train L1 Norm: 0.0090, Test L1 Norm: 0.0058, Train Linf Norm: 1.3810, Test Linf Norm: 0.5564\n",
            "Epoch 53: Train Loss: 0.0030, Test Loss: 0.0027, Train L1 Norm: 0.0081, Test L1 Norm: 0.0050, Train Linf Norm: 1.1558, Test Linf Norm: 0.4310\n",
            "Epoch 54: Train Loss: 0.0041, Test Loss: 0.0038, Train L1 Norm: 0.0094, Test L1 Norm: 0.0098, Train Linf Norm: 1.3471, Test Linf Norm: 0.9689\n",
            "Epoch 55: Train Loss: 0.0027, Test Loss: 0.0030, Train L1 Norm: 0.0085, Test L1 Norm: 0.0071, Train Linf Norm: 1.3162, Test Linf Norm: 0.6784\n",
            "Epoch 56: Train Loss: 0.0030, Test Loss: 0.0025, Train L1 Norm: 0.0083, Test L1 Norm: 0.0063, Train Linf Norm: 1.1786, Test Linf Norm: 0.6072\n",
            "Epoch 57: Train Loss: 0.0034, Test Loss: 0.0040, Train L1 Norm: 0.0085, Test L1 Norm: 0.0109, Train Linf Norm: 1.2433, Test Linf Norm: 1.0714\n"
          ]
        },
        {
          "output_type": "stream",
          "name": "stderr",
          "text": [
            "\u001b[32m[I 2023-05-13 13:16:23,641]\u001b[0m Trial 12 finished with value: 0.004908584640570916 and parameters: {'n_layers': 3, 'n_units_0': 50, 'n_units_1': 216, 'n_units_2': 91, 'hidden_activation': 'ReLU', 'output_activation': 'Linear', 'loss': 'MAE', 'optimizer': 'Adam', 'lr': 0.0004129967516867235, 'batch_size': 247, 'n_epochs': 58, 'scheduler': 'ReduceLROnPlateau'}. Best is trial 12 with value: 0.004908584640570916.\u001b[0m\n"
          ]
        },
        {
          "output_type": "stream",
          "name": "stdout",
          "text": [
            "Epoch 58: Train Loss: 0.0024, Test Loss: 0.0024, Train L1 Norm: 0.0074, Test L1 Norm: 0.0049, Train Linf Norm: 1.0861, Test Linf Norm: 0.4456\n",
            "Epoch 1: Train Loss: 0.2477, Test Loss: 0.0240, Train L1 Norm: 0.4615, Test L1 Norm: 0.1042, Train Linf Norm: 63.6335, Test Linf Norm: 8.5883\n",
            "Epoch 2: Train Loss: 0.0371, Test Loss: 0.0441, Train L1 Norm: 0.0584, Test L1 Norm: 0.0457, Train Linf Norm: 7.8297, Test Linf Norm: 2.8432\n",
            "Epoch 3: Train Loss: 0.0332, Test Loss: 0.0092, Train L1 Norm: 0.0509, Test L1 Norm: 0.0266, Train Linf Norm: 6.8943, Test Linf Norm: 2.1737\n",
            "Epoch 4: Train Loss: 0.0386, Test Loss: 0.0255, Train L1 Norm: 0.0504, Test L1 Norm: 0.0494, Train Linf Norm: 6.1772, Test Linf Norm: 3.3932\n",
            "Epoch 5: Train Loss: 0.0334, Test Loss: 0.0391, Train L1 Norm: 0.0546, Test L1 Norm: 0.0731, Train Linf Norm: 7.7924, Test Linf Norm: 5.5054\n",
            "Epoch 6: Train Loss: 0.0276, Test Loss: 0.0543, Train L1 Norm: 0.0430, Test L1 Norm: 0.0925, Train Linf Norm: 5.9575, Test Linf Norm: 7.0358\n",
            "Epoch 7: Train Loss: 0.0270, Test Loss: 0.0236, Train L1 Norm: 0.0381, Test L1 Norm: 0.0309, Train Linf Norm: 5.1378, Test Linf Norm: 2.0363\n",
            "Epoch 8: Train Loss: 0.0244, Test Loss: 0.0230, Train L1 Norm: 0.0402, Test L1 Norm: 0.1009, Train Linf Norm: 5.8046, Test Linf Norm: 8.0159\n",
            "Epoch 9: Train Loss: 0.0248, Test Loss: 0.0346, Train L1 Norm: 0.0485, Test L1 Norm: 0.0700, Train Linf Norm: 7.7301, Test Linf Norm: 4.8744\n",
            "Epoch 10: Train Loss: 0.0109, Test Loss: 0.0055, Train L1 Norm: 0.0213, Test L1 Norm: 0.0264, Train Linf Norm: 3.1307, Test Linf Norm: 1.9953\n",
            "Epoch 11: Train Loss: 0.0108, Test Loss: 0.0158, Train L1 Norm: 0.0205, Test L1 Norm: 0.0251, Train Linf Norm: 2.9120, Test Linf Norm: 1.9626\n",
            "Epoch 12: Train Loss: 0.0121, Test Loss: 0.0267, Train L1 Norm: 0.0240, Test L1 Norm: 0.0479, Train Linf Norm: 3.5976, Test Linf Norm: 3.1409\n",
            "Epoch 13: Train Loss: 0.0090, Test Loss: 0.0074, Train L1 Norm: 0.0233, Test L1 Norm: 0.0250, Train Linf Norm: 3.7643, Test Linf Norm: 1.8970\n",
            "Epoch 14: Train Loss: 0.0112, Test Loss: 0.0057, Train L1 Norm: 0.0212, Test L1 Norm: 0.0263, Train Linf Norm: 3.0338, Test Linf Norm: 1.9521\n",
            "Epoch 15: Train Loss: 0.0111, Test Loss: 0.0247, Train L1 Norm: 0.0213, Test L1 Norm: 0.0395, Train Linf Norm: 3.1871, Test Linf Norm: 2.6015\n",
            "Epoch 16: Train Loss: 0.0131, Test Loss: 0.0145, Train L1 Norm: 0.0244, Test L1 Norm: 0.0266, Train Linf Norm: 3.6319, Test Linf Norm: 2.1155\n",
            "Epoch 17: Train Loss: 0.0053, Test Loss: 0.0051, Train L1 Norm: 0.0161, Test L1 Norm: 0.0196, Train Linf Norm: 2.6030, Test Linf Norm: 1.6596\n",
            "Epoch 18: Train Loss: 0.0056, Test Loss: 0.0043, Train L1 Norm: 0.0137, Test L1 Norm: 0.0177, Train Linf Norm: 2.0120, Test Linf Norm: 1.4293\n",
            "Epoch 19: Train Loss: 0.0059, Test Loss: 0.0055, Train L1 Norm: 0.0132, Test L1 Norm: 0.0192, Train Linf Norm: 1.8444, Test Linf Norm: 1.6592\n",
            "Epoch 20: Train Loss: 0.0061, Test Loss: 0.0043, Train L1 Norm: 0.0134, Test L1 Norm: 0.0177, Train Linf Norm: 1.9422, Test Linf Norm: 1.5145\n",
            "Epoch 21: Train Loss: 0.0066, Test Loss: 0.0190, Train L1 Norm: 0.0144, Test L1 Norm: 0.0276, Train Linf Norm: 2.0957, Test Linf Norm: 1.9318\n",
            "Epoch 22: Train Loss: 0.0056, Test Loss: 0.0038, Train L1 Norm: 0.0136, Test L1 Norm: 0.0201, Train Linf Norm: 1.9863, Test Linf Norm: 1.6299\n",
            "Epoch 23: Train Loss: 0.0059, Test Loss: 0.0053, Train L1 Norm: 0.0130, Test L1 Norm: 0.0192, Train Linf Norm: 1.8521, Test Linf Norm: 1.5171\n",
            "Epoch 24: Train Loss: 0.0066, Test Loss: 0.0121, Train L1 Norm: 0.0125, Test L1 Norm: 0.0205, Train Linf Norm: 1.6957, Test Linf Norm: 1.6342\n",
            "Epoch 25: Train Loss: 0.0070, Test Loss: 0.0052, Train L1 Norm: 0.0119, Test L1 Norm: 0.0260, Train Linf Norm: 1.4959, Test Linf Norm: 1.8293\n",
            "Epoch 26: Train Loss: 0.0057, Test Loss: 0.0053, Train L1 Norm: 0.0113, Test L1 Norm: 0.0163, Train Linf Norm: 1.5128, Test Linf Norm: 1.2777\n",
            "Epoch 27: Train Loss: 0.0048, Test Loss: 0.0088, Train L1 Norm: 0.0106, Test L1 Norm: 0.0164, Train Linf Norm: 1.4436, Test Linf Norm: 1.2854\n",
            "Epoch 28: Train Loss: 0.0067, Test Loss: 0.0037, Train L1 Norm: 0.0129, Test L1 Norm: 0.0179, Train Linf Norm: 1.7730, Test Linf Norm: 1.3343\n",
            "Epoch 29: Train Loss: 0.0058, Test Loss: 0.0054, Train L1 Norm: 0.0118, Test L1 Norm: 0.0179, Train Linf Norm: 1.5593, Test Linf Norm: 1.4925\n",
            "Epoch 30: Train Loss: 0.0066, Test Loss: 0.0047, Train L1 Norm: 0.0136, Test L1 Norm: 0.0177, Train Linf Norm: 1.9863, Test Linf Norm: 1.6648\n",
            "Epoch 31: Train Loss: 0.0066, Test Loss: 0.0150, Train L1 Norm: 0.0126, Test L1 Norm: 0.0228, Train Linf Norm: 1.7294, Test Linf Norm: 1.4432\n",
            "Epoch 32: Train Loss: 0.0082, Test Loss: 0.0070, Train L1 Norm: 0.0140, Test L1 Norm: 0.0168, Train Linf Norm: 1.8468, Test Linf Norm: 1.3668\n",
            "Epoch 33: Train Loss: 0.0058, Test Loss: 0.0032, Train L1 Norm: 0.0136, Test L1 Norm: 0.0182, Train Linf Norm: 2.0916, Test Linf Norm: 1.5589\n",
            "Epoch 34: Train Loss: 0.0060, Test Loss: 0.0050, Train L1 Norm: 0.0123, Test L1 Norm: 0.0141, Train Linf Norm: 1.7301, Test Linf Norm: 1.1665\n",
            "Epoch 35: Train Loss: 0.0067, Test Loss: 0.0064, Train L1 Norm: 0.0124, Test L1 Norm: 0.0139, Train Linf Norm: 1.7515, Test Linf Norm: 1.1051\n",
            "Epoch 36: Train Loss: 0.0052, Test Loss: 0.0039, Train L1 Norm: 0.0113, Test L1 Norm: 0.0152, Train Linf Norm: 1.6053, Test Linf Norm: 1.2085\n",
            "Epoch 37: Train Loss: 0.0062, Test Loss: 0.0037, Train L1 Norm: 0.0138, Test L1 Norm: 0.0155, Train Linf Norm: 2.1293, Test Linf Norm: 1.1849\n",
            "Epoch 38: Train Loss: 0.0051, Test Loss: 0.0054, Train L1 Norm: 0.0120, Test L1 Norm: 0.0189, Train Linf Norm: 1.8237, Test Linf Norm: 1.4746\n",
            "Epoch 39: Train Loss: 0.0084, Test Loss: 0.0092, Train L1 Norm: 0.0134, Test L1 Norm: 0.0093, Train Linf Norm: 1.8095, Test Linf Norm: 0.7440\n",
            "Epoch 40: Train Loss: 0.0032, Test Loss: 0.0033, Train L1 Norm: 0.0088, Test L1 Norm: 0.0150, Train Linf Norm: 1.2856, Test Linf Norm: 1.2574\n",
            "Epoch 41: Train Loss: 0.0032, Test Loss: 0.0026, Train L1 Norm: 0.0085, Test L1 Norm: 0.0125, Train Linf Norm: 1.1986, Test Linf Norm: 1.1329\n",
            "Epoch 42: Train Loss: 0.0031, Test Loss: 0.0025, Train L1 Norm: 0.0074, Test L1 Norm: 0.0109, Train Linf Norm: 0.8958, Test Linf Norm: 0.9262\n",
            "Epoch 43: Train Loss: 0.0035, Test Loss: 0.0036, Train L1 Norm: 0.0087, Test L1 Norm: 0.0104, Train Linf Norm: 1.2456, Test Linf Norm: 0.8927\n",
            "Epoch 44: Train Loss: 0.0032, Test Loss: 0.0038, Train L1 Norm: 0.0085, Test L1 Norm: 0.0121, Train Linf Norm: 1.2193, Test Linf Norm: 1.0049\n",
            "Epoch 45: Train Loss: 0.0034, Test Loss: 0.0047, Train L1 Norm: 0.0089, Test L1 Norm: 0.0127, Train Linf Norm: 1.3112, Test Linf Norm: 1.1018\n",
            "Epoch 46: Train Loss: 0.0035, Test Loss: 0.0024, Train L1 Norm: 0.0084, Test L1 Norm: 0.0097, Train Linf Norm: 1.1596, Test Linf Norm: 0.8870\n",
            "Epoch 47: Train Loss: 0.0034, Test Loss: 0.0031, Train L1 Norm: 0.0089, Test L1 Norm: 0.0134, Train Linf Norm: 1.3210, Test Linf Norm: 1.1529\n",
            "Epoch 48: Train Loss: 0.0037, Test Loss: 0.0028, Train L1 Norm: 0.0089, Test L1 Norm: 0.0099, Train Linf Norm: 1.2119, Test Linf Norm: 0.8938\n",
            "Epoch 49: Train Loss: 0.0033, Test Loss: 0.0026, Train L1 Norm: 0.0083, Test L1 Norm: 0.0146, Train Linf Norm: 1.1509, Test Linf Norm: 1.1210\n",
            "Epoch 50: Train Loss: 0.0032, Test Loss: 0.0047, Train L1 Norm: 0.0079, Test L1 Norm: 0.0121, Train Linf Norm: 1.0393, Test Linf Norm: 1.0395\n",
            "Epoch 51: Train Loss: 0.0034, Test Loss: 0.0042, Train L1 Norm: 0.0083, Test L1 Norm: 0.0120, Train Linf Norm: 1.1662, Test Linf Norm: 0.9704\n",
            "Epoch 52: Train Loss: 0.0032, Test Loss: 0.0049, Train L1 Norm: 0.0081, Test L1 Norm: 0.0098, Train Linf Norm: 1.1330, Test Linf Norm: 0.9645\n",
            "Epoch 53: Train Loss: 0.0024, Test Loss: 0.0024, Train L1 Norm: 0.0074, Test L1 Norm: 0.0095, Train Linf Norm: 1.0861, Test Linf Norm: 0.8225\n",
            "Epoch 54: Train Loss: 0.0023, Test Loss: 0.0022, Train L1 Norm: 0.0069, Test L1 Norm: 0.0100, Train Linf Norm: 0.9330, Test Linf Norm: 0.8511\n",
            "Epoch 55: Train Loss: 0.0024, Test Loss: 0.0023, Train L1 Norm: 0.0068, Test L1 Norm: 0.0108, Train Linf Norm: 0.9474, Test Linf Norm: 0.9217\n",
            "Epoch 56: Train Loss: 0.0026, Test Loss: 0.0036, Train L1 Norm: 0.0076, Test L1 Norm: 0.0129, Train Linf Norm: 1.1062, Test Linf Norm: 1.0220\n",
            "Epoch 57: Train Loss: 0.0025, Test Loss: 0.0024, Train L1 Norm: 0.0073, Test L1 Norm: 0.0119, Train Linf Norm: 1.0308, Test Linf Norm: 0.9838\n",
            "Epoch 58: Train Loss: 0.0025, Test Loss: 0.0024, Train L1 Norm: 0.0073, Test L1 Norm: 0.0111, Train Linf Norm: 1.0451, Test Linf Norm: 0.9479\n",
            "Epoch 59: Train Loss: 0.0025, Test Loss: 0.0024, Train L1 Norm: 0.0066, Test L1 Norm: 0.0118, Train Linf Norm: 0.8796, Test Linf Norm: 1.0257\n"
          ]
        },
        {
          "output_type": "stream",
          "name": "stderr",
          "text": [
            "\u001b[32m[I 2023-05-13 13:17:43,910]\u001b[0m Trial 13 finished with value: 0.01123694357916247 and parameters: {'n_layers': 3, 'n_units_0': 39, 'n_units_1': 256, 'n_units_2': 88, 'hidden_activation': 'LeakyReLU', 'output_activation': 'Linear', 'loss': 'MAE', 'optimizer': 'Adam', 'lr': 0.0003777879663237243, 'batch_size': 255, 'n_epochs': 60, 'scheduler': 'ReduceLROnPlateau'}. Best is trial 12 with value: 0.004908584640570916.\u001b[0m\n"
          ]
        },
        {
          "output_type": "stream",
          "name": "stdout",
          "text": [
            "Epoch 60: Train Loss: 0.0023, Test Loss: 0.0022, Train L1 Norm: 0.0074, Test L1 Norm: 0.0112, Train Linf Norm: 1.0901, Test Linf Norm: 0.9626\n",
            "Epoch 1: Train Loss: 0.6759, Test Loss: 0.0009, Train L1 Norm: 0.8913, Test L1 Norm: 0.0555, Train Linf Norm: 145.2949, Test Linf Norm: 6.0789\n",
            "Epoch 2: Train Loss: 0.0006, Test Loss: 0.0004, Train L1 Norm: 0.0501, Test L1 Norm: 0.0378, Train Linf Norm: 6.0704, Test Linf Norm: 4.4765\n",
            "Epoch 3: Train Loss: 0.0004, Test Loss: 0.0003, Train L1 Norm: 0.0340, Test L1 Norm: 0.0343, Train Linf Norm: 3.9031, Test Linf Norm: 4.5295\n",
            "Epoch 4: Train Loss: 0.0003, Test Loss: 0.0002, Train L1 Norm: 0.0347, Test L1 Norm: 0.0376, Train Linf Norm: 4.3534, Test Linf Norm: 5.0738\n",
            "Epoch 5: Train Loss: 0.0002, Test Loss: 0.0004, Train L1 Norm: 0.0340, Test L1 Norm: 0.0325, Train Linf Norm: 4.5799, Test Linf Norm: 4.3154\n",
            "Epoch 6: Train Loss: 0.0002, Test Loss: 0.0001, Train L1 Norm: 0.0353, Test L1 Norm: 0.0247, Train Linf Norm: 4.9270, Test Linf Norm: 2.9024\n",
            "Epoch 7: Train Loss: 0.0003, Test Loss: 0.0003, Train L1 Norm: 0.0395, Test L1 Norm: 0.0191, Train Linf Norm: 5.8258, Test Linf Norm: 1.7523\n",
            "Epoch 8: Train Loss: 0.0004, Test Loss: 0.0004, Train L1 Norm: 0.0354, Test L1 Norm: 0.0440, Train Linf Norm: 4.8019, Test Linf Norm: 5.8586\n",
            "Epoch 9: Train Loss: 0.0002, Test Loss: 0.0002, Train L1 Norm: 0.0271, Test L1 Norm: 0.0200, Train Linf Norm: 3.2878, Test Linf Norm: 2.1510\n",
            "Epoch 10: Train Loss: 0.0005, Test Loss: 0.0005, Train L1 Norm: 0.0383, Test L1 Norm: 0.0315, Train Linf Norm: 5.4464, Test Linf Norm: 3.8355\n",
            "Epoch 11: Train Loss: 0.0002, Test Loss: 0.0006, Train L1 Norm: 0.0306, Test L1 Norm: 0.0309, Train Linf Norm: 4.3944, Test Linf Norm: 3.4711\n",
            "Epoch 12: Train Loss: 0.0006, Test Loss: 0.0001, Train L1 Norm: 0.0317, Test L1 Norm: 0.0327, Train Linf Norm: 3.9530, Test Linf Norm: 4.2374\n",
            "Epoch 13: Train Loss: 0.0012, Test Loss: 0.0014, Train L1 Norm: 0.0296, Test L1 Norm: 0.0376, Train Linf Norm: 3.4984, Test Linf Norm: 3.3692\n",
            "Epoch 14: Train Loss: 0.0003, Test Loss: 0.0001, Train L1 Norm: 0.0291, Test L1 Norm: 0.0154, Train Linf Norm: 3.8433, Test Linf Norm: 1.7555\n",
            "Epoch 15: Train Loss: 0.0002, Test Loss: 0.0042, Train L1 Norm: 0.0226, Test L1 Norm: 0.0589, Train Linf Norm: 2.7090, Test Linf Norm: 6.6023\n",
            "Epoch 16: Train Loss: 0.0003, Test Loss: 0.0003, Train L1 Norm: 0.0232, Test L1 Norm: 0.0176, Train Linf Norm: 2.9576, Test Linf Norm: 1.7332\n",
            "Epoch 17: Train Loss: 0.0007, Test Loss: 0.0010, Train L1 Norm: 0.0360, Test L1 Norm: 0.0376, Train Linf Norm: 4.9416, Test Linf Norm: 4.4693\n",
            "Epoch 18: Train Loss: 0.0002, Test Loss: 0.0002, Train L1 Norm: 0.0224, Test L1 Norm: 0.0164, Train Linf Norm: 2.8791, Test Linf Norm: 1.5126\n",
            "Epoch 19: Train Loss: 0.0004, Test Loss: 0.0035, Train L1 Norm: 0.0261, Test L1 Norm: 0.1040, Train Linf Norm: 3.1968, Test Linf Norm: 11.9520\n",
            "Epoch 20: Train Loss: 0.0017, Test Loss: 0.0087, Train L1 Norm: 0.0450, Test L1 Norm: 0.2417, Train Linf Norm: 6.5698, Test Linf Norm: 36.5759\n",
            "Epoch 21: Train Loss: 0.0003, Test Loss: 0.0001, Train L1 Norm: 0.0316, Test L1 Norm: 0.0262, Train Linf Norm: 4.1862, Test Linf Norm: 3.7838\n",
            "Epoch 22: Train Loss: 0.0001, Test Loss: 0.0001, Train L1 Norm: 0.0183, Test L1 Norm: 0.0185, Train Linf Norm: 2.3225, Test Linf Norm: 2.4565\n",
            "Epoch 23: Train Loss: 0.0001, Test Loss: 0.0000, Train L1 Norm: 0.0161, Test L1 Norm: 0.0121, Train Linf Norm: 2.0215, Test Linf Norm: 1.1669\n",
            "Epoch 24: Train Loss: 0.0001, Test Loss: 0.0000, Train L1 Norm: 0.0158, Test L1 Norm: 0.0160, Train Linf Norm: 2.0434, Test Linf Norm: 2.1004\n",
            "Epoch 25: Train Loss: 0.0000, Test Loss: 0.0000, Train L1 Norm: 0.0148, Test L1 Norm: 0.0114, Train Linf Norm: 1.8023, Test Linf Norm: 1.1142\n",
            "Epoch 26: Train Loss: 0.0001, Test Loss: 0.0001, Train L1 Norm: 0.0144, Test L1 Norm: 0.0134, Train Linf Norm: 1.7881, Test Linf Norm: 1.4787\n",
            "Epoch 27: Train Loss: 0.0002, Test Loss: 0.0001, Train L1 Norm: 0.0212, Test L1 Norm: 0.0212, Train Linf Norm: 2.5554, Test Linf Norm: 2.2830\n",
            "Epoch 28: Train Loss: 0.0001, Test Loss: 0.0002, Train L1 Norm: 0.0172, Test L1 Norm: 0.0166, Train Linf Norm: 2.3215, Test Linf Norm: 1.7338\n",
            "Epoch 29: Train Loss: 0.0002, Test Loss: 0.0001, Train L1 Norm: 0.0231, Test L1 Norm: 0.0376, Train Linf Norm: 3.0569, Test Linf Norm: 4.9829\n",
            "Epoch 30: Train Loss: 0.0001, Test Loss: 0.0000, Train L1 Norm: 0.0177, Test L1 Norm: 0.0099, Train Linf Norm: 2.4022, Test Linf Norm: 0.9009\n",
            "Epoch 31: Train Loss: 0.0001, Test Loss: 0.0001, Train L1 Norm: 0.0163, Test L1 Norm: 0.0147, Train Linf Norm: 1.9735, Test Linf Norm: 1.5272\n",
            "Epoch 32: Train Loss: 0.0001, Test Loss: 0.0002, Train L1 Norm: 0.0158, Test L1 Norm: 0.0204, Train Linf Norm: 1.9992, Test Linf Norm: 2.8346\n",
            "Epoch 33: Train Loss: 0.0002, Test Loss: 0.0003, Train L1 Norm: 0.0207, Test L1 Norm: 0.0192, Train Linf Norm: 2.4398, Test Linf Norm: 2.1629\n",
            "Epoch 34: Train Loss: 0.0002, Test Loss: 0.0001, Train L1 Norm: 0.0270, Test L1 Norm: 0.0117, Train Linf Norm: 4.2269, Test Linf Norm: 1.3039\n",
            "Epoch 35: Train Loss: 0.0001, Test Loss: 0.0000, Train L1 Norm: 0.0184, Test L1 Norm: 0.0115, Train Linf Norm: 2.5668, Test Linf Norm: 1.2534\n",
            "Epoch 36: Train Loss: 0.0001, Test Loss: 0.0001, Train L1 Norm: 0.0150, Test L1 Norm: 0.0095, Train Linf Norm: 1.8954, Test Linf Norm: 0.8517\n",
            "Epoch 37: Train Loss: 0.0001, Test Loss: 0.0011, Train L1 Norm: 0.0206, Test L1 Norm: 0.0283, Train Linf Norm: 3.0192, Test Linf Norm: 3.0647\n",
            "Epoch 38: Train Loss: 0.0001, Test Loss: 0.0002, Train L1 Norm: 0.0157, Test L1 Norm: 0.0191, Train Linf Norm: 1.8478, Test Linf Norm: 2.4858\n",
            "Epoch 39: Train Loss: 0.0001, Test Loss: 0.0000, Train L1 Norm: 0.0186, Test L1 Norm: 0.0140, Train Linf Norm: 2.4899, Test Linf Norm: 1.9200\n",
            "Epoch 40: Train Loss: 0.0001, Test Loss: 0.0001, Train L1 Norm: 0.0144, Test L1 Norm: 0.0227, Train Linf Norm: 1.7904, Test Linf Norm: 3.0570\n",
            "Epoch 41: Train Loss: 0.0001, Test Loss: 0.0000, Train L1 Norm: 0.0159, Test L1 Norm: 0.0081, Train Linf Norm: 2.2261, Test Linf Norm: 0.5619\n",
            "Epoch 42: Train Loss: 0.0001, Test Loss: 0.0000, Train L1 Norm: 0.0158, Test L1 Norm: 0.0123, Train Linf Norm: 2.1827, Test Linf Norm: 1.1276\n",
            "Epoch 43: Train Loss: 0.0001, Test Loss: 0.0001, Train L1 Norm: 0.0189, Test L1 Norm: 0.0168, Train Linf Norm: 2.7041, Test Linf Norm: 2.1550\n",
            "Epoch 44: Train Loss: 0.0001, Test Loss: 0.0000, Train L1 Norm: 0.0214, Test L1 Norm: 0.0148, Train Linf Norm: 3.1577, Test Linf Norm: 2.0745\n",
            "Epoch 45: Train Loss: 0.0001, Test Loss: 0.0005, Train L1 Norm: 0.0160, Test L1 Norm: 0.0715, Train Linf Norm: 2.0997, Test Linf Norm: 9.0755\n",
            "Epoch 46: Train Loss: 0.0000, Test Loss: 0.0000, Train L1 Norm: 0.0119, Test L1 Norm: 0.0091, Train Linf Norm: 1.6216, Test Linf Norm: 1.0360\n",
            "Epoch 47: Train Loss: 0.0000, Test Loss: 0.0000, Train L1 Norm: 0.0096, Test L1 Norm: 0.0104, Train Linf Norm: 1.2031, Test Linf Norm: 1.3690\n",
            "Epoch 48: Train Loss: 0.0000, Test Loss: 0.0000, Train L1 Norm: 0.0104, Test L1 Norm: 0.0100, Train Linf Norm: 1.4000, Test Linf Norm: 1.2971\n",
            "Epoch 49: Train Loss: 0.0000, Test Loss: 0.0000, Train L1 Norm: 0.0091, Test L1 Norm: 0.0085, Train Linf Norm: 1.0964, Test Linf Norm: 0.9804\n",
            "Epoch 50: Train Loss: 0.0001, Test Loss: 0.0000, Train L1 Norm: 0.0130, Test L1 Norm: 0.0089, Train Linf Norm: 1.6663, Test Linf Norm: 1.0305\n",
            "Epoch 51: Train Loss: 0.0000, Test Loss: 0.0000, Train L1 Norm: 0.0105, Test L1 Norm: 0.0091, Train Linf Norm: 1.2693, Test Linf Norm: 1.0491\n",
            "Epoch 52: Train Loss: 0.0000, Test Loss: 0.0000, Train L1 Norm: 0.0116, Test L1 Norm: 0.0107, Train Linf Norm: 1.5830, Test Linf Norm: 1.2588\n",
            "Epoch 53: Train Loss: 0.0000, Test Loss: 0.0001, Train L1 Norm: 0.0079, Test L1 Norm: 0.0081, Train Linf Norm: 0.9125, Test Linf Norm: 0.6823\n",
            "Epoch 54: Train Loss: 0.0000, Test Loss: 0.0000, Train L1 Norm: 0.0092, Test L1 Norm: 0.0074, Train Linf Norm: 1.2062, Test Linf Norm: 0.8444\n",
            "Epoch 55: Train Loss: 0.0000, Test Loss: 0.0000, Train L1 Norm: 0.0079, Test L1 Norm: 0.0071, Train Linf Norm: 0.8989, Test Linf Norm: 0.6441\n",
            "Epoch 56: Train Loss: 0.0000, Test Loss: 0.0000, Train L1 Norm: 0.0085, Test L1 Norm: 0.0085, Train Linf Norm: 0.9835, Test Linf Norm: 1.0715\n",
            "Epoch 57: Train Loss: 0.0000, Test Loss: 0.0000, Train L1 Norm: 0.0085, Test L1 Norm: 0.0077, Train Linf Norm: 0.9765, Test Linf Norm: 0.7020\n",
            "Epoch 58: Train Loss: 0.0000, Test Loss: 0.0000, Train L1 Norm: 0.0086, Test L1 Norm: 0.0106, Train Linf Norm: 1.0228, Test Linf Norm: 1.4240\n",
            "Epoch 59: Train Loss: 0.0000, Test Loss: 0.0000, Train L1 Norm: 0.0085, Test L1 Norm: 0.0098, Train Linf Norm: 1.0361, Test Linf Norm: 1.3282\n",
            "Epoch 60: Train Loss: 0.0000, Test Loss: 0.0000, Train L1 Norm: 0.0078, Test L1 Norm: 0.0092, Train Linf Norm: 0.8833, Test Linf Norm: 1.1169\n"
          ]
        },
        {
          "output_type": "stream",
          "name": "stderr",
          "text": [
            "\u001b[32m[I 2023-05-13 13:19:11,499]\u001b[0m Trial 14 finished with value: 0.006901210825843737 and parameters: {'n_layers': 3, 'n_units_0': 89, 'n_units_1': 216, 'n_units_2': 71, 'hidden_activation': 'ReLU', 'output_activation': 'Linear', 'loss': 'MSE', 'optimizer': 'Adam', 'lr': 0.0004380341154582947, 'batch_size': 222, 'n_epochs': 61, 'scheduler': 'ReduceLROnPlateau'}. Best is trial 12 with value: 0.004908584640570916.\u001b[0m\n"
          ]
        },
        {
          "output_type": "stream",
          "name": "stdout",
          "text": [
            "Epoch 61: Train Loss: 0.0000, Test Loss: 0.0000, Train L1 Norm: 0.0072, Test L1 Norm: 0.0069, Train Linf Norm: 0.7711, Test Linf Norm: 0.7488\n",
            "Epoch 1: Train Loss: 0.1463, Test Loss: 0.0888, Train L1 Norm: 0.5285, Test L1 Norm: 0.0601, Train Linf Norm: 86.8649, Test Linf Norm: 4.1069\n",
            "Epoch 2: Train Loss: 0.0493, Test Loss: 0.0248, Train L1 Norm: 0.0916, Test L1 Norm: 0.0566, Train Linf Norm: 12.0554, Test Linf Norm: 8.1190\n",
            "Epoch 3: Train Loss: 0.0420, Test Loss: 0.0290, Train L1 Norm: 0.0717, Test L1 Norm: 0.0623, Train Linf Norm: 9.1082, Test Linf Norm: 6.1693\n",
            "Epoch 4: Train Loss: 0.0404, Test Loss: 0.0219, Train L1 Norm: 0.0577, Test L1 Norm: 0.0788, Train Linf Norm: 6.4721, Test Linf Norm: 12.4173\n",
            "Epoch 5: Train Loss: 0.0448, Test Loss: 0.0267, Train L1 Norm: 0.0802, Test L1 Norm: 0.0502, Train Linf Norm: 11.2951, Test Linf Norm: 5.8789\n",
            "Epoch 6: Train Loss: 0.0441, Test Loss: 0.0249, Train L1 Norm: 0.0775, Test L1 Norm: 0.0661, Train Linf Norm: 10.5407, Test Linf Norm: 10.7546\n",
            "Epoch 7: Train Loss: 0.0346, Test Loss: 0.0516, Train L1 Norm: 0.0616, Test L1 Norm: 0.1107, Train Linf Norm: 8.2236, Test Linf Norm: 15.0405\n",
            "Epoch 8: Train Loss: 0.0344, Test Loss: 0.0322, Train L1 Norm: 0.0631, Test L1 Norm: 0.0246, Train Linf Norm: 8.6053, Test Linf Norm: 2.0598\n",
            "Epoch 9: Train Loss: 0.0385, Test Loss: 0.0605, Train L1 Norm: 0.0606, Test L1 Norm: 0.0745, Train Linf Norm: 7.9806, Test Linf Norm: 7.1746\n",
            "Epoch 10: Train Loss: 0.0283, Test Loss: 0.0134, Train L1 Norm: 0.0491, Test L1 Norm: 0.0331, Train Linf Norm: 5.9272, Test Linf Norm: 4.7605\n",
            "Epoch 11: Train Loss: 0.0312, Test Loss: 0.0386, Train L1 Norm: 0.0493, Test L1 Norm: 0.0485, Train Linf Norm: 6.1955, Test Linf Norm: 5.7830\n",
            "Epoch 12: Train Loss: 0.0412, Test Loss: 0.0561, Train L1 Norm: 0.0557, Test L1 Norm: 0.1413, Train Linf Norm: 6.7486, Test Linf Norm: 17.5245\n",
            "Epoch 13: Train Loss: 0.0370, Test Loss: 0.0178, Train L1 Norm: 0.0700, Test L1 Norm: 0.0228, Train Linf Norm: 9.9433, Test Linf Norm: 1.4558\n",
            "Epoch 14: Train Loss: 0.0287, Test Loss: 0.0244, Train L1 Norm: 0.0470, Test L1 Norm: 0.0389, Train Linf Norm: 5.8480, Test Linf Norm: 5.4288\n",
            "Epoch 15: Train Loss: 0.0389, Test Loss: 0.0408, Train L1 Norm: 0.0556, Test L1 Norm: 0.0374, Train Linf Norm: 7.1487, Test Linf Norm: 3.1865\n",
            "Epoch 16: Train Loss: 0.0332, Test Loss: 0.0242, Train L1 Norm: 0.0561, Test L1 Norm: 0.0359, Train Linf Norm: 7.3462, Test Linf Norm: 4.3575\n",
            "Epoch 17: Train Loss: 0.0112, Test Loss: 0.0141, Train L1 Norm: 0.0246, Test L1 Norm: 0.0142, Train Linf Norm: 3.3991, Test Linf Norm: 1.1836\n",
            "Epoch 18: Train Loss: 0.0123, Test Loss: 0.0276, Train L1 Norm: 0.0304, Test L1 Norm: 0.0230, Train Linf Norm: 4.5123, Test Linf Norm: 2.3408\n",
            "Epoch 19: Train Loss: 0.0150, Test Loss: 0.0094, Train L1 Norm: 0.0261, Test L1 Norm: 0.0228, Train Linf Norm: 3.3708, Test Linf Norm: 3.0798\n",
            "Epoch 20: Train Loss: 0.0141, Test Loss: 0.0092, Train L1 Norm: 0.0284, Test L1 Norm: 0.0115, Train Linf Norm: 3.8931, Test Linf Norm: 1.0384\n",
            "Epoch 21: Train Loss: 0.0156, Test Loss: 0.0205, Train L1 Norm: 0.0263, Test L1 Norm: 0.0157, Train Linf Norm: 3.3938, Test Linf Norm: 1.1124\n",
            "Epoch 22: Train Loss: 0.0158, Test Loss: 0.0263, Train L1 Norm: 0.0271, Test L1 Norm: 0.0453, Train Linf Norm: 3.6174, Test Linf Norm: 5.6960\n",
            "Epoch 23: Train Loss: 0.0156, Test Loss: 0.0082, Train L1 Norm: 0.0240, Test L1 Norm: 0.0179, Train Linf Norm: 2.9525, Test Linf Norm: 2.2924\n",
            "Epoch 24: Train Loss: 0.0164, Test Loss: 0.0151, Train L1 Norm: 0.0312, Test L1 Norm: 0.0143, Train Linf Norm: 4.4033, Test Linf Norm: 1.3954\n",
            "Epoch 25: Train Loss: 0.0124, Test Loss: 0.0054, Train L1 Norm: 0.0258, Test L1 Norm: 0.0166, Train Linf Norm: 3.5929, Test Linf Norm: 1.9751\n",
            "Epoch 26: Train Loss: 0.0127, Test Loss: 0.0188, Train L1 Norm: 0.0245, Test L1 Norm: 0.0313, Train Linf Norm: 3.3726, Test Linf Norm: 4.0949\n",
            "Epoch 27: Train Loss: 0.0147, Test Loss: 0.0225, Train L1 Norm: 0.0288, Test L1 Norm: 0.0297, Train Linf Norm: 3.9027, Test Linf Norm: 3.2665\n",
            "Epoch 28: Train Loss: 0.0177, Test Loss: 0.0173, Train L1 Norm: 0.0294, Test L1 Norm: 0.0172, Train Linf Norm: 3.8245, Test Linf Norm: 1.7247\n",
            "Epoch 29: Train Loss: 0.0152, Test Loss: 0.0143, Train L1 Norm: 0.0238, Test L1 Norm: 0.0217, Train Linf Norm: 2.8261, Test Linf Norm: 2.4882\n",
            "Epoch 30: Train Loss: 0.0154, Test Loss: 0.0218, Train L1 Norm: 0.0315, Test L1 Norm: 0.0331, Train Linf Norm: 4.3816, Test Linf Norm: 4.5526\n",
            "Epoch 31: Train Loss: 0.0120, Test Loss: 0.0141, Train L1 Norm: 0.0262, Test L1 Norm: 0.0163, Train Linf Norm: 3.5440, Test Linf Norm: 1.6874\n",
            "Epoch 32: Train Loss: 0.0063, Test Loss: 0.0042, Train L1 Norm: 0.0141, Test L1 Norm: 0.0165, Train Linf Norm: 1.8834, Test Linf Norm: 2.4992\n",
            "Epoch 33: Train Loss: 0.0063, Test Loss: 0.0083, Train L1 Norm: 0.0135, Test L1 Norm: 0.0114, Train Linf Norm: 1.7813, Test Linf Norm: 1.1774\n",
            "Epoch 34: Train Loss: 0.0061, Test Loss: 0.0042, Train L1 Norm: 0.0140, Test L1 Norm: 0.0083, Train Linf Norm: 1.9468, Test Linf Norm: 0.8191\n",
            "Epoch 35: Train Loss: 0.0063, Test Loss: 0.0043, Train L1 Norm: 0.0123, Test L1 Norm: 0.0124, Train Linf Norm: 1.5110, Test Linf Norm: 1.6142\n",
            "Epoch 36: Train Loss: 0.0068, Test Loss: 0.0045, Train L1 Norm: 0.0153, Test L1 Norm: 0.0066, Train Linf Norm: 2.1674, Test Linf Norm: 0.5833\n",
            "Epoch 37: Train Loss: 0.0084, Test Loss: 0.0043, Train L1 Norm: 0.0157, Test L1 Norm: 0.0137, Train Linf Norm: 2.0935, Test Linf Norm: 2.0322\n",
            "Epoch 38: Train Loss: 0.0077, Test Loss: 0.0064, Train L1 Norm: 0.0152, Test L1 Norm: 0.0143, Train Linf Norm: 1.9021, Test Linf Norm: 1.5951\n",
            "Epoch 39: Train Loss: 0.0059, Test Loss: 0.0042, Train L1 Norm: 0.0137, Test L1 Norm: 0.0137, Train Linf Norm: 1.8619, Test Linf Norm: 1.8933\n",
            "Epoch 40: Train Loss: 0.0067, Test Loss: 0.0039, Train L1 Norm: 0.0150, Test L1 Norm: 0.0077, Train Linf Norm: 2.0689, Test Linf Norm: 0.8005\n",
            "Epoch 41: Train Loss: 0.0069, Test Loss: 0.0328, Train L1 Norm: 0.0148, Test L1 Norm: 0.0362, Train Linf Norm: 2.0912, Test Linf Norm: 4.0680\n",
            "Epoch 42: Train Loss: 0.0078, Test Loss: 0.0105, Train L1 Norm: 0.0193, Test L1 Norm: 0.0193, Train Linf Norm: 2.8611, Test Linf Norm: 2.6724\n",
            "Epoch 43: Train Loss: 0.0072, Test Loss: 0.0047, Train L1 Norm: 0.0184, Test L1 Norm: 0.0091, Train Linf Norm: 2.7916, Test Linf Norm: 1.0913\n",
            "Epoch 44: Train Loss: 0.0086, Test Loss: 0.0105, Train L1 Norm: 0.0131, Test L1 Norm: 0.0135, Train Linf Norm: 1.5260, Test Linf Norm: 1.7374\n",
            "Epoch 45: Train Loss: 0.0066, Test Loss: 0.0082, Train L1 Norm: 0.0140, Test L1 Norm: 0.0203, Train Linf Norm: 1.8693, Test Linf Norm: 3.0197\n",
            "Epoch 46: Train Loss: 0.0072, Test Loss: 0.0058, Train L1 Norm: 0.0140, Test L1 Norm: 0.0096, Train Linf Norm: 1.8847, Test Linf Norm: 1.0345\n",
            "Epoch 47: Train Loss: 0.0032, Test Loss: 0.0026, Train L1 Norm: 0.0083, Test L1 Norm: 0.0114, Train Linf Norm: 1.1020, Test Linf Norm: 1.8273\n",
            "Epoch 48: Train Loss: 0.0032, Test Loss: 0.0031, Train L1 Norm: 0.0080, Test L1 Norm: 0.0068, Train Linf Norm: 1.0533, Test Linf Norm: 0.7239\n",
            "Epoch 49: Train Loss: 0.0037, Test Loss: 0.0030, Train L1 Norm: 0.0080, Test L1 Norm: 0.0083, Train Linf Norm: 1.0095, Test Linf Norm: 1.0735\n",
            "Epoch 50: Train Loss: 0.0037, Test Loss: 0.0035, Train L1 Norm: 0.0080, Test L1 Norm: 0.0060, Train Linf Norm: 1.0105, Test Linf Norm: 0.5352\n",
            "Epoch 51: Train Loss: 0.0033, Test Loss: 0.0039, Train L1 Norm: 0.0082, Test L1 Norm: 0.0086, Train Linf Norm: 1.0971, Test Linf Norm: 1.2338\n",
            "Epoch 52: Train Loss: 0.0041, Test Loss: 0.0060, Train L1 Norm: 0.0094, Test L1 Norm: 0.0079, Train Linf Norm: 1.3096, Test Linf Norm: 0.8125\n",
            "Epoch 53: Train Loss: 0.0039, Test Loss: 0.0034, Train L1 Norm: 0.0083, Test L1 Norm: 0.0071, Train Linf Norm: 1.0710, Test Linf Norm: 0.8871\n",
            "Epoch 54: Train Loss: 0.0023, Test Loss: 0.0022, Train L1 Norm: 0.0065, Test L1 Norm: 0.0069, Train Linf Norm: 0.8758, Test Linf Norm: 0.9125\n",
            "Epoch 55: Train Loss: 0.0024, Test Loss: 0.0036, Train L1 Norm: 0.0067, Test L1 Norm: 0.0092, Train Linf Norm: 0.9112, Test Linf Norm: 1.3165\n",
            "Epoch 56: Train Loss: 0.0025, Test Loss: 0.0030, Train L1 Norm: 0.0063, Test L1 Norm: 0.0055, Train Linf Norm: 0.8123, Test Linf Norm: 0.6253\n",
            "Epoch 57: Train Loss: 0.0026, Test Loss: 0.0023, Train L1 Norm: 0.0074, Test L1 Norm: 0.0123, Train Linf Norm: 1.0464, Test Linf Norm: 1.8660\n",
            "Epoch 58: Train Loss: 0.0025, Test Loss: 0.0022, Train L1 Norm: 0.0066, Test L1 Norm: 0.0071, Train Linf Norm: 0.8788, Test Linf Norm: 0.9294\n",
            "Epoch 59: Train Loss: 0.0023, Test Loss: 0.0033, Train L1 Norm: 0.0066, Test L1 Norm: 0.0094, Train Linf Norm: 0.9081, Test Linf Norm: 1.3528\n",
            "Epoch 60: Train Loss: 0.0025, Test Loss: 0.0024, Train L1 Norm: 0.0070, Test L1 Norm: 0.0078, Train Linf Norm: 0.9772, Test Linf Norm: 1.1678\n",
            "Epoch 61: Train Loss: 0.0020, Test Loss: 0.0019, Train L1 Norm: 0.0055, Test L1 Norm: 0.0080, Train Linf Norm: 0.6891, Test Linf Norm: 1.2059\n",
            "Epoch 62: Train Loss: 0.0021, Test Loss: 0.0021, Train L1 Norm: 0.0059, Test L1 Norm: 0.0057, Train Linf Norm: 0.8111, Test Linf Norm: 0.7360\n",
            "Epoch 63: Train Loss: 0.0020, Test Loss: 0.0021, Train L1 Norm: 0.0055, Test L1 Norm: 0.0055, Train Linf Norm: 0.7396, Test Linf Norm: 0.7015\n",
            "Epoch 64: Train Loss: 0.0020, Test Loss: 0.0020, Train L1 Norm: 0.0060, Test L1 Norm: 0.0067, Train Linf Norm: 0.8220, Test Linf Norm: 0.9169\n",
            "Epoch 65: Train Loss: 0.0020, Test Loss: 0.0019, Train L1 Norm: 0.0059, Test L1 Norm: 0.0053, Train Linf Norm: 0.7393, Test Linf Norm: 0.6334\n",
            "Epoch 66: Train Loss: 0.0020, Test Loss: 0.0019, Train L1 Norm: 0.0054, Test L1 Norm: 0.0062, Train Linf Norm: 0.7056, Test Linf Norm: 0.8614\n",
            "Epoch 67: Train Loss: 0.0020, Test Loss: 0.0022, Train L1 Norm: 0.0056, Test L1 Norm: 0.0055, Train Linf Norm: 0.7577, Test Linf Norm: 0.6565\n",
            "Epoch 68: Train Loss: 0.0020, Test Loss: 0.0020, Train L1 Norm: 0.0058, Test L1 Norm: 0.0064, Train Linf Norm: 0.8012, Test Linf Norm: 0.8239\n",
            "Epoch 69: Train Loss: 0.0020, Test Loss: 0.0020, Train L1 Norm: 0.0053, Test L1 Norm: 0.0058, Train Linf Norm: 0.6844, Test Linf Norm: 0.7761\n",
            "Epoch 70: Train Loss: 0.0020, Test Loss: 0.0023, Train L1 Norm: 0.0058, Test L1 Norm: 0.0065, Train Linf Norm: 0.8107, Test Linf Norm: 0.9090\n",
            "Epoch 71: Train Loss: 0.0020, Test Loss: 0.0022, Train L1 Norm: 0.0053, Test L1 Norm: 0.0060, Train Linf Norm: 0.6960, Test Linf Norm: 0.8268\n",
            "Epoch 72: Train Loss: 0.0020, Test Loss: 0.0018, Train L1 Norm: 0.0056, Test L1 Norm: 0.0067, Train Linf Norm: 0.7356, Test Linf Norm: 0.9346\n",
            "Epoch 73: Train Loss: 0.0019, Test Loss: 0.0018, Train L1 Norm: 0.0053, Test L1 Norm: 0.0070, Train Linf Norm: 0.6993, Test Linf Norm: 1.0453\n",
            "Epoch 74: Train Loss: 0.0019, Test Loss: 0.0018, Train L1 Norm: 0.0056, Test L1 Norm: 0.0064, Train Linf Norm: 0.7364, Test Linf Norm: 0.9032\n",
            "Epoch 75: Train Loss: 0.0019, Test Loss: 0.0018, Train L1 Norm: 0.0056, Test L1 Norm: 0.0070, Train Linf Norm: 0.7593, Test Linf Norm: 1.0247\n",
            "Epoch 76: Train Loss: 0.0019, Test Loss: 0.0019, Train L1 Norm: 0.0060, Test L1 Norm: 0.0062, Train Linf Norm: 0.8636, Test Linf Norm: 0.8300\n",
            "Epoch 77: Train Loss: 0.0019, Test Loss: 0.0022, Train L1 Norm: 0.0057, Test L1 Norm: 0.0061, Train Linf Norm: 0.7695, Test Linf Norm: 0.8265\n",
            "Epoch 78: Train Loss: 0.0019, Test Loss: 0.0019, Train L1 Norm: 0.0058, Test L1 Norm: 0.0056, Train Linf Norm: 0.8273, Test Linf Norm: 0.7381\n"
          ]
        },
        {
          "output_type": "stream",
          "name": "stderr",
          "text": [
            "\u001b[32m[I 2023-05-13 13:21:04,939]\u001b[0m Trial 15 finished with value: 0.004734441414102912 and parameters: {'n_layers': 3, 'n_units_0': 63, 'n_units_1': 156, 'n_units_2': 191, 'hidden_activation': 'ReLU', 'output_activation': 'Linear', 'loss': 'MAE', 'optimizer': 'Adam', 'lr': 0.0013069140662049542, 'batch_size': 227, 'n_epochs': 79, 'scheduler': 'ReduceLROnPlateau'}. Best is trial 15 with value: 0.004734441414102912.\u001b[0m\n"
          ]
        },
        {
          "output_type": "stream",
          "name": "stdout",
          "text": [
            "Epoch 79: Train Loss: 0.0019, Test Loss: 0.0020, Train L1 Norm: 0.0053, Test L1 Norm: 0.0047, Train Linf Norm: 0.6942, Test Linf Norm: 0.5342\n"
          ]
        },
        {
          "output_type": "stream",
          "name": "stderr",
          "text": [
            "\u001b[32m[I 2023-05-13 13:21:06,283]\u001b[0m Trial 16 pruned. \u001b[0m\n"
          ]
        },
        {
          "output_type": "stream",
          "name": "stdout",
          "text": [
            "Epoch 1: Train Loss: 1.7771, Test Loss: 1.0925, Train L1 Norm: 9.7361, Test L1 Norm: 0.8091, Train Linf Norm: 1680.6211, Test Linf Norm: 43.7671\n"
          ]
        },
        {
          "output_type": "stream",
          "name": "stderr",
          "text": [
            "\u001b[32m[I 2023-05-13 13:21:07,798]\u001b[0m Trial 17 pruned. \u001b[0m\n"
          ]
        },
        {
          "output_type": "stream",
          "name": "stdout",
          "text": [
            "Epoch 1: Train Loss: 0.1730, Test Loss: 0.1948, Train L1 Norm: 0.3190, Test L1 Norm: 0.2092, Train Linf Norm: 30.2465, Test Linf Norm: 12.7678\n"
          ]
        },
        {
          "output_type": "stream",
          "name": "stderr",
          "text": [
            "\u001b[32m[I 2023-05-13 13:21:09,143]\u001b[0m Trial 18 pruned. \u001b[0m\n"
          ]
        },
        {
          "output_type": "stream",
          "name": "stdout",
          "text": [
            "Epoch 1: Train Loss: 1.6795, Test Loss: 0.0062, Train L1 Norm: 1.6186, Test L1 Norm: 0.1509, Train Linf Norm: 254.4940, Test Linf Norm: 7.5106\n",
            "Epoch 1: Train Loss: 0.1041, Test Loss: 0.0241, Train L1 Norm: 0.2060, Test L1 Norm: 0.0346, Train Linf Norm: 8.7651, Test Linf Norm: 1.1384\n",
            "Epoch 2: Train Loss: 0.0390, Test Loss: 0.0182, Train L1 Norm: 0.0627, Test L1 Norm: 0.0295, Train Linf Norm: 2.5470, Test Linf Norm: 0.9452\n",
            "Epoch 3: Train Loss: 0.0315, Test Loss: 0.0391, Train L1 Norm: 0.0537, Test L1 Norm: 0.0372, Train Linf Norm: 2.1979, Test Linf Norm: 1.0833\n",
            "Epoch 4: Train Loss: 0.0304, Test Loss: 0.0176, Train L1 Norm: 0.0555, Test L1 Norm: 0.0295, Train Linf Norm: 2.3804, Test Linf Norm: 1.0181\n",
            "Epoch 5: Train Loss: 0.0284, Test Loss: 0.0354, Train L1 Norm: 0.0485, Test L1 Norm: 0.0571, Train Linf Norm: 2.0401, Test Linf Norm: 1.8857\n",
            "Epoch 6: Train Loss: 0.0264, Test Loss: 0.0154, Train L1 Norm: 0.0426, Test L1 Norm: 0.0334, Train Linf Norm: 1.7700, Test Linf Norm: 1.2525\n",
            "Epoch 7: Train Loss: 0.0236, Test Loss: 0.0173, Train L1 Norm: 0.0415, Test L1 Norm: 0.0386, Train Linf Norm: 1.7781, Test Linf Norm: 1.6222\n",
            "Epoch 8: Train Loss: 0.0254, Test Loss: 0.0355, Train L1 Norm: 0.0411, Test L1 Norm: 0.0452, Train Linf Norm: 1.7259, Test Linf Norm: 1.5840\n",
            "Epoch 9: Train Loss: 0.0234, Test Loss: 0.0527, Train L1 Norm: 0.0434, Test L1 Norm: 0.0498, Train Linf Norm: 1.9259, Test Linf Norm: 1.5243\n",
            "Epoch 10: Train Loss: 0.0212, Test Loss: 0.0508, Train L1 Norm: 0.0405, Test L1 Norm: 0.0518, Train Linf Norm: 1.8132, Test Linf Norm: 1.1809\n",
            "Epoch 11: Train Loss: 0.0226, Test Loss: 0.0308, Train L1 Norm: 0.0392, Test L1 Norm: 0.0552, Train Linf Norm: 1.6886, Test Linf Norm: 2.1236\n",
            "Epoch 12: Train Loss: 0.0203, Test Loss: 0.0122, Train L1 Norm: 0.0329, Test L1 Norm: 0.0253, Train Linf Norm: 1.3696, Test Linf Norm: 0.9645\n",
            "Epoch 13: Train Loss: 0.0197, Test Loss: 0.0217, Train L1 Norm: 0.0395, Test L1 Norm: 0.0561, Train Linf Norm: 1.8109, Test Linf Norm: 2.2414\n",
            "Epoch 14: Train Loss: 0.0217, Test Loss: 0.0280, Train L1 Norm: 0.0368, Test L1 Norm: 0.0583, Train Linf Norm: 1.5888, Test Linf Norm: 2.2837\n",
            "Epoch 15: Train Loss: 0.0219, Test Loss: 0.0070, Train L1 Norm: 0.0301, Test L1 Norm: 0.0301, Train Linf Norm: 1.1678, Test Linf Norm: 1.2321\n",
            "Epoch 16: Train Loss: 0.0175, Test Loss: 0.0105, Train L1 Norm: 0.0324, Test L1 Norm: 0.0241, Train Linf Norm: 1.4262, Test Linf Norm: 0.8912\n",
            "Epoch 17: Train Loss: 0.0208, Test Loss: 0.0064, Train L1 Norm: 0.0299, Test L1 Norm: 0.0236, Train Linf Norm: 1.1910, Test Linf Norm: 0.9598\n",
            "Epoch 18: Train Loss: 0.0181, Test Loss: 0.0232, Train L1 Norm: 0.0292, Test L1 Norm: 0.0367, Train Linf Norm: 1.2110, Test Linf Norm: 1.3361\n",
            "Epoch 19: Train Loss: 0.0171, Test Loss: 0.0101, Train L1 Norm: 0.0309, Test L1 Norm: 0.0297, Train Linf Norm: 1.3609, Test Linf Norm: 1.2516\n",
            "Epoch 20: Train Loss: 0.0181, Test Loss: 0.0184, Train L1 Norm: 0.0338, Test L1 Norm: 0.0324, Train Linf Norm: 1.5168, Test Linf Norm: 1.1131\n",
            "Epoch 21: Train Loss: 0.0167, Test Loss: 0.0261, Train L1 Norm: 0.0273, Test L1 Norm: 0.0381, Train Linf Norm: 1.1511, Test Linf Norm: 1.3804\n",
            "Epoch 22: Train Loss: 0.0157, Test Loss: 0.0157, Train L1 Norm: 0.0269, Test L1 Norm: 0.0266, Train Linf Norm: 1.1458, Test Linf Norm: 1.0226\n",
            "Epoch 23: Train Loss: 0.0167, Test Loss: 0.0123, Train L1 Norm: 0.0323, Test L1 Norm: 0.0225, Train Linf Norm: 1.4573, Test Linf Norm: 0.8250\n",
            "Epoch 24: Train Loss: 0.0085, Test Loss: 0.0103, Train L1 Norm: 0.0165, Test L1 Norm: 0.0118, Train Linf Norm: 0.7124, Test Linf Norm: 0.3089\n",
            "Epoch 25: Train Loss: 0.0088, Test Loss: 0.0072, Train L1 Norm: 0.0175, Test L1 Norm: 0.0174, Train Linf Norm: 0.7698, Test Linf Norm: 0.6553\n",
            "Epoch 26: Train Loss: 0.0084, Test Loss: 0.0161, Train L1 Norm: 0.0184, Test L1 Norm: 0.0305, Train Linf Norm: 0.8376, Test Linf Norm: 1.1224\n",
            "Epoch 27: Train Loss: 0.0080, Test Loss: 0.0084, Train L1 Norm: 0.0173, Test L1 Norm: 0.0123, Train Linf Norm: 0.7876, Test Linf Norm: 0.4260\n",
            "Epoch 28: Train Loss: 0.0089, Test Loss: 0.0113, Train L1 Norm: 0.0180, Test L1 Norm: 0.0308, Train Linf Norm: 0.8138, Test Linf Norm: 1.1745\n",
            "Epoch 29: Train Loss: 0.0085, Test Loss: 0.0044, Train L1 Norm: 0.0182, Test L1 Norm: 0.0083, Train Linf Norm: 0.8296, Test Linf Norm: 0.2884\n",
            "Epoch 30: Train Loss: 0.0089, Test Loss: 0.0083, Train L1 Norm: 0.0190, Test L1 Norm: 0.0166, Train Linf Norm: 0.8784, Test Linf Norm: 0.6414\n",
            "Epoch 31: Train Loss: 0.0083, Test Loss: 0.0167, Train L1 Norm: 0.0168, Test L1 Norm: 0.0226, Train Linf Norm: 0.7558, Test Linf Norm: 0.8137\n",
            "Epoch 32: Train Loss: 0.0075, Test Loss: 0.0043, Train L1 Norm: 0.0155, Test L1 Norm: 0.0131, Train Linf Norm: 0.6984, Test Linf Norm: 0.5242\n",
            "Epoch 33: Train Loss: 0.0079, Test Loss: 0.0069, Train L1 Norm: 0.0156, Test L1 Norm: 0.0099, Train Linf Norm: 0.6992, Test Linf Norm: 0.3470\n",
            "Epoch 34: Train Loss: 0.0081, Test Loss: 0.0083, Train L1 Norm: 0.0163, Test L1 Norm: 0.0122, Train Linf Norm: 0.7372, Test Linf Norm: 0.4620\n",
            "Epoch 35: Train Loss: 0.0085, Test Loss: 0.0071, Train L1 Norm: 0.0179, Test L1 Norm: 0.0128, Train Linf Norm: 0.8200, Test Linf Norm: 0.4795\n",
            "Epoch 36: Train Loss: 0.0083, Test Loss: 0.0057, Train L1 Norm: 0.0183, Test L1 Norm: 0.0178, Train Linf Norm: 0.8584, Test Linf Norm: 0.7241\n",
            "Epoch 37: Train Loss: 0.0083, Test Loss: 0.0105, Train L1 Norm: 0.0169, Test L1 Norm: 0.0188, Train Linf Norm: 0.7506, Test Linf Norm: 0.7220\n",
            "Epoch 38: Train Loss: 0.0079, Test Loss: 0.0078, Train L1 Norm: 0.0159, Test L1 Norm: 0.0168, Train Linf Norm: 0.7207, Test Linf Norm: 0.6832\n",
            "Epoch 39: Train Loss: 0.0049, Test Loss: 0.0043, Train L1 Norm: 0.0117, Test L1 Norm: 0.0164, Train Linf Norm: 0.5432, Test Linf Norm: 0.6972\n",
            "Epoch 40: Train Loss: 0.0051, Test Loss: 0.0055, Train L1 Norm: 0.0108, Test L1 Norm: 0.0091, Train Linf Norm: 0.4870, Test Linf Norm: 0.3165\n",
            "Epoch 41: Train Loss: 0.0051, Test Loss: 0.0035, Train L1 Norm: 0.0114, Test L1 Norm: 0.0095, Train Linf Norm: 0.5204, Test Linf Norm: 0.3714\n",
            "Epoch 42: Train Loss: 0.0049, Test Loss: 0.0039, Train L1 Norm: 0.0101, Test L1 Norm: 0.0118, Train Linf Norm: 0.4521, Test Linf Norm: 0.4724\n",
            "Epoch 43: Train Loss: 0.0048, Test Loss: 0.0036, Train L1 Norm: 0.0095, Test L1 Norm: 0.0103, Train Linf Norm: 0.4142, Test Linf Norm: 0.4138\n",
            "Epoch 44: Train Loss: 0.0049, Test Loss: 0.0045, Train L1 Norm: 0.0100, Test L1 Norm: 0.0098, Train Linf Norm: 0.4341, Test Linf Norm: 0.3610\n",
            "Epoch 45: Train Loss: 0.0049, Test Loss: 0.0036, Train L1 Norm: 0.0098, Test L1 Norm: 0.0081, Train Linf Norm: 0.4249, Test Linf Norm: 0.2843\n",
            "Epoch 46: Train Loss: 0.0046, Test Loss: 0.0039, Train L1 Norm: 0.0097, Test L1 Norm: 0.0114, Train Linf Norm: 0.4334, Test Linf Norm: 0.4638\n",
            "Epoch 47: Train Loss: 0.0046, Test Loss: 0.0032, Train L1 Norm: 0.0108, Test L1 Norm: 0.0115, Train Linf Norm: 0.4970, Test Linf Norm: 0.4684\n",
            "Epoch 48: Train Loss: 0.0046, Test Loss: 0.0038, Train L1 Norm: 0.0104, Test L1 Norm: 0.0126, Train Linf Norm: 0.4722, Test Linf Norm: 0.5294\n",
            "Epoch 49: Train Loss: 0.0047, Test Loss: 0.0056, Train L1 Norm: 0.0102, Test L1 Norm: 0.0103, Train Linf Norm: 0.4540, Test Linf Norm: 0.3734\n",
            "Epoch 50: Train Loss: 0.0050, Test Loss: 0.0036, Train L1 Norm: 0.0107, Test L1 Norm: 0.0113, Train Linf Norm: 0.4850, Test Linf Norm: 0.4539\n",
            "Epoch 51: Train Loss: 0.0046, Test Loss: 0.0047, Train L1 Norm: 0.0112, Test L1 Norm: 0.0121, Train Linf Norm: 0.5323, Test Linf Norm: 0.4958\n",
            "Epoch 52: Train Loss: 0.0046, Test Loss: 0.0032, Train L1 Norm: 0.0108, Test L1 Norm: 0.0090, Train Linf Norm: 0.5032, Test Linf Norm: 0.3377\n",
            "Epoch 53: Train Loss: 0.0047, Test Loss: 0.0054, Train L1 Norm: 0.0095, Test L1 Norm: 0.0132, Train Linf Norm: 0.4226, Test Linf Norm: 0.5405\n",
            "Epoch 54: Train Loss: 0.0046, Test Loss: 0.0049, Train L1 Norm: 0.0099, Test L1 Norm: 0.0132, Train Linf Norm: 0.4456, Test Linf Norm: 0.5519\n",
            "Epoch 55: Train Loss: 0.0049, Test Loss: 0.0033, Train L1 Norm: 0.0100, Test L1 Norm: 0.0087, Train Linf Norm: 0.4465, Test Linf Norm: 0.3451\n",
            "Epoch 56: Train Loss: 0.0044, Test Loss: 0.0035, Train L1 Norm: 0.0100, Test L1 Norm: 0.0087, Train Linf Norm: 0.4567, Test Linf Norm: 0.3259\n",
            "Epoch 57: Train Loss: 0.0044, Test Loss: 0.0037, Train L1 Norm: 0.0092, Test L1 Norm: 0.0103, Train Linf Norm: 0.4107, Test Linf Norm: 0.4180\n",
            "Epoch 58: Train Loss: 0.0049, Test Loss: 0.0042, Train L1 Norm: 0.0098, Test L1 Norm: 0.0109, Train Linf Norm: 0.4292, Test Linf Norm: 0.4221\n",
            "Epoch 59: Train Loss: 0.0033, Test Loss: 0.0026, Train L1 Norm: 0.0078, Test L1 Norm: 0.0095, Train Linf Norm: 0.3453, Test Linf Norm: 0.3901\n",
            "Epoch 60: Train Loss: 0.0033, Test Loss: 0.0027, Train L1 Norm: 0.0071, Test L1 Norm: 0.0109, Train Linf Norm: 0.3150, Test Linf Norm: 0.4361\n",
            "Epoch 61: Train Loss: 0.0032, Test Loss: 0.0026, Train L1 Norm: 0.0075, Test L1 Norm: 0.0086, Train Linf Norm: 0.3372, Test Linf Norm: 0.3351\n",
            "Epoch 62: Train Loss: 0.0033, Test Loss: 0.0028, Train L1 Norm: 0.0075, Test L1 Norm: 0.0108, Train Linf Norm: 0.3365, Test Linf Norm: 0.4542\n",
            "Epoch 63: Train Loss: 0.0032, Test Loss: 0.0026, Train L1 Norm: 0.0074, Test L1 Norm: 0.0092, Train Linf Norm: 0.3390, Test Linf Norm: 0.3701\n",
            "Epoch 64: Train Loss: 0.0033, Test Loss: 0.0033, Train L1 Norm: 0.0085, Test L1 Norm: 0.0103, Train Linf Norm: 0.4021, Test Linf Norm: 0.4154\n",
            "Epoch 65: Train Loss: 0.0033, Test Loss: 0.0047, Train L1 Norm: 0.0068, Test L1 Norm: 0.0099, Train Linf Norm: 0.2906, Test Linf Norm: 0.3792\n",
            "Epoch 66: Train Loss: 0.0027, Test Loss: 0.0024, Train L1 Norm: 0.0066, Test L1 Norm: 0.0103, Train Linf Norm: 0.2979, Test Linf Norm: 0.4380\n",
            "Epoch 67: Train Loss: 0.0027, Test Loss: 0.0026, Train L1 Norm: 0.0061, Test L1 Norm: 0.0091, Train Linf Norm: 0.2705, Test Linf Norm: 0.3749\n",
            "Epoch 68: Train Loss: 0.0026, Test Loss: 0.0025, Train L1 Norm: 0.0061, Test L1 Norm: 0.0103, Train Linf Norm: 0.2730, Test Linf Norm: 0.4219\n",
            "Epoch 69: Train Loss: 0.0027, Test Loss: 0.0027, Train L1 Norm: 0.0060, Test L1 Norm: 0.0093, Train Linf Norm: 0.2619, Test Linf Norm: 0.3698\n",
            "Epoch 70: Train Loss: 0.0027, Test Loss: 0.0029, Train L1 Norm: 0.0067, Test L1 Norm: 0.0096, Train Linf Norm: 0.3058, Test Linf Norm: 0.3880\n",
            "Epoch 71: Train Loss: 0.0027, Test Loss: 0.0026, Train L1 Norm: 0.0063, Test L1 Norm: 0.0091, Train Linf Norm: 0.2805, Test Linf Norm: 0.3736\n",
            "Epoch 72: Train Loss: 0.0027, Test Loss: 0.0024, Train L1 Norm: 0.0062, Test L1 Norm: 0.0102, Train Linf Norm: 0.2734, Test Linf Norm: 0.4238\n",
            "Epoch 73: Train Loss: 0.0026, Test Loss: 0.0030, Train L1 Norm: 0.0063, Test L1 Norm: 0.0104, Train Linf Norm: 0.2891, Test Linf Norm: 0.4322\n",
            "Epoch 74: Train Loss: 0.0026, Test Loss: 0.0033, Train L1 Norm: 0.0055, Test L1 Norm: 0.0105, Train Linf Norm: 0.2374, Test Linf Norm: 0.4272\n",
            "Epoch 75: Train Loss: 0.0026, Test Loss: 0.0023, Train L1 Norm: 0.0060, Test L1 Norm: 0.0093, Train Linf Norm: 0.2666, Test Linf Norm: 0.3894\n",
            "Epoch 76: Train Loss: 0.0026, Test Loss: 0.0027, Train L1 Norm: 0.0065, Test L1 Norm: 0.0094, Train Linf Norm: 0.2978, Test Linf Norm: 0.3905\n",
            "Epoch 77: Train Loss: 0.0026, Test Loss: 0.0025, Train L1 Norm: 0.0063, Test L1 Norm: 0.0087, Train Linf Norm: 0.2824, Test Linf Norm: 0.3542\n",
            "Epoch 78: Train Loss: 0.0026, Test Loss: 0.0029, Train L1 Norm: 0.0057, Test L1 Norm: 0.0095, Train Linf Norm: 0.2437, Test Linf Norm: 0.3785\n",
            "Epoch 79: Train Loss: 0.0026, Test Loss: 0.0033, Train L1 Norm: 0.0061, Test L1 Norm: 0.0096, Train Linf Norm: 0.2749, Test Linf Norm: 0.3868\n",
            "Epoch 80: Train Loss: 0.0026, Test Loss: 0.0025, Train L1 Norm: 0.0062, Test L1 Norm: 0.0103, Train Linf Norm: 0.2816, Test Linf Norm: 0.4373\n",
            "Epoch 81: Train Loss: 0.0025, Test Loss: 0.0023, Train L1 Norm: 0.0059, Test L1 Norm: 0.0102, Train Linf Norm: 0.2600, Test Linf Norm: 0.4353\n",
            "Epoch 82: Train Loss: 0.0023, Test Loss: 0.0024, Train L1 Norm: 0.0056, Test L1 Norm: 0.0103, Train Linf Norm: 0.2505, Test Linf Norm: 0.4395\n",
            "Epoch 83: Train Loss: 0.0023, Test Loss: 0.0026, Train L1 Norm: 0.0055, Test L1 Norm: 0.0093, Train Linf Norm: 0.2448, Test Linf Norm: 0.3841\n",
            "Epoch 84: Train Loss: 0.0023, Test Loss: 0.0026, Train L1 Norm: 0.0054, Test L1 Norm: 0.0095, Train Linf Norm: 0.2372, Test Linf Norm: 0.3936\n",
            "Epoch 85: Train Loss: 0.0023, Test Loss: 0.0025, Train L1 Norm: 0.0055, Test L1 Norm: 0.0099, Train Linf Norm: 0.2443, Test Linf Norm: 0.4133\n",
            "Epoch 86: Train Loss: 0.0023, Test Loss: 0.0022, Train L1 Norm: 0.0056, Test L1 Norm: 0.0099, Train Linf Norm: 0.2494, Test Linf Norm: 0.4236\n",
            "Epoch 87: Train Loss: 0.0023, Test Loss: 0.0022, Train L1 Norm: 0.0057, Test L1 Norm: 0.0098, Train Linf Norm: 0.2591, Test Linf Norm: 0.4161\n",
            "Epoch 88: Train Loss: 0.0023, Test Loss: 0.0022, Train L1 Norm: 0.0055, Test L1 Norm: 0.0096, Train Linf Norm: 0.2424, Test Linf Norm: 0.4067\n",
            "Epoch 89: Train Loss: 0.0023, Test Loss: 0.0022, Train L1 Norm: 0.0054, Test L1 Norm: 0.0097, Train Linf Norm: 0.2348, Test Linf Norm: 0.4124\n",
            "Epoch 90: Train Loss: 0.0023, Test Loss: 0.0022, Train L1 Norm: 0.0057, Test L1 Norm: 0.0099, Train Linf Norm: 0.2536, Test Linf Norm: 0.4146\n",
            "Epoch 91: Train Loss: 0.0023, Test Loss: 0.0023, Train L1 Norm: 0.0057, Test L1 Norm: 0.0098, Train Linf Norm: 0.2600, Test Linf Norm: 0.4061\n",
            "Epoch 92: Train Loss: 0.0023, Test Loss: 0.0024, Train L1 Norm: 0.0054, Test L1 Norm: 0.0098, Train Linf Norm: 0.2412, Test Linf Norm: 0.4136\n",
            "Epoch 93: Train Loss: 0.0022, Test Loss: 0.0023, Train L1 Norm: 0.0054, Test L1 Norm: 0.0092, Train Linf Norm: 0.2469, Test Linf Norm: 0.3867\n",
            "Epoch 94: Train Loss: 0.0022, Test Loss: 0.0023, Train L1 Norm: 0.0052, Test L1 Norm: 0.0096, Train Linf Norm: 0.2335, Test Linf Norm: 0.4067\n",
            "Epoch 95: Train Loss: 0.0022, Test Loss: 0.0021, Train L1 Norm: 0.0053, Test L1 Norm: 0.0096, Train Linf Norm: 0.2398, Test Linf Norm: 0.4067\n",
            "Epoch 96: Train Loss: 0.0022, Test Loss: 0.0022, Train L1 Norm: 0.0055, Test L1 Norm: 0.0099, Train Linf Norm: 0.2497, Test Linf Norm: 0.4206\n",
            "Epoch 97: Train Loss: 0.0021, Test Loss: 0.0022, Train L1 Norm: 0.0052, Test L1 Norm: 0.0092, Train Linf Norm: 0.2337, Test Linf Norm: 0.3853\n",
            "Epoch 98: Train Loss: 0.0021, Test Loss: 0.0023, Train L1 Norm: 0.0052, Test L1 Norm: 0.0095, Train Linf Norm: 0.2315, Test Linf Norm: 0.3989\n"
          ]
        },
        {
          "output_type": "stream",
          "name": "stderr",
          "text": [
            "\u001b[32m[I 2023-05-13 13:26:11,990]\u001b[0m Trial 19 finished with value: 0.009567859932000284 and parameters: {'n_layers': 3, 'n_units_0': 90, 'n_units_1': 118, 'n_units_2': 172, 'hidden_activation': 'ReLU', 'output_activation': 'Linear', 'loss': 'MAE', 'optimizer': 'Adam', 'lr': 0.0005470011377787506, 'batch_size': 63, 'n_epochs': 99, 'scheduler': 'ReduceLROnPlateau'}. Best is trial 15 with value: 0.004734441414102912.\u001b[0m\n"
          ]
        },
        {
          "output_type": "stream",
          "name": "stdout",
          "text": [
            "Epoch 99: Train Loss: 0.0022, Test Loss: 0.0022, Train L1 Norm: 0.0052, Test L1 Norm: 0.0096, Train Linf Norm: 0.2294, Test Linf Norm: 0.4058\n"
          ]
        },
        {
          "output_type": "stream",
          "name": "stderr",
          "text": [
            "\u001b[32m[I 2023-05-13 13:26:13,418]\u001b[0m Trial 20 pruned. \u001b[0m\n"
          ]
        },
        {
          "output_type": "stream",
          "name": "stdout",
          "text": [
            "Epoch 1: Train Loss: 0.2227, Test Loss: 0.0533, Train L1 Norm: 0.4589, Test L1 Norm: 0.1388, Train Linf Norm: 51.1116, Test Linf Norm: 10.9979\n",
            "Epoch 1: Train Loss: 0.1841, Test Loss: 0.0408, Train L1 Norm: 0.2943, Test L1 Norm: 0.1006, Train Linf Norm: 33.8123, Test Linf Norm: 10.2629\n",
            "Epoch 2: Train Loss: 0.0504, Test Loss: 0.0400, Train L1 Norm: 0.0811, Test L1 Norm: 0.0503, Train Linf Norm: 10.1164, Test Linf Norm: 3.5009\n",
            "Epoch 3: Train Loss: 0.0341, Test Loss: 0.0142, Train L1 Norm: 0.0884, Test L1 Norm: 0.0512, Train Linf Norm: 14.2363, Test Linf Norm: 6.0945\n",
            "Epoch 4: Train Loss: 0.0309, Test Loss: 0.0408, Train L1 Norm: 0.0558, Test L1 Norm: 0.0828, Train Linf Norm: 7.0231, Test Linf Norm: 7.5773\n",
            "Epoch 5: Train Loss: 0.0282, Test Loss: 0.0344, Train L1 Norm: 0.0485, Test L1 Norm: 0.0305, Train Linf Norm: 6.1121, Test Linf Norm: 2.3971\n",
            "Epoch 6: Train Loss: 0.0412, Test Loss: 0.0678, Train L1 Norm: 0.0630, Test L1 Norm: 0.1162, Train Linf Norm: 7.9150, Test Linf Norm: 10.1343\n",
            "Epoch 7: Train Loss: 0.0315, Test Loss: 0.0148, Train L1 Norm: 0.0486, Test L1 Norm: 0.0260, Train Linf Norm: 5.7473, Test Linf Norm: 2.6260\n",
            "Epoch 8: Train Loss: 0.0283, Test Loss: 0.0167, Train L1 Norm: 0.0559, Test L1 Norm: 0.0383, Train Linf Norm: 7.7194, Test Linf Norm: 3.6247\n",
            "Epoch 9: Train Loss: 0.0232, Test Loss: 0.0191, Train L1 Norm: 0.0429, Test L1 Norm: 0.0530, Train Linf Norm: 5.7284, Test Linf Norm: 5.6922\n",
            "Epoch 10: Train Loss: 0.0115, Test Loss: 0.0069, Train L1 Norm: 0.0243, Test L1 Norm: 0.0145, Train Linf Norm: 3.4453, Test Linf Norm: 1.4373\n",
            "Epoch 11: Train Loss: 0.0085, Test Loss: 0.0058, Train L1 Norm: 0.0209, Test L1 Norm: 0.0101, Train Linf Norm: 3.0270, Test Linf Norm: 0.9072\n",
            "Epoch 12: Train Loss: 0.0142, Test Loss: 0.0111, Train L1 Norm: 0.0284, Test L1 Norm: 0.0265, Train Linf Norm: 3.8121, Test Linf Norm: 2.6701\n",
            "Epoch 13: Train Loss: 0.0119, Test Loss: 0.0067, Train L1 Norm: 0.0251, Test L1 Norm: 0.0216, Train Linf Norm: 3.5697, Test Linf Norm: 2.1919\n",
            "Epoch 14: Train Loss: 0.0118, Test Loss: 0.0307, Train L1 Norm: 0.0229, Test L1 Norm: 0.0239, Train Linf Norm: 2.9807, Test Linf Norm: 2.0722\n",
            "Epoch 15: Train Loss: 0.0134, Test Loss: 0.0139, Train L1 Norm: 0.0236, Test L1 Norm: 0.0395, Train Linf Norm: 2.9455, Test Linf Norm: 3.5516\n",
            "Epoch 16: Train Loss: 0.0114, Test Loss: 0.0119, Train L1 Norm: 0.0230, Test L1 Norm: 0.0219, Train Linf Norm: 3.0725, Test Linf Norm: 2.2069\n",
            "Epoch 17: Train Loss: 0.0152, Test Loss: 0.0126, Train L1 Norm: 0.0267, Test L1 Norm: 0.0280, Train Linf Norm: 3.6007, Test Linf Norm: 2.5954\n",
            "Epoch 18: Train Loss: 0.0057, Test Loss: 0.0047, Train L1 Norm: 0.0128, Test L1 Norm: 0.0134, Train Linf Norm: 1.7223, Test Linf Norm: 1.4423\n",
            "Epoch 19: Train Loss: 0.0060, Test Loss: 0.0068, Train L1 Norm: 0.0130, Test L1 Norm: 0.0133, Train Linf Norm: 1.6973, Test Linf Norm: 1.4496\n",
            "Epoch 20: Train Loss: 0.0067, Test Loss: 0.0050, Train L1 Norm: 0.0144, Test L1 Norm: 0.0142, Train Linf Norm: 1.9092, Test Linf Norm: 1.5013\n",
            "Epoch 21: Train Loss: 0.0065, Test Loss: 0.0067, Train L1 Norm: 0.0147, Test L1 Norm: 0.0205, Train Linf Norm: 2.0579, Test Linf Norm: 2.1595\n",
            "Epoch 22: Train Loss: 0.0060, Test Loss: 0.0040, Train L1 Norm: 0.0139, Test L1 Norm: 0.0116, Train Linf Norm: 1.9465, Test Linf Norm: 1.1582\n",
            "Epoch 23: Train Loss: 0.0058, Test Loss: 0.0063, Train L1 Norm: 0.0148, Test L1 Norm: 0.0183, Train Linf Norm: 2.1313, Test Linf Norm: 1.6971\n",
            "Epoch 24: Train Loss: 0.0069, Test Loss: 0.0045, Train L1 Norm: 0.0125, Test L1 Norm: 0.0116, Train Linf Norm: 1.5238, Test Linf Norm: 1.1917\n",
            "Epoch 25: Train Loss: 0.0068, Test Loss: 0.0037, Train L1 Norm: 0.0129, Test L1 Norm: 0.0072, Train Linf Norm: 1.6499, Test Linf Norm: 0.6431\n",
            "Epoch 26: Train Loss: 0.0057, Test Loss: 0.0045, Train L1 Norm: 0.0126, Test L1 Norm: 0.0081, Train Linf Norm: 1.7171, Test Linf Norm: 0.7448\n",
            "Epoch 27: Train Loss: 0.0059, Test Loss: 0.0093, Train L1 Norm: 0.0122, Test L1 Norm: 0.0156, Train Linf Norm: 1.5687, Test Linf Norm: 1.6020\n",
            "Epoch 28: Train Loss: 0.0059, Test Loss: 0.0091, Train L1 Norm: 0.0129, Test L1 Norm: 0.0173, Train Linf Norm: 1.7264, Test Linf Norm: 1.5065\n",
            "Epoch 29: Train Loss: 0.0062, Test Loss: 0.0058, Train L1 Norm: 0.0124, Test L1 Norm: 0.0087, Train Linf Norm: 1.6386, Test Linf Norm: 0.8270\n",
            "Epoch 30: Train Loss: 0.0057, Test Loss: 0.0067, Train L1 Norm: 0.0127, Test L1 Norm: 0.0079, Train Linf Norm: 1.7249, Test Linf Norm: 0.6430\n",
            "Epoch 31: Train Loss: 0.0058, Test Loss: 0.0049, Train L1 Norm: 0.0120, Test L1 Norm: 0.0113, Train Linf Norm: 1.6065, Test Linf Norm: 1.2393\n",
            "Epoch 32: Train Loss: 0.0034, Test Loss: 0.0041, Train L1 Norm: 0.0096, Test L1 Norm: 0.0091, Train Linf Norm: 1.3753, Test Linf Norm: 0.8832\n",
            "Epoch 33: Train Loss: 0.0034, Test Loss: 0.0033, Train L1 Norm: 0.0093, Test L1 Norm: 0.0061, Train Linf Norm: 1.3708, Test Linf Norm: 0.6429\n",
            "Epoch 34: Train Loss: 0.0034, Test Loss: 0.0030, Train L1 Norm: 0.0094, Test L1 Norm: 0.0084, Train Linf Norm: 1.3666, Test Linf Norm: 0.8174\n",
            "Epoch 35: Train Loss: 0.0038, Test Loss: 0.0044, Train L1 Norm: 0.0082, Test L1 Norm: 0.0116, Train Linf Norm: 1.0513, Test Linf Norm: 1.1413\n",
            "Epoch 36: Train Loss: 0.0039, Test Loss: 0.0069, Train L1 Norm: 0.0103, Test L1 Norm: 0.0073, Train Linf Norm: 1.5405, Test Linf Norm: 0.5112\n",
            "Epoch 37: Train Loss: 0.0034, Test Loss: 0.0029, Train L1 Norm: 0.0086, Test L1 Norm: 0.0076, Train Linf Norm: 1.1565, Test Linf Norm: 0.7723\n",
            "Epoch 38: Train Loss: 0.0036, Test Loss: 0.0027, Train L1 Norm: 0.0081, Test L1 Norm: 0.0082, Train Linf Norm: 1.0413, Test Linf Norm: 0.8036\n",
            "Epoch 39: Train Loss: 0.0037, Test Loss: 0.0026, Train L1 Norm: 0.0080, Test L1 Norm: 0.0060, Train Linf Norm: 1.0016, Test Linf Norm: 0.6349\n",
            "Epoch 40: Train Loss: 0.0035, Test Loss: 0.0057, Train L1 Norm: 0.0088, Test L1 Norm: 0.0119, Train Linf Norm: 1.2563, Test Linf Norm: 1.2510\n",
            "Epoch 41: Train Loss: 0.0035, Test Loss: 0.0039, Train L1 Norm: 0.0089, Test L1 Norm: 0.0120, Train Linf Norm: 1.2620, Test Linf Norm: 1.1867\n",
            "Epoch 42: Train Loss: 0.0034, Test Loss: 0.0026, Train L1 Norm: 0.0080, Test L1 Norm: 0.0070, Train Linf Norm: 1.0401, Test Linf Norm: 0.7084\n",
            "Epoch 43: Train Loss: 0.0038, Test Loss: 0.0033, Train L1 Norm: 0.0096, Test L1 Norm: 0.0071, Train Linf Norm: 1.3769, Test Linf Norm: 0.7408\n",
            "Epoch 44: Train Loss: 0.0032, Test Loss: 0.0046, Train L1 Norm: 0.0080, Test L1 Norm: 0.0070, Train Linf Norm: 1.1071, Test Linf Norm: 0.6448\n",
            "Epoch 45: Train Loss: 0.0035, Test Loss: 0.0050, Train L1 Norm: 0.0076, Test L1 Norm: 0.0108, Train Linf Norm: 0.9729, Test Linf Norm: 1.2212\n",
            "Epoch 46: Train Loss: 0.0026, Test Loss: 0.0025, Train L1 Norm: 0.0066, Test L1 Norm: 0.0053, Train Linf Norm: 0.8865, Test Linf Norm: 0.4673\n",
            "Epoch 47: Train Loss: 0.0026, Test Loss: 0.0023, Train L1 Norm: 0.0068, Test L1 Norm: 0.0061, Train Linf Norm: 0.9303, Test Linf Norm: 0.6656\n",
            "Epoch 48: Train Loss: 0.0025, Test Loss: 0.0025, Train L1 Norm: 0.0062, Test L1 Norm: 0.0051, Train Linf Norm: 0.8066, Test Linf Norm: 0.4915\n",
            "Epoch 49: Train Loss: 0.0025, Test Loss: 0.0026, Train L1 Norm: 0.0073, Test L1 Norm: 0.0056, Train Linf Norm: 1.0100, Test Linf Norm: 0.6205\n",
            "Epoch 50: Train Loss: 0.0026, Test Loss: 0.0034, Train L1 Norm: 0.0067, Test L1 Norm: 0.0055, Train Linf Norm: 0.9080, Test Linf Norm: 0.4850\n",
            "Epoch 51: Train Loss: 0.0025, Test Loss: 0.0026, Train L1 Norm: 0.0076, Test L1 Norm: 0.0045, Train Linf Norm: 1.1250, Test Linf Norm: 0.4341\n",
            "Epoch 52: Train Loss: 0.0025, Test Loss: 0.0022, Train L1 Norm: 0.0069, Test L1 Norm: 0.0048, Train Linf Norm: 0.9657, Test Linf Norm: 0.4545\n",
            "Epoch 53: Train Loss: 0.0026, Test Loss: 0.0026, Train L1 Norm: 0.0063, Test L1 Norm: 0.0047, Train Linf Norm: 0.8181, Test Linf Norm: 0.4202\n",
            "Epoch 54: Train Loss: 0.0026, Test Loss: 0.0028, Train L1 Norm: 0.0059, Test L1 Norm: 0.0061, Train Linf Norm: 0.7203, Test Linf Norm: 0.5842\n",
            "Epoch 55: Train Loss: 0.0027, Test Loss: 0.0022, Train L1 Norm: 0.0071, Test L1 Norm: 0.0062, Train Linf Norm: 0.9887, Test Linf Norm: 0.6749\n",
            "Epoch 56: Train Loss: 0.0025, Test Loss: 0.0022, Train L1 Norm: 0.0066, Test L1 Norm: 0.0042, Train Linf Norm: 0.8754, Test Linf Norm: 0.3805\n",
            "Epoch 57: Train Loss: 0.0023, Test Loss: 0.0032, Train L1 Norm: 0.0063, Test L1 Norm: 0.0072, Train Linf Norm: 0.8131, Test Linf Norm: 0.6245\n",
            "Epoch 58: Train Loss: 0.0027, Test Loss: 0.0030, Train L1 Norm: 0.0069, Test L1 Norm: 0.0065, Train Linf Norm: 0.9555, Test Linf Norm: 0.6394\n",
            "Epoch 59: Train Loss: 0.0026, Test Loss: 0.0023, Train L1 Norm: 0.0066, Test L1 Norm: 0.0052, Train Linf Norm: 0.8969, Test Linf Norm: 0.5033\n",
            "Epoch 60: Train Loss: 0.0026, Test Loss: 0.0025, Train L1 Norm: 0.0068, Test L1 Norm: 0.0073, Train Linf Norm: 0.9366, Test Linf Norm: 0.7188\n",
            "Epoch 61: Train Loss: 0.0024, Test Loss: 0.0023, Train L1 Norm: 0.0057, Test L1 Norm: 0.0057, Train Linf Norm: 0.7069, Test Linf Norm: 0.5351\n"
          ]
        },
        {
          "output_type": "stream",
          "name": "stderr",
          "text": [
            "\u001b[32m[I 2023-05-13 13:27:41,847]\u001b[0m Trial 21 finished with value: 0.00494525133096613 and parameters: {'n_layers': 3, 'n_units_0': 77, 'n_units_1': 211, 'n_units_2': 105, 'hidden_activation': 'ReLU', 'output_activation': 'Linear', 'loss': 'MAE', 'optimizer': 'Adam', 'lr': 0.0005913979290441168, 'batch_size': 230, 'n_epochs': 62, 'scheduler': 'ReduceLROnPlateau'}. Best is trial 15 with value: 0.004734441414102912.\u001b[0m\n"
          ]
        },
        {
          "output_type": "stream",
          "name": "stdout",
          "text": [
            "Epoch 62: Train Loss: 0.0021, Test Loss: 0.0021, Train L1 Norm: 0.0053, Test L1 Norm: 0.0049, Train Linf Norm: 0.6687, Test Linf Norm: 0.5081\n",
            "Epoch 1: Train Loss: 0.1968, Test Loss: 0.0220, Train L1 Norm: 0.3665, Test L1 Norm: 0.0562, Train Linf Norm: 44.5939, Test Linf Norm: 5.1515\n",
            "Epoch 2: Train Loss: 0.0260, Test Loss: 0.0156, Train L1 Norm: 0.0511, Test L1 Norm: 0.0377, Train Linf Norm: 6.4707, Test Linf Norm: 2.7865\n",
            "Epoch 3: Train Loss: 0.0295, Test Loss: 0.0190, Train L1 Norm: 0.0548, Test L1 Norm: 0.0335, Train Linf Norm: 6.9118, Test Linf Norm: 3.0326\n",
            "Epoch 4: Train Loss: 0.0233, Test Loss: 0.0094, Train L1 Norm: 0.0486, Test L1 Norm: 0.0369, Train Linf Norm: 6.5175, Test Linf Norm: 3.6335\n",
            "Epoch 5: Train Loss: 0.0272, Test Loss: 0.0173, Train L1 Norm: 0.0585, Test L1 Norm: 0.0690, Train Linf Norm: 8.4924, Test Linf Norm: 6.8100\n",
            "Epoch 6: Train Loss: 0.0212, Test Loss: 0.0136, Train L1 Norm: 0.0467, Test L1 Norm: 0.0316, Train Linf Norm: 6.4075, Test Linf Norm: 2.1036\n",
            "Epoch 7: Train Loss: 0.0224, Test Loss: 0.0162, Train L1 Norm: 0.0428, Test L1 Norm: 0.0409, Train Linf Norm: 5.7159, Test Linf Norm: 3.8166\n",
            "Epoch 8: Train Loss: 0.0245, Test Loss: 0.0426, Train L1 Norm: 0.0404, Test L1 Norm: 0.0783, Train Linf Norm: 4.8684, Test Linf Norm: 5.7237\n",
            "Epoch 9: Train Loss: 0.0207, Test Loss: 0.0131, Train L1 Norm: 0.0372, Test L1 Norm: 0.0610, Train Linf Norm: 4.7568, Test Linf Norm: 5.4359\n",
            "Epoch 10: Train Loss: 0.0224, Test Loss: 0.0372, Train L1 Norm: 0.0348, Test L1 Norm: 0.0605, Train Linf Norm: 3.6671, Test Linf Norm: 4.3128\n",
            "Epoch 11: Train Loss: 0.0097, Test Loss: 0.0074, Train L1 Norm: 0.0227, Test L1 Norm: 0.0106, Train Linf Norm: 3.1354, Test Linf Norm: 0.7673\n",
            "Epoch 12: Train Loss: 0.0093, Test Loss: 0.0057, Train L1 Norm: 0.0198, Test L1 Norm: 0.0153, Train Linf Norm: 2.6854, Test Linf Norm: 1.3158\n",
            "Epoch 13: Train Loss: 0.0091, Test Loss: 0.0054, Train L1 Norm: 0.0185, Test L1 Norm: 0.0141, Train Linf Norm: 2.3839, Test Linf Norm: 1.1724\n",
            "Epoch 14: Train Loss: 0.0092, Test Loss: 0.0115, Train L1 Norm: 0.0188, Test L1 Norm: 0.0131, Train Linf Norm: 2.4580, Test Linf Norm: 0.9396\n",
            "Epoch 15: Train Loss: 0.0134, Test Loss: 0.0055, Train L1 Norm: 0.0289, Test L1 Norm: 0.0122, Train Linf Norm: 4.1257, Test Linf Norm: 1.0038\n",
            "Epoch 16: Train Loss: 0.0099, Test Loss: 0.0081, Train L1 Norm: 0.0201, Test L1 Norm: 0.0108, Train Linf Norm: 2.3511, Test Linf Norm: 0.8872\n",
            "Epoch 17: Train Loss: 0.0112, Test Loss: 0.0060, Train L1 Norm: 0.0203, Test L1 Norm: 0.0104, Train Linf Norm: 2.6564, Test Linf Norm: 0.8161\n",
            "Epoch 18: Train Loss: 0.0108, Test Loss: 0.0277, Train L1 Norm: 0.0218, Test L1 Norm: 0.0191, Train Linf Norm: 2.9907, Test Linf Norm: 0.7029\n",
            "Epoch 19: Train Loss: 0.0128, Test Loss: 0.0068, Train L1 Norm: 0.0242, Test L1 Norm: 0.0169, Train Linf Norm: 3.2533, Test Linf Norm: 1.4117\n",
            "Epoch 20: Train Loss: 0.0047, Test Loss: 0.0041, Train L1 Norm: 0.0124, Test L1 Norm: 0.0134, Train Linf Norm: 1.7293, Test Linf Norm: 1.0898\n",
            "Epoch 21: Train Loss: 0.0052, Test Loss: 0.0041, Train L1 Norm: 0.0133, Test L1 Norm: 0.0080, Train Linf Norm: 1.9042, Test Linf Norm: 0.5948\n",
            "Epoch 22: Train Loss: 0.0057, Test Loss: 0.0043, Train L1 Norm: 0.0125, Test L1 Norm: 0.0083, Train Linf Norm: 1.6635, Test Linf Norm: 0.6624\n",
            "Epoch 23: Train Loss: 0.0055, Test Loss: 0.0096, Train L1 Norm: 0.0130, Test L1 Norm: 0.0120, Train Linf Norm: 1.7612, Test Linf Norm: 0.9000\n",
            "Epoch 24: Train Loss: 0.0059, Test Loss: 0.0036, Train L1 Norm: 0.0116, Test L1 Norm: 0.0100, Train Linf Norm: 1.4883, Test Linf Norm: 0.8356\n",
            "Epoch 25: Train Loss: 0.0056, Test Loss: 0.0111, Train L1 Norm: 0.0112, Test L1 Norm: 0.0121, Train Linf Norm: 1.4217, Test Linf Norm: 0.7262\n",
            "Epoch 26: Train Loss: 0.0055, Test Loss: 0.0036, Train L1 Norm: 0.0130, Test L1 Norm: 0.0075, Train Linf Norm: 1.7744, Test Linf Norm: 0.6490\n",
            "Epoch 27: Train Loss: 0.0059, Test Loss: 0.0059, Train L1 Norm: 0.0117, Test L1 Norm: 0.0086, Train Linf Norm: 1.4509, Test Linf Norm: 0.7077\n",
            "Epoch 28: Train Loss: 0.0048, Test Loss: 0.0034, Train L1 Norm: 0.0098, Test L1 Norm: 0.0147, Train Linf Norm: 1.1621, Test Linf Norm: 1.4515\n",
            "Epoch 29: Train Loss: 0.0054, Test Loss: 0.0102, Train L1 Norm: 0.0140, Test L1 Norm: 0.0137, Train Linf Norm: 2.0645, Test Linf Norm: 0.9633\n",
            "Epoch 30: Train Loss: 0.0064, Test Loss: 0.0047, Train L1 Norm: 0.0135, Test L1 Norm: 0.0074, Train Linf Norm: 1.7982, Test Linf Norm: 0.6253\n",
            "Epoch 31: Train Loss: 0.0048, Test Loss: 0.0036, Train L1 Norm: 0.0109, Test L1 Norm: 0.0118, Train Linf Norm: 1.3726, Test Linf Norm: 1.3674\n",
            "Epoch 32: Train Loss: 0.0069, Test Loss: 0.0068, Train L1 Norm: 0.0134, Test L1 Norm: 0.0131, Train Linf Norm: 1.7135, Test Linf Norm: 0.9294\n",
            "Epoch 33: Train Loss: 0.0052, Test Loss: 0.0061, Train L1 Norm: 0.0137, Test L1 Norm: 0.0198, Train Linf Norm: 1.9725, Test Linf Norm: 1.5596\n",
            "Epoch 34: Train Loss: 0.0054, Test Loss: 0.0122, Train L1 Norm: 0.0104, Test L1 Norm: 0.0175, Train Linf Norm: 1.2327, Test Linf Norm: 1.0156\n",
            "Epoch 35: Train Loss: 0.0035, Test Loss: 0.0038, Train L1 Norm: 0.0100, Test L1 Norm: 0.0113, Train Linf Norm: 1.4445, Test Linf Norm: 0.9522\n",
            "Epoch 36: Train Loss: 0.0035, Test Loss: 0.0036, Train L1 Norm: 0.0095, Test L1 Norm: 0.0073, Train Linf Norm: 1.3423, Test Linf Norm: 0.6822\n",
            "Epoch 37: Train Loss: 0.0037, Test Loss: 0.0029, Train L1 Norm: 0.0085, Test L1 Norm: 0.0074, Train Linf Norm: 1.0762, Test Linf Norm: 0.6917\n",
            "Epoch 38: Train Loss: 0.0035, Test Loss: 0.0030, Train L1 Norm: 0.0093, Test L1 Norm: 0.0058, Train Linf Norm: 1.2428, Test Linf Norm: 0.5501\n",
            "Epoch 39: Train Loss: 0.0036, Test Loss: 0.0030, Train L1 Norm: 0.0093, Test L1 Norm: 0.0071, Train Linf Norm: 1.2657, Test Linf Norm: 0.6510\n",
            "Epoch 40: Train Loss: 0.0036, Test Loss: 0.0032, Train L1 Norm: 0.0095, Test L1 Norm: 0.0138, Train Linf Norm: 1.3167, Test Linf Norm: 1.5253\n",
            "Epoch 41: Train Loss: 0.0034, Test Loss: 0.0054, Train L1 Norm: 0.0086, Test L1 Norm: 0.0103, Train Linf Norm: 1.1422, Test Linf Norm: 0.8013\n",
            "Epoch 42: Train Loss: 0.0035, Test Loss: 0.0031, Train L1 Norm: 0.0093, Test L1 Norm: 0.0080, Train Linf Norm: 1.2898, Test Linf Norm: 0.6795\n",
            "Epoch 43: Train Loss: 0.0039, Test Loss: 0.0030, Train L1 Norm: 0.0097, Test L1 Norm: 0.0087, Train Linf Norm: 1.3386, Test Linf Norm: 0.8113\n",
            "Epoch 44: Train Loss: 0.0029, Test Loss: 0.0032, Train L1 Norm: 0.0078, Test L1 Norm: 0.0073, Train Linf Norm: 1.0661, Test Linf Norm: 0.6415\n",
            "Epoch 45: Train Loss: 0.0029, Test Loss: 0.0027, Train L1 Norm: 0.0079, Test L1 Norm: 0.0071, Train Linf Norm: 1.0897, Test Linf Norm: 0.6602\n",
            "Epoch 46: Train Loss: 0.0028, Test Loss: 0.0027, Train L1 Norm: 0.0072, Test L1 Norm: 0.0062, Train Linf Norm: 0.9487, Test Linf Norm: 0.6681\n",
            "Epoch 47: Train Loss: 0.0029, Test Loss: 0.0030, Train L1 Norm: 0.0076, Test L1 Norm: 0.0067, Train Linf Norm: 0.9826, Test Linf Norm: 0.6221\n",
            "Epoch 48: Train Loss: 0.0029, Test Loss: 0.0027, Train L1 Norm: 0.0080, Test L1 Norm: 0.0061, Train Linf Norm: 1.1101, Test Linf Norm: 0.6025\n",
            "Epoch 49: Train Loss: 0.0029, Test Loss: 0.0027, Train L1 Norm: 0.0077, Test L1 Norm: 0.0072, Train Linf Norm: 1.0508, Test Linf Norm: 0.6845\n",
            "Epoch 50: Train Loss: 0.0029, Test Loss: 0.0026, Train L1 Norm: 0.0079, Test L1 Norm: 0.0058, Train Linf Norm: 1.0945, Test Linf Norm: 0.5563\n",
            "Epoch 51: Train Loss: 0.0029, Test Loss: 0.0028, Train L1 Norm: 0.0075, Test L1 Norm: 0.0064, Train Linf Norm: 1.0083, Test Linf Norm: 0.6455\n",
            "Epoch 52: Train Loss: 0.0028, Test Loss: 0.0026, Train L1 Norm: 0.0081, Test L1 Norm: 0.0073, Train Linf Norm: 1.1375, Test Linf Norm: 0.6914\n",
            "Epoch 53: Train Loss: 0.0029, Test Loss: 0.0029, Train L1 Norm: 0.0076, Test L1 Norm: 0.0082, Train Linf Norm: 1.0038, Test Linf Norm: 0.8036\n",
            "Epoch 54: Train Loss: 0.0028, Test Loss: 0.0027, Train L1 Norm: 0.0080, Test L1 Norm: 0.0068, Train Linf Norm: 1.1498, Test Linf Norm: 0.6225\n",
            "Epoch 55: Train Loss: 0.0029, Test Loss: 0.0026, Train L1 Norm: 0.0081, Test L1 Norm: 0.0061, Train Linf Norm: 1.1439, Test Linf Norm: 0.6177\n",
            "Epoch 56: Train Loss: 0.0028, Test Loss: 0.0028, Train L1 Norm: 0.0068, Test L1 Norm: 0.0071, Train Linf Norm: 0.8464, Test Linf Norm: 0.6865\n",
            "Epoch 57: Train Loss: 0.0028, Test Loss: 0.0027, Train L1 Norm: 0.0070, Test L1 Norm: 0.0068, Train Linf Norm: 0.9252, Test Linf Norm: 0.6385\n",
            "Epoch 58: Train Loss: 0.0028, Test Loss: 0.0025, Train L1 Norm: 0.0067, Test L1 Norm: 0.0070, Train Linf Norm: 0.8397, Test Linf Norm: 0.7031\n",
            "Epoch 59: Train Loss: 0.0028, Test Loss: 0.0033, Train L1 Norm: 0.0073, Test L1 Norm: 0.0068, Train Linf Norm: 0.9757, Test Linf Norm: 0.7130\n",
            "Epoch 60: Train Loss: 0.0028, Test Loss: 0.0032, Train L1 Norm: 0.0077, Test L1 Norm: 0.0059, Train Linf Norm: 1.0716, Test Linf Norm: 0.5521\n",
            "Epoch 61: Train Loss: 0.0027, Test Loss: 0.0032, Train L1 Norm: 0.0073, Test L1 Norm: 0.0054, Train Linf Norm: 0.9730, Test Linf Norm: 0.5239\n",
            "Epoch 62: Train Loss: 0.0027, Test Loss: 0.0025, Train L1 Norm: 0.0073, Test L1 Norm: 0.0061, Train Linf Norm: 0.9927, Test Linf Norm: 0.6036\n",
            "Epoch 63: Train Loss: 0.0028, Test Loss: 0.0036, Train L1 Norm: 0.0071, Test L1 Norm: 0.0076, Train Linf Norm: 0.9231, Test Linf Norm: 0.6523\n",
            "Epoch 64: Train Loss: 0.0027, Test Loss: 0.0026, Train L1 Norm: 0.0069, Test L1 Norm: 0.0055, Train Linf Norm: 0.8782, Test Linf Norm: 0.6056\n",
            "Epoch 65: Train Loss: 0.0026, Test Loss: 0.0029, Train L1 Norm: 0.0075, Test L1 Norm: 0.0068, Train Linf Norm: 1.0355, Test Linf Norm: 0.6380\n",
            "Epoch 66: Train Loss: 0.0028, Test Loss: 0.0031, Train L1 Norm: 0.0069, Test L1 Norm: 0.0095, Train Linf Norm: 0.9005, Test Linf Norm: 0.8274\n",
            "Epoch 67: Train Loss: 0.0028, Test Loss: 0.0024, Train L1 Norm: 0.0068, Test L1 Norm: 0.0054, Train Linf Norm: 0.8782, Test Linf Norm: 0.5528\n",
            "Epoch 68: Train Loss: 0.0027, Test Loss: 0.0024, Train L1 Norm: 0.0072, Test L1 Norm: 0.0059, Train Linf Norm: 0.9701, Test Linf Norm: 0.6064\n",
            "Epoch 69: Train Loss: 0.0027, Test Loss: 0.0026, Train L1 Norm: 0.0071, Test L1 Norm: 0.0060, Train Linf Norm: 0.9485, Test Linf Norm: 0.6446\n",
            "Epoch 70: Train Loss: 0.0026, Test Loss: 0.0034, Train L1 Norm: 0.0067, Test L1 Norm: 0.0068, Train Linf Norm: 0.8773, Test Linf Norm: 0.7162\n",
            "Epoch 71: Train Loss: 0.0027, Test Loss: 0.0026, Train L1 Norm: 0.0077, Test L1 Norm: 0.0058, Train Linf Norm: 0.9514, Test Linf Norm: 0.5267\n",
            "Epoch 72: Train Loss: 0.0027, Test Loss: 0.0024, Train L1 Norm: 0.0073, Test L1 Norm: 0.0062, Train Linf Norm: 1.0052, Test Linf Norm: 0.6823\n",
            "Epoch 73: Train Loss: 0.0026, Test Loss: 0.0031, Train L1 Norm: 0.0072, Test L1 Norm: 0.0066, Train Linf Norm: 0.9883, Test Linf Norm: 0.6831\n",
            "Epoch 74: Train Loss: 0.0026, Test Loss: 0.0024, Train L1 Norm: 0.0074, Test L1 Norm: 0.0061, Train Linf Norm: 1.0488, Test Linf Norm: 0.6540\n",
            "Epoch 75: Train Loss: 0.0024, Test Loss: 0.0023, Train L1 Norm: 0.0071, Test L1 Norm: 0.0058, Train Linf Norm: 1.0059, Test Linf Norm: 0.5811\n"
          ]
        },
        {
          "output_type": "stream",
          "name": "stderr",
          "text": [
            "\u001b[32m[I 2023-05-13 13:29:30,915]\u001b[0m Trial 22 finished with value: 0.00580207780180499 and parameters: {'n_layers': 3, 'n_units_0': 102, 'n_units_1': 179, 'n_units_2': 59, 'hidden_activation': 'ReLU', 'output_activation': 'Linear', 'loss': 'MAE', 'optimizer': 'Adam', 'lr': 0.0005409596523471863, 'batch_size': 226, 'n_epochs': 76, 'scheduler': 'ReduceLROnPlateau'}. Best is trial 15 with value: 0.004734441414102912.\u001b[0m\n"
          ]
        },
        {
          "output_type": "stream",
          "name": "stdout",
          "text": [
            "Epoch 76: Train Loss: 0.0024, Test Loss: 0.0024, Train L1 Norm: 0.0072, Test L1 Norm: 0.0058, Train Linf Norm: 1.0383, Test Linf Norm: 0.5877\n",
            "Epoch 1: Train Loss: 0.2762, Test Loss: 0.0269, Train L1 Norm: 0.3525, Test L1 Norm: 0.0674, Train Linf Norm: 40.8008, Test Linf Norm: 8.9025\n"
          ]
        },
        {
          "output_type": "stream",
          "name": "stderr",
          "text": [
            "\u001b[32m[I 2023-05-13 13:29:34,205]\u001b[0m Trial 23 pruned. \u001b[0m\n"
          ]
        },
        {
          "output_type": "stream",
          "name": "stdout",
          "text": [
            "Epoch 2: Train Loss: 0.0262, Test Loss: 0.0176, Train L1 Norm: 0.0513, Test L1 Norm: 0.0764, Train Linf Norm: 6.7181, Test Linf Norm: 11.7020\n",
            "Epoch 1: Train Loss: 0.2042, Test Loss: 0.0686, Train L1 Norm: 0.3265, Test L1 Norm: 0.0662, Train Linf Norm: 27.6389, Test Linf Norm: 4.5620\n"
          ]
        },
        {
          "output_type": "stream",
          "name": "stderr",
          "text": [
            "\u001b[32m[I 2023-05-13 13:29:37,042]\u001b[0m Trial 24 pruned. \u001b[0m\n"
          ]
        },
        {
          "output_type": "stream",
          "name": "stdout",
          "text": [
            "Epoch 2: Train Loss: 0.0438, Test Loss: 0.0454, Train L1 Norm: 0.0792, Test L1 Norm: 0.0839, Train Linf Norm: 9.6382, Test Linf Norm: 7.0209\n",
            "Epoch 1: Train Loss: 0.1513, Test Loss: 0.0294, Train L1 Norm: 0.4405, Test L1 Norm: 0.0892, Train Linf Norm: 45.9756, Test Linf Norm: 6.5751\n"
          ]
        },
        {
          "output_type": "stream",
          "name": "stderr",
          "text": [
            "\u001b[32m[I 2023-05-13 13:29:39,961]\u001b[0m Trial 25 pruned. \u001b[0m\n"
          ]
        },
        {
          "output_type": "stream",
          "name": "stdout",
          "text": [
            "Epoch 2: Train Loss: 0.0460, Test Loss: 0.0624, Train L1 Norm: 0.0802, Test L1 Norm: 0.0541, Train Linf Norm: 7.0859, Test Linf Norm: 2.4260\n"
          ]
        },
        {
          "output_type": "stream",
          "name": "stderr",
          "text": [
            "\u001b[32m[I 2023-05-13 13:29:41,350]\u001b[0m Trial 26 pruned. \u001b[0m\n"
          ]
        },
        {
          "output_type": "stream",
          "name": "stdout",
          "text": [
            "Epoch 1: Train Loss: 20.5170, Test Loss: 20.5477, Train L1 Norm: 1.0000, Test L1 Norm: 1.0000, Train Linf Norm: 1.0000, Test Linf Norm: 1.0000\n",
            "Epoch 1: Train Loss: 0.1064, Test Loss: 0.0003, Train L1 Norm: 0.5465, Test L1 Norm: 0.0495, Train Linf Norm: 73.0199, Test Linf Norm: 4.3891\n",
            "Epoch 2: Train Loss: 0.0003, Test Loss: 0.0001, Train L1 Norm: 0.0522, Test L1 Norm: 0.0453, Train Linf Norm: 5.6200, Test Linf Norm: 4.6576\n",
            "Epoch 3: Train Loss: 0.0005, Test Loss: 0.0012, Train L1 Norm: 0.0446, Test L1 Norm: 0.0373, Train Linf Norm: 5.4924, Test Linf Norm: 2.5808\n",
            "Epoch 4: Train Loss: 0.0006, Test Loss: 0.0001, Train L1 Norm: 0.0444, Test L1 Norm: 0.0303, Train Linf Norm: 5.2766, Test Linf Norm: 2.6764\n",
            "Epoch 5: Train Loss: 0.0006, Test Loss: 0.0001, Train L1 Norm: 0.0411, Test L1 Norm: 0.0476, Train Linf Norm: 5.0784, Test Linf Norm: 4.6718\n",
            "Epoch 6: Train Loss: 0.0009, Test Loss: 0.0001, Train L1 Norm: 0.0453, Test L1 Norm: 0.0223, Train Linf Norm: 5.4867, Test Linf Norm: 2.0246\n",
            "Epoch 7: Train Loss: 0.0001, Test Loss: 0.0001, Train L1 Norm: 0.0297, Test L1 Norm: 0.0262, Train Linf Norm: 3.6973, Test Linf Norm: 2.4733\n",
            "Epoch 8: Train Loss: 0.0003, Test Loss: 0.0006, Train L1 Norm: 0.0307, Test L1 Norm: 0.0306, Train Linf Norm: 3.4466, Test Linf Norm: 2.3956\n",
            "Epoch 9: Train Loss: 0.0013, Test Loss: 0.0399, Train L1 Norm: 0.0421, Test L1 Norm: 0.3291, Train Linf Norm: 4.7460, Test Linf Norm: 26.3665\n",
            "Epoch 10: Train Loss: 0.0014, Test Loss: 0.0001, Train L1 Norm: 0.0691, Test L1 Norm: 0.0305, Train Linf Norm: 9.4707, Test Linf Norm: 2.8539\n",
            "Epoch 11: Train Loss: 0.0001, Test Loss: 0.0000, Train L1 Norm: 0.0302, Test L1 Norm: 0.0258, Train Linf Norm: 3.9885, Test Linf Norm: 2.2861\n",
            "Epoch 12: Train Loss: 0.0001, Test Loss: 0.0000, Train L1 Norm: 0.0311, Test L1 Norm: 0.0326, Train Linf Norm: 4.2986, Test Linf Norm: 3.4293\n",
            "Epoch 13: Train Loss: 0.0001, Test Loss: 0.0000, Train L1 Norm: 0.0307, Test L1 Norm: 0.0215, Train Linf Norm: 4.1380, Test Linf Norm: 2.0734\n",
            "Epoch 14: Train Loss: 0.0003, Test Loss: 0.0000, Train L1 Norm: 0.0314, Test L1 Norm: 0.0202, Train Linf Norm: 4.0898, Test Linf Norm: 1.6553\n",
            "Epoch 15: Train Loss: 0.0003, Test Loss: 0.0006, Train L1 Norm: 0.0414, Test L1 Norm: 0.0515, Train Linf Norm: 5.9673, Test Linf Norm: 4.1892\n",
            "Epoch 16: Train Loss: 0.0003, Test Loss: 0.0000, Train L1 Norm: 0.0289, Test L1 Norm: 0.0226, Train Linf Norm: 3.3324, Test Linf Norm: 2.2983\n",
            "Epoch 17: Train Loss: 0.0005, Test Loss: 0.0000, Train L1 Norm: 0.0311, Test L1 Norm: 0.0221, Train Linf Norm: 3.4109, Test Linf Norm: 2.2083\n",
            "Epoch 18: Train Loss: 0.0001, Test Loss: 0.0000, Train L1 Norm: 0.0277, Test L1 Norm: 0.0152, Train Linf Norm: 3.7267, Test Linf Norm: 1.2894\n",
            "Epoch 19: Train Loss: 0.0003, Test Loss: 0.0004, Train L1 Norm: 0.0313, Test L1 Norm: 0.0245, Train Linf Norm: 3.7816, Test Linf Norm: 1.3938\n",
            "Epoch 20: Train Loss: 0.0003, Test Loss: 0.0001, Train L1 Norm: 0.0274, Test L1 Norm: 0.0197, Train Linf Norm: 3.0801, Test Linf Norm: 1.5357\n",
            "Epoch 21: Train Loss: 0.0005, Test Loss: 0.0001, Train L1 Norm: 0.0412, Test L1 Norm: 0.0279, Train Linf Norm: 5.4492, Test Linf Norm: 2.7107\n",
            "Epoch 22: Train Loss: 0.0000, Test Loss: 0.0002, Train L1 Norm: 0.0246, Test L1 Norm: 0.0348, Train Linf Norm: 3.4085, Test Linf Norm: 3.4447\n",
            "Epoch 23: Train Loss: 0.0005, Test Loss: 0.0000, Train L1 Norm: 0.0333, Test L1 Norm: 0.0196, Train Linf Norm: 4.1591, Test Linf Norm: 2.0294\n",
            "Epoch 24: Train Loss: 0.0001, Test Loss: 0.0000, Train L1 Norm: 0.0229, Test L1 Norm: 0.0134, Train Linf Norm: 3.0342, Test Linf Norm: 1.2076\n",
            "Epoch 25: Train Loss: 0.0001, Test Loss: 0.0001, Train L1 Norm: 0.0242, Test L1 Norm: 0.0254, Train Linf Norm: 2.8110, Test Linf Norm: 2.0395\n",
            "Epoch 26: Train Loss: 0.0004, Test Loss: 0.0000, Train L1 Norm: 0.0345, Test L1 Norm: 0.0242, Train Linf Norm: 4.6705, Test Linf Norm: 2.8101\n",
            "Epoch 27: Train Loss: 0.0002, Test Loss: 0.0000, Train L1 Norm: 0.0304, Test L1 Norm: 0.0196, Train Linf Norm: 4.0273, Test Linf Norm: 1.9469\n",
            "Epoch 28: Train Loss: 0.0001, Test Loss: 0.0004, Train L1 Norm: 0.0253, Test L1 Norm: 0.0416, Train Linf Norm: 3.3012, Test Linf Norm: 4.6122\n",
            "Epoch 29: Train Loss: 0.0002, Test Loss: 0.0003, Train L1 Norm: 0.0365, Test L1 Norm: 0.0228, Train Linf Norm: 5.3930, Test Linf Norm: 1.6078\n",
            "Epoch 30: Train Loss: 0.0003, Test Loss: 0.0000, Train L1 Norm: 0.0277, Test L1 Norm: 0.0181, Train Linf Norm: 3.4108, Test Linf Norm: 1.7173\n",
            "Epoch 31: Train Loss: 0.0000, Test Loss: 0.0000, Train L1 Norm: 0.0192, Test L1 Norm: 0.0114, Train Linf Norm: 2.6618, Test Linf Norm: 0.9974\n",
            "Epoch 32: Train Loss: 0.0000, Test Loss: 0.0000, Train L1 Norm: 0.0166, Test L1 Norm: 0.0148, Train Linf Norm: 2.1075, Test Linf Norm: 1.3905\n",
            "Epoch 33: Train Loss: 0.0000, Test Loss: 0.0000, Train L1 Norm: 0.0171, Test L1 Norm: 0.0164, Train Linf Norm: 2.1238, Test Linf Norm: 1.7651\n",
            "Epoch 34: Train Loss: 0.0000, Test Loss: 0.0000, Train L1 Norm: 0.0166, Test L1 Norm: 0.0134, Train Linf Norm: 2.2441, Test Linf Norm: 1.2338\n",
            "Epoch 35: Train Loss: 0.0001, Test Loss: 0.0000, Train L1 Norm: 0.0196, Test L1 Norm: 0.0123, Train Linf Norm: 2.5514, Test Linf Norm: 1.1676\n",
            "Epoch 36: Train Loss: 0.0001, Test Loss: 0.0000, Train L1 Norm: 0.0176, Test L1 Norm: 0.0115, Train Linf Norm: 2.1759, Test Linf Norm: 0.9017\n",
            "Epoch 37: Train Loss: 0.0001, Test Loss: 0.0001, Train L1 Norm: 0.0161, Test L1 Norm: 0.0133, Train Linf Norm: 1.9639, Test Linf Norm: 1.0331\n",
            "Epoch 38: Train Loss: 0.0001, Test Loss: 0.0000, Train L1 Norm: 0.0199, Test L1 Norm: 0.0134, Train Linf Norm: 2.6239, Test Linf Norm: 1.1097\n",
            "Epoch 39: Train Loss: 0.0000, Test Loss: 0.0000, Train L1 Norm: 0.0170, Test L1 Norm: 0.0108, Train Linf Norm: 2.3216, Test Linf Norm: 1.0760\n",
            "Epoch 40: Train Loss: 0.0000, Test Loss: 0.0000, Train L1 Norm: 0.0141, Test L1 Norm: 0.0091, Train Linf Norm: 1.9859, Test Linf Norm: 0.8056\n",
            "Epoch 41: Train Loss: 0.0000, Test Loss: 0.0000, Train L1 Norm: 0.0121, Test L1 Norm: 0.0118, Train Linf Norm: 1.5578, Test Linf Norm: 1.1771\n",
            "Epoch 42: Train Loss: 0.0000, Test Loss: 0.0000, Train L1 Norm: 0.0110, Test L1 Norm: 0.0086, Train Linf Norm: 1.3630, Test Linf Norm: 0.7058\n",
            "Epoch 43: Train Loss: 0.0000, Test Loss: 0.0000, Train L1 Norm: 0.0118, Test L1 Norm: 0.0177, Train Linf Norm: 1.4764, Test Linf Norm: 1.8468\n",
            "Epoch 44: Train Loss: 0.0000, Test Loss: 0.0000, Train L1 Norm: 0.0121, Test L1 Norm: 0.0206, Train Linf Norm: 1.5236, Test Linf Norm: 2.1179\n",
            "Epoch 45: Train Loss: 0.0000, Test Loss: 0.0000, Train L1 Norm: 0.0124, Test L1 Norm: 0.0089, Train Linf Norm: 1.5841, Test Linf Norm: 0.8513\n",
            "Epoch 46: Train Loss: 0.0000, Test Loss: 0.0000, Train L1 Norm: 0.0120, Test L1 Norm: 0.0098, Train Linf Norm: 1.5266, Test Linf Norm: 0.8560\n",
            "Epoch 47: Train Loss: 0.0000, Test Loss: 0.0001, Train L1 Norm: 0.0147, Test L1 Norm: 0.0139, Train Linf Norm: 2.0284, Test Linf Norm: 1.2411\n",
            "Epoch 48: Train Loss: 0.0000, Test Loss: 0.0000, Train L1 Norm: 0.0135, Test L1 Norm: 0.0078, Train Linf Norm: 1.8384, Test Linf Norm: 0.6078\n",
            "Epoch 49: Train Loss: 0.0000, Test Loss: 0.0000, Train L1 Norm: 0.0127, Test L1 Norm: 0.0089, Train Linf Norm: 1.5696, Test Linf Norm: 0.8094\n",
            "Epoch 50: Train Loss: 0.0000, Test Loss: 0.0000, Train L1 Norm: 0.0130, Test L1 Norm: 0.0088, Train Linf Norm: 1.7902, Test Linf Norm: 0.7383\n",
            "Epoch 51: Train Loss: 0.0000, Test Loss: 0.0000, Train L1 Norm: 0.0116, Test L1 Norm: 0.0145, Train Linf Norm: 1.4540, Test Linf Norm: 1.3932\n",
            "Epoch 52: Train Loss: 0.0000, Test Loss: 0.0000, Train L1 Norm: 0.0147, Test L1 Norm: 0.0076, Train Linf Norm: 2.0128, Test Linf Norm: 0.6187\n",
            "Epoch 53: Train Loss: 0.0000, Test Loss: 0.0002, Train L1 Norm: 0.0110, Test L1 Norm: 0.0181, Train Linf Norm: 1.4126, Test Linf Norm: 1.4972\n",
            "Epoch 54: Train Loss: 0.0000, Test Loss: 0.0000, Train L1 Norm: 0.0117, Test L1 Norm: 0.0086, Train Linf Norm: 1.5196, Test Linf Norm: 0.7014\n",
            "Epoch 55: Train Loss: 0.0000, Test Loss: 0.0000, Train L1 Norm: 0.0119, Test L1 Norm: 0.0118, Train Linf Norm: 1.5127, Test Linf Norm: 1.3255\n",
            "Epoch 56: Train Loss: 0.0000, Test Loss: 0.0000, Train L1 Norm: 0.0103, Test L1 Norm: 0.0065, Train Linf Norm: 1.2580, Test Linf Norm: 0.5638\n",
            "Epoch 57: Train Loss: 0.0000, Test Loss: 0.0000, Train L1 Norm: 0.0128, Test L1 Norm: 0.0072, Train Linf Norm: 1.7628, Test Linf Norm: 0.6163\n",
            "Epoch 58: Train Loss: 0.0000, Test Loss: 0.0000, Train L1 Norm: 0.0131, Test L1 Norm: 0.0074, Train Linf Norm: 1.8342, Test Linf Norm: 0.6837\n",
            "Epoch 59: Train Loss: 0.0000, Test Loss: 0.0000, Train L1 Norm: 0.0148, Test L1 Norm: 0.0078, Train Linf Norm: 2.1645, Test Linf Norm: 0.6456\n",
            "Epoch 60: Train Loss: 0.0000, Test Loss: 0.0000, Train L1 Norm: 0.0116, Test L1 Norm: 0.0100, Train Linf Norm: 1.4795, Test Linf Norm: 1.0338\n",
            "Epoch 61: Train Loss: 0.0000, Test Loss: 0.0000, Train L1 Norm: 0.0129, Test L1 Norm: 0.0061, Train Linf Norm: 1.7238, Test Linf Norm: 0.5078\n",
            "Epoch 62: Train Loss: 0.0000, Test Loss: 0.0000, Train L1 Norm: 0.0102, Test L1 Norm: 0.0052, Train Linf Norm: 1.3362, Test Linf Norm: 0.3989\n",
            "Epoch 63: Train Loss: 0.0000, Test Loss: 0.0001, Train L1 Norm: 0.0105, Test L1 Norm: 0.0088, Train Linf Norm: 1.2810, Test Linf Norm: 0.6258\n",
            "Epoch 64: Train Loss: 0.0000, Test Loss: 0.0001, Train L1 Norm: 0.0106, Test L1 Norm: 0.0191, Train Linf Norm: 1.3599, Test Linf Norm: 1.6207\n",
            "Epoch 65: Train Loss: 0.0000, Test Loss: 0.0000, Train L1 Norm: 0.0105, Test L1 Norm: 0.0070, Train Linf Norm: 1.2809, Test Linf Norm: 0.5322\n",
            "Epoch 66: Train Loss: 0.0000, Test Loss: 0.0000, Train L1 Norm: 0.0111, Test L1 Norm: 0.0084, Train Linf Norm: 1.5081, Test Linf Norm: 0.7553\n",
            "Epoch 67: Train Loss: 0.0000, Test Loss: 0.0000, Train L1 Norm: 0.0110, Test L1 Norm: 0.0063, Train Linf Norm: 1.5042, Test Linf Norm: 0.5401\n",
            "Epoch 68: Train Loss: 0.0000, Test Loss: 0.0000, Train L1 Norm: 0.0118, Test L1 Norm: 0.0065, Train Linf Norm: 1.4957, Test Linf Norm: 0.5813\n",
            "Epoch 69: Train Loss: 0.0000, Test Loss: 0.0000, Train L1 Norm: 0.0090, Test L1 Norm: 0.0101, Train Linf Norm: 1.1303, Test Linf Norm: 0.9826\n",
            "Epoch 70: Train Loss: 0.0000, Test Loss: 0.0000, Train L1 Norm: 0.0096, Test L1 Norm: 0.0106, Train Linf Norm: 1.1695, Test Linf Norm: 0.9536\n",
            "Epoch 71: Train Loss: 0.0000, Test Loss: 0.0000, Train L1 Norm: 0.0120, Test L1 Norm: 0.0130, Train Linf Norm: 1.6458, Test Linf Norm: 1.1301\n",
            "Epoch 72: Train Loss: 0.0000, Test Loss: 0.0001, Train L1 Norm: 0.0107, Test L1 Norm: 0.0146, Train Linf Norm: 1.3854, Test Linf Norm: 1.1808\n",
            "Epoch 73: Train Loss: 0.0000, Test Loss: 0.0000, Train L1 Norm: 0.0100, Test L1 Norm: 0.0154, Train Linf Norm: 1.3182, Test Linf Norm: 1.5160\n",
            "Epoch 74: Train Loss: 0.0000, Test Loss: 0.0000, Train L1 Norm: 0.0119, Test L1 Norm: 0.0061, Train Linf Norm: 1.6782, Test Linf Norm: 0.5421\n",
            "Epoch 75: Train Loss: 0.0000, Test Loss: 0.0000, Train L1 Norm: 0.0128, Test L1 Norm: 0.0065, Train Linf Norm: 1.7672, Test Linf Norm: 0.6114\n"
          ]
        },
        {
          "output_type": "stream",
          "name": "stderr",
          "text": [
            "\u001b[32m[I 2023-05-13 13:31:32,582]\u001b[0m Trial 27 finished with value: 0.007941199789522216 and parameters: {'n_layers': 3, 'n_units_0': 79, 'n_units_1': 200, 'n_units_2': 39, 'hidden_activation': 'ReLU', 'output_activation': 'Linear', 'loss': 'Huber', 'optimizer': 'Adam', 'lr': 0.0010265877349123747, 'batch_size': 206, 'n_epochs': 76, 'scheduler': 'ReduceLROnPlateau'}. Best is trial 15 with value: 0.004734441414102912.\u001b[0m\n"
          ]
        },
        {
          "output_type": "stream",
          "name": "stdout",
          "text": [
            "Epoch 76: Train Loss: 0.0000, Test Loss: 0.0000, Train L1 Norm: 0.0099, Test L1 Norm: 0.0079, Train Linf Norm: 1.2707, Test Linf Norm: 0.7594\n"
          ]
        },
        {
          "output_type": "stream",
          "name": "stderr",
          "text": [
            "\u001b[32m[I 2023-05-13 13:31:33,964]\u001b[0m Trial 28 pruned. \u001b[0m\n"
          ]
        },
        {
          "output_type": "stream",
          "name": "stdout",
          "text": [
            "Epoch 1: Train Loss: 0.2863, Test Loss: 0.0417, Train L1 Norm: 1.4862, Test L1 Norm: 0.7040, Train Linf Norm: 169.5609, Test Linf Norm: 52.9727\n"
          ]
        },
        {
          "output_type": "stream",
          "name": "stderr",
          "text": [
            "\u001b[32m[I 2023-05-13 13:31:35,745]\u001b[0m Trial 29 pruned. \u001b[0m\n"
          ]
        },
        {
          "output_type": "stream",
          "name": "stdout",
          "text": [
            "Epoch 1: Train Loss: 0.2929, Test Loss: 0.0199, Train L1 Norm: 0.8154, Test L1 Norm: 0.1624, Train Linf Norm: 105.2377, Test Linf Norm: 15.6681\n"
          ]
        },
        {
          "output_type": "stream",
          "name": "stderr",
          "text": [
            "\u001b[32m[I 2023-05-13 13:31:37,745]\u001b[0m Trial 30 pruned. \u001b[0m\n"
          ]
        },
        {
          "output_type": "stream",
          "name": "stdout",
          "text": [
            "Epoch 1: Train Loss: 1.8278, Test Loss: 1.2766, Train L1 Norm: 3.0806, Test L1 Norm: 4.1432, Train Linf Norm: 283.6865, Test Linf Norm: 407.9297\n"
          ]
        },
        {
          "output_type": "stream",
          "name": "stderr",
          "text": [
            "\u001b[32m[I 2023-05-13 13:31:39,066]\u001b[0m Trial 31 pruned. \u001b[0m\n"
          ]
        },
        {
          "output_type": "stream",
          "name": "stdout",
          "text": [
            "Epoch 1: Train Loss: 0.2541, Test Loss: 0.0599, Train L1 Norm: 0.5583, Test L1 Norm: 0.1009, Train Linf Norm: 84.0058, Test Linf Norm: 8.7843\n",
            "Epoch 1: Train Loss: 0.1945, Test Loss: 0.0393, Train L1 Norm: 0.6340, Test L1 Norm: 0.0485, Train Linf Norm: 107.9293, Test Linf Norm: 4.1141\n",
            "Epoch 2: Train Loss: 0.0442, Test Loss: 0.0175, Train L1 Norm: 0.0723, Test L1 Norm: 0.0759, Train Linf Norm: 9.4921, Test Linf Norm: 10.0742\n",
            "Epoch 3: Train Loss: 0.0376, Test Loss: 0.0254, Train L1 Norm: 0.0678, Test L1 Norm: 0.0623, Train Linf Norm: 9.4536, Test Linf Norm: 8.4550\n",
            "Epoch 4: Train Loss: 0.0374, Test Loss: 0.0916, Train L1 Norm: 0.0540, Test L1 Norm: 0.0919, Train Linf Norm: 6.6401, Test Linf Norm: 9.2264\n",
            "Epoch 5: Train Loss: 0.0381, Test Loss: 0.0243, Train L1 Norm: 0.0518, Test L1 Norm: 0.0697, Train Linf Norm: 5.8942, Test Linf Norm: 9.0996\n",
            "Epoch 6: Train Loss: 0.0269, Test Loss: 0.0435, Train L1 Norm: 0.0446, Test L1 Norm: 0.0462, Train Linf Norm: 5.8559, Test Linf Norm: 4.9764\n",
            "Epoch 7: Train Loss: 0.0428, Test Loss: 0.0402, Train L1 Norm: 0.0657, Test L1 Norm: 0.0636, Train Linf Norm: 8.7780, Test Linf Norm: 7.4433\n",
            "Epoch 8: Train Loss: 0.0368, Test Loss: 0.0349, Train L1 Norm: 0.0579, Test L1 Norm: 0.0512, Train Linf Norm: 7.7062, Test Linf Norm: 6.2661\n",
            "Epoch 9: Train Loss: 0.0116, Test Loss: 0.0070, Train L1 Norm: 0.0300, Test L1 Norm: 0.0172, Train Linf Norm: 4.5593, Test Linf Norm: 1.7238\n",
            "Epoch 10: Train Loss: 0.0124, Test Loss: 0.0179, Train L1 Norm: 0.0264, Test L1 Norm: 0.0211, Train Linf Norm: 3.6842, Test Linf Norm: 1.9978\n",
            "Epoch 11: Train Loss: 0.0165, Test Loss: 0.0207, Train L1 Norm: 0.0259, Test L1 Norm: 0.0197, Train Linf Norm: 3.1152, Test Linf Norm: 1.4374\n",
            "Epoch 12: Train Loss: 0.0130, Test Loss: 0.0148, Train L1 Norm: 0.0228, Test L1 Norm: 0.0215, Train Linf Norm: 2.8227, Test Linf Norm: 2.3027\n",
            "Epoch 13: Train Loss: 0.0139, Test Loss: 0.0091, Train L1 Norm: 0.0257, Test L1 Norm: 0.0162, Train Linf Norm: 3.4961, Test Linf Norm: 1.6450\n",
            "Epoch 14: Train Loss: 0.0149, Test Loss: 0.0176, Train L1 Norm: 0.0262, Test L1 Norm: 0.0291, Train Linf Norm: 3.5487, Test Linf Norm: 3.3832\n",
            "Epoch 15: Train Loss: 0.0163, Test Loss: 0.0118, Train L1 Norm: 0.0280, Test L1 Norm: 0.0220, Train Linf Norm: 3.6680, Test Linf Norm: 2.4049\n",
            "Epoch 16: Train Loss: 0.0065, Test Loss: 0.0101, Train L1 Norm: 0.0174, Test L1 Norm: 0.0191, Train Linf Norm: 2.5874, Test Linf Norm: 2.0928\n",
            "Epoch 17: Train Loss: 0.0069, Test Loss: 0.0101, Train L1 Norm: 0.0155, Test L1 Norm: 0.0141, Train Linf Norm: 2.0501, Test Linf Norm: 1.2330\n",
            "Epoch 18: Train Loss: 0.0073, Test Loss: 0.0091, Train L1 Norm: 0.0161, Test L1 Norm: 0.0172, Train Linf Norm: 2.1417, Test Linf Norm: 1.6648\n",
            "Epoch 19: Train Loss: 0.0077, Test Loss: 0.0168, Train L1 Norm: 0.0167, Test L1 Norm: 0.0249, Train Linf Norm: 2.2014, Test Linf Norm: 2.6137\n",
            "Epoch 20: Train Loss: 0.0069, Test Loss: 0.0097, Train L1 Norm: 0.0129, Test L1 Norm: 0.0151, Train Linf Norm: 1.4868, Test Linf Norm: 1.3367\n",
            "Epoch 21: Train Loss: 0.0074, Test Loss: 0.0051, Train L1 Norm: 0.0143, Test L1 Norm: 0.0143, Train Linf Norm: 1.7785, Test Linf Norm: 1.6472\n",
            "Epoch 22: Train Loss: 0.0077, Test Loss: 0.0085, Train L1 Norm: 0.0149, Test L1 Norm: 0.0189, Train Linf Norm: 1.7651, Test Linf Norm: 2.0154\n",
            "Epoch 23: Train Loss: 0.0085, Test Loss: 0.0046, Train L1 Norm: 0.0157, Test L1 Norm: 0.0187, Train Linf Norm: 2.0586, Test Linf Norm: 2.1784\n",
            "Epoch 24: Train Loss: 0.0071, Test Loss: 0.0126, Train L1 Norm: 0.0132, Test L1 Norm: 0.0206, Train Linf Norm: 1.6254, Test Linf Norm: 2.0836\n",
            "Epoch 25: Train Loss: 0.0088, Test Loss: 0.0069, Train L1 Norm: 0.0148, Test L1 Norm: 0.0115, Train Linf Norm: 1.8268, Test Linf Norm: 1.1241\n",
            "Epoch 26: Train Loss: 0.0067, Test Loss: 0.0051, Train L1 Norm: 0.0143, Test L1 Norm: 0.0127, Train Linf Norm: 1.9178, Test Linf Norm: 1.4112\n",
            "Epoch 27: Train Loss: 0.0077, Test Loss: 0.0163, Train L1 Norm: 0.0163, Test L1 Norm: 0.0121, Train Linf Norm: 2.2094, Test Linf Norm: 0.8026\n",
            "Epoch 28: Train Loss: 0.0072, Test Loss: 0.0145, Train L1 Norm: 0.0139, Test L1 Norm: 0.0215, Train Linf Norm: 1.7614, Test Linf Norm: 2.3904\n",
            "Epoch 29: Train Loss: 0.0072, Test Loss: 0.0080, Train L1 Norm: 0.0139, Test L1 Norm: 0.0167, Train Linf Norm: 1.7670, Test Linf Norm: 1.8672\n",
            "Epoch 30: Train Loss: 0.0044, Test Loss: 0.0039, Train L1 Norm: 0.0102, Test L1 Norm: 0.0097, Train Linf Norm: 1.2779, Test Linf Norm: 1.0493\n",
            "Epoch 31: Train Loss: 0.0043, Test Loss: 0.0065, Train L1 Norm: 0.0101, Test L1 Norm: 0.0143, Train Linf Norm: 1.3068, Test Linf Norm: 1.6321\n",
            "Epoch 32: Train Loss: 0.0043, Test Loss: 0.0038, Train L1 Norm: 0.0102, Test L1 Norm: 0.0081, Train Linf Norm: 1.3164, Test Linf Norm: 0.7549\n",
            "Epoch 33: Train Loss: 0.0043, Test Loss: 0.0045, Train L1 Norm: 0.0107, Test L1 Norm: 0.0100, Train Linf Norm: 1.4251, Test Linf Norm: 1.0622\n",
            "Epoch 34: Train Loss: 0.0046, Test Loss: 0.0043, Train L1 Norm: 0.0103, Test L1 Norm: 0.0114, Train Linf Norm: 1.3006, Test Linf Norm: 1.2077\n",
            "Epoch 35: Train Loss: 0.0039, Test Loss: 0.0034, Train L1 Norm: 0.0102, Test L1 Norm: 0.0108, Train Linf Norm: 1.3865, Test Linf Norm: 1.3120\n",
            "Epoch 36: Train Loss: 0.0045, Test Loss: 0.0042, Train L1 Norm: 0.0111, Test L1 Norm: 0.0111, Train Linf Norm: 1.5240, Test Linf Norm: 1.3292\n",
            "Epoch 37: Train Loss: 0.0047, Test Loss: 0.0033, Train L1 Norm: 0.0105, Test L1 Norm: 0.0116, Train Linf Norm: 1.2688, Test Linf Norm: 1.3961\n",
            "Epoch 38: Train Loss: 0.0045, Test Loss: 0.0035, Train L1 Norm: 0.0101, Test L1 Norm: 0.0110, Train Linf Norm: 1.3317, Test Linf Norm: 1.2844\n",
            "Epoch 39: Train Loss: 0.0045, Test Loss: 0.0034, Train L1 Norm: 0.0111, Test L1 Norm: 0.0125, Train Linf Norm: 1.5448, Test Linf Norm: 1.5125\n",
            "Epoch 40: Train Loss: 0.0048, Test Loss: 0.0036, Train L1 Norm: 0.0102, Test L1 Norm: 0.0138, Train Linf Norm: 1.3315, Test Linf Norm: 1.6965\n",
            "Epoch 41: Train Loss: 0.0045, Test Loss: 0.0040, Train L1 Norm: 0.0103, Test L1 Norm: 0.0112, Train Linf Norm: 1.4007, Test Linf Norm: 1.3615\n",
            "Epoch 42: Train Loss: 0.0045, Test Loss: 0.0062, Train L1 Norm: 0.0093, Test L1 Norm: 0.0114, Train Linf Norm: 1.1450, Test Linf Norm: 1.2952\n",
            "Epoch 43: Train Loss: 0.0041, Test Loss: 0.0038, Train L1 Norm: 0.0090, Test L1 Norm: 0.0090, Train Linf Norm: 1.1343, Test Linf Norm: 0.9639\n",
            "Epoch 44: Train Loss: 0.0034, Test Loss: 0.0032, Train L1 Norm: 0.0084, Test L1 Norm: 0.0115, Train Linf Norm: 1.0937, Test Linf Norm: 1.4076\n",
            "Epoch 45: Train Loss: 0.0033, Test Loss: 0.0031, Train L1 Norm: 0.0091, Test L1 Norm: 0.0102, Train Linf Norm: 1.2499, Test Linf Norm: 1.2434\n",
            "Epoch 46: Train Loss: 0.0033, Test Loss: 0.0030, Train L1 Norm: 0.0095, Test L1 Norm: 0.0120, Train Linf Norm: 1.3447, Test Linf Norm: 1.4995\n",
            "Epoch 47: Train Loss: 0.0033, Test Loss: 0.0032, Train L1 Norm: 0.0087, Test L1 Norm: 0.0099, Train Linf Norm: 1.1545, Test Linf Norm: 1.1787\n",
            "Epoch 48: Train Loss: 0.0033, Test Loss: 0.0031, Train L1 Norm: 0.0087, Test L1 Norm: 0.0142, Train Linf Norm: 1.1296, Test Linf Norm: 1.7686\n",
            "Epoch 49: Train Loss: 0.0033, Test Loss: 0.0030, Train L1 Norm: 0.0090, Test L1 Norm: 0.0119, Train Linf Norm: 1.2624, Test Linf Norm: 1.5011\n",
            "Epoch 50: Train Loss: 0.0033, Test Loss: 0.0029, Train L1 Norm: 0.0083, Test L1 Norm: 0.0107, Train Linf Norm: 1.0685, Test Linf Norm: 1.3315\n",
            "Epoch 51: Train Loss: 0.0032, Test Loss: 0.0037, Train L1 Norm: 0.0086, Test L1 Norm: 0.0141, Train Linf Norm: 1.1224, Test Linf Norm: 1.7411\n",
            "Epoch 52: Train Loss: 0.0033, Test Loss: 0.0030, Train L1 Norm: 0.0091, Test L1 Norm: 0.0109, Train Linf Norm: 1.2345, Test Linf Norm: 1.3204\n",
            "Epoch 53: Train Loss: 0.0031, Test Loss: 0.0028, Train L1 Norm: 0.0088, Test L1 Norm: 0.0109, Train Linf Norm: 1.1879, Test Linf Norm: 1.3401\n",
            "Epoch 54: Train Loss: 0.0033, Test Loss: 0.0035, Train L1 Norm: 0.0088, Test L1 Norm: 0.0131, Train Linf Norm: 1.2246, Test Linf Norm: 1.6887\n",
            "Epoch 55: Train Loss: 0.0033, Test Loss: 0.0044, Train L1 Norm: 0.0083, Test L1 Norm: 0.0121, Train Linf Norm: 1.0878, Test Linf Norm: 1.4781\n",
            "Epoch 56: Train Loss: 0.0032, Test Loss: 0.0030, Train L1 Norm: 0.0081, Test L1 Norm: 0.0104, Train Linf Norm: 1.0479, Test Linf Norm: 1.2980\n",
            "Epoch 57: Train Loss: 0.0032, Test Loss: 0.0027, Train L1 Norm: 0.0083, Test L1 Norm: 0.0108, Train Linf Norm: 1.1093, Test Linf Norm: 1.3508\n",
            "Epoch 58: Train Loss: 0.0032, Test Loss: 0.0036, Train L1 Norm: 0.0081, Test L1 Norm: 0.0101, Train Linf Norm: 1.0482, Test Linf Norm: 1.2354\n",
            "Epoch 59: Train Loss: 0.0030, Test Loss: 0.0030, Train L1 Norm: 0.0093, Test L1 Norm: 0.0102, Train Linf Norm: 1.3680, Test Linf Norm: 1.2437\n",
            "Epoch 60: Train Loss: 0.0033, Test Loss: 0.0036, Train L1 Norm: 0.0086, Test L1 Norm: 0.0108, Train Linf Norm: 1.1166, Test Linf Norm: 1.3523\n",
            "Epoch 61: Train Loss: 0.0030, Test Loss: 0.0039, Train L1 Norm: 0.0074, Test L1 Norm: 0.0085, Train Linf Norm: 0.9338, Test Linf Norm: 0.9283\n",
            "Epoch 62: Train Loss: 0.0030, Test Loss: 0.0027, Train L1 Norm: 0.0080, Test L1 Norm: 0.0094, Train Linf Norm: 1.1048, Test Linf Norm: 1.1344\n",
            "Epoch 63: Train Loss: 0.0032, Test Loss: 0.0042, Train L1 Norm: 0.0084, Test L1 Norm: 0.0113, Train Linf Norm: 1.1224, Test Linf Norm: 1.3834\n",
            "Epoch 64: Train Loss: 0.0030, Test Loss: 0.0037, Train L1 Norm: 0.0082, Test L1 Norm: 0.0093, Train Linf Norm: 1.1041, Test Linf Norm: 1.0997\n",
            "Epoch 65: Train Loss: 0.0029, Test Loss: 0.0038, Train L1 Norm: 0.0083, Test L1 Norm: 0.0107, Train Linf Norm: 1.1235, Test Linf Norm: 1.3669\n",
            "Epoch 66: Train Loss: 0.0031, Test Loss: 0.0046, Train L1 Norm: 0.0080, Test L1 Norm: 0.0114, Train Linf Norm: 1.0859, Test Linf Norm: 1.4097\n",
            "Epoch 67: Train Loss: 0.0030, Test Loss: 0.0029, Train L1 Norm: 0.0091, Test L1 Norm: 0.0105, Train Linf Norm: 1.3344, Test Linf Norm: 1.3408\n",
            "Epoch 68: Train Loss: 0.0030, Test Loss: 0.0026, Train L1 Norm: 0.0079, Test L1 Norm: 0.0094, Train Linf Norm: 1.0554, Test Linf Norm: 1.1602\n",
            "Epoch 69: Train Loss: 0.0031, Test Loss: 0.0039, Train L1 Norm: 0.0079, Test L1 Norm: 0.0096, Train Linf Norm: 1.0260, Test Linf Norm: 1.1219\n",
            "Epoch 70: Train Loss: 0.0029, Test Loss: 0.0026, Train L1 Norm: 0.0077, Test L1 Norm: 0.0087, Train Linf Norm: 1.0263, Test Linf Norm: 1.0343\n",
            "Epoch 71: Train Loss: 0.0031, Test Loss: 0.0048, Train L1 Norm: 0.0073, Test L1 Norm: 0.0093, Train Linf Norm: 0.9234, Test Linf Norm: 1.0810\n",
            "Epoch 72: Train Loss: 0.0030, Test Loss: 0.0025, Train L1 Norm: 0.0083, Test L1 Norm: 0.0093, Train Linf Norm: 1.1384, Test Linf Norm: 1.1533\n",
            "Epoch 73: Train Loss: 0.0029, Test Loss: 0.0025, Train L1 Norm: 0.0081, Test L1 Norm: 0.0104, Train Linf Norm: 1.1390, Test Linf Norm: 1.3008\n",
            "Epoch 74: Train Loss: 0.0028, Test Loss: 0.0025, Train L1 Norm: 0.0073, Test L1 Norm: 0.0088, Train Linf Norm: 0.9534, Test Linf Norm: 1.0614\n",
            "Epoch 75: Train Loss: 0.0032, Test Loss: 0.0029, Train L1 Norm: 0.0083, Test L1 Norm: 0.0074, Train Linf Norm: 1.1401, Test Linf Norm: 0.7964\n",
            "Epoch 76: Train Loss: 0.0029, Test Loss: 0.0029, Train L1 Norm: 0.0074, Test L1 Norm: 0.0091, Train Linf Norm: 0.9468, Test Linf Norm: 1.1105\n",
            "Epoch 77: Train Loss: 0.0030, Test Loss: 0.0025, Train L1 Norm: 0.0073, Test L1 Norm: 0.0099, Train Linf Norm: 0.9631, Test Linf Norm: 1.2754\n",
            "Epoch 78: Train Loss: 0.0030, Test Loss: 0.0025, Train L1 Norm: 0.0078, Test L1 Norm: 0.0092, Train Linf Norm: 1.0801, Test Linf Norm: 1.1588\n"
          ]
        },
        {
          "output_type": "stream",
          "name": "stderr",
          "text": [
            "\u001b[32m[I 2023-05-13 13:33:31,232]\u001b[0m Trial 32 finished with value: 0.009019275212218054 and parameters: {'n_layers': 3, 'n_units_0': 121, 'n_units_1': 181, 'n_units_2': 62, 'hidden_activation': 'ReLU', 'output_activation': 'Linear', 'loss': 'MAE', 'optimizer': 'Adam', 'lr': 0.00092344973354885, 'batch_size': 234, 'n_epochs': 79, 'scheduler': 'ReduceLROnPlateau'}. Best is trial 15 with value: 0.004734441414102912.\u001b[0m\n"
          ]
        },
        {
          "output_type": "stream",
          "name": "stdout",
          "text": [
            "Epoch 79: Train Loss: 0.0030, Test Loss: 0.0026, Train L1 Norm: 0.0073, Test L1 Norm: 0.0090, Train Linf Norm: 0.9630, Test Linf Norm: 1.1352\n",
            "Epoch 1: Train Loss: 0.2316, Test Loss: 0.0293, Train L1 Norm: 0.3365, Test L1 Norm: 0.0857, Train Linf Norm: 34.1036, Test Linf Norm: 8.1340\n"
          ]
        },
        {
          "output_type": "stream",
          "name": "stderr",
          "text": [
            "\u001b[32m[I 2023-05-13 13:33:33,973]\u001b[0m Trial 33 pruned. \u001b[0m\n"
          ]
        },
        {
          "output_type": "stream",
          "name": "stdout",
          "text": [
            "Epoch 2: Train Loss: 0.0365, Test Loss: 0.0911, Train L1 Norm: 0.0661, Test L1 Norm: 0.0628, Train Linf Norm: 7.6189, Test Linf Norm: 3.1551\n",
            "Epoch 1: Train Loss: 0.2795, Test Loss: 0.0232, Train L1 Norm: 0.4502, Test L1 Norm: 0.0729, Train Linf Norm: 51.2248, Test Linf Norm: 6.2461\n"
          ]
        },
        {
          "output_type": "stream",
          "name": "stderr",
          "text": [
            "\u001b[32m[I 2023-05-13 13:33:36,549]\u001b[0m Trial 34 pruned. \u001b[0m\n"
          ]
        },
        {
          "output_type": "stream",
          "name": "stdout",
          "text": [
            "Epoch 2: Train Loss: 0.0251, Test Loss: 0.0435, Train L1 Norm: 0.0603, Test L1 Norm: 0.0918, Train Linf Norm: 9.0712, Test Linf Norm: 8.4444\n"
          ]
        },
        {
          "output_type": "stream",
          "name": "stderr",
          "text": [
            "\u001b[32m[I 2023-05-13 13:33:38,095]\u001b[0m Trial 35 pruned. \u001b[0m\n"
          ]
        },
        {
          "output_type": "stream",
          "name": "stdout",
          "text": [
            "Epoch 1: Train Loss: 0.1591, Test Loss: 0.0494, Train L1 Norm: 0.3335, Test L1 Norm: 0.1315, Train Linf Norm: 34.0866, Test Linf Norm: 8.6581\n"
          ]
        },
        {
          "output_type": "stream",
          "name": "stderr",
          "text": [
            "\u001b[32m[I 2023-05-13 13:33:39,845]\u001b[0m Trial 36 pruned. \u001b[0m\n"
          ]
        },
        {
          "output_type": "stream",
          "name": "stdout",
          "text": [
            "Epoch 1: Train Loss: 0.1994, Test Loss: 0.0106, Train L1 Norm: 2.4289, Test L1 Norm: 0.5079, Train Linf Norm: 244.7331, Test Linf Norm: 46.7194\n",
            "Epoch 1: Train Loss: 0.1726, Test Loss: 0.0169, Train L1 Norm: 0.6279, Test L1 Norm: 0.0318, Train Linf Norm: 116.6779, Test Linf Norm: 2.6992\n",
            "Epoch 2: Train Loss: 0.0471, Test Loss: 0.0782, Train L1 Norm: 0.0783, Test L1 Norm: 0.0632, Train Linf Norm: 10.1397, Test Linf Norm: 4.3003\n",
            "Epoch 3: Train Loss: 0.0304, Test Loss: 0.0110, Train L1 Norm: 0.0554, Test L1 Norm: 0.0167, Train Linf Norm: 6.4508, Test Linf Norm: 1.0580\n",
            "Epoch 4: Train Loss: 0.0367, Test Loss: 0.0267, Train L1 Norm: 0.0463, Test L1 Norm: 0.0289, Train Linf Norm: 4.1301, Test Linf Norm: 1.1123\n",
            "Epoch 5: Train Loss: 0.0420, Test Loss: 0.0126, Train L1 Norm: 0.0608, Test L1 Norm: 0.0207, Train Linf Norm: 7.3049, Test Linf Norm: 2.0282\n",
            "Epoch 6: Train Loss: 0.0285, Test Loss: 0.0463, Train L1 Norm: 0.0460, Test L1 Norm: 0.0404, Train Linf Norm: 5.4449, Test Linf Norm: 2.7670\n",
            "Epoch 7: Train Loss: 0.0340, Test Loss: 0.0648, Train L1 Norm: 0.0450, Test L1 Norm: 0.0856, Train Linf Norm: 4.5644, Test Linf Norm: 9.0500\n",
            "Epoch 8: Train Loss: 0.0327, Test Loss: 0.0170, Train L1 Norm: 0.0572, Test L1 Norm: 0.0589, Train Linf Norm: 8.0396, Test Linf Norm: 9.0887\n",
            "Epoch 9: Train Loss: 0.0266, Test Loss: 0.0162, Train L1 Norm: 0.0442, Test L1 Norm: 0.0202, Train Linf Norm: 5.6336, Test Linf Norm: 0.9432\n",
            "Epoch 10: Train Loss: 0.0110, Test Loss: 0.0112, Train L1 Norm: 0.0184, Test L1 Norm: 0.0129, Train Linf Norm: 1.9138, Test Linf Norm: 0.8697\n",
            "Epoch 11: Train Loss: 0.0141, Test Loss: 0.0144, Train L1 Norm: 0.0254, Test L1 Norm: 0.0229, Train Linf Norm: 3.1874, Test Linf Norm: 2.7033\n",
            "Epoch 12: Train Loss: 0.0148, Test Loss: 0.0085, Train L1 Norm: 0.0241, Test L1 Norm: 0.0194, Train Linf Norm: 2.8815, Test Linf Norm: 2.7044\n",
            "Epoch 13: Train Loss: 0.0100, Test Loss: 0.0087, Train L1 Norm: 0.0194, Test L1 Norm: 0.0291, Train Linf Norm: 2.3119, Test Linf Norm: 4.7574\n",
            "Epoch 14: Train Loss: 0.0141, Test Loss: 0.0243, Train L1 Norm: 0.0214, Test L1 Norm: 0.0196, Train Linf Norm: 2.2421, Test Linf Norm: 0.7784\n",
            "Epoch 15: Train Loss: 0.0118, Test Loss: 0.0142, Train L1 Norm: 0.0190, Test L1 Norm: 0.0154, Train Linf Norm: 2.0120, Test Linf Norm: 0.8156\n",
            "Epoch 16: Train Loss: 0.0129, Test Loss: 0.0283, Train L1 Norm: 0.0163, Test L1 Norm: 0.0224, Train Linf Norm: 1.3056, Test Linf Norm: 0.8466\n",
            "Epoch 17: Train Loss: 0.0141, Test Loss: 0.0136, Train L1 Norm: 0.0209, Test L1 Norm: 0.0183, Train Linf Norm: 2.2425, Test Linf Norm: 0.8003\n",
            "Epoch 18: Train Loss: 0.0109, Test Loss: 0.0063, Train L1 Norm: 0.0160, Test L1 Norm: 0.0194, Train Linf Norm: 1.3932, Test Linf Norm: 3.0976\n",
            "Epoch 19: Train Loss: 0.0153, Test Loss: 0.0161, Train L1 Norm: 0.0282, Test L1 Norm: 0.0256, Train Linf Norm: 3.6817, Test Linf Norm: 3.6022\n",
            "Epoch 20: Train Loss: 0.0143, Test Loss: 0.0060, Train L1 Norm: 0.0219, Test L1 Norm: 0.0159, Train Linf Norm: 2.3889, Test Linf Norm: 1.6495\n",
            "Epoch 21: Train Loss: 0.0145, Test Loss: 0.0064, Train L1 Norm: 0.0194, Test L1 Norm: 0.0169, Train Linf Norm: 1.8987, Test Linf Norm: 2.5451\n",
            "Epoch 22: Train Loss: 0.0155, Test Loss: 0.0061, Train L1 Norm: 0.0209, Test L1 Norm: 0.0301, Train Linf Norm: 2.0507, Test Linf Norm: 5.4344\n",
            "Epoch 23: Train Loss: 0.0124, Test Loss: 0.0262, Train L1 Norm: 0.0165, Test L1 Norm: 0.0328, Train Linf Norm: 1.3957, Test Linf Norm: 4.6448\n",
            "Epoch 24: Train Loss: 0.0121, Test Loss: 0.0216, Train L1 Norm: 0.0171, Test L1 Norm: 0.0516, Train Linf Norm: 1.6870, Test Linf Norm: 8.2615\n",
            "Epoch 25: Train Loss: 0.0151, Test Loss: 0.0092, Train L1 Norm: 0.0220, Test L1 Norm: 0.0164, Train Linf Norm: 2.3443, Test Linf Norm: 0.7998\n",
            "Epoch 26: Train Loss: 0.0118, Test Loss: 0.0089, Train L1 Norm: 0.0191, Test L1 Norm: 0.0289, Train Linf Norm: 2.1778, Test Linf Norm: 4.5189\n",
            "Epoch 27: Train Loss: 0.0055, Test Loss: 0.0046, Train L1 Norm: 0.0108, Test L1 Norm: 0.0174, Train Linf Norm: 1.2366, Test Linf Norm: 2.5953\n",
            "Epoch 28: Train Loss: 0.0059, Test Loss: 0.0051, Train L1 Norm: 0.0101, Test L1 Norm: 0.0130, Train Linf Norm: 1.0226, Test Linf Norm: 1.8091\n",
            "Epoch 29: Train Loss: 0.0061, Test Loss: 0.0042, Train L1 Norm: 0.0103, Test L1 Norm: 0.0154, Train Linf Norm: 1.0410, Test Linf Norm: 2.5463\n",
            "Epoch 30: Train Loss: 0.0063, Test Loss: 0.0086, Train L1 Norm: 0.0098, Test L1 Norm: 0.0275, Train Linf Norm: 0.8903, Test Linf Norm: 4.7968\n",
            "Epoch 31: Train Loss: 0.0063, Test Loss: 0.0050, Train L1 Norm: 0.0123, Test L1 Norm: 0.0119, Train Linf Norm: 1.5445, Test Linf Norm: 1.5404\n",
            "Epoch 32: Train Loss: 0.0060, Test Loss: 0.0130, Train L1 Norm: 0.0095, Test L1 Norm: 0.0330, Train Linf Norm: 0.8655, Test Linf Norm: 5.3883\n",
            "Epoch 33: Train Loss: 0.0083, Test Loss: 0.0068, Train L1 Norm: 0.0131, Test L1 Norm: 0.0207, Train Linf Norm: 1.3984, Test Linf Norm: 3.2001\n",
            "Epoch 34: Train Loss: 0.0084, Test Loss: 0.0073, Train L1 Norm: 0.0163, Test L1 Norm: 0.0201, Train Linf Norm: 2.1963, Test Linf Norm: 3.2100\n",
            "Epoch 35: Train Loss: 0.0062, Test Loss: 0.0092, Train L1 Norm: 0.0102, Test L1 Norm: 0.0144, Train Linf Norm: 1.0236, Test Linf Norm: 1.8469\n",
            "Epoch 36: Train Loss: 0.0041, Test Loss: 0.0040, Train L1 Norm: 0.0087, Test L1 Norm: 0.0143, Train Linf Norm: 1.0052, Test Linf Norm: 2.4004\n",
            "Epoch 37: Train Loss: 0.0043, Test Loss: 0.0037, Train L1 Norm: 0.0081, Test L1 Norm: 0.0130, Train Linf Norm: 0.8786, Test Linf Norm: 1.9400\n",
            "Epoch 38: Train Loss: 0.0041, Test Loss: 0.0038, Train L1 Norm: 0.0076, Test L1 Norm: 0.0168, Train Linf Norm: 0.7402, Test Linf Norm: 2.8644\n",
            "Epoch 39: Train Loss: 0.0044, Test Loss: 0.0039, Train L1 Norm: 0.0076, Test L1 Norm: 0.0128, Train Linf Norm: 0.7297, Test Linf Norm: 2.0135\n",
            "Epoch 40: Train Loss: 0.0045, Test Loss: 0.0035, Train L1 Norm: 0.0090, Test L1 Norm: 0.0156, Train Linf Norm: 1.0563, Test Linf Norm: 2.7328\n",
            "Epoch 41: Train Loss: 0.0044, Test Loss: 0.0045, Train L1 Norm: 0.0076, Test L1 Norm: 0.0137, Train Linf Norm: 0.7568, Test Linf Norm: 2.2564\n",
            "Epoch 42: Train Loss: 0.0044, Test Loss: 0.0037, Train L1 Norm: 0.0082, Test L1 Norm: 0.0147, Train Linf Norm: 0.8767, Test Linf Norm: 2.4378\n",
            "Epoch 43: Train Loss: 0.0044, Test Loss: 0.0042, Train L1 Norm: 0.0087, Test L1 Norm: 0.0159, Train Linf Norm: 0.9770, Test Linf Norm: 2.6722\n",
            "Epoch 44: Train Loss: 0.0039, Test Loss: 0.0043, Train L1 Norm: 0.0074, Test L1 Norm: 0.0136, Train Linf Norm: 0.7646, Test Linf Norm: 2.0691\n",
            "Epoch 45: Train Loss: 0.0038, Test Loss: 0.0063, Train L1 Norm: 0.0071, Test L1 Norm: 0.0133, Train Linf Norm: 0.6871, Test Linf Norm: 1.6452\n"
          ]
        },
        {
          "output_type": "stream",
          "name": "stderr",
          "text": [
            "\u001b[32m[I 2023-05-13 13:34:40,756]\u001b[0m Trial 37 pruned. \u001b[0m\n"
          ]
        },
        {
          "output_type": "stream",
          "name": "stdout",
          "text": [
            "Epoch 46: Train Loss: 0.0038, Test Loss: 0.0053, Train L1 Norm: 0.0075, Test L1 Norm: 0.0149, Train Linf Norm: 0.7697, Test Linf Norm: 2.3686\n"
          ]
        },
        {
          "output_type": "stream",
          "name": "stderr",
          "text": [
            "\u001b[32m[I 2023-05-13 13:34:41,924]\u001b[0m Trial 38 pruned. \u001b[0m\n"
          ]
        },
        {
          "output_type": "stream",
          "name": "stdout",
          "text": [
            "Epoch 1: Train Loss: 0.4729, Test Loss: 0.1289, Train L1 Norm: 3.1814, Test L1 Norm: 2.5460, Train Linf Norm: 427.0316, Test Linf Norm: 276.8800\n"
          ]
        },
        {
          "output_type": "stream",
          "name": "stderr",
          "text": [
            "\u001b[32m[I 2023-05-13 13:34:43,453]\u001b[0m Trial 39 pruned. \u001b[0m\n"
          ]
        },
        {
          "output_type": "stream",
          "name": "stdout",
          "text": [
            "Epoch 1: Train Loss: 1.1771, Test Loss: 0.6653, Train L1 Norm: 2.3687, Test L1 Norm: 1.8568, Train Linf Norm: 320.0517, Test Linf Norm: 168.8702\n"
          ]
        },
        {
          "output_type": "stream",
          "name": "stderr",
          "text": [
            "\u001b[32m[I 2023-05-13 13:34:45,349]\u001b[0m Trial 40 pruned. \u001b[0m\n"
          ]
        },
        {
          "output_type": "stream",
          "name": "stdout",
          "text": [
            "Epoch 1: Train Loss: 2.9463, Test Loss: 2.9546, Train L1 Norm: 1.0000, Test L1 Norm: 1.0000, Train Linf Norm: 1.0000, Test Linf Norm: 1.0000\n"
          ]
        },
        {
          "output_type": "stream",
          "name": "stderr",
          "text": [
            "\u001b[32m[I 2023-05-13 13:34:46,752]\u001b[0m Trial 41 pruned. \u001b[0m\n"
          ]
        },
        {
          "output_type": "stream",
          "name": "stdout",
          "text": [
            "Epoch 1: Train Loss: 0.1723, Test Loss: 0.0574, Train L1 Norm: 0.2625, Test L1 Norm: 0.1265, Train Linf Norm: 24.3112, Test Linf Norm: 10.8894\n",
            "Epoch 1: Train Loss: 0.1801, Test Loss: 0.0188, Train L1 Norm: 0.3930, Test L1 Norm: 0.0483, Train Linf Norm: 54.8285, Test Linf Norm: 5.6529\n",
            "Epoch 2: Train Loss: 0.0390, Test Loss: 0.0139, Train L1 Norm: 0.0666, Test L1 Norm: 0.0298, Train Linf Norm: 8.0200, Test Linf Norm: 3.0652\n",
            "Epoch 3: Train Loss: 0.0353, Test Loss: 0.0215, Train L1 Norm: 0.0605, Test L1 Norm: 0.0449, Train Linf Norm: 7.6922, Test Linf Norm: 5.5160\n",
            "Epoch 4: Train Loss: 0.0363, Test Loss: 0.0439, Train L1 Norm: 0.0623, Test L1 Norm: 0.0380, Train Linf Norm: 8.2418, Test Linf Norm: 3.7091\n",
            "Epoch 5: Train Loss: 0.0363, Test Loss: 0.0285, Train L1 Norm: 0.0594, Test L1 Norm: 0.0423, Train Linf Norm: 7.4302, Test Linf Norm: 4.6761\n",
            "Epoch 6: Train Loss: 0.0289, Test Loss: 0.0292, Train L1 Norm: 0.0536, Test L1 Norm: 0.0305, Train Linf Norm: 7.2009, Test Linf Norm: 3.1741\n",
            "Epoch 7: Train Loss: 0.0352, Test Loss: 0.0467, Train L1 Norm: 0.0586, Test L1 Norm: 0.1176, Train Linf Norm: 7.7394, Test Linf Norm: 14.2554\n",
            "Epoch 8: Train Loss: 0.0331, Test Loss: 0.0576, Train L1 Norm: 0.0533, Test L1 Norm: 0.0397, Train Linf Norm: 6.6919, Test Linf Norm: 2.8590\n",
            "Epoch 9: Train Loss: 0.0110, Test Loss: 0.0104, Train L1 Norm: 0.0268, Test L1 Norm: 0.0125, Train Linf Norm: 3.7935, Test Linf Norm: 1.0479\n",
            "Epoch 10: Train Loss: 0.0129, Test Loss: 0.0087, Train L1 Norm: 0.0224, Test L1 Norm: 0.0108, Train Linf Norm: 2.9138, Test Linf Norm: 0.8844\n",
            "Epoch 11: Train Loss: 0.0132, Test Loss: 0.0059, Train L1 Norm: 0.0250, Test L1 Norm: 0.0180, Train Linf Norm: 3.3354, Test Linf Norm: 2.2661\n",
            "Epoch 12: Train Loss: 0.0128, Test Loss: 0.0110, Train L1 Norm: 0.0236, Test L1 Norm: 0.0303, Train Linf Norm: 3.1491, Test Linf Norm: 4.0351\n",
            "Epoch 13: Train Loss: 0.0141, Test Loss: 0.0209, Train L1 Norm: 0.0241, Test L1 Norm: 0.0270, Train Linf Norm: 2.9831, Test Linf Norm: 2.9570\n",
            "Epoch 14: Train Loss: 0.0145, Test Loss: 0.0140, Train L1 Norm: 0.0221, Test L1 Norm: 0.0204, Train Linf Norm: 2.6276, Test Linf Norm: 2.4148\n",
            "Epoch 15: Train Loss: 0.0143, Test Loss: 0.0085, Train L1 Norm: 0.0243, Test L1 Norm: 0.0274, Train Linf Norm: 2.9914, Test Linf Norm: 3.6963\n",
            "Epoch 16: Train Loss: 0.0137, Test Loss: 0.0222, Train L1 Norm: 0.0246, Test L1 Norm: 0.0419, Train Linf Norm: 3.3167, Test Linf Norm: 4.7332\n",
            "Epoch 17: Train Loss: 0.0143, Test Loss: 0.0062, Train L1 Norm: 0.0253, Test L1 Norm: 0.0232, Train Linf Norm: 3.2355, Test Linf Norm: 3.1167\n",
            "Epoch 18: Train Loss: 0.0055, Test Loss: 0.0073, Train L1 Norm: 0.0124, Test L1 Norm: 0.0115, Train Linf Norm: 1.5682, Test Linf Norm: 1.2241\n",
            "Epoch 19: Train Loss: 0.0070, Test Loss: 0.0065, Train L1 Norm: 0.0144, Test L1 Norm: 0.0123, Train Linf Norm: 1.9219, Test Linf Norm: 1.4009\n",
            "Epoch 20: Train Loss: 0.0079, Test Loss: 0.0060, Train L1 Norm: 0.0143, Test L1 Norm: 0.0096, Train Linf Norm: 1.7672, Test Linf Norm: 0.9285\n",
            "Epoch 21: Train Loss: 0.0052, Test Loss: 0.0044, Train L1 Norm: 0.0127, Test L1 Norm: 0.0119, Train Linf Norm: 1.6897, Test Linf Norm: 1.3500\n",
            "Epoch 22: Train Loss: 0.0064, Test Loss: 0.0074, Train L1 Norm: 0.0139, Test L1 Norm: 0.0156, Train Linf Norm: 1.8806, Test Linf Norm: 1.8492\n",
            "Epoch 23: Train Loss: 0.0077, Test Loss: 0.0121, Train L1 Norm: 0.0143, Test L1 Norm: 0.0146, Train Linf Norm: 1.8495, Test Linf Norm: 1.4942\n",
            "Epoch 24: Train Loss: 0.0070, Test Loss: 0.0106, Train L1 Norm: 0.0115, Test L1 Norm: 0.0170, Train Linf Norm: 1.3720, Test Linf Norm: 1.8582\n",
            "Epoch 25: Train Loss: 0.0067, Test Loss: 0.0152, Train L1 Norm: 0.0134, Test L1 Norm: 0.0147, Train Linf Norm: 1.7321, Test Linf Norm: 1.3637\n",
            "Epoch 26: Train Loss: 0.0066, Test Loss: 0.0041, Train L1 Norm: 0.0144, Test L1 Norm: 0.0131, Train Linf Norm: 2.0149, Test Linf Norm: 1.5806\n",
            "Epoch 27: Train Loss: 0.0065, Test Loss: 0.0044, Train L1 Norm: 0.0122, Test L1 Norm: 0.0074, Train Linf Norm: 1.5161, Test Linf Norm: 0.7811\n",
            "Epoch 28: Train Loss: 0.0074, Test Loss: 0.0119, Train L1 Norm: 0.0128, Test L1 Norm: 0.0256, Train Linf Norm: 1.5936, Test Linf Norm: 3.2152\n",
            "Epoch 29: Train Loss: 0.0064, Test Loss: 0.0137, Train L1 Norm: 0.0120, Test L1 Norm: 0.0104, Train Linf Norm: 1.4868, Test Linf Norm: 0.6355\n",
            "Epoch 30: Train Loss: 0.0064, Test Loss: 0.0035, Train L1 Norm: 0.0138, Test L1 Norm: 0.0091, Train Linf Norm: 1.9107, Test Linf Norm: 1.0171\n",
            "Epoch 31: Train Loss: 0.0077, Test Loss: 0.0092, Train L1 Norm: 0.0147, Test L1 Norm: 0.0218, Train Linf Norm: 1.9431, Test Linf Norm: 2.8258\n",
            "Epoch 32: Train Loss: 0.0071, Test Loss: 0.0033, Train L1 Norm: 0.0123, Test L1 Norm: 0.0077, Train Linf Norm: 1.5538, Test Linf Norm: 0.8125\n",
            "Epoch 33: Train Loss: 0.0070, Test Loss: 0.0046, Train L1 Norm: 0.0112, Test L1 Norm: 0.0111, Train Linf Norm: 1.2570, Test Linf Norm: 1.4390\n",
            "Epoch 34: Train Loss: 0.0074, Test Loss: 0.0041, Train L1 Norm: 0.0140, Test L1 Norm: 0.0103, Train Linf Norm: 1.9289, Test Linf Norm: 1.1016\n",
            "Epoch 35: Train Loss: 0.0056, Test Loss: 0.0054, Train L1 Norm: 0.0102, Test L1 Norm: 0.0089, Train Linf Norm: 1.2214, Test Linf Norm: 0.9805\n",
            "Epoch 36: Train Loss: 0.0057, Test Loss: 0.0038, Train L1 Norm: 0.0148, Test L1 Norm: 0.0094, Train Linf Norm: 2.2032, Test Linf Norm: 1.1012\n",
            "Epoch 37: Train Loss: 0.0105, Test Loss: 0.0064, Train L1 Norm: 0.0157, Test L1 Norm: 0.0127, Train Linf Norm: 1.9226, Test Linf Norm: 1.3792\n",
            "Epoch 38: Train Loss: 0.0065, Test Loss: 0.0049, Train L1 Norm: 0.0128, Test L1 Norm: 0.0093, Train Linf Norm: 1.6798, Test Linf Norm: 1.1206\n",
            "Epoch 39: Train Loss: 0.0035, Test Loss: 0.0026, Train L1 Norm: 0.0081, Test L1 Norm: 0.0054, Train Linf Norm: 1.0776, Test Linf Norm: 0.5652\n",
            "Epoch 40: Train Loss: 0.0036, Test Loss: 0.0027, Train L1 Norm: 0.0071, Test L1 Norm: 0.0086, Train Linf Norm: 0.8466, Test Linf Norm: 1.1117\n",
            "Epoch 41: Train Loss: 0.0036, Test Loss: 0.0032, Train L1 Norm: 0.0070, Test L1 Norm: 0.0047, Train Linf Norm: 0.8293, Test Linf Norm: 0.3694\n",
            "Epoch 42: Train Loss: 0.0037, Test Loss: 0.0040, Train L1 Norm: 0.0083, Test L1 Norm: 0.0083, Train Linf Norm: 1.1208, Test Linf Norm: 0.9007\n",
            "Epoch 43: Train Loss: 0.0037, Test Loss: 0.0043, Train L1 Norm: 0.0064, Test L1 Norm: 0.0085, Train Linf Norm: 0.7346, Test Linf Norm: 1.0226\n",
            "Epoch 44: Train Loss: 0.0041, Test Loss: 0.0027, Train L1 Norm: 0.0078, Test L1 Norm: 0.0076, Train Linf Norm: 0.9522, Test Linf Norm: 0.9045\n",
            "Epoch 45: Train Loss: 0.0040, Test Loss: 0.0037, Train L1 Norm: 0.0085, Test L1 Norm: 0.0064, Train Linf Norm: 1.1391, Test Linf Norm: 0.5933\n",
            "Epoch 46: Train Loss: 0.0026, Test Loss: 0.0025, Train L1 Norm: 0.0059, Test L1 Norm: 0.0051, Train Linf Norm: 0.7396, Test Linf Norm: 0.5355\n",
            "Epoch 47: Train Loss: 0.0025, Test Loss: 0.0028, Train L1 Norm: 0.0057, Test L1 Norm: 0.0052, Train Linf Norm: 0.6952, Test Linf Norm: 0.5215\n",
            "Epoch 48: Train Loss: 0.0026, Test Loss: 0.0024, Train L1 Norm: 0.0061, Test L1 Norm: 0.0041, Train Linf Norm: 0.7545, Test Linf Norm: 0.3569\n",
            "Epoch 49: Train Loss: 0.0028, Test Loss: 0.0025, Train L1 Norm: 0.0055, Test L1 Norm: 0.0041, Train Linf Norm: 0.6414, Test Linf Norm: 0.3704\n",
            "Epoch 50: Train Loss: 0.0027, Test Loss: 0.0023, Train L1 Norm: 0.0062, Test L1 Norm: 0.0057, Train Linf Norm: 0.8036, Test Linf Norm: 0.5985\n",
            "Epoch 51: Train Loss: 0.0027, Test Loss: 0.0025, Train L1 Norm: 0.0062, Test L1 Norm: 0.0046, Train Linf Norm: 0.8057, Test Linf Norm: 0.4487\n",
            "Epoch 52: Train Loss: 0.0027, Test Loss: 0.0028, Train L1 Norm: 0.0070, Test L1 Norm: 0.0060, Train Linf Norm: 0.9793, Test Linf Norm: 0.6851\n",
            "Epoch 53: Train Loss: 0.0026, Test Loss: 0.0023, Train L1 Norm: 0.0058, Test L1 Norm: 0.0040, Train Linf Norm: 0.7284, Test Linf Norm: 0.3377\n",
            "Epoch 54: Train Loss: 0.0026, Test Loss: 0.0023, Train L1 Norm: 0.0070, Test L1 Norm: 0.0064, Train Linf Norm: 1.0066, Test Linf Norm: 0.7664\n",
            "Epoch 55: Train Loss: 0.0028, Test Loss: 0.0024, Train L1 Norm: 0.0066, Test L1 Norm: 0.0066, Train Linf Norm: 0.8784, Test Linf Norm: 0.7189\n",
            "Epoch 56: Train Loss: 0.0026, Test Loss: 0.0024, Train L1 Norm: 0.0064, Test L1 Norm: 0.0058, Train Linf Norm: 0.8513, Test Linf Norm: 0.6384\n",
            "Epoch 57: Train Loss: 0.0026, Test Loss: 0.0028, Train L1 Norm: 0.0061, Test L1 Norm: 0.0069, Train Linf Norm: 0.7936, Test Linf Norm: 0.7986\n",
            "Epoch 58: Train Loss: 0.0025, Test Loss: 0.0045, Train L1 Norm: 0.0057, Test L1 Norm: 0.0056, Train Linf Norm: 0.7396, Test Linf Norm: 0.5440\n",
            "Epoch 59: Train Loss: 0.0027, Test Loss: 0.0024, Train L1 Norm: 0.0063, Test L1 Norm: 0.0057, Train Linf Norm: 0.8153, Test Linf Norm: 0.6384\n",
            "Epoch 60: Train Loss: 0.0022, Test Loss: 0.0023, Train L1 Norm: 0.0052, Test L1 Norm: 0.0054, Train Linf Norm: 0.6736, Test Linf Norm: 0.5970\n",
            "Epoch 61: Train Loss: 0.0022, Test Loss: 0.0024, Train L1 Norm: 0.0057, Test L1 Norm: 0.0048, Train Linf Norm: 0.7706, Test Linf Norm: 0.4527\n"
          ]
        },
        {
          "output_type": "stream",
          "name": "stderr",
          "text": [
            "\u001b[32m[I 2023-05-13 13:36:16,457]\u001b[0m Trial 42 finished with value: 0.004305121898895595 and parameters: {'n_layers': 3, 'n_units_0': 86, 'n_units_1': 201, 'n_units_2': 87, 'hidden_activation': 'ReLU', 'output_activation': 'Linear', 'loss': 'MAE', 'optimizer': 'Adam', 'lr': 0.0007324856218845869, 'batch_size': 223, 'n_epochs': 62, 'scheduler': 'ReduceLROnPlateau'}. Best is trial 42 with value: 0.004305121898895595.\u001b[0m\n"
          ]
        },
        {
          "output_type": "stream",
          "name": "stdout",
          "text": [
            "Epoch 62: Train Loss: 0.0022, Test Loss: 0.0023, Train L1 Norm: 0.0054, Test L1 Norm: 0.0043, Train Linf Norm: 0.7056, Test Linf Norm: 0.4250\n"
          ]
        },
        {
          "output_type": "stream",
          "name": "stderr",
          "text": [
            "\u001b[32m[I 2023-05-13 13:36:17,835]\u001b[0m Trial 43 pruned. \u001b[0m\n"
          ]
        },
        {
          "output_type": "stream",
          "name": "stdout",
          "text": [
            "Epoch 1: Train Loss: 0.2426, Test Loss: 0.1635, Train L1 Norm: 0.2985, Test L1 Norm: 0.1269, Train Linf Norm: 30.4452, Test Linf Norm: 6.1828\n"
          ]
        },
        {
          "output_type": "stream",
          "name": "stderr",
          "text": [
            "\u001b[32m[I 2023-05-13 13:36:19,297]\u001b[0m Trial 44 pruned. \u001b[0m\n"
          ]
        },
        {
          "output_type": "stream",
          "name": "stdout",
          "text": [
            "Epoch 1: Train Loss: 0.1644, Test Loss: 0.0841, Train L1 Norm: 0.3087, Test L1 Norm: 0.1077, Train Linf Norm: 36.5351, Test Linf Norm: 10.6472\n"
          ]
        },
        {
          "output_type": "stream",
          "name": "stderr",
          "text": [
            "\u001b[32m[I 2023-05-13 13:36:20,578]\u001b[0m Trial 45 pruned. \u001b[0m\n"
          ]
        },
        {
          "output_type": "stream",
          "name": "stdout",
          "text": [
            "Epoch 1: Train Loss: 2.7788, Test Loss: 0.2905, Train L1 Norm: 5.7379, Test L1 Norm: 1.8539, Train Linf Norm: 917.9227, Test Linf Norm: 250.6540\n",
            "Epoch 1: Train Loss: 0.2119, Test Loss: 0.0816, Train L1 Norm: 0.3963, Test L1 Norm: 0.0644, Train Linf Norm: 42.5256, Test Linf Norm: 2.5904\n",
            "Epoch 2: Train Loss: 0.0415, Test Loss: 0.0266, Train L1 Norm: 0.0667, Test L1 Norm: 0.0305, Train Linf Norm: 7.0472, Test Linf Norm: 1.8654\n",
            "Epoch 3: Train Loss: 0.0296, Test Loss: 0.0415, Train L1 Norm: 0.0656, Test L1 Norm: 0.0333, Train Linf Norm: 7.8333, Test Linf Norm: 1.9569\n",
            "Epoch 4: Train Loss: 0.0239, Test Loss: 0.0303, Train L1 Norm: 0.0447, Test L1 Norm: 0.0423, Train Linf Norm: 5.0455, Test Linf Norm: 1.7431\n",
            "Epoch 5: Train Loss: 0.0256, Test Loss: 0.0143, Train L1 Norm: 0.0484, Test L1 Norm: 0.0375, Train Linf Norm: 5.7031, Test Linf Norm: 2.4341\n",
            "Epoch 6: Train Loss: 0.0256, Test Loss: 0.0508, Train L1 Norm: 0.0403, Test L1 Norm: 0.0631, Train Linf Norm: 4.1583, Test Linf Norm: 3.7180\n",
            "Epoch 7: Train Loss: 0.0315, Test Loss: 0.0671, Train L1 Norm: 0.0457, Test L1 Norm: 0.0906, Train Linf Norm: 4.4950, Test Linf Norm: 4.2941\n",
            "Epoch 8: Train Loss: 0.0245, Test Loss: 0.0307, Train L1 Norm: 0.0449, Test L1 Norm: 0.0462, Train Linf Norm: 5.2728, Test Linf Norm: 2.8177\n",
            "Epoch 9: Train Loss: 0.0217, Test Loss: 0.0082, Train L1 Norm: 0.0428, Test L1 Norm: 0.0370, Train Linf Norm: 4.9381, Test Linf Norm: 1.9396\n",
            "Epoch 10: Train Loss: 0.0210, Test Loss: 0.0259, Train L1 Norm: 0.0404, Test L1 Norm: 0.0312, Train Linf Norm: 4.8587, Test Linf Norm: 1.8095\n",
            "Epoch 11: Train Loss: 0.0213, Test Loss: 0.0127, Train L1 Norm: 0.0362, Test L1 Norm: 0.0516, Train Linf Norm: 4.0194, Test Linf Norm: 4.6638\n",
            "Epoch 12: Train Loss: 0.0224, Test Loss: 0.0070, Train L1 Norm: 0.0371, Test L1 Norm: 0.0245, Train Linf Norm: 4.1143, Test Linf Norm: 1.0739\n",
            "Epoch 13: Train Loss: 0.0178, Test Loss: 0.0126, Train L1 Norm: 0.0370, Test L1 Norm: 0.0706, Train Linf Norm: 4.5672, Test Linf Norm: 4.4176\n",
            "Epoch 14: Train Loss: 0.0247, Test Loss: 0.0099, Train L1 Norm: 0.0392, Test L1 Norm: 0.0298, Train Linf Norm: 3.9695, Test Linf Norm: 1.0370\n",
            "Epoch 15: Train Loss: 0.0175, Test Loss: 0.0112, Train L1 Norm: 0.0304, Test L1 Norm: 0.0273, Train Linf Norm: 3.3179, Test Linf Norm: 1.5311\n",
            "Epoch 16: Train Loss: 0.0220, Test Loss: 0.0172, Train L1 Norm: 0.0335, Test L1 Norm: 0.0203, Train Linf Norm: 3.5390, Test Linf Norm: 1.0411\n",
            "Epoch 17: Train Loss: 0.0266, Test Loss: 0.0334, Train L1 Norm: 0.0412, Test L1 Norm: 0.0283, Train Linf Norm: 4.3862, Test Linf Norm: 1.4415\n",
            "Epoch 18: Train Loss: 0.0173, Test Loss: 0.0129, Train L1 Norm: 0.0309, Test L1 Norm: 0.0354, Train Linf Norm: 3.5148, Test Linf Norm: 1.8001\n",
            "Epoch 19: Train Loss: 0.0078, Test Loss: 0.0061, Train L1 Norm: 0.0182, Test L1 Norm: 0.0119, Train Linf Norm: 2.1651, Test Linf Norm: 0.7846\n",
            "Epoch 20: Train Loss: 0.0094, Test Loss: 0.0060, Train L1 Norm: 0.0201, Test L1 Norm: 0.0251, Train Linf Norm: 2.4021, Test Linf Norm: 1.2064\n",
            "Epoch 21: Train Loss: 0.0095, Test Loss: 0.0044, Train L1 Norm: 0.0243, Test L1 Norm: 0.0203, Train Linf Norm: 3.2199, Test Linf Norm: 1.6685\n",
            "Epoch 22: Train Loss: 0.0084, Test Loss: 0.0066, Train L1 Norm: 0.0180, Test L1 Norm: 0.0113, Train Linf Norm: 2.0866, Test Linf Norm: 0.7582\n",
            "Epoch 23: Train Loss: 0.0105, Test Loss: 0.0156, Train L1 Norm: 0.0193, Test L1 Norm: 0.0181, Train Linf Norm: 2.1873, Test Linf Norm: 0.8320\n",
            "Epoch 24: Train Loss: 0.0089, Test Loss: 0.0109, Train L1 Norm: 0.0197, Test L1 Norm: 0.0130, Train Linf Norm: 2.4301, Test Linf Norm: 0.9746\n",
            "Epoch 25: Train Loss: 0.0097, Test Loss: 0.0055, Train L1 Norm: 0.0172, Test L1 Norm: 0.0118, Train Linf Norm: 1.8969, Test Linf Norm: 0.7178\n",
            "Epoch 26: Train Loss: 0.0107, Test Loss: 0.0090, Train L1 Norm: 0.0204, Test L1 Norm: 0.0146, Train Linf Norm: 2.4164, Test Linf Norm: 0.8290\n",
            "Epoch 27: Train Loss: 0.0109, Test Loss: 0.0111, Train L1 Norm: 0.0193, Test L1 Norm: 0.0143, Train Linf Norm: 2.1309, Test Linf Norm: 0.7083\n",
            "Epoch 28: Train Loss: 0.0048, Test Loss: 0.0036, Train L1 Norm: 0.0116, Test L1 Norm: 0.0118, Train Linf Norm: 1.3707, Test Linf Norm: 0.9219\n",
            "Epoch 29: Train Loss: 0.0051, Test Loss: 0.0048, Train L1 Norm: 0.0128, Test L1 Norm: 0.0108, Train Linf Norm: 1.5633, Test Linf Norm: 0.5054\n",
            "Epoch 30: Train Loss: 0.0049, Test Loss: 0.0085, Train L1 Norm: 0.0114, Test L1 Norm: 0.0167, Train Linf Norm: 1.3649, Test Linf Norm: 0.8025\n",
            "Epoch 31: Train Loss: 0.0051, Test Loss: 0.0039, Train L1 Norm: 0.0109, Test L1 Norm: 0.0082, Train Linf Norm: 1.2367, Test Linf Norm: 0.5476\n",
            "Epoch 32: Train Loss: 0.0051, Test Loss: 0.0041, Train L1 Norm: 0.0110, Test L1 Norm: 0.0070, Train Linf Norm: 1.2611, Test Linf Norm: 0.5911\n",
            "Epoch 33: Train Loss: 0.0058, Test Loss: 0.0038, Train L1 Norm: 0.0115, Test L1 Norm: 0.0083, Train Linf Norm: 1.2945, Test Linf Norm: 0.5557\n",
            "Epoch 34: Train Loss: 0.0046, Test Loss: 0.0039, Train L1 Norm: 0.0096, Test L1 Norm: 0.0077, Train Linf Norm: 1.0308, Test Linf Norm: 0.5081\n",
            "Epoch 35: Train Loss: 0.0034, Test Loss: 0.0032, Train L1 Norm: 0.0084, Test L1 Norm: 0.0061, Train Linf Norm: 0.9342, Test Linf Norm: 0.4359\n",
            "Epoch 36: Train Loss: 0.0033, Test Loss: 0.0033, Train L1 Norm: 0.0081, Test L1 Norm: 0.0058, Train Linf Norm: 0.9036, Test Linf Norm: 0.3811\n",
            "Epoch 37: Train Loss: 0.0033, Test Loss: 0.0037, Train L1 Norm: 0.0094, Test L1 Norm: 0.0071, Train Linf Norm: 1.1563, Test Linf Norm: 0.4860\n",
            "Epoch 38: Train Loss: 0.0036, Test Loss: 0.0032, Train L1 Norm: 0.0078, Test L1 Norm: 0.0074, Train Linf Norm: 0.8122, Test Linf Norm: 0.4719\n",
            "Epoch 39: Train Loss: 0.0036, Test Loss: 0.0032, Train L1 Norm: 0.0093, Test L1 Norm: 0.0080, Train Linf Norm: 1.0969, Test Linf Norm: 0.5804\n",
            "Epoch 40: Train Loss: 0.0035, Test Loss: 0.0034, Train L1 Norm: 0.0075, Test L1 Norm: 0.0060, Train Linf Norm: 0.7918, Test Linf Norm: 0.3829\n",
            "Epoch 41: Train Loss: 0.0033, Test Loss: 0.0033, Train L1 Norm: 0.0089, Test L1 Norm: 0.0063, Train Linf Norm: 1.0506, Test Linf Norm: 0.4193\n",
            "Epoch 42: Train Loss: 0.0028, Test Loss: 0.0027, Train L1 Norm: 0.0067, Test L1 Norm: 0.0059, Train Linf Norm: 0.7049, Test Linf Norm: 0.4614\n",
            "Epoch 43: Train Loss: 0.0028, Test Loss: 0.0030, Train L1 Norm: 0.0078, Test L1 Norm: 0.0061, Train Linf Norm: 0.9025, Test Linf Norm: 0.3802\n",
            "Epoch 44: Train Loss: 0.0029, Test Loss: 0.0026, Train L1 Norm: 0.0072, Test L1 Norm: 0.0052, Train Linf Norm: 0.8096, Test Linf Norm: 0.3731\n",
            "Epoch 45: Train Loss: 0.0028, Test Loss: 0.0029, Train L1 Norm: 0.0074, Test L1 Norm: 0.0067, Train Linf Norm: 0.8427, Test Linf Norm: 0.5254\n",
            "Epoch 46: Train Loss: 0.0027, Test Loss: 0.0031, Train L1 Norm: 0.0069, Test L1 Norm: 0.0062, Train Linf Norm: 0.7552, Test Linf Norm: 0.4288\n",
            "Epoch 47: Train Loss: 0.0028, Test Loss: 0.0035, Train L1 Norm: 0.0085, Test L1 Norm: 0.0061, Train Linf Norm: 1.0658, Test Linf Norm: 0.4228\n",
            "Epoch 48: Train Loss: 0.0027, Test Loss: 0.0025, Train L1 Norm: 0.0074, Test L1 Norm: 0.0053, Train Linf Norm: 0.8737, Test Linf Norm: 0.4083\n",
            "Epoch 49: Train Loss: 0.0028, Test Loss: 0.0026, Train L1 Norm: 0.0070, Test L1 Norm: 0.0068, Train Linf Norm: 0.7646, Test Linf Norm: 0.4301\n",
            "Epoch 50: Train Loss: 0.0026, Test Loss: 0.0024, Train L1 Norm: 0.0075, Test L1 Norm: 0.0068, Train Linf Norm: 0.8960, Test Linf Norm: 0.6090\n",
            "Epoch 51: Train Loss: 0.0026, Test Loss: 0.0025, Train L1 Norm: 0.0078, Test L1 Norm: 0.0050, Train Linf Norm: 0.9302, Test Linf Norm: 0.3436\n",
            "Epoch 52: Train Loss: 0.0027, Test Loss: 0.0027, Train L1 Norm: 0.0066, Test L1 Norm: 0.0059, Train Linf Norm: 0.7233, Test Linf Norm: 0.4733\n",
            "Epoch 53: Train Loss: 0.0026, Test Loss: 0.0034, Train L1 Norm: 0.0077, Test L1 Norm: 0.0055, Train Linf Norm: 0.9286, Test Linf Norm: 0.3954\n",
            "Epoch 54: Train Loss: 0.0026, Test Loss: 0.0024, Train L1 Norm: 0.0066, Test L1 Norm: 0.0047, Train Linf Norm: 0.7315, Test Linf Norm: 0.3356\n",
            "Epoch 55: Train Loss: 0.0026, Test Loss: 0.0026, Train L1 Norm: 0.0069, Test L1 Norm: 0.0055, Train Linf Norm: 0.7868, Test Linf Norm: 0.3954\n",
            "Epoch 56: Train Loss: 0.0025, Test Loss: 0.0024, Train L1 Norm: 0.0065, Test L1 Norm: 0.0058, Train Linf Norm: 0.7169, Test Linf Norm: 0.5123\n",
            "Epoch 57: Train Loss: 0.0026, Test Loss: 0.0023, Train L1 Norm: 0.0066, Test L1 Norm: 0.0045, Train Linf Norm: 0.7333, Test Linf Norm: 0.3324\n",
            "Epoch 58: Train Loss: 0.0025, Test Loss: 0.0026, Train L1 Norm: 0.0065, Test L1 Norm: 0.0056, Train Linf Norm: 0.7266, Test Linf Norm: 0.4741\n",
            "Epoch 59: Train Loss: 0.0025, Test Loss: 0.0023, Train L1 Norm: 0.0071, Test L1 Norm: 0.0057, Train Linf Norm: 0.8334, Test Linf Norm: 0.4056\n",
            "Epoch 60: Train Loss: 0.0025, Test Loss: 0.0030, Train L1 Norm: 0.0067, Test L1 Norm: 0.0052, Train Linf Norm: 0.7681, Test Linf Norm: 0.3434\n",
            "Epoch 61: Train Loss: 0.0026, Test Loss: 0.0022, Train L1 Norm: 0.0066, Test L1 Norm: 0.0052, Train Linf Norm: 0.7507, Test Linf Norm: 0.4049\n",
            "Epoch 62: Train Loss: 0.0025, Test Loss: 0.0029, Train L1 Norm: 0.0070, Test L1 Norm: 0.0050, Train Linf Norm: 0.8216, Test Linf Norm: 0.3413\n",
            "Epoch 63: Train Loss: 0.0025, Test Loss: 0.0024, Train L1 Norm: 0.0067, Test L1 Norm: 0.0054, Train Linf Norm: 0.7721, Test Linf Norm: 0.3293\n",
            "Epoch 64: Train Loss: 0.0024, Test Loss: 0.0023, Train L1 Norm: 0.0062, Test L1 Norm: 0.0049, Train Linf Norm: 0.6893, Test Linf Norm: 0.3663\n",
            "Epoch 65: Train Loss: 0.0025, Test Loss: 0.0029, Train L1 Norm: 0.0064, Test L1 Norm: 0.0044, Train Linf Norm: 0.7022, Test Linf Norm: 0.3147\n",
            "Epoch 66: Train Loss: 0.0024, Test Loss: 0.0021, Train L1 Norm: 0.0068, Test L1 Norm: 0.0052, Train Linf Norm: 0.7972, Test Linf Norm: 0.3658\n",
            "Epoch 67: Train Loss: 0.0024, Test Loss: 0.0021, Train L1 Norm: 0.0063, Test L1 Norm: 0.0046, Train Linf Norm: 0.6968, Test Linf Norm: 0.3269\n",
            "Epoch 68: Train Loss: 0.0024, Test Loss: 0.0033, Train L1 Norm: 0.0063, Test L1 Norm: 0.0063, Train Linf Norm: 0.7010, Test Linf Norm: 0.5019\n",
            "Epoch 69: Train Loss: 0.0024, Test Loss: 0.0022, Train L1 Norm: 0.0065, Test L1 Norm: 0.0067, Train Linf Norm: 0.7470, Test Linf Norm: 0.5441\n",
            "Epoch 70: Train Loss: 0.0024, Test Loss: 0.0032, Train L1 Norm: 0.0063, Test L1 Norm: 0.0047, Train Linf Norm: 0.6916, Test Linf Norm: 0.3266\n"
          ]
        },
        {
          "output_type": "stream",
          "name": "stderr",
          "text": [
            "\u001b[32m[I 2023-05-13 13:38:13,034]\u001b[0m Trial 46 finished with value: 0.0049574301965534685 and parameters: {'n_layers': 3, 'n_units_0': 61, 'n_units_1': 207, 'n_units_2': 117, 'hidden_activation': 'ReLU', 'output_activation': 'Linear', 'loss': 'MAE', 'optimizer': 'Adam', 'lr': 0.00048565067943771265, 'batch_size': 192, 'n_epochs': 71, 'scheduler': 'ReduceLROnPlateau'}. Best is trial 42 with value: 0.004305121898895595.\u001b[0m\n"
          ]
        },
        {
          "output_type": "stream",
          "name": "stdout",
          "text": [
            "Epoch 71: Train Loss: 0.0024, Test Loss: 0.0022, Train L1 Norm: 0.0061, Test L1 Norm: 0.0050, Train Linf Norm: 0.6722, Test Linf Norm: 0.3303\n"
          ]
        },
        {
          "output_type": "stream",
          "name": "stderr",
          "text": [
            "\u001b[32m[I 2023-05-13 13:38:14,705]\u001b[0m Trial 47 pruned. \u001b[0m\n"
          ]
        },
        {
          "output_type": "stream",
          "name": "stdout",
          "text": [
            "Epoch 1: Train Loss: 0.7861, Test Loss: 0.2433, Train L1 Norm: 1.7822, Test L1 Norm: 0.3015, Train Linf Norm: 224.3521, Test Linf Norm: 17.9796\n"
          ]
        },
        {
          "output_type": "stream",
          "name": "stderr",
          "text": [
            "\u001b[32m[I 2023-05-13 13:38:16,418]\u001b[0m Trial 48 pruned. \u001b[0m\n"
          ]
        },
        {
          "output_type": "stream",
          "name": "stdout",
          "text": [
            "Epoch 1: Train Loss: 0.2631, Test Loss: 0.1747, Train L1 Norm: 0.5034, Test L1 Norm: 0.4254, Train Linf Norm: 53.4368, Test Linf Norm: 43.0844\n"
          ]
        },
        {
          "output_type": "stream",
          "name": "stderr",
          "text": [
            "\u001b[32m[I 2023-05-13 13:38:18,591]\u001b[0m Trial 49 pruned. \u001b[0m\n"
          ]
        },
        {
          "output_type": "stream",
          "name": "stdout",
          "text": [
            "Epoch 1: Train Loss: 0.0578, Test Loss: 0.0004, Train L1 Norm: 0.6261, Test L1 Norm: 0.0726, Train Linf Norm: 75.7523, Test Linf Norm: 5.5945\n"
          ]
        },
        {
          "output_type": "stream",
          "name": "stderr",
          "text": [
            "\u001b[32m[I 2023-05-13 13:38:19,810]\u001b[0m Trial 50 pruned. \u001b[0m\n"
          ]
        },
        {
          "output_type": "stream",
          "name": "stdout",
          "text": [
            "Epoch 1: Train Loss: 2.2162, Test Loss: 1.9244, Train L1 Norm: 8.4431, Test L1 Norm: 9.0244, Train Linf Norm: 1003.2513, Test Linf Norm: 794.2205\n"
          ]
        },
        {
          "output_type": "stream",
          "name": "stderr",
          "text": [
            "\u001b[32m[I 2023-05-13 13:38:21,204]\u001b[0m Trial 51 pruned. \u001b[0m\n"
          ]
        },
        {
          "output_type": "stream",
          "name": "stdout",
          "text": [
            "Epoch 1: Train Loss: 0.2123, Test Loss: 0.0196, Train L1 Norm: 0.9257, Test L1 Norm: 0.0699, Train Linf Norm: 163.1049, Test Linf Norm: 6.7616\n",
            "Epoch 1: Train Loss: 0.2576, Test Loss: 0.0300, Train L1 Norm: 0.3979, Test L1 Norm: 0.0396, Train Linf Norm: 44.1181, Test Linf Norm: 1.9611\n",
            "Epoch 2: Train Loss: 0.0263, Test Loss: 0.0122, Train L1 Norm: 0.0618, Test L1 Norm: 0.0299, Train Linf Norm: 8.1349, Test Linf Norm: 1.4368\n",
            "Epoch 3: Train Loss: 0.0300, Test Loss: 0.0244, Train L1 Norm: 0.0504, Test L1 Norm: 0.0394, Train Linf Norm: 5.6458, Test Linf Norm: 2.4752\n",
            "Epoch 4: Train Loss: 0.0270, Test Loss: 0.0131, Train L1 Norm: 0.0579, Test L1 Norm: 0.0365, Train Linf Norm: 7.5192, Test Linf Norm: 2.3349\n",
            "Epoch 5: Train Loss: 0.0229, Test Loss: 0.0127, Train L1 Norm: 0.0472, Test L1 Norm: 0.0251, Train Linf Norm: 6.0626, Test Linf Norm: 2.0094\n",
            "Epoch 6: Train Loss: 0.0224, Test Loss: 0.0452, Train L1 Norm: 0.0447, Test L1 Norm: 0.0607, Train Linf Norm: 5.6363, Test Linf Norm: 3.4211\n",
            "Epoch 7: Train Loss: 0.0201, Test Loss: 0.0141, Train L1 Norm: 0.0400, Test L1 Norm: 0.0238, Train Linf Norm: 4.6803, Test Linf Norm: 1.9488\n",
            "Epoch 8: Train Loss: 0.0228, Test Loss: 0.0108, Train L1 Norm: 0.0391, Test L1 Norm: 0.0235, Train Linf Norm: 4.6408, Test Linf Norm: 1.6886\n",
            "Epoch 9: Train Loss: 0.0206, Test Loss: 0.0097, Train L1 Norm: 0.0410, Test L1 Norm: 0.0186, Train Linf Norm: 5.2867, Test Linf Norm: 1.1870\n",
            "Epoch 10: Train Loss: 0.0230, Test Loss: 0.0153, Train L1 Norm: 0.0472, Test L1 Norm: 0.0283, Train Linf Norm: 6.1102, Test Linf Norm: 1.6987\n",
            "Epoch 11: Train Loss: 0.0167, Test Loss: 0.0107, Train L1 Norm: 0.0347, Test L1 Norm: 0.0303, Train Linf Norm: 4.3256, Test Linf Norm: 2.4336\n",
            "Epoch 12: Train Loss: 0.0210, Test Loss: 0.0126, Train L1 Norm: 0.0373, Test L1 Norm: 0.0234, Train Linf Norm: 4.5593, Test Linf Norm: 1.5968\n",
            "Epoch 13: Train Loss: 0.0183, Test Loss: 0.0154, Train L1 Norm: 0.0417, Test L1 Norm: 0.0335, Train Linf Norm: 5.7697, Test Linf Norm: 2.3698\n",
            "Epoch 14: Train Loss: 0.0204, Test Loss: 0.0077, Train L1 Norm: 0.0371, Test L1 Norm: 0.0175, Train Linf Norm: 4.6209, Test Linf Norm: 1.4344\n",
            "Epoch 15: Train Loss: 0.0205, Test Loss: 0.0111, Train L1 Norm: 0.0351, Test L1 Norm: 0.0226, Train Linf Norm: 4.1846, Test Linf Norm: 1.3228\n",
            "Epoch 16: Train Loss: 0.0204, Test Loss: 0.0176, Train L1 Norm: 0.0369, Test L1 Norm: 0.0327, Train Linf Norm: 4.4084, Test Linf Norm: 2.1087\n",
            "Epoch 17: Train Loss: 0.0195, Test Loss: 0.0137, Train L1 Norm: 0.0342, Test L1 Norm: 0.0284, Train Linf Norm: 4.0634, Test Linf Norm: 1.9574\n",
            "Epoch 18: Train Loss: 0.0196, Test Loss: 0.0137, Train L1 Norm: 0.0375, Test L1 Norm: 0.0510, Train Linf Norm: 4.7434, Test Linf Norm: 3.9791\n",
            "Epoch 19: Train Loss: 0.0170, Test Loss: 0.0529, Train L1 Norm: 0.0348, Test L1 Norm: 0.0581, Train Linf Norm: 4.5329, Test Linf Norm: 3.0163\n",
            "Epoch 20: Train Loss: 0.0202, Test Loss: 0.0123, Train L1 Norm: 0.0366, Test L1 Norm: 0.0248, Train Linf Norm: 4.3233, Test Linf Norm: 1.3645\n",
            "Epoch 21: Train Loss: 0.0074, Test Loss: 0.0048, Train L1 Norm: 0.0165, Test L1 Norm: 0.0148, Train Linf Norm: 2.0677, Test Linf Norm: 1.4822\n",
            "Epoch 22: Train Loss: 0.0082, Test Loss: 0.0061, Train L1 Norm: 0.0150, Test L1 Norm: 0.0154, Train Linf Norm: 1.6483, Test Linf Norm: 1.1828\n",
            "Epoch 23: Train Loss: 0.0080, Test Loss: 0.0173, Train L1 Norm: 0.0152, Test L1 Norm: 0.0226, Train Linf Norm: 1.7137, Test Linf Norm: 1.3748\n",
            "Epoch 24: Train Loss: 0.0074, Test Loss: 0.0076, Train L1 Norm: 0.0175, Test L1 Norm: 0.0178, Train Linf Norm: 2.2353, Test Linf Norm: 1.2365\n",
            "Epoch 25: Train Loss: 0.0100, Test Loss: 0.0049, Train L1 Norm: 0.0195, Test L1 Norm: 0.0115, Train Linf Norm: 2.3239, Test Linf Norm: 0.8496\n",
            "Epoch 26: Train Loss: 0.0096, Test Loss: 0.0254, Train L1 Norm: 0.0196, Test L1 Norm: 0.0329, Train Linf Norm: 2.4572, Test Linf Norm: 1.7376\n",
            "Epoch 27: Train Loss: 0.0108, Test Loss: 0.0108, Train L1 Norm: 0.0213, Test L1 Norm: 0.0141, Train Linf Norm: 2.6702, Test Linf Norm: 0.6721\n",
            "Epoch 28: Train Loss: 0.0045, Test Loss: 0.0040, Train L1 Norm: 0.0112, Test L1 Norm: 0.0126, Train Linf Norm: 1.4085, Test Linf Norm: 0.7651\n",
            "Epoch 29: Train Loss: 0.0050, Test Loss: 0.0039, Train L1 Norm: 0.0118, Test L1 Norm: 0.0107, Train Linf Norm: 1.4696, Test Linf Norm: 0.5594\n",
            "Epoch 30: Train Loss: 0.0047, Test Loss: 0.0054, Train L1 Norm: 0.0105, Test L1 Norm: 0.0195, Train Linf Norm: 1.2533, Test Linf Norm: 1.1807\n",
            "Epoch 31: Train Loss: 0.0051, Test Loss: 0.0035, Train L1 Norm: 0.0113, Test L1 Norm: 0.0110, Train Linf Norm: 1.4043, Test Linf Norm: 0.5459\n",
            "Epoch 32: Train Loss: 0.0050, Test Loss: 0.0036, Train L1 Norm: 0.0115, Test L1 Norm: 0.0108, Train Linf Norm: 1.4235, Test Linf Norm: 0.6565\n",
            "Epoch 33: Train Loss: 0.0049, Test Loss: 0.0155, Train L1 Norm: 0.0099, Test L1 Norm: 0.0125, Train Linf Norm: 1.1141, Test Linf Norm: 0.6836\n",
            "Epoch 34: Train Loss: 0.0052, Test Loss: 0.0086, Train L1 Norm: 0.0125, Test L1 Norm: 0.0161, Train Linf Norm: 1.5687, Test Linf Norm: 0.7354\n",
            "Epoch 35: Train Loss: 0.0052, Test Loss: 0.0052, Train L1 Norm: 0.0112, Test L1 Norm: 0.0104, Train Linf Norm: 1.3468, Test Linf Norm: 0.4631\n",
            "Epoch 36: Train Loss: 0.0047, Test Loss: 0.0053, Train L1 Norm: 0.0105, Test L1 Norm: 0.0127, Train Linf Norm: 1.2430, Test Linf Norm: 0.7273\n",
            "Epoch 37: Train Loss: 0.0053, Test Loss: 0.0063, Train L1 Norm: 0.0112, Test L1 Norm: 0.0114, Train Linf Norm: 1.3516, Test Linf Norm: 0.6418\n",
            "Epoch 38: Train Loss: 0.0034, Test Loss: 0.0037, Train L1 Norm: 0.0084, Test L1 Norm: 0.0130, Train Linf Norm: 1.0093, Test Linf Norm: 0.6393\n",
            "Epoch 39: Train Loss: 0.0035, Test Loss: 0.0043, Train L1 Norm: 0.0078, Test L1 Norm: 0.0134, Train Linf Norm: 0.8837, Test Linf Norm: 0.6029\n",
            "Epoch 40: Train Loss: 0.0034, Test Loss: 0.0033, Train L1 Norm: 0.0082, Test L1 Norm: 0.0125, Train Linf Norm: 0.9370, Test Linf Norm: 0.6745\n",
            "Epoch 41: Train Loss: 0.0036, Test Loss: 0.0038, Train L1 Norm: 0.0089, Test L1 Norm: 0.0087, Train Linf Norm: 1.1115, Test Linf Norm: 0.4137\n",
            "Epoch 42: Train Loss: 0.0036, Test Loss: 0.0037, Train L1 Norm: 0.0074, Test L1 Norm: 0.0137, Train Linf Norm: 0.8069, Test Linf Norm: 0.6337\n",
            "Epoch 43: Train Loss: 0.0035, Test Loss: 0.0034, Train L1 Norm: 0.0081, Test L1 Norm: 0.0113, Train Linf Norm: 0.9551, Test Linf Norm: 0.4738\n",
            "Epoch 44: Train Loss: 0.0035, Test Loss: 0.0030, Train L1 Norm: 0.0084, Test L1 Norm: 0.0123, Train Linf Norm: 0.9901, Test Linf Norm: 0.7134\n",
            "Epoch 45: Train Loss: 0.0036, Test Loss: 0.0049, Train L1 Norm: 0.0076, Test L1 Norm: 0.0129, Train Linf Norm: 0.8065, Test Linf Norm: 0.5301\n",
            "Epoch 46: Train Loss: 0.0035, Test Loss: 0.0030, Train L1 Norm: 0.0075, Test L1 Norm: 0.0097, Train Linf Norm: 0.8158, Test Linf Norm: 0.4758\n",
            "Epoch 47: Train Loss: 0.0034, Test Loss: 0.0041, Train L1 Norm: 0.0080, Test L1 Norm: 0.0104, Train Linf Norm: 0.9510, Test Linf Norm: 0.4986\n",
            "Epoch 48: Train Loss: 0.0033, Test Loss: 0.0030, Train L1 Norm: 0.0088, Test L1 Norm: 0.0106, Train Linf Norm: 1.1159, Test Linf Norm: 0.4824\n",
            "Epoch 49: Train Loss: 0.0034, Test Loss: 0.0039, Train L1 Norm: 0.0083, Test L1 Norm: 0.0102, Train Linf Norm: 0.9709, Test Linf Norm: 0.5685\n",
            "Epoch 50: Train Loss: 0.0036, Test Loss: 0.0030, Train L1 Norm: 0.0085, Test L1 Norm: 0.0121, Train Linf Norm: 1.0417, Test Linf Norm: 0.5341\n",
            "Epoch 51: Train Loss: 0.0034, Test Loss: 0.0033, Train L1 Norm: 0.0098, Test L1 Norm: 0.0101, Train Linf Norm: 1.2777, Test Linf Norm: 0.4781\n",
            "Epoch 52: Train Loss: 0.0036, Test Loss: 0.0046, Train L1 Norm: 0.0083, Test L1 Norm: 0.0111, Train Linf Norm: 0.9852, Test Linf Norm: 0.5706\n",
            "Epoch 53: Train Loss: 0.0033, Test Loss: 0.0028, Train L1 Norm: 0.0087, Test L1 Norm: 0.0096, Train Linf Norm: 1.0846, Test Linf Norm: 0.4728\n",
            "Epoch 54: Train Loss: 0.0033, Test Loss: 0.0033, Train L1 Norm: 0.0076, Test L1 Norm: 0.0124, Train Linf Norm: 0.9011, Test Linf Norm: 0.5330\n",
            "Epoch 55: Train Loss: 0.0034, Test Loss: 0.0049, Train L1 Norm: 0.0089, Test L1 Norm: 0.0098, Train Linf Norm: 1.1293, Test Linf Norm: 0.4019\n"
          ]
        },
        {
          "output_type": "stream",
          "name": "stderr",
          "text": [
            "\u001b[32m[I 2023-05-13 13:39:46,565]\u001b[0m Trial 52 pruned. \u001b[0m\n"
          ]
        },
        {
          "output_type": "stream",
          "name": "stdout",
          "text": [
            "Epoch 56: Train Loss: 0.0035, Test Loss: 0.0028, Train L1 Norm: 0.0079, Test L1 Norm: 0.0120, Train Linf Norm: 0.9118, Test Linf Norm: 0.5432\n"
          ]
        },
        {
          "output_type": "stream",
          "name": "stderr",
          "text": [
            "\u001b[32m[I 2023-05-13 13:39:47,972]\u001b[0m Trial 53 pruned. \u001b[0m\n"
          ]
        },
        {
          "output_type": "stream",
          "name": "stdout",
          "text": [
            "Epoch 1: Train Loss: 0.2383, Test Loss: 0.0725, Train L1 Norm: 0.6213, Test L1 Norm: 0.0870, Train Linf Norm: 96.2833, Test Linf Norm: 8.4706\n",
            "Epoch 1: Train Loss: 0.3302, Test Loss: 0.0307, Train L1 Norm: 0.4537, Test L1 Norm: 0.0566, Train Linf Norm: 43.0636, Test Linf Norm: 5.5469\n",
            "Epoch 2: Train Loss: 0.0268, Test Loss: 0.0311, Train L1 Norm: 0.0551, Test L1 Norm: 0.0318, Train Linf Norm: 7.2220, Test Linf Norm: 2.5298\n",
            "Epoch 3: Train Loss: 0.0205, Test Loss: 0.0334, Train L1 Norm: 0.0369, Test L1 Norm: 0.0745, Train Linf Norm: 4.4461, Test Linf Norm: 8.0134\n",
            "Epoch 4: Train Loss: 0.0167, Test Loss: 0.0109, Train L1 Norm: 0.0303, Test L1 Norm: 0.0350, Train Linf Norm: 3.5540, Test Linf Norm: 4.0645\n",
            "Epoch 5: Train Loss: 0.0133, Test Loss: 0.0097, Train L1 Norm: 0.0320, Test L1 Norm: 0.0222, Train Linf Norm: 4.3682, Test Linf Norm: 2.2310\n",
            "Epoch 6: Train Loss: 0.0121, Test Loss: 0.0183, Train L1 Norm: 0.0267, Test L1 Norm: 0.0439, Train Linf Norm: 3.4688, Test Linf Norm: 4.9597\n",
            "Epoch 7: Train Loss: 0.0114, Test Loss: 0.0079, Train L1 Norm: 0.0315, Test L1 Norm: 0.0213, Train Linf Norm: 4.6740, Test Linf Norm: 2.3271\n",
            "Epoch 8: Train Loss: 0.0092, Test Loss: 0.0095, Train L1 Norm: 0.0230, Test L1 Norm: 0.0218, Train Linf Norm: 3.1244, Test Linf Norm: 2.3396\n",
            "Epoch 9: Train Loss: 0.0105, Test Loss: 0.0091, Train L1 Norm: 0.0207, Test L1 Norm: 0.0155, Train Linf Norm: 2.5261, Test Linf Norm: 1.3131\n",
            "Epoch 10: Train Loss: 0.0085, Test Loss: 0.0081, Train L1 Norm: 0.0184, Test L1 Norm: 0.0148, Train Linf Norm: 2.3426, Test Linf Norm: 1.4325\n",
            "Epoch 11: Train Loss: 0.0078, Test Loss: 0.0076, Train L1 Norm: 0.0194, Test L1 Norm: 0.0209, Train Linf Norm: 2.6326, Test Linf Norm: 2.3172\n",
            "Epoch 12: Train Loss: 0.0069, Test Loss: 0.0067, Train L1 Norm: 0.0176, Test L1 Norm: 0.0190, Train Linf Norm: 2.3726, Test Linf Norm: 2.1648\n",
            "Epoch 13: Train Loss: 0.0064, Test Loss: 0.0057, Train L1 Norm: 0.0147, Test L1 Norm: 0.0132, Train Linf Norm: 1.8176, Test Linf Norm: 1.2846\n",
            "Epoch 14: Train Loss: 0.0062, Test Loss: 0.0058, Train L1 Norm: 0.0156, Test L1 Norm: 0.0139, Train Linf Norm: 2.1027, Test Linf Norm: 1.4358\n",
            "Epoch 15: Train Loss: 0.0053, Test Loss: 0.0052, Train L1 Norm: 0.0137, Test L1 Norm: 0.0185, Train Linf Norm: 1.8009, Test Linf Norm: 2.1156\n",
            "Epoch 16: Train Loss: 0.0054, Test Loss: 0.0050, Train L1 Norm: 0.0120, Test L1 Norm: 0.0103, Train Linf Norm: 1.4448, Test Linf Norm: 0.9620\n",
            "Epoch 17: Train Loss: 0.0053, Test Loss: 0.0046, Train L1 Norm: 0.0124, Test L1 Norm: 0.0128, Train Linf Norm: 1.5442, Test Linf Norm: 1.3106\n",
            "Epoch 18: Train Loss: 0.0050, Test Loss: 0.0051, Train L1 Norm: 0.0111, Test L1 Norm: 0.0122, Train Linf Norm: 1.3127, Test Linf Norm: 1.1750\n",
            "Epoch 19: Train Loss: 0.0045, Test Loss: 0.0041, Train L1 Norm: 0.0112, Test L1 Norm: 0.0127, Train Linf Norm: 1.2899, Test Linf Norm: 1.3646\n",
            "Epoch 20: Train Loss: 0.0045, Test Loss: 0.0050, Train L1 Norm: 0.0114, Test L1 Norm: 0.0101, Train Linf Norm: 1.4188, Test Linf Norm: 0.9458\n",
            "Epoch 21: Train Loss: 0.0043, Test Loss: 0.0039, Train L1 Norm: 0.0101, Test L1 Norm: 0.0126, Train Linf Norm: 1.1919, Test Linf Norm: 1.3155\n",
            "Epoch 22: Train Loss: 0.0043, Test Loss: 0.0039, Train L1 Norm: 0.0101, Test L1 Norm: 0.0078, Train Linf Norm: 1.1835, Test Linf Norm: 0.6422\n",
            "Epoch 23: Train Loss: 0.0043, Test Loss: 0.0044, Train L1 Norm: 0.0109, Test L1 Norm: 0.0101, Train Linf Norm: 1.3999, Test Linf Norm: 0.9735\n",
            "Epoch 24: Train Loss: 0.0040, Test Loss: 0.0049, Train L1 Norm: 0.0099, Test L1 Norm: 0.0094, Train Linf Norm: 1.1872, Test Linf Norm: 0.8718\n",
            "Epoch 25: Train Loss: 0.0041, Test Loss: 0.0037, Train L1 Norm: 0.0086, Test L1 Norm: 0.0078, Train Linf Norm: 0.8883, Test Linf Norm: 0.6572\n",
            "Epoch 26: Train Loss: 0.0040, Test Loss: 0.0040, Train L1 Norm: 0.0090, Test L1 Norm: 0.0088, Train Linf Norm: 1.0099, Test Linf Norm: 0.7808\n",
            "Epoch 27: Train Loss: 0.0039, Test Loss: 0.0039, Train L1 Norm: 0.0096, Test L1 Norm: 0.0077, Train Linf Norm: 1.1797, Test Linf Norm: 0.6624\n",
            "Epoch 28: Train Loss: 0.0039, Test Loss: 0.0039, Train L1 Norm: 0.0094, Test L1 Norm: 0.0106, Train Linf Norm: 1.1455, Test Linf Norm: 1.0617\n",
            "Epoch 29: Train Loss: 0.0038, Test Loss: 0.0036, Train L1 Norm: 0.0090, Test L1 Norm: 0.0092, Train Linf Norm: 1.0509, Test Linf Norm: 0.8723\n",
            "Epoch 30: Train Loss: 0.0038, Test Loss: 0.0041, Train L1 Norm: 0.0088, Test L1 Norm: 0.0093, Train Linf Norm: 1.0099, Test Linf Norm: 0.8857\n",
            "Epoch 31: Train Loss: 0.0038, Test Loss: 0.0036, Train L1 Norm: 0.0089, Test L1 Norm: 0.0102, Train Linf Norm: 1.0527, Test Linf Norm: 1.0161\n",
            "Epoch 32: Train Loss: 0.0037, Test Loss: 0.0037, Train L1 Norm: 0.0086, Test L1 Norm: 0.0073, Train Linf Norm: 0.9945, Test Linf Norm: 0.5934\n",
            "Epoch 33: Train Loss: 0.0036, Test Loss: 0.0036, Train L1 Norm: 0.0086, Test L1 Norm: 0.0077, Train Linf Norm: 0.9453, Test Linf Norm: 0.6503\n",
            "Epoch 34: Train Loss: 0.0036, Test Loss: 0.0036, Train L1 Norm: 0.0089, Test L1 Norm: 0.0077, Train Linf Norm: 1.0433, Test Linf Norm: 0.6765\n",
            "Epoch 35: Train Loss: 0.0036, Test Loss: 0.0036, Train L1 Norm: 0.0091, Test L1 Norm: 0.0069, Train Linf Norm: 1.1392, Test Linf Norm: 0.5553\n",
            "Epoch 36: Train Loss: 0.0035, Test Loss: 0.0035, Train L1 Norm: 0.0085, Test L1 Norm: 0.0075, Train Linf Norm: 0.9532, Test Linf Norm: 0.6355\n",
            "Epoch 37: Train Loss: 0.0035, Test Loss: 0.0038, Train L1 Norm: 0.0085, Test L1 Norm: 0.0093, Train Linf Norm: 0.9863, Test Linf Norm: 0.8968\n",
            "Epoch 38: Train Loss: 0.0035, Test Loss: 0.0034, Train L1 Norm: 0.0089, Test L1 Norm: 0.0078, Train Linf Norm: 1.0547, Test Linf Norm: 0.6812\n",
            "Epoch 39: Train Loss: 0.0035, Test Loss: 0.0036, Train L1 Norm: 0.0085, Test L1 Norm: 0.0080, Train Linf Norm: 1.0164, Test Linf Norm: 0.7099\n",
            "Epoch 40: Train Loss: 0.0035, Test Loss: 0.0035, Train L1 Norm: 0.0082, Test L1 Norm: 0.0069, Train Linf Norm: 0.9420, Test Linf Norm: 0.5554\n",
            "Epoch 41: Train Loss: 0.0035, Test Loss: 0.0034, Train L1 Norm: 0.0084, Test L1 Norm: 0.0075, Train Linf Norm: 0.9894, Test Linf Norm: 0.6435\n",
            "Epoch 42: Train Loss: 0.0034, Test Loss: 0.0034, Train L1 Norm: 0.0085, Test L1 Norm: 0.0074, Train Linf Norm: 0.9707, Test Linf Norm: 0.6467\n",
            "Epoch 43: Train Loss: 0.0034, Test Loss: 0.0034, Train L1 Norm: 0.0085, Test L1 Norm: 0.0072, Train Linf Norm: 1.0196, Test Linf Norm: 0.6185\n",
            "Epoch 44: Train Loss: 0.0034, Test Loss: 0.0034, Train L1 Norm: 0.0085, Test L1 Norm: 0.0071, Train Linf Norm: 1.0354, Test Linf Norm: 0.6007\n",
            "Epoch 45: Train Loss: 0.0034, Test Loss: 0.0034, Train L1 Norm: 0.0088, Test L1 Norm: 0.0076, Train Linf Norm: 1.0780, Test Linf Norm: 0.6743\n",
            "Epoch 46: Train Loss: 0.0034, Test Loss: 0.0034, Train L1 Norm: 0.0086, Test L1 Norm: 0.0070, Train Linf Norm: 1.0318, Test Linf Norm: 0.5840\n",
            "Epoch 47: Train Loss: 0.0034, Test Loss: 0.0034, Train L1 Norm: 0.0084, Test L1 Norm: 0.0079, Train Linf Norm: 0.9699, Test Linf Norm: 0.7198\n",
            "Epoch 48: Train Loss: 0.0034, Test Loss: 0.0034, Train L1 Norm: 0.0083, Test L1 Norm: 0.0074, Train Linf Norm: 0.9566, Test Linf Norm: 0.6478\n",
            "Epoch 49: Train Loss: 0.0034, Test Loss: 0.0034, Train L1 Norm: 0.0083, Test L1 Norm: 0.0075, Train Linf Norm: 0.9951, Test Linf Norm: 0.6547\n",
            "Epoch 50: Train Loss: 0.0034, Test Loss: 0.0034, Train L1 Norm: 0.0081, Test L1 Norm: 0.0067, Train Linf Norm: 0.9489, Test Linf Norm: 0.5365\n",
            "Epoch 51: Train Loss: 0.0034, Test Loss: 0.0034, Train L1 Norm: 0.0084, Test L1 Norm: 0.0069, Train Linf Norm: 0.9995, Test Linf Norm: 0.5719\n",
            "Epoch 52: Train Loss: 0.0034, Test Loss: 0.0033, Train L1 Norm: 0.0083, Test L1 Norm: 0.0070, Train Linf Norm: 0.9828, Test Linf Norm: 0.5965\n",
            "Epoch 53: Train Loss: 0.0034, Test Loss: 0.0033, Train L1 Norm: 0.0083, Test L1 Norm: 0.0072, Train Linf Norm: 0.9675, Test Linf Norm: 0.6263\n",
            "Epoch 54: Train Loss: 0.0033, Test Loss: 0.0034, Train L1 Norm: 0.0083, Test L1 Norm: 0.0073, Train Linf Norm: 1.0013, Test Linf Norm: 0.6325\n",
            "Epoch 55: Train Loss: 0.0033, Test Loss: 0.0033, Train L1 Norm: 0.0083, Test L1 Norm: 0.0071, Train Linf Norm: 0.9711, Test Linf Norm: 0.6118\n",
            "Epoch 56: Train Loss: 0.0033, Test Loss: 0.0033, Train L1 Norm: 0.0083, Test L1 Norm: 0.0071, Train Linf Norm: 0.9648, Test Linf Norm: 0.6087\n",
            "Epoch 57: Train Loss: 0.0033, Test Loss: 0.0034, Train L1 Norm: 0.0083, Test L1 Norm: 0.0069, Train Linf Norm: 0.9912, Test Linf Norm: 0.5757\n",
            "Epoch 58: Train Loss: 0.0033, Test Loss: 0.0034, Train L1 Norm: 0.0085, Test L1 Norm: 0.0070, Train Linf Norm: 1.0538, Test Linf Norm: 0.5892\n",
            "Epoch 59: Train Loss: 0.0033, Test Loss: 0.0034, Train L1 Norm: 0.0083, Test L1 Norm: 0.0072, Train Linf Norm: 0.9744, Test Linf Norm: 0.6198\n",
            "Epoch 60: Train Loss: 0.0033, Test Loss: 0.0034, Train L1 Norm: 0.0082, Test L1 Norm: 0.0074, Train Linf Norm: 0.9945, Test Linf Norm: 0.6510\n",
            "Epoch 61: Train Loss: 0.0033, Test Loss: 0.0034, Train L1 Norm: 0.0082, Test L1 Norm: 0.0068, Train Linf Norm: 0.9619, Test Linf Norm: 0.5622\n",
            "Epoch 62: Train Loss: 0.0033, Test Loss: 0.0034, Train L1 Norm: 0.0082, Test L1 Norm: 0.0074, Train Linf Norm: 0.9883, Test Linf Norm: 0.6430\n",
            "Epoch 63: Train Loss: 0.0033, Test Loss: 0.0034, Train L1 Norm: 0.0083, Test L1 Norm: 0.0069, Train Linf Norm: 0.9905, Test Linf Norm: 0.5744\n",
            "Epoch 64: Train Loss: 0.0033, Test Loss: 0.0033, Train L1 Norm: 0.0082, Test L1 Norm: 0.0070, Train Linf Norm: 0.9763, Test Linf Norm: 0.5918\n",
            "Epoch 65: Train Loss: 0.0033, Test Loss: 0.0033, Train L1 Norm: 0.0082, Test L1 Norm: 0.0071, Train Linf Norm: 0.9512, Test Linf Norm: 0.6072\n",
            "Epoch 66: Train Loss: 0.0033, Test Loss: 0.0034, Train L1 Norm: 0.0082, Test L1 Norm: 0.0070, Train Linf Norm: 1.0015, Test Linf Norm: 0.5858\n",
            "Epoch 67: Train Loss: 0.0033, Test Loss: 0.0033, Train L1 Norm: 0.0082, Test L1 Norm: 0.0069, Train Linf Norm: 0.9662, Test Linf Norm: 0.5781\n",
            "Epoch 68: Train Loss: 0.0033, Test Loss: 0.0033, Train L1 Norm: 0.0082, Test L1 Norm: 0.0071, Train Linf Norm: 0.9511, Test Linf Norm: 0.5983\n",
            "Epoch 69: Train Loss: 0.0033, Test Loss: 0.0033, Train L1 Norm: 0.0082, Test L1 Norm: 0.0070, Train Linf Norm: 0.9396, Test Linf Norm: 0.5971\n",
            "Epoch 70: Train Loss: 0.0033, Test Loss: 0.0033, Train L1 Norm: 0.0083, Test L1 Norm: 0.0071, Train Linf Norm: 0.9960, Test Linf Norm: 0.6094\n",
            "Epoch 71: Train Loss: 0.0033, Test Loss: 0.0033, Train L1 Norm: 0.0083, Test L1 Norm: 0.0071, Train Linf Norm: 0.9930, Test Linf Norm: 0.6095\n",
            "Epoch 72: Train Loss: 0.0033, Test Loss: 0.0033, Train L1 Norm: 0.0082, Test L1 Norm: 0.0070, Train Linf Norm: 0.9741, Test Linf Norm: 0.5947\n",
            "Epoch 73: Train Loss: 0.0033, Test Loss: 0.0033, Train L1 Norm: 0.0082, Test L1 Norm: 0.0070, Train Linf Norm: 0.9809, Test Linf Norm: 0.5849\n",
            "Epoch 74: Train Loss: 0.0033, Test Loss: 0.0033, Train L1 Norm: 0.0082, Test L1 Norm: 0.0069, Train Linf Norm: 0.9733, Test Linf Norm: 0.5835\n",
            "Epoch 75: Train Loss: 0.0033, Test Loss: 0.0033, Train L1 Norm: 0.0082, Test L1 Norm: 0.0069, Train Linf Norm: 0.9684, Test Linf Norm: 0.5814\n",
            "Epoch 76: Train Loss: 0.0033, Test Loss: 0.0033, Train L1 Norm: 0.0083, Test L1 Norm: 0.0069, Train Linf Norm: 0.9849, Test Linf Norm: 0.5773\n"
          ]
        },
        {
          "output_type": "stream",
          "name": "stderr",
          "text": [
            "\u001b[32m[I 2023-05-13 13:41:41,680]\u001b[0m Trial 54 finished with value: 0.006983752935007214 and parameters: {'n_layers': 3, 'n_units_0': 96, 'n_units_1': 177, 'n_units_2': 113, 'hidden_activation': 'ReLU', 'output_activation': 'Linear', 'loss': 'MAE', 'optimizer': 'Adam', 'lr': 0.000268770800691576, 'batch_size': 219, 'n_epochs': 77, 'scheduler': 'ExponentialLR'}. Best is trial 42 with value: 0.004305121898895595.\u001b[0m\n"
          ]
        },
        {
          "output_type": "stream",
          "name": "stdout",
          "text": [
            "Epoch 77: Train Loss: 0.0033, Test Loss: 0.0033, Train L1 Norm: 0.0082, Test L1 Norm: 0.0070, Train Linf Norm: 0.9403, Test Linf Norm: 0.5877\n"
          ]
        },
        {
          "output_type": "stream",
          "name": "stderr",
          "text": [
            "\u001b[32m[I 2023-05-13 13:41:43,017]\u001b[0m Trial 55 pruned. \u001b[0m\n"
          ]
        },
        {
          "output_type": "stream",
          "name": "stdout",
          "text": [
            "Epoch 1: Train Loss: 2.0734, Test Loss: 0.0085, Train L1 Norm: 1.0482, Test L1 Norm: 0.1859, Train Linf Norm: 133.4122, Test Linf Norm: 19.9578\n",
            "Epoch 1: Train Loss: 0.2326, Test Loss: 0.0181, Train L1 Norm: 0.4595, Test L1 Norm: 0.0559, Train Linf Norm: 53.0598, Test Linf Norm: 4.4852\n",
            "Epoch 2: Train Loss: 0.0270, Test Loss: 0.0153, Train L1 Norm: 0.0563, Test L1 Norm: 0.0369, Train Linf Norm: 6.5646, Test Linf Norm: 2.5567\n",
            "Epoch 3: Train Loss: 0.0275, Test Loss: 0.0313, Train L1 Norm: 0.0551, Test L1 Norm: 0.0298, Train Linf Norm: 6.3261, Test Linf Norm: 1.7509\n",
            "Epoch 4: Train Loss: 0.0263, Test Loss: 0.0140, Train L1 Norm: 0.0474, Test L1 Norm: 0.0320, Train Linf Norm: 5.2910, Test Linf Norm: 2.3140\n",
            "Epoch 5: Train Loss: 0.0230, Test Loss: 0.0286, Train L1 Norm: 0.0434, Test L1 Norm: 0.0463, Train Linf Norm: 5.0218, Test Linf Norm: 3.1126\n",
            "Epoch 6: Train Loss: 0.0258, Test Loss: 0.0155, Train L1 Norm: 0.0407, Test L1 Norm: 0.0261, Train Linf Norm: 4.1927, Test Linf Norm: 1.7687\n",
            "Epoch 7: Train Loss: 0.0242, Test Loss: 0.0406, Train L1 Norm: 0.0471, Test L1 Norm: 0.0431, Train Linf Norm: 5.6118, Test Linf Norm: 2.8825\n",
            "Epoch 8: Train Loss: 0.0206, Test Loss: 0.0124, Train L1 Norm: 0.0367, Test L1 Norm: 0.0320, Train Linf Norm: 4.1699, Test Linf Norm: 2.5792\n",
            "Epoch 9: Train Loss: 0.0195, Test Loss: 0.0265, Train L1 Norm: 0.0367, Test L1 Norm: 0.0330, Train Linf Norm: 4.0442, Test Linf Norm: 2.1865\n",
            "Epoch 10: Train Loss: 0.0215, Test Loss: 0.0105, Train L1 Norm: 0.0315, Test L1 Norm: 0.0413, Train Linf Norm: 3.1150, Test Linf Norm: 4.4821\n",
            "Epoch 11: Train Loss: 0.0209, Test Loss: 0.0282, Train L1 Norm: 0.0379, Test L1 Norm: 0.0620, Train Linf Norm: 4.1570, Test Linf Norm: 3.8392\n",
            "Epoch 12: Train Loss: 0.0208, Test Loss: 0.0125, Train L1 Norm: 0.0289, Test L1 Norm: 0.0386, Train Linf Norm: 2.5684, Test Linf Norm: 2.4936\n",
            "Epoch 13: Train Loss: 0.0269, Test Loss: 0.0240, Train L1 Norm: 0.0440, Test L1 Norm: 0.0404, Train Linf Norm: 4.7745, Test Linf Norm: 3.5026\n",
            "Epoch 14: Train Loss: 0.0208, Test Loss: 0.0104, Train L1 Norm: 0.0347, Test L1 Norm: 0.0299, Train Linf Norm: 3.7496, Test Linf Norm: 2.6961\n",
            "Epoch 15: Train Loss: 0.0226, Test Loss: 0.0095, Train L1 Norm: 0.0393, Test L1 Norm: 0.0252, Train Linf Norm: 4.5013, Test Linf Norm: 2.2312\n",
            "Epoch 16: Train Loss: 0.0196, Test Loss: 0.0079, Train L1 Norm: 0.0330, Test L1 Norm: 0.0251, Train Linf Norm: 3.5391, Test Linf Norm: 1.8786\n",
            "Epoch 17: Train Loss: 0.0175, Test Loss: 0.0171, Train L1 Norm: 0.0355, Test L1 Norm: 0.0316, Train Linf Norm: 4.1296, Test Linf Norm: 2.8901\n"
          ]
        },
        {
          "output_type": "stream",
          "name": "stderr",
          "text": [
            "\u001b[32m[I 2023-05-13 13:42:10,614]\u001b[0m Trial 56 pruned. \u001b[0m\n"
          ]
        },
        {
          "output_type": "stream",
          "name": "stdout",
          "text": [
            "Epoch 18: Train Loss: 0.0209, Test Loss: 0.0094, Train L1 Norm: 0.0330, Test L1 Norm: 0.0280, Train Linf Norm: 3.3457, Test Linf Norm: 2.5600\n",
            "Epoch 1: Train Loss: 0.0529, Test Loss: 0.0001, Train L1 Norm: 0.2290, Test L1 Norm: 0.0418, Train Linf Norm: 13.9248, Test Linf Norm: 2.4801\n",
            "Epoch 2: Train Loss: 0.0003, Test Loss: 0.0001, Train L1 Norm: 0.0356, Test L1 Norm: 0.0204, Train Linf Norm: 2.1715, Test Linf Norm: 0.9986\n",
            "Epoch 3: Train Loss: 0.0005, Test Loss: 0.0009, Train L1 Norm: 0.0369, Test L1 Norm: 0.0281, Train Linf Norm: 2.1410, Test Linf Norm: 1.2777\n",
            "Epoch 4: Train Loss: 0.0004, Test Loss: 0.0003, Train L1 Norm: 0.0381, Test L1 Norm: 0.0523, Train Linf Norm: 2.3338, Test Linf Norm: 3.2790\n",
            "Epoch 5: Train Loss: 0.0005, Test Loss: 0.0004, Train L1 Norm: 0.0348, Test L1 Norm: 0.0172, Train Linf Norm: 2.1498, Test Linf Norm: 0.6940\n",
            "Epoch 6: Train Loss: 0.0004, Test Loss: 0.0000, Train L1 Norm: 0.0389, Test L1 Norm: 0.0329, Train Linf Norm: 2.4347, Test Linf Norm: 2.1735\n",
            "Epoch 7: Train Loss: 0.0013, Test Loss: 0.0000, Train L1 Norm: 0.0414, Test L1 Norm: 0.0495, Train Linf Norm: 2.3883, Test Linf Norm: 3.3035\n",
            "Epoch 8: Train Loss: 0.0001, Test Loss: 0.0001, Train L1 Norm: 0.0278, Test L1 Norm: 0.0299, Train Linf Norm: 1.8240, Test Linf Norm: 1.9032\n",
            "Epoch 9: Train Loss: 0.0002, Test Loss: 0.0013, Train L1 Norm: 0.0289, Test L1 Norm: 0.0342, Train Linf Norm: 1.8321, Test Linf Norm: 1.7196\n",
            "Epoch 10: Train Loss: 0.0002, Test Loss: 0.0001, Train L1 Norm: 0.0335, Test L1 Norm: 0.0407, Train Linf Norm: 2.2374, Test Linf Norm: 2.6306\n",
            "Epoch 11: Train Loss: 0.0002, Test Loss: 0.0000, Train L1 Norm: 0.0298, Test L1 Norm: 0.0165, Train Linf Norm: 1.9036, Test Linf Norm: 0.9579\n",
            "Epoch 12: Train Loss: 0.0004, Test Loss: 0.0000, Train L1 Norm: 0.0335, Test L1 Norm: 0.0285, Train Linf Norm: 2.0723, Test Linf Norm: 1.9334\n",
            "Epoch 13: Train Loss: 0.0002, Test Loss: 0.0001, Train L1 Norm: 0.0321, Test L1 Norm: 0.0217, Train Linf Norm: 2.1442, Test Linf Norm: 1.2616\n",
            "Epoch 14: Train Loss: 0.0004, Test Loss: 0.0001, Train L1 Norm: 0.0281, Test L1 Norm: 0.0389, Train Linf Norm: 1.6448, Test Linf Norm: 2.6270\n",
            "Epoch 15: Train Loss: 0.0001, Test Loss: 0.0000, Train L1 Norm: 0.0265, Test L1 Norm: 0.0273, Train Linf Norm: 1.6946, Test Linf Norm: 1.8866\n",
            "Epoch 16: Train Loss: 0.0002, Test Loss: 0.0013, Train L1 Norm: 0.0293, Test L1 Norm: 0.0463, Train Linf Norm: 1.8364, Test Linf Norm: 2.5197\n",
            "Epoch 17: Train Loss: 0.0002, Test Loss: 0.0001, Train L1 Norm: 0.0217, Test L1 Norm: 0.0448, Train Linf Norm: 1.2636, Test Linf Norm: 2.9726\n",
            "Epoch 18: Train Loss: 0.0001, Test Loss: 0.0012, Train L1 Norm: 0.0241, Test L1 Norm: 0.0509, Train Linf Norm: 1.4838, Test Linf Norm: 2.6235\n",
            "Epoch 19: Train Loss: 0.0002, Test Loss: 0.0000, Train L1 Norm: 0.0249, Test L1 Norm: 0.0235, Train Linf Norm: 1.4743, Test Linf Norm: 1.5705\n",
            "Epoch 20: Train Loss: 0.0002, Test Loss: 0.0002, Train L1 Norm: 0.0221, Test L1 Norm: 0.0344, Train Linf Norm: 1.3089, Test Linf Norm: 1.6568\n",
            "Epoch 21: Train Loss: 0.0002, Test Loss: 0.0000, Train L1 Norm: 0.0267, Test L1 Norm: 0.0173, Train Linf Norm: 1.7303, Test Linf Norm: 1.0304\n",
            "Epoch 22: Train Loss: 0.0002, Test Loss: 0.0006, Train L1 Norm: 0.0261, Test L1 Norm: 0.0394, Train Linf Norm: 1.6359, Test Linf Norm: 1.4543\n",
            "Epoch 23: Train Loss: 0.0001, Test Loss: 0.0002, Train L1 Norm: 0.0232, Test L1 Norm: 0.0186, Train Linf Norm: 1.4905, Test Linf Norm: 0.7532\n",
            "Epoch 24: Train Loss: 0.0002, Test Loss: 0.0000, Train L1 Norm: 0.0243, Test L1 Norm: 0.0234, Train Linf Norm: 1.4868, Test Linf Norm: 1.4727\n",
            "Epoch 25: Train Loss: 0.0002, Test Loss: 0.0011, Train L1 Norm: 0.0250, Test L1 Norm: 0.0505, Train Linf Norm: 1.5292, Test Linf Norm: 2.7470\n",
            "Epoch 26: Train Loss: 0.0002, Test Loss: 0.0000, Train L1 Norm: 0.0227, Test L1 Norm: 0.0182, Train Linf Norm: 1.4345, Test Linf Norm: 1.1955\n",
            "Epoch 27: Train Loss: 0.0001, Test Loss: 0.0153, Train L1 Norm: 0.0185, Test L1 Norm: 0.1418, Train Linf Norm: 1.1772, Test Linf Norm: 6.7109\n",
            "Epoch 28: Train Loss: 0.0004, Test Loss: 0.0000, Train L1 Norm: 0.0358, Test L1 Norm: 0.0187, Train Linf Norm: 2.4535, Test Linf Norm: 1.1406\n",
            "Epoch 29: Train Loss: 0.0001, Test Loss: 0.0000, Train L1 Norm: 0.0188, Test L1 Norm: 0.0240, Train Linf Norm: 1.1632, Test Linf Norm: 1.5530\n",
            "Epoch 30: Train Loss: 0.0002, Test Loss: 0.0000, Train L1 Norm: 0.0240, Test L1 Norm: 0.0286, Train Linf Norm: 1.4445, Test Linf Norm: 1.9381\n",
            "Epoch 31: Train Loss: 0.0002, Test Loss: 0.0001, Train L1 Norm: 0.0235, Test L1 Norm: 0.0264, Train Linf Norm: 1.4371, Test Linf Norm: 1.6177\n"
          ]
        },
        {
          "output_type": "stream",
          "name": "stderr",
          "text": [
            "\u001b[32m[I 2023-05-13 13:43:27,875]\u001b[0m Trial 57 pruned. \u001b[0m\n"
          ]
        },
        {
          "output_type": "stream",
          "name": "stdout",
          "text": [
            "Epoch 32: Train Loss: 0.0001, Test Loss: 0.0017, Train L1 Norm: 0.0191, Test L1 Norm: 0.0311, Train Linf Norm: 1.2271, Test Linf Norm: 0.7797\n"
          ]
        },
        {
          "output_type": "stream",
          "name": "stderr",
          "text": [
            "\u001b[32m[I 2023-05-13 13:43:30,101]\u001b[0m Trial 58 pruned. \u001b[0m\n"
          ]
        },
        {
          "output_type": "stream",
          "name": "stdout",
          "text": [
            "Epoch 1: Train Loss: 0.4610, Test Loss: 0.0690, Train L1 Norm: 1.0132, Test L1 Norm: 0.1996, Train Linf Norm: 116.5303, Test Linf Norm: 14.5800\n"
          ]
        },
        {
          "output_type": "stream",
          "name": "stderr",
          "text": [
            "\u001b[32m[I 2023-05-13 13:43:31,819]\u001b[0m Trial 59 pruned. \u001b[0m\n"
          ]
        },
        {
          "output_type": "stream",
          "name": "stdout",
          "text": [
            "Epoch 1: Train Loss: 0.1746, Test Loss: 0.0936, Train L1 Norm: 0.2968, Test L1 Norm: 0.0773, Train Linf Norm: 31.6191, Test Linf Norm: 4.1670\n"
          ]
        },
        {
          "output_type": "stream",
          "name": "stderr",
          "text": [
            "\u001b[32m[I 2023-05-13 13:43:33,190]\u001b[0m Trial 60 pruned. \u001b[0m\n"
          ]
        },
        {
          "output_type": "stream",
          "name": "stdout",
          "text": [
            "Epoch 1: Train Loss: 1.2154, Test Loss: 0.3709, Train L1 Norm: 2.1736, Test L1 Norm: 0.5358, Train Linf Norm: 295.3944, Test Linf Norm: 57.4708\n"
          ]
        },
        {
          "output_type": "stream",
          "name": "stderr",
          "text": [
            "\u001b[32m[I 2023-05-13 13:43:34,523]\u001b[0m Trial 61 pruned. \u001b[0m\n"
          ]
        },
        {
          "output_type": "stream",
          "name": "stdout",
          "text": [
            "Epoch 1: Train Loss: 0.2179, Test Loss: 0.0370, Train L1 Norm: 0.3849, Test L1 Norm: 0.1246, Train Linf Norm: 48.8149, Test Linf Norm: 17.0093\n"
          ]
        },
        {
          "output_type": "stream",
          "name": "stderr",
          "text": [
            "\u001b[32m[I 2023-05-13 13:43:35,938]\u001b[0m Trial 62 pruned. \u001b[0m\n"
          ]
        },
        {
          "output_type": "stream",
          "name": "stdout",
          "text": [
            "Epoch 1: Train Loss: 0.1936, Test Loss: 0.0730, Train L1 Norm: 0.3605, Test L1 Norm: 0.0651, Train Linf Norm: 48.7997, Test Linf Norm: 5.6513\n"
          ]
        },
        {
          "output_type": "stream",
          "name": "stderr",
          "text": [
            "\u001b[32m[I 2023-05-13 13:43:37,460]\u001b[0m Trial 63 pruned. \u001b[0m\n"
          ]
        },
        {
          "output_type": "stream",
          "name": "stdout",
          "text": [
            "Epoch 1: Train Loss: 0.1569, Test Loss: 0.0834, Train L1 Norm: 0.4856, Test L1 Norm: 0.0903, Train Linf Norm: 65.1639, Test Linf Norm: 5.5579\n"
          ]
        },
        {
          "output_type": "stream",
          "name": "stderr",
          "text": [
            "\u001b[32m[I 2023-05-13 13:43:38,795]\u001b[0m Trial 64 pruned. \u001b[0m\n"
          ]
        },
        {
          "output_type": "stream",
          "name": "stdout",
          "text": [
            "Epoch 1: Train Loss: 0.1720, Test Loss: 0.0727, Train L1 Norm: 0.2950, Test L1 Norm: 0.0731, Train Linf Norm: 34.9972, Test Linf Norm: 5.6885\n"
          ]
        },
        {
          "output_type": "stream",
          "name": "stderr",
          "text": [
            "\u001b[32m[I 2023-05-13 13:43:40,162]\u001b[0m Trial 65 pruned. \u001b[0m\n"
          ]
        },
        {
          "output_type": "stream",
          "name": "stdout",
          "text": [
            "Epoch 1: Train Loss: 0.2096, Test Loss: 0.0196, Train L1 Norm: 0.4327, Test L1 Norm: 0.0944, Train Linf Norm: 48.0143, Test Linf Norm: 7.4613\n"
          ]
        },
        {
          "output_type": "stream",
          "name": "stderr",
          "text": [
            "\u001b[32m[I 2023-05-13 13:43:44,791]\u001b[0m Trial 66 pruned. \u001b[0m\n"
          ]
        },
        {
          "output_type": "stream",
          "name": "stdout",
          "text": [
            "Epoch 1: Train Loss: 1.1928, Test Loss: 0.0190, Train L1 Norm: 5.3610, Test L1 Norm: 0.8848, Train Linf Norm: 186.1691, Test Linf Norm: 29.9672\n"
          ]
        },
        {
          "output_type": "stream",
          "name": "stderr",
          "text": [
            "\u001b[32m[I 2023-05-13 13:43:46,174]\u001b[0m Trial 67 pruned. \u001b[0m\n"
          ]
        },
        {
          "output_type": "stream",
          "name": "stdout",
          "text": [
            "Epoch 1: Train Loss: 0.4377, Test Loss: 0.0851, Train L1 Norm: 2.3966, Test L1 Norm: 2.0253, Train Linf Norm: 327.5139, Test Linf Norm: 222.3350\n"
          ]
        },
        {
          "output_type": "stream",
          "name": "stderr",
          "text": [
            "\u001b[32m[I 2023-05-13 13:43:47,565]\u001b[0m Trial 68 pruned. \u001b[0m\n"
          ]
        },
        {
          "output_type": "stream",
          "name": "stdout",
          "text": [
            "Epoch 1: Train Loss: 0.3250, Test Loss: 0.1145, Train L1 Norm: 0.6562, Test L1 Norm: 0.3499, Train Linf Norm: 84.2359, Test Linf Norm: 43.6561\n"
          ]
        },
        {
          "output_type": "stream",
          "name": "stderr",
          "text": [
            "\u001b[32m[I 2023-05-13 13:43:48,974]\u001b[0m Trial 69 pruned. \u001b[0m\n"
          ]
        },
        {
          "output_type": "stream",
          "name": "stdout",
          "text": [
            "Epoch 1: Train Loss: 3.3912, Test Loss: 3.3992, Train L1 Norm: 1.0000, Test L1 Norm: 1.0000, Train Linf Norm: 1.0000, Test Linf Norm: 1.0000\n"
          ]
        },
        {
          "output_type": "stream",
          "name": "stderr",
          "text": [
            "\u001b[32m[I 2023-05-13 13:43:50,817]\u001b[0m Trial 70 pruned. \u001b[0m\n"
          ]
        },
        {
          "output_type": "stream",
          "name": "stdout",
          "text": [
            "Epoch 1: Train Loss: 0.0431, Test Loss: 0.0002, Train L1 Norm: 0.3007, Test L1 Norm: 0.0868, Train Linf Norm: 24.1020, Test Linf Norm: 6.4786\n"
          ]
        },
        {
          "output_type": "stream",
          "name": "stderr",
          "text": [
            "\u001b[32m[I 2023-05-13 13:43:52,320]\u001b[0m Trial 71 pruned. \u001b[0m\n"
          ]
        },
        {
          "output_type": "stream",
          "name": "stdout",
          "text": [
            "Epoch 1: Train Loss: 0.7488, Test Loss: 0.0010, Train L1 Norm: 0.8413, Test L1 Norm: 0.1005, Train Linf Norm: 122.1156, Test Linf Norm: 12.9338\n"
          ]
        },
        {
          "output_type": "stream",
          "name": "stderr",
          "text": [
            "\u001b[32m[I 2023-05-13 13:43:54,031]\u001b[0m Trial 72 pruned. \u001b[0m\n"
          ]
        },
        {
          "output_type": "stream",
          "name": "stdout",
          "text": [
            "Epoch 1: Train Loss: 0.5687, Test Loss: 0.0006, Train L1 Norm: 0.5798, Test L1 Norm: 0.0668, Train Linf Norm: 70.7911, Test Linf Norm: 6.7683\n"
          ]
        },
        {
          "output_type": "stream",
          "name": "stderr",
          "text": [
            "\u001b[32m[I 2023-05-13 13:43:55,974]\u001b[0m Trial 73 pruned. \u001b[0m\n"
          ]
        },
        {
          "output_type": "stream",
          "name": "stdout",
          "text": [
            "Epoch 1: Train Loss: 0.2342, Test Loss: 0.0009, Train L1 Norm: 0.4580, Test L1 Norm: 0.0623, Train Linf Norm: 65.5589, Test Linf Norm: 4.9172\n"
          ]
        },
        {
          "output_type": "stream",
          "name": "stderr",
          "text": [
            "\u001b[32m[I 2023-05-13 13:43:57,469]\u001b[0m Trial 74 pruned. \u001b[0m\n"
          ]
        },
        {
          "output_type": "stream",
          "name": "stdout",
          "text": [
            "Epoch 1: Train Loss: 0.4717, Test Loss: 0.0005, Train L1 Norm: 0.6541, Test L1 Norm: 0.0776, Train Linf Norm: 120.3814, Test Linf Norm: 11.3253\n",
            "Epoch 1: Train Loss: 0.2415, Test Loss: 0.0190, Train L1 Norm: 0.5355, Test L1 Norm: 0.0611, Train Linf Norm: 80.4145, Test Linf Norm: 6.5797\n",
            "Epoch 2: Train Loss: 0.0374, Test Loss: 0.0374, Train L1 Norm: 0.0761, Test L1 Norm: 0.0447, Train Linf Norm: 10.2334, Test Linf Norm: 3.6538\n",
            "Epoch 3: Train Loss: 0.0302, Test Loss: 0.0121, Train L1 Norm: 0.0576, Test L1 Norm: 0.0593, Train Linf Norm: 7.7786, Test Linf Norm: 7.1148\n",
            "Epoch 4: Train Loss: 0.0265, Test Loss: 0.0433, Train L1 Norm: 0.0522, Test L1 Norm: 0.0472, Train Linf Norm: 6.9917, Test Linf Norm: 3.3169\n",
            "Epoch 5: Train Loss: 0.0276, Test Loss: 0.0373, Train L1 Norm: 0.0487, Test L1 Norm: 0.0386, Train Linf Norm: 6.1225, Test Linf Norm: 2.8306\n",
            "Epoch 6: Train Loss: 0.0218, Test Loss: 0.0080, Train L1 Norm: 0.0513, Test L1 Norm: 0.0290, Train Linf Norm: 7.4383, Test Linf Norm: 3.5133\n",
            "Epoch 7: Train Loss: 0.0250, Test Loss: 0.0391, Train L1 Norm: 0.0437, Test L1 Norm: 0.0585, Train Linf Norm: 5.5384, Test Linf Norm: 5.5801\n",
            "Epoch 8: Train Loss: 0.0203, Test Loss: 0.0166, Train L1 Norm: 0.0433, Test L1 Norm: 0.0221, Train Linf Norm: 5.8921, Test Linf Norm: 1.8476\n",
            "Epoch 9: Train Loss: 0.0226, Test Loss: 0.0100, Train L1 Norm: 0.0471, Test L1 Norm: 0.0344, Train Linf Norm: 6.4666, Test Linf Norm: 4.0448\n",
            "Epoch 10: Train Loss: 0.0264, Test Loss: 0.0230, Train L1 Norm: 0.0534, Test L1 Norm: 0.0329, Train Linf Norm: 7.6063, Test Linf Norm: 2.5310\n",
            "Epoch 11: Train Loss: 0.0223, Test Loss: 0.0162, Train L1 Norm: 0.0431, Test L1 Norm: 0.0176, Train Linf Norm: 5.7869, Test Linf Norm: 1.4729\n",
            "Epoch 12: Train Loss: 0.0222, Test Loss: 0.0127, Train L1 Norm: 0.0412, Test L1 Norm: 0.0416, Train Linf Norm: 5.3527, Test Linf Norm: 4.8020\n",
            "Epoch 13: Train Loss: 0.0096, Test Loss: 0.0057, Train L1 Norm: 0.0220, Test L1 Norm: 0.0145, Train Linf Norm: 2.9535, Test Linf Norm: 1.5552\n",
            "Epoch 14: Train Loss: 0.0105, Test Loss: 0.0057, Train L1 Norm: 0.0229, Test L1 Norm: 0.0183, Train Linf Norm: 3.1873, Test Linf Norm: 1.8839\n",
            "Epoch 15: Train Loss: 0.0106, Test Loss: 0.0051, Train L1 Norm: 0.0233, Test L1 Norm: 0.0145, Train Linf Norm: 3.1931, Test Linf Norm: 1.4312\n",
            "Epoch 16: Train Loss: 0.0108, Test Loss: 0.0097, Train L1 Norm: 0.0233, Test L1 Norm: 0.0117, Train Linf Norm: 3.1099, Test Linf Norm: 1.0127\n",
            "Epoch 17: Train Loss: 0.0098, Test Loss: 0.0093, Train L1 Norm: 0.0195, Test L1 Norm: 0.0195, Train Linf Norm: 2.5518, Test Linf Norm: 1.8338\n",
            "Epoch 18: Train Loss: 0.0107, Test Loss: 0.0170, Train L1 Norm: 0.0260, Test L1 Norm: 0.0209, Train Linf Norm: 3.8658, Test Linf Norm: 1.5999\n",
            "Epoch 19: Train Loss: 0.0105, Test Loss: 0.0116, Train L1 Norm: 0.0214, Test L1 Norm: 0.0357, Train Linf Norm: 2.8516, Test Linf Norm: 4.0108\n",
            "Epoch 20: Train Loss: 0.0106, Test Loss: 0.0048, Train L1 Norm: 0.0229, Test L1 Norm: 0.0116, Train Linf Norm: 3.1144, Test Linf Norm: 1.2067\n",
            "Epoch 21: Train Loss: 0.0128, Test Loss: 0.0050, Train L1 Norm: 0.0243, Test L1 Norm: 0.0152, Train Linf Norm: 3.2110, Test Linf Norm: 1.4470\n",
            "Epoch 22: Train Loss: 0.0128, Test Loss: 0.0099, Train L1 Norm: 0.0236, Test L1 Norm: 0.0139, Train Linf Norm: 2.9016, Test Linf Norm: 1.3927\n",
            "Epoch 23: Train Loss: 0.0137, Test Loss: 0.0080, Train L1 Norm: 0.0263, Test L1 Norm: 0.0190, Train Linf Norm: 3.5098, Test Linf Norm: 2.0948\n",
            "Epoch 24: Train Loss: 0.0111, Test Loss: 0.0091, Train L1 Norm: 0.0206, Test L1 Norm: 0.0139, Train Linf Norm: 2.7406, Test Linf Norm: 1.4324\n",
            "Epoch 25: Train Loss: 0.0107, Test Loss: 0.0057, Train L1 Norm: 0.0202, Test L1 Norm: 0.0315, Train Linf Norm: 2.6720, Test Linf Norm: 3.6719\n",
            "Epoch 26: Train Loss: 0.0119, Test Loss: 0.0076, Train L1 Norm: 0.0215, Test L1 Norm: 0.0136, Train Linf Norm: 2.7625, Test Linf Norm: 1.2487\n",
            "Epoch 27: Train Loss: 0.0047, Test Loss: 0.0056, Train L1 Norm: 0.0141, Test L1 Norm: 0.0134, Train Linf Norm: 2.0595, Test Linf Norm: 1.3127\n",
            "Epoch 28: Train Loss: 0.0056, Test Loss: 0.0038, Train L1 Norm: 0.0139, Test L1 Norm: 0.0094, Train Linf Norm: 2.0085, Test Linf Norm: 0.8452\n",
            "Epoch 29: Train Loss: 0.0048, Test Loss: 0.0053, Train L1 Norm: 0.0130, Test L1 Norm: 0.0146, Train Linf Norm: 1.8775, Test Linf Norm: 1.5972\n",
            "Epoch 30: Train Loss: 0.0053, Test Loss: 0.0044, Train L1 Norm: 0.0130, Test L1 Norm: 0.0136, Train Linf Norm: 1.8131, Test Linf Norm: 1.4394\n",
            "Epoch 31: Train Loss: 0.0055, Test Loss: 0.0069, Train L1 Norm: 0.0130, Test L1 Norm: 0.0132, Train Linf Norm: 1.8035, Test Linf Norm: 1.3681\n",
            "Epoch 32: Train Loss: 0.0053, Test Loss: 0.0037, Train L1 Norm: 0.0132, Test L1 Norm: 0.0147, Train Linf Norm: 1.8408, Test Linf Norm: 1.6372\n",
            "Epoch 33: Train Loss: 0.0060, Test Loss: 0.0050, Train L1 Norm: 0.0156, Test L1 Norm: 0.0112, Train Linf Norm: 2.3296, Test Linf Norm: 1.0002\n",
            "Epoch 34: Train Loss: 0.0056, Test Loss: 0.0092, Train L1 Norm: 0.0137, Test L1 Norm: 0.0178, Train Linf Norm: 1.9406, Test Linf Norm: 1.5890\n",
            "Epoch 35: Train Loss: 0.0061, Test Loss: 0.0045, Train L1 Norm: 0.0144, Test L1 Norm: 0.0237, Train Linf Norm: 2.0512, Test Linf Norm: 2.4724\n",
            "Epoch 36: Train Loss: 0.0049, Test Loss: 0.0075, Train L1 Norm: 0.0127, Test L1 Norm: 0.0193, Train Linf Norm: 1.7436, Test Linf Norm: 1.8186\n",
            "Epoch 37: Train Loss: 0.0057, Test Loss: 0.0050, Train L1 Norm: 0.0150, Test L1 Norm: 0.0229, Train Linf Norm: 2.1906, Test Linf Norm: 2.3574\n",
            "Epoch 38: Train Loss: 0.0050, Test Loss: 0.0036, Train L1 Norm: 0.0115, Test L1 Norm: 0.0092, Train Linf Norm: 1.5064, Test Linf Norm: 0.8241\n",
            "Epoch 39: Train Loss: 0.0055, Test Loss: 0.0041, Train L1 Norm: 0.0137, Test L1 Norm: 0.0086, Train Linf Norm: 1.9614, Test Linf Norm: 0.8306\n",
            "Epoch 40: Train Loss: 0.0053, Test Loss: 0.0083, Train L1 Norm: 0.0111, Test L1 Norm: 0.0135, Train Linf Norm: 1.4131, Test Linf Norm: 1.1713\n",
            "Epoch 41: Train Loss: 0.0054, Test Loss: 0.0065, Train L1 Norm: 0.0132, Test L1 Norm: 0.0082, Train Linf Norm: 1.8990, Test Linf Norm: 0.6948\n",
            "Epoch 42: Train Loss: 0.0048, Test Loss: 0.0088, Train L1 Norm: 0.0128, Test L1 Norm: 0.0162, Train Linf Norm: 1.8659, Test Linf Norm: 1.6482\n",
            "Epoch 43: Train Loss: 0.0061, Test Loss: 0.0054, Train L1 Norm: 0.0126, Test L1 Norm: 0.0103, Train Linf Norm: 1.6229, Test Linf Norm: 0.9355\n",
            "Epoch 44: Train Loss: 0.0059, Test Loss: 0.0051, Train L1 Norm: 0.0111, Test L1 Norm: 0.0098, Train Linf Norm: 1.3098, Test Linf Norm: 0.8726\n",
            "Epoch 45: Train Loss: 0.0030, Test Loss: 0.0032, Train L1 Norm: 0.0095, Test L1 Norm: 0.0083, Train Linf Norm: 1.4131, Test Linf Norm: 0.8057\n",
            "Epoch 46: Train Loss: 0.0030, Test Loss: 0.0026, Train L1 Norm: 0.0086, Test L1 Norm: 0.0099, Train Linf Norm: 1.2007, Test Linf Norm: 0.9722\n",
            "Epoch 47: Train Loss: 0.0032, Test Loss: 0.0033, Train L1 Norm: 0.0087, Test L1 Norm: 0.0098, Train Linf Norm: 1.1822, Test Linf Norm: 1.0913\n",
            "Epoch 48: Train Loss: 0.0032, Test Loss: 0.0026, Train L1 Norm: 0.0090, Test L1 Norm: 0.0102, Train Linf Norm: 1.2814, Test Linf Norm: 1.0373\n",
            "Epoch 49: Train Loss: 0.0033, Test Loss: 0.0034, Train L1 Norm: 0.0086, Test L1 Norm: 0.0104, Train Linf Norm: 1.1686, Test Linf Norm: 1.0914\n",
            "Epoch 50: Train Loss: 0.0035, Test Loss: 0.0028, Train L1 Norm: 0.0082, Test L1 Norm: 0.0070, Train Linf Norm: 1.0747, Test Linf Norm: 0.6888\n",
            "Epoch 51: Train Loss: 0.0031, Test Loss: 0.0026, Train L1 Norm: 0.0094, Test L1 Norm: 0.0080, Train Linf Norm: 1.3826, Test Linf Norm: 0.8723\n",
            "Epoch 52: Train Loss: 0.0031, Test Loss: 0.0026, Train L1 Norm: 0.0086, Test L1 Norm: 0.0063, Train Linf Norm: 1.2169, Test Linf Norm: 0.6145\n",
            "Epoch 53: Train Loss: 0.0025, Test Loss: 0.0026, Train L1 Norm: 0.0073, Test L1 Norm: 0.0079, Train Linf Norm: 1.0313, Test Linf Norm: 0.7755\n",
            "Epoch 54: Train Loss: 0.0025, Test Loss: 0.0028, Train L1 Norm: 0.0076, Test L1 Norm: 0.0076, Train Linf Norm: 1.0538, Test Linf Norm: 0.7427\n",
            "Epoch 55: Train Loss: 0.0025, Test Loss: 0.0025, Train L1 Norm: 0.0076, Test L1 Norm: 0.0076, Train Linf Norm: 1.0479, Test Linf Norm: 0.7640\n",
            "Epoch 56: Train Loss: 0.0025, Test Loss: 0.0033, Train L1 Norm: 0.0082, Test L1 Norm: 0.0076, Train Linf Norm: 1.2120, Test Linf Norm: 0.7975\n",
            "Epoch 57: Train Loss: 0.0026, Test Loss: 0.0028, Train L1 Norm: 0.0079, Test L1 Norm: 0.0072, Train Linf Norm: 1.1369, Test Linf Norm: 0.7188\n",
            "Epoch 58: Train Loss: 0.0026, Test Loss: 0.0029, Train L1 Norm: 0.0074, Test L1 Norm: 0.0098, Train Linf Norm: 1.0149, Test Linf Norm: 1.0022\n",
            "Epoch 59: Train Loss: 0.0025, Test Loss: 0.0024, Train L1 Norm: 0.0071, Test L1 Norm: 0.0079, Train Linf Norm: 0.9601, Test Linf Norm: 0.8034\n",
            "Epoch 60: Train Loss: 0.0025, Test Loss: 0.0022, Train L1 Norm: 0.0078, Test L1 Norm: 0.0055, Train Linf Norm: 1.1183, Test Linf Norm: 0.5394\n",
            "Epoch 61: Train Loss: 0.0025, Test Loss: 0.0024, Train L1 Norm: 0.0080, Test L1 Norm: 0.0073, Train Linf Norm: 1.1822, Test Linf Norm: 0.7074\n",
            "Epoch 62: Train Loss: 0.0025, Test Loss: 0.0024, Train L1 Norm: 0.0075, Test L1 Norm: 0.0077, Train Linf Norm: 1.0554, Test Linf Norm: 0.7438\n",
            "Epoch 63: Train Loss: 0.0025, Test Loss: 0.0025, Train L1 Norm: 0.0077, Test L1 Norm: 0.0061, Train Linf Norm: 1.1179, Test Linf Norm: 0.6704\n",
            "Epoch 64: Train Loss: 0.0024, Test Loss: 0.0026, Train L1 Norm: 0.0072, Test L1 Norm: 0.0074, Train Linf Norm: 1.0129, Test Linf Norm: 0.7791\n",
            "Epoch 65: Train Loss: 0.0024, Test Loss: 0.0022, Train L1 Norm: 0.0075, Test L1 Norm: 0.0070, Train Linf Norm: 1.0895, Test Linf Norm: 0.7062\n",
            "Epoch 66: Train Loss: 0.0026, Test Loss: 0.0022, Train L1 Norm: 0.0081, Test L1 Norm: 0.0092, Train Linf Norm: 1.2100, Test Linf Norm: 0.9311\n",
            "Epoch 67: Train Loss: 0.0024, Test Loss: 0.0023, Train L1 Norm: 0.0074, Test L1 Norm: 0.0101, Train Linf Norm: 1.0631, Test Linf Norm: 1.1216\n"
          ]
        },
        {
          "output_type": "stream",
          "name": "stderr",
          "text": [
            "\u001b[32m[I 2023-05-13 13:45:35,185]\u001b[0m Trial 75 finished with value: 0.006146591873955913 and parameters: {'n_layers': 3, 'n_units_0': 75, 'n_units_1': 185, 'n_units_2': 102, 'hidden_activation': 'ReLU', 'output_activation': 'Linear', 'loss': 'MAE', 'optimizer': 'Adam', 'lr': 0.0005090185416978404, 'batch_size': 230, 'n_epochs': 68, 'scheduler': 'ReduceLROnPlateau'}. Best is trial 42 with value: 0.004305121898895595.\u001b[0m\n"
          ]
        },
        {
          "output_type": "stream",
          "name": "stdout",
          "text": [
            "Epoch 68: Train Loss: 0.0024, Test Loss: 0.0021, Train L1 Norm: 0.0079, Test L1 Norm: 0.0061, Train Linf Norm: 1.1706, Test Linf Norm: 0.6147\n",
            "Epoch 1: Train Loss: 0.2123, Test Loss: 0.0305, Train L1 Norm: 0.5320, Test L1 Norm: 0.0425, Train Linf Norm: 78.2431, Test Linf Norm: 3.9176\n",
            "Epoch 2: Train Loss: 0.0359, Test Loss: 0.0178, Train L1 Norm: 0.0676, Test L1 Norm: 0.0422, Train Linf Norm: 8.7074, Test Linf Norm: 4.5273\n",
            "Epoch 3: Train Loss: 0.0351, Test Loss: 0.0742, Train L1 Norm: 0.0644, Test L1 Norm: 0.0631, Train Linf Norm: 8.6742, Test Linf Norm: 5.8697\n",
            "Epoch 4: Train Loss: 0.0291, Test Loss: 0.0543, Train L1 Norm: 0.0480, Test L1 Norm: 0.0758, Train Linf Norm: 5.6896, Test Linf Norm: 8.1576\n",
            "Epoch 5: Train Loss: 0.0245, Test Loss: 0.0180, Train L1 Norm: 0.0493, Test L1 Norm: 0.0524, Train Linf Norm: 6.4871, Test Linf Norm: 7.4899\n",
            "Epoch 6: Train Loss: 0.0268, Test Loss: 0.0234, Train L1 Norm: 0.0577, Test L1 Norm: 0.0242, Train Linf Norm: 8.2638, Test Linf Norm: 2.1712\n",
            "Epoch 7: Train Loss: 0.0301, Test Loss: 0.0186, Train L1 Norm: 0.0509, Test L1 Norm: 0.0282, Train Linf Norm: 6.2553, Test Linf Norm: 3.4973\n",
            "Epoch 8: Train Loss: 0.0291, Test Loss: 0.0175, Train L1 Norm: 0.0482, Test L1 Norm: 0.0191, Train Linf Norm: 5.9652, Test Linf Norm: 1.4855\n",
            "Epoch 9: Train Loss: 0.0321, Test Loss: 0.0201, Train L1 Norm: 0.0601, Test L1 Norm: 0.0199, Train Linf Norm: 8.1332, Test Linf Norm: 1.6620\n",
            "Epoch 10: Train Loss: 0.0230, Test Loss: 0.0180, Train L1 Norm: 0.0483, Test L1 Norm: 0.0170, Train Linf Norm: 7.0831, Test Linf Norm: 1.2396\n",
            "Epoch 11: Train Loss: 0.0280, Test Loss: 0.0395, Train L1 Norm: 0.0510, Test L1 Norm: 0.0505, Train Linf Norm: 6.8552, Test Linf Norm: 6.3167\n",
            "Epoch 12: Train Loss: 0.0271, Test Loss: 0.0195, Train L1 Norm: 0.0540, Test L1 Norm: 0.0291, Train Linf Norm: 7.4380, Test Linf Norm: 3.7414\n",
            "Epoch 13: Train Loss: 0.0237, Test Loss: 0.0297, Train L1 Norm: 0.0432, Test L1 Norm: 0.0349, Train Linf Norm: 5.8421, Test Linf Norm: 3.6446\n",
            "Epoch 14: Train Loss: 0.0194, Test Loss: 0.0107, Train L1 Norm: 0.0445, Test L1 Norm: 0.0150, Train Linf Norm: 6.5121, Test Linf Norm: 1.2610\n",
            "Epoch 15: Train Loss: 0.0302, Test Loss: 0.0114, Train L1 Norm: 0.0457, Test L1 Norm: 0.0186, Train Linf Norm: 5.6497, Test Linf Norm: 1.6611\n",
            "Epoch 16: Train Loss: 0.0256, Test Loss: 0.0258, Train L1 Norm: 0.0372, Test L1 Norm: 0.0560, Train Linf Norm: 4.2505, Test Linf Norm: 7.2254\n",
            "Epoch 17: Train Loss: 0.0250, Test Loss: 0.0263, Train L1 Norm: 0.0494, Test L1 Norm: 0.0212, Train Linf Norm: 6.9135, Test Linf Norm: 2.1174\n",
            "Epoch 18: Train Loss: 0.0232, Test Loss: 0.0628, Train L1 Norm: 0.0504, Test L1 Norm: 0.0943, Train Linf Norm: 7.4154, Test Linf Norm: 11.0160\n",
            "Epoch 19: Train Loss: 0.0219, Test Loss: 0.0279, Train L1 Norm: 0.0367, Test L1 Norm: 0.0443, Train Linf Norm: 4.5094, Test Linf Norm: 5.9195\n",
            "Epoch 20: Train Loss: 0.0208, Test Loss: 0.0063, Train L1 Norm: 0.0371, Test L1 Norm: 0.0145, Train Linf Norm: 5.0443, Test Linf Norm: 1.6308\n",
            "Epoch 21: Train Loss: 0.0200, Test Loss: 0.0344, Train L1 Norm: 0.0366, Test L1 Norm: 0.0367, Train Linf Norm: 4.7959, Test Linf Norm: 4.3995\n",
            "Epoch 22: Train Loss: 0.0206, Test Loss: 0.0158, Train L1 Norm: 0.0379, Test L1 Norm: 0.0279, Train Linf Norm: 5.0312, Test Linf Norm: 3.7043\n",
            "Epoch 23: Train Loss: 0.0202, Test Loss: 0.0098, Train L1 Norm: 0.0433, Test L1 Norm: 0.0331, Train Linf Norm: 6.3605, Test Linf Norm: 5.0043\n",
            "Epoch 24: Train Loss: 0.0176, Test Loss: 0.0794, Train L1 Norm: 0.0378, Test L1 Norm: 0.0793, Train Linf Norm: 5.4317, Test Linf Norm: 8.1112\n",
            "Epoch 25: Train Loss: 0.0243, Test Loss: 0.0180, Train L1 Norm: 0.0402, Test L1 Norm: 0.0417, Train Linf Norm: 4.9013, Test Linf Norm: 5.3198\n",
            "Epoch 26: Train Loss: 0.0243, Test Loss: 0.0341, Train L1 Norm: 0.0411, Test L1 Norm: 0.0439, Train Linf Norm: 5.3959, Test Linf Norm: 4.9616\n",
            "Epoch 27: Train Loss: 0.0087, Test Loss: 0.0134, Train L1 Norm: 0.0174, Test L1 Norm: 0.0178, Train Linf Norm: 2.2819, Test Linf Norm: 2.1334\n",
            "Epoch 28: Train Loss: 0.0094, Test Loss: 0.0054, Train L1 Norm: 0.0197, Test L1 Norm: 0.0198, Train Linf Norm: 2.7230, Test Linf Norm: 2.7006\n",
            "Epoch 29: Train Loss: 0.0124, Test Loss: 0.0119, Train L1 Norm: 0.0240, Test L1 Norm: 0.0342, Train Linf Norm: 3.2677, Test Linf Norm: 4.6669\n",
            "Epoch 30: Train Loss: 0.0091, Test Loss: 0.0054, Train L1 Norm: 0.0199, Test L1 Norm: 0.0224, Train Linf Norm: 2.7766, Test Linf Norm: 3.1512\n",
            "Epoch 31: Train Loss: 0.0093, Test Loss: 0.0095, Train L1 Norm: 0.0191, Test L1 Norm: 0.0146, Train Linf Norm: 2.7061, Test Linf Norm: 1.6360\n",
            "Epoch 32: Train Loss: 0.0089, Test Loss: 0.0120, Train L1 Norm: 0.0174, Test L1 Norm: 0.0199, Train Linf Norm: 2.2060, Test Linf Norm: 2.6846\n",
            "Epoch 33: Train Loss: 0.0112, Test Loss: 0.0052, Train L1 Norm: 0.0256, Test L1 Norm: 0.0140, Train Linf Norm: 3.8481, Test Linf Norm: 1.9734\n",
            "Epoch 34: Train Loss: 0.0100, Test Loss: 0.0190, Train L1 Norm: 0.0182, Test L1 Norm: 0.0228, Train Linf Norm: 2.2979, Test Linf Norm: 2.6714\n",
            "Epoch 35: Train Loss: 0.0086, Test Loss: 0.0064, Train L1 Norm: 0.0200, Test L1 Norm: 0.0105, Train Linf Norm: 2.8818, Test Linf Norm: 1.1886\n",
            "Epoch 36: Train Loss: 0.0103, Test Loss: 0.0063, Train L1 Norm: 0.0182, Test L1 Norm: 0.0168, Train Linf Norm: 2.2603, Test Linf Norm: 2.1885\n",
            "Epoch 37: Train Loss: 0.0092, Test Loss: 0.0044, Train L1 Norm: 0.0179, Test L1 Norm: 0.0104, Train Linf Norm: 2.3730, Test Linf Norm: 1.2533\n",
            "Epoch 38: Train Loss: 0.0091, Test Loss: 0.0120, Train L1 Norm: 0.0223, Test L1 Norm: 0.0260, Train Linf Norm: 3.4173, Test Linf Norm: 3.3235\n",
            "Epoch 39: Train Loss: 0.0088, Test Loss: 0.0042, Train L1 Norm: 0.0165, Test L1 Norm: 0.0126, Train Linf Norm: 2.0700, Test Linf Norm: 1.5551\n",
            "Epoch 40: Train Loss: 0.0087, Test Loss: 0.0131, Train L1 Norm: 0.0146, Test L1 Norm: 0.0230, Train Linf Norm: 1.6724, Test Linf Norm: 2.8433\n",
            "Epoch 41: Train Loss: 0.0099, Test Loss: 0.0074, Train L1 Norm: 0.0177, Test L1 Norm: 0.0093, Train Linf Norm: 2.3075, Test Linf Norm: 0.9865\n",
            "Epoch 42: Train Loss: 0.0088, Test Loss: 0.0086, Train L1 Norm: 0.0160, Test L1 Norm: 0.0152, Train Linf Norm: 1.9930, Test Linf Norm: 1.8600\n",
            "Epoch 43: Train Loss: 0.0084, Test Loss: 0.0075, Train L1 Norm: 0.0180, Test L1 Norm: 0.0162, Train Linf Norm: 2.4747, Test Linf Norm: 1.8226\n",
            "Epoch 44: Train Loss: 0.0096, Test Loss: 0.0086, Train L1 Norm: 0.0199, Test L1 Norm: 0.0191, Train Linf Norm: 2.7715, Test Linf Norm: 2.3538\n",
            "Epoch 45: Train Loss: 0.0092, Test Loss: 0.0055, Train L1 Norm: 0.0166, Test L1 Norm: 0.0090, Train Linf Norm: 2.0983, Test Linf Norm: 0.9752\n",
            "Epoch 46: Train Loss: 0.0045, Test Loss: 0.0058, Train L1 Norm: 0.0095, Test L1 Norm: 0.0063, Train Linf Norm: 1.2120, Test Linf Norm: 0.4423\n",
            "Epoch 47: Train Loss: 0.0043, Test Loss: 0.0032, Train L1 Norm: 0.0106, Test L1 Norm: 0.0072, Train Linf Norm: 1.5099, Test Linf Norm: 0.7519\n",
            "Epoch 48: Train Loss: 0.0047, Test Loss: 0.0034, Train L1 Norm: 0.0120, Test L1 Norm: 0.0079, Train Linf Norm: 1.6803, Test Linf Norm: 0.8259\n",
            "Epoch 49: Train Loss: 0.0050, Test Loss: 0.0051, Train L1 Norm: 0.0116, Test L1 Norm: 0.0084, Train Linf Norm: 1.5878, Test Linf Norm: 0.9048\n",
            "Epoch 50: Train Loss: 0.0046, Test Loss: 0.0094, Train L1 Norm: 0.0088, Test L1 Norm: 0.0161, Train Linf Norm: 0.9784, Test Linf Norm: 1.9415\n",
            "Epoch 51: Train Loss: 0.0049, Test Loss: 0.0036, Train L1 Norm: 0.0108, Test L1 Norm: 0.0074, Train Linf Norm: 1.4353, Test Linf Norm: 0.7870\n",
            "Epoch 52: Train Loss: 0.0049, Test Loss: 0.0030, Train L1 Norm: 0.0112, Test L1 Norm: 0.0149, Train Linf Norm: 1.5671, Test Linf Norm: 2.1878\n",
            "Epoch 53: Train Loss: 0.0048, Test Loss: 0.0036, Train L1 Norm: 0.0099, Test L1 Norm: 0.0077, Train Linf Norm: 1.2253, Test Linf Norm: 0.8934\n",
            "Epoch 54: Train Loss: 0.0050, Test Loss: 0.0032, Train L1 Norm: 0.0088, Test L1 Norm: 0.0112, Train Linf Norm: 1.0050, Test Linf Norm: 1.5034\n",
            "Epoch 55: Train Loss: 0.0049, Test Loss: 0.0030, Train L1 Norm: 0.0105, Test L1 Norm: 0.0104, Train Linf Norm: 1.4111, Test Linf Norm: 1.2994\n",
            "Epoch 56: Train Loss: 0.0056, Test Loss: 0.0038, Train L1 Norm: 0.0112, Test L1 Norm: 0.0086, Train Linf Norm: 1.3974, Test Linf Norm: 1.0424\n",
            "Epoch 57: Train Loss: 0.0048, Test Loss: 0.0050, Train L1 Norm: 0.0087, Test L1 Norm: 0.0076, Train Linf Norm: 0.9722, Test Linf Norm: 0.7464\n",
            "Epoch 58: Train Loss: 0.0053, Test Loss: 0.0078, Train L1 Norm: 0.0106, Test L1 Norm: 0.0073, Train Linf Norm: 1.3639, Test Linf Norm: 0.6311\n",
            "Epoch 59: Train Loss: 0.0030, Test Loss: 0.0031, Train L1 Norm: 0.0077, Test L1 Norm: 0.0068, Train Linf Norm: 1.0330, Test Linf Norm: 0.7146\n",
            "Epoch 60: Train Loss: 0.0027, Test Loss: 0.0028, Train L1 Norm: 0.0069, Test L1 Norm: 0.0061, Train Linf Norm: 0.8463, Test Linf Norm: 0.6373\n",
            "Epoch 61: Train Loss: 0.0030, Test Loss: 0.0027, Train L1 Norm: 0.0075, Test L1 Norm: 0.0075, Train Linf Norm: 0.9967, Test Linf Norm: 0.9282\n",
            "Epoch 62: Train Loss: 0.0031, Test Loss: 0.0045, Train L1 Norm: 0.0069, Test L1 Norm: 0.0062, Train Linf Norm: 0.8420, Test Linf Norm: 0.5600\n",
            "Epoch 63: Train Loss: 0.0033, Test Loss: 0.0028, Train L1 Norm: 0.0094, Test L1 Norm: 0.0074, Train Linf Norm: 1.3820, Test Linf Norm: 0.9336\n",
            "Epoch 64: Train Loss: 0.0033, Test Loss: 0.0033, Train L1 Norm: 0.0081, Test L1 Norm: 0.0076, Train Linf Norm: 1.1001, Test Linf Norm: 0.9205\n",
            "Epoch 65: Train Loss: 0.0029, Test Loss: 0.0038, Train L1 Norm: 0.0077, Test L1 Norm: 0.0074, Train Linf Norm: 1.0506, Test Linf Norm: 0.8418\n",
            "Epoch 66: Train Loss: 0.0032, Test Loss: 0.0052, Train L1 Norm: 0.0085, Test L1 Norm: 0.0070, Train Linf Norm: 1.1260, Test Linf Norm: 0.7651\n"
          ]
        },
        {
          "output_type": "stream",
          "name": "stderr",
          "text": [
            "\u001b[32m[I 2023-05-13 13:47:11,134]\u001b[0m Trial 76 finished with value: 0.006654453949281014 and parameters: {'n_layers': 3, 'n_units_0': 50, 'n_units_1': 182, 'n_units_2': 123, 'hidden_activation': 'ReLU', 'output_activation': 'Linear', 'loss': 'MAE', 'optimizer': 'Adam', 'lr': 0.0004923884587613795, 'batch_size': 233, 'n_epochs': 67, 'scheduler': 'ReduceLROnPlateau'}. Best is trial 42 with value: 0.004305121898895595.\u001b[0m\n"
          ]
        },
        {
          "output_type": "stream",
          "name": "stdout",
          "text": [
            "Epoch 67: Train Loss: 0.0033, Test Loss: 0.0036, Train L1 Norm: 0.0072, Test L1 Norm: 0.0067, Train Linf Norm: 0.8846, Test Linf Norm: 0.6725\n"
          ]
        },
        {
          "output_type": "stream",
          "name": "stderr",
          "text": [
            "\u001b[32m[I 2023-05-13 13:47:12,442]\u001b[0m Trial 77 pruned. \u001b[0m\n"
          ]
        },
        {
          "output_type": "stream",
          "name": "stdout",
          "text": [
            "Epoch 1: Train Loss: 0.2398, Test Loss: 0.0239, Train L1 Norm: 0.5216, Test L1 Norm: 0.0761, Train Linf Norm: 80.3048, Test Linf Norm: 9.7115\n",
            "Epoch 1: Train Loss: 0.3328, Test Loss: 0.0202, Train L1 Norm: 0.5307, Test L1 Norm: 0.0442, Train Linf Norm: 60.9015, Test Linf Norm: 4.1855\n",
            "Epoch 2: Train Loss: 0.0247, Test Loss: 0.0195, Train L1 Norm: 0.0578, Test L1 Norm: 0.0413, Train Linf Norm: 7.3444, Test Linf Norm: 4.3498\n",
            "Epoch 3: Train Loss: 0.0212, Test Loss: 0.0136, Train L1 Norm: 0.0546, Test L1 Norm: 0.0397, Train Linf Norm: 7.5357, Test Linf Norm: 3.9493\n",
            "Epoch 4: Train Loss: 0.0176, Test Loss: 0.0122, Train L1 Norm: 0.0333, Test L1 Norm: 0.0330, Train Linf Norm: 3.6375, Test Linf Norm: 3.5692\n",
            "Epoch 5: Train Loss: 0.0218, Test Loss: 0.0359, Train L1 Norm: 0.0500, Test L1 Norm: 0.0654, Train Linf Norm: 6.5273, Test Linf Norm: 6.1456\n",
            "Epoch 6: Train Loss: 0.0216, Test Loss: 0.0147, Train L1 Norm: 0.0404, Test L1 Norm: 0.0458, Train Linf Norm: 5.0054, Test Linf Norm: 4.3127\n",
            "Epoch 7: Train Loss: 0.0180, Test Loss: 0.0110, Train L1 Norm: 0.0441, Test L1 Norm: 0.0413, Train Linf Norm: 6.0330, Test Linf Norm: 4.0485\n",
            "Epoch 8: Train Loss: 0.0192, Test Loss: 0.0163, Train L1 Norm: 0.0436, Test L1 Norm: 0.0342, Train Linf Norm: 5.9690, Test Linf Norm: 3.0595\n",
            "Epoch 9: Train Loss: 0.0187, Test Loss: 0.0106, Train L1 Norm: 0.0350, Test L1 Norm: 0.0356, Train Linf Norm: 3.8179, Test Linf Norm: 3.9119\n",
            "Epoch 10: Train Loss: 0.0163, Test Loss: 0.0243, Train L1 Norm: 0.0385, Test L1 Norm: 0.0391, Train Linf Norm: 4.9227, Test Linf Norm: 3.7517\n",
            "Epoch 11: Train Loss: 0.0218, Test Loss: 0.0174, Train L1 Norm: 0.0485, Test L1 Norm: 0.0265, Train Linf Norm: 6.5634, Test Linf Norm: 2.1645\n",
            "Epoch 12: Train Loss: 0.0206, Test Loss: 0.0144, Train L1 Norm: 0.0426, Test L1 Norm: 0.0347, Train Linf Norm: 5.7594, Test Linf Norm: 3.1371\n",
            "Epoch 13: Train Loss: 0.0184, Test Loss: 0.0176, Train L1 Norm: 0.0431, Test L1 Norm: 0.0177, Train Linf Norm: 6.0282, Test Linf Norm: 1.2956\n",
            "Epoch 14: Train Loss: 0.0157, Test Loss: 0.0165, Train L1 Norm: 0.0358, Test L1 Norm: 0.0323, Train Linf Norm: 4.6253, Test Linf Norm: 3.1166\n",
            "Epoch 15: Train Loss: 0.0181, Test Loss: 0.0170, Train L1 Norm: 0.0398, Test L1 Norm: 0.0316, Train Linf Norm: 5.4699, Test Linf Norm: 3.1445\n",
            "Epoch 16: Train Loss: 0.0075, Test Loss: 0.0058, Train L1 Norm: 0.0206, Test L1 Norm: 0.0146, Train Linf Norm: 2.9279, Test Linf Norm: 1.2451\n",
            "Epoch 17: Train Loss: 0.0084, Test Loss: 0.0086, Train L1 Norm: 0.0200, Test L1 Norm: 0.0148, Train Linf Norm: 2.6060, Test Linf Norm: 1.2934\n",
            "Epoch 18: Train Loss: 0.0080, Test Loss: 0.0096, Train L1 Norm: 0.0200, Test L1 Norm: 0.0244, Train Linf Norm: 2.7244, Test Linf Norm: 2.5295\n",
            "Epoch 19: Train Loss: 0.0081, Test Loss: 0.0057, Train L1 Norm: 0.0189, Test L1 Norm: 0.0095, Train Linf Norm: 2.4507, Test Linf Norm: 0.7428\n",
            "Epoch 20: Train Loss: 0.0087, Test Loss: 0.0052, Train L1 Norm: 0.0201, Test L1 Norm: 0.0117, Train Linf Norm: 2.6094, Test Linf Norm: 1.2004\n",
            "Epoch 21: Train Loss: 0.0064, Test Loss: 0.0075, Train L1 Norm: 0.0186, Test L1 Norm: 0.0125, Train Linf Norm: 2.7036, Test Linf Norm: 1.2713\n",
            "Epoch 22: Train Loss: 0.0098, Test Loss: 0.0046, Train L1 Norm: 0.0197, Test L1 Norm: 0.0257, Train Linf Norm: 2.3614, Test Linf Norm: 2.9612\n",
            "Epoch 23: Train Loss: 0.0080, Test Loss: 0.0053, Train L1 Norm: 0.0194, Test L1 Norm: 0.0191, Train Linf Norm: 2.5514, Test Linf Norm: 1.8574\n",
            "Epoch 24: Train Loss: 0.0102, Test Loss: 0.0050, Train L1 Norm: 0.0249, Test L1 Norm: 0.0171, Train Linf Norm: 3.5407, Test Linf Norm: 1.8883\n",
            "Epoch 25: Train Loss: 0.0092, Test Loss: 0.0051, Train L1 Norm: 0.0214, Test L1 Norm: 0.0102, Train Linf Norm: 2.8857, Test Linf Norm: 0.9264\n",
            "Epoch 26: Train Loss: 0.0074, Test Loss: 0.0057, Train L1 Norm: 0.0179, Test L1 Norm: 0.0188, Train Linf Norm: 2.4427, Test Linf Norm: 1.8927\n",
            "Epoch 27: Train Loss: 0.0084, Test Loss: 0.0053, Train L1 Norm: 0.0182, Test L1 Norm: 0.0210, Train Linf Norm: 2.3827, Test Linf Norm: 2.4031\n",
            "Epoch 28: Train Loss: 0.0075, Test Loss: 0.0079, Train L1 Norm: 0.0183, Test L1 Norm: 0.0218, Train Linf Norm: 2.5156, Test Linf Norm: 2.1883\n",
            "Epoch 29: Train Loss: 0.0043, Test Loss: 0.0045, Train L1 Norm: 0.0132, Test L1 Norm: 0.0105, Train Linf Norm: 1.8807, Test Linf Norm: 0.9582\n",
            "Epoch 30: Train Loss: 0.0046, Test Loss: 0.0035, Train L1 Norm: 0.0132, Test L1 Norm: 0.0078, Train Linf Norm: 1.8505, Test Linf Norm: 0.6706\n",
            "Epoch 31: Train Loss: 0.0050, Test Loss: 0.0045, Train L1 Norm: 0.0133, Test L1 Norm: 0.0147, Train Linf Norm: 1.8268, Test Linf Norm: 1.4554\n",
            "Epoch 32: Train Loss: 0.0046, Test Loss: 0.0063, Train L1 Norm: 0.0107, Test L1 Norm: 0.0197, Train Linf Norm: 1.3305, Test Linf Norm: 1.9247\n",
            "Epoch 33: Train Loss: 0.0048, Test Loss: 0.0065, Train L1 Norm: 0.0128, Test L1 Norm: 0.0114, Train Linf Norm: 1.7917, Test Linf Norm: 1.0259\n",
            "Epoch 34: Train Loss: 0.0048, Test Loss: 0.0039, Train L1 Norm: 0.0123, Test L1 Norm: 0.0091, Train Linf Norm: 1.6056, Test Linf Norm: 0.8077\n",
            "Epoch 35: Train Loss: 0.0045, Test Loss: 0.0033, Train L1 Norm: 0.0112, Test L1 Norm: 0.0073, Train Linf Norm: 1.4281, Test Linf Norm: 0.6184\n",
            "Epoch 36: Train Loss: 0.0049, Test Loss: 0.0051, Train L1 Norm: 0.0134, Test L1 Norm: 0.0088, Train Linf Norm: 1.8682, Test Linf Norm: 0.7348\n",
            "Epoch 37: Train Loss: 0.0051, Test Loss: 0.0040, Train L1 Norm: 0.0127, Test L1 Norm: 0.0071, Train Linf Norm: 1.7041, Test Linf Norm: 0.5964\n",
            "Epoch 38: Train Loss: 0.0052, Test Loss: 0.0035, Train L1 Norm: 0.0151, Test L1 Norm: 0.0159, Train Linf Norm: 2.1744, Test Linf Norm: 1.8438\n",
            "Epoch 39: Train Loss: 0.0048, Test Loss: 0.0054, Train L1 Norm: 0.0126, Test L1 Norm: 0.0149, Train Linf Norm: 1.7069, Test Linf Norm: 1.6617\n",
            "Epoch 40: Train Loss: 0.0046, Test Loss: 0.0034, Train L1 Norm: 0.0113, Test L1 Norm: 0.0105, Train Linf Norm: 1.4003, Test Linf Norm: 1.0756\n",
            "Epoch 41: Train Loss: 0.0046, Test Loss: 0.0038, Train L1 Norm: 0.0114, Test L1 Norm: 0.0069, Train Linf Norm: 1.5572, Test Linf Norm: 0.5581\n",
            "Epoch 42: Train Loss: 0.0032, Test Loss: 0.0031, Train L1 Norm: 0.0106, Test L1 Norm: 0.0073, Train Linf Norm: 1.5668, Test Linf Norm: 0.6778\n",
            "Epoch 43: Train Loss: 0.0033, Test Loss: 0.0030, Train L1 Norm: 0.0112, Test L1 Norm: 0.0068, Train Linf Norm: 1.6581, Test Linf Norm: 0.6224\n",
            "Epoch 44: Train Loss: 0.0035, Test Loss: 0.0030, Train L1 Norm: 0.0107, Test L1 Norm: 0.0089, Train Linf Norm: 1.5388, Test Linf Norm: 0.8459\n",
            "Epoch 45: Train Loss: 0.0035, Test Loss: 0.0031, Train L1 Norm: 0.0104, Test L1 Norm: 0.0080, Train Linf Norm: 1.4552, Test Linf Norm: 0.7395\n",
            "Epoch 46: Train Loss: 0.0032, Test Loss: 0.0032, Train L1 Norm: 0.0091, Test L1 Norm: 0.0108, Train Linf Norm: 1.1676, Test Linf Norm: 1.1917\n",
            "Epoch 47: Train Loss: 0.0035, Test Loss: 0.0052, Train L1 Norm: 0.0111, Test L1 Norm: 0.0064, Train Linf Norm: 1.6084, Test Linf Norm: 0.4359\n",
            "Epoch 48: Train Loss: 0.0034, Test Loss: 0.0038, Train L1 Norm: 0.0087, Test L1 Norm: 0.0068, Train Linf Norm: 1.0834, Test Linf Norm: 0.6297\n",
            "Epoch 49: Train Loss: 0.0035, Test Loss: 0.0030, Train L1 Norm: 0.0102, Test L1 Norm: 0.0081, Train Linf Norm: 1.3833, Test Linf Norm: 0.7818\n",
            "Epoch 50: Train Loss: 0.0034, Test Loss: 0.0043, Train L1 Norm: 0.0087, Test L1 Norm: 0.0071, Train Linf Norm: 1.1144, Test Linf Norm: 0.5608\n",
            "Epoch 51: Train Loss: 0.0029, Test Loss: 0.0029, Train L1 Norm: 0.0080, Test L1 Norm: 0.0067, Train Linf Norm: 1.0335, Test Linf Norm: 0.6288\n",
            "Epoch 52: Train Loss: 0.0029, Test Loss: 0.0029, Train L1 Norm: 0.0084, Test L1 Norm: 0.0084, Train Linf Norm: 1.1057, Test Linf Norm: 0.8069\n",
            "Epoch 53: Train Loss: 0.0030, Test Loss: 0.0029, Train L1 Norm: 0.0082, Test L1 Norm: 0.0082, Train Linf Norm: 1.0003, Test Linf Norm: 0.8500\n",
            "Epoch 54: Train Loss: 0.0029, Test Loss: 0.0029, Train L1 Norm: 0.0089, Test L1 Norm: 0.0063, Train Linf Norm: 1.2162, Test Linf Norm: 0.5950\n",
            "Epoch 55: Train Loss: 0.0030, Test Loss: 0.0029, Train L1 Norm: 0.0090, Test L1 Norm: 0.0074, Train Linf Norm: 1.2278, Test Linf Norm: 0.6895\n",
            "Epoch 56: Train Loss: 0.0029, Test Loss: 0.0032, Train L1 Norm: 0.0085, Test L1 Norm: 0.0074, Train Linf Norm: 1.1263, Test Linf Norm: 0.7346\n",
            "Epoch 57: Train Loss: 0.0030, Test Loss: 0.0033, Train L1 Norm: 0.0084, Test L1 Norm: 0.0072, Train Linf Norm: 1.1010, Test Linf Norm: 0.6929\n",
            "Epoch 58: Train Loss: 0.0029, Test Loss: 0.0027, Train L1 Norm: 0.0089, Test L1 Norm: 0.0064, Train Linf Norm: 1.2571, Test Linf Norm: 0.5654\n",
            "Epoch 59: Train Loss: 0.0030, Test Loss: 0.0028, Train L1 Norm: 0.0082, Test L1 Norm: 0.0071, Train Linf Norm: 1.0672, Test Linf Norm: 0.6854\n",
            "Epoch 60: Train Loss: 0.0029, Test Loss: 0.0033, Train L1 Norm: 0.0090, Test L1 Norm: 0.0079, Train Linf Norm: 1.2685, Test Linf Norm: 0.7404\n",
            "Epoch 61: Train Loss: 0.0029, Test Loss: 0.0029, Train L1 Norm: 0.0076, Test L1 Norm: 0.0063, Train Linf Norm: 0.9437, Test Linf Norm: 0.5821\n",
            "Epoch 62: Train Loss: 0.0029, Test Loss: 0.0031, Train L1 Norm: 0.0078, Test L1 Norm: 0.0064, Train Linf Norm: 0.9412, Test Linf Norm: 0.5552\n",
            "Epoch 63: Train Loss: 0.0029, Test Loss: 0.0027, Train L1 Norm: 0.0080, Test L1 Norm: 0.0078, Train Linf Norm: 1.0398, Test Linf Norm: 0.8368\n",
            "Epoch 64: Train Loss: 0.0029, Test Loss: 0.0028, Train L1 Norm: 0.0079, Test L1 Norm: 0.0062, Train Linf Norm: 1.0239, Test Linf Norm: 0.5613\n"
          ]
        },
        {
          "output_type": "stream",
          "name": "stderr",
          "text": [
            "\u001b[32m[I 2023-05-13 13:48:46,535]\u001b[0m Trial 78 finished with value: 0.007092558066127822 and parameters: {'n_layers': 3, 'n_units_0': 34, 'n_units_1': 154, 'n_units_2': 112, 'hidden_activation': 'ReLU', 'output_activation': 'Linear', 'loss': 'MAE', 'optimizer': 'Adam', 'lr': 0.0003742596625737005, 'batch_size': 230, 'n_epochs': 65, 'scheduler': 'ReduceLROnPlateau'}. Best is trial 42 with value: 0.004305121898895595.\u001b[0m\n"
          ]
        },
        {
          "output_type": "stream",
          "name": "stdout",
          "text": [
            "Epoch 65: Train Loss: 0.0028, Test Loss: 0.0030, Train L1 Norm: 0.0078, Test L1 Norm: 0.0071, Train Linf Norm: 1.0295, Test Linf Norm: 0.6841\n"
          ]
        },
        {
          "output_type": "stream",
          "name": "stderr",
          "text": [
            "\u001b[32m[I 2023-05-13 13:48:47,850]\u001b[0m Trial 79 pruned. \u001b[0m\n"
          ]
        },
        {
          "output_type": "stream",
          "name": "stdout",
          "text": [
            "Epoch 1: Train Loss: 0.5573, Test Loss: 0.0942, Train L1 Norm: 3.2680, Test L1 Norm: 0.4752, Train Linf Norm: 645.5654, Test Linf Norm: 61.2967\n"
          ]
        },
        {
          "output_type": "stream",
          "name": "stderr",
          "text": [
            "\u001b[32m[I 2023-05-13 13:48:49,200]\u001b[0m Trial 80 pruned. \u001b[0m\n"
          ]
        },
        {
          "output_type": "stream",
          "name": "stdout",
          "text": [
            "Epoch 1: Train Loss: 1.3297, Test Loss: 0.3115, Train L1 Norm: 2.1531, Test L1 Norm: 1.2110, Train Linf Norm: 266.0038, Test Linf Norm: 120.3954\n",
            "Epoch 1: Train Loss: 0.2003, Test Loss: 0.0334, Train L1 Norm: 0.4678, Test L1 Norm: 0.0476, Train Linf Norm: 62.6701, Test Linf Norm: 3.2650\n"
          ]
        },
        {
          "output_type": "stream",
          "name": "stderr",
          "text": [
            "\u001b[32m[I 2023-05-13 13:48:51,838]\u001b[0m Trial 81 pruned. \u001b[0m\n"
          ]
        },
        {
          "output_type": "stream",
          "name": "stdout",
          "text": [
            "Epoch 2: Train Loss: 0.0333, Test Loss: 0.0227, Train L1 Norm: 0.0667, Test L1 Norm: 0.0807, Train Linf Norm: 8.4664, Test Linf Norm: 5.1475\n",
            "Epoch 1: Train Loss: 0.3037, Test Loss: 0.0196, Train L1 Norm: 0.5937, Test L1 Norm: 0.0459, Train Linf Norm: 88.9756, Test Linf Norm: 4.2326\n",
            "Epoch 2: Train Loss: 0.0306, Test Loss: 0.0385, Train L1 Norm: 0.0651, Test L1 Norm: 0.0389, Train Linf Norm: 9.4170, Test Linf Norm: 3.0042\n",
            "Epoch 3: Train Loss: 0.0281, Test Loss: 0.0709, Train L1 Norm: 0.0672, Test L1 Norm: 0.1201, Train Linf Norm: 10.5381, Test Linf Norm: 8.3204\n",
            "Epoch 4: Train Loss: 0.0324, Test Loss: 0.0278, Train L1 Norm: 0.0684, Test L1 Norm: 0.0321, Train Linf Norm: 10.0815, Test Linf Norm: 2.5864\n",
            "Epoch 5: Train Loss: 0.0293, Test Loss: 0.0600, Train L1 Norm: 0.0584, Test L1 Norm: 0.0611, Train Linf Norm: 8.3587, Test Linf Norm: 3.5420\n",
            "Epoch 6: Train Loss: 0.0304, Test Loss: 0.0182, Train L1 Norm: 0.0576, Test L1 Norm: 0.0377, Train Linf Norm: 8.3027, Test Linf Norm: 2.1330\n",
            "Epoch 7: Train Loss: 0.0250, Test Loss: 0.0353, Train L1 Norm: 0.0567, Test L1 Norm: 0.0689, Train Linf Norm: 8.9846, Test Linf Norm: 3.6818\n",
            "Epoch 8: Train Loss: 0.0177, Test Loss: 0.0287, Train L1 Norm: 0.0435, Test L1 Norm: 0.0368, Train Linf Norm: 6.6762, Test Linf Norm: 1.8703\n",
            "Epoch 9: Train Loss: 0.0261, Test Loss: 0.0397, Train L1 Norm: 0.0560, Test L1 Norm: 0.0350, Train Linf Norm: 8.6931, Test Linf Norm: 1.7350\n",
            "Epoch 10: Train Loss: 0.0212, Test Loss: 0.0181, Train L1 Norm: 0.0525, Test L1 Norm: 0.0341, Train Linf Norm: 8.8690, Test Linf Norm: 2.8163\n"
          ]
        },
        {
          "output_type": "stream",
          "name": "stderr",
          "text": [
            "\u001b[32m[I 2023-05-13 13:49:07,249]\u001b[0m Trial 82 pruned. \u001b[0m\n"
          ]
        },
        {
          "output_type": "stream",
          "name": "stdout",
          "text": [
            "Epoch 11: Train Loss: 0.0174, Test Loss: 0.0138, Train L1 Norm: 0.0370, Test L1 Norm: 0.0627, Train Linf Norm: 5.1682, Test Linf Norm: 2.7912\n",
            "Epoch 1: Train Loss: 0.2155, Test Loss: 0.0279, Train L1 Norm: 0.3504, Test L1 Norm: 0.0535, Train Linf Norm: 40.0901, Test Linf Norm: 6.2640\n"
          ]
        },
        {
          "output_type": "stream",
          "name": "stderr",
          "text": [
            "\u001b[32m[I 2023-05-13 13:49:10,668]\u001b[0m Trial 83 pruned. \u001b[0m\n"
          ]
        },
        {
          "output_type": "stream",
          "name": "stdout",
          "text": [
            "Epoch 2: Train Loss: 0.0341, Test Loss: 0.0557, Train L1 Norm: 0.0523, Test L1 Norm: 0.0850, Train Linf Norm: 5.8833, Test Linf Norm: 9.1545\n"
          ]
        },
        {
          "output_type": "stream",
          "name": "stderr",
          "text": [
            "\u001b[32m[I 2023-05-13 13:49:12,021]\u001b[0m Trial 84 pruned. \u001b[0m\n"
          ]
        },
        {
          "output_type": "stream",
          "name": "stdout",
          "text": [
            "Epoch 1: Train Loss: 0.1603, Test Loss: 0.0161, Train L1 Norm: 0.3483, Test L1 Norm: 0.1112, Train Linf Norm: 50.0369, Test Linf Norm: 13.0856\n"
          ]
        },
        {
          "output_type": "stream",
          "name": "stderr",
          "text": [
            "\u001b[32m[I 2023-05-13 13:49:13,414]\u001b[0m Trial 85 pruned. \u001b[0m\n"
          ]
        },
        {
          "output_type": "stream",
          "name": "stdout",
          "text": [
            "Epoch 1: Train Loss: 0.8792, Test Loss: 0.3480, Train L1 Norm: 3.7941, Test L1 Norm: 1.6743, Train Linf Norm: 650.9949, Test Linf Norm: 170.0399\n"
          ]
        },
        {
          "output_type": "stream",
          "name": "stderr",
          "text": [
            "\u001b[32m[I 2023-05-13 13:49:14,776]\u001b[0m Trial 86 pruned. \u001b[0m\n"
          ]
        },
        {
          "output_type": "stream",
          "name": "stdout",
          "text": [
            "Epoch 1: Train Loss: 0.2021, Test Loss: 0.0962, Train L1 Norm: 0.5349, Test L1 Norm: 0.2953, Train Linf Norm: 74.2733, Test Linf Norm: 37.6022\n",
            "Epoch 1: Train Loss: 0.0792, Test Loss: 0.0003, Train L1 Norm: 0.2594, Test L1 Norm: 0.0464, Train Linf Norm: 25.5257, Test Linf Norm: 2.9186\n",
            "Epoch 2: Train Loss: 0.0003, Test Loss: 0.0003, Train L1 Norm: 0.0377, Test L1 Norm: 0.0366, Train Linf Norm: 4.6247, Test Linf Norm: 2.3112\n",
            "Epoch 3: Train Loss: 0.0003, Test Loss: 0.0002, Train L1 Norm: 0.0352, Test L1 Norm: 0.0553, Train Linf Norm: 4.5848, Test Linf Norm: 3.9686\n",
            "Epoch 4: Train Loss: 0.0001, Test Loss: 0.0021, Train L1 Norm: 0.0258, Test L1 Norm: 0.0474, Train Linf Norm: 3.1040, Test Linf Norm: 2.4211\n",
            "Epoch 5: Train Loss: 0.0002, Test Loss: 0.0001, Train L1 Norm: 0.0234, Test L1 Norm: 0.0267, Train Linf Norm: 2.8017, Test Linf Norm: 1.9601\n",
            "Epoch 6: Train Loss: 0.0000, Test Loss: 0.0002, Train L1 Norm: 0.0201, Test L1 Norm: 0.0242, Train Linf Norm: 2.4928, Test Linf Norm: 1.3815\n",
            "Epoch 7: Train Loss: 0.0000, Test Loss: 0.0000, Train L1 Norm: 0.0171, Test L1 Norm: 0.0178, Train Linf Norm: 2.1200, Test Linf Norm: 1.0472\n",
            "Epoch 8: Train Loss: 0.0000, Test Loss: 0.0000, Train L1 Norm: 0.0176, Test L1 Norm: 0.0148, Train Linf Norm: 2.3379, Test Linf Norm: 0.9110\n",
            "Epoch 9: Train Loss: 0.0000, Test Loss: 0.0000, Train L1 Norm: 0.0149, Test L1 Norm: 0.0169, Train Linf Norm: 1.8105, Test Linf Norm: 1.0818\n",
            "Epoch 10: Train Loss: 0.0000, Test Loss: 0.0000, Train L1 Norm: 0.0141, Test L1 Norm: 0.0155, Train Linf Norm: 1.6748, Test Linf Norm: 0.9578\n",
            "Epoch 11: Train Loss: 0.0000, Test Loss: 0.0000, Train L1 Norm: 0.0149, Test L1 Norm: 0.0155, Train Linf Norm: 1.8629, Test Linf Norm: 0.9578\n",
            "Epoch 12: Train Loss: 0.0000, Test Loss: 0.0000, Train L1 Norm: 0.0138, Test L1 Norm: 0.0153, Train Linf Norm: 1.6037, Test Linf Norm: 0.9343\n",
            "Epoch 13: Train Loss: 0.0000, Test Loss: 0.0000, Train L1 Norm: 0.0148, Test L1 Norm: 0.0134, Train Linf Norm: 1.8082, Test Linf Norm: 0.9497\n",
            "Epoch 14: Train Loss: 0.0001, Test Loss: 0.0003, Train L1 Norm: 0.0189, Test L1 Norm: 0.0153, Train Linf Norm: 2.3544, Test Linf Norm: 0.9105\n",
            "Epoch 15: Train Loss: 0.0006, Test Loss: 0.0000, Train L1 Norm: 0.0355, Test L1 Norm: 0.0215, Train Linf Norm: 4.8365, Test Linf Norm: 1.1664\n",
            "Epoch 16: Train Loss: 0.0001, Test Loss: 0.0004, Train L1 Norm: 0.0233, Test L1 Norm: 0.0389, Train Linf Norm: 3.0850, Test Linf Norm: 2.2655\n",
            "Epoch 17: Train Loss: 0.0005, Test Loss: 0.0003, Train L1 Norm: 0.0336, Test L1 Norm: 0.0218, Train Linf Norm: 4.2590, Test Linf Norm: 1.4927\n",
            "Epoch 18: Train Loss: 0.0004, Test Loss: 0.0002, Train L1 Norm: 0.0273, Test L1 Norm: 0.0215, Train Linf Norm: 3.2366, Test Linf Norm: 1.0622\n",
            "Epoch 19: Train Loss: 0.0005, Test Loss: 0.0000, Train L1 Norm: 0.0360, Test L1 Norm: 0.0219, Train Linf Norm: 4.5507, Test Linf Norm: 1.3161\n",
            "Epoch 20: Train Loss: 0.0006, Test Loss: 0.0000, Train L1 Norm: 0.0360, Test L1 Norm: 0.0166, Train Linf Norm: 4.7643, Test Linf Norm: 1.0349\n",
            "Epoch 21: Train Loss: 0.0001, Test Loss: 0.0000, Train L1 Norm: 0.0188, Test L1 Norm: 0.0137, Train Linf Norm: 2.3168, Test Linf Norm: 1.0037\n",
            "Epoch 22: Train Loss: 0.0008, Test Loss: 0.0000, Train L1 Norm: 0.0478, Test L1 Norm: 0.0184, Train Linf Norm: 7.0859, Test Linf Norm: 1.1371\n",
            "Epoch 23: Train Loss: 0.0000, Test Loss: 0.0000, Train L1 Norm: 0.0182, Test L1 Norm: 0.0151, Train Linf Norm: 2.4206, Test Linf Norm: 0.9221\n",
            "Epoch 24: Train Loss: 0.0000, Test Loss: 0.0000, Train L1 Norm: 0.0153, Test L1 Norm: 0.0217, Train Linf Norm: 1.9712, Test Linf Norm: 1.7183\n",
            "Epoch 25: Train Loss: 0.0000, Test Loss: 0.0000, Train L1 Norm: 0.0142, Test L1 Norm: 0.0089, Train Linf Norm: 1.7256, Test Linf Norm: 0.6507\n",
            "Epoch 26: Train Loss: 0.0000, Test Loss: 0.0000, Train L1 Norm: 0.0117, Test L1 Norm: 0.0125, Train Linf Norm: 1.4413, Test Linf Norm: 0.9534\n",
            "Epoch 27: Train Loss: 0.0000, Test Loss: 0.0000, Train L1 Norm: 0.0120, Test L1 Norm: 0.0118, Train Linf Norm: 1.5432, Test Linf Norm: 1.1037\n",
            "Epoch 28: Train Loss: 0.0000, Test Loss: 0.0000, Train L1 Norm: 0.0112, Test L1 Norm: 0.0098, Train Linf Norm: 1.4522, Test Linf Norm: 0.7125\n",
            "Epoch 29: Train Loss: 0.0000, Test Loss: 0.0000, Train L1 Norm: 0.0103, Test L1 Norm: 0.0084, Train Linf Norm: 1.3080, Test Linf Norm: 0.6812\n",
            "Epoch 30: Train Loss: 0.0000, Test Loss: 0.0000, Train L1 Norm: 0.0091, Test L1 Norm: 0.0074, Train Linf Norm: 1.0836, Test Linf Norm: 0.5688\n",
            "Epoch 31: Train Loss: 0.0000, Test Loss: 0.0000, Train L1 Norm: 0.0089, Test L1 Norm: 0.0074, Train Linf Norm: 1.0707, Test Linf Norm: 0.5688\n",
            "Epoch 32: Train Loss: 0.0000, Test Loss: 0.0000, Train L1 Norm: 0.0090, Test L1 Norm: 0.0090, Train Linf Norm: 1.0829, Test Linf Norm: 0.6459\n",
            "Epoch 33: Train Loss: 0.0000, Test Loss: 0.0000, Train L1 Norm: 0.0098, Test L1 Norm: 0.0072, Train Linf Norm: 1.2100, Test Linf Norm: 0.5394\n",
            "Epoch 34: Train Loss: 0.0000, Test Loss: 0.0000, Train L1 Norm: 0.0143, Test L1 Norm: 0.0092, Train Linf Norm: 1.8893, Test Linf Norm: 0.7231\n",
            "Epoch 35: Train Loss: 0.0003, Test Loss: 0.0000, Train L1 Norm: 0.0262, Test L1 Norm: 0.0086, Train Linf Norm: 3.7874, Test Linf Norm: 0.6397\n",
            "Epoch 36: Train Loss: 0.0001, Test Loss: 0.0000, Train L1 Norm: 0.0203, Test L1 Norm: 0.0293, Train Linf Norm: 2.7338, Test Linf Norm: 2.9978\n",
            "Epoch 37: Train Loss: 0.0004, Test Loss: 0.0000, Train L1 Norm: 0.0275, Test L1 Norm: 0.0099, Train Linf Norm: 3.5637, Test Linf Norm: 0.5309\n",
            "Epoch 38: Train Loss: 0.0005, Test Loss: 0.0001, Train L1 Norm: 0.0277, Test L1 Norm: 0.0235, Train Linf Norm: 3.3996, Test Linf Norm: 1.3551\n",
            "Epoch 39: Train Loss: 0.0001, Test Loss: 0.0001, Train L1 Norm: 0.0181, Test L1 Norm: 0.0208, Train Linf Norm: 2.0749, Test Linf Norm: 1.5314\n",
            "Epoch 40: Train Loss: 0.0003, Test Loss: 0.0001, Train L1 Norm: 0.0265, Test L1 Norm: 0.0144, Train Linf Norm: 3.3893, Test Linf Norm: 1.0711\n",
            "Epoch 41: Train Loss: 0.0002, Test Loss: 0.0006, Train L1 Norm: 0.0182, Test L1 Norm: 0.0332, Train Linf Norm: 2.0042, Test Linf Norm: 1.7948\n",
            "Epoch 42: Train Loss: 0.0001, Test Loss: 0.0000, Train L1 Norm: 0.0162, Test L1 Norm: 0.0185, Train Linf Norm: 1.7528, Test Linf Norm: 1.7158\n",
            "Epoch 43: Train Loss: 0.0006, Test Loss: 0.0001, Train L1 Norm: 0.0263, Test L1 Norm: 0.0343, Train Linf Norm: 3.2772, Test Linf Norm: 2.5471\n",
            "Epoch 44: Train Loss: 0.0000, Test Loss: 0.0001, Train L1 Norm: 0.0152, Test L1 Norm: 0.0129, Train Linf Norm: 2.0244, Test Linf Norm: 0.8068\n",
            "Epoch 45: Train Loss: 0.0000, Test Loss: 0.0000, Train L1 Norm: 0.0113, Test L1 Norm: 0.0104, Train Linf Norm: 1.4327, Test Linf Norm: 0.6860\n",
            "Epoch 46: Train Loss: 0.0000, Test Loss: 0.0000, Train L1 Norm: 0.0108, Test L1 Norm: 0.0091, Train Linf Norm: 1.3672, Test Linf Norm: 0.5725\n",
            "Epoch 47: Train Loss: 0.0000, Test Loss: 0.0000, Train L1 Norm: 0.0096, Test L1 Norm: 0.0089, Train Linf Norm: 1.1847, Test Linf Norm: 0.5012\n",
            "Epoch 48: Train Loss: 0.0000, Test Loss: 0.0000, Train L1 Norm: 0.0076, Test L1 Norm: 0.0074, Train Linf Norm: 0.8573, Test Linf Norm: 0.4373\n",
            "Epoch 49: Train Loss: 0.0000, Test Loss: 0.0000, Train L1 Norm: 0.0075, Test L1 Norm: 0.0091, Train Linf Norm: 0.8732, Test Linf Norm: 0.4863\n",
            "Epoch 50: Train Loss: 0.0000, Test Loss: 0.0000, Train L1 Norm: 0.0076, Test L1 Norm: 0.0093, Train Linf Norm: 0.9332, Test Linf Norm: 0.5167\n",
            "Epoch 51: Train Loss: 0.0000, Test Loss: 0.0000, Train L1 Norm: 0.0072, Test L1 Norm: 0.0093, Train Linf Norm: 0.7889, Test Linf Norm: 0.5167\n",
            "Epoch 52: Train Loss: 0.0000, Test Loss: 0.0000, Train L1 Norm: 0.0069, Test L1 Norm: 0.0082, Train Linf Norm: 0.7694, Test Linf Norm: 0.4785\n",
            "Epoch 53: Train Loss: 0.0000, Test Loss: 0.0000, Train L1 Norm: 0.0078, Test L1 Norm: 0.0088, Train Linf Norm: 0.9402, Test Linf Norm: 0.5310\n",
            "Epoch 54: Train Loss: 0.0000, Test Loss: 0.0000, Train L1 Norm: 0.0119, Test L1 Norm: 0.0100, Train Linf Norm: 1.4192, Test Linf Norm: 0.6701\n",
            "Epoch 55: Train Loss: 0.0001, Test Loss: 0.0000, Train L1 Norm: 0.0177, Test L1 Norm: 0.0114, Train Linf Norm: 2.3858, Test Linf Norm: 0.7791\n",
            "Epoch 56: Train Loss: 0.0002, Test Loss: 0.0000, Train L1 Norm: 0.0226, Test L1 Norm: 0.0122, Train Linf Norm: 2.9561, Test Linf Norm: 0.7963\n",
            "Epoch 57: Train Loss: 0.0001, Test Loss: 0.0000, Train L1 Norm: 0.0143, Test L1 Norm: 0.0093, Train Linf Norm: 1.5656, Test Linf Norm: 0.6935\n",
            "Epoch 58: Train Loss: 0.0002, Test Loss: 0.0032, Train L1 Norm: 0.0176, Test L1 Norm: 0.0621, Train Linf Norm: 2.0669, Test Linf Norm: 3.2652\n",
            "Epoch 59: Train Loss: 0.0003, Test Loss: 0.0001, Train L1 Norm: 0.0203, Test L1 Norm: 0.0169, Train Linf Norm: 2.4976, Test Linf Norm: 1.1288\n",
            "Epoch 60: Train Loss: 0.0009, Test Loss: 0.0000, Train L1 Norm: 0.0319, Test L1 Norm: 0.0211, Train Linf Norm: 3.9883, Test Linf Norm: 1.8367\n",
            "Epoch 61: Train Loss: 0.0000, Test Loss: 0.0001, Train L1 Norm: 0.0135, Test L1 Norm: 0.0203, Train Linf Norm: 1.7320, Test Linf Norm: 1.5378\n",
            "Epoch 62: Train Loss: 0.0000, Test Loss: 0.0000, Train L1 Norm: 0.0142, Test L1 Norm: 0.0124, Train Linf Norm: 1.8785, Test Linf Norm: 1.1687\n",
            "Epoch 63: Train Loss: 0.0001, Test Loss: 0.0000, Train L1 Norm: 0.0171, Test L1 Norm: 0.0122, Train Linf Norm: 2.0750, Test Linf Norm: 1.2281\n",
            "Epoch 64: Train Loss: 0.0000, Test Loss: 0.0000, Train L1 Norm: 0.0099, Test L1 Norm: 0.0092, Train Linf Norm: 1.1687, Test Linf Norm: 0.7305\n",
            "Epoch 65: Train Loss: 0.0000, Test Loss: 0.0000, Train L1 Norm: 0.0108, Test L1 Norm: 0.0071, Train Linf Norm: 1.4245, Test Linf Norm: 0.5108\n",
            "Epoch 66: Train Loss: 0.0000, Test Loss: 0.0000, Train L1 Norm: 0.0099, Test L1 Norm: 0.0068, Train Linf Norm: 1.2422, Test Linf Norm: 0.4761\n",
            "Epoch 67: Train Loss: 0.0000, Test Loss: 0.0000, Train L1 Norm: 0.0073, Test L1 Norm: 0.0093, Train Linf Norm: 0.8257, Test Linf Norm: 0.9708\n",
            "Epoch 68: Train Loss: 0.0000, Test Loss: 0.0000, Train L1 Norm: 0.0074, Test L1 Norm: 0.0068, Train Linf Norm: 0.8533, Test Linf Norm: 0.6190\n",
            "Epoch 69: Train Loss: 0.0000, Test Loss: 0.0000, Train L1 Norm: 0.0064, Test L1 Norm: 0.0071, Train Linf Norm: 0.7101, Test Linf Norm: 0.5966\n",
            "Epoch 70: Train Loss: 0.0000, Test Loss: 0.0000, Train L1 Norm: 0.0066, Test L1 Norm: 0.0058, Train Linf Norm: 0.8070, Test Linf Norm: 0.4743\n"
          ]
        },
        {
          "output_type": "stream",
          "name": "stderr",
          "text": [
            "\u001b[32m[I 2023-05-13 13:51:05,606]\u001b[0m Trial 87 finished with value: 0.0058190776737872514 and parameters: {'n_layers': 3, 'n_units_0': 100, 'n_units_1': 198, 'n_units_2': 234, 'hidden_activation': 'ReLU', 'output_activation': 'Linear', 'loss': 'LogCosh', 'optimizer': 'Adam', 'lr': 0.00046327907685321046, 'batch_size': 212, 'n_epochs': 71, 'scheduler': 'CosineAnnealingLR'}. Best is trial 42 with value: 0.004305121898895595.\u001b[0m\n"
          ]
        },
        {
          "output_type": "stream",
          "name": "stdout",
          "text": [
            "Epoch 71: Train Loss: 0.0000, Test Loss: 0.0000, Train L1 Norm: 0.0068, Test L1 Norm: 0.0058, Train Linf Norm: 0.8047, Test Linf Norm: 0.4743\n"
          ]
        },
        {
          "output_type": "stream",
          "name": "stderr",
          "text": [
            "\u001b[32m[I 2023-05-13 13:51:07,345]\u001b[0m Trial 88 pruned. \u001b[0m\n"
          ]
        },
        {
          "output_type": "stream",
          "name": "stdout",
          "text": [
            "Epoch 1: Train Loss: 0.4119, Test Loss: 0.0386, Train L1 Norm: 0.9156, Test L1 Norm: 0.2972, Train Linf Norm: 91.1967, Test Linf Norm: 24.6466\n",
            "Epoch 1: Train Loss: 0.0646, Test Loss: 0.0007, Train L1 Norm: 0.6931, Test L1 Norm: 0.0583, Train Linf Norm: 110.0928, Test Linf Norm: 5.5214\n",
            "Epoch 2: Train Loss: 0.0008, Test Loss: 0.0001, Train L1 Norm: 0.0565, Test L1 Norm: 0.0262, Train Linf Norm: 7.1778, Test Linf Norm: 2.2387\n",
            "Epoch 3: Train Loss: 0.0004, Test Loss: 0.0002, Train L1 Norm: 0.0464, Test L1 Norm: 0.0363, Train Linf Norm: 6.2267, Test Linf Norm: 3.9849\n",
            "Epoch 4: Train Loss: 0.0005, Test Loss: 0.0008, Train L1 Norm: 0.0386, Test L1 Norm: 0.0378, Train Linf Norm: 4.6247, Test Linf Norm: 3.3176\n",
            "Epoch 5: Train Loss: 0.0004, Test Loss: 0.0000, Train L1 Norm: 0.0430, Test L1 Norm: 0.0232, Train Linf Norm: 6.1299, Test Linf Norm: 2.4078\n",
            "Epoch 6: Train Loss: 0.0000, Test Loss: 0.0000, Train L1 Norm: 0.0246, Test L1 Norm: 0.0189, Train Linf Norm: 3.1547, Test Linf Norm: 1.8308\n",
            "Epoch 7: Train Loss: 0.0000, Test Loss: 0.0000, Train L1 Norm: 0.0209, Test L1 Norm: 0.0172, Train Linf Norm: 2.5430, Test Linf Norm: 1.6091\n",
            "Epoch 8: Train Loss: 0.0000, Test Loss: 0.0000, Train L1 Norm: 0.0198, Test L1 Norm: 0.0151, Train Linf Norm: 2.4368, Test Linf Norm: 1.4029\n",
            "Epoch 9: Train Loss: 0.0000, Test Loss: 0.0000, Train L1 Norm: 0.0198, Test L1 Norm: 0.0151, Train Linf Norm: 2.4663, Test Linf Norm: 1.3769\n",
            "Epoch 10: Train Loss: 0.0000, Test Loss: 0.0000, Train L1 Norm: 0.0190, Test L1 Norm: 0.0137, Train Linf Norm: 2.3331, Test Linf Norm: 1.2009\n",
            "Epoch 11: Train Loss: 0.0000, Test Loss: 0.0000, Train L1 Norm: 0.0177, Test L1 Norm: 0.0137, Train Linf Norm: 2.1323, Test Linf Norm: 1.2009\n",
            "Epoch 12: Train Loss: 0.0000, Test Loss: 0.0000, Train L1 Norm: 0.0185, Test L1 Norm: 0.0142, Train Linf Norm: 2.2858, Test Linf Norm: 1.2713\n",
            "Epoch 13: Train Loss: 0.0000, Test Loss: 0.0000, Train L1 Norm: 0.0196, Test L1 Norm: 0.0133, Train Linf Norm: 2.4847, Test Linf Norm: 1.1174\n",
            "Epoch 14: Train Loss: 0.0001, Test Loss: 0.0000, Train L1 Norm: 0.0238, Test L1 Norm: 0.0150, Train Linf Norm: 2.7934, Test Linf Norm: 1.2530\n",
            "Epoch 15: Train Loss: 0.0011, Test Loss: 0.0001, Train L1 Norm: 0.0375, Test L1 Norm: 0.0208, Train Linf Norm: 4.4595, Test Linf Norm: 2.2349\n",
            "Epoch 16: Train Loss: 0.0001, Test Loss: 0.0000, Train L1 Norm: 0.0235, Test L1 Norm: 0.0197, Train Linf Norm: 3.0044, Test Linf Norm: 2.2722\n",
            "Epoch 17: Train Loss: 0.0006, Test Loss: 0.0001, Train L1 Norm: 0.0385, Test L1 Norm: 0.0266, Train Linf Norm: 4.8050, Test Linf Norm: 2.5499\n",
            "Epoch 18: Train Loss: 0.0006, Test Loss: 0.0001, Train L1 Norm: 0.0403, Test L1 Norm: 0.0193, Train Linf Norm: 5.3020, Test Linf Norm: 1.8896\n",
            "Epoch 19: Train Loss: 0.0008, Test Loss: 0.0009, Train L1 Norm: 0.0380, Test L1 Norm: 0.0512, Train Linf Norm: 4.5218, Test Linf Norm: 5.3477\n",
            "Epoch 20: Train Loss: 0.0003, Test Loss: 0.0001, Train L1 Norm: 0.0408, Test L1 Norm: 0.0619, Train Linf Norm: 5.4788, Test Linf Norm: 7.7968\n",
            "Epoch 21: Train Loss: 0.0006, Test Loss: 0.0001, Train L1 Norm: 0.0375, Test L1 Norm: 0.0188, Train Linf Norm: 4.4367, Test Linf Norm: 1.7724\n",
            "Epoch 22: Train Loss: 0.0006, Test Loss: 0.0000, Train L1 Norm: 0.0414, Test L1 Norm: 0.0175, Train Linf Norm: 5.6792, Test Linf Norm: 1.6033\n",
            "Epoch 23: Train Loss: 0.0002, Test Loss: 0.0000, Train L1 Norm: 0.0226, Test L1 Norm: 0.0164, Train Linf Norm: 2.8293, Test Linf Norm: 1.5513\n",
            "Epoch 24: Train Loss: 0.0003, Test Loss: 0.0000, Train L1 Norm: 0.0273, Test L1 Norm: 0.0153, Train Linf Norm: 3.3030, Test Linf Norm: 1.4214\n",
            "Epoch 25: Train Loss: 0.0000, Test Loss: 0.0000, Train L1 Norm: 0.0181, Test L1 Norm: 0.0157, Train Linf Norm: 2.3379, Test Linf Norm: 1.4667\n",
            "Epoch 26: Train Loss: 0.0000, Test Loss: 0.0001, Train L1 Norm: 0.0164, Test L1 Norm: 0.0180, Train Linf Norm: 1.9536, Test Linf Norm: 1.8069\n",
            "Epoch 27: Train Loss: 0.0000, Test Loss: 0.0000, Train L1 Norm: 0.0164, Test L1 Norm: 0.0134, Train Linf Norm: 2.1895, Test Linf Norm: 1.4971\n",
            "Epoch 28: Train Loss: 0.0000, Test Loss: 0.0000, Train L1 Norm: 0.0159, Test L1 Norm: 0.0099, Train Linf Norm: 2.1851, Test Linf Norm: 0.9245\n",
            "Epoch 29: Train Loss: 0.0000, Test Loss: 0.0000, Train L1 Norm: 0.0142, Test L1 Norm: 0.0108, Train Linf Norm: 1.8701, Test Linf Norm: 1.0709\n",
            "Epoch 30: Train Loss: 0.0000, Test Loss: 0.0000, Train L1 Norm: 0.0139, Test L1 Norm: 0.0085, Train Linf Norm: 1.8237, Test Linf Norm: 0.7052\n",
            "Epoch 31: Train Loss: 0.0000, Test Loss: 0.0000, Train L1 Norm: 0.0127, Test L1 Norm: 0.0085, Train Linf Norm: 1.6012, Test Linf Norm: 0.7052\n",
            "Epoch 32: Train Loss: 0.0000, Test Loss: 0.0000, Train L1 Norm: 0.0132, Test L1 Norm: 0.0095, Train Linf Norm: 1.7085, Test Linf Norm: 0.8730\n",
            "Epoch 33: Train Loss: 0.0000, Test Loss: 0.0000, Train L1 Norm: 0.0142, Test L1 Norm: 0.0090, Train Linf Norm: 1.8680, Test Linf Norm: 0.7504\n",
            "Epoch 34: Train Loss: 0.0001, Test Loss: 0.0001, Train L1 Norm: 0.0181, Test L1 Norm: 0.0140, Train Linf Norm: 2.2630, Test Linf Norm: 1.3295\n",
            "Epoch 35: Train Loss: 0.0003, Test Loss: 0.0000, Train L1 Norm: 0.0231, Test L1 Norm: 0.0135, Train Linf Norm: 2.8390, Test Linf Norm: 1.4156\n",
            "Epoch 36: Train Loss: 0.0003, Test Loss: 0.0001, Train L1 Norm: 0.0282, Test L1 Norm: 0.0276, Train Linf Norm: 3.3676, Test Linf Norm: 2.9295\n",
            "Epoch 37: Train Loss: 0.0002, Test Loss: 0.0002, Train L1 Norm: 0.0221, Test L1 Norm: 0.0147, Train Linf Norm: 2.3400, Test Linf Norm: 1.2383\n",
            "Epoch 38: Train Loss: 0.0004, Test Loss: 0.0002, Train L1 Norm: 0.0323, Test L1 Norm: 0.0264, Train Linf Norm: 4.0579, Test Linf Norm: 2.6332\n",
            "Epoch 39: Train Loss: 0.0004, Test Loss: 0.0002, Train L1 Norm: 0.0380, Test L1 Norm: 0.0700, Train Linf Norm: 5.2567, Test Linf Norm: 7.4938\n",
            "Epoch 40: Train Loss: 0.0003, Test Loss: 0.0013, Train L1 Norm: 0.0337, Test L1 Norm: 0.0549, Train Linf Norm: 4.5086, Test Linf Norm: 5.2491\n",
            "Epoch 41: Train Loss: 0.0003, Test Loss: 0.0002, Train L1 Norm: 0.0292, Test L1 Norm: 0.0382, Train Linf Norm: 3.6682, Test Linf Norm: 3.8810\n",
            "Epoch 42: Train Loss: 0.0005, Test Loss: 0.0000, Train L1 Norm: 0.0379, Test L1 Norm: 0.0302, Train Linf Norm: 4.9864, Test Linf Norm: 3.4854\n",
            "Epoch 43: Train Loss: 0.0001, Test Loss: 0.0000, Train L1 Norm: 0.0253, Test L1 Norm: 0.0153, Train Linf Norm: 3.6684, Test Linf Norm: 1.6175\n",
            "Epoch 44: Train Loss: 0.0001, Test Loss: 0.0000, Train L1 Norm: 0.0163, Test L1 Norm: 0.0236, Train Linf Norm: 1.9490, Test Linf Norm: 2.4583\n",
            "Epoch 45: Train Loss: 0.0001, Test Loss: 0.0005, Train L1 Norm: 0.0173, Test L1 Norm: 0.0438, Train Linf Norm: 2.0690, Test Linf Norm: 4.1651\n",
            "Epoch 46: Train Loss: 0.0002, Test Loss: 0.0000, Train L1 Norm: 0.0191, Test L1 Norm: 0.0103, Train Linf Norm: 2.3951, Test Linf Norm: 0.8750\n",
            "Epoch 47: Train Loss: 0.0000, Test Loss: 0.0000, Train L1 Norm: 0.0133, Test L1 Norm: 0.0091, Train Linf Norm: 1.5553, Test Linf Norm: 0.8120\n",
            "Epoch 48: Train Loss: 0.0000, Test Loss: 0.0000, Train L1 Norm: 0.0109, Test L1 Norm: 0.0119, Train Linf Norm: 1.3074, Test Linf Norm: 1.1688\n",
            "Epoch 49: Train Loss: 0.0000, Test Loss: 0.0000, Train L1 Norm: 0.0099, Test L1 Norm: 0.0093, Train Linf Norm: 1.2030, Test Linf Norm: 0.8209\n",
            "Epoch 50: Train Loss: 0.0000, Test Loss: 0.0000, Train L1 Norm: 0.0084, Test L1 Norm: 0.0081, Train Linf Norm: 0.9054, Test Linf Norm: 0.6770\n",
            "Epoch 51: Train Loss: 0.0000, Test Loss: 0.0000, Train L1 Norm: 0.0087, Test L1 Norm: 0.0081, Train Linf Norm: 0.9694, Test Linf Norm: 0.6770\n",
            "Epoch 52: Train Loss: 0.0000, Test Loss: 0.0000, Train L1 Norm: 0.0087, Test L1 Norm: 0.0077, Train Linf Norm: 0.9855, Test Linf Norm: 0.6423\n",
            "Epoch 53: Train Loss: 0.0000, Test Loss: 0.0000, Train L1 Norm: 0.0099, Test L1 Norm: 0.0064, Train Linf Norm: 1.1660, Test Linf Norm: 0.4798\n",
            "Epoch 54: Train Loss: 0.0001, Test Loss: 0.0002, Train L1 Norm: 0.0200, Test L1 Norm: 0.0264, Train Linf Norm: 2.8803, Test Linf Norm: 2.3283\n",
            "Epoch 55: Train Loss: 0.0002, Test Loss: 0.0000, Train L1 Norm: 0.0216, Test L1 Norm: 0.0071, Train Linf Norm: 2.8799, Test Linf Norm: 0.5704\n",
            "Epoch 56: Train Loss: 0.0004, Test Loss: 0.0000, Train L1 Norm: 0.0226, Test L1 Norm: 0.0173, Train Linf Norm: 2.8190, Test Linf Norm: 1.9214\n",
            "Epoch 57: Train Loss: 0.0002, Test Loss: 0.0013, Train L1 Norm: 0.0268, Test L1 Norm: 0.1066, Train Linf Norm: 3.3847, Test Linf Norm: 11.0197\n",
            "Epoch 58: Train Loss: 0.0002, Test Loss: 0.0002, Train L1 Norm: 0.0235, Test L1 Norm: 0.0158, Train Linf Norm: 2.5602, Test Linf Norm: 1.1975\n",
            "Epoch 59: Train Loss: 0.0003, Test Loss: 0.0000, Train L1 Norm: 0.0300, Test L1 Norm: 0.0198, Train Linf Norm: 3.7679, Test Linf Norm: 2.1900\n",
            "Epoch 60: Train Loss: 0.0005, Test Loss: 0.0001, Train L1 Norm: 0.0405, Test L1 Norm: 0.0153, Train Linf Norm: 5.4978, Test Linf Norm: 1.3069\n",
            "Epoch 61: Train Loss: 0.0002, Test Loss: 0.0005, Train L1 Norm: 0.0316, Test L1 Norm: 0.0470, Train Linf Norm: 4.3151, Test Linf Norm: 4.7707\n",
            "Epoch 62: Train Loss: 0.0002, Test Loss: 0.0000, Train L1 Norm: 0.0235, Test L1 Norm: 0.0186, Train Linf Norm: 2.7677, Test Linf Norm: 2.0462\n",
            "Epoch 63: Train Loss: 0.0001, Test Loss: 0.0001, Train L1 Norm: 0.0246, Test L1 Norm: 0.0151, Train Linf Norm: 3.2883, Test Linf Norm: 1.4579\n",
            "Epoch 64: Train Loss: 0.0001, Test Loss: 0.0000, Train L1 Norm: 0.0184, Test L1 Norm: 0.0140, Train Linf Norm: 2.3976, Test Linf Norm: 1.3030\n",
            "Epoch 65: Train Loss: 0.0000, Test Loss: 0.0000, Train L1 Norm: 0.0128, Test L1 Norm: 0.0156, Train Linf Norm: 1.4962, Test Linf Norm: 1.6779\n",
            "Epoch 66: Train Loss: 0.0000, Test Loss: 0.0000, Train L1 Norm: 0.0143, Test L1 Norm: 0.0161, Train Linf Norm: 1.8619, Test Linf Norm: 1.7748\n",
            "Epoch 67: Train Loss: 0.0000, Test Loss: 0.0000, Train L1 Norm: 0.0131, Test L1 Norm: 0.0120, Train Linf Norm: 1.7315, Test Linf Norm: 1.2626\n",
            "Epoch 68: Train Loss: 0.0000, Test Loss: 0.0000, Train L1 Norm: 0.0119, Test L1 Norm: 0.0126, Train Linf Norm: 1.5831, Test Linf Norm: 1.2986\n",
            "Epoch 69: Train Loss: 0.0000, Test Loss: 0.0000, Train L1 Norm: 0.0107, Test L1 Norm: 0.0083, Train Linf Norm: 1.4187, Test Linf Norm: 0.7648\n",
            "Epoch 70: Train Loss: 0.0000, Test Loss: 0.0000, Train L1 Norm: 0.0104, Test L1 Norm: 0.0100, Train Linf Norm: 1.3835, Test Linf Norm: 1.0052\n"
          ]
        },
        {
          "output_type": "stream",
          "name": "stderr",
          "text": [
            "\u001b[32m[I 2023-05-13 13:52:56,935]\u001b[0m Trial 89 finished with value: 0.009961668656440452 and parameters: {'n_layers': 3, 'n_units_0': 103, 'n_units_1': 136, 'n_units_2': 238, 'hidden_activation': 'ReLU', 'output_activation': 'Linear', 'loss': 'LogCosh', 'optimizer': 'Adam', 'lr': 0.000831909468640436, 'batch_size': 210, 'n_epochs': 71, 'scheduler': 'CosineAnnealingLR'}. Best is trial 42 with value: 0.004305121898895595.\u001b[0m\n"
          ]
        },
        {
          "output_type": "stream",
          "name": "stdout",
          "text": [
            "Epoch 71: Train Loss: 0.0000, Test Loss: 0.0000, Train L1 Norm: 0.0102, Test L1 Norm: 0.0100, Train Linf Norm: 1.3640, Test Linf Norm: 1.0052\n",
            "Epoch 1: Train Loss: 0.1051, Test Loss: 0.0004, Train L1 Norm: 0.5994, Test L1 Norm: 0.0390, Train Linf Norm: 88.4955, Test Linf Norm: 3.4521\n",
            "Epoch 2: Train Loss: 0.0003, Test Loss: 0.0004, Train L1 Norm: 0.0370, Test L1 Norm: 0.0386, Train Linf Norm: 4.0007, Test Linf Norm: 3.6071\n",
            "Epoch 3: Train Loss: 0.0002, Test Loss: 0.0003, Train L1 Norm: 0.0304, Test L1 Norm: 0.0321, Train Linf Norm: 3.3991, Test Linf Norm: 3.5866\n",
            "Epoch 4: Train Loss: 0.0002, Test Loss: 0.0028, Train L1 Norm: 0.0267, Test L1 Norm: 0.0805, Train Linf Norm: 3.0158, Test Linf Norm: 7.3317\n",
            "Epoch 5: Train Loss: 0.0001, Test Loss: 0.0003, Train L1 Norm: 0.0213, Test L1 Norm: 0.0404, Train Linf Norm: 2.5031, Test Linf Norm: 4.2959\n",
            "Epoch 6: Train Loss: 0.0001, Test Loss: 0.0004, Train L1 Norm: 0.0183, Test L1 Norm: 0.0271, Train Linf Norm: 2.1039, Test Linf Norm: 2.3949\n",
            "Epoch 7: Train Loss: 0.0000, Test Loss: 0.0002, Train L1 Norm: 0.0165, Test L1 Norm: 0.0289, Train Linf Norm: 1.9115, Test Linf Norm: 2.9510\n",
            "Epoch 8: Train Loss: 0.0000, Test Loss: 0.0000, Train L1 Norm: 0.0158, Test L1 Norm: 0.0166, Train Linf Norm: 1.7989, Test Linf Norm: 1.7521\n",
            "Epoch 9: Train Loss: 0.0000, Test Loss: 0.0000, Train L1 Norm: 0.0142, Test L1 Norm: 0.0118, Train Linf Norm: 1.6252, Test Linf Norm: 1.1151\n",
            "Epoch 10: Train Loss: 0.0000, Test Loss: 0.0000, Train L1 Norm: 0.0132, Test L1 Norm: 0.0106, Train Linf Norm: 1.4424, Test Linf Norm: 0.9718\n",
            "Epoch 11: Train Loss: 0.0000, Test Loss: 0.0000, Train L1 Norm: 0.0125, Test L1 Norm: 0.0106, Train Linf Norm: 1.3876, Test Linf Norm: 0.9718\n",
            "Epoch 12: Train Loss: 0.0000, Test Loss: 0.0000, Train L1 Norm: 0.0128, Test L1 Norm: 0.0114, Train Linf Norm: 1.4005, Test Linf Norm: 1.0830\n",
            "Epoch 13: Train Loss: 0.0000, Test Loss: 0.0000, Train L1 Norm: 0.0135, Test L1 Norm: 0.0163, Train Linf Norm: 1.4622, Test Linf Norm: 1.6633\n",
            "Epoch 14: Train Loss: 0.0000, Test Loss: 0.0004, Train L1 Norm: 0.0153, Test L1 Norm: 0.0350, Train Linf Norm: 1.7327, Test Linf Norm: 3.2741\n",
            "Epoch 15: Train Loss: 0.0005, Test Loss: 0.0000, Train L1 Norm: 0.0264, Test L1 Norm: 0.0180, Train Linf Norm: 3.0464, Test Linf Norm: 1.7666\n",
            "Epoch 16: Train Loss: 0.0001, Test Loss: 0.0000, Train L1 Norm: 0.0240, Test L1 Norm: 0.0163, Train Linf Norm: 3.1786, Test Linf Norm: 1.7083\n",
            "Epoch 17: Train Loss: 0.0002, Test Loss: 0.0000, Train L1 Norm: 0.0272, Test L1 Norm: 0.0255, Train Linf Norm: 3.4487, Test Linf Norm: 3.1854\n",
            "Epoch 18: Train Loss: 0.0014, Test Loss: 0.0000, Train L1 Norm: 0.0502, Test L1 Norm: 0.0172, Train Linf Norm: 6.3519, Test Linf Norm: 1.8819\n",
            "Epoch 19: Train Loss: 0.0000, Test Loss: 0.0004, Train L1 Norm: 0.0172, Test L1 Norm: 0.0292, Train Linf Norm: 2.0075, Test Linf Norm: 3.0871\n",
            "Epoch 20: Train Loss: 0.0004, Test Loss: 0.0001, Train L1 Norm: 0.0325, Test L1 Norm: 0.0167, Train Linf Norm: 4.1784, Test Linf Norm: 1.2708\n",
            "Epoch 21: Train Loss: 0.0001, Test Loss: 0.0000, Train L1 Norm: 0.0185, Test L1 Norm: 0.0312, Train Linf Norm: 2.1918, Test Linf Norm: 3.6450\n",
            "Epoch 22: Train Loss: 0.0003, Test Loss: 0.0000, Train L1 Norm: 0.0352, Test L1 Norm: 0.0175, Train Linf Norm: 4.4708, Test Linf Norm: 1.7294\n",
            "Epoch 23: Train Loss: 0.0002, Test Loss: 0.0000, Train L1 Norm: 0.0181, Test L1 Norm: 0.0125, Train Linf Norm: 1.8385, Test Linf Norm: 1.1692\n",
            "Epoch 24: Train Loss: 0.0000, Test Loss: 0.0001, Train L1 Norm: 0.0151, Test L1 Norm: 0.0129, Train Linf Norm: 1.9387, Test Linf Norm: 1.1916\n",
            "Epoch 25: Train Loss: 0.0000, Test Loss: 0.0001, Train L1 Norm: 0.0113, Test L1 Norm: 0.0181, Train Linf Norm: 1.1946, Test Linf Norm: 1.6645\n",
            "Epoch 26: Train Loss: 0.0000, Test Loss: 0.0002, Train L1 Norm: 0.0122, Test L1 Norm: 0.0192, Train Linf Norm: 1.4187, Test Linf Norm: 1.6645\n",
            "Epoch 27: Train Loss: 0.0000, Test Loss: 0.0001, Train L1 Norm: 0.0096, Test L1 Norm: 0.0119, Train Linf Norm: 0.9946, Test Linf Norm: 1.1057\n",
            "Epoch 28: Train Loss: 0.0000, Test Loss: 0.0000, Train L1 Norm: 0.0092, Test L1 Norm: 0.0087, Train Linf Norm: 1.0060, Test Linf Norm: 0.7710\n",
            "Epoch 29: Train Loss: 0.0000, Test Loss: 0.0000, Train L1 Norm: 0.0082, Test L1 Norm: 0.0100, Train Linf Norm: 0.8893, Test Linf Norm: 1.0636\n",
            "Epoch 30: Train Loss: 0.0000, Test Loss: 0.0000, Train L1 Norm: 0.0082, Test L1 Norm: 0.0081, Train Linf Norm: 0.9185, Test Linf Norm: 0.8044\n",
            "Epoch 31: Train Loss: 0.0000, Test Loss: 0.0000, Train L1 Norm: 0.0081, Test L1 Norm: 0.0081, Train Linf Norm: 0.8950, Test Linf Norm: 0.8044\n",
            "Epoch 32: Train Loss: 0.0000, Test Loss: 0.0000, Train L1 Norm: 0.0079, Test L1 Norm: 0.0080, Train Linf Norm: 0.8595, Test Linf Norm: 0.7804\n",
            "Epoch 33: Train Loss: 0.0000, Test Loss: 0.0000, Train L1 Norm: 0.0088, Test L1 Norm: 0.0105, Train Linf Norm: 0.9571, Test Linf Norm: 1.1258\n",
            "Epoch 34: Train Loss: 0.0001, Test Loss: 0.0000, Train L1 Norm: 0.0112, Test L1 Norm: 0.0101, Train Linf Norm: 1.1908, Test Linf Norm: 1.0626\n",
            "Epoch 35: Train Loss: 0.0001, Test Loss: 0.0001, Train L1 Norm: 0.0179, Test L1 Norm: 0.0151, Train Linf Norm: 2.1374, Test Linf Norm: 1.5764\n",
            "Epoch 36: Train Loss: 0.0003, Test Loss: 0.0001, Train L1 Norm: 0.0220, Test L1 Norm: 0.0225, Train Linf Norm: 2.4837, Test Linf Norm: 2.5595\n",
            "Epoch 37: Train Loss: 0.0001, Test Loss: 0.0011, Train L1 Norm: 0.0175, Test L1 Norm: 0.0256, Train Linf Norm: 1.9790, Test Linf Norm: 1.9182\n",
            "Epoch 38: Train Loss: 0.0004, Test Loss: 0.0000, Train L1 Norm: 0.0236, Test L1 Norm: 0.0148, Train Linf Norm: 2.4810, Test Linf Norm: 1.6161\n",
            "Epoch 39: Train Loss: 0.0001, Test Loss: 0.0007, Train L1 Norm: 0.0226, Test L1 Norm: 0.0521, Train Linf Norm: 3.0349, Test Linf Norm: 5.2669\n",
            "Epoch 40: Train Loss: 0.0006, Test Loss: 0.0003, Train L1 Norm: 0.0300, Test L1 Norm: 0.0228, Train Linf Norm: 3.1236, Test Linf Norm: 1.8997\n",
            "Epoch 41: Train Loss: 0.0001, Test Loss: 0.0002, Train L1 Norm: 0.0206, Test L1 Norm: 0.0365, Train Linf Norm: 2.8191, Test Linf Norm: 3.7436\n",
            "Epoch 42: Train Loss: 0.0001, Test Loss: 0.0009, Train L1 Norm: 0.0214, Test L1 Norm: 0.0652, Train Linf Norm: 2.7174, Test Linf Norm: 6.8852\n",
            "Epoch 43: Train Loss: 0.0001, Test Loss: 0.0001, Train L1 Norm: 0.0172, Test L1 Norm: 0.0206, Train Linf Norm: 1.9316, Test Linf Norm: 2.1722\n",
            "Epoch 44: Train Loss: 0.0001, Test Loss: 0.0006, Train L1 Norm: 0.0139, Test L1 Norm: 0.0291, Train Linf Norm: 1.4441, Test Linf Norm: 1.9894\n",
            "Epoch 45: Train Loss: 0.0001, Test Loss: 0.0002, Train L1 Norm: 0.0130, Test L1 Norm: 0.0120, Train Linf Norm: 1.4868, Test Linf Norm: 0.8661\n",
            "Epoch 46: Train Loss: 0.0000, Test Loss: 0.0000, Train L1 Norm: 0.0104, Test L1 Norm: 0.0171, Train Linf Norm: 1.2639, Test Linf Norm: 2.0365\n",
            "Epoch 47: Train Loss: 0.0000, Test Loss: 0.0000, Train L1 Norm: 0.0084, Test L1 Norm: 0.0099, Train Linf Norm: 0.9456, Test Linf Norm: 0.9749\n",
            "Epoch 48: Train Loss: 0.0000, Test Loss: 0.0000, Train L1 Norm: 0.0079, Test L1 Norm: 0.0122, Train Linf Norm: 0.8726, Test Linf Norm: 1.4542\n",
            "Epoch 49: Train Loss: 0.0000, Test Loss: 0.0000, Train L1 Norm: 0.0078, Test L1 Norm: 0.0116, Train Linf Norm: 0.8724, Test Linf Norm: 1.3260\n",
            "Epoch 50: Train Loss: 0.0000, Test Loss: 0.0000, Train L1 Norm: 0.0075, Test L1 Norm: 0.0111, Train Linf Norm: 0.8512, Test Linf Norm: 1.3106\n",
            "Epoch 51: Train Loss: 0.0000, Test Loss: 0.0000, Train L1 Norm: 0.0075, Test L1 Norm: 0.0111, Train Linf Norm: 0.8751, Test Linf Norm: 1.3106\n",
            "Epoch 52: Train Loss: 0.0000, Test Loss: 0.0000, Train L1 Norm: 0.0077, Test L1 Norm: 0.0106, Train Linf Norm: 0.8984, Test Linf Norm: 1.2307\n",
            "Epoch 53: Train Loss: 0.0000, Test Loss: 0.0000, Train L1 Norm: 0.0091, Test L1 Norm: 0.0099, Train Linf Norm: 1.1214, Test Linf Norm: 1.0400\n",
            "Epoch 54: Train Loss: 0.0001, Test Loss: 0.0000, Train L1 Norm: 0.0122, Test L1 Norm: 0.0090, Train Linf Norm: 1.4744, Test Linf Norm: 0.8944\n",
            "Epoch 55: Train Loss: 0.0001, Test Loss: 0.0000, Train L1 Norm: 0.0177, Test L1 Norm: 0.0103, Train Linf Norm: 2.4486, Test Linf Norm: 1.0821\n",
            "Epoch 56: Train Loss: 0.0002, Test Loss: 0.0000, Train L1 Norm: 0.0200, Test L1 Norm: 0.0123, Train Linf Norm: 2.4796, Test Linf Norm: 1.4250\n",
            "Epoch 57: Train Loss: 0.0003, Test Loss: 0.0000, Train L1 Norm: 0.0234, Test L1 Norm: 0.0157, Train Linf Norm: 2.8157, Test Linf Norm: 1.9087\n",
            "Epoch 58: Train Loss: 0.0001, Test Loss: 0.0000, Train L1 Norm: 0.0182, Test L1 Norm: 0.0191, Train Linf Norm: 2.0817, Test Linf Norm: 2.1231\n",
            "Epoch 59: Train Loss: 0.0005, Test Loss: 0.0001, Train L1 Norm: 0.0309, Test L1 Norm: 0.0221, Train Linf Norm: 3.6888, Test Linf Norm: 2.4855\n",
            "Epoch 60: Train Loss: 0.0000, Test Loss: 0.0002, Train L1 Norm: 0.0133, Test L1 Norm: 0.0246, Train Linf Norm: 1.7040, Test Linf Norm: 2.7266\n"
          ]
        },
        {
          "output_type": "stream",
          "name": "stderr",
          "text": [
            "\u001b[32m[I 2023-05-13 13:54:35,005]\u001b[0m Trial 90 pruned. \u001b[0m\n"
          ]
        },
        {
          "output_type": "stream",
          "name": "stdout",
          "text": [
            "Epoch 61: Train Loss: 0.0001, Test Loss: 0.0001, Train L1 Norm: 0.0170, Test L1 Norm: 0.0150, Train Linf Norm: 2.0531, Test Linf Norm: 1.4266\n"
          ]
        },
        {
          "output_type": "stream",
          "name": "stderr",
          "text": [
            "\u001b[32m[I 2023-05-13 13:54:36,386]\u001b[0m Trial 91 pruned. \u001b[0m\n"
          ]
        },
        {
          "output_type": "stream",
          "name": "stdout",
          "text": [
            "Epoch 1: Train Loss: 0.1305, Test Loss: 0.0005, Train L1 Norm: 0.6422, Test L1 Norm: 0.0904, Train Linf Norm: 89.9990, Test Linf Norm: 6.6255\n",
            "Epoch 1: Train Loss: 0.1848, Test Loss: 0.0283, Train L1 Norm: 0.3631, Test L1 Norm: 0.0577, Train Linf Norm: 44.7707, Test Linf Norm: 6.0643\n"
          ]
        },
        {
          "output_type": "stream",
          "name": "stderr",
          "text": [
            "\u001b[32m[I 2023-05-13 13:54:39,163]\u001b[0m Trial 92 pruned. \u001b[0m\n"
          ]
        },
        {
          "output_type": "stream",
          "name": "stdout",
          "text": [
            "Epoch 2: Train Loss: 0.0474, Test Loss: 0.0282, Train L1 Norm: 0.0719, Test L1 Norm: 0.0835, Train Linf Norm: 8.0371, Test Linf Norm: 9.6591\n"
          ]
        },
        {
          "output_type": "stream",
          "name": "stderr",
          "text": [
            "\u001b[32m[I 2023-05-13 13:54:40,671]\u001b[0m Trial 93 pruned. \u001b[0m\n"
          ]
        },
        {
          "output_type": "stream",
          "name": "stdout",
          "text": [
            "Epoch 1: Train Loss: 0.2314, Test Loss: 0.0239, Train L1 Norm: 0.7117, Test L1 Norm: 0.0656, Train Linf Norm: 125.8595, Test Linf Norm: 8.6051\n",
            "Epoch 1: Train Loss: 0.2670, Test Loss: 0.0166, Train L1 Norm: 0.3438, Test L1 Norm: 0.0307, Train Linf Norm: 35.7071, Test Linf Norm: 2.2300\n",
            "Epoch 2: Train Loss: 0.0258, Test Loss: 0.0148, Train L1 Norm: 0.0397, Test L1 Norm: 0.0385, Train Linf Norm: 4.1844, Test Linf Norm: 2.6614\n",
            "Epoch 3: Train Loss: 0.0279, Test Loss: 0.0348, Train L1 Norm: 0.0428, Test L1 Norm: 0.0606, Train Linf Norm: 4.8812, Test Linf Norm: 3.2396\n",
            "Epoch 4: Train Loss: 0.0205, Test Loss: 0.0202, Train L1 Norm: 0.0345, Test L1 Norm: 0.0396, Train Linf Norm: 4.1368, Test Linf Norm: 2.3307\n",
            "Epoch 5: Train Loss: 0.0182, Test Loss: 0.0112, Train L1 Norm: 0.0273, Test L1 Norm: 0.0248, Train Linf Norm: 2.8784, Test Linf Norm: 1.2393\n",
            "Epoch 6: Train Loss: 0.0258, Test Loss: 0.0208, Train L1 Norm: 0.0421, Test L1 Norm: 0.0500, Train Linf Norm: 5.1660, Test Linf Norm: 3.2044\n",
            "Epoch 7: Train Loss: 0.0214, Test Loss: 0.0264, Train L1 Norm: 0.0415, Test L1 Norm: 0.0331, Train Linf Norm: 5.5316, Test Linf Norm: 1.3426\n",
            "Epoch 8: Train Loss: 0.0204, Test Loss: 0.0086, Train L1 Norm: 0.0300, Test L1 Norm: 0.0295, Train Linf Norm: 3.2881, Test Linf Norm: 1.8069\n",
            "Epoch 9: Train Loss: 0.0170, Test Loss: 0.0172, Train L1 Norm: 0.0307, Test L1 Norm: 0.0423, Train Linf Norm: 3.9205, Test Linf Norm: 2.6010\n",
            "Epoch 10: Train Loss: 0.0197, Test Loss: 0.0165, Train L1 Norm: 0.0338, Test L1 Norm: 0.0244, Train Linf Norm: 4.2861, Test Linf Norm: 1.2457\n",
            "Epoch 11: Train Loss: 0.0184, Test Loss: 0.0144, Train L1 Norm: 0.0292, Test L1 Norm: 0.0226, Train Linf Norm: 3.3463, Test Linf Norm: 2.1286\n",
            "Epoch 12: Train Loss: 0.0212, Test Loss: 0.0117, Train L1 Norm: 0.0297, Test L1 Norm: 0.0251, Train Linf Norm: 3.1817, Test Linf Norm: 1.6166\n",
            "Epoch 13: Train Loss: 0.0173, Test Loss: 0.0227, Train L1 Norm: 0.0322, Test L1 Norm: 0.0284, Train Linf Norm: 4.2895, Test Linf Norm: 1.2118\n",
            "Epoch 14: Train Loss: 0.0192, Test Loss: 0.0338, Train L1 Norm: 0.0293, Test L1 Norm: 0.0386, Train Linf Norm: 3.5078, Test Linf Norm: 1.5570\n",
            "Epoch 15: Train Loss: 0.0075, Test Loss: 0.0104, Train L1 Norm: 0.0147, Test L1 Norm: 0.0177, Train Linf Norm: 1.7389, Test Linf Norm: 1.2722\n",
            "Epoch 16: Train Loss: 0.0083, Test Loss: 0.0070, Train L1 Norm: 0.0174, Test L1 Norm: 0.0113, Train Linf Norm: 2.2145, Test Linf Norm: 0.7652\n",
            "Epoch 17: Train Loss: 0.0081, Test Loss: 0.0048, Train L1 Norm: 0.0181, Test L1 Norm: 0.0094, Train Linf Norm: 2.3469, Test Linf Norm: 0.7150\n",
            "Epoch 18: Train Loss: 0.0091, Test Loss: 0.0049, Train L1 Norm: 0.0176, Test L1 Norm: 0.0138, Train Linf Norm: 2.2237, Test Linf Norm: 0.8056\n",
            "Epoch 19: Train Loss: 0.0087, Test Loss: 0.0118, Train L1 Norm: 0.0155, Test L1 Norm: 0.0136, Train Linf Norm: 1.8500, Test Linf Norm: 1.0789\n",
            "Epoch 20: Train Loss: 0.0084, Test Loss: 0.0128, Train L1 Norm: 0.0188, Test L1 Norm: 0.0129, Train Linf Norm: 2.5349, Test Linf Norm: 0.8579\n",
            "Epoch 21: Train Loss: 0.0097, Test Loss: 0.0139, Train L1 Norm: 0.0187, Test L1 Norm: 0.0173, Train Linf Norm: 2.4293, Test Linf Norm: 1.0223\n",
            "Epoch 22: Train Loss: 0.0091, Test Loss: 0.0047, Train L1 Norm: 0.0185, Test L1 Norm: 0.0080, Train Linf Norm: 2.4469, Test Linf Norm: 0.5748\n",
            "Epoch 23: Train Loss: 0.0109, Test Loss: 0.0067, Train L1 Norm: 0.0187, Test L1 Norm: 0.0225, Train Linf Norm: 2.3474, Test Linf Norm: 1.7023\n",
            "Epoch 24: Train Loss: 0.0080, Test Loss: 0.0078, Train L1 Norm: 0.0143, Test L1 Norm: 0.0129, Train Linf Norm: 1.7078, Test Linf Norm: 0.7562\n",
            "Epoch 25: Train Loss: 0.0080, Test Loss: 0.0047, Train L1 Norm: 0.0160, Test L1 Norm: 0.0085, Train Linf Norm: 2.0922, Test Linf Norm: 0.6000\n",
            "Epoch 26: Train Loss: 0.0079, Test Loss: 0.0068, Train L1 Norm: 0.0158, Test L1 Norm: 0.0120, Train Linf Norm: 1.9818, Test Linf Norm: 1.0732\n",
            "Epoch 27: Train Loss: 0.0106, Test Loss: 0.0135, Train L1 Norm: 0.0185, Test L1 Norm: 0.0185, Train Linf Norm: 2.2647, Test Linf Norm: 1.2107\n",
            "Epoch 28: Train Loss: 0.0074, Test Loss: 0.0077, Train L1 Norm: 0.0147, Test L1 Norm: 0.0189, Train Linf Norm: 1.8734, Test Linf Norm: 1.5840\n",
            "Epoch 29: Train Loss: 0.0040, Test Loss: 0.0059, Train L1 Norm: 0.0112, Test L1 Norm: 0.0120, Train Linf Norm: 1.5355, Test Linf Norm: 0.8590\n",
            "Epoch 30: Train Loss: 0.0048, Test Loss: 0.0066, Train L1 Norm: 0.0122, Test L1 Norm: 0.0115, Train Linf Norm: 1.6811, Test Linf Norm: 0.7410\n",
            "Epoch 31: Train Loss: 0.0045, Test Loss: 0.0040, Train L1 Norm: 0.0096, Test L1 Norm: 0.0090, Train Linf Norm: 1.1880, Test Linf Norm: 0.6418\n",
            "Epoch 32: Train Loss: 0.0052, Test Loss: 0.0037, Train L1 Norm: 0.0104, Test L1 Norm: 0.0074, Train Linf Norm: 1.3084, Test Linf Norm: 0.5448\n",
            "Epoch 33: Train Loss: 0.0050, Test Loss: 0.0055, Train L1 Norm: 0.0108, Test L1 Norm: 0.0154, Train Linf Norm: 1.3901, Test Linf Norm: 1.2036\n",
            "Epoch 34: Train Loss: 0.0049, Test Loss: 0.0038, Train L1 Norm: 0.0102, Test L1 Norm: 0.0093, Train Linf Norm: 1.1775, Test Linf Norm: 0.8622\n",
            "Epoch 35: Train Loss: 0.0049, Test Loss: 0.0040, Train L1 Norm: 0.0106, Test L1 Norm: 0.0072, Train Linf Norm: 1.3347, Test Linf Norm: 0.5233\n",
            "Epoch 36: Train Loss: 0.0049, Test Loss: 0.0121, Train L1 Norm: 0.0108, Test L1 Norm: 0.0144, Train Linf Norm: 1.4380, Test Linf Norm: 0.8589\n",
            "Epoch 37: Train Loss: 0.0051, Test Loss: 0.0086, Train L1 Norm: 0.0096, Test L1 Norm: 0.0112, Train Linf Norm: 1.1114, Test Linf Norm: 0.5930\n",
            "Epoch 38: Train Loss: 0.0053, Test Loss: 0.0036, Train L1 Norm: 0.0109, Test L1 Norm: 0.0174, Train Linf Norm: 1.3854, Test Linf Norm: 1.3935\n",
            "Epoch 39: Train Loss: 0.0044, Test Loss: 0.0040, Train L1 Norm: 0.0091, Test L1 Norm: 0.0089, Train Linf Norm: 1.0784, Test Linf Norm: 0.5927\n",
            "Epoch 40: Train Loss: 0.0049, Test Loss: 0.0035, Train L1 Norm: 0.0101, Test L1 Norm: 0.0087, Train Linf Norm: 1.2905, Test Linf Norm: 0.6165\n",
            "Epoch 41: Train Loss: 0.0044, Test Loss: 0.0046, Train L1 Norm: 0.0118, Test L1 Norm: 0.0079, Train Linf Norm: 1.7103, Test Linf Norm: 0.4680\n",
            "Epoch 42: Train Loss: 0.0049, Test Loss: 0.0063, Train L1 Norm: 0.0093, Test L1 Norm: 0.0076, Train Linf Norm: 1.0963, Test Linf Norm: 0.4280\n",
            "Epoch 43: Train Loss: 0.0053, Test Loss: 0.0034, Train L1 Norm: 0.0123, Test L1 Norm: 0.0106, Train Linf Norm: 1.7078, Test Linf Norm: 0.7379\n",
            "Epoch 44: Train Loss: 0.0046, Test Loss: 0.0029, Train L1 Norm: 0.0100, Test L1 Norm: 0.0064, Train Linf Norm: 1.3089, Test Linf Norm: 0.5917\n",
            "Epoch 45: Train Loss: 0.0042, Test Loss: 0.0067, Train L1 Norm: 0.0097, Test L1 Norm: 0.0071, Train Linf Norm: 1.2595, Test Linf Norm: 0.4360\n",
            "Epoch 46: Train Loss: 0.0046, Test Loss: 0.0038, Train L1 Norm: 0.0093, Test L1 Norm: 0.0127, Train Linf Norm: 1.0878, Test Linf Norm: 1.0042\n",
            "Epoch 47: Train Loss: 0.0052, Test Loss: 0.0045, Train L1 Norm: 0.0112, Test L1 Norm: 0.0140, Train Linf Norm: 1.4733, Test Linf Norm: 0.9866\n",
            "Epoch 48: Train Loss: 0.0041, Test Loss: 0.0040, Train L1 Norm: 0.0093, Test L1 Norm: 0.0077, Train Linf Norm: 1.1979, Test Linf Norm: 0.5269\n",
            "Epoch 49: Train Loss: 0.0050, Test Loss: 0.0069, Train L1 Norm: 0.0106, Test L1 Norm: 0.0111, Train Linf Norm: 1.3639, Test Linf Norm: 0.8138\n",
            "Epoch 50: Train Loss: 0.0045, Test Loss: 0.0038, Train L1 Norm: 0.0101, Test L1 Norm: 0.0067, Train Linf Norm: 1.3055, Test Linf Norm: 0.5729\n",
            "Epoch 51: Train Loss: 0.0028, Test Loss: 0.0025, Train L1 Norm: 0.0083, Test L1 Norm: 0.0056, Train Linf Norm: 1.1304, Test Linf Norm: 0.4293\n",
            "Epoch 52: Train Loss: 0.0030, Test Loss: 0.0025, Train L1 Norm: 0.0080, Test L1 Norm: 0.0068, Train Linf Norm: 1.0593, Test Linf Norm: 0.5169\n",
            "Epoch 53: Train Loss: 0.0030, Test Loss: 0.0026, Train L1 Norm: 0.0076, Test L1 Norm: 0.0067, Train Linf Norm: 1.0121, Test Linf Norm: 0.6170\n",
            "Epoch 54: Train Loss: 0.0030, Test Loss: 0.0029, Train L1 Norm: 0.0078, Test L1 Norm: 0.0068, Train Linf Norm: 0.9824, Test Linf Norm: 0.5708\n",
            "Epoch 55: Train Loss: 0.0032, Test Loss: 0.0033, Train L1 Norm: 0.0079, Test L1 Norm: 0.0061, Train Linf Norm: 1.0173, Test Linf Norm: 0.4674\n",
            "Epoch 56: Train Loss: 0.0030, Test Loss: 0.0027, Train L1 Norm: 0.0077, Test L1 Norm: 0.0079, Train Linf Norm: 1.0230, Test Linf Norm: 0.7180\n",
            "Epoch 57: Train Loss: 0.0031, Test Loss: 0.0039, Train L1 Norm: 0.0074, Test L1 Norm: 0.0059, Train Linf Norm: 0.9446, Test Linf Norm: 0.4527\n",
            "Epoch 58: Train Loss: 0.0025, Test Loss: 0.0023, Train L1 Norm: 0.0070, Test L1 Norm: 0.0051, Train Linf Norm: 0.9089, Test Linf Norm: 0.3914\n",
            "Epoch 59: Train Loss: 0.0025, Test Loss: 0.0024, Train L1 Norm: 0.0070, Test L1 Norm: 0.0047, Train Linf Norm: 0.9269, Test Linf Norm: 0.4296\n",
            "Epoch 60: Train Loss: 0.0025, Test Loss: 0.0027, Train L1 Norm: 0.0070, Test L1 Norm: 0.0048, Train Linf Norm: 0.9125, Test Linf Norm: 0.3985\n",
            "Epoch 61: Train Loss: 0.0025, Test Loss: 0.0024, Train L1 Norm: 0.0069, Test L1 Norm: 0.0047, Train Linf Norm: 0.9052, Test Linf Norm: 0.4114\n",
            "Epoch 62: Train Loss: 0.0025, Test Loss: 0.0023, Train L1 Norm: 0.0070, Test L1 Norm: 0.0045, Train Linf Norm: 0.9566, Test Linf Norm: 0.3783\n",
            "Epoch 63: Train Loss: 0.0026, Test Loss: 0.0032, Train L1 Norm: 0.0066, Test L1 Norm: 0.0054, Train Linf Norm: 0.8267, Test Linf Norm: 0.4668\n",
            "Epoch 64: Train Loss: 0.0025, Test Loss: 0.0025, Train L1 Norm: 0.0068, Test L1 Norm: 0.0051, Train Linf Norm: 0.9065, Test Linf Norm: 0.3802\n",
            "Epoch 65: Train Loss: 0.0025, Test Loss: 0.0022, Train L1 Norm: 0.0066, Test L1 Norm: 0.0053, Train Linf Norm: 0.8503, Test Linf Norm: 0.4603\n"
          ]
        },
        {
          "output_type": "stream",
          "name": "stderr",
          "text": [
            "\u001b[32m[I 2023-05-13 13:56:18,986]\u001b[0m Trial 94 finished with value: 0.004712728718540166 and parameters: {'n_layers': 3, 'n_units_0': 43, 'n_units_1': 146, 'n_units_2': 117, 'hidden_activation': 'ReLU', 'output_activation': 'Linear', 'loss': 'MAE', 'optimizer': 'Adam', 'lr': 0.0004904675811823045, 'batch_size': 217, 'n_epochs': 66, 'scheduler': 'ReduceLROnPlateau'}. Best is trial 42 with value: 0.004305121898895595.\u001b[0m\n"
          ]
        },
        {
          "output_type": "stream",
          "name": "stdout",
          "text": [
            "Epoch 66: Train Loss: 0.0025, Test Loss: 0.0024, Train L1 Norm: 0.0067, Test L1 Norm: 0.0047, Train Linf Norm: 0.8915, Test Linf Norm: 0.3402\n"
          ]
        },
        {
          "output_type": "stream",
          "name": "stderr",
          "text": [
            "\u001b[32m[I 2023-05-13 13:56:20,494]\u001b[0m Trial 95 pruned. \u001b[0m\n"
          ]
        },
        {
          "output_type": "stream",
          "name": "stdout",
          "text": [
            "Epoch 1: Train Loss: 0.1426, Test Loss: 0.0013, Train L1 Norm: 0.5509, Test L1 Norm: 0.1291, Train Linf Norm: 64.7012, Test Linf Norm: 13.8614\n"
          ]
        },
        {
          "output_type": "stream",
          "name": "stderr",
          "text": [
            "\u001b[32m[I 2023-05-13 13:56:21,816]\u001b[0m Trial 96 pruned. \u001b[0m\n"
          ]
        },
        {
          "output_type": "stream",
          "name": "stdout",
          "text": [
            "Epoch 1: Train Loss: 0.1794, Test Loss: 0.0081, Train L1 Norm: 1.2256, Test L1 Norm: 0.2107, Train Linf Norm: 155.7384, Test Linf Norm: 14.4780\n"
          ]
        },
        {
          "output_type": "stream",
          "name": "stderr",
          "text": [
            "\u001b[32m[I 2023-05-13 13:56:23,268]\u001b[0m Trial 97 pruned. \u001b[0m\n"
          ]
        },
        {
          "output_type": "stream",
          "name": "stdout",
          "text": [
            "Epoch 1: Train Loss: 0.2696, Test Loss: 0.0199, Train L1 Norm: 0.5748, Test L1 Norm: 0.0584, Train Linf Norm: 68.5683, Test Linf Norm: 4.8552\n"
          ]
        },
        {
          "output_type": "stream",
          "name": "stderr",
          "text": [
            "\u001b[32m[I 2023-05-13 13:56:24,679]\u001b[0m Trial 98 pruned. \u001b[0m\n"
          ]
        },
        {
          "output_type": "stream",
          "name": "stdout",
          "text": [
            "Epoch 1: Train Loss: 0.7063, Test Loss: 0.1341, Train L1 Norm: 0.7178, Test L1 Norm: 0.2294, Train Linf Norm: 66.8883, Test Linf Norm: 13.2259\n"
          ]
        },
        {
          "output_type": "stream",
          "name": "stderr",
          "text": [
            "\u001b[32m[I 2023-05-13 13:56:26,746]\u001b[0m Trial 99 pruned. \u001b[0m\n"
          ]
        },
        {
          "output_type": "stream",
          "name": "stdout",
          "text": [
            "Epoch 1: Train Loss: 0.1926, Test Loss: 0.0164, Train L1 Norm: 0.3513, Test L1 Norm: 0.0876, Train Linf Norm: 42.6823, Test Linf Norm: 12.7078\n"
          ]
        },
        {
          "output_type": "stream",
          "name": "stderr",
          "text": [
            "\u001b[32m[I 2023-05-13 13:56:28,212]\u001b[0m Trial 100 pruned. \u001b[0m\n"
          ]
        },
        {
          "output_type": "stream",
          "name": "stdout",
          "text": [
            "Epoch 1: Train Loss: 1.2810, Test Loss: 0.8486, Train L1 Norm: 2.6341, Test L1 Norm: 2.3361, Train Linf Norm: 359.8789, Test Linf Norm: 292.1426\n"
          ]
        },
        {
          "output_type": "stream",
          "name": "stderr",
          "text": [
            "\u001b[32m[I 2023-05-13 13:56:29,585]\u001b[0m Trial 101 pruned. \u001b[0m\n"
          ]
        },
        {
          "output_type": "stream",
          "name": "stdout",
          "text": [
            "Epoch 1: Train Loss: 0.2817, Test Loss: 0.0238, Train L1 Norm: 0.8690, Test L1 Norm: 0.1332, Train Linf Norm: 140.5275, Test Linf Norm: 12.8376\n"
          ]
        },
        {
          "output_type": "stream",
          "name": "stderr",
          "text": [
            "\u001b[32m[I 2023-05-13 13:56:31,142]\u001b[0m Trial 102 pruned. \u001b[0m\n"
          ]
        },
        {
          "output_type": "stream",
          "name": "stdout",
          "text": [
            "Epoch 1: Train Loss: 0.2403, Test Loss: 0.0276, Train L1 Norm: 0.7057, Test L1 Norm: 0.0768, Train Linf Norm: 112.0801, Test Linf Norm: 8.7575\n"
          ]
        },
        {
          "output_type": "stream",
          "name": "stderr",
          "text": [
            "\u001b[32m[I 2023-05-13 13:56:32,495]\u001b[0m Trial 103 pruned. \u001b[0m\n"
          ]
        },
        {
          "output_type": "stream",
          "name": "stdout",
          "text": [
            "Epoch 1: Train Loss: 0.3355, Test Loss: 0.0171, Train L1 Norm: 0.7572, Test L1 Norm: 0.0614, Train Linf Norm: 121.3500, Test Linf Norm: 8.2259\n"
          ]
        },
        {
          "output_type": "stream",
          "name": "stderr",
          "text": [
            "\u001b[32m[I 2023-05-13 13:56:33,989]\u001b[0m Trial 104 pruned. \u001b[0m\n"
          ]
        },
        {
          "output_type": "stream",
          "name": "stdout",
          "text": [
            "Epoch 1: Train Loss: 0.2804, Test Loss: 0.0218, Train L1 Norm: 0.7263, Test L1 Norm: 0.0608, Train Linf Norm: 94.7142, Test Linf Norm: 5.7864\n",
            "Epoch 1: Train Loss: 0.1909, Test Loss: 0.0174, Train L1 Norm: 0.3775, Test L1 Norm: 0.0551, Train Linf Norm: 40.8543, Test Linf Norm: 5.5526\n"
          ]
        },
        {
          "output_type": "stream",
          "name": "stderr",
          "text": [
            "\u001b[32m[I 2023-05-13 13:56:36,870]\u001b[0m Trial 105 pruned. \u001b[0m\n"
          ]
        },
        {
          "output_type": "stream",
          "name": "stdout",
          "text": [
            "Epoch 2: Train Loss: 0.0337, Test Loss: 0.0404, Train L1 Norm: 0.0977, Test L1 Norm: 0.1454, Train Linf Norm: 14.7059, Test Linf Norm: 15.7505\n"
          ]
        },
        {
          "output_type": "stream",
          "name": "stderr",
          "text": [
            "\u001b[32m[I 2023-05-13 13:56:38,733]\u001b[0m Trial 106 pruned. \u001b[0m\n"
          ]
        },
        {
          "output_type": "stream",
          "name": "stdout",
          "text": [
            "Epoch 1: Train Loss: 0.8088, Test Loss: 0.3111, Train L1 Norm: 3.6038, Test L1 Norm: 0.7444, Train Linf Norm: 517.2020, Test Linf Norm: 107.3351\n"
          ]
        },
        {
          "output_type": "stream",
          "name": "stderr",
          "text": [
            "\u001b[32m[I 2023-05-13 13:56:40,552]\u001b[0m Trial 107 pruned. \u001b[0m\n"
          ]
        },
        {
          "output_type": "stream",
          "name": "stdout",
          "text": [
            "Epoch 1: Train Loss: 0.3561, Test Loss: 0.0250, Train L1 Norm: 0.4966, Test L1 Norm: 0.0720, Train Linf Norm: 49.9604, Test Linf Norm: 8.7116\n"
          ]
        },
        {
          "output_type": "stream",
          "name": "stderr",
          "text": [
            "\u001b[32m[I 2023-05-13 13:56:41,962]\u001b[0m Trial 108 pruned. \u001b[0m\n"
          ]
        },
        {
          "output_type": "stream",
          "name": "stdout",
          "text": [
            "Epoch 1: Train Loss: 0.0663, Test Loss: 0.0012, Train L1 Norm: 0.6012, Test L1 Norm: 0.1076, Train Linf Norm: 85.6808, Test Linf Norm: 12.8346\n"
          ]
        },
        {
          "output_type": "stream",
          "name": "stderr",
          "text": [
            "\u001b[32m[I 2023-05-13 13:56:43,271]\u001b[0m Trial 109 pruned. \u001b[0m\n"
          ]
        },
        {
          "output_type": "stream",
          "name": "stdout",
          "text": [
            "Epoch 1: Train Loss: 0.2082, Test Loss: 0.0580, Train L1 Norm: 0.3487, Test L1 Norm: 0.0853, Train Linf Norm: 44.3231, Test Linf Norm: 7.2440\n"
          ]
        },
        {
          "output_type": "stream",
          "name": "stderr",
          "text": [
            "\u001b[32m[I 2023-05-13 13:56:44,777]\u001b[0m Trial 110 pruned. \u001b[0m\n"
          ]
        },
        {
          "output_type": "stream",
          "name": "stdout",
          "text": [
            "Epoch 1: Train Loss: 0.2250, Test Loss: 0.0043, Train L1 Norm: 0.8747, Test L1 Norm: 0.2413, Train Linf Norm: 105.3967, Test Linf Norm: 23.4128\n"
          ]
        },
        {
          "output_type": "stream",
          "name": "stderr",
          "text": [
            "\u001b[32m[I 2023-05-13 13:56:46,260]\u001b[0m Trial 111 pruned. \u001b[0m\n"
          ]
        },
        {
          "output_type": "stream",
          "name": "stdout",
          "text": [
            "Epoch 1: Train Loss: 0.7474, Test Loss: 0.0017, Train L1 Norm: 0.6820, Test L1 Norm: 0.1302, Train Linf Norm: 83.0558, Test Linf Norm: 10.4599\n"
          ]
        },
        {
          "output_type": "stream",
          "name": "stderr",
          "text": [
            "\u001b[32m[I 2023-05-13 13:56:47,657]\u001b[0m Trial 112 pruned. \u001b[0m\n"
          ]
        },
        {
          "output_type": "stream",
          "name": "stdout",
          "text": [
            "Epoch 1: Train Loss: 0.5205, Test Loss: 0.0009, Train L1 Norm: 0.4963, Test L1 Norm: 0.0816, Train Linf Norm: 56.2450, Test Linf Norm: 6.6891\n",
            "Epoch 1: Train Loss: 0.2468, Test Loss: 0.0258, Train L1 Norm: 0.4323, Test L1 Norm: 0.0378, Train Linf Norm: 56.7712, Test Linf Norm: 4.0838\n",
            "Epoch 2: Train Loss: 0.0379, Test Loss: 0.0737, Train L1 Norm: 0.0844, Test L1 Norm: 0.1191, Train Linf Norm: 11.4942, Test Linf Norm: 15.1674\n",
            "Epoch 3: Train Loss: 0.0269, Test Loss: 0.0383, Train L1 Norm: 0.0602, Test L1 Norm: 0.0895, Train Linf Norm: 8.9628, Test Linf Norm: 12.2849\n",
            "Epoch 4: Train Loss: 0.0327, Test Loss: 0.0180, Train L1 Norm: 0.0595, Test L1 Norm: 0.0369, Train Linf Norm: 8.0785, Test Linf Norm: 4.6187\n",
            "Epoch 5: Train Loss: 0.0301, Test Loss: 0.0530, Train L1 Norm: 0.0548, Test L1 Norm: 0.0345, Train Linf Norm: 7.1981, Test Linf Norm: 2.4227\n",
            "Epoch 6: Train Loss: 0.0263, Test Loss: 0.0324, Train L1 Norm: 0.0467, Test L1 Norm: 0.0585, Train Linf Norm: 6.1433, Test Linf Norm: 7.8760\n",
            "Epoch 7: Train Loss: 0.0280, Test Loss: 0.0132, Train L1 Norm: 0.0483, Test L1 Norm: 0.0701, Train Linf Norm: 6.2659, Test Linf Norm: 9.9161\n",
            "Epoch 8: Train Loss: 0.0293, Test Loss: 0.0107, Train L1 Norm: 0.0528, Test L1 Norm: 0.0217, Train Linf Norm: 7.1395, Test Linf Norm: 2.4709\n",
            "Epoch 9: Train Loss: 0.0212, Test Loss: 0.0494, Train L1 Norm: 0.0382, Test L1 Norm: 0.0836, Train Linf Norm: 5.1506, Test Linf Norm: 11.1095\n",
            "Epoch 10: Train Loss: 0.0246, Test Loss: 0.0158, Train L1 Norm: 0.0464, Test L1 Norm: 0.0538, Train Linf Norm: 6.4305, Test Linf Norm: 7.4495\n",
            "Epoch 11: Train Loss: 0.0229, Test Loss: 0.0188, Train L1 Norm: 0.0386, Test L1 Norm: 0.0476, Train Linf Norm: 5.0016, Test Linf Norm: 7.7152\n",
            "Epoch 12: Train Loss: 0.0209, Test Loss: 0.0427, Train L1 Norm: 0.0434, Test L1 Norm: 0.0251, Train Linf Norm: 6.3491, Test Linf Norm: 1.5987\n",
            "Epoch 13: Train Loss: 0.0225, Test Loss: 0.0405, Train L1 Norm: 0.0423, Test L1 Norm: 0.0719, Train Linf Norm: 5.8028, Test Linf Norm: 8.1087\n",
            "Epoch 14: Train Loss: 0.0203, Test Loss: 0.0116, Train L1 Norm: 0.0350, Test L1 Norm: 0.0252, Train Linf Norm: 4.5869, Test Linf Norm: 3.4067\n",
            "Epoch 15: Train Loss: 0.0091, Test Loss: 0.0150, Train L1 Norm: 0.0241, Test L1 Norm: 0.0197, Train Linf Norm: 3.7677, Test Linf Norm: 1.9078\n",
            "Epoch 16: Train Loss: 0.0104, Test Loss: 0.0112, Train L1 Norm: 0.0239, Test L1 Norm: 0.0145, Train Linf Norm: 3.4862, Test Linf Norm: 1.5791\n",
            "Epoch 17: Train Loss: 0.0082, Test Loss: 0.0153, Train L1 Norm: 0.0220, Test L1 Norm: 0.0213, Train Linf Norm: 3.2667, Test Linf Norm: 2.8100\n",
            "Epoch 18: Train Loss: 0.0124, Test Loss: 0.0178, Train L1 Norm: 0.0286, Test L1 Norm: 0.0396, Train Linf Norm: 4.1636, Test Linf Norm: 5.3770\n",
            "Epoch 19: Train Loss: 0.0119, Test Loss: 0.0060, Train L1 Norm: 0.0253, Test L1 Norm: 0.0100, Train Linf Norm: 3.5984, Test Linf Norm: 0.9753\n",
            "Epoch 20: Train Loss: 0.0102, Test Loss: 0.0092, Train L1 Norm: 0.0199, Test L1 Norm: 0.0172, Train Linf Norm: 2.6794, Test Linf Norm: 1.8186\n",
            "Epoch 21: Train Loss: 0.0134, Test Loss: 0.0153, Train L1 Norm: 0.0234, Test L1 Norm: 0.0331, Train Linf Norm: 2.9931, Test Linf Norm: 4.3164\n",
            "Epoch 22: Train Loss: 0.0100, Test Loss: 0.0054, Train L1 Norm: 0.0212, Test L1 Norm: 0.0150, Train Linf Norm: 3.0251, Test Linf Norm: 1.9857\n",
            "Epoch 23: Train Loss: 0.0079, Test Loss: 0.0061, Train L1 Norm: 0.0193, Test L1 Norm: 0.0120, Train Linf Norm: 2.8197, Test Linf Norm: 1.3569\n",
            "Epoch 24: Train Loss: 0.0101, Test Loss: 0.0157, Train L1 Norm: 0.0216, Test L1 Norm: 0.0237, Train Linf Norm: 3.1365, Test Linf Norm: 3.0339\n",
            "Epoch 25: Train Loss: 0.0122, Test Loss: 0.0267, Train L1 Norm: 0.0284, Test L1 Norm: 0.0965, Train Linf Norm: 4.1598, Test Linf Norm: 13.5243\n",
            "Epoch 26: Train Loss: 0.0122, Test Loss: 0.0159, Train L1 Norm: 0.0247, Test L1 Norm: 0.0245, Train Linf Norm: 3.5255, Test Linf Norm: 2.7489\n",
            "Epoch 27: Train Loss: 0.0119, Test Loss: 0.0088, Train L1 Norm: 0.0271, Test L1 Norm: 0.0205, Train Linf Norm: 4.0438, Test Linf Norm: 2.6478\n",
            "Epoch 28: Train Loss: 0.0101, Test Loss: 0.0370, Train L1 Norm: 0.0204, Test L1 Norm: 0.0405, Train Linf Norm: 2.8891, Test Linf Norm: 4.3588\n",
            "Epoch 29: Train Loss: 0.0059, Test Loss: 0.0046, Train L1 Norm: 0.0137, Test L1 Norm: 0.0095, Train Linf Norm: 1.9738, Test Linf Norm: 1.1574\n",
            "Epoch 30: Train Loss: 0.0055, Test Loss: 0.0036, Train L1 Norm: 0.0144, Test L1 Norm: 0.0085, Train Linf Norm: 2.2039, Test Linf Norm: 0.8308\n",
            "Epoch 31: Train Loss: 0.0046, Test Loss: 0.0046, Train L1 Norm: 0.0124, Test L1 Norm: 0.0113, Train Linf Norm: 1.7873, Test Linf Norm: 1.4876\n",
            "Epoch 32: Train Loss: 0.0051, Test Loss: 0.0047, Train L1 Norm: 0.0135, Test L1 Norm: 0.0134, Train Linf Norm: 1.9588, Test Linf Norm: 1.8724\n",
            "Epoch 33: Train Loss: 0.0051, Test Loss: 0.0088, Train L1 Norm: 0.0130, Test L1 Norm: 0.0167, Train Linf Norm: 1.9340, Test Linf Norm: 2.1382\n",
            "Epoch 34: Train Loss: 0.0055, Test Loss: 0.0033, Train L1 Norm: 0.0134, Test L1 Norm: 0.0114, Train Linf Norm: 1.9870, Test Linf Norm: 1.5244\n",
            "Epoch 35: Train Loss: 0.0068, Test Loss: 0.0060, Train L1 Norm: 0.0134, Test L1 Norm: 0.0083, Train Linf Norm: 1.7682, Test Linf Norm: 0.8846\n",
            "Epoch 36: Train Loss: 0.0051, Test Loss: 0.0051, Train L1 Norm: 0.0144, Test L1 Norm: 0.0128, Train Linf Norm: 2.2590, Test Linf Norm: 1.6127\n",
            "Epoch 37: Train Loss: 0.0054, Test Loss: 0.0034, Train L1 Norm: 0.0131, Test L1 Norm: 0.0109, Train Linf Norm: 1.8367, Test Linf Norm: 1.5842\n",
            "Epoch 38: Train Loss: 0.0047, Test Loss: 0.0065, Train L1 Norm: 0.0141, Test L1 Norm: 0.0126, Train Linf Norm: 2.1992, Test Linf Norm: 1.6541\n",
            "Epoch 39: Train Loss: 0.0062, Test Loss: 0.0037, Train L1 Norm: 0.0143, Test L1 Norm: 0.0087, Train Linf Norm: 2.0030, Test Linf Norm: 0.9974\n",
            "Epoch 40: Train Loss: 0.0061, Test Loss: 0.0096, Train L1 Norm: 0.0102, Test L1 Norm: 0.0208, Train Linf Norm: 1.1867, Test Linf Norm: 2.8073\n",
            "Epoch 41: Train Loss: 0.0033, Test Loss: 0.0032, Train L1 Norm: 0.0088, Test L1 Norm: 0.0118, Train Linf Norm: 1.2186, Test Linf Norm: 1.5133\n",
            "Epoch 42: Train Loss: 0.0032, Test Loss: 0.0057, Train L1 Norm: 0.0088, Test L1 Norm: 0.0082, Train Linf Norm: 1.2348, Test Linf Norm: 0.9294\n",
            "Epoch 43: Train Loss: 0.0037, Test Loss: 0.0030, Train L1 Norm: 0.0090, Test L1 Norm: 0.0086, Train Linf Norm: 1.2043, Test Linf Norm: 1.0483\n",
            "Epoch 44: Train Loss: 0.0035, Test Loss: 0.0033, Train L1 Norm: 0.0095, Test L1 Norm: 0.0059, Train Linf Norm: 1.3807, Test Linf Norm: 0.5401\n",
            "Epoch 45: Train Loss: 0.0033, Test Loss: 0.0046, Train L1 Norm: 0.0087, Test L1 Norm: 0.0092, Train Linf Norm: 1.1786, Test Linf Norm: 1.1465\n",
            "Epoch 46: Train Loss: 0.0035, Test Loss: 0.0054, Train L1 Norm: 0.0086, Test L1 Norm: 0.0081, Train Linf Norm: 1.1691, Test Linf Norm: 0.8859\n",
            "Epoch 47: Train Loss: 0.0035, Test Loss: 0.0074, Train L1 Norm: 0.0083, Test L1 Norm: 0.0107, Train Linf Norm: 1.0978, Test Linf Norm: 1.2877\n",
            "Epoch 48: Train Loss: 0.0032, Test Loss: 0.0036, Train L1 Norm: 0.0078, Test L1 Norm: 0.0083, Train Linf Norm: 1.0143, Test Linf Norm: 0.9223\n",
            "Epoch 49: Train Loss: 0.0034, Test Loss: 0.0033, Train L1 Norm: 0.0079, Test L1 Norm: 0.0059, Train Linf Norm: 1.0306, Test Linf Norm: 0.6314\n",
            "Epoch 50: Train Loss: 0.0027, Test Loss: 0.0027, Train L1 Norm: 0.0080, Test L1 Norm: 0.0058, Train Linf Norm: 1.1241, Test Linf Norm: 0.6444\n",
            "Epoch 51: Train Loss: 0.0027, Test Loss: 0.0032, Train L1 Norm: 0.0070, Test L1 Norm: 0.0052, Train Linf Norm: 0.9203, Test Linf Norm: 0.4461\n",
            "Epoch 52: Train Loss: 0.0028, Test Loss: 0.0026, Train L1 Norm: 0.0075, Test L1 Norm: 0.0058, Train Linf Norm: 1.0355, Test Linf Norm: 0.5643\n",
            "Epoch 53: Train Loss: 0.0028, Test Loss: 0.0052, Train L1 Norm: 0.0080, Test L1 Norm: 0.0071, Train Linf Norm: 1.1324, Test Linf Norm: 0.7647\n",
            "Epoch 54: Train Loss: 0.0028, Test Loss: 0.0025, Train L1 Norm: 0.0078, Test L1 Norm: 0.0066, Train Linf Norm: 1.1166, Test Linf Norm: 0.7910\n",
            "Epoch 55: Train Loss: 0.0028, Test Loss: 0.0026, Train L1 Norm: 0.0081, Test L1 Norm: 0.0078, Train Linf Norm: 1.1940, Test Linf Norm: 1.0498\n",
            "Epoch 56: Train Loss: 0.0026, Test Loss: 0.0025, Train L1 Norm: 0.0073, Test L1 Norm: 0.0049, Train Linf Norm: 1.0209, Test Linf Norm: 0.3983\n",
            "Epoch 57: Train Loss: 0.0028, Test Loss: 0.0027, Train L1 Norm: 0.0070, Test L1 Norm: 0.0048, Train Linf Norm: 0.9255, Test Linf Norm: 0.4479\n",
            "Epoch 58: Train Loss: 0.0027, Test Loss: 0.0034, Train L1 Norm: 0.0077, Test L1 Norm: 0.0059, Train Linf Norm: 1.0786, Test Linf Norm: 0.6500\n",
            "Epoch 59: Train Loss: 0.0027, Test Loss: 0.0033, Train L1 Norm: 0.0075, Test L1 Norm: 0.0054, Train Linf Norm: 1.0572, Test Linf Norm: 0.4640\n",
            "Epoch 60: Train Loss: 0.0027, Test Loss: 0.0027, Train L1 Norm: 0.0066, Test L1 Norm: 0.0059, Train Linf Norm: 0.8598, Test Linf Norm: 0.6744\n",
            "Epoch 61: Train Loss: 0.0026, Test Loss: 0.0031, Train L1 Norm: 0.0071, Test L1 Norm: 0.0058, Train Linf Norm: 0.9713, Test Linf Norm: 0.5822\n",
            "Epoch 62: Train Loss: 0.0026, Test Loss: 0.0024, Train L1 Norm: 0.0073, Test L1 Norm: 0.0050, Train Linf Norm: 1.0198, Test Linf Norm: 0.4958\n",
            "Epoch 63: Train Loss: 0.0026, Test Loss: 0.0025, Train L1 Norm: 0.0075, Test L1 Norm: 0.0061, Train Linf Norm: 1.0476, Test Linf Norm: 0.7281\n",
            "Epoch 64: Train Loss: 0.0026, Test Loss: 0.0028, Train L1 Norm: 0.0063, Test L1 Norm: 0.0075, Train Linf Norm: 0.7531, Test Linf Norm: 1.0500\n",
            "Epoch 65: Train Loss: 0.0026, Test Loss: 0.0023, Train L1 Norm: 0.0066, Test L1 Norm: 0.0062, Train Linf Norm: 0.8512, Test Linf Norm: 0.7855\n",
            "Epoch 66: Train Loss: 0.0026, Test Loss: 0.0025, Train L1 Norm: 0.0067, Test L1 Norm: 0.0086, Train Linf Norm: 0.8582, Test Linf Norm: 1.2938\n",
            "Epoch 67: Train Loss: 0.0026, Test Loss: 0.0023, Train L1 Norm: 0.0069, Test L1 Norm: 0.0072, Train Linf Norm: 0.8991, Test Linf Norm: 1.0236\n",
            "Epoch 68: Train Loss: 0.0026, Test Loss: 0.0025, Train L1 Norm: 0.0069, Test L1 Norm: 0.0067, Train Linf Norm: 0.9574, Test Linf Norm: 0.9323\n",
            "Epoch 69: Train Loss: 0.0026, Test Loss: 0.0029, Train L1 Norm: 0.0066, Test L1 Norm: 0.0080, Train Linf Norm: 0.8821, Test Linf Norm: 1.1559\n",
            "Epoch 70: Train Loss: 0.0026, Test Loss: 0.0023, Train L1 Norm: 0.0070, Test L1 Norm: 0.0066, Train Linf Norm: 0.9766, Test Linf Norm: 0.9020\n"
          ]
        },
        {
          "output_type": "stream",
          "name": "stderr",
          "text": [
            "\u001b[32m[I 2023-05-13 13:58:29,523]\u001b[0m Trial 113 finished with value: 0.006478358299820684 and parameters: {'n_layers': 3, 'n_units_0': 91, 'n_units_1': 203, 'n_units_2': 93, 'hidden_activation': 'ReLU', 'output_activation': 'Linear', 'loss': 'MAE', 'optimizer': 'Adam', 'lr': 0.0004065056426611837, 'batch_size': 238, 'n_epochs': 71, 'scheduler': 'ReduceLROnPlateau'}. Best is trial 42 with value: 0.004305121898895595.\u001b[0m\n"
          ]
        },
        {
          "output_type": "stream",
          "name": "stdout",
          "text": [
            "Epoch 71: Train Loss: 0.0025, Test Loss: 0.0029, Train L1 Norm: 0.0062, Test L1 Norm: 0.0065, Train Linf Norm: 0.8027, Test Linf Norm: 0.8686\n",
            "Epoch 1: Train Loss: 0.2701, Test Loss: 0.0392, Train L1 Norm: 0.4178, Test L1 Norm: 0.0538, Train Linf Norm: 50.0777, Test Linf Norm: 6.2827\n"
          ]
        },
        {
          "output_type": "stream",
          "name": "stderr",
          "text": [
            "\u001b[32m[I 2023-05-13 13:58:33,019]\u001b[0m Trial 114 pruned. \u001b[0m\n"
          ]
        },
        {
          "output_type": "stream",
          "name": "stdout",
          "text": [
            "Epoch 2: Train Loss: 0.0405, Test Loss: 0.0850, Train L1 Norm: 0.0650, Test L1 Norm: 0.1156, Train Linf Norm: 8.2248, Test Linf Norm: 15.1215\n",
            "Epoch 1: Train Loss: 0.2038, Test Loss: 0.0330, Train L1 Norm: 0.3308, Test L1 Norm: 0.0509, Train Linf Norm: 43.2782, Test Linf Norm: 4.4093\n",
            "Epoch 2: Train Loss: 0.0359, Test Loss: 0.0139, Train L1 Norm: 0.0562, Test L1 Norm: 0.0360, Train Linf Norm: 7.1957, Test Linf Norm: 3.8109\n",
            "Epoch 3: Train Loss: 0.0340, Test Loss: 0.0359, Train L1 Norm: 0.0510, Test L1 Norm: 0.0402, Train Linf Norm: 6.3590, Test Linf Norm: 3.3025\n",
            "Epoch 4: Train Loss: 0.0228, Test Loss: 0.0644, Train L1 Norm: 0.0484, Test L1 Norm: 0.0774, Train Linf Norm: 7.0835, Test Linf Norm: 5.1308\n",
            "Epoch 5: Train Loss: 0.0289, Test Loss: 0.0300, Train L1 Norm: 0.0467, Test L1 Norm: 0.0390, Train Linf Norm: 6.0376, Test Linf Norm: 3.2897\n",
            "Epoch 6: Train Loss: 0.0302, Test Loss: 0.0099, Train L1 Norm: 0.0388, Test L1 Norm: 0.0188, Train Linf Norm: 4.3859, Test Linf Norm: 1.8186\n",
            "Epoch 7: Train Loss: 0.0251, Test Loss: 0.0228, Train L1 Norm: 0.0440, Test L1 Norm: 0.0714, Train Linf Norm: 6.0843, Test Linf Norm: 7.0903\n",
            "Epoch 8: Train Loss: 0.0275, Test Loss: 0.0137, Train L1 Norm: 0.0413, Test L1 Norm: 0.0361, Train Linf Norm: 5.0523, Test Linf Norm: 3.3989\n",
            "Epoch 9: Train Loss: 0.0285, Test Loss: 0.0381, Train L1 Norm: 0.0434, Test L1 Norm: 0.0512, Train Linf Norm: 5.6902, Test Linf Norm: 5.0460\n",
            "Epoch 10: Train Loss: 0.0279, Test Loss: 0.0524, Train L1 Norm: 0.0461, Test L1 Norm: 0.0436, Train Linf Norm: 6.4772, Test Linf Norm: 4.0773\n",
            "Epoch 11: Train Loss: 0.0291, Test Loss: 0.0213, Train L1 Norm: 0.0413, Test L1 Norm: 0.0359, Train Linf Norm: 5.2051, Test Linf Norm: 3.2184\n",
            "Epoch 12: Train Loss: 0.0281, Test Loss: 0.0708, Train L1 Norm: 0.0442, Test L1 Norm: 0.0405, Train Linf Norm: 6.0413, Test Linf Norm: 1.5480\n",
            "Epoch 13: Train Loss: 0.0112, Test Loss: 0.0067, Train L1 Norm: 0.0279, Test L1 Norm: 0.0192, Train Linf Norm: 4.5130, Test Linf Norm: 2.1156\n",
            "Epoch 14: Train Loss: 0.0084, Test Loss: 0.0137, Train L1 Norm: 0.0180, Test L1 Norm: 0.0128, Train Linf Norm: 2.5407, Test Linf Norm: 1.1353\n",
            "Epoch 15: Train Loss: 0.0111, Test Loss: 0.0123, Train L1 Norm: 0.0208, Test L1 Norm: 0.0209, Train Linf Norm: 2.9793, Test Linf Norm: 1.7668\n",
            "Epoch 16: Train Loss: 0.0131, Test Loss: 0.0098, Train L1 Norm: 0.0193, Test L1 Norm: 0.0158, Train Linf Norm: 2.4181, Test Linf Norm: 1.3492\n",
            "Epoch 17: Train Loss: 0.0105, Test Loss: 0.0068, Train L1 Norm: 0.0177, Test L1 Norm: 0.0123, Train Linf Norm: 2.2570, Test Linf Norm: 0.9915\n",
            "Epoch 18: Train Loss: 0.0108, Test Loss: 0.0168, Train L1 Norm: 0.0223, Test L1 Norm: 0.0184, Train Linf Norm: 3.3986, Test Linf Norm: 1.2681\n",
            "Epoch 19: Train Loss: 0.0126, Test Loss: 0.0080, Train L1 Norm: 0.0263, Test L1 Norm: 0.0145, Train Linf Norm: 4.1028, Test Linf Norm: 1.1979\n",
            "Epoch 20: Train Loss: 0.0052, Test Loss: 0.0051, Train L1 Norm: 0.0139, Test L1 Norm: 0.0114, Train Linf Norm: 2.2079, Test Linf Norm: 0.9058\n",
            "Epoch 21: Train Loss: 0.0052, Test Loss: 0.0066, Train L1 Norm: 0.0137, Test L1 Norm: 0.0148, Train Linf Norm: 2.1547, Test Linf Norm: 1.4371\n",
            "Epoch 22: Train Loss: 0.0067, Test Loss: 0.0090, Train L1 Norm: 0.0140, Test L1 Norm: 0.0107, Train Linf Norm: 2.0705, Test Linf Norm: 0.9128\n",
            "Epoch 23: Train Loss: 0.0064, Test Loss: 0.0052, Train L1 Norm: 0.0122, Test L1 Norm: 0.0181, Train Linf Norm: 1.6425, Test Linf Norm: 1.8652\n",
            "Epoch 24: Train Loss: 0.0063, Test Loss: 0.0055, Train L1 Norm: 0.0138, Test L1 Norm: 0.0122, Train Linf Norm: 2.0231, Test Linf Norm: 1.1635\n",
            "Epoch 25: Train Loss: 0.0060, Test Loss: 0.0047, Train L1 Norm: 0.0120, Test L1 Norm: 0.0062, Train Linf Norm: 1.6809, Test Linf Norm: 0.4669\n",
            "Epoch 26: Train Loss: 0.0055, Test Loss: 0.0038, Train L1 Norm: 0.0104, Test L1 Norm: 0.0082, Train Linf Norm: 1.3160, Test Linf Norm: 0.7746\n",
            "Epoch 27: Train Loss: 0.0069, Test Loss: 0.0039, Train L1 Norm: 0.0130, Test L1 Norm: 0.0076, Train Linf Norm: 1.8098, Test Linf Norm: 0.6446\n",
            "Epoch 28: Train Loss: 0.0052, Test Loss: 0.0043, Train L1 Norm: 0.0104, Test L1 Norm: 0.0090, Train Linf Norm: 1.4131, Test Linf Norm: 0.8853\n",
            "Epoch 29: Train Loss: 0.0060, Test Loss: 0.0058, Train L1 Norm: 0.0110, Test L1 Norm: 0.0072, Train Linf Norm: 1.4622, Test Linf Norm: 0.5387\n",
            "Epoch 30: Train Loss: 0.0060, Test Loss: 0.0062, Train L1 Norm: 0.0115, Test L1 Norm: 0.0126, Train Linf Norm: 1.5257, Test Linf Norm: 1.0778\n",
            "Epoch 31: Train Loss: 0.0060, Test Loss: 0.0047, Train L1 Norm: 0.0119, Test L1 Norm: 0.0105, Train Linf Norm: 1.7205, Test Linf Norm: 0.8745\n",
            "Epoch 32: Train Loss: 0.0052, Test Loss: 0.0055, Train L1 Norm: 0.0112, Test L1 Norm: 0.0092, Train Linf Norm: 1.6129, Test Linf Norm: 0.8180\n",
            "Epoch 33: Train Loss: 0.0035, Test Loss: 0.0040, Train L1 Norm: 0.0084, Test L1 Norm: 0.0057, Train Linf Norm: 1.2132, Test Linf Norm: 0.4455\n",
            "Epoch 34: Train Loss: 0.0036, Test Loss: 0.0039, Train L1 Norm: 0.0079, Test L1 Norm: 0.0064, Train Linf Norm: 1.0917, Test Linf Norm: 0.4704\n",
            "Epoch 35: Train Loss: 0.0034, Test Loss: 0.0030, Train L1 Norm: 0.0084, Test L1 Norm: 0.0080, Train Linf Norm: 1.2337, Test Linf Norm: 0.8148\n",
            "Epoch 36: Train Loss: 0.0035, Test Loss: 0.0033, Train L1 Norm: 0.0082, Test L1 Norm: 0.0067, Train Linf Norm: 1.2002, Test Linf Norm: 0.5957\n",
            "Epoch 37: Train Loss: 0.0039, Test Loss: 0.0036, Train L1 Norm: 0.0086, Test L1 Norm: 0.0081, Train Linf Norm: 1.2184, Test Linf Norm: 0.7150\n",
            "Epoch 38: Train Loss: 0.0036, Test Loss: 0.0036, Train L1 Norm: 0.0081, Test L1 Norm: 0.0094, Train Linf Norm: 1.0570, Test Linf Norm: 0.7540\n",
            "Epoch 39: Train Loss: 0.0038, Test Loss: 0.0033, Train L1 Norm: 0.0090, Test L1 Norm: 0.0082, Train Linf Norm: 1.3447, Test Linf Norm: 0.6364\n",
            "Epoch 40: Train Loss: 0.0034, Test Loss: 0.0041, Train L1 Norm: 0.0073, Test L1 Norm: 0.0066, Train Linf Norm: 1.0003, Test Linf Norm: 0.5476\n",
            "Epoch 41: Train Loss: 0.0038, Test Loss: 0.0037, Train L1 Norm: 0.0080, Test L1 Norm: 0.0056, Train Linf Norm: 1.1232, Test Linf Norm: 0.4266\n",
            "Epoch 42: Train Loss: 0.0029, Test Loss: 0.0029, Train L1 Norm: 0.0066, Test L1 Norm: 0.0056, Train Linf Norm: 0.8874, Test Linf Norm: 0.4290\n",
            "Epoch 43: Train Loss: 0.0029, Test Loss: 0.0028, Train L1 Norm: 0.0071, Test L1 Norm: 0.0053, Train Linf Norm: 1.0044, Test Linf Norm: 0.3908\n",
            "Epoch 44: Train Loss: 0.0028, Test Loss: 0.0029, Train L1 Norm: 0.0064, Test L1 Norm: 0.0053, Train Linf Norm: 0.8663, Test Linf Norm: 0.4382\n",
            "Epoch 45: Train Loss: 0.0029, Test Loss: 0.0026, Train L1 Norm: 0.0064, Test L1 Norm: 0.0052, Train Linf Norm: 0.8677, Test Linf Norm: 0.4293\n",
            "Epoch 46: Train Loss: 0.0029, Test Loss: 0.0028, Train L1 Norm: 0.0075, Test L1 Norm: 0.0059, Train Linf Norm: 1.1161, Test Linf Norm: 0.4675\n",
            "Epoch 47: Train Loss: 0.0028, Test Loss: 0.0025, Train L1 Norm: 0.0064, Test L1 Norm: 0.0065, Train Linf Norm: 0.8783, Test Linf Norm: 0.5576\n",
            "Epoch 48: Train Loss: 0.0028, Test Loss: 0.0027, Train L1 Norm: 0.0072, Test L1 Norm: 0.0050, Train Linf Norm: 1.0502, Test Linf Norm: 0.4426\n",
            "Epoch 49: Train Loss: 0.0027, Test Loss: 0.0042, Train L1 Norm: 0.0065, Test L1 Norm: 0.0071, Train Linf Norm: 0.9068, Test Linf Norm: 0.6132\n",
            "Epoch 50: Train Loss: 0.0028, Test Loss: 0.0025, Train L1 Norm: 0.0065, Test L1 Norm: 0.0059, Train Linf Norm: 0.8758, Test Linf Norm: 0.4799\n",
            "Epoch 51: Train Loss: 0.0029, Test Loss: 0.0040, Train L1 Norm: 0.0070, Test L1 Norm: 0.0059, Train Linf Norm: 1.0045, Test Linf Norm: 0.4329\n",
            "Epoch 52: Train Loss: 0.0028, Test Loss: 0.0028, Train L1 Norm: 0.0069, Test L1 Norm: 0.0044, Train Linf Norm: 1.0019, Test Linf Norm: 0.3484\n",
            "Epoch 53: Train Loss: 0.0027, Test Loss: 0.0026, Train L1 Norm: 0.0063, Test L1 Norm: 0.0056, Train Linf Norm: 0.8527, Test Linf Norm: 0.5108\n",
            "Epoch 54: Train Loss: 0.0028, Test Loss: 0.0030, Train L1 Norm: 0.0064, Test L1 Norm: 0.0063, Train Linf Norm: 0.9005, Test Linf Norm: 0.5376\n",
            "Epoch 55: Train Loss: 0.0027, Test Loss: 0.0024, Train L1 Norm: 0.0060, Test L1 Norm: 0.0060, Train Linf Norm: 0.8077, Test Linf Norm: 0.4699\n",
            "Epoch 56: Train Loss: 0.0027, Test Loss: 0.0031, Train L1 Norm: 0.0064, Test L1 Norm: 0.0058, Train Linf Norm: 0.8993, Test Linf Norm: 0.4864\n",
            "Epoch 57: Train Loss: 0.0028, Test Loss: 0.0024, Train L1 Norm: 0.0060, Test L1 Norm: 0.0050, Train Linf Norm: 0.8081, Test Linf Norm: 0.4072\n",
            "Epoch 58: Train Loss: 0.0026, Test Loss: 0.0039, Train L1 Norm: 0.0059, Test L1 Norm: 0.0055, Train Linf Norm: 0.7860, Test Linf Norm: 0.4345\n",
            "Epoch 59: Train Loss: 0.0027, Test Loss: 0.0026, Train L1 Norm: 0.0063, Test L1 Norm: 0.0060, Train Linf Norm: 0.8619, Test Linf Norm: 0.4899\n",
            "Epoch 60: Train Loss: 0.0026, Test Loss: 0.0025, Train L1 Norm: 0.0057, Test L1 Norm: 0.0045, Train Linf Norm: 0.7535, Test Linf Norm: 0.3463\n",
            "Epoch 61: Train Loss: 0.0027, Test Loss: 0.0025, Train L1 Norm: 0.0060, Test L1 Norm: 0.0062, Train Linf Norm: 0.8077, Test Linf Norm: 0.5135\n",
            "Epoch 62: Train Loss: 0.0024, Test Loss: 0.0028, Train L1 Norm: 0.0055, Test L1 Norm: 0.0053, Train Linf Norm: 0.7419, Test Linf Norm: 0.4113\n",
            "Epoch 63: Train Loss: 0.0023, Test Loss: 0.0022, Train L1 Norm: 0.0054, Test L1 Norm: 0.0054, Train Linf Norm: 0.7060, Test Linf Norm: 0.5021\n",
            "Epoch 64: Train Loss: 0.0024, Test Loss: 0.0023, Train L1 Norm: 0.0057, Test L1 Norm: 0.0060, Train Linf Norm: 0.7795, Test Linf Norm: 0.4832\n",
            "Epoch 65: Train Loss: 0.0024, Test Loss: 0.0026, Train L1 Norm: 0.0052, Test L1 Norm: 0.0058, Train Linf Norm: 0.6604, Test Linf Norm: 0.4617\n",
            "Epoch 66: Train Loss: 0.0023, Test Loss: 0.0022, Train L1 Norm: 0.0055, Test L1 Norm: 0.0056, Train Linf Norm: 0.7351, Test Linf Norm: 0.4670\n",
            "Epoch 67: Train Loss: 0.0024, Test Loss: 0.0026, Train L1 Norm: 0.0059, Test L1 Norm: 0.0059, Train Linf Norm: 0.8506, Test Linf Norm: 0.5091\n",
            "Epoch 68: Train Loss: 0.0023, Test Loss: 0.0024, Train L1 Norm: 0.0053, Test L1 Norm: 0.0053, Train Linf Norm: 0.7189, Test Linf Norm: 0.4492\n",
            "Epoch 69: Train Loss: 0.0023, Test Loss: 0.0023, Train L1 Norm: 0.0054, Test L1 Norm: 0.0057, Train Linf Norm: 0.6718, Test Linf Norm: 0.5092\n",
            "Epoch 70: Train Loss: 0.0023, Test Loss: 0.0024, Train L1 Norm: 0.0057, Test L1 Norm: 0.0057, Train Linf Norm: 0.8164, Test Linf Norm: 0.4510\n"
          ]
        },
        {
          "output_type": "stream",
          "name": "stderr",
          "text": [
            "\u001b[32m[I 2023-05-13 14:00:15,127]\u001b[0m Trial 115 finished with value: 0.004914968244452029 and parameters: {'n_layers': 3, 'n_units_0': 99, 'n_units_1': 194, 'n_units_2': 107, 'hidden_activation': 'ReLU', 'output_activation': 'Linear', 'loss': 'MAE', 'optimizer': 'Adam', 'lr': 0.00045455758406776965, 'batch_size': 236, 'n_epochs': 71, 'scheduler': 'ReduceLROnPlateau'}. Best is trial 42 with value: 0.004305121898895595.\u001b[0m\n"
          ]
        },
        {
          "output_type": "stream",
          "name": "stdout",
          "text": [
            "Epoch 71: Train Loss: 0.0023, Test Loss: 0.0024, Train L1 Norm: 0.0055, Test L1 Norm: 0.0049, Train Linf Norm: 0.7661, Test Linf Norm: 0.3902\n"
          ]
        },
        {
          "output_type": "stream",
          "name": "stderr",
          "text": [
            "\u001b[32m[I 2023-05-13 14:00:16,588]\u001b[0m Trial 116 pruned. \u001b[0m\n"
          ]
        },
        {
          "output_type": "stream",
          "name": "stdout",
          "text": [
            "Epoch 1: Train Loss: 0.3114, Test Loss: 0.0615, Train L1 Norm: 0.7757, Test L1 Norm: 0.1419, Train Linf Norm: 120.8214, Test Linf Norm: 19.3160\n",
            "Epoch 1: Train Loss: 0.3248, Test Loss: 0.0142, Train L1 Norm: 0.3560, Test L1 Norm: 0.0439, Train Linf Norm: 31.6887, Test Linf Norm: 5.4909\n",
            "Epoch 2: Train Loss: 0.0315, Test Loss: 0.0268, Train L1 Norm: 0.0442, Test L1 Norm: 0.0342, Train Linf Norm: 4.6731, Test Linf Norm: 3.6401\n",
            "Epoch 3: Train Loss: 0.0260, Test Loss: 0.0132, Train L1 Norm: 0.0411, Test L1 Norm: 0.0373, Train Linf Norm: 5.0513, Test Linf Norm: 5.0331\n",
            "Epoch 4: Train Loss: 0.0260, Test Loss: 0.0091, Train L1 Norm: 0.0408, Test L1 Norm: 0.0177, Train Linf Norm: 5.0524, Test Linf Norm: 1.5877\n",
            "Epoch 5: Train Loss: 0.0228, Test Loss: 0.0417, Train L1 Norm: 0.0325, Test L1 Norm: 0.0276, Train Linf Norm: 3.7164, Test Linf Norm: 1.0811\n",
            "Epoch 6: Train Loss: 0.0249, Test Loss: 0.0262, Train L1 Norm: 0.0331, Test L1 Norm: 0.0287, Train Linf Norm: 3.6501, Test Linf Norm: 2.1713\n",
            "Epoch 7: Train Loss: 0.0211, Test Loss: 0.0198, Train L1 Norm: 0.0343, Test L1 Norm: 0.0393, Train Linf Norm: 4.6178, Test Linf Norm: 5.3282\n",
            "Epoch 8: Train Loss: 0.0244, Test Loss: 0.0194, Train L1 Norm: 0.0361, Test L1 Norm: 0.0331, Train Linf Norm: 4.6485, Test Linf Norm: 4.3931\n",
            "Epoch 9: Train Loss: 0.0216, Test Loss: 0.0263, Train L1 Norm: 0.0309, Test L1 Norm: 0.0350, Train Linf Norm: 3.5939, Test Linf Norm: 4.4882\n",
            "Epoch 10: Train Loss: 0.0200, Test Loss: 0.0139, Train L1 Norm: 0.0267, Test L1 Norm: 0.0241, Train Linf Norm: 2.8949, Test Linf Norm: 3.0391\n",
            "Epoch 11: Train Loss: 0.0093, Test Loss: 0.0057, Train L1 Norm: 0.0195, Test L1 Norm: 0.0107, Train Linf Norm: 2.6735, Test Linf Norm: 0.7277\n",
            "Epoch 12: Train Loss: 0.0089, Test Loss: 0.0209, Train L1 Norm: 0.0160, Test L1 Norm: 0.0146, Train Linf Norm: 1.9179, Test Linf Norm: 0.7094\n",
            "Epoch 13: Train Loss: 0.0098, Test Loss: 0.0134, Train L1 Norm: 0.0166, Test L1 Norm: 0.0126, Train Linf Norm: 2.0510, Test Linf Norm: 0.7714\n",
            "Epoch 14: Train Loss: 0.0081, Test Loss: 0.0048, Train L1 Norm: 0.0141, Test L1 Norm: 0.0086, Train Linf Norm: 1.6554, Test Linf Norm: 0.6462\n",
            "Epoch 15: Train Loss: 0.0117, Test Loss: 0.0082, Train L1 Norm: 0.0174, Test L1 Norm: 0.0096, Train Linf Norm: 1.9693, Test Linf Norm: 0.6851\n",
            "Epoch 16: Train Loss: 0.0098, Test Loss: 0.0059, Train L1 Norm: 0.0155, Test L1 Norm: 0.0110, Train Linf Norm: 1.8024, Test Linf Norm: 1.0696\n",
            "Epoch 17: Train Loss: 0.0110, Test Loss: 0.0063, Train L1 Norm: 0.0182, Test L1 Norm: 0.0155, Train Linf Norm: 2.3059, Test Linf Norm: 1.9018\n",
            "Epoch 18: Train Loss: 0.0095, Test Loss: 0.0120, Train L1 Norm: 0.0141, Test L1 Norm: 0.0169, Train Linf Norm: 1.5232, Test Linf Norm: 1.8634\n",
            "Epoch 19: Train Loss: 0.0091, Test Loss: 0.0188, Train L1 Norm: 0.0149, Test L1 Norm: 0.0161, Train Linf Norm: 1.8244, Test Linf Norm: 1.3004\n",
            "Epoch 20: Train Loss: 0.0098, Test Loss: 0.0085, Train L1 Norm: 0.0162, Test L1 Norm: 0.0116, Train Linf Norm: 2.0556, Test Linf Norm: 0.9926\n",
            "Epoch 21: Train Loss: 0.0049, Test Loss: 0.0044, Train L1 Norm: 0.0092, Test L1 Norm: 0.0100, Train Linf Norm: 1.0196, Test Linf Norm: 1.1458\n",
            "Epoch 22: Train Loss: 0.0050, Test Loss: 0.0063, Train L1 Norm: 0.0102, Test L1 Norm: 0.0076, Train Linf Norm: 1.2826, Test Linf Norm: 0.4999\n",
            "Epoch 23: Train Loss: 0.0054, Test Loss: 0.0050, Train L1 Norm: 0.0106, Test L1 Norm: 0.0072, Train Linf Norm: 1.3160, Test Linf Norm: 0.5065\n",
            "Epoch 24: Train Loss: 0.0053, Test Loss: 0.0047, Train L1 Norm: 0.0109, Test L1 Norm: 0.0069, Train Linf Norm: 1.4150, Test Linf Norm: 0.4829\n",
            "Epoch 25: Train Loss: 0.0054, Test Loss: 0.0104, Train L1 Norm: 0.0116, Test L1 Norm: 0.0118, Train Linf Norm: 1.6174, Test Linf Norm: 0.6648\n",
            "Epoch 26: Train Loss: 0.0054, Test Loss: 0.0054, Train L1 Norm: 0.0098, Test L1 Norm: 0.0074, Train Linf Norm: 1.1943, Test Linf Norm: 0.5389\n",
            "Epoch 27: Train Loss: 0.0058, Test Loss: 0.0041, Train L1 Norm: 0.0103, Test L1 Norm: 0.0077, Train Linf Norm: 1.2203, Test Linf Norm: 0.7788\n",
            "Epoch 28: Train Loss: 0.0054, Test Loss: 0.0039, Train L1 Norm: 0.0108, Test L1 Norm: 0.0075, Train Linf Norm: 1.4548, Test Linf Norm: 0.6541\n",
            "Epoch 29: Train Loss: 0.0054, Test Loss: 0.0093, Train L1 Norm: 0.0095, Test L1 Norm: 0.0143, Train Linf Norm: 1.1258, Test Linf Norm: 1.7820\n",
            "Epoch 30: Train Loss: 0.0059, Test Loss: 0.0086, Train L1 Norm: 0.0100, Test L1 Norm: 0.0083, Train Linf Norm: 1.1711, Test Linf Norm: 0.4943\n",
            "Epoch 31: Train Loss: 0.0049, Test Loss: 0.0037, Train L1 Norm: 0.0094, Test L1 Norm: 0.0066, Train Linf Norm: 1.1266, Test Linf Norm: 0.5468\n",
            "Epoch 32: Train Loss: 0.0058, Test Loss: 0.0042, Train L1 Norm: 0.0113, Test L1 Norm: 0.0059, Train Linf Norm: 1.5331, Test Linf Norm: 0.4336\n",
            "Epoch 33: Train Loss: 0.0054, Test Loss: 0.0048, Train L1 Norm: 0.0094, Test L1 Norm: 0.0075, Train Linf Norm: 1.1368, Test Linf Norm: 0.5368\n",
            "Epoch 34: Train Loss: 0.0063, Test Loss: 0.0046, Train L1 Norm: 0.0106, Test L1 Norm: 0.0062, Train Linf Norm: 1.3131, Test Linf Norm: 0.4374\n",
            "Epoch 35: Train Loss: 0.0053, Test Loss: 0.0044, Train L1 Norm: 0.0098, Test L1 Norm: 0.0059, Train Linf Norm: 1.2562, Test Linf Norm: 0.4599\n",
            "Epoch 36: Train Loss: 0.0050, Test Loss: 0.0058, Train L1 Norm: 0.0100, Test L1 Norm: 0.0106, Train Linf Norm: 1.2969, Test Linf Norm: 1.2317\n",
            "Epoch 37: Train Loss: 0.0055, Test Loss: 0.0075, Train L1 Norm: 0.0098, Test L1 Norm: 0.0159, Train Linf Norm: 1.1964, Test Linf Norm: 1.8784\n",
            "Epoch 38: Train Loss: 0.0036, Test Loss: 0.0032, Train L1 Norm: 0.0079, Test L1 Norm: 0.0055, Train Linf Norm: 0.9871, Test Linf Norm: 0.4153\n",
            "Epoch 39: Train Loss: 0.0036, Test Loss: 0.0035, Train L1 Norm: 0.0080, Test L1 Norm: 0.0056, Train Linf Norm: 1.0420, Test Linf Norm: 0.4198\n",
            "Epoch 40: Train Loss: 0.0037, Test Loss: 0.0061, Train L1 Norm: 0.0083, Test L1 Norm: 0.0067, Train Linf Norm: 1.1090, Test Linf Norm: 0.4514\n",
            "Epoch 41: Train Loss: 0.0036, Test Loss: 0.0032, Train L1 Norm: 0.0082, Test L1 Norm: 0.0052, Train Linf Norm: 1.0901, Test Linf Norm: 0.3896\n",
            "Epoch 42: Train Loss: 0.0039, Test Loss: 0.0047, Train L1 Norm: 0.0086, Test L1 Norm: 0.0057, Train Linf Norm: 1.1573, Test Linf Norm: 0.4193\n",
            "Epoch 43: Train Loss: 0.0036, Test Loss: 0.0050, Train L1 Norm: 0.0080, Test L1 Norm: 0.0106, Train Linf Norm: 1.0606, Test Linf Norm: 1.1175\n",
            "Epoch 44: Train Loss: 0.0037, Test Loss: 0.0032, Train L1 Norm: 0.0079, Test L1 Norm: 0.0057, Train Linf Norm: 0.9891, Test Linf Norm: 0.4420\n",
            "Epoch 45: Train Loss: 0.0039, Test Loss: 0.0033, Train L1 Norm: 0.0086, Test L1 Norm: 0.0072, Train Linf Norm: 1.1777, Test Linf Norm: 0.6503\n",
            "Epoch 46: Train Loss: 0.0038, Test Loss: 0.0037, Train L1 Norm: 0.0081, Test L1 Norm: 0.0066, Train Linf Norm: 0.9846, Test Linf Norm: 0.5868\n",
            "Epoch 47: Train Loss: 0.0037, Test Loss: 0.0033, Train L1 Norm: 0.0076, Test L1 Norm: 0.0051, Train Linf Norm: 0.9521, Test Linf Norm: 0.3797\n",
            "Epoch 48: Train Loss: 0.0034, Test Loss: 0.0033, Train L1 Norm: 0.0075, Test L1 Norm: 0.0053, Train Linf Norm: 0.9701, Test Linf Norm: 0.3998\n",
            "Epoch 49: Train Loss: 0.0038, Test Loss: 0.0032, Train L1 Norm: 0.0080, Test L1 Norm: 0.0070, Train Linf Norm: 1.0600, Test Linf Norm: 0.6567\n",
            "Epoch 50: Train Loss: 0.0036, Test Loss: 0.0044, Train L1 Norm: 0.0083, Test L1 Norm: 0.0057, Train Linf Norm: 1.1531, Test Linf Norm: 0.4266\n",
            "Epoch 51: Train Loss: 0.0036, Test Loss: 0.0031, Train L1 Norm: 0.0073, Test L1 Norm: 0.0058, Train Linf Norm: 0.8942, Test Linf Norm: 0.4441\n",
            "Epoch 52: Train Loss: 0.0036, Test Loss: 0.0031, Train L1 Norm: 0.0075, Test L1 Norm: 0.0052, Train Linf Norm: 0.9602, Test Linf Norm: 0.4053\n",
            "Epoch 53: Train Loss: 0.0037, Test Loss: 0.0035, Train L1 Norm: 0.0078, Test L1 Norm: 0.0055, Train Linf Norm: 1.0031, Test Linf Norm: 0.4135\n",
            "Epoch 54: Train Loss: 0.0033, Test Loss: 0.0034, Train L1 Norm: 0.0073, Test L1 Norm: 0.0104, Train Linf Norm: 0.9331, Test Linf Norm: 1.2585\n",
            "Epoch 55: Train Loss: 0.0036, Test Loss: 0.0030, Train L1 Norm: 0.0076, Test L1 Norm: 0.0057, Train Linf Norm: 0.9873, Test Linf Norm: 0.5017\n",
            "Epoch 56: Train Loss: 0.0037, Test Loss: 0.0029, Train L1 Norm: 0.0076, Test L1 Norm: 0.0049, Train Linf Norm: 0.9223, Test Linf Norm: 0.3671\n",
            "Epoch 57: Train Loss: 0.0033, Test Loss: 0.0036, Train L1 Norm: 0.0074, Test L1 Norm: 0.0054, Train Linf Norm: 0.9702, Test Linf Norm: 0.4023\n",
            "Epoch 58: Train Loss: 0.0035, Test Loss: 0.0031, Train L1 Norm: 0.0081, Test L1 Norm: 0.0058, Train Linf Norm: 1.1154, Test Linf Norm: 0.5250\n",
            "Epoch 59: Train Loss: 0.0037, Test Loss: 0.0028, Train L1 Norm: 0.0080, Test L1 Norm: 0.0052, Train Linf Norm: 1.0819, Test Linf Norm: 0.4213\n",
            "Epoch 60: Train Loss: 0.0036, Test Loss: 0.0030, Train L1 Norm: 0.0079, Test L1 Norm: 0.0053, Train Linf Norm: 1.0899, Test Linf Norm: 0.4146\n",
            "Epoch 61: Train Loss: 0.0034, Test Loss: 0.0041, Train L1 Norm: 0.0070, Test L1 Norm: 0.0053, Train Linf Norm: 0.8718, Test Linf Norm: 0.3713\n",
            "Epoch 62: Train Loss: 0.0035, Test Loss: 0.0027, Train L1 Norm: 0.0072, Test L1 Norm: 0.0056, Train Linf Norm: 0.9262, Test Linf Norm: 0.4415\n",
            "Epoch 63: Train Loss: 0.0034, Test Loss: 0.0030, Train L1 Norm: 0.0068, Test L1 Norm: 0.0065, Train Linf Norm: 0.8315, Test Linf Norm: 0.6641\n",
            "Epoch 64: Train Loss: 0.0034, Test Loss: 0.0030, Train L1 Norm: 0.0071, Test L1 Norm: 0.0048, Train Linf Norm: 0.9214, Test Linf Norm: 0.3472\n",
            "Epoch 65: Train Loss: 0.0037, Test Loss: 0.0028, Train L1 Norm: 0.0074, Test L1 Norm: 0.0056, Train Linf Norm: 0.9444, Test Linf Norm: 0.4347\n",
            "Epoch 66: Train Loss: 0.0031, Test Loss: 0.0040, Train L1 Norm: 0.0067, Test L1 Norm: 0.0051, Train Linf Norm: 0.8542, Test Linf Norm: 0.3802\n",
            "Epoch 67: Train Loss: 0.0036, Test Loss: 0.0035, Train L1 Norm: 0.0072, Test L1 Norm: 0.0051, Train Linf Norm: 0.9385, Test Linf Norm: 0.3812\n",
            "Epoch 68: Train Loss: 0.0034, Test Loss: 0.0056, Train L1 Norm: 0.0070, Test L1 Norm: 0.0062, Train Linf Norm: 0.8882, Test Linf Norm: 0.4716\n",
            "Epoch 69: Train Loss: 0.0028, Test Loss: 0.0029, Train L1 Norm: 0.0062, Test L1 Norm: 0.0046, Train Linf Norm: 0.7828, Test Linf Norm: 0.3470\n"
          ]
        },
        {
          "output_type": "stream",
          "name": "stderr",
          "text": [
            "\u001b[32m[I 2023-05-13 14:01:55,517]\u001b[0m Trial 117 finished with value: 0.004537379554379732 and parameters: {'n_layers': 3, 'n_units_0': 97, 'n_units_1': 212, 'n_units_2': 110, 'hidden_activation': 'ReLU', 'output_activation': 'ReLU', 'loss': 'MAE', 'optimizer': 'Adam', 'lr': 0.0002752986165890057, 'batch_size': 251, 'n_epochs': 70, 'scheduler': 'ReduceLROnPlateau'}. Best is trial 42 with value: 0.004305121898895595.\u001b[0m\n"
          ]
        },
        {
          "output_type": "stream",
          "name": "stdout",
          "text": [
            "Epoch 70: Train Loss: 0.0028, Test Loss: 0.0026, Train L1 Norm: 0.0061, Test L1 Norm: 0.0045, Train Linf Norm: 0.7755, Test Linf Norm: 0.3466\n"
          ]
        },
        {
          "output_type": "stream",
          "name": "stderr",
          "text": [
            "\u001b[32m[I 2023-05-13 14:01:56,876]\u001b[0m Trial 118 pruned. \u001b[0m\n"
          ]
        },
        {
          "output_type": "stream",
          "name": "stdout",
          "text": [
            "Epoch 1: Train Loss: 0.3406, Test Loss: 0.0184, Train L1 Norm: 0.7640, Test L1 Norm: 0.0653, Train Linf Norm: 127.5107, Test Linf Norm: 7.1724\n"
          ]
        },
        {
          "output_type": "stream",
          "name": "stderr",
          "text": [
            "\u001b[32m[I 2023-05-13 14:01:58,227]\u001b[0m Trial 119 pruned. \u001b[0m\n"
          ]
        },
        {
          "output_type": "stream",
          "name": "stdout",
          "text": [
            "Epoch 1: Train Loss: 3.3912, Test Loss: 3.3992, Train L1 Norm: 1.0000, Test L1 Norm: 1.0000, Train Linf Norm: 1.0000, Test Linf Norm: 1.0000\n"
          ]
        },
        {
          "output_type": "stream",
          "name": "stderr",
          "text": [
            "\u001b[32m[I 2023-05-13 14:01:59,942]\u001b[0m Trial 120 pruned. \u001b[0m\n"
          ]
        },
        {
          "output_type": "stream",
          "name": "stdout",
          "text": [
            "Epoch 1: Train Loss: 0.1377, Test Loss: 0.0505, Train L1 Norm: 0.2588, Test L1 Norm: 0.0675, Train Linf Norm: 23.0775, Test Linf Norm: 4.9550\n"
          ]
        },
        {
          "output_type": "stream",
          "name": "stderr",
          "text": [
            "\u001b[32m[I 2023-05-13 14:02:01,481]\u001b[0m Trial 121 pruned. \u001b[0m\n"
          ]
        },
        {
          "output_type": "stream",
          "name": "stdout",
          "text": [
            "Epoch 1: Train Loss: 0.2885, Test Loss: 0.0349, Train L1 Norm: 0.3054, Test L1 Norm: 0.0771, Train Linf Norm: 26.9265, Test Linf Norm: 3.7493\n"
          ]
        },
        {
          "output_type": "stream",
          "name": "stderr",
          "text": [
            "\u001b[32m[I 2023-05-13 14:02:02,849]\u001b[0m Trial 122 pruned. \u001b[0m\n"
          ]
        },
        {
          "output_type": "stream",
          "name": "stdout",
          "text": [
            "Epoch 1: Train Loss: 0.2267, Test Loss: 0.0191, Train L1 Norm: 0.4389, Test L1 Norm: 0.0730, Train Linf Norm: 50.6939, Test Linf Norm: 5.2043\n",
            "Epoch 1: Train Loss: 0.2562, Test Loss: 0.0268, Train L1 Norm: 0.3693, Test L1 Norm: 0.0430, Train Linf Norm: 35.3958, Test Linf Norm: 3.6531\n",
            "Epoch 2: Train Loss: 0.0331, Test Loss: 0.0502, Train L1 Norm: 0.0643, Test L1 Norm: 0.1056, Train Linf Norm: 8.2855, Test Linf Norm: 8.9800\n",
            "Epoch 3: Train Loss: 0.0283, Test Loss: 0.0325, Train L1 Norm: 0.0433, Test L1 Norm: 0.0681, Train Linf Norm: 4.7593, Test Linf Norm: 6.8066\n",
            "Epoch 4: Train Loss: 0.0264, Test Loss: 0.0293, Train L1 Norm: 0.0467, Test L1 Norm: 0.0330, Train Linf Norm: 5.8462, Test Linf Norm: 2.5226\n",
            "Epoch 5: Train Loss: 0.0251, Test Loss: 0.0116, Train L1 Norm: 0.0437, Test L1 Norm: 0.0157, Train Linf Norm: 5.5038, Test Linf Norm: 1.1074\n",
            "Epoch 6: Train Loss: 0.0226, Test Loss: 0.0349, Train L1 Norm: 0.0360, Test L1 Norm: 0.0688, Train Linf Norm: 4.0997, Test Linf Norm: 5.9375\n",
            "Epoch 7: Train Loss: 0.0250, Test Loss: 0.0086, Train L1 Norm: 0.0413, Test L1 Norm: 0.0180, Train Linf Norm: 5.1527, Test Linf Norm: 1.7189\n",
            "Epoch 8: Train Loss: 0.0214, Test Loss: 0.0089, Train L1 Norm: 0.0396, Test L1 Norm: 0.0166, Train Linf Norm: 5.0514, Test Linf Norm: 1.4108\n",
            "Epoch 9: Train Loss: 0.0206, Test Loss: 0.0116, Train L1 Norm: 0.0333, Test L1 Norm: 0.0287, Train Linf Norm: 3.7971, Test Linf Norm: 2.5398\n",
            "Epoch 10: Train Loss: 0.0205, Test Loss: 0.0266, Train L1 Norm: 0.0417, Test L1 Norm: 0.0492, Train Linf Norm: 5.6333, Test Linf Norm: 3.9911\n",
            "Epoch 11: Train Loss: 0.0203, Test Loss: 0.0083, Train L1 Norm: 0.0327, Test L1 Norm: 0.0167, Train Linf Norm: 3.8105, Test Linf Norm: 1.3636\n",
            "Epoch 12: Train Loss: 0.0176, Test Loss: 0.0228, Train L1 Norm: 0.0307, Test L1 Norm: 0.0248, Train Linf Norm: 3.7469, Test Linf Norm: 1.9926\n",
            "Epoch 13: Train Loss: 0.0188, Test Loss: 0.0132, Train L1 Norm: 0.0302, Test L1 Norm: 0.0394, Train Linf Norm: 3.5891, Test Linf Norm: 3.6400\n",
            "Epoch 14: Train Loss: 0.0231, Test Loss: 0.0165, Train L1 Norm: 0.0405, Test L1 Norm: 0.0204, Train Linf Norm: 5.2653, Test Linf Norm: 1.5859\n",
            "Epoch 15: Train Loss: 0.0223, Test Loss: 0.0190, Train L1 Norm: 0.0346, Test L1 Norm: 0.0340, Train Linf Norm: 4.1876, Test Linf Norm: 2.7412\n",
            "Epoch 16: Train Loss: 0.0161, Test Loss: 0.0059, Train L1 Norm: 0.0333, Test L1 Norm: 0.0211, Train Linf Norm: 4.3612, Test Linf Norm: 2.2501\n",
            "Epoch 17: Train Loss: 0.0209, Test Loss: 0.0141, Train L1 Norm: 0.0352, Test L1 Norm: 0.0481, Train Linf Norm: 4.3623, Test Linf Norm: 4.4897\n",
            "Epoch 18: Train Loss: 0.0173, Test Loss: 0.0082, Train L1 Norm: 0.0302, Test L1 Norm: 0.0161, Train Linf Norm: 3.8212, Test Linf Norm: 1.5280\n",
            "Epoch 19: Train Loss: 0.0189, Test Loss: 0.0142, Train L1 Norm: 0.0351, Test L1 Norm: 0.0330, Train Linf Norm: 4.6046, Test Linf Norm: 3.1745\n",
            "Epoch 20: Train Loss: 0.0187, Test Loss: 0.0133, Train L1 Norm: 0.0354, Test L1 Norm: 0.0311, Train Linf Norm: 4.5242, Test Linf Norm: 2.9524\n",
            "Epoch 21: Train Loss: 0.0161, Test Loss: 0.0400, Train L1 Norm: 0.0311, Test L1 Norm: 0.0615, Train Linf Norm: 4.0841, Test Linf Norm: 5.0359\n",
            "Epoch 22: Train Loss: 0.0149, Test Loss: 0.0202, Train L1 Norm: 0.0262, Test L1 Norm: 0.0532, Train Linf Norm: 3.2263, Test Linf Norm: 5.1217\n",
            "Epoch 23: Train Loss: 0.0074, Test Loss: 0.0063, Train L1 Norm: 0.0168, Test L1 Norm: 0.0106, Train Linf Norm: 2.2453, Test Linf Norm: 0.8476\n",
            "Epoch 24: Train Loss: 0.0073, Test Loss: 0.0184, Train L1 Norm: 0.0155, Test L1 Norm: 0.0210, Train Linf Norm: 1.9506, Test Linf Norm: 1.5107\n",
            "Epoch 25: Train Loss: 0.0090, Test Loss: 0.0051, Train L1 Norm: 0.0188, Test L1 Norm: 0.0148, Train Linf Norm: 2.4772, Test Linf Norm: 1.3907\n",
            "Epoch 26: Train Loss: 0.0098, Test Loss: 0.0047, Train L1 Norm: 0.0178, Test L1 Norm: 0.0148, Train Linf Norm: 2.1757, Test Linf Norm: 1.3783\n",
            "Epoch 27: Train Loss: 0.0075, Test Loss: 0.0042, Train L1 Norm: 0.0149, Test L1 Norm: 0.0127, Train Linf Norm: 1.8332, Test Linf Norm: 1.2789\n",
            "Epoch 28: Train Loss: 0.0097, Test Loss: 0.0052, Train L1 Norm: 0.0202, Test L1 Norm: 0.0103, Train Linf Norm: 2.7478, Test Linf Norm: 0.8127\n",
            "Epoch 29: Train Loss: 0.0081, Test Loss: 0.0045, Train L1 Norm: 0.0186, Test L1 Norm: 0.0123, Train Linf Norm: 2.6083, Test Linf Norm: 1.2020\n",
            "Epoch 30: Train Loss: 0.0088, Test Loss: 0.0156, Train L1 Norm: 0.0170, Test L1 Norm: 0.0216, Train Linf Norm: 2.1191, Test Linf Norm: 1.8931\n",
            "Epoch 31: Train Loss: 0.0084, Test Loss: 0.0039, Train L1 Norm: 0.0142, Test L1 Norm: 0.0100, Train Linf Norm: 1.6460, Test Linf Norm: 0.9240\n",
            "Epoch 32: Train Loss: 0.0091, Test Loss: 0.0139, Train L1 Norm: 0.0198, Test L1 Norm: 0.0238, Train Linf Norm: 2.7284, Test Linf Norm: 1.9286\n",
            "Epoch 33: Train Loss: 0.0080, Test Loss: 0.0069, Train L1 Norm: 0.0155, Test L1 Norm: 0.0144, Train Linf Norm: 1.9248, Test Linf Norm: 1.1832\n",
            "Epoch 34: Train Loss: 0.0107, Test Loss: 0.0196, Train L1 Norm: 0.0186, Test L1 Norm: 0.0221, Train Linf Norm: 2.3113, Test Linf Norm: 1.7167\n",
            "Epoch 35: Train Loss: 0.0080, Test Loss: 0.0064, Train L1 Norm: 0.0149, Test L1 Norm: 0.0135, Train Linf Norm: 1.8198, Test Linf Norm: 1.2284\n",
            "Epoch 36: Train Loss: 0.0089, Test Loss: 0.0097, Train L1 Norm: 0.0154, Test L1 Norm: 0.0094, Train Linf Norm: 1.8369, Test Linf Norm: 0.6058\n",
            "Epoch 37: Train Loss: 0.0082, Test Loss: 0.0088, Train L1 Norm: 0.0147, Test L1 Norm: 0.0093, Train Linf Norm: 1.7290, Test Linf Norm: 0.7141\n",
            "Epoch 38: Train Loss: 0.0043, Test Loss: 0.0039, Train L1 Norm: 0.0117, Test L1 Norm: 0.0066, Train Linf Norm: 1.6335, Test Linf Norm: 0.4878\n",
            "Epoch 39: Train Loss: 0.0044, Test Loss: 0.0050, Train L1 Norm: 0.0100, Test L1 Norm: 0.0086, Train Linf Norm: 1.2975, Test Linf Norm: 0.6565\n",
            "Epoch 40: Train Loss: 0.0048, Test Loss: 0.0036, Train L1 Norm: 0.0105, Test L1 Norm: 0.0116, Train Linf Norm: 1.3125, Test Linf Norm: 1.0525\n",
            "Epoch 41: Train Loss: 0.0048, Test Loss: 0.0047, Train L1 Norm: 0.0106, Test L1 Norm: 0.0076, Train Linf Norm: 1.3267, Test Linf Norm: 0.5690\n",
            "Epoch 42: Train Loss: 0.0047, Test Loss: 0.0036, Train L1 Norm: 0.0105, Test L1 Norm: 0.0117, Train Linf Norm: 1.3523, Test Linf Norm: 1.0274\n",
            "Epoch 43: Train Loss: 0.0049, Test Loss: 0.0049, Train L1 Norm: 0.0107, Test L1 Norm: 0.0083, Train Linf Norm: 1.3646, Test Linf Norm: 0.7124\n",
            "Epoch 44: Train Loss: 0.0045, Test Loss: 0.0037, Train L1 Norm: 0.0107, Test L1 Norm: 0.0085, Train Linf Norm: 1.3699, Test Linf Norm: 0.7231\n",
            "Epoch 45: Train Loss: 0.0043, Test Loss: 0.0046, Train L1 Norm: 0.0101, Test L1 Norm: 0.0114, Train Linf Norm: 1.3008, Test Linf Norm: 1.0460\n",
            "Epoch 46: Train Loss: 0.0041, Test Loss: 0.0033, Train L1 Norm: 0.0091, Test L1 Norm: 0.0083, Train Linf Norm: 1.0745, Test Linf Norm: 0.6922\n",
            "Epoch 47: Train Loss: 0.0050, Test Loss: 0.0061, Train L1 Norm: 0.0088, Test L1 Norm: 0.0116, Train Linf Norm: 0.9532, Test Linf Norm: 0.9814\n",
            "Epoch 48: Train Loss: 0.0047, Test Loss: 0.0041, Train L1 Norm: 0.0105, Test L1 Norm: 0.0095, Train Linf Norm: 1.3515, Test Linf Norm: 0.8397\n",
            "Epoch 49: Train Loss: 0.0048, Test Loss: 0.0043, Train L1 Norm: 0.0107, Test L1 Norm: 0.0094, Train Linf Norm: 1.4362, Test Linf Norm: 0.7778\n",
            "Epoch 50: Train Loss: 0.0045, Test Loss: 0.0109, Train L1 Norm: 0.0095, Test L1 Norm: 0.0196, Train Linf Norm: 1.1807, Test Linf Norm: 1.6730\n",
            "Epoch 51: Train Loss: 0.0054, Test Loss: 0.0053, Train L1 Norm: 0.0107, Test L1 Norm: 0.0083, Train Linf Norm: 1.2981, Test Linf Norm: 0.6666\n",
            "Epoch 52: Train Loss: 0.0044, Test Loss: 0.0079, Train L1 Norm: 0.0109, Test L1 Norm: 0.0094, Train Linf Norm: 1.4703, Test Linf Norm: 0.6825\n",
            "Epoch 53: Train Loss: 0.0031, Test Loss: 0.0027, Train L1 Norm: 0.0072, Test L1 Norm: 0.0070, Train Linf Norm: 0.8455, Test Linf Norm: 0.5863\n",
            "Epoch 54: Train Loss: 0.0029, Test Loss: 0.0033, Train L1 Norm: 0.0072, Test L1 Norm: 0.0112, Train Linf Norm: 0.8644, Test Linf Norm: 1.0185\n",
            "Epoch 55: Train Loss: 0.0030, Test Loss: 0.0030, Train L1 Norm: 0.0077, Test L1 Norm: 0.0067, Train Linf Norm: 0.9778, Test Linf Norm: 0.5221\n",
            "Epoch 56: Train Loss: 0.0032, Test Loss: 0.0031, Train L1 Norm: 0.0076, Test L1 Norm: 0.0068, Train Linf Norm: 0.8666, Test Linf Norm: 0.5372\n",
            "Epoch 57: Train Loss: 0.0030, Test Loss: 0.0028, Train L1 Norm: 0.0066, Test L1 Norm: 0.0079, Train Linf Norm: 0.7621, Test Linf Norm: 0.7166\n",
            "Epoch 58: Train Loss: 0.0030, Test Loss: 0.0037, Train L1 Norm: 0.0082, Test L1 Norm: 0.0065, Train Linf Norm: 1.0764, Test Linf Norm: 0.5197\n",
            "Epoch 59: Train Loss: 0.0029, Test Loss: 0.0026, Train L1 Norm: 0.0072, Test L1 Norm: 0.0067, Train Linf Norm: 0.8542, Test Linf Norm: 0.5704\n",
            "Epoch 60: Train Loss: 0.0031, Test Loss: 0.0045, Train L1 Norm: 0.0066, Test L1 Norm: 0.0103, Train Linf Norm: 0.7241, Test Linf Norm: 0.8614\n",
            "Epoch 61: Train Loss: 0.0029, Test Loss: 0.0025, Train L1 Norm: 0.0080, Test L1 Norm: 0.0072, Train Linf Norm: 1.0564, Test Linf Norm: 0.5919\n",
            "Epoch 62: Train Loss: 0.0032, Test Loss: 0.0047, Train L1 Norm: 0.0071, Test L1 Norm: 0.0075, Train Linf Norm: 0.7795, Test Linf Norm: 0.5776\n",
            "Epoch 63: Train Loss: 0.0030, Test Loss: 0.0033, Train L1 Norm: 0.0078, Test L1 Norm: 0.0096, Train Linf Norm: 1.0060, Test Linf Norm: 0.8537\n",
            "Epoch 64: Train Loss: 0.0030, Test Loss: 0.0033, Train L1 Norm: 0.0071, Test L1 Norm: 0.0104, Train Linf Norm: 0.8337, Test Linf Norm: 0.9274\n",
            "Epoch 65: Train Loss: 0.0031, Test Loss: 0.0025, Train L1 Norm: 0.0071, Test L1 Norm: 0.0087, Train Linf Norm: 0.8682, Test Linf Norm: 0.8337\n",
            "Epoch 66: Train Loss: 0.0029, Test Loss: 0.0055, Train L1 Norm: 0.0078, Test L1 Norm: 0.0079, Train Linf Norm: 1.0021, Test Linf Norm: 0.6334\n",
            "Epoch 67: Train Loss: 0.0029, Test Loss: 0.0026, Train L1 Norm: 0.0072, Test L1 Norm: 0.0086, Train Linf Norm: 0.8962, Test Linf Norm: 0.7371\n",
            "Epoch 68: Train Loss: 0.0030, Test Loss: 0.0029, Train L1 Norm: 0.0076, Test L1 Norm: 0.0081, Train Linf Norm: 0.9799, Test Linf Norm: 0.7490\n",
            "Epoch 69: Train Loss: 0.0029, Test Loss: 0.0027, Train L1 Norm: 0.0075, Test L1 Norm: 0.0078, Train Linf Norm: 0.9045, Test Linf Norm: 0.6713\n"
          ]
        },
        {
          "output_type": "stream",
          "name": "stderr",
          "text": [
            "\u001b[32m[I 2023-05-13 14:03:48,337]\u001b[0m Trial 123 finished with value: 0.012023736400529741 and parameters: {'n_layers': 3, 'n_units_0': 96, 'n_units_1': 207, 'n_units_2': 92, 'hidden_activation': 'ReLU', 'output_activation': 'Linear', 'loss': 'MAE', 'optimizer': 'Adam', 'lr': 0.00032519596659806886, 'batch_size': 220, 'n_epochs': 70, 'scheduler': 'ReduceLROnPlateau'}. Best is trial 42 with value: 0.004305121898895595.\u001b[0m\n"
          ]
        },
        {
          "output_type": "stream",
          "name": "stdout",
          "text": [
            "Epoch 70: Train Loss: 0.0030, Test Loss: 0.0029, Train L1 Norm: 0.0078, Test L1 Norm: 0.0120, Train Linf Norm: 1.0373, Test Linf Norm: 1.1152\n",
            "Epoch 1: Train Loss: 0.1561, Test Loss: 0.0202, Train L1 Norm: 0.6281, Test L1 Norm: 0.0448, Train Linf Norm: 60.9511, Test Linf Norm: 3.0645\n"
          ]
        },
        {
          "output_type": "stream",
          "name": "stderr",
          "text": [
            "\u001b[32m[I 2023-05-13 14:03:52,214]\u001b[0m Trial 124 pruned. \u001b[0m\n"
          ]
        },
        {
          "output_type": "stream",
          "name": "stdout",
          "text": [
            "Epoch 2: Train Loss: 0.0239, Test Loss: 0.0279, Train L1 Norm: 0.0582, Test L1 Norm: 0.0502, Train Linf Norm: 4.6821, Test Linf Norm: 3.1094\n"
          ]
        },
        {
          "output_type": "stream",
          "name": "stderr",
          "text": [
            "\u001b[32m[I 2023-05-13 14:03:53,580]\u001b[0m Trial 125 pruned. \u001b[0m\n"
          ]
        },
        {
          "output_type": "stream",
          "name": "stdout",
          "text": [
            "Epoch 1: Train Loss: 0.7109, Test Loss: 0.2457, Train L1 Norm: 2.1115, Test L1 Norm: 1.1349, Train Linf Norm: 293.6803, Test Linf Norm: 164.3660\n"
          ]
        },
        {
          "output_type": "stream",
          "name": "stderr",
          "text": [
            "\u001b[32m[I 2023-05-13 14:03:54,806]\u001b[0m Trial 126 pruned. \u001b[0m\n"
          ]
        },
        {
          "output_type": "stream",
          "name": "stdout",
          "text": [
            "Epoch 1: Train Loss: 3.0220, Test Loss: 2.4477, Train L1 Norm: 2.0171, Test L1 Norm: 2.1983, Train Linf Norm: 245.3184, Test Linf Norm: 227.0324\n"
          ]
        },
        {
          "output_type": "stream",
          "name": "stderr",
          "text": [
            "\u001b[32m[I 2023-05-13 14:03:56,423]\u001b[0m Trial 127 pruned. \u001b[0m\n"
          ]
        },
        {
          "output_type": "stream",
          "name": "stdout",
          "text": [
            "Epoch 1: Train Loss: 0.2191, Test Loss: 0.0693, Train L1 Norm: 0.3214, Test L1 Norm: 0.1068, Train Linf Norm: 30.5302, Test Linf Norm: 11.3984\n"
          ]
        },
        {
          "output_type": "stream",
          "name": "stderr",
          "text": [
            "\u001b[32m[I 2023-05-13 14:03:58,411]\u001b[0m Trial 128 pruned. \u001b[0m\n"
          ]
        },
        {
          "output_type": "stream",
          "name": "stdout",
          "text": [
            "Epoch 1: Train Loss: 0.1107, Test Loss: 0.1389, Train L1 Norm: 0.4115, Test L1 Norm: 0.2058, Train Linf Norm: 42.5406, Test Linf Norm: 5.8000\n",
            "Epoch 1: Train Loss: 0.3171, Test Loss: 0.0163, Train L1 Norm: 0.8740, Test L1 Norm: 0.0465, Train Linf Norm: 138.0454, Test Linf Norm: 4.3514\n"
          ]
        },
        {
          "output_type": "stream",
          "name": "stderr",
          "text": [
            "\u001b[32m[I 2023-05-13 14:04:01,303]\u001b[0m Trial 129 pruned. \u001b[0m\n"
          ]
        },
        {
          "output_type": "stream",
          "name": "stdout",
          "text": [
            "Epoch 2: Train Loss: 0.0326, Test Loss: 0.0191, Train L1 Norm: 0.0773, Test L1 Norm: 0.0521, Train Linf Norm: 10.5478, Test Linf Norm: 5.8873\n"
          ]
        },
        {
          "output_type": "stream",
          "name": "stderr",
          "text": [
            "\u001b[32m[I 2023-05-13 14:04:02,732]\u001b[0m Trial 130 pruned. \u001b[0m\n"
          ]
        },
        {
          "output_type": "stream",
          "name": "stdout",
          "text": [
            "Epoch 1: Train Loss: 1.3640, Test Loss: 0.3605, Train L1 Norm: 6.2315, Test L1 Norm: 1.6018, Train Linf Norm: 855.5057, Test Linf Norm: 208.9403\n"
          ]
        },
        {
          "output_type": "stream",
          "name": "stderr",
          "text": [
            "\u001b[32m[I 2023-05-13 14:04:04,115]\u001b[0m Trial 131 pruned. \u001b[0m\n"
          ]
        },
        {
          "output_type": "stream",
          "name": "stdout",
          "text": [
            "Epoch 1: Train Loss: 0.2433, Test Loss: 0.0296, Train L1 Norm: 0.4997, Test L1 Norm: 0.1202, Train Linf Norm: 59.5809, Test Linf Norm: 7.3909\n",
            "Epoch 1: Train Loss: 0.1760, Test Loss: 0.0336, Train L1 Norm: 0.2991, Test L1 Norm: 0.0383, Train Linf Norm: 31.9904, Test Linf Norm: 3.0813\n",
            "Epoch 2: Train Loss: 0.0389, Test Loss: 0.0137, Train L1 Norm: 0.0834, Test L1 Norm: 0.0276, Train Linf Norm: 12.3844, Test Linf Norm: 2.5088\n",
            "Epoch 3: Train Loss: 0.0321, Test Loss: 0.0161, Train L1 Norm: 0.0593, Test L1 Norm: 0.0489, Train Linf Norm: 8.2451, Test Linf Norm: 4.9557\n",
            "Epoch 4: Train Loss: 0.0249, Test Loss: 0.0151, Train L1 Norm: 0.0521, Test L1 Norm: 0.0226, Train Linf Norm: 7.4680, Test Linf Norm: 1.4390\n",
            "Epoch 5: Train Loss: 0.0304, Test Loss: 0.0081, Train L1 Norm: 0.0544, Test L1 Norm: 0.0202, Train Linf Norm: 7.3465, Test Linf Norm: 2.1044\n",
            "Epoch 6: Train Loss: 0.0244, Test Loss: 0.0423, Train L1 Norm: 0.0448, Test L1 Norm: 0.0501, Train Linf Norm: 6.1906, Test Linf Norm: 4.0209\n",
            "Epoch 7: Train Loss: 0.0269, Test Loss: 0.0211, Train L1 Norm: 0.0507, Test L1 Norm: 0.0543, Train Linf Norm: 7.2663, Test Linf Norm: 5.8773\n",
            "Epoch 8: Train Loss: 0.0300, Test Loss: 0.0211, Train L1 Norm: 0.0560, Test L1 Norm: 0.0699, Train Linf Norm: 8.1658, Test Linf Norm: 7.7673\n",
            "Epoch 9: Train Loss: 0.0281, Test Loss: 0.0086, Train L1 Norm: 0.0540, Test L1 Norm: 0.0238, Train Linf Norm: 7.8685, Test Linf Norm: 1.7641\n",
            "Epoch 10: Train Loss: 0.0279, Test Loss: 0.0353, Train L1 Norm: 0.0495, Test L1 Norm: 0.0673, Train Linf Norm: 6.8805, Test Linf Norm: 7.8907\n",
            "Epoch 11: Train Loss: 0.0230, Test Loss: 0.0165, Train L1 Norm: 0.0402, Test L1 Norm: 0.0297, Train Linf Norm: 5.4939, Test Linf Norm: 2.9737\n",
            "Epoch 12: Train Loss: 0.0124, Test Loss: 0.0064, Train L1 Norm: 0.0275, Test L1 Norm: 0.0203, Train Linf Norm: 4.0737, Test Linf Norm: 2.1799\n",
            "Epoch 13: Train Loss: 0.0102, Test Loss: 0.0201, Train L1 Norm: 0.0209, Test L1 Norm: 0.0227, Train Linf Norm: 2.8065, Test Linf Norm: 1.8729\n",
            "Epoch 14: Train Loss: 0.0110, Test Loss: 0.0051, Train L1 Norm: 0.0226, Test L1 Norm: 0.0246, Train Linf Norm: 3.2258, Test Linf Norm: 2.9660\n",
            "Epoch 15: Train Loss: 0.0104, Test Loss: 0.0065, Train L1 Norm: 0.0212, Test L1 Norm: 0.0282, Train Linf Norm: 2.7576, Test Linf Norm: 3.0696\n",
            "Epoch 16: Train Loss: 0.0106, Test Loss: 0.0067, Train L1 Norm: 0.0243, Test L1 Norm: 0.0159, Train Linf Norm: 3.7400, Test Linf Norm: 1.6970\n",
            "Epoch 17: Train Loss: 0.0128, Test Loss: 0.0115, Train L1 Norm: 0.0220, Test L1 Norm: 0.0255, Train Linf Norm: 2.7982, Test Linf Norm: 2.9650\n",
            "Epoch 18: Train Loss: 0.0120, Test Loss: 0.0150, Train L1 Norm: 0.0242, Test L1 Norm: 0.0220, Train Linf Norm: 3.3160, Test Linf Norm: 1.9369\n",
            "Epoch 19: Train Loss: 0.0128, Test Loss: 0.0243, Train L1 Norm: 0.0215, Test L1 Norm: 0.0306, Train Linf Norm: 2.8408, Test Linf Norm: 3.0271\n",
            "Epoch 20: Train Loss: 0.0101, Test Loss: 0.0050, Train L1 Norm: 0.0234, Test L1 Norm: 0.0144, Train Linf Norm: 3.6025, Test Linf Norm: 1.7593\n",
            "Epoch 21: Train Loss: 0.0142, Test Loss: 0.0044, Train L1 Norm: 0.0271, Test L1 Norm: 0.0170, Train Linf Norm: 3.9791, Test Linf Norm: 1.8951\n",
            "Epoch 22: Train Loss: 0.0148, Test Loss: 0.0060, Train L1 Norm: 0.0252, Test L1 Norm: 0.0200, Train Linf Norm: 3.4306, Test Linf Norm: 2.2722\n",
            "Epoch 23: Train Loss: 0.0130, Test Loss: 0.0157, Train L1 Norm: 0.0224, Test L1 Norm: 0.0229, Train Linf Norm: 3.0418, Test Linf Norm: 2.1832\n",
            "Epoch 24: Train Loss: 0.0104, Test Loss: 0.0045, Train L1 Norm: 0.0209, Test L1 Norm: 0.0097, Train Linf Norm: 3.1032, Test Linf Norm: 0.8880\n",
            "Epoch 25: Train Loss: 0.0105, Test Loss: 0.0107, Train L1 Norm: 0.0211, Test L1 Norm: 0.0197, Train Linf Norm: 3.0221, Test Linf Norm: 1.8952\n",
            "Epoch 26: Train Loss: 0.0091, Test Loss: 0.0055, Train L1 Norm: 0.0241, Test L1 Norm: 0.0188, Train Linf Norm: 3.9584, Test Linf Norm: 2.0397\n",
            "Epoch 27: Train Loss: 0.0114, Test Loss: 0.0443, Train L1 Norm: 0.0218, Test L1 Norm: 0.0670, Train Linf Norm: 3.0471, Test Linf Norm: 6.8769\n",
            "Epoch 28: Train Loss: 0.0071, Test Loss: 0.0040, Train L1 Norm: 0.0145, Test L1 Norm: 0.0129, Train Linf Norm: 2.0347, Test Linf Norm: 1.4098\n",
            "Epoch 29: Train Loss: 0.0058, Test Loss: 0.0062, Train L1 Norm: 0.0160, Test L1 Norm: 0.0147, Train Linf Norm: 2.5770, Test Linf Norm: 1.5188\n",
            "Epoch 30: Train Loss: 0.0056, Test Loss: 0.0117, Train L1 Norm: 0.0136, Test L1 Norm: 0.0214, Train Linf Norm: 2.0240, Test Linf Norm: 2.0715\n",
            "Epoch 31: Train Loss: 0.0058, Test Loss: 0.0056, Train L1 Norm: 0.0108, Test L1 Norm: 0.0184, Train Linf Norm: 1.3246, Test Linf Norm: 2.0851\n",
            "Epoch 32: Train Loss: 0.0055, Test Loss: 0.0060, Train L1 Norm: 0.0112, Test L1 Norm: 0.0141, Train Linf Norm: 1.4480, Test Linf Norm: 1.4555\n",
            "Epoch 33: Train Loss: 0.0065, Test Loss: 0.0093, Train L1 Norm: 0.0130, Test L1 Norm: 0.0121, Train Linf Norm: 1.8570, Test Linf Norm: 1.1206\n",
            "Epoch 34: Train Loss: 0.0059, Test Loss: 0.0059, Train L1 Norm: 0.0139, Test L1 Norm: 0.0135, Train Linf Norm: 2.1083, Test Linf Norm: 1.4001\n",
            "Epoch 35: Train Loss: 0.0036, Test Loss: 0.0033, Train L1 Norm: 0.0103, Test L1 Norm: 0.0117, Train Linf Norm: 1.6008, Test Linf Norm: 1.3252\n",
            "Epoch 36: Train Loss: 0.0037, Test Loss: 0.0032, Train L1 Norm: 0.0109, Test L1 Norm: 0.0109, Train Linf Norm: 1.7523, Test Linf Norm: 1.1965\n",
            "Epoch 37: Train Loss: 0.0038, Test Loss: 0.0042, Train L1 Norm: 0.0108, Test L1 Norm: 0.0102, Train Linf Norm: 1.7093, Test Linf Norm: 1.0652\n",
            "Epoch 38: Train Loss: 0.0038, Test Loss: 0.0044, Train L1 Norm: 0.0097, Test L1 Norm: 0.0093, Train Linf Norm: 1.4594, Test Linf Norm: 0.9382\n",
            "Epoch 39: Train Loss: 0.0036, Test Loss: 0.0034, Train L1 Norm: 0.0090, Test L1 Norm: 0.0107, Train Linf Norm: 1.3094, Test Linf Norm: 1.2149\n",
            "Epoch 40: Train Loss: 0.0038, Test Loss: 0.0031, Train L1 Norm: 0.0100, Test L1 Norm: 0.0085, Train Linf Norm: 1.5386, Test Linf Norm: 0.8494\n",
            "Epoch 41: Train Loss: 0.0037, Test Loss: 0.0028, Train L1 Norm: 0.0094, Test L1 Norm: 0.0095, Train Linf Norm: 1.3747, Test Linf Norm: 1.0631\n",
            "Epoch 42: Train Loss: 0.0036, Test Loss: 0.0036, Train L1 Norm: 0.0083, Test L1 Norm: 0.0172, Train Linf Norm: 1.0956, Test Linf Norm: 2.0230\n",
            "Epoch 43: Train Loss: 0.0039, Test Loss: 0.0032, Train L1 Norm: 0.0097, Test L1 Norm: 0.0136, Train Linf Norm: 1.4375, Test Linf Norm: 1.4439\n",
            "Epoch 44: Train Loss: 0.0039, Test Loss: 0.0030, Train L1 Norm: 0.0088, Test L1 Norm: 0.0068, Train Linf Norm: 1.2493, Test Linf Norm: 0.7341\n",
            "Epoch 45: Train Loss: 0.0035, Test Loss: 0.0038, Train L1 Norm: 0.0090, Test L1 Norm: 0.0081, Train Linf Norm: 1.3215, Test Linf Norm: 0.8847\n",
            "Epoch 46: Train Loss: 0.0035, Test Loss: 0.0034, Train L1 Norm: 0.0088, Test L1 Norm: 0.0076, Train Linf Norm: 1.2617, Test Linf Norm: 0.7755\n",
            "Epoch 47: Train Loss: 0.0036, Test Loss: 0.0030, Train L1 Norm: 0.0097, Test L1 Norm: 0.0088, Train Linf Norm: 1.5133, Test Linf Norm: 0.9812\n",
            "Epoch 48: Train Loss: 0.0027, Test Loss: 0.0026, Train L1 Norm: 0.0070, Test L1 Norm: 0.0091, Train Linf Norm: 0.9269, Test Linf Norm: 1.0090\n",
            "Epoch 49: Train Loss: 0.0027, Test Loss: 0.0026, Train L1 Norm: 0.0080, Test L1 Norm: 0.0076, Train Linf Norm: 1.2359, Test Linf Norm: 0.8035\n",
            "Epoch 50: Train Loss: 0.0028, Test Loss: 0.0030, Train L1 Norm: 0.0074, Test L1 Norm: 0.0071, Train Linf Norm: 1.0438, Test Linf Norm: 0.7436\n",
            "Epoch 51: Train Loss: 0.0028, Test Loss: 0.0037, Train L1 Norm: 0.0076, Test L1 Norm: 0.0094, Train Linf Norm: 1.0943, Test Linf Norm: 1.0976\n",
            "Epoch 52: Train Loss: 0.0028, Test Loss: 0.0025, Train L1 Norm: 0.0069, Test L1 Norm: 0.0065, Train Linf Norm: 0.8992, Test Linf Norm: 0.6766\n",
            "Epoch 53: Train Loss: 0.0027, Test Loss: 0.0025, Train L1 Norm: 0.0071, Test L1 Norm: 0.0087, Train Linf Norm: 0.9692, Test Linf Norm: 0.9953\n",
            "Epoch 54: Train Loss: 0.0028, Test Loss: 0.0028, Train L1 Norm: 0.0066, Test L1 Norm: 0.0097, Train Linf Norm: 0.8598, Test Linf Norm: 1.0339\n",
            "Epoch 55: Train Loss: 0.0029, Test Loss: 0.0026, Train L1 Norm: 0.0071, Test L1 Norm: 0.0082, Train Linf Norm: 0.9767, Test Linf Norm: 0.9788\n",
            "Epoch 56: Train Loss: 0.0026, Test Loss: 0.0025, Train L1 Norm: 0.0066, Test L1 Norm: 0.0117, Train Linf Norm: 0.8722, Test Linf Norm: 1.4018\n",
            "Epoch 57: Train Loss: 0.0027, Test Loss: 0.0024, Train L1 Norm: 0.0071, Test L1 Norm: 0.0086, Train Linf Norm: 0.9882, Test Linf Norm: 0.9402\n",
            "Epoch 58: Train Loss: 0.0027, Test Loss: 0.0024, Train L1 Norm: 0.0074, Test L1 Norm: 0.0091, Train Linf Norm: 1.0606, Test Linf Norm: 1.0325\n",
            "Epoch 59: Train Loss: 0.0027, Test Loss: 0.0027, Train L1 Norm: 0.0070, Test L1 Norm: 0.0081, Train Linf Norm: 0.9837, Test Linf Norm: 0.9314\n",
            "Epoch 60: Train Loss: 0.0026, Test Loss: 0.0028, Train L1 Norm: 0.0066, Test L1 Norm: 0.0084, Train Linf Norm: 0.9035, Test Linf Norm: 0.9128\n",
            "Epoch 61: Train Loss: 0.0026, Test Loss: 0.0025, Train L1 Norm: 0.0072, Test L1 Norm: 0.0079, Train Linf Norm: 1.0476, Test Linf Norm: 0.8429\n",
            "Epoch 62: Train Loss: 0.0026, Test Loss: 0.0031, Train L1 Norm: 0.0073, Test L1 Norm: 0.0089, Train Linf Norm: 1.0625, Test Linf Norm: 0.9593\n",
            "Epoch 63: Train Loss: 0.0026, Test Loss: 0.0024, Train L1 Norm: 0.0067, Test L1 Norm: 0.0073, Train Linf Norm: 0.8920, Test Linf Norm: 0.8386\n",
            "Epoch 64: Train Loss: 0.0028, Test Loss: 0.0029, Train L1 Norm: 0.0073, Test L1 Norm: 0.0079, Train Linf Norm: 1.0322, Test Linf Norm: 0.9201\n",
            "Epoch 65: Train Loss: 0.0026, Test Loss: 0.0027, Train L1 Norm: 0.0065, Test L1 Norm: 0.0070, Train Linf Norm: 0.8852, Test Linf Norm: 0.7480\n",
            "Epoch 66: Train Loss: 0.0026, Test Loss: 0.0023, Train L1 Norm: 0.0067, Test L1 Norm: 0.0087, Train Linf Norm: 0.9268, Test Linf Norm: 1.0723\n",
            "Epoch 67: Train Loss: 0.0027, Test Loss: 0.0030, Train L1 Norm: 0.0065, Test L1 Norm: 0.0092, Train Linf Norm: 0.8559, Test Linf Norm: 1.0366\n",
            "Epoch 68: Train Loss: 0.0025, Test Loss: 0.0022, Train L1 Norm: 0.0066, Test L1 Norm: 0.0073, Train Linf Norm: 0.8993, Test Linf Norm: 0.7811\n"
          ]
        },
        {
          "output_type": "stream",
          "name": "stderr",
          "text": [
            "\u001b[32m[I 2023-05-13 14:05:41,204]\u001b[0m Trial 132 finished with value: 0.006572084407263901 and parameters: {'n_layers': 3, 'n_units_0': 58, 'n_units_1': 189, 'n_units_2': 114, 'hidden_activation': 'ReLU', 'output_activation': 'Linear', 'loss': 'MAE', 'optimizer': 'Adam', 'lr': 0.00048308691476440586, 'batch_size': 247, 'n_epochs': 69, 'scheduler': 'ReduceLROnPlateau'}. Best is trial 42 with value: 0.004305121898895595.\u001b[0m\n"
          ]
        },
        {
          "output_type": "stream",
          "name": "stdout",
          "text": [
            "Epoch 69: Train Loss: 0.0026, Test Loss: 0.0023, Train L1 Norm: 0.0068, Test L1 Norm: 0.0066, Train Linf Norm: 0.9355, Test Linf Norm: 0.7193\n"
          ]
        },
        {
          "output_type": "stream",
          "name": "stderr",
          "text": [
            "\u001b[32m[I 2023-05-13 14:05:42,636]\u001b[0m Trial 133 pruned. \u001b[0m\n"
          ]
        },
        {
          "output_type": "stream",
          "name": "stdout",
          "text": [
            "Epoch 1: Train Loss: 0.3312, Test Loss: 0.0715, Train L1 Norm: 0.7154, Test L1 Norm: 0.0933, Train Linf Norm: 111.4855, Test Linf Norm: 7.9796\n",
            "Epoch 1: Train Loss: 0.2596, Test Loss: 0.0158, Train L1 Norm: 0.7477, Test L1 Norm: 0.0361, Train Linf Norm: 125.8394, Test Linf Norm: 3.0309\n",
            "Epoch 2: Train Loss: 0.0248, Test Loss: 0.0171, Train L1 Norm: 0.0546, Test L1 Norm: 0.0219, Train Linf Norm: 8.0922, Test Linf Norm: 1.7827\n",
            "Epoch 3: Train Loss: 0.0250, Test Loss: 0.0256, Train L1 Norm: 0.0528, Test L1 Norm: 0.0551, Train Linf Norm: 8.0737, Test Linf Norm: 6.0653\n",
            "Epoch 4: Train Loss: 0.0192, Test Loss: 0.0245, Train L1 Norm: 0.0436, Test L1 Norm: 0.0364, Train Linf Norm: 6.6994, Test Linf Norm: 3.0791\n",
            "Epoch 5: Train Loss: 0.0248, Test Loss: 0.0199, Train L1 Norm: 0.0484, Test L1 Norm: 0.0720, Train Linf Norm: 7.1132, Test Linf Norm: 7.6115\n",
            "Epoch 6: Train Loss: 0.0248, Test Loss: 0.0151, Train L1 Norm: 0.0510, Test L1 Norm: 0.0262, Train Linf Norm: 7.8208, Test Linf Norm: 2.3546\n",
            "Epoch 7: Train Loss: 0.0236, Test Loss: 0.0123, Train L1 Norm: 0.0430, Test L1 Norm: 0.0289, Train Linf Norm: 5.9142, Test Linf Norm: 2.4543\n",
            "Epoch 8: Train Loss: 0.0257, Test Loss: 0.0248, Train L1 Norm: 0.0440, Test L1 Norm: 0.0361, Train Linf Norm: 5.9081, Test Linf Norm: 3.0151\n",
            "Epoch 9: Train Loss: 0.0216, Test Loss: 0.0251, Train L1 Norm: 0.0405, Test L1 Norm: 0.0433, Train Linf Norm: 5.6966, Test Linf Norm: 4.0477\n",
            "Epoch 10: Train Loss: 0.0268, Test Loss: 0.0669, Train L1 Norm: 0.0428, Test L1 Norm: 0.0595, Train Linf Norm: 5.4801, Test Linf Norm: 4.3197\n",
            "Epoch 11: Train Loss: 0.0193, Test Loss: 0.0302, Train L1 Norm: 0.0329, Test L1 Norm: 0.0248, Train Linf Norm: 4.4864, Test Linf Norm: 1.3269\n",
            "Epoch 12: Train Loss: 0.0188, Test Loss: 0.0347, Train L1 Norm: 0.0313, Test L1 Norm: 0.0673, Train Linf Norm: 4.0555, Test Linf Norm: 5.5185\n",
            "Epoch 13: Train Loss: 0.0183, Test Loss: 0.0158, Train L1 Norm: 0.0370, Test L1 Norm: 0.0577, Train Linf Norm: 5.1773, Test Linf Norm: 5.6387\n",
            "Epoch 14: Train Loss: 0.0077, Test Loss: 0.0188, Train L1 Norm: 0.0189, Test L1 Norm: 0.0147, Train Linf Norm: 2.6940, Test Linf Norm: 1.0340\n",
            "Epoch 15: Train Loss: 0.0088, Test Loss: 0.0064, Train L1 Norm: 0.0213, Test L1 Norm: 0.0186, Train Linf Norm: 3.2623, Test Linf Norm: 1.8344\n",
            "Epoch 16: Train Loss: 0.0091, Test Loss: 0.0060, Train L1 Norm: 0.0201, Test L1 Norm: 0.0152, Train Linf Norm: 2.9738, Test Linf Norm: 1.2095\n",
            "Epoch 17: Train Loss: 0.0085, Test Loss: 0.0062, Train L1 Norm: 0.0209, Test L1 Norm: 0.0150, Train Linf Norm: 3.1461, Test Linf Norm: 1.3876\n",
            "Epoch 18: Train Loss: 0.0089, Test Loss: 0.0077, Train L1 Norm: 0.0177, Test L1 Norm: 0.0181, Train Linf Norm: 2.4984, Test Linf Norm: 1.9709\n",
            "Epoch 19: Train Loss: 0.0082, Test Loss: 0.0075, Train L1 Norm: 0.0222, Test L1 Norm: 0.0133, Train Linf Norm: 3.6198, Test Linf Norm: 1.2281\n",
            "Epoch 20: Train Loss: 0.0080, Test Loss: 0.0084, Train L1 Norm: 0.0216, Test L1 Norm: 0.0146, Train Linf Norm: 3.5769, Test Linf Norm: 1.1802\n",
            "Epoch 21: Train Loss: 0.0105, Test Loss: 0.0093, Train L1 Norm: 0.0195, Test L1 Norm: 0.0107, Train Linf Norm: 2.6834, Test Linf Norm: 0.7813\n",
            "Epoch 22: Train Loss: 0.0090, Test Loss: 0.0046, Train L1 Norm: 0.0192, Test L1 Norm: 0.0153, Train Linf Norm: 2.8011, Test Linf Norm: 1.5073\n",
            "Epoch 23: Train Loss: 0.0082, Test Loss: 0.0055, Train L1 Norm: 0.0189, Test L1 Norm: 0.0209, Train Linf Norm: 2.9097, Test Linf Norm: 2.2851\n",
            "Epoch 24: Train Loss: 0.0102, Test Loss: 0.0071, Train L1 Norm: 0.0204, Test L1 Norm: 0.0087, Train Linf Norm: 2.9917, Test Linf Norm: 0.7046\n",
            "Epoch 25: Train Loss: 0.0108, Test Loss: 0.0061, Train L1 Norm: 0.0232, Test L1 Norm: 0.0121, Train Linf Norm: 3.5256, Test Linf Norm: 1.2661\n",
            "Epoch 26: Train Loss: 0.0094, Test Loss: 0.0132, Train L1 Norm: 0.0215, Test L1 Norm: 0.0431, Train Linf Norm: 3.3965, Test Linf Norm: 4.6582\n",
            "Epoch 27: Train Loss: 0.0083, Test Loss: 0.0052, Train L1 Norm: 0.0204, Test L1 Norm: 0.0131, Train Linf Norm: 2.7717, Test Linf Norm: 1.4302\n",
            "Epoch 28: Train Loss: 0.0090, Test Loss: 0.0156, Train L1 Norm: 0.0192, Test L1 Norm: 0.0153, Train Linf Norm: 2.5941, Test Linf Norm: 1.0635\n",
            "Epoch 29: Train Loss: 0.0049, Test Loss: 0.0039, Train L1 Norm: 0.0138, Test L1 Norm: 0.0086, Train Linf Norm: 2.1405, Test Linf Norm: 0.7876\n",
            "Epoch 30: Train Loss: 0.0048, Test Loss: 0.0043, Train L1 Norm: 0.0153, Test L1 Norm: 0.0113, Train Linf Norm: 2.5828, Test Linf Norm: 1.2473\n",
            "Epoch 31: Train Loss: 0.0044, Test Loss: 0.0034, Train L1 Norm: 0.0122, Test L1 Norm: 0.0102, Train Linf Norm: 1.8168, Test Linf Norm: 1.1274\n",
            "Epoch 32: Train Loss: 0.0051, Test Loss: 0.0047, Train L1 Norm: 0.0131, Test L1 Norm: 0.0096, Train Linf Norm: 2.0425, Test Linf Norm: 1.1578\n",
            "Epoch 33: Train Loss: 0.0057, Test Loss: 0.0070, Train L1 Norm: 0.0146, Test L1 Norm: 0.0208, Train Linf Norm: 2.3107, Test Linf Norm: 2.0643\n",
            "Epoch 34: Train Loss: 0.0053, Test Loss: 0.0039, Train L1 Norm: 0.0144, Test L1 Norm: 0.0099, Train Linf Norm: 2.3144, Test Linf Norm: 1.0633\n",
            "Epoch 35: Train Loss: 0.0045, Test Loss: 0.0040, Train L1 Norm: 0.0117, Test L1 Norm: 0.0084, Train Linf Norm: 1.7117, Test Linf Norm: 0.8194\n",
            "Epoch 36: Train Loss: 0.0040, Test Loss: 0.0031, Train L1 Norm: 0.0120, Test L1 Norm: 0.0118, Train Linf Norm: 1.8814, Test Linf Norm: 1.3073\n",
            "Epoch 37: Train Loss: 0.0045, Test Loss: 0.0033, Train L1 Norm: 0.0121, Test L1 Norm: 0.0112, Train Linf Norm: 1.8663, Test Linf Norm: 1.2376\n",
            "Epoch 38: Train Loss: 0.0048, Test Loss: 0.0068, Train L1 Norm: 0.0134, Test L1 Norm: 0.0083, Train Linf Norm: 2.1206, Test Linf Norm: 0.6688\n",
            "Epoch 39: Train Loss: 0.0049, Test Loss: 0.0049, Train L1 Norm: 0.0128, Test L1 Norm: 0.0112, Train Linf Norm: 1.8506, Test Linf Norm: 1.1917\n",
            "Epoch 40: Train Loss: 0.0043, Test Loss: 0.0060, Train L1 Norm: 0.0133, Test L1 Norm: 0.0148, Train Linf Norm: 2.1923, Test Linf Norm: 1.3123\n",
            "Epoch 41: Train Loss: 0.0052, Test Loss: 0.0034, Train L1 Norm: 0.0130, Test L1 Norm: 0.0091, Train Linf Norm: 2.0470, Test Linf Norm: 0.7454\n",
            "Epoch 42: Train Loss: 0.0047, Test Loss: 0.0078, Train L1 Norm: 0.0153, Test L1 Norm: 0.0118, Train Linf Norm: 2.6045, Test Linf Norm: 0.8437\n",
            "Epoch 43: Train Loss: 0.0030, Test Loss: 0.0031, Train L1 Norm: 0.0106, Test L1 Norm: 0.0072, Train Linf Norm: 1.6275, Test Linf Norm: 0.5697\n",
            "Epoch 44: Train Loss: 0.0030, Test Loss: 0.0038, Train L1 Norm: 0.0106, Test L1 Norm: 0.0074, Train Linf Norm: 1.7839, Test Linf Norm: 0.5741\n",
            "Epoch 45: Train Loss: 0.0031, Test Loss: 0.0028, Train L1 Norm: 0.0099, Test L1 Norm: 0.0066, Train Linf Norm: 1.5779, Test Linf Norm: 0.5595\n",
            "Epoch 46: Train Loss: 0.0032, Test Loss: 0.0029, Train L1 Norm: 0.0106, Test L1 Norm: 0.0059, Train Linf Norm: 1.7634, Test Linf Norm: 0.5731\n",
            "Epoch 47: Train Loss: 0.0031, Test Loss: 0.0026, Train L1 Norm: 0.0103, Test L1 Norm: 0.0071, Train Linf Norm: 1.6748, Test Linf Norm: 0.5781\n",
            "Epoch 48: Train Loss: 0.0035, Test Loss: 0.0045, Train L1 Norm: 0.0108, Test L1 Norm: 0.0078, Train Linf Norm: 1.7648, Test Linf Norm: 0.6069\n",
            "Epoch 49: Train Loss: 0.0032, Test Loss: 0.0048, Train L1 Norm: 0.0093, Test L1 Norm: 0.0076, Train Linf Norm: 1.4474, Test Linf Norm: 0.7578\n",
            "Epoch 50: Train Loss: 0.0032, Test Loss: 0.0036, Train L1 Norm: 0.0111, Test L1 Norm: 0.0100, Train Linf Norm: 1.8961, Test Linf Norm: 1.2734\n",
            "Epoch 51: Train Loss: 0.0031, Test Loss: 0.0025, Train L1 Norm: 0.0104, Test L1 Norm: 0.0065, Train Linf Norm: 1.7345, Test Linf Norm: 0.5299\n",
            "Epoch 52: Train Loss: 0.0032, Test Loss: 0.0032, Train L1 Norm: 0.0108, Test L1 Norm: 0.0064, Train Linf Norm: 1.7997, Test Linf Norm: 0.5650\n",
            "Epoch 53: Train Loss: 0.0031, Test Loss: 0.0034, Train L1 Norm: 0.0097, Test L1 Norm: 0.0085, Train Linf Norm: 1.5657, Test Linf Norm: 0.7377\n",
            "Epoch 54: Train Loss: 0.0031, Test Loss: 0.0026, Train L1 Norm: 0.0103, Test L1 Norm: 0.0073, Train Linf Norm: 1.6978, Test Linf Norm: 0.6377\n",
            "Epoch 55: Train Loss: 0.0030, Test Loss: 0.0034, Train L1 Norm: 0.0095, Test L1 Norm: 0.0070, Train Linf Norm: 1.5642, Test Linf Norm: 0.6914\n",
            "Epoch 56: Train Loss: 0.0029, Test Loss: 0.0026, Train L1 Norm: 0.0098, Test L1 Norm: 0.0072, Train Linf Norm: 1.5460, Test Linf Norm: 0.6446\n",
            "Epoch 57: Train Loss: 0.0032, Test Loss: 0.0051, Train L1 Norm: 0.0103, Test L1 Norm: 0.0093, Train Linf Norm: 1.7153, Test Linf Norm: 0.8147\n",
            "Epoch 58: Train Loss: 0.0025, Test Loss: 0.0023, Train L1 Norm: 0.0091, Test L1 Norm: 0.0058, Train Linf Norm: 1.5299, Test Linf Norm: 0.4835\n",
            "Epoch 59: Train Loss: 0.0025, Test Loss: 0.0023, Train L1 Norm: 0.0084, Test L1 Norm: 0.0054, Train Linf Norm: 1.3509, Test Linf Norm: 0.4997\n",
            "Epoch 60: Train Loss: 0.0024, Test Loss: 0.0023, Train L1 Norm: 0.0090, Test L1 Norm: 0.0058, Train Linf Norm: 1.4996, Test Linf Norm: 0.6450\n",
            "Epoch 61: Train Loss: 0.0025, Test Loss: 0.0023, Train L1 Norm: 0.0093, Test L1 Norm: 0.0077, Train Linf Norm: 1.5795, Test Linf Norm: 0.7396\n",
            "Epoch 62: Train Loss: 0.0025, Test Loss: 0.0022, Train L1 Norm: 0.0084, Test L1 Norm: 0.0081, Train Linf Norm: 1.3597, Test Linf Norm: 0.9609\n",
            "Epoch 63: Train Loss: 0.0024, Test Loss: 0.0025, Train L1 Norm: 0.0089, Test L1 Norm: 0.0062, Train Linf Norm: 1.4796, Test Linf Norm: 0.5500\n",
            "Epoch 64: Train Loss: 0.0024, Test Loss: 0.0023, Train L1 Norm: 0.0084, Test L1 Norm: 0.0060, Train Linf Norm: 1.3670, Test Linf Norm: 0.5407\n",
            "Epoch 65: Train Loss: 0.0024, Test Loss: 0.0025, Train L1 Norm: 0.0086, Test L1 Norm: 0.0066, Train Linf Norm: 1.4260, Test Linf Norm: 0.5576\n",
            "Epoch 66: Train Loss: 0.0024, Test Loss: 0.0023, Train L1 Norm: 0.0089, Test L1 Norm: 0.0060, Train Linf Norm: 1.5218, Test Linf Norm: 0.6367\n",
            "Epoch 67: Train Loss: 0.0024, Test Loss: 0.0024, Train L1 Norm: 0.0080, Test L1 Norm: 0.0058, Train Linf Norm: 1.2659, Test Linf Norm: 0.6381\n",
            "Epoch 68: Train Loss: 0.0025, Test Loss: 0.0025, Train L1 Norm: 0.0078, Test L1 Norm: 0.0050, Train Linf Norm: 1.1954, Test Linf Norm: 0.4196\n"
          ]
        },
        {
          "output_type": "stream",
          "name": "stderr",
          "text": [
            "\u001b[32m[I 2023-05-13 14:07:19,523]\u001b[0m Trial 134 finished with value: 0.005767188254743814 and parameters: {'n_layers': 3, 'n_units_0': 66, 'n_units_1': 199, 'n_units_2': 105, 'hidden_activation': 'ReLU', 'output_activation': 'Linear', 'loss': 'MAE', 'optimizer': 'Adam', 'lr': 0.0004209837194913825, 'batch_size': 248, 'n_epochs': 69, 'scheduler': 'ReduceLROnPlateau'}. Best is trial 42 with value: 0.004305121898895595.\u001b[0m\n"
          ]
        },
        {
          "output_type": "stream",
          "name": "stdout",
          "text": [
            "Epoch 69: Train Loss: 0.0022, Test Loss: 0.0023, Train L1 Norm: 0.0079, Test L1 Norm: 0.0058, Train Linf Norm: 1.2807, Test Linf Norm: 0.5195\n",
            "Epoch 1: Train Loss: 0.3000, Test Loss: 0.0154, Train L1 Norm: 0.4118, Test L1 Norm: 0.0526, Train Linf Norm: 45.2696, Test Linf Norm: 4.5713\n"
          ]
        },
        {
          "output_type": "stream",
          "name": "stderr",
          "text": [
            "\u001b[32m[I 2023-05-13 14:07:22,179]\u001b[0m Trial 135 pruned. \u001b[0m\n"
          ]
        },
        {
          "output_type": "stream",
          "name": "stdout",
          "text": [
            "Epoch 2: Train Loss: 0.0209, Test Loss: 0.0118, Train L1 Norm: 0.0410, Test L1 Norm: 0.0430, Train Linf Norm: 5.4157, Test Linf Norm: 4.0340\n"
          ]
        },
        {
          "output_type": "stream",
          "name": "stderr",
          "text": [
            "\u001b[32m[I 2023-05-13 14:07:25,105]\u001b[0m Trial 136 pruned. \u001b[0m\n"
          ]
        },
        {
          "output_type": "stream",
          "name": "stdout",
          "text": [
            "Epoch 1: Train Loss: 0.1872, Test Loss: 0.0644, Train L1 Norm: 0.3170, Test L1 Norm: 0.0810, Train Linf Norm: 13.8460, Test Linf Norm: 2.9672\n",
            "Epoch 1: Train Loss: 0.2274, Test Loss: 0.0198, Train L1 Norm: 0.5632, Test L1 Norm: 0.0379, Train Linf Norm: 59.6248, Test Linf Norm: 2.7982\n",
            "Epoch 2: Train Loss: 0.0218, Test Loss: 0.0253, Train L1 Norm: 0.0445, Test L1 Norm: 0.0341, Train Linf Norm: 4.1187, Test Linf Norm: 2.0774\n",
            "Epoch 3: Train Loss: 0.0185, Test Loss: 0.0163, Train L1 Norm: 0.0369, Test L1 Norm: 0.0264, Train Linf Norm: 3.5134, Test Linf Norm: 1.7415\n",
            "Epoch 4: Train Loss: 0.0200, Test Loss: 0.0119, Train L1 Norm: 0.0378, Test L1 Norm: 0.0634, Train Linf Norm: 3.6409, Test Linf Norm: 5.4165\n",
            "Epoch 5: Train Loss: 0.0157, Test Loss: 0.0092, Train L1 Norm: 0.0334, Test L1 Norm: 0.0136, Train Linf Norm: 3.2921, Test Linf Norm: 0.8034\n",
            "Epoch 6: Train Loss: 0.0174, Test Loss: 0.0153, Train L1 Norm: 0.0351, Test L1 Norm: 0.0447, Train Linf Norm: 3.4864, Test Linf Norm: 3.7255\n",
            "Epoch 7: Train Loss: 0.0151, Test Loss: 0.0078, Train L1 Norm: 0.0300, Test L1 Norm: 0.0491, Train Linf Norm: 2.8657, Test Linf Norm: 4.1060\n",
            "Epoch 8: Train Loss: 0.0169, Test Loss: 0.0084, Train L1 Norm: 0.0355, Test L1 Norm: 0.0331, Train Linf Norm: 3.5957, Test Linf Norm: 2.7110\n",
            "Epoch 9: Train Loss: 0.0135, Test Loss: 0.0130, Train L1 Norm: 0.0345, Test L1 Norm: 0.0168, Train Linf Norm: 3.6494, Test Linf Norm: 0.8276\n",
            "Epoch 10: Train Loss: 0.0174, Test Loss: 0.0120, Train L1 Norm: 0.0326, Test L1 Norm: 0.0333, Train Linf Norm: 3.0381, Test Linf Norm: 2.5278\n",
            "Epoch 11: Train Loss: 0.0140, Test Loss: 0.0118, Train L1 Norm: 0.0300, Test L1 Norm: 0.0481, Train Linf Norm: 3.0662, Test Linf Norm: 4.0011\n",
            "Epoch 12: Train Loss: 0.0132, Test Loss: 0.0468, Train L1 Norm: 0.0418, Test L1 Norm: 0.0628, Train Linf Norm: 5.0675, Test Linf Norm: 4.1881\n",
            "Epoch 13: Train Loss: 0.0181, Test Loss: 0.0066, Train L1 Norm: 0.0343, Test L1 Norm: 0.0219, Train Linf Norm: 3.4145, Test Linf Norm: 1.8100\n",
            "Epoch 14: Train Loss: 0.0126, Test Loss: 0.0073, Train L1 Norm: 0.0272, Test L1 Norm: 0.0242, Train Linf Norm: 2.8133, Test Linf Norm: 1.8757\n",
            "Epoch 15: Train Loss: 0.0160, Test Loss: 0.0312, Train L1 Norm: 0.0320, Test L1 Norm: 0.0489, Train Linf Norm: 3.2343, Test Linf Norm: 3.8285\n",
            "Epoch 16: Train Loss: 0.0156, Test Loss: 0.0296, Train L1 Norm: 0.0358, Test L1 Norm: 0.0299, Train Linf Norm: 3.9910, Test Linf Norm: 1.4470\n",
            "Epoch 17: Train Loss: 0.0138, Test Loss: 0.0059, Train L1 Norm: 0.0305, Test L1 Norm: 0.0311, Train Linf Norm: 3.3070, Test Linf Norm: 3.0193\n",
            "Epoch 18: Train Loss: 0.0164, Test Loss: 0.0221, Train L1 Norm: 0.0274, Test L1 Norm: 0.0241, Train Linf Norm: 2.3937, Test Linf Norm: 1.2681\n",
            "Epoch 19: Train Loss: 0.0119, Test Loss: 0.0078, Train L1 Norm: 0.0241, Test L1 Norm: 0.0446, Train Linf Norm: 2.3682, Test Linf Norm: 3.8740\n",
            "Epoch 20: Train Loss: 0.0154, Test Loss: 0.0092, Train L1 Norm: 0.0374, Test L1 Norm: 0.0245, Train Linf Norm: 4.2776, Test Linf Norm: 1.9164\n",
            "Epoch 21: Train Loss: 0.0135, Test Loss: 0.0089, Train L1 Norm: 0.0261, Test L1 Norm: 0.0270, Train Linf Norm: 2.6665, Test Linf Norm: 2.1051\n",
            "Epoch 22: Train Loss: 0.0130, Test Loss: 0.0100, Train L1 Norm: 0.0258, Test L1 Norm: 0.0224, Train Linf Norm: 2.5436, Test Linf Norm: 1.7133\n",
            "Epoch 23: Train Loss: 0.0133, Test Loss: 0.0056, Train L1 Norm: 0.0269, Test L1 Norm: 0.0423, Train Linf Norm: 2.7290, Test Linf Norm: 3.8299\n",
            "Epoch 24: Train Loss: 0.0137, Test Loss: 0.0179, Train L1 Norm: 0.0327, Test L1 Norm: 0.0265, Train Linf Norm: 3.6754, Test Linf Norm: 1.9695\n",
            "Epoch 25: Train Loss: 0.0122, Test Loss: 0.0097, Train L1 Norm: 0.0258, Test L1 Norm: 0.0194, Train Linf Norm: 2.6285, Test Linf Norm: 1.4608\n",
            "Epoch 26: Train Loss: 0.0123, Test Loss: 0.0055, Train L1 Norm: 0.0225, Test L1 Norm: 0.0173, Train Linf Norm: 2.1125, Test Linf Norm: 1.3082\n",
            "Epoch 27: Train Loss: 0.0137, Test Loss: 0.0091, Train L1 Norm: 0.0295, Test L1 Norm: 0.0210, Train Linf Norm: 3.1961, Test Linf Norm: 1.7159\n",
            "Epoch 28: Train Loss: 0.0107, Test Loss: 0.0154, Train L1 Norm: 0.0240, Test L1 Norm: 0.0432, Train Linf Norm: 2.5344, Test Linf Norm: 3.4282\n",
            "Epoch 29: Train Loss: 0.0141, Test Loss: 0.0069, Train L1 Norm: 0.0295, Test L1 Norm: 0.0172, Train Linf Norm: 3.0661, Test Linf Norm: 1.0590\n",
            "Epoch 30: Train Loss: 0.0120, Test Loss: 0.0086, Train L1 Norm: 0.0273, Test L1 Norm: 0.0312, Train Linf Norm: 2.9639, Test Linf Norm: 2.9381\n",
            "Epoch 31: Train Loss: 0.0125, Test Loss: 0.0203, Train L1 Norm: 0.0227, Test L1 Norm: 0.0227, Train Linf Norm: 2.2224, Test Linf Norm: 1.5348\n",
            "Epoch 32: Train Loss: 0.0121, Test Loss: 0.0099, Train L1 Norm: 0.0291, Test L1 Norm: 0.0193, Train Linf Norm: 3.2424, Test Linf Norm: 1.3009\n",
            "Epoch 33: Train Loss: 0.0056, Test Loss: 0.0052, Train L1 Norm: 0.0117, Test L1 Norm: 0.0089, Train Linf Norm: 1.1154, Test Linf Norm: 0.6126\n",
            "Epoch 34: Train Loss: 0.0059, Test Loss: 0.0037, Train L1 Norm: 0.0140, Test L1 Norm: 0.0077, Train Linf Norm: 1.4579, Test Linf Norm: 0.5557\n",
            "Epoch 35: Train Loss: 0.0053, Test Loss: 0.0065, Train L1 Norm: 0.0123, Test L1 Norm: 0.0080, Train Linf Norm: 1.2727, Test Linf Norm: 0.4782\n",
            "Epoch 36: Train Loss: 0.0069, Test Loss: 0.0038, Train L1 Norm: 0.0149, Test L1 Norm: 0.0083, Train Linf Norm: 1.4780, Test Linf Norm: 0.5939\n",
            "Epoch 37: Train Loss: 0.0055, Test Loss: 0.0050, Train L1 Norm: 0.0138, Test L1 Norm: 0.0224, Train Linf Norm: 1.4905, Test Linf Norm: 1.9467\n",
            "Epoch 38: Train Loss: 0.0063, Test Loss: 0.0164, Train L1 Norm: 0.0136, Test L1 Norm: 0.0144, Train Linf Norm: 1.3689, Test Linf Norm: 0.7679\n",
            "Epoch 39: Train Loss: 0.0063, Test Loss: 0.0076, Train L1 Norm: 0.0142, Test L1 Norm: 0.0221, Train Linf Norm: 1.4689, Test Linf Norm: 1.8630\n",
            "Epoch 40: Train Loss: 0.0069, Test Loss: 0.0066, Train L1 Norm: 0.0147, Test L1 Norm: 0.0203, Train Linf Norm: 1.4872, Test Linf Norm: 1.5977\n",
            "Epoch 41: Train Loss: 0.0033, Test Loss: 0.0034, Train L1 Norm: 0.0087, Test L1 Norm: 0.0080, Train Linf Norm: 0.9068, Test Linf Norm: 0.5886\n",
            "Epoch 42: Train Loss: 0.0033, Test Loss: 0.0029, Train L1 Norm: 0.0086, Test L1 Norm: 0.0061, Train Linf Norm: 0.8781, Test Linf Norm: 0.4408\n",
            "Epoch 43: Train Loss: 0.0038, Test Loss: 0.0035, Train L1 Norm: 0.0080, Test L1 Norm: 0.0073, Train Linf Norm: 0.7377, Test Linf Norm: 0.5280\n",
            "Epoch 44: Train Loss: 0.0036, Test Loss: 0.0031, Train L1 Norm: 0.0083, Test L1 Norm: 0.0077, Train Linf Norm: 0.8372, Test Linf Norm: 0.5653\n",
            "Epoch 45: Train Loss: 0.0039, Test Loss: 0.0058, Train L1 Norm: 0.0083, Test L1 Norm: 0.0126, Train Linf Norm: 0.7857, Test Linf Norm: 0.9312\n",
            "Epoch 46: Train Loss: 0.0035, Test Loss: 0.0049, Train L1 Norm: 0.0081, Test L1 Norm: 0.0096, Train Linf Norm: 0.7959, Test Linf Norm: 0.7672\n",
            "Epoch 47: Train Loss: 0.0033, Test Loss: 0.0024, Train L1 Norm: 0.0076, Test L1 Norm: 0.0048, Train Linf Norm: 0.7347, Test Linf Norm: 0.3072\n",
            "Epoch 48: Train Loss: 0.0035, Test Loss: 0.0034, Train L1 Norm: 0.0089, Test L1 Norm: 0.0068, Train Linf Norm: 0.9192, Test Linf Norm: 0.4829\n",
            "Epoch 49: Train Loss: 0.0031, Test Loss: 0.0025, Train L1 Norm: 0.0081, Test L1 Norm: 0.0072, Train Linf Norm: 0.8353, Test Linf Norm: 0.5479\n",
            "Epoch 50: Train Loss: 0.0040, Test Loss: 0.0031, Train L1 Norm: 0.0080, Test L1 Norm: 0.0065, Train Linf Norm: 0.7129, Test Linf Norm: 0.4916\n",
            "Epoch 51: Train Loss: 0.0033, Test Loss: 0.0047, Train L1 Norm: 0.0083, Test L1 Norm: 0.0187, Train Linf Norm: 0.8515, Test Linf Norm: 1.4513\n",
            "Epoch 52: Train Loss: 0.0037, Test Loss: 0.0051, Train L1 Norm: 0.0083, Test L1 Norm: 0.0057, Train Linf Norm: 0.7907, Test Linf Norm: 0.3451\n",
            "Epoch 53: Train Loss: 0.0034, Test Loss: 0.0025, Train L1 Norm: 0.0086, Test L1 Norm: 0.0059, Train Linf Norm: 0.8930, Test Linf Norm: 0.4319\n",
            "Epoch 54: Train Loss: 0.0023, Test Loss: 0.0030, Train L1 Norm: 0.0055, Test L1 Norm: 0.0043, Train Linf Norm: 0.4995, Test Linf Norm: 0.2275\n",
            "Epoch 55: Train Loss: 0.0024, Test Loss: 0.0025, Train L1 Norm: 0.0066, Test L1 Norm: 0.0052, Train Linf Norm: 0.6750, Test Linf Norm: 0.3832\n",
            "Epoch 56: Train Loss: 0.0026, Test Loss: 0.0028, Train L1 Norm: 0.0056, Test L1 Norm: 0.0069, Train Linf Norm: 0.5092, Test Linf Norm: 0.5239\n",
            "Epoch 57: Train Loss: 0.0024, Test Loss: 0.0024, Train L1 Norm: 0.0060, Test L1 Norm: 0.0050, Train Linf Norm: 0.5841, Test Linf Norm: 0.3275\n",
            "Epoch 58: Train Loss: 0.0026, Test Loss: 0.0025, Train L1 Norm: 0.0058, Test L1 Norm: 0.0059, Train Linf Norm: 0.5229, Test Linf Norm: 0.4555\n",
            "Epoch 59: Train Loss: 0.0024, Test Loss: 0.0024, Train L1 Norm: 0.0063, Test L1 Norm: 0.0043, Train Linf Norm: 0.6346, Test Linf Norm: 0.2484\n",
            "Epoch 60: Train Loss: 0.0022, Test Loss: 0.0021, Train L1 Norm: 0.0059, Test L1 Norm: 0.0044, Train Linf Norm: 0.5969, Test Linf Norm: 0.2791\n",
            "Epoch 61: Train Loss: 0.0021, Test Loss: 0.0026, Train L1 Norm: 0.0051, Test L1 Norm: 0.0052, Train Linf Norm: 0.4824, Test Linf Norm: 0.3244\n",
            "Epoch 62: Train Loss: 0.0021, Test Loss: 0.0026, Train L1 Norm: 0.0055, Test L1 Norm: 0.0048, Train Linf Norm: 0.5531, Test Linf Norm: 0.3290\n",
            "Epoch 63: Train Loss: 0.0022, Test Loss: 0.0020, Train L1 Norm: 0.0055, Test L1 Norm: 0.0046, Train Linf Norm: 0.5349, Test Linf Norm: 0.3170\n",
            "Epoch 64: Train Loss: 0.0021, Test Loss: 0.0021, Train L1 Norm: 0.0055, Test L1 Norm: 0.0045, Train Linf Norm: 0.5549, Test Linf Norm: 0.3090\n",
            "Epoch 65: Train Loss: 0.0021, Test Loss: 0.0020, Train L1 Norm: 0.0053, Test L1 Norm: 0.0053, Train Linf Norm: 0.5144, Test Linf Norm: 0.3685\n",
            "Epoch 66: Train Loss: 0.0021, Test Loss: 0.0022, Train L1 Norm: 0.0050, Test L1 Norm: 0.0045, Train Linf Norm: 0.4547, Test Linf Norm: 0.3009\n",
            "Epoch 67: Train Loss: 0.0021, Test Loss: 0.0020, Train L1 Norm: 0.0052, Test L1 Norm: 0.0045, Train Linf Norm: 0.4830, Test Linf Norm: 0.2862\n",
            "Epoch 68: Train Loss: 0.0021, Test Loss: 0.0026, Train L1 Norm: 0.0056, Test L1 Norm: 0.0049, Train Linf Norm: 0.5633, Test Linf Norm: 0.3255\n",
            "Epoch 69: Train Loss: 0.0022, Test Loss: 0.0020, Train L1 Norm: 0.0053, Test L1 Norm: 0.0040, Train Linf Norm: 0.5265, Test Linf Norm: 0.2465\n",
            "Epoch 70: Train Loss: 0.0021, Test Loss: 0.0020, Train L1 Norm: 0.0049, Test L1 Norm: 0.0041, Train Linf Norm: 0.4549, Test Linf Norm: 0.2417\n",
            "Epoch 71: Train Loss: 0.0021, Test Loss: 0.0020, Train L1 Norm: 0.0050, Test L1 Norm: 0.0055, Train Linf Norm: 0.4727, Test Linf Norm: 0.3930\n",
            "Epoch 72: Train Loss: 0.0020, Test Loss: 0.0020, Train L1 Norm: 0.0053, Test L1 Norm: 0.0040, Train Linf Norm: 0.5042, Test Linf Norm: 0.2400\n",
            "Epoch 73: Train Loss: 0.0021, Test Loss: 0.0020, Train L1 Norm: 0.0052, Test L1 Norm: 0.0045, Train Linf Norm: 0.5124, Test Linf Norm: 0.3202\n",
            "Epoch 74: Train Loss: 0.0020, Test Loss: 0.0028, Train L1 Norm: 0.0050, Test L1 Norm: 0.0049, Train Linf Norm: 0.4741, Test Linf Norm: 0.3129\n"
          ]
        },
        {
          "output_type": "stream",
          "name": "stderr",
          "text": [
            "\u001b[32m[I 2023-05-13 14:09:29,117]\u001b[0m Trial 137 finished with value: 0.006415836137253791 and parameters: {'n_layers': 3, 'n_units_0': 83, 'n_units_1': 199, 'n_units_2': 101, 'hidden_activation': 'ReLU', 'output_activation': 'Linear', 'loss': 'MAE', 'optimizer': 'Adam', 'lr': 0.0003080070187615235, 'batch_size': 168, 'n_epochs': 75, 'scheduler': 'ReduceLROnPlateau'}. Best is trial 42 with value: 0.004305121898895595.\u001b[0m\n"
          ]
        },
        {
          "output_type": "stream",
          "name": "stdout",
          "text": [
            "Epoch 75: Train Loss: 0.0020, Test Loss: 0.0028, Train L1 Norm: 0.0049, Test L1 Norm: 0.0064, Train Linf Norm: 0.4637, Test Linf Norm: 0.4627\n"
          ]
        },
        {
          "output_type": "stream",
          "name": "stderr",
          "text": [
            "\u001b[32m[I 2023-05-13 14:09:30,781]\u001b[0m Trial 138 pruned. \u001b[0m\n"
          ]
        },
        {
          "output_type": "stream",
          "name": "stdout",
          "text": [
            "Epoch 1: Train Loss: 0.1964, Test Loss: 0.0396, Train L1 Norm: 0.5080, Test L1 Norm: 0.0829, Train Linf Norm: 59.4304, Test Linf Norm: 6.0373\n"
          ]
        },
        {
          "output_type": "stream",
          "name": "stderr",
          "text": [
            "\u001b[32m[I 2023-05-13 14:09:32,507]\u001b[0m Trial 139 pruned. \u001b[0m\n"
          ]
        },
        {
          "output_type": "stream",
          "name": "stdout",
          "text": [
            "Epoch 1: Train Loss: 0.0855, Test Loss: 0.0002, Train L1 Norm: 0.3255, Test L1 Norm: 0.0585, Train Linf Norm: 27.9543, Test Linf Norm: 4.2285\n",
            "Epoch 1: Train Loss: 0.2122, Test Loss: 0.0177, Train L1 Norm: 0.5796, Test L1 Norm: 0.0531, Train Linf Norm: 72.7213, Test Linf Norm: 5.3034\n",
            "Epoch 2: Train Loss: 0.0245, Test Loss: 0.0217, Train L1 Norm: 0.0619, Test L1 Norm: 0.0328, Train Linf Norm: 6.9094, Test Linf Norm: 3.0130\n",
            "Epoch 3: Train Loss: 0.0225, Test Loss: 0.0225, Train L1 Norm: 0.0508, Test L1 Norm: 0.0279, Train Linf Norm: 5.4227, Test Linf Norm: 2.1991\n",
            "Epoch 4: Train Loss: 0.0194, Test Loss: 0.0124, Train L1 Norm: 0.0413, Test L1 Norm: 0.0338, Train Linf Norm: 4.2036, Test Linf Norm: 3.4686\n",
            "Epoch 5: Train Loss: 0.0219, Test Loss: 0.0198, Train L1 Norm: 0.0434, Test L1 Norm: 0.0456, Train Linf Norm: 4.4761, Test Linf Norm: 4.5782\n",
            "Epoch 6: Train Loss: 0.0189, Test Loss: 0.0250, Train L1 Norm: 0.0422, Test L1 Norm: 0.0352, Train Linf Norm: 4.6286, Test Linf Norm: 3.3355\n",
            "Epoch 7: Train Loss: 0.0208, Test Loss: 0.0181, Train L1 Norm: 0.0401, Test L1 Norm: 0.0573, Train Linf Norm: 4.1330, Test Linf Norm: 6.2782\n",
            "Epoch 8: Train Loss: 0.0208, Test Loss: 0.0082, Train L1 Norm: 0.0368, Test L1 Norm: 0.0310, Train Linf Norm: 3.7177, Test Linf Norm: 3.3423\n",
            "Epoch 9: Train Loss: 0.0184, Test Loss: 0.0511, Train L1 Norm: 0.0367, Test L1 Norm: 0.0336, Train Linf Norm: 3.8863, Test Linf Norm: 1.7913\n",
            "Epoch 10: Train Loss: 0.0162, Test Loss: 0.0118, Train L1 Norm: 0.0379, Test L1 Norm: 0.0311, Train Linf Norm: 4.1650, Test Linf Norm: 3.3030\n",
            "Epoch 11: Train Loss: 0.0167, Test Loss: 0.0097, Train L1 Norm: 0.0326, Test L1 Norm: 0.0134, Train Linf Norm: 3.2688, Test Linf Norm: 0.9982\n",
            "Epoch 12: Train Loss: 0.0188, Test Loss: 0.0054, Train L1 Norm: 0.0356, Test L1 Norm: 0.0336, Train Linf Norm: 3.6989, Test Linf Norm: 3.9662\n",
            "Epoch 13: Train Loss: 0.0176, Test Loss: 0.0126, Train L1 Norm: 0.0325, Test L1 Norm: 0.0220, Train Linf Norm: 3.2853, Test Linf Norm: 2.2887\n",
            "Epoch 14: Train Loss: 0.0149, Test Loss: 0.0158, Train L1 Norm: 0.0363, Test L1 Norm: 0.0278, Train Linf Norm: 4.1779, Test Linf Norm: 2.1034\n",
            "Epoch 15: Train Loss: 0.0165, Test Loss: 0.0114, Train L1 Norm: 0.0318, Test L1 Norm: 0.0292, Train Linf Norm: 3.3233, Test Linf Norm: 3.0298\n",
            "Epoch 16: Train Loss: 0.0183, Test Loss: 0.0227, Train L1 Norm: 0.0297, Test L1 Norm: 0.0171, Train Linf Norm: 2.7662, Test Linf Norm: 0.9505\n",
            "Epoch 17: Train Loss: 0.0130, Test Loss: 0.0132, Train L1 Norm: 0.0258, Test L1 Norm: 0.0454, Train Linf Norm: 2.6419, Test Linf Norm: 4.6465\n",
            "Epoch 18: Train Loss: 0.0166, Test Loss: 0.0249, Train L1 Norm: 0.0258, Test L1 Norm: 0.0468, Train Linf Norm: 2.3692, Test Linf Norm: 4.6569\n",
            "Epoch 19: Train Loss: 0.0067, Test Loss: 0.0043, Train L1 Norm: 0.0150, Test L1 Norm: 0.0195, Train Linf Norm: 1.5971, Test Linf Norm: 2.1970\n",
            "Epoch 20: Train Loss: 0.0071, Test Loss: 0.0046, Train L1 Norm: 0.0151, Test L1 Norm: 0.0129, Train Linf Norm: 1.5673, Test Linf Norm: 1.2401\n",
            "Epoch 21: Train Loss: 0.0073, Test Loss: 0.0054, Train L1 Norm: 0.0150, Test L1 Norm: 0.0219, Train Linf Norm: 1.5091, Test Linf Norm: 2.3737\n",
            "Epoch 22: Train Loss: 0.0069, Test Loss: 0.0131, Train L1 Norm: 0.0126, Test L1 Norm: 0.0203, Train Linf Norm: 1.1683, Test Linf Norm: 1.7941\n",
            "Epoch 23: Train Loss: 0.0074, Test Loss: 0.0072, Train L1 Norm: 0.0175, Test L1 Norm: 0.0179, Train Linf Norm: 1.9335, Test Linf Norm: 1.9668\n",
            "Epoch 24: Train Loss: 0.0071, Test Loss: 0.0040, Train L1 Norm: 0.0138, Test L1 Norm: 0.0162, Train Linf Norm: 1.3154, Test Linf Norm: 1.8161\n",
            "Epoch 25: Train Loss: 0.0065, Test Loss: 0.0184, Train L1 Norm: 0.0161, Test L1 Norm: 0.0273, Train Linf Norm: 1.7541, Test Linf Norm: 2.6309\n",
            "Epoch 26: Train Loss: 0.0077, Test Loss: 0.0044, Train L1 Norm: 0.0169, Test L1 Norm: 0.0137, Train Linf Norm: 1.7999, Test Linf Norm: 1.4102\n",
            "Epoch 27: Train Loss: 0.0081, Test Loss: 0.0049, Train L1 Norm: 0.0162, Test L1 Norm: 0.0136, Train Linf Norm: 1.6744, Test Linf Norm: 1.3996\n",
            "Epoch 28: Train Loss: 0.0074, Test Loss: 0.0092, Train L1 Norm: 0.0148, Test L1 Norm: 0.0231, Train Linf Norm: 1.5213, Test Linf Norm: 2.3784\n",
            "Epoch 29: Train Loss: 0.0071, Test Loss: 0.0075, Train L1 Norm: 0.0145, Test L1 Norm: 0.0329, Train Linf Norm: 1.5018, Test Linf Norm: 3.5228\n",
            "Epoch 30: Train Loss: 0.0079, Test Loss: 0.0093, Train L1 Norm: 0.0174, Test L1 Norm: 0.0295, Train Linf Norm: 1.9176, Test Linf Norm: 3.1679\n",
            "Epoch 31: Train Loss: 0.0041, Test Loss: 0.0048, Train L1 Norm: 0.0089, Test L1 Norm: 0.0083, Train Linf Norm: 0.8848, Test Linf Norm: 0.7328\n",
            "Epoch 32: Train Loss: 0.0041, Test Loss: 0.0039, Train L1 Norm: 0.0094, Test L1 Norm: 0.0128, Train Linf Norm: 0.9959, Test Linf Norm: 1.3814\n",
            "Epoch 33: Train Loss: 0.0041, Test Loss: 0.0037, Train L1 Norm: 0.0085, Test L1 Norm: 0.0142, Train Linf Norm: 0.8287, Test Linf Norm: 1.5739\n",
            "Epoch 34: Train Loss: 0.0044, Test Loss: 0.0038, Train L1 Norm: 0.0106, Test L1 Norm: 0.0101, Train Linf Norm: 1.1390, Test Linf Norm: 1.0136\n",
            "Epoch 35: Train Loss: 0.0039, Test Loss: 0.0039, Train L1 Norm: 0.0098, Test L1 Norm: 0.0105, Train Linf Norm: 1.0765, Test Linf Norm: 1.0890\n",
            "Epoch 36: Train Loss: 0.0040, Test Loss: 0.0064, Train L1 Norm: 0.0092, Test L1 Norm: 0.0078, Train Linf Norm: 0.9624, Test Linf Norm: 0.4933\n",
            "Epoch 37: Train Loss: 0.0039, Test Loss: 0.0035, Train L1 Norm: 0.0086, Test L1 Norm: 0.0091, Train Linf Norm: 0.8668, Test Linf Norm: 0.9066\n",
            "Epoch 38: Train Loss: 0.0043, Test Loss: 0.0046, Train L1 Norm: 0.0099, Test L1 Norm: 0.0110, Train Linf Norm: 1.0712, Test Linf Norm: 1.0976\n",
            "Epoch 39: Train Loss: 0.0040, Test Loss: 0.0039, Train L1 Norm: 0.0092, Test L1 Norm: 0.0060, Train Linf Norm: 0.9742, Test Linf Norm: 0.4768\n",
            "Epoch 40: Train Loss: 0.0041, Test Loss: 0.0030, Train L1 Norm: 0.0081, Test L1 Norm: 0.0083, Train Linf Norm: 0.7767, Test Linf Norm: 0.8326\n",
            "Epoch 41: Train Loss: 0.0039, Test Loss: 0.0040, Train L1 Norm: 0.0099, Test L1 Norm: 0.0087, Train Linf Norm: 1.0907, Test Linf Norm: 0.8201\n",
            "Epoch 42: Train Loss: 0.0046, Test Loss: 0.0039, Train L1 Norm: 0.0090, Test L1 Norm: 0.0066, Train Linf Norm: 0.8839, Test Linf Norm: 0.5315\n",
            "Epoch 43: Train Loss: 0.0041, Test Loss: 0.0049, Train L1 Norm: 0.0081, Test L1 Norm: 0.0074, Train Linf Norm: 0.7935, Test Linf Norm: 0.5911\n",
            "Epoch 44: Train Loss: 0.0039, Test Loss: 0.0028, Train L1 Norm: 0.0075, Test L1 Norm: 0.0094, Train Linf Norm: 0.7099, Test Linf Norm: 0.9786\n",
            "Epoch 45: Train Loss: 0.0043, Test Loss: 0.0031, Train L1 Norm: 0.0084, Test L1 Norm: 0.0087, Train Linf Norm: 0.8208, Test Linf Norm: 0.8450\n",
            "Epoch 46: Train Loss: 0.0041, Test Loss: 0.0042, Train L1 Norm: 0.0082, Test L1 Norm: 0.0104, Train Linf Norm: 0.8065, Test Linf Norm: 1.0080\n",
            "Epoch 47: Train Loss: 0.0042, Test Loss: 0.0030, Train L1 Norm: 0.0086, Test L1 Norm: 0.0070, Train Linf Norm: 0.8605, Test Linf Norm: 0.5729\n",
            "Epoch 48: Train Loss: 0.0037, Test Loss: 0.0063, Train L1 Norm: 0.0077, Test L1 Norm: 0.0074, Train Linf Norm: 0.7416, Test Linf Norm: 0.5705\n",
            "Epoch 49: Train Loss: 0.0039, Test Loss: 0.0036, Train L1 Norm: 0.0095, Test L1 Norm: 0.0054, Train Linf Norm: 0.9416, Test Linf Norm: 0.4014\n",
            "Epoch 50: Train Loss: 0.0038, Test Loss: 0.0028, Train L1 Norm: 0.0077, Test L1 Norm: 0.0066, Train Linf Norm: 0.7548, Test Linf Norm: 0.6007\n",
            "Epoch 51: Train Loss: 0.0041, Test Loss: 0.0033, Train L1 Norm: 0.0095, Test L1 Norm: 0.0060, Train Linf Norm: 1.0307, Test Linf Norm: 0.4807\n",
            "Epoch 52: Train Loss: 0.0037, Test Loss: 0.0055, Train L1 Norm: 0.0080, Test L1 Norm: 0.0088, Train Linf Norm: 0.8014, Test Linf Norm: 0.7300\n",
            "Epoch 53: Train Loss: 0.0037, Test Loss: 0.0027, Train L1 Norm: 0.0079, Test L1 Norm: 0.0050, Train Linf Norm: 0.7910, Test Linf Norm: 0.3658\n",
            "Epoch 54: Train Loss: 0.0037, Test Loss: 0.0058, Train L1 Norm: 0.0098, Test L1 Norm: 0.0079, Train Linf Norm: 1.1163, Test Linf Norm: 0.6683\n",
            "Epoch 55: Train Loss: 0.0038, Test Loss: 0.0030, Train L1 Norm: 0.0074, Test L1 Norm: 0.0076, Train Linf Norm: 0.6802, Test Linf Norm: 0.6966\n",
            "Epoch 56: Train Loss: 0.0042, Test Loss: 0.0034, Train L1 Norm: 0.0089, Test L1 Norm: 0.0060, Train Linf Norm: 0.9061, Test Linf Norm: 0.4893\n",
            "Epoch 57: Train Loss: 0.0037, Test Loss: 0.0034, Train L1 Norm: 0.0086, Test L1 Norm: 0.0058, Train Linf Norm: 0.9022, Test Linf Norm: 0.4663\n",
            "Epoch 58: Train Loss: 0.0041, Test Loss: 0.0035, Train L1 Norm: 0.0080, Test L1 Norm: 0.0072, Train Linf Norm: 0.7968, Test Linf Norm: 0.6305\n",
            "Epoch 59: Train Loss: 0.0038, Test Loss: 0.0043, Train L1 Norm: 0.0078, Test L1 Norm: 0.0047, Train Linf Norm: 0.7471, Test Linf Norm: 0.2801\n",
            "Epoch 60: Train Loss: 0.0025, Test Loss: 0.0027, Train L1 Norm: 0.0050, Test L1 Norm: 0.0044, Train Linf Norm: 0.4444, Test Linf Norm: 0.3187\n",
            "Epoch 61: Train Loss: 0.0026, Test Loss: 0.0026, Train L1 Norm: 0.0053, Test L1 Norm: 0.0050, Train Linf Norm: 0.4955, Test Linf Norm: 0.4097\n",
            "Epoch 62: Train Loss: 0.0026, Test Loss: 0.0028, Train L1 Norm: 0.0059, Test L1 Norm: 0.0052, Train Linf Norm: 0.5921, Test Linf Norm: 0.3825\n",
            "Epoch 63: Train Loss: 0.0025, Test Loss: 0.0024, Train L1 Norm: 0.0060, Test L1 Norm: 0.0044, Train Linf Norm: 0.5971, Test Linf Norm: 0.3141\n",
            "Epoch 64: Train Loss: 0.0027, Test Loss: 0.0022, Train L1 Norm: 0.0055, Test L1 Norm: 0.0051, Train Linf Norm: 0.5108, Test Linf Norm: 0.4385\n",
            "Epoch 65: Train Loss: 0.0027, Test Loss: 0.0025, Train L1 Norm: 0.0054, Test L1 Norm: 0.0036, Train Linf Norm: 0.4917, Test Linf Norm: 0.2254\n",
            "Epoch 66: Train Loss: 0.0032, Test Loss: 0.0028, Train L1 Norm: 0.0058, Test L1 Norm: 0.0049, Train Linf Norm: 0.5270, Test Linf Norm: 0.3542\n",
            "Epoch 67: Train Loss: 0.0025, Test Loss: 0.0026, Train L1 Norm: 0.0054, Test L1 Norm: 0.0065, Train Linf Norm: 0.5211, Test Linf Norm: 0.5757\n",
            "Epoch 68: Train Loss: 0.0026, Test Loss: 0.0024, Train L1 Norm: 0.0057, Test L1 Norm: 0.0069, Train Linf Norm: 0.5702, Test Linf Norm: 0.6311\n",
            "Epoch 69: Train Loss: 0.0027, Test Loss: 0.0028, Train L1 Norm: 0.0061, Test L1 Norm: 0.0048, Train Linf Norm: 0.6229, Test Linf Norm: 0.3906\n",
            "Epoch 70: Train Loss: 0.0027, Test Loss: 0.0032, Train L1 Norm: 0.0060, Test L1 Norm: 0.0064, Train Linf Norm: 0.5937, Test Linf Norm: 0.5213\n",
            "Epoch 71: Train Loss: 0.0022, Test Loss: 0.0022, Train L1 Norm: 0.0051, Test L1 Norm: 0.0053, Train Linf Norm: 0.5030, Test Linf Norm: 0.4488\n",
            "Epoch 72: Train Loss: 0.0022, Test Loss: 0.0021, Train L1 Norm: 0.0047, Test L1 Norm: 0.0042, Train Linf Norm: 0.4366, Test Linf Norm: 0.3072\n",
            "Epoch 73: Train Loss: 0.0022, Test Loss: 0.0023, Train L1 Norm: 0.0047, Test L1 Norm: 0.0041, Train Linf Norm: 0.4364, Test Linf Norm: 0.2930\n",
            "Epoch 74: Train Loss: 0.0022, Test Loss: 0.0022, Train L1 Norm: 0.0051, Test L1 Norm: 0.0044, Train Linf Norm: 0.5017, Test Linf Norm: 0.3382\n",
            "Epoch 75: Train Loss: 0.0023, Test Loss: 0.0021, Train L1 Norm: 0.0047, Test L1 Norm: 0.0043, Train Linf Norm: 0.4400, Test Linf Norm: 0.3506\n",
            "Epoch 76: Train Loss: 0.0022, Test Loss: 0.0024, Train L1 Norm: 0.0051, Test L1 Norm: 0.0045, Train Linf Norm: 0.5081, Test Linf Norm: 0.3486\n",
            "Epoch 77: Train Loss: 0.0022, Test Loss: 0.0022, Train L1 Norm: 0.0044, Test L1 Norm: 0.0036, Train Linf Norm: 0.3995, Test Linf Norm: 0.2503\n",
            "Epoch 78: Train Loss: 0.0022, Test Loss: 0.0031, Train L1 Norm: 0.0051, Test L1 Norm: 0.0058, Train Linf Norm: 0.5026, Test Linf Norm: 0.5012\n",
            "Epoch 79: Train Loss: 0.0021, Test Loss: 0.0026, Train L1 Norm: 0.0043, Test L1 Norm: 0.0045, Train Linf Norm: 0.3897, Test Linf Norm: 0.3601\n"
          ]
        },
        {
          "output_type": "stream",
          "name": "stderr",
          "text": [
            "\u001b[32m[I 2023-05-13 14:11:50,538]\u001b[0m Trial 140 finished with value: 0.004116397090838291 and parameters: {'n_layers': 3, 'n_units_0': 78, 'n_units_1': 193, 'n_units_2': 99, 'hidden_activation': 'ReLU', 'output_activation': 'Linear', 'loss': 'MAE', 'optimizer': 'Adam', 'lr': 0.00036516467819506355, 'batch_size': 170, 'n_epochs': 80, 'scheduler': 'ReduceLROnPlateau'}. Best is trial 140 with value: 0.004116397090838291.\u001b[0m\n"
          ]
        },
        {
          "output_type": "stream",
          "name": "stdout",
          "text": [
            "Epoch 80: Train Loss: 0.0023, Test Loss: 0.0023, Train L1 Norm: 0.0048, Test L1 Norm: 0.0041, Train Linf Norm: 0.4561, Test Linf Norm: 0.2981\n",
            "Epoch 1: Train Loss: 0.1759, Test Loss: 0.0324, Train L1 Norm: 0.3421, Test L1 Norm: 0.0438, Train Linf Norm: 32.6629, Test Linf Norm: 3.0623\n",
            "Epoch 2: Train Loss: 0.0309, Test Loss: 0.0096, Train L1 Norm: 0.0487, Test L1 Norm: 0.0261, Train Linf Norm: 4.2538, Test Linf Norm: 2.1161\n",
            "Epoch 3: Train Loss: 0.0267, Test Loss: 0.0104, Train L1 Norm: 0.0530, Test L1 Norm: 0.0331, Train Linf Norm: 5.6727, Test Linf Norm: 3.1112\n",
            "Epoch 4: Train Loss: 0.0266, Test Loss: 0.0095, Train L1 Norm: 0.0474, Test L1 Norm: 0.0228, Train Linf Norm: 4.9913, Test Linf Norm: 1.8494\n",
            "Epoch 5: Train Loss: 0.0253, Test Loss: 0.0198, Train L1 Norm: 0.0345, Test L1 Norm: 0.0199, Train Linf Norm: 3.0204, Test Linf Norm: 1.2548\n",
            "Epoch 6: Train Loss: 0.0254, Test Loss: 0.0232, Train L1 Norm: 0.0366, Test L1 Norm: 0.0259, Train Linf Norm: 3.4175, Test Linf Norm: 1.7711\n",
            "Epoch 7: Train Loss: 0.0268, Test Loss: 0.0175, Train L1 Norm: 0.0422, Test L1 Norm: 0.0299, Train Linf Norm: 4.2101, Test Linf Norm: 2.6257\n",
            "Epoch 8: Train Loss: 0.0216, Test Loss: 0.0149, Train L1 Norm: 0.0366, Test L1 Norm: 0.0180, Train Linf Norm: 3.6358, Test Linf Norm: 1.2165\n",
            "Epoch 9: Train Loss: 0.0220, Test Loss: 0.0095, Train L1 Norm: 0.0344, Test L1 Norm: 0.0267, Train Linf Norm: 3.3578, Test Linf Norm: 2.6131\n",
            "Epoch 10: Train Loss: 0.0208, Test Loss: 0.0173, Train L1 Norm: 0.0341, Test L1 Norm: 0.0443, Train Linf Norm: 3.4588, Test Linf Norm: 3.9787\n",
            "Epoch 11: Train Loss: 0.0196, Test Loss: 0.0776, Train L1 Norm: 0.0323, Test L1 Norm: 0.0711, Train Linf Norm: 3.2905, Test Linf Norm: 4.8299\n",
            "Epoch 12: Train Loss: 0.0252, Test Loss: 0.0162, Train L1 Norm: 0.0426, Test L1 Norm: 0.0275, Train Linf Norm: 4.4692, Test Linf Norm: 2.4999\n",
            "Epoch 13: Train Loss: 0.0196, Test Loss: 0.0310, Train L1 Norm: 0.0337, Test L1 Norm: 0.0271, Train Linf Norm: 3.5955, Test Linf Norm: 1.8872\n",
            "Epoch 14: Train Loss: 0.0196, Test Loss: 0.0217, Train L1 Norm: 0.0332, Test L1 Norm: 0.0253, Train Linf Norm: 3.4707, Test Linf Norm: 2.1648\n",
            "Epoch 15: Train Loss: 0.0239, Test Loss: 0.0133, Train L1 Norm: 0.0323, Test L1 Norm: 0.0539, Train Linf Norm: 3.0286, Test Linf Norm: 5.1813\n",
            "Epoch 16: Train Loss: 0.0084, Test Loss: 0.0060, Train L1 Norm: 0.0187, Test L1 Norm: 0.0111, Train Linf Norm: 2.0580, Test Linf Norm: 0.8698\n",
            "Epoch 17: Train Loss: 0.0080, Test Loss: 0.0085, Train L1 Norm: 0.0148, Test L1 Norm: 0.0188, Train Linf Norm: 1.4577, Test Linf Norm: 1.7166\n",
            "Epoch 18: Train Loss: 0.0099, Test Loss: 0.0074, Train L1 Norm: 0.0172, Test L1 Norm: 0.0120, Train Linf Norm: 1.6772, Test Linf Norm: 0.8841\n",
            "Epoch 19: Train Loss: 0.0101, Test Loss: 0.0054, Train L1 Norm: 0.0169, Test L1 Norm: 0.0125, Train Linf Norm: 1.5301, Test Linf Norm: 1.1356\n",
            "Epoch 20: Train Loss: 0.0099, Test Loss: 0.0057, Train L1 Norm: 0.0164, Test L1 Norm: 0.0107, Train Linf Norm: 1.5524, Test Linf Norm: 0.7752\n",
            "Epoch 21: Train Loss: 0.0094, Test Loss: 0.0065, Train L1 Norm: 0.0163, Test L1 Norm: 0.0166, Train Linf Norm: 1.6100, Test Linf Norm: 1.4983\n",
            "Epoch 22: Train Loss: 0.0086, Test Loss: 0.0112, Train L1 Norm: 0.0176, Test L1 Norm: 0.0237, Train Linf Norm: 1.8795, Test Linf Norm: 2.2799\n",
            "Epoch 23: Train Loss: 0.0106, Test Loss: 0.0046, Train L1 Norm: 0.0189, Test L1 Norm: 0.0132, Train Linf Norm: 1.9891, Test Linf Norm: 1.2117\n",
            "Epoch 24: Train Loss: 0.0079, Test Loss: 0.0142, Train L1 Norm: 0.0160, Test L1 Norm: 0.0154, Train Linf Norm: 1.6263, Test Linf Norm: 1.2741\n",
            "Epoch 25: Train Loss: 0.0115, Test Loss: 0.0043, Train L1 Norm: 0.0182, Test L1 Norm: 0.0105, Train Linf Norm: 1.7373, Test Linf Norm: 0.8870\n",
            "Epoch 26: Train Loss: 0.0087, Test Loss: 0.0054, Train L1 Norm: 0.0177, Test L1 Norm: 0.0186, Train Linf Norm: 1.9673, Test Linf Norm: 1.8936\n",
            "Epoch 27: Train Loss: 0.0085, Test Loss: 0.0040, Train L1 Norm: 0.0155, Test L1 Norm: 0.0136, Train Linf Norm: 1.5871, Test Linf Norm: 1.3905\n",
            "Epoch 28: Train Loss: 0.0086, Test Loss: 0.0132, Train L1 Norm: 0.0183, Test L1 Norm: 0.0153, Train Linf Norm: 2.0542, Test Linf Norm: 1.2920\n",
            "Epoch 29: Train Loss: 0.0115, Test Loss: 0.0058, Train L1 Norm: 0.0196, Test L1 Norm: 0.0073, Train Linf Norm: 2.0435, Test Linf Norm: 0.4689\n",
            "Epoch 30: Train Loss: 0.0100, Test Loss: 0.0071, Train L1 Norm: 0.0190, Test L1 Norm: 0.0133, Train Linf Norm: 2.0468, Test Linf Norm: 1.2363\n",
            "Epoch 31: Train Loss: 0.0105, Test Loss: 0.0160, Train L1 Norm: 0.0173, Test L1 Norm: 0.0292, Train Linf Norm: 1.7384, Test Linf Norm: 2.7636\n",
            "Epoch 32: Train Loss: 0.0091, Test Loss: 0.0090, Train L1 Norm: 0.0183, Test L1 Norm: 0.0085, Train Linf Norm: 2.0637, Test Linf Norm: 0.5473\n",
            "Epoch 33: Train Loss: 0.0089, Test Loss: 0.0054, Train L1 Norm: 0.0163, Test L1 Norm: 0.0145, Train Linf Norm: 1.7003, Test Linf Norm: 1.3852\n",
            "Epoch 34: Train Loss: 0.0046, Test Loss: 0.0095, Train L1 Norm: 0.0110, Test L1 Norm: 0.0170, Train Linf Norm: 1.1825, Test Linf Norm: 1.5579\n",
            "Epoch 35: Train Loss: 0.0047, Test Loss: 0.0056, Train L1 Norm: 0.0104, Test L1 Norm: 0.0123, Train Linf Norm: 1.0928, Test Linf Norm: 1.1369\n",
            "Epoch 36: Train Loss: 0.0051, Test Loss: 0.0037, Train L1 Norm: 0.0112, Test L1 Norm: 0.0094, Train Linf Norm: 1.1898, Test Linf Norm: 0.8689\n",
            "Epoch 37: Train Loss: 0.0050, Test Loss: 0.0090, Train L1 Norm: 0.0118, Test L1 Norm: 0.0131, Train Linf Norm: 1.3241, Test Linf Norm: 1.1025\n",
            "Epoch 38: Train Loss: 0.0051, Test Loss: 0.0033, Train L1 Norm: 0.0120, Test L1 Norm: 0.0104, Train Linf Norm: 1.3239, Test Linf Norm: 1.0379\n",
            "Epoch 39: Train Loss: 0.0050, Test Loss: 0.0035, Train L1 Norm: 0.0109, Test L1 Norm: 0.0077, Train Linf Norm: 1.1565, Test Linf Norm: 0.6423\n",
            "Epoch 40: Train Loss: 0.0053, Test Loss: 0.0040, Train L1 Norm: 0.0100, Test L1 Norm: 0.0091, Train Linf Norm: 0.9929, Test Linf Norm: 0.8213\n",
            "Epoch 41: Train Loss: 0.0045, Test Loss: 0.0044, Train L1 Norm: 0.0101, Test L1 Norm: 0.0075, Train Linf Norm: 1.0877, Test Linf Norm: 0.5802\n",
            "Epoch 42: Train Loss: 0.0052, Test Loss: 0.0084, Train L1 Norm: 0.0117, Test L1 Norm: 0.0190, Train Linf Norm: 1.3134, Test Linf Norm: 1.8046\n",
            "Epoch 43: Train Loss: 0.0047, Test Loss: 0.0045, Train L1 Norm: 0.0102, Test L1 Norm: 0.0055, Train Linf Norm: 1.0455, Test Linf Norm: 0.3300\n",
            "Epoch 44: Train Loss: 0.0053, Test Loss: 0.0047, Train L1 Norm: 0.0099, Test L1 Norm: 0.0073, Train Linf Norm: 0.9632, Test Linf Norm: 0.6058\n",
            "Epoch 45: Train Loss: 0.0032, Test Loss: 0.0029, Train L1 Norm: 0.0091, Test L1 Norm: 0.0092, Train Linf Norm: 0.9898, Test Linf Norm: 0.8858\n",
            "Epoch 46: Train Loss: 0.0032, Test Loss: 0.0036, Train L1 Norm: 0.0091, Test L1 Norm: 0.0077, Train Linf Norm: 1.0273, Test Linf Norm: 0.6036\n",
            "Epoch 47: Train Loss: 0.0036, Test Loss: 0.0034, Train L1 Norm: 0.0088, Test L1 Norm: 0.0081, Train Linf Norm: 0.9603, Test Linf Norm: 0.7337\n",
            "Epoch 48: Train Loss: 0.0031, Test Loss: 0.0053, Train L1 Norm: 0.0086, Test L1 Norm: 0.0087, Train Linf Norm: 0.9565, Test Linf Norm: 0.7066\n",
            "Epoch 49: Train Loss: 0.0035, Test Loss: 0.0046, Train L1 Norm: 0.0084, Test L1 Norm: 0.0123, Train Linf Norm: 0.8984, Test Linf Norm: 1.1959\n",
            "Epoch 50: Train Loss: 0.0033, Test Loss: 0.0027, Train L1 Norm: 0.0087, Test L1 Norm: 0.0079, Train Linf Norm: 0.9726, Test Linf Norm: 0.7487\n",
            "Epoch 51: Train Loss: 0.0034, Test Loss: 0.0030, Train L1 Norm: 0.0091, Test L1 Norm: 0.0097, Train Linf Norm: 1.0400, Test Linf Norm: 0.9725\n",
            "Epoch 52: Train Loss: 0.0032, Test Loss: 0.0033, Train L1 Norm: 0.0090, Test L1 Norm: 0.0099, Train Linf Norm: 1.0292, Test Linf Norm: 0.9650\n",
            "Epoch 53: Train Loss: 0.0034, Test Loss: 0.0030, Train L1 Norm: 0.0084, Test L1 Norm: 0.0085, Train Linf Norm: 0.9018, Test Linf Norm: 0.8478\n",
            "Epoch 54: Train Loss: 0.0033, Test Loss: 0.0033, Train L1 Norm: 0.0090, Test L1 Norm: 0.0097, Train Linf Norm: 1.0339, Test Linf Norm: 0.9795\n",
            "Epoch 55: Train Loss: 0.0032, Test Loss: 0.0049, Train L1 Norm: 0.0083, Test L1 Norm: 0.0102, Train Linf Norm: 0.9049, Test Linf Norm: 0.9486\n",
            "Epoch 56: Train Loss: 0.0035, Test Loss: 0.0027, Train L1 Norm: 0.0086, Test L1 Norm: 0.0089, Train Linf Norm: 0.9375, Test Linf Norm: 0.8542\n",
            "Epoch 57: Train Loss: 0.0026, Test Loss: 0.0025, Train L1 Norm: 0.0077, Test L1 Norm: 0.0068, Train Linf Norm: 0.8705, Test Linf Norm: 0.6086\n",
            "Epoch 58: Train Loss: 0.0026, Test Loss: 0.0024, Train L1 Norm: 0.0078, Test L1 Norm: 0.0074, Train Linf Norm: 0.8902, Test Linf Norm: 0.7030\n",
            "Epoch 59: Train Loss: 0.0025, Test Loss: 0.0031, Train L1 Norm: 0.0076, Test L1 Norm: 0.0068, Train Linf Norm: 0.8435, Test Linf Norm: 0.5804\n",
            "Epoch 60: Train Loss: 0.0027, Test Loss: 0.0025, Train L1 Norm: 0.0074, Test L1 Norm: 0.0078, Train Linf Norm: 0.8102, Test Linf Norm: 0.7637\n",
            "Epoch 61: Train Loss: 0.0027, Test Loss: 0.0026, Train L1 Norm: 0.0075, Test L1 Norm: 0.0071, Train Linf Norm: 0.8224, Test Linf Norm: 0.6350\n",
            "Epoch 62: Train Loss: 0.0026, Test Loss: 0.0026, Train L1 Norm: 0.0076, Test L1 Norm: 0.0073, Train Linf Norm: 0.8437, Test Linf Norm: 0.6914\n",
            "Epoch 63: Train Loss: 0.0026, Test Loss: 0.0026, Train L1 Norm: 0.0077, Test L1 Norm: 0.0068, Train Linf Norm: 0.8683, Test Linf Norm: 0.6142\n",
            "Epoch 64: Train Loss: 0.0027, Test Loss: 0.0028, Train L1 Norm: 0.0074, Test L1 Norm: 0.0075, Train Linf Norm: 0.8258, Test Linf Norm: 0.7333\n",
            "Epoch 65: Train Loss: 0.0024, Test Loss: 0.0024, Train L1 Norm: 0.0070, Test L1 Norm: 0.0071, Train Linf Norm: 0.7454, Test Linf Norm: 0.6937\n",
            "Epoch 66: Train Loss: 0.0024, Test Loss: 0.0024, Train L1 Norm: 0.0076, Test L1 Norm: 0.0073, Train Linf Norm: 0.8780, Test Linf Norm: 0.7149\n",
            "Epoch 67: Train Loss: 0.0024, Test Loss: 0.0023, Train L1 Norm: 0.0078, Test L1 Norm: 0.0074, Train Linf Norm: 0.9081, Test Linf Norm: 0.7296\n",
            "Epoch 68: Train Loss: 0.0024, Test Loss: 0.0025, Train L1 Norm: 0.0076, Test L1 Norm: 0.0080, Train Linf Norm: 0.8722, Test Linf Norm: 0.8119\n",
            "Epoch 69: Train Loss: 0.0024, Test Loss: 0.0023, Train L1 Norm: 0.0075, Test L1 Norm: 0.0070, Train Linf Norm: 0.8625, Test Linf Norm: 0.6778\n",
            "Epoch 70: Train Loss: 0.0024, Test Loss: 0.0023, Train L1 Norm: 0.0074, Test L1 Norm: 0.0073, Train Linf Norm: 0.8611, Test Linf Norm: 0.7050\n",
            "Epoch 71: Train Loss: 0.0024, Test Loss: 0.0023, Train L1 Norm: 0.0078, Test L1 Norm: 0.0076, Train Linf Norm: 0.9202, Test Linf Norm: 0.7709\n",
            "Epoch 72: Train Loss: 0.0024, Test Loss: 0.0023, Train L1 Norm: 0.0071, Test L1 Norm: 0.0080, Train Linf Norm: 0.8066, Test Linf Norm: 0.8103\n",
            "Epoch 73: Train Loss: 0.0023, Test Loss: 0.0024, Train L1 Norm: 0.0073, Test L1 Norm: 0.0076, Train Linf Norm: 0.8300, Test Linf Norm: 0.7506\n",
            "Epoch 74: Train Loss: 0.0023, Test Loss: 0.0029, Train L1 Norm: 0.0071, Test L1 Norm: 0.0076, Train Linf Norm: 0.8118, Test Linf Norm: 0.6941\n",
            "Epoch 75: Train Loss: 0.0024, Test Loss: 0.0025, Train L1 Norm: 0.0080, Test L1 Norm: 0.0079, Train Linf Norm: 0.9509, Test Linf Norm: 0.7844\n",
            "Epoch 76: Train Loss: 0.0023, Test Loss: 0.0026, Train L1 Norm: 0.0072, Test L1 Norm: 0.0072, Train Linf Norm: 0.8126, Test Linf Norm: 0.6959\n",
            "Epoch 77: Train Loss: 0.0022, Test Loss: 0.0022, Train L1 Norm: 0.0070, Test L1 Norm: 0.0073, Train Linf Norm: 0.7774, Test Linf Norm: 0.7293\n",
            "Epoch 78: Train Loss: 0.0022, Test Loss: 0.0022, Train L1 Norm: 0.0071, Test L1 Norm: 0.0072, Train Linf Norm: 0.8111, Test Linf Norm: 0.7103\n",
            "Epoch 79: Train Loss: 0.0022, Test Loss: 0.0022, Train L1 Norm: 0.0071, Test L1 Norm: 0.0070, Train Linf Norm: 0.8102, Test Linf Norm: 0.6899\n"
          ]
        },
        {
          "output_type": "stream",
          "name": "stderr",
          "text": [
            "\u001b[32m[I 2023-05-13 14:14:07,145]\u001b[0m Trial 141 finished with value: 0.006928880648571067 and parameters: {'n_layers': 3, 'n_units_0': 85, 'n_units_1': 195, 'n_units_2': 101, 'hidden_activation': 'ReLU', 'output_activation': 'Linear', 'loss': 'MAE', 'optimizer': 'Adam', 'lr': 0.00034594130929952805, 'batch_size': 173, 'n_epochs': 80, 'scheduler': 'ReduceLROnPlateau'}. Best is trial 140 with value: 0.004116397090838291.\u001b[0m\n"
          ]
        },
        {
          "output_type": "stream",
          "name": "stdout",
          "text": [
            "Epoch 80: Train Loss: 0.0022, Test Loss: 0.0022, Train L1 Norm: 0.0071, Test L1 Norm: 0.0069, Train Linf Norm: 0.8189, Test Linf Norm: 0.6748\n"
          ]
        },
        {
          "output_type": "stream",
          "name": "stderr",
          "text": [
            "\u001b[32m[I 2023-05-13 14:14:08,814]\u001b[0m Trial 142 pruned. \u001b[0m\n"
          ]
        },
        {
          "output_type": "stream",
          "name": "stdout",
          "text": [
            "Epoch 1: Train Loss: 0.2567, Test Loss: 0.0393, Train L1 Norm: 0.4153, Test L1 Norm: 0.0599, Train Linf Norm: 41.4309, Test Linf Norm: 3.7420\n"
          ]
        },
        {
          "output_type": "stream",
          "name": "stderr",
          "text": [
            "\u001b[32m[I 2023-05-13 14:14:10,770]\u001b[0m Trial 143 pruned. \u001b[0m\n"
          ]
        },
        {
          "output_type": "stream",
          "name": "stdout",
          "text": [
            "Epoch 1: Train Loss: 0.2547, Test Loss: 0.0201, Train L1 Norm: 0.4428, Test L1 Norm: 0.0593, Train Linf Norm: 41.8273, Test Linf Norm: 3.5000\n"
          ]
        },
        {
          "output_type": "stream",
          "name": "stderr",
          "text": [
            "\u001b[32m[I 2023-05-13 14:14:12,947]\u001b[0m Trial 144 pruned. \u001b[0m\n"
          ]
        },
        {
          "output_type": "stream",
          "name": "stdout",
          "text": [
            "Epoch 1: Train Loss: 0.1698, Test Loss: 0.0179, Train L1 Norm: 0.3254, Test L1 Norm: 0.0577, Train Linf Norm: 28.4689, Test Linf Norm: 4.3965\n"
          ]
        },
        {
          "output_type": "stream",
          "name": "stderr",
          "text": [
            "\u001b[32m[I 2023-05-13 14:14:14,502]\u001b[0m Trial 145 pruned. \u001b[0m\n"
          ]
        },
        {
          "output_type": "stream",
          "name": "stdout",
          "text": [
            "Epoch 1: Train Loss: 0.0644, Test Loss: 0.0004, Train L1 Norm: 0.3814, Test L1 Norm: 0.0587, Train Linf Norm: 40.4699, Test Linf Norm: 5.6964\n"
          ]
        },
        {
          "output_type": "stream",
          "name": "stderr",
          "text": [
            "\u001b[32m[I 2023-05-13 14:14:16,023]\u001b[0m Trial 146 pruned. \u001b[0m\n"
          ]
        },
        {
          "output_type": "stream",
          "name": "stdout",
          "text": [
            "Epoch 1: Train Loss: 0.1927, Test Loss: 0.0515, Train L1 Norm: 0.5021, Test L1 Norm: 0.0701, Train Linf Norm: 75.7528, Test Linf Norm: 6.8460\n"
          ]
        },
        {
          "output_type": "stream",
          "name": "stderr",
          "text": [
            "\u001b[32m[I 2023-05-13 14:14:17,689]\u001b[0m Trial 147 pruned. \u001b[0m\n"
          ]
        },
        {
          "output_type": "stream",
          "name": "stdout",
          "text": [
            "Epoch 1: Train Loss: 0.1515, Test Loss: 0.0396, Train L1 Norm: 0.3594, Test L1 Norm: 0.1049, Train Linf Norm: 38.2709, Test Linf Norm: 8.2038\n"
          ]
        },
        {
          "output_type": "stream",
          "name": "stderr",
          "text": [
            "\u001b[32m[I 2023-05-13 14:14:19,392]\u001b[0m Trial 148 pruned. \u001b[0m\n"
          ]
        },
        {
          "output_type": "stream",
          "name": "stdout",
          "text": [
            "Epoch 1: Train Loss: 3.3912, Test Loss: 3.3992, Train L1 Norm: 1.0000, Test L1 Norm: 1.0000, Train Linf Norm: 1.0000, Test Linf Norm: 1.0000\n",
            "Epoch 1: Train Loss: 0.1955, Test Loss: 0.0232, Train L1 Norm: 0.3505, Test L1 Norm: 0.0327, Train Linf Norm: 42.6129, Test Linf Norm: 2.1142\n",
            "Epoch 2: Train Loss: 0.0346, Test Loss: 0.0381, Train L1 Norm: 0.0671, Test L1 Norm: 0.0378, Train Linf Norm: 8.4242, Test Linf Norm: 2.6540\n",
            "Epoch 3: Train Loss: 0.0371, Test Loss: 0.0201, Train L1 Norm: 0.0588, Test L1 Norm: 0.0752, Train Linf Norm: 6.5991, Test Linf Norm: 7.9542\n",
            "Epoch 4: Train Loss: 0.0318, Test Loss: 0.0229, Train L1 Norm: 0.0521, Test L1 Norm: 0.0513, Train Linf Norm: 6.1453, Test Linf Norm: 4.1106\n",
            "Epoch 5: Train Loss: 0.0349, Test Loss: 0.0198, Train L1 Norm: 0.0587, Test L1 Norm: 0.0293, Train Linf Norm: 7.1023, Test Linf Norm: 1.5424\n",
            "Epoch 6: Train Loss: 0.0292, Test Loss: 0.0237, Train L1 Norm: 0.0427, Test L1 Norm: 0.0482, Train Linf Norm: 4.4883, Test Linf Norm: 5.1820\n",
            "Epoch 7: Train Loss: 0.0239, Test Loss: 0.0230, Train L1 Norm: 0.0492, Test L1 Norm: 0.0559, Train Linf Norm: 6.6135, Test Linf Norm: 3.6688\n",
            "Epoch 8: Train Loss: 0.0304, Test Loss: 0.0124, Train L1 Norm: 0.0499, Test L1 Norm: 0.0564, Train Linf Norm: 6.1973, Test Linf Norm: 6.5017\n",
            "Epoch 9: Train Loss: 0.0219, Test Loss: 0.0094, Train L1 Norm: 0.0399, Test L1 Norm: 0.0278, Train Linf Norm: 5.0174, Test Linf Norm: 2.2139\n",
            "Epoch 10: Train Loss: 0.0247, Test Loss: 0.0111, Train L1 Norm: 0.0452, Test L1 Norm: 0.0299, Train Linf Norm: 5.7015, Test Linf Norm: 3.0814\n",
            "Epoch 11: Train Loss: 0.0069, Test Loss: 0.0067, Train L1 Norm: 0.0187, Test L1 Norm: 0.0121, Train Linf Norm: 2.5487, Test Linf Norm: 0.8615\n",
            "Epoch 12: Train Loss: 0.0065, Test Loss: 0.0064, Train L1 Norm: 0.0153, Test L1 Norm: 0.0098, Train Linf Norm: 1.9730, Test Linf Norm: 0.6500\n",
            "Epoch 13: Train Loss: 0.0063, Test Loss: 0.0061, Train L1 Norm: 0.0152, Test L1 Norm: 0.0106, Train Linf Norm: 1.9305, Test Linf Norm: 0.7203\n",
            "Epoch 14: Train Loss: 0.0060, Test Loss: 0.0059, Train L1 Norm: 0.0134, Test L1 Norm: 0.0099, Train Linf Norm: 1.6229, Test Linf Norm: 0.8699\n",
            "Epoch 15: Train Loss: 0.0058, Test Loss: 0.0057, Train L1 Norm: 0.0120, Test L1 Norm: 0.0095, Train Linf Norm: 1.3266, Test Linf Norm: 0.6830\n",
            "Epoch 16: Train Loss: 0.0059, Test Loss: 0.0062, Train L1 Norm: 0.0120, Test L1 Norm: 0.0099, Train Linf Norm: 1.3403, Test Linf Norm: 0.6849\n",
            "Epoch 17: Train Loss: 0.0057, Test Loss: 0.0050, Train L1 Norm: 0.0119, Test L1 Norm: 0.0115, Train Linf Norm: 1.3787, Test Linf Norm: 0.9150\n",
            "Epoch 18: Train Loss: 0.0053, Test Loss: 0.0048, Train L1 Norm: 0.0121, Test L1 Norm: 0.0094, Train Linf Norm: 1.4385, Test Linf Norm: 0.8313\n",
            "Epoch 19: Train Loss: 0.0053, Test Loss: 0.0050, Train L1 Norm: 0.0118, Test L1 Norm: 0.0129, Train Linf Norm: 1.3857, Test Linf Norm: 0.9794\n",
            "Epoch 20: Train Loss: 0.0054, Test Loss: 0.0095, Train L1 Norm: 0.0126, Test L1 Norm: 0.0146, Train Linf Norm: 1.5428, Test Linf Norm: 1.0966\n",
            "Epoch 21: Train Loss: 0.0045, Test Loss: 0.0044, Train L1 Norm: 0.0099, Test L1 Norm: 0.0084, Train Linf Norm: 1.1107, Test Linf Norm: 0.6441\n",
            "Epoch 22: Train Loss: 0.0043, Test Loss: 0.0044, Train L1 Norm: 0.0098, Test L1 Norm: 0.0078, Train Linf Norm: 1.1349, Test Linf Norm: 0.6047\n",
            "Epoch 23: Train Loss: 0.0043, Test Loss: 0.0045, Train L1 Norm: 0.0097, Test L1 Norm: 0.0081, Train Linf Norm: 1.0583, Test Linf Norm: 0.6506\n",
            "Epoch 24: Train Loss: 0.0043, Test Loss: 0.0045, Train L1 Norm: 0.0097, Test L1 Norm: 0.0076, Train Linf Norm: 1.0673, Test Linf Norm: 0.6073\n",
            "Epoch 25: Train Loss: 0.0043, Test Loss: 0.0043, Train L1 Norm: 0.0099, Test L1 Norm: 0.0078, Train Linf Norm: 1.1620, Test Linf Norm: 0.6014\n",
            "Epoch 26: Train Loss: 0.0043, Test Loss: 0.0043, Train L1 Norm: 0.0098, Test L1 Norm: 0.0077, Train Linf Norm: 1.1441, Test Linf Norm: 0.5951\n",
            "Epoch 27: Train Loss: 0.0043, Test Loss: 0.0043, Train L1 Norm: 0.0096, Test L1 Norm: 0.0076, Train Linf Norm: 1.1217, Test Linf Norm: 0.6219\n",
            "Epoch 28: Train Loss: 0.0042, Test Loss: 0.0042, Train L1 Norm: 0.0097, Test L1 Norm: 0.0079, Train Linf Norm: 1.1518, Test Linf Norm: 0.6271\n",
            "Epoch 29: Train Loss: 0.0042, Test Loss: 0.0042, Train L1 Norm: 0.0098, Test L1 Norm: 0.0075, Train Linf Norm: 1.1308, Test Linf Norm: 0.6224\n",
            "Epoch 30: Train Loss: 0.0042, Test Loss: 0.0042, Train L1 Norm: 0.0093, Test L1 Norm: 0.0081, Train Linf Norm: 1.0535, Test Linf Norm: 0.6532\n",
            "Epoch 31: Train Loss: 0.0041, Test Loss: 0.0042, Train L1 Norm: 0.0094, Test L1 Norm: 0.0076, Train Linf Norm: 1.0902, Test Linf Norm: 0.6080\n",
            "Epoch 32: Train Loss: 0.0041, Test Loss: 0.0041, Train L1 Norm: 0.0093, Test L1 Norm: 0.0077, Train Linf Norm: 1.0857, Test Linf Norm: 0.6142\n",
            "Epoch 33: Train Loss: 0.0041, Test Loss: 0.0041, Train L1 Norm: 0.0093, Test L1 Norm: 0.0079, Train Linf Norm: 1.0828, Test Linf Norm: 0.6158\n",
            "Epoch 34: Train Loss: 0.0041, Test Loss: 0.0041, Train L1 Norm: 0.0093, Test L1 Norm: 0.0078, Train Linf Norm: 1.0796, Test Linf Norm: 0.6166\n",
            "Epoch 35: Train Loss: 0.0041, Test Loss: 0.0041, Train L1 Norm: 0.0092, Test L1 Norm: 0.0078, Train Linf Norm: 1.0639, Test Linf Norm: 0.6092\n",
            "Epoch 36: Train Loss: 0.0041, Test Loss: 0.0041, Train L1 Norm: 0.0092, Test L1 Norm: 0.0077, Train Linf Norm: 1.0678, Test Linf Norm: 0.6095\n",
            "Epoch 37: Train Loss: 0.0041, Test Loss: 0.0042, Train L1 Norm: 0.0092, Test L1 Norm: 0.0079, Train Linf Norm: 1.0800, Test Linf Norm: 0.6181\n",
            "Epoch 38: Train Loss: 0.0041, Test Loss: 0.0042, Train L1 Norm: 0.0093, Test L1 Norm: 0.0080, Train Linf Norm: 1.0893, Test Linf Norm: 0.6102\n",
            "Epoch 39: Train Loss: 0.0041, Test Loss: 0.0041, Train L1 Norm: 0.0091, Test L1 Norm: 0.0077, Train Linf Norm: 1.0489, Test Linf Norm: 0.6065\n",
            "Epoch 40: Train Loss: 0.0040, Test Loss: 0.0041, Train L1 Norm: 0.0092, Test L1 Norm: 0.0077, Train Linf Norm: 1.0357, Test Linf Norm: 0.6082\n",
            "Epoch 41: Train Loss: 0.0040, Test Loss: 0.0041, Train L1 Norm: 0.0092, Test L1 Norm: 0.0077, Train Linf Norm: 1.0815, Test Linf Norm: 0.6079\n",
            "Epoch 42: Train Loss: 0.0040, Test Loss: 0.0041, Train L1 Norm: 0.0092, Test L1 Norm: 0.0077, Train Linf Norm: 1.0558, Test Linf Norm: 0.6071\n",
            "Epoch 43: Train Loss: 0.0040, Test Loss: 0.0041, Train L1 Norm: 0.0092, Test L1 Norm: 0.0077, Train Linf Norm: 1.0603, Test Linf Norm: 0.6062\n",
            "Epoch 44: Train Loss: 0.0040, Test Loss: 0.0041, Train L1 Norm: 0.0092, Test L1 Norm: 0.0076, Train Linf Norm: 1.0668, Test Linf Norm: 0.6051\n",
            "Epoch 45: Train Loss: 0.0040, Test Loss: 0.0041, Train L1 Norm: 0.0092, Test L1 Norm: 0.0077, Train Linf Norm: 1.0590, Test Linf Norm: 0.6063\n",
            "Epoch 46: Train Loss: 0.0040, Test Loss: 0.0041, Train L1 Norm: 0.0092, Test L1 Norm: 0.0077, Train Linf Norm: 1.0632, Test Linf Norm: 0.6065\n",
            "Epoch 47: Train Loss: 0.0040, Test Loss: 0.0041, Train L1 Norm: 0.0092, Test L1 Norm: 0.0077, Train Linf Norm: 1.0826, Test Linf Norm: 0.6058\n",
            "Epoch 48: Train Loss: 0.0040, Test Loss: 0.0041, Train L1 Norm: 0.0092, Test L1 Norm: 0.0077, Train Linf Norm: 1.0641, Test Linf Norm: 0.6075\n",
            "Epoch 49: Train Loss: 0.0040, Test Loss: 0.0041, Train L1 Norm: 0.0092, Test L1 Norm: 0.0077, Train Linf Norm: 1.0688, Test Linf Norm: 0.6085\n",
            "Epoch 50: Train Loss: 0.0040, Test Loss: 0.0041, Train L1 Norm: 0.0092, Test L1 Norm: 0.0077, Train Linf Norm: 1.0717, Test Linf Norm: 0.6057\n",
            "Epoch 51: Train Loss: 0.0040, Test Loss: 0.0041, Train L1 Norm: 0.0092, Test L1 Norm: 0.0077, Train Linf Norm: 1.0723, Test Linf Norm: 0.6062\n",
            "Epoch 52: Train Loss: 0.0040, Test Loss: 0.0041, Train L1 Norm: 0.0092, Test L1 Norm: 0.0077, Train Linf Norm: 1.0586, Test Linf Norm: 0.6063\n",
            "Epoch 53: Train Loss: 0.0040, Test Loss: 0.0041, Train L1 Norm: 0.0092, Test L1 Norm: 0.0077, Train Linf Norm: 1.0711, Test Linf Norm: 0.6065\n",
            "Epoch 54: Train Loss: 0.0040, Test Loss: 0.0041, Train L1 Norm: 0.0092, Test L1 Norm: 0.0077, Train Linf Norm: 1.0810, Test Linf Norm: 0.6066\n",
            "Epoch 55: Train Loss: 0.0040, Test Loss: 0.0041, Train L1 Norm: 0.0092, Test L1 Norm: 0.0077, Train Linf Norm: 1.0411, Test Linf Norm: 0.6065\n",
            "Epoch 56: Train Loss: 0.0040, Test Loss: 0.0041, Train L1 Norm: 0.0092, Test L1 Norm: 0.0077, Train Linf Norm: 1.0649, Test Linf Norm: 0.6066\n",
            "Epoch 57: Train Loss: 0.0040, Test Loss: 0.0041, Train L1 Norm: 0.0092, Test L1 Norm: 0.0077, Train Linf Norm: 1.0588, Test Linf Norm: 0.6065\n"
          ]
        },
        {
          "output_type": "stream",
          "name": "stderr",
          "text": [
            "\u001b[32m[I 2023-05-13 14:15:48,001]\u001b[0m Trial 149 pruned. \u001b[0m\n"
          ]
        },
        {
          "output_type": "stream",
          "name": "stdout",
          "text": [
            "Epoch 58: Train Loss: 0.0040, Test Loss: 0.0041, Train L1 Norm: 0.0092, Test L1 Norm: 0.0077, Train Linf Norm: 1.0658, Test Linf Norm: 0.6065\n",
            "Best trial:\n",
            "  Value:  0.004116397090838291\n",
            "  Params: \n",
            "    n_layers: 3\n",
            "    n_units_0: 78\n",
            "    n_units_1: 193\n",
            "    n_units_2: 99\n",
            "    hidden_activation: ReLU\n",
            "    output_activation: Linear\n",
            "    loss: MAE\n",
            "    optimizer: Adam\n",
            "    lr: 0.00036516467819506355\n",
            "    batch_size: 170\n",
            "    n_epochs: 80\n",
            "    scheduler: ReduceLROnPlateau\n"
          ]
        }
      ],
      "source": [
        "if OPTIMIZE:\n",
        "    # Creating a study object with Optuna with TPE sampler and median pruner \n",
        "    study = optuna.create_study(direction=\"minimize\", sampler=optuna.samplers.TPESampler(), pruner=optuna.pruners.MedianPruner())\n",
        "\n",
        "    # Running Optuna with 100 trials when we are optimizing.\n",
        "    study.optimize(objective, n_trials=N_TRIALS)\n",
        "\n",
        "    # Printing the best trial information\n",
        "    print(\"Best trial:\")\n",
        "    trial = study.best_trial\n",
        "    print(\"  Value: \", trial.value)\n",
        "    print(\"  Params: \")\n",
        "    for key, value in trial.params.items():\n",
        "        print(f\"    {key}: {value}\")\n"
      ]
    },
    {
      "cell_type": "markdown",
      "metadata": {
        "id": "pjFqZ5SlQ3wg"
      },
      "source": [
        "## Training the model"
      ]
    },
    {
      "cell_type": "code",
      "execution_count": null,
      "metadata": {
        "id": "Dm9OFmIpQ3wg",
        "colab": {
          "base_uri": "https://localhost:8080/"
        },
        "outputId": "7f5e642e-f18a-4ae6-9972-60fe652c618b"
      },
      "outputs": [
        {
          "output_type": "stream",
          "name": "stderr",
          "text": [
            "<ipython-input-11-bd4fe74facdf>:46: FutureWarning: suggest_loguniform has been deprecated in v3.0.0. This feature will be removed in v6.0.0. See https://github.com/optuna/optuna/releases/tag/v3.0.0. Use :func:`~optuna.trial.FrozenTrial.suggest_float` instead.\n",
            "  lr = trial.suggest_loguniform(\"lr\", 1e-4, 1e-2)\n"
          ]
        }
      ],
      "source": [
        "# Creating the best network and optimizer using the best hyperparameters\n",
        "if OPTIMIZE:\n",
        "    net, \\\n",
        "    loss_fn, \\\n",
        "    optimizer, \\\n",
        "    batch_size, \\\n",
        "    n_epochs, \\\n",
        "    scheduler, \\\n",
        "    loss_name, \\\n",
        "    optimizer_name, \\\n",
        "    scheduler_name, \\\n",
        "    n_units, \\\n",
        "    n_layers, \\\n",
        "    hidden_activation, \\\n",
        "    output_activation, \\\n",
        "    lr = create_model(trial, optimize=True)\n",
        "# Creating the network with predefined hyperparameters\n",
        "else:\n",
        "    net, \\\n",
        "    loss_fn, \\\n",
        "    optimizer, \\\n",
        "    batch_size, \\\n",
        "    n_epochs, \\\n",
        "    scheduler, \\\n",
        "    loss_name, \\\n",
        "    optimizer_name, \\\n",
        "    scheduler_name, \\\n",
        "    n_units, \\\n",
        "    n_layers, \\\n",
        "    hidden_activation, \\\n",
        "    output_activation, \\\n",
        "    lr = create_model(trial=None, optimize=False)"
      ]
    },
    {
      "cell_type": "code",
      "execution_count": null,
      "metadata": {
        "id": "jTfHiPS6Q3wh",
        "colab": {
          "base_uri": "https://localhost:8080/"
        },
        "outputId": "68300879-f488-4f23-d8c3-0ac6f3d9af95"
      },
      "outputs": [
        {
          "output_type": "stream",
          "name": "stdout",
          "text": [
            "loss_fn: L1Loss()\n",
            "batch_size: 170\n",
            "n_epochs: 80\n",
            "scheduler: <torch.optim.lr_scheduler.ReduceLROnPlateau object at 0x7f4c103e2860>\n",
            "loss_name: MAE\n",
            "optimizer_name: Adam\n",
            "scheduler_name: ReduceLROnPlateau\n",
            "n_units: [78, 193, 99]\n",
            "n_layers: 3\n",
            "hidden_activation: ReLU()\n",
            "output_activation: Identity()\n"
          ]
        }
      ],
      "source": [
        "print(\"loss_fn:\", loss_fn)\n",
        "print(\"batch_size:\", batch_size)\n",
        "print(\"n_epochs:\", n_epochs)\n",
        "print(\"scheduler:\", scheduler)\n",
        "print(\"loss_name:\", loss_name)\n",
        "print(\"optimizer_name:\", optimizer_name)\n",
        "print(\"scheduler_name:\", scheduler_name)\n",
        "print(\"n_units:\", n_units)\n",
        "print(\"n_layers:\", n_layers)\n",
        "print(\"hidden_activation:\", hidden_activation)\n",
        "print(\"output_activation:\", output_activation)"
      ]
    },
    {
      "cell_type": "code",
      "execution_count": null,
      "metadata": {
        "id": "edoqfzFiQ3wh",
        "colab": {
          "base_uri": "https://localhost:8080/"
        },
        "outputId": "a5166fac-61d1-48e5-8599-4f1681d630b3"
      },
      "outputs": [
        {
          "output_type": "stream",
          "name": "stdout",
          "text": [
            "Epoch 1: Train Loss: 0.2509, Test Loss: 0.0198, Train L1 Norm: 0.3230, Test L1 Norm: 0.0684, Train Linf Norm: 26.0797, Test Linf Norm: 7.0980\n",
            "Epoch 2: Train Loss: 0.0292, Test Loss: 0.0452, Train L1 Norm: 0.0593, Test L1 Norm: 0.0779, Train Linf Norm: 6.4505, Test Linf Norm: 7.2795\n",
            "Epoch 3: Train Loss: 0.0263, Test Loss: 0.0132, Train L1 Norm: 0.0552, Test L1 Norm: 0.0717, Train Linf Norm: 6.0463, Test Linf Norm: 8.0953\n",
            "Epoch 4: Train Loss: 0.0197, Test Loss: 0.0080, Train L1 Norm: 0.0528, Test L1 Norm: 0.0377, Train Linf Norm: 6.3257, Test Linf Norm: 4.2428\n",
            "Epoch 5: Train Loss: 0.0269, Test Loss: 0.0214, Train L1 Norm: 0.0535, Test L1 Norm: 0.0544, Train Linf Norm: 6.0539, Test Linf Norm: 5.9270\n",
            "Epoch 6: Train Loss: 0.0257, Test Loss: 0.0382, Train L1 Norm: 0.0466, Test L1 Norm: 0.0337, Train Linf Norm: 5.0294, Test Linf Norm: 2.4666\n",
            "Epoch 7: Train Loss: 0.0238, Test Loss: 0.0083, Train L1 Norm: 0.0541, Test L1 Norm: 0.0235, Train Linf Norm: 6.5766, Test Linf Norm: 2.2358\n",
            "Epoch 8: Train Loss: 0.0182, Test Loss: 0.0173, Train L1 Norm: 0.0295, Test L1 Norm: 0.0311, Train Linf Norm: 2.9075, Test Linf Norm: 3.2209\n",
            "Epoch 9: Train Loss: 0.0208, Test Loss: 0.0105, Train L1 Norm: 0.0387, Test L1 Norm: 0.0279, Train Linf Norm: 4.2059, Test Linf Norm: 2.9417\n",
            "Epoch 10: Train Loss: 0.0221, Test Loss: 0.0087, Train L1 Norm: 0.0355, Test L1 Norm: 0.0191, Train Linf Norm: 3.2866, Test Linf Norm: 1.6517\n",
            "Epoch 11: Train Loss: 0.0079, Test Loss: 0.0057, Train L1 Norm: 0.0192, Test L1 Norm: 0.0216, Train Linf Norm: 2.1316, Test Linf Norm: 2.2439\n",
            "Epoch 12: Train Loss: 0.0097, Test Loss: 0.0046, Train L1 Norm: 0.0246, Test L1 Norm: 0.0124, Train Linf Norm: 2.7548, Test Linf Norm: 1.2139\n",
            "Epoch 13: Train Loss: 0.0124, Test Loss: 0.0117, Train L1 Norm: 0.0248, Test L1 Norm: 0.0169, Train Linf Norm: 2.6901, Test Linf Norm: 1.3634\n",
            "Epoch 14: Train Loss: 0.0121, Test Loss: 0.0165, Train L1 Norm: 0.0225, Test L1 Norm: 0.0245, Train Linf Norm: 2.3966, Test Linf Norm: 2.1977\n",
            "Epoch 15: Train Loss: 0.0103, Test Loss: 0.0132, Train L1 Norm: 0.0186, Test L1 Norm: 0.0322, Train Linf Norm: 1.8795, Test Linf Norm: 3.3241\n",
            "Epoch 16: Train Loss: 0.0091, Test Loss: 0.0189, Train L1 Norm: 0.0205, Test L1 Norm: 0.0235, Train Linf Norm: 2.3232, Test Linf Norm: 1.7002\n",
            "Epoch 17: Train Loss: 0.0106, Test Loss: 0.0155, Train L1 Norm: 0.0202, Test L1 Norm: 0.0305, Train Linf Norm: 2.1443, Test Linf Norm: 2.7492\n",
            "Epoch 18: Train Loss: 0.0101, Test Loss: 0.0085, Train L1 Norm: 0.0190, Test L1 Norm: 0.0142, Train Linf Norm: 1.9604, Test Linf Norm: 1.2757\n",
            "Epoch 19: Train Loss: 0.0049, Test Loss: 0.0035, Train L1 Norm: 0.0127, Test L1 Norm: 0.0105, Train Linf Norm: 1.3932, Test Linf Norm: 0.9988\n",
            "Epoch 20: Train Loss: 0.0054, Test Loss: 0.0070, Train L1 Norm: 0.0122, Test L1 Norm: 0.0104, Train Linf Norm: 1.2614, Test Linf Norm: 0.9025\n",
            "Epoch 21: Train Loss: 0.0053, Test Loss: 0.0059, Train L1 Norm: 0.0117, Test L1 Norm: 0.0126, Train Linf Norm: 1.1990, Test Linf Norm: 1.1984\n",
            "Epoch 22: Train Loss: 0.0054, Test Loss: 0.0053, Train L1 Norm: 0.0121, Test L1 Norm: 0.0085, Train Linf Norm: 1.2562, Test Linf Norm: 0.7057\n",
            "Epoch 23: Train Loss: 0.0049, Test Loss: 0.0037, Train L1 Norm: 0.0115, Test L1 Norm: 0.0091, Train Linf Norm: 1.1924, Test Linf Norm: 0.8284\n",
            "Epoch 24: Train Loss: 0.0046, Test Loss: 0.0041, Train L1 Norm: 0.0119, Test L1 Norm: 0.0092, Train Linf Norm: 1.2957, Test Linf Norm: 0.8853\n",
            "Epoch 25: Train Loss: 0.0058, Test Loss: 0.0076, Train L1 Norm: 0.0112, Test L1 Norm: 0.0171, Train Linf Norm: 1.1036, Test Linf Norm: 1.7325\n",
            "Epoch 26: Train Loss: 0.0035, Test Loss: 0.0032, Train L1 Norm: 0.0092, Test L1 Norm: 0.0095, Train Linf Norm: 0.9463, Test Linf Norm: 0.9491\n",
            "Epoch 27: Train Loss: 0.0033, Test Loss: 0.0028, Train L1 Norm: 0.0091, Test L1 Norm: 0.0085, Train Linf Norm: 0.9800, Test Linf Norm: 0.8402\n",
            "Epoch 28: Train Loss: 0.0035, Test Loss: 0.0027, Train L1 Norm: 0.0106, Test L1 Norm: 0.0080, Train Linf Norm: 1.2154, Test Linf Norm: 0.7889\n",
            "Epoch 29: Train Loss: 0.0034, Test Loss: 0.0029, Train L1 Norm: 0.0088, Test L1 Norm: 0.0103, Train Linf Norm: 0.9017, Test Linf Norm: 1.1043\n",
            "Epoch 30: Train Loss: 0.0034, Test Loss: 0.0038, Train L1 Norm: 0.0094, Test L1 Norm: 0.0090, Train Linf Norm: 1.0138, Test Linf Norm: 0.8395\n",
            "Epoch 31: Train Loss: 0.0035, Test Loss: 0.0031, Train L1 Norm: 0.0097, Test L1 Norm: 0.0085, Train Linf Norm: 1.0650, Test Linf Norm: 0.8386\n",
            "Epoch 32: Train Loss: 0.0033, Test Loss: 0.0044, Train L1 Norm: 0.0091, Test L1 Norm: 0.0114, Train Linf Norm: 0.9773, Test Linf Norm: 1.1662\n",
            "Epoch 33: Train Loss: 0.0035, Test Loss: 0.0031, Train L1 Norm: 0.0104, Test L1 Norm: 0.0102, Train Linf Norm: 1.1743, Test Linf Norm: 1.0816\n",
            "Epoch 34: Train Loss: 0.0033, Test Loss: 0.0094, Train L1 Norm: 0.0091, Test L1 Norm: 0.0101, Train Linf Norm: 0.9775, Test Linf Norm: 0.6580\n",
            "Epoch 35: Train Loss: 0.0028, Test Loss: 0.0025, Train L1 Norm: 0.0079, Test L1 Norm: 0.0086, Train Linf Norm: 0.8295, Test Linf Norm: 0.8782\n",
            "Epoch 36: Train Loss: 0.0026, Test Loss: 0.0027, Train L1 Norm: 0.0083, Test L1 Norm: 0.0085, Train Linf Norm: 0.8807, Test Linf Norm: 0.8742\n",
            "Epoch 37: Train Loss: 0.0027, Test Loss: 0.0040, Train L1 Norm: 0.0080, Test L1 Norm: 0.0103, Train Linf Norm: 0.8213, Test Linf Norm: 1.0692\n",
            "Epoch 38: Train Loss: 0.0027, Test Loss: 0.0026, Train L1 Norm: 0.0083, Test L1 Norm: 0.0087, Train Linf Norm: 0.8927, Test Linf Norm: 0.9145\n",
            "Epoch 39: Train Loss: 0.0027, Test Loss: 0.0027, Train L1 Norm: 0.0077, Test L1 Norm: 0.0095, Train Linf Norm: 0.8029, Test Linf Norm: 1.0127\n",
            "Epoch 40: Train Loss: 0.0027, Test Loss: 0.0025, Train L1 Norm: 0.0088, Test L1 Norm: 0.0091, Train Linf Norm: 0.9812, Test Linf Norm: 0.9782\n",
            "Epoch 41: Train Loss: 0.0026, Test Loss: 0.0041, Train L1 Norm: 0.0078, Test L1 Norm: 0.0099, Train Linf Norm: 0.8140, Test Linf Norm: 1.0106\n",
            "Epoch 42: Train Loss: 0.0024, Test Loss: 0.0023, Train L1 Norm: 0.0078, Test L1 Norm: 0.0089, Train Linf Norm: 0.8550, Test Linf Norm: 0.9579\n",
            "Epoch 43: Train Loss: 0.0024, Test Loss: 0.0023, Train L1 Norm: 0.0075, Test L1 Norm: 0.0083, Train Linf Norm: 0.8009, Test Linf Norm: 0.8467\n",
            "Epoch 44: Train Loss: 0.0024, Test Loss: 0.0028, Train L1 Norm: 0.0083, Test L1 Norm: 0.0085, Train Linf Norm: 0.9450, Test Linf Norm: 0.8799\n",
            "Epoch 45: Train Loss: 0.0024, Test Loss: 0.0027, Train L1 Norm: 0.0074, Test L1 Norm: 0.0077, Train Linf Norm: 0.8033, Test Linf Norm: 0.7678\n",
            "Epoch 46: Train Loss: 0.0024, Test Loss: 0.0023, Train L1 Norm: 0.0078, Test L1 Norm: 0.0082, Train Linf Norm: 0.8550, Test Linf Norm: 0.8508\n",
            "Epoch 47: Train Loss: 0.0023, Test Loss: 0.0026, Train L1 Norm: 0.0077, Test L1 Norm: 0.0079, Train Linf Norm: 0.8560, Test Linf Norm: 0.8021\n",
            "Epoch 48: Train Loss: 0.0024, Test Loss: 0.0022, Train L1 Norm: 0.0076, Test L1 Norm: 0.0075, Train Linf Norm: 0.8192, Test Linf Norm: 0.7429\n",
            "Epoch 49: Train Loss: 0.0023, Test Loss: 0.0023, Train L1 Norm: 0.0072, Test L1 Norm: 0.0074, Train Linf Norm: 0.7620, Test Linf Norm: 0.7080\n",
            "Epoch 50: Train Loss: 0.0023, Test Loss: 0.0022, Train L1 Norm: 0.0074, Test L1 Norm: 0.0076, Train Linf Norm: 0.7811, Test Linf Norm: 0.7807\n",
            "Epoch 51: Train Loss: 0.0023, Test Loss: 0.0022, Train L1 Norm: 0.0071, Test L1 Norm: 0.0085, Train Linf Norm: 0.7514, Test Linf Norm: 0.8856\n",
            "Epoch 52: Train Loss: 0.0023, Test Loss: 0.0021, Train L1 Norm: 0.0075, Test L1 Norm: 0.0079, Train Linf Norm: 0.8052, Test Linf Norm: 0.8256\n",
            "Epoch 53: Train Loss: 0.0023, Test Loss: 0.0021, Train L1 Norm: 0.0070, Test L1 Norm: 0.0075, Train Linf Norm: 0.7425, Test Linf Norm: 0.7478\n",
            "Epoch 54: Train Loss: 0.0023, Test Loss: 0.0021, Train L1 Norm: 0.0076, Test L1 Norm: 0.0075, Train Linf Norm: 0.8286, Test Linf Norm: 0.7623\n",
            "Epoch 55: Train Loss: 0.0023, Test Loss: 0.0021, Train L1 Norm: 0.0071, Test L1 Norm: 0.0062, Train Linf Norm: 0.7406, Test Linf Norm: 0.5462\n",
            "Epoch 56: Train Loss: 0.0022, Test Loss: 0.0022, Train L1 Norm: 0.0074, Test L1 Norm: 0.0089, Train Linf Norm: 0.7984, Test Linf Norm: 0.9475\n",
            "Epoch 57: Train Loss: 0.0023, Test Loss: 0.0023, Train L1 Norm: 0.0069, Test L1 Norm: 0.0067, Train Linf Norm: 0.7201, Test Linf Norm: 0.6395\n",
            "Epoch 58: Train Loss: 0.0023, Test Loss: 0.0022, Train L1 Norm: 0.0073, Test L1 Norm: 0.0071, Train Linf Norm: 0.7542, Test Linf Norm: 0.7153\n",
            "Epoch 59: Train Loss: 0.0022, Test Loss: 0.0022, Train L1 Norm: 0.0070, Test L1 Norm: 0.0071, Train Linf Norm: 0.7272, Test Linf Norm: 0.6854\n",
            "Epoch 60: Train Loss: 0.0021, Test Loss: 0.0021, Train L1 Norm: 0.0071, Test L1 Norm: 0.0074, Train Linf Norm: 0.7509, Test Linf Norm: 0.7685\n",
            "Epoch 61: Train Loss: 0.0021, Test Loss: 0.0021, Train L1 Norm: 0.0074, Test L1 Norm: 0.0069, Train Linf Norm: 0.7975, Test Linf Norm: 0.6889\n",
            "Epoch 62: Train Loss: 0.0021, Test Loss: 0.0021, Train L1 Norm: 0.0067, Test L1 Norm: 0.0073, Train Linf Norm: 0.7047, Test Linf Norm: 0.7480\n",
            "Epoch 63: Train Loss: 0.0021, Test Loss: 0.0024, Train L1 Norm: 0.0071, Test L1 Norm: 0.0071, Train Linf Norm: 0.7681, Test Linf Norm: 0.6997\n",
            "Epoch 64: Train Loss: 0.0021, Test Loss: 0.0020, Train L1 Norm: 0.0073, Test L1 Norm: 0.0066, Train Linf Norm: 0.8055, Test Linf Norm: 0.6577\n",
            "Epoch 65: Train Loss: 0.0021, Test Loss: 0.0020, Train L1 Norm: 0.0070, Test L1 Norm: 0.0070, Train Linf Norm: 0.7729, Test Linf Norm: 0.6925\n",
            "Epoch 66: Train Loss: 0.0021, Test Loss: 0.0020, Train L1 Norm: 0.0068, Test L1 Norm: 0.0072, Train Linf Norm: 0.7120, Test Linf Norm: 0.7154\n",
            "Epoch 67: Train Loss: 0.0021, Test Loss: 0.0021, Train L1 Norm: 0.0073, Test L1 Norm: 0.0071, Train Linf Norm: 0.8202, Test Linf Norm: 0.7180\n",
            "Epoch 68: Train Loss: 0.0021, Test Loss: 0.0020, Train L1 Norm: 0.0064, Test L1 Norm: 0.0072, Train Linf Norm: 0.6645, Test Linf Norm: 0.7274\n",
            "Epoch 69: Train Loss: 0.0021, Test Loss: 0.0020, Train L1 Norm: 0.0070, Test L1 Norm: 0.0072, Train Linf Norm: 0.7516, Test Linf Norm: 0.7412\n",
            "Epoch 70: Train Loss: 0.0021, Test Loss: 0.0022, Train L1 Norm: 0.0070, Test L1 Norm: 0.0074, Train Linf Norm: 0.7617, Test Linf Norm: 0.7342\n",
            "Epoch 71: Train Loss: 0.0021, Test Loss: 0.0020, Train L1 Norm: 0.0075, Test L1 Norm: 0.0067, Train Linf Norm: 0.7999, Test Linf Norm: 0.6673\n",
            "Epoch 72: Train Loss: 0.0021, Test Loss: 0.0020, Train L1 Norm: 0.0071, Test L1 Norm: 0.0064, Train Linf Norm: 0.7884, Test Linf Norm: 0.6286\n",
            "Epoch 73: Train Loss: 0.0021, Test Loss: 0.0022, Train L1 Norm: 0.0071, Test L1 Norm: 0.0072, Train Linf Norm: 0.7909, Test Linf Norm: 0.7454\n",
            "Epoch 74: Train Loss: 0.0021, Test Loss: 0.0020, Train L1 Norm: 0.0070, Test L1 Norm: 0.0066, Train Linf Norm: 0.7453, Test Linf Norm: 0.6503\n",
            "Epoch 75: Train Loss: 0.0020, Test Loss: 0.0021, Train L1 Norm: 0.0070, Test L1 Norm: 0.0071, Train Linf Norm: 0.7618, Test Linf Norm: 0.7295\n",
            "Epoch 76: Train Loss: 0.0021, Test Loss: 0.0020, Train L1 Norm: 0.0074, Test L1 Norm: 0.0061, Train Linf Norm: 0.8318, Test Linf Norm: 0.5825\n",
            "Epoch 77: Train Loss: 0.0020, Test Loss: 0.0021, Train L1 Norm: 0.0069, Test L1 Norm: 0.0062, Train Linf Norm: 0.7512, Test Linf Norm: 0.5701\n",
            "Epoch 78: Train Loss: 0.0020, Test Loss: 0.0020, Train L1 Norm: 0.0067, Test L1 Norm: 0.0071, Train Linf Norm: 0.7226, Test Linf Norm: 0.7124\n",
            "Epoch 79: Train Loss: 0.0020, Test Loss: 0.0019, Train L1 Norm: 0.0069, Test L1 Norm: 0.0068, Train Linf Norm: 0.7643, Test Linf Norm: 0.6713\n",
            "Epoch 80: Train Loss: 0.0020, Test Loss: 0.0019, Train L1 Norm: 0.0070, Test L1 Norm: 0.0065, Train Linf Norm: 0.7733, Test Linf Norm: 0.6417\n"
          ]
        }
      ],
      "source": [
        "# Training and evaluating the network using the train_and_eval function\n",
        "train_losses, test_losses, train_metrics, test_metrics = train_and_eval(\n",
        "    net, loss_fn, optimizer, batch_size, n_epochs, scheduler\n",
        ")"
      ]
    },
    {
      "cell_type": "markdown",
      "metadata": {
        "id": "7nv1LYdKQ3wh"
      },
      "source": [
        "## Visualizing the results"
      ]
    },
    {
      "cell_type": "code",
      "execution_count": null,
      "metadata": {
        "id": "oNmhVa4tQ3wh",
        "colab": {
          "base_uri": "https://localhost:8080/",
          "height": 1000
        },
        "outputId": "7b114776-77ca-4db1-cfe6-a6b2794148da"
      },
      "outputs": [
        {
          "output_type": "display_data",
          "data": {
            "text/plain": [
              "<Figure size 1200x800 with 3 Axes>"
            ],
            "image/png": "[encoded data removed]"
          },
          "metadata": {}
        },
        {
          "output_type": "display_data",
          "data": {
            "text/plain": [
              "<Figure size 800x600 with 1 Axes>"
            ],
            "image/png": "[encoded data removed]"
          },
          "metadata": {}
        }
      ],
      "source": [
        "# Plotting the losses and metrics for the best network \n",
        "plt.figure(figsize=(12, 8))\n",
        "plt.subplot(2, 2, 1)\n",
        "plt.plot(train_losses, label=\"Train Loss\")\n",
        "plt.plot(test_losses, label=\"Test Loss\")\n",
        "plt.xlabel(\"Epoch\")\n",
        "plt.ylabel(\"Loss\")\n",
        "plt.legend()\n",
        "plt.subplot(2, 2, 2)\n",
        "plt.plot([m[\"l1_norm\"] for m in train_metrics], label=\"Train L1 Norm\")\n",
        "plt.plot([m[\"l1_norm\"] for m in test_metrics], label=\"Test L1 Norm\")\n",
        "plt.xlabel(\"Epoch\")\n",
        "plt.ylabel(\"L1 Norm\")\n",
        "# Added setting the vertical axis to be in powers of 10\n",
        "plt.yscale(\"log\")\n",
        "# Added setting the vertical axis limits to be from 10^-7 to 10^0\n",
        "plt.ylim(1e-3, 1e2)\n",
        "plt.legend()\n",
        "plt.subplot(2, 2, 3)\n",
        "plt.plot([m[\"linf_norm\"] for m in train_metrics], label=\"Train Linf Norm\")\n",
        "plt.plot([m[\"linf_norm\"] for m in test_metrics], label=\"Test Linf Norm\")\n",
        "plt.xlabel(\"Epoch\")\n",
        "plt.ylabel(\"Linf Norm\")\n",
        "# Added setting the vertical axis to be in powers of 10\n",
        "plt.yscale(\"log\")\n",
        "# Added setting the vertical axis limits to be from 10^-7 to 10^0\n",
        "plt.ylim(1e-3, 1e2)\n",
        "plt.legend()\n",
        "plt.tight_layout()\n",
        "plt.show()\n",
        "\n",
        "# Added plotting MSE of training data and MSE of test data in one plot \n",
        "plt.figure(figsize=(8, 6))\n",
        "plt.plot(train_losses,label=\"training data\")\n",
        "plt.plot(test_losses,label=\"test data\")\n",
        "#if scheduler is not None:\n",
        "#    plt.plot([scheduler.get_last_lr()[0] for _ in range(n_epochs)], label=\"Learning rate\") \n",
        "plt.xlabel(\"Epoch\")\n",
        "plt.ylabel(\"MSE\")\n",
        "# Added setting the vertical axis to be in powers of 10\n",
        "plt.yscale(\"log\")\n",
        "# Added setting the vertical axis limits to be from 10^-7 to 10^0\n",
        "plt.ylim(1e-7, 1e0)\n",
        "plt.legend()\n",
        "plt.show()"
      ]
    },
    {
      "cell_type": "markdown",
      "metadata": {
        "id": "qlXq-zCrQ3wi"
      },
      "source": [
        "## Saving"
      ]
    },
    {
      "cell_type": "code",
      "execution_count": null,
      "metadata": {
        "id": "QUIBzzvkQ3wi"
      },
      "outputs": [],
      "source": [
        "import json\n",
        "import pandas as pd\n",
        "\n",
        "# save the network to a .pth file\n",
        "torch.save(net.state_dict(), \"net.pth\")\n",
        "\n",
        "# save the optimizer to a .pth file\n",
        "torch.save(optimizer.state_dict(), \"optimizer.pth\")\n",
        "\n",
        "# save the scheduler to a .pth file if it is not None\n",
        "if scheduler is not None:\n",
        "  torch.save(scheduler.state_dict(), \"scheduler.pth\")\n",
        "\n",
        "# create a dictionary to store the rest of the variables\n",
        "var_dict = {\n",
        "  \"batch_size\": batch_size,\n",
        "  \"n_epochs\": n_epochs,\n",
        "  \"loss_name\": loss_name,\n",
        "  \"optimizer_name\": optimizer_name,\n",
        "  \"scheduler_name\": scheduler_name,\n",
        "  \"n_units\": n_units,\n",
        "  \"n_layers\": n_layers,\n",
        "  \"hidden_activation_name\": hidden_activation.__class__.__name__,\n",
        "  \"output_activation_name\": output_activation.__class__.__name__,\n",
        "  \"lr\": lr,\n",
        "}\n",
        "\n",
        "# save the dictionary to a .json file\n",
        "with open(\"var_dict.json\", \"w\") as f:\n",
        "  json.dump(var_dict, f)\n",
        "\n",
        "# Saving the output of the training using pandas\n",
        "train_df = pd.DataFrame(\n",
        "    {\n",
        "        \"train_loss\": train_losses,\n",
        "        \"test_loss\": test_losses,\n",
        "        \"train_l1_norm\": [m[\"l1_norm\"] for m in train_metrics],\n",
        "        \"test_l1_norm\": [m[\"l1_norm\"] for m in test_metrics],\n",
        "        \"train_linf_norm\": [m[\"linf_norm\"] for m in train_metrics],\n",
        "        \"test_linf_norm\": [m[\"linf_norm\"] for m in test_metrics],\n",
        "    }\n",
        ")\n",
        "train_df.to_csv(\"train_output.csv\", index=False)\n"
      ]
    },
    {
      "cell_type": "markdown",
      "metadata": {
        "id": "wE_VzVmkQ3wi"
      },
      "source": [
        "## Loading"
      ]
    },
    {
      "cell_type": "code",
      "execution_count": null,
      "metadata": {
        "id": "c9LxV-Y9Q3wi"
      },
      "outputs": [],
      "source": [
        "import json\n",
        "import pandas as pd\n",
        "\n",
        "# load the dictionary from the .json file\n",
        "with open(\"var_dict.json\", \"r\") as f:\n",
        "  var_dict_loaded = json.load(f)\n",
        "\n",
        "# extract the variables from the dictionary\n",
        "batch_size_loaded = var_dict_loaded[\"batch_size\"]\n",
        "n_epochs_loaded = var_dict_loaded[\"n_epochs\"]\n",
        "loss_name_loaded = var_dict_loaded[\"loss_name\"]\n",
        "optimizer_name_loaded = var_dict_loaded[\"optimizer_name\"]\n",
        "scheduler_name_loaded = var_dict_loaded[\"scheduler_name\"]\n",
        "n_units_loaded = var_dict_loaded[\"n_units\"]\n",
        "n_layers_loaded = var_dict_loaded[\"n_layers\"]\n",
        "hidden_activation_name_loaded = var_dict_loaded[\"hidden_activation_name\"]\n",
        "output_activation_name_loaded = var_dict_loaded[\"output_activation_name\"]\n",
        "lr_loaded = var_dict_loaded[\"lr\"]\n",
        "\n",
        "# create the activation functions from their names\n",
        "if hidden_activation_name_loaded == \"ReLU\":\n",
        "  hidden_activation_loaded = nn.ReLU()\n",
        "elif hidden_activation_name_loaded == \"LeakyReLU\":\n",
        "  hidden_activation_loaded = nn.LeakyReLU() \n",
        "elif hidden_activation_name_loaded == \"ELU\":\n",
        "  hidden_activation_loaded = nn.ELU() \n",
        "elif hidden_activation_name_loaded == \"Tanh\":\n",
        "  hidden_activation_loaded = nn.Tanh()\n",
        "else:\n",
        "  hidden_activation_loaded = nn.Sigmoid()\n",
        "\n",
        "if output_activation_name_loaded == \"ReLU\":\n",
        "  output_activation_loaded = nn.ReLU()\n",
        "else:\n",
        "  output_activation_loaded = nn.Identity()\n",
        "\n",
        "# load the network from the .pth file\n",
        "net_loaded = Net(n_layers_loaded, n_units_loaded, hidden_activation_loaded, output_activation_loaded).to(device)\n",
        "net_loaded.load_state_dict(torch.load(\"net.pth\"))\n",
        "\n",
        "# create the loss function from its name\n",
        "if loss_name_loaded == \"MSE\":\n",
        "  loss_fn_loaded = nn.MSELoss()\n",
        "elif loss_name_loaded == \"MAE\":\n",
        "  loss_fn_loaded = nn.L1Loss()\n",
        "elif loss_name_loaded == \"Huber\":\n",
        "  loss_fn_loaded = nn.SmoothL1Loss() \n",
        "else:\n",
        "  # create the log-cosh loss function\n",
        "  def log_cosh_loss_loaded(y_pred, y_true):\n",
        "    return torch.mean(torch.log(torch.cosh(y_pred - y_true)))\n",
        "  loss_fn_loaded = log_cosh_loss_loaded\n",
        "\n",
        "# load the optimizer from the .pth file\n",
        "if optimizer_name_loaded == \"SGD\":\n",
        "  optimizer_loaded = optim.SGD(net_loaded.parameters(), lr=lr_loaded)\n",
        "elif optimizer_name_loaded == \"Adam\":\n",
        "  optimizer_loaded = optim.Adam(net_loaded.parameters(), lr=lr_loaded)\n",
        "elif optimizer_name_loaded == \"RMSprop\":\n",
        "  optimizer_loaded = optim.RMSprop(net_loaded.parameters(), lr=lr_loaded)\n",
        "else:\n",
        "  # Added loading the Adagrad optimizer\n",
        "  optimizer_loaded = optim.Adagrad(net_loaded.parameters(), lr=lr_loaded)\n",
        "optimizer_loaded.load_state_dict(torch.load(\"optimizer.pth\"))\n",
        "\n",
        "if scheduler_name_loaded == \"StepLR\":\n",
        "  scheduler_loaded = optim.lr_scheduler.StepLR(optimizer_loaded, step_size=10, gamma=0.1)\n",
        "elif scheduler_name_loaded == \"ExponentialLR\":\n",
        "  scheduler_loaded = optim.lr_scheduler.ExponentialLR(optimizer_loaded, gamma=0.9)\n",
        "elif scheduler_name_loaded == \"CosineAnnealingLR\":\n",
        "  scheduler_loaded = optim.lr_scheduler.CosineAnnealingLR(optimizer_loaded, T_max=10)\n",
        "elif scheduler_name_loaded == \"ReduceLROnPlateau\":\n",
        "  scheduler_loaded = optim.lr_scheduler.ReduceLROnPlateau(\n",
        "                    optimizer_loaded, mode=\"min\", factor=0.5, patience=5, threshold=0.0005, min_lr=1e-6\n",
        "                )\n",
        "else:\n",
        "  scheduler_loaded = None\n",
        "\n",
        "if scheduler_loaded is not None:\n",
        "  scheduler_loaded.load_state_dict(torch.load(\"scheduler.pth\"))\n",
        "            \n",
        "\n",
        "# Loading the output of the training using pandas\n",
        "train_df_loaded = pd.read_csv(\"train_output.csv\")\n",
        "train_losses_loaded = train_df_loaded[\"train_loss\"].tolist()\n",
        "test_losses_loaded = train_df_loaded[\"test_loss\"].tolist()\n",
        "train_metrics_loaded = [\n",
        "    {\n",
        "        \"l1_norm\": train_df_loaded[\"train_l1_norm\"][i],\n",
        "        \"linf_norm\": train_df_loaded[\"train_linf_norm\"][i],\n",
        "    }\n",
        "    for i in range(len(train_df_loaded))\n",
        "]\n",
        "test_metrics_loaded = [\n",
        "    {\n",
        "        \"l1_norm\": train_df_loaded[\"test_l1_norm\"][i],\n",
        "        \"linf_norm\": train_df_loaded[\"test_linf_norm\"][i],\n",
        "    }\n",
        "    for i in range(len(train_df_loaded))\n",
        "]"
      ]
    },
    {
      "cell_type": "code",
      "execution_count": null,
      "metadata": {
        "id": "IBpz7G9qQ3wi",
        "colab": {
          "base_uri": "https://localhost:8080/"
        },
        "outputId": "1d65b03a-e355-4a72-dd87-dd0e85e32632"
      },
      "outputs": [
        {
          "output_type": "execute_result",
          "data": {
            "text/plain": [
              "<torch.optim.lr_scheduler.ReduceLROnPlateau at 0x7f4b4274c5e0>"
            ]
          },
          "metadata": {},
          "execution_count": 22
        }
      ],
      "source": [
        "batch_size_loaded\n",
        "n_epochs_loaded\n",
        "loss_name_loaded\n",
        "optimizer_name_loaded\n",
        "scheduler_name_loaded\n",
        "n_units_loaded\n",
        "n_layers_loaded\n",
        "hidden_activation_name_loaded\n",
        "output_activation_name_loaded\n",
        "lr_loaded\n",
        "hidden_activation_loaded\n",
        "output_activation_loaded\n",
        "net_loaded\n",
        "loss_fn_loaded\n",
        "optimizer_loaded\n",
        "scheduler_loaded\n",
        "#train_losses_loaded\n",
        "#test_losses_loaded\n",
        "#train_metrics_loaded\n",
        "#test_metrics_loaded"
      ]
    },
    {
      "cell_type": "markdown",
      "metadata": {
        "id": "ofV_6WdCQ3wi"
      },
      "source": [
        "## Evaluating the network on arbirary input\n",
        "### Comparing `net` and `net_loaded`\n",
        "\n",
        "We compare `net` and `net_loaded` to confirm correct loading of the network."
      ]
    },
    {
      "cell_type": "code",
      "execution_count": null,
      "metadata": {
        "id": "eGJbCTLwQ3wj",
        "colab": {
          "base_uri": "https://localhost:8080/"
        },
        "outputId": "73e2e347-e894-4cb3-fae0-c076805c7668"
      },
      "outputs": [
        {
          "output_type": "stream",
          "name": "stdout",
          "text": [
            "[Parameter containing:\n",
            "tensor([[-0.1816,  0.2416,  0.1458],\n",
            "        [ 0.1680,  0.2238,  0.5390],\n",
            "        [-0.2251,  0.4058,  0.2923],\n",
            "        [ 0.1841, -0.1964, -0.5651],\n",
            "        [ 0.4065, -0.4723, -0.2989],\n",
            "        [ 0.0348, -0.5174,  0.0283],\n",
            "        [-0.0176, -0.1592, -0.0652],\n",
            "        [ 0.0814, -0.4233, -0.2894],\n",
            "        [ 0.1915,  0.1563, -0.5330],\n",
            "        [-0.3292,  0.0648,  0.1497],\n",
            "        [-0.1158,  0.1737, -0.4455],\n",
            "        [ 0.1846,  0.1262, -0.4480],\n",
            "        [-0.4479, -0.1709,  0.2345],\n",
            "        [-0.5328, -0.0428, -0.4879],\n",
            "        [-0.1409,  0.3124,  0.0978],\n",
            "        [ 0.0586, -0.0848, -0.4315],\n",
            "        [-0.0442,  0.2014, -0.2654],\n",
            "        [ 0.5497, -0.0971,  0.0487],\n",
            "        [-0.2611,  0.1713,  0.4188],\n",
            "        [ 0.3880,  0.4476,  0.2861],\n",
            "        [ 0.1013,  0.4242,  0.4531],\n",
            "        [ 0.0072,  0.0826, -0.5139],\n",
            "        [-0.2004, -0.5569,  0.0115],\n",
            "        [-0.3911, -0.0206, -0.3195],\n",
            "        [ 0.1241, -0.4230,  0.5179],\n",
            "        [ 0.1318, -0.1224, -0.3227],\n",
            "        [-0.2596, -0.2572,  0.1184],\n",
            "        [-0.3108,  0.0684, -0.0967],\n",
            "        [ 0.1799, -0.1287, -0.3345],\n",
            "        [ 0.1835, -0.4743,  0.5524],\n",
            "        [ 0.1000, -0.4155,  0.5736],\n",
            "        [ 0.0357,  0.4078,  0.1054],\n",
            "        [ 0.4738,  0.2830,  0.5198],\n",
            "        [ 0.2517, -0.0007, -0.2086],\n",
            "        [ 0.4488,  0.4411,  0.4810],\n",
            "        [-0.3997,  0.1084,  0.0548],\n",
            "        [-0.0280,  0.2366,  0.3535],\n",
            "        [-0.2648,  0.0577, -0.0484],\n",
            "        [ 0.5556,  0.1230,  0.3728],\n",
            "        [ 0.1766, -0.4266, -0.4044],\n",
            "        [-0.2479,  0.5057,  0.2205],\n",
            "        [-0.1855,  0.1923, -0.2992],\n",
            "        [-0.2642,  0.4440,  0.0152],\n",
            "        [-0.3866, -0.2801,  0.4641],\n",
            "        [-0.4312,  0.1129,  0.0092],\n",
            "        [-0.1725,  0.0429, -0.3681],\n",
            "        [ 0.5614, -0.1803,  0.4503],\n",
            "        [ 0.4851, -0.2018, -0.3861],\n",
            "        [-0.3942,  0.2889, -0.2954],\n",
            "        [ 0.0125,  0.0729, -0.5429],\n",
            "        [ 0.4707, -0.2560, -0.1937],\n",
            "        [-0.2940, -0.0327,  0.5549],\n",
            "        [-0.1401, -0.4038, -0.5486],\n",
            "        [-0.1858,  0.3413,  0.0633],\n",
            "        [-0.0848,  0.0335, -0.2509],\n",
            "        [ 0.6001,  0.2288, -0.3898],\n",
            "        [-0.3940,  0.1711, -0.0510],\n",
            "        [-0.1606, -0.0220, -0.5307],\n",
            "        [-0.5137, -0.0319, -0.3466],\n",
            "        [-0.3625,  0.0678, -0.6018],\n",
            "        [ 0.2117,  0.5226, -0.1233],\n",
            "        [-0.0966,  0.0319, -0.3687],\n",
            "        [ 0.1749, -0.0896, -0.3731],\n",
            "        [ 0.2310,  0.1619, -0.0220],\n",
            "        [ 0.0914, -0.3170, -0.0805],\n",
            "        [-0.5294,  0.4354, -0.4588],\n",
            "        [ 0.2021, -0.0146, -0.0533],\n",
            "        [-0.4913, -0.1297,  0.2861],\n",
            "        [ 0.1444,  0.5022,  0.4149],\n",
            "        [ 0.4271, -0.2327,  0.5771],\n",
            "        [-0.1444,  0.3701,  0.2507],\n",
            "        [ 0.4685, -0.0196, -0.0825],\n",
            "        [-0.0359, -0.4201, -0.4401],\n",
            "        [-0.1885, -0.1200, -0.4401],\n",
            "        [-0.2584,  0.4087,  0.3056],\n",
            "        [-0.4647,  0.6061, -0.4375],\n",
            "        [-0.5190, -0.4571,  0.2465],\n",
            "        [ 0.2410, -0.4188, -0.1955]], device='cuda:0', requires_grad=True), Parameter containing:\n",
            "tensor([ 0.3592, -0.4126, -0.3275, -0.4037, -0.4606,  0.1203,  0.4187, -0.0929,\n",
            "         0.1178, -0.4812, -0.0605, -0.4438, -0.3447, -0.3228, -0.0362,  0.4874,\n",
            "         0.1118, -0.2686, -0.3633,  0.0223, -0.1301, -0.3447, -0.1564, -0.0321,\n",
            "        -0.2125, -0.0625, -0.0083, -0.1830,  0.4520,  0.5068,  0.2893, -0.0171,\n",
            "         0.1999,  0.2533, -0.1895, -0.2670,  0.3658, -0.4228, -0.4068,  0.1766,\n",
            "        -0.4264,  0.4496,  0.5207, -0.4558,  0.2892,  0.4824, -0.0737, -0.3938,\n",
            "        -0.4086,  0.0511, -0.4826,  0.3885,  0.1524, -0.4367, -0.5008,  0.2049,\n",
            "         0.1552, -0.0931,  0.4830,  0.3926, -0.2999, -0.2883, -0.0215,  0.3188,\n",
            "         0.4348, -0.2068, -0.4139,  0.3954, -0.3139, -0.3516,  0.3988, -0.0457,\n",
            "        -0.4462, -0.4450,  0.2266,  0.4279,  0.5145, -0.4216], device='cuda:0',\n",
            "       requires_grad=True), Parameter containing:\n",
            "tensor([[-0.0743,  0.0456, -0.0327,  ..., -0.0902,  0.1004,  0.0712],\n",
            "        [ 0.0141, -0.1141, -0.0423,  ..., -0.0219,  0.0558, -0.0833],\n",
            "        [-0.0076,  0.0067, -0.0287,  ..., -0.1064, -0.0712,  0.0839],\n",
            "        ...,\n",
            "        [ 0.0111,  0.0211,  0.0421,  ..., -0.0645, -0.0404, -0.1052],\n",
            "        [-0.0247, -0.0087, -0.1116,  ...,  0.1059, -0.0589, -0.0410],\n",
            "        [ 0.0189,  0.1136,  0.0009,  ..., -0.1225,  0.1005,  0.0767]],\n",
            "       device='cuda:0', requires_grad=True), Parameter containing:\n",
            "tensor([-3.2458e-02,  4.2133e-02, -1.0466e-01,  1.7873e-02,  5.4090e-02,\n",
            "        -9.9050e-02,  2.1978e-02,  1.5645e-02,  5.0603e-02,  8.2834e-02,\n",
            "         1.4101e-03,  4.9022e-02,  2.8257e-02,  9.3870e-03,  2.0578e-02,\n",
            "         5.8878e-02,  5.3796e-02, -2.9683e-02, -6.3068e-02,  3.9728e-02,\n",
            "         6.4548e-02,  6.0243e-02,  9.2264e-02, -3.4758e-02, -1.6330e-02,\n",
            "        -1.4920e-01,  9.9722e-02,  6.1505e-02,  4.0549e-03,  2.4449e-02,\n",
            "         3.2953e-02,  9.6595e-02,  9.6515e-02, -7.0189e-02,  1.5244e-02,\n",
            "         8.8254e-02, -1.0785e-02,  9.1348e-02, -7.3116e-02, -8.7551e-02,\n",
            "        -9.5289e-02, -1.1895e-01,  8.0091e-02, -5.3506e-02, -1.0875e-01,\n",
            "         4.7444e-02, -9.3834e-02, -3.3865e-02,  2.0442e-03,  7.5464e-02,\n",
            "        -4.3415e-02,  1.1116e-01,  6.7519e-02, -5.5668e-02, -8.4610e-04,\n",
            "        -3.5490e-03, -6.1965e-02,  6.4471e-02, -2.4724e-04, -1.4361e-02,\n",
            "         5.3860e-02,  1.3892e-02,  6.8753e-02,  6.8167e-02, -7.0138e-02,\n",
            "         6.7454e-02,  7.7264e-02, -9.3861e-02, -1.1375e-01, -3.8622e-02,\n",
            "         4.6545e-03, -4.4462e-02, -1.1974e-04,  5.5866e-02, -3.3846e-02,\n",
            "         4.9982e-02, -3.3251e-02,  5.4452e-02,  2.7232e-02, -1.1085e-01,\n",
            "        -9.2704e-02, -5.8779e-02, -4.9770e-02,  1.1641e-01, -5.4691e-02,\n",
            "        -1.1282e-01,  7.2813e-02, -4.1983e-02,  1.0313e-01, -1.2469e-01,\n",
            "        -8.9099e-02, -6.9232e-02,  2.7984e-02,  3.5138e-02, -2.6759e-02,\n",
            "        -4.2626e-02,  3.2759e-02, -8.6169e-02,  9.5022e-02,  5.4589e-02,\n",
            "         8.5352e-02, -1.0709e-02,  6.1628e-02, -1.0500e-01, -9.3375e-02,\n",
            "        -2.8340e-02, -9.2900e-02, -5.6136e-02,  4.8734e-03,  7.8417e-03,\n",
            "         7.2619e-02, -3.7842e-02, -2.8900e-02, -2.2995e-02, -1.1316e-01,\n",
            "        -8.8710e-02,  1.0106e-01, -3.2697e-02, -8.5822e-02, -1.6770e-02,\n",
            "        -2.0496e-03,  1.8514e-02, -3.7096e-02,  1.4413e-02,  1.7625e-02,\n",
            "        -6.3029e-02, -1.3092e-02,  1.3018e-02, -7.7362e-02,  3.2326e-02,\n",
            "        -6.8144e-02, -4.4088e-02, -9.2266e-02,  8.6834e-02, -1.2739e-01,\n",
            "         9.1825e-02, -3.1790e-02,  7.5659e-02, -8.3155e-03, -9.4868e-02,\n",
            "        -3.5796e-02,  1.7742e-02,  6.4079e-02, -9.8546e-02, -8.3639e-02,\n",
            "         7.1940e-02,  3.7858e-02, -1.7989e-03,  9.2787e-02,  5.5755e-02,\n",
            "         3.5720e-02, -7.2930e-02, -1.1219e-01,  9.8207e-02,  9.7886e-02,\n",
            "        -3.3416e-02, -5.0907e-02,  9.9745e-03,  1.0631e-01,  2.5870e-02,\n",
            "        -1.7603e-02, -4.8390e-02,  1.3648e-02, -5.6576e-02,  3.7961e-02,\n",
            "        -1.7044e-02, -1.3592e-01, -6.3537e-02, -6.5994e-02,  5.9038e-02,\n",
            "        -3.4016e-02, -7.0072e-02,  8.3080e-03, -2.0240e-03,  4.9899e-02,\n",
            "        -2.0338e-02,  7.5184e-02,  1.6852e-02,  6.0319e-02, -9.0423e-02,\n",
            "        -9.6314e-02, -1.3885e-02, -3.2440e-02,  4.6942e-02,  7.5128e-02,\n",
            "         1.1140e-01, -7.1427e-02, -1.1417e-02,  8.0629e-02, -9.2907e-02,\n",
            "        -9.1962e-02, -5.9240e-04, -2.6417e-02], device='cuda:0',\n",
            "       requires_grad=True), Parameter containing:\n",
            "tensor([[ 0.0018, -0.0420, -0.0545,  ...,  0.0232,  0.0286, -0.0345],\n",
            "        [-0.0433,  0.0348, -0.0643,  ..., -0.0315, -0.0122,  0.0353],\n",
            "        [ 0.0706,  0.0356, -0.0061,  ..., -0.0445, -0.0478, -0.0284],\n",
            "        ...,\n",
            "        [-0.0386,  0.0226,  0.0244,  ...,  0.0154, -0.0642,  0.0225],\n",
            "        [ 0.0399, -0.0111, -0.0433,  ...,  0.0239, -0.0519,  0.0028],\n",
            "        [-0.0029, -0.0249,  0.0091,  ..., -0.0574, -0.0439,  0.0290]],\n",
            "       device='cuda:0', requires_grad=True), Parameter containing:\n",
            "tensor([ 6.6503e-02, -2.3547e-02, -1.5681e-02, -7.4727e-02,  5.1437e-02,\n",
            "        -5.6730e-02,  6.3826e-02,  5.4762e-02,  4.0952e-03, -5.0197e-02,\n",
            "         6.5291e-02, -4.0858e-02,  3.5019e-02,  8.8263e-02, -5.7443e-02,\n",
            "         1.1496e-02,  5.3176e-02,  5.4814e-02,  3.0387e-03, -2.6631e-02,\n",
            "        -3.6120e-02, -2.4259e-02,  5.8264e-02, -4.9417e-02,  8.2711e-03,\n",
            "         2.2574e-02,  2.0619e-02, -1.7207e-02,  3.5160e-02, -5.2864e-02,\n",
            "        -5.2982e-02,  2.5058e-02,  9.5157e-03,  8.5274e-02, -3.4715e-02,\n",
            "         6.3940e-02, -4.7404e-03, -6.6400e-02,  3.8285e-02, -3.5329e-02,\n",
            "         1.6925e-02, -5.1579e-02,  2.3109e-02,  4.3562e-02, -1.7918e-02,\n",
            "        -7.7557e-02,  5.0590e-02, -3.5846e-05, -6.8893e-02, -3.6783e-02,\n",
            "        -5.6911e-02, -5.5159e-02,  5.2137e-02, -1.2985e-02, -2.6118e-02,\n",
            "         2.9284e-03, -1.9954e-02, -2.9202e-02, -7.1814e-02, -5.8642e-02,\n",
            "         3.8367e-02, -2.1914e-02,  9.2399e-03,  6.3534e-03, -6.2507e-02,\n",
            "        -5.4894e-02,  1.1639e-02, -5.3465e-02,  1.4335e-02,  6.2491e-02,\n",
            "        -1.9867e-03, -6.5901e-03,  1.9890e-02,  4.5008e-02,  4.8253e-03,\n",
            "        -5.5432e-02,  2.3072e-02,  3.3855e-02,  1.6262e-02, -3.2848e-02,\n",
            "        -1.0404e-02,  2.7758e-02,  4.0365e-02, -1.2359e-02, -1.2374e-02,\n",
            "         5.8820e-02, -3.1391e-02, -1.9235e-02,  9.8791e-03,  2.9250e-02,\n",
            "         1.3094e-02, -7.4695e-02, -3.3645e-02, -2.2003e-03, -9.9673e-03,\n",
            "         1.8344e-03, -4.0890e-02, -1.1861e-02, -4.0148e-03], device='cuda:0',\n",
            "       requires_grad=True), Parameter containing:\n",
            "tensor([[ 0.0966, -0.0238,  0.0015, -0.0516, -0.0499,  0.1095, -0.0642, -0.0605,\n",
            "          0.0312,  0.0918,  0.0414,  0.0751, -0.0598, -0.1004,  0.0776,  0.0260,\n",
            "          0.0038,  0.0551, -0.0763, -0.0652,  0.0389,  0.0752, -0.0580,  0.0358,\n",
            "         -0.0343,  0.0426,  0.0761,  0.0669, -0.0638,  0.0371,  0.0338,  0.0454,\n",
            "         -0.0967, -0.0583, -0.0776,  0.0875, -0.0595, -0.0993,  0.0438, -0.0731,\n",
            "         -0.0454, -0.0004, -0.0872,  0.0039,  0.0663, -0.0345, -0.0738, -0.0702,\n",
            "         -0.0749, -0.0690,  0.0368, -0.0675,  0.0137, -0.0344,  0.0772,  0.0373,\n",
            "         -0.0358, -0.0147, -0.0632,  0.0338, -0.1050,  0.0552,  0.0430,  0.0852,\n",
            "          0.0860,  0.0233,  0.0264,  0.0366,  0.0351,  0.0301,  0.0982, -0.0293,\n",
            "          0.0080,  0.0895, -0.0583, -0.0845, -0.0346,  0.0600,  0.0937, -0.0417,\n",
            "          0.0280, -0.0488,  0.0398,  0.0228, -0.0617,  0.0257,  0.0406, -0.0922,\n",
            "          0.0595,  0.0148,  0.1770, -0.0889,  0.0795, -0.0282,  0.0409, -0.0820,\n",
            "          0.0301, -0.0601, -0.0587]], device='cuda:0', requires_grad=True), Parameter containing:\n",
            "tensor([0.0256], device='cuda:0', requires_grad=True)]\n"
          ]
        }
      ],
      "source": [
        "print(list(net.parameters()))"
      ]
    },
    {
      "cell_type": "code",
      "execution_count": null,
      "metadata": {
        "id": "oC6mlNhlQ3wj",
        "colab": {
          "base_uri": "https://localhost:8080/"
        },
        "outputId": "09cc3748-21f6-4d70-9399-65ec54b078d8"
      },
      "outputs": [
        {
          "output_type": "stream",
          "name": "stdout",
          "text": [
            "[Parameter containing:\n",
            "tensor([[-0.1816,  0.2416,  0.1458],\n",
            "        [ 0.1680,  0.2238,  0.5390],\n",
            "        [-0.2251,  0.4058,  0.2923],\n",
            "        [ 0.1841, -0.1964, -0.5651],\n",
            "        [ 0.4065, -0.4723, -0.2989],\n",
            "        [ 0.0348, -0.5174,  0.0283],\n",
            "        [-0.0176, -0.1592, -0.0652],\n",
            "        [ 0.0814, -0.4233, -0.2894],\n",
            "        [ 0.1915,  0.1563, -0.5330],\n",
            "        [-0.3292,  0.0648,  0.1497],\n",
            "        [-0.1158,  0.1737, -0.4455],\n",
            "        [ 0.1846,  0.1262, -0.4480],\n",
            "        [-0.4479, -0.1709,  0.2345],\n",
            "        [-0.5328, -0.0428, -0.4879],\n",
            "        [-0.1409,  0.3124,  0.0978],\n",
            "        [ 0.0586, -0.0848, -0.4315],\n",
            "        [-0.0442,  0.2014, -0.2654],\n",
            "        [ 0.5497, -0.0971,  0.0487],\n",
            "        [-0.2611,  0.1713,  0.4188],\n",
            "        [ 0.3880,  0.4476,  0.2861],\n",
            "        [ 0.1013,  0.4242,  0.4531],\n",
            "        [ 0.0072,  0.0826, -0.5139],\n",
            "        [-0.2004, -0.5569,  0.0115],\n",
            "        [-0.3911, -0.0206, -0.3195],\n",
            "        [ 0.1241, -0.4230,  0.5179],\n",
            "        [ 0.1318, -0.1224, -0.3227],\n",
            "        [-0.2596, -0.2572,  0.1184],\n",
            "        [-0.3108,  0.0684, -0.0967],\n",
            "        [ 0.1799, -0.1287, -0.3345],\n",
            "        [ 0.1835, -0.4743,  0.5524],\n",
            "        [ 0.1000, -0.4155,  0.5736],\n",
            "        [ 0.0357,  0.4078,  0.1054],\n",
            "        [ 0.4738,  0.2830,  0.5198],\n",
            "        [ 0.2517, -0.0007, -0.2086],\n",
            "        [ 0.4488,  0.4411,  0.4810],\n",
            "        [-0.3997,  0.1084,  0.0548],\n",
            "        [-0.0280,  0.2366,  0.3535],\n",
            "        [-0.2648,  0.0577, -0.0484],\n",
            "        [ 0.5556,  0.1230,  0.3728],\n",
            "        [ 0.1766, -0.4266, -0.4044],\n",
            "        [-0.2479,  0.5057,  0.2205],\n",
            "        [-0.1855,  0.1923, -0.2992],\n",
            "        [-0.2642,  0.4440,  0.0152],\n",
            "        [-0.3866, -0.2801,  0.4641],\n",
            "        [-0.4312,  0.1129,  0.0092],\n",
            "        [-0.1725,  0.0429, -0.3681],\n",
            "        [ 0.5614, -0.1803,  0.4503],\n",
            "        [ 0.4851, -0.2018, -0.3861],\n",
            "        [-0.3942,  0.2889, -0.2954],\n",
            "        [ 0.0125,  0.0729, -0.5429],\n",
            "        [ 0.4707, -0.2560, -0.1937],\n",
            "        [-0.2940, -0.0327,  0.5549],\n",
            "        [-0.1401, -0.4038, -0.5486],\n",
            "        [-0.1858,  0.3413,  0.0633],\n",
            "        [-0.0848,  0.0335, -0.2509],\n",
            "        [ 0.6001,  0.2288, -0.3898],\n",
            "        [-0.3940,  0.1711, -0.0510],\n",
            "        [-0.1606, -0.0220, -0.5307],\n",
            "        [-0.5137, -0.0319, -0.3466],\n",
            "        [-0.3625,  0.0678, -0.6018],\n",
            "        [ 0.2117,  0.5226, -0.1233],\n",
            "        [-0.0966,  0.0319, -0.3687],\n",
            "        [ 0.1749, -0.0896, -0.3731],\n",
            "        [ 0.2310,  0.1619, -0.0220],\n",
            "        [ 0.0914, -0.3170, -0.0805],\n",
            "        [-0.5294,  0.4354, -0.4588],\n",
            "        [ 0.2021, -0.0146, -0.0533],\n",
            "        [-0.4913, -0.1297,  0.2861],\n",
            "        [ 0.1444,  0.5022,  0.4149],\n",
            "        [ 0.4271, -0.2327,  0.5771],\n",
            "        [-0.1444,  0.3701,  0.2507],\n",
            "        [ 0.4685, -0.0196, -0.0825],\n",
            "        [-0.0359, -0.4201, -0.4401],\n",
            "        [-0.1885, -0.1200, -0.4401],\n",
            "        [-0.2584,  0.4087,  0.3056],\n",
            "        [-0.4647,  0.6061, -0.4375],\n",
            "        [-0.5190, -0.4571,  0.2465],\n",
            "        [ 0.2410, -0.4188, -0.1955]], device='cuda:0', requires_grad=True), Parameter containing:\n",
            "tensor([ 0.3592, -0.4126, -0.3275, -0.4037, -0.4606,  0.1203,  0.4187, -0.0929,\n",
            "         0.1178, -0.4812, -0.0605, -0.4438, -0.3447, -0.3228, -0.0362,  0.4874,\n",
            "         0.1118, -0.2686, -0.3633,  0.0223, -0.1301, -0.3447, -0.1564, -0.0321,\n",
            "        -0.2125, -0.0625, -0.0083, -0.1830,  0.4520,  0.5068,  0.2893, -0.0171,\n",
            "         0.1999,  0.2533, -0.1895, -0.2670,  0.3658, -0.4228, -0.4068,  0.1766,\n",
            "        -0.4264,  0.4496,  0.5207, -0.4558,  0.2892,  0.4824, -0.0737, -0.3938,\n",
            "        -0.4086,  0.0511, -0.4826,  0.3885,  0.1524, -0.4367, -0.5008,  0.2049,\n",
            "         0.1552, -0.0931,  0.4830,  0.3926, -0.2999, -0.2883, -0.0215,  0.3188,\n",
            "         0.4348, -0.2068, -0.4139,  0.3954, -0.3139, -0.3516,  0.3988, -0.0457,\n",
            "        -0.4462, -0.4450,  0.2266,  0.4279,  0.5145, -0.4216], device='cuda:0',\n",
            "       requires_grad=True), Parameter containing:\n",
            "tensor([[-0.0743,  0.0456, -0.0327,  ..., -0.0902,  0.1004,  0.0712],\n",
            "        [ 0.0141, -0.1141, -0.0423,  ..., -0.0219,  0.0558, -0.0833],\n",
            "        [-0.0076,  0.0067, -0.0287,  ..., -0.1064, -0.0712,  0.0839],\n",
            "        ...,\n",
            "        [ 0.0111,  0.0211,  0.0421,  ..., -0.0645, -0.0404, -0.1052],\n",
            "        [-0.0247, -0.0087, -0.1116,  ...,  0.1059, -0.0589, -0.0410],\n",
            "        [ 0.0189,  0.1136,  0.0009,  ..., -0.1225,  0.1005,  0.0767]],\n",
            "       device='cuda:0', requires_grad=True), Parameter containing:\n",
            "tensor([-3.2458e-02,  4.2133e-02, -1.0466e-01,  1.7873e-02,  5.4090e-02,\n",
            "        -9.9050e-02,  2.1978e-02,  1.5645e-02,  5.0603e-02,  8.2834e-02,\n",
            "         1.4101e-03,  4.9022e-02,  2.8257e-02,  9.3870e-03,  2.0578e-02,\n",
            "         5.8878e-02,  5.3796e-02, -2.9683e-02, -6.3068e-02,  3.9728e-02,\n",
            "         6.4548e-02,  6.0243e-02,  9.2264e-02, -3.4758e-02, -1.6330e-02,\n",
            "        -1.4920e-01,  9.9722e-02,  6.1505e-02,  4.0549e-03,  2.4449e-02,\n",
            "         3.2953e-02,  9.6595e-02,  9.6515e-02, -7.0189e-02,  1.5244e-02,\n",
            "         8.8254e-02, -1.0785e-02,  9.1348e-02, -7.3116e-02, -8.7551e-02,\n",
            "        -9.5289e-02, -1.1895e-01,  8.0091e-02, -5.3506e-02, -1.0875e-01,\n",
            "         4.7444e-02, -9.3834e-02, -3.3865e-02,  2.0442e-03,  7.5464e-02,\n",
            "        -4.3415e-02,  1.1116e-01,  6.7519e-02, -5.5668e-02, -8.4610e-04,\n",
            "        -3.5490e-03, -6.1965e-02,  6.4471e-02, -2.4724e-04, -1.4361e-02,\n",
            "         5.3860e-02,  1.3892e-02,  6.8753e-02,  6.8167e-02, -7.0138e-02,\n",
            "         6.7454e-02,  7.7264e-02, -9.3861e-02, -1.1375e-01, -3.8622e-02,\n",
            "         4.6545e-03, -4.4462e-02, -1.1974e-04,  5.5866e-02, -3.3846e-02,\n",
            "         4.9982e-02, -3.3251e-02,  5.4452e-02,  2.7232e-02, -1.1085e-01,\n",
            "        -9.2704e-02, -5.8779e-02, -4.9770e-02,  1.1641e-01, -5.4691e-02,\n",
            "        -1.1282e-01,  7.2813e-02, -4.1983e-02,  1.0313e-01, -1.2469e-01,\n",
            "        -8.9099e-02, -6.9232e-02,  2.7984e-02,  3.5138e-02, -2.6759e-02,\n",
            "        -4.2626e-02,  3.2759e-02, -8.6169e-02,  9.5022e-02,  5.4589e-02,\n",
            "         8.5352e-02, -1.0709e-02,  6.1628e-02, -1.0500e-01, -9.3375e-02,\n",
            "        -2.8340e-02, -9.2900e-02, -5.6136e-02,  4.8734e-03,  7.8417e-03,\n",
            "         7.2619e-02, -3.7842e-02, -2.8900e-02, -2.2995e-02, -1.1316e-01,\n",
            "        -8.8710e-02,  1.0106e-01, -3.2697e-02, -8.5822e-02, -1.6770e-02,\n",
            "        -2.0496e-03,  1.8514e-02, -3.7096e-02,  1.4413e-02,  1.7625e-02,\n",
            "        -6.3029e-02, -1.3092e-02,  1.3018e-02, -7.7362e-02,  3.2326e-02,\n",
            "        -6.8144e-02, -4.4088e-02, -9.2266e-02,  8.6834e-02, -1.2739e-01,\n",
            "         9.1825e-02, -3.1790e-02,  7.5659e-02, -8.3155e-03, -9.4868e-02,\n",
            "        -3.5796e-02,  1.7742e-02,  6.4079e-02, -9.8546e-02, -8.3639e-02,\n",
            "         7.1940e-02,  3.7858e-02, -1.7989e-03,  9.2787e-02,  5.5755e-02,\n",
            "         3.5720e-02, -7.2930e-02, -1.1219e-01,  9.8207e-02,  9.7886e-02,\n",
            "        -3.3416e-02, -5.0907e-02,  9.9745e-03,  1.0631e-01,  2.5870e-02,\n",
            "        -1.7603e-02, -4.8390e-02,  1.3648e-02, -5.6576e-02,  3.7961e-02,\n",
            "        -1.7044e-02, -1.3592e-01, -6.3537e-02, -6.5994e-02,  5.9038e-02,\n",
            "        -3.4016e-02, -7.0072e-02,  8.3080e-03, -2.0240e-03,  4.9899e-02,\n",
            "        -2.0338e-02,  7.5184e-02,  1.6852e-02,  6.0319e-02, -9.0423e-02,\n",
            "        -9.6314e-02, -1.3885e-02, -3.2440e-02,  4.6942e-02,  7.5128e-02,\n",
            "         1.1140e-01, -7.1427e-02, -1.1417e-02,  8.0629e-02, -9.2907e-02,\n",
            "        -9.1962e-02, -5.9240e-04, -2.6417e-02], device='cuda:0',\n",
            "       requires_grad=True), Parameter containing:\n",
            "tensor([[ 0.0018, -0.0420, -0.0545,  ...,  0.0232,  0.0286, -0.0345],\n",
            "        [-0.0433,  0.0348, -0.0643,  ..., -0.0315, -0.0122,  0.0353],\n",
            "        [ 0.0706,  0.0356, -0.0061,  ..., -0.0445, -0.0478, -0.0284],\n",
            "        ...,\n",
            "        [-0.0386,  0.0226,  0.0244,  ...,  0.0154, -0.0642,  0.0225],\n",
            "        [ 0.0399, -0.0111, -0.0433,  ...,  0.0239, -0.0519,  0.0028],\n",
            "        [-0.0029, -0.0249,  0.0091,  ..., -0.0574, -0.0439,  0.0290]],\n",
            "       device='cuda:0', requires_grad=True), Parameter containing:\n",
            "tensor([ 6.6503e-02, -2.3547e-02, -1.5681e-02, -7.4727e-02,  5.1437e-02,\n",
            "        -5.6730e-02,  6.3826e-02,  5.4762e-02,  4.0952e-03, -5.0197e-02,\n",
            "         6.5291e-02, -4.0858e-02,  3.5019e-02,  8.8263e-02, -5.7443e-02,\n",
            "         1.1496e-02,  5.3176e-02,  5.4814e-02,  3.0387e-03, -2.6631e-02,\n",
            "        -3.6120e-02, -2.4259e-02,  5.8264e-02, -4.9417e-02,  8.2711e-03,\n",
            "         2.2574e-02,  2.0619e-02, -1.7207e-02,  3.5160e-02, -5.2864e-02,\n",
            "        -5.2982e-02,  2.5058e-02,  9.5157e-03,  8.5274e-02, -3.4715e-02,\n",
            "         6.3940e-02, -4.7404e-03, -6.6400e-02,  3.8285e-02, -3.5329e-02,\n",
            "         1.6925e-02, -5.1579e-02,  2.3109e-02,  4.3562e-02, -1.7918e-02,\n",
            "        -7.7557e-02,  5.0590e-02, -3.5846e-05, -6.8893e-02, -3.6783e-02,\n",
            "        -5.6911e-02, -5.5159e-02,  5.2137e-02, -1.2985e-02, -2.6118e-02,\n",
            "         2.9284e-03, -1.9954e-02, -2.9202e-02, -7.1814e-02, -5.8642e-02,\n",
            "         3.8367e-02, -2.1914e-02,  9.2399e-03,  6.3534e-03, -6.2507e-02,\n",
            "        -5.4894e-02,  1.1639e-02, -5.3465e-02,  1.4335e-02,  6.2491e-02,\n",
            "        -1.9867e-03, -6.5901e-03,  1.9890e-02,  4.5008e-02,  4.8253e-03,\n",
            "        -5.5432e-02,  2.3072e-02,  3.3855e-02,  1.6262e-02, -3.2848e-02,\n",
            "        -1.0404e-02,  2.7758e-02,  4.0365e-02, -1.2359e-02, -1.2374e-02,\n",
            "         5.8820e-02, -3.1391e-02, -1.9235e-02,  9.8791e-03,  2.9250e-02,\n",
            "         1.3094e-02, -7.4695e-02, -3.3645e-02, -2.2003e-03, -9.9673e-03,\n",
            "         1.8344e-03, -4.0890e-02, -1.1861e-02, -4.0148e-03], device='cuda:0',\n",
            "       requires_grad=True), Parameter containing:\n",
            "tensor([[ 0.0966, -0.0238,  0.0015, -0.0516, -0.0499,  0.1095, -0.0642, -0.0605,\n",
            "          0.0312,  0.0918,  0.0414,  0.0751, -0.0598, -0.1004,  0.0776,  0.0260,\n",
            "          0.0038,  0.0551, -0.0763, -0.0652,  0.0389,  0.0752, -0.0580,  0.0358,\n",
            "         -0.0343,  0.0426,  0.0761,  0.0669, -0.0638,  0.0371,  0.0338,  0.0454,\n",
            "         -0.0967, -0.0583, -0.0776,  0.0875, -0.0595, -0.0993,  0.0438, -0.0731,\n",
            "         -0.0454, -0.0004, -0.0872,  0.0039,  0.0663, -0.0345, -0.0738, -0.0702,\n",
            "         -0.0749, -0.0690,  0.0368, -0.0675,  0.0137, -0.0344,  0.0772,  0.0373,\n",
            "         -0.0358, -0.0147, -0.0632,  0.0338, -0.1050,  0.0552,  0.0430,  0.0852,\n",
            "          0.0860,  0.0233,  0.0264,  0.0366,  0.0351,  0.0301,  0.0982, -0.0293,\n",
            "          0.0080,  0.0895, -0.0583, -0.0845, -0.0346,  0.0600,  0.0937, -0.0417,\n",
            "          0.0280, -0.0488,  0.0398,  0.0228, -0.0617,  0.0257,  0.0406, -0.0922,\n",
            "          0.0595,  0.0148,  0.1770, -0.0889,  0.0795, -0.0282,  0.0409, -0.0820,\n",
            "          0.0301, -0.0601, -0.0587]], device='cuda:0', requires_grad=True), Parameter containing:\n",
            "tensor([0.0256], device='cuda:0', requires_grad=True)]\n"
          ]
        }
      ],
      "source": [
        "print(list(net_loaded.parameters()))"
      ]
    },
    {
      "cell_type": "code",
      "execution_count": null,
      "metadata": {
        "id": "N8ERbE4bQ3wj",
        "colab": {
          "base_uri": "https://localhost:8080/"
        },
        "outputId": "1750a787-aab9-47b6-cc96-45105dc4c927"
      },
      "outputs": [
        {
          "output_type": "execute_result",
          "data": {
            "text/plain": [
              "Net(\n",
              "  (hidden_activation): ReLU()\n",
              "  (output_activation): Identity()\n",
              "  (layers): ModuleList(\n",
              "    (0): Linear(in_features=3, out_features=78, bias=True)\n",
              "    (1): Linear(in_features=78, out_features=193, bias=True)\n",
              "    (2): Linear(in_features=193, out_features=99, bias=True)\n",
              "    (3): Linear(in_features=99, out_features=1, bias=True)\n",
              "  )\n",
              ")"
            ]
          },
          "metadata": {},
          "execution_count": 25
        }
      ],
      "source": [
        "# Set the network to evaluation mode\n",
        "net.eval()"
      ]
    },
    {
      "cell_type": "code",
      "execution_count": null,
      "metadata": {
        "id": "kec5eJ36Q3wj",
        "colab": {
          "base_uri": "https://localhost:8080/"
        },
        "outputId": "f8b90d0e-6488-42e2-9210-7e028bc972ab"
      },
      "outputs": [
        {
          "output_type": "execute_result",
          "data": {
            "text/plain": [
              "tensor([[ 8.4823,  1.2874,  3.8433],\n",
              "        [ 6.3628,  4.5830,  6.8709],\n",
              "        [ 9.5007, 10.5686, 14.5369],\n",
              "        [ 2.7702,  9.1947,  8.4208],\n",
              "        [ 8.1549,  8.1288,  4.1824],\n",
              "        [ 2.8599,  0.6266,  5.7706],\n",
              "        [ 9.4994, 24.8554, 24.3957],\n",
              "        [ 5.9511,  6.8335,  5.0241],\n",
              "        [ 1.0827,  0.7347,  1.1826],\n",
              "        [ 3.3039,  4.2094,  4.9122],\n",
              "        [ 5.1887, 10.3858,  9.6000],\n",
              "        [ 8.6661, 16.7210, 16.3864],\n",
              "        [ 6.5375,  1.9848,  7.9297],\n",
              "        [ 9.7648, 31.8522, 29.5890],\n",
              "        [12.9340, 11.8892,  5.2417],\n",
              "        [ 9.3644,  3.6599,  3.9022],\n",
              "        [ 3.9849, 10.0192,  8.5279],\n",
              "        [ 0.7702,  1.3431,  0.9888],\n",
              "        [ 9.5696,  0.1444,  2.6998],\n",
              "        [ 7.7714, 11.4869, 16.6507]], device='cuda:0')"
            ]
          },
          "metadata": {},
          "execution_count": 26
        }
      ],
      "source": [
        "rho_example, vx_example, epsilon_example = sample_primitive_variables(20)\n",
        "\n",
        "# Create arbitrary input\n",
        "inputs =  generate_input_data(rho_example, vx_example, epsilon_example)\n",
        "inputs"
      ]
    },
    {
      "cell_type": "code",
      "execution_count": null,
      "metadata": {
        "id": "IuxIUMWdQ3wj",
        "colab": {
          "base_uri": "https://localhost:8080/"
        },
        "outputId": "09e1d056-84b6-418d-fa62-7cdcd5accc13"
      },
      "outputs": [
        {
          "output_type": "execute_result",
          "data": {
            "text/plain": [
              "[tensor([2.5049], device='cuda:0', grad_fn=<AddBackward0>),\n",
              " tensor([3.9185], device='cuda:0', grad_fn=<AddBackward0>),\n",
              " tensor([7.7054], device='cuda:0', grad_fn=<AddBackward0>),\n",
              " tensor([1.8241], device='cuda:0', grad_fn=<AddBackward0>),\n",
              " tensor([0.5939], device='cuda:0', grad_fn=<AddBackward0>),\n",
              " tensor([3.8254], device='cuda:0', grad_fn=<AddBackward0>),\n",
              " tensor([7.5994], device='cuda:0', grad_fn=<AddBackward0>),\n",
              " tensor([1.5006], device='cuda:0', grad_fn=<AddBackward0>),\n",
              " tensor([0.6895], device='cuda:0', grad_fn=<AddBackward0>),\n",
              " tensor([2.3389], device='cuda:0', grad_fn=<AddBackward0>),\n",
              " tensor([3.0083], device='cuda:0', grad_fn=<AddBackward0>),\n",
              " tensor([5.8099], device='cuda:0', grad_fn=<AddBackward0>),\n",
              " tensor([5.1749], device='cuda:0', grad_fn=<AddBackward0>),\n",
              " tensor([6.8878], device='cuda:0', grad_fn=<AddBackward0>),\n",
              " tensor([0.4149], device='cuda:0', grad_fn=<AddBackward0>),\n",
              " tensor([2.2030], device='cuda:0', grad_fn=<AddBackward0>),\n",
              " tensor([1.7647], device='cuda:0', grad_fn=<AddBackward0>),\n",
              " tensor([0.1842], device='cuda:0', grad_fn=<AddBackward0>),\n",
              " tensor([1.8039], device='cuda:0', grad_fn=<AddBackward0>),\n",
              " tensor([8.7719], device='cuda:0', grad_fn=<AddBackward0>)]"
            ]
          },
          "metadata": {},
          "execution_count": 27
        }
      ],
      "source": [
        "# Pass the inputs to the network and get the outputs\n",
        "outputs = [net(input) for input in inputs]\n",
        "# Print the outputs\n",
        "outputs"
      ]
    },
    {
      "cell_type": "code",
      "execution_count": null,
      "metadata": {
        "id": "hswyiesrQ3wj",
        "colab": {
          "base_uri": "https://localhost:8080/"
        },
        "outputId": "99900f7f-2b15-452e-8ab6-d3c8ecd5cf6b"
      },
      "outputs": [
        {
          "output_type": "execute_result",
          "data": {
            "text/plain": [
              "[tensor([2.5049], device='cuda:0', grad_fn=<AddBackward0>),\n",
              " tensor([3.9185], device='cuda:0', grad_fn=<AddBackward0>),\n",
              " tensor([7.7054], device='cuda:0', grad_fn=<AddBackward0>),\n",
              " tensor([1.8241], device='cuda:0', grad_fn=<AddBackward0>),\n",
              " tensor([0.5939], device='cuda:0', grad_fn=<AddBackward0>),\n",
              " tensor([3.8254], device='cuda:0', grad_fn=<AddBackward0>),\n",
              " tensor([7.5994], device='cuda:0', grad_fn=<AddBackward0>),\n",
              " tensor([1.5006], device='cuda:0', grad_fn=<AddBackward0>),\n",
              " tensor([0.6895], device='cuda:0', grad_fn=<AddBackward0>),\n",
              " tensor([2.3389], device='cuda:0', grad_fn=<AddBackward0>),\n",
              " tensor([3.0083], device='cuda:0', grad_fn=<AddBackward0>),\n",
              " tensor([5.8099], device='cuda:0', grad_fn=<AddBackward0>),\n",
              " tensor([5.1749], device='cuda:0', grad_fn=<AddBackward0>),\n",
              " tensor([6.8878], device='cuda:0', grad_fn=<AddBackward0>),\n",
              " tensor([0.4149], device='cuda:0', grad_fn=<AddBackward0>),\n",
              " tensor([2.2030], device='cuda:0', grad_fn=<AddBackward0>),\n",
              " tensor([1.7647], device='cuda:0', grad_fn=<AddBackward0>),\n",
              " tensor([0.1842], device='cuda:0', grad_fn=<AddBackward0>),\n",
              " tensor([1.8039], device='cuda:0', grad_fn=<AddBackward0>),\n",
              " tensor([8.7719], device='cuda:0', grad_fn=<AddBackward0>)]"
            ]
          },
          "metadata": {},
          "execution_count": 28
        }
      ],
      "source": [
        "# Set the network to evaluation mode\n",
        "net_loaded.eval()\n",
        "# Pass the inputs to the network and get the outputs\n",
        "outputs = [net_loaded(input) for input in inputs]\n",
        "# Print the outputs\n",
        "outputs"
      ]
    },
    {
      "cell_type": "markdown",
      "metadata": {
        "id": "Hzbay-dhQ3wk"
      },
      "source": [
        "## Porting the model to C++"
      ]
    },
    {
      "cell_type": "code",
      "execution_count": null,
      "metadata": {
        "id": "WWM-1YPYQ3wo",
        "colab": {
          "base_uri": "https://localhost:8080/"
        },
        "outputId": "8d4949ef-f08d-41c5-a06d-40a80184fc76"
      },
      "outputs": [
        {
          "output_type": "execute_result",
          "data": {
            "text/plain": [
              "tensor([[2.4332]], device='cuda:0', grad_fn=<AddmmBackward0>)"
            ]
          },
          "metadata": {},
          "execution_count": 29
        }
      ],
      "source": [
        "import torch.jit\n",
        "\n",
        "# Creating a dummy input tensor of shape (1, 3) to trace the model\n",
        "dummy_input = torch.randn(1, 3).to(device)\n",
        "dummy_input\n",
        "\n",
        "# Tracing the model using the torch.jit.trace function\n",
        "traced_model = torch.jit.trace(net_loaded, dummy_input)\n",
        "\n",
        "# Saving the traced model to a file named \"net.pt\"\n",
        "traced_model.save(\"net.pt\")\n",
        "\n",
        "example_input_to_validate_correct_export_and_import = generate_input_data(*sample_primitive_variables(1))\n",
        "example_input_to_validate_correct_export_and_import\n",
        "net_loaded(example_input_to_validate_correct_export_and_import)"
      ]
    }
  ],
  "metadata": {
    "accelerator": "GPU",
    "colab": {
      "provenance": [],
      "gpuType": "T4"
    },
    "gpuClass": "standard",
    "kernelspec": {
      "display_name": "bsc",
      "language": "python",
      "name": "python3"
    },
    "language_info": {
      "codemirror_mode": {
        "name": "ipython",
        "version": 3
      },
      "file_extension": ".py",
      "mimetype": "text/x-python",
      "name": "python",
      "nbconvert_exporter": "python",
      "pygments_lexer": "ipython3",
      "version": "3.11.3"
    }
  },
  "nbformat": 4,
  "nbformat_minor": 0
}