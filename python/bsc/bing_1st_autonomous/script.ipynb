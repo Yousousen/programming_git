{
 "cells": [
  {
   "attachments": {},
   "cell_type": "markdown",
   "metadata": {},
   "source": [
    "Here I will explore code generations of the NN of Dieseldorst et al."
   ]
  },
  {
   "attachments": {},
   "cell_type": "markdown",
   "metadata": {},
   "source": [
    "# Bing - 1st Code generation fully autonomous interpretation"
   ]
  },
  {
   "cell_type": "code",
   "execution_count": 1,
   "metadata": {},
   "outputs": [],
   "source": [
    "import torch\n",
    "# Create a sample train_data tensor\n",
    "train_data = torch.tensor([\n",
    "    [0.1, 0.2, 0.3, 0.4, 0.5, 1.0, 2.0, 3.0, 4.0, 5.0], # First training example\n",
    "    [0.2, 0.3, 0.4, 0.5, 0.6, 2.0, 3.0, 4.0, 5.0, 6.0], # Second training example\n",
    "    [0.3, 0.4, 0.5, 0.6, 0.7, 3.0, 4.0, 5.0, 6.0, 7.0], # Third training example\n",
    "    [0.4, 0.5, 0.6, 0.7, 0.8, 4.0, 5.0, 6.0, 7.0, 8.0], # Fourth training example\n",
    "    [0.5, 0.6, 0.7, 0.8, 0.9, 5.0, 6.0, 7.0, 8.0 ,9.0] # Fifth training example\n",
    "])\n",
    "# Save the train_data tensor as a .pt file\n",
    "torch.save(train_data,'train_data.pt')\n"
   ]
  },
  {
   "cell_type": "code",
   "execution_count": 2,
   "metadata": {},
   "outputs": [],
   "source": [
    "import torch\n",
    "# Create a sample test_data tensor\n",
    "test_data = torch.tensor([\n",
    "    [0.6, 0.7, 0.8, 0.9, 1.0, 6.0, 7.0, 8.0 ,9.0 ,10.0], # First test example\n",
    "    [0.7, 0.8, 0.9, 1.0, 1.1, 7.0 ,8.0 ,9.0 ,10.0 ,11.0], # Second test example\n",
    "    [0.8 ,0.9 ,1.0 ,1.1 ,1.2 ,8.0 ,9.0 ,10.0 ,11.0 ,12.0], # Third test example\n",
    "    [0.9 ,1.0 ,1.1 ,1.2 ,1.3 ,9.0 ,10.0 ,11.0 ,12.0 ,13.0], # Fourth test example\n",
    "    [1.0 ,1.1 ,1.2 ,1.3 ,1.4 ,10.0 ,11.0 ,12.0 ,13.0 ,14.0] # Fifth test example\n",
    "])\n",
    "# Save the test_data tensor as a .pt file\n",
    "torch.save(test_data,'test_data.pt')\n"
   ]
  },
  {
   "cell_type": "code",
   "execution_count": 3,
   "metadata": {},
   "outputs": [
    {
     "name": "stdout",
     "output_type": "stream",
     "text": [
      "Epoch 1, Loss: 29.35655975341797\n",
      "Epoch 2, Loss: 29.274694442749023\n",
      "Epoch 3, Loss: 29.1894474029541\n",
      "Epoch 4, Loss: 29.10521697998047\n",
      "Epoch 5, Loss: 29.01968765258789\n",
      "Epoch 6, Loss: 28.930150985717773\n",
      "Epoch 7, Loss: 28.835430145263672\n",
      "Epoch 8, Loss: 28.732898712158203\n",
      "Epoch 9, Loss: 28.622377395629883\n",
      "Epoch 10, Loss: 28.503252029418945\n",
      "Epoch 11, Loss: 28.37835121154785\n",
      "Epoch 12, Loss: 28.246747970581055\n",
      "Epoch 13, Loss: 28.103662490844727\n",
      "Epoch 14, Loss: 27.945627212524414\n",
      "Epoch 15, Loss: 27.771228790283203\n",
      "Epoch 16, Loss: 27.58047103881836\n",
      "Epoch 17, Loss: 27.371503829956055\n",
      "Epoch 18, Loss: 27.14107894897461\n",
      "Epoch 19, Loss: 26.884862899780273\n",
      "Epoch 20, Loss: 26.600299835205078\n",
      "Epoch 21, Loss: 26.28435707092285\n",
      "Epoch 22, Loss: 25.93753433227539\n",
      "Epoch 23, Loss: 25.554149627685547\n",
      "Epoch 24, Loss: 25.13055419921875\n",
      "Epoch 25, Loss: 24.66327476501465\n",
      "Epoch 26, Loss: 24.148452758789062\n",
      "Epoch 27, Loss: 23.58139419555664\n",
      "Epoch 28, Loss: 22.959033966064453\n",
      "Epoch 29, Loss: 22.27767562866211\n",
      "Epoch 30, Loss: 21.533466339111328\n",
      "Epoch 31, Loss: 20.723257064819336\n",
      "Epoch 32, Loss: 19.843347549438477\n",
      "Epoch 33, Loss: 18.8886661529541\n",
      "Epoch 34, Loss: 17.855365753173828\n",
      "Epoch 35, Loss: 16.74591827392578\n",
      "Epoch 36, Loss: 15.565729141235352\n",
      "Epoch 37, Loss: 14.316485404968262\n",
      "Epoch 38, Loss: 13.006811141967773\n",
      "Epoch 39, Loss: 11.648215293884277\n",
      "Epoch 40, Loss: 10.256141662597656\n",
      "Epoch 41, Loss: 8.851296424865723\n",
      "Epoch 42, Loss: 7.461914539337158\n",
      "Epoch 43, Loss: 6.122332572937012\n",
      "Epoch 44, Loss: 4.873630523681641\n",
      "Epoch 45, Loss: 3.765690565109253\n",
      "Epoch 46, Loss: 2.8528029918670654\n",
      "Epoch 47, Loss: 2.186589241027832\n",
      "Epoch 48, Loss: 1.804113507270813\n",
      "Epoch 49, Loss: 1.7099188566207886\n",
      "Epoch 50, Loss: 1.85927414894104\n",
      "Epoch 51, Loss: 2.1546554565429688\n",
      "Epoch 52, Loss: 2.467921257019043\n",
      "Epoch 53, Loss: 2.681753635406494\n",
      "Epoch 54, Loss: 2.726611375808716\n",
      "Epoch 55, Loss: 2.591641902923584\n",
      "Epoch 56, Loss: 2.3128976821899414\n",
      "Epoch 57, Loss: 1.9497302770614624\n",
      "Epoch 58, Loss: 1.5637907981872559\n",
      "Epoch 59, Loss: 1.20734441280365\n",
      "Epoch 60, Loss: 0.9151513576507568\n",
      "Epoch 61, Loss: 0.7033669948577881\n",
      "Epoch 62, Loss: 0.5723581910133362\n",
      "Epoch 63, Loss: 0.5113580226898193\n",
      "Epoch 64, Loss: 0.5032427906990051\n",
      "Epoch 65, Loss: 0.5291945934295654\n",
      "Epoch 66, Loss: 0.5716372728347778\n",
      "Epoch 67, Loss: 0.6161030530929565\n",
      "Epoch 68, Loss: 0.6520573496818542\n",
      "Epoch 69, Loss: 0.6729708909988403\n",
      "Epoch 70, Loss: 0.6760804057121277\n",
      "Epoch 71, Loss: 0.6617013812065125\n",
      "Epoch 72, Loss: 0.6324951648712158\n",
      "Epoch 73, Loss: 0.5927281379699707\n",
      "Epoch 74, Loss: 0.54753178358078\n",
      "Epoch 75, Loss: 0.5021712779998779\n",
      "Epoch 76, Loss: 0.4613918662071228\n",
      "Epoch 77, Loss: 0.42886027693748474\n",
      "Epoch 78, Loss: 0.4067564308643341\n",
      "Epoch 79, Loss: 0.3955676555633545\n",
      "Epoch 80, Loss: 0.3941305875778198\n",
      "Epoch 81, Loss: 0.3999320864677429\n",
      "Epoch 82, Loss: 0.4096314609050751\n",
      "Epoch 83, Loss: 0.4197079837322235\n",
      "Epoch 84, Loss: 0.42710423469543457\n",
      "Epoch 85, Loss: 0.42972618341445923\n",
      "Epoch 86, Loss: 0.4267021417617798\n",
      "Epoch 87, Loss: 0.41836217045783997\n",
      "Epoch 88, Loss: 0.4059824049472809\n",
      "Epoch 89, Loss: 0.39138153195381165\n",
      "Epoch 90, Loss: 0.3764834702014923\n",
      "Epoch 91, Loss: 0.3629440367221832\n",
      "Epoch 92, Loss: 0.35190173983573914\n",
      "Epoch 93, Loss: 0.3438805043697357\n",
      "Epoch 94, Loss: 0.3388216495513916\n",
      "Epoch 95, Loss: 0.33621448278427124\n",
      "Epoch 96, Loss: 0.3352741003036499\n",
      "Epoch 97, Loss: 0.3351295590400696\n",
      "Epoch 98, Loss: 0.3349839150905609\n",
      "Epoch 99, Loss: 0.3342289328575134\n",
      "Epoch 100, Loss: 0.3325071334838867\n"
     ]
    }
   ],
   "source": [
    "# Import PyTorch modules\n",
    "import torch\n",
    "import torch.nn as nn\n",
    "import torch.optim as optim\n",
    "\n",
    "# Define the neural network architecture\n",
    "class C2P_Net(nn.Module):\n",
    "    def __init__(self, input_size, output_size, hidden_size, num_layers):\n",
    "        super(C2P_Net, self).__init__()\n",
    "        # Input layer\n",
    "        self.input = nn.Linear(input_size, hidden_size)\n",
    "        # Hidden layers\n",
    "        self.hidden = nn.ModuleList()\n",
    "        for i in range(num_layers - 1):\n",
    "            self.hidden.append(nn.Linear(hidden_size, hidden_size))\n",
    "        # Output layer\n",
    "        self.output = nn.Linear(hidden_size, output_size)\n",
    "        # Activation function\n",
    "        self.relu = nn.ReLU()\n",
    "\n",
    "    def forward(self, x):\n",
    "        # Apply input layer\n",
    "        x = self.input(x)\n",
    "        x = self.relu(x)\n",
    "        # Apply hidden layers\n",
    "        for layer in self.hidden:\n",
    "            x = layer(x)\n",
    "            x = self.relu(x)\n",
    "        # Apply output layer\n",
    "        x = self.output(x)\n",
    "        return x\n",
    "\n",
    "# Define the input and output size\n",
    "input_size = 5 # Conservative variables: D, tau, Sx, Sy, Sz\n",
    "output_size = 5 # Primitive variables: rho, eps, vx, vy, vz\n",
    "\n",
    "# Define the hyperparameters\n",
    "hidden_size = 64 # Number of neurons in each hidden layer\n",
    "num_layers = 4 # Number of hidden layers\n",
    "learning_rate = 0.001 # Learning rate for the optimizer\n",
    "batch_size = 32 # Batch size for the training data\n",
    "num_epochs = 100 # Number of epochs for the training loop\n",
    "\n",
    "# Create an instance of the neural network\n",
    "model = C2P_Net(input_size, output_size, hidden_size, num_layers)\n",
    "\n",
    "# Define the loss function and the optimizer\n",
    "criterion = nn.MSELoss() # Mean squared error loss\n",
    "optimizer = optim.Adam(model.parameters(), lr=learning_rate) # Adam optimizer\n",
    "\n",
    "# Load the training data\n",
    "train_data = torch.load('train_data.pt') # A tensor of shape (N, input_size + output_size)\n",
    "train_inputs = train_data[:, :input_size] # A tensor of shape (N, input_size)\n",
    "train_outputs = train_data[:, input_size:] # A tensor of shape (N, output_size)\n",
    "\n",
    "# Train the neural network\n",
    "for epoch in range(num_epochs):\n",
    "    # Shuffle the training data\n",
    "    perm = torch.randperm(train_data.size(0))\n",
    "    train_data = train_data[perm]\n",
    "    train_inputs = train_inputs[perm]\n",
    "    train_outputs = train_outputs[perm]\n",
    "    # Loop over batches\n",
    "    for i in range(0, train_data.size(0), batch_size):\n",
    "        # Get a batch of inputs and outputs\n",
    "        batch_inputs = train_inputs[i:i+batch_size]\n",
    "        batch_outputs = train_outputs[i:i+batch_size]\n",
    "        # Zero the parameter gradients\n",
    "        optimizer.zero_grad()\n",
    "        # Forward pass\n",
    "        batch_preds = model(batch_inputs)\n",
    "        # Compute the loss\n",
    "        loss = criterion(batch_preds, batch_outputs)\n",
    "        # Backward pass and optimize\n",
    "        loss.backward()\n",
    "        optimizer.step()\n",
    "    # Print the loss every epoch\n",
    "    print(f'Epoch {epoch+1}, Loss: {loss.item()}')"
   ]
  },
  {
   "cell_type": "code",
   "execution_count": 4,
   "metadata": {},
   "outputs": [
    {
     "data": {
      "text/plain": [
       "C2P_Net(\n",
       "  (input): Linear(in_features=5, out_features=64, bias=True)\n",
       "  (hidden): ModuleList(\n",
       "    (0-2): 3 x Linear(in_features=64, out_features=64, bias=True)\n",
       "  )\n",
       "  (output): Linear(in_features=64, out_features=5, bias=True)\n",
       "  (relu): ReLU()\n",
       ")"
      ]
     },
     "execution_count": 4,
     "metadata": {},
     "output_type": "execute_result"
    },
    {
     "name": "stdout",
     "output_type": "stream",
     "text": [
      "Test Loss: 4.139082431793213\n",
      "Mean Relative Errors: tensor([0.3488, 0.2664, 0.1796, 0.1122, 0.0320])\n",
      "Standard Deviation of Relative Errors: tensor([0.0492, 0.0388, 0.0274, 0.0159, 0.0041])\n"
     ]
    },
    {
     "data": {
      "text/plain": [
       "(array([80.5667307,  0.       ,  0.       ,  0.       ,  0.       ,\n",
       "         0.       ,  0.       ,  0.       ,  0.       ,  0.       ,\n",
       "         0.       ,  0.       ,  0.       ,  0.       ,  0.       ,\n",
       "         0.       ,  0.       , 80.5667307,  0.       ,  0.       ,\n",
       "         0.       ,  0.       ,  0.       ,  0.       ,  0.       ,\n",
       "         0.       ,  0.       ,  0.       ,  0.       ,  0.       ,\n",
       "         0.       , 80.5667307,  0.       ,  0.       ,  0.       ,\n",
       "         0.       ,  0.       ,  0.       ,  0.       ,  0.       ,\n",
       "         0.       , 80.5667307,  0.       ,  0.       ,  0.       ,\n",
       "         0.       ,  0.       ,  0.       ,  0.       , 80.5667307]),\n",
       " array([0.27862325, 0.28110567, 0.28358808, 0.2860705 , 0.28855291,\n",
       "        0.29103532, 0.29351774, 0.29600015, 0.29848257, 0.30096498,\n",
       "        0.3034474 , 0.30592981, 0.30841222, 0.31089464, 0.31337705,\n",
       "        0.31585947, 0.31834188, 0.3208243 , 0.32330671, 0.32578912,\n",
       "        0.32827154, 0.33075395, 0.33323637, 0.33571878, 0.3382012 ,\n",
       "        0.34068361, 0.34316602, 0.34564844, 0.34813085, 0.35061327,\n",
       "        0.35309568, 0.35557809, 0.35806051, 0.36054292, 0.36302534,\n",
       "        0.36550775, 0.36799017, 0.37047258, 0.37295499, 0.37543741,\n",
       "        0.37791982, 0.38040224, 0.38288465, 0.38536707, 0.38784948,\n",
       "        0.39033189, 0.39281431, 0.39529672, 0.39777914, 0.40026155,\n",
       "        0.40274397]),\n",
       " <BarContainer object of 50 artists>)"
      ]
     },
     "execution_count": 4,
     "metadata": {},
     "output_type": "execute_result"
    },
    {
     "data": {
      "text/plain": [
       "Text(0.5, 1.0, 'Relative Errors for rho')"
      ]
     },
     "execution_count": 4,
     "metadata": {},
     "output_type": "execute_result"
    },
    {
     "data": {
      "text/plain": [
       "Text(0.5, 0, 'Relative Error')"
      ]
     },
     "execution_count": 4,
     "metadata": {},
     "output_type": "execute_result"
    },
    {
     "data": {
      "text/plain": [
       "Text(0, 0.5, 'Probability Density')"
      ]
     },
     "execution_count": 4,
     "metadata": {},
     "output_type": "execute_result"
    },
    {
     "data": {
      "image/png": "[encoded data removed]",
      "text/plain": [
       "<Figure size 640x480 with 1 Axes>"
      ]
     },
     "metadata": {},
     "output_type": "display_data"
    },
    {
     "data": {
      "text/plain": [
       "(array([102.10786705,   0.        ,   0.        ,   0.        ,\n",
       "          0.        ,   0.        ,   0.        ,   0.        ,\n",
       "          0.        ,   0.        ,   0.        ,   0.        ,\n",
       "          0.        ,   0.        ,   0.        ,   0.        ,\n",
       "          0.        , 102.10786705,   0.        ,   0.        ,\n",
       "          0.        ,   0.        ,   0.        ,   0.        ,\n",
       "          0.        ,   0.        ,   0.        ,   0.        ,\n",
       "          0.        ,   0.        , 102.10709026,   0.        ,\n",
       "          0.        ,   0.        ,   0.        ,   0.        ,\n",
       "          0.        ,   0.        ,   0.        ,   0.        ,\n",
       "          0.        , 102.10864385,   0.        ,   0.        ,\n",
       "          0.        ,   0.        ,   0.        ,   0.        ,\n",
       "          0.        , 102.10864385]),\n",
       " array([0.21165779, 0.21361651, 0.21557522, 0.21753393, 0.21949264,\n",
       "        0.22145136, 0.22341007, 0.22536878, 0.2273275 , 0.22928621,\n",
       "        0.23124492, 0.23320363, 0.23516235, 0.23712105, 0.23907976,\n",
       "        0.24103847, 0.24299718, 0.2449559 , 0.24691461, 0.24887332,\n",
       "        0.25083205, 0.25279075, 0.25474948, 0.25670817, 0.2586669 ,\n",
       "        0.2606256 , 0.2625843 , 0.26454303, 0.26650172, 0.26846045,\n",
       "        0.27041915, 0.27237788, 0.27433658, 0.2762953 , 0.278254  ,\n",
       "        0.28021273, 0.28217143, 0.28413016, 0.28608885, 0.28804758,\n",
       "        0.29000628, 0.29196501, 0.29392371, 0.29588243, 0.29784113,\n",
       "        0.29979986, 0.30175856, 0.30371729, 0.30567598, 0.30763471,\n",
       "        0.30959341]),\n",
       " <BarContainer object of 50 artists>)"
      ]
     },
     "execution_count": 4,
     "metadata": {},
     "output_type": "execute_result"
    },
    {
     "data": {
      "text/plain": [
       "Text(0.5, 1.0, 'Relative Errors for eps')"
      ]
     },
     "execution_count": 4,
     "metadata": {},
     "output_type": "execute_result"
    },
    {
     "data": {
      "text/plain": [
       "Text(0.5, 0, 'Relative Error')"
      ]
     },
     "execution_count": 4,
     "metadata": {},
     "output_type": "execute_result"
    },
    {
     "data": {
      "text/plain": [
       "Text(0, 0.5, 'Probability Density')"
      ]
     },
     "execution_count": 4,
     "metadata": {},
     "output_type": "execute_result"
    },
    {
     "data": {
      "image/png": "[encoded data removed]",
      "text/plain": [
       "<Figure size 640x480 with 1 Axes>"
      ]
     },
     "metadata": {},
     "output_type": "display_data"
    },
    {
     "data": {
      "text/plain": [
       "(array([144.77938407,   0.        ,   0.        ,   0.        ,\n",
       "          0.        ,   0.        ,   0.        ,   0.        ,\n",
       "          0.        ,   0.        ,   0.        ,   0.        ,\n",
       "          0.        ,   0.        ,   0.        ,   0.        ,\n",
       "        144.77938407,   0.        ,   0.        ,   0.        ,\n",
       "          0.        ,   0.        ,   0.        ,   0.        ,\n",
       "          0.        ,   0.        ,   0.        ,   0.        ,\n",
       "          0.        ,   0.        , 144.78094581,   0.        ,\n",
       "          0.        ,   0.        ,   0.        ,   0.        ,\n",
       "          0.        ,   0.        ,   0.        ,   0.        ,\n",
       "          0.        , 144.77938407,   0.        ,   0.        ,\n",
       "          0.        ,   0.        ,   0.        ,   0.        ,\n",
       "          0.        , 144.77938407]),\n",
       " array([0.14127439, 0.1426558 , 0.1440372 , 0.14541861, 0.14680001,\n",
       "        0.14818142, 0.14956284, 0.15094423, 0.15232565, 0.15370706,\n",
       "        0.15508845, 0.15646987, 0.15785126, 0.15923268, 0.16061409,\n",
       "        0.16199549, 0.1633769 , 0.16475831, 0.16613971, 0.16752112,\n",
       "        0.16890252, 0.17028393, 0.17166534, 0.17304674, 0.17442815,\n",
       "        0.17580956, 0.17719096, 0.17857237, 0.17995377, 0.18133518,\n",
       "        0.18271659, 0.18409799, 0.1854794 , 0.1868608 , 0.18824221,\n",
       "        0.18962362, 0.19100502, 0.19238643, 0.19376785, 0.19514924,\n",
       "        0.19653066, 0.19791205, 0.19929346, 0.20067488, 0.20205627,\n",
       "        0.20343769, 0.2048191 , 0.2062005 , 0.20758191, 0.2089633 ,\n",
       "        0.21034472]),\n",
       " <BarContainer object of 50 artists>)"
      ]
     },
     "execution_count": 4,
     "metadata": {},
     "output_type": "execute_result"
    },
    {
     "data": {
      "text/plain": [
       "Text(0.5, 1.0, 'Relative Errors for vx')"
      ]
     },
     "execution_count": 4,
     "metadata": {},
     "output_type": "execute_result"
    },
    {
     "data": {
      "text/plain": [
       "Text(0.5, 0, 'Relative Error')"
      ]
     },
     "execution_count": 4,
     "metadata": {},
     "output_type": "execute_result"
    },
    {
     "data": {
      "text/plain": [
       "Text(0, 0.5, 'Probability Density')"
      ]
     },
     "execution_count": 4,
     "metadata": {},
     "output_type": "execute_result"
    },
    {
     "data": {
      "image/png": "[encoded data removed]",
      "text/plain": [
       "<Figure size 640x480 with 1 Axes>"
      ]
     },
     "metadata": {},
     "output_type": "display_data"
    },
    {
     "data": {
      "text/plain": [
       "(array([249.82359795,   0.        ,   0.        ,   0.        ,\n",
       "          0.        ,   0.        ,   0.        ,   0.        ,\n",
       "          0.        ,   0.        ,   0.        ,   0.        ,\n",
       "          0.        ,   0.        ,   0.        ,   0.        ,\n",
       "        249.82359795,   0.        ,   0.        ,   0.        ,\n",
       "          0.        ,   0.        ,   0.        ,   0.        ,\n",
       "          0.        ,   0.        ,   0.        ,   0.        ,\n",
       "          0.        ,   0.        , 249.82127295,   0.        ,\n",
       "          0.        ,   0.        ,   0.        ,   0.        ,\n",
       "          0.        ,   0.        ,   0.        ,   0.        ,\n",
       "          0.        , 249.82127295,   0.        ,   0.        ,\n",
       "          0.        ,   0.        ,   0.        ,   0.        ,\n",
       "          0.        , 249.82359795]),\n",
       " array([0.08996836, 0.09076893, 0.09156949, 0.09237006, 0.09317063,\n",
       "        0.09397119, 0.09477176, 0.09557232, 0.09637289, 0.09717346,\n",
       "        0.09797402, 0.09877459, 0.09957515, 0.10037572, 0.10117629,\n",
       "        0.10197686, 0.10277742, 0.10357799, 0.10437855, 0.10517912,\n",
       "        0.10597969, 0.10678025, 0.10758082, 0.10838138, 0.10918195,\n",
       "        0.10998252, 0.11078309, 0.11158365, 0.11238421, 0.11318478,\n",
       "        0.11398534, 0.11478592, 0.11558648, 0.11638705, 0.11718761,\n",
       "        0.11798818, 0.11878874, 0.11958931, 0.12038988, 0.12119044,\n",
       "        0.12199101, 0.12279157, 0.12359215, 0.12439271, 0.12519327,\n",
       "        0.12599385, 0.12679441, 0.12759498, 0.12839554, 0.12919611,\n",
       "        0.12999667]),\n",
       " <BarContainer object of 50 artists>)"
      ]
     },
     "execution_count": 4,
     "metadata": {},
     "output_type": "execute_result"
    },
    {
     "data": {
      "text/plain": [
       "Text(0.5, 1.0, 'Relative Errors for vy')"
      ]
     },
     "execution_count": 4,
     "metadata": {},
     "output_type": "execute_result"
    },
    {
     "data": {
      "text/plain": [
       "Text(0.5, 0, 'Relative Error')"
      ]
     },
     "execution_count": 4,
     "metadata": {},
     "output_type": "execute_result"
    },
    {
     "data": {
      "text/plain": [
       "Text(0, 0.5, 'Probability Density')"
      ]
     },
     "execution_count": 4,
     "metadata": {},
     "output_type": "execute_result"
    },
    {
     "data": {
      "image/png": "[encoded data removed]",
      "text/plain": [
       "<Figure size 640x480 with 1 Axes>"
      ]
     },
     "metadata": {},
     "output_type": "display_data"
    },
    {
     "data": {
      "text/plain": [
       "(array([976.63500541,   0.        ,   0.        ,   0.        ,\n",
       "          0.        ,   0.        ,   0.        ,   0.        ,\n",
       "          0.        ,   0.        ,   0.        ,   0.        ,\n",
       "          0.        ,   0.        ,   0.        ,   0.        ,\n",
       "          0.        ,   0.        , 976.62612239,   0.        ,\n",
       "          0.        ,   0.        ,   0.        ,   0.        ,\n",
       "          0.        ,   0.        ,   0.        ,   0.        ,\n",
       "          0.        ,   0.        ,   0.        ,   0.        ,\n",
       "          0.        , 976.62612239,   0.        ,   0.        ,\n",
       "          0.        ,   0.        ,   0.        ,   0.        ,\n",
       "          0.        ,   0.        ,   0.        , 976.6438886 ,\n",
       "          0.        ,   0.        ,   0.        ,   0.        ,\n",
       "          0.        , 976.62612239]),\n",
       " array([0.02608013, 0.02628492, 0.0264897 , 0.02669449, 0.02689927,\n",
       "        0.02710406, 0.02730884, 0.02751363, 0.02771841, 0.0279232 ,\n",
       "        0.02812798, 0.02833277, 0.02853755, 0.02874234, 0.02894712,\n",
       "        0.02915191, 0.0293567 , 0.02956148, 0.02976627, 0.02997105,\n",
       "        0.03017584, 0.03038062, 0.03058541, 0.03079019, 0.03099498,\n",
       "        0.03119976, 0.03140455, 0.03160933, 0.03181412, 0.0320189 ,\n",
       "        0.03222369, 0.03242847, 0.03263326, 0.03283804, 0.03304283,\n",
       "        0.03324762, 0.0334524 , 0.03365719, 0.03386197, 0.03406676,\n",
       "        0.03427154, 0.03447632, 0.03468111, 0.0348859 , 0.03509068,\n",
       "        0.03529547, 0.03550025, 0.03570504, 0.03590982, 0.03611461,\n",
       "        0.03631939]),\n",
       " <BarContainer object of 50 artists>)"
      ]
     },
     "execution_count": 4,
     "metadata": {},
     "output_type": "execute_result"
    },
    {
     "data": {
      "text/plain": [
       "Text(0.5, 1.0, 'Relative Errors for vz')"
      ]
     },
     "execution_count": 4,
     "metadata": {},
     "output_type": "execute_result"
    },
    {
     "data": {
      "text/plain": [
       "Text(0.5, 0, 'Relative Error')"
      ]
     },
     "execution_count": 4,
     "metadata": {},
     "output_type": "execute_result"
    },
    {
     "data": {
      "text/plain": [
       "Text(0, 0.5, 'Probability Density')"
      ]
     },
     "execution_count": 4,
     "metadata": {},
     "output_type": "execute_result"
    },
    {
     "data": {
      "image/png": "[encoded data removed]",
      "text/plain": [
       "<Figure size 640x480 with 1 Axes>"
      ]
     },
     "metadata": {},
     "output_type": "display_data"
    }
   ],
   "source": [
    "# Save the trained model\n",
    "torch.save(model, 'c2p_net.pt')\n",
    "\n",
    "# Load the test data\n",
    "test_data = torch.load('test_data.pt') # A tensor of shape (M, input_size + output_size)\n",
    "test_inputs = test_data[:, :input_size] # A tensor of shape (M, input_size)\n",
    "test_outputs = test_data[:, input_size:] # A tensor of shape (M, output_size)\n",
    "\n",
    "# Evaluate the neural network on the test data\n",
    "model.eval() # Set the model to evaluation mode\n",
    "with torch.no_grad(): # Disable gradient computation\n",
    "    # Forward pass\n",
    "    test_preds = model(test_inputs)\n",
    "    # Compute the test loss\n",
    "    test_loss = criterion(test_preds, test_outputs)\n",
    "    # Print the test loss\n",
    "    print(f'Test Loss: {test_loss.item()}')\n",
    "\n",
    "    # Compute the relative error for each output variable\n",
    "    test_errors = torch.abs((test_preds - test_outputs) / test_outputs)\n",
    "    # Print the mean and standard deviation of the relative errors\n",
    "    print(f'Mean Relative Errors: {test_errors.mean(dim=0)}')\n",
    "    print(f'Standard Deviation of Relative Errors: {test_errors.std(dim=0)}')\n",
    "\n",
    "    import matplotlib.pyplot as plt\n",
    "    # Define the output variable names\n",
    "    output_names = ['rho', 'eps', 'vx', 'vy', 'vz']\n",
    "    # Loop over the output variables\n",
    "    for i in range(output_size):\n",
    "        # Select the relative errors for the current output variable\n",
    "        errors = test_errors[:, i]\n",
    "        # Plot the histogram of the errors\n",
    "        plt.hist(errors, bins=50, density=True)\n",
    "        # Set the title and labels\n",
    "        plt.title(f'Relative Errors for {output_names[i]}')\n",
    "        plt.xlabel('Relative Error')\n",
    "        plt.ylabel('Probability Density')\n",
    "        # Show the plot\n",
    "        plt.show()\n",
    "\n"
   ]
  }
 ],
 "metadata": {
  "kernelspec": {
   "display_name": "BScPhysics",
   "language": "python",
   "name": "python3"
  },
  "language_info": {
   "codemirror_mode": {
    "name": "ipython",
    "version": 3
   },
   "file_extension": ".py",
   "mimetype": "text/x-python",
   "name": "python",
   "nbconvert_exporter": "python",
   "pygments_lexer": "ipython3",
   "version": "3.10.9"
  },
  "orig_nbformat": 4
 },
 "nbformat": 4,
 "nbformat_minor": 2
}
