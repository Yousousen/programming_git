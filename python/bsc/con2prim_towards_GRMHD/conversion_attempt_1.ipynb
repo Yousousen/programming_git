{
  "cells": [
    {
      "attachments": {},
      "cell_type": "markdown",
      "metadata": {
        "id": "TPvB1xoSUZhR"
      },
      "source": [
        "# Neural network to learn conservative-to-primitive conversion in relativistic hydrodynamics"
      ]
    },
    {
      "attachments": {},
      "cell_type": "markdown",
      "metadata": {},
      "source": [
        "## How to use this notebook\n",
        "0. Install required packages with `pip install -r requirements.txt`\n",
        "\n",
        "### Training without optimization\n",
        "\n",
        "1. Set `OPTIMIZE = False` in section _Constants and flags to set_.\n",
        "2. Run the entire notebook.\n",
        "\n",
        "### Training with optimization\n",
        "\n",
        "1. Set `OPTIMIZE = True` in section _Constants and flags to set_.\n",
        "2. Run the entire notebook.\n",
        "\n",
        "### Loading an already trained model\n",
        "\n",
        "1. Run cells in section _Initialization_.\n",
        "2. Run cells with definitions in section _Generating the data_.\n",
        "3. Run cell with the definition of _Net_ in section _Defining the neural network_.\n",
        "4. Make sure the `net.pth`, `optimizer.pth`, `scheduler.pth`, `var_dict.json` and `train_output.csv` files are in the directory containing this notebook.\n",
        "5. Run the cells in section _Loading_ and continue from there.\n",
        "\n",
        "### Generating the C++ model\n",
        "\n",
        "1. Run section _Porting the model to C++_, this requires a model to be loaded.\n",
        "2. Set the path to the `net.pt` file in the C++ source file.\n",
        "3. `mkdir build && cd build`,\n",
        "4. `cmake -DCMAKE_PREFIX_PATH=/path/to/libtorch/ ..`,\n",
        "3. Compile and run, e.g. `cmake --build . --config release && ./executable`"
      ]
    },
    {
      "attachments": {},
      "cell_type": "markdown",
      "metadata": {},
      "source": [
        "## Initialization"
      ]
    },
    {
      "attachments": {},
      "cell_type": "markdown",
      "metadata": {},
      "source": [
        "\n",
        "Use this first cell to **convert this notebook** to a python script."
      ]
    },
    {
      "cell_type": "code",
      "execution_count": 2,
      "metadata": {
        "colab": {
          "base_uri": "https://localhost:8080/"
        },
        "id": "eqdgdNLHUZhV",
        "outputId": "30907b9d-56c3-44d7-cd43-6387a991a46a",
        "tags": [
          "remove_cell"
        ]
      },
      "outputs": [
        {
          "name": "stdout",
          "output_type": "stream",
          "text": [
            "Couldn't find program: 'echo'\n"
          ]
        }
      ],
      "source": [
        "%%script echo skipping\n",
        "\n",
        "!jupyter nbconvert pt9.ipynb --TagRemovePreprocessor.enabled=True --TagRemovePreprocessor.remove_cell_tags='{\"remove_cell\"}' --to script"
      ]
    },
    {
      "attachments": {},
      "cell_type": "markdown",
      "metadata": {
        "id": "nzcUr0LnUZhw"
      },
      "source": [
        "Next some cells for working on **google colab**,"
      ]
    },
    {
      "cell_type": "code",
      "execution_count": 3,
      "metadata": {},
      "outputs": [],
      "source": [
        "import os\n",
        "import shutil\n",
        "\n",
        "# check if the drive is mounted\n",
        "drive_mounted = os.path.exists(\"/content/drive\")\n",
        "# change this to your desired folder\n",
        "drive_folder = \"/content/drive/My Drive/bsc/con2prim_towards_GRMHD/\"\n",
        "\n",
        "# define a function to save a file to the drive or the current directory\n",
        "def save_file(file_name):\n",
        "  if drive_mounted:\n",
        "    # save the file to the drive folder\n",
        "    file_path = os.path.join(drive_folder, file_name)\n",
        "    # copy the file from the current directory to the drive folder\n",
        "    shutil.copyfile(file_name, file_path)\n",
        "  else:\n",
        "    # do nothing as the file is already in the current directory\n",
        "    pass\n"
      ]
    },
    {
      "cell_type": "code",
      "execution_count": 4,
      "metadata": {
        "colab": {
          "base_uri": "https://localhost:8080/"
        },
        "id": "ecHw2_xlUZhx",
        "outputId": "462a57cd-ee19-4961-d3aa-ff2407b2bde0"
      },
      "outputs": [
        {
          "name": "stdout",
          "output_type": "stream",
          "text": [
            "Couldn't find program: 'echo'\n"
          ]
        }
      ],
      "source": [
        "%%script echo skipping\n",
        "\n",
        "from google.colab import drive\n",
        "drive.mount('/content/drive')"
      ]
    },
    {
      "cell_type": "code",
      "execution_count": 5,
      "metadata": {
        "colab": {
          "base_uri": "https://localhost:8080/"
        },
        "id": "T1rcStMLUZhy",
        "outputId": "7ea7311f-f054-4a29-d0ff-12849095ab6e"
      },
      "outputs": [
        {
          "name": "stdout",
          "output_type": "stream",
          "text": [
            "Couldn't find program: 'echo'\n"
          ]
        }
      ],
      "source": [
        "%%script echo skipping\n",
        "\n",
        "!pip install optuna tensorboard tensorboardX"
      ]
    },
    {
      "attachments": {},
      "cell_type": "markdown",
      "metadata": {},
      "source": [
        "Importing the **libraries** and setting the **device**,"
      ]
    },
    {
      "cell_type": "code",
      "execution_count": 6,
      "metadata": {
        "id": "tREdWQUVUZhz"
      },
      "outputs": [],
      "source": [
        "import numpy as np\n",
        "import matplotlib.pyplot as plt\n",
        "import torch\n",
        "import torch.nn as nn\n",
        "import torch.optim as optim\n",
        "import torch.nn.functional as F\n",
        "import optuna\n",
        "import tensorboardX as tbx\n",
        "\n",
        "# Checking if GPU is available and setting the device accordingly\n",
        "device = torch.device(\"cuda\" if torch.cuda.is_available() else \"cpu\")\n"
      ]
    },
    {
      "attachments": {},
      "cell_type": "markdown",
      "metadata": {
        "id": "38GvmerjUZhz"
      },
      "source": [
        "### Constants and flags to set\n",
        "Defining some constants and parameters for convenience.\n",
        "\n",
        "**NOTE**: Some **subparameters** still need to be adjusted in the `create_model` function itself as of (Tue May 16 07:42:45 AM CEST 2023)."
      ]
    },
    {
      "cell_type": "code",
      "execution_count": 7,
      "metadata": {
        "id": "ei6VZDYKUZh0"
      },
      "outputs": [],
      "source": [
        "\n",
        "N_TRIALS = 250 # Number of trials for hyperparameter optimization\n",
        "OPTIMIZE = False # Whether to optimize the hyperparameters or to use predetermined values from Dieseldorst et al..\n",
        "ZSCORE_NORMALIZATION = False # Whether to z-score normalize the input data.\n",
        "\n",
        "# I try out here the values as obtained in Optuna run 5, but I will increase the number of epochs.\n",
        "# N_LAYERS_NO_OPT = 3\n",
        "# N_UNITS_NO_OPT = [78, 193, 99]\n",
        "# HIDDEN_ACTIVATION_NAME_NO_OPT = \"ReLU\"\n",
        "# OUTPUT_ACTIVATION_NAME_NO_OPT = \"Linear\"\n",
        "# LOSS_NAME_NO_OPT = \"MSE\"\n",
        "# OPTIMIZER_NAME_NO_OPT = \"Adam\"\n",
        "# LR_NO_OPT = 0.00036516467819506355\n",
        "# BATCH_SIZE_NO_OPT = 170\n",
        "# N_EPOCHS_NO_OPT = 400\n",
        "# SCHEDULER_NAME_NO_OPT = \"ReduceLROnPlateau\"\n",
        "\n",
        "N_LAYERS_NO_OPT = 3\n",
        "N_UNITS_NO_OPT = [555, 458, 115]\n",
        "HIDDEN_ACTIVATION_NAME_NO_OPT = \"ReLU\"\n",
        "OUTPUT_ACTIVATION_NAME_NO_OPT = \"ReLU\"\n",
        "LOSS_NAME_NO_OPT = \"Huber\"\n",
        "OPTIMIZER_NAME_NO_OPT = \"RMSprop\"\n",
        "LR_NO_OPT = 0.000122770896701404\n",
        "BATCH_SIZE_NO_OPT = 49\n",
        "N_EPOCHS_NO_OPT = 400\n",
        "SCHEDULER_NAME_NO_OPT = \"ReduceLROnPlateau\"\n",
        "\n",
        "c = 1  # Speed of light (used in compute_conserved_variables and sample_primitive_variables functions)\n",
        "gamma = 5 / 3  # Adiabatic index (used in eos_analytic function)\n",
        "n_train_samples = 80000 # Number of training samples (used in generate_input_data and generate_labels functions)\n",
        "n_test_samples = 10000 # Number of test samples (used in generate_input_data and generate_labels functions)\n",
        "rho_interval = (0, 10.1) # Sampling interval for rest-mass density (used in sample_primitive_variables function)\n",
        "vx_interval = (0, 0.721 * c) # Sampling interval for velocity in x-direction (used in sample_primitive_variables function)\n",
        "vy_interval = vx_interval # Sampling interval for velocity in y-direction (used in sample_primitive_variables function)\n",
        "vz_interval = vx_interval # Sampling interval for velocity in z-direction (used in sample_primitive_variables function)\n",
        "epsilon_interval = (0, 2.02) # Sampling interval for specific internal energy (used in sample_primitive_variables function)\n",
        "\n",
        "np.random.seed(40) # Uncomment for pseudorandom data.\n"
      ]
    },
    {
      "cell_type": "markdown",
      "metadata": {
        "id": "dlaP5UL2UZh1"
      },
      "source": [
        "## Generating the data"
      ]
    },
    {
      "cell_type": "code",
      "execution_count": 17,
      "metadata": {
        "id": "s_EvGFZcUZh1"
      },
      "outputs": [],
      "source": [
        "\n",
        "# Defining an analytic equation of state (EOS) for an ideal gas\n",
        "def eos_analytic(rho, epsilon):\n",
        "    \"\"\"Computes the pressure from rest-mass density and specific internal energy using an analytic EOS.\n",
        "\n",
        "    Args:\n",
        "        rho (torch.Tensor): The rest-mass density tensor of shape (n_samples,).\n",
        "        epsilon (torch.Tensor): The specific internal energy tensor of shape (n_samples,).\n",
        "\n",
        "    Returns:\n",
        "        torch.Tensor: The pressure tensor of shape (n_samples,).\n",
        "    \"\"\"\n",
        "    # Adding some assertions to check that the input tensors are valid and have the expected shape and type \n",
        "    assert isinstance(rho, torch.Tensor), \"rho must be a torch.Tensor\"\n",
        "    assert isinstance(epsilon, torch.Tensor), \"epsilon must be a torch.Tensor\"\n",
        "    assert rho.shape == epsilon.shape, \"rho and epsilon must have the same shape\"\n",
        "    assert rho.ndim == 1, \"rho and epsilon must be one-dimensional tensors\"\n",
        "    assert rho.dtype == torch.float32, \"rho and epsilon must have dtype torch.float32\"\n",
        "\n",
        "    return (gamma - 1) * rho * epsilon\n",
        "\n",
        "\n",
        "\n",
        "# Defining a function that samples primitive variables from uniform distributions\n",
        "def sample_primitive_variables(n_samples):\n",
        "    \"\"\"Samples primitive variables from uniform distributions.\n",
        "\n",
        "    Args:\n",
        "        n_samples (int): The number of samples to generate.\n",
        "\n",
        "    Returns:\n",
        "        tuple: A tuple of (rho, v, epsilon), where rho is rest-mass density,\n",
        "            v is velocity vector,\n",
        "            epsilon is specific internal energy,\n",
        "            each being a numpy array of shape (n_samples,).\n",
        "    \"\"\"\n",
        "    # Sampling from uniform distributions with intervals matching Dieseldorst et al.\n",
        "    rho = np.random.uniform(*rho_interval, size=n_samples)  # Rest-mass density\n",
        "    vx = np.random.uniform(*vx_interval, size=n_samples)  # Velocity in x-direction\n",
        "    vy = np.random.uniform(*vy_interval, size=n_samples)  # Velocity in y-direction\n",
        "    vz = np.random.uniform(*vz_interval, size=n_samples)  # Velocity in z-direction\n",
        "    v = np.stack([vx, vy, vz], axis=1) # Velocity vector\n",
        "    epsilon = np.random.uniform(*epsilon_interval, size=n_samples)  # Specific internal energy\n",
        "\n",
        "    # Converting the numpy arrays to torch tensors and moving them to the device\n",
        "    rho = torch.tensor(rho, dtype=torch.float32).to(device)\n",
        "    v = torch.tensor(v, dtype=torch.float32).to(device)\n",
        "    epsilon = torch.tensor(epsilon, dtype=torch.float32).to(device)\n",
        "\n",
        "    # Returning the primitive variables\n",
        "    return rho, v, epsilon\n",
        "\n",
        "\n",
        "# Defining a function that computes conserved variables from primitive variables\n",
        "def compute_conserved_variables(rho, v, epsilon):\n",
        "    \"\"\"Computes conserved variables from primitive variables.\n",
        "\n",
        "    Args:\n",
        "        rho (torch.Tensor): The rest-mass density tensor of shape (n_samples,).\n",
        "        v (torch.Tensor): The velocity vector tensor of shape (n_samples, 3).\n",
        "        epsilon (torch.Tensor): The specific internal energy tensor of shape (n_samples,).\n",
        "\n",
        "    Returns:\n",
        "        tuple: A tuple of (D, S, tau), where D is conserved density,\n",
        "            S is conserved momentum vector,\n",
        "            tau is conserved energy density,\n",
        "            each being a torch tensor of shape (n_samples,).\n",
        "    \"\"\"\n",
        "\n",
        "    # Computing the pressure from the primitive variables using the EOS\n",
        "    p = eos_analytic(rho, epsilon)\n",
        "    # Computing the Lorentz factor from the velocity.\n",
        "    W = 1 / torch.sqrt(1 - torch.sum(v ** 2, axis=1) / c ** 2)\n",
        "    # Specific enthalpy\n",
        "    h = 1 + epsilon + p / rho  \n",
        "\n",
        "    # Computing the conserved variables from the primitive variables\n",
        "    D = rho * W  # Conserved density\n",
        "    S = rho.unsqueeze(1) * h.unsqueeze(1) * W.unsqueeze(1) ** 2 * v  # Conserved momentum vector\n",
        "    tau = rho.unsqueeze(1) * h.unsqueeze(1) * W.unsqueeze(1) ** 2 - p.unsqueeze(1) - D.unsqueeze(1)  # Conserved energy density\n",
        "\n",
        "    # Returning the conserved variables\n",
        "    return D, S, tau\n",
        "\n",
        "\n",
        "\n",
        "\n",
        "\n",
        "# Defining a function that generates input data (conserved variables) from given samples of primitive variables\n",
        "def generate_input_data(rho, v, epsilon):\n",
        "\n",
        "    # Computing the conserved variables using the compute_conserved_variables function\n",
        "    D, S, tau = compute_conserved_variables(rho, v, epsilon)\n",
        "\n",
        "    # Stacking the conserved variables into a torch tensor\n",
        "    x = torch.cat([D.unsqueeze(1), S.squeeze(2), tau.unsqueeze(1)], axis=-1)\n",
        "\n",
        "    # Returning the input data tensor\n",
        "    return x\n",
        "\n",
        "\n",
        "\n",
        "\n",
        "# Defining a function that generates output data (labels) from given samples of primitive variables\n",
        "def generate_labels(rho, epsilon):\n",
        "    # Computing the pressure from the primitive variables using the EOS\n",
        "    p = eos_analytic(rho, epsilon)\n",
        "\n",
        "    # Returning the output data tensor\n",
        "    return p"
      ]
    },
    {
      "cell_type": "code",
      "execution_count": 32,
      "metadata": {},
      "outputs": [
        {
          "data": {
            "text/plain": [
              "array([9.00138763, 8.90288814, 2.66043487, 7.465905  , 3.08303793,\n",
              "       2.32261889, 7.50526799, 3.55698671, 1.29522973, 1.8708351 ])"
            ]
          },
          "execution_count": 32,
          "metadata": {},
          "output_type": "execute_result"
        },
        {
          "ename": "AxisError",
          "evalue": "axis 1 is out of bounds for array of dimension 1",
          "output_type": "error",
          "traceback": [
            "\u001b[1;31m---------------------------------------------------------------------------\u001b[0m",
            "\u001b[1;31mAxisError\u001b[0m                                 Traceback (most recent call last)",
            "Cell \u001b[1;32mIn[32], line 3\u001b[0m\n\u001b[0;32m      1\u001b[0m A \u001b[39m=\u001b[39m np\u001b[39m.\u001b[39mrandom\u001b[39m.\u001b[39muniform(\u001b[39m1\u001b[39m,\u001b[39m10\u001b[39m,\u001b[39m10\u001b[39m)\n\u001b[0;32m      2\u001b[0m A\n\u001b[1;32m----> 3\u001b[0m a \u001b[39m=\u001b[39m np\u001b[39m.\u001b[39;49mstack(A, axis\u001b[39m=\u001b[39;49m\u001b[39m1\u001b[39;49m)\n\u001b[0;32m      4\u001b[0m a\n",
            "File \u001b[1;32m<__array_function__ internals>:200\u001b[0m, in \u001b[0;36mstack\u001b[1;34m(*args, **kwargs)\u001b[0m\n",
            "File \u001b[1;32mc:\\Users\\bvptr\\anaconda3\\envs\\bsc\\Lib\\site-packages\\numpy\\core\\shape_base.py:467\u001b[0m, in \u001b[0;36mstack\u001b[1;34m(arrays, axis, out, dtype, casting)\u001b[0m\n\u001b[0;32m    464\u001b[0m     \u001b[39mraise\u001b[39;00m \u001b[39mValueError\u001b[39;00m(\u001b[39m'\u001b[39m\u001b[39mall input arrays must have the same shape\u001b[39m\u001b[39m'\u001b[39m)\n\u001b[0;32m    466\u001b[0m result_ndim \u001b[39m=\u001b[39m arrays[\u001b[39m0\u001b[39m]\u001b[39m.\u001b[39mndim \u001b[39m+\u001b[39m \u001b[39m1\u001b[39m\n\u001b[1;32m--> 467\u001b[0m axis \u001b[39m=\u001b[39m normalize_axis_index(axis, result_ndim)\n\u001b[0;32m    469\u001b[0m sl \u001b[39m=\u001b[39m (\u001b[39mslice\u001b[39m(\u001b[39mNone\u001b[39;00m),) \u001b[39m*\u001b[39m axis \u001b[39m+\u001b[39m (_nx\u001b[39m.\u001b[39mnewaxis,)\n\u001b[0;32m    470\u001b[0m expanded_arrays \u001b[39m=\u001b[39m [arr[sl] \u001b[39mfor\u001b[39;00m arr \u001b[39min\u001b[39;00m arrays]\n",
            "\u001b[1;31mAxisError\u001b[0m: axis 1 is out of bounds for array of dimension 1"
          ]
        }
      ],
      "source": [
        "A = np.random.uniform(1,10,10)\n",
        "A\n",
        "a = np.stack(A, axis=1)\n",
        "a"
      ]
    },
    {
      "cell_type": "code",
      "execution_count": 23,
      "metadata": {},
      "outputs": [
        {
          "data": {
            "text/plain": [
              "tensor([1, 2, 3])"
            ]
          },
          "execution_count": 23,
          "metadata": {},
          "output_type": "execute_result"
        },
        {
          "ename": "IndexError",
          "evalue": "Dimension out of range (expected to be in range of [-1, 0], but got 1)",
          "output_type": "error",
          "traceback": [
            "\u001b[1;31m---------------------------------------------------------------------------\u001b[0m",
            "\u001b[1;31mIndexError\u001b[0m                                Traceback (most recent call last)",
            "Cell \u001b[1;32mIn[23], line 3\u001b[0m\n\u001b[0;32m      1\u001b[0m a \u001b[39m=\u001b[39m torch\u001b[39m.\u001b[39mtensor([\u001b[39m1\u001b[39m,\u001b[39m2\u001b[39m,\u001b[39m3\u001b[39m])\n\u001b[0;32m      2\u001b[0m a\n\u001b[1;32m----> 3\u001b[0m torch\u001b[39m.\u001b[39;49msum(a \u001b[39m*\u001b[39;49m\u001b[39m*\u001b[39;49m \u001b[39m2\u001b[39;49m, axis\u001b[39m=\u001b[39;49m\u001b[39m1\u001b[39;49m)\n",
            "\u001b[1;31mIndexError\u001b[0m: Dimension out of range (expected to be in range of [-1, 0], but got 1)"
          ]
        }
      ],
      "source": [
        "a = torch.tensor([1,2,3])\n",
        "a\n",
        "torch.sum(a ** 2, axis=1)"
      ]
    },
    {
      "cell_type": "code",
      "execution_count": 9,
      "metadata": {},
      "outputs": [
        {
          "ename": "TypeError",
          "evalue": "unsupported operand type(s) for ** or pow(): 'list' and 'int'",
          "output_type": "error",
          "traceback": [
            "\u001b[1;31m---------------------------------------------------------------------------\u001b[0m",
            "\u001b[1;31mTypeError\u001b[0m                                 Traceback (most recent call last)",
            "Cell \u001b[1;32mIn[9], line 3\u001b[0m\n\u001b[0;32m      1\u001b[0m \u001b[39mimport\u001b[39;00m \u001b[39mnumpy\u001b[39;00m \u001b[39mas\u001b[39;00m \u001b[39mnp\u001b[39;00m\n\u001b[0;32m      2\u001b[0m \u001b[39mimport\u001b[39;00m \u001b[39mtorch\u001b[39;00m\n\u001b[1;32m----> 3\u001b[0m torch\u001b[39m.\u001b[39msum([np\u001b[39m.\u001b[39;49marray([\u001b[39m1\u001b[39;49m,\u001b[39m2\u001b[39;49m,\u001b[39m3\u001b[39;49m]), np\u001b[39m.\u001b[39;49marray([\u001b[39m4\u001b[39;49m,\u001b[39m5\u001b[39;49m,\u001b[39m6\u001b[39;49m])] \u001b[39m*\u001b[39;49m\u001b[39m*\u001b[39;49m \u001b[39m2\u001b[39;49m, axis\u001b[39m=\u001b[39m\u001b[39m1\u001b[39m)\n\u001b[0;32m      4\u001b[0m a \u001b[39m=\u001b[39m np\u001b[39m.\u001b[39mstack([np\u001b[39m.\u001b[39marray([\u001b[39m1\u001b[39m,\u001b[39m2\u001b[39m,\u001b[39m3\u001b[39m]), np\u001b[39m.\u001b[39marray([\u001b[39m4\u001b[39m,\u001b[39m5\u001b[39m,\u001b[39m6\u001b[39m])], axis\u001b[39m=\u001b[39m\u001b[39m1\u001b[39m)\n\u001b[0;32m      5\u001b[0m a\n",
            "\u001b[1;31mTypeError\u001b[0m: unsupported operand type(s) for ** or pow(): 'list' and 'int'"
          ]
        }
      ],
      "source": [
        "import numpy as np\n",
        "import torch\n",
        "a = np.stack([np.array([1,2,3]), np.array([4,5,6])], axis=1)\n",
        "a\n",
        "b = 5 * a + 1\n",
        "b"
      ]
    },
    {
      "cell_type": "markdown",
      "metadata": {
        "id": "_dczop2rUZh3"
      },
      "source": [
        "Sampling the primitive variables using the sample_primitive_variables function"
      ]
    },
    {
      "cell_type": "code",
      "execution_count": 18,
      "metadata": {
        "id": "cKubR6C8UZh4"
      },
      "outputs": [],
      "source": [
        "rho_train, v_train, epsilon_train = sample_primitive_variables(n_train_samples)\n",
        "rho_test, v_test, epsilon_test = sample_primitive_variables(n_test_samples)"
      ]
    },
    {
      "cell_type": "code",
      "execution_count": 51,
      "metadata": {
        "id": "VMp6XJ6RUZh4"
      },
      "outputs": [],
      "source": [
        "%config InteractiveShell.ast_node_interactivity = \"last_expr_or_assign\""
      ]
    },
    {
      "cell_type": "code",
      "execution_count": 52,
      "metadata": {
        "colab": {
          "base_uri": "https://localhost:8080/",
          "height": 409
        },
        "id": "E5YFdqKjUZh5",
        "outputId": "fe67d113-f369-495f-9aba-201c71058eb7"
      },
      "outputs": [
        {
          "data": {
            "image/png": "[encoded data removed]",
            "text/plain": [
              "<Figure size 1200x400 with 3 Axes>"
            ]
          },
          "metadata": {},
          "output_type": "display_data"
        }
      ],
      "source": [
        "# Plotting the histograms of rho, vx and epsilon\n",
        "plt.figure(figsize=(12, 4))\n",
        "plt.subplot(1, 3, 1)\n",
        "plt.hist(rho_train, bins=20)\n",
        "plt.xlabel(\"rho\")\n",
        "plt.ylabel(\"Frequency\")\n",
        "#plt.yscale(\"log\")\n",
        "plt.subplot(1, 3, 2)\n",
        "plt.hist(vx_train, bins=20)\n",
        "plt.xlabel(\"vx\")\n",
        "plt.ylabel(\"Frequency\")\n",
        "#plt.yscale(\"log\")\n",
        "plt.subplot(1, 3, 3)\n",
        "plt.hist(epsilon_train, bins=20)\n",
        "plt.xlabel(\"epsilon\")\n",
        "plt.ylabel(\"Frequency\")\n",
        "#plt.yscale(\"log\")\n",
        "plt.suptitle(\"Primitive variables\")\n",
        "plt.tight_layout()\n",
        "plt.show()\n",
        "\n"
      ]
    },
    {
      "cell_type": "code",
      "execution_count": 19,
      "metadata": {
        "colab": {
          "base_uri": "https://localhost:8080/"
        },
        "id": "7ubtOXVgUZh6",
        "outputId": "02dfd20b-5550-4df4-a1c9-e45c8fa0d570"
      },
      "outputs": [
        {
          "ename": "IndexError",
          "evalue": "Dimension out of range (expected to be in range of [-2, 1], but got 2)",
          "output_type": "error",
          "traceback": [
            "\u001b[1;31m---------------------------------------------------------------------------\u001b[0m",
            "\u001b[1;31mIndexError\u001b[0m                                Traceback (most recent call last)",
            "Cell \u001b[1;32mIn[19], line 2\u001b[0m\n\u001b[0;32m      1\u001b[0m \u001b[39m# Generating the input and output data for train and test sets.\u001b[39;00m\n\u001b[1;32m----> 2\u001b[0m x_train \u001b[39m=\u001b[39m generate_input_data(rho_train, v_train, epsilon_train)\n\u001b[0;32m      3\u001b[0m y_train \u001b[39m=\u001b[39m generate_labels(rho_train, epsilon_train) \n\u001b[0;32m      4\u001b[0m x_test \u001b[39m=\u001b[39m generate_input_data(rho_test, v_test, epsilon_test) \n",
            "Cell \u001b[1;32mIn[17], line 95\u001b[0m, in \u001b[0;36mgenerate_input_data\u001b[1;34m(rho, v, epsilon)\u001b[0m\n\u001b[0;32m     92\u001b[0m D, S, tau \u001b[39m=\u001b[39m compute_conserved_variables(rho, v, epsilon)\n\u001b[0;32m     94\u001b[0m \u001b[39m# Stacking the conserved variables into a torch tensor\u001b[39;00m\n\u001b[1;32m---> 95\u001b[0m x \u001b[39m=\u001b[39m torch\u001b[39m.\u001b[39mcat([D\u001b[39m.\u001b[39munsqueeze(\u001b[39m1\u001b[39m), S\u001b[39m.\u001b[39;49msqueeze(\u001b[39m2\u001b[39;49m), tau\u001b[39m.\u001b[39munsqueeze(\u001b[39m1\u001b[39m)], axis\u001b[39m=\u001b[39m\u001b[39m-\u001b[39m\u001b[39m1\u001b[39m)\n\u001b[0;32m     97\u001b[0m \u001b[39m# Returning the input data tensor\u001b[39;00m\n\u001b[0;32m     98\u001b[0m \u001b[39mreturn\u001b[39;00m x\n",
            "\u001b[1;31mIndexError\u001b[0m: Dimension out of range (expected to be in range of [-2, 1], but got 2)"
          ]
        }
      ],
      "source": [
        "\n",
        "# Generating the input and output data for train and test sets.\n",
        "x_train = generate_input_data(rho_train, v_train, epsilon_train)\n",
        "y_train = generate_labels(rho_train, epsilon_train) \n",
        "x_test = generate_input_data(rho_test, v_test, epsilon_test) \n",
        "y_test = generate_labels(rho_test, epsilon_test) \n"
      ]
    },
    {
      "cell_type": "code",
      "execution_count": 54,
      "metadata": {
        "colab": {
          "base_uri": "https://localhost:8080/",
          "height": 409
        },
        "id": "cKuXjtQdUZh6",
        "outputId": "9a4ff384-4b3a-4821-fe27-865a41931fe9"
      },
      "outputs": [
        {
          "data": {
            "image/png": "[encoded data removed]",
            "text/plain": [
              "<Figure size 1200x400 with 3 Axes>"
            ]
          },
          "metadata": {},
          "output_type": "display_data"
        }
      ],
      "source": [
        "# Plotting the histograms of the input data before normalization\n",
        "plt.figure(figsize=(12, 4))\n",
        "plt.subplot(1, 3, 1)\n",
        "plt.hist(x_train[:, 0].cpu().numpy(), bins=20)\n",
        "plt.xlabel(\"D\")\n",
        "plt.ylabel(\"Frequency\")\n",
        "plt.yscale(\"log\")\n",
        "plt.subplot(1, 3, 2)\n",
        "plt.hist(x_train[:, 1].cpu().numpy(), bins=20)\n",
        "plt.xlabel(\"Sx\")\n",
        "plt.ylabel(\"Frequency\")\n",
        "plt.yscale(\"log\")\n",
        "plt.subplot(1, 3, 3)\n",
        "plt.hist(x_train[:, 2].cpu().numpy(), bins=20)\n",
        "plt.xlabel(\"tau\")\n",
        "plt.ylabel(\"Frequency\")\n",
        "plt.yscale(\"log\")\n",
        "plt.suptitle(\"Input data before normalization\")\n",
        "plt.tight_layout()\n",
        "plt.show()\n"
      ]
    },
    {
      "cell_type": "markdown",
      "metadata": {
        "id": "xTEmkR1SUZh7"
      },
      "source": [
        "Perform z-score normalization"
      ]
    },
    {
      "cell_type": "code",
      "execution_count": 55,
      "metadata": {
        "id": "yPOv6DxhUZh7"
      },
      "outputs": [],
      "source": [
        "if ZSCORE_NORMALIZATION:\n",
        "    # Computing the mean and standard deviation of each input variable from the training set\n",
        "    D_mean = torch.mean(x_train[:, 0])\n",
        "    D_std = torch.std(x_train[:, 0])\n",
        "    Sx_mean = torch.mean(x_train[:, 1])\n",
        "    Sx_std = torch.std(x_train[:, 1])\n",
        "    tau_mean = torch.mean(x_train[:, 2])\n",
        "    tau_std = torch.std(x_train[:, 2])\n",
        "\n",
        "    # Applying z-score normalization to both train and test sets using the statistics from the training set\n",
        "    x_train[:, 0] = torch.sub(x_train[:, 0], D_mean).div(D_std)\n",
        "    x_train[:, 1] = torch.sub(x_train[:, 1], Sx_mean).div(Sx_std)\n",
        "    x_train[:, 2] = torch.sub(x_train[:, 2], tau_mean).div(tau_std)\n",
        "    x_test[:, 0] = torch.sub(x_test[:, 0], D_mean).div(D_std)\n",
        "    x_test[:, 1] = torch.sub(x_test[:, 1], Sx_mean).div(Sx_std)\n",
        "    x_test[:, 2] = torch.sub(x_test[:, 2], tau_mean).div(tau_std)\n"
      ]
    },
    {
      "cell_type": "code",
      "execution_count": 56,
      "metadata": {
        "colab": {
          "base_uri": "https://localhost:8080/",
          "height": 514
        },
        "id": "1quCkALiUZh8",
        "outputId": "8a152cbe-5cf4-4990-cfad-c0b62a3a4fc9"
      },
      "outputs": [
        {
          "name": "stdout",
          "output_type": "stream",
          "text": [
            "tensor(5.6259, device='cuda:0')\n",
            "tensor(3.3305, device='cuda:0')\n",
            "tensor(6.8267, device='cuda:0')\n",
            "tensor(8.0801, device='cuda:0')\n",
            "tensor(8.0068, device='cuda:0')\n",
            "tensor(7.8406, device='cuda:0')\n"
          ]
        },
        {
          "data": {
            "image/png": "[encoded data removed]",
            "text/plain": [
              "<Figure size 1200x400 with 3 Axes>"
            ]
          },
          "metadata": {},
          "output_type": "display_data"
        }
      ],
      "source": [
        "\n",
        "# Verifying that the means and the stds of the input data are close to 0 and 1 respectively.\n",
        "print(torch.mean(x_train[:, 0]))\n",
        "print(torch.std(x_train[:, 0]))\n",
        "print(torch.mean(x_train[:, 1]))\n",
        "print(torch.std(x_train[:, 1]))\n",
        "print(torch.mean(x_train[:, 2]))\n",
        "print(torch.std(x_train[:, 2]))\n",
        "\n",
        "# Plotting the histograms of the input data after normalization\n",
        "plt.figure(figsize=(12, 4))\n",
        "plt.subplot(1, 3, 1)\n",
        "plt.hist(x_train[:, 0].cpu().numpy(), bins=20)\n",
        "plt.xlabel(\"D\")\n",
        "plt.ylabel(\"Frequency\")\n",
        "plt.yscale(\"log\")\n",
        "plt.subplot(1, 3, 2)\n",
        "plt.hist(x_train[:, 1].cpu().numpy(), bins=20)\n",
        "plt.xlabel(\"Sx\")\n",
        "plt.ylabel(\"Frequency\")\n",
        "plt.yscale(\"log\")\n",
        "plt.subplot(1, 3, 3)\n",
        "plt.hist(x_train[:, 2].cpu().numpy(), bins=20)\n",
        "plt.xlabel(\"tau\")\n",
        "plt.ylabel(\"Frequency\")\n",
        "plt.yscale(\"log\")\n",
        "plt.suptitle(\"Input data after normalization\")\n",
        "plt.tight_layout()\n",
        "plt.show()\n"
      ]
    },
    {
      "cell_type": "code",
      "execution_count": 57,
      "metadata": {
        "colab": {
          "base_uri": "https://localhost:8080/",
          "height": 407
        },
        "id": "E96p_MsOUZh9",
        "outputId": "4b95bad0-8f3a-4364-eed1-008e0ce2a5e3"
      },
      "outputs": [
        {
          "data": {
            "image/png": "[encoded data removed]",
            "text/plain": [
              "<Figure size 800x400 with 2 Axes>"
            ]
          },
          "metadata": {},
          "output_type": "display_data"
        }
      ],
      "source": [
        "# Checking if our output is always positive by plotting a histogram of y_train and y_test tensors \n",
        "plt.figure(figsize=(8, 4))\n",
        "plt.subplot(1, 2, 1)\n",
        "plt.hist(y_train.cpu().numpy(), bins=20) # must be cpu here.\n",
        "plt.xlabel(\"y_train\")\n",
        "plt.ylabel(\"Frequency\")\n",
        "plt.yscale(\"log\")\n",
        "plt.subplot(1, 2, 2)\n",
        "plt.hist(y_test.cpu().numpy(), bins=20) # must be cpu here\n",
        "plt.xlabel(\"y_test\")\n",
        "plt.ylabel(\"Frequency\")\n",
        "plt.yscale(\"log\")\n",
        "plt.tight_layout()\n",
        "plt.show()\n"
      ]
    },
    {
      "cell_type": "code",
      "execution_count": 58,
      "metadata": {
        "id": "FEgjk--AUZh9"
      },
      "outputs": [],
      "source": [
        "%config InteractiveShell.ast_node_interactivity = \"all\""
      ]
    },
    {
      "cell_type": "markdown",
      "metadata": {
        "id": "r2b9GecHUZh9"
      },
      "source": [
        "## Defining the neural network"
      ]
    },
    {
      "cell_type": "code",
      "execution_count": 9,
      "metadata": {
        "id": "Iv8HA-ZXUZh-"
      },
      "outputs": [],
      "source": [
        "# Defining a class for the network\n",
        "class Net(nn.Module):\n",
        "    \"\"\"A class for creating a network with a\n",
        "    variable number of hidden layers and units.\n",
        "\n",
        "    Attributes:\n",
        "        n_layers (int): The number of hidden layers in the network.\n",
        "        n_units (list): A list of integers representing the number of units in each hidden layer.\n",
        "        hidden_activation (torch.nn.Module): The activation function for the hidden layers.\n",
        "        output_activation (torch.nn.Module): The activation function for the output layer.\n",
        "        layers (torch.nn.ModuleList): A list of linear layers in the network.\n",
        "    \"\"\"\n",
        "\n",
        "    def __init__(self, n_layers, n_units, hidden_activation, output_activation):\n",
        "        \"\"\"Initializes the network with the given hyperparameters.\n",
        "\n",
        "        Args:\n",
        "            n_layers (int): The number of hidden layers in the network.\n",
        "            n_units (list): A list of integers representing the number of units in each hidden layer.\n",
        "            hidden_activation (torch.nn.Module): The activation function for the hidden layers.\n",
        "            output_activation (torch.nn.Module): The activation function for the output layer.\n",
        "        \"\"\"\n",
        "        super().__init__()\n",
        "        self.n_layers = n_layers\n",
        "        self.n_units = n_units\n",
        "        self.hidden_activation = hidden_activation\n",
        "        self.output_activation = output_activation\n",
        "\n",
        "        # Creating a list of linear layers with different numbers of units for each layer\n",
        "        self.layers = nn.ModuleList([nn.Linear(3, n_units[0])])\n",
        "        for i in range(1, n_layers):\n",
        "            self.layers.append(nn.Linear(n_units[i - 1], n_units[i]))\n",
        "        self.layers.append(nn.Linear(n_units[-1], 1))\n",
        "\n",
        "        # Adding some assertions to check that the input arguments are valid\n",
        "        assert isinstance(n_layers, int) and n_layers > 0, \"n_layers must be a positive integer\"\n",
        "        assert isinstance(n_units, list) and len(n_units) == n_layers, \"n_units must be a list of length n_layers\"\n",
        "        assert all(isinstance(n, int) and n > 0 for n in n_units), \"n_units must contain positive integers\"\n",
        "        assert isinstance(hidden_activation, nn.Module), \"hidden_activation must be a torch.nn.Module\"\n",
        "        assert isinstance(output_activation, nn.Module), \"output_activation must be a torch.nn.Module\"\n",
        "\n",
        "    def forward(self, x):\n",
        "        \"\"\"Performs a forward pass on the input tensor.\n",
        "\n",
        "        Args:\n",
        "            x (torch.Tensor): The input tensor of shape (batch_size, 3).\n",
        "\n",
        "        Returns:\n",
        "            torch.Tensor: The output tensor of shape (batch_size, 1).\n",
        "        \"\"\"\n",
        "        # Looping over the hidden layers and applying the linear transformation and the activation function\n",
        "        for layer in self.layers[:-1]:\n",
        "            x = self.hidden_activation(layer(x))\n",
        "        # Applying the linear transformation and the activation function on the output layer\n",
        "        x = self.output_activation(self.layers[-1](x))\n",
        "\n",
        "        # Returning the output tensor\n",
        "        return x"
      ]
    },
    {
      "cell_type": "markdown",
      "metadata": {
        "id": "6GNvp55PUZh_"
      },
      "source": [
        "## Defining the model and search space"
      ]
    },
    {
      "cell_type": "code",
      "execution_count": 60,
      "metadata": {
        "id": "9a1opluOUZh_"
      },
      "outputs": [],
      "source": [
        "# Defining a function to create a trial network and optimizer\n",
        "def create_model(trial, optimize):\n",
        "    \"\"\"Creates a trial network and optimizer based on the sampled hyperparameters.\n",
        "\n",
        "    Args:\n",
        "        trial (optuna.trial.Trial): The trial object that contains the hyperparameters.\n",
        "        optimize (boolean): Whether to optimize the hyperparameters or to use predefined values.\n",
        "\n",
        "    Returns:\n",
        "        tuple: A tuple of (net, loss_fn, optimizer, batch_size, n_epochs,\n",
        "            scheduler, loss_name, optimizer_name, scheduler_name,\n",
        "            n_units, n_layers, hidden_activation, output_activation),\n",
        "            where net is the trial network,\n",
        "            loss_fn is the loss function,\n",
        "            optimizer is the optimizer,\n",
        "            batch_size is the batch size,\n",
        "            n_epochs is the number of epochs,\n",
        "            scheduler is the learning rate scheduler,\n",
        "            loss_name is the name of the loss function,\n",
        "            optimizer_name is the name of the optimizer,\n",
        "            scheduler_name is the name of the scheduler,\n",
        "            n_units is a list of integers representing\n",
        "            the number of units in each hidden layer,\n",
        "            n_layers is an integer representing the number of hidden layers in the network,\n",
        "            hidden_activation is a torch.nn.Module representing the activation function for the hidden layers,\n",
        "            output_activation is a torch.nn.Module representing the activation function for the output layer,\n",
        "            lr is the (initial) learning rate.\n",
        "    \"\"\"\n",
        "    # If optimize is True, sample the hyperparameters from the search space\n",
        "    if optimize:\n",
        "        # Sampling the hyperparameters from the search space\n",
        "        n_layers = trial.suggest_int(\"n_layers\", 1, 5)\n",
        "        n_units = [trial.suggest_int(f\"n_units_{i}\", 16, 1048) for i in range(n_layers)] \n",
        "        hidden_activation_name = trial.suggest_categorical(\n",
        "            \"hidden_activation\", [\"ReLU\", \"LeakyReLU\", \"ELU\", \"Tanh\", \"Sigmoid\"]\n",
        "        )\n",
        "        output_activation_name = trial.suggest_categorical(\n",
        "            #\"output_activation\", [\"Linear\", \"ReLU\", \"Softplus\"]\n",
        "            # Assuming pressure cannot be negative, linear output activation is not an option.\n",
        "            \"output_activation\", [\"ReLU\", \"Softplus\"]\n",
        "        ) \n",
        "        loss_name = trial.suggest_categorical(\n",
        "            #\"loss\", [\"MSE\", \"MAE\", \"Huber\", \"LogCosh\"] \n",
        "            \"loss\", [\"MSE\", \"MAE\", \"Huber\"] \n",
        "        )\n",
        "        optimizer_name = trial.suggest_categorical(\n",
        "            \"optimizer\", [\"Adam\", \"SGD\", \"RMSprop\", \"Adagrad\"] \n",
        "        )\n",
        "        lr = trial.suggest_loguniform(\"lr\", 1e-4, 1e-2) \n",
        "        batch_size = trial.suggest_int(\"batch_size\", 16, 512)\n",
        "        n_epochs = trial.suggest_int(\"n_epochs\", 50, 200) \n",
        "        scheduler_name = trial.suggest_categorical(\n",
        "            \"scheduler\",\n",
        "            [\"None\", \"CosineAnnealingLR\", \"ReduceLROnPlateau\", \"StepLR\", \"ExponentialLR\"],\n",
        "        )\n",
        "\n",
        "    # If optimize is False, use the predefined values\n",
        "    else:\n",
        "        # Setting the hyperparameters to the predefined values\n",
        "        n_layers = N_LAYERS_NO_OPT\n",
        "        n_units = N_UNITS_NO_OPT\n",
        "        hidden_activation_name = HIDDEN_ACTIVATION_NAME_NO_OPT\n",
        "        output_activation_name = OUTPUT_ACTIVATION_NAME_NO_OPT\n",
        "        loss_name = LOSS_NAME_NO_OPT\n",
        "        optimizer_name = OPTIMIZER_NAME_NO_OPT\n",
        "        lr = LR_NO_OPT\n",
        "        batch_size = BATCH_SIZE_NO_OPT\n",
        "        n_epochs = N_EPOCHS_NO_OPT\n",
        "        scheduler_name = SCHEDULER_NAME_NO_OPT\n",
        "\n",
        "\n",
        "    # Creating the activation functions from their names\n",
        "    if hidden_activation_name == \"ReLU\":\n",
        "        hidden_activation = nn.ReLU()\n",
        "    elif hidden_activation_name == \"LeakyReLU\":\n",
        "        hidden_activation = nn.LeakyReLU() \n",
        "    elif hidden_activation_name == \"ELU\":\n",
        "        hidden_activation = nn.ELU() \n",
        "    elif hidden_activation_name == \"Tanh\":\n",
        "        hidden_activation = nn.Tanh()\n",
        "    else:\n",
        "        hidden_activation = nn.Sigmoid()\n",
        "\n",
        "    if output_activation_name == \"ReLU\":\n",
        "        output_activation = nn.ReLU()\n",
        "    elif output_activation_name == \"Softplus\":\n",
        "        output_activation = nn.Softplus()\n",
        "    else:\n",
        "        output_activation = nn.Identity()\n",
        "\n",
        "    # Creating the loss function from its name\n",
        "    if loss_name == \"MSE\":\n",
        "        loss_fn = nn.MSELoss()\n",
        "    elif loss_name == \"MAE\":\n",
        "        loss_fn = nn.L1Loss()\n",
        "    elif loss_name == \"Huber\":\n",
        "        loss_fn = nn.SmoothL1Loss() \n",
        "    else:\n",
        "        # Creating the log-cosh loss function\n",
        "        def log_cosh_loss(y_pred, y_true):\n",
        "            return torch.mean(torch.log(torch.cosh(y_pred - y_true)))\n",
        "            \n",
        "        loss_fn = log_cosh_loss\n",
        "\n",
        "    # Creating the network with the sampled hyperparameters\n",
        "    net = Net(\n",
        "        n_layers, n_units, hidden_activation, output_activation\n",
        "    ).to(device)\n",
        "\n",
        "    if optimize:\n",
        "        # Creating the optimizer from its name\n",
        "        if optimizer_name == \"SGD\":\n",
        "            # Added sampling the weight decay and momentum for SGD\n",
        "            weight_decay = trial.suggest_loguniform(\"weight_decay\", 1e-5, 1e-2)\n",
        "            momentum = trial.suggest_uniform(\"momentum\", 0.0, 0.99)\n",
        "            optimizer = optim.SGD(net.parameters(), lr=lr, weight_decay=weight_decay, momentum=momentum)\n",
        "        elif optimizer_name == \"Adam\":\n",
        "            # Added sampling the weight decay and beta parameters for Adam\n",
        "            weight_decay = trial.suggest_loguniform(\"weight_decay\", 1e-5, 1e-2)\n",
        "            beta1 = trial.suggest_uniform(\"beta1\", 0.5, 0.99)\n",
        "            beta2 = trial.suggest_uniform(\"beta2\", 0.9, 0.999)\n",
        "            optimizer = optim.Adam(net.parameters(), lr=lr, weight_decay=weight_decay, betas=(beta1, beta2))\n",
        "        elif optimizer_name == \"RMSprop\":\n",
        "            optimizer = optim.RMSprop(net.parameters(), lr=lr)\n",
        "        else:\n",
        "            # Added creating the Adagrad optimizer\n",
        "            optimizer = optim.Adagrad(net.parameters(), lr=lr)\n",
        "\n",
        "        # Creating the learning rate scheduler from its name\n",
        "        if scheduler_name == \"StepLR\":\n",
        "            # Added sampling the step_size and gamma for StepLR\n",
        "            step_size = trial.suggest_int(\"step_size\", 5, 15)\n",
        "            gamma = trial.suggest_uniform(\"gamma\", 0.05, 0.5)\n",
        "            scheduler = optim.lr_scheduler.StepLR(optimizer, step_size=step_size, gamma=gamma)\n",
        "        elif scheduler_name == \"ExponentialLR\":\n",
        "            # Added sampling the gamma for ExponentialLR\n",
        "            gamma = trial.suggest_uniform(\"gamma\", 0.8, 0.99)\n",
        "            scheduler = optim.lr_scheduler.ExponentialLR(optimizer, gamma=gamma)\n",
        "        elif scheduler_name == \"CosineAnnealingLR\":\n",
        "            # Added sampling the T_max for CosineAnnealingLR\n",
        "            T_max = trial.suggest_int(\"T_max\", 5, 15)\n",
        "            scheduler = optim.lr_scheduler.CosineAnnealingLR(optimizer, T_max=T_max)\n",
        "        elif scheduler_name == \"ReduceLROnPlateau\":\n",
        "            # Added sampling the factor, patience and threshold for ReduceLROnPlateau\n",
        "            factor = trial.suggest_uniform(\"factor\", 0.1, 0.9)\n",
        "            patience = trial.suggest_int(\"patience\", 5, 15)\n",
        "            threshold = trial.suggest_loguniform(\"threshold\", 1e-4, 1e-2)\n",
        "            scheduler = optim.lr_scheduler.ReduceLROnPlateau(\n",
        "                optimizer, mode=\"min\", factor=factor, patience=patience, threshold=threshold\n",
        "            )\n",
        "        # # Added using OneCycleLR scheduler as an option\n",
        "        # elif scheduler_name == \"OneCycleLR\":\n",
        "        #         # Added sampling the max_lr and pct_start for OneCycleLR\n",
        "        #         max_lr = trial.suggest_loguniform(\"max_lr\", lr, 10 * lr) \n",
        "        #         pct_start = trial.suggest_uniform(\"pct_start\", 0.1, 0.9)\n",
        "        #         scheduler = optim.lr_scheduler.OneCycleLR(\n",
        "        #             optimizer,\n",
        "        #             max_lr=max_lr,\n",
        "        #             epochs=n_epochs,\n",
        "        #             steps_per_epoch=len(train_loader),\n",
        "        #             pct_start=pct_start,\n",
        "        #         )\n",
        "        else:\n",
        "            scheduler = None\n",
        "    else:\n",
        "        # Creating the optimizer from its name\n",
        "        if optimizer_name == \"SGD\":\n",
        "            optimizer = optim.SGD(net.parameters(), lr=lr)\n",
        "        elif optimizer_name == \"Adam\":\n",
        "            optimizer = optim.Adam(net.parameters(), lr=lr)\n",
        "        elif optimizer_name == \"RMSprop\":\n",
        "            optimizer = optim.RMSprop(net.parameters(), lr=lr)\n",
        "        else:\n",
        "            # Added creating the Adagrad optimizer\n",
        "            optimizer = optim.Adagrad(net.parameters(), lr=lr)\n",
        "\n",
        "        # Creating the learning rate scheduler from its name\n",
        "        if scheduler_name == \"StepLR\":\n",
        "            scheduler = optim.lr_scheduler.StepLR(optimizer, step_size=10, gamma=0.1)\n",
        "        elif scheduler_name == \"ExponentialLR\":\n",
        "            scheduler = optim.lr_scheduler.ExponentialLR(optimizer, gamma=0.9)\n",
        "        elif scheduler_name == \"CosineAnnealingLR\":\n",
        "            # Added creating the CosineAnnealingLR scheduler\n",
        "            scheduler = optim.lr_scheduler.CosineAnnealingLR(optimizer, T_max=15)\n",
        "        elif scheduler_name == \"ReduceLROnPlateau\":\n",
        "            # Added creating the ReduceLROnPlateau scheduler\n",
        "            # Creating the ReduceLROnPlateau scheduler with a threshold value of 0.01\n",
        "            #scheduler = optim.lr_scheduler.ReduceLROnPlateau(\n",
        "            #    optimizer, mode=\"min\", factor=0.1, patience=10, threshold=0.01\n",
        "            #)\n",
        "            # Use Dieseldorst et al. settings and add to that a minimum lr.\n",
        "            scheduler = optim.lr_scheduler.ReduceLROnPlateau(\n",
        "                        optimizer, mode=\"min\", factor=0.18979341786654758, patience=11, threshold=0.0017197466122611932 #, min_lr=1e-6\n",
        "                    )\n",
        "        else:\n",
        "            scheduler = None\n",
        "#Best trial:\n",
        "#  Value:  0.00270861783316941\n",
        "#  Params: \n",
        "#    n_layers: 3\n",
        "#    n_units_0: 555\n",
        "#    n_units_1: 458\n",
        "#    n_units_2: 115\n",
        "#    hidden_activation: ReLU\n",
        "#    output_activation: ReLU\n",
        "#    loss: Huber\n",
        "#    optimizer: RMSprop\n",
        "#    lr: 0.000122770896701404\n",
        "#    batch_size: 49\n",
        "#    n_epochs: 152\n",
        "#    scheduler: ReduceLROnPlateau\n",
        "#    factor: 0.18979341786654758\n",
        "#    patience: 11\n",
        "#    threshold: 0.0017197466122611932\n",
        "\n",
        "\n",
        "    # Returning all variables needed for saving and loading\n",
        "    return net, loss_fn, optimizer, batch_size, n_epochs, scheduler, loss_name, optimizer_name, scheduler_name, n_units, n_layers, hidden_activation, output_activation, lr\n",
        "\n"
      ]
    },
    {
      "cell_type": "markdown",
      "metadata": {
        "id": "l-czA7VvUZiD"
      },
      "source": [
        " ## The training and evaluation loop\n",
        "\n",
        " We first define a couple of functions used in the training and evaluation."
      ]
    },
    {
      "cell_type": "code",
      "execution_count": 61,
      "metadata": {
        "id": "aD6FQNmxUZiD"
      },
      "outputs": [],
      "source": [
        "# Defining a function that computes loss and metrics for a given batch\n",
        "def compute_loss_and_metrics(y_pred, y_true, loss_fn):\n",
        "    \"\"\"Computes loss and metrics for a given batch.\n",
        "\n",
        "    Args:\n",
        "        y_pred (torch.Tensor): The predicted pressure tensor of shape (batch_size, 1).\n",
        "        y_true (torch.Tensor): The true pressure tensor of shape (batch_size,).\n",
        "        loss_fn (torch.nn.Module or function): The loss function to use.\n",
        "\n",
        "    Returns:\n",
        "        tuple: A tuple of (loss, l1_norm), where loss is a scalar tensor,\n",
        "            l1_norm is L1 norm for relative error of pressure,\n",
        "            each being a scalar tensor.\n",
        "            linf_norm is Linf norm for relative error of pressure.\n",
        "    \"\"\"\n",
        "    # Reshaping the target tensor to match the input tensor\n",
        "    y_true = y_true.view(-1, 1)\n",
        "\n",
        "    # Computing the loss using the loss function\n",
        "    loss = loss_fn(y_pred, y_true)\n",
        "\n",
        "    # Computing the relative error of pressure\n",
        "    rel_error = torch.abs((y_pred - y_true) / y_true)\n",
        "\n",
        "    # Computing the L1 norm for the relative error of pressure\n",
        "    l1_norm = torch.mean(rel_error) \n",
        "    # Computing the Linf norm for the relative error of pressure\n",
        "    linf_norm = torch.max(rel_error) \n",
        "\n",
        "    # Returning the loss and metrics\n",
        "    return loss, l1_norm, linf_norm\n",
        "\n",
        "\n",
        "# Defining a function that updates the learning rate scheduler with validation loss if applicable\n",
        "def update_scheduler(scheduler, test_loss):\n",
        "    \"\"\"Updates the learning rate scheduler with validation loss if applicable.\n",
        "\n",
        "    Args:\n",
        "        scheduler (torch.optim.lr_scheduler._LRScheduler or None): The learning rate scheduler to use.\n",
        "        test_loss (float): The validation loss to use.\n",
        "\n",
        "    Returns:\n",
        "        None\n",
        "    \"\"\"\n",
        "    # Checking if scheduler is not None\n",
        "    if scheduler is not None:\n",
        "        # Checking if scheduler is ReduceLROnPlateau\n",
        "        if isinstance(scheduler, optim.lr_scheduler.ReduceLROnPlateau):\n",
        "            # Updating the scheduler with test_loss\n",
        "            scheduler.step(test_loss)\n",
        "        else:\n",
        "            # Updating the scheduler without test_loss\n",
        "            scheduler.step()\n"
      ]
    },
    {
      "cell_type": "markdown",
      "metadata": {
        "id": "w1nE662UUZiE"
      },
      "source": [
        "Now for the actual training and evaluation loop,"
      ]
    },
    {
      "cell_type": "code",
      "execution_count": 62,
      "metadata": {
        "id": "YAOjgKW3UZiF"
      },
      "outputs": [],
      "source": [
        "# Defining a function to train and evaluate a network\n",
        "def train_and_eval(net, loss_fn, optimizer, batch_size, n_epochs, scheduler, trial=None):\n",
        "    \"\"\"Trains and evaluates a network.\n",
        "\n",
        "    Args:\n",
        "        net (torch.nn.Module): The network to train and evaluate.\n",
        "        loss_fn (torch.nn.Module or function): The loss function.\n",
        "        optimizer (torch.optim.Optimizer): The optimizer.\n",
        "        batch_size (int): The batch size.\n",
        "        n_epochs (int): The number of epochs.\n",
        "        scheduler (torch.optim.lr_scheduler._LRScheduler or None): The learning rate scheduler.\n",
        "    Returns:\n",
        "        tuple: A tuple of (train_losses, test_losses, train_metrics, test_metrics), where\n",
        "            train_losses is a list of training losses for each epoch,\n",
        "            test_losses is a list of validation losses for each epoch,\n",
        "            train_metrics is a list of dictionaries containing training metrics for each epoch,\n",
        "            test_metrics is a list of dictionaries containing validation metrics for each epoch.\n",
        "    \"\"\"\n",
        "    # Creating data loaders for train and test sets\n",
        "    train_loader = torch.utils.data.DataLoader(\n",
        "        torch.utils.data.TensorDataset(x_train, y_train), batch_size=batch_size, shuffle=True\n",
        "    )\n",
        "    test_loader = torch.utils.data.DataLoader(\n",
        "        torch.utils.data.TensorDataset(x_test, y_test), batch_size=batch_size\n",
        "    )\n",
        "\n",
        "    # Initializing lists to store the losses and metrics for each epoch\n",
        "    train_losses = []\n",
        "    test_losses = []\n",
        "    train_metrics = []\n",
        "    test_metrics = []\n",
        "\n",
        "    # Creating a SummaryWriter object to log data for tensorboard\n",
        "    writer = tbx.SummaryWriter()\n",
        "\n",
        "    # Looping over the epochs\n",
        "    for epoch in range(n_epochs):\n",
        "\n",
        "        # Setting the network to training mode\n",
        "        net.train()\n",
        "\n",
        "        # Initializing variables to store the total loss and metrics for the train set\n",
        "        train_loss = 0.0\n",
        "        train_l1_norm = 0.0\n",
        "        train_linf_norm = 0.0\n",
        "\n",
        "        # Looping over the batches in the train set\n",
        "        for x_batch, y_batch in train_loader:\n",
        "\n",
        "            # Moving the batch tensors to the device\n",
        "            x_batch = x_batch.to(device)\n",
        "            y_batch = y_batch.to(device)\n",
        "\n",
        "            # Zeroing the gradients\n",
        "            optimizer.zero_grad()\n",
        "\n",
        "            # Performing a forward pass and computing the loss and metrics\n",
        "            y_pred = net(x_batch)\n",
        "            loss, l1_norm, linf_norm = compute_loss_and_metrics(\n",
        "                y_pred, y_batch, loss_fn\n",
        "            )\n",
        "\n",
        "\n",
        "            # Performing a backward pass and updating the weights\n",
        "            loss.backward()\n",
        "            optimizer.step()\n",
        "\n",
        "            # Updating the total loss and metrics for the train set\n",
        "            train_loss += loss.item() * x_batch.size(0)\n",
        "            train_l1_norm += l1_norm.item() * x_batch.size(0)\n",
        "            train_linf_norm += linf_norm.item() * x_batch.size(0)\n",
        "\n",
        "        # Computing the average loss and metrics for the train set\n",
        "        train_loss /= len(train_loader.dataset)\n",
        "        train_l1_norm /= len(train_loader.dataset)\n",
        "        train_linf_norm /= len(train_loader.dataset)\n",
        "\n",
        "        # Appending the average loss and metrics for the train set to the lists\n",
        "        train_losses.append(train_loss)\n",
        "        train_metrics.append(\n",
        "            {\n",
        "                \"l1_norm\": train_l1_norm,\n",
        "                \"linf_norm\": train_linf_norm,\n",
        "            }\n",
        "        )\n",
        "\n",
        "        # Logging the average loss and metrics for the train set to tensorboard\n",
        "        writer.add_scalar(\"Loss/train\", train_loss, epoch)\n",
        "        writer.add_scalar(\"L1 norm/train\", train_l1_norm, epoch)\n",
        "        writer.add_scalar(\"Linf norm/train\", train_linf_norm, epoch)\n",
        "\n",
        "        # Setting the network to evaluation mode\n",
        "        net.eval()\n",
        "\n",
        "        # Initializing variables to store the total loss and metrics for the test set\n",
        "        test_loss = 0.0\n",
        "        test_l1_norm = 0.0\n",
        "        test_linf_norm = 0.0\n",
        "\n",
        "        # Looping over the batches in the test set\n",
        "        with torch.no_grad():\n",
        "            for x_batch, y_batch in test_loader:\n",
        "\n",
        "                # Moving the batch tensors to the device\n",
        "                x_batch = x_batch.to(device)\n",
        "                y_batch = y_batch.to(device)\n",
        "\n",
        "                # Performing a forward pass and computing the loss and metrics\n",
        "                y_pred = net(x_batch)\n",
        "                loss, l1_norm, linf_norm = compute_loss_and_metrics(\n",
        "                    y_pred, y_batch, loss_fn\n",
        "                )\n",
        "\n",
        "\n",
        "                # Updating the total loss and metrics for the test set\n",
        "                test_loss += loss.item() * x_batch.size(0)\n",
        "                test_l1_norm += l1_norm.item() * x_batch.size(0)\n",
        "                test_linf_norm += linf_norm.item() * x_batch.size(0)\n",
        "\n",
        "        # Computing the average loss and metrics for the test set\n",
        "        test_loss /= len(test_loader.dataset)\n",
        "        test_l1_norm /= len(test_loader.dataset)\n",
        "        test_linf_norm /= len(test_loader.dataset)\n",
        "\n",
        "        # Appending the average loss and metrics for the test set to the lists\n",
        "        test_losses.append(test_loss)\n",
        "        test_metrics.append(\n",
        "            {\n",
        "                \"l1_norm\": test_l1_norm,\n",
        "                \"linf_norm\": test_linf_norm,\n",
        "            }\n",
        "        )\n",
        "\n",
        "        # Logging the average loss and metrics for the test set to tensorboard\n",
        "        writer.add_scalar(\"Loss/test\", test_loss, epoch)\n",
        "        writer.add_scalar(\"L1 norm/test\", test_l1_norm, epoch)\n",
        "        writer.add_scalar(\"Linf norm/test\", test_linf_norm, epoch)\n",
        "\n",
        "        # Printing the average loss and metrics for both sets for this epoch\n",
        "        print(\n",
        "            f\"Epoch {epoch + 1}: Train Loss: {train_loss:.4f}, Test Loss: {test_loss:.4f}, \"\n",
        "            f\"Train L1 Norm: {train_l1_norm:.4f}, Test L1 Norm: {test_l1_norm:.4f}, \"\n",
        "            f\"Train Linf Norm: {train_linf_norm:.4f}, Test Linf Norm: {test_linf_norm:.4f}\"\n",
        "        )\n",
        "\n",
        "        # Updating the learning rate scheduler with validation loss if applicable\n",
        "        update_scheduler(scheduler, test_loss)\n",
        "\n",
        "        # Reporting the intermediate metric value to Optuna if trial is not None\n",
        "        if trial is not None:\n",
        "            trial.report(test_metrics[-1][\"l1_norm\"], epoch)\n",
        "\n",
        "            # Checking if the trial should be pruned based on the intermediate value if trial is not None\n",
        "            if trial.should_prune():\n",
        "                raise optuna.TrialPruned()\n",
        "\n",
        "    # Closing the SummaryWriter object\n",
        "    writer.close()\n",
        "\n",
        "    # Returning the losses and metrics lists\n",
        "    return train_losses, test_losses, train_metrics, test_metrics"
      ]
    },
    {
      "cell_type": "markdown",
      "metadata": {
        "id": "xg9jz0SvUZiQ"
      },
      "source": [
        "## The objective function and hyperparameter tuning"
      ]
    },
    {
      "cell_type": "code",
      "execution_count": 63,
      "metadata": {
        "id": "fmRncQPuUZiR"
      },
      "outputs": [],
      "source": [
        "# Defining an objective function for Optuna to minimize\n",
        "def objective(trial):\n",
        "    \"\"\"Defines an objective function for Optuna to minimize.\n",
        "\n",
        "    Args:\n",
        "        trial (optuna.trial.Trial): The trial object that contains the hyperparameters.\n",
        "\n",
        "    Returns:\n",
        "        float: The validation L1 norm to minimize.\n",
        "    \"\"\"\n",
        "    # Creating a trial network and optimizer using the create_model function\n",
        "    net, \\\n",
        "    loss_fn, \\\n",
        "    optimizer, \\\n",
        "    batch_size, \\\n",
        "    n_epochs, \\\n",
        "    scheduler, \\\n",
        "    loss_name, \\\n",
        "    optimizer_name, \\\n",
        "    scheduler_name, \\\n",
        "    n_units, \\\n",
        "    n_layers, \\\n",
        "    hidden_activation, \\\n",
        "    output_activation, \\\n",
        "    lr = create_model(trial, optimize=True)\n",
        "\n",
        "    # Training and evaluating the network using the train_and_eval function\n",
        "    _, _, _, test_metrics = train_and_eval(\n",
        "        net, loss_fn, optimizer, batch_size, n_epochs, scheduler, trial\n",
        "    )\n",
        "\n",
        "    # Returning the last validation L1 norm as the objective value to minimize\n",
        "    return test_metrics[-1][\"l1_norm\"]"
      ]
    },
    {
      "cell_type": "code",
      "execution_count": 64,
      "metadata": {
        "id": "GyES4NAyUZiS"
      },
      "outputs": [],
      "source": [
        "if OPTIMIZE:\n",
        "    # Creating a study object with Optuna with TPE sampler and median pruner \n",
        "    study = optuna.create_study(direction=\"minimize\", sampler=optuna.samplers.TPESampler(), pruner=optuna.pruners.MedianPruner())\n",
        "\n",
        "    # Running Optuna with 100 trials when we are optimizing.\n",
        "    study.optimize(objective, n_trials=N_TRIALS)\n",
        "\n",
        "    # Printing the best trial information\n",
        "    print(\"Best trial:\")\n",
        "    trial = study.best_trial\n",
        "    print(\"  Value: \", trial.value)\n",
        "    print(\"  Params: \")\n",
        "    for key, value in trial.params.items():\n",
        "        print(f\"    {key}: {value}\")\n"
      ]
    },
    {
      "cell_type": "markdown",
      "metadata": {
        "id": "jmMfE9_dUZiS"
      },
      "source": [
        "## Training the model"
      ]
    },
    {
      "cell_type": "code",
      "execution_count": 65,
      "metadata": {
        "id": "phyiHlWEUZiT"
      },
      "outputs": [],
      "source": [
        "# Creating the best network and optimizer using the best hyperparameters\n",
        "if OPTIMIZE:\n",
        "    net, \\\n",
        "    loss_fn, \\\n",
        "    optimizer, \\\n",
        "    batch_size, \\\n",
        "    n_epochs, \\\n",
        "    scheduler, \\\n",
        "    loss_name, \\\n",
        "    optimizer_name, \\\n",
        "    scheduler_name, \\\n",
        "    n_units, \\\n",
        "    n_layers, \\\n",
        "    hidden_activation, \\\n",
        "    output_activation, \\\n",
        "    lr = create_model(trial, optimize=True)\n",
        "# Creating the network with predefined hyperparameters\n",
        "else:\n",
        "    net, \\\n",
        "    loss_fn, \\\n",
        "    optimizer, \\\n",
        "    batch_size, \\\n",
        "    n_epochs, \\\n",
        "    scheduler, \\\n",
        "    loss_name, \\\n",
        "    optimizer_name, \\\n",
        "    scheduler_name, \\\n",
        "    n_units, \\\n",
        "    n_layers, \\\n",
        "    hidden_activation, \\\n",
        "    output_activation, \\\n",
        "    lr = create_model(trial=None, optimize=False)"
      ]
    },
    {
      "cell_type": "code",
      "execution_count": 66,
      "metadata": {
        "colab": {
          "base_uri": "https://localhost:8080/"
        },
        "id": "_yq-oY81UZiU",
        "outputId": "dbf2f465-bd50-4a20-8926-616c3d2157d0"
      },
      "outputs": [
        {
          "name": "stdout",
          "output_type": "stream",
          "text": [
            "loss_fn: SmoothL1Loss()\n",
            "batch_size: 49\n",
            "n_epochs: 400\n",
            "scheduler: <torch.optim.lr_scheduler.ReduceLROnPlateau object at 0x7fdf62bf8340>\n",
            "loss_name: Huber\n",
            "optimizer_name: RMSprop\n",
            "scheduler_name: ReduceLROnPlateau\n",
            "n_units: [555, 458, 115]\n",
            "n_layers: 3\n",
            "hidden_activation: ReLU()\n",
            "output_activation: ReLU()\n"
          ]
        }
      ],
      "source": [
        "print(\"loss_fn:\", loss_fn)\n",
        "print(\"batch_size:\", batch_size)\n",
        "print(\"n_epochs:\", n_epochs)\n",
        "print(\"scheduler:\", scheduler)\n",
        "print(\"loss_name:\", loss_name)\n",
        "print(\"optimizer_name:\", optimizer_name)\n",
        "print(\"scheduler_name:\", scheduler_name)\n",
        "print(\"n_units:\", n_units)\n",
        "print(\"n_layers:\", n_layers)\n",
        "print(\"hidden_activation:\", hidden_activation)\n",
        "print(\"output_activation:\", output_activation)"
      ]
    },
    {
      "cell_type": "code",
      "execution_count": 67,
      "metadata": {
        "colab": {
          "base_uri": "https://localhost:8080/"
        },
        "id": "E7aLWdZyUZiW",
        "outputId": "8fb1e8c6-5aa3-43a1-a255-712cf9396d0c"
      },
      "outputs": [
        {
          "name": "stdout",
          "output_type": "stream",
          "text": [
            "Epoch 1: Train Loss: 0.0341, Test Loss: 0.0048, Train L1 Norm: 0.1670, Test L1 Norm: 0.0480, Train Linf Norm: 5.0851, Test Linf Norm: 1.0303\n",
            "Epoch 2: Train Loss: 0.0102, Test Loss: 0.0021, Train L1 Norm: 0.0761, Test L1 Norm: 0.0478, Train Linf Norm: 2.1530, Test Linf Norm: 1.3109\n",
            "Epoch 3: Train Loss: 0.0073, Test Loss: 0.0002, Train L1 Norm: 0.0600, Test L1 Norm: 0.0498, Train Linf Norm: 1.6856, Test Linf Norm: 1.9715\n",
            "Epoch 4: Train Loss: 0.0050, Test Loss: 0.0002, Train L1 Norm: 0.0541, Test L1 Norm: 0.0787, Train Linf Norm: 1.5737, Test Linf Norm: 3.0011\n",
            "Epoch 5: Train Loss: 0.0044, Test Loss: 0.0124, Train L1 Norm: 0.0521, Test L1 Norm: 0.1748, Train Linf Norm: 1.5925, Test Linf Norm: 4.7840\n",
            "Epoch 6: Train Loss: 0.0036, Test Loss: 0.0002, Train L1 Norm: 0.0523, Test L1 Norm: 0.0250, Train Linf Norm: 1.6633, Test Linf Norm: 0.8657\n",
            "Epoch 7: Train Loss: 0.0031, Test Loss: 0.0010, Train L1 Norm: 0.0386, Test L1 Norm: 0.0501, Train Linf Norm: 1.0292, Test Linf Norm: 1.6820\n",
            "Epoch 8: Train Loss: 0.0029, Test Loss: 0.0290, Train L1 Norm: 0.0376, Test L1 Norm: 0.0880, Train Linf Norm: 1.0844, Test Linf Norm: 0.7133\n",
            "Epoch 9: Train Loss: 0.0025, Test Loss: 0.0008, Train L1 Norm: 0.0342, Test L1 Norm: 0.0503, Train Linf Norm: 0.9750, Test Linf Norm: 1.6653\n",
            "Epoch 10: Train Loss: 0.0024, Test Loss: 0.0002, Train L1 Norm: 0.0342, Test L1 Norm: 0.0630, Train Linf Norm: 0.9899, Test Linf Norm: 2.4313\n",
            "Epoch 11: Train Loss: 0.0022, Test Loss: 0.0001, Train L1 Norm: 0.0363, Test L1 Norm: 0.0236, Train Linf Norm: 1.1058, Test Linf Norm: 0.8495\n",
            "Epoch 12: Train Loss: 0.0020, Test Loss: 0.0001, Train L1 Norm: 0.0279, Test L1 Norm: 0.0219, Train Linf Norm: 0.7528, Test Linf Norm: 0.8143\n",
            "Epoch 13: Train Loss: 0.0019, Test Loss: 0.0001, Train L1 Norm: 0.0356, Test L1 Norm: 0.0170, Train Linf Norm: 1.1284, Test Linf Norm: 0.5528\n",
            "Epoch 14: Train Loss: 0.0017, Test Loss: 0.0000, Train L1 Norm: 0.0349, Test L1 Norm: 0.0090, Train Linf Norm: 1.1505, Test Linf Norm: 0.2301\n",
            "Epoch 15: Train Loss: 0.0016, Test Loss: 0.0001, Train L1 Norm: 0.0289, Test L1 Norm: 0.0441, Train Linf Norm: 0.8525, Test Linf Norm: 1.8196\n",
            "Epoch 16: Train Loss: 0.0015, Test Loss: 0.0032, Train L1 Norm: 0.0259, Test L1 Norm: 0.0573, Train Linf Norm: 0.6990, Test Linf Norm: 1.8990\n",
            "Epoch 17: Train Loss: 0.0014, Test Loss: 0.0000, Train L1 Norm: 0.0254, Test L1 Norm: 0.0317, Train Linf Norm: 0.6862, Test Linf Norm: 1.2768\n",
            "Epoch 18: Train Loss: 0.0013, Test Loss: 0.0001, Train L1 Norm: 0.0238, Test L1 Norm: 0.0104, Train Linf Norm: 0.6539, Test Linf Norm: 0.2427\n",
            "Epoch 19: Train Loss: 0.0012, Test Loss: 0.0000, Train L1 Norm: 0.0302, Test L1 Norm: 0.0220, Train Linf Norm: 0.9689, Test Linf Norm: 0.8824\n",
            "Epoch 20: Train Loss: 0.0013, Test Loss: 0.0004, Train L1 Norm: 0.0245, Test L1 Norm: 0.0155, Train Linf Norm: 0.6835, Test Linf Norm: 0.4355\n",
            "Epoch 21: Train Loss: 0.0012, Test Loss: 0.0000, Train L1 Norm: 0.0243, Test L1 Norm: 0.0156, Train Linf Norm: 0.7069, Test Linf Norm: 0.5726\n",
            "Epoch 22: Train Loss: 0.0011, Test Loss: 0.0000, Train L1 Norm: 0.0203, Test L1 Norm: 0.0173, Train Linf Norm: 0.4858, Test Linf Norm: 0.6288\n",
            "Epoch 23: Train Loss: 0.0011, Test Loss: 0.0000, Train L1 Norm: 0.0261, Test L1 Norm: 0.0183, Train Linf Norm: 0.8005, Test Linf Norm: 0.7174\n",
            "Epoch 24: Train Loss: 0.0010, Test Loss: 0.0000, Train L1 Norm: 0.0240, Test L1 Norm: 0.0139, Train Linf Norm: 0.7083, Test Linf Norm: 0.5035\n",
            "Epoch 25: Train Loss: 0.0010, Test Loss: 0.0049, Train L1 Norm: 0.0240, Test L1 Norm: 0.0426, Train Linf Norm: 0.6912, Test Linf Norm: 0.5912\n",
            "Epoch 26: Train Loss: 0.0010, Test Loss: 0.0000, Train L1 Norm: 0.0267, Test L1 Norm: 0.0179, Train Linf Norm: 0.8481, Test Linf Norm: 0.6913\n",
            "Epoch 27: Train Loss: 0.0010, Test Loss: 0.0000, Train L1 Norm: 0.0262, Test L1 Norm: 0.0160, Train Linf Norm: 0.8162, Test Linf Norm: 0.5932\n",
            "Epoch 28: Train Loss: 0.0009, Test Loss: 0.0002, Train L1 Norm: 0.0185, Test L1 Norm: 0.0210, Train Linf Norm: 0.4719, Test Linf Norm: 0.6686\n",
            "Epoch 29: Train Loss: 0.0009, Test Loss: 0.0000, Train L1 Norm: 0.0318, Test L1 Norm: 0.0126, Train Linf Norm: 1.0844, Test Linf Norm: 0.4360\n",
            "Epoch 30: Train Loss: 0.0009, Test Loss: 0.0002, Train L1 Norm: 0.0225, Test L1 Norm: 0.0150, Train Linf Norm: 0.6755, Test Linf Norm: 0.4912\n",
            "Epoch 31: Train Loss: 0.0009, Test Loss: 0.0000, Train L1 Norm: 0.0202, Test L1 Norm: 0.0184, Train Linf Norm: 0.5578, Test Linf Norm: 0.7253\n",
            "Epoch 32: Train Loss: 0.0000, Test Loss: 0.0005, Train L1 Norm: 0.0073, Test L1 Norm: 0.0231, Train Linf Norm: 0.2119, Test Linf Norm: 0.6840\n",
            "Epoch 33: Train Loss: 0.0000, Test Loss: 0.0001, Train L1 Norm: 0.0062, Test L1 Norm: 0.0093, Train Linf Norm: 0.1650, Test Linf Norm: 0.2774\n",
            "Epoch 34: Train Loss: 0.0000, Test Loss: 0.0000, Train L1 Norm: 0.0063, Test L1 Norm: 0.0103, Train Linf Norm: 0.1725, Test Linf Norm: 0.3907\n",
            "Epoch 35: Train Loss: 0.0000, Test Loss: 0.0000, Train L1 Norm: 0.0064, Test L1 Norm: 0.0069, Train Linf Norm: 0.1840, Test Linf Norm: 0.2380\n",
            "Epoch 36: Train Loss: 0.0000, Test Loss: 0.0000, Train L1 Norm: 0.0061, Test L1 Norm: 0.0058, Train Linf Norm: 0.1711, Test Linf Norm: 0.1575\n",
            "Epoch 37: Train Loss: 0.0000, Test Loss: 0.0002, Train L1 Norm: 0.0065, Test L1 Norm: 0.0090, Train Linf Norm: 0.1896, Test Linf Norm: 0.1544\n",
            "Epoch 38: Train Loss: 0.0000, Test Loss: 0.0000, Train L1 Norm: 0.0062, Test L1 Norm: 0.0047, Train Linf Norm: 0.1756, Test Linf Norm: 0.1355\n",
            "Epoch 39: Train Loss: 0.0000, Test Loss: 0.0001, Train L1 Norm: 0.0064, Test L1 Norm: 0.0145, Train Linf Norm: 0.1908, Test Linf Norm: 0.4452\n",
            "Epoch 40: Train Loss: 0.0000, Test Loss: 0.0000, Train L1 Norm: 0.0067, Test L1 Norm: 0.0054, Train Linf Norm: 0.1943, Test Linf Norm: 0.1086\n",
            "Epoch 41: Train Loss: 0.0000, Test Loss: 0.0000, Train L1 Norm: 0.0057, Test L1 Norm: 0.0110, Train Linf Norm: 0.1568, Test Linf Norm: 0.3843\n",
            "Epoch 42: Train Loss: 0.0000, Test Loss: 0.0001, Train L1 Norm: 0.0058, Test L1 Norm: 0.0113, Train Linf Norm: 0.1602, Test Linf Norm: 0.3128\n",
            "Epoch 43: Train Loss: 0.0000, Test Loss: 0.0000, Train L1 Norm: 0.0059, Test L1 Norm: 0.0041, Train Linf Norm: 0.1703, Test Linf Norm: 0.1105\n",
            "Epoch 44: Train Loss: 0.0000, Test Loss: 0.0000, Train L1 Norm: 0.0056, Test L1 Norm: 0.0050, Train Linf Norm: 0.1503, Test Linf Norm: 0.1563\n",
            "Epoch 45: Train Loss: 0.0000, Test Loss: 0.0000, Train L1 Norm: 0.0057, Test L1 Norm: 0.0077, Train Linf Norm: 0.1578, Test Linf Norm: 0.2743\n",
            "Epoch 46: Train Loss: 0.0000, Test Loss: 0.0000, Train L1 Norm: 0.0060, Test L1 Norm: 0.0059, Train Linf Norm: 0.1742, Test Linf Norm: 0.2056\n",
            "Epoch 47: Train Loss: 0.0000, Test Loss: 0.0000, Train L1 Norm: 0.0055, Test L1 Norm: 0.0038, Train Linf Norm: 0.1520, Test Linf Norm: 0.0868\n",
            "Epoch 48: Train Loss: 0.0000, Test Loss: 0.0000, Train L1 Norm: 0.0058, Test L1 Norm: 0.0053, Train Linf Norm: 0.1648, Test Linf Norm: 0.1532\n",
            "Epoch 49: Train Loss: 0.0000, Test Loss: 0.0000, Train L1 Norm: 0.0052, Test L1 Norm: 0.0046, Train Linf Norm: 0.1383, Test Linf Norm: 0.1418\n",
            "Epoch 50: Train Loss: 0.0000, Test Loss: 0.0000, Train L1 Norm: 0.0051, Test L1 Norm: 0.0045, Train Linf Norm: 0.1366, Test Linf Norm: 0.1398\n",
            "Epoch 51: Train Loss: 0.0000, Test Loss: 0.0000, Train L1 Norm: 0.0054, Test L1 Norm: 0.0035, Train Linf Norm: 0.1482, Test Linf Norm: 0.0808\n",
            "Epoch 52: Train Loss: 0.0000, Test Loss: 0.0000, Train L1 Norm: 0.0050, Test L1 Norm: 0.0054, Train Linf Norm: 0.1311, Test Linf Norm: 0.1806\n",
            "Epoch 53: Train Loss: 0.0000, Test Loss: 0.0000, Train L1 Norm: 0.0057, Test L1 Norm: 0.0060, Train Linf Norm: 0.1615, Test Linf Norm: 0.1921\n",
            "Epoch 54: Train Loss: 0.0000, Test Loss: 0.0000, Train L1 Norm: 0.0072, Test L1 Norm: 0.0040, Train Linf Norm: 0.2423, Test Linf Norm: 0.1235\n",
            "Epoch 55: Train Loss: 0.0000, Test Loss: 0.0000, Train L1 Norm: 0.0054, Test L1 Norm: 0.0059, Train Linf Norm: 0.1528, Test Linf Norm: 0.2130\n",
            "Epoch 56: Train Loss: 0.0000, Test Loss: 0.0000, Train L1 Norm: 0.0052, Test L1 Norm: 0.0032, Train Linf Norm: 0.1425, Test Linf Norm: 0.0771\n",
            "Epoch 57: Train Loss: 0.0000, Test Loss: 0.0000, Train L1 Norm: 0.0053, Test L1 Norm: 0.0058, Train Linf Norm: 0.1460, Test Linf Norm: 0.1519\n",
            "Epoch 58: Train Loss: 0.0000, Test Loss: 0.0000, Train L1 Norm: 0.0058, Test L1 Norm: 0.0053, Train Linf Norm: 0.1683, Test Linf Norm: 0.1863\n",
            "Epoch 59: Train Loss: 0.0000, Test Loss: 0.0000, Train L1 Norm: 0.0049, Test L1 Norm: 0.0064, Train Linf Norm: 0.1290, Test Linf Norm: 0.2289\n",
            "Epoch 60: Train Loss: 0.0000, Test Loss: 0.0000, Train L1 Norm: 0.0050, Test L1 Norm: 0.0047, Train Linf Norm: 0.1291, Test Linf Norm: 0.1588\n",
            "Epoch 61: Train Loss: 0.0000, Test Loss: 0.0000, Train L1 Norm: 0.0052, Test L1 Norm: 0.0050, Train Linf Norm: 0.1423, Test Linf Norm: 0.1734\n",
            "Epoch 62: Train Loss: 0.0000, Test Loss: 0.0000, Train L1 Norm: 0.0047, Test L1 Norm: 0.0055, Train Linf Norm: 0.1190, Test Linf Norm: 0.1922\n",
            "Epoch 63: Train Loss: 0.0000, Test Loss: 0.0000, Train L1 Norm: 0.0054, Test L1 Norm: 0.0037, Train Linf Norm: 0.1529, Test Linf Norm: 0.0973\n",
            "Epoch 64: Train Loss: 0.0000, Test Loss: 0.0000, Train L1 Norm: 0.0052, Test L1 Norm: 0.0039, Train Linf Norm: 0.1414, Test Linf Norm: 0.1103\n",
            "Epoch 65: Train Loss: 0.0000, Test Loss: 0.0000, Train L1 Norm: 0.0048, Test L1 Norm: 0.0035, Train Linf Norm: 0.1268, Test Linf Norm: 0.0832\n",
            "Epoch 66: Train Loss: 0.0000, Test Loss: 0.0000, Train L1 Norm: 0.0053, Test L1 Norm: 0.0065, Train Linf Norm: 0.1501, Test Linf Norm: 0.2427\n",
            "Epoch 67: Train Loss: 0.0000, Test Loss: 0.0000, Train L1 Norm: 0.0047, Test L1 Norm: 0.0041, Train Linf Norm: 0.1184, Test Linf Norm: 0.0934\n",
            "Epoch 68: Train Loss: 0.0000, Test Loss: 0.0000, Train L1 Norm: 0.0050, Test L1 Norm: 0.0054, Train Linf Norm: 0.1322, Test Linf Norm: 0.1442\n",
            "Epoch 69: Train Loss: 0.0000, Test Loss: 0.0000, Train L1 Norm: 0.0056, Test L1 Norm: 0.0032, Train Linf Norm: 0.1629, Test Linf Norm: 0.0859\n",
            "Epoch 70: Train Loss: 0.0000, Test Loss: 0.0000, Train L1 Norm: 0.0050, Test L1 Norm: 0.0045, Train Linf Norm: 0.1336, Test Linf Norm: 0.1393\n",
            "Epoch 71: Train Loss: 0.0000, Test Loss: 0.0000, Train L1 Norm: 0.0032, Test L1 Norm: 0.0030, Train Linf Norm: 0.0948, Test Linf Norm: 0.0817\n",
            "Epoch 72: Train Loss: 0.0000, Test Loss: 0.0000, Train L1 Norm: 0.0032, Test L1 Norm: 0.0032, Train Linf Norm: 0.0926, Test Linf Norm: 0.0900\n",
            "Epoch 73: Train Loss: 0.0000, Test Loss: 0.0000, Train L1 Norm: 0.0032, Test L1 Norm: 0.0036, Train Linf Norm: 0.0935, Test Linf Norm: 0.1117\n",
            "Epoch 74: Train Loss: 0.0000, Test Loss: 0.0000, Train L1 Norm: 0.0031, Test L1 Norm: 0.0033, Train Linf Norm: 0.0901, Test Linf Norm: 0.0937\n",
            "Epoch 75: Train Loss: 0.0000, Test Loss: 0.0000, Train L1 Norm: 0.0031, Test L1 Norm: 0.0041, Train Linf Norm: 0.0886, Test Linf Norm: 0.1303\n",
            "Epoch 76: Train Loss: 0.0000, Test Loss: 0.0000, Train L1 Norm: 0.0031, Test L1 Norm: 0.0032, Train Linf Norm: 0.0894, Test Linf Norm: 0.0784\n",
            "Epoch 77: Train Loss: 0.0000, Test Loss: 0.0000, Train L1 Norm: 0.0030, Test L1 Norm: 0.0037, Train Linf Norm: 0.0859, Test Linf Norm: 0.1170\n",
            "Epoch 78: Train Loss: 0.0000, Test Loss: 0.0000, Train L1 Norm: 0.0030, Test L1 Norm: 0.0029, Train Linf Norm: 0.0853, Test Linf Norm: 0.0786\n",
            "Epoch 79: Train Loss: 0.0000, Test Loss: 0.0000, Train L1 Norm: 0.0031, Test L1 Norm: 0.0033, Train Linf Norm: 0.0909, Test Linf Norm: 0.0832\n",
            "Epoch 80: Train Loss: 0.0000, Test Loss: 0.0000, Train L1 Norm: 0.0032, Test L1 Norm: 0.0044, Train Linf Norm: 0.0921, Test Linf Norm: 0.1449\n",
            "Epoch 81: Train Loss: 0.0000, Test Loss: 0.0000, Train L1 Norm: 0.0030, Test L1 Norm: 0.0035, Train Linf Norm: 0.0852, Test Linf Norm: 0.1068\n",
            "Epoch 82: Train Loss: 0.0000, Test Loss: 0.0000, Train L1 Norm: 0.0030, Test L1 Norm: 0.0042, Train Linf Norm: 0.0848, Test Linf Norm: 0.1214\n",
            "Epoch 83: Train Loss: 0.0000, Test Loss: 0.0000, Train L1 Norm: 0.0033, Test L1 Norm: 0.0026, Train Linf Norm: 0.0968, Test Linf Norm: 0.0624\n",
            "Epoch 84: Train Loss: 0.0000, Test Loss: 0.0000, Train L1 Norm: 0.0030, Test L1 Norm: 0.0044, Train Linf Norm: 0.0844, Test Linf Norm: 0.1516\n",
            "Epoch 85: Train Loss: 0.0000, Test Loss: 0.0000, Train L1 Norm: 0.0030, Test L1 Norm: 0.0035, Train Linf Norm: 0.0853, Test Linf Norm: 0.1059\n",
            "Epoch 86: Train Loss: 0.0000, Test Loss: 0.0000, Train L1 Norm: 0.0030, Test L1 Norm: 0.0038, Train Linf Norm: 0.0864, Test Linf Norm: 0.1113\n",
            "Epoch 87: Train Loss: 0.0000, Test Loss: 0.0000, Train L1 Norm: 0.0031, Test L1 Norm: 0.0035, Train Linf Norm: 0.0886, Test Linf Norm: 0.0934\n",
            "Epoch 88: Train Loss: 0.0000, Test Loss: 0.0000, Train L1 Norm: 0.0030, Test L1 Norm: 0.0036, Train Linf Norm: 0.0861, Test Linf Norm: 0.1155\n",
            "Epoch 89: Train Loss: 0.0000, Test Loss: 0.0000, Train L1 Norm: 0.0030, Test L1 Norm: 0.0037, Train Linf Norm: 0.0869, Test Linf Norm: 0.1199\n",
            "Epoch 90: Train Loss: 0.0000, Test Loss: 0.0000, Train L1 Norm: 0.0032, Test L1 Norm: 0.0029, Train Linf Norm: 0.0939, Test Linf Norm: 0.0780\n",
            "Epoch 91: Train Loss: 0.0000, Test Loss: 0.0000, Train L1 Norm: 0.0030, Test L1 Norm: 0.0033, Train Linf Norm: 0.0837, Test Linf Norm: 0.0978\n",
            "Epoch 92: Train Loss: 0.0000, Test Loss: 0.0000, Train L1 Norm: 0.0030, Test L1 Norm: 0.0031, Train Linf Norm: 0.0885, Test Linf Norm: 0.0809\n",
            "Epoch 93: Train Loss: 0.0000, Test Loss: 0.0000, Train L1 Norm: 0.0030, Test L1 Norm: 0.0034, Train Linf Norm: 0.0872, Test Linf Norm: 0.0927\n",
            "Epoch 94: Train Loss: 0.0000, Test Loss: 0.0000, Train L1 Norm: 0.0031, Test L1 Norm: 0.0033, Train Linf Norm: 0.0891, Test Linf Norm: 0.1016\n",
            "Epoch 95: Train Loss: 0.0000, Test Loss: 0.0000, Train L1 Norm: 0.0031, Test L1 Norm: 0.0035, Train Linf Norm: 0.0927, Test Linf Norm: 0.1103\n",
            "Epoch 96: Train Loss: 0.0000, Test Loss: 0.0000, Train L1 Norm: 0.0030, Test L1 Norm: 0.0029, Train Linf Norm: 0.0859, Test Linf Norm: 0.0771\n",
            "Epoch 97: Train Loss: 0.0000, Test Loss: 0.0000, Train L1 Norm: 0.0031, Test L1 Norm: 0.0032, Train Linf Norm: 0.0917, Test Linf Norm: 0.0947\n",
            "Epoch 98: Train Loss: 0.0000, Test Loss: 0.0000, Train L1 Norm: 0.0029, Test L1 Norm: 0.0032, Train Linf Norm: 0.0822, Test Linf Norm: 0.0881\n",
            "Epoch 99: Train Loss: 0.0000, Test Loss: 0.0000, Train L1 Norm: 0.0030, Test L1 Norm: 0.0028, Train Linf Norm: 0.0862, Test Linf Norm: 0.0730\n",
            "Epoch 100: Train Loss: 0.0000, Test Loss: 0.0000, Train L1 Norm: 0.0030, Test L1 Norm: 0.0032, Train Linf Norm: 0.0860, Test Linf Norm: 0.0951\n",
            "Epoch 101: Train Loss: 0.0000, Test Loss: 0.0000, Train L1 Norm: 0.0031, Test L1 Norm: 0.0039, Train Linf Norm: 0.0938, Test Linf Norm: 0.1181\n",
            "Epoch 102: Train Loss: 0.0000, Test Loss: 0.0000, Train L1 Norm: 0.0029, Test L1 Norm: 0.0038, Train Linf Norm: 0.0838, Test Linf Norm: 0.1225\n",
            "Epoch 103: Train Loss: 0.0000, Test Loss: 0.0000, Train L1 Norm: 0.0029, Test L1 Norm: 0.0034, Train Linf Norm: 0.0823, Test Linf Norm: 0.0970\n",
            "Epoch 104: Train Loss: 0.0000, Test Loss: 0.0000, Train L1 Norm: 0.0030, Test L1 Norm: 0.0030, Train Linf Norm: 0.0861, Test Linf Norm: 0.0836\n",
            "Epoch 105: Train Loss: 0.0000, Test Loss: 0.0000, Train L1 Norm: 0.0029, Test L1 Norm: 0.0032, Train Linf Norm: 0.0848, Test Linf Norm: 0.0932\n",
            "Epoch 106: Train Loss: 0.0000, Test Loss: 0.0000, Train L1 Norm: 0.0029, Test L1 Norm: 0.0029, Train Linf Norm: 0.0860, Test Linf Norm: 0.0767\n",
            "Epoch 107: Train Loss: 0.0000, Test Loss: 0.0000, Train L1 Norm: 0.0030, Test L1 Norm: 0.0041, Train Linf Norm: 0.0909, Test Linf Norm: 0.1347\n",
            "Epoch 108: Train Loss: 0.0000, Test Loss: 0.0000, Train L1 Norm: 0.0029, Test L1 Norm: 0.0036, Train Linf Norm: 0.0850, Test Linf Norm: 0.1150\n",
            "Epoch 109: Train Loss: 0.0000, Test Loss: 0.0000, Train L1 Norm: 0.0030, Test L1 Norm: 0.0041, Train Linf Norm: 0.0870, Test Linf Norm: 0.1273\n",
            "Epoch 110: Train Loss: 0.0000, Test Loss: 0.0000, Train L1 Norm: 0.0029, Test L1 Norm: 0.0032, Train Linf Norm: 0.0825, Test Linf Norm: 0.0931\n",
            "Epoch 111: Train Loss: 0.0000, Test Loss: 0.0000, Train L1 Norm: 0.0030, Test L1 Norm: 0.0031, Train Linf Norm: 0.0881, Test Linf Norm: 0.0872\n",
            "Epoch 112: Train Loss: 0.0000, Test Loss: 0.0000, Train L1 Norm: 0.0028, Test L1 Norm: 0.0038, Train Linf Norm: 0.0811, Test Linf Norm: 0.1240\n",
            "Epoch 113: Train Loss: 0.0000, Test Loss: 0.0000, Train L1 Norm: 0.0030, Test L1 Norm: 0.0031, Train Linf Norm: 0.0879, Test Linf Norm: 0.0904\n",
            "Epoch 114: Train Loss: 0.0000, Test Loss: 0.0000, Train L1 Norm: 0.0029, Test L1 Norm: 0.0031, Train Linf Norm: 0.0856, Test Linf Norm: 0.0901\n",
            "Epoch 115: Train Loss: 0.0000, Test Loss: 0.0000, Train L1 Norm: 0.0028, Test L1 Norm: 0.0037, Train Linf Norm: 0.0792, Test Linf Norm: 0.1206\n",
            "Epoch 116: Train Loss: 0.0000, Test Loss: 0.0000, Train L1 Norm: 0.0030, Test L1 Norm: 0.0028, Train Linf Norm: 0.0886, Test Linf Norm: 0.0781\n",
            "Epoch 117: Train Loss: 0.0000, Test Loss: 0.0000, Train L1 Norm: 0.0029, Test L1 Norm: 0.0029, Train Linf Norm: 0.0834, Test Linf Norm: 0.0793\n",
            "Epoch 118: Train Loss: 0.0000, Test Loss: 0.0000, Train L1 Norm: 0.0029, Test L1 Norm: 0.0029, Train Linf Norm: 0.0863, Test Linf Norm: 0.0670\n",
            "Epoch 119: Train Loss: 0.0000, Test Loss: 0.0000, Train L1 Norm: 0.0028, Test L1 Norm: 0.0037, Train Linf Norm: 0.0789, Test Linf Norm: 0.1167\n",
            "Epoch 120: Train Loss: 0.0000, Test Loss: 0.0000, Train L1 Norm: 0.0029, Test L1 Norm: 0.0037, Train Linf Norm: 0.0853, Test Linf Norm: 0.1002\n",
            "Epoch 121: Train Loss: 0.0000, Test Loss: 0.0000, Train L1 Norm: 0.0029, Test L1 Norm: 0.0046, Train Linf Norm: 0.0841, Test Linf Norm: 0.1563\n",
            "Epoch 122: Train Loss: 0.0000, Test Loss: 0.0000, Train L1 Norm: 0.0028, Test L1 Norm: 0.0029, Train Linf Norm: 0.0803, Test Linf Norm: 0.0796\n",
            "Epoch 123: Train Loss: 0.0000, Test Loss: 0.0000, Train L1 Norm: 0.0029, Test L1 Norm: 0.0040, Train Linf Norm: 0.0825, Test Linf Norm: 0.1316\n",
            "Epoch 124: Train Loss: 0.0000, Test Loss: 0.0000, Train L1 Norm: 0.0029, Test L1 Norm: 0.0028, Train Linf Norm: 0.0823, Test Linf Norm: 0.0699\n",
            "Epoch 125: Train Loss: 0.0000, Test Loss: 0.0000, Train L1 Norm: 0.0027, Test L1 Norm: 0.0027, Train Linf Norm: 0.0766, Test Linf Norm: 0.0666\n",
            "Epoch 126: Train Loss: 0.0000, Test Loss: 0.0000, Train L1 Norm: 0.0030, Test L1 Norm: 0.0028, Train Linf Norm: 0.0903, Test Linf Norm: 0.0742\n",
            "Epoch 127: Train Loss: 0.0000, Test Loss: 0.0000, Train L1 Norm: 0.0027, Test L1 Norm: 0.0027, Train Linf Norm: 0.0768, Test Linf Norm: 0.0699\n",
            "Epoch 128: Train Loss: 0.0000, Test Loss: 0.0000, Train L1 Norm: 0.0029, Test L1 Norm: 0.0032, Train Linf Norm: 0.0844, Test Linf Norm: 0.0916\n",
            "Epoch 129: Train Loss: 0.0000, Test Loss: 0.0000, Train L1 Norm: 0.0028, Test L1 Norm: 0.0042, Train Linf Norm: 0.0784, Test Linf Norm: 0.1448\n",
            "Epoch 130: Train Loss: 0.0000, Test Loss: 0.0000, Train L1 Norm: 0.0029, Test L1 Norm: 0.0029, Train Linf Norm: 0.0846, Test Linf Norm: 0.0815\n",
            "Epoch 131: Train Loss: 0.0000, Test Loss: 0.0000, Train L1 Norm: 0.0029, Test L1 Norm: 0.0032, Train Linf Norm: 0.0833, Test Linf Norm: 0.0988\n",
            "Epoch 132: Train Loss: 0.0000, Test Loss: 0.0000, Train L1 Norm: 0.0029, Test L1 Norm: 0.0029, Train Linf Norm: 0.0834, Test Linf Norm: 0.0806\n",
            "Epoch 133: Train Loss: 0.0000, Test Loss: 0.0000, Train L1 Norm: 0.0030, Test L1 Norm: 0.0031, Train Linf Norm: 0.0890, Test Linf Norm: 0.0914\n",
            "Epoch 134: Train Loss: 0.0000, Test Loss: 0.0000, Train L1 Norm: 0.0029, Test L1 Norm: 0.0041, Train Linf Norm: 0.0846, Test Linf Norm: 0.1384\n",
            "Epoch 135: Train Loss: 0.0000, Test Loss: 0.0000, Train L1 Norm: 0.0029, Test L1 Norm: 0.0028, Train Linf Norm: 0.0858, Test Linf Norm: 0.0759\n",
            "Epoch 136: Train Loss: 0.0000, Test Loss: 0.0000, Train L1 Norm: 0.0028, Test L1 Norm: 0.0033, Train Linf Norm: 0.0806, Test Linf Norm: 0.0973\n",
            "Epoch 137: Train Loss: 0.0000, Test Loss: 0.0000, Train L1 Norm: 0.0028, Test L1 Norm: 0.0026, Train Linf Norm: 0.0813, Test Linf Norm: 0.0629\n",
            "Epoch 138: Train Loss: 0.0000, Test Loss: 0.0000, Train L1 Norm: 0.0028, Test L1 Norm: 0.0032, Train Linf Norm: 0.0807, Test Linf Norm: 0.0964\n",
            "Epoch 139: Train Loss: 0.0000, Test Loss: 0.0000, Train L1 Norm: 0.0029, Test L1 Norm: 0.0026, Train Linf Norm: 0.0852, Test Linf Norm: 0.0688\n",
            "Epoch 140: Train Loss: 0.0000, Test Loss: 0.0000, Train L1 Norm: 0.0029, Test L1 Norm: 0.0027, Train Linf Norm: 0.0826, Test Linf Norm: 0.0752\n",
            "Epoch 141: Train Loss: 0.0000, Test Loss: 0.0000, Train L1 Norm: 0.0029, Test L1 Norm: 0.0032, Train Linf Norm: 0.0857, Test Linf Norm: 0.0968\n",
            "Epoch 142: Train Loss: 0.0000, Test Loss: 0.0000, Train L1 Norm: 0.0028, Test L1 Norm: 0.0026, Train Linf Norm: 0.0773, Test Linf Norm: 0.0676\n",
            "Epoch 143: Train Loss: 0.0000, Test Loss: 0.0000, Train L1 Norm: 0.0028, Test L1 Norm: 0.0024, Train Linf Norm: 0.0803, Test Linf Norm: 0.0611\n",
            "Epoch 144: Train Loss: 0.0000, Test Loss: 0.0000, Train L1 Norm: 0.0029, Test L1 Norm: 0.0038, Train Linf Norm: 0.0874, Test Linf Norm: 0.0744\n",
            "Epoch 145: Train Loss: 0.0000, Test Loss: 0.0000, Train L1 Norm: 0.0027, Test L1 Norm: 0.0027, Train Linf Norm: 0.0771, Test Linf Norm: 0.0733\n",
            "Epoch 146: Train Loss: 0.0000, Test Loss: 0.0000, Train L1 Norm: 0.0029, Test L1 Norm: 0.0026, Train Linf Norm: 0.0854, Test Linf Norm: 0.0648\n",
            "Epoch 147: Train Loss: 0.0000, Test Loss: 0.0000, Train L1 Norm: 0.0028, Test L1 Norm: 0.0025, Train Linf Norm: 0.0803, Test Linf Norm: 0.0667\n",
            "Epoch 148: Train Loss: 0.0000, Test Loss: 0.0000, Train L1 Norm: 0.0028, Test L1 Norm: 0.0025, Train Linf Norm: 0.0815, Test Linf Norm: 0.0645\n",
            "Epoch 149: Train Loss: 0.0000, Test Loss: 0.0000, Train L1 Norm: 0.0028, Test L1 Norm: 0.0028, Train Linf Norm: 0.0812, Test Linf Norm: 0.0817\n",
            "Epoch 150: Train Loss: 0.0000, Test Loss: 0.0000, Train L1 Norm: 0.0028, Test L1 Norm: 0.0025, Train Linf Norm: 0.0809, Test Linf Norm: 0.0610\n",
            "Epoch 151: Train Loss: 0.0000, Test Loss: 0.0000, Train L1 Norm: 0.0029, Test L1 Norm: 0.0025, Train Linf Norm: 0.0878, Test Linf Norm: 0.0659\n",
            "Epoch 152: Train Loss: 0.0000, Test Loss: 0.0000, Train L1 Norm: 0.0027, Test L1 Norm: 0.0027, Train Linf Norm: 0.0731, Test Linf Norm: 0.0708\n",
            "Epoch 153: Train Loss: 0.0000, Test Loss: 0.0000, Train L1 Norm: 0.0028, Test L1 Norm: 0.0024, Train Linf Norm: 0.0830, Test Linf Norm: 0.0574\n",
            "Epoch 154: Train Loss: 0.0000, Test Loss: 0.0000, Train L1 Norm: 0.0028, Test L1 Norm: 0.0027, Train Linf Norm: 0.0843, Test Linf Norm: 0.0754\n",
            "Epoch 155: Train Loss: 0.0000, Test Loss: 0.0000, Train L1 Norm: 0.0027, Test L1 Norm: 0.0026, Train Linf Norm: 0.0775, Test Linf Norm: 0.0702\n",
            "Epoch 156: Train Loss: 0.0000, Test Loss: 0.0000, Train L1 Norm: 0.0028, Test L1 Norm: 0.0026, Train Linf Norm: 0.0828, Test Linf Norm: 0.0683\n",
            "Epoch 157: Train Loss: 0.0000, Test Loss: 0.0000, Train L1 Norm: 0.0028, Test L1 Norm: 0.0024, Train Linf Norm: 0.0832, Test Linf Norm: 0.0603\n",
            "Epoch 158: Train Loss: 0.0000, Test Loss: 0.0000, Train L1 Norm: 0.0028, Test L1 Norm: 0.0033, Train Linf Norm: 0.0834, Test Linf Norm: 0.1021\n",
            "Epoch 159: Train Loss: 0.0000, Test Loss: 0.0000, Train L1 Norm: 0.0027, Test L1 Norm: 0.0025, Train Linf Norm: 0.0785, Test Linf Norm: 0.0614\n",
            "Epoch 160: Train Loss: 0.0000, Test Loss: 0.0000, Train L1 Norm: 0.0027, Test L1 Norm: 0.0030, Train Linf Norm: 0.0795, Test Linf Norm: 0.0886\n",
            "Epoch 161: Train Loss: 0.0000, Test Loss: 0.0000, Train L1 Norm: 0.0028, Test L1 Norm: 0.0032, Train Linf Norm: 0.0839, Test Linf Norm: 0.1004\n",
            "Epoch 162: Train Loss: 0.0000, Test Loss: 0.0000, Train L1 Norm: 0.0028, Test L1 Norm: 0.0031, Train Linf Norm: 0.0825, Test Linf Norm: 0.0953\n",
            "Epoch 163: Train Loss: 0.0000, Test Loss: 0.0000, Train L1 Norm: 0.0028, Test L1 Norm: 0.0025, Train Linf Norm: 0.0804, Test Linf Norm: 0.0643\n",
            "Epoch 164: Train Loss: 0.0000, Test Loss: 0.0000, Train L1 Norm: 0.0029, Test L1 Norm: 0.0026, Train Linf Norm: 0.0868, Test Linf Norm: 0.0685\n",
            "Epoch 165: Train Loss: 0.0000, Test Loss: 0.0000, Train L1 Norm: 0.0028, Test L1 Norm: 0.0035, Train Linf Norm: 0.0825, Test Linf Norm: 0.1130\n",
            "Epoch 166: Train Loss: 0.0000, Test Loss: 0.0000, Train L1 Norm: 0.0027, Test L1 Norm: 0.0032, Train Linf Norm: 0.0792, Test Linf Norm: 0.0963\n",
            "Epoch 167: Train Loss: 0.0000, Test Loss: 0.0000, Train L1 Norm: 0.0028, Test L1 Norm: 0.0025, Train Linf Norm: 0.0844, Test Linf Norm: 0.0657\n",
            "Epoch 168: Train Loss: 0.0000, Test Loss: 0.0000, Train L1 Norm: 0.0027, Test L1 Norm: 0.0025, Train Linf Norm: 0.0807, Test Linf Norm: 0.0602\n",
            "Epoch 169: Train Loss: 0.0000, Test Loss: 0.0000, Train L1 Norm: 0.0025, Test L1 Norm: 0.0024, Train Linf Norm: 0.0745, Test Linf Norm: 0.0623\n",
            "Epoch 170: Train Loss: 0.0000, Test Loss: 0.0000, Train L1 Norm: 0.0025, Test L1 Norm: 0.0024, Train Linf Norm: 0.0720, Test Linf Norm: 0.0627\n",
            "Epoch 171: Train Loss: 0.0000, Test Loss: 0.0000, Train L1 Norm: 0.0025, Test L1 Norm: 0.0024, Train Linf Norm: 0.0744, Test Linf Norm: 0.0590\n",
            "Epoch 172: Train Loss: 0.0000, Test Loss: 0.0000, Train L1 Norm: 0.0025, Test L1 Norm: 0.0023, Train Linf Norm: 0.0745, Test Linf Norm: 0.0562\n",
            "Epoch 173: Train Loss: 0.0000, Test Loss: 0.0000, Train L1 Norm: 0.0025, Test L1 Norm: 0.0025, Train Linf Norm: 0.0734, Test Linf Norm: 0.0638\n",
            "Epoch 174: Train Loss: 0.0000, Test Loss: 0.0000, Train L1 Norm: 0.0025, Test L1 Norm: 0.0024, Train Linf Norm: 0.0734, Test Linf Norm: 0.0605\n",
            "Epoch 175: Train Loss: 0.0000, Test Loss: 0.0000, Train L1 Norm: 0.0025, Test L1 Norm: 0.0024, Train Linf Norm: 0.0746, Test Linf Norm: 0.0607\n",
            "Epoch 176: Train Loss: 0.0000, Test Loss: 0.0000, Train L1 Norm: 0.0025, Test L1 Norm: 0.0025, Train Linf Norm: 0.0724, Test Linf Norm: 0.0664\n",
            "Epoch 177: Train Loss: 0.0000, Test Loss: 0.0000, Train L1 Norm: 0.0025, Test L1 Norm: 0.0024, Train Linf Norm: 0.0755, Test Linf Norm: 0.0622\n",
            "Epoch 178: Train Loss: 0.0000, Test Loss: 0.0000, Train L1 Norm: 0.0025, Test L1 Norm: 0.0024, Train Linf Norm: 0.0752, Test Linf Norm: 0.0619\n",
            "Epoch 179: Train Loss: 0.0000, Test Loss: 0.0000, Train L1 Norm: 0.0025, Test L1 Norm: 0.0025, Train Linf Norm: 0.0725, Test Linf Norm: 0.0654\n",
            "Epoch 180: Train Loss: 0.0000, Test Loss: 0.0000, Train L1 Norm: 0.0025, Test L1 Norm: 0.0023, Train Linf Norm: 0.0719, Test Linf Norm: 0.0582\n",
            "Epoch 181: Train Loss: 0.0000, Test Loss: 0.0000, Train L1 Norm: 0.0025, Test L1 Norm: 0.0026, Train Linf Norm: 0.0737, Test Linf Norm: 0.0701\n",
            "Epoch 182: Train Loss: 0.0000, Test Loss: 0.0000, Train L1 Norm: 0.0025, Test L1 Norm: 0.0025, Train Linf Norm: 0.0751, Test Linf Norm: 0.0690\n",
            "Epoch 183: Train Loss: 0.0000, Test Loss: 0.0000, Train L1 Norm: 0.0025, Test L1 Norm: 0.0023, Train Linf Norm: 0.0717, Test Linf Norm: 0.0551\n",
            "Epoch 184: Train Loss: 0.0000, Test Loss: 0.0000, Train L1 Norm: 0.0026, Test L1 Norm: 0.0024, Train Linf Norm: 0.0770, Test Linf Norm: 0.0603\n",
            "Epoch 185: Train Loss: 0.0000, Test Loss: 0.0000, Train L1 Norm: 0.0025, Test L1 Norm: 0.0023, Train Linf Norm: 0.0757, Test Linf Norm: 0.0579\n",
            "Epoch 186: Train Loss: 0.0000, Test Loss: 0.0000, Train L1 Norm: 0.0025, Test L1 Norm: 0.0025, Train Linf Norm: 0.0763, Test Linf Norm: 0.0669\n",
            "Epoch 187: Train Loss: 0.0000, Test Loss: 0.0000, Train L1 Norm: 0.0025, Test L1 Norm: 0.0024, Train Linf Norm: 0.0731, Test Linf Norm: 0.0596\n",
            "Epoch 188: Train Loss: 0.0000, Test Loss: 0.0000, Train L1 Norm: 0.0026, Test L1 Norm: 0.0026, Train Linf Norm: 0.0775, Test Linf Norm: 0.0712\n",
            "Epoch 189: Train Loss: 0.0000, Test Loss: 0.0000, Train L1 Norm: 0.0025, Test L1 Norm: 0.0024, Train Linf Norm: 0.0744, Test Linf Norm: 0.0621\n",
            "Epoch 190: Train Loss: 0.0000, Test Loss: 0.0000, Train L1 Norm: 0.0025, Test L1 Norm: 0.0023, Train Linf Norm: 0.0736, Test Linf Norm: 0.0558\n",
            "Epoch 191: Train Loss: 0.0000, Test Loss: 0.0000, Train L1 Norm: 0.0025, Test L1 Norm: 0.0023, Train Linf Norm: 0.0729, Test Linf Norm: 0.0573\n",
            "Epoch 192: Train Loss: 0.0000, Test Loss: 0.0000, Train L1 Norm: 0.0026, Test L1 Norm: 0.0023, Train Linf Norm: 0.0764, Test Linf Norm: 0.0566\n",
            "Epoch 193: Train Loss: 0.0000, Test Loss: 0.0000, Train L1 Norm: 0.0025, Test L1 Norm: 0.0023, Train Linf Norm: 0.0729, Test Linf Norm: 0.0569\n",
            "Epoch 194: Train Loss: 0.0000, Test Loss: 0.0000, Train L1 Norm: 0.0025, Test L1 Norm: 0.0025, Train Linf Norm: 0.0743, Test Linf Norm: 0.0692\n",
            "Epoch 195: Train Loss: 0.0000, Test Loss: 0.0000, Train L1 Norm: 0.0025, Test L1 Norm: 0.0024, Train Linf Norm: 0.0750, Test Linf Norm: 0.0633\n",
            "Epoch 196: Train Loss: 0.0000, Test Loss: 0.0000, Train L1 Norm: 0.0025, Test L1 Norm: 0.0023, Train Linf Norm: 0.0739, Test Linf Norm: 0.0593\n",
            "Epoch 197: Train Loss: 0.0000, Test Loss: 0.0000, Train L1 Norm: 0.0025, Test L1 Norm: 0.0023, Train Linf Norm: 0.0760, Test Linf Norm: 0.0598\n",
            "Epoch 198: Train Loss: 0.0000, Test Loss: 0.0000, Train L1 Norm: 0.0025, Test L1 Norm: 0.0024, Train Linf Norm: 0.0728, Test Linf Norm: 0.0621\n",
            "Epoch 199: Train Loss: 0.0000, Test Loss: 0.0000, Train L1 Norm: 0.0025, Test L1 Norm: 0.0024, Train Linf Norm: 0.0734, Test Linf Norm: 0.0624\n",
            "Epoch 200: Train Loss: 0.0000, Test Loss: 0.0000, Train L1 Norm: 0.0025, Test L1 Norm: 0.0023, Train Linf Norm: 0.0771, Test Linf Norm: 0.0585\n",
            "Epoch 201: Train Loss: 0.0000, Test Loss: 0.0000, Train L1 Norm: 0.0025, Test L1 Norm: 0.0023, Train Linf Norm: 0.0752, Test Linf Norm: 0.0581\n",
            "Epoch 202: Train Loss: 0.0000, Test Loss: 0.0000, Train L1 Norm: 0.0025, Test L1 Norm: 0.0023, Train Linf Norm: 0.0733, Test Linf Norm: 0.0570\n",
            "Epoch 203: Train Loss: 0.0000, Test Loss: 0.0000, Train L1 Norm: 0.0025, Test L1 Norm: 0.0026, Train Linf Norm: 0.0744, Test Linf Norm: 0.0699\n",
            "Epoch 204: Train Loss: 0.0000, Test Loss: 0.0000, Train L1 Norm: 0.0025, Test L1 Norm: 0.0024, Train Linf Norm: 0.0734, Test Linf Norm: 0.0596\n",
            "Epoch 205: Train Loss: 0.0000, Test Loss: 0.0000, Train L1 Norm: 0.0025, Test L1 Norm: 0.0023, Train Linf Norm: 0.0756, Test Linf Norm: 0.0596\n",
            "Epoch 206: Train Loss: 0.0000, Test Loss: 0.0000, Train L1 Norm: 0.0025, Test L1 Norm: 0.0023, Train Linf Norm: 0.0743, Test Linf Norm: 0.0541\n",
            "Epoch 207: Train Loss: 0.0000, Test Loss: 0.0000, Train L1 Norm: 0.0025, Test L1 Norm: 0.0023, Train Linf Norm: 0.0748, Test Linf Norm: 0.0556\n",
            "Epoch 208: Train Loss: 0.0000, Test Loss: 0.0000, Train L1 Norm: 0.0025, Test L1 Norm: 0.0022, Train Linf Norm: 0.0739, Test Linf Norm: 0.0530\n",
            "Epoch 209: Train Loss: 0.0000, Test Loss: 0.0000, Train L1 Norm: 0.0025, Test L1 Norm: 0.0022, Train Linf Norm: 0.0733, Test Linf Norm: 0.0549\n",
            "Epoch 210: Train Loss: 0.0000, Test Loss: 0.0000, Train L1 Norm: 0.0025, Test L1 Norm: 0.0024, Train Linf Norm: 0.0741, Test Linf Norm: 0.0608\n",
            "Epoch 211: Train Loss: 0.0000, Test Loss: 0.0000, Train L1 Norm: 0.0025, Test L1 Norm: 0.0023, Train Linf Norm: 0.0734, Test Linf Norm: 0.0570\n",
            "Epoch 212: Train Loss: 0.0000, Test Loss: 0.0000, Train L1 Norm: 0.0025, Test L1 Norm: 0.0024, Train Linf Norm: 0.0737, Test Linf Norm: 0.0612\n",
            "Epoch 213: Train Loss: 0.0000, Test Loss: 0.0000, Train L1 Norm: 0.0025, Test L1 Norm: 0.0023, Train Linf Norm: 0.0758, Test Linf Norm: 0.0586\n",
            "Epoch 214: Train Loss: 0.0000, Test Loss: 0.0000, Train L1 Norm: 0.0025, Test L1 Norm: 0.0023, Train Linf Norm: 0.0733, Test Linf Norm: 0.0552\n",
            "Epoch 215: Train Loss: 0.0000, Test Loss: 0.0000, Train L1 Norm: 0.0025, Test L1 Norm: 0.0024, Train Linf Norm: 0.0737, Test Linf Norm: 0.0592\n",
            "Epoch 216: Train Loss: 0.0000, Test Loss: 0.0000, Train L1 Norm: 0.0024, Test L1 Norm: 0.0023, Train Linf Norm: 0.0696, Test Linf Norm: 0.0573\n",
            "Epoch 217: Train Loss: 0.0000, Test Loss: 0.0000, Train L1 Norm: 0.0025, Test L1 Norm: 0.0023, Train Linf Norm: 0.0746, Test Linf Norm: 0.0593\n",
            "Epoch 218: Train Loss: 0.0000, Test Loss: 0.0000, Train L1 Norm: 0.0025, Test L1 Norm: 0.0025, Train Linf Norm: 0.0728, Test Linf Norm: 0.0649\n",
            "Epoch 219: Train Loss: 0.0000, Test Loss: 0.0000, Train L1 Norm: 0.0025, Test L1 Norm: 0.0023, Train Linf Norm: 0.0730, Test Linf Norm: 0.0598\n",
            "Epoch 220: Train Loss: 0.0000, Test Loss: 0.0000, Train L1 Norm: 0.0025, Test L1 Norm: 0.0024, Train Linf Norm: 0.0736, Test Linf Norm: 0.0600\n",
            "Epoch 221: Train Loss: 0.0000, Test Loss: 0.0000, Train L1 Norm: 0.0025, Test L1 Norm: 0.0023, Train Linf Norm: 0.0759, Test Linf Norm: 0.0561\n",
            "Epoch 222: Train Loss: 0.0000, Test Loss: 0.0000, Train L1 Norm: 0.0025, Test L1 Norm: 0.0022, Train Linf Norm: 0.0738, Test Linf Norm: 0.0541\n",
            "Epoch 223: Train Loss: 0.0000, Test Loss: 0.0000, Train L1 Norm: 0.0025, Test L1 Norm: 0.0023, Train Linf Norm: 0.0738, Test Linf Norm: 0.0560\n",
            "Epoch 224: Train Loss: 0.0000, Test Loss: 0.0000, Train L1 Norm: 0.0025, Test L1 Norm: 0.0023, Train Linf Norm: 0.0738, Test Linf Norm: 0.0584\n",
            "Epoch 225: Train Loss: 0.0000, Test Loss: 0.0000, Train L1 Norm: 0.0025, Test L1 Norm: 0.0025, Train Linf Norm: 0.0740, Test Linf Norm: 0.0675\n",
            "Epoch 226: Train Loss: 0.0000, Test Loss: 0.0000, Train L1 Norm: 0.0025, Test L1 Norm: 0.0022, Train Linf Norm: 0.0752, Test Linf Norm: 0.0561\n",
            "Epoch 227: Train Loss: 0.0000, Test Loss: 0.0000, Train L1 Norm: 0.0025, Test L1 Norm: 0.0024, Train Linf Norm: 0.0744, Test Linf Norm: 0.0630\n",
            "Epoch 228: Train Loss: 0.0000, Test Loss: 0.0000, Train L1 Norm: 0.0025, Test L1 Norm: 0.0023, Train Linf Norm: 0.0740, Test Linf Norm: 0.0593\n",
            "Epoch 229: Train Loss: 0.0000, Test Loss: 0.0000, Train L1 Norm: 0.0025, Test L1 Norm: 0.0023, Train Linf Norm: 0.0739, Test Linf Norm: 0.0596\n",
            "Epoch 230: Train Loss: 0.0000, Test Loss: 0.0000, Train L1 Norm: 0.0025, Test L1 Norm: 0.0023, Train Linf Norm: 0.0754, Test Linf Norm: 0.0586\n",
            "Epoch 231: Train Loss: 0.0000, Test Loss: 0.0000, Train L1 Norm: 0.0025, Test L1 Norm: 0.0023, Train Linf Norm: 0.0731, Test Linf Norm: 0.0575\n",
            "Epoch 232: Train Loss: 0.0000, Test Loss: 0.0000, Train L1 Norm: 0.0025, Test L1 Norm: 0.0024, Train Linf Norm: 0.0756, Test Linf Norm: 0.0594\n",
            "Epoch 233: Train Loss: 0.0000, Test Loss: 0.0000, Train L1 Norm: 0.0025, Test L1 Norm: 0.0023, Train Linf Norm: 0.0743, Test Linf Norm: 0.0559\n",
            "Epoch 234: Train Loss: 0.0000, Test Loss: 0.0000, Train L1 Norm: 0.0025, Test L1 Norm: 0.0024, Train Linf Norm: 0.0739, Test Linf Norm: 0.0612\n",
            "Epoch 235: Train Loss: 0.0000, Test Loss: 0.0000, Train L1 Norm: 0.0025, Test L1 Norm: 0.0022, Train Linf Norm: 0.0763, Test Linf Norm: 0.0541\n",
            "Epoch 236: Train Loss: 0.0000, Test Loss: 0.0000, Train L1 Norm: 0.0025, Test L1 Norm: 0.0022, Train Linf Norm: 0.0775, Test Linf Norm: 0.0552\n",
            "Epoch 237: Train Loss: 0.0000, Test Loss: 0.0000, Train L1 Norm: 0.0025, Test L1 Norm: 0.0023, Train Linf Norm: 0.0742, Test Linf Norm: 0.0584\n",
            "Epoch 238: Train Loss: 0.0000, Test Loss: 0.0000, Train L1 Norm: 0.0025, Test L1 Norm: 0.0023, Train Linf Norm: 0.0766, Test Linf Norm: 0.0567\n",
            "Epoch 239: Train Loss: 0.0000, Test Loss: 0.0000, Train L1 Norm: 0.0025, Test L1 Norm: 0.0022, Train Linf Norm: 0.0739, Test Linf Norm: 0.0538\n",
            "Epoch 240: Train Loss: 0.0000, Test Loss: 0.0000, Train L1 Norm: 0.0025, Test L1 Norm: 0.0024, Train Linf Norm: 0.0750, Test Linf Norm: 0.0609\n",
            "Epoch 241: Train Loss: 0.0000, Test Loss: 0.0000, Train L1 Norm: 0.0025, Test L1 Norm: 0.0023, Train Linf Norm: 0.0733, Test Linf Norm: 0.0582\n",
            "Epoch 242: Train Loss: 0.0000, Test Loss: 0.0000, Train L1 Norm: 0.0025, Test L1 Norm: 0.0026, Train Linf Norm: 0.0727, Test Linf Norm: 0.0678\n",
            "Epoch 243: Train Loss: 0.0000, Test Loss: 0.0000, Train L1 Norm: 0.0025, Test L1 Norm: 0.0022, Train Linf Norm: 0.0760, Test Linf Norm: 0.0550\n",
            "Epoch 244: Train Loss: 0.0000, Test Loss: 0.0000, Train L1 Norm: 0.0025, Test L1 Norm: 0.0022, Train Linf Norm: 0.0736, Test Linf Norm: 0.0520\n",
            "Epoch 245: Train Loss: 0.0000, Test Loss: 0.0000, Train L1 Norm: 0.0025, Test L1 Norm: 0.0022, Train Linf Norm: 0.0724, Test Linf Norm: 0.0548\n",
            "Epoch 246: Train Loss: 0.0000, Test Loss: 0.0000, Train L1 Norm: 0.0025, Test L1 Norm: 0.0023, Train Linf Norm: 0.0736, Test Linf Norm: 0.0588\n",
            "Epoch 247: Train Loss: 0.0000, Test Loss: 0.0000, Train L1 Norm: 0.0026, Test L1 Norm: 0.0028, Train Linf Norm: 0.0786, Test Linf Norm: 0.0807\n",
            "Epoch 248: Train Loss: 0.0000, Test Loss: 0.0000, Train L1 Norm: 0.0025, Test L1 Norm: 0.0023, Train Linf Norm: 0.0741, Test Linf Norm: 0.0585\n",
            "Epoch 249: Train Loss: 0.0000, Test Loss: 0.0000, Train L1 Norm: 0.0025, Test L1 Norm: 0.0024, Train Linf Norm: 0.0752, Test Linf Norm: 0.0625\n",
            "Epoch 250: Train Loss: 0.0000, Test Loss: 0.0000, Train L1 Norm: 0.0025, Test L1 Norm: 0.0023, Train Linf Norm: 0.0737, Test Linf Norm: 0.0590\n",
            "Epoch 251: Train Loss: 0.0000, Test Loss: 0.0000, Train L1 Norm: 0.0025, Test L1 Norm: 0.0022, Train Linf Norm: 0.0737, Test Linf Norm: 0.0547\n",
            "Epoch 252: Train Loss: 0.0000, Test Loss: 0.0000, Train L1 Norm: 0.0024, Test L1 Norm: 0.0023, Train Linf Norm: 0.0729, Test Linf Norm: 0.0564\n",
            "Epoch 253: Train Loss: 0.0000, Test Loss: 0.0000, Train L1 Norm: 0.0025, Test L1 Norm: 0.0022, Train Linf Norm: 0.0727, Test Linf Norm: 0.0557\n",
            "Epoch 254: Train Loss: 0.0000, Test Loss: 0.0000, Train L1 Norm: 0.0024, Test L1 Norm: 0.0023, Train Linf Norm: 0.0716, Test Linf Norm: 0.0588\n",
            "Epoch 255: Train Loss: 0.0000, Test Loss: 0.0000, Train L1 Norm: 0.0025, Test L1 Norm: 0.0023, Train Linf Norm: 0.0740, Test Linf Norm: 0.0568\n",
            "Epoch 256: Train Loss: 0.0000, Test Loss: 0.0000, Train L1 Norm: 0.0025, Test L1 Norm: 0.0022, Train Linf Norm: 0.0739, Test Linf Norm: 0.0538\n",
            "Epoch 257: Train Loss: 0.0000, Test Loss: 0.0000, Train L1 Norm: 0.0024, Test L1 Norm: 0.0023, Train Linf Norm: 0.0737, Test Linf Norm: 0.0568\n",
            "Epoch 258: Train Loss: 0.0000, Test Loss: 0.0000, Train L1 Norm: 0.0024, Test L1 Norm: 0.0022, Train Linf Norm: 0.0734, Test Linf Norm: 0.0560\n",
            "Epoch 259: Train Loss: 0.0000, Test Loss: 0.0000, Train L1 Norm: 0.0024, Test L1 Norm: 0.0022, Train Linf Norm: 0.0722, Test Linf Norm: 0.0558\n",
            "Epoch 260: Train Loss: 0.0000, Test Loss: 0.0000, Train L1 Norm: 0.0025, Test L1 Norm: 0.0023, Train Linf Norm: 0.0739, Test Linf Norm: 0.0588\n",
            "Epoch 261: Train Loss: 0.0000, Test Loss: 0.0000, Train L1 Norm: 0.0025, Test L1 Norm: 0.0022, Train Linf Norm: 0.0743, Test Linf Norm: 0.0550\n",
            "Epoch 262: Train Loss: 0.0000, Test Loss: 0.0000, Train L1 Norm: 0.0025, Test L1 Norm: 0.0022, Train Linf Norm: 0.0750, Test Linf Norm: 0.0562\n",
            "Epoch 263: Train Loss: 0.0000, Test Loss: 0.0000, Train L1 Norm: 0.0024, Test L1 Norm: 0.0022, Train Linf Norm: 0.0730, Test Linf Norm: 0.0536\n",
            "Epoch 264: Train Loss: 0.0000, Test Loss: 0.0000, Train L1 Norm: 0.0025, Test L1 Norm: 0.0022, Train Linf Norm: 0.0744, Test Linf Norm: 0.0552\n",
            "Epoch 265: Train Loss: 0.0000, Test Loss: 0.0000, Train L1 Norm: 0.0024, Test L1 Norm: 0.0022, Train Linf Norm: 0.0735, Test Linf Norm: 0.0553\n",
            "Epoch 266: Train Loss: 0.0000, Test Loss: 0.0000, Train L1 Norm: 0.0025, Test L1 Norm: 0.0023, Train Linf Norm: 0.0732, Test Linf Norm: 0.0572\n",
            "Epoch 267: Train Loss: 0.0000, Test Loss: 0.0000, Train L1 Norm: 0.0025, Test L1 Norm: 0.0022, Train Linf Norm: 0.0743, Test Linf Norm: 0.0542\n",
            "Epoch 268: Train Loss: 0.0000, Test Loss: 0.0000, Train L1 Norm: 0.0024, Test L1 Norm: 0.0023, Train Linf Norm: 0.0728, Test Linf Norm: 0.0574\n",
            "Epoch 269: Train Loss: 0.0000, Test Loss: 0.0000, Train L1 Norm: 0.0024, Test L1 Norm: 0.0023, Train Linf Norm: 0.0731, Test Linf Norm: 0.0577\n",
            "Epoch 270: Train Loss: 0.0000, Test Loss: 0.0000, Train L1 Norm: 0.0025, Test L1 Norm: 0.0022, Train Linf Norm: 0.0746, Test Linf Norm: 0.0546\n",
            "Epoch 271: Train Loss: 0.0000, Test Loss: 0.0000, Train L1 Norm: 0.0025, Test L1 Norm: 0.0022, Train Linf Norm: 0.0734, Test Linf Norm: 0.0543\n",
            "Epoch 272: Train Loss: 0.0000, Test Loss: 0.0000, Train L1 Norm: 0.0024, Test L1 Norm: 0.0023, Train Linf Norm: 0.0733, Test Linf Norm: 0.0589\n",
            "Epoch 273: Train Loss: 0.0000, Test Loss: 0.0000, Train L1 Norm: 0.0025, Test L1 Norm: 0.0022, Train Linf Norm: 0.0735, Test Linf Norm: 0.0555\n",
            "Epoch 274: Train Loss: 0.0000, Test Loss: 0.0000, Train L1 Norm: 0.0025, Test L1 Norm: 0.0022, Train Linf Norm: 0.0729, Test Linf Norm: 0.0551\n",
            "Epoch 275: Train Loss: 0.0000, Test Loss: 0.0000, Train L1 Norm: 0.0025, Test L1 Norm: 0.0022, Train Linf Norm: 0.0737, Test Linf Norm: 0.0561\n",
            "Epoch 276: Train Loss: 0.0000, Test Loss: 0.0000, Train L1 Norm: 0.0024, Test L1 Norm: 0.0022, Train Linf Norm: 0.0719, Test Linf Norm: 0.0557\n",
            "Epoch 277: Train Loss: 0.0000, Test Loss: 0.0000, Train L1 Norm: 0.0025, Test L1 Norm: 0.0022, Train Linf Norm: 0.0732, Test Linf Norm: 0.0551\n",
            "Epoch 278: Train Loss: 0.0000, Test Loss: 0.0000, Train L1 Norm: 0.0025, Test L1 Norm: 0.0022, Train Linf Norm: 0.0740, Test Linf Norm: 0.0558\n",
            "Epoch 279: Train Loss: 0.0000, Test Loss: 0.0000, Train L1 Norm: 0.0024, Test L1 Norm: 0.0022, Train Linf Norm: 0.0729, Test Linf Norm: 0.0553\n",
            "Epoch 280: Train Loss: 0.0000, Test Loss: 0.0000, Train L1 Norm: 0.0025, Test L1 Norm: 0.0022, Train Linf Norm: 0.0739, Test Linf Norm: 0.0555\n",
            "Epoch 281: Train Loss: 0.0000, Test Loss: 0.0000, Train L1 Norm: 0.0024, Test L1 Norm: 0.0022, Train Linf Norm: 0.0734, Test Linf Norm: 0.0561\n",
            "Epoch 282: Train Loss: 0.0000, Test Loss: 0.0000, Train L1 Norm: 0.0024, Test L1 Norm: 0.0023, Train Linf Norm: 0.0732, Test Linf Norm: 0.0565\n",
            "Epoch 283: Train Loss: 0.0000, Test Loss: 0.0000, Train L1 Norm: 0.0024, Test L1 Norm: 0.0023, Train Linf Norm: 0.0736, Test Linf Norm: 0.0562\n",
            "Epoch 284: Train Loss: 0.0000, Test Loss: 0.0000, Train L1 Norm: 0.0025, Test L1 Norm: 0.0022, Train Linf Norm: 0.0733, Test Linf Norm: 0.0542\n",
            "Epoch 285: Train Loss: 0.0000, Test Loss: 0.0000, Train L1 Norm: 0.0024, Test L1 Norm: 0.0022, Train Linf Norm: 0.0735, Test Linf Norm: 0.0560\n",
            "Epoch 286: Train Loss: 0.0000, Test Loss: 0.0000, Train L1 Norm: 0.0025, Test L1 Norm: 0.0022, Train Linf Norm: 0.0741, Test Linf Norm: 0.0550\n",
            "Epoch 287: Train Loss: 0.0000, Test Loss: 0.0000, Train L1 Norm: 0.0024, Test L1 Norm: 0.0022, Train Linf Norm: 0.0734, Test Linf Norm: 0.0544\n",
            "Epoch 288: Train Loss: 0.0000, Test Loss: 0.0000, Train L1 Norm: 0.0024, Test L1 Norm: 0.0022, Train Linf Norm: 0.0736, Test Linf Norm: 0.0554\n",
            "Epoch 289: Train Loss: 0.0000, Test Loss: 0.0000, Train L1 Norm: 0.0024, Test L1 Norm: 0.0022, Train Linf Norm: 0.0733, Test Linf Norm: 0.0537\n",
            "Epoch 290: Train Loss: 0.0000, Test Loss: 0.0000, Train L1 Norm: 0.0024, Test L1 Norm: 0.0022, Train Linf Norm: 0.0737, Test Linf Norm: 0.0541\n",
            "Epoch 291: Train Loss: 0.0000, Test Loss: 0.0000, Train L1 Norm: 0.0025, Test L1 Norm: 0.0022, Train Linf Norm: 0.0736, Test Linf Norm: 0.0545\n",
            "Epoch 292: Train Loss: 0.0000, Test Loss: 0.0000, Train L1 Norm: 0.0024, Test L1 Norm: 0.0022, Train Linf Norm: 0.0731, Test Linf Norm: 0.0551\n",
            "Epoch 293: Train Loss: 0.0000, Test Loss: 0.0000, Train L1 Norm: 0.0025, Test L1 Norm: 0.0022, Train Linf Norm: 0.0736, Test Linf Norm: 0.0549\n",
            "Epoch 294: Train Loss: 0.0000, Test Loss: 0.0000, Train L1 Norm: 0.0024, Test L1 Norm: 0.0022, Train Linf Norm: 0.0731, Test Linf Norm: 0.0550\n",
            "Epoch 295: Train Loss: 0.0000, Test Loss: 0.0000, Train L1 Norm: 0.0024, Test L1 Norm: 0.0022, Train Linf Norm: 0.0733, Test Linf Norm: 0.0547\n",
            "Epoch 296: Train Loss: 0.0000, Test Loss: 0.0000, Train L1 Norm: 0.0024, Test L1 Norm: 0.0022, Train Linf Norm: 0.0735, Test Linf Norm: 0.0548\n",
            "Epoch 297: Train Loss: 0.0000, Test Loss: 0.0000, Train L1 Norm: 0.0024, Test L1 Norm: 0.0022, Train Linf Norm: 0.0737, Test Linf Norm: 0.0550\n",
            "Epoch 298: Train Loss: 0.0000, Test Loss: 0.0000, Train L1 Norm: 0.0024, Test L1 Norm: 0.0022, Train Linf Norm: 0.0743, Test Linf Norm: 0.0549\n",
            "Epoch 299: Train Loss: 0.0000, Test Loss: 0.0000, Train L1 Norm: 0.0024, Test L1 Norm: 0.0022, Train Linf Norm: 0.0736, Test Linf Norm: 0.0546\n",
            "Epoch 300: Train Loss: 0.0000, Test Loss: 0.0000, Train L1 Norm: 0.0024, Test L1 Norm: 0.0022, Train Linf Norm: 0.0733, Test Linf Norm: 0.0547\n",
            "Epoch 301: Train Loss: 0.0000, Test Loss: 0.0000, Train L1 Norm: 0.0024, Test L1 Norm: 0.0022, Train Linf Norm: 0.0734, Test Linf Norm: 0.0549\n",
            "Epoch 302: Train Loss: 0.0000, Test Loss: 0.0000, Train L1 Norm: 0.0024, Test L1 Norm: 0.0022, Train Linf Norm: 0.0735, Test Linf Norm: 0.0550\n",
            "Epoch 303: Train Loss: 0.0000, Test Loss: 0.0000, Train L1 Norm: 0.0024, Test L1 Norm: 0.0022, Train Linf Norm: 0.0726, Test Linf Norm: 0.0552\n",
            "Epoch 304: Train Loss: 0.0000, Test Loss: 0.0000, Train L1 Norm: 0.0024, Test L1 Norm: 0.0022, Train Linf Norm: 0.0730, Test Linf Norm: 0.0549\n",
            "Epoch 305: Train Loss: 0.0000, Test Loss: 0.0000, Train L1 Norm: 0.0024, Test L1 Norm: 0.0022, Train Linf Norm: 0.0724, Test Linf Norm: 0.0546\n",
            "Epoch 306: Train Loss: 0.0000, Test Loss: 0.0000, Train L1 Norm: 0.0024, Test L1 Norm: 0.0022, Train Linf Norm: 0.0728, Test Linf Norm: 0.0545\n",
            "Epoch 307: Train Loss: 0.0000, Test Loss: 0.0000, Train L1 Norm: 0.0024, Test L1 Norm: 0.0022, Train Linf Norm: 0.0731, Test Linf Norm: 0.0547\n",
            "Epoch 308: Train Loss: 0.0000, Test Loss: 0.0000, Train L1 Norm: 0.0024, Test L1 Norm: 0.0022, Train Linf Norm: 0.0737, Test Linf Norm: 0.0548\n",
            "Epoch 309: Train Loss: 0.0000, Test Loss: 0.0000, Train L1 Norm: 0.0024, Test L1 Norm: 0.0022, Train Linf Norm: 0.0730, Test Linf Norm: 0.0547\n",
            "Epoch 310: Train Loss: 0.0000, Test Loss: 0.0000, Train L1 Norm: 0.0024, Test L1 Norm: 0.0022, Train Linf Norm: 0.0731, Test Linf Norm: 0.0548\n",
            "Epoch 311: Train Loss: 0.0000, Test Loss: 0.0000, Train L1 Norm: 0.0024, Test L1 Norm: 0.0022, Train Linf Norm: 0.0730, Test Linf Norm: 0.0549\n",
            "Epoch 312: Train Loss: 0.0000, Test Loss: 0.0000, Train L1 Norm: 0.0024, Test L1 Norm: 0.0022, Train Linf Norm: 0.0734, Test Linf Norm: 0.0549\n",
            "Epoch 313: Train Loss: 0.0000, Test Loss: 0.0000, Train L1 Norm: 0.0024, Test L1 Norm: 0.0022, Train Linf Norm: 0.0727, Test Linf Norm: 0.0549\n",
            "Epoch 314: Train Loss: 0.0000, Test Loss: 0.0000, Train L1 Norm: 0.0024, Test L1 Norm: 0.0022, Train Linf Norm: 0.0736, Test Linf Norm: 0.0550\n",
            "Epoch 315: Train Loss: 0.0000, Test Loss: 0.0000, Train L1 Norm: 0.0024, Test L1 Norm: 0.0022, Train Linf Norm: 0.0714, Test Linf Norm: 0.0549\n",
            "Epoch 316: Train Loss: 0.0000, Test Loss: 0.0000, Train L1 Norm: 0.0024, Test L1 Norm: 0.0022, Train Linf Norm: 0.0731, Test Linf Norm: 0.0547\n",
            "Epoch 317: Train Loss: 0.0000, Test Loss: 0.0000, Train L1 Norm: 0.0024, Test L1 Norm: 0.0022, Train Linf Norm: 0.0735, Test Linf Norm: 0.0545\n",
            "Epoch 318: Train Loss: 0.0000, Test Loss: 0.0000, Train L1 Norm: 0.0024, Test L1 Norm: 0.0022, Train Linf Norm: 0.0736, Test Linf Norm: 0.0543\n",
            "Epoch 319: Train Loss: 0.0000, Test Loss: 0.0000, Train L1 Norm: 0.0024, Test L1 Norm: 0.0022, Train Linf Norm: 0.0733, Test Linf Norm: 0.0549\n",
            "Epoch 320: Train Loss: 0.0000, Test Loss: 0.0000, Train L1 Norm: 0.0024, Test L1 Norm: 0.0022, Train Linf Norm: 0.0739, Test Linf Norm: 0.0549\n",
            "Epoch 321: Train Loss: 0.0000, Test Loss: 0.0000, Train L1 Norm: 0.0024, Test L1 Norm: 0.0022, Train Linf Norm: 0.0726, Test Linf Norm: 0.0549\n",
            "Epoch 322: Train Loss: 0.0000, Test Loss: 0.0000, Train L1 Norm: 0.0024, Test L1 Norm: 0.0022, Train Linf Norm: 0.0734, Test Linf Norm: 0.0548\n",
            "Epoch 323: Train Loss: 0.0000, Test Loss: 0.0000, Train L1 Norm: 0.0024, Test L1 Norm: 0.0022, Train Linf Norm: 0.0725, Test Linf Norm: 0.0549\n",
            "Epoch 324: Train Loss: 0.0000, Test Loss: 0.0000, Train L1 Norm: 0.0024, Test L1 Norm: 0.0022, Train Linf Norm: 0.0730, Test Linf Norm: 0.0548\n",
            "Epoch 325: Train Loss: 0.0000, Test Loss: 0.0000, Train L1 Norm: 0.0024, Test L1 Norm: 0.0022, Train Linf Norm: 0.0738, Test Linf Norm: 0.0547\n",
            "Epoch 326: Train Loss: 0.0000, Test Loss: 0.0000, Train L1 Norm: 0.0024, Test L1 Norm: 0.0022, Train Linf Norm: 0.0734, Test Linf Norm: 0.0545\n",
            "Epoch 327: Train Loss: 0.0000, Test Loss: 0.0000, Train L1 Norm: 0.0024, Test L1 Norm: 0.0022, Train Linf Norm: 0.0735, Test Linf Norm: 0.0546\n",
            "Epoch 328: Train Loss: 0.0000, Test Loss: 0.0000, Train L1 Norm: 0.0024, Test L1 Norm: 0.0022, Train Linf Norm: 0.0731, Test Linf Norm: 0.0544\n",
            "Epoch 329: Train Loss: 0.0000, Test Loss: 0.0000, Train L1 Norm: 0.0024, Test L1 Norm: 0.0022, Train Linf Norm: 0.0725, Test Linf Norm: 0.0546\n",
            "Epoch 330: Train Loss: 0.0000, Test Loss: 0.0000, Train L1 Norm: 0.0024, Test L1 Norm: 0.0022, Train Linf Norm: 0.0732, Test Linf Norm: 0.0547\n",
            "Epoch 331: Train Loss: 0.0000, Test Loss: 0.0000, Train L1 Norm: 0.0024, Test L1 Norm: 0.0022, Train Linf Norm: 0.0729, Test Linf Norm: 0.0549\n",
            "Epoch 332: Train Loss: 0.0000, Test Loss: 0.0000, Train L1 Norm: 0.0024, Test L1 Norm: 0.0022, Train Linf Norm: 0.0733, Test Linf Norm: 0.0549\n",
            "Epoch 333: Train Loss: 0.0000, Test Loss: 0.0000, Train L1 Norm: 0.0024, Test L1 Norm: 0.0022, Train Linf Norm: 0.0736, Test Linf Norm: 0.0547\n",
            "Epoch 334: Train Loss: 0.0000, Test Loss: 0.0000, Train L1 Norm: 0.0024, Test L1 Norm: 0.0022, Train Linf Norm: 0.0728, Test Linf Norm: 0.0550\n",
            "Epoch 335: Train Loss: 0.0000, Test Loss: 0.0000, Train L1 Norm: 0.0024, Test L1 Norm: 0.0022, Train Linf Norm: 0.0732, Test Linf Norm: 0.0547\n",
            "Epoch 336: Train Loss: 0.0000, Test Loss: 0.0000, Train L1 Norm: 0.0024, Test L1 Norm: 0.0022, Train Linf Norm: 0.0731, Test Linf Norm: 0.0545\n",
            "Epoch 337: Train Loss: 0.0000, Test Loss: 0.0000, Train L1 Norm: 0.0024, Test L1 Norm: 0.0022, Train Linf Norm: 0.0727, Test Linf Norm: 0.0547\n",
            "Epoch 338: Train Loss: 0.0000, Test Loss: 0.0000, Train L1 Norm: 0.0024, Test L1 Norm: 0.0022, Train Linf Norm: 0.0734, Test Linf Norm: 0.0546\n",
            "Epoch 339: Train Loss: 0.0000, Test Loss: 0.0000, Train L1 Norm: 0.0024, Test L1 Norm: 0.0022, Train Linf Norm: 0.0734, Test Linf Norm: 0.0549\n",
            "Epoch 340: Train Loss: 0.0000, Test Loss: 0.0000, Train L1 Norm: 0.0024, Test L1 Norm: 0.0022, Train Linf Norm: 0.0730, Test Linf Norm: 0.0546\n",
            "Epoch 341: Train Loss: 0.0000, Test Loss: 0.0000, Train L1 Norm: 0.0024, Test L1 Norm: 0.0022, Train Linf Norm: 0.0735, Test Linf Norm: 0.0545\n",
            "Epoch 342: Train Loss: 0.0000, Test Loss: 0.0000, Train L1 Norm: 0.0024, Test L1 Norm: 0.0022, Train Linf Norm: 0.0730, Test Linf Norm: 0.0548\n",
            "Epoch 343: Train Loss: 0.0000, Test Loss: 0.0000, Train L1 Norm: 0.0024, Test L1 Norm: 0.0022, Train Linf Norm: 0.0739, Test Linf Norm: 0.0548\n",
            "Epoch 344: Train Loss: 0.0000, Test Loss: 0.0000, Train L1 Norm: 0.0024, Test L1 Norm: 0.0022, Train Linf Norm: 0.0733, Test Linf Norm: 0.0546\n",
            "Epoch 345: Train Loss: 0.0000, Test Loss: 0.0000, Train L1 Norm: 0.0024, Test L1 Norm: 0.0022, Train Linf Norm: 0.0731, Test Linf Norm: 0.0545\n",
            "Epoch 346: Train Loss: 0.0000, Test Loss: 0.0000, Train L1 Norm: 0.0024, Test L1 Norm: 0.0022, Train Linf Norm: 0.0732, Test Linf Norm: 0.0546\n",
            "Epoch 347: Train Loss: 0.0000, Test Loss: 0.0000, Train L1 Norm: 0.0024, Test L1 Norm: 0.0022, Train Linf Norm: 0.0734, Test Linf Norm: 0.0549\n",
            "Epoch 348: Train Loss: 0.0000, Test Loss: 0.0000, Train L1 Norm: 0.0024, Test L1 Norm: 0.0022, Train Linf Norm: 0.0729, Test Linf Norm: 0.0548\n",
            "Epoch 349: Train Loss: 0.0000, Test Loss: 0.0000, Train L1 Norm: 0.0024, Test L1 Norm: 0.0022, Train Linf Norm: 0.0732, Test Linf Norm: 0.0548\n",
            "Epoch 350: Train Loss: 0.0000, Test Loss: 0.0000, Train L1 Norm: 0.0024, Test L1 Norm: 0.0022, Train Linf Norm: 0.0730, Test Linf Norm: 0.0548\n",
            "Epoch 351: Train Loss: 0.0000, Test Loss: 0.0000, Train L1 Norm: 0.0024, Test L1 Norm: 0.0022, Train Linf Norm: 0.0738, Test Linf Norm: 0.0546\n",
            "Epoch 352: Train Loss: 0.0000, Test Loss: 0.0000, Train L1 Norm: 0.0024, Test L1 Norm: 0.0022, Train Linf Norm: 0.0728, Test Linf Norm: 0.0546\n",
            "Epoch 353: Train Loss: 0.0000, Test Loss: 0.0000, Train L1 Norm: 0.0024, Test L1 Norm: 0.0022, Train Linf Norm: 0.0733, Test Linf Norm: 0.0545\n",
            "Epoch 354: Train Loss: 0.0000, Test Loss: 0.0000, Train L1 Norm: 0.0024, Test L1 Norm: 0.0022, Train Linf Norm: 0.0738, Test Linf Norm: 0.0548\n",
            "Epoch 355: Train Loss: 0.0000, Test Loss: 0.0000, Train L1 Norm: 0.0024, Test L1 Norm: 0.0022, Train Linf Norm: 0.0738, Test Linf Norm: 0.0548\n",
            "Epoch 356: Train Loss: 0.0000, Test Loss: 0.0000, Train L1 Norm: 0.0024, Test L1 Norm: 0.0022, Train Linf Norm: 0.0738, Test Linf Norm: 0.0547\n",
            "Epoch 357: Train Loss: 0.0000, Test Loss: 0.0000, Train L1 Norm: 0.0024, Test L1 Norm: 0.0022, Train Linf Norm: 0.0738, Test Linf Norm: 0.0549\n",
            "Epoch 358: Train Loss: 0.0000, Test Loss: 0.0000, Train L1 Norm: 0.0024, Test L1 Norm: 0.0022, Train Linf Norm: 0.0733, Test Linf Norm: 0.0548\n",
            "Epoch 359: Train Loss: 0.0000, Test Loss: 0.0000, Train L1 Norm: 0.0024, Test L1 Norm: 0.0022, Train Linf Norm: 0.0735, Test Linf Norm: 0.0546\n",
            "Epoch 360: Train Loss: 0.0000, Test Loss: 0.0000, Train L1 Norm: 0.0024, Test L1 Norm: 0.0022, Train Linf Norm: 0.0736, Test Linf Norm: 0.0545\n",
            "Epoch 361: Train Loss: 0.0000, Test Loss: 0.0000, Train L1 Norm: 0.0024, Test L1 Norm: 0.0022, Train Linf Norm: 0.0729, Test Linf Norm: 0.0546\n",
            "Epoch 362: Train Loss: 0.0000, Test Loss: 0.0000, Train L1 Norm: 0.0024, Test L1 Norm: 0.0022, Train Linf Norm: 0.0733, Test Linf Norm: 0.0545\n",
            "Epoch 363: Train Loss: 0.0000, Test Loss: 0.0000, Train L1 Norm: 0.0024, Test L1 Norm: 0.0022, Train Linf Norm: 0.0730, Test Linf Norm: 0.0547\n",
            "Epoch 364: Train Loss: 0.0000, Test Loss: 0.0000, Train L1 Norm: 0.0024, Test L1 Norm: 0.0022, Train Linf Norm: 0.0734, Test Linf Norm: 0.0549\n",
            "Epoch 365: Train Loss: 0.0000, Test Loss: 0.0000, Train L1 Norm: 0.0024, Test L1 Norm: 0.0022, Train Linf Norm: 0.0740, Test Linf Norm: 0.0548\n",
            "Epoch 366: Train Loss: 0.0000, Test Loss: 0.0000, Train L1 Norm: 0.0024, Test L1 Norm: 0.0022, Train Linf Norm: 0.0730, Test Linf Norm: 0.0547\n",
            "Epoch 367: Train Loss: 0.0000, Test Loss: 0.0000, Train L1 Norm: 0.0024, Test L1 Norm: 0.0022, Train Linf Norm: 0.0733, Test Linf Norm: 0.0546\n",
            "Epoch 368: Train Loss: 0.0000, Test Loss: 0.0000, Train L1 Norm: 0.0024, Test L1 Norm: 0.0022, Train Linf Norm: 0.0731, Test Linf Norm: 0.0550\n",
            "Epoch 369: Train Loss: 0.0000, Test Loss: 0.0000, Train L1 Norm: 0.0024, Test L1 Norm: 0.0022, Train Linf Norm: 0.0730, Test Linf Norm: 0.0549\n",
            "Epoch 370: Train Loss: 0.0000, Test Loss: 0.0000, Train L1 Norm: 0.0024, Test L1 Norm: 0.0022, Train Linf Norm: 0.0730, Test Linf Norm: 0.0545\n",
            "Epoch 371: Train Loss: 0.0000, Test Loss: 0.0000, Train L1 Norm: 0.0024, Test L1 Norm: 0.0022, Train Linf Norm: 0.0725, Test Linf Norm: 0.0547\n",
            "Epoch 372: Train Loss: 0.0000, Test Loss: 0.0000, Train L1 Norm: 0.0024, Test L1 Norm: 0.0022, Train Linf Norm: 0.0736, Test Linf Norm: 0.0546\n",
            "Epoch 373: Train Loss: 0.0000, Test Loss: 0.0000, Train L1 Norm: 0.0024, Test L1 Norm: 0.0022, Train Linf Norm: 0.0735, Test Linf Norm: 0.0545\n",
            "Epoch 374: Train Loss: 0.0000, Test Loss: 0.0000, Train L1 Norm: 0.0024, Test L1 Norm: 0.0022, Train Linf Norm: 0.0732, Test Linf Norm: 0.0545\n",
            "Epoch 375: Train Loss: 0.0000, Test Loss: 0.0000, Train L1 Norm: 0.0024, Test L1 Norm: 0.0022, Train Linf Norm: 0.0731, Test Linf Norm: 0.0547\n",
            "Epoch 376: Train Loss: 0.0000, Test Loss: 0.0000, Train L1 Norm: 0.0024, Test L1 Norm: 0.0022, Train Linf Norm: 0.0736, Test Linf Norm: 0.0547\n",
            "Epoch 377: Train Loss: 0.0000, Test Loss: 0.0000, Train L1 Norm: 0.0024, Test L1 Norm: 0.0022, Train Linf Norm: 0.0733, Test Linf Norm: 0.0546\n",
            "Epoch 378: Train Loss: 0.0000, Test Loss: 0.0000, Train L1 Norm: 0.0024, Test L1 Norm: 0.0022, Train Linf Norm: 0.0731, Test Linf Norm: 0.0546\n",
            "Epoch 379: Train Loss: 0.0000, Test Loss: 0.0000, Train L1 Norm: 0.0024, Test L1 Norm: 0.0022, Train Linf Norm: 0.0731, Test Linf Norm: 0.0547\n",
            "Epoch 380: Train Loss: 0.0000, Test Loss: 0.0000, Train L1 Norm: 0.0024, Test L1 Norm: 0.0022, Train Linf Norm: 0.0728, Test Linf Norm: 0.0547\n",
            "Epoch 381: Train Loss: 0.0000, Test Loss: 0.0000, Train L1 Norm: 0.0024, Test L1 Norm: 0.0022, Train Linf Norm: 0.0739, Test Linf Norm: 0.0547\n",
            "Epoch 382: Train Loss: 0.0000, Test Loss: 0.0000, Train L1 Norm: 0.0024, Test L1 Norm: 0.0022, Train Linf Norm: 0.0728, Test Linf Norm: 0.0547\n",
            "Epoch 383: Train Loss: 0.0000, Test Loss: 0.0000, Train L1 Norm: 0.0024, Test L1 Norm: 0.0022, Train Linf Norm: 0.0735, Test Linf Norm: 0.0546\n",
            "Epoch 384: Train Loss: 0.0000, Test Loss: 0.0000, Train L1 Norm: 0.0024, Test L1 Norm: 0.0022, Train Linf Norm: 0.0737, Test Linf Norm: 0.0544\n",
            "Epoch 385: Train Loss: 0.0000, Test Loss: 0.0000, Train L1 Norm: 0.0024, Test L1 Norm: 0.0022, Train Linf Norm: 0.0728, Test Linf Norm: 0.0545\n",
            "Epoch 386: Train Loss: 0.0000, Test Loss: 0.0000, Train L1 Norm: 0.0024, Test L1 Norm: 0.0022, Train Linf Norm: 0.0738, Test Linf Norm: 0.0547\n",
            "Epoch 387: Train Loss: 0.0000, Test Loss: 0.0000, Train L1 Norm: 0.0024, Test L1 Norm: 0.0022, Train Linf Norm: 0.0734, Test Linf Norm: 0.0544\n",
            "Epoch 388: Train Loss: 0.0000, Test Loss: 0.0000, Train L1 Norm: 0.0024, Test L1 Norm: 0.0022, Train Linf Norm: 0.0735, Test Linf Norm: 0.0545\n",
            "Epoch 389: Train Loss: 0.0000, Test Loss: 0.0000, Train L1 Norm: 0.0024, Test L1 Norm: 0.0022, Train Linf Norm: 0.0730, Test Linf Norm: 0.0548\n",
            "Epoch 390: Train Loss: 0.0000, Test Loss: 0.0000, Train L1 Norm: 0.0024, Test L1 Norm: 0.0022, Train Linf Norm: 0.0736, Test Linf Norm: 0.0547\n",
            "Epoch 391: Train Loss: 0.0000, Test Loss: 0.0000, Train L1 Norm: 0.0024, Test L1 Norm: 0.0022, Train Linf Norm: 0.0734, Test Linf Norm: 0.0546\n",
            "Epoch 392: Train Loss: 0.0000, Test Loss: 0.0000, Train L1 Norm: 0.0024, Test L1 Norm: 0.0022, Train Linf Norm: 0.0730, Test Linf Norm: 0.0547\n",
            "Epoch 393: Train Loss: 0.0000, Test Loss: 0.0000, Train L1 Norm: 0.0024, Test L1 Norm: 0.0022, Train Linf Norm: 0.0723, Test Linf Norm: 0.0548\n",
            "Epoch 394: Train Loss: 0.0000, Test Loss: 0.0000, Train L1 Norm: 0.0024, Test L1 Norm: 0.0022, Train Linf Norm: 0.0737, Test Linf Norm: 0.0545\n",
            "Epoch 395: Train Loss: 0.0000, Test Loss: 0.0000, Train L1 Norm: 0.0024, Test L1 Norm: 0.0022, Train Linf Norm: 0.0724, Test Linf Norm: 0.0546\n",
            "Epoch 396: Train Loss: 0.0000, Test Loss: 0.0000, Train L1 Norm: 0.0024, Test L1 Norm: 0.0022, Train Linf Norm: 0.0734, Test Linf Norm: 0.0549\n",
            "Epoch 397: Train Loss: 0.0000, Test Loss: 0.0000, Train L1 Norm: 0.0024, Test L1 Norm: 0.0022, Train Linf Norm: 0.0741, Test Linf Norm: 0.0545\n",
            "Epoch 398: Train Loss: 0.0000, Test Loss: 0.0000, Train L1 Norm: 0.0024, Test L1 Norm: 0.0022, Train Linf Norm: 0.0734, Test Linf Norm: 0.0544\n",
            "Epoch 399: Train Loss: 0.0000, Test Loss: 0.0000, Train L1 Norm: 0.0024, Test L1 Norm: 0.0022, Train Linf Norm: 0.0732, Test Linf Norm: 0.0546\n",
            "Epoch 400: Train Loss: 0.0000, Test Loss: 0.0000, Train L1 Norm: 0.0024, Test L1 Norm: 0.0022, Train Linf Norm: 0.0739, Test Linf Norm: 0.0544\n"
          ]
        }
      ],
      "source": [
        "# Training and evaluating the network using the train_and_eval function\n",
        "train_losses, test_losses, train_metrics, test_metrics = train_and_eval(\n",
        "    net, loss_fn, optimizer, batch_size, n_epochs, scheduler\n",
        ")"
      ]
    },
    {
      "cell_type": "markdown",
      "metadata": {
        "id": "akNucrgMUZiW"
      },
      "source": [
        "## Saving"
      ]
    },
    {
      "cell_type": "code",
      "execution_count": 69,
      "metadata": {
        "id": "LHsrs2Y-UZic"
      },
      "outputs": [],
      "source": [
        "import json\n",
        "\n",
        "# save the network to a .pth file\n",
        "torch.save(net.state_dict(), \"net.pth\")\n",
        "save_file(\"net.pth\")\n",
        "\n",
        "# save the optimizer to a .pth file\n",
        "torch.save(optimizer.state_dict(), \"optimizer.pth\")\n",
        "save_file(\"optimizer.pth\")\n",
        "\n",
        "# save the scheduler to a .pth file if it is not None\n",
        "if scheduler is not None:\n",
        "  torch.save(scheduler.state_dict(), \"scheduler.pth\")\n",
        "  save_file(\"scheduler.pth\")\n",
        "\n",
        "# create a dictionary to store the rest of the variables\n",
        "var_dict = {\n",
        "  \"batch_size\": batch_size,\n",
        "  \"n_epochs\": n_epochs,\n",
        "  \"loss_name\": loss_name,\n",
        "  \"optimizer_name\": optimizer_name,\n",
        "  \"scheduler_name\": scheduler_name,\n",
        "  \"n_units\": n_units,\n",
        "  \"n_layers\": n_layers,\n",
        "  \"hidden_activation_name\": hidden_activation.__class__.__name__,\n",
        "  \"output_activation_name\": output_activation.__class__.__name__,\n",
        "  \"lr\": lr,\n",
        "}\n",
        "\n",
        "# save the dictionary to a .json file\n",
        "with open(\"var_dict.json\", \"w\") as f:\n",
        "  json.dump(var_dict, f)\n",
        "save_file(\"var_dict.json\")\n",
        "\n",
        "# Saving the output of the training using pandas\n",
        "train_df = pd.DataFrame(\n",
        "    {\n",
        "        \"train_loss\": train_losses,\n",
        "        \"test_loss\": test_losses,\n",
        "        \"train_l1_norm\": [m[\"l1_norm\"] for m in train_metrics],\n",
        "        \"test_l1_norm\": [m[\"l1_norm\"] for m in test_metrics],\n",
        "        \"train_linf_norm\": [m[\"linf_norm\"] for m in train_metrics],\n",
        "        \"test_linf_norm\": [m[\"linf_norm\"] for m in test_metrics],\n",
        "    }\n",
        ")\n",
        "train_df.to_csv(\"train_output.csv\", index=False)\n",
        "save_file(\"train_output.csv\")\n"
      ]
    },
    {
      "cell_type": "markdown",
      "metadata": {
        "id": "qU23l7dIUZie"
      },
      "source": [
        "## Visualizing the results"
      ]
    },
    {
      "cell_type": "code",
      "execution_count": 70,
      "metadata": {
        "colab": {
          "base_uri": "https://localhost:8080/",
          "height": 1000
        },
        "id": "cippWZS6UZie",
        "outputId": "f0d6e5c3-945f-481b-a153-e54fed7fe9fa"
      },
      "outputs": [
        {
          "data": {
            "text/plain": [
              "<Figure size 1200x800 with 0 Axes>"
            ]
          },
          "execution_count": 70,
          "metadata": {},
          "output_type": "execute_result"
        },
        {
          "data": {
            "text/plain": [
              "<Axes: >"
            ]
          },
          "execution_count": 70,
          "metadata": {},
          "output_type": "execute_result"
        },
        {
          "data": {
            "text/plain": [
              "[<matplotlib.lines.Line2D at 0x7fdf6180c700>]"
            ]
          },
          "execution_count": 70,
          "metadata": {},
          "output_type": "execute_result"
        },
        {
          "data": {
            "text/plain": [
              "[<matplotlib.lines.Line2D at 0x7fdf6180d0c0>]"
            ]
          },
          "execution_count": 70,
          "metadata": {},
          "output_type": "execute_result"
        },
        {
          "data": {
            "text/plain": [
              "Text(0.5, 0, 'Epoch')"
            ]
          },
          "execution_count": 70,
          "metadata": {},
          "output_type": "execute_result"
        },
        {
          "data": {
            "text/plain": [
              "Text(0, 0.5, 'L1 Norm')"
            ]
          },
          "execution_count": 70,
          "metadata": {},
          "output_type": "execute_result"
        },
        {
          "data": {
            "text/plain": [
              "(0.001, 100.0)"
            ]
          },
          "execution_count": 70,
          "metadata": {},
          "output_type": "execute_result"
        },
        {
          "data": {
            "text/plain": [
              "<matplotlib.legend.Legend at 0x7fdf6180d750>"
            ]
          },
          "execution_count": 70,
          "metadata": {},
          "output_type": "execute_result"
        },
        {
          "data": {
            "text/plain": [
              "<Axes: >"
            ]
          },
          "execution_count": 70,
          "metadata": {},
          "output_type": "execute_result"
        },
        {
          "data": {
            "text/plain": [
              "[<matplotlib.lines.Line2D at 0x7fdf640a2e90>]"
            ]
          },
          "execution_count": 70,
          "metadata": {},
          "output_type": "execute_result"
        },
        {
          "data": {
            "text/plain": [
              "[<matplotlib.lines.Line2D at 0x7fdf640a0970>]"
            ]
          },
          "execution_count": 70,
          "metadata": {},
          "output_type": "execute_result"
        },
        {
          "data": {
            "text/plain": [
              "Text(0.5, 0, 'Epoch')"
            ]
          },
          "execution_count": 70,
          "metadata": {},
          "output_type": "execute_result"
        },
        {
          "data": {
            "text/plain": [
              "Text(0, 0.5, 'Linf Norm')"
            ]
          },
          "execution_count": 70,
          "metadata": {},
          "output_type": "execute_result"
        },
        {
          "data": {
            "text/plain": [
              "(0.001, 100.0)"
            ]
          },
          "execution_count": 70,
          "metadata": {},
          "output_type": "execute_result"
        },
        {
          "data": {
            "text/plain": [
              "<matplotlib.legend.Legend at 0x7fdf2c842680>"
            ]
          },
          "execution_count": 70,
          "metadata": {},
          "output_type": "execute_result"
        },
        {
          "data": {
            "image/png": "[encoded data removed]",
            "text/plain": [
              "<Figure size 1200x800 with 2 Axes>"
            ]
          },
          "metadata": {},
          "output_type": "display_data"
        },
        {
          "data": {
            "text/plain": [
              "<Figure size 800x600 with 0 Axes>"
            ]
          },
          "execution_count": 70,
          "metadata": {},
          "output_type": "execute_result"
        },
        {
          "data": {
            "text/plain": [
              "[<matplotlib.lines.Line2D at 0x7fdf38d06590>]"
            ]
          },
          "execution_count": 70,
          "metadata": {},
          "output_type": "execute_result"
        },
        {
          "data": {
            "text/plain": [
              "[<matplotlib.lines.Line2D at 0x7fdf38d07790>]"
            ]
          },
          "execution_count": 70,
          "metadata": {},
          "output_type": "execute_result"
        },
        {
          "data": {
            "text/plain": [
              "Text(0.5, 0, 'Epoch')"
            ]
          },
          "execution_count": 70,
          "metadata": {},
          "output_type": "execute_result"
        },
        {
          "data": {
            "text/plain": [
              "Text(0, 0.5, 'MSE')"
            ]
          },
          "execution_count": 70,
          "metadata": {},
          "output_type": "execute_result"
        },
        {
          "data": {
            "text/plain": [
              "(1e-07, 1.0)"
            ]
          },
          "execution_count": 70,
          "metadata": {},
          "output_type": "execute_result"
        },
        {
          "data": {
            "text/plain": [
              "<matplotlib.legend.Legend at 0x7fdf641b89d0>"
            ]
          },
          "execution_count": 70,
          "metadata": {},
          "output_type": "execute_result"
        },
        {
          "data": {
            "image/png": "[encoded data removed]",
            "text/plain": [
              "<Figure size 800x600 with 1 Axes>"
            ]
          },
          "metadata": {},
          "output_type": "display_data"
        }
      ],
      "source": [
        "# Plotting the losses and metrics for the best network \n",
        "plt.figure(figsize=(12, 8))\n",
        "#plt.subplot(2, 2, 1)\n",
        "#plt.plot(train_losses, label=\"Train Loss\")\n",
        "#plt.plot(test_losses, label=\"Test Loss\")\n",
        "#plt.xlabel(\"Epoch\")\n",
        "#plt.ylabel(\"Loss\")\n",
        "#plt.legend()\n",
        "plt.subplot(2, 2, 2)\n",
        "plt.plot([m[\"l1_norm\"] for m in train_metrics], label=\"Train L1 Norm\")\n",
        "plt.plot([m[\"l1_norm\"] for m in test_metrics], label=\"Test L1 Norm\")\n",
        "plt.xlabel(\"Epoch\")\n",
        "plt.ylabel(\"L1 Norm\")\n",
        "# Added setting the vertical axis to be in powers of 10\n",
        "plt.yscale(\"log\")\n",
        "# Added setting the vertical axis limits to be from 10^-7 to 10^0\n",
        "plt.ylim(1e-3, 1e2)\n",
        "plt.legend()\n",
        "plt.subplot(2, 2, 3)\n",
        "plt.plot([m[\"linf_norm\"] for m in train_metrics], label=\"Train Linf Norm\")\n",
        "plt.plot([m[\"linf_norm\"] for m in test_metrics], label=\"Test Linf Norm\")\n",
        "plt.xlabel(\"Epoch\")\n",
        "plt.ylabel(\"Linf Norm\")\n",
        "# Added setting the vertical axis to be in powers of 10\n",
        "plt.yscale(\"log\")\n",
        "# Added setting the vertical axis limits to be from 10^-7 to 10^0\n",
        "plt.ylim(1e-3, 1e2)\n",
        "plt.legend()\n",
        "plt.tight_layout()\n",
        "plt.show()\n",
        "\n",
        "# Added plotting MSE of training data and MSE of test data in one plot \n",
        "plt.figure(figsize=(8, 6))\n",
        "plt.plot(train_losses,label=\"training data\")\n",
        "plt.plot(test_losses,label=\"test data\")\n",
        "#if scheduler is not None:\n",
        "#    plt.plot([scheduler.get_last_lr()[0] for _ in range(n_epochs)], label=\"Learning rate\") \n",
        "plt.xlabel(\"Epoch\")\n",
        "plt.ylabel(\"MSE\")\n",
        "# Added setting the vertical axis to be in powers of 10\n",
        "plt.yscale(\"log\")\n",
        "# Added setting the vertical axis limits to be from 10^-7 to 10^0\n",
        "plt.ylim(1e-7, 1e0)\n",
        "plt.legend()\n",
        "plt.show()"
      ]
    },
    {
      "cell_type": "markdown",
      "metadata": {
        "id": "tiEDutxIUZig"
      },
      "source": [
        "## Loading"
      ]
    },
    {
      "cell_type": "code",
      "execution_count": 24,
      "metadata": {
        "colab": {
          "base_uri": "https://localhost:8080/"
        },
        "id": "p7Mj990wUZih",
        "outputId": "a1132948-c3b1-4d75-becf-4efa93c9a7d0"
      },
      "outputs": [
        {
          "data": {
            "text/plain": [
              "<All keys matched successfully>"
            ]
          },
          "execution_count": 24,
          "metadata": {},
          "output_type": "execute_result"
        }
      ],
      "source": [
        "import json\n",
        "import pandas as pd\n",
        "\n",
        "# load the dictionary from the .json file\n",
        "with open(\"var_dict.json\", \"r\") as f:\n",
        "  var_dict_loaded = json.load(f)\n",
        "\n",
        "# extract the variables from the dictionary\n",
        "batch_size_loaded = var_dict_loaded[\"batch_size\"]\n",
        "n_epochs_loaded = var_dict_loaded[\"n_epochs\"]\n",
        "loss_name_loaded = var_dict_loaded[\"loss_name\"]\n",
        "optimizer_name_loaded = var_dict_loaded[\"optimizer_name\"]\n",
        "scheduler_name_loaded = var_dict_loaded[\"scheduler_name\"]\n",
        "n_units_loaded = var_dict_loaded[\"n_units\"]\n",
        "n_layers_loaded = var_dict_loaded[\"n_layers\"]\n",
        "hidden_activation_name_loaded = var_dict_loaded[\"hidden_activation_name\"]\n",
        "output_activation_name_loaded = var_dict_loaded[\"output_activation_name\"]\n",
        "lr_loaded = var_dict_loaded[\"lr\"]\n",
        "\n",
        "# create the activation functions from their names\n",
        "if hidden_activation_name_loaded == \"ReLU\":\n",
        "  hidden_activation_loaded = nn.ReLU()\n",
        "elif hidden_activation_name_loaded == \"LeakyReLU\":\n",
        "  hidden_activation_loaded = nn.LeakyReLU() \n",
        "elif hidden_activation_name_loaded == \"ELU\":\n",
        "  hidden_activation_loaded = nn.ELU() \n",
        "elif hidden_activation_name_loaded == \"Tanh\":\n",
        "  hidden_activation_loaded = nn.Tanh()\n",
        "else:\n",
        "  hidden_activation_loaded = nn.Sigmoid()\n",
        "\n",
        "if output_activation_name_loaded == \"ReLU\":\n",
        "    output_activation_loaded = nn.ReLU()\n",
        "elif output_activation_name_loaded == \"Softplus\":\n",
        "    output_activation_loaded = nn.Softplus()\n",
        "else:\n",
        "    output_activation_loaded = nn.Identity()\n",
        "\n",
        "\n",
        "\n",
        "# load the network from the .pth file\n",
        "net_loaded = Net(n_layers_loaded, n_units_loaded, hidden_activation_loaded, output_activation_loaded).to(device)\n",
        "if torch.cuda.is_available():\n",
        " net_loaded.load_state_dict(torch.load(\"net.pth\"))\n",
        "else: \n",
        "  net_loaded.load_state_dict(torch.load(\"net.pth\", map_location=torch.device('cpu')))\n",
        "\n",
        "# create the loss function from its name\n",
        "if loss_name_loaded == \"MSE\":\n",
        "  loss_fn_loaded = nn.MSELoss()\n",
        "elif loss_name_loaded == \"MAE\":\n",
        "  loss_fn_loaded = nn.L1Loss()\n",
        "elif loss_name_loaded == \"Huber\":\n",
        "  loss_fn_loaded = nn.SmoothL1Loss() \n",
        "else:\n",
        "  # create the log-cosh loss function\n",
        "  def log_cosh_loss_loaded(y_pred, y_true):\n",
        "    return torch.mean(torch.log(torch.cosh(y_pred - y_true)))\n",
        "  loss_fn_loaded = log_cosh_loss_loaded\n",
        "\n",
        "# load the optimizer from the .pth file\n",
        "if torch.cuda.is_available():\n",
        "  optimizer_loaded_state_dict = torch.load(\"optimizer.pth\")\n",
        "else:\n",
        "  optimizer_loaded_state_dict = torch.load(\"optimizer.pth\", map_location=torch.device('cpu'))\n",
        "\n",
        "if optimizer_name_loaded == \"SGD\":\n",
        "  # Added getting the weight decay and momentum parameters from the state dict\n",
        "  weight_decay_loaded = optimizer_loaded_state_dict[\"param_groups\"][0][\"weight_decay\"]\n",
        "  momentum_loaded = optimizer_loaded_state_dict[\"param_groups\"][0][\"momentum\"]\n",
        "  optimizer_loaded = optim.SGD(net_loaded.parameters(), lr=lr_loaded, weight_decay=weight_decay_loaded, momentum=momentum_loaded)\n",
        "elif optimizer_name_loaded == \"Adam\":\n",
        "  # Added getting the weight decay and beta parameters from the state dict\n",
        "  weight_decay_loaded = optimizer_loaded_state_dict[\"param_groups\"][0][\"weight_decay\"]\n",
        "  beta1_loaded = optimizer_loaded_state_dict[\"param_groups\"][0][\"betas\"][0]\n",
        "  beta2_loaded = optimizer_loaded_state_dict[\"param_groups\"][0][\"betas\"][1]\n",
        "  optimizer_loaded = optim.Adam(net_loaded.parameters(), lr=lr_loaded, weight_decay=weight_decay_loaded, betas=(beta1_loaded, beta2_loaded))\n",
        "elif optimizer_name_loaded == \"RMSprop\":\n",
        "  optimizer_loaded = optim.RMSprop(net_loaded.parameters(), lr=lr_loaded)\n",
        "else:\n",
        "  # Added loading the Adagrad optimizer\n",
        "  optimizer_loaded = optim.Adagrad(net_loaded.parameters(), lr=lr_loaded)\n",
        "optimizer_loaded.load_state_dict(optimizer_loaded_state_dict)\n",
        "\n",
        "# load the scheduler from the .pth file\n",
        "if torch.cuda.is_available():\n",
        "  scheduler_loaded_state_dict = torch.load(\"scheduler.pth\")\n",
        "else: \n",
        "  scheduler_loaded_state_dict = torch.load(\"scheduler.pth\", map_location=torch.device('cpu'))\n",
        "\n",
        "if scheduler_name_loaded == \"StepLR\":\n",
        "  # Added getting the step_size and gamma parameters from the state dict\n",
        "  step_size_loaded = scheduler_loaded_state_dict[\"step_size\"]\n",
        "  gamma_loaded = scheduler_loaded_state_dict[\"gamma\"]\n",
        "  scheduler_loaded = optim.lr_scheduler.StepLR(optimizer_loaded, step_size=step_size_loaded, gamma=gamma_loaded)\n",
        "elif scheduler_name_loaded == \"ExponentialLR\":\n",
        "  # Added getting the gamma parameter from the state dict\n",
        "  gamma_loaded = scheduler_loaded_state_dict[\"gamma\"]\n",
        "  scheduler_loaded = optim.lr_scheduler.ExponentialLR(optimizer_loaded, gamma=gamma_loaded)\n",
        "elif scheduler_name_loaded == \"CosineAnnealingLR\":\n",
        "  # Added getting the T_max parameter from the state dict\n",
        "  T_max_loaded = scheduler_loaded_state_dict[\"T_max\"]\n",
        "  scheduler_loaded = optim.lr_scheduler.CosineAnnealingLR(optimizer_loaded, T_max=T_max_loaded)\n",
        "elif scheduler_name_loaded == \"ReduceLROnPlateau\":\n",
        "  # Added getting the mode, factor, patience, threshold and min_lr parameters from the state dict\n",
        "  mode_loaded = scheduler_loaded_state_dict[\"mode\"]\n",
        "  factor_loaded = scheduler_loaded_state_dict[\"factor\"]\n",
        "  patience_loaded = scheduler_loaded_state_dict[\"patience\"]\n",
        "  threshold_loaded = scheduler_loaded_state_dict[\"threshold\"]\n",
        "  min_lr_loaded = scheduler_loaded_state_dict[\"min_lrs\"][0]\n",
        "  scheduler_loaded = optim.lr_scheduler.ReduceLROnPlateau(\n",
        "                    optimizer_loaded, mode=mode_loaded, factor=factor_loaded, patience=patience_loaded, threshold=threshold_loaded, min_lr=min_lr_loaded\n",
        "                )\n",
        "# elif scheduler_name_loaded == \"OneCycleLR\":\n",
        "#   max_lr_loaded = scheduler_loaded_state_dict[\"max_lr\"]\n",
        "#   epochs_loaded = scheduler_loaded_state_dict[\"epochs\"]\n",
        "#   steps_per_epoch_loaded = scheduler_loaded_state_dict[\"steps_per_epoch\"]\n",
        "#   pct_start_loaded = scheduler_loaded_state_dict[\"pct_start\"]\n",
        "#   max_lr_loaded = scheduler_loaded_state_dict[\"max_lr\"]\n",
        "#   scheduler_loaded = optim.lr_scheduler.OneCycleLR(\n",
        "#                     optimizer_loaded, max_lr=max_lr_loaded, epochs=epochs_loaded, steps_per_epoch=steps_per_epoch_loaded, pct_start=pct_start_loaded\n",
        "#                 )\n",
        "else:\n",
        "  scheduler_loaded = None\n",
        "\n",
        "if scheduler_loaded is not None:\n",
        "  # Added loading the state dict to the scheduler_loaded\n",
        "  scheduler_loaded.load_state_dict(scheduler_loaded_state_dict)\n",
        "\n",
        "# Loading the output of the training using pandas\n",
        "train_df_loaded = pd.read_csv(\"train_output.csv\")\n",
        "train_losses_loaded = train_df_loaded[\"train_loss\"].tolist()\n",
        "test_losses_loaded = train_df_loaded[\"test_loss\"].tolist()\n",
        "train_metrics_loaded = [\n",
        "    {\n",
        "        \"l1_norm\": train_df_loaded[\"train_l1_norm\"][i],\n",
        "        \"linf_norm\": train_df_loaded[\"train_linf_norm\"][i],\n",
        "    }\n",
        "    for i in range(len(train_df_loaded))\n",
        "]\n",
        "test_metrics_loaded = [\n",
        "    {\n",
        "        \"l1_norm\": train_df_loaded[\"test_l1_norm\"][i],\n",
        "        \"linf_norm\": train_df_loaded[\"test_linf_norm\"][i],\n",
        "    }\n",
        "    for i in range(len(train_df_loaded))\n",
        "]"
      ]
    },
    {
      "cell_type": "code",
      "execution_count": 38,
      "metadata": {
        "colab": {
          "base_uri": "https://localhost:8080/",
          "height": 1000
        },
        "id": "GQ_fcj7zUZii",
        "outputId": "c4979ef0-a99c-4754-e222-3af23a83c1cb"
      },
      "outputs": [
        {
          "name": "stdout",
          "output_type": "stream",
          "text": [
            "skipping\n"
          ]
        }
      ],
      "source": [
        "%%script echo skipping\n",
        "\n",
        "batch_size_loaded\n",
        "n_epochs_loaded\n",
        "loss_name_loaded\n",
        "optimizer_name_loaded\n",
        "scheduler_name_loaded\n",
        "n_units_loaded\n",
        "n_layers_loaded\n",
        "hidden_activation_name_loaded\n",
        "output_activation_name_loaded\n",
        "lr_loaded\n",
        "hidden_activation_loaded\n",
        "output_activation_loaded\n",
        "net_loaded\n",
        "net_loaded.__dict__ # print the subparameters of the network\n",
        "loss_fn_loaded\n",
        "optimizer_loaded\n",
        "optimizer_loaded.__dict__ # print the subparameters of the optimizer\n",
        "scheduler_loaded\n",
        "scheduler_loaded.__dict__ # print the subparameters of the scheduler\n",
        "train_losses_loaded\n",
        "test_losses_loaded\n",
        "train_metrics_loaded\n",
        "test_metrics_loaded"
      ]
    },
    {
      "cell_type": "code",
      "execution_count": 59,
      "metadata": {},
      "outputs": [
        {
          "data": {
            "text/plain": [
              "1.4072541818372031e-06"
            ]
          },
          "execution_count": 59,
          "metadata": {},
          "output_type": "execute_result"
        },
        {
          "data": {
            "text/plain": [
              "1.4682706702672022e-06"
            ]
          },
          "execution_count": 59,
          "metadata": {},
          "output_type": "execute_result"
        },
        {
          "data": {
            "text/plain": [
              "0.0022153822122083"
            ]
          },
          "execution_count": 59,
          "metadata": {},
          "output_type": "execute_result"
        },
        {
          "data": {
            "text/plain": [
              "0.0544400130941066"
            ]
          },
          "execution_count": 59,
          "metadata": {},
          "output_type": "execute_result"
        },
        {
          "name": "stdout",
          "output_type": "stream",
          "text": [
            "Error is 5.7692245109591145 times bigger than in Dieselhorst et al.\n",
            "Error is 6.687962296573293 times bigger than in Dieselhorst et al.\n"
          ]
        }
      ],
      "source": [
        "train_losses_loaded[-1]\n",
        "test_losses_loaded[-1]\n",
        "test_metrics_loaded[-1]['l1_norm']\n",
        "test_metrics_loaded[-1]['linf_norm']\n",
        "print(f'Error is {test_metrics_loaded[-1][\"l1_norm\"] / (3.84e-4)} times bigger than in Dieselhorst et al.')\n",
        "print(f'Error is {test_metrics_loaded[-1][\"linf_norm\"] / (8.14e-3)} times bigger than in Dieselhorst et al.')"
      ]
    },
    {
      "attachments": {},
      "cell_type": "markdown",
      "metadata": {},
      "source": [
        "### Visualize loaded results"
      ]
    },
    {
      "cell_type": "markdown",
      "metadata": {
        "id": "vwLGR1aSUZik"
      },
      "source": [
        "Let us verify correct loading of the train and test metrics by visualizing them again but now through the loaded values. Likewise for the train and test losses."
      ]
    },
    {
      "cell_type": "code",
      "execution_count": 26,
      "metadata": {
        "id": "sXiNgLsmUZil"
      },
      "outputs": [],
      "source": [
        "%config InteractiveShell.ast_node_interactivity = \"last_expr_or_assign\""
      ]
    },
    {
      "cell_type": "code",
      "execution_count": 27,
      "metadata": {
        "colab": {
          "base_uri": "https://localhost:8080/",
          "height": 1000
        },
        "id": "sgq4WfSiUZil",
        "outputId": "9934bd08-6c78-4a92-c8c6-d8e835c351b3"
      },
      "outputs": [
        {
          "data": {
            "image/png": "[encoded data removed]",
            "text/plain": [
              "<Figure size 640x480 with 2 Axes>"
            ]
          },
          "metadata": {},
          "output_type": "display_data"
        },
        {
          "data": {
            "image/png": "[encoded data removed]",
            "text/plain": [
              "<Figure size 800x600 with 1 Axes>"
            ]
          },
          "metadata": {},
          "output_type": "display_data"
        }
      ],
      "source": [
        "# Plotting the losses and metrics for the best network plt.figure(figsize=(12, \n",
        "#plt.subplot(2, 2, 1)\n",
        "#plt.plot(train_losses_loaded, label=\"Train Loss\")\n",
        "#plt.plot(test_losses_loaded, label=\"Test Loss\")\n",
        "#plt.xlabel(\"Epoch\")\n",
        "#plt.ylabel(\"Loss\")\n",
        "#plt.legend()\n",
        "plt.subplot(2, 2, 2)\n",
        "plt.plot([m[\"l1_norm\"] for m in train_metrics_loaded], label=\"Train L1 Norm\")\n",
        "plt.plot([m[\"l1_norm\"] for m in test_metrics_loaded], label=\"Test L1 Norm\")\n",
        "plt.xlabel(\"Epoch\")\n",
        "plt.ylabel(\"L1 Norm\")\n",
        "# Added setting the vertical axis to be in powers of 10\n",
        "plt.yscale(\"log\")\n",
        "# Added setting the vertical axis limits to be from 10^-7 to 10^0\n",
        "plt.ylim(1e-3, 1e2)\n",
        "plt.legend()\n",
        "plt.subplot(2, 2, 3)\n",
        "plt.plot([m[\"linf_norm\"] for m in train_metrics_loaded], label=\"Train Linf Norm\")\n",
        "plt.plot([m[\"linf_norm\"] for m in test_metrics_loaded], label=\"Test Linf Norm\")\n",
        "plt.xlabel(\"Epoch\")\n",
        "plt.ylabel(\"Linf Norm\")\n",
        "# Added setting the vertical axis to be in powers of 10\n",
        "plt.yscale(\"log\")\n",
        "# Added setting the vertical axis limits to be from 10^-7 to 10^0\n",
        "plt.ylim(1e-3, 1e2)\n",
        "plt.legend()\n",
        "plt.tight_layout()\n",
        "plt.show()\n",
        "\n",
        "# Added plotting MSE of training data and MSE of test data in one plot \n",
        "plt.figure(figsize=(8, 6))\n",
        "plt.plot(train_losses_loaded,label=\"training data\")\n",
        "plt.plot(test_losses_loaded,label=\"test data\")\n",
        "#if scheduler is not None:\n",
        "#    plt.plot([scheduler.get_last_lr()[0] for _ in range(n_epochs)], label=\"Learning rate\") \n",
        "plt.xlabel(\"Epoch\")\n",
        "plt.ylabel(\"MSE\")\n",
        "# Added setting the vertical axis to be in powers of 10\n",
        "plt.yscale(\"log\")\n",
        "# Added setting the vertical axis limits to be from 10^-7 to 10^0\n",
        "plt.ylim(1e-7, 1e0)\n",
        "plt.legend()\n",
        "plt.show()\n"
      ]
    },
    {
      "cell_type": "code",
      "execution_count": 28,
      "metadata": {
        "id": "lkgLqJ_UUZim"
      },
      "outputs": [],
      "source": [
        "%config InteractiveShell.ast_node_interactivity = \"all\""
      ]
    },
    {
      "attachments": {},
      "cell_type": "markdown",
      "metadata": {
        "id": "SxuzVSnlUZin"
      },
      "source": [
        "## Evaluating the network on arbirary input\n",
        "### Comparing `net` and `net_loaded`\n",
        "\n",
        "We compare `net` and `net_loaded` to confirm correct loading of the network. Note that `net` is only available if we have trained the model in this session."
      ]
    },
    {
      "cell_type": "code",
      "execution_count": 29,
      "metadata": {
        "colab": {
          "base_uri": "https://localhost:8080/"
        },
        "id": "C0PLAA0DUZin",
        "outputId": "c51e07dd-8b35-4ea4-cdf9-3118d7796e30"
      },
      "outputs": [
        {
          "name": "stdout",
          "output_type": "stream",
          "text": [
            "skipping\n"
          ]
        }
      ],
      "source": [
        "%%script echo skipping\n",
        "\n",
        "print(list(net.parameters()))"
      ]
    },
    {
      "cell_type": "code",
      "execution_count": 30,
      "metadata": {
        "colab": {
          "base_uri": "https://localhost:8080/"
        },
        "id": "1NZ8iVA7UZio",
        "outputId": "6341def7-b7e7-44eb-c91f-edbe1d22ca1d"
      },
      "outputs": [
        {
          "name": "stdout",
          "output_type": "stream",
          "text": [
            "[Parameter containing:\n",
            "tensor([[ 0.4231,  0.5017,  0.4321],\n",
            "        [-0.0181, -0.3651, -0.3892],\n",
            "        [ 0.4071,  0.2232,  0.3956],\n",
            "        ...,\n",
            "        [-0.0785, -0.4824,  0.2236],\n",
            "        [ 0.0774,  0.3089, -0.2094],\n",
            "        [-0.0350, -0.0672, -0.4090]], requires_grad=True), Parameter containing:\n",
            "tensor([ 4.2315e-01, -4.4667e-01, -5.2019e-01, -1.1964e-01,  3.0990e-01,\n",
            "         3.2607e-01, -1.7275e-01,  5.5693e-01, -5.2790e-01, -2.9995e-01,\n",
            "         3.6835e-01,  3.4363e-01, -4.3480e-01, -3.5515e-01, -3.3100e-01,\n",
            "        -3.7295e-01, -5.3500e-01, -1.1668e-01, -1.8359e-01, -2.9974e-01,\n",
            "        -5.4659e-01, -3.0525e-01,  4.9278e-01, -4.0499e-02,  7.8462e-02,\n",
            "        -2.7796e-01,  4.0186e-01,  4.1368e-01, -1.5057e-01,  1.1965e-01,\n",
            "         4.2360e-01,  3.8654e-01, -3.2342e-02, -1.4113e-01, -3.1056e-02,\n",
            "        -1.8561e-02, -1.9918e-01,  1.3699e-01,  5.7926e-02,  2.0608e-02,\n",
            "         1.0105e-01, -2.9707e-01, -8.7655e-02,  4.7104e-01, -4.3560e-01,\n",
            "        -4.9852e-01, -3.2663e-01, -3.2180e-01,  1.0703e-01,  5.5766e-01,\n",
            "        -2.3656e-01,  2.4927e-01,  4.7305e-01, -1.1291e-01, -3.6693e-02,\n",
            "        -5.1440e-01,  2.8483e-01,  5.4177e-01,  1.9222e-01, -1.1103e-01,\n",
            "         1.0309e-01,  2.2312e-01,  4.0059e-01,  2.4830e-02,  3.6000e-01,\n",
            "        -3.8404e-01, -3.1951e-01,  6.8537e-02, -6.0808e-01,  5.5028e-02,\n",
            "        -5.4100e-01, -1.8267e-01, -1.5390e-01,  2.4139e-01, -2.8550e-01,\n",
            "        -2.6373e-01,  3.1034e-01, -3.7039e-01, -4.4885e-01, -2.0584e-01,\n",
            "         6.1149e-01, -1.9348e-01,  3.3800e-01,  3.5068e-01,  3.8770e-01,\n",
            "         4.4596e-01, -5.5177e-01, -2.9084e-01,  5.8969e-01, -7.4199e-01,\n",
            "        -4.3129e-02, -1.8445e-01,  5.0026e-01, -3.6075e-01, -2.4501e-01,\n",
            "        -2.1914e-01,  7.7378e-02, -5.3831e-01, -1.0446e-01, -1.7284e-01,\n",
            "        -4.4664e-01,  6.4559e-01, -1.0510e-02, -1.5816e-01,  5.1143e-01,\n",
            "        -4.0447e-01, -3.4819e-01,  4.7968e-01, -1.2124e-01,  3.0674e-01,\n",
            "        -2.1954e-01,  4.6702e-01,  3.9354e-01, -5.1148e-01, -3.6785e-01,\n",
            "         1.1721e-01,  8.2532e-02, -5.1348e-01,  2.5019e-01, -9.6375e-02,\n",
            "        -2.5904e-01,  2.0173e-01, -2.2011e-01, -1.6695e-01,  2.2546e-02,\n",
            "         2.1381e-01, -3.3025e-01,  5.3943e-01, -6.0300e-01, -4.2614e-01,\n",
            "         4.5393e-01, -1.5063e-01,  1.2205e-01, -5.1094e-01, -3.1030e-01,\n",
            "        -2.6925e-01, -3.3773e-01, -2.4882e-01,  3.7875e-01,  3.2173e-01,\n",
            "        -2.3659e-01,  5.2220e-01,  1.6281e-01,  1.9821e-01,  1.4056e-01,\n",
            "        -3.6946e-01,  2.9523e-01, -8.6335e-02, -2.5827e-01, -1.9775e-01,\n",
            "         4.1590e-01, -4.3773e-01,  5.2562e-01, -1.5730e-01, -3.2869e-01,\n",
            "         6.1577e-01, -3.4361e-01, -1.0156e-01, -5.8246e-01, -3.5104e-01,\n",
            "         2.8792e-01, -4.2984e-01, -8.0973e-02,  4.3405e-01, -1.3637e-01,\n",
            "         4.2292e-01,  1.3002e-01, -5.3419e-01, -5.6280e-01,  2.5157e-01,\n",
            "         3.9296e-01,  1.4922e-01, -1.4652e-01, -5.4140e-01, -2.4131e-01,\n",
            "         2.2920e-01,  2.5158e-01,  6.8298e-03, -3.0881e-02, -6.2567e-02,\n",
            "        -6.0310e-01,  5.1418e-01, -2.5364e-01,  9.6170e-02, -2.7367e-01,\n",
            "         4.5587e-01, -5.2870e-03, -2.1624e-01,  5.2178e-01,  2.3633e-01,\n",
            "        -6.9784e-02, -2.9821e-02,  3.7058e-02,  3.0489e-01,  4.7855e-02,\n",
            "         4.9407e-01,  2.8078e-01,  3.7343e-02, -1.2780e-02,  4.0411e-01,\n",
            "        -2.6691e-02, -8.2234e-01, -4.0391e-01,  3.9765e-02, -1.0537e-01,\n",
            "         1.1712e-01, -2.9485e-01, -5.7805e-01, -1.9057e-01,  1.0888e-01,\n",
            "         1.3145e-01, -7.9387e-02,  4.7525e-01, -2.9779e-01,  2.3065e-01,\n",
            "        -5.9833e-02, -4.6484e-01,  2.8151e-01,  4.8465e-01, -5.4665e-01,\n",
            "        -2.1824e-01, -1.4727e-01, -3.5811e-01,  2.0841e-02,  3.6920e-01,\n",
            "        -7.1468e-01,  5.6130e-01, -4.3934e-01, -2.4904e-01,  5.1539e-01,\n",
            "         9.5021e-02,  4.0603e-01,  8.8619e-03,  1.6821e-02, -4.4070e-01,\n",
            "        -1.8691e-01, -2.4460e-01, -4.7360e-01, -5.3582e-01, -4.0962e-01,\n",
            "        -3.1899e-01, -4.7060e-01,  1.5810e-01,  4.6701e-01, -3.8218e-01,\n",
            "        -3.3274e-01, -1.2509e-01,  5.5089e-01,  9.4397e-02, -2.8008e-01,\n",
            "         1.7549e-01, -4.5271e-01, -7.1084e-02,  3.4117e-01, -2.0657e-02,\n",
            "         6.0150e-01,  4.4081e-01, -3.4407e-01, -4.8076e-02, -5.5222e-01,\n",
            "        -2.7604e-01,  1.0934e-01,  2.4160e-01,  2.0530e-04,  6.8162e-02,\n",
            "         4.7765e-01,  2.8817e-02, -1.7492e-01,  5.5122e-01, -1.6854e-01,\n",
            "         1.1996e-01,  1.0378e-01, -4.4312e-01,  4.0640e-01,  2.7357e-01,\n",
            "         1.6188e-01,  4.8046e-01, -7.3067e-02,  1.0376e-01, -2.4816e-01,\n",
            "        -3.5805e-01, -3.7007e-01, -3.5485e-01, -1.0117e-01, -5.9986e-01,\n",
            "         5.3891e-01, -5.4403e-01, -3.9831e-01,  5.8573e-01, -1.9660e-01,\n",
            "        -6.6670e-02,  3.1497e-01,  2.6781e-01, -2.2440e-01,  3.6425e-01,\n",
            "        -4.3750e-01, -4.4718e-01, -3.6059e-01,  4.3271e-01, -3.4954e-01,\n",
            "        -3.3003e-01, -6.2884e-01, -1.0387e-01, -5.9501e-01, -3.3852e-01,\n",
            "        -4.8318e-01, -1.8648e-01,  1.5623e-01,  3.7856e-01,  2.2030e-01,\n",
            "        -4.2234e-01,  4.7196e-01,  5.6439e-01, -4.7042e-03,  1.1509e-01,\n",
            "        -4.9292e-01,  2.0733e-01,  2.2411e-01, -6.3519e-01,  1.5678e-01,\n",
            "         3.7629e-01, -3.3151e-01,  1.1349e-01,  3.9309e-01, -3.1311e-01,\n",
            "        -1.5191e-01,  1.0373e-04, -2.6766e-02, -1.7015e-02,  5.9240e-01,\n",
            "        -3.2107e-01,  1.4933e-01, -1.1887e-01, -1.6648e-01,  5.1500e-01,\n",
            "        -5.4301e-01,  3.7006e-01,  2.7613e-01, -1.9570e-01,  1.4796e-01,\n",
            "        -1.0858e-01,  3.2729e-01,  5.7166e-02,  7.4487e-04,  7.7623e-02,\n",
            "        -4.9103e-01,  4.1759e-01, -6.0485e-02,  8.4313e-02, -5.4021e-01,\n",
            "        -5.6842e-01, -6.3000e-01,  5.0454e-01, -2.4437e-01,  5.5168e-01,\n",
            "        -1.7195e-01, -2.6358e-01,  2.2914e-01,  1.8441e-02, -5.5669e-01,\n",
            "         6.8589e-02,  9.7662e-02, -4.5777e-01,  6.6570e-02,  3.4333e-01,\n",
            "         6.8264e-02,  2.6122e-01, -6.7748e-02, -1.8222e-02, -4.5967e-01,\n",
            "         1.7509e-01,  3.3656e-01,  6.3427e-02, -5.9489e-01, -4.0341e-01,\n",
            "        -9.2404e-02, -5.8665e-02,  1.2359e-01,  3.3869e-01, -2.0980e-01,\n",
            "        -5.1849e-01, -7.6788e-02, -8.4996e-02,  2.3256e-01,  1.7027e-01,\n",
            "         1.7259e-01, -2.6698e-01,  4.4035e-01, -1.6081e-01, -6.7404e-02,\n",
            "        -6.3553e-01,  2.3650e-01, -6.3966e-03,  1.6664e-01, -4.2682e-01,\n",
            "        -2.0940e-01,  3.1053e-01, -2.8848e-01, -6.9331e-03, -5.2274e-01,\n",
            "         2.7356e-01, -6.4199e-01,  2.4076e-01, -2.7693e-01,  2.6884e-01,\n",
            "        -1.5516e-01, -4.3673e-01, -1.7233e-01,  5.6449e-01, -1.6084e-01,\n",
            "        -2.5763e-01,  3.0280e-01, -3.6518e-01, -1.5336e-02,  1.3005e-01,\n",
            "         4.3081e-01, -2.5268e-01, -1.6453e-01, -5.1153e-01,  1.5873e-01,\n",
            "         4.8995e-01,  1.2127e-01, -1.8322e-01, -3.1506e-01, -4.2965e-01,\n",
            "        -2.8614e-01,  2.3933e-02,  4.3549e-01, -4.1561e-01, -5.5121e-01,\n",
            "        -5.1018e-01,  3.8439e-01, -3.9636e-01,  9.1851e-02,  5.2607e-01,\n",
            "        -2.9183e-01,  4.5729e-01,  2.8523e-01,  2.7107e-01, -1.0700e-01,\n",
            "         1.6000e-01, -5.7754e-01, -2.6026e-01, -6.5933e-01, -1.2899e-01,\n",
            "         2.6093e-03, -3.3376e-01, -4.2484e-01, -4.7477e-01, -3.3997e-01,\n",
            "         1.9526e-01, -2.9906e-01, -1.1912e-01,  3.7080e-01, -1.9934e-01,\n",
            "        -2.5677e-01, -4.1866e-01, -4.2567e-01,  1.0301e-01,  4.8803e-01,\n",
            "         3.5898e-01, -3.7293e-01, -1.8339e-01, -8.2950e-01, -1.7368e-01,\n",
            "         3.7770e-01, -4.9419e-01, -5.0628e-01,  1.1262e-01, -8.8866e-02,\n",
            "        -5.1319e-01,  3.5686e-01,  1.4080e-01,  3.7241e-01,  4.1884e-01,\n",
            "        -1.6257e-01, -2.2973e-01,  8.7241e-02,  4.8713e-02, -1.4260e-01,\n",
            "        -4.8990e-01, -2.8455e-01,  1.7682e-01, -3.6819e-02, -2.9176e-01,\n",
            "        -5.7026e-01,  2.1162e-01, -1.1145e-01,  9.7657e-04,  9.2632e-02,\n",
            "        -1.3454e-02, -4.9286e-01, -8.7321e-02,  2.8459e-01, -7.1373e-01,\n",
            "        -3.9544e-01, -3.3266e-01, -1.9995e-01, -2.7091e-02,  1.9557e-01,\n",
            "         3.4585e-01,  1.4699e-01, -2.7780e-01, -7.7818e-01,  1.8088e-01,\n",
            "        -2.4912e-01,  4.1741e-03, -4.4293e-01, -2.3032e-01,  4.4559e-01,\n",
            "         2.0184e-01,  3.6992e-01,  2.8169e-01,  1.0969e-01,  4.9540e-01,\n",
            "        -2.1233e-01,  4.7672e-01,  5.5988e-02, -1.2177e-01, -4.8765e-02,\n",
            "        -3.9353e-01,  1.5772e-01, -3.9346e-01,  6.8991e-02, -1.6725e-01,\n",
            "         3.1228e-01,  1.9433e-01, -4.9071e-01,  3.6356e-01,  1.8982e-01,\n",
            "         1.8751e-01,  4.1993e-01,  1.2516e-01, -5.2001e-01, -2.7622e-01,\n",
            "         1.4699e-01, -4.5015e-01,  8.5482e-02,  5.4982e-01,  4.5977e-01,\n",
            "         5.4840e-01,  1.8024e-01, -4.6475e-01, -2.5840e-01,  1.3265e-01,\n",
            "        -4.4781e-02, -3.0645e-01, -5.4236e-01,  5.4571e-01,  1.9585e-03,\n",
            "         4.1673e-01,  3.1858e-01, -4.7150e-01, -5.5462e-01, -1.0590e-01],\n",
            "       requires_grad=True), Parameter containing:\n",
            "tensor([[ 0.0070,  0.0291, -0.0332,  ..., -0.0085, -0.0017, -0.0210],\n",
            "        [-0.0040,  0.0243,  0.0041,  ..., -0.0388, -0.0366, -0.0321],\n",
            "        [ 0.0252,  0.0143,  0.0255,  ..., -0.0365,  0.0231, -0.0049],\n",
            "        ...,\n",
            "        [-0.0370,  0.0415, -0.0158,  ...,  0.0095, -0.0597, -0.0387],\n",
            "        [ 0.0176,  0.0143, -0.0168,  ...,  0.0161, -0.0279,  0.0125],\n",
            "        [ 0.0020, -0.0400,  0.0321,  ...,  0.0044,  0.0350, -0.0194]],\n",
            "       requires_grad=True), Parameter containing:\n",
            "tensor([-2.2475e-02,  2.9801e-02, -3.7226e-02, -2.4300e-03,  4.4379e-03,\n",
            "         7.0998e-03, -1.9071e-02,  2.9815e-02,  3.8358e-02, -9.1272e-03,\n",
            "        -3.2595e-02, -1.5425e-02, -3.4572e-02, -1.8494e-02,  6.3531e-03,\n",
            "        -9.9066e-03, -2.1790e-02, -3.2489e-02,  2.3180e-02,  3.0405e-02,\n",
            "         2.0737e-02, -2.0762e-02, -4.1793e-02, -1.7005e-03,  1.5147e-02,\n",
            "         7.1037e-02,  9.4331e-03, -3.7633e-05,  7.0358e-03, -4.0715e-03,\n",
            "        -8.3798e-03, -9.9483e-03, -1.6807e-03,  9.5116e-03, -2.7151e-03,\n",
            "        -6.3184e-03,  3.9054e-03, -2.5926e-02, -7.3255e-03, -4.1494e-02,\n",
            "         1.9530e-02, -6.0286e-04, -2.4527e-02, -1.7283e-02,  2.7893e-02,\n",
            "        -4.2676e-02,  4.7037e-02,  2.9664e-02, -2.7448e-02, -5.1832e-02,\n",
            "         1.1686e-02, -5.7841e-02,  3.0458e-02, -2.5388e-02,  1.4089e-02,\n",
            "        -2.9639e-02,  3.0213e-02,  1.0058e-03,  2.4622e-02,  1.2498e-03,\n",
            "         4.7036e-03, -1.2272e-02, -2.4768e-02,  7.0469e-03, -3.2218e-02,\n",
            "        -1.0222e-02, -1.4703e-02,  3.6469e-02, -1.8765e-03, -4.1035e-02,\n",
            "        -4.9345e-02,  9.4144e-03, -4.3901e-02,  1.7752e-02, -9.4830e-03,\n",
            "        -3.1561e-02,  1.1578e-02, -1.6506e-02, -1.2571e-02,  2.7132e-02,\n",
            "         2.6834e-02, -4.9381e-02, -1.5923e-02, -1.9138e-02, -3.6636e-02,\n",
            "        -2.8515e-02, -9.1530e-03,  9.1189e-03, -9.1922e-03, -2.2197e-02,\n",
            "         4.0372e-02,  1.0464e-02, -1.1126e-02, -2.4753e-02,  5.8408e-03,\n",
            "        -3.2990e-02, -1.2279e-02, -3.4641e-02, -4.5968e-02, -2.6476e-02,\n",
            "        -2.8927e-03,  2.5055e-02,  1.5987e-02,  2.6101e-02,  3.4395e-02,\n",
            "        -3.6034e-02,  4.3224e-02, -1.9008e-02,  2.0002e-02,  2.7098e-02,\n",
            "         1.7101e-02,  7.4489e-03, -1.3349e-02, -1.4031e-02, -4.2724e-03,\n",
            "        -3.8175e-02,  2.6299e-02,  1.5757e-02,  3.3570e-02,  2.7018e-02,\n",
            "         5.8691e-03, -2.2851e-02, -1.6089e-02,  1.6698e-02, -4.4315e-02,\n",
            "        -3.6317e-02, -1.2083e-02,  2.4847e-02,  2.6471e-02, -6.9823e-04,\n",
            "        -4.0072e-02, -4.7723e-02, -1.3750e-02,  1.2928e-02, -1.5492e-02,\n",
            "         1.9276e-02, -1.0084e-02,  2.5530e-02, -2.1812e-02, -2.4778e-02,\n",
            "         7.5311e-03, -2.1322e-02,  1.5562e-02,  2.4786e-02, -5.3545e-03,\n",
            "        -2.8949e-02,  1.2158e-02, -1.7621e-02, -2.3980e-02, -3.2237e-03,\n",
            "        -3.5761e-02,  6.3339e-03, -7.8018e-03,  3.2220e-02,  2.1660e-02,\n",
            "        -8.3110e-03, -3.8475e-02, -5.7819e-02,  2.7739e-02, -3.5534e-02,\n",
            "        -1.1522e-02,  5.4718e-03, -4.2031e-02, -4.8996e-03,  2.3644e-02,\n",
            "         4.0087e-02, -4.8450e-02, -5.2985e-03, -4.2445e-02, -4.1645e-02,\n",
            "        -2.4289e-02, -4.0324e-02,  5.5681e-03, -2.4858e-02, -2.0726e-02,\n",
            "         1.8270e-02, -2.5826e-02, -3.6600e-03, -1.7896e-02, -2.5076e-02,\n",
            "        -1.5761e-03, -3.3026e-02,  3.3242e-02, -3.5528e-02, -9.6839e-03,\n",
            "         3.7300e-02, -4.2383e-02,  2.9381e-02,  7.7189e-03, -2.4390e-02,\n",
            "        -1.1894e-02, -2.1455e-02, -4.0621e-02, -3.4549e-02, -2.1073e-02,\n",
            "         2.8709e-02, -2.6619e-02,  4.6434e-02, -3.3423e-02, -1.7986e-02,\n",
            "         4.6559e-03, -1.5859e-02, -4.9917e-04,  2.2361e-02,  1.2009e-02,\n",
            "        -1.1718e-02, -5.8081e-03, -3.9203e-02,  1.6646e-02,  1.1354e-02,\n",
            "        -8.0530e-02,  3.0316e-02,  3.0542e-02, -5.4126e-02, -2.7737e-03,\n",
            "        -1.7930e-02, -1.2968e-02,  2.7588e-02, -4.1382e-02, -3.0236e-02,\n",
            "         2.1541e-02,  2.9790e-02, -1.8216e-02,  1.0865e-02,  2.0920e-02,\n",
            "         3.7342e-03,  5.6217e-04,  8.8055e-03,  2.8983e-02,  1.3408e-02,\n",
            "        -2.4981e-02, -4.0021e-02, -2.9511e-04,  3.9049e-03, -2.8736e-02,\n",
            "         2.3057e-03,  3.0260e-02, -1.4049e-02, -6.0930e-03, -8.4225e-03,\n",
            "        -2.3885e-03,  4.9227e-03, -3.2236e-02,  1.1290e-02,  1.2772e-02,\n",
            "         1.7114e-02,  1.6333e-02, -1.5733e-02,  2.5840e-02,  9.8171e-03,\n",
            "         2.4985e-02, -4.5661e-02, -1.2271e-02,  9.8848e-03, -3.0481e-02,\n",
            "        -1.7497e-03, -2.0402e-04, -3.6496e-02, -2.8512e-02,  3.7669e-02,\n",
            "         2.2421e-02,  2.0714e-02, -1.7546e-02,  6.2867e-03,  1.9545e-02,\n",
            "        -3.4269e-02,  9.3332e-03,  1.5868e-02, -3.1734e-02, -2.1421e-02,\n",
            "         3.9170e-03, -4.1154e-02, -3.9971e-02,  1.2739e-02,  1.0486e-02,\n",
            "        -3.7766e-03, -2.1007e-02, -2.2200e-03,  2.2998e-02,  2.5031e-02,\n",
            "        -4.1493e-02, -4.9456e-02,  1.7749e-02, -5.7994e-02, -2.4159e-02,\n",
            "         2.6680e-02, -3.5729e-02, -1.5558e-02,  2.1025e-02, -2.9320e-02,\n",
            "         2.4369e-02, -2.1907e-02,  3.2068e-02,  2.4370e-02,  4.1998e-03,\n",
            "        -2.8950e-03, -5.2108e-02, -8.2923e-03,  1.9782e-02, -3.8514e-02,\n",
            "         1.6661e-02,  6.1265e-03,  1.9869e-02, -2.5250e-02, -1.0135e-03,\n",
            "        -3.0591e-02, -2.0595e-02, -1.3659e-02, -1.9337e-02, -3.0258e-02,\n",
            "        -3.3402e-02,  1.7124e-02, -8.6650e-03,  4.2726e-03,  5.6935e-03,\n",
            "        -1.4707e-02,  1.5582e-02,  2.4093e-02,  3.6245e-02, -1.5161e-02,\n",
            "         1.8130e-02,  2.3801e-02,  5.2126e-03, -3.7096e-02,  2.2715e-02,\n",
            "        -1.4904e-02, -3.8558e-02, -6.0180e-02,  2.8977e-02,  1.2262e-02,\n",
            "         2.2765e-02, -2.7534e-02, -4.0454e-02,  2.4344e-02, -3.6986e-02,\n",
            "         7.1642e-03, -1.3858e-02,  1.4088e-02, -3.9983e-02,  1.1494e-02,\n",
            "         2.1844e-02, -3.3628e-02,  2.2705e-02, -2.7690e-02,  3.7707e-02,\n",
            "         1.1601e-02,  9.2037e-03,  4.1135e-02, -4.1868e-02, -9.9743e-03,\n",
            "        -4.0548e-02, -4.4428e-02, -6.0737e-02,  2.4515e-02, -1.7758e-02,\n",
            "        -8.3333e-03, -6.9345e-03, -2.4217e-02,  3.3797e-02,  5.7973e-03,\n",
            "        -5.4044e-02,  2.7861e-02,  2.4014e-02,  9.1646e-03,  2.5139e-02,\n",
            "        -4.0767e-02, -1.7867e-02, -3.8027e-02,  1.7077e-02,  3.5957e-02,\n",
            "         2.3214e-02, -3.9748e-03,  9.5597e-03, -1.5018e-02,  4.4247e-02,\n",
            "         8.0339e-03,  3.0805e-02,  1.4389e-02, -2.9603e-02,  3.5825e-02,\n",
            "        -5.1966e-02, -7.0253e-03, -7.0520e-03, -6.8830e-03, -4.2479e-02,\n",
            "        -8.7689e-04, -2.6529e-03,  2.4600e-02, -1.8180e-02,  1.7822e-02,\n",
            "         2.4233e-02, -1.5071e-02, -6.2124e-02, -5.2420e-02,  8.7029e-03,\n",
            "         2.6711e-02,  2.3589e-02, -5.1367e-02, -4.0411e-02, -1.0051e-02,\n",
            "         1.3030e-02,  1.0469e-02,  2.1386e-02, -3.4731e-02,  1.4371e-02,\n",
            "         2.8860e-02, -3.1922e-03,  2.0153e-02, -3.8552e-02,  1.1540e-02,\n",
            "        -3.5377e-02,  2.2335e-02, -2.5361e-02, -6.4150e-02,  3.3570e-02,\n",
            "        -4.2478e-02, -4.2756e-02,  2.1602e-02,  2.5076e-02,  3.2054e-02,\n",
            "        -3.0876e-02, -7.8644e-03, -3.2792e-02, -3.6965e-02, -1.9435e-02,\n",
            "        -2.8879e-02,  6.1914e-03, -1.3919e-02, -1.3604e-02, -2.0292e-02,\n",
            "        -3.2238e-02, -4.5526e-02,  3.3799e-02,  2.7384e-02, -4.3788e-02,\n",
            "         4.2637e-02, -2.1600e-05, -2.9951e-02,  3.0566e-02,  4.2414e-03,\n",
            "         2.6085e-02, -4.5630e-05,  1.3063e-02,  3.6979e-02,  2.8683e-02,\n",
            "         5.4131e-03, -2.6031e-02,  2.8221e-03, -3.0602e-02,  2.5435e-02,\n",
            "         1.1341e-02,  1.1881e-02, -2.9629e-02, -3.8863e-02, -8.9798e-03,\n",
            "        -4.2448e-02, -3.9541e-02, -2.7537e-02], requires_grad=True), Parameter containing:\n",
            "tensor([[ 0.0046,  0.0369, -0.0392,  ..., -0.0167,  0.0360,  0.0209],\n",
            "        [ 0.0429, -0.0089, -0.0367,  ...,  0.0497, -0.0030,  0.0403],\n",
            "        [-0.0204, -0.0343, -0.0218,  ...,  0.0106,  0.0428,  0.0089],\n",
            "        ...,\n",
            "        [-0.0012, -0.0252,  0.0032,  ...,  0.0387, -0.0044, -0.0285],\n",
            "        [-0.0297,  0.0222, -0.0067,  ..., -0.0426,  0.0325, -0.0004],\n",
            "        [ 0.0457, -0.0372,  0.0367,  ...,  0.0468,  0.0241, -0.0084]],\n",
            "       requires_grad=True), Parameter containing:\n",
            "tensor([-0.0551,  0.0456, -0.0343, -0.0415,  0.0354,  0.0120,  0.0311,  0.0655,\n",
            "        -0.0152, -0.0311, -0.0507, -0.0141,  0.0652,  0.0671, -0.0355, -0.0572,\n",
            "         0.0642, -0.0394, -0.0147, -0.0320,  0.0125,  0.0084,  0.0291,  0.0262,\n",
            "         0.0136,  0.0386,  0.0407, -0.0407, -0.0118, -0.0626, -0.0088, -0.0621,\n",
            "        -0.0138,  0.0254,  0.0214,  0.0070,  0.0222, -0.0231, -0.0285, -0.0354,\n",
            "         0.0419,  0.0031, -0.0114, -0.0307, -0.0531, -0.0620, -0.0212, -0.0412,\n",
            "         0.0292,  0.0290, -0.0303, -0.0467, -0.0129, -0.0413, -0.0390,  0.0320,\n",
            "        -0.0374, -0.0272,  0.0938, -0.0313,  0.0530, -0.0051, -0.0059, -0.0101,\n",
            "        -0.0339, -0.0384, -0.0270, -0.0240, -0.0055, -0.0350, -0.0578, -0.0480,\n",
            "        -0.0187,  0.0638,  0.0036, -0.0547, -0.0252,  0.0831,  0.0149,  0.0454,\n",
            "         0.0119,  0.0169,  0.0409, -0.0535,  0.0143,  0.0457,  0.0423, -0.0135,\n",
            "        -0.0389,  0.0066,  0.0025, -0.0109, -0.0776,  0.0541, -0.0203,  0.0288,\n",
            "         0.0023,  0.0478,  0.0445, -0.0102, -0.0178, -0.0272,  0.0017, -0.0427,\n",
            "         0.0638,  0.0038,  0.0212,  0.0353, -0.0189, -0.0436, -0.0644,  0.0563,\n",
            "         0.0305, -0.0117, -0.0448], requires_grad=True), Parameter containing:\n",
            "tensor([[-8.7375e-03,  3.7000e-02,  8.2873e-03, -8.1830e-02,  2.3255e-02,\n",
            "          4.5294e-02,  5.4433e-02,  2.3782e-02,  5.4154e-02,  1.8008e-02,\n",
            "         -9.1884e-02, -4.1733e-04,  3.7500e-02,  8.2460e-02, -2.1827e-02,\n",
            "         -4.3178e-02,  4.3392e-02, -4.7839e-02,  7.7293e-02, -7.4675e-02,\n",
            "          2.5970e-02, -3.5237e-03, -4.7963e-02,  5.3355e-02, -1.7927e-02,\n",
            "         -1.2189e-02,  3.4098e-06, -2.1153e-02,  2.7978e-02, -3.0791e-02,\n",
            "          1.7577e-02, -1.9128e-02, -2.2183e-02,  8.8985e-02, -4.2106e-02,\n",
            "          4.5186e-02,  2.1785e-02, -6.8424e-03, -4.1273e-02,  1.1329e-02,\n",
            "          3.9346e-02,  3.3064e-02,  1.2597e-02, -5.9885e-02,  1.3727e-03,\n",
            "         -2.1659e-02,  4.9818e-02, -3.2690e-02, -6.2685e-02, -7.4862e-03,\n",
            "         -1.1315e-02, -5.8018e-02,  4.1989e-02,  6.3861e-02, -2.5079e-02,\n",
            "          5.2053e-02,  3.7117e-02,  2.0884e-03,  2.9190e-02,  4.9608e-02,\n",
            "         -5.0949e-02, -1.3965e-02, -3.8982e-02,  4.0377e-02, -4.1034e-02,\n",
            "         -2.8225e-02,  6.2969e-03,  3.0592e-02, -2.6506e-02, -5.2145e-02,\n",
            "          7.8968e-02, -3.5975e-02,  5.1520e-02,  3.1953e-02, -2.1393e-02,\n",
            "          1.0288e-03, -2.9691e-02,  2.7954e-02,  4.1104e-02, -3.1199e-02,\n",
            "         -3.1655e-05,  6.4624e-02, -1.9195e-03, -6.6101e-02,  6.5651e-02,\n",
            "          4.4609e-02,  5.7613e-02,  7.9246e-02,  8.7542e-02, -6.6252e-02,\n",
            "         -2.7670e-02,  7.4984e-03, -3.4059e-02,  4.5910e-02, -7.7806e-02,\n",
            "         -3.1717e-02, -1.0438e-02,  9.7559e-03,  2.6867e-02,  3.8393e-02,\n",
            "         -1.0033e-02,  4.4150e-02, -5.6242e-02,  1.0909e-03,  6.3256e-02,\n",
            "          2.8516e-02,  8.8238e-02,  9.1077e-02, -5.2068e-02, -5.4524e-02,\n",
            "         -4.6621e-02,  3.3970e-02, -5.4255e-02, -3.8390e-02,  6.8599e-03]],\n",
            "       requires_grad=True), Parameter containing:\n",
            "tensor([0.0209], requires_grad=True)]\n"
          ]
        }
      ],
      "source": [
        "print(list(net_loaded.parameters()))"
      ]
    },
    {
      "cell_type": "code",
      "execution_count": 31,
      "metadata": {
        "colab": {
          "base_uri": "https://localhost:8080/"
        },
        "id": "EXLYbm8uUZio",
        "outputId": "1e5077f9-cd76-4ed9-d7e2-adbf08bba853"
      },
      "outputs": [
        {
          "name": "stdout",
          "output_type": "stream",
          "text": [
            "skipping\n"
          ]
        }
      ],
      "source": [
        "%%script echo skipping\n",
        "\n",
        "# Set the network to evaluation mode\n",
        "net.eval()"
      ]
    },
    {
      "cell_type": "code",
      "execution_count": 32,
      "metadata": {
        "colab": {
          "base_uri": "https://localhost:8080/"
        },
        "id": "InGW0Xq6UZip",
        "outputId": "6c4a0e2c-b485-4362-b99d-7364dcf9443a"
      },
      "outputs": [
        {
          "data": {
            "text/plain": [
              "tensor([[ 9.6806,  6.5762,  9.0356],\n",
              "        [ 1.2052,  4.4259,  4.2924],\n",
              "        [ 6.2239,  2.5932, 11.6193],\n",
              "        [ 9.7186, 19.7278, 17.1926],\n",
              "        [ 5.0599,  6.7717,  9.2215],\n",
              "        [ 6.4274,  1.1355,  3.2758],\n",
              "        [ 5.5862, 16.2391, 15.6712],\n",
              "        [ 9.7094,  2.9442, 15.9940],\n",
              "        [ 9.5987, 16.7217, 23.0276],\n",
              "        [ 1.2197,  0.9332,  2.0697],\n",
              "        [ 0.7890,  0.3214,  1.0161],\n",
              "        [10.3102,  6.5900,  2.7990],\n",
              "        [ 0.1316,  0.1604,  0.1982],\n",
              "        [ 7.7018,  3.0756,  4.4056],\n",
              "        [ 1.5728,  2.1455,  1.9192],\n",
              "        [ 2.0792,  6.0582,  5.4251],\n",
              "        [ 4.6027,  0.0260,  2.3669],\n",
              "        [ 8.4252,  1.3416,  0.1133],\n",
              "        [ 4.3020,  2.5672,  2.2940],\n",
              "        [ 8.9347, 18.1676, 14.9030]])"
            ]
          },
          "execution_count": 32,
          "metadata": {},
          "output_type": "execute_result"
        }
      ],
      "source": [
        "rho_example, vx_example, epsilon_example = sample_primitive_variables(20)\n",
        "\n",
        "# Create arbitrary input\n",
        "inputs =  generate_input_data(rho_example, vx_example, epsilon_example)\n",
        "inputs"
      ]
    },
    {
      "cell_type": "code",
      "execution_count": 33,
      "metadata": {
        "colab": {
          "base_uri": "https://localhost:8080/"
        },
        "id": "QVa1upmFUZip",
        "outputId": "95a297df-88d8-4614-ffd7-ecc0cda58cf9"
      },
      "outputs": [
        {
          "name": "stdout",
          "output_type": "stream",
          "text": [
            "skipping\n"
          ]
        }
      ],
      "source": [
        "%%script echo skipping\n",
        "\n",
        "# Pass the inputs to the network and get the outputs\n",
        "outputs = [net(input) for input in inputs]\n",
        "# Print the outputs\n",
        "outputs"
      ]
    },
    {
      "cell_type": "code",
      "execution_count": 34,
      "metadata": {
        "colab": {
          "base_uri": "https://localhost:8080/"
        },
        "id": "ih9p2bosUZiq",
        "outputId": "8e31eaae-5bd8-4342-84cc-4512c8397acd"
      },
      "outputs": [
        {
          "data": {
            "text/plain": [
              "Net(\n",
              "  (hidden_activation): ReLU()\n",
              "  (output_activation): ReLU()\n",
              "  (layers): ModuleList(\n",
              "    (0): Linear(in_features=3, out_features=555, bias=True)\n",
              "    (1): Linear(in_features=555, out_features=458, bias=True)\n",
              "    (2): Linear(in_features=458, out_features=115, bias=True)\n",
              "    (3): Linear(in_features=115, out_features=1, bias=True)\n",
              "  )\n",
              ")"
            ]
          },
          "execution_count": 34,
          "metadata": {},
          "output_type": "execute_result"
        }
      ],
      "source": [
        "# Set the network to evaluation mode\n",
        "net_loaded.eval()\n"
      ]
    },
    {
      "cell_type": "code",
      "execution_count": 35,
      "metadata": {
        "colab": {
          "base_uri": "https://localhost:8080/"
        },
        "id": "E-Xjfo7VUZir",
        "outputId": "fb0478cb-bee3-429f-fdec-d99f11baf40f"
      },
      "outputs": [
        {
          "data": {
            "text/plain": [
              "[tensor([5.0624], grad_fn=<ReluBackward0>),\n",
              " tensor([1.0868], grad_fn=<ReluBackward0>),\n",
              " tensor([7.5918], grad_fn=<ReluBackward0>),\n",
              " tensor([4.6671], grad_fn=<ReluBackward0>),\n",
              " tensor([4.7627], grad_fn=<ReluBackward0>),\n",
              " tensor([2.1273], grad_fn=<ReluBackward0>),\n",
              " tensor([4.4473], grad_fn=<ReluBackward0>),\n",
              " tensor([10.5245], grad_fn=<ReluBackward0>),\n",
              " tensor([11.6123], grad_fn=<ReluBackward0>),\n",
              " tensor([1.2683], grad_fn=<ReluBackward0>),\n",
              " tensor([0.6538], grad_fn=<ReluBackward0>),\n",
              " tensor([0.6011], grad_fn=<ReluBackward0>),\n",
              " tensor([0.0984], grad_fn=<ReluBackward0>),\n",
              " tensor([2.6243], grad_fn=<ReluBackward0>),\n",
              " tensor([0.6969], grad_fn=<ReluBackward0>),\n",
              " tensor([1.1933], grad_fn=<ReluBackward0>),\n",
              " tensor([1.5795], grad_fn=<ReluBackward0>),\n",
              " tensor([0.0039], grad_fn=<ReluBackward0>),\n",
              " tensor([1.1232], grad_fn=<ReluBackward0>),\n",
              " tensor([3.3715], grad_fn=<ReluBackward0>)]"
            ]
          },
          "execution_count": 35,
          "metadata": {},
          "output_type": "execute_result"
        }
      ],
      "source": [
        "\n",
        "# Pass the inputs to the network and get the outputs\n",
        "outputs = [net_loaded(input) for input in inputs]\n",
        "# Print the outputs\n",
        "outputs"
      ]
    },
    {
      "cell_type": "markdown",
      "metadata": {
        "id": "xjpIvdybUZis"
      },
      "source": [
        "## Porting the model to C++"
      ]
    },
    {
      "cell_type": "code",
      "execution_count": 23,
      "metadata": {
        "colab": {
          "base_uri": "https://localhost:8080/"
        },
        "id": "VMlEd4RoUZis",
        "outputId": "d5bfc697-8c96-47bb-a08c-6fb26f463797"
      },
      "outputs": [
        {
          "data": {
            "text/plain": [
              "tensor([[-0.8682,  0.6736, -0.6654]])"
            ]
          },
          "execution_count": 23,
          "metadata": {},
          "output_type": "execute_result"
        },
        {
          "data": {
            "text/plain": [
              "Net(\n",
              "  (hidden_activation): ReLU()\n",
              "  (output_activation): ReLU()\n",
              "  (layers): ModuleList(\n",
              "    (0): Linear(in_features=3, out_features=555, bias=True)\n",
              "    (1): Linear(in_features=555, out_features=458, bias=True)\n",
              "    (2): Linear(in_features=458, out_features=115, bias=True)\n",
              "    (3): Linear(in_features=115, out_features=1, bias=True)\n",
              "  )\n",
              ")"
            ]
          },
          "execution_count": 23,
          "metadata": {},
          "output_type": "execute_result"
        },
        {
          "data": {
            "text/plain": [
              "tensor([[4.6177, 0.3018, 2.3998]])"
            ]
          },
          "execution_count": 23,
          "metadata": {},
          "output_type": "execute_result"
        },
        {
          "data": {
            "text/plain": [
              "tensor([[1.5936]], grad_fn=<ReluBackward0>)"
            ]
          },
          "execution_count": 23,
          "metadata": {},
          "output_type": "execute_result"
        }
      ],
      "source": [
        "import torch.jit\n",
        "\n",
        "# Creating a dummy input tensor of shape (1, 3) to trace the model\n",
        "dummy_input = torch.randn(1, 3).to(device)\n",
        "dummy_input\n",
        "\n",
        "# Ensure that net_loaded is in evaluation mode.\n",
        "net_loaded.eval()\n",
        "\n",
        "# Tracing the model using the torch.jit.trace function\n",
        "traced_model = torch.jit.trace(net_loaded, dummy_input)\n",
        "\n",
        "# Saving the traced model to a file named \"net.pt\"\n",
        "traced_model.save(\"net.pt\")\n",
        "save_file(\"net.pt\")\n",
        "\n",
        "example_input_to_validate_correct_export_and_import = generate_input_data(*sample_primitive_variables(1))\n",
        "example_input_to_validate_correct_export_and_import\n",
        "net_loaded(example_input_to_validate_correct_export_and_import)"
      ]
    },
    {
      "cell_type": "code",
      "execution_count": null,
      "metadata": {},
      "outputs": [],
      "source": []
    }
  ],
  "metadata": {
    "accelerator": "GPU",
    "colab": {
      "gpuType": "T4",
      "provenance": [],
      "toc_visible": true
    },
    "gpuClass": "standard",
    "kernelspec": {
      "display_name": "bsc",
      "language": "python",
      "name": "python3"
    },
    "language_info": {
      "codemirror_mode": {
        "name": "ipython",
        "version": 3
      },
      "file_extension": ".py",
      "mimetype": "text/x-python",
      "name": "python",
      "nbconvert_exporter": "python",
      "pygments_lexer": "ipython3",
      "version": "3.11.3"
    },
    "orig_nbformat": 4
  },
  "nbformat": 4,
  "nbformat_minor": 0
}
