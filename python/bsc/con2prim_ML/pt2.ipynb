{
 "cells": [
  {
   "cell_type": "markdown",
   "metadata": {},
   "source": [
    "# Neural network to learn conservative-to-primitive conversion in relativistic hydrodynamics\n",
    "\n",
    "We use Optuna to do a type of Bayesian optimization of the hyperparameters of the model. We then train the model using these hyperparameters to recover the primitive pressure from the conserved variables.\n",
    "\n",
    "Use this first cell to convert the notebook to a python script."
   ]
  },
  {
   "cell_type": "code",
   "execution_count": 12,
   "metadata": {
    "tags": [
     "remove_cell"
    ]
   },
   "outputs": [
    {
     "name": "stdout",
     "output_type": "stream",
     "text": [
      "[NbConvertApp] Converting notebook pt2.ipynb to script\n",
      "[NbConvertApp] Writing 28853 bytes to pt2.py\n"
     ]
    }
   ],
   "source": [
    "!jupyter nbconvert pt2.ipynb --TagRemovePreprocessor.enabled=True --TagRemovePreprocessor.remove_cell_tags='{\"remove_cell\"}' --to script"
   ]
  },
  {
   "cell_type": "code",
   "execution_count": 13,
   "metadata": {},
   "outputs": [],
   "source": [
    "# Importing the libraries\n",
    "\n",
    "import numpy as np\n",
    "import matplotlib.pyplot as plt\n",
    "import torch\n",
    "import torch.nn as nn\n",
    "import torch.optim as optim\n",
    "import optuna\n",
    "import tensorboardX as tbx"
   ]
  },
  {
   "cell_type": "markdown",
   "metadata": {},
   "source": [
    "## Generating the data"
   ]
  },
  {
   "cell_type": "code",
   "execution_count": 14,
   "metadata": {},
   "outputs": [],
   "source": [
    "# Checking if GPU is available and setting the device accordingly\n",
    "device = torch.device(\"cuda\" if torch.cuda.is_available() else \"cpu\")\n",
    "\n",
    "# Defining some constants for convenience\n",
    "c = 1  # Speed of light\n",
    "gamma = 5 / 3  # Adiabatic index\n",
    "\n",
    "\n",
    "# Defining an analytic equation of state (EOS) for an ideal gas\n",
    "def eos_analytic(rho, epsilon):\n",
    "    \"\"\"Computes the pressure from rest-mass density and specific internal energy using an analytic EOS.\n",
    "\n",
    "    Args:\n",
    "        rho (torch.Tensor): The rest-mass density tensor of shape (n_samples,).\n",
    "        epsilon (torch.Tensor): The specific internal energy tensor of shape (n_samples,).\n",
    "\n",
    "    Returns:\n",
    "        torch.Tensor: The pressure tensor of shape (n_samples,).\n",
    "    \"\"\"\n",
    "    return (gamma - 1) * rho * epsilon"
   ]
  },
  {
   "cell_type": "code",
   "execution_count": 15,
   "metadata": {},
   "outputs": [],
   "source": [
    "# Defining a function that samples primitive variables from uniform distributions\n",
    "def sample_primitive_variables(n_samples):\n",
    "    \"\"\"Samples primitive variables from uniform distributions.\n",
    "\n",
    "    Args:\n",
    "        n_samples (int): The number of samples to generate.\n",
    "\n",
    "    Returns:\n",
    "        tuple: A tuple of (rho, vx, epsilon), where rho is rest-mass density,\n",
    "            vx is velocity in x-direction,\n",
    "            epsilon is specific internal energy,\n",
    "            each being a numpy array of shape (n_samples,).\n",
    "    \"\"\"\n",
    "    # Sampling from uniform distributions with intervals matching Dieseldorst et al.\n",
    "    rho = np.random.uniform(0, 10.1, size=n_samples)  # Rest-mass density\n",
    "    vx = np.random.uniform(0, 0.721 * c, size=n_samples)  # Velocity in x-direction\n",
    "    epsilon = np.random.uniform(0, 2.02, size=n_samples)  # Specific internal energy\n",
    "\n",
    "    # Returning the primitive variables\n",
    "    return rho, vx, epsilon\n",
    "\n",
    "\n",
    "# Defining a function that computes conserved variables from primitive variables\n",
    "def compute_conserved_variables(rho, vx, epsilon):\n",
    "    \"\"\"Computes conserved variables from primitive variables using equations (2) and (3) from the paper.\n",
    "\n",
    "    Args:\n",
    "        rho (torch.Tensor): The rest-mass density tensor of shape (n_samples,).\n",
    "        vx (torch.Tensor): The velocity in x-direction tensor of shape (n_samples,).\n",
    "        epsilon (torch.Tensor): The specific internal energy tensor of shape (n_samples,).\n",
    "\n",
    "    Returns:\n",
    "        tuple: A tuple of (D, Sx, tau), where D is conserved density,\n",
    "            Sx is conserved momentum in x-direction,\n",
    "            tau is conserved energy density,\n",
    "            each being a torch tensor of shape (n_samples,).\n",
    "    \"\"\"\n",
    "    # Computing the Lorentz factor from the velocity\n",
    "    gamma_v = 1 / torch.sqrt(1 - vx ** 2 / c ** 2)\n",
    "\n",
    "    # Computing the pressure from the primitive variables using the EOS\n",
    "    p = eos_analytic(rho, epsilon)\n",
    "\n",
    "    # Computing the conserved variables from the primitive variables\n",
    "    D = rho * gamma_v  # Conserved density\n",
    "    h = 1 + epsilon + p / rho  # Specific enthalpy\n",
    "    W = rho * h * gamma_v  # Lorentz factor associated with the enthalpy\n",
    "    Sx = W ** 2 * vx  # Conserved momentum in x-direction\n",
    "    tau = W ** 2 - p - D  # Conserved energy density\n",
    "\n",
    "    # Returning the conserved variables\n",
    "    return D, Sx, tau\n",
    "\n",
    "\n",
    "# Defining a function that generates input data (conserved variables) from random samples of primitive variables\n",
    "def generate_input_data(n_samples):\n",
    "    \"\"\"Generates input data (conserved variables) from random samples of primitive variables.\n",
    "\n",
    "    Args:\n",
    "        n_samples (int): The number of samples to generate.\n",
    "\n",
    "    Returns:\n",
    "        torch.Tensor: The input data tensor of shape (n_samples, 3).\n",
    "    \"\"\"\n",
    "    # Sampling the primitive variables using the sample_primitive_variables function\n",
    "    rho, vx, epsilon = sample_primitive_variables(n_samples)\n",
    "\n",
    "    # Converting the numpy arrays to torch tensors and moving them to the device\n",
    "    rho = torch.tensor(rho, dtype=torch.float32).to(device)\n",
    "    vx = torch.tensor(vx, dtype=torch.float32).to(device)\n",
    "    epsilon = torch.tensor(epsilon, dtype=torch.float32).to(device)\n",
    "\n",
    "    # Computing the conserved variables using the compute_conserved_variables function\n",
    "    D, Sx, tau = compute_conserved_variables(rho, vx, epsilon)\n",
    "\n",
    "    # Stacking the conserved variables into a torch tensor\n",
    "    x = torch.stack([D, Sx, tau], axis=1)\n",
    "\n",
    "    # Returning the input data tensor\n",
    "    return x\n",
    "\n",
    "# Defining a function that generates output data (labels) from random samples of primitive variables\n",
    "def generate_labels(n_samples):\n",
    "    \"\"\"Generates output data (labels) from random samples of primitive variables.\n",
    "\n",
    "    Args:\n",
    "        n_samples (int): The number of samples to generate.\n",
    "\n",
    "    Returns:\n",
    "        torch.Tensor: The output data tensor of shape (n_samples,).\n",
    "    \"\"\"\n",
    "    # Sampling the primitive variables using the sample_primitive_variables function\n",
    "    rho, _, epsilon = sample_primitive_variables(n_samples)\n",
    "\n",
    "    # Converting the numpy arrays to torch tensors and moving them to the device\n",
    "    rho = torch.tensor(rho, dtype=torch.float32).to(device)\n",
    "    epsilon = torch.tensor(epsilon, dtype=torch.float32).to(device)\n",
    "\n",
    "    # Computing the pressure from the primitive variables using the EOS\n",
    "    p = eos_analytic(rho, epsilon)\n",
    "\n",
    "    # Returning the output data tensor\n",
    "    return p"
   ]
  },
  {
   "cell_type": "code",
   "execution_count": 16,
   "metadata": {},
   "outputs": [
    {
     "name": "stdout",
     "output_type": "stream",
     "text": [
      "Shape of x_train: torch.Size([80000, 3])\n",
      "Shape of y_train: torch.Size([80000])\n",
      "Shape of x_test: torch.Size([10000, 3])\n",
      "Shape of y_test: torch.Size([10000])\n"
     ]
    }
   ],
   "source": [
    "# Generating the input and output data for train and test sets using the functions defined\n",
    "# Using the same number of samples as Dieseldorst et al.\n",
    "x_train = generate_input_data(80000)\n",
    "y_train = generate_labels(80000)\n",
    "x_test = generate_input_data(10000)\n",
    "y_test = generate_labels(10000)\n",
    "\n",
    "# Checking the shapes of the data tensors\n",
    "print(\"Shape of x_train:\", x_train.shape)\n",
    "print(\"Shape of y_train:\", y_train.shape)\n",
    "print(\"Shape of x_test:\", x_test.shape)\n",
    "print(\"Shape of y_test:\", y_test.shape)\n"
   ]
  },
  {
   "attachments": {},
   "cell_type": "markdown",
   "metadata": {},
   "source": [
    "## Defining the neural network"
   ]
  },
  {
   "cell_type": "code",
   "execution_count": 17,
   "metadata": {},
   "outputs": [],
   "source": [
    "# Defining a class for the network\n",
    "class Net(nn.Module):\n",
    "    \"\"\"A class for creating a network with a variable number of hidden layers and units.\n",
    "\n",
    "    Attributes:\n",
    "        n_layers (int): The number of hidden layers in the network.\n",
    "        n_units (list): A list of integers representing the number of units in each hidden layer.\n",
    "        hidden_activation (torch.nn.Module): The activation function for the hidden layers.\n",
    "        output_activation (torch.nn.Module): The activation function for the output layer.\n",
    "        layers (torch.nn.ModuleList): A list of linear layers in the network.\n",
    "    \"\"\"\n",
    "\n",
    "    def __init__(self, n_layers, n_units, hidden_activation, output_activation):\n",
    "        \"\"\"Initializes the network with the given hyperparameters.\n",
    "\n",
    "        Args:\n",
    "            n_layers (int): The number of hidden layers in the network.\n",
    "            n_units (list): A list of integers representing the number of units in each hidden layer.\n",
    "            hidden_activation (torch.nn.Module): The activation function for the hidden layers.\n",
    "            output_activation (torch.nn.Module): The activation function for the output layer.\n",
    "        \"\"\"\n",
    "        super().__init__()\n",
    "        self.n_layers = n_layers\n",
    "        self.n_units = n_units\n",
    "        self.hidden_activation = hidden_activation\n",
    "        self.output_activation = output_activation\n",
    "\n",
    "        # Creating a list of linear layers with different numbers of units for each layer\n",
    "        self.layers = nn.ModuleList([nn.Linear(3, n_units[0])])  # Changed the input size to 3\n",
    "        for i in range(1, n_layers):\n",
    "            self.layers.append(nn.Linear(n_units[i - 1], n_units[i]))\n",
    "        self.layers.append(nn.Linear(n_units[-1], 1))  # Changed the output size to 1\n",
    "\n",
    "        # Adding some assertions to check that the input arguments are valid\n",
    "        assert isinstance(n_layers, int) and n_layers > 0, \"n_layers must be a positive integer\"\n",
    "        assert isinstance(n_units, list) and len(n_units) == n_layers, \"n_units must be a list of length n_layers\"\n",
    "        assert all(isinstance(n, int) and n > 0 for n in n_units), \"n_units must contain positive integers\"\n",
    "        assert isinstance(hidden_activation, nn.Module), \"hidden_activation must be a torch.nn.Module\"\n",
    "        assert isinstance(output_activation, nn.Module), \"output_activation must be a torch.nn.Module\"\n",
    "\n",
    "    def forward(self, x):\n",
    "        \"\"\"Performs a forward pass on the input tensor.\n",
    "\n",
    "        Args:\n",
    "            x (torch.Tensor): The input tensor of shape (batch_size, 3).\n",
    "\n",
    "        Returns:\n",
    "            torch.Tensor: The output tensor of shape (batch_size, 1).\n",
    "        \"\"\"\n",
    "        # Looping over the hidden layers and applying the linear transformation and the activation function\n",
    "        for layer in self.layers[:-1]:\n",
    "            x = self.hidden_activation(layer(x))\n",
    "\n",
    "        # Applying the linear transformation and the activation function on the output layer\n",
    "        x = self.output_activation(self.layers[-1](x))\n",
    "\n",
    "        # Returning the output tensor\n",
    "        return x"
   ]
  },
  {
   "attachments": {},
   "cell_type": "markdown",
   "metadata": {},
   "source": [
    "## Defining the model and search space"
   ]
  },
  {
   "cell_type": "code",
   "execution_count": 18,
   "metadata": {},
   "outputs": [],
   "source": [
    "# Defining a function to create a trial network and optimizer\n",
    "def create_model(trial):\n",
    "    \"\"\"Creates a trial network and optimizer based on the sampled hyperparameters.\n",
    "\n",
    "    Args:\n",
    "        trial (optuna.trial.Trial): The trial object that contains the hyperparameters.\n",
    "\n",
    "    Returns:\n",
    "        tuple: A tuple of (net, loss_fn, optimizer, batch_size, n_epochs,\n",
    "            scheduler), where net is the trial network,\n",
    "            loss_fn is the loss function,\n",
    "            optimizer is the optimizer,\n",
    "            batch_size is the batch size,\n",
    "            n_epochs is the number of epochs,\n",
    "            scheduler is the learning rate scheduler.\n",
    "    \"\"\"\n",
    "\n",
    "    # Sampling the hyperparameters from the search space\n",
    "    n_layers = trial.suggest_int(\"n_layers\", 1, 5)\n",
    "    n_units = [trial.suggest_int(f\"n_units_{i}\", 1, 256) for i in range(n_layers)]\n",
    "    hidden_activation_name = trial.suggest_categorical(\n",
    "        \"hidden_activation\", [\"ReLU\", \"Tanh\", \"Sigmoid\"]\n",
    "    )\n",
    "    output_activation_name = trial.suggest_categorical(\n",
    "        \"output_activation\", [\"Linear\", \"ReLU\"]\n",
    "    )  # Changed to only linear or ReLU\n",
    "    loss_name = trial.suggest_categorical(\n",
    "        \"loss\", [\"MSE\", \"MAE\", \"Huber\", \"LogCosh\"]\n",
    "    )  # Changed to only regression losses\n",
    "    optimizer_name = trial.suggest_categorical(\n",
    "        \"optimizer\", [\"SGD\", \"Adam\", \"RMSprop\", \"Adagrad\"]\n",
    "    )\n",
    "    lr = trial.suggest_loguniform(\"lr\", 1e-5, 1e-1)  # Changed the lower bound to 1e-5\n",
    "    batch_size = trial.suggest_int(\"batch_size\", 1, 512)\n",
    "    n_epochs = trial.suggest_int(\"n_epochs\", 10, 200)\n",
    "    scheduler_name = trial.suggest_categorical(\n",
    "        \"scheduler\",\n",
    "        [\"None\", \"StepLR\", \"ExponentialLR\", \"CosineAnnealingLR\", \"ReduceLROnPlateau\"],\n",
    "    )\n",
    "\n",
    "    # Creating the activation functions from their names\n",
    "    if hidden_activation_name == \"ReLU\":\n",
    "        hidden_activation = nn.ReLU()\n",
    "    elif hidden_activation_name == \"Tanh\":\n",
    "        hidden_activation = nn.Tanh()\n",
    "    else:\n",
    "        hidden_activation = nn.Sigmoid()\n",
    "\n",
    "    if output_activation_name == \"ReLU\":\n",
    "        output_activation = nn.ReLU()\n",
    "    else:\n",
    "        output_activation = nn.Identity()  # Changed to use identity function for linear output\n",
    "\n",
    "    # Creating the loss function from its name\n",
    "    if loss_name == \"MSE\":\n",
    "        loss_fn = nn.MSELoss()\n",
    "    elif loss_name == \"MAE\":\n",
    "        loss_fn = nn.L1Loss()\n",
    "    elif loss_name == \"Huber\":\n",
    "        loss_fn = nn.SmoothL1Loss()\n",
    "    else:\n",
    "        # Added creating the log-cosh loss function\n",
    "        def log_cosh_loss(y_pred, y_true):\n",
    "            \"\"\"Computes the log-cosh loss between the predicted and true values.\n",
    "\n",
    "            Args:\n",
    "                y_pred (torch.Tensor): The predicted values tensor of shape (batch_size, 1).\n",
    "                y_true (torch.Tensor): The true values tensor of shape (batch_size, 1).\n",
    "\n",
    "            Returns:\n",
    "                torch.Tensor: The log-cosh loss tensor of shape ().\n",
    "            \"\"\"\n",
    "            return torch.mean(torch.log(torch.cosh(y_pred - y_true)))\n",
    "\n",
    "        loss_fn = log_cosh_loss\n",
    "\n",
    "    # Creating the network with the sampled hyperparameters\n",
    "    net = Net(\n",
    "        n_layers, n_units, hidden_activation, output_activation\n",
    "    ).to(device)  # Added moving the network to the device\n",
    "\n",
    "    # Creating the optimizer from its name\n",
    "    if optimizer_name == \"SGD\":\n",
    "        optimizer = optim.SGD(net.parameters(), lr=lr)\n",
    "    elif optimizer_name == \"Adam\":\n",
    "        optimizer = optim.Adam(net.parameters(), lr=lr)\n",
    "    elif optimizer_name == \"RMSprop\":\n",
    "        optimizer = optim.RMSprop(net.parameters(), lr=lr)\n",
    "    else:\n",
    "        # Added creating the Adagrad optimizer\n",
    "        optimizer = optim.Adagrad(net.parameters(), lr=lr)\n",
    "\n",
    "    # Creating the learning rate scheduler from its name\n",
    "    if scheduler_name == \"StepLR\":\n",
    "        scheduler = optim.lr_scheduler.StepLR(optimizer, step_size=10, gamma=0.1)\n",
    "    elif scheduler_name == \"ExponentialLR\":\n",
    "        scheduler = optim.lr_scheduler.ExponentialLR(optimizer, gamma=0.9)\n",
    "    elif scheduler_name == \"CosineAnnealingLR\":\n",
    "        # Added creating the CosineAnnealingLR scheduler\n",
    "        scheduler = optim.lr_scheduler.CosineAnnealingLR(optimizer, T_max=10)\n",
    "    elif scheduler_name == \"ReduceLROnPlateau\":\n",
    "        # Added creating the ReduceLROnPlateau scheduler\n",
    "        # Creating the ReduceLROnPlateau scheduler with a threshold value of 0.01\n",
    "        scheduler = optim.lr_scheduler.ReduceLROnPlateau(\n",
    "            optimizer, mode=\"min\", factor=0.1, patience=10, threshold=0.01\n",
    "        )\n",
    "    else:\n",
    "        scheduler = None\n",
    "\n",
    "    # Returning the network, the loss function, the optimizer, the batch size, the number of epochs and the scheduler\n",
    "    return net, loss_fn, optimizer, batch_size, n_epochs, scheduler"
   ]
  },
  {
   "attachments": {},
   "cell_type": "markdown",
   "metadata": {},
   "source": [
    "## The train and eval loop"
   ]
  },
  {
   "cell_type": "code",
   "execution_count": 19,
   "metadata": {},
   "outputs": [],
   "source": [
    "# Defining a function that computes primitive variables from conserved variables and predicted pressure\n",
    "def compute_primitive_variables(x_batch, y_pred):\n",
    "    \"\"\"Computes primitive variables from conserved variables and predicted pressure using equations (A2) to (A5) from the paper.\n",
    "\n",
    "    Args:\n",
    "        x_batch (torch.Tensor): The input tensor of shape (batch_size, 3), containing conserved variables.\n",
    "        y_pred (torch.Tensor): The predicted pressure tensor of shape (batch_size, 1).\n",
    "\n",
    "    Returns:\n",
    "        tuple: A tuple of (rho_pred, vx_pred, epsilon_pred), where rho_pred is rest-mass density,\n",
    "            vx_pred is velocity in x-direction,\n",
    "            epsilon_pred is specific internal energy,\n",
    "            each being a torch tensor of shape (batch_size,).\n",
    "    \"\"\"\n",
    "    # Extracting the conserved variables from x_batch\n",
    "    D_batch = x_batch[:, 0]  # Conserved density\n",
    "    Sx_batch = x_batch[:, 1]  # Conserved momentum in x-direction\n",
    "    tau_batch = x_batch[:, 2]  # Conserved energy density\n",
    "\n",
    "    # Computing the other primitive variables from y_pred and x_batch using equations (A2) to (A5) from the paper\n",
    "    rho_pred = D_batch / torch.sqrt(1 + Sx_batch ** 2 / D_batch ** 2 / c ** 2)  # Rest-mass density\n",
    "    vx_pred = Sx_batch / D_batch / c ** 2 / torch.sqrt(\n",
    "        1 + Sx_batch ** 2 / D_batch ** 2 / c ** 2\n",
    "    )  # Velocity in x-direction\n",
    "    epsilon_pred = (\n",
    "        tau_batch + D_batch\n",
    "    ) / rho_pred - y_pred / rho_pred - 1  # Specific internal energy\n",
    "\n",
    "    # Returning the primitive variables\n",
    "    return rho_pred, vx_pred, epsilon_pred\n",
    "\n",
    "# Defining a function that computes loss and metrics for a given batch\n",
    "def compute_loss_and_metrics(y_pred, y_true, x_batch, loss_fn):\n",
    "    \"\"\"Computes loss and metrics for a given batch.\n",
    "\n",
    "    Args:\n",
    "        y_pred (torch.Tensor): The predicted pressure tensor of shape (batch_size, 1).\n",
    "        y_true (torch.Tensor): The true pressure tensor of shape (batch_size,).\n",
    "        x_batch (torch.Tensor): The input tensor of shape (batch_size, 3), containing conserved variables.\n",
    "        loss_fn (torch.nn.Module or function): The loss function to use.\n",
    "\n",
    "    Returns:\n",
    "        tuple: A tuple of (loss, rho_error, vx_error, epsilon_error), where loss is a scalar tensor,\n",
    "            rho_error is relative error for rest-mass density,\n",
    "            vx_error is relative error for velocity in x-direction,\n",
    "            epsilon_error is relative error for specific internal energy,\n",
    "            each being a scalar tensor.\n",
    "    \"\"\"\n",
    "    # Reshaping the target tensor to match the input tensor\n",
    "    y_true = y_true.view(-1, 1)\n",
    "\n",
    "    # Computing the loss using the loss function\n",
    "    loss = loss_fn(y_pred, y_true)\n",
    "\n",
    "    # Computing the other primitive variables from y_pred and x_batch using the compute_primitive_variables function\n",
    "    rho_pred, vx_pred, epsilon_pred = compute_primitive_variables(x_batch, y_pred)\n",
    "\n",
    "    # Computing the true values of the other primitive variables from y_true and x_batch using the compute_primitive_variables function\n",
    "    rho_true, vx_true, epsilon_true = compute_primitive_variables(x_batch, y_true)\n",
    "\n",
    "    # Computing the relative errors for the other primitive variables\n",
    "    rho_error = torch.mean(torch.abs((rho_pred - rho_true) / rho_true))  # Relative error for rest-mass density\n",
    "    vx_error = torch.mean(torch.abs((vx_pred - vx_true) / vx_true))  # Relative error for velocity in x-direction\n",
    "    epsilon_error = torch.mean(\n",
    "        torch.abs((epsilon_pred - epsilon_true) / epsilon_true)\n",
    "    )  # Relative error for specific internal energy\n",
    "\n",
    "    # Returning the loss and metrics\n",
    "    return loss, rho_error, vx_error, epsilon_error\n",
    "\n",
    "\n",
    "# Defining a function that updates the learning rate scheduler with validation loss if applicable\n",
    "def update_scheduler(scheduler, test_loss):\n",
    "    \"\"\"Updates the learning rate scheduler with validation loss if applicable.\n",
    "\n",
    "    Args:\n",
    "        scheduler (torch.optim.lr_scheduler._LRScheduler or None): The learning rate scheduler to use.\n",
    "        test_loss (float): The validation loss to use.\n",
    "\n",
    "    Returns:\n",
    "        None\n",
    "    \"\"\"\n",
    "    # Checking if scheduler is not None\n",
    "    if scheduler is not None:\n",
    "        # Checking if scheduler is ReduceLROnPlateau\n",
    "        if isinstance(scheduler, optim.lr_scheduler.ReduceLROnPlateau):\n",
    "            # Updating the scheduler with test_loss\n",
    "            scheduler.step(test_loss)\n",
    "        else:\n",
    "            # Updating the scheduler without test_loss\n",
    "            scheduler.step()"
   ]
  },
  {
   "cell_type": "code",
   "execution_count": 20,
   "metadata": {},
   "outputs": [],
   "source": [
    "\n",
    "# Defining a function to train and evaluate a network on the train and test sets\n",
    "def train_and_eval(net, loss_fn, optimizer, batch_size, n_epochs, scheduler):\n",
    "    \"\"\"Trains and evaluates a network on the train and test sets.\n",
    "\n",
    "    Args:\n",
    "        net (Net): The network to train and evaluate.\n",
    "        loss_fn (torch.nn.Module or function): The loss function to use.\n",
    "        optimizer (torch.optim.Optimizer): The optimizer to use.\n",
    "        batch_size (int): The batch size to use.\n",
    "        n_epochs (int): The number of epochs to train for.\n",
    "        scheduler (torch.optim.lr_scheduler._LRScheduler or None): The learning rate scheduler to use.\n",
    "\n",
    "    Returns:\n",
    "        tuple: A tuple of (train_losses, test_losses,\n",
    "            train_metrics, test_metrics), where train_losses and test_losses are lists of average losses per epoch for the train and test sets,\n",
    "            train_metrics and test_metrics are lists of dictionaries of metrics per epoch for the train and test sets.\n",
    "    \"\"\"\n",
    "    # Creating data loaders for train and test sets\n",
    "    train_loader = torch.utils.data.DataLoader(\n",
    "        torch.utils.data.TensorDataset(x_train, y_train), batch_size=batch_size, shuffle=True\n",
    "    )\n",
    "    test_loader = torch.utils.data.DataLoader(\n",
    "        torch.utils.data.TensorDataset(x_test, y_test), batch_size=batch_size\n",
    "    )\n",
    "\n",
    "    # Initializing lists to store the losses and metrics for each epoch\n",
    "    train_losses = []\n",
    "    test_losses = []\n",
    "    train_metrics = []\n",
    "    test_metrics = []\n",
    "\n",
    "    # Creating a SummaryWriter object to log data for tensorboard\n",
    "    writer = tbx.SummaryWriter()\n",
    "\n",
    "    # Looping over the epochs\n",
    "    for epoch in range(n_epochs):\n",
    "\n",
    "        # Setting the network to training mode\n",
    "        net.train()\n",
    "\n",
    "        # Initializing variables to store the total loss and metrics for the train set\n",
    "        train_loss = 0.0\n",
    "        train_rho_error = 0.0\n",
    "        train_vx_error = 0.0\n",
    "        train_epsilon_error = 0.0\n",
    "\n",
    "        # Looping over the batches in the train set\n",
    "        for x_batch, y_batch in train_loader:\n",
    "\n",
    "            # Moving the batch tensors to the device\n",
    "            x_batch = x_batch.to(device)\n",
    "            y_batch = y_batch.to(device)\n",
    "\n",
    "            # Zeroing the gradients\n",
    "            optimizer.zero_grad()\n",
    "\n",
    "            # Performing a forward pass and computing the loss and metrics\n",
    "            y_pred = net(x_batch)\n",
    "            loss, rho_error, vx_error, epsilon_error = compute_loss_and_metrics(\n",
    "                y_pred, y_batch, x_batch, loss_fn\n",
    "            )\n",
    "\n",
    "\n",
    "            # Performing a backward pass and updating the weights\n",
    "            loss.backward()\n",
    "            optimizer.step()\n",
    "\n",
    "            # Updating the total loss and metrics for the train set\n",
    "            train_loss += loss.item() * x_batch.size(0)\n",
    "            train_rho_error += rho_error.item() * x_batch.size(0)\n",
    "            train_vx_error += vx_error.item() * x_batch.size(0)\n",
    "            train_epsilon_error += epsilon_error.item() * x_batch.size(0)\n",
    "\n",
    "        # Computing the average loss and metrics for the train set\n",
    "        train_loss /= len(train_loader.dataset)\n",
    "        train_rho_error /= len(train_loader.dataset)\n",
    "        train_vx_error /= len(train_loader.dataset)\n",
    "        train_epsilon_error /= len(train_loader.dataset)\n",
    "\n",
    "        # Appending the average loss and metrics for the train set to the lists\n",
    "        train_losses.append(train_loss)\n",
    "        train_metrics.append(\n",
    "            {\n",
    "                \"rho_error\": train_rho_error,\n",
    "                \"vx_error\": train_vx_error,\n",
    "                \"epsilon_error\": train_epsilon_error,\n",
    "            }\n",
    "        )\n",
    "\n",
    "        # Logging the average loss and metrics for the train set to tensorboard\n",
    "        writer.add_scalar(\"Loss/train\", train_loss, epoch)\n",
    "        writer.add_scalar(\"Rho error/train\", train_rho_error, epoch)\n",
    "        writer.add_scalar(\"Vx error/train\", train_vx_error, epoch)\n",
    "        writer.add_scalar(\"Epsilon error/train\", train_epsilon_error, epoch)\n",
    "\n",
    "        # Setting the network to evaluation mode\n",
    "        net.eval()\n",
    "\n",
    "        # Initializing variables to store the total loss and metrics for the test set\n",
    "        test_loss = 0.0\n",
    "        test_rho_error = 0.0\n",
    "        test_vx_error = 0.0\n",
    "        test_epsilon_error = 0.0\n",
    "\n",
    "        # Looping over the batches in the test set\n",
    "        with torch.no_grad():\n",
    "            for x_batch, y_batch in test_loader:\n",
    "\n",
    "                # Moving the batch tensors to the device\n",
    "                x_batch = x_batch.to(device)\n",
    "                y_batch = y_batch.to(device)\n",
    "\n",
    "                # Performing a forward pass and computing the loss and metrics\n",
    "                y_pred = net(x_batch)\n",
    "                loss, rho_error, vx_error, epsilon_error = compute_loss_and_metrics(\n",
    "                    y_pred, y_batch, x_batch, loss_fn\n",
    "                )\n",
    "\n",
    "\n",
    "                # Updating the total loss and metrics for the test set\n",
    "                test_loss += loss.item() * x_batch.size(0)\n",
    "                test_rho_error += rho_error.item() * x_batch.size(0)\n",
    "                test_vx_error += vx_error.item() * x_batch.size(0)\n",
    "                test_epsilon_error += epsilon_error.item() * x_batch.size(0)\n",
    "\n",
    "        # Computing the average loss and metrics for the test set\n",
    "        test_loss /= len(test_loader.dataset)\n",
    "        test_rho_error /= len(test_loader.dataset)\n",
    "        test_vx_error /= len(test_loader.dataset)\n",
    "        test_epsilon_error /= len(test_loader.dataset)\n",
    "\n",
    "        # Appending the average loss and metrics for the test set to the lists\n",
    "        test_losses.append(test_loss)\n",
    "        test_metrics.append(\n",
    "            {\n",
    "                \"rho_error\": test_rho_error,\n",
    "                \"vx_error\": test_vx_error,\n",
    "                \"epsilon_error\": test_epsilon_error,\n",
    "            }\n",
    "        )\n",
    "\n",
    "        # Logging the average loss and metrics for the test set to tensorboard\n",
    "        writer.add_scalar(\"Loss/test\", test_loss, epoch)\n",
    "        writer.add_scalar(\"Rho error/test\", test_rho_error, epoch)\n",
    "        writer.add_scalar(\"Vx error/test\", test_vx_error, epoch)\n",
    "        writer.add_scalar(\"Epsilon error/test\", test_epsilon_error, epoch)\n",
    "\n",
    "        # Printing the average loss and metrics for both sets for this epoch\n",
    "        print(\n",
    "            f\"Epoch {epoch + 1}: Train Loss: {train_loss:.4f}, Test Loss: {test_loss:.4f}, \"\n",
    "            f\"Train Rho Error: {train_rho_error:.4f}, Test Rho Error: {test_rho_error:.4f}, \"\n",
    "            f\"Train Vx Error: {train_vx_error:.4f}, Test Vx Error: {test_vx_error:.4f}, \"\n",
    "            f\"Train Epsilon Error: {train_epsilon_error:.4f}, Test Epsilon Error: {test_epsilon_error:.4f}\"\n",
    "        )\n",
    "\n",
    "        # Updating the learning rate scheduler with validation loss if applicable\n",
    "        update_scheduler(scheduler, test_loss)\n",
    "\n",
    "        # Reporting the validation epsilon error to Optuna\n",
    "        trial.report(test_metrics[-1][\"epsilon_error\"], epoch)\n",
    "\n",
    "        # Checking if the trial should be pruned\n",
    "        if trial.should_prune():\n",
    "            raise optuna.TrialPruned()\n",
    "\n",
    "\n",
    "    # Closing the SummaryWriter object\n",
    "    writer.close()\n",
    "\n",
    "    # Returning the losses and metrics lists\n",
    "    return train_losses, test_losses, train_metrics, test_metrics"
   ]
  },
  {
   "attachments": {},
   "cell_type": "markdown",
   "metadata": {},
   "source": [
    "## The objective function"
   ]
  },
  {
   "cell_type": "code",
   "execution_count": 21,
   "metadata": {},
   "outputs": [],
   "source": [
    "# Defining an objective function for Optuna to minimize\n",
    "def objective(trial):\n",
    "    \"\"\"Defines an objective function for Optuna to minimize.\n",
    "\n",
    "    Args:\n",
    "        trial (optuna.trial.Trial): The trial object that contains the hyperparameters.\n",
    "\n",
    "    Returns:\n",
    "        float: The validation loss to minimize.\n",
    "    \"\"\"\n",
    "    # Creating a trial network and optimizer using the create_model function\n",
    "    net, loss_fn, optimizer, batch_size, n_epochs, scheduler = create_model(trial)\n",
    "\n",
    "    # Training and evaluating the network using the train_and_eval function\n",
    "    _, _, _, test_metrics = train_and_eval(\n",
    "        net, loss_fn, optimizer, batch_size, n_epochs, scheduler\n",
    "    )\n",
    "\n",
    "    # Returning the last validation epsilon error as the objective value to minimize\n",
    "    return test_metrics[-1][\"epsilon_error\"]"
   ]
  },
  {
   "attachments": {},
   "cell_type": "markdown",
   "metadata": {},
   "source": [
    "## Finding the best parameters with Optuna"
   ]
  },
  {
   "cell_type": "code",
   "execution_count": 22,
   "metadata": {},
   "outputs": [
    {
     "name": "stderr",
     "output_type": "stream",
     "text": [
      "\u001b[32m[I 2023-05-05 12:58:29,603]\u001b[0m A new study created in memory with name: no-name-83175989-ba64-4907-a30e-f2f3d7e73b31\u001b[0m\n",
      "/tmp/ipykernel_16096/1816114563.py:33: FutureWarning: suggest_loguniform has been deprecated in v3.0.0. This feature will be removed in v6.0.0. See https://github.com/optuna/optuna/releases/tag/v3.0.0. Use :func:`~optuna.trial.Trial.suggest_float` instead.\n",
      "  lr = trial.suggest_loguniform(\"lr\", 1e-5, 1e-1)  # Changed the lower bound to 1e-5\n"
     ]
    },
    {
     "name": "stdout",
     "output_type": "stream",
     "text": [
      "Epoch 1: Train Loss: 2.8636, Test Loss: 2.6807, Train Rho Error: 0.0000, Test Rho Error: 0.0000, Train Vx Error: 0.0000, Test Vx Error: 0.0000, Train Epsilon Error: 0.7901, Test Epsilon Error: 0.9323\n",
      "Epoch 2: Train Loss: 2.6295, Test Loss: 2.5572, Train Rho Error: 0.0000, Test Rho Error: 0.0000, Train Vx Error: 0.0000, Test Vx Error: 0.0000, Train Epsilon Error: 0.8292, Test Epsilon Error: 0.9172\n",
      "Epoch 3: Train Loss: 2.5408, Test Loss: 2.4948, Train Rho Error: 0.0000, Test Rho Error: 0.0000, Train Vx Error: 0.0000, Test Vx Error: 0.0000, Train Epsilon Error: 1.0224, Test Epsilon Error: 0.9137\n",
      "Epoch 4: Train Loss: 2.4920, Test Loss: 2.4578, Train Rho Error: 0.0000, Test Rho Error: 0.0000, Train Vx Error: 0.0000, Test Vx Error: 0.0000, Train Epsilon Error: 0.9805, Test Epsilon Error: 0.9142\n",
      "Epoch 5: Train Loss: 2.4617, Test Loss: 2.4338, Train Rho Error: 0.0000, Test Rho Error: 0.0000, Train Vx Error: 0.0000, Test Vx Error: 0.0000, Train Epsilon Error: 0.9940, Test Epsilon Error: 0.9163\n",
      "Epoch 6: Train Loss: 2.4414, Test Loss: 2.4175, Train Rho Error: 0.0000, Test Rho Error: 0.0000, Train Vx Error: 0.0000, Test Vx Error: 0.0000, Train Epsilon Error: 0.8952, Test Epsilon Error: 0.9185\n",
      "Epoch 7: Train Loss: 2.4271, Test Loss: 2.4057, Train Rho Error: 0.0000, Test Rho Error: 0.0000, Train Vx Error: 0.0000, Test Vx Error: 0.0000, Train Epsilon Error: 1.2950, Test Epsilon Error: 0.9206\n",
      "Epoch 8: Train Loss: 2.4165, Test Loss: 2.3970, Train Rho Error: 0.0000, Test Rho Error: 0.0000, Train Vx Error: 0.0000, Test Vx Error: 0.0000, Train Epsilon Error: 0.8757, Test Epsilon Error: 0.9226\n",
      "Epoch 9: Train Loss: 2.4086, Test Loss: 2.3903, Train Rho Error: 0.0000, Test Rho Error: 0.0000, Train Vx Error: 0.0000, Test Vx Error: 0.0000, Train Epsilon Error: 1.3410, Test Epsilon Error: 0.9245\n",
      "Epoch 10: Train Loss: 2.4025, Test Loss: 2.3852, Train Rho Error: 0.0000, Test Rho Error: 0.0000, Train Vx Error: 0.0000, Test Vx Error: 0.0000, Train Epsilon Error: 0.8135, Test Epsilon Error: 0.9261\n",
      "Epoch 11: Train Loss: 2.3978, Test Loss: 2.3812, Train Rho Error: 0.0000, Test Rho Error: 0.0000, Train Vx Error: 0.0000, Test Vx Error: 0.0000, Train Epsilon Error: 1.3603, Test Epsilon Error: 0.9276\n",
      "Epoch 12: Train Loss: 2.3940, Test Loss: 2.3780, Train Rho Error: 0.0000, Test Rho Error: 0.0000, Train Vx Error: 0.0000, Test Vx Error: 0.0000, Train Epsilon Error: 0.9115, Test Epsilon Error: 0.9289\n",
      "Epoch 13: Train Loss: 2.3909, Test Loss: 2.3754, Train Rho Error: 0.0000, Test Rho Error: 0.0000, Train Vx Error: 0.0000, Test Vx Error: 0.0000, Train Epsilon Error: 1.0425, Test Epsilon Error: 0.9300\n",
      "Epoch 14: Train Loss: 2.3884, Test Loss: 2.3733, Train Rho Error: 0.0000, Test Rho Error: 0.0000, Train Vx Error: 0.0000, Test Vx Error: 0.0000, Train Epsilon Error: 1.3340, Test Epsilon Error: 0.9311\n",
      "Epoch 15: Train Loss: 2.3863, Test Loss: 2.3715, Train Rho Error: 0.0000, Test Rho Error: 0.0000, Train Vx Error: 0.0000, Test Vx Error: 0.0000, Train Epsilon Error: 0.8530, Test Epsilon Error: 0.9320\n",
      "Epoch 16: Train Loss: 2.3846, Test Loss: 2.3701, Train Rho Error: 0.0000, Test Rho Error: 0.0000, Train Vx Error: 0.0000, Test Vx Error: 0.0000, Train Epsilon Error: 0.8913, Test Epsilon Error: 0.9328\n",
      "Epoch 17: Train Loss: 2.3831, Test Loss: 2.3688, Train Rho Error: 0.0000, Test Rho Error: 0.0000, Train Vx Error: 0.0000, Test Vx Error: 0.0000, Train Epsilon Error: 0.8608, Test Epsilon Error: 0.9335\n",
      "Epoch 18: Train Loss: 2.3819, Test Loss: 2.3678, Train Rho Error: 0.0000, Test Rho Error: 0.0000, Train Vx Error: 0.0000, Test Vx Error: 0.0000, Train Epsilon Error: 0.8974, Test Epsilon Error: 0.9341\n",
      "Epoch 19: Train Loss: 2.3809, Test Loss: 2.3669, Train Rho Error: 0.0000, Test Rho Error: 0.0000, Train Vx Error: 0.0000, Test Vx Error: 0.0000, Train Epsilon Error: 0.9161, Test Epsilon Error: 0.9347\n",
      "Epoch 20: Train Loss: 2.3800, Test Loss: 2.3661, Train Rho Error: 0.0000, Test Rho Error: 0.0000, Train Vx Error: 0.0000, Test Vx Error: 0.0000, Train Epsilon Error: 1.0727, Test Epsilon Error: 0.9352\n",
      "Epoch 21: Train Loss: 2.3792, Test Loss: 2.3655, Train Rho Error: 0.0000, Test Rho Error: 0.0000, Train Vx Error: 0.0000, Test Vx Error: 0.0000, Train Epsilon Error: 1.4400, Test Epsilon Error: 0.9356\n",
      "Epoch 22: Train Loss: 2.3785, Test Loss: 2.3649, Train Rho Error: 0.0000, Test Rho Error: 0.0000, Train Vx Error: 0.0000, Test Vx Error: 0.0000, Train Epsilon Error: 1.3080, Test Epsilon Error: 0.9360\n",
      "Epoch 23: Train Loss: 2.3780, Test Loss: 2.3644, Train Rho Error: 0.0000, Test Rho Error: 0.0000, Train Vx Error: 0.0000, Test Vx Error: 0.0000, Train Epsilon Error: 1.0748, Test Epsilon Error: 0.9363\n",
      "Epoch 24: Train Loss: 2.3775, Test Loss: 2.3640, Train Rho Error: 0.0000, Test Rho Error: 0.0000, Train Vx Error: 0.0000, Test Vx Error: 0.0000, Train Epsilon Error: 1.0181, Test Epsilon Error: 0.9366\n",
      "Epoch 25: Train Loss: 2.3770, Test Loss: 2.3636, Train Rho Error: 0.0000, Test Rho Error: 0.0000, Train Vx Error: 0.0000, Test Vx Error: 0.0000, Train Epsilon Error: 1.1151, Test Epsilon Error: 0.9369\n",
      "Epoch 26: Train Loss: 2.3766, Test Loss: 2.3632, Train Rho Error: 0.0000, Test Rho Error: 0.0000, Train Vx Error: 0.0000, Test Vx Error: 0.0000, Train Epsilon Error: 1.1574, Test Epsilon Error: 0.9371\n",
      "Epoch 27: Train Loss: 2.3763, Test Loss: 2.3630, Train Rho Error: 0.0000, Test Rho Error: 0.0000, Train Vx Error: 0.0000, Test Vx Error: 0.0000, Train Epsilon Error: 1.1646, Test Epsilon Error: 0.9373\n",
      "Epoch 28: Train Loss: 2.3760, Test Loss: 2.3627, Train Rho Error: 0.0000, Test Rho Error: 0.0000, Train Vx Error: 0.0000, Test Vx Error: 0.0000, Train Epsilon Error: 1.1519, Test Epsilon Error: 0.9375\n",
      "Epoch 29: Train Loss: 2.3757, Test Loss: 2.3625, Train Rho Error: 0.0000, Test Rho Error: 0.0000, Train Vx Error: 0.0000, Test Vx Error: 0.0000, Train Epsilon Error: 1.1904, Test Epsilon Error: 0.9377\n",
      "Epoch 30: Train Loss: 2.3755, Test Loss: 2.3623, Train Rho Error: 0.0000, Test Rho Error: 0.0000, Train Vx Error: 0.0000, Test Vx Error: 0.0000, Train Epsilon Error: 1.0926, Test Epsilon Error: 0.9378\n",
      "Epoch 31: Train Loss: 2.3753, Test Loss: 2.3621, Train Rho Error: 0.0000, Test Rho Error: 0.0000, Train Vx Error: 0.0000, Test Vx Error: 0.0000, Train Epsilon Error: 1.2014, Test Epsilon Error: 0.9380\n",
      "Epoch 32: Train Loss: 2.3751, Test Loss: 2.3619, Train Rho Error: 0.0000, Test Rho Error: 0.0000, Train Vx Error: 0.0000, Test Vx Error: 0.0000, Train Epsilon Error: 0.8635, Test Epsilon Error: 0.9381\n",
      "Epoch 33: Train Loss: 2.3749, Test Loss: 2.3618, Train Rho Error: 0.0000, Test Rho Error: 0.0000, Train Vx Error: 0.0000, Test Vx Error: 0.0000, Train Epsilon Error: 1.2460, Test Epsilon Error: 0.9382\n",
      "Epoch 34: Train Loss: 2.3748, Test Loss: 2.3617, Train Rho Error: 0.0000, Test Rho Error: 0.0000, Train Vx Error: 0.0000, Test Vx Error: 0.0000, Train Epsilon Error: 1.0550, Test Epsilon Error: 0.9383\n",
      "Epoch 35: Train Loss: 2.3747, Test Loss: 2.3616, Train Rho Error: 0.0000, Test Rho Error: 0.0000, Train Vx Error: 0.0000, Test Vx Error: 0.0000, Train Epsilon Error: 1.0946, Test Epsilon Error: 0.9384\n",
      "Epoch 36: Train Loss: 2.3746, Test Loss: 2.3615, Train Rho Error: 0.0000, Test Rho Error: 0.0000, Train Vx Error: 0.0000, Test Vx Error: 0.0000, Train Epsilon Error: 0.8238, Test Epsilon Error: 0.9384\n",
      "Epoch 37: Train Loss: 2.3745, Test Loss: 2.3614, Train Rho Error: 0.0000, Test Rho Error: 0.0000, Train Vx Error: 0.0000, Test Vx Error: 0.0000, Train Epsilon Error: 0.8641, Test Epsilon Error: 0.9385\n",
      "Epoch 38: Train Loss: 2.3744, Test Loss: 2.3613, Train Rho Error: 0.0000, Test Rho Error: 0.0000, Train Vx Error: 0.0000, Test Vx Error: 0.0000, Train Epsilon Error: 0.8979, Test Epsilon Error: 0.9386\n",
      "Epoch 39: Train Loss: 2.3743, Test Loss: 2.3612, Train Rho Error: 0.0000, Test Rho Error: 0.0000, Train Vx Error: 0.0000, Test Vx Error: 0.0000, Train Epsilon Error: 0.9244, Test Epsilon Error: 0.9386\n",
      "Epoch 40: Train Loss: 2.3742, Test Loss: 2.3612, Train Rho Error: 0.0000, Test Rho Error: 0.0000, Train Vx Error: 0.0000, Test Vx Error: 0.0000, Train Epsilon Error: 1.1066, Test Epsilon Error: 0.9387\n",
      "Epoch 41: Train Loss: 2.3742, Test Loss: 2.3611, Train Rho Error: 0.0000, Test Rho Error: 0.0000, Train Vx Error: 0.0000, Test Vx Error: 0.0000, Train Epsilon Error: 1.0559, Test Epsilon Error: 0.9387\n",
      "Epoch 42: Train Loss: 2.3741, Test Loss: 2.3611, Train Rho Error: 0.0000, Test Rho Error: 0.0000, Train Vx Error: 0.0000, Test Vx Error: 0.0000, Train Epsilon Error: 0.9445, Test Epsilon Error: 0.9388\n",
      "Epoch 43: Train Loss: 2.3741, Test Loss: 2.3610, Train Rho Error: 0.0000, Test Rho Error: 0.0000, Train Vx Error: 0.0000, Test Vx Error: 0.0000, Train Epsilon Error: 0.9162, Test Epsilon Error: 0.9388\n",
      "Epoch 44: Train Loss: 2.3740, Test Loss: 2.3610, Train Rho Error: 0.0000, Test Rho Error: 0.0000, Train Vx Error: 0.0000, Test Vx Error: 0.0000, Train Epsilon Error: 0.9347, Test Epsilon Error: 0.9388\n"
     ]
    },
    {
     "name": "stderr",
     "output_type": "stream",
     "text": [
      "NaN or Inf found in input tensor.\n"
     ]
    },
    {
     "name": "stdout",
     "output_type": "stream",
     "text": [
      "Epoch 45: Train Loss: 2.3740, Test Loss: 2.3609, Train Rho Error: 0.0000, Test Rho Error: 0.0000, Train Vx Error: 0.0000, Test Vx Error: 0.0000, Train Epsilon Error: inf, Test Epsilon Error: 0.9389\n",
      "Epoch 46: Train Loss: 2.3739, Test Loss: 2.3609, Train Rho Error: 0.0000, Test Rho Error: 0.0000, Train Vx Error: 0.0000, Test Vx Error: 0.0000, Train Epsilon Error: 0.8826, Test Epsilon Error: 0.9389\n",
      "Epoch 47: Train Loss: 2.3739, Test Loss: 2.3609, Train Rho Error: 0.0000, Test Rho Error: 0.0000, Train Vx Error: 0.0000, Test Vx Error: 0.0000, Train Epsilon Error: 0.8453, Test Epsilon Error: 0.9389\n",
      "Epoch 48: Train Loss: 2.3739, Test Loss: 2.3609, Train Rho Error: 0.0000, Test Rho Error: 0.0000, Train Vx Error: 0.0000, Test Vx Error: 0.0000, Train Epsilon Error: 0.9310, Test Epsilon Error: 0.9389\n",
      "Epoch 49: Train Loss: 2.3738, Test Loss: 2.3608, Train Rho Error: 0.0000, Test Rho Error: 0.0000, Train Vx Error: 0.0000, Test Vx Error: 0.0000, Train Epsilon Error: 1.1335, Test Epsilon Error: 0.9389\n",
      "Epoch 50: Train Loss: 2.3738, Test Loss: 2.3608, Train Rho Error: 0.0000, Test Rho Error: 0.0000, Train Vx Error: 0.0000, Test Vx Error: 0.0000, Train Epsilon Error: 1.0274, Test Epsilon Error: 0.9390\n",
      "Epoch 51: Train Loss: 2.3738, Test Loss: 2.3608, Train Rho Error: 0.0000, Test Rho Error: 0.0000, Train Vx Error: 0.0000, Test Vx Error: 0.0000, Train Epsilon Error: 2.7663, Test Epsilon Error: 0.9390\n"
     ]
    },
    {
     "name": "stderr",
     "output_type": "stream",
     "text": [
      "NaN or Inf found in input tensor.\n"
     ]
    },
    {
     "name": "stdout",
     "output_type": "stream",
     "text": [
      "Epoch 52: Train Loss: 2.3738, Test Loss: 2.3608, Train Rho Error: 0.0000, Test Rho Error: 0.0000, Train Vx Error: 0.0000, Test Vx Error: 0.0000, Train Epsilon Error: inf, Test Epsilon Error: 0.9390\n",
      "Epoch 53: Train Loss: 2.3738, Test Loss: 2.3608, Train Rho Error: 0.0000, Test Rho Error: 0.0000, Train Vx Error: 0.0000, Test Vx Error: 0.0000, Train Epsilon Error: 1.2023, Test Epsilon Error: 0.9390\n",
      "Epoch 54: Train Loss: 2.3738, Test Loss: 2.3607, Train Rho Error: 0.0000, Test Rho Error: 0.0000, Train Vx Error: 0.0000, Test Vx Error: 0.0000, Train Epsilon Error: 0.9563, Test Epsilon Error: 0.9390\n"
     ]
    },
    {
     "name": "stderr",
     "output_type": "stream",
     "text": [
      "NaN or Inf found in input tensor.\n"
     ]
    },
    {
     "name": "stdout",
     "output_type": "stream",
     "text": [
      "Epoch 55: Train Loss: 2.3737, Test Loss: 2.3607, Train Rho Error: 0.0000, Test Rho Error: 0.0000, Train Vx Error: 0.0000, Test Vx Error: 0.0000, Train Epsilon Error: inf, Test Epsilon Error: 0.9390\n",
      "Epoch 56: Train Loss: 2.3737, Test Loss: 2.3607, Train Rho Error: 0.0000, Test Rho Error: 0.0000, Train Vx Error: 0.0000, Test Vx Error: 0.0000, Train Epsilon Error: 1.1946, Test Epsilon Error: 0.9390\n",
      "Epoch 57: Train Loss: 2.3737, Test Loss: 2.3607, Train Rho Error: 0.0000, Test Rho Error: 0.0000, Train Vx Error: 0.0000, Test Vx Error: 0.0000, Train Epsilon Error: 0.8875, Test Epsilon Error: 0.9390\n",
      "Epoch 58: Train Loss: 2.3737, Test Loss: 2.3607, Train Rho Error: 0.0000, Test Rho Error: 0.0000, Train Vx Error: 0.0000, Test Vx Error: 0.0000, Train Epsilon Error: 1.0443, Test Epsilon Error: 0.9390\n",
      "Epoch 59: Train Loss: 2.3737, Test Loss: 2.3607, Train Rho Error: 0.0000, Test Rho Error: 0.0000, Train Vx Error: 0.0000, Test Vx Error: 0.0000, Train Epsilon Error: 0.9377, Test Epsilon Error: 0.9390\n",
      "Epoch 60: Train Loss: 2.3737, Test Loss: 2.3607, Train Rho Error: 0.0000, Test Rho Error: 0.0000, Train Vx Error: 0.0000, Test Vx Error: 0.0000, Train Epsilon Error: 0.8891, Test Epsilon Error: 0.9390\n",
      "Epoch 61: Train Loss: 2.3737, Test Loss: 2.3607, Train Rho Error: 0.0000, Test Rho Error: 0.0000, Train Vx Error: 0.0000, Test Vx Error: 0.0000, Train Epsilon Error: 1.3592, Test Epsilon Error: 0.9390\n",
      "Epoch 62: Train Loss: 2.3737, Test Loss: 2.3607, Train Rho Error: 0.0000, Test Rho Error: 0.0000, Train Vx Error: 0.0000, Test Vx Error: 0.0000, Train Epsilon Error: 0.9391, Test Epsilon Error: 0.9391\n",
      "Epoch 63: Train Loss: 2.3737, Test Loss: 2.3607, Train Rho Error: 0.0000, Test Rho Error: 0.0000, Train Vx Error: 0.0000, Test Vx Error: 0.0000, Train Epsilon Error: 0.9478, Test Epsilon Error: 0.9391\n"
     ]
    },
    {
     "name": "stderr",
     "output_type": "stream",
     "text": [
      "NaN or Inf found in input tensor.\n"
     ]
    },
    {
     "name": "stdout",
     "output_type": "stream",
     "text": [
      "Epoch 64: Train Loss: 2.3737, Test Loss: 2.3607, Train Rho Error: 0.0000, Test Rho Error: 0.0000, Train Vx Error: 0.0000, Test Vx Error: 0.0000, Train Epsilon Error: inf, Test Epsilon Error: 0.9391\n",
      "Epoch 65: Train Loss: 2.3737, Test Loss: 2.3607, Train Rho Error: 0.0000, Test Rho Error: 0.0000, Train Vx Error: 0.0000, Test Vx Error: 0.0000, Train Epsilon Error: 1.1239, Test Epsilon Error: 0.9391\n",
      "Epoch 66: Train Loss: 2.3737, Test Loss: 2.3607, Train Rho Error: 0.0000, Test Rho Error: 0.0000, Train Vx Error: 0.0000, Test Vx Error: 0.0000, Train Epsilon Error: 1.0751, Test Epsilon Error: 0.9391\n",
      "Epoch 67: Train Loss: 2.3737, Test Loss: 2.3607, Train Rho Error: 0.0000, Test Rho Error: 0.0000, Train Vx Error: 0.0000, Test Vx Error: 0.0000, Train Epsilon Error: 1.1781, Test Epsilon Error: 0.9391\n",
      "Epoch 68: Train Loss: 2.3737, Test Loss: 2.3607, Train Rho Error: 0.0000, Test Rho Error: 0.0000, Train Vx Error: 0.0000, Test Vx Error: 0.0000, Train Epsilon Error: 0.8833, Test Epsilon Error: 0.9391\n",
      "Epoch 69: Train Loss: 2.3737, Test Loss: 2.3607, Train Rho Error: 0.0000, Test Rho Error: 0.0000, Train Vx Error: 0.0000, Test Vx Error: 0.0000, Train Epsilon Error: 0.8865, Test Epsilon Error: 0.9391\n",
      "Epoch 70: Train Loss: 2.3737, Test Loss: 2.3607, Train Rho Error: 0.0000, Test Rho Error: 0.0000, Train Vx Error: 0.0000, Test Vx Error: 0.0000, Train Epsilon Error: 1.2555, Test Epsilon Error: 0.9391\n",
      "Epoch 71: Train Loss: 2.3737, Test Loss: 2.3607, Train Rho Error: 0.0000, Test Rho Error: 0.0000, Train Vx Error: 0.0000, Test Vx Error: 0.0000, Train Epsilon Error: 1.0357, Test Epsilon Error: 0.9391\n",
      "Epoch 72: Train Loss: 2.3737, Test Loss: 2.3607, Train Rho Error: 0.0000, Test Rho Error: 0.0000, Train Vx Error: 0.0000, Test Vx Error: 0.0000, Train Epsilon Error: 0.8961, Test Epsilon Error: 0.9391\n",
      "Epoch 73: Train Loss: 2.3737, Test Loss: 2.3607, Train Rho Error: 0.0000, Test Rho Error: 0.0000, Train Vx Error: 0.0000, Test Vx Error: 0.0000, Train Epsilon Error: 1.9281, Test Epsilon Error: 0.9391\n"
     ]
    },
    {
     "name": "stderr",
     "output_type": "stream",
     "text": [
      "NaN or Inf found in input tensor.\n"
     ]
    },
    {
     "name": "stdout",
     "output_type": "stream",
     "text": [
      "Epoch 74: Train Loss: 2.3737, Test Loss: 2.3607, Train Rho Error: 0.0000, Test Rho Error: 0.0000, Train Vx Error: 0.0000, Test Vx Error: 0.0000, Train Epsilon Error: inf, Test Epsilon Error: 0.9391\n",
      "Epoch 75: Train Loss: 2.3736, Test Loss: 2.3607, Train Rho Error: 0.0000, Test Rho Error: 0.0000, Train Vx Error: 0.0000, Test Vx Error: 0.0000, Train Epsilon Error: 1.0127, Test Epsilon Error: 0.9391\n",
      "Epoch 76: Train Loss: 2.3736, Test Loss: 2.3607, Train Rho Error: 0.0000, Test Rho Error: 0.0000, Train Vx Error: 0.0000, Test Vx Error: 0.0000, Train Epsilon Error: 0.9974, Test Epsilon Error: 0.9391\n",
      "Epoch 77: Train Loss: 2.3736, Test Loss: 2.3607, Train Rho Error: 0.0000, Test Rho Error: 0.0000, Train Vx Error: 0.0000, Test Vx Error: 0.0000, Train Epsilon Error: 0.8924, Test Epsilon Error: 0.9391\n",
      "Epoch 78: Train Loss: 2.3736, Test Loss: 2.3607, Train Rho Error: 0.0000, Test Rho Error: 0.0000, Train Vx Error: 0.0000, Test Vx Error: 0.0000, Train Epsilon Error: 1.1531, Test Epsilon Error: 0.9391\n",
      "Epoch 79: Train Loss: 2.3736, Test Loss: 2.3607, Train Rho Error: 0.0000, Test Rho Error: 0.0000, Train Vx Error: 0.0000, Test Vx Error: 0.0000, Train Epsilon Error: 1.3690, Test Epsilon Error: 0.9391\n",
      "Epoch 80: Train Loss: 2.3736, Test Loss: 2.3607, Train Rho Error: 0.0000, Test Rho Error: 0.0000, Train Vx Error: 0.0000, Test Vx Error: 0.0000, Train Epsilon Error: 0.9228, Test Epsilon Error: 0.9391\n",
      "Epoch 81: Train Loss: 2.3736, Test Loss: 2.3607, Train Rho Error: 0.0000, Test Rho Error: 0.0000, Train Vx Error: 0.0000, Test Vx Error: 0.0000, Train Epsilon Error: 0.9601, Test Epsilon Error: 0.9391\n",
      "Epoch 82: Train Loss: 2.3736, Test Loss: 2.3607, Train Rho Error: 0.0000, Test Rho Error: 0.0000, Train Vx Error: 0.0000, Test Vx Error: 0.0000, Train Epsilon Error: 1.0152, Test Epsilon Error: 0.9391\n"
     ]
    },
    {
     "name": "stderr",
     "output_type": "stream",
     "text": [
      "NaN or Inf found in input tensor.\n"
     ]
    },
    {
     "name": "stdout",
     "output_type": "stream",
     "text": [
      "Epoch 83: Train Loss: 2.3736, Test Loss: 2.3607, Train Rho Error: 0.0000, Test Rho Error: 0.0000, Train Vx Error: 0.0000, Test Vx Error: 0.0000, Train Epsilon Error: inf, Test Epsilon Error: 0.9391\n",
      "Epoch 84: Train Loss: 2.3736, Test Loss: 2.3607, Train Rho Error: 0.0000, Test Rho Error: 0.0000, Train Vx Error: 0.0000, Test Vx Error: 0.0000, Train Epsilon Error: 1.0957, Test Epsilon Error: 0.9391\n",
      "Epoch 85: Train Loss: 2.3736, Test Loss: 2.3607, Train Rho Error: 0.0000, Test Rho Error: 0.0000, Train Vx Error: 0.0000, Test Vx Error: 0.0000, Train Epsilon Error: 0.8669, Test Epsilon Error: 0.9391\n",
      "Epoch 86: Train Loss: 2.3736, Test Loss: 2.3607, Train Rho Error: 0.0000, Test Rho Error: 0.0000, Train Vx Error: 0.0000, Test Vx Error: 0.0000, Train Epsilon Error: 1.3711, Test Epsilon Error: 0.9391\n",
      "Epoch 87: Train Loss: 2.3736, Test Loss: 2.3607, Train Rho Error: 0.0000, Test Rho Error: 0.0000, Train Vx Error: 0.0000, Test Vx Error: 0.0000, Train Epsilon Error: 1.6575, Test Epsilon Error: 0.9391\n",
      "Epoch 88: Train Loss: 2.3736, Test Loss: 2.3607, Train Rho Error: 0.0000, Test Rho Error: 0.0000, Train Vx Error: 0.0000, Test Vx Error: 0.0000, Train Epsilon Error: 1.1165, Test Epsilon Error: 0.9391\n",
      "Epoch 89: Train Loss: 2.3736, Test Loss: 2.3607, Train Rho Error: 0.0000, Test Rho Error: 0.0000, Train Vx Error: 0.0000, Test Vx Error: 0.0000, Train Epsilon Error: 1.0350, Test Epsilon Error: 0.9391\n",
      "Epoch 90: Train Loss: 2.3736, Test Loss: 2.3607, Train Rho Error: 0.0000, Test Rho Error: 0.0000, Train Vx Error: 0.0000, Test Vx Error: 0.0000, Train Epsilon Error: 2.8179, Test Epsilon Error: 0.9391\n",
      "Epoch 91: Train Loss: 2.3736, Test Loss: 2.3607, Train Rho Error: 0.0000, Test Rho Error: 0.0000, Train Vx Error: 0.0000, Test Vx Error: 0.0000, Train Epsilon Error: 1.6184, Test Epsilon Error: 0.9391\n",
      "Epoch 92: Train Loss: 2.3736, Test Loss: 2.3607, Train Rho Error: 0.0000, Test Rho Error: 0.0000, Train Vx Error: 0.0000, Test Vx Error: 0.0000, Train Epsilon Error: 0.8843, Test Epsilon Error: 0.9391\n",
      "Epoch 93: Train Loss: 2.3736, Test Loss: 2.3607, Train Rho Error: 0.0000, Test Rho Error: 0.0000, Train Vx Error: 0.0000, Test Vx Error: 0.0000, Train Epsilon Error: 0.9986, Test Epsilon Error: 0.9391\n"
     ]
    },
    {
     "name": "stderr",
     "output_type": "stream",
     "text": [
      "NaN or Inf found in input tensor.\n",
      "\u001b[32m[I 2023-05-05 13:00:20,608]\u001b[0m Trial 0 finished with value: 0.9390785496234894 and parameters: {'n_layers': 3, 'n_units_0': 113, 'n_units_1': 4, 'n_units_2': 130, 'hidden_activation': 'Sigmoid', 'output_activation': 'Linear', 'loss': 'MAE', 'optimizer': 'Adagrad', 'lr': 0.0005517360370256159, 'batch_size': 466, 'n_epochs': 94, 'scheduler': 'ExponentialLR'}. Best is trial 0 with value: 0.9390785496234894.\u001b[0m\n"
     ]
    },
    {
     "name": "stdout",
     "output_type": "stream",
     "text": [
      "Epoch 94: Train Loss: 2.3736, Test Loss: 2.3607, Train Rho Error: 0.0000, Test Rho Error: 0.0000, Train Vx Error: 0.0000, Test Vx Error: 0.0000, Train Epsilon Error: inf, Test Epsilon Error: 0.9391\n",
      "Epoch 1: Train Loss: 1.9642, Test Loss: 2.1799, Train Rho Error: 0.0000, Test Rho Error: 0.0000, Train Vx Error: 0.0000, Test Vx Error: 0.0000, Train Epsilon Error: 0.9998, Test Epsilon Error: 0.7286\n",
      "Epoch 2: Train Loss: 1.9574, Test Loss: 2.0102, Train Rho Error: 0.0000, Test Rho Error: 0.0000, Train Vx Error: 0.0000, Test Vx Error: 0.0000, Train Epsilon Error: 0.7866, Test Epsilon Error: 0.4962\n",
      "Epoch 3: Train Loss: 1.9686, Test Loss: 1.8931, Train Rho Error: 0.0000, Test Rho Error: 0.0000, Train Vx Error: 0.0000, Test Vx Error: 0.0000, Train Epsilon Error: 1.2114, Test Epsilon Error: 0.5732\n",
      "Epoch 4: Train Loss: 1.9667, Test Loss: 2.0107, Train Rho Error: 0.0000, Test Rho Error: 0.0000, Train Vx Error: 0.0000, Test Vx Error: 0.0000, Train Epsilon Error: 1.3032, Test Epsilon Error: 0.4842\n",
      "Epoch 5: Train Loss: 1.9661, Test Loss: 1.8931, Train Rho Error: 0.0000, Test Rho Error: 0.0000, Train Vx Error: 0.0000, Test Vx Error: 0.0000, Train Epsilon Error: 0.8028, Test Epsilon Error: 0.5647\n",
      "Epoch 6: Train Loss: 1.9742, Test Loss: 1.8899, Train Rho Error: 0.0000, Test Rho Error: 0.0000, Train Vx Error: 0.0000, Test Vx Error: 0.0000, Train Epsilon Error: 1.2908, Test Epsilon Error: 0.5535\n",
      "Epoch 7: Train Loss: 1.9939, Test Loss: 2.1107, Train Rho Error: 0.0000, Test Rho Error: 0.0000, Train Vx Error: 0.0000, Test Vx Error: 0.0000, Train Epsilon Error: 2.4285, Test Epsilon Error: 0.7153\n",
      "Epoch 8: Train Loss: 2.0026, Test Loss: 2.2687, Train Rho Error: 0.0000, Test Rho Error: 0.0000, Train Vx Error: 0.0000, Test Vx Error: 0.0000, Train Epsilon Error: 1.1957, Test Epsilon Error: 0.7988\n",
      "Epoch 9: Train Loss: 2.0003, Test Loss: 1.8988, Train Rho Error: 0.0000, Test Rho Error: 0.0000, Train Vx Error: 0.0000, Test Vx Error: 0.0000, Train Epsilon Error: 0.7809, Test Epsilon Error: 0.5715\n",
      "Epoch 10: Train Loss: 1.9994, Test Loss: 1.9533, Train Rho Error: 0.0000, Test Rho Error: 0.0000, Train Vx Error: 0.0000, Test Vx Error: 0.0000, Train Epsilon Error: 0.9323, Test Epsilon Error: 0.5032\n",
      "Epoch 11: Train Loss: 2.0007, Test Loss: 1.9214, Train Rho Error: 0.0000, Test Rho Error: 0.0000, Train Vx Error: 0.0000, Test Vx Error: 0.0000, Train Epsilon Error: 1.7765, Test Epsilon Error: 0.5177\n",
      "Epoch 12: Train Loss: 2.0200, Test Loss: 1.9845, Train Rho Error: 0.0000, Test Rho Error: 0.0000, Train Vx Error: 0.0000, Test Vx Error: 0.0000, Train Epsilon Error: 1.5871, Test Epsilon Error: 0.4966\n",
      "Epoch 13: Train Loss: 2.0166, Test Loss: 1.8932, Train Rho Error: 0.0000, Test Rho Error: 0.0000, Train Vx Error: 0.0000, Test Vx Error: 0.0000, Train Epsilon Error: 0.9791, Test Epsilon Error: 0.5685\n",
      "Epoch 14: Train Loss: 2.0222, Test Loss: 2.0162, Train Rho Error: 0.0000, Test Rho Error: 0.0000, Train Vx Error: 0.0000, Test Vx Error: 0.0000, Train Epsilon Error: 0.7891, Test Epsilon Error: 0.6435\n",
      "Epoch 15: Train Loss: 2.0238, Test Loss: 1.9030, Train Rho Error: 0.0000, Test Rho Error: 0.0000, Train Vx Error: 0.0000, Test Vx Error: 0.0000, Train Epsilon Error: 0.7280, Test Epsilon Error: 0.5285\n",
      "Epoch 16: Train Loss: 2.0234, Test Loss: 1.9098, Train Rho Error: 0.0000, Test Rho Error: 0.0000, Train Vx Error: 0.0000, Test Vx Error: 0.0000, Train Epsilon Error: 0.7022, Test Epsilon Error: 0.5922\n",
      "Epoch 17: Train Loss: 2.0236, Test Loss: 1.9739, Train Rho Error: 0.0000, Test Rho Error: 0.0000, Train Vx Error: 0.0000, Test Vx Error: 0.0000, Train Epsilon Error: 0.9081, Test Epsilon Error: 0.5905\n",
      "Epoch 18: Train Loss: 1.9132, Test Loss: 1.8949, Train Rho Error: 0.0000, Test Rho Error: 0.0000, Train Vx Error: 0.0000, Test Vx Error: 0.0000, Train Epsilon Error: 0.8578, Test Epsilon Error: 0.5685\n",
      "Epoch 19: Train Loss: 1.9138, Test Loss: 1.9029, Train Rho Error: 0.0000, Test Rho Error: 0.0000, Train Vx Error: 0.0000, Test Vx Error: 0.0000, Train Epsilon Error: 1.3362, Test Epsilon Error: 0.5882\n",
      "Epoch 20: Train Loss: 1.9117, Test Loss: 1.8929, Train Rho Error: 0.0000, Test Rho Error: 0.0000, Train Vx Error: 0.0000, Test Vx Error: 0.0000, Train Epsilon Error: 0.7637, Test Epsilon Error: 0.5420\n",
      "Epoch 21: Train Loss: 1.9131, Test Loss: 1.9270, Train Rho Error: 0.0000, Test Rho Error: 0.0000, Train Vx Error: 0.0000, Test Vx Error: 0.0000, Train Epsilon Error: 0.7537, Test Epsilon Error: 0.6117\n",
      "Epoch 22: Train Loss: 1.9136, Test Loss: 1.9016, Train Rho Error: 0.0000, Test Rho Error: 0.0000, Train Vx Error: 0.0000, Test Vx Error: 0.0000, Train Epsilon Error: 0.7359, Test Epsilon Error: 0.5827\n",
      "Epoch 23: Train Loss: 1.9138, Test Loss: 1.9144, Train Rho Error: 0.0000, Test Rho Error: 0.0000, Train Vx Error: 0.0000, Test Vx Error: 0.0000, Train Epsilon Error: 1.0684, Test Epsilon Error: 0.6016\n",
      "Epoch 24: Train Loss: 1.9122, Test Loss: 1.8927, Train Rho Error: 0.0000, Test Rho Error: 0.0000, Train Vx Error: 0.0000, Test Vx Error: 0.0000, Train Epsilon Error: 0.8488, Test Epsilon Error: 0.5524\n",
      "Epoch 25: Train Loss: 1.9127, Test Loss: 1.8931, Train Rho Error: 0.0000, Test Rho Error: 0.0000, Train Vx Error: 0.0000, Test Vx Error: 0.0000, Train Epsilon Error: 0.8985, Test Epsilon Error: 0.5421\n",
      "Epoch 26: Train Loss: 1.9126, Test Loss: 1.8963, Train Rho Error: 0.0000, Test Rho Error: 0.0000, Train Vx Error: 0.0000, Test Vx Error: 0.0000, Train Epsilon Error: 0.7816, Test Epsilon Error: 0.5657\n",
      "Epoch 27: Train Loss: 1.9128, Test Loss: 1.8972, Train Rho Error: 0.0000, Test Rho Error: 0.0000, Train Vx Error: 0.0000, Test Vx Error: 0.0000, Train Epsilon Error: 0.7838, Test Epsilon Error: 0.5792\n",
      "Epoch 28: Train Loss: 1.9127, Test Loss: 1.8977, Train Rho Error: 0.0000, Test Rho Error: 0.0000, Train Vx Error: 0.0000, Test Vx Error: 0.0000, Train Epsilon Error: 0.7010, Test Epsilon Error: 0.5428\n",
      "Epoch 29: Train Loss: 1.9008, Test Loss: 1.8921, Train Rho Error: 0.0000, Test Rho Error: 0.0000, Train Vx Error: 0.0000, Test Vx Error: 0.0000, Train Epsilon Error: 0.8336, Test Epsilon Error: 0.5449\n",
      "Epoch 30: Train Loss: 1.9007, Test Loss: 1.8942, Train Rho Error: 0.0000, Test Rho Error: 0.0000, Train Vx Error: 0.0000, Test Vx Error: 0.0000, Train Epsilon Error: 0.6977, Test Epsilon Error: 0.5707\n",
      "Epoch 31: Train Loss: 1.9006, Test Loss: 1.8914, Train Rho Error: 0.0000, Test Rho Error: 0.0000, Train Vx Error: 0.0000, Test Vx Error: 0.0000, Train Epsilon Error: 2.1328, Test Epsilon Error: 0.5478\n",
      "Epoch 32: Train Loss: 1.9005, Test Loss: 1.8909, Train Rho Error: 0.0000, Test Rho Error: 0.0000, Train Vx Error: 0.0000, Test Vx Error: 0.0000, Train Epsilon Error: 0.8483, Test Epsilon Error: 0.5602\n",
      "Epoch 33: Train Loss: 1.9006, Test Loss: 1.8927, Train Rho Error: 0.0000, Test Rho Error: 0.0000, Train Vx Error: 0.0000, Test Vx Error: 0.0000, Train Epsilon Error: 0.6880, Test Epsilon Error: 0.5434\n",
      "Epoch 34: Train Loss: 1.9009, Test Loss: 1.8910, Train Rho Error: 0.0000, Test Rho Error: 0.0000, Train Vx Error: 0.0000, Test Vx Error: 0.0000, Train Epsilon Error: 1.3036, Test Epsilon Error: 0.5580\n",
      "Epoch 35: Train Loss: 1.9004, Test Loss: 1.8901, Train Rho Error: 0.0000, Test Rho Error: 0.0000, Train Vx Error: 0.0000, Test Vx Error: 0.0000, Train Epsilon Error: 0.7866, Test Epsilon Error: 0.5567\n",
      "Epoch 36: Train Loss: 1.9005, Test Loss: 1.8960, Train Rho Error: 0.0000, Test Rho Error: 0.0000, Train Vx Error: 0.0000, Test Vx Error: 0.0000, Train Epsilon Error: 0.6761, Test Epsilon Error: 0.5740\n",
      "Epoch 37: Train Loss: 1.9006, Test Loss: 1.8906, Train Rho Error: 0.0000, Test Rho Error: 0.0000, Train Vx Error: 0.0000, Test Vx Error: 0.0000, Train Epsilon Error: 0.8238, Test Epsilon Error: 0.5562\n",
      "Epoch 38: Train Loss: 1.9007, Test Loss: 1.8904, Train Rho Error: 0.0000, Test Rho Error: 0.0000, Train Vx Error: 0.0000, Test Vx Error: 0.0000, Train Epsilon Error: 0.8027, Test Epsilon Error: 0.5553\n",
      "Epoch 39: Train Loss: 1.9004, Test Loss: 1.8908, Train Rho Error: 0.0000, Test Rho Error: 0.0000, Train Vx Error: 0.0000, Test Vx Error: 0.0000, Train Epsilon Error: 0.6863, Test Epsilon Error: 0.5494\n",
      "Epoch 40: Train Loss: 1.8994, Test Loss: 1.8906, Train Rho Error: 0.0000, Test Rho Error: 0.0000, Train Vx Error: 0.0000, Test Vx Error: 0.0000, Train Epsilon Error: 0.6081, Test Epsilon Error: 0.5604\n",
      "Epoch 41: Train Loss: 1.8993, Test Loss: 1.8907, Train Rho Error: 0.0000, Test Rho Error: 0.0000, Train Vx Error: 0.0000, Test Vx Error: 0.0000, Train Epsilon Error: 0.9411, Test Epsilon Error: 0.5605\n",
      "Epoch 42: Train Loss: 1.8993, Test Loss: 1.8902, Train Rho Error: 0.0000, Test Rho Error: 0.0000, Train Vx Error: 0.0000, Test Vx Error: 0.0000, Train Epsilon Error: 0.8293, Test Epsilon Error: 0.5579\n",
      "Epoch 43: Train Loss: 1.8993, Test Loss: 1.8903, Train Rho Error: 0.0000, Test Rho Error: 0.0000, Train Vx Error: 0.0000, Test Vx Error: 0.0000, Train Epsilon Error: 0.7032, Test Epsilon Error: 0.5586\n",
      "Epoch 44: Train Loss: 1.8993, Test Loss: 1.8906, Train Rho Error: 0.0000, Test Rho Error: 0.0000, Train Vx Error: 0.0000, Test Vx Error: 0.0000, Train Epsilon Error: 2.3022, Test Epsilon Error: 0.5606\n",
      "Epoch 45: Train Loss: 1.8993, Test Loss: 1.8902, Train Rho Error: 0.0000, Test Rho Error: 0.0000, Train Vx Error: 0.0000, Test Vx Error: 0.0000, Train Epsilon Error: 0.7247, Test Epsilon Error: 0.5570\n",
      "Epoch 46: Train Loss: 1.8993, Test Loss: 1.8903, Train Rho Error: 0.0000, Test Rho Error: 0.0000, Train Vx Error: 0.0000, Test Vx Error: 0.0000, Train Epsilon Error: 0.7234, Test Epsilon Error: 0.5585\n",
      "Epoch 47: Train Loss: 1.8992, Test Loss: 1.8910, Train Rho Error: 0.0000, Test Rho Error: 0.0000, Train Vx Error: 0.0000, Test Vx Error: 0.0000, Train Epsilon Error: 0.6956, Test Epsilon Error: 0.5631\n",
      "Epoch 48: Train Loss: 1.8993, Test Loss: 1.8901, Train Rho Error: 0.0000, Test Rho Error: 0.0000, Train Vx Error: 0.0000, Test Vx Error: 0.0000, Train Epsilon Error: 0.7386, Test Epsilon Error: 0.5563\n",
      "Epoch 49: Train Loss: 1.8993, Test Loss: 1.8906, Train Rho Error: 0.0000, Test Rho Error: 0.0000, Train Vx Error: 0.0000, Test Vx Error: 0.0000, Train Epsilon Error: 0.6247, Test Epsilon Error: 0.5605\n",
      "Epoch 50: Train Loss: 1.8993, Test Loss: 1.8902, Train Rho Error: 0.0000, Test Rho Error: 0.0000, Train Vx Error: 0.0000, Test Vx Error: 0.0000, Train Epsilon Error: 0.8205, Test Epsilon Error: 0.5573\n",
      "Epoch 51: Train Loss: 1.8991, Test Loss: 1.8903, Train Rho Error: 0.0000, Test Rho Error: 0.0000, Train Vx Error: 0.0000, Test Vx Error: 0.0000, Train Epsilon Error: 0.8173, Test Epsilon Error: 0.5581\n",
      "Epoch 52: Train Loss: 1.8991, Test Loss: 1.8903, Train Rho Error: 0.0000, Test Rho Error: 0.0000, Train Vx Error: 0.0000, Test Vx Error: 0.0000, Train Epsilon Error: 5.6668, Test Epsilon Error: 0.5585\n",
      "Epoch 53: Train Loss: 1.8991, Test Loss: 1.8903, Train Rho Error: 0.0000, Test Rho Error: 0.0000, Train Vx Error: 0.0000, Test Vx Error: 0.0000, Train Epsilon Error: 1.1372, Test Epsilon Error: 0.5585\n",
      "Epoch 54: Train Loss: 1.8991, Test Loss: 1.8904, Train Rho Error: 0.0000, Test Rho Error: 0.0000, Train Vx Error: 0.0000, Test Vx Error: 0.0000, Train Epsilon Error: 0.6455, Test Epsilon Error: 0.5589\n",
      "Epoch 55: Train Loss: 1.8991, Test Loss: 1.8903, Train Rho Error: 0.0000, Test Rho Error: 0.0000, Train Vx Error: 0.0000, Test Vx Error: 0.0000, Train Epsilon Error: 0.7069, Test Epsilon Error: 0.5587\n",
      "Epoch 56: Train Loss: 1.8991, Test Loss: 1.8903, Train Rho Error: 0.0000, Test Rho Error: 0.0000, Train Vx Error: 0.0000, Test Vx Error: 0.0000, Train Epsilon Error: 0.6950, Test Epsilon Error: 0.5580\n",
      "Epoch 57: Train Loss: 1.8991, Test Loss: 1.8903, Train Rho Error: 0.0000, Test Rho Error: 0.0000, Train Vx Error: 0.0000, Test Vx Error: 0.0000, Train Epsilon Error: 1.0498, Test Epsilon Error: 0.5582\n",
      "Epoch 58: Train Loss: 1.8991, Test Loss: 1.8903, Train Rho Error: 0.0000, Test Rho Error: 0.0000, Train Vx Error: 0.0000, Test Vx Error: 0.0000, Train Epsilon Error: 0.9666, Test Epsilon Error: 0.5585\n",
      "Epoch 59: Train Loss: 1.8991, Test Loss: 1.8903, Train Rho Error: 0.0000, Test Rho Error: 0.0000, Train Vx Error: 0.0000, Test Vx Error: 0.0000, Train Epsilon Error: 0.6441, Test Epsilon Error: 0.5580\n",
      "Epoch 60: Train Loss: 1.8991, Test Loss: 1.8903, Train Rho Error: 0.0000, Test Rho Error: 0.0000, Train Vx Error: 0.0000, Test Vx Error: 0.0000, Train Epsilon Error: 0.7752, Test Epsilon Error: 0.5581\n",
      "Epoch 61: Train Loss: 1.8991, Test Loss: 1.8903, Train Rho Error: 0.0000, Test Rho Error: 0.0000, Train Vx Error: 0.0000, Test Vx Error: 0.0000, Train Epsilon Error: 0.9804, Test Epsilon Error: 0.5583\n",
      "Epoch 62: Train Loss: 1.8991, Test Loss: 1.8903, Train Rho Error: 0.0000, Test Rho Error: 0.0000, Train Vx Error: 0.0000, Test Vx Error: 0.0000, Train Epsilon Error: 1.9739, Test Epsilon Error: 0.5583\n",
      "Epoch 63: Train Loss: 1.8991, Test Loss: 1.8903, Train Rho Error: 0.0000, Test Rho Error: 0.0000, Train Vx Error: 0.0000, Test Vx Error: 0.0000, Train Epsilon Error: 3.2575, Test Epsilon Error: 0.5583\n",
      "Epoch 64: Train Loss: 1.8991, Test Loss: 1.8903, Train Rho Error: 0.0000, Test Rho Error: 0.0000, Train Vx Error: 0.0000, Test Vx Error: 0.0000, Train Epsilon Error: 0.7732, Test Epsilon Error: 0.5583\n",
      "Epoch 65: Train Loss: 1.8991, Test Loss: 1.8903, Train Rho Error: 0.0000, Test Rho Error: 0.0000, Train Vx Error: 0.0000, Test Vx Error: 0.0000, Train Epsilon Error: 0.6010, Test Epsilon Error: 0.5583\n",
      "Epoch 66: Train Loss: 1.8991, Test Loss: 1.8903, Train Rho Error: 0.0000, Test Rho Error: 0.0000, Train Vx Error: 0.0000, Test Vx Error: 0.0000, Train Epsilon Error: 0.8168, Test Epsilon Error: 0.5583\n",
      "Epoch 67: Train Loss: 1.8991, Test Loss: 1.8903, Train Rho Error: 0.0000, Test Rho Error: 0.0000, Train Vx Error: 0.0000, Test Vx Error: 0.0000, Train Epsilon Error: 0.9653, Test Epsilon Error: 0.5583\n",
      "Epoch 68: Train Loss: 1.8991, Test Loss: 1.8903, Train Rho Error: 0.0000, Test Rho Error: 0.0000, Train Vx Error: 0.0000, Test Vx Error: 0.0000, Train Epsilon Error: 0.7803, Test Epsilon Error: 0.5583\n",
      "Epoch 69: Train Loss: 1.8991, Test Loss: 1.8903, Train Rho Error: 0.0000, Test Rho Error: 0.0000, Train Vx Error: 0.0000, Test Vx Error: 0.0000, Train Epsilon Error: 0.9881, Test Epsilon Error: 0.5583\n",
      "Epoch 70: Train Loss: 1.8991, Test Loss: 1.8903, Train Rho Error: 0.0000, Test Rho Error: 0.0000, Train Vx Error: 0.0000, Test Vx Error: 0.0000, Train Epsilon Error: 0.9176, Test Epsilon Error: 0.5583\n",
      "Epoch 71: Train Loss: 1.8991, Test Loss: 1.8903, Train Rho Error: 0.0000, Test Rho Error: 0.0000, Train Vx Error: 0.0000, Test Vx Error: 0.0000, Train Epsilon Error: 2.1817, Test Epsilon Error: 0.5582\n",
      "Epoch 72: Train Loss: 1.8991, Test Loss: 1.8903, Train Rho Error: 0.0000, Test Rho Error: 0.0000, Train Vx Error: 0.0000, Test Vx Error: 0.0000, Train Epsilon Error: 0.8697, Test Epsilon Error: 0.5582\n",
      "Epoch 73: Train Loss: 1.8991, Test Loss: 1.8903, Train Rho Error: 0.0000, Test Rho Error: 0.0000, Train Vx Error: 0.0000, Test Vx Error: 0.0000, Train Epsilon Error: 1.0210, Test Epsilon Error: 0.5582\n"
     ]
    },
    {
     "name": "stderr",
     "output_type": "stream",
     "text": [
      "\u001b[32m[I 2023-05-05 13:29:57,251]\u001b[0m Trial 1 finished with value: 0.5582342281554593 and parameters: {'n_layers': 2, 'n_units_0': 5, 'n_units_1': 58, 'hidden_activation': 'Tanh', 'output_activation': 'Linear', 'loss': 'Huber', 'optimizer': 'Adam', 'lr': 0.023616991815995768, 'batch_size': 5, 'n_epochs': 74, 'scheduler': 'ReduceLROnPlateau'}. Best is trial 1 with value: 0.5582342281554593.\u001b[0m\n"
     ]
    },
    {
     "name": "stdout",
     "output_type": "stream",
     "text": [
      "Epoch 74: Train Loss: 1.8991, Test Loss: 1.8903, Train Rho Error: 0.0000, Test Rho Error: 0.0000, Train Vx Error: 0.0000, Test Vx Error: 0.0000, Train Epsilon Error: 0.7350, Test Epsilon Error: 0.5582\n",
      "Epoch 1: Train Loss: 7.7825, Test Loss: 3.4013, Train Rho Error: 0.0000, Test Rho Error: 0.0000, Train Vx Error: 0.0000, Test Vx Error: 0.0000, Train Epsilon Error: 4.5391, Test Epsilon Error: 1.0806\n",
      "Epoch 2: Train Loss: 4.8322, Test Loss: 6.8608, Train Rho Error: 0.0000, Test Rho Error: 0.0000, Train Vx Error: 0.0000, Test Vx Error: 0.0000, Train Epsilon Error: 2.2802, Test Epsilon Error: 3.6343\n",
      "Epoch 3: Train Loss: 4.4008, Test Loss: 3.4959, Train Rho Error: 0.0000, Test Rho Error: 0.0000, Train Vx Error: 0.0000, Test Vx Error: 0.0000, Train Epsilon Error: 2.3360, Test Epsilon Error: 1.1243\n",
      "Epoch 4: Train Loss: 3.9136, Test Loss: 3.5252, Train Rho Error: 0.0000, Test Rho Error: 0.0000, Train Vx Error: 0.0000, Test Vx Error: 0.0000, Train Epsilon Error: 2.2315, Test Epsilon Error: 1.9280\n"
     ]
    },
    {
     "name": "stderr",
     "output_type": "stream",
     "text": [
      "NaN or Inf found in input tensor.\n"
     ]
    },
    {
     "name": "stdout",
     "output_type": "stream",
     "text": [
      "Epoch 5: Train Loss: 3.3621, Test Loss: 2.9883, Train Rho Error: 0.0000, Test Rho Error: 0.0000, Train Vx Error: 0.0000, Test Vx Error: 0.0000, Train Epsilon Error: inf, Test Epsilon Error: 0.9315\n",
      "Epoch 6: Train Loss: 2.8706, Test Loss: 3.7729, Train Rho Error: 0.0000, Test Rho Error: 0.0000, Train Vx Error: 0.0000, Test Vx Error: 0.0000, Train Epsilon Error: 1.4048, Test Epsilon Error: 1.2520\n",
      "Epoch 7: Train Loss: 2.6050, Test Loss: 3.3060, Train Rho Error: 0.0000, Test Rho Error: 0.0000, Train Vx Error: 0.0000, Test Vx Error: 0.0000, Train Epsilon Error: 1.2354, Test Epsilon Error: 1.7894\n",
      "Epoch 8: Train Loss: 2.4174, Test Loss: 2.3479, Train Rho Error: 0.0000, Test Rho Error: 0.0000, Train Vx Error: 0.0000, Test Vx Error: 0.0000, Train Epsilon Error: 1.0984, Test Epsilon Error: 0.9949\n",
      "Epoch 9: Train Loss: 2.3721, Test Loss: 2.4684, Train Rho Error: 0.0000, Test Rho Error: 0.0000, Train Vx Error: 0.0000, Test Vx Error: 0.0000, Train Epsilon Error: 1.3324, Test Epsilon Error: 0.8821\n",
      "Epoch 10: Train Loss: 2.3616, Test Loss: 2.3501, Train Rho Error: 0.0000, Test Rho Error: 0.0000, Train Vx Error: 0.0000, Test Vx Error: 0.0000, Train Epsilon Error: 1.0634, Test Epsilon Error: 1.0080\n",
      "Epoch 11: Train Loss: 2.3595, Test Loss: 2.3501, Train Rho Error: 0.0000, Test Rho Error: 0.0000, Train Vx Error: 0.0000, Test Vx Error: 0.0000, Train Epsilon Error: 1.0795, Test Epsilon Error: 1.0080\n",
      "Epoch 12: Train Loss: 2.3608, Test Loss: 2.3473, Train Rho Error: 0.0000, Test Rho Error: 0.0000, Train Vx Error: 0.0000, Test Vx Error: 0.0000, Train Epsilon Error: 1.0445, Test Epsilon Error: 0.9817\n",
      "Epoch 13: Train Loss: 2.4053, Test Loss: 2.4316, Train Rho Error: 0.0000, Test Rho Error: 0.0000, Train Vx Error: 0.0000, Test Vx Error: 0.0000, Train Epsilon Error: 0.9557, Test Epsilon Error: 1.1391\n",
      "Epoch 14: Train Loss: 2.5585, Test Loss: 2.5361, Train Rho Error: 0.0000, Test Rho Error: 0.0000, Train Vx Error: 0.0000, Test Vx Error: 0.0000, Train Epsilon Error: 1.2137, Test Epsilon Error: 1.2406\n",
      "Epoch 15: Train Loss: 2.8746, Test Loss: 2.3898, Train Rho Error: 0.0000, Test Rho Error: 0.0000, Train Vx Error: 0.0000, Test Vx Error: 0.0000, Train Epsilon Error: 1.2975, Test Epsilon Error: 1.0857\n",
      "Epoch 16: Train Loss: 3.2689, Test Loss: 2.9439, Train Rho Error: 0.0000, Test Rho Error: 0.0000, Train Vx Error: 0.0000, Test Vx Error: 0.0000, Train Epsilon Error: 2.0244, Test Epsilon Error: 1.5512\n",
      "Epoch 17: Train Loss: 3.8204, Test Loss: 2.5245, Train Rho Error: 0.0000, Test Rho Error: 0.0000, Train Vx Error: 0.0000, Test Vx Error: 0.0000, Train Epsilon Error: 1.7550, Test Epsilon Error: 0.8745\n",
      "Epoch 18: Train Loss: 4.2573, Test Loss: 2.7513, Train Rho Error: 0.0000, Test Rho Error: 0.0000, Train Vx Error: 0.0000, Test Vx Error: 0.0000, Train Epsilon Error: 1.9453, Test Epsilon Error: 1.4085\n",
      "Epoch 19: Train Loss: 4.6392, Test Loss: 3.3360, Train Rho Error: 0.0000, Test Rho Error: 0.0000, Train Vx Error: 0.0000, Test Vx Error: 0.0000, Train Epsilon Error: 2.2548, Test Epsilon Error: 1.0508\n",
      "Epoch 20: Train Loss: 4.9142, Test Loss: 7.1984, Train Rho Error: 0.0000, Test Rho Error: 0.0000, Train Vx Error: 0.0000, Test Vx Error: 0.0000, Train Epsilon Error: 2.6646, Test Epsilon Error: 3.7905\n",
      "Epoch 21: Train Loss: 4.9541, Test Loss: 2.7825, Train Rho Error: 0.0000, Test Rho Error: 0.0000, Train Vx Error: 0.0000, Test Vx Error: 0.0000, Train Epsilon Error: 2.5835, Test Epsilon Error: 0.8847\n",
      "Epoch 22: Train Loss: 4.7889, Test Loss: 4.7630, Train Rho Error: 0.0000, Test Rho Error: 0.0000, Train Vx Error: 0.0000, Test Vx Error: 0.0000, Train Epsilon Error: 2.8355, Test Epsilon Error: 2.6189\n",
      "Epoch 23: Train Loss: 4.4355, Test Loss: 3.0884, Train Rho Error: 0.0000, Test Rho Error: 0.0000, Train Vx Error: 0.0000, Test Vx Error: 0.0000, Train Epsilon Error: 2.0677, Test Epsilon Error: 0.9588\n",
      "Epoch 24: Train Loss: 3.8580, Test Loss: 3.3321, Train Rho Error: 0.0000, Test Rho Error: 0.0000, Train Vx Error: 0.0000, Test Vx Error: 0.0000, Train Epsilon Error: 1.9466, Test Epsilon Error: 1.8064\n",
      "Epoch 25: Train Loss: 3.3921, Test Loss: 2.4091, Train Rho Error: 0.0000, Test Rho Error: 0.0000, Train Vx Error: 0.0000, Test Vx Error: 0.0000, Train Epsilon Error: 1.7313, Test Epsilon Error: 0.9014\n",
      "Epoch 26: Train Loss: 2.8915, Test Loss: 3.1798, Train Rho Error: 0.0000, Test Rho Error: 0.0000, Train Vx Error: 0.0000, Test Vx Error: 0.0000, Train Epsilon Error: 1.3317, Test Epsilon Error: 1.7092\n",
      "Epoch 27: Train Loss: 2.5779, Test Loss: 2.3482, Train Rho Error: 0.0000, Test Rho Error: 0.0000, Train Vx Error: 0.0000, Test Vx Error: 0.0000, Train Epsilon Error: 1.2244, Test Epsilon Error: 0.9980\n",
      "Epoch 28: Train Loss: 2.4254, Test Loss: 2.3595, Train Rho Error: 0.0000, Test Rho Error: 0.0000, Train Vx Error: 0.0000, Test Vx Error: 0.0000, Train Epsilon Error: 1.6184, Test Epsilon Error: 1.0354\n"
     ]
    },
    {
     "name": "stderr",
     "output_type": "stream",
     "text": [
      "NaN or Inf found in input tensor.\n"
     ]
    },
    {
     "name": "stdout",
     "output_type": "stream",
     "text": [
      "Epoch 29: Train Loss: 2.3678, Test Loss: 2.3757, Train Rho Error: 0.0000, Test Rho Error: 0.0000, Train Vx Error: 0.0000, Test Vx Error: 0.0000, Train Epsilon Error: inf, Test Epsilon Error: 1.0648\n",
      "Epoch 30: Train Loss: 2.3591, Test Loss: 2.3519, Train Rho Error: 0.0000, Test Rho Error: 0.0000, Train Vx Error: 0.0000, Test Vx Error: 0.0000, Train Epsilon Error: 1.0324, Test Epsilon Error: 1.0149\n",
      "Epoch 31: Train Loss: 2.3609, Test Loss: 2.3519, Train Rho Error: 0.0000, Test Rho Error: 0.0000, Train Vx Error: 0.0000, Test Vx Error: 0.0000, Train Epsilon Error: 1.1770, Test Epsilon Error: 1.0149\n"
     ]
    },
    {
     "name": "stderr",
     "output_type": "stream",
     "text": [
      "NaN or Inf found in input tensor.\n"
     ]
    },
    {
     "name": "stdout",
     "output_type": "stream",
     "text": [
      "Epoch 32: Train Loss: 2.3614, Test Loss: 2.3495, Train Rho Error: 0.0000, Test Rho Error: 0.0000, Train Vx Error: 0.0000, Test Vx Error: 0.0000, Train Epsilon Error: inf, Test Epsilon Error: 1.0056\n",
      "Epoch 33: Train Loss: 2.4076, Test Loss: 2.3847, Train Rho Error: 0.0000, Test Rho Error: 0.0000, Train Vx Error: 0.0000, Test Vx Error: 0.0000, Train Epsilon Error: 1.0610, Test Epsilon Error: 1.0782\n",
      "Epoch 34: Train Loss: 2.5530, Test Loss: 2.3480, Train Rho Error: 0.0000, Test Rho Error: 0.0000, Train Vx Error: 0.0000, Test Vx Error: 0.0000, Train Epsilon Error: 1.0759, Test Epsilon Error: 0.9965\n",
      "Epoch 35: Train Loss: 2.8856, Test Loss: 2.5900, Train Rho Error: 0.0000, Test Rho Error: 0.0000, Train Vx Error: 0.0000, Test Vx Error: 0.0000, Train Epsilon Error: 1.3007, Test Epsilon Error: 1.2856\n",
      "Epoch 36: Train Loss: 3.2686, Test Loss: 3.1069, Train Rho Error: 0.0000, Test Rho Error: 0.0000, Train Vx Error: 0.0000, Test Vx Error: 0.0000, Train Epsilon Error: 1.7325, Test Epsilon Error: 0.9642\n"
     ]
    },
    {
     "name": "stderr",
     "output_type": "stream",
     "text": [
      "NaN or Inf found in input tensor.\n"
     ]
    },
    {
     "name": "stdout",
     "output_type": "stream",
     "text": [
      "Epoch 37: Train Loss: 3.7645, Test Loss: 4.2935, Train Rho Error: 0.0000, Test Rho Error: 0.0000, Train Vx Error: 0.0000, Test Vx Error: 0.0000, Train Epsilon Error: inf, Test Epsilon Error: 2.3691\n",
      "Epoch 38: Train Loss: 4.3070, Test Loss: 3.3136, Train Rho Error: 0.0000, Test Rho Error: 0.0000, Train Vx Error: 0.0000, Test Vx Error: 0.0000, Train Epsilon Error: 2.0336, Test Epsilon Error: 1.0409\n",
      "Epoch 39: Train Loss: 4.6326, Test Loss: 5.7860, Train Rho Error: 0.0000, Test Rho Error: 0.0000, Train Vx Error: 0.0000, Test Vx Error: 0.0000, Train Epsilon Error: 2.0407, Test Epsilon Error: 3.1286\n",
      "Epoch 40: Train Loss: 4.9082, Test Loss: 4.0801, Train Rho Error: 0.0000, Test Rho Error: 0.0000, Train Vx Error: 0.0000, Test Vx Error: 0.0000, Train Epsilon Error: 3.0275, Test Epsilon Error: 1.3936\n",
      "Epoch 41: Train Loss: 4.9349, Test Loss: 7.2009, Train Rho Error: 0.0000, Test Rho Error: 0.0000, Train Vx Error: 0.0000, Test Vx Error: 0.0000, Train Epsilon Error: 3.7997, Test Epsilon Error: 3.7917\n",
      "Epoch 42: Train Loss: 4.7640, Test Loss: 3.6357, Train Rho Error: 0.0000, Test Rho Error: 0.0000, Train Vx Error: 0.0000, Test Vx Error: 0.0000, Train Epsilon Error: 2.5470, Test Epsilon Error: 1.1887\n",
      "Epoch 43: Train Loss: 4.4177, Test Loss: 6.5579, Train Rho Error: 0.0000, Test Rho Error: 0.0000, Train Vx Error: 0.0000, Test Vx Error: 0.0000, Train Epsilon Error: 2.2832, Test Epsilon Error: 3.4936\n",
      "Epoch 44: Train Loss: 3.9171, Test Loss: 2.8139, Train Rho Error: 0.0000, Test Rho Error: 0.0000, Train Vx Error: 0.0000, Test Vx Error: 0.0000, Train Epsilon Error: 2.0680, Test Epsilon Error: 0.8910\n",
      "Epoch 45: Train Loss: 3.3522, Test Loss: 3.4236, Train Rho Error: 0.0000, Test Rho Error: 0.0000, Train Vx Error: 0.0000, Test Vx Error: 0.0000, Train Epsilon Error: 2.0642, Test Epsilon Error: 1.8648\n",
      "Epoch 46: Train Loss: 2.9213, Test Loss: 2.5366, Train Rho Error: 0.0000, Test Rho Error: 0.0000, Train Vx Error: 0.0000, Test Vx Error: 0.0000, Train Epsilon Error: 2.1464, Test Epsilon Error: 0.8735\n",
      "Epoch 47: Train Loss: 2.5737, Test Loss: 2.3684, Train Rho Error: 0.0000, Test Rho Error: 0.0000, Train Vx Error: 0.0000, Test Vx Error: 0.0000, Train Epsilon Error: 1.1472, Test Epsilon Error: 1.0527\n",
      "Epoch 48: Train Loss: 2.4228, Test Loss: 2.3903, Train Rho Error: 0.0000, Test Rho Error: 0.0000, Train Vx Error: 0.0000, Test Vx Error: 0.0000, Train Epsilon Error: 1.1016, Test Epsilon Error: 1.0864\n",
      "Epoch 49: Train Loss: 2.3685, Test Loss: 2.3788, Train Rho Error: 0.0000, Test Rho Error: 0.0000, Train Vx Error: 0.0000, Test Vx Error: 0.0000, Train Epsilon Error: 0.9250, Test Epsilon Error: 1.0696\n",
      "Epoch 50: Train Loss: 2.3600, Test Loss: 2.3620, Train Rho Error: 0.0000, Test Rho Error: 0.0000, Train Vx Error: 0.0000, Test Vx Error: 0.0000, Train Epsilon Error: 0.9220, Test Epsilon Error: 0.9376\n"
     ]
    },
    {
     "name": "stderr",
     "output_type": "stream",
     "text": [
      "\u001b[32m[I 2023-05-05 13:31:07,797]\u001b[0m Trial 2 finished with value: 0.9375988952636719 and parameters: {'n_layers': 4, 'n_units_0': 220, 'n_units_1': 28, 'n_units_2': 159, 'n_units_3': 195, 'hidden_activation': 'Tanh', 'output_activation': 'Linear', 'loss': 'MAE', 'optimizer': 'RMSprop', 'lr': 0.0495666378573426, 'batch_size': 444, 'n_epochs': 51, 'scheduler': 'CosineAnnealingLR'}. Best is trial 1 with value: 0.5582342281554593.\u001b[0m\n"
     ]
    },
    {
     "name": "stdout",
     "output_type": "stream",
     "text": [
      "Epoch 51: Train Loss: 2.3751, Test Loss: 2.3620, Train Rho Error: 0.0000, Test Rho Error: 0.0000, Train Vx Error: 0.0000, Test Vx Error: 0.0000, Train Epsilon Error: 1.0247, Test Epsilon Error: 0.9376\n",
      "Epoch 1: Train Loss: 2.5545, Test Loss: 2.4743, Train Rho Error: 0.0000, Test Rho Error: 0.0000, Train Vx Error: 0.0000, Test Vx Error: 0.0000, Train Epsilon Error: 1.0587, Test Epsilon Error: 0.6270\n",
      "Epoch 2: Train Loss: 2.4369, Test Loss: 2.3676, Train Rho Error: 0.0000, Test Rho Error: 0.0000, Train Vx Error: 0.0000, Test Vx Error: 0.0000, Train Epsilon Error: 1.0464, Test Epsilon Error: 0.6187\n",
      "Epoch 3: Train Loss: 2.3398, Test Loss: 2.2801, Train Rho Error: 0.0000, Test Rho Error: 0.0000, Train Vx Error: 0.0000, Test Vx Error: 0.0000, Train Epsilon Error: 0.7158, Test Epsilon Error: 0.6150\n",
      "Epoch 4: Train Loss: 2.2607, Test Loss: 2.2095, Train Rho Error: 0.0000, Test Rho Error: 0.0000, Train Vx Error: 0.0000, Test Vx Error: 0.0000, Train Epsilon Error: 0.8627, Test Epsilon Error: 0.6146\n",
      "Epoch 5: Train Loss: 2.1969, Test Loss: 2.1524, Train Rho Error: 0.0000, Test Rho Error: 0.0000, Train Vx Error: 0.0000, Test Vx Error: 0.0000, Train Epsilon Error: 0.7159, Test Epsilon Error: 0.6166\n",
      "Epoch 6: Train Loss: 2.1449, Test Loss: 2.1059, Train Rho Error: 0.0000, Test Rho Error: 0.0000, Train Vx Error: 0.0000, Test Vx Error: 0.0000, Train Epsilon Error: 0.9650, Test Epsilon Error: 0.6203\n",
      "Epoch 7: Train Loss: 2.1024, Test Loss: 2.0677, Train Rho Error: 0.0000, Test Rho Error: 0.0000, Train Vx Error: 0.0000, Test Vx Error: 0.0000, Train Epsilon Error: 0.9521, Test Epsilon Error: 0.6254\n",
      "Epoch 8: Train Loss: 2.0673, Test Loss: 2.0362, Train Rho Error: 0.0000, Test Rho Error: 0.0000, Train Vx Error: 0.0000, Test Vx Error: 0.0000, Train Epsilon Error: 1.1294, Test Epsilon Error: 0.6311\n",
      "Epoch 9: Train Loss: 2.0384, Test Loss: 2.0103, Train Rho Error: 0.0000, Test Rho Error: 0.0000, Train Vx Error: 0.0000, Test Vx Error: 0.0000, Train Epsilon Error: 0.9118, Test Epsilon Error: 0.6379\n",
      "Epoch 10: Train Loss: 2.0145, Test Loss: 1.9889, Train Rho Error: 0.0000, Test Rho Error: 0.0000, Train Vx Error: 0.0000, Test Vx Error: 0.0000, Train Epsilon Error: 1.0990, Test Epsilon Error: 0.6451\n",
      "Epoch 11: Train Loss: 1.9947, Test Loss: 1.9713, Train Rho Error: 0.0000, Test Rho Error: 0.0000, Train Vx Error: 0.0000, Test Vx Error: 0.0000, Train Epsilon Error: 0.8315, Test Epsilon Error: 0.6523\n"
     ]
    },
    {
     "name": "stderr",
     "output_type": "stream",
     "text": [
      "NaN or Inf found in input tensor.\n"
     ]
    },
    {
     "name": "stdout",
     "output_type": "stream",
     "text": [
      "Epoch 12: Train Loss: 1.9783, Test Loss: 1.9567, Train Rho Error: 0.0000, Test Rho Error: 0.0000, Train Vx Error: 0.0000, Test Vx Error: 0.0000, Train Epsilon Error: inf, Test Epsilon Error: 0.6592\n",
      "Epoch 13: Train Loss: 1.9647, Test Loss: 1.9447, Train Rho Error: 0.0000, Test Rho Error: 0.0000, Train Vx Error: 0.0000, Test Vx Error: 0.0000, Train Epsilon Error: 1.2207, Test Epsilon Error: 0.6658\n",
      "Epoch 14: Train Loss: 1.9535, Test Loss: 1.9348, Train Rho Error: 0.0000, Test Rho Error: 0.0000, Train Vx Error: 0.0000, Test Vx Error: 0.0000, Train Epsilon Error: 1.0593, Test Epsilon Error: 0.6721\n",
      "Epoch 15: Train Loss: 1.9441, Test Loss: 1.9267, Train Rho Error: 0.0000, Test Rho Error: 0.0000, Train Vx Error: 0.0000, Test Vx Error: 0.0000, Train Epsilon Error: 0.8392, Test Epsilon Error: 0.6783\n",
      "Epoch 16: Train Loss: 1.9364, Test Loss: 1.9200, Train Rho Error: 0.0000, Test Rho Error: 0.0000, Train Vx Error: 0.0000, Test Vx Error: 0.0000, Train Epsilon Error: 0.7702, Test Epsilon Error: 0.6842\n",
      "Epoch 17: Train Loss: 1.9300, Test Loss: 1.9144, Train Rho Error: 0.0000, Test Rho Error: 0.0000, Train Vx Error: 0.0000, Test Vx Error: 0.0000, Train Epsilon Error: 0.7913, Test Epsilon Error: 0.6899\n",
      "Epoch 18: Train Loss: 1.9247, Test Loss: 1.9099, Train Rho Error: 0.0000, Test Rho Error: 0.0000, Train Vx Error: 0.0000, Test Vx Error: 0.0000, Train Epsilon Error: 1.0654, Test Epsilon Error: 0.6953\n",
      "Epoch 19: Train Loss: 1.9204, Test Loss: 1.9062, Train Rho Error: 0.0000, Test Rho Error: 0.0000, Train Vx Error: 0.0000, Test Vx Error: 0.0000, Train Epsilon Error: 0.7834, Test Epsilon Error: 0.7003\n",
      "Epoch 20: Train Loss: 1.9167, Test Loss: 1.9031, Train Rho Error: 0.0000, Test Rho Error: 0.0000, Train Vx Error: 0.0000, Test Vx Error: 0.0000, Train Epsilon Error: 0.8604, Test Epsilon Error: 0.7049\n",
      "Epoch 21: Train Loss: 1.9137, Test Loss: 1.9006, Train Rho Error: 0.0000, Test Rho Error: 0.0000, Train Vx Error: 0.0000, Test Vx Error: 0.0000, Train Epsilon Error: 1.0041, Test Epsilon Error: 0.7094\n",
      "Epoch 22: Train Loss: 1.9113, Test Loss: 1.8986, Train Rho Error: 0.0000, Test Rho Error: 0.0000, Train Vx Error: 0.0000, Test Vx Error: 0.0000, Train Epsilon Error: 1.2034, Test Epsilon Error: 0.7136\n",
      "Epoch 23: Train Loss: 1.9092, Test Loss: 1.8969, Train Rho Error: 0.0000, Test Rho Error: 0.0000, Train Vx Error: 0.0000, Test Vx Error: 0.0000, Train Epsilon Error: 1.1827, Test Epsilon Error: 0.7175\n",
      "Epoch 24: Train Loss: 1.9075, Test Loss: 1.8955, Train Rho Error: 0.0000, Test Rho Error: 0.0000, Train Vx Error: 0.0000, Test Vx Error: 0.0000, Train Epsilon Error: 1.2140, Test Epsilon Error: 0.7212\n",
      "Epoch 25: Train Loss: 1.9061, Test Loss: 1.8944, Train Rho Error: 0.0000, Test Rho Error: 0.0000, Train Vx Error: 0.0000, Test Vx Error: 0.0000, Train Epsilon Error: 0.8002, Test Epsilon Error: 0.7246\n",
      "Epoch 26: Train Loss: 1.9050, Test Loss: 1.8935, Train Rho Error: 0.0000, Test Rho Error: 0.0000, Train Vx Error: 0.0000, Test Vx Error: 0.0000, Train Epsilon Error: 0.8359, Test Epsilon Error: 0.7276\n",
      "Epoch 27: Train Loss: 1.9040, Test Loss: 1.8928, Train Rho Error: 0.0000, Test Rho Error: 0.0000, Train Vx Error: 0.0000, Test Vx Error: 0.0000, Train Epsilon Error: 0.9943, Test Epsilon Error: 0.7305\n",
      "Epoch 28: Train Loss: 1.9032, Test Loss: 1.8922, Train Rho Error: 0.0000, Test Rho Error: 0.0000, Train Vx Error: 0.0000, Test Vx Error: 0.0000, Train Epsilon Error: 0.8126, Test Epsilon Error: 0.7331\n",
      "Epoch 29: Train Loss: 1.9025, Test Loss: 1.8917, Train Rho Error: 0.0000, Test Rho Error: 0.0000, Train Vx Error: 0.0000, Test Vx Error: 0.0000, Train Epsilon Error: 0.7719, Test Epsilon Error: 0.7354\n",
      "Epoch 30: Train Loss: 1.9020, Test Loss: 1.8914, Train Rho Error: 0.0000, Test Rho Error: 0.0000, Train Vx Error: 0.0000, Test Vx Error: 0.0000, Train Epsilon Error: 1.9007, Test Epsilon Error: 0.7376\n"
     ]
    },
    {
     "name": "stderr",
     "output_type": "stream",
     "text": [
      "NaN or Inf found in input tensor.\n"
     ]
    },
    {
     "name": "stdout",
     "output_type": "stream",
     "text": [
      "Epoch 31: Train Loss: 1.9016, Test Loss: 1.8911, Train Rho Error: 0.0000, Test Rho Error: 0.0000, Train Vx Error: 0.0000, Test Vx Error: 0.0000, Train Epsilon Error: inf, Test Epsilon Error: 0.7396\n",
      "Epoch 32: Train Loss: 1.9012, Test Loss: 1.8908, Train Rho Error: 0.0000, Test Rho Error: 0.0000, Train Vx Error: 0.0000, Test Vx Error: 0.0000, Train Epsilon Error: 0.9413, Test Epsilon Error: 0.7414\n",
      "Epoch 33: Train Loss: 1.9009, Test Loss: 1.8906, Train Rho Error: 0.0000, Test Rho Error: 0.0000, Train Vx Error: 0.0000, Test Vx Error: 0.0000, Train Epsilon Error: 0.9297, Test Epsilon Error: 0.7431\n",
      "Epoch 34: Train Loss: 1.9006, Test Loss: 1.8905, Train Rho Error: 0.0000, Test Rho Error: 0.0000, Train Vx Error: 0.0000, Test Vx Error: 0.0000, Train Epsilon Error: 0.8525, Test Epsilon Error: 0.7446\n",
      "Epoch 35: Train Loss: 1.9004, Test Loss: 1.8904, Train Rho Error: 0.0000, Test Rho Error: 0.0000, Train Vx Error: 0.0000, Test Vx Error: 0.0000, Train Epsilon Error: 3.2072, Test Epsilon Error: 0.7460\n",
      "Epoch 36: Train Loss: 1.9003, Test Loss: 1.8903, Train Rho Error: 0.0000, Test Rho Error: 0.0000, Train Vx Error: 0.0000, Test Vx Error: 0.0000, Train Epsilon Error: 1.3555, Test Epsilon Error: 0.7472\n",
      "Epoch 37: Train Loss: 1.9001, Test Loss: 1.8902, Train Rho Error: 0.0000, Test Rho Error: 0.0000, Train Vx Error: 0.0000, Test Vx Error: 0.0000, Train Epsilon Error: 0.8518, Test Epsilon Error: 0.7484\n",
      "Epoch 38: Train Loss: 1.9000, Test Loss: 1.8901, Train Rho Error: 0.0000, Test Rho Error: 0.0000, Train Vx Error: 0.0000, Test Vx Error: 0.0000, Train Epsilon Error: 1.2244, Test Epsilon Error: 0.7494\n",
      "Epoch 39: Train Loss: 1.8999, Test Loss: 1.8901, Train Rho Error: 0.0000, Test Rho Error: 0.0000, Train Vx Error: 0.0000, Test Vx Error: 0.0000, Train Epsilon Error: 2.6725, Test Epsilon Error: 0.7504\n",
      "Epoch 40: Train Loss: 1.8998, Test Loss: 1.8901, Train Rho Error: 0.0000, Test Rho Error: 0.0000, Train Vx Error: 0.0000, Test Vx Error: 0.0000, Train Epsilon Error: 0.8197, Test Epsilon Error: 0.7513\n",
      "Epoch 41: Train Loss: 1.8997, Test Loss: 1.8901, Train Rho Error: 0.0000, Test Rho Error: 0.0000, Train Vx Error: 0.0000, Test Vx Error: 0.0000, Train Epsilon Error: 0.8861, Test Epsilon Error: 0.7520\n",
      "Epoch 42: Train Loss: 1.8997, Test Loss: 1.8900, Train Rho Error: 0.0000, Test Rho Error: 0.0000, Train Vx Error: 0.0000, Test Vx Error: 0.0000, Train Epsilon Error: 2.6891, Test Epsilon Error: 0.7528\n",
      "Epoch 43: Train Loss: 1.8996, Test Loss: 1.8900, Train Rho Error: 0.0000, Test Rho Error: 0.0000, Train Vx Error: 0.0000, Test Vx Error: 0.0000, Train Epsilon Error: 0.9074, Test Epsilon Error: 0.7534\n",
      "Epoch 44: Train Loss: 1.8996, Test Loss: 1.8900, Train Rho Error: 0.0000, Test Rho Error: 0.0000, Train Vx Error: 0.0000, Test Vx Error: 0.0000, Train Epsilon Error: 1.0984, Test Epsilon Error: 0.7540\n",
      "Epoch 45: Train Loss: 1.8996, Test Loss: 1.8900, Train Rho Error: 0.0000, Test Rho Error: 0.0000, Train Vx Error: 0.0000, Test Vx Error: 0.0000, Train Epsilon Error: 0.8714, Test Epsilon Error: 0.7546\n",
      "Epoch 46: Train Loss: 1.8996, Test Loss: 1.8900, Train Rho Error: 0.0000, Test Rho Error: 0.0000, Train Vx Error: 0.0000, Test Vx Error: 0.0000, Train Epsilon Error: 1.1406, Test Epsilon Error: 0.7551\n",
      "Epoch 47: Train Loss: 1.8995, Test Loss: 1.8900, Train Rho Error: 0.0000, Test Rho Error: 0.0000, Train Vx Error: 0.0000, Test Vx Error: 0.0000, Train Epsilon Error: 0.9865, Test Epsilon Error: 0.7555\n",
      "Epoch 48: Train Loss: 1.8995, Test Loss: 1.8901, Train Rho Error: 0.0000, Test Rho Error: 0.0000, Train Vx Error: 0.0000, Test Vx Error: 0.0000, Train Epsilon Error: 0.8610, Test Epsilon Error: 0.7559\n",
      "Epoch 49: Train Loss: 1.8995, Test Loss: 1.8901, Train Rho Error: 0.0000, Test Rho Error: 0.0000, Train Vx Error: 0.0000, Test Vx Error: 0.0000, Train Epsilon Error: 0.8677, Test Epsilon Error: 0.7563\n",
      "Epoch 50: Train Loss: 1.8995, Test Loss: 1.8901, Train Rho Error: 0.0000, Test Rho Error: 0.0000, Train Vx Error: 0.0000, Test Vx Error: 0.0000, Train Epsilon Error: 0.8494, Test Epsilon Error: 0.7566\n",
      "Epoch 51: Train Loss: 1.8995, Test Loss: 1.8901, Train Rho Error: 0.0000, Test Rho Error: 0.0000, Train Vx Error: 0.0000, Test Vx Error: 0.0000, Train Epsilon Error: 0.9075, Test Epsilon Error: 0.7570\n",
      "Epoch 52: Train Loss: 1.8995, Test Loss: 1.8901, Train Rho Error: 0.0000, Test Rho Error: 0.0000, Train Vx Error: 0.0000, Test Vx Error: 0.0000, Train Epsilon Error: 1.6741, Test Epsilon Error: 0.7572\n",
      "Epoch 53: Train Loss: 1.8995, Test Loss: 1.8901, Train Rho Error: 0.0000, Test Rho Error: 0.0000, Train Vx Error: 0.0000, Test Vx Error: 0.0000, Train Epsilon Error: 1.3024, Test Epsilon Error: 0.7575\n",
      "Epoch 54: Train Loss: 1.8995, Test Loss: 1.8901, Train Rho Error: 0.0000, Test Rho Error: 0.0000, Train Vx Error: 0.0000, Test Vx Error: 0.0000, Train Epsilon Error: 1.3692, Test Epsilon Error: 0.7577\n",
      "Epoch 55: Train Loss: 1.8995, Test Loss: 1.8901, Train Rho Error: 0.0000, Test Rho Error: 0.0000, Train Vx Error: 0.0000, Test Vx Error: 0.0000, Train Epsilon Error: 0.9175, Test Epsilon Error: 0.7579\n",
      "Epoch 56: Train Loss: 1.8994, Test Loss: 1.8901, Train Rho Error: 0.0000, Test Rho Error: 0.0000, Train Vx Error: 0.0000, Test Vx Error: 0.0000, Train Epsilon Error: 0.8781, Test Epsilon Error: 0.7581\n",
      "Epoch 57: Train Loss: 1.8994, Test Loss: 1.8901, Train Rho Error: 0.0000, Test Rho Error: 0.0000, Train Vx Error: 0.0000, Test Vx Error: 0.0000, Train Epsilon Error: 1.2186, Test Epsilon Error: 0.7583\n",
      "Epoch 58: Train Loss: 1.8994, Test Loss: 1.8901, Train Rho Error: 0.0000, Test Rho Error: 0.0000, Train Vx Error: 0.0000, Test Vx Error: 0.0000, Train Epsilon Error: 0.7584, Test Epsilon Error: 0.7585\n",
      "Epoch 59: Train Loss: 1.8994, Test Loss: 1.8901, Train Rho Error: 0.0000, Test Rho Error: 0.0000, Train Vx Error: 0.0000, Test Vx Error: 0.0000, Train Epsilon Error: 0.8360, Test Epsilon Error: 0.7586\n",
      "Epoch 60: Train Loss: 1.8994, Test Loss: 1.8901, Train Rho Error: 0.0000, Test Rho Error: 0.0000, Train Vx Error: 0.0000, Test Vx Error: 0.0000, Train Epsilon Error: 0.9498, Test Epsilon Error: 0.7588\n"
     ]
    },
    {
     "name": "stderr",
     "output_type": "stream",
     "text": [
      "NaN or Inf found in input tensor.\n"
     ]
    },
    {
     "name": "stdout",
     "output_type": "stream",
     "text": [
      "Epoch 61: Train Loss: 1.8994, Test Loss: 1.8901, Train Rho Error: 0.0000, Test Rho Error: 0.0000, Train Vx Error: 0.0000, Test Vx Error: 0.0000, Train Epsilon Error: inf, Test Epsilon Error: 0.7589\n",
      "Epoch 62: Train Loss: 1.8994, Test Loss: 1.8901, Train Rho Error: 0.0000, Test Rho Error: 0.0000, Train Vx Error: 0.0000, Test Vx Error: 0.0000, Train Epsilon Error: 1.3939, Test Epsilon Error: 0.7590\n",
      "Epoch 63: Train Loss: 1.8994, Test Loss: 1.8901, Train Rho Error: 0.0000, Test Rho Error: 0.0000, Train Vx Error: 0.0000, Test Vx Error: 0.0000, Train Epsilon Error: 1.6774, Test Epsilon Error: 0.7591\n",
      "Epoch 64: Train Loss: 1.8994, Test Loss: 1.8902, Train Rho Error: 0.0000, Test Rho Error: 0.0000, Train Vx Error: 0.0000, Test Vx Error: 0.0000, Train Epsilon Error: 1.0914, Test Epsilon Error: 0.7592\n",
      "Epoch 65: Train Loss: 1.8994, Test Loss: 1.8902, Train Rho Error: 0.0000, Test Rho Error: 0.0000, Train Vx Error: 0.0000, Test Vx Error: 0.0000, Train Epsilon Error: 0.8942, Test Epsilon Error: 0.7593\n",
      "Epoch 66: Train Loss: 1.8994, Test Loss: 1.8902, Train Rho Error: 0.0000, Test Rho Error: 0.0000, Train Vx Error: 0.0000, Test Vx Error: 0.0000, Train Epsilon Error: 0.9650, Test Epsilon Error: 0.7593\n",
      "Epoch 67: Train Loss: 1.8994, Test Loss: 1.8902, Train Rho Error: 0.0000, Test Rho Error: 0.0000, Train Vx Error: 0.0000, Test Vx Error: 0.0000, Train Epsilon Error: 0.8292, Test Epsilon Error: 0.7594\n"
     ]
    },
    {
     "name": "stderr",
     "output_type": "stream",
     "text": [
      "\u001b[32m[I 2023-05-05 13:33:46,367]\u001b[0m Trial 3 finished with value: 0.7594530735135079 and parameters: {'n_layers': 4, 'n_units_0': 25, 'n_units_1': 216, 'n_units_2': 198, 'n_units_3': 20, 'hidden_activation': 'Sigmoid', 'output_activation': 'ReLU', 'loss': 'Huber', 'optimizer': 'SGD', 'lr': 4.1050220546599675e-05, 'batch_size': 87, 'n_epochs': 68, 'scheduler': 'None'}. Best is trial 1 with value: 0.5582342281554593.\u001b[0m\n"
     ]
    },
    {
     "name": "stdout",
     "output_type": "stream",
     "text": [
      "Epoch 68: Train Loss: 1.8994, Test Loss: 1.8902, Train Rho Error: 0.0000, Test Rho Error: 0.0000, Train Vx Error: 0.0000, Test Vx Error: 0.0000, Train Epsilon Error: 1.2031, Test Epsilon Error: 0.7595\n",
      "Epoch 1: Train Loss: 2.8177, Test Loss: 2.7562, Train Rho Error: 0.0000, Test Rho Error: 0.0000, Train Vx Error: 0.0000, Test Vx Error: 0.0000, Train Epsilon Error: 0.9153, Test Epsilon Error: 0.7870\n",
      "Epoch 2: Train Loss: 2.8098, Test Loss: 2.7431, Train Rho Error: 0.0000, Test Rho Error: 0.0000, Train Vx Error: 0.0000, Test Vx Error: 0.0000, Train Epsilon Error: 1.1488, Test Epsilon Error: 0.8017\n",
      "Epoch 3: Train Loss: 2.7524, Test Loss: 2.7292, Train Rho Error: 0.0000, Test Rho Error: 0.0000, Train Vx Error: 0.0000, Test Vx Error: 0.0000, Train Epsilon Error: 0.8236, Test Epsilon Error: 0.7735\n",
      "Epoch 4: Train Loss: 2.7035, Test Loss: 2.7925, Train Rho Error: 0.0000, Test Rho Error: 0.0000, Train Vx Error: 0.0000, Test Vx Error: 0.0000, Train Epsilon Error: 1.1224, Test Epsilon Error: 0.7915\n",
      "Epoch 5: Train Loss: 2.7647, Test Loss: 2.6749, Train Rho Error: 0.0000, Test Rho Error: 0.0000, Train Vx Error: 0.0000, Test Vx Error: 0.0000, Train Epsilon Error: 0.9364, Test Epsilon Error: 0.7982\n",
      "Epoch 6: Train Loss: 2.7608, Test Loss: 2.6788, Train Rho Error: 0.0000, Test Rho Error: 0.0000, Train Vx Error: 0.0000, Test Vx Error: 0.0000, Train Epsilon Error: 0.8931, Test Epsilon Error: 0.7657\n",
      "Epoch 7: Train Loss: 2.6971, Test Loss: 2.8579, Train Rho Error: 0.0000, Test Rho Error: 0.0000, Train Vx Error: 0.0000, Test Vx Error: 0.0000, Train Epsilon Error: 1.0634, Test Epsilon Error: 0.7824\n",
      "Epoch 8: Train Loss: 2.7991, Test Loss: 2.6952, Train Rho Error: 0.0000, Test Rho Error: 0.0000, Train Vx Error: 0.0000, Test Vx Error: 0.0000, Train Epsilon Error: 1.2492, Test Epsilon Error: 0.7599\n",
      "Epoch 9: Train Loss: 2.6485, Test Loss: 2.5957, Train Rho Error: 0.0000, Test Rho Error: 0.0000, Train Vx Error: 0.0000, Test Vx Error: 0.0000, Train Epsilon Error: 2.3547, Test Epsilon Error: 0.7706\n",
      "Epoch 10: Train Loss: 2.6599, Test Loss: 2.5241, Train Rho Error: 0.0000, Test Rho Error: 0.0000, Train Vx Error: 0.0000, Test Vx Error: 0.0000, Train Epsilon Error: 1.0256, Test Epsilon Error: 0.7499\n",
      "Epoch 11: Train Loss: 2.4102, Test Loss: 2.4981, Train Rho Error: 0.0000, Test Rho Error: 0.0000, Train Vx Error: 0.0000, Test Vx Error: 0.0000, Train Epsilon Error: 1.1530, Test Epsilon Error: 0.7073\n",
      "Epoch 12: Train Loss: 2.2091, Test Loss: 2.0151, Train Rho Error: 0.0000, Test Rho Error: 0.0000, Train Vx Error: 0.0000, Test Vx Error: 0.0000, Train Epsilon Error: 1.3351, Test Epsilon Error: 0.7933\n",
      "Epoch 13: Train Loss: 2.1368, Test Loss: 1.9836, Train Rho Error: 0.0000, Test Rho Error: 0.0000, Train Vx Error: 0.0000, Test Vx Error: 0.0000, Train Epsilon Error: 0.9453, Test Epsilon Error: 0.7442\n",
      "Epoch 14: Train Loss: 2.0922, Test Loss: 2.5019, Train Rho Error: 0.0000, Test Rho Error: 0.0000, Train Vx Error: 0.0000, Test Vx Error: 0.0000, Train Epsilon Error: 0.9817, Test Epsilon Error: 1.2340\n",
      "Epoch 15: Train Loss: 2.0774, Test Loss: 2.0528, Train Rho Error: 0.0000, Test Rho Error: 0.0000, Train Vx Error: 0.0000, Test Vx Error: 0.0000, Train Epsilon Error: 1.1304, Test Epsilon Error: 0.7394\n",
      "Epoch 16: Train Loss: 2.0194, Test Loss: 2.0001, Train Rho Error: 0.0000, Test Rho Error: 0.0000, Train Vx Error: 0.0000, Test Vx Error: 0.0000, Train Epsilon Error: 0.8875, Test Epsilon Error: 0.8851\n",
      "Epoch 17: Train Loss: 2.0074, Test Loss: 1.9079, Train Rho Error: 0.0000, Test Rho Error: 0.0000, Train Vx Error: 0.0000, Test Vx Error: 0.0000, Train Epsilon Error: 1.0541, Test Epsilon Error: 0.7973\n",
      "Epoch 18: Train Loss: 1.9835, Test Loss: 1.9134, Train Rho Error: 0.0000, Test Rho Error: 0.0000, Train Vx Error: 0.0000, Test Vx Error: 0.0000, Train Epsilon Error: 0.9850, Test Epsilon Error: 0.7717\n",
      "Epoch 19: Train Loss: 1.9772, Test Loss: 1.9091, Train Rho Error: 0.0000, Test Rho Error: 0.0000, Train Vx Error: 0.0000, Test Vx Error: 0.0000, Train Epsilon Error: 0.9807, Test Epsilon Error: 0.8059\n",
      "Epoch 20: Train Loss: 1.9648, Test Loss: 1.8960, Train Rho Error: 0.0000, Test Rho Error: 0.0000, Train Vx Error: 0.0000, Test Vx Error: 0.0000, Train Epsilon Error: 0.9199, Test Epsilon Error: 0.8116\n",
      "Epoch 21: Train Loss: 1.9573, Test Loss: 1.9163, Train Rho Error: 0.0000, Test Rho Error: 0.0000, Train Vx Error: 0.0000, Test Vx Error: 0.0000, Train Epsilon Error: 0.9012, Test Epsilon Error: 0.7894\n",
      "Epoch 22: Train Loss: 1.9531, Test Loss: 1.9140, Train Rho Error: 0.0000, Test Rho Error: 0.0000, Train Vx Error: 0.0000, Test Vx Error: 0.0000, Train Epsilon Error: 1.0497, Test Epsilon Error: 0.8145\n",
      "Epoch 23: Train Loss: 1.9451, Test Loss: 1.9083, Train Rho Error: 0.0000, Test Rho Error: 0.0000, Train Vx Error: 0.0000, Test Vx Error: 0.0000, Train Epsilon Error: 0.9459, Test Epsilon Error: 0.8332\n",
      "Epoch 24: Train Loss: 1.9442, Test Loss: 1.9058, Train Rho Error: 0.0000, Test Rho Error: 0.0000, Train Vx Error: 0.0000, Test Vx Error: 0.0000, Train Epsilon Error: 1.0156, Test Epsilon Error: 0.7995\n",
      "Epoch 25: Train Loss: 1.9322, Test Loss: 1.9477, Train Rho Error: 0.0000, Test Rho Error: 0.0000, Train Vx Error: 0.0000, Test Vx Error: 0.0000, Train Epsilon Error: 0.8746, Test Epsilon Error: 0.8746\n",
      "Epoch 26: Train Loss: 1.9281, Test Loss: 2.0576, Train Rho Error: 0.0000, Test Rho Error: 0.0000, Train Vx Error: 0.0000, Test Vx Error: 0.0000, Train Epsilon Error: 1.2431, Test Epsilon Error: 0.9602\n",
      "Epoch 27: Train Loss: 1.9271, Test Loss: 1.9438, Train Rho Error: 0.0000, Test Rho Error: 0.0000, Train Vx Error: 0.0000, Test Vx Error: 0.0000, Train Epsilon Error: 0.8896, Test Epsilon Error: 0.8706\n",
      "Epoch 28: Train Loss: 1.9278, Test Loss: 1.9138, Train Rho Error: 0.0000, Test Rho Error: 0.0000, Train Vx Error: 0.0000, Test Vx Error: 0.0000, Train Epsilon Error: 0.8487, Test Epsilon Error: 0.8451\n",
      "Epoch 29: Train Loss: 1.9189, Test Loss: 1.8982, Train Rho Error: 0.0000, Test Rho Error: 0.0000, Train Vx Error: 0.0000, Test Vx Error: 0.0000, Train Epsilon Error: 0.9850, Test Epsilon Error: 0.8149\n",
      "Epoch 30: Train Loss: 1.9198, Test Loss: 1.8974, Train Rho Error: 0.0000, Test Rho Error: 0.0000, Train Vx Error: 0.0000, Test Vx Error: 0.0000, Train Epsilon Error: 0.9615, Test Epsilon Error: 0.7646\n",
      "Epoch 31: Train Loss: 1.9168, Test Loss: 1.9034, Train Rho Error: 0.0000, Test Rho Error: 0.0000, Train Vx Error: 0.0000, Test Vx Error: 0.0000, Train Epsilon Error: 0.9099, Test Epsilon Error: 0.8234\n",
      "Epoch 32: Train Loss: 1.9158, Test Loss: 1.9012, Train Rho Error: 0.0000, Test Rho Error: 0.0000, Train Vx Error: 0.0000, Test Vx Error: 0.0000, Train Epsilon Error: 1.4870, Test Epsilon Error: 0.8176\n",
      "Epoch 33: Train Loss: 1.9151, Test Loss: 1.9052, Train Rho Error: 0.0000, Test Rho Error: 0.0000, Train Vx Error: 0.0000, Test Vx Error: 0.0000, Train Epsilon Error: 1.0115, Test Epsilon Error: 0.7569\n",
      "Epoch 34: Train Loss: 1.9119, Test Loss: 1.8929, Train Rho Error: 0.0000, Test Rho Error: 0.0000, Train Vx Error: 0.0000, Test Vx Error: 0.0000, Train Epsilon Error: 0.9877, Test Epsilon Error: 0.7988\n",
      "Epoch 35: Train Loss: 1.9139, Test Loss: 1.8946, Train Rho Error: 0.0000, Test Rho Error: 0.0000, Train Vx Error: 0.0000, Test Vx Error: 0.0000, Train Epsilon Error: 1.0014, Test Epsilon Error: 0.7673\n",
      "Epoch 36: Train Loss: 1.9124, Test Loss: 1.8920, Train Rho Error: 0.0000, Test Rho Error: 0.0000, Train Vx Error: 0.0000, Test Vx Error: 0.0000, Train Epsilon Error: 1.1718, Test Epsilon Error: 0.7740\n",
      "Epoch 37: Train Loss: 1.9093, Test Loss: 1.8912, Train Rho Error: 0.0000, Test Rho Error: 0.0000, Train Vx Error: 0.0000, Test Vx Error: 0.0000, Train Epsilon Error: 0.9387, Test Epsilon Error: 0.7873\n",
      "Epoch 38: Train Loss: 1.9080, Test Loss: 1.9009, Train Rho Error: 0.0000, Test Rho Error: 0.0000, Train Vx Error: 0.0000, Test Vx Error: 0.0000, Train Epsilon Error: 0.9009, Test Epsilon Error: 0.7505\n",
      "Epoch 39: Train Loss: 1.9083, Test Loss: 1.9069, Train Rho Error: 0.0000, Test Rho Error: 0.0000, Train Vx Error: 0.0000, Test Vx Error: 0.0000, Train Epsilon Error: 0.9787, Test Epsilon Error: 0.8270\n"
     ]
    },
    {
     "name": "stderr",
     "output_type": "stream",
     "text": [
      "NaN or Inf found in input tensor.\n"
     ]
    },
    {
     "name": "stdout",
     "output_type": "stream",
     "text": [
      "Epoch 40: Train Loss: 1.9067, Test Loss: 1.8918, Train Rho Error: 0.0000, Test Rho Error: 0.0000, Train Vx Error: 0.0000, Test Vx Error: 0.0000, Train Epsilon Error: inf, Test Epsilon Error: 0.7712\n",
      "Epoch 41: Train Loss: 1.9061, Test Loss: 1.8961, Train Rho Error: 0.0000, Test Rho Error: 0.0000, Train Vx Error: 0.0000, Test Vx Error: 0.0000, Train Epsilon Error: 0.8731, Test Epsilon Error: 0.8068\n",
      "Epoch 42: Train Loss: 1.9046, Test Loss: 1.9006, Train Rho Error: 0.0000, Test Rho Error: 0.0000, Train Vx Error: 0.0000, Test Vx Error: 0.0000, Train Epsilon Error: 0.8526, Test Epsilon Error: 0.7522\n",
      "Epoch 43: Train Loss: 1.9044, Test Loss: 1.8905, Train Rho Error: 0.0000, Test Rho Error: 0.0000, Train Vx Error: 0.0000, Test Vx Error: 0.0000, Train Epsilon Error: 0.9460, Test Epsilon Error: 0.7841\n",
      "Epoch 44: Train Loss: 1.9066, Test Loss: 1.8914, Train Rho Error: 0.0000, Test Rho Error: 0.0000, Train Vx Error: 0.0000, Test Vx Error: 0.0000, Train Epsilon Error: 1.8544, Test Epsilon Error: 0.7919\n",
      "Epoch 45: Train Loss: 1.9044, Test Loss: 1.8930, Train Rho Error: 0.0000, Test Rho Error: 0.0000, Train Vx Error: 0.0000, Test Vx Error: 0.0000, Train Epsilon Error: 0.8862, Test Epsilon Error: 0.7983\n",
      "Epoch 46: Train Loss: 1.9033, Test Loss: 1.8911, Train Rho Error: 0.0000, Test Rho Error: 0.0000, Train Vx Error: 0.0000, Test Vx Error: 0.0000, Train Epsilon Error: 0.9769, Test Epsilon Error: 0.7897\n",
      "Epoch 47: Train Loss: 1.9029, Test Loss: 1.9046, Train Rho Error: 0.0000, Test Rho Error: 0.0000, Train Vx Error: 0.0000, Test Vx Error: 0.0000, Train Epsilon Error: 0.8972, Test Epsilon Error: 0.8232\n",
      "Epoch 48: Train Loss: 1.9026, Test Loss: 1.8933, Train Rho Error: 0.0000, Test Rho Error: 0.0000, Train Vx Error: 0.0000, Test Vx Error: 0.0000, Train Epsilon Error: 0.9761, Test Epsilon Error: 0.7988\n",
      "Epoch 49: Train Loss: 1.9023, Test Loss: 1.8904, Train Rho Error: 0.0000, Test Rho Error: 0.0000, Train Vx Error: 0.0000, Test Vx Error: 0.0000, Train Epsilon Error: 1.3918, Test Epsilon Error: 0.7809\n",
      "Epoch 50: Train Loss: 1.9027, Test Loss: 1.8918, Train Rho Error: 0.0000, Test Rho Error: 0.0000, Train Vx Error: 0.0000, Test Vx Error: 0.0000, Train Epsilon Error: 1.0344, Test Epsilon Error: 0.7690\n",
      "Epoch 51: Train Loss: 1.9019, Test Loss: 1.8945, Train Rho Error: 0.0000, Test Rho Error: 0.0000, Train Vx Error: 0.0000, Test Vx Error: 0.0000, Train Epsilon Error: 1.2676, Test Epsilon Error: 0.8022\n",
      "Epoch 52: Train Loss: 1.9018, Test Loss: 1.8911, Train Rho Error: 0.0000, Test Rho Error: 0.0000, Train Vx Error: 0.0000, Test Vx Error: 0.0000, Train Epsilon Error: 0.9550, Test Epsilon Error: 0.7890\n",
      "Epoch 53: Train Loss: 1.9014, Test Loss: 1.8924, Train Rho Error: 0.0000, Test Rho Error: 0.0000, Train Vx Error: 0.0000, Test Vx Error: 0.0000, Train Epsilon Error: 1.1476, Test Epsilon Error: 0.7686\n",
      "Epoch 54: Train Loss: 1.9011, Test Loss: 1.8947, Train Rho Error: 0.0000, Test Rho Error: 0.0000, Train Vx Error: 0.0000, Test Vx Error: 0.0000, Train Epsilon Error: 1.0673, Test Epsilon Error: 0.8029\n",
      "Epoch 55: Train Loss: 1.9011, Test Loss: 1.8917, Train Rho Error: 0.0000, Test Rho Error: 0.0000, Train Vx Error: 0.0000, Test Vx Error: 0.0000, Train Epsilon Error: 0.8139, Test Epsilon Error: 0.7916\n",
      "Epoch 56: Train Loss: 1.9013, Test Loss: 1.8919, Train Rho Error: 0.0000, Test Rho Error: 0.0000, Train Vx Error: 0.0000, Test Vx Error: 0.0000, Train Epsilon Error: 0.9520, Test Epsilon Error: 0.7936\n",
      "Epoch 57: Train Loss: 1.9001, Test Loss: 1.9039, Train Rho Error: 0.0000, Test Rho Error: 0.0000, Train Vx Error: 0.0000, Test Vx Error: 0.0000, Train Epsilon Error: 1.1630, Test Epsilon Error: 0.8217\n",
      "Epoch 58: Train Loss: 1.9004, Test Loss: 1.8909, Train Rho Error: 0.0000, Test Rho Error: 0.0000, Train Vx Error: 0.0000, Test Vx Error: 0.0000, Train Epsilon Error: 0.8778, Test Epsilon Error: 0.7747\n",
      "Epoch 59: Train Loss: 1.9001, Test Loss: 1.8912, Train Rho Error: 0.0000, Test Rho Error: 0.0000, Train Vx Error: 0.0000, Test Vx Error: 0.0000, Train Epsilon Error: 1.4048, Test Epsilon Error: 0.7900\n",
      "Epoch 60: Train Loss: 1.9001, Test Loss: 1.8923, Train Rho Error: 0.0000, Test Rho Error: 0.0000, Train Vx Error: 0.0000, Test Vx Error: 0.0000, Train Epsilon Error: 1.5099, Test Epsilon Error: 0.7951\n",
      "Epoch 61: Train Loss: 1.8997, Test Loss: 1.8910, Train Rho Error: 0.0000, Test Rho Error: 0.0000, Train Vx Error: 0.0000, Test Vx Error: 0.0000, Train Epsilon Error: 1.2583, Test Epsilon Error: 0.7888\n",
      "Epoch 62: Train Loss: 1.8999, Test Loss: 1.8966, Train Rho Error: 0.0000, Test Rho Error: 0.0000, Train Vx Error: 0.0000, Test Vx Error: 0.0000, Train Epsilon Error: 1.0804, Test Epsilon Error: 0.8075\n",
      "Epoch 63: Train Loss: 1.9000, Test Loss: 1.8905, Train Rho Error: 0.0000, Test Rho Error: 0.0000, Train Vx Error: 0.0000, Test Vx Error: 0.0000, Train Epsilon Error: 1.7050, Test Epsilon Error: 0.7836\n",
      "Epoch 64: Train Loss: 1.8999, Test Loss: 1.8909, Train Rho Error: 0.0000, Test Rho Error: 0.0000, Train Vx Error: 0.0000, Test Vx Error: 0.0000, Train Epsilon Error: 1.0201, Test Epsilon Error: 0.7734\n",
      "Epoch 65: Train Loss: 1.8996, Test Loss: 1.8911, Train Rho Error: 0.0000, Test Rho Error: 0.0000, Train Vx Error: 0.0000, Test Vx Error: 0.0000, Train Epsilon Error: 1.2309, Test Epsilon Error: 0.7894\n",
      "Epoch 66: Train Loss: 1.8994, Test Loss: 1.8916, Train Rho Error: 0.0000, Test Rho Error: 0.0000, Train Vx Error: 0.0000, Test Vx Error: 0.0000, Train Epsilon Error: 0.9117, Test Epsilon Error: 0.7696\n",
      "Epoch 67: Train Loss: 1.8996, Test Loss: 1.8924, Train Rho Error: 0.0000, Test Rho Error: 0.0000, Train Vx Error: 0.0000, Test Vx Error: 0.0000, Train Epsilon Error: 0.8777, Test Epsilon Error: 0.7955\n",
      "Epoch 68: Train Loss: 1.8994, Test Loss: 1.8915, Train Rho Error: 0.0000, Test Rho Error: 0.0000, Train Vx Error: 0.0000, Test Vx Error: 0.0000, Train Epsilon Error: 1.0314, Test Epsilon Error: 0.7915\n",
      "Epoch 69: Train Loss: 1.8996, Test Loss: 1.8906, Train Rho Error: 0.0000, Test Rho Error: 0.0000, Train Vx Error: 0.0000, Test Vx Error: 0.0000, Train Epsilon Error: 1.1294, Test Epsilon Error: 0.7856\n",
      "Epoch 70: Train Loss: 1.8995, Test Loss: 1.8904, Train Rho Error: 0.0000, Test Rho Error: 0.0000, Train Vx Error: 0.0000, Test Vx Error: 0.0000, Train Epsilon Error: 1.0578, Test Epsilon Error: 0.7817\n",
      "Epoch 71: Train Loss: 1.8992, Test Loss: 1.8916, Train Rho Error: 0.0000, Test Rho Error: 0.0000, Train Vx Error: 0.0000, Test Vx Error: 0.0000, Train Epsilon Error: 1.0042, Test Epsilon Error: 0.7922\n",
      "Epoch 72: Train Loss: 1.8994, Test Loss: 1.8906, Train Rho Error: 0.0000, Test Rho Error: 0.0000, Train Vx Error: 0.0000, Test Vx Error: 0.0000, Train Epsilon Error: 0.7365, Test Epsilon Error: 0.7853\n",
      "Epoch 73: Train Loss: 1.8994, Test Loss: 1.8914, Train Rho Error: 0.0000, Test Rho Error: 0.0000, Train Vx Error: 0.0000, Test Vx Error: 0.0000, Train Epsilon Error: 0.8991, Test Epsilon Error: 0.7909\n"
     ]
    },
    {
     "name": "stderr",
     "output_type": "stream",
     "text": [
      "\u001b[32m[I 2023-05-05 13:36:24,888]\u001b[0m Trial 4 finished with value: 0.7861961798667908 and parameters: {'n_layers': 2, 'n_units_0': 30, 'n_units_1': 172, 'hidden_activation': 'ReLU', 'output_activation': 'ReLU', 'loss': 'Huber', 'optimizer': 'Adam', 'lr': 0.0016804339918016797, 'batch_size': 90, 'n_epochs': 74, 'scheduler': 'ExponentialLR'}. Best is trial 1 with value: 0.5582342281554593.\u001b[0m\n"
     ]
    },
    {
     "name": "stdout",
     "output_type": "stream",
     "text": [
      "Epoch 74: Train Loss: 1.8993, Test Loss: 1.8907, Train Rho Error: 0.0000, Test Rho Error: 0.0000, Train Vx Error: 0.0000, Test Vx Error: 0.0000, Train Epsilon Error: 1.0181, Test Epsilon Error: 0.7862\n",
      "Epoch 1: Train Loss: 2.4120, Test Loss: 2.3478, Train Rho Error: 0.0000, Test Rho Error: 0.0000, Train Vx Error: 0.0000, Test Vx Error: 0.0000, Train Epsilon Error: 0.9906, Test Epsilon Error: 0.9089\n",
      "Epoch 2: Train Loss: 2.3652, Test Loss: 2.3753, Train Rho Error: 0.0000, Test Rho Error: 0.0000, Train Vx Error: 0.0000, Test Vx Error: 0.0000, Train Epsilon Error: 0.9466, Test Epsilon Error: 0.9741\n",
      "Epoch 3: Train Loss: 2.3637, Test Loss: 2.3487, Train Rho Error: 0.0000, Test Rho Error: 0.0000, Train Vx Error: 0.0000, Test Vx Error: 0.0000, Train Epsilon Error: 0.9697, Test Epsilon Error: 0.9156\n"
     ]
    },
    {
     "name": "stderr",
     "output_type": "stream",
     "text": [
      "NaN or Inf found in input tensor.\n"
     ]
    },
    {
     "name": "stdout",
     "output_type": "stream",
     "text": [
      "Epoch 4: Train Loss: 2.3704, Test Loss: 2.3474, Train Rho Error: 0.0000, Test Rho Error: 0.0000, Train Vx Error: 0.0000, Test Vx Error: 0.0000, Train Epsilon Error: inf, Test Epsilon Error: 0.9037\n",
      "Epoch 5: Train Loss: 2.3633, Test Loss: 2.3503, Train Rho Error: 0.0000, Test Rho Error: 0.0000, Train Vx Error: 0.0000, Test Vx Error: 0.0000, Train Epsilon Error: 1.0475, Test Epsilon Error: 0.8789\n",
      "Epoch 6: Train Loss: 2.3650, Test Loss: 2.3476, Train Rho Error: 0.0000, Test Rho Error: 0.0000, Train Vx Error: 0.0000, Test Vx Error: 0.0000, Train Epsilon Error: 1.1232, Test Epsilon Error: 0.8918\n",
      "Epoch 7: Train Loss: 2.3635, Test Loss: 2.3474, Train Rho Error: 0.0000, Test Rho Error: 0.0000, Train Vx Error: 0.0000, Test Vx Error: 0.0000, Train Epsilon Error: 1.0260, Test Epsilon Error: 0.8951\n",
      "Epoch 8: Train Loss: 2.3693, Test Loss: 2.3646, Train Rho Error: 0.0000, Test Rho Error: 0.0000, Train Vx Error: 0.0000, Test Vx Error: 0.0000, Train Epsilon Error: 0.9875, Test Epsilon Error: 0.8542\n",
      "Epoch 9: Train Loss: 2.3687, Test Loss: 2.4065, Train Rho Error: 0.0000, Test Rho Error: 0.0000, Train Vx Error: 0.0000, Test Vx Error: 0.0000, Train Epsilon Error: 1.2372, Test Epsilon Error: 1.0158\n",
      "Epoch 10: Train Loss: 2.3662, Test Loss: 2.3477, Train Rho Error: 0.0000, Test Rho Error: 0.0000, Train Vx Error: 0.0000, Test Vx Error: 0.0000, Train Epsilon Error: 0.9959, Test Epsilon Error: 0.9081\n",
      "Epoch 11: Train Loss: 2.3583, Test Loss: 2.3489, Train Rho Error: 0.0000, Test Rho Error: 0.0000, Train Vx Error: 0.0000, Test Vx Error: 0.0000, Train Epsilon Error: 1.1379, Test Epsilon Error: 0.9163\n",
      "Epoch 12: Train Loss: 2.3581, Test Loss: 2.3473, Train Rho Error: 0.0000, Test Rho Error: 0.0000, Train Vx Error: 0.0000, Test Vx Error: 0.0000, Train Epsilon Error: 0.9839, Test Epsilon Error: 0.9007\n",
      "Epoch 13: Train Loss: 2.3580, Test Loss: 2.3473, Train Rho Error: 0.0000, Test Rho Error: 0.0000, Train Vx Error: 0.0000, Test Vx Error: 0.0000, Train Epsilon Error: 1.0918, Test Epsilon Error: 0.9014\n",
      "Epoch 14: Train Loss: 2.3587, Test Loss: 2.3473, Train Rho Error: 0.0000, Test Rho Error: 0.0000, Train Vx Error: 0.0000, Test Vx Error: 0.0000, Train Epsilon Error: 1.0380, Test Epsilon Error: 0.9003\n",
      "Epoch 15: Train Loss: 2.3586, Test Loss: 2.3483, Train Rho Error: 0.0000, Test Rho Error: 0.0000, Train Vx Error: 0.0000, Test Vx Error: 0.0000, Train Epsilon Error: 1.2005, Test Epsilon Error: 0.8869\n",
      "Epoch 16: Train Loss: 2.3594, Test Loss: 2.3503, Train Rho Error: 0.0000, Test Rho Error: 0.0000, Train Vx Error: 0.0000, Test Vx Error: 0.0000, Train Epsilon Error: 0.8830, Test Epsilon Error: 0.8788\n",
      "Epoch 17: Train Loss: 2.3590, Test Loss: 2.3487, Train Rho Error: 0.0000, Test Rho Error: 0.0000, Train Vx Error: 0.0000, Test Vx Error: 0.0000, Train Epsilon Error: 0.8902, Test Epsilon Error: 0.9153\n",
      "Epoch 18: Train Loss: 2.3582, Test Loss: 2.3473, Train Rho Error: 0.0000, Test Rho Error: 0.0000, Train Vx Error: 0.0000, Test Vx Error: 0.0000, Train Epsilon Error: 1.1577, Test Epsilon Error: 0.9015\n",
      "Epoch 19: Train Loss: 2.3589, Test Loss: 2.3475, Train Rho Error: 0.0000, Test Rho Error: 0.0000, Train Vx Error: 0.0000, Test Vx Error: 0.0000, Train Epsilon Error: 0.9067, Test Epsilon Error: 0.8928\n",
      "Epoch 20: Train Loss: 2.3590, Test Loss: 2.3474, Train Rho Error: 0.0000, Test Rho Error: 0.0000, Train Vx Error: 0.0000, Test Vx Error: 0.0000, Train Epsilon Error: 0.9066, Test Epsilon Error: 0.9034\n",
      "Epoch 21: Train Loss: 2.3579, Test Loss: 2.3473, Train Rho Error: 0.0000, Test Rho Error: 0.0000, Train Vx Error: 0.0000, Test Vx Error: 0.0000, Train Epsilon Error: 1.3962, Test Epsilon Error: 0.8978\n"
     ]
    },
    {
     "name": "stderr",
     "output_type": "stream",
     "text": [
      "NaN or Inf found in input tensor.\n"
     ]
    },
    {
     "name": "stdout",
     "output_type": "stream",
     "text": [
      "Epoch 22: Train Loss: 2.3579, Test Loss: 2.3474, Train Rho Error: 0.0000, Test Rho Error: 0.0000, Train Vx Error: 0.0000, Test Vx Error: 0.0000, Train Epsilon Error: inf, Test Epsilon Error: 0.9031\n",
      "Epoch 23: Train Loss: 2.3579, Test Loss: 2.3474, Train Rho Error: 0.0000, Test Rho Error: 0.0000, Train Vx Error: 0.0000, Test Vx Error: 0.0000, Train Epsilon Error: 1.4049, Test Epsilon Error: 0.9040\n",
      "Epoch 24: Train Loss: 2.3579, Test Loss: 2.3473, Train Rho Error: 0.0000, Test Rho Error: 0.0000, Train Vx Error: 0.0000, Test Vx Error: 0.0000, Train Epsilon Error: 1.0040, Test Epsilon Error: 0.8999\n",
      "Epoch 25: Train Loss: 2.3579, Test Loss: 2.3475, Train Rho Error: 0.0000, Test Rho Error: 0.0000, Train Vx Error: 0.0000, Test Vx Error: 0.0000, Train Epsilon Error: 0.9600, Test Epsilon Error: 0.9061\n",
      "Epoch 26: Train Loss: 2.3579, Test Loss: 2.3475, Train Rho Error: 0.0000, Test Rho Error: 0.0000, Train Vx Error: 0.0000, Test Vx Error: 0.0000, Train Epsilon Error: 1.0520, Test Epsilon Error: 0.9050\n",
      "Epoch 27: Train Loss: 2.3579, Test Loss: 2.3477, Train Rho Error: 0.0000, Test Rho Error: 0.0000, Train Vx Error: 0.0000, Test Vx Error: 0.0000, Train Epsilon Error: 1.0269, Test Epsilon Error: 0.9078\n"
     ]
    },
    {
     "name": "stderr",
     "output_type": "stream",
     "text": [
      "NaN or Inf found in input tensor.\n"
     ]
    },
    {
     "name": "stdout",
     "output_type": "stream",
     "text": [
      "Epoch 28: Train Loss: 2.3579, Test Loss: 2.3473, Train Rho Error: 0.0000, Test Rho Error: 0.0000, Train Vx Error: 0.0000, Test Vx Error: 0.0000, Train Epsilon Error: inf, Test Epsilon Error: 0.9016\n",
      "Epoch 29: Train Loss: 2.3579, Test Loss: 2.3473, Train Rho Error: 0.0000, Test Rho Error: 0.0000, Train Vx Error: 0.0000, Test Vx Error: 0.0000, Train Epsilon Error: 0.9922, Test Epsilon Error: 0.9009\n",
      "Epoch 30: Train Loss: 2.3580, Test Loss: 2.3475, Train Rho Error: 0.0000, Test Rho Error: 0.0000, Train Vx Error: 0.0000, Test Vx Error: 0.0000, Train Epsilon Error: 0.8818, Test Epsilon Error: 0.9050\n",
      "Epoch 31: Train Loss: 2.3578, Test Loss: 2.3474, Train Rho Error: 0.0000, Test Rho Error: 0.0000, Train Vx Error: 0.0000, Test Vx Error: 0.0000, Train Epsilon Error: 1.0613, Test Epsilon Error: 0.9042\n",
      "Epoch 32: Train Loss: 2.3578, Test Loss: 2.3474, Train Rho Error: 0.0000, Test Rho Error: 0.0000, Train Vx Error: 0.0000, Test Vx Error: 0.0000, Train Epsilon Error: 1.1483, Test Epsilon Error: 0.9043\n",
      "Epoch 33: Train Loss: 2.3578, Test Loss: 2.3474, Train Rho Error: 0.0000, Test Rho Error: 0.0000, Train Vx Error: 0.0000, Test Vx Error: 0.0000, Train Epsilon Error: 1.0277, Test Epsilon Error: 0.9046\n",
      "Epoch 34: Train Loss: 2.3578, Test Loss: 2.3475, Train Rho Error: 0.0000, Test Rho Error: 0.0000, Train Vx Error: 0.0000, Test Vx Error: 0.0000, Train Epsilon Error: 1.0562, Test Epsilon Error: 0.9048\n",
      "Epoch 35: Train Loss: 2.3578, Test Loss: 2.3474, Train Rho Error: 0.0000, Test Rho Error: 0.0000, Train Vx Error: 0.0000, Test Vx Error: 0.0000, Train Epsilon Error: 0.9791, Test Epsilon Error: 0.9046\n",
      "Epoch 36: Train Loss: 2.3578, Test Loss: 2.3474, Train Rho Error: 0.0000, Test Rho Error: 0.0000, Train Vx Error: 0.0000, Test Vx Error: 0.0000, Train Epsilon Error: 1.1002, Test Epsilon Error: 0.9041\n",
      "Epoch 37: Train Loss: 2.3578, Test Loss: 2.3474, Train Rho Error: 0.0000, Test Rho Error: 0.0000, Train Vx Error: 0.0000, Test Vx Error: 0.0000, Train Epsilon Error: 1.3047, Test Epsilon Error: 0.9038\n"
     ]
    },
    {
     "name": "stderr",
     "output_type": "stream",
     "text": [
      "NaN or Inf found in input tensor.\n"
     ]
    },
    {
     "name": "stdout",
     "output_type": "stream",
     "text": [
      "Epoch 38: Train Loss: 2.3578, Test Loss: 2.3474, Train Rho Error: 0.0000, Test Rho Error: 0.0000, Train Vx Error: 0.0000, Test Vx Error: 0.0000, Train Epsilon Error: inf, Test Epsilon Error: 0.9036\n",
      "Epoch 39: Train Loss: 2.3578, Test Loss: 2.3474, Train Rho Error: 0.0000, Test Rho Error: 0.0000, Train Vx Error: 0.0000, Test Vx Error: 0.0000, Train Epsilon Error: 1.0289, Test Epsilon Error: 0.9037\n",
      "Epoch 40: Train Loss: 2.3578, Test Loss: 2.3474, Train Rho Error: 0.0000, Test Rho Error: 0.0000, Train Vx Error: 0.0000, Test Vx Error: 0.0000, Train Epsilon Error: 1.0738, Test Epsilon Error: 0.9032\n",
      "Epoch 41: Train Loss: 2.3578, Test Loss: 2.3474, Train Rho Error: 0.0000, Test Rho Error: 0.0000, Train Vx Error: 0.0000, Test Vx Error: 0.0000, Train Epsilon Error: 1.1042, Test Epsilon Error: 0.9034\n",
      "Epoch 42: Train Loss: 2.3578, Test Loss: 2.3474, Train Rho Error: 0.0000, Test Rho Error: 0.0000, Train Vx Error: 0.0000, Test Vx Error: 0.0000, Train Epsilon Error: 1.1895, Test Epsilon Error: 0.9034\n",
      "Epoch 43: Train Loss: 2.3578, Test Loss: 2.3474, Train Rho Error: 0.0000, Test Rho Error: 0.0000, Train Vx Error: 0.0000, Test Vx Error: 0.0000, Train Epsilon Error: 1.0189, Test Epsilon Error: 0.9035\n",
      "Epoch 44: Train Loss: 2.3578, Test Loss: 2.3474, Train Rho Error: 0.0000, Test Rho Error: 0.0000, Train Vx Error: 0.0000, Test Vx Error: 0.0000, Train Epsilon Error: 0.9947, Test Epsilon Error: 0.9036\n",
      "Epoch 45: Train Loss: 2.3578, Test Loss: 2.3474, Train Rho Error: 0.0000, Test Rho Error: 0.0000, Train Vx Error: 0.0000, Test Vx Error: 0.0000, Train Epsilon Error: 0.8934, Test Epsilon Error: 0.9036\n",
      "Epoch 46: Train Loss: 2.3578, Test Loss: 2.3474, Train Rho Error: 0.0000, Test Rho Error: 0.0000, Train Vx Error: 0.0000, Test Vx Error: 0.0000, Train Epsilon Error: 1.0727, Test Epsilon Error: 0.9037\n",
      "Epoch 47: Train Loss: 2.3578, Test Loss: 2.3474, Train Rho Error: 0.0000, Test Rho Error: 0.0000, Train Vx Error: 0.0000, Test Vx Error: 0.0000, Train Epsilon Error: 1.5013, Test Epsilon Error: 0.9038\n",
      "Epoch 48: Train Loss: 2.3578, Test Loss: 2.3474, Train Rho Error: 0.0000, Test Rho Error: 0.0000, Train Vx Error: 0.0000, Test Vx Error: 0.0000, Train Epsilon Error: 1.0098, Test Epsilon Error: 0.9038\n",
      "Epoch 49: Train Loss: 2.3578, Test Loss: 2.3474, Train Rho Error: 0.0000, Test Rho Error: 0.0000, Train Vx Error: 0.0000, Test Vx Error: 0.0000, Train Epsilon Error: 1.0391, Test Epsilon Error: 0.9038\n",
      "Epoch 50: Train Loss: 2.3578, Test Loss: 2.3474, Train Rho Error: 0.0000, Test Rho Error: 0.0000, Train Vx Error: 0.0000, Test Vx Error: 0.0000, Train Epsilon Error: 1.2281, Test Epsilon Error: 0.9039\n",
      "Epoch 51: Train Loss: 2.3578, Test Loss: 2.3474, Train Rho Error: 0.0000, Test Rho Error: 0.0000, Train Vx Error: 0.0000, Test Vx Error: 0.0000, Train Epsilon Error: 1.2106, Test Epsilon Error: 0.9039\n",
      "Epoch 52: Train Loss: 2.3578, Test Loss: 2.3474, Train Rho Error: 0.0000, Test Rho Error: 0.0000, Train Vx Error: 0.0000, Test Vx Error: 0.0000, Train Epsilon Error: 0.9435, Test Epsilon Error: 0.9039\n"
     ]
    },
    {
     "name": "stderr",
     "output_type": "stream",
     "text": [
      "NaN or Inf found in input tensor.\n"
     ]
    },
    {
     "name": "stdout",
     "output_type": "stream",
     "text": [
      "Epoch 53: Train Loss: 2.3578, Test Loss: 2.3474, Train Rho Error: 0.0000, Test Rho Error: 0.0000, Train Vx Error: 0.0000, Test Vx Error: 0.0000, Train Epsilon Error: inf, Test Epsilon Error: 0.9039\n",
      "Epoch 54: Train Loss: 2.3578, Test Loss: 2.3474, Train Rho Error: 0.0000, Test Rho Error: 0.0000, Train Vx Error: 0.0000, Test Vx Error: 0.0000, Train Epsilon Error: 1.3607, Test Epsilon Error: 0.9039\n",
      "Epoch 55: Train Loss: 2.3578, Test Loss: 2.3474, Train Rho Error: 0.0000, Test Rho Error: 0.0000, Train Vx Error: 0.0000, Test Vx Error: 0.0000, Train Epsilon Error: 1.1948, Test Epsilon Error: 0.9039\n",
      "Epoch 56: Train Loss: 2.3578, Test Loss: 2.3474, Train Rho Error: 0.0000, Test Rho Error: 0.0000, Train Vx Error: 0.0000, Test Vx Error: 0.0000, Train Epsilon Error: 1.0695, Test Epsilon Error: 0.9039\n",
      "Epoch 57: Train Loss: 2.3578, Test Loss: 2.3474, Train Rho Error: 0.0000, Test Rho Error: 0.0000, Train Vx Error: 0.0000, Test Vx Error: 0.0000, Train Epsilon Error: 0.9565, Test Epsilon Error: 0.9039\n",
      "Epoch 58: Train Loss: 2.3578, Test Loss: 2.3474, Train Rho Error: 0.0000, Test Rho Error: 0.0000, Train Vx Error: 0.0000, Test Vx Error: 0.0000, Train Epsilon Error: 1.1242, Test Epsilon Error: 0.9039\n",
      "Epoch 59: Train Loss: 2.3578, Test Loss: 2.3474, Train Rho Error: 0.0000, Test Rho Error: 0.0000, Train Vx Error: 0.0000, Test Vx Error: 0.0000, Train Epsilon Error: 1.3364, Test Epsilon Error: 0.9039\n",
      "Epoch 60: Train Loss: 2.3578, Test Loss: 2.3474, Train Rho Error: 0.0000, Test Rho Error: 0.0000, Train Vx Error: 0.0000, Test Vx Error: 0.0000, Train Epsilon Error: 0.9699, Test Epsilon Error: 0.9039\n",
      "Epoch 61: Train Loss: 2.3578, Test Loss: 2.3474, Train Rho Error: 0.0000, Test Rho Error: 0.0000, Train Vx Error: 0.0000, Test Vx Error: 0.0000, Train Epsilon Error: 1.2320, Test Epsilon Error: 0.9039\n",
      "Epoch 62: Train Loss: 2.3578, Test Loss: 2.3474, Train Rho Error: 0.0000, Test Rho Error: 0.0000, Train Vx Error: 0.0000, Test Vx Error: 0.0000, Train Epsilon Error: 1.0470, Test Epsilon Error: 0.9039\n",
      "Epoch 63: Train Loss: 2.3578, Test Loss: 2.3474, Train Rho Error: 0.0000, Test Rho Error: 0.0000, Train Vx Error: 0.0000, Test Vx Error: 0.0000, Train Epsilon Error: 1.0806, Test Epsilon Error: 0.9039\n",
      "Epoch 64: Train Loss: 2.3578, Test Loss: 2.3474, Train Rho Error: 0.0000, Test Rho Error: 0.0000, Train Vx Error: 0.0000, Test Vx Error: 0.0000, Train Epsilon Error: 1.1126, Test Epsilon Error: 0.9039\n",
      "Epoch 65: Train Loss: 2.3578, Test Loss: 2.3474, Train Rho Error: 0.0000, Test Rho Error: 0.0000, Train Vx Error: 0.0000, Test Vx Error: 0.0000, Train Epsilon Error: 0.9063, Test Epsilon Error: 0.9039\n",
      "Epoch 66: Train Loss: 2.3578, Test Loss: 2.3474, Train Rho Error: 0.0000, Test Rho Error: 0.0000, Train Vx Error: 0.0000, Test Vx Error: 0.0000, Train Epsilon Error: 1.0757, Test Epsilon Error: 0.9039\n"
     ]
    },
    {
     "name": "stderr",
     "output_type": "stream",
     "text": [
      "NaN or Inf found in input tensor.\n"
     ]
    },
    {
     "name": "stdout",
     "output_type": "stream",
     "text": [
      "Epoch 67: Train Loss: 2.3578, Test Loss: 2.3474, Train Rho Error: 0.0000, Test Rho Error: 0.0000, Train Vx Error: 0.0000, Test Vx Error: 0.0000, Train Epsilon Error: inf, Test Epsilon Error: 0.9039\n"
     ]
    },
    {
     "name": "stderr",
     "output_type": "stream",
     "text": [
      "NaN or Inf found in input tensor.\n"
     ]
    },
    {
     "name": "stdout",
     "output_type": "stream",
     "text": [
      "Epoch 68: Train Loss: 2.3578, Test Loss: 2.3474, Train Rho Error: 0.0000, Test Rho Error: 0.0000, Train Vx Error: 0.0000, Test Vx Error: 0.0000, Train Epsilon Error: inf, Test Epsilon Error: 0.9039\n",
      "Epoch 69: Train Loss: 2.3578, Test Loss: 2.3474, Train Rho Error: 0.0000, Test Rho Error: 0.0000, Train Vx Error: 0.0000, Test Vx Error: 0.0000, Train Epsilon Error: 0.9852, Test Epsilon Error: 0.9039\n",
      "Epoch 70: Train Loss: 2.3578, Test Loss: 2.3474, Train Rho Error: 0.0000, Test Rho Error: 0.0000, Train Vx Error: 0.0000, Test Vx Error: 0.0000, Train Epsilon Error: 0.8644, Test Epsilon Error: 0.9039\n",
      "Epoch 71: Train Loss: 2.3578, Test Loss: 2.3474, Train Rho Error: 0.0000, Test Rho Error: 0.0000, Train Vx Error: 0.0000, Test Vx Error: 0.0000, Train Epsilon Error: 1.3396, Test Epsilon Error: 0.9039\n",
      "Epoch 72: Train Loss: 2.3578, Test Loss: 2.3474, Train Rho Error: 0.0000, Test Rho Error: 0.0000, Train Vx Error: 0.0000, Test Vx Error: 0.0000, Train Epsilon Error: 0.9840, Test Epsilon Error: 0.9039\n",
      "Epoch 73: Train Loss: 2.3578, Test Loss: 2.3474, Train Rho Error: 0.0000, Test Rho Error: 0.0000, Train Vx Error: 0.0000, Test Vx Error: 0.0000, Train Epsilon Error: 1.2314, Test Epsilon Error: 0.9039\n",
      "Epoch 74: Train Loss: 2.3578, Test Loss: 2.3474, Train Rho Error: 0.0000, Test Rho Error: 0.0000, Train Vx Error: 0.0000, Test Vx Error: 0.0000, Train Epsilon Error: 1.1293, Test Epsilon Error: 0.9039\n",
      "Epoch 75: Train Loss: 2.3578, Test Loss: 2.3474, Train Rho Error: 0.0000, Test Rho Error: 0.0000, Train Vx Error: 0.0000, Test Vx Error: 0.0000, Train Epsilon Error: 2.7510, Test Epsilon Error: 0.9039\n",
      "Epoch 76: Train Loss: 2.3578, Test Loss: 2.3474, Train Rho Error: 0.0000, Test Rho Error: 0.0000, Train Vx Error: 0.0000, Test Vx Error: 0.0000, Train Epsilon Error: 1.0233, Test Epsilon Error: 0.9039\n",
      "Epoch 77: Train Loss: 2.3578, Test Loss: 2.3474, Train Rho Error: 0.0000, Test Rho Error: 0.0000, Train Vx Error: 0.0000, Test Vx Error: 0.0000, Train Epsilon Error: 1.1161, Test Epsilon Error: 0.9039\n",
      "Epoch 78: Train Loss: 2.3578, Test Loss: 2.3474, Train Rho Error: 0.0000, Test Rho Error: 0.0000, Train Vx Error: 0.0000, Test Vx Error: 0.0000, Train Epsilon Error: 1.0693, Test Epsilon Error: 0.9039\n",
      "Epoch 79: Train Loss: 2.3578, Test Loss: 2.3474, Train Rho Error: 0.0000, Test Rho Error: 0.0000, Train Vx Error: 0.0000, Test Vx Error: 0.0000, Train Epsilon Error: 0.9271, Test Epsilon Error: 0.9039\n",
      "Epoch 80: Train Loss: 2.3578, Test Loss: 2.3474, Train Rho Error: 0.0000, Test Rho Error: 0.0000, Train Vx Error: 0.0000, Test Vx Error: 0.0000, Train Epsilon Error: 1.0809, Test Epsilon Error: 0.9039\n",
      "Epoch 81: Train Loss: 2.3578, Test Loss: 2.3474, Train Rho Error: 0.0000, Test Rho Error: 0.0000, Train Vx Error: 0.0000, Test Vx Error: 0.0000, Train Epsilon Error: 1.1933, Test Epsilon Error: 0.9039\n",
      "Epoch 82: Train Loss: 2.3578, Test Loss: 2.3474, Train Rho Error: 0.0000, Test Rho Error: 0.0000, Train Vx Error: 0.0000, Test Vx Error: 0.0000, Train Epsilon Error: 1.0581, Test Epsilon Error: 0.9039\n",
      "Epoch 83: Train Loss: 2.3578, Test Loss: 2.3474, Train Rho Error: 0.0000, Test Rho Error: 0.0000, Train Vx Error: 0.0000, Test Vx Error: 0.0000, Train Epsilon Error: 1.0637, Test Epsilon Error: 0.9039\n",
      "Epoch 84: Train Loss: 2.3578, Test Loss: 2.3474, Train Rho Error: 0.0000, Test Rho Error: 0.0000, Train Vx Error: 0.0000, Test Vx Error: 0.0000, Train Epsilon Error: 1.0548, Test Epsilon Error: 0.9039\n"
     ]
    },
    {
     "name": "stderr",
     "output_type": "stream",
     "text": [
      "NaN or Inf found in input tensor.\n"
     ]
    },
    {
     "name": "stdout",
     "output_type": "stream",
     "text": [
      "Epoch 85: Train Loss: 2.3578, Test Loss: 2.3474, Train Rho Error: 0.0000, Test Rho Error: 0.0000, Train Vx Error: 0.0000, Test Vx Error: 0.0000, Train Epsilon Error: inf, Test Epsilon Error: 0.9039\n"
     ]
    },
    {
     "name": "stderr",
     "output_type": "stream",
     "text": [
      "NaN or Inf found in input tensor.\n"
     ]
    },
    {
     "name": "stdout",
     "output_type": "stream",
     "text": [
      "Epoch 86: Train Loss: 2.3578, Test Loss: 2.3474, Train Rho Error: 0.0000, Test Rho Error: 0.0000, Train Vx Error: 0.0000, Test Vx Error: 0.0000, Train Epsilon Error: inf, Test Epsilon Error: 0.9039\n",
      "Epoch 87: Train Loss: 2.3578, Test Loss: 2.3474, Train Rho Error: 0.0000, Test Rho Error: 0.0000, Train Vx Error: 0.0000, Test Vx Error: 0.0000, Train Epsilon Error: 1.0342, Test Epsilon Error: 0.9039\n",
      "Epoch 88: Train Loss: 2.3578, Test Loss: 2.3474, Train Rho Error: 0.0000, Test Rho Error: 0.0000, Train Vx Error: 0.0000, Test Vx Error: 0.0000, Train Epsilon Error: 1.4450, Test Epsilon Error: 0.9039\n",
      "Epoch 89: Train Loss: 2.3578, Test Loss: 2.3474, Train Rho Error: 0.0000, Test Rho Error: 0.0000, Train Vx Error: 0.0000, Test Vx Error: 0.0000, Train Epsilon Error: 1.1879, Test Epsilon Error: 0.9039\n",
      "Epoch 90: Train Loss: 2.3578, Test Loss: 2.3474, Train Rho Error: 0.0000, Test Rho Error: 0.0000, Train Vx Error: 0.0000, Test Vx Error: 0.0000, Train Epsilon Error: 1.2095, Test Epsilon Error: 0.9039\n",
      "Epoch 91: Train Loss: 2.3578, Test Loss: 2.3474, Train Rho Error: 0.0000, Test Rho Error: 0.0000, Train Vx Error: 0.0000, Test Vx Error: 0.0000, Train Epsilon Error: 1.0300, Test Epsilon Error: 0.9039\n",
      "Epoch 92: Train Loss: 2.3578, Test Loss: 2.3474, Train Rho Error: 0.0000, Test Rho Error: 0.0000, Train Vx Error: 0.0000, Test Vx Error: 0.0000, Train Epsilon Error: 1.2816, Test Epsilon Error: 0.9039\n",
      "Epoch 93: Train Loss: 2.3578, Test Loss: 2.3474, Train Rho Error: 0.0000, Test Rho Error: 0.0000, Train Vx Error: 0.0000, Test Vx Error: 0.0000, Train Epsilon Error: 0.9364, Test Epsilon Error: 0.9039\n",
      "Epoch 94: Train Loss: 2.3578, Test Loss: 2.3474, Train Rho Error: 0.0000, Test Rho Error: 0.0000, Train Vx Error: 0.0000, Test Vx Error: 0.0000, Train Epsilon Error: 0.8850, Test Epsilon Error: 0.9039\n",
      "Epoch 95: Train Loss: 2.3578, Test Loss: 2.3474, Train Rho Error: 0.0000, Test Rho Error: 0.0000, Train Vx Error: 0.0000, Test Vx Error: 0.0000, Train Epsilon Error: 1.0728, Test Epsilon Error: 0.9039\n",
      "Epoch 96: Train Loss: 2.3578, Test Loss: 2.3474, Train Rho Error: 0.0000, Test Rho Error: 0.0000, Train Vx Error: 0.0000, Test Vx Error: 0.0000, Train Epsilon Error: 1.0709, Test Epsilon Error: 0.9039\n",
      "Epoch 97: Train Loss: 2.3578, Test Loss: 2.3474, Train Rho Error: 0.0000, Test Rho Error: 0.0000, Train Vx Error: 0.0000, Test Vx Error: 0.0000, Train Epsilon Error: 1.3959, Test Epsilon Error: 0.9039\n",
      "Epoch 98: Train Loss: 2.3578, Test Loss: 2.3474, Train Rho Error: 0.0000, Test Rho Error: 0.0000, Train Vx Error: 0.0000, Test Vx Error: 0.0000, Train Epsilon Error: 0.9510, Test Epsilon Error: 0.9039\n"
     ]
    },
    {
     "name": "stderr",
     "output_type": "stream",
     "text": [
      "NaN or Inf found in input tensor.\n"
     ]
    },
    {
     "name": "stdout",
     "output_type": "stream",
     "text": [
      "Epoch 99: Train Loss: 2.3578, Test Loss: 2.3474, Train Rho Error: 0.0000, Test Rho Error: 0.0000, Train Vx Error: 0.0000, Test Vx Error: 0.0000, Train Epsilon Error: inf, Test Epsilon Error: 0.9039\n",
      "Epoch 100: Train Loss: 2.3578, Test Loss: 2.3474, Train Rho Error: 0.0000, Test Rho Error: 0.0000, Train Vx Error: 0.0000, Test Vx Error: 0.0000, Train Epsilon Error: 0.9548, Test Epsilon Error: 0.9039\n",
      "Epoch 101: Train Loss: 2.3578, Test Loss: 2.3474, Train Rho Error: 0.0000, Test Rho Error: 0.0000, Train Vx Error: 0.0000, Test Vx Error: 0.0000, Train Epsilon Error: 1.0964, Test Epsilon Error: 0.9039\n",
      "Epoch 102: Train Loss: 2.3578, Test Loss: 2.3474, Train Rho Error: 0.0000, Test Rho Error: 0.0000, Train Vx Error: 0.0000, Test Vx Error: 0.0000, Train Epsilon Error: 1.1963, Test Epsilon Error: 0.9039\n",
      "Epoch 103: Train Loss: 2.3578, Test Loss: 2.3474, Train Rho Error: 0.0000, Test Rho Error: 0.0000, Train Vx Error: 0.0000, Test Vx Error: 0.0000, Train Epsilon Error: 0.8680, Test Epsilon Error: 0.9039\n",
      "Epoch 104: Train Loss: 2.3578, Test Loss: 2.3474, Train Rho Error: 0.0000, Test Rho Error: 0.0000, Train Vx Error: 0.0000, Test Vx Error: 0.0000, Train Epsilon Error: 0.8945, Test Epsilon Error: 0.9039\n",
      "Epoch 105: Train Loss: 2.3578, Test Loss: 2.3474, Train Rho Error: 0.0000, Test Rho Error: 0.0000, Train Vx Error: 0.0000, Test Vx Error: 0.0000, Train Epsilon Error: 0.9254, Test Epsilon Error: 0.9039\n",
      "Epoch 106: Train Loss: 2.3578, Test Loss: 2.3474, Train Rho Error: 0.0000, Test Rho Error: 0.0000, Train Vx Error: 0.0000, Test Vx Error: 0.0000, Train Epsilon Error: 1.0966, Test Epsilon Error: 0.9039\n",
      "Epoch 107: Train Loss: 2.3578, Test Loss: 2.3474, Train Rho Error: 0.0000, Test Rho Error: 0.0000, Train Vx Error: 0.0000, Test Vx Error: 0.0000, Train Epsilon Error: 0.9523, Test Epsilon Error: 0.9039\n",
      "Epoch 108: Train Loss: 2.3578, Test Loss: 2.3474, Train Rho Error: 0.0000, Test Rho Error: 0.0000, Train Vx Error: 0.0000, Test Vx Error: 0.0000, Train Epsilon Error: 0.9375, Test Epsilon Error: 0.9039\n",
      "Epoch 109: Train Loss: 2.3578, Test Loss: 2.3474, Train Rho Error: 0.0000, Test Rho Error: 0.0000, Train Vx Error: 0.0000, Test Vx Error: 0.0000, Train Epsilon Error: 1.4283, Test Epsilon Error: 0.9039\n",
      "Epoch 110: Train Loss: 2.3578, Test Loss: 2.3474, Train Rho Error: 0.0000, Test Rho Error: 0.0000, Train Vx Error: 0.0000, Test Vx Error: 0.0000, Train Epsilon Error: 1.0119, Test Epsilon Error: 0.9039\n",
      "Epoch 111: Train Loss: 2.3578, Test Loss: 2.3474, Train Rho Error: 0.0000, Test Rho Error: 0.0000, Train Vx Error: 0.0000, Test Vx Error: 0.0000, Train Epsilon Error: 1.0489, Test Epsilon Error: 0.9039\n",
      "Epoch 112: Train Loss: 2.3578, Test Loss: 2.3474, Train Rho Error: 0.0000, Test Rho Error: 0.0000, Train Vx Error: 0.0000, Test Vx Error: 0.0000, Train Epsilon Error: 3.0353, Test Epsilon Error: 0.9039\n",
      "Epoch 113: Train Loss: 2.3578, Test Loss: 2.3474, Train Rho Error: 0.0000, Test Rho Error: 0.0000, Train Vx Error: 0.0000, Test Vx Error: 0.0000, Train Epsilon Error: 1.4022, Test Epsilon Error: 0.9039\n",
      "Epoch 114: Train Loss: 2.3578, Test Loss: 2.3474, Train Rho Error: 0.0000, Test Rho Error: 0.0000, Train Vx Error: 0.0000, Test Vx Error: 0.0000, Train Epsilon Error: 0.9652, Test Epsilon Error: 0.9039\n",
      "Epoch 115: Train Loss: 2.3578, Test Loss: 2.3474, Train Rho Error: 0.0000, Test Rho Error: 0.0000, Train Vx Error: 0.0000, Test Vx Error: 0.0000, Train Epsilon Error: 1.4861, Test Epsilon Error: 0.9039\n",
      "Epoch 116: Train Loss: 2.3578, Test Loss: 2.3474, Train Rho Error: 0.0000, Test Rho Error: 0.0000, Train Vx Error: 0.0000, Test Vx Error: 0.0000, Train Epsilon Error: 1.0226, Test Epsilon Error: 0.9039\n",
      "Epoch 117: Train Loss: 2.3578, Test Loss: 2.3474, Train Rho Error: 0.0000, Test Rho Error: 0.0000, Train Vx Error: 0.0000, Test Vx Error: 0.0000, Train Epsilon Error: 0.9906, Test Epsilon Error: 0.9039\n",
      "Epoch 118: Train Loss: 2.3578, Test Loss: 2.3474, Train Rho Error: 0.0000, Test Rho Error: 0.0000, Train Vx Error: 0.0000, Test Vx Error: 0.0000, Train Epsilon Error: 1.0047, Test Epsilon Error: 0.9039\n",
      "Epoch 119: Train Loss: 2.3578, Test Loss: 2.3474, Train Rho Error: 0.0000, Test Rho Error: 0.0000, Train Vx Error: 0.0000, Test Vx Error: 0.0000, Train Epsilon Error: 1.1877, Test Epsilon Error: 0.9039\n",
      "Epoch 120: Train Loss: 2.3578, Test Loss: 2.3474, Train Rho Error: 0.0000, Test Rho Error: 0.0000, Train Vx Error: 0.0000, Test Vx Error: 0.0000, Train Epsilon Error: 1.1315, Test Epsilon Error: 0.9039\n",
      "Epoch 121: Train Loss: 2.3578, Test Loss: 2.3474, Train Rho Error: 0.0000, Test Rho Error: 0.0000, Train Vx Error: 0.0000, Test Vx Error: 0.0000, Train Epsilon Error: 0.9432, Test Epsilon Error: 0.9039\n"
     ]
    },
    {
     "name": "stderr",
     "output_type": "stream",
     "text": [
      "NaN or Inf found in input tensor.\n"
     ]
    },
    {
     "name": "stdout",
     "output_type": "stream",
     "text": [
      "Epoch 122: Train Loss: 2.3578, Test Loss: 2.3474, Train Rho Error: 0.0000, Test Rho Error: 0.0000, Train Vx Error: 0.0000, Test Vx Error: 0.0000, Train Epsilon Error: inf, Test Epsilon Error: 0.9039\n",
      "Epoch 123: Train Loss: 2.3578, Test Loss: 2.3474, Train Rho Error: 0.0000, Test Rho Error: 0.0000, Train Vx Error: 0.0000, Test Vx Error: 0.0000, Train Epsilon Error: 0.9693, Test Epsilon Error: 0.9039\n",
      "Epoch 124: Train Loss: 2.3578, Test Loss: 2.3474, Train Rho Error: 0.0000, Test Rho Error: 0.0000, Train Vx Error: 0.0000, Test Vx Error: 0.0000, Train Epsilon Error: 0.9700, Test Epsilon Error: 0.9039\n",
      "Epoch 125: Train Loss: 2.3578, Test Loss: 2.3474, Train Rho Error: 0.0000, Test Rho Error: 0.0000, Train Vx Error: 0.0000, Test Vx Error: 0.0000, Train Epsilon Error: 1.1777, Test Epsilon Error: 0.9039\n",
      "Epoch 126: Train Loss: 2.3578, Test Loss: 2.3474, Train Rho Error: 0.0000, Test Rho Error: 0.0000, Train Vx Error: 0.0000, Test Vx Error: 0.0000, Train Epsilon Error: 1.2264, Test Epsilon Error: 0.9039\n",
      "Epoch 127: Train Loss: 2.3578, Test Loss: 2.3474, Train Rho Error: 0.0000, Test Rho Error: 0.0000, Train Vx Error: 0.0000, Test Vx Error: 0.0000, Train Epsilon Error: 1.1618, Test Epsilon Error: 0.9039\n",
      "Epoch 128: Train Loss: 2.3578, Test Loss: 2.3474, Train Rho Error: 0.0000, Test Rho Error: 0.0000, Train Vx Error: 0.0000, Test Vx Error: 0.0000, Train Epsilon Error: 1.2852, Test Epsilon Error: 0.9039\n"
     ]
    },
    {
     "name": "stderr",
     "output_type": "stream",
     "text": [
      "\u001b[32m[I 2023-05-05 13:39:32,967]\u001b[0m Trial 5 finished with value: 0.9038985005706549 and parameters: {'n_layers': 3, 'n_units_0': 180, 'n_units_1': 116, 'n_units_2': 189, 'hidden_activation': 'Sigmoid', 'output_activation': 'Linear', 'loss': 'MAE', 'optimizer': 'Adam', 'lr': 0.051345961074301005, 'batch_size': 491, 'n_epochs': 129, 'scheduler': 'StepLR'}. Best is trial 1 with value: 0.5582342281554593.\u001b[0m\n"
     ]
    },
    {
     "name": "stdout",
     "output_type": "stream",
     "text": [
      "Epoch 129: Train Loss: 2.3578, Test Loss: 2.3474, Train Rho Error: 0.0000, Test Rho Error: 0.0000, Train Vx Error: 0.0000, Test Vx Error: 0.0000, Train Epsilon Error: 0.9749, Test Epsilon Error: 0.9039\n",
      "Epoch 1: Train Loss: 2.4857, Test Loss: 2.0903, Train Rho Error: 0.0000, Test Rho Error: 0.0000, Train Vx Error: 0.0000, Test Vx Error: 0.0000, Train Epsilon Error: 1.1556, Test Epsilon Error: 1.0955\n",
      "Epoch 2: Train Loss: 2.0172, Test Loss: 1.9530, Train Rho Error: 0.0000, Test Rho Error: 0.0000, Train Vx Error: 0.0000, Test Vx Error: 0.0000, Train Epsilon Error: 0.9044, Test Epsilon Error: 1.1102\n"
     ]
    },
    {
     "name": "stderr",
     "output_type": "stream",
     "text": [
      "NaN or Inf found in input tensor.\n"
     ]
    },
    {
     "name": "stdout",
     "output_type": "stream",
     "text": [
      "Epoch 3: Train Loss: 1.9527, Test Loss: 1.9308, Train Rho Error: 0.0000, Test Rho Error: 0.0000, Train Vx Error: 0.0000, Test Vx Error: 0.0000, Train Epsilon Error: inf, Test Epsilon Error: 1.1289\n",
      "Epoch 4: Train Loss: 1.9404, Test Loss: 1.9261, Train Rho Error: 0.0000, Test Rho Error: 0.0000, Train Vx Error: 0.0000, Test Vx Error: 0.0000, Train Epsilon Error: 0.8731, Test Epsilon Error: 1.1387\n",
      "Epoch 5: Train Loss: 1.9369, Test Loss: 1.9244, Train Rho Error: 0.0000, Test Rho Error: 0.0000, Train Vx Error: 0.0000, Test Vx Error: 0.0000, Train Epsilon Error: 1.3489, Test Epsilon Error: 1.1432\n",
      "Epoch 6: Train Loss: 1.9351, Test Loss: 1.9232, Train Rho Error: 0.0000, Test Rho Error: 0.0000, Train Vx Error: 0.0000, Test Vx Error: 0.0000, Train Epsilon Error: 1.3860, Test Epsilon Error: 1.1446\n",
      "Epoch 7: Train Loss: 1.9338, Test Loss: 1.9220, Train Rho Error: 0.0000, Test Rho Error: 0.0000, Train Vx Error: 0.0000, Test Vx Error: 0.0000, Train Epsilon Error: 0.9546, Test Epsilon Error: 1.1447\n",
      "Epoch 8: Train Loss: 1.9326, Test Loss: 1.9210, Train Rho Error: 0.0000, Test Rho Error: 0.0000, Train Vx Error: 0.0000, Test Vx Error: 0.0000, Train Epsilon Error: 0.9859, Test Epsilon Error: 1.1447\n",
      "Epoch 9: Train Loss: 1.9314, Test Loss: 1.9199, Train Rho Error: 0.0000, Test Rho Error: 0.0000, Train Vx Error: 0.0000, Test Vx Error: 0.0000, Train Epsilon Error: 1.0451, Test Epsilon Error: 1.1442\n",
      "Epoch 10: Train Loss: 1.9303, Test Loss: 1.9189, Train Rho Error: 0.0000, Test Rho Error: 0.0000, Train Vx Error: 0.0000, Test Vx Error: 0.0000, Train Epsilon Error: 0.9507, Test Epsilon Error: 1.1439\n",
      "Epoch 11: Train Loss: 1.9292, Test Loss: 1.9180, Train Rho Error: 0.0000, Test Rho Error: 0.0000, Train Vx Error: 0.0000, Test Vx Error: 0.0000, Train Epsilon Error: 1.0798, Test Epsilon Error: 1.1436\n",
      "Epoch 12: Train Loss: 1.9282, Test Loss: 1.9170, Train Rho Error: 0.0000, Test Rho Error: 0.0000, Train Vx Error: 0.0000, Test Vx Error: 0.0000, Train Epsilon Error: 1.2048, Test Epsilon Error: 1.1425\n",
      "Epoch 13: Train Loss: 1.9272, Test Loss: 1.9161, Train Rho Error: 0.0000, Test Rho Error: 0.0000, Train Vx Error: 0.0000, Test Vx Error: 0.0000, Train Epsilon Error: 1.3276, Test Epsilon Error: 1.1415\n",
      "Epoch 14: Train Loss: 1.9263, Test Loss: 1.9153, Train Rho Error: 0.0000, Test Rho Error: 0.0000, Train Vx Error: 0.0000, Test Vx Error: 0.0000, Train Epsilon Error: 1.1550, Test Epsilon Error: 1.1412\n",
      "Epoch 15: Train Loss: 1.9254, Test Loss: 1.9145, Train Rho Error: 0.0000, Test Rho Error: 0.0000, Train Vx Error: 0.0000, Test Vx Error: 0.0000, Train Epsilon Error: 0.8847, Test Epsilon Error: 1.1407\n",
      "Epoch 16: Train Loss: 1.9246, Test Loss: 1.9137, Train Rho Error: 0.0000, Test Rho Error: 0.0000, Train Vx Error: 0.0000, Test Vx Error: 0.0000, Train Epsilon Error: 1.2978, Test Epsilon Error: 1.1400\n",
      "Epoch 17: Train Loss: 1.9237, Test Loss: 1.9129, Train Rho Error: 0.0000, Test Rho Error: 0.0000, Train Vx Error: 0.0000, Test Vx Error: 0.0000, Train Epsilon Error: 1.0066, Test Epsilon Error: 1.1397\n",
      "Epoch 18: Train Loss: 1.9229, Test Loss: 1.9121, Train Rho Error: 0.0000, Test Rho Error: 0.0000, Train Vx Error: 0.0000, Test Vx Error: 0.0000, Train Epsilon Error: 1.0355, Test Epsilon Error: 1.1387\n"
     ]
    },
    {
     "name": "stderr",
     "output_type": "stream",
     "text": [
      "NaN or Inf found in input tensor.\n"
     ]
    },
    {
     "name": "stdout",
     "output_type": "stream",
     "text": [
      "Epoch 19: Train Loss: 1.9222, Test Loss: 1.9114, Train Rho Error: 0.0000, Test Rho Error: 0.0000, Train Vx Error: 0.0000, Test Vx Error: 0.0000, Train Epsilon Error: inf, Test Epsilon Error: 1.1381\n",
      "Epoch 20: Train Loss: 1.9215, Test Loss: 1.9107, Train Rho Error: 0.0000, Test Rho Error: 0.0000, Train Vx Error: 0.0000, Test Vx Error: 0.0000, Train Epsilon Error: 0.9628, Test Epsilon Error: 1.1375\n",
      "Epoch 21: Train Loss: 1.9208, Test Loss: 1.9101, Train Rho Error: 0.0000, Test Rho Error: 0.0000, Train Vx Error: 0.0000, Test Vx Error: 0.0000, Train Epsilon Error: 1.1338, Test Epsilon Error: 1.1371\n",
      "Epoch 22: Train Loss: 1.9201, Test Loss: 1.9095, Train Rho Error: 0.0000, Test Rho Error: 0.0000, Train Vx Error: 0.0000, Test Vx Error: 0.0000, Train Epsilon Error: 1.0791, Test Epsilon Error: 1.1368\n",
      "Epoch 23: Train Loss: 1.9194, Test Loss: 1.9089, Train Rho Error: 0.0000, Test Rho Error: 0.0000, Train Vx Error: 0.0000, Test Vx Error: 0.0000, Train Epsilon Error: 1.0622, Test Epsilon Error: 1.1359\n",
      "Epoch 24: Train Loss: 1.9188, Test Loss: 1.9083, Train Rho Error: 0.0000, Test Rho Error: 0.0000, Train Vx Error: 0.0000, Test Vx Error: 0.0000, Train Epsilon Error: 0.9626, Test Epsilon Error: 1.1352\n",
      "Epoch 25: Train Loss: 1.9182, Test Loss: 1.9077, Train Rho Error: 0.0000, Test Rho Error: 0.0000, Train Vx Error: 0.0000, Test Vx Error: 0.0000, Train Epsilon Error: 0.9213, Test Epsilon Error: 1.1345\n",
      "Epoch 26: Train Loss: 1.9176, Test Loss: 1.9072, Train Rho Error: 0.0000, Test Rho Error: 0.0000, Train Vx Error: 0.0000, Test Vx Error: 0.0000, Train Epsilon Error: 0.9866, Test Epsilon Error: 1.1347\n",
      "Epoch 27: Train Loss: 1.9171, Test Loss: 1.9067, Train Rho Error: 0.0000, Test Rho Error: 0.0000, Train Vx Error: 0.0000, Test Vx Error: 0.0000, Train Epsilon Error: 1.0946, Test Epsilon Error: 1.1343\n"
     ]
    },
    {
     "name": "stderr",
     "output_type": "stream",
     "text": [
      "NaN or Inf found in input tensor.\n"
     ]
    },
    {
     "name": "stdout",
     "output_type": "stream",
     "text": [
      "Epoch 28: Train Loss: 1.9165, Test Loss: 1.9063, Train Rho Error: 0.0000, Test Rho Error: 0.0000, Train Vx Error: 0.0000, Test Vx Error: 0.0000, Train Epsilon Error: inf, Test Epsilon Error: 1.1339\n",
      "Epoch 29: Train Loss: 1.9160, Test Loss: 1.9058, Train Rho Error: 0.0000, Test Rho Error: 0.0000, Train Vx Error: 0.0000, Test Vx Error: 0.0000, Train Epsilon Error: 0.9457, Test Epsilon Error: 1.1332\n",
      "Epoch 30: Train Loss: 1.9155, Test Loss: 1.9053, Train Rho Error: 0.0000, Test Rho Error: 0.0000, Train Vx Error: 0.0000, Test Vx Error: 0.0000, Train Epsilon Error: 1.0022, Test Epsilon Error: 1.1326\n",
      "Epoch 31: Train Loss: 1.9151, Test Loss: 1.9049, Train Rho Error: 0.0000, Test Rho Error: 0.0000, Train Vx Error: 0.0000, Test Vx Error: 0.0000, Train Epsilon Error: 1.7765, Test Epsilon Error: 1.1323\n",
      "Epoch 32: Train Loss: 1.9146, Test Loss: 1.9045, Train Rho Error: 0.0000, Test Rho Error: 0.0000, Train Vx Error: 0.0000, Test Vx Error: 0.0000, Train Epsilon Error: 1.0584, Test Epsilon Error: 1.1318\n",
      "Epoch 33: Train Loss: 1.9142, Test Loss: 1.9041, Train Rho Error: 0.0000, Test Rho Error: 0.0000, Train Vx Error: 0.0000, Test Vx Error: 0.0000, Train Epsilon Error: 1.1511, Test Epsilon Error: 1.1314\n",
      "Epoch 34: Train Loss: 1.9137, Test Loss: 1.9037, Train Rho Error: 0.0000, Test Rho Error: 0.0000, Train Vx Error: 0.0000, Test Vx Error: 0.0000, Train Epsilon Error: 1.3915, Test Epsilon Error: 1.1311\n",
      "Epoch 35: Train Loss: 1.9133, Test Loss: 1.9033, Train Rho Error: 0.0000, Test Rho Error: 0.0000, Train Vx Error: 0.0000, Test Vx Error: 0.0000, Train Epsilon Error: 1.0638, Test Epsilon Error: 1.1306\n",
      "Epoch 36: Train Loss: 1.9129, Test Loss: 1.9029, Train Rho Error: 0.0000, Test Rho Error: 0.0000, Train Vx Error: 0.0000, Test Vx Error: 0.0000, Train Epsilon Error: 1.0674, Test Epsilon Error: 1.1302\n",
      "Epoch 37: Train Loss: 1.9126, Test Loss: 1.9026, Train Rho Error: 0.0000, Test Rho Error: 0.0000, Train Vx Error: 0.0000, Test Vx Error: 0.0000, Train Epsilon Error: 0.9277, Test Epsilon Error: 1.1295\n",
      "Epoch 38: Train Loss: 1.9122, Test Loss: 1.9023, Train Rho Error: 0.0000, Test Rho Error: 0.0000, Train Vx Error: 0.0000, Test Vx Error: 0.0000, Train Epsilon Error: 1.1176, Test Epsilon Error: 1.1292\n",
      "Epoch 39: Train Loss: 1.9118, Test Loss: 1.9020, Train Rho Error: 0.0000, Test Rho Error: 0.0000, Train Vx Error: 0.0000, Test Vx Error: 0.0000, Train Epsilon Error: 0.8639, Test Epsilon Error: 1.1296\n",
      "Epoch 40: Train Loss: 1.9115, Test Loss: 1.9017, Train Rho Error: 0.0000, Test Rho Error: 0.0000, Train Vx Error: 0.0000, Test Vx Error: 0.0000, Train Epsilon Error: 0.9024, Test Epsilon Error: 1.1294\n",
      "Epoch 41: Train Loss: 1.9112, Test Loss: 1.9014, Train Rho Error: 0.0000, Test Rho Error: 0.0000, Train Vx Error: 0.0000, Test Vx Error: 0.0000, Train Epsilon Error: 0.9455, Test Epsilon Error: 1.1291\n",
      "Epoch 42: Train Loss: 1.9108, Test Loss: 1.9011, Train Rho Error: 0.0000, Test Rho Error: 0.0000, Train Vx Error: 0.0000, Test Vx Error: 0.0000, Train Epsilon Error: 1.1737, Test Epsilon Error: 1.1282\n",
      "Epoch 43: Train Loss: 1.9105, Test Loss: 1.9008, Train Rho Error: 0.0000, Test Rho Error: 0.0000, Train Vx Error: 0.0000, Test Vx Error: 0.0000, Train Epsilon Error: 0.9653, Test Epsilon Error: 1.1280\n",
      "Epoch 44: Train Loss: 1.9102, Test Loss: 1.9006, Train Rho Error: 0.0000, Test Rho Error: 0.0000, Train Vx Error: 0.0000, Test Vx Error: 0.0000, Train Epsilon Error: 1.3896, Test Epsilon Error: 1.1280\n",
      "Epoch 45: Train Loss: 1.9100, Test Loss: 1.9003, Train Rho Error: 0.0000, Test Rho Error: 0.0000, Train Vx Error: 0.0000, Test Vx Error: 0.0000, Train Epsilon Error: 1.0496, Test Epsilon Error: 1.1277\n",
      "Epoch 46: Train Loss: 1.9097, Test Loss: 1.9001, Train Rho Error: 0.0000, Test Rho Error: 0.0000, Train Vx Error: 0.0000, Test Vx Error: 0.0000, Train Epsilon Error: 0.9597, Test Epsilon Error: 1.1276\n",
      "Epoch 47: Train Loss: 1.9094, Test Loss: 1.8998, Train Rho Error: 0.0000, Test Rho Error: 0.0000, Train Vx Error: 0.0000, Test Vx Error: 0.0000, Train Epsilon Error: 1.0622, Test Epsilon Error: 1.1268\n",
      "Epoch 48: Train Loss: 1.9092, Test Loss: 1.8996, Train Rho Error: 0.0000, Test Rho Error: 0.0000, Train Vx Error: 0.0000, Test Vx Error: 0.0000, Train Epsilon Error: 1.0566, Test Epsilon Error: 1.1264\n",
      "Epoch 49: Train Loss: 1.9089, Test Loss: 1.8994, Train Rho Error: 0.0000, Test Rho Error: 0.0000, Train Vx Error: 0.0000, Test Vx Error: 0.0000, Train Epsilon Error: 1.3393, Test Epsilon Error: 1.1265\n",
      "Epoch 50: Train Loss: 1.9087, Test Loss: 1.8991, Train Rho Error: 0.0000, Test Rho Error: 0.0000, Train Vx Error: 0.0000, Test Vx Error: 0.0000, Train Epsilon Error: 1.1499, Test Epsilon Error: 1.1261\n",
      "Epoch 51: Train Loss: 1.9084, Test Loss: 1.8989, Train Rho Error: 0.0000, Test Rho Error: 0.0000, Train Vx Error: 0.0000, Test Vx Error: 0.0000, Train Epsilon Error: 1.0020, Test Epsilon Error: 1.1258\n",
      "Epoch 52: Train Loss: 1.9082, Test Loss: 1.8987, Train Rho Error: 0.0000, Test Rho Error: 0.0000, Train Vx Error: 0.0000, Test Vx Error: 0.0000, Train Epsilon Error: 1.4672, Test Epsilon Error: 1.1252\n",
      "Epoch 53: Train Loss: 1.9080, Test Loss: 1.8985, Train Rho Error: 0.0000, Test Rho Error: 0.0000, Train Vx Error: 0.0000, Test Vx Error: 0.0000, Train Epsilon Error: 0.9519, Test Epsilon Error: 1.1254\n",
      "Epoch 54: Train Loss: 1.9078, Test Loss: 1.8984, Train Rho Error: 0.0000, Test Rho Error: 0.0000, Train Vx Error: 0.0000, Test Vx Error: 0.0000, Train Epsilon Error: 1.0565, Test Epsilon Error: 1.1253\n",
      "Epoch 55: Train Loss: 1.9076, Test Loss: 1.8982, Train Rho Error: 0.0000, Test Rho Error: 0.0000, Train Vx Error: 0.0000, Test Vx Error: 0.0000, Train Epsilon Error: 1.0893, Test Epsilon Error: 1.1252\n",
      "Epoch 56: Train Loss: 1.9074, Test Loss: 1.8980, Train Rho Error: 0.0000, Test Rho Error: 0.0000, Train Vx Error: 0.0000, Test Vx Error: 0.0000, Train Epsilon Error: 1.8526, Test Epsilon Error: 1.1249\n",
      "Epoch 57: Train Loss: 1.9072, Test Loss: 1.8978, Train Rho Error: 0.0000, Test Rho Error: 0.0000, Train Vx Error: 0.0000, Test Vx Error: 0.0000, Train Epsilon Error: 1.1416, Test Epsilon Error: 1.1244\n",
      "Epoch 58: Train Loss: 1.9070, Test Loss: 1.8977, Train Rho Error: 0.0000, Test Rho Error: 0.0000, Train Vx Error: 0.0000, Test Vx Error: 0.0000, Train Epsilon Error: 1.0451, Test Epsilon Error: 1.1244\n",
      "Epoch 59: Train Loss: 1.9068, Test Loss: 1.8976, Train Rho Error: 0.0000, Test Rho Error: 0.0000, Train Vx Error: 0.0000, Test Vx Error: 0.0000, Train Epsilon Error: 0.9483, Test Epsilon Error: 1.1245\n",
      "Epoch 60: Train Loss: 1.9066, Test Loss: 1.8974, Train Rho Error: 0.0000, Test Rho Error: 0.0000, Train Vx Error: 0.0000, Test Vx Error: 0.0000, Train Epsilon Error: 1.2418, Test Epsilon Error: 1.1241\n",
      "Epoch 61: Train Loss: 1.9065, Test Loss: 1.8972, Train Rho Error: 0.0000, Test Rho Error: 0.0000, Train Vx Error: 0.0000, Test Vx Error: 0.0000, Train Epsilon Error: 0.8979, Test Epsilon Error: 1.1239\n",
      "Epoch 62: Train Loss: 1.9063, Test Loss: 1.8971, Train Rho Error: 0.0000, Test Rho Error: 0.0000, Train Vx Error: 0.0000, Test Vx Error: 0.0000, Train Epsilon Error: 1.2407, Test Epsilon Error: 1.1239\n",
      "Epoch 63: Train Loss: 1.9061, Test Loss: 1.8970, Train Rho Error: 0.0000, Test Rho Error: 0.0000, Train Vx Error: 0.0000, Test Vx Error: 0.0000, Train Epsilon Error: 1.1258, Test Epsilon Error: 1.1238\n",
      "Epoch 64: Train Loss: 1.9060, Test Loss: 1.8968, Train Rho Error: 0.0000, Test Rho Error: 0.0000, Train Vx Error: 0.0000, Test Vx Error: 0.0000, Train Epsilon Error: 0.9823, Test Epsilon Error: 1.1236\n",
      "Epoch 65: Train Loss: 1.9058, Test Loss: 1.8967, Train Rho Error: 0.0000, Test Rho Error: 0.0000, Train Vx Error: 0.0000, Test Vx Error: 0.0000, Train Epsilon Error: 1.1272, Test Epsilon Error: 1.1232\n",
      "Epoch 66: Train Loss: 1.9057, Test Loss: 1.8966, Train Rho Error: 0.0000, Test Rho Error: 0.0000, Train Vx Error: 0.0000, Test Vx Error: 0.0000, Train Epsilon Error: 1.2017, Test Epsilon Error: 1.1232\n",
      "Epoch 67: Train Loss: 1.9056, Test Loss: 1.8964, Train Rho Error: 0.0000, Test Rho Error: 0.0000, Train Vx Error: 0.0000, Test Vx Error: 0.0000, Train Epsilon Error: 0.9911, Test Epsilon Error: 1.1227\n",
      "Epoch 68: Train Loss: 1.9054, Test Loss: 1.8963, Train Rho Error: 0.0000, Test Rho Error: 0.0000, Train Vx Error: 0.0000, Test Vx Error: 0.0000, Train Epsilon Error: 1.2754, Test Epsilon Error: 1.1219\n"
     ]
    },
    {
     "name": "stderr",
     "output_type": "stream",
     "text": [
      "NaN or Inf found in input tensor.\n"
     ]
    },
    {
     "name": "stdout",
     "output_type": "stream",
     "text": [
      "Epoch 69: Train Loss: 1.9053, Test Loss: 1.8962, Train Rho Error: 0.0000, Test Rho Error: 0.0000, Train Vx Error: 0.0000, Test Vx Error: 0.0000, Train Epsilon Error: inf, Test Epsilon Error: 1.1220\n",
      "Epoch 70: Train Loss: 1.9052, Test Loss: 1.8961, Train Rho Error: 0.0000, Test Rho Error: 0.0000, Train Vx Error: 0.0000, Test Vx Error: 0.0000, Train Epsilon Error: 1.1803, Test Epsilon Error: 1.1222\n",
      "Epoch 71: Train Loss: 1.9050, Test Loss: 1.8960, Train Rho Error: 0.0000, Test Rho Error: 0.0000, Train Vx Error: 0.0000, Test Vx Error: 0.0000, Train Epsilon Error: 1.1018, Test Epsilon Error: 1.1219\n",
      "Epoch 72: Train Loss: 1.9049, Test Loss: 1.8958, Train Rho Error: 0.0000, Test Rho Error: 0.0000, Train Vx Error: 0.0000, Test Vx Error: 0.0000, Train Epsilon Error: 1.0798, Test Epsilon Error: 1.1213\n",
      "Epoch 73: Train Loss: 1.9048, Test Loss: 1.8958, Train Rho Error: 0.0000, Test Rho Error: 0.0000, Train Vx Error: 0.0000, Test Vx Error: 0.0000, Train Epsilon Error: 0.9754, Test Epsilon Error: 1.1216\n",
      "Epoch 74: Train Loss: 1.9047, Test Loss: 1.8957, Train Rho Error: 0.0000, Test Rho Error: 0.0000, Train Vx Error: 0.0000, Test Vx Error: 0.0000, Train Epsilon Error: 0.9637, Test Epsilon Error: 1.1216\n",
      "Epoch 75: Train Loss: 1.9046, Test Loss: 1.8956, Train Rho Error: 0.0000, Test Rho Error: 0.0000, Train Vx Error: 0.0000, Test Vx Error: 0.0000, Train Epsilon Error: 1.0089, Test Epsilon Error: 1.1211\n",
      "Epoch 76: Train Loss: 1.9045, Test Loss: 1.8955, Train Rho Error: 0.0000, Test Rho Error: 0.0000, Train Vx Error: 0.0000, Test Vx Error: 0.0000, Train Epsilon Error: 1.0431, Test Epsilon Error: 1.1210\n",
      "Epoch 77: Train Loss: 1.9044, Test Loss: 1.8954, Train Rho Error: 0.0000, Test Rho Error: 0.0000, Train Vx Error: 0.0000, Test Vx Error: 0.0000, Train Epsilon Error: 0.9104, Test Epsilon Error: 1.1209\n"
     ]
    },
    {
     "name": "stderr",
     "output_type": "stream",
     "text": [
      "NaN or Inf found in input tensor.\n"
     ]
    },
    {
     "name": "stdout",
     "output_type": "stream",
     "text": [
      "Epoch 78: Train Loss: 1.9042, Test Loss: 1.8953, Train Rho Error: 0.0000, Test Rho Error: 0.0000, Train Vx Error: 0.0000, Test Vx Error: 0.0000, Train Epsilon Error: inf, Test Epsilon Error: 1.1206\n",
      "Epoch 79: Train Loss: 1.9041, Test Loss: 1.8952, Train Rho Error: 0.0000, Test Rho Error: 0.0000, Train Vx Error: 0.0000, Test Vx Error: 0.0000, Train Epsilon Error: 0.9265, Test Epsilon Error: 1.1207\n",
      "Epoch 80: Train Loss: 1.9040, Test Loss: 1.8952, Train Rho Error: 0.0000, Test Rho Error: 0.0000, Train Vx Error: 0.0000, Test Vx Error: 0.0000, Train Epsilon Error: 1.1316, Test Epsilon Error: 1.1207\n",
      "Epoch 81: Train Loss: 1.9040, Test Loss: 1.8950, Train Rho Error: 0.0000, Test Rho Error: 0.0000, Train Vx Error: 0.0000, Test Vx Error: 0.0000, Train Epsilon Error: 0.9454, Test Epsilon Error: 1.1202\n"
     ]
    },
    {
     "name": "stderr",
     "output_type": "stream",
     "text": [
      "NaN or Inf found in input tensor.\n"
     ]
    },
    {
     "name": "stdout",
     "output_type": "stream",
     "text": [
      "Epoch 82: Train Loss: 1.9039, Test Loss: 1.8950, Train Rho Error: 0.0000, Test Rho Error: 0.0000, Train Vx Error: 0.0000, Test Vx Error: 0.0000, Train Epsilon Error: inf, Test Epsilon Error: 1.1202\n",
      "Epoch 83: Train Loss: 1.9038, Test Loss: 1.8949, Train Rho Error: 0.0000, Test Rho Error: 0.0000, Train Vx Error: 0.0000, Test Vx Error: 0.0000, Train Epsilon Error: 1.0588, Test Epsilon Error: 1.1199\n"
     ]
    },
    {
     "name": "stderr",
     "output_type": "stream",
     "text": [
      "NaN or Inf found in input tensor.\n"
     ]
    },
    {
     "name": "stdout",
     "output_type": "stream",
     "text": [
      "Epoch 84: Train Loss: 1.9037, Test Loss: 1.8948, Train Rho Error: 0.0000, Test Rho Error: 0.0000, Train Vx Error: 0.0000, Test Vx Error: 0.0000, Train Epsilon Error: inf, Test Epsilon Error: 1.1197\n",
      "Epoch 85: Train Loss: 1.9036, Test Loss: 1.8948, Train Rho Error: 0.0000, Test Rho Error: 0.0000, Train Vx Error: 0.0000, Test Vx Error: 0.0000, Train Epsilon Error: 1.0092, Test Epsilon Error: 1.1199\n",
      "Epoch 86: Train Loss: 1.9035, Test Loss: 1.8947, Train Rho Error: 0.0000, Test Rho Error: 0.0000, Train Vx Error: 0.0000, Test Vx Error: 0.0000, Train Epsilon Error: 1.0666, Test Epsilon Error: 1.1195\n",
      "Epoch 87: Train Loss: 1.9034, Test Loss: 1.8946, Train Rho Error: 0.0000, Test Rho Error: 0.0000, Train Vx Error: 0.0000, Test Vx Error: 0.0000, Train Epsilon Error: 0.9235, Test Epsilon Error: 1.1197\n",
      "Epoch 88: Train Loss: 1.9034, Test Loss: 1.8946, Train Rho Error: 0.0000, Test Rho Error: 0.0000, Train Vx Error: 0.0000, Test Vx Error: 0.0000, Train Epsilon Error: 1.2791, Test Epsilon Error: 1.1200\n",
      "Epoch 89: Train Loss: 1.9033, Test Loss: 1.8945, Train Rho Error: 0.0000, Test Rho Error: 0.0000, Train Vx Error: 0.0000, Test Vx Error: 0.0000, Train Epsilon Error: 1.1020, Test Epsilon Error: 1.1197\n",
      "Epoch 90: Train Loss: 1.9032, Test Loss: 1.8945, Train Rho Error: 0.0000, Test Rho Error: 0.0000, Train Vx Error: 0.0000, Test Vx Error: 0.0000, Train Epsilon Error: 1.2410, Test Epsilon Error: 1.1194\n",
      "Epoch 91: Train Loss: 1.9032, Test Loss: 1.8944, Train Rho Error: 0.0000, Test Rho Error: 0.0000, Train Vx Error: 0.0000, Test Vx Error: 0.0000, Train Epsilon Error: 1.0575, Test Epsilon Error: 1.1196\n",
      "Epoch 92: Train Loss: 1.9031, Test Loss: 1.8943, Train Rho Error: 0.0000, Test Rho Error: 0.0000, Train Vx Error: 0.0000, Test Vx Error: 0.0000, Train Epsilon Error: 1.3843, Test Epsilon Error: 1.1193\n",
      "Epoch 93: Train Loss: 1.9030, Test Loss: 1.8943, Train Rho Error: 0.0000, Test Rho Error: 0.0000, Train Vx Error: 0.0000, Test Vx Error: 0.0000, Train Epsilon Error: 1.0527, Test Epsilon Error: 1.1190\n",
      "Epoch 94: Train Loss: 1.9029, Test Loss: 1.8942, Train Rho Error: 0.0000, Test Rho Error: 0.0000, Train Vx Error: 0.0000, Test Vx Error: 0.0000, Train Epsilon Error: 1.0460, Test Epsilon Error: 1.1185\n",
      "Epoch 95: Train Loss: 1.9029, Test Loss: 1.8942, Train Rho Error: 0.0000, Test Rho Error: 0.0000, Train Vx Error: 0.0000, Test Vx Error: 0.0000, Train Epsilon Error: 1.0630, Test Epsilon Error: 1.1191\n",
      "Epoch 96: Train Loss: 1.9028, Test Loss: 1.8941, Train Rho Error: 0.0000, Test Rho Error: 0.0000, Train Vx Error: 0.0000, Test Vx Error: 0.0000, Train Epsilon Error: 0.9844, Test Epsilon Error: 1.1184\n",
      "Epoch 97: Train Loss: 1.9028, Test Loss: 1.8941, Train Rho Error: 0.0000, Test Rho Error: 0.0000, Train Vx Error: 0.0000, Test Vx Error: 0.0000, Train Epsilon Error: 1.1242, Test Epsilon Error: 1.1189\n",
      "Epoch 98: Train Loss: 1.9027, Test Loss: 1.8941, Train Rho Error: 0.0000, Test Rho Error: 0.0000, Train Vx Error: 0.0000, Test Vx Error: 0.0000, Train Epsilon Error: 0.9696, Test Epsilon Error: 1.1190\n",
      "Epoch 99: Train Loss: 1.9026, Test Loss: 1.8940, Train Rho Error: 0.0000, Test Rho Error: 0.0000, Train Vx Error: 0.0000, Test Vx Error: 0.0000, Train Epsilon Error: 1.1253, Test Epsilon Error: 1.1186\n",
      "Epoch 100: Train Loss: 1.9026, Test Loss: 1.8939, Train Rho Error: 0.0000, Test Rho Error: 0.0000, Train Vx Error: 0.0000, Test Vx Error: 0.0000, Train Epsilon Error: 1.6133, Test Epsilon Error: 1.1180\n",
      "Epoch 101: Train Loss: 1.9025, Test Loss: 1.8939, Train Rho Error: 0.0000, Test Rho Error: 0.0000, Train Vx Error: 0.0000, Test Vx Error: 0.0000, Train Epsilon Error: 1.2606, Test Epsilon Error: 1.1181\n",
      "Epoch 102: Train Loss: 1.9025, Test Loss: 1.8938, Train Rho Error: 0.0000, Test Rho Error: 0.0000, Train Vx Error: 0.0000, Test Vx Error: 0.0000, Train Epsilon Error: 0.9201, Test Epsilon Error: 1.1178\n",
      "Epoch 103: Train Loss: 1.9024, Test Loss: 1.8938, Train Rho Error: 0.0000, Test Rho Error: 0.0000, Train Vx Error: 0.0000, Test Vx Error: 0.0000, Train Epsilon Error: 0.9988, Test Epsilon Error: 1.1181\n",
      "Epoch 104: Train Loss: 1.9024, Test Loss: 1.8938, Train Rho Error: 0.0000, Test Rho Error: 0.0000, Train Vx Error: 0.0000, Test Vx Error: 0.0000, Train Epsilon Error: 1.3434, Test Epsilon Error: 1.1180\n",
      "Epoch 105: Train Loss: 1.9023, Test Loss: 1.8937, Train Rho Error: 0.0000, Test Rho Error: 0.0000, Train Vx Error: 0.0000, Test Vx Error: 0.0000, Train Epsilon Error: 0.9122, Test Epsilon Error: 1.1177\n",
      "Epoch 106: Train Loss: 1.9023, Test Loss: 1.8937, Train Rho Error: 0.0000, Test Rho Error: 0.0000, Train Vx Error: 0.0000, Test Vx Error: 0.0000, Train Epsilon Error: 0.9229, Test Epsilon Error: 1.1181\n",
      "Epoch 107: Train Loss: 1.9022, Test Loss: 1.8937, Train Rho Error: 0.0000, Test Rho Error: 0.0000, Train Vx Error: 0.0000, Test Vx Error: 0.0000, Train Epsilon Error: 1.3124, Test Epsilon Error: 1.1178\n",
      "Epoch 108: Train Loss: 1.9022, Test Loss: 1.8936, Train Rho Error: 0.0000, Test Rho Error: 0.0000, Train Vx Error: 0.0000, Test Vx Error: 0.0000, Train Epsilon Error: 1.1757, Test Epsilon Error: 1.1176\n",
      "Epoch 109: Train Loss: 1.9021, Test Loss: 1.8936, Train Rho Error: 0.0000, Test Rho Error: 0.0000, Train Vx Error: 0.0000, Test Vx Error: 0.0000, Train Epsilon Error: 1.0878, Test Epsilon Error: 1.1175\n"
     ]
    },
    {
     "name": "stderr",
     "output_type": "stream",
     "text": [
      "NaN or Inf found in input tensor.\n"
     ]
    },
    {
     "name": "stdout",
     "output_type": "stream",
     "text": [
      "Epoch 110: Train Loss: 1.9021, Test Loss: 1.8935, Train Rho Error: 0.0000, Test Rho Error: 0.0000, Train Vx Error: 0.0000, Test Vx Error: 0.0000, Train Epsilon Error: inf, Test Epsilon Error: 1.1172\n",
      "Epoch 111: Train Loss: 1.9020, Test Loss: 1.8935, Train Rho Error: 0.0000, Test Rho Error: 0.0000, Train Vx Error: 0.0000, Test Vx Error: 0.0000, Train Epsilon Error: 1.0352, Test Epsilon Error: 1.1173\n",
      "Epoch 112: Train Loss: 1.9020, Test Loss: 1.8935, Train Rho Error: 0.0000, Test Rho Error: 0.0000, Train Vx Error: 0.0000, Test Vx Error: 0.0000, Train Epsilon Error: 1.3251, Test Epsilon Error: 1.1178\n",
      "Epoch 113: Train Loss: 1.9020, Test Loss: 1.8934, Train Rho Error: 0.0000, Test Rho Error: 0.0000, Train Vx Error: 0.0000, Test Vx Error: 0.0000, Train Epsilon Error: 0.8579, Test Epsilon Error: 1.1173\n",
      "Epoch 114: Train Loss: 1.9019, Test Loss: 1.8934, Train Rho Error: 0.0000, Test Rho Error: 0.0000, Train Vx Error: 0.0000, Test Vx Error: 0.0000, Train Epsilon Error: 1.0494, Test Epsilon Error: 1.1176\n"
     ]
    },
    {
     "name": "stderr",
     "output_type": "stream",
     "text": [
      "NaN or Inf found in input tensor.\n"
     ]
    },
    {
     "name": "stdout",
     "output_type": "stream",
     "text": [
      "Epoch 115: Train Loss: 1.9019, Test Loss: 1.8934, Train Rho Error: 0.0000, Test Rho Error: 0.0000, Train Vx Error: 0.0000, Test Vx Error: 0.0000, Train Epsilon Error: inf, Test Epsilon Error: 1.1174\n",
      "Epoch 116: Train Loss: 1.9018, Test Loss: 1.8933, Train Rho Error: 0.0000, Test Rho Error: 0.0000, Train Vx Error: 0.0000, Test Vx Error: 0.0000, Train Epsilon Error: 1.4406, Test Epsilon Error: 1.1170\n",
      "Epoch 117: Train Loss: 1.9018, Test Loss: 1.8933, Train Rho Error: 0.0000, Test Rho Error: 0.0000, Train Vx Error: 0.0000, Test Vx Error: 0.0000, Train Epsilon Error: 1.0856, Test Epsilon Error: 1.1172\n",
      "Epoch 118: Train Loss: 1.9018, Test Loss: 1.8933, Train Rho Error: 0.0000, Test Rho Error: 0.0000, Train Vx Error: 0.0000, Test Vx Error: 0.0000, Train Epsilon Error: 0.9782, Test Epsilon Error: 1.1168\n",
      "Epoch 119: Train Loss: 1.9017, Test Loss: 1.8933, Train Rho Error: 0.0000, Test Rho Error: 0.0000, Train Vx Error: 0.0000, Test Vx Error: 0.0000, Train Epsilon Error: 1.0816, Test Epsilon Error: 1.1168\n",
      "Epoch 120: Train Loss: 1.9017, Test Loss: 1.8932, Train Rho Error: 0.0000, Test Rho Error: 0.0000, Train Vx Error: 0.0000, Test Vx Error: 0.0000, Train Epsilon Error: 1.0038, Test Epsilon Error: 1.1164\n",
      "Epoch 121: Train Loss: 1.9017, Test Loss: 1.8932, Train Rho Error: 0.0000, Test Rho Error: 0.0000, Train Vx Error: 0.0000, Test Vx Error: 0.0000, Train Epsilon Error: 0.9540, Test Epsilon Error: 1.1168\n",
      "Epoch 122: Train Loss: 1.9016, Test Loss: 1.8932, Train Rho Error: 0.0000, Test Rho Error: 0.0000, Train Vx Error: 0.0000, Test Vx Error: 0.0000, Train Epsilon Error: 1.4448, Test Epsilon Error: 1.1166\n",
      "Epoch 123: Train Loss: 1.9016, Test Loss: 1.8932, Train Rho Error: 0.0000, Test Rho Error: 0.0000, Train Vx Error: 0.0000, Test Vx Error: 0.0000, Train Epsilon Error: 0.9713, Test Epsilon Error: 1.1169\n",
      "Epoch 124: Train Loss: 1.9016, Test Loss: 1.8932, Train Rho Error: 0.0000, Test Rho Error: 0.0000, Train Vx Error: 0.0000, Test Vx Error: 0.0000, Train Epsilon Error: 1.0156, Test Epsilon Error: 1.1169\n",
      "Epoch 125: Train Loss: 1.9015, Test Loss: 1.8931, Train Rho Error: 0.0000, Test Rho Error: 0.0000, Train Vx Error: 0.0000, Test Vx Error: 0.0000, Train Epsilon Error: 1.0433, Test Epsilon Error: 1.1169\n",
      "Epoch 126: Train Loss: 1.9015, Test Loss: 1.8931, Train Rho Error: 0.0000, Test Rho Error: 0.0000, Train Vx Error: 0.0000, Test Vx Error: 0.0000, Train Epsilon Error: 0.8993, Test Epsilon Error: 1.1163\n",
      "Epoch 127: Train Loss: 1.9015, Test Loss: 1.8930, Train Rho Error: 0.0000, Test Rho Error: 0.0000, Train Vx Error: 0.0000, Test Vx Error: 0.0000, Train Epsilon Error: 0.9812, Test Epsilon Error: 1.1162\n"
     ]
    },
    {
     "name": "stderr",
     "output_type": "stream",
     "text": [
      "NaN or Inf found in input tensor.\n"
     ]
    },
    {
     "name": "stdout",
     "output_type": "stream",
     "text": [
      "Epoch 128: Train Loss: 1.9014, Test Loss: 1.8930, Train Rho Error: 0.0000, Test Rho Error: 0.0000, Train Vx Error: 0.0000, Test Vx Error: 0.0000, Train Epsilon Error: inf, Test Epsilon Error: 1.1165\n",
      "Epoch 129: Train Loss: 1.9014, Test Loss: 1.8930, Train Rho Error: 0.0000, Test Rho Error: 0.0000, Train Vx Error: 0.0000, Test Vx Error: 0.0000, Train Epsilon Error: 1.1432, Test Epsilon Error: 1.1165\n",
      "Epoch 130: Train Loss: 1.9014, Test Loss: 1.8930, Train Rho Error: 0.0000, Test Rho Error: 0.0000, Train Vx Error: 0.0000, Test Vx Error: 0.0000, Train Epsilon Error: 1.0296, Test Epsilon Error: 1.1165\n",
      "Epoch 131: Train Loss: 1.9013, Test Loss: 1.8930, Train Rho Error: 0.0000, Test Rho Error: 0.0000, Train Vx Error: 0.0000, Test Vx Error: 0.0000, Train Epsilon Error: 0.9965, Test Epsilon Error: 1.1164\n",
      "Epoch 132: Train Loss: 1.9013, Test Loss: 1.8930, Train Rho Error: 0.0000, Test Rho Error: 0.0000, Train Vx Error: 0.0000, Test Vx Error: 0.0000, Train Epsilon Error: 1.1588, Test Epsilon Error: 1.1164\n",
      "Epoch 133: Train Loss: 1.9013, Test Loss: 1.8929, Train Rho Error: 0.0000, Test Rho Error: 0.0000, Train Vx Error: 0.0000, Test Vx Error: 0.0000, Train Epsilon Error: 1.0056, Test Epsilon Error: 1.1165\n",
      "Epoch 134: Train Loss: 1.9012, Test Loss: 1.8929, Train Rho Error: 0.0000, Test Rho Error: 0.0000, Train Vx Error: 0.0000, Test Vx Error: 0.0000, Train Epsilon Error: 1.1661, Test Epsilon Error: 1.1163\n",
      "Epoch 135: Train Loss: 1.9012, Test Loss: 1.8930, Train Rho Error: 0.0000, Test Rho Error: 0.0000, Train Vx Error: 0.0000, Test Vx Error: 0.0000, Train Epsilon Error: 1.1236, Test Epsilon Error: 1.1168\n",
      "Epoch 136: Train Loss: 1.9012, Test Loss: 1.8929, Train Rho Error: 0.0000, Test Rho Error: 0.0000, Train Vx Error: 0.0000, Test Vx Error: 0.0000, Train Epsilon Error: 1.2370, Test Epsilon Error: 1.1166\n",
      "Epoch 137: Train Loss: 1.9012, Test Loss: 1.8929, Train Rho Error: 0.0000, Test Rho Error: 0.0000, Train Vx Error: 0.0000, Test Vx Error: 0.0000, Train Epsilon Error: 0.9596, Test Epsilon Error: 1.1161\n",
      "Epoch 138: Train Loss: 1.9011, Test Loss: 1.8928, Train Rho Error: 0.0000, Test Rho Error: 0.0000, Train Vx Error: 0.0000, Test Vx Error: 0.0000, Train Epsilon Error: 0.9566, Test Epsilon Error: 1.1159\n",
      "Epoch 139: Train Loss: 1.9011, Test Loss: 1.8928, Train Rho Error: 0.0000, Test Rho Error: 0.0000, Train Vx Error: 0.0000, Test Vx Error: 0.0000, Train Epsilon Error: 1.1049, Test Epsilon Error: 1.1161\n",
      "Epoch 140: Train Loss: 1.9011, Test Loss: 1.8928, Train Rho Error: 0.0000, Test Rho Error: 0.0000, Train Vx Error: 0.0000, Test Vx Error: 0.0000, Train Epsilon Error: 0.9840, Test Epsilon Error: 1.1161\n",
      "Epoch 141: Train Loss: 1.9011, Test Loss: 1.8928, Train Rho Error: 0.0000, Test Rho Error: 0.0000, Train Vx Error: 0.0000, Test Vx Error: 0.0000, Train Epsilon Error: 0.8934, Test Epsilon Error: 1.1162\n",
      "Epoch 142: Train Loss: 1.9010, Test Loss: 1.8928, Train Rho Error: 0.0000, Test Rho Error: 0.0000, Train Vx Error: 0.0000, Test Vx Error: 0.0000, Train Epsilon Error: 0.8839, Test Epsilon Error: 1.1159\n",
      "Epoch 143: Train Loss: 1.9010, Test Loss: 1.8928, Train Rho Error: 0.0000, Test Rho Error: 0.0000, Train Vx Error: 0.0000, Test Vx Error: 0.0000, Train Epsilon Error: 1.1499, Test Epsilon Error: 1.1159\n",
      "Epoch 144: Train Loss: 1.9010, Test Loss: 1.8928, Train Rho Error: 0.0000, Test Rho Error: 0.0000, Train Vx Error: 0.0000, Test Vx Error: 0.0000, Train Epsilon Error: 0.9825, Test Epsilon Error: 1.1160\n",
      "Epoch 145: Train Loss: 1.9010, Test Loss: 1.8927, Train Rho Error: 0.0000, Test Rho Error: 0.0000, Train Vx Error: 0.0000, Test Vx Error: 0.0000, Train Epsilon Error: 1.0217, Test Epsilon Error: 1.1155\n"
     ]
    },
    {
     "name": "stderr",
     "output_type": "stream",
     "text": [
      "NaN or Inf found in input tensor.\n"
     ]
    },
    {
     "name": "stdout",
     "output_type": "stream",
     "text": [
      "Epoch 146: Train Loss: 1.9010, Test Loss: 1.8927, Train Rho Error: 0.0000, Test Rho Error: 0.0000, Train Vx Error: 0.0000, Test Vx Error: 0.0000, Train Epsilon Error: inf, Test Epsilon Error: 1.1160\n",
      "Epoch 147: Train Loss: 1.9009, Test Loss: 1.8927, Train Rho Error: 0.0000, Test Rho Error: 0.0000, Train Vx Error: 0.0000, Test Vx Error: 0.0000, Train Epsilon Error: 0.9188, Test Epsilon Error: 1.1162\n"
     ]
    },
    {
     "name": "stderr",
     "output_type": "stream",
     "text": [
      "NaN or Inf found in input tensor.\n"
     ]
    },
    {
     "name": "stdout",
     "output_type": "stream",
     "text": [
      "Epoch 148: Train Loss: 1.9009, Test Loss: 1.8927, Train Rho Error: 0.0000, Test Rho Error: 0.0000, Train Vx Error: 0.0000, Test Vx Error: 0.0000, Train Epsilon Error: inf, Test Epsilon Error: 1.1160\n",
      "Epoch 149: Train Loss: 1.9009, Test Loss: 1.8927, Train Rho Error: 0.0000, Test Rho Error: 0.0000, Train Vx Error: 0.0000, Test Vx Error: 0.0000, Train Epsilon Error: 1.1711, Test Epsilon Error: 1.1160\n",
      "Epoch 150: Train Loss: 1.9009, Test Loss: 1.8927, Train Rho Error: 0.0000, Test Rho Error: 0.0000, Train Vx Error: 0.0000, Test Vx Error: 0.0000, Train Epsilon Error: 0.9296, Test Epsilon Error: 1.1161\n",
      "Epoch 151: Train Loss: 1.9008, Test Loss: 1.8927, Train Rho Error: 0.0000, Test Rho Error: 0.0000, Train Vx Error: 0.0000, Test Vx Error: 0.0000, Train Epsilon Error: 1.0931, Test Epsilon Error: 1.1159\n",
      "Epoch 152: Train Loss: 1.9008, Test Loss: 1.8927, Train Rho Error: 0.0000, Test Rho Error: 0.0000, Train Vx Error: 0.0000, Test Vx Error: 0.0000, Train Epsilon Error: 0.9479, Test Epsilon Error: 1.1161\n",
      "Epoch 153: Train Loss: 1.9008, Test Loss: 1.8927, Train Rho Error: 0.0000, Test Rho Error: 0.0000, Train Vx Error: 0.0000, Test Vx Error: 0.0000, Train Epsilon Error: 0.9480, Test Epsilon Error: 1.1163\n",
      "Epoch 154: Train Loss: 1.9008, Test Loss: 1.8926, Train Rho Error: 0.0000, Test Rho Error: 0.0000, Train Vx Error: 0.0000, Test Vx Error: 0.0000, Train Epsilon Error: 0.8672, Test Epsilon Error: 1.1162\n",
      "Epoch 155: Train Loss: 1.9008, Test Loss: 1.8926, Train Rho Error: 0.0000, Test Rho Error: 0.0000, Train Vx Error: 0.0000, Test Vx Error: 0.0000, Train Epsilon Error: 1.0046, Test Epsilon Error: 1.1161\n"
     ]
    },
    {
     "name": "stderr",
     "output_type": "stream",
     "text": [
      "\u001b[32m[I 2023-05-05 13:42:42,711]\u001b[0m Trial 6 finished with value: 1.1161072562277317 and parameters: {'n_layers': 2, 'n_units_0': 241, 'n_units_1': 127, 'hidden_activation': 'Tanh', 'output_activation': 'ReLU', 'loss': 'Huber', 'optimizer': 'SGD', 'lr': 0.00019896309706221718, 'batch_size': 349, 'n_epochs': 156, 'scheduler': 'ReduceLROnPlateau'}. Best is trial 1 with value: 0.5582342281554593.\u001b[0m\n"
     ]
    },
    {
     "name": "stdout",
     "output_type": "stream",
     "text": [
      "Epoch 156: Train Loss: 1.9008, Test Loss: 1.8926, Train Rho Error: 0.0000, Test Rho Error: 0.0000, Train Vx Error: 0.0000, Test Vx Error: 0.0000, Train Epsilon Error: 1.0350, Test Epsilon Error: 1.1161\n",
      "Epoch 1: Train Loss: 8.9739, Test Loss: 9.0563, Train Rho Error: 0.0000, Test Rho Error: 0.0000, Train Vx Error: 0.0000, Test Vx Error: 0.0000, Train Epsilon Error: 1.0376, Test Epsilon Error: 0.9628\n",
      "Epoch 2: Train Loss: 8.9648, Test Loss: 8.9751, Train Rho Error: 0.0000, Test Rho Error: 0.0000, Train Vx Error: 0.0000, Test Vx Error: 0.0000, Train Epsilon Error: 1.2076, Test Epsilon Error: 0.8645\n",
      "Epoch 3: Train Loss: 8.9576, Test Loss: 9.0232, Train Rho Error: 0.0000, Test Rho Error: 0.0000, Train Vx Error: 0.0000, Test Vx Error: 0.0000, Train Epsilon Error: 1.2162, Test Epsilon Error: 0.8324\n",
      "Epoch 4: Train Loss: 8.9592, Test Loss: 8.9642, Train Rho Error: 0.0000, Test Rho Error: 0.0000, Train Vx Error: 0.0000, Test Vx Error: 0.0000, Train Epsilon Error: 1.0378, Test Epsilon Error: 0.8868\n",
      "Epoch 5: Train Loss: 8.9511, Test Loss: 9.0497, Train Rho Error: 0.0000, Test Rho Error: 0.0000, Train Vx Error: 0.0000, Test Vx Error: 0.0000, Train Epsilon Error: 0.9649, Test Epsilon Error: 0.8242\n",
      "Epoch 6: Train Loss: 8.9468, Test Loss: 8.9683, Train Rho Error: 0.0000, Test Rho Error: 0.0000, Train Vx Error: 0.0000, Test Vx Error: 0.0000, Train Epsilon Error: 1.1565, Test Epsilon Error: 0.9030\n",
      "Epoch 7: Train Loss: 8.9339, Test Loss: 8.9772, Train Rho Error: 0.0000, Test Rho Error: 0.0000, Train Vx Error: 0.0000, Test Vx Error: 0.0000, Train Epsilon Error: 1.1243, Test Epsilon Error: 0.8614\n",
      "Epoch 8: Train Loss: 8.9261, Test Loss: 8.9692, Train Rho Error: 0.0000, Test Rho Error: 0.0000, Train Vx Error: 0.0000, Test Vx Error: 0.0000, Train Epsilon Error: 1.1492, Test Epsilon Error: 0.9058\n",
      "Epoch 9: Train Loss: 8.9195, Test Loss: 8.9695, Train Rho Error: 0.0000, Test Rho Error: 0.0000, Train Vx Error: 0.0000, Test Vx Error: 0.0000, Train Epsilon Error: 1.1746, Test Epsilon Error: 0.8713\n",
      "Epoch 10: Train Loss: 8.9148, Test Loss: 8.9648, Train Rho Error: 0.0000, Test Rho Error: 0.0000, Train Vx Error: 0.0000, Test Vx Error: 0.0000, Train Epsilon Error: 1.1163, Test Epsilon Error: 0.8898\n",
      "Epoch 11: Train Loss: 8.9136, Test Loss: 8.9648, Train Rho Error: 0.0000, Test Rho Error: 0.0000, Train Vx Error: 0.0000, Test Vx Error: 0.0000, Train Epsilon Error: 0.9778, Test Epsilon Error: 0.8898\n",
      "Epoch 12: Train Loss: 8.9147, Test Loss: 8.9700, Train Rho Error: 0.0000, Test Rho Error: 0.0000, Train Vx Error: 0.0000, Test Vx Error: 0.0000, Train Epsilon Error: 1.1237, Test Epsilon Error: 0.9037\n",
      "Epoch 13: Train Loss: 8.9189, Test Loss: 8.9659, Train Rho Error: 0.0000, Test Rho Error: 0.0000, Train Vx Error: 0.0000, Test Vx Error: 0.0000, Train Epsilon Error: 1.1614, Test Epsilon Error: 0.8954\n",
      "Epoch 14: Train Loss: 8.9238, Test Loss: 8.9732, Train Rho Error: 0.0000, Test Rho Error: 0.0000, Train Vx Error: 0.0000, Test Vx Error: 0.0000, Train Epsilon Error: 1.0516, Test Epsilon Error: 0.9047\n",
      "Epoch 15: Train Loss: 8.9303, Test Loss: 8.9643, Train Rho Error: 0.0000, Test Rho Error: 0.0000, Train Vx Error: 0.0000, Test Vx Error: 0.0000, Train Epsilon Error: 4.1989, Test Epsilon Error: 0.8914\n",
      "Epoch 16: Train Loss: 8.9406, Test Loss: 8.9822, Train Rho Error: 0.0000, Test Rho Error: 0.0000, Train Vx Error: 0.0000, Test Vx Error: 0.0000, Train Epsilon Error: 1.2183, Test Epsilon Error: 0.9211\n",
      "Epoch 17: Train Loss: 8.9506, Test Loss: 8.9666, Train Rho Error: 0.0000, Test Rho Error: 0.0000, Train Vx Error: 0.0000, Test Vx Error: 0.0000, Train Epsilon Error: 1.2710, Test Epsilon Error: 0.8767\n",
      "Epoch 18: Train Loss: 8.9531, Test Loss: 9.0762, Train Rho Error: 0.0000, Test Rho Error: 0.0000, Train Vx Error: 0.0000, Test Vx Error: 0.0000, Train Epsilon Error: 1.1296, Test Epsilon Error: 0.9705\n",
      "Epoch 19: Train Loss: 8.9697, Test Loss: 8.9819, Train Rho Error: 0.0000, Test Rho Error: 0.0000, Train Vx Error: 0.0000, Test Vx Error: 0.0000, Train Epsilon Error: 0.9535, Test Epsilon Error: 0.9208\n",
      "Epoch 20: Train Loss: 8.9678, Test Loss: 9.0833, Train Rho Error: 0.0000, Test Rho Error: 0.0000, Train Vx Error: 0.0000, Test Vx Error: 0.0000, Train Epsilon Error: 1.0514, Test Epsilon Error: 0.9731\n",
      "Epoch 21: Train Loss: 8.9645, Test Loss: 9.0285, Train Rho Error: 0.0000, Test Rho Error: 0.0000, Train Vx Error: 0.0000, Test Vx Error: 0.0000, Train Epsilon Error: 1.2175, Test Epsilon Error: 0.9504\n",
      "Epoch 22: Train Loss: 8.9506, Test Loss: 9.0264, Train Rho Error: 0.0000, Test Rho Error: 0.0000, Train Vx Error: 0.0000, Test Vx Error: 0.0000, Train Epsilon Error: 1.1994, Test Epsilon Error: 0.9493\n",
      "Epoch 23: Train Loss: 8.9558, Test Loss: 8.9766, Train Rho Error: 0.0000, Test Rho Error: 0.0000, Train Vx Error: 0.0000, Test Vx Error: 0.0000, Train Epsilon Error: 0.8889, Test Epsilon Error: 0.9155\n",
      "Epoch 24: Train Loss: 8.9488, Test Loss: 8.9839, Train Rho Error: 0.0000, Test Rho Error: 0.0000, Train Vx Error: 0.0000, Test Vx Error: 0.0000, Train Epsilon Error: 1.0111, Test Epsilon Error: 0.9225\n",
      "Epoch 25: Train Loss: 8.9472, Test Loss: 8.9642, Train Rho Error: 0.0000, Test Rho Error: 0.0000, Train Vx Error: 0.0000, Test Vx Error: 0.0000, Train Epsilon Error: 1.3207, Test Epsilon Error: 0.8865\n",
      "Epoch 26: Train Loss: 8.9310, Test Loss: 8.9794, Train Rho Error: 0.0000, Test Rho Error: 0.0000, Train Vx Error: 0.0000, Test Vx Error: 0.0000, Train Epsilon Error: 1.3515, Test Epsilon Error: 0.9184\n",
      "Epoch 27: Train Loss: 8.9319, Test Loss: 8.9658, Train Rho Error: 0.0000, Test Rho Error: 0.0000, Train Vx Error: 0.0000, Test Vx Error: 0.0000, Train Epsilon Error: 3.0587, Test Epsilon Error: 0.8984\n",
      "Epoch 28: Train Loss: 8.9259, Test Loss: 8.9728, Train Rho Error: 0.0000, Test Rho Error: 0.0000, Train Vx Error: 0.0000, Test Vx Error: 0.0000, Train Epsilon Error: 1.0523, Test Epsilon Error: 0.9111\n",
      "Epoch 29: Train Loss: 8.9197, Test Loss: 8.9691, Train Rho Error: 0.0000, Test Rho Error: 0.0000, Train Vx Error: 0.0000, Test Vx Error: 0.0000, Train Epsilon Error: 1.3700, Test Epsilon Error: 0.9056\n",
      "Epoch 30: Train Loss: 8.9155, Test Loss: 8.9667, Train Rho Error: 0.0000, Test Rho Error: 0.0000, Train Vx Error: 0.0000, Test Vx Error: 0.0000, Train Epsilon Error: 1.0794, Test Epsilon Error: 0.9009\n",
      "Epoch 31: Train Loss: 8.9147, Test Loss: 8.9667, Train Rho Error: 0.0000, Test Rho Error: 0.0000, Train Vx Error: 0.0000, Test Vx Error: 0.0000, Train Epsilon Error: 1.2759, Test Epsilon Error: 0.9009\n",
      "Epoch 32: Train Loss: 8.9150, Test Loss: 8.9645, Train Rho Error: 0.0000, Test Rho Error: 0.0000, Train Vx Error: 0.0000, Test Vx Error: 0.0000, Train Epsilon Error: 1.0707, Test Epsilon Error: 0.8844\n",
      "Epoch 33: Train Loss: 8.9200, Test Loss: 8.9763, Train Rho Error: 0.0000, Test Rho Error: 0.0000, Train Vx Error: 0.0000, Test Vx Error: 0.0000, Train Epsilon Error: 1.0599, Test Epsilon Error: 0.9152\n",
      "Epoch 34: Train Loss: 8.9239, Test Loss: 8.9664, Train Rho Error: 0.0000, Test Rho Error: 0.0000, Train Vx Error: 0.0000, Test Vx Error: 0.0000, Train Epsilon Error: 1.4577, Test Epsilon Error: 0.8773\n",
      "Epoch 35: Train Loss: 8.9338, Test Loss: 8.9693, Train Rho Error: 0.0000, Test Rho Error: 0.0000, Train Vx Error: 0.0000, Test Vx Error: 0.0000, Train Epsilon Error: 0.9026, Test Epsilon Error: 0.9059\n",
      "Epoch 36: Train Loss: 8.9395, Test Loss: 8.9647, Train Rho Error: 0.0000, Test Rho Error: 0.0000, Train Vx Error: 0.0000, Test Vx Error: 0.0000, Train Epsilon Error: 0.9109, Test Epsilon Error: 0.8830\n",
      "Epoch 37: Train Loss: 8.9481, Test Loss: 8.9880, Train Rho Error: 0.0000, Test Rho Error: 0.0000, Train Vx Error: 0.0000, Test Vx Error: 0.0000, Train Epsilon Error: 0.9760, Test Epsilon Error: 0.9260\n",
      "Epoch 38: Train Loss: 8.9528, Test Loss: 9.0658, Train Rho Error: 0.0000, Test Rho Error: 0.0000, Train Vx Error: 0.0000, Test Vx Error: 0.0000, Train Epsilon Error: 1.1335, Test Epsilon Error: 0.9665\n",
      "Epoch 39: Train Loss: 8.9658, Test Loss: 9.1171, Train Rho Error: 0.0000, Test Rho Error: 0.0000, Train Vx Error: 0.0000, Test Vx Error: 0.0000, Train Epsilon Error: 1.7549, Test Epsilon Error: 0.8108\n",
      "Epoch 40: Train Loss: 8.9595, Test Loss: 8.9755, Train Rho Error: 0.0000, Test Rho Error: 0.0000, Train Vx Error: 0.0000, Test Vx Error: 0.0000, Train Epsilon Error: 1.1693, Test Epsilon Error: 0.9143\n",
      "Epoch 41: Train Loss: 8.9600, Test Loss: 8.9971, Train Rho Error: 0.0000, Test Rho Error: 0.0000, Train Vx Error: 0.0000, Test Vx Error: 0.0000, Train Epsilon Error: 0.9413, Test Epsilon Error: 0.8458\n",
      "Epoch 42: Train Loss: 8.9694, Test Loss: 8.9687, Train Rho Error: 0.0000, Test Rho Error: 0.0000, Train Vx Error: 0.0000, Test Vx Error: 0.0000, Train Epsilon Error: 0.9871, Test Epsilon Error: 0.9048\n",
      "Epoch 43: Train Loss: 8.9578, Test Loss: 8.9728, Train Rho Error: 0.0000, Test Rho Error: 0.0000, Train Vx Error: 0.0000, Test Vx Error: 0.0000, Train Epsilon Error: 3.8452, Test Epsilon Error: 0.8665\n",
      "Epoch 44: Train Loss: 8.9567, Test Loss: 8.9787, Train Rho Error: 0.0000, Test Rho Error: 0.0000, Train Vx Error: 0.0000, Test Vx Error: 0.0000, Train Epsilon Error: 1.5235, Test Epsilon Error: 0.8600\n",
      "Epoch 45: Train Loss: 8.9427, Test Loss: 8.9699, Train Rho Error: 0.0000, Test Rho Error: 0.0000, Train Vx Error: 0.0000, Test Vx Error: 0.0000, Train Epsilon Error: 0.9121, Test Epsilon Error: 0.9069\n",
      "Epoch 46: Train Loss: 8.9401, Test Loss: 8.9862, Train Rho Error: 0.0000, Test Rho Error: 0.0000, Train Vx Error: 0.0000, Test Vx Error: 0.0000, Train Epsilon Error: 0.9231, Test Epsilon Error: 0.9245\n",
      "Epoch 47: Train Loss: 8.9328, Test Loss: 8.9647, Train Rho Error: 0.0000, Test Rho Error: 0.0000, Train Vx Error: 0.0000, Test Vx Error: 0.0000, Train Epsilon Error: 1.7701, Test Epsilon Error: 0.8942\n",
      "Epoch 48: Train Loss: 8.9234, Test Loss: 9.0149, Train Rho Error: 0.0000, Test Rho Error: 0.0000, Train Vx Error: 0.0000, Test Vx Error: 0.0000, Train Epsilon Error: 1.2657, Test Epsilon Error: 0.9433\n",
      "Epoch 49: Train Loss: 8.9179, Test Loss: 8.9642, Train Rho Error: 0.0000, Test Rho Error: 0.0000, Train Vx Error: 0.0000, Test Vx Error: 0.0000, Train Epsilon Error: 1.0926, Test Epsilon Error: 0.8909\n",
      "Epoch 50: Train Loss: 8.9153, Test Loss: 8.9643, Train Rho Error: 0.0000, Test Rho Error: 0.0000, Train Vx Error: 0.0000, Test Vx Error: 0.0000, Train Epsilon Error: 1.1777, Test Epsilon Error: 0.8920\n",
      "Epoch 51: Train Loss: 8.9137, Test Loss: 8.9643, Train Rho Error: 0.0000, Test Rho Error: 0.0000, Train Vx Error: 0.0000, Test Vx Error: 0.0000, Train Epsilon Error: 1.1933, Test Epsilon Error: 0.8920\n",
      "Epoch 52: Train Loss: 8.9158, Test Loss: 8.9666, Train Rho Error: 0.0000, Test Rho Error: 0.0000, Train Vx Error: 0.0000, Test Vx Error: 0.0000, Train Epsilon Error: 2.2477, Test Epsilon Error: 0.9006\n",
      "Epoch 53: Train Loss: 8.9181, Test Loss: 8.9650, Train Rho Error: 0.0000, Test Rho Error: 0.0000, Train Vx Error: 0.0000, Test Vx Error: 0.0000, Train Epsilon Error: 1.4743, Test Epsilon Error: 0.8816\n",
      "Epoch 54: Train Loss: 8.9232, Test Loss: 8.9692, Train Rho Error: 0.0000, Test Rho Error: 0.0000, Train Vx Error: 0.0000, Test Vx Error: 0.0000, Train Epsilon Error: 1.0166, Test Epsilon Error: 0.8717\n",
      "Epoch 55: Train Loss: 8.9293, Test Loss: 8.9697, Train Rho Error: 0.0000, Test Rho Error: 0.0000, Train Vx Error: 0.0000, Test Vx Error: 0.0000, Train Epsilon Error: 1.1988, Test Epsilon Error: 0.9066\n",
      "Epoch 56: Train Loss: 8.9360, Test Loss: 9.0069, Train Rho Error: 0.0000, Test Rho Error: 0.0000, Train Vx Error: 0.0000, Test Vx Error: 0.0000, Train Epsilon Error: 0.8908, Test Epsilon Error: 0.9388\n",
      "Epoch 57: Train Loss: 8.9497, Test Loss: 8.9770, Train Rho Error: 0.0000, Test Rho Error: 0.0000, Train Vx Error: 0.0000, Test Vx Error: 0.0000, Train Epsilon Error: 0.9207, Test Epsilon Error: 0.9160\n",
      "Epoch 58: Train Loss: 8.9521, Test Loss: 8.9703, Train Rho Error: 0.0000, Test Rho Error: 0.0000, Train Vx Error: 0.0000, Test Vx Error: 0.0000, Train Epsilon Error: 0.9986, Test Epsilon Error: 0.9076\n",
      "Epoch 59: Train Loss: 8.9620, Test Loss: 9.0944, Train Rho Error: 0.0000, Test Rho Error: 0.0000, Train Vx Error: 0.0000, Test Vx Error: 0.0000, Train Epsilon Error: 1.0554, Test Epsilon Error: 0.9771\n",
      "Epoch 60: Train Loss: 8.9583, Test Loss: 8.9642, Train Rho Error: 0.0000, Test Rho Error: 0.0000, Train Vx Error: 0.0000, Test Vx Error: 0.0000, Train Epsilon Error: 1.5265, Test Epsilon Error: 0.8895\n",
      "Epoch 61: Train Loss: 8.9707, Test Loss: 8.9766, Train Rho Error: 0.0000, Test Rho Error: 0.0000, Train Vx Error: 0.0000, Test Vx Error: 0.0000, Train Epsilon Error: 5.1419, Test Epsilon Error: 0.8621\n",
      "Epoch 62: Train Loss: 8.9593, Test Loss: 8.9812, Train Rho Error: 0.0000, Test Rho Error: 0.0000, Train Vx Error: 0.0000, Test Vx Error: 0.0000, Train Epsilon Error: 0.9761, Test Epsilon Error: 0.8577\n",
      "Epoch 63: Train Loss: 8.9653, Test Loss: 9.0037, Train Rho Error: 0.0000, Test Rho Error: 0.0000, Train Vx Error: 0.0000, Test Vx Error: 0.0000, Train Epsilon Error: 1.0889, Test Epsilon Error: 0.8418\n",
      "Epoch 64: Train Loss: 8.9559, Test Loss: 8.9641, Train Rho Error: 0.0000, Test Rho Error: 0.0000, Train Vx Error: 0.0000, Test Vx Error: 0.0000, Train Epsilon Error: 0.8629, Test Epsilon Error: 0.8881\n",
      "Epoch 65: Train Loss: 8.9506, Test Loss: 8.9742, Train Rho Error: 0.0000, Test Rho Error: 0.0000, Train Vx Error: 0.0000, Test Vx Error: 0.0000, Train Epsilon Error: 1.0214, Test Epsilon Error: 0.9127\n",
      "Epoch 66: Train Loss: 8.9392, Test Loss: 8.9843, Train Rho Error: 0.0000, Test Rho Error: 0.0000, Train Vx Error: 0.0000, Test Vx Error: 0.0000, Train Epsilon Error: 1.0944, Test Epsilon Error: 0.8550\n",
      "Epoch 67: Train Loss: 8.9316, Test Loss: 9.0128, Train Rho Error: 0.0000, Test Rho Error: 0.0000, Train Vx Error: 0.0000, Test Vx Error: 0.0000, Train Epsilon Error: 1.1805, Test Epsilon Error: 0.9422\n",
      "Epoch 68: Train Loss: 8.9242, Test Loss: 8.9660, Train Rho Error: 0.0000, Test Rho Error: 0.0000, Train Vx Error: 0.0000, Test Vx Error: 0.0000, Train Epsilon Error: 1.1535, Test Epsilon Error: 0.8784\n",
      "Epoch 69: Train Loss: 8.9184, Test Loss: 8.9700, Train Rho Error: 0.0000, Test Rho Error: 0.0000, Train Vx Error: 0.0000, Test Vx Error: 0.0000, Train Epsilon Error: 1.0309, Test Epsilon Error: 0.8705\n",
      "Epoch 70: Train Loss: 8.9159, Test Loss: 8.9649, Train Rho Error: 0.0000, Test Rho Error: 0.0000, Train Vx Error: 0.0000, Test Vx Error: 0.0000, Train Epsilon Error: 1.0539, Test Epsilon Error: 0.8952\n",
      "Epoch 71: Train Loss: 8.9137, Test Loss: 8.9649, Train Rho Error: 0.0000, Test Rho Error: 0.0000, Train Vx Error: 0.0000, Test Vx Error: 0.0000, Train Epsilon Error: 0.9198, Test Epsilon Error: 0.8952\n",
      "Epoch 72: Train Loss: 8.9153, Test Loss: 8.9642, Train Rho Error: 0.0000, Test Rho Error: 0.0000, Train Vx Error: 0.0000, Test Vx Error: 0.0000, Train Epsilon Error: 0.9768, Test Epsilon Error: 0.8902\n",
      "Epoch 73: Train Loss: 8.9191, Test Loss: 8.9707, Train Rho Error: 0.0000, Test Rho Error: 0.0000, Train Vx Error: 0.0000, Test Vx Error: 0.0000, Train Epsilon Error: 1.0762, Test Epsilon Error: 0.9081\n",
      "Epoch 74: Train Loss: 8.9240, Test Loss: 8.9705, Train Rho Error: 0.0000, Test Rho Error: 0.0000, Train Vx Error: 0.0000, Test Vx Error: 0.0000, Train Epsilon Error: 1.0471, Test Epsilon Error: 0.9078\n",
      "Epoch 75: Train Loss: 8.9314, Test Loss: 8.9695, Train Rho Error: 0.0000, Test Rho Error: 0.0000, Train Vx Error: 0.0000, Test Vx Error: 0.0000, Train Epsilon Error: 1.7371, Test Epsilon Error: 0.8712\n",
      "Epoch 76: Train Loss: 8.9377, Test Loss: 9.0095, Train Rho Error: 0.0000, Test Rho Error: 0.0000, Train Vx Error: 0.0000, Test Vx Error: 0.0000, Train Epsilon Error: 1.1839, Test Epsilon Error: 0.8386\n",
      "Epoch 77: Train Loss: 8.9477, Test Loss: 8.9863, Train Rho Error: 0.0000, Test Rho Error: 0.0000, Train Vx Error: 0.0000, Test Vx Error: 0.0000, Train Epsilon Error: 1.0040, Test Epsilon Error: 0.9246\n",
      "Epoch 78: Train Loss: 8.9533, Test Loss: 8.9967, Train Rho Error: 0.0000, Test Rho Error: 0.0000, Train Vx Error: 0.0000, Test Vx Error: 0.0000, Train Epsilon Error: 2.1329, Test Epsilon Error: 0.9323\n",
      "Epoch 79: Train Loss: 8.9603, Test Loss: 9.1025, Train Rho Error: 0.0000, Test Rho Error: 0.0000, Train Vx Error: 0.0000, Test Vx Error: 0.0000, Train Epsilon Error: 1.0385, Test Epsilon Error: 0.8134\n",
      "Epoch 80: Train Loss: 8.9647, Test Loss: 9.0133, Train Rho Error: 0.0000, Test Rho Error: 0.0000, Train Vx Error: 0.0000, Test Vx Error: 0.0000, Train Epsilon Error: 3.1167, Test Epsilon Error: 0.8366\n",
      "Epoch 81: Train Loss: 8.9625, Test Loss: 9.0864, Train Rho Error: 0.0000, Test Rho Error: 0.0000, Train Vx Error: 0.0000, Test Vx Error: 0.0000, Train Epsilon Error: 8.8786, Test Epsilon Error: 0.8164\n",
      "Epoch 82: Train Loss: 8.9619, Test Loss: 9.0145, Train Rho Error: 0.0000, Test Rho Error: 0.0000, Train Vx Error: 0.0000, Test Vx Error: 0.0000, Train Epsilon Error: 1.0587, Test Epsilon Error: 0.8360\n",
      "Epoch 83: Train Loss: 8.9569, Test Loss: 8.9641, Train Rho Error: 0.0000, Test Rho Error: 0.0000, Train Vx Error: 0.0000, Test Vx Error: 0.0000, Train Epsilon Error: 0.8757, Test Epsilon Error: 0.8893\n",
      "Epoch 84: Train Loss: 8.9511, Test Loss: 8.9658, Train Rho Error: 0.0000, Test Rho Error: 0.0000, Train Vx Error: 0.0000, Test Vx Error: 0.0000, Train Epsilon Error: 1.1421, Test Epsilon Error: 0.8984\n",
      "Epoch 85: Train Loss: 8.9459, Test Loss: 9.0018, Train Rho Error: 0.0000, Test Rho Error: 0.0000, Train Vx Error: 0.0000, Test Vx Error: 0.0000, Train Epsilon Error: 0.9471, Test Epsilon Error: 0.9357\n",
      "Epoch 86: Train Loss: 8.9385, Test Loss: 9.0216, Train Rho Error: 0.0000, Test Rho Error: 0.0000, Train Vx Error: 0.0000, Test Vx Error: 0.0000, Train Epsilon Error: 0.9479, Test Epsilon Error: 0.8325\n",
      "Epoch 87: Train Loss: 8.9322, Test Loss: 9.0003, Train Rho Error: 0.0000, Test Rho Error: 0.0000, Train Vx Error: 0.0000, Test Vx Error: 0.0000, Train Epsilon Error: 1.0799, Test Epsilon Error: 0.8438\n",
      "Epoch 88: Train Loss: 8.9252, Test Loss: 8.9645, Train Rho Error: 0.0000, Test Rho Error: 0.0000, Train Vx Error: 0.0000, Test Vx Error: 0.0000, Train Epsilon Error: 1.3457, Test Epsilon Error: 0.8842\n",
      "Epoch 89: Train Loss: 8.9180, Test Loss: 8.9642, Train Rho Error: 0.0000, Test Rho Error: 0.0000, Train Vx Error: 0.0000, Test Vx Error: 0.0000, Train Epsilon Error: 1.9395, Test Epsilon Error: 0.8871\n",
      "Epoch 90: Train Loss: 8.9151, Test Loss: 8.9642, Train Rho Error: 0.0000, Test Rho Error: 0.0000, Train Vx Error: 0.0000, Test Vx Error: 0.0000, Train Epsilon Error: 0.9808, Test Epsilon Error: 0.8906\n",
      "Epoch 91: Train Loss: 8.9137, Test Loss: 8.9642, Train Rho Error: 0.0000, Test Rho Error: 0.0000, Train Vx Error: 0.0000, Test Vx Error: 0.0000, Train Epsilon Error: 3.5924, Test Epsilon Error: 0.8906\n",
      "Epoch 92: Train Loss: 8.9155, Test Loss: 8.9642, Train Rho Error: 0.0000, Test Rho Error: 0.0000, Train Vx Error: 0.0000, Test Vx Error: 0.0000, Train Epsilon Error: 0.9433, Test Epsilon Error: 0.8900\n",
      "Epoch 93: Train Loss: 8.9192, Test Loss: 8.9674, Train Rho Error: 0.0000, Test Rho Error: 0.0000, Train Vx Error: 0.0000, Test Vx Error: 0.0000, Train Epsilon Error: 1.4635, Test Epsilon Error: 0.8750\n",
      "Epoch 94: Train Loss: 8.9246, Test Loss: 8.9657, Train Rho Error: 0.0000, Test Rho Error: 0.0000, Train Vx Error: 0.0000, Test Vx Error: 0.0000, Train Epsilon Error: 1.0807, Test Epsilon Error: 0.8981\n",
      "Epoch 95: Train Loss: 8.9322, Test Loss: 8.9646, Train Rho Error: 0.0000, Test Rho Error: 0.0000, Train Vx Error: 0.0000, Test Vx Error: 0.0000, Train Epsilon Error: 1.2635, Test Epsilon Error: 0.8940\n",
      "Epoch 96: Train Loss: 8.9416, Test Loss: 9.0079, Train Rho Error: 0.0000, Test Rho Error: 0.0000, Train Vx Error: 0.0000, Test Vx Error: 0.0000, Train Epsilon Error: 1.3736, Test Epsilon Error: 0.9394\n",
      "Epoch 97: Train Loss: 8.9511, Test Loss: 8.9685, Train Rho Error: 0.0000, Test Rho Error: 0.0000, Train Vx Error: 0.0000, Test Vx Error: 0.0000, Train Epsilon Error: 1.0550, Test Epsilon Error: 0.8729\n"
     ]
    },
    {
     "name": "stderr",
     "output_type": "stream",
     "text": [
      "\u001b[32m[I 2023-05-05 13:50:07,986]\u001b[0m Trial 7 finished with value: 0.8745131580880843 and parameters: {'n_layers': 2, 'n_units_0': 172, 'n_units_1': 43, 'hidden_activation': 'Tanh', 'output_activation': 'Linear', 'loss': 'MSE', 'optimizer': 'Adam', 'lr': 0.004826279272021873, 'batch_size': 34, 'n_epochs': 98, 'scheduler': 'CosineAnnealingLR'}. Best is trial 1 with value: 0.5582342281554593.\u001b[0m\n"
     ]
    },
    {
     "name": "stdout",
     "output_type": "stream",
     "text": [
      "Epoch 98: Train Loss: 8.9500, Test Loss: 8.9677, Train Rho Error: 0.0000, Test Rho Error: 0.0000, Train Vx Error: 0.0000, Test Vx Error: 0.0000, Train Epsilon Error: 0.9307, Test Epsilon Error: 0.8745\n",
      "Epoch 1: Train Loss: 1.7789, Test Loss: 1.7803, Train Rho Error: 0.0000, Test Rho Error: 0.0000, Train Vx Error: 0.0000, Test Vx Error: 0.0000, Train Epsilon Error: 1.5957, Test Epsilon Error: 0.7800\n",
      "Epoch 2: Train Loss: 1.7740, Test Loss: 1.7743, Train Rho Error: 0.0000, Test Rho Error: 0.0000, Train Vx Error: 0.0000, Test Vx Error: 0.0000, Train Epsilon Error: 0.9504, Test Epsilon Error: 0.7010\n",
      "Epoch 3: Train Loss: 1.7728, Test Loss: 1.7749, Train Rho Error: 0.0000, Test Rho Error: 0.0000, Train Vx Error: 0.0000, Test Vx Error: 0.0000, Train Epsilon Error: 0.7986, Test Epsilon Error: 0.7724\n",
      "Epoch 4: Train Loss: 1.7759, Test Loss: 1.7614, Train Rho Error: 0.0000, Test Rho Error: 0.0000, Train Vx Error: 0.0000, Test Vx Error: 0.0000, Train Epsilon Error: 0.8842, Test Epsilon Error: 0.7236\n",
      "Epoch 5: Train Loss: 1.7734, Test Loss: 1.7604, Train Rho Error: 0.0000, Test Rho Error: 0.0000, Train Vx Error: 0.0000, Test Vx Error: 0.0000, Train Epsilon Error: 0.8905, Test Epsilon Error: 0.7328\n",
      "Epoch 6: Train Loss: 1.7728, Test Loss: 1.7607, Train Rho Error: 0.0000, Test Rho Error: 0.0000, Train Vx Error: 0.0000, Test Vx Error: 0.0000, Train Epsilon Error: 1.1460, Test Epsilon Error: 0.7381\n",
      "Epoch 7: Train Loss: 1.7731, Test Loss: 1.7609, Train Rho Error: 0.0000, Test Rho Error: 0.0000, Train Vx Error: 0.0000, Test Vx Error: 0.0000, Train Epsilon Error: 0.8918, Test Epsilon Error: 0.7399\n",
      "Epoch 8: Train Loss: 1.7722, Test Loss: 1.7803, Train Rho Error: 0.0000, Test Rho Error: 0.0000, Train Vx Error: 0.0000, Test Vx Error: 0.0000, Train Epsilon Error: 1.4769, Test Epsilon Error: 0.6958\n",
      "Epoch 9: Train Loss: 1.7730, Test Loss: 1.7658, Train Rho Error: 0.0000, Test Rho Error: 0.0000, Train Vx Error: 0.0000, Test Vx Error: 0.0000, Train Epsilon Error: 0.8778, Test Epsilon Error: 0.7548\n",
      "Epoch 10: Train Loss: 1.7731, Test Loss: 1.7791, Train Rho Error: 0.0000, Test Rho Error: 0.0000, Train Vx Error: 0.0000, Test Vx Error: 0.0000, Train Epsilon Error: 1.0116, Test Epsilon Error: 0.6967\n",
      "Epoch 11: Train Loss: 1.7724, Test Loss: 1.7613, Train Rho Error: 0.0000, Test Rho Error: 0.0000, Train Vx Error: 0.0000, Test Vx Error: 0.0000, Train Epsilon Error: 2.2606, Test Epsilon Error: 0.7421\n",
      "Epoch 12: Train Loss: 1.7723, Test Loss: 1.7714, Train Rho Error: 0.0000, Test Rho Error: 0.0000, Train Vx Error: 0.0000, Test Vx Error: 0.0000, Train Epsilon Error: 0.8981, Test Epsilon Error: 0.7041\n",
      "Epoch 13: Train Loss: 1.7730, Test Loss: 1.7777, Train Rho Error: 0.0000, Test Rho Error: 0.0000, Train Vx Error: 0.0000, Test Vx Error: 0.0000, Train Epsilon Error: 1.3943, Test Epsilon Error: 0.7763\n",
      "Epoch 14: Train Loss: 1.7730, Test Loss: 1.7701, Train Rho Error: 0.0000, Test Rho Error: 0.0000, Train Vx Error: 0.0000, Test Vx Error: 0.0000, Train Epsilon Error: 0.8450, Test Epsilon Error: 0.7057\n",
      "Epoch 15: Train Loss: 1.7729, Test Loss: 1.7762, Train Rho Error: 0.0000, Test Rho Error: 0.0000, Train Vx Error: 0.0000, Test Vx Error: 0.0000, Train Epsilon Error: 0.8797, Test Epsilon Error: 0.7745\n",
      "Epoch 16: Train Loss: 1.7730, Test Loss: 1.7722, Train Rho Error: 0.0000, Test Rho Error: 0.0000, Train Vx Error: 0.0000, Test Vx Error: 0.0000, Train Epsilon Error: 1.0682, Test Epsilon Error: 0.7681\n",
      "Epoch 17: Train Loss: 1.7688, Test Loss: 1.7606, Train Rho Error: 0.0000, Test Rho Error: 0.0000, Train Vx Error: 0.0000, Test Vx Error: 0.0000, Train Epsilon Error: 1.0983, Test Epsilon Error: 0.7370\n",
      "Epoch 18: Train Loss: 1.7686, Test Loss: 1.7609, Train Rho Error: 0.0000, Test Rho Error: 0.0000, Train Vx Error: 0.0000, Test Vx Error: 0.0000, Train Epsilon Error: 0.8490, Test Epsilon Error: 0.7394\n",
      "Epoch 19: Train Loss: 1.7688, Test Loss: 1.7605, Train Rho Error: 0.0000, Test Rho Error: 0.0000, Train Vx Error: 0.0000, Test Vx Error: 0.0000, Train Epsilon Error: 1.0029, Test Epsilon Error: 0.7351\n",
      "Epoch 20: Train Loss: 1.7686, Test Loss: 1.7604, Train Rho Error: 0.0000, Test Rho Error: 0.0000, Train Vx Error: 0.0000, Test Vx Error: 0.0000, Train Epsilon Error: 1.2778, Test Epsilon Error: 0.7351\n",
      "Epoch 21: Train Loss: 1.7686, Test Loss: 1.7604, Train Rho Error: 0.0000, Test Rho Error: 0.0000, Train Vx Error: 0.0000, Test Vx Error: 0.0000, Train Epsilon Error: 1.0071, Test Epsilon Error: 0.7352\n",
      "Epoch 22: Train Loss: 1.7688, Test Loss: 1.7629, Train Rho Error: 0.0000, Test Rho Error: 0.0000, Train Vx Error: 0.0000, Test Vx Error: 0.0000, Train Epsilon Error: 0.8367, Test Epsilon Error: 0.7485\n",
      "Epoch 23: Train Loss: 1.7687, Test Loss: 1.7604, Train Rho Error: 0.0000, Test Rho Error: 0.0000, Train Vx Error: 0.0000, Test Vx Error: 0.0000, Train Epsilon Error: 1.0155, Test Epsilon Error: 0.7350\n",
      "Epoch 24: Train Loss: 1.7686, Test Loss: 1.7604, Train Rho Error: 0.0000, Test Rho Error: 0.0000, Train Vx Error: 0.0000, Test Vx Error: 0.0000, Train Epsilon Error: 0.8590, Test Epsilon Error: 0.7336\n",
      "Epoch 25: Train Loss: 1.7687, Test Loss: 1.7604, Train Rho Error: 0.0000, Test Rho Error: 0.0000, Train Vx Error: 0.0000, Test Vx Error: 0.0000, Train Epsilon Error: 0.9516, Test Epsilon Error: 0.7352\n",
      "Epoch 26: Train Loss: 1.7686, Test Loss: 1.7645, Train Rho Error: 0.0000, Test Rho Error: 0.0000, Train Vx Error: 0.0000, Test Vx Error: 0.0000, Train Epsilon Error: 0.9506, Test Epsilon Error: 0.7529\n",
      "Epoch 27: Train Loss: 1.7687, Test Loss: 1.7604, Train Rho Error: 0.0000, Test Rho Error: 0.0000, Train Vx Error: 0.0000, Test Vx Error: 0.0000, Train Epsilon Error: 0.9256, Test Epsilon Error: 0.7314\n",
      "Epoch 28: Train Loss: 1.7682, Test Loss: 1.7607, Train Rho Error: 0.0000, Test Rho Error: 0.0000, Train Vx Error: 0.0000, Test Vx Error: 0.0000, Train Epsilon Error: 1.2129, Test Epsilon Error: 0.7382\n",
      "Epoch 29: Train Loss: 1.7682, Test Loss: 1.7607, Train Rho Error: 0.0000, Test Rho Error: 0.0000, Train Vx Error: 0.0000, Test Vx Error: 0.0000, Train Epsilon Error: 0.9309, Test Epsilon Error: 0.7380\n",
      "Epoch 30: Train Loss: 1.7682, Test Loss: 1.7606, Train Rho Error: 0.0000, Test Rho Error: 0.0000, Train Vx Error: 0.0000, Test Vx Error: 0.0000, Train Epsilon Error: 0.9509, Test Epsilon Error: 0.7363\n",
      "Epoch 31: Train Loss: 1.7681, Test Loss: 1.7605, Train Rho Error: 0.0000, Test Rho Error: 0.0000, Train Vx Error: 0.0000, Test Vx Error: 0.0000, Train Epsilon Error: 1.3952, Test Epsilon Error: 0.7354\n",
      "Epoch 32: Train Loss: 1.7681, Test Loss: 1.7609, Train Rho Error: 0.0000, Test Rho Error: 0.0000, Train Vx Error: 0.0000, Test Vx Error: 0.0000, Train Epsilon Error: 0.8611, Test Epsilon Error: 0.7394\n",
      "Epoch 33: Train Loss: 1.7681, Test Loss: 1.7607, Train Rho Error: 0.0000, Test Rho Error: 0.0000, Train Vx Error: 0.0000, Test Vx Error: 0.0000, Train Epsilon Error: 0.8876, Test Epsilon Error: 0.7375\n",
      "Epoch 34: Train Loss: 1.7681, Test Loss: 1.7606, Train Rho Error: 0.0000, Test Rho Error: 0.0000, Train Vx Error: 0.0000, Test Vx Error: 0.0000, Train Epsilon Error: 1.1076, Test Epsilon Error: 0.7366\n",
      "Epoch 35: Train Loss: 1.7681, Test Loss: 1.7608, Train Rho Error: 0.0000, Test Rho Error: 0.0000, Train Vx Error: 0.0000, Test Vx Error: 0.0000, Train Epsilon Error: 0.9511, Test Epsilon Error: 0.7382\n",
      "Epoch 36: Train Loss: 1.7681, Test Loss: 1.7607, Train Rho Error: 0.0000, Test Rho Error: 0.0000, Train Vx Error: 0.0000, Test Vx Error: 0.0000, Train Epsilon Error: 0.9666, Test Epsilon Error: 0.7365\n",
      "Epoch 37: Train Loss: 1.7681, Test Loss: 1.7607, Train Rho Error: 0.0000, Test Rho Error: 0.0000, Train Vx Error: 0.0000, Test Vx Error: 0.0000, Train Epsilon Error: 1.3227, Test Epsilon Error: 0.7366\n",
      "Epoch 38: Train Loss: 1.7681, Test Loss: 1.7607, Train Rho Error: 0.0000, Test Rho Error: 0.0000, Train Vx Error: 0.0000, Test Vx Error: 0.0000, Train Epsilon Error: 1.3736, Test Epsilon Error: 0.7367\n",
      "Epoch 39: Train Loss: 1.7680, Test Loss: 1.7607, Train Rho Error: 0.0000, Test Rho Error: 0.0000, Train Vx Error: 0.0000, Test Vx Error: 0.0000, Train Epsilon Error: 1.1346, Test Epsilon Error: 0.7367\n",
      "Epoch 40: Train Loss: 1.7680, Test Loss: 1.7607, Train Rho Error: 0.0000, Test Rho Error: 0.0000, Train Vx Error: 0.0000, Test Vx Error: 0.0000, Train Epsilon Error: 1.2797, Test Epsilon Error: 0.7366\n",
      "Epoch 41: Train Loss: 1.7680, Test Loss: 1.7607, Train Rho Error: 0.0000, Test Rho Error: 0.0000, Train Vx Error: 0.0000, Test Vx Error: 0.0000, Train Epsilon Error: 0.8580, Test Epsilon Error: 0.7366\n",
      "Epoch 42: Train Loss: 1.7680, Test Loss: 1.7607, Train Rho Error: 0.0000, Test Rho Error: 0.0000, Train Vx Error: 0.0000, Test Vx Error: 0.0000, Train Epsilon Error: 0.8545, Test Epsilon Error: 0.7368\n",
      "Epoch 43: Train Loss: 1.7680, Test Loss: 1.7607, Train Rho Error: 0.0000, Test Rho Error: 0.0000, Train Vx Error: 0.0000, Test Vx Error: 0.0000, Train Epsilon Error: 0.9403, Test Epsilon Error: 0.7366\n",
      "Epoch 44: Train Loss: 1.7680, Test Loss: 1.7607, Train Rho Error: 0.0000, Test Rho Error: 0.0000, Train Vx Error: 0.0000, Test Vx Error: 0.0000, Train Epsilon Error: 1.1722, Test Epsilon Error: 0.7365\n",
      "Epoch 45: Train Loss: 1.7680, Test Loss: 1.7607, Train Rho Error: 0.0000, Test Rho Error: 0.0000, Train Vx Error: 0.0000, Test Vx Error: 0.0000, Train Epsilon Error: 0.7971, Test Epsilon Error: 0.7365\n",
      "Epoch 46: Train Loss: 1.7680, Test Loss: 1.7607, Train Rho Error: 0.0000, Test Rho Error: 0.0000, Train Vx Error: 0.0000, Test Vx Error: 0.0000, Train Epsilon Error: 0.8798, Test Epsilon Error: 0.7366\n",
      "Epoch 47: Train Loss: 1.7680, Test Loss: 1.7607, Train Rho Error: 0.0000, Test Rho Error: 0.0000, Train Vx Error: 0.0000, Test Vx Error: 0.0000, Train Epsilon Error: 0.9898, Test Epsilon Error: 0.7367\n",
      "Epoch 48: Train Loss: 1.7680, Test Loss: 1.7607, Train Rho Error: 0.0000, Test Rho Error: 0.0000, Train Vx Error: 0.0000, Test Vx Error: 0.0000, Train Epsilon Error: 0.9613, Test Epsilon Error: 0.7366\n",
      "Epoch 49: Train Loss: 1.7680, Test Loss: 1.7607, Train Rho Error: 0.0000, Test Rho Error: 0.0000, Train Vx Error: 0.0000, Test Vx Error: 0.0000, Train Epsilon Error: 0.9499, Test Epsilon Error: 0.7366\n",
      "Epoch 50: Train Loss: 1.7680, Test Loss: 1.7607, Train Rho Error: 0.0000, Test Rho Error: 0.0000, Train Vx Error: 0.0000, Test Vx Error: 0.0000, Train Epsilon Error: 1.3447, Test Epsilon Error: 0.7366\n",
      "Epoch 51: Train Loss: 1.7680, Test Loss: 1.7607, Train Rho Error: 0.0000, Test Rho Error: 0.0000, Train Vx Error: 0.0000, Test Vx Error: 0.0000, Train Epsilon Error: 1.0035, Test Epsilon Error: 0.7366\n",
      "Epoch 52: Train Loss: 1.7680, Test Loss: 1.7607, Train Rho Error: 0.0000, Test Rho Error: 0.0000, Train Vx Error: 0.0000, Test Vx Error: 0.0000, Train Epsilon Error: 1.6133, Test Epsilon Error: 0.7366\n",
      "Epoch 53: Train Loss: 1.7680, Test Loss: 1.7607, Train Rho Error: 0.0000, Test Rho Error: 0.0000, Train Vx Error: 0.0000, Test Vx Error: 0.0000, Train Epsilon Error: 1.0585, Test Epsilon Error: 0.7366\n",
      "Epoch 54: Train Loss: 1.7680, Test Loss: 1.7607, Train Rho Error: 0.0000, Test Rho Error: 0.0000, Train Vx Error: 0.0000, Test Vx Error: 0.0000, Train Epsilon Error: 1.0946, Test Epsilon Error: 0.7366\n",
      "Epoch 55: Train Loss: 1.7680, Test Loss: 1.7607, Train Rho Error: 0.0000, Test Rho Error: 0.0000, Train Vx Error: 0.0000, Test Vx Error: 0.0000, Train Epsilon Error: 0.8914, Test Epsilon Error: 0.7366\n",
      "Epoch 56: Train Loss: 1.7680, Test Loss: 1.7607, Train Rho Error: 0.0000, Test Rho Error: 0.0000, Train Vx Error: 0.0000, Test Vx Error: 0.0000, Train Epsilon Error: 1.1700, Test Epsilon Error: 0.7366\n",
      "Epoch 57: Train Loss: 1.7680, Test Loss: 1.7607, Train Rho Error: 0.0000, Test Rho Error: 0.0000, Train Vx Error: 0.0000, Test Vx Error: 0.0000, Train Epsilon Error: 1.1092, Test Epsilon Error: 0.7366\n",
      "Epoch 58: Train Loss: 1.7680, Test Loss: 1.7607, Train Rho Error: 0.0000, Test Rho Error: 0.0000, Train Vx Error: 0.0000, Test Vx Error: 0.0000, Train Epsilon Error: 1.1447, Test Epsilon Error: 0.7366\n",
      "Epoch 59: Train Loss: 1.7680, Test Loss: 1.7607, Train Rho Error: 0.0000, Test Rho Error: 0.0000, Train Vx Error: 0.0000, Test Vx Error: 0.0000, Train Epsilon Error: 1.1179, Test Epsilon Error: 0.7366\n",
      "Epoch 60: Train Loss: 1.7680, Test Loss: 1.7607, Train Rho Error: 0.0000, Test Rho Error: 0.0000, Train Vx Error: 0.0000, Test Vx Error: 0.0000, Train Epsilon Error: 1.3921, Test Epsilon Error: 0.7366\n",
      "Epoch 61: Train Loss: 1.7680, Test Loss: 1.7607, Train Rho Error: 0.0000, Test Rho Error: 0.0000, Train Vx Error: 0.0000, Test Vx Error: 0.0000, Train Epsilon Error: 0.8417, Test Epsilon Error: 0.7366\n",
      "Epoch 62: Train Loss: 1.7680, Test Loss: 1.7607, Train Rho Error: 0.0000, Test Rho Error: 0.0000, Train Vx Error: 0.0000, Test Vx Error: 0.0000, Train Epsilon Error: 0.9585, Test Epsilon Error: 0.7366\n",
      "Epoch 63: Train Loss: 1.7680, Test Loss: 1.7607, Train Rho Error: 0.0000, Test Rho Error: 0.0000, Train Vx Error: 0.0000, Test Vx Error: 0.0000, Train Epsilon Error: 1.2104, Test Epsilon Error: 0.7366\n",
      "Epoch 64: Train Loss: 1.7680, Test Loss: 1.7607, Train Rho Error: 0.0000, Test Rho Error: 0.0000, Train Vx Error: 0.0000, Test Vx Error: 0.0000, Train Epsilon Error: 1.0380, Test Epsilon Error: 0.7366\n",
      "Epoch 65: Train Loss: 1.7680, Test Loss: 1.7607, Train Rho Error: 0.0000, Test Rho Error: 0.0000, Train Vx Error: 0.0000, Test Vx Error: 0.0000, Train Epsilon Error: 1.0029, Test Epsilon Error: 0.7366\n",
      "Epoch 66: Train Loss: 1.7680, Test Loss: 1.7607, Train Rho Error: 0.0000, Test Rho Error: 0.0000, Train Vx Error: 0.0000, Test Vx Error: 0.0000, Train Epsilon Error: 1.8004, Test Epsilon Error: 0.7366\n",
      "Epoch 67: Train Loss: 1.7680, Test Loss: 1.7607, Train Rho Error: 0.0000, Test Rho Error: 0.0000, Train Vx Error: 0.0000, Test Vx Error: 0.0000, Train Epsilon Error: 1.3909, Test Epsilon Error: 0.7366\n",
      "Epoch 68: Train Loss: 1.7680, Test Loss: 1.7607, Train Rho Error: 0.0000, Test Rho Error: 0.0000, Train Vx Error: 0.0000, Test Vx Error: 0.0000, Train Epsilon Error: 0.8656, Test Epsilon Error: 0.7366\n",
      "Epoch 69: Train Loss: 1.7680, Test Loss: 1.7607, Train Rho Error: 0.0000, Test Rho Error: 0.0000, Train Vx Error: 0.0000, Test Vx Error: 0.0000, Train Epsilon Error: 0.8034, Test Epsilon Error: 0.7366\n",
      "Epoch 70: Train Loss: 1.7680, Test Loss: 1.7607, Train Rho Error: 0.0000, Test Rho Error: 0.0000, Train Vx Error: 0.0000, Test Vx Error: 0.0000, Train Epsilon Error: 0.8732, Test Epsilon Error: 0.7366\n",
      "Epoch 71: Train Loss: 1.7680, Test Loss: 1.7607, Train Rho Error: 0.0000, Test Rho Error: 0.0000, Train Vx Error: 0.0000, Test Vx Error: 0.0000, Train Epsilon Error: 1.5412, Test Epsilon Error: 0.7366\n",
      "Epoch 72: Train Loss: 1.7680, Test Loss: 1.7607, Train Rho Error: 0.0000, Test Rho Error: 0.0000, Train Vx Error: 0.0000, Test Vx Error: 0.0000, Train Epsilon Error: 1.0893, Test Epsilon Error: 0.7366\n",
      "Epoch 73: Train Loss: 1.7680, Test Loss: 1.7607, Train Rho Error: 0.0000, Test Rho Error: 0.0000, Train Vx Error: 0.0000, Test Vx Error: 0.0000, Train Epsilon Error: 2.3433, Test Epsilon Error: 0.7366\n",
      "Epoch 74: Train Loss: 1.7680, Test Loss: 1.7607, Train Rho Error: 0.0000, Test Rho Error: 0.0000, Train Vx Error: 0.0000, Test Vx Error: 0.0000, Train Epsilon Error: 0.9935, Test Epsilon Error: 0.7366\n",
      "Epoch 75: Train Loss: 1.7680, Test Loss: 1.7607, Train Rho Error: 0.0000, Test Rho Error: 0.0000, Train Vx Error: 0.0000, Test Vx Error: 0.0000, Train Epsilon Error: 1.0896, Test Epsilon Error: 0.7366\n",
      "Epoch 76: Train Loss: 1.7680, Test Loss: 1.7607, Train Rho Error: 0.0000, Test Rho Error: 0.0000, Train Vx Error: 0.0000, Test Vx Error: 0.0000, Train Epsilon Error: 0.8659, Test Epsilon Error: 0.7366\n",
      "Epoch 77: Train Loss: 1.7680, Test Loss: 1.7607, Train Rho Error: 0.0000, Test Rho Error: 0.0000, Train Vx Error: 0.0000, Test Vx Error: 0.0000, Train Epsilon Error: 1.0384, Test Epsilon Error: 0.7366\n",
      "Epoch 78: Train Loss: 1.7680, Test Loss: 1.7607, Train Rho Error: 0.0000, Test Rho Error: 0.0000, Train Vx Error: 0.0000, Test Vx Error: 0.0000, Train Epsilon Error: 1.1575, Test Epsilon Error: 0.7366\n",
      "Epoch 79: Train Loss: 1.7680, Test Loss: 1.7607, Train Rho Error: 0.0000, Test Rho Error: 0.0000, Train Vx Error: 0.0000, Test Vx Error: 0.0000, Train Epsilon Error: 0.8537, Test Epsilon Error: 0.7366\n",
      "Epoch 80: Train Loss: 1.7680, Test Loss: 1.7607, Train Rho Error: 0.0000, Test Rho Error: 0.0000, Train Vx Error: 0.0000, Test Vx Error: 0.0000, Train Epsilon Error: 0.8467, Test Epsilon Error: 0.7366\n",
      "Epoch 81: Train Loss: 1.7680, Test Loss: 1.7607, Train Rho Error: 0.0000, Test Rho Error: 0.0000, Train Vx Error: 0.0000, Test Vx Error: 0.0000, Train Epsilon Error: 1.0400, Test Epsilon Error: 0.7366\n",
      "Epoch 82: Train Loss: 1.7680, Test Loss: 1.7607, Train Rho Error: 0.0000, Test Rho Error: 0.0000, Train Vx Error: 0.0000, Test Vx Error: 0.0000, Train Epsilon Error: 0.9620, Test Epsilon Error: 0.7366\n",
      "Epoch 83: Train Loss: 1.7680, Test Loss: 1.7607, Train Rho Error: 0.0000, Test Rho Error: 0.0000, Train Vx Error: 0.0000, Test Vx Error: 0.0000, Train Epsilon Error: 0.8690, Test Epsilon Error: 0.7366\n",
      "Epoch 84: Train Loss: 1.7680, Test Loss: 1.7607, Train Rho Error: 0.0000, Test Rho Error: 0.0000, Train Vx Error: 0.0000, Test Vx Error: 0.0000, Train Epsilon Error: 0.9804, Test Epsilon Error: 0.7366\n",
      "Epoch 85: Train Loss: 1.7680, Test Loss: 1.7607, Train Rho Error: 0.0000, Test Rho Error: 0.0000, Train Vx Error: 0.0000, Test Vx Error: 0.0000, Train Epsilon Error: 0.9896, Test Epsilon Error: 0.7366\n",
      "Epoch 86: Train Loss: 1.7680, Test Loss: 1.7607, Train Rho Error: 0.0000, Test Rho Error: 0.0000, Train Vx Error: 0.0000, Test Vx Error: 0.0000, Train Epsilon Error: 0.8468, Test Epsilon Error: 0.7366\n",
      "Epoch 87: Train Loss: 1.7680, Test Loss: 1.7607, Train Rho Error: 0.0000, Test Rho Error: 0.0000, Train Vx Error: 0.0000, Test Vx Error: 0.0000, Train Epsilon Error: 1.0090, Test Epsilon Error: 0.7366\n",
      "Epoch 88: Train Loss: 1.7680, Test Loss: 1.7607, Train Rho Error: 0.0000, Test Rho Error: 0.0000, Train Vx Error: 0.0000, Test Vx Error: 0.0000, Train Epsilon Error: 1.0299, Test Epsilon Error: 0.7366\n",
      "Epoch 89: Train Loss: 1.7680, Test Loss: 1.7607, Train Rho Error: 0.0000, Test Rho Error: 0.0000, Train Vx Error: 0.0000, Test Vx Error: 0.0000, Train Epsilon Error: 0.9559, Test Epsilon Error: 0.7366\n",
      "Epoch 90: Train Loss: 1.7680, Test Loss: 1.7607, Train Rho Error: 0.0000, Test Rho Error: 0.0000, Train Vx Error: 0.0000, Test Vx Error: 0.0000, Train Epsilon Error: 0.8022, Test Epsilon Error: 0.7366\n",
      "Epoch 91: Train Loss: 1.7680, Test Loss: 1.7607, Train Rho Error: 0.0000, Test Rho Error: 0.0000, Train Vx Error: 0.0000, Test Vx Error: 0.0000, Train Epsilon Error: 0.9565, Test Epsilon Error: 0.7366\n",
      "Epoch 92: Train Loss: 1.7680, Test Loss: 1.7607, Train Rho Error: 0.0000, Test Rho Error: 0.0000, Train Vx Error: 0.0000, Test Vx Error: 0.0000, Train Epsilon Error: 0.9443, Test Epsilon Error: 0.7366\n",
      "Epoch 93: Train Loss: 1.7680, Test Loss: 1.7607, Train Rho Error: 0.0000, Test Rho Error: 0.0000, Train Vx Error: 0.0000, Test Vx Error: 0.0000, Train Epsilon Error: 0.7908, Test Epsilon Error: 0.7366\n",
      "Epoch 94: Train Loss: 1.7680, Test Loss: 1.7607, Train Rho Error: 0.0000, Test Rho Error: 0.0000, Train Vx Error: 0.0000, Test Vx Error: 0.0000, Train Epsilon Error: 0.9939, Test Epsilon Error: 0.7366\n",
      "Epoch 95: Train Loss: 1.7680, Test Loss: 1.7607, Train Rho Error: 0.0000, Test Rho Error: 0.0000, Train Vx Error: 0.0000, Test Vx Error: 0.0000, Train Epsilon Error: 1.4977, Test Epsilon Error: 0.7366\n",
      "Epoch 96: Train Loss: 1.7680, Test Loss: 1.7607, Train Rho Error: 0.0000, Test Rho Error: 0.0000, Train Vx Error: 0.0000, Test Vx Error: 0.0000, Train Epsilon Error: 1.1822, Test Epsilon Error: 0.7366\n",
      "Epoch 97: Train Loss: 1.7680, Test Loss: 1.7607, Train Rho Error: 0.0000, Test Rho Error: 0.0000, Train Vx Error: 0.0000, Test Vx Error: 0.0000, Train Epsilon Error: 1.7963, Test Epsilon Error: 0.7366\n",
      "Epoch 98: Train Loss: 1.7680, Test Loss: 1.7607, Train Rho Error: 0.0000, Test Rho Error: 0.0000, Train Vx Error: 0.0000, Test Vx Error: 0.0000, Train Epsilon Error: 0.8884, Test Epsilon Error: 0.7366\n",
      "Epoch 99: Train Loss: 1.7680, Test Loss: 1.7607, Train Rho Error: 0.0000, Test Rho Error: 0.0000, Train Vx Error: 0.0000, Test Vx Error: 0.0000, Train Epsilon Error: 1.0210, Test Epsilon Error: 0.7366\n",
      "Epoch 100: Train Loss: 1.7680, Test Loss: 1.7607, Train Rho Error: 0.0000, Test Rho Error: 0.0000, Train Vx Error: 0.0000, Test Vx Error: 0.0000, Train Epsilon Error: 1.2040, Test Epsilon Error: 0.7366\n",
      "Epoch 101: Train Loss: 1.7680, Test Loss: 1.7607, Train Rho Error: 0.0000, Test Rho Error: 0.0000, Train Vx Error: 0.0000, Test Vx Error: 0.0000, Train Epsilon Error: 0.8508, Test Epsilon Error: 0.7366\n",
      "Epoch 102: Train Loss: 1.7680, Test Loss: 1.7607, Train Rho Error: 0.0000, Test Rho Error: 0.0000, Train Vx Error: 0.0000, Test Vx Error: 0.0000, Train Epsilon Error: 1.0252, Test Epsilon Error: 0.7366\n",
      "Epoch 103: Train Loss: 1.7680, Test Loss: 1.7607, Train Rho Error: 0.0000, Test Rho Error: 0.0000, Train Vx Error: 0.0000, Test Vx Error: 0.0000, Train Epsilon Error: 1.0996, Test Epsilon Error: 0.7366\n",
      "Epoch 104: Train Loss: 1.7680, Test Loss: 1.7607, Train Rho Error: 0.0000, Test Rho Error: 0.0000, Train Vx Error: 0.0000, Test Vx Error: 0.0000, Train Epsilon Error: 1.0173, Test Epsilon Error: 0.7366\n",
      "Epoch 105: Train Loss: 1.7680, Test Loss: 1.7607, Train Rho Error: 0.0000, Test Rho Error: 0.0000, Train Vx Error: 0.0000, Test Vx Error: 0.0000, Train Epsilon Error: 1.3276, Test Epsilon Error: 0.7366\n",
      "Epoch 106: Train Loss: 1.7680, Test Loss: 1.7607, Train Rho Error: 0.0000, Test Rho Error: 0.0000, Train Vx Error: 0.0000, Test Vx Error: 0.0000, Train Epsilon Error: 0.8007, Test Epsilon Error: 0.7366\n",
      "Epoch 107: Train Loss: 1.7680, Test Loss: 1.7607, Train Rho Error: 0.0000, Test Rho Error: 0.0000, Train Vx Error: 0.0000, Test Vx Error: 0.0000, Train Epsilon Error: 0.8548, Test Epsilon Error: 0.7366\n",
      "Epoch 108: Train Loss: 1.7680, Test Loss: 1.7607, Train Rho Error: 0.0000, Test Rho Error: 0.0000, Train Vx Error: 0.0000, Test Vx Error: 0.0000, Train Epsilon Error: 0.8528, Test Epsilon Error: 0.7366\n",
      "Epoch 109: Train Loss: 1.7680, Test Loss: 1.7607, Train Rho Error: 0.0000, Test Rho Error: 0.0000, Train Vx Error: 0.0000, Test Vx Error: 0.0000, Train Epsilon Error: 0.9102, Test Epsilon Error: 0.7366\n",
      "Epoch 110: Train Loss: 1.7680, Test Loss: 1.7607, Train Rho Error: 0.0000, Test Rho Error: 0.0000, Train Vx Error: 0.0000, Test Vx Error: 0.0000, Train Epsilon Error: 0.8985, Test Epsilon Error: 0.7366\n",
      "Epoch 111: Train Loss: 1.7680, Test Loss: 1.7607, Train Rho Error: 0.0000, Test Rho Error: 0.0000, Train Vx Error: 0.0000, Test Vx Error: 0.0000, Train Epsilon Error: 0.8936, Test Epsilon Error: 0.7366\n",
      "Epoch 112: Train Loss: 1.7680, Test Loss: 1.7607, Train Rho Error: 0.0000, Test Rho Error: 0.0000, Train Vx Error: 0.0000, Test Vx Error: 0.0000, Train Epsilon Error: 1.0057, Test Epsilon Error: 0.7366\n",
      "Epoch 113: Train Loss: 1.7680, Test Loss: 1.7607, Train Rho Error: 0.0000, Test Rho Error: 0.0000, Train Vx Error: 0.0000, Test Vx Error: 0.0000, Train Epsilon Error: 0.8570, Test Epsilon Error: 0.7366\n",
      "Epoch 114: Train Loss: 1.7680, Test Loss: 1.7607, Train Rho Error: 0.0000, Test Rho Error: 0.0000, Train Vx Error: 0.0000, Test Vx Error: 0.0000, Train Epsilon Error: 1.5424, Test Epsilon Error: 0.7366\n",
      "Epoch 115: Train Loss: 1.7680, Test Loss: 1.7607, Train Rho Error: 0.0000, Test Rho Error: 0.0000, Train Vx Error: 0.0000, Test Vx Error: 0.0000, Train Epsilon Error: 0.9087, Test Epsilon Error: 0.7366\n",
      "Epoch 116: Train Loss: 1.7680, Test Loss: 1.7607, Train Rho Error: 0.0000, Test Rho Error: 0.0000, Train Vx Error: 0.0000, Test Vx Error: 0.0000, Train Epsilon Error: 0.8425, Test Epsilon Error: 0.7366\n",
      "Epoch 117: Train Loss: 1.7680, Test Loss: 1.7607, Train Rho Error: 0.0000, Test Rho Error: 0.0000, Train Vx Error: 0.0000, Test Vx Error: 0.0000, Train Epsilon Error: 0.9262, Test Epsilon Error: 0.7366\n",
      "Epoch 118: Train Loss: 1.7680, Test Loss: 1.7607, Train Rho Error: 0.0000, Test Rho Error: 0.0000, Train Vx Error: 0.0000, Test Vx Error: 0.0000, Train Epsilon Error: 1.0686, Test Epsilon Error: 0.7366\n",
      "Epoch 119: Train Loss: 1.7680, Test Loss: 1.7607, Train Rho Error: 0.0000, Test Rho Error: 0.0000, Train Vx Error: 0.0000, Test Vx Error: 0.0000, Train Epsilon Error: 0.9119, Test Epsilon Error: 0.7366\n",
      "Epoch 120: Train Loss: 1.7680, Test Loss: 1.7607, Train Rho Error: 0.0000, Test Rho Error: 0.0000, Train Vx Error: 0.0000, Test Vx Error: 0.0000, Train Epsilon Error: 0.8248, Test Epsilon Error: 0.7366\n",
      "Epoch 121: Train Loss: 1.7680, Test Loss: 1.7607, Train Rho Error: 0.0000, Test Rho Error: 0.0000, Train Vx Error: 0.0000, Test Vx Error: 0.0000, Train Epsilon Error: 0.8400, Test Epsilon Error: 0.7366\n",
      "Epoch 122: Train Loss: 1.7680, Test Loss: 1.7607, Train Rho Error: 0.0000, Test Rho Error: 0.0000, Train Vx Error: 0.0000, Test Vx Error: 0.0000, Train Epsilon Error: 1.1011, Test Epsilon Error: 0.7366\n",
      "Epoch 123: Train Loss: 1.7680, Test Loss: 1.7607, Train Rho Error: 0.0000, Test Rho Error: 0.0000, Train Vx Error: 0.0000, Test Vx Error: 0.0000, Train Epsilon Error: 1.0000, Test Epsilon Error: 0.7366\n",
      "Epoch 124: Train Loss: 1.7680, Test Loss: 1.7607, Train Rho Error: 0.0000, Test Rho Error: 0.0000, Train Vx Error: 0.0000, Test Vx Error: 0.0000, Train Epsilon Error: 0.9636, Test Epsilon Error: 0.7366\n",
      "Epoch 125: Train Loss: 1.7680, Test Loss: 1.7607, Train Rho Error: 0.0000, Test Rho Error: 0.0000, Train Vx Error: 0.0000, Test Vx Error: 0.0000, Train Epsilon Error: 0.8179, Test Epsilon Error: 0.7366\n",
      "Epoch 126: Train Loss: 1.7680, Test Loss: 1.7607, Train Rho Error: 0.0000, Test Rho Error: 0.0000, Train Vx Error: 0.0000, Test Vx Error: 0.0000, Train Epsilon Error: 0.8213, Test Epsilon Error: 0.7366\n",
      "Epoch 127: Train Loss: 1.7680, Test Loss: 1.7607, Train Rho Error: 0.0000, Test Rho Error: 0.0000, Train Vx Error: 0.0000, Test Vx Error: 0.0000, Train Epsilon Error: 1.0807, Test Epsilon Error: 0.7366\n",
      "Epoch 128: Train Loss: 1.7680, Test Loss: 1.7607, Train Rho Error: 0.0000, Test Rho Error: 0.0000, Train Vx Error: 0.0000, Test Vx Error: 0.0000, Train Epsilon Error: 1.6546, Test Epsilon Error: 0.7366\n",
      "Epoch 129: Train Loss: 1.7680, Test Loss: 1.7607, Train Rho Error: 0.0000, Test Rho Error: 0.0000, Train Vx Error: 0.0000, Test Vx Error: 0.0000, Train Epsilon Error: 1.4171, Test Epsilon Error: 0.7366\n",
      "Epoch 130: Train Loss: 1.7680, Test Loss: 1.7607, Train Rho Error: 0.0000, Test Rho Error: 0.0000, Train Vx Error: 0.0000, Test Vx Error: 0.0000, Train Epsilon Error: 1.3035, Test Epsilon Error: 0.7366\n",
      "Epoch 131: Train Loss: 1.7680, Test Loss: 1.7607, Train Rho Error: 0.0000, Test Rho Error: 0.0000, Train Vx Error: 0.0000, Test Vx Error: 0.0000, Train Epsilon Error: 1.1472, Test Epsilon Error: 0.7366\n",
      "Epoch 132: Train Loss: 1.7680, Test Loss: 1.7607, Train Rho Error: 0.0000, Test Rho Error: 0.0000, Train Vx Error: 0.0000, Test Vx Error: 0.0000, Train Epsilon Error: 1.0585, Test Epsilon Error: 0.7366\n",
      "Epoch 133: Train Loss: 1.7680, Test Loss: 1.7607, Train Rho Error: 0.0000, Test Rho Error: 0.0000, Train Vx Error: 0.0000, Test Vx Error: 0.0000, Train Epsilon Error: 1.0187, Test Epsilon Error: 0.7366\n",
      "Epoch 134: Train Loss: 1.7680, Test Loss: 1.7607, Train Rho Error: 0.0000, Test Rho Error: 0.0000, Train Vx Error: 0.0000, Test Vx Error: 0.0000, Train Epsilon Error: 1.0102, Test Epsilon Error: 0.7366\n",
      "Epoch 135: Train Loss: 1.7680, Test Loss: 1.7607, Train Rho Error: 0.0000, Test Rho Error: 0.0000, Train Vx Error: 0.0000, Test Vx Error: 0.0000, Train Epsilon Error: 0.7931, Test Epsilon Error: 0.7366\n",
      "Epoch 136: Train Loss: 1.7680, Test Loss: 1.7607, Train Rho Error: 0.0000, Test Rho Error: 0.0000, Train Vx Error: 0.0000, Test Vx Error: 0.0000, Train Epsilon Error: 0.8325, Test Epsilon Error: 0.7366\n",
      "Epoch 137: Train Loss: 1.7680, Test Loss: 1.7607, Train Rho Error: 0.0000, Test Rho Error: 0.0000, Train Vx Error: 0.0000, Test Vx Error: 0.0000, Train Epsilon Error: 0.9363, Test Epsilon Error: 0.7366\n",
      "Epoch 138: Train Loss: 1.7680, Test Loss: 1.7607, Train Rho Error: 0.0000, Test Rho Error: 0.0000, Train Vx Error: 0.0000, Test Vx Error: 0.0000, Train Epsilon Error: 1.1363, Test Epsilon Error: 0.7366\n",
      "Epoch 139: Train Loss: 1.7680, Test Loss: 1.7607, Train Rho Error: 0.0000, Test Rho Error: 0.0000, Train Vx Error: 0.0000, Test Vx Error: 0.0000, Train Epsilon Error: 0.8883, Test Epsilon Error: 0.7366\n",
      "Epoch 140: Train Loss: 1.7680, Test Loss: 1.7607, Train Rho Error: 0.0000, Test Rho Error: 0.0000, Train Vx Error: 0.0000, Test Vx Error: 0.0000, Train Epsilon Error: 0.8319, Test Epsilon Error: 0.7366\n",
      "Epoch 141: Train Loss: 1.7680, Test Loss: 1.7607, Train Rho Error: 0.0000, Test Rho Error: 0.0000, Train Vx Error: 0.0000, Test Vx Error: 0.0000, Train Epsilon Error: 1.1085, Test Epsilon Error: 0.7366\n",
      "Epoch 142: Train Loss: 1.7680, Test Loss: 1.7607, Train Rho Error: 0.0000, Test Rho Error: 0.0000, Train Vx Error: 0.0000, Test Vx Error: 0.0000, Train Epsilon Error: 0.9126, Test Epsilon Error: 0.7366\n",
      "Epoch 143: Train Loss: 1.7680, Test Loss: 1.7607, Train Rho Error: 0.0000, Test Rho Error: 0.0000, Train Vx Error: 0.0000, Test Vx Error: 0.0000, Train Epsilon Error: 2.3515, Test Epsilon Error: 0.7366\n",
      "Epoch 144: Train Loss: 1.7680, Test Loss: 1.7607, Train Rho Error: 0.0000, Test Rho Error: 0.0000, Train Vx Error: 0.0000, Test Vx Error: 0.0000, Train Epsilon Error: 0.9621, Test Epsilon Error: 0.7366\n",
      "Epoch 145: Train Loss: 1.7680, Test Loss: 1.7607, Train Rho Error: 0.0000, Test Rho Error: 0.0000, Train Vx Error: 0.0000, Test Vx Error: 0.0000, Train Epsilon Error: 1.4003, Test Epsilon Error: 0.7366\n",
      "Epoch 146: Train Loss: 1.7680, Test Loss: 1.7607, Train Rho Error: 0.0000, Test Rho Error: 0.0000, Train Vx Error: 0.0000, Test Vx Error: 0.0000, Train Epsilon Error: 1.8899, Test Epsilon Error: 0.7366\n",
      "Epoch 147: Train Loss: 1.7680, Test Loss: 1.7607, Train Rho Error: 0.0000, Test Rho Error: 0.0000, Train Vx Error: 0.0000, Test Vx Error: 0.0000, Train Epsilon Error: 0.8208, Test Epsilon Error: 0.7366\n",
      "Epoch 148: Train Loss: 1.7680, Test Loss: 1.7607, Train Rho Error: 0.0000, Test Rho Error: 0.0000, Train Vx Error: 0.0000, Test Vx Error: 0.0000, Train Epsilon Error: 1.0199, Test Epsilon Error: 0.7366\n",
      "Epoch 149: Train Loss: 1.7680, Test Loss: 1.7607, Train Rho Error: 0.0000, Test Rho Error: 0.0000, Train Vx Error: 0.0000, Test Vx Error: 0.0000, Train Epsilon Error: 0.9090, Test Epsilon Error: 0.7366\n",
      "Epoch 150: Train Loss: 1.7680, Test Loss: 1.7607, Train Rho Error: 0.0000, Test Rho Error: 0.0000, Train Vx Error: 0.0000, Test Vx Error: 0.0000, Train Epsilon Error: 0.9625, Test Epsilon Error: 0.7366\n",
      "Epoch 151: Train Loss: 1.7680, Test Loss: 1.7607, Train Rho Error: 0.0000, Test Rho Error: 0.0000, Train Vx Error: 0.0000, Test Vx Error: 0.0000, Train Epsilon Error: 0.8675, Test Epsilon Error: 0.7366\n",
      "Epoch 152: Train Loss: 1.7680, Test Loss: 1.7607, Train Rho Error: 0.0000, Test Rho Error: 0.0000, Train Vx Error: 0.0000, Test Vx Error: 0.0000, Train Epsilon Error: 1.0038, Test Epsilon Error: 0.7366\n",
      "Epoch 153: Train Loss: 1.7680, Test Loss: 1.7607, Train Rho Error: 0.0000, Test Rho Error: 0.0000, Train Vx Error: 0.0000, Test Vx Error: 0.0000, Train Epsilon Error: 0.7961, Test Epsilon Error: 0.7366\n",
      "Epoch 154: Train Loss: 1.7680, Test Loss: 1.7607, Train Rho Error: 0.0000, Test Rho Error: 0.0000, Train Vx Error: 0.0000, Test Vx Error: 0.0000, Train Epsilon Error: 0.9882, Test Epsilon Error: 0.7366\n",
      "Epoch 155: Train Loss: 1.7680, Test Loss: 1.7607, Train Rho Error: 0.0000, Test Rho Error: 0.0000, Train Vx Error: 0.0000, Test Vx Error: 0.0000, Train Epsilon Error: 1.2032, Test Epsilon Error: 0.7366\n",
      "Epoch 156: Train Loss: 1.7680, Test Loss: 1.7607, Train Rho Error: 0.0000, Test Rho Error: 0.0000, Train Vx Error: 0.0000, Test Vx Error: 0.0000, Train Epsilon Error: 1.0215, Test Epsilon Error: 0.7366\n",
      "Epoch 157: Train Loss: 1.7680, Test Loss: 1.7607, Train Rho Error: 0.0000, Test Rho Error: 0.0000, Train Vx Error: 0.0000, Test Vx Error: 0.0000, Train Epsilon Error: 0.7970, Test Epsilon Error: 0.7366\n",
      "Epoch 158: Train Loss: 1.7680, Test Loss: 1.7607, Train Rho Error: 0.0000, Test Rho Error: 0.0000, Train Vx Error: 0.0000, Test Vx Error: 0.0000, Train Epsilon Error: 0.8460, Test Epsilon Error: 0.7366\n",
      "Epoch 159: Train Loss: 1.7680, Test Loss: 1.7607, Train Rho Error: 0.0000, Test Rho Error: 0.0000, Train Vx Error: 0.0000, Test Vx Error: 0.0000, Train Epsilon Error: 1.0301, Test Epsilon Error: 0.7366\n",
      "Epoch 160: Train Loss: 1.7680, Test Loss: 1.7607, Train Rho Error: 0.0000, Test Rho Error: 0.0000, Train Vx Error: 0.0000, Test Vx Error: 0.0000, Train Epsilon Error: 0.8654, Test Epsilon Error: 0.7366\n",
      "Epoch 161: Train Loss: 1.7680, Test Loss: 1.7607, Train Rho Error: 0.0000, Test Rho Error: 0.0000, Train Vx Error: 0.0000, Test Vx Error: 0.0000, Train Epsilon Error: 1.1956, Test Epsilon Error: 0.7366\n",
      "Epoch 162: Train Loss: 1.7680, Test Loss: 1.7607, Train Rho Error: 0.0000, Test Rho Error: 0.0000, Train Vx Error: 0.0000, Test Vx Error: 0.0000, Train Epsilon Error: 1.2180, Test Epsilon Error: 0.7366\n",
      "Epoch 163: Train Loss: 1.7680, Test Loss: 1.7607, Train Rho Error: 0.0000, Test Rho Error: 0.0000, Train Vx Error: 0.0000, Test Vx Error: 0.0000, Train Epsilon Error: 1.0338, Test Epsilon Error: 0.7366\n",
      "Epoch 164: Train Loss: 1.7680, Test Loss: 1.7607, Train Rho Error: 0.0000, Test Rho Error: 0.0000, Train Vx Error: 0.0000, Test Vx Error: 0.0000, Train Epsilon Error: 1.4557, Test Epsilon Error: 0.7366\n",
      "Epoch 165: Train Loss: 1.7680, Test Loss: 1.7607, Train Rho Error: 0.0000, Test Rho Error: 0.0000, Train Vx Error: 0.0000, Test Vx Error: 0.0000, Train Epsilon Error: 1.5801, Test Epsilon Error: 0.7366\n",
      "Epoch 166: Train Loss: 1.7680, Test Loss: 1.7607, Train Rho Error: 0.0000, Test Rho Error: 0.0000, Train Vx Error: 0.0000, Test Vx Error: 0.0000, Train Epsilon Error: 0.9386, Test Epsilon Error: 0.7366\n",
      "Epoch 167: Train Loss: 1.7680, Test Loss: 1.7607, Train Rho Error: 0.0000, Test Rho Error: 0.0000, Train Vx Error: 0.0000, Test Vx Error: 0.0000, Train Epsilon Error: 0.8788, Test Epsilon Error: 0.7366\n",
      "Epoch 168: Train Loss: 1.7680, Test Loss: 1.7607, Train Rho Error: 0.0000, Test Rho Error: 0.0000, Train Vx Error: 0.0000, Test Vx Error: 0.0000, Train Epsilon Error: 1.2001, Test Epsilon Error: 0.7366\n"
     ]
    },
    {
     "name": "stderr",
     "output_type": "stream",
     "text": [
      "\u001b[32m[I 2023-05-05 13:57:22,884]\u001b[0m Trial 8 finished with value: 0.736617437145114 and parameters: {'n_layers': 4, 'n_units_0': 181, 'n_units_1': 51, 'n_units_2': 148, 'n_units_3': 83, 'hidden_activation': 'Tanh', 'output_activation': 'Linear', 'loss': 'LogCosh', 'optimizer': 'RMSprop', 'lr': 0.0020691054684611747, 'batch_size': 78, 'n_epochs': 169, 'scheduler': 'ReduceLROnPlateau'}. Best is trial 1 with value: 0.5582342281554593.\u001b[0m\n"
     ]
    },
    {
     "name": "stdout",
     "output_type": "stream",
     "text": [
      "Epoch 169: Train Loss: 1.7680, Test Loss: 1.7607, Train Rho Error: 0.0000, Test Rho Error: 0.0000, Train Vx Error: 0.0000, Test Vx Error: 0.0000, Train Epsilon Error: 0.9428, Test Epsilon Error: 0.7366\n",
      "Epoch 1: Train Loss: 1.8118, Test Loss: 1.7608, Train Rho Error: 0.0000, Test Rho Error: 0.0000, Train Vx Error: 0.0000, Test Vx Error: 0.0000, Train Epsilon Error: 1.0581, Test Epsilon Error: 0.9583\n",
      "Epoch 2: Train Loss: 1.7689, Test Loss: 1.7632, Train Rho Error: 0.0000, Test Rho Error: 0.0000, Train Vx Error: 0.0000, Test Vx Error: 0.0000, Train Epsilon Error: 1.5470, Test Epsilon Error: 0.9649\n",
      "Epoch 3: Train Loss: 1.7687, Test Loss: 1.7604, Train Rho Error: 0.0000, Test Rho Error: 0.0000, Train Vx Error: 0.0000, Test Vx Error: 0.0000, Train Epsilon Error: 1.2236, Test Epsilon Error: 0.9555\n",
      "Epoch 4: Train Loss: 1.7688, Test Loss: 1.7607, Train Rho Error: 0.0000, Test Rho Error: 0.0000, Train Vx Error: 0.0000, Test Vx Error: 0.0000, Train Epsilon Error: 0.8978, Test Epsilon Error: 0.9521\n",
      "Epoch 5: Train Loss: 1.7689, Test Loss: 1.7617, Train Rho Error: 0.0000, Test Rho Error: 0.0000, Train Vx Error: 0.0000, Test Vx Error: 0.0000, Train Epsilon Error: 0.9092, Test Epsilon Error: 0.9490\n",
      "Epoch 6: Train Loss: 1.7688, Test Loss: 1.7605, Train Rho Error: 0.0000, Test Rho Error: 0.0000, Train Vx Error: 0.0000, Test Vx Error: 0.0000, Train Epsilon Error: 1.7913, Test Epsilon Error: 0.9571\n"
     ]
    },
    {
     "name": "stderr",
     "output_type": "stream",
     "text": [
      "NaN or Inf found in input tensor.\n"
     ]
    },
    {
     "name": "stdout",
     "output_type": "stream",
     "text": [
      "Epoch 7: Train Loss: 1.7687, Test Loss: 1.7604, Train Rho Error: 0.0000, Test Rho Error: 0.0000, Train Vx Error: 0.0000, Test Vx Error: 0.0000, Train Epsilon Error: inf, Test Epsilon Error: 0.9540\n",
      "Epoch 8: Train Loss: 1.7686, Test Loss: 1.7606, Train Rho Error: 0.0000, Test Rho Error: 0.0000, Train Vx Error: 0.0000, Test Vx Error: 0.0000, Train Epsilon Error: 1.0990, Test Epsilon Error: 0.9576\n",
      "Epoch 9: Train Loss: 1.7688, Test Loss: 1.7606, Train Rho Error: 0.0000, Test Rho Error: 0.0000, Train Vx Error: 0.0000, Test Vx Error: 0.0000, Train Epsilon Error: 0.9984, Test Epsilon Error: 0.9574\n",
      "Epoch 10: Train Loss: 1.7688, Test Loss: 1.7609, Train Rho Error: 0.0000, Test Rho Error: 0.0000, Train Vx Error: 0.0000, Test Vx Error: 0.0000, Train Epsilon Error: 1.0479, Test Epsilon Error: 0.9591\n",
      "Epoch 11: Train Loss: 1.7685, Test Loss: 1.7606, Train Rho Error: 0.0000, Test Rho Error: 0.0000, Train Vx Error: 0.0000, Test Vx Error: 0.0000, Train Epsilon Error: 1.1130, Test Epsilon Error: 0.9526\n",
      "Epoch 12: Train Loss: 1.7685, Test Loss: 1.7606, Train Rho Error: 0.0000, Test Rho Error: 0.0000, Train Vx Error: 0.0000, Test Vx Error: 0.0000, Train Epsilon Error: 0.9589, Test Epsilon Error: 0.9576\n",
      "Epoch 13: Train Loss: 1.7688, Test Loss: 1.7608, Train Rho Error: 0.0000, Test Rho Error: 0.0000, Train Vx Error: 0.0000, Test Vx Error: 0.0000, Train Epsilon Error: 1.1099, Test Epsilon Error: 0.9585\n",
      "Epoch 14: Train Loss: 1.7685, Test Loss: 1.7611, Train Rho Error: 0.0000, Test Rho Error: 0.0000, Train Vx Error: 0.0000, Test Vx Error: 0.0000, Train Epsilon Error: 0.9708, Test Epsilon Error: 0.9596\n",
      "Epoch 15: Train Loss: 1.7688, Test Loss: 1.7608, Train Rho Error: 0.0000, Test Rho Error: 0.0000, Train Vx Error: 0.0000, Test Vx Error: 0.0000, Train Epsilon Error: 1.5184, Test Epsilon Error: 0.9584\n",
      "Epoch 16: Train Loss: 1.7684, Test Loss: 1.7605, Train Rho Error: 0.0000, Test Rho Error: 0.0000, Train Vx Error: 0.0000, Test Vx Error: 0.0000, Train Epsilon Error: 0.8924, Test Epsilon Error: 0.9535\n",
      "Epoch 17: Train Loss: 1.7685, Test Loss: 1.7604, Train Rho Error: 0.0000, Test Rho Error: 0.0000, Train Vx Error: 0.0000, Test Vx Error: 0.0000, Train Epsilon Error: 1.0689, Test Epsilon Error: 0.9556\n",
      "Epoch 18: Train Loss: 1.7684, Test Loss: 1.7605, Train Rho Error: 0.0000, Test Rho Error: 0.0000, Train Vx Error: 0.0000, Test Vx Error: 0.0000, Train Epsilon Error: 0.8690, Test Epsilon Error: 0.9570\n",
      "Epoch 19: Train Loss: 1.7683, Test Loss: 1.7610, Train Rho Error: 0.0000, Test Rho Error: 0.0000, Train Vx Error: 0.0000, Test Vx Error: 0.0000, Train Epsilon Error: 1.2195, Test Epsilon Error: 0.9508\n",
      "Epoch 20: Train Loss: 1.7685, Test Loss: 1.7604, Train Rho Error: 0.0000, Test Rho Error: 0.0000, Train Vx Error: 0.0000, Test Vx Error: 0.0000, Train Epsilon Error: 0.9312, Test Epsilon Error: 0.9554\n",
      "Epoch 21: Train Loss: 1.7684, Test Loss: 1.7605, Train Rho Error: 0.0000, Test Rho Error: 0.0000, Train Vx Error: 0.0000, Test Vx Error: 0.0000, Train Epsilon Error: 1.5911, Test Epsilon Error: 0.9563\n",
      "Epoch 22: Train Loss: 1.7684, Test Loss: 1.7605, Train Rho Error: 0.0000, Test Rho Error: 0.0000, Train Vx Error: 0.0000, Test Vx Error: 0.0000, Train Epsilon Error: 1.0603, Test Epsilon Error: 0.9569\n",
      "Epoch 23: Train Loss: 1.7683, Test Loss: 1.7606, Train Rho Error: 0.0000, Test Rho Error: 0.0000, Train Vx Error: 0.0000, Test Vx Error: 0.0000, Train Epsilon Error: 0.9380, Test Epsilon Error: 0.9572\n",
      "Epoch 24: Train Loss: 1.7683, Test Loss: 1.7605, Train Rho Error: 0.0000, Test Rho Error: 0.0000, Train Vx Error: 0.0000, Test Vx Error: 0.0000, Train Epsilon Error: 1.6298, Test Epsilon Error: 0.9570\n",
      "Epoch 25: Train Loss: 1.7683, Test Loss: 1.7605, Train Rho Error: 0.0000, Test Rho Error: 0.0000, Train Vx Error: 0.0000, Test Vx Error: 0.0000, Train Epsilon Error: 1.0522, Test Epsilon Error: 0.9569\n",
      "Epoch 26: Train Loss: 1.7683, Test Loss: 1.7607, Train Rho Error: 0.0000, Test Rho Error: 0.0000, Train Vx Error: 0.0000, Test Vx Error: 0.0000, Train Epsilon Error: 1.1580, Test Epsilon Error: 0.9580\n",
      "Epoch 27: Train Loss: 1.7683, Test Loss: 1.7604, Train Rho Error: 0.0000, Test Rho Error: 0.0000, Train Vx Error: 0.0000, Test Vx Error: 0.0000, Train Epsilon Error: 0.9038, Test Epsilon Error: 0.9556\n",
      "Epoch 28: Train Loss: 1.7683, Test Loss: 1.7605, Train Rho Error: 0.0000, Test Rho Error: 0.0000, Train Vx Error: 0.0000, Test Vx Error: 0.0000, Train Epsilon Error: 1.0209, Test Epsilon Error: 0.9567\n",
      "Epoch 29: Train Loss: 1.7683, Test Loss: 1.7604, Train Rho Error: 0.0000, Test Rho Error: 0.0000, Train Vx Error: 0.0000, Test Vx Error: 0.0000, Train Epsilon Error: 0.9754, Test Epsilon Error: 0.9547\n",
      "Epoch 30: Train Loss: 1.7683, Test Loss: 1.7604, Train Rho Error: 0.0000, Test Rho Error: 0.0000, Train Vx Error: 0.0000, Test Vx Error: 0.0000, Train Epsilon Error: 1.1905, Test Epsilon Error: 0.9556\n",
      "Epoch 31: Train Loss: 1.7683, Test Loss: 1.7604, Train Rho Error: 0.0000, Test Rho Error: 0.0000, Train Vx Error: 0.0000, Test Vx Error: 0.0000, Train Epsilon Error: 1.0437, Test Epsilon Error: 0.9547\n",
      "Epoch 32: Train Loss: 1.7683, Test Loss: 1.7608, Train Rho Error: 0.0000, Test Rho Error: 0.0000, Train Vx Error: 0.0000, Test Vx Error: 0.0000, Train Epsilon Error: 1.0507, Test Epsilon Error: 0.9584\n",
      "Epoch 33: Train Loss: 1.7683, Test Loss: 1.7605, Train Rho Error: 0.0000, Test Rho Error: 0.0000, Train Vx Error: 0.0000, Test Vx Error: 0.0000, Train Epsilon Error: 1.1634, Test Epsilon Error: 0.9564\n",
      "Epoch 34: Train Loss: 1.7683, Test Loss: 1.7605, Train Rho Error: 0.0000, Test Rho Error: 0.0000, Train Vx Error: 0.0000, Test Vx Error: 0.0000, Train Epsilon Error: 1.7837, Test Epsilon Error: 0.9563\n",
      "Epoch 35: Train Loss: 1.7683, Test Loss: 1.7604, Train Rho Error: 0.0000, Test Rho Error: 0.0000, Train Vx Error: 0.0000, Test Vx Error: 0.0000, Train Epsilon Error: 1.1306, Test Epsilon Error: 0.9560\n",
      "Epoch 36: Train Loss: 1.7683, Test Loss: 1.7606, Train Rho Error: 0.0000, Test Rho Error: 0.0000, Train Vx Error: 0.0000, Test Vx Error: 0.0000, Train Epsilon Error: 0.9531, Test Epsilon Error: 0.9572\n",
      "Epoch 37: Train Loss: 1.7683, Test Loss: 1.7606, Train Rho Error: 0.0000, Test Rho Error: 0.0000, Train Vx Error: 0.0000, Test Vx Error: 0.0000, Train Epsilon Error: 1.5287, Test Epsilon Error: 0.9572\n",
      "Epoch 38: Train Loss: 1.7683, Test Loss: 1.7605, Train Rho Error: 0.0000, Test Rho Error: 0.0000, Train Vx Error: 0.0000, Test Vx Error: 0.0000, Train Epsilon Error: 1.1229, Test Epsilon Error: 0.9571\n"
     ]
    },
    {
     "name": "stderr",
     "output_type": "stream",
     "text": [
      "NaN or Inf found in input tensor.\n"
     ]
    },
    {
     "name": "stdout",
     "output_type": "stream",
     "text": [
      "Epoch 39: Train Loss: 1.7682, Test Loss: 1.7606, Train Rho Error: 0.0000, Test Rho Error: 0.0000, Train Vx Error: 0.0000, Test Vx Error: 0.0000, Train Epsilon Error: inf, Test Epsilon Error: 0.9576\n",
      "Epoch 40: Train Loss: 1.7682, Test Loss: 1.7605, Train Rho Error: 0.0000, Test Rho Error: 0.0000, Train Vx Error: 0.0000, Test Vx Error: 0.0000, Train Epsilon Error: 0.9954, Test Epsilon Error: 0.9571\n",
      "Epoch 41: Train Loss: 1.7682, Test Loss: 1.7605, Train Rho Error: 0.0000, Test Rho Error: 0.0000, Train Vx Error: 0.0000, Test Vx Error: 0.0000, Train Epsilon Error: 0.9086, Test Epsilon Error: 0.9568\n",
      "Epoch 42: Train Loss: 1.7682, Test Loss: 1.7605, Train Rho Error: 0.0000, Test Rho Error: 0.0000, Train Vx Error: 0.0000, Test Vx Error: 0.0000, Train Epsilon Error: 1.0145, Test Epsilon Error: 0.9571\n",
      "Epoch 43: Train Loss: 1.7682, Test Loss: 1.7605, Train Rho Error: 0.0000, Test Rho Error: 0.0000, Train Vx Error: 0.0000, Test Vx Error: 0.0000, Train Epsilon Error: 0.9644, Test Epsilon Error: 0.9566\n",
      "Epoch 44: Train Loss: 1.7682, Test Loss: 1.7605, Train Rho Error: 0.0000, Test Rho Error: 0.0000, Train Vx Error: 0.0000, Test Vx Error: 0.0000, Train Epsilon Error: 1.3861, Test Epsilon Error: 0.9566\n",
      "Epoch 45: Train Loss: 1.7682, Test Loss: 1.7606, Train Rho Error: 0.0000, Test Rho Error: 0.0000, Train Vx Error: 0.0000, Test Vx Error: 0.0000, Train Epsilon Error: 0.8918, Test Epsilon Error: 0.9573\n",
      "Epoch 46: Train Loss: 1.7682, Test Loss: 1.7606, Train Rho Error: 0.0000, Test Rho Error: 0.0000, Train Vx Error: 0.0000, Test Vx Error: 0.0000, Train Epsilon Error: 0.9761, Test Epsilon Error: 0.9572\n",
      "Epoch 47: Train Loss: 1.7682, Test Loss: 1.7606, Train Rho Error: 0.0000, Test Rho Error: 0.0000, Train Vx Error: 0.0000, Test Vx Error: 0.0000, Train Epsilon Error: 1.1059, Test Epsilon Error: 0.9573\n",
      "Epoch 48: Train Loss: 1.7682, Test Loss: 1.7606, Train Rho Error: 0.0000, Test Rho Error: 0.0000, Train Vx Error: 0.0000, Test Vx Error: 0.0000, Train Epsilon Error: 1.0442, Test Epsilon Error: 0.9573\n",
      "Epoch 49: Train Loss: 1.7682, Test Loss: 1.7606, Train Rho Error: 0.0000, Test Rho Error: 0.0000, Train Vx Error: 0.0000, Test Vx Error: 0.0000, Train Epsilon Error: 1.0058, Test Epsilon Error: 0.9572\n",
      "Epoch 50: Train Loss: 1.7682, Test Loss: 1.7606, Train Rho Error: 0.0000, Test Rho Error: 0.0000, Train Vx Error: 0.0000, Test Vx Error: 0.0000, Train Epsilon Error: 1.1190, Test Epsilon Error: 0.9572\n",
      "Epoch 51: Train Loss: 1.7682, Test Loss: 1.7606, Train Rho Error: 0.0000, Test Rho Error: 0.0000, Train Vx Error: 0.0000, Test Vx Error: 0.0000, Train Epsilon Error: 1.0099, Test Epsilon Error: 0.9572\n",
      "Epoch 52: Train Loss: 1.7682, Test Loss: 1.7606, Train Rho Error: 0.0000, Test Rho Error: 0.0000, Train Vx Error: 0.0000, Test Vx Error: 0.0000, Train Epsilon Error: 0.9514, Test Epsilon Error: 0.9572\n",
      "Epoch 53: Train Loss: 1.7682, Test Loss: 1.7606, Train Rho Error: 0.0000, Test Rho Error: 0.0000, Train Vx Error: 0.0000, Test Vx Error: 0.0000, Train Epsilon Error: 1.0014, Test Epsilon Error: 0.9573\n",
      "Epoch 54: Train Loss: 1.7682, Test Loss: 1.7606, Train Rho Error: 0.0000, Test Rho Error: 0.0000, Train Vx Error: 0.0000, Test Vx Error: 0.0000, Train Epsilon Error: 1.0135, Test Epsilon Error: 0.9572\n",
      "Epoch 55: Train Loss: 1.7682, Test Loss: 1.7606, Train Rho Error: 0.0000, Test Rho Error: 0.0000, Train Vx Error: 0.0000, Test Vx Error: 0.0000, Train Epsilon Error: 0.8668, Test Epsilon Error: 0.9573\n",
      "Epoch 56: Train Loss: 1.7682, Test Loss: 1.7606, Train Rho Error: 0.0000, Test Rho Error: 0.0000, Train Vx Error: 0.0000, Test Vx Error: 0.0000, Train Epsilon Error: 1.0728, Test Epsilon Error: 0.9572\n",
      "Epoch 57: Train Loss: 1.7682, Test Loss: 1.7606, Train Rho Error: 0.0000, Test Rho Error: 0.0000, Train Vx Error: 0.0000, Test Vx Error: 0.0000, Train Epsilon Error: 1.0031, Test Epsilon Error: 0.9572\n",
      "Epoch 58: Train Loss: 1.7682, Test Loss: 1.7606, Train Rho Error: 0.0000, Test Rho Error: 0.0000, Train Vx Error: 0.0000, Test Vx Error: 0.0000, Train Epsilon Error: 0.9013, Test Epsilon Error: 0.9572\n",
      "Epoch 59: Train Loss: 1.7682, Test Loss: 1.7606, Train Rho Error: 0.0000, Test Rho Error: 0.0000, Train Vx Error: 0.0000, Test Vx Error: 0.0000, Train Epsilon Error: 1.0418, Test Epsilon Error: 0.9571\n"
     ]
    },
    {
     "name": "stderr",
     "output_type": "stream",
     "text": [
      "NaN or Inf found in input tensor.\n"
     ]
    },
    {
     "name": "stdout",
     "output_type": "stream",
     "text": [
      "Epoch 60: Train Loss: 1.7682, Test Loss: 1.7606, Train Rho Error: 0.0000, Test Rho Error: 0.0000, Train Vx Error: 0.0000, Test Vx Error: 0.0000, Train Epsilon Error: inf, Test Epsilon Error: 0.9572\n",
      "Epoch 61: Train Loss: 1.7682, Test Loss: 1.7606, Train Rho Error: 0.0000, Test Rho Error: 0.0000, Train Vx Error: 0.0000, Test Vx Error: 0.0000, Train Epsilon Error: 1.2675, Test Epsilon Error: 0.9571\n",
      "Epoch 62: Train Loss: 1.7682, Test Loss: 1.7606, Train Rho Error: 0.0000, Test Rho Error: 0.0000, Train Vx Error: 0.0000, Test Vx Error: 0.0000, Train Epsilon Error: 1.1779, Test Epsilon Error: 0.9572\n",
      "Epoch 63: Train Loss: 1.7682, Test Loss: 1.7606, Train Rho Error: 0.0000, Test Rho Error: 0.0000, Train Vx Error: 0.0000, Test Vx Error: 0.0000, Train Epsilon Error: 1.1796, Test Epsilon Error: 0.9572\n"
     ]
    },
    {
     "name": "stderr",
     "output_type": "stream",
     "text": [
      "NaN or Inf found in input tensor.\n"
     ]
    },
    {
     "name": "stdout",
     "output_type": "stream",
     "text": [
      "Epoch 64: Train Loss: 1.7682, Test Loss: 1.7606, Train Rho Error: 0.0000, Test Rho Error: 0.0000, Train Vx Error: 0.0000, Test Vx Error: 0.0000, Train Epsilon Error: inf, Test Epsilon Error: 0.9572\n",
      "Epoch 65: Train Loss: 1.7682, Test Loss: 1.7606, Train Rho Error: 0.0000, Test Rho Error: 0.0000, Train Vx Error: 0.0000, Test Vx Error: 0.0000, Train Epsilon Error: 0.9726, Test Epsilon Error: 0.9572\n",
      "Epoch 66: Train Loss: 1.7682, Test Loss: 1.7606, Train Rho Error: 0.0000, Test Rho Error: 0.0000, Train Vx Error: 0.0000, Test Vx Error: 0.0000, Train Epsilon Error: 1.4031, Test Epsilon Error: 0.9572\n",
      "Epoch 67: Train Loss: 1.7682, Test Loss: 1.7606, Train Rho Error: 0.0000, Test Rho Error: 0.0000, Train Vx Error: 0.0000, Test Vx Error: 0.0000, Train Epsilon Error: 0.9308, Test Epsilon Error: 0.9571\n",
      "Epoch 68: Train Loss: 1.7682, Test Loss: 1.7606, Train Rho Error: 0.0000, Test Rho Error: 0.0000, Train Vx Error: 0.0000, Test Vx Error: 0.0000, Train Epsilon Error: 0.9022, Test Epsilon Error: 0.9572\n",
      "Epoch 69: Train Loss: 1.7682, Test Loss: 1.7606, Train Rho Error: 0.0000, Test Rho Error: 0.0000, Train Vx Error: 0.0000, Test Vx Error: 0.0000, Train Epsilon Error: 1.2146, Test Epsilon Error: 0.9572\n",
      "Epoch 70: Train Loss: 1.7682, Test Loss: 1.7606, Train Rho Error: 0.0000, Test Rho Error: 0.0000, Train Vx Error: 0.0000, Test Vx Error: 0.0000, Train Epsilon Error: 1.3016, Test Epsilon Error: 0.9571\n",
      "Epoch 71: Train Loss: 1.7682, Test Loss: 1.7606, Train Rho Error: 0.0000, Test Rho Error: 0.0000, Train Vx Error: 0.0000, Test Vx Error: 0.0000, Train Epsilon Error: 1.0921, Test Epsilon Error: 0.9572\n",
      "Epoch 72: Train Loss: 1.7682, Test Loss: 1.7606, Train Rho Error: 0.0000, Test Rho Error: 0.0000, Train Vx Error: 0.0000, Test Vx Error: 0.0000, Train Epsilon Error: 1.2966, Test Epsilon Error: 0.9571\n"
     ]
    },
    {
     "name": "stderr",
     "output_type": "stream",
     "text": [
      "\u001b[32m[I 2023-05-05 13:59:20,790]\u001b[0m Trial 9 finished with value: 0.9571389812231064 and parameters: {'n_layers': 5, 'n_units_0': 37, 'n_units_1': 24, 'n_units_2': 196, 'n_units_3': 120, 'n_units_4': 194, 'hidden_activation': 'Sigmoid', 'output_activation': 'Linear', 'loss': 'LogCosh', 'optimizer': 'Adam', 'lr': 0.0004504716229065496, 'batch_size': 300, 'n_epochs': 73, 'scheduler': 'ExponentialLR'}. Best is trial 1 with value: 0.5582342281554593.\u001b[0m\n"
     ]
    },
    {
     "name": "stdout",
     "output_type": "stream",
     "text": [
      "Epoch 73: Train Loss: 1.7682, Test Loss: 1.7606, Train Rho Error: 0.0000, Test Rho Error: 0.0000, Train Vx Error: 0.0000, Test Vx Error: 0.0000, Train Epsilon Error: 0.9261, Test Epsilon Error: 0.9571\n",
      "Epoch 1: Train Loss: 22.1203, Test Loss: 17.0015, Train Rho Error: 0.0000, Test Rho Error: 0.0000, Train Vx Error: 0.0000, Test Vx Error: 0.0000, Train Epsilon Error: 0.9763, Test Epsilon Error: 0.8937\n",
      "Epoch 2: Train Loss: 14.9049, Test Loss: 10.8630, Train Rho Error: 0.0000, Test Rho Error: 0.0000, Train Vx Error: 0.0000, Test Vx Error: 0.0000, Train Epsilon Error: 1.2501, Test Epsilon Error: 1.1354\n",
      "Epoch 3: Train Loss: 11.2411, Test Loss: 13.5392, Train Rho Error: 0.0000, Test Rho Error: 0.0000, Train Vx Error: 0.0000, Test Vx Error: 0.0000, Train Epsilon Error: 1.4400, Test Epsilon Error: 0.8960\n",
      "Epoch 4: Train Loss: 10.7768, Test Loss: 10.0124, Train Rho Error: 0.0000, Test Rho Error: 0.0000, Train Vx Error: 0.0000, Test Vx Error: 0.0000, Train Epsilon Error: 1.1805, Test Epsilon Error: 1.2183\n",
      "Epoch 5: Train Loss: 10.4402, Test Loss: 9.4423, Train Rho Error: 0.0000, Test Rho Error: 0.0000, Train Vx Error: 0.0000, Test Vx Error: 0.0000, Train Epsilon Error: 1.3687, Test Epsilon Error: 1.0261\n",
      "Epoch 6: Train Loss: 10.1033, Test Loss: 9.2100, Train Rho Error: 0.0000, Test Rho Error: 0.0000, Train Vx Error: 0.0000, Test Vx Error: 0.0000, Train Epsilon Error: 1.3088, Test Epsilon Error: 1.1169\n",
      "Epoch 7: Train Loss: 10.0829, Test Loss: 12.9439, Train Rho Error: 0.0000, Test Rho Error: 0.0000, Train Vx Error: 0.0000, Test Vx Error: 0.0000, Train Epsilon Error: 1.3071, Test Epsilon Error: 0.8861\n",
      "Epoch 8: Train Loss: 9.8335, Test Loss: 9.9261, Train Rho Error: 0.0000, Test Rho Error: 0.0000, Train Vx Error: 0.0000, Test Vx Error: 0.0000, Train Epsilon Error: 1.2569, Test Epsilon Error: 1.2239\n",
      "Epoch 9: Train Loss: 9.7039, Test Loss: 10.0317, Train Rho Error: 0.0000, Test Rho Error: 0.0000, Train Vx Error: 0.0000, Test Vx Error: 0.0000, Train Epsilon Error: 1.2628, Test Epsilon Error: 0.9749\n",
      "Epoch 10: Train Loss: 9.6969, Test Loss: 9.3715, Train Rho Error: 0.0000, Test Rho Error: 0.0000, Train Vx Error: 0.0000, Test Vx Error: 0.0000, Train Epsilon Error: 1.1384, Test Epsilon Error: 1.0409\n",
      "Epoch 11: Train Loss: 9.4719, Test Loss: 9.1843, Train Rho Error: 0.0000, Test Rho Error: 0.0000, Train Vx Error: 0.0000, Test Vx Error: 0.0000, Train Epsilon Error: 1.1989, Test Epsilon Error: 1.1026\n",
      "Epoch 12: Train Loss: 9.5429, Test Loss: 9.1187, Train Rho Error: 0.0000, Test Rho Error: 0.0000, Train Vx Error: 0.0000, Test Vx Error: 0.0000, Train Epsilon Error: 1.4524, Test Epsilon Error: 1.0280\n",
      "Epoch 13: Train Loss: 9.4529, Test Loss: 9.0400, Train Rho Error: 0.0000, Test Rho Error: 0.0000, Train Vx Error: 0.0000, Test Vx Error: 0.0000, Train Epsilon Error: 1.5298, Test Epsilon Error: 1.0556\n",
      "Epoch 14: Train Loss: 9.4129, Test Loss: 9.0231, Train Rho Error: 0.0000, Test Rho Error: 0.0000, Train Vx Error: 0.0000, Test Vx Error: 0.0000, Train Epsilon Error: 1.6980, Test Epsilon Error: 1.0568\n",
      "Epoch 15: Train Loss: 9.4157, Test Loss: 9.9152, Train Rho Error: 0.0000, Test Rho Error: 0.0000, Train Vx Error: 0.0000, Test Vx Error: 0.0000, Train Epsilon Error: 1.2187, Test Epsilon Error: 0.9785\n",
      "Epoch 16: Train Loss: 9.4310, Test Loss: 9.1936, Train Rho Error: 0.0000, Test Rho Error: 0.0000, Train Vx Error: 0.0000, Test Vx Error: 0.0000, Train Epsilon Error: 1.1997, Test Epsilon Error: 1.1237\n",
      "Epoch 17: Train Loss: 9.3782, Test Loss: 9.1052, Train Rho Error: 0.0000, Test Rho Error: 0.0000, Train Vx Error: 0.0000, Test Vx Error: 0.0000, Train Epsilon Error: 1.0980, Test Epsilon Error: 1.0309\n",
      "Epoch 18: Train Loss: 9.2902, Test Loss: 9.2786, Train Rho Error: 0.0000, Test Rho Error: 0.0000, Train Vx Error: 0.0000, Test Vx Error: 0.0000, Train Epsilon Error: 1.4304, Test Epsilon Error: 1.1275\n",
      "Epoch 19: Train Loss: 9.2999, Test Loss: 9.0318, Train Rho Error: 0.0000, Test Rho Error: 0.0000, Train Vx Error: 0.0000, Test Vx Error: 0.0000, Train Epsilon Error: 1.1932, Test Epsilon Error: 1.0378\n",
      "Epoch 20: Train Loss: 9.3055, Test Loss: 9.3764, Train Rho Error: 0.0000, Test Rho Error: 0.0000, Train Vx Error: 0.0000, Test Vx Error: 0.0000, Train Epsilon Error: 1.1499, Test Epsilon Error: 0.9858\n",
      "Epoch 21: Train Loss: 9.2566, Test Loss: 9.1610, Train Rho Error: 0.0000, Test Rho Error: 0.0000, Train Vx Error: 0.0000, Test Vx Error: 0.0000, Train Epsilon Error: 1.3276, Test Epsilon Error: 1.1162\n",
      "Epoch 22: Train Loss: 9.2475, Test Loss: 9.0407, Train Rho Error: 0.0000, Test Rho Error: 0.0000, Train Vx Error: 0.0000, Test Vx Error: 0.0000, Train Epsilon Error: 1.2441, Test Epsilon Error: 1.0743\n"
     ]
    },
    {
     "name": "stderr",
     "output_type": "stream",
     "text": [
      "\u001b[32m[I 2023-05-05 13:59:48,685]\u001b[0m Trial 10 finished with value: 1.029238971799612 and parameters: {'n_layers': 1, 'n_units_0': 88, 'hidden_activation': 'ReLU', 'output_activation': 'ReLU', 'loss': 'MSE', 'optimizer': 'Adagrad', 'lr': 0.011887642393458991, 'batch_size': 170, 'n_epochs': 23, 'scheduler': 'ReduceLROnPlateau'}. Best is trial 1 with value: 0.5582342281554593.\u001b[0m\n"
     ]
    },
    {
     "name": "stdout",
     "output_type": "stream",
     "text": [
      "Epoch 23: Train Loss: 9.1971, Test Loss: 9.0316, Train Rho Error: 0.0000, Test Rho Error: 0.0000, Train Vx Error: 0.0000, Test Vx Error: 0.0000, Train Epsilon Error: 1.1155, Test Epsilon Error: 1.0292\n",
      "Epoch 1: Train Loss: 1.7727, Test Loss: 1.7606, Train Rho Error: 0.0000, Test Rho Error: 0.0000, Train Vx Error: 0.0000, Test Vx Error: 0.0000, Train Epsilon Error: 1.0438, Test Epsilon Error: 0.7829\n",
      "Epoch 2: Train Loss: 1.7696, Test Loss: 1.7668, Train Rho Error: 0.0000, Test Rho Error: 0.0000, Train Vx Error: 0.0000, Test Vx Error: 0.0000, Train Epsilon Error: 0.9506, Test Epsilon Error: 0.8296\n",
      "Epoch 3: Train Loss: 1.7694, Test Loss: 1.7702, Train Rho Error: 0.0000, Test Rho Error: 0.0000, Train Vx Error: 0.0000, Test Vx Error: 0.0000, Train Epsilon Error: 1.4773, Test Epsilon Error: 0.8397\n",
      "Epoch 4: Train Loss: 1.7693, Test Loss: 1.7604, Train Rho Error: 0.0000, Test Rho Error: 0.0000, Train Vx Error: 0.0000, Test Vx Error: 0.0000, Train Epsilon Error: 0.9511, Test Epsilon Error: 0.7902\n",
      "Epoch 5: Train Loss: 1.7694, Test Loss: 1.7607, Train Rho Error: 0.0000, Test Rho Error: 0.0000, Train Vx Error: 0.0000, Test Vx Error: 0.0000, Train Epsilon Error: 1.4320, Test Epsilon Error: 0.7987\n",
      "Epoch 6: Train Loss: 1.7695, Test Loss: 1.7611, Train Rho Error: 0.0000, Test Rho Error: 0.0000, Train Vx Error: 0.0000, Test Vx Error: 0.0000, Train Epsilon Error: 1.0851, Test Epsilon Error: 0.8025\n",
      "Epoch 7: Train Loss: 1.7693, Test Loss: 1.7658, Train Rho Error: 0.0000, Test Rho Error: 0.0000, Train Vx Error: 0.0000, Test Vx Error: 0.0000, Train Epsilon Error: 1.4983, Test Epsilon Error: 0.7558\n",
      "Epoch 8: Train Loss: 1.7697, Test Loss: 1.7609, Train Rho Error: 0.0000, Test Rho Error: 0.0000, Train Vx Error: 0.0000, Test Vx Error: 0.0000, Train Epsilon Error: 1.3014, Test Epsilon Error: 0.8001\n",
      "Epoch 9: Train Loss: 1.7691, Test Loss: 1.7684, Train Rho Error: 0.0000, Test Rho Error: 0.0000, Train Vx Error: 0.0000, Test Vx Error: 0.0000, Train Epsilon Error: 0.9758, Test Epsilon Error: 0.8346\n",
      "Epoch 10: Train Loss: 1.7694, Test Loss: 1.7610, Train Rho Error: 0.0000, Test Rho Error: 0.0000, Train Vx Error: 0.0000, Test Vx Error: 0.0000, Train Epsilon Error: 0.8591, Test Epsilon Error: 0.8016\n",
      "Epoch 11: Train Loss: 1.7693, Test Loss: 1.7616, Train Rho Error: 0.0000, Test Rho Error: 0.0000, Train Vx Error: 0.0000, Test Vx Error: 0.0000, Train Epsilon Error: 1.1145, Test Epsilon Error: 0.8064\n",
      "Epoch 12: Train Loss: 1.7693, Test Loss: 1.7625, Train Rho Error: 0.0000, Test Rho Error: 0.0000, Train Vx Error: 0.0000, Test Vx Error: 0.0000, Train Epsilon Error: 0.9459, Test Epsilon Error: 0.7682\n",
      "Epoch 13: Train Loss: 1.7695, Test Loss: 1.7604, Train Rho Error: 0.0000, Test Rho Error: 0.0000, Train Vx Error: 0.0000, Test Vx Error: 0.0000, Train Epsilon Error: 1.0622, Test Epsilon Error: 0.7909\n",
      "Epoch 14: Train Loss: 1.7694, Test Loss: 1.7639, Train Rho Error: 0.0000, Test Rho Error: 0.0000, Train Vx Error: 0.0000, Test Vx Error: 0.0000, Train Epsilon Error: 1.2001, Test Epsilon Error: 0.8189\n",
      "Epoch 15: Train Loss: 1.7694, Test Loss: 1.7605, Train Rho Error: 0.0000, Test Rho Error: 0.0000, Train Vx Error: 0.0000, Test Vx Error: 0.0000, Train Epsilon Error: 0.8873, Test Epsilon Error: 0.7951\n",
      "Epoch 16: Train Loss: 1.7682, Test Loss: 1.7608, Train Rho Error: 0.0000, Test Rho Error: 0.0000, Train Vx Error: 0.0000, Test Vx Error: 0.0000, Train Epsilon Error: 0.9316, Test Epsilon Error: 0.7995\n",
      "Epoch 17: Train Loss: 1.7684, Test Loss: 1.7609, Train Rho Error: 0.0000, Test Rho Error: 0.0000, Train Vx Error: 0.0000, Test Vx Error: 0.0000, Train Epsilon Error: 0.8159, Test Epsilon Error: 0.8002\n",
      "Epoch 18: Train Loss: 1.7684, Test Loss: 1.7612, Train Rho Error: 0.0000, Test Rho Error: 0.0000, Train Vx Error: 0.0000, Test Vx Error: 0.0000, Train Epsilon Error: 1.0123, Test Epsilon Error: 0.8030\n",
      "Epoch 19: Train Loss: 1.7684, Test Loss: 1.7609, Train Rho Error: 0.0000, Test Rho Error: 0.0000, Train Vx Error: 0.0000, Test Vx Error: 0.0000, Train Epsilon Error: 1.0715, Test Epsilon Error: 0.8008\n"
     ]
    },
    {
     "name": "stderr",
     "output_type": "stream",
     "text": [
      "NaN or Inf found in input tensor.\n"
     ]
    },
    {
     "name": "stdout",
     "output_type": "stream",
     "text": [
      "Epoch 20: Train Loss: 1.7684, Test Loss: 1.7607, Train Rho Error: 0.0000, Test Rho Error: 0.0000, Train Vx Error: 0.0000, Test Vx Error: 0.0000, Train Epsilon Error: inf, Test Epsilon Error: 0.7975\n",
      "Epoch 21: Train Loss: 1.7684, Test Loss: 1.7608, Train Rho Error: 0.0000, Test Rho Error: 0.0000, Train Vx Error: 0.0000, Test Vx Error: 0.0000, Train Epsilon Error: 1.1152, Test Epsilon Error: 0.7995\n",
      "Epoch 22: Train Loss: 1.7684, Test Loss: 1.7604, Train Rho Error: 0.0000, Test Rho Error: 0.0000, Train Vx Error: 0.0000, Test Vx Error: 0.0000, Train Epsilon Error: 1.1264, Test Epsilon Error: 0.7923\n",
      "Epoch 23: Train Loss: 1.7684, Test Loss: 1.7606, Train Rho Error: 0.0000, Test Rho Error: 0.0000, Train Vx Error: 0.0000, Test Vx Error: 0.0000, Train Epsilon Error: 1.3237, Test Epsilon Error: 0.7956\n",
      "Epoch 24: Train Loss: 1.7684, Test Loss: 1.7605, Train Rho Error: 0.0000, Test Rho Error: 0.0000, Train Vx Error: 0.0000, Test Vx Error: 0.0000, Train Epsilon Error: 0.9201, Test Epsilon Error: 0.7944\n",
      "Epoch 25: Train Loss: 1.7684, Test Loss: 1.7609, Train Rho Error: 0.0000, Test Rho Error: 0.0000, Train Vx Error: 0.0000, Test Vx Error: 0.0000, Train Epsilon Error: 1.4261, Test Epsilon Error: 0.8000\n",
      "Epoch 26: Train Loss: 1.7683, Test Loss: 1.7605, Train Rho Error: 0.0000, Test Rho Error: 0.0000, Train Vx Error: 0.0000, Test Vx Error: 0.0000, Train Epsilon Error: 1.2197, Test Epsilon Error: 0.7937\n",
      "Epoch 27: Train Loss: 1.7683, Test Loss: 1.7605, Train Rho Error: 0.0000, Test Rho Error: 0.0000, Train Vx Error: 0.0000, Test Vx Error: 0.0000, Train Epsilon Error: 1.2405, Test Epsilon Error: 0.7949\n",
      "Epoch 28: Train Loss: 1.7682, Test Loss: 1.7605, Train Rho Error: 0.0000, Test Rho Error: 0.0000, Train Vx Error: 0.0000, Test Vx Error: 0.0000, Train Epsilon Error: 1.0237, Test Epsilon Error: 0.7948\n",
      "Epoch 29: Train Loss: 1.7682, Test Loss: 1.7606, Train Rho Error: 0.0000, Test Rho Error: 0.0000, Train Vx Error: 0.0000, Test Vx Error: 0.0000, Train Epsilon Error: 0.8693, Test Epsilon Error: 0.7958\n",
      "Epoch 30: Train Loss: 1.7683, Test Loss: 1.7606, Train Rho Error: 0.0000, Test Rho Error: 0.0000, Train Vx Error: 0.0000, Test Vx Error: 0.0000, Train Epsilon Error: 1.2618, Test Epsilon Error: 0.7961\n",
      "Epoch 31: Train Loss: 1.7682, Test Loss: 1.7606, Train Rho Error: 0.0000, Test Rho Error: 0.0000, Train Vx Error: 0.0000, Test Vx Error: 0.0000, Train Epsilon Error: 1.5097, Test Epsilon Error: 0.7964\n",
      "Epoch 32: Train Loss: 1.7682, Test Loss: 1.7606, Train Rho Error: 0.0000, Test Rho Error: 0.0000, Train Vx Error: 0.0000, Test Vx Error: 0.0000, Train Epsilon Error: 1.0503, Test Epsilon Error: 0.7964\n",
      "Epoch 33: Train Loss: 1.7682, Test Loss: 1.7606, Train Rho Error: 0.0000, Test Rho Error: 0.0000, Train Vx Error: 0.0000, Test Vx Error: 0.0000, Train Epsilon Error: 1.0349, Test Epsilon Error: 0.7958\n",
      "Epoch 34: Train Loss: 1.7682, Test Loss: 1.7606, Train Rho Error: 0.0000, Test Rho Error: 0.0000, Train Vx Error: 0.0000, Test Vx Error: 0.0000, Train Epsilon Error: 1.0077, Test Epsilon Error: 0.7961\n",
      "Epoch 35: Train Loss: 1.7683, Test Loss: 1.7606, Train Rho Error: 0.0000, Test Rho Error: 0.0000, Train Vx Error: 0.0000, Test Vx Error: 0.0000, Train Epsilon Error: 1.0342, Test Epsilon Error: 0.7959\n",
      "Epoch 36: Train Loss: 1.7682, Test Loss: 1.7605, Train Rho Error: 0.0000, Test Rho Error: 0.0000, Train Vx Error: 0.0000, Test Vx Error: 0.0000, Train Epsilon Error: 0.9089, Test Epsilon Error: 0.7953\n",
      "Epoch 37: Train Loss: 1.7682, Test Loss: 1.7605, Train Rho Error: 0.0000, Test Rho Error: 0.0000, Train Vx Error: 0.0000, Test Vx Error: 0.0000, Train Epsilon Error: 0.9347, Test Epsilon Error: 0.7955\n",
      "Epoch 38: Train Loss: 1.7682, Test Loss: 1.7605, Train Rho Error: 0.0000, Test Rho Error: 0.0000, Train Vx Error: 0.0000, Test Vx Error: 0.0000, Train Epsilon Error: 0.9274, Test Epsilon Error: 0.7955\n",
      "Epoch 39: Train Loss: 1.7682, Test Loss: 1.7605, Train Rho Error: 0.0000, Test Rho Error: 0.0000, Train Vx Error: 0.0000, Test Vx Error: 0.0000, Train Epsilon Error: 1.1253, Test Epsilon Error: 0.7955\n",
      "Epoch 40: Train Loss: 1.7682, Test Loss: 1.7605, Train Rho Error: 0.0000, Test Rho Error: 0.0000, Train Vx Error: 0.0000, Test Vx Error: 0.0000, Train Epsilon Error: 0.8968, Test Epsilon Error: 0.7955\n",
      "Epoch 41: Train Loss: 1.7682, Test Loss: 1.7605, Train Rho Error: 0.0000, Test Rho Error: 0.0000, Train Vx Error: 0.0000, Test Vx Error: 0.0000, Train Epsilon Error: 1.6453, Test Epsilon Error: 0.7955\n",
      "Epoch 42: Train Loss: 1.7682, Test Loss: 1.7605, Train Rho Error: 0.0000, Test Rho Error: 0.0000, Train Vx Error: 0.0000, Test Vx Error: 0.0000, Train Epsilon Error: 0.8673, Test Epsilon Error: 0.7955\n",
      "Epoch 43: Train Loss: 1.7682, Test Loss: 1.7605, Train Rho Error: 0.0000, Test Rho Error: 0.0000, Train Vx Error: 0.0000, Test Vx Error: 0.0000, Train Epsilon Error: 1.3102, Test Epsilon Error: 0.7955\n",
      "Epoch 44: Train Loss: 1.7682, Test Loss: 1.7605, Train Rho Error: 0.0000, Test Rho Error: 0.0000, Train Vx Error: 0.0000, Test Vx Error: 0.0000, Train Epsilon Error: 0.9880, Test Epsilon Error: 0.7955\n",
      "Epoch 45: Train Loss: 1.7682, Test Loss: 1.7606, Train Rho Error: 0.0000, Test Rho Error: 0.0000, Train Vx Error: 0.0000, Test Vx Error: 0.0000, Train Epsilon Error: 0.9159, Test Epsilon Error: 0.7956\n",
      "Epoch 46: Train Loss: 1.7682, Test Loss: 1.7605, Train Rho Error: 0.0000, Test Rho Error: 0.0000, Train Vx Error: 0.0000, Test Vx Error: 0.0000, Train Epsilon Error: 1.4348, Test Epsilon Error: 0.7955\n",
      "Epoch 47: Train Loss: 1.7682, Test Loss: 1.7606, Train Rho Error: 0.0000, Test Rho Error: 0.0000, Train Vx Error: 0.0000, Test Vx Error: 0.0000, Train Epsilon Error: 1.0261, Test Epsilon Error: 0.7956\n",
      "Epoch 48: Train Loss: 1.7682, Test Loss: 1.7606, Train Rho Error: 0.0000, Test Rho Error: 0.0000, Train Vx Error: 0.0000, Test Vx Error: 0.0000, Train Epsilon Error: 1.1525, Test Epsilon Error: 0.7956\n",
      "Epoch 49: Train Loss: 1.7682, Test Loss: 1.7606, Train Rho Error: 0.0000, Test Rho Error: 0.0000, Train Vx Error: 0.0000, Test Vx Error: 0.0000, Train Epsilon Error: 1.3367, Test Epsilon Error: 0.7956\n",
      "Epoch 50: Train Loss: 1.7682, Test Loss: 1.7606, Train Rho Error: 0.0000, Test Rho Error: 0.0000, Train Vx Error: 0.0000, Test Vx Error: 0.0000, Train Epsilon Error: 1.0190, Test Epsilon Error: 0.7956\n",
      "Epoch 51: Train Loss: 1.7682, Test Loss: 1.7606, Train Rho Error: 0.0000, Test Rho Error: 0.0000, Train Vx Error: 0.0000, Test Vx Error: 0.0000, Train Epsilon Error: 1.9766, Test Epsilon Error: 0.7956\n",
      "Epoch 52: Train Loss: 1.7682, Test Loss: 1.7606, Train Rho Error: 0.0000, Test Rho Error: 0.0000, Train Vx Error: 0.0000, Test Vx Error: 0.0000, Train Epsilon Error: 2.8993, Test Epsilon Error: 0.7956\n",
      "Epoch 53: Train Loss: 1.7682, Test Loss: 1.7606, Train Rho Error: 0.0000, Test Rho Error: 0.0000, Train Vx Error: 0.0000, Test Vx Error: 0.0000, Train Epsilon Error: 1.6180, Test Epsilon Error: 0.7956\n",
      "Epoch 54: Train Loss: 1.7682, Test Loss: 1.7606, Train Rho Error: 0.0000, Test Rho Error: 0.0000, Train Vx Error: 0.0000, Test Vx Error: 0.0000, Train Epsilon Error: 1.4035, Test Epsilon Error: 0.7956\n",
      "Epoch 55: Train Loss: 1.7682, Test Loss: 1.7606, Train Rho Error: 0.0000, Test Rho Error: 0.0000, Train Vx Error: 0.0000, Test Vx Error: 0.0000, Train Epsilon Error: 1.1225, Test Epsilon Error: 0.7956\n",
      "Epoch 56: Train Loss: 1.7682, Test Loss: 1.7606, Train Rho Error: 0.0000, Test Rho Error: 0.0000, Train Vx Error: 0.0000, Test Vx Error: 0.0000, Train Epsilon Error: 1.6002, Test Epsilon Error: 0.7956\n",
      "Epoch 57: Train Loss: 1.7682, Test Loss: 1.7606, Train Rho Error: 0.0000, Test Rho Error: 0.0000, Train Vx Error: 0.0000, Test Vx Error: 0.0000, Train Epsilon Error: 0.8708, Test Epsilon Error: 0.7956\n",
      "Epoch 58: Train Loss: 1.7682, Test Loss: 1.7606, Train Rho Error: 0.0000, Test Rho Error: 0.0000, Train Vx Error: 0.0000, Test Vx Error: 0.0000, Train Epsilon Error: 1.1123, Test Epsilon Error: 0.7956\n",
      "Epoch 59: Train Loss: 1.7682, Test Loss: 1.7606, Train Rho Error: 0.0000, Test Rho Error: 0.0000, Train Vx Error: 0.0000, Test Vx Error: 0.0000, Train Epsilon Error: 1.2794, Test Epsilon Error: 0.7956\n",
      "Epoch 60: Train Loss: 1.7682, Test Loss: 1.7606, Train Rho Error: 0.0000, Test Rho Error: 0.0000, Train Vx Error: 0.0000, Test Vx Error: 0.0000, Train Epsilon Error: 1.1322, Test Epsilon Error: 0.7956\n",
      "Epoch 61: Train Loss: 1.7682, Test Loss: 1.7606, Train Rho Error: 0.0000, Test Rho Error: 0.0000, Train Vx Error: 0.0000, Test Vx Error: 0.0000, Train Epsilon Error: 1.2106, Test Epsilon Error: 0.7956\n",
      "Epoch 62: Train Loss: 1.7682, Test Loss: 1.7606, Train Rho Error: 0.0000, Test Rho Error: 0.0000, Train Vx Error: 0.0000, Test Vx Error: 0.0000, Train Epsilon Error: 0.8959, Test Epsilon Error: 0.7956\n",
      "Epoch 63: Train Loss: 1.7682, Test Loss: 1.7606, Train Rho Error: 0.0000, Test Rho Error: 0.0000, Train Vx Error: 0.0000, Test Vx Error: 0.0000, Train Epsilon Error: 1.1037, Test Epsilon Error: 0.7956\n",
      "Epoch 64: Train Loss: 1.7682, Test Loss: 1.7606, Train Rho Error: 0.0000, Test Rho Error: 0.0000, Train Vx Error: 0.0000, Test Vx Error: 0.0000, Train Epsilon Error: 0.9778, Test Epsilon Error: 0.7956\n",
      "Epoch 65: Train Loss: 1.7682, Test Loss: 1.7606, Train Rho Error: 0.0000, Test Rho Error: 0.0000, Train Vx Error: 0.0000, Test Vx Error: 0.0000, Train Epsilon Error: 0.9806, Test Epsilon Error: 0.7956\n",
      "Epoch 66: Train Loss: 1.7682, Test Loss: 1.7606, Train Rho Error: 0.0000, Test Rho Error: 0.0000, Train Vx Error: 0.0000, Test Vx Error: 0.0000, Train Epsilon Error: 0.8718, Test Epsilon Error: 0.7956\n",
      "Epoch 67: Train Loss: 1.7682, Test Loss: 1.7606, Train Rho Error: 0.0000, Test Rho Error: 0.0000, Train Vx Error: 0.0000, Test Vx Error: 0.0000, Train Epsilon Error: 0.9525, Test Epsilon Error: 0.7956\n",
      "Epoch 68: Train Loss: 1.7682, Test Loss: 1.7606, Train Rho Error: 0.0000, Test Rho Error: 0.0000, Train Vx Error: 0.0000, Test Vx Error: 0.0000, Train Epsilon Error: 0.9763, Test Epsilon Error: 0.7956\n",
      "Epoch 69: Train Loss: 1.7682, Test Loss: 1.7606, Train Rho Error: 0.0000, Test Rho Error: 0.0000, Train Vx Error: 0.0000, Test Vx Error: 0.0000, Train Epsilon Error: 1.2126, Test Epsilon Error: 0.7956\n",
      "Epoch 70: Train Loss: 1.7682, Test Loss: 1.7606, Train Rho Error: 0.0000, Test Rho Error: 0.0000, Train Vx Error: 0.0000, Test Vx Error: 0.0000, Train Epsilon Error: 0.9217, Test Epsilon Error: 0.7956\n",
      "Epoch 71: Train Loss: 1.7682, Test Loss: 1.7606, Train Rho Error: 0.0000, Test Rho Error: 0.0000, Train Vx Error: 0.0000, Test Vx Error: 0.0000, Train Epsilon Error: 1.1070, Test Epsilon Error: 0.7956\n",
      "Epoch 72: Train Loss: 1.7682, Test Loss: 1.7606, Train Rho Error: 0.0000, Test Rho Error: 0.0000, Train Vx Error: 0.0000, Test Vx Error: 0.0000, Train Epsilon Error: 1.3051, Test Epsilon Error: 0.7956\n",
      "Epoch 73: Train Loss: 1.7682, Test Loss: 1.7606, Train Rho Error: 0.0000, Test Rho Error: 0.0000, Train Vx Error: 0.0000, Test Vx Error: 0.0000, Train Epsilon Error: 1.1820, Test Epsilon Error: 0.7956\n",
      "Epoch 74: Train Loss: 1.7682, Test Loss: 1.7606, Train Rho Error: 0.0000, Test Rho Error: 0.0000, Train Vx Error: 0.0000, Test Vx Error: 0.0000, Train Epsilon Error: 1.1778, Test Epsilon Error: 0.7956\n",
      "Epoch 75: Train Loss: 1.7682, Test Loss: 1.7606, Train Rho Error: 0.0000, Test Rho Error: 0.0000, Train Vx Error: 0.0000, Test Vx Error: 0.0000, Train Epsilon Error: 0.9972, Test Epsilon Error: 0.7956\n"
     ]
    },
    {
     "name": "stderr",
     "output_type": "stream",
     "text": [
      "NaN or Inf found in input tensor.\n"
     ]
    },
    {
     "name": "stdout",
     "output_type": "stream",
     "text": [
      "Epoch 76: Train Loss: 1.7682, Test Loss: 1.7606, Train Rho Error: 0.0000, Test Rho Error: 0.0000, Train Vx Error: 0.0000, Test Vx Error: 0.0000, Train Epsilon Error: inf, Test Epsilon Error: 0.7956\n",
      "Epoch 77: Train Loss: 1.7682, Test Loss: 1.7606, Train Rho Error: 0.0000, Test Rho Error: 0.0000, Train Vx Error: 0.0000, Test Vx Error: 0.0000, Train Epsilon Error: 1.1997, Test Epsilon Error: 0.7956\n",
      "Epoch 78: Train Loss: 1.7682, Test Loss: 1.7606, Train Rho Error: 0.0000, Test Rho Error: 0.0000, Train Vx Error: 0.0000, Test Vx Error: 0.0000, Train Epsilon Error: 1.7641, Test Epsilon Error: 0.7956\n",
      "Epoch 79: Train Loss: 1.7682, Test Loss: 1.7606, Train Rho Error: 0.0000, Test Rho Error: 0.0000, Train Vx Error: 0.0000, Test Vx Error: 0.0000, Train Epsilon Error: 1.3043, Test Epsilon Error: 0.7956\n",
      "Epoch 80: Train Loss: 1.7682, Test Loss: 1.7606, Train Rho Error: 0.0000, Test Rho Error: 0.0000, Train Vx Error: 0.0000, Test Vx Error: 0.0000, Train Epsilon Error: 1.3435, Test Epsilon Error: 0.7956\n",
      "Epoch 81: Train Loss: 1.7682, Test Loss: 1.7606, Train Rho Error: 0.0000, Test Rho Error: 0.0000, Train Vx Error: 0.0000, Test Vx Error: 0.0000, Train Epsilon Error: 0.8543, Test Epsilon Error: 0.7956\n"
     ]
    },
    {
     "name": "stderr",
     "output_type": "stream",
     "text": [
      "\u001b[33m[W 2023-05-05 14:02:05,386]\u001b[0m Trial 11 failed with parameters: {'n_layers': 5, 'n_units_0': 156, 'n_units_1': 78, 'n_units_2': 6, 'n_units_3': 70, 'n_units_4': 10, 'hidden_activation': 'Tanh', 'output_activation': 'Linear', 'loss': 'LogCosh', 'optimizer': 'RMSprop', 'lr': 0.006023083882322134, 'batch_size': 185, 'n_epochs': 200, 'scheduler': 'ReduceLROnPlateau'} because of the following error: KeyboardInterrupt().\u001b[0m\n",
      "Traceback (most recent call last):\n",
      "  File \"/home/codespace/.python/current/lib/python3.10/site-packages/optuna/study/_optimize.py\", line 200, in _run_trial\n",
      "    value_or_values = func(trial)\n",
      "  File \"/tmp/ipykernel_16096/2352226087.py\", line 15, in objective\n",
      "    _, _, _, test_metrics = train_and_eval(\n",
      "  File \"/tmp/ipykernel_16096/2920593025.py\", line 48, in train_and_eval\n",
      "    for x_batch, y_batch in train_loader:\n",
      "  File \"/home/codespace/.local/lib/python3.10/site-packages/torch/utils/data/dataloader.py\", line 634, in __next__\n",
      "    data = self._next_data()\n",
      "  File \"/home/codespace/.local/lib/python3.10/site-packages/torch/utils/data/dataloader.py\", line 678, in _next_data\n",
      "    data = self._dataset_fetcher.fetch(index)  # may raise StopIteration\n",
      "  File \"/home/codespace/.local/lib/python3.10/site-packages/torch/utils/data/_utils/fetch.py\", line 51, in fetch\n",
      "    data = [self.dataset[idx] for idx in possibly_batched_index]\n",
      "  File \"/home/codespace/.local/lib/python3.10/site-packages/torch/utils/data/_utils/fetch.py\", line 51, in <listcomp>\n",
      "    data = [self.dataset[idx] for idx in possibly_batched_index]\n",
      "  File \"/home/codespace/.local/lib/python3.10/site-packages/torch/utils/data/dataset.py\", line 196, in __getitem__\n",
      "    return tuple(tensor[index] for tensor in self.tensors)\n",
      "  File \"/home/codespace/.local/lib/python3.10/site-packages/torch/utils/data/dataset.py\", line 196, in <genexpr>\n",
      "    return tuple(tensor[index] for tensor in self.tensors)\n",
      "KeyboardInterrupt\n",
      "\u001b[33m[W 2023-05-05 14:02:05,396]\u001b[0m Trial 11 failed with value None.\u001b[0m\n"
     ]
    },
    {
     "ename": "KeyboardInterrupt",
     "evalue": "",
     "output_type": "error",
     "traceback": [
      "\u001b[0;31m---------------------------------------------------------------------------\u001b[0m",
      "\u001b[0;31mKeyboardInterrupt\u001b[0m                         Traceback (most recent call last)",
      "Cell \u001b[0;32mIn[22], line 5\u001b[0m\n\u001b[1;32m      2\u001b[0m study \u001b[39m=\u001b[39m optuna\u001b[39m.\u001b[39mcreate_study(direction\u001b[39m=\u001b[39m\u001b[39m\"\u001b[39m\u001b[39mminimize\u001b[39m\u001b[39m\"\u001b[39m, sampler\u001b[39m=\u001b[39moptuna\u001b[39m.\u001b[39msamplers\u001b[39m.\u001b[39mTPESampler(), pruner\u001b[39m=\u001b[39moptuna\u001b[39m.\u001b[39mpruners\u001b[39m.\u001b[39mMedianPruner())\n\u001b[1;32m      4\u001b[0m \u001b[39m# Running Optuna with 100 trials without sampler and pruner arguments\u001b[39;00m\n\u001b[0;32m----> 5\u001b[0m study\u001b[39m.\u001b[39;49moptimize(objective, n_trials\u001b[39m=\u001b[39;49m\u001b[39m100\u001b[39;49m)\n\u001b[1;32m      7\u001b[0m \u001b[39m# Printing the best trial information\u001b[39;00m\n\u001b[1;32m      8\u001b[0m \u001b[39mprint\u001b[39m(\u001b[39m\"\u001b[39m\u001b[39mBest trial:\u001b[39m\u001b[39m\"\u001b[39m)\n",
      "File \u001b[0;32m~/.python/current/lib/python3.10/site-packages/optuna/study/study.py:425\u001b[0m, in \u001b[0;36mStudy.optimize\u001b[0;34m(self, func, n_trials, timeout, n_jobs, catch, callbacks, gc_after_trial, show_progress_bar)\u001b[0m\n\u001b[1;32m    321\u001b[0m \u001b[39mdef\u001b[39;00m \u001b[39moptimize\u001b[39m(\n\u001b[1;32m    322\u001b[0m     \u001b[39mself\u001b[39m,\n\u001b[1;32m    323\u001b[0m     func: ObjectiveFuncType,\n\u001b[0;32m   (...)\u001b[0m\n\u001b[1;32m    330\u001b[0m     show_progress_bar: \u001b[39mbool\u001b[39m \u001b[39m=\u001b[39m \u001b[39mFalse\u001b[39;00m,\n\u001b[1;32m    331\u001b[0m ) \u001b[39m-\u001b[39m\u001b[39m>\u001b[39m \u001b[39mNone\u001b[39;00m:\n\u001b[1;32m    332\u001b[0m \u001b[39m    \u001b[39m\u001b[39m\"\"\"Optimize an objective function.\u001b[39;00m\n\u001b[1;32m    333\u001b[0m \n\u001b[1;32m    334\u001b[0m \u001b[39m    Optimization is done by choosing a suitable set of hyperparameter values from a given\u001b[39;00m\n\u001b[0;32m   (...)\u001b[0m\n\u001b[1;32m    422\u001b[0m \u001b[39m            If nested invocation of this method occurs.\u001b[39;00m\n\u001b[1;32m    423\u001b[0m \u001b[39m    \"\"\"\u001b[39;00m\n\u001b[0;32m--> 425\u001b[0m     _optimize(\n\u001b[1;32m    426\u001b[0m         study\u001b[39m=\u001b[39;49m\u001b[39mself\u001b[39;49m,\n\u001b[1;32m    427\u001b[0m         func\u001b[39m=\u001b[39;49mfunc,\n\u001b[1;32m    428\u001b[0m         n_trials\u001b[39m=\u001b[39;49mn_trials,\n\u001b[1;32m    429\u001b[0m         timeout\u001b[39m=\u001b[39;49mtimeout,\n\u001b[1;32m    430\u001b[0m         n_jobs\u001b[39m=\u001b[39;49mn_jobs,\n\u001b[1;32m    431\u001b[0m         catch\u001b[39m=\u001b[39;49m\u001b[39mtuple\u001b[39;49m(catch) \u001b[39mif\u001b[39;49;00m \u001b[39misinstance\u001b[39;49m(catch, Iterable) \u001b[39melse\u001b[39;49;00m (catch,),\n\u001b[1;32m    432\u001b[0m         callbacks\u001b[39m=\u001b[39;49mcallbacks,\n\u001b[1;32m    433\u001b[0m         gc_after_trial\u001b[39m=\u001b[39;49mgc_after_trial,\n\u001b[1;32m    434\u001b[0m         show_progress_bar\u001b[39m=\u001b[39;49mshow_progress_bar,\n\u001b[1;32m    435\u001b[0m     )\n",
      "File \u001b[0;32m~/.python/current/lib/python3.10/site-packages/optuna/study/_optimize.py:66\u001b[0m, in \u001b[0;36m_optimize\u001b[0;34m(study, func, n_trials, timeout, n_jobs, catch, callbacks, gc_after_trial, show_progress_bar)\u001b[0m\n\u001b[1;32m     64\u001b[0m \u001b[39mtry\u001b[39;00m:\n\u001b[1;32m     65\u001b[0m     \u001b[39mif\u001b[39;00m n_jobs \u001b[39m==\u001b[39m \u001b[39m1\u001b[39m:\n\u001b[0;32m---> 66\u001b[0m         _optimize_sequential(\n\u001b[1;32m     67\u001b[0m             study,\n\u001b[1;32m     68\u001b[0m             func,\n\u001b[1;32m     69\u001b[0m             n_trials,\n\u001b[1;32m     70\u001b[0m             timeout,\n\u001b[1;32m     71\u001b[0m             catch,\n\u001b[1;32m     72\u001b[0m             callbacks,\n\u001b[1;32m     73\u001b[0m             gc_after_trial,\n\u001b[1;32m     74\u001b[0m             reseed_sampler_rng\u001b[39m=\u001b[39;49m\u001b[39mFalse\u001b[39;49;00m,\n\u001b[1;32m     75\u001b[0m             time_start\u001b[39m=\u001b[39;49m\u001b[39mNone\u001b[39;49;00m,\n\u001b[1;32m     76\u001b[0m             progress_bar\u001b[39m=\u001b[39;49mprogress_bar,\n\u001b[1;32m     77\u001b[0m         )\n\u001b[1;32m     78\u001b[0m     \u001b[39melse\u001b[39;00m:\n\u001b[1;32m     79\u001b[0m         \u001b[39mif\u001b[39;00m n_jobs \u001b[39m==\u001b[39m \u001b[39m-\u001b[39m\u001b[39m1\u001b[39m:\n",
      "File \u001b[0;32m~/.python/current/lib/python3.10/site-packages/optuna/study/_optimize.py:163\u001b[0m, in \u001b[0;36m_optimize_sequential\u001b[0;34m(study, func, n_trials, timeout, catch, callbacks, gc_after_trial, reseed_sampler_rng, time_start, progress_bar)\u001b[0m\n\u001b[1;32m    160\u001b[0m         \u001b[39mbreak\u001b[39;00m\n\u001b[1;32m    162\u001b[0m \u001b[39mtry\u001b[39;00m:\n\u001b[0;32m--> 163\u001b[0m     frozen_trial \u001b[39m=\u001b[39m _run_trial(study, func, catch)\n\u001b[1;32m    164\u001b[0m \u001b[39mfinally\u001b[39;00m:\n\u001b[1;32m    165\u001b[0m     \u001b[39m# The following line mitigates memory problems that can be occurred in some\u001b[39;00m\n\u001b[1;32m    166\u001b[0m     \u001b[39m# environments (e.g., services that use computing containers such as GitHub Actions).\u001b[39;00m\n\u001b[1;32m    167\u001b[0m     \u001b[39m# Please refer to the following PR for further details:\u001b[39;00m\n\u001b[1;32m    168\u001b[0m     \u001b[39m# https://github.com/optuna/optuna/pull/325.\u001b[39;00m\n\u001b[1;32m    169\u001b[0m     \u001b[39mif\u001b[39;00m gc_after_trial:\n",
      "File \u001b[0;32m~/.python/current/lib/python3.10/site-packages/optuna/study/_optimize.py:251\u001b[0m, in \u001b[0;36m_run_trial\u001b[0;34m(study, func, catch)\u001b[0m\n\u001b[1;32m    244\u001b[0m         \u001b[39massert\u001b[39;00m \u001b[39mFalse\u001b[39;00m, \u001b[39m\"\u001b[39m\u001b[39mShould not reach.\u001b[39m\u001b[39m\"\u001b[39m\n\u001b[1;32m    246\u001b[0m \u001b[39mif\u001b[39;00m (\n\u001b[1;32m    247\u001b[0m     frozen_trial\u001b[39m.\u001b[39mstate \u001b[39m==\u001b[39m TrialState\u001b[39m.\u001b[39mFAIL\n\u001b[1;32m    248\u001b[0m     \u001b[39mand\u001b[39;00m func_err \u001b[39mis\u001b[39;00m \u001b[39mnot\u001b[39;00m \u001b[39mNone\u001b[39;00m\n\u001b[1;32m    249\u001b[0m     \u001b[39mand\u001b[39;00m \u001b[39mnot\u001b[39;00m \u001b[39misinstance\u001b[39m(func_err, catch)\n\u001b[1;32m    250\u001b[0m ):\n\u001b[0;32m--> 251\u001b[0m     \u001b[39mraise\u001b[39;00m func_err\n\u001b[1;32m    252\u001b[0m \u001b[39mreturn\u001b[39;00m frozen_trial\n",
      "File \u001b[0;32m~/.python/current/lib/python3.10/site-packages/optuna/study/_optimize.py:200\u001b[0m, in \u001b[0;36m_run_trial\u001b[0;34m(study, func, catch)\u001b[0m\n\u001b[1;32m    198\u001b[0m \u001b[39mwith\u001b[39;00m get_heartbeat_thread(trial\u001b[39m.\u001b[39m_trial_id, study\u001b[39m.\u001b[39m_storage):\n\u001b[1;32m    199\u001b[0m     \u001b[39mtry\u001b[39;00m:\n\u001b[0;32m--> 200\u001b[0m         value_or_values \u001b[39m=\u001b[39m func(trial)\n\u001b[1;32m    201\u001b[0m     \u001b[39mexcept\u001b[39;00m exceptions\u001b[39m.\u001b[39mTrialPruned \u001b[39mas\u001b[39;00m e:\n\u001b[1;32m    202\u001b[0m         \u001b[39m# TODO(mamu): Handle multi-objective cases.\u001b[39;00m\n\u001b[1;32m    203\u001b[0m         state \u001b[39m=\u001b[39m TrialState\u001b[39m.\u001b[39mPRUNED\n",
      "Cell \u001b[0;32mIn[21], line 15\u001b[0m, in \u001b[0;36mobjective\u001b[0;34m(trial)\u001b[0m\n\u001b[1;32m     12\u001b[0m net, loss_fn, optimizer, batch_size, n_epochs, scheduler \u001b[39m=\u001b[39m create_model(trial)\n\u001b[1;32m     14\u001b[0m \u001b[39m# Training and evaluating the network using the train_and_eval function\u001b[39;00m\n\u001b[0;32m---> 15\u001b[0m _, _, _, test_metrics \u001b[39m=\u001b[39m train_and_eval(\n\u001b[1;32m     16\u001b[0m     net, loss_fn, optimizer, batch_size, n_epochs, scheduler\n\u001b[1;32m     17\u001b[0m )\n\u001b[1;32m     19\u001b[0m \u001b[39m# Returning the last validation epsilon error as the objective value to minimize\u001b[39;00m\n\u001b[1;32m     20\u001b[0m \u001b[39mreturn\u001b[39;00m test_metrics[\u001b[39m-\u001b[39m\u001b[39m1\u001b[39m][\u001b[39m\"\u001b[39m\u001b[39mepsilon_error\u001b[39m\u001b[39m\"\u001b[39m]\n",
      "Cell \u001b[0;32mIn[20], line 48\u001b[0m, in \u001b[0;36mtrain_and_eval\u001b[0;34m(net, loss_fn, optimizer, batch_size, n_epochs, scheduler)\u001b[0m\n\u001b[1;32m     45\u001b[0m train_epsilon_error \u001b[39m=\u001b[39m \u001b[39m0.0\u001b[39m\n\u001b[1;32m     47\u001b[0m \u001b[39m# Looping over the batches in the train set\u001b[39;00m\n\u001b[0;32m---> 48\u001b[0m \u001b[39mfor\u001b[39;00m x_batch, y_batch \u001b[39min\u001b[39;00m train_loader:\n\u001b[1;32m     49\u001b[0m \n\u001b[1;32m     50\u001b[0m     \u001b[39m# Moving the batch tensors to the device\u001b[39;00m\n\u001b[1;32m     51\u001b[0m     x_batch \u001b[39m=\u001b[39m x_batch\u001b[39m.\u001b[39mto(device)\n\u001b[1;32m     52\u001b[0m     y_batch \u001b[39m=\u001b[39m y_batch\u001b[39m.\u001b[39mto(device)\n",
      "File \u001b[0;32m~/.local/lib/python3.10/site-packages/torch/utils/data/dataloader.py:634\u001b[0m, in \u001b[0;36m_BaseDataLoaderIter.__next__\u001b[0;34m(self)\u001b[0m\n\u001b[1;32m    631\u001b[0m \u001b[39mif\u001b[39;00m \u001b[39mself\u001b[39m\u001b[39m.\u001b[39m_sampler_iter \u001b[39mis\u001b[39;00m \u001b[39mNone\u001b[39;00m:\n\u001b[1;32m    632\u001b[0m     \u001b[39m# TODO(https://github.com/pytorch/pytorch/issues/76750)\u001b[39;00m\n\u001b[1;32m    633\u001b[0m     \u001b[39mself\u001b[39m\u001b[39m.\u001b[39m_reset()  \u001b[39m# type: ignore[call-arg]\u001b[39;00m\n\u001b[0;32m--> 634\u001b[0m data \u001b[39m=\u001b[39m \u001b[39mself\u001b[39;49m\u001b[39m.\u001b[39;49m_next_data()\n\u001b[1;32m    635\u001b[0m \u001b[39mself\u001b[39m\u001b[39m.\u001b[39m_num_yielded \u001b[39m+\u001b[39m\u001b[39m=\u001b[39m \u001b[39m1\u001b[39m\n\u001b[1;32m    636\u001b[0m \u001b[39mif\u001b[39;00m \u001b[39mself\u001b[39m\u001b[39m.\u001b[39m_dataset_kind \u001b[39m==\u001b[39m _DatasetKind\u001b[39m.\u001b[39mIterable \u001b[39mand\u001b[39;00m \\\n\u001b[1;32m    637\u001b[0m         \u001b[39mself\u001b[39m\u001b[39m.\u001b[39m_IterableDataset_len_called \u001b[39mis\u001b[39;00m \u001b[39mnot\u001b[39;00m \u001b[39mNone\u001b[39;00m \u001b[39mand\u001b[39;00m \\\n\u001b[1;32m    638\u001b[0m         \u001b[39mself\u001b[39m\u001b[39m.\u001b[39m_num_yielded \u001b[39m>\u001b[39m \u001b[39mself\u001b[39m\u001b[39m.\u001b[39m_IterableDataset_len_called:\n",
      "File \u001b[0;32m~/.local/lib/python3.10/site-packages/torch/utils/data/dataloader.py:678\u001b[0m, in \u001b[0;36m_SingleProcessDataLoaderIter._next_data\u001b[0;34m(self)\u001b[0m\n\u001b[1;32m    676\u001b[0m \u001b[39mdef\u001b[39;00m \u001b[39m_next_data\u001b[39m(\u001b[39mself\u001b[39m):\n\u001b[1;32m    677\u001b[0m     index \u001b[39m=\u001b[39m \u001b[39mself\u001b[39m\u001b[39m.\u001b[39m_next_index()  \u001b[39m# may raise StopIteration\u001b[39;00m\n\u001b[0;32m--> 678\u001b[0m     data \u001b[39m=\u001b[39m \u001b[39mself\u001b[39;49m\u001b[39m.\u001b[39;49m_dataset_fetcher\u001b[39m.\u001b[39;49mfetch(index)  \u001b[39m# may raise StopIteration\u001b[39;00m\n\u001b[1;32m    679\u001b[0m     \u001b[39mif\u001b[39;00m \u001b[39mself\u001b[39m\u001b[39m.\u001b[39m_pin_memory:\n\u001b[1;32m    680\u001b[0m         data \u001b[39m=\u001b[39m _utils\u001b[39m.\u001b[39mpin_memory\u001b[39m.\u001b[39mpin_memory(data, \u001b[39mself\u001b[39m\u001b[39m.\u001b[39m_pin_memory_device)\n",
      "File \u001b[0;32m~/.local/lib/python3.10/site-packages/torch/utils/data/_utils/fetch.py:51\u001b[0m, in \u001b[0;36m_MapDatasetFetcher.fetch\u001b[0;34m(self, possibly_batched_index)\u001b[0m\n\u001b[1;32m     49\u001b[0m         data \u001b[39m=\u001b[39m \u001b[39mself\u001b[39m\u001b[39m.\u001b[39mdataset\u001b[39m.\u001b[39m__getitems__(possibly_batched_index)\n\u001b[1;32m     50\u001b[0m     \u001b[39melse\u001b[39;00m:\n\u001b[0;32m---> 51\u001b[0m         data \u001b[39m=\u001b[39m [\u001b[39mself\u001b[39m\u001b[39m.\u001b[39mdataset[idx] \u001b[39mfor\u001b[39;00m idx \u001b[39min\u001b[39;00m possibly_batched_index]\n\u001b[1;32m     52\u001b[0m \u001b[39melse\u001b[39;00m:\n\u001b[1;32m     53\u001b[0m     data \u001b[39m=\u001b[39m \u001b[39mself\u001b[39m\u001b[39m.\u001b[39mdataset[possibly_batched_index]\n",
      "File \u001b[0;32m~/.local/lib/python3.10/site-packages/torch/utils/data/_utils/fetch.py:51\u001b[0m, in \u001b[0;36m<listcomp>\u001b[0;34m(.0)\u001b[0m\n\u001b[1;32m     49\u001b[0m         data \u001b[39m=\u001b[39m \u001b[39mself\u001b[39m\u001b[39m.\u001b[39mdataset\u001b[39m.\u001b[39m__getitems__(possibly_batched_index)\n\u001b[1;32m     50\u001b[0m     \u001b[39melse\u001b[39;00m:\n\u001b[0;32m---> 51\u001b[0m         data \u001b[39m=\u001b[39m [\u001b[39mself\u001b[39;49m\u001b[39m.\u001b[39;49mdataset[idx] \u001b[39mfor\u001b[39;00m idx \u001b[39min\u001b[39;00m possibly_batched_index]\n\u001b[1;32m     52\u001b[0m \u001b[39melse\u001b[39;00m:\n\u001b[1;32m     53\u001b[0m     data \u001b[39m=\u001b[39m \u001b[39mself\u001b[39m\u001b[39m.\u001b[39mdataset[possibly_batched_index]\n",
      "File \u001b[0;32m~/.local/lib/python3.10/site-packages/torch/utils/data/dataset.py:196\u001b[0m, in \u001b[0;36mTensorDataset.__getitem__\u001b[0;34m(self, index)\u001b[0m\n\u001b[1;32m    195\u001b[0m \u001b[39mdef\u001b[39;00m \u001b[39m__getitem__\u001b[39m(\u001b[39mself\u001b[39m, index):\n\u001b[0;32m--> 196\u001b[0m     \u001b[39mreturn\u001b[39;00m \u001b[39mtuple\u001b[39;49m(tensor[index] \u001b[39mfor\u001b[39;49;00m tensor \u001b[39min\u001b[39;49;00m \u001b[39mself\u001b[39;49m\u001b[39m.\u001b[39;49mtensors)\n",
      "File \u001b[0;32m~/.local/lib/python3.10/site-packages/torch/utils/data/dataset.py:196\u001b[0m, in \u001b[0;36m<genexpr>\u001b[0;34m(.0)\u001b[0m\n\u001b[1;32m    195\u001b[0m \u001b[39mdef\u001b[39;00m \u001b[39m__getitem__\u001b[39m(\u001b[39mself\u001b[39m, index):\n\u001b[0;32m--> 196\u001b[0m     \u001b[39mreturn\u001b[39;00m \u001b[39mtuple\u001b[39m(tensor[index] \u001b[39mfor\u001b[39;00m tensor \u001b[39min\u001b[39;00m \u001b[39mself\u001b[39m\u001b[39m.\u001b[39mtensors)\n",
      "\u001b[0;31mKeyboardInterrupt\u001b[0m: "
     ]
    }
   ],
   "source": [
    "# Creating a study object with Optuna with TPE sampler and median pruner\n",
    "study = optuna.create_study(direction=\"minimize\", sampler=optuna.samplers.TPESampler(), pruner=optuna.pruners.MedianPruner())\n",
    "\n",
    "# Running Optuna with 100 trials without sampler and pruner arguments\n",
    "study.optimize(objective, n_trials=100)\n",
    "\n",
    "# Printing the best trial information\n",
    "print(\"Best trial:\")\n",
    "trial = study.best_trial\n",
    "print(\"  Value: \", trial.value)\n",
    "print(\"  Params: \")\n",
    "for key, value in trial.params.items():\n",
    "    print(f\"    {key}: {value}\")"
   ]
  },
  {
   "attachments": {},
   "cell_type": "markdown",
   "metadata": {},
   "source": [
    "## Training with the best hyperparameters"
   ]
  },
  {
   "cell_type": "code",
   "execution_count": null,
   "metadata": {},
   "outputs": [],
   "source": [
    "# Creating the best network and optimizer using the best hyperparameters\n",
    "net, loss_fn, optimizer, batch_size, n_epochs, scheduler = create_model(trial)\n",
    "\n",
    "# Training and evaluating the best network using the train_and_eval function\n",
    "train_losses, test_losses, train_metrics, test_metrics = train_and_eval(\n",
    "    net, loss_fn, optimizer, batch_size, n_epochs, scheduler\n",
    ")\n"
   ]
  },
  {
   "attachments": {},
   "cell_type": "markdown",
   "metadata": {},
   "source": [
    "## Visualizing the results"
   ]
  },
  {
   "cell_type": "code",
   "execution_count": null,
   "metadata": {},
   "outputs": [],
   "source": [
    "# Plotting the losses and metrics for the best network\n",
    "plt.figure(figsize=(12, 8))\n",
    "plt.subplot(2, 2, 1)\n",
    "plt.plot(train_losses, label=\"Train Loss\")\n",
    "plt.plot(test_losses, label=\"Test Loss\")\n",
    "plt.xlabel(\"Epoch\")\n",
    "plt.ylabel(\"Loss\")\n",
    "plt.legend()\n",
    "plt.subplot(2, 2, 2)\n",
    "plt.plot([m[\"rho_error\"] for m in train_metrics], label=\"Train Rho Error\")\n",
    "plt.plot([m[\"rho_error\"] for m in test_metrics], label=\"Test Rho Error\")\n",
    "plt.xlabel(\"Epoch\")\n",
    "plt.ylabel(\"Rho Error\")\n",
    "plt.legend()\n",
    "plt.subplot(2, 2, 3)\n",
    "plt.plot([m[\"vx_error\"] for m in train_metrics], label=\"Train Vx Error\")\n",
    "plt.plot([m[\"vx_error\"] for m in test_metrics], label=\"Test Vx Error\")\n",
    "plt.xlabel(\"Epoch\")\n",
    "plt.ylabel(\"Vx Error\")\n",
    "plt.legend()\n",
    "plt.subplot(2, 2, 4)\n",
    "plt.plot([m[\"epsilon_error\"] for m in train_metrics], label=\"Train Epsilon Error\")\n",
    "plt.plot([m[\"epsilon_error\"] for m in test_metrics], label=\"Test Epsilon Error\")\n",
    "plt.xlabel(\"Epoch\")\n",
    "plt.ylabel(\"Epsilon Error\")\n",
    "plt.legend()\n",
    "plt.tight_layout()\n",
    "plt.show()\n"
   ]
  },
  {
   "attachments": {},
   "cell_type": "markdown",
   "metadata": {},
   "source": [
    "## Saving"
   ]
  },
  {
   "cell_type": "code",
   "execution_count": null,
   "metadata": {},
   "outputs": [],
   "source": [
    "import pickle\n",
    "import pandas as pd\n",
    "\n",
    "# Saving the best network state dictionary using torch.save\n",
    "torch.save(net.state_dict(), \"best_net.pth\")\n",
    "\n",
    "# Saving the loss function name using pickle\n",
    "with open(\"loss_fn.pkl\", \"wb\") as f:\n",
    "    pickle.dump(loss_name, f)\n",
    "\n",
    "# Saving the optimizer name and parameters using pickle\n",
    "with open(\"optimizer.pkl\", \"wb\") as f:\n",
    "    pickle.dump((optimizer_name, optimizer.state_dict()), f)\n",
    "\n",
    "# Saving the best number of epochs using pickle\n",
    "with open(\"n_epochs.pkl\", \"wb\") as f:\n",
    "    pickle.dump(n_epochs, f)\n",
    "\n",
    "# Saving the scheduler name and parameters using pickle\n",
    "with open(\"scheduler.pkl\", \"wb\") as f:\n",
    "    pickle.dump((scheduler_name, scheduler.state_dict()), f)\n",
    "\n",
    "# Saving the number of units for each hidden layer using pickle\n",
    "with open(\"n_units.pkl\", \"wb\") as f:\n",
    "    pickle.dump(n_units, f)\n",
    "\n",
    "# Saving the output of create_model using pickle\n",
    "with open(\"create_model.pkl\", \"wb\") as f:\n",
    "    pickle.dump((net, loss_fn, optimizer, batch_size, n_epochs, scheduler), f)\n",
    "\n",
    "# Saving the output of the training using pandas\n",
    "train_df = pd.DataFrame(\n",
    "    {\n",
    "        \"train_loss\": train_losses,\n",
    "        \"test_loss\": test_losses,\n",
    "        \"train_rho_error\": [m[\"rho_error\"] for m in train_metrics],\n",
    "        \"test_rho_error\": [m[\"rho_error\"] for m in test_metrics],\n",
    "        \"train_vx_error\": [m[\"vx_error\"] for m in train_metrics],\n",
    "        \"test_vx_error\": [m[\"vx_error\"] for m in test_metrics],\n",
    "        \"train_epsilon_error\": [m[\"epsilon_error\"] for m in train_metrics],\n",
    "        \"test_epsilon_error\": [m[\"epsilon_error\"] for m in test_metrics],\n",
    "    }\n",
    ")\n",
    "train_df.to_csv(\"train_output.csv\", index=False)\n"
   ]
  },
  {
   "attachments": {},
   "cell_type": "markdown",
   "metadata": {},
   "source": [
    "## Loading"
   ]
  },
  {
   "cell_type": "code",
   "execution_count": null,
   "metadata": {},
   "outputs": [],
   "source": [
    "## Loading the best network state dictionary using torch.load\n",
    "state_dict = torch.load(\"best_net.pth\")\n",
    "\n",
    "# Loading the state dictionary into a new network instance using net.load_state_dict\n",
    "new_net = Net(n_layers, n_units, hidden_activation, output_activation).to(device)\n",
    "new_net.load_state_dict(state_dict)\n"
   ]
  },
  {
   "cell_type": "code",
   "execution_count": null,
   "metadata": {},
   "outputs": [],
   "source": [
    "# Loading the loss function name using pickle\n",
    "with open(\"loss_fn.pkl\", \"rb\") as f:\n",
    "    loss_name = pickle.load(f)\n",
    "\n",
    "# Loading the optimizer name and parameters using pickle\n",
    "with open(\"optimizer.pkl\", \"rb\") as f:\n",
    "    optimizer_name, optimizer_state_dict = pickle.load(f)\n",
    "\n",
    "# Loading the best number of epochs using pickle\n",
    "with open(\"n_epochs.pkl\", \"rb\") as f:\n",
    "    n_epochs = pickle.load(f)\n",
    "\n",
    "# Loading the scheduler name and parameters using pickle\n",
    "with open(\"scheduler.pkl\", \"rb\") as f:\n",
    "    scheduler_name, scheduler_state_dict = pickle.load(f)\n",
    "\n",
    "# Loading the number of units for each hidden layer using pickle\n",
    "with open(\"n_units.pkl\", \"rb\") as f:\n",
    "    n_units = pickle.load(f)\n",
    "\n",
    "# Loading the output of create_model using pickle\n",
    "with open(\"create_model.pkl\", \"rb\") as f:\n",
    "    net, loss_fn, optimizer, batch_size, n_epochs, scheduler = pickle.load(f)\n",
    "\n",
    "# Loading the output of the training using pandas\n",
    "train_df = pd.read_csv(\"train_output.csv\")\n",
    "train_losses = train_df[\"train_loss\"].tolist()\n",
    "test_losses = train_df[\"test_loss\"].tolist()\n",
    "train_metrics = [\n",
    "    {\n",
    "        \"rho_error\": train_df[\"train_rho_error\"][i],\n",
    "        \"vx_error\": train_df[\"train_vx_error\"][i],\n",
    "        \"epsilon_error\": train_df[\"train_epsilon_error\"][i],\n",
    "    }\n",
    "    for i in range(len(train_df))\n",
    "]\n",
    "test_metrics = [\n",
    "    {\n",
    "        \"rho_error\": train_df[\"test_rho_error\"][i],\n",
    "        \"vx_error\": train_df[\"test_vx_error\"][i],\n",
    "        \"epsilon_error\": train_df[\"test_epsilon_error\"][i],\n",
    "    }\n",
    "    for i in range(len(train_df))\n",
    "]"
   ]
  }
 ],
 "metadata": {
  "kernelspec": {
   "display_name": "Python 3",
   "language": "python",
   "name": "python3"
  },
  "language_info": {
   "codemirror_mode": {
    "name": "ipython",
    "version": 3
   },
   "file_extension": ".py",
   "mimetype": "text/x-python",
   "name": "python",
   "nbconvert_exporter": "python",
   "pygments_lexer": "ipython3",
   "version": "3.10.4"
  },
  "orig_nbformat": 4
 },
 "nbformat": 4,
 "nbformat_minor": 2
}
