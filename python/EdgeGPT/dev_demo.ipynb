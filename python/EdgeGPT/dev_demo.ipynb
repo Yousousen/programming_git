{
 "cells": [
  {
   "attachments": {},
   "cell_type": "markdown",
   "metadata": {},
   "source": [
    "# Demo code"
   ]
  },
  {
   "cell_type": "code",
   "execution_count": 1,
   "metadata": {},
   "outputs": [],
   "source": [
    "import asyncio\n",
    "from EdgeGPT import Chatbot, ConversationStyle\n",
    "\n",
    "async def main():\n",
    "    bot = Chatbot(cookie_path=r\"C:\\Users\\bvptr\\software_etc\\EdgeGPT\\cookies.json\")\n",
    "    resp = await bot.ask(prompt=\"Hello world\", conversation_style=ConversationStyle.creative, wss_link=\"wss://sydney.bing.com/sydney/ChatHub\")\n",
    "    await bot.close()\n",
    "    return resp\n",
    "\n",
    "\n",
    "# Following throws: RuntimeError: asyncio.run() cannot be called from a running event loop\n",
    "# B: \n",
    "# The error “RuntimeError: asyncio.run() cannot be called from a running event loop” means\n",
    "# that you are trying to use the asyncio.run() function to run an asynchronous function (main) when\n",
    "# there is already an event loop running in the same thread12. This can happen if you are using an interactive environment\n",
    "# like Jupyter Notebook or Spyder, which use IPython as their kernel and run their own event loop13\n",
    "#if __name__ == \"__main__\":\n",
    "    #asyncio.run(main())"
   ]
  },
  {
   "cell_type": "code",
   "execution_count": 2,
   "metadata": {},
   "outputs": [],
   "source": [
    "resp = await main()"
   ]
  },
  {
   "cell_type": "code",
   "execution_count": 8,
   "metadata": {},
   "outputs": [
    {
     "name": "stdout",
     "output_type": "stream",
     "text": [
      "Couldn't find program: 'false'\n"
     ]
    }
   ],
   "source": [
    "%%script false\n",
    "\n",
    "# Define a JSON string\n",
    "json_str = '{\"name\": \"Bob\", \"age\": 30, \"hobbies\": [\"coding\", \"biking\", \"reading\"]}'\n",
    "# Parse the JSON string to a Python object\n",
    "py_obj = json.loads(json_str)\n",
    "# Print the name and hobbies of the person\n",
    "print(\"Name:\", py_obj[\"name\"])\n",
    "print(\"Hobbies:\", \", \".join(py_obj[\"hobbies\"]))"
   ]
  },
  {
   "attachments": {},
   "cell_type": "markdown",
   "metadata": {},
   "source": [
    "# Exploring printing"
   ]
  },
  {
   "cell_type": "code",
   "execution_count": 13,
   "metadata": {},
   "outputs": [
    {
     "name": "stdout",
     "output_type": "stream",
     "text": [
      "{'type': 2, 'invocationId': '0', 'item': {'messages': [{'text': 'Hello world', 'author': 'user', 'from': {'id': '1055519926842900', 'name': None}, 'createdAt': '2023-04-26T05:49:34.0092995+00:00', 'timestamp': '2023-04-26T05:49:34.0059602+00:00', 'locale': 'en-us', 'market': 'en-us', 'region': 'us', 'messageId': 'd0ea3d8a-33ab-44ad-96ff-c7987ea533ae', 'requestId': 'd0ea3d8a-33ab-44ad-96ff-c7987ea533ae', 'nlu': {'scoredClassification': {'classification': 'DEEP_LEO', 'score': None}, 'classificationRanking': [{'classification': 'DEEP_LEO', 'score': None}], 'qualifyingClassifications': None, 'ood': None, 'metaData': None, 'entities': None}, 'offense': 'None', 'feedback': {'tag': None, 'updatedOn': None, 'type': 'None'}, 'contentOrigin': 'cib', 'privacy': None, 'inputMethod': 'Keyboard'}, {'text': 'Hello, this is Bing. Welcome to the world of search and chat.😊', 'author': 'bot', 'createdAt': '2023-04-26T05:49:39.6810824+00:00', 'timestamp': '2023-04-26T05:49:39.6810824+00:00', 'messageId': 'b0623fcf-ac3d-4771-8413-4b3cd20967af', 'requestId': 'd0ea3d8a-33ab-44ad-96ff-c7987ea533ae', 'offense': 'None', 'adaptiveCards': [{'type': 'AdaptiveCard', 'version': '1.0', 'body': [{'type': 'TextBlock', 'text': 'Hello, this is Bing. Welcome to the world of search and chat.😊\\n', 'wrap': True}]}], 'sourceAttributions': [], 'feedback': {'tag': None, 'updatedOn': None, 'type': 'None'}, 'contentOrigin': 'DeepLeo', 'privacy': None, 'suggestedResponses': [{'text': 'What can you do?', 'author': 'user', 'createdAt': '2023-04-26T05:49:45.135454+00:00', 'timestamp': '2023-04-26T05:49:45.135454+00:00', 'messageId': '3a6ca614-9e40-4bf0-a353-b37f433f6228', 'messageType': 'Suggestion', 'offense': 'Unknown', 'feedback': {'tag': None, 'updatedOn': None, 'type': 'None'}, 'contentOrigin': 'DeepLeo', 'privacy': None}, {'text': 'How are you today?', 'author': 'user', 'createdAt': '2023-04-26T05:49:45.1354554+00:00', 'timestamp': '2023-04-26T05:49:45.1354554+00:00', 'messageId': 'c3519281-b8fb-4b5f-85a9-b25458b164c3', 'messageType': 'Suggestion', 'offense': 'Unknown', 'feedback': {'tag': None, 'updatedOn': None, 'type': 'None'}, 'contentOrigin': 'DeepLeo', 'privacy': None}, {'text': 'Show me some cute cat pictures.', 'author': 'user', 'createdAt': '2023-04-26T05:49:45.1354558+00:00', 'timestamp': '2023-04-26T05:49:45.1354558+00:00', 'messageId': '5af174f7-4f9b-4368-87eb-4a49904e10ec', 'messageType': 'Suggestion', 'offense': 'Unknown', 'feedback': {'tag': None, 'updatedOn': None, 'type': 'None'}, 'contentOrigin': 'DeepLeo', 'privacy': None}], 'spokenText': 'Hello, this is Bing. Welcome to the world of search and chat.'}], 'firstNewMessageIndex': 1, 'defaultChatName': None, 'conversationId': '51D|BingProd|6A55CE76549D071980706A47AFD1B00E9F84C9A63DFB1F3BFDA0AB1C2E8E9CAC', 'requestId': 'd0ea3d8a-33ab-44ad-96ff-c7987ea533ae', 'conversationExpiryTime': '2023-04-26T11:49:45.2052731Z', 'shouldInitiateConversation': True, 'telemetry': {'metrics': None, 'startTime': '2023-04-26T05:49:34.0060687Z'}, 'throttling': {'maxNumUserMessagesInConversation': 20, 'numUserMessagesInConversation': 1}, 'result': {'value': 'Success', 'serviceVersion': '20230425.26'}}}\n"
     ]
    }
   ],
   "source": [
    "print(resp)"
   ]
  },
  {
   "cell_type": "code",
   "execution_count": 14,
   "metadata": {},
   "outputs": [
    {
     "data": {
      "text/plain": [
       "3"
      ]
     },
     "execution_count": 14,
     "metadata": {},
     "output_type": "execute_result"
    },
    {
     "name": "stdout",
     "output_type": "stream",
     "text": [
      "{'invocationId': '0',\n",
      " 'item': {'conversationExpiryTime': '2023-04-26T11:49:45.2052731Z',\n",
      "          'conversationId': '51D|BingProd|6A55CE76549D071980706A47AFD1B00E9F84C9A63DFB1F3BFDA0AB1C2E8E9CAC',\n",
      "          'defaultChatName': None,\n",
      "          'firstNewMessageIndex': 1,\n",
      "          'messages': [{'author': 'user',\n",
      "                        'contentOrigin': 'cib',\n",
      "                        'createdAt': '2023-04-26T05:49:34.0092995+00:00',\n",
      "                        'feedback': {'tag': None,\n",
      "                                     'type': 'None',\n",
      "                                     'updatedOn': None},\n",
      "                        'from': {'id': '1055519926842900', 'name': None},\n",
      "                        'inputMethod': 'Keyboard',\n",
      "                        'locale': 'en-us',\n",
      "                        'market': 'en-us',\n",
      "                        'messageId': 'd0ea3d8a-33ab-44ad-96ff-c7987ea533ae',\n",
      "                        'nlu': {'classificationRanking': [{'classification': 'DEEP_LEO',\n",
      "                                                           'score': None}],\n",
      "                                'entities': None,\n",
      "                                'metaData': None,\n",
      "                                'ood': None,\n",
      "                                'qualifyingClassifications': None,\n",
      "                                'scoredClassification': {'classification': 'DEEP_LEO',\n",
      "                                                         'score': None}},\n",
      "                        'offense': 'None',\n",
      "                        'privacy': None,\n",
      "                        'region': 'us',\n",
      "                        'requestId': 'd0ea3d8a-33ab-44ad-96ff-c7987ea533ae',\n",
      "                        'text': 'Hello world',\n",
      "                        'timestamp': '2023-04-26T05:49:34.0059602+00:00'},\n",
      "                       {'adaptiveCards': [{'body': [{'text': 'Hello, this is '\n",
      "                                                             'Bing. Welcome to '\n",
      "                                                             'the world of '\n",
      "                                                             'search and '\n",
      "                                                             'chat.😊\\n',\n",
      "                                                     'type': 'TextBlock',\n",
      "                                                     'wrap': True}],\n",
      "                                           'type': 'AdaptiveCard',\n",
      "                                           'version': '1.0'}],\n",
      "                        'author': 'bot',\n",
      "                        'contentOrigin': 'DeepLeo',\n",
      "                        'createdAt': '2023-04-26T05:49:39.6810824+00:00',\n",
      "                        'feedback': {'tag': None,\n",
      "                                     'type': 'None',\n",
      "                                     'updatedOn': None},\n",
      "                        'messageId': 'b0623fcf-ac3d-4771-8413-4b3cd20967af',\n",
      "                        'offense': 'None',\n",
      "                        'privacy': None,\n",
      "                        'requestId': 'd0ea3d8a-33ab-44ad-96ff-c7987ea533ae',\n",
      "                        'sourceAttributions': [],\n",
      "                        'spokenText': 'Hello, this is Bing. Welcome to the '\n",
      "                                      'world of search and chat.',\n",
      "                        'suggestedResponses': [{'author': 'user',\n",
      "                                                'contentOrigin': 'DeepLeo',\n",
      "                                                'createdAt': '2023-04-26T05:49:45.135454+00:00',\n",
      "                                                'feedback': {'tag': None,\n",
      "                                                             'type': 'None',\n",
      "                                                             'updatedOn': None},\n",
      "                                                'messageId': '3a6ca614-9e40-4bf0-a353-b37f433f6228',\n",
      "                                                'messageType': 'Suggestion',\n",
      "                                                'offense': 'Unknown',\n",
      "                                                'privacy': None,\n",
      "                                                'text': 'What can you do?',\n",
      "                                                'timestamp': '2023-04-26T05:49:45.135454+00:00'},\n",
      "                                               {'author': 'user',\n",
      "                                                'contentOrigin': 'DeepLeo',\n",
      "                                                'createdAt': '2023-04-26T05:49:45.1354554+00:00',\n",
      "                                                'feedback': {'tag': None,\n",
      "                                                             'type': 'None',\n",
      "                                                             'updatedOn': None},\n",
      "                                                'messageId': 'c3519281-b8fb-4b5f-85a9-b25458b164c3',\n",
      "                                                'messageType': 'Suggestion',\n",
      "                                                'offense': 'Unknown',\n",
      "                                                'privacy': None,\n",
      "                                                'text': 'How are you today?',\n",
      "                                                'timestamp': '2023-04-26T05:49:45.1354554+00:00'},\n",
      "                                               {'author': 'user',\n",
      "                                                'contentOrigin': 'DeepLeo',\n",
      "                                                'createdAt': '2023-04-26T05:49:45.1354558+00:00',\n",
      "                                                'feedback': {'tag': None,\n",
      "                                                             'type': 'None',\n",
      "                                                             'updatedOn': None},\n",
      "                                                'messageId': '5af174f7-4f9b-4368-87eb-4a49904e10ec',\n",
      "                                                'messageType': 'Suggestion',\n",
      "                                                'offense': 'Unknown',\n",
      "                                                'privacy': None,\n",
      "                                                'text': 'Show me some cute cat '\n",
      "                                                        'pictures.',\n",
      "                                                'timestamp': '2023-04-26T05:49:45.1354558+00:00'}],\n",
      "                        'text': 'Hello, this is Bing. Welcome to the world of '\n",
      "                                'search and chat.😊',\n",
      "                        'timestamp': '2023-04-26T05:49:39.6810824+00:00'}],\n",
      "          'requestId': 'd0ea3d8a-33ab-44ad-96ff-c7987ea533ae',\n",
      "          'result': {'serviceVersion': '20230425.26', 'value': 'Success'},\n",
      "          'shouldInitiateConversation': True,\n",
      "          'telemetry': {'metrics': None,\n",
      "                        'startTime': '2023-04-26T05:49:34.0060687Z'},\n",
      "          'throttling': {'maxNumUserMessagesInConversation': 20,\n",
      "                         'numUserMessagesInConversation': 1}},\n",
      " 'type': 2}\n"
     ]
    }
   ],
   "source": [
    "len(resp)\n",
    "import pprint\n",
    "pprint.pprint(resp)"
   ]
  },
  {
   "attachments": {},
   "cell_type": "markdown",
   "metadata": {},
   "source": [
    "There are different ways to print JSON in a table in Python. One way is to use the built-in `json` module and its `load()` function to convert the JSON string to a Python dictionary. Then, you can use a third-party library such as `pandas` or `prettytable` to create a table from the dictionary. For example:\n",
    "\n",
    "```python\n",
    "import json\n",
    "import pandas as pd\n",
    "# Sample JSON string\n",
    "json_str = '''\n",
    "{\n",
    "  \"name\": \"John\",\n",
    "  \"age\": 30,\n",
    "  \"city\": \"New York\"\n",
    "}\n",
    "'''\n",
    "# Convert the JSON string to a Python dictionary\n",
    "data = json.loads(json_str)\n",
    "# Create a pandas DataFrame from the dictionary\n",
    "df = pd.DataFrame([data])\n",
    "# Print the DataFrame as a table\n",
    "print(df)\n",
    "```\n",
    "\n",
    "Output:\n",
    "\n",
    "```text\n",
    "   name  age    city\n",
    "0  John   30  New York\n",
    "```\n",
    "\n",
    "This method also allows you to export the table as a CSV file using `df.to_csv()` method³.\n",
    "\n",
    "Another way is to use the `prettytable` module and its `PrettyTable()` function to create a table from the dictionary. For example:\n",
    "\n",
    "```python\n",
    "import json\n",
    "from prettytable import PrettyTable\n",
    "# Sample JSON string\n",
    "json_str = '''\n",
    "{\n",
    "  \"name\": \"John\",\n",
    "  \"age\": 30,\n",
    "  \"city\": \"New York\"\n",
    "}\n",
    "'''\n",
    "# Convert the JSON string to a Python dictionary\n",
    "data = json.loads(json_str)\n",
    "# Create a PrettyTable object with the keys as columns\n",
    "table = PrettyTable(data.keys())\n",
    "# Add the values as a row\n",
    "table.add_row(data.values())\n",
    "# Print the PrettyTable object as a table\n",
    "print(table)\n",
    "```\n",
    "\n",
    "Output:\n",
    "\n",
    "```text\n",
    "+------+-----+---------+\n",
    "| name | age |   city  |\n",
    "+------+-----+---------+\n",
    "| John | 30  | New York |\n",
    "+------+-----+---------+\n",
    "```\n",
    "\n",
    "This method also allows you to customize the appearance of the table using various methods of the `PrettyTable` object⁴.\n",
    "\n",
    "Source: Conversation with Bing, 26/04/2023\n",
    "(1) Python JSON: Read, Write, Parse JSON (With Examples) - Programiz. https://www.programiz.com/python-programming/json.\n",
    "(2) Pretty Print a JSON File in Python (6 Methods) • datagy. https://datagy.io/python-pretty-print-json/.\n",
    "(3) python - Transform JSON-file to table format - Stack Overflow. https://stackoverflow.com/questions/68753271/transform-json-file-to-table-format.\n",
    "(4) Python - Convert Json to table structure - Stack Overflow. https://stackoverflow.com/questions/71455443/python-convert-json-to-table-structure."
   ]
  }
 ],
 "metadata": {
  "kernelspec": {
   "display_name": "BScPhysics",
   "language": "python",
   "name": "python3"
  },
  "language_info": {
   "codemirror_mode": {
    "name": "ipython",
    "version": 3
   },
   "file_extension": ".py",
   "mimetype": "text/x-python",
   "name": "python",
   "nbconvert_exporter": "python",
   "pygments_lexer": "ipython3",
   "version": "3.9.12"
  },
  "orig_nbformat": 4
 },
 "nbformat": 4,
 "nbformat_minor": 2
}
