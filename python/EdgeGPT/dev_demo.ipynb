{
 "cells": [
  {
   "cell_type": "code",
   "execution_count": 14,
   "metadata": {},
   "outputs": [],
   "source": [
    "import asyncio\n",
    "from EdgeGPT import Chatbot, ConversationStyle\n",
    "\n",
    "async def main():\n",
    "    bot = Chatbot(cookie_path=r\"C:\\Users\\bvptr\\software_etc\\EdgeGPT\\cookies.json\")\n",
    "    print(await bot.ask(prompt=\"Hello world\", conversation_style=ConversationStyle.creative, wss_link=\"wss://sydney.bing.com/sydney/ChatHub\"))\n",
    "    await bot.close()\n",
    "\n",
    "\n",
    "# Following throws: RuntimeError: asyncio.run() cannot be called from a running event loop\n",
    "# B: \n",
    "# The error “RuntimeError: asyncio.run() cannot be called from a running event loop” means\n",
    "# that you are trying to use the asyncio.run() function to run an asynchronous function (main) when\n",
    "# there is already an event loop running in the same thread12. This can happen if you are using an interactive environment\n",
    "# like Jupyter Notebook or Spyder, which use IPython as their kernel and run their own event loop13\n",
    "#if __name__ == \"__main__\":\n",
    "    #asyncio.run(main())"
   ]
  },
  {
   "cell_type": "code",
   "execution_count": 19,
   "metadata": {},
   "outputs": [
    {
     "ename": "ModuleNotFoundError",
     "evalue": "No module named 'vscode'",
     "output_type": "error",
     "traceback": [
      "\u001b[1;31m---------------------------------------------------------------------------\u001b[0m",
      "\u001b[1;31mModuleNotFoundError\u001b[0m                       Traceback (most recent call last)",
      "Cell \u001b[1;32mIn[19], line 1\u001b[0m\n\u001b[1;32m----> 1\u001b[0m \u001b[39mimport\u001b[39;00m \u001b[39mvscode\u001b[39;00m\n\u001b[0;32m      2\u001b[0m \u001b[39m# Get the configuration object for the notebook extension\u001b[39;00m\n\u001b[0;32m      3\u001b[0m config \u001b[39m=\u001b[39m vscode\u001b[39m.\u001b[39mworkspace\u001b[39m.\u001b[39mgetConfiguration(\u001b[39m\"\u001b[39m\u001b[39mnotebook\u001b[39m\u001b[39m\"\u001b[39m)\n",
      "\u001b[1;31mModuleNotFoundError\u001b[0m: No module named 'vscode'"
     ]
    }
   ],
   "source": [
    "import vscode\n",
    "# Get the configuration object for the notebook extension\n",
    "config = vscode.workspace.getConfiguration(\"notebook\")\n",
    "# Update the output text line limit setting to 1000\n",
    "config.update(\"output.textLineLimit\", 1000)"
   ]
  },
  {
   "cell_type": "code",
   "execution_count": 22,
   "metadata": {},
   "outputs": [
    {
     "name": "stdout",
     "output_type": "stream",
     "text": [
      "{'type': 2, 'invocationId': '0', 'item': {'messages': [{'text': 'Hello world', 'author': 'user', 'from': {'id': '1055519926842900', 'name': None}, 'createdAt': '2023-04-25T18:11:29.350246+00:00', 'timestamp': '2023-04-25T18:11:29.3467826+00:00', 'locale': 'en-us', 'market': 'en-us', 'region': 'us', 'messageId': 'e9195a45-cd72-481a-8b54-38b7f4efd467', 'requestId': 'e9195a45-cd72-481a-8b54-38b7f4efd467', 'nlu': {'scoredClassification': {'classification': 'DEEP_LEO', 'score': None}, 'classificationRanking': [{'classification': 'DEEP_LEO', 'score': None}], 'qualifyingClassifications': None, 'ood': None, 'metaData': None, 'entities': None}, 'offense': 'None', 'feedback': {'tag': None, 'updatedOn': None, 'type': 'None'}, 'contentOrigin': 'cib', 'privacy': None, 'inputMethod': 'Keyboard'}, {'text': 'Hello, this is Bing. Welcome to the world of search and chat. 😊', 'author': 'bot', 'createdAt': '2023-04-25T18:11:33.8183627+00:00', 'timestamp': '2023-04-25T18:11:33.8183627+00:00', 'messageId': 'b2074a9d-b31c-49dc-9086-3feebb08606c', 'requestId': 'e9195a45-cd72-481a-8b54-38b7f4efd467', 'offense': 'None', 'adaptiveCards': [{'type': 'AdaptiveCard', 'version': '1.0', 'body': [{'type': 'TextBlock', 'text': 'Hello, this is Bing. Welcome to the world of search and chat. 😊\\n', 'wrap': True}]}], 'sourceAttributions': [], 'feedback': {'tag': None, 'updatedOn': None, 'type': 'None'}, 'contentOrigin': 'DeepLeo', 'privacy': None, 'suggestedResponses': [{'text': 'What can you do?', 'author': 'user', 'createdAt': '2023-04-25T18:11:36.6332569+00:00', 'timestamp': '2023-04-25T18:11:36.6332569+00:00', 'messageId': '0605176d-ad44-4e51-a0e1-df630178de7c', 'messageType': 'Suggestion', 'offense': 'Unknown', 'feedback': {'tag': None, 'updatedOn': None, 'type': 'None'}, 'contentOrigin': 'DeepLeo', 'privacy': None}, {'text': 'How are you today?', 'author': 'user', 'createdAt': '2023-04-25T18:11:36.6332603+00:00', 'timestamp': '2023-04-25T18:11:36.6332603+00:00', 'messageId': '515d90e0-affc-4878-b6df-997353eef41d', 'messageType': 'Suggestion', 'offense': 'Unknown', 'feedback': {'tag': None, 'updatedOn': None, 'type': 'None'}, 'contentOrigin': 'DeepLeo', 'privacy': None}, {'text': 'Show me some cute cat pictures.', 'author': 'user', 'createdAt': '2023-04-25T18:11:36.6332619+00:00', 'timestamp': '2023-04-25T18:11:36.6332619+00:00', 'messageId': 'be1c48bc-8a6f-4b9e-8af3-037b51cb7fa0', 'messageType': 'Suggestion', 'offense': 'Unknown', 'feedback': {'tag': None, 'updatedOn': None, 'type': 'None'}, 'contentOrigin': 'DeepLeo', 'privacy': None}]}], 'firstNewMessageIndex': 1, 'defaultChatName': None, 'conversationId': '51D|BingProd|039456744DD39FB30D9E543824F8170E9B98F6C0E7AED467A7B625AB6DACBC17', 'requestId': 'e9195a45-cd72-481a-8b54-38b7f4efd467', 'conversationExpiryTime': '2023-04-26T00:11:36.6768174Z', 'shouldInitiateConversation': True, 'telemetry': {'metrics': None, 'startTime': '2023-04-25T18:11:29.3468517Z'}, 'throttling': {'maxNumUserMessagesInConversation': 20, 'numUserMessagesInConversation': 1}, 'result': {'value': 'Success', 'serviceVersion': '20230424.113'}}}\n"
     ]
    },
    {
     "ename": "AttributeError",
     "evalue": "'NoneType' object has no attribute 'read'",
     "output_type": "error",
     "traceback": [
      "\u001b[1;31m---------------------------------------------------------------------------\u001b[0m",
      "\u001b[1;31mAttributeError\u001b[0m                            Traceback (most recent call last)",
      "Cell \u001b[1;32mIn[22], line 2\u001b[0m\n\u001b[0;32m      1\u001b[0m \u001b[39mimport\u001b[39;00m \u001b[39mjson\u001b[39;00m\n\u001b[1;32m----> 2\u001b[0m json\u001b[39m.\u001b[39mload(\u001b[39mawait\u001b[39;00m main())\n",
      "File \u001b[1;32mc:\\Users\\bvptr\\anaconda3\\lib\\json\\__init__.py:293\u001b[0m, in \u001b[0;36mload\u001b[1;34m(fp, cls, object_hook, parse_float, parse_int, parse_constant, object_pairs_hook, **kw)\u001b[0m\n\u001b[0;32m    274\u001b[0m \u001b[39mdef\u001b[39;00m \u001b[39mload\u001b[39m(fp, \u001b[39m*\u001b[39m, \u001b[39mcls\u001b[39m\u001b[39m=\u001b[39m\u001b[39mNone\u001b[39;00m, object_hook\u001b[39m=\u001b[39m\u001b[39mNone\u001b[39;00m, parse_float\u001b[39m=\u001b[39m\u001b[39mNone\u001b[39;00m,\n\u001b[0;32m    275\u001b[0m         parse_int\u001b[39m=\u001b[39m\u001b[39mNone\u001b[39;00m, parse_constant\u001b[39m=\u001b[39m\u001b[39mNone\u001b[39;00m, object_pairs_hook\u001b[39m=\u001b[39m\u001b[39mNone\u001b[39;00m, \u001b[39m*\u001b[39m\u001b[39m*\u001b[39mkw):\n\u001b[0;32m    276\u001b[0m     \u001b[39m\"\"\"Deserialize ``fp`` (a ``.read()``-supporting file-like object containing\u001b[39;00m\n\u001b[0;32m    277\u001b[0m \u001b[39m    a JSON document) to a Python object.\u001b[39;00m\n\u001b[0;32m    278\u001b[0m \n\u001b[1;32m   (...)\u001b[0m\n\u001b[0;32m    291\u001b[0m \u001b[39m    kwarg; otherwise ``JSONDecoder`` is used.\u001b[39;00m\n\u001b[0;32m    292\u001b[0m \u001b[39m    \"\"\"\u001b[39;00m\n\u001b[1;32m--> 293\u001b[0m     \u001b[39mreturn\u001b[39;00m loads(fp\u001b[39m.\u001b[39;49mread(),\n\u001b[0;32m    294\u001b[0m         \u001b[39mcls\u001b[39m\u001b[39m=\u001b[39m\u001b[39mcls\u001b[39m, object_hook\u001b[39m=\u001b[39mobject_hook,\n\u001b[0;32m    295\u001b[0m         parse_float\u001b[39m=\u001b[39mparse_float, parse_int\u001b[39m=\u001b[39mparse_int,\n\u001b[0;32m    296\u001b[0m         parse_constant\u001b[39m=\u001b[39mparse_constant, object_pairs_hook\u001b[39m=\u001b[39mobject_pairs_hook, \u001b[39m*\u001b[39m\u001b[39m*\u001b[39mkw)\n",
      "\u001b[1;31mAttributeError\u001b[0m: 'NoneType' object has no attribute 'read'"
     ]
    }
   ],
   "source": [
    "import json\n",
    "json.load(await main())"
   ]
  },
  {
   "cell_type": "code",
   "execution_count": 18,
   "metadata": {},
   "outputs": [
    {
     "name": "stdout",
     "output_type": "stream",
     "text": [
      "Name: Bob\n",
      "Hobbies: coding, biking, reading\n"
     ]
    }
   ],
   "source": [
    "# Define a JSON string\n",
    "json_str = '{\"name\": \"Bob\", \"age\": 30, \"hobbies\": [\"coding\", \"biking\", \"reading\"]}'\n",
    "# Parse the JSON string to a Python object\n",
    "py_obj = json.loads(json_str)\n",
    "# Print the name and hobbies of the person\n",
    "print(\"Name:\", py_obj[\"name\"])\n",
    "print(\"Hobbies:\", \", \".join(py_obj[\"hobbies\"]))"
   ]
  }
 ],
 "metadata": {
  "kernelspec": {
   "display_name": "BScPhysics",
   "language": "python",
   "name": "python3"
  },
  "language_info": {
   "codemirror_mode": {
    "name": "ipython",
    "version": 3
   },
   "file_extension": ".py",
   "mimetype": "text/x-python",
   "name": "python",
   "nbconvert_exporter": "python",
   "pygments_lexer": "ipython3",
   "version": "3.9.12"
  },
  "orig_nbformat": 4
 },
 "nbformat": 4,
 "nbformat_minor": 2
}
