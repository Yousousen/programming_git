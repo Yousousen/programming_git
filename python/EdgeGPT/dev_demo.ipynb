{
 "cells": [
  {
   "cell_type": "code",
   "execution_count": 5,
   "metadata": {},
   "outputs": [],
   "source": [
    "import asyncio\n",
    "from EdgeGPT import Chatbot, ConversationStyle\n",
    "\n",
    "async def main():\n",
    "    bot = Chatbot(cookie_path=r\"C:\\Users\\bvptr\\software_etc\\EdgeGPT\\cookies.json\")\n",
    "    print(await bot.ask(prompt=\"Hello world\", conversation_style=ConversationStyle.creative, wss_link=\"wss://sydney.bing.com/sydney/ChatHub\"))\n",
    "    await bot.close()\n",
    "\n",
    "\n",
    "# Following throws: RuntimeError: asyncio.run() cannot be called from a running event loop\n",
    "# B: \n",
    "# The error “RuntimeError: asyncio.run() cannot be called from a running event loop” means\n",
    "# that you are trying to use the asyncio.run() function to run an asynchronous function (main) when\n",
    "# there is already an event loop running in the same thread12. This can happen if you are using an interactive environment\n",
    "# like Jupyter Notebook or Spyder, which use IPython as their kernel and run their own event loop13\n",
    "#if __name__ == \"__main__\":\n",
    "    #asyncio.run(main())"
   ]
  },
  {
   "cell_type": "code",
   "execution_count": 6,
   "metadata": {},
   "outputs": [
    {
     "name": "stdout",
     "output_type": "stream",
     "text": [
      "Couldn't find program: 'echo'\n"
     ]
    }
   ],
   "source": [
    "%%script echo skipping\n",
    "\n",
    "import vscode\n",
    "# Get the configuration object for the notebook extension\n",
    "config = vscode.workspace.getConfiguration(\"notebook\")\n",
    "# Update the output text line limit setting to 1000\n",
    "config.update(\"output.textLineLimit\", 1000)"
   ]
  },
  {
   "cell_type": "code",
   "execution_count": 18,
   "metadata": {},
   "outputs": [
    {
     "name": "stdout",
     "output_type": "stream",
     "text": [
      "{'type': 2, 'invocationId': '0', 'item': {'messages': [{'text': 'Hello world', 'author': 'user', 'from': {'id': '1055519926842900', 'name': None}, 'createdAt': '2023-04-25T18:31:02.4277285+00:00', 'timestamp': '2023-04-25T18:31:02.4246528+00:00', 'locale': 'en-us', 'market': 'en-us', 'region': 'us', 'messageId': '6ae35a3e-3bd7-451d-b637-3134e7e39ec0', 'requestId': '6ae35a3e-3bd7-451d-b637-3134e7e39ec0', 'nlu': {'scoredClassification': {'classification': 'DEEP_LEO', 'score': None}, 'classificationRanking': [{'classification': 'DEEP_LEO', 'score': None}], 'qualifyingClassifications': None, 'ood': None, 'metaData': None, 'entities': None}, 'offense': 'None', 'feedback': {'tag': None, 'updatedOn': None, 'type': 'None'}, 'contentOrigin': 'cib', 'privacy': None, 'inputMethod': 'Keyboard'}, {'text': 'Hello, this is Bing. Welcome to the world of search and chat. 😊', 'author': 'bot', 'createdAt': '2023-04-25T18:31:07.174302+00:00', 'timestamp': '2023-04-25T18:31:07.174302+00:00', 'messageId': '7fda4e20-112f-4161-a948-e17dcfcc9242', 'requestId': '6ae35a3e-3bd7-451d-b637-3134e7e39ec0', 'offense': 'None', 'adaptiveCards': [{'type': 'AdaptiveCard', 'version': '1.0', 'body': [{'type': 'TextBlock', 'text': 'Hello, this is Bing. Welcome to the world of search and chat. 😊\\n', 'wrap': True}]}], 'sourceAttributions': [], 'feedback': {'tag': None, 'updatedOn': None, 'type': 'None'}, 'contentOrigin': 'DeepLeo', 'privacy': None, 'suggestedResponses': [{'text': 'What can you do?', 'author': 'user', 'createdAt': '2023-04-25T18:31:10.3453956+00:00', 'timestamp': '2023-04-25T18:31:10.3453956+00:00', 'messageId': 'd81d9c8f-59c8-4286-b50b-4c4e903f9af2', 'messageType': 'Suggestion', 'offense': 'Unknown', 'feedback': {'tag': None, 'updatedOn': None, 'type': 'None'}, 'contentOrigin': 'DeepLeo', 'privacy': None}, {'text': 'How are you today?', 'author': 'user', 'createdAt': '2023-04-25T18:31:10.3453974+00:00', 'timestamp': '2023-04-25T18:31:10.3453974+00:00', 'messageId': '124dcb7b-38b8-4673-819e-c1f02a020d2e', 'messageType': 'Suggestion', 'offense': 'Unknown', 'feedback': {'tag': None, 'updatedOn': None, 'type': 'None'}, 'contentOrigin': 'DeepLeo', 'privacy': None}, {'text': 'Show me some cute cat pictures.', 'author': 'user', 'createdAt': '2023-04-25T18:31:10.3453979+00:00', 'timestamp': '2023-04-25T18:31:10.3453979+00:00', 'messageId': '501e4ee2-d9f0-4247-8492-ce86effd2553', 'messageType': 'Suggestion', 'offense': 'Unknown', 'feedback': {'tag': None, 'updatedOn': None, 'type': 'None'}, 'contentOrigin': 'DeepLeo', 'privacy': None}]}], 'firstNewMessageIndex': 1, 'defaultChatName': None, 'conversationId': '51D|BingProd|720612662705BA95E16ACB8D288C325FB3DEDF3E26B580A876516082D059C395', 'requestId': '6ae35a3e-3bd7-451d-b637-3134e7e39ec0', 'conversationExpiryTime': '2023-04-26T00:31:10.3922176Z', 'shouldInitiateConversation': True, 'telemetry': {'metrics': None, 'startTime': '2023-04-25T18:31:02.4247423Z'}, 'throttling': {'maxNumUserMessagesInConversation': 20, 'numUserMessagesInConversation': 1}, 'result': {'value': 'Success', 'serviceVersion': '20230425.26'}}}\n"
     ]
    }
   ],
   "source": [
    "resp = await main()"
   ]
  },
  {
   "cell_type": "code",
   "execution_count": 21,
   "metadata": {},
   "outputs": [
    {
     "ename": "TypeError",
     "evalue": "object of type 'NoneType' has no len()",
     "output_type": "error",
     "traceback": [
      "\u001b[1;31m---------------------------------------------------------------------------\u001b[0m",
      "\u001b[1;31mTypeError\u001b[0m                                 Traceback (most recent call last)",
      "Cell \u001b[1;32mIn[21], line 1\u001b[0m\n\u001b[1;32m----> 1\u001b[0m \u001b[39mlen\u001b[39;49m(resp)\n\u001b[0;32m      2\u001b[0m \u001b[39mimport\u001b[39;00m \u001b[39mjson\u001b[39;00m\n",
      "\u001b[1;31mTypeError\u001b[0m: object of type 'NoneType' has no len()"
     ]
    }
   ],
   "source": [
    "len(resp)\n",
    "import json\n",
    "#obj = json.loads(resp)"
   ]
  },
  {
   "cell_type": "code",
   "execution_count": 10,
   "metadata": {},
   "outputs": [
    {
     "name": "stdout",
     "output_type": "stream",
     "text": [
      "Name: Bob\n",
      "Hobbies: coding, biking, reading\n"
     ]
    }
   ],
   "source": [
    "# Define a JSON string\n",
    "json_str = '{\"name\": \"Bob\", \"age\": 30, \"hobbies\": [\"coding\", \"biking\", \"reading\"]}'\n",
    "# Parse the JSON string to a Python object\n",
    "py_obj = json.loads(json_str)\n",
    "# Print the name and hobbies of the person\n",
    "print(\"Name:\", py_obj[\"name\"])\n",
    "print(\"Hobbies:\", \", \".join(py_obj[\"hobbies\"]))"
   ]
  }
 ],
 "metadata": {
  "kernelspec": {
   "display_name": "BScPhysics",
   "language": "python",
   "name": "python3"
  },
  "language_info": {
   "codemirror_mode": {
    "name": "ipython",
    "version": 3
   },
   "file_extension": ".py",
   "mimetype": "text/x-python",
   "name": "python",
   "nbconvert_exporter": "python",
   "pygments_lexer": "ipython3",
   "version": "3.9.12"
  },
  "orig_nbformat": 4
 },
 "nbformat": 4,
 "nbformat_minor": 2
}
