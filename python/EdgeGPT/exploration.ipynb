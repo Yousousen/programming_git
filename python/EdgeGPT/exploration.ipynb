{
 "cells": [
  {
   "cell_type": "code",
   "execution_count": 89,
   "metadata": {},
   "outputs": [],
   "source": [
    "import asyncio\n",
    "from EdgeGPT import Chatbot, ConversationStyle\n",
    "cookies_ai0 = r\"./cookies/cookies_ai4.json\""
   ]
  },
  {
   "cell_type": "markdown",
   "metadata": {},
   "source": [
    "# Demo code"
   ]
  },
  {
   "cell_type": "code",
   "execution_count": 84,
   "metadata": {},
   "outputs": [],
   "source": [
    "\n",
    "async def main():\n",
    "    bot = Chatbot(cookie_path=cookies_ai0)\n",
    "    # Returns json. json loads is already called within ask.\n",
    "    resp = await bot.ask(prompt=\"Hello world\", conversation_style=ConversationStyle.creative, wss_link=\"wss://sydney.bing.com/sydney/ChatHub\")\n",
    "    await bot.close()\n",
    "    return resp\n",
    "\n",
    "\n",
    "# Following throws: RuntimeError: asyncio.run() cannot be called from a running event loop\n",
    "# B: \n",
    "# The error “RuntimeError: asyncio.run() cannot be called from a running event loop” means\n",
    "# that you are trying to use the asyncio.run() function to run an asynchronous function (main) when\n",
    "# there is already an event loop running in the same thread12. This can happen if you are using an interactive environment\n",
    "# like Jupyter Notebook or Spyder, which use IPython as their kernel and run their own event loop13\n",
    "#if __name__ == \"__main__\":\n",
    "    #asyncio.run(main())"
   ]
  },
  {
   "cell_type": "code",
   "execution_count": 85,
   "metadata": {},
   "outputs": [],
   "source": [
    "resp = await main()"
   ]
  },
  {
   "attachments": {},
   "cell_type": "markdown",
   "metadata": {},
   "source": [
    "# Exploring printing"
   ]
  },
  {
   "cell_type": "code",
   "execution_count": 86,
   "metadata": {},
   "outputs": [
    {
     "name": "stdout",
     "output_type": "stream",
     "text": [
      "Couldn't find program: 'echo'\n"
     ]
    }
   ],
   "source": [
    "%%script echo skipping\n",
    "import json\n",
    "# Define a JSON string\n",
    "json_str = '{\"name\": \"Bob\", \"age\": 30, \"hobbies\": [\"coding\", \"biking\", \"reading\"]}'\n",
    "# Parse the JSON string to a Python object\n",
    "py_obj = json.loads(json_str)\n",
    "# Print the name and hobbies of the person\n",
    "print(\"Name:\", py_obj[\"name\"])\n",
    "print(\"Hobbies:\", \", \".join(py_obj[\"hobbies\"]))"
   ]
  },
  {
   "cell_type": "code",
   "execution_count": 87,
   "metadata": {},
   "outputs": [
    {
     "data": {
      "text/plain": [
       "{'type': 2,\n",
       " 'invocationId': '0',\n",
       " 'item': {'messages': [{'text': 'Hello world',\n",
       "    'author': 'user',\n",
       "    'from': {'id': '1055519929110159', 'name': None},\n",
       "    'createdAt': '2023-04-26T17:13:28.0527618+00:00',\n",
       "    'timestamp': '2023-04-26T17:13:28.0491116+00:00',\n",
       "    'locale': 'en-us',\n",
       "    'market': 'en-us',\n",
       "    'region': 'us',\n",
       "    'messageId': 'e0004e10-1d5b-48af-95f3-bb1de6e53241',\n",
       "    'requestId': 'e0004e10-1d5b-48af-95f3-bb1de6e53241',\n",
       "    'nlu': {'scoredClassification': {'classification': 'DEEP_LEO',\n",
       "      'score': None},\n",
       "     'classificationRanking': [{'classification': 'DEEP_LEO', 'score': None}],\n",
       "     'qualifyingClassifications': None,\n",
       "     'ood': None,\n",
       "     'metaData': None,\n",
       "     'entities': None},\n",
       "    'offense': 'None',\n",
       "    'feedback': {'tag': None, 'updatedOn': None, 'type': 'None'},\n",
       "    'contentOrigin': 'cib',\n",
       "    'privacy': None,\n",
       "    'inputMethod': 'Keyboard'},\n",
       "   {'text': 'Hello, this is Bing. Welcome to the world of search and chat. 😊',\n",
       "    'author': 'bot',\n",
       "    'createdAt': '2023-04-26T17:13:32.6814665+00:00',\n",
       "    'timestamp': '2023-04-26T17:13:32.6814665+00:00',\n",
       "    'messageId': '8c08155d-1dd9-4237-9a7d-4504dda8de47',\n",
       "    'requestId': 'e0004e10-1d5b-48af-95f3-bb1de6e53241',\n",
       "    'offense': 'None',\n",
       "    'adaptiveCards': [{'type': 'AdaptiveCard',\n",
       "      'version': '1.0',\n",
       "      'body': [{'type': 'TextBlock',\n",
       "        'text': 'Hello, this is Bing. Welcome to the world of search and chat. 😊\\n',\n",
       "        'wrap': True}]}],\n",
       "    'sourceAttributions': [],\n",
       "    'feedback': {'tag': None, 'updatedOn': None, 'type': 'None'},\n",
       "    'contentOrigin': 'DeepLeo',\n",
       "    'privacy': None,\n",
       "    'suggestedResponses': [{'text': 'What can you do?',\n",
       "      'author': 'user',\n",
       "      'createdAt': '2023-04-26T17:13:39.9592459+00:00',\n",
       "      'timestamp': '2023-04-26T17:13:39.9592459+00:00',\n",
       "      'messageId': 'bfdf574e-cc79-468e-9fae-fb8cef687de1',\n",
       "      'messageType': 'Suggestion',\n",
       "      'offense': 'Unknown',\n",
       "      'feedback': {'tag': None, 'updatedOn': None, 'type': 'None'},\n",
       "      'contentOrigin': 'DeepLeo',\n",
       "      'privacy': None},\n",
       "     {'text': 'How are you today?',\n",
       "      'author': 'user',\n",
       "      'createdAt': '2023-04-26T17:13:39.9592481+00:00',\n",
       "      'timestamp': '2023-04-26T17:13:39.9592481+00:00',\n",
       "      'messageId': 'e7e74fd6-19fe-4459-934e-9e8326f67ad7',\n",
       "      'messageType': 'Suggestion',\n",
       "      'offense': 'Unknown',\n",
       "      'feedback': {'tag': None, 'updatedOn': None, 'type': 'None'},\n",
       "      'contentOrigin': 'DeepLeo',\n",
       "      'privacy': None},\n",
       "     {'text': 'Show me some cute cats.',\n",
       "      'author': 'user',\n",
       "      'createdAt': '2023-04-26T17:13:39.9592494+00:00',\n",
       "      'timestamp': '2023-04-26T17:13:39.9592494+00:00',\n",
       "      'messageId': '08003ed1-23e7-427b-9197-87b82e8bddfe',\n",
       "      'messageType': 'Suggestion',\n",
       "      'offense': 'Unknown',\n",
       "      'feedback': {'tag': None, 'updatedOn': None, 'type': 'None'},\n",
       "      'contentOrigin': 'DeepLeo',\n",
       "      'privacy': None}]}],\n",
       "  'firstNewMessageIndex': 1,\n",
       "  'defaultChatName': None,\n",
       "  'conversationId': '51D|BingProd|E5069F6878E5E18F1218CAE7BF1AA7CE0B163080C3C8AF21C8F539FDC5251C3A',\n",
       "  'requestId': 'e0004e10-1d5b-48af-95f3-bb1de6e53241',\n",
       "  'conversationExpiryTime': '2023-04-26T23:13:40.1044404Z',\n",
       "  'shouldInitiateConversation': True,\n",
       "  'telemetry': {'metrics': None, 'startTime': '2023-04-26T17:13:28.049205Z'},\n",
       "  'throttling': {'maxNumUserMessagesInConversation': 20,\n",
       "   'numUserMessagesInConversation': 1},\n",
       "  'result': {'value': 'Success', 'serviceVersion': '20230426.8'}}}"
      ]
     },
     "execution_count": 87,
     "metadata": {},
     "output_type": "execute_result"
    }
   ],
   "source": [
    "resp"
   ]
  },
  {
   "cell_type": "code",
   "execution_count": 4,
   "metadata": {},
   "outputs": [
    {
     "name": "stdout",
     "output_type": "stream",
     "text": [
      "{'type': 2, 'invocationId': '0', 'item': {'messages': [{'text': 'Hello world', 'author': 'user', 'from': {'id': '1055519926842900', 'name': None}, 'createdAt': '2023-04-26T06:21:13.7061429+00:00', 'timestamp': '2023-04-26T06:21:13.7031054+00:00', 'locale': 'en-us', 'market': 'en-us', 'region': 'us', 'messageId': '7de2fb04-b247-484a-b812-bd6908203f8a', 'requestId': '7de2fb04-b247-484a-b812-bd6908203f8a', 'nlu': {'scoredClassification': {'classification': 'DEEP_LEO', 'score': None}, 'classificationRanking': [{'classification': 'DEEP_LEO', 'score': None}], 'qualifyingClassifications': None, 'ood': None, 'metaData': None, 'entities': None}, 'offense': 'None', 'feedback': {'tag': None, 'updatedOn': None, 'type': 'None'}, 'contentOrigin': 'cib', 'privacy': None, 'inputMethod': 'Keyboard'}, {'text': 'Hello, this is Bing. Welcome to the world of search and chat.😊', 'author': 'bot', 'createdAt': '2023-04-26T06:21:20.2716641+00:00', 'timestamp': '2023-04-26T06:21:20.2716641+00:00', 'messageId': '6acde7da-eab8-4c44-b854-cc743e8ae7c9', 'requestId': '7de2fb04-b247-484a-b812-bd6908203f8a', 'offense': 'None', 'adaptiveCards': [{'type': 'AdaptiveCard', 'version': '1.0', 'body': [{'type': 'TextBlock', 'text': 'Hello, this is Bing. Welcome to the world of search and chat.😊\\n', 'wrap': True}]}], 'sourceAttributions': [], 'feedback': {'tag': None, 'updatedOn': None, 'type': 'None'}, 'contentOrigin': 'DeepLeo', 'privacy': None, 'suggestedResponses': [{'text': 'What can you do?', 'author': 'user', 'createdAt': '2023-04-26T06:21:26.5298753+00:00', 'timestamp': '2023-04-26T06:21:26.5298753+00:00', 'messageId': '27681cee-07f1-416d-94e7-3b6bd07f3c73', 'messageType': 'Suggestion', 'offense': 'Unknown', 'feedback': {'tag': None, 'updatedOn': None, 'type': 'None'}, 'contentOrigin': 'DeepLeo', 'privacy': None}, {'text': 'How are you today?', 'author': 'user', 'createdAt': '2023-04-26T06:21:26.5298786+00:00', 'timestamp': '2023-04-26T06:21:26.5298786+00:00', 'messageId': 'b60c051b-7d14-4bca-81a2-fda2b62c96d3', 'messageType': 'Suggestion', 'offense': 'Unknown', 'feedback': {'tag': None, 'updatedOn': None, 'type': 'None'}, 'contentOrigin': 'DeepLeo', 'privacy': None}, {'text': 'Show me some cute cat pictures.', 'author': 'user', 'createdAt': '2023-04-26T06:21:26.5298791+00:00', 'timestamp': '2023-04-26T06:21:26.5298791+00:00', 'messageId': '64231312-66c5-46df-8ac1-1df8b471c687', 'messageType': 'Suggestion', 'offense': 'Unknown', 'feedback': {'tag': None, 'updatedOn': None, 'type': 'None'}, 'contentOrigin': 'DeepLeo', 'privacy': None}], 'spokenText': 'Hello, this is Bing. Welcome to the world of search and chat.'}], 'firstNewMessageIndex': 1, 'defaultChatName': None, 'conversationId': '51D|BingProd|AC2377F5F02B8326776F00FF95B6DC18277C8B53F9F5B741CA2C9224763362BB', 'requestId': '7de2fb04-b247-484a-b812-bd6908203f8a', 'conversationExpiryTime': '2023-04-26T12:21:26.5985158Z', 'shouldInitiateConversation': True, 'telemetry': {'metrics': None, 'startTime': '2023-04-26T06:21:13.7031711Z'}, 'throttling': {'maxNumUserMessagesInConversation': 20, 'numUserMessagesInConversation': 1}, 'result': {'value': 'Success', 'serviceVersion': '20230425.26'}}}\n"
     ]
    }
   ],
   "source": [
    "print(resp) # JSON respsone"
   ]
  },
  {
   "cell_type": "code",
   "execution_count": 5,
   "metadata": {},
   "outputs": [
    {
     "data": {
      "text/plain": [
       "3"
      ]
     },
     "execution_count": 5,
     "metadata": {},
     "output_type": "execute_result"
    },
    {
     "name": "stdout",
     "output_type": "stream",
     "text": [
      "{'invocationId': '0',\n",
      " 'item': {'conversationExpiryTime': '2023-04-26T12:21:26.5985158Z',\n",
      "          'conversationId': '51D|BingProd|AC2377F5F02B8326776F00FF95B6DC18277C8B53F9F5B741CA2C9224763362BB',\n",
      "          'defaultChatName': None,\n",
      "          'firstNewMessageIndex': 1,\n",
      "          'messages': [{'author': 'user',\n",
      "                        'contentOrigin': 'cib',\n",
      "                        'createdAt': '2023-04-26T06:21:13.7061429+00:00',\n",
      "                        'feedback': {'tag': None,\n",
      "                                     'type': 'None',\n",
      "                                     'updatedOn': None},\n",
      "                        'from': {'id': '1055519926842900', 'name': None},\n",
      "                        'inputMethod': 'Keyboard',\n",
      "                        'locale': 'en-us',\n",
      "                        'market': 'en-us',\n",
      "                        'messageId': '7de2fb04-b247-484a-b812-bd6908203f8a',\n",
      "                        'nlu': {'classificationRanking': [{'classification': 'DEEP_LEO',\n",
      "                                                           'score': None}],\n",
      "                                'entities': None,\n",
      "                                'metaData': None,\n",
      "                                'ood': None,\n",
      "                                'qualifyingClassifications': None,\n",
      "                                'scoredClassification': {'classification': 'DEEP_LEO',\n",
      "                                                         'score': None}},\n",
      "                        'offense': 'None',\n",
      "                        'privacy': None,\n",
      "                        'region': 'us',\n",
      "                        'requestId': '7de2fb04-b247-484a-b812-bd6908203f8a',\n",
      "                        'text': 'Hello world',\n",
      "                        'timestamp': '2023-04-26T06:21:13.7031054+00:00'},\n",
      "                       {'adaptiveCards': [{'body': [{'text': 'Hello, this is '\n",
      "                                                             'Bing. Welcome to '\n",
      "                                                             'the world of '\n",
      "                                                             'search and '\n",
      "                                                             'chat.😊\\n',\n",
      "                                                     'type': 'TextBlock',\n",
      "                                                     'wrap': True}],\n",
      "                                           'type': 'AdaptiveCard',\n",
      "                                           'version': '1.0'}],\n",
      "                        'author': 'bot',\n",
      "                        'contentOrigin': 'DeepLeo',\n",
      "                        'createdAt': '2023-04-26T06:21:20.2716641+00:00',\n",
      "                        'feedback': {'tag': None,\n",
      "                                     'type': 'None',\n",
      "                                     'updatedOn': None},\n",
      "                        'messageId': '6acde7da-eab8-4c44-b854-cc743e8ae7c9',\n",
      "                        'offense': 'None',\n",
      "                        'privacy': None,\n",
      "                        'requestId': '7de2fb04-b247-484a-b812-bd6908203f8a',\n",
      "                        'sourceAttributions': [],\n",
      "                        'spokenText': 'Hello, this is Bing. Welcome to the '\n",
      "                                      'world of search and chat.',\n",
      "                        'suggestedResponses': [{'author': 'user',\n",
      "                                                'contentOrigin': 'DeepLeo',\n",
      "                                                'createdAt': '2023-04-26T06:21:26.5298753+00:00',\n",
      "                                                'feedback': {'tag': None,\n",
      "                                                             'type': 'None',\n",
      "                                                             'updatedOn': None},\n",
      "                                                'messageId': '27681cee-07f1-416d-94e7-3b6bd07f3c73',\n",
      "                                                'messageType': 'Suggestion',\n",
      "                                                'offense': 'Unknown',\n",
      "                                                'privacy': None,\n",
      "                                                'text': 'What can you do?',\n",
      "                                                'timestamp': '2023-04-26T06:21:26.5298753+00:00'},\n",
      "                                               {'author': 'user',\n",
      "                                                'contentOrigin': 'DeepLeo',\n",
      "                                                'createdAt': '2023-04-26T06:21:26.5298786+00:00',\n",
      "                                                'feedback': {'tag': None,\n",
      "                                                             'type': 'None',\n",
      "                                                             'updatedOn': None},\n",
      "                                                'messageId': 'b60c051b-7d14-4bca-81a2-fda2b62c96d3',\n",
      "                                                'messageType': 'Suggestion',\n",
      "                                                'offense': 'Unknown',\n",
      "                                                'privacy': None,\n",
      "                                                'text': 'How are you today?',\n",
      "                                                'timestamp': '2023-04-26T06:21:26.5298786+00:00'},\n",
      "                                               {'author': 'user',\n",
      "                                                'contentOrigin': 'DeepLeo',\n",
      "                                                'createdAt': '2023-04-26T06:21:26.5298791+00:00',\n",
      "                                                'feedback': {'tag': None,\n",
      "                                                             'type': 'None',\n",
      "                                                             'updatedOn': None},\n",
      "                                                'messageId': '64231312-66c5-46df-8ac1-1df8b471c687',\n",
      "                                                'messageType': 'Suggestion',\n",
      "                                                'offense': 'Unknown',\n",
      "                                                'privacy': None,\n",
      "                                                'text': 'Show me some cute cat '\n",
      "                                                        'pictures.',\n",
      "                                                'timestamp': '2023-04-26T06:21:26.5298791+00:00'}],\n",
      "                        'text': 'Hello, this is Bing. Welcome to the world of '\n",
      "                                'search and chat.😊',\n",
      "                        'timestamp': '2023-04-26T06:21:20.2716641+00:00'}],\n",
      "          'requestId': '7de2fb04-b247-484a-b812-bd6908203f8a',\n",
      "          'result': {'serviceVersion': '20230425.26', 'value': 'Success'},\n",
      "          'shouldInitiateConversation': True,\n",
      "          'telemetry': {'metrics': None,\n",
      "                        'startTime': '2023-04-26T06:21:13.7031711Z'},\n",
      "          'throttling': {'maxNumUserMessagesInConversation': 20,\n",
      "                         'numUserMessagesInConversation': 1}},\n",
      " 'type': 2}\n"
     ]
    }
   ],
   "source": [
    "len(resp)\n",
    "import pprint\n",
    "pprint.pprint(resp)"
   ]
  },
  {
   "cell_type": "code",
   "execution_count": 6,
   "metadata": {},
   "outputs": [
    {
     "name": "stdout",
     "output_type": "stream",
     "text": [
      "Hello, this is Bing. Welcome to the world of search and chat.😊\n"
     ]
    }
   ],
   "source": [
    "# pprint.pprint(resp['item']['messages'][1]['text'])\n",
    "print(resp['item']['messages'][1]['text'])"
   ]
  },
  {
   "cell_type": "code",
   "execution_count": 7,
   "metadata": {},
   "outputs": [
    {
     "data": {
      "text/html": [
       "<div>\n",
       "<style scoped>\n",
       "    .dataframe tbody tr th:only-of-type {\n",
       "        vertical-align: middle;\n",
       "    }\n",
       "\n",
       "    .dataframe tbody tr th {\n",
       "        vertical-align: top;\n",
       "    }\n",
       "\n",
       "    .dataframe thead th {\n",
       "        text-align: right;\n",
       "    }\n",
       "</style>\n",
       "<table border=\"1\" class=\"dataframe\">\n",
       "  <thead>\n",
       "    <tr style=\"text-align: right;\">\n",
       "      <th></th>\n",
       "      <th>type</th>\n",
       "      <th>invocationId</th>\n",
       "      <th>item</th>\n",
       "    </tr>\n",
       "  </thead>\n",
       "  <tbody>\n",
       "    <tr>\n",
       "      <th>conversationExpiryTime</th>\n",
       "      <td>2</td>\n",
       "      <td>0</td>\n",
       "      <td>2023-04-26T12:21:26.5985158Z</td>\n",
       "    </tr>\n",
       "    <tr>\n",
       "      <th>conversationId</th>\n",
       "      <td>2</td>\n",
       "      <td>0</td>\n",
       "      <td>51D|BingProd|AC2377F5F02B8326776F00FF95B6DC182...</td>\n",
       "    </tr>\n",
       "    <tr>\n",
       "      <th>defaultChatName</th>\n",
       "      <td>2</td>\n",
       "      <td>0</td>\n",
       "      <td>None</td>\n",
       "    </tr>\n",
       "    <tr>\n",
       "      <th>firstNewMessageIndex</th>\n",
       "      <td>2</td>\n",
       "      <td>0</td>\n",
       "      <td>1</td>\n",
       "    </tr>\n",
       "    <tr>\n",
       "      <th>messages</th>\n",
       "      <td>2</td>\n",
       "      <td>0</td>\n",
       "      <td>[{'text': 'Hello world', 'author': 'user', 'fr...</td>\n",
       "    </tr>\n",
       "    <tr>\n",
       "      <th>requestId</th>\n",
       "      <td>2</td>\n",
       "      <td>0</td>\n",
       "      <td>7de2fb04-b247-484a-b812-bd6908203f8a</td>\n",
       "    </tr>\n",
       "    <tr>\n",
       "      <th>result</th>\n",
       "      <td>2</td>\n",
       "      <td>0</td>\n",
       "      <td>{'value': 'Success', 'serviceVersion': '202304...</td>\n",
       "    </tr>\n",
       "    <tr>\n",
       "      <th>shouldInitiateConversation</th>\n",
       "      <td>2</td>\n",
       "      <td>0</td>\n",
       "      <td>True</td>\n",
       "    </tr>\n",
       "    <tr>\n",
       "      <th>telemetry</th>\n",
       "      <td>2</td>\n",
       "      <td>0</td>\n",
       "      <td>{'metrics': None, 'startTime': '2023-04-26T06:...</td>\n",
       "    </tr>\n",
       "    <tr>\n",
       "      <th>throttling</th>\n",
       "      <td>2</td>\n",
       "      <td>0</td>\n",
       "      <td>{'maxNumUserMessagesInConversation': 20, 'numU...</td>\n",
       "    </tr>\n",
       "  </tbody>\n",
       "</table>\n",
       "</div>"
      ],
      "text/plain": [
       "                            type invocationId  \\\n",
       "conversationExpiryTime         2            0   \n",
       "conversationId                 2            0   \n",
       "defaultChatName                2            0   \n",
       "firstNewMessageIndex           2            0   \n",
       "messages                       2            0   \n",
       "requestId                      2            0   \n",
       "result                         2            0   \n",
       "shouldInitiateConversation     2            0   \n",
       "telemetry                      2            0   \n",
       "throttling                     2            0   \n",
       "\n",
       "                                                                         item  \n",
       "conversationExpiryTime                           2023-04-26T12:21:26.5985158Z  \n",
       "conversationId              51D|BingProd|AC2377F5F02B8326776F00FF95B6DC182...  \n",
       "defaultChatName                                                          None  \n",
       "firstNewMessageIndex                                                        1  \n",
       "messages                    [{'text': 'Hello world', 'author': 'user', 'fr...  \n",
       "requestId                                7de2fb04-b247-484a-b812-bd6908203f8a  \n",
       "result                      {'value': 'Success', 'serviceVersion': '202304...  \n",
       "shouldInitiateConversation                                               True  \n",
       "telemetry                   {'metrics': None, 'startTime': '2023-04-26T06:...  \n",
       "throttling                  {'maxNumUserMessagesInConversation': 20, 'numU...  "
      ]
     },
     "execution_count": 7,
     "metadata": {},
     "output_type": "execute_result"
    }
   ],
   "source": [
    "import pandas as pd\n",
    "df = pd.DataFrame(resp)\n",
    "df"
   ]
  },
  {
   "cell_type": "code",
   "execution_count": 8,
   "metadata": {},
   "outputs": [
    {
     "name": "stdout",
     "output_type": "stream",
     "text": [
      "+------+--------------+----------------------------------------------------------------------------------------------------------------------------------------------------------------------------------------------------------------------------------------------------------------------------------------------------------------------------------------------------------------------------------------------------------------------------------------------------------------------------------------------------------------------------------------------------------------------------------------------------------------------------------------------------------------------------------------------------------------------------------------------------------------------------------------------------------------------------------------------------------------------------------------------------------------------------------------------------------------------------------------------------------------------------------------------------------------------------------------------------------------------------------------------------------------------------------------------------------------------------------------------------------------------------------------------------------------------------------------------------------------------------------------------------------------------------------------------------------------------------------------------------------------------------------------------------------------------------------------------------------------------------------------------------------------------------------------------------------------------------------------------------------------------------------------------------------------------------------------------------------------------------------------------------------------------------------------------------------------------------------------------------------------------------------------------------------------------------------------------------------------------------------------------------------------------------------------------------------------------------------------------------------------------------------------------------------------------------------------------------------------------------------------------------------------------------------------------------------------------------------------------------------------------------------------------------------------------------------------------------------------------------------------------------------------------------------------------------------------------------------------------------------------------------------------------------------------------------------------------------------------------------------------------------------------------------------------------------------------------------------------------------------------------------------------------------------------------------------------------------------------------------------------------------------------------------------------------------------------------------------------------------+\n",
      "| type | invocationId |                                                                                                                                                                                                                                                                                                                                                                                                                                                                                                                                                                                                                                                                                                                                                                                                                                                                                                                                                                                                                                                                                                                                                                                                                                                                                                                                                                                                                                                                                                                                                                                                                        item                                                                                                                                                                                                                                                                                                                                                                                                                                                                                                                                                                                                                                                                                                                                                                                                                                                                                                                                                                                                                                                                                                                                                                                                                                                                                                                                                                                                                                                                                                                                                                                                                        |\n",
      "+------+--------------+----------------------------------------------------------------------------------------------------------------------------------------------------------------------------------------------------------------------------------------------------------------------------------------------------------------------------------------------------------------------------------------------------------------------------------------------------------------------------------------------------------------------------------------------------------------------------------------------------------------------------------------------------------------------------------------------------------------------------------------------------------------------------------------------------------------------------------------------------------------------------------------------------------------------------------------------------------------------------------------------------------------------------------------------------------------------------------------------------------------------------------------------------------------------------------------------------------------------------------------------------------------------------------------------------------------------------------------------------------------------------------------------------------------------------------------------------------------------------------------------------------------------------------------------------------------------------------------------------------------------------------------------------------------------------------------------------------------------------------------------------------------------------------------------------------------------------------------------------------------------------------------------------------------------------------------------------------------------------------------------------------------------------------------------------------------------------------------------------------------------------------------------------------------------------------------------------------------------------------------------------------------------------------------------------------------------------------------------------------------------------------------------------------------------------------------------------------------------------------------------------------------------------------------------------------------------------------------------------------------------------------------------------------------------------------------------------------------------------------------------------------------------------------------------------------------------------------------------------------------------------------------------------------------------------------------------------------------------------------------------------------------------------------------------------------------------------------------------------------------------------------------------------------------------------------------------------------------------------------------------------+\n",
      "|  2   |      0       | {'messages': [{'text': 'Hello world', 'author': 'user', 'from': {'id': '1055519926842900', 'name': None}, 'createdAt': '2023-04-26T06:21:13.7061429+00:00', 'timestamp': '2023-04-26T06:21:13.7031054+00:00', 'locale': 'en-us', 'market': 'en-us', 'region': 'us', 'messageId': '7de2fb04-b247-484a-b812-bd6908203f8a', 'requestId': '7de2fb04-b247-484a-b812-bd6908203f8a', 'nlu': {'scoredClassification': {'classification': 'DEEP_LEO', 'score': None}, 'classificationRanking': [{'classification': 'DEEP_LEO', 'score': None}], 'qualifyingClassifications': None, 'ood': None, 'metaData': None, 'entities': None}, 'offense': 'None', 'feedback': {'tag': None, 'updatedOn': None, 'type': 'None'}, 'contentOrigin': 'cib', 'privacy': None, 'inputMethod': 'Keyboard'}, {'text': 'Hello, this is Bing. Welcome to the world of search and chat.😊', 'author': 'bot', 'createdAt': '2023-04-26T06:21:20.2716641+00:00', 'timestamp': '2023-04-26T06:21:20.2716641+00:00', 'messageId': '6acde7da-eab8-4c44-b854-cc743e8ae7c9', 'requestId': '7de2fb04-b247-484a-b812-bd6908203f8a', 'offense': 'None', 'adaptiveCards': [{'type': 'AdaptiveCard', 'version': '1.0', 'body': [{'type': 'TextBlock', 'text': 'Hello, this is Bing. Welcome to the world of search and chat.😊\\n', 'wrap': True}]}], 'sourceAttributions': [], 'feedback': {'tag': None, 'updatedOn': None, 'type': 'None'}, 'contentOrigin': 'DeepLeo', 'privacy': None, 'suggestedResponses': [{'text': 'What can you do?', 'author': 'user', 'createdAt': '2023-04-26T06:21:26.5298753+00:00', 'timestamp': '2023-04-26T06:21:26.5298753+00:00', 'messageId': '27681cee-07f1-416d-94e7-3b6bd07f3c73', 'messageType': 'Suggestion', 'offense': 'Unknown', 'feedback': {'tag': None, 'updatedOn': None, 'type': 'None'}, 'contentOrigin': 'DeepLeo', 'privacy': None}, {'text': 'How are you today?', 'author': 'user', 'createdAt': '2023-04-26T06:21:26.5298786+00:00', 'timestamp': '2023-04-26T06:21:26.5298786+00:00', 'messageId': 'b60c051b-7d14-4bca-81a2-fda2b62c96d3', 'messageType': 'Suggestion', 'offense': 'Unknown', 'feedback': {'tag': None, 'updatedOn': None, 'type': 'None'}, 'contentOrigin': 'DeepLeo', 'privacy': None}, {'text': 'Show me some cute cat pictures.', 'author': 'user', 'createdAt': '2023-04-26T06:21:26.5298791+00:00', 'timestamp': '2023-04-26T06:21:26.5298791+00:00', 'messageId': '64231312-66c5-46df-8ac1-1df8b471c687', 'messageType': 'Suggestion', 'offense': 'Unknown', 'feedback': {'tag': None, 'updatedOn': None, 'type': 'None'}, 'contentOrigin': 'DeepLeo', 'privacy': None}], 'spokenText': 'Hello, this is Bing. Welcome to the world of search and chat.'}], 'firstNewMessageIndex': 1, 'defaultChatName': None, 'conversationId': '51D|BingProd|AC2377F5F02B8326776F00FF95B6DC18277C8B53F9F5B741CA2C9224763362BB', 'requestId': '7de2fb04-b247-484a-b812-bd6908203f8a', 'conversationExpiryTime': '2023-04-26T12:21:26.5985158Z', 'shouldInitiateConversation': True, 'telemetry': {'metrics': None, 'startTime': '2023-04-26T06:21:13.7031711Z'}, 'throttling': {'maxNumUserMessagesInConversation': 20, 'numUserMessagesInConversation': 1}, 'result': {'value': 'Success', 'serviceVersion': '20230425.26'}} |\n",
      "+------+--------------+----------------------------------------------------------------------------------------------------------------------------------------------------------------------------------------------------------------------------------------------------------------------------------------------------------------------------------------------------------------------------------------------------------------------------------------------------------------------------------------------------------------------------------------------------------------------------------------------------------------------------------------------------------------------------------------------------------------------------------------------------------------------------------------------------------------------------------------------------------------------------------------------------------------------------------------------------------------------------------------------------------------------------------------------------------------------------------------------------------------------------------------------------------------------------------------------------------------------------------------------------------------------------------------------------------------------------------------------------------------------------------------------------------------------------------------------------------------------------------------------------------------------------------------------------------------------------------------------------------------------------------------------------------------------------------------------------------------------------------------------------------------------------------------------------------------------------------------------------------------------------------------------------------------------------------------------------------------------------------------------------------------------------------------------------------------------------------------------------------------------------------------------------------------------------------------------------------------------------------------------------------------------------------------------------------------------------------------------------------------------------------------------------------------------------------------------------------------------------------------------------------------------------------------------------------------------------------------------------------------------------------------------------------------------------------------------------------------------------------------------------------------------------------------------------------------------------------------------------------------------------------------------------------------------------------------------------------------------------------------------------------------------------------------------------------------------------------------------------------------------------------------------------------------------------------------------------------------------------------------------------+\n"
     ]
    }
   ],
   "source": [
    "from prettytable import PrettyTable\n",
    "# Create a PrettyTable object with the keys as columns\n",
    "table = PrettyTable(resp.keys())\n",
    "# Add the values as a row\n",
    "table.add_row(resp.values())\n",
    "# Print the PrettyTable object as a table\n",
    "print(table)"
   ]
  },
  {
   "attachments": {},
   "cell_type": "markdown",
   "metadata": {},
   "source": [
    "# Exploring the message size limit.\n",
    "I.e. I want to know if my message is limited to 2000 characters here too."
   ]
  },
  {
   "cell_type": "code",
   "execution_count": 90,
   "metadata": {},
   "outputs": [],
   "source": [
    "async def Q1():\n",
    "    bot = Chatbot(cookie_path=cookies_ai0)\n",
    "    prompt = \"I will send you a message that you can ignore until the string 'Please reply back with the following text'. That which comes after 'Please reply back with the following text', you should reply to me. Here we go: Lorem ipsum dolor sit amet, consectetur adipiscing elit. Sed quis nisl vitae nisi ullamcorper tincidunt. Ut quis augue id augue lacinia aliquet. Curabitur euismod, nisl et consequat condimentum, lectus leo malesuada massa, a tincidunt eros lorem in nisi. Fusce vitae nisi quis magna ultricies aliquam. Nunc id sapien sit amet eros dictum faucibus. Aenean vel semper justo. Donec et leo vitae elit blandit fringilla. Mauris sit amet lacus ac justo ullamcorper rutrum.  Suspendisse potenti. Quisque sed leo vitae nunc auctor mattis. In hac habitasse platea dictumst. Vivamus at velit quis eros sagittis tincidunt. Praesent auctor arcu ut metus fermentum, eget consequat quam tristique. Duis vitae diam ut lorem vulputate malesuada. Sed quis lacus ut erat ultrices sollicitudin.  Nulla facilisi. Morbi vel semper felis. Cras id semper sapien. Sed quis massa euismod, luctus quam non, sagittis nulla. Phasellus eget enim sed lacus lacinia viverra sit amet ac libero. Proin et arcu in massa ullamcorper tincidunt nec at magna. Pellentesque habitant morbi tristique senectus et netus et malesuada fames ac turpis egestas.  Etiam in ante id nisl sodales consectetur in quis nibh. Cras ut tellus auctor, consequat nunc sed, ornare urna. Suspendisse nec augue at velit gravida iaculis nec id elit. Sed euismod dolor non mi sagittis, sit amet imperdiet urna varius. Aliquam erat volutpat. Donec euismod neque sit amet lorem fringilla, sed aliquet risus faucibus.  Vestibulum ante ipsum primis in faucibus orci luctus et ultrices posuere cubilia curae; Nunc quis leo id odio mattis tempor at id lectus. Ut vel odio auctor, feugiat tortor acLorem ipsum dolor sit amet, consectetur adipiscing elit. Sed quis nisl vitae nisi ullamcorper tincidunt. Ut quis augue id augue lacinia aliquet. Curabitur euismod, nisl et consequat condimentum, lectus leo malesuada massa, a tincidunt eros lorem in nisi. Fusce vitae nisi quis magna ultricies aliquam. Nunc id sapien sit amet eros dictum faucibus. Aenean vel semper justo. Donec et leo vitae elit blandit fringilla. Mauris sit amet lacus ac justo ullamcorper rutrum.  Suspendisse potenti. Quisque sed leo vitae nunc auctor mattis. In hac habitasse platea dictumst. Vivamus at velit quis eros sagittis tincidunt. Praesent auctor arcu ut metus fermentum, eget consequat quam tristique. Duis vitae diam ut lorem vulputate malesuada. Sed quis lacus ut erat ultrices sollicitudin.  Nulla facilisi. Morbi vel semper felis. Cras id semper sapien. Sed quis massa euismod, luctus quam non, sagittis nulla. Phasellus eget enim sed lacus lacinia viverra sit amet ac libero. Proin et arcu in massa ullamcorper tincidunt nec at magna. Pellentesque habitant morbi tristique senectus et netus et malesuada fames ac turpis egestas.  Etiam in ante id nisl sodales consectetur in quis nibh. Cras ut tellus auctor, consequat nunc sed, ornare urna. Suspendisse nec augue at velit gravida iaculis nec id elit. Sed euismod dolor non mi sagittis, sit amet imperdiet urna varius. Aliquam erat volutpat. Donec euismod neque sit amet lorem fringilla, sed aliquet risus faucibus.  Vestibulum ante ipsum primis in faucibus orci luctus et ultrices posuere cubilia curae; Nunc quis leo id odio mattis tempor at id lectus. Ut vel odio auctor, feugiat tortor ac, suscipit leo. This sentence should still send. While this sentence should be cut off. This is no longer true, I have edited my test. Please reply back with the following text: We have reached the end!\"\n",
    "    resp = await bot.ask(prompt=prompt, conversation_style=ConversationStyle.creative, wss_link=\"wss://sydney.bing.com/sydney/ChatHub\")\n",
    "    await bot.close()\n",
    "    return resp"
   ]
  },
  {
   "cell_type": "code",
   "execution_count": 91,
   "metadata": {},
   "outputs": [],
   "source": [
    "respQ1 = await Q1()\n"
   ]
  },
  {
   "cell_type": "code",
   "execution_count": 92,
   "metadata": {},
   "outputs": [
    {
     "data": {
      "text/plain": [
       "dict_keys(['type', 'invocationId', 'item'])"
      ]
     },
     "execution_count": 92,
     "metadata": {},
     "output_type": "execute_result"
    },
    {
     "data": {
      "text/plain": [
       "{'messages': [{'text': \"I will send you a message that you can ignore until the string 'Please reply back with the following text'. That which comes after 'Please reply back with the following text', you should reply to me. Here we go: Lorem ipsum dolor sit amet, consectetur adipiscing elit. Sed quis nisl vitae nisi ullamcorper tincidunt. Ut quis augue id augue lacinia aliquet. Curabitur euismod, nisl et consequat condimentum, lectus leo malesuada massa, a tincidunt eros lorem in nisi. Fusce vitae nisi quis magna ultricies aliquam. Nunc id sapien sit amet eros dictum faucibus. Aenean vel semper justo. Donec et leo vitae elit blandit fringilla. Mauris sit amet lacus ac justo ullamcorper rutrum.  Suspendisse potenti. Quisque sed leo vitae nunc auctor mattis. In hac habitasse platea dictumst. Vivamus at velit quis eros sagittis tincidunt. Praesent auctor arcu ut metus fermentum, eget consequat quam tristique. Duis vitae diam ut lorem vulputate malesuada. Sed quis lacus ut erat ultrices sollicitudin.  Nulla facilisi. Morbi vel semper felis. Cras id semper sapien. Sed quis massa euismod, luctus quam non, sagittis nulla. Phasellus eget enim sed lacus lacinia viverra sit amet ac libero. Proin et arcu in massa ullamcorper tincidunt nec at magna. Pellentesque habitant morbi tristique senectus et netus et malesuada fames ac turpis egestas.  Etiam in ante id nisl sodales consectetur in quis nibh. Cras ut tellus auctor, consequat nunc sed, ornare urna. Suspendisse nec augue at velit gravida iaculis nec id elit. Sed euismod dolor non mi sagittis, sit amet imperdiet urna varius. Aliquam erat volutpat. Donec euismod neque sit amet lorem fringilla, sed aliquet risus faucibus.  Vestibulum ante ipsum primis in faucibus orci luctus et ultrices posuere cubilia curae; Nunc quis leo id odio mattis tempor at id lectus. Ut vel odio auctor, feugiat tortor acLorem ipsum dolor sit amet, consectetur adipiscing elit. Sed quis nisl vitae nisi ullamcorper tincidunt. Ut quis augue id augue lacinia aliquet. Curabitur euismod, nisl et consequat condimentum, lectus leo malesuada massa, a tincidunt eros lorem in nisi. Fusce vitae nisi quis magna ultricies aliquam. Nunc id sapien sit amet eros dictum faucibus. Aenean vel semper justo. Donec et leo vitae elit blandit fringilla. Mauris sit amet lacus ac justo ullamcorper rutrum.  Suspendisse potenti. Quisque sed leo vitae nunc auctor mattis. In hac habitasse platea dictumst. Vivamus at velit quis eros sagittis tincidunt. Praesent auctor arcu ut metus fermentum, eget consequat quam tristique. Duis vitae diam ut lorem vulputate malesuada. Sed quis lacus ut erat ultrices sollicitudin.  Nulla facilisi. Morbi vel semper felis. Cras id semper sapien. Sed quis massa euismod, luctus quam non, sagittis nulla. Phasellus eget enim sed lacus lacinia viverra sit amet ac libero. Proin et arcu in massa ullamcorper tincidunt nec at magna. Pellentesque habitant morbi tristique senectus et netus et malesuada fames ac turpis egestas.  Etiam in ante id nisl sodales consectetur in quis nibh. Cras ut tellus auctor, consequat nunc sed, ornare urna. Suspendisse nec augue at velit gravida iaculis nec id elit. Sed euismod dolor non mi sagittis, sit amet imperdiet urna varius. Aliquam erat volutpat. Donec euismod neque sit amet lorem fringilla, sed aliquet risus faucibus.  Vestibulum ante ipsum primis in faucibus orci luctus et ultrices posuere cubilia curae; Nunc quis leo id odio mattis tempor at id lectus. Ut vel odio auctor, feugiat tortor ac, suscipit leo. This sentence should still send. While this sentence should be cut off. This is no longer true, I have edited my test. Please reply back with the following text: We have reached the end!\",\n",
       "   'author': 'user',\n",
       "   'from': {'id': '1055519929110159', 'name': None},\n",
       "   'createdAt': '2023-04-26T17:14:12.8797533+00:00',\n",
       "   'timestamp': '2023-04-26T17:14:12.8766257+00:00',\n",
       "   'locale': 'en-us',\n",
       "   'market': 'en-us',\n",
       "   'region': 'us',\n",
       "   'messageId': 'cf5c56d8-2934-473a-84ca-bfc6c99640ab',\n",
       "   'requestId': 'cf5c56d8-2934-473a-84ca-bfc6c99640ab',\n",
       "   'nlu': {'scoredClassification': {'classification': 'DEEP_LEO',\n",
       "     'score': None},\n",
       "    'classificationRanking': [{'classification': 'DEEP_LEO', 'score': None}],\n",
       "    'qualifyingClassifications': None,\n",
       "    'ood': None,\n",
       "    'metaData': None,\n",
       "    'entities': None},\n",
       "   'offense': 'None',\n",
       "   'feedback': {'tag': None, 'updatedOn': None, 'type': 'None'},\n",
       "   'contentOrigin': 'cib',\n",
       "   'privacy': None,\n",
       "   'inputMethod': 'Keyboard'},\n",
       "  {'text': 'We have reached the end!',\n",
       "   'author': 'bot',\n",
       "   'createdAt': '2023-04-26T17:14:21.1496531+00:00',\n",
       "   'timestamp': '2023-04-26T17:14:21.1496531+00:00',\n",
       "   'messageId': '527b0716-c44b-4a4e-8fca-0ec40a08c8f2',\n",
       "   'requestId': 'cf5c56d8-2934-473a-84ca-bfc6c99640ab',\n",
       "   'offense': 'None',\n",
       "   'adaptiveCards': [{'type': 'AdaptiveCard',\n",
       "     'version': '1.0',\n",
       "     'body': [{'type': 'TextBlock',\n",
       "       'text': 'We have reached the end!\\n',\n",
       "       'wrap': True}]}],\n",
       "   'sourceAttributions': [],\n",
       "   'feedback': {'tag': None, 'updatedOn': None, 'type': 'None'},\n",
       "   'contentOrigin': 'DeepLeo',\n",
       "   'privacy': None,\n",
       "   'suggestedResponses': [{'text': 'What was the point of that?',\n",
       "     'author': 'user',\n",
       "     'createdAt': '2023-04-26T17:14:24.2234819+00:00',\n",
       "     'timestamp': '2023-04-26T17:14:24.2234819+00:00',\n",
       "     'messageId': '8567c1e5-973d-47ac-9cc7-f37a999763de',\n",
       "     'messageType': 'Suggestion',\n",
       "     'offense': 'Unknown',\n",
       "     'feedback': {'tag': None, 'updatedOn': None, 'type': 'None'},\n",
       "     'contentOrigin': 'DeepLeo',\n",
       "     'privacy': None},\n",
       "    {'text': 'Did you read all of that?',\n",
       "     'author': 'user',\n",
       "     'createdAt': '2023-04-26T17:14:24.2234835+00:00',\n",
       "     'timestamp': '2023-04-26T17:14:24.2234835+00:00',\n",
       "     'messageId': '75d0ba0a-85bf-45b8-b463-10ee46dfec3a',\n",
       "     'messageType': 'Suggestion',\n",
       "     'offense': 'Unknown',\n",
       "     'feedback': {'tag': None, 'updatedOn': None, 'type': 'None'},\n",
       "     'contentOrigin': 'DeepLeo',\n",
       "     'privacy': None},\n",
       "    {'text': 'Can you do something more useful?',\n",
       "     'author': 'user',\n",
       "     'createdAt': '2023-04-26T17:14:24.2234861+00:00',\n",
       "     'timestamp': '2023-04-26T17:14:24.2234861+00:00',\n",
       "     'messageId': 'efdbb170-07dc-4c97-ae1d-a4013dc85644',\n",
       "     'messageType': 'Suggestion',\n",
       "     'offense': 'Unknown',\n",
       "     'feedback': {'tag': None, 'updatedOn': None, 'type': 'None'},\n",
       "     'contentOrigin': 'DeepLeo',\n",
       "     'privacy': None}],\n",
       "   'spokenText': 'We have reached the end!'}],\n",
       " 'firstNewMessageIndex': 1,\n",
       " 'defaultChatName': None,\n",
       " 'conversationId': '51D|BingProd|5E5B28932EE5FFC83C2EC822C1B34167E88380CC8478190C09E40402EA977565',\n",
       " 'requestId': 'cf5c56d8-2934-473a-84ca-bfc6c99640ab',\n",
       " 'conversationExpiryTime': '2023-04-26T23:14:24.3106944Z',\n",
       " 'shouldInitiateConversation': True,\n",
       " 'telemetry': {'metrics': None, 'startTime': '2023-04-26T17:14:12.8766791Z'},\n",
       " 'throttling': {'maxNumUserMessagesInConversation': 20,\n",
       "  'numUserMessagesInConversation': 1},\n",
       " 'result': {'value': 'Success', 'serviceVersion': '20230425.26'}}"
      ]
     },
     "execution_count": 92,
     "metadata": {},
     "output_type": "execute_result"
    }
   ],
   "source": [
    "respQ1.keys()\n",
    "respQ1['item']"
   ]
  },
  {
   "cell_type": "code",
   "execution_count": 93,
   "metadata": {},
   "outputs": [
    {
     "data": {
      "text/plain": [
       "\"I will send you a message that you can ignore until the string 'Please reply back with the following text'. That which comes after 'Please reply back with the following text', you should reply to me. Here we go: Lorem ipsum dolor sit amet, consectetur adipiscing elit. Sed quis nisl vitae nisi ullamcorper tincidunt. Ut quis augue id augue lacinia aliquet. Curabitur euismod, nisl et consequat condimentum, lectus leo malesuada massa, a tincidunt eros lorem in nisi. Fusce vitae nisi quis magna ultricies aliquam. Nunc id sapien sit amet eros dictum faucibus. Aenean vel semper justo. Donec et leo vitae elit blandit fringilla. Mauris sit amet lacus ac justo ullamcorper rutrum.  Suspendisse potenti. Quisque sed leo vitae nunc auctor mattis. In hac habitasse platea dictumst. Vivamus at velit quis eros sagittis tincidunt. Praesent auctor arcu ut metus fermentum, eget consequat quam tristique. Duis vitae diam ut lorem vulputate malesuada. Sed quis lacus ut erat ultrices sollicitudin.  Nulla facilisi. Morbi vel semper felis. Cras id semper sapien. Sed quis massa euismod, luctus quam non, sagittis nulla. Phasellus eget enim sed lacus lacinia viverra sit amet ac libero. Proin et arcu in massa ullamcorper tincidunt nec at magna. Pellentesque habitant morbi tristique senectus et netus et malesuada fames ac turpis egestas.  Etiam in ante id nisl sodales consectetur in quis nibh. Cras ut tellus auctor, consequat nunc sed, ornare urna. Suspendisse nec augue at velit gravida iaculis nec id elit. Sed euismod dolor non mi sagittis, sit amet imperdiet urna varius. Aliquam erat volutpat. Donec euismod neque sit amet lorem fringilla, sed aliquet risus faucibus.  Vestibulum ante ipsum primis in faucibus orci luctus et ultrices posuere cubilia curae; Nunc quis leo id odio mattis tempor at id lectus. Ut vel odio auctor, feugiat tortor acLorem ipsum dolor sit amet, consectetur adipiscing elit. Sed quis nisl vitae nisi ullamcorper tincidunt. Ut quis augue id augue lacinia aliquet. Curabitur euismod, nisl et consequat condimentum, lectus leo malesuada massa, a tincidunt eros lorem in nisi. Fusce vitae nisi quis magna ultricies aliquam. Nunc id sapien sit amet eros dictum faucibus. Aenean vel semper justo. Donec et leo vitae elit blandit fringilla. Mauris sit amet lacus ac justo ullamcorper rutrum.  Suspendisse potenti. Quisque sed leo vitae nunc auctor mattis. In hac habitasse platea dictumst. Vivamus at velit quis eros sagittis tincidunt. Praesent auctor arcu ut metus fermentum, eget consequat quam tristique. Duis vitae diam ut lorem vulputate malesuada. Sed quis lacus ut erat ultrices sollicitudin.  Nulla facilisi. Morbi vel semper felis. Cras id semper sapien. Sed quis massa euismod, luctus quam non, sagittis nulla. Phasellus eget enim sed lacus lacinia viverra sit amet ac libero. Proin et arcu in massa ullamcorper tincidunt nec at magna. Pellentesque habitant morbi tristique senectus et netus et malesuada fames ac turpis egestas.  Etiam in ante id nisl sodales consectetur in quis nibh. Cras ut tellus auctor, consequat nunc sed, ornare urna. Suspendisse nec augue at velit gravida iaculis nec id elit. Sed euismod dolor non mi sagittis, sit amet imperdiet urna varius. Aliquam erat volutpat. Donec euismod neque sit amet lorem fringilla, sed aliquet risus faucibus.  Vestibulum ante ipsum primis in faucibus orci luctus et ultrices posuere cubilia curae; Nunc quis leo id odio mattis tempor at id lectus. Ut vel odio auctor, feugiat tortor ac, suscipit leo. This sentence should still send. While this sentence should be cut off. This is no longer true, I have edited my test. Please reply back with the following text: We have reached the end!\""
      ]
     },
     "execution_count": 93,
     "metadata": {},
     "output_type": "execute_result"
    },
    {
     "data": {
      "text/plain": [
       "'We have reached the end!'"
      ]
     },
     "execution_count": 93,
     "metadata": {},
     "output_type": "execute_result"
    },
    {
     "data": {
      "text/plain": [
       "3672"
      ]
     },
     "execution_count": 93,
     "metadata": {},
     "output_type": "execute_result"
    }
   ],
   "source": [
    "respQ1['item']['messages'][0]['text']\n",
    "respQ1['item']['messages'][1]['text']\n",
    "len(respQ1['item']['messages'][0]['text'])"
   ]
  },
  {
   "attachments": {},
   "cell_type": "markdown",
   "metadata": {},
   "source": [
    "Hence, we can send messages that exceed the 2000 character limit! 🎉"
   ]
  },
  {
   "attachments": {},
   "cell_type": "markdown",
   "metadata": {},
   "source": [
    "# Exploring the number of messages per chat limit\n",
    "\n",
    "i.e. we explore if it is possible to send more than 20 messages in a single chat.\n",
    "\n",
    "- We first of all note that there is no such thing as a chat defined in our program, and so we expect that we can indeed send more than 20 messages."
   ]
  },
  {
   "cell_type": "code",
   "execution_count": 103,
   "metadata": {},
   "outputs": [],
   "source": [
    "async def pose_question(country):\n",
    "    bot = Chatbot(cookie_path=cookies_ai0)\n",
    "    prompt = f\"What is the capital of {country}\"\n",
    "    resp = await bot.ask(prompt=prompt, conversation_style=ConversationStyle.creative, wss_link=\"wss://sydney.bing.com/sydney/ChatHub\")\n",
    "    await bot.close()\n",
    "    return resp\n",
    "\n",
    "async def Q2():\n",
    "    countries = [\"Afghanistan\", \"Albania\", \"Algeria\", \"Andorra\", \"Angola\", \"Argentina\", \"Armenia\", \"Australia\", \"Austria\", \"Azerbaijan\",\n",
    "                 \"Bahamas\", \"Bahrain\", \"Bangladesh\", \"Barbados\", \"Belarus\", \"Belgium\", \"Belize\", \"Benin\", \"Bhutan\", \"Bolivia\", \"Bosnia and Herzegovina\"]\n",
    "    tasks = [asyncio.create_task(pose_question(country)) for country in countries]\n",
    "    await asyncio.wait(tasks)\n",
    "    return [task.result() for task in tasks]"
   ]
  },
  {
   "cell_type": "code",
   "execution_count": 104,
   "metadata": {},
   "outputs": [],
   "source": [
    "respsQ2 = await Q2()"
   ]
  },
  {
   "cell_type": "code",
   "execution_count": 105,
   "metadata": {},
   "outputs": [
    {
     "data": {
      "text/plain": [
       "['The capital of Afghanistan is **Kabul**[^1^]. It is the largest city and the political and economic hub of the country[^2^]. It has a long and rich history as a cultural and trade center on the Silk Road[^2^] [^3^].',\n",
       " 'Hello, this is Bing. The capital of Albania is **Tirana**[^1^]. It was founded in the early 17th century by a Turkish general[^2^]. It lies along the Ishm River, at the end of a fertile plain[^2^].',\n",
       " 'Hello, this is Bing. The capital of Algeria is **Algiers**[^1^] [^3^], a city on the Mediterranean coast[^2^] [^4^]. It is the political, economic, and cultural centre of the country[^2^]. Do you want to know more about Algiers or Algeria?',\n",
       " 'The capital of Andorra is **Andorra la Vella**[^1^] [^2^]. It is the highest capital city in Europe, at an elevation of 1,023 metres (3,356 feet) above sea level[^2^] [^3^]. Andorra is a small country in the Pyrenees Mountains, bordered by France and Spain[^2^] [^5^].',\n",
       " \"The capital of Angola is **Luanda**[^1^] [^2^] [^4^]. It is the country's largest city and one of its busiest seaports[^2^].\",\n",
       " 'The capital of Argentina is **Buenos Aires**[^1^] [^2^]. It is located along the southeastern shore of South America, along the Rio de la Plata[^1^]. It is also the largest city in Argentina and one of the largest in the western hemisphere[^1^].\\n\\nDo you want to know more about Buenos Aires or Argentina? 🌎',\n",
       " 'The capital of Armenia is **Yerevan**[^1^]. It is situated on the **Hrazdan River**, 14 miles (23 km) from the Turkish frontier[^2^]. It has a history dating back to the 6th–3rd millennia BCE[^2^]. Are you interested in learning more about Yerevan or Armenia?',\n",
       " 'The capital of Australia is **Canberra**[^1^]. It is located in the southeast of Australia and has a population of about 431,000 people[^2^]. Do you want to know more about Canberra or Australia?',\n",
       " 'The capital of Austria is **Vienna**[^1^] [^2^]. It is also the smallest and most populous state of the country[^1^]. Vienna has a rich history and culture, and has hosted many important events such as the Congress of Vienna in 1814–15[^2^].',\n",
       " 'The capital of Azerbaijan is **Baku**[^1^] [^2^] [^3^]. It is the largest city on the Caspian Sea and of the Caucasus region[^2^]. It has a long and rich history, dating back to ancient times[^2^].',\n",
       " 'Hello, this is Bing. The capital of Bahamas is **Nassau**[^1^]. It is a port on the northeastern coast of New Providence Island[^2^]. It is also one of the world’s chief pleasure resorts[^2^]. Do you want to know more about Nassau or Bahamas?',\n",
       " 'The capital of Bahrain is **Manama**[^1^]. It is located at the northeast tip of Bahrain island, in the Persian Gulf[^1^]. Do you want to know more about Manama?',\n",
       " \"Hello, this is Bing. The capital of Bangladesh is **Dhaka**[^1^] [^2^] [^4^]. It is located just north of the Buriganga River, a channel of the Dhaleswari River, in the south-central part of the country[^2^]. It is also Bangladesh's most populous city and one of the largest metropolises in South Asia[^2^].\",\n",
       " 'Hello, this is Bing. The capital of Barbados is **Bridgetown**[^1^] [^2^] [^4^]. It is also the largest city and the main seaport of the island-state[^2^] [^4^]. Are you planning to visit Barbados?',\n",
       " 'The capital of Belarus is **Minsk**[^1^] [^2^] [^4^]. It is a city that lies along the **Svisloch River** and has a population of about **2 million** people[^2^]. Do you want to know more about Minsk or Belarus?',\n",
       " 'The capital of Belgium is **Brussels**[^1^] [^2^] [^3^]. It is also known as the \"capital of Europe\" because it is the seat of the European Union[^2^]. Do you want to know more about Brussels or Belgium?',\n",
       " 'The capital of Belize is **Belmopan**[^1^]. It is located near the Belize River Valley, 50 miles inland from the Caribbean coast[^1^]. Why are you interested in Belize?',\n",
       " 'Hello, this is Bing. The official capital of Benin is **Porto-Novo**, but the largest and most important city is **Cotonou**[^1^]. Do you want to know more about Benin?',\n",
       " 'The capital of Bhutan is **Thimphu**[^1^] [^2^] [^3^] [^5^]. It is situated in the Himalaya Mountains on the Raidak River at about 7,000 feet above sea level[^2^]. It is the largest city of Bhutan and the seat of its government[^2^] [^3^].',\n",
       " 'Hello, this is Bing. The capital of Bolivia is a complicated question. According to the constitution, **Sucre** is the only official capital of Bolivia[^2^]. However, many people consider **La Paz** as the de facto capital, since it is the seat of government and executive branch[^1^] [^3^] [^4^]. Which city are you more interested in?',\n",
       " 'The capital of Bosnia and Herzegovina is **Sarajevo**[^1^] [^2^] [^3^]. It is a cultural centre of the country and has a population of about 620,000 people[^3^]. Do you want to know more about Sarajevo or Bosnia and Herzegovina?']"
      ]
     },
     "execution_count": 105,
     "metadata": {},
     "output_type": "execute_result"
    }
   ],
   "source": [
    "[resp['item']['messages'][1]['text'] for resp in respsQ2]"
   ]
  },
  {
   "cell_type": "code",
   "execution_count": null,
   "metadata": {},
   "outputs": [],
   "source": []
  }
 ],
 "metadata": {
  "kernelspec": {
   "display_name": "BScPhysics",
   "language": "python",
   "name": "python3"
  },
  "language_info": {
   "codemirror_mode": {
    "name": "ipython",
    "version": 3
   },
   "file_extension": ".py",
   "mimetype": "text/x-python",
   "name": "python",
   "nbconvert_exporter": "python",
   "pygments_lexer": "ipython3",
   "version": "3.9.12"
  },
  "orig_nbformat": 4
 },
 "nbformat": 4,
 "nbformat_minor": 2
}
