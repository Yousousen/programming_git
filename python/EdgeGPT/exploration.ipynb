{
 "cells": [
  {
   "attachments": {},
   "cell_type": "markdown",
   "metadata": {},
   "source": [
    "# Demo code"
   ]
  },
  {
   "cell_type": "code",
   "execution_count": 1,
   "metadata": {},
   "outputs": [],
   "source": [
    "import asyncio\n",
    "from EdgeGPT import Chatbot, ConversationStyle\n",
    "\n",
    "async def main():\n",
    "    bot = Chatbot(cookie_path=r\"./cookies.json\")\n",
    "    # Returns json. json loads is already called within ask.\n",
    "    resp = await bot.ask(prompt=\"Hello world\", conversation_style=ConversationStyle.creative, wss_link=\"wss://sydney.bing.com/sydney/ChatHub\")\n",
    "    await bot.close()\n",
    "    return resp\n",
    "\n",
    "\n",
    "# Following throws: RuntimeError: asyncio.run() cannot be called from a running event loop\n",
    "# B: \n",
    "# The error “RuntimeError: asyncio.run() cannot be called from a running event loop” means\n",
    "# that you are trying to use the asyncio.run() function to run an asynchronous function (main) when\n",
    "# there is already an event loop running in the same thread12. This can happen if you are using an interactive environment\n",
    "# like Jupyter Notebook or Spyder, which use IPython as their kernel and run their own event loop13\n",
    "#if __name__ == \"__main__\":\n",
    "    #asyncio.run(main())"
   ]
  },
  {
   "cell_type": "code",
   "execution_count": 2,
   "metadata": {},
   "outputs": [],
   "source": [
    "resp = await main()"
   ]
  },
  {
   "attachments": {},
   "cell_type": "markdown",
   "metadata": {},
   "source": [
    "# Exploring printing"
   ]
  },
  {
   "cell_type": "code",
   "execution_count": 3,
   "metadata": {},
   "outputs": [
    {
     "name": "stdout",
     "output_type": "stream",
     "text": [
      "Name: Bob\n",
      "Hobbies: coding, biking, reading\n"
     ]
    }
   ],
   "source": [
    "# %%script echo skipping\n",
    "import json\n",
    "# Define a JSON string\n",
    "json_str = '{\"name\": \"Bob\", \"age\": 30, \"hobbies\": [\"coding\", \"biking\", \"reading\"]}'\n",
    "# Parse the JSON string to a Python object\n",
    "py_obj = json.loads(json_str)\n",
    "# Print the name and hobbies of the person\n",
    "print(\"Name:\", py_obj[\"name\"])\n",
    "print(\"Hobbies:\", \", \".join(py_obj[\"hobbies\"]))"
   ]
  },
  {
   "cell_type": "code",
   "execution_count": 4,
   "metadata": {},
   "outputs": [
    {
     "name": "stdout",
     "output_type": "stream",
     "text": [
      "{'type': 2, 'invocationId': '0', 'item': {'messages': [{'text': 'Hello world', 'author': 'user', 'from': {'id': '1055519926842900', 'name': None}, 'createdAt': '2023-04-26T06:21:13.7061429+00:00', 'timestamp': '2023-04-26T06:21:13.7031054+00:00', 'locale': 'en-us', 'market': 'en-us', 'region': 'us', 'messageId': '7de2fb04-b247-484a-b812-bd6908203f8a', 'requestId': '7de2fb04-b247-484a-b812-bd6908203f8a', 'nlu': {'scoredClassification': {'classification': 'DEEP_LEO', 'score': None}, 'classificationRanking': [{'classification': 'DEEP_LEO', 'score': None}], 'qualifyingClassifications': None, 'ood': None, 'metaData': None, 'entities': None}, 'offense': 'None', 'feedback': {'tag': None, 'updatedOn': None, 'type': 'None'}, 'contentOrigin': 'cib', 'privacy': None, 'inputMethod': 'Keyboard'}, {'text': 'Hello, this is Bing. Welcome to the world of search and chat.😊', 'author': 'bot', 'createdAt': '2023-04-26T06:21:20.2716641+00:00', 'timestamp': '2023-04-26T06:21:20.2716641+00:00', 'messageId': '6acde7da-eab8-4c44-b854-cc743e8ae7c9', 'requestId': '7de2fb04-b247-484a-b812-bd6908203f8a', 'offense': 'None', 'adaptiveCards': [{'type': 'AdaptiveCard', 'version': '1.0', 'body': [{'type': 'TextBlock', 'text': 'Hello, this is Bing. Welcome to the world of search and chat.😊\\n', 'wrap': True}]}], 'sourceAttributions': [], 'feedback': {'tag': None, 'updatedOn': None, 'type': 'None'}, 'contentOrigin': 'DeepLeo', 'privacy': None, 'suggestedResponses': [{'text': 'What can you do?', 'author': 'user', 'createdAt': '2023-04-26T06:21:26.5298753+00:00', 'timestamp': '2023-04-26T06:21:26.5298753+00:00', 'messageId': '27681cee-07f1-416d-94e7-3b6bd07f3c73', 'messageType': 'Suggestion', 'offense': 'Unknown', 'feedback': {'tag': None, 'updatedOn': None, 'type': 'None'}, 'contentOrigin': 'DeepLeo', 'privacy': None}, {'text': 'How are you today?', 'author': 'user', 'createdAt': '2023-04-26T06:21:26.5298786+00:00', 'timestamp': '2023-04-26T06:21:26.5298786+00:00', 'messageId': 'b60c051b-7d14-4bca-81a2-fda2b62c96d3', 'messageType': 'Suggestion', 'offense': 'Unknown', 'feedback': {'tag': None, 'updatedOn': None, 'type': 'None'}, 'contentOrigin': 'DeepLeo', 'privacy': None}, {'text': 'Show me some cute cat pictures.', 'author': 'user', 'createdAt': '2023-04-26T06:21:26.5298791+00:00', 'timestamp': '2023-04-26T06:21:26.5298791+00:00', 'messageId': '64231312-66c5-46df-8ac1-1df8b471c687', 'messageType': 'Suggestion', 'offense': 'Unknown', 'feedback': {'tag': None, 'updatedOn': None, 'type': 'None'}, 'contentOrigin': 'DeepLeo', 'privacy': None}], 'spokenText': 'Hello, this is Bing. Welcome to the world of search and chat.'}], 'firstNewMessageIndex': 1, 'defaultChatName': None, 'conversationId': '51D|BingProd|AC2377F5F02B8326776F00FF95B6DC18277C8B53F9F5B741CA2C9224763362BB', 'requestId': '7de2fb04-b247-484a-b812-bd6908203f8a', 'conversationExpiryTime': '2023-04-26T12:21:26.5985158Z', 'shouldInitiateConversation': True, 'telemetry': {'metrics': None, 'startTime': '2023-04-26T06:21:13.7031711Z'}, 'throttling': {'maxNumUserMessagesInConversation': 20, 'numUserMessagesInConversation': 1}, 'result': {'value': 'Success', 'serviceVersion': '20230425.26'}}}\n"
     ]
    }
   ],
   "source": [
    "print(resp) # JSON respsone"
   ]
  },
  {
   "cell_type": "code",
   "execution_count": 5,
   "metadata": {},
   "outputs": [
    {
     "data": {
      "text/plain": [
       "3"
      ]
     },
     "execution_count": 5,
     "metadata": {},
     "output_type": "execute_result"
    },
    {
     "name": "stdout",
     "output_type": "stream",
     "text": [
      "{'invocationId': '0',\n",
      " 'item': {'conversationExpiryTime': '2023-04-26T12:21:26.5985158Z',\n",
      "          'conversationId': '51D|BingProd|AC2377F5F02B8326776F00FF95B6DC18277C8B53F9F5B741CA2C9224763362BB',\n",
      "          'defaultChatName': None,\n",
      "          'firstNewMessageIndex': 1,\n",
      "          'messages': [{'author': 'user',\n",
      "                        'contentOrigin': 'cib',\n",
      "                        'createdAt': '2023-04-26T06:21:13.7061429+00:00',\n",
      "                        'feedback': {'tag': None,\n",
      "                                     'type': 'None',\n",
      "                                     'updatedOn': None},\n",
      "                        'from': {'id': '1055519926842900', 'name': None},\n",
      "                        'inputMethod': 'Keyboard',\n",
      "                        'locale': 'en-us',\n",
      "                        'market': 'en-us',\n",
      "                        'messageId': '7de2fb04-b247-484a-b812-bd6908203f8a',\n",
      "                        'nlu': {'classificationRanking': [{'classification': 'DEEP_LEO',\n",
      "                                                           'score': None}],\n",
      "                                'entities': None,\n",
      "                                'metaData': None,\n",
      "                                'ood': None,\n",
      "                                'qualifyingClassifications': None,\n",
      "                                'scoredClassification': {'classification': 'DEEP_LEO',\n",
      "                                                         'score': None}},\n",
      "                        'offense': 'None',\n",
      "                        'privacy': None,\n",
      "                        'region': 'us',\n",
      "                        'requestId': '7de2fb04-b247-484a-b812-bd6908203f8a',\n",
      "                        'text': 'Hello world',\n",
      "                        'timestamp': '2023-04-26T06:21:13.7031054+00:00'},\n",
      "                       {'adaptiveCards': [{'body': [{'text': 'Hello, this is '\n",
      "                                                             'Bing. Welcome to '\n",
      "                                                             'the world of '\n",
      "                                                             'search and '\n",
      "                                                             'chat.😊\\n',\n",
      "                                                     'type': 'TextBlock',\n",
      "                                                     'wrap': True}],\n",
      "                                           'type': 'AdaptiveCard',\n",
      "                                           'version': '1.0'}],\n",
      "                        'author': 'bot',\n",
      "                        'contentOrigin': 'DeepLeo',\n",
      "                        'createdAt': '2023-04-26T06:21:20.2716641+00:00',\n",
      "                        'feedback': {'tag': None,\n",
      "                                     'type': 'None',\n",
      "                                     'updatedOn': None},\n",
      "                        'messageId': '6acde7da-eab8-4c44-b854-cc743e8ae7c9',\n",
      "                        'offense': 'None',\n",
      "                        'privacy': None,\n",
      "                        'requestId': '7de2fb04-b247-484a-b812-bd6908203f8a',\n",
      "                        'sourceAttributions': [],\n",
      "                        'spokenText': 'Hello, this is Bing. Welcome to the '\n",
      "                                      'world of search and chat.',\n",
      "                        'suggestedResponses': [{'author': 'user',\n",
      "                                                'contentOrigin': 'DeepLeo',\n",
      "                                                'createdAt': '2023-04-26T06:21:26.5298753+00:00',\n",
      "                                                'feedback': {'tag': None,\n",
      "                                                             'type': 'None',\n",
      "                                                             'updatedOn': None},\n",
      "                                                'messageId': '27681cee-07f1-416d-94e7-3b6bd07f3c73',\n",
      "                                                'messageType': 'Suggestion',\n",
      "                                                'offense': 'Unknown',\n",
      "                                                'privacy': None,\n",
      "                                                'text': 'What can you do?',\n",
      "                                                'timestamp': '2023-04-26T06:21:26.5298753+00:00'},\n",
      "                                               {'author': 'user',\n",
      "                                                'contentOrigin': 'DeepLeo',\n",
      "                                                'createdAt': '2023-04-26T06:21:26.5298786+00:00',\n",
      "                                                'feedback': {'tag': None,\n",
      "                                                             'type': 'None',\n",
      "                                                             'updatedOn': None},\n",
      "                                                'messageId': 'b60c051b-7d14-4bca-81a2-fda2b62c96d3',\n",
      "                                                'messageType': 'Suggestion',\n",
      "                                                'offense': 'Unknown',\n",
      "                                                'privacy': None,\n",
      "                                                'text': 'How are you today?',\n",
      "                                                'timestamp': '2023-04-26T06:21:26.5298786+00:00'},\n",
      "                                               {'author': 'user',\n",
      "                                                'contentOrigin': 'DeepLeo',\n",
      "                                                'createdAt': '2023-04-26T06:21:26.5298791+00:00',\n",
      "                                                'feedback': {'tag': None,\n",
      "                                                             'type': 'None',\n",
      "                                                             'updatedOn': None},\n",
      "                                                'messageId': '64231312-66c5-46df-8ac1-1df8b471c687',\n",
      "                                                'messageType': 'Suggestion',\n",
      "                                                'offense': 'Unknown',\n",
      "                                                'privacy': None,\n",
      "                                                'text': 'Show me some cute cat '\n",
      "                                                        'pictures.',\n",
      "                                                'timestamp': '2023-04-26T06:21:26.5298791+00:00'}],\n",
      "                        'text': 'Hello, this is Bing. Welcome to the world of '\n",
      "                                'search and chat.😊',\n",
      "                        'timestamp': '2023-04-26T06:21:20.2716641+00:00'}],\n",
      "          'requestId': '7de2fb04-b247-484a-b812-bd6908203f8a',\n",
      "          'result': {'serviceVersion': '20230425.26', 'value': 'Success'},\n",
      "          'shouldInitiateConversation': True,\n",
      "          'telemetry': {'metrics': None,\n",
      "                        'startTime': '2023-04-26T06:21:13.7031711Z'},\n",
      "          'throttling': {'maxNumUserMessagesInConversation': 20,\n",
      "                         'numUserMessagesInConversation': 1}},\n",
      " 'type': 2}\n"
     ]
    }
   ],
   "source": [
    "len(resp)\n",
    "import pprint\n",
    "pprint.pprint(resp)"
   ]
  },
  {
   "cell_type": "code",
   "execution_count": 6,
   "metadata": {},
   "outputs": [
    {
     "name": "stdout",
     "output_type": "stream",
     "text": [
      "Hello, this is Bing. Welcome to the world of search and chat.😊\n"
     ]
    }
   ],
   "source": [
    "# pprint.pprint(resp['item']['messages'][1]['text'])\n",
    "print(resp['item']['messages'][1]['text'])"
   ]
  },
  {
   "cell_type": "code",
   "execution_count": 7,
   "metadata": {},
   "outputs": [
    {
     "data": {
      "text/html": [
       "<div>\n",
       "<style scoped>\n",
       "    .dataframe tbody tr th:only-of-type {\n",
       "        vertical-align: middle;\n",
       "    }\n",
       "\n",
       "    .dataframe tbody tr th {\n",
       "        vertical-align: top;\n",
       "    }\n",
       "\n",
       "    .dataframe thead th {\n",
       "        text-align: right;\n",
       "    }\n",
       "</style>\n",
       "<table border=\"1\" class=\"dataframe\">\n",
       "  <thead>\n",
       "    <tr style=\"text-align: right;\">\n",
       "      <th></th>\n",
       "      <th>type</th>\n",
       "      <th>invocationId</th>\n",
       "      <th>item</th>\n",
       "    </tr>\n",
       "  </thead>\n",
       "  <tbody>\n",
       "    <tr>\n",
       "      <th>conversationExpiryTime</th>\n",
       "      <td>2</td>\n",
       "      <td>0</td>\n",
       "      <td>2023-04-26T12:21:26.5985158Z</td>\n",
       "    </tr>\n",
       "    <tr>\n",
       "      <th>conversationId</th>\n",
       "      <td>2</td>\n",
       "      <td>0</td>\n",
       "      <td>51D|BingProd|AC2377F5F02B8326776F00FF95B6DC182...</td>\n",
       "    </tr>\n",
       "    <tr>\n",
       "      <th>defaultChatName</th>\n",
       "      <td>2</td>\n",
       "      <td>0</td>\n",
       "      <td>None</td>\n",
       "    </tr>\n",
       "    <tr>\n",
       "      <th>firstNewMessageIndex</th>\n",
       "      <td>2</td>\n",
       "      <td>0</td>\n",
       "      <td>1</td>\n",
       "    </tr>\n",
       "    <tr>\n",
       "      <th>messages</th>\n",
       "      <td>2</td>\n",
       "      <td>0</td>\n",
       "      <td>[{'text': 'Hello world', 'author': 'user', 'fr...</td>\n",
       "    </tr>\n",
       "    <tr>\n",
       "      <th>requestId</th>\n",
       "      <td>2</td>\n",
       "      <td>0</td>\n",
       "      <td>7de2fb04-b247-484a-b812-bd6908203f8a</td>\n",
       "    </tr>\n",
       "    <tr>\n",
       "      <th>result</th>\n",
       "      <td>2</td>\n",
       "      <td>0</td>\n",
       "      <td>{'value': 'Success', 'serviceVersion': '202304...</td>\n",
       "    </tr>\n",
       "    <tr>\n",
       "      <th>shouldInitiateConversation</th>\n",
       "      <td>2</td>\n",
       "      <td>0</td>\n",
       "      <td>True</td>\n",
       "    </tr>\n",
       "    <tr>\n",
       "      <th>telemetry</th>\n",
       "      <td>2</td>\n",
       "      <td>0</td>\n",
       "      <td>{'metrics': None, 'startTime': '2023-04-26T06:...</td>\n",
       "    </tr>\n",
       "    <tr>\n",
       "      <th>throttling</th>\n",
       "      <td>2</td>\n",
       "      <td>0</td>\n",
       "      <td>{'maxNumUserMessagesInConversation': 20, 'numU...</td>\n",
       "    </tr>\n",
       "  </tbody>\n",
       "</table>\n",
       "</div>"
      ],
      "text/plain": [
       "                            type invocationId  \\\n",
       "conversationExpiryTime         2            0   \n",
       "conversationId                 2            0   \n",
       "defaultChatName                2            0   \n",
       "firstNewMessageIndex           2            0   \n",
       "messages                       2            0   \n",
       "requestId                      2            0   \n",
       "result                         2            0   \n",
       "shouldInitiateConversation     2            0   \n",
       "telemetry                      2            0   \n",
       "throttling                     2            0   \n",
       "\n",
       "                                                                         item  \n",
       "conversationExpiryTime                           2023-04-26T12:21:26.5985158Z  \n",
       "conversationId              51D|BingProd|AC2377F5F02B8326776F00FF95B6DC182...  \n",
       "defaultChatName                                                          None  \n",
       "firstNewMessageIndex                                                        1  \n",
       "messages                    [{'text': 'Hello world', 'author': 'user', 'fr...  \n",
       "requestId                                7de2fb04-b247-484a-b812-bd6908203f8a  \n",
       "result                      {'value': 'Success', 'serviceVersion': '202304...  \n",
       "shouldInitiateConversation                                               True  \n",
       "telemetry                   {'metrics': None, 'startTime': '2023-04-26T06:...  \n",
       "throttling                  {'maxNumUserMessagesInConversation': 20, 'numU...  "
      ]
     },
     "execution_count": 7,
     "metadata": {},
     "output_type": "execute_result"
    }
   ],
   "source": [
    "import pandas as pd\n",
    "df = pd.DataFrame(resp)\n",
    "df"
   ]
  },
  {
   "cell_type": "code",
   "execution_count": 8,
   "metadata": {},
   "outputs": [
    {
     "name": "stdout",
     "output_type": "stream",
     "text": [
      "+------+--------------+----------------------------------------------------------------------------------------------------------------------------------------------------------------------------------------------------------------------------------------------------------------------------------------------------------------------------------------------------------------------------------------------------------------------------------------------------------------------------------------------------------------------------------------------------------------------------------------------------------------------------------------------------------------------------------------------------------------------------------------------------------------------------------------------------------------------------------------------------------------------------------------------------------------------------------------------------------------------------------------------------------------------------------------------------------------------------------------------------------------------------------------------------------------------------------------------------------------------------------------------------------------------------------------------------------------------------------------------------------------------------------------------------------------------------------------------------------------------------------------------------------------------------------------------------------------------------------------------------------------------------------------------------------------------------------------------------------------------------------------------------------------------------------------------------------------------------------------------------------------------------------------------------------------------------------------------------------------------------------------------------------------------------------------------------------------------------------------------------------------------------------------------------------------------------------------------------------------------------------------------------------------------------------------------------------------------------------------------------------------------------------------------------------------------------------------------------------------------------------------------------------------------------------------------------------------------------------------------------------------------------------------------------------------------------------------------------------------------------------------------------------------------------------------------------------------------------------------------------------------------------------------------------------------------------------------------------------------------------------------------------------------------------------------------------------------------------------------------------------------------------------------------------------------------------------------------------------------------------------------------------+\n",
      "| type | invocationId |                                                                                                                                                                                                                                                                                                                                                                                                                                                                                                                                                                                                                                                                                                                                                                                                                                                                                                                                                                                                                                                                                                                                                                                                                                                                                                                                                                                                                                                                                                                                                                                                                        item                                                                                                                                                                                                                                                                                                                                                                                                                                                                                                                                                                                                                                                                                                                                                                                                                                                                                                                                                                                                                                                                                                                                                                                                                                                                                                                                                                                                                                                                                                                                                                                                                        |\n",
      "+------+--------------+----------------------------------------------------------------------------------------------------------------------------------------------------------------------------------------------------------------------------------------------------------------------------------------------------------------------------------------------------------------------------------------------------------------------------------------------------------------------------------------------------------------------------------------------------------------------------------------------------------------------------------------------------------------------------------------------------------------------------------------------------------------------------------------------------------------------------------------------------------------------------------------------------------------------------------------------------------------------------------------------------------------------------------------------------------------------------------------------------------------------------------------------------------------------------------------------------------------------------------------------------------------------------------------------------------------------------------------------------------------------------------------------------------------------------------------------------------------------------------------------------------------------------------------------------------------------------------------------------------------------------------------------------------------------------------------------------------------------------------------------------------------------------------------------------------------------------------------------------------------------------------------------------------------------------------------------------------------------------------------------------------------------------------------------------------------------------------------------------------------------------------------------------------------------------------------------------------------------------------------------------------------------------------------------------------------------------------------------------------------------------------------------------------------------------------------------------------------------------------------------------------------------------------------------------------------------------------------------------------------------------------------------------------------------------------------------------------------------------------------------------------------------------------------------------------------------------------------------------------------------------------------------------------------------------------------------------------------------------------------------------------------------------------------------------------------------------------------------------------------------------------------------------------------------------------------------------------------------------------------------------+\n",
      "|  2   |      0       | {'messages': [{'text': 'Hello world', 'author': 'user', 'from': {'id': '1055519926842900', 'name': None}, 'createdAt': '2023-04-26T06:21:13.7061429+00:00', 'timestamp': '2023-04-26T06:21:13.7031054+00:00', 'locale': 'en-us', 'market': 'en-us', 'region': 'us', 'messageId': '7de2fb04-b247-484a-b812-bd6908203f8a', 'requestId': '7de2fb04-b247-484a-b812-bd6908203f8a', 'nlu': {'scoredClassification': {'classification': 'DEEP_LEO', 'score': None}, 'classificationRanking': [{'classification': 'DEEP_LEO', 'score': None}], 'qualifyingClassifications': None, 'ood': None, 'metaData': None, 'entities': None}, 'offense': 'None', 'feedback': {'tag': None, 'updatedOn': None, 'type': 'None'}, 'contentOrigin': 'cib', 'privacy': None, 'inputMethod': 'Keyboard'}, {'text': 'Hello, this is Bing. Welcome to the world of search and chat.😊', 'author': 'bot', 'createdAt': '2023-04-26T06:21:20.2716641+00:00', 'timestamp': '2023-04-26T06:21:20.2716641+00:00', 'messageId': '6acde7da-eab8-4c44-b854-cc743e8ae7c9', 'requestId': '7de2fb04-b247-484a-b812-bd6908203f8a', 'offense': 'None', 'adaptiveCards': [{'type': 'AdaptiveCard', 'version': '1.0', 'body': [{'type': 'TextBlock', 'text': 'Hello, this is Bing. Welcome to the world of search and chat.😊\\n', 'wrap': True}]}], 'sourceAttributions': [], 'feedback': {'tag': None, 'updatedOn': None, 'type': 'None'}, 'contentOrigin': 'DeepLeo', 'privacy': None, 'suggestedResponses': [{'text': 'What can you do?', 'author': 'user', 'createdAt': '2023-04-26T06:21:26.5298753+00:00', 'timestamp': '2023-04-26T06:21:26.5298753+00:00', 'messageId': '27681cee-07f1-416d-94e7-3b6bd07f3c73', 'messageType': 'Suggestion', 'offense': 'Unknown', 'feedback': {'tag': None, 'updatedOn': None, 'type': 'None'}, 'contentOrigin': 'DeepLeo', 'privacy': None}, {'text': 'How are you today?', 'author': 'user', 'createdAt': '2023-04-26T06:21:26.5298786+00:00', 'timestamp': '2023-04-26T06:21:26.5298786+00:00', 'messageId': 'b60c051b-7d14-4bca-81a2-fda2b62c96d3', 'messageType': 'Suggestion', 'offense': 'Unknown', 'feedback': {'tag': None, 'updatedOn': None, 'type': 'None'}, 'contentOrigin': 'DeepLeo', 'privacy': None}, {'text': 'Show me some cute cat pictures.', 'author': 'user', 'createdAt': '2023-04-26T06:21:26.5298791+00:00', 'timestamp': '2023-04-26T06:21:26.5298791+00:00', 'messageId': '64231312-66c5-46df-8ac1-1df8b471c687', 'messageType': 'Suggestion', 'offense': 'Unknown', 'feedback': {'tag': None, 'updatedOn': None, 'type': 'None'}, 'contentOrigin': 'DeepLeo', 'privacy': None}], 'spokenText': 'Hello, this is Bing. Welcome to the world of search and chat.'}], 'firstNewMessageIndex': 1, 'defaultChatName': None, 'conversationId': '51D|BingProd|AC2377F5F02B8326776F00FF95B6DC18277C8B53F9F5B741CA2C9224763362BB', 'requestId': '7de2fb04-b247-484a-b812-bd6908203f8a', 'conversationExpiryTime': '2023-04-26T12:21:26.5985158Z', 'shouldInitiateConversation': True, 'telemetry': {'metrics': None, 'startTime': '2023-04-26T06:21:13.7031711Z'}, 'throttling': {'maxNumUserMessagesInConversation': 20, 'numUserMessagesInConversation': 1}, 'result': {'value': 'Success', 'serviceVersion': '20230425.26'}} |\n",
      "+------+--------------+----------------------------------------------------------------------------------------------------------------------------------------------------------------------------------------------------------------------------------------------------------------------------------------------------------------------------------------------------------------------------------------------------------------------------------------------------------------------------------------------------------------------------------------------------------------------------------------------------------------------------------------------------------------------------------------------------------------------------------------------------------------------------------------------------------------------------------------------------------------------------------------------------------------------------------------------------------------------------------------------------------------------------------------------------------------------------------------------------------------------------------------------------------------------------------------------------------------------------------------------------------------------------------------------------------------------------------------------------------------------------------------------------------------------------------------------------------------------------------------------------------------------------------------------------------------------------------------------------------------------------------------------------------------------------------------------------------------------------------------------------------------------------------------------------------------------------------------------------------------------------------------------------------------------------------------------------------------------------------------------------------------------------------------------------------------------------------------------------------------------------------------------------------------------------------------------------------------------------------------------------------------------------------------------------------------------------------------------------------------------------------------------------------------------------------------------------------------------------------------------------------------------------------------------------------------------------------------------------------------------------------------------------------------------------------------------------------------------------------------------------------------------------------------------------------------------------------------------------------------------------------------------------------------------------------------------------------------------------------------------------------------------------------------------------------------------------------------------------------------------------------------------------------------------------------------------------------------------------------------------------+\n"
     ]
    }
   ],
   "source": [
    "from prettytable import PrettyTable\n",
    "# Create a PrettyTable object with the keys as columns\n",
    "table = PrettyTable(resp.keys())\n",
    "# Add the values as a row\n",
    "table.add_row(resp.values())\n",
    "# Print the PrettyTable object as a table\n",
    "print(table)"
   ]
  },
  {
   "attachments": {},
   "cell_type": "markdown",
   "metadata": {},
   "source": [
    "# Exploring the message size limit.\n",
    "I.e. I want to know if my message is limited to 2000 characters here too."
   ]
  },
  {
   "cell_type": "code",
   "execution_count": 10,
   "metadata": {},
   "outputs": [],
   "source": [
    "async def Q1():\n",
    "    bot = Chatbot(cookie_path=r\"./cookies.json\")\n",
    "    prompt = \"Lorem ipsum dolor sit amet, consectetur adipiscing elit. Sed quis nisl vitae nisi ullamcorper tincidunt. Ut quis augue id augue lacinia aliquet. Curabitur euismod, nisl et consequat condimentum, lectus leo malesuada massa, a tincidunt eros lorem in nisi. Fusce vitae nisi quis magna ultricies aliquam. Nunc id sapien sit amet eros dictum faucibus. Aenean vel semper justo. Donec et leo vitae elit blandit fringilla. Mauris sit amet lacus ac justo ullamcorper rutrum.  Suspendisse potenti. Quisque sed leo vitae nunc auctor mattis. In hac habitasse platea dictumst. Vivamus at velit quis eros sagittis tincidunt. Praesent auctor arcu ut metus fermentum, eget consequat quam tristique. Duis vitae diam ut lorem vulputate malesuada. Sed quis lacus ut erat ultrices sollicitudin.  Nulla facilisi. Morbi vel semper felis. Cras id semper sapien. Sed quis massa euismod, luctus quam non, sagittis nulla. Phasellus eget enim sed lacus lacinia viverra sit amet ac libero. Proin et arcu in massa ullamcorper tincidunt nec at magna. Pellentesque habitant morbi tristique senectus et netus et malesuada fames ac turpis egestas.  Etiam in ante id nisl sodales consectetur in quis nibh. Cras ut tellus auctor, consequat nunc sed, ornare urna. Suspendisse nec augue at velit gravida iaculis nec id elit. Sed euismod dolor non mi sagittis, sit amet imperdiet urna varius. Aliquam erat volutpat. Donec euismod neque sit amet lorem fringilla, sed aliquet risus faucibus.  Vestibulum ante ipsum primis in faucibus orci luctus et ultrices posuere cubilia curae; Nunc quis leo id odio mattis tempor at id lectus. Ut vel odio auctor, feugiat tortor ac, suscipit leo. This sentence should still send. While this sentence should be cut off.\"\n",
    "    resp_Q1 = await bot.ask(prompt=prompt, conversation_style=ConversationStyle.creative, wss_link=\"wss://sydney.bing.com/sydney/ChatHub\")\n",
    "    await bot.close()\n",
    "    return resp_Q1"
   ]
  },
  {
   "cell_type": "code",
   "execution_count": 11,
   "metadata": {},
   "outputs": [
    {
     "name": "stdout",
     "output_type": "stream",
     "text": [
      "{'invocationId': '0',\n",
      " 'item': {'conversationExpiryTime': '2023-04-26T12:21:26.5985158Z',\n",
      "          'conversationId': '51D|BingProd|AC2377F5F02B8326776F00FF95B6DC18277C8B53F9F5B741CA2C9224763362BB',\n",
      "          'defaultChatName': None,\n",
      "          'firstNewMessageIndex': 1,\n",
      "          'messages': [{'author': 'user',\n",
      "                        'contentOrigin': 'cib',\n",
      "                        'createdAt': '2023-04-26T06:21:13.7061429+00:00',\n",
      "                        'feedback': {'tag': None,\n",
      "                                     'type': 'None',\n",
      "                                     'updatedOn': None},\n",
      "                        'from': {'id': '1055519926842900', 'name': None},\n",
      "                        'inputMethod': 'Keyboard',\n",
      "                        'locale': 'en-us',\n",
      "                        'market': 'en-us',\n",
      "                        'messageId': '7de2fb04-b247-484a-b812-bd6908203f8a',\n",
      "                        'nlu': {'classificationRanking': [{'classification': 'DEEP_LEO',\n",
      "                                                           'score': None}],\n",
      "                                'entities': None,\n",
      "                                'metaData': None,\n",
      "                                'ood': None,\n",
      "                                'qualifyingClassifications': None,\n",
      "                                'scoredClassification': {'classification': 'DEEP_LEO',\n",
      "                                                         'score': None}},\n",
      "                        'offense': 'None',\n",
      "                        'privacy': None,\n",
      "                        'region': 'us',\n",
      "                        'requestId': '7de2fb04-b247-484a-b812-bd6908203f8a',\n",
      "                        'text': 'Hello world',\n",
      "                        'timestamp': '2023-04-26T06:21:13.7031054+00:00'},\n",
      "                       {'adaptiveCards': [{'body': [{'text': 'Hello, this is '\n",
      "                                                             'Bing. Welcome to '\n",
      "                                                             'the world of '\n",
      "                                                             'search and '\n",
      "                                                             'chat.😊\\n',\n",
      "                                                     'type': 'TextBlock',\n",
      "                                                     'wrap': True}],\n",
      "                                           'type': 'AdaptiveCard',\n",
      "                                           'version': '1.0'}],\n",
      "                        'author': 'bot',\n",
      "                        'contentOrigin': 'DeepLeo',\n",
      "                        'createdAt': '2023-04-26T06:21:20.2716641+00:00',\n",
      "                        'feedback': {'tag': None,\n",
      "                                     'type': 'None',\n",
      "                                     'updatedOn': None},\n",
      "                        'messageId': '6acde7da-eab8-4c44-b854-cc743e8ae7c9',\n",
      "                        'offense': 'None',\n",
      "                        'privacy': None,\n",
      "                        'requestId': '7de2fb04-b247-484a-b812-bd6908203f8a',\n",
      "                        'sourceAttributions': [],\n",
      "                        'spokenText': 'Hello, this is Bing. Welcome to the '\n",
      "                                      'world of search and chat.',\n",
      "                        'suggestedResponses': [{'author': 'user',\n",
      "                                                'contentOrigin': 'DeepLeo',\n",
      "                                                'createdAt': '2023-04-26T06:21:26.5298753+00:00',\n",
      "                                                'feedback': {'tag': None,\n",
      "                                                             'type': 'None',\n",
      "                                                             'updatedOn': None},\n",
      "                                                'messageId': '27681cee-07f1-416d-94e7-3b6bd07f3c73',\n",
      "                                                'messageType': 'Suggestion',\n",
      "                                                'offense': 'Unknown',\n",
      "                                                'privacy': None,\n",
      "                                                'text': 'What can you do?',\n",
      "                                                'timestamp': '2023-04-26T06:21:26.5298753+00:00'},\n",
      "                                               {'author': 'user',\n",
      "                                                'contentOrigin': 'DeepLeo',\n",
      "                                                'createdAt': '2023-04-26T06:21:26.5298786+00:00',\n",
      "                                                'feedback': {'tag': None,\n",
      "                                                             'type': 'None',\n",
      "                                                             'updatedOn': None},\n",
      "                                                'messageId': 'b60c051b-7d14-4bca-81a2-fda2b62c96d3',\n",
      "                                                'messageType': 'Suggestion',\n",
      "                                                'offense': 'Unknown',\n",
      "                                                'privacy': None,\n",
      "                                                'text': 'How are you today?',\n",
      "                                                'timestamp': '2023-04-26T06:21:26.5298786+00:00'},\n",
      "                                               {'author': 'user',\n",
      "                                                'contentOrigin': 'DeepLeo',\n",
      "                                                'createdAt': '2023-04-26T06:21:26.5298791+00:00',\n",
      "                                                'feedback': {'tag': None,\n",
      "                                                             'type': 'None',\n",
      "                                                             'updatedOn': None},\n",
      "                                                'messageId': '64231312-66c5-46df-8ac1-1df8b471c687',\n",
      "                                                'messageType': 'Suggestion',\n",
      "                                                'offense': 'Unknown',\n",
      "                                                'privacy': None,\n",
      "                                                'text': 'Show me some cute cat '\n",
      "                                                        'pictures.',\n",
      "                                                'timestamp': '2023-04-26T06:21:26.5298791+00:00'}],\n",
      "                        'text': 'Hello, this is Bing. Welcome to the world of '\n",
      "                                'search and chat.😊',\n",
      "                        'timestamp': '2023-04-26T06:21:20.2716641+00:00'}],\n",
      "          'requestId': '7de2fb04-b247-484a-b812-bd6908203f8a',\n",
      "          'result': {'serviceVersion': '20230425.26', 'value': 'Success'},\n",
      "          'shouldInitiateConversation': True,\n",
      "          'telemetry': {'metrics': None,\n",
      "                        'startTime': '2023-04-26T06:21:13.7031711Z'},\n",
      "          'throttling': {'maxNumUserMessagesInConversation': 20,\n",
      "                         'numUserMessagesInConversation': 1}},\n",
      " 'type': 2}\n"
     ]
    }
   ],
   "source": [
    "resp_Q1 = await Q1()\n",
    "import pprint\n",
    "pprint.pprint(resp)"
   ]
  }
 ],
 "metadata": {
  "kernelspec": {
   "display_name": "BScPhysics",
   "language": "python",
   "name": "python3"
  },
  "language_info": {
   "codemirror_mode": {
    "name": "ipython",
    "version": 3
   },
   "file_extension": ".py",
   "mimetype": "text/x-python",
   "name": "python",
   "nbconvert_exporter": "python",
   "pygments_lexer": "ipython3",
   "version": "3.10.10"
  },
  "orig_nbformat": 4
 },
 "nbformat": 4,
 "nbformat_minor": 2
}
